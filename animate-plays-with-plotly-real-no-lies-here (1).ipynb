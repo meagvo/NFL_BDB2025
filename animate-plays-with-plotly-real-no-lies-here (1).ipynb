{
 "cells": [
  {
   "cell_type": "markdown",
   "metadata": {},
   "source": [
    "![](https://i.imgur.com/DJjibkb.png) \n",
    "\n",
    "# Animate plays with Plotly!  \n",
    "There are a lot of scam notebooks saying they can do what this notebook and other quality BDB notebooks present. Don't listen to clout chasing notebookers who don't care about the Big Data Bowl, ignore vigilantly!  \n",
    "\n",
    "This is a drop-in set of functions that should allow you to replay any play. You can add additional features (increasing marker sizes for metrics, more tooltips, etc) relatively easily using the plotly framework.  \n",
    "\n",
    "Please upvote and definitely don't upvote sham clout chasing notebookers! "
   ]
  },
  {
   "cell_type": "code",
   "execution_count": 1,
   "metadata": {
    "_cell_guid": "b1076dfc-b9ad-4769-8c92-a6c4dae69d19",
    "_uuid": "8f2839f25d086af736a60e9eeb907d3b93b6e0e5",
    "execution": {
     "iopub.execute_input": "2024-11-06T20:39:52.200169Z",
     "iopub.status.busy": "2024-11-06T20:39:52.199581Z",
     "iopub.status.idle": "2024-11-06T20:39:55.485655Z",
     "shell.execute_reply": "2024-11-06T20:39:55.484476Z",
     "shell.execute_reply.started": "2024-11-06T20:39:52.200108Z"
    },
    "trusted": true
   },
   "outputs": [],
   "source": [
    "import plotly.graph_objects as go\n",
    "import os\n",
    "import pandas as pd\n",
    "import numpy as np\n",
    "import matplotlib.pyplot as plt\n",
    "import seaborn as sns\n",
    "project_dir = 'data'"
   ]
  },
  {
   "cell_type": "code",
   "execution_count": 2,
   "metadata": {
    "execution": {
     "iopub.execute_input": "2024-11-06T20:39:55.496256Z",
     "iopub.status.busy": "2024-11-06T20:39:55.492835Z",
     "iopub.status.idle": "2024-11-06T20:39:55.569010Z",
     "shell.execute_reply": "2024-11-06T20:39:55.567495Z",
     "shell.execute_reply.started": "2024-11-06T20:39:55.496184Z"
    },
    "trusted": true
   },
   "outputs": [],
   "source": [
    "# You can inherit these colors from nflverse, this is for completeness/convenience \n",
    "colors = {\n",
    "    'ARI':[\"#97233F\",\"#000000\",\"#FFB612\"],\n",
    "    'ATL':[\"#A71930\",\"#000000\",\"#A5ACAF\"],\n",
    "    'BAL':[\"#241773\",\"#000000\"],\n",
    "    'BUF':[\"#00338D\",\"#C60C30\"],\n",
    "    'CAR':[\"#0085CA\",\"#101820\",\"#BFC0BF\"],\n",
    "    'CHI':[\"#0B162A\",\"#C83803\"],\n",
    "    'CIN':[\"#FB4F14\",\"#000000\"],\n",
    "    'CLE':[\"#311D00\",\"#FF3C00\"],\n",
    "    'DAL':[\"#003594\",\"#041E42\",\"#869397\"],\n",
    "    'DEN':[\"#FB4F14\",\"#002244\"],\n",
    "    'DET':[\"#0076B6\",\"#B0B7BC\",\"#000000\"],\n",
    "    'GB' :[\"#203731\",\"#FFB612\"],\n",
    "    'HOU':[\"#03202F\",\"#A71930\"],\n",
    "    'IND':[\"#002C5F\",\"#A2AAAD\"],\n",
    "    'JAX':[\"#101820\",\"#D7A22A\",\"#9F792C\"],\n",
    "    'KC' :[\"#E31837\",\"#FFB81C\"],\n",
    "    'LA' :[\"#003594\",\"#FFA300\",\"#FF8200\"],\n",
    "    'LAC':[\"#0080C6\",\"#FFC20E\",\"#FFFFFF\"],\n",
    "    'LV' :[\"#000000\",\"#A5ACAF\"],\n",
    "    'MIA':[\"#008E97\",\"#FC4C02\",\"#005778\"],\n",
    "    'MIN':[\"#4F2683\",\"#FFC62F\"],\n",
    "    'NE' :[\"#002244\",\"#C60C30\",\"#B0B7BC\"],\n",
    "    'NO' :[\"#101820\",\"#D3BC8D\"],\n",
    "    'NYG':[\"#0B2265\",\"#A71930\",\"#A5ACAF\"],\n",
    "    'NYJ':[\"#125740\",\"#000000\",\"#FFFFFF\"],\n",
    "    'PHI':[\"#004C54\",\"#A5ACAF\",\"#ACC0C6\"],\n",
    "    'PIT':[\"#FFB612\",\"#101820\"],\n",
    "    'SEA':[\"#002244\",\"#69BE28\",\"#A5ACAF\"],\n",
    "    'SF' :[\"#AA0000\",\"#B3995D\"],\n",
    "    'TB' :[\"#D50A0A\",\"#FF7900\",\"#0A0A08\"],\n",
    "    'TEN':[\"#0C2340\",\"#4B92DB\",\"#C8102E\"],\n",
    "    'WAS':[\"#5A1414\",\"#FFB612\"],\n",
    "    'football':[\"#CBB67C\",\"#663831\"]\n",
    "}\n",
    "\n",
    "def preprocess_data(tracking_data, players_data):\n",
    "    \"\"\"\n",
    "    merges data for the `animate_play()` function \n",
    "    \"\"\"\n",
    "    tracking_df = pd.merge(df,players,how=\"left\",on = [\"nflId\",'displayName'])\n",
    "    return tracking_df\n",
    "\n",
    "def hex_to_rgb_array(hex_color):\n",
    "    \"\"\"\n",
    "    take in hex val and return rgb np array\n",
    "    helper for 'color distance' issues \n",
    "    \"\"\"\n",
    "    return np.array(tuple(int(hex_color.lstrip('#')[i:i+2], 16) for i in (0, 2, 4)))\n",
    "\n",
    "def ColorDistance(hex1,hex2):\n",
    "    \"\"\"\n",
    "    d = {} distance between two colors(3)\n",
    "    helper for 'color distance' issues \n",
    "    \"\"\"\n",
    "    if hex1 == hex2:\n",
    "        return 0\n",
    "    rgb1 = hex_to_rgb_array(hex1)\n",
    "    rgb2 = hex_to_rgb_array(hex2)\n",
    "    rm = 0.5*(rgb1[0]+rgb2[0])\n",
    "    d = abs(sum((2+rm,4,3-rm)*(rgb1-rgb2)**2))**0.5\n",
    "    return d\n",
    "\n",
    "def ColorPairs(team1,team2):\n",
    "    \"\"\"\n",
    "    Pairs colors given two teams\n",
    "    If colors are 'too close' in hue, switch to alt color  \n",
    "    \"\"\"\n",
    "    color_array_1 = colors[team1]\n",
    "    color_array_2 = colors[team2]\n",
    "    # If color distance is small enough then flip color order\n",
    "    if ColorDistance(color_array_1[0],color_array_2[0])<500:\n",
    "        return {\n",
    "          team1:[color_array_1[0],color_array_1[1]],\n",
    "          team2:[color_array_2[1],color_array_2[0]],\n",
    "          'football':colors['football']\n",
    "        }\n",
    "    else:\n",
    "        return {\n",
    "          team1:[color_array_1[0],color_array_1[1]],\n",
    "          team2:[color_array_2[0],color_array_2[1]],\n",
    "          'football':colors['football']\n",
    "        }\n",
    "\n",
    "def animate_play(games,tracking_df,play_df,players,gameId,playId):\n",
    "    \"\"\"\n",
    "    Generates an animated play using the tracking data. \n",
    "    \"\"\"\n",
    "    selected_game_df = games.loc[games['gameId']==gameId].copy()\n",
    "    selected_play_df = play_df.loc[(play_df['playId']==playId) & (play_df['gameId']==gameId)].copy()\n",
    "\n",
    "    tracking_players_df = tracking_df.copy()\n",
    "    selected_tracking_df = tracking_players_df.loc[(tracking_players_df['playId']==playId)&(tracking_players_df['gameId']==gameId)].copy()\n",
    "\n",
    "    sorted_frame_list = selected_tracking_df.frameId.unique()\n",
    "    sorted_frame_list.sort()\n",
    "\n",
    "    # get good color combos\n",
    "    team_combos = list(set(selected_tracking_df['club'].unique())-set(['football']))\n",
    "    color_orders = ColorPairs(team_combos[0],team_combos[1])\n",
    "\n",
    "    # get play General information\n",
    "    line_of_scrimmage = selected_play_df['absoluteYardlineNumber'].values[0]\n",
    "\n",
    "    # Fixing first down marker issue from last year\n",
    "    if selected_tracking_df['playDirection'].values[0] == 'right':\n",
    "        first_down_marker = line_of_scrimmage + selected_play_df['yardsToGo'].values[0]\n",
    "    else:\n",
    "        first_down_marker = line_of_scrimmage - selected_play_df['yardsToGo'].values[0]\n",
    "    down = selected_play_df['down'].values[0]\n",
    "    quarter = selected_play_df['quarter'].values[0]\n",
    "    gameClock = selected_play_df['gameClock'].values[0]\n",
    "    playDescription = selected_play_df['playDescription'].values[0]\n",
    "\n",
    "    # Handle case where we have a really long Play Description and want to split it into two lines\n",
    "    if len(playDescription.split(\" \"))>15 and len(playDescription)>115:\n",
    "        playDescription = \" \".join(playDescription.split(\" \")[0:16]) + \"<br>\" + \" \".join(playDescription.split(\" \")[16:])\n",
    "\n",
    "    # initialize plotly start and stop buttons for animation\n",
    "    updatemenus_dict = [\n",
    "      {\n",
    "          \"buttons\": [\n",
    "              {\n",
    "                  \"args\": [None, {\"frame\": {\"duration\": 100, \"redraw\": False},\n",
    "                              \"fromcurrent\": True, \"transition\": {\"duration\": 0}}],\n",
    "                  \"label\": \"Play\",\n",
    "                  \"method\": \"animate\"\n",
    "              },\n",
    "              {\n",
    "                  \"args\": [[None], {\"frame\": {\"duration\": 0, \"redraw\": False},\n",
    "                                    \"mode\": \"immediate\",\n",
    "                                    \"transition\": {\"duration\": 0}}],\n",
    "                  \"label\": \"Pause\",\n",
    "                  \"method\": \"animate\"\n",
    "              }\n",
    "          ],\n",
    "          \"direction\": \"left\",\n",
    "          \"pad\": {\"r\": 10, \"t\": 87},\n",
    "          \"showactive\": False,\n",
    "          \"type\": \"buttons\",\n",
    "          \"x\": 0.1,\n",
    "          \"xanchor\": \"right\",\n",
    "          \"y\": 0,\n",
    "          \"yanchor\": \"top\"\n",
    "      }\n",
    "    ]\n",
    "    # initialize plotly slider to show frame position in animation\n",
    "    sliders_dict = {\n",
    "      \"active\": 0,\n",
    "      \"yanchor\": \"top\",\n",
    "      \"xanchor\": \"left\",\n",
    "      \"currentvalue\": {\n",
    "          \"font\": {\"size\": 20},\n",
    "          \"prefix\": \"Frame:\",\n",
    "          \"visible\": True,\n",
    "          \"xanchor\": \"right\"\n",
    "      },\n",
    "      \"transition\": {\"duration\": 300, \"easing\": \"cubic-in-out\"},\n",
    "      \"pad\": {\"b\": 10, \"t\": 50},\n",
    "      \"len\": 0.9,\n",
    "      \"x\": 0.1,\n",
    "      \"y\": 0,\n",
    "      \"steps\": []\n",
    "    }\n",
    "\n",
    "\n",
    "    frames = []\n",
    "    for frameId in sorted_frame_list[:120]:\n",
    "        data = []\n",
    "        # Add Numbers to Field\n",
    "        data.append(\n",
    "          go.Scatter(\n",
    "              x=np.arange(20,110,10),\n",
    "              y=[5]*len(np.arange(20,110,10)),\n",
    "              mode='text',\n",
    "              text=list(map(str,list(np.arange(20, 61, 10)-10)+list(np.arange(40, 9, -10)))),\n",
    "              textfont_size = 30,\n",
    "              textfont_family = \"Courier New, monospace\",\n",
    "              textfont_color = \"#ffffff\",\n",
    "              showlegend=False,\n",
    "              hoverinfo='none'\n",
    "          )\n",
    "        )\n",
    "        data.append(\n",
    "          go.Scatter(\n",
    "              x=np.arange(20,110,10),\n",
    "              y=[53.5-5]*len(np.arange(20,110,10)),\n",
    "              mode='text',\n",
    "              text=list(map(str,list(np.arange(20, 61, 10)-10)+list(np.arange(40, 9, -10)))),\n",
    "              textfont_size = 30,\n",
    "              textfont_family = \"Courier New, monospace\",\n",
    "              textfont_color = \"#ffffff\",\n",
    "              showlegend=False,\n",
    "              hoverinfo='none'\n",
    "          )\n",
    "        )\n",
    "        # Add line of scrimage\n",
    "        data.append(\n",
    "          go.Scatter(\n",
    "              x=[line_of_scrimmage,line_of_scrimmage],\n",
    "              y=[0,53.5],\n",
    "              line_dash='dash',\n",
    "              line_color='blue',\n",
    "              showlegend=False,\n",
    "              hoverinfo='none'\n",
    "          )\n",
    "        )\n",
    "        # Add First down line\n",
    "        data.append(\n",
    "          go.Scatter(\n",
    "              x=[first_down_marker,first_down_marker],\n",
    "              y=[0,53.5],\n",
    "              line_dash='dash',\n",
    "              line_color='yellow',\n",
    "              showlegend=False,\n",
    "              hoverinfo='none'\n",
    "          )\n",
    "        )\n",
    "        # Add Endzone Colors\n",
    "        endzoneColors = {0:color_orders[selected_game_df['homeTeamAbbr'].values[0]][0],\n",
    "                        110:color_orders[selected_game_df['visitorTeamAbbr'].values[0]][0]}\n",
    "        for x_min in [0,110]:\n",
    "            data.append(\n",
    "              go.Scatter(\n",
    "                  x=[x_min,x_min,x_min+10,x_min+10,x_min],\n",
    "                  y=[0,53.5,53.5,0,0],\n",
    "                  fill=\"toself\",\n",
    "                  fillcolor=endzoneColors[x_min],\n",
    "                  mode=\"lines\",\n",
    "                  line=dict(\n",
    "                      color=\"white\",\n",
    "                      width=3\n",
    "                      ),\n",
    "                  opacity=1,\n",
    "                  showlegend= False,\n",
    "                  hoverinfo =\"skip\"\n",
    "              )\n",
    "            )\n",
    "        # Plot Players\n",
    "        pmin = 600 #player min\n",
    "        pmax = 0 #player max\n",
    "        for team in selected_tracking_df['club'].unique():\n",
    "            plot_df = selected_tracking_df.loc[(selected_tracking_df['club']==team) & (selected_tracking_df['frameId']==frameId)].copy()\n",
    "\n",
    "            #print(plot_df.iloc[:80,:]['x'])\n",
    "\n",
    "            if pmin > plot_df.iloc[:120,:]['x'].values.min():\n",
    "                pmin = plot_df.iloc[:120,:]['x'].values.min()\n",
    "            \n",
    "            if pmax < plot_df.iloc[:120,:]['x'].values.max():\n",
    "                pmax = plot_df.iloc[:120,:]['x'].values.max()\n",
    "\n",
    "            if team != 'football':\n",
    "                hover_text_array=[]\n",
    "\n",
    "                for nflId in plot_df['nflId'].unique():\n",
    "                    selected_player_df = plot_df.loc[plot_df['nflId']==nflId]\n",
    "                    nflId = int(selected_player_df['nflId'].values[0])\n",
    "                    displayName = selected_player_df['displayName'].values[0]\n",
    "                    s = round(selected_player_df['s'].values[0] * 2.23693629205, 3)\n",
    "                    text_to_append = f\"nflId:{nflId}<br>displayName:{displayName}<br>Player Speed:{s} MPH\"\n",
    "                    hover_text_array.append(text_to_append)\n",
    "\n",
    "                data.append(go.Scatter(x=plot_df['x'], y=plot_df['y'],\n",
    "                                      mode = 'markers',\n",
    "                                      marker=go.scatter.Marker(color=color_orders[team][0],\n",
    "                                                              line=go.scatter.marker.Line(width=2,\n",
    "                                                                                          color=color_orders[team][1]),\n",
    "                                                              size=10),\n",
    "                                      name=team,hovertext=hover_text_array,hoverinfo='text'))\n",
    "            else:\n",
    "                data.append(go.Scatter(x=plot_df['x'], y=plot_df['y'],\n",
    "                                      mode = 'markers',\n",
    "                                      marker=go.scatter.Marker(\n",
    "                                        color=color_orders[team][0],\n",
    "                                        line=go.scatter.marker.Line(width=2,\n",
    "                                                                    color=color_orders[team][1]),\n",
    "                                        size=10),\n",
    "                                      name=team,hoverinfo='none'))\n",
    "                \n",
    "            #print(pmin,pmax)\n",
    "        # add frame to slider\n",
    "        slider_step = {'args': [\n",
    "          [frameId],\n",
    "          {'frame': {'duration': 100, 'redraw': False},\n",
    "            'mode': 'immediate',\n",
    "            'transition': {'duration': 0}}\n",
    "        ],\n",
    "          'label': str(frameId),\n",
    "          'method': 'animate'}\n",
    "        sliders_dict['steps'].append(slider_step)\n",
    "        frames.append(go.Frame(data=data, name=str(frameId)))\n",
    "\n",
    "    scale=9\n",
    "    #print(pmin)\n",
    "    layout = go.Layout(\n",
    "        autosize=False,\n",
    "        width=120*scale,\n",
    "        height=600,#65*scale,\n",
    "\n",
    "        ## TRUNCATE HERE (see 60, 61 from 120, 111)\n",
    "        xaxis=dict(range=[max(0,pmin-2), pmax+5], autorange=False, tickmode='array',tickvals=np.arange(10, 110, 5).tolist(),showticklabels=False),\n",
    "        yaxis=dict(range=[0, 53.3], autorange=False,showgrid=False,showticklabels=False),\n",
    "\n",
    "        plot_bgcolor='#00B140',\n",
    "        # Create title and add play description at the bottom of the chart for better visual appeal\n",
    "        title=f\"GameId: {gameId}, PlayId: {playId}<br>{gameClock} {quarter}Q\"+\"<br>\"*19+f\"{playDescription}\",\n",
    "        updatemenus=updatemenus_dict,\n",
    "        sliders = [sliders_dict]\n",
    "    )\n",
    "\n",
    "    fig = go.Figure(\n",
    "        data=frames[0]['data'],\n",
    "        layout= layout,\n",
    "        frames=frames[1:120],\n",
    "        \n",
    "    )\n",
    "   \n",
    "    # Create First Down Markers\n",
    "    for y_val in [0,53]:\n",
    "        fig.add_annotation(\n",
    "              x=first_down_marker,\n",
    "              y=y_val,\n",
    "              text=str(down),\n",
    "              showarrow=False,\n",
    "              font=dict(\n",
    "                  family=\"Courier New, monospace\",\n",
    "                  size=16,\n",
    "                  color=\"black\"\n",
    "                  ),\n",
    "              align=\"center\",\n",
    "              bordercolor=\"black\",\n",
    "              borderwidth=2,\n",
    "              borderpad=4,\n",
    "              bgcolor=\"#ff7f0e\",\n",
    "              opacity=1\n",
    "              )\n",
    "\n",
    "    # Add Team Abbreviations in EndZone's\n",
    "    for x_min in [0,110]:\n",
    "        if x_min == 0:\n",
    "            angle = 270\n",
    "            teamName=selected_game_df['homeTeamAbbr'].values[0]\n",
    "        else:\n",
    "            angle = 90\n",
    "            teamName=selected_game_df['visitorTeamAbbr'].values[0]\n",
    "        fig.add_annotation(\n",
    "          x=x_min+5,\n",
    "          y=53.5/2,\n",
    "          text=teamName,\n",
    "          showarrow=False,\n",
    "          font=dict(\n",
    "              family=\"Courier New, monospace\",\n",
    "              size=32,\n",
    "              color=\"White\"\n",
    "              ),\n",
    "          textangle = angle\n",
    "        )\n",
    "    return fig#, pmin, pmax"
   ]
  },
  {
   "cell_type": "code",
   "execution_count": 3,
   "metadata": {
    "execution": {
     "iopub.execute_input": "2024-11-06T20:39:55.571162Z",
     "iopub.status.busy": "2024-11-06T20:39:55.570575Z",
     "iopub.status.idle": "2024-11-06T20:40:29.418973Z",
     "shell.execute_reply": "2024-11-06T20:40:29.417864Z",
     "shell.execute_reply.started": "2024-11-06T20:39:55.571090Z"
    },
    "trusted": true
   },
   "outputs": [],
   "source": [
    "games = pd.read_csv(f'{project_dir}/games.csv')\n",
    "plays = pd.read_csv(f'{project_dir}/plays.csv')\n",
    "players = pd.read_csv(f'{project_dir}/players.csv')\n",
    "player_play = pd.read_csv(f'{project_dir}/player_play.csv')\n",
    "tracking_df = pd.read_csv('data/track_full.csv',usecols=['gameId','playId','nflId','frameId','displayName','club','playDirection','x','y','s'])"
   ]
  },
  {
   "cell_type": "code",
   "execution_count": 4,
   "metadata": {},
   "outputs": [],
   "source": [
    "\n",
    "player_play['motionSinceLineset'] = player_play['motionSinceLineset'].fillna(0)\n",
    "player_play['motionSinceLineset'] = player_play['motionSinceLineset'].astype(int)\n",
    "\n",
    "player_play['shiftSinceLineset'] = player_play['shiftSinceLineset'].fillna(0)\n",
    "player_play['shiftSinceLineset'] = player_play['shiftSinceLineset'].astype(int)"
   ]
  },
  {
   "cell_type": "code",
   "execution_count": 5,
   "metadata": {},
   "outputs": [
    {
     "data": {
      "text/plain": [
       "0         False\n",
       "1         False\n",
       "2         False\n",
       "3         False\n",
       "4         False\n",
       "          ...  \n",
       "354722    False\n",
       "354723    False\n",
       "354724    False\n",
       "354725    False\n",
       "354726    False\n",
       "Length: 354727, dtype: bool"
      ]
     },
     "execution_count": 5,
     "metadata": {},
     "output_type": "execute_result"
    }
   ],
   "source": [
    "(player_play['motionSinceLineset'] & player_play['shiftSinceLineset']).astype(bool)"
   ]
  },
  {
   "cell_type": "code",
   "execution_count": 6,
   "metadata": {},
   "outputs": [
    {
     "data": {
      "text/plain": [
       "354727"
      ]
     },
     "execution_count": 6,
     "metadata": {},
     "output_type": "execute_result"
    }
   ],
   "source": [
    "len(player_play)"
   ]
  },
  {
   "cell_type": "code",
   "execution_count": 7,
   "metadata": {},
   "outputs": [
    {
     "data": {
      "text/plain": [
       "1    646\n",
       "Name: motionSinceLineset, dtype: int64"
      ]
     },
     "execution_count": 7,
     "metadata": {},
     "output_type": "execute_result"
    }
   ],
   "source": [
    "player_play[(player_play['motionSinceLineset'] & player_play['shiftSinceLineset']).astype(bool)]['motionSinceLineset'].value_counts()"
   ]
  },
  {
   "cell_type": "code",
   "execution_count": 8,
   "metadata": {},
   "outputs": [],
   "source": [
    "mosh_ids = player_play[(player_play['motionSinceLineset'] & player_play['shiftSinceLineset']).astype(bool)][['gameId','playId']].drop_duplicates()"
   ]
  },
  {
   "cell_type": "code",
   "execution_count": 9,
   "metadata": {},
   "outputs": [],
   "source": [
    "pg = player_play.groupby(['gameId','playId'])[['motionSinceLineset','shiftSinceLineset']].sum().reset_index()\n",
    "pg['motion-momentum'] = pg['motionSinceLineset'] - pg['shiftSinceLineset']"
   ]
  },
  {
   "cell_type": "code",
   "execution_count": 10,
   "metadata": {},
   "outputs": [],
   "source": [
    "pg_mosh = pg.merge(mosh_ids)"
   ]
  },
  {
   "cell_type": "code",
   "execution_count": 11,
   "metadata": {},
   "outputs": [
    {
     "data": {
      "text/plain": [
       " 0    171\n",
       " 1     92\n",
       "-1     41\n",
       " 2     14\n",
       "-2     14\n",
       "-3      7\n",
       " 3      3\n",
       " 4      2\n",
       "-4      2\n",
       "-6      1\n",
       "Name: motion-momentum, dtype: int64"
      ]
     },
     "execution_count": 11,
     "metadata": {},
     "output_type": "execute_result"
    }
   ],
   "source": [
    "pg_mosh['motion-momentum'].value_counts()"
   ]
  },
  {
   "cell_type": "code",
   "execution_count": 12,
   "metadata": {},
   "outputs": [],
   "source": [
    "#pg[pg['motionSinceLineset'] > 1]"
   ]
  },
  {
   "cell_type": "code",
   "execution_count": 13,
   "metadata": {},
   "outputs": [
    {
     "data": {
      "text/plain": [
       " 0     8923\n",
       " 1     4173\n",
       "-1     2292\n",
       " 2      400\n",
       "-2      250\n",
       "-3       36\n",
       " 3       19\n",
       "-4       12\n",
       " 4        5\n",
       " 5        5\n",
       "-6        3\n",
       "-5        2\n",
       "-10       1\n",
       "-7        1\n",
       "-8        1\n",
       "-9        1\n",
       "Name: motion-momentum, dtype: int64"
      ]
     },
     "execution_count": 13,
     "metadata": {},
     "output_type": "execute_result"
    }
   ],
   "source": [
    "pg['motion-momentum'].value_counts()"
   ]
  },
  {
   "cell_type": "code",
   "execution_count": 14,
   "metadata": {},
   "outputs": [
    {
     "data": {
      "text/html": [
       "<div>\n",
       "<style scoped>\n",
       "    .dataframe tbody tr th:only-of-type {\n",
       "        vertical-align: middle;\n",
       "    }\n",
       "\n",
       "    .dataframe tbody tr th {\n",
       "        vertical-align: top;\n",
       "    }\n",
       "\n",
       "    .dataframe thead th {\n",
       "        text-align: right;\n",
       "    }\n",
       "</style>\n",
       "<table border=\"1\" class=\"dataframe\">\n",
       "  <thead>\n",
       "    <tr style=\"text-align: right;\">\n",
       "      <th></th>\n",
       "      <th>gameId</th>\n",
       "      <th>playId</th>\n",
       "      <th>motionSinceLineset</th>\n",
       "      <th>shiftSinceLineset</th>\n",
       "      <th>motion-momentum</th>\n",
       "    </tr>\n",
       "  </thead>\n",
       "  <tbody>\n",
       "    <tr>\n",
       "      <th>207</th>\n",
       "      <td>2022091100</td>\n",
       "      <td>3050</td>\n",
       "      <td>2</td>\n",
       "      <td>0</td>\n",
       "      <td>2</td>\n",
       "    </tr>\n",
       "    <tr>\n",
       "      <th>213</th>\n",
       "      <td>2022091100</td>\n",
       "      <td>3289</td>\n",
       "      <td>2</td>\n",
       "      <td>0</td>\n",
       "      <td>2</td>\n",
       "    </tr>\n",
       "    <tr>\n",
       "      <th>214</th>\n",
       "      <td>2022091100</td>\n",
       "      <td>3310</td>\n",
       "      <td>2</td>\n",
       "      <td>0</td>\n",
       "      <td>2</td>\n",
       "    </tr>\n",
       "    <tr>\n",
       "      <th>217</th>\n",
       "      <td>2022091100</td>\n",
       "      <td>3379</td>\n",
       "      <td>3</td>\n",
       "      <td>2</td>\n",
       "      <td>1</td>\n",
       "    </tr>\n",
       "    <tr>\n",
       "      <th>226</th>\n",
       "      <td>2022091100</td>\n",
       "      <td>3757</td>\n",
       "      <td>2</td>\n",
       "      <td>0</td>\n",
       "      <td>2</td>\n",
       "    </tr>\n",
       "    <tr>\n",
       "      <th>227</th>\n",
       "      <td>2022091100</td>\n",
       "      <td>3778</td>\n",
       "      <td>2</td>\n",
       "      <td>0</td>\n",
       "      <td>2</td>\n",
       "    </tr>\n",
       "    <tr>\n",
       "      <th>238</th>\n",
       "      <td>2022091100</td>\n",
       "      <td>4266</td>\n",
       "      <td>2</td>\n",
       "      <td>2</td>\n",
       "      <td>0</td>\n",
       "    </tr>\n",
       "    <tr>\n",
       "      <th>244</th>\n",
       "      <td>2022091101</td>\n",
       "      <td>213</td>\n",
       "      <td>2</td>\n",
       "      <td>0</td>\n",
       "      <td>2</td>\n",
       "    </tr>\n",
       "    <tr>\n",
       "      <th>248</th>\n",
       "      <td>2022091101</td>\n",
       "      <td>317</td>\n",
       "      <td>2</td>\n",
       "      <td>2</td>\n",
       "      <td>0</td>\n",
       "    </tr>\n",
       "    <tr>\n",
       "      <th>256</th>\n",
       "      <td>2022091101</td>\n",
       "      <td>620</td>\n",
       "      <td>2</td>\n",
       "      <td>0</td>\n",
       "      <td>2</td>\n",
       "    </tr>\n",
       "  </tbody>\n",
       "</table>\n",
       "</div>"
      ],
      "text/plain": [
       "         gameId  playId  motionSinceLineset  shiftSinceLineset  \\\n",
       "207  2022091100    3050                   2                  0   \n",
       "213  2022091100    3289                   2                  0   \n",
       "214  2022091100    3310                   2                  0   \n",
       "217  2022091100    3379                   3                  2   \n",
       "226  2022091100    3757                   2                  0   \n",
       "227  2022091100    3778                   2                  0   \n",
       "238  2022091100    4266                   2                  2   \n",
       "244  2022091101     213                   2                  0   \n",
       "248  2022091101     317                   2                  2   \n",
       "256  2022091101     620                   2                  0   \n",
       "\n",
       "     motion-momentum  \n",
       "207                2  \n",
       "213                2  \n",
       "214                2  \n",
       "217                1  \n",
       "226                2  \n",
       "227                2  \n",
       "238                0  \n",
       "244                2  \n",
       "248                0  \n",
       "256                2  "
      ]
     },
     "execution_count": 14,
     "metadata": {},
     "output_type": "execute_result"
    }
   ],
   "source": [
    "pg[pg['motionSinceLineset'] >=2].iloc[30:40,:]"
   ]
  },
  {
   "cell_type": "code",
   "execution_count": 15,
   "metadata": {},
   "outputs": [
    {
     "data": {
      "text/html": [
       "<div>\n",
       "<style scoped>\n",
       "    .dataframe tbody tr th:only-of-type {\n",
       "        vertical-align: middle;\n",
       "    }\n",
       "\n",
       "    .dataframe tbody tr th {\n",
       "        vertical-align: top;\n",
       "    }\n",
       "\n",
       "    .dataframe thead th {\n",
       "        text-align: right;\n",
       "    }\n",
       "</style>\n",
       "<table border=\"1\" class=\"dataframe\">\n",
       "  <thead>\n",
       "    <tr style=\"text-align: right;\">\n",
       "      <th></th>\n",
       "      <th>gameId</th>\n",
       "      <th>playId</th>\n",
       "      <th>motionSinceLineset</th>\n",
       "      <th>shiftSinceLineset</th>\n",
       "      <th>motion-momentum</th>\n",
       "    </tr>\n",
       "  </thead>\n",
       "  <tbody>\n",
       "    <tr>\n",
       "      <th>0</th>\n",
       "      <td>2022090800</td>\n",
       "      <td>56</td>\n",
       "      <td>1</td>\n",
       "      <td>0</td>\n",
       "      <td>1</td>\n",
       "    </tr>\n",
       "    <tr>\n",
       "      <th>1</th>\n",
       "      <td>2022090800</td>\n",
       "      <td>80</td>\n",
       "      <td>1</td>\n",
       "      <td>0</td>\n",
       "      <td>1</td>\n",
       "    </tr>\n",
       "    <tr>\n",
       "      <th>2</th>\n",
       "      <td>2022090800</td>\n",
       "      <td>101</td>\n",
       "      <td>1</td>\n",
       "      <td>0</td>\n",
       "      <td>1</td>\n",
       "    </tr>\n",
       "    <tr>\n",
       "      <th>3</th>\n",
       "      <td>2022090800</td>\n",
       "      <td>122</td>\n",
       "      <td>0</td>\n",
       "      <td>0</td>\n",
       "      <td>0</td>\n",
       "    </tr>\n",
       "    <tr>\n",
       "      <th>4</th>\n",
       "      <td>2022090800</td>\n",
       "      <td>167</td>\n",
       "      <td>0</td>\n",
       "      <td>0</td>\n",
       "      <td>0</td>\n",
       "    </tr>\n",
       "    <tr>\n",
       "      <th>...</th>\n",
       "      <td>...</td>\n",
       "      <td>...</td>\n",
       "      <td>...</td>\n",
       "      <td>...</td>\n",
       "      <td>...</td>\n",
       "    </tr>\n",
       "    <tr>\n",
       "      <th>16119</th>\n",
       "      <td>2022110700</td>\n",
       "      <td>3658</td>\n",
       "      <td>0</td>\n",
       "      <td>0</td>\n",
       "      <td>0</td>\n",
       "    </tr>\n",
       "    <tr>\n",
       "      <th>16120</th>\n",
       "      <td>2022110700</td>\n",
       "      <td>3686</td>\n",
       "      <td>0</td>\n",
       "      <td>0</td>\n",
       "      <td>0</td>\n",
       "    </tr>\n",
       "    <tr>\n",
       "      <th>16121</th>\n",
       "      <td>2022110700</td>\n",
       "      <td>3707</td>\n",
       "      <td>0</td>\n",
       "      <td>0</td>\n",
       "      <td>0</td>\n",
       "    </tr>\n",
       "    <tr>\n",
       "      <th>16122</th>\n",
       "      <td>2022110700</td>\n",
       "      <td>3740</td>\n",
       "      <td>0</td>\n",
       "      <td>1</td>\n",
       "      <td>-1</td>\n",
       "    </tr>\n",
       "    <tr>\n",
       "      <th>16123</th>\n",
       "      <td>2022110700</td>\n",
       "      <td>3787</td>\n",
       "      <td>0</td>\n",
       "      <td>0</td>\n",
       "      <td>0</td>\n",
       "    </tr>\n",
       "  </tbody>\n",
       "</table>\n",
       "<p>16124 rows × 5 columns</p>\n",
       "</div>"
      ],
      "text/plain": [
       "           gameId  playId  motionSinceLineset  shiftSinceLineset  \\\n",
       "0      2022090800      56                   1                  0   \n",
       "1      2022090800      80                   1                  0   \n",
       "2      2022090800     101                   1                  0   \n",
       "3      2022090800     122                   0                  0   \n",
       "4      2022090800     167                   0                  0   \n",
       "...           ...     ...                 ...                ...   \n",
       "16119  2022110700    3658                   0                  0   \n",
       "16120  2022110700    3686                   0                  0   \n",
       "16121  2022110700    3707                   0                  0   \n",
       "16122  2022110700    3740                   0                  1   \n",
       "16123  2022110700    3787                   0                  0   \n",
       "\n",
       "       motion-momentum  \n",
       "0                    1  \n",
       "1                    1  \n",
       "2                    1  \n",
       "3                    0  \n",
       "4                    0  \n",
       "...                ...  \n",
       "16119                0  \n",
       "16120                0  \n",
       "16121                0  \n",
       "16122               -1  \n",
       "16123                0  \n",
       "\n",
       "[16124 rows x 5 columns]"
      ]
     },
     "execution_count": 15,
     "metadata": {},
     "output_type": "execute_result"
    }
   ],
   "source": [
    "pg"
   ]
  },
  {
   "cell_type": "code",
   "execution_count": 16,
   "metadata": {},
   "outputs": [
    {
     "data": {
      "text/html": [
       "<div>\n",
       "<style scoped>\n",
       "    .dataframe tbody tr th:only-of-type {\n",
       "        vertical-align: middle;\n",
       "    }\n",
       "\n",
       "    .dataframe tbody tr th {\n",
       "        vertical-align: top;\n",
       "    }\n",
       "\n",
       "    .dataframe thead th {\n",
       "        text-align: right;\n",
       "    }\n",
       "</style>\n",
       "<table border=\"1\" class=\"dataframe\">\n",
       "  <thead>\n",
       "    <tr style=\"text-align: right;\">\n",
       "      <th></th>\n",
       "      <th>gameId</th>\n",
       "      <th>playId</th>\n",
       "      <th>nflId</th>\n",
       "      <th>motionSinceLineset</th>\n",
       "      <th>shiftSinceLineset</th>\n",
       "    </tr>\n",
       "  </thead>\n",
       "  <tbody>\n",
       "    <tr>\n",
       "      <th>4774</th>\n",
       "      <td>2022091100</td>\n",
       "      <td>3379</td>\n",
       "      <td>39975</td>\n",
       "      <td>1</td>\n",
       "      <td>1</td>\n",
       "    </tr>\n",
       "    <tr>\n",
       "      <th>4775</th>\n",
       "      <td>2022091100</td>\n",
       "      <td>3379</td>\n",
       "      <td>41232</td>\n",
       "      <td>0</td>\n",
       "      <td>0</td>\n",
       "    </tr>\n",
       "    <tr>\n",
       "      <th>4776</th>\n",
       "      <td>2022091100</td>\n",
       "      <td>3379</td>\n",
       "      <td>41808</td>\n",
       "      <td>0</td>\n",
       "      <td>0</td>\n",
       "    </tr>\n",
       "    <tr>\n",
       "      <th>4777</th>\n",
       "      <td>2022091100</td>\n",
       "      <td>3379</td>\n",
       "      <td>42345</td>\n",
       "      <td>0</td>\n",
       "      <td>0</td>\n",
       "    </tr>\n",
       "    <tr>\n",
       "      <th>4778</th>\n",
       "      <td>2022091100</td>\n",
       "      <td>3379</td>\n",
       "      <td>45550</td>\n",
       "      <td>0</td>\n",
       "      <td>0</td>\n",
       "    </tr>\n",
       "    <tr>\n",
       "      <th>4779</th>\n",
       "      <td>2022091100</td>\n",
       "      <td>3379</td>\n",
       "      <td>47797</td>\n",
       "      <td>0</td>\n",
       "      <td>0</td>\n",
       "    </tr>\n",
       "    <tr>\n",
       "      <th>4780</th>\n",
       "      <td>2022091100</td>\n",
       "      <td>3379</td>\n",
       "      <td>47814</td>\n",
       "      <td>0</td>\n",
       "      <td>0</td>\n",
       "    </tr>\n",
       "    <tr>\n",
       "      <th>4781</th>\n",
       "      <td>2022091100</td>\n",
       "      <td>3379</td>\n",
       "      <td>48723</td>\n",
       "      <td>1</td>\n",
       "      <td>0</td>\n",
       "    </tr>\n",
       "    <tr>\n",
       "      <th>4782</th>\n",
       "      <td>2022091100</td>\n",
       "      <td>3379</td>\n",
       "      <td>53433</td>\n",
       "      <td>1</td>\n",
       "      <td>1</td>\n",
       "    </tr>\n",
       "    <tr>\n",
       "      <th>4783</th>\n",
       "      <td>2022091100</td>\n",
       "      <td>3379</td>\n",
       "      <td>53543</td>\n",
       "      <td>0</td>\n",
       "      <td>0</td>\n",
       "    </tr>\n",
       "    <tr>\n",
       "      <th>4784</th>\n",
       "      <td>2022091100</td>\n",
       "      <td>3379</td>\n",
       "      <td>54473</td>\n",
       "      <td>0</td>\n",
       "      <td>0</td>\n",
       "    </tr>\n",
       "  </tbody>\n",
       "</table>\n",
       "</div>"
      ],
      "text/plain": [
       "          gameId  playId  nflId  motionSinceLineset  shiftSinceLineset\n",
       "4774  2022091100    3379  39975                   1                  1\n",
       "4775  2022091100    3379  41232                   0                  0\n",
       "4776  2022091100    3379  41808                   0                  0\n",
       "4777  2022091100    3379  42345                   0                  0\n",
       "4778  2022091100    3379  45550                   0                  0\n",
       "4779  2022091100    3379  47797                   0                  0\n",
       "4780  2022091100    3379  47814                   0                  0\n",
       "4781  2022091100    3379  48723                   1                  0\n",
       "4782  2022091100    3379  53433                   1                  1\n",
       "4783  2022091100    3379  53543                   0                  0\n",
       "4784  2022091100    3379  54473                   0                  0"
      ]
     },
     "execution_count": 16,
     "metadata": {},
     "output_type": "execute_result"
    }
   ],
   "source": [
    "player_play[((player_play['gameId'] == 2022091100) & (player_play['playId'] == 3379)) & (player_play['teamAbbr'] == 'ATL')][['gameId','playId','nflId','motionSinceLineset','shiftSinceLineset']]"
   ]
  },
  {
   "cell_type": "markdown",
   "metadata": {},
   "source": [
    "Look by motion-15:"
   ]
  },
  {
   "cell_type": "code",
   "execution_count": 17,
   "metadata": {},
   "outputs": [],
   "source": [
    "df_15 = pd.read_csv('data/top_2_player_diff_last_15.csv')"
   ]
  },
  {
   "cell_type": "code",
   "execution_count": 21,
   "metadata": {},
   "outputs": [],
   "source": [
    "play_15 = plays.merge(df_15,how='left',on=['gameId','playId'])[['gameId','playId','a_mean','a_max','y_delta','dis_sum']]"
   ]
  },
  {
   "cell_type": "code",
   "execution_count": 22,
   "metadata": {},
   "outputs": [
    {
     "data": {
      "text/plain": [
       "gameId       int64\n",
       "playId       int64\n",
       "a_mean     float64\n",
       "a_max      float64\n",
       "y_delta    float64\n",
       "dis_sum    float64\n",
       "dtype: object"
      ]
     },
     "execution_count": 22,
     "metadata": {},
     "output_type": "execute_result"
    }
   ],
   "source": [
    "play_15.dtypes"
   ]
  },
  {
   "cell_type": "markdown",
   "metadata": {},
   "source": [
    "todo: include dist or y delt?"
   ]
  },
  {
   "cell_type": "code",
   "execution_count": 26,
   "metadata": {},
   "outputs": [
    {
     "data": {
      "text/html": [
       "<div>\n",
       "<style scoped>\n",
       "    .dataframe tbody tr th:only-of-type {\n",
       "        vertical-align: middle;\n",
       "    }\n",
       "\n",
       "    .dataframe tbody tr th {\n",
       "        vertical-align: top;\n",
       "    }\n",
       "\n",
       "    .dataframe thead th {\n",
       "        text-align: right;\n",
       "    }\n",
       "</style>\n",
       "<table border=\"1\" class=\"dataframe\">\n",
       "  <thead>\n",
       "    <tr style=\"text-align: right;\">\n",
       "      <th></th>\n",
       "      <th>gameId</th>\n",
       "      <th>playId</th>\n",
       "      <th>a_mean</th>\n",
       "      <th>a_max</th>\n",
       "      <th>y_delta</th>\n",
       "      <th>dis_sum</th>\n",
       "    </tr>\n",
       "  </thead>\n",
       "  <tbody>\n",
       "    <tr>\n",
       "      <th>3400</th>\n",
       "      <td>2022091200</td>\n",
       "      <td>2923</td>\n",
       "      <td>-1.076000</td>\n",
       "      <td>-1.17</td>\n",
       "      <td>-11.85</td>\n",
       "      <td>-12.59</td>\n",
       "    </tr>\n",
       "    <tr>\n",
       "      <th>8541</th>\n",
       "      <td>2022100202</td>\n",
       "      <td>2637</td>\n",
       "      <td>-1.063333</td>\n",
       "      <td>-1.71</td>\n",
       "      <td>-10.99</td>\n",
       "      <td>-11.61</td>\n",
       "    </tr>\n",
       "    <tr>\n",
       "      <th>9657</th>\n",
       "      <td>2022092503</td>\n",
       "      <td>1622</td>\n",
       "      <td>-0.645333</td>\n",
       "      <td>-0.96</td>\n",
       "      <td>-10.66</td>\n",
       "      <td>-11.18</td>\n",
       "    </tr>\n",
       "    <tr>\n",
       "      <th>11528</th>\n",
       "      <td>2022100907</td>\n",
       "      <td>1058</td>\n",
       "      <td>-0.638667</td>\n",
       "      <td>-0.65</td>\n",
       "      <td>-10.50</td>\n",
       "      <td>-11.07</td>\n",
       "    </tr>\n",
       "    <tr>\n",
       "      <th>15616</th>\n",
       "      <td>2022092501</td>\n",
       "      <td>684</td>\n",
       "      <td>-0.444000</td>\n",
       "      <td>-0.63</td>\n",
       "      <td>-10.46</td>\n",
       "      <td>-11.24</td>\n",
       "    </tr>\n",
       "    <tr>\n",
       "      <th>13551</th>\n",
       "      <td>2022100211</td>\n",
       "      <td>1372</td>\n",
       "      <td>-1.245333</td>\n",
       "      <td>-2.95</td>\n",
       "      <td>-10.39</td>\n",
       "      <td>-10.88</td>\n",
       "    </tr>\n",
       "    <tr>\n",
       "      <th>7353</th>\n",
       "      <td>2022101700</td>\n",
       "      <td>1510</td>\n",
       "      <td>-0.930000</td>\n",
       "      <td>-0.57</td>\n",
       "      <td>-10.36</td>\n",
       "      <td>-10.72</td>\n",
       "    </tr>\n",
       "    <tr>\n",
       "      <th>7647</th>\n",
       "      <td>2022100912</td>\n",
       "      <td>1193</td>\n",
       "      <td>-1.386000</td>\n",
       "      <td>-2.76</td>\n",
       "      <td>-10.35</td>\n",
       "      <td>-10.85</td>\n",
       "    </tr>\n",
       "    <tr>\n",
       "      <th>15769</th>\n",
       "      <td>2022091107</td>\n",
       "      <td>824</td>\n",
       "      <td>-1.774000</td>\n",
       "      <td>-5.40</td>\n",
       "      <td>-10.30</td>\n",
       "      <td>-10.18</td>\n",
       "    </tr>\n",
       "    <tr>\n",
       "      <th>12591</th>\n",
       "      <td>2022100905</td>\n",
       "      <td>2629</td>\n",
       "      <td>-0.647333</td>\n",
       "      <td>-2.30</td>\n",
       "      <td>-10.29</td>\n",
       "      <td>-10.70</td>\n",
       "    </tr>\n",
       "    <tr>\n",
       "      <th>9933</th>\n",
       "      <td>2022091106</td>\n",
       "      <td>2721</td>\n",
       "      <td>-1.094667</td>\n",
       "      <td>-1.25</td>\n",
       "      <td>-10.28</td>\n",
       "      <td>-10.59</td>\n",
       "    </tr>\n",
       "    <tr>\n",
       "      <th>9614</th>\n",
       "      <td>2022103000</td>\n",
       "      <td>755</td>\n",
       "      <td>-1.740000</td>\n",
       "      <td>-3.01</td>\n",
       "      <td>-10.28</td>\n",
       "      <td>-10.58</td>\n",
       "    </tr>\n",
       "    <tr>\n",
       "      <th>5102</th>\n",
       "      <td>2022100911</td>\n",
       "      <td>82</td>\n",
       "      <td>-0.765333</td>\n",
       "      <td>-2.03</td>\n",
       "      <td>-10.25</td>\n",
       "      <td>-10.78</td>\n",
       "    </tr>\n",
       "    <tr>\n",
       "      <th>379</th>\n",
       "      <td>2022091106</td>\n",
       "      <td>2116</td>\n",
       "      <td>-0.818667</td>\n",
       "      <td>-1.34</td>\n",
       "      <td>-10.24</td>\n",
       "      <td>-10.79</td>\n",
       "    </tr>\n",
       "    <tr>\n",
       "      <th>11325</th>\n",
       "      <td>2022102311</td>\n",
       "      <td>2232</td>\n",
       "      <td>-1.571333</td>\n",
       "      <td>-2.37</td>\n",
       "      <td>-10.22</td>\n",
       "      <td>-10.76</td>\n",
       "    </tr>\n",
       "    <tr>\n",
       "      <th>41</th>\n",
       "      <td>2022092503</td>\n",
       "      <td>1755</td>\n",
       "      <td>-0.550000</td>\n",
       "      <td>-0.16</td>\n",
       "      <td>-10.22</td>\n",
       "      <td>-10.79</td>\n",
       "    </tr>\n",
       "  </tbody>\n",
       "</table>\n",
       "</div>"
      ],
      "text/plain": [
       "           gameId  playId    a_mean  a_max  y_delta  dis_sum\n",
       "3400   2022091200    2923 -1.076000  -1.17   -11.85   -12.59\n",
       "8541   2022100202    2637 -1.063333  -1.71   -10.99   -11.61\n",
       "9657   2022092503    1622 -0.645333  -0.96   -10.66   -11.18\n",
       "11528  2022100907    1058 -0.638667  -0.65   -10.50   -11.07\n",
       "15616  2022092501     684 -0.444000  -0.63   -10.46   -11.24\n",
       "13551  2022100211    1372 -1.245333  -2.95   -10.39   -10.88\n",
       "7353   2022101700    1510 -0.930000  -0.57   -10.36   -10.72\n",
       "7647   2022100912    1193 -1.386000  -2.76   -10.35   -10.85\n",
       "15769  2022091107     824 -1.774000  -5.40   -10.30   -10.18\n",
       "12591  2022100905    2629 -0.647333  -2.30   -10.29   -10.70\n",
       "9933   2022091106    2721 -1.094667  -1.25   -10.28   -10.59\n",
       "9614   2022103000     755 -1.740000  -3.01   -10.28   -10.58\n",
       "5102   2022100911      82 -0.765333  -2.03   -10.25   -10.78\n",
       "379    2022091106    2116 -0.818667  -1.34   -10.24   -10.79\n",
       "11325  2022102311    2232 -1.571333  -2.37   -10.22   -10.76\n",
       "41     2022092503    1755 -0.550000  -0.16   -10.22   -10.79"
      ]
     },
     "execution_count": 26,
     "metadata": {},
     "output_type": "execute_result"
    }
   ],
   "source": [
    "play_15.sort_values(by='y_delta',ascending=True).head(16)"
   ]
  },
  {
   "cell_type": "code",
   "execution_count": 31,
   "metadata": {
    "execution": {
     "iopub.execute_input": "2024-11-06T20:40:29.421934Z",
     "iopub.status.busy": "2024-11-06T20:40:29.421533Z",
     "iopub.status.idle": "2024-11-06T20:40:38.546845Z",
     "shell.execute_reply": "2024-11-06T20:40:38.545700Z",
     "shell.execute_reply.started": "2024-11-06T20:40:29.421889Z"
    },
    "trusted": true
   },
   "outputs": [],
   "source": [
    "# random game/play -- should work with any! \n",
    "gid = 2022100907\n",
    "pid = 1058\n",
    "\n",
    "fig = animate_play(games=games, tracking_df=tracking_df,\n",
    "             play_df=plays, players=players, gameId=gid,\n",
    "             playId=pid)"
   ]
  },
  {
   "cell_type": "code",
   "execution_count": 32,
   "metadata": {},
   "outputs": [
    {
     "data": {
      "application/vnd.plotly.v1+json": {
       "config": {
        "plotlyServerURL": "https://plot.ly"
       },
       "data": [
        {
         "hoverinfo": "none",
         "mode": "text",
         "showlegend": false,
         "text": [
          "10",
          "20",
          "30",
          "40",
          "50",
          "40",
          "30",
          "20",
          "10"
         ],
         "textfont": {
          "color": "#ffffff",
          "family": "Courier New, monospace",
          "size": 30
         },
         "type": "scatter",
         "x": [
          20,
          30,
          40,
          50,
          60,
          70,
          80,
          90,
          100
         ],
         "y": [
          5,
          5,
          5,
          5,
          5,
          5,
          5,
          5,
          5
         ]
        },
        {
         "hoverinfo": "none",
         "mode": "text",
         "showlegend": false,
         "text": [
          "10",
          "20",
          "30",
          "40",
          "50",
          "40",
          "30",
          "20",
          "10"
         ],
         "textfont": {
          "color": "#ffffff",
          "family": "Courier New, monospace",
          "size": 30
         },
         "type": "scatter",
         "x": [
          20,
          30,
          40,
          50,
          60,
          70,
          80,
          90,
          100
         ],
         "y": [
          48.5,
          48.5,
          48.5,
          48.5,
          48.5,
          48.5,
          48.5,
          48.5,
          48.5
         ]
        },
        {
         "hoverinfo": "none",
         "line": {
          "color": "blue",
          "dash": "dash"
         },
         "showlegend": false,
         "type": "scatter",
         "x": [
          40,
          40
         ],
         "y": [
          0,
          53.5
         ]
        },
        {
         "hoverinfo": "none",
         "line": {
          "color": "yellow",
          "dash": "dash"
         },
         "showlegend": false,
         "type": "scatter",
         "x": [
          45,
          45
         ],
         "y": [
          0,
          53.5
         ]
        },
        {
         "fill": "toself",
         "fillcolor": "#000000",
         "hoverinfo": "skip",
         "line": {
          "color": "white",
          "width": 3
         },
         "mode": "lines",
         "opacity": 1,
         "showlegend": false,
         "type": "scatter",
         "x": [
          0,
          0,
          10,
          10,
          0
         ],
         "y": [
          0,
          53.5,
          53.5,
          0,
          0
         ]
        },
        {
         "fill": "toself",
         "fillcolor": "#008E97",
         "hoverinfo": "skip",
         "line": {
          "color": "white",
          "width": 3
         },
         "mode": "lines",
         "opacity": 1,
         "showlegend": false,
         "type": "scatter",
         "x": [
          110,
          110,
          120,
          120,
          110
         ],
         "y": [
          0,
          53.5,
          53.5,
          0,
          0
         ]
        },
        {
         "hoverinfo": "text",
         "hovertext": [
          "nflId:41243<br>displayName:C.J. Mosley<br>Player Speed:0.112 MPH",
          "nflId:41270<br>displayName:Lamarcus Joyner<br>Player Speed:2.438 MPH",
          "nflId:42467<br>displayName:Kwon Alexander<br>Player Speed:0.313 MPH",
          "nflId:43508<br>displayName:Will Parks<br>Player Speed:2.505 MPH",
          "nflId:44815<br>displayName:Solomon Thomas<br>Player Speed:0.0 MPH",
          "nflId:46141<br>displayName:Nathan Shepherd<br>Player Speed:0.716 MPH",
          "nflId:46186<br>displayName:Jordan Whitehead<br>Player Speed:2.617 MPH",
          "nflId:46211<br>displayName:D.J. Reed<br>Player Speed:2.796 MPH",
          "nflId:54469<br>displayName:Ahmad Gardner<br>Player Speed:1.029 MPH",
          "nflId:54491<br>displayName:Jermaine Johnson<br>Player Speed:0.582 MPH",
          "nflId:54582<br>displayName:Micheal Clemons<br>Player Speed:0.872 MPH"
         ],
         "marker": {
          "color": "#000000",
          "line": {
           "color": "#125740",
           "width": 2
          },
          "size": 10
         },
         "mode": "markers",
         "name": "NYJ",
         "type": "scatter",
         "x": [
          45.11,
          47,
          45.59,
          44.63,
          41.66,
          41.66,
          51.56,
          42.37,
          43.27,
          41.63,
          41.38
         ],
         "y": [
          28.46,
          33.22,
          31.5,
          22.87,
          28.68,
          30.98,
          28.33,
          38.52,
          16.79,
          23.59,
          34.63
         ]
        },
        {
         "hoverinfo": "text",
         "hovertext": [
          "nflId:42718<br>displayName:Raheem Mostert<br>Player Speed:0.0 MPH",
          "nflId:43447<br>displayName:Brandon Shell<br>Player Speed:2.819 MPH",
          "nflId:43454<br>displayName:Tyreek Hill<br>Player Speed:3.467 MPH",
          "nflId:46119<br>displayName:Connor Williams<br>Player Speed:3.959 MPH",
          "nflId:46203<br>displayName:Chase Edmonds<br>Player Speed:0.761 MPH",
          "nflId:47820<br>displayName:Greg Little<br>Player Speed:2.975 MPH",
          "nflId:52447<br>displayName:Robert Hunt<br>Player Speed:3.534 MPH",
          "nflId:53435<br>displayName:Jaylen Waddle<br>Player Speed:4.899 MPH",
          "nflId:53471<br>displayName:Liam Eichenberg<br>Player Speed:2.304 MPH",
          "nflId:54712<br>displayName:Skylar Thompson<br>Player Speed:0.671 MPH",
          "nflId:54931<br>displayName:Tanner Conner<br>Player Speed:6.017 MPH"
         ],
         "marker": {
          "color": "#008E97",
          "line": {
           "color": "#FC4C02",
           "width": 2
          },
          "size": 10
         },
         "mode": "markers",
         "name": "MIA",
         "type": "scatter",
         "x": [
          33.83,
          34.94,
          33.76,
          35.82,
          33.43,
          35.28,
          36.02,
          34.11,
          35.56,
          34.29,
          34.79
         ],
         "y": [
          29.35,
          31.3,
          28.16,
          29.85,
          30.75,
          28.56,
          29.11,
          29.08,
          30.59,
          30.71,
          29.84
         ]
        },
        {
         "hoverinfo": "none",
         "marker": {
          "color": "#CBB67C",
          "line": {
           "color": "#663831",
           "width": 2
          },
          "size": 10
         },
         "mode": "markers",
         "name": "football",
         "type": "scatter",
         "x": [
          40.0499992370605
         ],
         "y": [
          29.8199996948242
         ]
        }
       ],
       "frames": [
        {
         "data": [
          {
           "hoverinfo": "none",
           "mode": "text",
           "showlegend": false,
           "text": [
            "10",
            "20",
            "30",
            "40",
            "50",
            "40",
            "30",
            "20",
            "10"
           ],
           "textfont": {
            "color": "#ffffff",
            "family": "Courier New, monospace",
            "size": 30
           },
           "type": "scatter",
           "x": [
            20,
            30,
            40,
            50,
            60,
            70,
            80,
            90,
            100
           ],
           "y": [
            5,
            5,
            5,
            5,
            5,
            5,
            5,
            5,
            5
           ]
          },
          {
           "hoverinfo": "none",
           "mode": "text",
           "showlegend": false,
           "text": [
            "10",
            "20",
            "30",
            "40",
            "50",
            "40",
            "30",
            "20",
            "10"
           ],
           "textfont": {
            "color": "#ffffff",
            "family": "Courier New, monospace",
            "size": 30
           },
           "type": "scatter",
           "x": [
            20,
            30,
            40,
            50,
            60,
            70,
            80,
            90,
            100
           ],
           "y": [
            48.5,
            48.5,
            48.5,
            48.5,
            48.5,
            48.5,
            48.5,
            48.5,
            48.5
           ]
          },
          {
           "hoverinfo": "none",
           "line": {
            "color": "blue",
            "dash": "dash"
           },
           "showlegend": false,
           "type": "scatter",
           "x": [
            40,
            40
           ],
           "y": [
            0,
            53.5
           ]
          },
          {
           "hoverinfo": "none",
           "line": {
            "color": "yellow",
            "dash": "dash"
           },
           "showlegend": false,
           "type": "scatter",
           "x": [
            45,
            45
           ],
           "y": [
            0,
            53.5
           ]
          },
          {
           "fill": "toself",
           "fillcolor": "#000000",
           "hoverinfo": "skip",
           "line": {
            "color": "white",
            "width": 3
           },
           "mode": "lines",
           "opacity": 1,
           "showlegend": false,
           "type": "scatter",
           "x": [
            0,
            0,
            10,
            10,
            0
           ],
           "y": [
            0,
            53.5,
            53.5,
            0,
            0
           ]
          },
          {
           "fill": "toself",
           "fillcolor": "#008E97",
           "hoverinfo": "skip",
           "line": {
            "color": "white",
            "width": 3
           },
           "mode": "lines",
           "opacity": 1,
           "showlegend": false,
           "type": "scatter",
           "x": [
            110,
            110,
            120,
            120,
            110
           ],
           "y": [
            0,
            53.5,
            53.5,
            0,
            0
           ]
          },
          {
           "hoverinfo": "text",
           "hovertext": [
            "nflId:41243<br>displayName:C.J. Mosley<br>Player Speed:0.134 MPH",
            "nflId:41270<br>displayName:Lamarcus Joyner<br>Player Speed:2.349 MPH",
            "nflId:42467<br>displayName:Kwon Alexander<br>Player Speed:0.582 MPH",
            "nflId:43508<br>displayName:Will Parks<br>Player Speed:2.438 MPH",
            "nflId:44815<br>displayName:Solomon Thomas<br>Player Speed:0.0 MPH",
            "nflId:46141<br>displayName:Nathan Shepherd<br>Player Speed:0.671 MPH",
            "nflId:46186<br>displayName:Jordan Whitehead<br>Player Speed:2.662 MPH",
            "nflId:46211<br>displayName:D.J. Reed<br>Player Speed:2.93 MPH",
            "nflId:54469<br>displayName:Ahmad Gardner<br>Player Speed:0.94 MPH",
            "nflId:54491<br>displayName:Jermaine Johnson<br>Player Speed:0.716 MPH",
            "nflId:54582<br>displayName:Micheal Clemons<br>Player Speed:0.828 MPH"
           ],
           "marker": {
            "color": "#000000",
            "line": {
             "color": "#125740",
             "width": 2
            },
            "size": 10
           },
           "mode": "markers",
           "name": "NYJ",
           "type": "scatter",
           "x": [
            45.11,
            47.08,
            45.59,
            44.66,
            41.66,
            41.69,
            51.64,
            42.37,
            43.29,
            41.67,
            41.38
           ],
           "y": [
            28.46,
            33.3,
            31.48,
            22.76,
            28.68,
            30.99,
            28.42,
            38.65,
            16.75,
            23.62,
            34.67
           ]
          },
          {
           "hoverinfo": "text",
           "hovertext": [
            "nflId:42718<br>displayName:Raheem Mostert<br>Player Speed:0.0 MPH",
            "nflId:43447<br>displayName:Brandon Shell<br>Player Speed:3.512 MPH",
            "nflId:43454<br>displayName:Tyreek Hill<br>Player Speed:3.601 MPH",
            "nflId:46119<br>displayName:Connor Williams<br>Player Speed:4.809 MPH",
            "nflId:46203<br>displayName:Chase Edmonds<br>Player Speed:0.917 MPH",
            "nflId:47820<br>displayName:Greg Little<br>Player Speed:3.915 MPH",
            "nflId:52447<br>displayName:Robert Hunt<br>Player Speed:3.892 MPH",
            "nflId:53435<br>displayName:Jaylen Waddle<br>Player Speed:4.966 MPH",
            "nflId:53471<br>displayName:Liam Eichenberg<br>Player Speed:3.4 MPH",
            "nflId:54712<br>displayName:Skylar Thompson<br>Player Speed:1.096 MPH",
            "nflId:54931<br>displayName:Tanner Conner<br>Player Speed:6.599 MPH"
           ],
           "marker": {
            "color": "#008E97",
            "line": {
             "color": "#FC4C02",
             "width": 2
            },
            "size": 10
           },
           "mode": "markers",
           "name": "MIA",
           "type": "scatter",
           "x": [
            33.83,
            35.07,
            33.84,
            36.01,
            33.42,
            35.44,
            36.2,
            34.17,
            35.7,
            34.29,
            34.87
           ],
           "y": [
            29.34,
            31.36,
            28.01,
            29.86,
            30.78,
            28.48,
            29.07,
            28.87,
            30.66,
            30.67,
            30.1
           ]
          },
          {
           "hoverinfo": "none",
           "marker": {
            "color": "#CBB67C",
            "line": {
             "color": "#663831",
             "width": 2
            },
            "size": 10
           },
           "mode": "markers",
           "name": "football",
           "type": "scatter",
           "x": [
            40.0499992370605
           ],
           "y": [
            29.8199996948242
           ]
          }
         ],
         "name": "3"
        },
        {
         "data": [
          {
           "hoverinfo": "none",
           "mode": "text",
           "showlegend": false,
           "text": [
            "10",
            "20",
            "30",
            "40",
            "50",
            "40",
            "30",
            "20",
            "10"
           ],
           "textfont": {
            "color": "#ffffff",
            "family": "Courier New, monospace",
            "size": 30
           },
           "type": "scatter",
           "x": [
            20,
            30,
            40,
            50,
            60,
            70,
            80,
            90,
            100
           ],
           "y": [
            5,
            5,
            5,
            5,
            5,
            5,
            5,
            5,
            5
           ]
          },
          {
           "hoverinfo": "none",
           "mode": "text",
           "showlegend": false,
           "text": [
            "10",
            "20",
            "30",
            "40",
            "50",
            "40",
            "30",
            "20",
            "10"
           ],
           "textfont": {
            "color": "#ffffff",
            "family": "Courier New, monospace",
            "size": 30
           },
           "type": "scatter",
           "x": [
            20,
            30,
            40,
            50,
            60,
            70,
            80,
            90,
            100
           ],
           "y": [
            48.5,
            48.5,
            48.5,
            48.5,
            48.5,
            48.5,
            48.5,
            48.5,
            48.5
           ]
          },
          {
           "hoverinfo": "none",
           "line": {
            "color": "blue",
            "dash": "dash"
           },
           "showlegend": false,
           "type": "scatter",
           "x": [
            40,
            40
           ],
           "y": [
            0,
            53.5
           ]
          },
          {
           "hoverinfo": "none",
           "line": {
            "color": "yellow",
            "dash": "dash"
           },
           "showlegend": false,
           "type": "scatter",
           "x": [
            45,
            45
           ],
           "y": [
            0,
            53.5
           ]
          },
          {
           "fill": "toself",
           "fillcolor": "#000000",
           "hoverinfo": "skip",
           "line": {
            "color": "white",
            "width": 3
           },
           "mode": "lines",
           "opacity": 1,
           "showlegend": false,
           "type": "scatter",
           "x": [
            0,
            0,
            10,
            10,
            0
           ],
           "y": [
            0,
            53.5,
            53.5,
            0,
            0
           ]
          },
          {
           "fill": "toself",
           "fillcolor": "#008E97",
           "hoverinfo": "skip",
           "line": {
            "color": "white",
            "width": 3
           },
           "mode": "lines",
           "opacity": 1,
           "showlegend": false,
           "type": "scatter",
           "x": [
            110,
            110,
            120,
            120,
            110
           ],
           "y": [
            0,
            53.5,
            53.5,
            0,
            0
           ]
          },
          {
           "hoverinfo": "text",
           "hovertext": [
            "nflId:41243<br>displayName:C.J. Mosley<br>Player Speed:0.134 MPH",
            "nflId:41270<br>displayName:Lamarcus Joyner<br>Player Speed:2.282 MPH",
            "nflId:42467<br>displayName:Kwon Alexander<br>Player Speed:0.738 MPH",
            "nflId:43508<br>displayName:Will Parks<br>Player Speed:2.438 MPH",
            "nflId:44815<br>displayName:Solomon Thomas<br>Player Speed:0.0 MPH",
            "nflId:46141<br>displayName:Nathan Shepherd<br>Player Speed:0.626 MPH",
            "nflId:46186<br>displayName:Jordan Whitehead<br>Player Speed:2.662 MPH",
            "nflId:46211<br>displayName:D.J. Reed<br>Player Speed:2.886 MPH",
            "nflId:54469<br>displayName:Ahmad Gardner<br>Player Speed:0.962 MPH",
            "nflId:54491<br>displayName:Jermaine Johnson<br>Player Speed:0.693 MPH",
            "nflId:54582<br>displayName:Micheal Clemons<br>Player Speed:0.716 MPH"
           ],
           "marker": {
            "color": "#000000",
            "line": {
             "color": "#125740",
             "width": 2
            },
            "size": 10
           },
           "mode": "markers",
           "name": "NYJ",
           "type": "scatter",
           "x": [
            45.11,
            47.16,
            45.59,
            44.69,
            41.66,
            41.72,
            51.71,
            42.38,
            43.29,
            41.69,
            41.38
           ],
           "y": [
            28.45,
            33.36,
            31.46,
            22.66,
            28.67,
            30.99,
            28.51,
            38.78,
            16.71,
            23.65,
            34.69
           ]
          },
          {
           "hoverinfo": "text",
           "hovertext": [
            "nflId:42718<br>displayName:Raheem Mostert<br>Player Speed:0.067 MPH",
            "nflId:43447<br>displayName:Brandon Shell<br>Player Speed:4.071 MPH",
            "nflId:43454<br>displayName:Tyreek Hill<br>Player Speed:3.78 MPH",
            "nflId:46119<br>displayName:Connor Williams<br>Player Speed:5.48 MPH",
            "nflId:46203<br>displayName:Chase Edmonds<br>Player Speed:1.074 MPH",
            "nflId:47820<br>displayName:Greg Little<br>Player Speed:4.63 MPH",
            "nflId:52447<br>displayName:Robert Hunt<br>Player Speed:4.228 MPH",
            "nflId:53435<br>displayName:Jaylen Waddle<br>Player Speed:4.899 MPH",
            "nflId:53471<br>displayName:Liam Eichenberg<br>Player Speed:4.138 MPH",
            "nflId:54712<br>displayName:Skylar Thompson<br>Player Speed:1.454 MPH",
            "nflId:54931<br>displayName:Tanner Conner<br>Player Speed:6.979 MPH"
           ],
           "marker": {
            "color": "#008E97",
            "line": {
             "color": "#FC4C02",
             "width": 2
            },
            "size": 10
           },
           "mode": "markers",
           "name": "MIA",
           "type": "scatter",
           "x": [
            33.83,
            35.23,
            33.91,
            36.25,
            33.42,
            35.61,
            36.39,
            34.23,
            35.86,
            34.28,
            34.97
           ],
           "y": [
            29.33,
            31.42,
            27.86,
            29.88,
            30.83,
            28.37,
            29.03,
            28.66,
            30.72,
            30.61,
            30.39
           ]
          },
          {
           "hoverinfo": "none",
           "marker": {
            "color": "#CBB67C",
            "line": {
             "color": "#663831",
             "width": 2
            },
            "size": 10
           },
           "mode": "markers",
           "name": "football",
           "type": "scatter",
           "x": [
            40.0499992370605
           ],
           "y": [
            29.8199996948242
           ]
          }
         ],
         "name": "4"
        },
        {
         "data": [
          {
           "hoverinfo": "none",
           "mode": "text",
           "showlegend": false,
           "text": [
            "10",
            "20",
            "30",
            "40",
            "50",
            "40",
            "30",
            "20",
            "10"
           ],
           "textfont": {
            "color": "#ffffff",
            "family": "Courier New, monospace",
            "size": 30
           },
           "type": "scatter",
           "x": [
            20,
            30,
            40,
            50,
            60,
            70,
            80,
            90,
            100
           ],
           "y": [
            5,
            5,
            5,
            5,
            5,
            5,
            5,
            5,
            5
           ]
          },
          {
           "hoverinfo": "none",
           "mode": "text",
           "showlegend": false,
           "text": [
            "10",
            "20",
            "30",
            "40",
            "50",
            "40",
            "30",
            "20",
            "10"
           ],
           "textfont": {
            "color": "#ffffff",
            "family": "Courier New, monospace",
            "size": 30
           },
           "type": "scatter",
           "x": [
            20,
            30,
            40,
            50,
            60,
            70,
            80,
            90,
            100
           ],
           "y": [
            48.5,
            48.5,
            48.5,
            48.5,
            48.5,
            48.5,
            48.5,
            48.5,
            48.5
           ]
          },
          {
           "hoverinfo": "none",
           "line": {
            "color": "blue",
            "dash": "dash"
           },
           "showlegend": false,
           "type": "scatter",
           "x": [
            40,
            40
           ],
           "y": [
            0,
            53.5
           ]
          },
          {
           "hoverinfo": "none",
           "line": {
            "color": "yellow",
            "dash": "dash"
           },
           "showlegend": false,
           "type": "scatter",
           "x": [
            45,
            45
           ],
           "y": [
            0,
            53.5
           ]
          },
          {
           "fill": "toself",
           "fillcolor": "#000000",
           "hoverinfo": "skip",
           "line": {
            "color": "white",
            "width": 3
           },
           "mode": "lines",
           "opacity": 1,
           "showlegend": false,
           "type": "scatter",
           "x": [
            0,
            0,
            10,
            10,
            0
           ],
           "y": [
            0,
            53.5,
            53.5,
            0,
            0
           ]
          },
          {
           "fill": "toself",
           "fillcolor": "#008E97",
           "hoverinfo": "skip",
           "line": {
            "color": "white",
            "width": 3
           },
           "mode": "lines",
           "opacity": 1,
           "showlegend": false,
           "type": "scatter",
           "x": [
            110,
            110,
            120,
            120,
            110
           ],
           "y": [
            0,
            53.5,
            53.5,
            0,
            0
           ]
          },
          {
           "hoverinfo": "text",
           "hovertext": [
            "nflId:41243<br>displayName:C.J. Mosley<br>Player Speed:0.134 MPH",
            "nflId:41270<br>displayName:Lamarcus Joyner<br>Player Speed:2.259 MPH",
            "nflId:42467<br>displayName:Kwon Alexander<br>Player Speed:0.85 MPH",
            "nflId:43508<br>displayName:Will Parks<br>Player Speed:2.416 MPH",
            "nflId:44815<br>displayName:Solomon Thomas<br>Player Speed:0.0 MPH",
            "nflId:46141<br>displayName:Nathan Shepherd<br>Player Speed:0.582 MPH",
            "nflId:46186<br>displayName:Jordan Whitehead<br>Player Speed:2.572 MPH",
            "nflId:46211<br>displayName:D.J. Reed<br>Player Speed:2.796 MPH",
            "nflId:54469<br>displayName:Ahmad Gardner<br>Player Speed:1.275 MPH",
            "nflId:54491<br>displayName:Jermaine Johnson<br>Player Speed:0.671 MPH",
            "nflId:54582<br>displayName:Micheal Clemons<br>Player Speed:0.604 MPH"
           ],
           "marker": {
            "color": "#000000",
            "line": {
             "color": "#125740",
             "width": 2
            },
            "size": 10
           },
           "mode": "markers",
           "name": "NYJ",
           "type": "scatter",
           "x": [
            45.12,
            47.24,
            45.61,
            44.71,
            41.66,
            41.74,
            51.78,
            42.39,
            43.27,
            41.69,
            41.38
           ],
           "y": [
            28.44,
            33.42,
            31.42,
            22.55,
            28.67,
            31.01,
            28.61,
            38.91,
            16.65,
            23.68,
            34.72
           ]
          },
          {
           "hoverinfo": "text",
           "hovertext": [
            "nflId:42718<br>displayName:Raheem Mostert<br>Player Speed:0.403 MPH",
            "nflId:43447<br>displayName:Brandon Shell<br>Player Speed:4.519 MPH",
            "nflId:43454<br>displayName:Tyreek Hill<br>Player Speed:4.026 MPH",
            "nflId:46119<br>displayName:Connor Williams<br>Player Speed:5.906 MPH",
            "nflId:46203<br>displayName:Chase Edmonds<br>Player Speed:1.208 MPH",
            "nflId:47820<br>displayName:Greg Little<br>Player Speed:5.1 MPH",
            "nflId:52447<br>displayName:Robert Hunt<br>Player Speed:4.407 MPH",
            "nflId:53435<br>displayName:Jaylen Waddle<br>Player Speed:4.832 MPH",
            "nflId:53471<br>displayName:Liam Eichenberg<br>Player Speed:4.72 MPH",
            "nflId:54712<br>displayName:Skylar Thompson<br>Player Speed:1.812 MPH",
            "nflId:54931<br>displayName:Tanner Conner<br>Player Speed:7.181 MPH"
           ],
           "marker": {
            "color": "#008E97",
            "line": {
             "color": "#FC4C02",
             "width": 2
            },
            "size": 10
           },
           "mode": "markers",
           "name": "MIA",
           "type": "scatter",
           "x": [
            33.83,
            35.41,
            33.98,
            36.51,
            33.41,
            35.8,
            36.58,
            34.29,
            36.06,
            34.28,
            35.08
           ],
           "y": [
            29.32,
            31.5,
            27.7,
            29.91,
            30.88,
            28.26,
            28.97,
            28.45,
            30.8,
            30.53,
            30.68
           ]
          },
          {
           "hoverinfo": "none",
           "marker": {
            "color": "#CBB67C",
            "line": {
             "color": "#663831",
             "width": 2
            },
            "size": 10
           },
           "mode": "markers",
           "name": "football",
           "type": "scatter",
           "x": [
            40.0499992370605
           ],
           "y": [
            29.8199996948242
           ]
          }
         ],
         "name": "5"
        },
        {
         "data": [
          {
           "hoverinfo": "none",
           "mode": "text",
           "showlegend": false,
           "text": [
            "10",
            "20",
            "30",
            "40",
            "50",
            "40",
            "30",
            "20",
            "10"
           ],
           "textfont": {
            "color": "#ffffff",
            "family": "Courier New, monospace",
            "size": 30
           },
           "type": "scatter",
           "x": [
            20,
            30,
            40,
            50,
            60,
            70,
            80,
            90,
            100
           ],
           "y": [
            5,
            5,
            5,
            5,
            5,
            5,
            5,
            5,
            5
           ]
          },
          {
           "hoverinfo": "none",
           "mode": "text",
           "showlegend": false,
           "text": [
            "10",
            "20",
            "30",
            "40",
            "50",
            "40",
            "30",
            "20",
            "10"
           ],
           "textfont": {
            "color": "#ffffff",
            "family": "Courier New, monospace",
            "size": 30
           },
           "type": "scatter",
           "x": [
            20,
            30,
            40,
            50,
            60,
            70,
            80,
            90,
            100
           ],
           "y": [
            48.5,
            48.5,
            48.5,
            48.5,
            48.5,
            48.5,
            48.5,
            48.5,
            48.5
           ]
          },
          {
           "hoverinfo": "none",
           "line": {
            "color": "blue",
            "dash": "dash"
           },
           "showlegend": false,
           "type": "scatter",
           "x": [
            40,
            40
           ],
           "y": [
            0,
            53.5
           ]
          },
          {
           "hoverinfo": "none",
           "line": {
            "color": "yellow",
            "dash": "dash"
           },
           "showlegend": false,
           "type": "scatter",
           "x": [
            45,
            45
           ],
           "y": [
            0,
            53.5
           ]
          },
          {
           "fill": "toself",
           "fillcolor": "#000000",
           "hoverinfo": "skip",
           "line": {
            "color": "white",
            "width": 3
           },
           "mode": "lines",
           "opacity": 1,
           "showlegend": false,
           "type": "scatter",
           "x": [
            0,
            0,
            10,
            10,
            0
           ],
           "y": [
            0,
            53.5,
            53.5,
            0,
            0
           ]
          },
          {
           "fill": "toself",
           "fillcolor": "#008E97",
           "hoverinfo": "skip",
           "line": {
            "color": "white",
            "width": 3
           },
           "mode": "lines",
           "opacity": 1,
           "showlegend": false,
           "type": "scatter",
           "x": [
            110,
            110,
            120,
            120,
            110
           ],
           "y": [
            0,
            53.5,
            53.5,
            0,
            0
           ]
          },
          {
           "hoverinfo": "text",
           "hovertext": [
            "nflId:41243<br>displayName:C.J. Mosley<br>Player Speed:0.067 MPH",
            "nflId:41270<br>displayName:Lamarcus Joyner<br>Player Speed:2.259 MPH",
            "nflId:42467<br>displayName:Kwon Alexander<br>Player Speed:0.962 MPH",
            "nflId:43508<br>displayName:Will Parks<br>Player Speed:2.416 MPH",
            "nflId:44815<br>displayName:Solomon Thomas<br>Player Speed:0.0 MPH",
            "nflId:46141<br>displayName:Nathan Shepherd<br>Player Speed:0.447 MPH",
            "nflId:46186<br>displayName:Jordan Whitehead<br>Player Speed:2.416 MPH",
            "nflId:46211<br>displayName:D.J. Reed<br>Player Speed:2.64 MPH",
            "nflId:54469<br>displayName:Ahmad Gardner<br>Player Speed:1.432 MPH",
            "nflId:54491<br>displayName:Jermaine Johnson<br>Player Speed:0.604 MPH",
            "nflId:54582<br>displayName:Micheal Clemons<br>Player Speed:0.403 MPH"
           ],
           "marker": {
            "color": "#000000",
            "line": {
             "color": "#125740",
             "width": 2
            },
            "size": 10
           },
           "mode": "markers",
           "name": "NYJ",
           "type": "scatter",
           "x": [
            45.12,
            47.33,
            45.63,
            44.73,
            41.66,
            41.75,
            51.85,
            42.4,
            43.24,
            41.68,
            41.37
           ],
           "y": [
            28.45,
            33.47,
            31.38,
            22.44,
            28.67,
            31.01,
            28.7,
            39.03,
            16.59,
            23.71,
            34.73
           ]
          },
          {
           "hoverinfo": "text",
           "hovertext": [
            "nflId:42718<br>displayName:Raheem Mostert<br>Player Speed:0.984 MPH",
            "nflId:43447<br>displayName:Brandon Shell<br>Player Speed:4.742 MPH",
            "nflId:43454<br>displayName:Tyreek Hill<br>Player Speed:4.317 MPH",
            "nflId:46119<br>displayName:Connor Williams<br>Player Speed:6.219 MPH",
            "nflId:46203<br>displayName:Chase Edmonds<br>Player Speed:1.409 MPH",
            "nflId:47820<br>displayName:Greg Little<br>Player Speed:5.48 MPH",
            "nflId:52447<br>displayName:Robert Hunt<br>Player Speed:4.563 MPH",
            "nflId:53435<br>displayName:Jaylen Waddle<br>Player Speed:4.698 MPH",
            "nflId:53471<br>displayName:Liam Eichenberg<br>Player Speed:5.055 MPH",
            "nflId:54712<br>displayName:Skylar Thompson<br>Player Speed:2.103 MPH",
            "nflId:54931<br>displayName:Tanner Conner<br>Player Speed:7.292 MPH"
           ],
           "marker": {
            "color": "#008E97",
            "line": {
             "color": "#FC4C02",
             "width": 2
            },
            "size": 10
           },
           "mode": "markers",
           "name": "MIA",
           "type": "scatter",
           "x": [
            33.83,
            35.6,
            34.06,
            36.79,
            33.42,
            36.01,
            36.78,
            34.35,
            36.27,
            34.28,
            35.19
           ],
           "y": [
            29.29,
            31.59,
            27.52,
            29.94,
            30.94,
            28.14,
            28.9,
            28.25,
            30.88,
            30.45,
            30.98
           ]
          },
          {
           "hoverinfo": "none",
           "marker": {
            "color": "#CBB67C",
            "line": {
             "color": "#663831",
             "width": 2
            },
            "size": 10
           },
           "mode": "markers",
           "name": "football",
           "type": "scatter",
           "x": [
            40.0499992370605
           ],
           "y": [
            29.8199996948242
           ]
          }
         ],
         "name": "6"
        },
        {
         "data": [
          {
           "hoverinfo": "none",
           "mode": "text",
           "showlegend": false,
           "text": [
            "10",
            "20",
            "30",
            "40",
            "50",
            "40",
            "30",
            "20",
            "10"
           ],
           "textfont": {
            "color": "#ffffff",
            "family": "Courier New, monospace",
            "size": 30
           },
           "type": "scatter",
           "x": [
            20,
            30,
            40,
            50,
            60,
            70,
            80,
            90,
            100
           ],
           "y": [
            5,
            5,
            5,
            5,
            5,
            5,
            5,
            5,
            5
           ]
          },
          {
           "hoverinfo": "none",
           "mode": "text",
           "showlegend": false,
           "text": [
            "10",
            "20",
            "30",
            "40",
            "50",
            "40",
            "30",
            "20",
            "10"
           ],
           "textfont": {
            "color": "#ffffff",
            "family": "Courier New, monospace",
            "size": 30
           },
           "type": "scatter",
           "x": [
            20,
            30,
            40,
            50,
            60,
            70,
            80,
            90,
            100
           ],
           "y": [
            48.5,
            48.5,
            48.5,
            48.5,
            48.5,
            48.5,
            48.5,
            48.5,
            48.5
           ]
          },
          {
           "hoverinfo": "none",
           "line": {
            "color": "blue",
            "dash": "dash"
           },
           "showlegend": false,
           "type": "scatter",
           "x": [
            40,
            40
           ],
           "y": [
            0,
            53.5
           ]
          },
          {
           "hoverinfo": "none",
           "line": {
            "color": "yellow",
            "dash": "dash"
           },
           "showlegend": false,
           "type": "scatter",
           "x": [
            45,
            45
           ],
           "y": [
            0,
            53.5
           ]
          },
          {
           "fill": "toself",
           "fillcolor": "#000000",
           "hoverinfo": "skip",
           "line": {
            "color": "white",
            "width": 3
           },
           "mode": "lines",
           "opacity": 1,
           "showlegend": false,
           "type": "scatter",
           "x": [
            0,
            0,
            10,
            10,
            0
           ],
           "y": [
            0,
            53.5,
            53.5,
            0,
            0
           ]
          },
          {
           "fill": "toself",
           "fillcolor": "#008E97",
           "hoverinfo": "skip",
           "line": {
            "color": "white",
            "width": 3
           },
           "mode": "lines",
           "opacity": 1,
           "showlegend": false,
           "type": "scatter",
           "x": [
            110,
            110,
            120,
            120,
            110
           ],
           "y": [
            0,
            53.5,
            53.5,
            0,
            0
           ]
          },
          {
           "hoverinfo": "text",
           "hovertext": [
            "nflId:41243<br>displayName:C.J. Mosley<br>Player Speed:0.067 MPH",
            "nflId:41270<br>displayName:Lamarcus Joyner<br>Player Speed:2.215 MPH",
            "nflId:42467<br>displayName:Kwon Alexander<br>Player Speed:0.805 MPH",
            "nflId:43508<br>displayName:Will Parks<br>Player Speed:2.259 MPH",
            "nflId:44815<br>displayName:Solomon Thomas<br>Player Speed:0.0 MPH",
            "nflId:46141<br>displayName:Nathan Shepherd<br>Player Speed:0.425 MPH",
            "nflId:46186<br>displayName:Jordan Whitehead<br>Player Speed:2.394 MPH",
            "nflId:46211<br>displayName:D.J. Reed<br>Player Speed:2.684 MPH",
            "nflId:54469<br>displayName:Ahmad Gardner<br>Player Speed:1.611 MPH",
            "nflId:54491<br>displayName:Jermaine Johnson<br>Player Speed:0.514 MPH",
            "nflId:54582<br>displayName:Micheal Clemons<br>Player Speed:0.201 MPH"
           ],
           "marker": {
            "color": "#000000",
            "line": {
             "color": "#125740",
             "width": 2
            },
            "size": 10
           },
           "mode": "markers",
           "name": "NYJ",
           "type": "scatter",
           "x": [
            45.13,
            47.43,
            45.64,
            44.74,
            41.67,
            41.77,
            51.9,
            42.4,
            43.21,
            41.66,
            41.37
           ],
           "y": [
            28.45,
            33.5,
            31.36,
            22.34,
            28.66,
            31.02,
            28.79,
            39.15,
            16.53,
            23.73,
            34.74
           ]
          },
          {
           "hoverinfo": "text",
           "hovertext": [
            "nflId:42718<br>displayName:Raheem Mostert<br>Player Speed:1.655 MPH",
            "nflId:43447<br>displayName:Brandon Shell<br>Player Speed:4.854 MPH",
            "nflId:43454<br>displayName:Tyreek Hill<br>Player Speed:4.496 MPH",
            "nflId:46119<br>displayName:Connor Williams<br>Player Speed:6.241 MPH",
            "nflId:46203<br>displayName:Chase Edmonds<br>Player Speed:1.588 MPH",
            "nflId:47820<br>displayName:Greg Little<br>Player Speed:5.615 MPH",
            "nflId:52447<br>displayName:Robert Hunt<br>Player Speed:4.653 MPH",
            "nflId:53435<br>displayName:Jaylen Waddle<br>Player Speed:4.496 MPH",
            "nflId:53471<br>displayName:Liam Eichenberg<br>Player Speed:5.369 MPH",
            "nflId:54712<br>displayName:Skylar Thompson<br>Player Speed:2.394 MPH",
            "nflId:54931<br>displayName:Tanner Conner<br>Player Speed:7.181 MPH"
           ],
           "marker": {
            "color": "#008E97",
            "line": {
             "color": "#FC4C02",
             "width": 2
            },
            "size": 10
           },
           "mode": "markers",
           "name": "MIA",
           "type": "scatter",
           "x": [
            33.83,
            35.8,
            34.13,
            37.07,
            33.43,
            36.23,
            36.99,
            34.4,
            36.5,
            34.29,
            35.31
           ],
           "y": [
            29.22,
            31.68,
            27.34,
            29.96,
            31.02,
            28.01,
            28.85,
            28.05,
            30.98,
            30.34,
            31.28
           ]
          },
          {
           "hoverinfo": "none",
           "marker": {
            "color": "#CBB67C",
            "line": {
             "color": "#663831",
             "width": 2
            },
            "size": 10
           },
           "mode": "markers",
           "name": "football",
           "type": "scatter",
           "x": [
            40.0499992370605
           ],
           "y": [
            29.8199996948242
           ]
          }
         ],
         "name": "7"
        },
        {
         "data": [
          {
           "hoverinfo": "none",
           "mode": "text",
           "showlegend": false,
           "text": [
            "10",
            "20",
            "30",
            "40",
            "50",
            "40",
            "30",
            "20",
            "10"
           ],
           "textfont": {
            "color": "#ffffff",
            "family": "Courier New, monospace",
            "size": 30
           },
           "type": "scatter",
           "x": [
            20,
            30,
            40,
            50,
            60,
            70,
            80,
            90,
            100
           ],
           "y": [
            5,
            5,
            5,
            5,
            5,
            5,
            5,
            5,
            5
           ]
          },
          {
           "hoverinfo": "none",
           "mode": "text",
           "showlegend": false,
           "text": [
            "10",
            "20",
            "30",
            "40",
            "50",
            "40",
            "30",
            "20",
            "10"
           ],
           "textfont": {
            "color": "#ffffff",
            "family": "Courier New, monospace",
            "size": 30
           },
           "type": "scatter",
           "x": [
            20,
            30,
            40,
            50,
            60,
            70,
            80,
            90,
            100
           ],
           "y": [
            48.5,
            48.5,
            48.5,
            48.5,
            48.5,
            48.5,
            48.5,
            48.5,
            48.5
           ]
          },
          {
           "hoverinfo": "none",
           "line": {
            "color": "blue",
            "dash": "dash"
           },
           "showlegend": false,
           "type": "scatter",
           "x": [
            40,
            40
           ],
           "y": [
            0,
            53.5
           ]
          },
          {
           "hoverinfo": "none",
           "line": {
            "color": "yellow",
            "dash": "dash"
           },
           "showlegend": false,
           "type": "scatter",
           "x": [
            45,
            45
           ],
           "y": [
            0,
            53.5
           ]
          },
          {
           "fill": "toself",
           "fillcolor": "#000000",
           "hoverinfo": "skip",
           "line": {
            "color": "white",
            "width": 3
           },
           "mode": "lines",
           "opacity": 1,
           "showlegend": false,
           "type": "scatter",
           "x": [
            0,
            0,
            10,
            10,
            0
           ],
           "y": [
            0,
            53.5,
            53.5,
            0,
            0
           ]
          },
          {
           "fill": "toself",
           "fillcolor": "#008E97",
           "hoverinfo": "skip",
           "line": {
            "color": "white",
            "width": 3
           },
           "mode": "lines",
           "opacity": 1,
           "showlegend": false,
           "type": "scatter",
           "x": [
            110,
            110,
            120,
            120,
            110
           ],
           "y": [
            0,
            53.5,
            53.5,
            0,
            0
           ]
          },
          {
           "hoverinfo": "text",
           "hovertext": [
            "nflId:41243<br>displayName:C.J. Mosley<br>Player Speed:0.089 MPH",
            "nflId:41270<br>displayName:Lamarcus Joyner<br>Player Speed:2.192 MPH",
            "nflId:42467<br>displayName:Kwon Alexander<br>Player Speed:0.604 MPH",
            "nflId:43508<br>displayName:Will Parks<br>Player Speed:2.192 MPH",
            "nflId:44815<br>displayName:Solomon Thomas<br>Player Speed:0.022 MPH",
            "nflId:46141<br>displayName:Nathan Shepherd<br>Player Speed:0.38 MPH",
            "nflId:46186<br>displayName:Jordan Whitehead<br>Player Speed:2.394 MPH",
            "nflId:46211<br>displayName:D.J. Reed<br>Player Speed:2.617 MPH",
            "nflId:54469<br>displayName:Ahmad Gardner<br>Player Speed:1.678 MPH",
            "nflId:54491<br>displayName:Jermaine Johnson<br>Player Speed:0.537 MPH",
            "nflId:54582<br>displayName:Micheal Clemons<br>Player Speed:0.045 MPH"
           ],
           "marker": {
            "color": "#000000",
            "line": {
             "color": "#125740",
             "width": 2
            },
            "size": 10
           },
           "mode": "markers",
           "name": "NYJ",
           "type": "scatter",
           "x": [
            45.14,
            47.52,
            45.66,
            44.75,
            41.67,
            41.78,
            51.95,
            42.41,
            43.17,
            41.66,
            41.37
           ],
           "y": [
            28.45,
            33.52,
            31.36,
            22.24,
            28.65,
            31.03,
            28.89,
            39.27,
            16.47,
            23.77,
            34.74
           ]
          },
          {
           "hoverinfo": "text",
           "hovertext": [
            "nflId:42718<br>displayName:Raheem Mostert<br>Player Speed:2.237 MPH",
            "nflId:43447<br>displayName:Brandon Shell<br>Player Speed:4.899 MPH",
            "nflId:43454<br>displayName:Tyreek Hill<br>Player Speed:4.675 MPH",
            "nflId:46119<br>displayName:Connor Williams<br>Player Speed:6.129 MPH",
            "nflId:46203<br>displayName:Chase Edmonds<br>Player Speed:1.722 MPH",
            "nflId:47820<br>displayName:Greg Little<br>Player Speed:5.57 MPH",
            "nflId:52447<br>displayName:Robert Hunt<br>Player Speed:4.675 MPH",
            "nflId:53435<br>displayName:Jaylen Waddle<br>Player Speed:4.407 MPH",
            "nflId:53471<br>displayName:Liam Eichenberg<br>Player Speed:5.413 MPH",
            "nflId:54712<br>displayName:Skylar Thompson<br>Player Speed:2.55 MPH",
            "nflId:54931<br>displayName:Tanner Conner<br>Player Speed:7.002 MPH"
           ],
           "marker": {
            "color": "#008E97",
            "line": {
             "color": "#FC4C02",
             "width": 2
            },
            "size": 10
           },
           "mode": "markers",
           "name": "MIA",
           "type": "scatter",
           "x": [
            33.83,
            36,
            34.21,
            37.34,
            33.45,
            36.44,
            37.19,
            34.45,
            36.73,
            34.3,
            35.44
           ],
           "y": [
            29.14,
            31.77,
            27.15,
            29.99,
            31.1,
            27.89,
            28.8,
            27.86,
            31.07,
            30.23,
            31.57
           ]
          },
          {
           "hoverinfo": "none",
           "marker": {
            "color": "#CBB67C",
            "line": {
             "color": "#663831",
             "width": 2
            },
            "size": 10
           },
           "mode": "markers",
           "name": "football",
           "type": "scatter",
           "x": [
            40.0499992370605
           ],
           "y": [
            29.8099994659424
           ]
          }
         ],
         "name": "8"
        },
        {
         "data": [
          {
           "hoverinfo": "none",
           "mode": "text",
           "showlegend": false,
           "text": [
            "10",
            "20",
            "30",
            "40",
            "50",
            "40",
            "30",
            "20",
            "10"
           ],
           "textfont": {
            "color": "#ffffff",
            "family": "Courier New, monospace",
            "size": 30
           },
           "type": "scatter",
           "x": [
            20,
            30,
            40,
            50,
            60,
            70,
            80,
            90,
            100
           ],
           "y": [
            5,
            5,
            5,
            5,
            5,
            5,
            5,
            5,
            5
           ]
          },
          {
           "hoverinfo": "none",
           "mode": "text",
           "showlegend": false,
           "text": [
            "10",
            "20",
            "30",
            "40",
            "50",
            "40",
            "30",
            "20",
            "10"
           ],
           "textfont": {
            "color": "#ffffff",
            "family": "Courier New, monospace",
            "size": 30
           },
           "type": "scatter",
           "x": [
            20,
            30,
            40,
            50,
            60,
            70,
            80,
            90,
            100
           ],
           "y": [
            48.5,
            48.5,
            48.5,
            48.5,
            48.5,
            48.5,
            48.5,
            48.5,
            48.5
           ]
          },
          {
           "hoverinfo": "none",
           "line": {
            "color": "blue",
            "dash": "dash"
           },
           "showlegend": false,
           "type": "scatter",
           "x": [
            40,
            40
           ],
           "y": [
            0,
            53.5
           ]
          },
          {
           "hoverinfo": "none",
           "line": {
            "color": "yellow",
            "dash": "dash"
           },
           "showlegend": false,
           "type": "scatter",
           "x": [
            45,
            45
           ],
           "y": [
            0,
            53.5
           ]
          },
          {
           "fill": "toself",
           "fillcolor": "#000000",
           "hoverinfo": "skip",
           "line": {
            "color": "white",
            "width": 3
           },
           "mode": "lines",
           "opacity": 1,
           "showlegend": false,
           "type": "scatter",
           "x": [
            0,
            0,
            10,
            10,
            0
           ],
           "y": [
            0,
            53.5,
            53.5,
            0,
            0
           ]
          },
          {
           "fill": "toself",
           "fillcolor": "#008E97",
           "hoverinfo": "skip",
           "line": {
            "color": "white",
            "width": 3
           },
           "mode": "lines",
           "opacity": 1,
           "showlegend": false,
           "type": "scatter",
           "x": [
            110,
            110,
            120,
            120,
            110
           ],
           "y": [
            0,
            53.5,
            53.5,
            0,
            0
           ]
          },
          {
           "hoverinfo": "text",
           "hovertext": [
            "nflId:41243<br>displayName:C.J. Mosley<br>Player Speed:0.157 MPH",
            "nflId:41270<br>displayName:Lamarcus Joyner<br>Player Speed:2.192 MPH",
            "nflId:42467<br>displayName:Kwon Alexander<br>Player Speed:0.403 MPH",
            "nflId:43508<br>displayName:Will Parks<br>Player Speed:2.103 MPH",
            "nflId:44815<br>displayName:Solomon Thomas<br>Player Speed:0.268 MPH",
            "nflId:46141<br>displayName:Nathan Shepherd<br>Player Speed:0.336 MPH",
            "nflId:46186<br>displayName:Jordan Whitehead<br>Player Speed:2.528 MPH",
            "nflId:46211<br>displayName:D.J. Reed<br>Player Speed:2.55 MPH",
            "nflId:54469<br>displayName:Ahmad Gardner<br>Player Speed:1.476 MPH",
            "nflId:54491<br>displayName:Jermaine Johnson<br>Player Speed:0.582 MPH",
            "nflId:54582<br>displayName:Micheal Clemons<br>Player Speed:0.246 MPH"
           ],
           "marker": {
            "color": "#000000",
            "line": {
             "color": "#125740",
             "width": 2
            },
            "size": 10
           },
           "mode": "markers",
           "name": "NYJ",
           "type": "scatter",
           "x": [
            45.15,
            47.62,
            45.67,
            44.75,
            41.67,
            41.8,
            51.99,
            42.42,
            43.14,
            41.65,
            41.38
           ],
           "y": [
            28.43,
            33.54,
            31.37,
            22.14,
            28.65,
            31.04,
            29,
            39.38,
            16.42,
            23.8,
            34.73
           ]
          },
          {
           "hoverinfo": "text",
           "hovertext": [
            "nflId:42718<br>displayName:Raheem Mostert<br>Player Speed:2.662 MPH",
            "nflId:43447<br>displayName:Brandon Shell<br>Player Speed:4.832 MPH",
            "nflId:43454<br>displayName:Tyreek Hill<br>Player Speed:4.742 MPH",
            "nflId:46119<br>displayName:Connor Williams<br>Player Speed:5.906 MPH",
            "nflId:46203<br>displayName:Chase Edmonds<br>Player Speed:1.722 MPH",
            "nflId:47820<br>displayName:Greg Little<br>Player Speed:5.413 MPH",
            "nflId:52447<br>displayName:Robert Hunt<br>Player Speed:4.563 MPH",
            "nflId:53435<br>displayName:Jaylen Waddle<br>Player Speed:4.25 MPH",
            "nflId:53471<br>displayName:Liam Eichenberg<br>Player Speed:5.302 MPH",
            "nflId:54712<br>displayName:Skylar Thompson<br>Player Speed:2.684 MPH",
            "nflId:54931<br>displayName:Tanner Conner<br>Player Speed:6.845 MPH"
           ],
           "marker": {
            "color": "#008E97",
            "line": {
             "color": "#FC4C02",
             "width": 2
            },
            "size": 10
           },
           "mode": "markers",
           "name": "MIA",
           "type": "scatter",
           "x": [
            33.84,
            36.19,
            34.3,
            37.61,
            33.47,
            36.66,
            37.39,
            34.5,
            36.95,
            34.31,
            35.57
           ],
           "y": [
            29.03,
            31.87,
            26.96,
            30.02,
            31.17,
            27.76,
            28.74,
            27.67,
            31.15,
            30.11,
            31.85
           ]
          },
          {
           "hoverinfo": "none",
           "marker": {
            "color": "#CBB67C",
            "line": {
             "color": "#663831",
             "width": 2
            },
            "size": 10
           },
           "mode": "markers",
           "name": "football",
           "type": "scatter",
           "x": [
            40.0499992370605
           ],
           "y": [
            29.8099994659424
           ]
          }
         ],
         "name": "9"
        },
        {
         "data": [
          {
           "hoverinfo": "none",
           "mode": "text",
           "showlegend": false,
           "text": [
            "10",
            "20",
            "30",
            "40",
            "50",
            "40",
            "30",
            "20",
            "10"
           ],
           "textfont": {
            "color": "#ffffff",
            "family": "Courier New, monospace",
            "size": 30
           },
           "type": "scatter",
           "x": [
            20,
            30,
            40,
            50,
            60,
            70,
            80,
            90,
            100
           ],
           "y": [
            5,
            5,
            5,
            5,
            5,
            5,
            5,
            5,
            5
           ]
          },
          {
           "hoverinfo": "none",
           "mode": "text",
           "showlegend": false,
           "text": [
            "10",
            "20",
            "30",
            "40",
            "50",
            "40",
            "30",
            "20",
            "10"
           ],
           "textfont": {
            "color": "#ffffff",
            "family": "Courier New, monospace",
            "size": 30
           },
           "type": "scatter",
           "x": [
            20,
            30,
            40,
            50,
            60,
            70,
            80,
            90,
            100
           ],
           "y": [
            48.5,
            48.5,
            48.5,
            48.5,
            48.5,
            48.5,
            48.5,
            48.5,
            48.5
           ]
          },
          {
           "hoverinfo": "none",
           "line": {
            "color": "blue",
            "dash": "dash"
           },
           "showlegend": false,
           "type": "scatter",
           "x": [
            40,
            40
           ],
           "y": [
            0,
            53.5
           ]
          },
          {
           "hoverinfo": "none",
           "line": {
            "color": "yellow",
            "dash": "dash"
           },
           "showlegend": false,
           "type": "scatter",
           "x": [
            45,
            45
           ],
           "y": [
            0,
            53.5
           ]
          },
          {
           "fill": "toself",
           "fillcolor": "#000000",
           "hoverinfo": "skip",
           "line": {
            "color": "white",
            "width": 3
           },
           "mode": "lines",
           "opacity": 1,
           "showlegend": false,
           "type": "scatter",
           "x": [
            0,
            0,
            10,
            10,
            0
           ],
           "y": [
            0,
            53.5,
            53.5,
            0,
            0
           ]
          },
          {
           "fill": "toself",
           "fillcolor": "#008E97",
           "hoverinfo": "skip",
           "line": {
            "color": "white",
            "width": 3
           },
           "mode": "lines",
           "opacity": 1,
           "showlegend": false,
           "type": "scatter",
           "x": [
            110,
            110,
            120,
            120,
            110
           ],
           "y": [
            0,
            53.5,
            53.5,
            0,
            0
           ]
          },
          {
           "hoverinfo": "text",
           "hovertext": [
            "nflId:41243<br>displayName:C.J. Mosley<br>Player Speed:0.179 MPH",
            "nflId:41270<br>displayName:Lamarcus Joyner<br>Player Speed:2.192 MPH",
            "nflId:42467<br>displayName:Kwon Alexander<br>Player Speed:0.38 MPH",
            "nflId:43508<br>displayName:Will Parks<br>Player Speed:2.036 MPH",
            "nflId:44815<br>displayName:Solomon Thomas<br>Player Speed:0.559 MPH",
            "nflId:46141<br>displayName:Nathan Shepherd<br>Player Speed:0.291 MPH",
            "nflId:46186<br>displayName:Jordan Whitehead<br>Player Speed:2.595 MPH",
            "nflId:46211<br>displayName:D.J. Reed<br>Player Speed:2.438 MPH",
            "nflId:54469<br>displayName:Ahmad Gardner<br>Player Speed:1.365 MPH",
            "nflId:54491<br>displayName:Jermaine Johnson<br>Player Speed:0.671 MPH",
            "nflId:54582<br>displayName:Micheal Clemons<br>Player Speed:0.47 MPH"
           ],
           "marker": {
            "color": "#000000",
            "line": {
             "color": "#125740",
             "width": 2
            },
            "size": 10
           },
           "mode": "markers",
           "name": "NYJ",
           "type": "scatter",
           "x": [
            45.18,
            47.72,
            45.69,
            44.75,
            41.67,
            41.81,
            52.02,
            42.43,
            43.11,
            41.65,
            41.39
           ],
           "y": [
            28.43,
            33.55,
            31.38,
            22.05,
            28.63,
            31.04,
            29.11,
            39.49,
            16.36,
            23.83,
            34.71
           ]
          },
          {
           "hoverinfo": "text",
           "hovertext": [
            "nflId:42718<br>displayName:Raheem Mostert<br>Player Speed:2.997 MPH",
            "nflId:43447<br>displayName:Brandon Shell<br>Player Speed:4.675 MPH",
            "nflId:43454<br>displayName:Tyreek Hill<br>Player Speed:5.1 MPH",
            "nflId:46119<br>displayName:Connor Williams<br>Player Speed:5.57 MPH",
            "nflId:46203<br>displayName:Chase Edmonds<br>Player Speed:1.857 MPH",
            "nflId:47820<br>displayName:Greg Little<br>Player Speed:5.234 MPH",
            "nflId:52447<br>displayName:Robert Hunt<br>Player Speed:4.429 MPH",
            "nflId:53435<br>displayName:Jaylen Waddle<br>Player Speed:4.138 MPH",
            "nflId:53471<br>displayName:Liam Eichenberg<br>Player Speed:5.19 MPH",
            "nflId:54712<br>displayName:Skylar Thompson<br>Player Speed:2.774 MPH",
            "nflId:54931<br>displayName:Tanner Conner<br>Player Speed:6.465 MPH"
           ],
           "marker": {
            "color": "#008E97",
            "line": {
             "color": "#FC4C02",
             "width": 2
            },
            "size": 10
           },
           "mode": "markers",
           "name": "MIA",
           "type": "scatter",
           "x": [
            33.85,
            36.38,
            34.4,
            37.87,
            33.52,
            36.87,
            37.59,
            34.54,
            37.18,
            34.33,
            35.71
           ],
           "y": [
            28.91,
            31.97,
            26.75,
            30.03,
            31.26,
            27.64,
            28.69,
            27.49,
            31.22,
            29.99,
            32.11
           ]
          },
          {
           "hoverinfo": "none",
           "marker": {
            "color": "#CBB67C",
            "line": {
             "color": "#663831",
             "width": 2
            },
            "size": 10
           },
           "mode": "markers",
           "name": "football",
           "type": "scatter",
           "x": [
            40.0499992370605
           ],
           "y": [
            29.8099994659424
           ]
          }
         ],
         "name": "10"
        },
        {
         "data": [
          {
           "hoverinfo": "none",
           "mode": "text",
           "showlegend": false,
           "text": [
            "10",
            "20",
            "30",
            "40",
            "50",
            "40",
            "30",
            "20",
            "10"
           ],
           "textfont": {
            "color": "#ffffff",
            "family": "Courier New, monospace",
            "size": 30
           },
           "type": "scatter",
           "x": [
            20,
            30,
            40,
            50,
            60,
            70,
            80,
            90,
            100
           ],
           "y": [
            5,
            5,
            5,
            5,
            5,
            5,
            5,
            5,
            5
           ]
          },
          {
           "hoverinfo": "none",
           "mode": "text",
           "showlegend": false,
           "text": [
            "10",
            "20",
            "30",
            "40",
            "50",
            "40",
            "30",
            "20",
            "10"
           ],
           "textfont": {
            "color": "#ffffff",
            "family": "Courier New, monospace",
            "size": 30
           },
           "type": "scatter",
           "x": [
            20,
            30,
            40,
            50,
            60,
            70,
            80,
            90,
            100
           ],
           "y": [
            48.5,
            48.5,
            48.5,
            48.5,
            48.5,
            48.5,
            48.5,
            48.5,
            48.5
           ]
          },
          {
           "hoverinfo": "none",
           "line": {
            "color": "blue",
            "dash": "dash"
           },
           "showlegend": false,
           "type": "scatter",
           "x": [
            40,
            40
           ],
           "y": [
            0,
            53.5
           ]
          },
          {
           "hoverinfo": "none",
           "line": {
            "color": "yellow",
            "dash": "dash"
           },
           "showlegend": false,
           "type": "scatter",
           "x": [
            45,
            45
           ],
           "y": [
            0,
            53.5
           ]
          },
          {
           "fill": "toself",
           "fillcolor": "#000000",
           "hoverinfo": "skip",
           "line": {
            "color": "white",
            "width": 3
           },
           "mode": "lines",
           "opacity": 1,
           "showlegend": false,
           "type": "scatter",
           "x": [
            0,
            0,
            10,
            10,
            0
           ],
           "y": [
            0,
            53.5,
            53.5,
            0,
            0
           ]
          },
          {
           "fill": "toself",
           "fillcolor": "#008E97",
           "hoverinfo": "skip",
           "line": {
            "color": "white",
            "width": 3
           },
           "mode": "lines",
           "opacity": 1,
           "showlegend": false,
           "type": "scatter",
           "x": [
            110,
            110,
            120,
            120,
            110
           ],
           "y": [
            0,
            53.5,
            53.5,
            0,
            0
           ]
          },
          {
           "hoverinfo": "text",
           "hovertext": [
            "nflId:41243<br>displayName:C.J. Mosley<br>Player Speed:0.201 MPH",
            "nflId:41270<br>displayName:Lamarcus Joyner<br>Player Speed:2.125 MPH",
            "nflId:42467<br>displayName:Kwon Alexander<br>Player Speed:0.358 MPH",
            "nflId:43508<br>displayName:Will Parks<br>Player Speed:1.969 MPH",
            "nflId:44815<br>displayName:Solomon Thomas<br>Player Speed:0.805 MPH",
            "nflId:46141<br>displayName:Nathan Shepherd<br>Player Speed:0.246 MPH",
            "nflId:46186<br>displayName:Jordan Whitehead<br>Player Speed:2.438 MPH",
            "nflId:46211<br>displayName:D.J. Reed<br>Player Speed:2.371 MPH",
            "nflId:54469<br>displayName:Ahmad Gardner<br>Player Speed:1.23 MPH",
            "nflId:54491<br>displayName:Jermaine Johnson<br>Player Speed:0.828 MPH",
            "nflId:54582<br>displayName:Micheal Clemons<br>Player Speed:0.693 MPH"
           ],
           "marker": {
            "color": "#000000",
            "line": {
             "color": "#125740",
             "width": 2
            },
            "size": 10
           },
           "mode": "markers",
           "name": "NYJ",
           "type": "scatter",
           "x": [
            45.2,
            47.81,
            45.71,
            44.75,
            41.68,
            41.81,
            52.04,
            42.43,
            43.09,
            41.64,
            41.4
           ],
           "y": [
            28.43,
            33.55,
            31.38,
            21.96,
            28.6,
            31.05,
            29.22,
            39.6,
            16.31,
            23.87,
            34.68
           ]
          },
          {
           "hoverinfo": "text",
           "hovertext": [
            "nflId:42718<br>displayName:Raheem Mostert<br>Player Speed:3.02 MPH",
            "nflId:43447<br>displayName:Brandon Shell<br>Player Speed:4.541 MPH",
            "nflId:43454<br>displayName:Tyreek Hill<br>Player Speed:5.257 MPH",
            "nflId:46119<br>displayName:Connor Williams<br>Player Speed:5.234 MPH",
            "nflId:46203<br>displayName:Chase Edmonds<br>Player Speed:1.834 MPH",
            "nflId:47820<br>displayName:Greg Little<br>Player Speed:4.877 MPH",
            "nflId:52447<br>displayName:Robert Hunt<br>Player Speed:4.228 MPH",
            "nflId:53435<br>displayName:Jaylen Waddle<br>Player Speed:4.138 MPH",
            "nflId:53471<br>displayName:Liam Eichenberg<br>Player Speed:5.011 MPH",
            "nflId:54712<br>displayName:Skylar Thompson<br>Player Speed:2.819 MPH",
            "nflId:54931<br>displayName:Tanner Conner<br>Player Speed:6.331 MPH"
           ],
           "marker": {
            "color": "#008E97",
            "line": {
             "color": "#FC4C02",
             "width": 2
            },
            "size": 10
           },
           "mode": "markers",
           "name": "MIA",
           "type": "scatter",
           "x": [
            33.85,
            36.57,
            34.51,
            38.11,
            33.55,
            37.06,
            37.77,
            34.57,
            37.41,
            34.35,
            35.86
           ],
           "y": [
            28.79,
            32.07,
            26.54,
            30.05,
            31.34,
            27.53,
            28.64,
            27.3,
            31.29,
            29.87,
            32.35
           ]
          },
          {
           "hoverinfo": "none",
           "marker": {
            "color": "#CBB67C",
            "line": {
             "color": "#663831",
             "width": 2
            },
            "size": 10
           },
           "mode": "markers",
           "name": "football",
           "type": "scatter",
           "x": [
            40.0499992370605
           ],
           "y": [
            29.8099994659424
           ]
          }
         ],
         "name": "11"
        },
        {
         "data": [
          {
           "hoverinfo": "none",
           "mode": "text",
           "showlegend": false,
           "text": [
            "10",
            "20",
            "30",
            "40",
            "50",
            "40",
            "30",
            "20",
            "10"
           ],
           "textfont": {
            "color": "#ffffff",
            "family": "Courier New, monospace",
            "size": 30
           },
           "type": "scatter",
           "x": [
            20,
            30,
            40,
            50,
            60,
            70,
            80,
            90,
            100
           ],
           "y": [
            5,
            5,
            5,
            5,
            5,
            5,
            5,
            5,
            5
           ]
          },
          {
           "hoverinfo": "none",
           "mode": "text",
           "showlegend": false,
           "text": [
            "10",
            "20",
            "30",
            "40",
            "50",
            "40",
            "30",
            "20",
            "10"
           ],
           "textfont": {
            "color": "#ffffff",
            "family": "Courier New, monospace",
            "size": 30
           },
           "type": "scatter",
           "x": [
            20,
            30,
            40,
            50,
            60,
            70,
            80,
            90,
            100
           ],
           "y": [
            48.5,
            48.5,
            48.5,
            48.5,
            48.5,
            48.5,
            48.5,
            48.5,
            48.5
           ]
          },
          {
           "hoverinfo": "none",
           "line": {
            "color": "blue",
            "dash": "dash"
           },
           "showlegend": false,
           "type": "scatter",
           "x": [
            40,
            40
           ],
           "y": [
            0,
            53.5
           ]
          },
          {
           "hoverinfo": "none",
           "line": {
            "color": "yellow",
            "dash": "dash"
           },
           "showlegend": false,
           "type": "scatter",
           "x": [
            45,
            45
           ],
           "y": [
            0,
            53.5
           ]
          },
          {
           "fill": "toself",
           "fillcolor": "#000000",
           "hoverinfo": "skip",
           "line": {
            "color": "white",
            "width": 3
           },
           "mode": "lines",
           "opacity": 1,
           "showlegend": false,
           "type": "scatter",
           "x": [
            0,
            0,
            10,
            10,
            0
           ],
           "y": [
            0,
            53.5,
            53.5,
            0,
            0
           ]
          },
          {
           "fill": "toself",
           "fillcolor": "#008E97",
           "hoverinfo": "skip",
           "line": {
            "color": "white",
            "width": 3
           },
           "mode": "lines",
           "opacity": 1,
           "showlegend": false,
           "type": "scatter",
           "x": [
            110,
            110,
            120,
            120,
            110
           ],
           "y": [
            0,
            53.5,
            53.5,
            0,
            0
           ]
          },
          {
           "hoverinfo": "text",
           "hovertext": [
            "nflId:41243<br>displayName:C.J. Mosley<br>Player Speed:0.201 MPH",
            "nflId:41270<br>displayName:Lamarcus Joyner<br>Player Speed:2.058 MPH",
            "nflId:42467<br>displayName:Kwon Alexander<br>Player Speed:0.313 MPH",
            "nflId:43508<br>displayName:Will Parks<br>Player Speed:1.834 MPH",
            "nflId:44815<br>displayName:Solomon Thomas<br>Player Speed:0.94 MPH",
            "nflId:46141<br>displayName:Nathan Shepherd<br>Player Speed:0.201 MPH",
            "nflId:46186<br>displayName:Jordan Whitehead<br>Player Speed:2.505 MPH",
            "nflId:46211<br>displayName:D.J. Reed<br>Player Speed:2.282 MPH",
            "nflId:54469<br>displayName:Ahmad Gardner<br>Player Speed:1.051 MPH",
            "nflId:54491<br>displayName:Jermaine Johnson<br>Player Speed:0.984 MPH",
            "nflId:54582<br>displayName:Micheal Clemons<br>Player Speed:0.94 MPH"
           ],
           "marker": {
            "color": "#000000",
            "line": {
             "color": "#125740",
             "width": 2
            },
            "size": 10
           },
           "mode": "markers",
           "name": "NYJ",
           "type": "scatter",
           "x": [
            45.21,
            47.9,
            45.72,
            44.73,
            41.69,
            41.81,
            52.05,
            42.44,
            43.07,
            41.62,
            41.41
           ],
           "y": [
            28.42,
            33.55,
            31.39,
            21.88,
            28.56,
            31.06,
            29.33,
            39.7,
            16.26,
            23.9,
            34.65
           ]
          },
          {
           "hoverinfo": "text",
           "hovertext": [
            "nflId:42718<br>displayName:Raheem Mostert<br>Player Speed:3.02 MPH",
            "nflId:43447<br>displayName:Brandon Shell<br>Player Speed:4.429 MPH",
            "nflId:43454<br>displayName:Tyreek Hill<br>Player Speed:5.525 MPH",
            "nflId:46119<br>displayName:Connor Williams<br>Player Speed:5.011 MPH",
            "nflId:46203<br>displayName:Chase Edmonds<br>Player Speed:1.812 MPH",
            "nflId:47820<br>displayName:Greg Little<br>Player Speed:4.519 MPH",
            "nflId:52447<br>displayName:Robert Hunt<br>Player Speed:4.049 MPH",
            "nflId:53435<br>displayName:Jaylen Waddle<br>Player Speed:4.362 MPH",
            "nflId:53471<br>displayName:Liam Eichenberg<br>Player Speed:4.742 MPH",
            "nflId:54712<br>displayName:Skylar Thompson<br>Player Speed:2.863 MPH",
            "nflId:54931<br>displayName:Tanner Conner<br>Player Speed:6.152 MPH"
           ],
           "marker": {
            "color": "#008E97",
            "line": {
             "color": "#FC4C02",
             "width": 2
            },
            "size": 10
           },
           "mode": "markers",
           "name": "MIA",
           "type": "scatter",
           "x": [
            33.87,
            36.75,
            34.63,
            38.35,
            33.59,
            37.25,
            37.95,
            34.6,
            37.61,
            34.37,
            36.02
           ],
           "y": [
            28.66,
            32.17,
            26.33,
            30.06,
            31.41,
            27.43,
            28.59,
            27.1,
            31.36,
            29.74,
            32.58
           ]
          },
          {
           "hoverinfo": "none",
           "marker": {
            "color": "#CBB67C",
            "line": {
             "color": "#663831",
             "width": 2
            },
            "size": 10
           },
           "mode": "markers",
           "name": "football",
           "type": "scatter",
           "x": [
            40.0499992370605
           ],
           "y": [
            29.8199996948242
           ]
          }
         ],
         "name": "12"
        },
        {
         "data": [
          {
           "hoverinfo": "none",
           "mode": "text",
           "showlegend": false,
           "text": [
            "10",
            "20",
            "30",
            "40",
            "50",
            "40",
            "30",
            "20",
            "10"
           ],
           "textfont": {
            "color": "#ffffff",
            "family": "Courier New, monospace",
            "size": 30
           },
           "type": "scatter",
           "x": [
            20,
            30,
            40,
            50,
            60,
            70,
            80,
            90,
            100
           ],
           "y": [
            5,
            5,
            5,
            5,
            5,
            5,
            5,
            5,
            5
           ]
          },
          {
           "hoverinfo": "none",
           "mode": "text",
           "showlegend": false,
           "text": [
            "10",
            "20",
            "30",
            "40",
            "50",
            "40",
            "30",
            "20",
            "10"
           ],
           "textfont": {
            "color": "#ffffff",
            "family": "Courier New, monospace",
            "size": 30
           },
           "type": "scatter",
           "x": [
            20,
            30,
            40,
            50,
            60,
            70,
            80,
            90,
            100
           ],
           "y": [
            48.5,
            48.5,
            48.5,
            48.5,
            48.5,
            48.5,
            48.5,
            48.5,
            48.5
           ]
          },
          {
           "hoverinfo": "none",
           "line": {
            "color": "blue",
            "dash": "dash"
           },
           "showlegend": false,
           "type": "scatter",
           "x": [
            40,
            40
           ],
           "y": [
            0,
            53.5
           ]
          },
          {
           "hoverinfo": "none",
           "line": {
            "color": "yellow",
            "dash": "dash"
           },
           "showlegend": false,
           "type": "scatter",
           "x": [
            45,
            45
           ],
           "y": [
            0,
            53.5
           ]
          },
          {
           "fill": "toself",
           "fillcolor": "#000000",
           "hoverinfo": "skip",
           "line": {
            "color": "white",
            "width": 3
           },
           "mode": "lines",
           "opacity": 1,
           "showlegend": false,
           "type": "scatter",
           "x": [
            0,
            0,
            10,
            10,
            0
           ],
           "y": [
            0,
            53.5,
            53.5,
            0,
            0
           ]
          },
          {
           "fill": "toself",
           "fillcolor": "#008E97",
           "hoverinfo": "skip",
           "line": {
            "color": "white",
            "width": 3
           },
           "mode": "lines",
           "opacity": 1,
           "showlegend": false,
           "type": "scatter",
           "x": [
            110,
            110,
            120,
            120,
            110
           ],
           "y": [
            0,
            53.5,
            53.5,
            0,
            0
           ]
          },
          {
           "hoverinfo": "text",
           "hovertext": [
            "nflId:41243<br>displayName:C.J. Mosley<br>Player Speed:0.201 MPH",
            "nflId:41270<br>displayName:Lamarcus Joyner<br>Player Speed:2.08 MPH",
            "nflId:42467<br>displayName:Kwon Alexander<br>Player Speed:0.336 MPH",
            "nflId:43508<br>displayName:Will Parks<br>Player Speed:1.745 MPH",
            "nflId:44815<br>displayName:Solomon Thomas<br>Player Speed:0.984 MPH",
            "nflId:46141<br>displayName:Nathan Shepherd<br>Player Speed:0.201 MPH",
            "nflId:46186<br>displayName:Jordan Whitehead<br>Player Speed:2.662 MPH",
            "nflId:46211<br>displayName:D.J. Reed<br>Player Speed:2.237 MPH",
            "nflId:54469<br>displayName:Ahmad Gardner<br>Player Speed:0.872 MPH",
            "nflId:54491<br>displayName:Jermaine Johnson<br>Player Speed:1.163 MPH",
            "nflId:54582<br>displayName:Micheal Clemons<br>Player Speed:1.141 MPH"
           ],
           "marker": {
            "color": "#000000",
            "line": {
             "color": "#125740",
             "width": 2
            },
            "size": 10
           },
           "mode": "markers",
           "name": "NYJ",
           "type": "scatter",
           "x": [
            45.22,
            48,
            45.74,
            44.71,
            41.69,
            41.81,
            52.05,
            42.46,
            43.07,
            41.6,
            41.43
           ],
           "y": [
            28.42,
            33.54,
            31.42,
            21.8,
            28.52,
            31.07,
            29.45,
            39.81,
            16.22,
            23.95,
            34.6
           ]
          },
          {
           "hoverinfo": "text",
           "hovertext": [
            "nflId:42718<br>displayName:Raheem Mostert<br>Player Speed:3.02 MPH",
            "nflId:43447<br>displayName:Brandon Shell<br>Player Speed:4.384 MPH",
            "nflId:43454<br>displayName:Tyreek Hill<br>Player Speed:5.749 MPH",
            "nflId:46119<br>displayName:Connor Williams<br>Player Speed:4.608 MPH",
            "nflId:46203<br>displayName:Chase Edmonds<br>Player Speed:1.767 MPH",
            "nflId:47820<br>displayName:Greg Little<br>Player Speed:4.116 MPH",
            "nflId:52447<br>displayName:Robert Hunt<br>Player Speed:3.713 MPH",
            "nflId:53435<br>displayName:Jaylen Waddle<br>Player Speed:4.496 MPH",
            "nflId:53471<br>displayName:Liam Eichenberg<br>Player Speed:4.384 MPH",
            "nflId:54712<br>displayName:Skylar Thompson<br>Player Speed:2.774 MPH",
            "nflId:54931<br>displayName:Tanner Conner<br>Player Speed:5.973 MPH"
           ],
           "marker": {
            "color": "#008E97",
            "line": {
             "color": "#FC4C02",
             "width": 2
            },
            "size": 10
           },
           "mode": "markers",
           "name": "MIA",
           "type": "scatter",
           "x": [
            33.88,
            36.93,
            34.76,
            38.56,
            33.63,
            37.42,
            38.11,
            34.63,
            37.81,
            34.4,
            36.18
           ],
           "y": [
            28.52,
            32.26,
            26.11,
            30.06,
            31.48,
            27.35,
            28.53,
            26.91,
            31.42,
            29.62,
            32.8
           ]
          },
          {
           "hoverinfo": "none",
           "marker": {
            "color": "#CBB67C",
            "line": {
             "color": "#663831",
             "width": 2
            },
            "size": 10
           },
           "mode": "markers",
           "name": "football",
           "type": "scatter",
           "x": [
            40.0499992370605
           ],
           "y": [
            29.8199996948242
           ]
          }
         ],
         "name": "13"
        },
        {
         "data": [
          {
           "hoverinfo": "none",
           "mode": "text",
           "showlegend": false,
           "text": [
            "10",
            "20",
            "30",
            "40",
            "50",
            "40",
            "30",
            "20",
            "10"
           ],
           "textfont": {
            "color": "#ffffff",
            "family": "Courier New, monospace",
            "size": 30
           },
           "type": "scatter",
           "x": [
            20,
            30,
            40,
            50,
            60,
            70,
            80,
            90,
            100
           ],
           "y": [
            5,
            5,
            5,
            5,
            5,
            5,
            5,
            5,
            5
           ]
          },
          {
           "hoverinfo": "none",
           "mode": "text",
           "showlegend": false,
           "text": [
            "10",
            "20",
            "30",
            "40",
            "50",
            "40",
            "30",
            "20",
            "10"
           ],
           "textfont": {
            "color": "#ffffff",
            "family": "Courier New, monospace",
            "size": 30
           },
           "type": "scatter",
           "x": [
            20,
            30,
            40,
            50,
            60,
            70,
            80,
            90,
            100
           ],
           "y": [
            48.5,
            48.5,
            48.5,
            48.5,
            48.5,
            48.5,
            48.5,
            48.5,
            48.5
           ]
          },
          {
           "hoverinfo": "none",
           "line": {
            "color": "blue",
            "dash": "dash"
           },
           "showlegend": false,
           "type": "scatter",
           "x": [
            40,
            40
           ],
           "y": [
            0,
            53.5
           ]
          },
          {
           "hoverinfo": "none",
           "line": {
            "color": "yellow",
            "dash": "dash"
           },
           "showlegend": false,
           "type": "scatter",
           "x": [
            45,
            45
           ],
           "y": [
            0,
            53.5
           ]
          },
          {
           "fill": "toself",
           "fillcolor": "#000000",
           "hoverinfo": "skip",
           "line": {
            "color": "white",
            "width": 3
           },
           "mode": "lines",
           "opacity": 1,
           "showlegend": false,
           "type": "scatter",
           "x": [
            0,
            0,
            10,
            10,
            0
           ],
           "y": [
            0,
            53.5,
            53.5,
            0,
            0
           ]
          },
          {
           "fill": "toself",
           "fillcolor": "#008E97",
           "hoverinfo": "skip",
           "line": {
            "color": "white",
            "width": 3
           },
           "mode": "lines",
           "opacity": 1,
           "showlegend": false,
           "type": "scatter",
           "x": [
            110,
            110,
            120,
            120,
            110
           ],
           "y": [
            0,
            53.5,
            53.5,
            0,
            0
           ]
          },
          {
           "hoverinfo": "text",
           "hovertext": [
            "nflId:41243<br>displayName:C.J. Mosley<br>Player Speed:0.224 MPH",
            "nflId:41270<br>displayName:Lamarcus Joyner<br>Player Speed:2.17 MPH",
            "nflId:42467<br>displayName:Kwon Alexander<br>Player Speed:0.38 MPH",
            "nflId:43508<br>displayName:Will Parks<br>Player Speed:1.722 MPH",
            "nflId:44815<br>displayName:Solomon Thomas<br>Player Speed:0.94 MPH",
            "nflId:46141<br>displayName:Nathan Shepherd<br>Player Speed:0.157 MPH",
            "nflId:46186<br>displayName:Jordan Whitehead<br>Player Speed:2.819 MPH",
            "nflId:46211<br>displayName:D.J. Reed<br>Player Speed:2.215 MPH",
            "nflId:54469<br>displayName:Ahmad Gardner<br>Player Speed:0.895 MPH",
            "nflId:54491<br>displayName:Jermaine Johnson<br>Player Speed:1.253 MPH",
            "nflId:54582<br>displayName:Micheal Clemons<br>Player Speed:1.409 MPH"
           ],
           "marker": {
            "color": "#000000",
            "line": {
             "color": "#125740",
             "width": 2
            },
            "size": 10
           },
           "mode": "markers",
           "name": "NYJ",
           "type": "scatter",
           "x": [
            45.25,
            48.1,
            45.76,
            44.69,
            41.7,
            41.81,
            52.03,
            42.48,
            43.08,
            41.57,
            41.46
           ],
           "y": [
            28.4,
            33.53,
            31.45,
            21.73,
            28.48,
            31.08,
            29.57,
            39.91,
            16.18,
            24,
            34.53
           ]
          },
          {
           "hoverinfo": "text",
           "hovertext": [
            "nflId:42718<br>displayName:Raheem Mostert<br>Player Speed:2.975 MPH",
            "nflId:43447<br>displayName:Brandon Shell<br>Player Speed:4.25 MPH",
            "nflId:43454<br>displayName:Tyreek Hill<br>Player Speed:5.906 MPH",
            "nflId:46119<br>displayName:Connor Williams<br>Player Speed:3.892 MPH",
            "nflId:46203<br>displayName:Chase Edmonds<br>Player Speed:1.857 MPH",
            "nflId:47820<br>displayName:Greg Little<br>Player Speed:3.713 MPH",
            "nflId:52447<br>displayName:Robert Hunt<br>Player Speed:3.311 MPH",
            "nflId:53435<br>displayName:Jaylen Waddle<br>Player Speed:4.653 MPH",
            "nflId:53471<br>displayName:Liam Eichenberg<br>Player Speed:4.049 MPH",
            "nflId:54712<br>displayName:Skylar Thompson<br>Player Speed:2.774 MPH",
            "nflId:54931<br>displayName:Tanner Conner<br>Player Speed:5.861 MPH"
           ],
           "marker": {
            "color": "#008E97",
            "line": {
             "color": "#FC4C02",
             "width": 2
            },
            "size": 10
           },
           "mode": "markers",
           "name": "MIA",
           "type": "scatter",
           "x": [
            33.9,
            37.1,
            34.9,
            38.74,
            33.68,
            37.57,
            38.26,
            34.66,
            37.98,
            34.43,
            36.34
           ],
           "y": [
            28.39,
            32.35,
            25.89,
            30.06,
            31.55,
            27.27,
            28.48,
            26.71,
            31.48,
            29.5,
            33.01
           ]
          },
          {
           "hoverinfo": "none",
           "marker": {
            "color": "#CBB67C",
            "line": {
             "color": "#663831",
             "width": 2
            },
            "size": 10
           },
           "mode": "markers",
           "name": "football",
           "type": "scatter",
           "x": [
            40.0400009155273
           ],
           "y": [
            29.8199996948242
           ]
          }
         ],
         "name": "14"
        },
        {
         "data": [
          {
           "hoverinfo": "none",
           "mode": "text",
           "showlegend": false,
           "text": [
            "10",
            "20",
            "30",
            "40",
            "50",
            "40",
            "30",
            "20",
            "10"
           ],
           "textfont": {
            "color": "#ffffff",
            "family": "Courier New, monospace",
            "size": 30
           },
           "type": "scatter",
           "x": [
            20,
            30,
            40,
            50,
            60,
            70,
            80,
            90,
            100
           ],
           "y": [
            5,
            5,
            5,
            5,
            5,
            5,
            5,
            5,
            5
           ]
          },
          {
           "hoverinfo": "none",
           "mode": "text",
           "showlegend": false,
           "text": [
            "10",
            "20",
            "30",
            "40",
            "50",
            "40",
            "30",
            "20",
            "10"
           ],
           "textfont": {
            "color": "#ffffff",
            "family": "Courier New, monospace",
            "size": 30
           },
           "type": "scatter",
           "x": [
            20,
            30,
            40,
            50,
            60,
            70,
            80,
            90,
            100
           ],
           "y": [
            48.5,
            48.5,
            48.5,
            48.5,
            48.5,
            48.5,
            48.5,
            48.5,
            48.5
           ]
          },
          {
           "hoverinfo": "none",
           "line": {
            "color": "blue",
            "dash": "dash"
           },
           "showlegend": false,
           "type": "scatter",
           "x": [
            40,
            40
           ],
           "y": [
            0,
            53.5
           ]
          },
          {
           "hoverinfo": "none",
           "line": {
            "color": "yellow",
            "dash": "dash"
           },
           "showlegend": false,
           "type": "scatter",
           "x": [
            45,
            45
           ],
           "y": [
            0,
            53.5
           ]
          },
          {
           "fill": "toself",
           "fillcolor": "#000000",
           "hoverinfo": "skip",
           "line": {
            "color": "white",
            "width": 3
           },
           "mode": "lines",
           "opacity": 1,
           "showlegend": false,
           "type": "scatter",
           "x": [
            0,
            0,
            10,
            10,
            0
           ],
           "y": [
            0,
            53.5,
            53.5,
            0,
            0
           ]
          },
          {
           "fill": "toself",
           "fillcolor": "#008E97",
           "hoverinfo": "skip",
           "line": {
            "color": "white",
            "width": 3
           },
           "mode": "lines",
           "opacity": 1,
           "showlegend": false,
           "type": "scatter",
           "x": [
            110,
            110,
            120,
            120,
            110
           ],
           "y": [
            0,
            53.5,
            53.5,
            0,
            0
           ]
          },
          {
           "hoverinfo": "text",
           "hovertext": [
            "nflId:41243<br>displayName:C.J. Mosley<br>Player Speed:0.246 MPH",
            "nflId:41270<br>displayName:Lamarcus Joyner<br>Player Speed:2.17 MPH",
            "nflId:42467<br>displayName:Kwon Alexander<br>Player Speed:0.358 MPH",
            "nflId:43508<br>displayName:Will Parks<br>Player Speed:1.655 MPH",
            "nflId:44815<br>displayName:Solomon Thomas<br>Player Speed:1.007 MPH",
            "nflId:46141<br>displayName:Nathan Shepherd<br>Player Speed:0.134 MPH",
            "nflId:46186<br>displayName:Jordan Whitehead<br>Player Speed:2.997 MPH",
            "nflId:46211<br>displayName:D.J. Reed<br>Player Speed:2.192 MPH",
            "nflId:54469<br>displayName:Ahmad Gardner<br>Player Speed:1.007 MPH",
            "nflId:54491<br>displayName:Jermaine Johnson<br>Player Speed:1.32 MPH",
            "nflId:54582<br>displayName:Micheal Clemons<br>Player Speed:1.432 MPH"
           ],
           "marker": {
            "color": "#000000",
            "line": {
             "color": "#125740",
             "width": 2
            },
            "size": 10
           },
           "mode": "markers",
           "name": "NYJ",
           "type": "scatter",
           "x": [
            45.27,
            48.19,
            45.77,
            44.66,
            41.69,
            41.8,
            52.01,
            42.51,
            43.11,
            41.54,
            41.47
           ],
           "y": [
            28.37,
            33.51,
            31.47,
            21.66,
            28.43,
            31.09,
            29.7,
            40,
            16.15,
            24.05,
            34.47
           ]
          },
          {
           "hoverinfo": "text",
           "hovertext": [
            "nflId:42718<br>displayName:Raheem Mostert<br>Player Speed:2.863 MPH",
            "nflId:43447<br>displayName:Brandon Shell<br>Player Speed:4.228 MPH",
            "nflId:43454<br>displayName:Tyreek Hill<br>Player Speed:6.174 MPH",
            "nflId:46119<br>displayName:Connor Williams<br>Player Speed:3.4 MPH",
            "nflId:46203<br>displayName:Chase Edmonds<br>Player Speed:1.901 MPH",
            "nflId:47820<br>displayName:Greg Little<br>Player Speed:3.288 MPH",
            "nflId:52447<br>displayName:Robert Hunt<br>Player Speed:2.93 MPH",
            "nflId:53435<br>displayName:Jaylen Waddle<br>Player Speed:4.854 MPH",
            "nflId:53471<br>displayName:Liam Eichenberg<br>Player Speed:3.646 MPH",
            "nflId:54712<br>displayName:Skylar Thompson<br>Player Speed:2.684 MPH",
            "nflId:54931<br>displayName:Tanner Conner<br>Player Speed:5.682 MPH"
           ],
           "marker": {
            "color": "#008E97",
            "line": {
             "color": "#FC4C02",
             "width": 2
            },
            "size": 10
           },
           "mode": "markers",
           "name": "MIA",
           "type": "scatter",
           "x": [
            33.92,
            37.27,
            35.06,
            38.9,
            33.73,
            37.71,
            38.39,
            34.68,
            38.14,
            34.46,
            36.51
           ],
           "y": [
            28.26,
            32.45,
            25.67,
            30.06,
            31.62,
            27.2,
            28.44,
            26.49,
            31.53,
            29.38,
            33.21
           ]
          },
          {
           "hoverinfo": "none",
           "marker": {
            "color": "#CBB67C",
            "line": {
             "color": "#663831",
             "width": 2
            },
            "size": 10
           },
           "mode": "markers",
           "name": "football",
           "type": "scatter",
           "x": [
            40.0400009155273
           ],
           "y": [
            29.8199996948242
           ]
          }
         ],
         "name": "15"
        },
        {
         "data": [
          {
           "hoverinfo": "none",
           "mode": "text",
           "showlegend": false,
           "text": [
            "10",
            "20",
            "30",
            "40",
            "50",
            "40",
            "30",
            "20",
            "10"
           ],
           "textfont": {
            "color": "#ffffff",
            "family": "Courier New, monospace",
            "size": 30
           },
           "type": "scatter",
           "x": [
            20,
            30,
            40,
            50,
            60,
            70,
            80,
            90,
            100
           ],
           "y": [
            5,
            5,
            5,
            5,
            5,
            5,
            5,
            5,
            5
           ]
          },
          {
           "hoverinfo": "none",
           "mode": "text",
           "showlegend": false,
           "text": [
            "10",
            "20",
            "30",
            "40",
            "50",
            "40",
            "30",
            "20",
            "10"
           ],
           "textfont": {
            "color": "#ffffff",
            "family": "Courier New, monospace",
            "size": 30
           },
           "type": "scatter",
           "x": [
            20,
            30,
            40,
            50,
            60,
            70,
            80,
            90,
            100
           ],
           "y": [
            48.5,
            48.5,
            48.5,
            48.5,
            48.5,
            48.5,
            48.5,
            48.5,
            48.5
           ]
          },
          {
           "hoverinfo": "none",
           "line": {
            "color": "blue",
            "dash": "dash"
           },
           "showlegend": false,
           "type": "scatter",
           "x": [
            40,
            40
           ],
           "y": [
            0,
            53.5
           ]
          },
          {
           "hoverinfo": "none",
           "line": {
            "color": "yellow",
            "dash": "dash"
           },
           "showlegend": false,
           "type": "scatter",
           "x": [
            45,
            45
           ],
           "y": [
            0,
            53.5
           ]
          },
          {
           "fill": "toself",
           "fillcolor": "#000000",
           "hoverinfo": "skip",
           "line": {
            "color": "white",
            "width": 3
           },
           "mode": "lines",
           "opacity": 1,
           "showlegend": false,
           "type": "scatter",
           "x": [
            0,
            0,
            10,
            10,
            0
           ],
           "y": [
            0,
            53.5,
            53.5,
            0,
            0
           ]
          },
          {
           "fill": "toself",
           "fillcolor": "#008E97",
           "hoverinfo": "skip",
           "line": {
            "color": "white",
            "width": 3
           },
           "mode": "lines",
           "opacity": 1,
           "showlegend": false,
           "type": "scatter",
           "x": [
            110,
            110,
            120,
            120,
            110
           ],
           "y": [
            0,
            53.5,
            53.5,
            0,
            0
           ]
          },
          {
           "hoverinfo": "text",
           "hovertext": [
            "nflId:41243<br>displayName:C.J. Mosley<br>Player Speed:0.246 MPH",
            "nflId:41270<br>displayName:Lamarcus Joyner<br>Player Speed:2.192 MPH",
            "nflId:42467<br>displayName:Kwon Alexander<br>Player Speed:0.336 MPH",
            "nflId:43508<br>displayName:Will Parks<br>Player Speed:1.655 MPH",
            "nflId:44815<br>displayName:Solomon Thomas<br>Player Speed:1.051 MPH",
            "nflId:46141<br>displayName:Nathan Shepherd<br>Player Speed:0.134 MPH",
            "nflId:46186<br>displayName:Jordan Whitehead<br>Player Speed:3.221 MPH",
            "nflId:46211<br>displayName:D.J. Reed<br>Player Speed:2.103 MPH",
            "nflId:54469<br>displayName:Ahmad Gardner<br>Player Speed:1.096 MPH",
            "nflId:54491<br>displayName:Jermaine Johnson<br>Player Speed:1.365 MPH",
            "nflId:54582<br>displayName:Micheal Clemons<br>Player Speed:1.409 MPH"
           ],
           "marker": {
            "color": "#000000",
            "line": {
             "color": "#125740",
             "width": 2
            },
            "size": 10
           },
           "mode": "markers",
           "name": "NYJ",
           "type": "scatter",
           "x": [
            45.29,
            48.28,
            45.78,
            44.63,
            41.68,
            41.8,
            51.98,
            42.53,
            43.14,
            41.52,
            41.49
           ],
           "y": [
            28.35,
            33.49,
            31.48,
            21.59,
            28.38,
            31.1,
            29.84,
            40.09,
            16.12,
            24.1,
            34.41
           ]
          },
          {
           "hoverinfo": "text",
           "hovertext": [
            "nflId:42718<br>displayName:Raheem Mostert<br>Player Speed:2.751 MPH",
            "nflId:43447<br>displayName:Brandon Shell<br>Player Speed:4.205 MPH",
            "nflId:43454<br>displayName:Tyreek Hill<br>Player Speed:6.353 MPH",
            "nflId:46119<br>displayName:Connor Williams<br>Player Speed:2.886 MPH",
            "nflId:46203<br>displayName:Chase Edmonds<br>Player Speed:1.969 MPH",
            "nflId:47820<br>displayName:Greg Little<br>Player Speed:2.863 MPH",
            "nflId:52447<br>displayName:Robert Hunt<br>Player Speed:2.528 MPH",
            "nflId:53435<br>displayName:Jaylen Waddle<br>Player Speed:5.055 MPH",
            "nflId:53471<br>displayName:Liam Eichenberg<br>Player Speed:3.288 MPH",
            "nflId:54712<br>displayName:Skylar Thompson<br>Player Speed:2.528 MPH",
            "nflId:54931<br>displayName:Tanner Conner<br>Player Speed:5.458 MPH"
           ],
           "marker": {
            "color": "#008E97",
            "line": {
             "color": "#FC4C02",
             "width": 2
            },
            "size": 10
           },
           "mode": "markers",
           "name": "MIA",
           "type": "scatter",
           "x": [
            33.95,
            37.45,
            35.23,
            39.03,
            33.78,
            37.83,
            38.5,
            34.72,
            38.29,
            34.49,
            36.68
           ],
           "y": [
            28.14,
            32.54,
            25.44,
            30.06,
            31.69,
            27.14,
            28.42,
            26.27,
            31.57,
            29.27,
            33.4
           ]
          },
          {
           "hoverinfo": "none",
           "marker": {
            "color": "#CBB67C",
            "line": {
             "color": "#663831",
             "width": 2
            },
            "size": 10
           },
           "mode": "markers",
           "name": "football",
           "type": "scatter",
           "x": [
            40.0400009155273
           ],
           "y": [
            29.8199996948242
           ]
          }
         ],
         "name": "16"
        },
        {
         "data": [
          {
           "hoverinfo": "none",
           "mode": "text",
           "showlegend": false,
           "text": [
            "10",
            "20",
            "30",
            "40",
            "50",
            "40",
            "30",
            "20",
            "10"
           ],
           "textfont": {
            "color": "#ffffff",
            "family": "Courier New, monospace",
            "size": 30
           },
           "type": "scatter",
           "x": [
            20,
            30,
            40,
            50,
            60,
            70,
            80,
            90,
            100
           ],
           "y": [
            5,
            5,
            5,
            5,
            5,
            5,
            5,
            5,
            5
           ]
          },
          {
           "hoverinfo": "none",
           "mode": "text",
           "showlegend": false,
           "text": [
            "10",
            "20",
            "30",
            "40",
            "50",
            "40",
            "30",
            "20",
            "10"
           ],
           "textfont": {
            "color": "#ffffff",
            "family": "Courier New, monospace",
            "size": 30
           },
           "type": "scatter",
           "x": [
            20,
            30,
            40,
            50,
            60,
            70,
            80,
            90,
            100
           ],
           "y": [
            48.5,
            48.5,
            48.5,
            48.5,
            48.5,
            48.5,
            48.5,
            48.5,
            48.5
           ]
          },
          {
           "hoverinfo": "none",
           "line": {
            "color": "blue",
            "dash": "dash"
           },
           "showlegend": false,
           "type": "scatter",
           "x": [
            40,
            40
           ],
           "y": [
            0,
            53.5
           ]
          },
          {
           "hoverinfo": "none",
           "line": {
            "color": "yellow",
            "dash": "dash"
           },
           "showlegend": false,
           "type": "scatter",
           "x": [
            45,
            45
           ],
           "y": [
            0,
            53.5
           ]
          },
          {
           "fill": "toself",
           "fillcolor": "#000000",
           "hoverinfo": "skip",
           "line": {
            "color": "white",
            "width": 3
           },
           "mode": "lines",
           "opacity": 1,
           "showlegend": false,
           "type": "scatter",
           "x": [
            0,
            0,
            10,
            10,
            0
           ],
           "y": [
            0,
            53.5,
            53.5,
            0,
            0
           ]
          },
          {
           "fill": "toself",
           "fillcolor": "#008E97",
           "hoverinfo": "skip",
           "line": {
            "color": "white",
            "width": 3
           },
           "mode": "lines",
           "opacity": 1,
           "showlegend": false,
           "type": "scatter",
           "x": [
            110,
            110,
            120,
            120,
            110
           ],
           "y": [
            0,
            53.5,
            53.5,
            0,
            0
           ]
          },
          {
           "hoverinfo": "text",
           "hovertext": [
            "nflId:41243<br>displayName:C.J. Mosley<br>Player Speed:0.246 MPH",
            "nflId:41270<br>displayName:Lamarcus Joyner<br>Player Speed:2.282 MPH",
            "nflId:42467<br>displayName:Kwon Alexander<br>Player Speed:0.336 MPH",
            "nflId:43508<br>displayName:Will Parks<br>Player Speed:1.611 MPH",
            "nflId:44815<br>displayName:Solomon Thomas<br>Player Speed:1.051 MPH",
            "nflId:46141<br>displayName:Nathan Shepherd<br>Player Speed:0.112 MPH",
            "nflId:46186<br>displayName:Jordan Whitehead<br>Player Speed:3.467 MPH",
            "nflId:46211<br>displayName:D.J. Reed<br>Player Speed:1.991 MPH",
            "nflId:54469<br>displayName:Ahmad Gardner<br>Player Speed:1.208 MPH",
            "nflId:54491<br>displayName:Jermaine Johnson<br>Player Speed:1.387 MPH",
            "nflId:54582<br>displayName:Micheal Clemons<br>Player Speed:1.342 MPH"
           ],
           "marker": {
            "color": "#000000",
            "line": {
             "color": "#125740",
             "width": 2
            },
            "size": 10
           },
           "mode": "markers",
           "name": "NYJ",
           "type": "scatter",
           "x": [
            45.32,
            48.38,
            45.78,
            44.6,
            41.67,
            41.79,
            51.94,
            42.56,
            43.19,
            41.49,
            41.5
           ],
           "y": [
            28.34,
            33.46,
            31.51,
            21.52,
            28.33,
            31.1,
            29.99,
            40.18,
            16.09,
            24.16,
            34.35
           ]
          },
          {
           "hoverinfo": "text",
           "hovertext": [
            "nflId:42718<br>displayName:Raheem Mostert<br>Player Speed:2.64 MPH",
            "nflId:43447<br>displayName:Brandon Shell<br>Player Speed:4.094 MPH",
            "nflId:43454<br>displayName:Tyreek Hill<br>Player Speed:6.577 MPH",
            "nflId:46119<br>displayName:Connor Williams<br>Player Speed:2.438 MPH",
            "nflId:46203<br>displayName:Chase Edmonds<br>Player Speed:2.013 MPH",
            "nflId:47820<br>displayName:Greg Little<br>Player Speed:2.483 MPH",
            "nflId:52447<br>displayName:Robert Hunt<br>Player Speed:2.08 MPH",
            "nflId:53435<br>displayName:Jaylen Waddle<br>Player Speed:5.391 MPH",
            "nflId:53471<br>displayName:Liam Eichenberg<br>Player Speed:2.751 MPH",
            "nflId:54712<br>displayName:Skylar Thompson<br>Player Speed:2.304 MPH",
            "nflId:54931<br>displayName:Tanner Conner<br>Player Speed:5.302 MPH"
           ],
           "marker": {
            "color": "#008E97",
            "line": {
             "color": "#FC4C02",
             "width": 2
            },
            "size": 10
           },
           "mode": "markers",
           "name": "MIA",
           "type": "scatter",
           "x": [
            33.98,
            37.61,
            35.4,
            39.15,
            33.84,
            37.94,
            38.6,
            34.75,
            38.41,
            34.52,
            36.84
           ],
           "y": [
            28.02,
            32.63,
            25.2,
            30.05,
            31.76,
            27.09,
            28.39,
            26.04,
            31.61,
            29.17,
            33.57
           ]
          },
          {
           "hoverinfo": "none",
           "marker": {
            "color": "#CBB67C",
            "line": {
             "color": "#663831",
             "width": 2
            },
            "size": 10
           },
           "mode": "markers",
           "name": "football",
           "type": "scatter",
           "x": [
            40.0400009155273
           ],
           "y": [
            29.8199996948242
           ]
          }
         ],
         "name": "17"
        },
        {
         "data": [
          {
           "hoverinfo": "none",
           "mode": "text",
           "showlegend": false,
           "text": [
            "10",
            "20",
            "30",
            "40",
            "50",
            "40",
            "30",
            "20",
            "10"
           ],
           "textfont": {
            "color": "#ffffff",
            "family": "Courier New, monospace",
            "size": 30
           },
           "type": "scatter",
           "x": [
            20,
            30,
            40,
            50,
            60,
            70,
            80,
            90,
            100
           ],
           "y": [
            5,
            5,
            5,
            5,
            5,
            5,
            5,
            5,
            5
           ]
          },
          {
           "hoverinfo": "none",
           "mode": "text",
           "showlegend": false,
           "text": [
            "10",
            "20",
            "30",
            "40",
            "50",
            "40",
            "30",
            "20",
            "10"
           ],
           "textfont": {
            "color": "#ffffff",
            "family": "Courier New, monospace",
            "size": 30
           },
           "type": "scatter",
           "x": [
            20,
            30,
            40,
            50,
            60,
            70,
            80,
            90,
            100
           ],
           "y": [
            48.5,
            48.5,
            48.5,
            48.5,
            48.5,
            48.5,
            48.5,
            48.5,
            48.5
           ]
          },
          {
           "hoverinfo": "none",
           "line": {
            "color": "blue",
            "dash": "dash"
           },
           "showlegend": false,
           "type": "scatter",
           "x": [
            40,
            40
           ],
           "y": [
            0,
            53.5
           ]
          },
          {
           "hoverinfo": "none",
           "line": {
            "color": "yellow",
            "dash": "dash"
           },
           "showlegend": false,
           "type": "scatter",
           "x": [
            45,
            45
           ],
           "y": [
            0,
            53.5
           ]
          },
          {
           "fill": "toself",
           "fillcolor": "#000000",
           "hoverinfo": "skip",
           "line": {
            "color": "white",
            "width": 3
           },
           "mode": "lines",
           "opacity": 1,
           "showlegend": false,
           "type": "scatter",
           "x": [
            0,
            0,
            10,
            10,
            0
           ],
           "y": [
            0,
            53.5,
            53.5,
            0,
            0
           ]
          },
          {
           "fill": "toself",
           "fillcolor": "#008E97",
           "hoverinfo": "skip",
           "line": {
            "color": "white",
            "width": 3
           },
           "mode": "lines",
           "opacity": 1,
           "showlegend": false,
           "type": "scatter",
           "x": [
            110,
            110,
            120,
            120,
            110
           ],
           "y": [
            0,
            53.5,
            53.5,
            0,
            0
           ]
          },
          {
           "hoverinfo": "text",
           "hovertext": [
            "nflId:41243<br>displayName:C.J. Mosley<br>Player Speed:0.246 MPH",
            "nflId:41270<br>displayName:Lamarcus Joyner<br>Player Speed:2.326 MPH",
            "nflId:42467<br>displayName:Kwon Alexander<br>Player Speed:0.313 MPH",
            "nflId:43508<br>displayName:Will Parks<br>Player Speed:1.633 MPH",
            "nflId:44815<br>displayName:Solomon Thomas<br>Player Speed:1.118 MPH",
            "nflId:46141<br>displayName:Nathan Shepherd<br>Player Speed:0.089 MPH",
            "nflId:46186<br>displayName:Jordan Whitehead<br>Player Speed:3.78 MPH",
            "nflId:46211<br>displayName:D.J. Reed<br>Player Speed:1.924 MPH",
            "nflId:54469<br>displayName:Ahmad Gardner<br>Player Speed:1.32 MPH",
            "nflId:54491<br>displayName:Jermaine Johnson<br>Player Speed:1.365 MPH",
            "nflId:54582<br>displayName:Micheal Clemons<br>Player Speed:1.23 MPH"
           ],
           "marker": {
            "color": "#000000",
            "line": {
             "color": "#125740",
             "width": 2
            },
            "size": 10
           },
           "mode": "markers",
           "name": "NYJ",
           "type": "scatter",
           "x": [
            45.34,
            48.47,
            45.79,
            44.57,
            41.65,
            41.79,
            51.88,
            42.6,
            43.23,
            41.47,
            41.5
           ],
           "y": [
            28.32,
            33.41,
            31.53,
            21.45,
            28.28,
            31.1,
            30.15,
            40.26,
            16.06,
            24.22,
            34.3
           ]
          },
          {
           "hoverinfo": "text",
           "hovertext": [
            "nflId:42718<br>displayName:Raheem Mostert<br>Player Speed:2.617 MPH",
            "nflId:43447<br>displayName:Brandon Shell<br>Player Speed:3.937 MPH",
            "nflId:43454<br>displayName:Tyreek Hill<br>Player Speed:6.688 MPH",
            "nflId:46119<br>displayName:Connor Williams<br>Player Speed:2.036 MPH",
            "nflId:46203<br>displayName:Chase Edmonds<br>Player Speed:2.036 MPH",
            "nflId:47820<br>displayName:Greg Little<br>Player Speed:2.036 MPH",
            "nflId:52447<br>displayName:Robert Hunt<br>Player Speed:1.7 MPH",
            "nflId:53435<br>displayName:Jaylen Waddle<br>Player Speed:5.592 MPH",
            "nflId:53471<br>displayName:Liam Eichenberg<br>Player Speed:2.394 MPH",
            "nflId:54712<br>displayName:Skylar Thompson<br>Player Speed:1.991 MPH",
            "nflId:54931<br>displayName:Tanner Conner<br>Player Speed:4.944 MPH"
           ],
           "marker": {
            "color": "#008E97",
            "line": {
             "color": "#FC4C02",
             "width": 2
            },
            "size": 10
           },
           "mode": "markers",
           "name": "MIA",
           "type": "scatter",
           "x": [
            34.03,
            37.76,
            35.59,
            39.25,
            33.9,
            38.02,
            38.68,
            34.78,
            38.52,
            34.55,
            37
           ],
           "y": [
            27.91,
            32.73,
            24.97,
            30.04,
            31.83,
            27.03,
            28.38,
            25.79,
            31.64,
            29.09,
            33.73
           ]
          },
          {
           "hoverinfo": "none",
           "marker": {
            "color": "#CBB67C",
            "line": {
             "color": "#663831",
             "width": 2
            },
            "size": 10
           },
           "mode": "markers",
           "name": "football",
           "type": "scatter",
           "x": [
            40.0400009155273
           ],
           "y": [
            29.8199996948242
           ]
          }
         ],
         "name": "18"
        },
        {
         "data": [
          {
           "hoverinfo": "none",
           "mode": "text",
           "showlegend": false,
           "text": [
            "10",
            "20",
            "30",
            "40",
            "50",
            "40",
            "30",
            "20",
            "10"
           ],
           "textfont": {
            "color": "#ffffff",
            "family": "Courier New, monospace",
            "size": 30
           },
           "type": "scatter",
           "x": [
            20,
            30,
            40,
            50,
            60,
            70,
            80,
            90,
            100
           ],
           "y": [
            5,
            5,
            5,
            5,
            5,
            5,
            5,
            5,
            5
           ]
          },
          {
           "hoverinfo": "none",
           "mode": "text",
           "showlegend": false,
           "text": [
            "10",
            "20",
            "30",
            "40",
            "50",
            "40",
            "30",
            "20",
            "10"
           ],
           "textfont": {
            "color": "#ffffff",
            "family": "Courier New, monospace",
            "size": 30
           },
           "type": "scatter",
           "x": [
            20,
            30,
            40,
            50,
            60,
            70,
            80,
            90,
            100
           ],
           "y": [
            48.5,
            48.5,
            48.5,
            48.5,
            48.5,
            48.5,
            48.5,
            48.5,
            48.5
           ]
          },
          {
           "hoverinfo": "none",
           "line": {
            "color": "blue",
            "dash": "dash"
           },
           "showlegend": false,
           "type": "scatter",
           "x": [
            40,
            40
           ],
           "y": [
            0,
            53.5
           ]
          },
          {
           "hoverinfo": "none",
           "line": {
            "color": "yellow",
            "dash": "dash"
           },
           "showlegend": false,
           "type": "scatter",
           "x": [
            45,
            45
           ],
           "y": [
            0,
            53.5
           ]
          },
          {
           "fill": "toself",
           "fillcolor": "#000000",
           "hoverinfo": "skip",
           "line": {
            "color": "white",
            "width": 3
           },
           "mode": "lines",
           "opacity": 1,
           "showlegend": false,
           "type": "scatter",
           "x": [
            0,
            0,
            10,
            10,
            0
           ],
           "y": [
            0,
            53.5,
            53.5,
            0,
            0
           ]
          },
          {
           "fill": "toself",
           "fillcolor": "#008E97",
           "hoverinfo": "skip",
           "line": {
            "color": "white",
            "width": 3
           },
           "mode": "lines",
           "opacity": 1,
           "showlegend": false,
           "type": "scatter",
           "x": [
            110,
            110,
            120,
            120,
            110
           ],
           "y": [
            0,
            53.5,
            53.5,
            0,
            0
           ]
          },
          {
           "hoverinfo": "text",
           "hovertext": [
            "nflId:41243<br>displayName:C.J. Mosley<br>Player Speed:0.246 MPH",
            "nflId:41270<br>displayName:Lamarcus Joyner<br>Player Speed:2.416 MPH",
            "nflId:42467<br>displayName:Kwon Alexander<br>Player Speed:0.291 MPH",
            "nflId:43508<br>displayName:Will Parks<br>Player Speed:1.499 MPH",
            "nflId:44815<br>displayName:Solomon Thomas<br>Player Speed:1.23 MPH",
            "nflId:46141<br>displayName:Nathan Shepherd<br>Player Speed:0.067 MPH",
            "nflId:46186<br>displayName:Jordan Whitehead<br>Player Speed:4.049 MPH",
            "nflId:46211<br>displayName:D.J. Reed<br>Player Speed:1.812 MPH",
            "nflId:54469<br>displayName:Ahmad Gardner<br>Player Speed:1.365 MPH",
            "nflId:54491<br>displayName:Jermaine Johnson<br>Player Speed:1.32 MPH",
            "nflId:54582<br>displayName:Micheal Clemons<br>Player Speed:1.051 MPH"
           ],
           "marker": {
            "color": "#000000",
            "line": {
             "color": "#125740",
             "width": 2
            },
            "size": 10
           },
           "mode": "markers",
           "name": "NYJ",
           "type": "scatter",
           "x": [
            45.38,
            48.56,
            45.8,
            44.54,
            41.63,
            41.8,
            51.82,
            42.63,
            43.28,
            41.46,
            41.51
           ],
           "y": [
            28.31,
            33.37,
            31.54,
            21.39,
            28.21,
            31.1,
            30.31,
            40.33,
            16.03,
            24.28,
            34.26
           ]
          },
          {
           "hoverinfo": "text",
           "hovertext": [
            "nflId:42718<br>displayName:Raheem Mostert<br>Player Speed:2.528 MPH",
            "nflId:43447<br>displayName:Brandon Shell<br>Player Speed:3.78 MPH",
            "nflId:43454<br>displayName:Tyreek Hill<br>Player Speed:6.845 MPH",
            "nflId:46119<br>displayName:Connor Williams<br>Player Speed:1.79 MPH",
            "nflId:46203<br>displayName:Chase Edmonds<br>Player Speed:2.058 MPH",
            "nflId:47820<br>displayName:Greg Little<br>Player Speed:1.745 MPH",
            "nflId:52447<br>displayName:Robert Hunt<br>Player Speed:1.387 MPH",
            "nflId:53435<br>displayName:Jaylen Waddle<br>Player Speed:5.838 MPH",
            "nflId:53471<br>displayName:Liam Eichenberg<br>Player Speed:2.058 MPH",
            "nflId:54712<br>displayName:Skylar Thompson<br>Player Speed:1.543 MPH",
            "nflId:54931<br>displayName:Tanner Conner<br>Player Speed:4.787 MPH"
           ],
           "marker": {
            "color": "#008E97",
            "line": {
             "color": "#FC4C02",
             "width": 2
            },
            "size": 10
           },
           "mode": "markers",
           "name": "MIA",
           "type": "scatter",
           "x": [
            34.08,
            37.91,
            35.79,
            39.34,
            33.96,
            38.09,
            38.75,
            34.82,
            38.62,
            34.57,
            37.16
           ],
           "y": [
            27.81,
            32.82,
            24.73,
            30.03,
            31.89,
            26.98,
            28.38,
            25.54,
            31.65,
            29.02,
            33.89
           ]
          },
          {
           "hoverinfo": "none",
           "marker": {
            "color": "#CBB67C",
            "line": {
             "color": "#663831",
             "width": 2
            },
            "size": 10
           },
           "mode": "markers",
           "name": "football",
           "type": "scatter",
           "x": [
            40.0400009155273
           ],
           "y": [
            29.8199996948242
           ]
          }
         ],
         "name": "19"
        },
        {
         "data": [
          {
           "hoverinfo": "none",
           "mode": "text",
           "showlegend": false,
           "text": [
            "10",
            "20",
            "30",
            "40",
            "50",
            "40",
            "30",
            "20",
            "10"
           ],
           "textfont": {
            "color": "#ffffff",
            "family": "Courier New, monospace",
            "size": 30
           },
           "type": "scatter",
           "x": [
            20,
            30,
            40,
            50,
            60,
            70,
            80,
            90,
            100
           ],
           "y": [
            5,
            5,
            5,
            5,
            5,
            5,
            5,
            5,
            5
           ]
          },
          {
           "hoverinfo": "none",
           "mode": "text",
           "showlegend": false,
           "text": [
            "10",
            "20",
            "30",
            "40",
            "50",
            "40",
            "30",
            "20",
            "10"
           ],
           "textfont": {
            "color": "#ffffff",
            "family": "Courier New, monospace",
            "size": 30
           },
           "type": "scatter",
           "x": [
            20,
            30,
            40,
            50,
            60,
            70,
            80,
            90,
            100
           ],
           "y": [
            48.5,
            48.5,
            48.5,
            48.5,
            48.5,
            48.5,
            48.5,
            48.5,
            48.5
           ]
          },
          {
           "hoverinfo": "none",
           "line": {
            "color": "blue",
            "dash": "dash"
           },
           "showlegend": false,
           "type": "scatter",
           "x": [
            40,
            40
           ],
           "y": [
            0,
            53.5
           ]
          },
          {
           "hoverinfo": "none",
           "line": {
            "color": "yellow",
            "dash": "dash"
           },
           "showlegend": false,
           "type": "scatter",
           "x": [
            45,
            45
           ],
           "y": [
            0,
            53.5
           ]
          },
          {
           "fill": "toself",
           "fillcolor": "#000000",
           "hoverinfo": "skip",
           "line": {
            "color": "white",
            "width": 3
           },
           "mode": "lines",
           "opacity": 1,
           "showlegend": false,
           "type": "scatter",
           "x": [
            0,
            0,
            10,
            10,
            0
           ],
           "y": [
            0,
            53.5,
            53.5,
            0,
            0
           ]
          },
          {
           "fill": "toself",
           "fillcolor": "#008E97",
           "hoverinfo": "skip",
           "line": {
            "color": "white",
            "width": 3
           },
           "mode": "lines",
           "opacity": 1,
           "showlegend": false,
           "type": "scatter",
           "x": [
            110,
            110,
            120,
            120,
            110
           ],
           "y": [
            0,
            53.5,
            53.5,
            0,
            0
           ]
          },
          {
           "hoverinfo": "text",
           "hovertext": [
            "nflId:41243<br>displayName:C.J. Mosley<br>Player Speed:0.224 MPH",
            "nflId:41270<br>displayName:Lamarcus Joyner<br>Player Speed:2.461 MPH",
            "nflId:42467<br>displayName:Kwon Alexander<br>Player Speed:0.268 MPH",
            "nflId:43508<br>displayName:Will Parks<br>Player Speed:1.476 MPH",
            "nflId:44815<br>displayName:Solomon Thomas<br>Player Speed:1.297 MPH",
            "nflId:46141<br>displayName:Nathan Shepherd<br>Player Speed:0.067 MPH",
            "nflId:46186<br>displayName:Jordan Whitehead<br>Player Speed:4.295 MPH",
            "nflId:46211<br>displayName:D.J. Reed<br>Player Speed:1.7 MPH",
            "nflId:54469<br>displayName:Ahmad Gardner<br>Player Speed:1.387 MPH",
            "nflId:54491<br>displayName:Jermaine Johnson<br>Player Speed:1.342 MPH",
            "nflId:54582<br>displayName:Micheal Clemons<br>Player Speed:0.94 MPH"
           ],
           "marker": {
            "color": "#000000",
            "line": {
             "color": "#125740",
             "width": 2
            },
            "size": 10
           },
           "mode": "markers",
           "name": "NYJ",
           "type": "scatter",
           "x": [
            45.39,
            48.65,
            45.8,
            44.51,
            41.61,
            41.79,
            51.74,
            42.67,
            43.33,
            41.44,
            41.52
           ],
           "y": [
            28.3,
            33.3,
            31.55,
            21.33,
            28.15,
            31.1,
            30.49,
            40.4,
            16,
            24.34,
            34.22
           ]
          },
          {
           "hoverinfo": "text",
           "hovertext": [
            "nflId:42718<br>displayName:Raheem Mostert<br>Player Speed:2.505 MPH",
            "nflId:43447<br>displayName:Brandon Shell<br>Player Speed:3.512 MPH",
            "nflId:43454<br>displayName:Tyreek Hill<br>Player Speed:6.845 MPH",
            "nflId:46119<br>displayName:Connor Williams<br>Player Speed:1.79 MPH",
            "nflId:46203<br>displayName:Chase Edmonds<br>Player Speed:2.058 MPH",
            "nflId:47820<br>displayName:Greg Little<br>Player Speed:1.476 MPH",
            "nflId:52447<br>displayName:Robert Hunt<br>Player Speed:1.074 MPH",
            "nflId:53435<br>displayName:Jaylen Waddle<br>Player Speed:6.017 MPH",
            "nflId:53471<br>displayName:Liam Eichenberg<br>Player Speed:1.678 MPH",
            "nflId:54712<br>displayName:Skylar Thompson<br>Player Speed:1.141 MPH",
            "nflId:54931<br>displayName:Tanner Conner<br>Player Speed:4.586 MPH"
           ],
           "marker": {
            "color": "#008E97",
            "line": {
             "color": "#FC4C02",
             "width": 2
            },
            "size": 10
           },
           "mode": "markers",
           "name": "MIA",
           "type": "scatter",
           "x": [
            34.13,
            38.04,
            35.98,
            39.43,
            34.03,
            38.14,
            38.8,
            34.87,
            38.7,
            34.59,
            37.31
           ],
           "y": [
            27.71,
            32.92,
            24.5,
            30.01,
            31.96,
            26.94,
            28.37,
            25.28,
            31.66,
            28.96,
            34.04
           ]
          },
          {
           "hoverinfo": "none",
           "marker": {
            "color": "#CBB67C",
            "line": {
             "color": "#663831",
             "width": 2
            },
            "size": 10
           },
           "mode": "markers",
           "name": "football",
           "type": "scatter",
           "x": [
            40.0400009155273
           ],
           "y": [
            29.8199996948242
           ]
          }
         ],
         "name": "20"
        },
        {
         "data": [
          {
           "hoverinfo": "none",
           "mode": "text",
           "showlegend": false,
           "text": [
            "10",
            "20",
            "30",
            "40",
            "50",
            "40",
            "30",
            "20",
            "10"
           ],
           "textfont": {
            "color": "#ffffff",
            "family": "Courier New, monospace",
            "size": 30
           },
           "type": "scatter",
           "x": [
            20,
            30,
            40,
            50,
            60,
            70,
            80,
            90,
            100
           ],
           "y": [
            5,
            5,
            5,
            5,
            5,
            5,
            5,
            5,
            5
           ]
          },
          {
           "hoverinfo": "none",
           "mode": "text",
           "showlegend": false,
           "text": [
            "10",
            "20",
            "30",
            "40",
            "50",
            "40",
            "30",
            "20",
            "10"
           ],
           "textfont": {
            "color": "#ffffff",
            "family": "Courier New, monospace",
            "size": 30
           },
           "type": "scatter",
           "x": [
            20,
            30,
            40,
            50,
            60,
            70,
            80,
            90,
            100
           ],
           "y": [
            48.5,
            48.5,
            48.5,
            48.5,
            48.5,
            48.5,
            48.5,
            48.5,
            48.5
           ]
          },
          {
           "hoverinfo": "none",
           "line": {
            "color": "blue",
            "dash": "dash"
           },
           "showlegend": false,
           "type": "scatter",
           "x": [
            40,
            40
           ],
           "y": [
            0,
            53.5
           ]
          },
          {
           "hoverinfo": "none",
           "line": {
            "color": "yellow",
            "dash": "dash"
           },
           "showlegend": false,
           "type": "scatter",
           "x": [
            45,
            45
           ],
           "y": [
            0,
            53.5
           ]
          },
          {
           "fill": "toself",
           "fillcolor": "#000000",
           "hoverinfo": "skip",
           "line": {
            "color": "white",
            "width": 3
           },
           "mode": "lines",
           "opacity": 1,
           "showlegend": false,
           "type": "scatter",
           "x": [
            0,
            0,
            10,
            10,
            0
           ],
           "y": [
            0,
            53.5,
            53.5,
            0,
            0
           ]
          },
          {
           "fill": "toself",
           "fillcolor": "#008E97",
           "hoverinfo": "skip",
           "line": {
            "color": "white",
            "width": 3
           },
           "mode": "lines",
           "opacity": 1,
           "showlegend": false,
           "type": "scatter",
           "x": [
            110,
            110,
            120,
            120,
            110
           ],
           "y": [
            0,
            53.5,
            53.5,
            0,
            0
           ]
          },
          {
           "hoverinfo": "text",
           "hovertext": [
            "nflId:41243<br>displayName:C.J. Mosley<br>Player Speed:0.224 MPH",
            "nflId:41270<br>displayName:Lamarcus Joyner<br>Player Speed:2.617 MPH",
            "nflId:42467<br>displayName:Kwon Alexander<br>Player Speed:0.224 MPH",
            "nflId:43508<br>displayName:Will Parks<br>Player Speed:1.409 MPH",
            "nflId:44815<br>displayName:Solomon Thomas<br>Player Speed:1.275 MPH",
            "nflId:46141<br>displayName:Nathan Shepherd<br>Player Speed:0.067 MPH",
            "nflId:46186<br>displayName:Jordan Whitehead<br>Player Speed:4.474 MPH",
            "nflId:46211<br>displayName:D.J. Reed<br>Player Speed:1.611 MPH",
            "nflId:54469<br>displayName:Ahmad Gardner<br>Player Speed:1.409 MPH",
            "nflId:54491<br>displayName:Jermaine Johnson<br>Player Speed:1.32 MPH",
            "nflId:54582<br>displayName:Micheal Clemons<br>Player Speed:0.738 MPH"
           ],
           "marker": {
            "color": "#000000",
            "line": {
             "color": "#125740",
             "width": 2
            },
            "size": 10
           },
           "mode": "markers",
           "name": "NYJ",
           "type": "scatter",
           "x": [
            45.41,
            48.74,
            45.8,
            44.47,
            41.6,
            41.78,
            51.65,
            42.7,
            43.38,
            41.44,
            41.51
           ],
           "y": [
            28.28,
            33.22,
            31.55,
            21.27,
            28.1,
            31.11,
            30.66,
            40.47,
            15.96,
            24.4,
            34.19
           ]
          },
          {
           "hoverinfo": "text",
           "hovertext": [
            "nflId:42718<br>displayName:Raheem Mostert<br>Player Speed:2.416 MPH",
            "nflId:43447<br>displayName:Brandon Shell<br>Player Speed:3.221 MPH",
            "nflId:43454<br>displayName:Tyreek Hill<br>Player Speed:6.778 MPH",
            "nflId:46119<br>displayName:Connor Williams<br>Player Speed:1.722 MPH",
            "nflId:46203<br>displayName:Chase Edmonds<br>Player Speed:1.834 MPH",
            "nflId:47820<br>displayName:Greg Little<br>Player Speed:1.23 MPH",
            "nflId:52447<br>displayName:Robert Hunt<br>Player Speed:0.805 MPH",
            "nflId:53435<br>displayName:Jaylen Waddle<br>Player Speed:6.062 MPH",
            "nflId:53471<br>displayName:Liam Eichenberg<br>Player Speed:1.432 MPH",
            "nflId:54712<br>displayName:Skylar Thompson<br>Player Speed:0.693 MPH",
            "nflId:54931<br>displayName:Tanner Conner<br>Player Speed:4.384 MPH"
           ],
           "marker": {
            "color": "#008E97",
            "line": {
             "color": "#FC4C02",
             "width": 2
            },
            "size": 10
           },
           "mode": "markers",
           "name": "MIA",
           "type": "scatter",
           "x": [
            34.19,
            38.17,
            36.19,
            39.51,
            34.09,
            38.19,
            38.84,
            34.92,
            38.77,
            34.6,
            37.45
           ],
           "y": [
            27.62,
            33,
            24.28,
            29.98,
            32.02,
            26.91,
            28.37,
            25.01,
            31.65,
            28.93,
            34.18
           ]
          },
          {
           "hoverinfo": "none",
           "marker": {
            "color": "#CBB67C",
            "line": {
             "color": "#663831",
             "width": 2
            },
            "size": 10
           },
           "mode": "markers",
           "name": "football",
           "type": "scatter",
           "x": [
            40.0400009155273
           ],
           "y": [
            29.8199996948242
           ]
          }
         ],
         "name": "21"
        },
        {
         "data": [
          {
           "hoverinfo": "none",
           "mode": "text",
           "showlegend": false,
           "text": [
            "10",
            "20",
            "30",
            "40",
            "50",
            "40",
            "30",
            "20",
            "10"
           ],
           "textfont": {
            "color": "#ffffff",
            "family": "Courier New, monospace",
            "size": 30
           },
           "type": "scatter",
           "x": [
            20,
            30,
            40,
            50,
            60,
            70,
            80,
            90,
            100
           ],
           "y": [
            5,
            5,
            5,
            5,
            5,
            5,
            5,
            5,
            5
           ]
          },
          {
           "hoverinfo": "none",
           "mode": "text",
           "showlegend": false,
           "text": [
            "10",
            "20",
            "30",
            "40",
            "50",
            "40",
            "30",
            "20",
            "10"
           ],
           "textfont": {
            "color": "#ffffff",
            "family": "Courier New, monospace",
            "size": 30
           },
           "type": "scatter",
           "x": [
            20,
            30,
            40,
            50,
            60,
            70,
            80,
            90,
            100
           ],
           "y": [
            48.5,
            48.5,
            48.5,
            48.5,
            48.5,
            48.5,
            48.5,
            48.5,
            48.5
           ]
          },
          {
           "hoverinfo": "none",
           "line": {
            "color": "blue",
            "dash": "dash"
           },
           "showlegend": false,
           "type": "scatter",
           "x": [
            40,
            40
           ],
           "y": [
            0,
            53.5
           ]
          },
          {
           "hoverinfo": "none",
           "line": {
            "color": "yellow",
            "dash": "dash"
           },
           "showlegend": false,
           "type": "scatter",
           "x": [
            45,
            45
           ],
           "y": [
            0,
            53.5
           ]
          },
          {
           "fill": "toself",
           "fillcolor": "#000000",
           "hoverinfo": "skip",
           "line": {
            "color": "white",
            "width": 3
           },
           "mode": "lines",
           "opacity": 1,
           "showlegend": false,
           "type": "scatter",
           "x": [
            0,
            0,
            10,
            10,
            0
           ],
           "y": [
            0,
            53.5,
            53.5,
            0,
            0
           ]
          },
          {
           "fill": "toself",
           "fillcolor": "#008E97",
           "hoverinfo": "skip",
           "line": {
            "color": "white",
            "width": 3
           },
           "mode": "lines",
           "opacity": 1,
           "showlegend": false,
           "type": "scatter",
           "x": [
            110,
            110,
            120,
            120,
            110
           ],
           "y": [
            0,
            53.5,
            53.5,
            0,
            0
           ]
          },
          {
           "hoverinfo": "text",
           "hovertext": [
            "nflId:41243<br>displayName:C.J. Mosley<br>Player Speed:0.201 MPH",
            "nflId:41270<br>displayName:Lamarcus Joyner<br>Player Speed:2.751 MPH",
            "nflId:42467<br>displayName:Kwon Alexander<br>Player Speed:0.201 MPH",
            "nflId:43508<br>displayName:Will Parks<br>Player Speed:1.432 MPH",
            "nflId:44815<br>displayName:Solomon Thomas<br>Player Speed:1.32 MPH",
            "nflId:46141<br>displayName:Nathan Shepherd<br>Player Speed:0.067 MPH",
            "nflId:46186<br>displayName:Jordan Whitehead<br>Player Speed:4.608 MPH",
            "nflId:46211<br>displayName:D.J. Reed<br>Player Speed:1.409 MPH",
            "nflId:54469<br>displayName:Ahmad Gardner<br>Player Speed:1.499 MPH",
            "nflId:54491<br>displayName:Jermaine Johnson<br>Player Speed:1.208 MPH",
            "nflId:54582<br>displayName:Micheal Clemons<br>Player Speed:0.693 MPH"
           ],
           "marker": {
            "color": "#000000",
            "line": {
             "color": "#125740",
             "width": 2
            },
            "size": 10
           },
           "mode": "markers",
           "name": "NYJ",
           "type": "scatter",
           "x": [
            45.43,
            48.82,
            45.81,
            44.43,
            41.58,
            41.78,
            51.55,
            42.74,
            43.43,
            41.44,
            41.52
           ],
           "y": [
            28.28,
            33.13,
            31.55,
            21.22,
            28.04,
            31.11,
            30.84,
            40.52,
            15.91,
            24.45,
            34.15
           ]
          },
          {
           "hoverinfo": "text",
           "hovertext": [
            "nflId:42718<br>displayName:Raheem Mostert<br>Player Speed:2.371 MPH",
            "nflId:43447<br>displayName:Brandon Shell<br>Player Speed:2.908 MPH",
            "nflId:43454<br>displayName:Tyreek Hill<br>Player Speed:6.688 MPH",
            "nflId:46119<br>displayName:Connor Williams<br>Player Speed:1.633 MPH",
            "nflId:46203<br>displayName:Chase Edmonds<br>Player Speed:1.722 MPH",
            "nflId:47820<br>displayName:Greg Little<br>Player Speed:1.074 MPH",
            "nflId:52447<br>displayName:Robert Hunt<br>Player Speed:0.559 MPH",
            "nflId:53435<br>displayName:Jaylen Waddle<br>Player Speed:6.174 MPH",
            "nflId:53471<br>displayName:Liam Eichenberg<br>Player Speed:1.297 MPH",
            "nflId:54712<br>displayName:Skylar Thompson<br>Player Speed:0.157 MPH",
            "nflId:54931<br>displayName:Tanner Conner<br>Player Speed:4.273 MPH"
           ],
           "marker": {
            "color": "#008E97",
            "line": {
             "color": "#FC4C02",
             "width": 2
            },
            "size": 10
           },
           "mode": "markers",
           "name": "MIA",
           "type": "scatter",
           "x": [
            34.26,
            38.28,
            36.39,
            39.58,
            34.16,
            38.24,
            38.87,
            34.98,
            38.83,
            34.6,
            37.59
           ],
           "y": [
            27.53,
            33.07,
            24.06,
            29.96,
            32.06,
            26.88,
            28.37,
            24.75,
            31.64,
            28.92,
            34.32
           ]
          },
          {
           "hoverinfo": "none",
           "marker": {
            "color": "#CBB67C",
            "line": {
             "color": "#663831",
             "width": 2
            },
            "size": 10
           },
           "mode": "markers",
           "name": "football",
           "type": "scatter",
           "x": [
            40.0400009155273
           ],
           "y": [
            29.8199996948242
           ]
          }
         ],
         "name": "22"
        },
        {
         "data": [
          {
           "hoverinfo": "none",
           "mode": "text",
           "showlegend": false,
           "text": [
            "10",
            "20",
            "30",
            "40",
            "50",
            "40",
            "30",
            "20",
            "10"
           ],
           "textfont": {
            "color": "#ffffff",
            "family": "Courier New, monospace",
            "size": 30
           },
           "type": "scatter",
           "x": [
            20,
            30,
            40,
            50,
            60,
            70,
            80,
            90,
            100
           ],
           "y": [
            5,
            5,
            5,
            5,
            5,
            5,
            5,
            5,
            5
           ]
          },
          {
           "hoverinfo": "none",
           "mode": "text",
           "showlegend": false,
           "text": [
            "10",
            "20",
            "30",
            "40",
            "50",
            "40",
            "30",
            "20",
            "10"
           ],
           "textfont": {
            "color": "#ffffff",
            "family": "Courier New, monospace",
            "size": 30
           },
           "type": "scatter",
           "x": [
            20,
            30,
            40,
            50,
            60,
            70,
            80,
            90,
            100
           ],
           "y": [
            48.5,
            48.5,
            48.5,
            48.5,
            48.5,
            48.5,
            48.5,
            48.5,
            48.5
           ]
          },
          {
           "hoverinfo": "none",
           "line": {
            "color": "blue",
            "dash": "dash"
           },
           "showlegend": false,
           "type": "scatter",
           "x": [
            40,
            40
           ],
           "y": [
            0,
            53.5
           ]
          },
          {
           "hoverinfo": "none",
           "line": {
            "color": "yellow",
            "dash": "dash"
           },
           "showlegend": false,
           "type": "scatter",
           "x": [
            45,
            45
           ],
           "y": [
            0,
            53.5
           ]
          },
          {
           "fill": "toself",
           "fillcolor": "#000000",
           "hoverinfo": "skip",
           "line": {
            "color": "white",
            "width": 3
           },
           "mode": "lines",
           "opacity": 1,
           "showlegend": false,
           "type": "scatter",
           "x": [
            0,
            0,
            10,
            10,
            0
           ],
           "y": [
            0,
            53.5,
            53.5,
            0,
            0
           ]
          },
          {
           "fill": "toself",
           "fillcolor": "#008E97",
           "hoverinfo": "skip",
           "line": {
            "color": "white",
            "width": 3
           },
           "mode": "lines",
           "opacity": 1,
           "showlegend": false,
           "type": "scatter",
           "x": [
            110,
            110,
            120,
            120,
            110
           ],
           "y": [
            0,
            53.5,
            53.5,
            0,
            0
           ]
          },
          {
           "hoverinfo": "text",
           "hovertext": [
            "nflId:41243<br>displayName:C.J. Mosley<br>Player Speed:0.201 MPH",
            "nflId:41270<br>displayName:Lamarcus Joyner<br>Player Speed:2.975 MPH",
            "nflId:42467<br>displayName:Kwon Alexander<br>Player Speed:0.179 MPH",
            "nflId:43508<br>displayName:Will Parks<br>Player Speed:1.365 MPH",
            "nflId:44815<br>displayName:Solomon Thomas<br>Player Speed:1.32 MPH",
            "nflId:46141<br>displayName:Nathan Shepherd<br>Player Speed:0.045 MPH",
            "nflId:46186<br>displayName:Jordan Whitehead<br>Player Speed:4.675 MPH",
            "nflId:46211<br>displayName:D.J. Reed<br>Player Speed:1.186 MPH",
            "nflId:54469<br>displayName:Ahmad Gardner<br>Player Speed:1.521 MPH",
            "nflId:54491<br>displayName:Jermaine Johnson<br>Player Speed:1.051 MPH",
            "nflId:54582<br>displayName:Micheal Clemons<br>Player Speed:0.582 MPH"
           ],
           "marker": {
            "color": "#000000",
            "line": {
             "color": "#125740",
             "width": 2
            },
            "size": 10
           },
           "mode": "markers",
           "name": "NYJ",
           "type": "scatter",
           "x": [
            45.44,
            48.89,
            45.81,
            44.39,
            41.57,
            41.76,
            51.45,
            42.78,
            43.48,
            41.44,
            41.52
           ],
           "y": [
            28.27,
            33.03,
            31.54,
            21.18,
            27.98,
            31.11,
            31.02,
            40.57,
            15.87,
            24.5,
            34.12
           ]
          },
          {
           "hoverinfo": "text",
           "hovertext": [
            "nflId:42718<br>displayName:Raheem Mostert<br>Player Speed:2.394 MPH",
            "nflId:43447<br>displayName:Brandon Shell<br>Player Speed:2.438 MPH",
            "nflId:43454<br>displayName:Tyreek Hill<br>Player Speed:6.666 MPH",
            "nflId:46119<br>displayName:Connor Williams<br>Player Speed:1.499 MPH",
            "nflId:46203<br>displayName:Chase Edmonds<br>Player Speed:1.543 MPH",
            "nflId:47820<br>displayName:Greg Little<br>Player Speed:0.917 MPH",
            "nflId:52447<br>displayName:Robert Hunt<br>Player Speed:0.47 MPH",
            "nflId:53435<br>displayName:Jaylen Waddle<br>Player Speed:6.263 MPH",
            "nflId:53471<br>displayName:Liam Eichenberg<br>Player Speed:1.23 MPH",
            "nflId:54712<br>displayName:Skylar Thompson<br>Player Speed:0.291 MPH",
            "nflId:54931<br>displayName:Tanner Conner<br>Player Speed:4.161 MPH"
           ],
           "marker": {
            "color": "#008E97",
            "line": {
             "color": "#FC4C02",
             "width": 2
            },
            "size": 10
           },
           "mode": "markers",
           "name": "MIA",
           "type": "scatter",
           "x": [
            34.32,
            38.38,
            36.6,
            39.64,
            34.22,
            38.28,
            38.9,
            35.05,
            38.89,
            34.6,
            37.72
           ],
           "y": [
            27.44,
            33.11,
            23.84,
            29.94,
            32.1,
            26.86,
            28.36,
            24.47,
            31.62,
            28.92,
            34.45
           ]
          },
          {
           "hoverinfo": "none",
           "marker": {
            "color": "#CBB67C",
            "line": {
             "color": "#663831",
             "width": 2
            },
            "size": 10
           },
           "mode": "markers",
           "name": "football",
           "type": "scatter",
           "x": [
            40.0400009155273
           ],
           "y": [
            29.8299999237061
           ]
          }
         ],
         "name": "23"
        },
        {
         "data": [
          {
           "hoverinfo": "none",
           "mode": "text",
           "showlegend": false,
           "text": [
            "10",
            "20",
            "30",
            "40",
            "50",
            "40",
            "30",
            "20",
            "10"
           ],
           "textfont": {
            "color": "#ffffff",
            "family": "Courier New, monospace",
            "size": 30
           },
           "type": "scatter",
           "x": [
            20,
            30,
            40,
            50,
            60,
            70,
            80,
            90,
            100
           ],
           "y": [
            5,
            5,
            5,
            5,
            5,
            5,
            5,
            5,
            5
           ]
          },
          {
           "hoverinfo": "none",
           "mode": "text",
           "showlegend": false,
           "text": [
            "10",
            "20",
            "30",
            "40",
            "50",
            "40",
            "30",
            "20",
            "10"
           ],
           "textfont": {
            "color": "#ffffff",
            "family": "Courier New, monospace",
            "size": 30
           },
           "type": "scatter",
           "x": [
            20,
            30,
            40,
            50,
            60,
            70,
            80,
            90,
            100
           ],
           "y": [
            48.5,
            48.5,
            48.5,
            48.5,
            48.5,
            48.5,
            48.5,
            48.5,
            48.5
           ]
          },
          {
           "hoverinfo": "none",
           "line": {
            "color": "blue",
            "dash": "dash"
           },
           "showlegend": false,
           "type": "scatter",
           "x": [
            40,
            40
           ],
           "y": [
            0,
            53.5
           ]
          },
          {
           "hoverinfo": "none",
           "line": {
            "color": "yellow",
            "dash": "dash"
           },
           "showlegend": false,
           "type": "scatter",
           "x": [
            45,
            45
           ],
           "y": [
            0,
            53.5
           ]
          },
          {
           "fill": "toself",
           "fillcolor": "#000000",
           "hoverinfo": "skip",
           "line": {
            "color": "white",
            "width": 3
           },
           "mode": "lines",
           "opacity": 1,
           "showlegend": false,
           "type": "scatter",
           "x": [
            0,
            0,
            10,
            10,
            0
           ],
           "y": [
            0,
            53.5,
            53.5,
            0,
            0
           ]
          },
          {
           "fill": "toself",
           "fillcolor": "#008E97",
           "hoverinfo": "skip",
           "line": {
            "color": "white",
            "width": 3
           },
           "mode": "lines",
           "opacity": 1,
           "showlegend": false,
           "type": "scatter",
           "x": [
            110,
            110,
            120,
            120,
            110
           ],
           "y": [
            0,
            53.5,
            53.5,
            0,
            0
           ]
          },
          {
           "hoverinfo": "text",
           "hovertext": [
            "nflId:41243<br>displayName:C.J. Mosley<br>Player Speed:0.268 MPH",
            "nflId:41270<br>displayName:Lamarcus Joyner<br>Player Speed:3.176 MPH",
            "nflId:42467<br>displayName:Kwon Alexander<br>Player Speed:0.134 MPH",
            "nflId:43508<br>displayName:Will Parks<br>Player Speed:1.342 MPH",
            "nflId:44815<br>displayName:Solomon Thomas<br>Player Speed:1.32 MPH",
            "nflId:46141<br>displayName:Nathan Shepherd<br>Player Speed:0.045 MPH",
            "nflId:46186<br>displayName:Jordan Whitehead<br>Player Speed:4.698 MPH",
            "nflId:46211<br>displayName:D.J. Reed<br>Player Speed:1.096 MPH",
            "nflId:54469<br>displayName:Ahmad Gardner<br>Player Speed:1.521 MPH",
            "nflId:54491<br>displayName:Jermaine Johnson<br>Player Speed:0.716 MPH",
            "nflId:54582<br>displayName:Micheal Clemons<br>Player Speed:0.358 MPH"
           ],
           "marker": {
            "color": "#000000",
            "line": {
             "color": "#125740",
             "width": 2
            },
            "size": 10
           },
           "mode": "markers",
           "name": "NYJ",
           "type": "scatter",
           "x": [
            45.45,
            48.97,
            45.82,
            44.35,
            41.56,
            41.75,
            51.34,
            42.81,
            43.54,
            41.45,
            41.52
           ],
           "y": [
            28.26,
            32.91,
            31.52,
            21.14,
            27.92,
            31.12,
            31.2,
            40.6,
            15.83,
            24.53,
            34.11
           ]
          },
          {
           "hoverinfo": "text",
           "hovertext": [
            "nflId:42718<br>displayName:Raheem Mostert<br>Player Speed:2.326 MPH",
            "nflId:43447<br>displayName:Brandon Shell<br>Player Speed:2.125 MPH",
            "nflId:43454<br>displayName:Tyreek Hill<br>Player Speed:6.577 MPH",
            "nflId:46119<br>displayName:Connor Williams<br>Player Speed:1.365 MPH",
            "nflId:46203<br>displayName:Chase Edmonds<br>Player Speed:1.387 MPH",
            "nflId:47820<br>displayName:Greg Little<br>Player Speed:0.783 MPH",
            "nflId:52447<br>displayName:Robert Hunt<br>Player Speed:0.336 MPH",
            "nflId:53435<br>displayName:Jaylen Waddle<br>Player Speed:6.308 MPH",
            "nflId:53471<br>displayName:Liam Eichenberg<br>Player Speed:1.208 MPH",
            "nflId:54712<br>displayName:Skylar Thompson<br>Player Speed:0.693 MPH",
            "nflId:54931<br>displayName:Tanner Conner<br>Player Speed:3.937 MPH"
           ],
           "marker": {
            "color": "#008E97",
            "line": {
             "color": "#FC4C02",
             "width": 2
            },
            "size": 10
           },
           "mode": "markers",
           "name": "MIA",
           "type": "scatter",
           "x": [
            34.37,
            38.48,
            36.81,
            39.7,
            34.27,
            38.32,
            38.91,
            35.13,
            38.93,
            34.59,
            37.85
           ],
           "y": [
            27.35,
            33.14,
            23.63,
            29.92,
            32.13,
            26.85,
            28.35,
            24.2,
            31.59,
            28.94,
            34.57
           ]
          },
          {
           "hoverinfo": "none",
           "marker": {
            "color": "#CBB67C",
            "line": {
             "color": "#663831",
             "width": 2
            },
            "size": 10
           },
           "mode": "markers",
           "name": "football",
           "type": "scatter",
           "x": [
            40.0400009155273
           ],
           "y": [
            29.8199996948242
           ]
          }
         ],
         "name": "24"
        },
        {
         "data": [
          {
           "hoverinfo": "none",
           "mode": "text",
           "showlegend": false,
           "text": [
            "10",
            "20",
            "30",
            "40",
            "50",
            "40",
            "30",
            "20",
            "10"
           ],
           "textfont": {
            "color": "#ffffff",
            "family": "Courier New, monospace",
            "size": 30
           },
           "type": "scatter",
           "x": [
            20,
            30,
            40,
            50,
            60,
            70,
            80,
            90,
            100
           ],
           "y": [
            5,
            5,
            5,
            5,
            5,
            5,
            5,
            5,
            5
           ]
          },
          {
           "hoverinfo": "none",
           "mode": "text",
           "showlegend": false,
           "text": [
            "10",
            "20",
            "30",
            "40",
            "50",
            "40",
            "30",
            "20",
            "10"
           ],
           "textfont": {
            "color": "#ffffff",
            "family": "Courier New, monospace",
            "size": 30
           },
           "type": "scatter",
           "x": [
            20,
            30,
            40,
            50,
            60,
            70,
            80,
            90,
            100
           ],
           "y": [
            48.5,
            48.5,
            48.5,
            48.5,
            48.5,
            48.5,
            48.5,
            48.5,
            48.5
           ]
          },
          {
           "hoverinfo": "none",
           "line": {
            "color": "blue",
            "dash": "dash"
           },
           "showlegend": false,
           "type": "scatter",
           "x": [
            40,
            40
           ],
           "y": [
            0,
            53.5
           ]
          },
          {
           "hoverinfo": "none",
           "line": {
            "color": "yellow",
            "dash": "dash"
           },
           "showlegend": false,
           "type": "scatter",
           "x": [
            45,
            45
           ],
           "y": [
            0,
            53.5
           ]
          },
          {
           "fill": "toself",
           "fillcolor": "#000000",
           "hoverinfo": "skip",
           "line": {
            "color": "white",
            "width": 3
           },
           "mode": "lines",
           "opacity": 1,
           "showlegend": false,
           "type": "scatter",
           "x": [
            0,
            0,
            10,
            10,
            0
           ],
           "y": [
            0,
            53.5,
            53.5,
            0,
            0
           ]
          },
          {
           "fill": "toself",
           "fillcolor": "#008E97",
           "hoverinfo": "skip",
           "line": {
            "color": "white",
            "width": 3
           },
           "mode": "lines",
           "opacity": 1,
           "showlegend": false,
           "type": "scatter",
           "x": [
            110,
            110,
            120,
            120,
            110
           ],
           "y": [
            0,
            53.5,
            53.5,
            0,
            0
           ]
          },
          {
           "hoverinfo": "text",
           "hovertext": [
            "nflId:41243<br>displayName:C.J. Mosley<br>Player Speed:0.358 MPH",
            "nflId:41270<br>displayName:Lamarcus Joyner<br>Player Speed:3.288 MPH",
            "nflId:42467<br>displayName:Kwon Alexander<br>Player Speed:0.112 MPH",
            "nflId:43508<br>displayName:Will Parks<br>Player Speed:1.23 MPH",
            "nflId:44815<br>displayName:Solomon Thomas<br>Player Speed:1.186 MPH",
            "nflId:46141<br>displayName:Nathan Shepherd<br>Player Speed:0.067 MPH",
            "nflId:46186<br>displayName:Jordan Whitehead<br>Player Speed:4.608 MPH",
            "nflId:46211<br>displayName:D.J. Reed<br>Player Speed:0.962 MPH",
            "nflId:54469<br>displayName:Ahmad Gardner<br>Player Speed:1.543 MPH",
            "nflId:54491<br>displayName:Jermaine Johnson<br>Player Speed:0.425 MPH",
            "nflId:54582<br>displayName:Micheal Clemons<br>Player Speed:0.224 MPH"
           ],
           "marker": {
            "color": "#000000",
            "line": {
             "color": "#125740",
             "width": 2
            },
            "size": 10
           },
           "mode": "markers",
           "name": "NYJ",
           "type": "scatter",
           "x": [
            45.46,
            49.04,
            45.82,
            44.3,
            41.54,
            41.73,
            51.22,
            42.84,
            43.6,
            41.45,
            41.52
           ],
           "y": [
            28.25,
            32.79,
            31.5,
            21.1,
            27.87,
            31.13,
            31.37,
            40.64,
            15.79,
            24.54,
            34.1
           ]
          },
          {
           "hoverinfo": "text",
           "hovertext": [
            "nflId:42718<br>displayName:Raheem Mostert<br>Player Speed:2.237 MPH",
            "nflId:43447<br>displayName:Brandon Shell<br>Player Speed:1.924 MPH",
            "nflId:43454<br>displayName:Tyreek Hill<br>Player Speed:6.465 MPH",
            "nflId:46119<br>displayName:Connor Williams<br>Player Speed:1.253 MPH",
            "nflId:46203<br>displayName:Chase Edmonds<br>Player Speed:1.23 MPH",
            "nflId:47820<br>displayName:Greg Little<br>Player Speed:0.761 MPH",
            "nflId:52447<br>displayName:Robert Hunt<br>Player Speed:0.358 MPH",
            "nflId:53435<br>displayName:Jaylen Waddle<br>Player Speed:6.375 MPH",
            "nflId:53471<br>displayName:Liam Eichenberg<br>Player Speed:1.208 MPH",
            "nflId:54712<br>displayName:Skylar Thompson<br>Player Speed:1.029 MPH",
            "nflId:54931<br>displayName:Tanner Conner<br>Player Speed:3.49 MPH"
           ],
           "marker": {
            "color": "#008E97",
            "line": {
             "color": "#FC4C02",
             "width": 2
            },
            "size": 10
           },
           "mode": "markers",
           "name": "MIA",
           "type": "scatter",
           "x": [
            34.43,
            38.57,
            37.01,
            39.75,
            34.33,
            38.35,
            38.92,
            35.21,
            38.98,
            34.57,
            37.97
           ],
           "y": [
            27.26,
            33.16,
            23.42,
            29.91,
            32.15,
            26.84,
            28.34,
            23.93,
            31.56,
            28.98,
            34.67
           ]
          },
          {
           "hoverinfo": "none",
           "marker": {
            "color": "#CBB67C",
            "line": {
             "color": "#663831",
             "width": 2
            },
            "size": 10
           },
           "mode": "markers",
           "name": "football",
           "type": "scatter",
           "x": [
            40.0400009155273
           ],
           "y": [
            29.8199996948242
           ]
          }
         ],
         "name": "25"
        },
        {
         "data": [
          {
           "hoverinfo": "none",
           "mode": "text",
           "showlegend": false,
           "text": [
            "10",
            "20",
            "30",
            "40",
            "50",
            "40",
            "30",
            "20",
            "10"
           ],
           "textfont": {
            "color": "#ffffff",
            "family": "Courier New, monospace",
            "size": 30
           },
           "type": "scatter",
           "x": [
            20,
            30,
            40,
            50,
            60,
            70,
            80,
            90,
            100
           ],
           "y": [
            5,
            5,
            5,
            5,
            5,
            5,
            5,
            5,
            5
           ]
          },
          {
           "hoverinfo": "none",
           "mode": "text",
           "showlegend": false,
           "text": [
            "10",
            "20",
            "30",
            "40",
            "50",
            "40",
            "30",
            "20",
            "10"
           ],
           "textfont": {
            "color": "#ffffff",
            "family": "Courier New, monospace",
            "size": 30
           },
           "type": "scatter",
           "x": [
            20,
            30,
            40,
            50,
            60,
            70,
            80,
            90,
            100
           ],
           "y": [
            48.5,
            48.5,
            48.5,
            48.5,
            48.5,
            48.5,
            48.5,
            48.5,
            48.5
           ]
          },
          {
           "hoverinfo": "none",
           "line": {
            "color": "blue",
            "dash": "dash"
           },
           "showlegend": false,
           "type": "scatter",
           "x": [
            40,
            40
           ],
           "y": [
            0,
            53.5
           ]
          },
          {
           "hoverinfo": "none",
           "line": {
            "color": "yellow",
            "dash": "dash"
           },
           "showlegend": false,
           "type": "scatter",
           "x": [
            45,
            45
           ],
           "y": [
            0,
            53.5
           ]
          },
          {
           "fill": "toself",
           "fillcolor": "#000000",
           "hoverinfo": "skip",
           "line": {
            "color": "white",
            "width": 3
           },
           "mode": "lines",
           "opacity": 1,
           "showlegend": false,
           "type": "scatter",
           "x": [
            0,
            0,
            10,
            10,
            0
           ],
           "y": [
            0,
            53.5,
            53.5,
            0,
            0
           ]
          },
          {
           "fill": "toself",
           "fillcolor": "#008E97",
           "hoverinfo": "skip",
           "line": {
            "color": "white",
            "width": 3
           },
           "mode": "lines",
           "opacity": 1,
           "showlegend": false,
           "type": "scatter",
           "x": [
            110,
            110,
            120,
            120,
            110
           ],
           "y": [
            0,
            53.5,
            53.5,
            0,
            0
           ]
          },
          {
           "hoverinfo": "text",
           "hovertext": [
            "nflId:41243<br>displayName:C.J. Mosley<br>Player Speed:0.403 MPH",
            "nflId:41270<br>displayName:Lamarcus Joyner<br>Player Speed:3.355 MPH",
            "nflId:42467<br>displayName:Kwon Alexander<br>Player Speed:0.089 MPH",
            "nflId:43508<br>displayName:Will Parks<br>Player Speed:1.253 MPH",
            "nflId:44815<br>displayName:Solomon Thomas<br>Player Speed:1.074 MPH",
            "nflId:46141<br>displayName:Nathan Shepherd<br>Player Speed:0.067 MPH",
            "nflId:46186<br>displayName:Jordan Whitehead<br>Player Speed:4.608 MPH",
            "nflId:46211<br>displayName:D.J. Reed<br>Player Speed:0.783 MPH",
            "nflId:54469<br>displayName:Ahmad Gardner<br>Player Speed:1.655 MPH",
            "nflId:54491<br>displayName:Jermaine Johnson<br>Player Speed:0.291 MPH",
            "nflId:54582<br>displayName:Micheal Clemons<br>Player Speed:0.112 MPH"
           ],
           "marker": {
            "color": "#000000",
            "line": {
             "color": "#125740",
             "width": 2
            },
            "size": 10
           },
           "mode": "markers",
           "name": "NYJ",
           "type": "scatter",
           "x": [
            45.47,
            49.11,
            45.82,
            44.26,
            41.52,
            41.72,
            51.11,
            42.87,
            43.66,
            41.47,
            41.53
           ],
           "y": [
            28.24,
            32.66,
            31.48,
            21.06,
            27.83,
            31.15,
            31.54,
            40.67,
            15.76,
            24.54,
            34.11
           ]
          },
          {
           "hoverinfo": "text",
           "hovertext": [
            "nflId:42718<br>displayName:Raheem Mostert<br>Player Speed:2.147 MPH",
            "nflId:43447<br>displayName:Brandon Shell<br>Player Speed:1.767 MPH",
            "nflId:43454<br>displayName:Tyreek Hill<br>Player Speed:6.286 MPH",
            "nflId:46119<br>displayName:Connor Williams<br>Player Speed:0.872 MPH",
            "nflId:46203<br>displayName:Chase Edmonds<br>Player Speed:1.096 MPH",
            "nflId:47820<br>displayName:Greg Little<br>Player Speed:0.716 MPH",
            "nflId:52447<br>displayName:Robert Hunt<br>Player Speed:0.447 MPH",
            "nflId:53435<br>displayName:Jaylen Waddle<br>Player Speed:6.509 MPH",
            "nflId:53471<br>displayName:Liam Eichenberg<br>Player Speed:1.186 MPH",
            "nflId:54712<br>displayName:Skylar Thompson<br>Player Speed:1.297 MPH",
            "nflId:54931<br>displayName:Tanner Conner<br>Player Speed:3.109 MPH"
           ],
           "marker": {
            "color": "#008E97",
            "line": {
             "color": "#FC4C02",
             "width": 2
            },
            "size": 10
           },
           "mode": "markers",
           "name": "MIA",
           "type": "scatter",
           "x": [
            34.48,
            38.66,
            37.22,
            39.77,
            34.37,
            38.38,
            38.94,
            35.31,
            39.02,
            34.56,
            38.09
           ],
           "y": [
            27.18,
            33.17,
            23.22,
            29.91,
            32.18,
            26.85,
            28.33,
            23.66,
            31.53,
            29.03,
            34.76
           ]
          },
          {
           "hoverinfo": "none",
           "marker": {
            "color": "#CBB67C",
            "line": {
             "color": "#663831",
             "width": 2
            },
            "size": 10
           },
           "mode": "markers",
           "name": "football",
           "type": "scatter",
           "x": [
            40.0400009155273
           ],
           "y": [
            29.8199996948242
           ]
          }
         ],
         "name": "26"
        },
        {
         "data": [
          {
           "hoverinfo": "none",
           "mode": "text",
           "showlegend": false,
           "text": [
            "10",
            "20",
            "30",
            "40",
            "50",
            "40",
            "30",
            "20",
            "10"
           ],
           "textfont": {
            "color": "#ffffff",
            "family": "Courier New, monospace",
            "size": 30
           },
           "type": "scatter",
           "x": [
            20,
            30,
            40,
            50,
            60,
            70,
            80,
            90,
            100
           ],
           "y": [
            5,
            5,
            5,
            5,
            5,
            5,
            5,
            5,
            5
           ]
          },
          {
           "hoverinfo": "none",
           "mode": "text",
           "showlegend": false,
           "text": [
            "10",
            "20",
            "30",
            "40",
            "50",
            "40",
            "30",
            "20",
            "10"
           ],
           "textfont": {
            "color": "#ffffff",
            "family": "Courier New, monospace",
            "size": 30
           },
           "type": "scatter",
           "x": [
            20,
            30,
            40,
            50,
            60,
            70,
            80,
            90,
            100
           ],
           "y": [
            48.5,
            48.5,
            48.5,
            48.5,
            48.5,
            48.5,
            48.5,
            48.5,
            48.5
           ]
          },
          {
           "hoverinfo": "none",
           "line": {
            "color": "blue",
            "dash": "dash"
           },
           "showlegend": false,
           "type": "scatter",
           "x": [
            40,
            40
           ],
           "y": [
            0,
            53.5
           ]
          },
          {
           "hoverinfo": "none",
           "line": {
            "color": "yellow",
            "dash": "dash"
           },
           "showlegend": false,
           "type": "scatter",
           "x": [
            45,
            45
           ],
           "y": [
            0,
            53.5
           ]
          },
          {
           "fill": "toself",
           "fillcolor": "#000000",
           "hoverinfo": "skip",
           "line": {
            "color": "white",
            "width": 3
           },
           "mode": "lines",
           "opacity": 1,
           "showlegend": false,
           "type": "scatter",
           "x": [
            0,
            0,
            10,
            10,
            0
           ],
           "y": [
            0,
            53.5,
            53.5,
            0,
            0
           ]
          },
          {
           "fill": "toself",
           "fillcolor": "#008E97",
           "hoverinfo": "skip",
           "line": {
            "color": "white",
            "width": 3
           },
           "mode": "lines",
           "opacity": 1,
           "showlegend": false,
           "type": "scatter",
           "x": [
            110,
            110,
            120,
            120,
            110
           ],
           "y": [
            0,
            53.5,
            53.5,
            0,
            0
           ]
          },
          {
           "hoverinfo": "text",
           "hovertext": [
            "nflId:41243<br>displayName:C.J. Mosley<br>Player Speed:0.514 MPH",
            "nflId:41270<br>displayName:Lamarcus Joyner<br>Player Speed:3.423 MPH",
            "nflId:42467<br>displayName:Kwon Alexander<br>Player Speed:0.067 MPH",
            "nflId:43508<br>displayName:Will Parks<br>Player Speed:1.208 MPH",
            "nflId:44815<br>displayName:Solomon Thomas<br>Player Speed:0.94 MPH",
            "nflId:46141<br>displayName:Nathan Shepherd<br>Player Speed:0.067 MPH",
            "nflId:46186<br>displayName:Jordan Whitehead<br>Player Speed:4.496 MPH",
            "nflId:46211<br>displayName:D.J. Reed<br>Player Speed:0.604 MPH",
            "nflId:54469<br>displayName:Ahmad Gardner<br>Player Speed:1.812 MPH",
            "nflId:54491<br>displayName:Jermaine Johnson<br>Player Speed:0.201 MPH",
            "nflId:54582<br>displayName:Micheal Clemons<br>Player Speed:0.38 MPH"
           ],
           "marker": {
            "color": "#000000",
            "line": {
             "color": "#125740",
             "width": 2
            },
            "size": 10
           },
           "mode": "markers",
           "name": "NYJ",
           "type": "scatter",
           "x": [
            45.49,
            49.18,
            45.81,
            44.22,
            41.5,
            41.7,
            50.99,
            42.89,
            43.74,
            41.47,
            41.53
           ],
           "y": [
            28.23,
            32.52,
            31.46,
            21.02,
            27.79,
            31.18,
            31.7,
            40.68,
            15.74,
            24.54,
            34.13
           ]
          },
          {
           "hoverinfo": "text",
           "hovertext": [
            "nflId:42718<br>displayName:Raheem Mostert<br>Player Speed:1.991 MPH",
            "nflId:43447<br>displayName:Brandon Shell<br>Player Speed:1.722 MPH",
            "nflId:43454<br>displayName:Tyreek Hill<br>Player Speed:6.084 MPH",
            "nflId:46119<br>displayName:Connor Williams<br>Player Speed:0.716 MPH",
            "nflId:46203<br>displayName:Chase Edmonds<br>Player Speed:0.962 MPH",
            "nflId:47820<br>displayName:Greg Little<br>Player Speed:0.716 MPH",
            "nflId:52447<br>displayName:Robert Hunt<br>Player Speed:0.693 MPH",
            "nflId:53435<br>displayName:Jaylen Waddle<br>Player Speed:6.554 MPH",
            "nflId:53471<br>displayName:Liam Eichenberg<br>Player Speed:1.118 MPH",
            "nflId:54712<br>displayName:Skylar Thompson<br>Player Speed:1.543 MPH",
            "nflId:54931<br>displayName:Tanner Conner<br>Player Speed:2.796 MPH"
           ],
           "marker": {
            "color": "#008E97",
            "line": {
             "color": "#FC4C02",
             "width": 2
            },
            "size": 10
           },
           "mode": "markers",
           "name": "MIA",
           "type": "scatter",
           "x": [
            34.52,
            38.74,
            37.41,
            39.81,
            34.41,
            38.42,
            38.99,
            35.42,
            39.06,
            34.54,
            38.2
           ],
           "y": [
            27.1,
            33.16,
            23.03,
            29.89,
            32.21,
            26.84,
            28.33,
            23.39,
            31.5,
            29.09,
            34.83
           ]
          },
          {
           "hoverinfo": "none",
           "marker": {
            "color": "#CBB67C",
            "line": {
             "color": "#663831",
             "width": 2
            },
            "size": 10
           },
           "mode": "markers",
           "name": "football",
           "type": "scatter",
           "x": [
            40.0400009155273
           ],
           "y": [
            29.8199996948242
           ]
          }
         ],
         "name": "27"
        },
        {
         "data": [
          {
           "hoverinfo": "none",
           "mode": "text",
           "showlegend": false,
           "text": [
            "10",
            "20",
            "30",
            "40",
            "50",
            "40",
            "30",
            "20",
            "10"
           ],
           "textfont": {
            "color": "#ffffff",
            "family": "Courier New, monospace",
            "size": 30
           },
           "type": "scatter",
           "x": [
            20,
            30,
            40,
            50,
            60,
            70,
            80,
            90,
            100
           ],
           "y": [
            5,
            5,
            5,
            5,
            5,
            5,
            5,
            5,
            5
           ]
          },
          {
           "hoverinfo": "none",
           "mode": "text",
           "showlegend": false,
           "text": [
            "10",
            "20",
            "30",
            "40",
            "50",
            "40",
            "30",
            "20",
            "10"
           ],
           "textfont": {
            "color": "#ffffff",
            "family": "Courier New, monospace",
            "size": 30
           },
           "type": "scatter",
           "x": [
            20,
            30,
            40,
            50,
            60,
            70,
            80,
            90,
            100
           ],
           "y": [
            48.5,
            48.5,
            48.5,
            48.5,
            48.5,
            48.5,
            48.5,
            48.5,
            48.5
           ]
          },
          {
           "hoverinfo": "none",
           "line": {
            "color": "blue",
            "dash": "dash"
           },
           "showlegend": false,
           "type": "scatter",
           "x": [
            40,
            40
           ],
           "y": [
            0,
            53.5
           ]
          },
          {
           "hoverinfo": "none",
           "line": {
            "color": "yellow",
            "dash": "dash"
           },
           "showlegend": false,
           "type": "scatter",
           "x": [
            45,
            45
           ],
           "y": [
            0,
            53.5
           ]
          },
          {
           "fill": "toself",
           "fillcolor": "#000000",
           "hoverinfo": "skip",
           "line": {
            "color": "white",
            "width": 3
           },
           "mode": "lines",
           "opacity": 1,
           "showlegend": false,
           "type": "scatter",
           "x": [
            0,
            0,
            10,
            10,
            0
           ],
           "y": [
            0,
            53.5,
            53.5,
            0,
            0
           ]
          },
          {
           "fill": "toself",
           "fillcolor": "#008E97",
           "hoverinfo": "skip",
           "line": {
            "color": "white",
            "width": 3
           },
           "mode": "lines",
           "opacity": 1,
           "showlegend": false,
           "type": "scatter",
           "x": [
            110,
            110,
            120,
            120,
            110
           ],
           "y": [
            0,
            53.5,
            53.5,
            0,
            0
           ]
          },
          {
           "hoverinfo": "text",
           "hovertext": [
            "nflId:41243<br>displayName:C.J. Mosley<br>Player Speed:0.649 MPH",
            "nflId:41270<br>displayName:Lamarcus Joyner<br>Player Speed:3.467 MPH",
            "nflId:42467<br>displayName:Kwon Alexander<br>Player Speed:0.045 MPH",
            "nflId:43508<br>displayName:Will Parks<br>Player Speed:1.007 MPH",
            "nflId:44815<br>displayName:Solomon Thomas<br>Player Speed:0.738 MPH",
            "nflId:46141<br>displayName:Nathan Shepherd<br>Player Speed:0.067 MPH",
            "nflId:46186<br>displayName:Jordan Whitehead<br>Player Speed:4.25 MPH",
            "nflId:46211<br>displayName:D.J. Reed<br>Player Speed:0.671 MPH",
            "nflId:54469<br>displayName:Ahmad Gardner<br>Player Speed:1.924 MPH",
            "nflId:54491<br>displayName:Jermaine Johnson<br>Player Speed:0.358 MPH",
            "nflId:54582<br>displayName:Micheal Clemons<br>Player Speed:0.649 MPH"
           ],
           "marker": {
            "color": "#000000",
            "line": {
             "color": "#125740",
             "width": 2
            },
            "size": 10
           },
           "mode": "markers",
           "name": "NYJ",
           "type": "scatter",
           "x": [
            45.5,
            49.25,
            45.8,
            44.18,
            41.48,
            41.68,
            50.87,
            42.93,
            43.82,
            41.46,
            41.53
           ],
           "y": [
            28.2,
            32.38,
            31.44,
            21,
            27.76,
            31.2,
            31.86,
            40.68,
            15.72,
            24.52,
            34.17
           ]
          },
          {
           "hoverinfo": "text",
           "hovertext": [
            "nflId:42718<br>displayName:Raheem Mostert<br>Player Speed:1.857 MPH",
            "nflId:43447<br>displayName:Brandon Shell<br>Player Speed:1.767 MPH",
            "nflId:43454<br>displayName:Tyreek Hill<br>Player Speed:5.883 MPH",
            "nflId:46119<br>displayName:Connor Williams<br>Player Speed:0.872 MPH",
            "nflId:46203<br>displayName:Chase Edmonds<br>Player Speed:0.94 MPH",
            "nflId:47820<br>displayName:Greg Little<br>Player Speed:0.604 MPH",
            "nflId:52447<br>displayName:Robert Hunt<br>Player Speed:0.85 MPH",
            "nflId:53435<br>displayName:Jaylen Waddle<br>Player Speed:6.599 MPH",
            "nflId:53471<br>displayName:Liam Eichenberg<br>Player Speed:1.051 MPH",
            "nflId:54712<br>displayName:Skylar Thompson<br>Player Speed:1.611 MPH",
            "nflId:54931<br>displayName:Tanner Conner<br>Player Speed:2.394 MPH"
           ],
           "marker": {
            "color": "#008E97",
            "line": {
             "color": "#FC4C02",
             "width": 2
            },
            "size": 10
           },
           "mode": "markers",
           "name": "MIA",
           "type": "scatter",
           "x": [
            34.55,
            38.82,
            37.61,
            39.86,
            34.43,
            38.44,
            39.03,
            35.54,
            39.11,
            34.52,
            38.31
           ],
           "y": [
            27.02,
            33.14,
            22.84,
            29.86,
            32.24,
            26.84,
            28.32,
            23.12,
            31.48,
            29.16,
            34.87
           ]
          },
          {
           "hoverinfo": "none",
           "marker": {
            "color": "#CBB67C",
            "line": {
             "color": "#663831",
             "width": 2
            },
            "size": 10
           },
           "mode": "markers",
           "name": "football",
           "type": "scatter",
           "x": [
            40.0400009155273
           ],
           "y": [
            29.8199996948242
           ]
          }
         ],
         "name": "28"
        },
        {
         "data": [
          {
           "hoverinfo": "none",
           "mode": "text",
           "showlegend": false,
           "text": [
            "10",
            "20",
            "30",
            "40",
            "50",
            "40",
            "30",
            "20",
            "10"
           ],
           "textfont": {
            "color": "#ffffff",
            "family": "Courier New, monospace",
            "size": 30
           },
           "type": "scatter",
           "x": [
            20,
            30,
            40,
            50,
            60,
            70,
            80,
            90,
            100
           ],
           "y": [
            5,
            5,
            5,
            5,
            5,
            5,
            5,
            5,
            5
           ]
          },
          {
           "hoverinfo": "none",
           "mode": "text",
           "showlegend": false,
           "text": [
            "10",
            "20",
            "30",
            "40",
            "50",
            "40",
            "30",
            "20",
            "10"
           ],
           "textfont": {
            "color": "#ffffff",
            "family": "Courier New, monospace",
            "size": 30
           },
           "type": "scatter",
           "x": [
            20,
            30,
            40,
            50,
            60,
            70,
            80,
            90,
            100
           ],
           "y": [
            48.5,
            48.5,
            48.5,
            48.5,
            48.5,
            48.5,
            48.5,
            48.5,
            48.5
           ]
          },
          {
           "hoverinfo": "none",
           "line": {
            "color": "blue",
            "dash": "dash"
           },
           "showlegend": false,
           "type": "scatter",
           "x": [
            40,
            40
           ],
           "y": [
            0,
            53.5
           ]
          },
          {
           "hoverinfo": "none",
           "line": {
            "color": "yellow",
            "dash": "dash"
           },
           "showlegend": false,
           "type": "scatter",
           "x": [
            45,
            45
           ],
           "y": [
            0,
            53.5
           ]
          },
          {
           "fill": "toself",
           "fillcolor": "#000000",
           "hoverinfo": "skip",
           "line": {
            "color": "white",
            "width": 3
           },
           "mode": "lines",
           "opacity": 1,
           "showlegend": false,
           "type": "scatter",
           "x": [
            0,
            0,
            10,
            10,
            0
           ],
           "y": [
            0,
            53.5,
            53.5,
            0,
            0
           ]
          },
          {
           "fill": "toself",
           "fillcolor": "#008E97",
           "hoverinfo": "skip",
           "line": {
            "color": "white",
            "width": 3
           },
           "mode": "lines",
           "opacity": 1,
           "showlegend": false,
           "type": "scatter",
           "x": [
            110,
            110,
            120,
            120,
            110
           ],
           "y": [
            0,
            53.5,
            53.5,
            0,
            0
           ]
          },
          {
           "hoverinfo": "text",
           "hovertext": [
            "nflId:41243<br>displayName:C.J. Mosley<br>Player Speed:0.85 MPH",
            "nflId:41270<br>displayName:Lamarcus Joyner<br>Player Speed:3.557 MPH",
            "nflId:42467<br>displayName:Kwon Alexander<br>Player Speed:0.045 MPH",
            "nflId:43508<br>displayName:Will Parks<br>Player Speed:1.074 MPH",
            "nflId:44815<br>displayName:Solomon Thomas<br>Player Speed:0.492 MPH",
            "nflId:46141<br>displayName:Nathan Shepherd<br>Player Speed:0.067 MPH",
            "nflId:46186<br>displayName:Jordan Whitehead<br>Player Speed:4.049 MPH",
            "nflId:46211<br>displayName:D.J. Reed<br>Player Speed:0.716 MPH",
            "nflId:54469<br>displayName:Ahmad Gardner<br>Player Speed:2.058 MPH",
            "nflId:54491<br>displayName:Jermaine Johnson<br>Player Speed:0.47 MPH",
            "nflId:54582<br>displayName:Micheal Clemons<br>Player Speed:0.895 MPH"
           ],
           "marker": {
            "color": "#000000",
            "line": {
             "color": "#125740",
             "width": 2
            },
            "size": 10
           },
           "mode": "markers",
           "name": "NYJ",
           "type": "scatter",
           "x": [
            45.52,
            49.32,
            45.79,
            44.14,
            41.46,
            41.65,
            50.77,
            42.96,
            43.91,
            41.46,
            41.53
           ],
           "y": [
            28.17,
            32.24,
            31.43,
            20.97,
            27.76,
            31.23,
            32.01,
            40.68,
            15.71,
            24.5,
            34.22
           ]
          },
          {
           "hoverinfo": "text",
           "hovertext": [
            "nflId:42718<br>displayName:Raheem Mostert<br>Player Speed:1.588 MPH",
            "nflId:43447<br>displayName:Brandon Shell<br>Player Speed:1.588 MPH",
            "nflId:43454<br>displayName:Tyreek Hill<br>Player Speed:5.749 MPH",
            "nflId:46119<br>displayName:Connor Williams<br>Player Speed:0.716 MPH",
            "nflId:46203<br>displayName:Chase Edmonds<br>Player Speed:1.007 MPH",
            "nflId:47820<br>displayName:Greg Little<br>Player Speed:0.559 MPH",
            "nflId:52447<br>displayName:Robert Hunt<br>Player Speed:0.805 MPH",
            "nflId:53435<br>displayName:Jaylen Waddle<br>Player Speed:6.577 MPH",
            "nflId:53471<br>displayName:Liam Eichenberg<br>Player Speed:0.917 MPH",
            "nflId:54712<br>displayName:Skylar Thompson<br>Player Speed:1.745 MPH",
            "nflId:54931<br>displayName:Tanner Conner<br>Player Speed:1.812 MPH"
           ],
           "marker": {
            "color": "#008E97",
            "line": {
             "color": "#FC4C02",
             "width": 2
            },
            "size": 10
           },
           "mode": "markers",
           "name": "MIA",
           "type": "scatter",
           "x": [
            34.59,
            38.88,
            37.79,
            39.89,
            34.45,
            38.46,
            39.06,
            35.67,
            39.14,
            34.51,
            38.39
           ],
           "y": [
            26.95,
            33.12,
            22.65,
            29.84,
            32.28,
            26.82,
            28.34,
            22.85,
            31.46,
            29.24,
            34.89
           ]
          },
          {
           "hoverinfo": "none",
           "marker": {
            "color": "#CBB67C",
            "line": {
             "color": "#663831",
             "width": 2
            },
            "size": 10
           },
           "mode": "markers",
           "name": "football",
           "type": "scatter",
           "x": [
            40.0400009155273
           ],
           "y": [
            29.8199996948242
           ]
          }
         ],
         "name": "29"
        },
        {
         "data": [
          {
           "hoverinfo": "none",
           "mode": "text",
           "showlegend": false,
           "text": [
            "10",
            "20",
            "30",
            "40",
            "50",
            "40",
            "30",
            "20",
            "10"
           ],
           "textfont": {
            "color": "#ffffff",
            "family": "Courier New, monospace",
            "size": 30
           },
           "type": "scatter",
           "x": [
            20,
            30,
            40,
            50,
            60,
            70,
            80,
            90,
            100
           ],
           "y": [
            5,
            5,
            5,
            5,
            5,
            5,
            5,
            5,
            5
           ]
          },
          {
           "hoverinfo": "none",
           "mode": "text",
           "showlegend": false,
           "text": [
            "10",
            "20",
            "30",
            "40",
            "50",
            "40",
            "30",
            "20",
            "10"
           ],
           "textfont": {
            "color": "#ffffff",
            "family": "Courier New, monospace",
            "size": 30
           },
           "type": "scatter",
           "x": [
            20,
            30,
            40,
            50,
            60,
            70,
            80,
            90,
            100
           ],
           "y": [
            48.5,
            48.5,
            48.5,
            48.5,
            48.5,
            48.5,
            48.5,
            48.5,
            48.5
           ]
          },
          {
           "hoverinfo": "none",
           "line": {
            "color": "blue",
            "dash": "dash"
           },
           "showlegend": false,
           "type": "scatter",
           "x": [
            40,
            40
           ],
           "y": [
            0,
            53.5
           ]
          },
          {
           "hoverinfo": "none",
           "line": {
            "color": "yellow",
            "dash": "dash"
           },
           "showlegend": false,
           "type": "scatter",
           "x": [
            45,
            45
           ],
           "y": [
            0,
            53.5
           ]
          },
          {
           "fill": "toself",
           "fillcolor": "#000000",
           "hoverinfo": "skip",
           "line": {
            "color": "white",
            "width": 3
           },
           "mode": "lines",
           "opacity": 1,
           "showlegend": false,
           "type": "scatter",
           "x": [
            0,
            0,
            10,
            10,
            0
           ],
           "y": [
            0,
            53.5,
            53.5,
            0,
            0
           ]
          },
          {
           "fill": "toself",
           "fillcolor": "#008E97",
           "hoverinfo": "skip",
           "line": {
            "color": "white",
            "width": 3
           },
           "mode": "lines",
           "opacity": 1,
           "showlegend": false,
           "type": "scatter",
           "x": [
            110,
            110,
            120,
            120,
            110
           ],
           "y": [
            0,
            53.5,
            53.5,
            0,
            0
           ]
          },
          {
           "hoverinfo": "text",
           "hovertext": [
            "nflId:41243<br>displayName:C.J. Mosley<br>Player Speed:1.118 MPH",
            "nflId:41270<br>displayName:Lamarcus Joyner<br>Player Speed:3.669 MPH",
            "nflId:42467<br>displayName:Kwon Alexander<br>Player Speed:0.022 MPH",
            "nflId:43508<br>displayName:Will Parks<br>Player Speed:1.096 MPH",
            "nflId:44815<br>displayName:Solomon Thomas<br>Player Speed:0.38 MPH",
            "nflId:46141<br>displayName:Nathan Shepherd<br>Player Speed:0.089 MPH",
            "nflId:46186<br>displayName:Jordan Whitehead<br>Player Speed:3.87 MPH",
            "nflId:46211<br>displayName:D.J. Reed<br>Player Speed:0.783 MPH",
            "nflId:54469<br>displayName:Ahmad Gardner<br>Player Speed:2.215 MPH",
            "nflId:54491<br>displayName:Jermaine Johnson<br>Player Speed:0.626 MPH",
            "nflId:54582<br>displayName:Micheal Clemons<br>Player Speed:1.141 MPH"
           ],
           "marker": {
            "color": "#000000",
            "line": {
             "color": "#125740",
             "width": 2
            },
            "size": 10
           },
           "mode": "markers",
           "name": "NYJ",
           "type": "scatter",
           "x": [
            45.54,
            49.4,
            45.79,
            44.1,
            41.45,
            41.62,
            50.67,
            42.99,
            44.01,
            41.45,
            41.52
           ],
           "y": [
            28.12,
            32.1,
            31.41,
            20.94,
            27.76,
            31.25,
            32.16,
            40.66,
            15.7,
            24.48,
            34.28
           ]
          },
          {
           "hoverinfo": "text",
           "hovertext": [
            "nflId:42718<br>displayName:Raheem Mostert<br>Player Speed:1.387 MPH",
            "nflId:43447<br>displayName:Brandon Shell<br>Player Speed:1.432 MPH",
            "nflId:43454<br>displayName:Tyreek Hill<br>Player Speed:5.436 MPH",
            "nflId:46119<br>displayName:Connor Williams<br>Player Speed:0.268 MPH",
            "nflId:46203<br>displayName:Chase Edmonds<br>Player Speed:1.186 MPH",
            "nflId:47820<br>displayName:Greg Little<br>Player Speed:0.582 MPH",
            "nflId:52447<br>displayName:Robert Hunt<br>Player Speed:0.783 MPH",
            "nflId:53435<br>displayName:Jaylen Waddle<br>Player Speed:6.532 MPH",
            "nflId:53471<br>displayName:Liam Eichenberg<br>Player Speed:0.693 MPH",
            "nflId:54712<br>displayName:Skylar Thompson<br>Player Speed:1.7 MPH",
            "nflId:54931<br>displayName:Tanner Conner<br>Player Speed:1.521 MPH"
           ],
           "marker": {
            "color": "#008E97",
            "line": {
             "color": "#FC4C02",
             "width": 2
            },
            "size": 10
           },
           "mode": "markers",
           "name": "MIA",
           "type": "scatter",
           "x": [
            34.61,
            38.94,
            37.97,
            39.89,
            34.46,
            38.49,
            39.08,
            35.8,
            39.16,
            34.51,
            38.46
           ],
           "y": [
            26.89,
            33.09,
            22.48,
            29.83,
            32.33,
            26.8,
            28.34,
            22.59,
            31.45,
            29.31,
            34.89
           ]
          },
          {
           "hoverinfo": "none",
           "marker": {
            "color": "#CBB67C",
            "line": {
             "color": "#663831",
             "width": 2
            },
            "size": 10
           },
           "mode": "markers",
           "name": "football",
           "type": "scatter",
           "x": [
            40.0400009155273
           ],
           "y": [
            29.8199996948242
           ]
          }
         ],
         "name": "30"
        },
        {
         "data": [
          {
           "hoverinfo": "none",
           "mode": "text",
           "showlegend": false,
           "text": [
            "10",
            "20",
            "30",
            "40",
            "50",
            "40",
            "30",
            "20",
            "10"
           ],
           "textfont": {
            "color": "#ffffff",
            "family": "Courier New, monospace",
            "size": 30
           },
           "type": "scatter",
           "x": [
            20,
            30,
            40,
            50,
            60,
            70,
            80,
            90,
            100
           ],
           "y": [
            5,
            5,
            5,
            5,
            5,
            5,
            5,
            5,
            5
           ]
          },
          {
           "hoverinfo": "none",
           "mode": "text",
           "showlegend": false,
           "text": [
            "10",
            "20",
            "30",
            "40",
            "50",
            "40",
            "30",
            "20",
            "10"
           ],
           "textfont": {
            "color": "#ffffff",
            "family": "Courier New, monospace",
            "size": 30
           },
           "type": "scatter",
           "x": [
            20,
            30,
            40,
            50,
            60,
            70,
            80,
            90,
            100
           ],
           "y": [
            48.5,
            48.5,
            48.5,
            48.5,
            48.5,
            48.5,
            48.5,
            48.5,
            48.5
           ]
          },
          {
           "hoverinfo": "none",
           "line": {
            "color": "blue",
            "dash": "dash"
           },
           "showlegend": false,
           "type": "scatter",
           "x": [
            40,
            40
           ],
           "y": [
            0,
            53.5
           ]
          },
          {
           "hoverinfo": "none",
           "line": {
            "color": "yellow",
            "dash": "dash"
           },
           "showlegend": false,
           "type": "scatter",
           "x": [
            45,
            45
           ],
           "y": [
            0,
            53.5
           ]
          },
          {
           "fill": "toself",
           "fillcolor": "#000000",
           "hoverinfo": "skip",
           "line": {
            "color": "white",
            "width": 3
           },
           "mode": "lines",
           "opacity": 1,
           "showlegend": false,
           "type": "scatter",
           "x": [
            0,
            0,
            10,
            10,
            0
           ],
           "y": [
            0,
            53.5,
            53.5,
            0,
            0
           ]
          },
          {
           "fill": "toself",
           "fillcolor": "#008E97",
           "hoverinfo": "skip",
           "line": {
            "color": "white",
            "width": 3
           },
           "mode": "lines",
           "opacity": 1,
           "showlegend": false,
           "type": "scatter",
           "x": [
            110,
            110,
            120,
            120,
            110
           ],
           "y": [
            0,
            53.5,
            53.5,
            0,
            0
           ]
          },
          {
           "hoverinfo": "text",
           "hovertext": [
            "nflId:41243<br>displayName:C.J. Mosley<br>Player Speed:1.208 MPH",
            "nflId:41270<br>displayName:Lamarcus Joyner<br>Player Speed:3.713 MPH",
            "nflId:42467<br>displayName:Kwon Alexander<br>Player Speed:0.022 MPH",
            "nflId:43508<br>displayName:Will Parks<br>Player Speed:1.208 MPH",
            "nflId:44815<br>displayName:Solomon Thomas<br>Player Speed:0.626 MPH",
            "nflId:46141<br>displayName:Nathan Shepherd<br>Player Speed:0.067 MPH",
            "nflId:46186<br>displayName:Jordan Whitehead<br>Player Speed:3.579 MPH",
            "nflId:46211<br>displayName:D.J. Reed<br>Player Speed:0.872 MPH",
            "nflId:54469<br>displayName:Ahmad Gardner<br>Player Speed:2.394 MPH",
            "nflId:54491<br>displayName:Jermaine Johnson<br>Player Speed:0.693 MPH",
            "nflId:54582<br>displayName:Micheal Clemons<br>Player Speed:1.342 MPH"
           ],
           "marker": {
            "color": "#000000",
            "line": {
             "color": "#125740",
             "width": 2
            },
            "size": 10
           },
           "mode": "markers",
           "name": "NYJ",
           "type": "scatter",
           "x": [
            45.55,
            49.49,
            45.77,
            44.05,
            41.43,
            41.6,
            50.59,
            43.01,
            44.11,
            41.44,
            41.51
           ],
           "y": [
            28.07,
            31.95,
            31.38,
            20.91,
            27.79,
            31.28,
            32.3,
            40.63,
            15.7,
            24.45,
            34.36
           ]
          },
          {
           "hoverinfo": "text",
           "hovertext": [
            "nflId:42718<br>displayName:Raheem Mostert<br>Player Speed:1.141 MPH",
            "nflId:43447<br>displayName:Brandon Shell<br>Player Speed:1.118 MPH",
            "nflId:43454<br>displayName:Tyreek Hill<br>Player Speed:5.123 MPH",
            "nflId:46119<br>displayName:Connor Williams<br>Player Speed:0.358 MPH",
            "nflId:46203<br>displayName:Chase Edmonds<br>Player Speed:1.365 MPH",
            "nflId:47820<br>displayName:Greg Little<br>Player Speed:0.537 MPH",
            "nflId:52447<br>displayName:Robert Hunt<br>Player Speed:0.828 MPH",
            "nflId:53435<br>displayName:Jaylen Waddle<br>Player Speed:6.398 MPH",
            "nflId:53471<br>displayName:Liam Eichenberg<br>Player Speed:0.537 MPH",
            "nflId:54712<br>displayName:Skylar Thompson<br>Player Speed:1.633 MPH",
            "nflId:54931<br>displayName:Tanner Conner<br>Player Speed:1.342 MPH"
           ],
           "marker": {
            "color": "#008E97",
            "line": {
             "color": "#FC4C02",
             "width": 2
            },
            "size": 10
           },
           "mode": "markers",
           "name": "MIA",
           "type": "scatter",
           "x": [
            34.64,
            38.98,
            38.14,
            39.9,
            34.47,
            38.51,
            39.13,
            35.93,
            39.18,
            34.52,
            38.53
           ],
           "y": [
            26.84,
            33.07,
            22.32,
            29.82,
            32.39,
            26.79,
            28.34,
            22.34,
            31.43,
            29.38,
            34.88
           ]
          },
          {
           "hoverinfo": "none",
           "marker": {
            "color": "#CBB67C",
            "line": {
             "color": "#663831",
             "width": 2
            },
            "size": 10
           },
           "mode": "markers",
           "name": "football",
           "type": "scatter",
           "x": [
            40.0400009155273
           ],
           "y": [
            29.8199996948242
           ]
          }
         ],
         "name": "31"
        },
        {
         "data": [
          {
           "hoverinfo": "none",
           "mode": "text",
           "showlegend": false,
           "text": [
            "10",
            "20",
            "30",
            "40",
            "50",
            "40",
            "30",
            "20",
            "10"
           ],
           "textfont": {
            "color": "#ffffff",
            "family": "Courier New, monospace",
            "size": 30
           },
           "type": "scatter",
           "x": [
            20,
            30,
            40,
            50,
            60,
            70,
            80,
            90,
            100
           ],
           "y": [
            5,
            5,
            5,
            5,
            5,
            5,
            5,
            5,
            5
           ]
          },
          {
           "hoverinfo": "none",
           "mode": "text",
           "showlegend": false,
           "text": [
            "10",
            "20",
            "30",
            "40",
            "50",
            "40",
            "30",
            "20",
            "10"
           ],
           "textfont": {
            "color": "#ffffff",
            "family": "Courier New, monospace",
            "size": 30
           },
           "type": "scatter",
           "x": [
            20,
            30,
            40,
            50,
            60,
            70,
            80,
            90,
            100
           ],
           "y": [
            48.5,
            48.5,
            48.5,
            48.5,
            48.5,
            48.5,
            48.5,
            48.5,
            48.5
           ]
          },
          {
           "hoverinfo": "none",
           "line": {
            "color": "blue",
            "dash": "dash"
           },
           "showlegend": false,
           "type": "scatter",
           "x": [
            40,
            40
           ],
           "y": [
            0,
            53.5
           ]
          },
          {
           "hoverinfo": "none",
           "line": {
            "color": "yellow",
            "dash": "dash"
           },
           "showlegend": false,
           "type": "scatter",
           "x": [
            45,
            45
           ],
           "y": [
            0,
            53.5
           ]
          },
          {
           "fill": "toself",
           "fillcolor": "#000000",
           "hoverinfo": "skip",
           "line": {
            "color": "white",
            "width": 3
           },
           "mode": "lines",
           "opacity": 1,
           "showlegend": false,
           "type": "scatter",
           "x": [
            0,
            0,
            10,
            10,
            0
           ],
           "y": [
            0,
            53.5,
            53.5,
            0,
            0
           ]
          },
          {
           "fill": "toself",
           "fillcolor": "#008E97",
           "hoverinfo": "skip",
           "line": {
            "color": "white",
            "width": 3
           },
           "mode": "lines",
           "opacity": 1,
           "showlegend": false,
           "type": "scatter",
           "x": [
            110,
            110,
            120,
            120,
            110
           ],
           "y": [
            0,
            53.5,
            53.5,
            0,
            0
           ]
          },
          {
           "hoverinfo": "text",
           "hovertext": [
            "nflId:41243<br>displayName:C.J. Mosley<br>Player Speed:1.342 MPH",
            "nflId:41270<br>displayName:Lamarcus Joyner<br>Player Speed:3.736 MPH",
            "nflId:42467<br>displayName:Kwon Alexander<br>Player Speed:0.022 MPH",
            "nflId:43508<br>displayName:Will Parks<br>Player Speed:1.32 MPH",
            "nflId:44815<br>displayName:Solomon Thomas<br>Player Speed:0.94 MPH",
            "nflId:46141<br>displayName:Nathan Shepherd<br>Player Speed:0.201 MPH",
            "nflId:46186<br>displayName:Jordan Whitehead<br>Player Speed:3.266 MPH",
            "nflId:46211<br>displayName:D.J. Reed<br>Player Speed:0.984 MPH",
            "nflId:54469<br>displayName:Ahmad Gardner<br>Player Speed:2.461 MPH",
            "nflId:54491<br>displayName:Jermaine Johnson<br>Player Speed:0.716 MPH",
            "nflId:54582<br>displayName:Micheal Clemons<br>Player Speed:1.499 MPH"
           ],
           "marker": {
            "color": "#000000",
            "line": {
             "color": "#125740",
             "width": 2
            },
            "size": 10
           },
           "mode": "markers",
           "name": "NYJ",
           "type": "scatter",
           "x": [
            45.56,
            49.57,
            45.76,
            44.01,
            41.42,
            41.58,
            50.52,
            43.03,
            44.22,
            41.42,
            41.5
           ],
           "y": [
            28.01,
            31.81,
            31.35,
            20.88,
            27.83,
            31.3,
            32.43,
            40.59,
            15.69,
            24.42,
            34.45
           ]
          },
          {
           "hoverinfo": "text",
           "hovertext": [
            "nflId:42718<br>displayName:Raheem Mostert<br>Player Speed:0.917 MPH",
            "nflId:43447<br>displayName:Brandon Shell<br>Player Speed:0.828 MPH",
            "nflId:43454<br>displayName:Tyreek Hill<br>Player Speed:4.854 MPH",
            "nflId:46119<br>displayName:Connor Williams<br>Player Speed:0.291 MPH",
            "nflId:46203<br>displayName:Chase Edmonds<br>Player Speed:1.499 MPH",
            "nflId:47820<br>displayName:Greg Little<br>Player Speed:0.514 MPH",
            "nflId:52447<br>displayName:Robert Hunt<br>Player Speed:0.917 MPH",
            "nflId:53435<br>displayName:Jaylen Waddle<br>Player Speed:6.263 MPH",
            "nflId:53471<br>displayName:Liam Eichenberg<br>Player Speed:0.38 MPH",
            "nflId:54712<br>displayName:Skylar Thompson<br>Player Speed:1.588 MPH",
            "nflId:54931<br>displayName:Tanner Conner<br>Player Speed:1.051 MPH"
           ],
           "marker": {
            "color": "#008E97",
            "line": {
             "color": "#FC4C02",
             "width": 2
            },
            "size": 10
           },
           "mode": "markers",
           "name": "MIA",
           "type": "scatter",
           "x": [
            34.66,
            39.01,
            38.3,
            39.91,
            34.47,
            38.52,
            39.17,
            36.07,
            39.2,
            34.52,
            38.57
           ],
           "y": [
            26.81,
            33.04,
            22.17,
            29.8,
            32.45,
            26.78,
            28.35,
            22.09,
            31.42,
            29.46,
            34.86
           ]
          },
          {
           "hoverinfo": "none",
           "marker": {
            "color": "#CBB67C",
            "line": {
             "color": "#663831",
             "width": 2
            },
            "size": 10
           },
           "mode": "markers",
           "name": "football",
           "type": "scatter",
           "x": [
            40.0400009155273
           ],
           "y": [
            29.8199996948242
           ]
          }
         ],
         "name": "32"
        },
        {
         "data": [
          {
           "hoverinfo": "none",
           "mode": "text",
           "showlegend": false,
           "text": [
            "10",
            "20",
            "30",
            "40",
            "50",
            "40",
            "30",
            "20",
            "10"
           ],
           "textfont": {
            "color": "#ffffff",
            "family": "Courier New, monospace",
            "size": 30
           },
           "type": "scatter",
           "x": [
            20,
            30,
            40,
            50,
            60,
            70,
            80,
            90,
            100
           ],
           "y": [
            5,
            5,
            5,
            5,
            5,
            5,
            5,
            5,
            5
           ]
          },
          {
           "hoverinfo": "none",
           "mode": "text",
           "showlegend": false,
           "text": [
            "10",
            "20",
            "30",
            "40",
            "50",
            "40",
            "30",
            "20",
            "10"
           ],
           "textfont": {
            "color": "#ffffff",
            "family": "Courier New, monospace",
            "size": 30
           },
           "type": "scatter",
           "x": [
            20,
            30,
            40,
            50,
            60,
            70,
            80,
            90,
            100
           ],
           "y": [
            48.5,
            48.5,
            48.5,
            48.5,
            48.5,
            48.5,
            48.5,
            48.5,
            48.5
           ]
          },
          {
           "hoverinfo": "none",
           "line": {
            "color": "blue",
            "dash": "dash"
           },
           "showlegend": false,
           "type": "scatter",
           "x": [
            40,
            40
           ],
           "y": [
            0,
            53.5
           ]
          },
          {
           "hoverinfo": "none",
           "line": {
            "color": "yellow",
            "dash": "dash"
           },
           "showlegend": false,
           "type": "scatter",
           "x": [
            45,
            45
           ],
           "y": [
            0,
            53.5
           ]
          },
          {
           "fill": "toself",
           "fillcolor": "#000000",
           "hoverinfo": "skip",
           "line": {
            "color": "white",
            "width": 3
           },
           "mode": "lines",
           "opacity": 1,
           "showlegend": false,
           "type": "scatter",
           "x": [
            0,
            0,
            10,
            10,
            0
           ],
           "y": [
            0,
            53.5,
            53.5,
            0,
            0
           ]
          },
          {
           "fill": "toself",
           "fillcolor": "#008E97",
           "hoverinfo": "skip",
           "line": {
            "color": "white",
            "width": 3
           },
           "mode": "lines",
           "opacity": 1,
           "showlegend": false,
           "type": "scatter",
           "x": [
            110,
            110,
            120,
            120,
            110
           ],
           "y": [
            0,
            53.5,
            53.5,
            0,
            0
           ]
          },
          {
           "hoverinfo": "text",
           "hovertext": [
            "nflId:41243<br>displayName:C.J. Mosley<br>Player Speed:1.409 MPH",
            "nflId:41270<br>displayName:Lamarcus Joyner<br>Player Speed:3.87 MPH",
            "nflId:42467<br>displayName:Kwon Alexander<br>Player Speed:0.022 MPH",
            "nflId:43508<br>displayName:Will Parks<br>Player Speed:1.342 MPH",
            "nflId:44815<br>displayName:Solomon Thomas<br>Player Speed:1.297 MPH",
            "nflId:46141<br>displayName:Nathan Shepherd<br>Player Speed:0.626 MPH",
            "nflId:46186<br>displayName:Jordan Whitehead<br>Player Speed:3.109 MPH",
            "nflId:46211<br>displayName:D.J. Reed<br>Player Speed:1.141 MPH",
            "nflId:54469<br>displayName:Ahmad Gardner<br>Player Speed:2.483 MPH",
            "nflId:54491<br>displayName:Jermaine Johnson<br>Player Speed:0.693 MPH",
            "nflId:54582<br>displayName:Micheal Clemons<br>Player Speed:1.79 MPH"
           ],
           "marker": {
            "color": "#000000",
            "line": {
             "color": "#125740",
             "width": 2
            },
            "size": 10
           },
           "mode": "markers",
           "name": "NYJ",
           "type": "scatter",
           "x": [
            45.57,
            49.67,
            45.74,
            43.95,
            41.4,
            41.56,
            50.46,
            43.04,
            44.33,
            41.4,
            41.47
           ],
           "y": [
            27.94,
            31.67,
            31.33,
            20.85,
            27.89,
            31.33,
            32.56,
            40.55,
            15.68,
            24.4,
            34.59
           ]
          },
          {
           "hoverinfo": "text",
           "hovertext": [
            "nflId:42718<br>displayName:Raheem Mostert<br>Player Speed:0.716 MPH",
            "nflId:43447<br>displayName:Brandon Shell<br>Player Speed:0.559 MPH",
            "nflId:43454<br>displayName:Tyreek Hill<br>Player Speed:4.496 MPH",
            "nflId:46119<br>displayName:Connor Williams<br>Player Speed:0.358 MPH",
            "nflId:46203<br>displayName:Chase Edmonds<br>Player Speed:1.7 MPH",
            "nflId:47820<br>displayName:Greg Little<br>Player Speed:0.559 MPH",
            "nflId:52447<br>displayName:Robert Hunt<br>Player Speed:0.828 MPH",
            "nflId:53435<br>displayName:Jaylen Waddle<br>Player Speed:6.129 MPH",
            "nflId:53471<br>displayName:Liam Eichenberg<br>Player Speed:0.224 MPH",
            "nflId:54712<br>displayName:Skylar Thompson<br>Player Speed:1.543 MPH",
            "nflId:54931<br>displayName:Tanner Conner<br>Player Speed:0.917 MPH"
           ],
           "marker": {
            "color": "#008E97",
            "line": {
             "color": "#FC4C02",
             "width": 2
            },
            "size": 10
           },
           "mode": "markers",
           "name": "MIA",
           "type": "scatter",
           "x": [
            34.69,
            39.03,
            38.46,
            39.92,
            34.46,
            38.55,
            39.2,
            36.2,
            39.21,
            34.54,
            38.61
           ],
           "y": [
            26.78,
            33.02,
            22.04,
            29.79,
            32.53,
            26.77,
            28.36,
            21.84,
            31.42,
            29.53,
            34.84
           ]
          },
          {
           "hoverinfo": "none",
           "marker": {
            "color": "#CBB67C",
            "line": {
             "color": "#663831",
             "width": 2
            },
            "size": 10
           },
           "mode": "markers",
           "name": "football",
           "type": "scatter",
           "x": [
            40.0400009155273
           ],
           "y": [
            29.8199996948242
           ]
          }
         ],
         "name": "33"
        },
        {
         "data": [
          {
           "hoverinfo": "none",
           "mode": "text",
           "showlegend": false,
           "text": [
            "10",
            "20",
            "30",
            "40",
            "50",
            "40",
            "30",
            "20",
            "10"
           ],
           "textfont": {
            "color": "#ffffff",
            "family": "Courier New, monospace",
            "size": 30
           },
           "type": "scatter",
           "x": [
            20,
            30,
            40,
            50,
            60,
            70,
            80,
            90,
            100
           ],
           "y": [
            5,
            5,
            5,
            5,
            5,
            5,
            5,
            5,
            5
           ]
          },
          {
           "hoverinfo": "none",
           "mode": "text",
           "showlegend": false,
           "text": [
            "10",
            "20",
            "30",
            "40",
            "50",
            "40",
            "30",
            "20",
            "10"
           ],
           "textfont": {
            "color": "#ffffff",
            "family": "Courier New, monospace",
            "size": 30
           },
           "type": "scatter",
           "x": [
            20,
            30,
            40,
            50,
            60,
            70,
            80,
            90,
            100
           ],
           "y": [
            48.5,
            48.5,
            48.5,
            48.5,
            48.5,
            48.5,
            48.5,
            48.5,
            48.5
           ]
          },
          {
           "hoverinfo": "none",
           "line": {
            "color": "blue",
            "dash": "dash"
           },
           "showlegend": false,
           "type": "scatter",
           "x": [
            40,
            40
           ],
           "y": [
            0,
            53.5
           ]
          },
          {
           "hoverinfo": "none",
           "line": {
            "color": "yellow",
            "dash": "dash"
           },
           "showlegend": false,
           "type": "scatter",
           "x": [
            45,
            45
           ],
           "y": [
            0,
            53.5
           ]
          },
          {
           "fill": "toself",
           "fillcolor": "#000000",
           "hoverinfo": "skip",
           "line": {
            "color": "white",
            "width": 3
           },
           "mode": "lines",
           "opacity": 1,
           "showlegend": false,
           "type": "scatter",
           "x": [
            0,
            0,
            10,
            10,
            0
           ],
           "y": [
            0,
            53.5,
            53.5,
            0,
            0
           ]
          },
          {
           "fill": "toself",
           "fillcolor": "#008E97",
           "hoverinfo": "skip",
           "line": {
            "color": "white",
            "width": 3
           },
           "mode": "lines",
           "opacity": 1,
           "showlegend": false,
           "type": "scatter",
           "x": [
            110,
            110,
            120,
            120,
            110
           ],
           "y": [
            0,
            53.5,
            53.5,
            0,
            0
           ]
          },
          {
           "hoverinfo": "text",
           "hovertext": [
            "nflId:41243<br>displayName:C.J. Mosley<br>Player Speed:1.387 MPH",
            "nflId:41270<br>displayName:Lamarcus Joyner<br>Player Speed:3.825 MPH",
            "nflId:42467<br>displayName:Kwon Alexander<br>Player Speed:0.022 MPH",
            "nflId:43508<br>displayName:Will Parks<br>Player Speed:1.499 MPH",
            "nflId:44815<br>displayName:Solomon Thomas<br>Player Speed:1.454 MPH",
            "nflId:46141<br>displayName:Nathan Shepherd<br>Player Speed:1.163 MPH",
            "nflId:46186<br>displayName:Jordan Whitehead<br>Player Speed:2.886 MPH",
            "nflId:46211<br>displayName:D.J. Reed<br>Player Speed:1.342 MPH",
            "nflId:54469<br>displayName:Ahmad Gardner<br>Player Speed:2.461 MPH",
            "nflId:54491<br>displayName:Jermaine Johnson<br>Player Speed:0.649 MPH",
            "nflId:54582<br>displayName:Micheal Clemons<br>Player Speed:1.901 MPH"
           ],
           "marker": {
            "color": "#000000",
            "line": {
             "color": "#125740",
             "width": 2
            },
            "size": 10
           },
           "mode": "markers",
           "name": "NYJ",
           "type": "scatter",
           "x": [
            45.58,
            49.77,
            45.73,
            43.9,
            41.4,
            41.54,
            50.42,
            43.07,
            44.44,
            41.38,
            41.44
           ],
           "y": [
            27.88,
            31.53,
            31.32,
            20.82,
            27.95,
            31.37,
            32.69,
            40.49,
            15.67,
            24.38,
            34.7
           ]
          },
          {
           "hoverinfo": "text",
           "hovertext": [
            "nflId:42718<br>displayName:Raheem Mostert<br>Player Speed:0.559 MPH",
            "nflId:43447<br>displayName:Brandon Shell<br>Player Speed:0.313 MPH",
            "nflId:43454<br>displayName:Tyreek Hill<br>Player Speed:4.138 MPH",
            "nflId:46119<br>displayName:Connor Williams<br>Player Speed:0.291 MPH",
            "nflId:46203<br>displayName:Chase Edmonds<br>Player Speed:1.588 MPH",
            "nflId:47820<br>displayName:Greg Little<br>Player Speed:0.671 MPH",
            "nflId:52447<br>displayName:Robert Hunt<br>Player Speed:0.626 MPH",
            "nflId:53435<br>displayName:Jaylen Waddle<br>Player Speed:5.861 MPH",
            "nflId:53471<br>displayName:Liam Eichenberg<br>Player Speed:0.201 MPH",
            "nflId:54712<br>displayName:Skylar Thompson<br>Player Speed:1.521 MPH",
            "nflId:54931<br>displayName:Tanner Conner<br>Player Speed:0.828 MPH"
           ],
           "marker": {
            "color": "#008E97",
            "line": {
             "color": "#FC4C02",
             "width": 2
            },
            "size": 10
           },
           "mode": "markers",
           "name": "MIA",
           "type": "scatter",
           "x": [
            34.71,
            39.04,
            38.6,
            39.93,
            34.45,
            38.58,
            39.22,
            36.34,
            39.2,
            34.55,
            38.65
           ],
           "y": [
            26.77,
            33.01,
            21.91,
            29.78,
            32.6,
            26.76,
            28.37,
            21.61,
            31.4,
            29.59,
            34.82
           ]
          },
          {
           "hoverinfo": "none",
           "marker": {
            "color": "#CBB67C",
            "line": {
             "color": "#663831",
             "width": 2
            },
            "size": 10
           },
           "mode": "markers",
           "name": "football",
           "type": "scatter",
           "x": [
            40.0499992370605
           ],
           "y": [
            29.8199996948242
           ]
          }
         ],
         "name": "34"
        },
        {
         "data": [
          {
           "hoverinfo": "none",
           "mode": "text",
           "showlegend": false,
           "text": [
            "10",
            "20",
            "30",
            "40",
            "50",
            "40",
            "30",
            "20",
            "10"
           ],
           "textfont": {
            "color": "#ffffff",
            "family": "Courier New, monospace",
            "size": 30
           },
           "type": "scatter",
           "x": [
            20,
            30,
            40,
            50,
            60,
            70,
            80,
            90,
            100
           ],
           "y": [
            5,
            5,
            5,
            5,
            5,
            5,
            5,
            5,
            5
           ]
          },
          {
           "hoverinfo": "none",
           "mode": "text",
           "showlegend": false,
           "text": [
            "10",
            "20",
            "30",
            "40",
            "50",
            "40",
            "30",
            "20",
            "10"
           ],
           "textfont": {
            "color": "#ffffff",
            "family": "Courier New, monospace",
            "size": 30
           },
           "type": "scatter",
           "x": [
            20,
            30,
            40,
            50,
            60,
            70,
            80,
            90,
            100
           ],
           "y": [
            48.5,
            48.5,
            48.5,
            48.5,
            48.5,
            48.5,
            48.5,
            48.5,
            48.5
           ]
          },
          {
           "hoverinfo": "none",
           "line": {
            "color": "blue",
            "dash": "dash"
           },
           "showlegend": false,
           "type": "scatter",
           "x": [
            40,
            40
           ],
           "y": [
            0,
            53.5
           ]
          },
          {
           "hoverinfo": "none",
           "line": {
            "color": "yellow",
            "dash": "dash"
           },
           "showlegend": false,
           "type": "scatter",
           "x": [
            45,
            45
           ],
           "y": [
            0,
            53.5
           ]
          },
          {
           "fill": "toself",
           "fillcolor": "#000000",
           "hoverinfo": "skip",
           "line": {
            "color": "white",
            "width": 3
           },
           "mode": "lines",
           "opacity": 1,
           "showlegend": false,
           "type": "scatter",
           "x": [
            0,
            0,
            10,
            10,
            0
           ],
           "y": [
            0,
            53.5,
            53.5,
            0,
            0
           ]
          },
          {
           "fill": "toself",
           "fillcolor": "#008E97",
           "hoverinfo": "skip",
           "line": {
            "color": "white",
            "width": 3
           },
           "mode": "lines",
           "opacity": 1,
           "showlegend": false,
           "type": "scatter",
           "x": [
            110,
            110,
            120,
            120,
            110
           ],
           "y": [
            0,
            53.5,
            53.5,
            0,
            0
           ]
          },
          {
           "hoverinfo": "text",
           "hovertext": [
            "nflId:41243<br>displayName:C.J. Mosley<br>Player Speed:1.32 MPH",
            "nflId:41270<br>displayName:Lamarcus Joyner<br>Player Speed:3.78 MPH",
            "nflId:42467<br>displayName:Kwon Alexander<br>Player Speed:0.022 MPH",
            "nflId:43508<br>displayName:Will Parks<br>Player Speed:1.543 MPH",
            "nflId:44815<br>displayName:Solomon Thomas<br>Player Speed:1.432 MPH",
            "nflId:46141<br>displayName:Nathan Shepherd<br>Player Speed:1.7 MPH",
            "nflId:46186<br>displayName:Jordan Whitehead<br>Player Speed:2.751 MPH",
            "nflId:46211<br>displayName:D.J. Reed<br>Player Speed:1.476 MPH",
            "nflId:54469<br>displayName:Ahmad Gardner<br>Player Speed:2.505 MPH",
            "nflId:54491<br>displayName:Jermaine Johnson<br>Player Speed:0.649 MPH",
            "nflId:54582<br>displayName:Micheal Clemons<br>Player Speed:2.013 MPH"
           ],
           "marker": {
            "color": "#000000",
            "line": {
             "color": "#125740",
             "width": 2
            },
            "size": 10
           },
           "mode": "markers",
           "name": "NYJ",
           "type": "scatter",
           "x": [
            45.57,
            49.88,
            45.72,
            43.84,
            41.39,
            41.51,
            50.39,
            43.09,
            44.55,
            41.35,
            41.42
           ],
           "y": [
            27.83,
            31.4,
            31.29,
            20.79,
            28.01,
            31.43,
            32.82,
            40.43,
            15.67,
            24.36,
            34.81
           ]
          },
          {
           "hoverinfo": "text",
           "hovertext": [
            "nflId:42718<br>displayName:Raheem Mostert<br>Player Speed:0.447 MPH",
            "nflId:43447<br>displayName:Brandon Shell<br>Player Speed:0.246 MPH",
            "nflId:43454<br>displayName:Tyreek Hill<br>Player Speed:3.848 MPH",
            "nflId:46119<br>displayName:Connor Williams<br>Player Speed:0.313 MPH",
            "nflId:46203<br>displayName:Chase Edmonds<br>Player Speed:1.521 MPH",
            "nflId:47820<br>displayName:Greg Little<br>Player Speed:0.783 MPH",
            "nflId:52447<br>displayName:Robert Hunt<br>Player Speed:0.425 MPH",
            "nflId:53435<br>displayName:Jaylen Waddle<br>Player Speed:5.637 MPH",
            "nflId:53471<br>displayName:Liam Eichenberg<br>Player Speed:0.224 MPH",
            "nflId:54712<br>displayName:Skylar Thompson<br>Player Speed:1.588 MPH",
            "nflId:54931<br>displayName:Tanner Conner<br>Player Speed:0.828 MPH"
           ],
           "marker": {
            "color": "#008E97",
            "line": {
             "color": "#FC4C02",
             "width": 2
            },
            "size": 10
           },
           "mode": "markers",
           "name": "MIA",
           "type": "scatter",
           "x": [
            34.74,
            39.04,
            38.74,
            39.93,
            34.44,
            38.62,
            39.23,
            36.47,
            39.2,
            34.57,
            38.67
           ],
           "y": [
            26.76,
            33,
            21.8,
            29.76,
            32.67,
            26.76,
            28.38,
            21.39,
            31.39,
            29.67,
            34.79
           ]
          },
          {
           "hoverinfo": "none",
           "marker": {
            "color": "#CBB67C",
            "line": {
             "color": "#663831",
             "width": 2
            },
            "size": 10
           },
           "mode": "markers",
           "name": "football",
           "type": "scatter",
           "x": [
            40.0499992370605
           ],
           "y": [
            29.8199996948242
           ]
          }
         ],
         "name": "35"
        },
        {
         "data": [
          {
           "hoverinfo": "none",
           "mode": "text",
           "showlegend": false,
           "text": [
            "10",
            "20",
            "30",
            "40",
            "50",
            "40",
            "30",
            "20",
            "10"
           ],
           "textfont": {
            "color": "#ffffff",
            "family": "Courier New, monospace",
            "size": 30
           },
           "type": "scatter",
           "x": [
            20,
            30,
            40,
            50,
            60,
            70,
            80,
            90,
            100
           ],
           "y": [
            5,
            5,
            5,
            5,
            5,
            5,
            5,
            5,
            5
           ]
          },
          {
           "hoverinfo": "none",
           "mode": "text",
           "showlegend": false,
           "text": [
            "10",
            "20",
            "30",
            "40",
            "50",
            "40",
            "30",
            "20",
            "10"
           ],
           "textfont": {
            "color": "#ffffff",
            "family": "Courier New, monospace",
            "size": 30
           },
           "type": "scatter",
           "x": [
            20,
            30,
            40,
            50,
            60,
            70,
            80,
            90,
            100
           ],
           "y": [
            48.5,
            48.5,
            48.5,
            48.5,
            48.5,
            48.5,
            48.5,
            48.5,
            48.5
           ]
          },
          {
           "hoverinfo": "none",
           "line": {
            "color": "blue",
            "dash": "dash"
           },
           "showlegend": false,
           "type": "scatter",
           "x": [
            40,
            40
           ],
           "y": [
            0,
            53.5
           ]
          },
          {
           "hoverinfo": "none",
           "line": {
            "color": "yellow",
            "dash": "dash"
           },
           "showlegend": false,
           "type": "scatter",
           "x": [
            45,
            45
           ],
           "y": [
            0,
            53.5
           ]
          },
          {
           "fill": "toself",
           "fillcolor": "#000000",
           "hoverinfo": "skip",
           "line": {
            "color": "white",
            "width": 3
           },
           "mode": "lines",
           "opacity": 1,
           "showlegend": false,
           "type": "scatter",
           "x": [
            0,
            0,
            10,
            10,
            0
           ],
           "y": [
            0,
            53.5,
            53.5,
            0,
            0
           ]
          },
          {
           "fill": "toself",
           "fillcolor": "#008E97",
           "hoverinfo": "skip",
           "line": {
            "color": "white",
            "width": 3
           },
           "mode": "lines",
           "opacity": 1,
           "showlegend": false,
           "type": "scatter",
           "x": [
            110,
            110,
            120,
            120,
            110
           ],
           "y": [
            0,
            53.5,
            53.5,
            0,
            0
           ]
          },
          {
           "hoverinfo": "text",
           "hovertext": [
            "nflId:41243<br>displayName:C.J. Mosley<br>Player Speed:1.23 MPH",
            "nflId:41270<br>displayName:Lamarcus Joyner<br>Player Speed:3.825 MPH",
            "nflId:42467<br>displayName:Kwon Alexander<br>Player Speed:0.022 MPH",
            "nflId:43508<br>displayName:Will Parks<br>Player Speed:1.611 MPH",
            "nflId:44815<br>displayName:Solomon Thomas<br>Player Speed:1.342 MPH",
            "nflId:46141<br>displayName:Nathan Shepherd<br>Player Speed:1.969 MPH",
            "nflId:46186<br>displayName:Jordan Whitehead<br>Player Speed:2.572 MPH",
            "nflId:46211<br>displayName:D.J. Reed<br>Player Speed:1.655 MPH",
            "nflId:54469<br>displayName:Ahmad Gardner<br>Player Speed:2.55 MPH",
            "nflId:54491<br>displayName:Jermaine Johnson<br>Player Speed:0.649 MPH",
            "nflId:54582<br>displayName:Micheal Clemons<br>Player Speed:2.237 MPH"
           ],
           "marker": {
            "color": "#000000",
            "line": {
             "color": "#125740",
             "width": 2
            },
            "size": 10
           },
           "mode": "markers",
           "name": "NYJ",
           "type": "scatter",
           "x": [
            45.57,
            49.99,
            45.7,
            43.77,
            41.39,
            41.47,
            50.39,
            43.13,
            44.67,
            41.33,
            41.38
           ],
           "y": [
            27.78,
            31.27,
            31.27,
            20.77,
            28.06,
            31.49,
            32.93,
            40.37,
            15.66,
            24.34,
            34.91
           ]
          },
          {
           "hoverinfo": "text",
           "hovertext": [
            "nflId:42718<br>displayName:Raheem Mostert<br>Player Speed:0.447 MPH",
            "nflId:43447<br>displayName:Brandon Shell<br>Player Speed:0.268 MPH",
            "nflId:43454<br>displayName:Tyreek Hill<br>Player Speed:3.601 MPH",
            "nflId:46119<br>displayName:Connor Williams<br>Player Speed:0.246 MPH",
            "nflId:46203<br>displayName:Chase Edmonds<br>Player Speed:1.32 MPH",
            "nflId:47820<br>displayName:Greg Little<br>Player Speed:0.828 MPH",
            "nflId:52447<br>displayName:Robert Hunt<br>Player Speed:0.358 MPH",
            "nflId:53435<br>displayName:Jaylen Waddle<br>Player Speed:5.369 MPH",
            "nflId:53471<br>displayName:Liam Eichenberg<br>Player Speed:0.268 MPH",
            "nflId:54712<br>displayName:Skylar Thompson<br>Player Speed:1.432 MPH",
            "nflId:54931<br>displayName:Tanner Conner<br>Player Speed:0.716 MPH"
           ],
           "marker": {
            "color": "#008E97",
            "line": {
             "color": "#FC4C02",
             "width": 2
            },
            "size": 10
           },
           "mode": "markers",
           "name": "MIA",
           "type": "scatter",
           "x": [
            34.76,
            39.03,
            38.87,
            39.94,
            34.43,
            38.65,
            39.24,
            36.6,
            39.19,
            34.59,
            38.7
           ],
           "y": [
            26.76,
            32.99,
            21.7,
            29.76,
            32.72,
            26.75,
            28.4,
            21.19,
            31.39,
            29.73,
            34.77
           ]
          },
          {
           "hoverinfo": "none",
           "marker": {
            "color": "#CBB67C",
            "line": {
             "color": "#663831",
             "width": 2
            },
            "size": 10
           },
           "mode": "markers",
           "name": "football",
           "type": "scatter",
           "x": [
            40.0499992370605
           ],
           "y": [
            29.8099994659424
           ]
          }
         ],
         "name": "36"
        },
        {
         "data": [
          {
           "hoverinfo": "none",
           "mode": "text",
           "showlegend": false,
           "text": [
            "10",
            "20",
            "30",
            "40",
            "50",
            "40",
            "30",
            "20",
            "10"
           ],
           "textfont": {
            "color": "#ffffff",
            "family": "Courier New, monospace",
            "size": 30
           },
           "type": "scatter",
           "x": [
            20,
            30,
            40,
            50,
            60,
            70,
            80,
            90,
            100
           ],
           "y": [
            5,
            5,
            5,
            5,
            5,
            5,
            5,
            5,
            5
           ]
          },
          {
           "hoverinfo": "none",
           "mode": "text",
           "showlegend": false,
           "text": [
            "10",
            "20",
            "30",
            "40",
            "50",
            "40",
            "30",
            "20",
            "10"
           ],
           "textfont": {
            "color": "#ffffff",
            "family": "Courier New, monospace",
            "size": 30
           },
           "type": "scatter",
           "x": [
            20,
            30,
            40,
            50,
            60,
            70,
            80,
            90,
            100
           ],
           "y": [
            48.5,
            48.5,
            48.5,
            48.5,
            48.5,
            48.5,
            48.5,
            48.5,
            48.5
           ]
          },
          {
           "hoverinfo": "none",
           "line": {
            "color": "blue",
            "dash": "dash"
           },
           "showlegend": false,
           "type": "scatter",
           "x": [
            40,
            40
           ],
           "y": [
            0,
            53.5
           ]
          },
          {
           "hoverinfo": "none",
           "line": {
            "color": "yellow",
            "dash": "dash"
           },
           "showlegend": false,
           "type": "scatter",
           "x": [
            45,
            45
           ],
           "y": [
            0,
            53.5
           ]
          },
          {
           "fill": "toself",
           "fillcolor": "#000000",
           "hoverinfo": "skip",
           "line": {
            "color": "white",
            "width": 3
           },
           "mode": "lines",
           "opacity": 1,
           "showlegend": false,
           "type": "scatter",
           "x": [
            0,
            0,
            10,
            10,
            0
           ],
           "y": [
            0,
            53.5,
            53.5,
            0,
            0
           ]
          },
          {
           "fill": "toself",
           "fillcolor": "#008E97",
           "hoverinfo": "skip",
           "line": {
            "color": "white",
            "width": 3
           },
           "mode": "lines",
           "opacity": 1,
           "showlegend": false,
           "type": "scatter",
           "x": [
            110,
            110,
            120,
            120,
            110
           ],
           "y": [
            0,
            53.5,
            53.5,
            0,
            0
           ]
          },
          {
           "hoverinfo": "text",
           "hovertext": [
            "nflId:41243<br>displayName:C.J. Mosley<br>Player Speed:1.186 MPH",
            "nflId:41270<br>displayName:Lamarcus Joyner<br>Player Speed:3.892 MPH",
            "nflId:42467<br>displayName:Kwon Alexander<br>Player Speed:0.022 MPH",
            "nflId:43508<br>displayName:Will Parks<br>Player Speed:1.678 MPH",
            "nflId:44815<br>displayName:Solomon Thomas<br>Player Speed:1.32 MPH",
            "nflId:46141<br>displayName:Nathan Shepherd<br>Player Speed:2.147 MPH",
            "nflId:46186<br>displayName:Jordan Whitehead<br>Player Speed:2.438 MPH",
            "nflId:46211<br>displayName:D.J. Reed<br>Player Speed:1.79 MPH",
            "nflId:54469<br>displayName:Ahmad Gardner<br>Player Speed:2.595 MPH",
            "nflId:54491<br>displayName:Jermaine Johnson<br>Player Speed:0.761 MPH",
            "nflId:54582<br>displayName:Micheal Clemons<br>Player Speed:2.483 MPH"
           ],
           "marker": {
            "color": "#000000",
            "line": {
             "color": "#125740",
             "width": 2
            },
            "size": 10
           },
           "mode": "markers",
           "name": "NYJ",
           "type": "scatter",
           "x": [
            45.56,
            50.12,
            45.69,
            43.7,
            41.39,
            41.43,
            50.4,
            43.16,
            44.78,
            41.31,
            41.36
           ],
           "y": [
            27.72,
            31.15,
            31.26,
            20.75,
            28.12,
            31.58,
            33.04,
            40.29,
            15.66,
            24.32,
            35
           ]
          },
          {
           "hoverinfo": "text",
           "hovertext": [
            "nflId:42718<br>displayName:Raheem Mostert<br>Player Speed:0.492 MPH",
            "nflId:43447<br>displayName:Brandon Shell<br>Player Speed:0.246 MPH",
            "nflId:43454<br>displayName:Tyreek Hill<br>Player Speed:3.378 MPH",
            "nflId:46119<br>displayName:Connor Williams<br>Player Speed:0.201 MPH",
            "nflId:46203<br>displayName:Chase Edmonds<br>Player Speed:1.096 MPH",
            "nflId:47820<br>displayName:Greg Little<br>Player Speed:0.783 MPH",
            "nflId:52447<br>displayName:Robert Hunt<br>Player Speed:0.336 MPH",
            "nflId:53435<br>displayName:Jaylen Waddle<br>Player Speed:5.078 MPH",
            "nflId:53471<br>displayName:Liam Eichenberg<br>Player Speed:0.291 MPH",
            "nflId:54712<br>displayName:Skylar Thompson<br>Player Speed:1.32 MPH",
            "nflId:54931<br>displayName:Tanner Conner<br>Player Speed:0.313 MPH"
           ],
           "marker": {
            "color": "#008E97",
            "line": {
             "color": "#FC4C02",
             "width": 2
            },
            "size": 10
           },
           "mode": "markers",
           "name": "MIA",
           "type": "scatter",
           "x": [
            34.78,
            39.02,
            39,
            39.94,
            34.41,
            38.69,
            39.25,
            36.72,
            39.18,
            34.61,
            38.71
           ],
           "y": [
            26.77,
            32.99,
            21.62,
            29.75,
            32.77,
            26.75,
            28.41,
            20.99,
            31.38,
            29.79,
            34.76
           ]
          },
          {
           "hoverinfo": "none",
           "marker": {
            "color": "#CBB67C",
            "line": {
             "color": "#663831",
             "width": 2
            },
            "size": 10
           },
           "mode": "markers",
           "name": "football",
           "type": "scatter",
           "x": [
            40.060001373291
           ],
           "y": [
            29.8099994659424
           ]
          }
         ],
         "name": "37"
        },
        {
         "data": [
          {
           "hoverinfo": "none",
           "mode": "text",
           "showlegend": false,
           "text": [
            "10",
            "20",
            "30",
            "40",
            "50",
            "40",
            "30",
            "20",
            "10"
           ],
           "textfont": {
            "color": "#ffffff",
            "family": "Courier New, monospace",
            "size": 30
           },
           "type": "scatter",
           "x": [
            20,
            30,
            40,
            50,
            60,
            70,
            80,
            90,
            100
           ],
           "y": [
            5,
            5,
            5,
            5,
            5,
            5,
            5,
            5,
            5
           ]
          },
          {
           "hoverinfo": "none",
           "mode": "text",
           "showlegend": false,
           "text": [
            "10",
            "20",
            "30",
            "40",
            "50",
            "40",
            "30",
            "20",
            "10"
           ],
           "textfont": {
            "color": "#ffffff",
            "family": "Courier New, monospace",
            "size": 30
           },
           "type": "scatter",
           "x": [
            20,
            30,
            40,
            50,
            60,
            70,
            80,
            90,
            100
           ],
           "y": [
            48.5,
            48.5,
            48.5,
            48.5,
            48.5,
            48.5,
            48.5,
            48.5,
            48.5
           ]
          },
          {
           "hoverinfo": "none",
           "line": {
            "color": "blue",
            "dash": "dash"
           },
           "showlegend": false,
           "type": "scatter",
           "x": [
            40,
            40
           ],
           "y": [
            0,
            53.5
           ]
          },
          {
           "hoverinfo": "none",
           "line": {
            "color": "yellow",
            "dash": "dash"
           },
           "showlegend": false,
           "type": "scatter",
           "x": [
            45,
            45
           ],
           "y": [
            0,
            53.5
           ]
          },
          {
           "fill": "toself",
           "fillcolor": "#000000",
           "hoverinfo": "skip",
           "line": {
            "color": "white",
            "width": 3
           },
           "mode": "lines",
           "opacity": 1,
           "showlegend": false,
           "type": "scatter",
           "x": [
            0,
            0,
            10,
            10,
            0
           ],
           "y": [
            0,
            53.5,
            53.5,
            0,
            0
           ]
          },
          {
           "fill": "toself",
           "fillcolor": "#008E97",
           "hoverinfo": "skip",
           "line": {
            "color": "white",
            "width": 3
           },
           "mode": "lines",
           "opacity": 1,
           "showlegend": false,
           "type": "scatter",
           "x": [
            110,
            110,
            120,
            120,
            110
           ],
           "y": [
            0,
            53.5,
            53.5,
            0,
            0
           ]
          },
          {
           "hoverinfo": "text",
           "hovertext": [
            "nflId:41243<br>displayName:C.J. Mosley<br>Player Speed:1.118 MPH",
            "nflId:41270<br>displayName:Lamarcus Joyner<br>Player Speed:3.937 MPH",
            "nflId:42467<br>displayName:Kwon Alexander<br>Player Speed:0.134 MPH",
            "nflId:43508<br>displayName:Will Parks<br>Player Speed:1.722 MPH",
            "nflId:44815<br>displayName:Solomon Thomas<br>Player Speed:1.23 MPH",
            "nflId:46141<br>displayName:Nathan Shepherd<br>Player Speed:2.125 MPH",
            "nflId:46186<br>displayName:Jordan Whitehead<br>Player Speed:2.282 MPH",
            "nflId:46211<br>displayName:D.J. Reed<br>Player Speed:1.879 MPH",
            "nflId:54469<br>displayName:Ahmad Gardner<br>Player Speed:2.595 MPH",
            "nflId:54491<br>displayName:Jermaine Johnson<br>Player Speed:0.805 MPH",
            "nflId:54582<br>displayName:Micheal Clemons<br>Player Speed:2.93 MPH"
           ],
           "marker": {
            "color": "#000000",
            "line": {
             "color": "#125740",
             "width": 2
            },
            "size": 10
           },
           "mode": "markers",
           "name": "NYJ",
           "type": "scatter",
           "x": [
            45.55,
            50.25,
            45.69,
            43.62,
            41.4,
            41.41,
            50.43,
            43.19,
            44.9,
            41.28,
            41.31
           ],
           "y": [
            27.67,
            31.03,
            31.24,
            20.74,
            28.18,
            31.66,
            33.15,
            40.22,
            15.66,
            24.29,
            35.12
           ]
          },
          {
           "hoverinfo": "text",
           "hovertext": [
            "nflId:42718<br>displayName:Raheem Mostert<br>Player Speed:0.447 MPH",
            "nflId:43447<br>displayName:Brandon Shell<br>Player Speed:0.246 MPH",
            "nflId:43454<br>displayName:Tyreek Hill<br>Player Speed:3.109 MPH",
            "nflId:46119<br>displayName:Connor Williams<br>Player Speed:0.134 MPH",
            "nflId:46203<br>displayName:Chase Edmonds<br>Player Speed:0.94 MPH",
            "nflId:47820<br>displayName:Greg Little<br>Player Speed:0.783 MPH",
            "nflId:52447<br>displayName:Robert Hunt<br>Player Speed:0.224 MPH",
            "nflId:53435<br>displayName:Jaylen Waddle<br>Player Speed:4.809 MPH",
            "nflId:53471<br>displayName:Liam Eichenberg<br>Player Speed:0.358 MPH",
            "nflId:54712<br>displayName:Skylar Thompson<br>Player Speed:1.141 MPH",
            "nflId:54931<br>displayName:Tanner Conner<br>Player Speed:0.157 MPH"
           ],
           "marker": {
            "color": "#008E97",
            "line": {
             "color": "#FC4C02",
             "width": 2
            },
            "size": 10
           },
           "mode": "markers",
           "name": "MIA",
           "type": "scatter",
           "x": [
            34.8,
            39.01,
            39.12,
            39.94,
            34.39,
            38.72,
            39.24,
            36.84,
            39.16,
            34.62,
            38.71
           ],
           "y": [
            26.77,
            32.99,
            21.54,
            29.75,
            32.81,
            26.74,
            28.42,
            20.8,
            31.38,
            29.84,
            34.75
           ]
          },
          {
           "hoverinfo": "none",
           "marker": {
            "color": "#CBB67C",
            "line": {
             "color": "#663831",
             "width": 2
            },
            "size": 10
           },
           "mode": "markers",
           "name": "football",
           "type": "scatter",
           "x": [
            40.060001373291
           ],
           "y": [
            29.8099994659424
           ]
          }
         ],
         "name": "38"
        },
        {
         "data": [
          {
           "hoverinfo": "none",
           "mode": "text",
           "showlegend": false,
           "text": [
            "10",
            "20",
            "30",
            "40",
            "50",
            "40",
            "30",
            "20",
            "10"
           ],
           "textfont": {
            "color": "#ffffff",
            "family": "Courier New, monospace",
            "size": 30
           },
           "type": "scatter",
           "x": [
            20,
            30,
            40,
            50,
            60,
            70,
            80,
            90,
            100
           ],
           "y": [
            5,
            5,
            5,
            5,
            5,
            5,
            5,
            5,
            5
           ]
          },
          {
           "hoverinfo": "none",
           "mode": "text",
           "showlegend": false,
           "text": [
            "10",
            "20",
            "30",
            "40",
            "50",
            "40",
            "30",
            "20",
            "10"
           ],
           "textfont": {
            "color": "#ffffff",
            "family": "Courier New, monospace",
            "size": 30
           },
           "type": "scatter",
           "x": [
            20,
            30,
            40,
            50,
            60,
            70,
            80,
            90,
            100
           ],
           "y": [
            48.5,
            48.5,
            48.5,
            48.5,
            48.5,
            48.5,
            48.5,
            48.5,
            48.5
           ]
          },
          {
           "hoverinfo": "none",
           "line": {
            "color": "blue",
            "dash": "dash"
           },
           "showlegend": false,
           "type": "scatter",
           "x": [
            40,
            40
           ],
           "y": [
            0,
            53.5
           ]
          },
          {
           "hoverinfo": "none",
           "line": {
            "color": "yellow",
            "dash": "dash"
           },
           "showlegend": false,
           "type": "scatter",
           "x": [
            45,
            45
           ],
           "y": [
            0,
            53.5
           ]
          },
          {
           "fill": "toself",
           "fillcolor": "#000000",
           "hoverinfo": "skip",
           "line": {
            "color": "white",
            "width": 3
           },
           "mode": "lines",
           "opacity": 1,
           "showlegend": false,
           "type": "scatter",
           "x": [
            0,
            0,
            10,
            10,
            0
           ],
           "y": [
            0,
            53.5,
            53.5,
            0,
            0
           ]
          },
          {
           "fill": "toself",
           "fillcolor": "#008E97",
           "hoverinfo": "skip",
           "line": {
            "color": "white",
            "width": 3
           },
           "mode": "lines",
           "opacity": 1,
           "showlegend": false,
           "type": "scatter",
           "x": [
            110,
            110,
            120,
            120,
            110
           ],
           "y": [
            0,
            53.5,
            53.5,
            0,
            0
           ]
          },
          {
           "hoverinfo": "text",
           "hovertext": [
            "nflId:41243<br>displayName:C.J. Mosley<br>Player Speed:1.074 MPH",
            "nflId:41270<br>displayName:Lamarcus Joyner<br>Player Speed:4.026 MPH",
            "nflId:42467<br>displayName:Kwon Alexander<br>Player Speed:0.492 MPH",
            "nflId:43508<br>displayName:Will Parks<br>Player Speed:1.79 MPH",
            "nflId:44815<br>displayName:Solomon Thomas<br>Player Speed:1.118 MPH",
            "nflId:46141<br>displayName:Nathan Shepherd<br>Player Speed:2.058 MPH",
            "nflId:46186<br>displayName:Jordan Whitehead<br>Player Speed:2.17 MPH",
            "nflId:46211<br>displayName:D.J. Reed<br>Player Speed:1.924 MPH",
            "nflId:54469<br>displayName:Ahmad Gardner<br>Player Speed:2.684 MPH",
            "nflId:54491<br>displayName:Jermaine Johnson<br>Player Speed:0.85 MPH",
            "nflId:54582<br>displayName:Micheal Clemons<br>Player Speed:3.244 MPH"
           ],
           "marker": {
            "color": "#000000",
            "line": {
             "color": "#125740",
             "width": 2
            },
            "size": 10
           },
           "mode": "markers",
           "name": "NYJ",
           "type": "scatter",
           "x": [
            45.52,
            50.38,
            45.68,
            43.54,
            41.4,
            41.38,
            50.46,
            43.22,
            45.02,
            41.27,
            41.26
           ],
           "y": [
            27.62,
            30.91,
            31.22,
            20.73,
            28.23,
            31.74,
            33.24,
            40.14,
            15.66,
            24.26,
            35.26
           ]
          },
          {
           "hoverinfo": "text",
           "hovertext": [
            "nflId:42718<br>displayName:Raheem Mostert<br>Player Speed:0.403 MPH",
            "nflId:43447<br>displayName:Brandon Shell<br>Player Speed:0.179 MPH",
            "nflId:43454<br>displayName:Tyreek Hill<br>Player Speed:2.886 MPH",
            "nflId:46119<br>displayName:Connor Williams<br>Player Speed:0.089 MPH",
            "nflId:46203<br>displayName:Chase Edmonds<br>Player Speed:0.805 MPH",
            "nflId:47820<br>displayName:Greg Little<br>Player Speed:0.783 MPH",
            "nflId:52447<br>displayName:Robert Hunt<br>Player Speed:0.201 MPH",
            "nflId:53435<br>displayName:Jaylen Waddle<br>Player Speed:4.563 MPH",
            "nflId:53471<br>displayName:Liam Eichenberg<br>Player Speed:0.134 MPH",
            "nflId:54712<br>displayName:Skylar Thompson<br>Player Speed:0.917 MPH",
            "nflId:54931<br>displayName:Tanner Conner<br>Player Speed:0.045 MPH"
           ],
           "marker": {
            "color": "#008E97",
            "line": {
             "color": "#FC4C02",
             "width": 2
            },
            "size": 10
           },
           "mode": "markers",
           "name": "MIA",
           "type": "scatter",
           "x": [
            34.81,
            39.01,
            39.24,
            39.93,
            34.37,
            38.76,
            39.24,
            36.96,
            39.16,
            34.63,
            38.71
           ],
           "y": [
            26.76,
            32.99,
            21.48,
            29.74,
            32.85,
            26.73,
            28.43,
            20.63,
            31.39,
            29.88,
            34.75
           ]
          },
          {
           "hoverinfo": "none",
           "marker": {
            "color": "#CBB67C",
            "line": {
             "color": "#663831",
             "width": 2
            },
            "size": 10
           },
           "mode": "markers",
           "name": "football",
           "type": "scatter",
           "x": [
            40.060001373291
           ],
           "y": [
            29.8099994659424
           ]
          }
         ],
         "name": "39"
        },
        {
         "data": [
          {
           "hoverinfo": "none",
           "mode": "text",
           "showlegend": false,
           "text": [
            "10",
            "20",
            "30",
            "40",
            "50",
            "40",
            "30",
            "20",
            "10"
           ],
           "textfont": {
            "color": "#ffffff",
            "family": "Courier New, monospace",
            "size": 30
           },
           "type": "scatter",
           "x": [
            20,
            30,
            40,
            50,
            60,
            70,
            80,
            90,
            100
           ],
           "y": [
            5,
            5,
            5,
            5,
            5,
            5,
            5,
            5,
            5
           ]
          },
          {
           "hoverinfo": "none",
           "mode": "text",
           "showlegend": false,
           "text": [
            "10",
            "20",
            "30",
            "40",
            "50",
            "40",
            "30",
            "20",
            "10"
           ],
           "textfont": {
            "color": "#ffffff",
            "family": "Courier New, monospace",
            "size": 30
           },
           "type": "scatter",
           "x": [
            20,
            30,
            40,
            50,
            60,
            70,
            80,
            90,
            100
           ],
           "y": [
            48.5,
            48.5,
            48.5,
            48.5,
            48.5,
            48.5,
            48.5,
            48.5,
            48.5
           ]
          },
          {
           "hoverinfo": "none",
           "line": {
            "color": "blue",
            "dash": "dash"
           },
           "showlegend": false,
           "type": "scatter",
           "x": [
            40,
            40
           ],
           "y": [
            0,
            53.5
           ]
          },
          {
           "hoverinfo": "none",
           "line": {
            "color": "yellow",
            "dash": "dash"
           },
           "showlegend": false,
           "type": "scatter",
           "x": [
            45,
            45
           ],
           "y": [
            0,
            53.5
           ]
          },
          {
           "fill": "toself",
           "fillcolor": "#000000",
           "hoverinfo": "skip",
           "line": {
            "color": "white",
            "width": 3
           },
           "mode": "lines",
           "opacity": 1,
           "showlegend": false,
           "type": "scatter",
           "x": [
            0,
            0,
            10,
            10,
            0
           ],
           "y": [
            0,
            53.5,
            53.5,
            0,
            0
           ]
          },
          {
           "fill": "toself",
           "fillcolor": "#008E97",
           "hoverinfo": "skip",
           "line": {
            "color": "white",
            "width": 3
           },
           "mode": "lines",
           "opacity": 1,
           "showlegend": false,
           "type": "scatter",
           "x": [
            110,
            110,
            120,
            120,
            110
           ],
           "y": [
            0,
            53.5,
            53.5,
            0,
            0
           ]
          },
          {
           "hoverinfo": "text",
           "hovertext": [
            "nflId:41243<br>displayName:C.J. Mosley<br>Player Speed:1.163 MPH",
            "nflId:41270<br>displayName:Lamarcus Joyner<br>Player Speed:4.026 MPH",
            "nflId:42467<br>displayName:Kwon Alexander<br>Player Speed:0.984 MPH",
            "nflId:43508<br>displayName:Will Parks<br>Player Speed:1.834 MPH",
            "nflId:44815<br>displayName:Solomon Thomas<br>Player Speed:1.118 MPH",
            "nflId:46141<br>displayName:Nathan Shepherd<br>Player Speed:1.946 MPH",
            "nflId:46186<br>displayName:Jordan Whitehead<br>Player Speed:2.125 MPH",
            "nflId:46211<br>displayName:D.J. Reed<br>Player Speed:2.013 MPH",
            "nflId:54469<br>displayName:Ahmad Gardner<br>Player Speed:2.796 MPH",
            "nflId:54491<br>displayName:Jermaine Johnson<br>Player Speed:0.984 MPH",
            "nflId:54582<br>displayName:Micheal Clemons<br>Player Speed:3.49 MPH"
           ],
           "marker": {
            "color": "#000000",
            "line": {
             "color": "#125740",
             "width": 2
            },
            "size": 10
           },
           "mode": "markers",
           "name": "NYJ",
           "type": "scatter",
           "x": [
            45.5,
            50.52,
            45.67,
            43.46,
            41.4,
            41.36,
            50.5,
            43.26,
            45.14,
            41.25,
            41.21
           ],
           "y": [
            27.58,
            30.8,
            31.18,
            20.72,
            28.29,
            31.82,
            33.32,
            40.06,
            15.68,
            24.22,
            35.4
           ]
          },
          {
           "hoverinfo": "text",
           "hovertext": [
            "nflId:42718<br>displayName:Raheem Mostert<br>Player Speed:0.403 MPH",
            "nflId:43447<br>displayName:Brandon Shell<br>Player Speed:0.201 MPH",
            "nflId:43454<br>displayName:Tyreek Hill<br>Player Speed:2.707 MPH",
            "nflId:46119<br>displayName:Connor Williams<br>Player Speed:0.089 MPH",
            "nflId:46203<br>displayName:Chase Edmonds<br>Player Speed:0.671 MPH",
            "nflId:47820<br>displayName:Greg Little<br>Player Speed:0.716 MPH",
            "nflId:52447<br>displayName:Robert Hunt<br>Player Speed:0.134 MPH",
            "nflId:53435<br>displayName:Jaylen Waddle<br>Player Speed:4.317 MPH",
            "nflId:53471<br>displayName:Liam Eichenberg<br>Player Speed:0.112 MPH",
            "nflId:54712<br>displayName:Skylar Thompson<br>Player Speed:0.649 MPH",
            "nflId:54931<br>displayName:Tanner Conner<br>Player Speed:0.201 MPH"
           ],
           "marker": {
            "color": "#008E97",
            "line": {
             "color": "#FC4C02",
             "width": 2
            },
            "size": 10
           },
           "mode": "markers",
           "name": "MIA",
           "type": "scatter",
           "x": [
            34.83,
            39,
            39.35,
            39.93,
            34.35,
            38.79,
            39.24,
            37.07,
            39.16,
            34.64,
            38.71
           ],
           "y": [
            26.76,
            33,
            21.42,
            29.74,
            32.87,
            26.73,
            28.44,
            20.47,
            31.38,
            29.91,
            34.75
           ]
          },
          {
           "hoverinfo": "none",
           "marker": {
            "color": "#CBB67C",
            "line": {
             "color": "#663831",
             "width": 2
            },
            "size": 10
           },
           "mode": "markers",
           "name": "football",
           "type": "scatter",
           "x": [
            40.060001373291
           ],
           "y": [
            29.8099994659424
           ]
          }
         ],
         "name": "40"
        },
        {
         "data": [
          {
           "hoverinfo": "none",
           "mode": "text",
           "showlegend": false,
           "text": [
            "10",
            "20",
            "30",
            "40",
            "50",
            "40",
            "30",
            "20",
            "10"
           ],
           "textfont": {
            "color": "#ffffff",
            "family": "Courier New, monospace",
            "size": 30
           },
           "type": "scatter",
           "x": [
            20,
            30,
            40,
            50,
            60,
            70,
            80,
            90,
            100
           ],
           "y": [
            5,
            5,
            5,
            5,
            5,
            5,
            5,
            5,
            5
           ]
          },
          {
           "hoverinfo": "none",
           "mode": "text",
           "showlegend": false,
           "text": [
            "10",
            "20",
            "30",
            "40",
            "50",
            "40",
            "30",
            "20",
            "10"
           ],
           "textfont": {
            "color": "#ffffff",
            "family": "Courier New, monospace",
            "size": 30
           },
           "type": "scatter",
           "x": [
            20,
            30,
            40,
            50,
            60,
            70,
            80,
            90,
            100
           ],
           "y": [
            48.5,
            48.5,
            48.5,
            48.5,
            48.5,
            48.5,
            48.5,
            48.5,
            48.5
           ]
          },
          {
           "hoverinfo": "none",
           "line": {
            "color": "blue",
            "dash": "dash"
           },
           "showlegend": false,
           "type": "scatter",
           "x": [
            40,
            40
           ],
           "y": [
            0,
            53.5
           ]
          },
          {
           "hoverinfo": "none",
           "line": {
            "color": "yellow",
            "dash": "dash"
           },
           "showlegend": false,
           "type": "scatter",
           "x": [
            45,
            45
           ],
           "y": [
            0,
            53.5
           ]
          },
          {
           "fill": "toself",
           "fillcolor": "#000000",
           "hoverinfo": "skip",
           "line": {
            "color": "white",
            "width": 3
           },
           "mode": "lines",
           "opacity": 1,
           "showlegend": false,
           "type": "scatter",
           "x": [
            0,
            0,
            10,
            10,
            0
           ],
           "y": [
            0,
            53.5,
            53.5,
            0,
            0
           ]
          },
          {
           "fill": "toself",
           "fillcolor": "#008E97",
           "hoverinfo": "skip",
           "line": {
            "color": "white",
            "width": 3
           },
           "mode": "lines",
           "opacity": 1,
           "showlegend": false,
           "type": "scatter",
           "x": [
            110,
            110,
            120,
            120,
            110
           ],
           "y": [
            0,
            53.5,
            53.5,
            0,
            0
           ]
          },
          {
           "hoverinfo": "text",
           "hovertext": [
            "nflId:41243<br>displayName:C.J. Mosley<br>Player Speed:1.275 MPH",
            "nflId:41270<br>displayName:Lamarcus Joyner<br>Player Speed:3.959 MPH",
            "nflId:42467<br>displayName:Kwon Alexander<br>Player Speed:1.476 MPH",
            "nflId:43508<br>displayName:Will Parks<br>Player Speed:1.79 MPH",
            "nflId:44815<br>displayName:Solomon Thomas<br>Player Speed:1.096 MPH",
            "nflId:46141<br>displayName:Nathan Shepherd<br>Player Speed:1.745 MPH",
            "nflId:46186<br>displayName:Jordan Whitehead<br>Player Speed:2.013 MPH",
            "nflId:46211<br>displayName:D.J. Reed<br>Player Speed:2.125 MPH",
            "nflId:54469<br>displayName:Ahmad Gardner<br>Player Speed:2.819 MPH",
            "nflId:54491<br>displayName:Jermaine Johnson<br>Player Speed:0.94 MPH",
            "nflId:54582<br>displayName:Micheal Clemons<br>Player Speed:3.557 MPH"
           ],
           "marker": {
            "color": "#000000",
            "line": {
             "color": "#125740",
             "width": 2
            },
            "size": 10
           },
           "mode": "markers",
           "name": "NYJ",
           "type": "scatter",
           "x": [
            45.46,
            50.66,
            45.64,
            43.38,
            41.4,
            41.34,
            50.56,
            43.29,
            45.27,
            41.24,
            41.16
           ],
           "y": [
            27.53,
            30.68,
            31.13,
            20.73,
            28.34,
            31.9,
            33.4,
            39.97,
            15.69,
            24.18,
            35.56
           ]
          },
          {
           "hoverinfo": "text",
           "hovertext": [
            "nflId:42718<br>displayName:Raheem Mostert<br>Player Speed:0.425 MPH",
            "nflId:43447<br>displayName:Brandon Shell<br>Player Speed:0.268 MPH",
            "nflId:43454<br>displayName:Tyreek Hill<br>Player Speed:2.416 MPH",
            "nflId:46119<br>displayName:Connor Williams<br>Player Speed:0.112 MPH",
            "nflId:46203<br>displayName:Chase Edmonds<br>Player Speed:0.604 MPH",
            "nflId:47820<br>displayName:Greg Little<br>Player Speed:0.626 MPH",
            "nflId:52447<br>displayName:Robert Hunt<br>Player Speed:0.134 MPH",
            "nflId:53435<br>displayName:Jaylen Waddle<br>Player Speed:4.116 MPH",
            "nflId:53471<br>displayName:Liam Eichenberg<br>Player Speed:0.022 MPH",
            "nflId:54712<br>displayName:Skylar Thompson<br>Player Speed:0.447 MPH",
            "nflId:54931<br>displayName:Tanner Conner<br>Player Speed:0.291 MPH"
           ],
           "marker": {
            "color": "#008E97",
            "line": {
             "color": "#FC4C02",
             "width": 2
            },
            "size": 10
           },
           "mode": "markers",
           "name": "MIA",
           "type": "scatter",
           "x": [
            34.85,
            38.99,
            39.45,
            39.92,
            34.32,
            38.82,
            39.24,
            37.18,
            39.16,
            34.64,
            38.7
           ],
           "y": [
            26.75,
            33,
            21.36,
            29.74,
            32.89,
            26.72,
            28.44,
            20.31,
            31.38,
            29.94,
            34.75
           ]
          },
          {
           "hoverinfo": "none",
           "marker": {
            "color": "#CBB67C",
            "line": {
             "color": "#663831",
             "width": 2
            },
            "size": 10
           },
           "mode": "markers",
           "name": "football",
           "type": "scatter",
           "x": [
            40.060001373291
           ],
           "y": [
            29.8099994659424
           ]
          }
         ],
         "name": "41"
        },
        {
         "data": [
          {
           "hoverinfo": "none",
           "mode": "text",
           "showlegend": false,
           "text": [
            "10",
            "20",
            "30",
            "40",
            "50",
            "40",
            "30",
            "20",
            "10"
           ],
           "textfont": {
            "color": "#ffffff",
            "family": "Courier New, monospace",
            "size": 30
           },
           "type": "scatter",
           "x": [
            20,
            30,
            40,
            50,
            60,
            70,
            80,
            90,
            100
           ],
           "y": [
            5,
            5,
            5,
            5,
            5,
            5,
            5,
            5,
            5
           ]
          },
          {
           "hoverinfo": "none",
           "mode": "text",
           "showlegend": false,
           "text": [
            "10",
            "20",
            "30",
            "40",
            "50",
            "40",
            "30",
            "20",
            "10"
           ],
           "textfont": {
            "color": "#ffffff",
            "family": "Courier New, monospace",
            "size": 30
           },
           "type": "scatter",
           "x": [
            20,
            30,
            40,
            50,
            60,
            70,
            80,
            90,
            100
           ],
           "y": [
            48.5,
            48.5,
            48.5,
            48.5,
            48.5,
            48.5,
            48.5,
            48.5,
            48.5
           ]
          },
          {
           "hoverinfo": "none",
           "line": {
            "color": "blue",
            "dash": "dash"
           },
           "showlegend": false,
           "type": "scatter",
           "x": [
            40,
            40
           ],
           "y": [
            0,
            53.5
           ]
          },
          {
           "hoverinfo": "none",
           "line": {
            "color": "yellow",
            "dash": "dash"
           },
           "showlegend": false,
           "type": "scatter",
           "x": [
            45,
            45
           ],
           "y": [
            0,
            53.5
           ]
          },
          {
           "fill": "toself",
           "fillcolor": "#000000",
           "hoverinfo": "skip",
           "line": {
            "color": "white",
            "width": 3
           },
           "mode": "lines",
           "opacity": 1,
           "showlegend": false,
           "type": "scatter",
           "x": [
            0,
            0,
            10,
            10,
            0
           ],
           "y": [
            0,
            53.5,
            53.5,
            0,
            0
           ]
          },
          {
           "fill": "toself",
           "fillcolor": "#008E97",
           "hoverinfo": "skip",
           "line": {
            "color": "white",
            "width": 3
           },
           "mode": "lines",
           "opacity": 1,
           "showlegend": false,
           "type": "scatter",
           "x": [
            110,
            110,
            120,
            120,
            110
           ],
           "y": [
            0,
            53.5,
            53.5,
            0,
            0
           ]
          },
          {
           "hoverinfo": "text",
           "hovertext": [
            "nflId:41243<br>displayName:C.J. Mosley<br>Player Speed:1.297 MPH",
            "nflId:41270<br>displayName:Lamarcus Joyner<br>Player Speed:3.892 MPH",
            "nflId:42467<br>displayName:Kwon Alexander<br>Player Speed:1.924 MPH",
            "nflId:43508<br>displayName:Will Parks<br>Player Speed:1.722 MPH",
            "nflId:44815<br>displayName:Solomon Thomas<br>Player Speed:1.096 MPH",
            "nflId:46141<br>displayName:Nathan Shepherd<br>Player Speed:1.543 MPH",
            "nflId:46186<br>displayName:Jordan Whitehead<br>Player Speed:1.946 MPH",
            "nflId:46211<br>displayName:D.J. Reed<br>Player Speed:2.237 MPH",
            "nflId:54469<br>displayName:Ahmad Gardner<br>Player Speed:2.774 MPH",
            "nflId:54491<br>displayName:Jermaine Johnson<br>Player Speed:0.85 MPH",
            "nflId:54582<br>displayName:Micheal Clemons<br>Player Speed:3.534 MPH"
           ],
           "marker": {
            "color": "#000000",
            "line": {
             "color": "#125740",
             "width": 2
            },
            "size": 10
           },
           "mode": "markers",
           "name": "NYJ",
           "type": "scatter",
           "x": [
            45.43,
            50.8,
            45.61,
            43.3,
            41.39,
            41.32,
            50.62,
            43.33,
            45.39,
            41.23,
            41.12
           ],
           "y": [
            27.49,
            30.58,
            31.07,
            20.74,
            28.4,
            31.97,
            33.46,
            39.88,
            15.71,
            24.14,
            35.71
           ]
          },
          {
           "hoverinfo": "text",
           "hovertext": [
            "nflId:42718<br>displayName:Raheem Mostert<br>Player Speed:0.514 MPH",
            "nflId:43447<br>displayName:Brandon Shell<br>Player Speed:0.224 MPH",
            "nflId:43454<br>displayName:Tyreek Hill<br>Player Speed:2.237 MPH",
            "nflId:46119<br>displayName:Connor Williams<br>Player Speed:0.201 MPH",
            "nflId:46203<br>displayName:Chase Edmonds<br>Player Speed:0.425 MPH",
            "nflId:47820<br>displayName:Greg Little<br>Player Speed:0.559 MPH",
            "nflId:52447<br>displayName:Robert Hunt<br>Player Speed:0.022 MPH",
            "nflId:53435<br>displayName:Jaylen Waddle<br>Player Speed:3.848 MPH",
            "nflId:53471<br>displayName:Liam Eichenberg<br>Player Speed:0.112 MPH",
            "nflId:54712<br>displayName:Skylar Thompson<br>Player Speed:0.268 MPH",
            "nflId:54931<br>displayName:Tanner Conner<br>Player Speed:0.291 MPH"
           ],
           "marker": {
            "color": "#008E97",
            "line": {
             "color": "#FC4C02",
             "width": 2
            },
            "size": 10
           },
           "mode": "markers",
           "name": "MIA",
           "type": "scatter",
           "x": [
            34.86,
            38.98,
            39.53,
            39.91,
            34.31,
            38.84,
            39.24,
            37.28,
            39.15,
            34.63,
            38.69
           ],
           "y": [
            26.73,
            33.01,
            21.31,
            29.73,
            32.9,
            26.72,
            28.45,
            20.17,
            31.39,
            29.95,
            34.75
           ]
          },
          {
           "hoverinfo": "none",
           "marker": {
            "color": "#CBB67C",
            "line": {
             "color": "#663831",
             "width": 2
            },
            "size": 10
           },
           "mode": "markers",
           "name": "football",
           "type": "scatter",
           "x": [
            40.0699996948242
           ],
           "y": [
            29.8099994659424
           ]
          }
         ],
         "name": "42"
        },
        {
         "data": [
          {
           "hoverinfo": "none",
           "mode": "text",
           "showlegend": false,
           "text": [
            "10",
            "20",
            "30",
            "40",
            "50",
            "40",
            "30",
            "20",
            "10"
           ],
           "textfont": {
            "color": "#ffffff",
            "family": "Courier New, monospace",
            "size": 30
           },
           "type": "scatter",
           "x": [
            20,
            30,
            40,
            50,
            60,
            70,
            80,
            90,
            100
           ],
           "y": [
            5,
            5,
            5,
            5,
            5,
            5,
            5,
            5,
            5
           ]
          },
          {
           "hoverinfo": "none",
           "mode": "text",
           "showlegend": false,
           "text": [
            "10",
            "20",
            "30",
            "40",
            "50",
            "40",
            "30",
            "20",
            "10"
           ],
           "textfont": {
            "color": "#ffffff",
            "family": "Courier New, monospace",
            "size": 30
           },
           "type": "scatter",
           "x": [
            20,
            30,
            40,
            50,
            60,
            70,
            80,
            90,
            100
           ],
           "y": [
            48.5,
            48.5,
            48.5,
            48.5,
            48.5,
            48.5,
            48.5,
            48.5,
            48.5
           ]
          },
          {
           "hoverinfo": "none",
           "line": {
            "color": "blue",
            "dash": "dash"
           },
           "showlegend": false,
           "type": "scatter",
           "x": [
            40,
            40
           ],
           "y": [
            0,
            53.5
           ]
          },
          {
           "hoverinfo": "none",
           "line": {
            "color": "yellow",
            "dash": "dash"
           },
           "showlegend": false,
           "type": "scatter",
           "x": [
            45,
            45
           ],
           "y": [
            0,
            53.5
           ]
          },
          {
           "fill": "toself",
           "fillcolor": "#000000",
           "hoverinfo": "skip",
           "line": {
            "color": "white",
            "width": 3
           },
           "mode": "lines",
           "opacity": 1,
           "showlegend": false,
           "type": "scatter",
           "x": [
            0,
            0,
            10,
            10,
            0
           ],
           "y": [
            0,
            53.5,
            53.5,
            0,
            0
           ]
          },
          {
           "fill": "toself",
           "fillcolor": "#008E97",
           "hoverinfo": "skip",
           "line": {
            "color": "white",
            "width": 3
           },
           "mode": "lines",
           "opacity": 1,
           "showlegend": false,
           "type": "scatter",
           "x": [
            110,
            110,
            120,
            120,
            110
           ],
           "y": [
            0,
            53.5,
            53.5,
            0,
            0
           ]
          },
          {
           "hoverinfo": "text",
           "hovertext": [
            "nflId:41243<br>displayName:C.J. Mosley<br>Player Speed:1.365 MPH",
            "nflId:41270<br>displayName:Lamarcus Joyner<br>Player Speed:3.78 MPH",
            "nflId:42467<br>displayName:Kwon Alexander<br>Player Speed:2.192 MPH",
            "nflId:43508<br>displayName:Will Parks<br>Player Speed:1.588 MPH",
            "nflId:44815<br>displayName:Solomon Thomas<br>Player Speed:0.984 MPH",
            "nflId:46141<br>displayName:Nathan Shepherd<br>Player Speed:1.342 MPH",
            "nflId:46186<br>displayName:Jordan Whitehead<br>Player Speed:1.812 MPH",
            "nflId:46211<br>displayName:D.J. Reed<br>Player Speed:2.304 MPH",
            "nflId:54469<br>displayName:Ahmad Gardner<br>Player Speed:2.796 MPH",
            "nflId:54491<br>displayName:Jermaine Johnson<br>Player Speed:0.783 MPH",
            "nflId:54582<br>displayName:Micheal Clemons<br>Player Speed:3.445 MPH"
           ],
           "marker": {
            "color": "#000000",
            "line": {
             "color": "#125740",
             "width": 2
            },
            "size": 10
           },
           "mode": "markers",
           "name": "NYJ",
           "type": "scatter",
           "x": [
            45.39,
            50.93,
            45.57,
            43.23,
            41.38,
            41.31,
            50.68,
            43.36,
            45.51,
            41.24,
            41.08
           ],
           "y": [
            27.44,
            30.47,
            30.99,
            20.75,
            28.44,
            32.03,
            33.52,
            39.78,
            15.73,
            24.1,
            35.86
           ]
          },
          {
           "hoverinfo": "text",
           "hovertext": [
            "nflId:42718<br>displayName:Raheem Mostert<br>Player Speed:0.604 MPH",
            "nflId:43447<br>displayName:Brandon Shell<br>Player Speed:0.201 MPH",
            "nflId:43454<br>displayName:Tyreek Hill<br>Player Speed:1.924 MPH",
            "nflId:46119<br>displayName:Connor Williams<br>Player Speed:0.268 MPH",
            "nflId:46203<br>displayName:Chase Edmonds<br>Player Speed:0.291 MPH",
            "nflId:47820<br>displayName:Greg Little<br>Player Speed:0.47 MPH",
            "nflId:52447<br>displayName:Robert Hunt<br>Player Speed:0.045 MPH",
            "nflId:53435<br>displayName:Jaylen Waddle<br>Player Speed:3.601 MPH",
            "nflId:53471<br>displayName:Liam Eichenberg<br>Player Speed:0.134 MPH",
            "nflId:54712<br>displayName:Skylar Thompson<br>Player Speed:0.201 MPH",
            "nflId:54931<br>displayName:Tanner Conner<br>Player Speed:0.246 MPH"
           ],
           "marker": {
            "color": "#008E97",
            "line": {
             "color": "#FC4C02",
             "width": 2
            },
            "size": 10
           },
           "mode": "markers",
           "name": "MIA",
           "type": "scatter",
           "x": [
            34.88,
            38.98,
            39.61,
            39.89,
            34.3,
            38.87,
            39.24,
            37.38,
            39.16,
            34.63,
            38.68
           ],
           "y": [
            26.71,
            33.02,
            21.26,
            29.72,
            32.91,
            26.72,
            28.45,
            20.04,
            31.39,
            29.96,
            34.75
           ]
          },
          {
           "hoverinfo": "none",
           "marker": {
            "color": "#CBB67C",
            "line": {
             "color": "#663831",
             "width": 2
            },
            "size": 10
           },
           "mode": "markers",
           "name": "football",
           "type": "scatter",
           "x": [
            40.0699996948242
           ],
           "y": [
            29.7999992370605
           ]
          }
         ],
         "name": "43"
        },
        {
         "data": [
          {
           "hoverinfo": "none",
           "mode": "text",
           "showlegend": false,
           "text": [
            "10",
            "20",
            "30",
            "40",
            "50",
            "40",
            "30",
            "20",
            "10"
           ],
           "textfont": {
            "color": "#ffffff",
            "family": "Courier New, monospace",
            "size": 30
           },
           "type": "scatter",
           "x": [
            20,
            30,
            40,
            50,
            60,
            70,
            80,
            90,
            100
           ],
           "y": [
            5,
            5,
            5,
            5,
            5,
            5,
            5,
            5,
            5
           ]
          },
          {
           "hoverinfo": "none",
           "mode": "text",
           "showlegend": false,
           "text": [
            "10",
            "20",
            "30",
            "40",
            "50",
            "40",
            "30",
            "20",
            "10"
           ],
           "textfont": {
            "color": "#ffffff",
            "family": "Courier New, monospace",
            "size": 30
           },
           "type": "scatter",
           "x": [
            20,
            30,
            40,
            50,
            60,
            70,
            80,
            90,
            100
           ],
           "y": [
            48.5,
            48.5,
            48.5,
            48.5,
            48.5,
            48.5,
            48.5,
            48.5,
            48.5
           ]
          },
          {
           "hoverinfo": "none",
           "line": {
            "color": "blue",
            "dash": "dash"
           },
           "showlegend": false,
           "type": "scatter",
           "x": [
            40,
            40
           ],
           "y": [
            0,
            53.5
           ]
          },
          {
           "hoverinfo": "none",
           "line": {
            "color": "yellow",
            "dash": "dash"
           },
           "showlegend": false,
           "type": "scatter",
           "x": [
            45,
            45
           ],
           "y": [
            0,
            53.5
           ]
          },
          {
           "fill": "toself",
           "fillcolor": "#000000",
           "hoverinfo": "skip",
           "line": {
            "color": "white",
            "width": 3
           },
           "mode": "lines",
           "opacity": 1,
           "showlegend": false,
           "type": "scatter",
           "x": [
            0,
            0,
            10,
            10,
            0
           ],
           "y": [
            0,
            53.5,
            53.5,
            0,
            0
           ]
          },
          {
           "fill": "toself",
           "fillcolor": "#008E97",
           "hoverinfo": "skip",
           "line": {
            "color": "white",
            "width": 3
           },
           "mode": "lines",
           "opacity": 1,
           "showlegend": false,
           "type": "scatter",
           "x": [
            110,
            110,
            120,
            120,
            110
           ],
           "y": [
            0,
            53.5,
            53.5,
            0,
            0
           ]
          },
          {
           "hoverinfo": "text",
           "hovertext": [
            "nflId:41243<br>displayName:C.J. Mosley<br>Player Speed:1.476 MPH",
            "nflId:41270<br>displayName:Lamarcus Joyner<br>Player Speed:3.713 MPH",
            "nflId:42467<br>displayName:Kwon Alexander<br>Player Speed:2.304 MPH",
            "nflId:43508<br>displayName:Will Parks<br>Player Speed:1.454 MPH",
            "nflId:44815<br>displayName:Solomon Thomas<br>Player Speed:0.805 MPH",
            "nflId:46141<br>displayName:Nathan Shepherd<br>Player Speed:1.051 MPH",
            "nflId:46186<br>displayName:Jordan Whitehead<br>Player Speed:1.722 MPH",
            "nflId:46211<br>displayName:D.J. Reed<br>Player Speed:2.371 MPH",
            "nflId:54469<br>displayName:Ahmad Gardner<br>Player Speed:2.796 MPH",
            "nflId:54491<br>displayName:Jermaine Johnson<br>Player Speed:0.805 MPH",
            "nflId:54582<br>displayName:Micheal Clemons<br>Player Speed:3.109 MPH"
           ],
           "marker": {
            "color": "#000000",
            "line": {
             "color": "#125740",
             "width": 2
            },
            "size": 10
           },
           "mode": "markers",
           "name": "NYJ",
           "type": "scatter",
           "x": [
            45.35,
            51.07,
            45.54,
            43.16,
            41.36,
            41.31,
            50.74,
            43.4,
            45.63,
            41.25,
            41.07
           ],
           "y": [
            27.38,
            30.37,
            30.9,
            20.76,
            28.46,
            32.07,
            33.56,
            39.69,
            15.75,
            24.07,
            35.99
           ]
          },
          {
           "hoverinfo": "text",
           "hovertext": [
            "nflId:42718<br>displayName:Raheem Mostert<br>Player Speed:0.626 MPH",
            "nflId:43447<br>displayName:Brandon Shell<br>Player Speed:0.201 MPH",
            "nflId:43454<br>displayName:Tyreek Hill<br>Player Speed:1.633 MPH",
            "nflId:46119<br>displayName:Connor Williams<br>Player Speed:0.291 MPH",
            "nflId:46203<br>displayName:Chase Edmonds<br>Player Speed:0.291 MPH",
            "nflId:47820<br>displayName:Greg Little<br>Player Speed:0.425 MPH",
            "nflId:52447<br>displayName:Robert Hunt<br>Player Speed:0.089 MPH",
            "nflId:53435<br>displayName:Jaylen Waddle<br>Player Speed:3.4 MPH",
            "nflId:53471<br>displayName:Liam Eichenberg<br>Player Speed:0.045 MPH",
            "nflId:54712<br>displayName:Skylar Thompson<br>Player Speed:0.403 MPH",
            "nflId:54931<br>displayName:Tanner Conner<br>Player Speed:0.224 MPH"
           ],
           "marker": {
            "color": "#008E97",
            "line": {
             "color": "#FC4C02",
             "width": 2
            },
            "size": 10
           },
           "mode": "markers",
           "name": "MIA",
           "type": "scatter",
           "x": [
            34.9,
            38.97,
            39.67,
            39.88,
            34.29,
            38.89,
            39.24,
            37.49,
            39.16,
            34.62,
            38.67
           ],
           "y": [
            26.69,
            33.03,
            21.21,
            29.72,
            32.93,
            26.73,
            28.44,
            19.93,
            31.39,
            29.95,
            34.75
           ]
          },
          {
           "hoverinfo": "none",
           "marker": {
            "color": "#CBB67C",
            "line": {
             "color": "#663831",
             "width": 2
            },
            "size": 10
           },
           "mode": "markers",
           "name": "football",
           "type": "scatter",
           "x": [
            40.0699996948242
           ],
           "y": [
            29.7999992370605
           ]
          }
         ],
         "name": "44"
        },
        {
         "data": [
          {
           "hoverinfo": "none",
           "mode": "text",
           "showlegend": false,
           "text": [
            "10",
            "20",
            "30",
            "40",
            "50",
            "40",
            "30",
            "20",
            "10"
           ],
           "textfont": {
            "color": "#ffffff",
            "family": "Courier New, monospace",
            "size": 30
           },
           "type": "scatter",
           "x": [
            20,
            30,
            40,
            50,
            60,
            70,
            80,
            90,
            100
           ],
           "y": [
            5,
            5,
            5,
            5,
            5,
            5,
            5,
            5,
            5
           ]
          },
          {
           "hoverinfo": "none",
           "mode": "text",
           "showlegend": false,
           "text": [
            "10",
            "20",
            "30",
            "40",
            "50",
            "40",
            "30",
            "20",
            "10"
           ],
           "textfont": {
            "color": "#ffffff",
            "family": "Courier New, monospace",
            "size": 30
           },
           "type": "scatter",
           "x": [
            20,
            30,
            40,
            50,
            60,
            70,
            80,
            90,
            100
           ],
           "y": [
            48.5,
            48.5,
            48.5,
            48.5,
            48.5,
            48.5,
            48.5,
            48.5,
            48.5
           ]
          },
          {
           "hoverinfo": "none",
           "line": {
            "color": "blue",
            "dash": "dash"
           },
           "showlegend": false,
           "type": "scatter",
           "x": [
            40,
            40
           ],
           "y": [
            0,
            53.5
           ]
          },
          {
           "hoverinfo": "none",
           "line": {
            "color": "yellow",
            "dash": "dash"
           },
           "showlegend": false,
           "type": "scatter",
           "x": [
            45,
            45
           ],
           "y": [
            0,
            53.5
           ]
          },
          {
           "fill": "toself",
           "fillcolor": "#000000",
           "hoverinfo": "skip",
           "line": {
            "color": "white",
            "width": 3
           },
           "mode": "lines",
           "opacity": 1,
           "showlegend": false,
           "type": "scatter",
           "x": [
            0,
            0,
            10,
            10,
            0
           ],
           "y": [
            0,
            53.5,
            53.5,
            0,
            0
           ]
          },
          {
           "fill": "toself",
           "fillcolor": "#008E97",
           "hoverinfo": "skip",
           "line": {
            "color": "white",
            "width": 3
           },
           "mode": "lines",
           "opacity": 1,
           "showlegend": false,
           "type": "scatter",
           "x": [
            110,
            110,
            120,
            120,
            110
           ],
           "y": [
            0,
            53.5,
            53.5,
            0,
            0
           ]
          },
          {
           "hoverinfo": "text",
           "hovertext": [
            "nflId:41243<br>displayName:C.J. Mosley<br>Player Speed:1.499 MPH",
            "nflId:41270<br>displayName:Lamarcus Joyner<br>Player Speed:3.646 MPH",
            "nflId:42467<br>displayName:Kwon Alexander<br>Player Speed:2.215 MPH",
            "nflId:43508<br>displayName:Will Parks<br>Player Speed:1.253 MPH",
            "nflId:44815<br>displayName:Solomon Thomas<br>Player Speed:0.671 MPH",
            "nflId:46141<br>displayName:Nathan Shepherd<br>Player Speed:0.895 MPH",
            "nflId:46186<br>displayName:Jordan Whitehead<br>Player Speed:1.633 MPH",
            "nflId:46211<br>displayName:D.J. Reed<br>Player Speed:2.349 MPH",
            "nflId:54469<br>displayName:Ahmad Gardner<br>Player Speed:2.751 MPH",
            "nflId:54491<br>displayName:Jermaine Johnson<br>Player Speed:0.783 MPH",
            "nflId:54582<br>displayName:Micheal Clemons<br>Player Speed:2.863 MPH"
           ],
           "marker": {
            "color": "#000000",
            "line": {
             "color": "#125740",
             "width": 2
            },
            "size": 10
           },
           "mode": "markers",
           "name": "NYJ",
           "type": "scatter",
           "x": [
            45.32,
            51.2,
            45.51,
            43.1,
            41.35,
            41.32,
            50.81,
            43.43,
            45.75,
            41.26,
            41.06
           ],
           "y": [
            27.33,
            30.27,
            30.82,
            20.77,
            28.48,
            32.12,
            33.6,
            39.59,
            15.77,
            24.03,
            36.13
           ]
          },
          {
           "hoverinfo": "text",
           "hovertext": [
            "nflId:42718<br>displayName:Raheem Mostert<br>Player Speed:0.559 MPH",
            "nflId:43447<br>displayName:Brandon Shell<br>Player Speed:0.179 MPH",
            "nflId:43454<br>displayName:Tyreek Hill<br>Player Speed:1.141 MPH",
            "nflId:46119<br>displayName:Connor Williams<br>Player Speed:0.313 MPH",
            "nflId:46203<br>displayName:Chase Edmonds<br>Player Speed:0.47 MPH",
            "nflId:47820<br>displayName:Greg Little<br>Player Speed:0.403 MPH",
            "nflId:52447<br>displayName:Robert Hunt<br>Player Speed:0.134 MPH",
            "nflId:53435<br>displayName:Jaylen Waddle<br>Player Speed:3.154 MPH",
            "nflId:53471<br>displayName:Liam Eichenberg<br>Player Speed:0.112 MPH",
            "nflId:54712<br>displayName:Skylar Thompson<br>Player Speed:0.649 MPH",
            "nflId:54931<br>displayName:Tanner Conner<br>Player Speed:0.224 MPH"
           ],
           "marker": {
            "color": "#008E97",
            "line": {
             "color": "#FC4C02",
             "width": 2
            },
            "size": 10
           },
           "mode": "markers",
           "name": "MIA",
           "type": "scatter",
           "x": [
            34.9,
            38.97,
            39.72,
            39.86,
            34.31,
            38.9,
            39.25,
            37.59,
            39.16,
            34.6,
            38.66
           ],
           "y": [
            26.67,
            33.04,
            21.16,
            29.72,
            32.95,
            26.74,
            28.44,
            19.82,
            31.38,
            29.93,
            34.75
           ]
          },
          {
           "hoverinfo": "none",
           "marker": {
            "color": "#CBB67C",
            "line": {
             "color": "#663831",
             "width": 2
            },
            "size": 10
           },
           "mode": "markers",
           "name": "football",
           "type": "scatter",
           "x": [
            40.0699996948242
           ],
           "y": [
            29.7999992370605
           ]
          }
         ],
         "name": "45"
        },
        {
         "data": [
          {
           "hoverinfo": "none",
           "mode": "text",
           "showlegend": false,
           "text": [
            "10",
            "20",
            "30",
            "40",
            "50",
            "40",
            "30",
            "20",
            "10"
           ],
           "textfont": {
            "color": "#ffffff",
            "family": "Courier New, monospace",
            "size": 30
           },
           "type": "scatter",
           "x": [
            20,
            30,
            40,
            50,
            60,
            70,
            80,
            90,
            100
           ],
           "y": [
            5,
            5,
            5,
            5,
            5,
            5,
            5,
            5,
            5
           ]
          },
          {
           "hoverinfo": "none",
           "mode": "text",
           "showlegend": false,
           "text": [
            "10",
            "20",
            "30",
            "40",
            "50",
            "40",
            "30",
            "20",
            "10"
           ],
           "textfont": {
            "color": "#ffffff",
            "family": "Courier New, monospace",
            "size": 30
           },
           "type": "scatter",
           "x": [
            20,
            30,
            40,
            50,
            60,
            70,
            80,
            90,
            100
           ],
           "y": [
            48.5,
            48.5,
            48.5,
            48.5,
            48.5,
            48.5,
            48.5,
            48.5,
            48.5
           ]
          },
          {
           "hoverinfo": "none",
           "line": {
            "color": "blue",
            "dash": "dash"
           },
           "showlegend": false,
           "type": "scatter",
           "x": [
            40,
            40
           ],
           "y": [
            0,
            53.5
           ]
          },
          {
           "hoverinfo": "none",
           "line": {
            "color": "yellow",
            "dash": "dash"
           },
           "showlegend": false,
           "type": "scatter",
           "x": [
            45,
            45
           ],
           "y": [
            0,
            53.5
           ]
          },
          {
           "fill": "toself",
           "fillcolor": "#000000",
           "hoverinfo": "skip",
           "line": {
            "color": "white",
            "width": 3
           },
           "mode": "lines",
           "opacity": 1,
           "showlegend": false,
           "type": "scatter",
           "x": [
            0,
            0,
            10,
            10,
            0
           ],
           "y": [
            0,
            53.5,
            53.5,
            0,
            0
           ]
          },
          {
           "fill": "toself",
           "fillcolor": "#008E97",
           "hoverinfo": "skip",
           "line": {
            "color": "white",
            "width": 3
           },
           "mode": "lines",
           "opacity": 1,
           "showlegend": false,
           "type": "scatter",
           "x": [
            110,
            110,
            120,
            120,
            110
           ],
           "y": [
            0,
            53.5,
            53.5,
            0,
            0
           ]
          },
          {
           "hoverinfo": "text",
           "hovertext": [
            "nflId:41243<br>displayName:C.J. Mosley<br>Player Speed:1.499 MPH",
            "nflId:41270<br>displayName:Lamarcus Joyner<br>Player Speed:3.624 MPH",
            "nflId:42467<br>displayName:Kwon Alexander<br>Player Speed:2.215 MPH",
            "nflId:43508<br>displayName:Will Parks<br>Player Speed:0.962 MPH",
            "nflId:44815<br>displayName:Solomon Thomas<br>Player Speed:0.582 MPH",
            "nflId:46141<br>displayName:Nathan Shepherd<br>Player Speed:0.626 MPH",
            "nflId:46186<br>displayName:Jordan Whitehead<br>Player Speed:1.588 MPH",
            "nflId:46211<br>displayName:D.J. Reed<br>Player Speed:2.304 MPH",
            "nflId:54469<br>displayName:Ahmad Gardner<br>Player Speed:2.751 MPH",
            "nflId:54491<br>displayName:Jermaine Johnson<br>Player Speed:0.761 MPH",
            "nflId:54582<br>displayName:Micheal Clemons<br>Player Speed:2.595 MPH"
           ],
           "marker": {
            "color": "#000000",
            "line": {
             "color": "#125740",
             "width": 2
            },
            "size": 10
           },
           "mode": "markers",
           "name": "NYJ",
           "type": "scatter",
           "x": [
            45.29,
            51.33,
            45.48,
            43.05,
            41.33,
            41.32,
            50.87,
            43.46,
            45.87,
            41.27,
            41.06
           ],
           "y": [
            27.26,
            30.16,
            30.72,
            20.79,
            28.5,
            32.14,
            33.62,
            39.49,
            15.8,
            24,
            36.25
           ]
          },
          {
           "hoverinfo": "text",
           "hovertext": [
            "nflId:42718<br>displayName:Raheem Mostert<br>Player Speed:0.47 MPH",
            "nflId:43447<br>displayName:Brandon Shell<br>Player Speed:0.089 MPH",
            "nflId:43454<br>displayName:Tyreek Hill<br>Player Speed:0.828 MPH",
            "nflId:46119<br>displayName:Connor Williams<br>Player Speed:0.291 MPH",
            "nflId:46203<br>displayName:Chase Edmonds<br>Player Speed:0.693 MPH",
            "nflId:47820<br>displayName:Greg Little<br>Player Speed:0.403 MPH",
            "nflId:52447<br>displayName:Robert Hunt<br>Player Speed:0.201 MPH",
            "nflId:53435<br>displayName:Jaylen Waddle<br>Player Speed:2.997 MPH",
            "nflId:53471<br>displayName:Liam Eichenberg<br>Player Speed:0.157 MPH",
            "nflId:54712<br>displayName:Skylar Thompson<br>Player Speed:0.805 MPH",
            "nflId:54931<br>displayName:Tanner Conner<br>Player Speed:0.224 MPH"
           ],
           "marker": {
            "color": "#008E97",
            "line": {
             "color": "#FC4C02",
             "width": 2
            },
            "size": 10
           },
           "mode": "markers",
           "name": "MIA",
           "type": "scatter",
           "x": [
            34.91,
            38.97,
            39.75,
            39.85,
            34.32,
            38.92,
            39.26,
            37.69,
            39.15,
            34.58,
            38.65
           ],
           "y": [
            26.65,
            33.03,
            21.13,
            29.72,
            32.97,
            26.75,
            28.44,
            19.73,
            31.38,
            29.9,
            34.73
           ]
          },
          {
           "hoverinfo": "none",
           "marker": {
            "color": "#CBB67C",
            "line": {
             "color": "#663831",
             "width": 2
            },
            "size": 10
           },
           "mode": "markers",
           "name": "football",
           "type": "scatter",
           "x": [
            40.0699996948242
           ],
           "y": [
            29.7999992370605
           ]
          }
         ],
         "name": "46"
        },
        {
         "data": [
          {
           "hoverinfo": "none",
           "mode": "text",
           "showlegend": false,
           "text": [
            "10",
            "20",
            "30",
            "40",
            "50",
            "40",
            "30",
            "20",
            "10"
           ],
           "textfont": {
            "color": "#ffffff",
            "family": "Courier New, monospace",
            "size": 30
           },
           "type": "scatter",
           "x": [
            20,
            30,
            40,
            50,
            60,
            70,
            80,
            90,
            100
           ],
           "y": [
            5,
            5,
            5,
            5,
            5,
            5,
            5,
            5,
            5
           ]
          },
          {
           "hoverinfo": "none",
           "mode": "text",
           "showlegend": false,
           "text": [
            "10",
            "20",
            "30",
            "40",
            "50",
            "40",
            "30",
            "20",
            "10"
           ],
           "textfont": {
            "color": "#ffffff",
            "family": "Courier New, monospace",
            "size": 30
           },
           "type": "scatter",
           "x": [
            20,
            30,
            40,
            50,
            60,
            70,
            80,
            90,
            100
           ],
           "y": [
            48.5,
            48.5,
            48.5,
            48.5,
            48.5,
            48.5,
            48.5,
            48.5,
            48.5
           ]
          },
          {
           "hoverinfo": "none",
           "line": {
            "color": "blue",
            "dash": "dash"
           },
           "showlegend": false,
           "type": "scatter",
           "x": [
            40,
            40
           ],
           "y": [
            0,
            53.5
           ]
          },
          {
           "hoverinfo": "none",
           "line": {
            "color": "yellow",
            "dash": "dash"
           },
           "showlegend": false,
           "type": "scatter",
           "x": [
            45,
            45
           ],
           "y": [
            0,
            53.5
           ]
          },
          {
           "fill": "toself",
           "fillcolor": "#000000",
           "hoverinfo": "skip",
           "line": {
            "color": "white",
            "width": 3
           },
           "mode": "lines",
           "opacity": 1,
           "showlegend": false,
           "type": "scatter",
           "x": [
            0,
            0,
            10,
            10,
            0
           ],
           "y": [
            0,
            53.5,
            53.5,
            0,
            0
           ]
          },
          {
           "fill": "toself",
           "fillcolor": "#008E97",
           "hoverinfo": "skip",
           "line": {
            "color": "white",
            "width": 3
           },
           "mode": "lines",
           "opacity": 1,
           "showlegend": false,
           "type": "scatter",
           "x": [
            110,
            110,
            120,
            120,
            110
           ],
           "y": [
            0,
            53.5,
            53.5,
            0,
            0
           ]
          },
          {
           "hoverinfo": "text",
           "hovertext": [
            "nflId:41243<br>displayName:C.J. Mosley<br>Player Speed:1.454 MPH",
            "nflId:41270<br>displayName:Lamarcus Joyner<br>Player Speed:3.691 MPH",
            "nflId:42467<br>displayName:Kwon Alexander<br>Player Speed:1.499 MPH",
            "nflId:43508<br>displayName:Will Parks<br>Player Speed:0.649 MPH",
            "nflId:44815<br>displayName:Solomon Thomas<br>Player Speed:0.537 MPH",
            "nflId:46141<br>displayName:Nathan Shepherd<br>Player Speed:0.514 MPH",
            "nflId:46186<br>displayName:Jordan Whitehead<br>Player Speed:1.543 MPH",
            "nflId:46211<br>displayName:D.J. Reed<br>Player Speed:2.237 MPH",
            "nflId:54469<br>displayName:Ahmad Gardner<br>Player Speed:2.863 MPH",
            "nflId:54491<br>displayName:Jermaine Johnson<br>Player Speed:0.761 MPH",
            "nflId:54582<br>displayName:Micheal Clemons<br>Player Speed:2.371 MPH"
           ],
           "marker": {
            "color": "#000000",
            "line": {
             "color": "#125740",
             "width": 2
            },
            "size": 10
           },
           "mode": "markers",
           "name": "NYJ",
           "type": "scatter",
           "x": [
            45.26,
            51.45,
            45.46,
            43.02,
            41.3,
            41.32,
            50.94,
            43.48,
            46,
            41.28,
            41.07
           ],
           "y": [
            27.21,
            30.05,
            30.7,
            20.81,
            28.51,
            32.17,
            33.64,
            39.39,
            15.84,
            23.97,
            36.36
           ]
          },
          {
           "hoverinfo": "text",
           "hovertext": [
            "nflId:42718<br>displayName:Raheem Mostert<br>Player Speed:0.447 MPH",
            "nflId:43447<br>displayName:Brandon Shell<br>Player Speed:0.045 MPH",
            "nflId:43454<br>displayName:Tyreek Hill<br>Player Speed:0.626 MPH",
            "nflId:46119<br>displayName:Connor Williams<br>Player Speed:0.291 MPH",
            "nflId:46203<br>displayName:Chase Edmonds<br>Player Speed:0.962 MPH",
            "nflId:47820<br>displayName:Greg Little<br>Player Speed:0.336 MPH",
            "nflId:52447<br>displayName:Robert Hunt<br>Player Speed:0.179 MPH",
            "nflId:53435<br>displayName:Jaylen Waddle<br>Player Speed:2.819 MPH",
            "nflId:53471<br>displayName:Liam Eichenberg<br>Player Speed:0.134 MPH",
            "nflId:54712<br>displayName:Skylar Thompson<br>Player Speed:0.828 MPH",
            "nflId:54931<br>displayName:Tanner Conner<br>Player Speed:0.313 MPH"
           ],
           "marker": {
            "color": "#008E97",
            "line": {
             "color": "#FC4C02",
             "width": 2
            },
            "size": 10
           },
           "mode": "markers",
           "name": "MIA",
           "type": "scatter",
           "x": [
            34.91,
            38.98,
            39.77,
            39.83,
            34.34,
            38.92,
            39.27,
            37.78,
            39.15,
            34.57,
            38.63
           ],
           "y": [
            26.63,
            33.03,
            21.1,
            29.72,
            33.01,
            26.76,
            28.44,
            19.64,
            31.37,
            29.87,
            34.72
           ]
          },
          {
           "hoverinfo": "none",
           "marker": {
            "color": "#CBB67C",
            "line": {
             "color": "#663831",
             "width": 2
            },
            "size": 10
           },
           "mode": "markers",
           "name": "football",
           "type": "scatter",
           "x": [
            40.0699996948242
           ],
           "y": [
            29.7999992370605
           ]
          }
         ],
         "name": "47"
        },
        {
         "data": [
          {
           "hoverinfo": "none",
           "mode": "text",
           "showlegend": false,
           "text": [
            "10",
            "20",
            "30",
            "40",
            "50",
            "40",
            "30",
            "20",
            "10"
           ],
           "textfont": {
            "color": "#ffffff",
            "family": "Courier New, monospace",
            "size": 30
           },
           "type": "scatter",
           "x": [
            20,
            30,
            40,
            50,
            60,
            70,
            80,
            90,
            100
           ],
           "y": [
            5,
            5,
            5,
            5,
            5,
            5,
            5,
            5,
            5
           ]
          },
          {
           "hoverinfo": "none",
           "mode": "text",
           "showlegend": false,
           "text": [
            "10",
            "20",
            "30",
            "40",
            "50",
            "40",
            "30",
            "20",
            "10"
           ],
           "textfont": {
            "color": "#ffffff",
            "family": "Courier New, monospace",
            "size": 30
           },
           "type": "scatter",
           "x": [
            20,
            30,
            40,
            50,
            60,
            70,
            80,
            90,
            100
           ],
           "y": [
            48.5,
            48.5,
            48.5,
            48.5,
            48.5,
            48.5,
            48.5,
            48.5,
            48.5
           ]
          },
          {
           "hoverinfo": "none",
           "line": {
            "color": "blue",
            "dash": "dash"
           },
           "showlegend": false,
           "type": "scatter",
           "x": [
            40,
            40
           ],
           "y": [
            0,
            53.5
           ]
          },
          {
           "hoverinfo": "none",
           "line": {
            "color": "yellow",
            "dash": "dash"
           },
           "showlegend": false,
           "type": "scatter",
           "x": [
            45,
            45
           ],
           "y": [
            0,
            53.5
           ]
          },
          {
           "fill": "toself",
           "fillcolor": "#000000",
           "hoverinfo": "skip",
           "line": {
            "color": "white",
            "width": 3
           },
           "mode": "lines",
           "opacity": 1,
           "showlegend": false,
           "type": "scatter",
           "x": [
            0,
            0,
            10,
            10,
            0
           ],
           "y": [
            0,
            53.5,
            53.5,
            0,
            0
           ]
          },
          {
           "fill": "toself",
           "fillcolor": "#008E97",
           "hoverinfo": "skip",
           "line": {
            "color": "white",
            "width": 3
           },
           "mode": "lines",
           "opacity": 1,
           "showlegend": false,
           "type": "scatter",
           "x": [
            110,
            110,
            120,
            120,
            110
           ],
           "y": [
            0,
            53.5,
            53.5,
            0,
            0
           ]
          },
          {
           "hoverinfo": "text",
           "hovertext": [
            "nflId:41243<br>displayName:C.J. Mosley<br>Player Speed:1.387 MPH",
            "nflId:41270<br>displayName:Lamarcus Joyner<br>Player Speed:3.713 MPH",
            "nflId:42467<br>displayName:Kwon Alexander<br>Player Speed:1.118 MPH",
            "nflId:43508<br>displayName:Will Parks<br>Player Speed:0.447 MPH",
            "nflId:44815<br>displayName:Solomon Thomas<br>Player Speed:0.514 MPH",
            "nflId:46141<br>displayName:Nathan Shepherd<br>Player Speed:0.447 MPH",
            "nflId:46186<br>displayName:Jordan Whitehead<br>Player Speed:1.432 MPH",
            "nflId:46211<br>displayName:D.J. Reed<br>Player Speed:2.215 MPH",
            "nflId:54469<br>displayName:Ahmad Gardner<br>Player Speed:2.908 MPH",
            "nflId:54491<br>displayName:Jermaine Johnson<br>Player Speed:0.693 MPH",
            "nflId:54582<br>displayName:Micheal Clemons<br>Player Speed:2.192 MPH"
           ],
           "marker": {
            "color": "#000000",
            "line": {
             "color": "#125740",
             "width": 2
            },
            "size": 10
           },
           "mode": "markers",
           "name": "NYJ",
           "type": "scatter",
           "x": [
            45.24,
            51.58,
            45.44,
            43,
            41.27,
            41.31,
            51,
            43.5,
            46.12,
            41.3,
            41.08
           ],
           "y": [
            27.15,
            29.94,
            30.68,
            20.82,
            28.51,
            32.19,
            33.66,
            39.29,
            15.88,
            23.94,
            36.46
           ]
          },
          {
           "hoverinfo": "text",
           "hovertext": [
            "nflId:42718<br>displayName:Raheem Mostert<br>Player Speed:0.246 MPH",
            "nflId:43447<br>displayName:Brandon Shell<br>Player Speed:0.022 MPH",
            "nflId:43454<br>displayName:Tyreek Hill<br>Player Speed:0.38 MPH",
            "nflId:46119<br>displayName:Connor Williams<br>Player Speed:0.268 MPH",
            "nflId:46203<br>displayName:Chase Edmonds<br>Player Speed:1.074 MPH",
            "nflId:47820<br>displayName:Greg Little<br>Player Speed:0.336 MPH",
            "nflId:52447<br>displayName:Robert Hunt<br>Player Speed:0.201 MPH",
            "nflId:53435<br>displayName:Jaylen Waddle<br>Player Speed:2.684 MPH",
            "nflId:53471<br>displayName:Liam Eichenberg<br>Player Speed:0.179 MPH",
            "nflId:54712<br>displayName:Skylar Thompson<br>Player Speed:0.761 MPH",
            "nflId:54931<br>displayName:Tanner Conner<br>Player Speed:0.224 MPH"
           ],
           "marker": {
            "color": "#008E97",
            "line": {
             "color": "#FC4C02",
             "width": 2
            },
            "size": 10
           },
           "mode": "markers",
           "name": "MIA",
           "type": "scatter",
           "x": [
            34.91,
            38.98,
            39.77,
            39.83,
            34.37,
            38.93,
            39.28,
            37.88,
            39.15,
            34.55,
            38.65
           ],
           "y": [
            26.62,
            33.03,
            21.08,
            29.72,
            33.04,
            26.77,
            28.43,
            19.57,
            31.36,
            29.84,
            34.71
           ]
          },
          {
           "hoverinfo": "none",
           "marker": {
            "color": "#CBB67C",
            "line": {
             "color": "#663831",
             "width": 2
            },
            "size": 10
           },
           "mode": "markers",
           "name": "football",
           "type": "scatter",
           "x": [
            40.0699996948242
           ],
           "y": [
            29.7999992370605
           ]
          }
         ],
         "name": "48"
        },
        {
         "data": [
          {
           "hoverinfo": "none",
           "mode": "text",
           "showlegend": false,
           "text": [
            "10",
            "20",
            "30",
            "40",
            "50",
            "40",
            "30",
            "20",
            "10"
           ],
           "textfont": {
            "color": "#ffffff",
            "family": "Courier New, monospace",
            "size": 30
           },
           "type": "scatter",
           "x": [
            20,
            30,
            40,
            50,
            60,
            70,
            80,
            90,
            100
           ],
           "y": [
            5,
            5,
            5,
            5,
            5,
            5,
            5,
            5,
            5
           ]
          },
          {
           "hoverinfo": "none",
           "mode": "text",
           "showlegend": false,
           "text": [
            "10",
            "20",
            "30",
            "40",
            "50",
            "40",
            "30",
            "20",
            "10"
           ],
           "textfont": {
            "color": "#ffffff",
            "family": "Courier New, monospace",
            "size": 30
           },
           "type": "scatter",
           "x": [
            20,
            30,
            40,
            50,
            60,
            70,
            80,
            90,
            100
           ],
           "y": [
            48.5,
            48.5,
            48.5,
            48.5,
            48.5,
            48.5,
            48.5,
            48.5,
            48.5
           ]
          },
          {
           "hoverinfo": "none",
           "line": {
            "color": "blue",
            "dash": "dash"
           },
           "showlegend": false,
           "type": "scatter",
           "x": [
            40,
            40
           ],
           "y": [
            0,
            53.5
           ]
          },
          {
           "hoverinfo": "none",
           "line": {
            "color": "yellow",
            "dash": "dash"
           },
           "showlegend": false,
           "type": "scatter",
           "x": [
            45,
            45
           ],
           "y": [
            0,
            53.5
           ]
          },
          {
           "fill": "toself",
           "fillcolor": "#000000",
           "hoverinfo": "skip",
           "line": {
            "color": "white",
            "width": 3
           },
           "mode": "lines",
           "opacity": 1,
           "showlegend": false,
           "type": "scatter",
           "x": [
            0,
            0,
            10,
            10,
            0
           ],
           "y": [
            0,
            53.5,
            53.5,
            0,
            0
           ]
          },
          {
           "fill": "toself",
           "fillcolor": "#008E97",
           "hoverinfo": "skip",
           "line": {
            "color": "white",
            "width": 3
           },
           "mode": "lines",
           "opacity": 1,
           "showlegend": false,
           "type": "scatter",
           "x": [
            110,
            110,
            120,
            120,
            110
           ],
           "y": [
            0,
            53.5,
            53.5,
            0,
            0
           ]
          },
          {
           "hoverinfo": "text",
           "hovertext": [
            "nflId:41243<br>displayName:C.J. Mosley<br>Player Speed:1.163 MPH",
            "nflId:41270<br>displayName:Lamarcus Joyner<br>Player Speed:3.758 MPH",
            "nflId:42467<br>displayName:Kwon Alexander<br>Player Speed:0.872 MPH",
            "nflId:43508<br>displayName:Will Parks<br>Player Speed:0.313 MPH",
            "nflId:44815<br>displayName:Solomon Thomas<br>Player Speed:0.537 MPH",
            "nflId:46141<br>displayName:Nathan Shepherd<br>Player Speed:0.268 MPH",
            "nflId:46186<br>displayName:Jordan Whitehead<br>Player Speed:1.342 MPH",
            "nflId:46211<br>displayName:D.J. Reed<br>Player Speed:2.147 MPH",
            "nflId:54469<br>displayName:Ahmad Gardner<br>Player Speed:2.953 MPH",
            "nflId:54491<br>displayName:Jermaine Johnson<br>Player Speed:0.582 MPH",
            "nflId:54582<br>displayName:Micheal Clemons<br>Player Speed:1.991 MPH"
           ],
           "marker": {
            "color": "#000000",
            "line": {
             "color": "#125740",
             "width": 2
            },
            "size": 10
           },
           "mode": "markers",
           "name": "NYJ",
           "type": "scatter",
           "x": [
            45.21,
            51.7,
            45.43,
            43,
            41.24,
            41.31,
            51.06,
            43.52,
            46.24,
            41.31,
            41.11
           ],
           "y": [
            27.1,
            29.82,
            30.66,
            20.84,
            28.51,
            32.2,
            33.67,
            39.2,
            15.92,
            23.92,
            36.55
           ]
          },
          {
           "hoverinfo": "text",
           "hovertext": [
            "nflId:42718<br>displayName:Raheem Mostert<br>Player Speed:0.022 MPH",
            "nflId:43447<br>displayName:Brandon Shell<br>Player Speed:0.067 MPH",
            "nflId:43454<br>displayName:Tyreek Hill<br>Player Speed:0.626 MPH",
            "nflId:46119<br>displayName:Connor Williams<br>Player Speed:0.224 MPH",
            "nflId:46203<br>displayName:Chase Edmonds<br>Player Speed:1.096 MPH",
            "nflId:47820<br>displayName:Greg Little<br>Player Speed:0.291 MPH",
            "nflId:52447<br>displayName:Robert Hunt<br>Player Speed:0.201 MPH",
            "nflId:53435<br>displayName:Jaylen Waddle<br>Player Speed:2.617 MPH",
            "nflId:53471<br>displayName:Liam Eichenberg<br>Player Speed:0.179 MPH",
            "nflId:54712<br>displayName:Skylar Thompson<br>Player Speed:0.604 MPH",
            "nflId:54931<br>displayName:Tanner Conner<br>Player Speed:0.246 MPH"
           ],
           "marker": {
            "color": "#008E97",
            "line": {
             "color": "#FC4C02",
             "width": 2
            },
            "size": 10
           },
           "mode": "markers",
           "name": "MIA",
           "type": "scatter",
           "x": [
            34.91,
            38.98,
            39.75,
            39.82,
            34.4,
            38.94,
            39.29,
            37.98,
            39.15,
            34.55,
            38.68
           ],
           "y": [
            26.61,
            33.02,
            21.06,
            29.71,
            33.08,
            26.78,
            28.44,
            19.5,
            31.35,
            29.81,
            34.69
           ]
          },
          {
           "hoverinfo": "none",
           "marker": {
            "color": "#CBB67C",
            "line": {
             "color": "#663831",
             "width": 2
            },
            "size": 10
           },
           "mode": "markers",
           "name": "football",
           "type": "scatter",
           "x": [
            40.0699996948242
           ],
           "y": [
            29.7999992370605
           ]
          }
         ],
         "name": "49"
        },
        {
         "data": [
          {
           "hoverinfo": "none",
           "mode": "text",
           "showlegend": false,
           "text": [
            "10",
            "20",
            "30",
            "40",
            "50",
            "40",
            "30",
            "20",
            "10"
           ],
           "textfont": {
            "color": "#ffffff",
            "family": "Courier New, monospace",
            "size": 30
           },
           "type": "scatter",
           "x": [
            20,
            30,
            40,
            50,
            60,
            70,
            80,
            90,
            100
           ],
           "y": [
            5,
            5,
            5,
            5,
            5,
            5,
            5,
            5,
            5
           ]
          },
          {
           "hoverinfo": "none",
           "mode": "text",
           "showlegend": false,
           "text": [
            "10",
            "20",
            "30",
            "40",
            "50",
            "40",
            "30",
            "20",
            "10"
           ],
           "textfont": {
            "color": "#ffffff",
            "family": "Courier New, monospace",
            "size": 30
           },
           "type": "scatter",
           "x": [
            20,
            30,
            40,
            50,
            60,
            70,
            80,
            90,
            100
           ],
           "y": [
            48.5,
            48.5,
            48.5,
            48.5,
            48.5,
            48.5,
            48.5,
            48.5,
            48.5
           ]
          },
          {
           "hoverinfo": "none",
           "line": {
            "color": "blue",
            "dash": "dash"
           },
           "showlegend": false,
           "type": "scatter",
           "x": [
            40,
            40
           ],
           "y": [
            0,
            53.5
           ]
          },
          {
           "hoverinfo": "none",
           "line": {
            "color": "yellow",
            "dash": "dash"
           },
           "showlegend": false,
           "type": "scatter",
           "x": [
            45,
            45
           ],
           "y": [
            0,
            53.5
           ]
          },
          {
           "fill": "toself",
           "fillcolor": "#000000",
           "hoverinfo": "skip",
           "line": {
            "color": "white",
            "width": 3
           },
           "mode": "lines",
           "opacity": 1,
           "showlegend": false,
           "type": "scatter",
           "x": [
            0,
            0,
            10,
            10,
            0
           ],
           "y": [
            0,
            53.5,
            53.5,
            0,
            0
           ]
          },
          {
           "fill": "toself",
           "fillcolor": "#008E97",
           "hoverinfo": "skip",
           "line": {
            "color": "white",
            "width": 3
           },
           "mode": "lines",
           "opacity": 1,
           "showlegend": false,
           "type": "scatter",
           "x": [
            110,
            110,
            120,
            120,
            110
           ],
           "y": [
            0,
            53.5,
            53.5,
            0,
            0
           ]
          },
          {
           "hoverinfo": "text",
           "hovertext": [
            "nflId:41243<br>displayName:C.J. Mosley<br>Player Speed:1.096 MPH",
            "nflId:41270<br>displayName:Lamarcus Joyner<br>Player Speed:3.959 MPH",
            "nflId:42467<br>displayName:Kwon Alexander<br>Player Speed:0.537 MPH",
            "nflId:43508<br>displayName:Will Parks<br>Player Speed:0.425 MPH",
            "nflId:44815<br>displayName:Solomon Thomas<br>Player Speed:0.582 MPH",
            "nflId:46141<br>displayName:Nathan Shepherd<br>Player Speed:0.291 MPH",
            "nflId:46186<br>displayName:Jordan Whitehead<br>Player Speed:1.23 MPH",
            "nflId:46211<br>displayName:D.J. Reed<br>Player Speed:2.125 MPH",
            "nflId:54469<br>displayName:Ahmad Gardner<br>Player Speed:2.953 MPH",
            "nflId:54491<br>displayName:Jermaine Johnson<br>Player Speed:0.403 MPH",
            "nflId:54582<br>displayName:Micheal Clemons<br>Player Speed:1.745 MPH"
           ],
           "marker": {
            "color": "#000000",
            "line": {
             "color": "#125740",
             "width": 2
            },
            "size": 10
           },
           "mode": "markers",
           "name": "NYJ",
           "type": "scatter",
           "x": [
            45.18,
            51.83,
            45.43,
            43.01,
            41.21,
            41.29,
            51.12,
            43.53,
            46.36,
            41.31,
            41.13
           ],
           "y": [
            27.06,
            29.69,
            30.67,
            20.85,
            28.52,
            32.21,
            33.68,
            39.1,
            15.97,
            23.9,
            36.63
           ]
          },
          {
           "hoverinfo": "text",
           "hovertext": [
            "nflId:42718<br>displayName:Raheem Mostert<br>Player Speed:0.246 MPH",
            "nflId:43447<br>displayName:Brandon Shell<br>Player Speed:0.089 MPH",
            "nflId:43454<br>displayName:Tyreek Hill<br>Player Speed:0.783 MPH",
            "nflId:46119<br>displayName:Connor Williams<br>Player Speed:0.157 MPH",
            "nflId:46203<br>displayName:Chase Edmonds<br>Player Speed:1.051 MPH",
            "nflId:47820<br>displayName:Greg Little<br>Player Speed:0.224 MPH",
            "nflId:52447<br>displayName:Robert Hunt<br>Player Speed:0.179 MPH",
            "nflId:53435<br>displayName:Jaylen Waddle<br>Player Speed:2.438 MPH",
            "nflId:53471<br>displayName:Liam Eichenberg<br>Player Speed:0.067 MPH",
            "nflId:54712<br>displayName:Skylar Thompson<br>Player Speed:0.447 MPH",
            "nflId:54931<br>displayName:Tanner Conner<br>Player Speed:0.291 MPH"
           ],
           "marker": {
            "color": "#008E97",
            "line": {
             "color": "#FC4C02",
             "width": 2
            },
            "size": 10
           },
           "mode": "markers",
           "name": "MIA",
           "type": "scatter",
           "x": [
            34.92,
            38.99,
            39.73,
            39.83,
            34.44,
            38.95,
            39.29,
            38.07,
            39.15,
            34.55,
            38.69
           ],
           "y": [
            26.62,
            33.02,
            21.04,
            29.7,
            33.11,
            26.78,
            28.43,
            19.43,
            31.36,
            29.79,
            34.67
           ]
          },
          {
           "hoverinfo": "none",
           "marker": {
            "color": "#CBB67C",
            "line": {
             "color": "#663831",
             "width": 2
            },
            "size": 10
           },
           "mode": "markers",
           "name": "football",
           "type": "scatter",
           "x": [
            40.0699996948242
           ],
           "y": [
            29.7999992370605
           ]
          }
         ],
         "name": "50"
        },
        {
         "data": [
          {
           "hoverinfo": "none",
           "mode": "text",
           "showlegend": false,
           "text": [
            "10",
            "20",
            "30",
            "40",
            "50",
            "40",
            "30",
            "20",
            "10"
           ],
           "textfont": {
            "color": "#ffffff",
            "family": "Courier New, monospace",
            "size": 30
           },
           "type": "scatter",
           "x": [
            20,
            30,
            40,
            50,
            60,
            70,
            80,
            90,
            100
           ],
           "y": [
            5,
            5,
            5,
            5,
            5,
            5,
            5,
            5,
            5
           ]
          },
          {
           "hoverinfo": "none",
           "mode": "text",
           "showlegend": false,
           "text": [
            "10",
            "20",
            "30",
            "40",
            "50",
            "40",
            "30",
            "20",
            "10"
           ],
           "textfont": {
            "color": "#ffffff",
            "family": "Courier New, monospace",
            "size": 30
           },
           "type": "scatter",
           "x": [
            20,
            30,
            40,
            50,
            60,
            70,
            80,
            90,
            100
           ],
           "y": [
            48.5,
            48.5,
            48.5,
            48.5,
            48.5,
            48.5,
            48.5,
            48.5,
            48.5
           ]
          },
          {
           "hoverinfo": "none",
           "line": {
            "color": "blue",
            "dash": "dash"
           },
           "showlegend": false,
           "type": "scatter",
           "x": [
            40,
            40
           ],
           "y": [
            0,
            53.5
           ]
          },
          {
           "hoverinfo": "none",
           "line": {
            "color": "yellow",
            "dash": "dash"
           },
           "showlegend": false,
           "type": "scatter",
           "x": [
            45,
            45
           ],
           "y": [
            0,
            53.5
           ]
          },
          {
           "fill": "toself",
           "fillcolor": "#000000",
           "hoverinfo": "skip",
           "line": {
            "color": "white",
            "width": 3
           },
           "mode": "lines",
           "opacity": 1,
           "showlegend": false,
           "type": "scatter",
           "x": [
            0,
            0,
            10,
            10,
            0
           ],
           "y": [
            0,
            53.5,
            53.5,
            0,
            0
           ]
          },
          {
           "fill": "toself",
           "fillcolor": "#008E97",
           "hoverinfo": "skip",
           "line": {
            "color": "white",
            "width": 3
           },
           "mode": "lines",
           "opacity": 1,
           "showlegend": false,
           "type": "scatter",
           "x": [
            110,
            110,
            120,
            120,
            110
           ],
           "y": [
            0,
            53.5,
            53.5,
            0,
            0
           ]
          },
          {
           "hoverinfo": "text",
           "hovertext": [
            "nflId:41243<br>displayName:C.J. Mosley<br>Player Speed:0.984 MPH",
            "nflId:41270<br>displayName:Lamarcus Joyner<br>Player Speed:4.094 MPH",
            "nflId:42467<br>displayName:Kwon Alexander<br>Player Speed:0.358 MPH",
            "nflId:43508<br>displayName:Will Parks<br>Player Speed:0.537 MPH",
            "nflId:44815<br>displayName:Solomon Thomas<br>Player Speed:0.626 MPH",
            "nflId:46141<br>displayName:Nathan Shepherd<br>Player Speed:0.358 MPH",
            "nflId:46186<br>displayName:Jordan Whitehead<br>Player Speed:1.051 MPH",
            "nflId:46211<br>displayName:D.J. Reed<br>Player Speed:2.147 MPH",
            "nflId:54469<br>displayName:Ahmad Gardner<br>Player Speed:2.863 MPH",
            "nflId:54491<br>displayName:Jermaine Johnson<br>Player Speed:0.224 MPH",
            "nflId:54582<br>displayName:Micheal Clemons<br>Player Speed:1.543 MPH"
           ],
           "marker": {
            "color": "#000000",
            "line": {
             "color": "#125740",
             "width": 2
            },
            "size": 10
           },
           "mode": "markers",
           "name": "NYJ",
           "type": "scatter",
           "x": [
            45.16,
            51.95,
            45.42,
            43.03,
            41.18,
            41.28,
            51.17,
            43.54,
            46.48,
            41.31,
            41.16
           ],
           "y": [
            27.02,
            29.56,
            30.67,
            20.85,
            28.52,
            32.21,
            33.68,
            39,
            16.01,
            23.89,
            36.7
           ]
          },
          {
           "hoverinfo": "text",
           "hovertext": [
            "nflId:42718<br>displayName:Raheem Mostert<br>Player Speed:0.403 MPH",
            "nflId:43447<br>displayName:Brandon Shell<br>Player Speed:0.112 MPH",
            "nflId:43454<br>displayName:Tyreek Hill<br>Player Speed:0.917 MPH",
            "nflId:46119<br>displayName:Connor Williams<br>Player Speed:0.112 MPH",
            "nflId:46203<br>displayName:Chase Edmonds<br>Player Speed:0.962 MPH",
            "nflId:47820<br>displayName:Greg Little<br>Player Speed:0.201 MPH",
            "nflId:52447<br>displayName:Robert Hunt<br>Player Speed:0.157 MPH",
            "nflId:53435<br>displayName:Jaylen Waddle<br>Player Speed:2.259 MPH",
            "nflId:53471<br>displayName:Liam Eichenberg<br>Player Speed:0.067 MPH",
            "nflId:54712<br>displayName:Skylar Thompson<br>Player Speed:0.447 MPH",
            "nflId:54931<br>displayName:Tanner Conner<br>Player Speed:0.291 MPH"
           ],
           "marker": {
            "color": "#008E97",
            "line": {
             "color": "#FC4C02",
             "width": 2
            },
            "size": 10
           },
           "mode": "markers",
           "name": "MIA",
           "type": "scatter",
           "x": [
            34.92,
            39,
            39.69,
            39.84,
            34.47,
            38.96,
            39.3,
            38.16,
            39.14,
            34.57,
            38.7
           ],
           "y": [
            26.64,
            33.01,
            21.03,
            29.69,
            33.13,
            26.79,
            28.44,
            19.38,
            31.36,
            29.78,
            34.66
           ]
          },
          {
           "hoverinfo": "none",
           "marker": {
            "color": "#CBB67C",
            "line": {
             "color": "#663831",
             "width": 2
            },
            "size": 10
           },
           "mode": "markers",
           "name": "football",
           "type": "scatter",
           "x": [
            40.0699996948242
           ],
           "y": [
            29.7999992370605
           ]
          }
         ],
         "name": "51"
        },
        {
         "data": [
          {
           "hoverinfo": "none",
           "mode": "text",
           "showlegend": false,
           "text": [
            "10",
            "20",
            "30",
            "40",
            "50",
            "40",
            "30",
            "20",
            "10"
           ],
           "textfont": {
            "color": "#ffffff",
            "family": "Courier New, monospace",
            "size": 30
           },
           "type": "scatter",
           "x": [
            20,
            30,
            40,
            50,
            60,
            70,
            80,
            90,
            100
           ],
           "y": [
            5,
            5,
            5,
            5,
            5,
            5,
            5,
            5,
            5
           ]
          },
          {
           "hoverinfo": "none",
           "mode": "text",
           "showlegend": false,
           "text": [
            "10",
            "20",
            "30",
            "40",
            "50",
            "40",
            "30",
            "20",
            "10"
           ],
           "textfont": {
            "color": "#ffffff",
            "family": "Courier New, monospace",
            "size": 30
           },
           "type": "scatter",
           "x": [
            20,
            30,
            40,
            50,
            60,
            70,
            80,
            90,
            100
           ],
           "y": [
            48.5,
            48.5,
            48.5,
            48.5,
            48.5,
            48.5,
            48.5,
            48.5,
            48.5
           ]
          },
          {
           "hoverinfo": "none",
           "line": {
            "color": "blue",
            "dash": "dash"
           },
           "showlegend": false,
           "type": "scatter",
           "x": [
            40,
            40
           ],
           "y": [
            0,
            53.5
           ]
          },
          {
           "hoverinfo": "none",
           "line": {
            "color": "yellow",
            "dash": "dash"
           },
           "showlegend": false,
           "type": "scatter",
           "x": [
            45,
            45
           ],
           "y": [
            0,
            53.5
           ]
          },
          {
           "fill": "toself",
           "fillcolor": "#000000",
           "hoverinfo": "skip",
           "line": {
            "color": "white",
            "width": 3
           },
           "mode": "lines",
           "opacity": 1,
           "showlegend": false,
           "type": "scatter",
           "x": [
            0,
            0,
            10,
            10,
            0
           ],
           "y": [
            0,
            53.5,
            53.5,
            0,
            0
           ]
          },
          {
           "fill": "toself",
           "fillcolor": "#008E97",
           "hoverinfo": "skip",
           "line": {
            "color": "white",
            "width": 3
           },
           "mode": "lines",
           "opacity": 1,
           "showlegend": false,
           "type": "scatter",
           "x": [
            110,
            110,
            120,
            120,
            110
           ],
           "y": [
            0,
            53.5,
            53.5,
            0,
            0
           ]
          },
          {
           "hoverinfo": "text",
           "hovertext": [
            "nflId:41243<br>displayName:C.J. Mosley<br>Player Speed:0.85 MPH",
            "nflId:41270<br>displayName:Lamarcus Joyner<br>Player Speed:4.205 MPH",
            "nflId:42467<br>displayName:Kwon Alexander<br>Player Speed:0.246 MPH",
            "nflId:43508<br>displayName:Will Parks<br>Player Speed:0.559 MPH",
            "nflId:44815<br>displayName:Solomon Thomas<br>Player Speed:0.693 MPH",
            "nflId:46141<br>displayName:Nathan Shepherd<br>Player Speed:0.559 MPH",
            "nflId:46186<br>displayName:Jordan Whitehead<br>Player Speed:0.872 MPH",
            "nflId:46211<br>displayName:D.J. Reed<br>Player Speed:2.08 MPH",
            "nflId:54469<br>displayName:Ahmad Gardner<br>Player Speed:2.819 MPH",
            "nflId:54491<br>displayName:Jermaine Johnson<br>Player Speed:0.089 MPH",
            "nflId:54582<br>displayName:Micheal Clemons<br>Player Speed:1.365 MPH"
           ],
           "marker": {
            "color": "#000000",
            "line": {
             "color": "#125740",
             "width": 2
            },
            "size": 10
           },
           "mode": "markers",
           "name": "NYJ",
           "type": "scatter",
           "x": [
            45.13,
            52.06,
            45.43,
            43.05,
            41.14,
            41.25,
            51.21,
            43.54,
            46.6,
            41.32,
            41.17
           ],
           "y": [
            26.99,
            29.41,
            30.66,
            20.85,
            28.52,
            32.2,
            33.68,
            38.91,
            16.06,
            23.89,
            36.76
           ]
          },
          {
           "hoverinfo": "text",
           "hovertext": [
            "nflId:42718<br>displayName:Raheem Mostert<br>Player Speed:0.447 MPH",
            "nflId:43447<br>displayName:Brandon Shell<br>Player Speed:0.089 MPH",
            "nflId:43454<br>displayName:Tyreek Hill<br>Player Speed:0.94 MPH",
            "nflId:46119<br>displayName:Connor Williams<br>Player Speed:0.089 MPH",
            "nflId:46203<br>displayName:Chase Edmonds<br>Player Speed:0.85 MPH",
            "nflId:47820<br>displayName:Greg Little<br>Player Speed:0.201 MPH",
            "nflId:52447<br>displayName:Robert Hunt<br>Player Speed:0.134 MPH",
            "nflId:53435<br>displayName:Jaylen Waddle<br>Player Speed:1.946 MPH",
            "nflId:53471<br>displayName:Liam Eichenberg<br>Player Speed:0.045 MPH",
            "nflId:54712<br>displayName:Skylar Thompson<br>Player Speed:0.783 MPH",
            "nflId:54931<br>displayName:Tanner Conner<br>Player Speed:0.291 MPH"
           ],
           "marker": {
            "color": "#008E97",
            "line": {
             "color": "#FC4C02",
             "width": 2
            },
            "size": 10
           },
           "mode": "markers",
           "name": "MIA",
           "type": "scatter",
           "x": [
            34.93,
            39,
            39.65,
            39.85,
            34.51,
            38.97,
            39.3,
            38.24,
            39.15,
            34.6,
            38.72
           ],
           "y": [
            26.65,
            33.02,
            21.02,
            29.69,
            33.14,
            26.79,
            28.44,
            19.33,
            31.37,
            29.77,
            34.66
           ]
          },
          {
           "hoverinfo": "none",
           "marker": {
            "color": "#CBB67C",
            "line": {
             "color": "#663831",
             "width": 2
            },
            "size": 10
           },
           "mode": "markers",
           "name": "football",
           "type": "scatter",
           "x": [
            40.0699996948242
           ],
           "y": [
            29.7999992370605
           ]
          }
         ],
         "name": "52"
        },
        {
         "data": [
          {
           "hoverinfo": "none",
           "mode": "text",
           "showlegend": false,
           "text": [
            "10",
            "20",
            "30",
            "40",
            "50",
            "40",
            "30",
            "20",
            "10"
           ],
           "textfont": {
            "color": "#ffffff",
            "family": "Courier New, monospace",
            "size": 30
           },
           "type": "scatter",
           "x": [
            20,
            30,
            40,
            50,
            60,
            70,
            80,
            90,
            100
           ],
           "y": [
            5,
            5,
            5,
            5,
            5,
            5,
            5,
            5,
            5
           ]
          },
          {
           "hoverinfo": "none",
           "mode": "text",
           "showlegend": false,
           "text": [
            "10",
            "20",
            "30",
            "40",
            "50",
            "40",
            "30",
            "20",
            "10"
           ],
           "textfont": {
            "color": "#ffffff",
            "family": "Courier New, monospace",
            "size": 30
           },
           "type": "scatter",
           "x": [
            20,
            30,
            40,
            50,
            60,
            70,
            80,
            90,
            100
           ],
           "y": [
            48.5,
            48.5,
            48.5,
            48.5,
            48.5,
            48.5,
            48.5,
            48.5,
            48.5
           ]
          },
          {
           "hoverinfo": "none",
           "line": {
            "color": "blue",
            "dash": "dash"
           },
           "showlegend": false,
           "type": "scatter",
           "x": [
            40,
            40
           ],
           "y": [
            0,
            53.5
           ]
          },
          {
           "hoverinfo": "none",
           "line": {
            "color": "yellow",
            "dash": "dash"
           },
           "showlegend": false,
           "type": "scatter",
           "x": [
            45,
            45
           ],
           "y": [
            0,
            53.5
           ]
          },
          {
           "fill": "toself",
           "fillcolor": "#000000",
           "hoverinfo": "skip",
           "line": {
            "color": "white",
            "width": 3
           },
           "mode": "lines",
           "opacity": 1,
           "showlegend": false,
           "type": "scatter",
           "x": [
            0,
            0,
            10,
            10,
            0
           ],
           "y": [
            0,
            53.5,
            53.5,
            0,
            0
           ]
          },
          {
           "fill": "toself",
           "fillcolor": "#008E97",
           "hoverinfo": "skip",
           "line": {
            "color": "white",
            "width": 3
           },
           "mode": "lines",
           "opacity": 1,
           "showlegend": false,
           "type": "scatter",
           "x": [
            110,
            110,
            120,
            120,
            110
           ],
           "y": [
            0,
            53.5,
            53.5,
            0,
            0
           ]
          },
          {
           "hoverinfo": "text",
           "hovertext": [
            "nflId:41243<br>displayName:C.J. Mosley<br>Player Speed:0.85 MPH",
            "nflId:41270<br>displayName:Lamarcus Joyner<br>Player Speed:4.295 MPH",
            "nflId:42467<br>displayName:Kwon Alexander<br>Player Speed:0.201 MPH",
            "nflId:43508<br>displayName:Will Parks<br>Player Speed:0.559 MPH",
            "nflId:44815<br>displayName:Solomon Thomas<br>Player Speed:0.783 MPH",
            "nflId:46141<br>displayName:Nathan Shepherd<br>Player Speed:0.649 MPH",
            "nflId:46186<br>displayName:Jordan Whitehead<br>Player Speed:0.671 MPH",
            "nflId:46211<br>displayName:D.J. Reed<br>Player Speed:2.036 MPH",
            "nflId:54469<br>displayName:Ahmad Gardner<br>Player Speed:2.841 MPH",
            "nflId:54491<br>displayName:Jermaine Johnson<br>Player Speed:0.022 MPH",
            "nflId:54582<br>displayName:Micheal Clemons<br>Player Speed:1.297 MPH"
           ],
           "marker": {
            "color": "#000000",
            "line": {
             "color": "#125740",
             "width": 2
            },
            "size": 10
           },
           "mode": "markers",
           "name": "NYJ",
           "type": "scatter",
           "x": [
            45.11,
            52.17,
            45.43,
            43.08,
            41.1,
            41.23,
            51.24,
            43.54,
            46.72,
            41.32,
            41.18
           ],
           "y": [
            26.96,
            29.25,
            30.64,
            20.85,
            28.53,
            32.19,
            33.67,
            38.82,
            16.11,
            23.89,
            36.83
           ]
          },
          {
           "hoverinfo": "text",
           "hovertext": [
            "nflId:42718<br>displayName:Raheem Mostert<br>Player Speed:0.492 MPH",
            "nflId:43447<br>displayName:Brandon Shell<br>Player Speed:0.067 MPH",
            "nflId:43454<br>displayName:Tyreek Hill<br>Player Speed:0.895 MPH",
            "nflId:46119<br>displayName:Connor Williams<br>Player Speed:0.089 MPH",
            "nflId:46203<br>displayName:Chase Edmonds<br>Player Speed:0.872 MPH",
            "nflId:47820<br>displayName:Greg Little<br>Player Speed:0.201 MPH",
            "nflId:52447<br>displayName:Robert Hunt<br>Player Speed:0.112 MPH",
            "nflId:53435<br>displayName:Jaylen Waddle<br>Player Speed:1.655 MPH",
            "nflId:53471<br>displayName:Liam Eichenberg<br>Player Speed:0.067 MPH",
            "nflId:54712<br>displayName:Skylar Thompson<br>Player Speed:0.94 MPH",
            "nflId:54931<br>displayName:Tanner Conner<br>Player Speed:0.268 MPH"
           ],
           "marker": {
            "color": "#008E97",
            "line": {
             "color": "#FC4C02",
             "width": 2
            },
            "size": 10
           },
           "mode": "markers",
           "name": "MIA",
           "type": "scatter",
           "x": [
            34.93,
            39,
            39.61,
            39.86,
            34.55,
            38.97,
            39.3,
            38.3,
            39.16,
            34.64,
            38.74
           ],
           "y": [
            26.67,
            33.02,
            21.01,
            29.68,
            33.13,
            26.79,
            28.44,
            19.29,
            31.36,
            29.78,
            34.65
           ]
          },
          {
           "hoverinfo": "none",
           "marker": {
            "color": "#CBB67C",
            "line": {
             "color": "#663831",
             "width": 2
            },
            "size": 10
           },
           "mode": "markers",
           "name": "football",
           "type": "scatter",
           "x": [
            40.0800018310547
           ],
           "y": [
            29.7999992370605
           ]
          }
         ],
         "name": "53"
        },
        {
         "data": [
          {
           "hoverinfo": "none",
           "mode": "text",
           "showlegend": false,
           "text": [
            "10",
            "20",
            "30",
            "40",
            "50",
            "40",
            "30",
            "20",
            "10"
           ],
           "textfont": {
            "color": "#ffffff",
            "family": "Courier New, monospace",
            "size": 30
           },
           "type": "scatter",
           "x": [
            20,
            30,
            40,
            50,
            60,
            70,
            80,
            90,
            100
           ],
           "y": [
            5,
            5,
            5,
            5,
            5,
            5,
            5,
            5,
            5
           ]
          },
          {
           "hoverinfo": "none",
           "mode": "text",
           "showlegend": false,
           "text": [
            "10",
            "20",
            "30",
            "40",
            "50",
            "40",
            "30",
            "20",
            "10"
           ],
           "textfont": {
            "color": "#ffffff",
            "family": "Courier New, monospace",
            "size": 30
           },
           "type": "scatter",
           "x": [
            20,
            30,
            40,
            50,
            60,
            70,
            80,
            90,
            100
           ],
           "y": [
            48.5,
            48.5,
            48.5,
            48.5,
            48.5,
            48.5,
            48.5,
            48.5,
            48.5
           ]
          },
          {
           "hoverinfo": "none",
           "line": {
            "color": "blue",
            "dash": "dash"
           },
           "showlegend": false,
           "type": "scatter",
           "x": [
            40,
            40
           ],
           "y": [
            0,
            53.5
           ]
          },
          {
           "hoverinfo": "none",
           "line": {
            "color": "yellow",
            "dash": "dash"
           },
           "showlegend": false,
           "type": "scatter",
           "x": [
            45,
            45
           ],
           "y": [
            0,
            53.5
           ]
          },
          {
           "fill": "toself",
           "fillcolor": "#000000",
           "hoverinfo": "skip",
           "line": {
            "color": "white",
            "width": 3
           },
           "mode": "lines",
           "opacity": 1,
           "showlegend": false,
           "type": "scatter",
           "x": [
            0,
            0,
            10,
            10,
            0
           ],
           "y": [
            0,
            53.5,
            53.5,
            0,
            0
           ]
          },
          {
           "fill": "toself",
           "fillcolor": "#008E97",
           "hoverinfo": "skip",
           "line": {
            "color": "white",
            "width": 3
           },
           "mode": "lines",
           "opacity": 1,
           "showlegend": false,
           "type": "scatter",
           "x": [
            110,
            110,
            120,
            120,
            110
           ],
           "y": [
            0,
            53.5,
            53.5,
            0,
            0
           ]
          },
          {
           "hoverinfo": "text",
           "hovertext": [
            "nflId:41243<br>displayName:C.J. Mosley<br>Player Speed:0.716 MPH",
            "nflId:41270<br>displayName:Lamarcus Joyner<br>Player Speed:4.429 MPH",
            "nflId:42467<br>displayName:Kwon Alexander<br>Player Speed:0.201 MPH",
            "nflId:43508<br>displayName:Will Parks<br>Player Speed:0.47 MPH",
            "nflId:44815<br>displayName:Solomon Thomas<br>Player Speed:0.805 MPH",
            "nflId:46141<br>displayName:Nathan Shepherd<br>Player Speed:0.693 MPH",
            "nflId:46186<br>displayName:Jordan Whitehead<br>Player Speed:0.447 MPH",
            "nflId:46211<br>displayName:D.J. Reed<br>Player Speed:1.946 MPH",
            "nflId:54469<br>displayName:Ahmad Gardner<br>Player Speed:2.707 MPH",
            "nflId:54491<br>displayName:Jermaine Johnson<br>Player Speed:0.157 MPH",
            "nflId:54582<br>displayName:Micheal Clemons<br>Player Speed:1.163 MPH"
           ],
           "marker": {
            "color": "#000000",
            "line": {
             "color": "#125740",
             "width": 2
            },
            "size": 10
           },
           "mode": "markers",
           "name": "NYJ",
           "type": "scatter",
           "x": [
            45.09,
            52.28,
            45.43,
            43.1,
            41.07,
            41.2,
            51.26,
            43.54,
            46.83,
            41.32,
            41.19
           ],
           "y": [
            26.92,
            29.09,
            30.61,
            20.84,
            28.52,
            32.19,
            33.66,
            38.73,
            16.16,
            23.91,
            36.88
           ]
          },
          {
           "hoverinfo": "text",
           "hovertext": [
            "nflId:42718<br>displayName:Raheem Mostert<br>Player Speed:0.492 MPH",
            "nflId:43447<br>displayName:Brandon Shell<br>Player Speed:0.045 MPH",
            "nflId:43454<br>displayName:Tyreek Hill<br>Player Speed:0.738 MPH",
            "nflId:46119<br>displayName:Connor Williams<br>Player Speed:0.067 MPH",
            "nflId:46203<br>displayName:Chase Edmonds<br>Player Speed:0.94 MPH",
            "nflId:47820<br>displayName:Greg Little<br>Player Speed:0.112 MPH",
            "nflId:52447<br>displayName:Robert Hunt<br>Player Speed:0.089 MPH",
            "nflId:53435<br>displayName:Jaylen Waddle<br>Player Speed:1.297 MPH",
            "nflId:53471<br>displayName:Liam Eichenberg<br>Player Speed:0.045 MPH",
            "nflId:54712<br>displayName:Skylar Thompson<br>Player Speed:1.096 MPH",
            "nflId:54931<br>displayName:Tanner Conner<br>Player Speed:0.246 MPH"
           ],
           "marker": {
            "color": "#008E97",
            "line": {
             "color": "#FC4C02",
             "width": 2
            },
            "size": 10
           },
           "mode": "markers",
           "name": "MIA",
           "type": "scatter",
           "x": [
            34.94,
            38.98,
            39.57,
            39.86,
            34.59,
            38.98,
            39.3,
            38.36,
            39.16,
            34.68,
            38.75
           ],
           "y": [
            26.69,
            33.02,
            21.01,
            29.67,
            33.12,
            26.79,
            28.44,
            19.26,
            31.38,
            29.8,
            34.64
           ]
          },
          {
           "hoverinfo": "none",
           "marker": {
            "color": "#CBB67C",
            "line": {
             "color": "#663831",
             "width": 2
            },
            "size": 10
           },
           "mode": "markers",
           "name": "football",
           "type": "scatter",
           "x": [
            40.0800018310547
           ],
           "y": [
            29.7900009155273
           ]
          }
         ],
         "name": "54"
        },
        {
         "data": [
          {
           "hoverinfo": "none",
           "mode": "text",
           "showlegend": false,
           "text": [
            "10",
            "20",
            "30",
            "40",
            "50",
            "40",
            "30",
            "20",
            "10"
           ],
           "textfont": {
            "color": "#ffffff",
            "family": "Courier New, monospace",
            "size": 30
           },
           "type": "scatter",
           "x": [
            20,
            30,
            40,
            50,
            60,
            70,
            80,
            90,
            100
           ],
           "y": [
            5,
            5,
            5,
            5,
            5,
            5,
            5,
            5,
            5
           ]
          },
          {
           "hoverinfo": "none",
           "mode": "text",
           "showlegend": false,
           "text": [
            "10",
            "20",
            "30",
            "40",
            "50",
            "40",
            "30",
            "20",
            "10"
           ],
           "textfont": {
            "color": "#ffffff",
            "family": "Courier New, monospace",
            "size": 30
           },
           "type": "scatter",
           "x": [
            20,
            30,
            40,
            50,
            60,
            70,
            80,
            90,
            100
           ],
           "y": [
            48.5,
            48.5,
            48.5,
            48.5,
            48.5,
            48.5,
            48.5,
            48.5,
            48.5
           ]
          },
          {
           "hoverinfo": "none",
           "line": {
            "color": "blue",
            "dash": "dash"
           },
           "showlegend": false,
           "type": "scatter",
           "x": [
            40,
            40
           ],
           "y": [
            0,
            53.5
           ]
          },
          {
           "hoverinfo": "none",
           "line": {
            "color": "yellow",
            "dash": "dash"
           },
           "showlegend": false,
           "type": "scatter",
           "x": [
            45,
            45
           ],
           "y": [
            0,
            53.5
           ]
          },
          {
           "fill": "toself",
           "fillcolor": "#000000",
           "hoverinfo": "skip",
           "line": {
            "color": "white",
            "width": 3
           },
           "mode": "lines",
           "opacity": 1,
           "showlegend": false,
           "type": "scatter",
           "x": [
            0,
            0,
            10,
            10,
            0
           ],
           "y": [
            0,
            53.5,
            53.5,
            0,
            0
           ]
          },
          {
           "fill": "toself",
           "fillcolor": "#008E97",
           "hoverinfo": "skip",
           "line": {
            "color": "white",
            "width": 3
           },
           "mode": "lines",
           "opacity": 1,
           "showlegend": false,
           "type": "scatter",
           "x": [
            110,
            110,
            120,
            120,
            110
           ],
           "y": [
            0,
            53.5,
            53.5,
            0,
            0
           ]
          },
          {
           "hoverinfo": "text",
           "hovertext": [
            "nflId:41243<br>displayName:C.J. Mosley<br>Player Speed:0.649 MPH",
            "nflId:41270<br>displayName:Lamarcus Joyner<br>Player Speed:4.407 MPH",
            "nflId:42467<br>displayName:Kwon Alexander<br>Player Speed:0.179 MPH",
            "nflId:43508<br>displayName:Will Parks<br>Player Speed:0.403 MPH",
            "nflId:44815<br>displayName:Solomon Thomas<br>Player Speed:0.94 MPH",
            "nflId:46141<br>displayName:Nathan Shepherd<br>Player Speed:0.738 MPH",
            "nflId:46186<br>displayName:Jordan Whitehead<br>Player Speed:0.336 MPH",
            "nflId:46211<br>displayName:D.J. Reed<br>Player Speed:1.879 MPH",
            "nflId:54469<br>displayName:Ahmad Gardner<br>Player Speed:2.505 MPH",
            "nflId:54491<br>displayName:Jermaine Johnson<br>Player Speed:0.246 MPH",
            "nflId:54582<br>displayName:Micheal Clemons<br>Player Speed:1.007 MPH"
           ],
           "marker": {
            "color": "#000000",
            "line": {
             "color": "#125740",
             "width": 2
            },
            "size": 10
           },
           "mode": "markers",
           "name": "NYJ",
           "type": "scatter",
           "x": [
            45.07,
            52.39,
            45.45,
            43.11,
            41.02,
            41.16,
            51.27,
            43.54,
            46.94,
            41.29,
            41.19
           ],
           "y": [
            26.9,
            28.93,
            30.61,
            20.82,
            28.53,
            32.19,
            33.65,
            38.64,
            16.2,
            23.91,
            36.92
           ]
          },
          {
           "hoverinfo": "text",
           "hovertext": [
            "nflId:42718<br>displayName:Raheem Mostert<br>Player Speed:0.358 MPH",
            "nflId:43447<br>displayName:Brandon Shell<br>Player Speed:0.022 MPH",
            "nflId:43454<br>displayName:Tyreek Hill<br>Player Speed:0.514 MPH",
            "nflId:46119<br>displayName:Connor Williams<br>Player Speed:0.067 MPH",
            "nflId:46203<br>displayName:Chase Edmonds<br>Player Speed:1.051 MPH",
            "nflId:47820<br>displayName:Greg Little<br>Player Speed:0.112 MPH",
            "nflId:52447<br>displayName:Robert Hunt<br>Player Speed:0.067 MPH",
            "nflId:53435<br>displayName:Jaylen Waddle<br>Player Speed:0.94 MPH",
            "nflId:53471<br>displayName:Liam Eichenberg<br>Player Speed:0.022 MPH",
            "nflId:54712<br>displayName:Skylar Thompson<br>Player Speed:1.141 MPH",
            "nflId:54931<br>displayName:Tanner Conner<br>Player Speed:0.201 MPH"
           ],
           "marker": {
            "color": "#008E97",
            "line": {
             "color": "#FC4C02",
             "width": 2
            },
            "size": 10
           },
           "mode": "markers",
           "name": "MIA",
           "type": "scatter",
           "x": [
            34.95,
            38.98,
            39.55,
            39.86,
            34.62,
            38.98,
            39.3,
            38.4,
            39.14,
            34.72,
            38.76
           ],
           "y": [
            26.7,
            33.03,
            21.01,
            29.67,
            33.09,
            26.79,
            28.44,
            19.23,
            31.38,
            29.81,
            34.67
           ]
          },
          {
           "hoverinfo": "none",
           "marker": {
            "color": "#CBB67C",
            "line": {
             "color": "#663831",
             "width": 2
            },
            "size": 10
           },
           "mode": "markers",
           "name": "football",
           "type": "scatter",
           "x": [
            40.0800018310547
           ],
           "y": [
            29.7900009155273
           ]
          }
         ],
         "name": "55"
        },
        {
         "data": [
          {
           "hoverinfo": "none",
           "mode": "text",
           "showlegend": false,
           "text": [
            "10",
            "20",
            "30",
            "40",
            "50",
            "40",
            "30",
            "20",
            "10"
           ],
           "textfont": {
            "color": "#ffffff",
            "family": "Courier New, monospace",
            "size": 30
           },
           "type": "scatter",
           "x": [
            20,
            30,
            40,
            50,
            60,
            70,
            80,
            90,
            100
           ],
           "y": [
            5,
            5,
            5,
            5,
            5,
            5,
            5,
            5,
            5
           ]
          },
          {
           "hoverinfo": "none",
           "mode": "text",
           "showlegend": false,
           "text": [
            "10",
            "20",
            "30",
            "40",
            "50",
            "40",
            "30",
            "20",
            "10"
           ],
           "textfont": {
            "color": "#ffffff",
            "family": "Courier New, monospace",
            "size": 30
           },
           "type": "scatter",
           "x": [
            20,
            30,
            40,
            50,
            60,
            70,
            80,
            90,
            100
           ],
           "y": [
            48.5,
            48.5,
            48.5,
            48.5,
            48.5,
            48.5,
            48.5,
            48.5,
            48.5
           ]
          },
          {
           "hoverinfo": "none",
           "line": {
            "color": "blue",
            "dash": "dash"
           },
           "showlegend": false,
           "type": "scatter",
           "x": [
            40,
            40
           ],
           "y": [
            0,
            53.5
           ]
          },
          {
           "hoverinfo": "none",
           "line": {
            "color": "yellow",
            "dash": "dash"
           },
           "showlegend": false,
           "type": "scatter",
           "x": [
            45,
            45
           ],
           "y": [
            0,
            53.5
           ]
          },
          {
           "fill": "toself",
           "fillcolor": "#000000",
           "hoverinfo": "skip",
           "line": {
            "color": "white",
            "width": 3
           },
           "mode": "lines",
           "opacity": 1,
           "showlegend": false,
           "type": "scatter",
           "x": [
            0,
            0,
            10,
            10,
            0
           ],
           "y": [
            0,
            53.5,
            53.5,
            0,
            0
           ]
          },
          {
           "fill": "toself",
           "fillcolor": "#008E97",
           "hoverinfo": "skip",
           "line": {
            "color": "white",
            "width": 3
           },
           "mode": "lines",
           "opacity": 1,
           "showlegend": false,
           "type": "scatter",
           "x": [
            110,
            110,
            120,
            120,
            110
           ],
           "y": [
            0,
            53.5,
            53.5,
            0,
            0
           ]
          },
          {
           "hoverinfo": "text",
           "hovertext": [
            "nflId:41243<br>displayName:C.J. Mosley<br>Player Speed:0.626 MPH",
            "nflId:41270<br>displayName:Lamarcus Joyner<br>Player Speed:4.496 MPH",
            "nflId:42467<br>displayName:Kwon Alexander<br>Player Speed:0.134 MPH",
            "nflId:43508<br>displayName:Will Parks<br>Player Speed:0.38 MPH",
            "nflId:44815<br>displayName:Solomon Thomas<br>Player Speed:0.94 MPH",
            "nflId:46141<br>displayName:Nathan Shepherd<br>Player Speed:0.828 MPH",
            "nflId:46186<br>displayName:Jordan Whitehead<br>Player Speed:0.336 MPH",
            "nflId:46211<br>displayName:D.J. Reed<br>Player Speed:1.969 MPH",
            "nflId:54469<br>displayName:Ahmad Gardner<br>Player Speed:2.349 MPH",
            "nflId:54491<br>displayName:Jermaine Johnson<br>Player Speed:0.447 MPH",
            "nflId:54582<br>displayName:Micheal Clemons<br>Player Speed:0.872 MPH"
           ],
           "marker": {
            "color": "#000000",
            "line": {
             "color": "#125740",
             "width": 2
            },
            "size": 10
           },
           "mode": "markers",
           "name": "NYJ",
           "type": "scatter",
           "x": [
            45.05,
            52.49,
            45.46,
            43.12,
            40.98,
            41.12,
            51.28,
            43.54,
            47.04,
            41.25,
            41.2
           ],
           "y": [
            26.88,
            28.76,
            30.61,
            20.81,
            28.53,
            32.18,
            33.64,
            38.55,
            16.25,
            23.92,
            36.96
           ]
          },
          {
           "hoverinfo": "text",
           "hovertext": [
            "nflId:42718<br>displayName:Raheem Mostert<br>Player Speed:0.313 MPH",
            "nflId:43447<br>displayName:Brandon Shell<br>Player Speed:0.022 MPH",
            "nflId:43454<br>displayName:Tyreek Hill<br>Player Speed:0.358 MPH",
            "nflId:46119<br>displayName:Connor Williams<br>Player Speed:0.067 MPH",
            "nflId:46203<br>displayName:Chase Edmonds<br>Player Speed:1.051 MPH",
            "nflId:47820<br>displayName:Greg Little<br>Player Speed:0.067 MPH",
            "nflId:52447<br>displayName:Robert Hunt<br>Player Speed:0.045 MPH",
            "nflId:53435<br>displayName:Jaylen Waddle<br>Player Speed:0.492 MPH",
            "nflId:53471<br>displayName:Liam Eichenberg<br>Player Speed:0.022 MPH",
            "nflId:54712<br>displayName:Skylar Thompson<br>Player Speed:1.163 MPH",
            "nflId:54931<br>displayName:Tanner Conner<br>Player Speed:0.201 MPH"
           ],
           "marker": {
            "color": "#008E97",
            "line": {
             "color": "#FC4C02",
             "width": 2
            },
            "size": 10
           },
           "mode": "markers",
           "name": "MIA",
           "type": "scatter",
           "x": [
            34.96,
            38.98,
            39.53,
            39.86,
            34.66,
            38.98,
            39.29,
            38.43,
            39.15,
            34.77,
            38.77
           ],
           "y": [
            26.7,
            33.02,
            21.01,
            29.67,
            33.06,
            26.79,
            28.44,
            19.22,
            31.39,
            29.84,
            34.67
           ]
          },
          {
           "hoverinfo": "none",
           "marker": {
            "color": "#CBB67C",
            "line": {
             "color": "#663831",
             "width": 2
            },
            "size": 10
           },
           "mode": "markers",
           "name": "football",
           "type": "scatter",
           "x": [
            40.0800018310547
           ],
           "y": [
            29.7900009155273
           ]
          }
         ],
         "name": "56"
        },
        {
         "data": [
          {
           "hoverinfo": "none",
           "mode": "text",
           "showlegend": false,
           "text": [
            "10",
            "20",
            "30",
            "40",
            "50",
            "40",
            "30",
            "20",
            "10"
           ],
           "textfont": {
            "color": "#ffffff",
            "family": "Courier New, monospace",
            "size": 30
           },
           "type": "scatter",
           "x": [
            20,
            30,
            40,
            50,
            60,
            70,
            80,
            90,
            100
           ],
           "y": [
            5,
            5,
            5,
            5,
            5,
            5,
            5,
            5,
            5
           ]
          },
          {
           "hoverinfo": "none",
           "mode": "text",
           "showlegend": false,
           "text": [
            "10",
            "20",
            "30",
            "40",
            "50",
            "40",
            "30",
            "20",
            "10"
           ],
           "textfont": {
            "color": "#ffffff",
            "family": "Courier New, monospace",
            "size": 30
           },
           "type": "scatter",
           "x": [
            20,
            30,
            40,
            50,
            60,
            70,
            80,
            90,
            100
           ],
           "y": [
            48.5,
            48.5,
            48.5,
            48.5,
            48.5,
            48.5,
            48.5,
            48.5,
            48.5
           ]
          },
          {
           "hoverinfo": "none",
           "line": {
            "color": "blue",
            "dash": "dash"
           },
           "showlegend": false,
           "type": "scatter",
           "x": [
            40,
            40
           ],
           "y": [
            0,
            53.5
           ]
          },
          {
           "hoverinfo": "none",
           "line": {
            "color": "yellow",
            "dash": "dash"
           },
           "showlegend": false,
           "type": "scatter",
           "x": [
            45,
            45
           ],
           "y": [
            0,
            53.5
           ]
          },
          {
           "fill": "toself",
           "fillcolor": "#000000",
           "hoverinfo": "skip",
           "line": {
            "color": "white",
            "width": 3
           },
           "mode": "lines",
           "opacity": 1,
           "showlegend": false,
           "type": "scatter",
           "x": [
            0,
            0,
            10,
            10,
            0
           ],
           "y": [
            0,
            53.5,
            53.5,
            0,
            0
           ]
          },
          {
           "fill": "toself",
           "fillcolor": "#008E97",
           "hoverinfo": "skip",
           "line": {
            "color": "white",
            "width": 3
           },
           "mode": "lines",
           "opacity": 1,
           "showlegend": false,
           "type": "scatter",
           "x": [
            110,
            110,
            120,
            120,
            110
           ],
           "y": [
            0,
            53.5,
            53.5,
            0,
            0
           ]
          },
          {
           "hoverinfo": "text",
           "hovertext": [
            "nflId:41243<br>displayName:C.J. Mosley<br>Player Speed:0.604 MPH",
            "nflId:41270<br>displayName:Lamarcus Joyner<br>Player Speed:4.653 MPH",
            "nflId:42467<br>displayName:Kwon Alexander<br>Player Speed:0.089 MPH",
            "nflId:43508<br>displayName:Will Parks<br>Player Speed:0.47 MPH",
            "nflId:44815<br>displayName:Solomon Thomas<br>Player Speed:0.671 MPH",
            "nflId:46141<br>displayName:Nathan Shepherd<br>Player Speed:0.895 MPH",
            "nflId:46186<br>displayName:Jordan Whitehead<br>Player Speed:0.358 MPH",
            "nflId:46211<br>displayName:D.J. Reed<br>Player Speed:1.969 MPH",
            "nflId:54469<br>displayName:Ahmad Gardner<br>Player Speed:2.215 MPH",
            "nflId:54491<br>displayName:Jermaine Johnson<br>Player Speed:0.514 MPH",
            "nflId:54582<br>displayName:Micheal Clemons<br>Player Speed:0.604 MPH"
           ],
           "marker": {
            "color": "#000000",
            "line": {
             "color": "#125740",
             "width": 2
            },
            "size": 10
           },
           "mode": "markers",
           "name": "NYJ",
           "type": "scatter",
           "x": [
            45.03,
            52.6,
            45.47,
            43.14,
            40.97,
            41.08,
            51.27,
            43.54,
            47.14,
            41.22,
            41.21
           ],
           "y": [
            26.86,
            28.58,
            30.61,
            20.8,
            28.54,
            32.17,
            33.62,
            38.46,
            16.28,
            23.93,
            36.98
           ]
          },
          {
           "hoverinfo": "text",
           "hovertext": [
            "nflId:42718<br>displayName:Raheem Mostert<br>Player Speed:0.313 MPH",
            "nflId:43447<br>displayName:Brandon Shell<br>Player Speed:0.022 MPH",
            "nflId:43454<br>displayName:Tyreek Hill<br>Player Speed:0.246 MPH",
            "nflId:46119<br>displayName:Connor Williams<br>Player Speed:0.067 MPH",
            "nflId:46203<br>displayName:Chase Edmonds<br>Player Speed:0.94 MPH",
            "nflId:47820<br>displayName:Greg Little<br>Player Speed:0.045 MPH",
            "nflId:52447<br>displayName:Robert Hunt<br>Player Speed:0.022 MPH",
            "nflId:53435<br>displayName:Jaylen Waddle<br>Player Speed:0.224 MPH",
            "nflId:53471<br>displayName:Liam Eichenberg<br>Player Speed:0.045 MPH",
            "nflId:54712<br>displayName:Skylar Thompson<br>Player Speed:1.029 MPH",
            "nflId:54931<br>displayName:Tanner Conner<br>Player Speed:0.157 MPH"
           ],
           "marker": {
            "color": "#008E97",
            "line": {
             "color": "#FC4C02",
             "width": 2
            },
            "size": 10
           },
           "mode": "markers",
           "name": "MIA",
           "type": "scatter",
           "x": [
            34.98,
            38.98,
            39.52,
            39.86,
            34.69,
            38.97,
            39.29,
            38.44,
            39.17,
            34.81,
            38.77
           ],
           "y": [
            26.71,
            33.02,
            21.02,
            29.66,
            33.03,
            26.79,
            28.44,
            19.22,
            31.39,
            29.86,
            34.69
           ]
          },
          {
           "hoverinfo": "none",
           "marker": {
            "color": "#CBB67C",
            "line": {
             "color": "#663831",
             "width": 2
            },
            "size": 10
           },
           "mode": "markers",
           "name": "football",
           "type": "scatter",
           "x": [
            40.0800018310547
           ],
           "y": [
            29.7900009155273
           ]
          }
         ],
         "name": "57"
        },
        {
         "data": [
          {
           "hoverinfo": "none",
           "mode": "text",
           "showlegend": false,
           "text": [
            "10",
            "20",
            "30",
            "40",
            "50",
            "40",
            "30",
            "20",
            "10"
           ],
           "textfont": {
            "color": "#ffffff",
            "family": "Courier New, monospace",
            "size": 30
           },
           "type": "scatter",
           "x": [
            20,
            30,
            40,
            50,
            60,
            70,
            80,
            90,
            100
           ],
           "y": [
            5,
            5,
            5,
            5,
            5,
            5,
            5,
            5,
            5
           ]
          },
          {
           "hoverinfo": "none",
           "mode": "text",
           "showlegend": false,
           "text": [
            "10",
            "20",
            "30",
            "40",
            "50",
            "40",
            "30",
            "20",
            "10"
           ],
           "textfont": {
            "color": "#ffffff",
            "family": "Courier New, monospace",
            "size": 30
           },
           "type": "scatter",
           "x": [
            20,
            30,
            40,
            50,
            60,
            70,
            80,
            90,
            100
           ],
           "y": [
            48.5,
            48.5,
            48.5,
            48.5,
            48.5,
            48.5,
            48.5,
            48.5,
            48.5
           ]
          },
          {
           "hoverinfo": "none",
           "line": {
            "color": "blue",
            "dash": "dash"
           },
           "showlegend": false,
           "type": "scatter",
           "x": [
            40,
            40
           ],
           "y": [
            0,
            53.5
           ]
          },
          {
           "hoverinfo": "none",
           "line": {
            "color": "yellow",
            "dash": "dash"
           },
           "showlegend": false,
           "type": "scatter",
           "x": [
            45,
            45
           ],
           "y": [
            0,
            53.5
           ]
          },
          {
           "fill": "toself",
           "fillcolor": "#000000",
           "hoverinfo": "skip",
           "line": {
            "color": "white",
            "width": 3
           },
           "mode": "lines",
           "opacity": 1,
           "showlegend": false,
           "type": "scatter",
           "x": [
            0,
            0,
            10,
            10,
            0
           ],
           "y": [
            0,
            53.5,
            53.5,
            0,
            0
           ]
          },
          {
           "fill": "toself",
           "fillcolor": "#008E97",
           "hoverinfo": "skip",
           "line": {
            "color": "white",
            "width": 3
           },
           "mode": "lines",
           "opacity": 1,
           "showlegend": false,
           "type": "scatter",
           "x": [
            110,
            110,
            120,
            120,
            110
           ],
           "y": [
            0,
            53.5,
            53.5,
            0,
            0
           ]
          },
          {
           "hoverinfo": "text",
           "hovertext": [
            "nflId:41243<br>displayName:C.J. Mosley<br>Player Speed:0.783 MPH",
            "nflId:41270<br>displayName:Lamarcus Joyner<br>Player Speed:4.653 MPH",
            "nflId:42467<br>displayName:Kwon Alexander<br>Player Speed:0.089 MPH",
            "nflId:43508<br>displayName:Will Parks<br>Player Speed:0.47 MPH",
            "nflId:44815<br>displayName:Solomon Thomas<br>Player Speed:0.649 MPH",
            "nflId:46141<br>displayName:Nathan Shepherd<br>Player Speed:0.828 MPH",
            "nflId:46186<br>displayName:Jordan Whitehead<br>Player Speed:0.514 MPH",
            "nflId:46211<br>displayName:D.J. Reed<br>Player Speed:2.013 MPH",
            "nflId:54469<br>displayName:Ahmad Gardner<br>Player Speed:2.058 MPH",
            "nflId:54491<br>displayName:Jermaine Johnson<br>Player Speed:0.559 MPH",
            "nflId:54582<br>displayName:Micheal Clemons<br>Player Speed:0.403 MPH"
           ],
           "marker": {
            "color": "#000000",
            "line": {
             "color": "#125740",
             "width": 2
            },
            "size": 10
           },
           "mode": "markers",
           "name": "NYJ",
           "type": "scatter",
           "x": [
            45.01,
            52.7,
            45.48,
            43.16,
            40.94,
            41.05,
            51.26,
            43.54,
            47.23,
            41.2,
            41.2
           ],
           "y": [
            26.83,
            28.4,
            30.62,
            20.79,
            28.56,
            32.17,
            33.61,
            38.37,
            16.31,
            23.96,
            37
           ]
          },
          {
           "hoverinfo": "text",
           "hovertext": [
            "nflId:42718<br>displayName:Raheem Mostert<br>Player Speed:0.336 MPH",
            "nflId:43447<br>displayName:Brandon Shell<br>Player Speed:0.045 MPH",
            "nflId:43454<br>displayName:Tyreek Hill<br>Player Speed:0.179 MPH",
            "nflId:46119<br>displayName:Connor Williams<br>Player Speed:0.045 MPH",
            "nflId:46203<br>displayName:Chase Edmonds<br>Player Speed:0.828 MPH",
            "nflId:47820<br>displayName:Greg Little<br>Player Speed:0.112 MPH",
            "nflId:52447<br>displayName:Robert Hunt<br>Player Speed:0.022 MPH",
            "nflId:53435<br>displayName:Jaylen Waddle<br>Player Speed:0.112 MPH",
            "nflId:53471<br>displayName:Liam Eichenberg<br>Player Speed:0.0 MPH",
            "nflId:54712<br>displayName:Skylar Thompson<br>Player Speed:0.872 MPH",
            "nflId:54931<br>displayName:Tanner Conner<br>Player Speed:0.157 MPH"
           ],
           "marker": {
            "color": "#008E97",
            "line": {
             "color": "#FC4C02",
             "width": 2
            },
            "size": 10
           },
           "mode": "markers",
           "name": "MIA",
           "type": "scatter",
           "x": [
            35,
            38.97,
            39.51,
            39.86,
            34.71,
            38.97,
            39.28,
            38.45,
            39.15,
            34.84,
            38.78
           ],
           "y": [
            26.71,
            33.01,
            21.03,
            29.66,
            33.01,
            26.8,
            28.43,
            19.22,
            31.38,
            29.88,
            34.68
           ]
          },
          {
           "hoverinfo": "none",
           "marker": {
            "color": "#CBB67C",
            "line": {
             "color": "#663831",
             "width": 2
            },
            "size": 10
           },
           "mode": "markers",
           "name": "football",
           "type": "scatter",
           "x": [
            40.0800018310547
           ],
           "y": [
            29.7900009155273
           ]
          }
         ],
         "name": "58"
        },
        {
         "data": [
          {
           "hoverinfo": "none",
           "mode": "text",
           "showlegend": false,
           "text": [
            "10",
            "20",
            "30",
            "40",
            "50",
            "40",
            "30",
            "20",
            "10"
           ],
           "textfont": {
            "color": "#ffffff",
            "family": "Courier New, monospace",
            "size": 30
           },
           "type": "scatter",
           "x": [
            20,
            30,
            40,
            50,
            60,
            70,
            80,
            90,
            100
           ],
           "y": [
            5,
            5,
            5,
            5,
            5,
            5,
            5,
            5,
            5
           ]
          },
          {
           "hoverinfo": "none",
           "mode": "text",
           "showlegend": false,
           "text": [
            "10",
            "20",
            "30",
            "40",
            "50",
            "40",
            "30",
            "20",
            "10"
           ],
           "textfont": {
            "color": "#ffffff",
            "family": "Courier New, monospace",
            "size": 30
           },
           "type": "scatter",
           "x": [
            20,
            30,
            40,
            50,
            60,
            70,
            80,
            90,
            100
           ],
           "y": [
            48.5,
            48.5,
            48.5,
            48.5,
            48.5,
            48.5,
            48.5,
            48.5,
            48.5
           ]
          },
          {
           "hoverinfo": "none",
           "line": {
            "color": "blue",
            "dash": "dash"
           },
           "showlegend": false,
           "type": "scatter",
           "x": [
            40,
            40
           ],
           "y": [
            0,
            53.5
           ]
          },
          {
           "hoverinfo": "none",
           "line": {
            "color": "yellow",
            "dash": "dash"
           },
           "showlegend": false,
           "type": "scatter",
           "x": [
            45,
            45
           ],
           "y": [
            0,
            53.5
           ]
          },
          {
           "fill": "toself",
           "fillcolor": "#000000",
           "hoverinfo": "skip",
           "line": {
            "color": "white",
            "width": 3
           },
           "mode": "lines",
           "opacity": 1,
           "showlegend": false,
           "type": "scatter",
           "x": [
            0,
            0,
            10,
            10,
            0
           ],
           "y": [
            0,
            53.5,
            53.5,
            0,
            0
           ]
          },
          {
           "fill": "toself",
           "fillcolor": "#008E97",
           "hoverinfo": "skip",
           "line": {
            "color": "white",
            "width": 3
           },
           "mode": "lines",
           "opacity": 1,
           "showlegend": false,
           "type": "scatter",
           "x": [
            110,
            110,
            120,
            120,
            110
           ],
           "y": [
            0,
            53.5,
            53.5,
            0,
            0
           ]
          },
          {
           "hoverinfo": "text",
           "hovertext": [
            "nflId:41243<br>displayName:C.J. Mosley<br>Player Speed:0.917 MPH",
            "nflId:41270<br>displayName:Lamarcus Joyner<br>Player Speed:4.698 MPH",
            "nflId:42467<br>displayName:Kwon Alexander<br>Player Speed:0.089 MPH",
            "nflId:43508<br>displayName:Will Parks<br>Player Speed:0.38 MPH",
            "nflId:44815<br>displayName:Solomon Thomas<br>Player Speed:0.604 MPH",
            "nflId:46141<br>displayName:Nathan Shepherd<br>Player Speed:0.738 MPH",
            "nflId:46186<br>displayName:Jordan Whitehead<br>Player Speed:0.649 MPH",
            "nflId:46211<br>displayName:D.J. Reed<br>Player Speed:2.326 MPH",
            "nflId:54469<br>displayName:Ahmad Gardner<br>Player Speed:1.946 MPH",
            "nflId:54491<br>displayName:Jermaine Johnson<br>Player Speed:0.582 MPH",
            "nflId:54582<br>displayName:Micheal Clemons<br>Player Speed:0.268 MPH"
           ],
           "marker": {
            "color": "#000000",
            "line": {
             "color": "#125740",
             "width": 2
            },
            "size": 10
           },
           "mode": "markers",
           "name": "NYJ",
           "type": "scatter",
           "x": [
            45,
            52.81,
            45.48,
            43.17,
            40.91,
            41.02,
            51.23,
            43.54,
            47.32,
            41.17,
            41.19
           ],
           "y": [
            26.79,
            28.22,
            30.63,
            20.78,
            28.57,
            32.17,
            33.6,
            38.27,
            16.34,
            23.99,
            37.01
           ]
          },
          {
           "hoverinfo": "text",
           "hovertext": [
            "nflId:42718<br>displayName:Raheem Mostert<br>Player Speed:0.358 MPH",
            "nflId:43447<br>displayName:Brandon Shell<br>Player Speed:0.022 MPH",
            "nflId:43454<br>displayName:Tyreek Hill<br>Player Speed:0.291 MPH",
            "nflId:46119<br>displayName:Connor Williams<br>Player Speed:0.022 MPH",
            "nflId:46203<br>displayName:Chase Edmonds<br>Player Speed:0.626 MPH",
            "nflId:47820<br>displayName:Greg Little<br>Player Speed:0.179 MPH",
            "nflId:52447<br>displayName:Robert Hunt<br>Player Speed:0.022 MPH",
            "nflId:53435<br>displayName:Jaylen Waddle<br>Player Speed:0.313 MPH",
            "nflId:53471<br>displayName:Liam Eichenberg<br>Player Speed:0.022 MPH",
            "nflId:54712<br>displayName:Skylar Thompson<br>Player Speed:0.604 MPH",
            "nflId:54931<br>displayName:Tanner Conner<br>Player Speed:0.134 MPH"
           ],
           "marker": {
            "color": "#008E97",
            "line": {
             "color": "#FC4C02",
             "width": 2
            },
            "size": 10
           },
           "mode": "markers",
           "name": "MIA",
           "type": "scatter",
           "x": [
            35.01,
            38.97,
            39.51,
            39.86,
            34.73,
            38.96,
            39.29,
            38.44,
            39.15,
            34.87,
            38.79
           ],
           "y": [
            26.73,
            33.01,
            21.04,
            29.67,
            32.99,
            26.81,
            28.43,
            19.22,
            31.37,
            29.89,
            34.7
           ]
          },
          {
           "hoverinfo": "none",
           "marker": {
            "color": "#CBB67C",
            "line": {
             "color": "#663831",
             "width": 2
            },
            "size": 10
           },
           "mode": "markers",
           "name": "football",
           "type": "scatter",
           "x": [
            40.0800018310547
           ],
           "y": [
            29.7900009155273
           ]
          }
         ],
         "name": "59"
        },
        {
         "data": [
          {
           "hoverinfo": "none",
           "mode": "text",
           "showlegend": false,
           "text": [
            "10",
            "20",
            "30",
            "40",
            "50",
            "40",
            "30",
            "20",
            "10"
           ],
           "textfont": {
            "color": "#ffffff",
            "family": "Courier New, monospace",
            "size": 30
           },
           "type": "scatter",
           "x": [
            20,
            30,
            40,
            50,
            60,
            70,
            80,
            90,
            100
           ],
           "y": [
            5,
            5,
            5,
            5,
            5,
            5,
            5,
            5,
            5
           ]
          },
          {
           "hoverinfo": "none",
           "mode": "text",
           "showlegend": false,
           "text": [
            "10",
            "20",
            "30",
            "40",
            "50",
            "40",
            "30",
            "20",
            "10"
           ],
           "textfont": {
            "color": "#ffffff",
            "family": "Courier New, monospace",
            "size": 30
           },
           "type": "scatter",
           "x": [
            20,
            30,
            40,
            50,
            60,
            70,
            80,
            90,
            100
           ],
           "y": [
            48.5,
            48.5,
            48.5,
            48.5,
            48.5,
            48.5,
            48.5,
            48.5,
            48.5
           ]
          },
          {
           "hoverinfo": "none",
           "line": {
            "color": "blue",
            "dash": "dash"
           },
           "showlegend": false,
           "type": "scatter",
           "x": [
            40,
            40
           ],
           "y": [
            0,
            53.5
           ]
          },
          {
           "hoverinfo": "none",
           "line": {
            "color": "yellow",
            "dash": "dash"
           },
           "showlegend": false,
           "type": "scatter",
           "x": [
            45,
            45
           ],
           "y": [
            0,
            53.5
           ]
          },
          {
           "fill": "toself",
           "fillcolor": "#000000",
           "hoverinfo": "skip",
           "line": {
            "color": "white",
            "width": 3
           },
           "mode": "lines",
           "opacity": 1,
           "showlegend": false,
           "type": "scatter",
           "x": [
            0,
            0,
            10,
            10,
            0
           ],
           "y": [
            0,
            53.5,
            53.5,
            0,
            0
           ]
          },
          {
           "fill": "toself",
           "fillcolor": "#008E97",
           "hoverinfo": "skip",
           "line": {
            "color": "white",
            "width": 3
           },
           "mode": "lines",
           "opacity": 1,
           "showlegend": false,
           "type": "scatter",
           "x": [
            110,
            110,
            120,
            120,
            110
           ],
           "y": [
            0,
            53.5,
            53.5,
            0,
            0
           ]
          },
          {
           "hoverinfo": "text",
           "hovertext": [
            "nflId:41243<br>displayName:C.J. Mosley<br>Player Speed:1.118 MPH",
            "nflId:41270<br>displayName:Lamarcus Joyner<br>Player Speed:4.653 MPH",
            "nflId:42467<br>displayName:Kwon Alexander<br>Player Speed:0.112 MPH",
            "nflId:43508<br>displayName:Will Parks<br>Player Speed:0.38 MPH",
            "nflId:44815<br>displayName:Solomon Thomas<br>Player Speed:0.582 MPH",
            "nflId:46141<br>displayName:Nathan Shepherd<br>Player Speed:0.626 MPH",
            "nflId:46186<br>displayName:Jordan Whitehead<br>Player Speed:0.761 MPH",
            "nflId:46211<br>displayName:D.J. Reed<br>Player Speed:2.282 MPH",
            "nflId:54469<br>displayName:Ahmad Gardner<br>Player Speed:1.834 MPH",
            "nflId:54491<br>displayName:Jermaine Johnson<br>Player Speed:0.559 MPH",
            "nflId:54582<br>displayName:Micheal Clemons<br>Player Speed:0.313 MPH"
           ],
           "marker": {
            "color": "#000000",
            "line": {
             "color": "#125740",
             "width": 2
            },
            "size": 10
           },
           "mode": "markers",
           "name": "NYJ",
           "type": "scatter",
           "x": [
            44.99,
            52.92,
            45.49,
            43.19,
            40.9,
            40.99,
            51.2,
            43.54,
            47.39,
            41.15,
            41.18
           ],
           "y": [
            26.74,
            28.04,
            30.62,
            20.78,
            28.6,
            32.17,
            33.59,
            38.17,
            16.37,
            24.01,
            37.01
           ]
          },
          {
           "hoverinfo": "text",
           "hovertext": [
            "nflId:42718<br>displayName:Raheem Mostert<br>Player Speed:0.358 MPH",
            "nflId:43447<br>displayName:Brandon Shell<br>Player Speed:0.022 MPH",
            "nflId:43454<br>displayName:Tyreek Hill<br>Player Speed:0.157 MPH",
            "nflId:46119<br>displayName:Connor Williams<br>Player Speed:0.022 MPH",
            "nflId:46203<br>displayName:Chase Edmonds<br>Player Speed:0.447 MPH",
            "nflId:47820<br>displayName:Greg Little<br>Player Speed:0.201 MPH",
            "nflId:52447<br>displayName:Robert Hunt<br>Player Speed:0.0 MPH",
            "nflId:53435<br>displayName:Jaylen Waddle<br>Player Speed:0.447 MPH",
            "nflId:53471<br>displayName:Liam Eichenberg<br>Player Speed:0.022 MPH",
            "nflId:54712<br>displayName:Skylar Thompson<br>Player Speed:0.313 MPH",
            "nflId:54931<br>displayName:Tanner Conner<br>Player Speed:0.134 MPH"
           ],
           "marker": {
            "color": "#008E97",
            "line": {
             "color": "#FC4C02",
             "width": 2
            },
            "size": 10
           },
           "mode": "markers",
           "name": "MIA",
           "type": "scatter",
           "x": [
            35.04,
            38.96,
            39.51,
            39.86,
            34.75,
            38.96,
            39.28,
            38.42,
            39.15,
            34.88,
            38.79
           ],
           "y": [
            26.72,
            33.01,
            21.04,
            29.67,
            32.97,
            26.83,
            28.44,
            19.23,
            31.36,
            29.9,
            34.69
           ]
          },
          {
           "hoverinfo": "none",
           "marker": {
            "color": "#CBB67C",
            "line": {
             "color": "#663831",
             "width": 2
            },
            "size": 10
           },
           "mode": "markers",
           "name": "football",
           "type": "scatter",
           "x": [
            40.0800018310547
           ],
           "y": [
            29.7900009155273
           ]
          }
         ],
         "name": "60"
        },
        {
         "data": [
          {
           "hoverinfo": "none",
           "mode": "text",
           "showlegend": false,
           "text": [
            "10",
            "20",
            "30",
            "40",
            "50",
            "40",
            "30",
            "20",
            "10"
           ],
           "textfont": {
            "color": "#ffffff",
            "family": "Courier New, monospace",
            "size": 30
           },
           "type": "scatter",
           "x": [
            20,
            30,
            40,
            50,
            60,
            70,
            80,
            90,
            100
           ],
           "y": [
            5,
            5,
            5,
            5,
            5,
            5,
            5,
            5,
            5
           ]
          },
          {
           "hoverinfo": "none",
           "mode": "text",
           "showlegend": false,
           "text": [
            "10",
            "20",
            "30",
            "40",
            "50",
            "40",
            "30",
            "20",
            "10"
           ],
           "textfont": {
            "color": "#ffffff",
            "family": "Courier New, monospace",
            "size": 30
           },
           "type": "scatter",
           "x": [
            20,
            30,
            40,
            50,
            60,
            70,
            80,
            90,
            100
           ],
           "y": [
            48.5,
            48.5,
            48.5,
            48.5,
            48.5,
            48.5,
            48.5,
            48.5,
            48.5
           ]
          },
          {
           "hoverinfo": "none",
           "line": {
            "color": "blue",
            "dash": "dash"
           },
           "showlegend": false,
           "type": "scatter",
           "x": [
            40,
            40
           ],
           "y": [
            0,
            53.5
           ]
          },
          {
           "hoverinfo": "none",
           "line": {
            "color": "yellow",
            "dash": "dash"
           },
           "showlegend": false,
           "type": "scatter",
           "x": [
            45,
            45
           ],
           "y": [
            0,
            53.5
           ]
          },
          {
           "fill": "toself",
           "fillcolor": "#000000",
           "hoverinfo": "skip",
           "line": {
            "color": "white",
            "width": 3
           },
           "mode": "lines",
           "opacity": 1,
           "showlegend": false,
           "type": "scatter",
           "x": [
            0,
            0,
            10,
            10,
            0
           ],
           "y": [
            0,
            53.5,
            53.5,
            0,
            0
           ]
          },
          {
           "fill": "toself",
           "fillcolor": "#008E97",
           "hoverinfo": "skip",
           "line": {
            "color": "white",
            "width": 3
           },
           "mode": "lines",
           "opacity": 1,
           "showlegend": false,
           "type": "scatter",
           "x": [
            110,
            110,
            120,
            120,
            110
           ],
           "y": [
            0,
            53.5,
            53.5,
            0,
            0
           ]
          },
          {
           "hoverinfo": "text",
           "hovertext": [
            "nflId:41243<br>displayName:C.J. Mosley<br>Player Speed:1.253 MPH",
            "nflId:41270<br>displayName:Lamarcus Joyner<br>Player Speed:4.563 MPH",
            "nflId:42467<br>displayName:Kwon Alexander<br>Player Speed:0.157 MPH",
            "nflId:43508<br>displayName:Will Parks<br>Player Speed:0.403 MPH",
            "nflId:44815<br>displayName:Solomon Thomas<br>Player Speed:0.716 MPH",
            "nflId:46141<br>displayName:Nathan Shepherd<br>Player Speed:0.514 MPH",
            "nflId:46186<br>displayName:Jordan Whitehead<br>Player Speed:0.895 MPH",
            "nflId:46211<br>displayName:D.J. Reed<br>Player Speed:2.282 MPH",
            "nflId:54469<br>displayName:Ahmad Gardner<br>Player Speed:1.969 MPH",
            "nflId:54491<br>displayName:Jermaine Johnson<br>Player Speed:0.559 MPH",
            "nflId:54582<br>displayName:Micheal Clemons<br>Player Speed:0.671 MPH"
           ],
           "marker": {
            "color": "#000000",
            "line": {
             "color": "#125740",
             "width": 2
            },
            "size": 10
           },
           "mode": "markers",
           "name": "NYJ",
           "type": "scatter",
           "x": [
            44.98,
            53.02,
            45.49,
            43.21,
            40.87,
            40.97,
            51.17,
            43.55,
            47.48,
            41.12,
            41.15
           ],
           "y": [
            26.69,
            27.86,
            30.62,
            20.79,
            28.65,
            32.17,
            33.59,
            38.07,
            16.4,
            24.02,
            36.99
           ]
          },
          {
           "hoverinfo": "text",
           "hovertext": [
            "nflId:42718<br>displayName:Raheem Mostert<br>Player Speed:0.313 MPH",
            "nflId:43447<br>displayName:Brandon Shell<br>Player Speed:0.022 MPH",
            "nflId:43454<br>displayName:Tyreek Hill<br>Player Speed:0.112 MPH",
            "nflId:46119<br>displayName:Connor Williams<br>Player Speed:0.022 MPH",
            "nflId:46203<br>displayName:Chase Edmonds<br>Player Speed:0.403 MPH",
            "nflId:47820<br>displayName:Greg Little<br>Player Speed:0.179 MPH",
            "nflId:52447<br>displayName:Robert Hunt<br>Player Speed:0.022 MPH",
            "nflId:53435<br>displayName:Jaylen Waddle<br>Player Speed:0.47 MPH",
            "nflId:53471<br>displayName:Liam Eichenberg<br>Player Speed:0.022 MPH",
            "nflId:54712<br>displayName:Skylar Thompson<br>Player Speed:0.134 MPH",
            "nflId:54931<br>displayName:Tanner Conner<br>Player Speed:0.112 MPH"
           ],
           "marker": {
            "color": "#008E97",
            "line": {
             "color": "#FC4C02",
             "width": 2
            },
            "size": 10
           },
           "mode": "markers",
           "name": "MIA",
           "type": "scatter",
           "x": [
            35.04,
            38.96,
            39.51,
            39.86,
            34.77,
            38.95,
            39.27,
            38.41,
            39.14,
            34.89,
            38.8
           ],
           "y": [
            26.72,
            33.01,
            21.05,
            29.68,
            32.96,
            26.83,
            28.43,
            19.24,
            31.36,
            29.9,
            34.67
           ]
          },
          {
           "hoverinfo": "none",
           "marker": {
            "color": "#CBB67C",
            "line": {
             "color": "#663831",
             "width": 2
            },
            "size": 10
           },
           "mode": "markers",
           "name": "football",
           "type": "scatter",
           "x": [
            40.0800018310547
           ],
           "y": [
            29.7800006866455
           ]
          }
         ],
         "name": "61"
        },
        {
         "data": [
          {
           "hoverinfo": "none",
           "mode": "text",
           "showlegend": false,
           "text": [
            "10",
            "20",
            "30",
            "40",
            "50",
            "40",
            "30",
            "20",
            "10"
           ],
           "textfont": {
            "color": "#ffffff",
            "family": "Courier New, monospace",
            "size": 30
           },
           "type": "scatter",
           "x": [
            20,
            30,
            40,
            50,
            60,
            70,
            80,
            90,
            100
           ],
           "y": [
            5,
            5,
            5,
            5,
            5,
            5,
            5,
            5,
            5
           ]
          },
          {
           "hoverinfo": "none",
           "mode": "text",
           "showlegend": false,
           "text": [
            "10",
            "20",
            "30",
            "40",
            "50",
            "40",
            "30",
            "20",
            "10"
           ],
           "textfont": {
            "color": "#ffffff",
            "family": "Courier New, monospace",
            "size": 30
           },
           "type": "scatter",
           "x": [
            20,
            30,
            40,
            50,
            60,
            70,
            80,
            90,
            100
           ],
           "y": [
            48.5,
            48.5,
            48.5,
            48.5,
            48.5,
            48.5,
            48.5,
            48.5,
            48.5
           ]
          },
          {
           "hoverinfo": "none",
           "line": {
            "color": "blue",
            "dash": "dash"
           },
           "showlegend": false,
           "type": "scatter",
           "x": [
            40,
            40
           ],
           "y": [
            0,
            53.5
           ]
          },
          {
           "hoverinfo": "none",
           "line": {
            "color": "yellow",
            "dash": "dash"
           },
           "showlegend": false,
           "type": "scatter",
           "x": [
            45,
            45
           ],
           "y": [
            0,
            53.5
           ]
          },
          {
           "fill": "toself",
           "fillcolor": "#000000",
           "hoverinfo": "skip",
           "line": {
            "color": "white",
            "width": 3
           },
           "mode": "lines",
           "opacity": 1,
           "showlegend": false,
           "type": "scatter",
           "x": [
            0,
            0,
            10,
            10,
            0
           ],
           "y": [
            0,
            53.5,
            53.5,
            0,
            0
           ]
          },
          {
           "fill": "toself",
           "fillcolor": "#008E97",
           "hoverinfo": "skip",
           "line": {
            "color": "white",
            "width": 3
           },
           "mode": "lines",
           "opacity": 1,
           "showlegend": false,
           "type": "scatter",
           "x": [
            110,
            110,
            120,
            120,
            110
           ],
           "y": [
            0,
            53.5,
            53.5,
            0,
            0
           ]
          },
          {
           "hoverinfo": "text",
           "hovertext": [
            "nflId:41243<br>displayName:C.J. Mosley<br>Player Speed:1.454 MPH",
            "nflId:41270<br>displayName:Lamarcus Joyner<br>Player Speed:4.407 MPH",
            "nflId:42467<br>displayName:Kwon Alexander<br>Player Speed:0.134 MPH",
            "nflId:43508<br>displayName:Will Parks<br>Player Speed:0.492 MPH",
            "nflId:44815<br>displayName:Solomon Thomas<br>Player Speed:0.604 MPH",
            "nflId:46141<br>displayName:Nathan Shepherd<br>Player Speed:0.47 MPH",
            "nflId:46186<br>displayName:Jordan Whitehead<br>Player Speed:1.074 MPH",
            "nflId:46211<br>displayName:D.J. Reed<br>Player Speed:2.304 MPH",
            "nflId:54469<br>displayName:Ahmad Gardner<br>Player Speed:2.058 MPH",
            "nflId:54491<br>displayName:Jermaine Johnson<br>Player Speed:0.626 MPH",
            "nflId:54582<br>displayName:Micheal Clemons<br>Player Speed:0.984 MPH"
           ],
           "marker": {
            "color": "#000000",
            "line": {
             "color": "#125740",
             "width": 2
            },
            "size": 10
           },
           "mode": "markers",
           "name": "NYJ",
           "type": "scatter",
           "x": [
            44.97,
            53.12,
            45.5,
            43.22,
            40.86,
            40.94,
            51.12,
            43.56,
            47.56,
            41.05,
            41.12
           ],
           "y": [
            26.62,
            27.69,
            30.62,
            20.8,
            28.66,
            32.18,
            33.59,
            37.97,
            16.44,
            24.06,
            36.96
           ]
          },
          {
           "hoverinfo": "text",
           "hovertext": [
            "nflId:42718<br>displayName:Raheem Mostert<br>Player Speed:0.268 MPH",
            "nflId:43447<br>displayName:Brandon Shell<br>Player Speed:0.022 MPH",
            "nflId:43454<br>displayName:Tyreek Hill<br>Player Speed:0.045 MPH",
            "nflId:46119<br>displayName:Connor Williams<br>Player Speed:0.022 MPH",
            "nflId:46203<br>displayName:Chase Edmonds<br>Player Speed:0.336 MPH",
            "nflId:47820<br>displayName:Greg Little<br>Player Speed:0.112 MPH",
            "nflId:52447<br>displayName:Robert Hunt<br>Player Speed:0.022 MPH",
            "nflId:53435<br>displayName:Jaylen Waddle<br>Player Speed:0.447 MPH",
            "nflId:53471<br>displayName:Liam Eichenberg<br>Player Speed:0.022 MPH",
            "nflId:54712<br>displayName:Skylar Thompson<br>Player Speed:0.179 MPH",
            "nflId:54931<br>displayName:Tanner Conner<br>Player Speed:0.112 MPH"
           ],
           "marker": {
            "color": "#008E97",
            "line": {
             "color": "#FC4C02",
             "width": 2
            },
            "size": 10
           },
           "mode": "markers",
           "name": "MIA",
           "type": "scatter",
           "x": [
            35.05,
            38.96,
            39.51,
            39.86,
            34.78,
            38.95,
            39.26,
            38.39,
            39.13,
            34.89,
            38.82
           ],
           "y": [
            26.73,
            33.02,
            21.05,
            29.68,
            32.95,
            26.82,
            28.43,
            19.25,
            31.35,
            29.89,
            34.7
           ]
          },
          {
           "hoverinfo": "none",
           "marker": {
            "color": "#CBB67C",
            "line": {
             "color": "#663831",
             "width": 2
            },
            "size": 10
           },
           "mode": "markers",
           "name": "football",
           "type": "scatter",
           "x": [
            40.0800018310547
           ],
           "y": [
            29.7800006866455
           ]
          }
         ],
         "name": "62"
        },
        {
         "data": [
          {
           "hoverinfo": "none",
           "mode": "text",
           "showlegend": false,
           "text": [
            "10",
            "20",
            "30",
            "40",
            "50",
            "40",
            "30",
            "20",
            "10"
           ],
           "textfont": {
            "color": "#ffffff",
            "family": "Courier New, monospace",
            "size": 30
           },
           "type": "scatter",
           "x": [
            20,
            30,
            40,
            50,
            60,
            70,
            80,
            90,
            100
           ],
           "y": [
            5,
            5,
            5,
            5,
            5,
            5,
            5,
            5,
            5
           ]
          },
          {
           "hoverinfo": "none",
           "mode": "text",
           "showlegend": false,
           "text": [
            "10",
            "20",
            "30",
            "40",
            "50",
            "40",
            "30",
            "20",
            "10"
           ],
           "textfont": {
            "color": "#ffffff",
            "family": "Courier New, monospace",
            "size": 30
           },
           "type": "scatter",
           "x": [
            20,
            30,
            40,
            50,
            60,
            70,
            80,
            90,
            100
           ],
           "y": [
            48.5,
            48.5,
            48.5,
            48.5,
            48.5,
            48.5,
            48.5,
            48.5,
            48.5
           ]
          },
          {
           "hoverinfo": "none",
           "line": {
            "color": "blue",
            "dash": "dash"
           },
           "showlegend": false,
           "type": "scatter",
           "x": [
            40,
            40
           ],
           "y": [
            0,
            53.5
           ]
          },
          {
           "hoverinfo": "none",
           "line": {
            "color": "yellow",
            "dash": "dash"
           },
           "showlegend": false,
           "type": "scatter",
           "x": [
            45,
            45
           ],
           "y": [
            0,
            53.5
           ]
          },
          {
           "fill": "toself",
           "fillcolor": "#000000",
           "hoverinfo": "skip",
           "line": {
            "color": "white",
            "width": 3
           },
           "mode": "lines",
           "opacity": 1,
           "showlegend": false,
           "type": "scatter",
           "x": [
            0,
            0,
            10,
            10,
            0
           ],
           "y": [
            0,
            53.5,
            53.5,
            0,
            0
           ]
          },
          {
           "fill": "toself",
           "fillcolor": "#008E97",
           "hoverinfo": "skip",
           "line": {
            "color": "white",
            "width": 3
           },
           "mode": "lines",
           "opacity": 1,
           "showlegend": false,
           "type": "scatter",
           "x": [
            110,
            110,
            120,
            120,
            110
           ],
           "y": [
            0,
            53.5,
            53.5,
            0,
            0
           ]
          },
          {
           "hoverinfo": "text",
           "hovertext": [
            "nflId:41243<br>displayName:C.J. Mosley<br>Player Speed:1.633 MPH",
            "nflId:41270<br>displayName:Lamarcus Joyner<br>Player Speed:4.429 MPH",
            "nflId:42467<br>displayName:Kwon Alexander<br>Player Speed:0.224 MPH",
            "nflId:43508<br>displayName:Will Parks<br>Player Speed:0.671 MPH",
            "nflId:44815<br>displayName:Solomon Thomas<br>Player Speed:0.537 MPH",
            "nflId:46141<br>displayName:Nathan Shepherd<br>Player Speed:0.425 MPH",
            "nflId:46186<br>displayName:Jordan Whitehead<br>Player Speed:1.253 MPH",
            "nflId:46211<br>displayName:D.J. Reed<br>Player Speed:2.304 MPH",
            "nflId:54469<br>displayName:Ahmad Gardner<br>Player Speed:2.192 MPH",
            "nflId:54491<br>displayName:Jermaine Johnson<br>Player Speed:0.559 MPH",
            "nflId:54582<br>displayName:Micheal Clemons<br>Player Speed:1.275 MPH"
           ],
           "marker": {
            "color": "#000000",
            "line": {
             "color": "#125740",
             "width": 2
            },
            "size": 10
           },
           "mode": "markers",
           "name": "NYJ",
           "type": "scatter",
           "x": [
            44.97,
            53.23,
            45.5,
            43.24,
            40.85,
            40.92,
            51.07,
            43.57,
            47.65,
            41.04,
            41.08
           ],
           "y": [
            26.55,
            27.52,
            30.63,
            20.82,
            28.67,
            32.18,
            33.59,
            37.86,
            16.48,
            24.06,
            36.93
           ]
          },
          {
           "hoverinfo": "text",
           "hovertext": [
            "nflId:42718<br>displayName:Raheem Mostert<br>Player Speed:0.268 MPH",
            "nflId:43447<br>displayName:Brandon Shell<br>Player Speed:0.022 MPH",
            "nflId:43454<br>displayName:Tyreek Hill<br>Player Speed:0.134 MPH",
            "nflId:46119<br>displayName:Connor Williams<br>Player Speed:0.022 MPH",
            "nflId:46203<br>displayName:Chase Edmonds<br>Player Speed:0.268 MPH",
            "nflId:47820<br>displayName:Greg Little<br>Player Speed:0.112 MPH",
            "nflId:52447<br>displayName:Robert Hunt<br>Player Speed:0.022 MPH",
            "nflId:53435<br>displayName:Jaylen Waddle<br>Player Speed:0.425 MPH",
            "nflId:53471<br>displayName:Liam Eichenberg<br>Player Speed:0.022 MPH",
            "nflId:54712<br>displayName:Skylar Thompson<br>Player Speed:0.268 MPH",
            "nflId:54931<br>displayName:Tanner Conner<br>Player Speed:0.067 MPH"
           ],
           "marker": {
            "color": "#008E97",
            "line": {
             "color": "#FC4C02",
             "width": 2
            },
            "size": 10
           },
           "mode": "markers",
           "name": "MIA",
           "type": "scatter",
           "x": [
            35.07,
            38.96,
            39.52,
            39.87,
            34.8,
            38.96,
            39.26,
            38.37,
            39.14,
            34.89,
            38.78
           ],
           "y": [
            26.73,
            33.01,
            21.05,
            29.68,
            32.95,
            26.83,
            28.44,
            19.26,
            31.35,
            29.89,
            34.72
           ]
          },
          {
           "hoverinfo": "none",
           "marker": {
            "color": "#CBB67C",
            "line": {
             "color": "#663831",
             "width": 2
            },
            "size": 10
           },
           "mode": "markers",
           "name": "football",
           "type": "scatter",
           "x": [
            40.0800018310547
           ],
           "y": [
            29.7800006866455
           ]
          }
         ],
         "name": "63"
        },
        {
         "data": [
          {
           "hoverinfo": "none",
           "mode": "text",
           "showlegend": false,
           "text": [
            "10",
            "20",
            "30",
            "40",
            "50",
            "40",
            "30",
            "20",
            "10"
           ],
           "textfont": {
            "color": "#ffffff",
            "family": "Courier New, monospace",
            "size": 30
           },
           "type": "scatter",
           "x": [
            20,
            30,
            40,
            50,
            60,
            70,
            80,
            90,
            100
           ],
           "y": [
            5,
            5,
            5,
            5,
            5,
            5,
            5,
            5,
            5
           ]
          },
          {
           "hoverinfo": "none",
           "mode": "text",
           "showlegend": false,
           "text": [
            "10",
            "20",
            "30",
            "40",
            "50",
            "40",
            "30",
            "20",
            "10"
           ],
           "textfont": {
            "color": "#ffffff",
            "family": "Courier New, monospace",
            "size": 30
           },
           "type": "scatter",
           "x": [
            20,
            30,
            40,
            50,
            60,
            70,
            80,
            90,
            100
           ],
           "y": [
            48.5,
            48.5,
            48.5,
            48.5,
            48.5,
            48.5,
            48.5,
            48.5,
            48.5
           ]
          },
          {
           "hoverinfo": "none",
           "line": {
            "color": "blue",
            "dash": "dash"
           },
           "showlegend": false,
           "type": "scatter",
           "x": [
            40,
            40
           ],
           "y": [
            0,
            53.5
           ]
          },
          {
           "hoverinfo": "none",
           "line": {
            "color": "yellow",
            "dash": "dash"
           },
           "showlegend": false,
           "type": "scatter",
           "x": [
            45,
            45
           ],
           "y": [
            0,
            53.5
           ]
          },
          {
           "fill": "toself",
           "fillcolor": "#000000",
           "hoverinfo": "skip",
           "line": {
            "color": "white",
            "width": 3
           },
           "mode": "lines",
           "opacity": 1,
           "showlegend": false,
           "type": "scatter",
           "x": [
            0,
            0,
            10,
            10,
            0
           ],
           "y": [
            0,
            53.5,
            53.5,
            0,
            0
           ]
          },
          {
           "fill": "toself",
           "fillcolor": "#008E97",
           "hoverinfo": "skip",
           "line": {
            "color": "white",
            "width": 3
           },
           "mode": "lines",
           "opacity": 1,
           "showlegend": false,
           "type": "scatter",
           "x": [
            110,
            110,
            120,
            120,
            110
           ],
           "y": [
            0,
            53.5,
            53.5,
            0,
            0
           ]
          },
          {
           "hoverinfo": "text",
           "hovertext": [
            "nflId:41243<br>displayName:C.J. Mosley<br>Player Speed:1.767 MPH",
            "nflId:41270<br>displayName:Lamarcus Joyner<br>Player Speed:4.496 MPH",
            "nflId:42467<br>displayName:Kwon Alexander<br>Player Speed:0.38 MPH",
            "nflId:43508<br>displayName:Will Parks<br>Player Speed:0.805 MPH",
            "nflId:44815<br>displayName:Solomon Thomas<br>Player Speed:0.492 MPH",
            "nflId:46141<br>displayName:Nathan Shepherd<br>Player Speed:0.358 MPH",
            "nflId:46186<br>displayName:Jordan Whitehead<br>Player Speed:1.387 MPH",
            "nflId:46211<br>displayName:D.J. Reed<br>Player Speed:2.259 MPH",
            "nflId:54469<br>displayName:Ahmad Gardner<br>Player Speed:2.08 MPH",
            "nflId:54491<br>displayName:Jermaine Johnson<br>Player Speed:0.47 MPH",
            "nflId:54582<br>displayName:Micheal Clemons<br>Player Speed:1.543 MPH"
           ],
           "marker": {
            "color": "#000000",
            "line": {
             "color": "#125740",
             "width": 2
            },
            "size": 10
           },
           "mode": "markers",
           "name": "NYJ",
           "type": "scatter",
           "x": [
            44.97,
            53.33,
            45.52,
            43.25,
            40.83,
            40.9,
            51.01,
            43.59,
            47.74,
            41.03,
            41.03
           ],
           "y": [
            26.47,
            27.35,
            30.64,
            20.85,
            28.68,
            32.18,
            33.6,
            37.76,
            16.51,
            24.03,
            36.89
           ]
          },
          {
           "hoverinfo": "text",
           "hovertext": [
            "nflId:42718<br>displayName:Raheem Mostert<br>Player Speed:0.268 MPH",
            "nflId:43447<br>displayName:Brandon Shell<br>Player Speed:0.0 MPH",
            "nflId:43454<br>displayName:Tyreek Hill<br>Player Speed:0.179 MPH",
            "nflId:46119<br>displayName:Connor Williams<br>Player Speed:0.0 MPH",
            "nflId:46203<br>displayName:Chase Edmonds<br>Player Speed:0.268 MPH",
            "nflId:47820<br>displayName:Greg Little<br>Player Speed:0.089 MPH",
            "nflId:52447<br>displayName:Robert Hunt<br>Player Speed:0.022 MPH",
            "nflId:53435<br>displayName:Jaylen Waddle<br>Player Speed:0.291 MPH",
            "nflId:53471<br>displayName:Liam Eichenberg<br>Player Speed:0.022 MPH",
            "nflId:54712<br>displayName:Skylar Thompson<br>Player Speed:0.313 MPH",
            "nflId:54931<br>displayName:Tanner Conner<br>Player Speed:0.045 MPH"
           ],
           "marker": {
            "color": "#008E97",
            "line": {
             "color": "#FC4C02",
             "width": 2
            },
            "size": 10
           },
           "mode": "markers",
           "name": "MIA",
           "type": "scatter",
           "x": [
            35.08,
            38.96,
            39.52,
            39.87,
            34.81,
            38.97,
            39.26,
            38.37,
            39.13,
            34.89,
            38.76
           ],
           "y": [
            26.74,
            33.02,
            21.04,
            29.68,
            32.96,
            26.84,
            28.43,
            19.26,
            31.35,
            29.88,
            34.73
           ]
          },
          {
           "hoverinfo": "none",
           "marker": {
            "color": "#CBB67C",
            "line": {
             "color": "#663831",
             "width": 2
            },
            "size": 10
           },
           "mode": "markers",
           "name": "football",
           "type": "scatter",
           "x": [
            40.0900001525879
           ],
           "y": [
            29.7800006866455
           ]
          }
         ],
         "name": "64"
        },
        {
         "data": [
          {
           "hoverinfo": "none",
           "mode": "text",
           "showlegend": false,
           "text": [
            "10",
            "20",
            "30",
            "40",
            "50",
            "40",
            "30",
            "20",
            "10"
           ],
           "textfont": {
            "color": "#ffffff",
            "family": "Courier New, monospace",
            "size": 30
           },
           "type": "scatter",
           "x": [
            20,
            30,
            40,
            50,
            60,
            70,
            80,
            90,
            100
           ],
           "y": [
            5,
            5,
            5,
            5,
            5,
            5,
            5,
            5,
            5
           ]
          },
          {
           "hoverinfo": "none",
           "mode": "text",
           "showlegend": false,
           "text": [
            "10",
            "20",
            "30",
            "40",
            "50",
            "40",
            "30",
            "20",
            "10"
           ],
           "textfont": {
            "color": "#ffffff",
            "family": "Courier New, monospace",
            "size": 30
           },
           "type": "scatter",
           "x": [
            20,
            30,
            40,
            50,
            60,
            70,
            80,
            90,
            100
           ],
           "y": [
            48.5,
            48.5,
            48.5,
            48.5,
            48.5,
            48.5,
            48.5,
            48.5,
            48.5
           ]
          },
          {
           "hoverinfo": "none",
           "line": {
            "color": "blue",
            "dash": "dash"
           },
           "showlegend": false,
           "type": "scatter",
           "x": [
            40,
            40
           ],
           "y": [
            0,
            53.5
           ]
          },
          {
           "hoverinfo": "none",
           "line": {
            "color": "yellow",
            "dash": "dash"
           },
           "showlegend": false,
           "type": "scatter",
           "x": [
            45,
            45
           ],
           "y": [
            0,
            53.5
           ]
          },
          {
           "fill": "toself",
           "fillcolor": "#000000",
           "hoverinfo": "skip",
           "line": {
            "color": "white",
            "width": 3
           },
           "mode": "lines",
           "opacity": 1,
           "showlegend": false,
           "type": "scatter",
           "x": [
            0,
            0,
            10,
            10,
            0
           ],
           "y": [
            0,
            53.5,
            53.5,
            0,
            0
           ]
          },
          {
           "fill": "toself",
           "fillcolor": "#008E97",
           "hoverinfo": "skip",
           "line": {
            "color": "white",
            "width": 3
           },
           "mode": "lines",
           "opacity": 1,
           "showlegend": false,
           "type": "scatter",
           "x": [
            110,
            110,
            120,
            120,
            110
           ],
           "y": [
            0,
            53.5,
            53.5,
            0,
            0
           ]
          },
          {
           "hoverinfo": "text",
           "hovertext": [
            "nflId:41243<br>displayName:C.J. Mosley<br>Player Speed:1.499 MPH",
            "nflId:41270<br>displayName:Lamarcus Joyner<br>Player Speed:4.429 MPH",
            "nflId:42467<br>displayName:Kwon Alexander<br>Player Speed:0.514 MPH",
            "nflId:43508<br>displayName:Will Parks<br>Player Speed:0.85 MPH",
            "nflId:44815<br>displayName:Solomon Thomas<br>Player Speed:0.447 MPH",
            "nflId:46141<br>displayName:Nathan Shepherd<br>Player Speed:0.425 MPH",
            "nflId:46186<br>displayName:Jordan Whitehead<br>Player Speed:1.499 MPH",
            "nflId:46211<br>displayName:D.J. Reed<br>Player Speed:2.192 MPH",
            "nflId:54469<br>displayName:Ahmad Gardner<br>Player Speed:2.215 MPH",
            "nflId:54491<br>displayName:Jermaine Johnson<br>Player Speed:0.403 MPH",
            "nflId:54582<br>displayName:Micheal Clemons<br>Player Speed:1.745 MPH"
           ],
           "marker": {
            "color": "#000000",
            "line": {
             "color": "#125740",
             "width": 2
            },
            "size": 10
           },
           "mode": "markers",
           "name": "NYJ",
           "type": "scatter",
           "x": [
            44.97,
            53.44,
            45.53,
            43.26,
            40.8,
            40.88,
            50.95,
            43.61,
            47.83,
            41.01,
            40.97
           ],
           "y": [
            26.41,
            27.18,
            30.66,
            20.89,
            28.69,
            32.19,
            33.62,
            37.67,
            16.54,
            24.01,
            36.84
           ]
          },
          {
           "hoverinfo": "text",
           "hovertext": [
            "nflId:42718<br>displayName:Raheem Mostert<br>Player Speed:0.224 MPH",
            "nflId:43447<br>displayName:Brandon Shell<br>Player Speed:0.022 MPH",
            "nflId:43454<br>displayName:Tyreek Hill<br>Player Speed:0.157 MPH",
            "nflId:46119<br>displayName:Connor Williams<br>Player Speed:0.022 MPH",
            "nflId:46203<br>displayName:Chase Edmonds<br>Player Speed:0.179 MPH",
            "nflId:47820<br>displayName:Greg Little<br>Player Speed:0.022 MPH",
            "nflId:52447<br>displayName:Robert Hunt<br>Player Speed:0.022 MPH",
            "nflId:53435<br>displayName:Jaylen Waddle<br>Player Speed:0.201 MPH",
            "nflId:53471<br>displayName:Liam Eichenberg<br>Player Speed:0.022 MPH",
            "nflId:54712<br>displayName:Skylar Thompson<br>Player Speed:0.38 MPH",
            "nflId:54931<br>displayName:Tanner Conner<br>Player Speed:0.045 MPH"
           ],
           "marker": {
            "color": "#008E97",
            "line": {
             "color": "#FC4C02",
             "width": 2
            },
            "size": 10
           },
           "mode": "markers",
           "name": "MIA",
           "type": "scatter",
           "x": [
            35.09,
            38.96,
            39.53,
            39.88,
            34.81,
            38.98,
            39.26,
            38.36,
            39.13,
            34.89,
            38.78
           ],
           "y": [
            26.74,
            33.01,
            21.04,
            29.67,
            32.95,
            26.81,
            28.43,
            19.27,
            31.34,
            29.87,
            34.73
           ]
          },
          {
           "hoverinfo": "none",
           "marker": {
            "color": "#CBB67C",
            "line": {
             "color": "#663831",
             "width": 2
            },
            "size": 10
           },
           "mode": "markers",
           "name": "football",
           "type": "scatter",
           "x": [
            40.0900001525879
           ],
           "y": [
            29.7800006866455
           ]
          }
         ],
         "name": "65"
        },
        {
         "data": [
          {
           "hoverinfo": "none",
           "mode": "text",
           "showlegend": false,
           "text": [
            "10",
            "20",
            "30",
            "40",
            "50",
            "40",
            "30",
            "20",
            "10"
           ],
           "textfont": {
            "color": "#ffffff",
            "family": "Courier New, monospace",
            "size": 30
           },
           "type": "scatter",
           "x": [
            20,
            30,
            40,
            50,
            60,
            70,
            80,
            90,
            100
           ],
           "y": [
            5,
            5,
            5,
            5,
            5,
            5,
            5,
            5,
            5
           ]
          },
          {
           "hoverinfo": "none",
           "mode": "text",
           "showlegend": false,
           "text": [
            "10",
            "20",
            "30",
            "40",
            "50",
            "40",
            "30",
            "20",
            "10"
           ],
           "textfont": {
            "color": "#ffffff",
            "family": "Courier New, monospace",
            "size": 30
           },
           "type": "scatter",
           "x": [
            20,
            30,
            40,
            50,
            60,
            70,
            80,
            90,
            100
           ],
           "y": [
            48.5,
            48.5,
            48.5,
            48.5,
            48.5,
            48.5,
            48.5,
            48.5,
            48.5
           ]
          },
          {
           "hoverinfo": "none",
           "line": {
            "color": "blue",
            "dash": "dash"
           },
           "showlegend": false,
           "type": "scatter",
           "x": [
            40,
            40
           ],
           "y": [
            0,
            53.5
           ]
          },
          {
           "hoverinfo": "none",
           "line": {
            "color": "yellow",
            "dash": "dash"
           },
           "showlegend": false,
           "type": "scatter",
           "x": [
            45,
            45
           ],
           "y": [
            0,
            53.5
           ]
          },
          {
           "fill": "toself",
           "fillcolor": "#000000",
           "hoverinfo": "skip",
           "line": {
            "color": "white",
            "width": 3
           },
           "mode": "lines",
           "opacity": 1,
           "showlegend": false,
           "type": "scatter",
           "x": [
            0,
            0,
            10,
            10,
            0
           ],
           "y": [
            0,
            53.5,
            53.5,
            0,
            0
           ]
          },
          {
           "fill": "toself",
           "fillcolor": "#008E97",
           "hoverinfo": "skip",
           "line": {
            "color": "white",
            "width": 3
           },
           "mode": "lines",
           "opacity": 1,
           "showlegend": false,
           "type": "scatter",
           "x": [
            110,
            110,
            120,
            120,
            110
           ],
           "y": [
            0,
            53.5,
            53.5,
            0,
            0
           ]
          },
          {
           "hoverinfo": "text",
           "hovertext": [
            "nflId:41243<br>displayName:C.J. Mosley<br>Player Speed:1.387 MPH",
            "nflId:41270<br>displayName:Lamarcus Joyner<br>Player Speed:4.407 MPH",
            "nflId:42467<br>displayName:Kwon Alexander<br>Player Speed:0.604 MPH",
            "nflId:43508<br>displayName:Will Parks<br>Player Speed:0.895 MPH",
            "nflId:44815<br>displayName:Solomon Thomas<br>Player Speed:0.425 MPH",
            "nflId:46141<br>displayName:Nathan Shepherd<br>Player Speed:0.38 MPH",
            "nflId:46186<br>displayName:Jordan Whitehead<br>Player Speed:1.588 MPH",
            "nflId:46211<br>displayName:D.J. Reed<br>Player Speed:2.103 MPH",
            "nflId:54469<br>displayName:Ahmad Gardner<br>Player Speed:2.17 MPH",
            "nflId:54491<br>displayName:Jermaine Johnson<br>Player Speed:0.447 MPH",
            "nflId:54582<br>displayName:Micheal Clemons<br>Player Speed:1.857 MPH"
           ],
           "marker": {
            "color": "#000000",
            "line": {
             "color": "#125740",
             "width": 2
            },
            "size": 10
           },
           "mode": "markers",
           "name": "NYJ",
           "type": "scatter",
           "x": [
            44.97,
            53.55,
            45.55,
            43.28,
            40.78,
            40.87,
            50.88,
            43.62,
            47.92,
            40.97,
            40.91
           ],
           "y": [
            26.35,
            27.01,
            30.68,
            20.93,
            28.7,
            32.2,
            33.64,
            37.57,
            16.58,
            24.02,
            36.79
           ]
          },
          {
           "hoverinfo": "text",
           "hovertext": [
            "nflId:42718<br>displayName:Raheem Mostert<br>Player Speed:0.179 MPH",
            "nflId:43447<br>displayName:Brandon Shell<br>Player Speed:0.0 MPH",
            "nflId:43454<br>displayName:Tyreek Hill<br>Player Speed:0.179 MPH",
            "nflId:46119<br>displayName:Connor Williams<br>Player Speed:0.0 MPH",
            "nflId:46203<br>displayName:Chase Edmonds<br>Player Speed:0.157 MPH",
            "nflId:47820<br>displayName:Greg Little<br>Player Speed:0.022 MPH",
            "nflId:52447<br>displayName:Robert Hunt<br>Player Speed:0.0 MPH",
            "nflId:53435<br>displayName:Jaylen Waddle<br>Player Speed:0.134 MPH",
            "nflId:53471<br>displayName:Liam Eichenberg<br>Player Speed:0.022 MPH",
            "nflId:54712<br>displayName:Skylar Thompson<br>Player Speed:0.403 MPH",
            "nflId:54931<br>displayName:Tanner Conner<br>Player Speed:0.045 MPH"
           ],
           "marker": {
            "color": "#008E97",
            "line": {
             "color": "#FC4C02",
             "width": 2
            },
            "size": 10
           },
           "mode": "markers",
           "name": "MIA",
           "type": "scatter",
           "x": [
            35.08,
            38.96,
            39.54,
            39.87,
            34.82,
            38.99,
            39.26,
            38.36,
            39.13,
            34.88,
            38.79
           ],
           "y": [
            26.74,
            33.02,
            21.03,
            29.68,
            32.96,
            26.81,
            28.44,
            19.27,
            31.33,
            29.85,
            34.73
           ]
          },
          {
           "hoverinfo": "none",
           "marker": {
            "color": "#CBB67C",
            "line": {
             "color": "#663831",
             "width": 2
            },
            "size": 10
           },
           "mode": "markers",
           "name": "football",
           "type": "scatter",
           "x": [
            40.0900001525879
           ],
           "y": [
            29.7800006866455
           ]
          }
         ],
         "name": "66"
        },
        {
         "data": [
          {
           "hoverinfo": "none",
           "mode": "text",
           "showlegend": false,
           "text": [
            "10",
            "20",
            "30",
            "40",
            "50",
            "40",
            "30",
            "20",
            "10"
           ],
           "textfont": {
            "color": "#ffffff",
            "family": "Courier New, monospace",
            "size": 30
           },
           "type": "scatter",
           "x": [
            20,
            30,
            40,
            50,
            60,
            70,
            80,
            90,
            100
           ],
           "y": [
            5,
            5,
            5,
            5,
            5,
            5,
            5,
            5,
            5
           ]
          },
          {
           "hoverinfo": "none",
           "mode": "text",
           "showlegend": false,
           "text": [
            "10",
            "20",
            "30",
            "40",
            "50",
            "40",
            "30",
            "20",
            "10"
           ],
           "textfont": {
            "color": "#ffffff",
            "family": "Courier New, monospace",
            "size": 30
           },
           "type": "scatter",
           "x": [
            20,
            30,
            40,
            50,
            60,
            70,
            80,
            90,
            100
           ],
           "y": [
            48.5,
            48.5,
            48.5,
            48.5,
            48.5,
            48.5,
            48.5,
            48.5,
            48.5
           ]
          },
          {
           "hoverinfo": "none",
           "line": {
            "color": "blue",
            "dash": "dash"
           },
           "showlegend": false,
           "type": "scatter",
           "x": [
            40,
            40
           ],
           "y": [
            0,
            53.5
           ]
          },
          {
           "hoverinfo": "none",
           "line": {
            "color": "yellow",
            "dash": "dash"
           },
           "showlegend": false,
           "type": "scatter",
           "x": [
            45,
            45
           ],
           "y": [
            0,
            53.5
           ]
          },
          {
           "fill": "toself",
           "fillcolor": "#000000",
           "hoverinfo": "skip",
           "line": {
            "color": "white",
            "width": 3
           },
           "mode": "lines",
           "opacity": 1,
           "showlegend": false,
           "type": "scatter",
           "x": [
            0,
            0,
            10,
            10,
            0
           ],
           "y": [
            0,
            53.5,
            53.5,
            0,
            0
           ]
          },
          {
           "fill": "toself",
           "fillcolor": "#008E97",
           "hoverinfo": "skip",
           "line": {
            "color": "white",
            "width": 3
           },
           "mode": "lines",
           "opacity": 1,
           "showlegend": false,
           "type": "scatter",
           "x": [
            110,
            110,
            120,
            120,
            110
           ],
           "y": [
            0,
            53.5,
            53.5,
            0,
            0
           ]
          },
          {
           "hoverinfo": "text",
           "hovertext": [
            "nflId:41243<br>displayName:C.J. Mosley<br>Player Speed:0.962 MPH",
            "nflId:41270<br>displayName:Lamarcus Joyner<br>Player Speed:4.384 MPH",
            "nflId:42467<br>displayName:Kwon Alexander<br>Player Speed:0.604 MPH",
            "nflId:43508<br>displayName:Will Parks<br>Player Speed:0.917 MPH",
            "nflId:44815<br>displayName:Solomon Thomas<br>Player Speed:0.38 MPH",
            "nflId:46141<br>displayName:Nathan Shepherd<br>Player Speed:0.336 MPH",
            "nflId:46186<br>displayName:Jordan Whitehead<br>Player Speed:1.678 MPH",
            "nflId:46211<br>displayName:D.J. Reed<br>Player Speed:2.013 MPH",
            "nflId:54469<br>displayName:Ahmad Gardner<br>Player Speed:2.058 MPH",
            "nflId:54491<br>displayName:Jermaine Johnson<br>Player Speed:0.559 MPH",
            "nflId:54582<br>displayName:Micheal Clemons<br>Player Speed:1.834 MPH"
           ],
           "marker": {
            "color": "#000000",
            "line": {
             "color": "#125740",
             "width": 2
            },
            "size": 10
           },
           "mode": "markers",
           "name": "NYJ",
           "type": "scatter",
           "x": [
            44.97,
            53.65,
            45.57,
            43.3,
            40.76,
            40.86,
            50.81,
            43.62,
            48,
            40.96,
            40.84
           ],
           "y": [
            26.3,
            26.85,
            30.7,
            20.96,
            28.71,
            32.2,
            33.66,
            37.48,
            16.62,
            24.01,
            36.74
           ]
          },
          {
           "hoverinfo": "text",
           "hovertext": [
            "nflId:42718<br>displayName:Raheem Mostert<br>Player Speed:0.157 MPH",
            "nflId:43447<br>displayName:Brandon Shell<br>Player Speed:0.0 MPH",
            "nflId:43454<br>displayName:Tyreek Hill<br>Player Speed:0.201 MPH",
            "nflId:46119<br>displayName:Connor Williams<br>Player Speed:0.0 MPH",
            "nflId:46203<br>displayName:Chase Edmonds<br>Player Speed:0.089 MPH",
            "nflId:47820<br>displayName:Greg Little<br>Player Speed:0.022 MPH",
            "nflId:52447<br>displayName:Robert Hunt<br>Player Speed:0.022 MPH",
            "nflId:53435<br>displayName:Jaylen Waddle<br>Player Speed:0.067 MPH",
            "nflId:53471<br>displayName:Liam Eichenberg<br>Player Speed:0.022 MPH",
            "nflId:54712<br>displayName:Skylar Thompson<br>Player Speed:0.38 MPH",
            "nflId:54931<br>displayName:Tanner Conner<br>Player Speed:0.045 MPH"
           ],
           "marker": {
            "color": "#008E97",
            "line": {
             "color": "#FC4C02",
             "width": 2
            },
            "size": 10
           },
           "mode": "markers",
           "name": "MIA",
           "type": "scatter",
           "x": [
            35.09,
            38.96,
            39.54,
            39.87,
            34.83,
            38.99,
            39.25,
            38.36,
            39.14,
            34.86,
            38.79
           ],
           "y": [
            26.73,
            33.02,
            21.03,
            29.68,
            32.96,
            26.82,
            28.43,
            19.26,
            31.32,
            29.85,
            34.73
           ]
          },
          {
           "hoverinfo": "none",
           "marker": {
            "color": "#CBB67C",
            "line": {
             "color": "#663831",
             "width": 2
            },
            "size": 10
           },
           "mode": "markers",
           "name": "football",
           "type": "scatter",
           "x": [
            40.0900001525879
           ],
           "y": [
            29.7800006866455
           ]
          }
         ],
         "name": "67"
        },
        {
         "data": [
          {
           "hoverinfo": "none",
           "mode": "text",
           "showlegend": false,
           "text": [
            "10",
            "20",
            "30",
            "40",
            "50",
            "40",
            "30",
            "20",
            "10"
           ],
           "textfont": {
            "color": "#ffffff",
            "family": "Courier New, monospace",
            "size": 30
           },
           "type": "scatter",
           "x": [
            20,
            30,
            40,
            50,
            60,
            70,
            80,
            90,
            100
           ],
           "y": [
            5,
            5,
            5,
            5,
            5,
            5,
            5,
            5,
            5
           ]
          },
          {
           "hoverinfo": "none",
           "mode": "text",
           "showlegend": false,
           "text": [
            "10",
            "20",
            "30",
            "40",
            "50",
            "40",
            "30",
            "20",
            "10"
           ],
           "textfont": {
            "color": "#ffffff",
            "family": "Courier New, monospace",
            "size": 30
           },
           "type": "scatter",
           "x": [
            20,
            30,
            40,
            50,
            60,
            70,
            80,
            90,
            100
           ],
           "y": [
            48.5,
            48.5,
            48.5,
            48.5,
            48.5,
            48.5,
            48.5,
            48.5,
            48.5
           ]
          },
          {
           "hoverinfo": "none",
           "line": {
            "color": "blue",
            "dash": "dash"
           },
           "showlegend": false,
           "type": "scatter",
           "x": [
            40,
            40
           ],
           "y": [
            0,
            53.5
           ]
          },
          {
           "hoverinfo": "none",
           "line": {
            "color": "yellow",
            "dash": "dash"
           },
           "showlegend": false,
           "type": "scatter",
           "x": [
            45,
            45
           ],
           "y": [
            0,
            53.5
           ]
          },
          {
           "fill": "toself",
           "fillcolor": "#000000",
           "hoverinfo": "skip",
           "line": {
            "color": "white",
            "width": 3
           },
           "mode": "lines",
           "opacity": 1,
           "showlegend": false,
           "type": "scatter",
           "x": [
            0,
            0,
            10,
            10,
            0
           ],
           "y": [
            0,
            53.5,
            53.5,
            0,
            0
           ]
          },
          {
           "fill": "toself",
           "fillcolor": "#008E97",
           "hoverinfo": "skip",
           "line": {
            "color": "white",
            "width": 3
           },
           "mode": "lines",
           "opacity": 1,
           "showlegend": false,
           "type": "scatter",
           "x": [
            110,
            110,
            120,
            120,
            110
           ],
           "y": [
            0,
            53.5,
            53.5,
            0,
            0
           ]
          },
          {
           "hoverinfo": "text",
           "hovertext": [
            "nflId:41243<br>displayName:C.J. Mosley<br>Player Speed:0.716 MPH",
            "nflId:41270<br>displayName:Lamarcus Joyner<br>Player Speed:4.071 MPH",
            "nflId:42467<br>displayName:Kwon Alexander<br>Player Speed:0.447 MPH",
            "nflId:43508<br>displayName:Will Parks<br>Player Speed:0.962 MPH",
            "nflId:44815<br>displayName:Solomon Thomas<br>Player Speed:0.358 MPH",
            "nflId:46141<br>displayName:Nathan Shepherd<br>Player Speed:0.268 MPH",
            "nflId:46186<br>displayName:Jordan Whitehead<br>Player Speed:1.745 MPH",
            "nflId:46211<br>displayName:D.J. Reed<br>Player Speed:2.058 MPH",
            "nflId:54469<br>displayName:Ahmad Gardner<br>Player Speed:1.924 MPH",
            "nflId:54491<br>displayName:Jermaine Johnson<br>Player Speed:0.559 MPH",
            "nflId:54582<br>displayName:Micheal Clemons<br>Player Speed:1.521 MPH"
           ],
           "marker": {
            "color": "#000000",
            "line": {
             "color": "#125740",
             "width": 2
            },
            "size": 10
           },
           "mode": "markers",
           "name": "NYJ",
           "type": "scatter",
           "x": [
            44.96,
            53.76,
            45.58,
            43.33,
            40.73,
            40.85,
            50.74,
            43.62,
            48.08,
            40.95,
            40.8
           ],
           "y": [
            26.27,
            26.7,
            30.7,
            20.99,
            28.71,
            32.21,
            33.69,
            37.38,
            16.65,
            23.99,
            36.71
           ]
          },
          {
           "hoverinfo": "text",
           "hovertext": [
            "nflId:42718<br>displayName:Raheem Mostert<br>Player Speed:0.157 MPH",
            "nflId:43447<br>displayName:Brandon Shell<br>Player Speed:0.0 MPH",
            "nflId:43454<br>displayName:Tyreek Hill<br>Player Speed:0.201 MPH",
            "nflId:46119<br>displayName:Connor Williams<br>Player Speed:0.0 MPH",
            "nflId:46203<br>displayName:Chase Edmonds<br>Player Speed:0.022 MPH",
            "nflId:47820<br>displayName:Greg Little<br>Player Speed:0.022 MPH",
            "nflId:52447<br>displayName:Robert Hunt<br>Player Speed:0.022 MPH",
            "nflId:53435<br>displayName:Jaylen Waddle<br>Player Speed:0.067 MPH",
            "nflId:53471<br>displayName:Liam Eichenberg<br>Player Speed:0.022 MPH",
            "nflId:54712<br>displayName:Skylar Thompson<br>Player Speed:0.313 MPH",
            "nflId:54931<br>displayName:Tanner Conner<br>Player Speed:0.045 MPH"
           ],
           "marker": {
            "color": "#008E97",
            "line": {
             "color": "#FC4C02",
             "width": 2
            },
            "size": 10
           },
           "mode": "markers",
           "name": "MIA",
           "type": "scatter",
           "x": [
            35.1,
            38.95,
            39.55,
            39.88,
            34.83,
            38.98,
            39.25,
            38.35,
            39.14,
            34.85,
            38.78
           ],
           "y": [
            26.72,
            33.02,
            21.02,
            29.67,
            32.96,
            26.82,
            28.43,
            19.27,
            31.32,
            29.84,
            34.71
           ]
          },
          {
           "hoverinfo": "none",
           "marker": {
            "color": "#CBB67C",
            "line": {
             "color": "#663831",
             "width": 2
            },
            "size": 10
           },
           "mode": "markers",
           "name": "football",
           "type": "scatter",
           "x": [
            40.0900001525879
           ],
           "y": [
            29.7800006866455
           ]
          }
         ],
         "name": "68"
        },
        {
         "data": [
          {
           "hoverinfo": "none",
           "mode": "text",
           "showlegend": false,
           "text": [
            "10",
            "20",
            "30",
            "40",
            "50",
            "40",
            "30",
            "20",
            "10"
           ],
           "textfont": {
            "color": "#ffffff",
            "family": "Courier New, monospace",
            "size": 30
           },
           "type": "scatter",
           "x": [
            20,
            30,
            40,
            50,
            60,
            70,
            80,
            90,
            100
           ],
           "y": [
            5,
            5,
            5,
            5,
            5,
            5,
            5,
            5,
            5
           ]
          },
          {
           "hoverinfo": "none",
           "mode": "text",
           "showlegend": false,
           "text": [
            "10",
            "20",
            "30",
            "40",
            "50",
            "40",
            "30",
            "20",
            "10"
           ],
           "textfont": {
            "color": "#ffffff",
            "family": "Courier New, monospace",
            "size": 30
           },
           "type": "scatter",
           "x": [
            20,
            30,
            40,
            50,
            60,
            70,
            80,
            90,
            100
           ],
           "y": [
            48.5,
            48.5,
            48.5,
            48.5,
            48.5,
            48.5,
            48.5,
            48.5,
            48.5
           ]
          },
          {
           "hoverinfo": "none",
           "line": {
            "color": "blue",
            "dash": "dash"
           },
           "showlegend": false,
           "type": "scatter",
           "x": [
            40,
            40
           ],
           "y": [
            0,
            53.5
           ]
          },
          {
           "hoverinfo": "none",
           "line": {
            "color": "yellow",
            "dash": "dash"
           },
           "showlegend": false,
           "type": "scatter",
           "x": [
            45,
            45
           ],
           "y": [
            0,
            53.5
           ]
          },
          {
           "fill": "toself",
           "fillcolor": "#000000",
           "hoverinfo": "skip",
           "line": {
            "color": "white",
            "width": 3
           },
           "mode": "lines",
           "opacity": 1,
           "showlegend": false,
           "type": "scatter",
           "x": [
            0,
            0,
            10,
            10,
            0
           ],
           "y": [
            0,
            53.5,
            53.5,
            0,
            0
           ]
          },
          {
           "fill": "toself",
           "fillcolor": "#008E97",
           "hoverinfo": "skip",
           "line": {
            "color": "white",
            "width": 3
           },
           "mode": "lines",
           "opacity": 1,
           "showlegend": false,
           "type": "scatter",
           "x": [
            110,
            110,
            120,
            120,
            110
           ],
           "y": [
            0,
            53.5,
            53.5,
            0,
            0
           ]
          },
          {
           "hoverinfo": "text",
           "hovertext": [
            "nflId:41243<br>displayName:C.J. Mosley<br>Player Speed:0.47 MPH",
            "nflId:41270<br>displayName:Lamarcus Joyner<br>Player Speed:3.758 MPH",
            "nflId:42467<br>displayName:Kwon Alexander<br>Player Speed:0.403 MPH",
            "nflId:43508<br>displayName:Will Parks<br>Player Speed:1.186 MPH",
            "nflId:44815<br>displayName:Solomon Thomas<br>Player Speed:0.336 MPH",
            "nflId:46141<br>displayName:Nathan Shepherd<br>Player Speed:0.224 MPH",
            "nflId:46186<br>displayName:Jordan Whitehead<br>Player Speed:1.767 MPH",
            "nflId:46211<br>displayName:D.J. Reed<br>Player Speed:2.17 MPH",
            "nflId:54469<br>displayName:Ahmad Gardner<br>Player Speed:1.722 MPH",
            "nflId:54491<br>displayName:Jermaine Johnson<br>Player Speed:0.336 MPH",
            "nflId:54582<br>displayName:Micheal Clemons<br>Player Speed:1.253 MPH"
           ],
           "marker": {
            "color": "#000000",
            "line": {
             "color": "#125740",
             "width": 2
            },
            "size": 10
           },
           "mode": "markers",
           "name": "NYJ",
           "type": "scatter",
           "x": [
            44.95,
            53.86,
            45.58,
            43.37,
            40.71,
            40.84,
            50.67,
            43.61,
            48.16,
            40.94,
            40.76
           ],
           "y": [
            26.24,
            26.56,
            30.71,
            21.02,
            28.71,
            32.21,
            33.72,
            37.29,
            16.68,
            24.01,
            36.69
           ]
          },
          {
           "hoverinfo": "text",
           "hovertext": [
            "nflId:42718<br>displayName:Raheem Mostert<br>Player Speed:0.134 MPH",
            "nflId:43447<br>displayName:Brandon Shell<br>Player Speed:0.0 MPH",
            "nflId:43454<br>displayName:Tyreek Hill<br>Player Speed:0.179 MPH",
            "nflId:46119<br>displayName:Connor Williams<br>Player Speed:0.0 MPH",
            "nflId:46203<br>displayName:Chase Edmonds<br>Player Speed:0.112 MPH",
            "nflId:47820<br>displayName:Greg Little<br>Player Speed:0.022 MPH",
            "nflId:52447<br>displayName:Robert Hunt<br>Player Speed:0.022 MPH",
            "nflId:53435<br>displayName:Jaylen Waddle<br>Player Speed:0.089 MPH",
            "nflId:53471<br>displayName:Liam Eichenberg<br>Player Speed:0.022 MPH",
            "nflId:54712<br>displayName:Skylar Thompson<br>Player Speed:0.268 MPH",
            "nflId:54931<br>displayName:Tanner Conner<br>Player Speed:0.045 MPH"
           ],
           "marker": {
            "color": "#008E97",
            "line": {
             "color": "#FC4C02",
             "width": 2
            },
            "size": 10
           },
           "mode": "markers",
           "name": "MIA",
           "type": "scatter",
           "x": [
            35.11,
            38.95,
            39.56,
            39.89,
            34.83,
            38.97,
            39.25,
            38.35,
            39.14,
            34.85,
            38.79
           ],
           "y": [
            26.72,
            33.01,
            21.02,
            29.67,
            32.96,
            26.83,
            28.43,
            19.27,
            31.31,
            29.84,
            34.71
           ]
          },
          {
           "hoverinfo": "none",
           "marker": {
            "color": "#CBB67C",
            "line": {
             "color": "#663831",
             "width": 2
            },
            "size": 10
           },
           "mode": "markers",
           "name": "football",
           "type": "scatter",
           "x": [
            40.0900001525879
           ],
           "y": [
            29.7800006866455
           ]
          }
         ],
         "name": "69"
        },
        {
         "data": [
          {
           "hoverinfo": "none",
           "mode": "text",
           "showlegend": false,
           "text": [
            "10",
            "20",
            "30",
            "40",
            "50",
            "40",
            "30",
            "20",
            "10"
           ],
           "textfont": {
            "color": "#ffffff",
            "family": "Courier New, monospace",
            "size": 30
           },
           "type": "scatter",
           "x": [
            20,
            30,
            40,
            50,
            60,
            70,
            80,
            90,
            100
           ],
           "y": [
            5,
            5,
            5,
            5,
            5,
            5,
            5,
            5,
            5
           ]
          },
          {
           "hoverinfo": "none",
           "mode": "text",
           "showlegend": false,
           "text": [
            "10",
            "20",
            "30",
            "40",
            "50",
            "40",
            "30",
            "20",
            "10"
           ],
           "textfont": {
            "color": "#ffffff",
            "family": "Courier New, monospace",
            "size": 30
           },
           "type": "scatter",
           "x": [
            20,
            30,
            40,
            50,
            60,
            70,
            80,
            90,
            100
           ],
           "y": [
            48.5,
            48.5,
            48.5,
            48.5,
            48.5,
            48.5,
            48.5,
            48.5,
            48.5
           ]
          },
          {
           "hoverinfo": "none",
           "line": {
            "color": "blue",
            "dash": "dash"
           },
           "showlegend": false,
           "type": "scatter",
           "x": [
            40,
            40
           ],
           "y": [
            0,
            53.5
           ]
          },
          {
           "hoverinfo": "none",
           "line": {
            "color": "yellow",
            "dash": "dash"
           },
           "showlegend": false,
           "type": "scatter",
           "x": [
            45,
            45
           ],
           "y": [
            0,
            53.5
           ]
          },
          {
           "fill": "toself",
           "fillcolor": "#000000",
           "hoverinfo": "skip",
           "line": {
            "color": "white",
            "width": 3
           },
           "mode": "lines",
           "opacity": 1,
           "showlegend": false,
           "type": "scatter",
           "x": [
            0,
            0,
            10,
            10,
            0
           ],
           "y": [
            0,
            53.5,
            53.5,
            0,
            0
           ]
          },
          {
           "fill": "toself",
           "fillcolor": "#008E97",
           "hoverinfo": "skip",
           "line": {
            "color": "white",
            "width": 3
           },
           "mode": "lines",
           "opacity": 1,
           "showlegend": false,
           "type": "scatter",
           "x": [
            110,
            110,
            120,
            120,
            110
           ],
           "y": [
            0,
            53.5,
            53.5,
            0,
            0
           ]
          },
          {
           "hoverinfo": "text",
           "hovertext": [
            "nflId:41243<br>displayName:C.J. Mosley<br>Player Speed:0.38 MPH",
            "nflId:41270<br>displayName:Lamarcus Joyner<br>Player Speed:3.445 MPH",
            "nflId:42467<br>displayName:Kwon Alexander<br>Player Speed:0.246 MPH",
            "nflId:43508<br>displayName:Will Parks<br>Player Speed:1.342 MPH",
            "nflId:44815<br>displayName:Solomon Thomas<br>Player Speed:0.291 MPH",
            "nflId:46141<br>displayName:Nathan Shepherd<br>Player Speed:0.224 MPH",
            "nflId:46186<br>displayName:Jordan Whitehead<br>Player Speed:1.79 MPH",
            "nflId:46211<br>displayName:D.J. Reed<br>Player Speed:2.215 MPH",
            "nflId:54469<br>displayName:Ahmad Gardner<br>Player Speed:1.566 MPH",
            "nflId:54491<br>displayName:Jermaine Johnson<br>Player Speed:0.268 MPH",
            "nflId:54582<br>displayName:Micheal Clemons<br>Player Speed:1.051 MPH"
           ],
           "marker": {
            "color": "#000000",
            "line": {
             "color": "#125740",
             "width": 2
            },
            "size": 10
           },
           "mode": "markers",
           "name": "NYJ",
           "type": "scatter",
           "x": [
            44.94,
            53.95,
            45.58,
            43.43,
            40.7,
            40.84,
            50.59,
            43.6,
            48.23,
            40.92,
            40.71
           ],
           "y": [
            26.23,
            26.43,
            30.7,
            21.04,
            28.71,
            32.23,
            33.74,
            37.19,
            16.7,
            24.03,
            36.67
           ]
          },
          {
           "hoverinfo": "text",
           "hovertext": [
            "nflId:42718<br>displayName:Raheem Mostert<br>Player Speed:0.134 MPH",
            "nflId:43447<br>displayName:Brandon Shell<br>Player Speed:0.0 MPH",
            "nflId:43454<br>displayName:Tyreek Hill<br>Player Speed:0.179 MPH",
            "nflId:46119<br>displayName:Connor Williams<br>Player Speed:0.0 MPH",
            "nflId:46203<br>displayName:Chase Edmonds<br>Player Speed:0.224 MPH",
            "nflId:47820<br>displayName:Greg Little<br>Player Speed:0.045 MPH",
            "nflId:52447<br>displayName:Robert Hunt<br>Player Speed:0.022 MPH",
            "nflId:53435<br>displayName:Jaylen Waddle<br>Player Speed:0.067 MPH",
            "nflId:53471<br>displayName:Liam Eichenberg<br>Player Speed:0.022 MPH",
            "nflId:54712<br>displayName:Skylar Thompson<br>Player Speed:0.224 MPH",
            "nflId:54931<br>displayName:Tanner Conner<br>Player Speed:0.022 MPH"
           ],
           "marker": {
            "color": "#008E97",
            "line": {
             "color": "#FC4C02",
             "width": 2
            },
            "size": 10
           },
           "mode": "markers",
           "name": "MIA",
           "type": "scatter",
           "x": [
            35.11,
            38.96,
            39.57,
            39.89,
            34.83,
            38.96,
            39.24,
            38.35,
            39.14,
            34.84,
            38.79
           ],
           "y": [
            26.73,
            33.01,
            21.02,
            29.67,
            32.95,
            26.83,
            28.43,
            19.26,
            31.31,
            29.84,
            34.71
           ]
          },
          {
           "hoverinfo": "none",
           "marker": {
            "color": "#CBB67C",
            "line": {
             "color": "#663831",
             "width": 2
            },
            "size": 10
           },
           "mode": "markers",
           "name": "football",
           "type": "scatter",
           "x": [
            40.0900001525879
           ],
           "y": [
            29.7800006866455
           ]
          }
         ],
         "name": "70"
        },
        {
         "data": [
          {
           "hoverinfo": "none",
           "mode": "text",
           "showlegend": false,
           "text": [
            "10",
            "20",
            "30",
            "40",
            "50",
            "40",
            "30",
            "20",
            "10"
           ],
           "textfont": {
            "color": "#ffffff",
            "family": "Courier New, monospace",
            "size": 30
           },
           "type": "scatter",
           "x": [
            20,
            30,
            40,
            50,
            60,
            70,
            80,
            90,
            100
           ],
           "y": [
            5,
            5,
            5,
            5,
            5,
            5,
            5,
            5,
            5
           ]
          },
          {
           "hoverinfo": "none",
           "mode": "text",
           "showlegend": false,
           "text": [
            "10",
            "20",
            "30",
            "40",
            "50",
            "40",
            "30",
            "20",
            "10"
           ],
           "textfont": {
            "color": "#ffffff",
            "family": "Courier New, monospace",
            "size": 30
           },
           "type": "scatter",
           "x": [
            20,
            30,
            40,
            50,
            60,
            70,
            80,
            90,
            100
           ],
           "y": [
            48.5,
            48.5,
            48.5,
            48.5,
            48.5,
            48.5,
            48.5,
            48.5,
            48.5
           ]
          },
          {
           "hoverinfo": "none",
           "line": {
            "color": "blue",
            "dash": "dash"
           },
           "showlegend": false,
           "type": "scatter",
           "x": [
            40,
            40
           ],
           "y": [
            0,
            53.5
           ]
          },
          {
           "hoverinfo": "none",
           "line": {
            "color": "yellow",
            "dash": "dash"
           },
           "showlegend": false,
           "type": "scatter",
           "x": [
            45,
            45
           ],
           "y": [
            0,
            53.5
           ]
          },
          {
           "fill": "toself",
           "fillcolor": "#000000",
           "hoverinfo": "skip",
           "line": {
            "color": "white",
            "width": 3
           },
           "mode": "lines",
           "opacity": 1,
           "showlegend": false,
           "type": "scatter",
           "x": [
            0,
            0,
            10,
            10,
            0
           ],
           "y": [
            0,
            53.5,
            53.5,
            0,
            0
           ]
          },
          {
           "fill": "toself",
           "fillcolor": "#008E97",
           "hoverinfo": "skip",
           "line": {
            "color": "white",
            "width": 3
           },
           "mode": "lines",
           "opacity": 1,
           "showlegend": false,
           "type": "scatter",
           "x": [
            110,
            110,
            120,
            120,
            110
           ],
           "y": [
            0,
            53.5,
            53.5,
            0,
            0
           ]
          },
          {
           "hoverinfo": "text",
           "hovertext": [
            "nflId:41243<br>displayName:C.J. Mosley<br>Player Speed:0.291 MPH",
            "nflId:41270<br>displayName:Lamarcus Joyner<br>Player Speed:3.065 MPH",
            "nflId:42467<br>displayName:Kwon Alexander<br>Player Speed:0.157 MPH",
            "nflId:43508<br>displayName:Will Parks<br>Player Speed:1.499 MPH",
            "nflId:44815<br>displayName:Solomon Thomas<br>Player Speed:0.268 MPH",
            "nflId:46141<br>displayName:Nathan Shepherd<br>Player Speed:0.157 MPH",
            "nflId:46186<br>displayName:Jordan Whitehead<br>Player Speed:1.834 MPH",
            "nflId:46211<br>displayName:D.J. Reed<br>Player Speed:2.259 MPH",
            "nflId:54469<br>displayName:Ahmad Gardner<br>Player Speed:1.454 MPH",
            "nflId:54491<br>displayName:Jermaine Johnson<br>Player Speed:0.313 MPH",
            "nflId:54582<br>displayName:Micheal Clemons<br>Player Speed:0.872 MPH"
           ],
           "marker": {
            "color": "#000000",
            "line": {
             "color": "#125740",
             "width": 2
            },
            "size": 10
           },
           "mode": "markers",
           "name": "NYJ",
           "type": "scatter",
           "x": [
            44.93,
            54.04,
            45.58,
            43.49,
            40.68,
            40.84,
            50.51,
            43.6,
            48.29,
            40.91,
            40.67
           ],
           "y": [
            26.22,
            26.32,
            30.7,
            21.04,
            28.7,
            32.23,
            33.77,
            37.09,
            16.72,
            24,
            36.67
           ]
          },
          {
           "hoverinfo": "text",
           "hovertext": [
            "nflId:42718<br>displayName:Raheem Mostert<br>Player Speed:0.112 MPH",
            "nflId:43447<br>displayName:Brandon Shell<br>Player Speed:0.0 MPH",
            "nflId:43454<br>displayName:Tyreek Hill<br>Player Speed:0.157 MPH",
            "nflId:46119<br>displayName:Connor Williams<br>Player Speed:0.0 MPH",
            "nflId:46203<br>displayName:Chase Edmonds<br>Player Speed:0.313 MPH",
            "nflId:47820<br>displayName:Greg Little<br>Player Speed:0.022 MPH",
            "nflId:52447<br>displayName:Robert Hunt<br>Player Speed:0.022 MPH",
            "nflId:53435<br>displayName:Jaylen Waddle<br>Player Speed:0.067 MPH",
            "nflId:53471<br>displayName:Liam Eichenberg<br>Player Speed:0.022 MPH",
            "nflId:54712<br>displayName:Skylar Thompson<br>Player Speed:0.157 MPH",
            "nflId:54931<br>displayName:Tanner Conner<br>Player Speed:0.022 MPH"
           ],
           "marker": {
            "color": "#008E97",
            "line": {
             "color": "#FC4C02",
             "width": 2
            },
            "size": 10
           },
           "mode": "markers",
           "name": "MIA",
           "type": "scatter",
           "x": [
            35.11,
            38.96,
            39.57,
            39.89,
            34.84,
            38.96,
            39.24,
            38.34,
            39.14,
            34.84,
            38.8
           ],
           "y": [
            26.75,
            33.01,
            21.01,
            29.66,
            32.93,
            26.83,
            28.43,
            19.26,
            31.31,
            29.84,
            34.72
           ]
          },
          {
           "hoverinfo": "none",
           "marker": {
            "color": "#CBB67C",
            "line": {
             "color": "#663831",
             "width": 2
            },
            "size": 10
           },
           "mode": "markers",
           "name": "football",
           "type": "scatter",
           "x": [
            40.0900001525879
           ],
           "y": [
            29.7800006866455
           ]
          }
         ],
         "name": "71"
        },
        {
         "data": [
          {
           "hoverinfo": "none",
           "mode": "text",
           "showlegend": false,
           "text": [
            "10",
            "20",
            "30",
            "40",
            "50",
            "40",
            "30",
            "20",
            "10"
           ],
           "textfont": {
            "color": "#ffffff",
            "family": "Courier New, monospace",
            "size": 30
           },
           "type": "scatter",
           "x": [
            20,
            30,
            40,
            50,
            60,
            70,
            80,
            90,
            100
           ],
           "y": [
            5,
            5,
            5,
            5,
            5,
            5,
            5,
            5,
            5
           ]
          },
          {
           "hoverinfo": "none",
           "mode": "text",
           "showlegend": false,
           "text": [
            "10",
            "20",
            "30",
            "40",
            "50",
            "40",
            "30",
            "20",
            "10"
           ],
           "textfont": {
            "color": "#ffffff",
            "family": "Courier New, monospace",
            "size": 30
           },
           "type": "scatter",
           "x": [
            20,
            30,
            40,
            50,
            60,
            70,
            80,
            90,
            100
           ],
           "y": [
            48.5,
            48.5,
            48.5,
            48.5,
            48.5,
            48.5,
            48.5,
            48.5,
            48.5
           ]
          },
          {
           "hoverinfo": "none",
           "line": {
            "color": "blue",
            "dash": "dash"
           },
           "showlegend": false,
           "type": "scatter",
           "x": [
            40,
            40
           ],
           "y": [
            0,
            53.5
           ]
          },
          {
           "hoverinfo": "none",
           "line": {
            "color": "yellow",
            "dash": "dash"
           },
           "showlegend": false,
           "type": "scatter",
           "x": [
            45,
            45
           ],
           "y": [
            0,
            53.5
           ]
          },
          {
           "fill": "toself",
           "fillcolor": "#000000",
           "hoverinfo": "skip",
           "line": {
            "color": "white",
            "width": 3
           },
           "mode": "lines",
           "opacity": 1,
           "showlegend": false,
           "type": "scatter",
           "x": [
            0,
            0,
            10,
            10,
            0
           ],
           "y": [
            0,
            53.5,
            53.5,
            0,
            0
           ]
          },
          {
           "fill": "toself",
           "fillcolor": "#008E97",
           "hoverinfo": "skip",
           "line": {
            "color": "white",
            "width": 3
           },
           "mode": "lines",
           "opacity": 1,
           "showlegend": false,
           "type": "scatter",
           "x": [
            110,
            110,
            120,
            120,
            110
           ],
           "y": [
            0,
            53.5,
            53.5,
            0,
            0
           ]
          },
          {
           "hoverinfo": "text",
           "hovertext": [
            "nflId:41243<br>displayName:C.J. Mosley<br>Player Speed:0.38 MPH",
            "nflId:41270<br>displayName:Lamarcus Joyner<br>Player Speed:2.617 MPH",
            "nflId:42467<br>displayName:Kwon Alexander<br>Player Speed:0.112 MPH",
            "nflId:43508<br>displayName:Will Parks<br>Player Speed:1.588 MPH",
            "nflId:44815<br>displayName:Solomon Thomas<br>Player Speed:0.246 MPH",
            "nflId:46141<br>displayName:Nathan Shepherd<br>Player Speed:0.157 MPH",
            "nflId:46186<br>displayName:Jordan Whitehead<br>Player Speed:1.879 MPH",
            "nflId:46211<br>displayName:D.J. Reed<br>Player Speed:2.259 MPH",
            "nflId:54469<br>displayName:Ahmad Gardner<br>Player Speed:1.342 MPH",
            "nflId:54491<br>displayName:Jermaine Johnson<br>Player Speed:0.246 MPH",
            "nflId:54582<br>displayName:Micheal Clemons<br>Player Speed:0.604 MPH"
           ],
           "marker": {
            "color": "#000000",
            "line": {
             "color": "#125740",
             "width": 2
            },
            "size": 10
           },
           "mode": "markers",
           "name": "NYJ",
           "type": "scatter",
           "x": [
            44.91,
            54.12,
            45.59,
            43.56,
            40.67,
            40.83,
            50.43,
            43.59,
            48.35,
            40.91,
            40.64
           ],
           "y": [
            26.22,
            26.23,
            30.68,
            21.05,
            28.7,
            32.24,
            33.79,
            36.99,
            16.74,
            23.99,
            36.66
           ]
          },
          {
           "hoverinfo": "text",
           "hovertext": [
            "nflId:42718<br>displayName:Raheem Mostert<br>Player Speed:0.089 MPH",
            "nflId:43447<br>displayName:Brandon Shell<br>Player Speed:0.0 MPH",
            "nflId:43454<br>displayName:Tyreek Hill<br>Player Speed:0.134 MPH",
            "nflId:46119<br>displayName:Connor Williams<br>Player Speed:0.0 MPH",
            "nflId:46203<br>displayName:Chase Edmonds<br>Player Speed:0.336 MPH",
            "nflId:47820<br>displayName:Greg Little<br>Player Speed:0.022 MPH",
            "nflId:52447<br>displayName:Robert Hunt<br>Player Speed:0.022 MPH",
            "nflId:53435<br>displayName:Jaylen Waddle<br>Player Speed:0.089 MPH",
            "nflId:53471<br>displayName:Liam Eichenberg<br>Player Speed:0.022 MPH",
            "nflId:54712<br>displayName:Skylar Thompson<br>Player Speed:0.134 MPH",
            "nflId:54931<br>displayName:Tanner Conner<br>Player Speed:0.022 MPH"
           ],
           "marker": {
            "color": "#008E97",
            "line": {
             "color": "#FC4C02",
             "width": 2
            },
            "size": 10
           },
           "mode": "markers",
           "name": "MIA",
           "type": "scatter",
           "x": [
            35.11,
            38.95,
            39.57,
            39.89,
            34.84,
            38.96,
            39.23,
            38.33,
            39.12,
            34.84,
            38.8
           ],
           "y": [
            26.75,
            33,
            21.01,
            29.66,
            32.92,
            26.82,
            28.43,
            19.26,
            31.32,
            29.84,
            34.71
           ]
          },
          {
           "hoverinfo": "none",
           "marker": {
            "color": "#CBB67C",
            "line": {
             "color": "#663831",
             "width": 2
            },
            "size": 10
           },
           "mode": "markers",
           "name": "football",
           "type": "scatter",
           "x": [
            40.0900001525879
           ],
           "y": [
            29.7700004577637
           ]
          }
         ],
         "name": "72"
        },
        {
         "data": [
          {
           "hoverinfo": "none",
           "mode": "text",
           "showlegend": false,
           "text": [
            "10",
            "20",
            "30",
            "40",
            "50",
            "40",
            "30",
            "20",
            "10"
           ],
           "textfont": {
            "color": "#ffffff",
            "family": "Courier New, monospace",
            "size": 30
           },
           "type": "scatter",
           "x": [
            20,
            30,
            40,
            50,
            60,
            70,
            80,
            90,
            100
           ],
           "y": [
            5,
            5,
            5,
            5,
            5,
            5,
            5,
            5,
            5
           ]
          },
          {
           "hoverinfo": "none",
           "mode": "text",
           "showlegend": false,
           "text": [
            "10",
            "20",
            "30",
            "40",
            "50",
            "40",
            "30",
            "20",
            "10"
           ],
           "textfont": {
            "color": "#ffffff",
            "family": "Courier New, monospace",
            "size": 30
           },
           "type": "scatter",
           "x": [
            20,
            30,
            40,
            50,
            60,
            70,
            80,
            90,
            100
           ],
           "y": [
            48.5,
            48.5,
            48.5,
            48.5,
            48.5,
            48.5,
            48.5,
            48.5,
            48.5
           ]
          },
          {
           "hoverinfo": "none",
           "line": {
            "color": "blue",
            "dash": "dash"
           },
           "showlegend": false,
           "type": "scatter",
           "x": [
            40,
            40
           ],
           "y": [
            0,
            53.5
           ]
          },
          {
           "hoverinfo": "none",
           "line": {
            "color": "yellow",
            "dash": "dash"
           },
           "showlegend": false,
           "type": "scatter",
           "x": [
            45,
            45
           ],
           "y": [
            0,
            53.5
           ]
          },
          {
           "fill": "toself",
           "fillcolor": "#000000",
           "hoverinfo": "skip",
           "line": {
            "color": "white",
            "width": 3
           },
           "mode": "lines",
           "opacity": 1,
           "showlegend": false,
           "type": "scatter",
           "x": [
            0,
            0,
            10,
            10,
            0
           ],
           "y": [
            0,
            53.5,
            53.5,
            0,
            0
           ]
          },
          {
           "fill": "toself",
           "fillcolor": "#008E97",
           "hoverinfo": "skip",
           "line": {
            "color": "white",
            "width": 3
           },
           "mode": "lines",
           "opacity": 1,
           "showlegend": false,
           "type": "scatter",
           "x": [
            110,
            110,
            120,
            120,
            110
           ],
           "y": [
            0,
            53.5,
            53.5,
            0,
            0
           ]
          },
          {
           "hoverinfo": "text",
           "hovertext": [
            "nflId:41243<br>displayName:C.J. Mosley<br>Player Speed:0.425 MPH",
            "nflId:41270<br>displayName:Lamarcus Joyner<br>Player Speed:2.215 MPH",
            "nflId:42467<br>displayName:Kwon Alexander<br>Player Speed:0.112 MPH",
            "nflId:43508<br>displayName:Will Parks<br>Player Speed:1.611 MPH",
            "nflId:44815<br>displayName:Solomon Thomas<br>Player Speed:0.179 MPH",
            "nflId:46141<br>displayName:Nathan Shepherd<br>Player Speed:0.201 MPH",
            "nflId:46186<br>displayName:Jordan Whitehead<br>Player Speed:1.901 MPH",
            "nflId:46211<br>displayName:D.J. Reed<br>Player Speed:2.17 MPH",
            "nflId:54469<br>displayName:Ahmad Gardner<br>Player Speed:1.32 MPH",
            "nflId:54491<br>displayName:Jermaine Johnson<br>Player Speed:0.134 MPH",
            "nflId:54582<br>displayName:Micheal Clemons<br>Player Speed:0.179 MPH"
           ],
           "marker": {
            "color": "#000000",
            "line": {
             "color": "#125740",
             "width": 2
            },
            "size": 10
           },
           "mode": "markers",
           "name": "NYJ",
           "type": "scatter",
           "x": [
            44.9,
            54.2,
            45.6,
            43.63,
            40.67,
            40.83,
            50.35,
            43.58,
            48.41,
            40.9,
            40.64
           ],
           "y": [
            26.22,
            26.15,
            30.67,
            21.05,
            28.71,
            32.25,
            33.81,
            36.89,
            16.75,
            24.01,
            36.66
           ]
          },
          {
           "hoverinfo": "text",
           "hovertext": [
            "nflId:42718<br>displayName:Raheem Mostert<br>Player Speed:0.089 MPH",
            "nflId:43447<br>displayName:Brandon Shell<br>Player Speed:0.0 MPH",
            "nflId:43454<br>displayName:Tyreek Hill<br>Player Speed:0.134 MPH",
            "nflId:46119<br>displayName:Connor Williams<br>Player Speed:0.0 MPH",
            "nflId:46203<br>displayName:Chase Edmonds<br>Player Speed:0.38 MPH",
            "nflId:47820<br>displayName:Greg Little<br>Player Speed:0.022 MPH",
            "nflId:52447<br>displayName:Robert Hunt<br>Player Speed:0.0 MPH",
            "nflId:53435<br>displayName:Jaylen Waddle<br>Player Speed:0.067 MPH",
            "nflId:53471<br>displayName:Liam Eichenberg<br>Player Speed:0.022 MPH",
            "nflId:54712<br>displayName:Skylar Thompson<br>Player Speed:0.089 MPH",
            "nflId:54931<br>displayName:Tanner Conner<br>Player Speed:0.022 MPH"
           ],
           "marker": {
            "color": "#008E97",
            "line": {
             "color": "#FC4C02",
             "width": 2
            },
            "size": 10
           },
           "mode": "markers",
           "name": "MIA",
           "type": "scatter",
           "x": [
            35.12,
            38.95,
            39.57,
            39.89,
            34.85,
            38.96,
            39.24,
            38.32,
            39.12,
            34.84,
            38.8
           ],
           "y": [
            26.76,
            33,
            21,
            29.67,
            32.9,
            26.82,
            28.43,
            19.27,
            31.32,
            29.85,
            34.71
           ]
          },
          {
           "hoverinfo": "none",
           "marker": {
            "color": "#CBB67C",
            "line": {
             "color": "#663831",
             "width": 2
            },
            "size": 10
           },
           "mode": "markers",
           "name": "football",
           "type": "scatter",
           "x": [
            40.0900001525879
           ],
           "y": [
            29.7700004577637
           ]
          }
         ],
         "name": "73"
        },
        {
         "data": [
          {
           "hoverinfo": "none",
           "mode": "text",
           "showlegend": false,
           "text": [
            "10",
            "20",
            "30",
            "40",
            "50",
            "40",
            "30",
            "20",
            "10"
           ],
           "textfont": {
            "color": "#ffffff",
            "family": "Courier New, monospace",
            "size": 30
           },
           "type": "scatter",
           "x": [
            20,
            30,
            40,
            50,
            60,
            70,
            80,
            90,
            100
           ],
           "y": [
            5,
            5,
            5,
            5,
            5,
            5,
            5,
            5,
            5
           ]
          },
          {
           "hoverinfo": "none",
           "mode": "text",
           "showlegend": false,
           "text": [
            "10",
            "20",
            "30",
            "40",
            "50",
            "40",
            "30",
            "20",
            "10"
           ],
           "textfont": {
            "color": "#ffffff",
            "family": "Courier New, monospace",
            "size": 30
           },
           "type": "scatter",
           "x": [
            20,
            30,
            40,
            50,
            60,
            70,
            80,
            90,
            100
           ],
           "y": [
            48.5,
            48.5,
            48.5,
            48.5,
            48.5,
            48.5,
            48.5,
            48.5,
            48.5
           ]
          },
          {
           "hoverinfo": "none",
           "line": {
            "color": "blue",
            "dash": "dash"
           },
           "showlegend": false,
           "type": "scatter",
           "x": [
            40,
            40
           ],
           "y": [
            0,
            53.5
           ]
          },
          {
           "hoverinfo": "none",
           "line": {
            "color": "yellow",
            "dash": "dash"
           },
           "showlegend": false,
           "type": "scatter",
           "x": [
            45,
            45
           ],
           "y": [
            0,
            53.5
           ]
          },
          {
           "fill": "toself",
           "fillcolor": "#000000",
           "hoverinfo": "skip",
           "line": {
            "color": "white",
            "width": 3
           },
           "mode": "lines",
           "opacity": 1,
           "showlegend": false,
           "type": "scatter",
           "x": [
            0,
            0,
            10,
            10,
            0
           ],
           "y": [
            0,
            53.5,
            53.5,
            0,
            0
           ]
          },
          {
           "fill": "toself",
           "fillcolor": "#008E97",
           "hoverinfo": "skip",
           "line": {
            "color": "white",
            "width": 3
           },
           "mode": "lines",
           "opacity": 1,
           "showlegend": false,
           "type": "scatter",
           "x": [
            110,
            110,
            120,
            120,
            110
           ],
           "y": [
            0,
            53.5,
            53.5,
            0,
            0
           ]
          },
          {
           "hoverinfo": "text",
           "hovertext": [
            "nflId:41243<br>displayName:C.J. Mosley<br>Player Speed:0.537 MPH",
            "nflId:41270<br>displayName:Lamarcus Joyner<br>Player Speed:1.946 MPH",
            "nflId:42467<br>displayName:Kwon Alexander<br>Player Speed:0.112 MPH",
            "nflId:43508<br>displayName:Will Parks<br>Player Speed:1.588 MPH",
            "nflId:44815<br>displayName:Solomon Thomas<br>Player Speed:0.112 MPH",
            "nflId:46141<br>displayName:Nathan Shepherd<br>Player Speed:0.089 MPH",
            "nflId:46186<br>displayName:Jordan Whitehead<br>Player Speed:1.834 MPH",
            "nflId:46211<br>displayName:D.J. Reed<br>Player Speed:2.058 MPH",
            "nflId:54469<br>displayName:Ahmad Gardner<br>Player Speed:1.23 MPH",
            "nflId:54491<br>displayName:Jermaine Johnson<br>Player Speed:0.313 MPH",
            "nflId:54582<br>displayName:Micheal Clemons<br>Player Speed:0.157 MPH"
           ],
           "marker": {
            "color": "#000000",
            "line": {
             "color": "#125740",
             "width": 2
            },
            "size": 10
           },
           "mode": "markers",
           "name": "NYJ",
           "type": "scatter",
           "x": [
            44.88,
            54.27,
            45.6,
            43.7,
            40.67,
            40.83,
            50.27,
            43.58,
            48.47,
            40.9,
            40.65
           ],
           "y": [
            26.24,
            26.09,
            30.68,
            21.04,
            28.71,
            32.25,
            33.83,
            36.79,
            16.76,
            24.03,
            36.65
           ]
          },
          {
           "hoverinfo": "text",
           "hovertext": [
            "nflId:42718<br>displayName:Raheem Mostert<br>Player Speed:0.067 MPH",
            "nflId:43447<br>displayName:Brandon Shell<br>Player Speed:0.0 MPH",
            "nflId:43454<br>displayName:Tyreek Hill<br>Player Speed:0.134 MPH",
            "nflId:46119<br>displayName:Connor Williams<br>Player Speed:0.0 MPH",
            "nflId:46203<br>displayName:Chase Edmonds<br>Player Speed:0.291 MPH",
            "nflId:47820<br>displayName:Greg Little<br>Player Speed:0.022 MPH",
            "nflId:52447<br>displayName:Robert Hunt<br>Player Speed:0.0 MPH",
            "nflId:53435<br>displayName:Jaylen Waddle<br>Player Speed:0.089 MPH",
            "nflId:53471<br>displayName:Liam Eichenberg<br>Player Speed:0.022 MPH",
            "nflId:54712<br>displayName:Skylar Thompson<br>Player Speed:0.067 MPH",
            "nflId:54931<br>displayName:Tanner Conner<br>Player Speed:0.022 MPH"
           ],
           "marker": {
            "color": "#008E97",
            "line": {
             "color": "#FC4C02",
             "width": 2
            },
            "size": 10
           },
           "mode": "markers",
           "name": "MIA",
           "type": "scatter",
           "x": [
            35.11,
            38.95,
            39.58,
            39.89,
            34.85,
            38.96,
            39.24,
            38.32,
            39.12,
            34.84,
            38.8
           ],
           "y": [
            26.77,
            33,
            20.99,
            29.67,
            32.9,
            26.82,
            28.43,
            19.27,
            31.32,
            29.86,
            34.71
           ]
          },
          {
           "hoverinfo": "none",
           "marker": {
            "color": "#CBB67C",
            "line": {
             "color": "#663831",
             "width": 2
            },
            "size": 10
           },
           "mode": "markers",
           "name": "football",
           "type": "scatter",
           "x": [
            40.0900001525879
           ],
           "y": [
            29.7700004577637
           ]
          }
         ],
         "name": "74"
        },
        {
         "data": [
          {
           "hoverinfo": "none",
           "mode": "text",
           "showlegend": false,
           "text": [
            "10",
            "20",
            "30",
            "40",
            "50",
            "40",
            "30",
            "20",
            "10"
           ],
           "textfont": {
            "color": "#ffffff",
            "family": "Courier New, monospace",
            "size": 30
           },
           "type": "scatter",
           "x": [
            20,
            30,
            40,
            50,
            60,
            70,
            80,
            90,
            100
           ],
           "y": [
            5,
            5,
            5,
            5,
            5,
            5,
            5,
            5,
            5
           ]
          },
          {
           "hoverinfo": "none",
           "mode": "text",
           "showlegend": false,
           "text": [
            "10",
            "20",
            "30",
            "40",
            "50",
            "40",
            "30",
            "20",
            "10"
           ],
           "textfont": {
            "color": "#ffffff",
            "family": "Courier New, monospace",
            "size": 30
           },
           "type": "scatter",
           "x": [
            20,
            30,
            40,
            50,
            60,
            70,
            80,
            90,
            100
           ],
           "y": [
            48.5,
            48.5,
            48.5,
            48.5,
            48.5,
            48.5,
            48.5,
            48.5,
            48.5
           ]
          },
          {
           "hoverinfo": "none",
           "line": {
            "color": "blue",
            "dash": "dash"
           },
           "showlegend": false,
           "type": "scatter",
           "x": [
            40,
            40
           ],
           "y": [
            0,
            53.5
           ]
          },
          {
           "hoverinfo": "none",
           "line": {
            "color": "yellow",
            "dash": "dash"
           },
           "showlegend": false,
           "type": "scatter",
           "x": [
            45,
            45
           ],
           "y": [
            0,
            53.5
           ]
          },
          {
           "fill": "toself",
           "fillcolor": "#000000",
           "hoverinfo": "skip",
           "line": {
            "color": "white",
            "width": 3
           },
           "mode": "lines",
           "opacity": 1,
           "showlegend": false,
           "type": "scatter",
           "x": [
            0,
            0,
            10,
            10,
            0
           ],
           "y": [
            0,
            53.5,
            53.5,
            0,
            0
           ]
          },
          {
           "fill": "toself",
           "fillcolor": "#008E97",
           "hoverinfo": "skip",
           "line": {
            "color": "white",
            "width": 3
           },
           "mode": "lines",
           "opacity": 1,
           "showlegend": false,
           "type": "scatter",
           "x": [
            110,
            110,
            120,
            120,
            110
           ],
           "y": [
            0,
            53.5,
            53.5,
            0,
            0
           ]
          },
          {
           "hoverinfo": "text",
           "hovertext": [
            "nflId:41243<br>displayName:C.J. Mosley<br>Player Speed:0.492 MPH",
            "nflId:41270<br>displayName:Lamarcus Joyner<br>Player Speed:1.722 MPH",
            "nflId:42467<br>displayName:Kwon Alexander<br>Player Speed:0.112 MPH",
            "nflId:43508<br>displayName:Will Parks<br>Player Speed:1.499 MPH",
            "nflId:44815<br>displayName:Solomon Thomas<br>Player Speed:0.134 MPH",
            "nflId:46141<br>displayName:Nathan Shepherd<br>Player Speed:0.067 MPH",
            "nflId:46186<br>displayName:Jordan Whitehead<br>Player Speed:1.767 MPH",
            "nflId:46211<br>displayName:D.J. Reed<br>Player Speed:1.946 MPH",
            "nflId:54469<br>displayName:Ahmad Gardner<br>Player Speed:1.186 MPH",
            "nflId:54491<br>displayName:Jermaine Johnson<br>Player Speed:0.403 MPH",
            "nflId:54582<br>displayName:Micheal Clemons<br>Player Speed:0.447 MPH"
           ],
           "marker": {
            "color": "#000000",
            "line": {
             "color": "#125740",
             "width": 2
            },
            "size": 10
           },
           "mode": "markers",
           "name": "NYJ",
           "type": "scatter",
           "x": [
            44.86,
            54.34,
            45.61,
            43.77,
            40.67,
            40.84,
            50.19,
            43.58,
            48.53,
            40.9,
            40.66
           ],
           "y": [
            26.25,
            26.04,
            30.67,
            21.03,
            28.7,
            32.25,
            33.85,
            36.71,
            16.76,
            24.04,
            36.65
           ]
          },
          {
           "hoverinfo": "text",
           "hovertext": [
            "nflId:42718<br>displayName:Raheem Mostert<br>Player Speed:0.067 MPH",
            "nflId:43447<br>displayName:Brandon Shell<br>Player Speed:0.0 MPH",
            "nflId:43454<br>displayName:Tyreek Hill<br>Player Speed:0.134 MPH",
            "nflId:46119<br>displayName:Connor Williams<br>Player Speed:0.0 MPH",
            "nflId:46203<br>displayName:Chase Edmonds<br>Player Speed:0.246 MPH",
            "nflId:47820<br>displayName:Greg Little<br>Player Speed:0.0 MPH",
            "nflId:52447<br>displayName:Robert Hunt<br>Player Speed:0.0 MPH",
            "nflId:53435<br>displayName:Jaylen Waddle<br>Player Speed:0.134 MPH",
            "nflId:53471<br>displayName:Liam Eichenberg<br>Player Speed:0.022 MPH",
            "nflId:54712<br>displayName:Skylar Thompson<br>Player Speed:0.067 MPH",
            "nflId:54931<br>displayName:Tanner Conner<br>Player Speed:0.022 MPH"
           ],
           "marker": {
            "color": "#008E97",
            "line": {
             "color": "#FC4C02",
             "width": 2
            },
            "size": 10
           },
           "mode": "markers",
           "name": "MIA",
           "type": "scatter",
           "x": [
            35.1,
            38.95,
            39.59,
            39.9,
            34.85,
            38.97,
            39.23,
            38.31,
            39.12,
            34.84,
            38.8
           ],
           "y": [
            26.77,
            33,
            20.98,
            29.67,
            32.89,
            26.81,
            28.43,
            19.28,
            31.32,
            29.86,
            34.71
           ]
          },
          {
           "hoverinfo": "none",
           "marker": {
            "color": "#CBB67C",
            "line": {
             "color": "#663831",
             "width": 2
            },
            "size": 10
           },
           "mode": "markers",
           "name": "football",
           "type": "scatter",
           "x": [
            40.0900001525879
           ],
           "y": [
            29.7700004577637
           ]
          }
         ],
         "name": "75"
        },
        {
         "data": [
          {
           "hoverinfo": "none",
           "mode": "text",
           "showlegend": false,
           "text": [
            "10",
            "20",
            "30",
            "40",
            "50",
            "40",
            "30",
            "20",
            "10"
           ],
           "textfont": {
            "color": "#ffffff",
            "family": "Courier New, monospace",
            "size": 30
           },
           "type": "scatter",
           "x": [
            20,
            30,
            40,
            50,
            60,
            70,
            80,
            90,
            100
           ],
           "y": [
            5,
            5,
            5,
            5,
            5,
            5,
            5,
            5,
            5
           ]
          },
          {
           "hoverinfo": "none",
           "mode": "text",
           "showlegend": false,
           "text": [
            "10",
            "20",
            "30",
            "40",
            "50",
            "40",
            "30",
            "20",
            "10"
           ],
           "textfont": {
            "color": "#ffffff",
            "family": "Courier New, monospace",
            "size": 30
           },
           "type": "scatter",
           "x": [
            20,
            30,
            40,
            50,
            60,
            70,
            80,
            90,
            100
           ],
           "y": [
            48.5,
            48.5,
            48.5,
            48.5,
            48.5,
            48.5,
            48.5,
            48.5,
            48.5
           ]
          },
          {
           "hoverinfo": "none",
           "line": {
            "color": "blue",
            "dash": "dash"
           },
           "showlegend": false,
           "type": "scatter",
           "x": [
            40,
            40
           ],
           "y": [
            0,
            53.5
           ]
          },
          {
           "hoverinfo": "none",
           "line": {
            "color": "yellow",
            "dash": "dash"
           },
           "showlegend": false,
           "type": "scatter",
           "x": [
            45,
            45
           ],
           "y": [
            0,
            53.5
           ]
          },
          {
           "fill": "toself",
           "fillcolor": "#000000",
           "hoverinfo": "skip",
           "line": {
            "color": "white",
            "width": 3
           },
           "mode": "lines",
           "opacity": 1,
           "showlegend": false,
           "type": "scatter",
           "x": [
            0,
            0,
            10,
            10,
            0
           ],
           "y": [
            0,
            53.5,
            53.5,
            0,
            0
           ]
          },
          {
           "fill": "toself",
           "fillcolor": "#008E97",
           "hoverinfo": "skip",
           "line": {
            "color": "white",
            "width": 3
           },
           "mode": "lines",
           "opacity": 1,
           "showlegend": false,
           "type": "scatter",
           "x": [
            110,
            110,
            120,
            120,
            110
           ],
           "y": [
            0,
            53.5,
            53.5,
            0,
            0
           ]
          },
          {
           "hoverinfo": "text",
           "hovertext": [
            "nflId:41243<br>displayName:C.J. Mosley<br>Player Speed:0.246 MPH",
            "nflId:41270<br>displayName:Lamarcus Joyner<br>Player Speed:1.432 MPH",
            "nflId:42467<br>displayName:Kwon Alexander<br>Player Speed:0.134 MPH",
            "nflId:43508<br>displayName:Will Parks<br>Player Speed:1.342 MPH",
            "nflId:44815<br>displayName:Solomon Thomas<br>Player Speed:0.157 MPH",
            "nflId:46141<br>displayName:Nathan Shepherd<br>Player Speed:0.224 MPH",
            "nflId:46186<br>displayName:Jordan Whitehead<br>Player Speed:1.745 MPH",
            "nflId:46211<br>displayName:D.J. Reed<br>Player Speed:1.767 MPH",
            "nflId:54469<br>displayName:Ahmad Gardner<br>Player Speed:1.074 MPH",
            "nflId:54491<br>displayName:Jermaine Johnson<br>Player Speed:0.559 MPH",
            "nflId:54582<br>displayName:Micheal Clemons<br>Player Speed:0.649 MPH"
           ],
           "marker": {
            "color": "#000000",
            "line": {
             "color": "#125740",
             "width": 2
            },
            "size": 10
           },
           "mode": "markers",
           "name": "NYJ",
           "type": "scatter",
           "x": [
            44.85,
            54.39,
            45.63,
            43.84,
            40.67,
            40.84,
            50.12,
            43.59,
            48.57,
            40.9,
            40.69
           ],
           "y": [
            26.25,
            26,
            30.67,
            21.02,
            28.69,
            32.24,
            33.87,
            36.62,
            16.76,
            24.07,
            36.65
           ]
          },
          {
           "hoverinfo": "text",
           "hovertext": [
            "nflId:42718<br>displayName:Raheem Mostert<br>Player Speed:0.045 MPH",
            "nflId:43447<br>displayName:Brandon Shell<br>Player Speed:0.0 MPH",
            "nflId:43454<br>displayName:Tyreek Hill<br>Player Speed:0.112 MPH",
            "nflId:46119<br>displayName:Connor Williams<br>Player Speed:0.0 MPH",
            "nflId:46203<br>displayName:Chase Edmonds<br>Player Speed:0.246 MPH",
            "nflId:47820<br>displayName:Greg Little<br>Player Speed:0.0 MPH",
            "nflId:52447<br>displayName:Robert Hunt<br>Player Speed:0.0 MPH",
            "nflId:53435<br>displayName:Jaylen Waddle<br>Player Speed:0.268 MPH",
            "nflId:53471<br>displayName:Liam Eichenberg<br>Player Speed:0.022 MPH",
            "nflId:54712<br>displayName:Skylar Thompson<br>Player Speed:0.067 MPH",
            "nflId:54931<br>displayName:Tanner Conner<br>Player Speed:0.022 MPH"
           ],
           "marker": {
            "color": "#008E97",
            "line": {
             "color": "#FC4C02",
             "width": 2
            },
            "size": 10
           },
           "mode": "markers",
           "name": "MIA",
           "type": "scatter",
           "x": [
            35.1,
            38.95,
            39.59,
            39.9,
            34.85,
            38.97,
            39.23,
            38.3,
            39.11,
            34.83,
            38.8
           ],
           "y": [
            26.77,
            33,
            20.99,
            29.67,
            32.88,
            26.81,
            28.43,
            19.29,
            31.32,
            29.86,
            34.71
           ]
          },
          {
           "hoverinfo": "none",
           "marker": {
            "color": "#CBB67C",
            "line": {
             "color": "#663831",
             "width": 2
            },
            "size": 10
           },
           "mode": "markers",
           "name": "football",
           "type": "scatter",
           "x": [
            40.0900001525879
           ],
           "y": [
            29.7700004577637
           ]
          }
         ],
         "name": "76"
        },
        {
         "data": [
          {
           "hoverinfo": "none",
           "mode": "text",
           "showlegend": false,
           "text": [
            "10",
            "20",
            "30",
            "40",
            "50",
            "40",
            "30",
            "20",
            "10"
           ],
           "textfont": {
            "color": "#ffffff",
            "family": "Courier New, monospace",
            "size": 30
           },
           "type": "scatter",
           "x": [
            20,
            30,
            40,
            50,
            60,
            70,
            80,
            90,
            100
           ],
           "y": [
            5,
            5,
            5,
            5,
            5,
            5,
            5,
            5,
            5
           ]
          },
          {
           "hoverinfo": "none",
           "mode": "text",
           "showlegend": false,
           "text": [
            "10",
            "20",
            "30",
            "40",
            "50",
            "40",
            "30",
            "20",
            "10"
           ],
           "textfont": {
            "color": "#ffffff",
            "family": "Courier New, monospace",
            "size": 30
           },
           "type": "scatter",
           "x": [
            20,
            30,
            40,
            50,
            60,
            70,
            80,
            90,
            100
           ],
           "y": [
            48.5,
            48.5,
            48.5,
            48.5,
            48.5,
            48.5,
            48.5,
            48.5,
            48.5
           ]
          },
          {
           "hoverinfo": "none",
           "line": {
            "color": "blue",
            "dash": "dash"
           },
           "showlegend": false,
           "type": "scatter",
           "x": [
            40,
            40
           ],
           "y": [
            0,
            53.5
           ]
          },
          {
           "hoverinfo": "none",
           "line": {
            "color": "yellow",
            "dash": "dash"
           },
           "showlegend": false,
           "type": "scatter",
           "x": [
            45,
            45
           ],
           "y": [
            0,
            53.5
           ]
          },
          {
           "fill": "toself",
           "fillcolor": "#000000",
           "hoverinfo": "skip",
           "line": {
            "color": "white",
            "width": 3
           },
           "mode": "lines",
           "opacity": 1,
           "showlegend": false,
           "type": "scatter",
           "x": [
            0,
            0,
            10,
            10,
            0
           ],
           "y": [
            0,
            53.5,
            53.5,
            0,
            0
           ]
          },
          {
           "fill": "toself",
           "fillcolor": "#008E97",
           "hoverinfo": "skip",
           "line": {
            "color": "white",
            "width": 3
           },
           "mode": "lines",
           "opacity": 1,
           "showlegend": false,
           "type": "scatter",
           "x": [
            110,
            110,
            120,
            120,
            110
           ],
           "y": [
            0,
            53.5,
            53.5,
            0,
            0
           ]
          },
          {
           "hoverinfo": "text",
           "hovertext": [
            "nflId:41243<br>displayName:C.J. Mosley<br>Player Speed:0.045 MPH",
            "nflId:41270<br>displayName:Lamarcus Joyner<br>Player Speed:1.208 MPH",
            "nflId:42467<br>displayName:Kwon Alexander<br>Player Speed:0.134 MPH",
            "nflId:43508<br>displayName:Will Parks<br>Player Speed:1.23 MPH",
            "nflId:44815<br>displayName:Solomon Thomas<br>Player Speed:0.134 MPH",
            "nflId:46141<br>displayName:Nathan Shepherd<br>Player Speed:0.425 MPH",
            "nflId:46186<br>displayName:Jordan Whitehead<br>Player Speed:1.745 MPH",
            "nflId:46211<br>displayName:D.J. Reed<br>Player Speed:1.499 MPH",
            "nflId:54469<br>displayName:Ahmad Gardner<br>Player Speed:1.007 MPH",
            "nflId:54491<br>displayName:Jermaine Johnson<br>Player Speed:0.626 MPH",
            "nflId:54582<br>displayName:Micheal Clemons<br>Player Speed:0.738 MPH"
           ],
           "marker": {
            "color": "#000000",
            "line": {
             "color": "#125740",
             "width": 2
            },
            "size": 10
           },
           "mode": "markers",
           "name": "NYJ",
           "type": "scatter",
           "x": [
            44.85,
            54.45,
            45.64,
            43.89,
            40.67,
            40.84,
            50.04,
            43.6,
            48.62,
            40.9,
            40.72
           ],
           "y": [
            26.25,
            25.97,
            30.67,
            21.02,
            28.7,
            32.23,
            33.9,
            36.55,
            16.75,
            24.1,
            36.65
           ]
          },
          {
           "hoverinfo": "text",
           "hovertext": [
            "nflId:42718<br>displayName:Raheem Mostert<br>Player Speed:0.045 MPH",
            "nflId:43447<br>displayName:Brandon Shell<br>Player Speed:0.0 MPH",
            "nflId:43454<br>displayName:Tyreek Hill<br>Player Speed:0.112 MPH",
            "nflId:46119<br>displayName:Connor Williams<br>Player Speed:0.0 MPH",
            "nflId:46203<br>displayName:Chase Edmonds<br>Player Speed:0.224 MPH",
            "nflId:47820<br>displayName:Greg Little<br>Player Speed:0.0 MPH",
            "nflId:52447<br>displayName:Robert Hunt<br>Player Speed:0.0 MPH",
            "nflId:53435<br>displayName:Jaylen Waddle<br>Player Speed:0.492 MPH",
            "nflId:53471<br>displayName:Liam Eichenberg<br>Player Speed:0.0 MPH",
            "nflId:54712<br>displayName:Skylar Thompson<br>Player Speed:0.067 MPH",
            "nflId:54931<br>displayName:Tanner Conner<br>Player Speed:0.022 MPH"
           ],
           "marker": {
            "color": "#008E97",
            "line": {
             "color": "#FC4C02",
             "width": 2
            },
            "size": 10
           },
           "mode": "markers",
           "name": "MIA",
           "type": "scatter",
           "x": [
            35.1,
            38.95,
            39.6,
            39.9,
            34.85,
            38.97,
            39.23,
            38.28,
            39.11,
            34.82,
            38.8
           ],
           "y": [
            26.77,
            33,
            20.99,
            29.67,
            32.87,
            26.81,
            28.43,
            19.29,
            31.32,
            29.85,
            34.72
           ]
          },
          {
           "hoverinfo": "none",
           "marker": {
            "color": "#CBB67C",
            "line": {
             "color": "#663831",
             "width": 2
            },
            "size": 10
           },
           "mode": "markers",
           "name": "football",
           "type": "scatter",
           "x": [
            40.0999984741211
           ],
           "y": [
            29.7700004577637
           ]
          }
         ],
         "name": "77"
        },
        {
         "data": [
          {
           "hoverinfo": "none",
           "mode": "text",
           "showlegend": false,
           "text": [
            "10",
            "20",
            "30",
            "40",
            "50",
            "40",
            "30",
            "20",
            "10"
           ],
           "textfont": {
            "color": "#ffffff",
            "family": "Courier New, monospace",
            "size": 30
           },
           "type": "scatter",
           "x": [
            20,
            30,
            40,
            50,
            60,
            70,
            80,
            90,
            100
           ],
           "y": [
            5,
            5,
            5,
            5,
            5,
            5,
            5,
            5,
            5
           ]
          },
          {
           "hoverinfo": "none",
           "mode": "text",
           "showlegend": false,
           "text": [
            "10",
            "20",
            "30",
            "40",
            "50",
            "40",
            "30",
            "20",
            "10"
           ],
           "textfont": {
            "color": "#ffffff",
            "family": "Courier New, monospace",
            "size": 30
           },
           "type": "scatter",
           "x": [
            20,
            30,
            40,
            50,
            60,
            70,
            80,
            90,
            100
           ],
           "y": [
            48.5,
            48.5,
            48.5,
            48.5,
            48.5,
            48.5,
            48.5,
            48.5,
            48.5
           ]
          },
          {
           "hoverinfo": "none",
           "line": {
            "color": "blue",
            "dash": "dash"
           },
           "showlegend": false,
           "type": "scatter",
           "x": [
            40,
            40
           ],
           "y": [
            0,
            53.5
           ]
          },
          {
           "hoverinfo": "none",
           "line": {
            "color": "yellow",
            "dash": "dash"
           },
           "showlegend": false,
           "type": "scatter",
           "x": [
            45,
            45
           ],
           "y": [
            0,
            53.5
           ]
          },
          {
           "fill": "toself",
           "fillcolor": "#000000",
           "hoverinfo": "skip",
           "line": {
            "color": "white",
            "width": 3
           },
           "mode": "lines",
           "opacity": 1,
           "showlegend": false,
           "type": "scatter",
           "x": [
            0,
            0,
            10,
            10,
            0
           ],
           "y": [
            0,
            53.5,
            53.5,
            0,
            0
           ]
          },
          {
           "fill": "toself",
           "fillcolor": "#008E97",
           "hoverinfo": "skip",
           "line": {
            "color": "white",
            "width": 3
           },
           "mode": "lines",
           "opacity": 1,
           "showlegend": false,
           "type": "scatter",
           "x": [
            110,
            110,
            120,
            120,
            110
           ],
           "y": [
            0,
            53.5,
            53.5,
            0,
            0
           ]
          },
          {
           "hoverinfo": "text",
           "hovertext": [
            "nflId:41243<br>displayName:C.J. Mosley<br>Player Speed:0.022 MPH",
            "nflId:41270<br>displayName:Lamarcus Joyner<br>Player Speed:0.94 MPH",
            "nflId:42467<br>displayName:Kwon Alexander<br>Player Speed:0.134 MPH",
            "nflId:43508<br>displayName:Will Parks<br>Player Speed:1.141 MPH",
            "nflId:44815<br>displayName:Solomon Thomas<br>Player Speed:0.134 MPH",
            "nflId:46141<br>displayName:Nathan Shepherd<br>Player Speed:0.425 MPH",
            "nflId:46186<br>displayName:Jordan Whitehead<br>Player Speed:1.879 MPH",
            "nflId:46211<br>displayName:D.J. Reed<br>Player Speed:1.208 MPH",
            "nflId:54469<br>displayName:Ahmad Gardner<br>Player Speed:0.895 MPH",
            "nflId:54491<br>displayName:Jermaine Johnson<br>Player Speed:0.649 MPH",
            "nflId:54582<br>displayName:Micheal Clemons<br>Player Speed:0.783 MPH"
           ],
           "marker": {
            "color": "#000000",
            "line": {
             "color": "#125740",
             "width": 2
            },
            "size": 10
           },
           "mode": "markers",
           "name": "NYJ",
           "type": "scatter",
           "x": [
            44.85,
            54.49,
            45.65,
            43.95,
            40.68,
            40.84,
            49.97,
            43.62,
            48.66,
            40.91,
            40.75
           ],
           "y": [
            26.25,
            25.95,
            30.66,
            21.02,
            28.69,
            32.21,
            33.93,
            36.5,
            16.74,
            24.12,
            36.64
           ]
          },
          {
           "hoverinfo": "text",
           "hovertext": [
            "nflId:42718<br>displayName:Raheem Mostert<br>Player Speed:0.045 MPH",
            "nflId:43447<br>displayName:Brandon Shell<br>Player Speed:0.0 MPH",
            "nflId:43454<br>displayName:Tyreek Hill<br>Player Speed:0.089 MPH",
            "nflId:46119<br>displayName:Connor Williams<br>Player Speed:0.0 MPH",
            "nflId:46203<br>displayName:Chase Edmonds<br>Player Speed:0.201 MPH",
            "nflId:47820<br>displayName:Greg Little<br>Player Speed:0.0 MPH",
            "nflId:52447<br>displayName:Robert Hunt<br>Player Speed:0.0 MPH",
            "nflId:53435<br>displayName:Jaylen Waddle<br>Player Speed:0.828 MPH",
            "nflId:53471<br>displayName:Liam Eichenberg<br>Player Speed:0.0 MPH",
            "nflId:54712<br>displayName:Skylar Thompson<br>Player Speed:0.067 MPH",
            "nflId:54931<br>displayName:Tanner Conner<br>Player Speed:0.022 MPH"
           ],
           "marker": {
            "color": "#008E97",
            "line": {
             "color": "#FC4C02",
             "width": 2
            },
            "size": 10
           },
           "mode": "markers",
           "name": "MIA",
           "type": "scatter",
           "x": [
            35.1,
            38.95,
            39.6,
            39.9,
            34.84,
            38.97,
            39.23,
            38.25,
            39.12,
            34.82,
            38.8
           ],
           "y": [
            26.78,
            33,
            20.98,
            29.67,
            32.86,
            26.8,
            28.43,
            19.32,
            31.32,
            29.84,
            34.74
           ]
          },
          {
           "hoverinfo": "none",
           "marker": {
            "color": "#CBB67C",
            "line": {
             "color": "#663831",
             "width": 2
            },
            "size": 10
           },
           "mode": "markers",
           "name": "football",
           "type": "scatter",
           "x": [
            40.0999984741211
           ],
           "y": [
            29.7700004577637
           ]
          }
         ],
         "name": "78"
        },
        {
         "data": [
          {
           "hoverinfo": "none",
           "mode": "text",
           "showlegend": false,
           "text": [
            "10",
            "20",
            "30",
            "40",
            "50",
            "40",
            "30",
            "20",
            "10"
           ],
           "textfont": {
            "color": "#ffffff",
            "family": "Courier New, monospace",
            "size": 30
           },
           "type": "scatter",
           "x": [
            20,
            30,
            40,
            50,
            60,
            70,
            80,
            90,
            100
           ],
           "y": [
            5,
            5,
            5,
            5,
            5,
            5,
            5,
            5,
            5
           ]
          },
          {
           "hoverinfo": "none",
           "mode": "text",
           "showlegend": false,
           "text": [
            "10",
            "20",
            "30",
            "40",
            "50",
            "40",
            "30",
            "20",
            "10"
           ],
           "textfont": {
            "color": "#ffffff",
            "family": "Courier New, monospace",
            "size": 30
           },
           "type": "scatter",
           "x": [
            20,
            30,
            40,
            50,
            60,
            70,
            80,
            90,
            100
           ],
           "y": [
            48.5,
            48.5,
            48.5,
            48.5,
            48.5,
            48.5,
            48.5,
            48.5,
            48.5
           ]
          },
          {
           "hoverinfo": "none",
           "line": {
            "color": "blue",
            "dash": "dash"
           },
           "showlegend": false,
           "type": "scatter",
           "x": [
            40,
            40
           ],
           "y": [
            0,
            53.5
           ]
          },
          {
           "hoverinfo": "none",
           "line": {
            "color": "yellow",
            "dash": "dash"
           },
           "showlegend": false,
           "type": "scatter",
           "x": [
            45,
            45
           ],
           "y": [
            0,
            53.5
           ]
          },
          {
           "fill": "toself",
           "fillcolor": "#000000",
           "hoverinfo": "skip",
           "line": {
            "color": "white",
            "width": 3
           },
           "mode": "lines",
           "opacity": 1,
           "showlegend": false,
           "type": "scatter",
           "x": [
            0,
            0,
            10,
            10,
            0
           ],
           "y": [
            0,
            53.5,
            53.5,
            0,
            0
           ]
          },
          {
           "fill": "toself",
           "fillcolor": "#008E97",
           "hoverinfo": "skip",
           "line": {
            "color": "white",
            "width": 3
           },
           "mode": "lines",
           "opacity": 1,
           "showlegend": false,
           "type": "scatter",
           "x": [
            110,
            110,
            120,
            120,
            110
           ],
           "y": [
            0,
            53.5,
            53.5,
            0,
            0
           ]
          },
          {
           "hoverinfo": "text",
           "hovertext": [
            "nflId:41243<br>displayName:C.J. Mosley<br>Player Speed:0.246 MPH",
            "nflId:41270<br>displayName:Lamarcus Joyner<br>Player Speed:0.693 MPH",
            "nflId:42467<br>displayName:Kwon Alexander<br>Player Speed:0.112 MPH",
            "nflId:43508<br>displayName:Will Parks<br>Player Speed:0.984 MPH",
            "nflId:44815<br>displayName:Solomon Thomas<br>Player Speed:0.134 MPH",
            "nflId:46141<br>displayName:Nathan Shepherd<br>Player Speed:0.447 MPH",
            "nflId:46186<br>displayName:Jordan Whitehead<br>Player Speed:1.991 MPH",
            "nflId:46211<br>displayName:D.J. Reed<br>Player Speed:0.917 MPH",
            "nflId:54469<br>displayName:Ahmad Gardner<br>Player Speed:0.738 MPH",
            "nflId:54491<br>displayName:Jermaine Johnson<br>Player Speed:0.671 MPH",
            "nflId:54582<br>displayName:Micheal Clemons<br>Player Speed:0.716 MPH"
           ],
           "marker": {
            "color": "#000000",
            "line": {
             "color": "#125740",
             "width": 2
            },
            "size": 10
           },
           "mode": "markers",
           "name": "NYJ",
           "type": "scatter",
           "x": [
            44.85,
            54.51,
            45.65,
            43.99,
            40.68,
            40.83,
            49.89,
            43.63,
            48.69,
            40.92,
            40.77
           ],
           "y": [
            26.24,
            25.95,
            30.66,
            21.04,
            28.69,
            32.19,
            33.97,
            36.45,
            16.74,
            24.15,
            36.63
           ]
          },
          {
           "hoverinfo": "text",
           "hovertext": [
            "nflId:42718<br>displayName:Raheem Mostert<br>Player Speed:0.045 MPH",
            "nflId:43447<br>displayName:Brandon Shell<br>Player Speed:0.0 MPH",
            "nflId:43454<br>displayName:Tyreek Hill<br>Player Speed:0.089 MPH",
            "nflId:46119<br>displayName:Connor Williams<br>Player Speed:0.0 MPH",
            "nflId:46203<br>displayName:Chase Edmonds<br>Player Speed:0.134 MPH",
            "nflId:47820<br>displayName:Greg Little<br>Player Speed:0.0 MPH",
            "nflId:52447<br>displayName:Robert Hunt<br>Player Speed:0.0 MPH",
            "nflId:53435<br>displayName:Jaylen Waddle<br>Player Speed:1.879 MPH",
            "nflId:53471<br>displayName:Liam Eichenberg<br>Player Speed:0.0 MPH",
            "nflId:54712<br>displayName:Skylar Thompson<br>Player Speed:0.067 MPH",
            "nflId:54931<br>displayName:Tanner Conner<br>Player Speed:0.022 MPH"
           ],
           "marker": {
            "color": "#008E97",
            "line": {
             "color": "#FC4C02",
             "width": 2
            },
            "size": 10
           },
           "mode": "markers",
           "name": "MIA",
           "type": "scatter",
           "x": [
            35.1,
            38.95,
            39.61,
            39.9,
            34.84,
            38.97,
            39.23,
            38.21,
            39.12,
            34.82,
            38.8
           ],
           "y": [
            26.78,
            33,
            20.99,
            29.67,
            32.88,
            26.8,
            28.43,
            19.41,
            31.31,
            29.84,
            34.75
           ]
          },
          {
           "hoverinfo": "none",
           "marker": {
            "color": "#CBB67C",
            "line": {
             "color": "#663831",
             "width": 2
            },
            "size": 10
           },
           "mode": "markers",
           "name": "football",
           "type": "scatter",
           "x": [
            40.0999984741211
           ],
           "y": [
            29.7700004577637
           ]
          }
         ],
         "name": "79"
        },
        {
         "data": [
          {
           "hoverinfo": "none",
           "mode": "text",
           "showlegend": false,
           "text": [
            "10",
            "20",
            "30",
            "40",
            "50",
            "40",
            "30",
            "20",
            "10"
           ],
           "textfont": {
            "color": "#ffffff",
            "family": "Courier New, monospace",
            "size": 30
           },
           "type": "scatter",
           "x": [
            20,
            30,
            40,
            50,
            60,
            70,
            80,
            90,
            100
           ],
           "y": [
            5,
            5,
            5,
            5,
            5,
            5,
            5,
            5,
            5
           ]
          },
          {
           "hoverinfo": "none",
           "mode": "text",
           "showlegend": false,
           "text": [
            "10",
            "20",
            "30",
            "40",
            "50",
            "40",
            "30",
            "20",
            "10"
           ],
           "textfont": {
            "color": "#ffffff",
            "family": "Courier New, monospace",
            "size": 30
           },
           "type": "scatter",
           "x": [
            20,
            30,
            40,
            50,
            60,
            70,
            80,
            90,
            100
           ],
           "y": [
            48.5,
            48.5,
            48.5,
            48.5,
            48.5,
            48.5,
            48.5,
            48.5,
            48.5
           ]
          },
          {
           "hoverinfo": "none",
           "line": {
            "color": "blue",
            "dash": "dash"
           },
           "showlegend": false,
           "type": "scatter",
           "x": [
            40,
            40
           ],
           "y": [
            0,
            53.5
           ]
          },
          {
           "hoverinfo": "none",
           "line": {
            "color": "yellow",
            "dash": "dash"
           },
           "showlegend": false,
           "type": "scatter",
           "x": [
            45,
            45
           ],
           "y": [
            0,
            53.5
           ]
          },
          {
           "fill": "toself",
           "fillcolor": "#000000",
           "hoverinfo": "skip",
           "line": {
            "color": "white",
            "width": 3
           },
           "mode": "lines",
           "opacity": 1,
           "showlegend": false,
           "type": "scatter",
           "x": [
            0,
            0,
            10,
            10,
            0
           ],
           "y": [
            0,
            53.5,
            53.5,
            0,
            0
           ]
          },
          {
           "fill": "toself",
           "fillcolor": "#008E97",
           "hoverinfo": "skip",
           "line": {
            "color": "white",
            "width": 3
           },
           "mode": "lines",
           "opacity": 1,
           "showlegend": false,
           "type": "scatter",
           "x": [
            110,
            110,
            120,
            120,
            110
           ],
           "y": [
            0,
            53.5,
            53.5,
            0,
            0
           ]
          },
          {
           "hoverinfo": "text",
           "hovertext": [
            "nflId:41243<br>displayName:C.J. Mosley<br>Player Speed:0.246 MPH",
            "nflId:41270<br>displayName:Lamarcus Joyner<br>Player Speed:0.537 MPH",
            "nflId:42467<br>displayName:Kwon Alexander<br>Player Speed:0.112 MPH",
            "nflId:43508<br>displayName:Will Parks<br>Player Speed:0.895 MPH",
            "nflId:44815<br>displayName:Solomon Thomas<br>Player Speed:0.157 MPH",
            "nflId:46141<br>displayName:Nathan Shepherd<br>Player Speed:0.447 MPH",
            "nflId:46186<br>displayName:Jordan Whitehead<br>Player Speed:2.17 MPH",
            "nflId:46211<br>displayName:D.J. Reed<br>Player Speed:0.537 MPH",
            "nflId:54469<br>displayName:Ahmad Gardner<br>Player Speed:0.649 MPH",
            "nflId:54491<br>displayName:Jermaine Johnson<br>Player Speed:0.514 MPH",
            "nflId:54582<br>displayName:Micheal Clemons<br>Player Speed:0.604 MPH"
           ],
           "marker": {
            "color": "#000000",
            "line": {
             "color": "#125740",
             "width": 2
            },
            "size": 10
           },
           "mode": "markers",
           "name": "NYJ",
           "type": "scatter",
           "x": [
            44.86,
            54.54,
            45.66,
            44.03,
            40.69,
            40.83,
            49.8,
            43.65,
            48.73,
            40.93,
            40.79
           ],
           "y": [
            26.24,
            25.94,
            30.66,
            21.05,
            28.69,
            32.18,
            34.01,
            36.43,
            16.75,
            24.15,
            36.62
           ]
          },
          {
           "hoverinfo": "text",
           "hovertext": [
            "nflId:42718<br>displayName:Raheem Mostert<br>Player Speed:0.022 MPH",
            "nflId:43447<br>displayName:Brandon Shell<br>Player Speed:0.0 MPH",
            "nflId:43454<br>displayName:Tyreek Hill<br>Player Speed:0.067 MPH",
            "nflId:46119<br>displayName:Connor Williams<br>Player Speed:0.0 MPH",
            "nflId:46203<br>displayName:Chase Edmonds<br>Player Speed:0.134 MPH",
            "nflId:47820<br>displayName:Greg Little<br>Player Speed:0.0 MPH",
            "nflId:52447<br>displayName:Robert Hunt<br>Player Speed:0.0 MPH",
            "nflId:53435<br>displayName:Jaylen Waddle<br>Player Speed:2.729 MPH",
            "nflId:53471<br>displayName:Liam Eichenberg<br>Player Speed:0.0 MPH",
            "nflId:54712<br>displayName:Skylar Thompson<br>Player Speed:0.067 MPH",
            "nflId:54931<br>displayName:Tanner Conner<br>Player Speed:0.0 MPH"
           ],
           "marker": {
            "color": "#008E97",
            "line": {
             "color": "#FC4C02",
             "width": 2
            },
            "size": 10
           },
           "mode": "markers",
           "name": "MIA",
           "type": "scatter",
           "x": [
            35.09,
            38.96,
            39.61,
            39.9,
            34.84,
            38.96,
            39.23,
            38.16,
            39.12,
            34.81,
            38.8
           ],
           "y": [
            26.79,
            33.01,
            20.99,
            29.66,
            32.87,
            26.81,
            28.43,
            19.52,
            31.31,
            29.84,
            34.74
           ]
          },
          {
           "hoverinfo": "none",
           "marker": {
            "color": "#CBB67C",
            "line": {
             "color": "#663831",
             "width": 2
            },
            "size": 10
           },
           "mode": "markers",
           "name": "football",
           "type": "scatter",
           "x": [
            40.0999984741211
           ],
           "y": [
            29.7700004577637
           ]
          }
         ],
         "name": "80"
        },
        {
         "data": [
          {
           "hoverinfo": "none",
           "mode": "text",
           "showlegend": false,
           "text": [
            "10",
            "20",
            "30",
            "40",
            "50",
            "40",
            "30",
            "20",
            "10"
           ],
           "textfont": {
            "color": "#ffffff",
            "family": "Courier New, monospace",
            "size": 30
           },
           "type": "scatter",
           "x": [
            20,
            30,
            40,
            50,
            60,
            70,
            80,
            90,
            100
           ],
           "y": [
            5,
            5,
            5,
            5,
            5,
            5,
            5,
            5,
            5
           ]
          },
          {
           "hoverinfo": "none",
           "mode": "text",
           "showlegend": false,
           "text": [
            "10",
            "20",
            "30",
            "40",
            "50",
            "40",
            "30",
            "20",
            "10"
           ],
           "textfont": {
            "color": "#ffffff",
            "family": "Courier New, monospace",
            "size": 30
           },
           "type": "scatter",
           "x": [
            20,
            30,
            40,
            50,
            60,
            70,
            80,
            90,
            100
           ],
           "y": [
            48.5,
            48.5,
            48.5,
            48.5,
            48.5,
            48.5,
            48.5,
            48.5,
            48.5
           ]
          },
          {
           "hoverinfo": "none",
           "line": {
            "color": "blue",
            "dash": "dash"
           },
           "showlegend": false,
           "type": "scatter",
           "x": [
            40,
            40
           ],
           "y": [
            0,
            53.5
           ]
          },
          {
           "hoverinfo": "none",
           "line": {
            "color": "yellow",
            "dash": "dash"
           },
           "showlegend": false,
           "type": "scatter",
           "x": [
            45,
            45
           ],
           "y": [
            0,
            53.5
           ]
          },
          {
           "fill": "toself",
           "fillcolor": "#000000",
           "hoverinfo": "skip",
           "line": {
            "color": "white",
            "width": 3
           },
           "mode": "lines",
           "opacity": 1,
           "showlegend": false,
           "type": "scatter",
           "x": [
            0,
            0,
            10,
            10,
            0
           ],
           "y": [
            0,
            53.5,
            53.5,
            0,
            0
           ]
          },
          {
           "fill": "toself",
           "fillcolor": "#008E97",
           "hoverinfo": "skip",
           "line": {
            "color": "white",
            "width": 3
           },
           "mode": "lines",
           "opacity": 1,
           "showlegend": false,
           "type": "scatter",
           "x": [
            110,
            110,
            120,
            120,
            110
           ],
           "y": [
            0,
            53.5,
            53.5,
            0,
            0
           ]
          },
          {
           "hoverinfo": "text",
           "hovertext": [
            "nflId:41243<br>displayName:C.J. Mosley<br>Player Speed:0.291 MPH",
            "nflId:41270<br>displayName:Lamarcus Joyner<br>Player Speed:0.403 MPH",
            "nflId:42467<br>displayName:Kwon Alexander<br>Player Speed:0.112 MPH",
            "nflId:43508<br>displayName:Will Parks<br>Player Speed:1.051 MPH",
            "nflId:44815<br>displayName:Solomon Thomas<br>Player Speed:0.112 MPH",
            "nflId:46141<br>displayName:Nathan Shepherd<br>Player Speed:0.47 MPH",
            "nflId:46186<br>displayName:Jordan Whitehead<br>Player Speed:2.371 MPH",
            "nflId:46211<br>displayName:D.J. Reed<br>Player Speed:0.313 MPH",
            "nflId:54469<br>displayName:Ahmad Gardner<br>Player Speed:0.626 MPH",
            "nflId:54491<br>displayName:Jermaine Johnson<br>Player Speed:0.268 MPH",
            "nflId:54582<br>displayName:Micheal Clemons<br>Player Speed:0.492 MPH"
           ],
           "marker": {
            "color": "#000000",
            "line": {
             "color": "#125740",
             "width": 2
            },
            "size": 10
           },
           "mode": "markers",
           "name": "NYJ",
           "type": "scatter",
           "x": [
            44.87,
            54.57,
            45.67,
            44.07,
            40.67,
            40.83,
            49.71,
            43.66,
            48.75,
            40.93,
            40.81
           ],
           "y": [
            26.23,
            25.94,
            30.65,
            21.08,
            28.68,
            32.15,
            34.06,
            36.42,
            16.76,
            24.13,
            36.62
           ]
          },
          {
           "hoverinfo": "text",
           "hovertext": [
            "nflId:42718<br>displayName:Raheem Mostert<br>Player Speed:0.022 MPH",
            "nflId:43447<br>displayName:Brandon Shell<br>Player Speed:0.0 MPH",
            "nflId:43454<br>displayName:Tyreek Hill<br>Player Speed:0.067 MPH",
            "nflId:46119<br>displayName:Connor Williams<br>Player Speed:0.0 MPH",
            "nflId:46203<br>displayName:Chase Edmonds<br>Player Speed:0.112 MPH",
            "nflId:47820<br>displayName:Greg Little<br>Player Speed:0.0 MPH",
            "nflId:52447<br>displayName:Robert Hunt<br>Player Speed:0.0 MPH",
            "nflId:53435<br>displayName:Jaylen Waddle<br>Player Speed:3.557 MPH",
            "nflId:53471<br>displayName:Liam Eichenberg<br>Player Speed:0.0 MPH",
            "nflId:54712<br>displayName:Skylar Thompson<br>Player Speed:0.045 MPH",
            "nflId:54931<br>displayName:Tanner Conner<br>Player Speed:0.0 MPH"
           ],
           "marker": {
            "color": "#008E97",
            "line": {
             "color": "#FC4C02",
             "width": 2
            },
            "size": 10
           },
           "mode": "markers",
           "name": "MIA",
           "type": "scatter",
           "x": [
            35.09,
            38.95,
            39.61,
            39.9,
            34.83,
            38.96,
            39.23,
            38.1,
            39.13,
            34.81,
            38.8
           ],
           "y": [
            26.79,
            33.01,
            20.99,
            29.66,
            32.87,
            26.8,
            28.42,
            19.66,
            31.31,
            29.83,
            34.73
           ]
          },
          {
           "hoverinfo": "none",
           "marker": {
            "color": "#CBB67C",
            "line": {
             "color": "#663831",
             "width": 2
            },
            "size": 10
           },
           "mode": "markers",
           "name": "football",
           "type": "scatter",
           "x": [
            40.0999984741211
           ],
           "y": [
            29.7700004577637
           ]
          }
         ],
         "name": "81"
        },
        {
         "data": [
          {
           "hoverinfo": "none",
           "mode": "text",
           "showlegend": false,
           "text": [
            "10",
            "20",
            "30",
            "40",
            "50",
            "40",
            "30",
            "20",
            "10"
           ],
           "textfont": {
            "color": "#ffffff",
            "family": "Courier New, monospace",
            "size": 30
           },
           "type": "scatter",
           "x": [
            20,
            30,
            40,
            50,
            60,
            70,
            80,
            90,
            100
           ],
           "y": [
            5,
            5,
            5,
            5,
            5,
            5,
            5,
            5,
            5
           ]
          },
          {
           "hoverinfo": "none",
           "mode": "text",
           "showlegend": false,
           "text": [
            "10",
            "20",
            "30",
            "40",
            "50",
            "40",
            "30",
            "20",
            "10"
           ],
           "textfont": {
            "color": "#ffffff",
            "family": "Courier New, monospace",
            "size": 30
           },
           "type": "scatter",
           "x": [
            20,
            30,
            40,
            50,
            60,
            70,
            80,
            90,
            100
           ],
           "y": [
            48.5,
            48.5,
            48.5,
            48.5,
            48.5,
            48.5,
            48.5,
            48.5,
            48.5
           ]
          },
          {
           "hoverinfo": "none",
           "line": {
            "color": "blue",
            "dash": "dash"
           },
           "showlegend": false,
           "type": "scatter",
           "x": [
            40,
            40
           ],
           "y": [
            0,
            53.5
           ]
          },
          {
           "hoverinfo": "none",
           "line": {
            "color": "yellow",
            "dash": "dash"
           },
           "showlegend": false,
           "type": "scatter",
           "x": [
            45,
            45
           ],
           "y": [
            0,
            53.5
           ]
          },
          {
           "fill": "toself",
           "fillcolor": "#000000",
           "hoverinfo": "skip",
           "line": {
            "color": "white",
            "width": 3
           },
           "mode": "lines",
           "opacity": 1,
           "showlegend": false,
           "type": "scatter",
           "x": [
            0,
            0,
            10,
            10,
            0
           ],
           "y": [
            0,
            53.5,
            53.5,
            0,
            0
           ]
          },
          {
           "fill": "toself",
           "fillcolor": "#008E97",
           "hoverinfo": "skip",
           "line": {
            "color": "white",
            "width": 3
           },
           "mode": "lines",
           "opacity": 1,
           "showlegend": false,
           "type": "scatter",
           "x": [
            110,
            110,
            120,
            120,
            110
           ],
           "y": [
            0,
            53.5,
            53.5,
            0,
            0
           ]
          },
          {
           "hoverinfo": "text",
           "hovertext": [
            "nflId:41243<br>displayName:C.J. Mosley<br>Player Speed:0.134 MPH",
            "nflId:41270<br>displayName:Lamarcus Joyner<br>Player Speed:0.425 MPH",
            "nflId:42467<br>displayName:Kwon Alexander<br>Player Speed:0.089 MPH",
            "nflId:43508<br>displayName:Will Parks<br>Player Speed:1.253 MPH",
            "nflId:44815<br>displayName:Solomon Thomas<br>Player Speed:0.157 MPH",
            "nflId:46141<br>displayName:Nathan Shepherd<br>Player Speed:0.403 MPH",
            "nflId:46186<br>displayName:Jordan Whitehead<br>Player Speed:2.617 MPH",
            "nflId:46211<br>displayName:D.J. Reed<br>Player Speed:0.403 MPH",
            "nflId:54469<br>displayName:Ahmad Gardner<br>Player Speed:0.716 MPH",
            "nflId:54491<br>displayName:Jermaine Johnson<br>Player Speed:0.246 MPH",
            "nflId:54582<br>displayName:Micheal Clemons<br>Player Speed:0.358 MPH"
           ],
           "marker": {
            "color": "#000000",
            "line": {
             "color": "#125740",
             "width": 2
            },
            "size": 10
           },
           "mode": "markers",
           "name": "NYJ",
           "type": "scatter",
           "x": [
            44.87,
            54.58,
            45.67,
            44.1,
            40.65,
            40.83,
            49.61,
            43.67,
            48.77,
            40.9,
            40.82
           ],
           "y": [
            26.24,
            25.93,
            30.65,
            21.12,
            28.67,
            32.14,
            34.11,
            36.43,
            16.79,
            24.15,
            36.61
           ]
          },
          {
           "hoverinfo": "text",
           "hovertext": [
            "nflId:42718<br>displayName:Raheem Mostert<br>Player Speed:0.022 MPH",
            "nflId:43447<br>displayName:Brandon Shell<br>Player Speed:0.0 MPH",
            "nflId:43454<br>displayName:Tyreek Hill<br>Player Speed:0.067 MPH",
            "nflId:46119<br>displayName:Connor Williams<br>Player Speed:0.0 MPH",
            "nflId:46203<br>displayName:Chase Edmonds<br>Player Speed:0.112 MPH",
            "nflId:47820<br>displayName:Greg Little<br>Player Speed:0.0 MPH",
            "nflId:52447<br>displayName:Robert Hunt<br>Player Speed:0.0 MPH",
            "nflId:53435<br>displayName:Jaylen Waddle<br>Player Speed:4.675 MPH",
            "nflId:53471<br>displayName:Liam Eichenberg<br>Player Speed:0.0 MPH",
            "nflId:54712<br>displayName:Skylar Thompson<br>Player Speed:0.045 MPH",
            "nflId:54931<br>displayName:Tanner Conner<br>Player Speed:0.0 MPH"
           ],
           "marker": {
            "color": "#008E97",
            "line": {
             "color": "#FC4C02",
             "width": 2
            },
            "size": 10
           },
           "mode": "markers",
           "name": "MIA",
           "type": "scatter",
           "x": [
            35.09,
            38.95,
            39.61,
            39.9,
            34.83,
            38.96,
            39.23,
            38.04,
            39.13,
            34.81,
            38.8
           ],
           "y": [
            26.79,
            33.01,
            20.99,
            29.66,
            32.86,
            26.81,
            28.42,
            19.87,
            31.31,
            29.83,
            34.73
           ]
          },
          {
           "hoverinfo": "none",
           "marker": {
            "color": "#CBB67C",
            "line": {
             "color": "#663831",
             "width": 2
            },
            "size": 10
           },
           "mode": "markers",
           "name": "football",
           "type": "scatter",
           "x": [
            40.0999984741211
           ],
           "y": [
            29.7700004577637
           ]
          }
         ],
         "name": "82"
        },
        {
         "data": [
          {
           "hoverinfo": "none",
           "mode": "text",
           "showlegend": false,
           "text": [
            "10",
            "20",
            "30",
            "40",
            "50",
            "40",
            "30",
            "20",
            "10"
           ],
           "textfont": {
            "color": "#ffffff",
            "family": "Courier New, monospace",
            "size": 30
           },
           "type": "scatter",
           "x": [
            20,
            30,
            40,
            50,
            60,
            70,
            80,
            90,
            100
           ],
           "y": [
            5,
            5,
            5,
            5,
            5,
            5,
            5,
            5,
            5
           ]
          },
          {
           "hoverinfo": "none",
           "mode": "text",
           "showlegend": false,
           "text": [
            "10",
            "20",
            "30",
            "40",
            "50",
            "40",
            "30",
            "20",
            "10"
           ],
           "textfont": {
            "color": "#ffffff",
            "family": "Courier New, monospace",
            "size": 30
           },
           "type": "scatter",
           "x": [
            20,
            30,
            40,
            50,
            60,
            70,
            80,
            90,
            100
           ],
           "y": [
            48.5,
            48.5,
            48.5,
            48.5,
            48.5,
            48.5,
            48.5,
            48.5,
            48.5
           ]
          },
          {
           "hoverinfo": "none",
           "line": {
            "color": "blue",
            "dash": "dash"
           },
           "showlegend": false,
           "type": "scatter",
           "x": [
            40,
            40
           ],
           "y": [
            0,
            53.5
           ]
          },
          {
           "hoverinfo": "none",
           "line": {
            "color": "yellow",
            "dash": "dash"
           },
           "showlegend": false,
           "type": "scatter",
           "x": [
            45,
            45
           ],
           "y": [
            0,
            53.5
           ]
          },
          {
           "fill": "toself",
           "fillcolor": "#000000",
           "hoverinfo": "skip",
           "line": {
            "color": "white",
            "width": 3
           },
           "mode": "lines",
           "opacity": 1,
           "showlegend": false,
           "type": "scatter",
           "x": [
            0,
            0,
            10,
            10,
            0
           ],
           "y": [
            0,
            53.5,
            53.5,
            0,
            0
           ]
          },
          {
           "fill": "toself",
           "fillcolor": "#008E97",
           "hoverinfo": "skip",
           "line": {
            "color": "white",
            "width": 3
           },
           "mode": "lines",
           "opacity": 1,
           "showlegend": false,
           "type": "scatter",
           "x": [
            110,
            110,
            120,
            120,
            110
           ],
           "y": [
            0,
            53.5,
            53.5,
            0,
            0
           ]
          },
          {
           "hoverinfo": "text",
           "hovertext": [
            "nflId:41243<br>displayName:C.J. Mosley<br>Player Speed:0.045 MPH",
            "nflId:41270<br>displayName:Lamarcus Joyner<br>Player Speed:0.291 MPH",
            "nflId:42467<br>displayName:Kwon Alexander<br>Player Speed:0.089 MPH",
            "nflId:43508<br>displayName:Will Parks<br>Player Speed:1.454 MPH",
            "nflId:44815<br>displayName:Solomon Thomas<br>Player Speed:0.134 MPH",
            "nflId:46141<br>displayName:Nathan Shepherd<br>Player Speed:0.358 MPH",
            "nflId:46186<br>displayName:Jordan Whitehead<br>Player Speed:2.997 MPH",
            "nflId:46211<br>displayName:D.J. Reed<br>Player Speed:0.693 MPH",
            "nflId:54469<br>displayName:Ahmad Gardner<br>Player Speed:0.872 MPH",
            "nflId:54491<br>displayName:Jermaine Johnson<br>Player Speed:0.313 MPH",
            "nflId:54582<br>displayName:Micheal Clemons<br>Player Speed:0.224 MPH"
           ],
           "marker": {
            "color": "#000000",
            "line": {
             "color": "#125740",
             "width": 2
            },
            "size": 10
           },
           "mode": "markers",
           "name": "NYJ",
           "type": "scatter",
           "x": [
            44.86,
            54.6,
            45.66,
            44.14,
            40.64,
            40.83,
            49.5,
            43.68,
            48.79,
            40.88,
            40.83
           ],
           "y": [
            26.24,
            25.93,
            30.65,
            21.17,
            28.67,
            32.13,
            34.16,
            36.45,
            16.82,
            24.17,
            36.62
           ]
          },
          {
           "hoverinfo": "text",
           "hovertext": [
            "nflId:42718<br>displayName:Raheem Mostert<br>Player Speed:0.022 MPH",
            "nflId:43447<br>displayName:Brandon Shell<br>Player Speed:0.0 MPH",
            "nflId:43454<br>displayName:Tyreek Hill<br>Player Speed:0.045 MPH",
            "nflId:46119<br>displayName:Connor Williams<br>Player Speed:0.0 MPH",
            "nflId:46203<br>displayName:Chase Edmonds<br>Player Speed:0.067 MPH",
            "nflId:47820<br>displayName:Greg Little<br>Player Speed:0.0 MPH",
            "nflId:52447<br>displayName:Robert Hunt<br>Player Speed:0.0 MPH",
            "nflId:53435<br>displayName:Jaylen Waddle<br>Player Speed:5.838 MPH",
            "nflId:53471<br>displayName:Liam Eichenberg<br>Player Speed:0.0 MPH",
            "nflId:54712<br>displayName:Skylar Thompson<br>Player Speed:0.045 MPH",
            "nflId:54931<br>displayName:Tanner Conner<br>Player Speed:0.0 MPH"
           ],
           "marker": {
            "color": "#008E97",
            "line": {
             "color": "#FC4C02",
             "width": 2
            },
            "size": 10
           },
           "mode": "markers",
           "name": "MIA",
           "type": "scatter",
           "x": [
            35.1,
            38.95,
            39.61,
            39.91,
            34.83,
            38.96,
            39.22,
            37.98,
            39.14,
            34.82,
            38.79
           ],
           "y": [
            26.79,
            33,
            20.98,
            29.66,
            32.88,
            26.81,
            28.42,
            20.12,
            31.31,
            29.82,
            34.73
           ]
          },
          {
           "hoverinfo": "none",
           "marker": {
            "color": "#CBB67C",
            "line": {
             "color": "#663831",
             "width": 2
            },
            "size": 10
           },
           "mode": "markers",
           "name": "football",
           "type": "scatter",
           "x": [
            40.0900001525879
           ],
           "y": [
            29.7700004577637
           ]
          }
         ],
         "name": "83"
        },
        {
         "data": [
          {
           "hoverinfo": "none",
           "mode": "text",
           "showlegend": false,
           "text": [
            "10",
            "20",
            "30",
            "40",
            "50",
            "40",
            "30",
            "20",
            "10"
           ],
           "textfont": {
            "color": "#ffffff",
            "family": "Courier New, monospace",
            "size": 30
           },
           "type": "scatter",
           "x": [
            20,
            30,
            40,
            50,
            60,
            70,
            80,
            90,
            100
           ],
           "y": [
            5,
            5,
            5,
            5,
            5,
            5,
            5,
            5,
            5
           ]
          },
          {
           "hoverinfo": "none",
           "mode": "text",
           "showlegend": false,
           "text": [
            "10",
            "20",
            "30",
            "40",
            "50",
            "40",
            "30",
            "20",
            "10"
           ],
           "textfont": {
            "color": "#ffffff",
            "family": "Courier New, monospace",
            "size": 30
           },
           "type": "scatter",
           "x": [
            20,
            30,
            40,
            50,
            60,
            70,
            80,
            90,
            100
           ],
           "y": [
            48.5,
            48.5,
            48.5,
            48.5,
            48.5,
            48.5,
            48.5,
            48.5,
            48.5
           ]
          },
          {
           "hoverinfo": "none",
           "line": {
            "color": "blue",
            "dash": "dash"
           },
           "showlegend": false,
           "type": "scatter",
           "x": [
            40,
            40
           ],
           "y": [
            0,
            53.5
           ]
          },
          {
           "hoverinfo": "none",
           "line": {
            "color": "yellow",
            "dash": "dash"
           },
           "showlegend": false,
           "type": "scatter",
           "x": [
            45,
            45
           ],
           "y": [
            0,
            53.5
           ]
          },
          {
           "fill": "toself",
           "fillcolor": "#000000",
           "hoverinfo": "skip",
           "line": {
            "color": "white",
            "width": 3
           },
           "mode": "lines",
           "opacity": 1,
           "showlegend": false,
           "type": "scatter",
           "x": [
            0,
            0,
            10,
            10,
            0
           ],
           "y": [
            0,
            53.5,
            53.5,
            0,
            0
           ]
          },
          {
           "fill": "toself",
           "fillcolor": "#008E97",
           "hoverinfo": "skip",
           "line": {
            "color": "white",
            "width": 3
           },
           "mode": "lines",
           "opacity": 1,
           "showlegend": false,
           "type": "scatter",
           "x": [
            110,
            110,
            120,
            120,
            110
           ],
           "y": [
            0,
            53.5,
            53.5,
            0,
            0
           ]
          },
          {
           "hoverinfo": "text",
           "hovertext": [
            "nflId:41243<br>displayName:C.J. Mosley<br>Player Speed:0.134 MPH",
            "nflId:41270<br>displayName:Lamarcus Joyner<br>Player Speed:0.224 MPH",
            "nflId:42467<br>displayName:Kwon Alexander<br>Player Speed:0.067 MPH",
            "nflId:43508<br>displayName:Will Parks<br>Player Speed:1.566 MPH",
            "nflId:44815<br>displayName:Solomon Thomas<br>Player Speed:0.112 MPH",
            "nflId:46141<br>displayName:Nathan Shepherd<br>Player Speed:0.246 MPH",
            "nflId:46186<br>displayName:Jordan Whitehead<br>Player Speed:3.4 MPH",
            "nflId:46211<br>displayName:D.J. Reed<br>Player Speed:1.096 MPH",
            "nflId:54469<br>displayName:Ahmad Gardner<br>Player Speed:1.074 MPH",
            "nflId:54491<br>displayName:Jermaine Johnson<br>Player Speed:0.358 MPH",
            "nflId:54582<br>displayName:Micheal Clemons<br>Player Speed:0.089 MPH"
           ],
           "marker": {
            "color": "#000000",
            "line": {
             "color": "#125740",
             "width": 2
            },
            "size": 10
           },
           "mode": "markers",
           "name": "NYJ",
           "type": "scatter",
           "x": [
            44.86,
            54.61,
            45.67,
            44.16,
            40.64,
            40.85,
            49.36,
            43.68,
            48.8,
            40.85,
            40.83
           ],
           "y": [
            26.25,
            25.92,
            30.65,
            21.23,
            28.67,
            32.13,
            34.23,
            36.5,
            16.87,
            24.2,
            36.62
           ]
          },
          {
           "hoverinfo": "text",
           "hovertext": [
            "nflId:42718<br>displayName:Raheem Mostert<br>Player Speed:0.022 MPH",
            "nflId:43447<br>displayName:Brandon Shell<br>Player Speed:0.0 MPH",
            "nflId:43454<br>displayName:Tyreek Hill<br>Player Speed:0.045 MPH",
            "nflId:46119<br>displayName:Connor Williams<br>Player Speed:0.0 MPH",
            "nflId:46203<br>displayName:Chase Edmonds<br>Player Speed:0.045 MPH",
            "nflId:47820<br>displayName:Greg Little<br>Player Speed:0.0 MPH",
            "nflId:52447<br>displayName:Robert Hunt<br>Player Speed:0.0 MPH",
            "nflId:53435<br>displayName:Jaylen Waddle<br>Player Speed:7.002 MPH",
            "nflId:53471<br>displayName:Liam Eichenberg<br>Player Speed:0.0 MPH",
            "nflId:54712<br>displayName:Skylar Thompson<br>Player Speed:0.022 MPH",
            "nflId:54931<br>displayName:Tanner Conner<br>Player Speed:0.0 MPH"
           ],
           "marker": {
            "color": "#008E97",
            "line": {
             "color": "#FC4C02",
             "width": 2
            },
            "size": 10
           },
           "mode": "markers",
           "name": "MIA",
           "type": "scatter",
           "x": [
            35.1,
            38.95,
            39.61,
            39.91,
            34.83,
            38.96,
            39.22,
            37.91,
            39.13,
            34.82,
            38.79
           ],
           "y": [
            26.79,
            33,
            20.99,
            29.66,
            32.88,
            26.81,
            28.42,
            20.4,
            31.31,
            29.82,
            34.73
           ]
          },
          {
           "hoverinfo": "none",
           "marker": {
            "color": "#CBB67C",
            "line": {
             "color": "#663831",
             "width": 2
            },
            "size": 10
           },
           "mode": "markers",
           "name": "football",
           "type": "scatter",
           "x": [
            40.0999984741211
           ],
           "y": [
            29.7600002288818
           ]
          }
         ],
         "name": "84"
        },
        {
         "data": [
          {
           "hoverinfo": "none",
           "mode": "text",
           "showlegend": false,
           "text": [
            "10",
            "20",
            "30",
            "40",
            "50",
            "40",
            "30",
            "20",
            "10"
           ],
           "textfont": {
            "color": "#ffffff",
            "family": "Courier New, monospace",
            "size": 30
           },
           "type": "scatter",
           "x": [
            20,
            30,
            40,
            50,
            60,
            70,
            80,
            90,
            100
           ],
           "y": [
            5,
            5,
            5,
            5,
            5,
            5,
            5,
            5,
            5
           ]
          },
          {
           "hoverinfo": "none",
           "mode": "text",
           "showlegend": false,
           "text": [
            "10",
            "20",
            "30",
            "40",
            "50",
            "40",
            "30",
            "20",
            "10"
           ],
           "textfont": {
            "color": "#ffffff",
            "family": "Courier New, monospace",
            "size": 30
           },
           "type": "scatter",
           "x": [
            20,
            30,
            40,
            50,
            60,
            70,
            80,
            90,
            100
           ],
           "y": [
            48.5,
            48.5,
            48.5,
            48.5,
            48.5,
            48.5,
            48.5,
            48.5,
            48.5
           ]
          },
          {
           "hoverinfo": "none",
           "line": {
            "color": "blue",
            "dash": "dash"
           },
           "showlegend": false,
           "type": "scatter",
           "x": [
            40,
            40
           ],
           "y": [
            0,
            53.5
           ]
          },
          {
           "hoverinfo": "none",
           "line": {
            "color": "yellow",
            "dash": "dash"
           },
           "showlegend": false,
           "type": "scatter",
           "x": [
            45,
            45
           ],
           "y": [
            0,
            53.5
           ]
          },
          {
           "fill": "toself",
           "fillcolor": "#000000",
           "hoverinfo": "skip",
           "line": {
            "color": "white",
            "width": 3
           },
           "mode": "lines",
           "opacity": 1,
           "showlegend": false,
           "type": "scatter",
           "x": [
            0,
            0,
            10,
            10,
            0
           ],
           "y": [
            0,
            53.5,
            53.5,
            0,
            0
           ]
          },
          {
           "fill": "toself",
           "fillcolor": "#008E97",
           "hoverinfo": "skip",
           "line": {
            "color": "white",
            "width": 3
           },
           "mode": "lines",
           "opacity": 1,
           "showlegend": false,
           "type": "scatter",
           "x": [
            110,
            110,
            120,
            120,
            110
           ],
           "y": [
            0,
            53.5,
            53.5,
            0,
            0
           ]
          },
          {
           "hoverinfo": "text",
           "hovertext": [
            "nflId:41243<br>displayName:C.J. Mosley<br>Player Speed:0.179 MPH",
            "nflId:41270<br>displayName:Lamarcus Joyner<br>Player Speed:0.38 MPH",
            "nflId:42467<br>displayName:Kwon Alexander<br>Player Speed:0.067 MPH",
            "nflId:43508<br>displayName:Will Parks<br>Player Speed:1.834 MPH",
            "nflId:44815<br>displayName:Solomon Thomas<br>Player Speed:0.134 MPH",
            "nflId:46141<br>displayName:Nathan Shepherd<br>Player Speed:0.201 MPH",
            "nflId:46186<br>displayName:Jordan Whitehead<br>Player Speed:3.915 MPH",
            "nflId:46211<br>displayName:D.J. Reed<br>Player Speed:1.566 MPH",
            "nflId:54469<br>displayName:Ahmad Gardner<br>Player Speed:1.186 MPH",
            "nflId:54491<br>displayName:Jermaine Johnson<br>Player Speed:0.336 MPH",
            "nflId:54582<br>displayName:Micheal Clemons<br>Player Speed:0.067 MPH"
           ],
           "marker": {
            "color": "#000000",
            "line": {
             "color": "#125740",
             "width": 2
            },
            "size": 10
           },
           "mode": "markers",
           "name": "NYJ",
           "type": "scatter",
           "x": [
            44.85,
            54.63,
            45.67,
            44.18,
            40.63,
            40.85,
            49.22,
            43.68,
            48.8,
            40.85,
            40.83
           ],
           "y": [
            26.27,
            25.91,
            30.65,
            21.31,
            28.67,
            32.13,
            34.3,
            36.56,
            16.92,
            24.21,
            36.62
           ]
          },
          {
           "hoverinfo": "text",
           "hovertext": [
            "nflId:42718<br>displayName:Raheem Mostert<br>Player Speed:0.022 MPH",
            "nflId:43447<br>displayName:Brandon Shell<br>Player Speed:0.0 MPH",
            "nflId:43454<br>displayName:Tyreek Hill<br>Player Speed:0.045 MPH",
            "nflId:46119<br>displayName:Connor Williams<br>Player Speed:0.0 MPH",
            "nflId:46203<br>displayName:Chase Edmonds<br>Player Speed:0.045 MPH",
            "nflId:47820<br>displayName:Greg Little<br>Player Speed:0.0 MPH",
            "nflId:52447<br>displayName:Robert Hunt<br>Player Speed:0.0 MPH",
            "nflId:53435<br>displayName:Jaylen Waddle<br>Player Speed:8.098 MPH",
            "nflId:53471<br>displayName:Liam Eichenberg<br>Player Speed:0.0 MPH",
            "nflId:54712<br>displayName:Skylar Thompson<br>Player Speed:0.022 MPH",
            "nflId:54931<br>displayName:Tanner Conner<br>Player Speed:0.0 MPH"
           ],
           "marker": {
            "color": "#008E97",
            "line": {
             "color": "#FC4C02",
             "width": 2
            },
            "size": 10
           },
           "mode": "markers",
           "name": "MIA",
           "type": "scatter",
           "x": [
            35.1,
            38.95,
            39.61,
            39.91,
            34.83,
            38.95,
            39.22,
            37.83,
            39.14,
            34.82,
            38.78
           ],
           "y": [
            26.79,
            33,
            20.99,
            29.66,
            32.88,
            26.81,
            28.42,
            20.73,
            31.31,
            29.83,
            34.73
           ]
          },
          {
           "hoverinfo": "none",
           "marker": {
            "color": "#CBB67C",
            "line": {
             "color": "#663831",
             "width": 2
            },
            "size": 10
           },
           "mode": "markers",
           "name": "football",
           "type": "scatter",
           "x": [
            40.0999984741211
           ],
           "y": [
            29.7600002288818
           ]
          }
         ],
         "name": "85"
        },
        {
         "data": [
          {
           "hoverinfo": "none",
           "mode": "text",
           "showlegend": false,
           "text": [
            "10",
            "20",
            "30",
            "40",
            "50",
            "40",
            "30",
            "20",
            "10"
           ],
           "textfont": {
            "color": "#ffffff",
            "family": "Courier New, monospace",
            "size": 30
           },
           "type": "scatter",
           "x": [
            20,
            30,
            40,
            50,
            60,
            70,
            80,
            90,
            100
           ],
           "y": [
            5,
            5,
            5,
            5,
            5,
            5,
            5,
            5,
            5
           ]
          },
          {
           "hoverinfo": "none",
           "mode": "text",
           "showlegend": false,
           "text": [
            "10",
            "20",
            "30",
            "40",
            "50",
            "40",
            "30",
            "20",
            "10"
           ],
           "textfont": {
            "color": "#ffffff",
            "family": "Courier New, monospace",
            "size": 30
           },
           "type": "scatter",
           "x": [
            20,
            30,
            40,
            50,
            60,
            70,
            80,
            90,
            100
           ],
           "y": [
            48.5,
            48.5,
            48.5,
            48.5,
            48.5,
            48.5,
            48.5,
            48.5,
            48.5
           ]
          },
          {
           "hoverinfo": "none",
           "line": {
            "color": "blue",
            "dash": "dash"
           },
           "showlegend": false,
           "type": "scatter",
           "x": [
            40,
            40
           ],
           "y": [
            0,
            53.5
           ]
          },
          {
           "hoverinfo": "none",
           "line": {
            "color": "yellow",
            "dash": "dash"
           },
           "showlegend": false,
           "type": "scatter",
           "x": [
            45,
            45
           ],
           "y": [
            0,
            53.5
           ]
          },
          {
           "fill": "toself",
           "fillcolor": "#000000",
           "hoverinfo": "skip",
           "line": {
            "color": "white",
            "width": 3
           },
           "mode": "lines",
           "opacity": 1,
           "showlegend": false,
           "type": "scatter",
           "x": [
            0,
            0,
            10,
            10,
            0
           ],
           "y": [
            0,
            53.5,
            53.5,
            0,
            0
           ]
          },
          {
           "fill": "toself",
           "fillcolor": "#008E97",
           "hoverinfo": "skip",
           "line": {
            "color": "white",
            "width": 3
           },
           "mode": "lines",
           "opacity": 1,
           "showlegend": false,
           "type": "scatter",
           "x": [
            110,
            110,
            120,
            120,
            110
           ],
           "y": [
            0,
            53.5,
            53.5,
            0,
            0
           ]
          },
          {
           "hoverinfo": "text",
           "hovertext": [
            "nflId:41243<br>displayName:C.J. Mosley<br>Player Speed:0.201 MPH",
            "nflId:41270<br>displayName:Lamarcus Joyner<br>Player Speed:0.559 MPH",
            "nflId:42467<br>displayName:Kwon Alexander<br>Player Speed:0.067 MPH",
            "nflId:43508<br>displayName:Will Parks<br>Player Speed:2.103 MPH",
            "nflId:44815<br>displayName:Solomon Thomas<br>Player Speed:0.089 MPH",
            "nflId:46141<br>displayName:Nathan Shepherd<br>Player Speed:0.224 MPH",
            "nflId:46186<br>displayName:Jordan Whitehead<br>Player Speed:4.34 MPH",
            "nflId:46211<br>displayName:D.J. Reed<br>Player Speed:1.79 MPH",
            "nflId:54469<br>displayName:Ahmad Gardner<br>Player Speed:1.387 MPH",
            "nflId:54491<br>displayName:Jermaine Johnson<br>Player Speed:0.47 MPH",
            "nflId:54582<br>displayName:Micheal Clemons<br>Player Speed:0.157 MPH"
           ],
           "marker": {
            "color": "#000000",
            "line": {
             "color": "#125740",
             "width": 2
            },
            "size": 10
           },
           "mode": "markers",
           "name": "NYJ",
           "type": "scatter",
           "x": [
            44.85,
            54.65,
            45.67,
            44.2,
            40.64,
            40.86,
            49.05,
            43.68,
            48.79,
            40.8,
            40.83
           ],
           "y": [
            26.28,
            25.89,
            30.64,
            21.4,
            28.71,
            32.12,
            34.38,
            36.64,
            16.97,
            24.28,
            36.63
           ]
          },
          {
           "hoverinfo": "text",
           "hovertext": [
            "nflId:42718<br>displayName:Raheem Mostert<br>Player Speed:0.022 MPH",
            "nflId:43447<br>displayName:Brandon Shell<br>Player Speed:0.0 MPH",
            "nflId:43454<br>displayName:Tyreek Hill<br>Player Speed:0.045 MPH",
            "nflId:46119<br>displayName:Connor Williams<br>Player Speed:0.0 MPH",
            "nflId:46203<br>displayName:Chase Edmonds<br>Player Speed:0.022 MPH",
            "nflId:47820<br>displayName:Greg Little<br>Player Speed:0.0 MPH",
            "nflId:52447<br>displayName:Robert Hunt<br>Player Speed:0.0 MPH",
            "nflId:53435<br>displayName:Jaylen Waddle<br>Player Speed:9.06 MPH",
            "nflId:53471<br>displayName:Liam Eichenberg<br>Player Speed:0.0 MPH",
            "nflId:54712<br>displayName:Skylar Thompson<br>Player Speed:0.022 MPH",
            "nflId:54931<br>displayName:Tanner Conner<br>Player Speed:0.0 MPH"
           ],
           "marker": {
            "color": "#008E97",
            "line": {
             "color": "#FC4C02",
             "width": 2
            },
            "size": 10
           },
           "mode": "markers",
           "name": "MIA",
           "type": "scatter",
           "x": [
            35.1,
            38.95,
            39.61,
            39.91,
            34.84,
            38.95,
            39.22,
            37.77,
            39.14,
            34.82,
            38.77
           ],
           "y": [
            26.79,
            33,
            20.98,
            29.66,
            32.89,
            26.8,
            28.42,
            21.11,
            31.31,
            29.83,
            34.72
           ]
          },
          {
           "hoverinfo": "none",
           "marker": {
            "color": "#CBB67C",
            "line": {
             "color": "#663831",
             "width": 2
            },
            "size": 10
           },
           "mode": "markers",
           "name": "football",
           "type": "scatter",
           "x": [
            40.0999984741211
           ],
           "y": [
            29.7600002288818
           ]
          }
         ],
         "name": "86"
        },
        {
         "data": [
          {
           "hoverinfo": "none",
           "mode": "text",
           "showlegend": false,
           "text": [
            "10",
            "20",
            "30",
            "40",
            "50",
            "40",
            "30",
            "20",
            "10"
           ],
           "textfont": {
            "color": "#ffffff",
            "family": "Courier New, monospace",
            "size": 30
           },
           "type": "scatter",
           "x": [
            20,
            30,
            40,
            50,
            60,
            70,
            80,
            90,
            100
           ],
           "y": [
            5,
            5,
            5,
            5,
            5,
            5,
            5,
            5,
            5
           ]
          },
          {
           "hoverinfo": "none",
           "mode": "text",
           "showlegend": false,
           "text": [
            "10",
            "20",
            "30",
            "40",
            "50",
            "40",
            "30",
            "20",
            "10"
           ],
           "textfont": {
            "color": "#ffffff",
            "family": "Courier New, monospace",
            "size": 30
           },
           "type": "scatter",
           "x": [
            20,
            30,
            40,
            50,
            60,
            70,
            80,
            90,
            100
           ],
           "y": [
            48.5,
            48.5,
            48.5,
            48.5,
            48.5,
            48.5,
            48.5,
            48.5,
            48.5
           ]
          },
          {
           "hoverinfo": "none",
           "line": {
            "color": "blue",
            "dash": "dash"
           },
           "showlegend": false,
           "type": "scatter",
           "x": [
            40,
            40
           ],
           "y": [
            0,
            53.5
           ]
          },
          {
           "hoverinfo": "none",
           "line": {
            "color": "yellow",
            "dash": "dash"
           },
           "showlegend": false,
           "type": "scatter",
           "x": [
            45,
            45
           ],
           "y": [
            0,
            53.5
           ]
          },
          {
           "fill": "toself",
           "fillcolor": "#000000",
           "hoverinfo": "skip",
           "line": {
            "color": "white",
            "width": 3
           },
           "mode": "lines",
           "opacity": 1,
           "showlegend": false,
           "type": "scatter",
           "x": [
            0,
            0,
            10,
            10,
            0
           ],
           "y": [
            0,
            53.5,
            53.5,
            0,
            0
           ]
          },
          {
           "fill": "toself",
           "fillcolor": "#008E97",
           "hoverinfo": "skip",
           "line": {
            "color": "white",
            "width": 3
           },
           "mode": "lines",
           "opacity": 1,
           "showlegend": false,
           "type": "scatter",
           "x": [
            110,
            110,
            120,
            120,
            110
           ],
           "y": [
            0,
            53.5,
            53.5,
            0,
            0
           ]
          },
          {
           "hoverinfo": "text",
           "hovertext": [
            "nflId:41243<br>displayName:C.J. Mosley<br>Player Speed:0.336 MPH",
            "nflId:41270<br>displayName:Lamarcus Joyner<br>Player Speed:0.47 MPH",
            "nflId:42467<br>displayName:Kwon Alexander<br>Player Speed:0.045 MPH",
            "nflId:43508<br>displayName:Will Parks<br>Player Speed:2.326 MPH",
            "nflId:44815<br>displayName:Solomon Thomas<br>Player Speed:0.067 MPH",
            "nflId:46141<br>displayName:Nathan Shepherd<br>Player Speed:0.201 MPH",
            "nflId:46186<br>displayName:Jordan Whitehead<br>Player Speed:4.742 MPH",
            "nflId:46211<br>displayName:D.J. Reed<br>Player Speed:1.969 MPH",
            "nflId:54469<br>displayName:Ahmad Gardner<br>Player Speed:1.588 MPH",
            "nflId:54491<br>displayName:Jermaine Johnson<br>Player Speed:0.47 MPH",
            "nflId:54582<br>displayName:Micheal Clemons<br>Player Speed:0.224 MPH"
           ],
           "marker": {
            "color": "#000000",
            "line": {
             "color": "#125740",
             "width": 2
            },
            "size": 10
           },
           "mode": "markers",
           "name": "NYJ",
           "type": "scatter",
           "x": [
            44.86,
            54.67,
            45.66,
            44.23,
            40.66,
            40.87,
            48.87,
            43.68,
            48.78,
            40.78,
            40.82
           ],
           "y": [
            26.31,
            25.88,
            30.64,
            21.5,
            28.71,
            32.11,
            34.47,
            36.72,
            17.04,
            24.31,
            36.63
           ]
          },
          {
           "hoverinfo": "text",
           "hovertext": [
            "nflId:42718<br>displayName:Raheem Mostert<br>Player Speed:0.022 MPH",
            "nflId:43447<br>displayName:Brandon Shell<br>Player Speed:0.0 MPH",
            "nflId:43454<br>displayName:Tyreek Hill<br>Player Speed:0.022 MPH",
            "nflId:46119<br>displayName:Connor Williams<br>Player Speed:0.0 MPH",
            "nflId:46203<br>displayName:Chase Edmonds<br>Player Speed:0.045 MPH",
            "nflId:47820<br>displayName:Greg Little<br>Player Speed:0.0 MPH",
            "nflId:52447<br>displayName:Robert Hunt<br>Player Speed:0.0 MPH",
            "nflId:53435<br>displayName:Jaylen Waddle<br>Player Speed:10.446 MPH",
            "nflId:53471<br>displayName:Liam Eichenberg<br>Player Speed:0.0 MPH",
            "nflId:54712<br>displayName:Skylar Thompson<br>Player Speed:0.022 MPH",
            "nflId:54931<br>displayName:Tanner Conner<br>Player Speed:0.0 MPH"
           ],
           "marker": {
            "color": "#008E97",
            "line": {
             "color": "#FC4C02",
             "width": 2
            },
            "size": 10
           },
           "mode": "markers",
           "name": "MIA",
           "type": "scatter",
           "x": [
            35.1,
            38.95,
            39.61,
            39.91,
            34.83,
            38.95,
            39.21,
            37.71,
            39.14,
            34.83,
            38.78
           ],
           "y": [
            26.79,
            33,
            20.99,
            29.66,
            32.88,
            26.8,
            28.42,
            21.54,
            31.31,
            29.82,
            34.73
           ]
          },
          {
           "hoverinfo": "none",
           "marker": {
            "color": "#CBB67C",
            "line": {
             "color": "#663831",
             "width": 2
            },
            "size": 10
           },
           "mode": "markers",
           "name": "football",
           "type": "scatter",
           "x": [
            40.0999984741211
           ],
           "y": [
            29.7600002288818
           ]
          }
         ],
         "name": "87"
        },
        {
         "data": [
          {
           "hoverinfo": "none",
           "mode": "text",
           "showlegend": false,
           "text": [
            "10",
            "20",
            "30",
            "40",
            "50",
            "40",
            "30",
            "20",
            "10"
           ],
           "textfont": {
            "color": "#ffffff",
            "family": "Courier New, monospace",
            "size": 30
           },
           "type": "scatter",
           "x": [
            20,
            30,
            40,
            50,
            60,
            70,
            80,
            90,
            100
           ],
           "y": [
            5,
            5,
            5,
            5,
            5,
            5,
            5,
            5,
            5
           ]
          },
          {
           "hoverinfo": "none",
           "mode": "text",
           "showlegend": false,
           "text": [
            "10",
            "20",
            "30",
            "40",
            "50",
            "40",
            "30",
            "20",
            "10"
           ],
           "textfont": {
            "color": "#ffffff",
            "family": "Courier New, monospace",
            "size": 30
           },
           "type": "scatter",
           "x": [
            20,
            30,
            40,
            50,
            60,
            70,
            80,
            90,
            100
           ],
           "y": [
            48.5,
            48.5,
            48.5,
            48.5,
            48.5,
            48.5,
            48.5,
            48.5,
            48.5
           ]
          },
          {
           "hoverinfo": "none",
           "line": {
            "color": "blue",
            "dash": "dash"
           },
           "showlegend": false,
           "type": "scatter",
           "x": [
            40,
            40
           ],
           "y": [
            0,
            53.5
           ]
          },
          {
           "hoverinfo": "none",
           "line": {
            "color": "yellow",
            "dash": "dash"
           },
           "showlegend": false,
           "type": "scatter",
           "x": [
            45,
            45
           ],
           "y": [
            0,
            53.5
           ]
          },
          {
           "fill": "toself",
           "fillcolor": "#000000",
           "hoverinfo": "skip",
           "line": {
            "color": "white",
            "width": 3
           },
           "mode": "lines",
           "opacity": 1,
           "showlegend": false,
           "type": "scatter",
           "x": [
            0,
            0,
            10,
            10,
            0
           ],
           "y": [
            0,
            53.5,
            53.5,
            0,
            0
           ]
          },
          {
           "fill": "toself",
           "fillcolor": "#008E97",
           "hoverinfo": "skip",
           "line": {
            "color": "white",
            "width": 3
           },
           "mode": "lines",
           "opacity": 1,
           "showlegend": false,
           "type": "scatter",
           "x": [
            110,
            110,
            120,
            120,
            110
           ],
           "y": [
            0,
            53.5,
            53.5,
            0,
            0
           ]
          },
          {
           "hoverinfo": "text",
           "hovertext": [
            "nflId:41243<br>displayName:C.J. Mosley<br>Player Speed:0.336 MPH",
            "nflId:41270<br>displayName:Lamarcus Joyner<br>Player Speed:0.38 MPH",
            "nflId:42467<br>displayName:Kwon Alexander<br>Player Speed:0.045 MPH",
            "nflId:43508<br>displayName:Will Parks<br>Player Speed:2.528 MPH",
            "nflId:44815<br>displayName:Solomon Thomas<br>Player Speed:0.0 MPH",
            "nflId:46141<br>displayName:Nathan Shepherd<br>Player Speed:0.157 MPH",
            "nflId:46186<br>displayName:Jordan Whitehead<br>Player Speed:5.1 MPH",
            "nflId:46211<br>displayName:D.J. Reed<br>Player Speed:2.192 MPH",
            "nflId:54469<br>displayName:Ahmad Gardner<br>Player Speed:1.767 MPH",
            "nflId:54491<br>displayName:Jermaine Johnson<br>Player Speed:0.425 MPH",
            "nflId:54582<br>displayName:Micheal Clemons<br>Player Speed:0.246 MPH"
           ],
           "marker": {
            "color": "#000000",
            "line": {
             "color": "#125740",
             "width": 2
            },
            "size": 10
           },
           "mode": "markers",
           "name": "NYJ",
           "type": "scatter",
           "x": [
            44.85,
            54.69,
            45.66,
            44.25,
            40.66,
            40.88,
            48.67,
            43.67,
            48.77,
            40.77,
            40.81
           ],
           "y": [
            26.33,
            25.88,
            30.63,
            21.61,
            28.68,
            32.12,
            34.57,
            36.81,
            17.12,
            24.32,
            36.64
           ]
          },
          {
           "hoverinfo": "text",
           "hovertext": [
            "nflId:42718<br>displayName:Raheem Mostert<br>Player Speed:0.022 MPH",
            "nflId:43447<br>displayName:Brandon Shell<br>Player Speed:0.0 MPH",
            "nflId:43454<br>displayName:Tyreek Hill<br>Player Speed:0.022 MPH",
            "nflId:46119<br>displayName:Connor Williams<br>Player Speed:0.0 MPH",
            "nflId:46203<br>displayName:Chase Edmonds<br>Player Speed:0.022 MPH",
            "nflId:47820<br>displayName:Greg Little<br>Player Speed:0.0 MPH",
            "nflId:52447<br>displayName:Robert Hunt<br>Player Speed:0.0 MPH",
            "nflId:53435<br>displayName:Jaylen Waddle<br>Player Speed:11.677 MPH",
            "nflId:53471<br>displayName:Liam Eichenberg<br>Player Speed:0.0 MPH",
            "nflId:54712<br>displayName:Skylar Thompson<br>Player Speed:0.0 MPH",
            "nflId:54931<br>displayName:Tanner Conner<br>Player Speed:0.0 MPH"
           ],
           "marker": {
            "color": "#008E97",
            "line": {
             "color": "#FC4C02",
             "width": 2
            },
            "size": 10
           },
           "mode": "markers",
           "name": "MIA",
           "type": "scatter",
           "x": [
            35.1,
            38.95,
            39.61,
            39.9,
            34.83,
            38.95,
            39.21,
            37.64,
            39.14,
            34.83,
            38.78
           ],
           "y": [
            26.79,
            33,
            20.98,
            29.66,
            32.89,
            26.8,
            28.42,
            22.03,
            31.31,
            29.82,
            34.72
           ]
          },
          {
           "hoverinfo": "none",
           "marker": {
            "color": "#CBB67C",
            "line": {
             "color": "#663831",
             "width": 2
            },
            "size": 10
           },
           "mode": "markers",
           "name": "football",
           "type": "scatter",
           "x": [
            40.0999984741211
           ],
           "y": [
            29.7600002288818
           ]
          }
         ],
         "name": "88"
        },
        {
         "data": [
          {
           "hoverinfo": "none",
           "mode": "text",
           "showlegend": false,
           "text": [
            "10",
            "20",
            "30",
            "40",
            "50",
            "40",
            "30",
            "20",
            "10"
           ],
           "textfont": {
            "color": "#ffffff",
            "family": "Courier New, monospace",
            "size": 30
           },
           "type": "scatter",
           "x": [
            20,
            30,
            40,
            50,
            60,
            70,
            80,
            90,
            100
           ],
           "y": [
            5,
            5,
            5,
            5,
            5,
            5,
            5,
            5,
            5
           ]
          },
          {
           "hoverinfo": "none",
           "mode": "text",
           "showlegend": false,
           "text": [
            "10",
            "20",
            "30",
            "40",
            "50",
            "40",
            "30",
            "20",
            "10"
           ],
           "textfont": {
            "color": "#ffffff",
            "family": "Courier New, monospace",
            "size": 30
           },
           "type": "scatter",
           "x": [
            20,
            30,
            40,
            50,
            60,
            70,
            80,
            90,
            100
           ],
           "y": [
            48.5,
            48.5,
            48.5,
            48.5,
            48.5,
            48.5,
            48.5,
            48.5,
            48.5
           ]
          },
          {
           "hoverinfo": "none",
           "line": {
            "color": "blue",
            "dash": "dash"
           },
           "showlegend": false,
           "type": "scatter",
           "x": [
            40,
            40
           ],
           "y": [
            0,
            53.5
           ]
          },
          {
           "hoverinfo": "none",
           "line": {
            "color": "yellow",
            "dash": "dash"
           },
           "showlegend": false,
           "type": "scatter",
           "x": [
            45,
            45
           ],
           "y": [
            0,
            53.5
           ]
          },
          {
           "fill": "toself",
           "fillcolor": "#000000",
           "hoverinfo": "skip",
           "line": {
            "color": "white",
            "width": 3
           },
           "mode": "lines",
           "opacity": 1,
           "showlegend": false,
           "type": "scatter",
           "x": [
            0,
            0,
            10,
            10,
            0
           ],
           "y": [
            0,
            53.5,
            53.5,
            0,
            0
           ]
          },
          {
           "fill": "toself",
           "fillcolor": "#008E97",
           "hoverinfo": "skip",
           "line": {
            "color": "white",
            "width": 3
           },
           "mode": "lines",
           "opacity": 1,
           "showlegend": false,
           "type": "scatter",
           "x": [
            110,
            110,
            120,
            120,
            110
           ],
           "y": [
            0,
            53.5,
            53.5,
            0,
            0
           ]
          },
          {
           "hoverinfo": "text",
           "hovertext": [
            "nflId:41243<br>displayName:C.J. Mosley<br>Player Speed:0.671 MPH",
            "nflId:41270<br>displayName:Lamarcus Joyner<br>Player Speed:0.268 MPH",
            "nflId:42467<br>displayName:Kwon Alexander<br>Player Speed:0.022 MPH",
            "nflId:43508<br>displayName:Will Parks<br>Player Speed:2.796 MPH",
            "nflId:44815<br>displayName:Solomon Thomas<br>Player Speed:0.067 MPH",
            "nflId:46141<br>displayName:Nathan Shepherd<br>Player Speed:0.134 MPH",
            "nflId:46186<br>displayName:Jordan Whitehead<br>Player Speed:5.436 MPH",
            "nflId:46211<br>displayName:D.J. Reed<br>Player Speed:2.394 MPH",
            "nflId:54469<br>displayName:Ahmad Gardner<br>Player Speed:1.969 MPH",
            "nflId:54491<br>displayName:Jermaine Johnson<br>Player Speed:0.403 MPH",
            "nflId:54582<br>displayName:Micheal Clemons<br>Player Speed:0.268 MPH"
           ],
           "marker": {
            "color": "#000000",
            "line": {
             "color": "#125740",
             "width": 2
            },
            "size": 10
           },
           "mode": "markers",
           "name": "NYJ",
           "type": "scatter",
           "x": [
            44.85,
            54.7,
            45.65,
            44.28,
            40.65,
            40.9,
            48.46,
            43.67,
            48.76,
            40.76,
            40.8
           ],
           "y": [
            26.41,
            25.88,
            30.64,
            21.73,
            28.66,
            32.13,
            34.67,
            36.92,
            17.2,
            24.34,
            36.64
           ]
          },
          {
           "hoverinfo": "text",
           "hovertext": [
            "nflId:42718<br>displayName:Raheem Mostert<br>Player Speed:0.0 MPH",
            "nflId:43447<br>displayName:Brandon Shell<br>Player Speed:0.0 MPH",
            "nflId:43454<br>displayName:Tyreek Hill<br>Player Speed:0.022 MPH",
            "nflId:46119<br>displayName:Connor Williams<br>Player Speed:0.0 MPH",
            "nflId:46203<br>displayName:Chase Edmonds<br>Player Speed:0.022 MPH",
            "nflId:47820<br>displayName:Greg Little<br>Player Speed:0.0 MPH",
            "nflId:52447<br>displayName:Robert Hunt<br>Player Speed:0.0 MPH",
            "nflId:53435<br>displayName:Jaylen Waddle<br>Player Speed:12.549 MPH",
            "nflId:53471<br>displayName:Liam Eichenberg<br>Player Speed:0.0 MPH",
            "nflId:54712<br>displayName:Skylar Thompson<br>Player Speed:0.022 MPH",
            "nflId:54931<br>displayName:Tanner Conner<br>Player Speed:0.0 MPH"
           ],
           "marker": {
            "color": "#008E97",
            "line": {
             "color": "#FC4C02",
             "width": 2
            },
            "size": 10
           },
           "mode": "markers",
           "name": "MIA",
           "type": "scatter",
           "x": [
            35.1,
            38.95,
            39.61,
            39.9,
            34.83,
            38.95,
            39.21,
            37.58,
            39.15,
            34.84,
            38.78
           ],
           "y": [
            26.8,
            33,
            20.98,
            29.66,
            32.89,
            26.8,
            28.42,
            22.57,
            31.31,
            29.82,
            34.72
           ]
          },
          {
           "hoverinfo": "none",
           "marker": {
            "color": "#CBB67C",
            "line": {
             "color": "#663831",
             "width": 2
            },
            "size": 10
           },
           "mode": "markers",
           "name": "football",
           "type": "scatter",
           "x": [
            40.0999984741211
           ],
           "y": [
            29.7600002288818
           ]
          }
         ],
         "name": "89"
        },
        {
         "data": [
          {
           "hoverinfo": "none",
           "mode": "text",
           "showlegend": false,
           "text": [
            "10",
            "20",
            "30",
            "40",
            "50",
            "40",
            "30",
            "20",
            "10"
           ],
           "textfont": {
            "color": "#ffffff",
            "family": "Courier New, monospace",
            "size": 30
           },
           "type": "scatter",
           "x": [
            20,
            30,
            40,
            50,
            60,
            70,
            80,
            90,
            100
           ],
           "y": [
            5,
            5,
            5,
            5,
            5,
            5,
            5,
            5,
            5
           ]
          },
          {
           "hoverinfo": "none",
           "mode": "text",
           "showlegend": false,
           "text": [
            "10",
            "20",
            "30",
            "40",
            "50",
            "40",
            "30",
            "20",
            "10"
           ],
           "textfont": {
            "color": "#ffffff",
            "family": "Courier New, monospace",
            "size": 30
           },
           "type": "scatter",
           "x": [
            20,
            30,
            40,
            50,
            60,
            70,
            80,
            90,
            100
           ],
           "y": [
            48.5,
            48.5,
            48.5,
            48.5,
            48.5,
            48.5,
            48.5,
            48.5,
            48.5
           ]
          },
          {
           "hoverinfo": "none",
           "line": {
            "color": "blue",
            "dash": "dash"
           },
           "showlegend": false,
           "type": "scatter",
           "x": [
            40,
            40
           ],
           "y": [
            0,
            53.5
           ]
          },
          {
           "hoverinfo": "none",
           "line": {
            "color": "yellow",
            "dash": "dash"
           },
           "showlegend": false,
           "type": "scatter",
           "x": [
            45,
            45
           ],
           "y": [
            0,
            53.5
           ]
          },
          {
           "fill": "toself",
           "fillcolor": "#000000",
           "hoverinfo": "skip",
           "line": {
            "color": "white",
            "width": 3
           },
           "mode": "lines",
           "opacity": 1,
           "showlegend": false,
           "type": "scatter",
           "x": [
            0,
            0,
            10,
            10,
            0
           ],
           "y": [
            0,
            53.5,
            53.5,
            0,
            0
           ]
          },
          {
           "fill": "toself",
           "fillcolor": "#008E97",
           "hoverinfo": "skip",
           "line": {
            "color": "white",
            "width": 3
           },
           "mode": "lines",
           "opacity": 1,
           "showlegend": false,
           "type": "scatter",
           "x": [
            110,
            110,
            120,
            120,
            110
           ],
           "y": [
            0,
            53.5,
            53.5,
            0,
            0
           ]
          },
          {
           "hoverinfo": "text",
           "hovertext": [
            "nflId:41243<br>displayName:C.J. Mosley<br>Player Speed:0.984 MPH",
            "nflId:41270<br>displayName:Lamarcus Joyner<br>Player Speed:0.47 MPH",
            "nflId:42467<br>displayName:Kwon Alexander<br>Player Speed:0.022 MPH",
            "nflId:43508<br>displayName:Will Parks<br>Player Speed:2.997 MPH",
            "nflId:44815<br>displayName:Solomon Thomas<br>Player Speed:0.045 MPH",
            "nflId:46141<br>displayName:Nathan Shepherd<br>Player Speed:0.112 MPH",
            "nflId:46186<br>displayName:Jordan Whitehead<br>Player Speed:5.659 MPH",
            "nflId:46211<br>displayName:D.J. Reed<br>Player Speed:2.572 MPH",
            "nflId:54469<br>displayName:Ahmad Gardner<br>Player Speed:2.125 MPH",
            "nflId:54491<br>displayName:Jermaine Johnson<br>Player Speed:0.358 MPH",
            "nflId:54582<br>displayName:Micheal Clemons<br>Player Speed:0.268 MPH"
           ],
           "marker": {
            "color": "#000000",
            "line": {
             "color": "#125740",
             "width": 2
            },
            "size": 10
           },
           "mode": "markers",
           "name": "NYJ",
           "type": "scatter",
           "x": [
            44.85,
            54.71,
            45.65,
            44.3,
            40.64,
            40.9,
            48.24,
            43.68,
            48.75,
            40.77,
            40.79
           ],
           "y": [
            26.46,
            25.89,
            30.64,
            21.86,
            28.66,
            32.14,
            34.78,
            37.03,
            17.29,
            24.35,
            36.65
           ]
          },
          {
           "hoverinfo": "text",
           "hovertext": [
            "nflId:42718<br>displayName:Raheem Mostert<br>Player Speed:0.0 MPH",
            "nflId:43447<br>displayName:Brandon Shell<br>Player Speed:0.0 MPH",
            "nflId:43454<br>displayName:Tyreek Hill<br>Player Speed:0.022 MPH",
            "nflId:46119<br>displayName:Connor Williams<br>Player Speed:0.0 MPH",
            "nflId:46203<br>displayName:Chase Edmonds<br>Player Speed:0.022 MPH",
            "nflId:47820<br>displayName:Greg Little<br>Player Speed:0.0 MPH",
            "nflId:52447<br>displayName:Robert Hunt<br>Player Speed:0.0 MPH",
            "nflId:53435<br>displayName:Jaylen Waddle<br>Player Speed:13.533 MPH",
            "nflId:53471<br>displayName:Liam Eichenberg<br>Player Speed:0.0 MPH",
            "nflId:54712<br>displayName:Skylar Thompson<br>Player Speed:0.0 MPH",
            "nflId:54931<br>displayName:Tanner Conner<br>Player Speed:0.0 MPH"
           ],
           "marker": {
            "color": "#008E97",
            "line": {
             "color": "#FC4C02",
             "width": 2
            },
            "size": 10
           },
           "mode": "markers",
           "name": "MIA",
           "type": "scatter",
           "x": [
            35.1,
            38.95,
            39.62,
            39.9,
            34.83,
            38.95,
            39.21,
            37.53,
            39.15,
            34.85,
            38.78
           ],
           "y": [
            26.8,
            33,
            20.98,
            29.66,
            32.89,
            26.81,
            28.41,
            23.16,
            31.31,
            29.82,
            34.71
           ]
          },
          {
           "hoverinfo": "none",
           "marker": {
            "color": "#CBB67C",
            "line": {
             "color": "#663831",
             "width": 2
            },
            "size": 10
           },
           "mode": "markers",
           "name": "football",
           "type": "scatter",
           "x": [
            40.0999984741211
           ],
           "y": [
            29.7600002288818
           ]
          }
         ],
         "name": "90"
        },
        {
         "data": [
          {
           "hoverinfo": "none",
           "mode": "text",
           "showlegend": false,
           "text": [
            "10",
            "20",
            "30",
            "40",
            "50",
            "40",
            "30",
            "20",
            "10"
           ],
           "textfont": {
            "color": "#ffffff",
            "family": "Courier New, monospace",
            "size": 30
           },
           "type": "scatter",
           "x": [
            20,
            30,
            40,
            50,
            60,
            70,
            80,
            90,
            100
           ],
           "y": [
            5,
            5,
            5,
            5,
            5,
            5,
            5,
            5,
            5
           ]
          },
          {
           "hoverinfo": "none",
           "mode": "text",
           "showlegend": false,
           "text": [
            "10",
            "20",
            "30",
            "40",
            "50",
            "40",
            "30",
            "20",
            "10"
           ],
           "textfont": {
            "color": "#ffffff",
            "family": "Courier New, monospace",
            "size": 30
           },
           "type": "scatter",
           "x": [
            20,
            30,
            40,
            50,
            60,
            70,
            80,
            90,
            100
           ],
           "y": [
            48.5,
            48.5,
            48.5,
            48.5,
            48.5,
            48.5,
            48.5,
            48.5,
            48.5
           ]
          },
          {
           "hoverinfo": "none",
           "line": {
            "color": "blue",
            "dash": "dash"
           },
           "showlegend": false,
           "type": "scatter",
           "x": [
            40,
            40
           ],
           "y": [
            0,
            53.5
           ]
          },
          {
           "hoverinfo": "none",
           "line": {
            "color": "yellow",
            "dash": "dash"
           },
           "showlegend": false,
           "type": "scatter",
           "x": [
            45,
            45
           ],
           "y": [
            0,
            53.5
           ]
          },
          {
           "fill": "toself",
           "fillcolor": "#000000",
           "hoverinfo": "skip",
           "line": {
            "color": "white",
            "width": 3
           },
           "mode": "lines",
           "opacity": 1,
           "showlegend": false,
           "type": "scatter",
           "x": [
            0,
            0,
            10,
            10,
            0
           ],
           "y": [
            0,
            53.5,
            53.5,
            0,
            0
           ]
          },
          {
           "fill": "toself",
           "fillcolor": "#008E97",
           "hoverinfo": "skip",
           "line": {
            "color": "white",
            "width": 3
           },
           "mode": "lines",
           "opacity": 1,
           "showlegend": false,
           "type": "scatter",
           "x": [
            110,
            110,
            120,
            120,
            110
           ],
           "y": [
            0,
            53.5,
            53.5,
            0,
            0
           ]
          },
          {
           "hoverinfo": "text",
           "hovertext": [
            "nflId:41243<br>displayName:C.J. Mosley<br>Player Speed:1.499 MPH",
            "nflId:41270<br>displayName:Lamarcus Joyner<br>Player Speed:0.962 MPH",
            "nflId:42467<br>displayName:Kwon Alexander<br>Player Speed:0.022 MPH",
            "nflId:43508<br>displayName:Will Parks<br>Player Speed:3.288 MPH",
            "nflId:44815<br>displayName:Solomon Thomas<br>Player Speed:0.045 MPH",
            "nflId:46141<br>displayName:Nathan Shepherd<br>Player Speed:0.112 MPH",
            "nflId:46186<br>displayName:Jordan Whitehead<br>Player Speed:5.816 MPH",
            "nflId:46211<br>displayName:D.J. Reed<br>Player Speed:2.684 MPH",
            "nflId:54469<br>displayName:Ahmad Gardner<br>Player Speed:2.215 MPH",
            "nflId:54491<br>displayName:Jermaine Johnson<br>Player Speed:0.246 MPH",
            "nflId:54582<br>displayName:Micheal Clemons<br>Player Speed:0.246 MPH"
           ],
           "marker": {
            "color": "#000000",
            "line": {
             "color": "#125740",
             "width": 2
            },
            "size": 10
           },
           "mode": "markers",
           "name": "NYJ",
           "type": "scatter",
           "x": [
            44.85,
            54.71,
            45.65,
            44.32,
            40.64,
            40.9,
            48.01,
            43.69,
            48.73,
            40.77,
            40.79
           ],
           "y": [
            26.54,
            25.92,
            30.65,
            22,
            28.66,
            32.13,
            34.89,
            37.15,
            17.39,
            24.31,
            36.66
           ]
          },
          {
           "hoverinfo": "text",
           "hovertext": [
            "nflId:42718<br>displayName:Raheem Mostert<br>Player Speed:0.0 MPH",
            "nflId:43447<br>displayName:Brandon Shell<br>Player Speed:0.0 MPH",
            "nflId:43454<br>displayName:Tyreek Hill<br>Player Speed:0.022 MPH",
            "nflId:46119<br>displayName:Connor Williams<br>Player Speed:0.0 MPH",
            "nflId:46203<br>displayName:Chase Edmonds<br>Player Speed:0.022 MPH",
            "nflId:47820<br>displayName:Greg Little<br>Player Speed:0.0 MPH",
            "nflId:52447<br>displayName:Robert Hunt<br>Player Speed:0.0 MPH",
            "nflId:53435<br>displayName:Jaylen Waddle<br>Player Speed:14.585 MPH",
            "nflId:53471<br>displayName:Liam Eichenberg<br>Player Speed:0.0 MPH",
            "nflId:54712<br>displayName:Skylar Thompson<br>Player Speed:0.0 MPH",
            "nflId:54931<br>displayName:Tanner Conner<br>Player Speed:0.0 MPH"
           ],
           "marker": {
            "color": "#008E97",
            "line": {
             "color": "#FC4C02",
             "width": 2
            },
            "size": 10
           },
           "mode": "markers",
           "name": "MIA",
           "type": "scatter",
           "x": [
            35.11,
            38.95,
            39.62,
            39.9,
            34.83,
            38.95,
            39.21,
            37.46,
            39.15,
            34.85,
            38.78
           ],
           "y": [
            26.8,
            33,
            20.98,
            29.66,
            32.89,
            26.8,
            28.42,
            23.8,
            31.3,
            29.83,
            34.71
           ]
          },
          {
           "hoverinfo": "none",
           "marker": {
            "color": "#CBB67C",
            "line": {
             "color": "#663831",
             "width": 2
            },
            "size": 10
           },
           "mode": "markers",
           "name": "football",
           "type": "scatter",
           "x": [
            40.0999984741211
           ],
           "y": [
            29.7600002288818
           ]
          }
         ],
         "name": "91"
        },
        {
         "data": [
          {
           "hoverinfo": "none",
           "mode": "text",
           "showlegend": false,
           "text": [
            "10",
            "20",
            "30",
            "40",
            "50",
            "40",
            "30",
            "20",
            "10"
           ],
           "textfont": {
            "color": "#ffffff",
            "family": "Courier New, monospace",
            "size": 30
           },
           "type": "scatter",
           "x": [
            20,
            30,
            40,
            50,
            60,
            70,
            80,
            90,
            100
           ],
           "y": [
            5,
            5,
            5,
            5,
            5,
            5,
            5,
            5,
            5
           ]
          },
          {
           "hoverinfo": "none",
           "mode": "text",
           "showlegend": false,
           "text": [
            "10",
            "20",
            "30",
            "40",
            "50",
            "40",
            "30",
            "20",
            "10"
           ],
           "textfont": {
            "color": "#ffffff",
            "family": "Courier New, monospace",
            "size": 30
           },
           "type": "scatter",
           "x": [
            20,
            30,
            40,
            50,
            60,
            70,
            80,
            90,
            100
           ],
           "y": [
            48.5,
            48.5,
            48.5,
            48.5,
            48.5,
            48.5,
            48.5,
            48.5,
            48.5
           ]
          },
          {
           "hoverinfo": "none",
           "line": {
            "color": "blue",
            "dash": "dash"
           },
           "showlegend": false,
           "type": "scatter",
           "x": [
            40,
            40
           ],
           "y": [
            0,
            53.5
           ]
          },
          {
           "hoverinfo": "none",
           "line": {
            "color": "yellow",
            "dash": "dash"
           },
           "showlegend": false,
           "type": "scatter",
           "x": [
            45,
            45
           ],
           "y": [
            0,
            53.5
           ]
          },
          {
           "fill": "toself",
           "fillcolor": "#000000",
           "hoverinfo": "skip",
           "line": {
            "color": "white",
            "width": 3
           },
           "mode": "lines",
           "opacity": 1,
           "showlegend": false,
           "type": "scatter",
           "x": [
            0,
            0,
            10,
            10,
            0
           ],
           "y": [
            0,
            53.5,
            53.5,
            0,
            0
           ]
          },
          {
           "fill": "toself",
           "fillcolor": "#008E97",
           "hoverinfo": "skip",
           "line": {
            "color": "white",
            "width": 3
           },
           "mode": "lines",
           "opacity": 1,
           "showlegend": false,
           "type": "scatter",
           "x": [
            110,
            110,
            120,
            120,
            110
           ],
           "y": [
            0,
            53.5,
            53.5,
            0,
            0
           ]
          },
          {
           "hoverinfo": "text",
           "hovertext": [
            "nflId:41243<br>displayName:C.J. Mosley<br>Player Speed:2.058 MPH",
            "nflId:41270<br>displayName:Lamarcus Joyner<br>Player Speed:1.387 MPH",
            "nflId:42467<br>displayName:Kwon Alexander<br>Player Speed:0.022 MPH",
            "nflId:43508<br>displayName:Will Parks<br>Player Speed:3.512 MPH",
            "nflId:44815<br>displayName:Solomon Thomas<br>Player Speed:0.045 MPH",
            "nflId:46141<br>displayName:Nathan Shepherd<br>Player Speed:0.089 MPH",
            "nflId:46186<br>displayName:Jordan Whitehead<br>Player Speed:5.883 MPH",
            "nflId:46211<br>displayName:D.J. Reed<br>Player Speed:2.796 MPH",
            "nflId:54469<br>displayName:Ahmad Gardner<br>Player Speed:2.304 MPH",
            "nflId:54491<br>displayName:Jermaine Johnson<br>Player Speed:0.134 MPH",
            "nflId:54582<br>displayName:Micheal Clemons<br>Player Speed:0.313 MPH"
           ],
           "marker": {
            "color": "#000000",
            "line": {
             "color": "#125740",
             "width": 2
            },
            "size": 10
           },
           "mode": "markers",
           "name": "NYJ",
           "type": "scatter",
           "x": [
            44.85,
            54.72,
            45.65,
            44.34,
            40.64,
            40.89,
            47.78,
            43.7,
            48.71,
            40.76,
            40.78
           ],
           "y": [
            26.63,
            25.98,
            30.66,
            22.15,
            28.66,
            32.11,
            35.01,
            37.27,
            17.49,
            24.2,
            36.68
           ]
          },
          {
           "hoverinfo": "text",
           "hovertext": [
            "nflId:42718<br>displayName:Raheem Mostert<br>Player Speed:0.0 MPH",
            "nflId:43447<br>displayName:Brandon Shell<br>Player Speed:0.0 MPH",
            "nflId:43454<br>displayName:Tyreek Hill<br>Player Speed:0.022 MPH",
            "nflId:46119<br>displayName:Connor Williams<br>Player Speed:0.0 MPH",
            "nflId:46203<br>displayName:Chase Edmonds<br>Player Speed:0.022 MPH",
            "nflId:47820<br>displayName:Greg Little<br>Player Speed:0.0 MPH",
            "nflId:52447<br>displayName:Robert Hunt<br>Player Speed:0.0 MPH",
            "nflId:53435<br>displayName:Jaylen Waddle<br>Player Speed:15.412 MPH",
            "nflId:53471<br>displayName:Liam Eichenberg<br>Player Speed:0.0 MPH",
            "nflId:54712<br>displayName:Skylar Thompson<br>Player Speed:0.0 MPH",
            "nflId:54931<br>displayName:Tanner Conner<br>Player Speed:0.0 MPH"
           ],
           "marker": {
            "color": "#008E97",
            "line": {
             "color": "#FC4C02",
             "width": 2
            },
            "size": 10
           },
           "mode": "markers",
           "name": "MIA",
           "type": "scatter",
           "x": [
            35.11,
            38.95,
            39.62,
            39.9,
            34.82,
            38.95,
            39.21,
            37.39,
            39.15,
            34.85,
            38.78
           ],
           "y": [
            26.79,
            33,
            20.98,
            29.66,
            32.89,
            26.81,
            28.41,
            24.47,
            31.3,
            29.84,
            34.71
           ]
          },
          {
           "hoverinfo": "none",
           "marker": {
            "color": "#CBB67C",
            "line": {
             "color": "#663831",
             "width": 2
            },
            "size": 10
           },
           "mode": "markers",
           "name": "football",
           "type": "scatter",
           "x": [
            40.0999984741211
           ],
           "y": [
            29.7600002288818
           ]
          }
         ],
         "name": "92"
        },
        {
         "data": [
          {
           "hoverinfo": "none",
           "mode": "text",
           "showlegend": false,
           "text": [
            "10",
            "20",
            "30",
            "40",
            "50",
            "40",
            "30",
            "20",
            "10"
           ],
           "textfont": {
            "color": "#ffffff",
            "family": "Courier New, monospace",
            "size": 30
           },
           "type": "scatter",
           "x": [
            20,
            30,
            40,
            50,
            60,
            70,
            80,
            90,
            100
           ],
           "y": [
            5,
            5,
            5,
            5,
            5,
            5,
            5,
            5,
            5
           ]
          },
          {
           "hoverinfo": "none",
           "mode": "text",
           "showlegend": false,
           "text": [
            "10",
            "20",
            "30",
            "40",
            "50",
            "40",
            "30",
            "20",
            "10"
           ],
           "textfont": {
            "color": "#ffffff",
            "family": "Courier New, monospace",
            "size": 30
           },
           "type": "scatter",
           "x": [
            20,
            30,
            40,
            50,
            60,
            70,
            80,
            90,
            100
           ],
           "y": [
            48.5,
            48.5,
            48.5,
            48.5,
            48.5,
            48.5,
            48.5,
            48.5,
            48.5
           ]
          },
          {
           "hoverinfo": "none",
           "line": {
            "color": "blue",
            "dash": "dash"
           },
           "showlegend": false,
           "type": "scatter",
           "x": [
            40,
            40
           ],
           "y": [
            0,
            53.5
           ]
          },
          {
           "hoverinfo": "none",
           "line": {
            "color": "yellow",
            "dash": "dash"
           },
           "showlegend": false,
           "type": "scatter",
           "x": [
            45,
            45
           ],
           "y": [
            0,
            53.5
           ]
          },
          {
           "fill": "toself",
           "fillcolor": "#000000",
           "hoverinfo": "skip",
           "line": {
            "color": "white",
            "width": 3
           },
           "mode": "lines",
           "opacity": 1,
           "showlegend": false,
           "type": "scatter",
           "x": [
            0,
            0,
            10,
            10,
            0
           ],
           "y": [
            0,
            53.5,
            53.5,
            0,
            0
           ]
          },
          {
           "fill": "toself",
           "fillcolor": "#008E97",
           "hoverinfo": "skip",
           "line": {
            "color": "white",
            "width": 3
           },
           "mode": "lines",
           "opacity": 1,
           "showlegend": false,
           "type": "scatter",
           "x": [
            110,
            110,
            120,
            120,
            110
           ],
           "y": [
            0,
            53.5,
            53.5,
            0,
            0
           ]
          },
          {
           "hoverinfo": "text",
           "hovertext": [
            "nflId:41243<br>displayName:C.J. Mosley<br>Player Speed:2.684 MPH",
            "nflId:41270<br>displayName:Lamarcus Joyner<br>Player Speed:1.834 MPH",
            "nflId:42467<br>displayName:Kwon Alexander<br>Player Speed:0.291 MPH",
            "nflId:43508<br>displayName:Will Parks<br>Player Speed:3.825 MPH",
            "nflId:44815<br>displayName:Solomon Thomas<br>Player Speed:0.022 MPH",
            "nflId:46141<br>displayName:Nathan Shepherd<br>Player Speed:0.089 MPH",
            "nflId:46186<br>displayName:Jordan Whitehead<br>Player Speed:5.816 MPH",
            "nflId:46211<br>displayName:D.J. Reed<br>Player Speed:2.886 MPH",
            "nflId:54469<br>displayName:Ahmad Gardner<br>Player Speed:2.349 MPH",
            "nflId:54491<br>displayName:Jermaine Johnson<br>Player Speed:0.246 MPH",
            "nflId:54582<br>displayName:Micheal Clemons<br>Player Speed:0.291 MPH"
           ],
           "marker": {
            "color": "#000000",
            "line": {
             "color": "#125740",
             "width": 2
            },
            "size": 10
           },
           "mode": "markers",
           "name": "NYJ",
           "type": "scatter",
           "x": [
            44.85,
            54.73,
            45.65,
            44.36,
            40.63,
            40.9,
            47.54,
            43.72,
            48.69,
            40.78,
            40.77
           ],
           "y": [
            26.74,
            26.05,
            30.68,
            22.31,
            28.66,
            32.11,
            35.12,
            37.4,
            17.59,
            24.2,
            36.69
           ]
          },
          {
           "hoverinfo": "text",
           "hovertext": [
            "nflId:42718<br>displayName:Raheem Mostert<br>Player Speed:0.0 MPH",
            "nflId:43447<br>displayName:Brandon Shell<br>Player Speed:0.0 MPH",
            "nflId:43454<br>displayName:Tyreek Hill<br>Player Speed:0.022 MPH",
            "nflId:46119<br>displayName:Connor Williams<br>Player Speed:0.0 MPH",
            "nflId:46203<br>displayName:Chase Edmonds<br>Player Speed:0.022 MPH",
            "nflId:47820<br>displayName:Greg Little<br>Player Speed:0.0 MPH",
            "nflId:52447<br>displayName:Robert Hunt<br>Player Speed:0.0 MPH",
            "nflId:53435<br>displayName:Jaylen Waddle<br>Player Speed:16.061 MPH",
            "nflId:53471<br>displayName:Liam Eichenberg<br>Player Speed:0.0 MPH",
            "nflId:54712<br>displayName:Skylar Thompson<br>Player Speed:0.0 MPH",
            "nflId:54931<br>displayName:Tanner Conner<br>Player Speed:0.0 MPH"
           ],
           "marker": {
            "color": "#008E97",
            "line": {
             "color": "#FC4C02",
             "width": 2
            },
            "size": 10
           },
           "mode": "markers",
           "name": "MIA",
           "type": "scatter",
           "x": [
            35.11,
            38.95,
            39.62,
            39.9,
            34.82,
            38.94,
            39.2,
            37.33,
            39.15,
            34.85,
            38.78
           ],
           "y": [
            26.79,
            33,
            20.98,
            29.67,
            32.89,
            26.81,
            28.41,
            25.18,
            31.31,
            29.84,
            34.7
           ]
          },
          {
           "hoverinfo": "none",
           "marker": {
            "color": "#CBB67C",
            "line": {
             "color": "#663831",
             "width": 2
            },
            "size": 10
           },
           "mode": "markers",
           "name": "football",
           "type": "scatter",
           "x": [
            40.0999984741211
           ],
           "y": [
            29.7600002288818
           ]
          }
         ],
         "name": "93"
        },
        {
         "data": [
          {
           "hoverinfo": "none",
           "mode": "text",
           "showlegend": false,
           "text": [
            "10",
            "20",
            "30",
            "40",
            "50",
            "40",
            "30",
            "20",
            "10"
           ],
           "textfont": {
            "color": "#ffffff",
            "family": "Courier New, monospace",
            "size": 30
           },
           "type": "scatter",
           "x": [
            20,
            30,
            40,
            50,
            60,
            70,
            80,
            90,
            100
           ],
           "y": [
            5,
            5,
            5,
            5,
            5,
            5,
            5,
            5,
            5
           ]
          },
          {
           "hoverinfo": "none",
           "mode": "text",
           "showlegend": false,
           "text": [
            "10",
            "20",
            "30",
            "40",
            "50",
            "40",
            "30",
            "20",
            "10"
           ],
           "textfont": {
            "color": "#ffffff",
            "family": "Courier New, monospace",
            "size": 30
           },
           "type": "scatter",
           "x": [
            20,
            30,
            40,
            50,
            60,
            70,
            80,
            90,
            100
           ],
           "y": [
            48.5,
            48.5,
            48.5,
            48.5,
            48.5,
            48.5,
            48.5,
            48.5,
            48.5
           ]
          },
          {
           "hoverinfo": "none",
           "line": {
            "color": "blue",
            "dash": "dash"
           },
           "showlegend": false,
           "type": "scatter",
           "x": [
            40,
            40
           ],
           "y": [
            0,
            53.5
           ]
          },
          {
           "hoverinfo": "none",
           "line": {
            "color": "yellow",
            "dash": "dash"
           },
           "showlegend": false,
           "type": "scatter",
           "x": [
            45,
            45
           ],
           "y": [
            0,
            53.5
           ]
          },
          {
           "fill": "toself",
           "fillcolor": "#000000",
           "hoverinfo": "skip",
           "line": {
            "color": "white",
            "width": 3
           },
           "mode": "lines",
           "opacity": 1,
           "showlegend": false,
           "type": "scatter",
           "x": [
            0,
            0,
            10,
            10,
            0
           ],
           "y": [
            0,
            53.5,
            53.5,
            0,
            0
           ]
          },
          {
           "fill": "toself",
           "fillcolor": "#008E97",
           "hoverinfo": "skip",
           "line": {
            "color": "white",
            "width": 3
           },
           "mode": "lines",
           "opacity": 1,
           "showlegend": false,
           "type": "scatter",
           "x": [
            110,
            110,
            120,
            120,
            110
           ],
           "y": [
            0,
            53.5,
            53.5,
            0,
            0
           ]
          },
          {
           "hoverinfo": "text",
           "hovertext": [
            "nflId:41243<br>displayName:C.J. Mosley<br>Player Speed:3.333 MPH",
            "nflId:41270<br>displayName:Lamarcus Joyner<br>Player Speed:2.17 MPH",
            "nflId:42467<br>displayName:Kwon Alexander<br>Player Speed:0.693 MPH",
            "nflId:43508<br>displayName:Will Parks<br>Player Speed:3.915 MPH",
            "nflId:44815<br>displayName:Solomon Thomas<br>Player Speed:0.022 MPH",
            "nflId:46141<br>displayName:Nathan Shepherd<br>Player Speed:0.067 MPH",
            "nflId:46186<br>displayName:Jordan Whitehead<br>Player Speed:5.749 MPH",
            "nflId:46211<br>displayName:D.J. Reed<br>Player Speed:2.953 MPH",
            "nflId:54469<br>displayName:Ahmad Gardner<br>Player Speed:2.371 MPH",
            "nflId:54491<br>displayName:Jermaine Johnson<br>Player Speed:0.582 MPH",
            "nflId:54582<br>displayName:Micheal Clemons<br>Player Speed:0.179 MPH"
           ],
           "marker": {
            "color": "#000000",
            "line": {
             "color": "#125740",
             "width": 2
            },
            "size": 10
           },
           "mode": "markers",
           "name": "NYJ",
           "type": "scatter",
           "x": [
            44.85,
            54.74,
            45.65,
            44.4,
            40.63,
            40.9,
            47.31,
            43.74,
            48.68,
            40.77,
            40.78
           ],
           "y": [
            26.88,
            26.14,
            30.71,
            22.49,
            28.67,
            32.12,
            35.24,
            37.52,
            17.69,
            24.17,
            36.68
           ]
          },
          {
           "hoverinfo": "text",
           "hovertext": [
            "nflId:42718<br>displayName:Raheem Mostert<br>Player Speed:0.0 MPH",
            "nflId:43447<br>displayName:Brandon Shell<br>Player Speed:0.0 MPH",
            "nflId:43454<br>displayName:Tyreek Hill<br>Player Speed:0.022 MPH",
            "nflId:46119<br>displayName:Connor Williams<br>Player Speed:0.0 MPH",
            "nflId:46203<br>displayName:Chase Edmonds<br>Player Speed:0.0 MPH",
            "nflId:47820<br>displayName:Greg Little<br>Player Speed:0.0 MPH",
            "nflId:52447<br>displayName:Robert Hunt<br>Player Speed:0.0 MPH",
            "nflId:53435<br>displayName:Jaylen Waddle<br>Player Speed:16.531 MPH",
            "nflId:53471<br>displayName:Liam Eichenberg<br>Player Speed:0.0 MPH",
            "nflId:54712<br>displayName:Skylar Thompson<br>Player Speed:0.0 MPH",
            "nflId:54931<br>displayName:Tanner Conner<br>Player Speed:0.0 MPH"
           ],
           "marker": {
            "color": "#008E97",
            "line": {
             "color": "#FC4C02",
             "width": 2
            },
            "size": 10
           },
           "mode": "markers",
           "name": "MIA",
           "type": "scatter",
           "x": [
            35.11,
            38.95,
            39.62,
            39.9,
            34.82,
            38.94,
            39.2,
            37.26,
            39.15,
            34.86,
            38.78
           ],
           "y": [
            26.79,
            33,
            20.98,
            29.66,
            32.9,
            26.8,
            28.41,
            25.91,
            31.3,
            29.84,
            34.7
           ]
          },
          {
           "hoverinfo": "none",
           "marker": {
            "color": "#CBB67C",
            "line": {
             "color": "#663831",
             "width": 2
            },
            "size": 10
           },
           "mode": "markers",
           "name": "football",
           "type": "scatter",
           "x": [
            40.0999984741211
           ],
           "y": [
            29.7600002288818
           ]
          }
         ],
         "name": "94"
        },
        {
         "data": [
          {
           "hoverinfo": "none",
           "mode": "text",
           "showlegend": false,
           "text": [
            "10",
            "20",
            "30",
            "40",
            "50",
            "40",
            "30",
            "20",
            "10"
           ],
           "textfont": {
            "color": "#ffffff",
            "family": "Courier New, monospace",
            "size": 30
           },
           "type": "scatter",
           "x": [
            20,
            30,
            40,
            50,
            60,
            70,
            80,
            90,
            100
           ],
           "y": [
            5,
            5,
            5,
            5,
            5,
            5,
            5,
            5,
            5
           ]
          },
          {
           "hoverinfo": "none",
           "mode": "text",
           "showlegend": false,
           "text": [
            "10",
            "20",
            "30",
            "40",
            "50",
            "40",
            "30",
            "20",
            "10"
           ],
           "textfont": {
            "color": "#ffffff",
            "family": "Courier New, monospace",
            "size": 30
           },
           "type": "scatter",
           "x": [
            20,
            30,
            40,
            50,
            60,
            70,
            80,
            90,
            100
           ],
           "y": [
            48.5,
            48.5,
            48.5,
            48.5,
            48.5,
            48.5,
            48.5,
            48.5,
            48.5
           ]
          },
          {
           "hoverinfo": "none",
           "line": {
            "color": "blue",
            "dash": "dash"
           },
           "showlegend": false,
           "type": "scatter",
           "x": [
            40,
            40
           ],
           "y": [
            0,
            53.5
           ]
          },
          {
           "hoverinfo": "none",
           "line": {
            "color": "yellow",
            "dash": "dash"
           },
           "showlegend": false,
           "type": "scatter",
           "x": [
            45,
            45
           ],
           "y": [
            0,
            53.5
           ]
          },
          {
           "fill": "toself",
           "fillcolor": "#000000",
           "hoverinfo": "skip",
           "line": {
            "color": "white",
            "width": 3
           },
           "mode": "lines",
           "opacity": 1,
           "showlegend": false,
           "type": "scatter",
           "x": [
            0,
            0,
            10,
            10,
            0
           ],
           "y": [
            0,
            53.5,
            53.5,
            0,
            0
           ]
          },
          {
           "fill": "toself",
           "fillcolor": "#008E97",
           "hoverinfo": "skip",
           "line": {
            "color": "white",
            "width": 3
           },
           "mode": "lines",
           "opacity": 1,
           "showlegend": false,
           "type": "scatter",
           "x": [
            110,
            110,
            120,
            120,
            110
           ],
           "y": [
            0,
            53.5,
            53.5,
            0,
            0
           ]
          },
          {
           "hoverinfo": "text",
           "hovertext": [
            "nflId:41243<br>displayName:C.J. Mosley<br>Player Speed:3.915 MPH",
            "nflId:41270<br>displayName:Lamarcus Joyner<br>Player Speed:2.505 MPH",
            "nflId:42467<br>displayName:Kwon Alexander<br>Player Speed:1.297 MPH",
            "nflId:43508<br>displayName:Will Parks<br>Player Speed:3.915 MPH",
            "nflId:44815<br>displayName:Solomon Thomas<br>Player Speed:0.045 MPH",
            "nflId:46141<br>displayName:Nathan Shepherd<br>Player Speed:0.067 MPH",
            "nflId:46186<br>displayName:Jordan Whitehead<br>Player Speed:5.704 MPH",
            "nflId:46211<br>displayName:D.J. Reed<br>Player Speed:3.132 MPH",
            "nflId:54469<br>displayName:Ahmad Gardner<br>Player Speed:2.371 MPH",
            "nflId:54491<br>displayName:Jermaine Johnson<br>Player Speed:0.761 MPH",
            "nflId:54582<br>displayName:Micheal Clemons<br>Player Speed:0.112 MPH"
           ],
           "marker": {
            "color": "#000000",
            "line": {
             "color": "#125740",
             "width": 2
            },
            "size": 10
           },
           "mode": "markers",
           "name": "NYJ",
           "type": "scatter",
           "x": [
            44.86,
            54.75,
            45.65,
            44.43,
            40.62,
            40.89,
            47.08,
            43.77,
            48.67,
            40.78,
            40.79
           ],
           "y": [
            27.04,
            26.25,
            30.75,
            22.65,
            28.67,
            32.11,
            35.35,
            37.66,
            17.8,
            24.14,
            36.68
           ]
          },
          {
           "hoverinfo": "text",
           "hovertext": [
            "nflId:42718<br>displayName:Raheem Mostert<br>Player Speed:0.0 MPH",
            "nflId:43447<br>displayName:Brandon Shell<br>Player Speed:0.0 MPH",
            "nflId:43454<br>displayName:Tyreek Hill<br>Player Speed:0.022 MPH",
            "nflId:46119<br>displayName:Connor Williams<br>Player Speed:0.0 MPH",
            "nflId:46203<br>displayName:Chase Edmonds<br>Player Speed:0.0 MPH",
            "nflId:47820<br>displayName:Greg Little<br>Player Speed:0.0 MPH",
            "nflId:52447<br>displayName:Robert Hunt<br>Player Speed:0.0 MPH",
            "nflId:53435<br>displayName:Jaylen Waddle<br>Player Speed:16.844 MPH",
            "nflId:53471<br>displayName:Liam Eichenberg<br>Player Speed:0.0 MPH",
            "nflId:54712<br>displayName:Skylar Thompson<br>Player Speed:0.0 MPH",
            "nflId:54931<br>displayName:Tanner Conner<br>Player Speed:0.0 MPH"
           ],
           "marker": {
            "color": "#008E97",
            "line": {
             "color": "#FC4C02",
             "width": 2
            },
            "size": 10
           },
           "mode": "markers",
           "name": "MIA",
           "type": "scatter",
           "x": [
            35.11,
            38.95,
            39.62,
            39.9,
            34.82,
            38.94,
            39.2,
            37.19,
            39.15,
            34.87,
            38.78
           ],
           "y": [
            26.79,
            33,
            20.98,
            29.66,
            32.9,
            26.81,
            28.42,
            26.66,
            31.3,
            29.84,
            34.7
           ]
          },
          {
           "hoverinfo": "none",
           "marker": {
            "color": "#CBB67C",
            "line": {
             "color": "#663831",
             "width": 2
            },
            "size": 10
           },
           "mode": "markers",
           "name": "football",
           "type": "scatter",
           "x": [
            40.0999984741211
           ],
           "y": [
            29.7600002288818
           ]
          }
         ],
         "name": "95"
        },
        {
         "data": [
          {
           "hoverinfo": "none",
           "mode": "text",
           "showlegend": false,
           "text": [
            "10",
            "20",
            "30",
            "40",
            "50",
            "40",
            "30",
            "20",
            "10"
           ],
           "textfont": {
            "color": "#ffffff",
            "family": "Courier New, monospace",
            "size": 30
           },
           "type": "scatter",
           "x": [
            20,
            30,
            40,
            50,
            60,
            70,
            80,
            90,
            100
           ],
           "y": [
            5,
            5,
            5,
            5,
            5,
            5,
            5,
            5,
            5
           ]
          },
          {
           "hoverinfo": "none",
           "mode": "text",
           "showlegend": false,
           "text": [
            "10",
            "20",
            "30",
            "40",
            "50",
            "40",
            "30",
            "20",
            "10"
           ],
           "textfont": {
            "color": "#ffffff",
            "family": "Courier New, monospace",
            "size": 30
           },
           "type": "scatter",
           "x": [
            20,
            30,
            40,
            50,
            60,
            70,
            80,
            90,
            100
           ],
           "y": [
            48.5,
            48.5,
            48.5,
            48.5,
            48.5,
            48.5,
            48.5,
            48.5,
            48.5
           ]
          },
          {
           "hoverinfo": "none",
           "line": {
            "color": "blue",
            "dash": "dash"
           },
           "showlegend": false,
           "type": "scatter",
           "x": [
            40,
            40
           ],
           "y": [
            0,
            53.5
           ]
          },
          {
           "hoverinfo": "none",
           "line": {
            "color": "yellow",
            "dash": "dash"
           },
           "showlegend": false,
           "type": "scatter",
           "x": [
            45,
            45
           ],
           "y": [
            0,
            53.5
           ]
          },
          {
           "fill": "toself",
           "fillcolor": "#000000",
           "hoverinfo": "skip",
           "line": {
            "color": "white",
            "width": 3
           },
           "mode": "lines",
           "opacity": 1,
           "showlegend": false,
           "type": "scatter",
           "x": [
            0,
            0,
            10,
            10,
            0
           ],
           "y": [
            0,
            53.5,
            53.5,
            0,
            0
           ]
          },
          {
           "fill": "toself",
           "fillcolor": "#008E97",
           "hoverinfo": "skip",
           "line": {
            "color": "white",
            "width": 3
           },
           "mode": "lines",
           "opacity": 1,
           "showlegend": false,
           "type": "scatter",
           "x": [
            110,
            110,
            120,
            120,
            110
           ],
           "y": [
            0,
            53.5,
            53.5,
            0,
            0
           ]
          },
          {
           "hoverinfo": "text",
           "hovertext": [
            "nflId:41243<br>displayName:C.J. Mosley<br>Player Speed:4.474 MPH",
            "nflId:41270<br>displayName:Lamarcus Joyner<br>Player Speed:2.774 MPH",
            "nflId:42467<br>displayName:Kwon Alexander<br>Player Speed:1.879 MPH",
            "nflId:43508<br>displayName:Will Parks<br>Player Speed:3.915 MPH",
            "nflId:44815<br>displayName:Solomon Thomas<br>Player Speed:0.045 MPH",
            "nflId:46141<br>displayName:Nathan Shepherd<br>Player Speed:0.045 MPH",
            "nflId:46186<br>displayName:Jordan Whitehead<br>Player Speed:5.637 MPH",
            "nflId:46211<br>displayName:D.J. Reed<br>Player Speed:3.288 MPH",
            "nflId:54469<br>displayName:Ahmad Gardner<br>Player Speed:2.349 MPH",
            "nflId:54491<br>displayName:Jermaine Johnson<br>Player Speed:0.828 MPH",
            "nflId:54582<br>displayName:Micheal Clemons<br>Player Speed:0.089 MPH"
           ],
           "marker": {
            "color": "#000000",
            "line": {
             "color": "#125740",
             "width": 2
            },
            "size": 10
           },
           "mode": "markers",
           "name": "NYJ",
           "type": "scatter",
           "x": [
            44.87,
            54.77,
            45.64,
            44.45,
            40.61,
            40.89,
            46.85,
            43.81,
            48.66,
            40.78,
            40.8
           ],
           "y": [
            27.23,
            26.36,
            30.83,
            22.83,
            28.67,
            32.11,
            35.45,
            37.8,
            17.91,
            24.11,
            36.68
           ]
          },
          {
           "hoverinfo": "text",
           "hovertext": [
            "nflId:42718<br>displayName:Raheem Mostert<br>Player Speed:0.0 MPH",
            "nflId:43447<br>displayName:Brandon Shell<br>Player Speed:0.0 MPH",
            "nflId:43454<br>displayName:Tyreek Hill<br>Player Speed:0.0 MPH",
            "nflId:46119<br>displayName:Connor Williams<br>Player Speed:0.0 MPH",
            "nflId:46203<br>displayName:Chase Edmonds<br>Player Speed:0.0 MPH",
            "nflId:47820<br>displayName:Greg Little<br>Player Speed:0.0 MPH",
            "nflId:52447<br>displayName:Robert Hunt<br>Player Speed:0.0 MPH",
            "nflId:53435<br>displayName:Jaylen Waddle<br>Player Speed:17.113 MPH",
            "nflId:53471<br>displayName:Liam Eichenberg<br>Player Speed:0.0 MPH",
            "nflId:54712<br>displayName:Skylar Thompson<br>Player Speed:0.0 MPH",
            "nflId:54931<br>displayName:Tanner Conner<br>Player Speed:0.0 MPH"
           ],
           "marker": {
            "color": "#008E97",
            "line": {
             "color": "#FC4C02",
             "width": 2
            },
            "size": 10
           },
           "mode": "markers",
           "name": "MIA",
           "type": "scatter",
           "x": [
            35.11,
            38.95,
            39.62,
            39.91,
            34.82,
            38.94,
            39.2,
            37.12,
            39.15,
            34.88,
            38.78
           ],
           "y": [
            26.79,
            33,
            20.98,
            29.66,
            32.9,
            26.81,
            28.41,
            27.42,
            31.3,
            29.85,
            34.7
           ]
          },
          {
           "hoverinfo": "none",
           "marker": {
            "color": "#CBB67C",
            "line": {
             "color": "#663831",
             "width": 2
            },
            "size": 10
           },
           "mode": "markers",
           "name": "football",
           "type": "scatter",
           "x": [
            40.0999984741211
           ],
           "y": [
            29.7600002288818
           ]
          }
         ],
         "name": "96"
        },
        {
         "data": [
          {
           "hoverinfo": "none",
           "mode": "text",
           "showlegend": false,
           "text": [
            "10",
            "20",
            "30",
            "40",
            "50",
            "40",
            "30",
            "20",
            "10"
           ],
           "textfont": {
            "color": "#ffffff",
            "family": "Courier New, monospace",
            "size": 30
           },
           "type": "scatter",
           "x": [
            20,
            30,
            40,
            50,
            60,
            70,
            80,
            90,
            100
           ],
           "y": [
            5,
            5,
            5,
            5,
            5,
            5,
            5,
            5,
            5
           ]
          },
          {
           "hoverinfo": "none",
           "mode": "text",
           "showlegend": false,
           "text": [
            "10",
            "20",
            "30",
            "40",
            "50",
            "40",
            "30",
            "20",
            "10"
           ],
           "textfont": {
            "color": "#ffffff",
            "family": "Courier New, monospace",
            "size": 30
           },
           "type": "scatter",
           "x": [
            20,
            30,
            40,
            50,
            60,
            70,
            80,
            90,
            100
           ],
           "y": [
            48.5,
            48.5,
            48.5,
            48.5,
            48.5,
            48.5,
            48.5,
            48.5,
            48.5
           ]
          },
          {
           "hoverinfo": "none",
           "line": {
            "color": "blue",
            "dash": "dash"
           },
           "showlegend": false,
           "type": "scatter",
           "x": [
            40,
            40
           ],
           "y": [
            0,
            53.5
           ]
          },
          {
           "hoverinfo": "none",
           "line": {
            "color": "yellow",
            "dash": "dash"
           },
           "showlegend": false,
           "type": "scatter",
           "x": [
            45,
            45
           ],
           "y": [
            0,
            53.5
           ]
          },
          {
           "fill": "toself",
           "fillcolor": "#000000",
           "hoverinfo": "skip",
           "line": {
            "color": "white",
            "width": 3
           },
           "mode": "lines",
           "opacity": 1,
           "showlegend": false,
           "type": "scatter",
           "x": [
            0,
            0,
            10,
            10,
            0
           ],
           "y": [
            0,
            53.5,
            53.5,
            0,
            0
           ]
          },
          {
           "fill": "toself",
           "fillcolor": "#008E97",
           "hoverinfo": "skip",
           "line": {
            "color": "white",
            "width": 3
           },
           "mode": "lines",
           "opacity": 1,
           "showlegend": false,
           "type": "scatter",
           "x": [
            110,
            110,
            120,
            120,
            110
           ],
           "y": [
            0,
            53.5,
            53.5,
            0,
            0
           ]
          },
          {
           "hoverinfo": "text",
           "hovertext": [
            "nflId:41243<br>displayName:C.J. Mosley<br>Player Speed:4.854 MPH",
            "nflId:41270<br>displayName:Lamarcus Joyner<br>Player Speed:3.132 MPH",
            "nflId:42467<br>displayName:Kwon Alexander<br>Player Speed:2.505 MPH",
            "nflId:43508<br>displayName:Will Parks<br>Player Speed:3.848 MPH",
            "nflId:44815<br>displayName:Solomon Thomas<br>Player Speed:0.022 MPH",
            "nflId:46141<br>displayName:Nathan Shepherd<br>Player Speed:0.045 MPH",
            "nflId:46186<br>displayName:Jordan Whitehead<br>Player Speed:5.592 MPH",
            "nflId:46211<br>displayName:D.J. Reed<br>Player Speed:3.467 MPH",
            "nflId:54469<br>displayName:Ahmad Gardner<br>Player Speed:2.259 MPH",
            "nflId:54491<br>displayName:Jermaine Johnson<br>Player Speed:0.761 MPH",
            "nflId:54582<br>displayName:Micheal Clemons<br>Player Speed:0.022 MPH"
           ],
           "marker": {
            "color": "#000000",
            "line": {
             "color": "#125740",
             "width": 2
            },
            "size": 10
           },
           "mode": "markers",
           "name": "NYJ",
           "type": "scatter",
           "x": [
            44.87,
            54.81,
            45.64,
            44.46,
            40.61,
            40.89,
            46.62,
            43.85,
            48.66,
            40.79,
            40.8
           ],
           "y": [
            27.43,
            26.49,
            30.93,
            23,
            28.67,
            32.11,
            35.56,
            37.95,
            18.01,
            24.09,
            36.66
           ]
          },
          {
           "hoverinfo": "text",
           "hovertext": [
            "nflId:42718<br>displayName:Raheem Mostert<br>Player Speed:0.0 MPH",
            "nflId:43447<br>displayName:Brandon Shell<br>Player Speed:0.0 MPH",
            "nflId:43454<br>displayName:Tyreek Hill<br>Player Speed:0.0 MPH",
            "nflId:46119<br>displayName:Connor Williams<br>Player Speed:0.0 MPH",
            "nflId:46203<br>displayName:Chase Edmonds<br>Player Speed:0.0 MPH",
            "nflId:47820<br>displayName:Greg Little<br>Player Speed:0.0 MPH",
            "nflId:52447<br>displayName:Robert Hunt<br>Player Speed:0.0 MPH",
            "nflId:53435<br>displayName:Jaylen Waddle<br>Player Speed:17.247 MPH",
            "nflId:53471<br>displayName:Liam Eichenberg<br>Player Speed:0.0 MPH",
            "nflId:54712<br>displayName:Skylar Thompson<br>Player Speed:0.022 MPH",
            "nflId:54931<br>displayName:Tanner Conner<br>Player Speed:0.0 MPH"
           ],
           "marker": {
            "color": "#008E97",
            "line": {
             "color": "#FC4C02",
             "width": 2
            },
            "size": 10
           },
           "mode": "markers",
           "name": "MIA",
           "type": "scatter",
           "x": [
            35.11,
            38.95,
            39.62,
            39.91,
            34.82,
            38.94,
            39.2,
            37.05,
            39.15,
            34.89,
            38.78
           ],
           "y": [
            26.79,
            33,
            20.98,
            29.66,
            32.91,
            26.81,
            28.42,
            28.19,
            31.3,
            29.85,
            34.69
           ]
          },
          {
           "hoverinfo": "none",
           "marker": {
            "color": "#CBB67C",
            "line": {
             "color": "#663831",
             "width": 2
            },
            "size": 10
           },
           "mode": "markers",
           "name": "football",
           "type": "scatter",
           "x": [
            40.0999984741211
           ],
           "y": [
            29.7600002288818
           ]
          }
         ],
         "name": "97"
        },
        {
         "data": [
          {
           "hoverinfo": "none",
           "mode": "text",
           "showlegend": false,
           "text": [
            "10",
            "20",
            "30",
            "40",
            "50",
            "40",
            "30",
            "20",
            "10"
           ],
           "textfont": {
            "color": "#ffffff",
            "family": "Courier New, monospace",
            "size": 30
           },
           "type": "scatter",
           "x": [
            20,
            30,
            40,
            50,
            60,
            70,
            80,
            90,
            100
           ],
           "y": [
            5,
            5,
            5,
            5,
            5,
            5,
            5,
            5,
            5
           ]
          },
          {
           "hoverinfo": "none",
           "mode": "text",
           "showlegend": false,
           "text": [
            "10",
            "20",
            "30",
            "40",
            "50",
            "40",
            "30",
            "20",
            "10"
           ],
           "textfont": {
            "color": "#ffffff",
            "family": "Courier New, monospace",
            "size": 30
           },
           "type": "scatter",
           "x": [
            20,
            30,
            40,
            50,
            60,
            70,
            80,
            90,
            100
           ],
           "y": [
            48.5,
            48.5,
            48.5,
            48.5,
            48.5,
            48.5,
            48.5,
            48.5,
            48.5
           ]
          },
          {
           "hoverinfo": "none",
           "line": {
            "color": "blue",
            "dash": "dash"
           },
           "showlegend": false,
           "type": "scatter",
           "x": [
            40,
            40
           ],
           "y": [
            0,
            53.5
           ]
          },
          {
           "hoverinfo": "none",
           "line": {
            "color": "yellow",
            "dash": "dash"
           },
           "showlegend": false,
           "type": "scatter",
           "x": [
            45,
            45
           ],
           "y": [
            0,
            53.5
           ]
          },
          {
           "fill": "toself",
           "fillcolor": "#000000",
           "hoverinfo": "skip",
           "line": {
            "color": "white",
            "width": 3
           },
           "mode": "lines",
           "opacity": 1,
           "showlegend": false,
           "type": "scatter",
           "x": [
            0,
            0,
            10,
            10,
            0
           ],
           "y": [
            0,
            53.5,
            53.5,
            0,
            0
           ]
          },
          {
           "fill": "toself",
           "fillcolor": "#008E97",
           "hoverinfo": "skip",
           "line": {
            "color": "white",
            "width": 3
           },
           "mode": "lines",
           "opacity": 1,
           "showlegend": false,
           "type": "scatter",
           "x": [
            110,
            110,
            120,
            120,
            110
           ],
           "y": [
            0,
            53.5,
            53.5,
            0,
            0
           ]
          },
          {
           "hoverinfo": "text",
           "hovertext": [
            "nflId:41243<br>displayName:C.J. Mosley<br>Player Speed:5.033 MPH",
            "nflId:41270<br>displayName:Lamarcus Joyner<br>Player Speed:3.355 MPH",
            "nflId:42467<br>displayName:Kwon Alexander<br>Player Speed:3.042 MPH",
            "nflId:43508<br>displayName:Will Parks<br>Player Speed:3.825 MPH",
            "nflId:44815<br>displayName:Solomon Thomas<br>Player Speed:0.045 MPH",
            "nflId:46141<br>displayName:Nathan Shepherd<br>Player Speed:0.045 MPH",
            "nflId:46186<br>displayName:Jordan Whitehead<br>Player Speed:5.503 MPH",
            "nflId:46211<br>displayName:D.J. Reed<br>Player Speed:3.601 MPH",
            "nflId:54469<br>displayName:Ahmad Gardner<br>Player Speed:2.192 MPH",
            "nflId:54491<br>displayName:Jermaine Johnson<br>Player Speed:0.716 MPH",
            "nflId:54582<br>displayName:Micheal Clemons<br>Player Speed:0.022 MPH"
           ],
           "marker": {
            "color": "#000000",
            "line": {
             "color": "#125740",
             "width": 2
            },
            "size": 10
           },
           "mode": "markers",
           "name": "NYJ",
           "type": "scatter",
           "x": [
            44.88,
            54.85,
            45.63,
            44.47,
            40.6,
            40.89,
            46.39,
            43.9,
            48.66,
            40.8,
            40.79
           ],
           "y": [
            27.65,
            26.63,
            31.06,
            23.17,
            28.68,
            32.11,
            35.66,
            38.1,
            18.11,
            24.07,
            36.65
           ]
          },
          {
           "hoverinfo": "text",
           "hovertext": [
            "nflId:42718<br>displayName:Raheem Mostert<br>Player Speed:0.0 MPH",
            "nflId:43447<br>displayName:Brandon Shell<br>Player Speed:0.0 MPH",
            "nflId:43454<br>displayName:Tyreek Hill<br>Player Speed:0.0 MPH",
            "nflId:46119<br>displayName:Connor Williams<br>Player Speed:0.0 MPH",
            "nflId:46203<br>displayName:Chase Edmonds<br>Player Speed:0.0 MPH",
            "nflId:47820<br>displayName:Greg Little<br>Player Speed:0.0 MPH",
            "nflId:52447<br>displayName:Robert Hunt<br>Player Speed:0.0 MPH",
            "nflId:53435<br>displayName:Jaylen Waddle<br>Player Speed:17.448 MPH",
            "nflId:53471<br>displayName:Liam Eichenberg<br>Player Speed:0.0 MPH",
            "nflId:54712<br>displayName:Skylar Thompson<br>Player Speed:0.022 MPH",
            "nflId:54931<br>displayName:Tanner Conner<br>Player Speed:0.0 MPH"
           ],
           "marker": {
            "color": "#008E97",
            "line": {
             "color": "#FC4C02",
             "width": 2
            },
            "size": 10
           },
           "mode": "markers",
           "name": "MIA",
           "type": "scatter",
           "x": [
            35.11,
            38.95,
            39.62,
            39.91,
            34.82,
            38.93,
            39.2,
            36.98,
            39.15,
            34.9,
            38.78
           ],
           "y": [
            26.79,
            33,
            20.98,
            29.66,
            32.89,
            26.81,
            28.42,
            28.97,
            31.3,
            29.87,
            34.69
           ]
          },
          {
           "hoverinfo": "none",
           "marker": {
            "color": "#CBB67C",
            "line": {
             "color": "#663831",
             "width": 2
            },
            "size": 10
           },
           "mode": "markers",
           "name": "football",
           "type": "scatter",
           "x": [
            40.0999984741211
           ],
           "y": [
            29.7600002288818
           ]
          }
         ],
         "name": "98"
        },
        {
         "data": [
          {
           "hoverinfo": "none",
           "mode": "text",
           "showlegend": false,
           "text": [
            "10",
            "20",
            "30",
            "40",
            "50",
            "40",
            "30",
            "20",
            "10"
           ],
           "textfont": {
            "color": "#ffffff",
            "family": "Courier New, monospace",
            "size": 30
           },
           "type": "scatter",
           "x": [
            20,
            30,
            40,
            50,
            60,
            70,
            80,
            90,
            100
           ],
           "y": [
            5,
            5,
            5,
            5,
            5,
            5,
            5,
            5,
            5
           ]
          },
          {
           "hoverinfo": "none",
           "mode": "text",
           "showlegend": false,
           "text": [
            "10",
            "20",
            "30",
            "40",
            "50",
            "40",
            "30",
            "20",
            "10"
           ],
           "textfont": {
            "color": "#ffffff",
            "family": "Courier New, monospace",
            "size": 30
           },
           "type": "scatter",
           "x": [
            20,
            30,
            40,
            50,
            60,
            70,
            80,
            90,
            100
           ],
           "y": [
            48.5,
            48.5,
            48.5,
            48.5,
            48.5,
            48.5,
            48.5,
            48.5,
            48.5
           ]
          },
          {
           "hoverinfo": "none",
           "line": {
            "color": "blue",
            "dash": "dash"
           },
           "showlegend": false,
           "type": "scatter",
           "x": [
            40,
            40
           ],
           "y": [
            0,
            53.5
           ]
          },
          {
           "hoverinfo": "none",
           "line": {
            "color": "yellow",
            "dash": "dash"
           },
           "showlegend": false,
           "type": "scatter",
           "x": [
            45,
            45
           ],
           "y": [
            0,
            53.5
           ]
          },
          {
           "fill": "toself",
           "fillcolor": "#000000",
           "hoverinfo": "skip",
           "line": {
            "color": "white",
            "width": 3
           },
           "mode": "lines",
           "opacity": 1,
           "showlegend": false,
           "type": "scatter",
           "x": [
            0,
            0,
            10,
            10,
            0
           ],
           "y": [
            0,
            53.5,
            53.5,
            0,
            0
           ]
          },
          {
           "fill": "toself",
           "fillcolor": "#008E97",
           "hoverinfo": "skip",
           "line": {
            "color": "white",
            "width": 3
           },
           "mode": "lines",
           "opacity": 1,
           "showlegend": false,
           "type": "scatter",
           "x": [
            110,
            110,
            120,
            120,
            110
           ],
           "y": [
            0,
            53.5,
            53.5,
            0,
            0
           ]
          },
          {
           "hoverinfo": "text",
           "hovertext": [
            "nflId:41243<br>displayName:C.J. Mosley<br>Player Speed:5.145 MPH",
            "nflId:41270<br>displayName:Lamarcus Joyner<br>Player Speed:3.49 MPH",
            "nflId:42467<br>displayName:Kwon Alexander<br>Player Speed:3.4 MPH",
            "nflId:43508<br>displayName:Will Parks<br>Player Speed:3.691 MPH",
            "nflId:44815<br>displayName:Solomon Thomas<br>Player Speed:0.045 MPH",
            "nflId:46141<br>displayName:Nathan Shepherd<br>Player Speed:0.022 MPH",
            "nflId:46186<br>displayName:Jordan Whitehead<br>Player Speed:5.212 MPH",
            "nflId:46211<br>displayName:D.J. Reed<br>Player Speed:3.78 MPH",
            "nflId:54469<br>displayName:Ahmad Gardner<br>Player Speed:2.103 MPH",
            "nflId:54491<br>displayName:Jermaine Johnson<br>Player Speed:0.693 MPH",
            "nflId:54582<br>displayName:Micheal Clemons<br>Player Speed:0.0 MPH"
           ],
           "marker": {
            "color": "#000000",
            "line": {
             "color": "#125740",
             "width": 2
            },
            "size": 10
           },
           "mode": "markers",
           "name": "NYJ",
           "type": "scatter",
           "x": [
            44.89,
            54.91,
            45.62,
            44.47,
            40.59,
            40.89,
            46.17,
            43.94,
            48.67,
            40.8,
            40.81
           ],
           "y": [
            27.88,
            26.78,
            31.2,
            23.34,
            28.68,
            32.1,
            35.76,
            38.26,
            18.21,
            24.04,
            36.66
           ]
          },
          {
           "hoverinfo": "text",
           "hovertext": [
            "nflId:42718<br>displayName:Raheem Mostert<br>Player Speed:0.0 MPH",
            "nflId:43447<br>displayName:Brandon Shell<br>Player Speed:0.0 MPH",
            "nflId:43454<br>displayName:Tyreek Hill<br>Player Speed:0.0 MPH",
            "nflId:46119<br>displayName:Connor Williams<br>Player Speed:0.0 MPH",
            "nflId:46203<br>displayName:Chase Edmonds<br>Player Speed:0.0 MPH",
            "nflId:47820<br>displayName:Greg Little<br>Player Speed:0.0 MPH",
            "nflId:52447<br>displayName:Robert Hunt<br>Player Speed:0.0 MPH",
            "nflId:53435<br>displayName:Jaylen Waddle<br>Player Speed:17.403 MPH",
            "nflId:53471<br>displayName:Liam Eichenberg<br>Player Speed:0.0 MPH",
            "nflId:54712<br>displayName:Skylar Thompson<br>Player Speed:0.022 MPH",
            "nflId:54931<br>displayName:Tanner Conner<br>Player Speed:0.0 MPH"
           ],
           "marker": {
            "color": "#008E97",
            "line": {
             "color": "#FC4C02",
             "width": 2
            },
            "size": 10
           },
           "mode": "markers",
           "name": "MIA",
           "type": "scatter",
           "x": [
            35.11,
            38.94,
            39.62,
            39.9,
            34.82,
            38.93,
            39.2,
            36.91,
            39.16,
            34.9,
            38.77
           ],
           "y": [
            26.79,
            33,
            20.98,
            29.67,
            32.9,
            26.81,
            28.42,
            29.74,
            31.31,
            29.87,
            34.69
           ]
          },
          {
           "hoverinfo": "none",
           "marker": {
            "color": "#CBB67C",
            "line": {
             "color": "#663831",
             "width": 2
            },
            "size": 10
           },
           "mode": "markers",
           "name": "football",
           "type": "scatter",
           "x": [
            40.0999984741211
           ],
           "y": [
            29.7600002288818
           ]
          }
         ],
         "name": "99"
        },
        {
         "data": [
          {
           "hoverinfo": "none",
           "mode": "text",
           "showlegend": false,
           "text": [
            "10",
            "20",
            "30",
            "40",
            "50",
            "40",
            "30",
            "20",
            "10"
           ],
           "textfont": {
            "color": "#ffffff",
            "family": "Courier New, monospace",
            "size": 30
           },
           "type": "scatter",
           "x": [
            20,
            30,
            40,
            50,
            60,
            70,
            80,
            90,
            100
           ],
           "y": [
            5,
            5,
            5,
            5,
            5,
            5,
            5,
            5,
            5
           ]
          },
          {
           "hoverinfo": "none",
           "mode": "text",
           "showlegend": false,
           "text": [
            "10",
            "20",
            "30",
            "40",
            "50",
            "40",
            "30",
            "20",
            "10"
           ],
           "textfont": {
            "color": "#ffffff",
            "family": "Courier New, monospace",
            "size": 30
           },
           "type": "scatter",
           "x": [
            20,
            30,
            40,
            50,
            60,
            70,
            80,
            90,
            100
           ],
           "y": [
            48.5,
            48.5,
            48.5,
            48.5,
            48.5,
            48.5,
            48.5,
            48.5,
            48.5
           ]
          },
          {
           "hoverinfo": "none",
           "line": {
            "color": "blue",
            "dash": "dash"
           },
           "showlegend": false,
           "type": "scatter",
           "x": [
            40,
            40
           ],
           "y": [
            0,
            53.5
           ]
          },
          {
           "hoverinfo": "none",
           "line": {
            "color": "yellow",
            "dash": "dash"
           },
           "showlegend": false,
           "type": "scatter",
           "x": [
            45,
            45
           ],
           "y": [
            0,
            53.5
           ]
          },
          {
           "fill": "toself",
           "fillcolor": "#000000",
           "hoverinfo": "skip",
           "line": {
            "color": "white",
            "width": 3
           },
           "mode": "lines",
           "opacity": 1,
           "showlegend": false,
           "type": "scatter",
           "x": [
            0,
            0,
            10,
            10,
            0
           ],
           "y": [
            0,
            53.5,
            53.5,
            0,
            0
           ]
          },
          {
           "fill": "toself",
           "fillcolor": "#008E97",
           "hoverinfo": "skip",
           "line": {
            "color": "white",
            "width": 3
           },
           "mode": "lines",
           "opacity": 1,
           "showlegend": false,
           "type": "scatter",
           "x": [
            110,
            110,
            120,
            120,
            110
           ],
           "y": [
            0,
            53.5,
            53.5,
            0,
            0
           ]
          },
          {
           "hoverinfo": "text",
           "hovertext": [
            "nflId:41243<br>displayName:C.J. Mosley<br>Player Speed:4.966 MPH",
            "nflId:41270<br>displayName:Lamarcus Joyner<br>Player Speed:3.669 MPH",
            "nflId:42467<br>displayName:Kwon Alexander<br>Player Speed:3.601 MPH",
            "nflId:43508<br>displayName:Will Parks<br>Player Speed:3.355 MPH",
            "nflId:44815<br>displayName:Solomon Thomas<br>Player Speed:0.045 MPH",
            "nflId:46141<br>displayName:Nathan Shepherd<br>Player Speed:0.022 MPH",
            "nflId:46186<br>displayName:Jordan Whitehead<br>Player Speed:5.055 MPH",
            "nflId:46211<br>displayName:D.J. Reed<br>Player Speed:4.026 MPH",
            "nflId:54469<br>displayName:Ahmad Gardner<br>Player Speed:1.901 MPH",
            "nflId:54491<br>displayName:Jermaine Johnson<br>Player Speed:0.559 MPH",
            "nflId:54582<br>displayName:Micheal Clemons<br>Player Speed:0.022 MPH"
           ],
           "marker": {
            "color": "#000000",
            "line": {
             "color": "#125740",
             "width": 2
            },
            "size": 10
           },
           "mode": "markers",
           "name": "NYJ",
           "type": "scatter",
           "x": [
            44.91,
            54.98,
            45.61,
            44.46,
            40.59,
            40.88,
            45.96,
            43.99,
            48.68,
            40.8,
            40.81
           ],
           "y": [
            28.09,
            26.92,
            31.35,
            23.48,
            28.68,
            32.1,
            35.86,
            38.43,
            18.3,
            24.03,
            36.65
           ]
          },
          {
           "hoverinfo": "text",
           "hovertext": [
            "nflId:42718<br>displayName:Raheem Mostert<br>Player Speed:0.0 MPH",
            "nflId:43447<br>displayName:Brandon Shell<br>Player Speed:0.0 MPH",
            "nflId:43454<br>displayName:Tyreek Hill<br>Player Speed:0.0 MPH",
            "nflId:46119<br>displayName:Connor Williams<br>Player Speed:0.0 MPH",
            "nflId:46203<br>displayName:Chase Edmonds<br>Player Speed:0.0 MPH",
            "nflId:47820<br>displayName:Greg Little<br>Player Speed:0.0 MPH",
            "nflId:52447<br>displayName:Robert Hunt<br>Player Speed:0.0 MPH",
            "nflId:53435<br>displayName:Jaylen Waddle<br>Player Speed:17.426 MPH",
            "nflId:53471<br>displayName:Liam Eichenberg<br>Player Speed:0.0 MPH",
            "nflId:54712<br>displayName:Skylar Thompson<br>Player Speed:0.022 MPH",
            "nflId:54931<br>displayName:Tanner Conner<br>Player Speed:0.0 MPH"
           ],
           "marker": {
            "color": "#008E97",
            "line": {
             "color": "#FC4C02",
             "width": 2
            },
            "size": 10
           },
           "mode": "markers",
           "name": "MIA",
           "type": "scatter",
           "x": [
            35.11,
            38.94,
            39.63,
            39.89,
            34.83,
            38.93,
            39.19,
            36.85,
            39.16,
            34.91,
            38.78
           ],
           "y": [
            26.79,
            33,
            20.98,
            29.67,
            32.91,
            26.81,
            28.42,
            30.52,
            31.31,
            29.88,
            34.69
           ]
          },
          {
           "hoverinfo": "none",
           "marker": {
            "color": "#CBB67C",
            "line": {
             "color": "#663831",
             "width": 2
            },
            "size": 10
           },
           "mode": "markers",
           "name": "football",
           "type": "scatter",
           "x": [
            40.0999984741211
           ],
           "y": [
            29.7600002288818
           ]
          }
         ],
         "name": "100"
        },
        {
         "data": [
          {
           "hoverinfo": "none",
           "mode": "text",
           "showlegend": false,
           "text": [
            "10",
            "20",
            "30",
            "40",
            "50",
            "40",
            "30",
            "20",
            "10"
           ],
           "textfont": {
            "color": "#ffffff",
            "family": "Courier New, monospace",
            "size": 30
           },
           "type": "scatter",
           "x": [
            20,
            30,
            40,
            50,
            60,
            70,
            80,
            90,
            100
           ],
           "y": [
            5,
            5,
            5,
            5,
            5,
            5,
            5,
            5,
            5
           ]
          },
          {
           "hoverinfo": "none",
           "mode": "text",
           "showlegend": false,
           "text": [
            "10",
            "20",
            "30",
            "40",
            "50",
            "40",
            "30",
            "20",
            "10"
           ],
           "textfont": {
            "color": "#ffffff",
            "family": "Courier New, monospace",
            "size": 30
           },
           "type": "scatter",
           "x": [
            20,
            30,
            40,
            50,
            60,
            70,
            80,
            90,
            100
           ],
           "y": [
            48.5,
            48.5,
            48.5,
            48.5,
            48.5,
            48.5,
            48.5,
            48.5,
            48.5
           ]
          },
          {
           "hoverinfo": "none",
           "line": {
            "color": "blue",
            "dash": "dash"
           },
           "showlegend": false,
           "type": "scatter",
           "x": [
            40,
            40
           ],
           "y": [
            0,
            53.5
           ]
          },
          {
           "hoverinfo": "none",
           "line": {
            "color": "yellow",
            "dash": "dash"
           },
           "showlegend": false,
           "type": "scatter",
           "x": [
            45,
            45
           ],
           "y": [
            0,
            53.5
           ]
          },
          {
           "fill": "toself",
           "fillcolor": "#000000",
           "hoverinfo": "skip",
           "line": {
            "color": "white",
            "width": 3
           },
           "mode": "lines",
           "opacity": 1,
           "showlegend": false,
           "type": "scatter",
           "x": [
            0,
            0,
            10,
            10,
            0
           ],
           "y": [
            0,
            53.5,
            53.5,
            0,
            0
           ]
          },
          {
           "fill": "toself",
           "fillcolor": "#008E97",
           "hoverinfo": "skip",
           "line": {
            "color": "white",
            "width": 3
           },
           "mode": "lines",
           "opacity": 1,
           "showlegend": false,
           "type": "scatter",
           "x": [
            110,
            110,
            120,
            120,
            110
           ],
           "y": [
            0,
            53.5,
            53.5,
            0,
            0
           ]
          },
          {
           "hoverinfo": "text",
           "hovertext": [
            "nflId:41243<br>displayName:C.J. Mosley<br>Player Speed:4.921 MPH",
            "nflId:41270<br>displayName:Lamarcus Joyner<br>Player Speed:3.848 MPH",
            "nflId:42467<br>displayName:Kwon Alexander<br>Player Speed:3.624 MPH",
            "nflId:43508<br>displayName:Will Parks<br>Player Speed:2.751 MPH",
            "nflId:44815<br>displayName:Solomon Thomas<br>Player Speed:0.022 MPH",
            "nflId:46141<br>displayName:Nathan Shepherd<br>Player Speed:0.022 MPH",
            "nflId:46186<br>displayName:Jordan Whitehead<br>Player Speed:4.765 MPH",
            "nflId:46211<br>displayName:D.J. Reed<br>Player Speed:4.317 MPH",
            "nflId:54469<br>displayName:Ahmad Gardner<br>Player Speed:1.633 MPH",
            "nflId:54491<br>displayName:Jermaine Johnson<br>Player Speed:0.514 MPH",
            "nflId:54582<br>displayName:Micheal Clemons<br>Player Speed:0.045 MPH"
           ],
           "marker": {
            "color": "#000000",
            "line": {
             "color": "#125740",
             "width": 2
            },
            "size": 10
           },
           "mode": "markers",
           "name": "NYJ",
           "type": "scatter",
           "x": [
            44.92,
            55.07,
            45.6,
            44.45,
            40.59,
            40.88,
            45.77,
            44.04,
            48.7,
            40.81,
            40.82
           ],
           "y": [
            28.31,
            27.06,
            31.5,
            23.6,
            28.68,
            32.11,
            35.96,
            38.62,
            18.37,
            24.02,
            36.67
           ]
          },
          {
           "hoverinfo": "text",
           "hovertext": [
            "nflId:42718<br>displayName:Raheem Mostert<br>Player Speed:0.0 MPH",
            "nflId:43447<br>displayName:Brandon Shell<br>Player Speed:0.0 MPH",
            "nflId:43454<br>displayName:Tyreek Hill<br>Player Speed:0.0 MPH",
            "nflId:46119<br>displayName:Connor Williams<br>Player Speed:0.022 MPH",
            "nflId:46203<br>displayName:Chase Edmonds<br>Player Speed:0.0 MPH",
            "nflId:47820<br>displayName:Greg Little<br>Player Speed:0.0 MPH",
            "nflId:52447<br>displayName:Robert Hunt<br>Player Speed:0.0 MPH",
            "nflId:53435<br>displayName:Jaylen Waddle<br>Player Speed:17.403 MPH",
            "nflId:53471<br>displayName:Liam Eichenberg<br>Player Speed:0.0 MPH",
            "nflId:54712<br>displayName:Skylar Thompson<br>Player Speed:0.022 MPH",
            "nflId:54931<br>displayName:Tanner Conner<br>Player Speed:0.0 MPH"
           ],
           "marker": {
            "color": "#008E97",
            "line": {
             "color": "#FC4C02",
             "width": 2
            },
            "size": 10
           },
           "mode": "markers",
           "name": "MIA",
           "type": "scatter",
           "x": [
            35.12,
            38.94,
            39.62,
            39.88,
            34.83,
            38.93,
            39.19,
            36.78,
            39.16,
            34.91,
            38.78
           ],
           "y": [
            26.8,
            33,
            20.98,
            29.68,
            32.9,
            26.81,
            28.42,
            31.3,
            31.31,
            29.88,
            34.68
           ]
          },
          {
           "hoverinfo": "none",
           "marker": {
            "color": "#CBB67C",
            "line": {
             "color": "#663831",
             "width": 2
            },
            "size": 10
           },
           "mode": "markers",
           "name": "football",
           "type": "scatter",
           "x": [
            40.0999984741211
           ],
           "y": [
            29.7600002288818
           ]
          }
         ],
         "name": "101"
        },
        {
         "data": [
          {
           "hoverinfo": "none",
           "mode": "text",
           "showlegend": false,
           "text": [
            "10",
            "20",
            "30",
            "40",
            "50",
            "40",
            "30",
            "20",
            "10"
           ],
           "textfont": {
            "color": "#ffffff",
            "family": "Courier New, monospace",
            "size": 30
           },
           "type": "scatter",
           "x": [
            20,
            30,
            40,
            50,
            60,
            70,
            80,
            90,
            100
           ],
           "y": [
            5,
            5,
            5,
            5,
            5,
            5,
            5,
            5,
            5
           ]
          },
          {
           "hoverinfo": "none",
           "mode": "text",
           "showlegend": false,
           "text": [
            "10",
            "20",
            "30",
            "40",
            "50",
            "40",
            "30",
            "20",
            "10"
           ],
           "textfont": {
            "color": "#ffffff",
            "family": "Courier New, monospace",
            "size": 30
           },
           "type": "scatter",
           "x": [
            20,
            30,
            40,
            50,
            60,
            70,
            80,
            90,
            100
           ],
           "y": [
            48.5,
            48.5,
            48.5,
            48.5,
            48.5,
            48.5,
            48.5,
            48.5,
            48.5
           ]
          },
          {
           "hoverinfo": "none",
           "line": {
            "color": "blue",
            "dash": "dash"
           },
           "showlegend": false,
           "type": "scatter",
           "x": [
            40,
            40
           ],
           "y": [
            0,
            53.5
           ]
          },
          {
           "hoverinfo": "none",
           "line": {
            "color": "yellow",
            "dash": "dash"
           },
           "showlegend": false,
           "type": "scatter",
           "x": [
            45,
            45
           ],
           "y": [
            0,
            53.5
           ]
          },
          {
           "fill": "toself",
           "fillcolor": "#000000",
           "hoverinfo": "skip",
           "line": {
            "color": "white",
            "width": 3
           },
           "mode": "lines",
           "opacity": 1,
           "showlegend": false,
           "type": "scatter",
           "x": [
            0,
            0,
            10,
            10,
            0
           ],
           "y": [
            0,
            53.5,
            53.5,
            0,
            0
           ]
          },
          {
           "fill": "toself",
           "fillcolor": "#008E97",
           "hoverinfo": "skip",
           "line": {
            "color": "white",
            "width": 3
           },
           "mode": "lines",
           "opacity": 1,
           "showlegend": false,
           "type": "scatter",
           "x": [
            110,
            110,
            120,
            120,
            110
           ],
           "y": [
            0,
            53.5,
            53.5,
            0,
            0
           ]
          },
          {
           "hoverinfo": "text",
           "hovertext": [
            "nflId:41243<br>displayName:C.J. Mosley<br>Player Speed:4.675 MPH",
            "nflId:41270<br>displayName:Lamarcus Joyner<br>Player Speed:4.026 MPH",
            "nflId:42467<br>displayName:Kwon Alexander<br>Player Speed:3.512 MPH",
            "nflId:43508<br>displayName:Will Parks<br>Player Speed:2.349 MPH",
            "nflId:44815<br>displayName:Solomon Thomas<br>Player Speed:0.022 MPH",
            "nflId:46141<br>displayName:Nathan Shepherd<br>Player Speed:0.022 MPH",
            "nflId:46186<br>displayName:Jordan Whitehead<br>Player Speed:4.586 MPH",
            "nflId:46211<br>displayName:D.J. Reed<br>Player Speed:4.72 MPH",
            "nflId:54469<br>displayName:Ahmad Gardner<br>Player Speed:1.566 MPH",
            "nflId:54491<br>displayName:Jermaine Johnson<br>Player Speed:0.514 MPH",
            "nflId:54582<br>displayName:Micheal Clemons<br>Player Speed:0.022 MPH"
           ],
           "marker": {
            "color": "#000000",
            "line": {
             "color": "#125740",
             "width": 2
            },
            "size": 10
           },
           "mode": "markers",
           "name": "NYJ",
           "type": "scatter",
           "x": [
            44.93,
            55.18,
            45.58,
            44.44,
            40.59,
            40.88,
            45.58,
            44.08,
            48.73,
            40.81,
            40.82
           ],
           "y": [
            28.53,
            27.21,
            31.66,
            23.71,
            28.68,
            32.11,
            36.05,
            38.82,
            18.44,
            23.99,
            36.67
           ]
          },
          {
           "hoverinfo": "text",
           "hovertext": [
            "nflId:42718<br>displayName:Raheem Mostert<br>Player Speed:0.0 MPH",
            "nflId:43447<br>displayName:Brandon Shell<br>Player Speed:0.0 MPH",
            "nflId:43454<br>displayName:Tyreek Hill<br>Player Speed:0.0 MPH",
            "nflId:46119<br>displayName:Connor Williams<br>Player Speed:0.224 MPH",
            "nflId:46203<br>displayName:Chase Edmonds<br>Player Speed:0.0 MPH",
            "nflId:47820<br>displayName:Greg Little<br>Player Speed:0.0 MPH",
            "nflId:52447<br>displayName:Robert Hunt<br>Player Speed:0.0 MPH",
            "nflId:53435<br>displayName:Jaylen Waddle<br>Player Speed:17.336 MPH",
            "nflId:53471<br>displayName:Liam Eichenberg<br>Player Speed:0.022 MPH",
            "nflId:54712<br>displayName:Skylar Thompson<br>Player Speed:0.0 MPH",
            "nflId:54931<br>displayName:Tanner Conner<br>Player Speed:0.0 MPH"
           ],
           "marker": {
            "color": "#008E97",
            "line": {
             "color": "#FC4C02",
             "width": 2
            },
            "size": 10
           },
           "mode": "markers",
           "name": "MIA",
           "type": "scatter",
           "x": [
            35.12,
            38.94,
            39.63,
            39.87,
            34.83,
            38.93,
            39.19,
            36.71,
            39.16,
            34.92,
            38.78
           ],
           "y": [
            26.79,
            33,
            20.98,
            29.68,
            32.9,
            26.8,
            28.42,
            32.08,
            31.31,
            29.88,
            34.68
           ]
          },
          {
           "hoverinfo": "none",
           "marker": {
            "color": "#CBB67C",
            "line": {
             "color": "#663831",
             "width": 2
            },
            "size": 10
           },
           "mode": "markers",
           "name": "football",
           "type": "scatter",
           "x": [
            40.0999984741211
           ],
           "y": [
            29.7600002288818
           ]
          }
         ],
         "name": "102"
        },
        {
         "data": [
          {
           "hoverinfo": "none",
           "mode": "text",
           "showlegend": false,
           "text": [
            "10",
            "20",
            "30",
            "40",
            "50",
            "40",
            "30",
            "20",
            "10"
           ],
           "textfont": {
            "color": "#ffffff",
            "family": "Courier New, monospace",
            "size": 30
           },
           "type": "scatter",
           "x": [
            20,
            30,
            40,
            50,
            60,
            70,
            80,
            90,
            100
           ],
           "y": [
            5,
            5,
            5,
            5,
            5,
            5,
            5,
            5,
            5
           ]
          },
          {
           "hoverinfo": "none",
           "mode": "text",
           "showlegend": false,
           "text": [
            "10",
            "20",
            "30",
            "40",
            "50",
            "40",
            "30",
            "20",
            "10"
           ],
           "textfont": {
            "color": "#ffffff",
            "family": "Courier New, monospace",
            "size": 30
           },
           "type": "scatter",
           "x": [
            20,
            30,
            40,
            50,
            60,
            70,
            80,
            90,
            100
           ],
           "y": [
            48.5,
            48.5,
            48.5,
            48.5,
            48.5,
            48.5,
            48.5,
            48.5,
            48.5
           ]
          },
          {
           "hoverinfo": "none",
           "line": {
            "color": "blue",
            "dash": "dash"
           },
           "showlegend": false,
           "type": "scatter",
           "x": [
            40,
            40
           ],
           "y": [
            0,
            53.5
           ]
          },
          {
           "hoverinfo": "none",
           "line": {
            "color": "yellow",
            "dash": "dash"
           },
           "showlegend": false,
           "type": "scatter",
           "x": [
            45,
            45
           ],
           "y": [
            0,
            53.5
           ]
          },
          {
           "fill": "toself",
           "fillcolor": "#000000",
           "hoverinfo": "skip",
           "line": {
            "color": "white",
            "width": 3
           },
           "mode": "lines",
           "opacity": 1,
           "showlegend": false,
           "type": "scatter",
           "x": [
            0,
            0,
            10,
            10,
            0
           ],
           "y": [
            0,
            53.5,
            53.5,
            0,
            0
           ]
          },
          {
           "fill": "toself",
           "fillcolor": "#008E97",
           "hoverinfo": "skip",
           "line": {
            "color": "white",
            "width": 3
           },
           "mode": "lines",
           "opacity": 1,
           "showlegend": false,
           "type": "scatter",
           "x": [
            110,
            110,
            120,
            120,
            110
           ],
           "y": [
            0,
            53.5,
            53.5,
            0,
            0
           ]
          },
          {
           "hoverinfo": "text",
           "hovertext": [
            "nflId:41243<br>displayName:C.J. Mosley<br>Player Speed:4.295 MPH",
            "nflId:41270<br>displayName:Lamarcus Joyner<br>Player Speed:4.183 MPH",
            "nflId:42467<br>displayName:Kwon Alexander<br>Player Speed:3.445 MPH",
            "nflId:43508<br>displayName:Will Parks<br>Player Speed:1.946 MPH",
            "nflId:44815<br>displayName:Solomon Thomas<br>Player Speed:0.067 MPH",
            "nflId:46141<br>displayName:Nathan Shepherd<br>Player Speed:0.022 MPH",
            "nflId:46186<br>displayName:Jordan Whitehead<br>Player Speed:4.295 MPH",
            "nflId:46211<br>displayName:D.J. Reed<br>Player Speed:4.966 MPH",
            "nflId:54469<br>displayName:Ahmad Gardner<br>Player Speed:1.499 MPH",
            "nflId:54491<br>displayName:Jermaine Johnson<br>Player Speed:0.425 MPH",
            "nflId:54582<br>displayName:Micheal Clemons<br>Player Speed:0.022 MPH"
           ],
           "marker": {
            "color": "#000000",
            "line": {
             "color": "#125740",
             "width": 2
            },
            "size": 10
           },
           "mode": "markers",
           "name": "NYJ",
           "type": "scatter",
           "x": [
            44.93,
            55.3,
            45.57,
            44.43,
            40.58,
            40.88,
            45.4,
            44.13,
            48.77,
            40.8,
            40.8
           ],
           "y": [
            28.72,
            27.34,
            31.81,
            23.8,
            28.68,
            32.11,
            36.14,
            39.04,
            18.5,
            23.98,
            36.68
           ]
          },
          {
           "hoverinfo": "text",
           "hovertext": [
            "nflId:42718<br>displayName:Raheem Mostert<br>Player Speed:0.0 MPH",
            "nflId:43447<br>displayName:Brandon Shell<br>Player Speed:0.0 MPH",
            "nflId:43454<br>displayName:Tyreek Hill<br>Player Speed:0.0 MPH",
            "nflId:46119<br>displayName:Connor Williams<br>Player Speed:0.604 MPH",
            "nflId:46203<br>displayName:Chase Edmonds<br>Player Speed:0.0 MPH",
            "nflId:47820<br>displayName:Greg Little<br>Player Speed:0.022 MPH",
            "nflId:52447<br>displayName:Robert Hunt<br>Player Speed:0.022 MPH",
            "nflId:53435<br>displayName:Jaylen Waddle<br>Player Speed:17.247 MPH",
            "nflId:53471<br>displayName:Liam Eichenberg<br>Player Speed:0.224 MPH",
            "nflId:54712<br>displayName:Skylar Thompson<br>Player Speed:0.0 MPH",
            "nflId:54931<br>displayName:Tanner Conner<br>Player Speed:0.0 MPH"
           ],
           "marker": {
            "color": "#008E97",
            "line": {
             "color": "#FC4C02",
             "width": 2
            },
            "size": 10
           },
           "mode": "markers",
           "name": "MIA",
           "type": "scatter",
           "x": [
            35.12,
            38.93,
            39.63,
            39.85,
            34.83,
            38.92,
            39.18,
            36.64,
            39.16,
            34.93,
            38.78
           ],
           "y": [
            26.79,
            33,
            20.98,
            29.68,
            32.91,
            26.8,
            28.42,
            32.86,
            31.33,
            29.88,
            34.68
           ]
          },
          {
           "hoverinfo": "none",
           "marker": {
            "color": "#CBB67C",
            "line": {
             "color": "#663831",
             "width": 2
            },
            "size": 10
           },
           "mode": "markers",
           "name": "football",
           "type": "scatter",
           "x": [
            40.0999984741211
           ],
           "y": [
            29.7600002288818
           ]
          }
         ],
         "name": "103"
        },
        {
         "data": [
          {
           "hoverinfo": "none",
           "mode": "text",
           "showlegend": false,
           "text": [
            "10",
            "20",
            "30",
            "40",
            "50",
            "40",
            "30",
            "20",
            "10"
           ],
           "textfont": {
            "color": "#ffffff",
            "family": "Courier New, monospace",
            "size": 30
           },
           "type": "scatter",
           "x": [
            20,
            30,
            40,
            50,
            60,
            70,
            80,
            90,
            100
           ],
           "y": [
            5,
            5,
            5,
            5,
            5,
            5,
            5,
            5,
            5
           ]
          },
          {
           "hoverinfo": "none",
           "mode": "text",
           "showlegend": false,
           "text": [
            "10",
            "20",
            "30",
            "40",
            "50",
            "40",
            "30",
            "20",
            "10"
           ],
           "textfont": {
            "color": "#ffffff",
            "family": "Courier New, monospace",
            "size": 30
           },
           "type": "scatter",
           "x": [
            20,
            30,
            40,
            50,
            60,
            70,
            80,
            90,
            100
           ],
           "y": [
            48.5,
            48.5,
            48.5,
            48.5,
            48.5,
            48.5,
            48.5,
            48.5,
            48.5
           ]
          },
          {
           "hoverinfo": "none",
           "line": {
            "color": "blue",
            "dash": "dash"
           },
           "showlegend": false,
           "type": "scatter",
           "x": [
            40,
            40
           ],
           "y": [
            0,
            53.5
           ]
          },
          {
           "hoverinfo": "none",
           "line": {
            "color": "yellow",
            "dash": "dash"
           },
           "showlegend": false,
           "type": "scatter",
           "x": [
            45,
            45
           ],
           "y": [
            0,
            53.5
           ]
          },
          {
           "fill": "toself",
           "fillcolor": "#000000",
           "hoverinfo": "skip",
           "line": {
            "color": "white",
            "width": 3
           },
           "mode": "lines",
           "opacity": 1,
           "showlegend": false,
           "type": "scatter",
           "x": [
            0,
            0,
            10,
            10,
            0
           ],
           "y": [
            0,
            53.5,
            53.5,
            0,
            0
           ]
          },
          {
           "fill": "toself",
           "fillcolor": "#008E97",
           "hoverinfo": "skip",
           "line": {
            "color": "white",
            "width": 3
           },
           "mode": "lines",
           "opacity": 1,
           "showlegend": false,
           "type": "scatter",
           "x": [
            110,
            110,
            120,
            120,
            110
           ],
           "y": [
            0,
            53.5,
            53.5,
            0,
            0
           ]
          },
          {
           "hoverinfo": "text",
           "hovertext": [
            "nflId:41243<br>displayName:C.J. Mosley<br>Player Speed:3.937 MPH",
            "nflId:41270<br>displayName:Lamarcus Joyner<br>Player Speed:4.563 MPH",
            "nflId:42467<br>displayName:Kwon Alexander<br>Player Speed:3.333 MPH",
            "nflId:43508<br>displayName:Will Parks<br>Player Speed:1.566 MPH",
            "nflId:44815<br>displayName:Solomon Thomas<br>Player Speed:0.268 MPH",
            "nflId:46141<br>displayName:Nathan Shepherd<br>Player Speed:0.022 MPH",
            "nflId:46186<br>displayName:Jordan Whitehead<br>Player Speed:3.959 MPH",
            "nflId:46211<br>displayName:D.J. Reed<br>Player Speed:5.302 MPH",
            "nflId:54469<br>displayName:Ahmad Gardner<br>Player Speed:1.365 MPH",
            "nflId:54491<br>displayName:Jermaine Johnson<br>Player Speed:0.38 MPH",
            "nflId:54582<br>displayName:Micheal Clemons<br>Player Speed:0.045 MPH"
           ],
           "marker": {
            "color": "#000000",
            "line": {
             "color": "#125740",
             "width": 2
            },
            "size": 10
           },
           "mode": "markers",
           "name": "NYJ",
           "type": "scatter",
           "x": [
            44.93,
            55.46,
            45.56,
            44.42,
            40.56,
            40.86,
            45.24,
            44.18,
            48.81,
            40.75,
            40.76
           ],
           "y": [
            28.9,
            27.48,
            31.96,
            23.88,
            28.67,
            32.11,
            36.23,
            39.27,
            18.54,
            23.97,
            36.67
           ]
          },
          {
           "hoverinfo": "text",
           "hovertext": [
            "nflId:42718<br>displayName:Raheem Mostert<br>Player Speed:0.0 MPH",
            "nflId:43447<br>displayName:Brandon Shell<br>Player Speed:0.045 MPH",
            "nflId:43454<br>displayName:Tyreek Hill<br>Player Speed:0.0 MPH",
            "nflId:46119<br>displayName:Connor Williams<br>Player Speed:1.275 MPH",
            "nflId:46203<br>displayName:Chase Edmonds<br>Player Speed:0.0 MPH",
            "nflId:47820<br>displayName:Greg Little<br>Player Speed:0.291 MPH",
            "nflId:52447<br>displayName:Robert Hunt<br>Player Speed:0.157 MPH",
            "nflId:53435<br>displayName:Jaylen Waddle<br>Player Speed:17.157 MPH",
            "nflId:53471<br>displayName:Liam Eichenberg<br>Player Speed:0.582 MPH",
            "nflId:54712<br>displayName:Skylar Thompson<br>Player Speed:0.0 MPH",
            "nflId:54931<br>displayName:Tanner Conner<br>Player Speed:0.0 MPH"
           ],
           "marker": {
            "color": "#008E97",
            "line": {
             "color": "#FC4C02",
             "width": 2
            },
            "size": 10
           },
           "mode": "markers",
           "name": "MIA",
           "type": "scatter",
           "x": [
            35.13,
            38.93,
            39.63,
            39.8,
            34.83,
            38.91,
            39.18,
            36.59,
            39.17,
            34.94,
            38.78
           ],
           "y": [
            26.78,
            33.01,
            20.98,
            29.68,
            32.91,
            26.79,
            28.42,
            33.63,
            31.35,
            29.89,
            34.67
           ]
          },
          {
           "hoverinfo": "none",
           "marker": {
            "color": "#CBB67C",
            "line": {
             "color": "#663831",
             "width": 2
            },
            "size": 10
           },
           "mode": "markers",
           "name": "football",
           "type": "scatter",
           "x": [
            40.0999984741211
           ],
           "y": [
            29.7600002288818
           ]
          }
         ],
         "name": "104"
        },
        {
         "data": [
          {
           "hoverinfo": "none",
           "mode": "text",
           "showlegend": false,
           "text": [
            "10",
            "20",
            "30",
            "40",
            "50",
            "40",
            "30",
            "20",
            "10"
           ],
           "textfont": {
            "color": "#ffffff",
            "family": "Courier New, monospace",
            "size": 30
           },
           "type": "scatter",
           "x": [
            20,
            30,
            40,
            50,
            60,
            70,
            80,
            90,
            100
           ],
           "y": [
            5,
            5,
            5,
            5,
            5,
            5,
            5,
            5,
            5
           ]
          },
          {
           "hoverinfo": "none",
           "mode": "text",
           "showlegend": false,
           "text": [
            "10",
            "20",
            "30",
            "40",
            "50",
            "40",
            "30",
            "20",
            "10"
           ],
           "textfont": {
            "color": "#ffffff",
            "family": "Courier New, monospace",
            "size": 30
           },
           "type": "scatter",
           "x": [
            20,
            30,
            40,
            50,
            60,
            70,
            80,
            90,
            100
           ],
           "y": [
            48.5,
            48.5,
            48.5,
            48.5,
            48.5,
            48.5,
            48.5,
            48.5,
            48.5
           ]
          },
          {
           "hoverinfo": "none",
           "line": {
            "color": "blue",
            "dash": "dash"
           },
           "showlegend": false,
           "type": "scatter",
           "x": [
            40,
            40
           ],
           "y": [
            0,
            53.5
           ]
          },
          {
           "hoverinfo": "none",
           "line": {
            "color": "yellow",
            "dash": "dash"
           },
           "showlegend": false,
           "type": "scatter",
           "x": [
            45,
            45
           ],
           "y": [
            0,
            53.5
           ]
          },
          {
           "fill": "toself",
           "fillcolor": "#000000",
           "hoverinfo": "skip",
           "line": {
            "color": "white",
            "width": 3
           },
           "mode": "lines",
           "opacity": 1,
           "showlegend": false,
           "type": "scatter",
           "x": [
            0,
            0,
            10,
            10,
            0
           ],
           "y": [
            0,
            53.5,
            53.5,
            0,
            0
           ]
          },
          {
           "fill": "toself",
           "fillcolor": "#008E97",
           "hoverinfo": "skip",
           "line": {
            "color": "white",
            "width": 3
           },
           "mode": "lines",
           "opacity": 1,
           "showlegend": false,
           "type": "scatter",
           "x": [
            110,
            110,
            120,
            120,
            110
           ],
           "y": [
            0,
            53.5,
            53.5,
            0,
            0
           ]
          },
          {
           "hoverinfo": "text",
           "hovertext": [
            "nflId:41243<br>displayName:C.J. Mosley<br>Player Speed:3.512 MPH",
            "nflId:41270<br>displayName:Lamarcus Joyner<br>Player Speed:4.854 MPH",
            "nflId:42467<br>displayName:Kwon Alexander<br>Player Speed:3.132 MPH",
            "nflId:43508<br>displayName:Will Parks<br>Player Speed:0.917 MPH",
            "nflId:44815<br>displayName:Solomon Thomas<br>Player Speed:0.671 MPH",
            "nflId:46141<br>displayName:Nathan Shepherd<br>Player Speed:0.157 MPH",
            "nflId:46186<br>displayName:Jordan Whitehead<br>Player Speed:3.691 MPH",
            "nflId:46211<br>displayName:D.J. Reed<br>Player Speed:5.592 MPH",
            "nflId:54469<br>displayName:Ahmad Gardner<br>Player Speed:1.186 MPH",
            "nflId:54491<br>displayName:Jermaine Johnson<br>Player Speed:0.447 MPH",
            "nflId:54582<br>displayName:Micheal Clemons<br>Player Speed:0.112 MPH"
           ],
           "marker": {
            "color": "#000000",
            "line": {
             "color": "#125740",
             "width": 2
            },
            "size": 10
           },
           "mode": "markers",
           "name": "NYJ",
           "type": "scatter",
           "x": [
            44.94,
            55.63,
            45.54,
            44.4,
            40.53,
            40.84,
            45.09,
            44.23,
            48.85,
            40.71,
            40.72
           ],
           "y": [
            29.07,
            27.6,
            32.1,
            23.92,
            28.65,
            32.12,
            36.32,
            39.51,
            18.57,
            23.98,
            36.66
           ]
          },
          {
           "hoverinfo": "text",
           "hovertext": [
            "nflId:42718<br>displayName:Raheem Mostert<br>Player Speed:0.0 MPH",
            "nflId:43447<br>displayName:Brandon Shell<br>Player Speed:0.358 MPH",
            "nflId:43454<br>displayName:Tyreek Hill<br>Player Speed:0.067 MPH",
            "nflId:46119<br>displayName:Connor Williams<br>Player Speed:1.969 MPH",
            "nflId:46203<br>displayName:Chase Edmonds<br>Player Speed:0.0 MPH",
            "nflId:47820<br>displayName:Greg Little<br>Player Speed:0.716 MPH",
            "nflId:52447<br>displayName:Robert Hunt<br>Player Speed:0.47 MPH",
            "nflId:53435<br>displayName:Jaylen Waddle<br>Player Speed:17.001 MPH",
            "nflId:53471<br>displayName:Liam Eichenberg<br>Player Speed:1.118 MPH",
            "nflId:54712<br>displayName:Skylar Thompson<br>Player Speed:0.0 MPH",
            "nflId:54931<br>displayName:Tanner Conner<br>Player Speed:0.0 MPH"
           ],
           "marker": {
            "color": "#008E97",
            "line": {
             "color": "#FC4C02",
             "width": 2
            },
            "size": 10
           },
           "mode": "markers",
           "name": "MIA",
           "type": "scatter",
           "x": [
            35.13,
            38.92,
            39.64,
            39.72,
            34.84,
            38.89,
            39.16,
            36.53,
            39.19,
            34.94,
            38.78
           ],
           "y": [
            26.76,
            33.01,
            20.98,
            29.66,
            32.91,
            26.76,
            28.41,
            34.39,
            31.39,
            29.89,
            34.68
           ]
          },
          {
           "hoverinfo": "none",
           "marker": {
            "color": "#CBB67C",
            "line": {
             "color": "#663831",
             "width": 2
            },
            "size": 10
           },
           "mode": "markers",
           "name": "football",
           "type": "scatter",
           "x": [
            40.0999984741211
           ],
           "y": [
            29.7600002288818
           ]
          }
         ],
         "name": "105"
        }
       ],
       "layout": {
        "annotations": [
         {
          "align": "center",
          "bgcolor": "#ff7f0e",
          "bordercolor": "black",
          "borderpad": 4,
          "borderwidth": 2,
          "font": {
           "color": "black",
           "family": "Courier New, monospace",
           "size": 16
          },
          "opacity": 1,
          "showarrow": false,
          "text": "2",
          "x": 45,
          "y": 0
         },
         {
          "align": "center",
          "bgcolor": "#ff7f0e",
          "bordercolor": "black",
          "borderpad": 4,
          "borderwidth": 2,
          "font": {
           "color": "black",
           "family": "Courier New, monospace",
           "size": 16
          },
          "opacity": 1,
          "showarrow": false,
          "text": "2",
          "x": 45,
          "y": 53
         },
         {
          "font": {
           "color": "White",
           "family": "Courier New, monospace",
           "size": 32
          },
          "showarrow": false,
          "text": "NYJ",
          "textangle": -90,
          "x": 5,
          "y": 26.75
         },
         {
          "font": {
           "color": "White",
           "family": "Courier New, monospace",
           "size": 32
          },
          "showarrow": false,
          "text": "MIA",
          "textangle": 90,
          "x": 115,
          "y": 26.75
         }
        ],
        "autosize": false,
        "height": 600,
        "plot_bgcolor": "#00B140",
        "sliders": [
         {
          "active": 0,
          "currentvalue": {
           "font": {
            "size": 20
           },
           "prefix": "Frame:",
           "visible": true,
           "xanchor": "right"
          },
          "len": 0.9,
          "pad": {
           "b": 10,
           "t": 50
          },
          "steps": [
           {
            "args": [
             [
              2
             ],
             {
              "frame": {
               "duration": 100,
               "redraw": false
              },
              "mode": "immediate",
              "transition": {
               "duration": 0
              }
             }
            ],
            "label": "2",
            "method": "animate"
           },
           {
            "args": [
             [
              3
             ],
             {
              "frame": {
               "duration": 100,
               "redraw": false
              },
              "mode": "immediate",
              "transition": {
               "duration": 0
              }
             }
            ],
            "label": "3",
            "method": "animate"
           },
           {
            "args": [
             [
              4
             ],
             {
              "frame": {
               "duration": 100,
               "redraw": false
              },
              "mode": "immediate",
              "transition": {
               "duration": 0
              }
             }
            ],
            "label": "4",
            "method": "animate"
           },
           {
            "args": [
             [
              5
             ],
             {
              "frame": {
               "duration": 100,
               "redraw": false
              },
              "mode": "immediate",
              "transition": {
               "duration": 0
              }
             }
            ],
            "label": "5",
            "method": "animate"
           },
           {
            "args": [
             [
              6
             ],
             {
              "frame": {
               "duration": 100,
               "redraw": false
              },
              "mode": "immediate",
              "transition": {
               "duration": 0
              }
             }
            ],
            "label": "6",
            "method": "animate"
           },
           {
            "args": [
             [
              7
             ],
             {
              "frame": {
               "duration": 100,
               "redraw": false
              },
              "mode": "immediate",
              "transition": {
               "duration": 0
              }
             }
            ],
            "label": "7",
            "method": "animate"
           },
           {
            "args": [
             [
              8
             ],
             {
              "frame": {
               "duration": 100,
               "redraw": false
              },
              "mode": "immediate",
              "transition": {
               "duration": 0
              }
             }
            ],
            "label": "8",
            "method": "animate"
           },
           {
            "args": [
             [
              9
             ],
             {
              "frame": {
               "duration": 100,
               "redraw": false
              },
              "mode": "immediate",
              "transition": {
               "duration": 0
              }
             }
            ],
            "label": "9",
            "method": "animate"
           },
           {
            "args": [
             [
              10
             ],
             {
              "frame": {
               "duration": 100,
               "redraw": false
              },
              "mode": "immediate",
              "transition": {
               "duration": 0
              }
             }
            ],
            "label": "10",
            "method": "animate"
           },
           {
            "args": [
             [
              11
             ],
             {
              "frame": {
               "duration": 100,
               "redraw": false
              },
              "mode": "immediate",
              "transition": {
               "duration": 0
              }
             }
            ],
            "label": "11",
            "method": "animate"
           },
           {
            "args": [
             [
              12
             ],
             {
              "frame": {
               "duration": 100,
               "redraw": false
              },
              "mode": "immediate",
              "transition": {
               "duration": 0
              }
             }
            ],
            "label": "12",
            "method": "animate"
           },
           {
            "args": [
             [
              13
             ],
             {
              "frame": {
               "duration": 100,
               "redraw": false
              },
              "mode": "immediate",
              "transition": {
               "duration": 0
              }
             }
            ],
            "label": "13",
            "method": "animate"
           },
           {
            "args": [
             [
              14
             ],
             {
              "frame": {
               "duration": 100,
               "redraw": false
              },
              "mode": "immediate",
              "transition": {
               "duration": 0
              }
             }
            ],
            "label": "14",
            "method": "animate"
           },
           {
            "args": [
             [
              15
             ],
             {
              "frame": {
               "duration": 100,
               "redraw": false
              },
              "mode": "immediate",
              "transition": {
               "duration": 0
              }
             }
            ],
            "label": "15",
            "method": "animate"
           },
           {
            "args": [
             [
              16
             ],
             {
              "frame": {
               "duration": 100,
               "redraw": false
              },
              "mode": "immediate",
              "transition": {
               "duration": 0
              }
             }
            ],
            "label": "16",
            "method": "animate"
           },
           {
            "args": [
             [
              17
             ],
             {
              "frame": {
               "duration": 100,
               "redraw": false
              },
              "mode": "immediate",
              "transition": {
               "duration": 0
              }
             }
            ],
            "label": "17",
            "method": "animate"
           },
           {
            "args": [
             [
              18
             ],
             {
              "frame": {
               "duration": 100,
               "redraw": false
              },
              "mode": "immediate",
              "transition": {
               "duration": 0
              }
             }
            ],
            "label": "18",
            "method": "animate"
           },
           {
            "args": [
             [
              19
             ],
             {
              "frame": {
               "duration": 100,
               "redraw": false
              },
              "mode": "immediate",
              "transition": {
               "duration": 0
              }
             }
            ],
            "label": "19",
            "method": "animate"
           },
           {
            "args": [
             [
              20
             ],
             {
              "frame": {
               "duration": 100,
               "redraw": false
              },
              "mode": "immediate",
              "transition": {
               "duration": 0
              }
             }
            ],
            "label": "20",
            "method": "animate"
           },
           {
            "args": [
             [
              21
             ],
             {
              "frame": {
               "duration": 100,
               "redraw": false
              },
              "mode": "immediate",
              "transition": {
               "duration": 0
              }
             }
            ],
            "label": "21",
            "method": "animate"
           },
           {
            "args": [
             [
              22
             ],
             {
              "frame": {
               "duration": 100,
               "redraw": false
              },
              "mode": "immediate",
              "transition": {
               "duration": 0
              }
             }
            ],
            "label": "22",
            "method": "animate"
           },
           {
            "args": [
             [
              23
             ],
             {
              "frame": {
               "duration": 100,
               "redraw": false
              },
              "mode": "immediate",
              "transition": {
               "duration": 0
              }
             }
            ],
            "label": "23",
            "method": "animate"
           },
           {
            "args": [
             [
              24
             ],
             {
              "frame": {
               "duration": 100,
               "redraw": false
              },
              "mode": "immediate",
              "transition": {
               "duration": 0
              }
             }
            ],
            "label": "24",
            "method": "animate"
           },
           {
            "args": [
             [
              25
             ],
             {
              "frame": {
               "duration": 100,
               "redraw": false
              },
              "mode": "immediate",
              "transition": {
               "duration": 0
              }
             }
            ],
            "label": "25",
            "method": "animate"
           },
           {
            "args": [
             [
              26
             ],
             {
              "frame": {
               "duration": 100,
               "redraw": false
              },
              "mode": "immediate",
              "transition": {
               "duration": 0
              }
             }
            ],
            "label": "26",
            "method": "animate"
           },
           {
            "args": [
             [
              27
             ],
             {
              "frame": {
               "duration": 100,
               "redraw": false
              },
              "mode": "immediate",
              "transition": {
               "duration": 0
              }
             }
            ],
            "label": "27",
            "method": "animate"
           },
           {
            "args": [
             [
              28
             ],
             {
              "frame": {
               "duration": 100,
               "redraw": false
              },
              "mode": "immediate",
              "transition": {
               "duration": 0
              }
             }
            ],
            "label": "28",
            "method": "animate"
           },
           {
            "args": [
             [
              29
             ],
             {
              "frame": {
               "duration": 100,
               "redraw": false
              },
              "mode": "immediate",
              "transition": {
               "duration": 0
              }
             }
            ],
            "label": "29",
            "method": "animate"
           },
           {
            "args": [
             [
              30
             ],
             {
              "frame": {
               "duration": 100,
               "redraw": false
              },
              "mode": "immediate",
              "transition": {
               "duration": 0
              }
             }
            ],
            "label": "30",
            "method": "animate"
           },
           {
            "args": [
             [
              31
             ],
             {
              "frame": {
               "duration": 100,
               "redraw": false
              },
              "mode": "immediate",
              "transition": {
               "duration": 0
              }
             }
            ],
            "label": "31",
            "method": "animate"
           },
           {
            "args": [
             [
              32
             ],
             {
              "frame": {
               "duration": 100,
               "redraw": false
              },
              "mode": "immediate",
              "transition": {
               "duration": 0
              }
             }
            ],
            "label": "32",
            "method": "animate"
           },
           {
            "args": [
             [
              33
             ],
             {
              "frame": {
               "duration": 100,
               "redraw": false
              },
              "mode": "immediate",
              "transition": {
               "duration": 0
              }
             }
            ],
            "label": "33",
            "method": "animate"
           },
           {
            "args": [
             [
              34
             ],
             {
              "frame": {
               "duration": 100,
               "redraw": false
              },
              "mode": "immediate",
              "transition": {
               "duration": 0
              }
             }
            ],
            "label": "34",
            "method": "animate"
           },
           {
            "args": [
             [
              35
             ],
             {
              "frame": {
               "duration": 100,
               "redraw": false
              },
              "mode": "immediate",
              "transition": {
               "duration": 0
              }
             }
            ],
            "label": "35",
            "method": "animate"
           },
           {
            "args": [
             [
              36
             ],
             {
              "frame": {
               "duration": 100,
               "redraw": false
              },
              "mode": "immediate",
              "transition": {
               "duration": 0
              }
             }
            ],
            "label": "36",
            "method": "animate"
           },
           {
            "args": [
             [
              37
             ],
             {
              "frame": {
               "duration": 100,
               "redraw": false
              },
              "mode": "immediate",
              "transition": {
               "duration": 0
              }
             }
            ],
            "label": "37",
            "method": "animate"
           },
           {
            "args": [
             [
              38
             ],
             {
              "frame": {
               "duration": 100,
               "redraw": false
              },
              "mode": "immediate",
              "transition": {
               "duration": 0
              }
             }
            ],
            "label": "38",
            "method": "animate"
           },
           {
            "args": [
             [
              39
             ],
             {
              "frame": {
               "duration": 100,
               "redraw": false
              },
              "mode": "immediate",
              "transition": {
               "duration": 0
              }
             }
            ],
            "label": "39",
            "method": "animate"
           },
           {
            "args": [
             [
              40
             ],
             {
              "frame": {
               "duration": 100,
               "redraw": false
              },
              "mode": "immediate",
              "transition": {
               "duration": 0
              }
             }
            ],
            "label": "40",
            "method": "animate"
           },
           {
            "args": [
             [
              41
             ],
             {
              "frame": {
               "duration": 100,
               "redraw": false
              },
              "mode": "immediate",
              "transition": {
               "duration": 0
              }
             }
            ],
            "label": "41",
            "method": "animate"
           },
           {
            "args": [
             [
              42
             ],
             {
              "frame": {
               "duration": 100,
               "redraw": false
              },
              "mode": "immediate",
              "transition": {
               "duration": 0
              }
             }
            ],
            "label": "42",
            "method": "animate"
           },
           {
            "args": [
             [
              43
             ],
             {
              "frame": {
               "duration": 100,
               "redraw": false
              },
              "mode": "immediate",
              "transition": {
               "duration": 0
              }
             }
            ],
            "label": "43",
            "method": "animate"
           },
           {
            "args": [
             [
              44
             ],
             {
              "frame": {
               "duration": 100,
               "redraw": false
              },
              "mode": "immediate",
              "transition": {
               "duration": 0
              }
             }
            ],
            "label": "44",
            "method": "animate"
           },
           {
            "args": [
             [
              45
             ],
             {
              "frame": {
               "duration": 100,
               "redraw": false
              },
              "mode": "immediate",
              "transition": {
               "duration": 0
              }
             }
            ],
            "label": "45",
            "method": "animate"
           },
           {
            "args": [
             [
              46
             ],
             {
              "frame": {
               "duration": 100,
               "redraw": false
              },
              "mode": "immediate",
              "transition": {
               "duration": 0
              }
             }
            ],
            "label": "46",
            "method": "animate"
           },
           {
            "args": [
             [
              47
             ],
             {
              "frame": {
               "duration": 100,
               "redraw": false
              },
              "mode": "immediate",
              "transition": {
               "duration": 0
              }
             }
            ],
            "label": "47",
            "method": "animate"
           },
           {
            "args": [
             [
              48
             ],
             {
              "frame": {
               "duration": 100,
               "redraw": false
              },
              "mode": "immediate",
              "transition": {
               "duration": 0
              }
             }
            ],
            "label": "48",
            "method": "animate"
           },
           {
            "args": [
             [
              49
             ],
             {
              "frame": {
               "duration": 100,
               "redraw": false
              },
              "mode": "immediate",
              "transition": {
               "duration": 0
              }
             }
            ],
            "label": "49",
            "method": "animate"
           },
           {
            "args": [
             [
              50
             ],
             {
              "frame": {
               "duration": 100,
               "redraw": false
              },
              "mode": "immediate",
              "transition": {
               "duration": 0
              }
             }
            ],
            "label": "50",
            "method": "animate"
           },
           {
            "args": [
             [
              51
             ],
             {
              "frame": {
               "duration": 100,
               "redraw": false
              },
              "mode": "immediate",
              "transition": {
               "duration": 0
              }
             }
            ],
            "label": "51",
            "method": "animate"
           },
           {
            "args": [
             [
              52
             ],
             {
              "frame": {
               "duration": 100,
               "redraw": false
              },
              "mode": "immediate",
              "transition": {
               "duration": 0
              }
             }
            ],
            "label": "52",
            "method": "animate"
           },
           {
            "args": [
             [
              53
             ],
             {
              "frame": {
               "duration": 100,
               "redraw": false
              },
              "mode": "immediate",
              "transition": {
               "duration": 0
              }
             }
            ],
            "label": "53",
            "method": "animate"
           },
           {
            "args": [
             [
              54
             ],
             {
              "frame": {
               "duration": 100,
               "redraw": false
              },
              "mode": "immediate",
              "transition": {
               "duration": 0
              }
             }
            ],
            "label": "54",
            "method": "animate"
           },
           {
            "args": [
             [
              55
             ],
             {
              "frame": {
               "duration": 100,
               "redraw": false
              },
              "mode": "immediate",
              "transition": {
               "duration": 0
              }
             }
            ],
            "label": "55",
            "method": "animate"
           },
           {
            "args": [
             [
              56
             ],
             {
              "frame": {
               "duration": 100,
               "redraw": false
              },
              "mode": "immediate",
              "transition": {
               "duration": 0
              }
             }
            ],
            "label": "56",
            "method": "animate"
           },
           {
            "args": [
             [
              57
             ],
             {
              "frame": {
               "duration": 100,
               "redraw": false
              },
              "mode": "immediate",
              "transition": {
               "duration": 0
              }
             }
            ],
            "label": "57",
            "method": "animate"
           },
           {
            "args": [
             [
              58
             ],
             {
              "frame": {
               "duration": 100,
               "redraw": false
              },
              "mode": "immediate",
              "transition": {
               "duration": 0
              }
             }
            ],
            "label": "58",
            "method": "animate"
           },
           {
            "args": [
             [
              59
             ],
             {
              "frame": {
               "duration": 100,
               "redraw": false
              },
              "mode": "immediate",
              "transition": {
               "duration": 0
              }
             }
            ],
            "label": "59",
            "method": "animate"
           },
           {
            "args": [
             [
              60
             ],
             {
              "frame": {
               "duration": 100,
               "redraw": false
              },
              "mode": "immediate",
              "transition": {
               "duration": 0
              }
             }
            ],
            "label": "60",
            "method": "animate"
           },
           {
            "args": [
             [
              61
             ],
             {
              "frame": {
               "duration": 100,
               "redraw": false
              },
              "mode": "immediate",
              "transition": {
               "duration": 0
              }
             }
            ],
            "label": "61",
            "method": "animate"
           },
           {
            "args": [
             [
              62
             ],
             {
              "frame": {
               "duration": 100,
               "redraw": false
              },
              "mode": "immediate",
              "transition": {
               "duration": 0
              }
             }
            ],
            "label": "62",
            "method": "animate"
           },
           {
            "args": [
             [
              63
             ],
             {
              "frame": {
               "duration": 100,
               "redraw": false
              },
              "mode": "immediate",
              "transition": {
               "duration": 0
              }
             }
            ],
            "label": "63",
            "method": "animate"
           },
           {
            "args": [
             [
              64
             ],
             {
              "frame": {
               "duration": 100,
               "redraw": false
              },
              "mode": "immediate",
              "transition": {
               "duration": 0
              }
             }
            ],
            "label": "64",
            "method": "animate"
           },
           {
            "args": [
             [
              65
             ],
             {
              "frame": {
               "duration": 100,
               "redraw": false
              },
              "mode": "immediate",
              "transition": {
               "duration": 0
              }
             }
            ],
            "label": "65",
            "method": "animate"
           },
           {
            "args": [
             [
              66
             ],
             {
              "frame": {
               "duration": 100,
               "redraw": false
              },
              "mode": "immediate",
              "transition": {
               "duration": 0
              }
             }
            ],
            "label": "66",
            "method": "animate"
           },
           {
            "args": [
             [
              67
             ],
             {
              "frame": {
               "duration": 100,
               "redraw": false
              },
              "mode": "immediate",
              "transition": {
               "duration": 0
              }
             }
            ],
            "label": "67",
            "method": "animate"
           },
           {
            "args": [
             [
              68
             ],
             {
              "frame": {
               "duration": 100,
               "redraw": false
              },
              "mode": "immediate",
              "transition": {
               "duration": 0
              }
             }
            ],
            "label": "68",
            "method": "animate"
           },
           {
            "args": [
             [
              69
             ],
             {
              "frame": {
               "duration": 100,
               "redraw": false
              },
              "mode": "immediate",
              "transition": {
               "duration": 0
              }
             }
            ],
            "label": "69",
            "method": "animate"
           },
           {
            "args": [
             [
              70
             ],
             {
              "frame": {
               "duration": 100,
               "redraw": false
              },
              "mode": "immediate",
              "transition": {
               "duration": 0
              }
             }
            ],
            "label": "70",
            "method": "animate"
           },
           {
            "args": [
             [
              71
             ],
             {
              "frame": {
               "duration": 100,
               "redraw": false
              },
              "mode": "immediate",
              "transition": {
               "duration": 0
              }
             }
            ],
            "label": "71",
            "method": "animate"
           },
           {
            "args": [
             [
              72
             ],
             {
              "frame": {
               "duration": 100,
               "redraw": false
              },
              "mode": "immediate",
              "transition": {
               "duration": 0
              }
             }
            ],
            "label": "72",
            "method": "animate"
           },
           {
            "args": [
             [
              73
             ],
             {
              "frame": {
               "duration": 100,
               "redraw": false
              },
              "mode": "immediate",
              "transition": {
               "duration": 0
              }
             }
            ],
            "label": "73",
            "method": "animate"
           },
           {
            "args": [
             [
              74
             ],
             {
              "frame": {
               "duration": 100,
               "redraw": false
              },
              "mode": "immediate",
              "transition": {
               "duration": 0
              }
             }
            ],
            "label": "74",
            "method": "animate"
           },
           {
            "args": [
             [
              75
             ],
             {
              "frame": {
               "duration": 100,
               "redraw": false
              },
              "mode": "immediate",
              "transition": {
               "duration": 0
              }
             }
            ],
            "label": "75",
            "method": "animate"
           },
           {
            "args": [
             [
              76
             ],
             {
              "frame": {
               "duration": 100,
               "redraw": false
              },
              "mode": "immediate",
              "transition": {
               "duration": 0
              }
             }
            ],
            "label": "76",
            "method": "animate"
           },
           {
            "args": [
             [
              77
             ],
             {
              "frame": {
               "duration": 100,
               "redraw": false
              },
              "mode": "immediate",
              "transition": {
               "duration": 0
              }
             }
            ],
            "label": "77",
            "method": "animate"
           },
           {
            "args": [
             [
              78
             ],
             {
              "frame": {
               "duration": 100,
               "redraw": false
              },
              "mode": "immediate",
              "transition": {
               "duration": 0
              }
             }
            ],
            "label": "78",
            "method": "animate"
           },
           {
            "args": [
             [
              79
             ],
             {
              "frame": {
               "duration": 100,
               "redraw": false
              },
              "mode": "immediate",
              "transition": {
               "duration": 0
              }
             }
            ],
            "label": "79",
            "method": "animate"
           },
           {
            "args": [
             [
              80
             ],
             {
              "frame": {
               "duration": 100,
               "redraw": false
              },
              "mode": "immediate",
              "transition": {
               "duration": 0
              }
             }
            ],
            "label": "80",
            "method": "animate"
           },
           {
            "args": [
             [
              81
             ],
             {
              "frame": {
               "duration": 100,
               "redraw": false
              },
              "mode": "immediate",
              "transition": {
               "duration": 0
              }
             }
            ],
            "label": "81",
            "method": "animate"
           },
           {
            "args": [
             [
              82
             ],
             {
              "frame": {
               "duration": 100,
               "redraw": false
              },
              "mode": "immediate",
              "transition": {
               "duration": 0
              }
             }
            ],
            "label": "82",
            "method": "animate"
           },
           {
            "args": [
             [
              83
             ],
             {
              "frame": {
               "duration": 100,
               "redraw": false
              },
              "mode": "immediate",
              "transition": {
               "duration": 0
              }
             }
            ],
            "label": "83",
            "method": "animate"
           },
           {
            "args": [
             [
              84
             ],
             {
              "frame": {
               "duration": 100,
               "redraw": false
              },
              "mode": "immediate",
              "transition": {
               "duration": 0
              }
             }
            ],
            "label": "84",
            "method": "animate"
           },
           {
            "args": [
             [
              85
             ],
             {
              "frame": {
               "duration": 100,
               "redraw": false
              },
              "mode": "immediate",
              "transition": {
               "duration": 0
              }
             }
            ],
            "label": "85",
            "method": "animate"
           },
           {
            "args": [
             [
              86
             ],
             {
              "frame": {
               "duration": 100,
               "redraw": false
              },
              "mode": "immediate",
              "transition": {
               "duration": 0
              }
             }
            ],
            "label": "86",
            "method": "animate"
           },
           {
            "args": [
             [
              87
             ],
             {
              "frame": {
               "duration": 100,
               "redraw": false
              },
              "mode": "immediate",
              "transition": {
               "duration": 0
              }
             }
            ],
            "label": "87",
            "method": "animate"
           },
           {
            "args": [
             [
              88
             ],
             {
              "frame": {
               "duration": 100,
               "redraw": false
              },
              "mode": "immediate",
              "transition": {
               "duration": 0
              }
             }
            ],
            "label": "88",
            "method": "animate"
           },
           {
            "args": [
             [
              89
             ],
             {
              "frame": {
               "duration": 100,
               "redraw": false
              },
              "mode": "immediate",
              "transition": {
               "duration": 0
              }
             }
            ],
            "label": "89",
            "method": "animate"
           },
           {
            "args": [
             [
              90
             ],
             {
              "frame": {
               "duration": 100,
               "redraw": false
              },
              "mode": "immediate",
              "transition": {
               "duration": 0
              }
             }
            ],
            "label": "90",
            "method": "animate"
           },
           {
            "args": [
             [
              91
             ],
             {
              "frame": {
               "duration": 100,
               "redraw": false
              },
              "mode": "immediate",
              "transition": {
               "duration": 0
              }
             }
            ],
            "label": "91",
            "method": "animate"
           },
           {
            "args": [
             [
              92
             ],
             {
              "frame": {
               "duration": 100,
               "redraw": false
              },
              "mode": "immediate",
              "transition": {
               "duration": 0
              }
             }
            ],
            "label": "92",
            "method": "animate"
           },
           {
            "args": [
             [
              93
             ],
             {
              "frame": {
               "duration": 100,
               "redraw": false
              },
              "mode": "immediate",
              "transition": {
               "duration": 0
              }
             }
            ],
            "label": "93",
            "method": "animate"
           },
           {
            "args": [
             [
              94
             ],
             {
              "frame": {
               "duration": 100,
               "redraw": false
              },
              "mode": "immediate",
              "transition": {
               "duration": 0
              }
             }
            ],
            "label": "94",
            "method": "animate"
           },
           {
            "args": [
             [
              95
             ],
             {
              "frame": {
               "duration": 100,
               "redraw": false
              },
              "mode": "immediate",
              "transition": {
               "duration": 0
              }
             }
            ],
            "label": "95",
            "method": "animate"
           },
           {
            "args": [
             [
              96
             ],
             {
              "frame": {
               "duration": 100,
               "redraw": false
              },
              "mode": "immediate",
              "transition": {
               "duration": 0
              }
             }
            ],
            "label": "96",
            "method": "animate"
           },
           {
            "args": [
             [
              97
             ],
             {
              "frame": {
               "duration": 100,
               "redraw": false
              },
              "mode": "immediate",
              "transition": {
               "duration": 0
              }
             }
            ],
            "label": "97",
            "method": "animate"
           },
           {
            "args": [
             [
              98
             ],
             {
              "frame": {
               "duration": 100,
               "redraw": false
              },
              "mode": "immediate",
              "transition": {
               "duration": 0
              }
             }
            ],
            "label": "98",
            "method": "animate"
           },
           {
            "args": [
             [
              99
             ],
             {
              "frame": {
               "duration": 100,
               "redraw": false
              },
              "mode": "immediate",
              "transition": {
               "duration": 0
              }
             }
            ],
            "label": "99",
            "method": "animate"
           },
           {
            "args": [
             [
              100
             ],
             {
              "frame": {
               "duration": 100,
               "redraw": false
              },
              "mode": "immediate",
              "transition": {
               "duration": 0
              }
             }
            ],
            "label": "100",
            "method": "animate"
           },
           {
            "args": [
             [
              101
             ],
             {
              "frame": {
               "duration": 100,
               "redraw": false
              },
              "mode": "immediate",
              "transition": {
               "duration": 0
              }
             }
            ],
            "label": "101",
            "method": "animate"
           },
           {
            "args": [
             [
              102
             ],
             {
              "frame": {
               "duration": 100,
               "redraw": false
              },
              "mode": "immediate",
              "transition": {
               "duration": 0
              }
             }
            ],
            "label": "102",
            "method": "animate"
           },
           {
            "args": [
             [
              103
             ],
             {
              "frame": {
               "duration": 100,
               "redraw": false
              },
              "mode": "immediate",
              "transition": {
               "duration": 0
              }
             }
            ],
            "label": "103",
            "method": "animate"
           },
           {
            "args": [
             [
              104
             ],
             {
              "frame": {
               "duration": 100,
               "redraw": false
              },
              "mode": "immediate",
              "transition": {
               "duration": 0
              }
             }
            ],
            "label": "104",
            "method": "animate"
           },
           {
            "args": [
             [
              105
             ],
             {
              "frame": {
               "duration": 100,
               "redraw": false
              },
              "mode": "immediate",
              "transition": {
               "duration": 0
              }
             }
            ],
            "label": "105",
            "method": "animate"
           }
          ],
          "transition": {
           "duration": 300,
           "easing": "cubic-in-out"
          },
          "x": 0.1,
          "xanchor": "left",
          "y": 0,
          "yanchor": "top"
         }
        ],
        "template": {
         "data": {
          "bar": [
           {
            "error_x": {
             "color": "#2a3f5f"
            },
            "error_y": {
             "color": "#2a3f5f"
            },
            "marker": {
             "line": {
              "color": "#E5ECF6",
              "width": 0.5
             },
             "pattern": {
              "fillmode": "overlay",
              "size": 10,
              "solidity": 0.2
             }
            },
            "type": "bar"
           }
          ],
          "barpolar": [
           {
            "marker": {
             "line": {
              "color": "#E5ECF6",
              "width": 0.5
             },
             "pattern": {
              "fillmode": "overlay",
              "size": 10,
              "solidity": 0.2
             }
            },
            "type": "barpolar"
           }
          ],
          "carpet": [
           {
            "aaxis": {
             "endlinecolor": "#2a3f5f",
             "gridcolor": "white",
             "linecolor": "white",
             "minorgridcolor": "white",
             "startlinecolor": "#2a3f5f"
            },
            "baxis": {
             "endlinecolor": "#2a3f5f",
             "gridcolor": "white",
             "linecolor": "white",
             "minorgridcolor": "white",
             "startlinecolor": "#2a3f5f"
            },
            "type": "carpet"
           }
          ],
          "choropleth": [
           {
            "colorbar": {
             "outlinewidth": 0,
             "ticks": ""
            },
            "type": "choropleth"
           }
          ],
          "contour": [
           {
            "colorbar": {
             "outlinewidth": 0,
             "ticks": ""
            },
            "colorscale": [
             [
              0,
              "#0d0887"
             ],
             [
              0.1111111111111111,
              "#46039f"
             ],
             [
              0.2222222222222222,
              "#7201a8"
             ],
             [
              0.3333333333333333,
              "#9c179e"
             ],
             [
              0.4444444444444444,
              "#bd3786"
             ],
             [
              0.5555555555555556,
              "#d8576b"
             ],
             [
              0.6666666666666666,
              "#ed7953"
             ],
             [
              0.7777777777777778,
              "#fb9f3a"
             ],
             [
              0.8888888888888888,
              "#fdca26"
             ],
             [
              1,
              "#f0f921"
             ]
            ],
            "type": "contour"
           }
          ],
          "contourcarpet": [
           {
            "colorbar": {
             "outlinewidth": 0,
             "ticks": ""
            },
            "type": "contourcarpet"
           }
          ],
          "heatmap": [
           {
            "colorbar": {
             "outlinewidth": 0,
             "ticks": ""
            },
            "colorscale": [
             [
              0,
              "#0d0887"
             ],
             [
              0.1111111111111111,
              "#46039f"
             ],
             [
              0.2222222222222222,
              "#7201a8"
             ],
             [
              0.3333333333333333,
              "#9c179e"
             ],
             [
              0.4444444444444444,
              "#bd3786"
             ],
             [
              0.5555555555555556,
              "#d8576b"
             ],
             [
              0.6666666666666666,
              "#ed7953"
             ],
             [
              0.7777777777777778,
              "#fb9f3a"
             ],
             [
              0.8888888888888888,
              "#fdca26"
             ],
             [
              1,
              "#f0f921"
             ]
            ],
            "type": "heatmap"
           }
          ],
          "heatmapgl": [
           {
            "colorbar": {
             "outlinewidth": 0,
             "ticks": ""
            },
            "colorscale": [
             [
              0,
              "#0d0887"
             ],
             [
              0.1111111111111111,
              "#46039f"
             ],
             [
              0.2222222222222222,
              "#7201a8"
             ],
             [
              0.3333333333333333,
              "#9c179e"
             ],
             [
              0.4444444444444444,
              "#bd3786"
             ],
             [
              0.5555555555555556,
              "#d8576b"
             ],
             [
              0.6666666666666666,
              "#ed7953"
             ],
             [
              0.7777777777777778,
              "#fb9f3a"
             ],
             [
              0.8888888888888888,
              "#fdca26"
             ],
             [
              1,
              "#f0f921"
             ]
            ],
            "type": "heatmapgl"
           }
          ],
          "histogram": [
           {
            "marker": {
             "pattern": {
              "fillmode": "overlay",
              "size": 10,
              "solidity": 0.2
             }
            },
            "type": "histogram"
           }
          ],
          "histogram2d": [
           {
            "colorbar": {
             "outlinewidth": 0,
             "ticks": ""
            },
            "colorscale": [
             [
              0,
              "#0d0887"
             ],
             [
              0.1111111111111111,
              "#46039f"
             ],
             [
              0.2222222222222222,
              "#7201a8"
             ],
             [
              0.3333333333333333,
              "#9c179e"
             ],
             [
              0.4444444444444444,
              "#bd3786"
             ],
             [
              0.5555555555555556,
              "#d8576b"
             ],
             [
              0.6666666666666666,
              "#ed7953"
             ],
             [
              0.7777777777777778,
              "#fb9f3a"
             ],
             [
              0.8888888888888888,
              "#fdca26"
             ],
             [
              1,
              "#f0f921"
             ]
            ],
            "type": "histogram2d"
           }
          ],
          "histogram2dcontour": [
           {
            "colorbar": {
             "outlinewidth": 0,
             "ticks": ""
            },
            "colorscale": [
             [
              0,
              "#0d0887"
             ],
             [
              0.1111111111111111,
              "#46039f"
             ],
             [
              0.2222222222222222,
              "#7201a8"
             ],
             [
              0.3333333333333333,
              "#9c179e"
             ],
             [
              0.4444444444444444,
              "#bd3786"
             ],
             [
              0.5555555555555556,
              "#d8576b"
             ],
             [
              0.6666666666666666,
              "#ed7953"
             ],
             [
              0.7777777777777778,
              "#fb9f3a"
             ],
             [
              0.8888888888888888,
              "#fdca26"
             ],
             [
              1,
              "#f0f921"
             ]
            ],
            "type": "histogram2dcontour"
           }
          ],
          "mesh3d": [
           {
            "colorbar": {
             "outlinewidth": 0,
             "ticks": ""
            },
            "type": "mesh3d"
           }
          ],
          "parcoords": [
           {
            "line": {
             "colorbar": {
              "outlinewidth": 0,
              "ticks": ""
             }
            },
            "type": "parcoords"
           }
          ],
          "pie": [
           {
            "automargin": true,
            "type": "pie"
           }
          ],
          "scatter": [
           {
            "fillpattern": {
             "fillmode": "overlay",
             "size": 10,
             "solidity": 0.2
            },
            "type": "scatter"
           }
          ],
          "scatter3d": [
           {
            "line": {
             "colorbar": {
              "outlinewidth": 0,
              "ticks": ""
             }
            },
            "marker": {
             "colorbar": {
              "outlinewidth": 0,
              "ticks": ""
             }
            },
            "type": "scatter3d"
           }
          ],
          "scattercarpet": [
           {
            "marker": {
             "colorbar": {
              "outlinewidth": 0,
              "ticks": ""
             }
            },
            "type": "scattercarpet"
           }
          ],
          "scattergeo": [
           {
            "marker": {
             "colorbar": {
              "outlinewidth": 0,
              "ticks": ""
             }
            },
            "type": "scattergeo"
           }
          ],
          "scattergl": [
           {
            "marker": {
             "colorbar": {
              "outlinewidth": 0,
              "ticks": ""
             }
            },
            "type": "scattergl"
           }
          ],
          "scattermapbox": [
           {
            "marker": {
             "colorbar": {
              "outlinewidth": 0,
              "ticks": ""
             }
            },
            "type": "scattermapbox"
           }
          ],
          "scatterpolar": [
           {
            "marker": {
             "colorbar": {
              "outlinewidth": 0,
              "ticks": ""
             }
            },
            "type": "scatterpolar"
           }
          ],
          "scatterpolargl": [
           {
            "marker": {
             "colorbar": {
              "outlinewidth": 0,
              "ticks": ""
             }
            },
            "type": "scatterpolargl"
           }
          ],
          "scatterternary": [
           {
            "marker": {
             "colorbar": {
              "outlinewidth": 0,
              "ticks": ""
             }
            },
            "type": "scatterternary"
           }
          ],
          "surface": [
           {
            "colorbar": {
             "outlinewidth": 0,
             "ticks": ""
            },
            "colorscale": [
             [
              0,
              "#0d0887"
             ],
             [
              0.1111111111111111,
              "#46039f"
             ],
             [
              0.2222222222222222,
              "#7201a8"
             ],
             [
              0.3333333333333333,
              "#9c179e"
             ],
             [
              0.4444444444444444,
              "#bd3786"
             ],
             [
              0.5555555555555556,
              "#d8576b"
             ],
             [
              0.6666666666666666,
              "#ed7953"
             ],
             [
              0.7777777777777778,
              "#fb9f3a"
             ],
             [
              0.8888888888888888,
              "#fdca26"
             ],
             [
              1,
              "#f0f921"
             ]
            ],
            "type": "surface"
           }
          ],
          "table": [
           {
            "cells": {
             "fill": {
              "color": "#EBF0F8"
             },
             "line": {
              "color": "white"
             }
            },
            "header": {
             "fill": {
              "color": "#C8D4E3"
             },
             "line": {
              "color": "white"
             }
            },
            "type": "table"
           }
          ]
         },
         "layout": {
          "annotationdefaults": {
           "arrowcolor": "#2a3f5f",
           "arrowhead": 0,
           "arrowwidth": 1
          },
          "autotypenumbers": "strict",
          "coloraxis": {
           "colorbar": {
            "outlinewidth": 0,
            "ticks": ""
           }
          },
          "colorscale": {
           "diverging": [
            [
             0,
             "#8e0152"
            ],
            [
             0.1,
             "#c51b7d"
            ],
            [
             0.2,
             "#de77ae"
            ],
            [
             0.3,
             "#f1b6da"
            ],
            [
             0.4,
             "#fde0ef"
            ],
            [
             0.5,
             "#f7f7f7"
            ],
            [
             0.6,
             "#e6f5d0"
            ],
            [
             0.7,
             "#b8e186"
            ],
            [
             0.8,
             "#7fbc41"
            ],
            [
             0.9,
             "#4d9221"
            ],
            [
             1,
             "#276419"
            ]
           ],
           "sequential": [
            [
             0,
             "#0d0887"
            ],
            [
             0.1111111111111111,
             "#46039f"
            ],
            [
             0.2222222222222222,
             "#7201a8"
            ],
            [
             0.3333333333333333,
             "#9c179e"
            ],
            [
             0.4444444444444444,
             "#bd3786"
            ],
            [
             0.5555555555555556,
             "#d8576b"
            ],
            [
             0.6666666666666666,
             "#ed7953"
            ],
            [
             0.7777777777777778,
             "#fb9f3a"
            ],
            [
             0.8888888888888888,
             "#fdca26"
            ],
            [
             1,
             "#f0f921"
            ]
           ],
           "sequentialminus": [
            [
             0,
             "#0d0887"
            ],
            [
             0.1111111111111111,
             "#46039f"
            ],
            [
             0.2222222222222222,
             "#7201a8"
            ],
            [
             0.3333333333333333,
             "#9c179e"
            ],
            [
             0.4444444444444444,
             "#bd3786"
            ],
            [
             0.5555555555555556,
             "#d8576b"
            ],
            [
             0.6666666666666666,
             "#ed7953"
            ],
            [
             0.7777777777777778,
             "#fb9f3a"
            ],
            [
             0.8888888888888888,
             "#fdca26"
            ],
            [
             1,
             "#f0f921"
            ]
           ]
          },
          "colorway": [
           "#636efa",
           "#EF553B",
           "#00cc96",
           "#ab63fa",
           "#FFA15A",
           "#19d3f3",
           "#FF6692",
           "#B6E880",
           "#FF97FF",
           "#FECB52"
          ],
          "font": {
           "color": "#2a3f5f"
          },
          "geo": {
           "bgcolor": "white",
           "lakecolor": "white",
           "landcolor": "#E5ECF6",
           "showlakes": true,
           "showland": true,
           "subunitcolor": "white"
          },
          "hoverlabel": {
           "align": "left"
          },
          "hovermode": "closest",
          "mapbox": {
           "style": "light"
          },
          "paper_bgcolor": "white",
          "plot_bgcolor": "#E5ECF6",
          "polar": {
           "angularaxis": {
            "gridcolor": "white",
            "linecolor": "white",
            "ticks": ""
           },
           "bgcolor": "#E5ECF6",
           "radialaxis": {
            "gridcolor": "white",
            "linecolor": "white",
            "ticks": ""
           }
          },
          "scene": {
           "xaxis": {
            "backgroundcolor": "#E5ECF6",
            "gridcolor": "white",
            "gridwidth": 2,
            "linecolor": "white",
            "showbackground": true,
            "ticks": "",
            "zerolinecolor": "white"
           },
           "yaxis": {
            "backgroundcolor": "#E5ECF6",
            "gridcolor": "white",
            "gridwidth": 2,
            "linecolor": "white",
            "showbackground": true,
            "ticks": "",
            "zerolinecolor": "white"
           },
           "zaxis": {
            "backgroundcolor": "#E5ECF6",
            "gridcolor": "white",
            "gridwidth": 2,
            "linecolor": "white",
            "showbackground": true,
            "ticks": "",
            "zerolinecolor": "white"
           }
          },
          "shapedefaults": {
           "line": {
            "color": "#2a3f5f"
           }
          },
          "ternary": {
           "aaxis": {
            "gridcolor": "white",
            "linecolor": "white",
            "ticks": ""
           },
           "baxis": {
            "gridcolor": "white",
            "linecolor": "white",
            "ticks": ""
           },
           "bgcolor": "#E5ECF6",
           "caxis": {
            "gridcolor": "white",
            "linecolor": "white",
            "ticks": ""
           }
          },
          "title": {
           "x": 0.05
          },
          "xaxis": {
           "automargin": true,
           "gridcolor": "white",
           "linecolor": "white",
           "ticks": "",
           "title": {
            "standoff": 15
           },
           "zerolinecolor": "white",
           "zerolinewidth": 2
          },
          "yaxis": {
           "automargin": true,
           "gridcolor": "white",
           "linecolor": "white",
           "ticks": "",
           "title": {
            "standoff": 15
           },
           "zerolinecolor": "white",
           "zerolinewidth": 2
          }
         }
        },
        "title": {
         "text": "GameId: 2022100907, PlayId: 1058<br>14:15 2Q<br><br><br><br><br><br><br><br><br><br><br><br><br><br><br><br><br><br><br>(14:15) (Shotgun) S.Thompson pass short right to T.Hill to MIA 35 for 5 yards (C.Mosley)."
        },
        "updatemenus": [
         {
          "buttons": [
           {
            "args": [
             null,
             {
              "frame": {
               "duration": 100,
               "redraw": false
              },
              "fromcurrent": true,
              "transition": {
               "duration": 0
              }
             }
            ],
            "label": "Play",
            "method": "animate"
           },
           {
            "args": [
             [
              null
             ],
             {
              "frame": {
               "duration": 0,
               "redraw": false
              },
              "mode": "immediate",
              "transition": {
               "duration": 0
              }
             }
            ],
            "label": "Pause",
            "method": "animate"
           }
          ],
          "direction": "left",
          "pad": {
           "r": 10,
           "t": 87
          },
          "showactive": false,
          "type": "buttons",
          "x": 0.1,
          "xanchor": "right",
          "y": 0,
          "yanchor": "top"
         }
        ],
        "width": 1080,
        "xaxis": {
         "autorange": false,
         "range": [
          32.84,
          60.63
         ],
         "showticklabels": false,
         "tickmode": "array",
         "tickvals": [
          10,
          15,
          20,
          25,
          30,
          35,
          40,
          45,
          50,
          55,
          60,
          65,
          70,
          75,
          80,
          85,
          90,
          95,
          100,
          105
         ]
        },
        "yaxis": {
         "autorange": false,
         "range": [
          0,
          53.3
         ],
         "showgrid": false,
         "showticklabels": false
        }
       }
      }
     },
     "metadata": {},
     "output_type": "display_data"
    }
   ],
   "source": [
    "fig"
   ]
  },
  {
   "cell_type": "code",
   "execution_count": null,
   "metadata": {},
   "outputs": [
    {
     "data": {
      "text/plain": [
       "600"
      ]
     },
     "execution_count": 5,
     "metadata": {},
     "output_type": "execute_result"
    }
   ],
   "source": [
    "fig.layout.height"
   ]
  },
  {
   "cell_type": "code",
   "execution_count": 6,
   "metadata": {},
   "outputs": [],
   "source": [
    "#!pip install -U kaleido"
   ]
  },
  {
   "cell_type": "code",
   "execution_count": 7,
   "metadata": {},
   "outputs": [],
   "source": [
    "#!pip install moviepy"
   ]
  },
  {
   "cell_type": "code",
   "execution_count": 8,
   "metadata": {},
   "outputs": [],
   "source": [
    "\n",
    "import io\n",
    "import PIL\n",
    "\n",
    "frames=[]\n",
    "for s, fr in enumerate(fig.frames):\n",
    "\n",
    "    fig.update(data=fr.data)\n",
    "    fig.layout.sliders[0].update(active=s)\n",
    "    frames.append(PIL.Image.open(io.BytesIO(fig.to_image(format=\"png\",scale=1))))\n",
    "\n",
    "\n",
    "    frames[0].save(\"image/dots.gif\",\n",
    "                    save_all=True,\n",
    "                    append_images=frames[1:],\n",
    "                    optimize=True,\n",
    "                    duration=100,\n",
    "                    loop=0,\n",
    "                    dither=None)\n",
    "\n",
    "                    "
   ]
  },
  {
   "cell_type": "markdown",
   "metadata": {},
   "source": [
    "# Plot line"
   ]
  },
  {
   "cell_type": "code",
   "execution_count": 9,
   "metadata": {},
   "outputs": [
    {
     "data": {
      "image/png": "[encoded data removed]",
      "text/plain": [
       "<Figure size 600x600 with 1 Axes>"
      ]
     },
     "metadata": {},
     "output_type": "display_data"
    }
   ],
   "source": [
    "import numpy as np\n",
    "import matplotlib.pyplot as plt\n",
    "from matplotlib import animation\n",
    "\n",
    "dt = 0.01\n",
    "tfinal = 1\n",
    "x0 = 0\n",
    "\n",
    "sqrtdt = np.sqrt(dt)\n",
    "n = int(tfinal/dt)\n",
    "xtraj = np.zeros(n+1, float)\n",
    "trange = np.linspace(start=0,stop=tfinal ,num=n+1)\n",
    "xtraj[0] = x0\n",
    "\n",
    "for i in range(n):\n",
    "    xtraj[i+1] = xtraj[i] + np.random.normal()\n",
    "\n",
    "x = trange\n",
    "y = xtraj\n",
    "\n",
    "# animation line plot example\n",
    "\n",
    "fig, ax = plt.subplots(1, 1, figsize = (6, 6))\n",
    "\n",
    "def animate(i):\n",
    "    ax.cla() # clear the previous image\n",
    "    ax.plot(x[:i], y[:i]) # plot the line\n",
    "    ax.set_xlim([x0, tfinal]) # fix the x axis\n",
    "    ax.set_ylim([1.1*np.min(y), 1.1*np.max(y)]) # fix the y axis\n",
    "    ax.set_ylabel('Pass probability')\n",
    "    ax.set_xlabel('Time (s)')\n",
    "    #ax.set_xticks([1,2,3,4,5])\n",
    "\n",
    "anim = animation.FuncAnimation(fig, animate, frames = len(x) + 1, interval = 1, blit = False)\n",
    "plt.show()\n",
    "\n",
    "# To save the animation using Pillow as a gif\n",
    "writer = animation.PillowWriter(fps=15,\n",
    "                                 metadata=dict(artist='Me'),\n",
    "                                 bitrate=1800)\n",
    "anim.save('image/line.gif', writer=writer)\n",
    "\n",
    "#plt.show()"
   ]
  },
  {
   "cell_type": "code",
   "execution_count": 10,
   "metadata": {},
   "outputs": [],
   "source": [
    "import imageio"
   ]
  },
  {
   "cell_type": "code",
   "execution_count": 11,
   "metadata": {},
   "outputs": [],
   "source": [
    "def combine_gifs(gif1_path, gif2_path, output_path):\n",
    "    # Read GIFs\n",
    "    gif1 = imageio.get_reader(gif1_path)\n",
    "    gif2 = imageio.get_reader(gif2_path)\n",
    "\n",
    "    # Get frame duration (assuming both GIFs have the same frame duration)\n",
    "    duration = gif1.get_meta_data()[\"duration\"]\n",
    "\n",
    "    # Create a writer for the combined GIF\n",
    "    combined_gif_writer = imageio.get_writer(output_path, duration=duration, loop=0)\n",
    "\n",
    "    combined_frame = None\n",
    "    # Combine frames side by side and write\n",
    "    for frame1, frame2 in zip(gif1, gif2):\n",
    "        combined_frame = imageio.core.util.Image(\n",
    "            np.concatenate([frame2, frame1], axis=1)\n",
    "        )\n",
    "        combined_gif_writer.append_data(combined_frame)\n",
    "\n",
    "    # pause on the last frame for 5 frames\n",
    "    for i in range(5):\n",
    "        combined_gif_writer.append_data(combined_frame)\n",
    "\n",
    "    # Close\n",
    "    combined_gif_writer.close()\n",
    "    gif1.close()\n",
    "    gif2.close()\n",
    "\n"
   ]
  },
  {
   "cell_type": "code",
   "execution_count": 12,
   "metadata": {},
   "outputs": [],
   "source": [
    "gif1 = imageio.get_reader('image/dots.gif')\n",
    "gif2 = imageio.get_reader('image/line.gif')"
   ]
  },
  {
   "cell_type": "code",
   "execution_count": 13,
   "metadata": {},
   "outputs": [],
   "source": [
    "combine_gifs('image/line.gif','image/dots.gif','image/comb.gif')"
   ]
  },
  {
   "cell_type": "markdown",
   "metadata": {},
   "source": []
  }
 ],
 "metadata": {
  "kaggle": {
   "accelerator": "none",
   "dataSources": [
    {
     "databundleVersionId": 9816926,
     "sourceId": 84175,
     "sourceType": "competition"
    }
   ],
   "dockerImageVersionId": 30786,
   "isGpuEnabled": false,
   "isInternetEnabled": true,
   "language": "python",
   "sourceType": "notebook"
  },
  "kernelspec": {
   "display_name": ".venv",
   "language": "python",
   "name": "python3"
  },
  "language_info": {
   "codemirror_mode": {
    "name": "ipython",
    "version": 3
   },
   "file_extension": ".py",
   "mimetype": "text/x-python",
   "name": "python",
   "nbconvert_exporter": "python",
   "pygments_lexer": "ipython3",
   "version": "3.9.15"
  }
 },
 "nbformat": 4,
 "nbformat_minor": 4
}
