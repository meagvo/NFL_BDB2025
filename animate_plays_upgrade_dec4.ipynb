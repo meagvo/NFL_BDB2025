{
 "cells": [
  {
   "cell_type": "markdown",
   "metadata": {},
   "source": [
    "![](https://i.imgur.com/DJjibkb.png) \n",
    "\n",
    "# Animate plays with Plotly!  \n",
    "There are a lot of scam notebooks saying they can do what this notebook and other quality BDB notebooks present. Don't listen to clout chasing notebookers who don't care about the Big Data Bowl, ignore vigilantly!  \n",
    "\n",
    "This is a drop-in set of functions that should allow you to replay any play. You can add additional features (increasing marker sizes for metrics, more tooltips, etc) relatively easily using the plotly framework.  \n",
    "\n",
    "Please upvote and definitely don't upvote sham clout chasing notebookers! "
   ]
  },
  {
   "cell_type": "code",
   "execution_count": 25,
   "metadata": {
    "_cell_guid": "b1076dfc-b9ad-4769-8c92-a6c4dae69d19",
    "_uuid": "8f2839f25d086af736a60e9eeb907d3b93b6e0e5",
    "execution": {
     "iopub.execute_input": "2024-11-06T20:39:52.200169Z",
     "iopub.status.busy": "2024-11-06T20:39:52.199581Z",
     "iopub.status.idle": "2024-11-06T20:39:55.485655Z",
     "shell.execute_reply": "2024-11-06T20:39:55.484476Z",
     "shell.execute_reply.started": "2024-11-06T20:39:52.200108Z"
    },
    "trusted": true
   },
   "outputs": [],
   "source": [
    "import plotly.graph_objects as go\n",
    "import os\n",
    "import pickle\n",
    "import pandas as pd\n",
    "import numpy as np\n",
    "import matplotlib.pyplot as plt\n",
    "import seaborn as sns\n",
    "project_dir = 'data'"
   ]
  },
  {
   "cell_type": "code",
   "execution_count": 26,
   "metadata": {
    "execution": {
     "iopub.execute_input": "2024-11-06T20:39:55.496256Z",
     "iopub.status.busy": "2024-11-06T20:39:55.492835Z",
     "iopub.status.idle": "2024-11-06T20:39:55.569010Z",
     "shell.execute_reply": "2024-11-06T20:39:55.567495Z",
     "shell.execute_reply.started": "2024-11-06T20:39:55.496184Z"
    },
    "trusted": true
   },
   "outputs": [],
   "source": [
    "# You can inherit these colors from nflverse, this is for completeness/convenience \n",
    "colors = {\n",
    "    'ARI':[\"#97233F\",\"#000000\",\"#FFB612\"],\n",
    "    'ATL':[\"#A71930\",\"#000000\",\"#A5ACAF\"],\n",
    "    'BAL':[\"#241773\",\"#000000\"],\n",
    "    'BUF':[\"#00338D\",\"#C60C30\"],\n",
    "    'CAR':[\"#0085CA\",\"#101820\",\"#BFC0BF\"],\n",
    "    'CHI':[\"#0B162A\",\"#C83803\"],\n",
    "    'CIN':[\"#FB4F14\",\"#000000\"],\n",
    "    'CLE':[\"#311D00\",\"#FF3C00\"],\n",
    "    'DAL':[\"#003594\",\"#041E42\",\"#869397\"],\n",
    "    'DEN':[\"#FB4F14\",\"#002244\"],\n",
    "    'DET':[\"#0076B6\",\"#B0B7BC\",\"#000000\"],\n",
    "    'GB' :[\"#203731\",\"#FFB612\"],\n",
    "    'HOU':[\"#03202F\",\"#A71930\"],\n",
    "    'IND':[\"#002C5F\",\"#A2AAAD\"],\n",
    "    'JAX':[\"#101820\",\"#D7A22A\",\"#9F792C\"],\n",
    "    'KC' :[\"#E31837\",\"#FFB81C\"],\n",
    "    'LA' :[\"#003594\",\"#FFA300\",\"#FF8200\"],\n",
    "    'LAC':[\"#0080C6\",\"#FFC20E\",\"#FFFFFF\"],\n",
    "    'LV' :[\"#000000\",\"#A5ACAF\"],\n",
    "    'MIA':[\"#008E97\",\"#FC4C02\",\"#005778\"],\n",
    "    'MIN':[\"#4F2683\",\"#FFC62F\"],\n",
    "    'NE' :[\"#002244\",\"#C60C30\",\"#B0B7BC\"],\n",
    "    'NO' :[\"#101820\",\"#D3BC8D\"],\n",
    "    'NYG':[\"#0B2265\",\"#A71930\",\"#A5ACAF\"],\n",
    "    'NYJ':[\"#125740\",\"#000000\",\"#FFFFFF\"],\n",
    "    'PHI':[\"#004C54\",\"#A5ACAF\",\"#ACC0C6\"],\n",
    "    'PIT':[\"#FFB612\",\"#101820\"],\n",
    "    'SEA':[\"#002244\",\"#69BE28\",\"#A5ACAF\"],\n",
    "    'SF' :[\"#AA0000\",\"#B3995D\"],\n",
    "    'TB' :[\"#D50A0A\",\"#FF7900\",\"#0A0A08\"],\n",
    "    'TEN':[\"#0C2340\",\"#4B92DB\",\"#C8102E\"],\n",
    "    'WAS':[\"#5A1414\",\"#FFB612\"],\n",
    "    'football':[\"#CBB67C\",\"#663831\"]\n",
    "}\n",
    "\n",
    "def preprocess_data(tracking_data, players_data):\n",
    "    \"\"\"\n",
    "    merges data for the `animate_play()` function \n",
    "    \"\"\"\n",
    "    tracking_df = pd.merge(df,players,how=\"left\",on = [\"nflId\",'displayName'])\n",
    "    return tracking_df\n",
    "\n",
    "def hex_to_rgb_array(hex_color):\n",
    "    \"\"\"\n",
    "    take in hex val and return rgb np array\n",
    "    helper for 'color distance' issues \n",
    "    \"\"\"\n",
    "    return np.array(tuple(int(hex_color.lstrip('#')[i:i+2], 16) for i in (0, 2, 4)))\n",
    "\n",
    "def ColorDistance(hex1,hex2):\n",
    "    \"\"\"\n",
    "    d = {} distance between two colors(3)\n",
    "    helper for 'color distance' issues \n",
    "    \"\"\"\n",
    "    if hex1 == hex2:\n",
    "        return 0\n",
    "    rgb1 = hex_to_rgb_array(hex1)\n",
    "    rgb2 = hex_to_rgb_array(hex2)\n",
    "    rm = 0.5*(rgb1[0]+rgb2[0])\n",
    "    d = abs(sum((2+rm,4,3-rm)*(rgb1-rgb2)**2))**0.5\n",
    "    return d\n",
    "\n",
    "def ColorPairs(team1,team2):\n",
    "    \"\"\"\n",
    "    Pairs colors given two teams\n",
    "    If colors are 'too close' in hue, switch to alt color  \n",
    "    \"\"\"\n",
    "    color_array_1 = colors[team1]\n",
    "    color_array_2 = colors[team2]\n",
    "    # If color distance is small enough then flip color order\n",
    "    if ColorDistance(color_array_1[0],color_array_2[0])<500:\n",
    "        return {\n",
    "          team1:[color_array_1[0],color_array_1[1]],\n",
    "          team2:[color_array_2[1],color_array_2[0]],\n",
    "          'football':colors['football']\n",
    "        }\n",
    "    else:\n",
    "        return {\n",
    "          team1:[color_array_1[0],color_array_1[1]],\n",
    "          team2:[color_array_2[0],color_array_2[1]],\n",
    "          'football':colors['football']\n",
    "        }\n",
    "\n",
    "def animate_play(games,tracking_df,play_df,players,gameId,playId):\n",
    "    \"\"\"\n",
    "    Generates an animated play using the tracking data. \n",
    "    \"\"\"\n",
    "    selected_game_df = games.loc[games['gameId']==gameId].copy()\n",
    "    selected_play_df = play_df.loc[(play_df['playId']==playId) & (play_df['gameId']==gameId)].copy()\n",
    "\n",
    "    tracking_players_df = tracking_df.copy()\n",
    "    selected_tracking_df = tracking_players_df.loc[(tracking_players_df['playId']==playId)&(tracking_players_df['gameId']==gameId)].copy()\n",
    "\n",
    "    sorted_frame_list = selected_tracking_df.frameId.unique()\n",
    "    sorted_frame_list.sort()\n",
    "\n",
    "    # get good color combos\n",
    "    team_combos = list(set(selected_tracking_df['club'].unique())-set(['football']))\n",
    "    color_orders = ColorPairs(team_combos[0],team_combos[1])\n",
    "\n",
    "    # get play General information\n",
    "    line_of_scrimmage = selected_play_df['absoluteYardlineNumber'].values[0]\n",
    "\n",
    "    # Fixing first down marker issue from last year\n",
    "    if selected_tracking_df['playDirection'].values[0] == 'right':\n",
    "        first_down_marker = line_of_scrimmage + selected_play_df['yardsToGo'].values[0]\n",
    "    else:\n",
    "        first_down_marker = line_of_scrimmage - selected_play_df['yardsToGo'].values[0]\n",
    "    down = selected_play_df['down'].values[0]\n",
    "    quarter = selected_play_df['quarter'].values[0]\n",
    "    gameClock = selected_play_df['gameClock'].values[0]\n",
    "    playDescription = selected_play_df['playDescription'].values[0]\n",
    "\n",
    "    # Handle case where we have a really long Play Description and want to split it into two lines\n",
    "    if len(playDescription.split(\" \"))>15 and len(playDescription)>115:\n",
    "        playDescription = \" \".join(playDescription.split(\" \")[0:16]) + \"<br>\" + \" \".join(playDescription.split(\" \")[16:])\n",
    "\n",
    "    # initialize plotly start and stop buttons for animation\n",
    "    updatemenus_dict = [\n",
    "      {\n",
    "          \"buttons\": [\n",
    "              {\n",
    "                  \"args\": [None, {\"frame\": {\"duration\": 100, \"redraw\": False},\n",
    "                              \"fromcurrent\": True, \"transition\": {\"duration\": 0}}],\n",
    "                  \"label\": \"Play\",\n",
    "                  \"method\": \"animate\"\n",
    "              },\n",
    "              {\n",
    "                  \"args\": [[None], {\"frame\": {\"duration\": 0, \"redraw\": False},\n",
    "                                    \"mode\": \"immediate\",\n",
    "                                    \"transition\": {\"duration\": 0}}],\n",
    "                  \"label\": \"Pause\",\n",
    "                  \"method\": \"animate\"\n",
    "              }\n",
    "          ],\n",
    "          \"direction\": \"left\",\n",
    "          \"pad\": {\"r\": 10, \"t\": 87},\n",
    "          \"showactive\": False,\n",
    "          \"type\": \"buttons\",\n",
    "          \"x\": 0.1,\n",
    "          \"xanchor\": \"right\",\n",
    "          \"y\": 0,\n",
    "          \"yanchor\": \"top\"\n",
    "      }\n",
    "    ]\n",
    "    # initialize plotly slider to show frame position in animation\n",
    "    sliders_dict = {\n",
    "      \"active\": 0,\n",
    "      \"yanchor\": \"top\",\n",
    "      \"xanchor\": \"left\",\n",
    "      \"currentvalue\": {\n",
    "          \"font\": {\"size\": 20},\n",
    "          \"prefix\": \"Frame:\",\n",
    "          \"visible\": True,\n",
    "          \"xanchor\": \"right\"\n",
    "      },\n",
    "      \"transition\": {\"duration\": 300, \"easing\": \"cubic-in-out\"},\n",
    "      \"pad\": {\"b\": 10, \"t\": 50},\n",
    "      \"len\": 0.9,\n",
    "      \"x\": 0.1,\n",
    "      \"y\": 0,\n",
    "      \"steps\": []\n",
    "    }\n",
    "\n",
    "\n",
    "    frames = []\n",
    "    for frameId in sorted_frame_list[:120]:\n",
    "        data = []\n",
    "        # Add Numbers to Field\n",
    "        data.append(\n",
    "          go.Scatter(\n",
    "              x=np.arange(20,110,10),\n",
    "              y=[5]*len(np.arange(20,110,10)),\n",
    "              mode='text',\n",
    "              text=list(map(str,list(np.arange(20, 61, 10)-10)+list(np.arange(40, 9, -10)))),\n",
    "              textfont_size = 30,\n",
    "              textfont_family = \"Courier New, monospace\",\n",
    "              textfont_color = \"#ffffff\",\n",
    "              showlegend=False,\n",
    "              hoverinfo='none'\n",
    "          )\n",
    "        )\n",
    "        data.append(\n",
    "          go.Scatter(\n",
    "              x=np.arange(20,110,10),\n",
    "              y=[53.5-5]*len(np.arange(20,110,10)),\n",
    "              mode='text',\n",
    "              text=list(map(str,list(np.arange(20, 61, 10)-10)+list(np.arange(40, 9, -10)))),\n",
    "              textfont_size = 30,\n",
    "              textfont_family = \"Courier New, monospace\",\n",
    "              textfont_color = \"#ffffff\",\n",
    "              showlegend=False,\n",
    "              hoverinfo='none'\n",
    "          )\n",
    "        )\n",
    "        # Add line of scrimage\n",
    "        data.append(\n",
    "          go.Scatter(\n",
    "              x=[line_of_scrimmage,line_of_scrimmage],\n",
    "              y=[0,53.5],\n",
    "              line_dash='dash',\n",
    "              line_color='blue',\n",
    "              showlegend=False,\n",
    "              hoverinfo='none'\n",
    "          )\n",
    "        )\n",
    "        # Add First down line\n",
    "        data.append(\n",
    "          go.Scatter(\n",
    "              x=[first_down_marker,first_down_marker],\n",
    "              y=[0,53.5],\n",
    "              line_dash='dash',\n",
    "              line_color='yellow',\n",
    "              showlegend=False,\n",
    "              hoverinfo='none'\n",
    "          )\n",
    "        )\n",
    "        # Add Endzone Colors\n",
    "        endzoneColors = {0:color_orders[selected_game_df['homeTeamAbbr'].values[0]][0],\n",
    "                        110:color_orders[selected_game_df['visitorTeamAbbr'].values[0]][0]}\n",
    "        for x_min in [0,110]:\n",
    "            data.append(\n",
    "              go.Scatter(\n",
    "                  x=[x_min,x_min,x_min+10,x_min+10,x_min],\n",
    "                  y=[0,53.5,53.5,0,0],\n",
    "                  fill=\"toself\",\n",
    "                  fillcolor=endzoneColors[x_min],\n",
    "                  mode=\"lines\",\n",
    "                  line=dict(\n",
    "                      color=\"white\",\n",
    "                      width=3\n",
    "                      ),\n",
    "                  opacity=1,\n",
    "                  showlegend= False,\n",
    "                  hoverinfo =\"skip\"\n",
    "              )\n",
    "            )\n",
    "        # Plot Players\n",
    "        pmin = 600 #player min\n",
    "        pmax = 0 #player max\n",
    "        for team in selected_tracking_df['club'].unique():\n",
    "            plot_df = selected_tracking_df.loc[(selected_tracking_df['club']==team) & (selected_tracking_df['frameId']==frameId)].copy()\n",
    "\n",
    "            #print(plot_df.iloc[:80,:]['x'])\n",
    "\n",
    "            if pmin > plot_df.iloc[:120,:]['x'].values.min():\n",
    "                pmin = plot_df.iloc[:120,:]['x'].values.min()\n",
    "            \n",
    "            if pmax < plot_df.iloc[:120,:]['x'].values.max():\n",
    "                pmax = plot_df.iloc[:120,:]['x'].values.max()\n",
    "\n",
    "            if team != 'football':\n",
    "                hover_text_array=[]\n",
    "\n",
    "                for nflId in plot_df['nflId'].unique():\n",
    "                    selected_player_df = plot_df.loc[plot_df['nflId']==nflId]\n",
    "                    nflId = int(selected_player_df['nflId'].values[0])\n",
    "                    displayName = selected_player_df['displayName'].values[0]\n",
    "                    s = round(selected_player_df['s'].values[0] * 2.23693629205, 3)\n",
    "                    text_to_append = f\"nflId:{nflId}<br>displayName:{displayName}<br>Player Speed:{s} MPH\"\n",
    "                    hover_text_array.append(text_to_append)\n",
    "\n",
    "                data.append(go.Scatter(x=plot_df['x'], y=plot_df['y'],\n",
    "                                      mode = 'markers',\n",
    "                                      marker=go.scatter.Marker(color=color_orders[team][0],\n",
    "                                                              line=go.scatter.marker.Line(width=2,\n",
    "                                                                                          color=color_orders[team][1]),\n",
    "                                                              size=10),\n",
    "                                      name=team,hovertext=hover_text_array,hoverinfo='text'))\n",
    "            else:\n",
    "                data.append(go.Scatter(x=plot_df['x'], y=plot_df['y'],\n",
    "                                      mode = 'markers',\n",
    "                                      marker=go.scatter.Marker(\n",
    "                                        color=color_orders[team][0],\n",
    "                                        line=go.scatter.marker.Line(width=2,\n",
    "                                                                    color=color_orders[team][1]),\n",
    "                                        size=10),\n",
    "                                      name=team,hoverinfo='none'))\n",
    "                \n",
    "            #print(pmin,pmax)\n",
    "        # add frame to slider\n",
    "        slider_step = {'args': [\n",
    "          [frameId],\n",
    "          {'frame': {'duration': 100, 'redraw': False},\n",
    "            'mode': 'immediate',\n",
    "            'transition': {'duration': 0}}\n",
    "        ],\n",
    "          'label': str(frameId),\n",
    "          'method': 'animate'}\n",
    "        sliders_dict['steps'].append(slider_step)\n",
    "        frames.append(go.Frame(data=data, name=str(frameId)))\n",
    "\n",
    "    scale=9\n",
    "    #print(pmin)\n",
    "    layout = go.Layout(\n",
    "        autosize=False,\n",
    "        width=120*scale,\n",
    "        height=600,#65*scale,\n",
    "\n",
    "        ## TRUNCATE HERE (see 60, 61 from 120, 111)\n",
    "        xaxis=dict(range=[max(0,pmin-2), pmax+5], autorange=False, tickmode='array',tickvals=np.arange(10, 110, 5).tolist(),showticklabels=False),\n",
    "        yaxis=dict(range=[0, 53.3], autorange=False,showgrid=False,showticklabels=False),\n",
    "\n",
    "        plot_bgcolor='#00B140',\n",
    "        # Create title and add play description at the bottom of the chart for better visual appeal\n",
    "        #title=f\"GameId: {gameId}, PlayId: {playId}<br>{gameClock} {quarter}Q\"+\"<br>\"*19+f\"{playDescription}\",\n",
    "        title=f\"GameId: {gameId}, PlayId: {playId}<br>{gameClock} {quarter}Q\"+\"<br>\"*19+f\"{'(8:31) (No Huddle, Shotgun) J.Burrow pass incomplete short left to J.Mixon (J.Jones).'}\",\n",
    "        updatemenus=updatemenus_dict,\n",
    "        sliders = [sliders_dict]\n",
    "    )\n",
    "\n",
    "    fig = go.Figure(\n",
    "        data=frames[0]['data'],\n",
    "        layout= layout,\n",
    "        frames=frames[1:120],\n",
    "        \n",
    "    )\n",
    "   \n",
    "    # Create First Down Markers\n",
    "    for y_val in [0,53]:\n",
    "        fig.add_annotation(\n",
    "              x=first_down_marker,\n",
    "              y=y_val,\n",
    "              text=str(down),\n",
    "              showarrow=False,\n",
    "              font=dict(\n",
    "                  family=\"Courier New, monospace\",\n",
    "                  size=16,\n",
    "                  color=\"black\"\n",
    "                  ),\n",
    "              align=\"center\",\n",
    "              bordercolor=\"black\",\n",
    "              borderwidth=2,\n",
    "              borderpad=4,\n",
    "              bgcolor=\"#ff7f0e\",\n",
    "              opacity=1\n",
    "              )\n",
    "\n",
    "    # Add Team Abbreviations in EndZone's\n",
    "    for x_min in [0,110]:\n",
    "        if x_min == 0:\n",
    "            angle = 270\n",
    "            teamName=selected_game_df['homeTeamAbbr'].values[0]\n",
    "        else:\n",
    "            angle = 90\n",
    "            teamName=selected_game_df['visitorTeamAbbr'].values[0]\n",
    "        fig.add_annotation(\n",
    "          x=x_min+5,\n",
    "          y=53.5/2,\n",
    "          text=teamName,\n",
    "          showarrow=False,\n",
    "          font=dict(\n",
    "              family=\"Courier New, monospace\",\n",
    "              size=32,\n",
    "              color=\"White\"\n",
    "              ),\n",
    "          textangle = angle\n",
    "        )\n",
    "    return fig#, pmin, pmax"
   ]
  },
  {
   "cell_type": "code",
   "execution_count": 27,
   "metadata": {
    "execution": {
     "iopub.execute_input": "2024-11-06T20:39:55.571162Z",
     "iopub.status.busy": "2024-11-06T20:39:55.570575Z",
     "iopub.status.idle": "2024-11-06T20:40:29.418973Z",
     "shell.execute_reply": "2024-11-06T20:40:29.417864Z",
     "shell.execute_reply.started": "2024-11-06T20:39:55.571090Z"
    },
    "trusted": true
   },
   "outputs": [],
   "source": [
    "games = pd.read_csv(f'{project_dir}/games.csv')\n",
    "plays = pd.read_csv(f'{project_dir}/plays.csv')\n",
    "players = pd.read_csv(f'{project_dir}/players.csv')\n",
    "player_play = pd.read_csv(f'{project_dir}/player_play.csv')\n",
    "tracking_df = pd.read_csv('data/track_full.csv',usecols=['gameId','playId','nflId','frameId','displayName','club','playDirection','x','y','s'])"
   ]
  },
  {
   "cell_type": "code",
   "execution_count": 28,
   "metadata": {},
   "outputs": [],
   "source": [
    "\n",
    "player_play['motionSinceLineset'] = player_play['motionSinceLineset'].fillna(0)\n",
    "player_play['motionSinceLineset'] = player_play['motionSinceLineset'].astype(int)\n",
    "\n",
    "player_play['shiftSinceLineset'] = player_play['shiftSinceLineset'].fillna(0)\n",
    "player_play['shiftSinceLineset'] = player_play['shiftSinceLineset'].astype(int)"
   ]
  },
  {
   "cell_type": "code",
   "execution_count": 29,
   "metadata": {},
   "outputs": [
    {
     "data": {
      "text/plain": [
       "0         False\n",
       "1         False\n",
       "2         False\n",
       "3         False\n",
       "4         False\n",
       "          ...  \n",
       "354722    False\n",
       "354723    False\n",
       "354724    False\n",
       "354725    False\n",
       "354726    False\n",
       "Length: 354727, dtype: bool"
      ]
     },
     "execution_count": 29,
     "metadata": {},
     "output_type": "execute_result"
    }
   ],
   "source": [
    "(player_play['motionSinceLineset'] & player_play['shiftSinceLineset']).astype(bool)"
   ]
  },
  {
   "cell_type": "code",
   "execution_count": 30,
   "metadata": {},
   "outputs": [
    {
     "data": {
      "text/plain": [
       "354727"
      ]
     },
     "execution_count": 30,
     "metadata": {},
     "output_type": "execute_result"
    }
   ],
   "source": [
    "len(player_play)"
   ]
  },
  {
   "cell_type": "code",
   "execution_count": 31,
   "metadata": {},
   "outputs": [
    {
     "data": {
      "text/plain": [
       "1    646\n",
       "Name: motionSinceLineset, dtype: int64"
      ]
     },
     "execution_count": 31,
     "metadata": {},
     "output_type": "execute_result"
    }
   ],
   "source": [
    "player_play[(player_play['motionSinceLineset'] & player_play['shiftSinceLineset']).astype(bool)]['motionSinceLineset'].value_counts()"
   ]
  },
  {
   "cell_type": "code",
   "execution_count": 32,
   "metadata": {},
   "outputs": [],
   "source": [
    "mosh_ids = player_play[(player_play['motionSinceLineset'] & player_play['shiftSinceLineset']).astype(bool)][['gameId','playId']].drop_duplicates()"
   ]
  },
  {
   "cell_type": "code",
   "execution_count": 33,
   "metadata": {},
   "outputs": [],
   "source": [
    "pg = player_play.groupby(['gameId','playId'])[['motionSinceLineset','shiftSinceLineset']].sum().reset_index()\n",
    "pg['motion-momentum'] = pg['motionSinceLineset'] - pg['shiftSinceLineset']"
   ]
  },
  {
   "cell_type": "code",
   "execution_count": 34,
   "metadata": {},
   "outputs": [],
   "source": [
    "pg_mosh = pg.merge(mosh_ids)"
   ]
  },
  {
   "cell_type": "code",
   "execution_count": 35,
   "metadata": {},
   "outputs": [
    {
     "data": {
      "text/plain": [
       " 0    171\n",
       " 1     92\n",
       "-1     41\n",
       " 2     14\n",
       "-2     14\n",
       "-3      7\n",
       " 3      3\n",
       " 4      2\n",
       "-4      2\n",
       "-6      1\n",
       "Name: motion-momentum, dtype: int64"
      ]
     },
     "execution_count": 35,
     "metadata": {},
     "output_type": "execute_result"
    }
   ],
   "source": [
    "pg_mosh['motion-momentum'].value_counts()"
   ]
  },
  {
   "cell_type": "code",
   "execution_count": 36,
   "metadata": {},
   "outputs": [],
   "source": [
    "#pg[pg['motionSinceLineset'] > 1]"
   ]
  },
  {
   "cell_type": "code",
   "execution_count": 37,
   "metadata": {},
   "outputs": [
    {
     "data": {
      "text/plain": [
       " 0     8923\n",
       " 1     4173\n",
       "-1     2292\n",
       " 2      400\n",
       "-2      250\n",
       "-3       36\n",
       " 3       19\n",
       "-4       12\n",
       " 4        5\n",
       " 5        5\n",
       "-6        3\n",
       "-5        2\n",
       "-10       1\n",
       "-7        1\n",
       "-8        1\n",
       "-9        1\n",
       "Name: motion-momentum, dtype: int64"
      ]
     },
     "execution_count": 37,
     "metadata": {},
     "output_type": "execute_result"
    }
   ],
   "source": [
    "pg['motion-momentum'].value_counts()"
   ]
  },
  {
   "cell_type": "code",
   "execution_count": 38,
   "metadata": {},
   "outputs": [
    {
     "data": {
      "text/html": [
       "<div>\n",
       "<style scoped>\n",
       "    .dataframe tbody tr th:only-of-type {\n",
       "        vertical-align: middle;\n",
       "    }\n",
       "\n",
       "    .dataframe tbody tr th {\n",
       "        vertical-align: top;\n",
       "    }\n",
       "\n",
       "    .dataframe thead th {\n",
       "        text-align: right;\n",
       "    }\n",
       "</style>\n",
       "<table border=\"1\" class=\"dataframe\">\n",
       "  <thead>\n",
       "    <tr style=\"text-align: right;\">\n",
       "      <th></th>\n",
       "      <th>gameId</th>\n",
       "      <th>playId</th>\n",
       "      <th>motionSinceLineset</th>\n",
       "      <th>shiftSinceLineset</th>\n",
       "      <th>motion-momentum</th>\n",
       "    </tr>\n",
       "  </thead>\n",
       "  <tbody>\n",
       "    <tr>\n",
       "      <th>455</th>\n",
       "      <td>2022091102</td>\n",
       "      <td>3739</td>\n",
       "      <td>2</td>\n",
       "      <td>0</td>\n",
       "      <td>2</td>\n",
       "    </tr>\n",
       "    <tr>\n",
       "      <th>477</th>\n",
       "      <td>2022091103</td>\n",
       "      <td>319</td>\n",
       "      <td>2</td>\n",
       "      <td>0</td>\n",
       "      <td>2</td>\n",
       "    </tr>\n",
       "    <tr>\n",
       "      <th>483</th>\n",
       "      <td>2022091103</td>\n",
       "      <td>499</td>\n",
       "      <td>2</td>\n",
       "      <td>0</td>\n",
       "      <td>2</td>\n",
       "    </tr>\n",
       "    <tr>\n",
       "      <th>484</th>\n",
       "      <td>2022091103</td>\n",
       "      <td>520</td>\n",
       "      <td>2</td>\n",
       "      <td>0</td>\n",
       "      <td>2</td>\n",
       "    </tr>\n",
       "    <tr>\n",
       "      <th>487</th>\n",
       "      <td>2022091103</td>\n",
       "      <td>632</td>\n",
       "      <td>2</td>\n",
       "      <td>0</td>\n",
       "      <td>2</td>\n",
       "    </tr>\n",
       "    <tr>\n",
       "      <th>504</th>\n",
       "      <td>2022091103</td>\n",
       "      <td>1126</td>\n",
       "      <td>2</td>\n",
       "      <td>0</td>\n",
       "      <td>2</td>\n",
       "    </tr>\n",
       "    <tr>\n",
       "      <th>505</th>\n",
       "      <td>2022091103</td>\n",
       "      <td>1150</td>\n",
       "      <td>5</td>\n",
       "      <td>4</td>\n",
       "      <td>1</td>\n",
       "    </tr>\n",
       "    <tr>\n",
       "      <th>518</th>\n",
       "      <td>2022091103</td>\n",
       "      <td>1565</td>\n",
       "      <td>2</td>\n",
       "      <td>0</td>\n",
       "      <td>2</td>\n",
       "    </tr>\n",
       "    <tr>\n",
       "      <th>519</th>\n",
       "      <td>2022091103</td>\n",
       "      <td>1589</td>\n",
       "      <td>2</td>\n",
       "      <td>0</td>\n",
       "      <td>2</td>\n",
       "    </tr>\n",
       "    <tr>\n",
       "      <th>526</th>\n",
       "      <td>2022091103</td>\n",
       "      <td>1926</td>\n",
       "      <td>2</td>\n",
       "      <td>0</td>\n",
       "      <td>2</td>\n",
       "    </tr>\n",
       "    <tr>\n",
       "      <th>536</th>\n",
       "      <td>2022091103</td>\n",
       "      <td>2201</td>\n",
       "      <td>2</td>\n",
       "      <td>2</td>\n",
       "      <td>0</td>\n",
       "    </tr>\n",
       "    <tr>\n",
       "      <th>539</th>\n",
       "      <td>2022091103</td>\n",
       "      <td>2272</td>\n",
       "      <td>3</td>\n",
       "      <td>1</td>\n",
       "      <td>2</td>\n",
       "    </tr>\n",
       "    <tr>\n",
       "      <th>545</th>\n",
       "      <td>2022091103</td>\n",
       "      <td>2433</td>\n",
       "      <td>2</td>\n",
       "      <td>2</td>\n",
       "      <td>0</td>\n",
       "    </tr>\n",
       "    <tr>\n",
       "      <th>562</th>\n",
       "      <td>2022091103</td>\n",
       "      <td>3032</td>\n",
       "      <td>3</td>\n",
       "      <td>2</td>\n",
       "      <td>1</td>\n",
       "    </tr>\n",
       "    <tr>\n",
       "      <th>598</th>\n",
       "      <td>2022091103</td>\n",
       "      <td>4353</td>\n",
       "      <td>2</td>\n",
       "      <td>2</td>\n",
       "      <td>0</td>\n",
       "    </tr>\n",
       "    <tr>\n",
       "      <th>619</th>\n",
       "      <td>2022091104</td>\n",
       "      <td>107</td>\n",
       "      <td>2</td>\n",
       "      <td>2</td>\n",
       "      <td>0</td>\n",
       "    </tr>\n",
       "    <tr>\n",
       "      <th>628</th>\n",
       "      <td>2022091104</td>\n",
       "      <td>390</td>\n",
       "      <td>3</td>\n",
       "      <td>1</td>\n",
       "      <td>2</td>\n",
       "    </tr>\n",
       "    <tr>\n",
       "      <th>630</th>\n",
       "      <td>2022091104</td>\n",
       "      <td>462</td>\n",
       "      <td>3</td>\n",
       "      <td>1</td>\n",
       "      <td>2</td>\n",
       "    </tr>\n",
       "    <tr>\n",
       "      <th>649</th>\n",
       "      <td>2022091104</td>\n",
       "      <td>1094</td>\n",
       "      <td>3</td>\n",
       "      <td>2</td>\n",
       "      <td>1</td>\n",
       "    </tr>\n",
       "    <tr>\n",
       "      <th>656</th>\n",
       "      <td>2022091104</td>\n",
       "      <td>1325</td>\n",
       "      <td>3</td>\n",
       "      <td>2</td>\n",
       "      <td>1</td>\n",
       "    </tr>\n",
       "  </tbody>\n",
       "</table>\n",
       "</div>"
      ],
      "text/plain": [
       "         gameId  playId  motionSinceLineset  shiftSinceLineset  \\\n",
       "455  2022091102    3739                   2                  0   \n",
       "477  2022091103     319                   2                  0   \n",
       "483  2022091103     499                   2                  0   \n",
       "484  2022091103     520                   2                  0   \n",
       "487  2022091103     632                   2                  0   \n",
       "504  2022091103    1126                   2                  0   \n",
       "505  2022091103    1150                   5                  4   \n",
       "518  2022091103    1565                   2                  0   \n",
       "519  2022091103    1589                   2                  0   \n",
       "526  2022091103    1926                   2                  0   \n",
       "536  2022091103    2201                   2                  2   \n",
       "539  2022091103    2272                   3                  1   \n",
       "545  2022091103    2433                   2                  2   \n",
       "562  2022091103    3032                   3                  2   \n",
       "598  2022091103    4353                   2                  2   \n",
       "619  2022091104     107                   2                  2   \n",
       "628  2022091104     390                   3                  1   \n",
       "630  2022091104     462                   3                  1   \n",
       "649  2022091104    1094                   3                  2   \n",
       "656  2022091104    1325                   3                  2   \n",
       "\n",
       "     motion-momentum  \n",
       "455                2  \n",
       "477                2  \n",
       "483                2  \n",
       "484                2  \n",
       "487                2  \n",
       "504                2  \n",
       "505                1  \n",
       "518                2  \n",
       "519                2  \n",
       "526                2  \n",
       "536                0  \n",
       "539                2  \n",
       "545                0  \n",
       "562                1  \n",
       "598                0  \n",
       "619                0  \n",
       "628                2  \n",
       "630                2  \n",
       "649                1  \n",
       "656                1  "
      ]
     },
     "execution_count": 38,
     "metadata": {},
     "output_type": "execute_result"
    }
   ],
   "source": [
    "pg[pg['motionSinceLineset'] >=2].iloc[70:90,:]"
   ]
  },
  {
   "cell_type": "code",
   "execution_count": 39,
   "metadata": {},
   "outputs": [],
   "source": [
    "#player_play[((player_play['gameId'] == 2022091100) & (player_play['playId'] == 3379)) & (player_play['teamAbbr'] == 'ATL')][['gameId','playId','nflId','motionSinceLineset','shiftSinceLineset']]"
   ]
  },
  {
   "cell_type": "markdown",
   "metadata": {},
   "source": [
    "Look by motion-15:"
   ]
  },
  {
   "cell_type": "code",
   "execution_count": 40,
   "metadata": {},
   "outputs": [],
   "source": [
    "df_15 = pd.read_csv('data/top_2_player_diff_last_15.csv')"
   ]
  },
  {
   "cell_type": "code",
   "execution_count": 41,
   "metadata": {},
   "outputs": [],
   "source": [
    "play_15 = plays.merge(df_15,how='left',on=['gameId','playId'])[['gameId','playId','a_mean','a_max','y_delta','dis_sum']]"
   ]
  },
  {
   "cell_type": "code",
   "execution_count": 42,
   "metadata": {},
   "outputs": [
    {
     "data": {
      "text/plain": [
       "gameId       int64\n",
       "playId       int64\n",
       "a_mean     float64\n",
       "a_max      float64\n",
       "y_delta    float64\n",
       "dis_sum    float64\n",
       "dtype: object"
      ]
     },
     "execution_count": 42,
     "metadata": {},
     "output_type": "execute_result"
    }
   ],
   "source": [
    "play_15.dtypes"
   ]
  },
  {
   "cell_type": "markdown",
   "metadata": {},
   "source": [
    "todo: include dist or y delt?"
   ]
  },
  {
   "cell_type": "code",
   "execution_count": 43,
   "metadata": {},
   "outputs": [
    {
     "data": {
      "text/html": [
       "<div>\n",
       "<style scoped>\n",
       "    .dataframe tbody tr th:only-of-type {\n",
       "        vertical-align: middle;\n",
       "    }\n",
       "\n",
       "    .dataframe tbody tr th {\n",
       "        vertical-align: top;\n",
       "    }\n",
       "\n",
       "    .dataframe thead th {\n",
       "        text-align: right;\n",
       "    }\n",
       "</style>\n",
       "<table border=\"1\" class=\"dataframe\">\n",
       "  <thead>\n",
       "    <tr style=\"text-align: right;\">\n",
       "      <th></th>\n",
       "      <th>gameId</th>\n",
       "      <th>playId</th>\n",
       "      <th>a_mean</th>\n",
       "      <th>a_max</th>\n",
       "      <th>y_delta</th>\n",
       "      <th>dis_sum</th>\n",
       "    </tr>\n",
       "  </thead>\n",
       "  <tbody>\n",
       "    <tr>\n",
       "      <th>3400</th>\n",
       "      <td>2022091200</td>\n",
       "      <td>2923</td>\n",
       "      <td>-1.076000</td>\n",
       "      <td>-1.17</td>\n",
       "      <td>-11.85</td>\n",
       "      <td>-12.59</td>\n",
       "    </tr>\n",
       "    <tr>\n",
       "      <th>8541</th>\n",
       "      <td>2022100202</td>\n",
       "      <td>2637</td>\n",
       "      <td>-1.063333</td>\n",
       "      <td>-1.71</td>\n",
       "      <td>-10.99</td>\n",
       "      <td>-11.61</td>\n",
       "    </tr>\n",
       "    <tr>\n",
       "      <th>9657</th>\n",
       "      <td>2022092503</td>\n",
       "      <td>1622</td>\n",
       "      <td>-0.645333</td>\n",
       "      <td>-0.96</td>\n",
       "      <td>-10.66</td>\n",
       "      <td>-11.18</td>\n",
       "    </tr>\n",
       "    <tr>\n",
       "      <th>11528</th>\n",
       "      <td>2022100907</td>\n",
       "      <td>1058</td>\n",
       "      <td>-0.638667</td>\n",
       "      <td>-0.65</td>\n",
       "      <td>-10.50</td>\n",
       "      <td>-11.07</td>\n",
       "    </tr>\n",
       "    <tr>\n",
       "      <th>15616</th>\n",
       "      <td>2022092501</td>\n",
       "      <td>684</td>\n",
       "      <td>-0.444000</td>\n",
       "      <td>-0.63</td>\n",
       "      <td>-10.46</td>\n",
       "      <td>-11.24</td>\n",
       "    </tr>\n",
       "    <tr>\n",
       "      <th>13551</th>\n",
       "      <td>2022100211</td>\n",
       "      <td>1372</td>\n",
       "      <td>-1.245333</td>\n",
       "      <td>-2.95</td>\n",
       "      <td>-10.39</td>\n",
       "      <td>-10.88</td>\n",
       "    </tr>\n",
       "    <tr>\n",
       "      <th>7353</th>\n",
       "      <td>2022101700</td>\n",
       "      <td>1510</td>\n",
       "      <td>-0.930000</td>\n",
       "      <td>-0.57</td>\n",
       "      <td>-10.36</td>\n",
       "      <td>-10.72</td>\n",
       "    </tr>\n",
       "    <tr>\n",
       "      <th>7647</th>\n",
       "      <td>2022100912</td>\n",
       "      <td>1193</td>\n",
       "      <td>-1.386000</td>\n",
       "      <td>-2.76</td>\n",
       "      <td>-10.35</td>\n",
       "      <td>-10.85</td>\n",
       "    </tr>\n",
       "    <tr>\n",
       "      <th>15769</th>\n",
       "      <td>2022091107</td>\n",
       "      <td>824</td>\n",
       "      <td>-1.774000</td>\n",
       "      <td>-5.40</td>\n",
       "      <td>-10.30</td>\n",
       "      <td>-10.18</td>\n",
       "    </tr>\n",
       "    <tr>\n",
       "      <th>12591</th>\n",
       "      <td>2022100905</td>\n",
       "      <td>2629</td>\n",
       "      <td>-0.647333</td>\n",
       "      <td>-2.30</td>\n",
       "      <td>-10.29</td>\n",
       "      <td>-10.70</td>\n",
       "    </tr>\n",
       "    <tr>\n",
       "      <th>9933</th>\n",
       "      <td>2022091106</td>\n",
       "      <td>2721</td>\n",
       "      <td>-1.094667</td>\n",
       "      <td>-1.25</td>\n",
       "      <td>-10.28</td>\n",
       "      <td>-10.59</td>\n",
       "    </tr>\n",
       "    <tr>\n",
       "      <th>9614</th>\n",
       "      <td>2022103000</td>\n",
       "      <td>755</td>\n",
       "      <td>-1.740000</td>\n",
       "      <td>-3.01</td>\n",
       "      <td>-10.28</td>\n",
       "      <td>-10.58</td>\n",
       "    </tr>\n",
       "    <tr>\n",
       "      <th>5102</th>\n",
       "      <td>2022100911</td>\n",
       "      <td>82</td>\n",
       "      <td>-0.765333</td>\n",
       "      <td>-2.03</td>\n",
       "      <td>-10.25</td>\n",
       "      <td>-10.78</td>\n",
       "    </tr>\n",
       "    <tr>\n",
       "      <th>379</th>\n",
       "      <td>2022091106</td>\n",
       "      <td>2116</td>\n",
       "      <td>-0.818667</td>\n",
       "      <td>-1.34</td>\n",
       "      <td>-10.24</td>\n",
       "      <td>-10.79</td>\n",
       "    </tr>\n",
       "    <tr>\n",
       "      <th>11325</th>\n",
       "      <td>2022102311</td>\n",
       "      <td>2232</td>\n",
       "      <td>-1.571333</td>\n",
       "      <td>-2.37</td>\n",
       "      <td>-10.22</td>\n",
       "      <td>-10.76</td>\n",
       "    </tr>\n",
       "    <tr>\n",
       "      <th>41</th>\n",
       "      <td>2022092503</td>\n",
       "      <td>1755</td>\n",
       "      <td>-0.550000</td>\n",
       "      <td>-0.16</td>\n",
       "      <td>-10.22</td>\n",
       "      <td>-10.79</td>\n",
       "    </tr>\n",
       "  </tbody>\n",
       "</table>\n",
       "</div>"
      ],
      "text/plain": [
       "           gameId  playId    a_mean  a_max  y_delta  dis_sum\n",
       "3400   2022091200    2923 -1.076000  -1.17   -11.85   -12.59\n",
       "8541   2022100202    2637 -1.063333  -1.71   -10.99   -11.61\n",
       "9657   2022092503    1622 -0.645333  -0.96   -10.66   -11.18\n",
       "11528  2022100907    1058 -0.638667  -0.65   -10.50   -11.07\n",
       "15616  2022092501     684 -0.444000  -0.63   -10.46   -11.24\n",
       "13551  2022100211    1372 -1.245333  -2.95   -10.39   -10.88\n",
       "7353   2022101700    1510 -0.930000  -0.57   -10.36   -10.72\n",
       "7647   2022100912    1193 -1.386000  -2.76   -10.35   -10.85\n",
       "15769  2022091107     824 -1.774000  -5.40   -10.30   -10.18\n",
       "12591  2022100905    2629 -0.647333  -2.30   -10.29   -10.70\n",
       "9933   2022091106    2721 -1.094667  -1.25   -10.28   -10.59\n",
       "9614   2022103000     755 -1.740000  -3.01   -10.28   -10.58\n",
       "5102   2022100911      82 -0.765333  -2.03   -10.25   -10.78\n",
       "379    2022091106    2116 -0.818667  -1.34   -10.24   -10.79\n",
       "11325  2022102311    2232 -1.571333  -2.37   -10.22   -10.76\n",
       "41     2022092503    1755 -0.550000  -0.16   -10.22   -10.79"
      ]
     },
     "execution_count": 43,
     "metadata": {},
     "output_type": "execute_result"
    }
   ],
   "source": [
    "play_15.sort_values(by='y_delta',ascending=True).head(16)"
   ]
  },
  {
   "cell_type": "code",
   "execution_count": 44,
   "metadata": {},
   "outputs": [
    {
     "data": {
      "text/plain": [
       "'(8:31) (No Huddle, Shotgun) J.Burrow pass incomplete short left to J.Mixon (J.Jones). PIT-R.Spillane was injured during the play.'"
      ]
     },
     "execution_count": 44,
     "metadata": {},
     "output_type": "execute_result"
    }
   ],
   "source": [
    "plays[(plays['gameId'] == 2022091103) & (plays['playId'] == 3032)]['playDescription'].values[0]"
   ]
  },
  {
   "cell_type": "code",
   "execution_count": 45,
   "metadata": {
    "execution": {
     "iopub.execute_input": "2024-11-06T20:40:29.421934Z",
     "iopub.status.busy": "2024-11-06T20:40:29.421533Z",
     "iopub.status.idle": "2024-11-06T20:40:38.546845Z",
     "shell.execute_reply": "2024-11-06T20:40:38.545700Z",
     "shell.execute_reply.started": "2024-11-06T20:40:29.421889Z"
    },
    "trusted": true
   },
   "outputs": [],
   "source": [
    "# random game/play -- should work with any! \n",
    "gid = \t\t2022091103\n",
    "pid = 3032\n",
    "\n",
    "fig = animate_play(games=games, tracking_df=tracking_df,\n",
    "             play_df=plays, players=players, gameId=gid,\n",
    "             playId=pid)"
   ]
  },
  {
   "cell_type": "code",
   "execution_count": 46,
   "metadata": {},
   "outputs": [
    {
     "data": {
      "application/vnd.plotly.v1+json": {
       "config": {
        "plotlyServerURL": "https://plot.ly"
       },
       "data": [
        {
         "hoverinfo": "none",
         "mode": "text",
         "showlegend": false,
         "text": [
          "10",
          "20",
          "30",
          "40",
          "50",
          "40",
          "30",
          "20",
          "10"
         ],
         "textfont": {
          "color": "#ffffff",
          "family": "Courier New, monospace",
          "size": 30
         },
         "type": "scatter",
         "x": [
          20,
          30,
          40,
          50,
          60,
          70,
          80,
          90,
          100
         ],
         "y": [
          5,
          5,
          5,
          5,
          5,
          5,
          5,
          5,
          5
         ]
        },
        {
         "hoverinfo": "none",
         "mode": "text",
         "showlegend": false,
         "text": [
          "10",
          "20",
          "30",
          "40",
          "50",
          "40",
          "30",
          "20",
          "10"
         ],
         "textfont": {
          "color": "#ffffff",
          "family": "Courier New, monospace",
          "size": 30
         },
         "type": "scatter",
         "x": [
          20,
          30,
          40,
          50,
          60,
          70,
          80,
          90,
          100
         ],
         "y": [
          48.5,
          48.5,
          48.5,
          48.5,
          48.5,
          48.5,
          48.5,
          48.5,
          48.5
         ]
        },
        {
         "hoverinfo": "none",
         "line": {
          "color": "blue",
          "dash": "dash"
         },
         "showlegend": false,
         "type": "scatter",
         "x": [
          74,
          74
         ],
         "y": [
          0,
          53.5
         ]
        },
        {
         "hoverinfo": "none",
         "line": {
          "color": "yellow",
          "dash": "dash"
         },
         "showlegend": false,
         "type": "scatter",
         "x": [
          80,
          80
         ],
         "y": [
          0,
          53.5
         ]
        },
        {
         "fill": "toself",
         "fillcolor": "#000000",
         "hoverinfo": "skip",
         "line": {
          "color": "white",
          "width": 3
         },
         "mode": "lines",
         "opacity": 1,
         "showlegend": false,
         "type": "scatter",
         "x": [
          0,
          0,
          10,
          10,
          0
         ],
         "y": [
          0,
          53.5,
          53.5,
          0,
          0
         ]
        },
        {
         "fill": "toself",
         "fillcolor": "#FFB612",
         "hoverinfo": "skip",
         "line": {
          "color": "white",
          "width": 3
         },
         "mode": "lines",
         "opacity": 1,
         "showlegend": false,
         "type": "scatter",
         "x": [
          110,
          110,
          120,
          120,
          110
         ],
         "y": [
          0,
          53.5,
          53.5,
          0,
          0
         ]
        },
        {
         "hoverinfo": "text",
         "hovertext": [
          "nflId:37104<br>displayName:Cameron Heyward<br>Player Speed:0.358 MPH",
          "nflId:43325<br>displayName:Myles Jack<br>Player Speed:0.403 MPH",
          "nflId:44842<br>displayName:T.J. Watt<br>Player Speed:1.924 MPH",
          "nflId:44878<br>displayName:Ahkello Witherspoon<br>Player Speed:1.051 MPH",
          "nflId:44906<br>displayName:Cameron Sutton<br>Player Speed:0.85 MPH",
          "nflId:45395<br>displayName:Arthur Maulet<br>Player Speed:1.745 MPH",
          "nflId:46080<br>displayName:Minkah Fitzpatrick<br>Player Speed:1.857 MPH",
          "nflId:46097<br>displayName:Terrell Edmunds<br>Player Speed:3.176 MPH",
          "nflId:46902<br>displayName:Robert Spillane<br>Player Speed:1.253 MPH",
          "nflId:52971<br>displayName:Jamir Jones<br>Player Speed:0.0 MPH",
          "nflId:54549<br>displayName:DeMarvin Leal<br>Player Speed:1.476 MPH"
         ],
         "marker": {
          "color": "#FFB612",
          "line": {
           "color": "#101820",
           "width": 2
          },
          "size": 10
         },
         "mode": "markers",
         "name": "PIT",
         "type": "scatter",
         "x": [
          75.17,
          79.52,
          75.18,
          77.24,
          79.52,
          79.04,
          84.38,
          82.2,
          78.83,
          75.55,
          75.58
         ],
         "y": [
          30.75,
          28.73,
          23.17,
          22.77,
          41.44,
          38,
          36.45,
          28.68,
          33.33,
          34.74,
          26.89
         ]
        },
        {
         "hoverinfo": "text",
         "hovertext": [
          "nflId:42654<br>displayName:La'el Collins<br>Player Speed:0.313 MPH",
          "nflId:43344<br>displayName:Tyler Boyd<br>Player Speed:0.0 MPH",
          "nflId:43495<br>displayName:Mike Thomas<br>Player Speed:0.514 MPH",
          "nflId:43510<br>displayName:Ted Karras<br>Player Speed:1.365 MPH",
          "nflId:44860<br>displayName:Joe Mixon<br>Player Speed:2.192 MPH",
          "nflId:46163<br>displayName:Alex Cappa<br>Player Speed:0.134 MPH",
          "nflId:47794<br>displayName:Jonah Williams<br>Player Speed:0.447 MPH",
          "nflId:47835<br>displayName:Drew Sample<br>Player Speed:0.514 MPH",
          "nflId:52409<br>displayName:Joe Burrow<br>Player Speed:1.767 MPH",
          "nflId:53434<br>displayName:Ja'Marr Chase<br>Player Speed:0.582 MPH",
          "nflId:54601<br>displayName:Cordell Volson<br>Player Speed:0.045 MPH"
         ],
         "marker": {
          "color": "#000000",
          "line": {
           "color": "#FB4F14",
           "width": 2
          },
          "size": 10
         },
         "mode": "markers",
         "name": "CIN",
         "type": "scatter",
         "x": [
          72.8,
          71.34,
          72.46,
          73.5,
          68.65,
          72.95,
          73.11,
          72.75,
          70.07,
          72.75,
          72.96
         ],
         "y": [
          26.51,
          35.3,
          39.08,
          29.78,
          27.7,
          28.17,
          32.65,
          24.87,
          30.44,
          37.02,
          31.26
         ]
        },
        {
         "hoverinfo": "none",
         "marker": {
          "color": "#CBB67C",
          "line": {
           "color": "#663831",
           "width": 2
          },
          "size": 10
         },
         "mode": "markers",
         "name": "football",
         "type": "scatter",
         "x": [
          73.8399963378906
         ],
         "y": [
          29.7199993133545
         ]
        }
       ],
       "frames": [
        {
         "data": [
          {
           "hoverinfo": "none",
           "mode": "text",
           "showlegend": false,
           "text": [
            "10",
            "20",
            "30",
            "40",
            "50",
            "40",
            "30",
            "20",
            "10"
           ],
           "textfont": {
            "color": "#ffffff",
            "family": "Courier New, monospace",
            "size": 30
           },
           "type": "scatter",
           "x": [
            20,
            30,
            40,
            50,
            60,
            70,
            80,
            90,
            100
           ],
           "y": [
            5,
            5,
            5,
            5,
            5,
            5,
            5,
            5,
            5
           ]
          },
          {
           "hoverinfo": "none",
           "mode": "text",
           "showlegend": false,
           "text": [
            "10",
            "20",
            "30",
            "40",
            "50",
            "40",
            "30",
            "20",
            "10"
           ],
           "textfont": {
            "color": "#ffffff",
            "family": "Courier New, monospace",
            "size": 30
           },
           "type": "scatter",
           "x": [
            20,
            30,
            40,
            50,
            60,
            70,
            80,
            90,
            100
           ],
           "y": [
            48.5,
            48.5,
            48.5,
            48.5,
            48.5,
            48.5,
            48.5,
            48.5,
            48.5
           ]
          },
          {
           "hoverinfo": "none",
           "line": {
            "color": "blue",
            "dash": "dash"
           },
           "showlegend": false,
           "type": "scatter",
           "x": [
            74,
            74
           ],
           "y": [
            0,
            53.5
           ]
          },
          {
           "hoverinfo": "none",
           "line": {
            "color": "yellow",
            "dash": "dash"
           },
           "showlegend": false,
           "type": "scatter",
           "x": [
            80,
            80
           ],
           "y": [
            0,
            53.5
           ]
          },
          {
           "fill": "toself",
           "fillcolor": "#000000",
           "hoverinfo": "skip",
           "line": {
            "color": "white",
            "width": 3
           },
           "mode": "lines",
           "opacity": 1,
           "showlegend": false,
           "type": "scatter",
           "x": [
            0,
            0,
            10,
            10,
            0
           ],
           "y": [
            0,
            53.5,
            53.5,
            0,
            0
           ]
          },
          {
           "fill": "toself",
           "fillcolor": "#FFB612",
           "hoverinfo": "skip",
           "line": {
            "color": "white",
            "width": 3
           },
           "mode": "lines",
           "opacity": 1,
           "showlegend": false,
           "type": "scatter",
           "x": [
            110,
            110,
            120,
            120,
            110
           ],
           "y": [
            0,
            53.5,
            53.5,
            0,
            0
           ]
          },
          {
           "hoverinfo": "text",
           "hovertext": [
            "nflId:37104<br>displayName:Cameron Heyward<br>Player Speed:0.313 MPH",
            "nflId:43325<br>displayName:Myles Jack<br>Player Speed:0.38 MPH",
            "nflId:44842<br>displayName:T.J. Watt<br>Player Speed:1.834 MPH",
            "nflId:44878<br>displayName:Ahkello Witherspoon<br>Player Speed:1.007 MPH",
            "nflId:44906<br>displayName:Cameron Sutton<br>Player Speed:0.917 MPH",
            "nflId:45395<br>displayName:Arthur Maulet<br>Player Speed:1.722 MPH",
            "nflId:46080<br>displayName:Minkah Fitzpatrick<br>Player Speed:1.812 MPH",
            "nflId:46097<br>displayName:Terrell Edmunds<br>Player Speed:3.065 MPH",
            "nflId:46902<br>displayName:Robert Spillane<br>Player Speed:1.074 MPH",
            "nflId:52971<br>displayName:Jamir Jones<br>Player Speed:0.0 MPH",
            "nflId:54549<br>displayName:DeMarvin Leal<br>Player Speed:1.141 MPH"
           ],
           "marker": {
            "color": "#FFB612",
            "line": {
             "color": "#101820",
             "width": 2
            },
            "size": 10
           },
           "mode": "markers",
           "name": "PIT",
           "type": "scatter",
           "x": [
            75.16,
            79.51,
            75.17,
            77.26,
            79.53,
            79.1,
            84.47,
            82.21,
            78.79,
            75.55,
            75.54
           ],
           "y": [
            30.74,
            28.74,
            23.1,
            22.73,
            41.47,
            37.95,
            36.45,
            28.54,
            33.3,
            34.74,
            26.89
           ]
          },
          {
           "hoverinfo": "text",
           "hovertext": [
            "nflId:42654<br>displayName:La'el Collins<br>Player Speed:0.313 MPH",
            "nflId:43344<br>displayName:Tyler Boyd<br>Player Speed:0.0 MPH",
            "nflId:43495<br>displayName:Mike Thomas<br>Player Speed:0.47 MPH",
            "nflId:43510<br>displayName:Ted Karras<br>Player Speed:1.521 MPH",
            "nflId:44860<br>displayName:Joe Mixon<br>Player Speed:2.013 MPH",
            "nflId:46163<br>displayName:Alex Cappa<br>Player Speed:0.134 MPH",
            "nflId:47794<br>displayName:Jonah Williams<br>Player Speed:0.403 MPH",
            "nflId:47835<br>displayName:Drew Sample<br>Player Speed:0.47 MPH",
            "nflId:52409<br>displayName:Joe Burrow<br>Player Speed:1.812 MPH",
            "nflId:53434<br>displayName:Ja'Marr Chase<br>Player Speed:0.268 MPH",
            "nflId:54601<br>displayName:Cordell Volson<br>Player Speed:0.045 MPH"
           ],
           "marker": {
            "color": "#000000",
            "line": {
             "color": "#FB4F14",
             "width": 2
            },
            "size": 10
           },
           "mode": "markers",
           "name": "CIN",
           "type": "scatter",
           "x": [
            72.8,
            71.34,
            72.47,
            73.57,
            68.69,
            72.98,
            73.12,
            72.78,
            70,
            72.73,
            72.97
           ],
           "y": [
            26.52,
            35.3,
            39.1,
            29.77,
            27.61,
            28.17,
            32.64,
            24.85,
            30.4,
            37.02,
            31.26
           ]
          },
          {
           "hoverinfo": "none",
           "marker": {
            "color": "#CBB67C",
            "line": {
             "color": "#663831",
             "width": 2
            },
            "size": 10
           },
           "mode": "markers",
           "name": "football",
           "type": "scatter",
           "x": [
            73.8399963378906
           ],
           "y": [
            29.7199993133545
           ]
          }
         ],
         "name": "2"
        },
        {
         "data": [
          {
           "hoverinfo": "none",
           "mode": "text",
           "showlegend": false,
           "text": [
            "10",
            "20",
            "30",
            "40",
            "50",
            "40",
            "30",
            "20",
            "10"
           ],
           "textfont": {
            "color": "#ffffff",
            "family": "Courier New, monospace",
            "size": 30
           },
           "type": "scatter",
           "x": [
            20,
            30,
            40,
            50,
            60,
            70,
            80,
            90,
            100
           ],
           "y": [
            5,
            5,
            5,
            5,
            5,
            5,
            5,
            5,
            5
           ]
          },
          {
           "hoverinfo": "none",
           "mode": "text",
           "showlegend": false,
           "text": [
            "10",
            "20",
            "30",
            "40",
            "50",
            "40",
            "30",
            "20",
            "10"
           ],
           "textfont": {
            "color": "#ffffff",
            "family": "Courier New, monospace",
            "size": 30
           },
           "type": "scatter",
           "x": [
            20,
            30,
            40,
            50,
            60,
            70,
            80,
            90,
            100
           ],
           "y": [
            48.5,
            48.5,
            48.5,
            48.5,
            48.5,
            48.5,
            48.5,
            48.5,
            48.5
           ]
          },
          {
           "hoverinfo": "none",
           "line": {
            "color": "blue",
            "dash": "dash"
           },
           "showlegend": false,
           "type": "scatter",
           "x": [
            74,
            74
           ],
           "y": [
            0,
            53.5
           ]
          },
          {
           "hoverinfo": "none",
           "line": {
            "color": "yellow",
            "dash": "dash"
           },
           "showlegend": false,
           "type": "scatter",
           "x": [
            80,
            80
           ],
           "y": [
            0,
            53.5
           ]
          },
          {
           "fill": "toself",
           "fillcolor": "#000000",
           "hoverinfo": "skip",
           "line": {
            "color": "white",
            "width": 3
           },
           "mode": "lines",
           "opacity": 1,
           "showlegend": false,
           "type": "scatter",
           "x": [
            0,
            0,
            10,
            10,
            0
           ],
           "y": [
            0,
            53.5,
            53.5,
            0,
            0
           ]
          },
          {
           "fill": "toself",
           "fillcolor": "#FFB612",
           "hoverinfo": "skip",
           "line": {
            "color": "white",
            "width": 3
           },
           "mode": "lines",
           "opacity": 1,
           "showlegend": false,
           "type": "scatter",
           "x": [
            110,
            110,
            120,
            120,
            110
           ],
           "y": [
            0,
            53.5,
            53.5,
            0,
            0
           ]
          },
          {
           "hoverinfo": "text",
           "hovertext": [
            "nflId:37104<br>displayName:Cameron Heyward<br>Player Speed:0.246 MPH",
            "nflId:43325<br>displayName:Myles Jack<br>Player Speed:0.313 MPH",
            "nflId:44842<br>displayName:T.J. Watt<br>Player Speed:1.79 MPH",
            "nflId:44878<br>displayName:Ahkello Witherspoon<br>Player Speed:0.962 MPH",
            "nflId:44906<br>displayName:Cameron Sutton<br>Player Speed:0.962 MPH",
            "nflId:45395<br>displayName:Arthur Maulet<br>Player Speed:1.678 MPH",
            "nflId:46080<br>displayName:Minkah Fitzpatrick<br>Player Speed:1.745 MPH",
            "nflId:46097<br>displayName:Terrell Edmunds<br>Player Speed:2.953 MPH",
            "nflId:46902<br>displayName:Robert Spillane<br>Player Speed:0.85 MPH",
            "nflId:52971<br>displayName:Jamir Jones<br>Player Speed:0.0 MPH",
            "nflId:54549<br>displayName:DeMarvin Leal<br>Player Speed:0.85 MPH"
           ],
           "marker": {
            "color": "#FFB612",
            "line": {
             "color": "#101820",
             "width": 2
            },
            "size": 10
           },
           "mode": "markers",
           "name": "PIT",
           "type": "scatter",
           "x": [
            75.15,
            79.5,
            75.14,
            77.28,
            79.55,
            79.14,
            84.55,
            82.21,
            78.76,
            75.55,
            75.5
           ],
           "y": [
            30.74,
            28.76,
            23.03,
            22.69,
            41.51,
            37.89,
            36.45,
            28.4,
            33.27,
            34.74,
            26.9
           ]
          },
          {
           "hoverinfo": "text",
           "hovertext": [
            "nflId:42654<br>displayName:La'el Collins<br>Player Speed:0.224 MPH",
            "nflId:43344<br>displayName:Tyler Boyd<br>Player Speed:0.0 MPH",
            "nflId:43495<br>displayName:Mike Thomas<br>Player Speed:0.291 MPH",
            "nflId:43510<br>displayName:Ted Karras<br>Player Speed:1.499 MPH",
            "nflId:44860<br>displayName:Joe Mixon<br>Player Speed:1.79 MPH",
            "nflId:46163<br>displayName:Alex Cappa<br>Player Speed:0.134 MPH",
            "nflId:47794<br>displayName:Jonah Williams<br>Player Speed:0.358 MPH",
            "nflId:47835<br>displayName:Drew Sample<br>Player Speed:0.47 MPH",
            "nflId:52409<br>displayName:Joe Burrow<br>Player Speed:1.767 MPH",
            "nflId:53434<br>displayName:Ja'Marr Chase<br>Player Speed:0.201 MPH",
            "nflId:54601<br>displayName:Cordell Volson<br>Player Speed:0.045 MPH"
           ],
           "marker": {
            "color": "#000000",
            "line": {
             "color": "#FB4F14",
             "width": 2
            },
            "size": 10
           },
           "mode": "markers",
           "name": "CIN",
           "type": "scatter",
           "x": [
            72.79,
            71.35,
            72.47,
            73.62,
            68.72,
            73.01,
            73.12,
            72.79,
            69.93,
            72.72,
            73
           ],
           "y": [
            26.52,
            35.3,
            39.11,
            29.75,
            27.53,
            28.17,
            32.63,
            24.88,
            30.36,
            37.02,
            31.27
           ]
          },
          {
           "hoverinfo": "none",
           "marker": {
            "color": "#CBB67C",
            "line": {
             "color": "#663831",
             "width": 2
            },
            "size": 10
           },
           "mode": "markers",
           "name": "football",
           "type": "scatter",
           "x": [
            73.8399963378906
           ],
           "y": [
            29.7199993133545
           ]
          }
         ],
         "name": "3"
        },
        {
         "data": [
          {
           "hoverinfo": "none",
           "mode": "text",
           "showlegend": false,
           "text": [
            "10",
            "20",
            "30",
            "40",
            "50",
            "40",
            "30",
            "20",
            "10"
           ],
           "textfont": {
            "color": "#ffffff",
            "family": "Courier New, monospace",
            "size": 30
           },
           "type": "scatter",
           "x": [
            20,
            30,
            40,
            50,
            60,
            70,
            80,
            90,
            100
           ],
           "y": [
            5,
            5,
            5,
            5,
            5,
            5,
            5,
            5,
            5
           ]
          },
          {
           "hoverinfo": "none",
           "mode": "text",
           "showlegend": false,
           "text": [
            "10",
            "20",
            "30",
            "40",
            "50",
            "40",
            "30",
            "20",
            "10"
           ],
           "textfont": {
            "color": "#ffffff",
            "family": "Courier New, monospace",
            "size": 30
           },
           "type": "scatter",
           "x": [
            20,
            30,
            40,
            50,
            60,
            70,
            80,
            90,
            100
           ],
           "y": [
            48.5,
            48.5,
            48.5,
            48.5,
            48.5,
            48.5,
            48.5,
            48.5,
            48.5
           ]
          },
          {
           "hoverinfo": "none",
           "line": {
            "color": "blue",
            "dash": "dash"
           },
           "showlegend": false,
           "type": "scatter",
           "x": [
            74,
            74
           ],
           "y": [
            0,
            53.5
           ]
          },
          {
           "hoverinfo": "none",
           "line": {
            "color": "yellow",
            "dash": "dash"
           },
           "showlegend": false,
           "type": "scatter",
           "x": [
            80,
            80
           ],
           "y": [
            0,
            53.5
           ]
          },
          {
           "fill": "toself",
           "fillcolor": "#000000",
           "hoverinfo": "skip",
           "line": {
            "color": "white",
            "width": 3
           },
           "mode": "lines",
           "opacity": 1,
           "showlegend": false,
           "type": "scatter",
           "x": [
            0,
            0,
            10,
            10,
            0
           ],
           "y": [
            0,
            53.5,
            53.5,
            0,
            0
           ]
          },
          {
           "fill": "toself",
           "fillcolor": "#FFB612",
           "hoverinfo": "skip",
           "line": {
            "color": "white",
            "width": 3
           },
           "mode": "lines",
           "opacity": 1,
           "showlegend": false,
           "type": "scatter",
           "x": [
            110,
            110,
            120,
            120,
            110
           ],
           "y": [
            0,
            53.5,
            53.5,
            0,
            0
           ]
          },
          {
           "hoverinfo": "text",
           "hovertext": [
            "nflId:37104<br>displayName:Cameron Heyward<br>Player Speed:0.201 MPH",
            "nflId:43325<br>displayName:Myles Jack<br>Player Speed:0.291 MPH",
            "nflId:44842<br>displayName:T.J. Watt<br>Player Speed:1.655 MPH",
            "nflId:44878<br>displayName:Ahkello Witherspoon<br>Player Speed:0.783 MPH",
            "nflId:44906<br>displayName:Cameron Sutton<br>Player Speed:0.917 MPH",
            "nflId:45395<br>displayName:Arthur Maulet<br>Player Speed:1.722 MPH",
            "nflId:46080<br>displayName:Minkah Fitzpatrick<br>Player Speed:1.767 MPH",
            "nflId:46097<br>displayName:Terrell Edmunds<br>Player Speed:2.796 MPH",
            "nflId:46902<br>displayName:Robert Spillane<br>Player Speed:0.716 MPH",
            "nflId:52971<br>displayName:Jamir Jones<br>Player Speed:0.0 MPH",
            "nflId:54549<br>displayName:DeMarvin Leal<br>Player Speed:0.626 MPH"
           ],
           "marker": {
            "color": "#FFB612",
            "line": {
             "color": "#101820",
             "width": 2
            },
            "size": 10
           },
           "mode": "markers",
           "name": "PIT",
           "type": "scatter",
           "x": [
            75.15,
            79.49,
            75.11,
            77.3,
            79.56,
            79.19,
            84.62,
            82.21,
            78.74,
            75.55,
            75.47
           ],
           "y": [
            30.74,
            28.77,
            22.96,
            22.67,
            41.55,
            37.83,
            36.46,
            28.27,
            33.25,
            34.74,
            26.9
           ]
          },
          {
           "hoverinfo": "text",
           "hovertext": [
            "nflId:42654<br>displayName:La'el Collins<br>Player Speed:0.157 MPH",
            "nflId:43344<br>displayName:Tyler Boyd<br>Player Speed:0.0 MPH",
            "nflId:43495<br>displayName:Mike Thomas<br>Player Speed:0.045 MPH",
            "nflId:43510<br>displayName:Ted Karras<br>Player Speed:1.454 MPH",
            "nflId:44860<br>displayName:Joe Mixon<br>Player Speed:1.633 MPH",
            "nflId:46163<br>displayName:Alex Cappa<br>Player Speed:0.134 MPH",
            "nflId:47794<br>displayName:Jonah Williams<br>Player Speed:0.313 MPH",
            "nflId:47835<br>displayName:Drew Sample<br>Player Speed:0.268 MPH",
            "nflId:52409<br>displayName:Joe Burrow<br>Player Speed:1.722 MPH",
            "nflId:53434<br>displayName:Ja'Marr Chase<br>Player Speed:0.537 MPH",
            "nflId:54601<br>displayName:Cordell Volson<br>Player Speed:0.067 MPH"
           ],
           "marker": {
            "color": "#000000",
            "line": {
             "color": "#FB4F14",
             "width": 2
            },
            "size": 10
           },
           "mode": "markers",
           "name": "CIN",
           "type": "scatter",
           "x": [
            72.79,
            71.35,
            72.47,
            73.68,
            68.74,
            73.03,
            73.11,
            72.76,
            69.87,
            72.73,
            73.03
           ],
           "y": [
            26.53,
            35.3,
            39.12,
            29.74,
            27.46,
            28.16,
            32.62,
            24.89,
            30.32,
            37.03,
            31.24
           ]
          },
          {
           "hoverinfo": "none",
           "marker": {
            "color": "#CBB67C",
            "line": {
             "color": "#663831",
             "width": 2
            },
            "size": 10
           },
           "mode": "markers",
           "name": "football",
           "type": "scatter",
           "x": [
            73.8300018310547
           ],
           "y": [
            29.7199993133545
           ]
          }
         ],
         "name": "4"
        },
        {
         "data": [
          {
           "hoverinfo": "none",
           "mode": "text",
           "showlegend": false,
           "text": [
            "10",
            "20",
            "30",
            "40",
            "50",
            "40",
            "30",
            "20",
            "10"
           ],
           "textfont": {
            "color": "#ffffff",
            "family": "Courier New, monospace",
            "size": 30
           },
           "type": "scatter",
           "x": [
            20,
            30,
            40,
            50,
            60,
            70,
            80,
            90,
            100
           ],
           "y": [
            5,
            5,
            5,
            5,
            5,
            5,
            5,
            5,
            5
           ]
          },
          {
           "hoverinfo": "none",
           "mode": "text",
           "showlegend": false,
           "text": [
            "10",
            "20",
            "30",
            "40",
            "50",
            "40",
            "30",
            "20",
            "10"
           ],
           "textfont": {
            "color": "#ffffff",
            "family": "Courier New, monospace",
            "size": 30
           },
           "type": "scatter",
           "x": [
            20,
            30,
            40,
            50,
            60,
            70,
            80,
            90,
            100
           ],
           "y": [
            48.5,
            48.5,
            48.5,
            48.5,
            48.5,
            48.5,
            48.5,
            48.5,
            48.5
           ]
          },
          {
           "hoverinfo": "none",
           "line": {
            "color": "blue",
            "dash": "dash"
           },
           "showlegend": false,
           "type": "scatter",
           "x": [
            74,
            74
           ],
           "y": [
            0,
            53.5
           ]
          },
          {
           "hoverinfo": "none",
           "line": {
            "color": "yellow",
            "dash": "dash"
           },
           "showlegend": false,
           "type": "scatter",
           "x": [
            80,
            80
           ],
           "y": [
            0,
            53.5
           ]
          },
          {
           "fill": "toself",
           "fillcolor": "#000000",
           "hoverinfo": "skip",
           "line": {
            "color": "white",
            "width": 3
           },
           "mode": "lines",
           "opacity": 1,
           "showlegend": false,
           "type": "scatter",
           "x": [
            0,
            0,
            10,
            10,
            0
           ],
           "y": [
            0,
            53.5,
            53.5,
            0,
            0
           ]
          },
          {
           "fill": "toself",
           "fillcolor": "#FFB612",
           "hoverinfo": "skip",
           "line": {
            "color": "white",
            "width": 3
           },
           "mode": "lines",
           "opacity": 1,
           "showlegend": false,
           "type": "scatter",
           "x": [
            110,
            110,
            120,
            120,
            110
           ],
           "y": [
            0,
            53.5,
            53.5,
            0,
            0
           ]
          },
          {
           "hoverinfo": "text",
           "hovertext": [
            "nflId:37104<br>displayName:Cameron Heyward<br>Player Speed:0.179 MPH",
            "nflId:43325<br>displayName:Myles Jack<br>Player Speed:0.268 MPH",
            "nflId:44842<br>displayName:T.J. Watt<br>Player Speed:1.409 MPH",
            "nflId:44878<br>displayName:Ahkello Witherspoon<br>Player Speed:0.716 MPH",
            "nflId:44906<br>displayName:Cameron Sutton<br>Player Speed:0.895 MPH",
            "nflId:45395<br>displayName:Arthur Maulet<br>Player Speed:1.767 MPH",
            "nflId:46080<br>displayName:Minkah Fitzpatrick<br>Player Speed:1.745 MPH",
            "nflId:46097<br>displayName:Terrell Edmunds<br>Player Speed:2.774 MPH",
            "nflId:46902<br>displayName:Robert Spillane<br>Player Speed:0.537 MPH",
            "nflId:52971<br>displayName:Jamir Jones<br>Player Speed:0.0 MPH",
            "nflId:54549<br>displayName:DeMarvin Leal<br>Player Speed:0.492 MPH"
           ],
           "marker": {
            "color": "#FFB612",
            "line": {
             "color": "#101820",
             "width": 2
            },
            "size": 10
           },
           "mode": "markers",
           "name": "PIT",
           "type": "scatter",
           "x": [
            75.14,
            79.49,
            75.07,
            77.33,
            79.59,
            79.24,
            84.7,
            82.22,
            78.72,
            75.55,
            75.45
           ],
           "y": [
            30.75,
            28.77,
            22.93,
            22.64,
            41.58,
            37.77,
            36.47,
            28.15,
            33.23,
            34.74,
            26.92
           ]
          },
          {
           "hoverinfo": "text",
           "hovertext": [
            "nflId:42654<br>displayName:La'el Collins<br>Player Speed:0.224 MPH",
            "nflId:43344<br>displayName:Tyler Boyd<br>Player Speed:0.0 MPH",
            "nflId:43495<br>displayName:Mike Thomas<br>Player Speed:0.089 MPH",
            "nflId:43510<br>displayName:Ted Karras<br>Player Speed:1.163 MPH",
            "nflId:44860<br>displayName:Joe Mixon<br>Player Speed:1.499 MPH",
            "nflId:46163<br>displayName:Alex Cappa<br>Player Speed:0.134 MPH",
            "nflId:47794<br>displayName:Jonah Williams<br>Player Speed:0.291 MPH",
            "nflId:47835<br>displayName:Drew Sample<br>Player Speed:0.179 MPH",
            "nflId:52409<br>displayName:Joe Burrow<br>Player Speed:1.588 MPH",
            "nflId:53434<br>displayName:Ja'Marr Chase<br>Player Speed:0.895 MPH",
            "nflId:54601<br>displayName:Cordell Volson<br>Player Speed:0.067 MPH"
           ],
           "marker": {
            "color": "#000000",
            "line": {
             "color": "#FB4F14",
             "width": 2
            },
            "size": 10
           },
           "mode": "markers",
           "name": "CIN",
           "type": "scatter",
           "x": [
            72.79,
            71.36,
            72.47,
            73.72,
            68.76,
            73.04,
            73.12,
            72.76,
            69.8,
            72.75,
            73.06
           ],
           "y": [
            26.54,
            35.3,
            39.11,
            29.74,
            27.39,
            28.16,
            32.59,
            24.88,
            30.28,
            37.05,
            31.24
           ]
          },
          {
           "hoverinfo": "none",
           "marker": {
            "color": "#CBB67C",
            "line": {
             "color": "#663831",
             "width": 2
            },
            "size": 10
           },
           "mode": "markers",
           "name": "football",
           "type": "scatter",
           "x": [
            73.8300018310547
           ],
           "y": [
            29.7199993133545
           ]
          }
         ],
         "name": "5"
        },
        {
         "data": [
          {
           "hoverinfo": "none",
           "mode": "text",
           "showlegend": false,
           "text": [
            "10",
            "20",
            "30",
            "40",
            "50",
            "40",
            "30",
            "20",
            "10"
           ],
           "textfont": {
            "color": "#ffffff",
            "family": "Courier New, monospace",
            "size": 30
           },
           "type": "scatter",
           "x": [
            20,
            30,
            40,
            50,
            60,
            70,
            80,
            90,
            100
           ],
           "y": [
            5,
            5,
            5,
            5,
            5,
            5,
            5,
            5,
            5
           ]
          },
          {
           "hoverinfo": "none",
           "mode": "text",
           "showlegend": false,
           "text": [
            "10",
            "20",
            "30",
            "40",
            "50",
            "40",
            "30",
            "20",
            "10"
           ],
           "textfont": {
            "color": "#ffffff",
            "family": "Courier New, monospace",
            "size": 30
           },
           "type": "scatter",
           "x": [
            20,
            30,
            40,
            50,
            60,
            70,
            80,
            90,
            100
           ],
           "y": [
            48.5,
            48.5,
            48.5,
            48.5,
            48.5,
            48.5,
            48.5,
            48.5,
            48.5
           ]
          },
          {
           "hoverinfo": "none",
           "line": {
            "color": "blue",
            "dash": "dash"
           },
           "showlegend": false,
           "type": "scatter",
           "x": [
            74,
            74
           ],
           "y": [
            0,
            53.5
           ]
          },
          {
           "hoverinfo": "none",
           "line": {
            "color": "yellow",
            "dash": "dash"
           },
           "showlegend": false,
           "type": "scatter",
           "x": [
            80,
            80
           ],
           "y": [
            0,
            53.5
           ]
          },
          {
           "fill": "toself",
           "fillcolor": "#000000",
           "hoverinfo": "skip",
           "line": {
            "color": "white",
            "width": 3
           },
           "mode": "lines",
           "opacity": 1,
           "showlegend": false,
           "type": "scatter",
           "x": [
            0,
            0,
            10,
            10,
            0
           ],
           "y": [
            0,
            53.5,
            53.5,
            0,
            0
           ]
          },
          {
           "fill": "toself",
           "fillcolor": "#FFB612",
           "hoverinfo": "skip",
           "line": {
            "color": "white",
            "width": 3
           },
           "mode": "lines",
           "opacity": 1,
           "showlegend": false,
           "type": "scatter",
           "x": [
            110,
            110,
            120,
            120,
            110
           ],
           "y": [
            0,
            53.5,
            53.5,
            0,
            0
           ]
          },
          {
           "hoverinfo": "text",
           "hovertext": [
            "nflId:37104<br>displayName:Cameron Heyward<br>Player Speed:0.112 MPH",
            "nflId:43325<br>displayName:Myles Jack<br>Player Speed:0.224 MPH",
            "nflId:44842<br>displayName:T.J. Watt<br>Player Speed:1.253 MPH",
            "nflId:44878<br>displayName:Ahkello Witherspoon<br>Player Speed:0.582 MPH",
            "nflId:44906<br>displayName:Cameron Sutton<br>Player Speed:0.917 MPH",
            "nflId:45395<br>displayName:Arthur Maulet<br>Player Speed:1.722 MPH",
            "nflId:46080<br>displayName:Minkah Fitzpatrick<br>Player Speed:1.879 MPH",
            "nflId:46097<br>displayName:Terrell Edmunds<br>Player Speed:2.93 MPH",
            "nflId:46902<br>displayName:Robert Spillane<br>Player Speed:0.313 MPH",
            "nflId:52971<br>displayName:Jamir Jones<br>Player Speed:0.0 MPH",
            "nflId:54549<br>displayName:DeMarvin Leal<br>Player Speed:0.582 MPH"
           ],
           "marker": {
            "color": "#FFB612",
            "line": {
             "color": "#101820",
             "width": 2
            },
            "size": 10
           },
           "mode": "markers",
           "name": "PIT",
           "type": "scatter",
           "x": [
            75.14,
            79.48,
            75.03,
            77.35,
            79.62,
            79.29,
            84.78,
            82.22,
            78.71,
            75.54,
            75.43
           ],
           "y": [
            30.75,
            28.78,
            22.9,
            22.63,
            41.61,
            37.71,
            36.48,
            28.02,
            33.22,
            34.75,
            26.95
           ]
          },
          {
           "hoverinfo": "text",
           "hovertext": [
            "nflId:42654<br>displayName:La'el Collins<br>Player Speed:0.224 MPH",
            "nflId:43344<br>displayName:Tyler Boyd<br>Player Speed:0.0 MPH",
            "nflId:43495<br>displayName:Mike Thomas<br>Player Speed:0.201 MPH",
            "nflId:43510<br>displayName:Ted Karras<br>Player Speed:0.984 MPH",
            "nflId:44860<br>displayName:Joe Mixon<br>Player Speed:1.387 MPH",
            "nflId:46163<br>displayName:Alex Cappa<br>Player Speed:0.134 MPH",
            "nflId:47794<br>displayName:Jonah Williams<br>Player Speed:0.268 MPH",
            "nflId:47835<br>displayName:Drew Sample<br>Player Speed:0.089 MPH",
            "nflId:52409<br>displayName:Joe Burrow<br>Player Speed:1.365 MPH",
            "nflId:53434<br>displayName:Ja'Marr Chase<br>Player Speed:1.141 MPH",
            "nflId:54601<br>displayName:Cordell Volson<br>Player Speed:0.067 MPH"
           ],
           "marker": {
            "color": "#000000",
            "line": {
             "color": "#FB4F14",
             "width": 2
            },
            "size": 10
           },
           "mode": "markers",
           "name": "CIN",
           "type": "scatter",
           "x": [
            72.78,
            71.36,
            72.47,
            73.75,
            68.77,
            73.07,
            73.12,
            72.75,
            69.75,
            72.79,
            73.07
           ],
           "y": [
            26.55,
            35.3,
            39.11,
            29.74,
            27.32,
            28.16,
            32.54,
            24.86,
            30.25,
            37.07,
            31.24
           ]
          },
          {
           "hoverinfo": "none",
           "marker": {
            "color": "#CBB67C",
            "line": {
             "color": "#663831",
             "width": 2
            },
            "size": 10
           },
           "mode": "markers",
           "name": "football",
           "type": "scatter",
           "x": [
            73.8300018310547
           ],
           "y": [
            29.7199993133545
           ]
          }
         ],
         "name": "6"
        },
        {
         "data": [
          {
           "hoverinfo": "none",
           "mode": "text",
           "showlegend": false,
           "text": [
            "10",
            "20",
            "30",
            "40",
            "50",
            "40",
            "30",
            "20",
            "10"
           ],
           "textfont": {
            "color": "#ffffff",
            "family": "Courier New, monospace",
            "size": 30
           },
           "type": "scatter",
           "x": [
            20,
            30,
            40,
            50,
            60,
            70,
            80,
            90,
            100
           ],
           "y": [
            5,
            5,
            5,
            5,
            5,
            5,
            5,
            5,
            5
           ]
          },
          {
           "hoverinfo": "none",
           "mode": "text",
           "showlegend": false,
           "text": [
            "10",
            "20",
            "30",
            "40",
            "50",
            "40",
            "30",
            "20",
            "10"
           ],
           "textfont": {
            "color": "#ffffff",
            "family": "Courier New, monospace",
            "size": 30
           },
           "type": "scatter",
           "x": [
            20,
            30,
            40,
            50,
            60,
            70,
            80,
            90,
            100
           ],
           "y": [
            48.5,
            48.5,
            48.5,
            48.5,
            48.5,
            48.5,
            48.5,
            48.5,
            48.5
           ]
          },
          {
           "hoverinfo": "none",
           "line": {
            "color": "blue",
            "dash": "dash"
           },
           "showlegend": false,
           "type": "scatter",
           "x": [
            74,
            74
           ],
           "y": [
            0,
            53.5
           ]
          },
          {
           "hoverinfo": "none",
           "line": {
            "color": "yellow",
            "dash": "dash"
           },
           "showlegend": false,
           "type": "scatter",
           "x": [
            80,
            80
           ],
           "y": [
            0,
            53.5
           ]
          },
          {
           "fill": "toself",
           "fillcolor": "#000000",
           "hoverinfo": "skip",
           "line": {
            "color": "white",
            "width": 3
           },
           "mode": "lines",
           "opacity": 1,
           "showlegend": false,
           "type": "scatter",
           "x": [
            0,
            0,
            10,
            10,
            0
           ],
           "y": [
            0,
            53.5,
            53.5,
            0,
            0
           ]
          },
          {
           "fill": "toself",
           "fillcolor": "#FFB612",
           "hoverinfo": "skip",
           "line": {
            "color": "white",
            "width": 3
           },
           "mode": "lines",
           "opacity": 1,
           "showlegend": false,
           "type": "scatter",
           "x": [
            110,
            110,
            120,
            120,
            110
           ],
           "y": [
            0,
            53.5,
            53.5,
            0,
            0
           ]
          },
          {
           "hoverinfo": "text",
           "hovertext": [
            "nflId:37104<br>displayName:Cameron Heyward<br>Player Speed:0.067 MPH",
            "nflId:43325<br>displayName:Myles Jack<br>Player Speed:0.089 MPH",
            "nflId:44842<br>displayName:T.J. Watt<br>Player Speed:1.141 MPH",
            "nflId:44878<br>displayName:Ahkello Witherspoon<br>Player Speed:0.514 MPH",
            "nflId:44906<br>displayName:Cameron Sutton<br>Player Speed:0.917 MPH",
            "nflId:45395<br>displayName:Arthur Maulet<br>Player Speed:1.633 MPH",
            "nflId:46080<br>displayName:Minkah Fitzpatrick<br>Player Speed:1.924 MPH",
            "nflId:46097<br>displayName:Terrell Edmunds<br>Player Speed:2.908 MPH",
            "nflId:46902<br>displayName:Robert Spillane<br>Player Speed:0.045 MPH",
            "nflId:52971<br>displayName:Jamir Jones<br>Player Speed:0.0 MPH",
            "nflId:54549<br>displayName:DeMarvin Leal<br>Player Speed:0.582 MPH"
           ],
           "marker": {
            "color": "#FFB612",
            "line": {
             "color": "#101820",
             "width": 2
            },
            "size": 10
           },
           "mode": "markers",
           "name": "PIT",
           "type": "scatter",
           "x": [
            75.15,
            79.48,
            74.98,
            77.37,
            79.65,
            79.34,
            84.87,
            82.23,
            78.71,
            75.53,
            75.42
           ],
           "y": [
            30.76,
            28.78,
            22.88,
            22.63,
            41.64,
            37.66,
            36.49,
            27.89,
            33.22,
            34.75,
            26.97
           ]
          },
          {
           "hoverinfo": "text",
           "hovertext": [
            "nflId:42654<br>displayName:La'el Collins<br>Player Speed:0.268 MPH",
            "nflId:43344<br>displayName:Tyler Boyd<br>Player Speed:0.0 MPH",
            "nflId:43495<br>displayName:Mike Thomas<br>Player Speed:0.224 MPH",
            "nflId:43510<br>displayName:Ted Karras<br>Player Speed:0.805 MPH",
            "nflId:44860<br>displayName:Joe Mixon<br>Player Speed:1.409 MPH",
            "nflId:46163<br>displayName:Alex Cappa<br>Player Speed:0.134 MPH",
            "nflId:47794<br>displayName:Jonah Williams<br>Player Speed:0.224 MPH",
            "nflId:47835<br>displayName:Drew Sample<br>Player Speed:0.022 MPH",
            "nflId:52409<br>displayName:Joe Burrow<br>Player Speed:1.208 MPH",
            "nflId:53434<br>displayName:Ja'Marr Chase<br>Player Speed:1.409 MPH",
            "nflId:54601<br>displayName:Cordell Volson<br>Player Speed:0.045 MPH"
           ],
           "marker": {
            "color": "#000000",
            "line": {
             "color": "#FB4F14",
             "width": 2
            },
            "size": 10
           },
           "mode": "markers",
           "name": "CIN",
           "type": "scatter",
           "x": [
            72.78,
            71.36,
            72.47,
            73.78,
            68.77,
            73.1,
            73.11,
            72.74,
            69.7,
            72.84,
            73.09
           ],
           "y": [
            26.57,
            35.3,
            39.1,
            29.74,
            27.26,
            28.16,
            32.54,
            24.84,
            30.22,
            37.09,
            31.25
           ]
          },
          {
           "hoverinfo": "none",
           "marker": {
            "color": "#CBB67C",
            "line": {
             "color": "#663831",
             "width": 2
            },
            "size": 10
           },
           "mode": "markers",
           "name": "football",
           "type": "scatter",
           "x": [
            73.8300018310547
           ],
           "y": [
            29.7199993133545
           ]
          }
         ],
         "name": "7"
        },
        {
         "data": [
          {
           "hoverinfo": "none",
           "mode": "text",
           "showlegend": false,
           "text": [
            "10",
            "20",
            "30",
            "40",
            "50",
            "40",
            "30",
            "20",
            "10"
           ],
           "textfont": {
            "color": "#ffffff",
            "family": "Courier New, monospace",
            "size": 30
           },
           "type": "scatter",
           "x": [
            20,
            30,
            40,
            50,
            60,
            70,
            80,
            90,
            100
           ],
           "y": [
            5,
            5,
            5,
            5,
            5,
            5,
            5,
            5,
            5
           ]
          },
          {
           "hoverinfo": "none",
           "mode": "text",
           "showlegend": false,
           "text": [
            "10",
            "20",
            "30",
            "40",
            "50",
            "40",
            "30",
            "20",
            "10"
           ],
           "textfont": {
            "color": "#ffffff",
            "family": "Courier New, monospace",
            "size": 30
           },
           "type": "scatter",
           "x": [
            20,
            30,
            40,
            50,
            60,
            70,
            80,
            90,
            100
           ],
           "y": [
            48.5,
            48.5,
            48.5,
            48.5,
            48.5,
            48.5,
            48.5,
            48.5,
            48.5
           ]
          },
          {
           "hoverinfo": "none",
           "line": {
            "color": "blue",
            "dash": "dash"
           },
           "showlegend": false,
           "type": "scatter",
           "x": [
            74,
            74
           ],
           "y": [
            0,
            53.5
           ]
          },
          {
           "hoverinfo": "none",
           "line": {
            "color": "yellow",
            "dash": "dash"
           },
           "showlegend": false,
           "type": "scatter",
           "x": [
            80,
            80
           ],
           "y": [
            0,
            53.5
           ]
          },
          {
           "fill": "toself",
           "fillcolor": "#000000",
           "hoverinfo": "skip",
           "line": {
            "color": "white",
            "width": 3
           },
           "mode": "lines",
           "opacity": 1,
           "showlegend": false,
           "type": "scatter",
           "x": [
            0,
            0,
            10,
            10,
            0
           ],
           "y": [
            0,
            53.5,
            53.5,
            0,
            0
           ]
          },
          {
           "fill": "toself",
           "fillcolor": "#FFB612",
           "hoverinfo": "skip",
           "line": {
            "color": "white",
            "width": 3
           },
           "mode": "lines",
           "opacity": 1,
           "showlegend": false,
           "type": "scatter",
           "x": [
            110,
            110,
            120,
            120,
            110
           ],
           "y": [
            0,
            53.5,
            53.5,
            0,
            0
           ]
          },
          {
           "hoverinfo": "text",
           "hovertext": [
            "nflId:37104<br>displayName:Cameron Heyward<br>Player Speed:0.089 MPH",
            "nflId:43325<br>displayName:Myles Jack<br>Player Speed:0.022 MPH",
            "nflId:44842<br>displayName:T.J. Watt<br>Player Speed:1.051 MPH",
            "nflId:44878<br>displayName:Ahkello Witherspoon<br>Player Speed:0.514 MPH",
            "nflId:44906<br>displayName:Cameron Sutton<br>Player Speed:0.917 MPH",
            "nflId:45395<br>displayName:Arthur Maulet<br>Player Speed:1.409 MPH",
            "nflId:46080<br>displayName:Minkah Fitzpatrick<br>Player Speed:1.901 MPH",
            "nflId:46097<br>displayName:Terrell Edmunds<br>Player Speed:2.953 MPH",
            "nflId:46902<br>displayName:Robert Spillane<br>Player Speed:0.089 MPH",
            "nflId:52971<br>displayName:Jamir Jones<br>Player Speed:0.0 MPH",
            "nflId:54549<br>displayName:DeMarvin Leal<br>Player Speed:0.649 MPH"
           ],
           "marker": {
            "color": "#FFB612",
            "line": {
             "color": "#101820",
             "width": 2
            },
            "size": 10
           },
           "mode": "markers",
           "name": "PIT",
           "type": "scatter",
           "x": [
            75.14,
            79.48,
            74.94,
            77.39,
            79.68,
            79.39,
            84.95,
            82.25,
            78.71,
            75.53,
            75.4
           ],
           "y": [
            30.75,
            28.79,
            22.86,
            22.63,
            41.66,
            37.61,
            36.51,
            27.76,
            33.21,
            34.75,
            27
           ]
          },
          {
           "hoverinfo": "text",
           "hovertext": [
            "nflId:42654<br>displayName:La'el Collins<br>Player Speed:0.224 MPH",
            "nflId:43344<br>displayName:Tyler Boyd<br>Player Speed:0.022 MPH",
            "nflId:43495<br>displayName:Mike Thomas<br>Player Speed:0.291 MPH",
            "nflId:43510<br>displayName:Ted Karras<br>Player Speed:0.716 MPH",
            "nflId:44860<br>displayName:Joe Mixon<br>Player Speed:1.342 MPH",
            "nflId:46163<br>displayName:Alex Cappa<br>Player Speed:0.112 MPH",
            "nflId:47794<br>displayName:Jonah Williams<br>Player Speed:0.201 MPH",
            "nflId:47835<br>displayName:Drew Sample<br>Player Speed:0.0 MPH",
            "nflId:52409<br>displayName:Joe Burrow<br>Player Speed:1.074 MPH",
            "nflId:53434<br>displayName:Ja'Marr Chase<br>Player Speed:1.588 MPH",
            "nflId:54601<br>displayName:Cordell Volson<br>Player Speed:0.045 MPH"
           ],
           "marker": {
            "color": "#000000",
            "line": {
             "color": "#FB4F14",
             "width": 2
            },
            "size": 10
           },
           "mode": "markers",
           "name": "CIN",
           "type": "scatter",
           "x": [
            72.77,
            71.37,
            72.47,
            73.82,
            68.77,
            73.12,
            73.1,
            72.73,
            69.65,
            72.9,
            73.1
           ],
           "y": [
            26.57,
            35.31,
            39.09,
            29.74,
            27.2,
            28.16,
            32.53,
            24.85,
            30.2,
            37.11,
            31.26
           ]
          },
          {
           "hoverinfo": "none",
           "marker": {
            "color": "#CBB67C",
            "line": {
             "color": "#663831",
             "width": 2
            },
            "size": 10
           },
           "mode": "markers",
           "name": "football",
           "type": "scatter",
           "x": [
            73.8300018310547
           ],
           "y": [
            29.7199993133545
           ]
          }
         ],
         "name": "8"
        },
        {
         "data": [
          {
           "hoverinfo": "none",
           "mode": "text",
           "showlegend": false,
           "text": [
            "10",
            "20",
            "30",
            "40",
            "50",
            "40",
            "30",
            "20",
            "10"
           ],
           "textfont": {
            "color": "#ffffff",
            "family": "Courier New, monospace",
            "size": 30
           },
           "type": "scatter",
           "x": [
            20,
            30,
            40,
            50,
            60,
            70,
            80,
            90,
            100
           ],
           "y": [
            5,
            5,
            5,
            5,
            5,
            5,
            5,
            5,
            5
           ]
          },
          {
           "hoverinfo": "none",
           "mode": "text",
           "showlegend": false,
           "text": [
            "10",
            "20",
            "30",
            "40",
            "50",
            "40",
            "30",
            "20",
            "10"
           ],
           "textfont": {
            "color": "#ffffff",
            "family": "Courier New, monospace",
            "size": 30
           },
           "type": "scatter",
           "x": [
            20,
            30,
            40,
            50,
            60,
            70,
            80,
            90,
            100
           ],
           "y": [
            48.5,
            48.5,
            48.5,
            48.5,
            48.5,
            48.5,
            48.5,
            48.5,
            48.5
           ]
          },
          {
           "hoverinfo": "none",
           "line": {
            "color": "blue",
            "dash": "dash"
           },
           "showlegend": false,
           "type": "scatter",
           "x": [
            74,
            74
           ],
           "y": [
            0,
            53.5
           ]
          },
          {
           "hoverinfo": "none",
           "line": {
            "color": "yellow",
            "dash": "dash"
           },
           "showlegend": false,
           "type": "scatter",
           "x": [
            80,
            80
           ],
           "y": [
            0,
            53.5
           ]
          },
          {
           "fill": "toself",
           "fillcolor": "#000000",
           "hoverinfo": "skip",
           "line": {
            "color": "white",
            "width": 3
           },
           "mode": "lines",
           "opacity": 1,
           "showlegend": false,
           "type": "scatter",
           "x": [
            0,
            0,
            10,
            10,
            0
           ],
           "y": [
            0,
            53.5,
            53.5,
            0,
            0
           ]
          },
          {
           "fill": "toself",
           "fillcolor": "#FFB612",
           "hoverinfo": "skip",
           "line": {
            "color": "white",
            "width": 3
           },
           "mode": "lines",
           "opacity": 1,
           "showlegend": false,
           "type": "scatter",
           "x": [
            110,
            110,
            120,
            120,
            110
           ],
           "y": [
            0,
            53.5,
            53.5,
            0,
            0
           ]
          },
          {
           "hoverinfo": "text",
           "hovertext": [
            "nflId:37104<br>displayName:Cameron Heyward<br>Player Speed:0.067 MPH",
            "nflId:43325<br>displayName:Myles Jack<br>Player Speed:0.022 MPH",
            "nflId:44842<br>displayName:T.J. Watt<br>Player Speed:0.895 MPH",
            "nflId:44878<br>displayName:Ahkello Witherspoon<br>Player Speed:0.47 MPH",
            "nflId:44906<br>displayName:Cameron Sutton<br>Player Speed:0.94 MPH",
            "nflId:45395<br>displayName:Arthur Maulet<br>Player Speed:1.208 MPH",
            "nflId:46080<br>displayName:Minkah Fitzpatrick<br>Player Speed:1.745 MPH",
            "nflId:46097<br>displayName:Terrell Edmunds<br>Player Speed:2.886 MPH",
            "nflId:46902<br>displayName:Robert Spillane<br>Player Speed:0.157 MPH",
            "nflId:52971<br>displayName:Jamir Jones<br>Player Speed:0.0 MPH",
            "nflId:54549<br>displayName:DeMarvin Leal<br>Player Speed:0.626 MPH"
           ],
           "marker": {
            "color": "#FFB612",
            "line": {
             "color": "#101820",
             "width": 2
            },
            "size": 10
           },
           "mode": "markers",
           "name": "PIT",
           "type": "scatter",
           "x": [
            75.14,
            79.47,
            74.9,
            77.41,
            79.72,
            79.43,
            85.03,
            82.27,
            78.72,
            75.52,
            75.38
           ],
           "y": [
            30.75,
            28.79,
            22.88,
            22.63,
            41.68,
            37.57,
            36.51,
            27.63,
            33.21,
            34.74,
            27.02
           ]
          },
          {
           "hoverinfo": "text",
           "hovertext": [
            "nflId:42654<br>displayName:La'el Collins<br>Player Speed:0.246 MPH",
            "nflId:43344<br>displayName:Tyler Boyd<br>Player Speed:0.157 MPH",
            "nflId:43495<br>displayName:Mike Thomas<br>Player Speed:0.246 MPH",
            "nflId:43510<br>displayName:Ted Karras<br>Player Speed:0.604 MPH",
            "nflId:44860<br>displayName:Joe Mixon<br>Player Speed:1.297 MPH",
            "nflId:46163<br>displayName:Alex Cappa<br>Player Speed:0.157 MPH",
            "nflId:47794<br>displayName:Jonah Williams<br>Player Speed:0.201 MPH",
            "nflId:47835<br>displayName:Drew Sample<br>Player Speed:0.067 MPH",
            "nflId:52409<br>displayName:Joe Burrow<br>Player Speed:0.85 MPH",
            "nflId:53434<br>displayName:Ja'Marr Chase<br>Player Speed:1.655 MPH",
            "nflId:54601<br>displayName:Cordell Volson<br>Player Speed:0.045 MPH"
           ],
           "marker": {
            "color": "#000000",
            "line": {
             "color": "#FB4F14",
             "width": 2
            },
            "size": 10
           },
           "mode": "markers",
           "name": "CIN",
           "type": "scatter",
           "x": [
            72.76,
            71.37,
            72.46,
            73.84,
            68.76,
            73.14,
            73.09,
            72.74,
            69.61,
            72.97,
            73.1
           ],
           "y": [
            26.59,
            35.31,
            39.08,
            29.74,
            27.14,
            28.16,
            32.52,
            24.88,
            30.19,
            37.14,
            31.25
           ]
          },
          {
           "hoverinfo": "none",
           "marker": {
            "color": "#CBB67C",
            "line": {
             "color": "#663831",
             "width": 2
            },
            "size": 10
           },
           "mode": "markers",
           "name": "football",
           "type": "scatter",
           "x": [
            73.8300018310547
           ],
           "y": [
            29.7199993133545
           ]
          }
         ],
         "name": "9"
        },
        {
         "data": [
          {
           "hoverinfo": "none",
           "mode": "text",
           "showlegend": false,
           "text": [
            "10",
            "20",
            "30",
            "40",
            "50",
            "40",
            "30",
            "20",
            "10"
           ],
           "textfont": {
            "color": "#ffffff",
            "family": "Courier New, monospace",
            "size": 30
           },
           "type": "scatter",
           "x": [
            20,
            30,
            40,
            50,
            60,
            70,
            80,
            90,
            100
           ],
           "y": [
            5,
            5,
            5,
            5,
            5,
            5,
            5,
            5,
            5
           ]
          },
          {
           "hoverinfo": "none",
           "mode": "text",
           "showlegend": false,
           "text": [
            "10",
            "20",
            "30",
            "40",
            "50",
            "40",
            "30",
            "20",
            "10"
           ],
           "textfont": {
            "color": "#ffffff",
            "family": "Courier New, monospace",
            "size": 30
           },
           "type": "scatter",
           "x": [
            20,
            30,
            40,
            50,
            60,
            70,
            80,
            90,
            100
           ],
           "y": [
            48.5,
            48.5,
            48.5,
            48.5,
            48.5,
            48.5,
            48.5,
            48.5,
            48.5
           ]
          },
          {
           "hoverinfo": "none",
           "line": {
            "color": "blue",
            "dash": "dash"
           },
           "showlegend": false,
           "type": "scatter",
           "x": [
            74,
            74
           ],
           "y": [
            0,
            53.5
           ]
          },
          {
           "hoverinfo": "none",
           "line": {
            "color": "yellow",
            "dash": "dash"
           },
           "showlegend": false,
           "type": "scatter",
           "x": [
            80,
            80
           ],
           "y": [
            0,
            53.5
           ]
          },
          {
           "fill": "toself",
           "fillcolor": "#000000",
           "hoverinfo": "skip",
           "line": {
            "color": "white",
            "width": 3
           },
           "mode": "lines",
           "opacity": 1,
           "showlegend": false,
           "type": "scatter",
           "x": [
            0,
            0,
            10,
            10,
            0
           ],
           "y": [
            0,
            53.5,
            53.5,
            0,
            0
           ]
          },
          {
           "fill": "toself",
           "fillcolor": "#FFB612",
           "hoverinfo": "skip",
           "line": {
            "color": "white",
            "width": 3
           },
           "mode": "lines",
           "opacity": 1,
           "showlegend": false,
           "type": "scatter",
           "x": [
            110,
            110,
            120,
            120,
            110
           ],
           "y": [
            0,
            53.5,
            53.5,
            0,
            0
           ]
          },
          {
           "hoverinfo": "text",
           "hovertext": [
            "nflId:37104<br>displayName:Cameron Heyward<br>Player Speed:0.067 MPH",
            "nflId:43325<br>displayName:Myles Jack<br>Player Speed:0.045 MPH",
            "nflId:44842<br>displayName:T.J. Watt<br>Player Speed:0.828 MPH",
            "nflId:44878<br>displayName:Ahkello Witherspoon<br>Player Speed:0.492 MPH",
            "nflId:44906<br>displayName:Cameron Sutton<br>Player Speed:0.984 MPH",
            "nflId:45395<br>displayName:Arthur Maulet<br>Player Speed:1.007 MPH",
            "nflId:46080<br>displayName:Minkah Fitzpatrick<br>Player Speed:1.678 MPH",
            "nflId:46097<br>displayName:Terrell Edmunds<br>Player Speed:2.819 MPH",
            "nflId:46902<br>displayName:Robert Spillane<br>Player Speed:0.268 MPH",
            "nflId:52971<br>displayName:Jamir Jones<br>Player Speed:0.0 MPH",
            "nflId:54549<br>displayName:DeMarvin Leal<br>Player Speed:0.671 MPH"
           ],
           "marker": {
            "color": "#FFB612",
            "line": {
             "color": "#101820",
             "width": 2
            },
            "size": 10
           },
           "mode": "markers",
           "name": "PIT",
           "type": "scatter",
           "x": [
            75.13,
            79.48,
            74.86,
            77.43,
            79.76,
            79.47,
            85.11,
            82.31,
            78.72,
            75.51,
            75.36
           ],
           "y": [
            30.75,
            28.79,
            22.88,
            22.64,
            41.69,
            37.55,
            36.51,
            27.51,
            33.22,
            34.74,
            27.04
           ]
          },
          {
           "hoverinfo": "text",
           "hovertext": [
            "nflId:42654<br>displayName:La'el Collins<br>Player Speed:0.201 MPH",
            "nflId:43344<br>displayName:Tyler Boyd<br>Player Speed:0.38 MPH",
            "nflId:43495<br>displayName:Mike Thomas<br>Player Speed:0.268 MPH",
            "nflId:43510<br>displayName:Ted Karras<br>Player Speed:0.514 MPH",
            "nflId:44860<br>displayName:Joe Mixon<br>Player Speed:1.163 MPH",
            "nflId:46163<br>displayName:Alex Cappa<br>Player Speed:0.246 MPH",
            "nflId:47794<br>displayName:Jonah Williams<br>Player Speed:0.313 MPH",
            "nflId:47835<br>displayName:Drew Sample<br>Player Speed:0.089 MPH",
            "nflId:52409<br>displayName:Joe Burrow<br>Player Speed:0.649 MPH",
            "nflId:53434<br>displayName:Ja'Marr Chase<br>Player Speed:1.611 MPH",
            "nflId:54601<br>displayName:Cordell Volson<br>Player Speed:0.045 MPH"
           ],
           "marker": {
            "color": "#000000",
            "line": {
             "color": "#FB4F14",
             "width": 2
            },
            "size": 10
           },
           "mode": "markers",
           "name": "CIN",
           "type": "scatter",
           "x": [
            72.76,
            71.38,
            72.46,
            73.86,
            68.75,
            73.14,
            73.09,
            72.75,
            69.58,
            73.04,
            73.1
           ],
           "y": [
            26.58,
            35.31,
            39.07,
            29.75,
            27.09,
            28.16,
            32.51,
            24.89,
            30.18,
            37.16,
            31.24
           ]
          },
          {
           "hoverinfo": "none",
           "marker": {
            "color": "#CBB67C",
            "line": {
             "color": "#663831",
             "width": 2
            },
            "size": 10
           },
           "mode": "markers",
           "name": "football",
           "type": "scatter",
           "x": [
            73.8300018310547
           ],
           "y": [
            29.7099990844727
           ]
          }
         ],
         "name": "10"
        },
        {
         "data": [
          {
           "hoverinfo": "none",
           "mode": "text",
           "showlegend": false,
           "text": [
            "10",
            "20",
            "30",
            "40",
            "50",
            "40",
            "30",
            "20",
            "10"
           ],
           "textfont": {
            "color": "#ffffff",
            "family": "Courier New, monospace",
            "size": 30
           },
           "type": "scatter",
           "x": [
            20,
            30,
            40,
            50,
            60,
            70,
            80,
            90,
            100
           ],
           "y": [
            5,
            5,
            5,
            5,
            5,
            5,
            5,
            5,
            5
           ]
          },
          {
           "hoverinfo": "none",
           "mode": "text",
           "showlegend": false,
           "text": [
            "10",
            "20",
            "30",
            "40",
            "50",
            "40",
            "30",
            "20",
            "10"
           ],
           "textfont": {
            "color": "#ffffff",
            "family": "Courier New, monospace",
            "size": 30
           },
           "type": "scatter",
           "x": [
            20,
            30,
            40,
            50,
            60,
            70,
            80,
            90,
            100
           ],
           "y": [
            48.5,
            48.5,
            48.5,
            48.5,
            48.5,
            48.5,
            48.5,
            48.5,
            48.5
           ]
          },
          {
           "hoverinfo": "none",
           "line": {
            "color": "blue",
            "dash": "dash"
           },
           "showlegend": false,
           "type": "scatter",
           "x": [
            74,
            74
           ],
           "y": [
            0,
            53.5
           ]
          },
          {
           "hoverinfo": "none",
           "line": {
            "color": "yellow",
            "dash": "dash"
           },
           "showlegend": false,
           "type": "scatter",
           "x": [
            80,
            80
           ],
           "y": [
            0,
            53.5
           ]
          },
          {
           "fill": "toself",
           "fillcolor": "#000000",
           "hoverinfo": "skip",
           "line": {
            "color": "white",
            "width": 3
           },
           "mode": "lines",
           "opacity": 1,
           "showlegend": false,
           "type": "scatter",
           "x": [
            0,
            0,
            10,
            10,
            0
           ],
           "y": [
            0,
            53.5,
            53.5,
            0,
            0
           ]
          },
          {
           "fill": "toself",
           "fillcolor": "#FFB612",
           "hoverinfo": "skip",
           "line": {
            "color": "white",
            "width": 3
           },
           "mode": "lines",
           "opacity": 1,
           "showlegend": false,
           "type": "scatter",
           "x": [
            110,
            110,
            120,
            120,
            110
           ],
           "y": [
            0,
            53.5,
            53.5,
            0,
            0
           ]
          },
          {
           "hoverinfo": "text",
           "hovertext": [
            "nflId:37104<br>displayName:Cameron Heyward<br>Player Speed:0.067 MPH",
            "nflId:43325<br>displayName:Myles Jack<br>Player Speed:0.022 MPH",
            "nflId:44842<br>displayName:T.J. Watt<br>Player Speed:0.738 MPH",
            "nflId:44878<br>displayName:Ahkello Witherspoon<br>Player Speed:0.537 MPH",
            "nflId:44906<br>displayName:Cameron Sutton<br>Player Speed:1.029 MPH",
            "nflId:45395<br>displayName:Arthur Maulet<br>Player Speed:0.716 MPH",
            "nflId:46080<br>displayName:Minkah Fitzpatrick<br>Player Speed:1.611 MPH",
            "nflId:46097<br>displayName:Terrell Edmunds<br>Player Speed:2.684 MPH",
            "nflId:46902<br>displayName:Robert Spillane<br>Player Speed:0.224 MPH",
            "nflId:52971<br>displayName:Jamir Jones<br>Player Speed:0.0 MPH",
            "nflId:54549<br>displayName:DeMarvin Leal<br>Player Speed:0.783 MPH"
           ],
           "marker": {
            "color": "#FFB612",
            "line": {
             "color": "#101820",
             "width": 2
            },
            "size": 10
           },
           "mode": "markers",
           "name": "PIT",
           "type": "scatter",
           "x": [
            75.12,
            79.47,
            74.83,
            77.45,
            79.81,
            79.5,
            85.18,
            82.34,
            78.73,
            75.5,
            75.33
           ],
           "y": [
            30.76,
            28.79,
            22.87,
            22.65,
            41.7,
            37.53,
            36.5,
            27.39,
            33.22,
            34.74,
            27.04
           ]
          },
          {
           "hoverinfo": "text",
           "hovertext": [
            "nflId:42654<br>displayName:La'el Collins<br>Player Speed:0.224 MPH",
            "nflId:43344<br>displayName:Tyler Boyd<br>Player Speed:0.693 MPH",
            "nflId:43495<br>displayName:Mike Thomas<br>Player Speed:0.224 MPH",
            "nflId:43510<br>displayName:Ted Karras<br>Player Speed:0.336 MPH",
            "nflId:44860<br>displayName:Joe Mixon<br>Player Speed:1.096 MPH",
            "nflId:46163<br>displayName:Alex Cappa<br>Player Speed:0.246 MPH",
            "nflId:47794<br>displayName:Jonah Williams<br>Player Speed:0.492 MPH",
            "nflId:47835<br>displayName:Drew Sample<br>Player Speed:0.067 MPH",
            "nflId:52409<br>displayName:Joe Burrow<br>Player Speed:0.492 MPH",
            "nflId:53434<br>displayName:Ja'Marr Chase<br>Player Speed:1.476 MPH",
            "nflId:54601<br>displayName:Cordell Volson<br>Player Speed:0.022 MPH"
           ],
           "marker": {
            "color": "#000000",
            "line": {
             "color": "#FB4F14",
             "width": 2
            },
            "size": 10
           },
           "mode": "markers",
           "name": "CIN",
           "type": "scatter",
           "x": [
            72.74,
            71.41,
            72.47,
            73.85,
            68.75,
            73.15,
            73.07,
            72.75,
            69.56,
            73.11,
            73.09
           ],
           "y": [
            26.59,
            35.32,
            39.06,
            29.75,
            27.05,
            28.17,
            32.5,
            24.89,
            30.18,
            37.17,
            31.24
           ]
          },
          {
           "hoverinfo": "none",
           "marker": {
            "color": "#CBB67C",
            "line": {
             "color": "#663831",
             "width": 2
            },
            "size": 10
           },
           "mode": "markers",
           "name": "football",
           "type": "scatter",
           "x": [
            73.8300018310547
           ],
           "y": [
            29.7099990844727
           ]
          }
         ],
         "name": "11"
        },
        {
         "data": [
          {
           "hoverinfo": "none",
           "mode": "text",
           "showlegend": false,
           "text": [
            "10",
            "20",
            "30",
            "40",
            "50",
            "40",
            "30",
            "20",
            "10"
           ],
           "textfont": {
            "color": "#ffffff",
            "family": "Courier New, monospace",
            "size": 30
           },
           "type": "scatter",
           "x": [
            20,
            30,
            40,
            50,
            60,
            70,
            80,
            90,
            100
           ],
           "y": [
            5,
            5,
            5,
            5,
            5,
            5,
            5,
            5,
            5
           ]
          },
          {
           "hoverinfo": "none",
           "mode": "text",
           "showlegend": false,
           "text": [
            "10",
            "20",
            "30",
            "40",
            "50",
            "40",
            "30",
            "20",
            "10"
           ],
           "textfont": {
            "color": "#ffffff",
            "family": "Courier New, monospace",
            "size": 30
           },
           "type": "scatter",
           "x": [
            20,
            30,
            40,
            50,
            60,
            70,
            80,
            90,
            100
           ],
           "y": [
            48.5,
            48.5,
            48.5,
            48.5,
            48.5,
            48.5,
            48.5,
            48.5,
            48.5
           ]
          },
          {
           "hoverinfo": "none",
           "line": {
            "color": "blue",
            "dash": "dash"
           },
           "showlegend": false,
           "type": "scatter",
           "x": [
            74,
            74
           ],
           "y": [
            0,
            53.5
           ]
          },
          {
           "hoverinfo": "none",
           "line": {
            "color": "yellow",
            "dash": "dash"
           },
           "showlegend": false,
           "type": "scatter",
           "x": [
            80,
            80
           ],
           "y": [
            0,
            53.5
           ]
          },
          {
           "fill": "toself",
           "fillcolor": "#000000",
           "hoverinfo": "skip",
           "line": {
            "color": "white",
            "width": 3
           },
           "mode": "lines",
           "opacity": 1,
           "showlegend": false,
           "type": "scatter",
           "x": [
            0,
            0,
            10,
            10,
            0
           ],
           "y": [
            0,
            53.5,
            53.5,
            0,
            0
           ]
          },
          {
           "fill": "toself",
           "fillcolor": "#FFB612",
           "hoverinfo": "skip",
           "line": {
            "color": "white",
            "width": 3
           },
           "mode": "lines",
           "opacity": 1,
           "showlegend": false,
           "type": "scatter",
           "x": [
            110,
            110,
            120,
            120,
            110
           ],
           "y": [
            0,
            53.5,
            53.5,
            0,
            0
           ]
          },
          {
           "hoverinfo": "text",
           "hovertext": [
            "nflId:37104<br>displayName:Cameron Heyward<br>Player Speed:0.067 MPH",
            "nflId:43325<br>displayName:Myles Jack<br>Player Speed:0.067 MPH",
            "nflId:44842<br>displayName:T.J. Watt<br>Player Speed:0.671 MPH",
            "nflId:44878<br>displayName:Ahkello Witherspoon<br>Player Speed:0.626 MPH",
            "nflId:44906<br>displayName:Cameron Sutton<br>Player Speed:1.051 MPH",
            "nflId:45395<br>displayName:Arthur Maulet<br>Player Speed:0.47 MPH",
            "nflId:46080<br>displayName:Minkah Fitzpatrick<br>Player Speed:1.588 MPH",
            "nflId:46097<br>displayName:Terrell Edmunds<br>Player Speed:2.461 MPH",
            "nflId:46902<br>displayName:Robert Spillane<br>Player Speed:0.201 MPH",
            "nflId:52971<br>displayName:Jamir Jones<br>Player Speed:0.0 MPH",
            "nflId:54549<br>displayName:DeMarvin Leal<br>Player Speed:0.917 MPH"
           ],
           "marker": {
            "color": "#FFB612",
            "line": {
             "color": "#101820",
             "width": 2
            },
            "size": 10
           },
           "mode": "markers",
           "name": "PIT",
           "type": "scatter",
           "x": [
            75.11,
            79.46,
            74.81,
            77.47,
            79.85,
            79.52,
            85.25,
            82.39,
            78.74,
            75.49,
            75.29
           ],
           "y": [
            30.77,
            28.78,
            22.87,
            22.67,
            41.71,
            37.52,
            36.48,
            27.29,
            33.22,
            34.75,
            27.05
           ]
          },
          {
           "hoverinfo": "text",
           "hovertext": [
            "nflId:42654<br>displayName:La'el Collins<br>Player Speed:0.201 MPH",
            "nflId:43344<br>displayName:Tyler Boyd<br>Player Speed:1.096 MPH",
            "nflId:43495<br>displayName:Mike Thomas<br>Player Speed:0.157 MPH",
            "nflId:43510<br>displayName:Ted Karras<br>Player Speed:0.224 MPH",
            "nflId:44860<br>displayName:Joe Mixon<br>Player Speed:0.895 MPH",
            "nflId:46163<br>displayName:Alex Cappa<br>Player Speed:0.268 MPH",
            "nflId:47794<br>displayName:Jonah Williams<br>Player Speed:0.671 MPH",
            "nflId:47835<br>displayName:Drew Sample<br>Player Speed:0.022 MPH",
            "nflId:52409<br>displayName:Joe Burrow<br>Player Speed:0.336 MPH",
            "nflId:53434<br>displayName:Ja'Marr Chase<br>Player Speed:1.275 MPH",
            "nflId:54601<br>displayName:Cordell Volson<br>Player Speed:0.022 MPH"
           ],
           "marker": {
            "color": "#000000",
            "line": {
             "color": "#FB4F14",
             "width": 2
            },
            "size": 10
           },
           "mode": "markers",
           "name": "CIN",
           "type": "scatter",
           "x": [
            72.73,
            71.45,
            72.47,
            73.85,
            68.74,
            73.16,
            73.04,
            72.73,
            69.54,
            73.16,
            73.09
           ],
           "y": [
            26.59,
            35.33,
            39.06,
            29.72,
            27,
            28.17,
            32.5,
            24.87,
            30.18,
            37.18,
            31.24
           ]
          },
          {
           "hoverinfo": "none",
           "marker": {
            "color": "#CBB67C",
            "line": {
             "color": "#663831",
             "width": 2
            },
            "size": 10
           },
           "mode": "markers",
           "name": "football",
           "type": "scatter",
           "x": [
            73.8300018310547
           ],
           "y": [
            29.7099990844727
           ]
          }
         ],
         "name": "12"
        },
        {
         "data": [
          {
           "hoverinfo": "none",
           "mode": "text",
           "showlegend": false,
           "text": [
            "10",
            "20",
            "30",
            "40",
            "50",
            "40",
            "30",
            "20",
            "10"
           ],
           "textfont": {
            "color": "#ffffff",
            "family": "Courier New, monospace",
            "size": 30
           },
           "type": "scatter",
           "x": [
            20,
            30,
            40,
            50,
            60,
            70,
            80,
            90,
            100
           ],
           "y": [
            5,
            5,
            5,
            5,
            5,
            5,
            5,
            5,
            5
           ]
          },
          {
           "hoverinfo": "none",
           "mode": "text",
           "showlegend": false,
           "text": [
            "10",
            "20",
            "30",
            "40",
            "50",
            "40",
            "30",
            "20",
            "10"
           ],
           "textfont": {
            "color": "#ffffff",
            "family": "Courier New, monospace",
            "size": 30
           },
           "type": "scatter",
           "x": [
            20,
            30,
            40,
            50,
            60,
            70,
            80,
            90,
            100
           ],
           "y": [
            48.5,
            48.5,
            48.5,
            48.5,
            48.5,
            48.5,
            48.5,
            48.5,
            48.5
           ]
          },
          {
           "hoverinfo": "none",
           "line": {
            "color": "blue",
            "dash": "dash"
           },
           "showlegend": false,
           "type": "scatter",
           "x": [
            74,
            74
           ],
           "y": [
            0,
            53.5
           ]
          },
          {
           "hoverinfo": "none",
           "line": {
            "color": "yellow",
            "dash": "dash"
           },
           "showlegend": false,
           "type": "scatter",
           "x": [
            80,
            80
           ],
           "y": [
            0,
            53.5
           ]
          },
          {
           "fill": "toself",
           "fillcolor": "#000000",
           "hoverinfo": "skip",
           "line": {
            "color": "white",
            "width": 3
           },
           "mode": "lines",
           "opacity": 1,
           "showlegend": false,
           "type": "scatter",
           "x": [
            0,
            0,
            10,
            10,
            0
           ],
           "y": [
            0,
            53.5,
            53.5,
            0,
            0
           ]
          },
          {
           "fill": "toself",
           "fillcolor": "#FFB612",
           "hoverinfo": "skip",
           "line": {
            "color": "white",
            "width": 3
           },
           "mode": "lines",
           "opacity": 1,
           "showlegend": false,
           "type": "scatter",
           "x": [
            110,
            110,
            120,
            120,
            110
           ],
           "y": [
            0,
            53.5,
            53.5,
            0,
            0
           ]
          },
          {
           "hoverinfo": "text",
           "hovertext": [
            "nflId:37104<br>displayName:Cameron Heyward<br>Player Speed:0.067 MPH",
            "nflId:43325<br>displayName:Myles Jack<br>Player Speed:0.067 MPH",
            "nflId:44842<br>displayName:T.J. Watt<br>Player Speed:0.582 MPH",
            "nflId:44878<br>displayName:Ahkello Witherspoon<br>Player Speed:0.649 MPH",
            "nflId:44906<br>displayName:Cameron Sutton<br>Player Speed:1.051 MPH",
            "nflId:45395<br>displayName:Arthur Maulet<br>Player Speed:0.425 MPH",
            "nflId:46080<br>displayName:Minkah Fitzpatrick<br>Player Speed:1.655 MPH",
            "nflId:46097<br>displayName:Terrell Edmunds<br>Player Speed:2.304 MPH",
            "nflId:46902<br>displayName:Robert Spillane<br>Player Speed:0.179 MPH",
            "nflId:52971<br>displayName:Jamir Jones<br>Player Speed:0.0 MPH",
            "nflId:54549<br>displayName:DeMarvin Leal<br>Player Speed:1.163 MPH"
           ],
           "marker": {
            "color": "#FFB612",
            "line": {
             "color": "#101820",
             "width": 2
            },
            "size": 10
           },
           "mode": "markers",
           "name": "PIT",
           "type": "scatter",
           "x": [
            75.11,
            79.47,
            74.79,
            77.5,
            79.9,
            79.54,
            85.32,
            82.44,
            78.75,
            75.48,
            75.23
           ],
           "y": [
            30.77,
            28.78,
            22.87,
            22.68,
            41.71,
            37.53,
            36.46,
            27.2,
            33.22,
            34.75,
            27.05
           ]
          },
          {
           "hoverinfo": "text",
           "hovertext": [
            "nflId:42654<br>displayName:La'el Collins<br>Player Speed:0.179 MPH",
            "nflId:43344<br>displayName:Tyler Boyd<br>Player Speed:1.454 MPH",
            "nflId:43495<br>displayName:Mike Thomas<br>Player Speed:0.157 MPH",
            "nflId:43510<br>displayName:Ted Karras<br>Player Speed:0.157 MPH",
            "nflId:44860<br>displayName:Joe Mixon<br>Player Speed:0.716 MPH",
            "nflId:46163<br>displayName:Alex Cappa<br>Player Speed:0.224 MPH",
            "nflId:47794<br>displayName:Jonah Williams<br>Player Speed:0.761 MPH",
            "nflId:47835<br>displayName:Drew Sample<br>Player Speed:0.022 MPH",
            "nflId:52409<br>displayName:Joe Burrow<br>Player Speed:0.246 MPH",
            "nflId:53434<br>displayName:Ja'Marr Chase<br>Player Speed:1.029 MPH",
            "nflId:54601<br>displayName:Cordell Volson<br>Player Speed:0.022 MPH"
           ],
           "marker": {
            "color": "#000000",
            "line": {
             "color": "#FB4F14",
             "width": 2
            },
            "size": 10
           },
           "mode": "markers",
           "name": "CIN",
           "type": "scatter",
           "x": [
            72.72,
            71.51,
            72.48,
            73.85,
            68.73,
            73.17,
            73.01,
            72.73,
            69.54,
            73.21,
            73.08
           ],
           "y": [
            26.59,
            35.36,
            39.06,
            29.73,
            26.97,
            28.17,
            32.5,
            24.86,
            30.19,
            37.19,
            31.25
           ]
          },
          {
           "hoverinfo": "none",
           "marker": {
            "color": "#CBB67C",
            "line": {
             "color": "#663831",
             "width": 2
            },
            "size": 10
           },
           "mode": "markers",
           "name": "football",
           "type": "scatter",
           "x": [
            73.8300018310547
           ],
           "y": [
            29.7099990844727
           ]
          }
         ],
         "name": "13"
        },
        {
         "data": [
          {
           "hoverinfo": "none",
           "mode": "text",
           "showlegend": false,
           "text": [
            "10",
            "20",
            "30",
            "40",
            "50",
            "40",
            "30",
            "20",
            "10"
           ],
           "textfont": {
            "color": "#ffffff",
            "family": "Courier New, monospace",
            "size": 30
           },
           "type": "scatter",
           "x": [
            20,
            30,
            40,
            50,
            60,
            70,
            80,
            90,
            100
           ],
           "y": [
            5,
            5,
            5,
            5,
            5,
            5,
            5,
            5,
            5
           ]
          },
          {
           "hoverinfo": "none",
           "mode": "text",
           "showlegend": false,
           "text": [
            "10",
            "20",
            "30",
            "40",
            "50",
            "40",
            "30",
            "20",
            "10"
           ],
           "textfont": {
            "color": "#ffffff",
            "family": "Courier New, monospace",
            "size": 30
           },
           "type": "scatter",
           "x": [
            20,
            30,
            40,
            50,
            60,
            70,
            80,
            90,
            100
           ],
           "y": [
            48.5,
            48.5,
            48.5,
            48.5,
            48.5,
            48.5,
            48.5,
            48.5,
            48.5
           ]
          },
          {
           "hoverinfo": "none",
           "line": {
            "color": "blue",
            "dash": "dash"
           },
           "showlegend": false,
           "type": "scatter",
           "x": [
            74,
            74
           ],
           "y": [
            0,
            53.5
           ]
          },
          {
           "hoverinfo": "none",
           "line": {
            "color": "yellow",
            "dash": "dash"
           },
           "showlegend": false,
           "type": "scatter",
           "x": [
            80,
            80
           ],
           "y": [
            0,
            53.5
           ]
          },
          {
           "fill": "toself",
           "fillcolor": "#000000",
           "hoverinfo": "skip",
           "line": {
            "color": "white",
            "width": 3
           },
           "mode": "lines",
           "opacity": 1,
           "showlegend": false,
           "type": "scatter",
           "x": [
            0,
            0,
            10,
            10,
            0
           ],
           "y": [
            0,
            53.5,
            53.5,
            0,
            0
           ]
          },
          {
           "fill": "toself",
           "fillcolor": "#FFB612",
           "hoverinfo": "skip",
           "line": {
            "color": "white",
            "width": 3
           },
           "mode": "lines",
           "opacity": 1,
           "showlegend": false,
           "type": "scatter",
           "x": [
            110,
            110,
            120,
            120,
            110
           ],
           "y": [
            0,
            53.5,
            53.5,
            0,
            0
           ]
          },
          {
           "hoverinfo": "text",
           "hovertext": [
            "nflId:37104<br>displayName:Cameron Heyward<br>Player Speed:0.067 MPH",
            "nflId:43325<br>displayName:Myles Jack<br>Player Speed:0.067 MPH",
            "nflId:44842<br>displayName:T.J. Watt<br>Player Speed:0.492 MPH",
            "nflId:44878<br>displayName:Ahkello Witherspoon<br>Player Speed:0.671 MPH",
            "nflId:44906<br>displayName:Cameron Sutton<br>Player Speed:1.007 MPH",
            "nflId:45395<br>displayName:Arthur Maulet<br>Player Speed:0.447 MPH",
            "nflId:46080<br>displayName:Minkah Fitzpatrick<br>Player Speed:1.655 MPH",
            "nflId:46097<br>displayName:Terrell Edmunds<br>Player Speed:2.147 MPH",
            "nflId:46902<br>displayName:Robert Spillane<br>Player Speed:0.089 MPH",
            "nflId:52971<br>displayName:Jamir Jones<br>Player Speed:0.0 MPH",
            "nflId:54549<br>displayName:DeMarvin Leal<br>Player Speed:1.387 MPH"
           ],
           "marker": {
            "color": "#FFB612",
            "line": {
             "color": "#101820",
             "width": 2
            },
            "size": 10
           },
           "mode": "markers",
           "name": "PIT",
           "type": "scatter",
           "x": [
            75.1,
            79.47,
            74.76,
            77.52,
            79.94,
            79.55,
            85.38,
            82.51,
            78.75,
            75.47,
            75.17
           ],
           "y": [
            30.79,
            28.78,
            22.87,
            22.69,
            41.72,
            37.54,
            36.43,
            27.12,
            33.22,
            34.75,
            27.05
           ]
          },
          {
           "hoverinfo": "text",
           "hovertext": [
            "nflId:42654<br>displayName:La'el Collins<br>Player Speed:0.134 MPH",
            "nflId:43344<br>displayName:Tyler Boyd<br>Player Speed:1.857 MPH",
            "nflId:43495<br>displayName:Mike Thomas<br>Player Speed:0.179 MPH",
            "nflId:43510<br>displayName:Ted Karras<br>Player Speed:0.112 MPH",
            "nflId:44860<br>displayName:Joe Mixon<br>Player Speed:0.47 MPH",
            "nflId:46163<br>displayName:Alex Cappa<br>Player Speed:0.067 MPH",
            "nflId:47794<br>displayName:Jonah Williams<br>Player Speed:0.805 MPH",
            "nflId:47835<br>displayName:Drew Sample<br>Player Speed:0.022 MPH",
            "nflId:52409<br>displayName:Joe Burrow<br>Player Speed:0.358 MPH",
            "nflId:53434<br>displayName:Ja'Marr Chase<br>Player Speed:0.626 MPH",
            "nflId:54601<br>displayName:Cordell Volson<br>Player Speed:0.022 MPH"
           ],
           "marker": {
            "color": "#000000",
            "line": {
             "color": "#FB4F14",
             "width": 2
            },
            "size": 10
           },
           "mode": "markers",
           "name": "CIN",
           "type": "scatter",
           "x": [
            72.73,
            71.58,
            72.48,
            73.85,
            68.73,
            73.16,
            72.98,
            72.72,
            69.54,
            73.25,
            73.08
           ],
           "y": [
            26.59,
            35.39,
            39.04,
            29.72,
            26.94,
            28.17,
            32.51,
            24.85,
            30.21,
            37.2,
            31.25
           ]
          },
          {
           "hoverinfo": "none",
           "marker": {
            "color": "#CBB67C",
            "line": {
             "color": "#663831",
             "width": 2
            },
            "size": 10
           },
           "mode": "markers",
           "name": "football",
           "type": "scatter",
           "x": [
            73.8300018310547
           ],
           "y": [
            29.7099990844727
           ]
          }
         ],
         "name": "14"
        },
        {
         "data": [
          {
           "hoverinfo": "none",
           "mode": "text",
           "showlegend": false,
           "text": [
            "10",
            "20",
            "30",
            "40",
            "50",
            "40",
            "30",
            "20",
            "10"
           ],
           "textfont": {
            "color": "#ffffff",
            "family": "Courier New, monospace",
            "size": 30
           },
           "type": "scatter",
           "x": [
            20,
            30,
            40,
            50,
            60,
            70,
            80,
            90,
            100
           ],
           "y": [
            5,
            5,
            5,
            5,
            5,
            5,
            5,
            5,
            5
           ]
          },
          {
           "hoverinfo": "none",
           "mode": "text",
           "showlegend": false,
           "text": [
            "10",
            "20",
            "30",
            "40",
            "50",
            "40",
            "30",
            "20",
            "10"
           ],
           "textfont": {
            "color": "#ffffff",
            "family": "Courier New, monospace",
            "size": 30
           },
           "type": "scatter",
           "x": [
            20,
            30,
            40,
            50,
            60,
            70,
            80,
            90,
            100
           ],
           "y": [
            48.5,
            48.5,
            48.5,
            48.5,
            48.5,
            48.5,
            48.5,
            48.5,
            48.5
           ]
          },
          {
           "hoverinfo": "none",
           "line": {
            "color": "blue",
            "dash": "dash"
           },
           "showlegend": false,
           "type": "scatter",
           "x": [
            74,
            74
           ],
           "y": [
            0,
            53.5
           ]
          },
          {
           "hoverinfo": "none",
           "line": {
            "color": "yellow",
            "dash": "dash"
           },
           "showlegend": false,
           "type": "scatter",
           "x": [
            80,
            80
           ],
           "y": [
            0,
            53.5
           ]
          },
          {
           "fill": "toself",
           "fillcolor": "#000000",
           "hoverinfo": "skip",
           "line": {
            "color": "white",
            "width": 3
           },
           "mode": "lines",
           "opacity": 1,
           "showlegend": false,
           "type": "scatter",
           "x": [
            0,
            0,
            10,
            10,
            0
           ],
           "y": [
            0,
            53.5,
            53.5,
            0,
            0
           ]
          },
          {
           "fill": "toself",
           "fillcolor": "#FFB612",
           "hoverinfo": "skip",
           "line": {
            "color": "white",
            "width": 3
           },
           "mode": "lines",
           "opacity": 1,
           "showlegend": false,
           "type": "scatter",
           "x": [
            110,
            110,
            120,
            120,
            110
           ],
           "y": [
            0,
            53.5,
            53.5,
            0,
            0
           ]
          },
          {
           "hoverinfo": "text",
           "hovertext": [
            "nflId:37104<br>displayName:Cameron Heyward<br>Player Speed:0.067 MPH",
            "nflId:43325<br>displayName:Myles Jack<br>Player Speed:0.045 MPH",
            "nflId:44842<br>displayName:T.J. Watt<br>Player Speed:0.425 MPH",
            "nflId:44878<br>displayName:Ahkello Witherspoon<br>Player Speed:0.693 MPH",
            "nflId:44906<br>displayName:Cameron Sutton<br>Player Speed:0.984 MPH",
            "nflId:45395<br>displayName:Arthur Maulet<br>Player Speed:0.582 MPH",
            "nflId:46080<br>displayName:Minkah Fitzpatrick<br>Player Speed:1.611 MPH",
            "nflId:46097<br>displayName:Terrell Edmunds<br>Player Speed:2.036 MPH",
            "nflId:46902<br>displayName:Robert Spillane<br>Player Speed:0.022 MPH",
            "nflId:52971<br>displayName:Jamir Jones<br>Player Speed:0.067 MPH",
            "nflId:54549<br>displayName:DeMarvin Leal<br>Player Speed:1.454 MPH"
           ],
           "marker": {
            "color": "#FFB612",
            "line": {
             "color": "#101820",
             "width": 2
            },
            "size": 10
           },
           "mode": "markers",
           "name": "PIT",
           "type": "scatter",
           "x": [
            75.1,
            79.46,
            74.74,
            77.55,
            79.99,
            79.55,
            85.45,
            82.58,
            78.75,
            75.46,
            75.11
           ],
           "y": [
            30.79,
            28.78,
            22.87,
            22.71,
            41.73,
            37.57,
            36.4,
            27.06,
            33.22,
            34.75,
            27.05
           ]
          },
          {
           "hoverinfo": "text",
           "hovertext": [
            "nflId:42654<br>displayName:La'el Collins<br>Player Speed:0.112 MPH",
            "nflId:43344<br>displayName:Tyler Boyd<br>Player Speed:2.237 MPH",
            "nflId:43495<br>displayName:Mike Thomas<br>Player Speed:0.201 MPH",
            "nflId:43510<br>displayName:Ted Karras<br>Player Speed:0.112 MPH",
            "nflId:44860<br>displayName:Joe Mixon<br>Player Speed:0.246 MPH",
            "nflId:46163<br>displayName:Alex Cappa<br>Player Speed:0.336 MPH",
            "nflId:47794<br>displayName:Jonah Williams<br>Player Speed:0.917 MPH",
            "nflId:47835<br>displayName:Drew Sample<br>Player Speed:0.045 MPH",
            "nflId:52409<br>displayName:Joe Burrow<br>Player Speed:0.47 MPH",
            "nflId:53434<br>displayName:Ja'Marr Chase<br>Player Speed:0.268 MPH",
            "nflId:54601<br>displayName:Cordell Volson<br>Player Speed:0.022 MPH"
           ],
           "marker": {
            "color": "#000000",
            "line": {
             "color": "#FB4F14",
             "width": 2
            },
            "size": 10
           },
           "mode": "markers",
           "name": "CIN",
           "type": "scatter",
           "x": [
            72.73,
            71.67,
            72.49,
            73.85,
            68.73,
            73.13,
            72.94,
            72.71,
            69.55,
            73.26,
            73.08
           ],
           "y": [
            26.58,
            35.44,
            39.03,
            29.71,
            26.93,
            28.18,
            32.53,
            24.86,
            30.21,
            37.21,
            31.26
           ]
          },
          {
           "hoverinfo": "none",
           "marker": {
            "color": "#CBB67C",
            "line": {
             "color": "#663831",
             "width": 2
            },
            "size": 10
           },
           "mode": "markers",
           "name": "football",
           "type": "scatter",
           "x": [
            73.8300018310547
           ],
           "y": [
            29.7099990844727
           ]
          }
         ],
         "name": "15"
        },
        {
         "data": [
          {
           "hoverinfo": "none",
           "mode": "text",
           "showlegend": false,
           "text": [
            "10",
            "20",
            "30",
            "40",
            "50",
            "40",
            "30",
            "20",
            "10"
           ],
           "textfont": {
            "color": "#ffffff",
            "family": "Courier New, monospace",
            "size": 30
           },
           "type": "scatter",
           "x": [
            20,
            30,
            40,
            50,
            60,
            70,
            80,
            90,
            100
           ],
           "y": [
            5,
            5,
            5,
            5,
            5,
            5,
            5,
            5,
            5
           ]
          },
          {
           "hoverinfo": "none",
           "mode": "text",
           "showlegend": false,
           "text": [
            "10",
            "20",
            "30",
            "40",
            "50",
            "40",
            "30",
            "20",
            "10"
           ],
           "textfont": {
            "color": "#ffffff",
            "family": "Courier New, monospace",
            "size": 30
           },
           "type": "scatter",
           "x": [
            20,
            30,
            40,
            50,
            60,
            70,
            80,
            90,
            100
           ],
           "y": [
            48.5,
            48.5,
            48.5,
            48.5,
            48.5,
            48.5,
            48.5,
            48.5,
            48.5
           ]
          },
          {
           "hoverinfo": "none",
           "line": {
            "color": "blue",
            "dash": "dash"
           },
           "showlegend": false,
           "type": "scatter",
           "x": [
            74,
            74
           ],
           "y": [
            0,
            53.5
           ]
          },
          {
           "hoverinfo": "none",
           "line": {
            "color": "yellow",
            "dash": "dash"
           },
           "showlegend": false,
           "type": "scatter",
           "x": [
            80,
            80
           ],
           "y": [
            0,
            53.5
           ]
          },
          {
           "fill": "toself",
           "fillcolor": "#000000",
           "hoverinfo": "skip",
           "line": {
            "color": "white",
            "width": 3
           },
           "mode": "lines",
           "opacity": 1,
           "showlegend": false,
           "type": "scatter",
           "x": [
            0,
            0,
            10,
            10,
            0
           ],
           "y": [
            0,
            53.5,
            53.5,
            0,
            0
           ]
          },
          {
           "fill": "toself",
           "fillcolor": "#FFB612",
           "hoverinfo": "skip",
           "line": {
            "color": "white",
            "width": 3
           },
           "mode": "lines",
           "opacity": 1,
           "showlegend": false,
           "type": "scatter",
           "x": [
            110,
            110,
            120,
            120,
            110
           ],
           "y": [
            0,
            53.5,
            53.5,
            0,
            0
           ]
          },
          {
           "hoverinfo": "text",
           "hovertext": [
            "nflId:37104<br>displayName:Cameron Heyward<br>Player Speed:0.067 MPH",
            "nflId:43325<br>displayName:Myles Jack<br>Player Speed:0.022 MPH",
            "nflId:44842<br>displayName:T.J. Watt<br>Player Speed:0.358 MPH",
            "nflId:44878<br>displayName:Ahkello Witherspoon<br>Player Speed:0.693 MPH",
            "nflId:44906<br>displayName:Cameron Sutton<br>Player Speed:0.85 MPH",
            "nflId:45395<br>displayName:Arthur Maulet<br>Player Speed:0.738 MPH",
            "nflId:46080<br>displayName:Minkah Fitzpatrick<br>Player Speed:1.476 MPH",
            "nflId:46097<br>displayName:Terrell Edmunds<br>Player Speed:1.946 MPH",
            "nflId:46902<br>displayName:Robert Spillane<br>Player Speed:0.045 MPH",
            "nflId:52971<br>displayName:Jamir Jones<br>Player Speed:0.291 MPH",
            "nflId:54549<br>displayName:DeMarvin Leal<br>Player Speed:1.476 MPH"
           ],
           "marker": {
            "color": "#FFB612",
            "line": {
             "color": "#101820",
             "width": 2
            },
            "size": 10
           },
           "mode": "markers",
           "name": "PIT",
           "type": "scatter",
           "x": [
            75.09,
            79.47,
            74.73,
            77.58,
            80.02,
            79.54,
            85.51,
            82.65,
            78.75,
            75.46,
            75.04
           ],
           "y": [
            30.79,
            28.79,
            22.88,
            22.71,
            41.74,
            37.59,
            36.37,
            27.02,
            33.22,
            34.76,
            27.05
           ]
          },
          {
           "hoverinfo": "text",
           "hovertext": [
            "nflId:42654<br>displayName:La'el Collins<br>Player Speed:0.089 MPH",
            "nflId:43344<br>displayName:Tyler Boyd<br>Player Speed:2.55 MPH",
            "nflId:43495<br>displayName:Mike Thomas<br>Player Speed:0.246 MPH",
            "nflId:43510<br>displayName:Ted Karras<br>Player Speed:0.067 MPH",
            "nflId:44860<br>displayName:Joe Mixon<br>Player Speed:0.112 MPH",
            "nflId:46163<br>displayName:Alex Cappa<br>Player Speed:0.425 MPH",
            "nflId:47794<br>displayName:Jonah Williams<br>Player Speed:1.007 MPH",
            "nflId:47835<br>displayName:Drew Sample<br>Player Speed:0.022 MPH",
            "nflId:52409<br>displayName:Joe Burrow<br>Player Speed:0.649 MPH",
            "nflId:53434<br>displayName:Ja'Marr Chase<br>Player Speed:0.582 MPH",
            "nflId:54601<br>displayName:Cordell Volson<br>Player Speed:0.022 MPH"
           ],
           "marker": {
            "color": "#000000",
            "line": {
             "color": "#FB4F14",
             "width": 2
            },
            "size": 10
           },
           "mode": "markers",
           "name": "CIN",
           "type": "scatter",
           "x": [
            72.73,
            71.77,
            72.5,
            73.81,
            68.73,
            73.1,
            72.9,
            72.71,
            69.58,
            73.24,
            73.08
           ],
           "y": [
            26.58,
            35.49,
            39.01,
            29.7,
            26.92,
            28.18,
            32.56,
            24.86,
            30.22,
            37.22,
            31.26
           ]
          },
          {
           "hoverinfo": "none",
           "marker": {
            "color": "#CBB67C",
            "line": {
             "color": "#663831",
             "width": 2
            },
            "size": 10
           },
           "mode": "markers",
           "name": "football",
           "type": "scatter",
           "x": [
            73.8199996948242
           ],
           "y": [
            29.7099990844727
           ]
          }
         ],
         "name": "16"
        },
        {
         "data": [
          {
           "hoverinfo": "none",
           "mode": "text",
           "showlegend": false,
           "text": [
            "10",
            "20",
            "30",
            "40",
            "50",
            "40",
            "30",
            "20",
            "10"
           ],
           "textfont": {
            "color": "#ffffff",
            "family": "Courier New, monospace",
            "size": 30
           },
           "type": "scatter",
           "x": [
            20,
            30,
            40,
            50,
            60,
            70,
            80,
            90,
            100
           ],
           "y": [
            5,
            5,
            5,
            5,
            5,
            5,
            5,
            5,
            5
           ]
          },
          {
           "hoverinfo": "none",
           "mode": "text",
           "showlegend": false,
           "text": [
            "10",
            "20",
            "30",
            "40",
            "50",
            "40",
            "30",
            "20",
            "10"
           ],
           "textfont": {
            "color": "#ffffff",
            "family": "Courier New, monospace",
            "size": 30
           },
           "type": "scatter",
           "x": [
            20,
            30,
            40,
            50,
            60,
            70,
            80,
            90,
            100
           ],
           "y": [
            48.5,
            48.5,
            48.5,
            48.5,
            48.5,
            48.5,
            48.5,
            48.5,
            48.5
           ]
          },
          {
           "hoverinfo": "none",
           "line": {
            "color": "blue",
            "dash": "dash"
           },
           "showlegend": false,
           "type": "scatter",
           "x": [
            74,
            74
           ],
           "y": [
            0,
            53.5
           ]
          },
          {
           "hoverinfo": "none",
           "line": {
            "color": "yellow",
            "dash": "dash"
           },
           "showlegend": false,
           "type": "scatter",
           "x": [
            80,
            80
           ],
           "y": [
            0,
            53.5
           ]
          },
          {
           "fill": "toself",
           "fillcolor": "#000000",
           "hoverinfo": "skip",
           "line": {
            "color": "white",
            "width": 3
           },
           "mode": "lines",
           "opacity": 1,
           "showlegend": false,
           "type": "scatter",
           "x": [
            0,
            0,
            10,
            10,
            0
           ],
           "y": [
            0,
            53.5,
            53.5,
            0,
            0
           ]
          },
          {
           "fill": "toself",
           "fillcolor": "#FFB612",
           "hoverinfo": "skip",
           "line": {
            "color": "white",
            "width": 3
           },
           "mode": "lines",
           "opacity": 1,
           "showlegend": false,
           "type": "scatter",
           "x": [
            110,
            110,
            120,
            120,
            110
           ],
           "y": [
            0,
            53.5,
            53.5,
            0,
            0
           ]
          },
          {
           "hoverinfo": "text",
           "hovertext": [
            "nflId:37104<br>displayName:Cameron Heyward<br>Player Speed:0.067 MPH",
            "nflId:43325<br>displayName:Myles Jack<br>Player Speed:0.022 MPH",
            "nflId:44842<br>displayName:T.J. Watt<br>Player Speed:0.268 MPH",
            "nflId:44878<br>displayName:Ahkello Witherspoon<br>Player Speed:0.783 MPH",
            "nflId:44906<br>displayName:Cameron Sutton<br>Player Speed:0.805 MPH",
            "nflId:45395<br>displayName:Arthur Maulet<br>Player Speed:0.94 MPH",
            "nflId:46080<br>displayName:Minkah Fitzpatrick<br>Player Speed:1.297 MPH",
            "nflId:46097<br>displayName:Terrell Edmunds<br>Player Speed:1.901 MPH",
            "nflId:46902<br>displayName:Robert Spillane<br>Player Speed:0.045 MPH",
            "nflId:52971<br>displayName:Jamir Jones<br>Player Speed:0.537 MPH",
            "nflId:54549<br>displayName:DeMarvin Leal<br>Player Speed:1.476 MPH"
           ],
           "marker": {
            "color": "#FFB612",
            "line": {
             "color": "#101820",
             "width": 2
            },
            "size": 10
           },
           "mode": "markers",
           "name": "PIT",
           "type": "scatter",
           "x": [
            75.08,
            79.47,
            74.72,
            77.61,
            80.06,
            79.51,
            85.56,
            82.74,
            78.76,
            75.44,
            74.98
           ],
           "y": [
            30.78,
            28.79,
            22.89,
            22.72,
            41.76,
            37.62,
            36.34,
            26.99,
            33.22,
            34.76,
            27.06
           ]
          },
          {
           "hoverinfo": "text",
           "hovertext": [
            "nflId:42654<br>displayName:La'el Collins<br>Player Speed:0.067 MPH",
            "nflId:43344<br>displayName:Tyler Boyd<br>Player Speed:2.863 MPH",
            "nflId:43495<br>displayName:Mike Thomas<br>Player Speed:0.313 MPH",
            "nflId:43510<br>displayName:Ted Karras<br>Player Speed:0.089 MPH",
            "nflId:44860<br>displayName:Joe Mixon<br>Player Speed:0.313 MPH",
            "nflId:46163<br>displayName:Alex Cappa<br>Player Speed:0.403 MPH",
            "nflId:47794<br>displayName:Jonah Williams<br>Player Speed:0.917 MPH",
            "nflId:47835<br>displayName:Drew Sample<br>Player Speed:0.022 MPH",
            "nflId:52409<br>displayName:Joe Burrow<br>Player Speed:0.671 MPH",
            "nflId:53434<br>displayName:Ja'Marr Chase<br>Player Speed:1.029 MPH",
            "nflId:54601<br>displayName:Cordell Volson<br>Player Speed:0.022 MPH"
           ],
           "marker": {
            "color": "#000000",
            "line": {
             "color": "#FB4F14",
             "width": 2
            },
            "size": 10
           },
           "mode": "markers",
           "name": "CIN",
           "type": "scatter",
           "x": [
            72.73,
            71.88,
            72.51,
            73.8,
            68.74,
            73.09,
            72.87,
            72.71,
            69.61,
            73.21,
            73.07
           ],
           "y": [
            26.58,
            35.54,
            38.98,
            29.69,
            26.93,
            28.17,
            32.57,
            24.85,
            30.21,
            37.24,
            31.26
           ]
          },
          {
           "hoverinfo": "none",
           "marker": {
            "color": "#CBB67C",
            "line": {
             "color": "#663831",
             "width": 2
            },
            "size": 10
           },
           "mode": "markers",
           "name": "football",
           "type": "scatter",
           "x": [
            73.8199996948242
           ],
           "y": [
            29.7099990844727
           ]
          }
         ],
         "name": "17"
        },
        {
         "data": [
          {
           "hoverinfo": "none",
           "mode": "text",
           "showlegend": false,
           "text": [
            "10",
            "20",
            "30",
            "40",
            "50",
            "40",
            "30",
            "20",
            "10"
           ],
           "textfont": {
            "color": "#ffffff",
            "family": "Courier New, monospace",
            "size": 30
           },
           "type": "scatter",
           "x": [
            20,
            30,
            40,
            50,
            60,
            70,
            80,
            90,
            100
           ],
           "y": [
            5,
            5,
            5,
            5,
            5,
            5,
            5,
            5,
            5
           ]
          },
          {
           "hoverinfo": "none",
           "mode": "text",
           "showlegend": false,
           "text": [
            "10",
            "20",
            "30",
            "40",
            "50",
            "40",
            "30",
            "20",
            "10"
           ],
           "textfont": {
            "color": "#ffffff",
            "family": "Courier New, monospace",
            "size": 30
           },
           "type": "scatter",
           "x": [
            20,
            30,
            40,
            50,
            60,
            70,
            80,
            90,
            100
           ],
           "y": [
            48.5,
            48.5,
            48.5,
            48.5,
            48.5,
            48.5,
            48.5,
            48.5,
            48.5
           ]
          },
          {
           "hoverinfo": "none",
           "line": {
            "color": "blue",
            "dash": "dash"
           },
           "showlegend": false,
           "type": "scatter",
           "x": [
            74,
            74
           ],
           "y": [
            0,
            53.5
           ]
          },
          {
           "hoverinfo": "none",
           "line": {
            "color": "yellow",
            "dash": "dash"
           },
           "showlegend": false,
           "type": "scatter",
           "x": [
            80,
            80
           ],
           "y": [
            0,
            53.5
           ]
          },
          {
           "fill": "toself",
           "fillcolor": "#000000",
           "hoverinfo": "skip",
           "line": {
            "color": "white",
            "width": 3
           },
           "mode": "lines",
           "opacity": 1,
           "showlegend": false,
           "type": "scatter",
           "x": [
            0,
            0,
            10,
            10,
            0
           ],
           "y": [
            0,
            53.5,
            53.5,
            0,
            0
           ]
          },
          {
           "fill": "toself",
           "fillcolor": "#FFB612",
           "hoverinfo": "skip",
           "line": {
            "color": "white",
            "width": 3
           },
           "mode": "lines",
           "opacity": 1,
           "showlegend": false,
           "type": "scatter",
           "x": [
            110,
            110,
            120,
            120,
            110
           ],
           "y": [
            0,
            53.5,
            53.5,
            0,
            0
           ]
          },
          {
           "hoverinfo": "text",
           "hovertext": [
            "nflId:37104<br>displayName:Cameron Heyward<br>Player Speed:0.045 MPH",
            "nflId:43325<br>displayName:Myles Jack<br>Player Speed:0.045 MPH",
            "nflId:44842<br>displayName:T.J. Watt<br>Player Speed:0.179 MPH",
            "nflId:44878<br>displayName:Ahkello Witherspoon<br>Player Speed:0.872 MPH",
            "nflId:44906<br>displayName:Cameron Sutton<br>Player Speed:0.783 MPH",
            "nflId:45395<br>displayName:Arthur Maulet<br>Player Speed:1.096 MPH",
            "nflId:46080<br>displayName:Minkah Fitzpatrick<br>Player Speed:1.163 MPH",
            "nflId:46097<br>displayName:Terrell Edmunds<br>Player Speed:1.969 MPH",
            "nflId:46902<br>displayName:Robert Spillane<br>Player Speed:0.112 MPH",
            "nflId:52971<br>displayName:Jamir Jones<br>Player Speed:0.716 MPH",
            "nflId:54549<br>displayName:DeMarvin Leal<br>Player Speed:1.409 MPH"
           ],
           "marker": {
            "color": "#FFB612",
            "line": {
             "color": "#101820",
             "width": 2
            },
            "size": 10
           },
           "mode": "markers",
           "name": "PIT",
           "type": "scatter",
           "x": [
            75.07,
            79.47,
            74.72,
            77.65,
            80.09,
            79.48,
            85.61,
            82.82,
            78.76,
            75.42,
            74.91
           ],
           "y": [
            30.78,
            28.78,
            22.9,
            22.72,
            41.78,
            37.66,
            36.32,
            26.98,
            33.24,
            34.77,
            27.05
           ]
          },
          {
           "hoverinfo": "text",
           "hovertext": [
            "nflId:42654<br>displayName:La'el Collins<br>Player Speed:0.067 MPH",
            "nflId:43344<br>displayName:Tyler Boyd<br>Player Speed:3.065 MPH",
            "nflId:43495<br>displayName:Mike Thomas<br>Player Speed:0.425 MPH",
            "nflId:43510<br>displayName:Ted Karras<br>Player Speed:0.112 MPH",
            "nflId:44860<br>displayName:Joe Mixon<br>Player Speed:0.514 MPH",
            "nflId:46163<br>displayName:Alex Cappa<br>Player Speed:0.358 MPH",
            "nflId:47794<br>displayName:Jonah Williams<br>Player Speed:0.85 MPH",
            "nflId:47835<br>displayName:Drew Sample<br>Player Speed:0.022 MPH",
            "nflId:52409<br>displayName:Joe Burrow<br>Player Speed:0.828 MPH",
            "nflId:53434<br>displayName:Ja'Marr Chase<br>Player Speed:1.499 MPH",
            "nflId:54601<br>displayName:Cordell Volson<br>Player Speed:0.0 MPH"
           ],
           "marker": {
            "color": "#000000",
            "line": {
             "color": "#FB4F14",
             "width": 2
            },
            "size": 10
           },
           "mode": "markers",
           "name": "CIN",
           "type": "scatter",
           "x": [
            72.73,
            72,
            72.53,
            73.77,
            68.75,
            73.09,
            72.84,
            72.71,
            69.64,
            73.15,
            73.06
           ],
           "y": [
            26.58,
            35.6,
            38.94,
            29.69,
            26.95,
            28.17,
            32.58,
            24.84,
            30.19,
            37.24,
            31.26
           ]
          },
          {
           "hoverinfo": "none",
           "marker": {
            "color": "#CBB67C",
            "line": {
             "color": "#663831",
             "width": 2
            },
            "size": 10
           },
           "mode": "markers",
           "name": "football",
           "type": "scatter",
           "x": [
            73.8199996948242
           ],
           "y": [
            29.7099990844727
           ]
          }
         ],
         "name": "18"
        },
        {
         "data": [
          {
           "hoverinfo": "none",
           "mode": "text",
           "showlegend": false,
           "text": [
            "10",
            "20",
            "30",
            "40",
            "50",
            "40",
            "30",
            "20",
            "10"
           ],
           "textfont": {
            "color": "#ffffff",
            "family": "Courier New, monospace",
            "size": 30
           },
           "type": "scatter",
           "x": [
            20,
            30,
            40,
            50,
            60,
            70,
            80,
            90,
            100
           ],
           "y": [
            5,
            5,
            5,
            5,
            5,
            5,
            5,
            5,
            5
           ]
          },
          {
           "hoverinfo": "none",
           "mode": "text",
           "showlegend": false,
           "text": [
            "10",
            "20",
            "30",
            "40",
            "50",
            "40",
            "30",
            "20",
            "10"
           ],
           "textfont": {
            "color": "#ffffff",
            "family": "Courier New, monospace",
            "size": 30
           },
           "type": "scatter",
           "x": [
            20,
            30,
            40,
            50,
            60,
            70,
            80,
            90,
            100
           ],
           "y": [
            48.5,
            48.5,
            48.5,
            48.5,
            48.5,
            48.5,
            48.5,
            48.5,
            48.5
           ]
          },
          {
           "hoverinfo": "none",
           "line": {
            "color": "blue",
            "dash": "dash"
           },
           "showlegend": false,
           "type": "scatter",
           "x": [
            74,
            74
           ],
           "y": [
            0,
            53.5
           ]
          },
          {
           "hoverinfo": "none",
           "line": {
            "color": "yellow",
            "dash": "dash"
           },
           "showlegend": false,
           "type": "scatter",
           "x": [
            80,
            80
           ],
           "y": [
            0,
            53.5
           ]
          },
          {
           "fill": "toself",
           "fillcolor": "#000000",
           "hoverinfo": "skip",
           "line": {
            "color": "white",
            "width": 3
           },
           "mode": "lines",
           "opacity": 1,
           "showlegend": false,
           "type": "scatter",
           "x": [
            0,
            0,
            10,
            10,
            0
           ],
           "y": [
            0,
            53.5,
            53.5,
            0,
            0
           ]
          },
          {
           "fill": "toself",
           "fillcolor": "#FFB612",
           "hoverinfo": "skip",
           "line": {
            "color": "white",
            "width": 3
           },
           "mode": "lines",
           "opacity": 1,
           "showlegend": false,
           "type": "scatter",
           "x": [
            110,
            110,
            120,
            120,
            110
           ],
           "y": [
            0,
            53.5,
            53.5,
            0,
            0
           ]
          },
          {
           "hoverinfo": "text",
           "hovertext": [
            "nflId:37104<br>displayName:Cameron Heyward<br>Player Speed:0.045 MPH",
            "nflId:43325<br>displayName:Myles Jack<br>Player Speed:0.045 MPH",
            "nflId:44842<br>displayName:T.J. Watt<br>Player Speed:0.045 MPH",
            "nflId:44878<br>displayName:Ahkello Witherspoon<br>Player Speed:0.984 MPH",
            "nflId:44906<br>displayName:Cameron Sutton<br>Player Speed:0.783 MPH",
            "nflId:45395<br>displayName:Arthur Maulet<br>Player Speed:1.253 MPH",
            "nflId:46080<br>displayName:Minkah Fitzpatrick<br>Player Speed:1.029 MPH",
            "nflId:46097<br>displayName:Terrell Edmunds<br>Player Speed:2.08 MPH",
            "nflId:46902<br>displayName:Robert Spillane<br>Player Speed:0.067 MPH",
            "nflId:52971<br>displayName:Jamir Jones<br>Player Speed:0.872 MPH",
            "nflId:54549<br>displayName:DeMarvin Leal<br>Player Speed:1.342 MPH"
           ],
           "marker": {
            "color": "#FFB612",
            "line": {
             "color": "#101820",
             "width": 2
            },
            "size": 10
           },
           "mode": "markers",
           "name": "PIT",
           "type": "scatter",
           "x": [
            75.07,
            79.48,
            74.71,
            77.69,
            80.11,
            79.44,
            85.65,
            82.92,
            78.77,
            75.39,
            74.85
           ],
           "y": [
            30.78,
            28.78,
            22.9,
            22.72,
            41.8,
            37.69,
            36.29,
            26.98,
            33.24,
            34.79,
            27.05
           ]
          },
          {
           "hoverinfo": "text",
           "hovertext": [
            "nflId:42654<br>displayName:La'el Collins<br>Player Speed:0.045 MPH",
            "nflId:43344<br>displayName:Tyler Boyd<br>Player Speed:3.288 MPH",
            "nflId:43495<br>displayName:Mike Thomas<br>Player Speed:0.537 MPH",
            "nflId:43510<br>displayName:Ted Karras<br>Player Speed:0.134 MPH",
            "nflId:44860<br>displayName:Joe Mixon<br>Player Speed:0.716 MPH",
            "nflId:46163<br>displayName:Alex Cappa<br>Player Speed:0.492 MPH",
            "nflId:47794<br>displayName:Jonah Williams<br>Player Speed:0.783 MPH",
            "nflId:47835<br>displayName:Drew Sample<br>Player Speed:0.022 MPH",
            "nflId:52409<br>displayName:Joe Burrow<br>Player Speed:0.94 MPH",
            "nflId:53434<br>displayName:Ja'Marr Chase<br>Player Speed:1.879 MPH",
            "nflId:54601<br>displayName:Cordell Volson<br>Player Speed:0.0 MPH"
           ],
           "marker": {
            "color": "#000000",
            "line": {
             "color": "#FB4F14",
             "width": 2
            },
            "size": 10
           },
           "mode": "markers",
           "name": "CIN",
           "type": "scatter",
           "x": [
            72.73,
            72.12,
            72.53,
            73.74,
            68.76,
            73.04,
            72.82,
            72.71,
            69.66,
            73.07,
            73.05
           ],
           "y": [
            26.58,
            35.67,
            38.91,
            29.7,
            26.97,
            28.2,
            32.6,
            24.84,
            30.16,
            37.25,
            31.26
           ]
          },
          {
           "hoverinfo": "none",
           "marker": {
            "color": "#CBB67C",
            "line": {
             "color": "#663831",
             "width": 2
            },
            "size": 10
           },
           "mode": "markers",
           "name": "football",
           "type": "scatter",
           "x": [
            73.8199996948242
           ],
           "y": [
            29.7099990844727
           ]
          }
         ],
         "name": "19"
        },
        {
         "data": [
          {
           "hoverinfo": "none",
           "mode": "text",
           "showlegend": false,
           "text": [
            "10",
            "20",
            "30",
            "40",
            "50",
            "40",
            "30",
            "20",
            "10"
           ],
           "textfont": {
            "color": "#ffffff",
            "family": "Courier New, monospace",
            "size": 30
           },
           "type": "scatter",
           "x": [
            20,
            30,
            40,
            50,
            60,
            70,
            80,
            90,
            100
           ],
           "y": [
            5,
            5,
            5,
            5,
            5,
            5,
            5,
            5,
            5
           ]
          },
          {
           "hoverinfo": "none",
           "mode": "text",
           "showlegend": false,
           "text": [
            "10",
            "20",
            "30",
            "40",
            "50",
            "40",
            "30",
            "20",
            "10"
           ],
           "textfont": {
            "color": "#ffffff",
            "family": "Courier New, monospace",
            "size": 30
           },
           "type": "scatter",
           "x": [
            20,
            30,
            40,
            50,
            60,
            70,
            80,
            90,
            100
           ],
           "y": [
            48.5,
            48.5,
            48.5,
            48.5,
            48.5,
            48.5,
            48.5,
            48.5,
            48.5
           ]
          },
          {
           "hoverinfo": "none",
           "line": {
            "color": "blue",
            "dash": "dash"
           },
           "showlegend": false,
           "type": "scatter",
           "x": [
            74,
            74
           ],
           "y": [
            0,
            53.5
           ]
          },
          {
           "hoverinfo": "none",
           "line": {
            "color": "yellow",
            "dash": "dash"
           },
           "showlegend": false,
           "type": "scatter",
           "x": [
            80,
            80
           ],
           "y": [
            0,
            53.5
           ]
          },
          {
           "fill": "toself",
           "fillcolor": "#000000",
           "hoverinfo": "skip",
           "line": {
            "color": "white",
            "width": 3
           },
           "mode": "lines",
           "opacity": 1,
           "showlegend": false,
           "type": "scatter",
           "x": [
            0,
            0,
            10,
            10,
            0
           ],
           "y": [
            0,
            53.5,
            53.5,
            0,
            0
           ]
          },
          {
           "fill": "toself",
           "fillcolor": "#FFB612",
           "hoverinfo": "skip",
           "line": {
            "color": "white",
            "width": 3
           },
           "mode": "lines",
           "opacity": 1,
           "showlegend": false,
           "type": "scatter",
           "x": [
            110,
            110,
            120,
            120,
            110
           ],
           "y": [
            0,
            53.5,
            53.5,
            0,
            0
           ]
          },
          {
           "hoverinfo": "text",
           "hovertext": [
            "nflId:37104<br>displayName:Cameron Heyward<br>Player Speed:0.045 MPH",
            "nflId:43325<br>displayName:Myles Jack<br>Player Speed:0.045 MPH",
            "nflId:44842<br>displayName:T.J. Watt<br>Player Speed:0.089 MPH",
            "nflId:44878<br>displayName:Ahkello Witherspoon<br>Player Speed:1.074 MPH",
            "nflId:44906<br>displayName:Cameron Sutton<br>Player Speed:0.805 MPH",
            "nflId:45395<br>displayName:Arthur Maulet<br>Player Speed:1.365 MPH",
            "nflId:46080<br>displayName:Minkah Fitzpatrick<br>Player Speed:0.984 MPH",
            "nflId:46097<br>displayName:Terrell Edmunds<br>Player Speed:2.237 MPH",
            "nflId:46902<br>displayName:Robert Spillane<br>Player Speed:0.089 MPH",
            "nflId:52971<br>displayName:Jamir Jones<br>Player Speed:0.895 MPH",
            "nflId:54549<br>displayName:DeMarvin Leal<br>Player Speed:1.275 MPH"
           ],
           "marker": {
            "color": "#FFB612",
            "line": {
             "color": "#101820",
             "width": 2
            },
            "size": 10
           },
           "mode": "markers",
           "name": "PIT",
           "type": "scatter",
           "x": [
            75.07,
            79.48,
            74.72,
            77.73,
            80.14,
            79.4,
            85.7,
            83.02,
            78.76,
            75.36,
            74.79
           ],
           "y": [
            30.78,
            28.78,
            22.9,
            22.72,
            41.82,
            37.73,
            36.28,
            27,
            33.24,
            34.81,
            27.04
           ]
          },
          {
           "hoverinfo": "text",
           "hovertext": [
            "nflId:42654<br>displayName:La'el Collins<br>Player Speed:0.045 MPH",
            "nflId:43344<br>displayName:Tyler Boyd<br>Player Speed:3.445 MPH",
            "nflId:43495<br>displayName:Mike Thomas<br>Player Speed:0.693 MPH",
            "nflId:43510<br>displayName:Ted Karras<br>Player Speed:0.157 MPH",
            "nflId:44860<br>displayName:Joe Mixon<br>Player Speed:0.828 MPH",
            "nflId:46163<br>displayName:Alex Cappa<br>Player Speed:0.537 MPH",
            "nflId:47794<br>displayName:Jonah Williams<br>Player Speed:0.693 MPH",
            "nflId:47835<br>displayName:Drew Sample<br>Player Speed:0.022 MPH",
            "nflId:52409<br>displayName:Joe Burrow<br>Player Speed:0.94 MPH",
            "nflId:53434<br>displayName:Ja'Marr Chase<br>Player Speed:2.237 MPH",
            "nflId:54601<br>displayName:Cordell Volson<br>Player Speed:0.0 MPH"
           ],
           "marker": {
            "color": "#000000",
            "line": {
             "color": "#FB4F14",
             "width": 2
            },
            "size": 10
           },
           "mode": "markers",
           "name": "CIN",
           "type": "scatter",
           "x": [
            72.73,
            72.25,
            72.54,
            73.72,
            68.78,
            73.01,
            72.79,
            72.71,
            69.69,
            72.98,
            73.05
           ],
           "y": [
            26.58,
            35.75,
            38.88,
            29.67,
            27,
            28.2,
            32.62,
            24.83,
            30.13,
            37.25,
            31.26
           ]
          },
          {
           "hoverinfo": "none",
           "marker": {
            "color": "#CBB67C",
            "line": {
             "color": "#663831",
             "width": 2
            },
            "size": 10
           },
           "mode": "markers",
           "name": "football",
           "type": "scatter",
           "x": [
            73.8199996948242
           ],
           "y": [
            29.7000007629395
           ]
          }
         ],
         "name": "20"
        },
        {
         "data": [
          {
           "hoverinfo": "none",
           "mode": "text",
           "showlegend": false,
           "text": [
            "10",
            "20",
            "30",
            "40",
            "50",
            "40",
            "30",
            "20",
            "10"
           ],
           "textfont": {
            "color": "#ffffff",
            "family": "Courier New, monospace",
            "size": 30
           },
           "type": "scatter",
           "x": [
            20,
            30,
            40,
            50,
            60,
            70,
            80,
            90,
            100
           ],
           "y": [
            5,
            5,
            5,
            5,
            5,
            5,
            5,
            5,
            5
           ]
          },
          {
           "hoverinfo": "none",
           "mode": "text",
           "showlegend": false,
           "text": [
            "10",
            "20",
            "30",
            "40",
            "50",
            "40",
            "30",
            "20",
            "10"
           ],
           "textfont": {
            "color": "#ffffff",
            "family": "Courier New, monospace",
            "size": 30
           },
           "type": "scatter",
           "x": [
            20,
            30,
            40,
            50,
            60,
            70,
            80,
            90,
            100
           ],
           "y": [
            48.5,
            48.5,
            48.5,
            48.5,
            48.5,
            48.5,
            48.5,
            48.5,
            48.5
           ]
          },
          {
           "hoverinfo": "none",
           "line": {
            "color": "blue",
            "dash": "dash"
           },
           "showlegend": false,
           "type": "scatter",
           "x": [
            74,
            74
           ],
           "y": [
            0,
            53.5
           ]
          },
          {
           "hoverinfo": "none",
           "line": {
            "color": "yellow",
            "dash": "dash"
           },
           "showlegend": false,
           "type": "scatter",
           "x": [
            80,
            80
           ],
           "y": [
            0,
            53.5
           ]
          },
          {
           "fill": "toself",
           "fillcolor": "#000000",
           "hoverinfo": "skip",
           "line": {
            "color": "white",
            "width": 3
           },
           "mode": "lines",
           "opacity": 1,
           "showlegend": false,
           "type": "scatter",
           "x": [
            0,
            0,
            10,
            10,
            0
           ],
           "y": [
            0,
            53.5,
            53.5,
            0,
            0
           ]
          },
          {
           "fill": "toself",
           "fillcolor": "#FFB612",
           "hoverinfo": "skip",
           "line": {
            "color": "white",
            "width": 3
           },
           "mode": "lines",
           "opacity": 1,
           "showlegend": false,
           "type": "scatter",
           "x": [
            110,
            110,
            120,
            120,
            110
           ],
           "y": [
            0,
            53.5,
            53.5,
            0,
            0
           ]
          },
          {
           "hoverinfo": "text",
           "hovertext": [
            "nflId:37104<br>displayName:Cameron Heyward<br>Player Speed:0.045 MPH",
            "nflId:43325<br>displayName:Myles Jack<br>Player Speed:0.045 MPH",
            "nflId:44842<br>displayName:T.J. Watt<br>Player Speed:0.112 MPH",
            "nflId:44878<br>displayName:Ahkello Witherspoon<br>Player Speed:1.297 MPH",
            "nflId:44906<br>displayName:Cameron Sutton<br>Player Speed:0.828 MPH",
            "nflId:45395<br>displayName:Arthur Maulet<br>Player Speed:1.454 MPH",
            "nflId:46080<br>displayName:Minkah Fitzpatrick<br>Player Speed:0.917 MPH",
            "nflId:46097<br>displayName:Terrell Edmunds<br>Player Speed:2.416 MPH",
            "nflId:46902<br>displayName:Robert Spillane<br>Player Speed:0.067 MPH",
            "nflId:52971<br>displayName:Jamir Jones<br>Player Speed:0.783 MPH",
            "nflId:54549<br>displayName:DeMarvin Leal<br>Player Speed:1.208 MPH"
           ],
           "marker": {
            "color": "#FFB612",
            "line": {
             "color": "#101820",
             "width": 2
            },
            "size": 10
           },
           "mode": "markers",
           "name": "PIT",
           "type": "scatter",
           "x": [
            75.06,
            79.48,
            74.72,
            77.79,
            80.16,
            79.35,
            85.74,
            83.12,
            78.76,
            75.34,
            74.73
           ],
           "y": [
            30.79,
            28.77,
            22.91,
            22.72,
            41.85,
            37.77,
            36.26,
            27.02,
            33.25,
            34.83,
            27.05
           ]
          },
          {
           "hoverinfo": "text",
           "hovertext": [
            "nflId:42654<br>displayName:La'el Collins<br>Player Speed:0.045 MPH",
            "nflId:43344<br>displayName:Tyler Boyd<br>Player Speed:3.691 MPH",
            "nflId:43495<br>displayName:Mike Thomas<br>Player Speed:0.85 MPH",
            "nflId:43510<br>displayName:Ted Karras<br>Player Speed:0.157 MPH",
            "nflId:44860<br>displayName:Joe Mixon<br>Player Speed:1.007 MPH",
            "nflId:46163<br>displayName:Alex Cappa<br>Player Speed:0.492 MPH",
            "nflId:47794<br>displayName:Jonah Williams<br>Player Speed:0.649 MPH",
            "nflId:47835<br>displayName:Drew Sample<br>Player Speed:0.022 MPH",
            "nflId:52409<br>displayName:Joe Burrow<br>Player Speed:0.805 MPH",
            "nflId:53434<br>displayName:Ja'Marr Chase<br>Player Speed:2.572 MPH",
            "nflId:54601<br>displayName:Cordell Volson<br>Player Speed:0.0 MPH"
           ],
           "marker": {
            "color": "#000000",
            "line": {
             "color": "#FB4F14",
             "width": 2
            },
            "size": 10
           },
           "mode": "markers",
           "name": "CIN",
           "type": "scatter",
           "x": [
            72.73,
            72.39,
            72.55,
            73.71,
            68.8,
            73,
            72.77,
            72.71,
            69.7,
            72.87,
            73.05
           ],
           "y": [
            26.59,
            35.84,
            38.85,
            29.67,
            27.04,
            28.2,
            32.64,
            24.82,
            30.1,
            37.24,
            31.26
           ]
          },
          {
           "hoverinfo": "none",
           "marker": {
            "color": "#CBB67C",
            "line": {
             "color": "#663831",
             "width": 2
            },
            "size": 10
           },
           "mode": "markers",
           "name": "football",
           "type": "scatter",
           "x": [
            73.8199996948242
           ],
           "y": [
            29.7000007629395
           ]
          }
         ],
         "name": "21"
        },
        {
         "data": [
          {
           "hoverinfo": "none",
           "mode": "text",
           "showlegend": false,
           "text": [
            "10",
            "20",
            "30",
            "40",
            "50",
            "40",
            "30",
            "20",
            "10"
           ],
           "textfont": {
            "color": "#ffffff",
            "family": "Courier New, monospace",
            "size": 30
           },
           "type": "scatter",
           "x": [
            20,
            30,
            40,
            50,
            60,
            70,
            80,
            90,
            100
           ],
           "y": [
            5,
            5,
            5,
            5,
            5,
            5,
            5,
            5,
            5
           ]
          },
          {
           "hoverinfo": "none",
           "mode": "text",
           "showlegend": false,
           "text": [
            "10",
            "20",
            "30",
            "40",
            "50",
            "40",
            "30",
            "20",
            "10"
           ],
           "textfont": {
            "color": "#ffffff",
            "family": "Courier New, monospace",
            "size": 30
           },
           "type": "scatter",
           "x": [
            20,
            30,
            40,
            50,
            60,
            70,
            80,
            90,
            100
           ],
           "y": [
            48.5,
            48.5,
            48.5,
            48.5,
            48.5,
            48.5,
            48.5,
            48.5,
            48.5
           ]
          },
          {
           "hoverinfo": "none",
           "line": {
            "color": "blue",
            "dash": "dash"
           },
           "showlegend": false,
           "type": "scatter",
           "x": [
            74,
            74
           ],
           "y": [
            0,
            53.5
           ]
          },
          {
           "hoverinfo": "none",
           "line": {
            "color": "yellow",
            "dash": "dash"
           },
           "showlegend": false,
           "type": "scatter",
           "x": [
            80,
            80
           ],
           "y": [
            0,
            53.5
           ]
          },
          {
           "fill": "toself",
           "fillcolor": "#000000",
           "hoverinfo": "skip",
           "line": {
            "color": "white",
            "width": 3
           },
           "mode": "lines",
           "opacity": 1,
           "showlegend": false,
           "type": "scatter",
           "x": [
            0,
            0,
            10,
            10,
            0
           ],
           "y": [
            0,
            53.5,
            53.5,
            0,
            0
           ]
          },
          {
           "fill": "toself",
           "fillcolor": "#FFB612",
           "hoverinfo": "skip",
           "line": {
            "color": "white",
            "width": 3
           },
           "mode": "lines",
           "opacity": 1,
           "showlegend": false,
           "type": "scatter",
           "x": [
            110,
            110,
            120,
            120,
            110
           ],
           "y": [
            0,
            53.5,
            53.5,
            0,
            0
           ]
          },
          {
           "hoverinfo": "text",
           "hovertext": [
            "nflId:37104<br>displayName:Cameron Heyward<br>Player Speed:0.045 MPH",
            "nflId:43325<br>displayName:Myles Jack<br>Player Speed:0.045 MPH",
            "nflId:44842<br>displayName:T.J. Watt<br>Player Speed:0.112 MPH",
            "nflId:44878<br>displayName:Ahkello Witherspoon<br>Player Speed:1.454 MPH",
            "nflId:44906<br>displayName:Cameron Sutton<br>Player Speed:0.828 MPH",
            "nflId:45395<br>displayName:Arthur Maulet<br>Player Speed:1.521 MPH",
            "nflId:46080<br>displayName:Minkah Fitzpatrick<br>Player Speed:0.738 MPH",
            "nflId:46097<br>displayName:Terrell Edmunds<br>Player Speed:2.461 MPH",
            "nflId:46902<br>displayName:Robert Spillane<br>Player Speed:0.045 MPH",
            "nflId:52971<br>displayName:Jamir Jones<br>Player Speed:0.716 MPH",
            "nflId:54549<br>displayName:DeMarvin Leal<br>Player Speed:1.051 MPH"
           ],
           "marker": {
            "color": "#FFB612",
            "line": {
             "color": "#101820",
             "width": 2
            },
            "size": 10
           },
           "mode": "markers",
           "name": "PIT",
           "type": "scatter",
           "x": [
            75.06,
            79.48,
            74.71,
            77.85,
            80.18,
            79.3,
            85.78,
            83.23,
            78.75,
            75.32,
            74.69
           ],
           "y": [
            30.79,
            28.77,
            22.9,
            22.72,
            41.89,
            37.82,
            36.25,
            27.05,
            33.24,
            34.85,
            27.05
           ]
          },
          {
           "hoverinfo": "text",
           "hovertext": [
            "nflId:42654<br>displayName:La'el Collins<br>Player Speed:0.045 MPH",
            "nflId:43344<br>displayName:Tyler Boyd<br>Player Speed:3.758 MPH",
            "nflId:43495<br>displayName:Mike Thomas<br>Player Speed:1.029 MPH",
            "nflId:43510<br>displayName:Ted Karras<br>Player Speed:0.157 MPH",
            "nflId:44860<br>displayName:Joe Mixon<br>Player Speed:0.805 MPH",
            "nflId:46163<br>displayName:Alex Cappa<br>Player Speed:0.47 MPH",
            "nflId:47794<br>displayName:Jonah Williams<br>Player Speed:0.537 MPH",
            "nflId:47835<br>displayName:Drew Sample<br>Player Speed:0.022 MPH",
            "nflId:52409<br>displayName:Joe Burrow<br>Player Speed:0.805 MPH",
            "nflId:53434<br>displayName:Ja'Marr Chase<br>Player Speed:2.819 MPH",
            "nflId:54601<br>displayName:Cordell Volson<br>Player Speed:0.0 MPH"
           ],
           "marker": {
            "color": "#000000",
            "line": {
             "color": "#FB4F14",
             "width": 2
            },
            "size": 10
           },
           "mode": "markers",
           "name": "CIN",
           "type": "scatter",
           "x": [
            72.73,
            72.52,
            72.56,
            73.7,
            68.81,
            72.98,
            72.76,
            72.71,
            69.7,
            72.75,
            73.04
           ],
           "y": [
            26.59,
            35.93,
            38.81,
            29.66,
            27.07,
            28.21,
            32.65,
            24.81,
            30.06,
            37.22,
            31.26
           ]
          },
          {
           "hoverinfo": "none",
           "marker": {
            "color": "#CBB67C",
            "line": {
             "color": "#663831",
             "width": 2
            },
            "size": 10
           },
           "mode": "markers",
           "name": "football",
           "type": "scatter",
           "x": [
            73.8199996948242
           ],
           "y": [
            29.7000007629395
           ]
          }
         ],
         "name": "22"
        },
        {
         "data": [
          {
           "hoverinfo": "none",
           "mode": "text",
           "showlegend": false,
           "text": [
            "10",
            "20",
            "30",
            "40",
            "50",
            "40",
            "30",
            "20",
            "10"
           ],
           "textfont": {
            "color": "#ffffff",
            "family": "Courier New, monospace",
            "size": 30
           },
           "type": "scatter",
           "x": [
            20,
            30,
            40,
            50,
            60,
            70,
            80,
            90,
            100
           ],
           "y": [
            5,
            5,
            5,
            5,
            5,
            5,
            5,
            5,
            5
           ]
          },
          {
           "hoverinfo": "none",
           "mode": "text",
           "showlegend": false,
           "text": [
            "10",
            "20",
            "30",
            "40",
            "50",
            "40",
            "30",
            "20",
            "10"
           ],
           "textfont": {
            "color": "#ffffff",
            "family": "Courier New, monospace",
            "size": 30
           },
           "type": "scatter",
           "x": [
            20,
            30,
            40,
            50,
            60,
            70,
            80,
            90,
            100
           ],
           "y": [
            48.5,
            48.5,
            48.5,
            48.5,
            48.5,
            48.5,
            48.5,
            48.5,
            48.5
           ]
          },
          {
           "hoverinfo": "none",
           "line": {
            "color": "blue",
            "dash": "dash"
           },
           "showlegend": false,
           "type": "scatter",
           "x": [
            74,
            74
           ],
           "y": [
            0,
            53.5
           ]
          },
          {
           "hoverinfo": "none",
           "line": {
            "color": "yellow",
            "dash": "dash"
           },
           "showlegend": false,
           "type": "scatter",
           "x": [
            80,
            80
           ],
           "y": [
            0,
            53.5
           ]
          },
          {
           "fill": "toself",
           "fillcolor": "#000000",
           "hoverinfo": "skip",
           "line": {
            "color": "white",
            "width": 3
           },
           "mode": "lines",
           "opacity": 1,
           "showlegend": false,
           "type": "scatter",
           "x": [
            0,
            0,
            10,
            10,
            0
           ],
           "y": [
            0,
            53.5,
            53.5,
            0,
            0
           ]
          },
          {
           "fill": "toself",
           "fillcolor": "#FFB612",
           "hoverinfo": "skip",
           "line": {
            "color": "white",
            "width": 3
           },
           "mode": "lines",
           "opacity": 1,
           "showlegend": false,
           "type": "scatter",
           "x": [
            110,
            110,
            120,
            120,
            110
           ],
           "y": [
            0,
            53.5,
            53.5,
            0,
            0
           ]
          },
          {
           "hoverinfo": "text",
           "hovertext": [
            "nflId:37104<br>displayName:Cameron Heyward<br>Player Speed:0.022 MPH",
            "nflId:43325<br>displayName:Myles Jack<br>Player Speed:0.045 MPH",
            "nflId:44842<br>displayName:T.J. Watt<br>Player Speed:0.336 MPH",
            "nflId:44878<br>displayName:Ahkello Witherspoon<br>Player Speed:1.454 MPH",
            "nflId:44906<br>displayName:Cameron Sutton<br>Player Speed:0.783 MPH",
            "nflId:45395<br>displayName:Arthur Maulet<br>Player Speed:1.521 MPH",
            "nflId:46080<br>displayName:Minkah Fitzpatrick<br>Player Speed:0.582 MPH",
            "nflId:46097<br>displayName:Terrell Edmunds<br>Player Speed:2.505 MPH",
            "nflId:46902<br>displayName:Robert Spillane<br>Player Speed:0.022 MPH",
            "nflId:52971<br>displayName:Jamir Jones<br>Player Speed:0.604 MPH",
            "nflId:54549<br>displayName:DeMarvin Leal<br>Player Speed:0.872 MPH"
           ],
           "marker": {
            "color": "#FFB612",
            "line": {
             "color": "#101820",
             "width": 2
            },
            "size": 10
           },
           "mode": "markers",
           "name": "PIT",
           "type": "scatter",
           "x": [
            75.06,
            79.48,
            74.69,
            77.91,
            80.19,
            79.25,
            85.81,
            83.33,
            78.76,
            75.3,
            74.65
           ],
           "y": [
            30.79,
            28.77,
            22.87,
            22.71,
            41.92,
            37.86,
            36.25,
            27.09,
            33.22,
            34.87,
            27.05
           ]
          },
          {
           "hoverinfo": "text",
           "hovertext": [
            "nflId:42654<br>displayName:La'el Collins<br>Player Speed:0.022 MPH",
            "nflId:43344<br>displayName:Tyler Boyd<br>Player Speed:3.87 MPH",
            "nflId:43495<br>displayName:Mike Thomas<br>Player Speed:1.051 MPH",
            "nflId:43510<br>displayName:Ted Karras<br>Player Speed:0.134 MPH",
            "nflId:44860<br>displayName:Joe Mixon<br>Player Speed:0.626 MPH",
            "nflId:46163<br>displayName:Alex Cappa<br>Player Speed:0.425 MPH",
            "nflId:47794<br>displayName:Jonah Williams<br>Player Speed:0.447 MPH",
            "nflId:47835<br>displayName:Drew Sample<br>Player Speed:0.022 MPH",
            "nflId:52409<br>displayName:Joe Burrow<br>Player Speed:0.872 MPH",
            "nflId:53434<br>displayName:Ja'Marr Chase<br>Player Speed:3.042 MPH",
            "nflId:54601<br>displayName:Cordell Volson<br>Player Speed:0.0 MPH"
           ],
           "marker": {
            "color": "#000000",
            "line": {
             "color": "#FB4F14",
             "width": 2
            },
            "size": 10
           },
           "mode": "markers",
           "name": "CIN",
           "type": "scatter",
           "x": [
            72.73,
            72.66,
            72.57,
            73.68,
            68.83,
            72.96,
            72.75,
            72.72,
            69.69,
            72.62,
            73.05
           ],
           "y": [
            26.59,
            36.04,
            38.77,
            29.67,
            27.09,
            28.22,
            32.66,
            24.79,
            30.02,
            37.19,
            31.26
           ]
          },
          {
           "hoverinfo": "none",
           "marker": {
            "color": "#CBB67C",
            "line": {
             "color": "#663831",
             "width": 2
            },
            "size": 10
           },
           "mode": "markers",
           "name": "football",
           "type": "scatter",
           "x": [
            73.8199996948242
           ],
           "y": [
            29.7000007629395
           ]
          }
         ],
         "name": "23"
        },
        {
         "data": [
          {
           "hoverinfo": "none",
           "mode": "text",
           "showlegend": false,
           "text": [
            "10",
            "20",
            "30",
            "40",
            "50",
            "40",
            "30",
            "20",
            "10"
           ],
           "textfont": {
            "color": "#ffffff",
            "family": "Courier New, monospace",
            "size": 30
           },
           "type": "scatter",
           "x": [
            20,
            30,
            40,
            50,
            60,
            70,
            80,
            90,
            100
           ],
           "y": [
            5,
            5,
            5,
            5,
            5,
            5,
            5,
            5,
            5
           ]
          },
          {
           "hoverinfo": "none",
           "mode": "text",
           "showlegend": false,
           "text": [
            "10",
            "20",
            "30",
            "40",
            "50",
            "40",
            "30",
            "20",
            "10"
           ],
           "textfont": {
            "color": "#ffffff",
            "family": "Courier New, monospace",
            "size": 30
           },
           "type": "scatter",
           "x": [
            20,
            30,
            40,
            50,
            60,
            70,
            80,
            90,
            100
           ],
           "y": [
            48.5,
            48.5,
            48.5,
            48.5,
            48.5,
            48.5,
            48.5,
            48.5,
            48.5
           ]
          },
          {
           "hoverinfo": "none",
           "line": {
            "color": "blue",
            "dash": "dash"
           },
           "showlegend": false,
           "type": "scatter",
           "x": [
            74,
            74
           ],
           "y": [
            0,
            53.5
           ]
          },
          {
           "hoverinfo": "none",
           "line": {
            "color": "yellow",
            "dash": "dash"
           },
           "showlegend": false,
           "type": "scatter",
           "x": [
            80,
            80
           ],
           "y": [
            0,
            53.5
           ]
          },
          {
           "fill": "toself",
           "fillcolor": "#000000",
           "hoverinfo": "skip",
           "line": {
            "color": "white",
            "width": 3
           },
           "mode": "lines",
           "opacity": 1,
           "showlegend": false,
           "type": "scatter",
           "x": [
            0,
            0,
            10,
            10,
            0
           ],
           "y": [
            0,
            53.5,
            53.5,
            0,
            0
           ]
          },
          {
           "fill": "toself",
           "fillcolor": "#FFB612",
           "hoverinfo": "skip",
           "line": {
            "color": "white",
            "width": 3
           },
           "mode": "lines",
           "opacity": 1,
           "showlegend": false,
           "type": "scatter",
           "x": [
            110,
            110,
            120,
            120,
            110
           ],
           "y": [
            0,
            53.5,
            53.5,
            0,
            0
           ]
          },
          {
           "hoverinfo": "text",
           "hovertext": [
            "nflId:37104<br>displayName:Cameron Heyward<br>Player Speed:0.022 MPH",
            "nflId:43325<br>displayName:Myles Jack<br>Player Speed:0.045 MPH",
            "nflId:44842<br>displayName:T.J. Watt<br>Player Speed:0.291 MPH",
            "nflId:44878<br>displayName:Ahkello Witherspoon<br>Player Speed:1.543 MPH",
            "nflId:44906<br>displayName:Cameron Sutton<br>Player Speed:0.582 MPH",
            "nflId:45395<br>displayName:Arthur Maulet<br>Player Speed:1.476 MPH",
            "nflId:46080<br>displayName:Minkah Fitzpatrick<br>Player Speed:0.425 MPH",
            "nflId:46097<br>displayName:Terrell Edmunds<br>Player Speed:2.55 MPH",
            "nflId:46902<br>displayName:Robert Spillane<br>Player Speed:0.022 MPH",
            "nflId:52971<br>displayName:Jamir Jones<br>Player Speed:0.447 MPH",
            "nflId:54549<br>displayName:DeMarvin Leal<br>Player Speed:0.671 MPH"
           ],
           "marker": {
            "color": "#FFB612",
            "line": {
             "color": "#101820",
             "width": 2
            },
            "size": 10
           },
           "mode": "markers",
           "name": "PIT",
           "type": "scatter",
           "x": [
            75.06,
            79.48,
            74.69,
            77.98,
            80.21,
            79.2,
            85.83,
            83.43,
            78.76,
            75.29,
            74.62
           ],
           "y": [
            30.79,
            28.76,
            22.87,
            22.7,
            41.94,
            37.9,
            36.24,
            27.14,
            33.23,
            34.87,
            27.05
           ]
          },
          {
           "hoverinfo": "text",
           "hovertext": [
            "nflId:42654<br>displayName:La'el Collins<br>Player Speed:0.022 MPH",
            "nflId:43344<br>displayName:Tyler Boyd<br>Player Speed:3.848 MPH",
            "nflId:43495<br>displayName:Mike Thomas<br>Player Speed:0.85 MPH",
            "nflId:43510<br>displayName:Ted Karras<br>Player Speed:0.134 MPH",
            "nflId:44860<br>displayName:Joe Mixon<br>Player Speed:0.403 MPH",
            "nflId:46163<br>displayName:Alex Cappa<br>Player Speed:0.38 MPH",
            "nflId:47794<br>displayName:Jonah Williams<br>Player Speed:0.38 MPH",
            "nflId:47835<br>displayName:Drew Sample<br>Player Speed:0.022 MPH",
            "nflId:52409<br>displayName:Joe Burrow<br>Player Speed:0.917 MPH",
            "nflId:53434<br>displayName:Ja'Marr Chase<br>Player Speed:3.132 MPH",
            "nflId:54601<br>displayName:Cordell Volson<br>Player Speed:0.0 MPH"
           ],
           "marker": {
            "color": "#000000",
            "line": {
             "color": "#FB4F14",
             "width": 2
            },
            "size": 10
           },
           "mode": "markers",
           "name": "CIN",
           "type": "scatter",
           "x": [
            72.73,
            72.79,
            72.59,
            73.67,
            68.84,
            72.95,
            72.74,
            72.71,
            69.67,
            72.49,
            73.05
           ],
           "y": [
            26.6,
            36.14,
            38.74,
            29.67,
            27.1,
            28.23,
            32.67,
            24.79,
            29.99,
            37.15,
            31.26
           ]
          },
          {
           "hoverinfo": "none",
           "marker": {
            "color": "#CBB67C",
            "line": {
             "color": "#663831",
             "width": 2
            },
            "size": 10
           },
           "mode": "markers",
           "name": "football",
           "type": "scatter",
           "x": [
            73.8199996948242
           ],
           "y": [
            29.7000007629395
           ]
          }
         ],
         "name": "24"
        },
        {
         "data": [
          {
           "hoverinfo": "none",
           "mode": "text",
           "showlegend": false,
           "text": [
            "10",
            "20",
            "30",
            "40",
            "50",
            "40",
            "30",
            "20",
            "10"
           ],
           "textfont": {
            "color": "#ffffff",
            "family": "Courier New, monospace",
            "size": 30
           },
           "type": "scatter",
           "x": [
            20,
            30,
            40,
            50,
            60,
            70,
            80,
            90,
            100
           ],
           "y": [
            5,
            5,
            5,
            5,
            5,
            5,
            5,
            5,
            5
           ]
          },
          {
           "hoverinfo": "none",
           "mode": "text",
           "showlegend": false,
           "text": [
            "10",
            "20",
            "30",
            "40",
            "50",
            "40",
            "30",
            "20",
            "10"
           ],
           "textfont": {
            "color": "#ffffff",
            "family": "Courier New, monospace",
            "size": 30
           },
           "type": "scatter",
           "x": [
            20,
            30,
            40,
            50,
            60,
            70,
            80,
            90,
            100
           ],
           "y": [
            48.5,
            48.5,
            48.5,
            48.5,
            48.5,
            48.5,
            48.5,
            48.5,
            48.5
           ]
          },
          {
           "hoverinfo": "none",
           "line": {
            "color": "blue",
            "dash": "dash"
           },
           "showlegend": false,
           "type": "scatter",
           "x": [
            74,
            74
           ],
           "y": [
            0,
            53.5
           ]
          },
          {
           "hoverinfo": "none",
           "line": {
            "color": "yellow",
            "dash": "dash"
           },
           "showlegend": false,
           "type": "scatter",
           "x": [
            80,
            80
           ],
           "y": [
            0,
            53.5
           ]
          },
          {
           "fill": "toself",
           "fillcolor": "#000000",
           "hoverinfo": "skip",
           "line": {
            "color": "white",
            "width": 3
           },
           "mode": "lines",
           "opacity": 1,
           "showlegend": false,
           "type": "scatter",
           "x": [
            0,
            0,
            10,
            10,
            0
           ],
           "y": [
            0,
            53.5,
            53.5,
            0,
            0
           ]
          },
          {
           "fill": "toself",
           "fillcolor": "#FFB612",
           "hoverinfo": "skip",
           "line": {
            "color": "white",
            "width": 3
           },
           "mode": "lines",
           "opacity": 1,
           "showlegend": false,
           "type": "scatter",
           "x": [
            110,
            110,
            120,
            120,
            110
           ],
           "y": [
            0,
            53.5,
            53.5,
            0,
            0
           ]
          },
          {
           "hoverinfo": "text",
           "hovertext": [
            "nflId:37104<br>displayName:Cameron Heyward<br>Player Speed:0.022 MPH",
            "nflId:43325<br>displayName:Myles Jack<br>Player Speed:0.045 MPH",
            "nflId:44842<br>displayName:T.J. Watt<br>Player Speed:0.268 MPH",
            "nflId:44878<br>displayName:Ahkello Witherspoon<br>Player Speed:1.655 MPH",
            "nflId:44906<br>displayName:Cameron Sutton<br>Player Speed:0.47 MPH",
            "nflId:45395<br>displayName:Arthur Maulet<br>Player Speed:1.476 MPH",
            "nflId:46080<br>displayName:Minkah Fitzpatrick<br>Player Speed:0.246 MPH",
            "nflId:46097<br>displayName:Terrell Edmunds<br>Player Speed:2.662 MPH",
            "nflId:46902<br>displayName:Robert Spillane<br>Player Speed:0.0 MPH",
            "nflId:52971<br>displayName:Jamir Jones<br>Player Speed:0.291 MPH",
            "nflId:54549<br>displayName:DeMarvin Leal<br>Player Speed:0.537 MPH"
           ],
           "marker": {
            "color": "#FFB612",
            "line": {
             "color": "#101820",
             "width": 2
            },
            "size": 10
           },
           "mode": "markers",
           "name": "PIT",
           "type": "scatter",
           "x": [
            75.05,
            79.48,
            74.69,
            78.05,
            80.22,
            79.15,
            85.84,
            83.54,
            78.76,
            75.28,
            74.59
           ],
           "y": [
            30.79,
            28.76,
            22.86,
            22.68,
            41.96,
            37.95,
            36.24,
            27.18,
            33.23,
            34.86,
            27.05
           ]
          },
          {
           "hoverinfo": "text",
           "hovertext": [
            "nflId:42654<br>displayName:La'el Collins<br>Player Speed:0.022 MPH",
            "nflId:43344<br>displayName:Tyler Boyd<br>Player Speed:3.646 MPH",
            "nflId:43495<br>displayName:Mike Thomas<br>Player Speed:0.716 MPH",
            "nflId:43510<br>displayName:Ted Karras<br>Player Speed:0.134 MPH",
            "nflId:44860<br>displayName:Joe Mixon<br>Player Speed:0.268 MPH",
            "nflId:46163<br>displayName:Alex Cappa<br>Player Speed:0.358 MPH",
            "nflId:47794<br>displayName:Jonah Williams<br>Player Speed:0.291 MPH",
            "nflId:47835<br>displayName:Drew Sample<br>Player Speed:0.022 MPH",
            "nflId:52409<br>displayName:Joe Burrow<br>Player Speed:1.074 MPH",
            "nflId:53434<br>displayName:Ja'Marr Chase<br>Player Speed:3.042 MPH",
            "nflId:54601<br>displayName:Cordell Volson<br>Player Speed:0.0 MPH"
           ],
           "marker": {
            "color": "#000000",
            "line": {
             "color": "#FB4F14",
             "width": 2
            },
            "size": 10
           },
           "mode": "markers",
           "name": "CIN",
           "type": "scatter",
           "x": [
            72.73,
            72.92,
            72.61,
            73.66,
            68.85,
            72.95,
            72.74,
            72.71,
            69.64,
            72.37,
            73.05
           ],
           "y": [
            26.6,
            36.25,
            38.72,
            29.67,
            27.11,
            28.24,
            32.67,
            24.79,
            29.96,
            37.1,
            31.26
           ]
          },
          {
           "hoverinfo": "none",
           "marker": {
            "color": "#CBB67C",
            "line": {
             "color": "#663831",
             "width": 2
            },
            "size": 10
           },
           "mode": "markers",
           "name": "football",
           "type": "scatter",
           "x": [
            73.8199996948242
           ],
           "y": [
            29.7000007629395
           ]
          }
         ],
         "name": "25"
        },
        {
         "data": [
          {
           "hoverinfo": "none",
           "mode": "text",
           "showlegend": false,
           "text": [
            "10",
            "20",
            "30",
            "40",
            "50",
            "40",
            "30",
            "20",
            "10"
           ],
           "textfont": {
            "color": "#ffffff",
            "family": "Courier New, monospace",
            "size": 30
           },
           "type": "scatter",
           "x": [
            20,
            30,
            40,
            50,
            60,
            70,
            80,
            90,
            100
           ],
           "y": [
            5,
            5,
            5,
            5,
            5,
            5,
            5,
            5,
            5
           ]
          },
          {
           "hoverinfo": "none",
           "mode": "text",
           "showlegend": false,
           "text": [
            "10",
            "20",
            "30",
            "40",
            "50",
            "40",
            "30",
            "20",
            "10"
           ],
           "textfont": {
            "color": "#ffffff",
            "family": "Courier New, monospace",
            "size": 30
           },
           "type": "scatter",
           "x": [
            20,
            30,
            40,
            50,
            60,
            70,
            80,
            90,
            100
           ],
           "y": [
            48.5,
            48.5,
            48.5,
            48.5,
            48.5,
            48.5,
            48.5,
            48.5,
            48.5
           ]
          },
          {
           "hoverinfo": "none",
           "line": {
            "color": "blue",
            "dash": "dash"
           },
           "showlegend": false,
           "type": "scatter",
           "x": [
            74,
            74
           ],
           "y": [
            0,
            53.5
           ]
          },
          {
           "hoverinfo": "none",
           "line": {
            "color": "yellow",
            "dash": "dash"
           },
           "showlegend": false,
           "type": "scatter",
           "x": [
            80,
            80
           ],
           "y": [
            0,
            53.5
           ]
          },
          {
           "fill": "toself",
           "fillcolor": "#000000",
           "hoverinfo": "skip",
           "line": {
            "color": "white",
            "width": 3
           },
           "mode": "lines",
           "opacity": 1,
           "showlegend": false,
           "type": "scatter",
           "x": [
            0,
            0,
            10,
            10,
            0
           ],
           "y": [
            0,
            53.5,
            53.5,
            0,
            0
           ]
          },
          {
           "fill": "toself",
           "fillcolor": "#FFB612",
           "hoverinfo": "skip",
           "line": {
            "color": "white",
            "width": 3
           },
           "mode": "lines",
           "opacity": 1,
           "showlegend": false,
           "type": "scatter",
           "x": [
            110,
            110,
            120,
            120,
            110
           ],
           "y": [
            0,
            53.5,
            53.5,
            0,
            0
           ]
          },
          {
           "hoverinfo": "text",
           "hovertext": [
            "nflId:37104<br>displayName:Cameron Heyward<br>Player Speed:0.022 MPH",
            "nflId:43325<br>displayName:Myles Jack<br>Player Speed:0.022 MPH",
            "nflId:44842<br>displayName:T.J. Watt<br>Player Speed:0.313 MPH",
            "nflId:44878<br>displayName:Ahkello Witherspoon<br>Player Speed:1.566 MPH",
            "nflId:44906<br>displayName:Cameron Sutton<br>Player Speed:0.336 MPH",
            "nflId:45395<br>displayName:Arthur Maulet<br>Player Speed:1.476 MPH",
            "nflId:46080<br>displayName:Minkah Fitzpatrick<br>Player Speed:0.157 MPH",
            "nflId:46097<br>displayName:Terrell Edmunds<br>Player Speed:2.707 MPH",
            "nflId:46902<br>displayName:Robert Spillane<br>Player Speed:0.0 MPH",
            "nflId:52971<br>displayName:Jamir Jones<br>Player Speed:0.224 MPH",
            "nflId:54549<br>displayName:DeMarvin Leal<br>Player Speed:0.38 MPH"
           ],
           "marker": {
            "color": "#FFB612",
            "line": {
             "color": "#101820",
             "width": 2
            },
            "size": 10
           },
           "mode": "markers",
           "name": "PIT",
           "type": "scatter",
           "x": [
            75.05,
            79.48,
            74.67,
            78.12,
            80.23,
            79.1,
            85.85,
            83.65,
            78.76,
            75.27,
            74.58
           ],
           "y": [
            30.78,
            28.76,
            22.84,
            22.66,
            41.97,
            37.99,
            36.24,
            27.23,
            33.23,
            34.86,
            27.06
           ]
          },
          {
           "hoverinfo": "text",
           "hovertext": [
            "nflId:42654<br>displayName:La'el Collins<br>Player Speed:0.022 MPH",
            "nflId:43344<br>displayName:Tyler Boyd<br>Player Speed:3.445 MPH",
            "nflId:43495<br>displayName:Mike Thomas<br>Player Speed:0.582 MPH",
            "nflId:43510<br>displayName:Ted Karras<br>Player Speed:0.112 MPH",
            "nflId:44860<br>displayName:Joe Mixon<br>Player Speed:0.179 MPH",
            "nflId:46163<br>displayName:Alex Cappa<br>Player Speed:0.313 MPH",
            "nflId:47794<br>displayName:Jonah Williams<br>Player Speed:0.224 MPH",
            "nflId:47835<br>displayName:Drew Sample<br>Player Speed:0.022 MPH",
            "nflId:52409<br>displayName:Joe Burrow<br>Player Speed:1.253 MPH",
            "nflId:53434<br>displayName:Ja'Marr Chase<br>Player Speed:2.93 MPH",
            "nflId:54601<br>displayName:Cordell Volson<br>Player Speed:0.0 MPH"
           ],
           "marker": {
            "color": "#000000",
            "line": {
             "color": "#FB4F14",
             "width": 2
            },
            "size": 10
           },
           "mode": "markers",
           "name": "CIN",
           "type": "scatter",
           "x": [
            72.73,
            73.04,
            72.63,
            73.66,
            68.86,
            72.94,
            72.74,
            72.7,
            69.6,
            72.26,
            73.05
           ],
           "y": [
            26.6,
            36.34,
            38.71,
            29.67,
            27.11,
            28.25,
            32.67,
            24.79,
            29.93,
            37.03,
            31.26
           ]
          },
          {
           "hoverinfo": "none",
           "marker": {
            "color": "#CBB67C",
            "line": {
             "color": "#663831",
             "width": 2
            },
            "size": 10
           },
           "mode": "markers",
           "name": "football",
           "type": "scatter",
           "x": [
            73.8199996948242
           ],
           "y": [
            29.7000007629395
           ]
          }
         ],
         "name": "26"
        },
        {
         "data": [
          {
           "hoverinfo": "none",
           "mode": "text",
           "showlegend": false,
           "text": [
            "10",
            "20",
            "30",
            "40",
            "50",
            "40",
            "30",
            "20",
            "10"
           ],
           "textfont": {
            "color": "#ffffff",
            "family": "Courier New, monospace",
            "size": 30
           },
           "type": "scatter",
           "x": [
            20,
            30,
            40,
            50,
            60,
            70,
            80,
            90,
            100
           ],
           "y": [
            5,
            5,
            5,
            5,
            5,
            5,
            5,
            5,
            5
           ]
          },
          {
           "hoverinfo": "none",
           "mode": "text",
           "showlegend": false,
           "text": [
            "10",
            "20",
            "30",
            "40",
            "50",
            "40",
            "30",
            "20",
            "10"
           ],
           "textfont": {
            "color": "#ffffff",
            "family": "Courier New, monospace",
            "size": 30
           },
           "type": "scatter",
           "x": [
            20,
            30,
            40,
            50,
            60,
            70,
            80,
            90,
            100
           ],
           "y": [
            48.5,
            48.5,
            48.5,
            48.5,
            48.5,
            48.5,
            48.5,
            48.5,
            48.5
           ]
          },
          {
           "hoverinfo": "none",
           "line": {
            "color": "blue",
            "dash": "dash"
           },
           "showlegend": false,
           "type": "scatter",
           "x": [
            74,
            74
           ],
           "y": [
            0,
            53.5
           ]
          },
          {
           "hoverinfo": "none",
           "line": {
            "color": "yellow",
            "dash": "dash"
           },
           "showlegend": false,
           "type": "scatter",
           "x": [
            80,
            80
           ],
           "y": [
            0,
            53.5
           ]
          },
          {
           "fill": "toself",
           "fillcolor": "#000000",
           "hoverinfo": "skip",
           "line": {
            "color": "white",
            "width": 3
           },
           "mode": "lines",
           "opacity": 1,
           "showlegend": false,
           "type": "scatter",
           "x": [
            0,
            0,
            10,
            10,
            0
           ],
           "y": [
            0,
            53.5,
            53.5,
            0,
            0
           ]
          },
          {
           "fill": "toself",
           "fillcolor": "#FFB612",
           "hoverinfo": "skip",
           "line": {
            "color": "white",
            "width": 3
           },
           "mode": "lines",
           "opacity": 1,
           "showlegend": false,
           "type": "scatter",
           "x": [
            110,
            110,
            120,
            120,
            110
           ],
           "y": [
            0,
            53.5,
            53.5,
            0,
            0
           ]
          },
          {
           "hoverinfo": "text",
           "hovertext": [
            "nflId:37104<br>displayName:Cameron Heyward<br>Player Speed:0.022 MPH",
            "nflId:43325<br>displayName:Myles Jack<br>Player Speed:0.022 MPH",
            "nflId:44842<br>displayName:T.J. Watt<br>Player Speed:0.336 MPH",
            "nflId:44878<br>displayName:Ahkello Witherspoon<br>Player Speed:1.566 MPH",
            "nflId:44906<br>displayName:Cameron Sutton<br>Player Speed:0.201 MPH",
            "nflId:45395<br>displayName:Arthur Maulet<br>Player Speed:1.499 MPH",
            "nflId:46080<br>displayName:Minkah Fitzpatrick<br>Player Speed:0.089 MPH",
            "nflId:46097<br>displayName:Terrell Edmunds<br>Player Speed:2.707 MPH",
            "nflId:46902<br>displayName:Robert Spillane<br>Player Speed:0.0 MPH",
            "nflId:52971<br>displayName:Jamir Jones<br>Player Speed:0.201 MPH",
            "nflId:54549<br>displayName:DeMarvin Leal<br>Player Speed:0.246 MPH"
           ],
           "marker": {
            "color": "#FFB612",
            "line": {
             "color": "#101820",
             "width": 2
            },
            "size": 10
           },
           "mode": "markers",
           "name": "PIT",
           "type": "scatter",
           "x": [
            75.05,
            79.48,
            74.66,
            78.18,
            80.24,
            79.06,
            85.86,
            83.76,
            78.76,
            75.26,
            74.57
           ],
           "y": [
            30.78,
            28.76,
            22.83,
            22.63,
            41.98,
            38.05,
            36.24,
            27.28,
            33.23,
            34.87,
            27.06
           ]
          },
          {
           "hoverinfo": "text",
           "hovertext": [
            "nflId:42654<br>displayName:La'el Collins<br>Player Speed:0.022 MPH",
            "nflId:43344<br>displayName:Tyler Boyd<br>Player Speed:3.244 MPH",
            "nflId:43495<br>displayName:Mike Thomas<br>Player Speed:0.47 MPH",
            "nflId:43510<br>displayName:Ted Karras<br>Player Speed:0.112 MPH",
            "nflId:44860<br>displayName:Joe Mixon<br>Player Speed:0.224 MPH",
            "nflId:46163<br>displayName:Alex Cappa<br>Player Speed:0.291 MPH",
            "nflId:47794<br>displayName:Jonah Williams<br>Player Speed:0.179 MPH",
            "nflId:47835<br>displayName:Drew Sample<br>Player Speed:0.022 MPH",
            "nflId:52409<br>displayName:Joe Burrow<br>Player Speed:1.365 MPH",
            "nflId:53434<br>displayName:Ja'Marr Chase<br>Player Speed:2.819 MPH",
            "nflId:54601<br>displayName:Cordell Volson<br>Player Speed:0.0 MPH"
           ],
           "marker": {
            "color": "#000000",
            "line": {
             "color": "#FB4F14",
             "width": 2
            },
            "size": 10
           },
           "mode": "markers",
           "name": "CIN",
           "type": "scatter",
           "x": [
            72.72,
            73.16,
            72.65,
            73.65,
            68.87,
            72.93,
            72.73,
            72.7,
            69.55,
            72.16,
            73.05
           ],
           "y": [
            26.6,
            36.43,
            38.72,
            29.67,
            27.1,
            28.26,
            32.67,
            24.79,
            29.9,
            36.96,
            31.26
           ]
          },
          {
           "hoverinfo": "none",
           "marker": {
            "color": "#CBB67C",
            "line": {
             "color": "#663831",
             "width": 2
            },
            "size": 10
           },
           "mode": "markers",
           "name": "football",
           "type": "scatter",
           "x": [
            73.8199996948242
           ],
           "y": [
            29.7000007629395
           ]
          }
         ],
         "name": "27"
        },
        {
         "data": [
          {
           "hoverinfo": "none",
           "mode": "text",
           "showlegend": false,
           "text": [
            "10",
            "20",
            "30",
            "40",
            "50",
            "40",
            "30",
            "20",
            "10"
           ],
           "textfont": {
            "color": "#ffffff",
            "family": "Courier New, monospace",
            "size": 30
           },
           "type": "scatter",
           "x": [
            20,
            30,
            40,
            50,
            60,
            70,
            80,
            90,
            100
           ],
           "y": [
            5,
            5,
            5,
            5,
            5,
            5,
            5,
            5,
            5
           ]
          },
          {
           "hoverinfo": "none",
           "mode": "text",
           "showlegend": false,
           "text": [
            "10",
            "20",
            "30",
            "40",
            "50",
            "40",
            "30",
            "20",
            "10"
           ],
           "textfont": {
            "color": "#ffffff",
            "family": "Courier New, monospace",
            "size": 30
           },
           "type": "scatter",
           "x": [
            20,
            30,
            40,
            50,
            60,
            70,
            80,
            90,
            100
           ],
           "y": [
            48.5,
            48.5,
            48.5,
            48.5,
            48.5,
            48.5,
            48.5,
            48.5,
            48.5
           ]
          },
          {
           "hoverinfo": "none",
           "line": {
            "color": "blue",
            "dash": "dash"
           },
           "showlegend": false,
           "type": "scatter",
           "x": [
            74,
            74
           ],
           "y": [
            0,
            53.5
           ]
          },
          {
           "hoverinfo": "none",
           "line": {
            "color": "yellow",
            "dash": "dash"
           },
           "showlegend": false,
           "type": "scatter",
           "x": [
            80,
            80
           ],
           "y": [
            0,
            53.5
           ]
          },
          {
           "fill": "toself",
           "fillcolor": "#000000",
           "hoverinfo": "skip",
           "line": {
            "color": "white",
            "width": 3
           },
           "mode": "lines",
           "opacity": 1,
           "showlegend": false,
           "type": "scatter",
           "x": [
            0,
            0,
            10,
            10,
            0
           ],
           "y": [
            0,
            53.5,
            53.5,
            0,
            0
           ]
          },
          {
           "fill": "toself",
           "fillcolor": "#FFB612",
           "hoverinfo": "skip",
           "line": {
            "color": "white",
            "width": 3
           },
           "mode": "lines",
           "opacity": 1,
           "showlegend": false,
           "type": "scatter",
           "x": [
            110,
            110,
            120,
            120,
            110
           ],
           "y": [
            0,
            53.5,
            53.5,
            0,
            0
           ]
          },
          {
           "hoverinfo": "text",
           "hovertext": [
            "nflId:37104<br>displayName:Cameron Heyward<br>Player Speed:0.022 MPH",
            "nflId:43325<br>displayName:Myles Jack<br>Player Speed:0.022 MPH",
            "nflId:44842<br>displayName:T.J. Watt<br>Player Speed:0.291 MPH",
            "nflId:44878<br>displayName:Ahkello Witherspoon<br>Player Speed:1.543 MPH",
            "nflId:44906<br>displayName:Cameron Sutton<br>Player Speed:0.246 MPH",
            "nflId:45395<br>displayName:Arthur Maulet<br>Player Speed:1.521 MPH",
            "nflId:46080<br>displayName:Minkah Fitzpatrick<br>Player Speed:0.045 MPH",
            "nflId:46097<br>displayName:Terrell Edmunds<br>Player Speed:2.751 MPH",
            "nflId:46902<br>displayName:Robert Spillane<br>Player Speed:0.022 MPH",
            "nflId:52971<br>displayName:Jamir Jones<br>Player Speed:0.157 MPH",
            "nflId:54549<br>displayName:DeMarvin Leal<br>Player Speed:0.112 MPH"
           ],
           "marker": {
            "color": "#FFB612",
            "line": {
             "color": "#101820",
             "width": 2
            },
            "size": 10
           },
           "mode": "markers",
           "name": "PIT",
           "type": "scatter",
           "x": [
            75.05,
            79.48,
            74.66,
            78.24,
            80.25,
            79.01,
            85.86,
            83.87,
            78.76,
            75.25,
            74.56
           ],
           "y": [
            30.78,
            28.75,
            22.82,
            22.6,
            41.97,
            38.1,
            36.23,
            27.32,
            33.24,
            34.87,
            27.07
           ]
          },
          {
           "hoverinfo": "text",
           "hovertext": [
            "nflId:42654<br>displayName:La'el Collins<br>Player Speed:0.022 MPH",
            "nflId:43344<br>displayName:Tyler Boyd<br>Player Speed:2.93 MPH",
            "nflId:43495<br>displayName:Mike Thomas<br>Player Speed:0.447 MPH",
            "nflId:43510<br>displayName:Ted Karras<br>Player Speed:0.112 MPH",
            "nflId:44860<br>displayName:Joe Mixon<br>Player Speed:0.246 MPH",
            "nflId:46163<br>displayName:Alex Cappa<br>Player Speed:0.268 MPH",
            "nflId:47794<br>displayName:Jonah Williams<br>Player Speed:0.134 MPH",
            "nflId:47835<br>displayName:Drew Sample<br>Player Speed:0.022 MPH",
            "nflId:52409<br>displayName:Joe Burrow<br>Player Speed:1.476 MPH",
            "nflId:53434<br>displayName:Ja'Marr Chase<br>Player Speed:2.774 MPH",
            "nflId:54601<br>displayName:Cordell Volson<br>Player Speed:0.0 MPH"
           ],
           "marker": {
            "color": "#000000",
            "line": {
             "color": "#FB4F14",
             "width": 2
            },
            "size": 10
           },
           "mode": "markers",
           "name": "CIN",
           "type": "scatter",
           "x": [
            72.72,
            73.27,
            72.67,
            73.64,
            68.87,
            72.92,
            72.73,
            72.7,
            69.49,
            72.07,
            73.05
           ],
           "y": [
            26.61,
            36.52,
            38.73,
            29.66,
            27.09,
            28.26,
            32.66,
            24.79,
            29.86,
            36.87,
            31.26
           ]
          },
          {
           "hoverinfo": "none",
           "marker": {
            "color": "#CBB67C",
            "line": {
             "color": "#663831",
             "width": 2
            },
            "size": 10
           },
           "mode": "markers",
           "name": "football",
           "type": "scatter",
           "x": [
            73.8199996948242
           ],
           "y": [
            29.7000007629395
           ]
          }
         ],
         "name": "28"
        },
        {
         "data": [
          {
           "hoverinfo": "none",
           "mode": "text",
           "showlegend": false,
           "text": [
            "10",
            "20",
            "30",
            "40",
            "50",
            "40",
            "30",
            "20",
            "10"
           ],
           "textfont": {
            "color": "#ffffff",
            "family": "Courier New, monospace",
            "size": 30
           },
           "type": "scatter",
           "x": [
            20,
            30,
            40,
            50,
            60,
            70,
            80,
            90,
            100
           ],
           "y": [
            5,
            5,
            5,
            5,
            5,
            5,
            5,
            5,
            5
           ]
          },
          {
           "hoverinfo": "none",
           "mode": "text",
           "showlegend": false,
           "text": [
            "10",
            "20",
            "30",
            "40",
            "50",
            "40",
            "30",
            "20",
            "10"
           ],
           "textfont": {
            "color": "#ffffff",
            "family": "Courier New, monospace",
            "size": 30
           },
           "type": "scatter",
           "x": [
            20,
            30,
            40,
            50,
            60,
            70,
            80,
            90,
            100
           ],
           "y": [
            48.5,
            48.5,
            48.5,
            48.5,
            48.5,
            48.5,
            48.5,
            48.5,
            48.5
           ]
          },
          {
           "hoverinfo": "none",
           "line": {
            "color": "blue",
            "dash": "dash"
           },
           "showlegend": false,
           "type": "scatter",
           "x": [
            74,
            74
           ],
           "y": [
            0,
            53.5
           ]
          },
          {
           "hoverinfo": "none",
           "line": {
            "color": "yellow",
            "dash": "dash"
           },
           "showlegend": false,
           "type": "scatter",
           "x": [
            80,
            80
           ],
           "y": [
            0,
            53.5
           ]
          },
          {
           "fill": "toself",
           "fillcolor": "#000000",
           "hoverinfo": "skip",
           "line": {
            "color": "white",
            "width": 3
           },
           "mode": "lines",
           "opacity": 1,
           "showlegend": false,
           "type": "scatter",
           "x": [
            0,
            0,
            10,
            10,
            0
           ],
           "y": [
            0,
            53.5,
            53.5,
            0,
            0
           ]
          },
          {
           "fill": "toself",
           "fillcolor": "#FFB612",
           "hoverinfo": "skip",
           "line": {
            "color": "white",
            "width": 3
           },
           "mode": "lines",
           "opacity": 1,
           "showlegend": false,
           "type": "scatter",
           "x": [
            110,
            110,
            120,
            120,
            110
           ],
           "y": [
            0,
            53.5,
            53.5,
            0,
            0
           ]
          },
          {
           "hoverinfo": "text",
           "hovertext": [
            "nflId:37104<br>displayName:Cameron Heyward<br>Player Speed:0.022 MPH",
            "nflId:43325<br>displayName:Myles Jack<br>Player Speed:0.022 MPH",
            "nflId:44842<br>displayName:T.J. Watt<br>Player Speed:0.268 MPH",
            "nflId:44878<br>displayName:Ahkello Witherspoon<br>Player Speed:1.454 MPH",
            "nflId:44906<br>displayName:Cameron Sutton<br>Player Speed:0.313 MPH",
            "nflId:45395<br>displayName:Arthur Maulet<br>Player Speed:1.432 MPH",
            "nflId:46080<br>displayName:Minkah Fitzpatrick<br>Player Speed:0.067 MPH",
            "nflId:46097<br>displayName:Terrell Edmunds<br>Player Speed:2.751 MPH",
            "nflId:46902<br>displayName:Robert Spillane<br>Player Speed:0.022 MPH",
            "nflId:52971<br>displayName:Jamir Jones<br>Player Speed:0.134 MPH",
            "nflId:54549<br>displayName:DeMarvin Leal<br>Player Speed:0.179 MPH"
           ],
           "marker": {
            "color": "#FFB612",
            "line": {
             "color": "#101820",
             "width": 2
            },
            "size": 10
           },
           "mode": "markers",
           "name": "PIT",
           "type": "scatter",
           "x": [
            75.05,
            79.48,
            74.64,
            78.3,
            80.26,
            78.97,
            85.86,
            83.99,
            78.76,
            75.25,
            74.57
           ],
           "y": [
            30.78,
            28.75,
            22.81,
            22.56,
            41.96,
            38.15,
            36.23,
            27.37,
            33.25,
            34.87,
            27.07
           ]
          },
          {
           "hoverinfo": "text",
           "hovertext": [
            "nflId:42654<br>displayName:La'el Collins<br>Player Speed:0.022 MPH",
            "nflId:43344<br>displayName:Tyler Boyd<br>Player Speed:2.55 MPH",
            "nflId:43495<br>displayName:Mike Thomas<br>Player Speed:0.403 MPH",
            "nflId:43510<br>displayName:Ted Karras<br>Player Speed:0.089 MPH",
            "nflId:44860<br>displayName:Joe Mixon<br>Player Speed:0.313 MPH",
            "nflId:46163<br>displayName:Alex Cappa<br>Player Speed:0.246 MPH",
            "nflId:47794<br>displayName:Jonah Williams<br>Player Speed:0.112 MPH",
            "nflId:47835<br>displayName:Drew Sample<br>Player Speed:0.022 MPH",
            "nflId:52409<br>displayName:Joe Burrow<br>Player Speed:1.543 MPH",
            "nflId:53434<br>displayName:Ja'Marr Chase<br>Player Speed:2.796 MPH",
            "nflId:54601<br>displayName:Cordell Volson<br>Player Speed:0.0 MPH"
           ],
           "marker": {
            "color": "#000000",
            "line": {
             "color": "#FB4F14",
             "width": 2
            },
            "size": 10
           },
           "mode": "markers",
           "name": "CIN",
           "type": "scatter",
           "x": [
            72.72,
            73.36,
            72.68,
            73.63,
            68.88,
            72.9,
            72.74,
            72.7,
            69.43,
            71.99,
            73.05
           ],
           "y": [
            26.6,
            36.59,
            38.74,
            29.66,
            27.08,
            28.25,
            32.67,
            24.79,
            29.83,
            36.77,
            31.27
           ]
          },
          {
           "hoverinfo": "none",
           "marker": {
            "color": "#CBB67C",
            "line": {
             "color": "#663831",
             "width": 2
            },
            "size": 10
           },
           "mode": "markers",
           "name": "football",
           "type": "scatter",
           "x": [
            73.8199996948242
           ],
           "y": [
            29.7000007629395
           ]
          }
         ],
         "name": "29"
        },
        {
         "data": [
          {
           "hoverinfo": "none",
           "mode": "text",
           "showlegend": false,
           "text": [
            "10",
            "20",
            "30",
            "40",
            "50",
            "40",
            "30",
            "20",
            "10"
           ],
           "textfont": {
            "color": "#ffffff",
            "family": "Courier New, monospace",
            "size": 30
           },
           "type": "scatter",
           "x": [
            20,
            30,
            40,
            50,
            60,
            70,
            80,
            90,
            100
           ],
           "y": [
            5,
            5,
            5,
            5,
            5,
            5,
            5,
            5,
            5
           ]
          },
          {
           "hoverinfo": "none",
           "mode": "text",
           "showlegend": false,
           "text": [
            "10",
            "20",
            "30",
            "40",
            "50",
            "40",
            "30",
            "20",
            "10"
           ],
           "textfont": {
            "color": "#ffffff",
            "family": "Courier New, monospace",
            "size": 30
           },
           "type": "scatter",
           "x": [
            20,
            30,
            40,
            50,
            60,
            70,
            80,
            90,
            100
           ],
           "y": [
            48.5,
            48.5,
            48.5,
            48.5,
            48.5,
            48.5,
            48.5,
            48.5,
            48.5
           ]
          },
          {
           "hoverinfo": "none",
           "line": {
            "color": "blue",
            "dash": "dash"
           },
           "showlegend": false,
           "type": "scatter",
           "x": [
            74,
            74
           ],
           "y": [
            0,
            53.5
           ]
          },
          {
           "hoverinfo": "none",
           "line": {
            "color": "yellow",
            "dash": "dash"
           },
           "showlegend": false,
           "type": "scatter",
           "x": [
            80,
            80
           ],
           "y": [
            0,
            53.5
           ]
          },
          {
           "fill": "toself",
           "fillcolor": "#000000",
           "hoverinfo": "skip",
           "line": {
            "color": "white",
            "width": 3
           },
           "mode": "lines",
           "opacity": 1,
           "showlegend": false,
           "type": "scatter",
           "x": [
            0,
            0,
            10,
            10,
            0
           ],
           "y": [
            0,
            53.5,
            53.5,
            0,
            0
           ]
          },
          {
           "fill": "toself",
           "fillcolor": "#FFB612",
           "hoverinfo": "skip",
           "line": {
            "color": "white",
            "width": 3
           },
           "mode": "lines",
           "opacity": 1,
           "showlegend": false,
           "type": "scatter",
           "x": [
            110,
            110,
            120,
            120,
            110
           ],
           "y": [
            0,
            53.5,
            53.5,
            0,
            0
           ]
          },
          {
           "hoverinfo": "text",
           "hovertext": [
            "nflId:37104<br>displayName:Cameron Heyward<br>Player Speed:0.022 MPH",
            "nflId:43325<br>displayName:Myles Jack<br>Player Speed:0.022 MPH",
            "nflId:44842<br>displayName:T.J. Watt<br>Player Speed:0.246 MPH",
            "nflId:44878<br>displayName:Ahkello Witherspoon<br>Player Speed:1.387 MPH",
            "nflId:44906<br>displayName:Cameron Sutton<br>Player Speed:0.38 MPH",
            "nflId:45395<br>displayName:Arthur Maulet<br>Player Speed:1.186 MPH",
            "nflId:46080<br>displayName:Minkah Fitzpatrick<br>Player Speed:0.157 MPH",
            "nflId:46097<br>displayName:Terrell Edmunds<br>Player Speed:2.684 MPH",
            "nflId:46902<br>displayName:Robert Spillane<br>Player Speed:0.022 MPH",
            "nflId:52971<br>displayName:Jamir Jones<br>Player Speed:0.067 MPH",
            "nflId:54549<br>displayName:DeMarvin Leal<br>Player Speed:0.268 MPH"
           ],
           "marker": {
            "color": "#FFB612",
            "line": {
             "color": "#101820",
             "width": 2
            },
            "size": 10
           },
           "mode": "markers",
           "name": "PIT",
           "type": "scatter",
           "x": [
            75.05,
            79.48,
            74.64,
            78.35,
            80.26,
            78.93,
            85.86,
            84.1,
            78.76,
            75.26,
            74.57
           ],
           "y": [
            30.77,
            28.75,
            22.81,
            22.51,
            41.95,
            38.18,
            36.23,
            27.39,
            33.25,
            34.88,
            27.08
           ]
          },
          {
           "hoverinfo": "text",
           "hovertext": [
            "nflId:42654<br>displayName:La'el Collins<br>Player Speed:0.022 MPH",
            "nflId:43344<br>displayName:Tyler Boyd<br>Player Speed:2.17 MPH",
            "nflId:43495<br>displayName:Mike Thomas<br>Player Speed:0.38 MPH",
            "nflId:43510<br>displayName:Ted Karras<br>Player Speed:0.089 MPH",
            "nflId:44860<br>displayName:Joe Mixon<br>Player Speed:0.268 MPH",
            "nflId:46163<br>displayName:Alex Cappa<br>Player Speed:0.224 MPH",
            "nflId:47794<br>displayName:Jonah Williams<br>Player Speed:0.089 MPH",
            "nflId:47835<br>displayName:Drew Sample<br>Player Speed:0.022 MPH",
            "nflId:52409<br>displayName:Joe Burrow<br>Player Speed:1.543 MPH",
            "nflId:53434<br>displayName:Ja'Marr Chase<br>Player Speed:2.751 MPH",
            "nflId:54601<br>displayName:Cordell Volson<br>Player Speed:0.0 MPH"
           ],
           "marker": {
            "color": "#000000",
            "line": {
             "color": "#FB4F14",
             "width": 2
            },
            "size": 10
           },
           "mode": "markers",
           "name": "CIN",
           "type": "scatter",
           "x": [
            72.72,
            73.44,
            72.69,
            73.62,
            68.89,
            72.89,
            72.75,
            72.7,
            69.37,
            71.93,
            73.05
           ],
           "y": [
            26.61,
            36.65,
            38.75,
            29.66,
            27.08,
            28.24,
            32.67,
            24.79,
            29.81,
            36.66,
            31.28
           ]
          },
          {
           "hoverinfo": "none",
           "marker": {
            "color": "#CBB67C",
            "line": {
             "color": "#663831",
             "width": 2
            },
            "size": 10
           },
           "mode": "markers",
           "name": "football",
           "type": "scatter",
           "x": [
            73.8199996948242
           ],
           "y": [
            29.7000007629395
           ]
          }
         ],
         "name": "30"
        },
        {
         "data": [
          {
           "hoverinfo": "none",
           "mode": "text",
           "showlegend": false,
           "text": [
            "10",
            "20",
            "30",
            "40",
            "50",
            "40",
            "30",
            "20",
            "10"
           ],
           "textfont": {
            "color": "#ffffff",
            "family": "Courier New, monospace",
            "size": 30
           },
           "type": "scatter",
           "x": [
            20,
            30,
            40,
            50,
            60,
            70,
            80,
            90,
            100
           ],
           "y": [
            5,
            5,
            5,
            5,
            5,
            5,
            5,
            5,
            5
           ]
          },
          {
           "hoverinfo": "none",
           "mode": "text",
           "showlegend": false,
           "text": [
            "10",
            "20",
            "30",
            "40",
            "50",
            "40",
            "30",
            "20",
            "10"
           ],
           "textfont": {
            "color": "#ffffff",
            "family": "Courier New, monospace",
            "size": 30
           },
           "type": "scatter",
           "x": [
            20,
            30,
            40,
            50,
            60,
            70,
            80,
            90,
            100
           ],
           "y": [
            48.5,
            48.5,
            48.5,
            48.5,
            48.5,
            48.5,
            48.5,
            48.5,
            48.5
           ]
          },
          {
           "hoverinfo": "none",
           "line": {
            "color": "blue",
            "dash": "dash"
           },
           "showlegend": false,
           "type": "scatter",
           "x": [
            74,
            74
           ],
           "y": [
            0,
            53.5
           ]
          },
          {
           "hoverinfo": "none",
           "line": {
            "color": "yellow",
            "dash": "dash"
           },
           "showlegend": false,
           "type": "scatter",
           "x": [
            80,
            80
           ],
           "y": [
            0,
            53.5
           ]
          },
          {
           "fill": "toself",
           "fillcolor": "#000000",
           "hoverinfo": "skip",
           "line": {
            "color": "white",
            "width": 3
           },
           "mode": "lines",
           "opacity": 1,
           "showlegend": false,
           "type": "scatter",
           "x": [
            0,
            0,
            10,
            10,
            0
           ],
           "y": [
            0,
            53.5,
            53.5,
            0,
            0
           ]
          },
          {
           "fill": "toself",
           "fillcolor": "#FFB612",
           "hoverinfo": "skip",
           "line": {
            "color": "white",
            "width": 3
           },
           "mode": "lines",
           "opacity": 1,
           "showlegend": false,
           "type": "scatter",
           "x": [
            110,
            110,
            120,
            120,
            110
           ],
           "y": [
            0,
            53.5,
            53.5,
            0,
            0
           ]
          },
          {
           "hoverinfo": "text",
           "hovertext": [
            "nflId:37104<br>displayName:Cameron Heyward<br>Player Speed:0.022 MPH",
            "nflId:43325<br>displayName:Myles Jack<br>Player Speed:0.022 MPH",
            "nflId:44842<br>displayName:T.J. Watt<br>Player Speed:0.224 MPH",
            "nflId:44878<br>displayName:Ahkello Witherspoon<br>Player Speed:1.32 MPH",
            "nflId:44906<br>displayName:Cameron Sutton<br>Player Speed:0.447 MPH",
            "nflId:45395<br>displayName:Arthur Maulet<br>Player Speed:0.895 MPH",
            "nflId:46080<br>displayName:Minkah Fitzpatrick<br>Player Speed:0.201 MPH",
            "nflId:46097<br>displayName:Terrell Edmunds<br>Player Speed:2.617 MPH",
            "nflId:46902<br>displayName:Robert Spillane<br>Player Speed:0.022 MPH",
            "nflId:52971<br>displayName:Jamir Jones<br>Player Speed:0.022 MPH",
            "nflId:54549<br>displayName:DeMarvin Leal<br>Player Speed:0.268 MPH"
           ],
           "marker": {
            "color": "#FFB612",
            "line": {
             "color": "#101820",
             "width": 2
            },
            "size": 10
           },
           "mode": "markers",
           "name": "PIT",
           "type": "scatter",
           "x": [
            75.04,
            79.47,
            74.63,
            78.38,
            80.27,
            78.89,
            85.85,
            84.22,
            78.76,
            75.26,
            74.58
           ],
           "y": [
            30.77,
            28.74,
            22.8,
            22.47,
            41.93,
            38.21,
            36.22,
            27.42,
            33.25,
            34.88,
            27.09
           ]
          },
          {
           "hoverinfo": "text",
           "hovertext": [
            "nflId:42654<br>displayName:La'el Collins<br>Player Speed:0.022 MPH",
            "nflId:43344<br>displayName:Tyler Boyd<br>Player Speed:1.655 MPH",
            "nflId:43495<br>displayName:Mike Thomas<br>Player Speed:0.201 MPH",
            "nflId:43510<br>displayName:Ted Karras<br>Player Speed:0.089 MPH",
            "nflId:44860<br>displayName:Joe Mixon<br>Player Speed:0.224 MPH",
            "nflId:46163<br>displayName:Alex Cappa<br>Player Speed:0.179 MPH",
            "nflId:47794<br>displayName:Jonah Williams<br>Player Speed:0.067 MPH",
            "nflId:47835<br>displayName:Drew Sample<br>Player Speed:0.0 MPH",
            "nflId:52409<br>displayName:Joe Burrow<br>Player Speed:1.499 MPH",
            "nflId:53434<br>displayName:Ja'Marr Chase<br>Player Speed:2.684 MPH",
            "nflId:54601<br>displayName:Cordell Volson<br>Player Speed:0.0 MPH"
           ],
           "marker": {
            "color": "#000000",
            "line": {
             "color": "#FB4F14",
             "width": 2
            },
            "size": 10
           },
           "mode": "markers",
           "name": "CIN",
           "type": "scatter",
           "x": [
            72.72,
            73.51,
            72.67,
            73.61,
            68.89,
            72.9,
            72.75,
            72.7,
            69.31,
            71.89,
            73.05
           ],
           "y": [
            26.61,
            36.7,
            38.74,
            29.66,
            27.07,
            28.23,
            32.68,
            24.8,
            29.78,
            36.55,
            31.28
           ]
          },
          {
           "hoverinfo": "none",
           "marker": {
            "color": "#CBB67C",
            "line": {
             "color": "#663831",
             "width": 2
            },
            "size": 10
           },
           "mode": "markers",
           "name": "football",
           "type": "scatter",
           "x": [
            73.8199996948242
           ],
           "y": [
            29.7000007629395
           ]
          }
         ],
         "name": "31"
        },
        {
         "data": [
          {
           "hoverinfo": "none",
           "mode": "text",
           "showlegend": false,
           "text": [
            "10",
            "20",
            "30",
            "40",
            "50",
            "40",
            "30",
            "20",
            "10"
           ],
           "textfont": {
            "color": "#ffffff",
            "family": "Courier New, monospace",
            "size": 30
           },
           "type": "scatter",
           "x": [
            20,
            30,
            40,
            50,
            60,
            70,
            80,
            90,
            100
           ],
           "y": [
            5,
            5,
            5,
            5,
            5,
            5,
            5,
            5,
            5
           ]
          },
          {
           "hoverinfo": "none",
           "mode": "text",
           "showlegend": false,
           "text": [
            "10",
            "20",
            "30",
            "40",
            "50",
            "40",
            "30",
            "20",
            "10"
           ],
           "textfont": {
            "color": "#ffffff",
            "family": "Courier New, monospace",
            "size": 30
           },
           "type": "scatter",
           "x": [
            20,
            30,
            40,
            50,
            60,
            70,
            80,
            90,
            100
           ],
           "y": [
            48.5,
            48.5,
            48.5,
            48.5,
            48.5,
            48.5,
            48.5,
            48.5,
            48.5
           ]
          },
          {
           "hoverinfo": "none",
           "line": {
            "color": "blue",
            "dash": "dash"
           },
           "showlegend": false,
           "type": "scatter",
           "x": [
            74,
            74
           ],
           "y": [
            0,
            53.5
           ]
          },
          {
           "hoverinfo": "none",
           "line": {
            "color": "yellow",
            "dash": "dash"
           },
           "showlegend": false,
           "type": "scatter",
           "x": [
            80,
            80
           ],
           "y": [
            0,
            53.5
           ]
          },
          {
           "fill": "toself",
           "fillcolor": "#000000",
           "hoverinfo": "skip",
           "line": {
            "color": "white",
            "width": 3
           },
           "mode": "lines",
           "opacity": 1,
           "showlegend": false,
           "type": "scatter",
           "x": [
            0,
            0,
            10,
            10,
            0
           ],
           "y": [
            0,
            53.5,
            53.5,
            0,
            0
           ]
          },
          {
           "fill": "toself",
           "fillcolor": "#FFB612",
           "hoverinfo": "skip",
           "line": {
            "color": "white",
            "width": 3
           },
           "mode": "lines",
           "opacity": 1,
           "showlegend": false,
           "type": "scatter",
           "x": [
            110,
            110,
            120,
            120,
            110
           ],
           "y": [
            0,
            53.5,
            53.5,
            0,
            0
           ]
          },
          {
           "hoverinfo": "text",
           "hovertext": [
            "nflId:37104<br>displayName:Cameron Heyward<br>Player Speed:0.0 MPH",
            "nflId:43325<br>displayName:Myles Jack<br>Player Speed:0.022 MPH",
            "nflId:44842<br>displayName:T.J. Watt<br>Player Speed:0.179 MPH",
            "nflId:44878<br>displayName:Ahkello Witherspoon<br>Player Speed:1.275 MPH",
            "nflId:44906<br>displayName:Cameron Sutton<br>Player Speed:0.559 MPH",
            "nflId:45395<br>displayName:Arthur Maulet<br>Player Speed:0.761 MPH",
            "nflId:46080<br>displayName:Minkah Fitzpatrick<br>Player Speed:0.201 MPH",
            "nflId:46097<br>displayName:Terrell Edmunds<br>Player Speed:2.528 MPH",
            "nflId:46902<br>displayName:Robert Spillane<br>Player Speed:0.022 MPH",
            "nflId:52971<br>displayName:Jamir Jones<br>Player Speed:0.022 MPH",
            "nflId:54549<br>displayName:DeMarvin Leal<br>Player Speed:0.268 MPH"
           ],
           "marker": {
            "color": "#FFB612",
            "line": {
             "color": "#101820",
             "width": 2
            },
            "size": 10
           },
           "mode": "markers",
           "name": "PIT",
           "type": "scatter",
           "x": [
            75.04,
            79.47,
            74.64,
            78.41,
            80.27,
            78.86,
            85.84,
            84.33,
            78.76,
            75.26,
            74.59
           ],
           "y": [
            30.77,
            28.74,
            22.81,
            22.41,
            41.91,
            38.23,
            36.21,
            27.43,
            33.25,
            34.88,
            27.09
           ]
          },
          {
           "hoverinfo": "text",
           "hovertext": [
            "nflId:42654<br>displayName:La'el Collins<br>Player Speed:0.022 MPH",
            "nflId:43344<br>displayName:Tyler Boyd<br>Player Speed:1.186 MPH",
            "nflId:43495<br>displayName:Mike Thomas<br>Player Speed:0.179 MPH",
            "nflId:43510<br>displayName:Ted Karras<br>Player Speed:0.067 MPH",
            "nflId:44860<br>displayName:Joe Mixon<br>Player Speed:0.179 MPH",
            "nflId:46163<br>displayName:Alex Cappa<br>Player Speed:0.134 MPH",
            "nflId:47794<br>displayName:Jonah Williams<br>Player Speed:0.067 MPH",
            "nflId:47835<br>displayName:Drew Sample<br>Player Speed:0.0 MPH",
            "nflId:52409<br>displayName:Joe Burrow<br>Player Speed:1.432 MPH",
            "nflId:53434<br>displayName:Ja'Marr Chase<br>Player Speed:2.64 MPH",
            "nflId:54601<br>displayName:Cordell Volson<br>Player Speed:0.0 MPH"
           ],
           "marker": {
            "color": "#000000",
            "line": {
             "color": "#FB4F14",
             "width": 2
            },
            "size": 10
           },
           "mode": "markers",
           "name": "CIN",
           "type": "scatter",
           "x": [
            72.72,
            73.55,
            72.65,
            73.6,
            68.9,
            72.91,
            72.75,
            72.7,
            69.25,
            71.86,
            73.05
           ],
           "y": [
            26.61,
            36.73,
            38.75,
            29.66,
            27.07,
            28.22,
            32.69,
            24.8,
            29.76,
            36.44,
            31.29
           ]
          },
          {
           "hoverinfo": "none",
           "marker": {
            "color": "#CBB67C",
            "line": {
             "color": "#663831",
             "width": 2
            },
            "size": 10
           },
           "mode": "markers",
           "name": "football",
           "type": "scatter",
           "x": [
            73.8099975585938
           ],
           "y": [
            29.7000007629395
           ]
          }
         ],
         "name": "32"
        },
        {
         "data": [
          {
           "hoverinfo": "none",
           "mode": "text",
           "showlegend": false,
           "text": [
            "10",
            "20",
            "30",
            "40",
            "50",
            "40",
            "30",
            "20",
            "10"
           ],
           "textfont": {
            "color": "#ffffff",
            "family": "Courier New, monospace",
            "size": 30
           },
           "type": "scatter",
           "x": [
            20,
            30,
            40,
            50,
            60,
            70,
            80,
            90,
            100
           ],
           "y": [
            5,
            5,
            5,
            5,
            5,
            5,
            5,
            5,
            5
           ]
          },
          {
           "hoverinfo": "none",
           "mode": "text",
           "showlegend": false,
           "text": [
            "10",
            "20",
            "30",
            "40",
            "50",
            "40",
            "30",
            "20",
            "10"
           ],
           "textfont": {
            "color": "#ffffff",
            "family": "Courier New, monospace",
            "size": 30
           },
           "type": "scatter",
           "x": [
            20,
            30,
            40,
            50,
            60,
            70,
            80,
            90,
            100
           ],
           "y": [
            48.5,
            48.5,
            48.5,
            48.5,
            48.5,
            48.5,
            48.5,
            48.5,
            48.5
           ]
          },
          {
           "hoverinfo": "none",
           "line": {
            "color": "blue",
            "dash": "dash"
           },
           "showlegend": false,
           "type": "scatter",
           "x": [
            74,
            74
           ],
           "y": [
            0,
            53.5
           ]
          },
          {
           "hoverinfo": "none",
           "line": {
            "color": "yellow",
            "dash": "dash"
           },
           "showlegend": false,
           "type": "scatter",
           "x": [
            80,
            80
           ],
           "y": [
            0,
            53.5
           ]
          },
          {
           "fill": "toself",
           "fillcolor": "#000000",
           "hoverinfo": "skip",
           "line": {
            "color": "white",
            "width": 3
           },
           "mode": "lines",
           "opacity": 1,
           "showlegend": false,
           "type": "scatter",
           "x": [
            0,
            0,
            10,
            10,
            0
           ],
           "y": [
            0,
            53.5,
            53.5,
            0,
            0
           ]
          },
          {
           "fill": "toself",
           "fillcolor": "#FFB612",
           "hoverinfo": "skip",
           "line": {
            "color": "white",
            "width": 3
           },
           "mode": "lines",
           "opacity": 1,
           "showlegend": false,
           "type": "scatter",
           "x": [
            110,
            110,
            120,
            120,
            110
           ],
           "y": [
            0,
            53.5,
            53.5,
            0,
            0
           ]
          },
          {
           "hoverinfo": "text",
           "hovertext": [
            "nflId:37104<br>displayName:Cameron Heyward<br>Player Speed:0.0 MPH",
            "nflId:43325<br>displayName:Myles Jack<br>Player Speed:0.022 MPH",
            "nflId:44842<br>displayName:T.J. Watt<br>Player Speed:0.179 MPH",
            "nflId:44878<br>displayName:Ahkello Witherspoon<br>Player Speed:1.23 MPH",
            "nflId:44906<br>displayName:Cameron Sutton<br>Player Speed:0.582 MPH",
            "nflId:45395<br>displayName:Arthur Maulet<br>Player Speed:0.671 MPH",
            "nflId:46080<br>displayName:Minkah Fitzpatrick<br>Player Speed:0.201 MPH",
            "nflId:46097<br>displayName:Terrell Edmunds<br>Player Speed:2.461 MPH",
            "nflId:46902<br>displayName:Robert Spillane<br>Player Speed:0.022 MPH",
            "nflId:52971<br>displayName:Jamir Jones<br>Player Speed:0.022 MPH",
            "nflId:54549<br>displayName:DeMarvin Leal<br>Player Speed:0.268 MPH"
           ],
           "marker": {
            "color": "#FFB612",
            "line": {
             "color": "#101820",
             "width": 2
            },
            "size": 10
           },
           "mode": "markers",
           "name": "PIT",
           "type": "scatter",
           "x": [
            75.04,
            79.47,
            74.63,
            78.44,
            80.27,
            78.83,
            85.84,
            84.45,
            78.76,
            75.27,
            74.6
           ],
           "y": [
            30.77,
            28.74,
            22.8,
            22.37,
            41.89,
            38.24,
            36.21,
            27.42,
            33.25,
            34.88,
            27.1
           ]
          },
          {
           "hoverinfo": "text",
           "hovertext": [
            "nflId:42654<br>displayName:La'el Collins<br>Player Speed:0.0 MPH",
            "nflId:43344<br>displayName:Tyler Boyd<br>Player Speed:0.738 MPH",
            "nflId:43495<br>displayName:Mike Thomas<br>Player Speed:0.134 MPH",
            "nflId:43510<br>displayName:Ted Karras<br>Player Speed:0.067 MPH",
            "nflId:44860<br>displayName:Joe Mixon<br>Player Speed:0.179 MPH",
            "nflId:46163<br>displayName:Alex Cappa<br>Player Speed:0.134 MPH",
            "nflId:47794<br>displayName:Jonah Williams<br>Player Speed:0.067 MPH",
            "nflId:47835<br>displayName:Drew Sample<br>Player Speed:0.0 MPH",
            "nflId:52409<br>displayName:Joe Burrow<br>Player Speed:1.365 MPH",
            "nflId:53434<br>displayName:Ja'Marr Chase<br>Player Speed:2.64 MPH",
            "nflId:54601<br>displayName:Cordell Volson<br>Player Speed:0.0 MPH"
           ],
           "marker": {
            "color": "#000000",
            "line": {
             "color": "#FB4F14",
             "width": 2
            },
            "size": 10
           },
           "mode": "markers",
           "name": "CIN",
           "type": "scatter",
           "x": [
            72.72,
            73.58,
            72.64,
            73.59,
            68.91,
            72.9,
            72.74,
            72.7,
            69.19,
            71.85,
            73.05
           ],
           "y": [
            26.61,
            36.76,
            38.74,
            29.67,
            27.06,
            28.21,
            32.69,
            24.8,
            29.75,
            36.33,
            31.29
           ]
          },
          {
           "hoverinfo": "none",
           "marker": {
            "color": "#CBB67C",
            "line": {
             "color": "#663831",
             "width": 2
            },
            "size": 10
           },
           "mode": "markers",
           "name": "football",
           "type": "scatter",
           "x": [
            73.8099975585938
           ],
           "y": [
            29.7000007629395
           ]
          }
         ],
         "name": "33"
        },
        {
         "data": [
          {
           "hoverinfo": "none",
           "mode": "text",
           "showlegend": false,
           "text": [
            "10",
            "20",
            "30",
            "40",
            "50",
            "40",
            "30",
            "20",
            "10"
           ],
           "textfont": {
            "color": "#ffffff",
            "family": "Courier New, monospace",
            "size": 30
           },
           "type": "scatter",
           "x": [
            20,
            30,
            40,
            50,
            60,
            70,
            80,
            90,
            100
           ],
           "y": [
            5,
            5,
            5,
            5,
            5,
            5,
            5,
            5,
            5
           ]
          },
          {
           "hoverinfo": "none",
           "mode": "text",
           "showlegend": false,
           "text": [
            "10",
            "20",
            "30",
            "40",
            "50",
            "40",
            "30",
            "20",
            "10"
           ],
           "textfont": {
            "color": "#ffffff",
            "family": "Courier New, monospace",
            "size": 30
           },
           "type": "scatter",
           "x": [
            20,
            30,
            40,
            50,
            60,
            70,
            80,
            90,
            100
           ],
           "y": [
            48.5,
            48.5,
            48.5,
            48.5,
            48.5,
            48.5,
            48.5,
            48.5,
            48.5
           ]
          },
          {
           "hoverinfo": "none",
           "line": {
            "color": "blue",
            "dash": "dash"
           },
           "showlegend": false,
           "type": "scatter",
           "x": [
            74,
            74
           ],
           "y": [
            0,
            53.5
           ]
          },
          {
           "hoverinfo": "none",
           "line": {
            "color": "yellow",
            "dash": "dash"
           },
           "showlegend": false,
           "type": "scatter",
           "x": [
            80,
            80
           ],
           "y": [
            0,
            53.5
           ]
          },
          {
           "fill": "toself",
           "fillcolor": "#000000",
           "hoverinfo": "skip",
           "line": {
            "color": "white",
            "width": 3
           },
           "mode": "lines",
           "opacity": 1,
           "showlegend": false,
           "type": "scatter",
           "x": [
            0,
            0,
            10,
            10,
            0
           ],
           "y": [
            0,
            53.5,
            53.5,
            0,
            0
           ]
          },
          {
           "fill": "toself",
           "fillcolor": "#FFB612",
           "hoverinfo": "skip",
           "line": {
            "color": "white",
            "width": 3
           },
           "mode": "lines",
           "opacity": 1,
           "showlegend": false,
           "type": "scatter",
           "x": [
            110,
            110,
            120,
            120,
            110
           ],
           "y": [
            0,
            53.5,
            53.5,
            0,
            0
           ]
          },
          {
           "hoverinfo": "text",
           "hovertext": [
            "nflId:37104<br>displayName:Cameron Heyward<br>Player Speed:0.0 MPH",
            "nflId:43325<br>displayName:Myles Jack<br>Player Speed:0.022 MPH",
            "nflId:44842<br>displayName:T.J. Watt<br>Player Speed:0.134 MPH",
            "nflId:44878<br>displayName:Ahkello Witherspoon<br>Player Speed:1.253 MPH",
            "nflId:44906<br>displayName:Cameron Sutton<br>Player Speed:0.582 MPH",
            "nflId:45395<br>displayName:Arthur Maulet<br>Player Speed:0.649 MPH",
            "nflId:46080<br>displayName:Minkah Fitzpatrick<br>Player Speed:0.157 MPH",
            "nflId:46097<br>displayName:Terrell Edmunds<br>Player Speed:2.349 MPH",
            "nflId:46902<br>displayName:Robert Spillane<br>Player Speed:0.022 MPH",
            "nflId:52971<br>displayName:Jamir Jones<br>Player Speed:0.022 MPH",
            "nflId:54549<br>displayName:DeMarvin Leal<br>Player Speed:0.246 MPH"
           ],
           "marker": {
            "color": "#FFB612",
            "line": {
             "color": "#101820",
             "width": 2
            },
            "size": 10
           },
           "mode": "markers",
           "name": "PIT",
           "type": "scatter",
           "x": [
            75.04,
            79.47,
            74.63,
            78.47,
            80.27,
            78.8,
            85.83,
            84.55,
            78.76,
            75.27,
            74.61
           ],
           "y": [
            30.76,
            28.75,
            22.8,
            22.32,
            41.86,
            38.24,
            36.21,
            27.42,
            33.25,
            34.87,
            27.1
           ]
          },
          {
           "hoverinfo": "text",
           "hovertext": [
            "nflId:42654<br>displayName:La'el Collins<br>Player Speed:0.0 MPH",
            "nflId:43344<br>displayName:Tyler Boyd<br>Player Speed:0.514 MPH",
            "nflId:43495<br>displayName:Mike Thomas<br>Player Speed:0.112 MPH",
            "nflId:43510<br>displayName:Ted Karras<br>Player Speed:0.067 MPH",
            "nflId:44860<br>displayName:Joe Mixon<br>Player Speed:0.157 MPH",
            "nflId:46163<br>displayName:Alex Cappa<br>Player Speed:0.112 MPH",
            "nflId:47794<br>displayName:Jonah Williams<br>Player Speed:0.067 MPH",
            "nflId:47835<br>displayName:Drew Sample<br>Player Speed:0.0 MPH",
            "nflId:52409<br>displayName:Joe Burrow<br>Player Speed:1.253 MPH",
            "nflId:53434<br>displayName:Ja'Marr Chase<br>Player Speed:2.595 MPH",
            "nflId:54601<br>displayName:Cordell Volson<br>Player Speed:0.0 MPH"
           ],
           "marker": {
            "color": "#000000",
            "line": {
             "color": "#FB4F14",
             "width": 2
            },
            "size": 10
           },
           "mode": "markers",
           "name": "CIN",
           "type": "scatter",
           "x": [
            72.73,
            73.6,
            72.63,
            73.59,
            68.91,
            72.9,
            72.74,
            72.69,
            69.13,
            71.83,
            73.05
           ],
           "y": [
            26.6,
            36.78,
            38.74,
            29.68,
            27.06,
            28.22,
            32.71,
            24.81,
            29.73,
            36.21,
            31.3
           ]
          },
          {
           "hoverinfo": "none",
           "marker": {
            "color": "#CBB67C",
            "line": {
             "color": "#663831",
             "width": 2
            },
            "size": 10
           },
           "mode": "markers",
           "name": "football",
           "type": "scatter",
           "x": [
            73.8099975585938
           ],
           "y": [
            29.7000007629395
           ]
          }
         ],
         "name": "34"
        },
        {
         "data": [
          {
           "hoverinfo": "none",
           "mode": "text",
           "showlegend": false,
           "text": [
            "10",
            "20",
            "30",
            "40",
            "50",
            "40",
            "30",
            "20",
            "10"
           ],
           "textfont": {
            "color": "#ffffff",
            "family": "Courier New, monospace",
            "size": 30
           },
           "type": "scatter",
           "x": [
            20,
            30,
            40,
            50,
            60,
            70,
            80,
            90,
            100
           ],
           "y": [
            5,
            5,
            5,
            5,
            5,
            5,
            5,
            5,
            5
           ]
          },
          {
           "hoverinfo": "none",
           "mode": "text",
           "showlegend": false,
           "text": [
            "10",
            "20",
            "30",
            "40",
            "50",
            "40",
            "30",
            "20",
            "10"
           ],
           "textfont": {
            "color": "#ffffff",
            "family": "Courier New, monospace",
            "size": 30
           },
           "type": "scatter",
           "x": [
            20,
            30,
            40,
            50,
            60,
            70,
            80,
            90,
            100
           ],
           "y": [
            48.5,
            48.5,
            48.5,
            48.5,
            48.5,
            48.5,
            48.5,
            48.5,
            48.5
           ]
          },
          {
           "hoverinfo": "none",
           "line": {
            "color": "blue",
            "dash": "dash"
           },
           "showlegend": false,
           "type": "scatter",
           "x": [
            74,
            74
           ],
           "y": [
            0,
            53.5
           ]
          },
          {
           "hoverinfo": "none",
           "line": {
            "color": "yellow",
            "dash": "dash"
           },
           "showlegend": false,
           "type": "scatter",
           "x": [
            80,
            80
           ],
           "y": [
            0,
            53.5
           ]
          },
          {
           "fill": "toself",
           "fillcolor": "#000000",
           "hoverinfo": "skip",
           "line": {
            "color": "white",
            "width": 3
           },
           "mode": "lines",
           "opacity": 1,
           "showlegend": false,
           "type": "scatter",
           "x": [
            0,
            0,
            10,
            10,
            0
           ],
           "y": [
            0,
            53.5,
            53.5,
            0,
            0
           ]
          },
          {
           "fill": "toself",
           "fillcolor": "#FFB612",
           "hoverinfo": "skip",
           "line": {
            "color": "white",
            "width": 3
           },
           "mode": "lines",
           "opacity": 1,
           "showlegend": false,
           "type": "scatter",
           "x": [
            110,
            110,
            120,
            120,
            110
           ],
           "y": [
            0,
            53.5,
            53.5,
            0,
            0
           ]
          },
          {
           "hoverinfo": "text",
           "hovertext": [
            "nflId:37104<br>displayName:Cameron Heyward<br>Player Speed:0.0 MPH",
            "nflId:43325<br>displayName:Myles Jack<br>Player Speed:0.022 MPH",
            "nflId:44842<br>displayName:T.J. Watt<br>Player Speed:0.112 MPH",
            "nflId:44878<br>displayName:Ahkello Witherspoon<br>Player Speed:1.253 MPH",
            "nflId:44906<br>displayName:Cameron Sutton<br>Player Speed:0.604 MPH",
            "nflId:45395<br>displayName:Arthur Maulet<br>Player Speed:0.693 MPH",
            "nflId:46080<br>displayName:Minkah Fitzpatrick<br>Player Speed:0.089 MPH",
            "nflId:46097<br>displayName:Terrell Edmunds<br>Player Speed:2.147 MPH",
            "nflId:46902<br>displayName:Robert Spillane<br>Player Speed:0.022 MPH",
            "nflId:52971<br>displayName:Jamir Jones<br>Player Speed:0.022 MPH",
            "nflId:54549<br>displayName:DeMarvin Leal<br>Player Speed:0.246 MPH"
           ],
           "marker": {
            "color": "#FFB612",
            "line": {
             "color": "#101820",
             "width": 2
            },
            "size": 10
           },
           "mode": "markers",
           "name": "PIT",
           "type": "scatter",
           "x": [
            75.04,
            79.47,
            74.64,
            78.51,
            80.26,
            78.77,
            85.84,
            84.65,
            78.76,
            75.27,
            74.62
           ],
           "y": [
            30.76,
            28.74,
            22.81,
            22.28,
            41.84,
            38.23,
            36.21,
            27.4,
            33.26,
            34.87,
            27.11
           ]
          },
          {
           "hoverinfo": "text",
           "hovertext": [
            "nflId:42654<br>displayName:La'el Collins<br>Player Speed:0.0 MPH",
            "nflId:43344<br>displayName:Tyler Boyd<br>Player Speed:0.47 MPH",
            "nflId:43495<br>displayName:Mike Thomas<br>Player Speed:0.157 MPH",
            "nflId:43510<br>displayName:Ted Karras<br>Player Speed:0.045 MPH",
            "nflId:44860<br>displayName:Joe Mixon<br>Player Speed:0.134 MPH",
            "nflId:46163<br>displayName:Alex Cappa<br>Player Speed:0.089 MPH",
            "nflId:47794<br>displayName:Jonah Williams<br>Player Speed:0.067 MPH",
            "nflId:47835<br>displayName:Drew Sample<br>Player Speed:0.0 MPH",
            "nflId:52409<br>displayName:Joe Burrow<br>Player Speed:1.186 MPH",
            "nflId:53434<br>displayName:Ja'Marr Chase<br>Player Speed:2.55 MPH",
            "nflId:54601<br>displayName:Cordell Volson<br>Player Speed:0.0 MPH"
           ],
           "marker": {
            "color": "#000000",
            "line": {
             "color": "#FB4F14",
             "width": 2
            },
            "size": 10
           },
           "mode": "markers",
           "name": "CIN",
           "type": "scatter",
           "x": [
            72.73,
            73.61,
            72.61,
            73.58,
            68.92,
            72.9,
            72.74,
            72.69,
            69.08,
            71.82,
            73.05
           ],
           "y": [
            26.6,
            36.81,
            38.75,
            29.68,
            27.06,
            28.22,
            32.71,
            24.82,
            29.73,
            36.1,
            31.3
           ]
          },
          {
           "hoverinfo": "none",
           "marker": {
            "color": "#CBB67C",
            "line": {
             "color": "#663831",
             "width": 2
            },
            "size": 10
           },
           "mode": "markers",
           "name": "football",
           "type": "scatter",
           "x": [
            73.8099975585938
           ],
           "y": [
            29.7000007629395
           ]
          }
         ],
         "name": "35"
        },
        {
         "data": [
          {
           "hoverinfo": "none",
           "mode": "text",
           "showlegend": false,
           "text": [
            "10",
            "20",
            "30",
            "40",
            "50",
            "40",
            "30",
            "20",
            "10"
           ],
           "textfont": {
            "color": "#ffffff",
            "family": "Courier New, monospace",
            "size": 30
           },
           "type": "scatter",
           "x": [
            20,
            30,
            40,
            50,
            60,
            70,
            80,
            90,
            100
           ],
           "y": [
            5,
            5,
            5,
            5,
            5,
            5,
            5,
            5,
            5
           ]
          },
          {
           "hoverinfo": "none",
           "mode": "text",
           "showlegend": false,
           "text": [
            "10",
            "20",
            "30",
            "40",
            "50",
            "40",
            "30",
            "20",
            "10"
           ],
           "textfont": {
            "color": "#ffffff",
            "family": "Courier New, monospace",
            "size": 30
           },
           "type": "scatter",
           "x": [
            20,
            30,
            40,
            50,
            60,
            70,
            80,
            90,
            100
           ],
           "y": [
            48.5,
            48.5,
            48.5,
            48.5,
            48.5,
            48.5,
            48.5,
            48.5,
            48.5
           ]
          },
          {
           "hoverinfo": "none",
           "line": {
            "color": "blue",
            "dash": "dash"
           },
           "showlegend": false,
           "type": "scatter",
           "x": [
            74,
            74
           ],
           "y": [
            0,
            53.5
           ]
          },
          {
           "hoverinfo": "none",
           "line": {
            "color": "yellow",
            "dash": "dash"
           },
           "showlegend": false,
           "type": "scatter",
           "x": [
            80,
            80
           ],
           "y": [
            0,
            53.5
           ]
          },
          {
           "fill": "toself",
           "fillcolor": "#000000",
           "hoverinfo": "skip",
           "line": {
            "color": "white",
            "width": 3
           },
           "mode": "lines",
           "opacity": 1,
           "showlegend": false,
           "type": "scatter",
           "x": [
            0,
            0,
            10,
            10,
            0
           ],
           "y": [
            0,
            53.5,
            53.5,
            0,
            0
           ]
          },
          {
           "fill": "toself",
           "fillcolor": "#FFB612",
           "hoverinfo": "skip",
           "line": {
            "color": "white",
            "width": 3
           },
           "mode": "lines",
           "opacity": 1,
           "showlegend": false,
           "type": "scatter",
           "x": [
            110,
            110,
            120,
            120,
            110
           ],
           "y": [
            0,
            53.5,
            53.5,
            0,
            0
           ]
          },
          {
           "hoverinfo": "text",
           "hovertext": [
            "nflId:37104<br>displayName:Cameron Heyward<br>Player Speed:0.0 MPH",
            "nflId:43325<br>displayName:Myles Jack<br>Player Speed:0.0 MPH",
            "nflId:44842<br>displayName:T.J. Watt<br>Player Speed:0.089 MPH",
            "nflId:44878<br>displayName:Ahkello Witherspoon<br>Player Speed:1.297 MPH",
            "nflId:44906<br>displayName:Cameron Sutton<br>Player Speed:0.626 MPH",
            "nflId:45395<br>displayName:Arthur Maulet<br>Player Speed:0.693 MPH",
            "nflId:46080<br>displayName:Minkah Fitzpatrick<br>Player Speed:0.089 MPH",
            "nflId:46097<br>displayName:Terrell Edmunds<br>Player Speed:1.991 MPH",
            "nflId:46902<br>displayName:Robert Spillane<br>Player Speed:0.022 MPH",
            "nflId:52971<br>displayName:Jamir Jones<br>Player Speed:0.022 MPH",
            "nflId:54549<br>displayName:DeMarvin Leal<br>Player Speed:0.246 MPH"
           ],
           "marker": {
            "color": "#FFB612",
            "line": {
             "color": "#101820",
             "width": 2
            },
            "size": 10
           },
           "mode": "markers",
           "name": "PIT",
           "type": "scatter",
           "x": [
            75.04,
            79.47,
            74.65,
            78.56,
            80.27,
            78.74,
            85.84,
            84.74,
            78.76,
            75.26,
            74.63
           ],
           "y": [
            30.77,
            28.75,
            22.81,
            22.25,
            41.81,
            38.22,
            36.21,
            27.38,
            33.26,
            34.87,
            27.11
           ]
          },
          {
           "hoverinfo": "text",
           "hovertext": [
            "nflId:42654<br>displayName:La'el Collins<br>Player Speed:0.0 MPH",
            "nflId:43344<br>displayName:Tyler Boyd<br>Player Speed:0.336 MPH",
            "nflId:43495<br>displayName:Mike Thomas<br>Player Speed:0.179 MPH",
            "nflId:43510<br>displayName:Ted Karras<br>Player Speed:0.045 MPH",
            "nflId:44860<br>displayName:Joe Mixon<br>Player Speed:0.179 MPH",
            "nflId:46163<br>displayName:Alex Cappa<br>Player Speed:0.089 MPH",
            "nflId:47794<br>displayName:Jonah Williams<br>Player Speed:0.067 MPH",
            "nflId:47835<br>displayName:Drew Sample<br>Player Speed:0.0 MPH",
            "nflId:52409<br>displayName:Joe Burrow<br>Player Speed:1.096 MPH",
            "nflId:53434<br>displayName:Ja'Marr Chase<br>Player Speed:2.617 MPH",
            "nflId:54601<br>displayName:Cordell Volson<br>Player Speed:0.0 MPH"
           ],
           "marker": {
            "color": "#000000",
            "line": {
             "color": "#FB4F14",
             "width": 2
            },
            "size": 10
           },
           "mode": "markers",
           "name": "CIN",
           "type": "scatter",
           "x": [
            72.73,
            73.6,
            72.59,
            73.58,
            68.92,
            72.9,
            72.74,
            72.69,
            69.03,
            71.79,
            73.05
           ],
           "y": [
            26.6,
            36.82,
            38.76,
            29.68,
            27.04,
            28.21,
            32.71,
            24.82,
            29.73,
            35.99,
            31.3
           ]
          },
          {
           "hoverinfo": "none",
           "marker": {
            "color": "#CBB67C",
            "line": {
             "color": "#663831",
             "width": 2
            },
            "size": 10
           },
           "mode": "markers",
           "name": "football",
           "type": "scatter",
           "x": [
            73.8099975585938
           ],
           "y": [
            29.7000007629395
           ]
          }
         ],
         "name": "36"
        },
        {
         "data": [
          {
           "hoverinfo": "none",
           "mode": "text",
           "showlegend": false,
           "text": [
            "10",
            "20",
            "30",
            "40",
            "50",
            "40",
            "30",
            "20",
            "10"
           ],
           "textfont": {
            "color": "#ffffff",
            "family": "Courier New, monospace",
            "size": 30
           },
           "type": "scatter",
           "x": [
            20,
            30,
            40,
            50,
            60,
            70,
            80,
            90,
            100
           ],
           "y": [
            5,
            5,
            5,
            5,
            5,
            5,
            5,
            5,
            5
           ]
          },
          {
           "hoverinfo": "none",
           "mode": "text",
           "showlegend": false,
           "text": [
            "10",
            "20",
            "30",
            "40",
            "50",
            "40",
            "30",
            "20",
            "10"
           ],
           "textfont": {
            "color": "#ffffff",
            "family": "Courier New, monospace",
            "size": 30
           },
           "type": "scatter",
           "x": [
            20,
            30,
            40,
            50,
            60,
            70,
            80,
            90,
            100
           ],
           "y": [
            48.5,
            48.5,
            48.5,
            48.5,
            48.5,
            48.5,
            48.5,
            48.5,
            48.5
           ]
          },
          {
           "hoverinfo": "none",
           "line": {
            "color": "blue",
            "dash": "dash"
           },
           "showlegend": false,
           "type": "scatter",
           "x": [
            74,
            74
           ],
           "y": [
            0,
            53.5
           ]
          },
          {
           "hoverinfo": "none",
           "line": {
            "color": "yellow",
            "dash": "dash"
           },
           "showlegend": false,
           "type": "scatter",
           "x": [
            80,
            80
           ],
           "y": [
            0,
            53.5
           ]
          },
          {
           "fill": "toself",
           "fillcolor": "#000000",
           "hoverinfo": "skip",
           "line": {
            "color": "white",
            "width": 3
           },
           "mode": "lines",
           "opacity": 1,
           "showlegend": false,
           "type": "scatter",
           "x": [
            0,
            0,
            10,
            10,
            0
           ],
           "y": [
            0,
            53.5,
            53.5,
            0,
            0
           ]
          },
          {
           "fill": "toself",
           "fillcolor": "#FFB612",
           "hoverinfo": "skip",
           "line": {
            "color": "white",
            "width": 3
           },
           "mode": "lines",
           "opacity": 1,
           "showlegend": false,
           "type": "scatter",
           "x": [
            110,
            110,
            120,
            120,
            110
           ],
           "y": [
            0,
            53.5,
            53.5,
            0,
            0
           ]
          },
          {
           "hoverinfo": "text",
           "hovertext": [
            "nflId:37104<br>displayName:Cameron Heyward<br>Player Speed:0.0 MPH",
            "nflId:43325<br>displayName:Myles Jack<br>Player Speed:0.0 MPH",
            "nflId:44842<br>displayName:T.J. Watt<br>Player Speed:0.067 MPH",
            "nflId:44878<br>displayName:Ahkello Witherspoon<br>Player Speed:1.342 MPH",
            "nflId:44906<br>displayName:Cameron Sutton<br>Player Speed:0.582 MPH",
            "nflId:45395<br>displayName:Arthur Maulet<br>Player Speed:0.716 MPH",
            "nflId:46080<br>displayName:Minkah Fitzpatrick<br>Player Speed:0.089 MPH",
            "nflId:46097<br>displayName:Terrell Edmunds<br>Player Speed:1.812 MPH",
            "nflId:46902<br>displayName:Robert Spillane<br>Player Speed:0.022 MPH",
            "nflId:52971<br>displayName:Jamir Jones<br>Player Speed:0.022 MPH",
            "nflId:54549<br>displayName:DeMarvin Leal<br>Player Speed:0.246 MPH"
           ],
           "marker": {
            "color": "#FFB612",
            "line": {
             "color": "#101820",
             "width": 2
            },
            "size": 10
           },
           "mode": "markers",
           "name": "PIT",
           "type": "scatter",
           "x": [
            75.04,
            79.47,
            74.65,
            78.62,
            80.27,
            78.71,
            85.83,
            84.82,
            78.76,
            75.26,
            74.64
           ],
           "y": [
            30.77,
            28.75,
            22.8,
            22.22,
            41.78,
            38.21,
            36.2,
            27.35,
            33.26,
            34.87,
            27.12
           ]
          },
          {
           "hoverinfo": "text",
           "hovertext": [
            "nflId:42654<br>displayName:La'el Collins<br>Player Speed:0.0 MPH",
            "nflId:43344<br>displayName:Tyler Boyd<br>Player Speed:0.336 MPH",
            "nflId:43495<br>displayName:Mike Thomas<br>Player Speed:0.179 MPH",
            "nflId:43510<br>displayName:Ted Karras<br>Player Speed:0.045 MPH",
            "nflId:44860<br>displayName:Joe Mixon<br>Player Speed:0.201 MPH",
            "nflId:46163<br>displayName:Alex Cappa<br>Player Speed:0.067 MPH",
            "nflId:47794<br>displayName:Jonah Williams<br>Player Speed:0.045 MPH",
            "nflId:47835<br>displayName:Drew Sample<br>Player Speed:0.0 MPH",
            "nflId:52409<br>displayName:Joe Burrow<br>Player Speed:1.029 MPH",
            "nflId:53434<br>displayName:Ja'Marr Chase<br>Player Speed:2.595 MPH",
            "nflId:54601<br>displayName:Cordell Volson<br>Player Speed:0.0 MPH"
           ],
           "marker": {
            "color": "#000000",
            "line": {
             "color": "#FB4F14",
             "width": 2
            },
            "size": 10
           },
           "mode": "markers",
           "name": "CIN",
           "type": "scatter",
           "x": [
            72.73,
            73.6,
            72.58,
            73.58,
            68.92,
            72.9,
            72.74,
            72.68,
            68.98,
            71.76,
            73.05
           ],
           "y": [
            26.6,
            36.83,
            38.77,
            29.67,
            27.02,
            28.21,
            32.71,
            24.83,
            29.73,
            35.88,
            31.3
           ]
          },
          {
           "hoverinfo": "none",
           "marker": {
            "color": "#CBB67C",
            "line": {
             "color": "#663831",
             "width": 2
            },
            "size": 10
           },
           "mode": "markers",
           "name": "football",
           "type": "scatter",
           "x": [
            73.8099975585938
           ],
           "y": [
            29.7000007629395
           ]
          }
         ],
         "name": "37"
        },
        {
         "data": [
          {
           "hoverinfo": "none",
           "mode": "text",
           "showlegend": false,
           "text": [
            "10",
            "20",
            "30",
            "40",
            "50",
            "40",
            "30",
            "20",
            "10"
           ],
           "textfont": {
            "color": "#ffffff",
            "family": "Courier New, monospace",
            "size": 30
           },
           "type": "scatter",
           "x": [
            20,
            30,
            40,
            50,
            60,
            70,
            80,
            90,
            100
           ],
           "y": [
            5,
            5,
            5,
            5,
            5,
            5,
            5,
            5,
            5
           ]
          },
          {
           "hoverinfo": "none",
           "mode": "text",
           "showlegend": false,
           "text": [
            "10",
            "20",
            "30",
            "40",
            "50",
            "40",
            "30",
            "20",
            "10"
           ],
           "textfont": {
            "color": "#ffffff",
            "family": "Courier New, monospace",
            "size": 30
           },
           "type": "scatter",
           "x": [
            20,
            30,
            40,
            50,
            60,
            70,
            80,
            90,
            100
           ],
           "y": [
            48.5,
            48.5,
            48.5,
            48.5,
            48.5,
            48.5,
            48.5,
            48.5,
            48.5
           ]
          },
          {
           "hoverinfo": "none",
           "line": {
            "color": "blue",
            "dash": "dash"
           },
           "showlegend": false,
           "type": "scatter",
           "x": [
            74,
            74
           ],
           "y": [
            0,
            53.5
           ]
          },
          {
           "hoverinfo": "none",
           "line": {
            "color": "yellow",
            "dash": "dash"
           },
           "showlegend": false,
           "type": "scatter",
           "x": [
            80,
            80
           ],
           "y": [
            0,
            53.5
           ]
          },
          {
           "fill": "toself",
           "fillcolor": "#000000",
           "hoverinfo": "skip",
           "line": {
            "color": "white",
            "width": 3
           },
           "mode": "lines",
           "opacity": 1,
           "showlegend": false,
           "type": "scatter",
           "x": [
            0,
            0,
            10,
            10,
            0
           ],
           "y": [
            0,
            53.5,
            53.5,
            0,
            0
           ]
          },
          {
           "fill": "toself",
           "fillcolor": "#FFB612",
           "hoverinfo": "skip",
           "line": {
            "color": "white",
            "width": 3
           },
           "mode": "lines",
           "opacity": 1,
           "showlegend": false,
           "type": "scatter",
           "x": [
            110,
            110,
            120,
            120,
            110
           ],
           "y": [
            0,
            53.5,
            53.5,
            0,
            0
           ]
          },
          {
           "hoverinfo": "text",
           "hovertext": [
            "nflId:37104<br>displayName:Cameron Heyward<br>Player Speed:0.0 MPH",
            "nflId:43325<br>displayName:Myles Jack<br>Player Speed:0.0 MPH",
            "nflId:44842<br>displayName:T.J. Watt<br>Player Speed:0.067 MPH",
            "nflId:44878<br>displayName:Ahkello Witherspoon<br>Player Speed:1.432 MPH",
            "nflId:44906<br>displayName:Cameron Sutton<br>Player Speed:0.537 MPH",
            "nflId:45395<br>displayName:Arthur Maulet<br>Player Speed:0.805 MPH",
            "nflId:46080<br>displayName:Minkah Fitzpatrick<br>Player Speed:0.067 MPH",
            "nflId:46097<br>displayName:Terrell Edmunds<br>Player Speed:1.521 MPH",
            "nflId:46902<br>displayName:Robert Spillane<br>Player Speed:0.0 MPH",
            "nflId:52971<br>displayName:Jamir Jones<br>Player Speed:0.022 MPH",
            "nflId:54549<br>displayName:DeMarvin Leal<br>Player Speed:0.224 MPH"
           ],
           "marker": {
            "color": "#FFB612",
            "line": {
             "color": "#101820",
             "width": 2
            },
            "size": 10
           },
           "mode": "markers",
           "name": "PIT",
           "type": "scatter",
           "x": [
            75.03,
            79.47,
            74.65,
            78.67,
            80.27,
            78.67,
            85.83,
            84.88,
            78.76,
            75.24,
            74.64
           ],
           "y": [
            30.77,
            28.74,
            22.8,
            22.2,
            41.76,
            38.2,
            36.2,
            27.32,
            33.25,
            34.87,
            27.13
           ]
          },
          {
           "hoverinfo": "text",
           "hovertext": [
            "nflId:42654<br>displayName:La'el Collins<br>Player Speed:0.0 MPH",
            "nflId:43344<br>displayName:Tyler Boyd<br>Player Speed:0.358 MPH",
            "nflId:43495<br>displayName:Mike Thomas<br>Player Speed:0.179 MPH",
            "nflId:43510<br>displayName:Ted Karras<br>Player Speed:0.045 MPH",
            "nflId:44860<br>displayName:Joe Mixon<br>Player Speed:0.157 MPH",
            "nflId:46163<br>displayName:Alex Cappa<br>Player Speed:0.067 MPH",
            "nflId:47794<br>displayName:Jonah Williams<br>Player Speed:0.045 MPH",
            "nflId:47835<br>displayName:Drew Sample<br>Player Speed:0.0 MPH",
            "nflId:52409<br>displayName:Joe Burrow<br>Player Speed:0.984 MPH",
            "nflId:53434<br>displayName:Ja'Marr Chase<br>Player Speed:2.684 MPH",
            "nflId:54601<br>displayName:Cordell Volson<br>Player Speed:0.0 MPH"
           ],
           "marker": {
            "color": "#000000",
            "line": {
             "color": "#FB4F14",
             "width": 2
            },
            "size": 10
           },
           "mode": "markers",
           "name": "CIN",
           "type": "scatter",
           "x": [
            72.73,
            73.58,
            72.58,
            73.58,
            68.92,
            72.9,
            72.75,
            72.68,
            68.94,
            71.72,
            73.05
           ],
           "y": [
            26.6,
            36.83,
            38.78,
            29.67,
            27.02,
            28.21,
            32.71,
            24.83,
            29.74,
            35.76,
            31.3
           ]
          },
          {
           "hoverinfo": "none",
           "marker": {
            "color": "#CBB67C",
            "line": {
             "color": "#663831",
             "width": 2
            },
            "size": 10
           },
           "mode": "markers",
           "name": "football",
           "type": "scatter",
           "x": [
            73.8099975585938
           ],
           "y": [
            29.7000007629395
           ]
          }
         ],
         "name": "38"
        },
        {
         "data": [
          {
           "hoverinfo": "none",
           "mode": "text",
           "showlegend": false,
           "text": [
            "10",
            "20",
            "30",
            "40",
            "50",
            "40",
            "30",
            "20",
            "10"
           ],
           "textfont": {
            "color": "#ffffff",
            "family": "Courier New, monospace",
            "size": 30
           },
           "type": "scatter",
           "x": [
            20,
            30,
            40,
            50,
            60,
            70,
            80,
            90,
            100
           ],
           "y": [
            5,
            5,
            5,
            5,
            5,
            5,
            5,
            5,
            5
           ]
          },
          {
           "hoverinfo": "none",
           "mode": "text",
           "showlegend": false,
           "text": [
            "10",
            "20",
            "30",
            "40",
            "50",
            "40",
            "30",
            "20",
            "10"
           ],
           "textfont": {
            "color": "#ffffff",
            "family": "Courier New, monospace",
            "size": 30
           },
           "type": "scatter",
           "x": [
            20,
            30,
            40,
            50,
            60,
            70,
            80,
            90,
            100
           ],
           "y": [
            48.5,
            48.5,
            48.5,
            48.5,
            48.5,
            48.5,
            48.5,
            48.5,
            48.5
           ]
          },
          {
           "hoverinfo": "none",
           "line": {
            "color": "blue",
            "dash": "dash"
           },
           "showlegend": false,
           "type": "scatter",
           "x": [
            74,
            74
           ],
           "y": [
            0,
            53.5
           ]
          },
          {
           "hoverinfo": "none",
           "line": {
            "color": "yellow",
            "dash": "dash"
           },
           "showlegend": false,
           "type": "scatter",
           "x": [
            80,
            80
           ],
           "y": [
            0,
            53.5
           ]
          },
          {
           "fill": "toself",
           "fillcolor": "#000000",
           "hoverinfo": "skip",
           "line": {
            "color": "white",
            "width": 3
           },
           "mode": "lines",
           "opacity": 1,
           "showlegend": false,
           "type": "scatter",
           "x": [
            0,
            0,
            10,
            10,
            0
           ],
           "y": [
            0,
            53.5,
            53.5,
            0,
            0
           ]
          },
          {
           "fill": "toself",
           "fillcolor": "#FFB612",
           "hoverinfo": "skip",
           "line": {
            "color": "white",
            "width": 3
           },
           "mode": "lines",
           "opacity": 1,
           "showlegend": false,
           "type": "scatter",
           "x": [
            110,
            110,
            120,
            120,
            110
           ],
           "y": [
            0,
            53.5,
            53.5,
            0,
            0
           ]
          },
          {
           "hoverinfo": "text",
           "hovertext": [
            "nflId:37104<br>displayName:Cameron Heyward<br>Player Speed:0.0 MPH",
            "nflId:43325<br>displayName:Myles Jack<br>Player Speed:0.0 MPH",
            "nflId:44842<br>displayName:T.J. Watt<br>Player Speed:0.045 MPH",
            "nflId:44878<br>displayName:Ahkello Witherspoon<br>Player Speed:1.476 MPH",
            "nflId:44906<br>displayName:Cameron Sutton<br>Player Speed:0.514 MPH",
            "nflId:45395<br>displayName:Arthur Maulet<br>Player Speed:0.828 MPH",
            "nflId:46080<br>displayName:Minkah Fitzpatrick<br>Player Speed:0.067 MPH",
            "nflId:46097<br>displayName:Terrell Edmunds<br>Player Speed:1.32 MPH",
            "nflId:46902<br>displayName:Robert Spillane<br>Player Speed:0.0 MPH",
            "nflId:52971<br>displayName:Jamir Jones<br>Player Speed:0.045 MPH",
            "nflId:54549<br>displayName:DeMarvin Leal<br>Player Speed:0.201 MPH"
           ],
           "marker": {
            "color": "#FFB612",
            "line": {
             "color": "#101820",
             "width": 2
            },
            "size": 10
           },
           "mode": "markers",
           "name": "PIT",
           "type": "scatter",
           "x": [
            75.04,
            79.47,
            74.65,
            78.74,
            80.27,
            78.63,
            85.83,
            84.93,
            78.76,
            75.21,
            74.65
           ],
           "y": [
            30.77,
            28.74,
            22.8,
            22.18,
            41.74,
            38.2,
            36.2,
            27.28,
            33.24,
            34.87,
            27.13
           ]
          },
          {
           "hoverinfo": "text",
           "hovertext": [
            "nflId:42654<br>displayName:La'el Collins<br>Player Speed:0.0 MPH",
            "nflId:43344<br>displayName:Tyler Boyd<br>Player Speed:0.403 MPH",
            "nflId:43495<br>displayName:Mike Thomas<br>Player Speed:0.179 MPH",
            "nflId:43510<br>displayName:Ted Karras<br>Player Speed:0.045 MPH",
            "nflId:44860<br>displayName:Joe Mixon<br>Player Speed:0.157 MPH",
            "nflId:46163<br>displayName:Alex Cappa<br>Player Speed:0.067 MPH",
            "nflId:47794<br>displayName:Jonah Williams<br>Player Speed:0.045 MPH",
            "nflId:47835<br>displayName:Drew Sample<br>Player Speed:0.0 MPH",
            "nflId:52409<br>displayName:Joe Burrow<br>Player Speed:0.85 MPH",
            "nflId:53434<br>displayName:Ja'Marr Chase<br>Player Speed:2.819 MPH",
            "nflId:54601<br>displayName:Cordell Volson<br>Player Speed:0.0 MPH"
           ],
           "marker": {
            "color": "#000000",
            "line": {
             "color": "#FB4F14",
             "width": 2
            },
            "size": 10
           },
           "mode": "markers",
           "name": "CIN",
           "type": "scatter",
           "x": [
            72.72,
            73.57,
            72.58,
            73.57,
            68.92,
            72.89,
            72.76,
            72.68,
            68.9,
            71.67,
            73.04
           ],
           "y": [
            26.6,
            36.83,
            38.8,
            29.68,
            27.01,
            28.21,
            32.71,
            24.83,
            29.76,
            35.65,
            31.3
           ]
          },
          {
           "hoverinfo": "none",
           "marker": {
            "color": "#CBB67C",
            "line": {
             "color": "#663831",
             "width": 2
            },
            "size": 10
           },
           "mode": "markers",
           "name": "football",
           "type": "scatter",
           "x": [
            73.8099975585938
           ],
           "y": [
            29.7000007629395
           ]
          }
         ],
         "name": "39"
        },
        {
         "data": [
          {
           "hoverinfo": "none",
           "mode": "text",
           "showlegend": false,
           "text": [
            "10",
            "20",
            "30",
            "40",
            "50",
            "40",
            "30",
            "20",
            "10"
           ],
           "textfont": {
            "color": "#ffffff",
            "family": "Courier New, monospace",
            "size": 30
           },
           "type": "scatter",
           "x": [
            20,
            30,
            40,
            50,
            60,
            70,
            80,
            90,
            100
           ],
           "y": [
            5,
            5,
            5,
            5,
            5,
            5,
            5,
            5,
            5
           ]
          },
          {
           "hoverinfo": "none",
           "mode": "text",
           "showlegend": false,
           "text": [
            "10",
            "20",
            "30",
            "40",
            "50",
            "40",
            "30",
            "20",
            "10"
           ],
           "textfont": {
            "color": "#ffffff",
            "family": "Courier New, monospace",
            "size": 30
           },
           "type": "scatter",
           "x": [
            20,
            30,
            40,
            50,
            60,
            70,
            80,
            90,
            100
           ],
           "y": [
            48.5,
            48.5,
            48.5,
            48.5,
            48.5,
            48.5,
            48.5,
            48.5,
            48.5
           ]
          },
          {
           "hoverinfo": "none",
           "line": {
            "color": "blue",
            "dash": "dash"
           },
           "showlegend": false,
           "type": "scatter",
           "x": [
            74,
            74
           ],
           "y": [
            0,
            53.5
           ]
          },
          {
           "hoverinfo": "none",
           "line": {
            "color": "yellow",
            "dash": "dash"
           },
           "showlegend": false,
           "type": "scatter",
           "x": [
            80,
            80
           ],
           "y": [
            0,
            53.5
           ]
          },
          {
           "fill": "toself",
           "fillcolor": "#000000",
           "hoverinfo": "skip",
           "line": {
            "color": "white",
            "width": 3
           },
           "mode": "lines",
           "opacity": 1,
           "showlegend": false,
           "type": "scatter",
           "x": [
            0,
            0,
            10,
            10,
            0
           ],
           "y": [
            0,
            53.5,
            53.5,
            0,
            0
           ]
          },
          {
           "fill": "toself",
           "fillcolor": "#FFB612",
           "hoverinfo": "skip",
           "line": {
            "color": "white",
            "width": 3
           },
           "mode": "lines",
           "opacity": 1,
           "showlegend": false,
           "type": "scatter",
           "x": [
            110,
            110,
            120,
            120,
            110
           ],
           "y": [
            0,
            53.5,
            53.5,
            0,
            0
           ]
          },
          {
           "hoverinfo": "text",
           "hovertext": [
            "nflId:37104<br>displayName:Cameron Heyward<br>Player Speed:0.0 MPH",
            "nflId:43325<br>displayName:Myles Jack<br>Player Speed:0.0 MPH",
            "nflId:44842<br>displayName:T.J. Watt<br>Player Speed:0.045 MPH",
            "nflId:44878<br>displayName:Ahkello Witherspoon<br>Player Speed:1.432 MPH",
            "nflId:44906<br>displayName:Cameron Sutton<br>Player Speed:0.425 MPH",
            "nflId:45395<br>displayName:Arthur Maulet<br>Player Speed:0.872 MPH",
            "nflId:46080<br>displayName:Minkah Fitzpatrick<br>Player Speed:0.067 MPH",
            "nflId:46097<br>displayName:Terrell Edmunds<br>Player Speed:1.297 MPH",
            "nflId:46902<br>displayName:Robert Spillane<br>Player Speed:0.045 MPH",
            "nflId:52971<br>displayName:Jamir Jones<br>Player Speed:0.045 MPH",
            "nflId:54549<br>displayName:DeMarvin Leal<br>Player Speed:0.179 MPH"
           ],
           "marker": {
            "color": "#FFB612",
            "line": {
             "color": "#101820",
             "width": 2
            },
            "size": 10
           },
           "mode": "markers",
           "name": "PIT",
           "type": "scatter",
           "x": [
            75.04,
            79.47,
            74.65,
            78.8,
            80.26,
            78.6,
            85.83,
            84.97,
            78.76,
            75.2,
            74.66
           ],
           "y": [
            30.77,
            28.74,
            22.8,
            22.18,
            41.73,
            38.2,
            36.2,
            27.24,
            33.23,
            34.86,
            27.12
           ]
          },
          {
           "hoverinfo": "text",
           "hovertext": [
            "nflId:42654<br>displayName:La'el Collins<br>Player Speed:0.0 MPH",
            "nflId:43344<br>displayName:Tyler Boyd<br>Player Speed:0.38 MPH",
            "nflId:43495<br>displayName:Mike Thomas<br>Player Speed:0.179 MPH",
            "nflId:43510<br>displayName:Ted Karras<br>Player Speed:0.022 MPH",
            "nflId:44860<br>displayName:Joe Mixon<br>Player Speed:0.134 MPH",
            "nflId:46163<br>displayName:Alex Cappa<br>Player Speed:0.045 MPH",
            "nflId:47794<br>displayName:Jonah Williams<br>Player Speed:0.045 MPH",
            "nflId:47835<br>displayName:Drew Sample<br>Player Speed:0.0 MPH",
            "nflId:52409<br>displayName:Joe Burrow<br>Player Speed:0.783 MPH",
            "nflId:53434<br>displayName:Ja'Marr Chase<br>Player Speed:3.199 MPH",
            "nflId:54601<br>displayName:Cordell Volson<br>Player Speed:0.0 MPH"
           ],
           "marker": {
            "color": "#000000",
            "line": {
             "color": "#FB4F14",
             "width": 2
            },
            "size": 10
           },
           "mode": "markers",
           "name": "CIN",
           "type": "scatter",
           "x": [
            72.73,
            73.55,
            72.57,
            73.57,
            68.92,
            72.89,
            72.76,
            72.68,
            68.87,
            71.59,
            73.04
           ],
           "y": [
            26.6,
            36.83,
            38.8,
            29.68,
            27.01,
            28.22,
            32.71,
            24.83,
            29.77,
            35.54,
            31.3
           ]
          },
          {
           "hoverinfo": "none",
           "marker": {
            "color": "#CBB67C",
            "line": {
             "color": "#663831",
             "width": 2
            },
            "size": 10
           },
           "mode": "markers",
           "name": "football",
           "type": "scatter",
           "x": [
            73.8099975585938
           ],
           "y": [
            29.7000007629395
           ]
          }
         ],
         "name": "40"
        },
        {
         "data": [
          {
           "hoverinfo": "none",
           "mode": "text",
           "showlegend": false,
           "text": [
            "10",
            "20",
            "30",
            "40",
            "50",
            "40",
            "30",
            "20",
            "10"
           ],
           "textfont": {
            "color": "#ffffff",
            "family": "Courier New, monospace",
            "size": 30
           },
           "type": "scatter",
           "x": [
            20,
            30,
            40,
            50,
            60,
            70,
            80,
            90,
            100
           ],
           "y": [
            5,
            5,
            5,
            5,
            5,
            5,
            5,
            5,
            5
           ]
          },
          {
           "hoverinfo": "none",
           "mode": "text",
           "showlegend": false,
           "text": [
            "10",
            "20",
            "30",
            "40",
            "50",
            "40",
            "30",
            "20",
            "10"
           ],
           "textfont": {
            "color": "#ffffff",
            "family": "Courier New, monospace",
            "size": 30
           },
           "type": "scatter",
           "x": [
            20,
            30,
            40,
            50,
            60,
            70,
            80,
            90,
            100
           ],
           "y": [
            48.5,
            48.5,
            48.5,
            48.5,
            48.5,
            48.5,
            48.5,
            48.5,
            48.5
           ]
          },
          {
           "hoverinfo": "none",
           "line": {
            "color": "blue",
            "dash": "dash"
           },
           "showlegend": false,
           "type": "scatter",
           "x": [
            74,
            74
           ],
           "y": [
            0,
            53.5
           ]
          },
          {
           "hoverinfo": "none",
           "line": {
            "color": "yellow",
            "dash": "dash"
           },
           "showlegend": false,
           "type": "scatter",
           "x": [
            80,
            80
           ],
           "y": [
            0,
            53.5
           ]
          },
          {
           "fill": "toself",
           "fillcolor": "#000000",
           "hoverinfo": "skip",
           "line": {
            "color": "white",
            "width": 3
           },
           "mode": "lines",
           "opacity": 1,
           "showlegend": false,
           "type": "scatter",
           "x": [
            0,
            0,
            10,
            10,
            0
           ],
           "y": [
            0,
            53.5,
            53.5,
            0,
            0
           ]
          },
          {
           "fill": "toself",
           "fillcolor": "#FFB612",
           "hoverinfo": "skip",
           "line": {
            "color": "white",
            "width": 3
           },
           "mode": "lines",
           "opacity": 1,
           "showlegend": false,
           "type": "scatter",
           "x": [
            110,
            110,
            120,
            120,
            110
           ],
           "y": [
            0,
            53.5,
            53.5,
            0,
            0
           ]
          },
          {
           "hoverinfo": "text",
           "hovertext": [
            "nflId:37104<br>displayName:Cameron Heyward<br>Player Speed:0.0 MPH",
            "nflId:43325<br>displayName:Myles Jack<br>Player Speed:0.0 MPH",
            "nflId:44842<br>displayName:T.J. Watt<br>Player Speed:0.045 MPH",
            "nflId:44878<br>displayName:Ahkello Witherspoon<br>Player Speed:1.387 MPH",
            "nflId:44906<br>displayName:Cameron Sutton<br>Player Speed:0.358 MPH",
            "nflId:45395<br>displayName:Arthur Maulet<br>Player Speed:1.029 MPH",
            "nflId:46080<br>displayName:Minkah Fitzpatrick<br>Player Speed:0.045 MPH",
            "nflId:46097<br>displayName:Terrell Edmunds<br>Player Speed:1.23 MPH",
            "nflId:46902<br>displayName:Robert Spillane<br>Player Speed:0.246 MPH",
            "nflId:52971<br>displayName:Jamir Jones<br>Player Speed:0.045 MPH",
            "nflId:54549<br>displayName:DeMarvin Leal<br>Player Speed:0.067 MPH"
           ],
           "marker": {
            "color": "#FFB612",
            "line": {
             "color": "#101820",
             "width": 2
            },
            "size": 10
           },
           "mode": "markers",
           "name": "PIT",
           "type": "scatter",
           "x": [
            75.03,
            79.47,
            74.65,
            78.87,
            80.25,
            78.55,
            85.83,
            85,
            78.75,
            75.18,
            74.64
           ],
           "y": [
            30.77,
            28.74,
            22.8,
            22.18,
            41.72,
            38.21,
            36.2,
            27.19,
            33.21,
            34.87,
            27.12
           ]
          },
          {
           "hoverinfo": "text",
           "hovertext": [
            "nflId:42654<br>displayName:La'el Collins<br>Player Speed:0.0 MPH",
            "nflId:43344<br>displayName:Tyler Boyd<br>Player Speed:0.313 MPH",
            "nflId:43495<br>displayName:Mike Thomas<br>Player Speed:0.157 MPH",
            "nflId:43510<br>displayName:Ted Karras<br>Player Speed:0.022 MPH",
            "nflId:44860<br>displayName:Joe Mixon<br>Player Speed:0.112 MPH",
            "nflId:46163<br>displayName:Alex Cappa<br>Player Speed:0.045 MPH",
            "nflId:47794<br>displayName:Jonah Williams<br>Player Speed:0.022 MPH",
            "nflId:47835<br>displayName:Drew Sample<br>Player Speed:0.0 MPH",
            "nflId:52409<br>displayName:Joe Burrow<br>Player Speed:0.693 MPH",
            "nflId:53434<br>displayName:Ja'Marr Chase<br>Player Speed:3.534 MPH",
            "nflId:54601<br>displayName:Cordell Volson<br>Player Speed:0.0 MPH"
           ],
           "marker": {
            "color": "#000000",
            "line": {
             "color": "#FB4F14",
             "width": 2
            },
            "size": 10
           },
           "mode": "markers",
           "name": "CIN",
           "type": "scatter",
           "x": [
            72.73,
            73.53,
            72.57,
            73.57,
            68.92,
            72.89,
            72.77,
            72.68,
            68.84,
            71.5,
            73.04
           ],
           "y": [
            26.6,
            36.83,
            38.81,
            29.68,
            27.01,
            28.22,
            32.71,
            24.83,
            29.79,
            35.42,
            31.3
           ]
          },
          {
           "hoverinfo": "none",
           "marker": {
            "color": "#CBB67C",
            "line": {
             "color": "#663831",
             "width": 2
            },
            "size": 10
           },
           "mode": "markers",
           "name": "football",
           "type": "scatter",
           "x": [
            73.8099975585938
           ],
           "y": [
            29.7000007629395
           ]
          }
         ],
         "name": "41"
        },
        {
         "data": [
          {
           "hoverinfo": "none",
           "mode": "text",
           "showlegend": false,
           "text": [
            "10",
            "20",
            "30",
            "40",
            "50",
            "40",
            "30",
            "20",
            "10"
           ],
           "textfont": {
            "color": "#ffffff",
            "family": "Courier New, monospace",
            "size": 30
           },
           "type": "scatter",
           "x": [
            20,
            30,
            40,
            50,
            60,
            70,
            80,
            90,
            100
           ],
           "y": [
            5,
            5,
            5,
            5,
            5,
            5,
            5,
            5,
            5
           ]
          },
          {
           "hoverinfo": "none",
           "mode": "text",
           "showlegend": false,
           "text": [
            "10",
            "20",
            "30",
            "40",
            "50",
            "40",
            "30",
            "20",
            "10"
           ],
           "textfont": {
            "color": "#ffffff",
            "family": "Courier New, monospace",
            "size": 30
           },
           "type": "scatter",
           "x": [
            20,
            30,
            40,
            50,
            60,
            70,
            80,
            90,
            100
           ],
           "y": [
            48.5,
            48.5,
            48.5,
            48.5,
            48.5,
            48.5,
            48.5,
            48.5,
            48.5
           ]
          },
          {
           "hoverinfo": "none",
           "line": {
            "color": "blue",
            "dash": "dash"
           },
           "showlegend": false,
           "type": "scatter",
           "x": [
            74,
            74
           ],
           "y": [
            0,
            53.5
           ]
          },
          {
           "hoverinfo": "none",
           "line": {
            "color": "yellow",
            "dash": "dash"
           },
           "showlegend": false,
           "type": "scatter",
           "x": [
            80,
            80
           ],
           "y": [
            0,
            53.5
           ]
          },
          {
           "fill": "toself",
           "fillcolor": "#000000",
           "hoverinfo": "skip",
           "line": {
            "color": "white",
            "width": 3
           },
           "mode": "lines",
           "opacity": 1,
           "showlegend": false,
           "type": "scatter",
           "x": [
            0,
            0,
            10,
            10,
            0
           ],
           "y": [
            0,
            53.5,
            53.5,
            0,
            0
           ]
          },
          {
           "fill": "toself",
           "fillcolor": "#FFB612",
           "hoverinfo": "skip",
           "line": {
            "color": "white",
            "width": 3
           },
           "mode": "lines",
           "opacity": 1,
           "showlegend": false,
           "type": "scatter",
           "x": [
            110,
            110,
            120,
            120,
            110
           ],
           "y": [
            0,
            53.5,
            53.5,
            0,
            0
           ]
          },
          {
           "hoverinfo": "text",
           "hovertext": [
            "nflId:37104<br>displayName:Cameron Heyward<br>Player Speed:0.0 MPH",
            "nflId:43325<br>displayName:Myles Jack<br>Player Speed:0.0 MPH",
            "nflId:44842<br>displayName:T.J. Watt<br>Player Speed:0.045 MPH",
            "nflId:44878<br>displayName:Ahkello Witherspoon<br>Player Speed:1.432 MPH",
            "nflId:44906<br>displayName:Cameron Sutton<br>Player Speed:0.336 MPH",
            "nflId:45395<br>displayName:Arthur Maulet<br>Player Speed:1.141 MPH",
            "nflId:46080<br>displayName:Minkah Fitzpatrick<br>Player Speed:0.045 MPH",
            "nflId:46097<br>displayName:Terrell Edmunds<br>Player Speed:1.163 MPH",
            "nflId:46902<br>displayName:Robert Spillane<br>Player Speed:0.559 MPH",
            "nflId:52971<br>displayName:Jamir Jones<br>Player Speed:0.067 MPH",
            "nflId:54549<br>displayName:DeMarvin Leal<br>Player Speed:0.045 MPH"
           ],
           "marker": {
            "color": "#FFB612",
            "line": {
             "color": "#101820",
             "width": 2
            },
            "size": 10
           },
           "mode": "markers",
           "name": "PIT",
           "type": "scatter",
           "x": [
            75.03,
            79.47,
            74.65,
            78.93,
            80.24,
            78.51,
            85.82,
            85.01,
            78.75,
            75.17,
            74.64
           ],
           "y": [
            30.77,
            28.73,
            22.8,
            22.19,
            41.71,
            38.23,
            36.2,
            27.14,
            33.19,
            34.86,
            27.12
           ]
          },
          {
           "hoverinfo": "text",
           "hovertext": [
            "nflId:42654<br>displayName:La'el Collins<br>Player Speed:0.0 MPH",
            "nflId:43344<br>displayName:Tyler Boyd<br>Player Speed:0.291 MPH",
            "nflId:43495<br>displayName:Mike Thomas<br>Player Speed:0.134 MPH",
            "nflId:43510<br>displayName:Ted Karras<br>Player Speed:0.022 MPH",
            "nflId:44860<br>displayName:Joe Mixon<br>Player Speed:0.112 MPH",
            "nflId:46163<br>displayName:Alex Cappa<br>Player Speed:0.045 MPH",
            "nflId:47794<br>displayName:Jonah Williams<br>Player Speed:0.022 MPH",
            "nflId:47835<br>displayName:Drew Sample<br>Player Speed:0.0 MPH",
            "nflId:52409<br>displayName:Joe Burrow<br>Player Speed:0.559 MPH",
            "nflId:53434<br>displayName:Ja'Marr Chase<br>Player Speed:3.937 MPH",
            "nflId:54601<br>displayName:Cordell Volson<br>Player Speed:0.0 MPH"
           ],
           "marker": {
            "color": "#000000",
            "line": {
             "color": "#FB4F14",
             "width": 2
            },
            "size": 10
           },
           "mode": "markers",
           "name": "CIN",
           "type": "scatter",
           "x": [
            72.74,
            73.52,
            72.56,
            73.57,
            68.92,
            72.89,
            72.77,
            72.68,
            68.81,
            71.39,
            73.04
           ],
           "y": [
            26.6,
            36.83,
            38.82,
            29.67,
            26.99,
            28.22,
            32.72,
            24.83,
            29.8,
            35.29,
            31.3
           ]
          },
          {
           "hoverinfo": "none",
           "marker": {
            "color": "#CBB67C",
            "line": {
             "color": "#663831",
             "width": 2
            },
            "size": 10
           },
           "mode": "markers",
           "name": "football",
           "type": "scatter",
           "x": [
            73.8099975585938
           ],
           "y": [
            29.7000007629395
           ]
          }
         ],
         "name": "42"
        },
        {
         "data": [
          {
           "hoverinfo": "none",
           "mode": "text",
           "showlegend": false,
           "text": [
            "10",
            "20",
            "30",
            "40",
            "50",
            "40",
            "30",
            "20",
            "10"
           ],
           "textfont": {
            "color": "#ffffff",
            "family": "Courier New, monospace",
            "size": 30
           },
           "type": "scatter",
           "x": [
            20,
            30,
            40,
            50,
            60,
            70,
            80,
            90,
            100
           ],
           "y": [
            5,
            5,
            5,
            5,
            5,
            5,
            5,
            5,
            5
           ]
          },
          {
           "hoverinfo": "none",
           "mode": "text",
           "showlegend": false,
           "text": [
            "10",
            "20",
            "30",
            "40",
            "50",
            "40",
            "30",
            "20",
            "10"
           ],
           "textfont": {
            "color": "#ffffff",
            "family": "Courier New, monospace",
            "size": 30
           },
           "type": "scatter",
           "x": [
            20,
            30,
            40,
            50,
            60,
            70,
            80,
            90,
            100
           ],
           "y": [
            48.5,
            48.5,
            48.5,
            48.5,
            48.5,
            48.5,
            48.5,
            48.5,
            48.5
           ]
          },
          {
           "hoverinfo": "none",
           "line": {
            "color": "blue",
            "dash": "dash"
           },
           "showlegend": false,
           "type": "scatter",
           "x": [
            74,
            74
           ],
           "y": [
            0,
            53.5
           ]
          },
          {
           "hoverinfo": "none",
           "line": {
            "color": "yellow",
            "dash": "dash"
           },
           "showlegend": false,
           "type": "scatter",
           "x": [
            80,
            80
           ],
           "y": [
            0,
            53.5
           ]
          },
          {
           "fill": "toself",
           "fillcolor": "#000000",
           "hoverinfo": "skip",
           "line": {
            "color": "white",
            "width": 3
           },
           "mode": "lines",
           "opacity": 1,
           "showlegend": false,
           "type": "scatter",
           "x": [
            0,
            0,
            10,
            10,
            0
           ],
           "y": [
            0,
            53.5,
            53.5,
            0,
            0
           ]
          },
          {
           "fill": "toself",
           "fillcolor": "#FFB612",
           "hoverinfo": "skip",
           "line": {
            "color": "white",
            "width": 3
           },
           "mode": "lines",
           "opacity": 1,
           "showlegend": false,
           "type": "scatter",
           "x": [
            110,
            110,
            120,
            120,
            110
           ],
           "y": [
            0,
            53.5,
            53.5,
            0,
            0
           ]
          },
          {
           "hoverinfo": "text",
           "hovertext": [
            "nflId:37104<br>displayName:Cameron Heyward<br>Player Speed:0.0 MPH",
            "nflId:43325<br>displayName:Myles Jack<br>Player Speed:0.0 MPH",
            "nflId:44842<br>displayName:T.J. Watt<br>Player Speed:0.045 MPH",
            "nflId:44878<br>displayName:Ahkello Witherspoon<br>Player Speed:1.387 MPH",
            "nflId:44906<br>displayName:Cameron Sutton<br>Player Speed:0.291 MPH",
            "nflId:45395<br>displayName:Arthur Maulet<br>Player Speed:1.297 MPH",
            "nflId:46080<br>displayName:Minkah Fitzpatrick<br>Player Speed:0.045 MPH",
            "nflId:46097<br>displayName:Terrell Edmunds<br>Player Speed:1.297 MPH",
            "nflId:46902<br>displayName:Robert Spillane<br>Player Speed:0.872 MPH",
            "nflId:52971<br>displayName:Jamir Jones<br>Player Speed:0.067 MPH",
            "nflId:54549<br>displayName:DeMarvin Leal<br>Player Speed:0.045 MPH"
           ],
           "marker": {
            "color": "#FFB612",
            "line": {
             "color": "#101820",
             "width": 2
            },
            "size": 10
           },
           "mode": "markers",
           "name": "PIT",
           "type": "scatter",
           "x": [
            75.03,
            79.46,
            74.66,
            78.99,
            80.24,
            78.46,
            85.82,
            85.02,
            78.75,
            75.15,
            74.64
           ],
           "y": [
            30.77,
            28.73,
            22.8,
            22.19,
            41.7,
            38.25,
            36.2,
            27.08,
            33.16,
            34.85,
            27.13
           ]
          },
          {
           "hoverinfo": "text",
           "hovertext": [
            "nflId:42654<br>displayName:La'el Collins<br>Player Speed:0.0 MPH",
            "nflId:43344<br>displayName:Tyler Boyd<br>Player Speed:0.313 MPH",
            "nflId:43495<br>displayName:Mike Thomas<br>Player Speed:0.134 MPH",
            "nflId:43510<br>displayName:Ted Karras<br>Player Speed:0.022 MPH",
            "nflId:44860<br>displayName:Joe Mixon<br>Player Speed:0.089 MPH",
            "nflId:46163<br>displayName:Alex Cappa<br>Player Speed:0.045 MPH",
            "nflId:47794<br>displayName:Jonah Williams<br>Player Speed:0.022 MPH",
            "nflId:47835<br>displayName:Drew Sample<br>Player Speed:0.0 MPH",
            "nflId:52409<br>displayName:Joe Burrow<br>Player Speed:0.403 MPH",
            "nflId:53434<br>displayName:Ja'Marr Chase<br>Player Speed:4.362 MPH",
            "nflId:54601<br>displayName:Cordell Volson<br>Player Speed:0.0 MPH"
           ],
           "marker": {
            "color": "#000000",
            "line": {
             "color": "#FB4F14",
             "width": 2
            },
            "size": 10
           },
           "mode": "markers",
           "name": "CIN",
           "type": "scatter",
           "x": [
            72.74,
            73.51,
            72.56,
            73.57,
            68.92,
            72.89,
            72.78,
            72.68,
            68.8,
            71.26,
            73.04
           ],
           "y": [
            26.59,
            36.84,
            38.83,
            29.67,
            26.99,
            28.23,
            32.71,
            24.83,
            29.81,
            35.15,
            31.3
           ]
          },
          {
           "hoverinfo": "none",
           "marker": {
            "color": "#CBB67C",
            "line": {
             "color": "#663831",
             "width": 2
            },
            "size": 10
           },
           "mode": "markers",
           "name": "football",
           "type": "scatter",
           "x": [
            73.8099975585938
           ],
           "y": [
            29.7000007629395
           ]
          }
         ],
         "name": "43"
        },
        {
         "data": [
          {
           "hoverinfo": "none",
           "mode": "text",
           "showlegend": false,
           "text": [
            "10",
            "20",
            "30",
            "40",
            "50",
            "40",
            "30",
            "20",
            "10"
           ],
           "textfont": {
            "color": "#ffffff",
            "family": "Courier New, monospace",
            "size": 30
           },
           "type": "scatter",
           "x": [
            20,
            30,
            40,
            50,
            60,
            70,
            80,
            90,
            100
           ],
           "y": [
            5,
            5,
            5,
            5,
            5,
            5,
            5,
            5,
            5
           ]
          },
          {
           "hoverinfo": "none",
           "mode": "text",
           "showlegend": false,
           "text": [
            "10",
            "20",
            "30",
            "40",
            "50",
            "40",
            "30",
            "20",
            "10"
           ],
           "textfont": {
            "color": "#ffffff",
            "family": "Courier New, monospace",
            "size": 30
           },
           "type": "scatter",
           "x": [
            20,
            30,
            40,
            50,
            60,
            70,
            80,
            90,
            100
           ],
           "y": [
            48.5,
            48.5,
            48.5,
            48.5,
            48.5,
            48.5,
            48.5,
            48.5,
            48.5
           ]
          },
          {
           "hoverinfo": "none",
           "line": {
            "color": "blue",
            "dash": "dash"
           },
           "showlegend": false,
           "type": "scatter",
           "x": [
            74,
            74
           ],
           "y": [
            0,
            53.5
           ]
          },
          {
           "hoverinfo": "none",
           "line": {
            "color": "yellow",
            "dash": "dash"
           },
           "showlegend": false,
           "type": "scatter",
           "x": [
            80,
            80
           ],
           "y": [
            0,
            53.5
           ]
          },
          {
           "fill": "toself",
           "fillcolor": "#000000",
           "hoverinfo": "skip",
           "line": {
            "color": "white",
            "width": 3
           },
           "mode": "lines",
           "opacity": 1,
           "showlegend": false,
           "type": "scatter",
           "x": [
            0,
            0,
            10,
            10,
            0
           ],
           "y": [
            0,
            53.5,
            53.5,
            0,
            0
           ]
          },
          {
           "fill": "toself",
           "fillcolor": "#FFB612",
           "hoverinfo": "skip",
           "line": {
            "color": "white",
            "width": 3
           },
           "mode": "lines",
           "opacity": 1,
           "showlegend": false,
           "type": "scatter",
           "x": [
            110,
            110,
            120,
            120,
            110
           ],
           "y": [
            0,
            53.5,
            53.5,
            0,
            0
           ]
          },
          {
           "hoverinfo": "text",
           "hovertext": [
            "nflId:37104<br>displayName:Cameron Heyward<br>Player Speed:0.0 MPH",
            "nflId:43325<br>displayName:Myles Jack<br>Player Speed:0.0 MPH",
            "nflId:44842<br>displayName:T.J. Watt<br>Player Speed:0.022 MPH",
            "nflId:44878<br>displayName:Ahkello Witherspoon<br>Player Speed:1.275 MPH",
            "nflId:44906<br>displayName:Cameron Sutton<br>Player Speed:0.268 MPH",
            "nflId:45395<br>displayName:Arthur Maulet<br>Player Speed:1.342 MPH",
            "nflId:46080<br>displayName:Minkah Fitzpatrick<br>Player Speed:0.022 MPH",
            "nflId:46097<br>displayName:Terrell Edmunds<br>Player Speed:1.432 MPH",
            "nflId:46902<br>displayName:Robert Spillane<br>Player Speed:1.074 MPH",
            "nflId:52971<br>displayName:Jamir Jones<br>Player Speed:0.067 MPH",
            "nflId:54549<br>displayName:DeMarvin Leal<br>Player Speed:0.045 MPH"
           ],
           "marker": {
            "color": "#FFB612",
            "line": {
             "color": "#101820",
             "width": 2
            },
            "size": 10
           },
           "mode": "markers",
           "name": "PIT",
           "type": "scatter",
           "x": [
            75.02,
            79.46,
            74.66,
            79.05,
            80.22,
            78.41,
            85.83,
            85.01,
            78.74,
            75.14,
            74.64
           ],
           "y": [
            30.78,
            28.73,
            22.8,
            22.19,
            41.69,
            38.28,
            36.2,
            27.02,
            33.12,
            34.85,
            27.12
           ]
          },
          {
           "hoverinfo": "text",
           "hovertext": [
            "nflId:42654<br>displayName:La'el Collins<br>Player Speed:0.0 MPH",
            "nflId:43344<br>displayName:Tyler Boyd<br>Player Speed:0.291 MPH",
            "nflId:43495<br>displayName:Mike Thomas<br>Player Speed:0.112 MPH",
            "nflId:43510<br>displayName:Ted Karras<br>Player Speed:0.022 MPH",
            "nflId:44860<br>displayName:Joe Mixon<br>Player Speed:0.089 MPH",
            "nflId:46163<br>displayName:Alex Cappa<br>Player Speed:0.022 MPH",
            "nflId:47794<br>displayName:Jonah Williams<br>Player Speed:0.022 MPH",
            "nflId:47835<br>displayName:Drew Sample<br>Player Speed:0.0 MPH",
            "nflId:52409<br>displayName:Joe Burrow<br>Player Speed:0.358 MPH",
            "nflId:53434<br>displayName:Ja'Marr Chase<br>Player Speed:4.72 MPH",
            "nflId:54601<br>displayName:Cordell Volson<br>Player Speed:0.0 MPH"
           ],
           "marker": {
            "color": "#000000",
            "line": {
             "color": "#FB4F14",
             "width": 2
            },
            "size": 10
           },
           "mode": "markers",
           "name": "CIN",
           "type": "scatter",
           "x": [
            72.75,
            73.49,
            72.57,
            73.57,
            68.93,
            72.89,
            72.78,
            72.68,
            68.78,
            71.12,
            73.04
           ],
           "y": [
            26.59,
            36.84,
            38.83,
            29.68,
            26.99,
            28.23,
            32.71,
            24.83,
            29.82,
            35.01,
            31.3
           ]
          },
          {
           "hoverinfo": "none",
           "marker": {
            "color": "#CBB67C",
            "line": {
             "color": "#663831",
             "width": 2
            },
            "size": 10
           },
           "mode": "markers",
           "name": "football",
           "type": "scatter",
           "x": [
            73.8099975585938
           ],
           "y": [
            29.7000007629395
           ]
          }
         ],
         "name": "44"
        },
        {
         "data": [
          {
           "hoverinfo": "none",
           "mode": "text",
           "showlegend": false,
           "text": [
            "10",
            "20",
            "30",
            "40",
            "50",
            "40",
            "30",
            "20",
            "10"
           ],
           "textfont": {
            "color": "#ffffff",
            "family": "Courier New, monospace",
            "size": 30
           },
           "type": "scatter",
           "x": [
            20,
            30,
            40,
            50,
            60,
            70,
            80,
            90,
            100
           ],
           "y": [
            5,
            5,
            5,
            5,
            5,
            5,
            5,
            5,
            5
           ]
          },
          {
           "hoverinfo": "none",
           "mode": "text",
           "showlegend": false,
           "text": [
            "10",
            "20",
            "30",
            "40",
            "50",
            "40",
            "30",
            "20",
            "10"
           ],
           "textfont": {
            "color": "#ffffff",
            "family": "Courier New, monospace",
            "size": 30
           },
           "type": "scatter",
           "x": [
            20,
            30,
            40,
            50,
            60,
            70,
            80,
            90,
            100
           ],
           "y": [
            48.5,
            48.5,
            48.5,
            48.5,
            48.5,
            48.5,
            48.5,
            48.5,
            48.5
           ]
          },
          {
           "hoverinfo": "none",
           "line": {
            "color": "blue",
            "dash": "dash"
           },
           "showlegend": false,
           "type": "scatter",
           "x": [
            74,
            74
           ],
           "y": [
            0,
            53.5
           ]
          },
          {
           "hoverinfo": "none",
           "line": {
            "color": "yellow",
            "dash": "dash"
           },
           "showlegend": false,
           "type": "scatter",
           "x": [
            80,
            80
           ],
           "y": [
            0,
            53.5
           ]
          },
          {
           "fill": "toself",
           "fillcolor": "#000000",
           "hoverinfo": "skip",
           "line": {
            "color": "white",
            "width": 3
           },
           "mode": "lines",
           "opacity": 1,
           "showlegend": false,
           "type": "scatter",
           "x": [
            0,
            0,
            10,
            10,
            0
           ],
           "y": [
            0,
            53.5,
            53.5,
            0,
            0
           ]
          },
          {
           "fill": "toself",
           "fillcolor": "#FFB612",
           "hoverinfo": "skip",
           "line": {
            "color": "white",
            "width": 3
           },
           "mode": "lines",
           "opacity": 1,
           "showlegend": false,
           "type": "scatter",
           "x": [
            110,
            110,
            120,
            120,
            110
           ],
           "y": [
            0,
            53.5,
            53.5,
            0,
            0
           ]
          },
          {
           "hoverinfo": "text",
           "hovertext": [
            "nflId:37104<br>displayName:Cameron Heyward<br>Player Speed:0.0 MPH",
            "nflId:43325<br>displayName:Myles Jack<br>Player Speed:0.0 MPH",
            "nflId:44842<br>displayName:T.J. Watt<br>Player Speed:0.022 MPH",
            "nflId:44878<br>displayName:Ahkello Witherspoon<br>Player Speed:1.23 MPH",
            "nflId:44906<br>displayName:Cameron Sutton<br>Player Speed:0.246 MPH",
            "nflId:45395<br>displayName:Arthur Maulet<br>Player Speed:1.275 MPH",
            "nflId:46080<br>displayName:Minkah Fitzpatrick<br>Player Speed:0.045 MPH",
            "nflId:46097<br>displayName:Terrell Edmunds<br>Player Speed:1.543 MPH",
            "nflId:46902<br>displayName:Robert Spillane<br>Player Speed:1.208 MPH",
            "nflId:52971<br>displayName:Jamir Jones<br>Player Speed:0.067 MPH",
            "nflId:54549<br>displayName:DeMarvin Leal<br>Player Speed:0.045 MPH"
           ],
           "marker": {
            "color": "#FFB612",
            "line": {
             "color": "#101820",
             "width": 2
            },
            "size": 10
           },
           "mode": "markers",
           "name": "PIT",
           "type": "scatter",
           "x": [
            75.02,
            79.46,
            74.67,
            79.11,
            80.21,
            78.35,
            85.82,
            84.98,
            78.74,
            75.11,
            74.65
           ],
           "y": [
            30.78,
            28.73,
            22.8,
            22.19,
            41.68,
            38.29,
            36.2,
            26.96,
            33.07,
            34.85,
            27.13
           ]
          },
          {
           "hoverinfo": "text",
           "hovertext": [
            "nflId:42654<br>displayName:La'el Collins<br>Player Speed:0.0 MPH",
            "nflId:43344<br>displayName:Tyler Boyd<br>Player Speed:0.268 MPH",
            "nflId:43495<br>displayName:Mike Thomas<br>Player Speed:0.112 MPH",
            "nflId:43510<br>displayName:Ted Karras<br>Player Speed:0.022 MPH",
            "nflId:44860<br>displayName:Joe Mixon<br>Player Speed:0.089 MPH",
            "nflId:46163<br>displayName:Alex Cappa<br>Player Speed:0.022 MPH",
            "nflId:47794<br>displayName:Jonah Williams<br>Player Speed:0.022 MPH",
            "nflId:47835<br>displayName:Drew Sample<br>Player Speed:0.0 MPH",
            "nflId:52409<br>displayName:Joe Burrow<br>Player Speed:0.268 MPH",
            "nflId:53434<br>displayName:Ja'Marr Chase<br>Player Speed:5.055 MPH",
            "nflId:54601<br>displayName:Cordell Volson<br>Player Speed:0.0 MPH"
           ],
           "marker": {
            "color": "#000000",
            "line": {
             "color": "#FB4F14",
             "width": 2
            },
            "size": 10
           },
           "mode": "markers",
           "name": "CIN",
           "type": "scatter",
           "x": [
            72.74,
            73.48,
            72.57,
            73.57,
            68.93,
            72.89,
            72.79,
            72.68,
            68.78,
            70.97,
            73.04
           ],
           "y": [
            26.59,
            36.84,
            38.83,
            29.68,
            26.98,
            28.24,
            32.71,
            24.82,
            29.84,
            34.85,
            31.3
           ]
          },
          {
           "hoverinfo": "none",
           "marker": {
            "color": "#CBB67C",
            "line": {
             "color": "#663831",
             "width": 2
            },
            "size": 10
           },
           "mode": "markers",
           "name": "football",
           "type": "scatter",
           "x": [
            73.8099975585938
           ],
           "y": [
            29.7000007629395
           ]
          }
         ],
         "name": "45"
        },
        {
         "data": [
          {
           "hoverinfo": "none",
           "mode": "text",
           "showlegend": false,
           "text": [
            "10",
            "20",
            "30",
            "40",
            "50",
            "40",
            "30",
            "20",
            "10"
           ],
           "textfont": {
            "color": "#ffffff",
            "family": "Courier New, monospace",
            "size": 30
           },
           "type": "scatter",
           "x": [
            20,
            30,
            40,
            50,
            60,
            70,
            80,
            90,
            100
           ],
           "y": [
            5,
            5,
            5,
            5,
            5,
            5,
            5,
            5,
            5
           ]
          },
          {
           "hoverinfo": "none",
           "mode": "text",
           "showlegend": false,
           "text": [
            "10",
            "20",
            "30",
            "40",
            "50",
            "40",
            "30",
            "20",
            "10"
           ],
           "textfont": {
            "color": "#ffffff",
            "family": "Courier New, monospace",
            "size": 30
           },
           "type": "scatter",
           "x": [
            20,
            30,
            40,
            50,
            60,
            70,
            80,
            90,
            100
           ],
           "y": [
            48.5,
            48.5,
            48.5,
            48.5,
            48.5,
            48.5,
            48.5,
            48.5,
            48.5
           ]
          },
          {
           "hoverinfo": "none",
           "line": {
            "color": "blue",
            "dash": "dash"
           },
           "showlegend": false,
           "type": "scatter",
           "x": [
            74,
            74
           ],
           "y": [
            0,
            53.5
           ]
          },
          {
           "hoverinfo": "none",
           "line": {
            "color": "yellow",
            "dash": "dash"
           },
           "showlegend": false,
           "type": "scatter",
           "x": [
            80,
            80
           ],
           "y": [
            0,
            53.5
           ]
          },
          {
           "fill": "toself",
           "fillcolor": "#000000",
           "hoverinfo": "skip",
           "line": {
            "color": "white",
            "width": 3
           },
           "mode": "lines",
           "opacity": 1,
           "showlegend": false,
           "type": "scatter",
           "x": [
            0,
            0,
            10,
            10,
            0
           ],
           "y": [
            0,
            53.5,
            53.5,
            0,
            0
           ]
          },
          {
           "fill": "toself",
           "fillcolor": "#FFB612",
           "hoverinfo": "skip",
           "line": {
            "color": "white",
            "width": 3
           },
           "mode": "lines",
           "opacity": 1,
           "showlegend": false,
           "type": "scatter",
           "x": [
            110,
            110,
            120,
            120,
            110
           ],
           "y": [
            0,
            53.5,
            53.5,
            0,
            0
           ]
          },
          {
           "hoverinfo": "text",
           "hovertext": [
            "nflId:37104<br>displayName:Cameron Heyward<br>Player Speed:0.0 MPH",
            "nflId:43325<br>displayName:Myles Jack<br>Player Speed:0.0 MPH",
            "nflId:44842<br>displayName:T.J. Watt<br>Player Speed:0.022 MPH",
            "nflId:44878<br>displayName:Ahkello Witherspoon<br>Player Speed:1.23 MPH",
            "nflId:44906<br>displayName:Cameron Sutton<br>Player Speed:0.246 MPH",
            "nflId:45395<br>displayName:Arthur Maulet<br>Player Speed:1.275 MPH",
            "nflId:46080<br>displayName:Minkah Fitzpatrick<br>Player Speed:0.045 MPH",
            "nflId:46097<br>displayName:Terrell Edmunds<br>Player Speed:1.678 MPH",
            "nflId:46902<br>displayName:Robert Spillane<br>Player Speed:1.074 MPH",
            "nflId:52971<br>displayName:Jamir Jones<br>Player Speed:0.067 MPH",
            "nflId:54549<br>displayName:DeMarvin Leal<br>Player Speed:0.045 MPH"
           ],
           "marker": {
            "color": "#FFB612",
            "line": {
             "color": "#101820",
             "width": 2
            },
            "size": 10
           },
           "mode": "markers",
           "name": "PIT",
           "type": "scatter",
           "x": [
            75.02,
            79.45,
            74.67,
            79.16,
            80.2,
            78.29,
            85.81,
            84.95,
            78.75,
            75.1,
            74.65
           ],
           "y": [
            30.79,
            28.72,
            22.8,
            22.19,
            41.66,
            38.3,
            36.19,
            26.89,
            33.04,
            34.85,
            27.13
           ]
          },
          {
           "hoverinfo": "text",
           "hovertext": [
            "nflId:42654<br>displayName:La'el Collins<br>Player Speed:0.0 MPH",
            "nflId:43344<br>displayName:Tyler Boyd<br>Player Speed:0.268 MPH",
            "nflId:43495<br>displayName:Mike Thomas<br>Player Speed:0.089 MPH",
            "nflId:43510<br>displayName:Ted Karras<br>Player Speed:0.022 MPH",
            "nflId:44860<br>displayName:Joe Mixon<br>Player Speed:0.067 MPH",
            "nflId:46163<br>displayName:Alex Cappa<br>Player Speed:0.022 MPH",
            "nflId:47794<br>displayName:Jonah Williams<br>Player Speed:0.022 MPH",
            "nflId:47835<br>displayName:Drew Sample<br>Player Speed:0.0 MPH",
            "nflId:52409<br>displayName:Joe Burrow<br>Player Speed:0.067 MPH",
            "nflId:53434<br>displayName:Ja'Marr Chase<br>Player Speed:5.413 MPH",
            "nflId:54601<br>displayName:Cordell Volson<br>Player Speed:0.0 MPH"
           ],
           "marker": {
            "color": "#000000",
            "line": {
             "color": "#FB4F14",
             "width": 2
            },
            "size": 10
           },
           "mode": "markers",
           "name": "CIN",
           "type": "scatter",
           "x": [
            72.74,
            73.48,
            72.57,
            73.57,
            68.93,
            72.89,
            72.8,
            72.69,
            68.78,
            70.81,
            73.04
           ],
           "y": [
            26.59,
            36.86,
            38.84,
            29.68,
            26.98,
            28.24,
            32.71,
            24.82,
            29.83,
            34.67,
            31.3
           ]
          },
          {
           "hoverinfo": "none",
           "marker": {
            "color": "#CBB67C",
            "line": {
             "color": "#663831",
             "width": 2
            },
            "size": 10
           },
           "mode": "markers",
           "name": "football",
           "type": "scatter",
           "x": [
            73.8099975585938
           ],
           "y": [
            29.7000007629395
           ]
          }
         ],
         "name": "46"
        },
        {
         "data": [
          {
           "hoverinfo": "none",
           "mode": "text",
           "showlegend": false,
           "text": [
            "10",
            "20",
            "30",
            "40",
            "50",
            "40",
            "30",
            "20",
            "10"
           ],
           "textfont": {
            "color": "#ffffff",
            "family": "Courier New, monospace",
            "size": 30
           },
           "type": "scatter",
           "x": [
            20,
            30,
            40,
            50,
            60,
            70,
            80,
            90,
            100
           ],
           "y": [
            5,
            5,
            5,
            5,
            5,
            5,
            5,
            5,
            5
           ]
          },
          {
           "hoverinfo": "none",
           "mode": "text",
           "showlegend": false,
           "text": [
            "10",
            "20",
            "30",
            "40",
            "50",
            "40",
            "30",
            "20",
            "10"
           ],
           "textfont": {
            "color": "#ffffff",
            "family": "Courier New, monospace",
            "size": 30
           },
           "type": "scatter",
           "x": [
            20,
            30,
            40,
            50,
            60,
            70,
            80,
            90,
            100
           ],
           "y": [
            48.5,
            48.5,
            48.5,
            48.5,
            48.5,
            48.5,
            48.5,
            48.5,
            48.5
           ]
          },
          {
           "hoverinfo": "none",
           "line": {
            "color": "blue",
            "dash": "dash"
           },
           "showlegend": false,
           "type": "scatter",
           "x": [
            74,
            74
           ],
           "y": [
            0,
            53.5
           ]
          },
          {
           "hoverinfo": "none",
           "line": {
            "color": "yellow",
            "dash": "dash"
           },
           "showlegend": false,
           "type": "scatter",
           "x": [
            80,
            80
           ],
           "y": [
            0,
            53.5
           ]
          },
          {
           "fill": "toself",
           "fillcolor": "#000000",
           "hoverinfo": "skip",
           "line": {
            "color": "white",
            "width": 3
           },
           "mode": "lines",
           "opacity": 1,
           "showlegend": false,
           "type": "scatter",
           "x": [
            0,
            0,
            10,
            10,
            0
           ],
           "y": [
            0,
            53.5,
            53.5,
            0,
            0
           ]
          },
          {
           "fill": "toself",
           "fillcolor": "#FFB612",
           "hoverinfo": "skip",
           "line": {
            "color": "white",
            "width": 3
           },
           "mode": "lines",
           "opacity": 1,
           "showlegend": false,
           "type": "scatter",
           "x": [
            110,
            110,
            120,
            120,
            110
           ],
           "y": [
            0,
            53.5,
            53.5,
            0,
            0
           ]
          },
          {
           "hoverinfo": "text",
           "hovertext": [
            "nflId:37104<br>displayName:Cameron Heyward<br>Player Speed:0.0 MPH",
            "nflId:43325<br>displayName:Myles Jack<br>Player Speed:0.0 MPH",
            "nflId:44842<br>displayName:T.J. Watt<br>Player Speed:0.022 MPH",
            "nflId:44878<br>displayName:Ahkello Witherspoon<br>Player Speed:1.141 MPH",
            "nflId:44906<br>displayName:Cameron Sutton<br>Player Speed:0.224 MPH",
            "nflId:45395<br>displayName:Arthur Maulet<br>Player Speed:1.253 MPH",
            "nflId:46080<br>displayName:Minkah Fitzpatrick<br>Player Speed:0.045 MPH",
            "nflId:46097<br>displayName:Terrell Edmunds<br>Player Speed:1.857 MPH",
            "nflId:46902<br>displayName:Robert Spillane<br>Player Speed:1.007 MPH",
            "nflId:52971<br>displayName:Jamir Jones<br>Player Speed:0.067 MPH",
            "nflId:54549<br>displayName:DeMarvin Leal<br>Player Speed:0.045 MPH"
           ],
           "marker": {
            "color": "#FFB612",
            "line": {
             "color": "#101820",
             "width": 2
            },
            "size": 10
           },
           "mode": "markers",
           "name": "PIT",
           "type": "scatter",
           "x": [
            75.02,
            79.45,
            74.67,
            79.21,
            80.19,
            78.24,
            85.79,
            84.91,
            78.75,
            75.08,
            74.66
           ],
           "y": [
            30.78,
            28.72,
            22.8,
            22.17,
            41.65,
            38.3,
            36.2,
            26.83,
            33,
            34.84,
            27.13
           ]
          },
          {
           "hoverinfo": "text",
           "hovertext": [
            "nflId:42654<br>displayName:La'el Collins<br>Player Speed:0.0 MPH",
            "nflId:43344<br>displayName:Tyler Boyd<br>Player Speed:0.201 MPH",
            "nflId:43495<br>displayName:Mike Thomas<br>Player Speed:0.089 MPH",
            "nflId:43510<br>displayName:Ted Karras<br>Player Speed:0.022 MPH",
            "nflId:44860<br>displayName:Joe Mixon<br>Player Speed:0.067 MPH",
            "nflId:46163<br>displayName:Alex Cappa<br>Player Speed:0.022 MPH",
            "nflId:47794<br>displayName:Jonah Williams<br>Player Speed:0.022 MPH",
            "nflId:47835<br>displayName:Drew Sample<br>Player Speed:0.0 MPH",
            "nflId:52409<br>displayName:Joe Burrow<br>Player Speed:0.134 MPH",
            "nflId:53434<br>displayName:Ja'Marr Chase<br>Player Speed:5.637 MPH",
            "nflId:54601<br>displayName:Cordell Volson<br>Player Speed:0.0 MPH"
           ],
           "marker": {
            "color": "#000000",
            "line": {
             "color": "#FB4F14",
             "width": 2
            },
            "size": 10
           },
           "mode": "markers",
           "name": "CIN",
           "type": "scatter",
           "x": [
            72.74,
            73.47,
            72.56,
            73.57,
            68.92,
            72.89,
            72.82,
            72.69,
            68.78,
            70.65,
            73.04
           ],
           "y": [
            26.59,
            36.86,
            38.84,
            29.68,
            26.98,
            28.24,
            32.7,
            24.82,
            29.83,
            34.49,
            31.3
           ]
          },
          {
           "hoverinfo": "none",
           "marker": {
            "color": "#CBB67C",
            "line": {
             "color": "#663831",
             "width": 2
            },
            "size": 10
           },
           "mode": "markers",
           "name": "football",
           "type": "scatter",
           "x": [
            73.8099975585938
           ],
           "y": [
            29.7000007629395
           ]
          }
         ],
         "name": "47"
        },
        {
         "data": [
          {
           "hoverinfo": "none",
           "mode": "text",
           "showlegend": false,
           "text": [
            "10",
            "20",
            "30",
            "40",
            "50",
            "40",
            "30",
            "20",
            "10"
           ],
           "textfont": {
            "color": "#ffffff",
            "family": "Courier New, monospace",
            "size": 30
           },
           "type": "scatter",
           "x": [
            20,
            30,
            40,
            50,
            60,
            70,
            80,
            90,
            100
           ],
           "y": [
            5,
            5,
            5,
            5,
            5,
            5,
            5,
            5,
            5
           ]
          },
          {
           "hoverinfo": "none",
           "mode": "text",
           "showlegend": false,
           "text": [
            "10",
            "20",
            "30",
            "40",
            "50",
            "40",
            "30",
            "20",
            "10"
           ],
           "textfont": {
            "color": "#ffffff",
            "family": "Courier New, monospace",
            "size": 30
           },
           "type": "scatter",
           "x": [
            20,
            30,
            40,
            50,
            60,
            70,
            80,
            90,
            100
           ],
           "y": [
            48.5,
            48.5,
            48.5,
            48.5,
            48.5,
            48.5,
            48.5,
            48.5,
            48.5
           ]
          },
          {
           "hoverinfo": "none",
           "line": {
            "color": "blue",
            "dash": "dash"
           },
           "showlegend": false,
           "type": "scatter",
           "x": [
            74,
            74
           ],
           "y": [
            0,
            53.5
           ]
          },
          {
           "hoverinfo": "none",
           "line": {
            "color": "yellow",
            "dash": "dash"
           },
           "showlegend": false,
           "type": "scatter",
           "x": [
            80,
            80
           ],
           "y": [
            0,
            53.5
           ]
          },
          {
           "fill": "toself",
           "fillcolor": "#000000",
           "hoverinfo": "skip",
           "line": {
            "color": "white",
            "width": 3
           },
           "mode": "lines",
           "opacity": 1,
           "showlegend": false,
           "type": "scatter",
           "x": [
            0,
            0,
            10,
            10,
            0
           ],
           "y": [
            0,
            53.5,
            53.5,
            0,
            0
           ]
          },
          {
           "fill": "toself",
           "fillcolor": "#FFB612",
           "hoverinfo": "skip",
           "line": {
            "color": "white",
            "width": 3
           },
           "mode": "lines",
           "opacity": 1,
           "showlegend": false,
           "type": "scatter",
           "x": [
            110,
            110,
            120,
            120,
            110
           ],
           "y": [
            0,
            53.5,
            53.5,
            0,
            0
           ]
          },
          {
           "hoverinfo": "text",
           "hovertext": [
            "nflId:37104<br>displayName:Cameron Heyward<br>Player Speed:0.0 MPH",
            "nflId:43325<br>displayName:Myles Jack<br>Player Speed:0.0 MPH",
            "nflId:44842<br>displayName:T.J. Watt<br>Player Speed:0.022 MPH",
            "nflId:44878<br>displayName:Ahkello Witherspoon<br>Player Speed:1.074 MPH",
            "nflId:44906<br>displayName:Cameron Sutton<br>Player Speed:0.224 MPH",
            "nflId:45395<br>displayName:Arthur Maulet<br>Player Speed:1.186 MPH",
            "nflId:46080<br>displayName:Minkah Fitzpatrick<br>Player Speed:0.045 MPH",
            "nflId:46097<br>displayName:Terrell Edmunds<br>Player Speed:1.946 MPH",
            "nflId:46902<br>displayName:Robert Spillane<br>Player Speed:1.029 MPH",
            "nflId:52971<br>displayName:Jamir Jones<br>Player Speed:0.067 MPH",
            "nflId:54549<br>displayName:DeMarvin Leal<br>Player Speed:0.045 MPH"
           ],
           "marker": {
            "color": "#FFB612",
            "line": {
             "color": "#101820",
             "width": 2
            },
            "size": 10
           },
           "mode": "markers",
           "name": "PIT",
           "type": "scatter",
           "x": [
            75.01,
            79.44,
            74.67,
            79.26,
            80.17,
            78.19,
            85.79,
            84.85,
            78.74,
            75.07,
            74.66
           ],
           "y": [
            30.78,
            28.71,
            22.81,
            22.15,
            41.65,
            38.29,
            36.2,
            26.76,
            32.96,
            34.84,
            27.14
           ]
          },
          {
           "hoverinfo": "text",
           "hovertext": [
            "nflId:42654<br>displayName:La'el Collins<br>Player Speed:0.0 MPH",
            "nflId:43344<br>displayName:Tyler Boyd<br>Player Speed:0.045 MPH",
            "nflId:43495<br>displayName:Mike Thomas<br>Player Speed:0.067 MPH",
            "nflId:43510<br>displayName:Ted Karras<br>Player Speed:0.022 MPH",
            "nflId:44860<br>displayName:Joe Mixon<br>Player Speed:0.045 MPH",
            "nflId:46163<br>displayName:Alex Cappa<br>Player Speed:0.022 MPH",
            "nflId:47794<br>displayName:Jonah Williams<br>Player Speed:0.022 MPH",
            "nflId:47835<br>displayName:Drew Sample<br>Player Speed:0.0 MPH",
            "nflId:52409<br>displayName:Joe Burrow<br>Player Speed:0.268 MPH",
            "nflId:53434<br>displayName:Ja'Marr Chase<br>Player Speed:5.794 MPH",
            "nflId:54601<br>displayName:Cordell Volson<br>Player Speed:0.0 MPH"
           ],
           "marker": {
            "color": "#000000",
            "line": {
             "color": "#FB4F14",
             "width": 2
            },
            "size": 10
           },
           "mode": "markers",
           "name": "CIN",
           "type": "scatter",
           "x": [
            72.75,
            73.47,
            72.56,
            73.57,
            68.92,
            72.89,
            72.81,
            72.69,
            68.79,
            70.48,
            73.04
           ],
           "y": [
            26.59,
            36.86,
            38.84,
            29.68,
            26.98,
            28.24,
            32.7,
            24.83,
            29.83,
            34.29,
            31.3
           ]
          },
          {
           "hoverinfo": "none",
           "marker": {
            "color": "#CBB67C",
            "line": {
             "color": "#663831",
             "width": 2
            },
            "size": 10
           },
           "mode": "markers",
           "name": "football",
           "type": "scatter",
           "x": [
            73.8099975585938
           ],
           "y": [
            29.7000007629395
           ]
          }
         ],
         "name": "48"
        },
        {
         "data": [
          {
           "hoverinfo": "none",
           "mode": "text",
           "showlegend": false,
           "text": [
            "10",
            "20",
            "30",
            "40",
            "50",
            "40",
            "30",
            "20",
            "10"
           ],
           "textfont": {
            "color": "#ffffff",
            "family": "Courier New, monospace",
            "size": 30
           },
           "type": "scatter",
           "x": [
            20,
            30,
            40,
            50,
            60,
            70,
            80,
            90,
            100
           ],
           "y": [
            5,
            5,
            5,
            5,
            5,
            5,
            5,
            5,
            5
           ]
          },
          {
           "hoverinfo": "none",
           "mode": "text",
           "showlegend": false,
           "text": [
            "10",
            "20",
            "30",
            "40",
            "50",
            "40",
            "30",
            "20",
            "10"
           ],
           "textfont": {
            "color": "#ffffff",
            "family": "Courier New, monospace",
            "size": 30
           },
           "type": "scatter",
           "x": [
            20,
            30,
            40,
            50,
            60,
            70,
            80,
            90,
            100
           ],
           "y": [
            48.5,
            48.5,
            48.5,
            48.5,
            48.5,
            48.5,
            48.5,
            48.5,
            48.5
           ]
          },
          {
           "hoverinfo": "none",
           "line": {
            "color": "blue",
            "dash": "dash"
           },
           "showlegend": false,
           "type": "scatter",
           "x": [
            74,
            74
           ],
           "y": [
            0,
            53.5
           ]
          },
          {
           "hoverinfo": "none",
           "line": {
            "color": "yellow",
            "dash": "dash"
           },
           "showlegend": false,
           "type": "scatter",
           "x": [
            80,
            80
           ],
           "y": [
            0,
            53.5
           ]
          },
          {
           "fill": "toself",
           "fillcolor": "#000000",
           "hoverinfo": "skip",
           "line": {
            "color": "white",
            "width": 3
           },
           "mode": "lines",
           "opacity": 1,
           "showlegend": false,
           "type": "scatter",
           "x": [
            0,
            0,
            10,
            10,
            0
           ],
           "y": [
            0,
            53.5,
            53.5,
            0,
            0
           ]
          },
          {
           "fill": "toself",
           "fillcolor": "#FFB612",
           "hoverinfo": "skip",
           "line": {
            "color": "white",
            "width": 3
           },
           "mode": "lines",
           "opacity": 1,
           "showlegend": false,
           "type": "scatter",
           "x": [
            110,
            110,
            120,
            120,
            110
           ],
           "y": [
            0,
            53.5,
            53.5,
            0,
            0
           ]
          },
          {
           "hoverinfo": "text",
           "hovertext": [
            "nflId:37104<br>displayName:Cameron Heyward<br>Player Speed:0.0 MPH",
            "nflId:43325<br>displayName:Myles Jack<br>Player Speed:0.0 MPH",
            "nflId:44842<br>displayName:T.J. Watt<br>Player Speed:0.022 MPH",
            "nflId:44878<br>displayName:Ahkello Witherspoon<br>Player Speed:1.029 MPH",
            "nflId:44906<br>displayName:Cameron Sutton<br>Player Speed:0.201 MPH",
            "nflId:45395<br>displayName:Arthur Maulet<br>Player Speed:1.118 MPH",
            "nflId:46080<br>displayName:Minkah Fitzpatrick<br>Player Speed:0.067 MPH",
            "nflId:46097<br>displayName:Terrell Edmunds<br>Player Speed:2.103 MPH",
            "nflId:46902<br>displayName:Robert Spillane<br>Player Speed:1.074 MPH",
            "nflId:52971<br>displayName:Jamir Jones<br>Player Speed:0.045 MPH",
            "nflId:54549<br>displayName:DeMarvin Leal<br>Player Speed:0.045 MPH"
           ],
           "marker": {
            "color": "#FFB612",
            "line": {
             "color": "#101820",
             "width": 2
            },
            "size": 10
           },
           "mode": "markers",
           "name": "PIT",
           "type": "scatter",
           "x": [
            75.01,
            79.43,
            74.67,
            79.29,
            80.15,
            78.14,
            85.77,
            84.79,
            78.74,
            75.06,
            74.66
           ],
           "y": [
            30.79,
            28.7,
            22.81,
            22.12,
            41.63,
            38.27,
            36.2,
            26.7,
            32.9,
            34.84,
            27.14
           ]
          },
          {
           "hoverinfo": "text",
           "hovertext": [
            "nflId:42654<br>displayName:La'el Collins<br>Player Speed:0.0 MPH",
            "nflId:43344<br>displayName:Tyler Boyd<br>Player Speed:0.089 MPH",
            "nflId:43495<br>displayName:Mike Thomas<br>Player Speed:0.067 MPH",
            "nflId:43510<br>displayName:Ted Karras<br>Player Speed:0.0 MPH",
            "nflId:44860<br>displayName:Joe Mixon<br>Player Speed:0.045 MPH",
            "nflId:46163<br>displayName:Alex Cappa<br>Player Speed:0.022 MPH",
            "nflId:47794<br>displayName:Jonah Williams<br>Player Speed:0.022 MPH",
            "nflId:47835<br>displayName:Drew Sample<br>Player Speed:0.0 MPH",
            "nflId:52409<br>displayName:Joe Burrow<br>Player Speed:0.358 MPH",
            "nflId:53434<br>displayName:Ja'Marr Chase<br>Player Speed:5.883 MPH",
            "nflId:54601<br>displayName:Cordell Volson<br>Player Speed:0.0 MPH"
           ],
           "marker": {
            "color": "#000000",
            "line": {
             "color": "#FB4F14",
             "width": 2
            },
            "size": 10
           },
           "mode": "markers",
           "name": "CIN",
           "type": "scatter",
           "x": [
            72.74,
            73.47,
            72.56,
            73.57,
            68.92,
            72.88,
            72.82,
            72.69,
            68.8,
            70.32,
            73.04
           ],
           "y": [
            26.59,
            36.86,
            38.84,
            29.67,
            26.99,
            28.24,
            32.7,
            24.83,
            29.82,
            34.09,
            31.3
           ]
          },
          {
           "hoverinfo": "none",
           "marker": {
            "color": "#CBB67C",
            "line": {
             "color": "#663831",
             "width": 2
            },
            "size": 10
           },
           "mode": "markers",
           "name": "football",
           "type": "scatter",
           "x": [
            73.8099975585938
           ],
           "y": [
            29.6900005340576
           ]
          }
         ],
         "name": "49"
        },
        {
         "data": [
          {
           "hoverinfo": "none",
           "mode": "text",
           "showlegend": false,
           "text": [
            "10",
            "20",
            "30",
            "40",
            "50",
            "40",
            "30",
            "20",
            "10"
           ],
           "textfont": {
            "color": "#ffffff",
            "family": "Courier New, monospace",
            "size": 30
           },
           "type": "scatter",
           "x": [
            20,
            30,
            40,
            50,
            60,
            70,
            80,
            90,
            100
           ],
           "y": [
            5,
            5,
            5,
            5,
            5,
            5,
            5,
            5,
            5
           ]
          },
          {
           "hoverinfo": "none",
           "mode": "text",
           "showlegend": false,
           "text": [
            "10",
            "20",
            "30",
            "40",
            "50",
            "40",
            "30",
            "20",
            "10"
           ],
           "textfont": {
            "color": "#ffffff",
            "family": "Courier New, monospace",
            "size": 30
           },
           "type": "scatter",
           "x": [
            20,
            30,
            40,
            50,
            60,
            70,
            80,
            90,
            100
           ],
           "y": [
            48.5,
            48.5,
            48.5,
            48.5,
            48.5,
            48.5,
            48.5,
            48.5,
            48.5
           ]
          },
          {
           "hoverinfo": "none",
           "line": {
            "color": "blue",
            "dash": "dash"
           },
           "showlegend": false,
           "type": "scatter",
           "x": [
            74,
            74
           ],
           "y": [
            0,
            53.5
           ]
          },
          {
           "hoverinfo": "none",
           "line": {
            "color": "yellow",
            "dash": "dash"
           },
           "showlegend": false,
           "type": "scatter",
           "x": [
            80,
            80
           ],
           "y": [
            0,
            53.5
           ]
          },
          {
           "fill": "toself",
           "fillcolor": "#000000",
           "hoverinfo": "skip",
           "line": {
            "color": "white",
            "width": 3
           },
           "mode": "lines",
           "opacity": 1,
           "showlegend": false,
           "type": "scatter",
           "x": [
            0,
            0,
            10,
            10,
            0
           ],
           "y": [
            0,
            53.5,
            53.5,
            0,
            0
           ]
          },
          {
           "fill": "toself",
           "fillcolor": "#FFB612",
           "hoverinfo": "skip",
           "line": {
            "color": "white",
            "width": 3
           },
           "mode": "lines",
           "opacity": 1,
           "showlegend": false,
           "type": "scatter",
           "x": [
            110,
            110,
            120,
            120,
            110
           ],
           "y": [
            0,
            53.5,
            53.5,
            0,
            0
           ]
          },
          {
           "hoverinfo": "text",
           "hovertext": [
            "nflId:37104<br>displayName:Cameron Heyward<br>Player Speed:0.0 MPH",
            "nflId:43325<br>displayName:Myles Jack<br>Player Speed:0.0 MPH",
            "nflId:44842<br>displayName:T.J. Watt<br>Player Speed:0.0 MPH",
            "nflId:44878<br>displayName:Ahkello Witherspoon<br>Player Speed:1.029 MPH",
            "nflId:44906<br>displayName:Cameron Sutton<br>Player Speed:0.201 MPH",
            "nflId:45395<br>displayName:Arthur Maulet<br>Player Speed:1.007 MPH",
            "nflId:46080<br>displayName:Minkah Fitzpatrick<br>Player Speed:0.067 MPH",
            "nflId:46097<br>displayName:Terrell Edmunds<br>Player Speed:2.304 MPH",
            "nflId:46902<br>displayName:Robert Spillane<br>Player Speed:1.186 MPH",
            "nflId:52971<br>displayName:Jamir Jones<br>Player Speed:0.045 MPH",
            "nflId:54549<br>displayName:DeMarvin Leal<br>Player Speed:0.022 MPH"
           ],
           "marker": {
            "color": "#FFB612",
            "line": {
             "color": "#101820",
             "width": 2
            },
            "size": 10
           },
           "mode": "markers",
           "name": "PIT",
           "type": "scatter",
           "x": [
            75.01,
            79.43,
            74.67,
            79.32,
            80.12,
            78.1,
            85.74,
            84.72,
            78.75,
            75.06,
            74.66
           ],
           "y": [
            30.79,
            28.69,
            22.81,
            22.09,
            41.62,
            38.25,
            36.2,
            26.62,
            32.83,
            34.84,
            27.13
           ]
          },
          {
           "hoverinfo": "text",
           "hovertext": [
            "nflId:42654<br>displayName:La'el Collins<br>Player Speed:0.0 MPH",
            "nflId:43344<br>displayName:Tyler Boyd<br>Player Speed:0.067 MPH",
            "nflId:43495<br>displayName:Mike Thomas<br>Player Speed:0.067 MPH",
            "nflId:43510<br>displayName:Ted Karras<br>Player Speed:0.0 MPH",
            "nflId:44860<br>displayName:Joe Mixon<br>Player Speed:0.022 MPH",
            "nflId:46163<br>displayName:Alex Cappa<br>Player Speed:0.022 MPH",
            "nflId:47794<br>displayName:Jonah Williams<br>Player Speed:0.022 MPH",
            "nflId:47835<br>displayName:Drew Sample<br>Player Speed:0.0 MPH",
            "nflId:52409<br>displayName:Joe Burrow<br>Player Speed:0.403 MPH",
            "nflId:53434<br>displayName:Ja'Marr Chase<br>Player Speed:5.95 MPH",
            "nflId:54601<br>displayName:Cordell Volson<br>Player Speed:0.0 MPH"
           ],
           "marker": {
            "color": "#000000",
            "line": {
             "color": "#FB4F14",
             "width": 2
            },
            "size": 10
           },
           "mode": "markers",
           "name": "CIN",
           "type": "scatter",
           "x": [
            72.74,
            73.47,
            72.56,
            73.57,
            68.92,
            72.89,
            72.82,
            72.69,
            68.82,
            70.15,
            73.04
           ],
           "y": [
            26.59,
            36.87,
            38.84,
            29.67,
            26.99,
            28.24,
            32.7,
            24.83,
            29.81,
            33.88,
            31.3
           ]
          },
          {
           "hoverinfo": "none",
           "marker": {
            "color": "#CBB67C",
            "line": {
             "color": "#663831",
             "width": 2
            },
            "size": 10
           },
           "mode": "markers",
           "name": "football",
           "type": "scatter",
           "x": [
            73.8099975585938
           ],
           "y": [
            29.6900005340576
           ]
          }
         ],
         "name": "50"
        },
        {
         "data": [
          {
           "hoverinfo": "none",
           "mode": "text",
           "showlegend": false,
           "text": [
            "10",
            "20",
            "30",
            "40",
            "50",
            "40",
            "30",
            "20",
            "10"
           ],
           "textfont": {
            "color": "#ffffff",
            "family": "Courier New, monospace",
            "size": 30
           },
           "type": "scatter",
           "x": [
            20,
            30,
            40,
            50,
            60,
            70,
            80,
            90,
            100
           ],
           "y": [
            5,
            5,
            5,
            5,
            5,
            5,
            5,
            5,
            5
           ]
          },
          {
           "hoverinfo": "none",
           "mode": "text",
           "showlegend": false,
           "text": [
            "10",
            "20",
            "30",
            "40",
            "50",
            "40",
            "30",
            "20",
            "10"
           ],
           "textfont": {
            "color": "#ffffff",
            "family": "Courier New, monospace",
            "size": 30
           },
           "type": "scatter",
           "x": [
            20,
            30,
            40,
            50,
            60,
            70,
            80,
            90,
            100
           ],
           "y": [
            48.5,
            48.5,
            48.5,
            48.5,
            48.5,
            48.5,
            48.5,
            48.5,
            48.5
           ]
          },
          {
           "hoverinfo": "none",
           "line": {
            "color": "blue",
            "dash": "dash"
           },
           "showlegend": false,
           "type": "scatter",
           "x": [
            74,
            74
           ],
           "y": [
            0,
            53.5
           ]
          },
          {
           "hoverinfo": "none",
           "line": {
            "color": "yellow",
            "dash": "dash"
           },
           "showlegend": false,
           "type": "scatter",
           "x": [
            80,
            80
           ],
           "y": [
            0,
            53.5
           ]
          },
          {
           "fill": "toself",
           "fillcolor": "#000000",
           "hoverinfo": "skip",
           "line": {
            "color": "white",
            "width": 3
           },
           "mode": "lines",
           "opacity": 1,
           "showlegend": false,
           "type": "scatter",
           "x": [
            0,
            0,
            10,
            10,
            0
           ],
           "y": [
            0,
            53.5,
            53.5,
            0,
            0
           ]
          },
          {
           "fill": "toself",
           "fillcolor": "#FFB612",
           "hoverinfo": "skip",
           "line": {
            "color": "white",
            "width": 3
           },
           "mode": "lines",
           "opacity": 1,
           "showlegend": false,
           "type": "scatter",
           "x": [
            110,
            110,
            120,
            120,
            110
           ],
           "y": [
            0,
            53.5,
            53.5,
            0,
            0
           ]
          },
          {
           "hoverinfo": "text",
           "hovertext": [
            "nflId:37104<br>displayName:Cameron Heyward<br>Player Speed:0.0 MPH",
            "nflId:43325<br>displayName:Myles Jack<br>Player Speed:0.0 MPH",
            "nflId:44842<br>displayName:T.J. Watt<br>Player Speed:0.0 MPH",
            "nflId:44878<br>displayName:Ahkello Witherspoon<br>Player Speed:1.163 MPH",
            "nflId:44906<br>displayName:Cameron Sutton<br>Player Speed:0.201 MPH",
            "nflId:45395<br>displayName:Arthur Maulet<br>Player Speed:0.872 MPH",
            "nflId:46080<br>displayName:Minkah Fitzpatrick<br>Player Speed:0.089 MPH",
            "nflId:46097<br>displayName:Terrell Edmunds<br>Player Speed:2.394 MPH",
            "nflId:46902<br>displayName:Robert Spillane<br>Player Speed:1.208 MPH",
            "nflId:52971<br>displayName:Jamir Jones<br>Player Speed:0.045 MPH",
            "nflId:54549<br>displayName:DeMarvin Leal<br>Player Speed:0.045 MPH"
           ],
           "marker": {
            "color": "#FFB612",
            "line": {
             "color": "#101820",
             "width": 2
            },
            "size": 10
           },
           "mode": "markers",
           "name": "PIT",
           "type": "scatter",
           "x": [
            75.01,
            79.42,
            74.68,
            79.34,
            80.1,
            78.07,
            85.72,
            84.65,
            78.77,
            75.06,
            74.67
           ],
           "y": [
            30.79,
            28.67,
            22.82,
            22.04,
            41.6,
            38.23,
            36.2,
            26.54,
            32.76,
            34.83,
            27.14
           ]
          },
          {
           "hoverinfo": "text",
           "hovertext": [
            "nflId:42654<br>displayName:La'el Collins<br>Player Speed:0.0 MPH",
            "nflId:43344<br>displayName:Tyler Boyd<br>Player Speed:0.067 MPH",
            "nflId:43495<br>displayName:Mike Thomas<br>Player Speed:0.045 MPH",
            "nflId:43510<br>displayName:Ted Karras<br>Player Speed:0.0 MPH",
            "nflId:44860<br>displayName:Joe Mixon<br>Player Speed:0.022 MPH",
            "nflId:46163<br>displayName:Alex Cappa<br>Player Speed:0.022 MPH",
            "nflId:47794<br>displayName:Jonah Williams<br>Player Speed:0.022 MPH",
            "nflId:47835<br>displayName:Drew Sample<br>Player Speed:0.0 MPH",
            "nflId:52409<br>displayName:Joe Burrow<br>Player Speed:0.425 MPH",
            "nflId:53434<br>displayName:Ja'Marr Chase<br>Player Speed:5.816 MPH",
            "nflId:54601<br>displayName:Cordell Volson<br>Player Speed:0.0 MPH"
           ],
           "marker": {
            "color": "#000000",
            "line": {
             "color": "#FB4F14",
             "width": 2
            },
            "size": 10
           },
           "mode": "markers",
           "name": "CIN",
           "type": "scatter",
           "x": [
            72.74,
            73.47,
            72.56,
            73.57,
            68.92,
            72.89,
            72.83,
            72.69,
            68.83,
            69.99,
            73.04
           ],
           "y": [
            26.59,
            36.87,
            38.84,
            29.67,
            26.98,
            28.24,
            32.69,
            24.83,
            29.8,
            33.68,
            31.3
           ]
          },
          {
           "hoverinfo": "none",
           "marker": {
            "color": "#CBB67C",
            "line": {
             "color": "#663831",
             "width": 2
            },
            "size": 10
           },
           "mode": "markers",
           "name": "football",
           "type": "scatter",
           "x": [
            73.8099975585938
           ],
           "y": [
            29.6900005340576
           ]
          }
         ],
         "name": "51"
        },
        {
         "data": [
          {
           "hoverinfo": "none",
           "mode": "text",
           "showlegend": false,
           "text": [
            "10",
            "20",
            "30",
            "40",
            "50",
            "40",
            "30",
            "20",
            "10"
           ],
           "textfont": {
            "color": "#ffffff",
            "family": "Courier New, monospace",
            "size": 30
           },
           "type": "scatter",
           "x": [
            20,
            30,
            40,
            50,
            60,
            70,
            80,
            90,
            100
           ],
           "y": [
            5,
            5,
            5,
            5,
            5,
            5,
            5,
            5,
            5
           ]
          },
          {
           "hoverinfo": "none",
           "mode": "text",
           "showlegend": false,
           "text": [
            "10",
            "20",
            "30",
            "40",
            "50",
            "40",
            "30",
            "20",
            "10"
           ],
           "textfont": {
            "color": "#ffffff",
            "family": "Courier New, monospace",
            "size": 30
           },
           "type": "scatter",
           "x": [
            20,
            30,
            40,
            50,
            60,
            70,
            80,
            90,
            100
           ],
           "y": [
            48.5,
            48.5,
            48.5,
            48.5,
            48.5,
            48.5,
            48.5,
            48.5,
            48.5
           ]
          },
          {
           "hoverinfo": "none",
           "line": {
            "color": "blue",
            "dash": "dash"
           },
           "showlegend": false,
           "type": "scatter",
           "x": [
            74,
            74
           ],
           "y": [
            0,
            53.5
           ]
          },
          {
           "hoverinfo": "none",
           "line": {
            "color": "yellow",
            "dash": "dash"
           },
           "showlegend": false,
           "type": "scatter",
           "x": [
            80,
            80
           ],
           "y": [
            0,
            53.5
           ]
          },
          {
           "fill": "toself",
           "fillcolor": "#000000",
           "hoverinfo": "skip",
           "line": {
            "color": "white",
            "width": 3
           },
           "mode": "lines",
           "opacity": 1,
           "showlegend": false,
           "type": "scatter",
           "x": [
            0,
            0,
            10,
            10,
            0
           ],
           "y": [
            0,
            53.5,
            53.5,
            0,
            0
           ]
          },
          {
           "fill": "toself",
           "fillcolor": "#FFB612",
           "hoverinfo": "skip",
           "line": {
            "color": "white",
            "width": 3
           },
           "mode": "lines",
           "opacity": 1,
           "showlegend": false,
           "type": "scatter",
           "x": [
            110,
            110,
            120,
            120,
            110
           ],
           "y": [
            0,
            53.5,
            53.5,
            0,
            0
           ]
          },
          {
           "hoverinfo": "text",
           "hovertext": [
            "nflId:37104<br>displayName:Cameron Heyward<br>Player Speed:0.0 MPH",
            "nflId:43325<br>displayName:Myles Jack<br>Player Speed:0.0 MPH",
            "nflId:44842<br>displayName:T.J. Watt<br>Player Speed:0.0 MPH",
            "nflId:44878<br>displayName:Ahkello Witherspoon<br>Player Speed:1.365 MPH",
            "nflId:44906<br>displayName:Cameron Sutton<br>Player Speed:0.201 MPH",
            "nflId:45395<br>displayName:Arthur Maulet<br>Player Speed:0.649 MPH",
            "nflId:46080<br>displayName:Minkah Fitzpatrick<br>Player Speed:0.089 MPH",
            "nflId:46097<br>displayName:Terrell Edmunds<br>Player Speed:2.505 MPH",
            "nflId:46902<br>displayName:Robert Spillane<br>Player Speed:1.275 MPH",
            "nflId:52971<br>displayName:Jamir Jones<br>Player Speed:0.045 MPH",
            "nflId:54549<br>displayName:DeMarvin Leal<br>Player Speed:0.022 MPH"
           ],
           "marker": {
            "color": "#FFB612",
            "line": {
             "color": "#101820",
             "width": 2
            },
            "size": 10
           },
           "mode": "markers",
           "name": "PIT",
           "type": "scatter",
           "x": [
            75.01,
            79.42,
            74.68,
            79.34,
            80.08,
            78.05,
            85.7,
            84.58,
            78.79,
            75.06,
            74.67
           ],
           "y": [
            30.79,
            28.66,
            22.82,
            21.98,
            41.59,
            38.21,
            36.2,
            26.46,
            32.68,
            34.83,
            27.13
           ]
          },
          {
           "hoverinfo": "text",
           "hovertext": [
            "nflId:42654<br>displayName:La'el Collins<br>Player Speed:0.0 MPH",
            "nflId:43344<br>displayName:Tyler Boyd<br>Player Speed:0.201 MPH",
            "nflId:43495<br>displayName:Mike Thomas<br>Player Speed:0.045 MPH",
            "nflId:43510<br>displayName:Ted Karras<br>Player Speed:0.0 MPH",
            "nflId:44860<br>displayName:Joe Mixon<br>Player Speed:0.022 MPH",
            "nflId:46163<br>displayName:Alex Cappa<br>Player Speed:0.022 MPH",
            "nflId:47794<br>displayName:Jonah Williams<br>Player Speed:0.022 MPH",
            "nflId:47835<br>displayName:Drew Sample<br>Player Speed:0.0 MPH",
            "nflId:52409<br>displayName:Joe Burrow<br>Player Speed:0.447 MPH",
            "nflId:53434<br>displayName:Ja'Marr Chase<br>Player Speed:5.57 MPH",
            "nflId:54601<br>displayName:Cordell Volson<br>Player Speed:0.0 MPH"
           ],
           "marker": {
            "color": "#000000",
            "line": {
             "color": "#FB4F14",
             "width": 2
            },
            "size": 10
           },
           "mode": "markers",
           "name": "CIN",
           "type": "scatter",
           "x": [
            72.74,
            73.46,
            72.56,
            73.57,
            68.91,
            72.89,
            72.83,
            72.7,
            68.85,
            69.84,
            73.03
           ],
           "y": [
            26.59,
            36.88,
            38.84,
            29.67,
            26.98,
            28.24,
            32.69,
            24.82,
            29.79,
            33.47,
            31.3
           ]
          },
          {
           "hoverinfo": "none",
           "marker": {
            "color": "#CBB67C",
            "line": {
             "color": "#663831",
             "width": 2
            },
            "size": 10
           },
           "mode": "markers",
           "name": "football",
           "type": "scatter",
           "x": [
            73.8099975585938
           ],
           "y": [
            29.6900005340576
           ]
          }
         ],
         "name": "52"
        },
        {
         "data": [
          {
           "hoverinfo": "none",
           "mode": "text",
           "showlegend": false,
           "text": [
            "10",
            "20",
            "30",
            "40",
            "50",
            "40",
            "30",
            "20",
            "10"
           ],
           "textfont": {
            "color": "#ffffff",
            "family": "Courier New, monospace",
            "size": 30
           },
           "type": "scatter",
           "x": [
            20,
            30,
            40,
            50,
            60,
            70,
            80,
            90,
            100
           ],
           "y": [
            5,
            5,
            5,
            5,
            5,
            5,
            5,
            5,
            5
           ]
          },
          {
           "hoverinfo": "none",
           "mode": "text",
           "showlegend": false,
           "text": [
            "10",
            "20",
            "30",
            "40",
            "50",
            "40",
            "30",
            "20",
            "10"
           ],
           "textfont": {
            "color": "#ffffff",
            "family": "Courier New, monospace",
            "size": 30
           },
           "type": "scatter",
           "x": [
            20,
            30,
            40,
            50,
            60,
            70,
            80,
            90,
            100
           ],
           "y": [
            48.5,
            48.5,
            48.5,
            48.5,
            48.5,
            48.5,
            48.5,
            48.5,
            48.5
           ]
          },
          {
           "hoverinfo": "none",
           "line": {
            "color": "blue",
            "dash": "dash"
           },
           "showlegend": false,
           "type": "scatter",
           "x": [
            74,
            74
           ],
           "y": [
            0,
            53.5
           ]
          },
          {
           "hoverinfo": "none",
           "line": {
            "color": "yellow",
            "dash": "dash"
           },
           "showlegend": false,
           "type": "scatter",
           "x": [
            80,
            80
           ],
           "y": [
            0,
            53.5
           ]
          },
          {
           "fill": "toself",
           "fillcolor": "#000000",
           "hoverinfo": "skip",
           "line": {
            "color": "white",
            "width": 3
           },
           "mode": "lines",
           "opacity": 1,
           "showlegend": false,
           "type": "scatter",
           "x": [
            0,
            0,
            10,
            10,
            0
           ],
           "y": [
            0,
            53.5,
            53.5,
            0,
            0
           ]
          },
          {
           "fill": "toself",
           "fillcolor": "#FFB612",
           "hoverinfo": "skip",
           "line": {
            "color": "white",
            "width": 3
           },
           "mode": "lines",
           "opacity": 1,
           "showlegend": false,
           "type": "scatter",
           "x": [
            110,
            110,
            120,
            120,
            110
           ],
           "y": [
            0,
            53.5,
            53.5,
            0,
            0
           ]
          },
          {
           "hoverinfo": "text",
           "hovertext": [
            "nflId:37104<br>displayName:Cameron Heyward<br>Player Speed:0.0 MPH",
            "nflId:43325<br>displayName:Myles Jack<br>Player Speed:0.0 MPH",
            "nflId:44842<br>displayName:T.J. Watt<br>Player Speed:0.0 MPH",
            "nflId:44878<br>displayName:Ahkello Witherspoon<br>Player Speed:1.588 MPH",
            "nflId:44906<br>displayName:Cameron Sutton<br>Player Speed:0.179 MPH",
            "nflId:45395<br>displayName:Arthur Maulet<br>Player Speed:0.447 MPH",
            "nflId:46080<br>displayName:Minkah Fitzpatrick<br>Player Speed:0.089 MPH",
            "nflId:46097<br>displayName:Terrell Edmunds<br>Player Speed:2.55 MPH",
            "nflId:46902<br>displayName:Robert Spillane<br>Player Speed:1.253 MPH",
            "nflId:52971<br>displayName:Jamir Jones<br>Player Speed:0.022 MPH",
            "nflId:54549<br>displayName:DeMarvin Leal<br>Player Speed:0.022 MPH"
           ],
           "marker": {
            "color": "#FFB612",
            "line": {
             "color": "#101820",
             "width": 2
            },
            "size": 10
           },
           "mode": "markers",
           "name": "PIT",
           "type": "scatter",
           "x": [
            75.01,
            79.41,
            74.67,
            79.33,
            80.06,
            78.04,
            85.65,
            84.51,
            78.8,
            75.07,
            74.67
           ],
           "y": [
            30.78,
            28.66,
            22.82,
            21.91,
            41.58,
            38.19,
            36.22,
            26.37,
            32.61,
            34.83,
            27.12
           ]
          },
          {
           "hoverinfo": "text",
           "hovertext": [
            "nflId:42654<br>displayName:La'el Collins<br>Player Speed:0.0 MPH",
            "nflId:43344<br>displayName:Tyler Boyd<br>Player Speed:0.134 MPH",
            "nflId:43495<br>displayName:Mike Thomas<br>Player Speed:0.045 MPH",
            "nflId:43510<br>displayName:Ted Karras<br>Player Speed:0.0 MPH",
            "nflId:44860<br>displayName:Joe Mixon<br>Player Speed:0.022 MPH",
            "nflId:46163<br>displayName:Alex Cappa<br>Player Speed:0.0 MPH",
            "nflId:47794<br>displayName:Jonah Williams<br>Player Speed:0.0 MPH",
            "nflId:47835<br>displayName:Drew Sample<br>Player Speed:0.0 MPH",
            "nflId:52409<br>displayName:Joe Burrow<br>Player Speed:0.492 MPH",
            "nflId:53434<br>displayName:Ja'Marr Chase<br>Player Speed:5.302 MPH",
            "nflId:54601<br>displayName:Cordell Volson<br>Player Speed:0.0 MPH"
           ],
           "marker": {
            "color": "#000000",
            "line": {
             "color": "#FB4F14",
             "width": 2
            },
            "size": 10
           },
           "mode": "markers",
           "name": "CIN",
           "type": "scatter",
           "x": [
            72.74,
            73.46,
            72.56,
            73.57,
            68.91,
            72.89,
            72.83,
            72.7,
            68.87,
            69.71,
            73.03
           ],
           "y": [
            26.58,
            36.88,
            38.84,
            29.67,
            26.98,
            28.24,
            32.69,
            24.82,
            29.78,
            33.27,
            31.29
           ]
          },
          {
           "hoverinfo": "none",
           "marker": {
            "color": "#CBB67C",
            "line": {
             "color": "#663831",
             "width": 2
            },
            "size": 10
           },
           "mode": "markers",
           "name": "football",
           "type": "scatter",
           "x": [
            73.8099975585938
           ],
           "y": [
            29.6900005340576
           ]
          }
         ],
         "name": "53"
        },
        {
         "data": [
          {
           "hoverinfo": "none",
           "mode": "text",
           "showlegend": false,
           "text": [
            "10",
            "20",
            "30",
            "40",
            "50",
            "40",
            "30",
            "20",
            "10"
           ],
           "textfont": {
            "color": "#ffffff",
            "family": "Courier New, monospace",
            "size": 30
           },
           "type": "scatter",
           "x": [
            20,
            30,
            40,
            50,
            60,
            70,
            80,
            90,
            100
           ],
           "y": [
            5,
            5,
            5,
            5,
            5,
            5,
            5,
            5,
            5
           ]
          },
          {
           "hoverinfo": "none",
           "mode": "text",
           "showlegend": false,
           "text": [
            "10",
            "20",
            "30",
            "40",
            "50",
            "40",
            "30",
            "20",
            "10"
           ],
           "textfont": {
            "color": "#ffffff",
            "family": "Courier New, monospace",
            "size": 30
           },
           "type": "scatter",
           "x": [
            20,
            30,
            40,
            50,
            60,
            70,
            80,
            90,
            100
           ],
           "y": [
            48.5,
            48.5,
            48.5,
            48.5,
            48.5,
            48.5,
            48.5,
            48.5,
            48.5
           ]
          },
          {
           "hoverinfo": "none",
           "line": {
            "color": "blue",
            "dash": "dash"
           },
           "showlegend": false,
           "type": "scatter",
           "x": [
            74,
            74
           ],
           "y": [
            0,
            53.5
           ]
          },
          {
           "hoverinfo": "none",
           "line": {
            "color": "yellow",
            "dash": "dash"
           },
           "showlegend": false,
           "type": "scatter",
           "x": [
            80,
            80
           ],
           "y": [
            0,
            53.5
           ]
          },
          {
           "fill": "toself",
           "fillcolor": "#000000",
           "hoverinfo": "skip",
           "line": {
            "color": "white",
            "width": 3
           },
           "mode": "lines",
           "opacity": 1,
           "showlegend": false,
           "type": "scatter",
           "x": [
            0,
            0,
            10,
            10,
            0
           ],
           "y": [
            0,
            53.5,
            53.5,
            0,
            0
           ]
          },
          {
           "fill": "toself",
           "fillcolor": "#FFB612",
           "hoverinfo": "skip",
           "line": {
            "color": "white",
            "width": 3
           },
           "mode": "lines",
           "opacity": 1,
           "showlegend": false,
           "type": "scatter",
           "x": [
            110,
            110,
            120,
            120,
            110
           ],
           "y": [
            0,
            53.5,
            53.5,
            0,
            0
           ]
          },
          {
           "hoverinfo": "text",
           "hovertext": [
            "nflId:37104<br>displayName:Cameron Heyward<br>Player Speed:0.0 MPH",
            "nflId:43325<br>displayName:Myles Jack<br>Player Speed:0.0 MPH",
            "nflId:44842<br>displayName:T.J. Watt<br>Player Speed:0.0 MPH",
            "nflId:44878<br>displayName:Ahkello Witherspoon<br>Player Speed:1.678 MPH",
            "nflId:44906<br>displayName:Cameron Sutton<br>Player Speed:0.268 MPH",
            "nflId:45395<br>displayName:Arthur Maulet<br>Player Speed:0.291 MPH",
            "nflId:46080<br>displayName:Minkah Fitzpatrick<br>Player Speed:0.157 MPH",
            "nflId:46097<br>displayName:Terrell Edmunds<br>Player Speed:2.528 MPH",
            "nflId:46902<br>displayName:Robert Spillane<br>Player Speed:1.208 MPH",
            "nflId:52971<br>displayName:Jamir Jones<br>Player Speed:0.022 MPH",
            "nflId:54549<br>displayName:DeMarvin Leal<br>Player Speed:0.022 MPH"
           ],
           "marker": {
            "color": "#FFB612",
            "line": {
             "color": "#101820",
             "width": 2
            },
            "size": 10
           },
           "mode": "markers",
           "name": "PIT",
           "type": "scatter",
           "x": [
            75.01,
            79.41,
            74.67,
            79.31,
            80.05,
            78.05,
            85.61,
            84.43,
            78.82,
            75.07,
            74.68
           ],
           "y": [
            30.79,
            28.64,
            22.82,
            21.85,
            41.56,
            38.18,
            36.22,
            26.28,
            32.55,
            34.83,
            27.11
           ]
          },
          {
           "hoverinfo": "text",
           "hovertext": [
            "nflId:42654<br>displayName:La'el Collins<br>Player Speed:0.0 MPH",
            "nflId:43344<br>displayName:Tyler Boyd<br>Player Speed:0.067 MPH",
            "nflId:43495<br>displayName:Mike Thomas<br>Player Speed:0.045 MPH",
            "nflId:43510<br>displayName:Ted Karras<br>Player Speed:0.0 MPH",
            "nflId:44860<br>displayName:Joe Mixon<br>Player Speed:0.022 MPH",
            "nflId:46163<br>displayName:Alex Cappa<br>Player Speed:0.0 MPH",
            "nflId:47794<br>displayName:Jonah Williams<br>Player Speed:0.0 MPH",
            "nflId:47835<br>displayName:Drew Sample<br>Player Speed:0.0 MPH",
            "nflId:52409<br>displayName:Joe Burrow<br>Player Speed:0.514 MPH",
            "nflId:53434<br>displayName:Ja'Marr Chase<br>Player Speed:4.921 MPH",
            "nflId:54601<br>displayName:Cordell Volson<br>Player Speed:0.0 MPH"
           ],
           "marker": {
            "color": "#000000",
            "line": {
             "color": "#FB4F14",
             "width": 2
            },
            "size": 10
           },
           "mode": "markers",
           "name": "CIN",
           "type": "scatter",
           "x": [
            72.74,
            73.46,
            72.56,
            73.57,
            68.91,
            72.9,
            72.83,
            72.7,
            68.9,
            69.59,
            73.03
           ],
           "y": [
            26.58,
            36.88,
            38.84,
            29.68,
            26.99,
            28.24,
            32.69,
            24.82,
            29.79,
            33.08,
            31.29
           ]
          },
          {
           "hoverinfo": "none",
           "marker": {
            "color": "#CBB67C",
            "line": {
             "color": "#663831",
             "width": 2
            },
            "size": 10
           },
           "mode": "markers",
           "name": "football",
           "type": "scatter",
           "x": [
            73.8099975585938
           ],
           "y": [
            29.6900005340576
           ]
          }
         ],
         "name": "54"
        },
        {
         "data": [
          {
           "hoverinfo": "none",
           "mode": "text",
           "showlegend": false,
           "text": [
            "10",
            "20",
            "30",
            "40",
            "50",
            "40",
            "30",
            "20",
            "10"
           ],
           "textfont": {
            "color": "#ffffff",
            "family": "Courier New, monospace",
            "size": 30
           },
           "type": "scatter",
           "x": [
            20,
            30,
            40,
            50,
            60,
            70,
            80,
            90,
            100
           ],
           "y": [
            5,
            5,
            5,
            5,
            5,
            5,
            5,
            5,
            5
           ]
          },
          {
           "hoverinfo": "none",
           "mode": "text",
           "showlegend": false,
           "text": [
            "10",
            "20",
            "30",
            "40",
            "50",
            "40",
            "30",
            "20",
            "10"
           ],
           "textfont": {
            "color": "#ffffff",
            "family": "Courier New, monospace",
            "size": 30
           },
           "type": "scatter",
           "x": [
            20,
            30,
            40,
            50,
            60,
            70,
            80,
            90,
            100
           ],
           "y": [
            48.5,
            48.5,
            48.5,
            48.5,
            48.5,
            48.5,
            48.5,
            48.5,
            48.5
           ]
          },
          {
           "hoverinfo": "none",
           "line": {
            "color": "blue",
            "dash": "dash"
           },
           "showlegend": false,
           "type": "scatter",
           "x": [
            74,
            74
           ],
           "y": [
            0,
            53.5
           ]
          },
          {
           "hoverinfo": "none",
           "line": {
            "color": "yellow",
            "dash": "dash"
           },
           "showlegend": false,
           "type": "scatter",
           "x": [
            80,
            80
           ],
           "y": [
            0,
            53.5
           ]
          },
          {
           "fill": "toself",
           "fillcolor": "#000000",
           "hoverinfo": "skip",
           "line": {
            "color": "white",
            "width": 3
           },
           "mode": "lines",
           "opacity": 1,
           "showlegend": false,
           "type": "scatter",
           "x": [
            0,
            0,
            10,
            10,
            0
           ],
           "y": [
            0,
            53.5,
            53.5,
            0,
            0
           ]
          },
          {
           "fill": "toself",
           "fillcolor": "#FFB612",
           "hoverinfo": "skip",
           "line": {
            "color": "white",
            "width": 3
           },
           "mode": "lines",
           "opacity": 1,
           "showlegend": false,
           "type": "scatter",
           "x": [
            110,
            110,
            120,
            120,
            110
           ],
           "y": [
            0,
            53.5,
            53.5,
            0,
            0
           ]
          },
          {
           "hoverinfo": "text",
           "hovertext": [
            "nflId:37104<br>displayName:Cameron Heyward<br>Player Speed:0.0 MPH",
            "nflId:43325<br>displayName:Myles Jack<br>Player Speed:0.112 MPH",
            "nflId:44842<br>displayName:T.J. Watt<br>Player Speed:0.0 MPH",
            "nflId:44878<br>displayName:Ahkello Witherspoon<br>Player Speed:1.745 MPH",
            "nflId:44906<br>displayName:Cameron Sutton<br>Player Speed:0.514 MPH",
            "nflId:45395<br>displayName:Arthur Maulet<br>Player Speed:0.291 MPH",
            "nflId:46080<br>displayName:Minkah Fitzpatrick<br>Player Speed:0.514 MPH",
            "nflId:46097<br>displayName:Terrell Edmunds<br>Player Speed:2.505 MPH",
            "nflId:46902<br>displayName:Robert Spillane<br>Player Speed:1.186 MPH",
            "nflId:52971<br>displayName:Jamir Jones<br>Player Speed:0.022 MPH",
            "nflId:54549<br>displayName:DeMarvin Leal<br>Player Speed:0.022 MPH"
           ],
           "marker": {
            "color": "#FFB612",
            "line": {
             "color": "#101820",
             "width": 2
            },
            "size": 10
           },
           "mode": "markers",
           "name": "PIT",
           "type": "scatter",
           "x": [
            75.01,
            79.4,
            74.67,
            79.27,
            80.03,
            78.05,
            85.59,
            84.37,
            78.83,
            75.07,
            74.68
           ],
           "y": [
            30.79,
            28.62,
            22.83,
            21.78,
            41.55,
            38.17,
            36.22,
            26.2,
            32.48,
            34.82,
            27.11
           ]
          },
          {
           "hoverinfo": "text",
           "hovertext": [
            "nflId:42654<br>displayName:La'el Collins<br>Player Speed:0.0 MPH",
            "nflId:43344<br>displayName:Tyler Boyd<br>Player Speed:0.045 MPH",
            "nflId:43495<br>displayName:Mike Thomas<br>Player Speed:0.022 MPH",
            "nflId:43510<br>displayName:Ted Karras<br>Player Speed:0.0 MPH",
            "nflId:44860<br>displayName:Joe Mixon<br>Player Speed:0.022 MPH",
            "nflId:46163<br>displayName:Alex Cappa<br>Player Speed:0.0 MPH",
            "nflId:47794<br>displayName:Jonah Williams<br>Player Speed:0.0 MPH",
            "nflId:47835<br>displayName:Drew Sample<br>Player Speed:0.0 MPH",
            "nflId:52409<br>displayName:Joe Burrow<br>Player Speed:0.582 MPH",
            "nflId:53434<br>displayName:Ja'Marr Chase<br>Player Speed:4.608 MPH",
            "nflId:54601<br>displayName:Cordell Volson<br>Player Speed:0.0 MPH"
           ],
           "marker": {
            "color": "#000000",
            "line": {
             "color": "#FB4F14",
             "width": 2
            },
            "size": 10
           },
           "mode": "markers",
           "name": "CIN",
           "type": "scatter",
           "x": [
            72.75,
            73.47,
            72.56,
            73.57,
            68.92,
            72.9,
            72.83,
            72.7,
            68.93,
            69.48,
            73.03
           ],
           "y": [
            26.58,
            36.88,
            38.84,
            29.68,
            26.99,
            28.24,
            32.69,
            24.83,
            29.79,
            32.9,
            31.29
           ]
          },
          {
           "hoverinfo": "none",
           "marker": {
            "color": "#CBB67C",
            "line": {
             "color": "#663831",
             "width": 2
            },
            "size": 10
           },
           "mode": "markers",
           "name": "football",
           "type": "scatter",
           "x": [
            73.8099975585938
           ],
           "y": [
            29.6900005340576
           ]
          }
         ],
         "name": "55"
        },
        {
         "data": [
          {
           "hoverinfo": "none",
           "mode": "text",
           "showlegend": false,
           "text": [
            "10",
            "20",
            "30",
            "40",
            "50",
            "40",
            "30",
            "20",
            "10"
           ],
           "textfont": {
            "color": "#ffffff",
            "family": "Courier New, monospace",
            "size": 30
           },
           "type": "scatter",
           "x": [
            20,
            30,
            40,
            50,
            60,
            70,
            80,
            90,
            100
           ],
           "y": [
            5,
            5,
            5,
            5,
            5,
            5,
            5,
            5,
            5
           ]
          },
          {
           "hoverinfo": "none",
           "mode": "text",
           "showlegend": false,
           "text": [
            "10",
            "20",
            "30",
            "40",
            "50",
            "40",
            "30",
            "20",
            "10"
           ],
           "textfont": {
            "color": "#ffffff",
            "family": "Courier New, monospace",
            "size": 30
           },
           "type": "scatter",
           "x": [
            20,
            30,
            40,
            50,
            60,
            70,
            80,
            90,
            100
           ],
           "y": [
            48.5,
            48.5,
            48.5,
            48.5,
            48.5,
            48.5,
            48.5,
            48.5,
            48.5
           ]
          },
          {
           "hoverinfo": "none",
           "line": {
            "color": "blue",
            "dash": "dash"
           },
           "showlegend": false,
           "type": "scatter",
           "x": [
            74,
            74
           ],
           "y": [
            0,
            53.5
           ]
          },
          {
           "hoverinfo": "none",
           "line": {
            "color": "yellow",
            "dash": "dash"
           },
           "showlegend": false,
           "type": "scatter",
           "x": [
            80,
            80
           ],
           "y": [
            0,
            53.5
           ]
          },
          {
           "fill": "toself",
           "fillcolor": "#000000",
           "hoverinfo": "skip",
           "line": {
            "color": "white",
            "width": 3
           },
           "mode": "lines",
           "opacity": 1,
           "showlegend": false,
           "type": "scatter",
           "x": [
            0,
            0,
            10,
            10,
            0
           ],
           "y": [
            0,
            53.5,
            53.5,
            0,
            0
           ]
          },
          {
           "fill": "toself",
           "fillcolor": "#FFB612",
           "hoverinfo": "skip",
           "line": {
            "color": "white",
            "width": 3
           },
           "mode": "lines",
           "opacity": 1,
           "showlegend": false,
           "type": "scatter",
           "x": [
            110,
            110,
            120,
            120,
            110
           ],
           "y": [
            0,
            53.5,
            53.5,
            0,
            0
           ]
          },
          {
           "hoverinfo": "text",
           "hovertext": [
            "nflId:37104<br>displayName:Cameron Heyward<br>Player Speed:0.0 MPH",
            "nflId:43325<br>displayName:Myles Jack<br>Player Speed:0.671 MPH",
            "nflId:44842<br>displayName:T.J. Watt<br>Player Speed:0.0 MPH",
            "nflId:44878<br>displayName:Ahkello Witherspoon<br>Player Speed:1.745 MPH",
            "nflId:44906<br>displayName:Cameron Sutton<br>Player Speed:0.805 MPH",
            "nflId:45395<br>displayName:Arthur Maulet<br>Player Speed:0.358 MPH",
            "nflId:46080<br>displayName:Minkah Fitzpatrick<br>Player Speed:1.253 MPH",
            "nflId:46097<br>displayName:Terrell Edmunds<br>Player Speed:2.438 MPH",
            "nflId:46902<br>displayName:Robert Spillane<br>Player Speed:1.23 MPH",
            "nflId:52971<br>displayName:Jamir Jones<br>Player Speed:0.022 MPH",
            "nflId:54549<br>displayName:DeMarvin Leal<br>Player Speed:0.022 MPH"
           ],
           "marker": {
            "color": "#FFB612",
            "line": {
             "color": "#101820",
             "width": 2
            },
            "size": 10
           },
           "mode": "markers",
           "name": "PIT",
           "type": "scatter",
           "x": [
            75,
            79.39,
            74.68,
            79.23,
            80,
            78.06,
            85.55,
            84.3,
            78.84,
            75.08,
            74.68
           ],
           "y": [
            30.79,
            28.6,
            22.83,
            21.72,
            41.54,
            38.16,
            36.22,
            26.11,
            32.42,
            34.82,
            27.1
           ]
          },
          {
           "hoverinfo": "text",
           "hovertext": [
            "nflId:42654<br>displayName:La'el Collins<br>Player Speed:0.0 MPH",
            "nflId:43344<br>displayName:Tyler Boyd<br>Player Speed:0.067 MPH",
            "nflId:43495<br>displayName:Mike Thomas<br>Player Speed:0.022 MPH",
            "nflId:43510<br>displayName:Ted Karras<br>Player Speed:0.0 MPH",
            "nflId:44860<br>displayName:Joe Mixon<br>Player Speed:0.022 MPH",
            "nflId:46163<br>displayName:Alex Cappa<br>Player Speed:0.0 MPH",
            "nflId:47794<br>displayName:Jonah Williams<br>Player Speed:0.0 MPH",
            "nflId:47835<br>displayName:Drew Sample<br>Player Speed:0.0 MPH",
            "nflId:52409<br>displayName:Joe Burrow<br>Player Speed:0.604 MPH",
            "nflId:53434<br>displayName:Ja'Marr Chase<br>Player Speed:4.273 MPH",
            "nflId:54601<br>displayName:Cordell Volson<br>Player Speed:0.0 MPH"
           ],
           "marker": {
            "color": "#000000",
            "line": {
             "color": "#FB4F14",
             "width": 2
            },
            "size": 10
           },
           "mode": "markers",
           "name": "CIN",
           "type": "scatter",
           "x": [
            72.75,
            73.47,
            72.57,
            73.57,
            68.91,
            72.9,
            72.84,
            72.7,
            68.96,
            69.39,
            73.03
           ],
           "y": [
            26.58,
            36.89,
            38.84,
            29.68,
            26.99,
            28.24,
            32.68,
            24.83,
            29.8,
            32.72,
            31.29
           ]
          },
          {
           "hoverinfo": "none",
           "marker": {
            "color": "#CBB67C",
            "line": {
             "color": "#663831",
             "width": 2
            },
            "size": 10
           },
           "mode": "markers",
           "name": "football",
           "type": "scatter",
           "x": [
            73.8099975585938
           ],
           "y": [
            29.6900005340576
           ]
          }
         ],
         "name": "56"
        },
        {
         "data": [
          {
           "hoverinfo": "none",
           "mode": "text",
           "showlegend": false,
           "text": [
            "10",
            "20",
            "30",
            "40",
            "50",
            "40",
            "30",
            "20",
            "10"
           ],
           "textfont": {
            "color": "#ffffff",
            "family": "Courier New, monospace",
            "size": 30
           },
           "type": "scatter",
           "x": [
            20,
            30,
            40,
            50,
            60,
            70,
            80,
            90,
            100
           ],
           "y": [
            5,
            5,
            5,
            5,
            5,
            5,
            5,
            5,
            5
           ]
          },
          {
           "hoverinfo": "none",
           "mode": "text",
           "showlegend": false,
           "text": [
            "10",
            "20",
            "30",
            "40",
            "50",
            "40",
            "30",
            "20",
            "10"
           ],
           "textfont": {
            "color": "#ffffff",
            "family": "Courier New, monospace",
            "size": 30
           },
           "type": "scatter",
           "x": [
            20,
            30,
            40,
            50,
            60,
            70,
            80,
            90,
            100
           ],
           "y": [
            48.5,
            48.5,
            48.5,
            48.5,
            48.5,
            48.5,
            48.5,
            48.5,
            48.5
           ]
          },
          {
           "hoverinfo": "none",
           "line": {
            "color": "blue",
            "dash": "dash"
           },
           "showlegend": false,
           "type": "scatter",
           "x": [
            74,
            74
           ],
           "y": [
            0,
            53.5
           ]
          },
          {
           "hoverinfo": "none",
           "line": {
            "color": "yellow",
            "dash": "dash"
           },
           "showlegend": false,
           "type": "scatter",
           "x": [
            80,
            80
           ],
           "y": [
            0,
            53.5
           ]
          },
          {
           "fill": "toself",
           "fillcolor": "#000000",
           "hoverinfo": "skip",
           "line": {
            "color": "white",
            "width": 3
           },
           "mode": "lines",
           "opacity": 1,
           "showlegend": false,
           "type": "scatter",
           "x": [
            0,
            0,
            10,
            10,
            0
           ],
           "y": [
            0,
            53.5,
            53.5,
            0,
            0
           ]
          },
          {
           "fill": "toself",
           "fillcolor": "#FFB612",
           "hoverinfo": "skip",
           "line": {
            "color": "white",
            "width": 3
           },
           "mode": "lines",
           "opacity": 1,
           "showlegend": false,
           "type": "scatter",
           "x": [
            110,
            110,
            120,
            120,
            110
           ],
           "y": [
            0,
            53.5,
            53.5,
            0,
            0
           ]
          },
          {
           "hoverinfo": "text",
           "hovertext": [
            "nflId:37104<br>displayName:Cameron Heyward<br>Player Speed:0.0 MPH",
            "nflId:43325<br>displayName:Myles Jack<br>Player Speed:1.655 MPH",
            "nflId:44842<br>displayName:T.J. Watt<br>Player Speed:0.0 MPH",
            "nflId:44878<br>displayName:Ahkello Witherspoon<br>Player Speed:1.812 MPH",
            "nflId:44906<br>displayName:Cameron Sutton<br>Player Speed:1.118 MPH",
            "nflId:45395<br>displayName:Arthur Maulet<br>Player Speed:0.403 MPH",
            "nflId:46080<br>displayName:Minkah Fitzpatrick<br>Player Speed:2.058 MPH",
            "nflId:46097<br>displayName:Terrell Edmunds<br>Player Speed:2.483 MPH",
            "nflId:46902<br>displayName:Robert Spillane<br>Player Speed:1.275 MPH",
            "nflId:52971<br>displayName:Jamir Jones<br>Player Speed:0.022 MPH",
            "nflId:54549<br>displayName:DeMarvin Leal<br>Player Speed:0.022 MPH"
           ],
           "marker": {
            "color": "#FFB612",
            "line": {
             "color": "#101820",
             "width": 2
            },
            "size": 10
           },
           "mode": "markers",
           "name": "PIT",
           "type": "scatter",
           "x": [
            75,
            79.37,
            74.67,
            79.18,
            79.96,
            78.08,
            85.47,
            84.24,
            78.85,
            75.07,
            74.69
           ],
           "y": [
            30.79,
            28.56,
            22.83,
            21.66,
            41.51,
            38.17,
            36.23,
            26.02,
            32.36,
            34.83,
            27.1
           ]
          },
          {
           "hoverinfo": "text",
           "hovertext": [
            "nflId:42654<br>displayName:La'el Collins<br>Player Speed:0.0 MPH",
            "nflId:43344<br>displayName:Tyler Boyd<br>Player Speed:0.045 MPH",
            "nflId:43495<br>displayName:Mike Thomas<br>Player Speed:0.022 MPH",
            "nflId:43510<br>displayName:Ted Karras<br>Player Speed:0.0 MPH",
            "nflId:44860<br>displayName:Joe Mixon<br>Player Speed:0.022 MPH",
            "nflId:46163<br>displayName:Alex Cappa<br>Player Speed:0.0 MPH",
            "nflId:47794<br>displayName:Jonah Williams<br>Player Speed:0.0 MPH",
            "nflId:47835<br>displayName:Drew Sample<br>Player Speed:0.0 MPH",
            "nflId:52409<br>displayName:Joe Burrow<br>Player Speed:0.626 MPH",
            "nflId:53434<br>displayName:Ja'Marr Chase<br>Player Speed:3.915 MPH",
            "nflId:54601<br>displayName:Cordell Volson<br>Player Speed:0.0 MPH"
           ],
           "marker": {
            "color": "#000000",
            "line": {
             "color": "#FB4F14",
             "width": 2
            },
            "size": 10
           },
           "mode": "markers",
           "name": "CIN",
           "type": "scatter",
           "x": [
            72.74,
            73.47,
            72.57,
            73.57,
            68.92,
            72.9,
            72.84,
            72.7,
            68.99,
            69.31,
            73.03
           ],
           "y": [
            26.58,
            36.89,
            38.84,
            29.68,
            26.99,
            28.24,
            32.68,
            24.83,
            29.81,
            32.56,
            31.29
           ]
          },
          {
           "hoverinfo": "none",
           "marker": {
            "color": "#CBB67C",
            "line": {
             "color": "#663831",
             "width": 2
            },
            "size": 10
           },
           "mode": "markers",
           "name": "football",
           "type": "scatter",
           "x": [
            73.8099975585938
           ],
           "y": [
            29.6900005340576
           ]
          }
         ],
         "name": "57"
        },
        {
         "data": [
          {
           "hoverinfo": "none",
           "mode": "text",
           "showlegend": false,
           "text": [
            "10",
            "20",
            "30",
            "40",
            "50",
            "40",
            "30",
            "20",
            "10"
           ],
           "textfont": {
            "color": "#ffffff",
            "family": "Courier New, monospace",
            "size": 30
           },
           "type": "scatter",
           "x": [
            20,
            30,
            40,
            50,
            60,
            70,
            80,
            90,
            100
           ],
           "y": [
            5,
            5,
            5,
            5,
            5,
            5,
            5,
            5,
            5
           ]
          },
          {
           "hoverinfo": "none",
           "mode": "text",
           "showlegend": false,
           "text": [
            "10",
            "20",
            "30",
            "40",
            "50",
            "40",
            "30",
            "20",
            "10"
           ],
           "textfont": {
            "color": "#ffffff",
            "family": "Courier New, monospace",
            "size": 30
           },
           "type": "scatter",
           "x": [
            20,
            30,
            40,
            50,
            60,
            70,
            80,
            90,
            100
           ],
           "y": [
            48.5,
            48.5,
            48.5,
            48.5,
            48.5,
            48.5,
            48.5,
            48.5,
            48.5
           ]
          },
          {
           "hoverinfo": "none",
           "line": {
            "color": "blue",
            "dash": "dash"
           },
           "showlegend": false,
           "type": "scatter",
           "x": [
            74,
            74
           ],
           "y": [
            0,
            53.5
           ]
          },
          {
           "hoverinfo": "none",
           "line": {
            "color": "yellow",
            "dash": "dash"
           },
           "showlegend": false,
           "type": "scatter",
           "x": [
            80,
            80
           ],
           "y": [
            0,
            53.5
           ]
          },
          {
           "fill": "toself",
           "fillcolor": "#000000",
           "hoverinfo": "skip",
           "line": {
            "color": "white",
            "width": 3
           },
           "mode": "lines",
           "opacity": 1,
           "showlegend": false,
           "type": "scatter",
           "x": [
            0,
            0,
            10,
            10,
            0
           ],
           "y": [
            0,
            53.5,
            53.5,
            0,
            0
           ]
          },
          {
           "fill": "toself",
           "fillcolor": "#FFB612",
           "hoverinfo": "skip",
           "line": {
            "color": "white",
            "width": 3
           },
           "mode": "lines",
           "opacity": 1,
           "showlegend": false,
           "type": "scatter",
           "x": [
            110,
            110,
            120,
            120,
            110
           ],
           "y": [
            0,
            53.5,
            53.5,
            0,
            0
           ]
          },
          {
           "hoverinfo": "text",
           "hovertext": [
            "nflId:37104<br>displayName:Cameron Heyward<br>Player Speed:0.0 MPH",
            "nflId:43325<br>displayName:Myles Jack<br>Player Speed:2.55 MPH",
            "nflId:44842<br>displayName:T.J. Watt<br>Player Speed:0.0 MPH",
            "nflId:44878<br>displayName:Ahkello Witherspoon<br>Player Speed:1.879 MPH",
            "nflId:44906<br>displayName:Cameron Sutton<br>Player Speed:1.432 MPH",
            "nflId:45395<br>displayName:Arthur Maulet<br>Player Speed:0.447 MPH",
            "nflId:46080<br>displayName:Minkah Fitzpatrick<br>Player Speed:2.796 MPH",
            "nflId:46097<br>displayName:Terrell Edmunds<br>Player Speed:2.416 MPH",
            "nflId:46902<br>displayName:Robert Spillane<br>Player Speed:1.521 MPH",
            "nflId:52971<br>displayName:Jamir Jones<br>Player Speed:0.022 MPH",
            "nflId:54549<br>displayName:DeMarvin Leal<br>Player Speed:0.022 MPH"
           ],
           "marker": {
            "color": "#FFB612",
            "line": {
             "color": "#101820",
             "width": 2
            },
            "size": 10
           },
           "mode": "markers",
           "name": "PIT",
           "type": "scatter",
           "x": [
            75,
            79.32,
            74.68,
            79.11,
            79.91,
            78.09,
            85.36,
            84.18,
            78.86,
            75.07,
            74.68
           ],
           "y": [
            30.79,
            28.48,
            22.85,
            21.6,
            41.48,
            38.18,
            36.23,
            25.92,
            32.3,
            34.83,
            27.1
           ]
          },
          {
           "hoverinfo": "text",
           "hovertext": [
            "nflId:42654<br>displayName:La'el Collins<br>Player Speed:0.0 MPH",
            "nflId:43344<br>displayName:Tyler Boyd<br>Player Speed:0.045 MPH",
            "nflId:43495<br>displayName:Mike Thomas<br>Player Speed:0.022 MPH",
            "nflId:43510<br>displayName:Ted Karras<br>Player Speed:0.0 MPH",
            "nflId:44860<br>displayName:Joe Mixon<br>Player Speed:0.0 MPH",
            "nflId:46163<br>displayName:Alex Cappa<br>Player Speed:0.0 MPH",
            "nflId:47794<br>displayName:Jonah Williams<br>Player Speed:0.0 MPH",
            "nflId:47835<br>displayName:Drew Sample<br>Player Speed:0.0 MPH",
            "nflId:52409<br>displayName:Joe Burrow<br>Player Speed:0.626 MPH",
            "nflId:53434<br>displayName:Ja'Marr Chase<br>Player Speed:3.691 MPH",
            "nflId:54601<br>displayName:Cordell Volson<br>Player Speed:0.0 MPH"
           ],
           "marker": {
            "color": "#000000",
            "line": {
             "color": "#FB4F14",
             "width": 2
            },
            "size": 10
           },
           "mode": "markers",
           "name": "CIN",
           "type": "scatter",
           "x": [
            72.74,
            73.48,
            72.57,
            73.57,
            68.91,
            72.9,
            72.84,
            72.69,
            69.03,
            69.24,
            73.03
           ],
           "y": [
            26.58,
            36.88,
            38.84,
            29.68,
            26.99,
            28.24,
            32.68,
            24.83,
            29.83,
            32.4,
            31.29
           ]
          },
          {
           "hoverinfo": "none",
           "marker": {
            "color": "#CBB67C",
            "line": {
             "color": "#663831",
             "width": 2
            },
            "size": 10
           },
           "mode": "markers",
           "name": "football",
           "type": "scatter",
           "x": [
            73.8099975585938
           ],
           "y": [
            29.6900005340576
           ]
          }
         ],
         "name": "58"
        },
        {
         "data": [
          {
           "hoverinfo": "none",
           "mode": "text",
           "showlegend": false,
           "text": [
            "10",
            "20",
            "30",
            "40",
            "50",
            "40",
            "30",
            "20",
            "10"
           ],
           "textfont": {
            "color": "#ffffff",
            "family": "Courier New, monospace",
            "size": 30
           },
           "type": "scatter",
           "x": [
            20,
            30,
            40,
            50,
            60,
            70,
            80,
            90,
            100
           ],
           "y": [
            5,
            5,
            5,
            5,
            5,
            5,
            5,
            5,
            5
           ]
          },
          {
           "hoverinfo": "none",
           "mode": "text",
           "showlegend": false,
           "text": [
            "10",
            "20",
            "30",
            "40",
            "50",
            "40",
            "30",
            "20",
            "10"
           ],
           "textfont": {
            "color": "#ffffff",
            "family": "Courier New, monospace",
            "size": 30
           },
           "type": "scatter",
           "x": [
            20,
            30,
            40,
            50,
            60,
            70,
            80,
            90,
            100
           ],
           "y": [
            48.5,
            48.5,
            48.5,
            48.5,
            48.5,
            48.5,
            48.5,
            48.5,
            48.5
           ]
          },
          {
           "hoverinfo": "none",
           "line": {
            "color": "blue",
            "dash": "dash"
           },
           "showlegend": false,
           "type": "scatter",
           "x": [
            74,
            74
           ],
           "y": [
            0,
            53.5
           ]
          },
          {
           "hoverinfo": "none",
           "line": {
            "color": "yellow",
            "dash": "dash"
           },
           "showlegend": false,
           "type": "scatter",
           "x": [
            80,
            80
           ],
           "y": [
            0,
            53.5
           ]
          },
          {
           "fill": "toself",
           "fillcolor": "#000000",
           "hoverinfo": "skip",
           "line": {
            "color": "white",
            "width": 3
           },
           "mode": "lines",
           "opacity": 1,
           "showlegend": false,
           "type": "scatter",
           "x": [
            0,
            0,
            10,
            10,
            0
           ],
           "y": [
            0,
            53.5,
            53.5,
            0,
            0
           ]
          },
          {
           "fill": "toself",
           "fillcolor": "#FFB612",
           "hoverinfo": "skip",
           "line": {
            "color": "white",
            "width": 3
           },
           "mode": "lines",
           "opacity": 1,
           "showlegend": false,
           "type": "scatter",
           "x": [
            110,
            110,
            120,
            120,
            110
           ],
           "y": [
            0,
            53.5,
            53.5,
            0,
            0
           ]
          },
          {
           "hoverinfo": "text",
           "hovertext": [
            "nflId:37104<br>displayName:Cameron Heyward<br>Player Speed:0.0 MPH",
            "nflId:43325<br>displayName:Myles Jack<br>Player Speed:3.266 MPH",
            "nflId:44842<br>displayName:T.J. Watt<br>Player Speed:0.0 MPH",
            "nflId:44878<br>displayName:Ahkello Witherspoon<br>Player Speed:1.901 MPH",
            "nflId:44906<br>displayName:Cameron Sutton<br>Player Speed:1.655 MPH",
            "nflId:45395<br>displayName:Arthur Maulet<br>Player Speed:0.447 MPH",
            "nflId:46080<br>displayName:Minkah Fitzpatrick<br>Player Speed:3.4 MPH",
            "nflId:46097<br>displayName:Terrell Edmunds<br>Player Speed:2.394 MPH",
            "nflId:46902<br>displayName:Robert Spillane<br>Player Speed:1.812 MPH",
            "nflId:52971<br>displayName:Jamir Jones<br>Player Speed:0.022 MPH",
            "nflId:54549<br>displayName:DeMarvin Leal<br>Player Speed:0.022 MPH"
           ],
           "marker": {
            "color": "#FFB612",
            "line": {
             "color": "#101820",
             "width": 2
            },
            "size": 10
           },
           "mode": "markers",
           "name": "PIT",
           "type": "scatter",
           "x": [
            74.99,
            79.27,
            74.68,
            79.04,
            79.85,
            78.11,
            85.23,
            84.12,
            78.87,
            75.06,
            74.68
           ],
           "y": [
            30.79,
            28.37,
            22.85,
            21.56,
            41.45,
            38.18,
            36.22,
            25.83,
            32.22,
            34.83,
            27.11
           ]
          },
          {
           "hoverinfo": "text",
           "hovertext": [
            "nflId:42654<br>displayName:La'el Collins<br>Player Speed:0.0 MPH",
            "nflId:43344<br>displayName:Tyler Boyd<br>Player Speed:0.045 MPH",
            "nflId:43495<br>displayName:Mike Thomas<br>Player Speed:0.022 MPH",
            "nflId:43510<br>displayName:Ted Karras<br>Player Speed:0.0 MPH",
            "nflId:44860<br>displayName:Joe Mixon<br>Player Speed:0.0 MPH",
            "nflId:46163<br>displayName:Alex Cappa<br>Player Speed:0.0 MPH",
            "nflId:47794<br>displayName:Jonah Williams<br>Player Speed:0.0 MPH",
            "nflId:47835<br>displayName:Drew Sample<br>Player Speed:0.0 MPH",
            "nflId:52409<br>displayName:Joe Burrow<br>Player Speed:0.604 MPH",
            "nflId:53434<br>displayName:Ja'Marr Chase<br>Player Speed:3.355 MPH",
            "nflId:54601<br>displayName:Cordell Volson<br>Player Speed:0.0 MPH"
           ],
           "marker": {
            "color": "#000000",
            "line": {
             "color": "#FB4F14",
             "width": 2
            },
            "size": 10
           },
           "mode": "markers",
           "name": "CIN",
           "type": "scatter",
           "x": [
            72.74,
            73.48,
            72.57,
            73.57,
            68.91,
            72.9,
            72.85,
            72.69,
            69.05,
            69.19,
            73.03
           ],
           "y": [
            26.58,
            36.88,
            38.84,
            29.67,
            26.99,
            28.23,
            32.68,
            24.83,
            29.84,
            32.25,
            31.29
           ]
          },
          {
           "hoverinfo": "none",
           "marker": {
            "color": "#CBB67C",
            "line": {
             "color": "#663831",
             "width": 2
            },
            "size": 10
           },
           "mode": "markers",
           "name": "football",
           "type": "scatter",
           "x": [
            73.8099975585938
           ],
           "y": [
            29.6900005340576
           ]
          }
         ],
         "name": "59"
        },
        {
         "data": [
          {
           "hoverinfo": "none",
           "mode": "text",
           "showlegend": false,
           "text": [
            "10",
            "20",
            "30",
            "40",
            "50",
            "40",
            "30",
            "20",
            "10"
           ],
           "textfont": {
            "color": "#ffffff",
            "family": "Courier New, monospace",
            "size": 30
           },
           "type": "scatter",
           "x": [
            20,
            30,
            40,
            50,
            60,
            70,
            80,
            90,
            100
           ],
           "y": [
            5,
            5,
            5,
            5,
            5,
            5,
            5,
            5,
            5
           ]
          },
          {
           "hoverinfo": "none",
           "mode": "text",
           "showlegend": false,
           "text": [
            "10",
            "20",
            "30",
            "40",
            "50",
            "40",
            "30",
            "20",
            "10"
           ],
           "textfont": {
            "color": "#ffffff",
            "family": "Courier New, monospace",
            "size": 30
           },
           "type": "scatter",
           "x": [
            20,
            30,
            40,
            50,
            60,
            70,
            80,
            90,
            100
           ],
           "y": [
            48.5,
            48.5,
            48.5,
            48.5,
            48.5,
            48.5,
            48.5,
            48.5,
            48.5
           ]
          },
          {
           "hoverinfo": "none",
           "line": {
            "color": "blue",
            "dash": "dash"
           },
           "showlegend": false,
           "type": "scatter",
           "x": [
            74,
            74
           ],
           "y": [
            0,
            53.5
           ]
          },
          {
           "hoverinfo": "none",
           "line": {
            "color": "yellow",
            "dash": "dash"
           },
           "showlegend": false,
           "type": "scatter",
           "x": [
            80,
            80
           ],
           "y": [
            0,
            53.5
           ]
          },
          {
           "fill": "toself",
           "fillcolor": "#000000",
           "hoverinfo": "skip",
           "line": {
            "color": "white",
            "width": 3
           },
           "mode": "lines",
           "opacity": 1,
           "showlegend": false,
           "type": "scatter",
           "x": [
            0,
            0,
            10,
            10,
            0
           ],
           "y": [
            0,
            53.5,
            53.5,
            0,
            0
           ]
          },
          {
           "fill": "toself",
           "fillcolor": "#FFB612",
           "hoverinfo": "skip",
           "line": {
            "color": "white",
            "width": 3
           },
           "mode": "lines",
           "opacity": 1,
           "showlegend": false,
           "type": "scatter",
           "x": [
            110,
            110,
            120,
            120,
            110
           ],
           "y": [
            0,
            53.5,
            53.5,
            0,
            0
           ]
          },
          {
           "hoverinfo": "text",
           "hovertext": [
            "nflId:37104<br>displayName:Cameron Heyward<br>Player Speed:0.0 MPH",
            "nflId:43325<br>displayName:Myles Jack<br>Player Speed:3.736 MPH",
            "nflId:44842<br>displayName:T.J. Watt<br>Player Speed:0.0 MPH",
            "nflId:44878<br>displayName:Ahkello Witherspoon<br>Player Speed:1.924 MPH",
            "nflId:44906<br>displayName:Cameron Sutton<br>Player Speed:1.812 MPH",
            "nflId:45395<br>displayName:Arthur Maulet<br>Player Speed:0.403 MPH",
            "nflId:46080<br>displayName:Minkah Fitzpatrick<br>Player Speed:3.78 MPH",
            "nflId:46097<br>displayName:Terrell Edmunds<br>Player Speed:2.438 MPH",
            "nflId:46902<br>displayName:Robert Spillane<br>Player Speed:2.058 MPH",
            "nflId:52971<br>displayName:Jamir Jones<br>Player Speed:0.022 MPH",
            "nflId:54549<br>displayName:DeMarvin Leal<br>Player Speed:0.022 MPH"
           ],
           "marker": {
            "color": "#FFB612",
            "line": {
             "color": "#101820",
             "width": 2
            },
            "size": 10
           },
           "mode": "markers",
           "name": "PIT",
           "type": "scatter",
           "x": [
            74.99,
            79.2,
            74.68,
            78.97,
            79.78,
            78.12,
            85.07,
            84.07,
            78.88,
            75.06,
            74.68
           ],
           "y": [
            30.8,
            28.23,
            22.85,
            21.52,
            41.43,
            38.19,
            36.21,
            25.73,
            32.13,
            34.84,
            27.12
           ]
          },
          {
           "hoverinfo": "text",
           "hovertext": [
            "nflId:42654<br>displayName:La'el Collins<br>Player Speed:0.0 MPH",
            "nflId:43344<br>displayName:Tyler Boyd<br>Player Speed:0.089 MPH",
            "nflId:43495<br>displayName:Mike Thomas<br>Player Speed:0.022 MPH",
            "nflId:43510<br>displayName:Ted Karras<br>Player Speed:0.0 MPH",
            "nflId:44860<br>displayName:Joe Mixon<br>Player Speed:0.0 MPH",
            "nflId:46163<br>displayName:Alex Cappa<br>Player Speed:0.0 MPH",
            "nflId:47794<br>displayName:Jonah Williams<br>Player Speed:0.0 MPH",
            "nflId:47835<br>displayName:Drew Sample<br>Player Speed:0.0 MPH",
            "nflId:52409<br>displayName:Joe Burrow<br>Player Speed:0.559 MPH",
            "nflId:53434<br>displayName:Ja'Marr Chase<br>Player Speed:2.975 MPH",
            "nflId:54601<br>displayName:Cordell Volson<br>Player Speed:0.0 MPH"
           ],
           "marker": {
            "color": "#000000",
            "line": {
             "color": "#FB4F14",
             "width": 2
            },
            "size": 10
           },
           "mode": "markers",
           "name": "CIN",
           "type": "scatter",
           "x": [
            72.75,
            73.49,
            72.57,
            73.57,
            68.92,
            72.9,
            72.86,
            72.69,
            69.08,
            69.15,
            73.03
           ],
           "y": [
            26.58,
            36.87,
            38.85,
            29.67,
            26.99,
            28.23,
            32.68,
            24.83,
            29.84,
            32.11,
            31.29
           ]
          },
          {
           "hoverinfo": "none",
           "marker": {
            "color": "#CBB67C",
            "line": {
             "color": "#663831",
             "width": 2
            },
            "size": 10
           },
           "mode": "markers",
           "name": "football",
           "type": "scatter",
           "x": [
            73.8099975585938
           ],
           "y": [
            29.6900005340576
           ]
          }
         ],
         "name": "60"
        },
        {
         "data": [
          {
           "hoverinfo": "none",
           "mode": "text",
           "showlegend": false,
           "text": [
            "10",
            "20",
            "30",
            "40",
            "50",
            "40",
            "30",
            "20",
            "10"
           ],
           "textfont": {
            "color": "#ffffff",
            "family": "Courier New, monospace",
            "size": 30
           },
           "type": "scatter",
           "x": [
            20,
            30,
            40,
            50,
            60,
            70,
            80,
            90,
            100
           ],
           "y": [
            5,
            5,
            5,
            5,
            5,
            5,
            5,
            5,
            5
           ]
          },
          {
           "hoverinfo": "none",
           "mode": "text",
           "showlegend": false,
           "text": [
            "10",
            "20",
            "30",
            "40",
            "50",
            "40",
            "30",
            "20",
            "10"
           ],
           "textfont": {
            "color": "#ffffff",
            "family": "Courier New, monospace",
            "size": 30
           },
           "type": "scatter",
           "x": [
            20,
            30,
            40,
            50,
            60,
            70,
            80,
            90,
            100
           ],
           "y": [
            48.5,
            48.5,
            48.5,
            48.5,
            48.5,
            48.5,
            48.5,
            48.5,
            48.5
           ]
          },
          {
           "hoverinfo": "none",
           "line": {
            "color": "blue",
            "dash": "dash"
           },
           "showlegend": false,
           "type": "scatter",
           "x": [
            74,
            74
           ],
           "y": [
            0,
            53.5
           ]
          },
          {
           "hoverinfo": "none",
           "line": {
            "color": "yellow",
            "dash": "dash"
           },
           "showlegend": false,
           "type": "scatter",
           "x": [
            80,
            80
           ],
           "y": [
            0,
            53.5
           ]
          },
          {
           "fill": "toself",
           "fillcolor": "#000000",
           "hoverinfo": "skip",
           "line": {
            "color": "white",
            "width": 3
           },
           "mode": "lines",
           "opacity": 1,
           "showlegend": false,
           "type": "scatter",
           "x": [
            0,
            0,
            10,
            10,
            0
           ],
           "y": [
            0,
            53.5,
            53.5,
            0,
            0
           ]
          },
          {
           "fill": "toself",
           "fillcolor": "#FFB612",
           "hoverinfo": "skip",
           "line": {
            "color": "white",
            "width": 3
           },
           "mode": "lines",
           "opacity": 1,
           "showlegend": false,
           "type": "scatter",
           "x": [
            110,
            110,
            120,
            120,
            110
           ],
           "y": [
            0,
            53.5,
            53.5,
            0,
            0
           ]
          },
          {
           "hoverinfo": "text",
           "hovertext": [
            "nflId:37104<br>displayName:Cameron Heyward<br>Player Speed:0.0 MPH",
            "nflId:43325<br>displayName:Myles Jack<br>Player Speed:4.183 MPH",
            "nflId:44842<br>displayName:T.J. Watt<br>Player Speed:0.0 MPH",
            "nflId:44878<br>displayName:Ahkello Witherspoon<br>Player Speed:1.946 MPH",
            "nflId:44906<br>displayName:Cameron Sutton<br>Player Speed:1.857 MPH",
            "nflId:45395<br>displayName:Arthur Maulet<br>Player Speed:0.38 MPH",
            "nflId:46080<br>displayName:Minkah Fitzpatrick<br>Player Speed:4.026 MPH",
            "nflId:46097<br>displayName:Terrell Edmunds<br>Player Speed:2.416 MPH",
            "nflId:46902<br>displayName:Robert Spillane<br>Player Speed:2.304 MPH",
            "nflId:52971<br>displayName:Jamir Jones<br>Player Speed:0.022 MPH",
            "nflId:54549<br>displayName:DeMarvin Leal<br>Player Speed:0.0 MPH"
           ],
           "marker": {
            "color": "#FFB612",
            "line": {
             "color": "#101820",
             "width": 2
            },
            "size": 10
           },
           "mode": "markers",
           "name": "PIT",
           "type": "scatter",
           "x": [
            74.99,
            79.12,
            74.68,
            78.89,
            79.71,
            78.13,
            84.9,
            84.03,
            78.88,
            75.05,
            74.68
           ],
           "y": [
            30.79,
            28.07,
            22.85,
            21.49,
            41.4,
            38.21,
            36.2,
            25.63,
            32.03,
            34.84,
            27.13
           ]
          },
          {
           "hoverinfo": "text",
           "hovertext": [
            "nflId:42654<br>displayName:La'el Collins<br>Player Speed:0.0 MPH",
            "nflId:43344<br>displayName:Tyler Boyd<br>Player Speed:0.112 MPH",
            "nflId:43495<br>displayName:Mike Thomas<br>Player Speed:0.022 MPH",
            "nflId:43510<br>displayName:Ted Karras<br>Player Speed:0.0 MPH",
            "nflId:44860<br>displayName:Joe Mixon<br>Player Speed:0.0 MPH",
            "nflId:46163<br>displayName:Alex Cappa<br>Player Speed:0.0 MPH",
            "nflId:47794<br>displayName:Jonah Williams<br>Player Speed:0.0 MPH",
            "nflId:47835<br>displayName:Drew Sample<br>Player Speed:0.0 MPH",
            "nflId:52409<br>displayName:Joe Burrow<br>Player Speed:0.514 MPH",
            "nflId:53434<br>displayName:Ja'Marr Chase<br>Player Speed:2.505 MPH",
            "nflId:54601<br>displayName:Cordell Volson<br>Player Speed:0.0 MPH"
           ],
           "marker": {
            "color": "#000000",
            "line": {
             "color": "#FB4F14",
             "width": 2
            },
            "size": 10
           },
           "mode": "markers",
           "name": "CIN",
           "type": "scatter",
           "x": [
            72.75,
            73.5,
            72.57,
            73.57,
            68.92,
            72.9,
            72.87,
            72.69,
            69.1,
            69.13,
            73.03
           ],
           "y": [
            26.57,
            36.86,
            38.85,
            29.67,
            26.98,
            28.23,
            32.68,
            24.84,
            29.83,
            32,
            31.29
           ]
          },
          {
           "hoverinfo": "none",
           "marker": {
            "color": "#CBB67C",
            "line": {
             "color": "#663831",
             "width": 2
            },
            "size": 10
           },
           "mode": "markers",
           "name": "football",
           "type": "scatter",
           "x": [
            73.8099975585938
           ],
           "y": [
            29.6900005340576
           ]
          }
         ],
         "name": "61"
        },
        {
         "data": [
          {
           "hoverinfo": "none",
           "mode": "text",
           "showlegend": false,
           "text": [
            "10",
            "20",
            "30",
            "40",
            "50",
            "40",
            "30",
            "20",
            "10"
           ],
           "textfont": {
            "color": "#ffffff",
            "family": "Courier New, monospace",
            "size": 30
           },
           "type": "scatter",
           "x": [
            20,
            30,
            40,
            50,
            60,
            70,
            80,
            90,
            100
           ],
           "y": [
            5,
            5,
            5,
            5,
            5,
            5,
            5,
            5,
            5
           ]
          },
          {
           "hoverinfo": "none",
           "mode": "text",
           "showlegend": false,
           "text": [
            "10",
            "20",
            "30",
            "40",
            "50",
            "40",
            "30",
            "20",
            "10"
           ],
           "textfont": {
            "color": "#ffffff",
            "family": "Courier New, monospace",
            "size": 30
           },
           "type": "scatter",
           "x": [
            20,
            30,
            40,
            50,
            60,
            70,
            80,
            90,
            100
           ],
           "y": [
            48.5,
            48.5,
            48.5,
            48.5,
            48.5,
            48.5,
            48.5,
            48.5,
            48.5
           ]
          },
          {
           "hoverinfo": "none",
           "line": {
            "color": "blue",
            "dash": "dash"
           },
           "showlegend": false,
           "type": "scatter",
           "x": [
            74,
            74
           ],
           "y": [
            0,
            53.5
           ]
          },
          {
           "hoverinfo": "none",
           "line": {
            "color": "yellow",
            "dash": "dash"
           },
           "showlegend": false,
           "type": "scatter",
           "x": [
            80,
            80
           ],
           "y": [
            0,
            53.5
           ]
          },
          {
           "fill": "toself",
           "fillcolor": "#000000",
           "hoverinfo": "skip",
           "line": {
            "color": "white",
            "width": 3
           },
           "mode": "lines",
           "opacity": 1,
           "showlegend": false,
           "type": "scatter",
           "x": [
            0,
            0,
            10,
            10,
            0
           ],
           "y": [
            0,
            53.5,
            53.5,
            0,
            0
           ]
          },
          {
           "fill": "toself",
           "fillcolor": "#FFB612",
           "hoverinfo": "skip",
           "line": {
            "color": "white",
            "width": 3
           },
           "mode": "lines",
           "opacity": 1,
           "showlegend": false,
           "type": "scatter",
           "x": [
            110,
            110,
            120,
            120,
            110
           ],
           "y": [
            0,
            53.5,
            53.5,
            0,
            0
           ]
          },
          {
           "hoverinfo": "text",
           "hovertext": [
            "nflId:37104<br>displayName:Cameron Heyward<br>Player Speed:0.0 MPH",
            "nflId:43325<br>displayName:Myles Jack<br>Player Speed:4.094 MPH",
            "nflId:44842<br>displayName:T.J. Watt<br>Player Speed:0.0 MPH",
            "nflId:44878<br>displayName:Ahkello Witherspoon<br>Player Speed:2.013 MPH",
            "nflId:44906<br>displayName:Cameron Sutton<br>Player Speed:1.879 MPH",
            "nflId:45395<br>displayName:Arthur Maulet<br>Player Speed:0.358 MPH",
            "nflId:46080<br>displayName:Minkah Fitzpatrick<br>Player Speed:4.183 MPH",
            "nflId:46097<br>displayName:Terrell Edmunds<br>Player Speed:2.371 MPH",
            "nflId:46902<br>displayName:Robert Spillane<br>Player Speed:2.505 MPH",
            "nflId:52971<br>displayName:Jamir Jones<br>Player Speed:0.0 MPH",
            "nflId:54549<br>displayName:DeMarvin Leal<br>Player Speed:0.0 MPH"
           ],
           "marker": {
            "color": "#FFB612",
            "line": {
             "color": "#101820",
             "width": 2
            },
            "size": 10
           },
           "mode": "markers",
           "name": "PIT",
           "type": "scatter",
           "x": [
            74.99,
            79.05,
            74.67,
            78.8,
            79.63,
            78.13,
            84.72,
            84.01,
            78.89,
            75.05,
            74.67
           ],
           "y": [
            30.8,
            27.92,
            22.86,
            21.46,
            41.38,
            38.22,
            36.18,
            25.53,
            31.93,
            34.84,
            27.13
           ]
          },
          {
           "hoverinfo": "text",
           "hovertext": [
            "nflId:42654<br>displayName:La'el Collins<br>Player Speed:0.0 MPH",
            "nflId:43344<br>displayName:Tyler Boyd<br>Player Speed:0.112 MPH",
            "nflId:43495<br>displayName:Mike Thomas<br>Player Speed:0.022 MPH",
            "nflId:43510<br>displayName:Ted Karras<br>Player Speed:0.0 MPH",
            "nflId:44860<br>displayName:Joe Mixon<br>Player Speed:0.0 MPH",
            "nflId:46163<br>displayName:Alex Cappa<br>Player Speed:0.0 MPH",
            "nflId:47794<br>displayName:Jonah Williams<br>Player Speed:0.0 MPH",
            "nflId:47835<br>displayName:Drew Sample<br>Player Speed:0.0 MPH",
            "nflId:52409<br>displayName:Joe Burrow<br>Player Speed:0.47 MPH",
            "nflId:53434<br>displayName:Ja'Marr Chase<br>Player Speed:2.08 MPH",
            "nflId:54601<br>displayName:Cordell Volson<br>Player Speed:0.0 MPH"
           ],
           "marker": {
            "color": "#000000",
            "line": {
             "color": "#FB4F14",
             "width": 2
            },
            "size": 10
           },
           "mode": "markers",
           "name": "CIN",
           "type": "scatter",
           "x": [
            72.75,
            73.52,
            72.57,
            73.57,
            68.92,
            72.9,
            72.86,
            72.69,
            69.12,
            69.11,
            73.03
           ],
           "y": [
            26.57,
            36.86,
            38.85,
            29.67,
            26.98,
            28.23,
            32.68,
            24.84,
            29.82,
            31.9,
            31.29
           ]
          },
          {
           "hoverinfo": "none",
           "marker": {
            "color": "#CBB67C",
            "line": {
             "color": "#663831",
             "width": 2
            },
            "size": 10
           },
           "mode": "markers",
           "name": "football",
           "type": "scatter",
           "x": [
            73.8099975585938
           ],
           "y": [
            29.6900005340576
           ]
          }
         ],
         "name": "62"
        },
        {
         "data": [
          {
           "hoverinfo": "none",
           "mode": "text",
           "showlegend": false,
           "text": [
            "10",
            "20",
            "30",
            "40",
            "50",
            "40",
            "30",
            "20",
            "10"
           ],
           "textfont": {
            "color": "#ffffff",
            "family": "Courier New, monospace",
            "size": 30
           },
           "type": "scatter",
           "x": [
            20,
            30,
            40,
            50,
            60,
            70,
            80,
            90,
            100
           ],
           "y": [
            5,
            5,
            5,
            5,
            5,
            5,
            5,
            5,
            5
           ]
          },
          {
           "hoverinfo": "none",
           "mode": "text",
           "showlegend": false,
           "text": [
            "10",
            "20",
            "30",
            "40",
            "50",
            "40",
            "30",
            "20",
            "10"
           ],
           "textfont": {
            "color": "#ffffff",
            "family": "Courier New, monospace",
            "size": 30
           },
           "type": "scatter",
           "x": [
            20,
            30,
            40,
            50,
            60,
            70,
            80,
            90,
            100
           ],
           "y": [
            48.5,
            48.5,
            48.5,
            48.5,
            48.5,
            48.5,
            48.5,
            48.5,
            48.5
           ]
          },
          {
           "hoverinfo": "none",
           "line": {
            "color": "blue",
            "dash": "dash"
           },
           "showlegend": false,
           "type": "scatter",
           "x": [
            74,
            74
           ],
           "y": [
            0,
            53.5
           ]
          },
          {
           "hoverinfo": "none",
           "line": {
            "color": "yellow",
            "dash": "dash"
           },
           "showlegend": false,
           "type": "scatter",
           "x": [
            80,
            80
           ],
           "y": [
            0,
            53.5
           ]
          },
          {
           "fill": "toself",
           "fillcolor": "#000000",
           "hoverinfo": "skip",
           "line": {
            "color": "white",
            "width": 3
           },
           "mode": "lines",
           "opacity": 1,
           "showlegend": false,
           "type": "scatter",
           "x": [
            0,
            0,
            10,
            10,
            0
           ],
           "y": [
            0,
            53.5,
            53.5,
            0,
            0
           ]
          },
          {
           "fill": "toself",
           "fillcolor": "#FFB612",
           "hoverinfo": "skip",
           "line": {
            "color": "white",
            "width": 3
           },
           "mode": "lines",
           "opacity": 1,
           "showlegend": false,
           "type": "scatter",
           "x": [
            110,
            110,
            120,
            120,
            110
           ],
           "y": [
            0,
            53.5,
            53.5,
            0,
            0
           ]
          },
          {
           "hoverinfo": "text",
           "hovertext": [
            "nflId:37104<br>displayName:Cameron Heyward<br>Player Speed:0.0 MPH",
            "nflId:43325<br>displayName:Myles Jack<br>Player Speed:3.892 MPH",
            "nflId:44842<br>displayName:T.J. Watt<br>Player Speed:0.0 MPH",
            "nflId:44878<br>displayName:Ahkello Witherspoon<br>Player Speed:1.991 MPH",
            "nflId:44906<br>displayName:Cameron Sutton<br>Player Speed:1.79 MPH",
            "nflId:45395<br>displayName:Arthur Maulet<br>Player Speed:0.47 MPH",
            "nflId:46080<br>displayName:Minkah Fitzpatrick<br>Player Speed:4.094 MPH",
            "nflId:46097<br>displayName:Terrell Edmunds<br>Player Speed:2.304 MPH",
            "nflId:46902<br>displayName:Robert Spillane<br>Player Speed:2.461 MPH",
            "nflId:52971<br>displayName:Jamir Jones<br>Player Speed:0.0 MPH",
            "nflId:54549<br>displayName:DeMarvin Leal<br>Player Speed:0.0 MPH"
           ],
           "marker": {
            "color": "#FFB612",
            "line": {
             "color": "#101820",
             "width": 2
            },
            "size": 10
           },
           "mode": "markers",
           "name": "PIT",
           "type": "scatter",
           "x": [
            74.99,
            78.98,
            74.67,
            78.71,
            79.55,
            78.11,
            84.54,
            83.99,
            78.9,
            75.04,
            74.67
           ],
           "y": [
            30.8,
            27.76,
            22.86,
            21.44,
            41.36,
            38.23,
            36.16,
            25.42,
            31.82,
            34.85,
            27.14
           ]
          },
          {
           "hoverinfo": "text",
           "hovertext": [
            "nflId:42654<br>displayName:La'el Collins<br>Player Speed:0.0 MPH",
            "nflId:43344<br>displayName:Tyler Boyd<br>Player Speed:0.089 MPH",
            "nflId:43495<br>displayName:Mike Thomas<br>Player Speed:0.022 MPH",
            "nflId:43510<br>displayName:Ted Karras<br>Player Speed:0.0 MPH",
            "nflId:44860<br>displayName:Joe Mixon<br>Player Speed:0.0 MPH",
            "nflId:46163<br>displayName:Alex Cappa<br>Player Speed:0.0 MPH",
            "nflId:47794<br>displayName:Jonah Williams<br>Player Speed:0.0 MPH",
            "nflId:47835<br>displayName:Drew Sample<br>Player Speed:0.0 MPH",
            "nflId:52409<br>displayName:Joe Burrow<br>Player Speed:0.403 MPH",
            "nflId:53434<br>displayName:Ja'Marr Chase<br>Player Speed:1.633 MPH",
            "nflId:54601<br>displayName:Cordell Volson<br>Player Speed:0.0 MPH"
           ],
           "marker": {
            "color": "#000000",
            "line": {
             "color": "#FB4F14",
             "width": 2
            },
            "size": 10
           },
           "mode": "markers",
           "name": "CIN",
           "type": "scatter",
           "x": [
            72.75,
            73.51,
            72.57,
            73.57,
            68.92,
            72.9,
            72.87,
            72.69,
            69.14,
            69.1,
            73.03
           ],
           "y": [
            26.57,
            36.88,
            38.85,
            29.67,
            26.99,
            28.23,
            32.68,
            24.84,
            29.81,
            31.82,
            31.29
           ]
          },
          {
           "hoverinfo": "none",
           "marker": {
            "color": "#CBB67C",
            "line": {
             "color": "#663831",
             "width": 2
            },
            "size": 10
           },
           "mode": "markers",
           "name": "football",
           "type": "scatter",
           "x": [
            73.8099975585938
           ],
           "y": [
            29.6900005340576
           ]
          }
         ],
         "name": "63"
        },
        {
         "data": [
          {
           "hoverinfo": "none",
           "mode": "text",
           "showlegend": false,
           "text": [
            "10",
            "20",
            "30",
            "40",
            "50",
            "40",
            "30",
            "20",
            "10"
           ],
           "textfont": {
            "color": "#ffffff",
            "family": "Courier New, monospace",
            "size": 30
           },
           "type": "scatter",
           "x": [
            20,
            30,
            40,
            50,
            60,
            70,
            80,
            90,
            100
           ],
           "y": [
            5,
            5,
            5,
            5,
            5,
            5,
            5,
            5,
            5
           ]
          },
          {
           "hoverinfo": "none",
           "mode": "text",
           "showlegend": false,
           "text": [
            "10",
            "20",
            "30",
            "40",
            "50",
            "40",
            "30",
            "20",
            "10"
           ],
           "textfont": {
            "color": "#ffffff",
            "family": "Courier New, monospace",
            "size": 30
           },
           "type": "scatter",
           "x": [
            20,
            30,
            40,
            50,
            60,
            70,
            80,
            90,
            100
           ],
           "y": [
            48.5,
            48.5,
            48.5,
            48.5,
            48.5,
            48.5,
            48.5,
            48.5,
            48.5
           ]
          },
          {
           "hoverinfo": "none",
           "line": {
            "color": "blue",
            "dash": "dash"
           },
           "showlegend": false,
           "type": "scatter",
           "x": [
            74,
            74
           ],
           "y": [
            0,
            53.5
           ]
          },
          {
           "hoverinfo": "none",
           "line": {
            "color": "yellow",
            "dash": "dash"
           },
           "showlegend": false,
           "type": "scatter",
           "x": [
            80,
            80
           ],
           "y": [
            0,
            53.5
           ]
          },
          {
           "fill": "toself",
           "fillcolor": "#000000",
           "hoverinfo": "skip",
           "line": {
            "color": "white",
            "width": 3
           },
           "mode": "lines",
           "opacity": 1,
           "showlegend": false,
           "type": "scatter",
           "x": [
            0,
            0,
            10,
            10,
            0
           ],
           "y": [
            0,
            53.5,
            53.5,
            0,
            0
           ]
          },
          {
           "fill": "toself",
           "fillcolor": "#FFB612",
           "hoverinfo": "skip",
           "line": {
            "color": "white",
            "width": 3
           },
           "mode": "lines",
           "opacity": 1,
           "showlegend": false,
           "type": "scatter",
           "x": [
            110,
            110,
            120,
            120,
            110
           ],
           "y": [
            0,
            53.5,
            53.5,
            0,
            0
           ]
          },
          {
           "hoverinfo": "text",
           "hovertext": [
            "nflId:37104<br>displayName:Cameron Heyward<br>Player Speed:0.0 MPH",
            "nflId:43325<br>displayName:Myles Jack<br>Player Speed:3.445 MPH",
            "nflId:44842<br>displayName:T.J. Watt<br>Player Speed:0.0 MPH",
            "nflId:44878<br>displayName:Ahkello Witherspoon<br>Player Speed:1.969 MPH",
            "nflId:44906<br>displayName:Cameron Sutton<br>Player Speed:1.588 MPH",
            "nflId:45395<br>displayName:Arthur Maulet<br>Player Speed:0.649 MPH",
            "nflId:46080<br>displayName:Minkah Fitzpatrick<br>Player Speed:3.915 MPH",
            "nflId:46097<br>displayName:Terrell Edmunds<br>Player Speed:2.237 MPH",
            "nflId:46902<br>displayName:Robert Spillane<br>Player Speed:2.371 MPH",
            "nflId:52971<br>displayName:Jamir Jones<br>Player Speed:0.0 MPH",
            "nflId:54549<br>displayName:DeMarvin Leal<br>Player Speed:0.0 MPH"
           ],
           "marker": {
            "color": "#FFB612",
            "line": {
             "color": "#101820",
             "width": 2
            },
            "size": 10
           },
           "mode": "markers",
           "name": "PIT",
           "type": "scatter",
           "x": [
            74.99,
            78.92,
            74.67,
            78.63,
            79.49,
            78.08,
            84.37,
            83.98,
            78.9,
            75.04,
            74.67
           ],
           "y": [
            30.8,
            27.63,
            22.86,
            21.42,
            41.35,
            38.24,
            36.13,
            25.32,
            31.72,
            34.85,
            27.14
           ]
          },
          {
           "hoverinfo": "text",
           "hovertext": [
            "nflId:42654<br>displayName:La'el Collins<br>Player Speed:0.0 MPH",
            "nflId:43344<br>displayName:Tyler Boyd<br>Player Speed:0.089 MPH",
            "nflId:43495<br>displayName:Mike Thomas<br>Player Speed:0.0 MPH",
            "nflId:43510<br>displayName:Ted Karras<br>Player Speed:0.0 MPH",
            "nflId:44860<br>displayName:Joe Mixon<br>Player Speed:0.0 MPH",
            "nflId:46163<br>displayName:Alex Cappa<br>Player Speed:0.0 MPH",
            "nflId:47794<br>displayName:Jonah Williams<br>Player Speed:0.0 MPH",
            "nflId:47835<br>displayName:Drew Sample<br>Player Speed:0.0 MPH",
            "nflId:52409<br>displayName:Joe Burrow<br>Player Speed:0.358 MPH",
            "nflId:53434<br>displayName:Ja'Marr Chase<br>Player Speed:1.118 MPH",
            "nflId:54601<br>displayName:Cordell Volson<br>Player Speed:0.0 MPH"
           ],
           "marker": {
            "color": "#000000",
            "line": {
             "color": "#FB4F14",
             "width": 2
            },
            "size": 10
           },
           "mode": "markers",
           "name": "CIN",
           "type": "scatter",
           "x": [
            72.75,
            73.52,
            72.57,
            73.57,
            68.93,
            72.9,
            72.87,
            72.69,
            69.15,
            69.09,
            73.03
           ],
           "y": [
            26.57,
            36.88,
            38.85,
            29.67,
            26.99,
            28.23,
            32.67,
            24.84,
            29.8,
            31.76,
            31.29
           ]
          },
          {
           "hoverinfo": "none",
           "marker": {
            "color": "#CBB67C",
            "line": {
             "color": "#663831",
             "width": 2
            },
            "size": 10
           },
           "mode": "markers",
           "name": "football",
           "type": "scatter",
           "x": [
            73.8099975585938
           ],
           "y": [
            29.6900005340576
           ]
          }
         ],
         "name": "64"
        },
        {
         "data": [
          {
           "hoverinfo": "none",
           "mode": "text",
           "showlegend": false,
           "text": [
            "10",
            "20",
            "30",
            "40",
            "50",
            "40",
            "30",
            "20",
            "10"
           ],
           "textfont": {
            "color": "#ffffff",
            "family": "Courier New, monospace",
            "size": 30
           },
           "type": "scatter",
           "x": [
            20,
            30,
            40,
            50,
            60,
            70,
            80,
            90,
            100
           ],
           "y": [
            5,
            5,
            5,
            5,
            5,
            5,
            5,
            5,
            5
           ]
          },
          {
           "hoverinfo": "none",
           "mode": "text",
           "showlegend": false,
           "text": [
            "10",
            "20",
            "30",
            "40",
            "50",
            "40",
            "30",
            "20",
            "10"
           ],
           "textfont": {
            "color": "#ffffff",
            "family": "Courier New, monospace",
            "size": 30
           },
           "type": "scatter",
           "x": [
            20,
            30,
            40,
            50,
            60,
            70,
            80,
            90,
            100
           ],
           "y": [
            48.5,
            48.5,
            48.5,
            48.5,
            48.5,
            48.5,
            48.5,
            48.5,
            48.5
           ]
          },
          {
           "hoverinfo": "none",
           "line": {
            "color": "blue",
            "dash": "dash"
           },
           "showlegend": false,
           "type": "scatter",
           "x": [
            74,
            74
           ],
           "y": [
            0,
            53.5
           ]
          },
          {
           "hoverinfo": "none",
           "line": {
            "color": "yellow",
            "dash": "dash"
           },
           "showlegend": false,
           "type": "scatter",
           "x": [
            80,
            80
           ],
           "y": [
            0,
            53.5
           ]
          },
          {
           "fill": "toself",
           "fillcolor": "#000000",
           "hoverinfo": "skip",
           "line": {
            "color": "white",
            "width": 3
           },
           "mode": "lines",
           "opacity": 1,
           "showlegend": false,
           "type": "scatter",
           "x": [
            0,
            0,
            10,
            10,
            0
           ],
           "y": [
            0,
            53.5,
            53.5,
            0,
            0
           ]
          },
          {
           "fill": "toself",
           "fillcolor": "#FFB612",
           "hoverinfo": "skip",
           "line": {
            "color": "white",
            "width": 3
           },
           "mode": "lines",
           "opacity": 1,
           "showlegend": false,
           "type": "scatter",
           "x": [
            110,
            110,
            120,
            120,
            110
           ],
           "y": [
            0,
            53.5,
            53.5,
            0,
            0
           ]
          },
          {
           "hoverinfo": "text",
           "hovertext": [
            "nflId:37104<br>displayName:Cameron Heyward<br>Player Speed:0.0 MPH",
            "nflId:43325<br>displayName:Myles Jack<br>Player Speed:2.997 MPH",
            "nflId:44842<br>displayName:T.J. Watt<br>Player Speed:0.0 MPH",
            "nflId:44878<br>displayName:Ahkello Witherspoon<br>Player Speed:1.991 MPH",
            "nflId:44906<br>displayName:Cameron Sutton<br>Player Speed:1.432 MPH",
            "nflId:45395<br>displayName:Arthur Maulet<br>Player Speed:0.94 MPH",
            "nflId:46080<br>displayName:Minkah Fitzpatrick<br>Player Speed:3.713 MPH",
            "nflId:46097<br>displayName:Terrell Edmunds<br>Player Speed:2.17 MPH",
            "nflId:46902<br>displayName:Robert Spillane<br>Player Speed:2.08 MPH",
            "nflId:52971<br>displayName:Jamir Jones<br>Player Speed:0.0 MPH",
            "nflId:54549<br>displayName:DeMarvin Leal<br>Player Speed:0.0 MPH"
           ],
           "marker": {
            "color": "#FFB612",
            "line": {
             "color": "#101820",
             "width": 2
            },
            "size": 10
           },
           "mode": "markers",
           "name": "PIT",
           "type": "scatter",
           "x": [
            74.99,
            78.87,
            74.66,
            78.54,
            79.42,
            78.03,
            84.21,
            83.98,
            78.9,
            75.03,
            74.67
           ],
           "y": [
            30.8,
            27.5,
            22.87,
            21.39,
            41.34,
            38.24,
            36.1,
            25.23,
            31.62,
            34.86,
            27.13
           ]
          },
          {
           "hoverinfo": "text",
           "hovertext": [
            "nflId:42654<br>displayName:La'el Collins<br>Player Speed:0.0 MPH",
            "nflId:43344<br>displayName:Tyler Boyd<br>Player Speed:0.067 MPH",
            "nflId:43495<br>displayName:Mike Thomas<br>Player Speed:0.0 MPH",
            "nflId:43510<br>displayName:Ted Karras<br>Player Speed:0.0 MPH",
            "nflId:44860<br>displayName:Joe Mixon<br>Player Speed:0.0 MPH",
            "nflId:46163<br>displayName:Alex Cappa<br>Player Speed:0.0 MPH",
            "nflId:47794<br>displayName:Jonah Williams<br>Player Speed:0.0 MPH",
            "nflId:47835<br>displayName:Drew Sample<br>Player Speed:0.0 MPH",
            "nflId:52409<br>displayName:Joe Burrow<br>Player Speed:0.313 MPH",
            "nflId:53434<br>displayName:Ja'Marr Chase<br>Player Speed:0.559 MPH",
            "nflId:54601<br>displayName:Cordell Volson<br>Player Speed:0.0 MPH"
           ],
           "marker": {
            "color": "#000000",
            "line": {
             "color": "#FB4F14",
             "width": 2
            },
            "size": 10
           },
           "mode": "markers",
           "name": "CIN",
           "type": "scatter",
           "x": [
            72.75,
            73.52,
            72.57,
            73.57,
            68.93,
            72.91,
            72.87,
            72.69,
            69.16,
            69.09,
            73.03
           ],
           "y": [
            26.57,
            36.86,
            38.85,
            29.67,
            26.99,
            28.23,
            32.67,
            24.84,
            29.8,
            31.73,
            31.29
           ]
          },
          {
           "hoverinfo": "none",
           "marker": {
            "color": "#CBB67C",
            "line": {
             "color": "#663831",
             "width": 2
            },
            "size": 10
           },
           "mode": "markers",
           "name": "football",
           "type": "scatter",
           "x": [
            73.8099975585938
           ],
           "y": [
            29.6900005340576
           ]
          }
         ],
         "name": "65"
        },
        {
         "data": [
          {
           "hoverinfo": "none",
           "mode": "text",
           "showlegend": false,
           "text": [
            "10",
            "20",
            "30",
            "40",
            "50",
            "40",
            "30",
            "20",
            "10"
           ],
           "textfont": {
            "color": "#ffffff",
            "family": "Courier New, monospace",
            "size": 30
           },
           "type": "scatter",
           "x": [
            20,
            30,
            40,
            50,
            60,
            70,
            80,
            90,
            100
           ],
           "y": [
            5,
            5,
            5,
            5,
            5,
            5,
            5,
            5,
            5
           ]
          },
          {
           "hoverinfo": "none",
           "mode": "text",
           "showlegend": false,
           "text": [
            "10",
            "20",
            "30",
            "40",
            "50",
            "40",
            "30",
            "20",
            "10"
           ],
           "textfont": {
            "color": "#ffffff",
            "family": "Courier New, monospace",
            "size": 30
           },
           "type": "scatter",
           "x": [
            20,
            30,
            40,
            50,
            60,
            70,
            80,
            90,
            100
           ],
           "y": [
            48.5,
            48.5,
            48.5,
            48.5,
            48.5,
            48.5,
            48.5,
            48.5,
            48.5
           ]
          },
          {
           "hoverinfo": "none",
           "line": {
            "color": "blue",
            "dash": "dash"
           },
           "showlegend": false,
           "type": "scatter",
           "x": [
            74,
            74
           ],
           "y": [
            0,
            53.5
           ]
          },
          {
           "hoverinfo": "none",
           "line": {
            "color": "yellow",
            "dash": "dash"
           },
           "showlegend": false,
           "type": "scatter",
           "x": [
            80,
            80
           ],
           "y": [
            0,
            53.5
           ]
          },
          {
           "fill": "toself",
           "fillcolor": "#000000",
           "hoverinfo": "skip",
           "line": {
            "color": "white",
            "width": 3
           },
           "mode": "lines",
           "opacity": 1,
           "showlegend": false,
           "type": "scatter",
           "x": [
            0,
            0,
            10,
            10,
            0
           ],
           "y": [
            0,
            53.5,
            53.5,
            0,
            0
           ]
          },
          {
           "fill": "toself",
           "fillcolor": "#FFB612",
           "hoverinfo": "skip",
           "line": {
            "color": "white",
            "width": 3
           },
           "mode": "lines",
           "opacity": 1,
           "showlegend": false,
           "type": "scatter",
           "x": [
            110,
            110,
            120,
            120,
            110
           ],
           "y": [
            0,
            53.5,
            53.5,
            0,
            0
           ]
          },
          {
           "hoverinfo": "text",
           "hovertext": [
            "nflId:37104<br>displayName:Cameron Heyward<br>Player Speed:0.0 MPH",
            "nflId:43325<br>displayName:Myles Jack<br>Player Speed:2.349 MPH",
            "nflId:44842<br>displayName:T.J. Watt<br>Player Speed:0.0 MPH",
            "nflId:44878<br>displayName:Ahkello Witherspoon<br>Player Speed:2.036 MPH",
            "nflId:44906<br>displayName:Cameron Sutton<br>Player Speed:1.208 MPH",
            "nflId:45395<br>displayName:Arthur Maulet<br>Player Speed:1.118 MPH",
            "nflId:46080<br>displayName:Minkah Fitzpatrick<br>Player Speed:3.378 MPH",
            "nflId:46097<br>displayName:Terrell Edmunds<br>Player Speed:1.969 MPH",
            "nflId:46902<br>displayName:Robert Spillane<br>Player Speed:1.566 MPH",
            "nflId:52971<br>displayName:Jamir Jones<br>Player Speed:0.0 MPH",
            "nflId:54549<br>displayName:DeMarvin Leal<br>Player Speed:0.0 MPH"
           ],
           "marker": {
            "color": "#FFB612",
            "line": {
             "color": "#101820",
             "width": 2
            },
            "size": 10
           },
           "mode": "markers",
           "name": "PIT",
           "type": "scatter",
           "x": [
            74.99,
            78.83,
            74.66,
            78.45,
            79.37,
            77.97,
            84.06,
            84,
            78.9,
            75.03,
            74.67
           ],
           "y": [
            30.8,
            27.39,
            22.88,
            21.36,
            41.33,
            38.24,
            36.06,
            25.14,
            31.55,
            34.85,
            27.13
           ]
          },
          {
           "hoverinfo": "text",
           "hovertext": [
            "nflId:42654<br>displayName:La'el Collins<br>Player Speed:0.0 MPH",
            "nflId:43344<br>displayName:Tyler Boyd<br>Player Speed:0.067 MPH",
            "nflId:43495<br>displayName:Mike Thomas<br>Player Speed:0.0 MPH",
            "nflId:43510<br>displayName:Ted Karras<br>Player Speed:0.0 MPH",
            "nflId:44860<br>displayName:Joe Mixon<br>Player Speed:0.0 MPH",
            "nflId:46163<br>displayName:Alex Cappa<br>Player Speed:0.0 MPH",
            "nflId:47794<br>displayName:Jonah Williams<br>Player Speed:0.0 MPH",
            "nflId:47835<br>displayName:Drew Sample<br>Player Speed:0.0 MPH",
            "nflId:52409<br>displayName:Joe Burrow<br>Player Speed:0.291 MPH",
            "nflId:53434<br>displayName:Ja'Marr Chase<br>Player Speed:0.224 MPH",
            "nflId:54601<br>displayName:Cordell Volson<br>Player Speed:0.0 MPH"
           ],
           "marker": {
            "color": "#000000",
            "line": {
             "color": "#FB4F14",
             "width": 2
            },
            "size": 10
           },
           "mode": "markers",
           "name": "CIN",
           "type": "scatter",
           "x": [
            72.75,
            73.52,
            72.57,
            73.57,
            68.93,
            72.91,
            72.87,
            72.69,
            69.16,
            69.09,
            73.03
           ],
           "y": [
            26.57,
            36.86,
            38.85,
            29.67,
            26.99,
            28.23,
            32.67,
            24.84,
            29.8,
            31.71,
            31.29
           ]
          },
          {
           "hoverinfo": "none",
           "marker": {
            "color": "#CBB67C",
            "line": {
             "color": "#663831",
             "width": 2
            },
            "size": 10
           },
           "mode": "markers",
           "name": "football",
           "type": "scatter",
           "x": [
            73.8099975585938
           ],
           "y": [
            29.6900005340576
           ]
          }
         ],
         "name": "66"
        },
        {
         "data": [
          {
           "hoverinfo": "none",
           "mode": "text",
           "showlegend": false,
           "text": [
            "10",
            "20",
            "30",
            "40",
            "50",
            "40",
            "30",
            "20",
            "10"
           ],
           "textfont": {
            "color": "#ffffff",
            "family": "Courier New, monospace",
            "size": 30
           },
           "type": "scatter",
           "x": [
            20,
            30,
            40,
            50,
            60,
            70,
            80,
            90,
            100
           ],
           "y": [
            5,
            5,
            5,
            5,
            5,
            5,
            5,
            5,
            5
           ]
          },
          {
           "hoverinfo": "none",
           "mode": "text",
           "showlegend": false,
           "text": [
            "10",
            "20",
            "30",
            "40",
            "50",
            "40",
            "30",
            "20",
            "10"
           ],
           "textfont": {
            "color": "#ffffff",
            "family": "Courier New, monospace",
            "size": 30
           },
           "type": "scatter",
           "x": [
            20,
            30,
            40,
            50,
            60,
            70,
            80,
            90,
            100
           ],
           "y": [
            48.5,
            48.5,
            48.5,
            48.5,
            48.5,
            48.5,
            48.5,
            48.5,
            48.5
           ]
          },
          {
           "hoverinfo": "none",
           "line": {
            "color": "blue",
            "dash": "dash"
           },
           "showlegend": false,
           "type": "scatter",
           "x": [
            74,
            74
           ],
           "y": [
            0,
            53.5
           ]
          },
          {
           "hoverinfo": "none",
           "line": {
            "color": "yellow",
            "dash": "dash"
           },
           "showlegend": false,
           "type": "scatter",
           "x": [
            80,
            80
           ],
           "y": [
            0,
            53.5
           ]
          },
          {
           "fill": "toself",
           "fillcolor": "#000000",
           "hoverinfo": "skip",
           "line": {
            "color": "white",
            "width": 3
           },
           "mode": "lines",
           "opacity": 1,
           "showlegend": false,
           "type": "scatter",
           "x": [
            0,
            0,
            10,
            10,
            0
           ],
           "y": [
            0,
            53.5,
            53.5,
            0,
            0
           ]
          },
          {
           "fill": "toself",
           "fillcolor": "#FFB612",
           "hoverinfo": "skip",
           "line": {
            "color": "white",
            "width": 3
           },
           "mode": "lines",
           "opacity": 1,
           "showlegend": false,
           "type": "scatter",
           "x": [
            110,
            110,
            120,
            120,
            110
           ],
           "y": [
            0,
            53.5,
            53.5,
            0,
            0
           ]
          },
          {
           "hoverinfo": "text",
           "hovertext": [
            "nflId:37104<br>displayName:Cameron Heyward<br>Player Speed:0.0 MPH",
            "nflId:43325<br>displayName:Myles Jack<br>Player Speed:1.834 MPH",
            "nflId:44842<br>displayName:T.J. Watt<br>Player Speed:0.0 MPH",
            "nflId:44878<br>displayName:Ahkello Witherspoon<br>Player Speed:2.013 MPH",
            "nflId:44906<br>displayName:Cameron Sutton<br>Player Speed:0.872 MPH",
            "nflId:45395<br>displayName:Arthur Maulet<br>Player Speed:1.275 MPH",
            "nflId:46080<br>displayName:Minkah Fitzpatrick<br>Player Speed:2.796 MPH",
            "nflId:46097<br>displayName:Terrell Edmunds<br>Player Speed:1.79 MPH",
            "nflId:46902<br>displayName:Robert Spillane<br>Player Speed:1.163 MPH",
            "nflId:52971<br>displayName:Jamir Jones<br>Player Speed:0.0 MPH",
            "nflId:54549<br>displayName:DeMarvin Leal<br>Player Speed:0.0 MPH"
           ],
           "marker": {
            "color": "#FFB612",
            "line": {
             "color": "#101820",
             "width": 2
            },
            "size": 10
           },
           "mode": "markers",
           "name": "PIT",
           "type": "scatter",
           "x": [
            74.99,
            78.81,
            74.66,
            78.37,
            79.33,
            77.9,
            83.94,
            84.03,
            78.89,
            75.04,
            74.67
           ],
           "y": [
            30.8,
            27.31,
            22.88,
            21.32,
            41.34,
            38.23,
            36.03,
            25.07,
            31.49,
            34.85,
            27.12
           ]
          },
          {
           "hoverinfo": "text",
           "hovertext": [
            "nflId:42654<br>displayName:La'el Collins<br>Player Speed:0.0 MPH",
            "nflId:43344<br>displayName:Tyler Boyd<br>Player Speed:0.067 MPH",
            "nflId:43495<br>displayName:Mike Thomas<br>Player Speed:0.0 MPH",
            "nflId:43510<br>displayName:Ted Karras<br>Player Speed:0.0 MPH",
            "nflId:44860<br>displayName:Joe Mixon<br>Player Speed:0.0 MPH",
            "nflId:46163<br>displayName:Alex Cappa<br>Player Speed:0.0 MPH",
            "nflId:47794<br>displayName:Jonah Williams<br>Player Speed:0.0 MPH",
            "nflId:47835<br>displayName:Drew Sample<br>Player Speed:0.0 MPH",
            "nflId:52409<br>displayName:Joe Burrow<br>Player Speed:0.246 MPH",
            "nflId:53434<br>displayName:Ja'Marr Chase<br>Player Speed:0.089 MPH",
            "nflId:54601<br>displayName:Cordell Volson<br>Player Speed:0.0 MPH"
           ],
           "marker": {
            "color": "#000000",
            "line": {
             "color": "#FB4F14",
             "width": 2
            },
            "size": 10
           },
           "mode": "markers",
           "name": "CIN",
           "type": "scatter",
           "x": [
            72.75,
            73.53,
            72.57,
            73.57,
            68.93,
            72.91,
            72.87,
            72.68,
            69.17,
            69.09,
            73.03
           ],
           "y": [
            26.57,
            36.85,
            38.85,
            29.67,
            26.99,
            28.22,
            32.67,
            24.84,
            29.81,
            31.71,
            31.29
           ]
          },
          {
           "hoverinfo": "none",
           "marker": {
            "color": "#CBB67C",
            "line": {
             "color": "#663831",
             "width": 2
            },
            "size": 10
           },
           "mode": "markers",
           "name": "football",
           "type": "scatter",
           "x": [
            73.8099975585938
           ],
           "y": [
            29.6900005340576
           ]
          }
         ],
         "name": "67"
        },
        {
         "data": [
          {
           "hoverinfo": "none",
           "mode": "text",
           "showlegend": false,
           "text": [
            "10",
            "20",
            "30",
            "40",
            "50",
            "40",
            "30",
            "20",
            "10"
           ],
           "textfont": {
            "color": "#ffffff",
            "family": "Courier New, monospace",
            "size": 30
           },
           "type": "scatter",
           "x": [
            20,
            30,
            40,
            50,
            60,
            70,
            80,
            90,
            100
           ],
           "y": [
            5,
            5,
            5,
            5,
            5,
            5,
            5,
            5,
            5
           ]
          },
          {
           "hoverinfo": "none",
           "mode": "text",
           "showlegend": false,
           "text": [
            "10",
            "20",
            "30",
            "40",
            "50",
            "40",
            "30",
            "20",
            "10"
           ],
           "textfont": {
            "color": "#ffffff",
            "family": "Courier New, monospace",
            "size": 30
           },
           "type": "scatter",
           "x": [
            20,
            30,
            40,
            50,
            60,
            70,
            80,
            90,
            100
           ],
           "y": [
            48.5,
            48.5,
            48.5,
            48.5,
            48.5,
            48.5,
            48.5,
            48.5,
            48.5
           ]
          },
          {
           "hoverinfo": "none",
           "line": {
            "color": "blue",
            "dash": "dash"
           },
           "showlegend": false,
           "type": "scatter",
           "x": [
            74,
            74
           ],
           "y": [
            0,
            53.5
           ]
          },
          {
           "hoverinfo": "none",
           "line": {
            "color": "yellow",
            "dash": "dash"
           },
           "showlegend": false,
           "type": "scatter",
           "x": [
            80,
            80
           ],
           "y": [
            0,
            53.5
           ]
          },
          {
           "fill": "toself",
           "fillcolor": "#000000",
           "hoverinfo": "skip",
           "line": {
            "color": "white",
            "width": 3
           },
           "mode": "lines",
           "opacity": 1,
           "showlegend": false,
           "type": "scatter",
           "x": [
            0,
            0,
            10,
            10,
            0
           ],
           "y": [
            0,
            53.5,
            53.5,
            0,
            0
           ]
          },
          {
           "fill": "toself",
           "fillcolor": "#FFB612",
           "hoverinfo": "skip",
           "line": {
            "color": "white",
            "width": 3
           },
           "mode": "lines",
           "opacity": 1,
           "showlegend": false,
           "type": "scatter",
           "x": [
            110,
            110,
            120,
            120,
            110
           ],
           "y": [
            0,
            53.5,
            53.5,
            0,
            0
           ]
          },
          {
           "hoverinfo": "text",
           "hovertext": [
            "nflId:37104<br>displayName:Cameron Heyward<br>Player Speed:0.0 MPH",
            "nflId:43325<br>displayName:Myles Jack<br>Player Speed:1.275 MPH",
            "nflId:44842<br>displayName:T.J. Watt<br>Player Speed:0.0 MPH",
            "nflId:44878<br>displayName:Ahkello Witherspoon<br>Player Speed:1.812 MPH",
            "nflId:44906<br>displayName:Cameron Sutton<br>Player Speed:0.492 MPH",
            "nflId:45395<br>displayName:Arthur Maulet<br>Player Speed:1.409 MPH",
            "nflId:46080<br>displayName:Minkah Fitzpatrick<br>Player Speed:2.282 MPH",
            "nflId:46097<br>displayName:Terrell Edmunds<br>Player Speed:1.745 MPH",
            "nflId:46902<br>displayName:Robert Spillane<br>Player Speed:0.761 MPH",
            "nflId:52971<br>displayName:Jamir Jones<br>Player Speed:0.0 MPH",
            "nflId:54549<br>displayName:DeMarvin Leal<br>Player Speed:0.0 MPH"
           ],
           "marker": {
            "color": "#FFB612",
            "line": {
             "color": "#101820",
             "width": 2
            },
            "size": 10
           },
           "mode": "markers",
           "name": "PIT",
           "type": "scatter",
           "x": [
            74.99,
            78.79,
            74.66,
            78.3,
            79.31,
            77.82,
            83.83,
            84.08,
            78.89,
            75.04,
            74.68
           ],
           "y": [
            30.8,
            27.24,
            22.89,
            21.29,
            41.35,
            38.22,
            36,
            25.01,
            31.45,
            34.85,
            27.12
           ]
          },
          {
           "hoverinfo": "text",
           "hovertext": [
            "nflId:42654<br>displayName:La'el Collins<br>Player Speed:0.0 MPH",
            "nflId:43344<br>displayName:Tyler Boyd<br>Player Speed:0.067 MPH",
            "nflId:43495<br>displayName:Mike Thomas<br>Player Speed:0.0 MPH",
            "nflId:43510<br>displayName:Ted Karras<br>Player Speed:0.0 MPH",
            "nflId:44860<br>displayName:Joe Mixon<br>Player Speed:0.0 MPH",
            "nflId:46163<br>displayName:Alex Cappa<br>Player Speed:0.0 MPH",
            "nflId:47794<br>displayName:Jonah Williams<br>Player Speed:0.0 MPH",
            "nflId:47835<br>displayName:Drew Sample<br>Player Speed:0.0 MPH",
            "nflId:52409<br>displayName:Joe Burrow<br>Player Speed:0.224 MPH",
            "nflId:53434<br>displayName:Ja'Marr Chase<br>Player Speed:0.157 MPH",
            "nflId:54601<br>displayName:Cordell Volson<br>Player Speed:0.0 MPH"
           ],
           "marker": {
            "color": "#000000",
            "line": {
             "color": "#FB4F14",
             "width": 2
            },
            "size": 10
           },
           "mode": "markers",
           "name": "CIN",
           "type": "scatter",
           "x": [
            72.75,
            73.53,
            72.57,
            73.57,
            68.93,
            72.91,
            72.86,
            72.68,
            69.18,
            69.1,
            73.02
           ],
           "y": [
            26.58,
            36.84,
            38.86,
            29.67,
            26.99,
            28.23,
            32.67,
            24.84,
            29.81,
            31.71,
            31.29
           ]
          },
          {
           "hoverinfo": "none",
           "marker": {
            "color": "#CBB67C",
            "line": {
             "color": "#663831",
             "width": 2
            },
            "size": 10
           },
           "mode": "markers",
           "name": "football",
           "type": "scatter",
           "x": [
            73.8000030517578
           ],
           "y": [
            29.6800003051758
           ]
          }
         ],
         "name": "68"
        },
        {
         "data": [
          {
           "hoverinfo": "none",
           "mode": "text",
           "showlegend": false,
           "text": [
            "10",
            "20",
            "30",
            "40",
            "50",
            "40",
            "30",
            "20",
            "10"
           ],
           "textfont": {
            "color": "#ffffff",
            "family": "Courier New, monospace",
            "size": 30
           },
           "type": "scatter",
           "x": [
            20,
            30,
            40,
            50,
            60,
            70,
            80,
            90,
            100
           ],
           "y": [
            5,
            5,
            5,
            5,
            5,
            5,
            5,
            5,
            5
           ]
          },
          {
           "hoverinfo": "none",
           "mode": "text",
           "showlegend": false,
           "text": [
            "10",
            "20",
            "30",
            "40",
            "50",
            "40",
            "30",
            "20",
            "10"
           ],
           "textfont": {
            "color": "#ffffff",
            "family": "Courier New, monospace",
            "size": 30
           },
           "type": "scatter",
           "x": [
            20,
            30,
            40,
            50,
            60,
            70,
            80,
            90,
            100
           ],
           "y": [
            48.5,
            48.5,
            48.5,
            48.5,
            48.5,
            48.5,
            48.5,
            48.5,
            48.5
           ]
          },
          {
           "hoverinfo": "none",
           "line": {
            "color": "blue",
            "dash": "dash"
           },
           "showlegend": false,
           "type": "scatter",
           "x": [
            74,
            74
           ],
           "y": [
            0,
            53.5
           ]
          },
          {
           "hoverinfo": "none",
           "line": {
            "color": "yellow",
            "dash": "dash"
           },
           "showlegend": false,
           "type": "scatter",
           "x": [
            80,
            80
           ],
           "y": [
            0,
            53.5
           ]
          },
          {
           "fill": "toself",
           "fillcolor": "#000000",
           "hoverinfo": "skip",
           "line": {
            "color": "white",
            "width": 3
           },
           "mode": "lines",
           "opacity": 1,
           "showlegend": false,
           "type": "scatter",
           "x": [
            0,
            0,
            10,
            10,
            0
           ],
           "y": [
            0,
            53.5,
            53.5,
            0,
            0
           ]
          },
          {
           "fill": "toself",
           "fillcolor": "#FFB612",
           "hoverinfo": "skip",
           "line": {
            "color": "white",
            "width": 3
           },
           "mode": "lines",
           "opacity": 1,
           "showlegend": false,
           "type": "scatter",
           "x": [
            110,
            110,
            120,
            120,
            110
           ],
           "y": [
            0,
            53.5,
            53.5,
            0,
            0
           ]
          },
          {
           "hoverinfo": "text",
           "hovertext": [
            "nflId:37104<br>displayName:Cameron Heyward<br>Player Speed:0.0 MPH",
            "nflId:43325<br>displayName:Myles Jack<br>Player Speed:0.828 MPH",
            "nflId:44842<br>displayName:T.J. Watt<br>Player Speed:0.0 MPH",
            "nflId:44878<br>displayName:Ahkello Witherspoon<br>Player Speed:1.767 MPH",
            "nflId:44906<br>displayName:Cameron Sutton<br>Player Speed:0.313 MPH",
            "nflId:45395<br>displayName:Arthur Maulet<br>Player Speed:1.566 MPH",
            "nflId:46080<br>displayName:Minkah Fitzpatrick<br>Player Speed:1.767 MPH",
            "nflId:46097<br>displayName:Terrell Edmunds<br>Player Speed:1.812 MPH",
            "nflId:46902<br>displayName:Robert Spillane<br>Player Speed:0.47 MPH",
            "nflId:52971<br>displayName:Jamir Jones<br>Player Speed:0.0 MPH",
            "nflId:54549<br>displayName:DeMarvin Leal<br>Player Speed:0.0 MPH"
           ],
           "marker": {
            "color": "#FFB612",
            "line": {
             "color": "#101820",
             "width": 2
            },
            "size": 10
           },
           "mode": "markers",
           "name": "PIT",
           "type": "scatter",
           "x": [
            74.98,
            78.78,
            74.67,
            78.23,
            79.3,
            77.72,
            83.75,
            84.14,
            78.88,
            75.04,
            74.68
           ],
           "y": [
            30.8,
            27.2,
            22.9,
            21.25,
            41.36,
            38.21,
            35.98,
            24.95,
            31.43,
            34.85,
            27.11
           ]
          },
          {
           "hoverinfo": "text",
           "hovertext": [
            "nflId:42654<br>displayName:La'el Collins<br>Player Speed:0.0 MPH",
            "nflId:43344<br>displayName:Tyler Boyd<br>Player Speed:0.067 MPH",
            "nflId:43495<br>displayName:Mike Thomas<br>Player Speed:0.0 MPH",
            "nflId:43510<br>displayName:Ted Karras<br>Player Speed:0.0 MPH",
            "nflId:44860<br>displayName:Joe Mixon<br>Player Speed:0.0 MPH",
            "nflId:46163<br>displayName:Alex Cappa<br>Player Speed:0.0 MPH",
            "nflId:47794<br>displayName:Jonah Williams<br>Player Speed:0.0 MPH",
            "nflId:47835<br>displayName:Drew Sample<br>Player Speed:0.0 MPH",
            "nflId:52409<br>displayName:Joe Burrow<br>Player Speed:0.201 MPH",
            "nflId:53434<br>displayName:Ja'Marr Chase<br>Player Speed:0.313 MPH",
            "nflId:54601<br>displayName:Cordell Volson<br>Player Speed:0.0 MPH"
           ],
           "marker": {
            "color": "#000000",
            "line": {
             "color": "#FB4F14",
             "width": 2
            },
            "size": 10
           },
           "mode": "markers",
           "name": "CIN",
           "type": "scatter",
           "x": [
            72.75,
            73.54,
            72.57,
            73.57,
            68.93,
            72.91,
            72.86,
            72.68,
            69.18,
            69.1,
            73.02
           ],
           "y": [
            26.57,
            36.83,
            38.86,
            29.67,
            26.99,
            28.22,
            32.67,
            24.84,
            29.81,
            31.72,
            31.29
           ]
          },
          {
           "hoverinfo": "none",
           "marker": {
            "color": "#CBB67C",
            "line": {
             "color": "#663831",
             "width": 2
            },
            "size": 10
           },
           "mode": "markers",
           "name": "football",
           "type": "scatter",
           "x": [
            73.8000030517578
           ],
           "y": [
            29.6800003051758
           ]
          }
         ],
         "name": "69"
        },
        {
         "data": [
          {
           "hoverinfo": "none",
           "mode": "text",
           "showlegend": false,
           "text": [
            "10",
            "20",
            "30",
            "40",
            "50",
            "40",
            "30",
            "20",
            "10"
           ],
           "textfont": {
            "color": "#ffffff",
            "family": "Courier New, monospace",
            "size": 30
           },
           "type": "scatter",
           "x": [
            20,
            30,
            40,
            50,
            60,
            70,
            80,
            90,
            100
           ],
           "y": [
            5,
            5,
            5,
            5,
            5,
            5,
            5,
            5,
            5
           ]
          },
          {
           "hoverinfo": "none",
           "mode": "text",
           "showlegend": false,
           "text": [
            "10",
            "20",
            "30",
            "40",
            "50",
            "40",
            "30",
            "20",
            "10"
           ],
           "textfont": {
            "color": "#ffffff",
            "family": "Courier New, monospace",
            "size": 30
           },
           "type": "scatter",
           "x": [
            20,
            30,
            40,
            50,
            60,
            70,
            80,
            90,
            100
           ],
           "y": [
            48.5,
            48.5,
            48.5,
            48.5,
            48.5,
            48.5,
            48.5,
            48.5,
            48.5
           ]
          },
          {
           "hoverinfo": "none",
           "line": {
            "color": "blue",
            "dash": "dash"
           },
           "showlegend": false,
           "type": "scatter",
           "x": [
            74,
            74
           ],
           "y": [
            0,
            53.5
           ]
          },
          {
           "hoverinfo": "none",
           "line": {
            "color": "yellow",
            "dash": "dash"
           },
           "showlegend": false,
           "type": "scatter",
           "x": [
            80,
            80
           ],
           "y": [
            0,
            53.5
           ]
          },
          {
           "fill": "toself",
           "fillcolor": "#000000",
           "hoverinfo": "skip",
           "line": {
            "color": "white",
            "width": 3
           },
           "mode": "lines",
           "opacity": 1,
           "showlegend": false,
           "type": "scatter",
           "x": [
            0,
            0,
            10,
            10,
            0
           ],
           "y": [
            0,
            53.5,
            53.5,
            0,
            0
           ]
          },
          {
           "fill": "toself",
           "fillcolor": "#FFB612",
           "hoverinfo": "skip",
           "line": {
            "color": "white",
            "width": 3
           },
           "mode": "lines",
           "opacity": 1,
           "showlegend": false,
           "type": "scatter",
           "x": [
            110,
            110,
            120,
            120,
            110
           ],
           "y": [
            0,
            53.5,
            53.5,
            0,
            0
           ]
          },
          {
           "hoverinfo": "text",
           "hovertext": [
            "nflId:37104<br>displayName:Cameron Heyward<br>Player Speed:0.0 MPH",
            "nflId:43325<br>displayName:Myles Jack<br>Player Speed:0.514 MPH",
            "nflId:44842<br>displayName:T.J. Watt<br>Player Speed:0.0 MPH",
            "nflId:44878<br>displayName:Ahkello Witherspoon<br>Player Speed:1.767 MPH",
            "nflId:44906<br>displayName:Cameron Sutton<br>Player Speed:0.447 MPH",
            "nflId:45395<br>displayName:Arthur Maulet<br>Player Speed:1.633 MPH",
            "nflId:46080<br>displayName:Minkah Fitzpatrick<br>Player Speed:1.141 MPH",
            "nflId:46097<br>displayName:Terrell Edmunds<br>Player Speed:1.812 MPH",
            "nflId:46902<br>displayName:Robert Spillane<br>Player Speed:0.157 MPH",
            "nflId:52971<br>displayName:Jamir Jones<br>Player Speed:0.0 MPH",
            "nflId:54549<br>displayName:DeMarvin Leal<br>Player Speed:0.0 MPH"
           ],
           "marker": {
            "color": "#FFB612",
            "line": {
             "color": "#101820",
             "width": 2
            },
            "size": 10
           },
           "mode": "markers",
           "name": "PIT",
           "type": "scatter",
           "x": [
            74.98,
            78.79,
            74.67,
            78.16,
            79.31,
            77.64,
            83.7,
            84.21,
            78.88,
            75.05,
            74.68
           ],
           "y": [
            30.8,
            27.17,
            22.91,
            21.2,
            41.37,
            38.21,
            35.95,
            24.91,
            31.41,
            34.85,
            27.11
           ]
          },
          {
           "hoverinfo": "text",
           "hovertext": [
            "nflId:42654<br>displayName:La'el Collins<br>Player Speed:0.0 MPH",
            "nflId:43344<br>displayName:Tyler Boyd<br>Player Speed:0.067 MPH",
            "nflId:43495<br>displayName:Mike Thomas<br>Player Speed:0.0 MPH",
            "nflId:43510<br>displayName:Ted Karras<br>Player Speed:0.0 MPH",
            "nflId:44860<br>displayName:Joe Mixon<br>Player Speed:0.0 MPH",
            "nflId:46163<br>displayName:Alex Cappa<br>Player Speed:0.0 MPH",
            "nflId:47794<br>displayName:Jonah Williams<br>Player Speed:0.0 MPH",
            "nflId:47835<br>displayName:Drew Sample<br>Player Speed:0.0 MPH",
            "nflId:52409<br>displayName:Joe Burrow<br>Player Speed:0.179 MPH",
            "nflId:53434<br>displayName:Ja'Marr Chase<br>Player Speed:0.38 MPH",
            "nflId:54601<br>displayName:Cordell Volson<br>Player Speed:0.0 MPH"
           ],
           "marker": {
            "color": "#000000",
            "line": {
             "color": "#FB4F14",
             "width": 2
            },
            "size": 10
           },
           "mode": "markers",
           "name": "CIN",
           "type": "scatter",
           "x": [
            72.75,
            73.54,
            72.57,
            73.57,
            68.94,
            72.91,
            72.87,
            72.68,
            69.19,
            69.1,
            73.02
           ],
           "y": [
            26.57,
            36.82,
            38.86,
            29.67,
            26.99,
            28.22,
            32.67,
            24.84,
            29.82,
            31.73,
            31.29
           ]
          },
          {
           "hoverinfo": "none",
           "marker": {
            "color": "#CBB67C",
            "line": {
             "color": "#663831",
             "width": 2
            },
            "size": 10
           },
           "mode": "markers",
           "name": "football",
           "type": "scatter",
           "x": [
            73.8000030517578
           ],
           "y": [
            29.6800003051758
           ]
          }
         ],
         "name": "70"
        },
        {
         "data": [
          {
           "hoverinfo": "none",
           "mode": "text",
           "showlegend": false,
           "text": [
            "10",
            "20",
            "30",
            "40",
            "50",
            "40",
            "30",
            "20",
            "10"
           ],
           "textfont": {
            "color": "#ffffff",
            "family": "Courier New, monospace",
            "size": 30
           },
           "type": "scatter",
           "x": [
            20,
            30,
            40,
            50,
            60,
            70,
            80,
            90,
            100
           ],
           "y": [
            5,
            5,
            5,
            5,
            5,
            5,
            5,
            5,
            5
           ]
          },
          {
           "hoverinfo": "none",
           "mode": "text",
           "showlegend": false,
           "text": [
            "10",
            "20",
            "30",
            "40",
            "50",
            "40",
            "30",
            "20",
            "10"
           ],
           "textfont": {
            "color": "#ffffff",
            "family": "Courier New, monospace",
            "size": 30
           },
           "type": "scatter",
           "x": [
            20,
            30,
            40,
            50,
            60,
            70,
            80,
            90,
            100
           ],
           "y": [
            48.5,
            48.5,
            48.5,
            48.5,
            48.5,
            48.5,
            48.5,
            48.5,
            48.5
           ]
          },
          {
           "hoverinfo": "none",
           "line": {
            "color": "blue",
            "dash": "dash"
           },
           "showlegend": false,
           "type": "scatter",
           "x": [
            74,
            74
           ],
           "y": [
            0,
            53.5
           ]
          },
          {
           "hoverinfo": "none",
           "line": {
            "color": "yellow",
            "dash": "dash"
           },
           "showlegend": false,
           "type": "scatter",
           "x": [
            80,
            80
           ],
           "y": [
            0,
            53.5
           ]
          },
          {
           "fill": "toself",
           "fillcolor": "#000000",
           "hoverinfo": "skip",
           "line": {
            "color": "white",
            "width": 3
           },
           "mode": "lines",
           "opacity": 1,
           "showlegend": false,
           "type": "scatter",
           "x": [
            0,
            0,
            10,
            10,
            0
           ],
           "y": [
            0,
            53.5,
            53.5,
            0,
            0
           ]
          },
          {
           "fill": "toself",
           "fillcolor": "#FFB612",
           "hoverinfo": "skip",
           "line": {
            "color": "white",
            "width": 3
           },
           "mode": "lines",
           "opacity": 1,
           "showlegend": false,
           "type": "scatter",
           "x": [
            110,
            110,
            120,
            120,
            110
           ],
           "y": [
            0,
            53.5,
            53.5,
            0,
            0
           ]
          },
          {
           "hoverinfo": "text",
           "hovertext": [
            "nflId:37104<br>displayName:Cameron Heyward<br>Player Speed:0.0 MPH",
            "nflId:43325<br>displayName:Myles Jack<br>Player Speed:0.403 MPH",
            "nflId:44842<br>displayName:T.J. Watt<br>Player Speed:0.0 MPH",
            "nflId:44878<br>displayName:Ahkello Witherspoon<br>Player Speed:1.857 MPH",
            "nflId:44906<br>displayName:Cameron Sutton<br>Player Speed:0.805 MPH",
            "nflId:45395<br>displayName:Arthur Maulet<br>Player Speed:1.79 MPH",
            "nflId:46080<br>displayName:Minkah Fitzpatrick<br>Player Speed:0.514 MPH",
            "nflId:46097<br>displayName:Terrell Edmunds<br>Player Speed:1.901 MPH",
            "nflId:46902<br>displayName:Robert Spillane<br>Player Speed:0.0 MPH",
            "nflId:52971<br>displayName:Jamir Jones<br>Player Speed:0.0 MPH",
            "nflId:54549<br>displayName:DeMarvin Leal<br>Player Speed:0.0 MPH"
           ],
           "marker": {
            "color": "#FFB612",
            "line": {
             "color": "#101820",
             "width": 2
            },
            "size": 10
           },
           "mode": "markers",
           "name": "PIT",
           "type": "scatter",
           "x": [
            74.98,
            78.79,
            74.67,
            78.1,
            79.34,
            77.56,
            83.68,
            84.28,
            78.87,
            75.04,
            74.68
           ],
           "y": [
            30.8,
            27.14,
            22.93,
            21.14,
            41.37,
            38.2,
            35.93,
            24.87,
            31.41,
            34.86,
            27.11
           ]
          },
          {
           "hoverinfo": "text",
           "hovertext": [
            "nflId:42654<br>displayName:La'el Collins<br>Player Speed:0.0 MPH",
            "nflId:43344<br>displayName:Tyler Boyd<br>Player Speed:0.067 MPH",
            "nflId:43495<br>displayName:Mike Thomas<br>Player Speed:0.0 MPH",
            "nflId:43510<br>displayName:Ted Karras<br>Player Speed:0.0 MPH",
            "nflId:44860<br>displayName:Joe Mixon<br>Player Speed:0.0 MPH",
            "nflId:46163<br>displayName:Alex Cappa<br>Player Speed:0.0 MPH",
            "nflId:47794<br>displayName:Jonah Williams<br>Player Speed:0.0 MPH",
            "nflId:47835<br>displayName:Drew Sample<br>Player Speed:0.0 MPH",
            "nflId:52409<br>displayName:Joe Burrow<br>Player Speed:0.157 MPH",
            "nflId:53434<br>displayName:Ja'Marr Chase<br>Player Speed:0.403 MPH",
            "nflId:54601<br>displayName:Cordell Volson<br>Player Speed:0.0 MPH"
           ],
           "marker": {
            "color": "#000000",
            "line": {
             "color": "#FB4F14",
             "width": 2
            },
            "size": 10
           },
           "mode": "markers",
           "name": "CIN",
           "type": "scatter",
           "x": [
            72.75,
            73.54,
            72.57,
            73.57,
            68.94,
            72.91,
            72.86,
            72.68,
            69.19,
            69.09,
            73.02
           ],
           "y": [
            26.57,
            36.83,
            38.85,
            29.67,
            26.99,
            28.22,
            32.66,
            24.84,
            29.83,
            31.75,
            31.29
           ]
          },
          {
           "hoverinfo": "none",
           "marker": {
            "color": "#CBB67C",
            "line": {
             "color": "#663831",
             "width": 2
            },
            "size": 10
           },
           "mode": "markers",
           "name": "football",
           "type": "scatter",
           "x": [
            73.8000030517578
           ],
           "y": [
            29.6800003051758
           ]
          }
         ],
         "name": "71"
        },
        {
         "data": [
          {
           "hoverinfo": "none",
           "mode": "text",
           "showlegend": false,
           "text": [
            "10",
            "20",
            "30",
            "40",
            "50",
            "40",
            "30",
            "20",
            "10"
           ],
           "textfont": {
            "color": "#ffffff",
            "family": "Courier New, monospace",
            "size": 30
           },
           "type": "scatter",
           "x": [
            20,
            30,
            40,
            50,
            60,
            70,
            80,
            90,
            100
           ],
           "y": [
            5,
            5,
            5,
            5,
            5,
            5,
            5,
            5,
            5
           ]
          },
          {
           "hoverinfo": "none",
           "mode": "text",
           "showlegend": false,
           "text": [
            "10",
            "20",
            "30",
            "40",
            "50",
            "40",
            "30",
            "20",
            "10"
           ],
           "textfont": {
            "color": "#ffffff",
            "family": "Courier New, monospace",
            "size": 30
           },
           "type": "scatter",
           "x": [
            20,
            30,
            40,
            50,
            60,
            70,
            80,
            90,
            100
           ],
           "y": [
            48.5,
            48.5,
            48.5,
            48.5,
            48.5,
            48.5,
            48.5,
            48.5,
            48.5
           ]
          },
          {
           "hoverinfo": "none",
           "line": {
            "color": "blue",
            "dash": "dash"
           },
           "showlegend": false,
           "type": "scatter",
           "x": [
            74,
            74
           ],
           "y": [
            0,
            53.5
           ]
          },
          {
           "hoverinfo": "none",
           "line": {
            "color": "yellow",
            "dash": "dash"
           },
           "showlegend": false,
           "type": "scatter",
           "x": [
            80,
            80
           ],
           "y": [
            0,
            53.5
           ]
          },
          {
           "fill": "toself",
           "fillcolor": "#000000",
           "hoverinfo": "skip",
           "line": {
            "color": "white",
            "width": 3
           },
           "mode": "lines",
           "opacity": 1,
           "showlegend": false,
           "type": "scatter",
           "x": [
            0,
            0,
            10,
            10,
            0
           ],
           "y": [
            0,
            53.5,
            53.5,
            0,
            0
           ]
          },
          {
           "fill": "toself",
           "fillcolor": "#FFB612",
           "hoverinfo": "skip",
           "line": {
            "color": "white",
            "width": 3
           },
           "mode": "lines",
           "opacity": 1,
           "showlegend": false,
           "type": "scatter",
           "x": [
            110,
            110,
            120,
            120,
            110
           ],
           "y": [
            0,
            53.5,
            53.5,
            0,
            0
           ]
          },
          {
           "hoverinfo": "text",
           "hovertext": [
            "nflId:37104<br>displayName:Cameron Heyward<br>Player Speed:0.0 MPH",
            "nflId:43325<br>displayName:Myles Jack<br>Player Speed:0.201 MPH",
            "nflId:44842<br>displayName:T.J. Watt<br>Player Speed:0.0 MPH",
            "nflId:44878<br>displayName:Ahkello Witherspoon<br>Player Speed:1.879 MPH",
            "nflId:44906<br>displayName:Cameron Sutton<br>Player Speed:1.163 MPH",
            "nflId:45395<br>displayName:Arthur Maulet<br>Player Speed:2.013 MPH",
            "nflId:46080<br>displayName:Minkah Fitzpatrick<br>Player Speed:0.582 MPH",
            "nflId:46097<br>displayName:Terrell Edmunds<br>Player Speed:2.103 MPH",
            "nflId:46902<br>displayName:Robert Spillane<br>Player Speed:0.089 MPH",
            "nflId:52971<br>displayName:Jamir Jones<br>Player Speed:0.0 MPH",
            "nflId:54549<br>displayName:DeMarvin Leal<br>Player Speed:0.0 MPH"
           ],
           "marker": {
            "color": "#FFB612",
            "line": {
             "color": "#101820",
             "width": 2
            },
            "size": 10
           },
           "mode": "markers",
           "name": "PIT",
           "type": "scatter",
           "x": [
            74.98,
            78.8,
            74.66,
            78.05,
            79.38,
            77.47,
            83.68,
            84.37,
            78.87,
            75.04,
            74.68
           ],
           "y": [
            30.8,
            27.14,
            22.94,
            21.08,
            41.39,
            38.2,
            35.91,
            24.85,
            31.41,
            34.86,
            27.11
           ]
          },
          {
           "hoverinfo": "text",
           "hovertext": [
            "nflId:42654<br>displayName:La'el Collins<br>Player Speed:0.0 MPH",
            "nflId:43344<br>displayName:Tyler Boyd<br>Player Speed:0.045 MPH",
            "nflId:43495<br>displayName:Mike Thomas<br>Player Speed:0.0 MPH",
            "nflId:43510<br>displayName:Ted Karras<br>Player Speed:0.0 MPH",
            "nflId:44860<br>displayName:Joe Mixon<br>Player Speed:0.0 MPH",
            "nflId:46163<br>displayName:Alex Cappa<br>Player Speed:0.0 MPH",
            "nflId:47794<br>displayName:Jonah Williams<br>Player Speed:0.0 MPH",
            "nflId:47835<br>displayName:Drew Sample<br>Player Speed:0.0 MPH",
            "nflId:52409<br>displayName:Joe Burrow<br>Player Speed:0.134 MPH",
            "nflId:53434<br>displayName:Ja'Marr Chase<br>Player Speed:0.425 MPH",
            "nflId:54601<br>displayName:Cordell Volson<br>Player Speed:0.0 MPH"
           ],
           "marker": {
            "color": "#000000",
            "line": {
             "color": "#FB4F14",
             "width": 2
            },
            "size": 10
           },
           "mode": "markers",
           "name": "CIN",
           "type": "scatter",
           "x": [
            72.75,
            73.55,
            72.57,
            73.57,
            68.94,
            72.91,
            72.86,
            72.68,
            69.19,
            69.09,
            73.02
           ],
           "y": [
            26.57,
            36.83,
            38.85,
            29.67,
            26.99,
            28.22,
            32.66,
            24.84,
            29.84,
            31.76,
            31.29
           ]
          },
          {
           "hoverinfo": "none",
           "marker": {
            "color": "#CBB67C",
            "line": {
             "color": "#663831",
             "width": 2
            },
            "size": 10
           },
           "mode": "markers",
           "name": "football",
           "type": "scatter",
           "x": [
            73.8000030517578
           ],
           "y": [
            29.6800003051758
           ]
          }
         ],
         "name": "72"
        },
        {
         "data": [
          {
           "hoverinfo": "none",
           "mode": "text",
           "showlegend": false,
           "text": [
            "10",
            "20",
            "30",
            "40",
            "50",
            "40",
            "30",
            "20",
            "10"
           ],
           "textfont": {
            "color": "#ffffff",
            "family": "Courier New, monospace",
            "size": 30
           },
           "type": "scatter",
           "x": [
            20,
            30,
            40,
            50,
            60,
            70,
            80,
            90,
            100
           ],
           "y": [
            5,
            5,
            5,
            5,
            5,
            5,
            5,
            5,
            5
           ]
          },
          {
           "hoverinfo": "none",
           "mode": "text",
           "showlegend": false,
           "text": [
            "10",
            "20",
            "30",
            "40",
            "50",
            "40",
            "30",
            "20",
            "10"
           ],
           "textfont": {
            "color": "#ffffff",
            "family": "Courier New, monospace",
            "size": 30
           },
           "type": "scatter",
           "x": [
            20,
            30,
            40,
            50,
            60,
            70,
            80,
            90,
            100
           ],
           "y": [
            48.5,
            48.5,
            48.5,
            48.5,
            48.5,
            48.5,
            48.5,
            48.5,
            48.5
           ]
          },
          {
           "hoverinfo": "none",
           "line": {
            "color": "blue",
            "dash": "dash"
           },
           "showlegend": false,
           "type": "scatter",
           "x": [
            74,
            74
           ],
           "y": [
            0,
            53.5
           ]
          },
          {
           "hoverinfo": "none",
           "line": {
            "color": "yellow",
            "dash": "dash"
           },
           "showlegend": false,
           "type": "scatter",
           "x": [
            80,
            80
           ],
           "y": [
            0,
            53.5
           ]
          },
          {
           "fill": "toself",
           "fillcolor": "#000000",
           "hoverinfo": "skip",
           "line": {
            "color": "white",
            "width": 3
           },
           "mode": "lines",
           "opacity": 1,
           "showlegend": false,
           "type": "scatter",
           "x": [
            0,
            0,
            10,
            10,
            0
           ],
           "y": [
            0,
            53.5,
            53.5,
            0,
            0
           ]
          },
          {
           "fill": "toself",
           "fillcolor": "#FFB612",
           "hoverinfo": "skip",
           "line": {
            "color": "white",
            "width": 3
           },
           "mode": "lines",
           "opacity": 1,
           "showlegend": false,
           "type": "scatter",
           "x": [
            110,
            110,
            120,
            120,
            110
           ],
           "y": [
            0,
            53.5,
            53.5,
            0,
            0
           ]
          },
          {
           "hoverinfo": "text",
           "hovertext": [
            "nflId:37104<br>displayName:Cameron Heyward<br>Player Speed:0.0 MPH",
            "nflId:43325<br>displayName:Myles Jack<br>Player Speed:0.201 MPH",
            "nflId:44842<br>displayName:T.J. Watt<br>Player Speed:0.0 MPH",
            "nflId:44878<br>displayName:Ahkello Witherspoon<br>Player Speed:1.924 MPH",
            "nflId:44906<br>displayName:Cameron Sutton<br>Player Speed:1.387 MPH",
            "nflId:45395<br>displayName:Arthur Maulet<br>Player Speed:2.259 MPH",
            "nflId:46080<br>displayName:Minkah Fitzpatrick<br>Player Speed:1.007 MPH",
            "nflId:46097<br>displayName:Terrell Edmunds<br>Player Speed:2.17 MPH",
            "nflId:46902<br>displayName:Robert Spillane<br>Player Speed:0.201 MPH",
            "nflId:52971<br>displayName:Jamir Jones<br>Player Speed:0.0 MPH",
            "nflId:54549<br>displayName:DeMarvin Leal<br>Player Speed:0.0 MPH"
           ],
           "marker": {
            "color": "#FFB612",
            "line": {
             "color": "#101820",
             "width": 2
            },
            "size": 10
           },
           "mode": "markers",
           "name": "PIT",
           "type": "scatter",
           "x": [
            74.98,
            78.81,
            74.66,
            78,
            79.44,
            77.38,
            83.71,
            84.47,
            78.88,
            75.04,
            74.69
           ],
           "y": [
            30.8,
            27.14,
            22.95,
            21.01,
            41.41,
            38.2,
            35.89,
            24.84,
            31.42,
            34.86,
            27.11
           ]
          },
          {
           "hoverinfo": "text",
           "hovertext": [
            "nflId:42654<br>displayName:La'el Collins<br>Player Speed:0.0 MPH",
            "nflId:43344<br>displayName:Tyler Boyd<br>Player Speed:0.045 MPH",
            "nflId:43495<br>displayName:Mike Thomas<br>Player Speed:0.0 MPH",
            "nflId:43510<br>displayName:Ted Karras<br>Player Speed:0.0 MPH",
            "nflId:44860<br>displayName:Joe Mixon<br>Player Speed:0.0 MPH",
            "nflId:46163<br>displayName:Alex Cappa<br>Player Speed:0.0 MPH",
            "nflId:47794<br>displayName:Jonah Williams<br>Player Speed:0.0 MPH",
            "nflId:47835<br>displayName:Drew Sample<br>Player Speed:0.0 MPH",
            "nflId:52409<br>displayName:Joe Burrow<br>Player Speed:0.112 MPH",
            "nflId:53434<br>displayName:Ja'Marr Chase<br>Player Speed:0.447 MPH",
            "nflId:54601<br>displayName:Cordell Volson<br>Player Speed:0.0 MPH"
           ],
           "marker": {
            "color": "#000000",
            "line": {
             "color": "#FB4F14",
             "width": 2
            },
            "size": 10
           },
           "mode": "markers",
           "name": "CIN",
           "type": "scatter",
           "x": [
            72.75,
            73.55,
            72.57,
            73.57,
            68.94,
            72.9,
            72.86,
            72.68,
            69.19,
            69.08,
            73.02
           ],
           "y": [
            26.57,
            36.82,
            38.84,
            29.67,
            26.99,
            28.22,
            32.66,
            24.84,
            29.84,
            31.78,
            31.29
           ]
          },
          {
           "hoverinfo": "none",
           "marker": {
            "color": "#CBB67C",
            "line": {
             "color": "#663831",
             "width": 2
            },
            "size": 10
           },
           "mode": "markers",
           "name": "football",
           "type": "scatter",
           "x": [
            73.8099975585938
           ],
           "y": [
            29.6800003051758
           ]
          }
         ],
         "name": "73"
        },
        {
         "data": [
          {
           "hoverinfo": "none",
           "mode": "text",
           "showlegend": false,
           "text": [
            "10",
            "20",
            "30",
            "40",
            "50",
            "40",
            "30",
            "20",
            "10"
           ],
           "textfont": {
            "color": "#ffffff",
            "family": "Courier New, monospace",
            "size": 30
           },
           "type": "scatter",
           "x": [
            20,
            30,
            40,
            50,
            60,
            70,
            80,
            90,
            100
           ],
           "y": [
            5,
            5,
            5,
            5,
            5,
            5,
            5,
            5,
            5
           ]
          },
          {
           "hoverinfo": "none",
           "mode": "text",
           "showlegend": false,
           "text": [
            "10",
            "20",
            "30",
            "40",
            "50",
            "40",
            "30",
            "20",
            "10"
           ],
           "textfont": {
            "color": "#ffffff",
            "family": "Courier New, monospace",
            "size": 30
           },
           "type": "scatter",
           "x": [
            20,
            30,
            40,
            50,
            60,
            70,
            80,
            90,
            100
           ],
           "y": [
            48.5,
            48.5,
            48.5,
            48.5,
            48.5,
            48.5,
            48.5,
            48.5,
            48.5
           ]
          },
          {
           "hoverinfo": "none",
           "line": {
            "color": "blue",
            "dash": "dash"
           },
           "showlegend": false,
           "type": "scatter",
           "x": [
            74,
            74
           ],
           "y": [
            0,
            53.5
           ]
          },
          {
           "hoverinfo": "none",
           "line": {
            "color": "yellow",
            "dash": "dash"
           },
           "showlegend": false,
           "type": "scatter",
           "x": [
            80,
            80
           ],
           "y": [
            0,
            53.5
           ]
          },
          {
           "fill": "toself",
           "fillcolor": "#000000",
           "hoverinfo": "skip",
           "line": {
            "color": "white",
            "width": 3
           },
           "mode": "lines",
           "opacity": 1,
           "showlegend": false,
           "type": "scatter",
           "x": [
            0,
            0,
            10,
            10,
            0
           ],
           "y": [
            0,
            53.5,
            53.5,
            0,
            0
           ]
          },
          {
           "fill": "toself",
           "fillcolor": "#FFB612",
           "hoverinfo": "skip",
           "line": {
            "color": "white",
            "width": 3
           },
           "mode": "lines",
           "opacity": 1,
           "showlegend": false,
           "type": "scatter",
           "x": [
            110,
            110,
            120,
            120,
            110
           ],
           "y": [
            0,
            53.5,
            53.5,
            0,
            0
           ]
          },
          {
           "hoverinfo": "text",
           "hovertext": [
            "nflId:37104<br>displayName:Cameron Heyward<br>Player Speed:0.0 MPH",
            "nflId:43325<br>displayName:Myles Jack<br>Player Speed:0.224 MPH",
            "nflId:44842<br>displayName:T.J. Watt<br>Player Speed:0.0 MPH",
            "nflId:44878<br>displayName:Ahkello Witherspoon<br>Player Speed:1.946 MPH",
            "nflId:44906<br>displayName:Cameron Sutton<br>Player Speed:1.543 MPH",
            "nflId:45395<br>displayName:Arthur Maulet<br>Player Speed:2.394 MPH",
            "nflId:46080<br>displayName:Minkah Fitzpatrick<br>Player Speed:1.476 MPH",
            "nflId:46097<br>displayName:Terrell Edmunds<br>Player Speed:2.394 MPH",
            "nflId:46902<br>displayName:Robert Spillane<br>Player Speed:0.157 MPH",
            "nflId:52971<br>displayName:Jamir Jones<br>Player Speed:0.0 MPH",
            "nflId:54549<br>displayName:DeMarvin Leal<br>Player Speed:0.0 MPH"
           ],
           "marker": {
            "color": "#FFB612",
            "line": {
             "color": "#101820",
             "width": 2
            },
            "size": 10
           },
           "mode": "markers",
           "name": "PIT",
           "type": "scatter",
           "x": [
            74.98,
            78.81,
            74.66,
            77.96,
            79.5,
            77.27,
            83.76,
            84.57,
            78.88,
            75.04,
            74.69
           ],
           "y": [
            30.8,
            27.14,
            22.96,
            20.93,
            41.42,
            38.2,
            35.87,
            24.84,
            31.43,
            34.86,
            27.1
           ]
          },
          {
           "hoverinfo": "text",
           "hovertext": [
            "nflId:42654<br>displayName:La'el Collins<br>Player Speed:0.0 MPH",
            "nflId:43344<br>displayName:Tyler Boyd<br>Player Speed:0.045 MPH",
            "nflId:43495<br>displayName:Mike Thomas<br>Player Speed:0.0 MPH",
            "nflId:43510<br>displayName:Ted Karras<br>Player Speed:0.0 MPH",
            "nflId:44860<br>displayName:Joe Mixon<br>Player Speed:0.0 MPH",
            "nflId:46163<br>displayName:Alex Cappa<br>Player Speed:0.0 MPH",
            "nflId:47794<br>displayName:Jonah Williams<br>Player Speed:0.0 MPH",
            "nflId:47835<br>displayName:Drew Sample<br>Player Speed:0.0 MPH",
            "nflId:52409<br>displayName:Joe Burrow<br>Player Speed:0.112 MPH",
            "nflId:53434<br>displayName:Ja'Marr Chase<br>Player Speed:0.447 MPH",
            "nflId:54601<br>displayName:Cordell Volson<br>Player Speed:0.0 MPH"
           ],
           "marker": {
            "color": "#000000",
            "line": {
             "color": "#FB4F14",
             "width": 2
            },
            "size": 10
           },
           "mode": "markers",
           "name": "CIN",
           "type": "scatter",
           "x": [
            72.75,
            73.56,
            72.56,
            73.57,
            68.94,
            72.91,
            72.87,
            72.68,
            69.2,
            69.08,
            73.02
           ],
           "y": [
            26.57,
            36.82,
            38.84,
            29.67,
            27,
            28.22,
            32.65,
            24.84,
            29.85,
            31.8,
            31.29
           ]
          },
          {
           "hoverinfo": "none",
           "marker": {
            "color": "#CBB67C",
            "line": {
             "color": "#663831",
             "width": 2
            },
            "size": 10
           },
           "mode": "markers",
           "name": "football",
           "type": "scatter",
           "x": [
            73.8099975585938
           ],
           "y": [
            29.6800003051758
           ]
          }
         ],
         "name": "74"
        },
        {
         "data": [
          {
           "hoverinfo": "none",
           "mode": "text",
           "showlegend": false,
           "text": [
            "10",
            "20",
            "30",
            "40",
            "50",
            "40",
            "30",
            "20",
            "10"
           ],
           "textfont": {
            "color": "#ffffff",
            "family": "Courier New, monospace",
            "size": 30
           },
           "type": "scatter",
           "x": [
            20,
            30,
            40,
            50,
            60,
            70,
            80,
            90,
            100
           ],
           "y": [
            5,
            5,
            5,
            5,
            5,
            5,
            5,
            5,
            5
           ]
          },
          {
           "hoverinfo": "none",
           "mode": "text",
           "showlegend": false,
           "text": [
            "10",
            "20",
            "30",
            "40",
            "50",
            "40",
            "30",
            "20",
            "10"
           ],
           "textfont": {
            "color": "#ffffff",
            "family": "Courier New, monospace",
            "size": 30
           },
           "type": "scatter",
           "x": [
            20,
            30,
            40,
            50,
            60,
            70,
            80,
            90,
            100
           ],
           "y": [
            48.5,
            48.5,
            48.5,
            48.5,
            48.5,
            48.5,
            48.5,
            48.5,
            48.5
           ]
          },
          {
           "hoverinfo": "none",
           "line": {
            "color": "blue",
            "dash": "dash"
           },
           "showlegend": false,
           "type": "scatter",
           "x": [
            74,
            74
           ],
           "y": [
            0,
            53.5
           ]
          },
          {
           "hoverinfo": "none",
           "line": {
            "color": "yellow",
            "dash": "dash"
           },
           "showlegend": false,
           "type": "scatter",
           "x": [
            80,
            80
           ],
           "y": [
            0,
            53.5
           ]
          },
          {
           "fill": "toself",
           "fillcolor": "#000000",
           "hoverinfo": "skip",
           "line": {
            "color": "white",
            "width": 3
           },
           "mode": "lines",
           "opacity": 1,
           "showlegend": false,
           "type": "scatter",
           "x": [
            0,
            0,
            10,
            10,
            0
           ],
           "y": [
            0,
            53.5,
            53.5,
            0,
            0
           ]
          },
          {
           "fill": "toself",
           "fillcolor": "#FFB612",
           "hoverinfo": "skip",
           "line": {
            "color": "white",
            "width": 3
           },
           "mode": "lines",
           "opacity": 1,
           "showlegend": false,
           "type": "scatter",
           "x": [
            110,
            110,
            120,
            120,
            110
           ],
           "y": [
            0,
            53.5,
            53.5,
            0,
            0
           ]
          },
          {
           "hoverinfo": "text",
           "hovertext": [
            "nflId:37104<br>displayName:Cameron Heyward<br>Player Speed:0.0 MPH",
            "nflId:43325<br>displayName:Myles Jack<br>Player Speed:0.291 MPH",
            "nflId:44842<br>displayName:T.J. Watt<br>Player Speed:0.0 MPH",
            "nflId:44878<br>displayName:Ahkello Witherspoon<br>Player Speed:2.058 MPH",
            "nflId:44906<br>displayName:Cameron Sutton<br>Player Speed:1.566 MPH",
            "nflId:45395<br>displayName:Arthur Maulet<br>Player Speed:2.461 MPH",
            "nflId:46080<br>displayName:Minkah Fitzpatrick<br>Player Speed:1.812 MPH",
            "nflId:46097<br>displayName:Terrell Edmunds<br>Player Speed:2.461 MPH",
            "nflId:46902<br>displayName:Robert Spillane<br>Player Speed:0.201 MPH",
            "nflId:52971<br>displayName:Jamir Jones<br>Player Speed:0.0 MPH",
            "nflId:54549<br>displayName:DeMarvin Leal<br>Player Speed:0.0 MPH"
           ],
           "marker": {
            "color": "#FFB612",
            "line": {
             "color": "#101820",
             "width": 2
            },
            "size": 10
           },
           "mode": "markers",
           "name": "PIT",
           "type": "scatter",
           "x": [
            74.98,
            78.81,
            74.65,
            77.93,
            79.56,
            77.16,
            83.83,
            84.68,
            78.89,
            75.04,
            74.68
           ],
           "y": [
            30.8,
            27.15,
            22.97,
            20.85,
            41.44,
            38.2,
            35.85,
            24.85,
            31.43,
            34.86,
            27.1
           ]
          },
          {
           "hoverinfo": "text",
           "hovertext": [
            "nflId:42654<br>displayName:La'el Collins<br>Player Speed:0.0 MPH",
            "nflId:43344<br>displayName:Tyler Boyd<br>Player Speed:0.045 MPH",
            "nflId:43495<br>displayName:Mike Thomas<br>Player Speed:0.0 MPH",
            "nflId:43510<br>displayName:Ted Karras<br>Player Speed:0.0 MPH",
            "nflId:44860<br>displayName:Joe Mixon<br>Player Speed:0.0 MPH",
            "nflId:46163<br>displayName:Alex Cappa<br>Player Speed:0.0 MPH",
            "nflId:47794<br>displayName:Jonah Williams<br>Player Speed:0.0 MPH",
            "nflId:47835<br>displayName:Drew Sample<br>Player Speed:0.0 MPH",
            "nflId:52409<br>displayName:Joe Burrow<br>Player Speed:0.089 MPH",
            "nflId:53434<br>displayName:Ja'Marr Chase<br>Player Speed:0.358 MPH",
            "nflId:54601<br>displayName:Cordell Volson<br>Player Speed:0.0 MPH"
           ],
           "marker": {
            "color": "#000000",
            "line": {
             "color": "#FB4F14",
             "width": 2
            },
            "size": 10
           },
           "mode": "markers",
           "name": "CIN",
           "type": "scatter",
           "x": [
            72.75,
            73.55,
            72.56,
            73.57,
            68.94,
            72.91,
            72.87,
            72.68,
            69.2,
            69.08,
            73.02
           ],
           "y": [
            26.57,
            36.81,
            38.83,
            29.67,
            27,
            28.22,
            32.65,
            24.84,
            29.84,
            31.81,
            31.29
           ]
          },
          {
           "hoverinfo": "none",
           "marker": {
            "color": "#CBB67C",
            "line": {
             "color": "#663831",
             "width": 2
            },
            "size": 10
           },
           "mode": "markers",
           "name": "football",
           "type": "scatter",
           "x": [
            73.8099975585938
           ],
           "y": [
            29.6800003051758
           ]
          }
         ],
         "name": "75"
        },
        {
         "data": [
          {
           "hoverinfo": "none",
           "mode": "text",
           "showlegend": false,
           "text": [
            "10",
            "20",
            "30",
            "40",
            "50",
            "40",
            "30",
            "20",
            "10"
           ],
           "textfont": {
            "color": "#ffffff",
            "family": "Courier New, monospace",
            "size": 30
           },
           "type": "scatter",
           "x": [
            20,
            30,
            40,
            50,
            60,
            70,
            80,
            90,
            100
           ],
           "y": [
            5,
            5,
            5,
            5,
            5,
            5,
            5,
            5,
            5
           ]
          },
          {
           "hoverinfo": "none",
           "mode": "text",
           "showlegend": false,
           "text": [
            "10",
            "20",
            "30",
            "40",
            "50",
            "40",
            "30",
            "20",
            "10"
           ],
           "textfont": {
            "color": "#ffffff",
            "family": "Courier New, monospace",
            "size": 30
           },
           "type": "scatter",
           "x": [
            20,
            30,
            40,
            50,
            60,
            70,
            80,
            90,
            100
           ],
           "y": [
            48.5,
            48.5,
            48.5,
            48.5,
            48.5,
            48.5,
            48.5,
            48.5,
            48.5
           ]
          },
          {
           "hoverinfo": "none",
           "line": {
            "color": "blue",
            "dash": "dash"
           },
           "showlegend": false,
           "type": "scatter",
           "x": [
            74,
            74
           ],
           "y": [
            0,
            53.5
           ]
          },
          {
           "hoverinfo": "none",
           "line": {
            "color": "yellow",
            "dash": "dash"
           },
           "showlegend": false,
           "type": "scatter",
           "x": [
            80,
            80
           ],
           "y": [
            0,
            53.5
           ]
          },
          {
           "fill": "toself",
           "fillcolor": "#000000",
           "hoverinfo": "skip",
           "line": {
            "color": "white",
            "width": 3
           },
           "mode": "lines",
           "opacity": 1,
           "showlegend": false,
           "type": "scatter",
           "x": [
            0,
            0,
            10,
            10,
            0
           ],
           "y": [
            0,
            53.5,
            53.5,
            0,
            0
           ]
          },
          {
           "fill": "toself",
           "fillcolor": "#FFB612",
           "hoverinfo": "skip",
           "line": {
            "color": "white",
            "width": 3
           },
           "mode": "lines",
           "opacity": 1,
           "showlegend": false,
           "type": "scatter",
           "x": [
            110,
            110,
            120,
            120,
            110
           ],
           "y": [
            0,
            53.5,
            53.5,
            0,
            0
           ]
          },
          {
           "hoverinfo": "text",
           "hovertext": [
            "nflId:37104<br>displayName:Cameron Heyward<br>Player Speed:0.0 MPH",
            "nflId:43325<br>displayName:Myles Jack<br>Player Speed:0.425 MPH",
            "nflId:44842<br>displayName:T.J. Watt<br>Player Speed:0.0 MPH",
            "nflId:44878<br>displayName:Ahkello Witherspoon<br>Player Speed:1.969 MPH",
            "nflId:44906<br>displayName:Cameron Sutton<br>Player Speed:1.566 MPH",
            "nflId:45395<br>displayName:Arthur Maulet<br>Player Speed:2.438 MPH",
            "nflId:46080<br>displayName:Minkah Fitzpatrick<br>Player Speed:2.08 MPH",
            "nflId:46097<br>displayName:Terrell Edmunds<br>Player Speed:2.528 MPH",
            "nflId:46902<br>displayName:Robert Spillane<br>Player Speed:0.291 MPH",
            "nflId:52971<br>displayName:Jamir Jones<br>Player Speed:0.0 MPH",
            "nflId:54549<br>displayName:DeMarvin Leal<br>Player Speed:0.0 MPH"
           ],
           "marker": {
            "color": "#FFB612",
            "line": {
             "color": "#101820",
             "width": 2
            },
            "size": 10
           },
           "mode": "markers",
           "name": "PIT",
           "type": "scatter",
           "x": [
            74.98,
            78.81,
            74.65,
            77.9,
            79.63,
            77.06,
            83.92,
            84.79,
            78.89,
            75.04,
            74.68
           ],
           "y": [
            30.8,
            27.17,
            22.97,
            20.76,
            41.46,
            38.2,
            35.84,
            24.86,
            31.45,
            34.87,
            27.1
           ]
          },
          {
           "hoverinfo": "text",
           "hovertext": [
            "nflId:42654<br>displayName:La'el Collins<br>Player Speed:0.0 MPH",
            "nflId:43344<br>displayName:Tyler Boyd<br>Player Speed:0.045 MPH",
            "nflId:43495<br>displayName:Mike Thomas<br>Player Speed:0.0 MPH",
            "nflId:43510<br>displayName:Ted Karras<br>Player Speed:0.0 MPH",
            "nflId:44860<br>displayName:Joe Mixon<br>Player Speed:0.0 MPH",
            "nflId:46163<br>displayName:Alex Cappa<br>Player Speed:0.0 MPH",
            "nflId:47794<br>displayName:Jonah Williams<br>Player Speed:0.0 MPH",
            "nflId:47835<br>displayName:Drew Sample<br>Player Speed:0.0 MPH",
            "nflId:52409<br>displayName:Joe Burrow<br>Player Speed:0.089 MPH",
            "nflId:53434<br>displayName:Ja'Marr Chase<br>Player Speed:0.336 MPH",
            "nflId:54601<br>displayName:Cordell Volson<br>Player Speed:0.0 MPH"
           ],
           "marker": {
            "color": "#000000",
            "line": {
             "color": "#FB4F14",
             "width": 2
            },
            "size": 10
           },
           "mode": "markers",
           "name": "CIN",
           "type": "scatter",
           "x": [
            72.75,
            73.55,
            72.55,
            73.57,
            68.94,
            72.91,
            72.87,
            72.68,
            69.2,
            69.06,
            73.02
           ],
           "y": [
            26.57,
            36.8,
            38.81,
            29.68,
            27,
            28.22,
            32.65,
            24.84,
            29.85,
            31.82,
            31.28
           ]
          },
          {
           "hoverinfo": "none",
           "marker": {
            "color": "#CBB67C",
            "line": {
             "color": "#663831",
             "width": 2
            },
            "size": 10
           },
           "mode": "markers",
           "name": "football",
           "type": "scatter",
           "x": [
            73.8099975585938
           ],
           "y": [
            29.6800003051758
           ]
          }
         ],
         "name": "76"
        },
        {
         "data": [
          {
           "hoverinfo": "none",
           "mode": "text",
           "showlegend": false,
           "text": [
            "10",
            "20",
            "30",
            "40",
            "50",
            "40",
            "30",
            "20",
            "10"
           ],
           "textfont": {
            "color": "#ffffff",
            "family": "Courier New, monospace",
            "size": 30
           },
           "type": "scatter",
           "x": [
            20,
            30,
            40,
            50,
            60,
            70,
            80,
            90,
            100
           ],
           "y": [
            5,
            5,
            5,
            5,
            5,
            5,
            5,
            5,
            5
           ]
          },
          {
           "hoverinfo": "none",
           "mode": "text",
           "showlegend": false,
           "text": [
            "10",
            "20",
            "30",
            "40",
            "50",
            "40",
            "30",
            "20",
            "10"
           ],
           "textfont": {
            "color": "#ffffff",
            "family": "Courier New, monospace",
            "size": 30
           },
           "type": "scatter",
           "x": [
            20,
            30,
            40,
            50,
            60,
            70,
            80,
            90,
            100
           ],
           "y": [
            48.5,
            48.5,
            48.5,
            48.5,
            48.5,
            48.5,
            48.5,
            48.5,
            48.5
           ]
          },
          {
           "hoverinfo": "none",
           "line": {
            "color": "blue",
            "dash": "dash"
           },
           "showlegend": false,
           "type": "scatter",
           "x": [
            74,
            74
           ],
           "y": [
            0,
            53.5
           ]
          },
          {
           "hoverinfo": "none",
           "line": {
            "color": "yellow",
            "dash": "dash"
           },
           "showlegend": false,
           "type": "scatter",
           "x": [
            80,
            80
           ],
           "y": [
            0,
            53.5
           ]
          },
          {
           "fill": "toself",
           "fillcolor": "#000000",
           "hoverinfo": "skip",
           "line": {
            "color": "white",
            "width": 3
           },
           "mode": "lines",
           "opacity": 1,
           "showlegend": false,
           "type": "scatter",
           "x": [
            0,
            0,
            10,
            10,
            0
           ],
           "y": [
            0,
            53.5,
            53.5,
            0,
            0
           ]
          },
          {
           "fill": "toself",
           "fillcolor": "#FFB612",
           "hoverinfo": "skip",
           "line": {
            "color": "white",
            "width": 3
           },
           "mode": "lines",
           "opacity": 1,
           "showlegend": false,
           "type": "scatter",
           "x": [
            110,
            110,
            120,
            120,
            110
           ],
           "y": [
            0,
            53.5,
            53.5,
            0,
            0
           ]
          },
          {
           "hoverinfo": "text",
           "hovertext": [
            "nflId:37104<br>displayName:Cameron Heyward<br>Player Speed:0.0 MPH",
            "nflId:43325<br>displayName:Myles Jack<br>Player Speed:0.492 MPH",
            "nflId:44842<br>displayName:T.J. Watt<br>Player Speed:0.0 MPH",
            "nflId:44878<br>displayName:Ahkello Witherspoon<br>Player Speed:1.879 MPH",
            "nflId:44906<br>displayName:Cameron Sutton<br>Player Speed:1.454 MPH",
            "nflId:45395<br>displayName:Arthur Maulet<br>Player Speed:2.259 MPH",
            "nflId:46080<br>displayName:Minkah Fitzpatrick<br>Player Speed:2.259 MPH",
            "nflId:46097<br>displayName:Terrell Edmunds<br>Player Speed:2.617 MPH",
            "nflId:46902<br>displayName:Robert Spillane<br>Player Speed:0.089 MPH",
            "nflId:52971<br>displayName:Jamir Jones<br>Player Speed:0.0 MPH",
            "nflId:54549<br>displayName:DeMarvin Leal<br>Player Speed:0.0 MPH"
           ],
           "marker": {
            "color": "#FFB612",
            "line": {
             "color": "#101820",
             "width": 2
            },
            "size": 10
           },
           "mode": "markers",
           "name": "PIT",
           "type": "scatter",
           "x": [
            74.98,
            78.8,
            74.65,
            77.89,
            79.7,
            76.95,
            84.02,
            84.9,
            78.89,
            75.04,
            74.67
           ],
           "y": [
            30.8,
            27.19,
            22.98,
            20.68,
            41.47,
            38.19,
            35.84,
            24.87,
            31.44,
            34.87,
            27.11
           ]
          },
          {
           "hoverinfo": "text",
           "hovertext": [
            "nflId:42654<br>displayName:La'el Collins<br>Player Speed:0.0 MPH",
            "nflId:43344<br>displayName:Tyler Boyd<br>Player Speed:0.045 MPH",
            "nflId:43495<br>displayName:Mike Thomas<br>Player Speed:0.425 MPH",
            "nflId:43510<br>displayName:Ted Karras<br>Player Speed:0.0 MPH",
            "nflId:44860<br>displayName:Joe Mixon<br>Player Speed:0.0 MPH",
            "nflId:46163<br>displayName:Alex Cappa<br>Player Speed:0.0 MPH",
            "nflId:47794<br>displayName:Jonah Williams<br>Player Speed:0.0 MPH",
            "nflId:47835<br>displayName:Drew Sample<br>Player Speed:0.0 MPH",
            "nflId:52409<br>displayName:Joe Burrow<br>Player Speed:0.067 MPH",
            "nflId:53434<br>displayName:Ja'Marr Chase<br>Player Speed:0.313 MPH",
            "nflId:54601<br>displayName:Cordell Volson<br>Player Speed:0.0 MPH"
           ],
           "marker": {
            "color": "#000000",
            "line": {
             "color": "#FB4F14",
             "width": 2
            },
            "size": 10
           },
           "mode": "markers",
           "name": "CIN",
           "type": "scatter",
           "x": [
            72.75,
            73.55,
            72.54,
            73.57,
            68.94,
            72.91,
            72.87,
            72.68,
            69.2,
            69.06,
            73.02
           ],
           "y": [
            26.57,
            36.79,
            38.8,
            29.68,
            27,
            28.22,
            32.65,
            24.84,
            29.86,
            31.83,
            31.28
           ]
          },
          {
           "hoverinfo": "none",
           "marker": {
            "color": "#CBB67C",
            "line": {
             "color": "#663831",
             "width": 2
            },
            "size": 10
           },
           "mode": "markers",
           "name": "football",
           "type": "scatter",
           "x": [
            73.8099975585938
           ],
           "y": [
            29.6800003051758
           ]
          }
         ],
         "name": "77"
        },
        {
         "data": [
          {
           "hoverinfo": "none",
           "mode": "text",
           "showlegend": false,
           "text": [
            "10",
            "20",
            "30",
            "40",
            "50",
            "40",
            "30",
            "20",
            "10"
           ],
           "textfont": {
            "color": "#ffffff",
            "family": "Courier New, monospace",
            "size": 30
           },
           "type": "scatter",
           "x": [
            20,
            30,
            40,
            50,
            60,
            70,
            80,
            90,
            100
           ],
           "y": [
            5,
            5,
            5,
            5,
            5,
            5,
            5,
            5,
            5
           ]
          },
          {
           "hoverinfo": "none",
           "mode": "text",
           "showlegend": false,
           "text": [
            "10",
            "20",
            "30",
            "40",
            "50",
            "40",
            "30",
            "20",
            "10"
           ],
           "textfont": {
            "color": "#ffffff",
            "family": "Courier New, monospace",
            "size": 30
           },
           "type": "scatter",
           "x": [
            20,
            30,
            40,
            50,
            60,
            70,
            80,
            90,
            100
           ],
           "y": [
            48.5,
            48.5,
            48.5,
            48.5,
            48.5,
            48.5,
            48.5,
            48.5,
            48.5
           ]
          },
          {
           "hoverinfo": "none",
           "line": {
            "color": "blue",
            "dash": "dash"
           },
           "showlegend": false,
           "type": "scatter",
           "x": [
            74,
            74
           ],
           "y": [
            0,
            53.5
           ]
          },
          {
           "hoverinfo": "none",
           "line": {
            "color": "yellow",
            "dash": "dash"
           },
           "showlegend": false,
           "type": "scatter",
           "x": [
            80,
            80
           ],
           "y": [
            0,
            53.5
           ]
          },
          {
           "fill": "toself",
           "fillcolor": "#000000",
           "hoverinfo": "skip",
           "line": {
            "color": "white",
            "width": 3
           },
           "mode": "lines",
           "opacity": 1,
           "showlegend": false,
           "type": "scatter",
           "x": [
            0,
            0,
            10,
            10,
            0
           ],
           "y": [
            0,
            53.5,
            53.5,
            0,
            0
           ]
          },
          {
           "fill": "toself",
           "fillcolor": "#FFB612",
           "hoverinfo": "skip",
           "line": {
            "color": "white",
            "width": 3
           },
           "mode": "lines",
           "opacity": 1,
           "showlegend": false,
           "type": "scatter",
           "x": [
            110,
            110,
            120,
            120,
            110
           ],
           "y": [
            0,
            53.5,
            53.5,
            0,
            0
           ]
          },
          {
           "hoverinfo": "text",
           "hovertext": [
            "nflId:37104<br>displayName:Cameron Heyward<br>Player Speed:0.0 MPH",
            "nflId:43325<br>displayName:Myles Jack<br>Player Speed:0.447 MPH",
            "nflId:44842<br>displayName:T.J. Watt<br>Player Speed:0.0 MPH",
            "nflId:44878<br>displayName:Ahkello Witherspoon<br>Player Speed:1.834 MPH",
            "nflId:44906<br>displayName:Cameron Sutton<br>Player Speed:1.297 MPH",
            "nflId:45395<br>displayName:Arthur Maulet<br>Player Speed:2.103 MPH",
            "nflId:46080<br>displayName:Minkah Fitzpatrick<br>Player Speed:2.304 MPH",
            "nflId:46097<br>displayName:Terrell Edmunds<br>Player Speed:2.684 MPH",
            "nflId:46902<br>displayName:Robert Spillane<br>Player Speed:0.045 MPH",
            "nflId:52971<br>displayName:Jamir Jones<br>Player Speed:0.0 MPH",
            "nflId:54549<br>displayName:DeMarvin Leal<br>Player Speed:0.0 MPH"
           ],
           "marker": {
            "color": "#FFB612",
            "line": {
             "color": "#101820",
             "width": 2
            },
            "size": 10
           },
           "mode": "markers",
           "name": "PIT",
           "type": "scatter",
           "x": [
            74.98,
            78.8,
            74.65,
            77.87,
            79.76,
            76.85,
            84.12,
            85.02,
            78.89,
            75.05,
            74.67
           ],
           "y": [
            30.8,
            27.21,
            22.98,
            20.6,
            41.47,
            38.19,
            35.84,
            24.89,
            31.44,
            34.87,
            27.11
           ]
          },
          {
           "hoverinfo": "text",
           "hovertext": [
            "nflId:42654<br>displayName:La'el Collins<br>Player Speed:0.0 MPH",
            "nflId:43344<br>displayName:Tyler Boyd<br>Player Speed:0.045 MPH",
            "nflId:43495<br>displayName:Mike Thomas<br>Player Speed:1.543 MPH",
            "nflId:43510<br>displayName:Ted Karras<br>Player Speed:0.0 MPH",
            "nflId:44860<br>displayName:Joe Mixon<br>Player Speed:0.0 MPH",
            "nflId:46163<br>displayName:Alex Cappa<br>Player Speed:0.0 MPH",
            "nflId:47794<br>displayName:Jonah Williams<br>Player Speed:0.0 MPH",
            "nflId:47835<br>displayName:Drew Sample<br>Player Speed:0.0 MPH",
            "nflId:52409<br>displayName:Joe Burrow<br>Player Speed:0.067 MPH",
            "nflId:53434<br>displayName:Ja'Marr Chase<br>Player Speed:0.291 MPH",
            "nflId:54601<br>displayName:Cordell Volson<br>Player Speed:0.0 MPH"
           ],
           "marker": {
            "color": "#000000",
            "line": {
             "color": "#FB4F14",
             "width": 2
            },
            "size": 10
           },
           "mode": "markers",
           "name": "CIN",
           "type": "scatter",
           "x": [
            72.75,
            73.55,
            72.52,
            73.57,
            68.94,
            72.91,
            72.87,
            72.68,
            69.2,
            69.06,
            73.02
           ],
           "y": [
            26.57,
            36.79,
            38.75,
            29.68,
            26.99,
            28.22,
            32.65,
            24.84,
            29.86,
            31.84,
            31.28
           ]
          },
          {
           "hoverinfo": "none",
           "marker": {
            "color": "#CBB67C",
            "line": {
             "color": "#663831",
             "width": 2
            },
            "size": 10
           },
           "mode": "markers",
           "name": "football",
           "type": "scatter",
           "x": [
            73.8099975585938
           ],
           "y": [
            29.6800003051758
           ]
          }
         ],
         "name": "78"
        },
        {
         "data": [
          {
           "hoverinfo": "none",
           "mode": "text",
           "showlegend": false,
           "text": [
            "10",
            "20",
            "30",
            "40",
            "50",
            "40",
            "30",
            "20",
            "10"
           ],
           "textfont": {
            "color": "#ffffff",
            "family": "Courier New, monospace",
            "size": 30
           },
           "type": "scatter",
           "x": [
            20,
            30,
            40,
            50,
            60,
            70,
            80,
            90,
            100
           ],
           "y": [
            5,
            5,
            5,
            5,
            5,
            5,
            5,
            5,
            5
           ]
          },
          {
           "hoverinfo": "none",
           "mode": "text",
           "showlegend": false,
           "text": [
            "10",
            "20",
            "30",
            "40",
            "50",
            "40",
            "30",
            "20",
            "10"
           ],
           "textfont": {
            "color": "#ffffff",
            "family": "Courier New, monospace",
            "size": 30
           },
           "type": "scatter",
           "x": [
            20,
            30,
            40,
            50,
            60,
            70,
            80,
            90,
            100
           ],
           "y": [
            48.5,
            48.5,
            48.5,
            48.5,
            48.5,
            48.5,
            48.5,
            48.5,
            48.5
           ]
          },
          {
           "hoverinfo": "none",
           "line": {
            "color": "blue",
            "dash": "dash"
           },
           "showlegend": false,
           "type": "scatter",
           "x": [
            74,
            74
           ],
           "y": [
            0,
            53.5
           ]
          },
          {
           "hoverinfo": "none",
           "line": {
            "color": "yellow",
            "dash": "dash"
           },
           "showlegend": false,
           "type": "scatter",
           "x": [
            80,
            80
           ],
           "y": [
            0,
            53.5
           ]
          },
          {
           "fill": "toself",
           "fillcolor": "#000000",
           "hoverinfo": "skip",
           "line": {
            "color": "white",
            "width": 3
           },
           "mode": "lines",
           "opacity": 1,
           "showlegend": false,
           "type": "scatter",
           "x": [
            0,
            0,
            10,
            10,
            0
           ],
           "y": [
            0,
            53.5,
            53.5,
            0,
            0
           ]
          },
          {
           "fill": "toself",
           "fillcolor": "#FFB612",
           "hoverinfo": "skip",
           "line": {
            "color": "white",
            "width": 3
           },
           "mode": "lines",
           "opacity": 1,
           "showlegend": false,
           "type": "scatter",
           "x": [
            110,
            110,
            120,
            120,
            110
           ],
           "y": [
            0,
            53.5,
            53.5,
            0,
            0
           ]
          },
          {
           "hoverinfo": "text",
           "hovertext": [
            "nflId:37104<br>displayName:Cameron Heyward<br>Player Speed:0.0 MPH",
            "nflId:43325<br>displayName:Myles Jack<br>Player Speed:0.447 MPH",
            "nflId:44842<br>displayName:T.J. Watt<br>Player Speed:0.0 MPH",
            "nflId:44878<br>displayName:Ahkello Witherspoon<br>Player Speed:1.722 MPH",
            "nflId:44906<br>displayName:Cameron Sutton<br>Player Speed:1.029 MPH",
            "nflId:45395<br>displayName:Arthur Maulet<br>Player Speed:1.812 MPH",
            "nflId:46080<br>displayName:Minkah Fitzpatrick<br>Player Speed:2.304 MPH",
            "nflId:46097<br>displayName:Terrell Edmunds<br>Player Speed:2.662 MPH",
            "nflId:46902<br>displayName:Robert Spillane<br>Player Speed:0.201 MPH",
            "nflId:52971<br>displayName:Jamir Jones<br>Player Speed:0.0 MPH",
            "nflId:54549<br>displayName:DeMarvin Leal<br>Player Speed:0.0 MPH"
           ],
           "marker": {
            "color": "#FFB612",
            "line": {
             "color": "#101820",
             "width": 2
            },
            "size": 10
           },
           "mode": "markers",
           "name": "PIT",
           "type": "scatter",
           "x": [
            74.98,
            78.79,
            74.65,
            77.87,
            79.81,
            76.77,
            84.22,
            85.14,
            78.89,
            75.05,
            74.66
           ],
           "y": [
            30.8,
            27.23,
            22.99,
            20.52,
            41.47,
            38.17,
            35.85,
            24.91,
            31.42,
            34.88,
            27.11
           ]
          },
          {
           "hoverinfo": "text",
           "hovertext": [
            "nflId:42654<br>displayName:La'el Collins<br>Player Speed:0.0 MPH",
            "nflId:43344<br>displayName:Tyler Boyd<br>Player Speed:0.045 MPH",
            "nflId:43495<br>displayName:Mike Thomas<br>Player Speed:2.908 MPH",
            "nflId:43510<br>displayName:Ted Karras<br>Player Speed:0.0 MPH",
            "nflId:44860<br>displayName:Joe Mixon<br>Player Speed:0.0 MPH",
            "nflId:46163<br>displayName:Alex Cappa<br>Player Speed:0.0 MPH",
            "nflId:47794<br>displayName:Jonah Williams<br>Player Speed:0.0 MPH",
            "nflId:47835<br>displayName:Drew Sample<br>Player Speed:0.0 MPH",
            "nflId:52409<br>displayName:Joe Burrow<br>Player Speed:0.067 MPH",
            "nflId:53434<br>displayName:Ja'Marr Chase<br>Player Speed:0.268 MPH",
            "nflId:54601<br>displayName:Cordell Volson<br>Player Speed:0.0 MPH"
           ],
           "marker": {
            "color": "#000000",
            "line": {
             "color": "#FB4F14",
             "width": 2
            },
            "size": 10
           },
           "mode": "markers",
           "name": "CIN",
           "type": "scatter",
           "x": [
            72.75,
            73.55,
            72.47,
            73.57,
            68.94,
            72.91,
            72.87,
            72.68,
            69.21,
            69.05,
            73.02
           ],
           "y": [
            26.57,
            36.77,
            38.65,
            29.68,
            26.99,
            28.22,
            32.65,
            24.84,
            29.86,
            31.85,
            31.28
           ]
          },
          {
           "hoverinfo": "none",
           "marker": {
            "color": "#CBB67C",
            "line": {
             "color": "#663831",
             "width": 2
            },
            "size": 10
           },
           "mode": "markers",
           "name": "football",
           "type": "scatter",
           "x": [
            73.8099975585938
           ],
           "y": [
            29.6800003051758
           ]
          }
         ],
         "name": "79"
        },
        {
         "data": [
          {
           "hoverinfo": "none",
           "mode": "text",
           "showlegend": false,
           "text": [
            "10",
            "20",
            "30",
            "40",
            "50",
            "40",
            "30",
            "20",
            "10"
           ],
           "textfont": {
            "color": "#ffffff",
            "family": "Courier New, monospace",
            "size": 30
           },
           "type": "scatter",
           "x": [
            20,
            30,
            40,
            50,
            60,
            70,
            80,
            90,
            100
           ],
           "y": [
            5,
            5,
            5,
            5,
            5,
            5,
            5,
            5,
            5
           ]
          },
          {
           "hoverinfo": "none",
           "mode": "text",
           "showlegend": false,
           "text": [
            "10",
            "20",
            "30",
            "40",
            "50",
            "40",
            "30",
            "20",
            "10"
           ],
           "textfont": {
            "color": "#ffffff",
            "family": "Courier New, monospace",
            "size": 30
           },
           "type": "scatter",
           "x": [
            20,
            30,
            40,
            50,
            60,
            70,
            80,
            90,
            100
           ],
           "y": [
            48.5,
            48.5,
            48.5,
            48.5,
            48.5,
            48.5,
            48.5,
            48.5,
            48.5
           ]
          },
          {
           "hoverinfo": "none",
           "line": {
            "color": "blue",
            "dash": "dash"
           },
           "showlegend": false,
           "type": "scatter",
           "x": [
            74,
            74
           ],
           "y": [
            0,
            53.5
           ]
          },
          {
           "hoverinfo": "none",
           "line": {
            "color": "yellow",
            "dash": "dash"
           },
           "showlegend": false,
           "type": "scatter",
           "x": [
            80,
            80
           ],
           "y": [
            0,
            53.5
           ]
          },
          {
           "fill": "toself",
           "fillcolor": "#000000",
           "hoverinfo": "skip",
           "line": {
            "color": "white",
            "width": 3
           },
           "mode": "lines",
           "opacity": 1,
           "showlegend": false,
           "type": "scatter",
           "x": [
            0,
            0,
            10,
            10,
            0
           ],
           "y": [
            0,
            53.5,
            53.5,
            0,
            0
           ]
          },
          {
           "fill": "toself",
           "fillcolor": "#FFB612",
           "hoverinfo": "skip",
           "line": {
            "color": "white",
            "width": 3
           },
           "mode": "lines",
           "opacity": 1,
           "showlegend": false,
           "type": "scatter",
           "x": [
            110,
            110,
            120,
            120,
            110
           ],
           "y": [
            0,
            53.5,
            53.5,
            0,
            0
           ]
          },
          {
           "hoverinfo": "text",
           "hovertext": [
            "nflId:37104<br>displayName:Cameron Heyward<br>Player Speed:0.0 MPH",
            "nflId:43325<br>displayName:Myles Jack<br>Player Speed:0.336 MPH",
            "nflId:44842<br>displayName:T.J. Watt<br>Player Speed:0.022 MPH",
            "nflId:44878<br>displayName:Ahkello Witherspoon<br>Player Speed:1.633 MPH",
            "nflId:44906<br>displayName:Cameron Sutton<br>Player Speed:0.85 MPH",
            "nflId:45395<br>displayName:Arthur Maulet<br>Player Speed:1.476 MPH",
            "nflId:46080<br>displayName:Minkah Fitzpatrick<br>Player Speed:2.282 MPH",
            "nflId:46097<br>displayName:Terrell Edmunds<br>Player Speed:2.684 MPH",
            "nflId:46902<br>displayName:Robert Spillane<br>Player Speed:0.336 MPH",
            "nflId:52971<br>displayName:Jamir Jones<br>Player Speed:0.0 MPH",
            "nflId:54549<br>displayName:DeMarvin Leal<br>Player Speed:0.0 MPH"
           ],
           "marker": {
            "color": "#FFB612",
            "line": {
             "color": "#101820",
             "width": 2
            },
            "size": 10
           },
           "mode": "markers",
           "name": "PIT",
           "type": "scatter",
           "x": [
            74.98,
            78.78,
            74.65,
            77.87,
            79.85,
            76.71,
            84.33,
            85.25,
            78.89,
            75.05,
            74.66
           ],
           "y": [
            30.8,
            27.23,
            23,
            20.45,
            41.45,
            38.14,
            35.85,
            24.94,
            31.4,
            34.88,
            27.11
           ]
          },
          {
           "hoverinfo": "text",
           "hovertext": [
            "nflId:42654<br>displayName:La'el Collins<br>Player Speed:0.0 MPH",
            "nflId:43344<br>displayName:Tyler Boyd<br>Player Speed:0.022 MPH",
            "nflId:43495<br>displayName:Mike Thomas<br>Player Speed:4.63 MPH",
            "nflId:43510<br>displayName:Ted Karras<br>Player Speed:0.0 MPH",
            "nflId:44860<br>displayName:Joe Mixon<br>Player Speed:0.0 MPH",
            "nflId:46163<br>displayName:Alex Cappa<br>Player Speed:0.0 MPH",
            "nflId:47794<br>displayName:Jonah Williams<br>Player Speed:0.0 MPH",
            "nflId:47835<br>displayName:Drew Sample<br>Player Speed:0.0 MPH",
            "nflId:52409<br>displayName:Joe Burrow<br>Player Speed:0.045 MPH",
            "nflId:53434<br>displayName:Ja'Marr Chase<br>Player Speed:0.224 MPH",
            "nflId:54601<br>displayName:Cordell Volson<br>Player Speed:0.0 MPH"
           ],
           "marker": {
            "color": "#000000",
            "line": {
             "color": "#FB4F14",
             "width": 2
            },
            "size": 10
           },
           "mode": "markers",
           "name": "CIN",
           "type": "scatter",
           "x": [
            72.75,
            73.55,
            72.41,
            73.57,
            68.94,
            72.91,
            72.87,
            72.68,
            69.21,
            69.05,
            73.02
           ],
           "y": [
            26.57,
            36.77,
            38.48,
            29.68,
            26.99,
            28.22,
            32.65,
            24.85,
            29.86,
            31.86,
            31.28
           ]
          },
          {
           "hoverinfo": "none",
           "marker": {
            "color": "#CBB67C",
            "line": {
             "color": "#663831",
             "width": 2
            },
            "size": 10
           },
           "mode": "markers",
           "name": "football",
           "type": "scatter",
           "x": [
            73.8099975585938
           ],
           "y": [
            29.6800003051758
           ]
          }
         ],
         "name": "80"
        },
        {
         "data": [
          {
           "hoverinfo": "none",
           "mode": "text",
           "showlegend": false,
           "text": [
            "10",
            "20",
            "30",
            "40",
            "50",
            "40",
            "30",
            "20",
            "10"
           ],
           "textfont": {
            "color": "#ffffff",
            "family": "Courier New, monospace",
            "size": 30
           },
           "type": "scatter",
           "x": [
            20,
            30,
            40,
            50,
            60,
            70,
            80,
            90,
            100
           ],
           "y": [
            5,
            5,
            5,
            5,
            5,
            5,
            5,
            5,
            5
           ]
          },
          {
           "hoverinfo": "none",
           "mode": "text",
           "showlegend": false,
           "text": [
            "10",
            "20",
            "30",
            "40",
            "50",
            "40",
            "30",
            "20",
            "10"
           ],
           "textfont": {
            "color": "#ffffff",
            "family": "Courier New, monospace",
            "size": 30
           },
           "type": "scatter",
           "x": [
            20,
            30,
            40,
            50,
            60,
            70,
            80,
            90,
            100
           ],
           "y": [
            48.5,
            48.5,
            48.5,
            48.5,
            48.5,
            48.5,
            48.5,
            48.5,
            48.5
           ]
          },
          {
           "hoverinfo": "none",
           "line": {
            "color": "blue",
            "dash": "dash"
           },
           "showlegend": false,
           "type": "scatter",
           "x": [
            74,
            74
           ],
           "y": [
            0,
            53.5
           ]
          },
          {
           "hoverinfo": "none",
           "line": {
            "color": "yellow",
            "dash": "dash"
           },
           "showlegend": false,
           "type": "scatter",
           "x": [
            80,
            80
           ],
           "y": [
            0,
            53.5
           ]
          },
          {
           "fill": "toself",
           "fillcolor": "#000000",
           "hoverinfo": "skip",
           "line": {
            "color": "white",
            "width": 3
           },
           "mode": "lines",
           "opacity": 1,
           "showlegend": false,
           "type": "scatter",
           "x": [
            0,
            0,
            10,
            10,
            0
           ],
           "y": [
            0,
            53.5,
            53.5,
            0,
            0
           ]
          },
          {
           "fill": "toself",
           "fillcolor": "#FFB612",
           "hoverinfo": "skip",
           "line": {
            "color": "white",
            "width": 3
           },
           "mode": "lines",
           "opacity": 1,
           "showlegend": false,
           "type": "scatter",
           "x": [
            110,
            110,
            120,
            120,
            110
           ],
           "y": [
            0,
            53.5,
            53.5,
            0,
            0
           ]
          },
          {
           "hoverinfo": "text",
           "hovertext": [
            "nflId:37104<br>displayName:Cameron Heyward<br>Player Speed:0.0 MPH",
            "nflId:43325<br>displayName:Myles Jack<br>Player Speed:0.224 MPH",
            "nflId:44842<br>displayName:T.J. Watt<br>Player Speed:0.201 MPH",
            "nflId:44878<br>displayName:Ahkello Witherspoon<br>Player Speed:1.633 MPH",
            "nflId:44906<br>displayName:Cameron Sutton<br>Player Speed:0.805 MPH",
            "nflId:45395<br>displayName:Arthur Maulet<br>Player Speed:1.432 MPH",
            "nflId:46080<br>displayName:Minkah Fitzpatrick<br>Player Speed:2.215 MPH",
            "nflId:46097<br>displayName:Terrell Edmunds<br>Player Speed:2.595 MPH",
            "nflId:46902<br>displayName:Robert Spillane<br>Player Speed:0.783 MPH",
            "nflId:52971<br>displayName:Jamir Jones<br>Player Speed:0.0 MPH",
            "nflId:54549<br>displayName:DeMarvin Leal<br>Player Speed:0.0 MPH"
           ],
           "marker": {
            "color": "#FFB612",
            "line": {
             "color": "#101820",
             "width": 2
            },
            "size": 10
           },
           "mode": "markers",
           "name": "PIT",
           "type": "scatter",
           "x": [
            74.98,
            78.78,
            74.65,
            77.87,
            79.88,
            76.66,
            84.43,
            85.37,
            78.89,
            75.05,
            74.65
           ],
           "y": [
            30.8,
            27.23,
            23,
            20.37,
            41.42,
            38.1,
            35.86,
            24.97,
            31.35,
            34.88,
            27.11
           ]
          },
          {
           "hoverinfo": "text",
           "hovertext": [
            "nflId:42654<br>displayName:La'el Collins<br>Player Speed:0.0 MPH",
            "nflId:43344<br>displayName:Tyler Boyd<br>Player Speed:0.022 MPH",
            "nflId:43495<br>displayName:Mike Thomas<br>Player Speed:6.353 MPH",
            "nflId:43510<br>displayName:Ted Karras<br>Player Speed:0.0 MPH",
            "nflId:44860<br>displayName:Joe Mixon<br>Player Speed:0.0 MPH",
            "nflId:46163<br>displayName:Alex Cappa<br>Player Speed:0.0 MPH",
            "nflId:47794<br>displayName:Jonah Williams<br>Player Speed:0.0 MPH",
            "nflId:47835<br>displayName:Drew Sample<br>Player Speed:0.0 MPH",
            "nflId:52409<br>displayName:Joe Burrow<br>Player Speed:0.045 MPH",
            "nflId:53434<br>displayName:Ja'Marr Chase<br>Player Speed:0.201 MPH",
            "nflId:54601<br>displayName:Cordell Volson<br>Player Speed:0.0 MPH"
           ],
           "marker": {
            "color": "#000000",
            "line": {
             "color": "#FB4F14",
             "width": 2
            },
            "size": 10
           },
           "mode": "markers",
           "name": "CIN",
           "type": "scatter",
           "x": [
            72.75,
            73.55,
            72.32,
            73.57,
            68.94,
            72.91,
            72.87,
            72.68,
            69.21,
            69.05,
            73.02
           ],
           "y": [
            26.57,
            36.76,
            38.23,
            29.68,
            26.99,
            28.22,
            32.65,
            24.85,
            29.87,
            31.87,
            31.28
           ]
          },
          {
           "hoverinfo": "none",
           "marker": {
            "color": "#CBB67C",
            "line": {
             "color": "#663831",
             "width": 2
            },
            "size": 10
           },
           "mode": "markers",
           "name": "football",
           "type": "scatter",
           "x": [
            73.8099975585938
           ],
           "y": [
            29.6800003051758
           ]
          }
         ],
         "name": "81"
        },
        {
         "data": [
          {
           "hoverinfo": "none",
           "mode": "text",
           "showlegend": false,
           "text": [
            "10",
            "20",
            "30",
            "40",
            "50",
            "40",
            "30",
            "20",
            "10"
           ],
           "textfont": {
            "color": "#ffffff",
            "family": "Courier New, monospace",
            "size": 30
           },
           "type": "scatter",
           "x": [
            20,
            30,
            40,
            50,
            60,
            70,
            80,
            90,
            100
           ],
           "y": [
            5,
            5,
            5,
            5,
            5,
            5,
            5,
            5,
            5
           ]
          },
          {
           "hoverinfo": "none",
           "mode": "text",
           "showlegend": false,
           "text": [
            "10",
            "20",
            "30",
            "40",
            "50",
            "40",
            "30",
            "20",
            "10"
           ],
           "textfont": {
            "color": "#ffffff",
            "family": "Courier New, monospace",
            "size": 30
           },
           "type": "scatter",
           "x": [
            20,
            30,
            40,
            50,
            60,
            70,
            80,
            90,
            100
           ],
           "y": [
            48.5,
            48.5,
            48.5,
            48.5,
            48.5,
            48.5,
            48.5,
            48.5,
            48.5
           ]
          },
          {
           "hoverinfo": "none",
           "line": {
            "color": "blue",
            "dash": "dash"
           },
           "showlegend": false,
           "type": "scatter",
           "x": [
            74,
            74
           ],
           "y": [
            0,
            53.5
           ]
          },
          {
           "hoverinfo": "none",
           "line": {
            "color": "yellow",
            "dash": "dash"
           },
           "showlegend": false,
           "type": "scatter",
           "x": [
            80,
            80
           ],
           "y": [
            0,
            53.5
           ]
          },
          {
           "fill": "toself",
           "fillcolor": "#000000",
           "hoverinfo": "skip",
           "line": {
            "color": "white",
            "width": 3
           },
           "mode": "lines",
           "opacity": 1,
           "showlegend": false,
           "type": "scatter",
           "x": [
            0,
            0,
            10,
            10,
            0
           ],
           "y": [
            0,
            53.5,
            53.5,
            0,
            0
           ]
          },
          {
           "fill": "toself",
           "fillcolor": "#FFB612",
           "hoverinfo": "skip",
           "line": {
            "color": "white",
            "width": 3
           },
           "mode": "lines",
           "opacity": 1,
           "showlegend": false,
           "type": "scatter",
           "x": [
            110,
            110,
            120,
            120,
            110
           ],
           "y": [
            0,
            53.5,
            53.5,
            0,
            0
           ]
          },
          {
           "hoverinfo": "text",
           "hovertext": [
            "nflId:37104<br>displayName:Cameron Heyward<br>Player Speed:0.0 MPH",
            "nflId:43325<br>displayName:Myles Jack<br>Player Speed:0.179 MPH",
            "nflId:44842<br>displayName:T.J. Watt<br>Player Speed:0.492 MPH",
            "nflId:44878<br>displayName:Ahkello Witherspoon<br>Player Speed:1.655 MPH",
            "nflId:44906<br>displayName:Cameron Sutton<br>Player Speed:0.962 MPH",
            "nflId:45395<br>displayName:Arthur Maulet<br>Player Speed:1.611 MPH",
            "nflId:46080<br>displayName:Minkah Fitzpatrick<br>Player Speed:2.125 MPH",
            "nflId:46097<br>displayName:Terrell Edmunds<br>Player Speed:2.461 MPH",
            "nflId:46902<br>displayName:Robert Spillane<br>Player Speed:1.23 MPH",
            "nflId:52971<br>displayName:Jamir Jones<br>Player Speed:0.0 MPH",
            "nflId:54549<br>displayName:DeMarvin Leal<br>Player Speed:0.0 MPH"
           ],
           "marker": {
            "color": "#FFB612",
            "line": {
             "color": "#101820",
             "width": 2
            },
            "size": 10
           },
           "mode": "markers",
           "name": "PIT",
           "type": "scatter",
           "x": [
            74.98,
            78.78,
            74.65,
            77.87,
            79.89,
            76.64,
            84.52,
            85.48,
            78.89,
            75.06,
            74.65
           ],
           "y": [
            30.8,
            27.2,
            23.02,
            20.3,
            41.38,
            38.04,
            35.86,
            24.99,
            31.3,
            34.89,
            27.12
           ]
          },
          {
           "hoverinfo": "text",
           "hovertext": [
            "nflId:42654<br>displayName:La'el Collins<br>Player Speed:0.0 MPH",
            "nflId:43344<br>displayName:Tyler Boyd<br>Player Speed:0.022 MPH",
            "nflId:43495<br>displayName:Mike Thomas<br>Player Speed:8.031 MPH",
            "nflId:43510<br>displayName:Ted Karras<br>Player Speed:0.0 MPH",
            "nflId:44860<br>displayName:Joe Mixon<br>Player Speed:0.0 MPH",
            "nflId:46163<br>displayName:Alex Cappa<br>Player Speed:0.0 MPH",
            "nflId:47794<br>displayName:Jonah Williams<br>Player Speed:0.0 MPH",
            "nflId:47835<br>displayName:Drew Sample<br>Player Speed:0.0 MPH",
            "nflId:52409<br>displayName:Joe Burrow<br>Player Speed:0.045 MPH",
            "nflId:53434<br>displayName:Ja'Marr Chase<br>Player Speed:0.179 MPH",
            "nflId:54601<br>displayName:Cordell Volson<br>Player Speed:0.0 MPH"
           ],
           "marker": {
            "color": "#000000",
            "line": {
             "color": "#FB4F14",
             "width": 2
            },
            "size": 10
           },
           "mode": "markers",
           "name": "CIN",
           "type": "scatter",
           "x": [
            72.75,
            73.55,
            72.22,
            73.57,
            68.94,
            72.91,
            72.87,
            72.68,
            69.21,
            69.06,
            73.02
           ],
           "y": [
            26.57,
            36.76,
            37.9,
            29.68,
            26.99,
            28.22,
            32.65,
            24.85,
            29.88,
            31.88,
            31.28
           ]
          },
          {
           "hoverinfo": "none",
           "marker": {
            "color": "#CBB67C",
            "line": {
             "color": "#663831",
             "width": 2
            },
            "size": 10
           },
           "mode": "markers",
           "name": "football",
           "type": "scatter",
           "x": [
            73.8099975585938
           ],
           "y": [
            29.6800003051758
           ]
          }
         ],
         "name": "82"
        },
        {
         "data": [
          {
           "hoverinfo": "none",
           "mode": "text",
           "showlegend": false,
           "text": [
            "10",
            "20",
            "30",
            "40",
            "50",
            "40",
            "30",
            "20",
            "10"
           ],
           "textfont": {
            "color": "#ffffff",
            "family": "Courier New, monospace",
            "size": 30
           },
           "type": "scatter",
           "x": [
            20,
            30,
            40,
            50,
            60,
            70,
            80,
            90,
            100
           ],
           "y": [
            5,
            5,
            5,
            5,
            5,
            5,
            5,
            5,
            5
           ]
          },
          {
           "hoverinfo": "none",
           "mode": "text",
           "showlegend": false,
           "text": [
            "10",
            "20",
            "30",
            "40",
            "50",
            "40",
            "30",
            "20",
            "10"
           ],
           "textfont": {
            "color": "#ffffff",
            "family": "Courier New, monospace",
            "size": 30
           },
           "type": "scatter",
           "x": [
            20,
            30,
            40,
            50,
            60,
            70,
            80,
            90,
            100
           ],
           "y": [
            48.5,
            48.5,
            48.5,
            48.5,
            48.5,
            48.5,
            48.5,
            48.5,
            48.5
           ]
          },
          {
           "hoverinfo": "none",
           "line": {
            "color": "blue",
            "dash": "dash"
           },
           "showlegend": false,
           "type": "scatter",
           "x": [
            74,
            74
           ],
           "y": [
            0,
            53.5
           ]
          },
          {
           "hoverinfo": "none",
           "line": {
            "color": "yellow",
            "dash": "dash"
           },
           "showlegend": false,
           "type": "scatter",
           "x": [
            80,
            80
           ],
           "y": [
            0,
            53.5
           ]
          },
          {
           "fill": "toself",
           "fillcolor": "#000000",
           "hoverinfo": "skip",
           "line": {
            "color": "white",
            "width": 3
           },
           "mode": "lines",
           "opacity": 1,
           "showlegend": false,
           "type": "scatter",
           "x": [
            0,
            0,
            10,
            10,
            0
           ],
           "y": [
            0,
            53.5,
            53.5,
            0,
            0
           ]
          },
          {
           "fill": "toself",
           "fillcolor": "#FFB612",
           "hoverinfo": "skip",
           "line": {
            "color": "white",
            "width": 3
           },
           "mode": "lines",
           "opacity": 1,
           "showlegend": false,
           "type": "scatter",
           "x": [
            110,
            110,
            120,
            120,
            110
           ],
           "y": [
            0,
            53.5,
            53.5,
            0,
            0
           ]
          },
          {
           "hoverinfo": "text",
           "hovertext": [
            "nflId:37104<br>displayName:Cameron Heyward<br>Player Speed:0.0 MPH",
            "nflId:43325<br>displayName:Myles Jack<br>Player Speed:0.313 MPH",
            "nflId:44842<br>displayName:T.J. Watt<br>Player Speed:0.783 MPH",
            "nflId:44878<br>displayName:Ahkello Witherspoon<br>Player Speed:1.745 MPH",
            "nflId:44906<br>displayName:Cameron Sutton<br>Player Speed:1.275 MPH",
            "nflId:45395<br>displayName:Arthur Maulet<br>Player Speed:2.08 MPH",
            "nflId:46080<br>displayName:Minkah Fitzpatrick<br>Player Speed:2.103 MPH",
            "nflId:46097<br>displayName:Terrell Edmunds<br>Player Speed:2.304 MPH",
            "nflId:46902<br>displayName:Robert Spillane<br>Player Speed:1.678 MPH",
            "nflId:52971<br>displayName:Jamir Jones<br>Player Speed:0.0 MPH",
            "nflId:54549<br>displayName:DeMarvin Leal<br>Player Speed:0.0 MPH"
           ],
           "marker": {
            "color": "#FFB612",
            "line": {
             "color": "#101820",
             "width": 2
            },
            "size": 10
           },
           "mode": "markers",
           "name": "PIT",
           "type": "scatter",
           "x": [
            74.98,
            78.77,
            74.65,
            77.86,
            79.89,
            76.64,
            84.62,
            85.58,
            78.89,
            75.06,
            74.64
           ],
           "y": [
            30.8,
            27.17,
            23.05,
            20.22,
            41.33,
            37.95,
            35.85,
            25.02,
            31.23,
            34.89,
            27.11
           ]
          },
          {
           "hoverinfo": "text",
           "hovertext": [
            "nflId:42654<br>displayName:La'el Collins<br>Player Speed:0.0 MPH",
            "nflId:43344<br>displayName:Tyler Boyd<br>Player Speed:0.022 MPH",
            "nflId:43495<br>displayName:Mike Thomas<br>Player Speed:9.418 MPH",
            "nflId:43510<br>displayName:Ted Karras<br>Player Speed:0.0 MPH",
            "nflId:44860<br>displayName:Joe Mixon<br>Player Speed:0.0 MPH",
            "nflId:46163<br>displayName:Alex Cappa<br>Player Speed:0.0 MPH",
            "nflId:47794<br>displayName:Jonah Williams<br>Player Speed:0.0 MPH",
            "nflId:47835<br>displayName:Drew Sample<br>Player Speed:0.0 MPH",
            "nflId:52409<br>displayName:Joe Burrow<br>Player Speed:0.045 MPH",
            "nflId:53434<br>displayName:Ja'Marr Chase<br>Player Speed:0.112 MPH",
            "nflId:54601<br>displayName:Cordell Volson<br>Player Speed:0.0 MPH"
           ],
           "marker": {
            "color": "#000000",
            "line": {
             "color": "#FB4F14",
             "width": 2
            },
            "size": 10
           },
           "mode": "markers",
           "name": "CIN",
           "type": "scatter",
           "x": [
            72.75,
            73.55,
            72.11,
            73.57,
            68.94,
            72.91,
            72.87,
            72.67,
            69.21,
            69.05,
            73.02
           ],
           "y": [
            26.57,
            36.76,
            37.52,
            29.68,
            26.99,
            28.21,
            32.64,
            24.85,
            29.88,
            31.86,
            31.28
           ]
          },
          {
           "hoverinfo": "none",
           "marker": {
            "color": "#CBB67C",
            "line": {
             "color": "#663831",
             "width": 2
            },
            "size": 10
           },
           "mode": "markers",
           "name": "football",
           "type": "scatter",
           "x": [
            73.8099975585938
           ],
           "y": [
            29.6800003051758
           ]
          }
         ],
         "name": "83"
        },
        {
         "data": [
          {
           "hoverinfo": "none",
           "mode": "text",
           "showlegend": false,
           "text": [
            "10",
            "20",
            "30",
            "40",
            "50",
            "40",
            "30",
            "20",
            "10"
           ],
           "textfont": {
            "color": "#ffffff",
            "family": "Courier New, monospace",
            "size": 30
           },
           "type": "scatter",
           "x": [
            20,
            30,
            40,
            50,
            60,
            70,
            80,
            90,
            100
           ],
           "y": [
            5,
            5,
            5,
            5,
            5,
            5,
            5,
            5,
            5
           ]
          },
          {
           "hoverinfo": "none",
           "mode": "text",
           "showlegend": false,
           "text": [
            "10",
            "20",
            "30",
            "40",
            "50",
            "40",
            "30",
            "20",
            "10"
           ],
           "textfont": {
            "color": "#ffffff",
            "family": "Courier New, monospace",
            "size": 30
           },
           "type": "scatter",
           "x": [
            20,
            30,
            40,
            50,
            60,
            70,
            80,
            90,
            100
           ],
           "y": [
            48.5,
            48.5,
            48.5,
            48.5,
            48.5,
            48.5,
            48.5,
            48.5,
            48.5
           ]
          },
          {
           "hoverinfo": "none",
           "line": {
            "color": "blue",
            "dash": "dash"
           },
           "showlegend": false,
           "type": "scatter",
           "x": [
            74,
            74
           ],
           "y": [
            0,
            53.5
           ]
          },
          {
           "hoverinfo": "none",
           "line": {
            "color": "yellow",
            "dash": "dash"
           },
           "showlegend": false,
           "type": "scatter",
           "x": [
            80,
            80
           ],
           "y": [
            0,
            53.5
           ]
          },
          {
           "fill": "toself",
           "fillcolor": "#000000",
           "hoverinfo": "skip",
           "line": {
            "color": "white",
            "width": 3
           },
           "mode": "lines",
           "opacity": 1,
           "showlegend": false,
           "type": "scatter",
           "x": [
            0,
            0,
            10,
            10,
            0
           ],
           "y": [
            0,
            53.5,
            53.5,
            0,
            0
           ]
          },
          {
           "fill": "toself",
           "fillcolor": "#FFB612",
           "hoverinfo": "skip",
           "line": {
            "color": "white",
            "width": 3
           },
           "mode": "lines",
           "opacity": 1,
           "showlegend": false,
           "type": "scatter",
           "x": [
            110,
            110,
            120,
            120,
            110
           ],
           "y": [
            0,
            53.5,
            53.5,
            0,
            0
           ]
          },
          {
           "hoverinfo": "text",
           "hovertext": [
            "nflId:37104<br>displayName:Cameron Heyward<br>Player Speed:0.0 MPH",
            "nflId:43325<br>displayName:Myles Jack<br>Player Speed:0.582 MPH",
            "nflId:44842<br>displayName:T.J. Watt<br>Player Speed:0.984 MPH",
            "nflId:44878<br>displayName:Ahkello Witherspoon<br>Player Speed:1.857 MPH",
            "nflId:44906<br>displayName:Cameron Sutton<br>Player Speed:1.722 MPH",
            "nflId:45395<br>displayName:Arthur Maulet<br>Player Speed:2.64 MPH",
            "nflId:46080<br>displayName:Minkah Fitzpatrick<br>Player Speed:2.103 MPH",
            "nflId:46097<br>displayName:Terrell Edmunds<br>Player Speed:2.147 MPH",
            "nflId:46902<br>displayName:Robert Spillane<br>Player Speed:2.17 MPH",
            "nflId:52971<br>displayName:Jamir Jones<br>Player Speed:0.0 MPH",
            "nflId:54549<br>displayName:DeMarvin Leal<br>Player Speed:0.0 MPH"
           ],
           "marker": {
            "color": "#FFB612",
            "line": {
             "color": "#101820",
             "width": 2
            },
            "size": 10
           },
           "mode": "markers",
           "name": "PIT",
           "type": "scatter",
           "x": [
            74.99,
            78.77,
            74.65,
            77.85,
            79.87,
            76.66,
            84.71,
            85.68,
            78.89,
            75.06,
            74.64
           ],
           "y": [
            30.8,
            27.13,
            23.08,
            20.14,
            41.26,
            37.85,
            35.84,
            25.04,
            31.15,
            34.89,
            27.11
           ]
          },
          {
           "hoverinfo": "text",
           "hovertext": [
            "nflId:42654<br>displayName:La'el Collins<br>Player Speed:0.0 MPH",
            "nflId:43344<br>displayName:Tyler Boyd<br>Player Speed:0.022 MPH",
            "nflId:43495<br>displayName:Mike Thomas<br>Player Speed:10.693 MPH",
            "nflId:43510<br>displayName:Ted Karras<br>Player Speed:0.0 MPH",
            "nflId:44860<br>displayName:Joe Mixon<br>Player Speed:0.0 MPH",
            "nflId:46163<br>displayName:Alex Cappa<br>Player Speed:0.0 MPH",
            "nflId:47794<br>displayName:Jonah Williams<br>Player Speed:0.0 MPH",
            "nflId:47835<br>displayName:Drew Sample<br>Player Speed:0.0 MPH",
            "nflId:52409<br>displayName:Joe Burrow<br>Player Speed:0.022 MPH",
            "nflId:53434<br>displayName:Ja'Marr Chase<br>Player Speed:0.089 MPH",
            "nflId:54601<br>displayName:Cordell Volson<br>Player Speed:0.0 MPH"
           ],
           "marker": {
            "color": "#000000",
            "line": {
             "color": "#FB4F14",
             "width": 2
            },
            "size": 10
           },
           "mode": "markers",
           "name": "CIN",
           "type": "scatter",
           "x": [
            72.75,
            73.55,
            71.99,
            73.57,
            68.94,
            72.91,
            72.87,
            72.67,
            69.21,
            69.05,
            73.02
           ],
           "y": [
            26.57,
            36.75,
            37.08,
            29.69,
            26.99,
            28.21,
            32.65,
            24.85,
            29.87,
            31.86,
            31.28
           ]
          },
          {
           "hoverinfo": "none",
           "marker": {
            "color": "#CBB67C",
            "line": {
             "color": "#663831",
             "width": 2
            },
            "size": 10
           },
           "mode": "markers",
           "name": "football",
           "type": "scatter",
           "x": [
            73.8099975585938
           ],
           "y": [
            29.6900005340576
           ]
          }
         ],
         "name": "84"
        },
        {
         "data": [
          {
           "hoverinfo": "none",
           "mode": "text",
           "showlegend": false,
           "text": [
            "10",
            "20",
            "30",
            "40",
            "50",
            "40",
            "30",
            "20",
            "10"
           ],
           "textfont": {
            "color": "#ffffff",
            "family": "Courier New, monospace",
            "size": 30
           },
           "type": "scatter",
           "x": [
            20,
            30,
            40,
            50,
            60,
            70,
            80,
            90,
            100
           ],
           "y": [
            5,
            5,
            5,
            5,
            5,
            5,
            5,
            5,
            5
           ]
          },
          {
           "hoverinfo": "none",
           "mode": "text",
           "showlegend": false,
           "text": [
            "10",
            "20",
            "30",
            "40",
            "50",
            "40",
            "30",
            "20",
            "10"
           ],
           "textfont": {
            "color": "#ffffff",
            "family": "Courier New, monospace",
            "size": 30
           },
           "type": "scatter",
           "x": [
            20,
            30,
            40,
            50,
            60,
            70,
            80,
            90,
            100
           ],
           "y": [
            48.5,
            48.5,
            48.5,
            48.5,
            48.5,
            48.5,
            48.5,
            48.5,
            48.5
           ]
          },
          {
           "hoverinfo": "none",
           "line": {
            "color": "blue",
            "dash": "dash"
           },
           "showlegend": false,
           "type": "scatter",
           "x": [
            74,
            74
           ],
           "y": [
            0,
            53.5
           ]
          },
          {
           "hoverinfo": "none",
           "line": {
            "color": "yellow",
            "dash": "dash"
           },
           "showlegend": false,
           "type": "scatter",
           "x": [
            80,
            80
           ],
           "y": [
            0,
            53.5
           ]
          },
          {
           "fill": "toself",
           "fillcolor": "#000000",
           "hoverinfo": "skip",
           "line": {
            "color": "white",
            "width": 3
           },
           "mode": "lines",
           "opacity": 1,
           "showlegend": false,
           "type": "scatter",
           "x": [
            0,
            0,
            10,
            10,
            0
           ],
           "y": [
            0,
            53.5,
            53.5,
            0,
            0
           ]
          },
          {
           "fill": "toself",
           "fillcolor": "#FFB612",
           "hoverinfo": "skip",
           "line": {
            "color": "white",
            "width": 3
           },
           "mode": "lines",
           "opacity": 1,
           "showlegend": false,
           "type": "scatter",
           "x": [
            110,
            110,
            120,
            120,
            110
           ],
           "y": [
            0,
            53.5,
            53.5,
            0,
            0
           ]
          },
          {
           "hoverinfo": "text",
           "hovertext": [
            "nflId:37104<br>displayName:Cameron Heyward<br>Player Speed:0.0 MPH",
            "nflId:43325<br>displayName:Myles Jack<br>Player Speed:0.984 MPH",
            "nflId:44842<br>displayName:T.J. Watt<br>Player Speed:1.118 MPH",
            "nflId:44878<br>displayName:Ahkello Witherspoon<br>Player Speed:1.901 MPH",
            "nflId:44906<br>displayName:Cameron Sutton<br>Player Speed:2.103 MPH",
            "nflId:45395<br>displayName:Arthur Maulet<br>Player Speed:3.333 MPH",
            "nflId:46080<br>displayName:Minkah Fitzpatrick<br>Player Speed:2.036 MPH",
            "nflId:46097<br>displayName:Terrell Edmunds<br>Player Speed:1.991 MPH",
            "nflId:46902<br>displayName:Robert Spillane<br>Player Speed:2.908 MPH",
            "nflId:52971<br>displayName:Jamir Jones<br>Player Speed:0.0 MPH",
            "nflId:54549<br>displayName:DeMarvin Leal<br>Player Speed:0.0 MPH"
           ],
           "marker": {
            "color": "#FFB612",
            "line": {
             "color": "#101820",
             "width": 2
            },
            "size": 10
           },
           "mode": "markers",
           "name": "PIT",
           "type": "scatter",
           "x": [
            74.99,
            78.76,
            74.65,
            77.83,
            79.84,
            76.71,
            84.8,
            85.77,
            78.89,
            75.06,
            74.64
           ],
           "y": [
            30.8,
            27.08,
            23.13,
            20.06,
            41.18,
            37.73,
            35.82,
            25.05,
            31.02,
            34.88,
            27.11
           ]
          },
          {
           "hoverinfo": "text",
           "hovertext": [
            "nflId:42654<br>displayName:La'el Collins<br>Player Speed:0.0 MPH",
            "nflId:43344<br>displayName:Tyler Boyd<br>Player Speed:0.022 MPH",
            "nflId:43495<br>displayName:Mike Thomas<br>Player Speed:11.856 MPH",
            "nflId:43510<br>displayName:Ted Karras<br>Player Speed:0.0 MPH",
            "nflId:44860<br>displayName:Joe Mixon<br>Player Speed:0.0 MPH",
            "nflId:46163<br>displayName:Alex Cappa<br>Player Speed:0.0 MPH",
            "nflId:47794<br>displayName:Jonah Williams<br>Player Speed:0.0 MPH",
            "nflId:47835<br>displayName:Drew Sample<br>Player Speed:0.0 MPH",
            "nflId:52409<br>displayName:Joe Burrow<br>Player Speed:0.022 MPH",
            "nflId:53434<br>displayName:Ja'Marr Chase<br>Player Speed:0.067 MPH",
            "nflId:54601<br>displayName:Cordell Volson<br>Player Speed:0.0 MPH"
           ],
           "marker": {
            "color": "#000000",
            "line": {
             "color": "#FB4F14",
             "width": 2
            },
            "size": 10
           },
           "mode": "markers",
           "name": "CIN",
           "type": "scatter",
           "x": [
            72.75,
            73.55,
            71.88,
            73.57,
            68.94,
            72.91,
            72.87,
            72.67,
            69.21,
            69.05,
            73.02
           ],
           "y": [
            26.57,
            36.75,
            36.57,
            29.69,
            27,
            28.22,
            32.65,
            24.86,
            29.87,
            31.85,
            31.28
           ]
          },
          {
           "hoverinfo": "none",
           "marker": {
            "color": "#CBB67C",
            "line": {
             "color": "#663831",
             "width": 2
            },
            "size": 10
           },
           "mode": "markers",
           "name": "football",
           "type": "scatter",
           "x": [
            73.8099975585938
           ],
           "y": [
            29.6800003051758
           ]
          }
         ],
         "name": "85"
        },
        {
         "data": [
          {
           "hoverinfo": "none",
           "mode": "text",
           "showlegend": false,
           "text": [
            "10",
            "20",
            "30",
            "40",
            "50",
            "40",
            "30",
            "20",
            "10"
           ],
           "textfont": {
            "color": "#ffffff",
            "family": "Courier New, monospace",
            "size": 30
           },
           "type": "scatter",
           "x": [
            20,
            30,
            40,
            50,
            60,
            70,
            80,
            90,
            100
           ],
           "y": [
            5,
            5,
            5,
            5,
            5,
            5,
            5,
            5,
            5
           ]
          },
          {
           "hoverinfo": "none",
           "mode": "text",
           "showlegend": false,
           "text": [
            "10",
            "20",
            "30",
            "40",
            "50",
            "40",
            "30",
            "20",
            "10"
           ],
           "textfont": {
            "color": "#ffffff",
            "family": "Courier New, monospace",
            "size": 30
           },
           "type": "scatter",
           "x": [
            20,
            30,
            40,
            50,
            60,
            70,
            80,
            90,
            100
           ],
           "y": [
            48.5,
            48.5,
            48.5,
            48.5,
            48.5,
            48.5,
            48.5,
            48.5,
            48.5
           ]
          },
          {
           "hoverinfo": "none",
           "line": {
            "color": "blue",
            "dash": "dash"
           },
           "showlegend": false,
           "type": "scatter",
           "x": [
            74,
            74
           ],
           "y": [
            0,
            53.5
           ]
          },
          {
           "hoverinfo": "none",
           "line": {
            "color": "yellow",
            "dash": "dash"
           },
           "showlegend": false,
           "type": "scatter",
           "x": [
            80,
            80
           ],
           "y": [
            0,
            53.5
           ]
          },
          {
           "fill": "toself",
           "fillcolor": "#000000",
           "hoverinfo": "skip",
           "line": {
            "color": "white",
            "width": 3
           },
           "mode": "lines",
           "opacity": 1,
           "showlegend": false,
           "type": "scatter",
           "x": [
            0,
            0,
            10,
            10,
            0
           ],
           "y": [
            0,
            53.5,
            53.5,
            0,
            0
           ]
          },
          {
           "fill": "toself",
           "fillcolor": "#FFB612",
           "hoverinfo": "skip",
           "line": {
            "color": "white",
            "width": 3
           },
           "mode": "lines",
           "opacity": 1,
           "showlegend": false,
           "type": "scatter",
           "x": [
            110,
            110,
            120,
            120,
            110
           ],
           "y": [
            0,
            53.5,
            53.5,
            0,
            0
           ]
          },
          {
           "hoverinfo": "text",
           "hovertext": [
            "nflId:37104<br>displayName:Cameron Heyward<br>Player Speed:0.0 MPH",
            "nflId:43325<br>displayName:Myles Jack<br>Player Speed:1.454 MPH",
            "nflId:44842<br>displayName:T.J. Watt<br>Player Speed:1.118 MPH",
            "nflId:44878<br>displayName:Ahkello Witherspoon<br>Player Speed:1.924 MPH",
            "nflId:44906<br>displayName:Cameron Sutton<br>Player Speed:2.416 MPH",
            "nflId:45395<br>displayName:Arthur Maulet<br>Player Speed:4.004 MPH",
            "nflId:46080<br>displayName:Minkah Fitzpatrick<br>Player Speed:2.08 MPH",
            "nflId:46097<br>displayName:Terrell Edmunds<br>Player Speed:1.857 MPH",
            "nflId:46902<br>displayName:Robert Spillane<br>Player Speed:3.378 MPH",
            "nflId:52971<br>displayName:Jamir Jones<br>Player Speed:0.0 MPH",
            "nflId:54549<br>displayName:DeMarvin Leal<br>Player Speed:0.0 MPH"
           ],
           "marker": {
            "color": "#FFB612",
            "line": {
             "color": "#101820",
             "width": 2
            },
            "size": 10
           },
           "mode": "markers",
           "name": "PIT",
           "type": "scatter",
           "x": [
            74.99,
            78.75,
            74.66,
            77.82,
            79.8,
            76.78,
            84.89,
            85.85,
            78.89,
            75.06,
            74.63
           ],
           "y": [
            30.8,
            27.02,
            23.17,
            19.98,
            41.09,
            37.58,
            35.79,
            25.05,
            30.88,
            34.88,
            27.11
           ]
          },
          {
           "hoverinfo": "text",
           "hovertext": [
            "nflId:42654<br>displayName:La'el Collins<br>Player Speed:0.0 MPH",
            "nflId:43344<br>displayName:Tyler Boyd<br>Player Speed:0.022 MPH",
            "nflId:43495<br>displayName:Mike Thomas<br>Player Speed:12.751 MPH",
            "nflId:43510<br>displayName:Ted Karras<br>Player Speed:0.0 MPH",
            "nflId:44860<br>displayName:Joe Mixon<br>Player Speed:0.0 MPH",
            "nflId:46163<br>displayName:Alex Cappa<br>Player Speed:0.0 MPH",
            "nflId:47794<br>displayName:Jonah Williams<br>Player Speed:0.0 MPH",
            "nflId:47835<br>displayName:Drew Sample<br>Player Speed:0.0 MPH",
            "nflId:52409<br>displayName:Joe Burrow<br>Player Speed:0.022 MPH",
            "nflId:53434<br>displayName:Ja'Marr Chase<br>Player Speed:0.067 MPH",
            "nflId:54601<br>displayName:Cordell Volson<br>Player Speed:0.0 MPH"
           ],
           "marker": {
            "color": "#000000",
            "line": {
             "color": "#FB4F14",
             "width": 2
            },
            "size": 10
           },
           "mode": "markers",
           "name": "CIN",
           "type": "scatter",
           "x": [
            72.75,
            73.55,
            71.77,
            73.57,
            68.94,
            72.91,
            72.87,
            72.67,
            69.21,
            69.05,
            73.02
           ],
           "y": [
            26.57,
            36.74,
            36.03,
            29.69,
            27,
            28.22,
            32.65,
            24.86,
            29.87,
            31.86,
            31.28
           ]
          },
          {
           "hoverinfo": "none",
           "marker": {
            "color": "#CBB67C",
            "line": {
             "color": "#663831",
             "width": 2
            },
            "size": 10
           },
           "mode": "markers",
           "name": "football",
           "type": "scatter",
           "x": [
            73.8099975585938
           ],
           "y": [
            29.6900005340576
           ]
          }
         ],
         "name": "86"
        },
        {
         "data": [
          {
           "hoverinfo": "none",
           "mode": "text",
           "showlegend": false,
           "text": [
            "10",
            "20",
            "30",
            "40",
            "50",
            "40",
            "30",
            "20",
            "10"
           ],
           "textfont": {
            "color": "#ffffff",
            "family": "Courier New, monospace",
            "size": 30
           },
           "type": "scatter",
           "x": [
            20,
            30,
            40,
            50,
            60,
            70,
            80,
            90,
            100
           ],
           "y": [
            5,
            5,
            5,
            5,
            5,
            5,
            5,
            5,
            5
           ]
          },
          {
           "hoverinfo": "none",
           "mode": "text",
           "showlegend": false,
           "text": [
            "10",
            "20",
            "30",
            "40",
            "50",
            "40",
            "30",
            "20",
            "10"
           ],
           "textfont": {
            "color": "#ffffff",
            "family": "Courier New, monospace",
            "size": 30
           },
           "type": "scatter",
           "x": [
            20,
            30,
            40,
            50,
            60,
            70,
            80,
            90,
            100
           ],
           "y": [
            48.5,
            48.5,
            48.5,
            48.5,
            48.5,
            48.5,
            48.5,
            48.5,
            48.5
           ]
          },
          {
           "hoverinfo": "none",
           "line": {
            "color": "blue",
            "dash": "dash"
           },
           "showlegend": false,
           "type": "scatter",
           "x": [
            74,
            74
           ],
           "y": [
            0,
            53.5
           ]
          },
          {
           "hoverinfo": "none",
           "line": {
            "color": "yellow",
            "dash": "dash"
           },
           "showlegend": false,
           "type": "scatter",
           "x": [
            80,
            80
           ],
           "y": [
            0,
            53.5
           ]
          },
          {
           "fill": "toself",
           "fillcolor": "#000000",
           "hoverinfo": "skip",
           "line": {
            "color": "white",
            "width": 3
           },
           "mode": "lines",
           "opacity": 1,
           "showlegend": false,
           "type": "scatter",
           "x": [
            0,
            0,
            10,
            10,
            0
           ],
           "y": [
            0,
            53.5,
            53.5,
            0,
            0
           ]
          },
          {
           "fill": "toself",
           "fillcolor": "#FFB612",
           "hoverinfo": "skip",
           "line": {
            "color": "white",
            "width": 3
           },
           "mode": "lines",
           "opacity": 1,
           "showlegend": false,
           "type": "scatter",
           "x": [
            110,
            110,
            120,
            120,
            110
           ],
           "y": [
            0,
            53.5,
            53.5,
            0,
            0
           ]
          },
          {
           "hoverinfo": "text",
           "hovertext": [
            "nflId:37104<br>displayName:Cameron Heyward<br>Player Speed:0.0 MPH",
            "nflId:43325<br>displayName:Myles Jack<br>Player Speed:1.767 MPH",
            "nflId:44842<br>displayName:T.J. Watt<br>Player Speed:1.007 MPH",
            "nflId:44878<br>displayName:Ahkello Witherspoon<br>Player Speed:1.991 MPH",
            "nflId:44906<br>displayName:Cameron Sutton<br>Player Speed:2.684 MPH",
            "nflId:45395<br>displayName:Arthur Maulet<br>Player Speed:4.563 MPH",
            "nflId:46080<br>displayName:Minkah Fitzpatrick<br>Player Speed:2.08 MPH",
            "nflId:46097<br>displayName:Terrell Edmunds<br>Player Speed:1.812 MPH",
            "nflId:46902<br>displayName:Robert Spillane<br>Player Speed:3.803 MPH",
            "nflId:52971<br>displayName:Jamir Jones<br>Player Speed:0.0 MPH",
            "nflId:54549<br>displayName:DeMarvin Leal<br>Player Speed:0.0 MPH"
           ],
           "marker": {
            "color": "#FFB612",
            "line": {
             "color": "#101820",
             "width": 2
            },
            "size": 10
           },
           "mode": "markers",
           "name": "PIT",
           "type": "scatter",
           "x": [
            74.99,
            78.73,
            74.66,
            77.8,
            79.75,
            76.86,
            84.98,
            85.94,
            78.88,
            75.05,
            74.63
           ],
           "y": [
            30.8,
            26.95,
            23.21,
            19.89,
            40.99,
            37.41,
            35.76,
            25.05,
            30.72,
            34.88,
            27.11
           ]
          },
          {
           "hoverinfo": "text",
           "hovertext": [
            "nflId:42654<br>displayName:La'el Collins<br>Player Speed:0.0 MPH",
            "nflId:43344<br>displayName:Tyler Boyd<br>Player Speed:0.022 MPH",
            "nflId:43495<br>displayName:Mike Thomas<br>Player Speed:13.399 MPH",
            "nflId:43510<br>displayName:Ted Karras<br>Player Speed:0.0 MPH",
            "nflId:44860<br>displayName:Joe Mixon<br>Player Speed:0.0 MPH",
            "nflId:46163<br>displayName:Alex Cappa<br>Player Speed:0.0 MPH",
            "nflId:47794<br>displayName:Jonah Williams<br>Player Speed:0.0 MPH",
            "nflId:47835<br>displayName:Drew Sample<br>Player Speed:0.0 MPH",
            "nflId:52409<br>displayName:Joe Burrow<br>Player Speed:0.022 MPH",
            "nflId:53434<br>displayName:Ja'Marr Chase<br>Player Speed:0.067 MPH",
            "nflId:54601<br>displayName:Cordell Volson<br>Player Speed:0.0 MPH"
           ],
           "marker": {
            "color": "#000000",
            "line": {
             "color": "#FB4F14",
             "width": 2
            },
            "size": 10
           },
           "mode": "markers",
           "name": "CIN",
           "type": "scatter",
           "x": [
            72.75,
            73.54,
            71.68,
            73.57,
            68.94,
            72.91,
            72.87,
            72.67,
            69.21,
            69.04,
            73.02
           ],
           "y": [
            26.57,
            36.73,
            35.45,
            29.69,
            27,
            28.22,
            32.65,
            24.85,
            29.87,
            31.86,
            31.28
           ]
          },
          {
           "hoverinfo": "none",
           "marker": {
            "color": "#CBB67C",
            "line": {
             "color": "#663831",
             "width": 2
            },
            "size": 10
           },
           "mode": "markers",
           "name": "football",
           "type": "scatter",
           "x": [
            73.8099975585938
           ],
           "y": [
            29.6900005340576
           ]
          }
         ],
         "name": "87"
        },
        {
         "data": [
          {
           "hoverinfo": "none",
           "mode": "text",
           "showlegend": false,
           "text": [
            "10",
            "20",
            "30",
            "40",
            "50",
            "40",
            "30",
            "20",
            "10"
           ],
           "textfont": {
            "color": "#ffffff",
            "family": "Courier New, monospace",
            "size": 30
           },
           "type": "scatter",
           "x": [
            20,
            30,
            40,
            50,
            60,
            70,
            80,
            90,
            100
           ],
           "y": [
            5,
            5,
            5,
            5,
            5,
            5,
            5,
            5,
            5
           ]
          },
          {
           "hoverinfo": "none",
           "mode": "text",
           "showlegend": false,
           "text": [
            "10",
            "20",
            "30",
            "40",
            "50",
            "40",
            "30",
            "20",
            "10"
           ],
           "textfont": {
            "color": "#ffffff",
            "family": "Courier New, monospace",
            "size": 30
           },
           "type": "scatter",
           "x": [
            20,
            30,
            40,
            50,
            60,
            70,
            80,
            90,
            100
           ],
           "y": [
            48.5,
            48.5,
            48.5,
            48.5,
            48.5,
            48.5,
            48.5,
            48.5,
            48.5
           ]
          },
          {
           "hoverinfo": "none",
           "line": {
            "color": "blue",
            "dash": "dash"
           },
           "showlegend": false,
           "type": "scatter",
           "x": [
            74,
            74
           ],
           "y": [
            0,
            53.5
           ]
          },
          {
           "hoverinfo": "none",
           "line": {
            "color": "yellow",
            "dash": "dash"
           },
           "showlegend": false,
           "type": "scatter",
           "x": [
            80,
            80
           ],
           "y": [
            0,
            53.5
           ]
          },
          {
           "fill": "toself",
           "fillcolor": "#000000",
           "hoverinfo": "skip",
           "line": {
            "color": "white",
            "width": 3
           },
           "mode": "lines",
           "opacity": 1,
           "showlegend": false,
           "type": "scatter",
           "x": [
            0,
            0,
            10,
            10,
            0
           ],
           "y": [
            0,
            53.5,
            53.5,
            0,
            0
           ]
          },
          {
           "fill": "toself",
           "fillcolor": "#FFB612",
           "hoverinfo": "skip",
           "line": {
            "color": "white",
            "width": 3
           },
           "mode": "lines",
           "opacity": 1,
           "showlegend": false,
           "type": "scatter",
           "x": [
            110,
            110,
            120,
            120,
            110
           ],
           "y": [
            0,
            53.5,
            53.5,
            0,
            0
           ]
          },
          {
           "hoverinfo": "text",
           "hovertext": [
            "nflId:37104<br>displayName:Cameron Heyward<br>Player Speed:0.0 MPH",
            "nflId:43325<br>displayName:Myles Jack<br>Player Speed:2.304 MPH",
            "nflId:44842<br>displayName:T.J. Watt<br>Player Speed:0.805 MPH",
            "nflId:44878<br>displayName:Ahkello Witherspoon<br>Player Speed:2.147 MPH",
            "nflId:44906<br>displayName:Cameron Sutton<br>Player Speed:2.908 MPH",
            "nflId:45395<br>displayName:Arthur Maulet<br>Player Speed:5.078 MPH",
            "nflId:46080<br>displayName:Minkah Fitzpatrick<br>Player Speed:2.08 MPH",
            "nflId:46097<br>displayName:Terrell Edmunds<br>Player Speed:1.857 MPH",
            "nflId:46902<br>displayName:Robert Spillane<br>Player Speed:4.094 MPH",
            "nflId:52971<br>displayName:Jamir Jones<br>Player Speed:0.0 MPH",
            "nflId:54549<br>displayName:DeMarvin Leal<br>Player Speed:0.0 MPH"
           ],
           "marker": {
            "color": "#FFB612",
            "line": {
             "color": "#101820",
             "width": 2
            },
            "size": 10
           },
           "mode": "markers",
           "name": "PIT",
           "type": "scatter",
           "x": [
            74.99,
            78.72,
            74.67,
            77.78,
            79.69,
            76.95,
            85.06,
            86.02,
            78.88,
            75.05,
            74.63
           ],
           "y": [
            30.8,
            26.85,
            23.23,
            19.8,
            40.88,
            37.21,
            35.72,
            25.03,
            30.54,
            34.88,
            27.11
           ]
          },
          {
           "hoverinfo": "text",
           "hovertext": [
            "nflId:42654<br>displayName:La'el Collins<br>Player Speed:0.0 MPH",
            "nflId:43344<br>displayName:Tyler Boyd<br>Player Speed:0.022 MPH",
            "nflId:43495<br>displayName:Mike Thomas<br>Player Speed:14.093 MPH",
            "nflId:43510<br>displayName:Ted Karras<br>Player Speed:0.0 MPH",
            "nflId:44860<br>displayName:Joe Mixon<br>Player Speed:0.0 MPH",
            "nflId:46163<br>displayName:Alex Cappa<br>Player Speed:0.0 MPH",
            "nflId:47794<br>displayName:Jonah Williams<br>Player Speed:0.0 MPH",
            "nflId:47835<br>displayName:Drew Sample<br>Player Speed:0.0 MPH",
            "nflId:52409<br>displayName:Joe Burrow<br>Player Speed:0.022 MPH",
            "nflId:53434<br>displayName:Ja'Marr Chase<br>Player Speed:0.045 MPH",
            "nflId:54601<br>displayName:Cordell Volson<br>Player Speed:0.0 MPH"
           ],
           "marker": {
            "color": "#000000",
            "line": {
             "color": "#FB4F14",
             "width": 2
            },
            "size": 10
           },
           "mode": "markers",
           "name": "CIN",
           "type": "scatter",
           "x": [
            72.75,
            73.54,
            71.6,
            73.57,
            68.94,
            72.92,
            72.87,
            72.67,
            69.21,
            69.05,
            73.02
           ],
           "y": [
            26.57,
            36.73,
            34.84,
            29.69,
            27,
            28.22,
            32.65,
            24.85,
            29.86,
            31.86,
            31.28
           ]
          },
          {
           "hoverinfo": "none",
           "marker": {
            "color": "#CBB67C",
            "line": {
             "color": "#663831",
             "width": 2
            },
            "size": 10
           },
           "mode": "markers",
           "name": "football",
           "type": "scatter",
           "x": [
            73.8099975585938
           ],
           "y": [
            29.6800003051758
           ]
          }
         ],
         "name": "88"
        },
        {
         "data": [
          {
           "hoverinfo": "none",
           "mode": "text",
           "showlegend": false,
           "text": [
            "10",
            "20",
            "30",
            "40",
            "50",
            "40",
            "30",
            "20",
            "10"
           ],
           "textfont": {
            "color": "#ffffff",
            "family": "Courier New, monospace",
            "size": 30
           },
           "type": "scatter",
           "x": [
            20,
            30,
            40,
            50,
            60,
            70,
            80,
            90,
            100
           ],
           "y": [
            5,
            5,
            5,
            5,
            5,
            5,
            5,
            5,
            5
           ]
          },
          {
           "hoverinfo": "none",
           "mode": "text",
           "showlegend": false,
           "text": [
            "10",
            "20",
            "30",
            "40",
            "50",
            "40",
            "30",
            "20",
            "10"
           ],
           "textfont": {
            "color": "#ffffff",
            "family": "Courier New, monospace",
            "size": 30
           },
           "type": "scatter",
           "x": [
            20,
            30,
            40,
            50,
            60,
            70,
            80,
            90,
            100
           ],
           "y": [
            48.5,
            48.5,
            48.5,
            48.5,
            48.5,
            48.5,
            48.5,
            48.5,
            48.5
           ]
          },
          {
           "hoverinfo": "none",
           "line": {
            "color": "blue",
            "dash": "dash"
           },
           "showlegend": false,
           "type": "scatter",
           "x": [
            74,
            74
           ],
           "y": [
            0,
            53.5
           ]
          },
          {
           "hoverinfo": "none",
           "line": {
            "color": "yellow",
            "dash": "dash"
           },
           "showlegend": false,
           "type": "scatter",
           "x": [
            80,
            80
           ],
           "y": [
            0,
            53.5
           ]
          },
          {
           "fill": "toself",
           "fillcolor": "#000000",
           "hoverinfo": "skip",
           "line": {
            "color": "white",
            "width": 3
           },
           "mode": "lines",
           "opacity": 1,
           "showlegend": false,
           "type": "scatter",
           "x": [
            0,
            0,
            10,
            10,
            0
           ],
           "y": [
            0,
            53.5,
            53.5,
            0,
            0
           ]
          },
          {
           "fill": "toself",
           "fillcolor": "#FFB612",
           "hoverinfo": "skip",
           "line": {
            "color": "white",
            "width": 3
           },
           "mode": "lines",
           "opacity": 1,
           "showlegend": false,
           "type": "scatter",
           "x": [
            110,
            110,
            120,
            120,
            110
           ],
           "y": [
            0,
            53.5,
            53.5,
            0,
            0
           ]
          },
          {
           "hoverinfo": "text",
           "hovertext": [
            "nflId:37104<br>displayName:Cameron Heyward<br>Player Speed:0.0 MPH",
            "nflId:43325<br>displayName:Myles Jack<br>Player Speed:2.886 MPH",
            "nflId:44842<br>displayName:T.J. Watt<br>Player Speed:0.649 MPH",
            "nflId:44878<br>displayName:Ahkello Witherspoon<br>Player Speed:2.259 MPH",
            "nflId:44906<br>displayName:Cameron Sutton<br>Player Speed:3.109 MPH",
            "nflId:45395<br>displayName:Arthur Maulet<br>Player Speed:5.391 MPH",
            "nflId:46080<br>displayName:Minkah Fitzpatrick<br>Player Speed:2.036 MPH",
            "nflId:46097<br>displayName:Terrell Edmunds<br>Player Speed:1.901 MPH",
            "nflId:46902<br>displayName:Robert Spillane<br>Player Speed:4.205 MPH",
            "nflId:52971<br>displayName:Jamir Jones<br>Player Speed:0.0 MPH",
            "nflId:54549<br>displayName:DeMarvin Leal<br>Player Speed:0.0 MPH"
           ],
           "marker": {
            "color": "#FFB612",
            "line": {
             "color": "#101820",
             "width": 2
            },
            "size": 10
           },
           "mode": "markers",
           "name": "PIT",
           "type": "scatter",
           "x": [
            74.99,
            78.7,
            74.68,
            77.76,
            79.63,
            77.05,
            85.15,
            86.09,
            78.87,
            75.05,
            74.63
           ],
           "y": [
            30.8,
            26.72,
            23.25,
            19.7,
            40.76,
            37,
            35.68,
            25,
            30.35,
            34.88,
            27.11
           ]
          },
          {
           "hoverinfo": "text",
           "hovertext": [
            "nflId:42654<br>displayName:La'el Collins<br>Player Speed:0.0 MPH",
            "nflId:43344<br>displayName:Tyler Boyd<br>Player Speed:0.022 MPH",
            "nflId:43495<br>displayName:Mike Thomas<br>Player Speed:14.652 MPH",
            "nflId:43510<br>displayName:Ted Karras<br>Player Speed:0.0 MPH",
            "nflId:44860<br>displayName:Joe Mixon<br>Player Speed:0.0 MPH",
            "nflId:46163<br>displayName:Alex Cappa<br>Player Speed:0.0 MPH",
            "nflId:47794<br>displayName:Jonah Williams<br>Player Speed:0.0 MPH",
            "nflId:47835<br>displayName:Drew Sample<br>Player Speed:0.0 MPH",
            "nflId:52409<br>displayName:Joe Burrow<br>Player Speed:0.022 MPH",
            "nflId:53434<br>displayName:Ja'Marr Chase<br>Player Speed:0.045 MPH",
            "nflId:54601<br>displayName:Cordell Volson<br>Player Speed:0.0 MPH"
           ],
           "marker": {
            "color": "#000000",
            "line": {
             "color": "#FB4F14",
             "width": 2
            },
            "size": 10
           },
           "mode": "markers",
           "name": "CIN",
           "type": "scatter",
           "x": [
            72.75,
            73.54,
            71.53,
            73.57,
            68.95,
            72.92,
            72.87,
            72.67,
            69.21,
            69.05,
            73.01
           ],
           "y": [
            26.57,
            36.73,
            34.2,
            29.69,
            27,
            28.22,
            32.65,
            24.85,
            29.86,
            31.86,
            31.28
           ]
          },
          {
           "hoverinfo": "none",
           "marker": {
            "color": "#CBB67C",
            "line": {
             "color": "#663831",
             "width": 2
            },
            "size": 10
           },
           "mode": "markers",
           "name": "football",
           "type": "scatter",
           "x": [
            73.8099975585938
           ],
           "y": [
            29.6800003051758
           ]
          }
         ],
         "name": "89"
        },
        {
         "data": [
          {
           "hoverinfo": "none",
           "mode": "text",
           "showlegend": false,
           "text": [
            "10",
            "20",
            "30",
            "40",
            "50",
            "40",
            "30",
            "20",
            "10"
           ],
           "textfont": {
            "color": "#ffffff",
            "family": "Courier New, monospace",
            "size": 30
           },
           "type": "scatter",
           "x": [
            20,
            30,
            40,
            50,
            60,
            70,
            80,
            90,
            100
           ],
           "y": [
            5,
            5,
            5,
            5,
            5,
            5,
            5,
            5,
            5
           ]
          },
          {
           "hoverinfo": "none",
           "mode": "text",
           "showlegend": false,
           "text": [
            "10",
            "20",
            "30",
            "40",
            "50",
            "40",
            "30",
            "20",
            "10"
           ],
           "textfont": {
            "color": "#ffffff",
            "family": "Courier New, monospace",
            "size": 30
           },
           "type": "scatter",
           "x": [
            20,
            30,
            40,
            50,
            60,
            70,
            80,
            90,
            100
           ],
           "y": [
            48.5,
            48.5,
            48.5,
            48.5,
            48.5,
            48.5,
            48.5,
            48.5,
            48.5
           ]
          },
          {
           "hoverinfo": "none",
           "line": {
            "color": "blue",
            "dash": "dash"
           },
           "showlegend": false,
           "type": "scatter",
           "x": [
            74,
            74
           ],
           "y": [
            0,
            53.5
           ]
          },
          {
           "hoverinfo": "none",
           "line": {
            "color": "yellow",
            "dash": "dash"
           },
           "showlegend": false,
           "type": "scatter",
           "x": [
            80,
            80
           ],
           "y": [
            0,
            53.5
           ]
          },
          {
           "fill": "toself",
           "fillcolor": "#000000",
           "hoverinfo": "skip",
           "line": {
            "color": "white",
            "width": 3
           },
           "mode": "lines",
           "opacity": 1,
           "showlegend": false,
           "type": "scatter",
           "x": [
            0,
            0,
            10,
            10,
            0
           ],
           "y": [
            0,
            53.5,
            53.5,
            0,
            0
           ]
          },
          {
           "fill": "toself",
           "fillcolor": "#FFB612",
           "hoverinfo": "skip",
           "line": {
            "color": "white",
            "width": 3
           },
           "mode": "lines",
           "opacity": 1,
           "showlegend": false,
           "type": "scatter",
           "x": [
            110,
            110,
            120,
            120,
            110
           ],
           "y": [
            0,
            53.5,
            53.5,
            0,
            0
           ]
          },
          {
           "hoverinfo": "text",
           "hovertext": [
            "nflId:37104<br>displayName:Cameron Heyward<br>Player Speed:0.0 MPH",
            "nflId:43325<br>displayName:Myles Jack<br>Player Speed:3.288 MPH",
            "nflId:44842<br>displayName:T.J. Watt<br>Player Speed:0.514 MPH",
            "nflId:44878<br>displayName:Ahkello Witherspoon<br>Player Speed:2.349 MPH",
            "nflId:44906<br>displayName:Cameron Sutton<br>Player Speed:3.221 MPH",
            "nflId:45395<br>displayName:Arthur Maulet<br>Player Speed:5.637 MPH",
            "nflId:46080<br>displayName:Minkah Fitzpatrick<br>Player Speed:1.991 MPH",
            "nflId:46097<br>displayName:Terrell Edmunds<br>Player Speed:2.036 MPH",
            "nflId:46902<br>displayName:Robert Spillane<br>Player Speed:4.362 MPH",
            "nflId:52971<br>displayName:Jamir Jones<br>Player Speed:0.0 MPH",
            "nflId:54549<br>displayName:DeMarvin Leal<br>Player Speed:0.0 MPH"
           ],
           "marker": {
            "color": "#FFB612",
            "line": {
             "color": "#101820",
             "width": 2
            },
            "size": 10
           },
           "mode": "markers",
           "name": "PIT",
           "type": "scatter",
           "x": [
            74.99,
            78.69,
            74.67,
            77.73,
            79.57,
            77.15,
            85.23,
            86.17,
            78.86,
            75.05,
            74.63
           ],
           "y": [
            30.8,
            26.59,
            23.27,
            19.6,
            40.63,
            36.78,
            35.64,
            24.96,
            30.16,
            34.88,
            27.11
           ]
          },
          {
           "hoverinfo": "text",
           "hovertext": [
            "nflId:42654<br>displayName:La'el Collins<br>Player Speed:0.0 MPH",
            "nflId:43344<br>displayName:Tyler Boyd<br>Player Speed:0.022 MPH",
            "nflId:43495<br>displayName:Mike Thomas<br>Player Speed:15.166 MPH",
            "nflId:43510<br>displayName:Ted Karras<br>Player Speed:0.0 MPH",
            "nflId:44860<br>displayName:Joe Mixon<br>Player Speed:0.0 MPH",
            "nflId:46163<br>displayName:Alex Cappa<br>Player Speed:0.0 MPH",
            "nflId:47794<br>displayName:Jonah Williams<br>Player Speed:0.0 MPH",
            "nflId:47835<br>displayName:Drew Sample<br>Player Speed:0.0 MPH",
            "nflId:52409<br>displayName:Joe Burrow<br>Player Speed:0.022 MPH",
            "nflId:53434<br>displayName:Ja'Marr Chase<br>Player Speed:0.045 MPH",
            "nflId:54601<br>displayName:Cordell Volson<br>Player Speed:0.0 MPH"
           ],
           "marker": {
            "color": "#000000",
            "line": {
             "color": "#FB4F14",
             "width": 2
            },
            "size": 10
           },
           "mode": "markers",
           "name": "CIN",
           "type": "scatter",
           "x": [
            72.75,
            73.54,
            71.48,
            73.57,
            68.95,
            72.92,
            72.87,
            72.67,
            69.21,
            69.04,
            73.01
           ],
           "y": [
            26.57,
            36.73,
            33.53,
            29.69,
            27,
            28.22,
            32.65,
            24.85,
            29.86,
            31.86,
            31.28
           ]
          },
          {
           "hoverinfo": "none",
           "marker": {
            "color": "#CBB67C",
            "line": {
             "color": "#663831",
             "width": 2
            },
            "size": 10
           },
           "mode": "markers",
           "name": "football",
           "type": "scatter",
           "x": [
            73.8099975585938
           ],
           "y": [
            29.6800003051758
           ]
          }
         ],
         "name": "90"
        },
        {
         "data": [
          {
           "hoverinfo": "none",
           "mode": "text",
           "showlegend": false,
           "text": [
            "10",
            "20",
            "30",
            "40",
            "50",
            "40",
            "30",
            "20",
            "10"
           ],
           "textfont": {
            "color": "#ffffff",
            "family": "Courier New, monospace",
            "size": 30
           },
           "type": "scatter",
           "x": [
            20,
            30,
            40,
            50,
            60,
            70,
            80,
            90,
            100
           ],
           "y": [
            5,
            5,
            5,
            5,
            5,
            5,
            5,
            5,
            5
           ]
          },
          {
           "hoverinfo": "none",
           "mode": "text",
           "showlegend": false,
           "text": [
            "10",
            "20",
            "30",
            "40",
            "50",
            "40",
            "30",
            "20",
            "10"
           ],
           "textfont": {
            "color": "#ffffff",
            "family": "Courier New, monospace",
            "size": 30
           },
           "type": "scatter",
           "x": [
            20,
            30,
            40,
            50,
            60,
            70,
            80,
            90,
            100
           ],
           "y": [
            48.5,
            48.5,
            48.5,
            48.5,
            48.5,
            48.5,
            48.5,
            48.5,
            48.5
           ]
          },
          {
           "hoverinfo": "none",
           "line": {
            "color": "blue",
            "dash": "dash"
           },
           "showlegend": false,
           "type": "scatter",
           "x": [
            74,
            74
           ],
           "y": [
            0,
            53.5
           ]
          },
          {
           "hoverinfo": "none",
           "line": {
            "color": "yellow",
            "dash": "dash"
           },
           "showlegend": false,
           "type": "scatter",
           "x": [
            80,
            80
           ],
           "y": [
            0,
            53.5
           ]
          },
          {
           "fill": "toself",
           "fillcolor": "#000000",
           "hoverinfo": "skip",
           "line": {
            "color": "white",
            "width": 3
           },
           "mode": "lines",
           "opacity": 1,
           "showlegend": false,
           "type": "scatter",
           "x": [
            0,
            0,
            10,
            10,
            0
           ],
           "y": [
            0,
            53.5,
            53.5,
            0,
            0
           ]
          },
          {
           "fill": "toself",
           "fillcolor": "#FFB612",
           "hoverinfo": "skip",
           "line": {
            "color": "white",
            "width": 3
           },
           "mode": "lines",
           "opacity": 1,
           "showlegend": false,
           "type": "scatter",
           "x": [
            110,
            110,
            120,
            120,
            110
           ],
           "y": [
            0,
            53.5,
            53.5,
            0,
            0
           ]
          },
          {
           "hoverinfo": "text",
           "hovertext": [
            "nflId:37104<br>displayName:Cameron Heyward<br>Player Speed:0.0 MPH",
            "nflId:43325<br>displayName:Myles Jack<br>Player Speed:3.557 MPH",
            "nflId:44842<br>displayName:T.J. Watt<br>Player Speed:0.425 MPH",
            "nflId:44878<br>displayName:Ahkello Witherspoon<br>Player Speed:2.483 MPH",
            "nflId:44906<br>displayName:Cameron Sutton<br>Player Speed:3.266 MPH",
            "nflId:45395<br>displayName:Arthur Maulet<br>Player Speed:5.771 MPH",
            "nflId:46080<br>displayName:Minkah Fitzpatrick<br>Player Speed:1.924 MPH",
            "nflId:46097<br>displayName:Terrell Edmunds<br>Player Speed:2.036 MPH",
            "nflId:46902<br>displayName:Robert Spillane<br>Player Speed:4.25 MPH",
            "nflId:52971<br>displayName:Jamir Jones<br>Player Speed:0.0 MPH",
            "nflId:54549<br>displayName:DeMarvin Leal<br>Player Speed:0.0 MPH"
           ],
           "marker": {
            "color": "#FFB612",
            "line": {
             "color": "#101820",
             "width": 2
            },
            "size": 10
           },
           "mode": "markers",
           "name": "PIT",
           "type": "scatter",
           "x": [
            74.99,
            78.67,
            74.68,
            77.71,
            79.51,
            77.25,
            85.3,
            86.25,
            78.86,
            75.05,
            74.62
           ],
           "y": [
            30.8,
            26.43,
            23.28,
            19.5,
            40.5,
            36.54,
            35.61,
            24.9,
            29.97,
            34.88,
            27.11
           ]
          },
          {
           "hoverinfo": "text",
           "hovertext": [
            "nflId:42654<br>displayName:La'el Collins<br>Player Speed:0.0 MPH",
            "nflId:43344<br>displayName:Tyler Boyd<br>Player Speed:0.0 MPH",
            "nflId:43495<br>displayName:Mike Thomas<br>Player Speed:15.547 MPH",
            "nflId:43510<br>displayName:Ted Karras<br>Player Speed:0.0 MPH",
            "nflId:44860<br>displayName:Joe Mixon<br>Player Speed:0.0 MPH",
            "nflId:46163<br>displayName:Alex Cappa<br>Player Speed:0.0 MPH",
            "nflId:47794<br>displayName:Jonah Williams<br>Player Speed:0.0 MPH",
            "nflId:47835<br>displayName:Drew Sample<br>Player Speed:0.0 MPH",
            "nflId:52409<br>displayName:Joe Burrow<br>Player Speed:0.022 MPH",
            "nflId:53434<br>displayName:Ja'Marr Chase<br>Player Speed:0.022 MPH",
            "nflId:54601<br>displayName:Cordell Volson<br>Player Speed:0.0 MPH"
           ],
           "marker": {
            "color": "#000000",
            "line": {
             "color": "#FB4F14",
             "width": 2
            },
            "size": 10
           },
           "mode": "markers",
           "name": "CIN",
           "type": "scatter",
           "x": [
            72.75,
            73.54,
            71.44,
            73.58,
            68.95,
            72.92,
            72.87,
            72.67,
            69.22,
            69.04,
            73.01
           ],
           "y": [
            26.57,
            36.73,
            32.84,
            29.69,
            27,
            28.22,
            32.65,
            24.85,
            29.86,
            31.86,
            31.28
           ]
          },
          {
           "hoverinfo": "none",
           "marker": {
            "color": "#CBB67C",
            "line": {
             "color": "#663831",
             "width": 2
            },
            "size": 10
           },
           "mode": "markers",
           "name": "football",
           "type": "scatter",
           "x": [
            73.8099975585938
           ],
           "y": [
            29.6800003051758
           ]
          }
         ],
         "name": "91"
        },
        {
         "data": [
          {
           "hoverinfo": "none",
           "mode": "text",
           "showlegend": false,
           "text": [
            "10",
            "20",
            "30",
            "40",
            "50",
            "40",
            "30",
            "20",
            "10"
           ],
           "textfont": {
            "color": "#ffffff",
            "family": "Courier New, monospace",
            "size": 30
           },
           "type": "scatter",
           "x": [
            20,
            30,
            40,
            50,
            60,
            70,
            80,
            90,
            100
           ],
           "y": [
            5,
            5,
            5,
            5,
            5,
            5,
            5,
            5,
            5
           ]
          },
          {
           "hoverinfo": "none",
           "mode": "text",
           "showlegend": false,
           "text": [
            "10",
            "20",
            "30",
            "40",
            "50",
            "40",
            "30",
            "20",
            "10"
           ],
           "textfont": {
            "color": "#ffffff",
            "family": "Courier New, monospace",
            "size": 30
           },
           "type": "scatter",
           "x": [
            20,
            30,
            40,
            50,
            60,
            70,
            80,
            90,
            100
           ],
           "y": [
            48.5,
            48.5,
            48.5,
            48.5,
            48.5,
            48.5,
            48.5,
            48.5,
            48.5
           ]
          },
          {
           "hoverinfo": "none",
           "line": {
            "color": "blue",
            "dash": "dash"
           },
           "showlegend": false,
           "type": "scatter",
           "x": [
            74,
            74
           ],
           "y": [
            0,
            53.5
           ]
          },
          {
           "hoverinfo": "none",
           "line": {
            "color": "yellow",
            "dash": "dash"
           },
           "showlegend": false,
           "type": "scatter",
           "x": [
            80,
            80
           ],
           "y": [
            0,
            53.5
           ]
          },
          {
           "fill": "toself",
           "fillcolor": "#000000",
           "hoverinfo": "skip",
           "line": {
            "color": "white",
            "width": 3
           },
           "mode": "lines",
           "opacity": 1,
           "showlegend": false,
           "type": "scatter",
           "x": [
            0,
            0,
            10,
            10,
            0
           ],
           "y": [
            0,
            53.5,
            53.5,
            0,
            0
           ]
          },
          {
           "fill": "toself",
           "fillcolor": "#FFB612",
           "hoverinfo": "skip",
           "line": {
            "color": "white",
            "width": 3
           },
           "mode": "lines",
           "opacity": 1,
           "showlegend": false,
           "type": "scatter",
           "x": [
            110,
            110,
            120,
            120,
            110
           ],
           "y": [
            0,
            53.5,
            53.5,
            0,
            0
           ]
          },
          {
           "hoverinfo": "text",
           "hovertext": [
            "nflId:37104<br>displayName:Cameron Heyward<br>Player Speed:0.0 MPH",
            "nflId:43325<br>displayName:Myles Jack<br>Player Speed:3.758 MPH",
            "nflId:44842<br>displayName:T.J. Watt<br>Player Speed:0.336 MPH",
            "nflId:44878<br>displayName:Ahkello Witherspoon<br>Player Speed:2.572 MPH",
            "nflId:44906<br>displayName:Cameron Sutton<br>Player Speed:3.221 MPH",
            "nflId:45395<br>displayName:Arthur Maulet<br>Player Speed:5.838 MPH",
            "nflId:46080<br>displayName:Minkah Fitzpatrick<br>Player Speed:1.857 MPH",
            "nflId:46097<br>displayName:Terrell Edmunds<br>Player Speed:1.991 MPH",
            "nflId:46902<br>displayName:Robert Spillane<br>Player Speed:4.138 MPH",
            "nflId:52971<br>displayName:Jamir Jones<br>Player Speed:0.0 MPH",
            "nflId:54549<br>displayName:DeMarvin Leal<br>Player Speed:0.0 MPH"
           ],
           "marker": {
            "color": "#FFB612",
            "line": {
             "color": "#101820",
             "width": 2
            },
            "size": 10
           },
           "mode": "markers",
           "name": "PIT",
           "type": "scatter",
           "x": [
            74.99,
            78.65,
            74.65,
            77.68,
            79.45,
            77.34,
            85.38,
            86.31,
            78.85,
            75.05,
            74.62
           ],
           "y": [
            30.8,
            26.27,
            23.3,
            19.39,
            40.37,
            36.3,
            35.58,
            24.85,
            29.78,
            34.88,
            27.11
           ]
          },
          {
           "hoverinfo": "text",
           "hovertext": [
            "nflId:42654<br>displayName:La'el Collins<br>Player Speed:0.0 MPH",
            "nflId:43344<br>displayName:Tyler Boyd<br>Player Speed:0.0 MPH",
            "nflId:43495<br>displayName:Mike Thomas<br>Player Speed:15.882 MPH",
            "nflId:43510<br>displayName:Ted Karras<br>Player Speed:0.0 MPH",
            "nflId:44860<br>displayName:Joe Mixon<br>Player Speed:0.0 MPH",
            "nflId:46163<br>displayName:Alex Cappa<br>Player Speed:0.0 MPH",
            "nflId:47794<br>displayName:Jonah Williams<br>Player Speed:0.0 MPH",
            "nflId:47835<br>displayName:Drew Sample<br>Player Speed:0.0 MPH",
            "nflId:52409<br>displayName:Joe Burrow<br>Player Speed:0.022 MPH",
            "nflId:53434<br>displayName:Ja'Marr Chase<br>Player Speed:0.022 MPH",
            "nflId:54601<br>displayName:Cordell Volson<br>Player Speed:0.0 MPH"
           ],
           "marker": {
            "color": "#000000",
            "line": {
             "color": "#FB4F14",
             "width": 2
            },
            "size": 10
           },
           "mode": "markers",
           "name": "CIN",
           "type": "scatter",
           "x": [
            72.75,
            73.54,
            71.41,
            73.58,
            68.95,
            72.92,
            72.87,
            72.67,
            69.22,
            69.04,
            73.01
           ],
           "y": [
            26.58,
            36.72,
            32.13,
            29.68,
            27,
            28.22,
            32.65,
            24.85,
            29.86,
            31.85,
            31.28
           ]
          },
          {
           "hoverinfo": "none",
           "marker": {
            "color": "#CBB67C",
            "line": {
             "color": "#663831",
             "width": 2
            },
            "size": 10
           },
           "mode": "markers",
           "name": "football",
           "type": "scatter",
           "x": [
            73.8099975585938
           ],
           "y": [
            29.6800003051758
           ]
          }
         ],
         "name": "92"
        },
        {
         "data": [
          {
           "hoverinfo": "none",
           "mode": "text",
           "showlegend": false,
           "text": [
            "10",
            "20",
            "30",
            "40",
            "50",
            "40",
            "30",
            "20",
            "10"
           ],
           "textfont": {
            "color": "#ffffff",
            "family": "Courier New, monospace",
            "size": 30
           },
           "type": "scatter",
           "x": [
            20,
            30,
            40,
            50,
            60,
            70,
            80,
            90,
            100
           ],
           "y": [
            5,
            5,
            5,
            5,
            5,
            5,
            5,
            5,
            5
           ]
          },
          {
           "hoverinfo": "none",
           "mode": "text",
           "showlegend": false,
           "text": [
            "10",
            "20",
            "30",
            "40",
            "50",
            "40",
            "30",
            "20",
            "10"
           ],
           "textfont": {
            "color": "#ffffff",
            "family": "Courier New, monospace",
            "size": 30
           },
           "type": "scatter",
           "x": [
            20,
            30,
            40,
            50,
            60,
            70,
            80,
            90,
            100
           ],
           "y": [
            48.5,
            48.5,
            48.5,
            48.5,
            48.5,
            48.5,
            48.5,
            48.5,
            48.5
           ]
          },
          {
           "hoverinfo": "none",
           "line": {
            "color": "blue",
            "dash": "dash"
           },
           "showlegend": false,
           "type": "scatter",
           "x": [
            74,
            74
           ],
           "y": [
            0,
            53.5
           ]
          },
          {
           "hoverinfo": "none",
           "line": {
            "color": "yellow",
            "dash": "dash"
           },
           "showlegend": false,
           "type": "scatter",
           "x": [
            80,
            80
           ],
           "y": [
            0,
            53.5
           ]
          },
          {
           "fill": "toself",
           "fillcolor": "#000000",
           "hoverinfo": "skip",
           "line": {
            "color": "white",
            "width": 3
           },
           "mode": "lines",
           "opacity": 1,
           "showlegend": false,
           "type": "scatter",
           "x": [
            0,
            0,
            10,
            10,
            0
           ],
           "y": [
            0,
            53.5,
            53.5,
            0,
            0
           ]
          },
          {
           "fill": "toself",
           "fillcolor": "#FFB612",
           "hoverinfo": "skip",
           "line": {
            "color": "white",
            "width": 3
           },
           "mode": "lines",
           "opacity": 1,
           "showlegend": false,
           "type": "scatter",
           "x": [
            110,
            110,
            120,
            120,
            110
           ],
           "y": [
            0,
            53.5,
            53.5,
            0,
            0
           ]
          },
          {
           "hoverinfo": "text",
           "hovertext": [
            "nflId:37104<br>displayName:Cameron Heyward<br>Player Speed:0.0 MPH",
            "nflId:43325<br>displayName:Myles Jack<br>Player Speed:3.915 MPH",
            "nflId:44842<br>displayName:T.J. Watt<br>Player Speed:0.313 MPH",
            "nflId:44878<br>displayName:Ahkello Witherspoon<br>Player Speed:2.662 MPH",
            "nflId:44906<br>displayName:Cameron Sutton<br>Player Speed:3.176 MPH",
            "nflId:45395<br>displayName:Arthur Maulet<br>Player Speed:5.727 MPH",
            "nflId:46080<br>displayName:Minkah Fitzpatrick<br>Player Speed:1.812 MPH",
            "nflId:46097<br>displayName:Terrell Edmunds<br>Player Speed:2.08 MPH",
            "nflId:46902<br>displayName:Robert Spillane<br>Player Speed:4.161 MPH",
            "nflId:52971<br>displayName:Jamir Jones<br>Player Speed:0.0 MPH",
            "nflId:54549<br>displayName:DeMarvin Leal<br>Player Speed:0.0 MPH"
           ],
           "marker": {
            "color": "#FFB612",
            "line": {
             "color": "#101820",
             "width": 2
            },
            "size": 10
           },
           "mode": "markers",
           "name": "PIT",
           "type": "scatter",
           "x": [
            74.99,
            78.64,
            74.64,
            77.65,
            79.4,
            77.42,
            85.46,
            86.36,
            78.85,
            75.05,
            74.62
           ],
           "y": [
            30.8,
            26.1,
            23.31,
            19.27,
            40.24,
            36.06,
            35.56,
            24.77,
            29.59,
            34.88,
            27.11
           ]
          },
          {
           "hoverinfo": "text",
           "hovertext": [
            "nflId:42654<br>displayName:La'el Collins<br>Player Speed:0.0 MPH",
            "nflId:43344<br>displayName:Tyler Boyd<br>Player Speed:0.0 MPH",
            "nflId:43495<br>displayName:Mike Thomas<br>Player Speed:16.195 MPH",
            "nflId:43510<br>displayName:Ted Karras<br>Player Speed:0.0 MPH",
            "nflId:44860<br>displayName:Joe Mixon<br>Player Speed:0.0 MPH",
            "nflId:46163<br>displayName:Alex Cappa<br>Player Speed:0.0 MPH",
            "nflId:47794<br>displayName:Jonah Williams<br>Player Speed:0.0 MPH",
            "nflId:47835<br>displayName:Drew Sample<br>Player Speed:0.0 MPH",
            "nflId:52409<br>displayName:Joe Burrow<br>Player Speed:0.0 MPH",
            "nflId:53434<br>displayName:Ja'Marr Chase<br>Player Speed:0.022 MPH",
            "nflId:54601<br>displayName:Cordell Volson<br>Player Speed:0.0 MPH"
           ],
           "marker": {
            "color": "#000000",
            "line": {
             "color": "#FB4F14",
             "width": 2
            },
            "size": 10
           },
           "mode": "markers",
           "name": "CIN",
           "type": "scatter",
           "x": [
            72.75,
            73.54,
            71.38,
            73.58,
            68.95,
            72.92,
            72.87,
            72.67,
            69.22,
            69.04,
            73.02
           ],
           "y": [
            26.58,
            36.72,
            31.41,
            29.69,
            27,
            28.21,
            32.65,
            24.85,
            29.86,
            31.86,
            31.28
           ]
          },
          {
           "hoverinfo": "none",
           "marker": {
            "color": "#CBB67C",
            "line": {
             "color": "#663831",
             "width": 2
            },
            "size": 10
           },
           "mode": "markers",
           "name": "football",
           "type": "scatter",
           "x": [
            73.8099975585938
           ],
           "y": [
            29.6800003051758
           ]
          }
         ],
         "name": "93"
        },
        {
         "data": [
          {
           "hoverinfo": "none",
           "mode": "text",
           "showlegend": false,
           "text": [
            "10",
            "20",
            "30",
            "40",
            "50",
            "40",
            "30",
            "20",
            "10"
           ],
           "textfont": {
            "color": "#ffffff",
            "family": "Courier New, monospace",
            "size": 30
           },
           "type": "scatter",
           "x": [
            20,
            30,
            40,
            50,
            60,
            70,
            80,
            90,
            100
           ],
           "y": [
            5,
            5,
            5,
            5,
            5,
            5,
            5,
            5,
            5
           ]
          },
          {
           "hoverinfo": "none",
           "mode": "text",
           "showlegend": false,
           "text": [
            "10",
            "20",
            "30",
            "40",
            "50",
            "40",
            "30",
            "20",
            "10"
           ],
           "textfont": {
            "color": "#ffffff",
            "family": "Courier New, monospace",
            "size": 30
           },
           "type": "scatter",
           "x": [
            20,
            30,
            40,
            50,
            60,
            70,
            80,
            90,
            100
           ],
           "y": [
            48.5,
            48.5,
            48.5,
            48.5,
            48.5,
            48.5,
            48.5,
            48.5,
            48.5
           ]
          },
          {
           "hoverinfo": "none",
           "line": {
            "color": "blue",
            "dash": "dash"
           },
           "showlegend": false,
           "type": "scatter",
           "x": [
            74,
            74
           ],
           "y": [
            0,
            53.5
           ]
          },
          {
           "hoverinfo": "none",
           "line": {
            "color": "yellow",
            "dash": "dash"
           },
           "showlegend": false,
           "type": "scatter",
           "x": [
            80,
            80
           ],
           "y": [
            0,
            53.5
           ]
          },
          {
           "fill": "toself",
           "fillcolor": "#000000",
           "hoverinfo": "skip",
           "line": {
            "color": "white",
            "width": 3
           },
           "mode": "lines",
           "opacity": 1,
           "showlegend": false,
           "type": "scatter",
           "x": [
            0,
            0,
            10,
            10,
            0
           ],
           "y": [
            0,
            53.5,
            53.5,
            0,
            0
           ]
          },
          {
           "fill": "toself",
           "fillcolor": "#FFB612",
           "hoverinfo": "skip",
           "line": {
            "color": "white",
            "width": 3
           },
           "mode": "lines",
           "opacity": 1,
           "showlegend": false,
           "type": "scatter",
           "x": [
            110,
            110,
            120,
            120,
            110
           ],
           "y": [
            0,
            53.5,
            53.5,
            0,
            0
           ]
          },
          {
           "hoverinfo": "text",
           "hovertext": [
            "nflId:37104<br>displayName:Cameron Heyward<br>Player Speed:0.0 MPH",
            "nflId:43325<br>displayName:Myles Jack<br>Player Speed:3.848 MPH",
            "nflId:44842<br>displayName:T.J. Watt<br>Player Speed:0.268 MPH",
            "nflId:44878<br>displayName:Ahkello Witherspoon<br>Player Speed:2.841 MPH",
            "nflId:44906<br>displayName:Cameron Sutton<br>Player Speed:3.02 MPH",
            "nflId:45395<br>displayName:Arthur Maulet<br>Player Speed:5.324 MPH",
            "nflId:46080<br>displayName:Minkah Fitzpatrick<br>Player Speed:1.79 MPH",
            "nflId:46097<br>displayName:Terrell Edmunds<br>Player Speed:2.147 MPH",
            "nflId:46902<br>displayName:Robert Spillane<br>Player Speed:4.026 MPH",
            "nflId:52971<br>displayName:Jamir Jones<br>Player Speed:0.0 MPH",
            "nflId:54549<br>displayName:DeMarvin Leal<br>Player Speed:0.0 MPH"
           ],
           "marker": {
            "color": "#FFB612",
            "line": {
             "color": "#101820",
             "width": 2
            },
            "size": 10
           },
           "mode": "markers",
           "name": "PIT",
           "type": "scatter",
           "x": [
            74.99,
            78.62,
            74.63,
            77.61,
            79.35,
            77.48,
            85.54,
            86.4,
            78.85,
            75.05,
            74.62
           ],
           "y": [
            30.8,
            25.93,
            23.32,
            19.15,
            40.11,
            35.82,
            35.54,
            24.69,
            29.41,
            34.88,
            27.11
           ]
          },
          {
           "hoverinfo": "text",
           "hovertext": [
            "nflId:42654<br>displayName:La'el Collins<br>Player Speed:0.0 MPH",
            "nflId:43344<br>displayName:Tyler Boyd<br>Player Speed:0.0 MPH",
            "nflId:43495<br>displayName:Mike Thomas<br>Player Speed:16.397 MPH",
            "nflId:43510<br>displayName:Ted Karras<br>Player Speed:0.0 MPH",
            "nflId:44860<br>displayName:Joe Mixon<br>Player Speed:0.0 MPH",
            "nflId:46163<br>displayName:Alex Cappa<br>Player Speed:0.0 MPH",
            "nflId:47794<br>displayName:Jonah Williams<br>Player Speed:0.0 MPH",
            "nflId:47835<br>displayName:Drew Sample<br>Player Speed:0.0 MPH",
            "nflId:52409<br>displayName:Joe Burrow<br>Player Speed:0.045 MPH",
            "nflId:53434<br>displayName:Ja'Marr Chase<br>Player Speed:0.022 MPH",
            "nflId:54601<br>displayName:Cordell Volson<br>Player Speed:0.0 MPH"
           ],
           "marker": {
            "color": "#000000",
            "line": {
             "color": "#FB4F14",
             "width": 2
            },
            "size": 10
           },
           "mode": "markers",
           "name": "CIN",
           "type": "scatter",
           "x": [
            72.75,
            73.54,
            71.36,
            73.58,
            68.95,
            72.92,
            72.87,
            72.67,
            69.22,
            69.04,
            73.02
           ],
           "y": [
            26.58,
            36.72,
            30.68,
            29.69,
            27,
            28.21,
            32.65,
            24.86,
            29.86,
            31.85,
            31.28
           ]
          },
          {
           "hoverinfo": "none",
           "marker": {
            "color": "#CBB67C",
            "line": {
             "color": "#663831",
             "width": 2
            },
            "size": 10
           },
           "mode": "markers",
           "name": "football",
           "type": "scatter",
           "x": [
            73.8099975585938
           ],
           "y": [
            29.6800003051758
           ]
          }
         ],
         "name": "94"
        },
        {
         "data": [
          {
           "hoverinfo": "none",
           "mode": "text",
           "showlegend": false,
           "text": [
            "10",
            "20",
            "30",
            "40",
            "50",
            "40",
            "30",
            "20",
            "10"
           ],
           "textfont": {
            "color": "#ffffff",
            "family": "Courier New, monospace",
            "size": 30
           },
           "type": "scatter",
           "x": [
            20,
            30,
            40,
            50,
            60,
            70,
            80,
            90,
            100
           ],
           "y": [
            5,
            5,
            5,
            5,
            5,
            5,
            5,
            5,
            5
           ]
          },
          {
           "hoverinfo": "none",
           "mode": "text",
           "showlegend": false,
           "text": [
            "10",
            "20",
            "30",
            "40",
            "50",
            "40",
            "30",
            "20",
            "10"
           ],
           "textfont": {
            "color": "#ffffff",
            "family": "Courier New, monospace",
            "size": 30
           },
           "type": "scatter",
           "x": [
            20,
            30,
            40,
            50,
            60,
            70,
            80,
            90,
            100
           ],
           "y": [
            48.5,
            48.5,
            48.5,
            48.5,
            48.5,
            48.5,
            48.5,
            48.5,
            48.5
           ]
          },
          {
           "hoverinfo": "none",
           "line": {
            "color": "blue",
            "dash": "dash"
           },
           "showlegend": false,
           "type": "scatter",
           "x": [
            74,
            74
           ],
           "y": [
            0,
            53.5
           ]
          },
          {
           "hoverinfo": "none",
           "line": {
            "color": "yellow",
            "dash": "dash"
           },
           "showlegend": false,
           "type": "scatter",
           "x": [
            80,
            80
           ],
           "y": [
            0,
            53.5
           ]
          },
          {
           "fill": "toself",
           "fillcolor": "#000000",
           "hoverinfo": "skip",
           "line": {
            "color": "white",
            "width": 3
           },
           "mode": "lines",
           "opacity": 1,
           "showlegend": false,
           "type": "scatter",
           "x": [
            0,
            0,
            10,
            10,
            0
           ],
           "y": [
            0,
            53.5,
            53.5,
            0,
            0
           ]
          },
          {
           "fill": "toself",
           "fillcolor": "#FFB612",
           "hoverinfo": "skip",
           "line": {
            "color": "white",
            "width": 3
           },
           "mode": "lines",
           "opacity": 1,
           "showlegend": false,
           "type": "scatter",
           "x": [
            110,
            110,
            120,
            120,
            110
           ],
           "y": [
            0,
            53.5,
            53.5,
            0,
            0
           ]
          },
          {
           "hoverinfo": "text",
           "hovertext": [
            "nflId:37104<br>displayName:Cameron Heyward<br>Player Speed:0.0 MPH",
            "nflId:43325<br>displayName:Myles Jack<br>Player Speed:3.691 MPH",
            "nflId:44842<br>displayName:T.J. Watt<br>Player Speed:0.291 MPH",
            "nflId:44878<br>displayName:Ahkello Witherspoon<br>Player Speed:2.93 MPH",
            "nflId:44906<br>displayName:Cameron Sutton<br>Player Speed:2.886 MPH",
            "nflId:45395<br>displayName:Arthur Maulet<br>Player Speed:4.832 MPH",
            "nflId:46080<br>displayName:Minkah Fitzpatrick<br>Player Speed:1.745 MPH",
            "nflId:46097<br>displayName:Terrell Edmunds<br>Player Speed:2.349 MPH",
            "nflId:46902<br>displayName:Robert Spillane<br>Player Speed:3.892 MPH",
            "nflId:52971<br>displayName:Jamir Jones<br>Player Speed:0.0 MPH",
            "nflId:54549<br>displayName:DeMarvin Leal<br>Player Speed:0.0 MPH"
           ],
           "marker": {
            "color": "#FFB612",
            "line": {
             "color": "#101820",
             "width": 2
            },
            "size": 10
           },
           "mode": "markers",
           "name": "PIT",
           "type": "scatter",
           "x": [
            74.99,
            78.62,
            74.61,
            77.57,
            79.3,
            77.54,
            85.62,
            86.44,
            78.85,
            75.04,
            74.62
           ],
           "y": [
            30.8,
            25.77,
            23.34,
            19.03,
            39.99,
            35.6,
            35.53,
            24.59,
            29.23,
            34.88,
            27.11
           ]
          },
          {
           "hoverinfo": "text",
           "hovertext": [
            "nflId:42654<br>displayName:La'el Collins<br>Player Speed:0.0 MPH",
            "nflId:43344<br>displayName:Tyler Boyd<br>Player Speed:0.0 MPH",
            "nflId:43495<br>displayName:Mike Thomas<br>Player Speed:16.62 MPH",
            "nflId:43510<br>displayName:Ted Karras<br>Player Speed:0.0 MPH",
            "nflId:44860<br>displayName:Joe Mixon<br>Player Speed:0.0 MPH",
            "nflId:46163<br>displayName:Alex Cappa<br>Player Speed:0.022 MPH",
            "nflId:47794<br>displayName:Jonah Williams<br>Player Speed:0.0 MPH",
            "nflId:47835<br>displayName:Drew Sample<br>Player Speed:0.0 MPH",
            "nflId:52409<br>displayName:Joe Burrow<br>Player Speed:0.134 MPH",
            "nflId:53434<br>displayName:Ja'Marr Chase<br>Player Speed:0.022 MPH",
            "nflId:54601<br>displayName:Cordell Volson<br>Player Speed:0.0 MPH"
           ],
           "marker": {
            "color": "#000000",
            "line": {
             "color": "#FB4F14",
             "width": 2
            },
            "size": 10
           },
           "mode": "markers",
           "name": "CIN",
           "type": "scatter",
           "x": [
            72.75,
            73.55,
            71.34,
            73.58,
            68.96,
            72.92,
            72.87,
            72.67,
            69.23,
            69.05,
            73.02
           ],
           "y": [
            26.58,
            36.72,
            29.94,
            29.69,
            27,
            28.21,
            32.65,
            24.86,
            29.87,
            31.85,
            31.28
           ]
          },
          {
           "hoverinfo": "none",
           "marker": {
            "color": "#CBB67C",
            "line": {
             "color": "#663831",
             "width": 2
            },
            "size": 10
           },
           "mode": "markers",
           "name": "football",
           "type": "scatter",
           "x": [
            73.8099975585938
           ],
           "y": [
            29.6800003051758
           ]
          }
         ],
         "name": "95"
        },
        {
         "data": [
          {
           "hoverinfo": "none",
           "mode": "text",
           "showlegend": false,
           "text": [
            "10",
            "20",
            "30",
            "40",
            "50",
            "40",
            "30",
            "20",
            "10"
           ],
           "textfont": {
            "color": "#ffffff",
            "family": "Courier New, monospace",
            "size": 30
           },
           "type": "scatter",
           "x": [
            20,
            30,
            40,
            50,
            60,
            70,
            80,
            90,
            100
           ],
           "y": [
            5,
            5,
            5,
            5,
            5,
            5,
            5,
            5,
            5
           ]
          },
          {
           "hoverinfo": "none",
           "mode": "text",
           "showlegend": false,
           "text": [
            "10",
            "20",
            "30",
            "40",
            "50",
            "40",
            "30",
            "20",
            "10"
           ],
           "textfont": {
            "color": "#ffffff",
            "family": "Courier New, monospace",
            "size": 30
           },
           "type": "scatter",
           "x": [
            20,
            30,
            40,
            50,
            60,
            70,
            80,
            90,
            100
           ],
           "y": [
            48.5,
            48.5,
            48.5,
            48.5,
            48.5,
            48.5,
            48.5,
            48.5,
            48.5
           ]
          },
          {
           "hoverinfo": "none",
           "line": {
            "color": "blue",
            "dash": "dash"
           },
           "showlegend": false,
           "type": "scatter",
           "x": [
            74,
            74
           ],
           "y": [
            0,
            53.5
           ]
          },
          {
           "hoverinfo": "none",
           "line": {
            "color": "yellow",
            "dash": "dash"
           },
           "showlegend": false,
           "type": "scatter",
           "x": [
            80,
            80
           ],
           "y": [
            0,
            53.5
           ]
          },
          {
           "fill": "toself",
           "fillcolor": "#000000",
           "hoverinfo": "skip",
           "line": {
            "color": "white",
            "width": 3
           },
           "mode": "lines",
           "opacity": 1,
           "showlegend": false,
           "type": "scatter",
           "x": [
            0,
            0,
            10,
            10,
            0
           ],
           "y": [
            0,
            53.5,
            53.5,
            0,
            0
           ]
          },
          {
           "fill": "toself",
           "fillcolor": "#FFB612",
           "hoverinfo": "skip",
           "line": {
            "color": "white",
            "width": 3
           },
           "mode": "lines",
           "opacity": 1,
           "showlegend": false,
           "type": "scatter",
           "x": [
            110,
            110,
            120,
            120,
            110
           ],
           "y": [
            0,
            53.5,
            53.5,
            0,
            0
           ]
          },
          {
           "hoverinfo": "text",
           "hovertext": [
            "nflId:37104<br>displayName:Cameron Heyward<br>Player Speed:0.0 MPH",
            "nflId:43325<br>displayName:Myles Jack<br>Player Speed:3.4 MPH",
            "nflId:44842<br>displayName:T.J. Watt<br>Player Speed:0.336 MPH",
            "nflId:44878<br>displayName:Ahkello Witherspoon<br>Player Speed:3.199 MPH",
            "nflId:44906<br>displayName:Cameron Sutton<br>Player Speed:2.662 MPH",
            "nflId:45395<br>displayName:Arthur Maulet<br>Player Speed:4.138 MPH",
            "nflId:46080<br>displayName:Minkah Fitzpatrick<br>Player Speed:1.745 MPH",
            "nflId:46097<br>displayName:Terrell Edmunds<br>Player Speed:2.438 MPH",
            "nflId:46902<br>displayName:Robert Spillane<br>Player Speed:3.624 MPH",
            "nflId:52971<br>displayName:Jamir Jones<br>Player Speed:0.045 MPH",
            "nflId:54549<br>displayName:DeMarvin Leal<br>Player Speed:0.0 MPH"
           ],
           "marker": {
            "color": "#FFB612",
            "line": {
             "color": "#101820",
             "width": 2
            },
            "size": 10
           },
           "mode": "markers",
           "name": "PIT",
           "type": "scatter",
           "x": [
            74.99,
            78.61,
            74.6,
            77.52,
            79.25,
            77.57,
            85.7,
            86.46,
            78.84,
            75.04,
            74.61
           ],
           "y": [
            30.8,
            25.61,
            23.37,
            18.89,
            39.88,
            35.41,
            35.53,
            24.49,
            29.07,
            34.88,
            27.11
           ]
          },
          {
           "hoverinfo": "text",
           "hovertext": [
            "nflId:42654<br>displayName:La'el Collins<br>Player Speed:0.022 MPH",
            "nflId:43344<br>displayName:Tyler Boyd<br>Player Speed:0.0 MPH",
            "nflId:43495<br>displayName:Mike Thomas<br>Player Speed:16.755 MPH",
            "nflId:43510<br>displayName:Ted Karras<br>Player Speed:0.022 MPH",
            "nflId:44860<br>displayName:Joe Mixon<br>Player Speed:0.0 MPH",
            "nflId:46163<br>displayName:Alex Cappa<br>Player Speed:0.157 MPH",
            "nflId:47794<br>displayName:Jonah Williams<br>Player Speed:0.022 MPH",
            "nflId:47835<br>displayName:Drew Sample<br>Player Speed:0.0 MPH",
            "nflId:52409<br>displayName:Joe Burrow<br>Player Speed:0.268 MPH",
            "nflId:53434<br>displayName:Ja'Marr Chase<br>Player Speed:0.0 MPH",
            "nflId:54601<br>displayName:Cordell Volson<br>Player Speed:0.045 MPH"
           ],
           "marker": {
            "color": "#000000",
            "line": {
             "color": "#FB4F14",
             "width": 2
            },
            "size": 10
           },
           "mode": "markers",
           "name": "CIN",
           "type": "scatter",
           "x": [
            72.75,
            73.55,
            71.33,
            73.58,
            68.96,
            72.93,
            72.86,
            72.67,
            69.24,
            69.04,
            73.02
           ],
           "y": [
            26.58,
            36.72,
            29.19,
            29.69,
            27,
            28.21,
            32.65,
            24.86,
            29.87,
            31.84,
            31.28
           ]
          },
          {
           "hoverinfo": "none",
           "marker": {
            "color": "#CBB67C",
            "line": {
             "color": "#663831",
             "width": 2
            },
            "size": 10
           },
           "mode": "markers",
           "name": "football",
           "type": "scatter",
           "x": [
            73.8099975585938
           ],
           "y": [
            29.6800003051758
           ]
          }
         ],
         "name": "96"
        },
        {
         "data": [
          {
           "hoverinfo": "none",
           "mode": "text",
           "showlegend": false,
           "text": [
            "10",
            "20",
            "30",
            "40",
            "50",
            "40",
            "30",
            "20",
            "10"
           ],
           "textfont": {
            "color": "#ffffff",
            "family": "Courier New, monospace",
            "size": 30
           },
           "type": "scatter",
           "x": [
            20,
            30,
            40,
            50,
            60,
            70,
            80,
            90,
            100
           ],
           "y": [
            5,
            5,
            5,
            5,
            5,
            5,
            5,
            5,
            5
           ]
          },
          {
           "hoverinfo": "none",
           "mode": "text",
           "showlegend": false,
           "text": [
            "10",
            "20",
            "30",
            "40",
            "50",
            "40",
            "30",
            "20",
            "10"
           ],
           "textfont": {
            "color": "#ffffff",
            "family": "Courier New, monospace",
            "size": 30
           },
           "type": "scatter",
           "x": [
            20,
            30,
            40,
            50,
            60,
            70,
            80,
            90,
            100
           ],
           "y": [
            48.5,
            48.5,
            48.5,
            48.5,
            48.5,
            48.5,
            48.5,
            48.5,
            48.5
           ]
          },
          {
           "hoverinfo": "none",
           "line": {
            "color": "blue",
            "dash": "dash"
           },
           "showlegend": false,
           "type": "scatter",
           "x": [
            74,
            74
           ],
           "y": [
            0,
            53.5
           ]
          },
          {
           "hoverinfo": "none",
           "line": {
            "color": "yellow",
            "dash": "dash"
           },
           "showlegend": false,
           "type": "scatter",
           "x": [
            80,
            80
           ],
           "y": [
            0,
            53.5
           ]
          },
          {
           "fill": "toself",
           "fillcolor": "#000000",
           "hoverinfo": "skip",
           "line": {
            "color": "white",
            "width": 3
           },
           "mode": "lines",
           "opacity": 1,
           "showlegend": false,
           "type": "scatter",
           "x": [
            0,
            0,
            10,
            10,
            0
           ],
           "y": [
            0,
            53.5,
            53.5,
            0,
            0
           ]
          },
          {
           "fill": "toself",
           "fillcolor": "#FFB612",
           "hoverinfo": "skip",
           "line": {
            "color": "white",
            "width": 3
           },
           "mode": "lines",
           "opacity": 1,
           "showlegend": false,
           "type": "scatter",
           "x": [
            110,
            110,
            120,
            120,
            110
           ],
           "y": [
            0,
            53.5,
            53.5,
            0,
            0
           ]
          },
          {
           "hoverinfo": "text",
           "hovertext": [
            "nflId:37104<br>displayName:Cameron Heyward<br>Player Speed:0.067 MPH",
            "nflId:43325<br>displayName:Myles Jack<br>Player Speed:3.042 MPH",
            "nflId:44842<br>displayName:T.J. Watt<br>Player Speed:0.38 MPH",
            "nflId:44878<br>displayName:Ahkello Witherspoon<br>Player Speed:3.423 MPH",
            "nflId:44906<br>displayName:Cameron Sutton<br>Player Speed:2.326 MPH",
            "nflId:45395<br>displayName:Arthur Maulet<br>Player Speed:3.355 MPH",
            "nflId:46080<br>displayName:Minkah Fitzpatrick<br>Player Speed:1.745 MPH",
            "nflId:46097<br>displayName:Terrell Edmunds<br>Player Speed:2.751 MPH",
            "nflId:46902<br>displayName:Robert Spillane<br>Player Speed:3.311 MPH",
            "nflId:52971<br>displayName:Jamir Jones<br>Player Speed:0.291 MPH",
            "nflId:54549<br>displayName:DeMarvin Leal<br>Player Speed:0.112 MPH"
           ],
           "marker": {
            "color": "#FFB612",
            "line": {
             "color": "#101820",
             "width": 2
            },
            "size": 10
           },
           "mode": "markers",
           "name": "PIT",
           "type": "scatter",
           "x": [
            74.99,
            78.6,
            74.58,
            77.48,
            79.2,
            77.59,
            85.77,
            86.47,
            78.83,
            75.03,
            74.61
           ],
           "y": [
            30.8,
            25.47,
            23.38,
            18.75,
            39.78,
            35.24,
            35.52,
            24.36,
            28.91,
            34.87,
            27.11
           ]
          },
          {
           "hoverinfo": "text",
           "hovertext": [
            "nflId:42654<br>displayName:La'el Collins<br>Player Speed:0.179 MPH",
            "nflId:43344<br>displayName:Tyler Boyd<br>Player Speed:0.022 MPH",
            "nflId:43495<br>displayName:Mike Thomas<br>Player Speed:16.956 MPH",
            "nflId:43510<br>displayName:Ted Karras<br>Player Speed:0.246 MPH",
            "nflId:44860<br>displayName:Joe Mixon<br>Player Speed:0.0 MPH",
            "nflId:46163<br>displayName:Alex Cappa<br>Player Speed:0.47 MPH",
            "nflId:47794<br>displayName:Jonah Williams<br>Player Speed:0.246 MPH",
            "nflId:47835<br>displayName:Drew Sample<br>Player Speed:0.0 MPH",
            "nflId:52409<br>displayName:Joe Burrow<br>Player Speed:0.358 MPH",
            "nflId:53434<br>displayName:Ja'Marr Chase<br>Player Speed:0.0 MPH",
            "nflId:54601<br>displayName:Cordell Volson<br>Player Speed:0.224 MPH"
           ],
           "marker": {
            "color": "#000000",
            "line": {
             "color": "#FB4F14",
             "width": 2
            },
            "size": 10
           },
           "mode": "markers",
           "name": "CIN",
           "type": "scatter",
           "x": [
            72.75,
            73.57,
            71.32,
            73.58,
            68.96,
            72.94,
            72.85,
            72.67,
            69.25,
            69.04,
            73.03
           ],
           "y": [
            26.58,
            36.72,
            28.43,
            29.7,
            27,
            28.21,
            32.66,
            24.86,
            29.88,
            31.83,
            31.29
           ]
          },
          {
           "hoverinfo": "none",
           "marker": {
            "color": "#CBB67C",
            "line": {
             "color": "#663831",
             "width": 2
            },
            "size": 10
           },
           "mode": "markers",
           "name": "football",
           "type": "scatter",
           "x": [
            73.8099975585938
           ],
           "y": [
            29.6800003051758
           ]
          }
         ],
         "name": "97"
        }
       ],
       "layout": {
        "annotations": [
         {
          "align": "center",
          "bgcolor": "#ff7f0e",
          "bordercolor": "black",
          "borderpad": 4,
          "borderwidth": 2,
          "font": {
           "color": "black",
           "family": "Courier New, monospace",
           "size": 16
          },
          "opacity": 1,
          "showarrow": false,
          "text": "2",
          "x": 80,
          "y": 0
         },
         {
          "align": "center",
          "bgcolor": "#ff7f0e",
          "bordercolor": "black",
          "borderpad": 4,
          "borderwidth": 2,
          "font": {
           "color": "black",
           "family": "Courier New, monospace",
           "size": 16
          },
          "opacity": 1,
          "showarrow": false,
          "text": "2",
          "x": 80,
          "y": 53
         },
         {
          "font": {
           "color": "White",
           "family": "Courier New, monospace",
           "size": 32
          },
          "showarrow": false,
          "text": "CIN",
          "textangle": -90,
          "x": 5,
          "y": 26.75
         },
         {
          "font": {
           "color": "White",
           "family": "Courier New, monospace",
           "size": 32
          },
          "showarrow": false,
          "text": "PIT",
          "textangle": 90,
          "x": 115,
          "y": 26.75
         }
        ],
        "autosize": false,
        "height": 600,
        "plot_bgcolor": "#00B140",
        "sliders": [
         {
          "active": 0,
          "currentvalue": {
           "font": {
            "size": 20
           },
           "prefix": "Frame:",
           "visible": true,
           "xanchor": "right"
          },
          "len": 0.9,
          "pad": {
           "b": 10,
           "t": 50
          },
          "steps": [
           {
            "args": [
             [
              1
             ],
             {
              "frame": {
               "duration": 100,
               "redraw": false
              },
              "mode": "immediate",
              "transition": {
               "duration": 0
              }
             }
            ],
            "label": "1",
            "method": "animate"
           },
           {
            "args": [
             [
              2
             ],
             {
              "frame": {
               "duration": 100,
               "redraw": false
              },
              "mode": "immediate",
              "transition": {
               "duration": 0
              }
             }
            ],
            "label": "2",
            "method": "animate"
           },
           {
            "args": [
             [
              3
             ],
             {
              "frame": {
               "duration": 100,
               "redraw": false
              },
              "mode": "immediate",
              "transition": {
               "duration": 0
              }
             }
            ],
            "label": "3",
            "method": "animate"
           },
           {
            "args": [
             [
              4
             ],
             {
              "frame": {
               "duration": 100,
               "redraw": false
              },
              "mode": "immediate",
              "transition": {
               "duration": 0
              }
             }
            ],
            "label": "4",
            "method": "animate"
           },
           {
            "args": [
             [
              5
             ],
             {
              "frame": {
               "duration": 100,
               "redraw": false
              },
              "mode": "immediate",
              "transition": {
               "duration": 0
              }
             }
            ],
            "label": "5",
            "method": "animate"
           },
           {
            "args": [
             [
              6
             ],
             {
              "frame": {
               "duration": 100,
               "redraw": false
              },
              "mode": "immediate",
              "transition": {
               "duration": 0
              }
             }
            ],
            "label": "6",
            "method": "animate"
           },
           {
            "args": [
             [
              7
             ],
             {
              "frame": {
               "duration": 100,
               "redraw": false
              },
              "mode": "immediate",
              "transition": {
               "duration": 0
              }
             }
            ],
            "label": "7",
            "method": "animate"
           },
           {
            "args": [
             [
              8
             ],
             {
              "frame": {
               "duration": 100,
               "redraw": false
              },
              "mode": "immediate",
              "transition": {
               "duration": 0
              }
             }
            ],
            "label": "8",
            "method": "animate"
           },
           {
            "args": [
             [
              9
             ],
             {
              "frame": {
               "duration": 100,
               "redraw": false
              },
              "mode": "immediate",
              "transition": {
               "duration": 0
              }
             }
            ],
            "label": "9",
            "method": "animate"
           },
           {
            "args": [
             [
              10
             ],
             {
              "frame": {
               "duration": 100,
               "redraw": false
              },
              "mode": "immediate",
              "transition": {
               "duration": 0
              }
             }
            ],
            "label": "10",
            "method": "animate"
           },
           {
            "args": [
             [
              11
             ],
             {
              "frame": {
               "duration": 100,
               "redraw": false
              },
              "mode": "immediate",
              "transition": {
               "duration": 0
              }
             }
            ],
            "label": "11",
            "method": "animate"
           },
           {
            "args": [
             [
              12
             ],
             {
              "frame": {
               "duration": 100,
               "redraw": false
              },
              "mode": "immediate",
              "transition": {
               "duration": 0
              }
             }
            ],
            "label": "12",
            "method": "animate"
           },
           {
            "args": [
             [
              13
             ],
             {
              "frame": {
               "duration": 100,
               "redraw": false
              },
              "mode": "immediate",
              "transition": {
               "duration": 0
              }
             }
            ],
            "label": "13",
            "method": "animate"
           },
           {
            "args": [
             [
              14
             ],
             {
              "frame": {
               "duration": 100,
               "redraw": false
              },
              "mode": "immediate",
              "transition": {
               "duration": 0
              }
             }
            ],
            "label": "14",
            "method": "animate"
           },
           {
            "args": [
             [
              15
             ],
             {
              "frame": {
               "duration": 100,
               "redraw": false
              },
              "mode": "immediate",
              "transition": {
               "duration": 0
              }
             }
            ],
            "label": "15",
            "method": "animate"
           },
           {
            "args": [
             [
              16
             ],
             {
              "frame": {
               "duration": 100,
               "redraw": false
              },
              "mode": "immediate",
              "transition": {
               "duration": 0
              }
             }
            ],
            "label": "16",
            "method": "animate"
           },
           {
            "args": [
             [
              17
             ],
             {
              "frame": {
               "duration": 100,
               "redraw": false
              },
              "mode": "immediate",
              "transition": {
               "duration": 0
              }
             }
            ],
            "label": "17",
            "method": "animate"
           },
           {
            "args": [
             [
              18
             ],
             {
              "frame": {
               "duration": 100,
               "redraw": false
              },
              "mode": "immediate",
              "transition": {
               "duration": 0
              }
             }
            ],
            "label": "18",
            "method": "animate"
           },
           {
            "args": [
             [
              19
             ],
             {
              "frame": {
               "duration": 100,
               "redraw": false
              },
              "mode": "immediate",
              "transition": {
               "duration": 0
              }
             }
            ],
            "label": "19",
            "method": "animate"
           },
           {
            "args": [
             [
              20
             ],
             {
              "frame": {
               "duration": 100,
               "redraw": false
              },
              "mode": "immediate",
              "transition": {
               "duration": 0
              }
             }
            ],
            "label": "20",
            "method": "animate"
           },
           {
            "args": [
             [
              21
             ],
             {
              "frame": {
               "duration": 100,
               "redraw": false
              },
              "mode": "immediate",
              "transition": {
               "duration": 0
              }
             }
            ],
            "label": "21",
            "method": "animate"
           },
           {
            "args": [
             [
              22
             ],
             {
              "frame": {
               "duration": 100,
               "redraw": false
              },
              "mode": "immediate",
              "transition": {
               "duration": 0
              }
             }
            ],
            "label": "22",
            "method": "animate"
           },
           {
            "args": [
             [
              23
             ],
             {
              "frame": {
               "duration": 100,
               "redraw": false
              },
              "mode": "immediate",
              "transition": {
               "duration": 0
              }
             }
            ],
            "label": "23",
            "method": "animate"
           },
           {
            "args": [
             [
              24
             ],
             {
              "frame": {
               "duration": 100,
               "redraw": false
              },
              "mode": "immediate",
              "transition": {
               "duration": 0
              }
             }
            ],
            "label": "24",
            "method": "animate"
           },
           {
            "args": [
             [
              25
             ],
             {
              "frame": {
               "duration": 100,
               "redraw": false
              },
              "mode": "immediate",
              "transition": {
               "duration": 0
              }
             }
            ],
            "label": "25",
            "method": "animate"
           },
           {
            "args": [
             [
              26
             ],
             {
              "frame": {
               "duration": 100,
               "redraw": false
              },
              "mode": "immediate",
              "transition": {
               "duration": 0
              }
             }
            ],
            "label": "26",
            "method": "animate"
           },
           {
            "args": [
             [
              27
             ],
             {
              "frame": {
               "duration": 100,
               "redraw": false
              },
              "mode": "immediate",
              "transition": {
               "duration": 0
              }
             }
            ],
            "label": "27",
            "method": "animate"
           },
           {
            "args": [
             [
              28
             ],
             {
              "frame": {
               "duration": 100,
               "redraw": false
              },
              "mode": "immediate",
              "transition": {
               "duration": 0
              }
             }
            ],
            "label": "28",
            "method": "animate"
           },
           {
            "args": [
             [
              29
             ],
             {
              "frame": {
               "duration": 100,
               "redraw": false
              },
              "mode": "immediate",
              "transition": {
               "duration": 0
              }
             }
            ],
            "label": "29",
            "method": "animate"
           },
           {
            "args": [
             [
              30
             ],
             {
              "frame": {
               "duration": 100,
               "redraw": false
              },
              "mode": "immediate",
              "transition": {
               "duration": 0
              }
             }
            ],
            "label": "30",
            "method": "animate"
           },
           {
            "args": [
             [
              31
             ],
             {
              "frame": {
               "duration": 100,
               "redraw": false
              },
              "mode": "immediate",
              "transition": {
               "duration": 0
              }
             }
            ],
            "label": "31",
            "method": "animate"
           },
           {
            "args": [
             [
              32
             ],
             {
              "frame": {
               "duration": 100,
               "redraw": false
              },
              "mode": "immediate",
              "transition": {
               "duration": 0
              }
             }
            ],
            "label": "32",
            "method": "animate"
           },
           {
            "args": [
             [
              33
             ],
             {
              "frame": {
               "duration": 100,
               "redraw": false
              },
              "mode": "immediate",
              "transition": {
               "duration": 0
              }
             }
            ],
            "label": "33",
            "method": "animate"
           },
           {
            "args": [
             [
              34
             ],
             {
              "frame": {
               "duration": 100,
               "redraw": false
              },
              "mode": "immediate",
              "transition": {
               "duration": 0
              }
             }
            ],
            "label": "34",
            "method": "animate"
           },
           {
            "args": [
             [
              35
             ],
             {
              "frame": {
               "duration": 100,
               "redraw": false
              },
              "mode": "immediate",
              "transition": {
               "duration": 0
              }
             }
            ],
            "label": "35",
            "method": "animate"
           },
           {
            "args": [
             [
              36
             ],
             {
              "frame": {
               "duration": 100,
               "redraw": false
              },
              "mode": "immediate",
              "transition": {
               "duration": 0
              }
             }
            ],
            "label": "36",
            "method": "animate"
           },
           {
            "args": [
             [
              37
             ],
             {
              "frame": {
               "duration": 100,
               "redraw": false
              },
              "mode": "immediate",
              "transition": {
               "duration": 0
              }
             }
            ],
            "label": "37",
            "method": "animate"
           },
           {
            "args": [
             [
              38
             ],
             {
              "frame": {
               "duration": 100,
               "redraw": false
              },
              "mode": "immediate",
              "transition": {
               "duration": 0
              }
             }
            ],
            "label": "38",
            "method": "animate"
           },
           {
            "args": [
             [
              39
             ],
             {
              "frame": {
               "duration": 100,
               "redraw": false
              },
              "mode": "immediate",
              "transition": {
               "duration": 0
              }
             }
            ],
            "label": "39",
            "method": "animate"
           },
           {
            "args": [
             [
              40
             ],
             {
              "frame": {
               "duration": 100,
               "redraw": false
              },
              "mode": "immediate",
              "transition": {
               "duration": 0
              }
             }
            ],
            "label": "40",
            "method": "animate"
           },
           {
            "args": [
             [
              41
             ],
             {
              "frame": {
               "duration": 100,
               "redraw": false
              },
              "mode": "immediate",
              "transition": {
               "duration": 0
              }
             }
            ],
            "label": "41",
            "method": "animate"
           },
           {
            "args": [
             [
              42
             ],
             {
              "frame": {
               "duration": 100,
               "redraw": false
              },
              "mode": "immediate",
              "transition": {
               "duration": 0
              }
             }
            ],
            "label": "42",
            "method": "animate"
           },
           {
            "args": [
             [
              43
             ],
             {
              "frame": {
               "duration": 100,
               "redraw": false
              },
              "mode": "immediate",
              "transition": {
               "duration": 0
              }
             }
            ],
            "label": "43",
            "method": "animate"
           },
           {
            "args": [
             [
              44
             ],
             {
              "frame": {
               "duration": 100,
               "redraw": false
              },
              "mode": "immediate",
              "transition": {
               "duration": 0
              }
             }
            ],
            "label": "44",
            "method": "animate"
           },
           {
            "args": [
             [
              45
             ],
             {
              "frame": {
               "duration": 100,
               "redraw": false
              },
              "mode": "immediate",
              "transition": {
               "duration": 0
              }
             }
            ],
            "label": "45",
            "method": "animate"
           },
           {
            "args": [
             [
              46
             ],
             {
              "frame": {
               "duration": 100,
               "redraw": false
              },
              "mode": "immediate",
              "transition": {
               "duration": 0
              }
             }
            ],
            "label": "46",
            "method": "animate"
           },
           {
            "args": [
             [
              47
             ],
             {
              "frame": {
               "duration": 100,
               "redraw": false
              },
              "mode": "immediate",
              "transition": {
               "duration": 0
              }
             }
            ],
            "label": "47",
            "method": "animate"
           },
           {
            "args": [
             [
              48
             ],
             {
              "frame": {
               "duration": 100,
               "redraw": false
              },
              "mode": "immediate",
              "transition": {
               "duration": 0
              }
             }
            ],
            "label": "48",
            "method": "animate"
           },
           {
            "args": [
             [
              49
             ],
             {
              "frame": {
               "duration": 100,
               "redraw": false
              },
              "mode": "immediate",
              "transition": {
               "duration": 0
              }
             }
            ],
            "label": "49",
            "method": "animate"
           },
           {
            "args": [
             [
              50
             ],
             {
              "frame": {
               "duration": 100,
               "redraw": false
              },
              "mode": "immediate",
              "transition": {
               "duration": 0
              }
             }
            ],
            "label": "50",
            "method": "animate"
           },
           {
            "args": [
             [
              51
             ],
             {
              "frame": {
               "duration": 100,
               "redraw": false
              },
              "mode": "immediate",
              "transition": {
               "duration": 0
              }
             }
            ],
            "label": "51",
            "method": "animate"
           },
           {
            "args": [
             [
              52
             ],
             {
              "frame": {
               "duration": 100,
               "redraw": false
              },
              "mode": "immediate",
              "transition": {
               "duration": 0
              }
             }
            ],
            "label": "52",
            "method": "animate"
           },
           {
            "args": [
             [
              53
             ],
             {
              "frame": {
               "duration": 100,
               "redraw": false
              },
              "mode": "immediate",
              "transition": {
               "duration": 0
              }
             }
            ],
            "label": "53",
            "method": "animate"
           },
           {
            "args": [
             [
              54
             ],
             {
              "frame": {
               "duration": 100,
               "redraw": false
              },
              "mode": "immediate",
              "transition": {
               "duration": 0
              }
             }
            ],
            "label": "54",
            "method": "animate"
           },
           {
            "args": [
             [
              55
             ],
             {
              "frame": {
               "duration": 100,
               "redraw": false
              },
              "mode": "immediate",
              "transition": {
               "duration": 0
              }
             }
            ],
            "label": "55",
            "method": "animate"
           },
           {
            "args": [
             [
              56
             ],
             {
              "frame": {
               "duration": 100,
               "redraw": false
              },
              "mode": "immediate",
              "transition": {
               "duration": 0
              }
             }
            ],
            "label": "56",
            "method": "animate"
           },
           {
            "args": [
             [
              57
             ],
             {
              "frame": {
               "duration": 100,
               "redraw": false
              },
              "mode": "immediate",
              "transition": {
               "duration": 0
              }
             }
            ],
            "label": "57",
            "method": "animate"
           },
           {
            "args": [
             [
              58
             ],
             {
              "frame": {
               "duration": 100,
               "redraw": false
              },
              "mode": "immediate",
              "transition": {
               "duration": 0
              }
             }
            ],
            "label": "58",
            "method": "animate"
           },
           {
            "args": [
             [
              59
             ],
             {
              "frame": {
               "duration": 100,
               "redraw": false
              },
              "mode": "immediate",
              "transition": {
               "duration": 0
              }
             }
            ],
            "label": "59",
            "method": "animate"
           },
           {
            "args": [
             [
              60
             ],
             {
              "frame": {
               "duration": 100,
               "redraw": false
              },
              "mode": "immediate",
              "transition": {
               "duration": 0
              }
             }
            ],
            "label": "60",
            "method": "animate"
           },
           {
            "args": [
             [
              61
             ],
             {
              "frame": {
               "duration": 100,
               "redraw": false
              },
              "mode": "immediate",
              "transition": {
               "duration": 0
              }
             }
            ],
            "label": "61",
            "method": "animate"
           },
           {
            "args": [
             [
              62
             ],
             {
              "frame": {
               "duration": 100,
               "redraw": false
              },
              "mode": "immediate",
              "transition": {
               "duration": 0
              }
             }
            ],
            "label": "62",
            "method": "animate"
           },
           {
            "args": [
             [
              63
             ],
             {
              "frame": {
               "duration": 100,
               "redraw": false
              },
              "mode": "immediate",
              "transition": {
               "duration": 0
              }
             }
            ],
            "label": "63",
            "method": "animate"
           },
           {
            "args": [
             [
              64
             ],
             {
              "frame": {
               "duration": 100,
               "redraw": false
              },
              "mode": "immediate",
              "transition": {
               "duration": 0
              }
             }
            ],
            "label": "64",
            "method": "animate"
           },
           {
            "args": [
             [
              65
             ],
             {
              "frame": {
               "duration": 100,
               "redraw": false
              },
              "mode": "immediate",
              "transition": {
               "duration": 0
              }
             }
            ],
            "label": "65",
            "method": "animate"
           },
           {
            "args": [
             [
              66
             ],
             {
              "frame": {
               "duration": 100,
               "redraw": false
              },
              "mode": "immediate",
              "transition": {
               "duration": 0
              }
             }
            ],
            "label": "66",
            "method": "animate"
           },
           {
            "args": [
             [
              67
             ],
             {
              "frame": {
               "duration": 100,
               "redraw": false
              },
              "mode": "immediate",
              "transition": {
               "duration": 0
              }
             }
            ],
            "label": "67",
            "method": "animate"
           },
           {
            "args": [
             [
              68
             ],
             {
              "frame": {
               "duration": 100,
               "redraw": false
              },
              "mode": "immediate",
              "transition": {
               "duration": 0
              }
             }
            ],
            "label": "68",
            "method": "animate"
           },
           {
            "args": [
             [
              69
             ],
             {
              "frame": {
               "duration": 100,
               "redraw": false
              },
              "mode": "immediate",
              "transition": {
               "duration": 0
              }
             }
            ],
            "label": "69",
            "method": "animate"
           },
           {
            "args": [
             [
              70
             ],
             {
              "frame": {
               "duration": 100,
               "redraw": false
              },
              "mode": "immediate",
              "transition": {
               "duration": 0
              }
             }
            ],
            "label": "70",
            "method": "animate"
           },
           {
            "args": [
             [
              71
             ],
             {
              "frame": {
               "duration": 100,
               "redraw": false
              },
              "mode": "immediate",
              "transition": {
               "duration": 0
              }
             }
            ],
            "label": "71",
            "method": "animate"
           },
           {
            "args": [
             [
              72
             ],
             {
              "frame": {
               "duration": 100,
               "redraw": false
              },
              "mode": "immediate",
              "transition": {
               "duration": 0
              }
             }
            ],
            "label": "72",
            "method": "animate"
           },
           {
            "args": [
             [
              73
             ],
             {
              "frame": {
               "duration": 100,
               "redraw": false
              },
              "mode": "immediate",
              "transition": {
               "duration": 0
              }
             }
            ],
            "label": "73",
            "method": "animate"
           },
           {
            "args": [
             [
              74
             ],
             {
              "frame": {
               "duration": 100,
               "redraw": false
              },
              "mode": "immediate",
              "transition": {
               "duration": 0
              }
             }
            ],
            "label": "74",
            "method": "animate"
           },
           {
            "args": [
             [
              75
             ],
             {
              "frame": {
               "duration": 100,
               "redraw": false
              },
              "mode": "immediate",
              "transition": {
               "duration": 0
              }
             }
            ],
            "label": "75",
            "method": "animate"
           },
           {
            "args": [
             [
              76
             ],
             {
              "frame": {
               "duration": 100,
               "redraw": false
              },
              "mode": "immediate",
              "transition": {
               "duration": 0
              }
             }
            ],
            "label": "76",
            "method": "animate"
           },
           {
            "args": [
             [
              77
             ],
             {
              "frame": {
               "duration": 100,
               "redraw": false
              },
              "mode": "immediate",
              "transition": {
               "duration": 0
              }
             }
            ],
            "label": "77",
            "method": "animate"
           },
           {
            "args": [
             [
              78
             ],
             {
              "frame": {
               "duration": 100,
               "redraw": false
              },
              "mode": "immediate",
              "transition": {
               "duration": 0
              }
             }
            ],
            "label": "78",
            "method": "animate"
           },
           {
            "args": [
             [
              79
             ],
             {
              "frame": {
               "duration": 100,
               "redraw": false
              },
              "mode": "immediate",
              "transition": {
               "duration": 0
              }
             }
            ],
            "label": "79",
            "method": "animate"
           },
           {
            "args": [
             [
              80
             ],
             {
              "frame": {
               "duration": 100,
               "redraw": false
              },
              "mode": "immediate",
              "transition": {
               "duration": 0
              }
             }
            ],
            "label": "80",
            "method": "animate"
           },
           {
            "args": [
             [
              81
             ],
             {
              "frame": {
               "duration": 100,
               "redraw": false
              },
              "mode": "immediate",
              "transition": {
               "duration": 0
              }
             }
            ],
            "label": "81",
            "method": "animate"
           },
           {
            "args": [
             [
              82
             ],
             {
              "frame": {
               "duration": 100,
               "redraw": false
              },
              "mode": "immediate",
              "transition": {
               "duration": 0
              }
             }
            ],
            "label": "82",
            "method": "animate"
           },
           {
            "args": [
             [
              83
             ],
             {
              "frame": {
               "duration": 100,
               "redraw": false
              },
              "mode": "immediate",
              "transition": {
               "duration": 0
              }
             }
            ],
            "label": "83",
            "method": "animate"
           },
           {
            "args": [
             [
              84
             ],
             {
              "frame": {
               "duration": 100,
               "redraw": false
              },
              "mode": "immediate",
              "transition": {
               "duration": 0
              }
             }
            ],
            "label": "84",
            "method": "animate"
           },
           {
            "args": [
             [
              85
             ],
             {
              "frame": {
               "duration": 100,
               "redraw": false
              },
              "mode": "immediate",
              "transition": {
               "duration": 0
              }
             }
            ],
            "label": "85",
            "method": "animate"
           },
           {
            "args": [
             [
              86
             ],
             {
              "frame": {
               "duration": 100,
               "redraw": false
              },
              "mode": "immediate",
              "transition": {
               "duration": 0
              }
             }
            ],
            "label": "86",
            "method": "animate"
           },
           {
            "args": [
             [
              87
             ],
             {
              "frame": {
               "duration": 100,
               "redraw": false
              },
              "mode": "immediate",
              "transition": {
               "duration": 0
              }
             }
            ],
            "label": "87",
            "method": "animate"
           },
           {
            "args": [
             [
              88
             ],
             {
              "frame": {
               "duration": 100,
               "redraw": false
              },
              "mode": "immediate",
              "transition": {
               "duration": 0
              }
             }
            ],
            "label": "88",
            "method": "animate"
           },
           {
            "args": [
             [
              89
             ],
             {
              "frame": {
               "duration": 100,
               "redraw": false
              },
              "mode": "immediate",
              "transition": {
               "duration": 0
              }
             }
            ],
            "label": "89",
            "method": "animate"
           },
           {
            "args": [
             [
              90
             ],
             {
              "frame": {
               "duration": 100,
               "redraw": false
              },
              "mode": "immediate",
              "transition": {
               "duration": 0
              }
             }
            ],
            "label": "90",
            "method": "animate"
           },
           {
            "args": [
             [
              91
             ],
             {
              "frame": {
               "duration": 100,
               "redraw": false
              },
              "mode": "immediate",
              "transition": {
               "duration": 0
              }
             }
            ],
            "label": "91",
            "method": "animate"
           },
           {
            "args": [
             [
              92
             ],
             {
              "frame": {
               "duration": 100,
               "redraw": false
              },
              "mode": "immediate",
              "transition": {
               "duration": 0
              }
             }
            ],
            "label": "92",
            "method": "animate"
           },
           {
            "args": [
             [
              93
             ],
             {
              "frame": {
               "duration": 100,
               "redraw": false
              },
              "mode": "immediate",
              "transition": {
               "duration": 0
              }
             }
            ],
            "label": "93",
            "method": "animate"
           },
           {
            "args": [
             [
              94
             ],
             {
              "frame": {
               "duration": 100,
               "redraw": false
              },
              "mode": "immediate",
              "transition": {
               "duration": 0
              }
             }
            ],
            "label": "94",
            "method": "animate"
           },
           {
            "args": [
             [
              95
             ],
             {
              "frame": {
               "duration": 100,
               "redraw": false
              },
              "mode": "immediate",
              "transition": {
               "duration": 0
              }
             }
            ],
            "label": "95",
            "method": "animate"
           },
           {
            "args": [
             [
              96
             ],
             {
              "frame": {
               "duration": 100,
               "redraw": false
              },
              "mode": "immediate",
              "transition": {
               "duration": 0
              }
             }
            ],
            "label": "96",
            "method": "animate"
           },
           {
            "args": [
             [
              97
             ],
             {
              "frame": {
               "duration": 100,
               "redraw": false
              },
              "mode": "immediate",
              "transition": {
               "duration": 0
              }
             }
            ],
            "label": "97",
            "method": "animate"
           }
          ],
          "transition": {
           "duration": 300,
           "easing": "cubic-in-out"
          },
          "x": 0.1,
          "xanchor": "left",
          "y": 0,
          "yanchor": "top"
         }
        ],
        "template": {
         "data": {
          "bar": [
           {
            "error_x": {
             "color": "#2a3f5f"
            },
            "error_y": {
             "color": "#2a3f5f"
            },
            "marker": {
             "line": {
              "color": "#E5ECF6",
              "width": 0.5
             },
             "pattern": {
              "fillmode": "overlay",
              "size": 10,
              "solidity": 0.2
             }
            },
            "type": "bar"
           }
          ],
          "barpolar": [
           {
            "marker": {
             "line": {
              "color": "#E5ECF6",
              "width": 0.5
             },
             "pattern": {
              "fillmode": "overlay",
              "size": 10,
              "solidity": 0.2
             }
            },
            "type": "barpolar"
           }
          ],
          "carpet": [
           {
            "aaxis": {
             "endlinecolor": "#2a3f5f",
             "gridcolor": "white",
             "linecolor": "white",
             "minorgridcolor": "white",
             "startlinecolor": "#2a3f5f"
            },
            "baxis": {
             "endlinecolor": "#2a3f5f",
             "gridcolor": "white",
             "linecolor": "white",
             "minorgridcolor": "white",
             "startlinecolor": "#2a3f5f"
            },
            "type": "carpet"
           }
          ],
          "choropleth": [
           {
            "colorbar": {
             "outlinewidth": 0,
             "ticks": ""
            },
            "type": "choropleth"
           }
          ],
          "contour": [
           {
            "colorbar": {
             "outlinewidth": 0,
             "ticks": ""
            },
            "colorscale": [
             [
              0,
              "#0d0887"
             ],
             [
              0.1111111111111111,
              "#46039f"
             ],
             [
              0.2222222222222222,
              "#7201a8"
             ],
             [
              0.3333333333333333,
              "#9c179e"
             ],
             [
              0.4444444444444444,
              "#bd3786"
             ],
             [
              0.5555555555555556,
              "#d8576b"
             ],
             [
              0.6666666666666666,
              "#ed7953"
             ],
             [
              0.7777777777777778,
              "#fb9f3a"
             ],
             [
              0.8888888888888888,
              "#fdca26"
             ],
             [
              1,
              "#f0f921"
             ]
            ],
            "type": "contour"
           }
          ],
          "contourcarpet": [
           {
            "colorbar": {
             "outlinewidth": 0,
             "ticks": ""
            },
            "type": "contourcarpet"
           }
          ],
          "heatmap": [
           {
            "colorbar": {
             "outlinewidth": 0,
             "ticks": ""
            },
            "colorscale": [
             [
              0,
              "#0d0887"
             ],
             [
              0.1111111111111111,
              "#46039f"
             ],
             [
              0.2222222222222222,
              "#7201a8"
             ],
             [
              0.3333333333333333,
              "#9c179e"
             ],
             [
              0.4444444444444444,
              "#bd3786"
             ],
             [
              0.5555555555555556,
              "#d8576b"
             ],
             [
              0.6666666666666666,
              "#ed7953"
             ],
             [
              0.7777777777777778,
              "#fb9f3a"
             ],
             [
              0.8888888888888888,
              "#fdca26"
             ],
             [
              1,
              "#f0f921"
             ]
            ],
            "type": "heatmap"
           }
          ],
          "heatmapgl": [
           {
            "colorbar": {
             "outlinewidth": 0,
             "ticks": ""
            },
            "colorscale": [
             [
              0,
              "#0d0887"
             ],
             [
              0.1111111111111111,
              "#46039f"
             ],
             [
              0.2222222222222222,
              "#7201a8"
             ],
             [
              0.3333333333333333,
              "#9c179e"
             ],
             [
              0.4444444444444444,
              "#bd3786"
             ],
             [
              0.5555555555555556,
              "#d8576b"
             ],
             [
              0.6666666666666666,
              "#ed7953"
             ],
             [
              0.7777777777777778,
              "#fb9f3a"
             ],
             [
              0.8888888888888888,
              "#fdca26"
             ],
             [
              1,
              "#f0f921"
             ]
            ],
            "type": "heatmapgl"
           }
          ],
          "histogram": [
           {
            "marker": {
             "pattern": {
              "fillmode": "overlay",
              "size": 10,
              "solidity": 0.2
             }
            },
            "type": "histogram"
           }
          ],
          "histogram2d": [
           {
            "colorbar": {
             "outlinewidth": 0,
             "ticks": ""
            },
            "colorscale": [
             [
              0,
              "#0d0887"
             ],
             [
              0.1111111111111111,
              "#46039f"
             ],
             [
              0.2222222222222222,
              "#7201a8"
             ],
             [
              0.3333333333333333,
              "#9c179e"
             ],
             [
              0.4444444444444444,
              "#bd3786"
             ],
             [
              0.5555555555555556,
              "#d8576b"
             ],
             [
              0.6666666666666666,
              "#ed7953"
             ],
             [
              0.7777777777777778,
              "#fb9f3a"
             ],
             [
              0.8888888888888888,
              "#fdca26"
             ],
             [
              1,
              "#f0f921"
             ]
            ],
            "type": "histogram2d"
           }
          ],
          "histogram2dcontour": [
           {
            "colorbar": {
             "outlinewidth": 0,
             "ticks": ""
            },
            "colorscale": [
             [
              0,
              "#0d0887"
             ],
             [
              0.1111111111111111,
              "#46039f"
             ],
             [
              0.2222222222222222,
              "#7201a8"
             ],
             [
              0.3333333333333333,
              "#9c179e"
             ],
             [
              0.4444444444444444,
              "#bd3786"
             ],
             [
              0.5555555555555556,
              "#d8576b"
             ],
             [
              0.6666666666666666,
              "#ed7953"
             ],
             [
              0.7777777777777778,
              "#fb9f3a"
             ],
             [
              0.8888888888888888,
              "#fdca26"
             ],
             [
              1,
              "#f0f921"
             ]
            ],
            "type": "histogram2dcontour"
           }
          ],
          "mesh3d": [
           {
            "colorbar": {
             "outlinewidth": 0,
             "ticks": ""
            },
            "type": "mesh3d"
           }
          ],
          "parcoords": [
           {
            "line": {
             "colorbar": {
              "outlinewidth": 0,
              "ticks": ""
             }
            },
            "type": "parcoords"
           }
          ],
          "pie": [
           {
            "automargin": true,
            "type": "pie"
           }
          ],
          "scatter": [
           {
            "fillpattern": {
             "fillmode": "overlay",
             "size": 10,
             "solidity": 0.2
            },
            "type": "scatter"
           }
          ],
          "scatter3d": [
           {
            "line": {
             "colorbar": {
              "outlinewidth": 0,
              "ticks": ""
             }
            },
            "marker": {
             "colorbar": {
              "outlinewidth": 0,
              "ticks": ""
             }
            },
            "type": "scatter3d"
           }
          ],
          "scattercarpet": [
           {
            "marker": {
             "colorbar": {
              "outlinewidth": 0,
              "ticks": ""
             }
            },
            "type": "scattercarpet"
           }
          ],
          "scattergeo": [
           {
            "marker": {
             "colorbar": {
              "outlinewidth": 0,
              "ticks": ""
             }
            },
            "type": "scattergeo"
           }
          ],
          "scattergl": [
           {
            "marker": {
             "colorbar": {
              "outlinewidth": 0,
              "ticks": ""
             }
            },
            "type": "scattergl"
           }
          ],
          "scattermapbox": [
           {
            "marker": {
             "colorbar": {
              "outlinewidth": 0,
              "ticks": ""
             }
            },
            "type": "scattermapbox"
           }
          ],
          "scatterpolar": [
           {
            "marker": {
             "colorbar": {
              "outlinewidth": 0,
              "ticks": ""
             }
            },
            "type": "scatterpolar"
           }
          ],
          "scatterpolargl": [
           {
            "marker": {
             "colorbar": {
              "outlinewidth": 0,
              "ticks": ""
             }
            },
            "type": "scatterpolargl"
           }
          ],
          "scatterternary": [
           {
            "marker": {
             "colorbar": {
              "outlinewidth": 0,
              "ticks": ""
             }
            },
            "type": "scatterternary"
           }
          ],
          "surface": [
           {
            "colorbar": {
             "outlinewidth": 0,
             "ticks": ""
            },
            "colorscale": [
             [
              0,
              "#0d0887"
             ],
             [
              0.1111111111111111,
              "#46039f"
             ],
             [
              0.2222222222222222,
              "#7201a8"
             ],
             [
              0.3333333333333333,
              "#9c179e"
             ],
             [
              0.4444444444444444,
              "#bd3786"
             ],
             [
              0.5555555555555556,
              "#d8576b"
             ],
             [
              0.6666666666666666,
              "#ed7953"
             ],
             [
              0.7777777777777778,
              "#fb9f3a"
             ],
             [
              0.8888888888888888,
              "#fdca26"
             ],
             [
              1,
              "#f0f921"
             ]
            ],
            "type": "surface"
           }
          ],
          "table": [
           {
            "cells": {
             "fill": {
              "color": "#EBF0F8"
             },
             "line": {
              "color": "white"
             }
            },
            "header": {
             "fill": {
              "color": "#C8D4E3"
             },
             "line": {
              "color": "white"
             }
            },
            "type": "table"
           }
          ]
         },
         "layout": {
          "annotationdefaults": {
           "arrowcolor": "#2a3f5f",
           "arrowhead": 0,
           "arrowwidth": 1
          },
          "autotypenumbers": "strict",
          "coloraxis": {
           "colorbar": {
            "outlinewidth": 0,
            "ticks": ""
           }
          },
          "colorscale": {
           "diverging": [
            [
             0,
             "#8e0152"
            ],
            [
             0.1,
             "#c51b7d"
            ],
            [
             0.2,
             "#de77ae"
            ],
            [
             0.3,
             "#f1b6da"
            ],
            [
             0.4,
             "#fde0ef"
            ],
            [
             0.5,
             "#f7f7f7"
            ],
            [
             0.6,
             "#e6f5d0"
            ],
            [
             0.7,
             "#b8e186"
            ],
            [
             0.8,
             "#7fbc41"
            ],
            [
             0.9,
             "#4d9221"
            ],
            [
             1,
             "#276419"
            ]
           ],
           "sequential": [
            [
             0,
             "#0d0887"
            ],
            [
             0.1111111111111111,
             "#46039f"
            ],
            [
             0.2222222222222222,
             "#7201a8"
            ],
            [
             0.3333333333333333,
             "#9c179e"
            ],
            [
             0.4444444444444444,
             "#bd3786"
            ],
            [
             0.5555555555555556,
             "#d8576b"
            ],
            [
             0.6666666666666666,
             "#ed7953"
            ],
            [
             0.7777777777777778,
             "#fb9f3a"
            ],
            [
             0.8888888888888888,
             "#fdca26"
            ],
            [
             1,
             "#f0f921"
            ]
           ],
           "sequentialminus": [
            [
             0,
             "#0d0887"
            ],
            [
             0.1111111111111111,
             "#46039f"
            ],
            [
             0.2222222222222222,
             "#7201a8"
            ],
            [
             0.3333333333333333,
             "#9c179e"
            ],
            [
             0.4444444444444444,
             "#bd3786"
            ],
            [
             0.5555555555555556,
             "#d8576b"
            ],
            [
             0.6666666666666666,
             "#ed7953"
            ],
            [
             0.7777777777777778,
             "#fb9f3a"
            ],
            [
             0.8888888888888888,
             "#fdca26"
            ],
            [
             1,
             "#f0f921"
            ]
           ]
          },
          "colorway": [
           "#636efa",
           "#EF553B",
           "#00cc96",
           "#ab63fa",
           "#FFA15A",
           "#19d3f3",
           "#FF6692",
           "#B6E880",
           "#FF97FF",
           "#FECB52"
          ],
          "font": {
           "color": "#2a3f5f"
          },
          "geo": {
           "bgcolor": "white",
           "lakecolor": "white",
           "landcolor": "#E5ECF6",
           "showlakes": true,
           "showland": true,
           "subunitcolor": "white"
          },
          "hoverlabel": {
           "align": "left"
          },
          "hovermode": "closest",
          "mapbox": {
           "style": "light"
          },
          "paper_bgcolor": "white",
          "plot_bgcolor": "#E5ECF6",
          "polar": {
           "angularaxis": {
            "gridcolor": "white",
            "linecolor": "white",
            "ticks": ""
           },
           "bgcolor": "#E5ECF6",
           "radialaxis": {
            "gridcolor": "white",
            "linecolor": "white",
            "ticks": ""
           }
          },
          "scene": {
           "xaxis": {
            "backgroundcolor": "#E5ECF6",
            "gridcolor": "white",
            "gridwidth": 2,
            "linecolor": "white",
            "showbackground": true,
            "ticks": "",
            "zerolinecolor": "white"
           },
           "yaxis": {
            "backgroundcolor": "#E5ECF6",
            "gridcolor": "white",
            "gridwidth": 2,
            "linecolor": "white",
            "showbackground": true,
            "ticks": "",
            "zerolinecolor": "white"
           },
           "zaxis": {
            "backgroundcolor": "#E5ECF6",
            "gridcolor": "white",
            "gridwidth": 2,
            "linecolor": "white",
            "showbackground": true,
            "ticks": "",
            "zerolinecolor": "white"
           }
          },
          "shapedefaults": {
           "line": {
            "color": "#2a3f5f"
           }
          },
          "ternary": {
           "aaxis": {
            "gridcolor": "white",
            "linecolor": "white",
            "ticks": ""
           },
           "baxis": {
            "gridcolor": "white",
            "linecolor": "white",
            "ticks": ""
           },
           "bgcolor": "#E5ECF6",
           "caxis": {
            "gridcolor": "white",
            "linecolor": "white",
            "ticks": ""
           }
          },
          "title": {
           "x": 0.05
          },
          "xaxis": {
           "automargin": true,
           "gridcolor": "white",
           "linecolor": "white",
           "ticks": "",
           "title": {
            "standoff": 15
           },
           "zerolinecolor": "white",
           "zerolinewidth": 2
          },
          "yaxis": {
           "automargin": true,
           "gridcolor": "white",
           "linecolor": "white",
           "ticks": "",
           "title": {
            "standoff": 15
           },
           "zerolinecolor": "white",
           "zerolinewidth": 2
          }
         }
        },
        "title": {
         "text": "GameId: 2022091103, PlayId: 3032<br>08:31 4Q<br><br><br><br><br><br><br><br><br><br><br><br><br><br><br><br><br><br><br>(8:31) (No Huddle, Shotgun) J.Burrow pass incomplete short left to J.Mixon (J.Jones)."
        },
        "updatemenus": [
         {
          "buttons": [
           {
            "args": [
             null,
             {
              "frame": {
               "duration": 100,
               "redraw": false
              },
              "fromcurrent": true,
              "transition": {
               "duration": 0
              }
             }
            ],
            "label": "Play",
            "method": "animate"
           },
           {
            "args": [
             [
              null
             ],
             {
              "frame": {
               "duration": 0,
               "redraw": false
              },
              "mode": "immediate",
              "transition": {
               "duration": 0
              }
             }
            ],
            "label": "Pause",
            "method": "animate"
           }
          ],
          "direction": "left",
          "pad": {
           "r": 10,
           "t": 87
          },
          "showactive": false,
          "type": "buttons",
          "x": 0.1,
          "xanchor": "right",
          "y": 0,
          "yanchor": "top"
         }
        ],
        "width": 1080,
        "xaxis": {
         "autorange": false,
         "range": [
          66.96,
          91.47
         ],
         "showticklabels": false,
         "tickmode": "array",
         "tickvals": [
          10,
          15,
          20,
          25,
          30,
          35,
          40,
          45,
          50,
          55,
          60,
          65,
          70,
          75,
          80,
          85,
          90,
          95,
          100,
          105
         ]
        },
        "yaxis": {
         "autorange": false,
         "range": [
          0,
          53.3
         ],
         "showgrid": false,
         "showticklabels": false
        }
       }
      }
     },
     "metadata": {},
     "output_type": "display_data"
    }
   ],
   "source": [
    "fig"
   ]
  },
  {
   "cell_type": "code",
   "execution_count": 47,
   "metadata": {},
   "outputs": [
    {
     "data": {
      "text/plain": [
       "600"
      ]
     },
     "execution_count": 47,
     "metadata": {},
     "output_type": "execute_result"
    }
   ],
   "source": [
    "fig.layout.height"
   ]
  },
  {
   "cell_type": "code",
   "execution_count": null,
   "metadata": {},
   "outputs": [],
   "source": []
  },
  {
   "cell_type": "code",
   "execution_count": 48,
   "metadata": {},
   "outputs": [],
   "source": [
    "\n",
    "import io\n",
    "import PIL\n",
    "\n",
    "frames=[]\n",
    "for s, fr in enumerate(fig.frames):\n",
    "\n",
    "    fig.update(data=fr.data)\n",
    "    fig.layout.sliders[0].update(active=s)\n",
    "    frames.append(PIL.Image.open(io.BytesIO(fig.to_image(format=\"png\",scale=1))))\n",
    "\n",
    "\n",
    "    frames[0].save(\"image/burrow_db.gif\",\n",
    "                    save_all=True,\n",
    "                    append_images=frames[1:],\n",
    "                    optimize=True,\n",
    "                    duration=100,\n",
    "                    loop=0,\n",
    "                    dither=None)\n",
    "\n",
    "\n",
    "                    "
   ]
  },
  {
   "cell_type": "code",
   "execution_count": null,
   "metadata": {},
   "outputs": [],
   "source": []
  },
  {
   "cell_type": "code",
   "execution_count": null,
   "metadata": {},
   "outputs": [],
   "source": []
  }
 ],
 "metadata": {
  "kaggle": {
   "accelerator": "none",
   "dataSources": [
    {
     "databundleVersionId": 9816926,
     "sourceId": 84175,
     "sourceType": "competition"
    }
   ],
   "dockerImageVersionId": 30786,
   "isGpuEnabled": false,
   "isInternetEnabled": true,
   "language": "python",
   "sourceType": "notebook"
  },
  "kernelspec": {
   "display_name": ".venv",
   "language": "python",
   "name": "python3"
  },
  "language_info": {
   "codemirror_mode": {
    "name": "ipython",
    "version": 3
   },
   "file_extension": ".py",
   "mimetype": "text/x-python",
   "name": "python",
   "nbconvert_exporter": "python",
   "pygments_lexer": "ipython3",
   "version": "3.9.15"
  }
 },
 "nbformat": 4,
 "nbformat_minor": 4
}
