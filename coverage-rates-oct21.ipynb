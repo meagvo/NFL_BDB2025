{
 "cells": [
  {
   "cell_type": "code",
   "execution_count": 1,
   "id": "41f5f517",
   "metadata": {
    "execution": {
     "iopub.execute_input": "2024-10-22T07:08:59.844250Z",
     "iopub.status.busy": "2024-10-22T07:08:59.843807Z",
     "iopub.status.idle": "2024-10-22T07:09:00.789032Z",
     "shell.execute_reply": "2024-10-22T07:09:00.787536Z"
    },
    "papermill": {
     "duration": 0.961842,
     "end_time": "2024-10-22T07:09:00.792133",
     "exception": false,
     "start_time": "2024-10-22T07:08:59.830291",
     "status": "completed"
    },
    "tags": []
   },
   "outputs": [
    {
     "name": "stdout",
     "output_type": "stream",
     "text": [
      "/kaggle/input/nfl-big-data-bowl-2025/players.csv\n",
      "/kaggle/input/nfl-big-data-bowl-2025/tracking_week_7.csv\n",
      "/kaggle/input/nfl-big-data-bowl-2025/tracking_week_9.csv\n",
      "/kaggle/input/nfl-big-data-bowl-2025/tracking_week_6.csv\n",
      "/kaggle/input/nfl-big-data-bowl-2025/games.csv\n",
      "/kaggle/input/nfl-big-data-bowl-2025/tracking_week_8.csv\n",
      "/kaggle/input/nfl-big-data-bowl-2025/player_play.csv\n",
      "/kaggle/input/nfl-big-data-bowl-2025/tracking_week_4.csv\n",
      "/kaggle/input/nfl-big-data-bowl-2025/tracking_week_3.csv\n",
      "/kaggle/input/nfl-big-data-bowl-2025/tracking_week_5.csv\n",
      "/kaggle/input/nfl-big-data-bowl-2025/tracking_week_1.csv\n",
      "/kaggle/input/nfl-big-data-bowl-2025/plays.csv\n",
      "/kaggle/input/nfl-big-data-bowl-2025/tracking_week_2.csv\n"
     ]
    }
   ],
   "source": [
    "# This Python 3 environment comes with many helpful analytics libraries installed\n",
    "# It is defined by the kaggle/python Docker image: https://github.com/kaggle/docker-python\n",
    "# For example, here's several helpful packages to load\n",
    "\n",
    "import numpy as np # linear algebra\n",
    "import pandas as pd # data processing, CSV file I/O (e.g. pd.read_csv)\n",
    "\n",
    "# Input data files are available in the read-only \"../input/\" directory\n",
    "# For example, running this (by clicking run or pressing Shift+Enter) will list all files under the input directory\n",
    "\n",
    "import os\n",
    "for dirname, _, filenames in os.walk('/kaggle/input'):\n",
    "    for filename in filenames:\n",
    "        print(os.path.join(dirname, filename))\n",
    "\n",
    "# You can write up to 20GB to the current directory (/kaggle/working/) that gets preserved as output when you create a version using \"Save & Run All\" \n",
    "# You can also write temporary files to /kaggle/temp/, but they won't be saved outside of the current session"
   ]
  },
  {
   "cell_type": "code",
   "execution_count": 2,
   "id": "42976ee6",
   "metadata": {
    "execution": {
     "iopub.execute_input": "2024-10-22T07:09:00.814236Z",
     "iopub.status.busy": "2024-10-22T07:09:00.813639Z",
     "iopub.status.idle": "2024-10-22T07:09:03.690051Z",
     "shell.execute_reply": "2024-10-22T07:09:03.688955Z"
    },
    "papermill": {
     "duration": 2.890626,
     "end_time": "2024-10-22T07:09:03.692866",
     "exception": false,
     "start_time": "2024-10-22T07:09:00.802240",
     "status": "completed"
    },
    "tags": []
   },
   "outputs": [],
   "source": [
    "df_play = pd.read_csv('/kaggle/input/nfl-big-data-bowl-2025/plays.csv')\n",
    "df_player_play = pd.read_csv('/kaggle/input/nfl-big-data-bowl-2025/player_play.csv')\n",
    "df_games = pd.read_csv('/kaggle/input/nfl-big-data-bowl-2025/games.csv')\n",
    "df_players = pd.read_csv('/kaggle/input/nfl-big-data-bowl-2025/players.csv')"
   ]
  },
  {
   "cell_type": "code",
   "execution_count": 3,
   "id": "d8993fc3",
   "metadata": {
    "execution": {
     "iopub.execute_input": "2024-10-22T07:09:03.714380Z",
     "iopub.status.busy": "2024-10-22T07:09:03.713935Z",
     "iopub.status.idle": "2024-10-22T07:09:03.754926Z",
     "shell.execute_reply": "2024-10-22T07:09:03.753488Z"
    },
    "papermill": {
     "duration": 0.054793,
     "end_time": "2024-10-22T07:09:03.757582",
     "exception": false,
     "start_time": "2024-10-22T07:09:03.702789",
     "status": "completed"
    },
    "tags": []
   },
   "outputs": [
    {
     "data": {
      "text/html": [
       "<div>\n",
       "<style scoped>\n",
       "    .dataframe tbody tr th:only-of-type {\n",
       "        vertical-align: middle;\n",
       "    }\n",
       "\n",
       "    .dataframe tbody tr th {\n",
       "        vertical-align: top;\n",
       "    }\n",
       "\n",
       "    .dataframe thead th {\n",
       "        text-align: right;\n",
       "    }\n",
       "</style>\n",
       "<table border=\"1\" class=\"dataframe\">\n",
       "  <thead>\n",
       "    <tr style=\"text-align: right;\">\n",
       "      <th></th>\n",
       "      <th>gameId</th>\n",
       "      <th>playId</th>\n",
       "      <th>playDescription</th>\n",
       "      <th>quarter</th>\n",
       "      <th>down</th>\n",
       "      <th>yardsToGo</th>\n",
       "      <th>possessionTeam</th>\n",
       "      <th>defensiveTeam</th>\n",
       "      <th>yardlineSide</th>\n",
       "      <th>yardlineNumber</th>\n",
       "      <th>...</th>\n",
       "      <th>yardsGained</th>\n",
       "      <th>homeTeamWinProbabilityAdded</th>\n",
       "      <th>visitorTeamWinProbilityAdded</th>\n",
       "      <th>expectedPointsAdded</th>\n",
       "      <th>isDropback</th>\n",
       "      <th>pff_runConceptPrimary</th>\n",
       "      <th>pff_runConceptSecondary</th>\n",
       "      <th>pff_runPassOption</th>\n",
       "      <th>pff_passCoverage</th>\n",
       "      <th>pff_manZone</th>\n",
       "    </tr>\n",
       "  </thead>\n",
       "  <tbody>\n",
       "    <tr>\n",
       "      <th>0</th>\n",
       "      <td>2022102302</td>\n",
       "      <td>2655</td>\n",
       "      <td>(1:54) (Shotgun) J.Burrow pass short middle to...</td>\n",
       "      <td>3</td>\n",
       "      <td>1</td>\n",
       "      <td>10</td>\n",
       "      <td>CIN</td>\n",
       "      <td>ATL</td>\n",
       "      <td>CIN</td>\n",
       "      <td>21</td>\n",
       "      <td>...</td>\n",
       "      <td>9</td>\n",
       "      <td>0.004634</td>\n",
       "      <td>-0.004634</td>\n",
       "      <td>0.702717</td>\n",
       "      <td>True</td>\n",
       "      <td>NaN</td>\n",
       "      <td>NaN</td>\n",
       "      <td>0</td>\n",
       "      <td>Cover-3</td>\n",
       "      <td>Zone</td>\n",
       "    </tr>\n",
       "  </tbody>\n",
       "</table>\n",
       "<p>1 rows × 50 columns</p>\n",
       "</div>"
      ],
      "text/plain": [
       "       gameId  playId                                    playDescription  \\\n",
       "0  2022102302    2655  (1:54) (Shotgun) J.Burrow pass short middle to...   \n",
       "\n",
       "   quarter  down  yardsToGo possessionTeam defensiveTeam yardlineSide  \\\n",
       "0        3     1         10            CIN           ATL          CIN   \n",
       "\n",
       "   yardlineNumber  ... yardsGained  homeTeamWinProbabilityAdded  \\\n",
       "0              21  ...           9                     0.004634   \n",
       "\n",
       "   visitorTeamWinProbilityAdded expectedPointsAdded  isDropback  \\\n",
       "0                     -0.004634            0.702717        True   \n",
       "\n",
       "   pff_runConceptPrimary  pff_runConceptSecondary  pff_runPassOption  \\\n",
       "0                    NaN                      NaN                  0   \n",
       "\n",
       "  pff_passCoverage pff_manZone  \n",
       "0          Cover-3        Zone  \n",
       "\n",
       "[1 rows x 50 columns]"
      ]
     },
     "execution_count": 3,
     "metadata": {},
     "output_type": "execute_result"
    }
   ],
   "source": [
    "df_play.head(1)"
   ]
  },
  {
   "cell_type": "code",
   "execution_count": 4,
   "id": "a5fad034",
   "metadata": {
    "execution": {
     "iopub.execute_input": "2024-10-22T07:09:03.779831Z",
     "iopub.status.busy": "2024-10-22T07:09:03.779369Z",
     "iopub.status.idle": "2024-10-22T07:09:03.797189Z",
     "shell.execute_reply": "2024-10-22T07:09:03.795876Z"
    },
    "papermill": {
     "duration": 0.031879,
     "end_time": "2024-10-22T07:09:03.799845",
     "exception": false,
     "start_time": "2024-10-22T07:09:03.767966",
     "status": "completed"
    },
    "tags": []
   },
   "outputs": [
    {
     "data": {
      "text/plain": [
       "pff_passCoverage\n",
       "Cover-3                 4956\n",
       "Cover-1                 3300\n",
       "Quarters                2073\n",
       "Cover-2                 1852\n",
       "Cover 6-Left             692\n",
       "Cover-6 Right            690\n",
       "Cover-3 Seam             636\n",
       "Cover-0                  605\n",
       "Red Zone                 537\n",
       "2-Man                    186\n",
       "Goal Line                146\n",
       "Bracket                   75\n",
       "Cover-1 Double            54\n",
       "Prevent                   46\n",
       "Cover-3 Cloud Right       31\n",
       "Cover-3 Cloud Left        30\n",
       "Miscellaneous             14\n",
       "Cover-3 Double Cloud       9\n",
       "Name: count, dtype: int64"
      ]
     },
     "execution_count": 4,
     "metadata": {},
     "output_type": "execute_result"
    }
   ],
   "source": [
    "df_play['pff_passCoverage'].value_counts()"
   ]
  },
  {
   "cell_type": "code",
   "execution_count": 5,
   "id": "d7a0a289",
   "metadata": {
    "execution": {
     "iopub.execute_input": "2024-10-22T07:09:03.823729Z",
     "iopub.status.busy": "2024-10-22T07:09:03.822735Z",
     "iopub.status.idle": "2024-10-22T07:09:03.834660Z",
     "shell.execute_reply": "2024-10-22T07:09:03.833394Z"
    },
    "papermill": {
     "duration": 0.026091,
     "end_time": "2024-10-22T07:09:03.837206",
     "exception": false,
     "start_time": "2024-10-22T07:09:03.811115",
     "status": "completed"
    },
    "tags": []
   },
   "outputs": [
    {
     "data": {
      "text/plain": [
       "pff_manZone\n",
       "Zone     10969\n",
       "Man       4145\n",
       "Other      818\n",
       "Name: count, dtype: int64"
      ]
     },
     "execution_count": 5,
     "metadata": {},
     "output_type": "execute_result"
    }
   ],
   "source": [
    "df_play['pff_manZone'].value_counts()"
   ]
  },
  {
   "cell_type": "markdown",
   "id": "78b5f2c5",
   "metadata": {
    "papermill": {
     "duration": 0.010239,
     "end_time": "2024-10-22T07:09:03.858108",
     "exception": false,
     "start_time": "2024-10-22T07:09:03.847869",
     "status": "completed"
    },
    "tags": []
   },
   "source": [
    "# Split out coverages, group\n",
    "\n",
    "Note: we mark cover-3 sub-groups as cover-3, cover-6 as the same, and all else as 'other'"
   ]
  },
  {
   "cell_type": "code",
   "execution_count": 6,
   "id": "f3fdc101",
   "metadata": {
    "execution": {
     "iopub.execute_input": "2024-10-22T07:09:03.881328Z",
     "iopub.status.busy": "2024-10-22T07:09:03.880895Z",
     "iopub.status.idle": "2024-10-22T07:09:03.899960Z",
     "shell.execute_reply": "2024-10-22T07:09:03.898899Z"
    },
    "papermill": {
     "duration": 0.033531,
     "end_time": "2024-10-22T07:09:03.902694",
     "exception": false,
     "start_time": "2024-10-22T07:09:03.869163",
     "status": "completed"
    },
    "tags": []
   },
   "outputs": [],
   "source": [
    "df_condensed = df_play[['gameId','playId','possessionTeam','defensiveTeam']].merge(df_games[['gameId','week']],how='left',on=['gameId'])"
   ]
  },
  {
   "cell_type": "code",
   "execution_count": 7,
   "id": "32f39e8f",
   "metadata": {
    "execution": {
     "iopub.execute_input": "2024-10-22T07:09:03.925488Z",
     "iopub.status.busy": "2024-10-22T07:09:03.924978Z",
     "iopub.status.idle": "2024-10-22T07:09:03.935147Z",
     "shell.execute_reply": "2024-10-22T07:09:03.934011Z"
    },
    "papermill": {
     "duration": 0.024465,
     "end_time": "2024-10-22T07:09:03.937743",
     "exception": false,
     "start_time": "2024-10-22T07:09:03.913278",
     "status": "completed"
    },
    "tags": []
   },
   "outputs": [
    {
     "data": {
      "text/plain": [
       "True"
      ]
     },
     "execution_count": 7,
     "metadata": {},
     "output_type": "execute_result"
    }
   ],
   "source": [
    "all(df_condensed[['gameId','playId']] == df_play[['gameId','playId']])"
   ]
  },
  {
   "cell_type": "code",
   "execution_count": 8,
   "id": "d19b5a87",
   "metadata": {
    "execution": {
     "iopub.execute_input": "2024-10-22T07:09:03.960579Z",
     "iopub.status.busy": "2024-10-22T07:09:03.960155Z",
     "iopub.status.idle": "2024-10-22T07:09:03.970264Z",
     "shell.execute_reply": "2024-10-22T07:09:03.969255Z"
    },
    "papermill": {
     "duration": 0.024413,
     "end_time": "2024-10-22T07:09:03.972785",
     "exception": false,
     "start_time": "2024-10-22T07:09:03.948372",
     "status": "completed"
    },
    "tags": []
   },
   "outputs": [],
   "source": [
    "coverage_df = pd.get_dummies(df_play['pff_passCoverage']).astype(int)"
   ]
  },
  {
   "cell_type": "code",
   "execution_count": 9,
   "id": "ce6704c3",
   "metadata": {
    "execution": {
     "iopub.execute_input": "2024-10-22T07:09:03.995819Z",
     "iopub.status.busy": "2024-10-22T07:09:03.995383Z",
     "iopub.status.idle": "2024-10-22T07:09:04.002784Z",
     "shell.execute_reply": "2024-10-22T07:09:04.001619Z"
    },
    "papermill": {
     "duration": 0.022205,
     "end_time": "2024-10-22T07:09:04.005565",
     "exception": false,
     "start_time": "2024-10-22T07:09:03.983360",
     "status": "completed"
    },
    "tags": []
   },
   "outputs": [
    {
     "data": {
      "text/plain": [
       "16124"
      ]
     },
     "execution_count": 9,
     "metadata": {},
     "output_type": "execute_result"
    }
   ],
   "source": [
    "len(df_condensed)"
   ]
  },
  {
   "cell_type": "code",
   "execution_count": 10,
   "id": "c8ea2e64",
   "metadata": {
    "execution": {
     "iopub.execute_input": "2024-10-22T07:09:04.028890Z",
     "iopub.status.busy": "2024-10-22T07:09:04.028459Z",
     "iopub.status.idle": "2024-10-22T07:09:04.053809Z",
     "shell.execute_reply": "2024-10-22T07:09:04.052614Z"
    },
    "papermill": {
     "duration": 0.040138,
     "end_time": "2024-10-22T07:09:04.056497",
     "exception": false,
     "start_time": "2024-10-22T07:09:04.016359",
     "status": "completed"
    },
    "tags": []
   },
   "outputs": [],
   "source": [
    "cols_c3 = [x for x in coverage_df.columns if 'Cover-3' in x]\n",
    "cols_c1 = [x for x in coverage_df.columns if 'Cover-1' in x]\n",
    "cols_c6 = [x for x in coverage_df.columns if (('Cover-6' in x) or ('Cover 6') in x)]\n",
    "\n",
    "df_condensed['cover_3'] = coverage_df[cols_c3].sum(axis=1).values\n",
    "df_condensed['cover_6'] = coverage_df[cols_c6].sum(axis=1).values\n",
    "df_condensed['cover_1'] = coverage_df[cols_c1].sum(axis=1).values"
   ]
  },
  {
   "cell_type": "code",
   "execution_count": 11,
   "id": "f67d7bf5",
   "metadata": {
    "execution": {
     "iopub.execute_input": "2024-10-22T07:09:04.079642Z",
     "iopub.status.busy": "2024-10-22T07:09:04.079198Z",
     "iopub.status.idle": "2024-10-22T07:09:04.088861Z",
     "shell.execute_reply": "2024-10-22T07:09:04.087050Z"
    },
    "papermill": {
     "duration": 0.024775,
     "end_time": "2024-10-22T07:09:04.092011",
     "exception": false,
     "start_time": "2024-10-22T07:09:04.067236",
     "status": "completed"
    },
    "tags": []
   },
   "outputs": [],
   "source": [
    "df_covered = pd.concat([df_condensed,coverage_df[['Quarters','Cover-2','Cover-0']]],axis=1)"
   ]
  },
  {
   "cell_type": "code",
   "execution_count": 12,
   "id": "c86fb49f",
   "metadata": {
    "execution": {
     "iopub.execute_input": "2024-10-22T07:09:04.115239Z",
     "iopub.status.busy": "2024-10-22T07:09:04.114814Z",
     "iopub.status.idle": "2024-10-22T07:09:04.122799Z",
     "shell.execute_reply": "2024-10-22T07:09:04.121728Z"
    },
    "papermill": {
     "duration": 0.022922,
     "end_time": "2024-10-22T07:09:04.125662",
     "exception": false,
     "start_time": "2024-10-22T07:09:04.102740",
     "status": "completed"
    },
    "tags": []
   },
   "outputs": [],
   "source": [
    "df_covered['other'] = (~(df_covered.iloc[:,5:].any(axis=1).values)).astype(int)"
   ]
  },
  {
   "cell_type": "code",
   "execution_count": 13,
   "id": "7f34ee7d",
   "metadata": {
    "execution": {
     "iopub.execute_input": "2024-10-22T07:09:04.149127Z",
     "iopub.status.busy": "2024-10-22T07:09:04.148704Z",
     "iopub.status.idle": "2024-10-22T07:09:04.167240Z",
     "shell.execute_reply": "2024-10-22T07:09:04.166153Z"
    },
    "papermill": {
     "duration": 0.033198,
     "end_time": "2024-10-22T07:09:04.169644",
     "exception": false,
     "start_time": "2024-10-22T07:09:04.136446",
     "status": "completed"
    },
    "tags": []
   },
   "outputs": [
    {
     "data": {
      "text/html": [
       "<div>\n",
       "<style scoped>\n",
       "    .dataframe tbody tr th:only-of-type {\n",
       "        vertical-align: middle;\n",
       "    }\n",
       "\n",
       "    .dataframe tbody tr th {\n",
       "        vertical-align: top;\n",
       "    }\n",
       "\n",
       "    .dataframe thead th {\n",
       "        text-align: right;\n",
       "    }\n",
       "</style>\n",
       "<table border=\"1\" class=\"dataframe\">\n",
       "  <thead>\n",
       "    <tr style=\"text-align: right;\">\n",
       "      <th></th>\n",
       "      <th>gameId</th>\n",
       "      <th>playId</th>\n",
       "      <th>possessionTeam</th>\n",
       "      <th>defensiveTeam</th>\n",
       "      <th>week</th>\n",
       "      <th>cover_3</th>\n",
       "      <th>cover_6</th>\n",
       "      <th>cover_1</th>\n",
       "      <th>Quarters</th>\n",
       "      <th>Cover-2</th>\n",
       "      <th>Cover-0</th>\n",
       "      <th>other</th>\n",
       "    </tr>\n",
       "  </thead>\n",
       "  <tbody>\n",
       "    <tr>\n",
       "      <th>13140</th>\n",
       "      <td>2022100907</td>\n",
       "      <td>981</td>\n",
       "      <td>NYJ</td>\n",
       "      <td>MIA</td>\n",
       "      <td>5</td>\n",
       "      <td>0</td>\n",
       "      <td>0</td>\n",
       "      <td>0</td>\n",
       "      <td>0</td>\n",
       "      <td>0</td>\n",
       "      <td>1</td>\n",
       "      <td>0</td>\n",
       "    </tr>\n",
       "    <tr>\n",
       "      <th>6950</th>\n",
       "      <td>2022100203</td>\n",
       "      <td>551</td>\n",
       "      <td>ARI</td>\n",
       "      <td>CAR</td>\n",
       "      <td>4</td>\n",
       "      <td>0</td>\n",
       "      <td>0</td>\n",
       "      <td>0</td>\n",
       "      <td>1</td>\n",
       "      <td>0</td>\n",
       "      <td>0</td>\n",
       "      <td>0</td>\n",
       "    </tr>\n",
       "    <tr>\n",
       "      <th>8909</th>\n",
       "      <td>2022091500</td>\n",
       "      <td>3114</td>\n",
       "      <td>LAC</td>\n",
       "      <td>KC</td>\n",
       "      <td>2</td>\n",
       "      <td>0</td>\n",
       "      <td>0</td>\n",
       "      <td>0</td>\n",
       "      <td>1</td>\n",
       "      <td>0</td>\n",
       "      <td>0</td>\n",
       "      <td>0</td>\n",
       "    </tr>\n",
       "  </tbody>\n",
       "</table>\n",
       "</div>"
      ],
      "text/plain": [
       "           gameId  playId possessionTeam defensiveTeam  week  cover_3  \\\n",
       "13140  2022100907     981            NYJ           MIA     5        0   \n",
       "6950   2022100203     551            ARI           CAR     4        0   \n",
       "8909   2022091500    3114            LAC            KC     2        0   \n",
       "\n",
       "       cover_6  cover_1  Quarters  Cover-2  Cover-0  other  \n",
       "13140        0        0         0        0        1      0  \n",
       "6950         0        0         1        0        0      0  \n",
       "8909         0        0         1        0        0      0  "
      ]
     },
     "execution_count": 13,
     "metadata": {},
     "output_type": "execute_result"
    }
   ],
   "source": [
    "df_covered.sample(3)"
   ]
  },
  {
   "cell_type": "code",
   "execution_count": 14,
   "id": "2b616746",
   "metadata": {
    "execution": {
     "iopub.execute_input": "2024-10-22T07:09:04.193522Z",
     "iopub.status.busy": "2024-10-22T07:09:04.193075Z",
     "iopub.status.idle": "2024-10-22T07:09:04.207140Z",
     "shell.execute_reply": "2024-10-22T07:09:04.205773Z"
    },
    "papermill": {
     "duration": 0.029497,
     "end_time": "2024-10-22T07:09:04.210145",
     "exception": false,
     "start_time": "2024-10-22T07:09:04.180648",
     "status": "completed"
    },
    "tags": []
   },
   "outputs": [],
   "source": [
    "df_covered = pd.concat([df_covered.drop(columns='other'),\n",
    "                        pd.get_dummies(df_play['pff_manZone']).astype(int)],axis=1)\n",
    "                                           "
   ]
  },
  {
   "cell_type": "code",
   "execution_count": 15,
   "id": "67e5790a",
   "metadata": {
    "execution": {
     "iopub.execute_input": "2024-10-22T07:09:04.234340Z",
     "iopub.status.busy": "2024-10-22T07:09:04.233920Z",
     "iopub.status.idle": "2024-10-22T07:09:04.249012Z",
     "shell.execute_reply": "2024-10-22T07:09:04.247931Z"
    },
    "papermill": {
     "duration": 0.030441,
     "end_time": "2024-10-22T07:09:04.251740",
     "exception": false,
     "start_time": "2024-10-22T07:09:04.221299",
     "status": "completed"
    },
    "tags": []
   },
   "outputs": [
    {
     "data": {
      "text/html": [
       "<div>\n",
       "<style scoped>\n",
       "    .dataframe tbody tr th:only-of-type {\n",
       "        vertical-align: middle;\n",
       "    }\n",
       "\n",
       "    .dataframe tbody tr th {\n",
       "        vertical-align: top;\n",
       "    }\n",
       "\n",
       "    .dataframe thead th {\n",
       "        text-align: right;\n",
       "    }\n",
       "</style>\n",
       "<table border=\"1\" class=\"dataframe\">\n",
       "  <thead>\n",
       "    <tr style=\"text-align: right;\">\n",
       "      <th></th>\n",
       "      <th>gameId</th>\n",
       "      <th>playId</th>\n",
       "      <th>possessionTeam</th>\n",
       "      <th>defensiveTeam</th>\n",
       "      <th>week</th>\n",
       "      <th>cover_3</th>\n",
       "      <th>cover_6</th>\n",
       "      <th>cover_1</th>\n",
       "      <th>Quarters</th>\n",
       "      <th>Cover-2</th>\n",
       "      <th>Cover-0</th>\n",
       "      <th>Man</th>\n",
       "      <th>Other</th>\n",
       "      <th>Zone</th>\n",
       "    </tr>\n",
       "  </thead>\n",
       "  <tbody>\n",
       "    <tr>\n",
       "      <th>0</th>\n",
       "      <td>2022102302</td>\n",
       "      <td>2655</td>\n",
       "      <td>CIN</td>\n",
       "      <td>ATL</td>\n",
       "      <td>7</td>\n",
       "      <td>1</td>\n",
       "      <td>0</td>\n",
       "      <td>0</td>\n",
       "      <td>0</td>\n",
       "      <td>0</td>\n",
       "      <td>0</td>\n",
       "      <td>0</td>\n",
       "      <td>0</td>\n",
       "      <td>1</td>\n",
       "    </tr>\n",
       "  </tbody>\n",
       "</table>\n",
       "</div>"
      ],
      "text/plain": [
       "       gameId  playId possessionTeam defensiveTeam  week  cover_3  cover_6  \\\n",
       "0  2022102302    2655            CIN           ATL     7        1        0   \n",
       "\n",
       "   cover_1  Quarters  Cover-2  Cover-0  Man  Other  Zone  \n",
       "0        0         0        0        0    0      0     1  "
      ]
     },
     "execution_count": 15,
     "metadata": {},
     "output_type": "execute_result"
    }
   ],
   "source": [
    "df_covered.head(1)"
   ]
  },
  {
   "cell_type": "code",
   "execution_count": 16,
   "id": "a3f2aa98",
   "metadata": {
    "execution": {
     "iopub.execute_input": "2024-10-22T07:09:04.277263Z",
     "iopub.status.busy": "2024-10-22T07:09:04.276244Z",
     "iopub.status.idle": "2024-10-22T07:09:04.302578Z",
     "shell.execute_reply": "2024-10-22T07:09:04.301582Z"
    },
    "papermill": {
     "duration": 0.041486,
     "end_time": "2024-10-22T07:09:04.305212",
     "exception": false,
     "start_time": "2024-10-22T07:09:04.263726",
     "status": "completed"
    },
    "tags": []
   },
   "outputs": [],
   "source": [
    "cov_faced = df_covered.drop(columns=['defensiveTeam','gameId',\n",
    "                                     'playId']).groupby(['possessionTeam','week']).sum().reset_index()\n",
    "cov_used  = df_covered.drop(columns=['possessionTeam','gameId',\n",
    "                                     'playId']).groupby(['defensiveTeam','week']).sum().reset_index()"
   ]
  },
  {
   "cell_type": "code",
   "execution_count": 17,
   "id": "f6dfb595",
   "metadata": {
    "execution": {
     "iopub.execute_input": "2024-10-22T07:09:04.329520Z",
     "iopub.status.busy": "2024-10-22T07:09:04.329082Z",
     "iopub.status.idle": "2024-10-22T07:09:04.342695Z",
     "shell.execute_reply": "2024-10-22T07:09:04.341634Z"
    },
    "papermill": {
     "duration": 0.028392,
     "end_time": "2024-10-22T07:09:04.345077",
     "exception": false,
     "start_time": "2024-10-22T07:09:04.316685",
     "status": "completed"
    },
    "tags": []
   },
   "outputs": [
    {
     "data": {
      "text/html": [
       "<div>\n",
       "<style scoped>\n",
       "    .dataframe tbody tr th:only-of-type {\n",
       "        vertical-align: middle;\n",
       "    }\n",
       "\n",
       "    .dataframe tbody tr th {\n",
       "        vertical-align: top;\n",
       "    }\n",
       "\n",
       "    .dataframe thead th {\n",
       "        text-align: right;\n",
       "    }\n",
       "</style>\n",
       "<table border=\"1\" class=\"dataframe\">\n",
       "  <thead>\n",
       "    <tr style=\"text-align: right;\">\n",
       "      <th></th>\n",
       "      <th>possessionTeam</th>\n",
       "      <th>week</th>\n",
       "      <th>cover_3</th>\n",
       "      <th>cover_6</th>\n",
       "      <th>cover_1</th>\n",
       "      <th>Quarters</th>\n",
       "      <th>Cover-2</th>\n",
       "      <th>Cover-0</th>\n",
       "      <th>Man</th>\n",
       "      <th>Other</th>\n",
       "      <th>Zone</th>\n",
       "    </tr>\n",
       "  </thead>\n",
       "  <tbody>\n",
       "    <tr>\n",
       "      <th>0</th>\n",
       "      <td>ARI</td>\n",
       "      <td>1</td>\n",
       "      <td>8</td>\n",
       "      <td>3</td>\n",
       "      <td>11</td>\n",
       "      <td>16</td>\n",
       "      <td>14</td>\n",
       "      <td>2</td>\n",
       "      <td>13</td>\n",
       "      <td>3</td>\n",
       "      <td>41</td>\n",
       "    </tr>\n",
       "  </tbody>\n",
       "</table>\n",
       "</div>"
      ],
      "text/plain": [
       "  possessionTeam  week  cover_3  cover_6  cover_1  Quarters  Cover-2  Cover-0  \\\n",
       "0            ARI     1        8        3       11        16       14        2   \n",
       "\n",
       "   Man  Other  Zone  \n",
       "0   13      3    41  "
      ]
     },
     "execution_count": 17,
     "metadata": {},
     "output_type": "execute_result"
    }
   ],
   "source": [
    "cov_faced.head(1)"
   ]
  },
  {
   "cell_type": "markdown",
   "id": "b0cd04ee",
   "metadata": {
    "papermill": {
     "duration": 0.011006,
     "end_time": "2024-10-22T07:09:04.367369",
     "exception": false,
     "start_time": "2024-10-22T07:09:04.356363",
     "status": "completed"
    },
    "tags": []
   },
   "source": [
    "### Aggregate cumulative snap counts\n",
    "\n",
    "Here we get cumulative snap counts (rolling week-to-week) for the coverages each team uses\n",
    "\n",
    "CF = coverages faced (offense), CU = coverages used  (defense)\n"
   ]
  },
  {
   "cell_type": "code",
   "execution_count": 18,
   "id": "32b5f080",
   "metadata": {
    "execution": {
     "iopub.execute_input": "2024-10-22T07:09:04.392435Z",
     "iopub.status.busy": "2024-10-22T07:09:04.391358Z",
     "iopub.status.idle": "2024-10-22T07:09:04.400935Z",
     "shell.execute_reply": "2024-10-22T07:09:04.399837Z"
    },
    "papermill": {
     "duration": 0.024893,
     "end_time": "2024-10-22T07:09:04.403473",
     "exception": false,
     "start_time": "2024-10-22T07:09:04.378580",
     "status": "completed"
    },
    "tags": []
   },
   "outputs": [],
   "source": [
    "df_cum_cf = pd.concat([cov_faced[['possessionTeam','week']], \n",
    "                       cov_faced.groupby('possessionTeam').cumsum().drop(columns=['week'])],axis=1)"
   ]
  },
  {
   "cell_type": "code",
   "execution_count": 19,
   "id": "9a4805b4",
   "metadata": {
    "execution": {
     "iopub.execute_input": "2024-10-22T07:09:04.428175Z",
     "iopub.status.busy": "2024-10-22T07:09:04.427737Z",
     "iopub.status.idle": "2024-10-22T07:09:04.437224Z",
     "shell.execute_reply": "2024-10-22T07:09:04.436081Z"
    },
    "papermill": {
     "duration": 0.024684,
     "end_time": "2024-10-22T07:09:04.439685",
     "exception": false,
     "start_time": "2024-10-22T07:09:04.415001",
     "status": "completed"
    },
    "tags": []
   },
   "outputs": [],
   "source": [
    "df_cum_cu = pd.concat([cov_used[['defensiveTeam','week']], \n",
    "                       cov_used.groupby('defensiveTeam').cumsum().drop(columns=['week'])],axis=1)"
   ]
  },
  {
   "cell_type": "code",
   "execution_count": 20,
   "id": "b506b264",
   "metadata": {
    "execution": {
     "iopub.execute_input": "2024-10-22T07:09:04.464320Z",
     "iopub.status.busy": "2024-10-22T07:09:04.463910Z",
     "iopub.status.idle": "2024-10-22T07:09:04.480306Z",
     "shell.execute_reply": "2024-10-22T07:09:04.479189Z"
    },
    "papermill": {
     "duration": 0.031735,
     "end_time": "2024-10-22T07:09:04.482718",
     "exception": false,
     "start_time": "2024-10-22T07:09:04.450983",
     "status": "completed"
    },
    "tags": []
   },
   "outputs": [
    {
     "data": {
      "text/html": [
       "<div>\n",
       "<style scoped>\n",
       "    .dataframe tbody tr th:only-of-type {\n",
       "        vertical-align: middle;\n",
       "    }\n",
       "\n",
       "    .dataframe tbody tr th {\n",
       "        vertical-align: top;\n",
       "    }\n",
       "\n",
       "    .dataframe thead th {\n",
       "        text-align: right;\n",
       "    }\n",
       "</style>\n",
       "<table border=\"1\" class=\"dataframe\">\n",
       "  <thead>\n",
       "    <tr style=\"text-align: right;\">\n",
       "      <th></th>\n",
       "      <th>possessionTeam</th>\n",
       "      <th>week</th>\n",
       "      <th>cover_3</th>\n",
       "      <th>cover_6</th>\n",
       "      <th>cover_1</th>\n",
       "      <th>Quarters</th>\n",
       "      <th>Cover-2</th>\n",
       "      <th>Cover-0</th>\n",
       "      <th>Man</th>\n",
       "      <th>Other</th>\n",
       "      <th>Zone</th>\n",
       "    </tr>\n",
       "  </thead>\n",
       "  <tbody>\n",
       "    <tr>\n",
       "      <th>0</th>\n",
       "      <td>ARI</td>\n",
       "      <td>2</td>\n",
       "      <td>8</td>\n",
       "      <td>3</td>\n",
       "      <td>11</td>\n",
       "      <td>16</td>\n",
       "      <td>14</td>\n",
       "      <td>2</td>\n",
       "      <td>13</td>\n",
       "      <td>3</td>\n",
       "      <td>41</td>\n",
       "    </tr>\n",
       "    <tr>\n",
       "      <th>1</th>\n",
       "      <td>ARI</td>\n",
       "      <td>3</td>\n",
       "      <td>21</td>\n",
       "      <td>5</td>\n",
       "      <td>30</td>\n",
       "      <td>23</td>\n",
       "      <td>34</td>\n",
       "      <td>9</td>\n",
       "      <td>39</td>\n",
       "      <td>8</td>\n",
       "      <td>83</td>\n",
       "    </tr>\n",
       "    <tr>\n",
       "      <th>2</th>\n",
       "      <td>ARI</td>\n",
       "      <td>4</td>\n",
       "      <td>62</td>\n",
       "      <td>17</td>\n",
       "      <td>37</td>\n",
       "      <td>35</td>\n",
       "      <td>37</td>\n",
       "      <td>9</td>\n",
       "      <td>46</td>\n",
       "      <td>9</td>\n",
       "      <td>151</td>\n",
       "    </tr>\n",
       "  </tbody>\n",
       "</table>\n",
       "</div>"
      ],
      "text/plain": [
       "  possessionTeam  week  cover_3  cover_6  cover_1  Quarters  Cover-2  Cover-0  \\\n",
       "0            ARI     2        8        3       11        16       14        2   \n",
       "1            ARI     3       21        5       30        23       34        9   \n",
       "2            ARI     4       62       17       37        35       37        9   \n",
       "\n",
       "   Man  Other  Zone  \n",
       "0   13      3    41  \n",
       "1   39      8    83  \n",
       "2   46      9   151  "
      ]
     },
     "execution_count": 20,
     "metadata": {},
     "output_type": "execute_result"
    }
   ],
   "source": [
    "df_cum_cf['week']+=1\n",
    "df_cum_cf.head(3)"
   ]
  },
  {
   "cell_type": "code",
   "execution_count": 21,
   "id": "b34c4854",
   "metadata": {
    "execution": {
     "iopub.execute_input": "2024-10-22T07:09:04.507685Z",
     "iopub.status.busy": "2024-10-22T07:09:04.507207Z",
     "iopub.status.idle": "2024-10-22T07:09:04.522257Z",
     "shell.execute_reply": "2024-10-22T07:09:04.521080Z"
    },
    "papermill": {
     "duration": 0.03042,
     "end_time": "2024-10-22T07:09:04.524755",
     "exception": false,
     "start_time": "2024-10-22T07:09:04.494335",
     "status": "completed"
    },
    "tags": []
   },
   "outputs": [
    {
     "data": {
      "text/html": [
       "<div>\n",
       "<style scoped>\n",
       "    .dataframe tbody tr th:only-of-type {\n",
       "        vertical-align: middle;\n",
       "    }\n",
       "\n",
       "    .dataframe tbody tr th {\n",
       "        vertical-align: top;\n",
       "    }\n",
       "\n",
       "    .dataframe thead th {\n",
       "        text-align: right;\n",
       "    }\n",
       "</style>\n",
       "<table border=\"1\" class=\"dataframe\">\n",
       "  <thead>\n",
       "    <tr style=\"text-align: right;\">\n",
       "      <th></th>\n",
       "      <th>defensiveTeam</th>\n",
       "      <th>week</th>\n",
       "      <th>cover_3</th>\n",
       "      <th>cover_6</th>\n",
       "      <th>cover_1</th>\n",
       "      <th>Quarters</th>\n",
       "      <th>Cover-2</th>\n",
       "      <th>Cover-0</th>\n",
       "      <th>Man</th>\n",
       "      <th>Other</th>\n",
       "      <th>Zone</th>\n",
       "    </tr>\n",
       "  </thead>\n",
       "  <tbody>\n",
       "    <tr>\n",
       "      <th>0</th>\n",
       "      <td>ARI</td>\n",
       "      <td>2</td>\n",
       "      <td>21</td>\n",
       "      <td>2</td>\n",
       "      <td>21</td>\n",
       "      <td>7</td>\n",
       "      <td>4</td>\n",
       "      <td>3</td>\n",
       "      <td>26</td>\n",
       "      <td>4</td>\n",
       "      <td>34</td>\n",
       "    </tr>\n",
       "    <tr>\n",
       "      <th>1</th>\n",
       "      <td>ARI</td>\n",
       "      <td>3</td>\n",
       "      <td>35</td>\n",
       "      <td>14</td>\n",
       "      <td>32</td>\n",
       "      <td>16</td>\n",
       "      <td>14</td>\n",
       "      <td>4</td>\n",
       "      <td>39</td>\n",
       "      <td>6</td>\n",
       "      <td>79</td>\n",
       "    </tr>\n",
       "    <tr>\n",
       "      <th>2</th>\n",
       "      <td>ARI</td>\n",
       "      <td>4</td>\n",
       "      <td>50</td>\n",
       "      <td>21</td>\n",
       "      <td>41</td>\n",
       "      <td>21</td>\n",
       "      <td>16</td>\n",
       "      <td>6</td>\n",
       "      <td>50</td>\n",
       "      <td>9</td>\n",
       "      <td>108</td>\n",
       "    </tr>\n",
       "  </tbody>\n",
       "</table>\n",
       "</div>"
      ],
      "text/plain": [
       "  defensiveTeam  week  cover_3  cover_6  cover_1  Quarters  Cover-2  Cover-0  \\\n",
       "0           ARI     2       21        2       21         7        4        3   \n",
       "1           ARI     3       35       14       32        16       14        4   \n",
       "2           ARI     4       50       21       41        21       16        6   \n",
       "\n",
       "   Man  Other  Zone  \n",
       "0   26      4    34  \n",
       "1   39      6    79  \n",
       "2   50      9   108  "
      ]
     },
     "execution_count": 21,
     "metadata": {},
     "output_type": "execute_result"
    }
   ],
   "source": [
    "df_cum_cu['week']+=1\n",
    "df_cum_cu.head(3)"
   ]
  },
  {
   "cell_type": "code",
   "execution_count": 22,
   "id": "f42b7f96",
   "metadata": {
    "execution": {
     "iopub.execute_input": "2024-10-22T07:09:04.550336Z",
     "iopub.status.busy": "2024-10-22T07:09:04.549939Z",
     "iopub.status.idle": "2024-10-22T07:09:04.556353Z",
     "shell.execute_reply": "2024-10-22T07:09:04.555223Z"
    },
    "papermill": {
     "duration": 0.022331,
     "end_time": "2024-10-22T07:09:04.559036",
     "exception": false,
     "start_time": "2024-10-22T07:09:04.536705",
     "status": "completed"
    },
    "tags": []
   },
   "outputs": [],
   "source": [
    "df_cum_cu.columns = ['defensiveTeam','week']+[x+'_def' for x in df_cum_cu.columns[2:]]"
   ]
  },
  {
   "cell_type": "code",
   "execution_count": 23,
   "id": "38c34b81",
   "metadata": {
    "execution": {
     "iopub.execute_input": "2024-10-22T07:09:04.585630Z",
     "iopub.status.busy": "2024-10-22T07:09:04.584768Z",
     "iopub.status.idle": "2024-10-22T07:09:04.598921Z",
     "shell.execute_reply": "2024-10-22T07:09:04.597826Z"
    },
    "papermill": {
     "duration": 0.030628,
     "end_time": "2024-10-22T07:09:04.601491",
     "exception": false,
     "start_time": "2024-10-22T07:09:04.570863",
     "status": "completed"
    },
    "tags": []
   },
   "outputs": [
    {
     "data": {
      "text/html": [
       "<div>\n",
       "<style scoped>\n",
       "    .dataframe tbody tr th:only-of-type {\n",
       "        vertical-align: middle;\n",
       "    }\n",
       "\n",
       "    .dataframe tbody tr th {\n",
       "        vertical-align: top;\n",
       "    }\n",
       "\n",
       "    .dataframe thead th {\n",
       "        text-align: right;\n",
       "    }\n",
       "</style>\n",
       "<table border=\"1\" class=\"dataframe\">\n",
       "  <thead>\n",
       "    <tr style=\"text-align: right;\">\n",
       "      <th></th>\n",
       "      <th>defensiveTeam</th>\n",
       "      <th>week</th>\n",
       "      <th>cover_3_def</th>\n",
       "      <th>cover_6_def</th>\n",
       "      <th>cover_1_def</th>\n",
       "      <th>Quarters_def</th>\n",
       "      <th>Cover-2_def</th>\n",
       "      <th>Cover-0_def</th>\n",
       "      <th>Man_def</th>\n",
       "      <th>Other_def</th>\n",
       "      <th>Zone_def</th>\n",
       "    </tr>\n",
       "  </thead>\n",
       "  <tbody>\n",
       "    <tr>\n",
       "      <th>0</th>\n",
       "      <td>ARI</td>\n",
       "      <td>2</td>\n",
       "      <td>21</td>\n",
       "      <td>2</td>\n",
       "      <td>21</td>\n",
       "      <td>7</td>\n",
       "      <td>4</td>\n",
       "      <td>3</td>\n",
       "      <td>26</td>\n",
       "      <td>4</td>\n",
       "      <td>34</td>\n",
       "    </tr>\n",
       "    <tr>\n",
       "      <th>1</th>\n",
       "      <td>ARI</td>\n",
       "      <td>3</td>\n",
       "      <td>35</td>\n",
       "      <td>14</td>\n",
       "      <td>32</td>\n",
       "      <td>16</td>\n",
       "      <td>14</td>\n",
       "      <td>4</td>\n",
       "      <td>39</td>\n",
       "      <td>6</td>\n",
       "      <td>79</td>\n",
       "    </tr>\n",
       "    <tr>\n",
       "      <th>2</th>\n",
       "      <td>ARI</td>\n",
       "      <td>4</td>\n",
       "      <td>50</td>\n",
       "      <td>21</td>\n",
       "      <td>41</td>\n",
       "      <td>21</td>\n",
       "      <td>16</td>\n",
       "      <td>6</td>\n",
       "      <td>50</td>\n",
       "      <td>9</td>\n",
       "      <td>108</td>\n",
       "    </tr>\n",
       "  </tbody>\n",
       "</table>\n",
       "</div>"
      ],
      "text/plain": [
       "  defensiveTeam  week  cover_3_def  cover_6_def  cover_1_def  Quarters_def  \\\n",
       "0           ARI     2           21            2           21             7   \n",
       "1           ARI     3           35           14           32            16   \n",
       "2           ARI     4           50           21           41            21   \n",
       "\n",
       "   Cover-2_def  Cover-0_def  Man_def  Other_def  Zone_def  \n",
       "0            4            3       26          4        34  \n",
       "1           14            4       39          6        79  \n",
       "2           16            6       50          9       108  "
      ]
     },
     "execution_count": 23,
     "metadata": {},
     "output_type": "execute_result"
    }
   ],
   "source": [
    "df_cum_cu.head(3)"
   ]
  },
  {
   "cell_type": "code",
   "execution_count": 24,
   "id": "e746f030",
   "metadata": {
    "execution": {
     "iopub.execute_input": "2024-10-22T07:09:04.628224Z",
     "iopub.status.busy": "2024-10-22T07:09:04.627432Z",
     "iopub.status.idle": "2024-10-22T07:09:04.633355Z",
     "shell.execute_reply": "2024-10-22T07:09:04.632161Z"
    },
    "papermill": {
     "duration": 0.022074,
     "end_time": "2024-10-22T07:09:04.635989",
     "exception": false,
     "start_time": "2024-10-22T07:09:04.613915",
     "status": "completed"
    },
    "tags": []
   },
   "outputs": [],
   "source": [
    "df_cum_cf.columns = ['possessionTeam','week']+[x+'_off' for x in df_cum_cu.columns[2:]]"
   ]
  },
  {
   "cell_type": "code",
   "execution_count": 25,
   "id": "9d4aeab0",
   "metadata": {
    "execution": {
     "iopub.execute_input": "2024-10-22T07:09:04.662620Z",
     "iopub.status.busy": "2024-10-22T07:09:04.662186Z",
     "iopub.status.idle": "2024-10-22T07:09:04.677259Z",
     "shell.execute_reply": "2024-10-22T07:09:04.676028Z"
    },
    "papermill": {
     "duration": 0.030879,
     "end_time": "2024-10-22T07:09:04.679704",
     "exception": false,
     "start_time": "2024-10-22T07:09:04.648825",
     "status": "completed"
    },
    "tags": []
   },
   "outputs": [
    {
     "data": {
      "text/html": [
       "<div>\n",
       "<style scoped>\n",
       "    .dataframe tbody tr th:only-of-type {\n",
       "        vertical-align: middle;\n",
       "    }\n",
       "\n",
       "    .dataframe tbody tr th {\n",
       "        vertical-align: top;\n",
       "    }\n",
       "\n",
       "    .dataframe thead th {\n",
       "        text-align: right;\n",
       "    }\n",
       "</style>\n",
       "<table border=\"1\" class=\"dataframe\">\n",
       "  <thead>\n",
       "    <tr style=\"text-align: right;\">\n",
       "      <th></th>\n",
       "      <th>possessionTeam</th>\n",
       "      <th>week</th>\n",
       "      <th>cover_3_def_off</th>\n",
       "      <th>cover_6_def_off</th>\n",
       "      <th>cover_1_def_off</th>\n",
       "      <th>Quarters_def_off</th>\n",
       "      <th>Cover-2_def_off</th>\n",
       "      <th>Cover-0_def_off</th>\n",
       "      <th>Man_def_off</th>\n",
       "      <th>Other_def_off</th>\n",
       "      <th>Zone_def_off</th>\n",
       "    </tr>\n",
       "  </thead>\n",
       "  <tbody>\n",
       "    <tr>\n",
       "      <th>0</th>\n",
       "      <td>ARI</td>\n",
       "      <td>2</td>\n",
       "      <td>8</td>\n",
       "      <td>3</td>\n",
       "      <td>11</td>\n",
       "      <td>16</td>\n",
       "      <td>14</td>\n",
       "      <td>2</td>\n",
       "      <td>13</td>\n",
       "      <td>3</td>\n",
       "      <td>41</td>\n",
       "    </tr>\n",
       "  </tbody>\n",
       "</table>\n",
       "</div>"
      ],
      "text/plain": [
       "  possessionTeam  week  cover_3_def_off  cover_6_def_off  cover_1_def_off  \\\n",
       "0            ARI     2                8                3               11   \n",
       "\n",
       "   Quarters_def_off  Cover-2_def_off  Cover-0_def_off  Man_def_off  \\\n",
       "0                16               14                2           13   \n",
       "\n",
       "   Other_def_off  Zone_def_off  \n",
       "0              3            41  "
      ]
     },
     "execution_count": 25,
     "metadata": {},
     "output_type": "execute_result"
    }
   ],
   "source": [
    "df_cum_cf.head(1)"
   ]
  },
  {
   "cell_type": "code",
   "execution_count": 26,
   "id": "a112cf8c",
   "metadata": {
    "execution": {
     "iopub.execute_input": "2024-10-22T07:09:04.706241Z",
     "iopub.status.busy": "2024-10-22T07:09:04.705794Z",
     "iopub.status.idle": "2024-10-22T07:09:04.715716Z",
     "shell.execute_reply": "2024-10-22T07:09:04.714528Z"
    },
    "papermill": {
     "duration": 0.026305,
     "end_time": "2024-10-22T07:09:04.718349",
     "exception": false,
     "start_time": "2024-10-22T07:09:04.692044",
     "status": "completed"
    },
    "tags": []
   },
   "outputs": [],
   "source": [
    "df_cum_cf.to_csv('coverages_faced.csv')"
   ]
  },
  {
   "cell_type": "code",
   "execution_count": 27,
   "id": "9db7e7e3",
   "metadata": {
    "execution": {
     "iopub.execute_input": "2024-10-22T07:09:04.745015Z",
     "iopub.status.busy": "2024-10-22T07:09:04.744547Z",
     "iopub.status.idle": "2024-10-22T07:09:04.753961Z",
     "shell.execute_reply": "2024-10-22T07:09:04.752586Z"
    },
    "papermill": {
     "duration": 0.026044,
     "end_time": "2024-10-22T07:09:04.756911",
     "exception": false,
     "start_time": "2024-10-22T07:09:04.730867",
     "status": "completed"
    },
    "tags": []
   },
   "outputs": [],
   "source": [
    "df_cum_cu.to_csv('coverages_used.csv')"
   ]
  },
  {
   "cell_type": "code",
   "execution_count": null,
   "id": "da86f1a7",
   "metadata": {
    "papermill": {
     "duration": 0.011983,
     "end_time": "2024-10-22T07:09:04.781522",
     "exception": false,
     "start_time": "2024-10-22T07:09:04.769539",
     "status": "completed"
    },
    "tags": []
   },
   "outputs": [],
   "source": []
  }
 ],
 "metadata": {
  "kaggle": {
   "accelerator": "none",
   "dataSources": [
    {
     "databundleVersionId": 9816926,
     "sourceId": 84175,
     "sourceType": "competition"
    }
   ],
   "dockerImageVersionId": 30786,
   "isGpuEnabled": false,
   "isInternetEnabled": true,
   "language": "python",
   "sourceType": "notebook"
  },
  "kernelspec": {
   "display_name": "Python 3",
   "language": "python",
   "name": "python3"
  },
  "language_info": {
   "codemirror_mode": {
    "name": "ipython",
    "version": 3
   },
   "file_extension": ".py",
   "mimetype": "text/x-python",
   "name": "python",
   "nbconvert_exporter": "python",
   "pygments_lexer": "ipython3",
   "version": "3.10.14"
  },
  "papermill": {
   "default_parameters": {},
   "duration": 8.540841,
   "end_time": "2024-10-22T07:09:05.315899",
   "environment_variables": {},
   "exception": null,
   "input_path": "__notebook__.ipynb",
   "output_path": "__notebook__.ipynb",
   "parameters": {},
   "start_time": "2024-10-22T07:08:56.775058",
   "version": "2.6.0"
  }
 },
 "nbformat": 4,
 "nbformat_minor": 5
}
