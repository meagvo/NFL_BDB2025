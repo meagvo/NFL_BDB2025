{
 "cells": [
  {
   "cell_type": "code",
   "execution_count": 1,
   "id": "41f5f517",
   "metadata": {
    "execution": {
     "iopub.execute_input": "2024-10-22T07:08:59.844250Z",
     "iopub.status.busy": "2024-10-22T07:08:59.843807Z",
     "iopub.status.idle": "2024-10-22T07:09:00.789032Z",
     "shell.execute_reply": "2024-10-22T07:09:00.787536Z"
    },
    "papermill": {
     "duration": 0.961842,
     "end_time": "2024-10-22T07:09:00.792133",
     "exception": false,
     "start_time": "2024-10-22T07:08:59.830291",
     "status": "completed"
    },
    "tags": []
   },
   "outputs": [],
   "source": [
    "import numpy as np # linear algebra\n",
    "import pandas as pd # data processing, CSV file I/O (e.g. pd.read_csv)\n",
    "import os\n",
    "\n",
    "root_dir = os.path.split(os.getcwd())[0]"
   ]
  },
  {
   "cell_type": "code",
   "execution_count": 2,
   "id": "42976ee6",
   "metadata": {
    "execution": {
     "iopub.execute_input": "2024-10-22T07:09:00.814236Z",
     "iopub.status.busy": "2024-10-22T07:09:00.813639Z",
     "iopub.status.idle": "2024-10-22T07:09:03.690051Z",
     "shell.execute_reply": "2024-10-22T07:09:03.688955Z"
    },
    "papermill": {
     "duration": 2.890626,
     "end_time": "2024-10-22T07:09:03.692866",
     "exception": false,
     "start_time": "2024-10-22T07:09:00.802240",
     "status": "completed"
    },
    "tags": []
   },
   "outputs": [],
   "source": [
    "df_play = pd.read_csv(os.path.join(root_dir, 'data/plays.csv'))\n",
    "df_player_play = pd.read_csv(os.path.join(root_dir,'data/player_play.csv'))\n",
    "df_games = pd.read_csv(os.path.join(root_dir,'data/games.csv'))\n",
    "df_players = pd.read_csv(os.path.join(root_dir,'data/players.csv'))"
   ]
  },
  {
   "cell_type": "code",
   "execution_count": 3,
   "id": "a5fad034",
   "metadata": {
    "execution": {
     "iopub.execute_input": "2024-10-22T07:09:03.779831Z",
     "iopub.status.busy": "2024-10-22T07:09:03.779369Z",
     "iopub.status.idle": "2024-10-22T07:09:03.797189Z",
     "shell.execute_reply": "2024-10-22T07:09:03.795876Z"
    },
    "papermill": {
     "duration": 0.031879,
     "end_time": "2024-10-22T07:09:03.799845",
     "exception": false,
     "start_time": "2024-10-22T07:09:03.767966",
     "status": "completed"
    },
    "tags": []
   },
   "outputs": [
    {
     "data": {
      "text/plain": [
       "Cover-3                 4956\n",
       "Cover-1                 3300\n",
       "Quarters                2073\n",
       "Cover-2                 1852\n",
       "Cover 6-Left             692\n",
       "Cover-6 Right            690\n",
       "Cover-3 Seam             636\n",
       "Cover-0                  605\n",
       "Red Zone                 537\n",
       "2-Man                    186\n",
       "Goal Line                146\n",
       "Bracket                   75\n",
       "Cover-1 Double            54\n",
       "Prevent                   46\n",
       "Cover-3 Cloud Right       31\n",
       "Cover-3 Cloud Left        30\n",
       "Miscellaneous             14\n",
       "Cover-3 Double Cloud       9\n",
       "Name: pff_passCoverage, dtype: int64"
      ]
     },
     "execution_count": 3,
     "metadata": {},
     "output_type": "execute_result"
    }
   ],
   "source": [
    "df_play['pff_passCoverage'].value_counts()"
   ]
  },
  {
   "cell_type": "code",
   "execution_count": 4,
   "id": "d7a0a289",
   "metadata": {
    "execution": {
     "iopub.execute_input": "2024-10-22T07:09:03.823729Z",
     "iopub.status.busy": "2024-10-22T07:09:03.822735Z",
     "iopub.status.idle": "2024-10-22T07:09:03.834660Z",
     "shell.execute_reply": "2024-10-22T07:09:03.833394Z"
    },
    "papermill": {
     "duration": 0.026091,
     "end_time": "2024-10-22T07:09:03.837206",
     "exception": false,
     "start_time": "2024-10-22T07:09:03.811115",
     "status": "completed"
    },
    "tags": []
   },
   "outputs": [
    {
     "data": {
      "text/plain": [
       "Zone     10969\n",
       "Man       4145\n",
       "Other      818\n",
       "Name: pff_manZone, dtype: int64"
      ]
     },
     "execution_count": 4,
     "metadata": {},
     "output_type": "execute_result"
    }
   ],
   "source": [
    "df_play['pff_manZone'].value_counts()"
   ]
  },
  {
   "cell_type": "markdown",
   "id": "78b5f2c5",
   "metadata": {
    "papermill": {
     "duration": 0.010239,
     "end_time": "2024-10-22T07:09:03.858108",
     "exception": false,
     "start_time": "2024-10-22T07:09:03.847869",
     "status": "completed"
    },
    "tags": []
   },
   "source": [
    "# Split out coverages, group\n",
    "\n",
    "Note: we mark cover-3 sub-groups as cover-3, cover-6 as the same, and all else as 'other'"
   ]
  },
  {
   "cell_type": "code",
   "execution_count": 5,
   "id": "f3fdc101",
   "metadata": {
    "execution": {
     "iopub.execute_input": "2024-10-22T07:09:03.881328Z",
     "iopub.status.busy": "2024-10-22T07:09:03.880895Z",
     "iopub.status.idle": "2024-10-22T07:09:03.899960Z",
     "shell.execute_reply": "2024-10-22T07:09:03.898899Z"
    },
    "papermill": {
     "duration": 0.033531,
     "end_time": "2024-10-22T07:09:03.902694",
     "exception": false,
     "start_time": "2024-10-22T07:09:03.869163",
     "status": "completed"
    },
    "tags": []
   },
   "outputs": [],
   "source": [
    "# get play data merged with games data\n",
    "df_condensed = df_play[['gameId','playId','possessionTeam','defensiveTeam']].merge(df_games[['gameId','week']],how='left',on=['gameId'])\n",
    "\n",
    "# one-hot \n",
    "coverage_df = pd.get_dummies(df_play['pff_passCoverage']).astype(int)"
   ]
  },
  {
   "cell_type": "code",
   "execution_count": 6,
   "id": "8f6e5b7a",
   "metadata": {},
   "outputs": [],
   "source": [
    "#df_play[df_play['gameId'] == 2022091808].possessionTeam.unique()\n",
    "#df_play[df_play['gameId'] == 2022091808]['defensiveTeam'].unique()"
   ]
  },
  {
   "cell_type": "markdown",
   "id": "982d1e20",
   "metadata": {},
   "source": [
    "Aggregate variants of Cover-1, -3, and -6, then concat"
   ]
  },
  {
   "cell_type": "code",
   "execution_count": 7,
   "id": "c8ea2e64",
   "metadata": {
    "execution": {
     "iopub.execute_input": "2024-10-22T07:09:04.028890Z",
     "iopub.status.busy": "2024-10-22T07:09:04.028459Z",
     "iopub.status.idle": "2024-10-22T07:09:04.053809Z",
     "shell.execute_reply": "2024-10-22T07:09:04.052614Z"
    },
    "papermill": {
     "duration": 0.040138,
     "end_time": "2024-10-22T07:09:04.056497",
     "exception": false,
     "start_time": "2024-10-22T07:09:04.016359",
     "status": "completed"
    },
    "tags": []
   },
   "outputs": [],
   "source": [
    "cols_c3 = [x for x in coverage_df.columns if 'Cover-3' in x]\n",
    "cols_c1 = [x for x in coverage_df.columns if 'Cover-1' in x]\n",
    "cols_c6 = [x for x in coverage_df.columns if (('Cover-6' in x) or ('Cover 6') in x)]\n",
    "\n",
    "df_condensed['cover_3'] = coverage_df[cols_c3].sum(axis=1).values\n",
    "df_condensed['cover_6'] = coverage_df[cols_c6].sum(axis=1).values\n",
    "df_condensed['cover_1'] = coverage_df[cols_c1].sum(axis=1).values"
   ]
  },
  {
   "cell_type": "code",
   "execution_count": 8,
   "id": "f67d7bf5",
   "metadata": {
    "execution": {
     "iopub.execute_input": "2024-10-22T07:09:04.079642Z",
     "iopub.status.busy": "2024-10-22T07:09:04.079198Z",
     "iopub.status.idle": "2024-10-22T07:09:04.088861Z",
     "shell.execute_reply": "2024-10-22T07:09:04.087050Z"
    },
    "papermill": {
     "duration": 0.024775,
     "end_time": "2024-10-22T07:09:04.092011",
     "exception": false,
     "start_time": "2024-10-22T07:09:04.067236",
     "status": "completed"
    },
    "tags": []
   },
   "outputs": [],
   "source": [
    "df_covered = pd.concat([df_condensed,coverage_df[['Quarters','Cover-2','Cover-0']]],axis=1)"
   ]
  },
  {
   "cell_type": "markdown",
   "id": "dbbd7674",
   "metadata": {},
   "source": [
    "Mark unlabeled coverages as 'other'"
   ]
  },
  {
   "cell_type": "code",
   "execution_count": 9,
   "id": "2b616746",
   "metadata": {
    "execution": {
     "iopub.execute_input": "2024-10-22T07:09:04.193522Z",
     "iopub.status.busy": "2024-10-22T07:09:04.193075Z",
     "iopub.status.idle": "2024-10-22T07:09:04.207140Z",
     "shell.execute_reply": "2024-10-22T07:09:04.205773Z"
    },
    "papermill": {
     "duration": 0.029497,
     "end_time": "2024-10-22T07:09:04.210145",
     "exception": false,
     "start_time": "2024-10-22T07:09:04.180648",
     "status": "completed"
    },
    "tags": []
   },
   "outputs": [],
   "source": [
    "df_covered = pd.concat([df_covered,\n",
    "                        pd.get_dummies(df_play['pff_manZone']).astype(int)],axis=1)\n",
    "                                           "
   ]
  },
  {
   "cell_type": "code",
   "execution_count": 10,
   "id": "1b195f68",
   "metadata": {},
   "outputs": [
    {
     "data": {
      "text/html": [
       "<div>\n",
       "<style scoped>\n",
       "    .dataframe tbody tr th:only-of-type {\n",
       "        vertical-align: middle;\n",
       "    }\n",
       "\n",
       "    .dataframe tbody tr th {\n",
       "        vertical-align: top;\n",
       "    }\n",
       "\n",
       "    .dataframe thead th {\n",
       "        text-align: right;\n",
       "    }\n",
       "</style>\n",
       "<table border=\"1\" class=\"dataframe\">\n",
       "  <thead>\n",
       "    <tr style=\"text-align: right;\">\n",
       "      <th></th>\n",
       "      <th>gameId</th>\n",
       "      <th>playId</th>\n",
       "      <th>possessionTeam</th>\n",
       "      <th>defensiveTeam</th>\n",
       "      <th>week</th>\n",
       "      <th>cover_3</th>\n",
       "      <th>cover_6</th>\n",
       "      <th>cover_1</th>\n",
       "      <th>Quarters</th>\n",
       "      <th>Cover-2</th>\n",
       "      <th>Cover-0</th>\n",
       "      <th>Man</th>\n",
       "      <th>Other</th>\n",
       "      <th>Zone</th>\n",
       "    </tr>\n",
       "  </thead>\n",
       "  <tbody>\n",
       "    <tr>\n",
       "      <th>0</th>\n",
       "      <td>2022102302</td>\n",
       "      <td>2655</td>\n",
       "      <td>CIN</td>\n",
       "      <td>ATL</td>\n",
       "      <td>7</td>\n",
       "      <td>1</td>\n",
       "      <td>0</td>\n",
       "      <td>0</td>\n",
       "      <td>0</td>\n",
       "      <td>0</td>\n",
       "      <td>0</td>\n",
       "      <td>0</td>\n",
       "      <td>0</td>\n",
       "      <td>1</td>\n",
       "    </tr>\n",
       "  </tbody>\n",
       "</table>\n",
       "</div>"
      ],
      "text/plain": [
       "       gameId  playId possessionTeam defensiveTeam  week  cover_3  cover_6  \\\n",
       "0  2022102302    2655            CIN           ATL     7        1        0   \n",
       "\n",
       "   cover_1  Quarters  Cover-2  Cover-0  Man  Other  Zone  \n",
       "0        0         0        0        0    0      0     1  "
      ]
     },
     "execution_count": 10,
     "metadata": {},
     "output_type": "execute_result"
    }
   ],
   "source": [
    "df_covered.head(1)"
   ]
  },
  {
   "cell_type": "markdown",
   "id": "b4c0c625",
   "metadata": {},
   "source": [
    "Define coverages teams faced on offense, vs. ones they employed on defense"
   ]
  },
  {
   "cell_type": "code",
   "execution_count": 11,
   "id": "a3f2aa98",
   "metadata": {
    "execution": {
     "iopub.execute_input": "2024-10-22T07:09:04.277263Z",
     "iopub.status.busy": "2024-10-22T07:09:04.276244Z",
     "iopub.status.idle": "2024-10-22T07:09:04.302578Z",
     "shell.execute_reply": "2024-10-22T07:09:04.301582Z"
    },
    "papermill": {
     "duration": 0.041486,
     "end_time": "2024-10-22T07:09:04.305212",
     "exception": false,
     "start_time": "2024-10-22T07:09:04.263726",
     "status": "completed"
    },
    "tags": []
   },
   "outputs": [],
   "source": [
    "cov_faced = df_covered.drop(columns=['gameId','playId']).groupby(['possessionTeam','week']).sum().reset_index()\n",
    "cov_used  = df_covered.drop(columns=['gameId','playId']).groupby(['defensiveTeam','week']).sum().reset_index()"
   ]
  },
  {
   "cell_type": "code",
   "execution_count": 12,
   "id": "f6dfb595",
   "metadata": {
    "execution": {
     "iopub.execute_input": "2024-10-22T07:09:04.329520Z",
     "iopub.status.busy": "2024-10-22T07:09:04.329082Z",
     "iopub.status.idle": "2024-10-22T07:09:04.342695Z",
     "shell.execute_reply": "2024-10-22T07:09:04.341634Z"
    },
    "papermill": {
     "duration": 0.028392,
     "end_time": "2024-10-22T07:09:04.345077",
     "exception": false,
     "start_time": "2024-10-22T07:09:04.316685",
     "status": "completed"
    },
    "tags": []
   },
   "outputs": [
    {
     "data": {
      "text/html": [
       "<div>\n",
       "<style scoped>\n",
       "    .dataframe tbody tr th:only-of-type {\n",
       "        vertical-align: middle;\n",
       "    }\n",
       "\n",
       "    .dataframe tbody tr th {\n",
       "        vertical-align: top;\n",
       "    }\n",
       "\n",
       "    .dataframe thead th {\n",
       "        text-align: right;\n",
       "    }\n",
       "</style>\n",
       "<table border=\"1\" class=\"dataframe\">\n",
       "  <thead>\n",
       "    <tr style=\"text-align: right;\">\n",
       "      <th></th>\n",
       "      <th>defensiveTeam</th>\n",
       "      <th>week</th>\n",
       "      <th>cover_3</th>\n",
       "      <th>cover_6</th>\n",
       "      <th>cover_1</th>\n",
       "      <th>Quarters</th>\n",
       "      <th>Cover-2</th>\n",
       "      <th>Cover-0</th>\n",
       "      <th>Man</th>\n",
       "      <th>Other</th>\n",
       "      <th>Zone</th>\n",
       "    </tr>\n",
       "  </thead>\n",
       "  <tbody>\n",
       "    <tr>\n",
       "      <th>0</th>\n",
       "      <td>ARI</td>\n",
       "      <td>1</td>\n",
       "      <td>21</td>\n",
       "      <td>2</td>\n",
       "      <td>21</td>\n",
       "      <td>7</td>\n",
       "      <td>4</td>\n",
       "      <td>3</td>\n",
       "      <td>26</td>\n",
       "      <td>4</td>\n",
       "      <td>34</td>\n",
       "    </tr>\n",
       "  </tbody>\n",
       "</table>\n",
       "</div>"
      ],
      "text/plain": [
       "  defensiveTeam  week  cover_3  cover_6  cover_1  Quarters  Cover-2  Cover-0  \\\n",
       "0           ARI     1       21        2       21         7        4        3   \n",
       "\n",
       "   Man  Other  Zone  \n",
       "0   26      4    34  "
      ]
     },
     "execution_count": 12,
     "metadata": {},
     "output_type": "execute_result"
    }
   ],
   "source": [
    "cov_used.head(1)"
   ]
  },
  {
   "cell_type": "markdown",
   "id": "b0cd04ee",
   "metadata": {
    "papermill": {
     "duration": 0.011006,
     "end_time": "2024-10-22T07:09:04.367369",
     "exception": false,
     "start_time": "2024-10-22T07:09:04.356363",
     "status": "completed"
    },
    "tags": []
   },
   "source": [
    "## Aggregate cumulative snap counts\n",
    "\n",
    "Here we get cumulative snap counts (rolling week-to-week) for the coverages each team uses\n",
    "\n",
    "We use a multiindex to account for byes, merging into it, then filling cumulative sum forward\n",
    "\n",
    "CF = coverages faced (offense), CU = coverages used  (defense)\n"
   ]
  },
  {
   "cell_type": "code",
   "execution_count": 13,
   "id": "295ab1ac",
   "metadata": {},
   "outputs": [],
   "source": [
    "# Define cartesian product\n",
    "off_ind = pd.DataFrame(index=pd.MultiIndex.from_product([range(1,10),cov_faced.possessionTeam.unique()])).reset_index().rename(columns={'level_0':'week','level_1':'possessionTeam'})\n",
    "def_ind = pd.DataFrame(index=pd.MultiIndex.from_product([range(1,10),cov_used.defensiveTeam.unique()])).reset_index().rename(columns={'level_0':'week','level_1':'defensiveTeam'})"
   ]
  },
  {
   "cell_type": "code",
   "execution_count": 14,
   "id": "32b5f080",
   "metadata": {
    "execution": {
     "iopub.execute_input": "2024-10-22T07:09:04.392435Z",
     "iopub.status.busy": "2024-10-22T07:09:04.391358Z",
     "iopub.status.idle": "2024-10-22T07:09:04.400935Z",
     "shell.execute_reply": "2024-10-22T07:09:04.399837Z"
    },
    "papermill": {
     "duration": 0.024893,
     "end_time": "2024-10-22T07:09:04.403473",
     "exception": false,
     "start_time": "2024-10-22T07:09:04.378580",
     "status": "completed"
    },
    "tags": []
   },
   "outputs": [],
   "source": [
    "# Get cumulative sums for weeks we do have\n",
    "df_cum_cf = pd.concat([cov_faced[['possessionTeam','week']], \n",
    "                       cov_faced.groupby('possessionTeam').cumsum().drop(columns=['week'])],axis=1)\n",
    "                       \n",
    "df_cum_cu = pd.concat([cov_used[['defensiveTeam','week']], \n",
    "                       cov_used.groupby('defensiveTeam').cumsum().drop(columns=['week'])],axis=1)"
   ]
  },
  {
   "cell_type": "markdown",
   "id": "f91a9c9d",
   "metadata": {},
   "source": [
    "### Get defensive coverages used\n",
    "\n",
    "We merge into the cartesian product of weeks + teams s.t. team bye week data is filled forward \n",
    "\n",
    "This is mainly so byes dont trip up backward-looking merges (due to +1 week shift)"
   ]
  },
  {
   "cell_type": "code",
   "execution_count": 15,
   "id": "fcb420e1",
   "metadata": {},
   "outputs": [
    {
     "data": {
      "text/html": [
       "<div>\n",
       "<style scoped>\n",
       "    .dataframe tbody tr th:only-of-type {\n",
       "        vertical-align: middle;\n",
       "    }\n",
       "\n",
       "    .dataframe tbody tr th {\n",
       "        vertical-align: top;\n",
       "    }\n",
       "\n",
       "    .dataframe thead th {\n",
       "        text-align: right;\n",
       "    }\n",
       "</style>\n",
       "<table border=\"1\" class=\"dataframe\">\n",
       "  <thead>\n",
       "    <tr style=\"text-align: right;\">\n",
       "      <th></th>\n",
       "      <th>defensiveTeam</th>\n",
       "      <th>week</th>\n",
       "      <th>cover_3</th>\n",
       "      <th>cover_6</th>\n",
       "      <th>cover_1</th>\n",
       "      <th>Quarters</th>\n",
       "      <th>Cover-2</th>\n",
       "      <th>Cover-0</th>\n",
       "      <th>Man</th>\n",
       "      <th>Other</th>\n",
       "      <th>Zone</th>\n",
       "    </tr>\n",
       "  </thead>\n",
       "  <tbody>\n",
       "    <tr>\n",
       "      <th>0</th>\n",
       "      <td>ARI</td>\n",
       "      <td>1</td>\n",
       "      <td>21</td>\n",
       "      <td>2</td>\n",
       "      <td>21</td>\n",
       "      <td>7</td>\n",
       "      <td>4</td>\n",
       "      <td>3</td>\n",
       "      <td>26</td>\n",
       "      <td>4</td>\n",
       "      <td>34</td>\n",
       "    </tr>\n",
       "    <tr>\n",
       "      <th>1</th>\n",
       "      <td>ARI</td>\n",
       "      <td>2</td>\n",
       "      <td>35</td>\n",
       "      <td>14</td>\n",
       "      <td>32</td>\n",
       "      <td>16</td>\n",
       "      <td>14</td>\n",
       "      <td>4</td>\n",
       "      <td>39</td>\n",
       "      <td>6</td>\n",
       "      <td>79</td>\n",
       "    </tr>\n",
       "  </tbody>\n",
       "</table>\n",
       "</div>"
      ],
      "text/plain": [
       "  defensiveTeam  week  cover_3  cover_6  cover_1  Quarters  Cover-2  Cover-0  \\\n",
       "0           ARI     1       21        2       21         7        4        3   \n",
       "1           ARI     2       35       14       32        16       14        4   \n",
       "\n",
       "   Man  Other  Zone  \n",
       "0   26      4    34  \n",
       "1   39      6    79  "
      ]
     },
     "execution_count": 15,
     "metadata": {},
     "output_type": "execute_result"
    }
   ],
   "source": [
    "df_cum_cu.head(2)"
   ]
  },
  {
   "cell_type": "code",
   "execution_count": 16,
   "id": "950e80aa",
   "metadata": {},
   "outputs": [],
   "source": [
    "dm = def_ind.merge(df_cum_cu,how='left',on=['week','defensiveTeam']).reset_index(drop=True)"
   ]
  },
  {
   "cell_type": "markdown",
   "id": "7aabd112",
   "metadata": {},
   "source": [
    "We add ~17 rows of data absent due to byes, etc."
   ]
  },
  {
   "cell_type": "code",
   "execution_count": 17,
   "id": "ecdc55d8",
   "metadata": {},
   "outputs": [
    {
     "data": {
      "text/plain": [
       "17"
      ]
     },
     "execution_count": 17,
     "metadata": {},
     "output_type": "execute_result"
    }
   ],
   "source": [
    "len(dm) - len(df_cum_cu)"
   ]
  },
  {
   "cell_type": "markdown",
   "id": "c8d2d77f",
   "metadata": {},
   "source": [
    "Note Vegas example of week 6 bye, which we will fill forward for backward-looking references"
   ]
  },
  {
   "cell_type": "code",
   "execution_count": 18,
   "id": "5f567b1b",
   "metadata": {},
   "outputs": [
    {
     "data": {
      "text/html": [
       "<div>\n",
       "<style scoped>\n",
       "    .dataframe tbody tr th:only-of-type {\n",
       "        vertical-align: middle;\n",
       "    }\n",
       "\n",
       "    .dataframe tbody tr th {\n",
       "        vertical-align: top;\n",
       "    }\n",
       "\n",
       "    .dataframe thead th {\n",
       "        text-align: right;\n",
       "    }\n",
       "</style>\n",
       "<table border=\"1\" class=\"dataframe\">\n",
       "  <thead>\n",
       "    <tr style=\"text-align: right;\">\n",
       "      <th></th>\n",
       "      <th>week</th>\n",
       "      <th>defensiveTeam</th>\n",
       "      <th>cover_3</th>\n",
       "      <th>cover_6</th>\n",
       "      <th>cover_1</th>\n",
       "      <th>Quarters</th>\n",
       "      <th>Cover-2</th>\n",
       "      <th>Cover-0</th>\n",
       "      <th>Man</th>\n",
       "      <th>Other</th>\n",
       "      <th>Zone</th>\n",
       "    </tr>\n",
       "  </thead>\n",
       "  <tbody>\n",
       "    <tr>\n",
       "      <th>146</th>\n",
       "      <td>5</td>\n",
       "      <td>LV</td>\n",
       "      <td>77.0</td>\n",
       "      <td>19.0</td>\n",
       "      <td>75.0</td>\n",
       "      <td>33.0</td>\n",
       "      <td>55.0</td>\n",
       "      <td>24.0</td>\n",
       "      <td>101.0</td>\n",
       "      <td>13.0</td>\n",
       "      <td>184.0</td>\n",
       "    </tr>\n",
       "    <tr>\n",
       "      <th>178</th>\n",
       "      <td>6</td>\n",
       "      <td>LV</td>\n",
       "      <td>NaN</td>\n",
       "      <td>NaN</td>\n",
       "      <td>NaN</td>\n",
       "      <td>NaN</td>\n",
       "      <td>NaN</td>\n",
       "      <td>NaN</td>\n",
       "      <td>NaN</td>\n",
       "      <td>NaN</td>\n",
       "      <td>NaN</td>\n",
       "    </tr>\n",
       "    <tr>\n",
       "      <th>210</th>\n",
       "      <td>7</td>\n",
       "      <td>LV</td>\n",
       "      <td>99.0</td>\n",
       "      <td>21.0</td>\n",
       "      <td>89.0</td>\n",
       "      <td>51.0</td>\n",
       "      <td>63.0</td>\n",
       "      <td>24.0</td>\n",
       "      <td>115.0</td>\n",
       "      <td>13.0</td>\n",
       "      <td>234.0</td>\n",
       "    </tr>\n",
       "  </tbody>\n",
       "</table>\n",
       "</div>"
      ],
      "text/plain": [
       "     week defensiveTeam  cover_3  cover_6  cover_1  Quarters  Cover-2  \\\n",
       "146     5            LV     77.0     19.0     75.0      33.0     55.0   \n",
       "178     6            LV      NaN      NaN      NaN       NaN      NaN   \n",
       "210     7            LV     99.0     21.0     89.0      51.0     63.0   \n",
       "\n",
       "     Cover-0    Man  Other   Zone  \n",
       "146     24.0  101.0   13.0  184.0  \n",
       "178      NaN    NaN    NaN    NaN  \n",
       "210     24.0  115.0   13.0  234.0  "
      ]
     },
     "execution_count": 18,
     "metadata": {},
     "output_type": "execute_result"
    }
   ],
   "source": [
    "dm[(dm['defensiveTeam'] == 'LV') &((dm['week'] >4) & (dm['week'] <8))]"
   ]
  },
  {
   "cell_type": "code",
   "execution_count": 19,
   "id": "1587ceac",
   "metadata": {},
   "outputs": [],
   "source": [
    "# forward fill within each team\n",
    "dmg = dm.groupby(['defensiveTeam']).ffill().reset_index(drop=True)\n",
    "dmg['defensiveTeam'] = dm['defensiveTeam']"
   ]
  },
  {
   "cell_type": "markdown",
   "id": "06172d9d",
   "metadata": {},
   "source": [
    "Voilà:"
   ]
  },
  {
   "cell_type": "code",
   "execution_count": 20,
   "id": "468da152",
   "metadata": {},
   "outputs": [
    {
     "data": {
      "text/html": [
       "<div>\n",
       "<style scoped>\n",
       "    .dataframe tbody tr th:only-of-type {\n",
       "        vertical-align: middle;\n",
       "    }\n",
       "\n",
       "    .dataframe tbody tr th {\n",
       "        vertical-align: top;\n",
       "    }\n",
       "\n",
       "    .dataframe thead th {\n",
       "        text-align: right;\n",
       "    }\n",
       "</style>\n",
       "<table border=\"1\" class=\"dataframe\">\n",
       "  <thead>\n",
       "    <tr style=\"text-align: right;\">\n",
       "      <th></th>\n",
       "      <th>week</th>\n",
       "      <th>cover_3</th>\n",
       "      <th>cover_6</th>\n",
       "      <th>cover_1</th>\n",
       "      <th>Quarters</th>\n",
       "      <th>Cover-2</th>\n",
       "      <th>Cover-0</th>\n",
       "      <th>Man</th>\n",
       "      <th>Other</th>\n",
       "      <th>Zone</th>\n",
       "      <th>defensiveTeam</th>\n",
       "    </tr>\n",
       "  </thead>\n",
       "  <tbody>\n",
       "    <tr>\n",
       "      <th>146</th>\n",
       "      <td>5</td>\n",
       "      <td>77.0</td>\n",
       "      <td>19.0</td>\n",
       "      <td>75.0</td>\n",
       "      <td>33.0</td>\n",
       "      <td>55.0</td>\n",
       "      <td>24.0</td>\n",
       "      <td>101.0</td>\n",
       "      <td>13.0</td>\n",
       "      <td>184.0</td>\n",
       "      <td>LV</td>\n",
       "    </tr>\n",
       "    <tr>\n",
       "      <th>178</th>\n",
       "      <td>6</td>\n",
       "      <td>77.0</td>\n",
       "      <td>19.0</td>\n",
       "      <td>75.0</td>\n",
       "      <td>33.0</td>\n",
       "      <td>55.0</td>\n",
       "      <td>24.0</td>\n",
       "      <td>101.0</td>\n",
       "      <td>13.0</td>\n",
       "      <td>184.0</td>\n",
       "      <td>LV</td>\n",
       "    </tr>\n",
       "    <tr>\n",
       "      <th>210</th>\n",
       "      <td>7</td>\n",
       "      <td>99.0</td>\n",
       "      <td>21.0</td>\n",
       "      <td>89.0</td>\n",
       "      <td>51.0</td>\n",
       "      <td>63.0</td>\n",
       "      <td>24.0</td>\n",
       "      <td>115.0</td>\n",
       "      <td>13.0</td>\n",
       "      <td>234.0</td>\n",
       "      <td>LV</td>\n",
       "    </tr>\n",
       "  </tbody>\n",
       "</table>\n",
       "</div>"
      ],
      "text/plain": [
       "     week  cover_3  cover_6  cover_1  Quarters  Cover-2  Cover-0    Man  \\\n",
       "146     5     77.0     19.0     75.0      33.0     55.0     24.0  101.0   \n",
       "178     6     77.0     19.0     75.0      33.0     55.0     24.0  101.0   \n",
       "210     7     99.0     21.0     89.0      51.0     63.0     24.0  115.0   \n",
       "\n",
       "     Other   Zone defensiveTeam  \n",
       "146   13.0  184.0            LV  \n",
       "178   13.0  184.0            LV  \n",
       "210   13.0  234.0            LV  "
      ]
     },
     "execution_count": 20,
     "metadata": {},
     "output_type": "execute_result"
    }
   ],
   "source": [
    "dmg[(dmg['defensiveTeam'] == 'LV') &((dmg['week'] >4) & (dmg['week'] <8))]"
   ]
  },
  {
   "cell_type": "markdown",
   "id": "a77c075e",
   "metadata": {},
   "source": [
    "### Get offensive coverages used\n",
    "\n",
    "Repeate process for offense"
   ]
  },
  {
   "cell_type": "code",
   "execution_count": 21,
   "id": "d6de5323",
   "metadata": {},
   "outputs": [],
   "source": [
    "om = off_ind.merge(df_cum_cf,how='left',on=['week','possessionTeam']).reset_index(drop=True)"
   ]
  },
  {
   "cell_type": "code",
   "execution_count": 22,
   "id": "c1b10d31",
   "metadata": {},
   "outputs": [],
   "source": [
    "# forward fill within each team\n",
    "omg = om.groupby(['possessionTeam']).ffill().reset_index(drop=True)\n",
    "omg['possessionTeam'] = om['possessionTeam']"
   ]
  },
  {
   "cell_type": "markdown",
   "id": "07f7c1e2",
   "metadata": {},
   "source": [
    "### Upshift week\n",
    "\n",
    "S.t. week one merges into week two (lookback)"
   ]
  },
  {
   "cell_type": "code",
   "execution_count": 23,
   "id": "b506b264",
   "metadata": {
    "execution": {
     "iopub.execute_input": "2024-10-22T07:09:04.464320Z",
     "iopub.status.busy": "2024-10-22T07:09:04.463910Z",
     "iopub.status.idle": "2024-10-22T07:09:04.480306Z",
     "shell.execute_reply": "2024-10-22T07:09:04.479189Z"
    },
    "papermill": {
     "duration": 0.031735,
     "end_time": "2024-10-22T07:09:04.482718",
     "exception": false,
     "start_time": "2024-10-22T07:09:04.450983",
     "status": "completed"
    },
    "tags": []
   },
   "outputs": [
    {
     "data": {
      "text/html": [
       "<div>\n",
       "<style scoped>\n",
       "    .dataframe tbody tr th:only-of-type {\n",
       "        vertical-align: middle;\n",
       "    }\n",
       "\n",
       "    .dataframe tbody tr th {\n",
       "        vertical-align: top;\n",
       "    }\n",
       "\n",
       "    .dataframe thead th {\n",
       "        text-align: right;\n",
       "    }\n",
       "</style>\n",
       "<table border=\"1\" class=\"dataframe\">\n",
       "  <thead>\n",
       "    <tr style=\"text-align: right;\">\n",
       "      <th></th>\n",
       "      <th>week</th>\n",
       "      <th>cover_3</th>\n",
       "      <th>cover_6</th>\n",
       "      <th>cover_1</th>\n",
       "      <th>Quarters</th>\n",
       "      <th>Cover-2</th>\n",
       "      <th>Cover-0</th>\n",
       "      <th>Man</th>\n",
       "      <th>Other</th>\n",
       "      <th>Zone</th>\n",
       "      <th>possessionTeam</th>\n",
       "    </tr>\n",
       "  </thead>\n",
       "  <tbody>\n",
       "    <tr>\n",
       "      <th>0</th>\n",
       "      <td>2</td>\n",
       "      <td>8.0</td>\n",
       "      <td>3.0</td>\n",
       "      <td>11.0</td>\n",
       "      <td>16.0</td>\n",
       "      <td>14.0</td>\n",
       "      <td>2.0</td>\n",
       "      <td>13.0</td>\n",
       "      <td>3.0</td>\n",
       "      <td>41.0</td>\n",
       "      <td>ARI</td>\n",
       "    </tr>\n",
       "    <tr>\n",
       "      <th>1</th>\n",
       "      <td>2</td>\n",
       "      <td>17.0</td>\n",
       "      <td>2.0</td>\n",
       "      <td>10.0</td>\n",
       "      <td>21.0</td>\n",
       "      <td>14.0</td>\n",
       "      <td>0.0</td>\n",
       "      <td>11.0</td>\n",
       "      <td>3.0</td>\n",
       "      <td>54.0</td>\n",
       "      <td>ATL</td>\n",
       "    </tr>\n",
       "    <tr>\n",
       "      <th>2</th>\n",
       "      <td>2</td>\n",
       "      <td>23.0</td>\n",
       "      <td>2.0</td>\n",
       "      <td>6.0</td>\n",
       "      <td>15.0</td>\n",
       "      <td>1.0</td>\n",
       "      <td>1.0</td>\n",
       "      <td>7.0</td>\n",
       "      <td>0.0</td>\n",
       "      <td>41.0</td>\n",
       "      <td>BAL</td>\n",
       "    </tr>\n",
       "  </tbody>\n",
       "</table>\n",
       "</div>"
      ],
      "text/plain": [
       "   week  cover_3  cover_6  cover_1  Quarters  Cover-2  Cover-0   Man  Other  \\\n",
       "0     2      8.0      3.0     11.0      16.0     14.0      2.0  13.0    3.0   \n",
       "1     2     17.0      2.0     10.0      21.0     14.0      0.0  11.0    3.0   \n",
       "2     2     23.0      2.0      6.0      15.0      1.0      1.0   7.0    0.0   \n",
       "\n",
       "   Zone possessionTeam  \n",
       "0  41.0            ARI  \n",
       "1  54.0            ATL  \n",
       "2  41.0            BAL  "
      ]
     },
     "execution_count": 23,
     "metadata": {},
     "output_type": "execute_result"
    }
   ],
   "source": [
    "omg['week']+=1\n",
    "omg.head(3)"
   ]
  },
  {
   "cell_type": "code",
   "execution_count": 24,
   "id": "b34c4854",
   "metadata": {
    "execution": {
     "iopub.execute_input": "2024-10-22T07:09:04.507685Z",
     "iopub.status.busy": "2024-10-22T07:09:04.507207Z",
     "iopub.status.idle": "2024-10-22T07:09:04.522257Z",
     "shell.execute_reply": "2024-10-22T07:09:04.521080Z"
    },
    "papermill": {
     "duration": 0.03042,
     "end_time": "2024-10-22T07:09:04.524755",
     "exception": false,
     "start_time": "2024-10-22T07:09:04.494335",
     "status": "completed"
    },
    "tags": []
   },
   "outputs": [
    {
     "data": {
      "text/html": [
       "<div>\n",
       "<style scoped>\n",
       "    .dataframe tbody tr th:only-of-type {\n",
       "        vertical-align: middle;\n",
       "    }\n",
       "\n",
       "    .dataframe tbody tr th {\n",
       "        vertical-align: top;\n",
       "    }\n",
       "\n",
       "    .dataframe thead th {\n",
       "        text-align: right;\n",
       "    }\n",
       "</style>\n",
       "<table border=\"1\" class=\"dataframe\">\n",
       "  <thead>\n",
       "    <tr style=\"text-align: right;\">\n",
       "      <th></th>\n",
       "      <th>week</th>\n",
       "      <th>cover_3</th>\n",
       "      <th>cover_6</th>\n",
       "      <th>cover_1</th>\n",
       "      <th>Quarters</th>\n",
       "      <th>Cover-2</th>\n",
       "      <th>Cover-0</th>\n",
       "      <th>Man</th>\n",
       "      <th>Other</th>\n",
       "      <th>Zone</th>\n",
       "      <th>defensiveTeam</th>\n",
       "    </tr>\n",
       "  </thead>\n",
       "  <tbody>\n",
       "    <tr>\n",
       "      <th>0</th>\n",
       "      <td>2</td>\n",
       "      <td>21.0</td>\n",
       "      <td>2.0</td>\n",
       "      <td>21.0</td>\n",
       "      <td>7.0</td>\n",
       "      <td>4.0</td>\n",
       "      <td>3.0</td>\n",
       "      <td>26.0</td>\n",
       "      <td>4.0</td>\n",
       "      <td>34.0</td>\n",
       "      <td>ARI</td>\n",
       "    </tr>\n",
       "    <tr>\n",
       "      <th>1</th>\n",
       "      <td>2</td>\n",
       "      <td>16.0</td>\n",
       "      <td>1.0</td>\n",
       "      <td>13.0</td>\n",
       "      <td>3.0</td>\n",
       "      <td>15.0</td>\n",
       "      <td>2.0</td>\n",
       "      <td>16.0</td>\n",
       "      <td>3.0</td>\n",
       "      <td>35.0</td>\n",
       "      <td>ATL</td>\n",
       "    </tr>\n",
       "    <tr>\n",
       "      <th>2</th>\n",
       "      <td>2</td>\n",
       "      <td>26.0</td>\n",
       "      <td>3.0</td>\n",
       "      <td>10.0</td>\n",
       "      <td>15.0</td>\n",
       "      <td>8.0</td>\n",
       "      <td>3.0</td>\n",
       "      <td>13.0</td>\n",
       "      <td>7.0</td>\n",
       "      <td>52.0</td>\n",
       "      <td>BAL</td>\n",
       "    </tr>\n",
       "  </tbody>\n",
       "</table>\n",
       "</div>"
      ],
      "text/plain": [
       "   week  cover_3  cover_6  cover_1  Quarters  Cover-2  Cover-0   Man  Other  \\\n",
       "0     2     21.0      2.0     21.0       7.0      4.0      3.0  26.0    4.0   \n",
       "1     2     16.0      1.0     13.0       3.0     15.0      2.0  16.0    3.0   \n",
       "2     2     26.0      3.0     10.0      15.0      8.0      3.0  13.0    7.0   \n",
       "\n",
       "   Zone defensiveTeam  \n",
       "0  34.0           ARI  \n",
       "1  35.0           ATL  \n",
       "2  52.0           BAL  "
      ]
     },
     "execution_count": 24,
     "metadata": {},
     "output_type": "execute_result"
    }
   ],
   "source": [
    "dmg['week']+=1\n",
    "dmg.head(3)"
   ]
  },
  {
   "cell_type": "code",
   "execution_count": 25,
   "id": "f42b7f96",
   "metadata": {
    "execution": {
     "iopub.execute_input": "2024-10-22T07:09:04.550336Z",
     "iopub.status.busy": "2024-10-22T07:09:04.549939Z",
     "iopub.status.idle": "2024-10-22T07:09:04.556353Z",
     "shell.execute_reply": "2024-10-22T07:09:04.555223Z"
    },
    "papermill": {
     "duration": 0.022331,
     "end_time": "2024-10-22T07:09:04.559036",
     "exception": false,
     "start_time": "2024-10-22T07:09:04.536705",
     "status": "completed"
    },
    "tags": []
   },
   "outputs": [],
   "source": [
    "dmg.columns = ['week']+[x+'_def' for x in dmg.columns[1:-1]]+['defensiveTeam']"
   ]
  },
  {
   "cell_type": "code",
   "execution_count": 26,
   "id": "38c34b81",
   "metadata": {
    "execution": {
     "iopub.execute_input": "2024-10-22T07:09:04.585630Z",
     "iopub.status.busy": "2024-10-22T07:09:04.584768Z",
     "iopub.status.idle": "2024-10-22T07:09:04.598921Z",
     "shell.execute_reply": "2024-10-22T07:09:04.597826Z"
    },
    "papermill": {
     "duration": 0.030628,
     "end_time": "2024-10-22T07:09:04.601491",
     "exception": false,
     "start_time": "2024-10-22T07:09:04.570863",
     "status": "completed"
    },
    "tags": []
   },
   "outputs": [
    {
     "data": {
      "text/html": [
       "<div>\n",
       "<style scoped>\n",
       "    .dataframe tbody tr th:only-of-type {\n",
       "        vertical-align: middle;\n",
       "    }\n",
       "\n",
       "    .dataframe tbody tr th {\n",
       "        vertical-align: top;\n",
       "    }\n",
       "\n",
       "    .dataframe thead th {\n",
       "        text-align: right;\n",
       "    }\n",
       "</style>\n",
       "<table border=\"1\" class=\"dataframe\">\n",
       "  <thead>\n",
       "    <tr style=\"text-align: right;\">\n",
       "      <th></th>\n",
       "      <th>week</th>\n",
       "      <th>cover_3_def</th>\n",
       "      <th>cover_6_def</th>\n",
       "      <th>cover_1_def</th>\n",
       "      <th>Quarters_def</th>\n",
       "      <th>Cover-2_def</th>\n",
       "      <th>Cover-0_def</th>\n",
       "      <th>Man_def</th>\n",
       "      <th>Other_def</th>\n",
       "      <th>Zone_def</th>\n",
       "      <th>defensiveTeam</th>\n",
       "    </tr>\n",
       "  </thead>\n",
       "  <tbody>\n",
       "    <tr>\n",
       "      <th>0</th>\n",
       "      <td>2</td>\n",
       "      <td>21.0</td>\n",
       "      <td>2.0</td>\n",
       "      <td>21.0</td>\n",
       "      <td>7.0</td>\n",
       "      <td>4.0</td>\n",
       "      <td>3.0</td>\n",
       "      <td>26.0</td>\n",
       "      <td>4.0</td>\n",
       "      <td>34.0</td>\n",
       "      <td>ARI</td>\n",
       "    </tr>\n",
       "    <tr>\n",
       "      <th>1</th>\n",
       "      <td>2</td>\n",
       "      <td>16.0</td>\n",
       "      <td>1.0</td>\n",
       "      <td>13.0</td>\n",
       "      <td>3.0</td>\n",
       "      <td>15.0</td>\n",
       "      <td>2.0</td>\n",
       "      <td>16.0</td>\n",
       "      <td>3.0</td>\n",
       "      <td>35.0</td>\n",
       "      <td>ATL</td>\n",
       "    </tr>\n",
       "    <tr>\n",
       "      <th>2</th>\n",
       "      <td>2</td>\n",
       "      <td>26.0</td>\n",
       "      <td>3.0</td>\n",
       "      <td>10.0</td>\n",
       "      <td>15.0</td>\n",
       "      <td>8.0</td>\n",
       "      <td>3.0</td>\n",
       "      <td>13.0</td>\n",
       "      <td>7.0</td>\n",
       "      <td>52.0</td>\n",
       "      <td>BAL</td>\n",
       "    </tr>\n",
       "  </tbody>\n",
       "</table>\n",
       "</div>"
      ],
      "text/plain": [
       "   week  cover_3_def  cover_6_def  cover_1_def  Quarters_def  Cover-2_def  \\\n",
       "0     2         21.0          2.0         21.0           7.0          4.0   \n",
       "1     2         16.0          1.0         13.0           3.0         15.0   \n",
       "2     2         26.0          3.0         10.0          15.0          8.0   \n",
       "\n",
       "   Cover-0_def  Man_def  Other_def  Zone_def defensiveTeam  \n",
       "0          3.0     26.0        4.0      34.0           ARI  \n",
       "1          2.0     16.0        3.0      35.0           ATL  \n",
       "2          3.0     13.0        7.0      52.0           BAL  "
      ]
     },
     "execution_count": 26,
     "metadata": {},
     "output_type": "execute_result"
    }
   ],
   "source": [
    "dmg.head(3)"
   ]
  },
  {
   "cell_type": "code",
   "execution_count": 27,
   "id": "e746f030",
   "metadata": {
    "execution": {
     "iopub.execute_input": "2024-10-22T07:09:04.628224Z",
     "iopub.status.busy": "2024-10-22T07:09:04.627432Z",
     "iopub.status.idle": "2024-10-22T07:09:04.633355Z",
     "shell.execute_reply": "2024-10-22T07:09:04.632161Z"
    },
    "papermill": {
     "duration": 0.022074,
     "end_time": "2024-10-22T07:09:04.635989",
     "exception": false,
     "start_time": "2024-10-22T07:09:04.613915",
     "status": "completed"
    },
    "tags": []
   },
   "outputs": [],
   "source": [
    "omg.columns = ['week']+[x+'_off' for x in omg.columns[1:-1]]+['possessionTeam']"
   ]
  },
  {
   "cell_type": "code",
   "execution_count": 28,
   "id": "9d4aeab0",
   "metadata": {
    "execution": {
     "iopub.execute_input": "2024-10-22T07:09:04.662620Z",
     "iopub.status.busy": "2024-10-22T07:09:04.662186Z",
     "iopub.status.idle": "2024-10-22T07:09:04.677259Z",
     "shell.execute_reply": "2024-10-22T07:09:04.676028Z"
    },
    "papermill": {
     "duration": 0.030879,
     "end_time": "2024-10-22T07:09:04.679704",
     "exception": false,
     "start_time": "2024-10-22T07:09:04.648825",
     "status": "completed"
    },
    "tags": []
   },
   "outputs": [
    {
     "data": {
      "text/html": [
       "<div>\n",
       "<style scoped>\n",
       "    .dataframe tbody tr th:only-of-type {\n",
       "        vertical-align: middle;\n",
       "    }\n",
       "\n",
       "    .dataframe tbody tr th {\n",
       "        vertical-align: top;\n",
       "    }\n",
       "\n",
       "    .dataframe thead th {\n",
       "        text-align: right;\n",
       "    }\n",
       "</style>\n",
       "<table border=\"1\" class=\"dataframe\">\n",
       "  <thead>\n",
       "    <tr style=\"text-align: right;\">\n",
       "      <th></th>\n",
       "      <th>week</th>\n",
       "      <th>cover_3_off</th>\n",
       "      <th>cover_6_off</th>\n",
       "      <th>cover_1_off</th>\n",
       "      <th>Quarters_off</th>\n",
       "      <th>Cover-2_off</th>\n",
       "      <th>Cover-0_off</th>\n",
       "      <th>Man_off</th>\n",
       "      <th>Other_off</th>\n",
       "      <th>Zone_off</th>\n",
       "      <th>possessionTeam</th>\n",
       "    </tr>\n",
       "  </thead>\n",
       "  <tbody>\n",
       "    <tr>\n",
       "      <th>0</th>\n",
       "      <td>2</td>\n",
       "      <td>8.0</td>\n",
       "      <td>3.0</td>\n",
       "      <td>11.0</td>\n",
       "      <td>16.0</td>\n",
       "      <td>14.0</td>\n",
       "      <td>2.0</td>\n",
       "      <td>13.0</td>\n",
       "      <td>3.0</td>\n",
       "      <td>41.0</td>\n",
       "      <td>ARI</td>\n",
       "    </tr>\n",
       "  </tbody>\n",
       "</table>\n",
       "</div>"
      ],
      "text/plain": [
       "   week  cover_3_off  cover_6_off  cover_1_off  Quarters_off  Cover-2_off  \\\n",
       "0     2          8.0          3.0         11.0          16.0         14.0   \n",
       "\n",
       "   Cover-0_off  Man_off  Other_off  Zone_off possessionTeam  \n",
       "0          2.0     13.0        3.0      41.0            ARI  "
      ]
     },
     "execution_count": 28,
     "metadata": {},
     "output_type": "execute_result"
    }
   ],
   "source": [
    "omg.head(1)"
   ]
  },
  {
   "cell_type": "code",
   "execution_count": 29,
   "id": "a112cf8c",
   "metadata": {
    "execution": {
     "iopub.execute_input": "2024-10-22T07:09:04.706241Z",
     "iopub.status.busy": "2024-10-22T07:09:04.705794Z",
     "iopub.status.idle": "2024-10-22T07:09:04.715716Z",
     "shell.execute_reply": "2024-10-22T07:09:04.714528Z"
    },
    "papermill": {
     "duration": 0.026305,
     "end_time": "2024-10-22T07:09:04.718349",
     "exception": false,
     "start_time": "2024-10-22T07:09:04.692044",
     "status": "completed"
    },
    "tags": []
   },
   "outputs": [],
   "source": [
    "#omg.to_csv('data/coverages_faced.csv',index=False)"
   ]
  },
  {
   "cell_type": "code",
   "execution_count": 30,
   "id": "9db7e7e3",
   "metadata": {
    "execution": {
     "iopub.execute_input": "2024-10-22T07:09:04.745015Z",
     "iopub.status.busy": "2024-10-22T07:09:04.744547Z",
     "iopub.status.idle": "2024-10-22T07:09:04.753961Z",
     "shell.execute_reply": "2024-10-22T07:09:04.752586Z"
    },
    "papermill": {
     "duration": 0.026044,
     "end_time": "2024-10-22T07:09:04.756911",
     "exception": false,
     "start_time": "2024-10-22T07:09:04.730867",
     "status": "completed"
    },
    "tags": []
   },
   "outputs": [],
   "source": [
    "#dmg.to_csv('data/coverages_used.csv',index=False)"
   ]
  },
  {
   "cell_type": "code",
   "execution_count": null,
   "id": "da86f1a7",
   "metadata": {
    "papermill": {
     "duration": 0.011983,
     "end_time": "2024-10-22T07:09:04.781522",
     "exception": false,
     "start_time": "2024-10-22T07:09:04.769539",
     "status": "completed"
    },
    "tags": []
   },
   "outputs": [],
   "source": []
  }
 ],
 "metadata": {
  "kaggle": {
   "accelerator": "none",
   "dataSources": [
    {
     "databundleVersionId": 9816926,
     "sourceId": 84175,
     "sourceType": "competition"
    }
   ],
   "dockerImageVersionId": 30786,
   "isGpuEnabled": false,
   "isInternetEnabled": true,
   "language": "python",
   "sourceType": "notebook"
  },
  "kernelspec": {
   "display_name": ".venv",
   "language": "python",
   "name": "python3"
  },
  "language_info": {
   "codemirror_mode": {
    "name": "ipython",
    "version": 3
   },
   "file_extension": ".py",
   "mimetype": "text/x-python",
   "name": "python",
   "nbconvert_exporter": "python",
   "pygments_lexer": "ipython3",
   "version": "3.9.15"
  },
  "papermill": {
   "default_parameters": {},
   "duration": 8.540841,
   "end_time": "2024-10-22T07:09:05.315899",
   "environment_variables": {},
   "exception": null,
   "input_path": "__notebook__.ipynb",
   "output_path": "__notebook__.ipynb",
   "parameters": {},
   "start_time": "2024-10-22T07:08:56.775058",
   "version": "2.6.0"
  }
 },
 "nbformat": 4,
 "nbformat_minor": 5
}
