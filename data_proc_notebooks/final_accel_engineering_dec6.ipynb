{
 "cells": [
  {
   "cell_type": "markdown",
   "metadata": {},
   "source": [
    "# Further Motion/Distance Analysis\n",
    "\n",
    "We diver further into our motion analysis by exploring distance-related aspects of our tracking data\n",
    "\n",
    "\n"
   ]
  },
  {
   "cell_type": "code",
   "execution_count": 3,
   "metadata": {},
   "outputs": [],
   "source": [
    "import os\n",
    "import pandas as pd\n",
    "import sys\n",
    "sys.path.append('../')\n",
    "\n",
    "from data_loading import load_tracking_data"
   ]
  },
  {
   "cell_type": "code",
   "execution_count": null,
   "metadata": {},
   "outputs": [],
   "source": [
    "# load tracking data for all weeks\n",
    "root_dir = os.path.split(os.getcwd())[0]\n",
    "tracking_fname_list = [os.path.join(root_dir,  f\"data/tracking_week_{i}.csv\") for i in range(1,10)]\n",
    "write_track = False #change if you need to create the aggregated tracking file\n",
    "if write_track:\n",
    "    df_tracking = pd.concat(\n",
    "            [load_tracking_data(tracking_fname) for tracking_fname in tracking_fname_list]\n",
    "        )\n",
    "    df_tracking.to_csv(os.path.join(root_dir,'data/track_full.csv'))\n",
    "else: \n",
    "    df_tracking = pd.read_csv(os.path.join(root_dir,'data/track_full.csv'),usecols=['gameId','playId','nflId','frameId','club','a','s','dis','y'])\n",
    "df_players = pd.read_csv(os.path.join(root_dir,'data/players.csv'))\n",
    "df_player_play = pd.read_csv(os.path.join(root_dir,'data/player_play.csv'))"
   ]
  },
  {
   "cell_type": "markdown",
   "metadata": {},
   "source": [
    "Sub to offense this time:"
   ]
  },
  {
   "cell_type": "code",
   "execution_count": 5,
   "metadata": {},
   "outputs": [],
   "source": [
    "plays_fname = os.path.join(root_dir,  \"data/plays.csv\")\n",
    "df_plays = pd.read_csv(plays_fname)\n",
    "df_games = pd.read_csv(os.path.join(root_dir,'data/games.csv'))"
   ]
  },
  {
   "cell_type": "code",
   "execution_count": 6,
   "metadata": {},
   "outputs": [],
   "source": [
    "play_trunc = df_plays[['gameId','playId','possessionTeam']]\n",
    "pt_df = play_trunc.merge(df_tracking,how='left',left_on=['gameId','playId','possessionTeam'],\n",
    "                 right_on=['gameId','playId','club'])\n",
    "\n",
    "# na's dropped to lose players w/o tracking info\n",
    "off_df = pt_df.dropna()"
   ]
  },
  {
   "cell_type": "code",
   "execution_count": 7,
   "metadata": {},
   "outputs": [
    {
     "data": {
      "text/html": [
       "<div>\n",
       "<style scoped>\n",
       "    .dataframe tbody tr th:only-of-type {\n",
       "        vertical-align: middle;\n",
       "    }\n",
       "\n",
       "    .dataframe tbody tr th {\n",
       "        vertical-align: top;\n",
       "    }\n",
       "\n",
       "    .dataframe thead th {\n",
       "        text-align: right;\n",
       "    }\n",
       "</style>\n",
       "<table border=\"1\" class=\"dataframe\">\n",
       "  <thead>\n",
       "    <tr style=\"text-align: right;\">\n",
       "      <th></th>\n",
       "      <th>gameId</th>\n",
       "      <th>playId</th>\n",
       "      <th>possessionTeam</th>\n",
       "      <th>nflId</th>\n",
       "      <th>displayName</th>\n",
       "      <th>frameId</th>\n",
       "      <th>frameType</th>\n",
       "      <th>time</th>\n",
       "      <th>jerseyNumber</th>\n",
       "      <th>club</th>\n",
       "      <th>...</th>\n",
       "      <th>a</th>\n",
       "      <th>dis</th>\n",
       "      <th>o</th>\n",
       "      <th>dir</th>\n",
       "      <th>event</th>\n",
       "      <th>gameplayId</th>\n",
       "      <th>o_standard</th>\n",
       "      <th>dir_standard</th>\n",
       "      <th>x_standard</th>\n",
       "      <th>y_standard</th>\n",
       "    </tr>\n",
       "  </thead>\n",
       "  <tbody>\n",
       "    <tr>\n",
       "      <th>32</th>\n",
       "      <td>2022102302</td>\n",
       "      <td>2655</td>\n",
       "      <td>CIN</td>\n",
       "      <td>42654.0</td>\n",
       "      <td>La'el Collins</td>\n",
       "      <td>33.0</td>\n",
       "      <td>BEFORE_SNAP</td>\n",
       "      <td>2022-10-23 19:14:01.5</td>\n",
       "      <td>71.0</td>\n",
       "      <td>CIN</td>\n",
       "      <td>...</td>\n",
       "      <td>0.02</td>\n",
       "      <td>0.02</td>\n",
       "      <td>104.75</td>\n",
       "      <td>316.23</td>\n",
       "      <td>line_set</td>\n",
       "      <td>2022102302_2655</td>\n",
       "      <td>104.75</td>\n",
       "      <td>316.23</td>\n",
       "      <td>29.42</td>\n",
       "      <td>20.65</td>\n",
       "    </tr>\n",
       "    <tr>\n",
       "      <th>182</th>\n",
       "      <td>2022102302</td>\n",
       "      <td>2655</td>\n",
       "      <td>CIN</td>\n",
       "      <td>43344.0</td>\n",
       "      <td>Tyler Boyd</td>\n",
       "      <td>33.0</td>\n",
       "      <td>BEFORE_SNAP</td>\n",
       "      <td>2022-10-23 19:14:01.5</td>\n",
       "      <td>83.0</td>\n",
       "      <td>CIN</td>\n",
       "      <td>...</td>\n",
       "      <td>0.59</td>\n",
       "      <td>0.02</td>\n",
       "      <td>88.69</td>\n",
       "      <td>176.97</td>\n",
       "      <td>line_set</td>\n",
       "      <td>2022102302_2655</td>\n",
       "      <td>88.69</td>\n",
       "      <td>176.97</td>\n",
       "      <td>29.50</td>\n",
       "      <td>14.13</td>\n",
       "    </tr>\n",
       "    <tr>\n",
       "      <th>332</th>\n",
       "      <td>2022102302</td>\n",
       "      <td>2655</td>\n",
       "      <td>CIN</td>\n",
       "      <td>43510.0</td>\n",
       "      <td>Ted Karras</td>\n",
       "      <td>33.0</td>\n",
       "      <td>BEFORE_SNAP</td>\n",
       "      <td>2022-10-23 19:14:01.5</td>\n",
       "      <td>64.0</td>\n",
       "      <td>CIN</td>\n",
       "      <td>...</td>\n",
       "      <td>0.03</td>\n",
       "      <td>0.01</td>\n",
       "      <td>69.35</td>\n",
       "      <td>118.78</td>\n",
       "      <td>line_set</td>\n",
       "      <td>2022102302_2655</td>\n",
       "      <td>69.35</td>\n",
       "      <td>118.78</td>\n",
       "      <td>30.25</td>\n",
       "      <td>23.70</td>\n",
       "    </tr>\n",
       "  </tbody>\n",
       "</table>\n",
       "<p>3 rows × 24 columns</p>\n",
       "</div>"
      ],
      "text/plain": [
       "         gameId  playId possessionTeam    nflId    displayName  frameId  \\\n",
       "32   2022102302    2655            CIN  42654.0  La'el Collins     33.0   \n",
       "182  2022102302    2655            CIN  43344.0     Tyler Boyd     33.0   \n",
       "332  2022102302    2655            CIN  43510.0     Ted Karras     33.0   \n",
       "\n",
       "       frameType                   time  jerseyNumber club  ...     a   dis  \\\n",
       "32   BEFORE_SNAP  2022-10-23 19:14:01.5          71.0  CIN  ...  0.02  0.02   \n",
       "182  BEFORE_SNAP  2022-10-23 19:14:01.5          83.0  CIN  ...  0.59  0.02   \n",
       "332  BEFORE_SNAP  2022-10-23 19:14:01.5          64.0  CIN  ...  0.03  0.01   \n",
       "\n",
       "          o     dir     event       gameplayId  o_standard  dir_standard  \\\n",
       "32   104.75  316.23  line_set  2022102302_2655      104.75        316.23   \n",
       "182   88.69  176.97  line_set  2022102302_2655       88.69        176.97   \n",
       "332   69.35  118.78  line_set  2022102302_2655       69.35        118.78   \n",
       "\n",
       "    x_standard y_standard  \n",
       "32       29.42      20.65  \n",
       "182      29.50      14.13  \n",
       "332      30.25      23.70  \n",
       "\n",
       "[3 rows x 24 columns]"
      ]
     },
     "execution_count": 7,
     "metadata": {},
     "output_type": "execute_result"
    }
   ],
   "source": [
    "off_df.head(3)"
   ]
  },
  {
   "cell_type": "code",
   "execution_count": 8,
   "metadata": {},
   "outputs": [],
   "source": [
    "example = ((off_df['gameId'] == 2022102300) & (off_df['playId'] == 2314)) & (off_df['nflId'] == 42347)"
   ]
  },
  {
   "cell_type": "markdown",
   "metadata": {},
   "source": [
    "### get all but last couple frames"
   ]
  },
  {
   "cell_type": "code",
   "execution_count": 9,
   "metadata": {},
   "outputs": [],
   "source": [
    "off_15 = off_df.groupby(['gameId','playId','nflId']).tail(15).reset_index(drop=True)"
   ]
  },
  {
   "cell_type": "code",
   "execution_count": 10,
   "metadata": {},
   "outputs": [],
   "source": [
    "off_10 = off_15.groupby(['gameId','playId','nflId']).head(10).reset_index(drop=True)"
   ]
  },
  {
   "cell_type": "code",
   "execution_count": 11,
   "metadata": {},
   "outputs": [
    {
     "data": {
      "text/plain": [
       "0"
      ]
     },
     "execution_count": 11,
     "metadata": {},
     "output_type": "execute_result"
    }
   ],
   "source": [
    "len(off_15)-len(off_10)"
   ]
  },
  {
   "cell_type": "code",
   "execution_count": 12,
   "metadata": {},
   "outputs": [],
   "source": [
    "og_10 = off_10.groupby(['gameId','playId','nflId']).agg(y_initial=('y','first'),y_final=('y','last'),dis_sum=('dis','sum'),\n",
    "                                                        s_max=('s','max'),a_max=('a','max'),a_mean=('a','mean'),a_median=('a','median'),\n",
    "                                                        s_mean=('s','mean'),s_min=('s','min'),a_min=('a','min')).reset_index()"
   ]
  },
  {
   "cell_type": "markdown",
   "metadata": {},
   "source": [
    "get y delta"
   ]
  },
  {
   "cell_type": "code",
   "execution_count": 13,
   "metadata": {},
   "outputs": [],
   "source": [
    "og_10['y_delta'] = og_10['y_final']-og_10['y_initial']"
   ]
  },
  {
   "cell_type": "code",
   "execution_count": 14,
   "metadata": {},
   "outputs": [
    {
     "data": {
      "text/plain": [
       "Index(['s_mean', 's_min', 'a_min', 'y_delta'], dtype='object')"
      ]
     },
     "execution_count": 14,
     "metadata": {},
     "output_type": "execute_result"
    }
   ],
   "source": [
    "og_10.columns[-4:]"
   ]
  },
  {
   "cell_type": "code",
   "execution_count": 15,
   "metadata": {},
   "outputs": [],
   "source": [
    "delta_10 = og_10[['gameId','playId']].drop_duplicates()"
   ]
  },
  {
   "cell_type": "code",
   "execution_count": 16,
   "metadata": {},
   "outputs": [],
   "source": [
    "ser_ls = []"
   ]
  },
  {
   "cell_type": "code",
   "execution_count": 17,
   "metadata": {},
   "outputs": [],
   "source": [
    "for col in og_10.columns[-10:]:\n",
    "\n",
    "    ser_ls.append(og_10.groupby(['gameId','playId'])[col].apply(lambda grp: grp.nlargest(2).diff().tail(1)).reset_index(drop=True))"
   ]
  },
  {
   "cell_type": "code",
   "execution_count": 18,
   "metadata": {},
   "outputs": [],
   "source": [
    "delta_10 = delta_10.reset_index(drop=True)"
   ]
  },
  {
   "cell_type": "code",
   "execution_count": 19,
   "metadata": {},
   "outputs": [],
   "source": [
    "d10_proc = pd.concat([delta_10,pd.concat(ser_ls,axis=1)],axis=1)"
   ]
  },
  {
   "cell_type": "code",
   "execution_count": 20,
   "metadata": {},
   "outputs": [],
   "source": [
    "d10_proc['y_delta'] = d10_proc['y_delta'].round(2)"
   ]
  },
  {
   "cell_type": "code",
   "execution_count": 21,
   "metadata": {},
   "outputs": [
    {
     "data": {
      "text/html": [
       "<div>\n",
       "<style scoped>\n",
       "    .dataframe tbody tr th:only-of-type {\n",
       "        vertical-align: middle;\n",
       "    }\n",
       "\n",
       "    .dataframe tbody tr th {\n",
       "        vertical-align: top;\n",
       "    }\n",
       "\n",
       "    .dataframe thead th {\n",
       "        text-align: right;\n",
       "    }\n",
       "</style>\n",
       "<table border=\"1\" class=\"dataframe\">\n",
       "  <thead>\n",
       "    <tr style=\"text-align: right;\">\n",
       "      <th></th>\n",
       "      <th>gameId</th>\n",
       "      <th>playId</th>\n",
       "      <th>y_final</th>\n",
       "      <th>dis_sum</th>\n",
       "      <th>s_max</th>\n",
       "      <th>a_max</th>\n",
       "      <th>a_mean</th>\n",
       "      <th>a_median</th>\n",
       "      <th>s_mean</th>\n",
       "      <th>s_min</th>\n",
       "      <th>a_min</th>\n",
       "      <th>y_delta</th>\n",
       "    </tr>\n",
       "  </thead>\n",
       "  <tbody>\n",
       "    <tr>\n",
       "      <th>0</th>\n",
       "      <td>2022090800</td>\n",
       "      <td>56</td>\n",
       "      <td>-1.42</td>\n",
       "      <td>-0.43</td>\n",
       "      <td>-4.32</td>\n",
       "      <td>-0.47</td>\n",
       "      <td>-0.470</td>\n",
       "      <td>-0.470</td>\n",
       "      <td>-4.320</td>\n",
       "      <td>-4.32</td>\n",
       "      <td>-0.47</td>\n",
       "      <td>0.00</td>\n",
       "    </tr>\n",
       "    <tr>\n",
       "      <th>1</th>\n",
       "      <td>2022090800</td>\n",
       "      <td>80</td>\n",
       "      <td>-1.98</td>\n",
       "      <td>-0.38</td>\n",
       "      <td>-3.86</td>\n",
       "      <td>-0.12</td>\n",
       "      <td>-0.055</td>\n",
       "      <td>-0.055</td>\n",
       "      <td>-1.925</td>\n",
       "      <td>-0.01</td>\n",
       "      <td>-0.01</td>\n",
       "      <td>-0.57</td>\n",
       "    </tr>\n",
       "    <tr>\n",
       "      <th>2</th>\n",
       "      <td>2022090800</td>\n",
       "      <td>101</td>\n",
       "      <td>-4.92</td>\n",
       "      <td>0.00</td>\n",
       "      <td>-0.05</td>\n",
       "      <td>-0.07</td>\n",
       "      <td>-0.040</td>\n",
       "      <td>-0.040</td>\n",
       "      <td>-0.030</td>\n",
       "      <td>-0.02</td>\n",
       "      <td>-0.02</td>\n",
       "      <td>-0.11</td>\n",
       "    </tr>\n",
       "    <tr>\n",
       "      <th>3</th>\n",
       "      <td>2022090800</td>\n",
       "      <td>122</td>\n",
       "      <td>-5.15</td>\n",
       "      <td>0.00</td>\n",
       "      <td>-0.06</td>\n",
       "      <td>-0.96</td>\n",
       "      <td>-0.960</td>\n",
       "      <td>-0.960</td>\n",
       "      <td>-0.060</td>\n",
       "      <td>-0.06</td>\n",
       "      <td>-0.96</td>\n",
       "      <td>0.00</td>\n",
       "    </tr>\n",
       "    <tr>\n",
       "      <th>4</th>\n",
       "      <td>2022090800</td>\n",
       "      <td>167</td>\n",
       "      <td>-1.24</td>\n",
       "      <td>0.00</td>\n",
       "      <td>-0.02</td>\n",
       "      <td>-0.05</td>\n",
       "      <td>-0.050</td>\n",
       "      <td>-0.050</td>\n",
       "      <td>-0.020</td>\n",
       "      <td>-0.02</td>\n",
       "      <td>-0.05</td>\n",
       "      <td>0.00</td>\n",
       "    </tr>\n",
       "    <tr>\n",
       "      <th>5</th>\n",
       "      <td>2022090800</td>\n",
       "      <td>191</td>\n",
       "      <td>-5.56</td>\n",
       "      <td>-0.21</td>\n",
       "      <td>-2.05</td>\n",
       "      <td>-2.29</td>\n",
       "      <td>-2.290</td>\n",
       "      <td>-2.290</td>\n",
       "      <td>-2.050</td>\n",
       "      <td>-2.05</td>\n",
       "      <td>-2.29</td>\n",
       "      <td>0.00</td>\n",
       "    </tr>\n",
       "    <tr>\n",
       "      <th>6</th>\n",
       "      <td>2022090800</td>\n",
       "      <td>212</td>\n",
       "      <td>-10.79</td>\n",
       "      <td>-0.51</td>\n",
       "      <td>-4.98</td>\n",
       "      <td>-1.89</td>\n",
       "      <td>-0.865</td>\n",
       "      <td>-0.865</td>\n",
       "      <td>-2.445</td>\n",
       "      <td>-0.09</td>\n",
       "      <td>-0.16</td>\n",
       "      <td>-3.09</td>\n",
       "    </tr>\n",
       "    <tr>\n",
       "      <th>7</th>\n",
       "      <td>2022090800</td>\n",
       "      <td>236</td>\n",
       "      <td>-6.40</td>\n",
       "      <td>-0.30</td>\n",
       "      <td>-3.22</td>\n",
       "      <td>-2.01</td>\n",
       "      <td>-1.405</td>\n",
       "      <td>-1.405</td>\n",
       "      <td>-1.645</td>\n",
       "      <td>-0.04</td>\n",
       "      <td>-0.76</td>\n",
       "      <td>-0.09</td>\n",
       "    </tr>\n",
       "    <tr>\n",
       "      <th>8</th>\n",
       "      <td>2022090800</td>\n",
       "      <td>299</td>\n",
       "      <td>-6.84</td>\n",
       "      <td>-0.14</td>\n",
       "      <td>-0.87</td>\n",
       "      <td>-3.30</td>\n",
       "      <td>-1.985</td>\n",
       "      <td>-1.985</td>\n",
       "      <td>-0.815</td>\n",
       "      <td>-0.75</td>\n",
       "      <td>-0.66</td>\n",
       "      <td>-2.11</td>\n",
       "    </tr>\n",
       "    <tr>\n",
       "      <th>9</th>\n",
       "      <td>2022090800</td>\n",
       "      <td>343</td>\n",
       "      <td>-4.95</td>\n",
       "      <td>-0.01</td>\n",
       "      <td>-0.01</td>\n",
       "      <td>-0.08</td>\n",
       "      <td>-0.080</td>\n",
       "      <td>-0.080</td>\n",
       "      <td>-0.010</td>\n",
       "      <td>-0.01</td>\n",
       "      <td>-0.08</td>\n",
       "      <td>0.00</td>\n",
       "    </tr>\n",
       "  </tbody>\n",
       "</table>\n",
       "</div>"
      ],
      "text/plain": [
       "       gameId  playId  y_final  dis_sum  s_max  a_max  a_mean  a_median  \\\n",
       "0  2022090800      56    -1.42    -0.43  -4.32  -0.47  -0.470    -0.470   \n",
       "1  2022090800      80    -1.98    -0.38  -3.86  -0.12  -0.055    -0.055   \n",
       "2  2022090800     101    -4.92     0.00  -0.05  -0.07  -0.040    -0.040   \n",
       "3  2022090800     122    -5.15     0.00  -0.06  -0.96  -0.960    -0.960   \n",
       "4  2022090800     167    -1.24     0.00  -0.02  -0.05  -0.050    -0.050   \n",
       "5  2022090800     191    -5.56    -0.21  -2.05  -2.29  -2.290    -2.290   \n",
       "6  2022090800     212   -10.79    -0.51  -4.98  -1.89  -0.865    -0.865   \n",
       "7  2022090800     236    -6.40    -0.30  -3.22  -2.01  -1.405    -1.405   \n",
       "8  2022090800     299    -6.84    -0.14  -0.87  -3.30  -1.985    -1.985   \n",
       "9  2022090800     343    -4.95    -0.01  -0.01  -0.08  -0.080    -0.080   \n",
       "\n",
       "   s_mean  s_min  a_min  y_delta  \n",
       "0  -4.320  -4.32  -0.47     0.00  \n",
       "1  -1.925  -0.01  -0.01    -0.57  \n",
       "2  -0.030  -0.02  -0.02    -0.11  \n",
       "3  -0.060  -0.06  -0.96     0.00  \n",
       "4  -0.020  -0.02  -0.05     0.00  \n",
       "5  -2.050  -2.05  -2.29     0.00  \n",
       "6  -2.445  -0.09  -0.16    -3.09  \n",
       "7  -1.645  -0.04  -0.76    -0.09  \n",
       "8  -0.815  -0.75  -0.66    -2.11  \n",
       "9  -0.010  -0.01  -0.08     0.00  "
      ]
     },
     "execution_count": 21,
     "metadata": {},
     "output_type": "execute_result"
    }
   ],
   "source": [
    "d10_proc.head(10)"
   ]
  },
  {
   "cell_type": "code",
   "execution_count": 22,
   "metadata": {},
   "outputs": [],
   "source": [
    "d10_flagged = d10_proc.merge(df_plays[['gameId','playId','isDropback']],how='left')"
   ]
  },
  {
   "cell_type": "code",
   "execution_count": 23,
   "metadata": {},
   "outputs": [
    {
     "data": {
      "text/plain": [
       "-2.57"
      ]
     },
     "execution_count": 23,
     "metadata": {},
     "output_type": "execute_result"
    }
   ],
   "source": [
    "d10_flagged['a_max'].quantile(.1)"
   ]
  },
  {
   "cell_type": "code",
   "execution_count": 24,
   "metadata": {},
   "outputs": [],
   "source": [
    "d10_flagged['amed_25'] = (d10_flagged['a_median'] >= d10_flagged['a_median'].quantile(.25))"
   ]
  },
  {
   "cell_type": "code",
   "execution_count": 25,
   "metadata": {},
   "outputs": [],
   "source": [
    "d10_flagged['amean_dis'] = d10_flagged['a_mean']/.05*d10_flagged['dis_sum']"
   ]
  },
  {
   "cell_type": "code",
   "execution_count": 26,
   "metadata": {},
   "outputs": [],
   "source": [
    "d10_flagged['amean_del'] =d10_flagged['a_mean']/.5*d10_flagged['y_delta']"
   ]
  },
  {
   "cell_type": "code",
   "execution_count": 27,
   "metadata": {},
   "outputs": [
    {
     "data": {
      "text/plain": [
       "gameId       -0.022328\n",
       "playId        0.013797\n",
       "y_final      -0.095247\n",
       "dis_sum       0.035716\n",
       "s_max         0.047063\n",
       "a_max         0.091021\n",
       "a_mean        0.073306\n",
       "a_median      0.073547\n",
       "s_mean        0.023776\n",
       "s_min        -0.025073\n",
       "a_min         0.012148\n",
       "y_delta       0.039459\n",
       "isDropback    1.000000\n",
       "amed_25       0.066274\n",
       "amean_dis    -0.052855\n",
       "amean_del    -0.038661\n",
       "Name: isDropback, dtype: float64"
      ]
     },
     "execution_count": 27,
     "metadata": {},
     "output_type": "execute_result"
    }
   ],
   "source": [
    "d10_flagged.corr()['isDropback']"
   ]
  },
  {
   "cell_type": "code",
   "execution_count": 28,
   "metadata": {},
   "outputs": [],
   "source": [
    "#d10_flagged[['gameId','playId','a_mean','a_max','y_delta','dis_sum']].to_csv('data/top_2_player_diff_last_10.csv')"
   ]
  }
 ],
 "metadata": {
  "kernelspec": {
   "display_name": ".venv",
   "language": "python",
   "name": "python3"
  },
  "language_info": {
   "codemirror_mode": {
    "name": "ipython",
    "version": 3
   },
   "file_extension": ".py",
   "mimetype": "text/x-python",
   "name": "python",
   "nbconvert_exporter": "python",
   "pygments_lexer": "ipython3",
   "version": "3.9.15"
  }
 },
 "nbformat": 4,
 "nbformat_minor": 2
}
