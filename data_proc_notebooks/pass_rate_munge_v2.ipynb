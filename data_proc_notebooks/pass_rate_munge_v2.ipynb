{
 "cells": [
  {
   "cell_type": "markdown",
   "id": "73b74f67",
   "metadata": {
    "papermill": {
     "duration": 0.019412,
     "end_time": "2024-10-21T02:00:46.032424",
     "exception": false,
     "start_time": "2024-10-21T02:00:46.013012",
     "status": "completed"
    },
    "tags": []
   },
   "source": [
    "# Team Tendency Analysis (v2) - Oct 28, 2024\n",
    "\n",
    "Goal here is to get longer-term data on teams (and later players) to bake in to "
   ]
  },
  {
   "cell_type": "code",
   "execution_count": 1,
   "id": "34e5b626",
   "metadata": {
    "_cell_guid": "b1076dfc-b9ad-4769-8c92-a6c4dae69d19",
    "_uuid": "8f2839f25d086af736a60e9eeb907d3b93b6e0e5",
    "execution": {
     "iopub.execute_input": "2024-10-21T02:00:46.071447Z",
     "iopub.status.busy": "2024-10-21T02:00:46.070957Z",
     "iopub.status.idle": "2024-10-21T02:00:47.083173Z",
     "shell.execute_reply": "2024-10-21T02:00:47.081596Z"
    },
    "papermill": {
     "duration": 1.035588,
     "end_time": "2024-10-21T02:00:47.086208",
     "exception": false,
     "start_time": "2024-10-21T02:00:46.050620",
     "status": "completed"
    },
    "tags": []
   },
   "outputs": [],
   "source": [
    "import numpy as np # linear algebra\n",
    "import pandas as pd # data processing, CSV file I/O (e.g. pd.read_csv)\n",
    "\n",
    "import os\n",
    "\n",
    "root_dir = os.path.split(os.getcwd())[0]"
   ]
  },
  {
   "cell_type": "markdown",
   "id": "3fef94eb",
   "metadata": {
    "papermill": {
     "duration": 0.018064,
     "end_time": "2024-10-21T02:00:47.124708",
     "exception": false,
     "start_time": "2024-10-21T02:00:47.106644",
     "status": "completed"
    },
    "tags": []
   },
   "source": [
    "## Import data\n",
    "\n",
    "We load all relevant data to understand team pass rates"
   ]
  },
  {
   "cell_type": "code",
   "execution_count": 2,
   "id": "658d0fa6",
   "metadata": {
    "execution": {
     "iopub.execute_input": "2024-10-21T02:00:47.163228Z",
     "iopub.status.busy": "2024-10-21T02:00:47.162677Z",
     "iopub.status.idle": "2024-10-21T02:00:50.039948Z",
     "shell.execute_reply": "2024-10-21T02:00:50.038645Z"
    },
    "papermill": {
     "duration": 2.899982,
     "end_time": "2024-10-21T02:00:50.042958",
     "exception": false,
     "start_time": "2024-10-21T02:00:47.142976",
     "status": "completed"
    },
    "tags": []
   },
   "outputs": [],
   "source": [
    "df_play = pd.read_csv(os.path.join(root_dir, 'data/plays.csv'))\n",
    "df_player_play = pd.read_csv(os.path.join(root_dir,'data/player_play.csv'))\n",
    "df_games = pd.read_csv(os.path.join(root_dir,'data/games.csv'))\n",
    "df_players = pd.read_csv(os.path.join(root_dir,'data/players.csv'))"
   ]
  },
  {
   "cell_type": "code",
   "execution_count": 3,
   "id": "5bc1e517",
   "metadata": {
    "execution": {
     "iopub.execute_input": "2024-10-21T02:00:50.082372Z",
     "iopub.status.busy": "2024-10-21T02:00:50.081929Z",
     "iopub.status.idle": "2024-10-21T02:00:50.116189Z",
     "shell.execute_reply": "2024-10-21T02:00:50.114759Z"
    },
    "papermill": {
     "duration": 0.057108,
     "end_time": "2024-10-21T02:00:50.119212",
     "exception": false,
     "start_time": "2024-10-21T02:00:50.062104",
     "status": "completed"
    },
    "tags": []
   },
   "outputs": [],
   "source": [
    "# Add in week # for each play\n",
    "df_weeks = df_play[['gameId','playId','isDropback','possessionTeam','defensiveTeam']].merge(df_games[['gameId','week']],how='left',on=['gameId'])\n"
   ]
  },
  {
   "cell_type": "code",
   "execution_count": 4,
   "id": "901e778e",
   "metadata": {},
   "outputs": [
    {
     "data": {
      "text/html": [
       "<div>\n",
       "<style scoped>\n",
       "    .dataframe tbody tr th:only-of-type {\n",
       "        vertical-align: middle;\n",
       "    }\n",
       "\n",
       "    .dataframe tbody tr th {\n",
       "        vertical-align: top;\n",
       "    }\n",
       "\n",
       "    .dataframe thead th {\n",
       "        text-align: right;\n",
       "    }\n",
       "</style>\n",
       "<table border=\"1\" class=\"dataframe\">\n",
       "  <thead>\n",
       "    <tr style=\"text-align: right;\">\n",
       "      <th></th>\n",
       "      <th>gameId</th>\n",
       "      <th>playId</th>\n",
       "      <th>isDropback</th>\n",
       "      <th>possessionTeam</th>\n",
       "      <th>defensiveTeam</th>\n",
       "      <th>week</th>\n",
       "    </tr>\n",
       "  </thead>\n",
       "  <tbody>\n",
       "    <tr>\n",
       "      <th>0</th>\n",
       "      <td>2022102302</td>\n",
       "      <td>2655</td>\n",
       "      <td>True</td>\n",
       "      <td>CIN</td>\n",
       "      <td>ATL</td>\n",
       "      <td>7</td>\n",
       "    </tr>\n",
       "  </tbody>\n",
       "</table>\n",
       "</div>"
      ],
      "text/plain": [
       "       gameId  playId  isDropback possessionTeam defensiveTeam  week\n",
       "0  2022102302    2655        True            CIN           ATL     7"
      ]
     },
     "execution_count": 4,
     "metadata": {},
     "output_type": "execute_result"
    }
   ],
   "source": [
    "df_weeks.head(1)"
   ]
  },
  {
   "cell_type": "code",
   "execution_count": 5,
   "id": "d8ef0a00",
   "metadata": {},
   "outputs": [
    {
     "data": {
      "text/plain": [
       "0"
      ]
     },
     "execution_count": 5,
     "metadata": {},
     "output_type": "execute_result"
    }
   ],
   "source": [
    "df_weeks.duplicated().sum()"
   ]
  },
  {
   "cell_type": "markdown",
   "id": "c5aeb556",
   "metadata": {
    "papermill": {
     "duration": 0.018359,
     "end_time": "2024-10-21T02:00:50.156560",
     "exception": false,
     "start_time": "2024-10-21T02:00:50.138201",
     "status": "completed"
    },
    "tags": []
   },
   "source": [
    "# Aggregate team snap data\n",
    "\n",
    "We want to know both the raw number of snaps each team took, and how many of them were passes, for each week\n",
    "\n",
    "NOTE: DO NOT DEDUPE. This is just play-by-play data without ID labels."
   ]
  },
  {
   "cell_type": "code",
   "execution_count": 6,
   "id": "54a736e7",
   "metadata": {
    "execution": {
     "iopub.execute_input": "2024-10-21T02:00:50.194802Z",
     "iopub.status.busy": "2024-10-21T02:00:50.194340Z",
     "iopub.status.idle": "2024-10-21T02:00:50.212956Z",
     "shell.execute_reply": "2024-10-21T02:00:50.211855Z"
    },
    "papermill": {
     "duration": 0.040459,
     "end_time": "2024-10-21T02:00:50.215328",
     "exception": false,
     "start_time": "2024-10-21T02:00:50.174869",
     "status": "completed"
    },
    "tags": []
   },
   "outputs": [
    {
     "data": {
      "text/html": [
       "<div>\n",
       "<style scoped>\n",
       "    .dataframe tbody tr th:only-of-type {\n",
       "        vertical-align: middle;\n",
       "    }\n",
       "\n",
       "    .dataframe tbody tr th {\n",
       "        vertical-align: top;\n",
       "    }\n",
       "\n",
       "    .dataframe thead th {\n",
       "        text-align: right;\n",
       "    }\n",
       "</style>\n",
       "<table border=\"1\" class=\"dataframe\">\n",
       "  <thead>\n",
       "    <tr style=\"text-align: right;\">\n",
       "      <th></th>\n",
       "      <th>isDropback</th>\n",
       "      <th>possessionTeam</th>\n",
       "      <th>defensiveTeam</th>\n",
       "      <th>week</th>\n",
       "    </tr>\n",
       "  </thead>\n",
       "  <tbody>\n",
       "    <tr>\n",
       "      <th>0</th>\n",
       "      <td>True</td>\n",
       "      <td>CIN</td>\n",
       "      <td>ATL</td>\n",
       "      <td>7</td>\n",
       "    </tr>\n",
       "  </tbody>\n",
       "</table>\n",
       "</div>"
      ],
      "text/plain": [
       "   isDropback possessionTeam defensiveTeam  week\n",
       "0        True            CIN           ATL     7"
      ]
     },
     "execution_count": 6,
     "metadata": {},
     "output_type": "execute_result"
    }
   ],
   "source": [
    "df_working = df_weeks.drop(columns=['gameId','playId'])\n",
    "df_working.head(1)"
   ]
  },
  {
   "cell_type": "markdown",
   "id": "9a579db2",
   "metadata": {},
   "source": [
    "Group by team/week, get pass & snap count for each team/week combo:"
   ]
  },
  {
   "cell_type": "code",
   "execution_count": 7,
   "id": "94fe1a79",
   "metadata": {
    "execution": {
     "iopub.execute_input": "2024-10-21T02:00:50.255419Z",
     "iopub.status.busy": "2024-10-21T02:00:50.254215Z",
     "iopub.status.idle": "2024-10-21T02:00:50.293017Z",
     "shell.execute_reply": "2024-10-21T02:00:50.292034Z"
    },
    "papermill": {
     "duration": 0.06164,
     "end_time": "2024-10-21T02:00:50.295791",
     "exception": false,
     "start_time": "2024-10-21T02:00:50.234151",
     "status": "completed"
    },
    "tags": []
   },
   "outputs": [],
   "source": [
    "off_df = df_working.groupby(['possessionTeam','week'])\\\n",
    "                        .agg(off_passes=('isDropback', 'sum'), off_snaps=('isDropback', 'count')).reset_index()\n",
    "\n",
    "def_df = df_working.groupby(['defensiveTeam','week'])\\\n",
    "                        .agg(def_passes=('isDropback', 'sum'), def_snaps=('isDropback', 'count')).reset_index()\n"
   ]
  },
  {
   "cell_type": "markdown",
   "id": "292ce49e",
   "metadata": {},
   "source": [
    "Merge offense, defense, get pass rates effected on both sides of the ball"
   ]
  },
  {
   "cell_type": "code",
   "execution_count": 8,
   "id": "8ffa2f79",
   "metadata": {
    "execution": {
     "iopub.execute_input": "2024-10-21T02:00:50.335183Z",
     "iopub.status.busy": "2024-10-21T02:00:50.334753Z",
     "iopub.status.idle": "2024-10-21T02:00:50.356472Z",
     "shell.execute_reply": "2024-10-21T02:00:50.355460Z"
    },
    "papermill": {
     "duration": 0.044521,
     "end_time": "2024-10-21T02:00:50.359150",
     "exception": false,
     "start_time": "2024-10-21T02:00:50.314629",
     "status": "completed"
    },
    "tags": []
   },
   "outputs": [],
   "source": [
    "# Merge offensive, defensive snap stats\n",
    "df_full = off_df.merge(def_df,how='inner',left_on=['possessionTeam','week'],right_on=['defensiveTeam','week']).drop(columns=['defensiveTeam'])\n",
    "\n",
    "# Get running snap/pass stats over the season for the current week\n",
    "df_cs = pd.concat([df_full[['possessionTeam','week']],df_full.groupby('possessionTeam').cumsum().drop(columns='week')],axis=1)\n",
    "\n",
    "# Calc pass rate for offense & defense\n",
    "df_cs['pass_rate_off'] = df_cs['off_passes']/df_cs['off_snaps']\n",
    "df_cs['pass_rate_def'] = df_cs['def_passes']/df_cs['def_snaps']"
   ]
  },
  {
   "cell_type": "code",
   "execution_count": 9,
   "id": "676333a5",
   "metadata": {
    "execution": {
     "iopub.execute_input": "2024-10-21T02:00:50.398198Z",
     "iopub.status.busy": "2024-10-21T02:00:50.397485Z",
     "iopub.status.idle": "2024-10-21T02:00:50.411662Z",
     "shell.execute_reply": "2024-10-21T02:00:50.410441Z"
    },
    "papermill": {
     "duration": 0.036459,
     "end_time": "2024-10-21T02:00:50.414375",
     "exception": false,
     "start_time": "2024-10-21T02:00:50.377916",
     "status": "completed"
    },
    "tags": []
   },
   "outputs": [
    {
     "data": {
      "text/html": [
       "<div>\n",
       "<style scoped>\n",
       "    .dataframe tbody tr th:only-of-type {\n",
       "        vertical-align: middle;\n",
       "    }\n",
       "\n",
       "    .dataframe tbody tr th {\n",
       "        vertical-align: top;\n",
       "    }\n",
       "\n",
       "    .dataframe thead th {\n",
       "        text-align: right;\n",
       "    }\n",
       "</style>\n",
       "<table border=\"1\" class=\"dataframe\">\n",
       "  <thead>\n",
       "    <tr style=\"text-align: right;\">\n",
       "      <th></th>\n",
       "      <th>possessionTeam</th>\n",
       "      <th>week</th>\n",
       "      <th>off_passes</th>\n",
       "      <th>off_snaps</th>\n",
       "      <th>def_passes</th>\n",
       "      <th>def_snaps</th>\n",
       "      <th>pass_rate_off</th>\n",
       "      <th>pass_rate_def</th>\n",
       "    </tr>\n",
       "  </thead>\n",
       "  <tbody>\n",
       "    <tr>\n",
       "      <th>0</th>\n",
       "      <td>ARI</td>\n",
       "      <td>1</td>\n",
       "      <td>39</td>\n",
       "      <td>57</td>\n",
       "      <td>40</td>\n",
       "      <td>64</td>\n",
       "      <td>0.684211</td>\n",
       "      <td>0.625000</td>\n",
       "    </tr>\n",
       "    <tr>\n",
       "      <th>1</th>\n",
       "      <td>ARI</td>\n",
       "      <td>2</td>\n",
       "      <td>88</td>\n",
       "      <td>130</td>\n",
       "      <td>81</td>\n",
       "      <td>124</td>\n",
       "      <td>0.676923</td>\n",
       "      <td>0.653226</td>\n",
       "    </tr>\n",
       "    <tr>\n",
       "      <th>2</th>\n",
       "      <td>ARI</td>\n",
       "      <td>3</td>\n",
       "      <td>146</td>\n",
       "      <td>206</td>\n",
       "      <td>108</td>\n",
       "      <td>169</td>\n",
       "      <td>0.708738</td>\n",
       "      <td>0.639053</td>\n",
       "    </tr>\n",
       "  </tbody>\n",
       "</table>\n",
       "</div>"
      ],
      "text/plain": [
       "  possessionTeam  week  off_passes  off_snaps  def_passes  def_snaps  \\\n",
       "0            ARI     1          39         57          40         64   \n",
       "1            ARI     2          88        130          81        124   \n",
       "2            ARI     3         146        206         108        169   \n",
       "\n",
       "   pass_rate_off  pass_rate_def  \n",
       "0       0.684211       0.625000  \n",
       "1       0.676923       0.653226  \n",
       "2       0.708738       0.639053  "
      ]
     },
     "execution_count": 9,
     "metadata": {},
     "output_type": "execute_result"
    }
   ],
   "source": [
    "df_cs.head(3)"
   ]
  },
  {
   "cell_type": "markdown",
   "id": "b52f45e5",
   "metadata": {},
   "source": [
    "### Forward fill bye week data\n",
    "\n",
    "We want to forward fill bye week data for merge reasons. We use a cartesian product to do so."
   ]
  },
  {
   "cell_type": "code",
   "execution_count": 10,
   "id": "fe8a4aa3",
   "metadata": {},
   "outputs": [],
   "source": [
    "# get team, week cartesian product\n",
    "ind = pd.DataFrame(index=pd.MultiIndex.from_product([range(1,10),df_cs.possessionTeam.unique()])).reset_index().rename(columns={'level_0':'week','level_1':'possessionTeam'})"
   ]
  },
  {
   "cell_type": "markdown",
   "id": "f5b6e390",
   "metadata": {},
   "source": [
    "Merge to get each team-week combo possible"
   ]
  },
  {
   "cell_type": "code",
   "execution_count": 11,
   "id": "5536b254",
   "metadata": {},
   "outputs": [
    {
     "data": {
      "text/html": [
       "<div>\n",
       "<style scoped>\n",
       "    .dataframe tbody tr th:only-of-type {\n",
       "        vertical-align: middle;\n",
       "    }\n",
       "\n",
       "    .dataframe tbody tr th {\n",
       "        vertical-align: top;\n",
       "    }\n",
       "\n",
       "    .dataframe thead th {\n",
       "        text-align: right;\n",
       "    }\n",
       "</style>\n",
       "<table border=\"1\" class=\"dataframe\">\n",
       "  <thead>\n",
       "    <tr style=\"text-align: right;\">\n",
       "      <th></th>\n",
       "      <th>week</th>\n",
       "      <th>possessionTeam</th>\n",
       "      <th>off_passes</th>\n",
       "      <th>off_snaps</th>\n",
       "      <th>def_passes</th>\n",
       "      <th>def_snaps</th>\n",
       "      <th>pass_rate_off</th>\n",
       "      <th>pass_rate_def</th>\n",
       "    </tr>\n",
       "  </thead>\n",
       "  <tbody>\n",
       "    <tr>\n",
       "      <th>18</th>\n",
       "      <td>1</td>\n",
       "      <td>LV</td>\n",
       "      <td>42.0</td>\n",
       "      <td>55.0</td>\n",
       "      <td>34.0</td>\n",
       "      <td>61.0</td>\n",
       "      <td>0.763636</td>\n",
       "      <td>0.557377</td>\n",
       "    </tr>\n",
       "    <tr>\n",
       "      <th>50</th>\n",
       "      <td>2</td>\n",
       "      <td>LV</td>\n",
       "      <td>83.0</td>\n",
       "      <td>115.0</td>\n",
       "      <td>83.0</td>\n",
       "      <td>134.0</td>\n",
       "      <td>0.721739</td>\n",
       "      <td>0.619403</td>\n",
       "    </tr>\n",
       "    <tr>\n",
       "      <th>82</th>\n",
       "      <td>3</td>\n",
       "      <td>LV</td>\n",
       "      <td>131.0</td>\n",
       "      <td>180.0</td>\n",
       "      <td>110.0</td>\n",
       "      <td>188.0</td>\n",
       "      <td>0.727778</td>\n",
       "      <td>0.585106</td>\n",
       "    </tr>\n",
       "    <tr>\n",
       "      <th>114</th>\n",
       "      <td>4</td>\n",
       "      <td>LV</td>\n",
       "      <td>170.0</td>\n",
       "      <td>254.0</td>\n",
       "      <td>141.0</td>\n",
       "      <td>235.0</td>\n",
       "      <td>0.669291</td>\n",
       "      <td>0.600000</td>\n",
       "    </tr>\n",
       "    <tr>\n",
       "      <th>146</th>\n",
       "      <td>5</td>\n",
       "      <td>LV</td>\n",
       "      <td>201.0</td>\n",
       "      <td>308.0</td>\n",
       "      <td>187.0</td>\n",
       "      <td>302.0</td>\n",
       "      <td>0.652597</td>\n",
       "      <td>0.619205</td>\n",
       "    </tr>\n",
       "    <tr>\n",
       "      <th>178</th>\n",
       "      <td>6</td>\n",
       "      <td>LV</td>\n",
       "      <td>NaN</td>\n",
       "      <td>NaN</td>\n",
       "      <td>NaN</td>\n",
       "      <td>NaN</td>\n",
       "      <td>NaN</td>\n",
       "      <td>NaN</td>\n",
       "    </tr>\n",
       "    <tr>\n",
       "      <th>210</th>\n",
       "      <td>7</td>\n",
       "      <td>LV</td>\n",
       "      <td>229.0</td>\n",
       "      <td>363.0</td>\n",
       "      <td>228.0</td>\n",
       "      <td>366.0</td>\n",
       "      <td>0.630854</td>\n",
       "      <td>0.622951</td>\n",
       "    </tr>\n",
       "    <tr>\n",
       "      <th>242</th>\n",
       "      <td>8</td>\n",
       "      <td>LV</td>\n",
       "      <td>271.0</td>\n",
       "      <td>416.0</td>\n",
       "      <td>259.0</td>\n",
       "      <td>429.0</td>\n",
       "      <td>0.651442</td>\n",
       "      <td>0.603730</td>\n",
       "    </tr>\n",
       "    <tr>\n",
       "      <th>274</th>\n",
       "      <td>9</td>\n",
       "      <td>LV</td>\n",
       "      <td>308.0</td>\n",
       "      <td>469.0</td>\n",
       "      <td>292.0</td>\n",
       "      <td>494.0</td>\n",
       "      <td>0.656716</td>\n",
       "      <td>0.591093</td>\n",
       "    </tr>\n",
       "  </tbody>\n",
       "</table>\n",
       "</div>"
      ],
      "text/plain": [
       "     week possessionTeam  off_passes  off_snaps  def_passes  def_snaps  \\\n",
       "18      1             LV        42.0       55.0        34.0       61.0   \n",
       "50      2             LV        83.0      115.0        83.0      134.0   \n",
       "82      3             LV       131.0      180.0       110.0      188.0   \n",
       "114     4             LV       170.0      254.0       141.0      235.0   \n",
       "146     5             LV       201.0      308.0       187.0      302.0   \n",
       "178     6             LV         NaN        NaN         NaN        NaN   \n",
       "210     7             LV       229.0      363.0       228.0      366.0   \n",
       "242     8             LV       271.0      416.0       259.0      429.0   \n",
       "274     9             LV       308.0      469.0       292.0      494.0   \n",
       "\n",
       "     pass_rate_off  pass_rate_def  \n",
       "18        0.763636       0.557377  \n",
       "50        0.721739       0.619403  \n",
       "82        0.727778       0.585106  \n",
       "114       0.669291       0.600000  \n",
       "146       0.652597       0.619205  \n",
       "178            NaN            NaN  \n",
       "210       0.630854       0.622951  \n",
       "242       0.651442       0.603730  \n",
       "274       0.656716       0.591093  "
      ]
     },
     "execution_count": 11,
     "metadata": {},
     "output_type": "execute_result"
    }
   ],
   "source": [
    "# merge onto product\n",
    "cm = ind.merge(df_cs,how='left',on=['week','possessionTeam']).reset_index(drop=True)\n",
    "cm[cm['possessionTeam'] == 'LV']"
   ]
  },
  {
   "cell_type": "code",
   "execution_count": 12,
   "id": "41cc61b1",
   "metadata": {},
   "outputs": [],
   "source": [
    "# forward fill within each team\n",
    "cmg = cm.groupby(['possessionTeam']).ffill().reset_index(drop=True)\n",
    "cmg['possessionTeam'] = cm['possessionTeam']"
   ]
  },
  {
   "cell_type": "code",
   "execution_count": 13,
   "id": "0e127148",
   "metadata": {},
   "outputs": [
    {
     "data": {
      "text/plain": [
       "18"
      ]
     },
     "execution_count": 13,
     "metadata": {},
     "output_type": "execute_result"
    }
   ],
   "source": [
    "# check na ct filled\n",
    "len(cmg)-len(cm.dropna())"
   ]
  },
  {
   "cell_type": "code",
   "execution_count": 14,
   "id": "259282e5",
   "metadata": {},
   "outputs": [
    {
     "data": {
      "text/html": [
       "<div>\n",
       "<style scoped>\n",
       "    .dataframe tbody tr th:only-of-type {\n",
       "        vertical-align: middle;\n",
       "    }\n",
       "\n",
       "    .dataframe tbody tr th {\n",
       "        vertical-align: top;\n",
       "    }\n",
       "\n",
       "    .dataframe thead th {\n",
       "        text-align: right;\n",
       "    }\n",
       "</style>\n",
       "<table border=\"1\" class=\"dataframe\">\n",
       "  <thead>\n",
       "    <tr style=\"text-align: right;\">\n",
       "      <th></th>\n",
       "      <th>week</th>\n",
       "      <th>off_passes</th>\n",
       "      <th>off_snaps</th>\n",
       "      <th>def_passes</th>\n",
       "      <th>def_snaps</th>\n",
       "      <th>pass_rate_off</th>\n",
       "      <th>pass_rate_def</th>\n",
       "      <th>possessionTeam</th>\n",
       "    </tr>\n",
       "  </thead>\n",
       "  <tbody>\n",
       "    <tr>\n",
       "      <th>18</th>\n",
       "      <td>1</td>\n",
       "      <td>42.0</td>\n",
       "      <td>55.0</td>\n",
       "      <td>34.0</td>\n",
       "      <td>61.0</td>\n",
       "      <td>0.763636</td>\n",
       "      <td>0.557377</td>\n",
       "      <td>LV</td>\n",
       "    </tr>\n",
       "    <tr>\n",
       "      <th>50</th>\n",
       "      <td>2</td>\n",
       "      <td>83.0</td>\n",
       "      <td>115.0</td>\n",
       "      <td>83.0</td>\n",
       "      <td>134.0</td>\n",
       "      <td>0.721739</td>\n",
       "      <td>0.619403</td>\n",
       "      <td>LV</td>\n",
       "    </tr>\n",
       "    <tr>\n",
       "      <th>82</th>\n",
       "      <td>3</td>\n",
       "      <td>131.0</td>\n",
       "      <td>180.0</td>\n",
       "      <td>110.0</td>\n",
       "      <td>188.0</td>\n",
       "      <td>0.727778</td>\n",
       "      <td>0.585106</td>\n",
       "      <td>LV</td>\n",
       "    </tr>\n",
       "    <tr>\n",
       "      <th>114</th>\n",
       "      <td>4</td>\n",
       "      <td>170.0</td>\n",
       "      <td>254.0</td>\n",
       "      <td>141.0</td>\n",
       "      <td>235.0</td>\n",
       "      <td>0.669291</td>\n",
       "      <td>0.600000</td>\n",
       "      <td>LV</td>\n",
       "    </tr>\n",
       "    <tr>\n",
       "      <th>146</th>\n",
       "      <td>5</td>\n",
       "      <td>201.0</td>\n",
       "      <td>308.0</td>\n",
       "      <td>187.0</td>\n",
       "      <td>302.0</td>\n",
       "      <td>0.652597</td>\n",
       "      <td>0.619205</td>\n",
       "      <td>LV</td>\n",
       "    </tr>\n",
       "    <tr>\n",
       "      <th>178</th>\n",
       "      <td>6</td>\n",
       "      <td>201.0</td>\n",
       "      <td>308.0</td>\n",
       "      <td>187.0</td>\n",
       "      <td>302.0</td>\n",
       "      <td>0.652597</td>\n",
       "      <td>0.619205</td>\n",
       "      <td>LV</td>\n",
       "    </tr>\n",
       "    <tr>\n",
       "      <th>210</th>\n",
       "      <td>7</td>\n",
       "      <td>229.0</td>\n",
       "      <td>363.0</td>\n",
       "      <td>228.0</td>\n",
       "      <td>366.0</td>\n",
       "      <td>0.630854</td>\n",
       "      <td>0.622951</td>\n",
       "      <td>LV</td>\n",
       "    </tr>\n",
       "    <tr>\n",
       "      <th>242</th>\n",
       "      <td>8</td>\n",
       "      <td>271.0</td>\n",
       "      <td>416.0</td>\n",
       "      <td>259.0</td>\n",
       "      <td>429.0</td>\n",
       "      <td>0.651442</td>\n",
       "      <td>0.603730</td>\n",
       "      <td>LV</td>\n",
       "    </tr>\n",
       "    <tr>\n",
       "      <th>274</th>\n",
       "      <td>9</td>\n",
       "      <td>308.0</td>\n",
       "      <td>469.0</td>\n",
       "      <td>292.0</td>\n",
       "      <td>494.0</td>\n",
       "      <td>0.656716</td>\n",
       "      <td>0.591093</td>\n",
       "      <td>LV</td>\n",
       "    </tr>\n",
       "  </tbody>\n",
       "</table>\n",
       "</div>"
      ],
      "text/plain": [
       "     week  off_passes  off_snaps  def_passes  def_snaps  pass_rate_off  \\\n",
       "18      1        42.0       55.0        34.0       61.0       0.763636   \n",
       "50      2        83.0      115.0        83.0      134.0       0.721739   \n",
       "82      3       131.0      180.0       110.0      188.0       0.727778   \n",
       "114     4       170.0      254.0       141.0      235.0       0.669291   \n",
       "146     5       201.0      308.0       187.0      302.0       0.652597   \n",
       "178     6       201.0      308.0       187.0      302.0       0.652597   \n",
       "210     7       229.0      363.0       228.0      366.0       0.630854   \n",
       "242     8       271.0      416.0       259.0      429.0       0.651442   \n",
       "274     9       308.0      469.0       292.0      494.0       0.656716   \n",
       "\n",
       "     pass_rate_def possessionTeam  \n",
       "18        0.557377             LV  \n",
       "50        0.619403             LV  \n",
       "82        0.585106             LV  \n",
       "114       0.600000             LV  \n",
       "146       0.619205             LV  \n",
       "178       0.619205             LV  \n",
       "210       0.622951             LV  \n",
       "242       0.603730             LV  \n",
       "274       0.591093             LV  "
      ]
     },
     "execution_count": 14,
     "metadata": {},
     "output_type": "execute_result"
    }
   ],
   "source": [
    "cmg[cmg['possessionTeam'] == 'LV']"
   ]
  },
  {
   "cell_type": "markdown",
   "id": "99698dae",
   "metadata": {},
   "source": [
    "# Integrate pass rate to game-play level\n",
    "\n",
    "Above we have pass rate data for each team and week; now we bake it into plays. \n",
    "\n",
    "First we increase our df's 'week' value, such that we have a \"lookback\" of one"
   ]
  },
  {
   "cell_type": "code",
   "execution_count": 15,
   "id": "946ab917",
   "metadata": {},
   "outputs": [],
   "source": [
    "tp_df = cmg[['possessionTeam','week','pass_rate_off','pass_rate_def']].copy()\n",
    "tp_df['week'] = tp_df['week'] +1\n",
    "tp_df = tp_df.rename(columns={'possessionTeam':'team'})"
   ]
  },
  {
   "cell_type": "code",
   "execution_count": 16,
   "id": "9d724a90",
   "metadata": {},
   "outputs": [
    {
     "data": {
      "text/html": [
       "<div>\n",
       "<style scoped>\n",
       "    .dataframe tbody tr th:only-of-type {\n",
       "        vertical-align: middle;\n",
       "    }\n",
       "\n",
       "    .dataframe tbody tr th {\n",
       "        vertical-align: top;\n",
       "    }\n",
       "\n",
       "    .dataframe thead th {\n",
       "        text-align: right;\n",
       "    }\n",
       "</style>\n",
       "<table border=\"1\" class=\"dataframe\">\n",
       "  <thead>\n",
       "    <tr style=\"text-align: right;\">\n",
       "      <th></th>\n",
       "      <th>team</th>\n",
       "      <th>week</th>\n",
       "      <th>pass_rate_off</th>\n",
       "      <th>pass_rate_def</th>\n",
       "    </tr>\n",
       "  </thead>\n",
       "  <tbody>\n",
       "    <tr>\n",
       "      <th>0</th>\n",
       "      <td>ARI</td>\n",
       "      <td>2</td>\n",
       "      <td>0.684211</td>\n",
       "      <td>0.625</td>\n",
       "    </tr>\n",
       "  </tbody>\n",
       "</table>\n",
       "</div>"
      ],
      "text/plain": [
       "  team  week  pass_rate_off  pass_rate_def\n",
       "0  ARI     2       0.684211          0.625"
      ]
     },
     "execution_count": 16,
     "metadata": {},
     "output_type": "execute_result"
    }
   ],
   "source": [
    "tp_df.head(1)"
   ]
  },
  {
   "cell_type": "code",
   "execution_count": 17,
   "id": "033aff78",
   "metadata": {},
   "outputs": [
    {
     "data": {
      "text/plain": [
       "team             0\n",
       "week             0\n",
       "pass_rate_off    0\n",
       "pass_rate_def    0\n",
       "dtype: int64"
      ]
     },
     "execution_count": 17,
     "metadata": {},
     "output_type": "execute_result"
    }
   ],
   "source": [
    "tp_df.isna().sum()"
   ]
  },
  {
   "cell_type": "markdown",
   "id": "12796e88",
   "metadata": {},
   "source": [
    "### Merge in offensive, defensive pass rate data to play-by-play dataframe"
   ]
  },
  {
   "cell_type": "code",
   "execution_count": 18,
   "id": "054f2605",
   "metadata": {},
   "outputs": [],
   "source": [
    "# offense\n",
    "play_out = df_weeks.drop(columns={'isDropback'}).merge(tp_df[['team','pass_rate_off','week']], right_on=['team','week'],\n",
    "                                   how='left',left_on=['possessionTeam','week']).drop(columns=['possessionTeam','team'])"
   ]
  },
  {
   "cell_type": "code",
   "execution_count": 19,
   "id": "3b7c1362",
   "metadata": {},
   "outputs": [
    {
     "data": {
      "text/html": [
       "<div>\n",
       "<style scoped>\n",
       "    .dataframe tbody tr th:only-of-type {\n",
       "        vertical-align: middle;\n",
       "    }\n",
       "\n",
       "    .dataframe tbody tr th {\n",
       "        vertical-align: top;\n",
       "    }\n",
       "\n",
       "    .dataframe thead th {\n",
       "        text-align: right;\n",
       "    }\n",
       "</style>\n",
       "<table border=\"1\" class=\"dataframe\">\n",
       "  <thead>\n",
       "    <tr style=\"text-align: right;\">\n",
       "      <th></th>\n",
       "      <th>gameId</th>\n",
       "      <th>playId</th>\n",
       "      <th>defensiveTeam</th>\n",
       "      <th>week</th>\n",
       "      <th>pass_rate_off</th>\n",
       "    </tr>\n",
       "  </thead>\n",
       "  <tbody>\n",
       "    <tr>\n",
       "      <th>0</th>\n",
       "      <td>2022102302</td>\n",
       "      <td>2655</td>\n",
       "      <td>ATL</td>\n",
       "      <td>7</td>\n",
       "      <td>0.654054</td>\n",
       "    </tr>\n",
       "  </tbody>\n",
       "</table>\n",
       "</div>"
      ],
      "text/plain": [
       "       gameId  playId defensiveTeam  week  pass_rate_off\n",
       "0  2022102302    2655           ATL     7       0.654054"
      ]
     },
     "execution_count": 19,
     "metadata": {},
     "output_type": "execute_result"
    }
   ],
   "source": [
    "play_out.head(1)"
   ]
  },
  {
   "cell_type": "code",
   "execution_count": 20,
   "id": "117012b3",
   "metadata": {},
   "outputs": [],
   "source": [
    "play_out = play_out.merge(tp_df[['team','pass_rate_def','week']], right_on=['team','week'],\n",
    "                                   how='left',left_on=['defensiveTeam','week']).drop(columns=['defensiveTeam','team'])"
   ]
  },
  {
   "cell_type": "code",
   "execution_count": 21,
   "id": "f2e9720f",
   "metadata": {},
   "outputs": [
    {
     "data": {
      "text/html": [
       "<div>\n",
       "<style scoped>\n",
       "    .dataframe tbody tr th:only-of-type {\n",
       "        vertical-align: middle;\n",
       "    }\n",
       "\n",
       "    .dataframe tbody tr th {\n",
       "        vertical-align: top;\n",
       "    }\n",
       "\n",
       "    .dataframe thead th {\n",
       "        text-align: right;\n",
       "    }\n",
       "</style>\n",
       "<table border=\"1\" class=\"dataframe\">\n",
       "  <thead>\n",
       "    <tr style=\"text-align: right;\">\n",
       "      <th></th>\n",
       "      <th>gameId</th>\n",
       "      <th>playId</th>\n",
       "      <th>pass_rate_off</th>\n",
       "      <th>pass_rate_def</th>\n",
       "    </tr>\n",
       "  </thead>\n",
       "  <tbody>\n",
       "    <tr>\n",
       "      <th>0</th>\n",
       "      <td>2022102302</td>\n",
       "      <td>2655</td>\n",
       "      <td>0.654054</td>\n",
       "      <td>0.648794</td>\n",
       "    </tr>\n",
       "  </tbody>\n",
       "</table>\n",
       "</div>"
      ],
      "text/plain": [
       "       gameId  playId  pass_rate_off  pass_rate_def\n",
       "0  2022102302    2655       0.654054       0.648794"
      ]
     },
     "execution_count": 21,
     "metadata": {},
     "output_type": "execute_result"
    }
   ],
   "source": [
    "prate_out = play_out.drop(columns=['week'])\n",
    "prate_out.head(1)"
   ]
  },
  {
   "cell_type": "markdown",
   "id": "b744d6ec",
   "metadata": {
    "papermill": {
     "duration": 0.018378,
     "end_time": "2024-10-21T02:00:50.451619",
     "exception": false,
     "start_time": "2024-10-21T02:00:50.433241",
     "status": "completed"
    },
    "tags": []
   },
   "source": [
    "# Calculate player-weighted pass tendencies\n",
    "\n",
    "We start by getting each player's weekly snap counts:"
   ]
  },
  {
   "cell_type": "code",
   "execution_count": 22,
   "id": "6f9dec06",
   "metadata": {},
   "outputs": [],
   "source": [
    "# Player-play data, flagged for if it's a dropback\n",
    "db_flagged = df_player_play.merge(df_play[['playId','gameId','isDropback']],how='left',\n",
    "                     on=['playId','gameId'])\n",
    "\n",
    "# Add in week info to each play\n",
    "db_weeks_id = db_flagged[['gameId','playId','nflId','isDropback','teamAbbr']].merge(df_weeks[['gameId','week']].drop_duplicates('gameId'),how='left',on=['gameId'])\n",
    "\n",
    "# Get weekly pass counts for each player\n",
    "pass_cts = db_weeks_id.groupby(['nflId','week','teamAbbr']).agg(pass_ct=('isDropback','sum'),\n",
    "                                                     snap_ct=('isDropback','count')).reset_index()\n"
   ]
  },
  {
   "cell_type": "code",
   "execution_count": 23,
   "id": "83a7e94c",
   "metadata": {
    "execution": {
     "iopub.execute_input": "2024-10-21T02:00:50.767300Z",
     "iopub.status.busy": "2024-10-21T02:00:50.766894Z",
     "iopub.status.idle": "2024-10-21T02:00:50.779541Z",
     "shell.execute_reply": "2024-10-21T02:00:50.778456Z"
    },
    "papermill": {
     "duration": 0.035443,
     "end_time": "2024-10-21T02:00:50.782245",
     "exception": false,
     "start_time": "2024-10-21T02:00:50.746802",
     "status": "completed"
    },
    "tags": []
   },
   "outputs": [
    {
     "data": {
      "text/html": [
       "<div>\n",
       "<style scoped>\n",
       "    .dataframe tbody tr th:only-of-type {\n",
       "        vertical-align: middle;\n",
       "    }\n",
       "\n",
       "    .dataframe tbody tr th {\n",
       "        vertical-align: top;\n",
       "    }\n",
       "\n",
       "    .dataframe thead th {\n",
       "        text-align: right;\n",
       "    }\n",
       "</style>\n",
       "<table border=\"1\" class=\"dataframe\">\n",
       "  <thead>\n",
       "    <tr style=\"text-align: right;\">\n",
       "      <th></th>\n",
       "      <th>nflId</th>\n",
       "      <th>week</th>\n",
       "      <th>teamAbbr</th>\n",
       "      <th>pass_ct</th>\n",
       "      <th>snap_ct</th>\n",
       "    </tr>\n",
       "  </thead>\n",
       "  <tbody>\n",
       "    <tr>\n",
       "      <th>0</th>\n",
       "      <td>25511</td>\n",
       "      <td>1</td>\n",
       "      <td>TB</td>\n",
       "      <td>26</td>\n",
       "      <td>58</td>\n",
       "    </tr>\n",
       "    <tr>\n",
       "      <th>1</th>\n",
       "      <td>25511</td>\n",
       "      <td>2</td>\n",
       "      <td>TB</td>\n",
       "      <td>35</td>\n",
       "      <td>63</td>\n",
       "    </tr>\n",
       "    <tr>\n",
       "      <th>2</th>\n",
       "      <td>25511</td>\n",
       "      <td>3</td>\n",
       "      <td>TB</td>\n",
       "      <td>42</td>\n",
       "      <td>56</td>\n",
       "    </tr>\n",
       "  </tbody>\n",
       "</table>\n",
       "</div>"
      ],
      "text/plain": [
       "   nflId  week teamAbbr  pass_ct  snap_ct\n",
       "0  25511     1       TB       26       58\n",
       "1  25511     2       TB       35       63\n",
       "2  25511     3       TB       42       56"
      ]
     },
     "execution_count": 23,
     "metadata": {},
     "output_type": "execute_result"
    }
   ],
   "source": [
    "pass_cts.head(3)"
   ]
  },
  {
   "cell_type": "markdown",
   "id": "500c6c26",
   "metadata": {},
   "source": [
    "# Get rolling snapvalues for players\n",
    "\n",
    "We aggregate on player for pass and snap count, getting sum first\n",
    "\n",
    "This lets us calculate mean-snap ratios if we divide by week"
   ]
  },
  {
   "cell_type": "code",
   "execution_count": 24,
   "id": "da059920",
   "metadata": {},
   "outputs": [],
   "source": [
    "pass_cts.sort_values(by=['nflId','week'],inplace=True)"
   ]
  },
  {
   "cell_type": "code",
   "execution_count": 25,
   "id": "8a277745",
   "metadata": {},
   "outputs": [],
   "source": [
    "# get cumulative sum\n",
    "cum_snap_df = pd.concat([pass_cts.drop(columns=['pass_ct','snap_ct']), \n",
    "                       pass_cts.groupby(['nflId']).cumsum().drop(columns=['week'])],axis=1)\n",
    "                       "
   ]
  },
  {
   "cell_type": "code",
   "execution_count": 26,
   "id": "76d15e1d",
   "metadata": {},
   "outputs": [
    {
     "data": {
      "text/html": [
       "<div>\n",
       "<style scoped>\n",
       "    .dataframe tbody tr th:only-of-type {\n",
       "        vertical-align: middle;\n",
       "    }\n",
       "\n",
       "    .dataframe tbody tr th {\n",
       "        vertical-align: top;\n",
       "    }\n",
       "\n",
       "    .dataframe thead th {\n",
       "        text-align: right;\n",
       "    }\n",
       "</style>\n",
       "<table border=\"1\" class=\"dataframe\">\n",
       "  <thead>\n",
       "    <tr style=\"text-align: right;\">\n",
       "      <th></th>\n",
       "      <th>nflId</th>\n",
       "      <th>week</th>\n",
       "      <th>teamAbbr</th>\n",
       "      <th>pass_ct</th>\n",
       "      <th>snap_ct</th>\n",
       "    </tr>\n",
       "  </thead>\n",
       "  <tbody>\n",
       "    <tr>\n",
       "      <th>0</th>\n",
       "      <td>25511</td>\n",
       "      <td>1</td>\n",
       "      <td>TB</td>\n",
       "      <td>26</td>\n",
       "      <td>58</td>\n",
       "    </tr>\n",
       "    <tr>\n",
       "      <th>1</th>\n",
       "      <td>25511</td>\n",
       "      <td>2</td>\n",
       "      <td>TB</td>\n",
       "      <td>61</td>\n",
       "      <td>121</td>\n",
       "    </tr>\n",
       "    <tr>\n",
       "      <th>2</th>\n",
       "      <td>25511</td>\n",
       "      <td>3</td>\n",
       "      <td>TB</td>\n",
       "      <td>103</td>\n",
       "      <td>177</td>\n",
       "    </tr>\n",
       "  </tbody>\n",
       "</table>\n",
       "</div>"
      ],
      "text/plain": [
       "   nflId  week teamAbbr  pass_ct  snap_ct\n",
       "0  25511     1       TB       26       58\n",
       "1  25511     2       TB       61      121\n",
       "2  25511     3       TB      103      177"
      ]
     },
     "execution_count": 26,
     "metadata": {},
     "output_type": "execute_result"
    }
   ],
   "source": [
    "cum_snap_df.head(3)"
   ]
  },
  {
   "cell_type": "markdown",
   "id": "bc243912",
   "metadata": {},
   "source": [
    "### Forward-fill player snap counts to account for bye, other issues\n",
    "\n",
    "Same cartesian product/merge shenanigans as usual"
   ]
  },
  {
   "cell_type": "code",
   "execution_count": 27,
   "id": "128e0517",
   "metadata": {},
   "outputs": [],
   "source": [
    "# get cartesian product\n",
    "cs_ind = pd.DataFrame(index=pd.MultiIndex.from_product([range(1,10),cum_snap_df.nflId.unique()])).reset_index().rename(columns={'level_0':'week','level_1':'nflId'})\n",
    "cs_ind = cs_ind.sort_values(by=['nflId','week'],ascending=True)"
   ]
  },
  {
   "cell_type": "code",
   "execution_count": 28,
   "id": "e071c6f6",
   "metadata": {},
   "outputs": [
    {
     "data": {
      "text/html": [
       "<div>\n",
       "<style scoped>\n",
       "    .dataframe tbody tr th:only-of-type {\n",
       "        vertical-align: middle;\n",
       "    }\n",
       "\n",
       "    .dataframe tbody tr th {\n",
       "        vertical-align: top;\n",
       "    }\n",
       "\n",
       "    .dataframe thead th {\n",
       "        text-align: right;\n",
       "    }\n",
       "</style>\n",
       "<table border=\"1\" class=\"dataframe\">\n",
       "  <thead>\n",
       "    <tr style=\"text-align: right;\">\n",
       "      <th></th>\n",
       "      <th>week</th>\n",
       "      <th>nflId</th>\n",
       "    </tr>\n",
       "  </thead>\n",
       "  <tbody>\n",
       "    <tr>\n",
       "      <th>0</th>\n",
       "      <td>1</td>\n",
       "      <td>25511</td>\n",
       "    </tr>\n",
       "    <tr>\n",
       "      <th>1697</th>\n",
       "      <td>2</td>\n",
       "      <td>25511</td>\n",
       "    </tr>\n",
       "  </tbody>\n",
       "</table>\n",
       "</div>"
      ],
      "text/plain": [
       "      week  nflId\n",
       "0        1  25511\n",
       "1697     2  25511"
      ]
     },
     "execution_count": 28,
     "metadata": {},
     "output_type": "execute_result"
    }
   ],
   "source": [
    "cs_ind.head(2)"
   ]
  },
  {
   "cell_type": "markdown",
   "id": "cc90b75a",
   "metadata": {},
   "source": [
    "#### Merge into cartesian product, forward fill player pass/snap counts:"
   ]
  },
  {
   "cell_type": "code",
   "execution_count": 29,
   "id": "262f61b6",
   "metadata": {},
   "outputs": [
    {
     "data": {
      "text/html": [
       "<div>\n",
       "<style scoped>\n",
       "    .dataframe tbody tr th:only-of-type {\n",
       "        vertical-align: middle;\n",
       "    }\n",
       "\n",
       "    .dataframe tbody tr th {\n",
       "        vertical-align: top;\n",
       "    }\n",
       "\n",
       "    .dataframe thead th {\n",
       "        text-align: right;\n",
       "    }\n",
       "</style>\n",
       "<table border=\"1\" class=\"dataframe\">\n",
       "  <thead>\n",
       "    <tr style=\"text-align: right;\">\n",
       "      <th></th>\n",
       "      <th>week</th>\n",
       "      <th>nflId</th>\n",
       "      <th>teamAbbr</th>\n",
       "      <th>pass_ct</th>\n",
       "      <th>snap_ct</th>\n",
       "    </tr>\n",
       "  </thead>\n",
       "  <tbody>\n",
       "    <tr>\n",
       "      <th>45</th>\n",
       "      <td>1</td>\n",
       "      <td>33099</td>\n",
       "      <td>NYJ</td>\n",
       "      <td>57.0</td>\n",
       "      <td>72.0</td>\n",
       "    </tr>\n",
       "    <tr>\n",
       "      <th>46</th>\n",
       "      <td>2</td>\n",
       "      <td>33099</td>\n",
       "      <td>NYJ</td>\n",
       "      <td>102.0</td>\n",
       "      <td>134.0</td>\n",
       "    </tr>\n",
       "    <tr>\n",
       "      <th>47</th>\n",
       "      <td>3</td>\n",
       "      <td>33099</td>\n",
       "      <td>NYJ</td>\n",
       "      <td>156.0</td>\n",
       "      <td>208.0</td>\n",
       "    </tr>\n",
       "    <tr>\n",
       "      <th>48</th>\n",
       "      <td>4</td>\n",
       "      <td>33099</td>\n",
       "      <td>NaN</td>\n",
       "      <td>NaN</td>\n",
       "      <td>NaN</td>\n",
       "    </tr>\n",
       "    <tr>\n",
       "      <th>49</th>\n",
       "      <td>5</td>\n",
       "      <td>33099</td>\n",
       "      <td>NaN</td>\n",
       "      <td>NaN</td>\n",
       "      <td>NaN</td>\n",
       "    </tr>\n",
       "    <tr>\n",
       "      <th>50</th>\n",
       "      <td>6</td>\n",
       "      <td>33099</td>\n",
       "      <td>NaN</td>\n",
       "      <td>NaN</td>\n",
       "      <td>NaN</td>\n",
       "    </tr>\n",
       "    <tr>\n",
       "      <th>51</th>\n",
       "      <td>7</td>\n",
       "      <td>33099</td>\n",
       "      <td>NaN</td>\n",
       "      <td>NaN</td>\n",
       "      <td>NaN</td>\n",
       "    </tr>\n",
       "    <tr>\n",
       "      <th>52</th>\n",
       "      <td>8</td>\n",
       "      <td>33099</td>\n",
       "      <td>NaN</td>\n",
       "      <td>NaN</td>\n",
       "      <td>NaN</td>\n",
       "    </tr>\n",
       "    <tr>\n",
       "      <th>53</th>\n",
       "      <td>9</td>\n",
       "      <td>33099</td>\n",
       "      <td>NaN</td>\n",
       "      <td>NaN</td>\n",
       "      <td>NaN</td>\n",
       "    </tr>\n",
       "  </tbody>\n",
       "</table>\n",
       "</div>"
      ],
      "text/plain": [
       "    week  nflId teamAbbr  pass_ct  snap_ct\n",
       "45     1  33099      NYJ     57.0     72.0\n",
       "46     2  33099      NYJ    102.0    134.0\n",
       "47     3  33099      NYJ    156.0    208.0\n",
       "48     4  33099      NaN      NaN      NaN\n",
       "49     5  33099      NaN      NaN      NaN\n",
       "50     6  33099      NaN      NaN      NaN\n",
       "51     7  33099      NaN      NaN      NaN\n",
       "52     8  33099      NaN      NaN      NaN\n",
       "53     9  33099      NaN      NaN      NaN"
      ]
     },
     "execution_count": 29,
     "metadata": {},
     "output_type": "execute_result"
    }
   ],
   "source": [
    "# merge onto cartesian product to get each player-week combo\n",
    "csm = cs_ind.merge(cum_snap_df,how='left',on=['week','nflId'])\n",
    "\n",
    "csm[csm['nflId'] == 33099]"
   ]
  },
  {
   "cell_type": "code",
   "execution_count": 30,
   "id": "f27478bb",
   "metadata": {},
   "outputs": [
    {
     "data": {
      "text/html": [
       "<div>\n",
       "<style scoped>\n",
       "    .dataframe tbody tr th:only-of-type {\n",
       "        vertical-align: middle;\n",
       "    }\n",
       "\n",
       "    .dataframe tbody tr th {\n",
       "        vertical-align: top;\n",
       "    }\n",
       "\n",
       "    .dataframe thead th {\n",
       "        text-align: right;\n",
       "    }\n",
       "</style>\n",
       "<table border=\"1\" class=\"dataframe\">\n",
       "  <thead>\n",
       "    <tr style=\"text-align: right;\">\n",
       "      <th></th>\n",
       "      <th>nflId</th>\n",
       "      <th>week</th>\n",
       "      <th>teamAbbr</th>\n",
       "      <th>pass_ratio</th>\n",
       "    </tr>\n",
       "  </thead>\n",
       "  <tbody>\n",
       "    <tr>\n",
       "      <th>45</th>\n",
       "      <td>33099</td>\n",
       "      <td>1</td>\n",
       "      <td>NYJ</td>\n",
       "      <td>0.791667</td>\n",
       "    </tr>\n",
       "    <tr>\n",
       "      <th>46</th>\n",
       "      <td>33099</td>\n",
       "      <td>2</td>\n",
       "      <td>NYJ</td>\n",
       "      <td>0.761194</td>\n",
       "    </tr>\n",
       "    <tr>\n",
       "      <th>47</th>\n",
       "      <td>33099</td>\n",
       "      <td>3</td>\n",
       "      <td>NYJ</td>\n",
       "      <td>0.750000</td>\n",
       "    </tr>\n",
       "    <tr>\n",
       "      <th>48</th>\n",
       "      <td>33099</td>\n",
       "      <td>4</td>\n",
       "      <td>NYJ</td>\n",
       "      <td>0.750000</td>\n",
       "    </tr>\n",
       "    <tr>\n",
       "      <th>49</th>\n",
       "      <td>33099</td>\n",
       "      <td>5</td>\n",
       "      <td>NYJ</td>\n",
       "      <td>0.750000</td>\n",
       "    </tr>\n",
       "    <tr>\n",
       "      <th>50</th>\n",
       "      <td>33099</td>\n",
       "      <td>6</td>\n",
       "      <td>NYJ</td>\n",
       "      <td>0.750000</td>\n",
       "    </tr>\n",
       "    <tr>\n",
       "      <th>51</th>\n",
       "      <td>33099</td>\n",
       "      <td>7</td>\n",
       "      <td>NYJ</td>\n",
       "      <td>0.750000</td>\n",
       "    </tr>\n",
       "    <tr>\n",
       "      <th>52</th>\n",
       "      <td>33099</td>\n",
       "      <td>8</td>\n",
       "      <td>NYJ</td>\n",
       "      <td>0.750000</td>\n",
       "    </tr>\n",
       "    <tr>\n",
       "      <th>53</th>\n",
       "      <td>33099</td>\n",
       "      <td>9</td>\n",
       "      <td>NYJ</td>\n",
       "      <td>0.750000</td>\n",
       "    </tr>\n",
       "  </tbody>\n",
       "</table>\n",
       "</div>"
      ],
      "text/plain": [
       "    nflId  week teamAbbr  pass_ratio\n",
       "45  33099     1      NYJ    0.791667\n",
       "46  33099     2      NYJ    0.761194\n",
       "47  33099     3      NYJ    0.750000\n",
       "48  33099     4      NYJ    0.750000\n",
       "49  33099     5      NYJ    0.750000\n",
       "50  33099     6      NYJ    0.750000\n",
       "51  33099     7      NYJ    0.750000\n",
       "52  33099     8      NYJ    0.750000\n",
       "53  33099     9      NYJ    0.750000"
      ]
     },
     "execution_count": 30,
     "metadata": {},
     "output_type": "execute_result"
    }
   ],
   "source": [
    "# group by player, forward fill\n",
    "csg = pd.concat([csm['nflId'],csm.groupby(['nflId']).ffill().reset_index(drop=True)],axis=1)\n",
    "\n",
    "# get ratio\n",
    "csg['pass_ratio'] = csg['pass_ct']/csg['snap_ct']\n",
    "csg = csg.drop(columns=['pass_ct','snap_ct'])\n",
    "\n",
    "csg[csg['nflId'] == 33099]"
   ]
  },
  {
   "cell_type": "markdown",
   "id": "7f146013",
   "metadata": {},
   "source": [
    "### Merge player cumulative pass ratio into game-play data\n",
    "\n",
    "We use ratio here b/c a snap-mean of ratios upweights specialist (third tackle/te) snaps\n"
   ]
  },
  {
   "cell_type": "code",
   "execution_count": 31,
   "id": "7464b10b",
   "metadata": {},
   "outputs": [],
   "source": [
    "play_trunc = df_play[['gameId','playId','possessionTeam','defensiveTeam']]"
   ]
  },
  {
   "cell_type": "code",
   "execution_count": 32,
   "id": "09467867",
   "metadata": {},
   "outputs": [
    {
     "data": {
      "text/html": [
       "<div>\n",
       "<style scoped>\n",
       "    .dataframe tbody tr th:only-of-type {\n",
       "        vertical-align: middle;\n",
       "    }\n",
       "\n",
       "    .dataframe tbody tr th {\n",
       "        vertical-align: top;\n",
       "    }\n",
       "\n",
       "    .dataframe thead th {\n",
       "        text-align: right;\n",
       "    }\n",
       "</style>\n",
       "<table border=\"1\" class=\"dataframe\">\n",
       "  <thead>\n",
       "    <tr style=\"text-align: right;\">\n",
       "      <th></th>\n",
       "      <th>nflId</th>\n",
       "      <th>week</th>\n",
       "      <th>teamAbbr</th>\n",
       "      <th>pass_ratio</th>\n",
       "    </tr>\n",
       "  </thead>\n",
       "  <tbody>\n",
       "    <tr>\n",
       "      <th>0</th>\n",
       "      <td>25511</td>\n",
       "      <td>2</td>\n",
       "      <td>TB</td>\n",
       "      <td>0.448276</td>\n",
       "    </tr>\n",
       "    <tr>\n",
       "      <th>1</th>\n",
       "      <td>25511</td>\n",
       "      <td>3</td>\n",
       "      <td>TB</td>\n",
       "      <td>0.504132</td>\n",
       "    </tr>\n",
       "  </tbody>\n",
       "</table>\n",
       "</div>"
      ],
      "text/plain": [
       "   nflId  week teamAbbr  pass_ratio\n",
       "0  25511     2       TB    0.448276\n",
       "1  25511     3       TB    0.504132"
      ]
     },
     "execution_count": 32,
     "metadata": {},
     "output_type": "execute_result"
    }
   ],
   "source": [
    "# downshift week\n",
    "csg['week'] += 1\n",
    "csg.head(2)"
   ]
  },
  {
   "cell_type": "code",
   "execution_count": 33,
   "id": "610aabea",
   "metadata": {},
   "outputs": [],
   "source": [
    "# merge in player data\n",
    "pt_pre = db_weeks_id.merge(play_trunc,how='left',on=['gameId','playId'])\n",
    "pt_df = pt_pre.merge(csg.drop(columns=['teamAbbr']),how='left',on=['week','nflId']).drop(columns=['isDropback'])"
   ]
  },
  {
   "cell_type": "markdown",
   "id": "abede1a4",
   "metadata": {},
   "source": [
    ".58 is the mean of pass rates for 2021 across all teams, so it's a player's default expectation:"
   ]
  },
  {
   "cell_type": "code",
   "execution_count": 34,
   "id": "7c2559a4",
   "metadata": {},
   "outputs": [],
   "source": [
    "pt_df['pass_ratio'] = pt_df['pass_ratio'].fillna(.58)"
   ]
  },
  {
   "cell_type": "code",
   "execution_count": 35,
   "id": "443b7b86",
   "metadata": {},
   "outputs": [
    {
     "data": {
      "text/html": [
       "<div>\n",
       "<style scoped>\n",
       "    .dataframe tbody tr th:only-of-type {\n",
       "        vertical-align: middle;\n",
       "    }\n",
       "\n",
       "    .dataframe tbody tr th {\n",
       "        vertical-align: top;\n",
       "    }\n",
       "\n",
       "    .dataframe thead th {\n",
       "        text-align: right;\n",
       "    }\n",
       "</style>\n",
       "<table border=\"1\" class=\"dataframe\">\n",
       "  <thead>\n",
       "    <tr style=\"text-align: right;\">\n",
       "      <th></th>\n",
       "      <th>gameId</th>\n",
       "      <th>playId</th>\n",
       "      <th>nflId</th>\n",
       "      <th>teamAbbr</th>\n",
       "      <th>week</th>\n",
       "      <th>possessionTeam</th>\n",
       "      <th>defensiveTeam</th>\n",
       "      <th>pass_ratio</th>\n",
       "    </tr>\n",
       "  </thead>\n",
       "  <tbody>\n",
       "    <tr>\n",
       "      <th>229385</th>\n",
       "      <td>2022101607</td>\n",
       "      <td>560</td>\n",
       "      <td>42377</td>\n",
       "      <td>TB</td>\n",
       "      <td>6</td>\n",
       "      <td>TB</td>\n",
       "      <td>PIT</td>\n",
       "      <td>0.743056</td>\n",
       "    </tr>\n",
       "    <tr>\n",
       "      <th>241348</th>\n",
       "      <td>2022101611</td>\n",
       "      <td>2301</td>\n",
       "      <td>54489</td>\n",
       "      <td>DAL</td>\n",
       "      <td>6</td>\n",
       "      <td>DAL</td>\n",
       "      <td>PHI</td>\n",
       "      <td>0.539286</td>\n",
       "    </tr>\n",
       "    <tr>\n",
       "      <th>24172</th>\n",
       "      <td>2022091107</td>\n",
       "      <td>2791</td>\n",
       "      <td>46226</td>\n",
       "      <td>NYJ</td>\n",
       "      <td>1</td>\n",
       "      <td>NYJ</td>\n",
       "      <td>BAL</td>\n",
       "      <td>0.580000</td>\n",
       "    </tr>\n",
       "  </tbody>\n",
       "</table>\n",
       "</div>"
      ],
      "text/plain": [
       "            gameId  playId  nflId teamAbbr  week possessionTeam defensiveTeam  \\\n",
       "229385  2022101607     560  42377       TB     6             TB           PIT   \n",
       "241348  2022101611    2301  54489      DAL     6            DAL           PHI   \n",
       "24172   2022091107    2791  46226      NYJ     1            NYJ           BAL   \n",
       "\n",
       "        pass_ratio  \n",
       "229385    0.743056  \n",
       "241348    0.539286  \n",
       "24172     0.580000  "
      ]
     },
     "execution_count": 35,
     "metadata": {},
     "output_type": "execute_result"
    }
   ],
   "source": [
    "pt_df.sample(3)"
   ]
  },
  {
   "cell_type": "markdown",
   "id": "91e35f44",
   "metadata": {},
   "source": [
    "We can subset offensive plays to where teamAbbr matches possessionTeam, and inverse for defensive"
   ]
  },
  {
   "cell_type": "code",
   "execution_count": 36,
   "id": "e71aa0f8",
   "metadata": {},
   "outputs": [],
   "source": [
    "pt_off = pt_df[pt_df['teamAbbr'] == pt_df['possessionTeam']].drop(columns=['teamAbbr']).drop(columns=['defensiveTeam'])\n",
    "pt_def = pt_df[pt_df['teamAbbr'] == pt_df['defensiveTeam']].drop(columns=['teamAbbr']).drop(columns=['possessionTeam'])"
   ]
  },
  {
   "cell_type": "code",
   "execution_count": 37,
   "id": "fa8c7c5c",
   "metadata": {},
   "outputs": [
    {
     "data": {
      "text/html": [
       "<div>\n",
       "<style scoped>\n",
       "    .dataframe tbody tr th:only-of-type {\n",
       "        vertical-align: middle;\n",
       "    }\n",
       "\n",
       "    .dataframe tbody tr th {\n",
       "        vertical-align: top;\n",
       "    }\n",
       "\n",
       "    .dataframe thead th {\n",
       "        text-align: right;\n",
       "    }\n",
       "</style>\n",
       "<table border=\"1\" class=\"dataframe\">\n",
       "  <thead>\n",
       "    <tr style=\"text-align: right;\">\n",
       "      <th></th>\n",
       "      <th>gameId</th>\n",
       "      <th>playId</th>\n",
       "      <th>nflId</th>\n",
       "      <th>week</th>\n",
       "      <th>defensiveTeam</th>\n",
       "      <th>pass_ratio</th>\n",
       "    </tr>\n",
       "  </thead>\n",
       "  <tbody>\n",
       "    <tr>\n",
       "      <th>11</th>\n",
       "      <td>2022090800</td>\n",
       "      <td>56</td>\n",
       "      <td>38577</td>\n",
       "      <td>1</td>\n",
       "      <td>LA</td>\n",
       "      <td>0.58</td>\n",
       "    </tr>\n",
       "  </tbody>\n",
       "</table>\n",
       "</div>"
      ],
      "text/plain": [
       "        gameId  playId  nflId  week defensiveTeam  pass_ratio\n",
       "11  2022090800      56  38577     1            LA        0.58"
      ]
     },
     "execution_count": 37,
     "metadata": {},
     "output_type": "execute_result"
    }
   ],
   "source": [
    "pt_def.head(1)"
   ]
  },
  {
   "cell_type": "markdown",
   "id": "0323534a",
   "metadata": {},
   "source": [
    "## Aggregate to team level, doing offense/defense individually\n",
    "\n",
    "We want to get defensive & offensive xpass ratios individually"
   ]
  },
  {
   "cell_type": "code",
   "execution_count": 38,
   "id": "671e3199",
   "metadata": {},
   "outputs": [],
   "source": [
    "# aggregate for off/def\n",
    "pog = pt_off.groupby(['possessionTeam','week','gameId','playId'])['pass_ratio'].mean().reset_index().rename(columns={'pass_ratio':'off_xpass'})\n",
    "pdg = pt_def.groupby(['defensiveTeam','week','gameId','playId'])['pass_ratio'].mean().reset_index().rename(columns={'pass_ratio':'def_xpass'})\n",
    "\n",
    "# merge\n",
    "xpass_out = pog.merge(pdg,how='left',on=['gameId','playId','week'])[['gameId','playId','off_xpass','def_xpass']]"
   ]
  },
  {
   "cell_type": "code",
   "execution_count": 39,
   "id": "5513da22",
   "metadata": {},
   "outputs": [
    {
     "data": {
      "text/html": [
       "<div>\n",
       "<style scoped>\n",
       "    .dataframe tbody tr th:only-of-type {\n",
       "        vertical-align: middle;\n",
       "    }\n",
       "\n",
       "    .dataframe tbody tr th {\n",
       "        vertical-align: top;\n",
       "    }\n",
       "\n",
       "    .dataframe thead th {\n",
       "        text-align: right;\n",
       "    }\n",
       "</style>\n",
       "<table border=\"1\" class=\"dataframe\">\n",
       "  <thead>\n",
       "    <tr style=\"text-align: right;\">\n",
       "      <th></th>\n",
       "      <th>gameId</th>\n",
       "      <th>playId</th>\n",
       "      <th>off_xpass</th>\n",
       "      <th>def_xpass</th>\n",
       "    </tr>\n",
       "  </thead>\n",
       "  <tbody>\n",
       "    <tr>\n",
       "      <th>0</th>\n",
       "      <td>2022091110</td>\n",
       "      <td>347</td>\n",
       "      <td>0.58</td>\n",
       "      <td>0.58</td>\n",
       "    </tr>\n",
       "  </tbody>\n",
       "</table>\n",
       "</div>"
      ],
      "text/plain": [
       "       gameId  playId  off_xpass  def_xpass\n",
       "0  2022091110     347       0.58       0.58"
      ]
     },
     "execution_count": 39,
     "metadata": {},
     "output_type": "execute_result"
    }
   ],
   "source": [
    "xpass_out.head(1)"
   ]
  },
  {
   "cell_type": "code",
   "execution_count": 40,
   "id": "57a0de97",
   "metadata": {},
   "outputs": [
    {
     "data": {
      "text/plain": [
       "gameId       0\n",
       "playId       0\n",
       "off_xpass    0\n",
       "def_xpass    0\n",
       "dtype: int64"
      ]
     },
     "execution_count": 40,
     "metadata": {},
     "output_type": "execute_result"
    }
   ],
   "source": [
    "xpass_out.isna().sum()"
   ]
  },
  {
   "cell_type": "code",
   "execution_count": 41,
   "id": "1878e55b",
   "metadata": {},
   "outputs": [
    {
     "data": {
      "text/html": [
       "<div>\n",
       "<style scoped>\n",
       "    .dataframe tbody tr th:only-of-type {\n",
       "        vertical-align: middle;\n",
       "    }\n",
       "\n",
       "    .dataframe tbody tr th {\n",
       "        vertical-align: top;\n",
       "    }\n",
       "\n",
       "    .dataframe thead th {\n",
       "        text-align: right;\n",
       "    }\n",
       "</style>\n",
       "<table border=\"1\" class=\"dataframe\">\n",
       "  <thead>\n",
       "    <tr style=\"text-align: right;\">\n",
       "      <th></th>\n",
       "      <th>gameId</th>\n",
       "      <th>playId</th>\n",
       "      <th>pass_rate_off</th>\n",
       "      <th>pass_rate_def</th>\n",
       "    </tr>\n",
       "  </thead>\n",
       "  <tbody>\n",
       "    <tr>\n",
       "      <th>0</th>\n",
       "      <td>2022102302</td>\n",
       "      <td>2655</td>\n",
       "      <td>0.654054</td>\n",
       "      <td>0.648794</td>\n",
       "    </tr>\n",
       "  </tbody>\n",
       "</table>\n",
       "</div>"
      ],
      "text/plain": [
       "       gameId  playId  pass_rate_off  pass_rate_def\n",
       "0  2022102302    2655       0.654054       0.648794"
      ]
     },
     "execution_count": 41,
     "metadata": {},
     "output_type": "execute_result"
    }
   ],
   "source": [
    "prate_out.head(1)"
   ]
  },
  {
   "cell_type": "code",
   "execution_count": 42,
   "id": "0c249476",
   "metadata": {
    "execution": {
     "iopub.execute_input": "2024-10-21T02:01:00.985961Z",
     "iopub.status.busy": "2024-10-21T02:01:00.985530Z",
     "iopub.status.idle": "2024-10-21T02:01:01.096261Z",
     "shell.execute_reply": "2024-10-21T02:01:01.095152Z"
    },
    "papermill": {
     "duration": 0.140367,
     "end_time": "2024-10-21T02:01:01.099383",
     "exception": false,
     "start_time": "2024-10-21T02:01:00.959016",
     "status": "completed"
    },
    "tags": []
   },
   "outputs": [],
   "source": [
    "#prate_out.to_csv(os.path.join(root_dir, 'data/team_pass_rates.csv'))"
   ]
  },
  {
   "cell_type": "code",
   "execution_count": 43,
   "id": "e0611d13",
   "metadata": {
    "execution": {
     "iopub.execute_input": "2024-10-21T02:01:01.150336Z",
     "iopub.status.busy": "2024-10-21T02:01:01.149899Z",
     "iopub.status.idle": "2024-10-21T02:01:01.259391Z",
     "shell.execute_reply": "2024-10-21T02:01:01.257226Z"
    },
    "papermill": {
     "duration": 0.13917,
     "end_time": "2024-10-21T02:01:01.263461",
     "exception": false,
     "start_time": "2024-10-21T02:01:01.124291",
     "status": "completed"
    },
    "tags": []
   },
   "outputs": [],
   "source": [
    "#xpass_out.to_csv(os.path.join(root_dir, 'data/team_xpass_ratios.csv'))"
   ]
  },
  {
   "cell_type": "code",
   "execution_count": null,
   "id": "0dd09f5e",
   "metadata": {
    "papermill": {
     "duration": 0.031056,
     "end_time": "2024-10-21T02:01:01.333913",
     "exception": false,
     "start_time": "2024-10-21T02:01:01.302857",
     "status": "completed"
    },
    "tags": []
   },
   "outputs": [],
   "source": []
  },
  {
   "cell_type": "code",
   "execution_count": null,
   "id": "283e26cc",
   "metadata": {
    "papermill": {
     "duration": 0.024046,
     "end_time": "2024-10-21T02:01:01.384804",
     "exception": false,
     "start_time": "2024-10-21T02:01:01.360758",
     "status": "completed"
    },
    "tags": []
   },
   "outputs": [],
   "source": []
  }
 ],
 "metadata": {
  "kaggle": {
   "accelerator": "none",
   "dataSources": [
    {
     "databundleVersionId": 9816926,
     "sourceId": 84175,
     "sourceType": "competition"
    },
    {
     "datasetId": 3405428,
     "sourceId": 9296178,
     "sourceType": "datasetVersion"
    }
   ],
   "dockerImageVersionId": 30786,
   "isGpuEnabled": false,
   "isInternetEnabled": true,
   "language": "python",
   "sourceType": "notebook"
  },
  "kernelspec": {
   "display_name": ".venv",
   "language": "python",
   "name": "python3"
  },
  "language_info": {
   "codemirror_mode": {
    "name": "ipython",
    "version": 3
   },
   "file_extension": ".py",
   "mimetype": "text/x-python",
   "name": "python",
   "nbconvert_exporter": "python",
   "pygments_lexer": "ipython3",
   "version": "3.9.15"
  },
  "papermill": {
   "default_parameters": {},
   "duration": 19.014909,
   "end_time": "2024-10-21T02:01:01.930563",
   "environment_variables": {},
   "exception": null,
   "input_path": "__notebook__.ipynb",
   "output_path": "__notebook__.ipynb",
   "parameters": {},
   "start_time": "2024-10-21T02:00:42.915654",
   "version": "2.6.0"
  }
 },
 "nbformat": 4,
 "nbformat_minor": 5
}
