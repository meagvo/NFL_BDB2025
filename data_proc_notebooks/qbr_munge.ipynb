{
 "cells": [
  {
   "cell_type": "markdown",
   "metadata": {},
   "source": [
    "# QBR Processing\n",
    "\n",
    "We use ESPN's QBR and PFR data to see if QB efficiency/rushing tendencies tell us about team run rates"
   ]
  },
  {
   "cell_type": "code",
   "execution_count": 1,
   "metadata": {},
   "outputs": [],
   "source": [
    "import nfl_data_py as nfl\n",
    "import pandas as pd"
   ]
  },
  {
   "cell_type": "markdown",
   "metadata": {},
   "source": [
    "Use last three years' data just b/c we don't have PA/RPO tracking prior"
   ]
  },
  {
   "cell_type": "code",
   "execution_count": 2,
   "metadata": {},
   "outputs": [],
   "source": [
    "id_df = nfl.import_ids()\n",
    "qb_years = [2019,2020,2021]\n",
    "qb_v1 = nfl.import_qbr(qb_years).reset_index(drop=True)\n",
    "qb_pre = qb_v1[qb_v1['season_type'] == 'Regular'].copy()"
   ]
  },
  {
   "cell_type": "markdown",
   "metadata": {},
   "source": [
    "## Add pfr data\n",
    "We add pfr rushing data, to further account for mobile QB's effect on the run game"
   ]
  },
  {
   "cell_type": "code",
   "execution_count": 3,
   "metadata": {},
   "outputs": [
    {
     "data": {
      "text/html": [
       "<div>\n",
       "<style scoped>\n",
       "    .dataframe tbody tr th:only-of-type {\n",
       "        vertical-align: middle;\n",
       "    }\n",
       "\n",
       "    .dataframe tbody tr th {\n",
       "        vertical-align: top;\n",
       "    }\n",
       "\n",
       "    .dataframe thead th {\n",
       "        text-align: right;\n",
       "    }\n",
       "</style>\n",
       "<table border=\"1\" class=\"dataframe\">\n",
       "  <thead>\n",
       "    <tr style=\"text-align: right;\">\n",
       "      <th></th>\n",
       "      <th>pfr_id</th>\n",
       "      <th>season</th>\n",
       "      <th>pos</th>\n",
       "      <th>ybc_att</th>\n",
       "      <th>yac_att</th>\n",
       "    </tr>\n",
       "  </thead>\n",
       "  <tbody>\n",
       "    <tr>\n",
       "      <th>363</th>\n",
       "      <td>JackLa00</td>\n",
       "      <td>2019</td>\n",
       "      <td>QB</td>\n",
       "      <td>4.9</td>\n",
       "      <td>1.9</td>\n",
       "    </tr>\n",
       "  </tbody>\n",
       "</table>\n",
       "</div>"
      ],
      "text/plain": [
       "       pfr_id  season pos  ybc_att  yac_att\n",
       "363  JackLa00    2019  QB      4.9      1.9"
      ]
     },
     "execution_count": 3,
     "metadata": {},
     "output_type": "execute_result"
    }
   ],
   "source": [
    "# rush filtered to QB\n",
    "pfr_rp = nfl.import_seasonal_pfr('rush',qb_years)\n",
    "pfr_rush = pfr_rp[pfr_rp['pos'] == 'QB'][['pfr_id','season','pos','ybc_att','yac_att']]\n",
    "pfr_rush.head(1)"
   ]
  },
  {
   "cell_type": "markdown",
   "metadata": {},
   "source": [
    "ID type housekeeping:"
   ]
  },
  {
   "cell_type": "code",
   "execution_count": 4,
   "metadata": {},
   "outputs": [],
   "source": [
    "# all NA's are non-QB's\n",
    "id_df.dropna(subset=['espn_id'],inplace=True)\n",
    "\n",
    "# make sure typing correct\n",
    "qb_pre['player_id'] = qb_pre['player_id'].astype(int).astype(str)\n",
    "id_df['espn_id'] = id_df['espn_id'].astype(int).astype(str)\n",
    "id_df['pfr_id'] = id_df['pfr_id'].astype(str)"
   ]
  },
  {
   "cell_type": "markdown",
   "metadata": {},
   "source": [
    "#### Merge in pfr ID's to QBR, subset to relevant columns"
   ]
  },
  {
   "cell_type": "code",
   "execution_count": 5,
   "metadata": {},
   "outputs": [
    {
     "data": {
      "text/html": [
       "<div>\n",
       "<style scoped>\n",
       "    .dataframe tbody tr th:only-of-type {\n",
       "        vertical-align: middle;\n",
       "    }\n",
       "\n",
       "    .dataframe tbody tr th {\n",
       "        vertical-align: top;\n",
       "    }\n",
       "\n",
       "    .dataframe thead th {\n",
       "        text-align: right;\n",
       "    }\n",
       "</style>\n",
       "<table border=\"1\" class=\"dataframe\">\n",
       "  <thead>\n",
       "    <tr style=\"text-align: right;\">\n",
       "      <th></th>\n",
       "      <th>0</th>\n",
       "    </tr>\n",
       "  </thead>\n",
       "  <tbody>\n",
       "    <tr>\n",
       "      <th>player_id</th>\n",
       "      <td>3916387</td>\n",
       "    </tr>\n",
       "    <tr>\n",
       "      <th>pfr_id</th>\n",
       "      <td>JackLa00</td>\n",
       "    </tr>\n",
       "    <tr>\n",
       "      <th>season</th>\n",
       "      <td>2019</td>\n",
       "    </tr>\n",
       "    <tr>\n",
       "      <th>qbr_total</th>\n",
       "      <td>83.0</td>\n",
       "    </tr>\n",
       "    <tr>\n",
       "      <th>qb_plays</th>\n",
       "      <td>613</td>\n",
       "    </tr>\n",
       "    <tr>\n",
       "      <th>pass</th>\n",
       "      <td>55.0</td>\n",
       "    </tr>\n",
       "    <tr>\n",
       "      <th>run</th>\n",
       "      <td>39.1</td>\n",
       "    </tr>\n",
       "    <tr>\n",
       "      <th>name_display</th>\n",
       "      <td>Lamar Jackson</td>\n",
       "    </tr>\n",
       "  </tbody>\n",
       "</table>\n",
       "</div>"
      ],
      "text/plain": [
       "                          0\n",
       "player_id           3916387\n",
       "pfr_id             JackLa00\n",
       "season                 2019\n",
       "qbr_total              83.0\n",
       "qb_plays                613\n",
       "pass                   55.0\n",
       "run                    39.1\n",
       "name_display  Lamar Jackson"
      ]
     },
     "execution_count": 5,
     "metadata": {},
     "output_type": "execute_result"
    }
   ],
   "source": [
    "qb_id = qb_pre.merge(id_df[['espn_id','pfr_id']].drop_duplicates(),how='left',left_on='player_id',right_on='espn_id')\n",
    "qb_id = qb_id[qb_id['name_display'] != 'John Franklin'][['player_id','pfr_id','season','qbr_total','qb_plays','pass','run','name_display']]\n",
    "qb_id.head(1).T"
   ]
  },
  {
   "cell_type": "markdown",
   "metadata": {},
   "source": [
    "### Fix 'nan' string weirdness in qb_id\n",
    "\n",
    "Have some qb's who inexplicably have their pfr_id set to 'nan' string, so we fix it"
   ]
  },
  {
   "cell_type": "code",
   "execution_count": 6,
   "metadata": {},
   "outputs": [],
   "source": [
    "nan_flag = (qb_id['pfr_id'] == 'nan')\n",
    "pfr_rush.rename(columns={'yds':'yds_rushed'},inplace=True)"
   ]
  },
  {
   "cell_type": "markdown",
   "metadata": {},
   "source": [
    "Fix players who have 'nan' to their real ID's"
   ]
  },
  {
   "cell_type": "code",
   "execution_count": 7,
   "metadata": {},
   "outputs": [],
   "source": [
    "qb_id.loc[nan_flag & (qb_id['name_display'] == 'Matt Moore'),'pfr_id'] = 'MoorMa01'\n",
    "qb_id.loc[nan_flag & (qb_id['name_display'] == 'Chase Daniel'),'pfr_id'] = 'DaniCh00'\n",
    "qb_id.loc[nan_flag & (qb_id['name_display'] == 'Brian Hoyer'),'pfr_id'] = 'HoyeBr00'\n",
    "qb_id.loc[nan_flag & (qb_id['name_display'] == 'Tim Boyle'),'pfr_id'] = 'BoylTi00'\n",
    "qb_id.loc[nan_flag & (qb_id['name_display'] == 'John Wolford'),'pfr_id'] = 'WolfJo00'\n",
    "qb_id.loc[nan_flag & (qb_id['name_display'] == 'Andrew Beck'),'pfr_id'] = 'BeckAn01'\n",
    "qb_id.loc[nan_flag & (qb_id['name_display'] == 'Joseph Charlton'),'pfr_id'] = 'CharJo01'"
   ]
  },
  {
   "cell_type": "code",
   "execution_count": 8,
   "metadata": {},
   "outputs": [
    {
     "data": {
      "text/html": [
       "<div>\n",
       "<style scoped>\n",
       "    .dataframe tbody tr th:only-of-type {\n",
       "        vertical-align: middle;\n",
       "    }\n",
       "\n",
       "    .dataframe tbody tr th {\n",
       "        vertical-align: top;\n",
       "    }\n",
       "\n",
       "    .dataframe thead th {\n",
       "        text-align: right;\n",
       "    }\n",
       "</style>\n",
       "<table border=\"1\" class=\"dataframe\">\n",
       "  <thead>\n",
       "    <tr style=\"text-align: right;\">\n",
       "      <th></th>\n",
       "      <th>pfr_id</th>\n",
       "      <th>season</th>\n",
       "      <th>pos</th>\n",
       "      <th>ybc_att</th>\n",
       "      <th>yac_att</th>\n",
       "    </tr>\n",
       "  </thead>\n",
       "  <tbody>\n",
       "    <tr>\n",
       "      <th>363</th>\n",
       "      <td>JackLa00</td>\n",
       "      <td>2019</td>\n",
       "      <td>QB</td>\n",
       "      <td>4.9</td>\n",
       "      <td>1.9</td>\n",
       "    </tr>\n",
       "  </tbody>\n",
       "</table>\n",
       "</div>"
      ],
      "text/plain": [
       "       pfr_id  season pos  ybc_att  yac_att\n",
       "363  JackLa00    2019  QB      4.9      1.9"
      ]
     },
     "execution_count": 8,
     "metadata": {},
     "output_type": "execute_result"
    }
   ],
   "source": [
    "pfr_rush.head(1)"
   ]
  },
  {
   "cell_type": "markdown",
   "metadata": {},
   "source": [
    "### Add in pfr rushing data\n",
    "\n",
    "We merge and drop na's, since all na's are non-qb's:"
   ]
  },
  {
   "cell_type": "code",
   "execution_count": 9,
   "metadata": {},
   "outputs": [
    {
     "data": {
      "text/html": [
       "<div>\n",
       "<style scoped>\n",
       "    .dataframe tbody tr th:only-of-type {\n",
       "        vertical-align: middle;\n",
       "    }\n",
       "\n",
       "    .dataframe tbody tr th {\n",
       "        vertical-align: top;\n",
       "    }\n",
       "\n",
       "    .dataframe thead th {\n",
       "        text-align: right;\n",
       "    }\n",
       "</style>\n",
       "<table border=\"1\" class=\"dataframe\">\n",
       "  <thead>\n",
       "    <tr style=\"text-align: right;\">\n",
       "      <th></th>\n",
       "      <th>pfr_id</th>\n",
       "      <th>season</th>\n",
       "      <th>qbr_total</th>\n",
       "      <th>qb_plays</th>\n",
       "      <th>pass_val</th>\n",
       "      <th>run_val</th>\n",
       "      <th>ybc_att</th>\n",
       "      <th>yac_att</th>\n",
       "    </tr>\n",
       "  </thead>\n",
       "  <tbody>\n",
       "    <tr>\n",
       "      <th>23</th>\n",
       "      <td>AlleJo02</td>\n",
       "      <td>2019</td>\n",
       "      <td>49.4</td>\n",
       "      <td>639</td>\n",
       "      <td>21.1</td>\n",
       "      <td>10.4</td>\n",
       "      <td>2.4</td>\n",
       "      <td>2.2</td>\n",
       "    </tr>\n",
       "    <tr>\n",
       "      <th>60</th>\n",
       "      <td>AlleJo02</td>\n",
       "      <td>2020</td>\n",
       "      <td>76.6</td>\n",
       "      <td>729</td>\n",
       "      <td>112.1</td>\n",
       "      <td>13.0</td>\n",
       "      <td>2.8</td>\n",
       "      <td>1.3</td>\n",
       "    </tr>\n",
       "    <tr>\n",
       "      <th>125</th>\n",
       "      <td>AlleJo02</td>\n",
       "      <td>2021</td>\n",
       "      <td>66.3</td>\n",
       "      <td>828</td>\n",
       "      <td>80.9</td>\n",
       "      <td>29.5</td>\n",
       "      <td>3.9</td>\n",
       "      <td>2.4</td>\n",
       "    </tr>\n",
       "  </tbody>\n",
       "</table>\n",
       "</div>"
      ],
      "text/plain": [
       "       pfr_id  season  qbr_total  qb_plays  pass_val  run_val  ybc_att  \\\n",
       "23   AlleJo02    2019       49.4       639      21.1     10.4      2.4   \n",
       "60   AlleJo02    2020       76.6       729     112.1     13.0      2.8   \n",
       "125  AlleJo02    2021       66.3       828      80.9     29.5      3.9   \n",
       "\n",
       "     yac_att  \n",
       "23       2.2  \n",
       "60       1.3  \n",
       "125      2.4  "
      ]
     },
     "execution_count": 9,
     "metadata": {},
     "output_type": "execute_result"
    }
   ],
   "source": [
    "# rename generically named QBR (maybe EPA?) pass/run columns\n",
    "qb_id.rename(columns={'pass':'pass_val','run':'run_val'},inplace=True)\n",
    "\n",
    "# merge in pfr data\n",
    "qb_pfr = qb_id.merge(pfr_rush,how='left',on=['pfr_id','season']).dropna()\n",
    "\n",
    "# sort ascending s.t. exponential mean works\n",
    "qb_pfr = qb_pfr.sort_values(by=['pfr_id','season'],ascending=True).drop(columns=['pos','player_id','name_display'])\n",
    "qb_pfr.head(3)"
   ]
  },
  {
   "cell_type": "markdown",
   "metadata": {},
   "source": [
    "#### Calc exponential weighed mean\n",
    "\n",
    "We want to give recent seasons more weight, then do the same for recent games when we get there for '22\n",
    "\n",
    "qb_plays is there to mark volume, can be a useful flag perhaps if a backup is in"
   ]
  },
  {
   "cell_type": "code",
   "execution_count": 10,
   "metadata": {},
   "outputs": [],
   "source": [
    "mean_cols = [x for x in qb_pfr.columns if x not in ['pfr_id','qb_plays','season']]\n",
    "\n",
    "d_pre = {lambda x: x.ewm(alpha=.1).mean().iloc[-1]:mean_cols, 'sum':['qb_plays']}\n",
    "\n",
    "qb_21 = qb_pfr.groupby(['pfr_id']).agg({k: v for v,l in d_pre.items() for k in l}).reset_index()"
   ]
  },
  {
   "cell_type": "markdown",
   "metadata": {},
   "source": [
    "Compare df before and after means:"
   ]
  },
  {
   "cell_type": "code",
   "execution_count": 11,
   "metadata": {},
   "outputs": [
    {
     "data": {
      "text/html": [
       "<div>\n",
       "<style scoped>\n",
       "    .dataframe tbody tr th:only-of-type {\n",
       "        vertical-align: middle;\n",
       "    }\n",
       "\n",
       "    .dataframe tbody tr th {\n",
       "        vertical-align: top;\n",
       "    }\n",
       "\n",
       "    .dataframe thead th {\n",
       "        text-align: right;\n",
       "    }\n",
       "</style>\n",
       "<table border=\"1\" class=\"dataframe\">\n",
       "  <thead>\n",
       "    <tr style=\"text-align: right;\">\n",
       "      <th></th>\n",
       "      <th>pfr_id</th>\n",
       "      <th>qbr_total</th>\n",
       "      <th>pass_val</th>\n",
       "      <th>run_val</th>\n",
       "      <th>ybc_att</th>\n",
       "      <th>yac_att</th>\n",
       "      <th>qb_plays</th>\n",
       "    </tr>\n",
       "  </thead>\n",
       "  <tbody>\n",
       "    <tr>\n",
       "      <th>0</th>\n",
       "      <td>AlleJo02</td>\n",
       "      <td>64.669373</td>\n",
       "      <td>73.387823</td>\n",
       "      <td>18.311439</td>\n",
       "      <td>3.086347</td>\n",
       "      <td>1.974908</td>\n",
       "      <td>2196</td>\n",
       "    </tr>\n",
       "    <tr>\n",
       "      <th>1</th>\n",
       "      <td>AlleKy00</td>\n",
       "      <td>54.036842</td>\n",
       "      <td>8.721053</td>\n",
       "      <td>1.752632</td>\n",
       "      <td>2.184211</td>\n",
       "      <td>1.378947</td>\n",
       "      <td>696</td>\n",
       "    </tr>\n",
       "    <tr>\n",
       "      <th>2</th>\n",
       "      <td>BeatC.00</td>\n",
       "      <td>92.300000</td>\n",
       "      <td>0.700000</td>\n",
       "      <td>0.000000</td>\n",
       "      <td>2.000000</td>\n",
       "      <td>0.000000</td>\n",
       "      <td>4</td>\n",
       "    </tr>\n",
       "  </tbody>\n",
       "</table>\n",
       "</div>"
      ],
      "text/plain": [
       "     pfr_id  qbr_total   pass_val    run_val   ybc_att   yac_att  qb_plays\n",
       "0  AlleJo02  64.669373  73.387823  18.311439  3.086347  1.974908      2196\n",
       "1  AlleKy00  54.036842   8.721053   1.752632  2.184211  1.378947       696\n",
       "2  BeatC.00  92.300000   0.700000   0.000000  2.000000  0.000000         4"
      ]
     },
     "execution_count": 11,
     "metadata": {},
     "output_type": "execute_result"
    }
   ],
   "source": [
    "qb_21.head(3)"
   ]
  },
  {
   "cell_type": "markdown",
   "metadata": {},
   "source": [
    "# Get weekly 2022 data\n",
    "\n",
    "We repeat the process on a weekly level for 2022 now, starting with QBR:"
   ]
  },
  {
   "cell_type": "code",
   "execution_count": 12,
   "metadata": {},
   "outputs": [
    {
     "data": {
      "text/html": [
       "<div>\n",
       "<style scoped>\n",
       "    .dataframe tbody tr th:only-of-type {\n",
       "        vertical-align: middle;\n",
       "    }\n",
       "\n",
       "    .dataframe tbody tr th {\n",
       "        vertical-align: top;\n",
       "    }\n",
       "\n",
       "    .dataframe thead th {\n",
       "        text-align: right;\n",
       "    }\n",
       "</style>\n",
       "<table border=\"1\" class=\"dataframe\">\n",
       "  <thead>\n",
       "    <tr style=\"text-align: right;\">\n",
       "      <th></th>\n",
       "      <th>season</th>\n",
       "      <th>season_type</th>\n",
       "      <th>game_id</th>\n",
       "      <th>game_week</th>\n",
       "      <th>week_text</th>\n",
       "      <th>team_abb</th>\n",
       "      <th>player_id</th>\n",
       "      <th>name_short</th>\n",
       "      <th>rank</th>\n",
       "      <th>qbr_total</th>\n",
       "      <th>...</th>\n",
       "      <th>name_last</th>\n",
       "      <th>name_display</th>\n",
       "      <th>headshot_href</th>\n",
       "      <th>team</th>\n",
       "      <th>opp_id</th>\n",
       "      <th>opp_abb</th>\n",
       "      <th>opp_team</th>\n",
       "      <th>opp_name</th>\n",
       "      <th>week_num</th>\n",
       "      <th>qualified</th>\n",
       "    </tr>\n",
       "  </thead>\n",
       "  <tbody>\n",
       "    <tr>\n",
       "      <th>0</th>\n",
       "      <td>2022</td>\n",
       "      <td>Regular</td>\n",
       "      <td>401437653</td>\n",
       "      <td>1</td>\n",
       "      <td>Week 1</td>\n",
       "      <td>KC</td>\n",
       "      <td>3139477</td>\n",
       "      <td>P. Mahomes</td>\n",
       "      <td>1.0</td>\n",
       "      <td>94.9</td>\n",
       "      <td>...</td>\n",
       "      <td>Mahomes</td>\n",
       "      <td>Patrick Mahomes</td>\n",
       "      <td>https://a.espncdn.com/i/headshots/nfl/players/...</td>\n",
       "      <td>Chiefs</td>\n",
       "      <td>22</td>\n",
       "      <td>ARI</td>\n",
       "      <td>Arizona Cardinals</td>\n",
       "      <td>Cardinals</td>\n",
       "      <td>1</td>\n",
       "      <td>True</td>\n",
       "    </tr>\n",
       "  </tbody>\n",
       "</table>\n",
       "<p>1 rows × 30 columns</p>\n",
       "</div>"
      ],
      "text/plain": [
       "   season season_type    game_id  game_week week_text team_abb player_id  \\\n",
       "0    2022     Regular  401437653          1    Week 1       KC   3139477   \n",
       "\n",
       "   name_short  rank  qbr_total  ...  name_last     name_display  \\\n",
       "0  P. Mahomes   1.0       94.9  ...    Mahomes  Patrick Mahomes   \n",
       "\n",
       "                                       headshot_href    team  opp_id  opp_abb  \\\n",
       "0  https://a.espncdn.com/i/headshots/nfl/players/...  Chiefs      22      ARI   \n",
       "\n",
       "            opp_team   opp_name  week_num qualified  \n",
       "0  Arizona Cardinals  Cardinals         1      True  \n",
       "\n",
       "[1 rows x 30 columns]"
      ]
     },
     "execution_count": 12,
     "metadata": {},
     "output_type": "execute_result"
    }
   ],
   "source": [
    "qb_v1_22 = nfl.import_qbr([2022],frequency='weekly').reset_index(drop=True)\n",
    "qbr_22_pre = qb_v1_22[qb_v1_22['season_type'] == 'Regular'].copy()\n",
    "qbr_22_pre['player_id'] = qbr_22_pre['player_id'].astype(int).astype(str)\n",
    "qbr_22_pre.head(1)"
   ]
  },
  {
   "cell_type": "markdown",
   "metadata": {},
   "source": [
    "#### Get weekly '22 rush, pass PFR data"
   ]
  },
  {
   "cell_type": "code",
   "execution_count": 13,
   "metadata": {},
   "outputs": [
    {
     "data": {
      "text/html": [
       "<div>\n",
       "<style scoped>\n",
       "    .dataframe tbody tr th:only-of-type {\n",
       "        vertical-align: middle;\n",
       "    }\n",
       "\n",
       "    .dataframe tbody tr th {\n",
       "        vertical-align: top;\n",
       "    }\n",
       "\n",
       "    .dataframe thead th {\n",
       "        text-align: right;\n",
       "    }\n",
       "</style>\n",
       "<table border=\"1\" class=\"dataframe\">\n",
       "  <thead>\n",
       "    <tr style=\"text-align: right;\">\n",
       "      <th></th>\n",
       "      <th>pfr_id</th>\n",
       "      <th>week</th>\n",
       "      <th>ybc_att</th>\n",
       "      <th>yac_att</th>\n",
       "    </tr>\n",
       "  </thead>\n",
       "  <tbody>\n",
       "    <tr>\n",
       "      <th>0</th>\n",
       "      <td>HendDa00</td>\n",
       "      <td>1</td>\n",
       "      <td>2.3</td>\n",
       "      <td>1.3</td>\n",
       "    </tr>\n",
       "    <tr>\n",
       "      <th>1</th>\n",
       "      <td>AkerCa00</td>\n",
       "      <td>1</td>\n",
       "      <td>0.0</td>\n",
       "      <td>0.0</td>\n",
       "    </tr>\n",
       "  </tbody>\n",
       "</table>\n",
       "</div>"
      ],
      "text/plain": [
       "     pfr_id  week  ybc_att  yac_att\n",
       "0  HendDa00     1      2.3      1.3\n",
       "1  AkerCa00     1      0.0      0.0"
      ]
     },
     "execution_count": 13,
     "metadata": {},
     "output_type": "execute_result"
    }
   ],
   "source": [
    "# rush filtered to QB\n",
    "rp_22 = nfl.import_weekly_pfr('rush',[2022])\n",
    "pfr_rush_22 = rp_22[['pfr_player_id','week','rushing_yards_before_contact_avg','rushing_yards_after_contact_avg']].copy()\n",
    "pfr_rush_22.rename(columns={'rushing_yards_before_contact_avg':'ybc_att','rushing_yards_after_contact_avg':'yac_att','pfr_player_id':'pfr_id'},inplace=True)\n",
    "pfr_rush_22.head(2)"
   ]
  },
  {
   "cell_type": "markdown",
   "metadata": {},
   "source": [
    "#### Merge in '22 pfr Id's to qbr df, subset columns"
   ]
  },
  {
   "cell_type": "code",
   "execution_count": 14,
   "metadata": {},
   "outputs": [
    {
     "data": {
      "text/html": [
       "<div>\n",
       "<style scoped>\n",
       "    .dataframe tbody tr th:only-of-type {\n",
       "        vertical-align: middle;\n",
       "    }\n",
       "\n",
       "    .dataframe tbody tr th {\n",
       "        vertical-align: top;\n",
       "    }\n",
       "\n",
       "    .dataframe thead th {\n",
       "        text-align: right;\n",
       "    }\n",
       "</style>\n",
       "<table border=\"1\" class=\"dataframe\">\n",
       "  <thead>\n",
       "    <tr style=\"text-align: right;\">\n",
       "      <th></th>\n",
       "      <th>player_id</th>\n",
       "      <th>pfr_id</th>\n",
       "      <th>game_week</th>\n",
       "      <th>qbr_total</th>\n",
       "      <th>qb_plays</th>\n",
       "      <th>pass</th>\n",
       "      <th>run</th>\n",
       "      <th>name_display</th>\n",
       "    </tr>\n",
       "  </thead>\n",
       "  <tbody>\n",
       "    <tr>\n",
       "      <th>0</th>\n",
       "      <td>3139477</td>\n",
       "      <td>MahoPa00</td>\n",
       "      <td>1</td>\n",
       "      <td>94.9</td>\n",
       "      <td>44</td>\n",
       "      <td>11.1</td>\n",
       "      <td>-1.4</td>\n",
       "      <td>Patrick Mahomes</td>\n",
       "    </tr>\n",
       "    <tr>\n",
       "      <th>1</th>\n",
       "      <td>3918298</td>\n",
       "      <td>AlleJo02</td>\n",
       "      <td>1</td>\n",
       "      <td>87.4</td>\n",
       "      <td>45</td>\n",
       "      <td>6.6</td>\n",
       "      <td>3.9</td>\n",
       "      <td>Josh Allen</td>\n",
       "    </tr>\n",
       "    <tr>\n",
       "      <th>2</th>\n",
       "      <td>4038941</td>\n",
       "      <td>HerbJu00</td>\n",
       "      <td>1</td>\n",
       "      <td>79.9</td>\n",
       "      <td>38</td>\n",
       "      <td>10.1</td>\n",
       "      <td>-1.4</td>\n",
       "      <td>Justin Herbert</td>\n",
       "    </tr>\n",
       "  </tbody>\n",
       "</table>\n",
       "</div>"
      ],
      "text/plain": [
       "  player_id    pfr_id  game_week  qbr_total  qb_plays  pass  run  \\\n",
       "0   3139477  MahoPa00          1       94.9        44  11.1 -1.4   \n",
       "1   3918298  AlleJo02          1       87.4        45   6.6  3.9   \n",
       "2   4038941  HerbJu00          1       79.9        38  10.1 -1.4   \n",
       "\n",
       "      name_display  \n",
       "0  Patrick Mahomes  \n",
       "1       Josh Allen  \n",
       "2   Justin Herbert  "
      ]
     },
     "execution_count": 14,
     "metadata": {},
     "output_type": "execute_result"
    }
   ],
   "source": [
    "qb_id_22 = qbr_22_pre.merge(id_df[['espn_id','pfr_id']].drop_duplicates(),how='left',left_on='player_id',right_on='espn_id')\n",
    "qb_id_22 = qb_id_22[qb_id_22['name_display'] != 'John Franklin'][['player_id','pfr_id','game_week','qbr_total','qb_plays','pass','run','name_display']]\n",
    "qb_id_22.head(3)"
   ]
  },
  {
   "cell_type": "markdown",
   "metadata": {},
   "source": [
    "### Merge in rush (weekly, '22)\n",
    "\n",
    "Again we deal with 'nan' weirdness first:"
   ]
  },
  {
   "cell_type": "code",
   "execution_count": 15,
   "metadata": {},
   "outputs": [],
   "source": [
    "nan_flag_22 = (qb_id_22['pfr_id'] == 'nan')"
   ]
  },
  {
   "cell_type": "code",
   "execution_count": 16,
   "metadata": {},
   "outputs": [],
   "source": [
    "qb_id_22.loc[nan_flag_22 & (qb_id_22['name_display'] == 'Brett Rypien'),'pfr_id'] = 'RypiBr00'\n",
    "qb_id_22.loc[nan_flag_22 & (qb_id_22['name_display'] == 'John Wolford'),'pfr_id'] = 'WolfJo00'\n",
    "qb_id_22.loc[nan_flag_22 & (qb_id_22['name_display'] == 'Bryce Perkins'),'pfr_id'] = 'PerkBr02'\n",
    "qb_id_22.loc[nan_flag_22 & (qb_id_22['name_display'] == 'Chris Streveler'),'pfr_id'] = 'StreCh00'"
   ]
  },
  {
   "cell_type": "markdown",
   "metadata": {},
   "source": [
    "We dropna here since all na's are immobile qb's:"
   ]
  },
  {
   "cell_type": "code",
   "execution_count": 17,
   "metadata": {},
   "outputs": [
    {
     "data": {
      "text/html": [
       "<div>\n",
       "<style scoped>\n",
       "    .dataframe tbody tr th:only-of-type {\n",
       "        vertical-align: middle;\n",
       "    }\n",
       "\n",
       "    .dataframe tbody tr th {\n",
       "        vertical-align: top;\n",
       "    }\n",
       "\n",
       "    .dataframe thead th {\n",
       "        text-align: right;\n",
       "    }\n",
       "</style>\n",
       "<table border=\"1\" class=\"dataframe\">\n",
       "  <thead>\n",
       "    <tr style=\"text-align: right;\">\n",
       "      <th></th>\n",
       "      <th>pfr_id</th>\n",
       "      <th>qbr_total</th>\n",
       "      <th>qb_plays</th>\n",
       "      <th>pass_val</th>\n",
       "      <th>run_val</th>\n",
       "      <th>week</th>\n",
       "      <th>ybc_att</th>\n",
       "      <th>yac_att</th>\n",
       "    </tr>\n",
       "  </thead>\n",
       "  <tbody>\n",
       "    <tr>\n",
       "      <th>1</th>\n",
       "      <td>AlleJo02</td>\n",
       "      <td>87.4</td>\n",
       "      <td>45</td>\n",
       "      <td>6.6</td>\n",
       "      <td>3.9</td>\n",
       "      <td>1.0</td>\n",
       "      <td>3.6</td>\n",
       "      <td>2.0</td>\n",
       "    </tr>\n",
       "    <tr>\n",
       "      <th>34</th>\n",
       "      <td>AlleJo02</td>\n",
       "      <td>89.0</td>\n",
       "      <td>45</td>\n",
       "      <td>8.5</td>\n",
       "      <td>1.4</td>\n",
       "      <td>2.0</td>\n",
       "      <td>3.0</td>\n",
       "      <td>7.0</td>\n",
       "    </tr>\n",
       "  </tbody>\n",
       "</table>\n",
       "</div>"
      ],
      "text/plain": [
       "      pfr_id  qbr_total  qb_plays  pass_val  run_val  week  ybc_att  yac_att\n",
       "1   AlleJo02       87.4        45       6.6      3.9   1.0      3.6      2.0\n",
       "34  AlleJo02       89.0        45       8.5      1.4   2.0      3.0      7.0"
      ]
     },
     "execution_count": 17,
     "metadata": {},
     "output_type": "execute_result"
    }
   ],
   "source": [
    "# rename generically named QBR (maybe EPA?) pass/run columns\n",
    "qb_id_22.rename(columns={'pass':'pass_val','run':'run_val'},inplace=True)\n",
    "\n",
    "# merge in pfr data\n",
    "qb_pfr_22 = qb_id_22.merge(pfr_rush_22,how='left',left_on=['pfr_id','game_week'],right_on=['pfr_id','week']).dropna()\n",
    "\n",
    "# sort ascending s.t. exponential mean works\n",
    "qb_pfr_22.sort_values(by=['pfr_id','week'],ascending=True,inplace=True)\n",
    "qb_pfr_22.drop(columns=['player_id','name_display','game_week'],inplace=True)\n",
    "qb_pfr_22.head(2)"
   ]
  },
  {
   "cell_type": "markdown",
   "metadata": {},
   "source": [
    "### Combine '21, '22 data, get rolling mean\n",
    "\n",
    "We set week 0 as the start s.t. past data gets carried through"
   ]
  },
  {
   "cell_type": "code",
   "execution_count": 18,
   "metadata": {},
   "outputs": [
    {
     "data": {
      "text/html": [
       "<div>\n",
       "<style scoped>\n",
       "    .dataframe tbody tr th:only-of-type {\n",
       "        vertical-align: middle;\n",
       "    }\n",
       "\n",
       "    .dataframe tbody tr th {\n",
       "        vertical-align: top;\n",
       "    }\n",
       "\n",
       "    .dataframe thead th {\n",
       "        text-align: right;\n",
       "    }\n",
       "</style>\n",
       "<table border=\"1\" class=\"dataframe\">\n",
       "  <thead>\n",
       "    <tr style=\"text-align: right;\">\n",
       "      <th></th>\n",
       "      <th>pfr_id</th>\n",
       "      <th>qbr_total</th>\n",
       "      <th>qb_plays</th>\n",
       "      <th>pass_val</th>\n",
       "      <th>run_val</th>\n",
       "      <th>week</th>\n",
       "      <th>ybc_att</th>\n",
       "      <th>yac_att</th>\n",
       "    </tr>\n",
       "  </thead>\n",
       "  <tbody>\n",
       "    <tr>\n",
       "      <th>0</th>\n",
       "      <td>AlleJo02</td>\n",
       "      <td>64.669373</td>\n",
       "      <td>2196</td>\n",
       "      <td>73.387823</td>\n",
       "      <td>18.311439</td>\n",
       "      <td>0</td>\n",
       "      <td>3.086347</td>\n",
       "      <td>1.974908</td>\n",
       "    </tr>\n",
       "    <tr>\n",
       "      <th>1</th>\n",
       "      <td>AlleJo02</td>\n",
       "      <td>87.400000</td>\n",
       "      <td>45</td>\n",
       "      <td>6.600000</td>\n",
       "      <td>3.900000</td>\n",
       "      <td>1</td>\n",
       "      <td>3.600000</td>\n",
       "      <td>2.000000</td>\n",
       "    </tr>\n",
       "    <tr>\n",
       "      <th>34</th>\n",
       "      <td>AlleJo02</td>\n",
       "      <td>89.000000</td>\n",
       "      <td>45</td>\n",
       "      <td>8.500000</td>\n",
       "      <td>1.400000</td>\n",
       "      <td>2</td>\n",
       "      <td>3.000000</td>\n",
       "      <td>7.000000</td>\n",
       "    </tr>\n",
       "  </tbody>\n",
       "</table>\n",
       "</div>"
      ],
      "text/plain": [
       "      pfr_id  qbr_total  qb_plays   pass_val    run_val  week   ybc_att  \\\n",
       "0   AlleJo02  64.669373      2196  73.387823  18.311439     0  3.086347   \n",
       "1   AlleJo02  87.400000        45   6.600000   3.900000     1  3.600000   \n",
       "34  AlleJo02  89.000000        45   8.500000   1.400000     2  3.000000   \n",
       "\n",
       "     yac_att  \n",
       "0   1.974908  \n",
       "1   2.000000  \n",
       "34  7.000000  "
      ]
     },
     "execution_count": 18,
     "metadata": {},
     "output_type": "execute_result"
    }
   ],
   "source": [
    "qb_21['week'] = 0\n",
    "qb_pfr_full = pd.concat([qb_21[qb_pfr_22.columns],qb_pfr_22],axis=0)\n",
    "qb_pfr_full.sort_values(['pfr_id','week'],inplace=True)\n",
    "qb_pfr_full['week'] = qb_pfr_full['week'].astype(int)\n",
    "qb_pfr_full.head(3)"
   ]
  },
  {
   "cell_type": "markdown",
   "metadata": {},
   "source": [
    "We perform weighted means now that we have 2021 info to carry throughout our data:"
   ]
  },
  {
   "cell_type": "code",
   "execution_count": 19,
   "metadata": {},
   "outputs": [
    {
     "data": {
      "text/html": [
       "<div>\n",
       "<style scoped>\n",
       "    .dataframe tbody tr th:only-of-type {\n",
       "        vertical-align: middle;\n",
       "    }\n",
       "\n",
       "    .dataframe tbody tr th {\n",
       "        vertical-align: top;\n",
       "    }\n",
       "\n",
       "    .dataframe thead th {\n",
       "        text-align: right;\n",
       "    }\n",
       "</style>\n",
       "<table border=\"1\" class=\"dataframe\">\n",
       "  <thead>\n",
       "    <tr style=\"text-align: right;\">\n",
       "      <th></th>\n",
       "      <th>pfr_id</th>\n",
       "      <th>week</th>\n",
       "      <th>qbr_total</th>\n",
       "      <th>pass_val</th>\n",
       "      <th>run_val</th>\n",
       "      <th>ybc_att</th>\n",
       "      <th>yac_att</th>\n",
       "      <th>qb_plays</th>\n",
       "    </tr>\n",
       "  </thead>\n",
       "  <tbody>\n",
       "    <tr>\n",
       "      <th>0</th>\n",
       "      <td>AlleJo02</td>\n",
       "      <td>0</td>\n",
       "      <td>64.669373</td>\n",
       "      <td>73.387823</td>\n",
       "      <td>18.311439</td>\n",
       "      <td>3.086347</td>\n",
       "      <td>1.974908</td>\n",
       "      <td>2196</td>\n",
       "    </tr>\n",
       "    <tr>\n",
       "      <th>1</th>\n",
       "      <td>AlleJo02</td>\n",
       "      <td>1</td>\n",
       "      <td>76.632861</td>\n",
       "      <td>38.236337</td>\n",
       "      <td>10.726471</td>\n",
       "      <td>3.356691</td>\n",
       "      <td>1.988114</td>\n",
       "      <td>2241</td>\n",
       "    </tr>\n",
       "    <tr>\n",
       "      <th>34</th>\n",
       "      <td>AlleJo02</td>\n",
       "      <td>2</td>\n",
       "      <td>81.196381</td>\n",
       "      <td>27.263519</td>\n",
       "      <td>7.284969</td>\n",
       "      <td>3.225070</td>\n",
       "      <td>3.837519</td>\n",
       "      <td>2286</td>\n",
       "    </tr>\n",
       "  </tbody>\n",
       "</table>\n",
       "</div>"
      ],
      "text/plain": [
       "      pfr_id  week  qbr_total   pass_val    run_val   ybc_att   yac_att  \\\n",
       "0   AlleJo02     0  64.669373  73.387823  18.311439  3.086347  1.974908   \n",
       "1   AlleJo02     1  76.632861  38.236337  10.726471  3.356691  1.988114   \n",
       "34  AlleJo02     2  81.196381  27.263519   7.284969  3.225070  3.837519   \n",
       "\n",
       "    qb_plays  \n",
       "0       2196  \n",
       "1       2241  \n",
       "34      2286  "
      ]
     },
     "execution_count": 19,
     "metadata": {},
     "output_type": "execute_result"
    }
   ],
   "source": [
    "# define columns for mean\n",
    "mean_cols_full = [x for x in qb_pfr_full.columns if x not in ['pfr_id','qb_plays','week']]\n",
    "\n",
    "# get mean, cum sum, integrate\n",
    "ewm_full = qb_pfr_full.groupby(['pfr_id'])[mean_cols_full].transform(lambda x: x.ewm(alpha=.1).mean())\n",
    "cs_full = qb_pfr_full.groupby(['pfr_id'])['qb_plays'].cumsum()\n",
    "full_agged = pd.concat([qb_pfr_full[['pfr_id','week']],ewm_full,cs_full],axis=1)\n",
    "full_agged.head(3)"
   ]
  },
  {
   "cell_type": "markdown",
   "metadata": {},
   "source": [
    "### Use cartesian product to make sure each qb has data for all weeks, then forward fill:"
   ]
  },
  {
   "cell_type": "code",
   "execution_count": 20,
   "metadata": {},
   "outputs": [],
   "source": [
    "def cartesian_product(d):\n",
    "    index = pd.MultiIndex.from_product(d.values(), names=d.keys())\n",
    "    return pd.DataFrame(index=index).reset_index()"
   ]
  },
  {
   "cell_type": "code",
   "execution_count": 21,
   "metadata": {},
   "outputs": [
    {
     "data": {
      "text/html": [
       "<div>\n",
       "<style scoped>\n",
       "    .dataframe tbody tr th:only-of-type {\n",
       "        vertical-align: middle;\n",
       "    }\n",
       "\n",
       "    .dataframe tbody tr th {\n",
       "        vertical-align: top;\n",
       "    }\n",
       "\n",
       "    .dataframe thead th {\n",
       "        text-align: right;\n",
       "    }\n",
       "</style>\n",
       "<table border=\"1\" class=\"dataframe\">\n",
       "  <thead>\n",
       "    <tr style=\"text-align: right;\">\n",
       "      <th></th>\n",
       "      <th>pfr_id</th>\n",
       "      <th>week</th>\n",
       "    </tr>\n",
       "  </thead>\n",
       "  <tbody>\n",
       "    <tr>\n",
       "      <th>0</th>\n",
       "      <td>AlleJo02</td>\n",
       "      <td>0</td>\n",
       "    </tr>\n",
       "    <tr>\n",
       "      <th>1</th>\n",
       "      <td>AlleJo02</td>\n",
       "      <td>1</td>\n",
       "    </tr>\n",
       "  </tbody>\n",
       "</table>\n",
       "</div>"
      ],
      "text/plain": [
       "     pfr_id  week\n",
       "0  AlleJo02     0\n",
       "1  AlleJo02     1"
      ]
     },
     "execution_count": 21,
     "metadata": {},
     "output_type": "execute_result"
    }
   ],
   "source": [
    "# merge s.t. each qb has data for all weeks\n",
    "ci = cartesian_product({'pfr_id':list(qb_pfr_22.pfr_id.unique()),'week':list(range(0,10))})\n",
    "ci_merged = ci.merge(full_agged,how='left',on=['pfr_id','week'])\n",
    "ci.head(2)"
   ]
  },
  {
   "cell_type": "markdown",
   "metadata": {},
   "source": [
    "We uptick week, finally, since week 0 (i.e., 2019-21 means) is used for week 1"
   ]
  },
  {
   "cell_type": "code",
   "execution_count": 22,
   "metadata": {},
   "outputs": [
    {
     "data": {
      "text/html": [
       "<div>\n",
       "<style scoped>\n",
       "    .dataframe tbody tr th:only-of-type {\n",
       "        vertical-align: middle;\n",
       "    }\n",
       "\n",
       "    .dataframe tbody tr th {\n",
       "        vertical-align: top;\n",
       "    }\n",
       "\n",
       "    .dataframe thead th {\n",
       "        text-align: right;\n",
       "    }\n",
       "</style>\n",
       "<table border=\"1\" class=\"dataframe\">\n",
       "  <thead>\n",
       "    <tr style=\"text-align: right;\">\n",
       "      <th></th>\n",
       "      <th>pfr_id</th>\n",
       "      <th>week</th>\n",
       "      <th>qbr_total</th>\n",
       "      <th>pass_val</th>\n",
       "      <th>run_val</th>\n",
       "      <th>ybc_att</th>\n",
       "      <th>yac_att</th>\n",
       "      <th>qb_plays</th>\n",
       "    </tr>\n",
       "  </thead>\n",
       "  <tbody>\n",
       "    <tr>\n",
       "      <th>0</th>\n",
       "      <td>AlleJo02</td>\n",
       "      <td>1</td>\n",
       "      <td>64.669373</td>\n",
       "      <td>73.387823</td>\n",
       "      <td>18.311439</td>\n",
       "      <td>3.086347</td>\n",
       "      <td>1.974908</td>\n",
       "      <td>2196.0</td>\n",
       "    </tr>\n",
       "    <tr>\n",
       "      <th>1</th>\n",
       "      <td>AlleJo02</td>\n",
       "      <td>2</td>\n",
       "      <td>76.632861</td>\n",
       "      <td>38.236337</td>\n",
       "      <td>10.726471</td>\n",
       "      <td>3.356691</td>\n",
       "      <td>1.988114</td>\n",
       "      <td>2241.0</td>\n",
       "    </tr>\n",
       "    <tr>\n",
       "      <th>2</th>\n",
       "      <td>AlleJo02</td>\n",
       "      <td>3</td>\n",
       "      <td>81.196381</td>\n",
       "      <td>27.263519</td>\n",
       "      <td>7.284969</td>\n",
       "      <td>3.225070</td>\n",
       "      <td>3.837519</td>\n",
       "      <td>2286.0</td>\n",
       "    </tr>\n",
       "    <tr>\n",
       "      <th>3</th>\n",
       "      <td>AlleJo02</td>\n",
       "      <td>4</td>\n",
       "      <td>73.986035</td>\n",
       "      <td>21.196779</td>\n",
       "      <td>6.446071</td>\n",
       "      <td>3.624876</td>\n",
       "      <td>3.099653</td>\n",
       "      <td>2362.0</td>\n",
       "    </tr>\n",
       "    <tr>\n",
       "      <th>4</th>\n",
       "      <td>AlleJo02</td>\n",
       "      <td>5</td>\n",
       "      <td>75.039480</td>\n",
       "      <td>16.679971</td>\n",
       "      <td>6.068530</td>\n",
       "      <td>3.301348</td>\n",
       "      <td>3.343932</td>\n",
       "      <td>2409.0</td>\n",
       "    </tr>\n",
       "    <tr>\n",
       "      <th>5</th>\n",
       "      <td>AlleJo02</td>\n",
       "      <td>6</td>\n",
       "      <td>77.890886</td>\n",
       "      <td>14.208570</td>\n",
       "      <td>5.072171</td>\n",
       "      <td>4.133400</td>\n",
       "      <td>2.886374</td>\n",
       "      <td>2447.0</td>\n",
       "    </tr>\n",
       "    <tr>\n",
       "      <th>6</th>\n",
       "      <td>AlleJo02</td>\n",
       "      <td>7</td>\n",
       "      <td>76.090842</td>\n",
       "      <td>12.769328</td>\n",
       "      <td>4.176609</td>\n",
       "      <td>3.705302</td>\n",
       "      <td>2.486458</td>\n",
       "      <td>2500.0</td>\n",
       "    </tr>\n",
       "    <tr>\n",
       "      <th>7</th>\n",
       "      <td>AlleJo02</td>\n",
       "      <td>8</td>\n",
       "      <td>76.090842</td>\n",
       "      <td>12.769328</td>\n",
       "      <td>4.176609</td>\n",
       "      <td>3.705302</td>\n",
       "      <td>2.486458</td>\n",
       "      <td>2500.0</td>\n",
       "    </tr>\n",
       "    <tr>\n",
       "      <th>8</th>\n",
       "      <td>AlleJo02</td>\n",
       "      <td>9</td>\n",
       "      <td>77.497110</td>\n",
       "      <td>10.966214</td>\n",
       "      <td>4.110483</td>\n",
       "      <td>4.336468</td>\n",
       "      <td>2.190345</td>\n",
       "      <td>2535.0</td>\n",
       "    </tr>\n",
       "  </tbody>\n",
       "</table>\n",
       "</div>"
      ],
      "text/plain": [
       "     pfr_id  week  qbr_total   pass_val    run_val   ybc_att   yac_att  \\\n",
       "0  AlleJo02     1  64.669373  73.387823  18.311439  3.086347  1.974908   \n",
       "1  AlleJo02     2  76.632861  38.236337  10.726471  3.356691  1.988114   \n",
       "2  AlleJo02     3  81.196381  27.263519   7.284969  3.225070  3.837519   \n",
       "3  AlleJo02     4  73.986035  21.196779   6.446071  3.624876  3.099653   \n",
       "4  AlleJo02     5  75.039480  16.679971   6.068530  3.301348  3.343932   \n",
       "5  AlleJo02     6  77.890886  14.208570   5.072171  4.133400  2.886374   \n",
       "6  AlleJo02     7  76.090842  12.769328   4.176609  3.705302  2.486458   \n",
       "7  AlleJo02     8  76.090842  12.769328   4.176609  3.705302  2.486458   \n",
       "8  AlleJo02     9  77.497110  10.966214   4.110483  4.336468  2.190345   \n",
       "\n",
       "   qb_plays  \n",
       "0    2196.0  \n",
       "1    2241.0  \n",
       "2    2286.0  \n",
       "3    2362.0  \n",
       "4    2409.0  \n",
       "5    2447.0  \n",
       "6    2500.0  \n",
       "7    2500.0  \n",
       "8    2535.0  "
      ]
     },
     "execution_count": 22,
     "metadata": {},
     "output_type": "execute_result"
    }
   ],
   "source": [
    "# forward fill within qb group, t\n",
    "df_op = pd.concat([ci['pfr_id'],ci_merged.groupby('pfr_id').ffill().reset_index(drop=True)],axis=1)\n",
    "df_op['week']+=1\n",
    "df_op.head(9)"
   ]
  },
  {
   "cell_type": "markdown",
   "metadata": {},
   "source": [
    "### Fix missing ID's\n",
    "\n",
    "Some rookies missing ID's, so we use a dict to loc and fill them:"
   ]
  },
  {
   "cell_type": "code",
   "execution_count": 23,
   "metadata": {},
   "outputs": [],
   "source": [
    "isr = nfl.import_seasonal_rosters([2022])"
   ]
  },
  {
   "cell_type": "markdown",
   "metadata": {},
   "source": [
    "Define rookie name-pfr id mappings"
   ]
  },
  {
   "cell_type": "code",
   "execution_count": 24,
   "metadata": {},
   "outputs": [],
   "source": [
    "ids_missing = ['AlleKy00', 'BlouDa00', 'HoweSa00', 'HuntTy01', 'PerkBr02',\n",
    "       'PickKe00', 'PurdBr00', 'RiddDe00', 'RushCo00', 'RypiBr00',\n",
    "       'StreCh00', 'ThomSk00', 'WillMa12', 'WolfJo00', 'ZappBa00']\n",
    "\n",
    "names_missing = ['Kyle Allen', 'David Blough', 'Sam Howell', 'Tyler Huntley', 'Bryce Perkins', \n",
    "                 'Kenny Pickett','Brock Purdy', 'Desmond Ridder', 'Cooper Rush', 'Brett Rypien',\n",
    "                 'Chris Streveler', 'Skylar Thompson', 'Malik Willis', 'John Wolford', 'Bailey Zappe']\n",
    "\n",
    "qbd = dict(zip(names_missing, ids_missing))"
   ]
  },
  {
   "cell_type": "code",
   "execution_count": 25,
   "metadata": {},
   "outputs": [],
   "source": [
    "# loop over dict and loc-replace 'none' id's\n",
    "for k in qbd:\n",
    "    isr.loc[isr['player_name'] == k, 'pfr_id'] = qbd[k]"
   ]
  },
  {
   "cell_type": "code",
   "execution_count": 26,
   "metadata": {},
   "outputs": [],
   "source": [
    "main_ids = isr[['pfr_id','gsis_it_id']].drop_duplicates()"
   ]
  },
  {
   "cell_type": "code",
   "execution_count": 27,
   "metadata": {},
   "outputs": [
    {
     "data": {
      "text/html": [
       "<div>\n",
       "<style scoped>\n",
       "    .dataframe tbody tr th:only-of-type {\n",
       "        vertical-align: middle;\n",
       "    }\n",
       "\n",
       "    .dataframe tbody tr th {\n",
       "        vertical-align: top;\n",
       "    }\n",
       "\n",
       "    .dataframe thead th {\n",
       "        text-align: right;\n",
       "    }\n",
       "</style>\n",
       "<table border=\"1\" class=\"dataframe\">\n",
       "  <thead>\n",
       "    <tr style=\"text-align: right;\">\n",
       "      <th></th>\n",
       "      <th>pfr_id</th>\n",
       "      <th>week</th>\n",
       "      <th>qbr_total</th>\n",
       "      <th>pass_val</th>\n",
       "      <th>run_val</th>\n",
       "      <th>ybc_att</th>\n",
       "      <th>yac_att</th>\n",
       "      <th>qb_plays</th>\n",
       "      <th>gsis_it_id</th>\n",
       "    </tr>\n",
       "  </thead>\n",
       "  <tbody>\n",
       "    <tr>\n",
       "      <th>0</th>\n",
       "      <td>AlleJo02</td>\n",
       "      <td>1</td>\n",
       "      <td>64.669373</td>\n",
       "      <td>73.387823</td>\n",
       "      <td>18.311439</td>\n",
       "      <td>3.086347</td>\n",
       "      <td>1.974908</td>\n",
       "      <td>2196.0</td>\n",
       "      <td>46076</td>\n",
       "    </tr>\n",
       "    <tr>\n",
       "      <th>1</th>\n",
       "      <td>AlleJo02</td>\n",
       "      <td>2</td>\n",
       "      <td>76.632861</td>\n",
       "      <td>38.236337</td>\n",
       "      <td>10.726471</td>\n",
       "      <td>3.356691</td>\n",
       "      <td>1.988114</td>\n",
       "      <td>2241.0</td>\n",
       "      <td>46076</td>\n",
       "    </tr>\n",
       "    <tr>\n",
       "      <th>2</th>\n",
       "      <td>AlleJo02</td>\n",
       "      <td>3</td>\n",
       "      <td>81.196381</td>\n",
       "      <td>27.263519</td>\n",
       "      <td>7.284969</td>\n",
       "      <td>3.225070</td>\n",
       "      <td>3.837519</td>\n",
       "      <td>2286.0</td>\n",
       "      <td>46076</td>\n",
       "    </tr>\n",
       "  </tbody>\n",
       "</table>\n",
       "</div>"
      ],
      "text/plain": [
       "     pfr_id  week  qbr_total   pass_val    run_val   ybc_att   yac_att  \\\n",
       "0  AlleJo02     1  64.669373  73.387823  18.311439  3.086347  1.974908   \n",
       "1  AlleJo02     2  76.632861  38.236337  10.726471  3.356691  1.988114   \n",
       "2  AlleJo02     3  81.196381  27.263519   7.284969  3.225070  3.837519   \n",
       "\n",
       "   qb_plays gsis_it_id  \n",
       "0    2196.0      46076  \n",
       "1    2241.0      46076  \n",
       "2    2286.0      46076  "
      ]
     },
     "execution_count": 27,
     "metadata": {},
     "output_type": "execute_result"
    }
   ],
   "source": [
    "qbs_out = df_op.merge(main_ids,how='left',on='pfr_id')\n",
    "qbs_out.head(3)"
   ]
  },
  {
   "cell_type": "markdown",
   "metadata": {},
   "source": [
    "# Fill rookie, other missing stats here\n",
    "\n",
    "Rookies and exceptions of retreads like Trevor Siemian (no data in '19-'21) filled w/median and set career snaps to 0"
   ]
  },
  {
   "cell_type": "code",
   "execution_count": 28,
   "metadata": {},
   "outputs": [
    {
     "data": {
      "text/plain": [
       "array(['BlouDa00', 'DobbJo00', 'EhliSa00', 'HoweSa00', 'HuntTy01',\n",
       "       'LancTr00', 'PerkBr02', 'PeteNa00', 'PickKe00', 'PurdBr00',\n",
       "       'RiddDe00', 'RushCo00', 'RypiBr00', 'SiemTr00', 'SmitGe00',\n",
       "       'StidJa00', 'StreCh00', 'ThomSk00', 'WalkPh00', 'WebbDa00',\n",
       "       'WhitMi01', 'WillMa12', 'ZappBa00'], dtype=object)"
      ]
     },
     "execution_count": 28,
     "metadata": {},
     "output_type": "execute_result"
    }
   ],
   "source": [
    "# fill rook stats w/median\n",
    "fnd = dict(qb_21[qbs_out.columns[:-1]].iloc[:,2:-1].median())\n",
    "qbs_out[qbs_out.ybc_att.isna()].pfr_id.unique()"
   ]
  },
  {
   "cell_type": "code",
   "execution_count": 29,
   "metadata": {},
   "outputs": [],
   "source": [
    "# fill career snaps w/o\n",
    "qbs_out.fillna(fnd,inplace=True)\n",
    "qbs_out['qb_plays'] = qbs_out['qb_plays'].fillna(0)"
   ]
  },
  {
   "cell_type": "code",
   "execution_count": 30,
   "metadata": {},
   "outputs": [
    {
     "data": {
      "text/html": [
       "<div>\n",
       "<style scoped>\n",
       "    .dataframe tbody tr th:only-of-type {\n",
       "        vertical-align: middle;\n",
       "    }\n",
       "\n",
       "    .dataframe tbody tr th {\n",
       "        vertical-align: top;\n",
       "    }\n",
       "\n",
       "    .dataframe thead th {\n",
       "        text-align: right;\n",
       "    }\n",
       "</style>\n",
       "<table border=\"1\" class=\"dataframe\">\n",
       "  <thead>\n",
       "    <tr style=\"text-align: right;\">\n",
       "      <th></th>\n",
       "      <th>pfr_id</th>\n",
       "      <th>week</th>\n",
       "      <th>qbr_total</th>\n",
       "      <th>pass_val</th>\n",
       "      <th>run_val</th>\n",
       "      <th>ybc_att</th>\n",
       "      <th>yac_att</th>\n",
       "      <th>qb_plays</th>\n",
       "      <th>gsis_it_id</th>\n",
       "    </tr>\n",
       "  </thead>\n",
       "  <tbody>\n",
       "    <tr>\n",
       "      <th>0</th>\n",
       "      <td>AlleJo02</td>\n",
       "      <td>1</td>\n",
       "      <td>64.669373</td>\n",
       "      <td>73.387823</td>\n",
       "      <td>18.311439</td>\n",
       "      <td>3.086347</td>\n",
       "      <td>1.974908</td>\n",
       "      <td>2196.0</td>\n",
       "      <td>46076</td>\n",
       "    </tr>\n",
       "    <tr>\n",
       "      <th>1</th>\n",
       "      <td>AlleJo02</td>\n",
       "      <td>2</td>\n",
       "      <td>76.632861</td>\n",
       "      <td>38.236337</td>\n",
       "      <td>10.726471</td>\n",
       "      <td>3.356691</td>\n",
       "      <td>1.988114</td>\n",
       "      <td>2241.0</td>\n",
       "      <td>46076</td>\n",
       "    </tr>\n",
       "  </tbody>\n",
       "</table>\n",
       "</div>"
      ],
      "text/plain": [
       "     pfr_id  week  qbr_total   pass_val    run_val   ybc_att   yac_att  \\\n",
       "0  AlleJo02     1  64.669373  73.387823  18.311439  3.086347  1.974908   \n",
       "1  AlleJo02     2  76.632861  38.236337  10.726471  3.356691  1.988114   \n",
       "\n",
       "   qb_plays gsis_it_id  \n",
       "0    2196.0      46076  \n",
       "1    2241.0      46076  "
      ]
     },
     "execution_count": 30,
     "metadata": {},
     "output_type": "execute_result"
    }
   ],
   "source": [
    "qbs_out['gsis_it_id'] = qbs_out['gsis_it_id'].astype(int).astype(str)\n",
    "qbs_out.head(2)"
   ]
  },
  {
   "cell_type": "markdown",
   "metadata": {},
   "source": [
    "# Integrate to play level"
   ]
  },
  {
   "cell_type": "code",
   "execution_count": 31,
   "metadata": {},
   "outputs": [],
   "source": [
    "df_player_play = pd.read_csv('data/player_play.csv')[['gameId','playId','nflId']]\n",
    "df_games = pd.read_csv('data/games.csv')[['gameId','week']]\n",
    "df_weeks = df_player_play.merge(df_games,how='left',on='gameId').drop_duplicates()"
   ]
  },
  {
   "cell_type": "code",
   "execution_count": 32,
   "metadata": {},
   "outputs": [
    {
     "data": {
      "text/html": [
       "<div>\n",
       "<style scoped>\n",
       "    .dataframe tbody tr th:only-of-type {\n",
       "        vertical-align: middle;\n",
       "    }\n",
       "\n",
       "    .dataframe tbody tr th {\n",
       "        vertical-align: top;\n",
       "    }\n",
       "\n",
       "    .dataframe thead th {\n",
       "        text-align: right;\n",
       "    }\n",
       "</style>\n",
       "<table border=\"1\" class=\"dataframe\">\n",
       "  <thead>\n",
       "    <tr style=\"text-align: right;\">\n",
       "      <th></th>\n",
       "      <th>gameId</th>\n",
       "      <th>playId</th>\n",
       "      <th>nflId</th>\n",
       "      <th>week</th>\n",
       "    </tr>\n",
       "  </thead>\n",
       "  <tbody>\n",
       "    <tr>\n",
       "      <th>0</th>\n",
       "      <td>2022090800</td>\n",
       "      <td>56</td>\n",
       "      <td>35472</td>\n",
       "      <td>1</td>\n",
       "    </tr>\n",
       "    <tr>\n",
       "      <th>1</th>\n",
       "      <td>2022090800</td>\n",
       "      <td>56</td>\n",
       "      <td>42392</td>\n",
       "      <td>1</td>\n",
       "    </tr>\n",
       "  </tbody>\n",
       "</table>\n",
       "</div>"
      ],
      "text/plain": [
       "       gameId  playId  nflId  week\n",
       "0  2022090800      56  35472     1\n",
       "1  2022090800      56  42392     1"
      ]
     },
     "execution_count": 32,
     "metadata": {},
     "output_type": "execute_result"
    }
   ],
   "source": [
    "df_weeks.head(2)"
   ]
  },
  {
   "cell_type": "markdown",
   "metadata": {},
   "source": [
    "Fix some ID typing issues:"
   ]
  },
  {
   "cell_type": "code",
   "execution_count": 33,
   "metadata": {},
   "outputs": [],
   "source": [
    "df_weeks['nflId'] = df_weeks['nflId'].astype(int).astype(str)\n",
    "df_weeks['week'] = df_weeks['week'].astype(int).astype(str)\n",
    "qbs_out['week'] = qbs_out['week'].astype(int).astype(str)"
   ]
  },
  {
   "cell_type": "code",
   "execution_count": 34,
   "metadata": {},
   "outputs": [],
   "source": [
    "df_op= df_weeks.merge(qbs_out,how='inner',left_on=['nflId','week'],right_on=['gsis_it_id','week'])"
   ]
  },
  {
   "cell_type": "markdown",
   "metadata": {},
   "source": [
    "NA's are non-qb's, so we inner merge; we also drop nflId, since we're already at game-play level"
   ]
  },
  {
   "cell_type": "code",
   "execution_count": 35,
   "metadata": {},
   "outputs": [
    {
     "data": {
      "text/plain": [
       "2"
      ]
     },
     "execution_count": 35,
     "metadata": {},
     "output_type": "execute_result"
    }
   ],
   "source": [
    "df_op[['gameId','playId']].duplicated().sum()"
   ]
  },
  {
   "cell_type": "markdown",
   "metadata": {},
   "source": [
    "Malik Willis is used by Titans as a decoy for a couple of plays, so we excise them:"
   ]
  },
  {
   "cell_type": "code",
   "execution_count": 36,
   "metadata": {},
   "outputs": [
    {
     "data": {
      "text/html": [
       "<div>\n",
       "<style scoped>\n",
       "    .dataframe tbody tr th:only-of-type {\n",
       "        vertical-align: middle;\n",
       "    }\n",
       "\n",
       "    .dataframe tbody tr th {\n",
       "        vertical-align: top;\n",
       "    }\n",
       "\n",
       "    .dataframe thead th {\n",
       "        text-align: right;\n",
       "    }\n",
       "</style>\n",
       "<table border=\"1\" class=\"dataframe\">\n",
       "  <thead>\n",
       "    <tr style=\"text-align: right;\">\n",
       "      <th></th>\n",
       "      <th>gameId</th>\n",
       "      <th>playId</th>\n",
       "      <th>nflId</th>\n",
       "      <th>week</th>\n",
       "      <th>pfr_id</th>\n",
       "      <th>qbr_total</th>\n",
       "      <th>pass_val</th>\n",
       "      <th>run_val</th>\n",
       "      <th>ybc_att</th>\n",
       "      <th>yac_att</th>\n",
       "      <th>qb_plays</th>\n",
       "      <th>gsis_it_id</th>\n",
       "    </tr>\n",
       "  </thead>\n",
       "  <tbody>\n",
       "    <tr>\n",
       "      <th>11759</th>\n",
       "      <td>2022102305</td>\n",
       "      <td>430</td>\n",
       "      <td>38538</td>\n",
       "      <td>7</td>\n",
       "      <td>TannRy00</td>\n",
       "      <td>44.739061</td>\n",
       "      <td>8.081103</td>\n",
       "      <td>2.190302</td>\n",
       "      <td>1.523148</td>\n",
       "      <td>0.568836</td>\n",
       "      <td>1814.0</td>\n",
       "      <td>38538</td>\n",
       "    </tr>\n",
       "    <tr>\n",
       "      <th>11790</th>\n",
       "      <td>2022102305</td>\n",
       "      <td>2879</td>\n",
       "      <td>38538</td>\n",
       "      <td>7</td>\n",
       "      <td>TannRy00</td>\n",
       "      <td>44.739061</td>\n",
       "      <td>8.081103</td>\n",
       "      <td>2.190302</td>\n",
       "      <td>1.523148</td>\n",
       "      <td>0.568836</td>\n",
       "      <td>1814.0</td>\n",
       "      <td>38538</td>\n",
       "    </tr>\n",
       "    <tr>\n",
       "      <th>11862</th>\n",
       "      <td>2022102305</td>\n",
       "      <td>430</td>\n",
       "      <td>54551</td>\n",
       "      <td>7</td>\n",
       "      <td>WillMa12</td>\n",
       "      <td>57.500000</td>\n",
       "      <td>32.661255</td>\n",
       "      <td>3.157565</td>\n",
       "      <td>2.756089</td>\n",
       "      <td>0.700000</td>\n",
       "      <td>0.0</td>\n",
       "      <td>54551</td>\n",
       "    </tr>\n",
       "    <tr>\n",
       "      <th>11864</th>\n",
       "      <td>2022102305</td>\n",
       "      <td>2879</td>\n",
       "      <td>54551</td>\n",
       "      <td>7</td>\n",
       "      <td>WillMa12</td>\n",
       "      <td>57.500000</td>\n",
       "      <td>32.661255</td>\n",
       "      <td>3.157565</td>\n",
       "      <td>2.756089</td>\n",
       "      <td>0.700000</td>\n",
       "      <td>0.0</td>\n",
       "      <td>54551</td>\n",
       "    </tr>\n",
       "  </tbody>\n",
       "</table>\n",
       "</div>"
      ],
      "text/plain": [
       "           gameId  playId  nflId week    pfr_id  qbr_total   pass_val  \\\n",
       "11759  2022102305     430  38538    7  TannRy00  44.739061   8.081103   \n",
       "11790  2022102305    2879  38538    7  TannRy00  44.739061   8.081103   \n",
       "11862  2022102305     430  54551    7  WillMa12  57.500000  32.661255   \n",
       "11864  2022102305    2879  54551    7  WillMa12  57.500000  32.661255   \n",
       "\n",
       "        run_val   ybc_att   yac_att  qb_plays gsis_it_id  \n",
       "11759  2.190302  1.523148  0.568836    1814.0      38538  \n",
       "11790  2.190302  1.523148  0.568836    1814.0      38538  \n",
       "11862  3.157565  2.756089  0.700000       0.0      54551  \n",
       "11864  3.157565  2.756089  0.700000       0.0      54551  "
      ]
     },
     "execution_count": 36,
     "metadata": {},
     "output_type": "execute_result"
    }
   ],
   "source": [
    "df_op[df_op[['gameId','playId']].duplicated(keep=False)]"
   ]
  },
  {
   "cell_type": "code",
   "execution_count": 37,
   "metadata": {},
   "outputs": [],
   "source": [
    "df_out = df_op[~((df_op['gameId'] == 2022102305) & (df_op['pfr_id']=='WillMa12'))].drop(columns=['pfr_id','week','nflId','gsis_it_id'])"
   ]
  },
  {
   "cell_type": "code",
   "execution_count": 38,
   "metadata": {},
   "outputs": [
    {
     "data": {
      "text/html": [
       "<div>\n",
       "<style scoped>\n",
       "    .dataframe tbody tr th:only-of-type {\n",
       "        vertical-align: middle;\n",
       "    }\n",
       "\n",
       "    .dataframe tbody tr th {\n",
       "        vertical-align: top;\n",
       "    }\n",
       "\n",
       "    .dataframe thead th {\n",
       "        text-align: right;\n",
       "    }\n",
       "</style>\n",
       "<table border=\"1\" class=\"dataframe\">\n",
       "  <thead>\n",
       "    <tr style=\"text-align: right;\">\n",
       "      <th></th>\n",
       "      <th>gameId</th>\n",
       "      <th>playId</th>\n",
       "      <th>qbr_total</th>\n",
       "      <th>pass_val</th>\n",
       "      <th>run_val</th>\n",
       "      <th>ybc_att</th>\n",
       "      <th>yac_att</th>\n",
       "      <th>qb_plays</th>\n",
       "    </tr>\n",
       "  </thead>\n",
       "  <tbody>\n",
       "    <tr>\n",
       "      <th>0</th>\n",
       "      <td>2022090800</td>\n",
       "      <td>56</td>\n",
       "      <td>64.669373</td>\n",
       "      <td>73.387823</td>\n",
       "      <td>18.311439</td>\n",
       "      <td>3.086347</td>\n",
       "      <td>1.974908</td>\n",
       "      <td>2196.0</td>\n",
       "    </tr>\n",
       "    <tr>\n",
       "      <th>1</th>\n",
       "      <td>2022090800</td>\n",
       "      <td>80</td>\n",
       "      <td>64.669373</td>\n",
       "      <td>73.387823</td>\n",
       "      <td>18.311439</td>\n",
       "      <td>3.086347</td>\n",
       "      <td>1.974908</td>\n",
       "      <td>2196.0</td>\n",
       "    </tr>\n",
       "    <tr>\n",
       "      <th>2</th>\n",
       "      <td>2022090800</td>\n",
       "      <td>101</td>\n",
       "      <td>64.669373</td>\n",
       "      <td>73.387823</td>\n",
       "      <td>18.311439</td>\n",
       "      <td>3.086347</td>\n",
       "      <td>1.974908</td>\n",
       "      <td>2196.0</td>\n",
       "    </tr>\n",
       "  </tbody>\n",
       "</table>\n",
       "</div>"
      ],
      "text/plain": [
       "       gameId  playId  qbr_total   pass_val    run_val   ybc_att   yac_att  \\\n",
       "0  2022090800      56  64.669373  73.387823  18.311439  3.086347  1.974908   \n",
       "1  2022090800      80  64.669373  73.387823  18.311439  3.086347  1.974908   \n",
       "2  2022090800     101  64.669373  73.387823  18.311439  3.086347  1.974908   \n",
       "\n",
       "   qb_plays  \n",
       "0    2196.0  \n",
       "1    2196.0  \n",
       "2    2196.0  "
      ]
     },
     "execution_count": 38,
     "metadata": {},
     "output_type": "execute_result"
    }
   ],
   "source": [
    "df_out.head(3)"
   ]
  },
  {
   "cell_type": "code",
   "execution_count": 39,
   "metadata": {},
   "outputs": [],
   "source": [
    "import os\n",
    "root_dir = os.getcwd()"
   ]
  },
  {
   "cell_type": "code",
   "execution_count": 41,
   "metadata": {},
   "outputs": [],
   "source": [
    "df_out.to_csv(os.path.join(root_dir,'data/qbr_data.csv'),index=False)"
   ]
  },
  {
   "cell_type": "code",
   "execution_count": null,
   "metadata": {},
   "outputs": [],
   "source": []
  }
 ],
 "metadata": {
  "kernelspec": {
   "display_name": ".venv",
   "language": "python",
   "name": "python3"
  },
  "language_info": {
   "codemirror_mode": {
    "name": "ipython",
    "version": 3
   },
   "file_extension": ".py",
   "mimetype": "text/x-python",
   "name": "python",
   "nbconvert_exporter": "python",
   "pygments_lexer": "ipython3",
   "version": "3.9.15"
  }
 },
 "nbformat": 4,
 "nbformat_minor": 2
}
