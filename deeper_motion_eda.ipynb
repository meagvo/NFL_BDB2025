{
 "cells": [
  {
   "cell_type": "markdown",
   "metadata": {},
   "source": [
    "# Load data\n",
    "\n",
    "We start by loading train & test data, and adding initial motion info:"
   ]
  },
  {
   "cell_type": "code",
   "execution_count": 1,
   "metadata": {},
   "outputs": [],
   "source": [
    "import pandas as pd \n",
    "import os\n",
    "import numpy as np\n",
    "from data_cleaning import change_columns_types\n",
    "from sklearn.metrics import roc_auc_score, accuracy_score, confusion_matrix, ConfusionMatrixDisplay\n",
    "\n",
    "#immport necessary libraries and filter warnings\n",
    "import warnings\n",
    "# Create imputer, transformer objecs\n",
    "from sklearn.compose import ColumnTransformer\n",
    "import lightgbm\n",
    "from sklearn.model_selection import GridSearchCV\n",
    "\n",
    "from sklearn.model_selection import StratifiedKFold, PredefinedSplit\n",
    "from sklearn.preprocessing import MinMaxScaler\n",
    "from sklearn.pipeline import Pipeline\n",
    "from sklearn.impute import SimpleImputer\n",
    "from utility_db_25 import mark_columns, TrainML, build_catboost, optuna_call, test_ML, build_transformer, get_momentum_cols, create_momentum_index, get_final_features, get_motion_cols, motion_complexity_score, calc_tempo\n",
    "from team_logos import graph_run_pass, get_logo_df, load_previous_year_passruns\n",
    "warnings.filterwarnings(\"ignore\")"
   ]
  },
  {
   "cell_type": "code",
   "execution_count": 2,
   "metadata": {},
   "outputs": [
    {
     "name": "stdout",
     "output_type": "stream",
     "text": [
      "train colums:  463\n",
      "test colums:  367\n"
     ]
    }
   ],
   "source": [
    "root_dir = os.getcwd()\n",
    "\n",
    "games_fname= os.path.join(root_dir, \"data/games.csv\")\n",
    "plays_fname = os.path.join(root_dir,  \"data/plays.csv\")\n",
    "\n",
    "train_data=pd.read_csv(os.path.join(root_dir, \"data/train_data.csv\"))\n",
    "test_data=pd.read_csv(os.path.join(root_dir, \"data/test_data.csv\"))\n",
    "print('train colums: ', len(train_data.columns))\n",
    "print('test colums: ', len(test_data.columns))"
   ]
  },
  {
   "cell_type": "code",
   "execution_count": 3,
   "metadata": {},
   "outputs": [],
   "source": [
    "include_columns=[x for x in test_data.columns if '_def' not in x]+['pass_rate_def']\n",
    "train_data=train_data[include_columns]\n",
    "test_data = test_data[include_columns]"
   ]
  },
  {
   "cell_type": "code",
   "execution_count": 4,
   "metadata": {},
   "outputs": [],
   "source": [
    "def get_momentum_cols(final_features):\n",
    "    momentum_cols=[]\n",
    "    for f in final_features:\n",
    "        if 'shiftSinceLineset' in f:\n",
    "            momentum_cols.append(f)\n",
    "    return momentum_cols"
   ]
  },
  {
   "cell_type": "code",
   "execution_count": 5,
   "metadata": {},
   "outputs": [],
   "source": [
    "def get_motion_cols(final_features):\n",
    "    motion_cols=[]\n",
    "    for f in final_features:\n",
    "        if 'motionSinceLineset' in f:\n",
    "            motion_cols.append(f)\n",
    "    return motion_cols\n"
   ]
  },
  {
   "cell_type": "code",
   "execution_count": 6,
   "metadata": {},
   "outputs": [],
   "source": [
    "def create_momentum_index(data, momentum_cols):\n",
    "    data['presnap_momentum']=data[momentum_cols].sum(axis=1).fillna(0).astype(float)\n",
    "    data.drop(columns=momentum_cols, inplace=True)\n",
    "    return data"
   ]
  },
  {
   "cell_type": "code",
   "execution_count": 7,
   "metadata": {},
   "outputs": [],
   "source": [
    "motion_cols=get_motion_cols(train_data.columns)\n",
    "momentum_cols=get_momentum_cols(train_data.columns)"
   ]
  },
  {
   "cell_type": "markdown",
   "metadata": {},
   "source": [
    "### Explore positional motion/shift breakdown:\n",
    "\n",
    "Below we see the number of records, by position, that have motion and shift data."
   ]
  },
  {
   "cell_type": "code",
   "execution_count": 8,
   "metadata": {},
   "outputs": [
    {
     "data": {
      "text/plain": [
       "motionSinceLineset|C_1         0\n",
       "motionSinceLineset|C_2         0\n",
       "motionSinceLineset|FB_1      207\n",
       "motionSinceLineset|G_1         0\n",
       "motionSinceLineset|G_2         0\n",
       "motionSinceLineset|G_3         0\n",
       "motionSinceLineset|ILB_1       0\n",
       "motionSinceLineset|QB_1        3\n",
       "motionSinceLineset|RB_1     1189\n",
       "motionSinceLineset|RB_2      105\n",
       "motionSinceLineset|TE_1     1144\n",
       "motionSinceLineset|TE_2      353\n",
       "motionSinceLineset|TE_3       57\n",
       "motionSinceLineset|T_1         0\n",
       "motionSinceLineset|T_2         0\n",
       "motionSinceLineset|T_3         0\n",
       "motionSinceLineset|T_4         0\n",
       "motionSinceLineset|WR_1      793\n",
       "motionSinceLineset|WR_2      799\n",
       "motionSinceLineset|WR_3      679\n",
       "motionSinceLineset|WR_4        9\n",
       "motionSinceLineset|WR_5        0\n",
       "dtype: int64"
      ]
     },
     "execution_count": 8,
     "metadata": {},
     "output_type": "execute_result"
    }
   ],
   "source": [
    "train_data[motion_cols].sum()"
   ]
  },
  {
   "cell_type": "code",
   "execution_count": 9,
   "metadata": {},
   "outputs": [
    {
     "data": {
      "text/plain": [
       "shiftSinceLineset|C_1         6\n",
       "shiftSinceLineset|C_2         1\n",
       "shiftSinceLineset|FB_1      149\n",
       "shiftSinceLineset|G_1         5\n",
       "shiftSinceLineset|G_2         8\n",
       "shiftSinceLineset|G_3         6\n",
       "shiftSinceLineset|ILB_1       0\n",
       "shiftSinceLineset|QB_1        9\n",
       "shiftSinceLineset|RB_1      461\n",
       "shiftSinceLineset|RB_2       25\n",
       "shiftSinceLineset|TE_1     1073\n",
       "shiftSinceLineset|TE_2      369\n",
       "shiftSinceLineset|TE_3       65\n",
       "shiftSinceLineset|T_1        12\n",
       "shiftSinceLineset|T_2         8\n",
       "shiftSinceLineset|T_3         1\n",
       "shiftSinceLineset|T_4         0\n",
       "shiftSinceLineset|WR_1      423\n",
       "shiftSinceLineset|WR_2      428\n",
       "shiftSinceLineset|WR_3      318\n",
       "shiftSinceLineset|WR_4        1\n",
       "shiftSinceLineset|WR_5        0\n",
       "dtype: int64"
      ]
     },
     "execution_count": 9,
     "metadata": {},
     "output_type": "execute_result"
    }
   ],
   "source": [
    "train_data[momentum_cols].sum()"
   ]
  },
  {
   "cell_type": "markdown",
   "metadata": {},
   "source": [
    "### Flag OL, see if they shifted, see ratio of pass/run\n",
    "\n",
    "The OL never motions, and shifts rarely\n"
   ]
  },
  {
   "cell_type": "code",
   "execution_count": 10,
   "metadata": {},
   "outputs": [],
   "source": [
    "# flag if any OL shifted\n",
    "ol_cols = [x for x in momentum_cols if not set('BRE').intersection(x)]\n",
    "train_data['ol_shift'] = train_data[ol_cols].sum(axis=1)\n",
    "test_data['ol_shift'] = train_data[ol_cols].sum(axis=1)"
   ]
  },
  {
   "cell_type": "code",
   "execution_count": 11,
   "metadata": {},
   "outputs": [
    {
     "data": {
      "text/plain": [
       "0    22\n",
       "1     4\n",
       "Name: pass, dtype: int64"
      ]
     },
     "execution_count": 11,
     "metadata": {},
     "output_type": "execute_result"
    }
   ],
   "source": [
    "train_data[train_data['ol_shift'].astype(bool)]['pass'].value_counts()"
   ]
  },
  {
   "cell_type": "markdown",
   "metadata": {},
   "source": [
    "## Examine positional shift impact on pass rate\n",
    "\n",
    "We want to see the impact a position shifting has on pass rates below:"
   ]
  },
  {
   "cell_type": "code",
   "execution_count": 12,
   "metadata": {},
   "outputs": [],
   "source": [
    "wr_shift_cols = [x for x in momentum_cols if 'WR' in x]\n",
    "te_shift_cols = [x for x in momentum_cols if 'TE' in x]\n",
    "rb_shift_cols = [x for x in momentum_cols if 'RB' in x]\n",
    "fb_shift_cols = [x for x in momentum_cols if 'FB' in x]\n",
    "\n",
    "train_data['wr_shift'] = train_data[wr_shift_cols].sum(axis=1)\n",
    "train_data['te_shift'] = train_data[te_shift_cols].sum(axis=1)\n",
    "train_data['rb_shift'] = train_data[rb_shift_cols].sum(axis=1)\n",
    "train_data['fb_shift'] = train_data[fb_shift_cols].sum(axis=1)"
   ]
  },
  {
   "cell_type": "code",
   "execution_count": 13,
   "metadata": {},
   "outputs": [
    {
     "data": {
      "text/plain": [
       "['shiftSinceLineset|RB_1', 'shiftSinceLineset|RB_2']"
      ]
     },
     "execution_count": 13,
     "metadata": {},
     "output_type": "execute_result"
    }
   ],
   "source": [
    "[x for x in momentum_cols if 'RB' in x]"
   ]
  },
  {
   "cell_type": "markdown",
   "metadata": {},
   "source": [
    "We see that RB's are the only position who, by shifting, increase pass rate:"
   ]
  },
  {
   "cell_type": "code",
   "execution_count": 14,
   "metadata": {},
   "outputs": [
    {
     "data": {
      "text/plain": [
       "478"
      ]
     },
     "execution_count": 14,
     "metadata": {},
     "output_type": "execute_result"
    }
   ],
   "source": [
    "len(train_data[train_data['rb_shift'].astype(bool)])"
   ]
  },
  {
   "cell_type": "code",
   "execution_count": 15,
   "metadata": {},
   "outputs": [
    {
     "data": {
      "text/plain": [
       "486"
      ]
     },
     "execution_count": 15,
     "metadata": {},
     "output_type": "execute_result"
    }
   ],
   "source": [
    "train_data['rb_shift'].sum()"
   ]
  },
  {
   "cell_type": "code",
   "execution_count": 16,
   "metadata": {},
   "outputs": [
    {
     "name": "stdout",
     "output_type": "stream",
     "text": [
      "Any WR shifting implies a pass rate of 45%\n",
      "Any RB shifting implies a pass rate of 79%\n",
      "Any TE shifting implies a pass rate of 31%\n",
      "Any FB shifting implies a pass rate of 22%\n"
     ]
    }
   ],
   "source": [
    "wr_full_ratio = train_data[train_data['wr_shift'].astype(bool)]['pass'].sum()/len(train_data[train_data['wr_shift'].astype(bool)])\n",
    "te_full_ratio = train_data[train_data['te_shift'].astype(bool)]['pass'].sum()/len(train_data[train_data['te_shift'].astype(bool)])\n",
    "rb_full_ratio = train_data[train_data['rb_shift'].astype(bool)]['pass'].sum()/len(train_data[train_data['rb_shift'].astype(bool)])\n",
    "fb_full_ratio = train_data[train_data['fb_shift'].astype(bool)]['pass'].sum()/len(train_data[train_data['fb_shift'].astype(bool)])\n",
    "print(f'Any WR shifting implies a pass rate of {int(100*wr_full_ratio)}%')\n",
    "print(f'Any RB shifting implies a pass rate of {int(100*rb_full_ratio)}%')\n",
    "print(f'Any TE shifting implies a pass rate of {int(100*te_full_ratio)}%')\n",
    "print(f'Any FB shifting implies a pass rate of {int(100*fb_full_ratio)}%')"
   ]
  },
  {
   "cell_type": "markdown",
   "metadata": {},
   "source": [
    "#### WR shift/no-shift comparison\n",
    "\n",
    "Notably, no real breakdown between *which* WR shifts, just that a WR shift happened.\n",
    "\n",
    "Shifting slightly implies a run more often than not, while no shift implies a pass:"
   ]
  },
  {
   "cell_type": "code",
   "execution_count": 17,
   "metadata": {},
   "outputs": [
    {
     "name": "stdout",
     "output_type": "stream",
     "text": [
      "Pass ratio (wr1 shift) is: 48%\n",
      "Pass ratio (wr2 shift) is: 43%\n",
      "Pass ratio (wr3 shift) is: 49%\n"
     ]
    }
   ],
   "source": [
    "for i in range(1,4):\n",
    "    wrs_df = train_data[train_data[f'shiftSinceLineset|WR_{i}'].astype(bool)]\n",
    "    print(f'Pass ratio (wr{i} shift) is: {int(100*round(wrs_df[\"pass\"].sum()/len(wrs_df),2))}%')"
   ]
  },
  {
   "cell_type": "code",
   "execution_count": 18,
   "metadata": {},
   "outputs": [
    {
     "name": "stdout",
     "output_type": "stream",
     "text": [
      "Pass ratio (no wr1 shift) is: 61%\n",
      "Pass ratio (no wr2 shift) is: 61%\n",
      "Pass ratio (no wr3 shift) is: 61%\n"
     ]
    }
   ],
   "source": [
    "for i in range(1,4):\n",
    "    nwrs_df = train_data[~train_data[f'shiftSinceLineset|WR_{i}'].astype(bool)]\n",
    "    print(f'Pass ratio (no wr{i} shift) is: {int(100*round(nwrs_df[\"pass\"].sum()/len(nwrs_df),2))}%')"
   ]
  },
  {
   "cell_type": "markdown",
   "metadata": {},
   "source": [
    "Note also, it's usually just one WR that moves:"
   ]
  },
  {
   "cell_type": "code",
   "execution_count": 19,
   "metadata": {},
   "outputs": [
    {
     "data": {
      "text/plain": [
       "0    13498\n",
       "1      961\n",
       "2       82\n",
       "3       15\n",
       "Name: wr_shift, dtype: int64"
      ]
     },
     "execution_count": 19,
     "metadata": {},
     "output_type": "execute_result"
    }
   ],
   "source": [
    "train_data['wr_shift'].value_counts()"
   ]
  },
  {
   "cell_type": "markdown",
   "metadata": {},
   "source": [
    "#### TE shift\n",
    "\n",
    "TE Shifting even more start, strongly implying a run:"
   ]
  },
  {
   "cell_type": "code",
   "execution_count": 20,
   "metadata": {},
   "outputs": [
    {
     "name": "stdout",
     "output_type": "stream",
     "text": [
      "pass ratio (te1 shift) is: 35%\n",
      "pass ratio (te2 shift) is: 28%\n",
      "pass ratio (te3 shift) is: 31%\n"
     ]
    }
   ],
   "source": [
    "for i in range(1,4):\n",
    "    tes_df = train_data[train_data[f'shiftSinceLineset|TE_{i}'].astype(bool)]\n",
    "    print(f'pass ratio (te{i} shift) is: {int(100*round(tes_df[\"pass\"].sum()/len(tes_df),2))}%')"
   ]
  },
  {
   "cell_type": "code",
   "execution_count": 21,
   "metadata": {},
   "outputs": [
    {
     "name": "stdout",
     "output_type": "stream",
     "text": [
      "pass ratio (no te1 shift) is: 62%\n",
      "pass ratio (no te2 shift) is: 61%\n",
      "pass ratio (no te3 shift) is: 61%\n"
     ]
    }
   ],
   "source": [
    "for i in range(1,4):\n",
    "    ntes_df = train_data[~train_data[f'shiftSinceLineset|TE_{i}'].astype(bool)]\n",
    "    print(f'pass ratio (no te{i} shift) is: {int(100*round(ntes_df[\"pass\"].sum()/len(ntes_df),2))}%')"
   ]
  },
  {
   "cell_type": "markdown",
   "metadata": {},
   "source": [
    "#### RB Shift:\n",
    "\n",
    "This is notable: while TE/WR shift *decrease* pass odds, RB shift *increases* them"
   ]
  },
  {
   "cell_type": "code",
   "execution_count": 22,
   "metadata": {},
   "outputs": [
    {
     "name": "stdout",
     "output_type": "stream",
     "text": [
      "pass ratio (rb1 shift) is: 80.0%\n",
      "pass ratio (rb2 shift) is: 64.0%\n"
     ]
    }
   ],
   "source": [
    "for i in range(1,3):\n",
    "    rbs_df = train_data[train_data[f'shiftSinceLineset|RB_{i}'].astype(bool)]\n",
    "    print(f'pass ratio (rb{i} shift) is: {100*round(rbs_df[\"pass\"].sum()/len(rbs_df),2)}%')"
   ]
  },
  {
   "cell_type": "code",
   "execution_count": 23,
   "metadata": {},
   "outputs": [
    {
     "name": "stdout",
     "output_type": "stream",
     "text": [
      "pass ratio (no rb1 shift) is: 60.0%\n",
      "pass ratio (no rb2 shift) is: 60.0%\n"
     ]
    }
   ],
   "source": [
    "for i in range(1,3):\n",
    "    nrbs_df = train_data[~train_data[f'shiftSinceLineset|RB_{i}'].astype(bool)]\n",
    "    print(f'pass ratio (no rb{i} shift) is: {100*round(nrbs_df[\"pass\"].sum()/len(nrbs_df),2)}%')"
   ]
  },
  {
   "cell_type": "markdown",
   "metadata": {},
   "source": [
    "#### FB Shift \n",
    "\n",
    "FB shifts also depress pass rate:"
   ]
  },
  {
   "cell_type": "code",
   "execution_count": 24,
   "metadata": {},
   "outputs": [
    {
     "name": "stdout",
     "output_type": "stream",
     "text": [
      "pass ratio (fb shifted) is: 0.2214765100671141\n",
      "pass ratio (fb not shifted) is: 0.6085930450475463\n"
     ]
    }
   ],
   "source": [
    "fbs_df = train_data[train_data['shiftSinceLineset|FB_1'].astype(bool)]\n",
    "fbs_rate = fbs_df['pass'].sum()/len(fbs_df)\n",
    "print(f'pass ratio (fb shifted) is: {fbs_rate}')\n",
    "\n",
    "fbns_df = train_data[~train_data['shiftSinceLineset|FB_1'].astype(bool)]\n",
    "fbns_rate = fbns_df['pass'].sum()/len(fbns_df)\n",
    "print(f'pass ratio (fb not shifted) is: {fbns_rate}')"
   ]
  },
  {
   "cell_type": "markdown",
   "metadata": {},
   "source": [
    "## Motion breakdown\n",
    "\n",
    "We shifts; now we do motion, first with wr's:"
   ]
  },
  {
   "cell_type": "code",
   "execution_count": 25,
   "metadata": {},
   "outputs": [
    {
     "name": "stdout",
     "output_type": "stream",
     "text": [
      "Pass rate (wr1 motion) is: 79%\n",
      "Pass rate (wr2 motion) is: 73%\n",
      "Pass rate (wr3 motion) is: 75%\n"
     ]
    }
   ],
   "source": [
    "for i in range(1,4):\n",
    "    wrm_df = train_data[train_data[f'motionSinceLineset|WR_{i}'].astype(bool)]\n",
    "    print(f'Pass rate (wr{i} motion) is: {int(100*round(wrm_df[\"pass\"].sum()/len(wrm_df),2))}%')"
   ]
  },
  {
   "cell_type": "code",
   "execution_count": 26,
   "metadata": {},
   "outputs": [
    {
     "name": "stdout",
     "output_type": "stream",
     "text": [
      "Pass rate (no wr1 motion) is: 59%\n",
      "Pass rate (no wr2 motion) is: 60%\n",
      "Pass rate (no wr3 motion) is: 60%\n"
     ]
    }
   ],
   "source": [
    "for i in range(1,4):\n",
    "    nwrm_df = train_data[~train_data[f'motionSinceLineset|WR_{i}'].astype(bool)]\n",
    "    print(f'Pass rate (no wr{i} motion) is: {int(100*round(nwrm_df[\"pass\"].sum()/len(nwrm_df),2))}%')"
   ]
  },
  {
   "cell_type": "markdown",
   "metadata": {},
   "source": [
    "#### Now TE's:"
   ]
  },
  {
   "cell_type": "code",
   "execution_count": 27,
   "metadata": {},
   "outputs": [
    {
     "name": "stdout",
     "output_type": "stream",
     "text": [
      "Pass rate (te1 motion) is: 74%\n",
      "Pass rate (te2 motion) is: 70%\n",
      "Pass rate (te3 motion) is: 72%\n"
     ]
    }
   ],
   "source": [
    "for i in range(1,4):\n",
    "    tem_df = train_data[train_data[f'motionSinceLineset|TE_{i}'].astype(bool)]\n",
    "    print(f'Pass rate (te{i} motion) is: {int(100*round(tem_df[\"pass\"].sum()/len(tem_df),2))}%')"
   ]
  },
  {
   "cell_type": "code",
   "execution_count": 28,
   "metadata": {},
   "outputs": [
    {
     "name": "stdout",
     "output_type": "stream",
     "text": [
      "Pass rate (no te1 motion) is: 59%\n",
      "Pass rate (no te2 motion) is: 60%\n",
      "Pass rate (no te3 motion) is: 60%\n"
     ]
    }
   ],
   "source": [
    "for i in range(1,4):\n",
    "    ntem_df = train_data[~train_data[f'motionSinceLineset|TE_{i}'].astype(bool)]\n",
    "    print(f'Pass rate (no te{i} motion) is: {int(100*round(ntem_df[\"pass\"].sum()/len(ntem_df),2))}%')"
   ]
  },
  {
   "cell_type": "markdown",
   "metadata": {},
   "source": [
    "#### RB's:"
   ]
  },
  {
   "cell_type": "code",
   "execution_count": 29,
   "metadata": {},
   "outputs": [
    {
     "name": "stdout",
     "output_type": "stream",
     "text": [
      "Pass rate (rb1 motion) is: 74%\n",
      "Pass rate (rb2 motion) is: 55%\n"
     ]
    }
   ],
   "source": [
    "for i in range(1,3):\n",
    "    rbm_df = train_data[train_data[f'motionSinceLineset|RB_{i}'].astype(bool)]\n",
    "    print(f'Pass rate (rb{i} motion) is: {int(100*round(rbm_df[\"pass\"].sum()/len(rbm_df),2))}%')"
   ]
  },
  {
   "cell_type": "code",
   "execution_count": 30,
   "metadata": {},
   "outputs": [
    {
     "name": "stdout",
     "output_type": "stream",
     "text": [
      "Pass rate (no rb1 motion) is: 59%\n",
      "Pass rate (no rb2 motion) is: 61%\n"
     ]
    }
   ],
   "source": [
    "for i in range(1,3):\n",
    "    nrbm_df = train_data[~train_data[f'motionSinceLineset|RB_{i}'].astype(bool)]\n",
    "    print(f'Pass rate (no rb{i} motion) is: {int(100*round(nrbm_df[\"pass\"].sum()/len(nrbm_df),2))}%')"
   ]
  },
  {
   "cell_type": "markdown",
   "metadata": {},
   "source": [
    "And finally, FB's:"
   ]
  },
  {
   "cell_type": "code",
   "execution_count": 31,
   "metadata": {},
   "outputs": [
    {
     "name": "stdout",
     "output_type": "stream",
     "text": [
      "pass ratio (fb motion) is: 0.6666666666666666\n",
      "pass ratio (no fb motion) is: 0.6037354519478709\n"
     ]
    }
   ],
   "source": [
    "fbm_df = train_data[train_data['motionSinceLineset|FB_1'].astype(bool)]\n",
    "fbm_rate = fbm_df['pass'].sum()/len(fbm_df)\n",
    "print(f'pass ratio (fb motion) is: {fbm_rate}')\n",
    "\n",
    "fbm_df = train_data[~train_data['motionSinceLineset|FB_1'].astype(bool)]\n",
    "fbm_rate = fbm_df['pass'].sum()/len(fbm_df)\n",
    "print(f'pass ratio (no fb motion) is: {fbm_rate}')"
   ]
  },
  {
   "cell_type": "markdown",
   "metadata": {},
   "source": [
    "# Create new shift and motion metrics"
   ]
  },
  {
   "cell_type": "markdown",
   "metadata": {},
   "source": [
    "### Explore how motion-momentum affects pass rates\n",
    "\n",
    "We can see why motion-momentum is such a strong metric below. \n",
    "\n",
    "In short, if more players are motioning, that implies a pass, while more shifting implies a run.\n",
    "\n",
    "If both are equal (potentially implying neither a motion nor a shift), we get 60%, which is nearly the league base pass rate."
   ]
  },
  {
   "cell_type": "code",
   "execution_count": 32,
   "metadata": {},
   "outputs": [
    {
     "name": "stdout",
     "output_type": "stream",
     "text": [
      "Pass rate when more players shift than motion is: 37%\n",
      "Pass rate when more players motion than shift is: 74%\n",
      "Pass rate when players shift and motion equally is: 60%\n"
     ]
    }
   ],
   "source": [
    "# calc motion-momentum\n",
    "train_data['presnap_motion_complexity']=train_data[motion_cols].sum(axis=1).fillna(0).astype(float)\n",
    "train_data['presnap_momentum']=train_data[momentum_cols].sum(axis=1).fillna(0).astype(float)\n",
    "train_data['motion-momentum']= (train_data['presnap_motion_complexity']-train_data['presnap_momentum']).astype(float)\n",
    "\n",
    "# calc relative splits\n",
    "less_motion = int((train_data[train_data['motion-momentum'] <0 ]['pass'].sum() / len(train_data[train_data['motion-momentum'] <0 ])).round(2)*100)\n",
    "less_shift = int((train_data[train_data['motion-momentum'] >0 ]['pass'].sum() / len(train_data[train_data['motion-momentum'] >0 ])).round(2)*100)\n",
    "both_equal = int((train_data[train_data['motion-momentum'] ==0 ]['pass'].sum() / len(train_data[train_data['motion-momentum'] ==0 ])).round(2)*100)\n",
    "print(f'Pass rate when more players shift than motion is: {less_motion}%')\n",
    "print(f'Pass rate when more players motion than shift is: {less_shift}%')\n",
    "print(f'Pass rate when players shift and motion equally is: {both_equal}%')"
   ]
  },
  {
   "cell_type": "markdown",
   "metadata": {},
   "source": [
    "### Create new shift, motion metrics\n",
    "\n",
    "Essentially, our best results come from excluding RB2 and OL data due to small sample size, as well as WR 4/5"
   ]
  },
  {
   "cell_type": "code",
   "execution_count": 33,
   "metadata": {},
   "outputs": [],
   "source": [
    "motioncols = [x for x in train_data.columns if 'motionSinceLineset|' in x and set('BRE').intersection(x) and not set('IQ45').intersection(x) and 'RB_2' not in x]#+['shiftSinceLineset|RB_1']\n",
    "shift_cols = [x for x in train_data.columns if 'shiftSinceLineset|' in x and set('BRE').intersection(x) and not set('IQ45').intersection(x) and 'RB_2' not in x and 'RB_1' not in x]+['shiftSinceLineset|RB_1']#+['ol_shift'] #"
   ]
  },
  {
   "cell_type": "code",
   "execution_count": 34,
   "metadata": {},
   "outputs": [
    {
     "data": {
      "text/plain": [
       "['motionSinceLineset|FB_1',\n",
       " 'motionSinceLineset|RB_1',\n",
       " 'motionSinceLineset|TE_1',\n",
       " 'motionSinceLineset|TE_2',\n",
       " 'motionSinceLineset|TE_3',\n",
       " 'motionSinceLineset|WR_1',\n",
       " 'motionSinceLineset|WR_2',\n",
       " 'motionSinceLineset|WR_3']"
      ]
     },
     "execution_count": 34,
     "metadata": {},
     "output_type": "execute_result"
    }
   ],
   "source": [
    "motioncols"
   ]
  },
  {
   "cell_type": "code",
   "execution_count": 35,
   "metadata": {},
   "outputs": [
    {
     "data": {
      "text/plain": [
       "['shiftSinceLineset|FB_1',\n",
       " 'shiftSinceLineset|TE_1',\n",
       " 'shiftSinceLineset|TE_2',\n",
       " 'shiftSinceLineset|TE_3',\n",
       " 'shiftSinceLineset|WR_1',\n",
       " 'shiftSinceLineset|WR_2',\n",
       " 'shiftSinceLineset|WR_3',\n",
       " 'shiftSinceLineset|RB_1']"
      ]
     },
     "execution_count": 35,
     "metadata": {},
     "output_type": "execute_result"
    }
   ],
   "source": [
    "shift_cols"
   ]
  },
  {
   "cell_type": "markdown",
   "metadata": {},
   "source": [
    "### Compare impact of players shifting with and without RB1\n",
    "\n",
    "If we exclude RB1's from our shift data, we gain little from knowing *how many* players shifted.\n",
    "\n",
    " With them included, however, we see a real jump in pass rate going from one to two players shifting."
   ]
  },
  {
   "cell_type": "code",
   "execution_count": 36,
   "metadata": {},
   "outputs": [
    {
     "name": "stdout",
     "output_type": "stream",
     "text": [
      "Pass rate if two players shifted (rb1 included): 54.3%\n",
      "Pass rate if one player shifted (rb1 included): 37.9%\n",
      "Pass rate if no players shifted (rb1 included): 64.8%\n"
     ]
    }
   ],
   "source": [
    "shift_2_plus = train_data[train_data[shift_cols].sum(axis=1) >= 2]['pass'].sum()/len(train_data[train_data[shift_cols].sum(axis=1) >= 2]['pass'])\n",
    "shift_1 = train_data[train_data[shift_cols].sum(axis=1) == 1]['pass'].sum()/len(train_data[train_data[shift_cols].sum(axis=1) == 1]['pass'])\n",
    "shift_0 = train_data[train_data[shift_cols].sum(axis=1) == 0]['pass'].sum()/len(train_data[train_data[shift_cols].sum(axis=1) == 0]['pass'])\n",
    "print(f'Pass rate if two players shifted (rb1 included): {round(shift_2_plus*100,1)}%')\n",
    "print(f'Pass rate if one player shifted (rb1 included): {round(shift_1*100,1)}%')\n",
    "print(f'Pass rate if no players shifted (rb1 included): {round(shift_0*100,1)}%')"
   ]
  },
  {
   "cell_type": "markdown",
   "metadata": {},
   "source": [
    "Compare with RB1 excluded:"
   ]
  },
  {
   "cell_type": "code",
   "execution_count": 37,
   "metadata": {},
   "outputs": [
    {
     "name": "stdout",
     "output_type": "stream",
     "text": [
      "Pass rate if two players shifted (rb1 excluded): 44.9%\n",
      "Pass rate if one player shifted (rb1 excluded): 35.0%\n",
      "Pass rate if no players shifted (rb1 excluded): 65.2%\n"
     ]
    }
   ],
   "source": [
    "shift_2_plus_no_rb = train_data[train_data[shift_cols[:-1]].sum(axis=1) >= 2]['pass'].sum()/len(train_data[train_data[shift_cols[:-1]].sum(axis=1) >= 2]['pass'])\n",
    "shift_1_no_rb  = train_data[train_data[shift_cols[:-1]].sum(axis=1) == 1]['pass'].sum()/len(train_data[train_data[shift_cols[:-1]].sum(axis=1) == 1]['pass'])\n",
    "shift_0_no_rb  = train_data[train_data[shift_cols[:-1]].sum(axis=1) == 0]['pass'].sum()/len(train_data[train_data[shift_cols[:-1]].sum(axis=1) == 0]['pass'])\n",
    "print(f'Pass rate if two players shifted (rb1 excluded): {round(shift_2_plus_no_rb*100,1)}%')\n",
    "print(f'Pass rate if one player shifted (rb1 excluded): {round(shift_1_no_rb*100,1)}%')\n",
    "print(f'Pass rate if no players shifted (rb1 excluded): {round(shift_0_no_rb*100,1)}%')"
   ]
  },
  {
   "cell_type": "markdown",
   "metadata": {},
   "source": [
    "### Codify motion, shift features\n",
    "\n",
    "We now codify our motion + shift features:"
   ]
  },
  {
   "cell_type": "code",
   "execution_count": 38,
   "metadata": {},
   "outputs": [],
   "source": [
    "train_data['movement_motion'] = train_data[motioncols].sum(axis=1).astype(float)\n",
    "train_data['movement_shift'] = train_data[shift_cols].sum(axis=1).astype(float)\n",
    "train_data['movement_delta'] = train_data['movement_motion']-train_data['movement_shift']\n",
    "test_data['movement_motion'] = test_data[motioncols].sum(axis=1).astype(float)\n",
    "test_data['movement_shift'] = test_data[shift_cols].sum(axis=1).astype(float)\n",
    "test_data['movement_delta'] = test_data['movement_motion']-train_data['movement_shift']"
   ]
  },
  {
   "cell_type": "code",
   "execution_count": 39,
   "metadata": {},
   "outputs": [],
   "source": [
    "train_data = pd.concat([train_data.iloc[:,:-10],train_data[['movement_motion','movement_shift','movement_delta']]],axis=1)"
   ]
  },
  {
   "cell_type": "markdown",
   "metadata": {},
   "source": [
    "# Test impact on model\n",
    "\n",
    "We see a decent (~.5%) boost from breaking out motion/shift data, and including only positions w/large samples"
   ]
  },
  {
   "cell_type": "code",
   "execution_count": 40,
   "metadata": {},
   "outputs": [],
   "source": [
    "def calc_ipa (data):\n",
    "    ipa = (.7* data['a|max|QB_1'] + .2*data['run_val'] + \\\n",
    " data['receiverAlignment_2x2'] + data['motionSinceLineset|RB_2'] + .1*data['x_standard|std|WR_1']\\\n",
    "    + .1*data['s|max|G_2'] + data['surface_fieldturf'] + .05*data['time_remaining']).values\n",
    "    return ipa\n",
    "\n",
    "train_data['ipa'] = calc_ipa(train_data)\n",
    "test_data['ipa'] = calc_ipa(test_data)"
   ]
  },
  {
   "cell_type": "code",
   "execution_count": 41,
   "metadata": {},
   "outputs": [
    {
     "data": {
      "text/html": [
       "<div>\n",
       "<style scoped>\n",
       "    .dataframe tbody tr th:only-of-type {\n",
       "        vertical-align: middle;\n",
       "    }\n",
       "\n",
       "    .dataframe tbody tr th {\n",
       "        vertical-align: top;\n",
       "    }\n",
       "\n",
       "    .dataframe thead th {\n",
       "        text-align: right;\n",
       "    }\n",
       "</style>\n",
       "<table border=\"1\" class=\"dataframe\">\n",
       "  <thead>\n",
       "    <tr style=\"text-align: right;\">\n",
       "      <th></th>\n",
       "      <th>gameId</th>\n",
       "      <th>playId</th>\n",
       "      <th>tempo</th>\n",
       "    </tr>\n",
       "  </thead>\n",
       "  <tbody>\n",
       "    <tr>\n",
       "      <th>0</th>\n",
       "      <td>2022090800</td>\n",
       "      <td>56</td>\n",
       "      <td>0.052381</td>\n",
       "    </tr>\n",
       "    <tr>\n",
       "      <th>1</th>\n",
       "      <td>2022090800</td>\n",
       "      <td>80</td>\n",
       "      <td>0.104377</td>\n",
       "    </tr>\n",
       "  </tbody>\n",
       "</table>\n",
       "</div>"
      ],
      "text/plain": [
       "       gameId  playId     tempo\n",
       "0  2022090800      56  0.052381\n",
       "1  2022090800      80  0.104377"
      ]
     },
     "execution_count": 41,
     "metadata": {},
     "output_type": "execute_result"
    }
   ],
   "source": [
    "df_plays = pd.read_csv(plays_fname)\n",
    "calc_tempo(df_plays)\n",
    "df_plays[['gameId','playId','tempo']].head(2)"
   ]
  },
  {
   "cell_type": "code",
   "execution_count": 42,
   "metadata": {},
   "outputs": [],
   "source": [
    "train_data = train_data.merge(df_plays[['gameId','playId','tempo']],how='left',on=['gameId','playId'])\n",
    "test_data = test_data.merge(df_plays[['gameId','playId','tempo']],how='left',on=['gameId','playId'])"
   ]
  },
  {
   "cell_type": "code",
   "execution_count": 43,
   "metadata": {},
   "outputs": [],
   "source": [
    "def get_motion_maxima(row):\n",
    "    d_sum = 0\n",
    "    for col in motion_cols:\n",
    "        if row[col]:\n",
    "            curr_pos = col.split('|')[1]\n",
    "            curr_dmax = row['dis|sum|'+curr_pos]\n",
    "            if curr_dmax > d_sum:\n",
    "                d_sum = curr_dmax\n",
    "\n",
    "    return d_sum"
   ]
  },
  {
   "cell_type": "code",
   "execution_count": 44,
   "metadata": {},
   "outputs": [],
   "source": [
    "def get_dis(data):\n",
    "    dis_ls = []\n",
    "    for idx, row in data.iterrows():\n",
    "        dis = get_motion_maxima(row)\n",
    "        dis_ls.append(dis)\n",
    "    data['off_motion_dsum'] = dis_ls"
   ]
  },
  {
   "cell_type": "code",
   "execution_count": 45,
   "metadata": {},
   "outputs": [],
   "source": [
    "get_dis(train_data)\n",
    "get_dis(test_data)"
   ]
  },
  {
   "cell_type": "code",
   "execution_count": 46,
   "metadata": {},
   "outputs": [
    {
     "name": "stdout",
     "output_type": "stream",
     "text": [
      "pass_rush_ratio 2.84 % missing\n",
      "temp 9.67 % missing\n",
      "humidity 5.64 % missing\n",
      "wind 8.97 % missing\n",
      "tempo_x 0.04 % missing\n",
      "box_ewm_dl_bmi 0.07 % missing\n",
      "mean_DL_bmi 0.07 % missing\n",
      "qb_pa_rate_pass 0.73 % missing\n",
      "qb_pass_rate_ewm 0.73 % missing\n",
      "tempo_y 0.04 % missing\n"
     ]
    }
   ],
   "source": [
    "for col in train_data.columns: \n",
    "    if col != 'pass':\n",
    "        if round((train_data[col].isna().sum() /len(train_data)*100), 2)>75:\n",
    "            train_data.drop(columns=col, inplace=True)\n",
    "        elif round((train_data[col].isna().sum() /len(train_data)*100), 2)>0:\n",
    "            print(col,round((train_data[col].isna().sum() /len(train_data)*100), 2), '% missing')\n",
    "        else: \n",
    "            continue"
   ]
  },
  {
   "cell_type": "code",
   "execution_count": 47,
   "metadata": {},
   "outputs": [],
   "source": [
    "train_data=change_columns_types(train_data)\n",
    "test_data=change_columns_types(test_data)"
   ]
  },
  {
   "cell_type": "code",
   "execution_count": 48,
   "metadata": {},
   "outputs": [],
   "source": [
    "train_data['neg_Formations']=train_data[['offenseFormation_SINGLEBACK' ,'offenseFormation_I_FORM', 'offenseFormation_PISTOL']].sum(axis=1).astype(int)\n",
    "test_data['neg_Formations']=test_data[['offenseFormation_SINGLEBACK' ,'offenseFormation_I_FORM', 'offenseFormation_PISTOL']].sum(axis=1).astype(int)"
   ]
  },
  {
   "cell_type": "code",
   "execution_count": 49,
   "metadata": {},
   "outputs": [],
   "source": [
    "SEED=42\n",
    "n_splits=5"
   ]
  },
  {
   "cell_type": "code",
   "execution_count": 50,
   "metadata": {},
   "outputs": [],
   "source": [
    "final_features=['xpass_situational','off_xpass','n_offense_backfield',#'receiverAlignment_3x2' #'QBdffy_RB', 'QBdff_T', \n",
    "        #'movement_delta',\n",
    "        #'motion-momentum',    \n",
    "        'off_motion_dsum',\n",
    "        'movement_shift',\n",
    "        'ipa',#'tempo',\n",
    "        'neg_Formations', \n",
    "        'mean_pairwise_dist']\n",
    "numeric_columns, cat_columns = mark_columns(df=train_data,features=final_features, nc=None,cc = None)\n",
    "final_numeric_columns, final_cat_columns = mark_columns(df=train_data,features=final_features, nc=numeric_columns,cc = cat_columns)"
   ]
  },
  {
   "cell_type": "code",
   "execution_count": 51,
   "metadata": {},
   "outputs": [],
   "source": [
    "# Create a transformer\n",
    "imputer = SimpleImputer(missing_values=np.nan,strategy='mean')\n",
    "transformer = ColumnTransformer(\n",
    "    transformers=[('imputer', imputer, final_numeric_columns),\n",
    "        ('scaler', MinMaxScaler(), final_numeric_columns)\n",
    "    ],\n",
    "    remainder='passthrough'  # Pass through columns not specified\n",
    ")"
   ]
  },
  {
   "cell_type": "code",
   "execution_count": 52,
   "metadata": {},
   "outputs": [],
   "source": [
    "SKF = StratifiedKFold(n_splits=n_splits, shuffle=True, random_state=SEED)\n",
    "\n",
    "X=train_data[final_features]\n",
    "y=train_data['pass']"
   ]
  },
  {
   "cell_type": "code",
   "execution_count": 53,
   "metadata": {},
   "outputs": [],
   "source": [
    "transformer_impute = build_transformer(imputer,numeric_columns,kind='imputer')\n",
    "transformer_scale = build_transformer(imputer,numeric_columns,kind='scaler')"
   ]
  },
  {
   "cell_type": "code",
   "execution_count": 54,
   "metadata": {},
   "outputs": [],
   "source": [
    "# import relevant play/week info\n",
    "plays_df = pd.read_csv(plays_fname)[['gameId','playId']]\n",
    "games_df = pd.read_csv(games_fname)[['gameId','week']]\n",
    "id_week = plays_df.merge(games_df,how='left')\n",
    "\n",
    "# mark train data with week info\n",
    "train_marked = train_data.merge(id_week,how='left')"
   ]
  },
  {
   "cell_type": "code",
   "execution_count": 55,
   "metadata": {},
   "outputs": [
    {
     "data": {
      "text/plain": [
       "True"
      ]
     },
     "execution_count": 55,
     "metadata": {},
     "output_type": "execute_result"
    }
   ],
   "source": [
    "# truncate to week 2 on, get length of week 8\n",
    "train_trunc = train_marked.loc[train_marked[(train_marked['week'] >=2)].index]\n",
    "w8_len = len(train_trunc[train_trunc['week'] == 8].index)\n",
    "\n",
    "# -1 is train, 1 is holdout, per predefinedsplit parlance\n",
    "ind_train = [-1]*(len(train_trunc)-w8_len)\n",
    "ind_val = [1]*w8_len\n",
    "\n",
    "# sanity check our split\n",
    "len(ind_train) == len(train_trunc[train_trunc['week'] < 8])\n",
    "len(ind_train+ind_val) == len(train_trunc)"
   ]
  },
  {
   "cell_type": "code",
   "execution_count": 56,
   "metadata": {},
   "outputs": [],
   "source": [
    "cv_ind = ind_train+ind_val\n",
    "ps = PredefinedSplit(test_fold=cv_ind)"
   ]
  },
  {
   "cell_type": "code",
   "execution_count": 57,
   "metadata": {},
   "outputs": [],
   "source": [
    "X = train_trunc[final_features]\n",
    "y = train_trunc['pass']"
   ]
  },
  {
   "cell_type": "code",
   "execution_count": 58,
   "metadata": {},
   "outputs": [
    {
     "data": {
      "text/html": [
       "<div>\n",
       "<style scoped>\n",
       "    .dataframe tbody tr th:only-of-type {\n",
       "        vertical-align: middle;\n",
       "    }\n",
       "\n",
       "    .dataframe tbody tr th {\n",
       "        vertical-align: top;\n",
       "    }\n",
       "\n",
       "    .dataframe thead th {\n",
       "        text-align: right;\n",
       "    }\n",
       "</style>\n",
       "<table border=\"1\" class=\"dataframe\">\n",
       "  <thead>\n",
       "    <tr style=\"text-align: right;\">\n",
       "      <th></th>\n",
       "      <th>movement_shift</th>\n",
       "      <th>ipa</th>\n",
       "      <th>neg_Formations</th>\n",
       "      <th>mean_pairwise_dist</th>\n",
       "      <th>pass</th>\n",
       "    </tr>\n",
       "  </thead>\n",
       "  <tbody>\n",
       "    <tr>\n",
       "      <th>movement_shift</th>\n",
       "      <td>1.000000</td>\n",
       "      <td>0.095021</td>\n",
       "      <td>0.132513</td>\n",
       "      <td>-0.047927</td>\n",
       "      <td>-0.156368</td>\n",
       "    </tr>\n",
       "    <tr>\n",
       "      <th>ipa</th>\n",
       "      <td>0.095021</td>\n",
       "      <td>1.000000</td>\n",
       "      <td>0.089688</td>\n",
       "      <td>-0.105590</td>\n",
       "      <td>-0.009087</td>\n",
       "    </tr>\n",
       "    <tr>\n",
       "      <th>neg_Formations</th>\n",
       "      <td>0.132513</td>\n",
       "      <td>0.089688</td>\n",
       "      <td>1.000000</td>\n",
       "      <td>-0.391906</td>\n",
       "      <td>-0.413459</td>\n",
       "    </tr>\n",
       "    <tr>\n",
       "      <th>mean_pairwise_dist</th>\n",
       "      <td>-0.047927</td>\n",
       "      <td>-0.105590</td>\n",
       "      <td>-0.391906</td>\n",
       "      <td>1.000000</td>\n",
       "      <td>0.317313</td>\n",
       "    </tr>\n",
       "    <tr>\n",
       "      <th>pass</th>\n",
       "      <td>-0.156368</td>\n",
       "      <td>-0.009087</td>\n",
       "      <td>-0.413459</td>\n",
       "      <td>0.317313</td>\n",
       "      <td>1.000000</td>\n",
       "    </tr>\n",
       "  </tbody>\n",
       "</table>\n",
       "</div>"
      ],
      "text/plain": [
       "                    movement_shift       ipa  neg_Formations  \\\n",
       "movement_shift            1.000000  0.095021        0.132513   \n",
       "ipa                       0.095021  1.000000        0.089688   \n",
       "neg_Formations            0.132513  0.089688        1.000000   \n",
       "mean_pairwise_dist       -0.047927 -0.105590       -0.391906   \n",
       "pass                     -0.156368 -0.009087       -0.413459   \n",
       "\n",
       "                    mean_pairwise_dist      pass  \n",
       "movement_shift               -0.047927 -0.156368  \n",
       "ipa                          -0.105590 -0.009087  \n",
       "neg_Formations               -0.391906 -0.413459  \n",
       "mean_pairwise_dist            1.000000  0.317313  \n",
       "pass                          0.317313  1.000000  "
      ]
     },
     "execution_count": 58,
     "metadata": {},
     "output_type": "execute_result"
    }
   ],
   "source": [
    "train_trunc[final_features[-4:]+['pass']].corr()"
   ]
  },
  {
   "cell_type": "code",
   "execution_count": 59,
   "metadata": {},
   "outputs": [
    {
     "data": {
      "text/plain": [
       "{'boosting_type': 'gbdt',\n",
       " 'deterministic': True,\n",
       " 'learning_rate': 0.15,\n",
       " 'max_depth': 5,\n",
       " 'n_estimators': 100,\n",
       " 'num_leaves': 40,\n",
       " 'random_state': 42,\n",
       " 'verbose': -1}"
      ]
     },
     "execution_count": 59,
     "metadata": {},
     "output_type": "execute_result"
    }
   ],
   "source": [
    "# Initialize an empty dictionary to store the best hyperparameters and their values\n",
    "best_hyperparameters = {}\n",
    "best_values = {}\n",
    " \n",
    "# Initialize the LightGBM classifier\n",
    "lgb_classifier = lightgbm.LGBMClassifier(force_col_wise=True, deterministic=True, random_state=42)\n",
    "\n",
    "# Define a range of values for the hyperparameters to search through\n",
    "param_grid = {\n",
    "    'boosting_type' : ['gbdt', 'dart'],\n",
    "    'num_leaves': [25, 30, 40, 50],\n",
    "    'learning_rate': [ 0.1,.15],\n",
    "    'max_depth': [4,5,6,7],\n",
    "    'n_estimators': [75, 100],\n",
    "    #'is_unbalance': [True],\n",
    "    'random_state': [42],\n",
    "    \"deterministic\": [True],\n",
    "    'verbose': [-1]\n",
    "}\n",
    "\n",
    "\n",
    "#Initialize GridSearchCV for hyperparameters\n",
    "grid_search = GridSearchCV(estimator=lgb_classifier, param_grid=param_grid,\n",
    "                           scoring='accuracy', cv=ps)\n",
    " \n",
    "\n",
    "# Fit the model to the training data to search for the best hyperparameters\n",
    "grid_search.fit(X,y)\n",
    " \n",
    "# Get the best hyperparameters and their values\n",
    "best_params = grid_search.best_params_\n",
    "best_hyperparameters = list(best_params.keys())\n",
    "best_values = list(best_params.values())\n",
    "\n",
    "'''\n",
    "for i in range(5):\n",
    "    key = 'split' + str(i) + '_test_score'\n",
    "    print(np.mean(grid_search.cv_results_[key])\n",
    "'''\n",
    "\n",
    "best_params\n"
   ]
  },
  {
   "cell_type": "code",
   "execution_count": 60,
   "metadata": {},
   "outputs": [],
   "source": [
    "best_params = {'boosting_type': 'dart',\n",
    " 'max_depth': 4,\n",
    " 'deterministic': True,\n",
    " 'learning_rate': 0.1,\n",
    " 'n_estimators': 100,\n",
    " 'num_leaves': 50,\n",
    " 'random_state': 42}"
   ]
  },
  {
   "cell_type": "code",
   "execution_count": 61,
   "metadata": {},
   "outputs": [
    {
     "data": {
      "text/plain": [
       "0.7807909604519774"
      ]
     },
     "execution_count": 61,
     "metadata": {},
     "output_type": "execute_result"
    }
   ],
   "source": [
    "grid_search.best_score_"
   ]
  },
  {
   "cell_type": "code",
   "execution_count": 62,
   "metadata": {},
   "outputs": [
    {
     "data": {
      "text/html": [
       "<style>#sk-container-id-1 {\n",
       "  /* Definition of color scheme common for light and dark mode */\n",
       "  --sklearn-color-text: black;\n",
       "  --sklearn-color-line: gray;\n",
       "  /* Definition of color scheme for unfitted estimators */\n",
       "  --sklearn-color-unfitted-level-0: #fff5e6;\n",
       "  --sklearn-color-unfitted-level-1: #f6e4d2;\n",
       "  --sklearn-color-unfitted-level-2: #ffe0b3;\n",
       "  --sklearn-color-unfitted-level-3: chocolate;\n",
       "  /* Definition of color scheme for fitted estimators */\n",
       "  --sklearn-color-fitted-level-0: #f0f8ff;\n",
       "  --sklearn-color-fitted-level-1: #d4ebff;\n",
       "  --sklearn-color-fitted-level-2: #b3dbfd;\n",
       "  --sklearn-color-fitted-level-3: cornflowerblue;\n",
       "\n",
       "  /* Specific color for light theme */\n",
       "  --sklearn-color-text-on-default-background: var(--sg-text-color, var(--theme-code-foreground, var(--jp-content-font-color1, black)));\n",
       "  --sklearn-color-background: var(--sg-background-color, var(--theme-background, var(--jp-layout-color0, white)));\n",
       "  --sklearn-color-border-box: var(--sg-text-color, var(--theme-code-foreground, var(--jp-content-font-color1, black)));\n",
       "  --sklearn-color-icon: #696969;\n",
       "\n",
       "  @media (prefers-color-scheme: dark) {\n",
       "    /* Redefinition of color scheme for dark theme */\n",
       "    --sklearn-color-text-on-default-background: var(--sg-text-color, var(--theme-code-foreground, var(--jp-content-font-color1, white)));\n",
       "    --sklearn-color-background: var(--sg-background-color, var(--theme-background, var(--jp-layout-color0, #111)));\n",
       "    --sklearn-color-border-box: var(--sg-text-color, var(--theme-code-foreground, var(--jp-content-font-color1, white)));\n",
       "    --sklearn-color-icon: #878787;\n",
       "  }\n",
       "}\n",
       "\n",
       "#sk-container-id-1 {\n",
       "  color: var(--sklearn-color-text);\n",
       "}\n",
       "\n",
       "#sk-container-id-1 pre {\n",
       "  padding: 0;\n",
       "}\n",
       "\n",
       "#sk-container-id-1 input.sk-hidden--visually {\n",
       "  border: 0;\n",
       "  clip: rect(1px 1px 1px 1px);\n",
       "  clip: rect(1px, 1px, 1px, 1px);\n",
       "  height: 1px;\n",
       "  margin: -1px;\n",
       "  overflow: hidden;\n",
       "  padding: 0;\n",
       "  position: absolute;\n",
       "  width: 1px;\n",
       "}\n",
       "\n",
       "#sk-container-id-1 div.sk-dashed-wrapped {\n",
       "  border: 1px dashed var(--sklearn-color-line);\n",
       "  margin: 0 0.4em 0.5em 0.4em;\n",
       "  box-sizing: border-box;\n",
       "  padding-bottom: 0.4em;\n",
       "  background-color: var(--sklearn-color-background);\n",
       "}\n",
       "\n",
       "#sk-container-id-1 div.sk-container {\n",
       "  /* jupyter's `normalize.less` sets `[hidden] { display: none; }`\n",
       "     but bootstrap.min.css set `[hidden] { display: none !important; }`\n",
       "     so we also need the `!important` here to be able to override the\n",
       "     default hidden behavior on the sphinx rendered scikit-learn.org.\n",
       "     See: https://github.com/scikit-learn/scikit-learn/issues/21755 */\n",
       "  display: inline-block !important;\n",
       "  position: relative;\n",
       "}\n",
       "\n",
       "#sk-container-id-1 div.sk-text-repr-fallback {\n",
       "  display: none;\n",
       "}\n",
       "\n",
       "div.sk-parallel-item,\n",
       "div.sk-serial,\n",
       "div.sk-item {\n",
       "  /* draw centered vertical line to link estimators */\n",
       "  background-image: linear-gradient(var(--sklearn-color-text-on-default-background), var(--sklearn-color-text-on-default-background));\n",
       "  background-size: 2px 100%;\n",
       "  background-repeat: no-repeat;\n",
       "  background-position: center center;\n",
       "}\n",
       "\n",
       "/* Parallel-specific style estimator block */\n",
       "\n",
       "#sk-container-id-1 div.sk-parallel-item::after {\n",
       "  content: \"\";\n",
       "  width: 100%;\n",
       "  border-bottom: 2px solid var(--sklearn-color-text-on-default-background);\n",
       "  flex-grow: 1;\n",
       "}\n",
       "\n",
       "#sk-container-id-1 div.sk-parallel {\n",
       "  display: flex;\n",
       "  align-items: stretch;\n",
       "  justify-content: center;\n",
       "  background-color: var(--sklearn-color-background);\n",
       "  position: relative;\n",
       "}\n",
       "\n",
       "#sk-container-id-1 div.sk-parallel-item {\n",
       "  display: flex;\n",
       "  flex-direction: column;\n",
       "}\n",
       "\n",
       "#sk-container-id-1 div.sk-parallel-item:first-child::after {\n",
       "  align-self: flex-end;\n",
       "  width: 50%;\n",
       "}\n",
       "\n",
       "#sk-container-id-1 div.sk-parallel-item:last-child::after {\n",
       "  align-self: flex-start;\n",
       "  width: 50%;\n",
       "}\n",
       "\n",
       "#sk-container-id-1 div.sk-parallel-item:only-child::after {\n",
       "  width: 0;\n",
       "}\n",
       "\n",
       "/* Serial-specific style estimator block */\n",
       "\n",
       "#sk-container-id-1 div.sk-serial {\n",
       "  display: flex;\n",
       "  flex-direction: column;\n",
       "  align-items: center;\n",
       "  background-color: var(--sklearn-color-background);\n",
       "  padding-right: 1em;\n",
       "  padding-left: 1em;\n",
       "}\n",
       "\n",
       "\n",
       "/* Toggleable style: style used for estimator/Pipeline/ColumnTransformer box that is\n",
       "clickable and can be expanded/collapsed.\n",
       "- Pipeline and ColumnTransformer use this feature and define the default style\n",
       "- Estimators will overwrite some part of the style using the `sk-estimator` class\n",
       "*/\n",
       "\n",
       "/* Pipeline and ColumnTransformer style (default) */\n",
       "\n",
       "#sk-container-id-1 div.sk-toggleable {\n",
       "  /* Default theme specific background. It is overwritten whether we have a\n",
       "  specific estimator or a Pipeline/ColumnTransformer */\n",
       "  background-color: var(--sklearn-color-background);\n",
       "}\n",
       "\n",
       "/* Toggleable label */\n",
       "#sk-container-id-1 label.sk-toggleable__label {\n",
       "  cursor: pointer;\n",
       "  display: block;\n",
       "  width: 100%;\n",
       "  margin-bottom: 0;\n",
       "  padding: 0.5em;\n",
       "  box-sizing: border-box;\n",
       "  text-align: center;\n",
       "}\n",
       "\n",
       "#sk-container-id-1 label.sk-toggleable__label-arrow:before {\n",
       "  /* Arrow on the left of the label */\n",
       "  content: \"▸\";\n",
       "  float: left;\n",
       "  margin-right: 0.25em;\n",
       "  color: var(--sklearn-color-icon);\n",
       "}\n",
       "\n",
       "#sk-container-id-1 label.sk-toggleable__label-arrow:hover:before {\n",
       "  color: var(--sklearn-color-text);\n",
       "}\n",
       "\n",
       "/* Toggleable content - dropdown */\n",
       "\n",
       "#sk-container-id-1 div.sk-toggleable__content {\n",
       "  max-height: 0;\n",
       "  max-width: 0;\n",
       "  overflow: hidden;\n",
       "  text-align: left;\n",
       "  /* unfitted */\n",
       "  background-color: var(--sklearn-color-unfitted-level-0);\n",
       "}\n",
       "\n",
       "#sk-container-id-1 div.sk-toggleable__content.fitted {\n",
       "  /* fitted */\n",
       "  background-color: var(--sklearn-color-fitted-level-0);\n",
       "}\n",
       "\n",
       "#sk-container-id-1 div.sk-toggleable__content pre {\n",
       "  margin: 0.2em;\n",
       "  border-radius: 0.25em;\n",
       "  color: var(--sklearn-color-text);\n",
       "  /* unfitted */\n",
       "  background-color: var(--sklearn-color-unfitted-level-0);\n",
       "}\n",
       "\n",
       "#sk-container-id-1 div.sk-toggleable__content.fitted pre {\n",
       "  /* unfitted */\n",
       "  background-color: var(--sklearn-color-fitted-level-0);\n",
       "}\n",
       "\n",
       "#sk-container-id-1 input.sk-toggleable__control:checked~div.sk-toggleable__content {\n",
       "  /* Expand drop-down */\n",
       "  max-height: 200px;\n",
       "  max-width: 100%;\n",
       "  overflow: auto;\n",
       "}\n",
       "\n",
       "#sk-container-id-1 input.sk-toggleable__control:checked~label.sk-toggleable__label-arrow:before {\n",
       "  content: \"▾\";\n",
       "}\n",
       "\n",
       "/* Pipeline/ColumnTransformer-specific style */\n",
       "\n",
       "#sk-container-id-1 div.sk-label input.sk-toggleable__control:checked~label.sk-toggleable__label {\n",
       "  color: var(--sklearn-color-text);\n",
       "  background-color: var(--sklearn-color-unfitted-level-2);\n",
       "}\n",
       "\n",
       "#sk-container-id-1 div.sk-label.fitted input.sk-toggleable__control:checked~label.sk-toggleable__label {\n",
       "  background-color: var(--sklearn-color-fitted-level-2);\n",
       "}\n",
       "\n",
       "/* Estimator-specific style */\n",
       "\n",
       "/* Colorize estimator box */\n",
       "#sk-container-id-1 div.sk-estimator input.sk-toggleable__control:checked~label.sk-toggleable__label {\n",
       "  /* unfitted */\n",
       "  background-color: var(--sklearn-color-unfitted-level-2);\n",
       "}\n",
       "\n",
       "#sk-container-id-1 div.sk-estimator.fitted input.sk-toggleable__control:checked~label.sk-toggleable__label {\n",
       "  /* fitted */\n",
       "  background-color: var(--sklearn-color-fitted-level-2);\n",
       "}\n",
       "\n",
       "#sk-container-id-1 div.sk-label label.sk-toggleable__label,\n",
       "#sk-container-id-1 div.sk-label label {\n",
       "  /* The background is the default theme color */\n",
       "  color: var(--sklearn-color-text-on-default-background);\n",
       "}\n",
       "\n",
       "/* On hover, darken the color of the background */\n",
       "#sk-container-id-1 div.sk-label:hover label.sk-toggleable__label {\n",
       "  color: var(--sklearn-color-text);\n",
       "  background-color: var(--sklearn-color-unfitted-level-2);\n",
       "}\n",
       "\n",
       "/* Label box, darken color on hover, fitted */\n",
       "#sk-container-id-1 div.sk-label.fitted:hover label.sk-toggleable__label.fitted {\n",
       "  color: var(--sklearn-color-text);\n",
       "  background-color: var(--sklearn-color-fitted-level-2);\n",
       "}\n",
       "\n",
       "/* Estimator label */\n",
       "\n",
       "#sk-container-id-1 div.sk-label label {\n",
       "  font-family: monospace;\n",
       "  font-weight: bold;\n",
       "  display: inline-block;\n",
       "  line-height: 1.2em;\n",
       "}\n",
       "\n",
       "#sk-container-id-1 div.sk-label-container {\n",
       "  text-align: center;\n",
       "}\n",
       "\n",
       "/* Estimator-specific */\n",
       "#sk-container-id-1 div.sk-estimator {\n",
       "  font-family: monospace;\n",
       "  border: 1px dotted var(--sklearn-color-border-box);\n",
       "  border-radius: 0.25em;\n",
       "  box-sizing: border-box;\n",
       "  margin-bottom: 0.5em;\n",
       "  /* unfitted */\n",
       "  background-color: var(--sklearn-color-unfitted-level-0);\n",
       "}\n",
       "\n",
       "#sk-container-id-1 div.sk-estimator.fitted {\n",
       "  /* fitted */\n",
       "  background-color: var(--sklearn-color-fitted-level-0);\n",
       "}\n",
       "\n",
       "/* on hover */\n",
       "#sk-container-id-1 div.sk-estimator:hover {\n",
       "  /* unfitted */\n",
       "  background-color: var(--sklearn-color-unfitted-level-2);\n",
       "}\n",
       "\n",
       "#sk-container-id-1 div.sk-estimator.fitted:hover {\n",
       "  /* fitted */\n",
       "  background-color: var(--sklearn-color-fitted-level-2);\n",
       "}\n",
       "\n",
       "/* Specification for estimator info (e.g. \"i\" and \"?\") */\n",
       "\n",
       "/* Common style for \"i\" and \"?\" */\n",
       "\n",
       ".sk-estimator-doc-link,\n",
       "a:link.sk-estimator-doc-link,\n",
       "a:visited.sk-estimator-doc-link {\n",
       "  float: right;\n",
       "  font-size: smaller;\n",
       "  line-height: 1em;\n",
       "  font-family: monospace;\n",
       "  background-color: var(--sklearn-color-background);\n",
       "  border-radius: 1em;\n",
       "  height: 1em;\n",
       "  width: 1em;\n",
       "  text-decoration: none !important;\n",
       "  margin-left: 1ex;\n",
       "  /* unfitted */\n",
       "  border: var(--sklearn-color-unfitted-level-1) 1pt solid;\n",
       "  color: var(--sklearn-color-unfitted-level-1);\n",
       "}\n",
       "\n",
       ".sk-estimator-doc-link.fitted,\n",
       "a:link.sk-estimator-doc-link.fitted,\n",
       "a:visited.sk-estimator-doc-link.fitted {\n",
       "  /* fitted */\n",
       "  border: var(--sklearn-color-fitted-level-1) 1pt solid;\n",
       "  color: var(--sklearn-color-fitted-level-1);\n",
       "}\n",
       "\n",
       "/* On hover */\n",
       "div.sk-estimator:hover .sk-estimator-doc-link:hover,\n",
       ".sk-estimator-doc-link:hover,\n",
       "div.sk-label-container:hover .sk-estimator-doc-link:hover,\n",
       ".sk-estimator-doc-link:hover {\n",
       "  /* unfitted */\n",
       "  background-color: var(--sklearn-color-unfitted-level-3);\n",
       "  color: var(--sklearn-color-background);\n",
       "  text-decoration: none;\n",
       "}\n",
       "\n",
       "div.sk-estimator.fitted:hover .sk-estimator-doc-link.fitted:hover,\n",
       ".sk-estimator-doc-link.fitted:hover,\n",
       "div.sk-label-container:hover .sk-estimator-doc-link.fitted:hover,\n",
       ".sk-estimator-doc-link.fitted:hover {\n",
       "  /* fitted */\n",
       "  background-color: var(--sklearn-color-fitted-level-3);\n",
       "  color: var(--sklearn-color-background);\n",
       "  text-decoration: none;\n",
       "}\n",
       "\n",
       "/* Span, style for the box shown on hovering the info icon */\n",
       ".sk-estimator-doc-link span {\n",
       "  display: none;\n",
       "  z-index: 9999;\n",
       "  position: relative;\n",
       "  font-weight: normal;\n",
       "  right: .2ex;\n",
       "  padding: .5ex;\n",
       "  margin: .5ex;\n",
       "  width: min-content;\n",
       "  min-width: 20ex;\n",
       "  max-width: 50ex;\n",
       "  color: var(--sklearn-color-text);\n",
       "  box-shadow: 2pt 2pt 4pt #999;\n",
       "  /* unfitted */\n",
       "  background: var(--sklearn-color-unfitted-level-0);\n",
       "  border: .5pt solid var(--sklearn-color-unfitted-level-3);\n",
       "}\n",
       "\n",
       ".sk-estimator-doc-link.fitted span {\n",
       "  /* fitted */\n",
       "  background: var(--sklearn-color-fitted-level-0);\n",
       "  border: var(--sklearn-color-fitted-level-3);\n",
       "}\n",
       "\n",
       ".sk-estimator-doc-link:hover span {\n",
       "  display: block;\n",
       "}\n",
       "\n",
       "/* \"?\"-specific style due to the `<a>` HTML tag */\n",
       "\n",
       "#sk-container-id-1 a.estimator_doc_link {\n",
       "  float: right;\n",
       "  font-size: 1rem;\n",
       "  line-height: 1em;\n",
       "  font-family: monospace;\n",
       "  background-color: var(--sklearn-color-background);\n",
       "  border-radius: 1rem;\n",
       "  height: 1rem;\n",
       "  width: 1rem;\n",
       "  text-decoration: none;\n",
       "  /* unfitted */\n",
       "  color: var(--sklearn-color-unfitted-level-1);\n",
       "  border: var(--sklearn-color-unfitted-level-1) 1pt solid;\n",
       "}\n",
       "\n",
       "#sk-container-id-1 a.estimator_doc_link.fitted {\n",
       "  /* fitted */\n",
       "  border: var(--sklearn-color-fitted-level-1) 1pt solid;\n",
       "  color: var(--sklearn-color-fitted-level-1);\n",
       "}\n",
       "\n",
       "/* On hover */\n",
       "#sk-container-id-1 a.estimator_doc_link:hover {\n",
       "  /* unfitted */\n",
       "  background-color: var(--sklearn-color-unfitted-level-3);\n",
       "  color: var(--sklearn-color-background);\n",
       "  text-decoration: none;\n",
       "}\n",
       "\n",
       "#sk-container-id-1 a.estimator_doc_link.fitted:hover {\n",
       "  /* fitted */\n",
       "  background-color: var(--sklearn-color-fitted-level-3);\n",
       "}\n",
       "</style><div id=\"sk-container-id-1\" class=\"sk-top-container\"><div class=\"sk-text-repr-fallback\"><pre>LGBMClassifier(boosting_type=&#x27;dart&#x27;, deterministic=True, max_depth=4,\n",
       "               num_leaves=50, random_state=42)</pre><b>In a Jupyter environment, please rerun this cell to show the HTML representation or trust the notebook. <br />On GitHub, the HTML representation is unable to render, please try loading this page with nbviewer.org.</b></div><div class=\"sk-container\" hidden><div class=\"sk-item\"><div class=\"sk-estimator fitted sk-toggleable\"><input class=\"sk-toggleable__control sk-hidden--visually\" id=\"sk-estimator-id-1\" type=\"checkbox\" checked><label for=\"sk-estimator-id-1\" class=\"sk-toggleable__label fitted sk-toggleable__label-arrow fitted\">&nbsp;LGBMClassifier<span class=\"sk-estimator-doc-link fitted\">i<span>Fitted</span></span></label><div class=\"sk-toggleable__content fitted\"><pre>LGBMClassifier(boosting_type=&#x27;dart&#x27;, deterministic=True, max_depth=4,\n",
       "               num_leaves=50, random_state=42)</pre></div> </div></div></div></div>"
      ],
      "text/plain": [
       "LGBMClassifier(boosting_type='dart', deterministic=True, max_depth=4,\n",
       "               num_leaves=50, random_state=42)"
      ]
     },
     "execution_count": 62,
     "metadata": {},
     "output_type": "execute_result"
    }
   ],
   "source": [
    "# Train a LightGBM model with the best hyperparameters\n",
    "best_model = lightgbm.LGBMClassifier(**best_params)\n",
    "best_model.fit(X,y)"
   ]
  },
  {
   "cell_type": "code",
   "execution_count": 63,
   "metadata": {},
   "outputs": [],
   "source": [
    "y_pred = best_model.predict(test_data[final_features])\n",
    "y_test = test_data['pass']"
   ]
  },
  {
   "cell_type": "code",
   "execution_count": 64,
   "metadata": {},
   "outputs": [
    {
     "data": {
      "text/plain": [
       "0.8209150326797385"
      ]
     },
     "execution_count": 64,
     "metadata": {},
     "output_type": "execute_result"
    }
   ],
   "source": [
    "accuracy_score(y_test, y_pred)"
   ]
  },
  {
   "cell_type": "code",
   "execution_count": 65,
   "metadata": {},
   "outputs": [
    {
     "data": {
      "image/png": "[encoded data removed]",
      "text/plain": [
       "<Figure size 800x470 with 1 Axes>"
      ]
     },
     "metadata": {},
     "output_type": "display_data"
    }
   ],
   "source": [
    "import shap \n",
    "shap_values = shap.TreeExplainer(best_model).shap_values(X)\n",
    "shap.summary_plot(shap_values, X, plot_type=\"bar\")\n",
    "feature_names = final_features\n",
    "\n",
    "\n",
    "lgbm_resultX = pd.DataFrame(shap_values, columns = feature_names)\n",
    "\n",
    "vals = np.abs(lgbm_resultX.values).mean(0)\n",
    "\n",
    "shap_importance = pd.DataFrame(list(zip(feature_names, vals)),\n",
    "                                  columns=['col_name','feature_importance_vals'])\n",
    "shap_importance.sort_values(by=['feature_importance_vals'],\n",
    "                               ascending=False, inplace=True)\n"
   ]
  },
  {
   "cell_type": "code",
   "execution_count": 66,
   "metadata": {},
   "outputs": [
    {
     "name": "stdout",
     "output_type": "stream",
     "text": [
      "AUC --> 0.8126993973768167\n",
      "Accuracy --> 0.8209150326797385\n"
     ]
    },
    {
     "data": {
      "image/png": "[encoded data removed]",
      "text/plain": [
       "<Figure size 640x480 with 2 Axes>"
      ]
     },
     "metadata": {},
     "output_type": "display_data"
    }
   ],
   "source": [
    "test_ML(test_data, best_model,final_features,transformer_impute,transformer_scale)"
   ]
  },
  {
   "cell_type": "code",
   "execution_count": 67,
   "metadata": {},
   "outputs": [
    {
     "data": {
      "text/plain": [
       "xpass_situational      0.488006\n",
       "off_xpass              0.162012\n",
       "n_offense_backfield   -0.312946\n",
       "off_motion_dsum        0.194580\n",
       "movement_shift        -0.140002\n",
       "ipa                   -0.002876\n",
       "neg_Formations        -0.409078\n",
       "mean_pairwise_dist     0.309695\n",
       "pass                   1.000000\n",
       "Name: pass, dtype: float64"
      ]
     },
     "execution_count": 67,
     "metadata": {},
     "output_type": "execute_result"
    }
   ],
   "source": [
    "train_data[final_features+['pass']].corr()['pass']"
   ]
  },
  {
   "cell_type": "code",
   "execution_count": null,
   "metadata": {},
   "outputs": [],
   "source": []
  }
 ],
 "metadata": {
  "kernelspec": {
   "display_name": ".venv",
   "language": "python",
   "name": "python3"
  },
  "language_info": {
   "codemirror_mode": {
    "name": "ipython",
    "version": 3
   },
   "file_extension": ".py",
   "mimetype": "text/x-python",
   "name": "python",
   "nbconvert_exporter": "python",
   "pygments_lexer": "ipython3",
   "version": "3.9.15"
  }
 },
 "nbformat": 4,
 "nbformat_minor": 2
}
