{
 "cells": [
  {
   "cell_type": "code",
   "execution_count": 1,
   "metadata": {},
   "outputs": [],
   "source": [
    "import pandas as pd\n",
    "import numpy as np\n",
    "import os\n",
    "from itertools import chain"
   ]
  },
  {
   "cell_type": "code",
   "execution_count": 2,
   "metadata": {},
   "outputs": [],
   "source": [
    "root_dir = os.getcwd()\n",
    "train_data = pd.read_csv(os.path.join(root_dir,'data/train_data.csv'))"
   ]
  },
  {
   "cell_type": "code",
   "execution_count": 3,
   "metadata": {},
   "outputs": [],
   "source": [
    "train_data['tempo_2'] = train_data['tempo'] +train_data['off_xpass']"
   ]
  },
  {
   "cell_type": "code",
   "execution_count": 4,
   "metadata": {},
   "outputs": [],
   "source": [
    "train_data['xpass_2'] = 9*train_data['off_xpass']-train_data['qb_pass_rate_ewm']"
   ]
  },
  {
   "cell_type": "markdown",
   "metadata": {},
   "source": [
    "# todo: recover box ewm"
   ]
  },
  {
   "cell_type": "code",
   "execution_count": 5,
   "metadata": {},
   "outputs": [],
   "source": [
    "train_data['xpass_bmi'] = train_data['off_xpass']-train_data['box_ewm_dl_bmi']-.4*train_data['qb_pass_rate_ewm']"
   ]
  },
  {
   "cell_type": "code",
   "execution_count": 6,
   "metadata": {},
   "outputs": [],
   "source": [
    "train_data['tempo_3'] = train_data['tempo'] +train_data['xpass_bmi']"
   ]
  },
  {
   "cell_type": "code",
   "execution_count": 7,
   "metadata": {},
   "outputs": [],
   "source": [
    "train_data['tempo_4'] = train_data['tempo_2'] -.4*train_data['qb_pass_rate_ewm']"
   ]
  },
  {
   "cell_type": "code",
   "execution_count": 8,
   "metadata": {},
   "outputs": [
    {
     "data": {
      "text/plain": [
       "off_xpass                         0.162012\n",
       "pass                              1.000000\n",
       "weight_all_sum                   -0.294556\n",
       "db_ct                             0.296905\n",
       "mean_pairwise_dist                0.309695\n",
       "mean_offset_db_orientation_abs   -0.011925\n",
       "tempo                             0.194767\n",
       "box_ewm_dl_bmi                   -0.128545\n",
       "box_ewm                          -0.086265\n",
       "mean_DL_bmi                      -0.102808\n",
       "qb_pa_rate_pass                  -0.048069\n",
       "qb_pass_rate_ewm                  0.043410\n",
       "tempo_2                           0.238076\n",
       "xpass_2                           0.164316\n",
       "xpass_bmi                         0.202182\n",
       "tempo_3                           0.261343\n",
       "tempo_4                           0.250645\n",
       "Name: pass, dtype: float64"
      ]
     },
     "execution_count": 8,
     "metadata": {},
     "output_type": "execute_result"
    }
   ],
   "source": [
    "train_data[list(chain(['off_xpass','pass'],train_data.columns[-15:]))].corr()['pass']"
   ]
  },
  {
   "cell_type": "code",
   "execution_count": 9,
   "metadata": {},
   "outputs": [
    {
     "data": {
      "text/plain": [
       "off_xpass                         0.810321\n",
       "pass                              0.202182\n",
       "weight_all_sum                   -0.368878\n",
       "db_ct                             0.284668\n",
       "mean_pairwise_dist                0.199256\n",
       "mean_offset_db_orientation_abs    0.020251\n",
       "tempo                             0.136703\n",
       "box_ewm_dl_bmi                   -0.565207\n",
       "box_ewm                          -0.449157\n",
       "mean_DL_bmi                      -0.350895\n",
       "qb_pa_rate_pass                  -0.286499\n",
       "qb_pass_rate_ewm                  0.246661\n",
       "tempo_2                           0.689879\n",
       "xpass_2                           0.846286\n",
       "xpass_bmi                         1.000000\n",
       "tempo_3                           0.793036\n",
       "tempo_4                           0.692750\n",
       "Name: xpass_bmi, dtype: float64"
      ]
     },
     "execution_count": 9,
     "metadata": {},
     "output_type": "execute_result"
    }
   ],
   "source": [
    "train_data[list(chain(['off_xpass','pass'],train_data.columns[-15:]))].corr()['xpass_bmi']"
   ]
  },
  {
   "cell_type": "code",
   "execution_count": 10,
   "metadata": {},
   "outputs": [
    {
     "data": {
      "text/plain": [
       "off_xpass                        -0.214020\n",
       "pass                             -0.294556\n",
       "weight_all_sum                    1.000000\n",
       "db_ct                            -0.690911\n",
       "mean_pairwise_dist               -0.344277\n",
       "mean_offset_db_orientation_abs   -0.029523\n",
       "tempo                            -0.253376\n",
       "box_ewm_dl_bmi                    0.365703\n",
       "box_ewm                           0.125899\n",
       "mean_DL_bmi                       0.454956\n",
       "qb_pa_rate_pass                   0.086299\n",
       "qb_pass_rate_ewm                 -0.050724\n",
       "tempo_2                          -0.312427\n",
       "xpass_2                          -0.226010\n",
       "xpass_bmi                        -0.368878\n",
       "tempo_3                          -0.416644\n",
       "tempo_4                          -0.339619\n",
       "Name: weight_all_sum, dtype: float64"
      ]
     },
     "execution_count": 10,
     "metadata": {},
     "output_type": "execute_result"
    }
   ],
   "source": [
    "train_data[list(chain(['off_xpass','pass'],train_data.columns[-15:]))].corr()['weight_all_sum']"
   ]
  },
  {
   "cell_type": "code",
   "execution_count": 11,
   "metadata": {},
   "outputs": [
    {
     "data": {
      "text/plain": [
       "off_xpass                        -0.090971\n",
       "pass                             -0.102808\n",
       "weight_all_sum                    0.454956\n",
       "db_ct                            -0.190614\n",
       "mean_pairwise_dist               -0.097505\n",
       "mean_offset_db_orientation_abs    0.010404\n",
       "tempo                            -0.092877\n",
       "box_ewm_dl_bmi                    0.591578\n",
       "box_ewm                           0.015831\n",
       "mean_DL_bmi                       1.000000\n",
       "qb_pa_rate_pass                  -0.006062\n",
       "qb_pass_rate_ewm                 -0.027686\n",
       "tempo_2                          -0.123415\n",
       "xpass_2                          -0.098071\n",
       "xpass_bmi                        -0.350895\n",
       "tempo_3                          -0.305636\n",
       "tempo_4                          -0.133413\n",
       "Name: mean_DL_bmi, dtype: float64"
      ]
     },
     "execution_count": 11,
     "metadata": {},
     "output_type": "execute_result"
    }
   ],
   "source": [
    "train_data[list(chain(['off_xpass','pass'],train_data.columns[-15:]))].corr()['mean_DL_bmi']"
   ]
  },
  {
   "cell_type": "markdown",
   "metadata": {},
   "source": [
    "Note that since db_ct provides as much info as weight_all_sum, and is slightly more useful, we can use it and still keep dl weight features"
   ]
  },
  {
   "cell_type": "code",
   "execution_count": 12,
   "metadata": {},
   "outputs": [
    {
     "data": {
      "text/plain": [
       "off_xpass                        -0.150542\n",
       "pass                             -0.128545\n",
       "weight_all_sum                    0.365703\n",
       "db_ct                            -0.218026\n",
       "mean_pairwise_dist               -0.181720\n",
       "mean_offset_db_orientation_abs    0.013036\n",
       "tempo                            -0.151652\n",
       "box_ewm_dl_bmi                    1.000000\n",
       "box_ewm                           0.814486\n",
       "mean_DL_bmi                       0.591578\n",
       "qb_pa_rate_pass                   0.042736\n",
       "qb_pass_rate_ewm                 -0.055365\n",
       "tempo_2                          -0.203698\n",
       "xpass_2                          -0.144283\n",
       "xpass_bmi                        -0.565207\n",
       "tempo_3                          -0.491723\n",
       "tempo_4                          -0.200293\n",
       "Name: box_ewm_dl_bmi, dtype: float64"
      ]
     },
     "execution_count": 12,
     "metadata": {},
     "output_type": "execute_result"
    }
   ],
   "source": [
    "train_data[list(chain(['off_xpass','pass'],train_data.columns[-15:]))].corr()['box_ewm_dl_bmi']"
   ]
  },
  {
   "cell_type": "code",
   "execution_count": 13,
   "metadata": {},
   "outputs": [
    {
     "data": {
      "text/plain": [
       "off_xpass                         0.210325\n",
       "pass                              0.296905\n",
       "weight_all_sum                   -0.690911\n",
       "db_ct                             1.000000\n",
       "mean_pairwise_dist                0.409164\n",
       "mean_offset_db_orientation_abs   -0.067702\n",
       "tempo                             0.244393\n",
       "box_ewm_dl_bmi                   -0.218026\n",
       "box_ewm                          -0.133959\n",
       "mean_DL_bmi                      -0.190614\n",
       "qb_pa_rate_pass                  -0.068938\n",
       "qb_pass_rate_ewm                  0.068263\n",
       "tempo_2                           0.304437\n",
       "xpass_2                           0.215599\n",
       "xpass_bmi                         0.284668\n",
       "tempo_3                           0.351356\n",
       "tempo_4                           0.319286\n",
       "Name: db_ct, dtype: float64"
      ]
     },
     "execution_count": 13,
     "metadata": {},
     "output_type": "execute_result"
    }
   ],
   "source": [
    "train_data[list(chain(['off_xpass','pass'],train_data.columns[-15:]))].corr()['db_ct']"
   ]
  },
  {
   "cell_type": "code",
   "execution_count": 14,
   "metadata": {},
   "outputs": [
    {
     "data": {
      "text/plain": [
       "off_xpass                         1.000000\n",
       "pass                              0.162012\n",
       "weight_all_sum                   -0.214020\n",
       "db_ct                             0.210325\n",
       "mean_pairwise_dist                0.122287\n",
       "mean_offset_db_orientation_abs   -0.005896\n",
       "tempo                             0.085685\n",
       "box_ewm_dl_bmi                   -0.150542\n",
       "box_ewm                          -0.122592\n",
       "mean_DL_bmi                      -0.090971\n",
       "qb_pa_rate_pass                  -0.360698\n",
       "qb_pass_rate_ewm                  0.664346\n",
       "tempo_2                           0.801247\n",
       "xpass_2                           0.994654\n",
       "xpass_bmi                         0.810321\n",
       "tempo_3                           0.623635\n",
       "tempo_4                           0.652148\n",
       "Name: off_xpass, dtype: float64"
      ]
     },
     "execution_count": 14,
     "metadata": {},
     "output_type": "execute_result"
    }
   ],
   "source": [
    "train_data[list(chain(['off_xpass','pass'],train_data.columns[-15:]))].corr()['off_xpass']"
   ]
  },
  {
   "cell_type": "code",
   "execution_count": 15,
   "metadata": {},
   "outputs": [
    {
     "data": {
      "text/plain": [
       "off_xpass                         0.801247\n",
       "pass                              0.238076\n",
       "weight_all_sum                   -0.312427\n",
       "db_ct                             0.304437\n",
       "mean_pairwise_dist                0.237061\n",
       "mean_offset_db_orientation_abs   -0.003124\n",
       "tempo                             0.664788\n",
       "box_ewm_dl_bmi                   -0.203698\n",
       "box_ewm                          -0.165549\n",
       "mean_DL_bmi                      -0.123415\n",
       "qb_pa_rate_pass                  -0.310847\n",
       "qb_pass_rate_ewm                  0.516732\n",
       "tempo_2                           1.000000\n",
       "xpass_2                           0.795609\n",
       "xpass_bmi                         0.689879\n",
       "tempo_3                           0.897743\n",
       "tempo_4                           0.941661\n",
       "Name: tempo_2, dtype: float64"
      ]
     },
     "execution_count": 15,
     "metadata": {},
     "output_type": "execute_result"
    }
   ],
   "source": [
    "train_data[list(chain(['off_xpass','pass'],train_data.columns[-15:]))].corr()['tempo_2']"
   ]
  },
  {
   "cell_type": "code",
   "execution_count": 16,
   "metadata": {},
   "outputs": [
    {
     "data": {
      "text/plain": [
       "off_xpass                         0.085685\n",
       "pass                              0.194767\n",
       "weight_all_sum                   -0.253376\n",
       "db_ct                             0.244393\n",
       "mean_pairwise_dist                0.241991\n",
       "mean_offset_db_orientation_abs    0.001433\n",
       "tempo                             1.000000\n",
       "box_ewm_dl_bmi                   -0.151652\n",
       "box_ewm                          -0.122405\n",
       "mean_DL_bmi                      -0.092877\n",
       "qb_pa_rate_pass                  -0.067555\n",
       "qb_pass_rate_ewm                  0.030469\n",
       "tempo_2                           0.664788\n",
       "xpass_2                           0.082892\n",
       "xpass_bmi                         0.136703\n",
       "tempo_3                           0.711866\n",
       "tempo_4                           0.748998\n",
       "Name: tempo, dtype: float64"
      ]
     },
     "execution_count": 16,
     "metadata": {},
     "output_type": "execute_result"
    }
   ],
   "source": [
    "train_data[list(chain(['off_xpass','pass'],train_data.columns[-15:]))].corr()['tempo']"
   ]
  },
  {
   "cell_type": "code",
   "execution_count": 17,
   "metadata": {},
   "outputs": [
    {
     "data": {
      "text/plain": [
       "off_xpass                         0.623635\n",
       "pass                              0.261343\n",
       "weight_all_sum                   -0.416644\n",
       "db_ct                             0.351356\n",
       "mean_pairwise_dist                0.289548\n",
       "mean_offset_db_orientation_abs    0.014524\n",
       "tempo                             0.711866\n",
       "box_ewm_dl_bmi                   -0.491723\n",
       "box_ewm                          -0.391333\n",
       "mean_DL_bmi                      -0.305636\n",
       "qb_pa_rate_pass                  -0.244641\n",
       "qb_pass_rate_ewm                  0.193909\n",
       "tempo_2                           0.897743\n",
       "xpass_2                           0.650820\n",
       "xpass_bmi                         0.793036\n",
       "tempo_3                           1.000000\n",
       "tempo_4                           0.951596\n",
       "Name: tempo_3, dtype: float64"
      ]
     },
     "execution_count": 17,
     "metadata": {},
     "output_type": "execute_result"
    }
   ],
   "source": [
    "train_data[list(chain(['off_xpass','pass'],train_data.columns[-15:]))].corr()['tempo_3']"
   ]
  },
  {
   "cell_type": "code",
   "execution_count": 18,
   "metadata": {},
   "outputs": [
    {
     "data": {
      "text/plain": [
       "off_xpass                         0.652148\n",
       "pass                              0.250645\n",
       "weight_all_sum                   -0.339619\n",
       "db_ct                             0.319286\n",
       "mean_pairwise_dist                0.262445\n",
       "mean_offset_db_orientation_abs    0.022286\n",
       "tempo                             0.748998\n",
       "box_ewm_dl_bmi                   -0.200293\n",
       "box_ewm                          -0.153628\n",
       "mean_DL_bmi                      -0.133413\n",
       "qb_pa_rate_pass                  -0.259645\n",
       "qb_pass_rate_ewm                  0.198440\n",
       "tempo_2                           0.941661\n",
       "xpass_2                           0.681177\n",
       "xpass_bmi                         0.692750\n",
       "tempo_3                           0.951596\n",
       "tempo_4                           1.000000\n",
       "Name: tempo_4, dtype: float64"
      ]
     },
     "execution_count": 18,
     "metadata": {},
     "output_type": "execute_result"
    }
   ],
   "source": [
    "train_data[list(chain(['off_xpass','pass'],train_data.columns[-15:]))].corr()['tempo_4']"
   ]
  }
 ],
 "metadata": {
  "kernelspec": {
   "display_name": ".venv",
   "language": "python",
   "name": "python3"
  },
  "language_info": {
   "codemirror_mode": {
    "name": "ipython",
    "version": 3
   },
   "file_extension": ".py",
   "mimetype": "text/x-python",
   "name": "python",
   "nbconvert_exporter": "python",
   "pygments_lexer": "ipython3",
   "version": "3.9.15"
  }
 },
 "nbformat": 4,
 "nbformat_minor": 2
}
