{
 "cells": [
  {
   "cell_type": "markdown",
   "metadata": {},
   "source": [
    "# Further Motion/Distance Analysis\n",
    "\n",
    "We diver further into our motion analysis by exploring distance-related aspects of our tracking data\n",
    "\n",
    "\n"
   ]
  },
  {
   "cell_type": "code",
   "execution_count": 1,
   "metadata": {},
   "outputs": [],
   "source": [
    "import os\n",
    "import pandas as pd\n",
    "from data_loading import load_tracking_data\n",
    "import seaborn as sns\n",
    "import matplotlib.pyplot as plt"
   ]
  },
  {
   "cell_type": "code",
   "execution_count": 2,
   "metadata": {},
   "outputs": [],
   "source": [
    "# load tracking data for all weeks\n",
    "root_dir = os.getcwd()\n",
    "tracking_fname_list = [os.path.join(root_dir,  f\"data/tracking_week_{i}.csv\") for i in range(1,10)]\n",
    "write_track = False\n",
    "if write_track:\n",
    "    df_tracking = pd.concat(\n",
    "            [load_tracking_data(tracking_fname) for tracking_fname in tracking_fname_list]\n",
    "        )\n",
    "    df_tracking.to_csv('data/track_full.csv')\n",
    "else: \n",
    "    df_tracking = pd.read_csv('data/track_full.csv',usecols=['gameId','playId','nflId','frameId','club','a','s','dis','y'])\n",
    "df_players = pd.read_csv(os.path.join(root_dir,'data/players.csv'))\n",
    "df_player_play = pd.read_csv(os.path.join(root_dir,'data/player_play.csv'))"
   ]
  },
  {
   "cell_type": "markdown",
   "metadata": {},
   "source": [
    "Sub to offense this time:"
   ]
  },
  {
   "cell_type": "code",
   "execution_count": 3,
   "metadata": {},
   "outputs": [],
   "source": [
    "plays_fname = os.path.join(root_dir,  \"data/plays.csv\")\n",
    "df_plays = pd.read_csv(os.path.join(root_dir,plays_fname))\n",
    "df_games = pd.read_csv(os.path.join(root_dir,'data/games.csv'))"
   ]
  },
  {
   "cell_type": "code",
   "execution_count": 4,
   "metadata": {},
   "outputs": [],
   "source": [
    "play_trunc = df_plays[['gameId','playId','possessionTeam']]\n",
    "pt_df = play_trunc.merge(df_tracking,how='left',left_on=['gameId','playId','possessionTeam'],\n",
    "                 right_on=['gameId','playId','club'])\n",
    "\n",
    "# na's dropped to lose players w/o tracking info\n",
    "off_df = pt_df.dropna()"
   ]
  },
  {
   "cell_type": "code",
   "execution_count": 5,
   "metadata": {},
   "outputs": [
    {
     "data": {
      "text/html": [
       "<div>\n",
       "<style scoped>\n",
       "    .dataframe tbody tr th:only-of-type {\n",
       "        vertical-align: middle;\n",
       "    }\n",
       "\n",
       "    .dataframe tbody tr th {\n",
       "        vertical-align: top;\n",
       "    }\n",
       "\n",
       "    .dataframe thead th {\n",
       "        text-align: right;\n",
       "    }\n",
       "</style>\n",
       "<table border=\"1\" class=\"dataframe\">\n",
       "  <thead>\n",
       "    <tr style=\"text-align: right;\">\n",
       "      <th></th>\n",
       "      <th>gameId</th>\n",
       "      <th>playId</th>\n",
       "      <th>possessionTeam</th>\n",
       "      <th>nflId</th>\n",
       "      <th>frameId</th>\n",
       "      <th>club</th>\n",
       "      <th>y</th>\n",
       "      <th>s</th>\n",
       "      <th>a</th>\n",
       "      <th>dis</th>\n",
       "    </tr>\n",
       "  </thead>\n",
       "  <tbody>\n",
       "    <tr>\n",
       "      <th>0</th>\n",
       "      <td>2022102302</td>\n",
       "      <td>2655</td>\n",
       "      <td>CIN</td>\n",
       "      <td>42654.0</td>\n",
       "      <td>1.0</td>\n",
       "      <td>CIN</td>\n",
       "      <td>20.62</td>\n",
       "      <td>0.13</td>\n",
       "      <td>0.87</td>\n",
       "      <td>0.02</td>\n",
       "    </tr>\n",
       "    <tr>\n",
       "      <th>1</th>\n",
       "      <td>2022102302</td>\n",
       "      <td>2655</td>\n",
       "      <td>CIN</td>\n",
       "      <td>42654.0</td>\n",
       "      <td>2.0</td>\n",
       "      <td>CIN</td>\n",
       "      <td>20.62</td>\n",
       "      <td>0.13</td>\n",
       "      <td>0.75</td>\n",
       "      <td>0.02</td>\n",
       "    </tr>\n",
       "    <tr>\n",
       "      <th>2</th>\n",
       "      <td>2022102302</td>\n",
       "      <td>2655</td>\n",
       "      <td>CIN</td>\n",
       "      <td>42654.0</td>\n",
       "      <td>3.0</td>\n",
       "      <td>CIN</td>\n",
       "      <td>20.63</td>\n",
       "      <td>0.15</td>\n",
       "      <td>0.45</td>\n",
       "      <td>0.02</td>\n",
       "    </tr>\n",
       "  </tbody>\n",
       "</table>\n",
       "</div>"
      ],
      "text/plain": [
       "       gameId  playId possessionTeam    nflId  frameId club      y     s  \\\n",
       "0  2022102302    2655            CIN  42654.0      1.0  CIN  20.62  0.13   \n",
       "1  2022102302    2655            CIN  42654.0      2.0  CIN  20.62  0.13   \n",
       "2  2022102302    2655            CIN  42654.0      3.0  CIN  20.63  0.15   \n",
       "\n",
       "      a   dis  \n",
       "0  0.87  0.02  \n",
       "1  0.75  0.02  \n",
       "2  0.45  0.02  "
      ]
     },
     "execution_count": 5,
     "metadata": {},
     "output_type": "execute_result"
    }
   ],
   "source": [
    "off_df.head(3)"
   ]
  },
  {
   "cell_type": "code",
   "execution_count": 6,
   "metadata": {},
   "outputs": [],
   "source": [
    "example = ((off_df['gameId'] == 2022102300) & (off_df['playId'] == 2314)) & (off_df['nflId'] == 42347)"
   ]
  },
  {
   "cell_type": "markdown",
   "metadata": {},
   "source": [
    "### get all but last couple frames"
   ]
  },
  {
   "cell_type": "code",
   "execution_count": 7,
   "metadata": {},
   "outputs": [],
   "source": [
    "off_15 = off_df.groupby(['gameId','playId','nflId']).tail(15).reset_index(drop=True)"
   ]
  },
  {
   "cell_type": "code",
   "execution_count": 8,
   "metadata": {},
   "outputs": [],
   "source": [
    "off_10 = off_15.groupby(['gameId','playId','nflId']).head(10).reset_index(drop=True)"
   ]
  },
  {
   "cell_type": "code",
   "execution_count": 9,
   "metadata": {},
   "outputs": [
    {
     "data": {
      "text/plain": [
       "874852"
      ]
     },
     "execution_count": 9,
     "metadata": {},
     "output_type": "execute_result"
    }
   ],
   "source": [
    "len(off_15)-len(off_10)"
   ]
  },
  {
   "cell_type": "code",
   "execution_count": 10,
   "metadata": {},
   "outputs": [],
   "source": [
    "og_10 = off_10.groupby(['gameId','playId','nflId']).agg(y_initial=('y','first'),y_final=('y','last'),dis_sum=('dis','sum'),\n",
    "                                                        s_max=('s','max'),a_max=('a','max'),a_mean=('a','mean'),a_median=('a','median'),\n",
    "                                                        s_mean=('s','mean'),s_min=('s','min'),a_min=('a','min')).reset_index()"
   ]
  },
  {
   "cell_type": "markdown",
   "metadata": {},
   "source": [
    "get y delta"
   ]
  },
  {
   "cell_type": "code",
   "execution_count": 11,
   "metadata": {},
   "outputs": [],
   "source": [
    "og_10['y_delta'] = og_10['y_final']-og_10['y_initial']"
   ]
  },
  {
   "cell_type": "code",
   "execution_count": 12,
   "metadata": {},
   "outputs": [
    {
     "data": {
      "text/plain": [
       "Index(['s_mean', 's_min', 'a_min', 'y_delta'], dtype='object')"
      ]
     },
     "execution_count": 12,
     "metadata": {},
     "output_type": "execute_result"
    }
   ],
   "source": [
    "og_10.columns[-4:]"
   ]
  },
  {
   "cell_type": "code",
   "execution_count": 13,
   "metadata": {},
   "outputs": [],
   "source": [
    "delta_10 = og_10[['gameId','playId']].drop_duplicates()"
   ]
  },
  {
   "cell_type": "code",
   "execution_count": 14,
   "metadata": {},
   "outputs": [],
   "source": [
    "ser_ls = []"
   ]
  },
  {
   "cell_type": "code",
   "execution_count": 15,
   "metadata": {},
   "outputs": [],
   "source": [
    "for col in og_10.columns[-10:]:\n",
    "\n",
    "    ser_ls.append(og_10.groupby(['gameId','playId'])[col].apply(lambda grp: grp.nlargest(2).diff().tail(1)).reset_index(drop=True))"
   ]
  },
  {
   "cell_type": "code",
   "execution_count": 16,
   "metadata": {},
   "outputs": [],
   "source": [
    "delta_10 = delta_10.reset_index(drop=True)"
   ]
  },
  {
   "cell_type": "code",
   "execution_count": 17,
   "metadata": {},
   "outputs": [],
   "source": [
    "d10_proc = pd.concat([delta_10,pd.concat(ser_ls,axis=1)],axis=1)"
   ]
  },
  {
   "cell_type": "code",
   "execution_count": 18,
   "metadata": {},
   "outputs": [],
   "source": [
    "d10_proc['y_delta'] = d10_proc['y_delta'].round(2)"
   ]
  },
  {
   "cell_type": "code",
   "execution_count": 19,
   "metadata": {},
   "outputs": [
    {
     "data": {
      "text/html": [
       "<div>\n",
       "<style scoped>\n",
       "    .dataframe tbody tr th:only-of-type {\n",
       "        vertical-align: middle;\n",
       "    }\n",
       "\n",
       "    .dataframe tbody tr th {\n",
       "        vertical-align: top;\n",
       "    }\n",
       "\n",
       "    .dataframe thead th {\n",
       "        text-align: right;\n",
       "    }\n",
       "</style>\n",
       "<table border=\"1\" class=\"dataframe\">\n",
       "  <thead>\n",
       "    <tr style=\"text-align: right;\">\n",
       "      <th></th>\n",
       "      <th>gameId</th>\n",
       "      <th>playId</th>\n",
       "      <th>y_final</th>\n",
       "      <th>dis_sum</th>\n",
       "      <th>s_max</th>\n",
       "      <th>a_max</th>\n",
       "      <th>a_mean</th>\n",
       "      <th>a_median</th>\n",
       "      <th>s_mean</th>\n",
       "      <th>s_min</th>\n",
       "      <th>a_min</th>\n",
       "      <th>y_delta</th>\n",
       "    </tr>\n",
       "  </thead>\n",
       "  <tbody>\n",
       "    <tr>\n",
       "      <th>0</th>\n",
       "      <td>2022090800</td>\n",
       "      <td>56</td>\n",
       "      <td>-9.39</td>\n",
       "      <td>-0.20</td>\n",
       "      <td>-0.06</td>\n",
       "      <td>-0.01</td>\n",
       "      <td>-0.040</td>\n",
       "      <td>-0.070</td>\n",
       "      <td>-0.024</td>\n",
       "      <td>-0.03</td>\n",
       "      <td>-0.01</td>\n",
       "      <td>-0.01</td>\n",
       "    </tr>\n",
       "    <tr>\n",
       "      <th>1</th>\n",
       "      <td>2022090800</td>\n",
       "      <td>80</td>\n",
       "      <td>-4.49</td>\n",
       "      <td>-2.30</td>\n",
       "      <td>-3.28</td>\n",
       "      <td>-4.94</td>\n",
       "      <td>-4.325</td>\n",
       "      <td>-4.815</td>\n",
       "      <td>-2.261</td>\n",
       "      <td>-1.63</td>\n",
       "      <td>-2.95</td>\n",
       "      <td>-0.05</td>\n",
       "    </tr>\n",
       "    <tr>\n",
       "      <th>2</th>\n",
       "      <td>2022090800</td>\n",
       "      <td>101</td>\n",
       "      <td>-4.92</td>\n",
       "      <td>-0.11</td>\n",
       "      <td>-0.86</td>\n",
       "      <td>-2.14</td>\n",
       "      <td>-0.646</td>\n",
       "      <td>-0.095</td>\n",
       "      <td>-0.183</td>\n",
       "      <td>-0.01</td>\n",
       "      <td>-0.10</td>\n",
       "      <td>-0.24</td>\n",
       "    </tr>\n",
       "    <tr>\n",
       "      <th>3</th>\n",
       "      <td>2022090800</td>\n",
       "      <td>122</td>\n",
       "      <td>-5.15</td>\n",
       "      <td>-0.07</td>\n",
       "      <td>-0.02</td>\n",
       "      <td>-0.01</td>\n",
       "      <td>-0.018</td>\n",
       "      <td>-0.020</td>\n",
       "      <td>-0.026</td>\n",
       "      <td>-0.02</td>\n",
       "      <td>-0.02</td>\n",
       "      <td>-0.04</td>\n",
       "    </tr>\n",
       "    <tr>\n",
       "      <th>4</th>\n",
       "      <td>2022090800</td>\n",
       "      <td>167</td>\n",
       "      <td>-1.23</td>\n",
       "      <td>-0.12</td>\n",
       "      <td>-0.37</td>\n",
       "      <td>-1.03</td>\n",
       "      <td>-0.477</td>\n",
       "      <td>-0.385</td>\n",
       "      <td>-0.197</td>\n",
       "      <td>-0.02</td>\n",
       "      <td>-0.14</td>\n",
       "      <td>-0.02</td>\n",
       "    </tr>\n",
       "    <tr>\n",
       "      <th>5</th>\n",
       "      <td>2022090800</td>\n",
       "      <td>191</td>\n",
       "      <td>-5.08</td>\n",
       "      <td>-0.11</td>\n",
       "      <td>-0.13</td>\n",
       "      <td>-0.01</td>\n",
       "      <td>-0.013</td>\n",
       "      <td>-0.015</td>\n",
       "      <td>-0.067</td>\n",
       "      <td>-0.04</td>\n",
       "      <td>-0.03</td>\n",
       "      <td>-0.01</td>\n",
       "    </tr>\n",
       "    <tr>\n",
       "      <th>6</th>\n",
       "      <td>2022090800</td>\n",
       "      <td>212</td>\n",
       "      <td>-10.82</td>\n",
       "      <td>-4.33</td>\n",
       "      <td>-5.98</td>\n",
       "      <td>-4.01</td>\n",
       "      <td>-2.671</td>\n",
       "      <td>-2.380</td>\n",
       "      <td>-4.440</td>\n",
       "      <td>-2.60</td>\n",
       "      <td>-1.95</td>\n",
       "      <td>-4.14</td>\n",
       "    </tr>\n",
       "    <tr>\n",
       "      <th>7</th>\n",
       "      <td>2022090800</td>\n",
       "      <td>236</td>\n",
       "      <td>-5.17</td>\n",
       "      <td>-2.14</td>\n",
       "      <td>-3.67</td>\n",
       "      <td>-5.60</td>\n",
       "      <td>-3.392</td>\n",
       "      <td>-3.520</td>\n",
       "      <td>-2.473</td>\n",
       "      <td>-0.26</td>\n",
       "      <td>-0.65</td>\n",
       "      <td>-0.21</td>\n",
       "    </tr>\n",
       "    <tr>\n",
       "      <th>8</th>\n",
       "      <td>2022090800</td>\n",
       "      <td>299</td>\n",
       "      <td>-6.85</td>\n",
       "      <td>-2.28</td>\n",
       "      <td>-4.84</td>\n",
       "      <td>-4.41</td>\n",
       "      <td>-3.445</td>\n",
       "      <td>-3.985</td>\n",
       "      <td>-2.435</td>\n",
       "      <td>-0.41</td>\n",
       "      <td>-1.59</td>\n",
       "      <td>-2.22</td>\n",
       "    </tr>\n",
       "    <tr>\n",
       "      <th>9</th>\n",
       "      <td>2022090800</td>\n",
       "      <td>343</td>\n",
       "      <td>-4.74</td>\n",
       "      <td>-2.10</td>\n",
       "      <td>-3.01</td>\n",
       "      <td>-3.03</td>\n",
       "      <td>-2.142</td>\n",
       "      <td>-2.360</td>\n",
       "      <td>-2.176</td>\n",
       "      <td>-0.67</td>\n",
       "      <td>-0.74</td>\n",
       "      <td>-2.12</td>\n",
       "    </tr>\n",
       "  </tbody>\n",
       "</table>\n",
       "</div>"
      ],
      "text/plain": [
       "       gameId  playId  y_final  dis_sum  s_max  a_max  a_mean  a_median  \\\n",
       "0  2022090800      56    -9.39    -0.20  -0.06  -0.01  -0.040    -0.070   \n",
       "1  2022090800      80    -4.49    -2.30  -3.28  -4.94  -4.325    -4.815   \n",
       "2  2022090800     101    -4.92    -0.11  -0.86  -2.14  -0.646    -0.095   \n",
       "3  2022090800     122    -5.15    -0.07  -0.02  -0.01  -0.018    -0.020   \n",
       "4  2022090800     167    -1.23    -0.12  -0.37  -1.03  -0.477    -0.385   \n",
       "5  2022090800     191    -5.08    -0.11  -0.13  -0.01  -0.013    -0.015   \n",
       "6  2022090800     212   -10.82    -4.33  -5.98  -4.01  -2.671    -2.380   \n",
       "7  2022090800     236    -5.17    -2.14  -3.67  -5.60  -3.392    -3.520   \n",
       "8  2022090800     299    -6.85    -2.28  -4.84  -4.41  -3.445    -3.985   \n",
       "9  2022090800     343    -4.74    -2.10  -3.01  -3.03  -2.142    -2.360   \n",
       "\n",
       "   s_mean  s_min  a_min  y_delta  \n",
       "0  -0.024  -0.03  -0.01    -0.01  \n",
       "1  -2.261  -1.63  -2.95    -0.05  \n",
       "2  -0.183  -0.01  -0.10    -0.24  \n",
       "3  -0.026  -0.02  -0.02    -0.04  \n",
       "4  -0.197  -0.02  -0.14    -0.02  \n",
       "5  -0.067  -0.04  -0.03    -0.01  \n",
       "6  -4.440  -2.60  -1.95    -4.14  \n",
       "7  -2.473  -0.26  -0.65    -0.21  \n",
       "8  -2.435  -0.41  -1.59    -2.22  \n",
       "9  -2.176  -0.67  -0.74    -2.12  "
      ]
     },
     "execution_count": 19,
     "metadata": {},
     "output_type": "execute_result"
    }
   ],
   "source": [
    "d10_proc.head(10)"
   ]
  },
  {
   "cell_type": "code",
   "execution_count": 20,
   "metadata": {},
   "outputs": [],
   "source": [
    "d10_flagged = d10_proc.merge(df_plays[['gameId','playId','isDropback']],how='left')"
   ]
  },
  {
   "cell_type": "code",
   "execution_count": 21,
   "metadata": {},
   "outputs": [
    {
     "data": {
      "text/plain": [
       "-3.89"
      ]
     },
     "execution_count": 21,
     "metadata": {},
     "output_type": "execute_result"
    }
   ],
   "source": [
    "d10_flagged['a_max'].quantile(.1)"
   ]
  },
  {
   "cell_type": "code",
   "execution_count": 22,
   "metadata": {},
   "outputs": [],
   "source": [
    "d10_flagged['amed_25'] = (d10_flagged['a_median'] >= d10_flagged['a_median'].quantile(.25))"
   ]
  },
  {
   "cell_type": "code",
   "execution_count": 23,
   "metadata": {},
   "outputs": [],
   "source": [
    "d10_flagged['amean_dis'] = d10_flagged['a_mean']/.05*d10_flagged['dis_sum']"
   ]
  },
  {
   "cell_type": "code",
   "execution_count": 24,
   "metadata": {},
   "outputs": [],
   "source": [
    "d10_flagged['amean_del'] =d10_flagged['a_mean']/.5*d10_flagged['y_delta']"
   ]
  },
  {
   "cell_type": "code",
   "execution_count": 25,
   "metadata": {},
   "outputs": [
    {
     "data": {
      "text/plain": [
       "gameId       -0.022265\n",
       "playId        0.013461\n",
       "y_final      -0.109173\n",
       "dis_sum       0.025642\n",
       "s_max         0.077960\n",
       "a_max         0.155504\n",
       "a_mean        0.136929\n",
       "a_median      0.130354\n",
       "s_mean        0.028333\n",
       "s_min        -0.022216\n",
       "a_min         0.068027\n",
       "y_delta       0.021588\n",
       "isDropback    1.000000\n",
       "amed_25       0.117585\n",
       "amean_dis    -0.076095\n",
       "amean_del    -0.052344\n",
       "Name: isDropback, dtype: float64"
      ]
     },
     "execution_count": 25,
     "metadata": {},
     "output_type": "execute_result"
    }
   ],
   "source": [
    "d10_flagged.corr()['isDropback']"
   ]
  },
  {
   "cell_type": "markdown",
   "metadata": {},
   "source": [
    "TODO: incorp accel min, median/mean?"
   ]
  },
  {
   "cell_type": "code",
   "execution_count": 27,
   "metadata": {},
   "outputs": [],
   "source": [
    "d10_flagged[['gameId','playId','a_mean','a_max','y_delta','dis_sum']].to_csv('data/top_2_player_diff_last_10.csv')"
   ]
  },
  {
   "cell_type": "code",
   "execution_count": null,
   "metadata": {},
   "outputs": [],
   "source": []
  }
 ],
 "metadata": {
  "kernelspec": {
   "display_name": ".venv",
   "language": "python",
   "name": "python3"
  },
  "language_info": {
   "codemirror_mode": {
    "name": "ipython",
    "version": 3
   },
   "file_extension": ".py",
   "mimetype": "text/x-python",
   "name": "python",
   "nbconvert_exporter": "python",
   "pygments_lexer": "ipython3",
   "version": "3.9.15"
  }
 },
 "nbformat": 4,
 "nbformat_minor": 2
}
