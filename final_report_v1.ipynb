{
 "cells": [
  {
   "cell_type": "markdown",
   "metadata": {},
   "source": [
    "# Run-Pass Oracle (RPO)"
   ]
  },
  {
   "cell_type": "markdown",
   "metadata": {},
   "source": [
    "# Introduction\n",
    "\n",
    "This submission aims to build a better methodology for predicting, pre-snap, whether a team will pass the ball. To do this, we created the **Run-Pass Oracle** model, built on top of a LightGBM architecture. We managed to achieve performance that surpasses state-of-the-art literature, while still maintaining interpretability. \n",
    "\n",
    "Much of this performance is driven by feature engineering, including metrics to track pre-snap factors such as **Motion Intentionality**, **Defensive Congestion**, and **Contextualized Tempo**. These features heavily utilize the provided tracking data, and resultingly show a big boost over extant models, which produced accuracy in the low 70's that came with major qualifications. Perhaps most notably is Ben Baldwin's expected pass model (todo: link), which we incorporate into our model; however, as the graphic below demonstrates, this still results in a decent amount of noise:\n",
    "\n",
    "<div>\n",
    "<center><img src=\"image/pass_rate_thru_w7.png\" width=\"600\" height = \"400\"></center>\n",
    "</div>\n",
    "\n",
    "Baldwin's model is good for judging what a team will likely do given important context like down and distance, and also bakes a bit of context in using Vegas odds. However, it doesn't incorporate the rich tracking data utilized in our model, and also misses significantly on teams like the Chiefs and Bills, whose superstart QB's make them far more pass-happy than expected. By incorporating tracking data, as well as other contextual metrics, our model shows nearly a ten-percent boost over earlier literature in both a test and validation set, providing hope for generalizibility while still demonstrating immediate usefulness."
   ]
  },
  {
   "cell_type": "markdown",
   "metadata": {},
   "source": [
    "# I. Engineered Metrics & Other features"
   ]
  },
  {
   "cell_type": "markdown",
   "metadata": {},
   "source": [
    "### a) Feature overview\n",
    "\n",
    "Our model encompasses six features, many of which aggregate less-important features into more informative metrics:\n",
    "\n",
    "- **Situational Expected Pass Rate** draws [Ben Baldwin's pass rate model](https://opensourcefootball.com/posts/2020-09-28-nflfastr-ep-wp-and-cp-models/). While it is the dominant feature in our model, encompassing many other important features, it still is only at about 70% accuracy on its own, and fails to explicitly encompass tracking data & other player info.\n",
    "\n",
    "- **Motion Favorability**: The delta between number of players in motion post-lineset and the number of players who shifted. (TODO: Do we exclude RB2? Is that worth a small performance dent to snazz up the model?) While this seems fairly simple, it is by far the most informative approach we have found to incorporating motion into our model. (todo: display failed approaches?) This is because it is more important to know how many players are in motion (todo: break out a chart with multiple in motion vs. single vs. none?) vs. other stats like acceleration or distance covered. Similarly, since motion generally implies passing, and simple shifts imply runs, if both occur on the same play, then getting the delta between them concisely informs our prediction.\n",
    "\n",
    "- **neg_Formations** Captures which formations negatively impact pass rate. (TODO: cite which)\n",
    "\n",
    "\n",
    "- **TICK**, or more verbosely, **Tempo Including Contextual Knowledge**. This metric combines our **Tempo** metric with other contextual info, such as player weight at key positions, to understand how team personnel and play-calling tendencies combine to predict pass rates (TODO: Figure what exactly I put inside this)\n",
    "\n",
    "-  **Defensive Congestion**, i.e., the mean pairwise distance between players on defense, with more recent frames weighted more heavily. The clear benefit of this is that we can pick up nuanced info that coarser features, such as offensive formations (e.g., 2x2) and men-in-box counts, may miss.\n",
    "\n"
   ]
  },
  {
   "cell_type": "markdown",
   "metadata": {},
   "source": [
    "### b) Examining Formational Impact\n",
    "\n",
    "Our model heavily relies on the concept of \"negative formations\", i.e., formations that heavily favor runs. This feature is an important example of how necessary it is to encode concepts that, however obvious they may seem to humans, are still necessary to teach our models about. One of these formations is **I-Formation**, a heavier personnel grouping used almost exclusively for runs or play-action that is perhaps *the* stereotypical run formation. Similarly self-explanatory is **Pistol**, used to great effect by teams like the Ravens to take advantage of QB Lamar Jackson's running prowess. Less explicable is the **Single-back** formation's inclusion (TODO: Explain it)"
   ]
  },
  {
   "cell_type": "code",
   "execution_count": 5,
   "metadata": {},
   "outputs": [
    {
     "data": {
      "application/vnd.plotly.v1+json": {
       "config": {
        "plotlyServerURL": "https://plot.ly"
       },
       "data": [
        {
         "line": {
          "color": "#f47738",
          "dash": "dash"
         },
         "name": "Model Pass Odds",
         "type": "scatter",
         "visible": true,
         "x": [
          0
         ],
         "y": [
          0.356022463721941
         ]
        },
        {
         "line": {
          "color": "#1d70b8",
          "dash": "dash"
         },
         "name": "Neg. Formations",
         "type": "scatter",
         "visible": true,
         "x": [
          0
         ],
         "y": [
          0
         ]
        },
        {
         "line": {
          "color": "green",
          "width": 3
         },
         "mode": "lines",
         "name": "Neg. Formation Occurrence",
         "type": "scatter",
         "x": [
          0,
          0
         ],
         "y": [
          0,
          1
         ]
        },
        {
         "line": {
          "color": "green",
          "width": 3
         },
         "mode": "lines",
         "name": "2",
         "showlegend": false,
         "type": "scatter",
         "x": [
          0,
          0
         ],
         "y": [
          0,
          1
         ]
        },
        {
         "line": {
          "color": "green",
          "width": 3
         },
         "mode": "lines",
         "name": "3",
         "showlegend": false,
         "type": "scatter",
         "x": [
          0,
          0
         ],
         "y": [
          0,
          1
         ]
        },
        {
         "line": {
          "color": "green",
          "width": 3
         },
         "mode": "lines",
         "name": "4",
         "showlegend": false,
         "type": "scatter",
         "x": [
          0,
          0
         ],
         "y": [
          0,
          1
         ]
        },
        {
         "line": {
          "color": "green",
          "width": 3
         },
         "mode": "lines",
         "name": "5",
         "showlegend": false,
         "type": "scatter",
         "x": [
          0,
          0
         ],
         "y": [
          0,
          1
         ]
        },
        {
         "line": {
          "color": "green",
          "width": 3
         },
         "mode": "lines",
         "name": "6",
         "showlegend": false,
         "type": "scatter",
         "x": [
          0,
          0
         ],
         "y": [
          0,
          1
         ]
        }
       ],
       "frames": [
        {
         "data": [
          {
           "type": "scatter",
           "x": [],
           "y": [
            0.356022463721941
           ]
          },
          {
           "type": "scatter",
           "x": [],
           "y": [
            0
           ]
          }
         ]
        },
        {
         "data": [
          {
           "type": "scatter",
           "x": [
            1
           ],
           "y": [
            0.356022463721941,
            0.28334200641702634
           ]
          },
          {
           "type": "scatter",
           "x": [
            1
           ],
           "y": [
            0,
            1
           ]
          },
          {
           "line": {
            "color": "green",
            "width": 3
           },
           "mode": "lines",
           "name": "Neg. Formation Occurrence",
           "type": "scatter",
           "x": [
            2,
            2
           ],
           "y": [
            0,
            1
           ]
          }
         ]
        },
        {
         "data": [
          {
           "type": "scatter",
           "x": [
            1,
            2
           ],
           "y": [
            0.356022463721941,
            0.28334200641702634,
            0.930976080965971
           ]
          },
          {
           "type": "scatter",
           "x": [
            1,
            2
           ],
           "y": [
            0,
            1,
            0
           ]
          },
          {
           "line": {
            "color": "green",
            "width": 3
           },
           "mode": "lines",
           "name": "Neg. Formation Occurrence",
           "type": "scatter",
           "x": [
            2,
            2
           ],
           "y": [
            0,
            1
           ]
          }
         ]
        },
        {
         "data": [
          {
           "type": "scatter",
           "x": [
            1,
            2,
            3
           ],
           "y": [
            0.356022463721941,
            0.28334200641702634,
            0.930976080965971,
            0.8000242216346417
           ]
          },
          {
           "type": "scatter",
           "x": [
            1,
            2,
            3
           ],
           "y": [
            0,
            1,
            0,
            0
           ]
          },
          {
           "line": {
            "color": "green",
            "width": 3
           },
           "mode": "lines",
           "name": "Neg. Formation Occurrence",
           "type": "scatter",
           "x": [
            2,
            2
           ],
           "y": [
            0,
            1
           ]
          }
         ]
        },
        {
         "data": [
          {
           "type": "scatter",
           "x": [
            1,
            2,
            3,
            4
           ],
           "y": [
            0.356022463721941,
            0.28334200641702634,
            0.930976080965971,
            0.8000242216346417,
            0.36781368029790235
           ]
          },
          {
           "type": "scatter",
           "x": [
            1,
            2,
            3,
            4
           ],
           "y": [
            0,
            1,
            0,
            0,
            0
           ]
          },
          {
           "line": {
            "color": "green",
            "width": 3
           },
           "mode": "lines",
           "name": "Neg. Formation Occurrence",
           "type": "scatter",
           "x": [
            2,
            2
           ],
           "y": [
            0,
            1
           ]
          }
         ]
        },
        {
         "data": [
          {
           "type": "scatter",
           "x": [
            1,
            2,
            3,
            4,
            5
           ],
           "y": [
            0.356022463721941,
            0.28334200641702634,
            0.930976080965971,
            0.8000242216346417,
            0.36781368029790235,
            0.9281986375056935
           ]
          },
          {
           "type": "scatter",
           "x": [
            1,
            2,
            3,
            4,
            5
           ],
           "y": [
            0,
            1,
            0,
            0,
            0,
            0
           ]
          },
          {
           "line": {
            "color": "green",
            "width": 3
           },
           "mode": "lines",
           "name": "Neg. Formation Occurrence",
           "type": "scatter",
           "x": [
            2,
            2
           ],
           "y": [
            0,
            1
           ]
          }
         ]
        },
        {
         "data": [
          {
           "type": "scatter",
           "x": [
            1,
            2,
            3,
            4,
            5,
            6
           ],
           "y": [
            0.356022463721941,
            0.28334200641702634,
            0.930976080965971,
            0.8000242216346417,
            0.36781368029790235,
            0.9281986375056935,
            0.22422329758146725
           ]
          },
          {
           "type": "scatter",
           "x": [
            1,
            2,
            3,
            4,
            5,
            6
           ],
           "y": [
            0,
            1,
            0,
            0,
            0,
            0,
            1
           ]
          },
          {
           "line": {
            "color": "green",
            "width": 3
           },
           "mode": "lines",
           "name": "Neg. Formation Occurrence",
           "type": "scatter",
           "x": [
            2,
            2
           ],
           "y": [
            0,
            1
           ]
          },
          {
           "line": {
            "color": "green",
            "width": 3
           },
           "mode": "lines",
           "name": "2",
           "type": "scatter",
           "x": [
            7,
            7
           ],
           "y": [
            0,
            1
           ]
          }
         ]
        },
        {
         "data": [
          {
           "type": "scatter",
           "x": [
            1,
            2,
            3,
            4,
            5,
            6,
            7
           ],
           "y": [
            0.356022463721941,
            0.28334200641702634,
            0.930976080965971,
            0.8000242216346417,
            0.36781368029790235,
            0.9281986375056935,
            0.22422329758146725,
            0.617019132947885
           ]
          },
          {
           "type": "scatter",
           "x": [
            1,
            2,
            3,
            4,
            5,
            6,
            7
           ],
           "y": [
            0,
            1,
            0,
            0,
            0,
            0,
            1,
            0
           ]
          },
          {
           "line": {
            "color": "green",
            "width": 3
           },
           "mode": "lines",
           "name": "Neg. Formation Occurrence",
           "type": "scatter",
           "x": [
            2,
            2
           ],
           "y": [
            0,
            1
           ]
          },
          {
           "line": {
            "color": "green",
            "width": 3
           },
           "mode": "lines",
           "name": "2",
           "type": "scatter",
           "x": [
            7,
            7
           ],
           "y": [
            0,
            1
           ]
          }
         ]
        },
        {
         "data": [
          {
           "type": "scatter",
           "x": [
            1,
            2,
            3,
            4,
            5,
            6,
            7,
            8
           ],
           "y": [
            0.356022463721941,
            0.28334200641702634,
            0.930976080965971,
            0.8000242216346417,
            0.36781368029790235,
            0.9281986375056935,
            0.22422329758146725,
            0.617019132947885,
            0.24774647747526327
           ]
          },
          {
           "type": "scatter",
           "x": [
            1,
            2,
            3,
            4,
            5,
            6,
            7,
            8
           ],
           "y": [
            0,
            1,
            0,
            0,
            0,
            0,
            1,
            0,
            1
           ]
          },
          {
           "line": {
            "color": "green",
            "width": 3
           },
           "mode": "lines",
           "name": "Neg. Formation Occurrence",
           "type": "scatter",
           "x": [
            2,
            2
           ],
           "y": [
            0,
            1
           ]
          },
          {
           "line": {
            "color": "green",
            "width": 3
           },
           "mode": "lines",
           "name": "2",
           "type": "scatter",
           "x": [
            7,
            7
           ],
           "y": [
            0,
            1
           ]
          },
          {
           "line": {
            "color": "green",
            "width": 3
           },
           "mode": "lines",
           "name": "3",
           "type": "scatter",
           "x": [
            9,
            9
           ],
           "y": [
            0,
            1
           ]
          }
         ]
        },
        {
         "data": [
          {
           "type": "scatter",
           "x": [
            1,
            2,
            3,
            4,
            5,
            6,
            7,
            8,
            9
           ],
           "y": [
            0.356022463721941,
            0.28334200641702634,
            0.930976080965971,
            0.8000242216346417,
            0.36781368029790235,
            0.9281986375056935,
            0.22422329758146725,
            0.617019132947885,
            0.24774647747526327,
            0.7386018432694926
           ]
          },
          {
           "type": "scatter",
           "x": [
            1,
            2,
            3,
            4,
            5,
            6,
            7,
            8,
            9
           ],
           "y": [
            0,
            1,
            0,
            0,
            0,
            0,
            1,
            0,
            1,
            0
           ]
          },
          {
           "line": {
            "color": "green",
            "width": 3
           },
           "mode": "lines",
           "name": "Neg. Formation Occurrence",
           "type": "scatter",
           "x": [
            2,
            2
           ],
           "y": [
            0,
            1
           ]
          },
          {
           "line": {
            "color": "green",
            "width": 3
           },
           "mode": "lines",
           "name": "2",
           "type": "scatter",
           "x": [
            7,
            7
           ],
           "y": [
            0,
            1
           ]
          },
          {
           "line": {
            "color": "green",
            "width": 3
           },
           "mode": "lines",
           "name": "3",
           "type": "scatter",
           "x": [
            9,
            9
           ],
           "y": [
            0,
            1
           ]
          }
         ]
        },
        {
         "data": [
          {
           "type": "scatter",
           "x": [
            1,
            2,
            3,
            4,
            5,
            6,
            7,
            8,
            9,
            10
           ],
           "y": [
            0.356022463721941,
            0.28334200641702634,
            0.930976080965971,
            0.8000242216346417,
            0.36781368029790235,
            0.9281986375056935,
            0.22422329758146725,
            0.617019132947885,
            0.24774647747526327,
            0.7386018432694926,
            0.26510275911360065
           ]
          },
          {
           "type": "scatter",
           "x": [
            1,
            2,
            3,
            4,
            5,
            6,
            7,
            8,
            9,
            10
           ],
           "y": [
            0,
            1,
            0,
            0,
            0,
            0,
            1,
            0,
            1,
            0,
            1
           ]
          },
          {
           "line": {
            "color": "green",
            "width": 3
           },
           "mode": "lines",
           "name": "Neg. Formation Occurrence",
           "type": "scatter",
           "x": [
            2,
            2
           ],
           "y": [
            0,
            1
           ]
          },
          {
           "line": {
            "color": "green",
            "width": 3
           },
           "mode": "lines",
           "name": "2",
           "type": "scatter",
           "x": [
            7,
            7
           ],
           "y": [
            0,
            1
           ]
          },
          {
           "line": {
            "color": "green",
            "width": 3
           },
           "mode": "lines",
           "name": "3",
           "type": "scatter",
           "x": [
            9,
            9
           ],
           "y": [
            0,
            1
           ]
          },
          {
           "line": {
            "color": "green",
            "width": 3
           },
           "mode": "lines",
           "name": "4",
           "type": "scatter",
           "x": [
            11,
            11
           ],
           "y": [
            0,
            1
           ]
          }
         ]
        },
        {
         "data": [
          {
           "type": "scatter",
           "x": [
            1,
            2,
            3,
            4,
            5,
            6,
            7,
            8,
            9,
            10,
            11
           ],
           "y": [
            0.356022463721941,
            0.28334200641702634,
            0.930976080965971,
            0.8000242216346417,
            0.36781368029790235,
            0.9281986375056935,
            0.22422329758146725,
            0.617019132947885,
            0.24774647747526327,
            0.7386018432694926,
            0.26510275911360065,
            0.6865959671907924
           ]
          },
          {
           "type": "scatter",
           "x": [
            1,
            2,
            3,
            4,
            5,
            6,
            7,
            8,
            9,
            10,
            11
           ],
           "y": [
            0,
            1,
            0,
            0,
            0,
            0,
            1,
            0,
            1,
            0,
            1,
            0
           ]
          },
          {
           "line": {
            "color": "green",
            "width": 3
           },
           "mode": "lines",
           "name": "Neg. Formation Occurrence",
           "type": "scatter",
           "x": [
            2,
            2
           ],
           "y": [
            0,
            1
           ]
          },
          {
           "line": {
            "color": "green",
            "width": 3
           },
           "mode": "lines",
           "name": "2",
           "type": "scatter",
           "x": [
            7,
            7
           ],
           "y": [
            0,
            1
           ]
          },
          {
           "line": {
            "color": "green",
            "width": 3
           },
           "mode": "lines",
           "name": "3",
           "type": "scatter",
           "x": [
            9,
            9
           ],
           "y": [
            0,
            1
           ]
          },
          {
           "line": {
            "color": "green",
            "width": 3
           },
           "mode": "lines",
           "name": "4",
           "type": "scatter",
           "x": [
            11,
            11
           ],
           "y": [
            0,
            1
           ]
          }
         ]
        },
        {
         "data": [
          {
           "type": "scatter",
           "x": [
            1,
            2,
            3,
            4,
            5,
            6,
            7,
            8,
            9,
            10,
            11,
            12
           ],
           "y": [
            0.356022463721941,
            0.28334200641702634,
            0.930976080965971,
            0.8000242216346417,
            0.36781368029790235,
            0.9281986375056935,
            0.22422329758146725,
            0.617019132947885,
            0.24774647747526327,
            0.7386018432694926,
            0.26510275911360065,
            0.6865959671907924,
            0.8791270164917229
           ]
          },
          {
           "type": "scatter",
           "x": [
            1,
            2,
            3,
            4,
            5,
            6,
            7,
            8,
            9,
            10,
            11,
            12
           ],
           "y": [
            0,
            1,
            0,
            0,
            0,
            0,
            1,
            0,
            1,
            0,
            1,
            0,
            0
           ]
          },
          {
           "line": {
            "color": "green",
            "width": 3
           },
           "mode": "lines",
           "name": "Neg. Formation Occurrence",
           "type": "scatter",
           "x": [
            2,
            2
           ],
           "y": [
            0,
            1
           ]
          },
          {
           "line": {
            "color": "green",
            "width": 3
           },
           "mode": "lines",
           "name": "2",
           "type": "scatter",
           "x": [
            7,
            7
           ],
           "y": [
            0,
            1
           ]
          },
          {
           "line": {
            "color": "green",
            "width": 3
           },
           "mode": "lines",
           "name": "3",
           "type": "scatter",
           "x": [
            9,
            9
           ],
           "y": [
            0,
            1
           ]
          },
          {
           "line": {
            "color": "green",
            "width": 3
           },
           "mode": "lines",
           "name": "4",
           "type": "scatter",
           "x": [
            11,
            11
           ],
           "y": [
            0,
            1
           ]
          }
         ]
        },
        {
         "data": [
          {
           "type": "scatter",
           "x": [
            1,
            2,
            3,
            4,
            5,
            6,
            7,
            8,
            9,
            10,
            11,
            12,
            13
           ],
           "y": [
            0.356022463721941,
            0.28334200641702634,
            0.930976080965971,
            0.8000242216346417,
            0.36781368029790235,
            0.9281986375056935,
            0.22422329758146725,
            0.617019132947885,
            0.24774647747526327,
            0.7386018432694926,
            0.26510275911360065,
            0.6865959671907924,
            0.8791270164917229,
            0.2521520264814711
           ]
          },
          {
           "type": "scatter",
           "x": [
            1,
            2,
            3,
            4,
            5,
            6,
            7,
            8,
            9,
            10,
            11,
            12,
            13
           ],
           "y": [
            0,
            1,
            0,
            0,
            0,
            0,
            1,
            0,
            1,
            0,
            1,
            0,
            0,
            1
           ]
          },
          {
           "line": {
            "color": "green",
            "width": 3
           },
           "mode": "lines",
           "name": "Neg. Formation Occurrence",
           "type": "scatter",
           "x": [
            2,
            2
           ],
           "y": [
            0,
            1
           ]
          },
          {
           "line": {
            "color": "green",
            "width": 3
           },
           "mode": "lines",
           "name": "2",
           "type": "scatter",
           "x": [
            7,
            7
           ],
           "y": [
            0,
            1
           ]
          },
          {
           "line": {
            "color": "green",
            "width": 3
           },
           "mode": "lines",
           "name": "3",
           "type": "scatter",
           "x": [
            9,
            9
           ],
           "y": [
            0,
            1
           ]
          },
          {
           "line": {
            "color": "green",
            "width": 3
           },
           "mode": "lines",
           "name": "4",
           "type": "scatter",
           "x": [
            11,
            11
           ],
           "y": [
            0,
            1
           ]
          },
          {
           "line": {
            "color": "green",
            "width": 3
           },
           "mode": "lines",
           "name": "5",
           "type": "scatter",
           "x": [
            14,
            14
           ],
           "y": [
            0,
            1
           ]
          }
         ]
        },
        {
         "data": [
          {
           "type": "scatter",
           "x": [
            1,
            2,
            3,
            4,
            5,
            6,
            7,
            8,
            9,
            10,
            11,
            12,
            13,
            14
           ],
           "y": [
            0.356022463721941,
            0.28334200641702634,
            0.930976080965971,
            0.8000242216346417,
            0.36781368029790235,
            0.9281986375056935,
            0.22422329758146725,
            0.617019132947885,
            0.24774647747526327,
            0.7386018432694926,
            0.26510275911360065,
            0.6865959671907924,
            0.8791270164917229,
            0.2521520264814711,
            0.24706262412170046
           ]
          },
          {
           "type": "scatter",
           "x": [
            1,
            2,
            3,
            4,
            5,
            6,
            7,
            8,
            9,
            10,
            11,
            12,
            13,
            14
           ],
           "y": [
            0,
            1,
            0,
            0,
            0,
            0,
            1,
            0,
            1,
            0,
            1,
            0,
            0,
            1,
            1
           ]
          },
          {
           "line": {
            "color": "green",
            "width": 3
           },
           "mode": "lines",
           "name": "Neg. Formation Occurrence",
           "type": "scatter",
           "x": [
            2,
            2
           ],
           "y": [
            0,
            1
           ]
          },
          {
           "line": {
            "color": "green",
            "width": 3
           },
           "mode": "lines",
           "name": "2",
           "type": "scatter",
           "x": [
            7,
            7
           ],
           "y": [
            0,
            1
           ]
          },
          {
           "line": {
            "color": "green",
            "width": 3
           },
           "mode": "lines",
           "name": "3",
           "type": "scatter",
           "x": [
            9,
            9
           ],
           "y": [
            0,
            1
           ]
          },
          {
           "line": {
            "color": "green",
            "width": 3
           },
           "mode": "lines",
           "name": "4",
           "type": "scatter",
           "x": [
            11,
            11
           ],
           "y": [
            0,
            1
           ]
          },
          {
           "line": {
            "color": "green",
            "width": 3
           },
           "mode": "lines",
           "name": "5",
           "type": "scatter",
           "x": [
            14,
            14
           ],
           "y": [
            0,
            1
           ]
          },
          {
           "line": {
            "color": "green",
            "width": 3
           },
           "mode": "lines",
           "name": "6",
           "type": "scatter",
           "x": [
            15,
            15
           ],
           "y": [
            0,
            1
           ]
          }
         ]
        },
        {
         "data": [
          {
           "type": "scatter",
           "x": [
            1,
            2,
            3,
            4,
            5,
            6,
            7,
            8,
            9,
            10,
            11,
            12,
            13,
            14,
            15
           ],
           "y": [
            0.356022463721941,
            0.28334200641702634,
            0.930976080965971,
            0.8000242216346417,
            0.36781368029790235,
            0.9281986375056935,
            0.22422329758146725,
            0.617019132947885,
            0.24774647747526327,
            0.7386018432694926,
            0.26510275911360065,
            0.6865959671907924,
            0.8791270164917229,
            0.2521520264814711,
            0.24706262412170046,
            0.7751067652133257
           ]
          },
          {
           "type": "scatter",
           "x": [
            1,
            2,
            3,
            4,
            5,
            6,
            7,
            8,
            9,
            10,
            11,
            12,
            13,
            14,
            15
           ],
           "y": [
            0,
            1,
            0,
            0,
            0,
            0,
            1,
            0,
            1,
            0,
            1,
            0,
            0,
            1,
            1,
            0
           ]
          },
          {
           "line": {
            "color": "green",
            "width": 3
           },
           "mode": "lines",
           "name": "Neg. Formation Occurrence",
           "type": "scatter",
           "x": [
            2,
            2
           ],
           "y": [
            0,
            1
           ]
          },
          {
           "line": {
            "color": "green",
            "width": 3
           },
           "mode": "lines",
           "name": "2",
           "type": "scatter",
           "x": [
            7,
            7
           ],
           "y": [
            0,
            1
           ]
          },
          {
           "line": {
            "color": "green",
            "width": 3
           },
           "mode": "lines",
           "name": "3",
           "type": "scatter",
           "x": [
            9,
            9
           ],
           "y": [
            0,
            1
           ]
          },
          {
           "line": {
            "color": "green",
            "width": 3
           },
           "mode": "lines",
           "name": "4",
           "type": "scatter",
           "x": [
            11,
            11
           ],
           "y": [
            0,
            1
           ]
          },
          {
           "line": {
            "color": "green",
            "width": 3
           },
           "mode": "lines",
           "name": "5",
           "type": "scatter",
           "x": [
            14,
            14
           ],
           "y": [
            0,
            1
           ]
          },
          {
           "line": {
            "color": "green",
            "width": 3
           },
           "mode": "lines",
           "name": "6",
           "type": "scatter",
           "x": [
            15,
            15
           ],
           "y": [
            0,
            1
           ]
          }
         ]
        }
       ],
       "layout": {
        "font": {
         "family": "Arial",
         "size": 14
        },
        "hovermode": "x",
        "legend": {
         "orientation": "h",
         "title": {
          "text": ""
         },
         "x": 0,
         "y": 1.1
        },
        "paper_bgcolor": "rgba(0,0,0,0)",
        "plot_bgcolor": "rgba(0,0,0,0)",
        "showlegend": true,
        "template": {
         "data": {
          "bar": [
           {
            "error_x": {
             "color": "#2a3f5f"
            },
            "error_y": {
             "color": "#2a3f5f"
            },
            "marker": {
             "line": {
              "color": "#E5ECF6",
              "width": 0.5
             },
             "pattern": {
              "fillmode": "overlay",
              "size": 10,
              "solidity": 0.2
             }
            },
            "type": "bar"
           }
          ],
          "barpolar": [
           {
            "marker": {
             "line": {
              "color": "#E5ECF6",
              "width": 0.5
             },
             "pattern": {
              "fillmode": "overlay",
              "size": 10,
              "solidity": 0.2
             }
            },
            "type": "barpolar"
           }
          ],
          "carpet": [
           {
            "aaxis": {
             "endlinecolor": "#2a3f5f",
             "gridcolor": "white",
             "linecolor": "white",
             "minorgridcolor": "white",
             "startlinecolor": "#2a3f5f"
            },
            "baxis": {
             "endlinecolor": "#2a3f5f",
             "gridcolor": "white",
             "linecolor": "white",
             "minorgridcolor": "white",
             "startlinecolor": "#2a3f5f"
            },
            "type": "carpet"
           }
          ],
          "choropleth": [
           {
            "colorbar": {
             "outlinewidth": 0,
             "ticks": ""
            },
            "type": "choropleth"
           }
          ],
          "contour": [
           {
            "colorbar": {
             "outlinewidth": 0,
             "ticks": ""
            },
            "colorscale": [
             [
              0,
              "#0d0887"
             ],
             [
              0.1111111111111111,
              "#46039f"
             ],
             [
              0.2222222222222222,
              "#7201a8"
             ],
             [
              0.3333333333333333,
              "#9c179e"
             ],
             [
              0.4444444444444444,
              "#bd3786"
             ],
             [
              0.5555555555555556,
              "#d8576b"
             ],
             [
              0.6666666666666666,
              "#ed7953"
             ],
             [
              0.7777777777777778,
              "#fb9f3a"
             ],
             [
              0.8888888888888888,
              "#fdca26"
             ],
             [
              1,
              "#f0f921"
             ]
            ],
            "type": "contour"
           }
          ],
          "contourcarpet": [
           {
            "colorbar": {
             "outlinewidth": 0,
             "ticks": ""
            },
            "type": "contourcarpet"
           }
          ],
          "heatmap": [
           {
            "colorbar": {
             "outlinewidth": 0,
             "ticks": ""
            },
            "colorscale": [
             [
              0,
              "#0d0887"
             ],
             [
              0.1111111111111111,
              "#46039f"
             ],
             [
              0.2222222222222222,
              "#7201a8"
             ],
             [
              0.3333333333333333,
              "#9c179e"
             ],
             [
              0.4444444444444444,
              "#bd3786"
             ],
             [
              0.5555555555555556,
              "#d8576b"
             ],
             [
              0.6666666666666666,
              "#ed7953"
             ],
             [
              0.7777777777777778,
              "#fb9f3a"
             ],
             [
              0.8888888888888888,
              "#fdca26"
             ],
             [
              1,
              "#f0f921"
             ]
            ],
            "type": "heatmap"
           }
          ],
          "heatmapgl": [
           {
            "colorbar": {
             "outlinewidth": 0,
             "ticks": ""
            },
            "colorscale": [
             [
              0,
              "#0d0887"
             ],
             [
              0.1111111111111111,
              "#46039f"
             ],
             [
              0.2222222222222222,
              "#7201a8"
             ],
             [
              0.3333333333333333,
              "#9c179e"
             ],
             [
              0.4444444444444444,
              "#bd3786"
             ],
             [
              0.5555555555555556,
              "#d8576b"
             ],
             [
              0.6666666666666666,
              "#ed7953"
             ],
             [
              0.7777777777777778,
              "#fb9f3a"
             ],
             [
              0.8888888888888888,
              "#fdca26"
             ],
             [
              1,
              "#f0f921"
             ]
            ],
            "type": "heatmapgl"
           }
          ],
          "histogram": [
           {
            "marker": {
             "pattern": {
              "fillmode": "overlay",
              "size": 10,
              "solidity": 0.2
             }
            },
            "type": "histogram"
           }
          ],
          "histogram2d": [
           {
            "colorbar": {
             "outlinewidth": 0,
             "ticks": ""
            },
            "colorscale": [
             [
              0,
              "#0d0887"
             ],
             [
              0.1111111111111111,
              "#46039f"
             ],
             [
              0.2222222222222222,
              "#7201a8"
             ],
             [
              0.3333333333333333,
              "#9c179e"
             ],
             [
              0.4444444444444444,
              "#bd3786"
             ],
             [
              0.5555555555555556,
              "#d8576b"
             ],
             [
              0.6666666666666666,
              "#ed7953"
             ],
             [
              0.7777777777777778,
              "#fb9f3a"
             ],
             [
              0.8888888888888888,
              "#fdca26"
             ],
             [
              1,
              "#f0f921"
             ]
            ],
            "type": "histogram2d"
           }
          ],
          "histogram2dcontour": [
           {
            "colorbar": {
             "outlinewidth": 0,
             "ticks": ""
            },
            "colorscale": [
             [
              0,
              "#0d0887"
             ],
             [
              0.1111111111111111,
              "#46039f"
             ],
             [
              0.2222222222222222,
              "#7201a8"
             ],
             [
              0.3333333333333333,
              "#9c179e"
             ],
             [
              0.4444444444444444,
              "#bd3786"
             ],
             [
              0.5555555555555556,
              "#d8576b"
             ],
             [
              0.6666666666666666,
              "#ed7953"
             ],
             [
              0.7777777777777778,
              "#fb9f3a"
             ],
             [
              0.8888888888888888,
              "#fdca26"
             ],
             [
              1,
              "#f0f921"
             ]
            ],
            "type": "histogram2dcontour"
           }
          ],
          "mesh3d": [
           {
            "colorbar": {
             "outlinewidth": 0,
             "ticks": ""
            },
            "type": "mesh3d"
           }
          ],
          "parcoords": [
           {
            "line": {
             "colorbar": {
              "outlinewidth": 0,
              "ticks": ""
             }
            },
            "type": "parcoords"
           }
          ],
          "pie": [
           {
            "automargin": true,
            "type": "pie"
           }
          ],
          "scatter": [
           {
            "fillpattern": {
             "fillmode": "overlay",
             "size": 10,
             "solidity": 0.2
            },
            "type": "scatter"
           }
          ],
          "scatter3d": [
           {
            "line": {
             "colorbar": {
              "outlinewidth": 0,
              "ticks": ""
             }
            },
            "marker": {
             "colorbar": {
              "outlinewidth": 0,
              "ticks": ""
             }
            },
            "type": "scatter3d"
           }
          ],
          "scattercarpet": [
           {
            "marker": {
             "colorbar": {
              "outlinewidth": 0,
              "ticks": ""
             }
            },
            "type": "scattercarpet"
           }
          ],
          "scattergeo": [
           {
            "marker": {
             "colorbar": {
              "outlinewidth": 0,
              "ticks": ""
             }
            },
            "type": "scattergeo"
           }
          ],
          "scattergl": [
           {
            "marker": {
             "colorbar": {
              "outlinewidth": 0,
              "ticks": ""
             }
            },
            "type": "scattergl"
           }
          ],
          "scattermapbox": [
           {
            "marker": {
             "colorbar": {
              "outlinewidth": 0,
              "ticks": ""
             }
            },
            "type": "scattermapbox"
           }
          ],
          "scatterpolar": [
           {
            "marker": {
             "colorbar": {
              "outlinewidth": 0,
              "ticks": ""
             }
            },
            "type": "scatterpolar"
           }
          ],
          "scatterpolargl": [
           {
            "marker": {
             "colorbar": {
              "outlinewidth": 0,
              "ticks": ""
             }
            },
            "type": "scatterpolargl"
           }
          ],
          "scatterternary": [
           {
            "marker": {
             "colorbar": {
              "outlinewidth": 0,
              "ticks": ""
             }
            },
            "type": "scatterternary"
           }
          ],
          "surface": [
           {
            "colorbar": {
             "outlinewidth": 0,
             "ticks": ""
            },
            "colorscale": [
             [
              0,
              "#0d0887"
             ],
             [
              0.1111111111111111,
              "#46039f"
             ],
             [
              0.2222222222222222,
              "#7201a8"
             ],
             [
              0.3333333333333333,
              "#9c179e"
             ],
             [
              0.4444444444444444,
              "#bd3786"
             ],
             [
              0.5555555555555556,
              "#d8576b"
             ],
             [
              0.6666666666666666,
              "#ed7953"
             ],
             [
              0.7777777777777778,
              "#fb9f3a"
             ],
             [
              0.8888888888888888,
              "#fdca26"
             ],
             [
              1,
              "#f0f921"
             ]
            ],
            "type": "surface"
           }
          ],
          "table": [
           {
            "cells": {
             "fill": {
              "color": "#EBF0F8"
             },
             "line": {
              "color": "white"
             }
            },
            "header": {
             "fill": {
              "color": "#C8D4E3"
             },
             "line": {
              "color": "white"
             }
            },
            "type": "table"
           }
          ]
         },
         "layout": {
          "annotationdefaults": {
           "arrowcolor": "#2a3f5f",
           "arrowhead": 0,
           "arrowwidth": 1
          },
          "autotypenumbers": "strict",
          "coloraxis": {
           "colorbar": {
            "outlinewidth": 0,
            "ticks": ""
           }
          },
          "colorscale": {
           "diverging": [
            [
             0,
             "#8e0152"
            ],
            [
             0.1,
             "#c51b7d"
            ],
            [
             0.2,
             "#de77ae"
            ],
            [
             0.3,
             "#f1b6da"
            ],
            [
             0.4,
             "#fde0ef"
            ],
            [
             0.5,
             "#f7f7f7"
            ],
            [
             0.6,
             "#e6f5d0"
            ],
            [
             0.7,
             "#b8e186"
            ],
            [
             0.8,
             "#7fbc41"
            ],
            [
             0.9,
             "#4d9221"
            ],
            [
             1,
             "#276419"
            ]
           ],
           "sequential": [
            [
             0,
             "#0d0887"
            ],
            [
             0.1111111111111111,
             "#46039f"
            ],
            [
             0.2222222222222222,
             "#7201a8"
            ],
            [
             0.3333333333333333,
             "#9c179e"
            ],
            [
             0.4444444444444444,
             "#bd3786"
            ],
            [
             0.5555555555555556,
             "#d8576b"
            ],
            [
             0.6666666666666666,
             "#ed7953"
            ],
            [
             0.7777777777777778,
             "#fb9f3a"
            ],
            [
             0.8888888888888888,
             "#fdca26"
            ],
            [
             1,
             "#f0f921"
            ]
           ],
           "sequentialminus": [
            [
             0,
             "#0d0887"
            ],
            [
             0.1111111111111111,
             "#46039f"
            ],
            [
             0.2222222222222222,
             "#7201a8"
            ],
            [
             0.3333333333333333,
             "#9c179e"
            ],
            [
             0.4444444444444444,
             "#bd3786"
            ],
            [
             0.5555555555555556,
             "#d8576b"
            ],
            [
             0.6666666666666666,
             "#ed7953"
            ],
            [
             0.7777777777777778,
             "#fb9f3a"
            ],
            [
             0.8888888888888888,
             "#fdca26"
            ],
            [
             1,
             "#f0f921"
            ]
           ]
          },
          "colorway": [
           "#636efa",
           "#EF553B",
           "#00cc96",
           "#ab63fa",
           "#FFA15A",
           "#19d3f3",
           "#FF6692",
           "#B6E880",
           "#FF97FF",
           "#FECB52"
          ],
          "font": {
           "color": "#2a3f5f"
          },
          "geo": {
           "bgcolor": "white",
           "lakecolor": "white",
           "landcolor": "#E5ECF6",
           "showlakes": true,
           "showland": true,
           "subunitcolor": "white"
          },
          "hoverlabel": {
           "align": "left"
          },
          "hovermode": "closest",
          "mapbox": {
           "style": "light"
          },
          "paper_bgcolor": "white",
          "plot_bgcolor": "#E5ECF6",
          "polar": {
           "angularaxis": {
            "gridcolor": "white",
            "linecolor": "white",
            "ticks": ""
           },
           "bgcolor": "#E5ECF6",
           "radialaxis": {
            "gridcolor": "white",
            "linecolor": "white",
            "ticks": ""
           }
          },
          "scene": {
           "xaxis": {
            "backgroundcolor": "#E5ECF6",
            "gridcolor": "white",
            "gridwidth": 2,
            "linecolor": "white",
            "showbackground": true,
            "ticks": "",
            "zerolinecolor": "white"
           },
           "yaxis": {
            "backgroundcolor": "#E5ECF6",
            "gridcolor": "white",
            "gridwidth": 2,
            "linecolor": "white",
            "showbackground": true,
            "ticks": "",
            "zerolinecolor": "white"
           },
           "zaxis": {
            "backgroundcolor": "#E5ECF6",
            "gridcolor": "white",
            "gridwidth": 2,
            "linecolor": "white",
            "showbackground": true,
            "ticks": "",
            "zerolinecolor": "white"
           }
          },
          "shapedefaults": {
           "line": {
            "color": "#2a3f5f"
           }
          },
          "ternary": {
           "aaxis": {
            "gridcolor": "white",
            "linecolor": "white",
            "ticks": ""
           },
           "baxis": {
            "gridcolor": "white",
            "linecolor": "white",
            "ticks": ""
           },
           "bgcolor": "#E5ECF6",
           "caxis": {
            "gridcolor": "white",
            "linecolor": "white",
            "ticks": ""
           }
          },
          "title": {
           "x": 0.05
          },
          "xaxis": {
           "automargin": true,
           "gridcolor": "white",
           "linecolor": "white",
           "ticks": "",
           "title": {
            "standoff": 15
           },
           "zerolinecolor": "white",
           "zerolinewidth": 2
          },
          "yaxis": {
           "automargin": true,
           "gridcolor": "white",
           "linecolor": "white",
           "ticks": "",
           "title": {
            "standoff": 15
           },
           "zerolinecolor": "white",
           "zerolinewidth": 2
          }
         }
        },
        "title": {
         "text": "Negatively Correlated Formations Impact"
        },
        "updatemenus": [
         {
          "buttons": [
           {
            "args": [
             null,
             {
              "frame": {
               "duration": 500
              }
             }
            ],
            "label": "Play",
            "method": "animate"
           },
           {
            "args": [
             {
              "visible": [
               false,
               true
              ]
             },
             {
              "showlegend": true
             }
            ],
            "label": "Model Pass Odds",
            "method": "update"
           },
           {
            "args": [
             {
              "visible": [
               true,
               false
              ]
             },
             {
              "showlegend": true
             }
            ],
            "label": "Neg. Formations",
            "method": "update"
           }
          ],
          "direction": "right",
          "type": "buttons",
          "x": 0.9,
          "y": 1.26
         }
        ],
        "xaxis": {
         "autorange": false,
         "range": [
          0,
          17
         ],
         "tickcolor": "white",
         "ticklen": 10,
         "ticks": "outside",
         "tickwidth": 2,
         "title": {
          "text": "Drive Play #"
         }
        },
        "yaxis": {
         "autorange": false,
         "range": [
          0,
          1
         ],
         "tickcolor": "white",
         "tickformat": ",",
         "ticklen": 1,
         "ticks": "outside",
         "tickwidth": 2,
         "title": {
          "text": "Pass Probability"
         }
        }
       }
      }
     },
     "metadata": {},
     "output_type": "display_data"
    }
   ],
   "source": [
    "import plotly\n",
    "plotly.io.read_json('image/cincy_drive.json')"
   ]
  },
  {
   "cell_type": "markdown",
   "metadata": {},
   "source": [
    "The above graph shows just how impactful these 'negative' formations are in depressing our expected pass rate. This is an example from a **Cincinnati Bengals** drive (todo: cite which week?), one of the most pass-happy teams over the course of the 2022 season at an average 62% pass rate. Our model thinks that, given all the other information we provide it, most of the Bengals are more likely to pass than not on almost all the plays of the drive.\n",
    "\n",
    "This of course tracks with the common understanding that Bengals QB Joe Burrow strongly prefers to pass from Shotgun, perhaps implying a departure from this could significantly depress the expected pass rate. Yet the extent to which knowing a formation is negatively related to passing depresses our expected pass rate is remarkable, and clearly informative."
   ]
  },
  {
   "cell_type": "markdown",
   "metadata": {},
   "source": [
    "#### TODO: maybe find a way to line up what actually happened here? find a way to cleanly present as a series of dots or something what actually happened vis a vis run pass?"
   ]
  },
  {
   "cell_type": "markdown",
   "metadata": {},
   "source": [
    "### TODO: find something to showcase here; maybe see if we can find a real clip of multiple players in motion (while only one shifts) from '22"
   ]
  },
  {
   "cell_type": "code",
   "execution_count": null,
   "metadata": {},
   "outputs": [],
   "source": []
  },
  {
   "cell_type": "markdown",
   "metadata": {},
   "source": [
    "# 1. Model"
   ]
  },
  {
   "cell_type": "markdown",
   "metadata": {},
   "source": [
    "Our model is comprised of the following features, including the aformentioned ones:\n",
    "\n",
    "\n",
    "\n",
    "Their Shapley importances are below:"
   ]
  },
  {
   "cell_type": "markdown",
   "metadata": {},
   "source": []
  },
  {
   "cell_type": "markdown",
   "metadata": {},
   "source": []
  },
  {
   "attachments": {
    "image-5.png": {
     "image/png": "[encoded data removed]"
    }
   },
   "cell_type": "markdown",
   "metadata": {},
   "source": [
    "## a) Model design\n",
    "\n",
    "Our model itself was a LightGBM model, with a maximum depth of 5 as to prevent overfitting. For the 9 weeks of tracking data provided, we trained from weeks 3-7, using week 8 as a validation set, then week 8 as test proper. This was for a couple of reasons:\n",
    "- Validation benefits blah blah\n",
    "- Test benefits blah blah\n",
    "\n",
    "Note how val accuracy helped us show if incremental gain in test is really worth it, maybe mention how final results actually better than what we present idk\n",
    "\n",
    "### TODO: show a tree here? later?\n",
    "\n",
    "![image-5.png](attachment:image-5.png)\n",
    "\n"
   ]
  },
  {
   "cell_type": "markdown",
   "metadata": {},
   "source": [
    "## b) Model performance\n",
    "\n",
    "Our model beats most play-level benchmarks (TODO: cite literature) in the public literature for play-level pass prediction. The model we present is, in our opinion, the best blend of interpretability and generalization we've achieved. \n",
    "\n",
    "TODO: incorporate validation performance maybe? Does that undermine, or bolster, our case? Try and juice Test performance?\n",
    "\n",
    "Our model shows a slight bias toward predicting passes; however, this is to be expected, since the general tendency is for teams to pass more frequently. Notably, its misses are essentially equal between events that were runs and passes, suggesting a decent generalizibility.\n",
    "\n",
    "<img src=\"image/performance_example.png\" width=\"750\" align=\"center\">"
   ]
  },
  {
   "cell_type": "markdown",
   "metadata": {},
   "source": [
    "b) # Real-time feature impact\n",
    "\n",
    "Because we use exponential means w/moving windows blah blah blah, we can actually show the impact of a stat changing the impact of our model in real-time. Below is the effect of defensive congestion on real-time pass odds:"
   ]
  },
  {
   "cell_type": "markdown",
   "metadata": {},
   "source": [
    "<img src=\"image/comb.gif\" width=\"750\" align=\"center\">"
   ]
  }
 ],
 "metadata": {
  "kernelspec": {
   "display_name": ".venv",
   "language": "python",
   "name": "python3"
  },
  "language_info": {
   "codemirror_mode": {
    "name": "ipython",
    "version": 3
   },
   "file_extension": ".py",
   "mimetype": "text/x-python",
   "name": "python",
   "nbconvert_exporter": "python",
   "pygments_lexer": "ipython3",
   "version": "3.9.15"
  }
 },
 "nbformat": 4,
 "nbformat_minor": 2
}
