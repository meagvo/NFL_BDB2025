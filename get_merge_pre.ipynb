{
 "cells": [
  {
   "cell_type": "code",
   "execution_count": 1,
   "metadata": {},
   "outputs": [],
   "source": [
    "import pandas as pd\n",
    "import os\n",
    "from data_cleaning import normalize_tracking, feature_engineering,get_position_count,label_run_or_pass\n",
    "from data_loading import load_tracking_data, pivot_data,load_previous_year_data, load_stadium_data, load_weather_data, aggregate_data\n",
    "root_dir = os.getcwd()\n",
    "\n",
    "games_fname= os.path.join(root_dir, \"data/games.csv\")\n",
    "plays_fname = os.path.join(root_dir,  \"data/plays.csv\")\n",
    "players_fname = os.path.join(root_dir,  \"data/players.csv\")\n",
    "player_plays_fname = os.path.join(root_dir,  \"data/player_play.csv\")\n",
    "tracking_fname_list_train = [os.path.join(root_dir,  f\"data/tracking_week_{i}.csv\") for i in range(1,9)]"
   ]
  },
  {
   "cell_type": "markdown",
   "metadata": {},
   "source": [
    "## Load merged data preprocessing for our '21 data incorporation"
   ]
  },
  {
   "cell_type": "code",
   "execution_count": 13,
   "metadata": {},
   "outputs": [
    {
     "name": "stdout",
     "output_type": "stream",
     "text": [
      "2022 done.\n",
      "Downcasting floats.\n"
     ]
    }
   ],
   "source": [
    "df_games=pd.read_csv(games_fname)\n",
    "df_games=pd.merge(df_games, load_stadium_data(),left_on='gameId', right_on='old_game_id', how='left')\n",
    "df_games=pd.merge(df_games, load_weather_data(),on='gameId', how='left')\n",
    "\n",
    "df_plays = feature_engineering(pd.read_csv(plays_fname))"
   ]
  },
  {
   "cell_type": "code",
   "execution_count": null,
   "metadata": {},
   "outputs": [],
   "source": [
    "df_tracking = pd.concat(\n",
    "        [load_tracking_data(tracking_fname) for tracking_fname in tracking_fname_list_train]\n",
    "    )\n",
    "df_tracking=df_tracking[['gameId', 'playId', 'nflId','club' ,'o_standard', 'dir_standard', 'x_standard', 'y_standard', 's', 'a', 'dis']].groupby(['gameId', 'playId', 'nflId','club']).agg({'s':[ 'max',],'a':[ 'max'], \n",
    "    'o_standard':['mean', 'std'],'dis':['sum'],'dir_standard':['mean', 'std'], 'x_standard':['mean', 'std'], 'y_standard':['mean', 'std']}).reset_index()\n",
    "df_tracking.columns=df_tracking.columns.map('|'.join).str.strip('|')\n",
    "df_players = pd.read_csv(players_fname)\n",
    "df_player_plays=pd.read_csv(player_plays_fname)\n",
    "df_player_plays=pd.merge(df_player_plays, load_previous_year_data(2021), left_on='teamAbbr', right_on='team_abbr', how='outer')\n",
    "    # aggregate plays, tracking, players tables\n",
    "df_agg1=pd.merge(pd.merge(df_tracking, df_plays, left_on=[ 'gameId', 'playId','club'], right_on=[ 'gameId', 'playId', 'possessionTeam'], how='inner'), df_player_plays, left_on=[ 'gameId', 'playId', 'nflId'], right_on=[ 'gameId', 'playId', 'nflId'], how='left' )\n",
    "df_agg2=pd.merge(df_agg1, df_games, on='gameId', how='inner')\n",
    "df_final=pivot_data(label_run_or_pass(get_position_count(pd.merge(df_agg2, df_players, on='nflId', how='inner'))))\n",
    "merged_id_df = df_final[['gameId','playId']].drop_duplicates()"
   ]
  },
  {
   "cell_type": "code",
   "execution_count": 4,
   "metadata": {},
   "outputs": [],
   "source": [
    "#merged_id_df.to_csv('data/merged_ids.csv',index=False)"
   ]
  },
  {
   "cell_type": "markdown",
   "metadata": {},
   "source": [
    "# Inspect normal output of aggregate_data\n",
    "\n",
    "We follow from 'merged_id_df' just to see what our column order should be:"
   ]
  },
  {
   "cell_type": "code",
   "execution_count": 7,
   "metadata": {},
   "outputs": [],
   "source": [
    "merged_id_df = pd.read_csv('data/merged_ids.csv')"
   ]
  },
  {
   "cell_type": "code",
   "execution_count": 9,
   "metadata": {},
   "outputs": [],
   "source": [
    "from data_loading import load_ftn"
   ]
  },
  {
   "cell_type": "code",
   "execution_count": 10,
   "metadata": {},
   "outputs": [],
   "source": [
    "%%capture\n",
    "ftn_merged = load_ftn()"
   ]
  },
  {
   "cell_type": "code",
   "execution_count": 11,
   "metadata": {},
   "outputs": [],
   "source": [
    "xp_fname = os.path.join(root_dir, \"data/team_xpass_ratios.csv\")\n",
    "pr_fname = os.path.join(root_dir, \"data/team_pass_rates.csv\")\n",
    "cf_fname = os.path.join(root_dir, \"data/coverages_faced.csv\")\n",
    "cu_fname = os.path.join(root_dir, 'data/coverages_used.csv')\n",
    "inj_fname = os.path.join(root_dir, 'data/snaps_lost_injury.csv')"
   ]
  },
  {
   "cell_type": "code",
   "execution_count": 14,
   "metadata": {},
   "outputs": [
    {
     "name": "stdout",
     "output_type": "stream",
     "text": [
      "2022 done.\n",
      "Downcasting floats.\n",
      "Downcasting floats.\n"
     ]
    },
    {
     "name": "stderr",
     "output_type": "stream",
     "text": [
      "/Users/ccollins/Projects/NFL_BDB2025/data_loading.py:36: SettingWithCopyWarning: \n",
      "A value is trying to be set on a copy of a slice from a DataFrame.\n",
      "Try using .loc[row_indexer,col_indexer] = value instead\n",
      "\n",
      "See the caveats in the documentation: https://pandas.pydata.org/pandas-docs/stable/user_guide/indexing.html#returning-a-view-versus-a-copy\n",
      "  pbp_ids['play_id'] = pbp_ids['play_id'].astype(int)\n",
      "/Users/ccollins/Projects/NFL_BDB2025/data_loading.py:38: SettingWithCopyWarning: \n",
      "A value is trying to be set on a copy of a slice from a DataFrame.\n",
      "Try using .loc[row_indexer,col_indexer] = value instead\n",
      "\n",
      "See the caveats in the documentation: https://pandas.pydata.org/pandas-docs/stable/user_guide/indexing.html#returning-a-view-versus-a-copy\n",
      "  pbp_ids['game_id'] = pbp_ids['game_id'].astype(str)\n"
     ]
    }
   ],
   "source": [
    "ftn_merged=load_ftn()\n",
    "xp_df = pd.read_csv(xp_fname).drop(columns='Unnamed: 0')\n",
    "pr_df = pd.read_csv(pr_fname).drop(columns='Unnamed: 0')\n",
    "merged_base = merged_id_df.merge(ftn_merged,how='left',on=['gameId','playId'])\n",
    "merged_base = merged_base.merge(pr_df,how='left',on=['gameId','playId'])\n",
    "merged_base = merged_base.merge(xp_df,how='left',on=['gameId','playId'])\n",
    "merged_base = merged_base.merge(df_games[['gameId','week']].drop_duplicates(),how='left',on=['gameId'])\n",
    "merged_base = merged_base.merge(df_plays[['gameId','playId',\n",
    "                                          'possessionTeam','defensiveTeam']].drop_duplicates(),\n",
    "                                how='left',on=['gameId','playId'])\n",
    "cf_df = pd.read_csv(cf_fname)\n",
    "cu_df = pd.read_csv(cu_fname)\n",
    "merged_base = merged_base.merge(cf_df,how='left',on=['possessionTeam','week'])\n",
    "merged_base = merged_base.merge(cu_df,how='left',on=['defensiveTeam','week'])\n",
    "\n",
    "inj_df = pd.read_csv(inj_fname)\n",
    "merged_base = merged_base.merge(inj_df.drop(columns=['def_snaps_lost']),how='left',\n",
    "                   left_on=['possessionTeam','week'], right_on=['club_code','week']).drop(columns=['club_code'])\n",
    "merged_base = merged_base.merge(inj_df.drop(columns=['off_snaps_lost']),how='left',\n",
    "                   left_on=['defensiveTeam','week'], right_on=['club_code','week']).drop(columns=['club_code'])\n",
    "\n",
    "    "
   ]
  },
  {
   "cell_type": "code",
   "execution_count": 16,
   "metadata": {},
   "outputs": [
    {
     "data": {
      "text/plain": [
       "Index(['gameId', 'playId', 'n_offense_backfield', 'n_defense_box',\n",
       "       'is_no_huddle', 'is_motion', 'pass_rate_off', 'pass_rate_def',\n",
       "       'off_xpass', 'def_xpass', 'week', 'possessionTeam', 'defensiveTeam',\n",
       "       'cover_3_off', 'cover_6_off', 'cover_1_off', 'Quarters_off',\n",
       "       'Cover-2_off', 'Cover-0_off', 'Man_off', 'Other_off', 'Zone_off',\n",
       "       'cover_3_def', 'cover_6_def', 'cover_1_def', 'Quarters_def',\n",
       "       'Cover-2_def', 'Cover-0_def', 'Man_def', 'Other_def', 'Zone_def',\n",
       "       'off_snaps_lost', 'def_snaps_lost'],\n",
       "      dtype='object')"
      ]
     },
     "execution_count": 16,
     "metadata": {},
     "output_type": "execute_result"
    }
   ],
   "source": [
    "merged_base.columns"
   ]
  },
  {
   "cell_type": "code",
   "execution_count": 17,
   "metadata": {},
   "outputs": [
    {
     "data": {
      "text/html": [
       "<div>\n",
       "<style scoped>\n",
       "    .dataframe tbody tr th:only-of-type {\n",
       "        vertical-align: middle;\n",
       "    }\n",
       "\n",
       "    .dataframe tbody tr th {\n",
       "        vertical-align: top;\n",
       "    }\n",
       "\n",
       "    .dataframe thead th {\n",
       "        text-align: right;\n",
       "    }\n",
       "</style>\n",
       "<table border=\"1\" class=\"dataframe\">\n",
       "  <thead>\n",
       "    <tr style=\"text-align: right;\">\n",
       "      <th></th>\n",
       "      <th>gameId</th>\n",
       "      <th>playId</th>\n",
       "      <th>n_offense_backfield</th>\n",
       "      <th>n_defense_box</th>\n",
       "      <th>is_no_huddle</th>\n",
       "      <th>is_motion</th>\n",
       "      <th>pass_rate_off</th>\n",
       "      <th>pass_rate_def</th>\n",
       "      <th>off_xpass</th>\n",
       "      <th>def_xpass</th>\n",
       "      <th>...</th>\n",
       "      <th>cover_6_def</th>\n",
       "      <th>cover_1_def</th>\n",
       "      <th>Quarters_def</th>\n",
       "      <th>Cover-2_def</th>\n",
       "      <th>Cover-0_def</th>\n",
       "      <th>Man_def</th>\n",
       "      <th>Other_def</th>\n",
       "      <th>Zone_def</th>\n",
       "      <th>off_snaps_lost</th>\n",
       "      <th>def_snaps_lost</th>\n",
       "    </tr>\n",
       "  </thead>\n",
       "  <tbody>\n",
       "    <tr>\n",
       "      <th>0</th>\n",
       "      <td>2022090800</td>\n",
       "      <td>56</td>\n",
       "      <td>1.0</td>\n",
       "      <td>6.0</td>\n",
       "      <td>False</td>\n",
       "      <td>False</td>\n",
       "      <td>NaN</td>\n",
       "      <td>NaN</td>\n",
       "      <td>0.58</td>\n",
       "      <td>0.58</td>\n",
       "      <td>...</td>\n",
       "      <td>NaN</td>\n",
       "      <td>NaN</td>\n",
       "      <td>NaN</td>\n",
       "      <td>NaN</td>\n",
       "      <td>NaN</td>\n",
       "      <td>NaN</td>\n",
       "      <td>NaN</td>\n",
       "      <td>NaN</td>\n",
       "      <td>NaN</td>\n",
       "      <td>NaN</td>\n",
       "    </tr>\n",
       "    <tr>\n",
       "      <th>1</th>\n",
       "      <td>2022090800</td>\n",
       "      <td>80</td>\n",
       "      <td>1.0</td>\n",
       "      <td>6.0</td>\n",
       "      <td>True</td>\n",
       "      <td>True</td>\n",
       "      <td>NaN</td>\n",
       "      <td>NaN</td>\n",
       "      <td>0.58</td>\n",
       "      <td>0.58</td>\n",
       "      <td>...</td>\n",
       "      <td>NaN</td>\n",
       "      <td>NaN</td>\n",
       "      <td>NaN</td>\n",
       "      <td>NaN</td>\n",
       "      <td>NaN</td>\n",
       "      <td>NaN</td>\n",
       "      <td>NaN</td>\n",
       "      <td>NaN</td>\n",
       "      <td>NaN</td>\n",
       "      <td>NaN</td>\n",
       "    </tr>\n",
       "    <tr>\n",
       "      <th>2</th>\n",
       "      <td>2022090800</td>\n",
       "      <td>101</td>\n",
       "      <td>1.0</td>\n",
       "      <td>7.0</td>\n",
       "      <td>False</td>\n",
       "      <td>True</td>\n",
       "      <td>NaN</td>\n",
       "      <td>NaN</td>\n",
       "      <td>0.58</td>\n",
       "      <td>0.58</td>\n",
       "      <td>...</td>\n",
       "      <td>NaN</td>\n",
       "      <td>NaN</td>\n",
       "      <td>NaN</td>\n",
       "      <td>NaN</td>\n",
       "      <td>NaN</td>\n",
       "      <td>NaN</td>\n",
       "      <td>NaN</td>\n",
       "      <td>NaN</td>\n",
       "      <td>NaN</td>\n",
       "      <td>NaN</td>\n",
       "    </tr>\n",
       "  </tbody>\n",
       "</table>\n",
       "<p>3 rows × 33 columns</p>\n",
       "</div>"
      ],
      "text/plain": [
       "       gameId  playId  n_offense_backfield  n_defense_box is_no_huddle  \\\n",
       "0  2022090800      56                  1.0            6.0        False   \n",
       "1  2022090800      80                  1.0            6.0         True   \n",
       "2  2022090800     101                  1.0            7.0        False   \n",
       "\n",
       "  is_motion  pass_rate_off  pass_rate_def  off_xpass  def_xpass  ...  \\\n",
       "0     False            NaN            NaN       0.58       0.58  ...   \n",
       "1      True            NaN            NaN       0.58       0.58  ...   \n",
       "2      True            NaN            NaN       0.58       0.58  ...   \n",
       "\n",
       "   cover_6_def cover_1_def Quarters_def  Cover-2_def  Cover-0_def  Man_def  \\\n",
       "0          NaN         NaN          NaN          NaN          NaN      NaN   \n",
       "1          NaN         NaN          NaN          NaN          NaN      NaN   \n",
       "2          NaN         NaN          NaN          NaN          NaN      NaN   \n",
       "\n",
       "   Other_def  Zone_def  off_snaps_lost  def_snaps_lost  \n",
       "0        NaN       NaN             NaN             NaN  \n",
       "1        NaN       NaN             NaN             NaN  \n",
       "2        NaN       NaN             NaN             NaN  \n",
       "\n",
       "[3 rows x 33 columns]"
      ]
     },
     "execution_count": 17,
     "metadata": {},
     "output_type": "execute_result"
    }
   ],
   "source": [
    "merged_base.head(3)"
   ]
  },
  {
   "cell_type": "code",
   "execution_count": 18,
   "metadata": {},
   "outputs": [
    {
     "data": {
      "text/plain": [
       "array([1, 2, 3, 4, 5, 6, 7, 8])"
      ]
     },
     "execution_count": 18,
     "metadata": {},
     "output_type": "execute_result"
    }
   ],
   "source": [
    "merged_base['week'].unique()"
   ]
  },
  {
   "cell_type": "code",
   "execution_count": null,
   "metadata": {},
   "outputs": [],
   "source": []
  }
 ],
 "metadata": {
  "kernelspec": {
   "display_name": ".venv",
   "language": "python",
   "name": "python3"
  },
  "language_info": {
   "codemirror_mode": {
    "name": "ipython",
    "version": 3
   },
   "file_extension": ".py",
   "mimetype": "text/x-python",
   "name": "python",
   "nbconvert_exporter": "python",
   "pygments_lexer": "ipython3",
   "version": "3.9.15"
  }
 },
 "nbformat": 4,
 "nbformat_minor": 2
}
