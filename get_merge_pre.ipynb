{
 "cells": [
  {
   "cell_type": "code",
   "execution_count": 1,
   "metadata": {},
   "outputs": [],
   "source": [
    "import pandas as pd\n",
    "import os\n",
    "from data_cleaning import normalize_tracking, feature_engineering,get_position_count,label_run_or_pass\n",
    "from data_loading import load_tracking_data, pivot_data,load_previous_year_data, load_stadium_data, load_weather_data\n",
    "root_dir = os.getcwd()\n",
    "\n",
    "games_fname= os.path.join(root_dir, \"data/games.csv\")\n",
    "plays_fname = os.path.join(root_dir,  \"data/plays.csv\")\n",
    "players_fname = os.path.join(root_dir,  \"data/players.csv\")\n",
    "player_plays_fname = os.path.join(root_dir,  \"data/player_play.csv\")\n",
    "tracking_fname_list_train = [os.path.join(root_dir,  f\"data/tracking_week_{i}.csv\") for i in range(1,9)]"
   ]
  },
  {
   "cell_type": "code",
   "execution_count": 2,
   "metadata": {},
   "outputs": [
    {
     "name": "stdout",
     "output_type": "stream",
     "text": [
      "2022 done.\n",
      "Downcasting floats.\n"
     ]
    },
    {
     "name": "stderr",
     "output_type": "stream",
     "text": [
      "/Users/ccollins/Projects/NFL_BDB2025/.venv/lib/python3.9/site-packages/pandas/core/reshape/merge.py:1214: RuntimeWarning: invalid value encountered in cast\n",
      "  if not (rk == rk.astype(lk.dtype))[~np.isnan(rk)].all():\n"
     ]
    },
    {
     "name": "stdout",
     "output_type": "stream",
     "text": [
      "INFO: Labeling plays as runs or passes\n"
     ]
    }
   ],
   "source": [
    "df_games=pd.read_csv(games_fname)\n",
    "df_games=pd.merge(df_games, load_stadium_data(),left_on='gameId', right_on='old_game_id', how='left')\n",
    "df_games=pd.merge(df_games, load_weather_data(),on='gameId', how='left')\n",
    "\n",
    "df_plays = feature_engineering(pd.read_csv(plays_fname))\n",
    "df_tracking = pd.concat(\n",
    "        [load_tracking_data(tracking_fname) for tracking_fname in tracking_fname_list_train]\n",
    "    )\n",
    "df_tracking=df_tracking[['gameId', 'playId', 'nflId','club' ,'o_standard', 'dir_standard', 'x_standard', 'y_standard', 's', 'a', 'dis']].groupby(['gameId', 'playId', 'nflId','club']).agg({'s':[ 'max',],'a':[ 'max'], \n",
    "    'o_standard':['mean', 'std'],'dis':['sum'],'dir_standard':['mean', 'std'], 'x_standard':['mean', 'std'], 'y_standard':['mean', 'std']}).reset_index()\n",
    "df_tracking.columns=df_tracking.columns.map('|'.join).str.strip('|')\n",
    "df_players = pd.read_csv(players_fname)\n",
    "df_player_plays=pd.read_csv(player_plays_fname)\n",
    "df_player_plays=pd.merge(df_player_plays, load_previous_year_data(2021), left_on='teamAbbr', right_on='team_abbr', how='outer')\n",
    "    # aggregate plays, tracking, players tables\n",
    "df_agg1=pd.merge(pd.merge(df_tracking, df_plays, left_on=[ 'gameId', 'playId','club'], right_on=[ 'gameId', 'playId', 'possessionTeam'], how='inner'), df_player_plays, left_on=[ 'gameId', 'playId', 'nflId'], right_on=[ 'gameId', 'playId', 'nflId'], how='left' )\n",
    "df_agg2=pd.merge(df_agg1, df_games, on='gameId', how='inner')\n",
    "df_final=pivot_data(label_run_or_pass(get_position_count(pd.merge(df_agg2, df_players, on='nflId', how='inner'))))\n",
    "merged_id_df = df_final[['gameId','playId']].drop_duplicates()"
   ]
  },
  {
   "cell_type": "code",
   "execution_count": 4,
   "metadata": {},
   "outputs": [],
   "source": [
    "merged_id_df.to_csv('data/merged_ids.csv',index=False)"
   ]
  },
  {
   "cell_type": "code",
   "execution_count": null,
   "metadata": {},
   "outputs": [],
   "source": []
  }
 ],
 "metadata": {
  "kernelspec": {
   "display_name": ".venv",
   "language": "python",
   "name": "python3"
  },
  "language_info": {
   "codemirror_mode": {
    "name": "ipython",
    "version": 3
   },
   "file_extension": ".py",
   "mimetype": "text/x-python",
   "name": "python",
   "nbconvert_exporter": "python",
   "pygments_lexer": "ipython3",
   "version": "3.9.15"
  }
 },
 "nbformat": 4,
 "nbformat_minor": 2
}
