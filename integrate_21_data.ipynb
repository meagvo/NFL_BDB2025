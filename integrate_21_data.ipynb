{
 "cells": [
  {
   "cell_type": "code",
   "execution_count": 1,
   "metadata": {},
   "outputs": [],
   "source": [
    "import pandas as pd\n",
    "import os\n",
    "root_dir = os.getcwd()\n",
    "from data_loading import load_ftn, load_stadium_data, load_weather_data\n",
    "from data_cleaning import feature_engineering\n"
   ]
  },
  {
   "cell_type": "code",
   "execution_count": 2,
   "metadata": {},
   "outputs": [
    {
     "name": "stdout",
     "output_type": "stream",
     "text": [
      "2022 done.\n",
      "Downcasting floats.\n"
     ]
    }
   ],
   "source": [
    "df_games=pd.read_csv('data/games.csv')\n",
    "    \n",
    "df_games=pd.merge(df_games, load_stadium_data(),left_on='gameId', right_on='old_game_id', how='left')\n",
    "df_games=pd.merge(df_games, load_weather_data(),on='gameId', how='left')"
   ]
  },
  {
   "cell_type": "code",
   "execution_count": 3,
   "metadata": {},
   "outputs": [],
   "source": [
    "df_plays = feature_engineering(pd.read_csv('data/plays.csv'))"
   ]
  },
  {
   "cell_type": "code",
   "execution_count": 4,
   "metadata": {},
   "outputs": [],
   "source": [
    "%%capture\n",
    "ftn_merged = load_ftn()"
   ]
  },
  {
   "cell_type": "code",
   "execution_count": 5,
   "metadata": {},
   "outputs": [],
   "source": [
    "merged_id_df = pd.read_csv('data/merged_ids.csv')"
   ]
  },
  {
   "cell_type": "code",
   "execution_count": 6,
   "metadata": {},
   "outputs": [],
   "source": [
    "xp_fname = os.path.join(root_dir, \"data/team_xpass_ratios.csv\")\n",
    "pr_fname = os.path.join(root_dir, \"data/team_pass_rates.csv\")\n",
    "cf_fname = os.path.join(root_dir, \"data/coverages_faced.csv\")\n",
    "cu_fname = os.path.join(root_dir, 'data/coverages_used.csv')"
   ]
  },
  {
   "cell_type": "code",
   "execution_count": 7,
   "metadata": {},
   "outputs": [],
   "source": [
    "xp_df = pd.read_csv(xp_fname).drop(columns='Unnamed: 0')\n",
    "pr_df = pd.read_csv(pr_fname).drop(columns='Unnamed: 0')"
   ]
  },
  {
   "cell_type": "code",
   "execution_count": 8,
   "metadata": {},
   "outputs": [
    {
     "data": {
      "text/html": [
       "<div>\n",
       "<style scoped>\n",
       "    .dataframe tbody tr th:only-of-type {\n",
       "        vertical-align: middle;\n",
       "    }\n",
       "\n",
       "    .dataframe tbody tr th {\n",
       "        vertical-align: top;\n",
       "    }\n",
       "\n",
       "    .dataframe thead th {\n",
       "        text-align: right;\n",
       "    }\n",
       "</style>\n",
       "<table border=\"1\" class=\"dataframe\">\n",
       "  <thead>\n",
       "    <tr style=\"text-align: right;\">\n",
       "      <th></th>\n",
       "      <th>gameId</th>\n",
       "      <th>playId</th>\n",
       "      <th>off_xpass</th>\n",
       "      <th>def_xpass</th>\n",
       "    </tr>\n",
       "  </thead>\n",
       "  <tbody>\n",
       "    <tr>\n",
       "      <th>0</th>\n",
       "      <td>2022091110</td>\n",
       "      <td>347</td>\n",
       "      <td>0.58</td>\n",
       "      <td>0.58</td>\n",
       "    </tr>\n",
       "    <tr>\n",
       "      <th>1</th>\n",
       "      <td>2022091110</td>\n",
       "      <td>400</td>\n",
       "      <td>0.58</td>\n",
       "      <td>0.58</td>\n",
       "    </tr>\n",
       "    <tr>\n",
       "      <th>2</th>\n",
       "      <td>2022091110</td>\n",
       "      <td>729</td>\n",
       "      <td>0.58</td>\n",
       "      <td>0.58</td>\n",
       "    </tr>\n",
       "  </tbody>\n",
       "</table>\n",
       "</div>"
      ],
      "text/plain": [
       "       gameId  playId  off_xpass  def_xpass\n",
       "0  2022091110     347       0.58       0.58\n",
       "1  2022091110     400       0.58       0.58\n",
       "2  2022091110     729       0.58       0.58"
      ]
     },
     "execution_count": 8,
     "metadata": {},
     "output_type": "execute_result"
    }
   ],
   "source": [
    "xp_df.head(3)"
   ]
  },
  {
   "cell_type": "code",
   "execution_count": 9,
   "metadata": {},
   "outputs": [
    {
     "data": {
      "text/plain": [
       "gameId       0\n",
       "playId       0\n",
       "off_xpass    0\n",
       "def_xpass    0\n",
       "dtype: int64"
      ]
     },
     "execution_count": 9,
     "metadata": {},
     "output_type": "execute_result"
    }
   ],
   "source": [
    "xp_df.isna().sum()"
   ]
  },
  {
   "cell_type": "code",
   "execution_count": 11,
   "metadata": {},
   "outputs": [],
   "source": [
    "merged_base = merged_id_df.merge(df_games[['gameId','week']].drop_duplicates(),how='left',on=['gameId'])"
   ]
  },
  {
   "cell_type": "code",
   "execution_count": 12,
   "metadata": {},
   "outputs": [],
   "source": [
    "merged_base = merged_base.merge(df_plays[['gameId','playId',\n",
    "                                          'possessionTeam','defensiveTeam']].drop_duplicates(),\n",
    "                                how='left',on=['gameId','playId'])"
   ]
  },
  {
   "cell_type": "code",
   "execution_count": 13,
   "metadata": {},
   "outputs": [
    {
     "data": {
      "text/html": [
       "<div>\n",
       "<style scoped>\n",
       "    .dataframe tbody tr th:only-of-type {\n",
       "        vertical-align: middle;\n",
       "    }\n",
       "\n",
       "    .dataframe tbody tr th {\n",
       "        vertical-align: top;\n",
       "    }\n",
       "\n",
       "    .dataframe thead th {\n",
       "        text-align: right;\n",
       "    }\n",
       "</style>\n",
       "<table border=\"1\" class=\"dataframe\">\n",
       "  <thead>\n",
       "    <tr style=\"text-align: right;\">\n",
       "      <th></th>\n",
       "      <th>gameId</th>\n",
       "      <th>playId</th>\n",
       "      <th>week</th>\n",
       "      <th>possessionTeam</th>\n",
       "      <th>defensiveTeam</th>\n",
       "    </tr>\n",
       "  </thead>\n",
       "  <tbody>\n",
       "    <tr>\n",
       "      <th>0</th>\n",
       "      <td>2022090800</td>\n",
       "      <td>56</td>\n",
       "      <td>1</td>\n",
       "      <td>BUF</td>\n",
       "      <td>LA</td>\n",
       "    </tr>\n",
       "    <tr>\n",
       "      <th>1</th>\n",
       "      <td>2022090800</td>\n",
       "      <td>80</td>\n",
       "      <td>1</td>\n",
       "      <td>BUF</td>\n",
       "      <td>LA</td>\n",
       "    </tr>\n",
       "    <tr>\n",
       "      <th>2</th>\n",
       "      <td>2022090800</td>\n",
       "      <td>101</td>\n",
       "      <td>1</td>\n",
       "      <td>BUF</td>\n",
       "      <td>LA</td>\n",
       "    </tr>\n",
       "  </tbody>\n",
       "</table>\n",
       "</div>"
      ],
      "text/plain": [
       "       gameId  playId  week possessionTeam defensiveTeam\n",
       "0  2022090800      56     1            BUF            LA\n",
       "1  2022090800      80     1            BUF            LA\n",
       "2  2022090800     101     1            BUF            LA"
      ]
     },
     "execution_count": 13,
     "metadata": {},
     "output_type": "execute_result"
    }
   ],
   "source": [
    "merged_base.head(3)"
   ]
  },
  {
   "cell_type": "code",
   "execution_count": 14,
   "metadata": {},
   "outputs": [],
   "source": [
    "mb_w1 = merged_base[merged_base['week'] == 1]"
   ]
  },
  {
   "cell_type": "code",
   "execution_count": 15,
   "metadata": {},
   "outputs": [],
   "source": [
    "mb_w2_on = merged_base[merged_base['week'] > 1]"
   ]
  },
  {
   "cell_type": "code",
   "execution_count": 16,
   "metadata": {},
   "outputs": [],
   "source": [
    "w1_ids = mb_w1[['gameId','playId','week','possessionTeam','defensiveTeam']]"
   ]
  },
  {
   "cell_type": "code",
   "execution_count": 17,
   "metadata": {},
   "outputs": [],
   "source": [
    "w2_on_ids = mb_w2_on[['gameId','playId','week','possessionTeam','defensiveTeam']]"
   ]
  },
  {
   "cell_type": "markdown",
   "metadata": {},
   "source": [
    "# Work on data_21\n",
    "\n",
    "Note to do ftn data later maybe, as to not mess up id's (probably has no effect on id's )"
   ]
  },
  {
   "cell_type": "code",
   "execution_count": 19,
   "metadata": {},
   "outputs": [
    {
     "data": {
      "text/html": [
       "<div>\n",
       "<style scoped>\n",
       "    .dataframe tbody tr th:only-of-type {\n",
       "        vertical-align: middle;\n",
       "    }\n",
       "\n",
       "    .dataframe tbody tr th {\n",
       "        vertical-align: top;\n",
       "    }\n",
       "\n",
       "    .dataframe thead th {\n",
       "        text-align: right;\n",
       "    }\n",
       "</style>\n",
       "<table border=\"1\" class=\"dataframe\">\n",
       "  <thead>\n",
       "    <tr style=\"text-align: right;\">\n",
       "      <th></th>\n",
       "      <th>possessionTeam</th>\n",
       "      <th>Man_def</th>\n",
       "      <th>Zone_def</th>\n",
       "      <th>cover_0_def</th>\n",
       "      <th>cover_1_def</th>\n",
       "      <th>cover_2_def</th>\n",
       "      <th>cover_3_def</th>\n",
       "      <th>Quarters_def</th>\n",
       "      <th>cover_6_def</th>\n",
       "      <th>Other_def</th>\n",
       "      <th>Man_off</th>\n",
       "      <th>Zone_off</th>\n",
       "      <th>cover_0_off</th>\n",
       "      <th>cover_1_off</th>\n",
       "      <th>cover_2_off</th>\n",
       "      <th>cover_3_off</th>\n",
       "      <th>Quarters_off</th>\n",
       "      <th>cover_6_off</th>\n",
       "      <th>Other_off</th>\n",
       "    </tr>\n",
       "  </thead>\n",
       "  <tbody>\n",
       "    <tr>\n",
       "      <th>0</th>\n",
       "      <td>ARI</td>\n",
       "      <td>9.529412</td>\n",
       "      <td>23.647059</td>\n",
       "      <td>3.117647</td>\n",
       "      <td>5.352941</td>\n",
       "      <td>4.000000</td>\n",
       "      <td>12.588235</td>\n",
       "      <td>4.117647</td>\n",
       "      <td>2.882353</td>\n",
       "      <td>1.117647</td>\n",
       "      <td>7.411765</td>\n",
       "      <td>28.352941</td>\n",
       "      <td>1.823529</td>\n",
       "      <td>5.588235</td>\n",
       "      <td>4.588235</td>\n",
       "      <td>14.000000</td>\n",
       "      <td>5.882353</td>\n",
       "      <td>3.705882</td>\n",
       "      <td>0.176471</td>\n",
       "    </tr>\n",
       "    <tr>\n",
       "      <th>1</th>\n",
       "      <td>ATL</td>\n",
       "      <td>11.117647</td>\n",
       "      <td>22.000000</td>\n",
       "      <td>1.647059</td>\n",
       "      <td>9.000000</td>\n",
       "      <td>12.294118</td>\n",
       "      <td>8.117647</td>\n",
       "      <td>0.705882</td>\n",
       "      <td>0.647059</td>\n",
       "      <td>0.705882</td>\n",
       "      <td>8.058824</td>\n",
       "      <td>24.705882</td>\n",
       "      <td>1.235294</td>\n",
       "      <td>6.294118</td>\n",
       "      <td>5.588235</td>\n",
       "      <td>11.294118</td>\n",
       "      <td>5.882353</td>\n",
       "      <td>1.823529</td>\n",
       "      <td>0.647059</td>\n",
       "    </tr>\n",
       "  </tbody>\n",
       "</table>\n",
       "</div>"
      ],
      "text/plain": [
       "  possessionTeam    Man_def   Zone_def  cover_0_def  cover_1_def  cover_2_def  \\\n",
       "0            ARI   9.529412  23.647059     3.117647     5.352941     4.000000   \n",
       "1            ATL  11.117647  22.000000     1.647059     9.000000    12.294118   \n",
       "\n",
       "   cover_3_def  Quarters_def  cover_6_def  Other_def   Man_off   Zone_off  \\\n",
       "0    12.588235      4.117647     2.882353   1.117647  7.411765  28.352941   \n",
       "1     8.117647      0.705882     0.647059   0.705882  8.058824  24.705882   \n",
       "\n",
       "   cover_0_off  cover_1_off  cover_2_off  cover_3_off  Quarters_off  \\\n",
       "0     1.823529     5.588235     4.588235    14.000000      5.882353   \n",
       "1     1.235294     6.294118     5.588235    11.294118      5.882353   \n",
       "\n",
       "   cover_6_off  Other_off  \n",
       "0     3.705882   0.176471  \n",
       "1     1.823529   0.647059  "
      ]
     },
     "execution_count": 19,
     "metadata": {},
     "output_type": "execute_result"
    }
   ],
   "source": [
    "cov_21 = pd.read_csv('data_21/cov_21.csv')\n",
    "cov_21.head(2)"
   ]
  },
  {
   "cell_type": "code",
   "execution_count": 20,
   "metadata": {},
   "outputs": [
    {
     "data": {
      "text/html": [
       "<div>\n",
       "<style scoped>\n",
       "    .dataframe tbody tr th:only-of-type {\n",
       "        vertical-align: middle;\n",
       "    }\n",
       "\n",
       "    .dataframe tbody tr th {\n",
       "        vertical-align: top;\n",
       "    }\n",
       "\n",
       "    .dataframe thead th {\n",
       "        text-align: right;\n",
       "    }\n",
       "</style>\n",
       "<table border=\"1\" class=\"dataframe\">\n",
       "  <thead>\n",
       "    <tr style=\"text-align: right;\">\n",
       "      <th></th>\n",
       "      <th>possessionTeam</th>\n",
       "      <th>pass_rate_def</th>\n",
       "      <th>pass_rate_off</th>\n",
       "    </tr>\n",
       "  </thead>\n",
       "  <tbody>\n",
       "    <tr>\n",
       "      <th>0</th>\n",
       "      <td>ARI</td>\n",
       "      <td>0.573372</td>\n",
       "      <td>0.573464</td>\n",
       "    </tr>\n",
       "    <tr>\n",
       "      <th>1</th>\n",
       "      <td>ATL</td>\n",
       "      <td>0.548059</td>\n",
       "      <td>0.603575</td>\n",
       "    </tr>\n",
       "  </tbody>\n",
       "</table>\n",
       "</div>"
      ],
      "text/plain": [
       "  possessionTeam  pass_rate_def  pass_rate_off\n",
       "0            ARI       0.573372       0.573464\n",
       "1            ATL       0.548059       0.603575"
      ]
     },
     "execution_count": 20,
     "metadata": {},
     "output_type": "execute_result"
    }
   ],
   "source": [
    "team_pr_21 = pd.read_csv('data_21/team_pr_21.csv')\n",
    "team_pr_21.head(2)"
   ]
  },
  {
   "cell_type": "markdown",
   "metadata": {},
   "source": [
    "# Calculate team pass rates\n",
    "\n",
    "Note: use team pass rate from last year as xpass for week 1 (due to 2021 data incompleteness)"
   ]
  },
  {
   "cell_type": "code",
   "execution_count": 21,
   "metadata": {},
   "outputs": [
    {
     "data": {
      "text/html": [
       "<div>\n",
       "<style scoped>\n",
       "    .dataframe tbody tr th:only-of-type {\n",
       "        vertical-align: middle;\n",
       "    }\n",
       "\n",
       "    .dataframe tbody tr th {\n",
       "        vertical-align: top;\n",
       "    }\n",
       "\n",
       "    .dataframe thead th {\n",
       "        text-align: right;\n",
       "    }\n",
       "</style>\n",
       "<table border=\"1\" class=\"dataframe\">\n",
       "  <thead>\n",
       "    <tr style=\"text-align: right;\">\n",
       "      <th></th>\n",
       "      <th>gameId</th>\n",
       "      <th>playId</th>\n",
       "      <th>pass_rate_off</th>\n",
       "      <th>pass_rate_def</th>\n",
       "    </tr>\n",
       "  </thead>\n",
       "  <tbody>\n",
       "    <tr>\n",
       "      <th>0</th>\n",
       "      <td>2022102302</td>\n",
       "      <td>2655</td>\n",
       "      <td>0.654054</td>\n",
       "      <td>0.648794</td>\n",
       "    </tr>\n",
       "  </tbody>\n",
       "</table>\n",
       "</div>"
      ],
      "text/plain": [
       "       gameId  playId  pass_rate_off  pass_rate_def\n",
       "0  2022102302    2655       0.654054       0.648794"
      ]
     },
     "execution_count": 21,
     "metadata": {},
     "output_type": "execute_result"
    }
   ],
   "source": [
    "pr_df.head(1)"
   ]
  },
  {
   "cell_type": "code",
   "execution_count": 22,
   "metadata": {},
   "outputs": [
    {
     "data": {
      "text/html": [
       "<div>\n",
       "<style scoped>\n",
       "    .dataframe tbody tr th:only-of-type {\n",
       "        vertical-align: middle;\n",
       "    }\n",
       "\n",
       "    .dataframe tbody tr th {\n",
       "        vertical-align: top;\n",
       "    }\n",
       "\n",
       "    .dataframe thead th {\n",
       "        text-align: right;\n",
       "    }\n",
       "</style>\n",
       "<table border=\"1\" class=\"dataframe\">\n",
       "  <thead>\n",
       "    <tr style=\"text-align: right;\">\n",
       "      <th></th>\n",
       "      <th>gameId</th>\n",
       "      <th>playId</th>\n",
       "      <th>week</th>\n",
       "      <th>possessionTeam</th>\n",
       "      <th>defensiveTeam</th>\n",
       "    </tr>\n",
       "  </thead>\n",
       "  <tbody>\n",
       "    <tr>\n",
       "      <th>0</th>\n",
       "      <td>2022090800</td>\n",
       "      <td>56</td>\n",
       "      <td>1</td>\n",
       "      <td>BUF</td>\n",
       "      <td>LA</td>\n",
       "    </tr>\n",
       "  </tbody>\n",
       "</table>\n",
       "</div>"
      ],
      "text/plain": [
       "       gameId  playId  week possessionTeam defensiveTeam\n",
       "0  2022090800      56     1            BUF            LA"
      ]
     },
     "execution_count": 22,
     "metadata": {},
     "output_type": "execute_result"
    }
   ],
   "source": [
    "w1_ids.head(1)"
   ]
  },
  {
   "cell_type": "markdown",
   "metadata": {},
   "source": [
    "#### Merge in '21 pass ratios to '22 week one df:"
   ]
  },
  {
   "cell_type": "code",
   "execution_count": 23,
   "metadata": {},
   "outputs": [],
   "source": [
    "w1_pr = w1_ids.merge(team_pr_21.drop(columns=['pass_rate_off']).rename(columns={'possessionTeam':'defensiveTeam'}),on='defensiveTeam')\n",
    "w1_pr = w1_pr.merge(team_pr_21.drop(columns=['pass_rate_def']),on='possessionTeam')"
   ]
  },
  {
   "cell_type": "code",
   "execution_count": 27,
   "metadata": {},
   "outputs": [
    {
     "data": {
      "text/html": [
       "<div>\n",
       "<style scoped>\n",
       "    .dataframe tbody tr th:only-of-type {\n",
       "        vertical-align: middle;\n",
       "    }\n",
       "\n",
       "    .dataframe tbody tr th {\n",
       "        vertical-align: top;\n",
       "    }\n",
       "\n",
       "    .dataframe thead th {\n",
       "        text-align: right;\n",
       "    }\n",
       "</style>\n",
       "<table border=\"1\" class=\"dataframe\">\n",
       "  <thead>\n",
       "    <tr style=\"text-align: right;\">\n",
       "      <th></th>\n",
       "      <th>gameId</th>\n",
       "      <th>playId</th>\n",
       "      <th>week</th>\n",
       "      <th>possessionTeam</th>\n",
       "      <th>defensiveTeam</th>\n",
       "      <th>pass_rate_def</th>\n",
       "      <th>pass_rate_off</th>\n",
       "    </tr>\n",
       "  </thead>\n",
       "  <tbody>\n",
       "    <tr>\n",
       "      <th>0</th>\n",
       "      <td>2022090800</td>\n",
       "      <td>56</td>\n",
       "      <td>1</td>\n",
       "      <td>BUF</td>\n",
       "      <td>LA</td>\n",
       "      <td>0.615627</td>\n",
       "      <td>0.619126</td>\n",
       "    </tr>\n",
       "  </tbody>\n",
       "</table>\n",
       "</div>"
      ],
      "text/plain": [
       "       gameId  playId  week possessionTeam defensiveTeam  pass_rate_def  \\\n",
       "0  2022090800      56     1            BUF            LA       0.615627   \n",
       "\n",
       "   pass_rate_off  \n",
       "0       0.619126  "
      ]
     },
     "execution_count": 27,
     "metadata": {},
     "output_type": "execute_result"
    }
   ],
   "source": [
    "w1_pr.head(1)"
   ]
  },
  {
   "cell_type": "markdown",
   "metadata": {},
   "source": [
    "We bake in xpass here because it's just going to replicate pass_rate_off/def for week 1"
   ]
  },
  {
   "cell_type": "code",
   "execution_count": 28,
   "metadata": {},
   "outputs": [],
   "source": [
    "w1_pr['off_xpass'] = w1_pr['pass_rate_off'].copy()\n",
    "w1_pr['def_xpass'] = w1_pr['pass_rate_def'].copy()"
   ]
  },
  {
   "cell_type": "code",
   "execution_count": 29,
   "metadata": {},
   "outputs": [
    {
     "data": {
      "text/html": [
       "<div>\n",
       "<style scoped>\n",
       "    .dataframe tbody tr th:only-of-type {\n",
       "        vertical-align: middle;\n",
       "    }\n",
       "\n",
       "    .dataframe tbody tr th {\n",
       "        vertical-align: top;\n",
       "    }\n",
       "\n",
       "    .dataframe thead th {\n",
       "        text-align: right;\n",
       "    }\n",
       "</style>\n",
       "<table border=\"1\" class=\"dataframe\">\n",
       "  <thead>\n",
       "    <tr style=\"text-align: right;\">\n",
       "      <th></th>\n",
       "      <th>gameId</th>\n",
       "      <th>playId</th>\n",
       "      <th>week</th>\n",
       "      <th>possessionTeam</th>\n",
       "      <th>defensiveTeam</th>\n",
       "      <th>pass_rate_def</th>\n",
       "      <th>pass_rate_off</th>\n",
       "      <th>off_xpass</th>\n",
       "      <th>def_xpass</th>\n",
       "    </tr>\n",
       "  </thead>\n",
       "  <tbody>\n",
       "    <tr>\n",
       "      <th>0</th>\n",
       "      <td>2022090800</td>\n",
       "      <td>56</td>\n",
       "      <td>1</td>\n",
       "      <td>BUF</td>\n",
       "      <td>LA</td>\n",
       "      <td>0.615627</td>\n",
       "      <td>0.619126</td>\n",
       "      <td>0.619126</td>\n",
       "      <td>0.615627</td>\n",
       "    </tr>\n",
       "  </tbody>\n",
       "</table>\n",
       "</div>"
      ],
      "text/plain": [
       "       gameId  playId  week possessionTeam defensiveTeam  pass_rate_def  \\\n",
       "0  2022090800      56     1            BUF            LA       0.615627   \n",
       "\n",
       "   pass_rate_off  off_xpass  def_xpass  \n",
       "0       0.619126   0.619126   0.615627  "
      ]
     },
     "execution_count": 29,
     "metadata": {},
     "output_type": "execute_result"
    }
   ],
   "source": [
    "w1_pr.head(1)"
   ]
  },
  {
   "cell_type": "markdown",
   "metadata": {},
   "source": [
    "# Calculate coverage data\n",
    "\n",
    "Here we just use defensive rates for simplicity, can revisit later"
   ]
  },
  {
   "cell_type": "code",
   "execution_count": 32,
   "metadata": {},
   "outputs": [],
   "source": [
    "cov_def = cov_21[[x for x in cov_21.columns if '_off' not in x]].rename(columns={'possessionTeam':'defensiveTeam'})\n",
    "cov_def = cov_def.rename(columns={'cover_2_def':'Cover-2_def','cover_0_def':'Cover-0_def'})"
   ]
  },
  {
   "cell_type": "code",
   "execution_count": 33,
   "metadata": {},
   "outputs": [
    {
     "data": {
      "text/html": [
       "<div>\n",
       "<style scoped>\n",
       "    .dataframe tbody tr th:only-of-type {\n",
       "        vertical-align: middle;\n",
       "    }\n",
       "\n",
       "    .dataframe tbody tr th {\n",
       "        vertical-align: top;\n",
       "    }\n",
       "\n",
       "    .dataframe thead th {\n",
       "        text-align: right;\n",
       "    }\n",
       "</style>\n",
       "<table border=\"1\" class=\"dataframe\">\n",
       "  <thead>\n",
       "    <tr style=\"text-align: right;\">\n",
       "      <th></th>\n",
       "      <th>defensiveTeam</th>\n",
       "      <th>Man_def</th>\n",
       "      <th>Zone_def</th>\n",
       "      <th>Cover-0_def</th>\n",
       "      <th>cover_1_def</th>\n",
       "      <th>Cover-2_def</th>\n",
       "      <th>cover_3_def</th>\n",
       "      <th>Quarters_def</th>\n",
       "      <th>cover_6_def</th>\n",
       "      <th>Other_def</th>\n",
       "    </tr>\n",
       "  </thead>\n",
       "  <tbody>\n",
       "    <tr>\n",
       "      <th>0</th>\n",
       "      <td>ARI</td>\n",
       "      <td>9.529412</td>\n",
       "      <td>23.647059</td>\n",
       "      <td>3.117647</td>\n",
       "      <td>5.352941</td>\n",
       "      <td>4.0</td>\n",
       "      <td>12.588235</td>\n",
       "      <td>4.117647</td>\n",
       "      <td>2.882353</td>\n",
       "      <td>1.117647</td>\n",
       "    </tr>\n",
       "  </tbody>\n",
       "</table>\n",
       "</div>"
      ],
      "text/plain": [
       "  defensiveTeam   Man_def   Zone_def  Cover-0_def  cover_1_def  Cover-2_def  \\\n",
       "0           ARI  9.529412  23.647059     3.117647     5.352941          4.0   \n",
       "\n",
       "   cover_3_def  Quarters_def  cover_6_def  Other_def  \n",
       "0    12.588235      4.117647     2.882353   1.117647  "
      ]
     },
     "execution_count": 33,
     "metadata": {},
     "output_type": "execute_result"
    }
   ],
   "source": [
    "cov_def.head(1)"
   ]
  },
  {
   "cell_type": "code",
   "execution_count": 34,
   "metadata": {},
   "outputs": [],
   "source": [
    "w1_merged = w1_pr.merge(cov_def,how='left',on='defensiveTeam')"
   ]
  },
  {
   "cell_type": "code",
   "execution_count": 35,
   "metadata": {},
   "outputs": [
    {
     "data": {
      "text/html": [
       "<div>\n",
       "<style scoped>\n",
       "    .dataframe tbody tr th:only-of-type {\n",
       "        vertical-align: middle;\n",
       "    }\n",
       "\n",
       "    .dataframe tbody tr th {\n",
       "        vertical-align: top;\n",
       "    }\n",
       "\n",
       "    .dataframe thead th {\n",
       "        text-align: right;\n",
       "    }\n",
       "</style>\n",
       "<table border=\"1\" class=\"dataframe\">\n",
       "  <thead>\n",
       "    <tr style=\"text-align: right;\">\n",
       "      <th></th>\n",
       "      <th>gameId</th>\n",
       "      <th>playId</th>\n",
       "      <th>week</th>\n",
       "      <th>possessionTeam</th>\n",
       "      <th>defensiveTeam</th>\n",
       "      <th>pass_rate_def</th>\n",
       "      <th>pass_rate_off</th>\n",
       "      <th>off_xpass</th>\n",
       "      <th>def_xpass</th>\n",
       "      <th>Man_def</th>\n",
       "      <th>Zone_def</th>\n",
       "      <th>Cover-0_def</th>\n",
       "      <th>cover_1_def</th>\n",
       "      <th>Cover-2_def</th>\n",
       "      <th>cover_3_def</th>\n",
       "      <th>Quarters_def</th>\n",
       "      <th>cover_6_def</th>\n",
       "      <th>Other_def</th>\n",
       "    </tr>\n",
       "  </thead>\n",
       "  <tbody>\n",
       "    <tr>\n",
       "      <th>0</th>\n",
       "      <td>2022090800</td>\n",
       "      <td>56</td>\n",
       "      <td>1</td>\n",
       "      <td>BUF</td>\n",
       "      <td>LA</td>\n",
       "      <td>0.615627</td>\n",
       "      <td>0.619126</td>\n",
       "      <td>0.619126</td>\n",
       "      <td>0.615627</td>\n",
       "      <td>7.117647</td>\n",
       "      <td>37.117647</td>\n",
       "      <td>0.705882</td>\n",
       "      <td>6.352941</td>\n",
       "      <td>0.647059</td>\n",
       "      <td>20.823529</td>\n",
       "      <td>7.647059</td>\n",
       "      <td>7.705882</td>\n",
       "      <td>0.352941</td>\n",
       "    </tr>\n",
       "  </tbody>\n",
       "</table>\n",
       "</div>"
      ],
      "text/plain": [
       "       gameId  playId  week possessionTeam defensiveTeam  pass_rate_def  \\\n",
       "0  2022090800      56     1            BUF            LA       0.615627   \n",
       "\n",
       "   pass_rate_off  off_xpass  def_xpass   Man_def   Zone_def  Cover-0_def  \\\n",
       "0       0.619126   0.619126   0.615627  7.117647  37.117647     0.705882   \n",
       "\n",
       "   cover_1_def  Cover-2_def  cover_3_def  Quarters_def  cover_6_def  Other_def  \n",
       "0     6.352941     0.647059    20.823529      7.647059     7.705882   0.352941  "
      ]
     },
     "execution_count": 35,
     "metadata": {},
     "output_type": "execute_result"
    }
   ],
   "source": [
    "w1_merged.head(1)"
   ]
  },
  {
   "cell_type": "markdown",
   "metadata": {},
   "source": [
    "# Integrate '22 coverage data (i.e., for week 2 on)"
   ]
  },
  {
   "cell_type": "code",
   "execution_count": 38,
   "metadata": {},
   "outputs": [
    {
     "data": {
      "text/html": [
       "<div>\n",
       "<style scoped>\n",
       "    .dataframe tbody tr th:only-of-type {\n",
       "        vertical-align: middle;\n",
       "    }\n",
       "\n",
       "    .dataframe tbody tr th {\n",
       "        vertical-align: top;\n",
       "    }\n",
       "\n",
       "    .dataframe thead th {\n",
       "        text-align: right;\n",
       "    }\n",
       "</style>\n",
       "<table border=\"1\" class=\"dataframe\">\n",
       "  <thead>\n",
       "    <tr style=\"text-align: right;\">\n",
       "      <th></th>\n",
       "      <th>gameId</th>\n",
       "      <th>playId</th>\n",
       "      <th>week</th>\n",
       "      <th>possessionTeam</th>\n",
       "      <th>defensiveTeam</th>\n",
       "    </tr>\n",
       "  </thead>\n",
       "  <tbody>\n",
       "    <tr>\n",
       "      <th>1950</th>\n",
       "      <td>2022091500</td>\n",
       "      <td>55</td>\n",
       "      <td>2</td>\n",
       "      <td>KC</td>\n",
       "      <td>LAC</td>\n",
       "    </tr>\n",
       "  </tbody>\n",
       "</table>\n",
       "</div>"
      ],
      "text/plain": [
       "          gameId  playId  week possessionTeam defensiveTeam\n",
       "1950  2022091500      55     2             KC           LAC"
      ]
     },
     "execution_count": 38,
     "metadata": {},
     "output_type": "execute_result"
    }
   ],
   "source": [
    "w2_on_ids.head(1)"
   ]
  },
  {
   "cell_type": "code",
   "execution_count": 40,
   "metadata": {},
   "outputs": [
    {
     "data": {
      "text/html": [
       "<div>\n",
       "<style scoped>\n",
       "    .dataframe tbody tr th:only-of-type {\n",
       "        vertical-align: middle;\n",
       "    }\n",
       "\n",
       "    .dataframe tbody tr th {\n",
       "        vertical-align: top;\n",
       "    }\n",
       "\n",
       "    .dataframe thead th {\n",
       "        text-align: right;\n",
       "    }\n",
       "</style>\n",
       "<table border=\"1\" class=\"dataframe\">\n",
       "  <thead>\n",
       "    <tr style=\"text-align: right;\">\n",
       "      <th></th>\n",
       "      <th>week</th>\n",
       "      <th>cover_3_def</th>\n",
       "      <th>cover_6_def</th>\n",
       "      <th>cover_1_def</th>\n",
       "      <th>Quarters_def</th>\n",
       "      <th>Cover-2_def</th>\n",
       "      <th>Cover-0_def</th>\n",
       "      <th>Man_def</th>\n",
       "      <th>Other_def</th>\n",
       "      <th>Zone_def</th>\n",
       "      <th>defensiveTeam</th>\n",
       "    </tr>\n",
       "  </thead>\n",
       "  <tbody>\n",
       "    <tr>\n",
       "      <th>0</th>\n",
       "      <td>2</td>\n",
       "      <td>21.0</td>\n",
       "      <td>2.0</td>\n",
       "      <td>21.0</td>\n",
       "      <td>7.0</td>\n",
       "      <td>4.0</td>\n",
       "      <td>3.0</td>\n",
       "      <td>26.0</td>\n",
       "      <td>4.0</td>\n",
       "      <td>34.0</td>\n",
       "      <td>ARI</td>\n",
       "    </tr>\n",
       "  </tbody>\n",
       "</table>\n",
       "</div>"
      ],
      "text/plain": [
       "   week  cover_3_def  cover_6_def  cover_1_def  Quarters_def  Cover-2_def  \\\n",
       "0     2         21.0          2.0         21.0           7.0          4.0   \n",
       "\n",
       "   Cover-0_def  Man_def  Other_def  Zone_def defensiveTeam  \n",
       "0          3.0     26.0        4.0      34.0           ARI  "
      ]
     },
     "execution_count": 40,
     "metadata": {},
     "output_type": "execute_result"
    }
   ],
   "source": [
    "cu_df = pd.read_csv('data/coverages_used.csv')\n",
    "cu_df['week'] = cu_df['week'].astype(int)\n",
    "cu_df.head(1)"
   ]
  },
  {
   "cell_type": "code",
   "execution_count": 41,
   "metadata": {},
   "outputs": [],
   "source": [
    "cu_w2_on = w2_on_ids.merge(cu_df,how='left',left_on=['defensiveTeam','week'],right_on=['defensiveTeam','week'])"
   ]
  },
  {
   "cell_type": "code",
   "execution_count": 42,
   "metadata": {},
   "outputs": [
    {
     "data": {
      "text/html": [
       "<div>\n",
       "<style scoped>\n",
       "    .dataframe tbody tr th:only-of-type {\n",
       "        vertical-align: middle;\n",
       "    }\n",
       "\n",
       "    .dataframe tbody tr th {\n",
       "        vertical-align: top;\n",
       "    }\n",
       "\n",
       "    .dataframe thead th {\n",
       "        text-align: right;\n",
       "    }\n",
       "</style>\n",
       "<table border=\"1\" class=\"dataframe\">\n",
       "  <thead>\n",
       "    <tr style=\"text-align: right;\">\n",
       "      <th></th>\n",
       "      <th>gameId</th>\n",
       "      <th>playId</th>\n",
       "      <th>week</th>\n",
       "      <th>possessionTeam</th>\n",
       "      <th>defensiveTeam</th>\n",
       "      <th>cover_3_def</th>\n",
       "      <th>cover_6_def</th>\n",
       "      <th>cover_1_def</th>\n",
       "      <th>Quarters_def</th>\n",
       "      <th>Cover-2_def</th>\n",
       "      <th>Cover-0_def</th>\n",
       "      <th>Man_def</th>\n",
       "      <th>Other_def</th>\n",
       "      <th>Zone_def</th>\n",
       "    </tr>\n",
       "  </thead>\n",
       "  <tbody>\n",
       "    <tr>\n",
       "      <th>0</th>\n",
       "      <td>2022091500</td>\n",
       "      <td>55</td>\n",
       "      <td>2</td>\n",
       "      <td>KC</td>\n",
       "      <td>LAC</td>\n",
       "      <td>20.0</td>\n",
       "      <td>8.0</td>\n",
       "      <td>9.0</td>\n",
       "      <td>3.0</td>\n",
       "      <td>8.0</td>\n",
       "      <td>1.0</td>\n",
       "      <td>10.0</td>\n",
       "      <td>6.0</td>\n",
       "      <td>39.0</td>\n",
       "    </tr>\n",
       "  </tbody>\n",
       "</table>\n",
       "</div>"
      ],
      "text/plain": [
       "       gameId  playId  week possessionTeam defensiveTeam  cover_3_def  \\\n",
       "0  2022091500      55     2             KC           LAC         20.0   \n",
       "\n",
       "   cover_6_def  cover_1_def  Quarters_def  Cover-2_def  Cover-0_def  Man_def  \\\n",
       "0          8.0          9.0           3.0          8.0          1.0     10.0   \n",
       "\n",
       "   Other_def  Zone_def  \n",
       "0        6.0      39.0  "
      ]
     },
     "execution_count": 42,
     "metadata": {},
     "output_type": "execute_result"
    }
   ],
   "source": [
    "cu_w2_on.head(1)"
   ]
  },
  {
   "cell_type": "markdown",
   "metadata": {},
   "source": [
    "# Get data for week 2 onward"
   ]
  },
  {
   "cell_type": "code",
   "execution_count": 48,
   "metadata": {},
   "outputs": [
    {
     "data": {
      "text/html": [
       "<div>\n",
       "<style scoped>\n",
       "    .dataframe tbody tr th:only-of-type {\n",
       "        vertical-align: middle;\n",
       "    }\n",
       "\n",
       "    .dataframe tbody tr th {\n",
       "        vertical-align: top;\n",
       "    }\n",
       "\n",
       "    .dataframe thead th {\n",
       "        text-align: right;\n",
       "    }\n",
       "</style>\n",
       "<table border=\"1\" class=\"dataframe\">\n",
       "  <thead>\n",
       "    <tr style=\"text-align: right;\">\n",
       "      <th></th>\n",
       "      <th>gameId</th>\n",
       "      <th>playId</th>\n",
       "      <th>week</th>\n",
       "      <th>possessionTeam</th>\n",
       "      <th>defensiveTeam</th>\n",
       "      <th>cover_3_def</th>\n",
       "      <th>cover_6_def</th>\n",
       "      <th>cover_1_def</th>\n",
       "      <th>Quarters_def</th>\n",
       "      <th>Cover-2_def</th>\n",
       "      <th>Cover-0_def</th>\n",
       "      <th>Man_def</th>\n",
       "      <th>Other_def</th>\n",
       "      <th>Zone_def</th>\n",
       "      <th>pass_rate_off</th>\n",
       "      <th>pass_rate_def</th>\n",
       "      <th>off_xpass</th>\n",
       "      <th>def_xpass</th>\n",
       "    </tr>\n",
       "  </thead>\n",
       "  <tbody>\n",
       "    <tr>\n",
       "      <th>0</th>\n",
       "      <td>2022091500</td>\n",
       "      <td>55</td>\n",
       "      <td>2</td>\n",
       "      <td>KC</td>\n",
       "      <td>LAC</td>\n",
       "      <td>20.0</td>\n",
       "      <td>8.0</td>\n",
       "      <td>9.0</td>\n",
       "      <td>3.0</td>\n",
       "      <td>8.0</td>\n",
       "      <td>1.0</td>\n",
       "      <td>10.0</td>\n",
       "      <td>6.0</td>\n",
       "      <td>39.0</td>\n",
       "      <td>0.625</td>\n",
       "      <td>0.763636</td>\n",
       "      <td>0.686433</td>\n",
       "      <td>0.738111</td>\n",
       "    </tr>\n",
       "    <tr>\n",
       "      <th>1</th>\n",
       "      <td>2022091500</td>\n",
       "      <td>76</td>\n",
       "      <td>2</td>\n",
       "      <td>KC</td>\n",
       "      <td>LAC</td>\n",
       "      <td>20.0</td>\n",
       "      <td>8.0</td>\n",
       "      <td>9.0</td>\n",
       "      <td>3.0</td>\n",
       "      <td>8.0</td>\n",
       "      <td>1.0</td>\n",
       "      <td>10.0</td>\n",
       "      <td>6.0</td>\n",
       "      <td>39.0</td>\n",
       "      <td>0.625</td>\n",
       "      <td>0.763636</td>\n",
       "      <td>0.658727</td>\n",
       "      <td>0.738111</td>\n",
       "    </tr>\n",
       "  </tbody>\n",
       "</table>\n",
       "</div>"
      ],
      "text/plain": [
       "       gameId  playId  week possessionTeam defensiveTeam  cover_3_def  \\\n",
       "0  2022091500      55     2             KC           LAC         20.0   \n",
       "1  2022091500      76     2             KC           LAC         20.0   \n",
       "\n",
       "   cover_6_def  cover_1_def  Quarters_def  Cover-2_def  Cover-0_def  Man_def  \\\n",
       "0          8.0          9.0           3.0          8.0          1.0     10.0   \n",
       "1          8.0          9.0           3.0          8.0          1.0     10.0   \n",
       "\n",
       "   Other_def  Zone_def  pass_rate_off  pass_rate_def  off_xpass  def_xpass  \n",
       "0        6.0      39.0          0.625       0.763636   0.686433   0.738111  \n",
       "1        6.0      39.0          0.625       0.763636   0.658727   0.738111  "
      ]
     },
     "execution_count": 48,
     "metadata": {},
     "output_type": "execute_result"
    }
   ],
   "source": [
    "df_w2_on = cu_w2_on.merge(pr_df,how='left',on=['gameId','playId'])\n",
    "df_w2_on = df_w2_on.merge(xp_df,how='left',on=['gameId','playId'])\n",
    "\n",
    "df_w2_on.head(2)"
   ]
  },
  {
   "cell_type": "code",
   "execution_count": 53,
   "metadata": {},
   "outputs": [],
   "source": [
    "w1_merged = w1_merged[df_w2_on.columns]"
   ]
  },
  {
   "cell_type": "code",
   "execution_count": 55,
   "metadata": {},
   "outputs": [
    {
     "data": {
      "text/plain": [
       "2"
      ]
     },
     "execution_count": 55,
     "metadata": {},
     "output_type": "execute_result"
    }
   ],
   "source": [
    "df_w2_on.week.min()"
   ]
  },
  {
   "cell_type": "markdown",
   "metadata": {},
   "source": [
    "# TODO: find way to make ordering match test ig?"
   ]
  },
  {
   "cell_type": "code",
   "execution_count": 49,
   "metadata": {},
   "outputs": [
    {
     "data": {
      "text/plain": [
       "2"
      ]
     },
     "execution_count": 49,
     "metadata": {},
     "output_type": "execute_result"
    }
   ],
   "source": []
  },
  {
   "cell_type": "markdown",
   "metadata": {},
   "source": [
    "# Integrate week 1-imputed, week 2 onward data"
   ]
  },
  {
   "cell_type": "markdown",
   "metadata": {},
   "source": [
    "where is 'week' lost?"
   ]
  },
  {
   "cell_type": "code",
   "execution_count": 58,
   "metadata": {},
   "outputs": [],
   "source": [
    "merged_base = pd.concat([w1_merged,df_w2_on],axis=0)"
   ]
  },
  {
   "cell_type": "code",
   "execution_count": 68,
   "metadata": {},
   "outputs": [
    {
     "data": {
      "text/html": [
       "<div>\n",
       "<style scoped>\n",
       "    .dataframe tbody tr th:only-of-type {\n",
       "        vertical-align: middle;\n",
       "    }\n",
       "\n",
       "    .dataframe tbody tr th {\n",
       "        vertical-align: top;\n",
       "    }\n",
       "\n",
       "    .dataframe thead th {\n",
       "        text-align: right;\n",
       "    }\n",
       "</style>\n",
       "<table border=\"1\" class=\"dataframe\">\n",
       "  <thead>\n",
       "    <tr style=\"text-align: right;\">\n",
       "      <th></th>\n",
       "      <th>gameId</th>\n",
       "      <th>playId</th>\n",
       "      <th>week</th>\n",
       "      <th>possessionTeam</th>\n",
       "      <th>defensiveTeam</th>\n",
       "      <th>cover_3_def</th>\n",
       "      <th>cover_6_def</th>\n",
       "      <th>cover_1_def</th>\n",
       "      <th>Quarters_def</th>\n",
       "      <th>Cover-2_def</th>\n",
       "      <th>Cover-0_def</th>\n",
       "      <th>Man_def</th>\n",
       "      <th>Other_def</th>\n",
       "      <th>Zone_def</th>\n",
       "      <th>pass_rate_off</th>\n",
       "      <th>pass_rate_def</th>\n",
       "      <th>off_xpass</th>\n",
       "      <th>def_xpass</th>\n",
       "    </tr>\n",
       "  </thead>\n",
       "  <tbody>\n",
       "    <tr>\n",
       "      <th>798</th>\n",
       "      <td>2022091105</td>\n",
       "      <td>2498</td>\n",
       "      <td>1</td>\n",
       "      <td>IND</td>\n",
       "      <td>HOU</td>\n",
       "      <td>8.235294</td>\n",
       "      <td>2.176471</td>\n",
       "      <td>8.058824</td>\n",
       "      <td>2.764706</td>\n",
       "      <td>9.294118</td>\n",
       "      <td>0.588235</td>\n",
       "      <td>8.647059</td>\n",
       "      <td>0.000000</td>\n",
       "      <td>22.470588</td>\n",
       "      <td>0.532609</td>\n",
       "      <td>0.520913</td>\n",
       "      <td>0.532609</td>\n",
       "      <td>0.520913</td>\n",
       "    </tr>\n",
       "    <tr>\n",
       "      <th>144</th>\n",
       "      <td>2022091100</td>\n",
       "      <td>1651</td>\n",
       "      <td>1</td>\n",
       "      <td>ATL</td>\n",
       "      <td>NO</td>\n",
       "      <td>9.235294</td>\n",
       "      <td>0.764706</td>\n",
       "      <td>9.941176</td>\n",
       "      <td>6.117647</td>\n",
       "      <td>5.117647</td>\n",
       "      <td>1.294118</td>\n",
       "      <td>12.470588</td>\n",
       "      <td>1.294118</td>\n",
       "      <td>21.294118</td>\n",
       "      <td>0.603575</td>\n",
       "      <td>0.607000</td>\n",
       "      <td>0.603575</td>\n",
       "      <td>0.607000</td>\n",
       "    </tr>\n",
       "    <tr>\n",
       "      <th>11504</th>\n",
       "      <td>2022103004</td>\n",
       "      <td>1976</td>\n",
       "      <td>8</td>\n",
       "      <td>TEN</td>\n",
       "      <td>HOU</td>\n",
       "      <td>121.000000</td>\n",
       "      <td>11.000000</td>\n",
       "      <td>68.000000</td>\n",
       "      <td>44.000000</td>\n",
       "      <td>99.000000</td>\n",
       "      <td>1.000000</td>\n",
       "      <td>69.000000</td>\n",
       "      <td>21.000000</td>\n",
       "      <td>275.000000</td>\n",
       "      <td>0.493671</td>\n",
       "      <td>0.557951</td>\n",
       "      <td>0.437450</td>\n",
       "      <td>0.557000</td>\n",
       "    </tr>\n",
       "  </tbody>\n",
       "</table>\n",
       "</div>"
      ],
      "text/plain": [
       "           gameId  playId  week possessionTeam defensiveTeam  cover_3_def  \\\n",
       "798    2022091105    2498     1            IND           HOU     8.235294   \n",
       "144    2022091100    1651     1            ATL            NO     9.235294   \n",
       "11504  2022103004    1976     8            TEN           HOU   121.000000   \n",
       "\n",
       "       cover_6_def  cover_1_def  Quarters_def  Cover-2_def  Cover-0_def  \\\n",
       "798       2.176471     8.058824      2.764706     9.294118     0.588235   \n",
       "144       0.764706     9.941176      6.117647     5.117647     1.294118   \n",
       "11504    11.000000    68.000000     44.000000    99.000000     1.000000   \n",
       "\n",
       "         Man_def  Other_def    Zone_def  pass_rate_off  pass_rate_def  \\\n",
       "798     8.647059   0.000000   22.470588       0.532609       0.520913   \n",
       "144    12.470588   1.294118   21.294118       0.603575       0.607000   \n",
       "11504  69.000000  21.000000  275.000000       0.493671       0.557951   \n",
       "\n",
       "       off_xpass  def_xpass  \n",
       "798     0.532609   0.520913  \n",
       "144     0.603575   0.607000  \n",
       "11504   0.437450   0.557000  "
      ]
     },
     "execution_count": 68,
     "metadata": {},
     "output_type": "execute_result"
    }
   ],
   "source": [
    "merged_base.sample(3)"
   ]
  },
  {
   "cell_type": "markdown",
   "metadata": {},
   "source": [
    "Get cols final for everything to line up later (sans off. coverage feats)"
   ]
  },
  {
   "cell_type": "code",
   "execution_count": 69,
   "metadata": {},
   "outputs": [],
   "source": [
    "cols_final = ['gameId', 'playId', 'n_offense_backfield', 'n_defense_box',\n",
    "       'is_no_huddle', 'is_motion', 'pass_rate_off', 'pass_rate_def',\n",
    "       'off_xpass', 'def_xpass', 'week', 'possessionTeam', 'defensiveTeam',\n",
    "       'cover_3_def', 'cover_6_def', 'cover_1_def', 'Quarters_def',\n",
    "       'Cover-2_def', 'Cover-0_def', 'Man_def', 'Other_def', 'Zone_def',\n",
    "       'off_snaps_lost', 'def_snaps_lost']"
   ]
  },
  {
   "cell_type": "code",
   "execution_count": 70,
   "metadata": {},
   "outputs": [],
   "source": [
    "inj_fname = os.path.join(root_dir, 'data/snaps_lost_injury.csv')"
   ]
  },
  {
   "cell_type": "code",
   "execution_count": 71,
   "metadata": {},
   "outputs": [],
   "source": [
    "inj_df = pd.read_csv(inj_fname)\n",
    "merged_base = merged_base.merge(inj_df.drop(columns=['def_snaps_lost']),how='left',\n",
    "                   left_on=['possessionTeam','week'], right_on=['club_code','week']).drop(columns=['club_code'])\n",
    "merged_base = merged_base.merge(inj_df.drop(columns=['off_snaps_lost']),how='left',\n",
    "                   left_on=['defensiveTeam','week'], right_on=['club_code','week']).drop(columns=['club_code'])"
   ]
  },
  {
   "cell_type": "code",
   "execution_count": 72,
   "metadata": {},
   "outputs": [
    {
     "data": {
      "text/plain": [
       "gameId               0\n",
       "playId               0\n",
       "week                 0\n",
       "possessionTeam       0\n",
       "defensiveTeam        0\n",
       "cover_3_def          0\n",
       "cover_6_def          0\n",
       "cover_1_def          0\n",
       "Quarters_def         0\n",
       "Cover-2_def          0\n",
       "Cover-0_def          0\n",
       "Man_def              0\n",
       "Other_def            0\n",
       "Zone_def             0\n",
       "pass_rate_off        0\n",
       "pass_rate_def        0\n",
       "off_xpass            0\n",
       "def_xpass            0\n",
       "off_snaps_lost    5436\n",
       "def_snaps_lost    5670\n",
       "dtype: int64"
      ]
     },
     "execution_count": 72,
     "metadata": {},
     "output_type": "execute_result"
    }
   ],
   "source": [
    "merged_base.isna().sum()"
   ]
  },
  {
   "cell_type": "markdown",
   "metadata": {},
   "source": [
    "# TODO: sanity check injury snaps lost process, if sound just fillna w/0"
   ]
  },
  {
   "cell_type": "code",
   "execution_count": 77,
   "metadata": {},
   "outputs": [
    {
     "data": {
      "text/html": [
       "<div>\n",
       "<style scoped>\n",
       "    .dataframe tbody tr th:only-of-type {\n",
       "        vertical-align: middle;\n",
       "    }\n",
       "\n",
       "    .dataframe tbody tr th {\n",
       "        vertical-align: top;\n",
       "    }\n",
       "\n",
       "    .dataframe thead th {\n",
       "        text-align: right;\n",
       "    }\n",
       "</style>\n",
       "<table border=\"1\" class=\"dataframe\">\n",
       "  <thead>\n",
       "    <tr style=\"text-align: right;\">\n",
       "      <th></th>\n",
       "      <th>gameId</th>\n",
       "      <th>playId</th>\n",
       "      <th>week</th>\n",
       "      <th>possessionTeam</th>\n",
       "      <th>defensiveTeam</th>\n",
       "      <th>cover_3_def</th>\n",
       "      <th>cover_6_def</th>\n",
       "      <th>cover_1_def</th>\n",
       "      <th>Quarters_def</th>\n",
       "      <th>Cover-2_def</th>\n",
       "      <th>Cover-0_def</th>\n",
       "      <th>Man_def</th>\n",
       "      <th>Other_def</th>\n",
       "      <th>Zone_def</th>\n",
       "      <th>pass_rate_off</th>\n",
       "      <th>pass_rate_def</th>\n",
       "      <th>off_xpass</th>\n",
       "      <th>def_xpass</th>\n",
       "      <th>off_snaps_lost</th>\n",
       "      <th>def_snaps_lost</th>\n",
       "    </tr>\n",
       "  </thead>\n",
       "  <tbody>\n",
       "    <tr>\n",
       "      <th>3171</th>\n",
       "      <td>2022091809</td>\n",
       "      <td>3451</td>\n",
       "      <td>2</td>\n",
       "      <td>CIN</td>\n",
       "      <td>DAL</td>\n",
       "      <td>13.000000</td>\n",
       "      <td>4.000000</td>\n",
       "      <td>23.000000</td>\n",
       "      <td>7.000000</td>\n",
       "      <td>5.000000</td>\n",
       "      <td>1.000000</td>\n",
       "      <td>24.000000</td>\n",
       "      <td>3.000000</td>\n",
       "      <td>29.000000</td>\n",
       "      <td>0.688889</td>\n",
       "      <td>0.448276</td>\n",
       "      <td>0.646474</td>\n",
       "      <td>0.450764</td>\n",
       "      <td>NaN</td>\n",
       "      <td>18.0</td>\n",
       "    </tr>\n",
       "    <tr>\n",
       "      <th>1742</th>\n",
       "      <td>2022091113</td>\n",
       "      <td>1587</td>\n",
       "      <td>1</td>\n",
       "      <td>DAL</td>\n",
       "      <td>TB</td>\n",
       "      <td>15.117647</td>\n",
       "      <td>2.000000</td>\n",
       "      <td>6.705882</td>\n",
       "      <td>6.823529</td>\n",
       "      <td>8.705882</td>\n",
       "      <td>2.117647</td>\n",
       "      <td>10.823529</td>\n",
       "      <td>2.117647</td>\n",
       "      <td>32.764706</td>\n",
       "      <td>0.597780</td>\n",
       "      <td>0.675629</td>\n",
       "      <td>0.597780</td>\n",
       "      <td>0.675629</td>\n",
       "      <td>NaN</td>\n",
       "      <td>NaN</td>\n",
       "    </tr>\n",
       "    <tr>\n",
       "      <th>307</th>\n",
       "      <td>2022091101</td>\n",
       "      <td>1468</td>\n",
       "      <td>1</td>\n",
       "      <td>CLE</td>\n",
       "      <td>CAR</td>\n",
       "      <td>9.882353</td>\n",
       "      <td>1.411765</td>\n",
       "      <td>8.411765</td>\n",
       "      <td>4.235294</td>\n",
       "      <td>3.588235</td>\n",
       "      <td>1.823529</td>\n",
       "      <td>10.529412</td>\n",
       "      <td>0.352941</td>\n",
       "      <td>19.176471</td>\n",
       "      <td>0.538928</td>\n",
       "      <td>0.527068</td>\n",
       "      <td>0.538928</td>\n",
       "      <td>0.527068</td>\n",
       "      <td>NaN</td>\n",
       "      <td>NaN</td>\n",
       "    </tr>\n",
       "    <tr>\n",
       "      <th>5281</th>\n",
       "      <td>2022092511</td>\n",
       "      <td>1360</td>\n",
       "      <td>3</td>\n",
       "      <td>ATL</td>\n",
       "      <td>SEA</td>\n",
       "      <td>50.000000</td>\n",
       "      <td>33.000000</td>\n",
       "      <td>8.000000</td>\n",
       "      <td>15.000000</td>\n",
       "      <td>2.000000</td>\n",
       "      <td>3.000000</td>\n",
       "      <td>12.000000</td>\n",
       "      <td>19.000000</td>\n",
       "      <td>100.000000</td>\n",
       "      <td>0.549180</td>\n",
       "      <td>0.703125</td>\n",
       "      <td>0.502538</td>\n",
       "      <td>0.478879</td>\n",
       "      <td>NaN</td>\n",
       "      <td>NaN</td>\n",
       "    </tr>\n",
       "    <tr>\n",
       "      <th>9800</th>\n",
       "      <td>2022101602</td>\n",
       "      <td>475</td>\n",
       "      <td>6</td>\n",
       "      <td>NYJ</td>\n",
       "      <td>GB</td>\n",
       "      <td>116.000000</td>\n",
       "      <td>21.000000</td>\n",
       "      <td>41.000000</td>\n",
       "      <td>50.000000</td>\n",
       "      <td>11.000000</td>\n",
       "      <td>4.000000</td>\n",
       "      <td>48.000000</td>\n",
       "      <td>12.000000</td>\n",
       "      <td>198.000000</td>\n",
       "      <td>0.670732</td>\n",
       "      <td>0.540230</td>\n",
       "      <td>0.635240</td>\n",
       "      <td>0.551144</td>\n",
       "      <td>NaN</td>\n",
       "      <td>0.0</td>\n",
       "    </tr>\n",
       "  </tbody>\n",
       "</table>\n",
       "</div>"
      ],
      "text/plain": [
       "          gameId  playId  week possessionTeam defensiveTeam  cover_3_def  \\\n",
       "3171  2022091809    3451     2            CIN           DAL    13.000000   \n",
       "1742  2022091113    1587     1            DAL            TB    15.117647   \n",
       "307   2022091101    1468     1            CLE           CAR     9.882353   \n",
       "5281  2022092511    1360     3            ATL           SEA    50.000000   \n",
       "9800  2022101602     475     6            NYJ            GB   116.000000   \n",
       "\n",
       "      cover_6_def  cover_1_def  Quarters_def  Cover-2_def  Cover-0_def  \\\n",
       "3171     4.000000    23.000000      7.000000     5.000000     1.000000   \n",
       "1742     2.000000     6.705882      6.823529     8.705882     2.117647   \n",
       "307      1.411765     8.411765      4.235294     3.588235     1.823529   \n",
       "5281    33.000000     8.000000     15.000000     2.000000     3.000000   \n",
       "9800    21.000000    41.000000     50.000000    11.000000     4.000000   \n",
       "\n",
       "        Man_def  Other_def    Zone_def  pass_rate_off  pass_rate_def  \\\n",
       "3171  24.000000   3.000000   29.000000       0.688889       0.448276   \n",
       "1742  10.823529   2.117647   32.764706       0.597780       0.675629   \n",
       "307   10.529412   0.352941   19.176471       0.538928       0.527068   \n",
       "5281  12.000000  19.000000  100.000000       0.549180       0.703125   \n",
       "9800  48.000000  12.000000  198.000000       0.670732       0.540230   \n",
       "\n",
       "      off_xpass  def_xpass  off_snaps_lost  def_snaps_lost  \n",
       "3171   0.646474   0.450764             NaN            18.0  \n",
       "1742   0.597780   0.675629             NaN             NaN  \n",
       "307    0.538928   0.527068             NaN             NaN  \n",
       "5281   0.502538   0.478879             NaN             NaN  \n",
       "9800   0.635240   0.551144             NaN             0.0  "
      ]
     },
     "execution_count": 77,
     "metadata": {},
     "output_type": "execute_result"
    }
   ],
   "source": [
    "merged_base[merged_base.off_snaps_lost.isna()].sample(5)"
   ]
  },
  {
   "cell_type": "markdown",
   "metadata": {},
   "source": [
    "# Integrate FTN, injury data"
   ]
  },
  {
   "cell_type": "code",
   "execution_count": null,
   "metadata": {},
   "outputs": [],
   "source": []
  }
 ],
 "metadata": {
  "kernelspec": {
   "display_name": ".venv",
   "language": "python",
   "name": "python3"
  },
  "language_info": {
   "codemirror_mode": {
    "name": "ipython",
    "version": 3
   },
   "file_extension": ".py",
   "mimetype": "text/x-python",
   "name": "python",
   "nbconvert_exporter": "python",
   "pygments_lexer": "ipython3",
   "version": "3.9.15"
  }
 },
 "nbformat": 4,
 "nbformat_minor": 2
}
