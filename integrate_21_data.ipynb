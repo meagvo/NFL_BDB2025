{
 "cells": [
  {
   "cell_type": "code",
   "execution_count": 1,
   "metadata": {},
   "outputs": [],
   "source": [
    "import pandas as pd\n",
    "import os\n",
    "root_dir = os.getcwd()\n",
    "from data_loading import load_ftn, load_stadium_data, load_weather_data\n",
    "from data_cleaning import feature_engineering\n"
   ]
  },
  {
   "cell_type": "markdown",
   "metadata": {},
   "source": [
    "#### Load data"
   ]
  },
  {
   "cell_type": "code",
   "execution_count": 3,
   "metadata": {},
   "outputs": [
    {
     "name": "stdout",
     "output_type": "stream",
     "text": [
      "2022 done.\n",
      "Downcasting floats.\n"
     ]
    }
   ],
   "source": [
    "df_games=pd.read_csv('data/games.csv')\n",
    "df_games=pd.merge(df_games, load_stadium_data(),left_on='gameId', right_on='old_game_id', how='left')\n",
    "df_games=pd.merge(df_games, load_weather_data(),on='gameId', how='left')\n",
    "\n",
    "# feed play data thru feature_engineering process\n",
    "df_plays = feature_engineering(pd.read_csv('data/plays.csv'))\n",
    "\n",
    "# load ftn\n"
   ]
  },
  {
   "cell_type": "code",
   "execution_count": 4,
   "metadata": {},
   "outputs": [],
   "source": [
    "%%capture\n",
    "ftn_merged = load_ftn()"
   ]
  },
  {
   "cell_type": "markdown",
   "metadata": {},
   "source": [
    "Add external data, recover merged ID's from 'get_merge_pre' (i.e., product of half of aggregate_data)"
   ]
  },
  {
   "cell_type": "code",
   "execution_count": 5,
   "metadata": {},
   "outputs": [],
   "source": [
    "merged_id_df = pd.read_csv('data/merged_ids.csv')\n",
    "xp_fname = os.path.join(root_dir, \"data/team_xpass_ratios.csv\")\n",
    "pr_fname = os.path.join(root_dir, \"data/team_pass_rates.csv\")\n",
    "cf_fname = os.path.join(root_dir, \"data/coverages_faced.csv\")\n",
    "cu_fname = os.path.join(root_dir, 'data/coverages_used.csv')\n",
    "xp_df = pd.read_csv(xp_fname).drop(columns='Unnamed: 0')\n",
    "pr_df = pd.read_csv(pr_fname).drop(columns='Unnamed: 0')"
   ]
  },
  {
   "cell_type": "code",
   "execution_count": 6,
   "metadata": {},
   "outputs": [
    {
     "data": {
      "text/html": [
       "<div>\n",
       "<style scoped>\n",
       "    .dataframe tbody tr th:only-of-type {\n",
       "        vertical-align: middle;\n",
       "    }\n",
       "\n",
       "    .dataframe tbody tr th {\n",
       "        vertical-align: top;\n",
       "    }\n",
       "\n",
       "    .dataframe thead th {\n",
       "        text-align: right;\n",
       "    }\n",
       "</style>\n",
       "<table border=\"1\" class=\"dataframe\">\n",
       "  <thead>\n",
       "    <tr style=\"text-align: right;\">\n",
       "      <th></th>\n",
       "      <th>gameId</th>\n",
       "      <th>playId</th>\n",
       "      <th>off_xpass</th>\n",
       "      <th>def_xpass</th>\n",
       "    </tr>\n",
       "  </thead>\n",
       "  <tbody>\n",
       "    <tr>\n",
       "      <th>0</th>\n",
       "      <td>2022091110</td>\n",
       "      <td>347</td>\n",
       "      <td>0.58</td>\n",
       "      <td>0.58</td>\n",
       "    </tr>\n",
       "    <tr>\n",
       "      <th>1</th>\n",
       "      <td>2022091110</td>\n",
       "      <td>400</td>\n",
       "      <td>0.58</td>\n",
       "      <td>0.58</td>\n",
       "    </tr>\n",
       "    <tr>\n",
       "      <th>2</th>\n",
       "      <td>2022091110</td>\n",
       "      <td>729</td>\n",
       "      <td>0.58</td>\n",
       "      <td>0.58</td>\n",
       "    </tr>\n",
       "  </tbody>\n",
       "</table>\n",
       "</div>"
      ],
      "text/plain": [
       "       gameId  playId  off_xpass  def_xpass\n",
       "0  2022091110     347       0.58       0.58\n",
       "1  2022091110     400       0.58       0.58\n",
       "2  2022091110     729       0.58       0.58"
      ]
     },
     "execution_count": 6,
     "metadata": {},
     "output_type": "execute_result"
    }
   ],
   "source": [
    "xp_df.head(3)"
   ]
  },
  {
   "cell_type": "code",
   "execution_count": 7,
   "metadata": {},
   "outputs": [
    {
     "data": {
      "text/plain": [
       "gameId       0\n",
       "playId       0\n",
       "off_xpass    0\n",
       "def_xpass    0\n",
       "dtype: int64"
      ]
     },
     "execution_count": 7,
     "metadata": {},
     "output_type": "execute_result"
    }
   ],
   "source": [
    "xp_df.isna().sum()"
   ]
  },
  {
   "cell_type": "markdown",
   "metadata": {},
   "source": [
    "#### Merge in week, team info to our base dataframe"
   ]
  },
  {
   "cell_type": "code",
   "execution_count": 8,
   "metadata": {},
   "outputs": [],
   "source": [
    "# add week info\n",
    "merged_base = merged_id_df.merge(df_games[['gameId','week']].drop_duplicates(),how='left',on=['gameId'])\n",
    "\n",
    "# add in team info\n",
    "merged_base = merged_base.merge(df_plays[['gameId','playId',\n",
    "                                          'possessionTeam','defensiveTeam']].drop_duplicates(),\n",
    "                                how='left',on=['gameId','playId'])"
   ]
  },
  {
   "cell_type": "code",
   "execution_count": 36,
   "metadata": {},
   "outputs": [
    {
     "data": {
      "text/html": [
       "<div>\n",
       "<style scoped>\n",
       "    .dataframe tbody tr th:only-of-type {\n",
       "        vertical-align: middle;\n",
       "    }\n",
       "\n",
       "    .dataframe tbody tr th {\n",
       "        vertical-align: top;\n",
       "    }\n",
       "\n",
       "    .dataframe thead th {\n",
       "        text-align: right;\n",
       "    }\n",
       "</style>\n",
       "<table border=\"1\" class=\"dataframe\">\n",
       "  <thead>\n",
       "    <tr style=\"text-align: right;\">\n",
       "      <th></th>\n",
       "      <th>gameId</th>\n",
       "      <th>playId</th>\n",
       "      <th>week</th>\n",
       "      <th>possessionTeam</th>\n",
       "      <th>defensiveTeam</th>\n",
       "    </tr>\n",
       "  </thead>\n",
       "  <tbody>\n",
       "    <tr>\n",
       "      <th>0</th>\n",
       "      <td>2022090800</td>\n",
       "      <td>56</td>\n",
       "      <td>1</td>\n",
       "      <td>BUF</td>\n",
       "      <td>LA</td>\n",
       "    </tr>\n",
       "    <tr>\n",
       "      <th>1</th>\n",
       "      <td>2022090800</td>\n",
       "      <td>80</td>\n",
       "      <td>1</td>\n",
       "      <td>BUF</td>\n",
       "      <td>LA</td>\n",
       "    </tr>\n",
       "    <tr>\n",
       "      <th>2</th>\n",
       "      <td>2022090800</td>\n",
       "      <td>101</td>\n",
       "      <td>1</td>\n",
       "      <td>BUF</td>\n",
       "      <td>LA</td>\n",
       "    </tr>\n",
       "  </tbody>\n",
       "</table>\n",
       "</div>"
      ],
      "text/plain": [
       "       gameId  playId  week possessionTeam defensiveTeam\n",
       "0  2022090800      56     1            BUF            LA\n",
       "1  2022090800      80     1            BUF            LA\n",
       "2  2022090800     101     1            BUF            LA"
      ]
     },
     "execution_count": 36,
     "metadata": {},
     "output_type": "execute_result"
    }
   ],
   "source": [
    "merged_base.head(3)"
   ]
  },
  {
   "cell_type": "markdown",
   "metadata": {},
   "source": [
    "#### Define ID's for each segment of the pre- and post- week 1 split:"
   ]
  },
  {
   "cell_type": "code",
   "execution_count": 10,
   "metadata": {},
   "outputs": [],
   "source": [
    "w1_ids = merged_base[merged_base['week'] == 1][['gameId','playId','week','possessionTeam','defensiveTeam']]\n",
    "w2_on_ids = merged_base[merged_base['week'] > 1][['gameId','playId','week','possessionTeam','defensiveTeam']]"
   ]
  },
  {
   "cell_type": "markdown",
   "metadata": {},
   "source": [
    "#### Import 2021 data"
   ]
  },
  {
   "cell_type": "code",
   "execution_count": 11,
   "metadata": {},
   "outputs": [],
   "source": [
    "cov_21 = pd.read_csv('data_21/cov_21.csv')\n",
    "team_pr_21 = pd.read_csv('data_21/team_pr_21.csv')"
   ]
  },
  {
   "cell_type": "markdown",
   "metadata": {},
   "source": [
    "# Calculate team pass rates\n",
    "\n",
    "Note: we use team pass rate from last year as xpass for week 1 (due to 2021 data incompleteness)"
   ]
  },
  {
   "cell_type": "code",
   "execution_count": 18,
   "metadata": {},
   "outputs": [
    {
     "data": {
      "text/html": [
       "<div>\n",
       "<style scoped>\n",
       "    .dataframe tbody tr th:only-of-type {\n",
       "        vertical-align: middle;\n",
       "    }\n",
       "\n",
       "    .dataframe tbody tr th {\n",
       "        vertical-align: top;\n",
       "    }\n",
       "\n",
       "    .dataframe thead th {\n",
       "        text-align: right;\n",
       "    }\n",
       "</style>\n",
       "<table border=\"1\" class=\"dataframe\">\n",
       "  <thead>\n",
       "    <tr style=\"text-align: right;\">\n",
       "      <th></th>\n",
       "      <th>possessionTeam</th>\n",
       "      <th>pass_rate_def</th>\n",
       "      <th>pass_rate_off</th>\n",
       "    </tr>\n",
       "  </thead>\n",
       "  <tbody>\n",
       "    <tr>\n",
       "      <th>0</th>\n",
       "      <td>ARI</td>\n",
       "      <td>0.573372</td>\n",
       "      <td>0.573464</td>\n",
       "    </tr>\n",
       "  </tbody>\n",
       "</table>\n",
       "</div>"
      ],
      "text/plain": [
       "  possessionTeam  pass_rate_def  pass_rate_off\n",
       "0            ARI       0.573372       0.573464"
      ]
     },
     "execution_count": 18,
     "metadata": {},
     "output_type": "execute_result"
    }
   ],
   "source": [
    "team_pr_21.head(1)"
   ]
  },
  {
   "cell_type": "code",
   "execution_count": 19,
   "metadata": {},
   "outputs": [
    {
     "data": {
      "text/html": [
       "<div>\n",
       "<style scoped>\n",
       "    .dataframe tbody tr th:only-of-type {\n",
       "        vertical-align: middle;\n",
       "    }\n",
       "\n",
       "    .dataframe tbody tr th {\n",
       "        vertical-align: top;\n",
       "    }\n",
       "\n",
       "    .dataframe thead th {\n",
       "        text-align: right;\n",
       "    }\n",
       "</style>\n",
       "<table border=\"1\" class=\"dataframe\">\n",
       "  <thead>\n",
       "    <tr style=\"text-align: right;\">\n",
       "      <th></th>\n",
       "      <th>gameId</th>\n",
       "      <th>playId</th>\n",
       "      <th>week</th>\n",
       "      <th>possessionTeam</th>\n",
       "      <th>defensiveTeam</th>\n",
       "    </tr>\n",
       "  </thead>\n",
       "  <tbody>\n",
       "    <tr>\n",
       "      <th>0</th>\n",
       "      <td>2022090800</td>\n",
       "      <td>56</td>\n",
       "      <td>1</td>\n",
       "      <td>BUF</td>\n",
       "      <td>LA</td>\n",
       "    </tr>\n",
       "  </tbody>\n",
       "</table>\n",
       "</div>"
      ],
      "text/plain": [
       "       gameId  playId  week possessionTeam defensiveTeam\n",
       "0  2022090800      56     1            BUF            LA"
      ]
     },
     "execution_count": 19,
     "metadata": {},
     "output_type": "execute_result"
    }
   ],
   "source": [
    "w1_ids.head(1)"
   ]
  },
  {
   "cell_type": "markdown",
   "metadata": {},
   "source": [
    "#### Merge in '21 pass ratios to '22 week one df\n",
    "\n",
    "We do offensive and defensive rates separately"
   ]
  },
  {
   "cell_type": "code",
   "execution_count": 20,
   "metadata": {},
   "outputs": [],
   "source": [
    "# merge defensive pass rates for '21 into week 1\n",
    "w1_pr = w1_ids.merge(team_pr_21.drop(columns=['pass_rate_off']).rename(columns={'possessionTeam':'defensiveTeam'}),\n",
    "                     on='defensiveTeam',how='left')\n",
    "\n",
    "# offensive\n",
    "w1_pr = w1_pr.merge(team_pr_21.drop(columns=['pass_rate_def']),on='possessionTeam',how='left')"
   ]
  },
  {
   "cell_type": "markdown",
   "metadata": {},
   "source": [
    "We bake in xpass here because it's just going to replicate pass_rate_off/def for week 1"
   ]
  },
  {
   "cell_type": "code",
   "execution_count": 24,
   "metadata": {},
   "outputs": [],
   "source": [
    "w1_pr['off_xpass'] = w1_pr['pass_rate_off'].copy()\n",
    "w1_pr['def_xpass'] = w1_pr['pass_rate_def'].copy()"
   ]
  },
  {
   "cell_type": "code",
   "execution_count": 25,
   "metadata": {},
   "outputs": [
    {
     "data": {
      "text/html": [
       "<div>\n",
       "<style scoped>\n",
       "    .dataframe tbody tr th:only-of-type {\n",
       "        vertical-align: middle;\n",
       "    }\n",
       "\n",
       "    .dataframe tbody tr th {\n",
       "        vertical-align: top;\n",
       "    }\n",
       "\n",
       "    .dataframe thead th {\n",
       "        text-align: right;\n",
       "    }\n",
       "</style>\n",
       "<table border=\"1\" class=\"dataframe\">\n",
       "  <thead>\n",
       "    <tr style=\"text-align: right;\">\n",
       "      <th></th>\n",
       "      <th>gameId</th>\n",
       "      <th>playId</th>\n",
       "      <th>week</th>\n",
       "      <th>possessionTeam</th>\n",
       "      <th>defensiveTeam</th>\n",
       "      <th>pass_rate_def</th>\n",
       "      <th>pass_rate_off</th>\n",
       "      <th>off_xpass</th>\n",
       "      <th>def_xpass</th>\n",
       "    </tr>\n",
       "  </thead>\n",
       "  <tbody>\n",
       "    <tr>\n",
       "      <th>0</th>\n",
       "      <td>2022090800</td>\n",
       "      <td>56</td>\n",
       "      <td>1</td>\n",
       "      <td>BUF</td>\n",
       "      <td>LA</td>\n",
       "      <td>0.615627</td>\n",
       "      <td>0.619126</td>\n",
       "      <td>0.619126</td>\n",
       "      <td>0.615627</td>\n",
       "    </tr>\n",
       "  </tbody>\n",
       "</table>\n",
       "</div>"
      ],
      "text/plain": [
       "       gameId  playId  week possessionTeam defensiveTeam  pass_rate_def  \\\n",
       "0  2022090800      56     1            BUF            LA       0.615627   \n",
       "\n",
       "   pass_rate_off  off_xpass  def_xpass  \n",
       "0       0.619126   0.619126   0.615627  "
      ]
     },
     "execution_count": 25,
     "metadata": {},
     "output_type": "execute_result"
    }
   ],
   "source": [
    "w1_pr.head(1)"
   ]
  },
  {
   "cell_type": "markdown",
   "metadata": {},
   "source": [
    "# Calculate coverage data\n",
    "\n",
    "Here we just use defensive rates for simplicity, can revisit later"
   ]
  },
  {
   "cell_type": "code",
   "execution_count": 27,
   "metadata": {},
   "outputs": [],
   "source": [
    "# subset to only defensive features, rename features\n",
    "cov_def = cov_21[[x for x in cov_21.columns if '_off' not in x]].rename(columns={'possessionTeam':'defensiveTeam'})\n",
    "cov_def = cov_def.rename(columns={'cover_2_def':'Cover-2_def','cover_0_def':'Cover-0_def'})\n",
    "\n",
    "#merge into running dataframe\n",
    "w1_merged = w1_pr.merge(cov_def,how='left',on='defensiveTeam')"
   ]
  },
  {
   "cell_type": "code",
   "execution_count": 31,
   "metadata": {},
   "outputs": [
    {
     "data": {
      "text/html": [
       "<div>\n",
       "<style scoped>\n",
       "    .dataframe tbody tr th:only-of-type {\n",
       "        vertical-align: middle;\n",
       "    }\n",
       "\n",
       "    .dataframe tbody tr th {\n",
       "        vertical-align: top;\n",
       "    }\n",
       "\n",
       "    .dataframe thead th {\n",
       "        text-align: right;\n",
       "    }\n",
       "</style>\n",
       "<table border=\"1\" class=\"dataframe\">\n",
       "  <thead>\n",
       "    <tr style=\"text-align: right;\">\n",
       "      <th></th>\n",
       "      <th>gameId</th>\n",
       "      <th>playId</th>\n",
       "      <th>week</th>\n",
       "      <th>possessionTeam</th>\n",
       "      <th>defensiveTeam</th>\n",
       "      <th>pass_rate_def</th>\n",
       "      <th>pass_rate_off</th>\n",
       "      <th>off_xpass</th>\n",
       "      <th>def_xpass</th>\n",
       "      <th>Man_def</th>\n",
       "      <th>Zone_def</th>\n",
       "      <th>Cover-0_def</th>\n",
       "      <th>cover_1_def</th>\n",
       "      <th>Cover-2_def</th>\n",
       "      <th>cover_3_def</th>\n",
       "      <th>Quarters_def</th>\n",
       "      <th>cover_6_def</th>\n",
       "      <th>Other_def</th>\n",
       "    </tr>\n",
       "  </thead>\n",
       "  <tbody>\n",
       "    <tr>\n",
       "      <th>0</th>\n",
       "      <td>2022090800</td>\n",
       "      <td>56</td>\n",
       "      <td>1</td>\n",
       "      <td>BUF</td>\n",
       "      <td>LA</td>\n",
       "      <td>0.615627</td>\n",
       "      <td>0.619126</td>\n",
       "      <td>0.619126</td>\n",
       "      <td>0.615627</td>\n",
       "      <td>7.117647</td>\n",
       "      <td>37.117647</td>\n",
       "      <td>0.705882</td>\n",
       "      <td>6.352941</td>\n",
       "      <td>0.647059</td>\n",
       "      <td>20.823529</td>\n",
       "      <td>7.647059</td>\n",
       "      <td>7.705882</td>\n",
       "      <td>0.352941</td>\n",
       "    </tr>\n",
       "  </tbody>\n",
       "</table>\n",
       "</div>"
      ],
      "text/plain": [
       "       gameId  playId  week possessionTeam defensiveTeam  pass_rate_def  \\\n",
       "0  2022090800      56     1            BUF            LA       0.615627   \n",
       "\n",
       "   pass_rate_off  off_xpass  def_xpass   Man_def   Zone_def  Cover-0_def  \\\n",
       "0       0.619126   0.619126   0.615627  7.117647  37.117647     0.705882   \n",
       "\n",
       "   cover_1_def  Cover-2_def  cover_3_def  Quarters_def  cover_6_def  Other_def  \n",
       "0     6.352941     0.647059    20.823529      7.647059     7.705882   0.352941  "
      ]
     },
     "execution_count": 31,
     "metadata": {},
     "output_type": "execute_result"
    }
   ],
   "source": [
    "w1_merged.head(1)"
   ]
  },
  {
   "cell_type": "markdown",
   "metadata": {},
   "source": [
    "## Integrate '22 coverage data (i.e., for week 2 on)"
   ]
  },
  {
   "cell_type": "code",
   "execution_count": 32,
   "metadata": {},
   "outputs": [
    {
     "data": {
      "text/html": [
       "<div>\n",
       "<style scoped>\n",
       "    .dataframe tbody tr th:only-of-type {\n",
       "        vertical-align: middle;\n",
       "    }\n",
       "\n",
       "    .dataframe tbody tr th {\n",
       "        vertical-align: top;\n",
       "    }\n",
       "\n",
       "    .dataframe thead th {\n",
       "        text-align: right;\n",
       "    }\n",
       "</style>\n",
       "<table border=\"1\" class=\"dataframe\">\n",
       "  <thead>\n",
       "    <tr style=\"text-align: right;\">\n",
       "      <th></th>\n",
       "      <th>gameId</th>\n",
       "      <th>playId</th>\n",
       "      <th>week</th>\n",
       "      <th>possessionTeam</th>\n",
       "      <th>defensiveTeam</th>\n",
       "    </tr>\n",
       "  </thead>\n",
       "  <tbody>\n",
       "    <tr>\n",
       "      <th>1950</th>\n",
       "      <td>2022091500</td>\n",
       "      <td>55</td>\n",
       "      <td>2</td>\n",
       "      <td>KC</td>\n",
       "      <td>LAC</td>\n",
       "    </tr>\n",
       "  </tbody>\n",
       "</table>\n",
       "</div>"
      ],
      "text/plain": [
       "          gameId  playId  week possessionTeam defensiveTeam\n",
       "1950  2022091500      55     2             KC           LAC"
      ]
     },
     "execution_count": 32,
     "metadata": {},
     "output_type": "execute_result"
    }
   ],
   "source": [
    "w2_on_ids.head(1)"
   ]
  },
  {
   "cell_type": "markdown",
   "metadata": {},
   "source": [
    "Load coverage data, merge:"
   ]
  },
  {
   "cell_type": "code",
   "execution_count": 33,
   "metadata": {},
   "outputs": [
    {
     "data": {
      "text/html": [
       "<div>\n",
       "<style scoped>\n",
       "    .dataframe tbody tr th:only-of-type {\n",
       "        vertical-align: middle;\n",
       "    }\n",
       "\n",
       "    .dataframe tbody tr th {\n",
       "        vertical-align: top;\n",
       "    }\n",
       "\n",
       "    .dataframe thead th {\n",
       "        text-align: right;\n",
       "    }\n",
       "</style>\n",
       "<table border=\"1\" class=\"dataframe\">\n",
       "  <thead>\n",
       "    <tr style=\"text-align: right;\">\n",
       "      <th></th>\n",
       "      <th>week</th>\n",
       "      <th>cover_3_def</th>\n",
       "      <th>cover_6_def</th>\n",
       "      <th>cover_1_def</th>\n",
       "      <th>Quarters_def</th>\n",
       "      <th>Cover-2_def</th>\n",
       "      <th>Cover-0_def</th>\n",
       "      <th>Man_def</th>\n",
       "      <th>Other_def</th>\n",
       "      <th>Zone_def</th>\n",
       "      <th>defensiveTeam</th>\n",
       "    </tr>\n",
       "  </thead>\n",
       "  <tbody>\n",
       "    <tr>\n",
       "      <th>0</th>\n",
       "      <td>2</td>\n",
       "      <td>21.0</td>\n",
       "      <td>2.0</td>\n",
       "      <td>21.0</td>\n",
       "      <td>7.0</td>\n",
       "      <td>4.0</td>\n",
       "      <td>3.0</td>\n",
       "      <td>26.0</td>\n",
       "      <td>4.0</td>\n",
       "      <td>34.0</td>\n",
       "      <td>ARI</td>\n",
       "    </tr>\n",
       "  </tbody>\n",
       "</table>\n",
       "</div>"
      ],
      "text/plain": [
       "   week  cover_3_def  cover_6_def  cover_1_def  Quarters_def  Cover-2_def  \\\n",
       "0     2         21.0          2.0         21.0           7.0          4.0   \n",
       "\n",
       "   Cover-0_def  Man_def  Other_def  Zone_def defensiveTeam  \n",
       "0          3.0     26.0        4.0      34.0           ARI  "
      ]
     },
     "execution_count": 33,
     "metadata": {},
     "output_type": "execute_result"
    }
   ],
   "source": [
    "cu_df = pd.read_csv('data/coverages_used.csv')\n",
    "cu_df['week'] = cu_df['week'].astype(int)\n",
    "cu_df.head(1)"
   ]
  },
  {
   "cell_type": "code",
   "execution_count": 34,
   "metadata": {},
   "outputs": [],
   "source": [
    "cu_w2_on = w2_on_ids.merge(cu_df,how='left',left_on=['defensiveTeam','week'],right_on=['defensiveTeam','week'])"
   ]
  },
  {
   "cell_type": "code",
   "execution_count": 35,
   "metadata": {},
   "outputs": [
    {
     "data": {
      "text/html": [
       "<div>\n",
       "<style scoped>\n",
       "    .dataframe tbody tr th:only-of-type {\n",
       "        vertical-align: middle;\n",
       "    }\n",
       "\n",
       "    .dataframe tbody tr th {\n",
       "        vertical-align: top;\n",
       "    }\n",
       "\n",
       "    .dataframe thead th {\n",
       "        text-align: right;\n",
       "    }\n",
       "</style>\n",
       "<table border=\"1\" class=\"dataframe\">\n",
       "  <thead>\n",
       "    <tr style=\"text-align: right;\">\n",
       "      <th></th>\n",
       "      <th>gameId</th>\n",
       "      <th>playId</th>\n",
       "      <th>week</th>\n",
       "      <th>possessionTeam</th>\n",
       "      <th>defensiveTeam</th>\n",
       "      <th>cover_3_def</th>\n",
       "      <th>cover_6_def</th>\n",
       "      <th>cover_1_def</th>\n",
       "      <th>Quarters_def</th>\n",
       "      <th>Cover-2_def</th>\n",
       "      <th>Cover-0_def</th>\n",
       "      <th>Man_def</th>\n",
       "      <th>Other_def</th>\n",
       "      <th>Zone_def</th>\n",
       "    </tr>\n",
       "  </thead>\n",
       "  <tbody>\n",
       "    <tr>\n",
       "      <th>0</th>\n",
       "      <td>2022091500</td>\n",
       "      <td>55</td>\n",
       "      <td>2</td>\n",
       "      <td>KC</td>\n",
       "      <td>LAC</td>\n",
       "      <td>20.0</td>\n",
       "      <td>8.0</td>\n",
       "      <td>9.0</td>\n",
       "      <td>3.0</td>\n",
       "      <td>8.0</td>\n",
       "      <td>1.0</td>\n",
       "      <td>10.0</td>\n",
       "      <td>6.0</td>\n",
       "      <td>39.0</td>\n",
       "    </tr>\n",
       "  </tbody>\n",
       "</table>\n",
       "</div>"
      ],
      "text/plain": [
       "       gameId  playId  week possessionTeam defensiveTeam  cover_3_def  \\\n",
       "0  2022091500      55     2             KC           LAC         20.0   \n",
       "\n",
       "   cover_6_def  cover_1_def  Quarters_def  Cover-2_def  Cover-0_def  Man_def  \\\n",
       "0          8.0          9.0           3.0          8.0          1.0     10.0   \n",
       "\n",
       "   Other_def  Zone_def  \n",
       "0        6.0      39.0  "
      ]
     },
     "execution_count": 35,
     "metadata": {},
     "output_type": "execute_result"
    }
   ],
   "source": [
    "cu_w2_on.head(1)"
   ]
  },
  {
   "cell_type": "markdown",
   "metadata": {},
   "source": [
    "### Add pass ratio, expected pass data"
   ]
  },
  {
   "cell_type": "code",
   "execution_count": 37,
   "metadata": {},
   "outputs": [
    {
     "data": {
      "text/html": [
       "<div>\n",
       "<style scoped>\n",
       "    .dataframe tbody tr th:only-of-type {\n",
       "        vertical-align: middle;\n",
       "    }\n",
       "\n",
       "    .dataframe tbody tr th {\n",
       "        vertical-align: top;\n",
       "    }\n",
       "\n",
       "    .dataframe thead th {\n",
       "        text-align: right;\n",
       "    }\n",
       "</style>\n",
       "<table border=\"1\" class=\"dataframe\">\n",
       "  <thead>\n",
       "    <tr style=\"text-align: right;\">\n",
       "      <th></th>\n",
       "      <th>gameId</th>\n",
       "      <th>playId</th>\n",
       "      <th>week</th>\n",
       "      <th>possessionTeam</th>\n",
       "      <th>defensiveTeam</th>\n",
       "      <th>cover_3_def</th>\n",
       "      <th>cover_6_def</th>\n",
       "      <th>cover_1_def</th>\n",
       "      <th>Quarters_def</th>\n",
       "      <th>Cover-2_def</th>\n",
       "      <th>Cover-0_def</th>\n",
       "      <th>Man_def</th>\n",
       "      <th>Other_def</th>\n",
       "      <th>Zone_def</th>\n",
       "      <th>pass_rate_off</th>\n",
       "      <th>pass_rate_def</th>\n",
       "      <th>off_xpass</th>\n",
       "      <th>def_xpass</th>\n",
       "    </tr>\n",
       "  </thead>\n",
       "  <tbody>\n",
       "    <tr>\n",
       "      <th>0</th>\n",
       "      <td>2022091500</td>\n",
       "      <td>55</td>\n",
       "      <td>2</td>\n",
       "      <td>KC</td>\n",
       "      <td>LAC</td>\n",
       "      <td>20.0</td>\n",
       "      <td>8.0</td>\n",
       "      <td>9.0</td>\n",
       "      <td>3.0</td>\n",
       "      <td>8.0</td>\n",
       "      <td>1.0</td>\n",
       "      <td>10.0</td>\n",
       "      <td>6.0</td>\n",
       "      <td>39.0</td>\n",
       "      <td>0.625</td>\n",
       "      <td>0.763636</td>\n",
       "      <td>0.686433</td>\n",
       "      <td>0.738111</td>\n",
       "    </tr>\n",
       "    <tr>\n",
       "      <th>1</th>\n",
       "      <td>2022091500</td>\n",
       "      <td>76</td>\n",
       "      <td>2</td>\n",
       "      <td>KC</td>\n",
       "      <td>LAC</td>\n",
       "      <td>20.0</td>\n",
       "      <td>8.0</td>\n",
       "      <td>9.0</td>\n",
       "      <td>3.0</td>\n",
       "      <td>8.0</td>\n",
       "      <td>1.0</td>\n",
       "      <td>10.0</td>\n",
       "      <td>6.0</td>\n",
       "      <td>39.0</td>\n",
       "      <td>0.625</td>\n",
       "      <td>0.763636</td>\n",
       "      <td>0.658727</td>\n",
       "      <td>0.738111</td>\n",
       "    </tr>\n",
       "  </tbody>\n",
       "</table>\n",
       "</div>"
      ],
      "text/plain": [
       "       gameId  playId  week possessionTeam defensiveTeam  cover_3_def  \\\n",
       "0  2022091500      55     2             KC           LAC         20.0   \n",
       "1  2022091500      76     2             KC           LAC         20.0   \n",
       "\n",
       "   cover_6_def  cover_1_def  Quarters_def  Cover-2_def  Cover-0_def  Man_def  \\\n",
       "0          8.0          9.0           3.0          8.0          1.0     10.0   \n",
       "1          8.0          9.0           3.0          8.0          1.0     10.0   \n",
       "\n",
       "   Other_def  Zone_def  pass_rate_off  pass_rate_def  off_xpass  def_xpass  \n",
       "0        6.0      39.0          0.625       0.763636   0.686433   0.738111  \n",
       "1        6.0      39.0          0.625       0.763636   0.658727   0.738111  "
      ]
     },
     "execution_count": 37,
     "metadata": {},
     "output_type": "execute_result"
    }
   ],
   "source": [
    "df_w2_on = cu_w2_on.merge(pr_df,how='left',on=['gameId','playId'])\n",
    "df_w2_on = df_w2_on.merge(xp_df,how='left',on=['gameId','playId'])\n",
    "\n",
    "df_w2_on.head(2)"
   ]
  },
  {
   "cell_type": "code",
   "execution_count": 38,
   "metadata": {},
   "outputs": [],
   "source": [
    "w1_merged = w1_merged[df_w2_on.columns]"
   ]
  },
  {
   "cell_type": "code",
   "execution_count": 39,
   "metadata": {},
   "outputs": [
    {
     "data": {
      "text/plain": [
       "2"
      ]
     },
     "execution_count": 39,
     "metadata": {},
     "output_type": "execute_result"
    }
   ],
   "source": [
    "df_w2_on.week.min()"
   ]
  },
  {
   "cell_type": "markdown",
   "metadata": {},
   "source": [
    "## Integrate week 1-imputed, week 2 onward data"
   ]
  },
  {
   "cell_type": "code",
   "execution_count": 57,
   "metadata": {},
   "outputs": [],
   "source": [
    "merged_base = pd.concat([w1_merged,df_w2_on],axis=0)"
   ]
  },
  {
   "cell_type": "code",
   "execution_count": 58,
   "metadata": {},
   "outputs": [
    {
     "data": {
      "text/html": [
       "<div>\n",
       "<style scoped>\n",
       "    .dataframe tbody tr th:only-of-type {\n",
       "        vertical-align: middle;\n",
       "    }\n",
       "\n",
       "    .dataframe tbody tr th {\n",
       "        vertical-align: top;\n",
       "    }\n",
       "\n",
       "    .dataframe thead th {\n",
       "        text-align: right;\n",
       "    }\n",
       "</style>\n",
       "<table border=\"1\" class=\"dataframe\">\n",
       "  <thead>\n",
       "    <tr style=\"text-align: right;\">\n",
       "      <th></th>\n",
       "      <th>gameId</th>\n",
       "      <th>playId</th>\n",
       "      <th>week</th>\n",
       "      <th>possessionTeam</th>\n",
       "      <th>defensiveTeam</th>\n",
       "      <th>cover_3_def</th>\n",
       "      <th>cover_6_def</th>\n",
       "      <th>cover_1_def</th>\n",
       "      <th>Quarters_def</th>\n",
       "      <th>Cover-2_def</th>\n",
       "      <th>Cover-0_def</th>\n",
       "      <th>Man_def</th>\n",
       "      <th>Other_def</th>\n",
       "      <th>Zone_def</th>\n",
       "      <th>pass_rate_off</th>\n",
       "      <th>pass_rate_def</th>\n",
       "      <th>off_xpass</th>\n",
       "      <th>def_xpass</th>\n",
       "    </tr>\n",
       "  </thead>\n",
       "  <tbody>\n",
       "    <tr>\n",
       "      <th>10832</th>\n",
       "      <td>2022102400</td>\n",
       "      <td>3649</td>\n",
       "      <td>7</td>\n",
       "      <td>CHI</td>\n",
       "      <td>NE</td>\n",
       "      <td>139.0</td>\n",
       "      <td>7.0</td>\n",
       "      <td>142.0</td>\n",
       "      <td>29.0</td>\n",
       "      <td>27.0</td>\n",
       "      <td>10.0</td>\n",
       "      <td>152.0</td>\n",
       "      <td>10.0</td>\n",
       "      <td>202.0</td>\n",
       "      <td>0.504854</td>\n",
       "      <td>0.615176</td>\n",
       "      <td>0.463211</td>\n",
       "      <td>0.574627</td>\n",
       "    </tr>\n",
       "    <tr>\n",
       "      <th>11956</th>\n",
       "      <td>2022103008</td>\n",
       "      <td>1350</td>\n",
       "      <td>8</td>\n",
       "      <td>PIT</td>\n",
       "      <td>PHI</td>\n",
       "      <td>131.0</td>\n",
       "      <td>26.0</td>\n",
       "      <td>73.0</td>\n",
       "      <td>83.0</td>\n",
       "      <td>20.0</td>\n",
       "      <td>18.0</td>\n",
       "      <td>92.0</td>\n",
       "      <td>8.0</td>\n",
       "      <td>260.0</td>\n",
       "      <td>0.651332</td>\n",
       "      <td>0.662983</td>\n",
       "      <td>0.649748</td>\n",
       "      <td>0.665599</td>\n",
       "    </tr>\n",
       "    <tr>\n",
       "      <th>8413</th>\n",
       "      <td>2022101606</td>\n",
       "      <td>3027</td>\n",
       "      <td>6</td>\n",
       "      <td>NYG</td>\n",
       "      <td>BAL</td>\n",
       "      <td>96.0</td>\n",
       "      <td>39.0</td>\n",
       "      <td>59.0</td>\n",
       "      <td>49.0</td>\n",
       "      <td>32.0</td>\n",
       "      <td>18.0</td>\n",
       "      <td>79.0</td>\n",
       "      <td>17.0</td>\n",
       "      <td>216.0</td>\n",
       "      <td>0.563380</td>\n",
       "      <td>0.707006</td>\n",
       "      <td>0.549100</td>\n",
       "      <td>0.664381</td>\n",
       "    </tr>\n",
       "  </tbody>\n",
       "</table>\n",
       "</div>"
      ],
      "text/plain": [
       "           gameId  playId  week possessionTeam defensiveTeam  cover_3_def  \\\n",
       "10832  2022102400    3649     7            CHI            NE        139.0   \n",
       "11956  2022103008    1350     8            PIT           PHI        131.0   \n",
       "8413   2022101606    3027     6            NYG           BAL         96.0   \n",
       "\n",
       "       cover_6_def  cover_1_def  Quarters_def  Cover-2_def  Cover-0_def  \\\n",
       "10832          7.0        142.0          29.0         27.0         10.0   \n",
       "11956         26.0         73.0          83.0         20.0         18.0   \n",
       "8413          39.0         59.0          49.0         32.0         18.0   \n",
       "\n",
       "       Man_def  Other_def  Zone_def  pass_rate_off  pass_rate_def  off_xpass  \\\n",
       "10832    152.0       10.0     202.0       0.504854       0.615176   0.463211   \n",
       "11956     92.0        8.0     260.0       0.651332       0.662983   0.649748   \n",
       "8413      79.0       17.0     216.0       0.563380       0.707006   0.549100   \n",
       "\n",
       "       def_xpass  \n",
       "10832   0.574627  \n",
       "11956   0.665599  \n",
       "8413    0.664381  "
      ]
     },
     "execution_count": 58,
     "metadata": {},
     "output_type": "execute_result"
    }
   ],
   "source": [
    "merged_base.sample(3)"
   ]
  },
  {
   "cell_type": "markdown",
   "metadata": {},
   "source": [
    "Get cols final for everything to line up later (sans off. coverage feats)"
   ]
  },
  {
   "cell_type": "code",
   "execution_count": 59,
   "metadata": {},
   "outputs": [],
   "source": [
    "cols_final = ['gameId', 'playId', 'n_offense_backfield', 'n_defense_box',\n",
    "       'is_no_huddle', 'is_motion', 'pass_rate_off', 'pass_rate_def',\n",
    "       'off_xpass', 'def_xpass', 'week', 'possessionTeam', 'defensiveTeam',\n",
    "       'cover_3_def', 'cover_6_def', 'cover_1_def', 'Quarters_def',\n",
    "       'Cover-2_def', 'Cover-0_def', 'Man_def', 'Other_def', 'Zone_def',\n",
    "       'off_snaps_lost', 'def_snaps_lost']"
   ]
  },
  {
   "cell_type": "code",
   "execution_count": 60,
   "metadata": {},
   "outputs": [],
   "source": [
    "inj_fname = os.path.join(root_dir, 'data/snaps_lost_injury.csv')\n",
    "inj_df = pd.read_csv(inj_fname)"
   ]
  },
  {
   "cell_type": "code",
   "execution_count": 61,
   "metadata": {},
   "outputs": [
    {
     "data": {
      "text/html": [
       "<div>\n",
       "<style scoped>\n",
       "    .dataframe tbody tr th:only-of-type {\n",
       "        vertical-align: middle;\n",
       "    }\n",
       "\n",
       "    .dataframe tbody tr th {\n",
       "        vertical-align: top;\n",
       "    }\n",
       "\n",
       "    .dataframe thead th {\n",
       "        text-align: right;\n",
       "    }\n",
       "</style>\n",
       "<table border=\"1\" class=\"dataframe\">\n",
       "  <thead>\n",
       "    <tr style=\"text-align: right;\">\n",
       "      <th></th>\n",
       "      <th>team</th>\n",
       "      <th>week</th>\n",
       "      <th>off_snaps_lost</th>\n",
       "      <th>def_snaps_lost</th>\n",
       "    </tr>\n",
       "  </thead>\n",
       "  <tbody>\n",
       "    <tr>\n",
       "      <th>0</th>\n",
       "      <td>ARI</td>\n",
       "      <td>2</td>\n",
       "      <td>21.0</td>\n",
       "      <td>0.0</td>\n",
       "    </tr>\n",
       "    <tr>\n",
       "      <th>1</th>\n",
       "      <td>ARI</td>\n",
       "      <td>3</td>\n",
       "      <td>0.0</td>\n",
       "      <td>8.5</td>\n",
       "    </tr>\n",
       "  </tbody>\n",
       "</table>\n",
       "</div>"
      ],
      "text/plain": [
       "  team  week  off_snaps_lost  def_snaps_lost\n",
       "0  ARI     2            21.0             0.0\n",
       "1  ARI     3             0.0             8.5"
      ]
     },
     "execution_count": 61,
     "metadata": {},
     "output_type": "execute_result"
    }
   ],
   "source": [
    "inj_df.head(2)"
   ]
  },
  {
   "cell_type": "code",
   "execution_count": 62,
   "metadata": {},
   "outputs": [],
   "source": [
    "# merge in offensive snaps\n",
    "merged_base = merged_base.merge(inj_df.drop(columns=['def_snaps_lost']),how='left',\n",
    "                   left_on=['possessionTeam','week'], right_on=['team','week']).drop(columns=['team'])\n",
    "\n",
    "# merge in defensive snaps\n",
    "merged_base = merged_base.merge(inj_df.drop(columns=['off_snaps_lost']),how='left',\n",
    "                   left_on=['defensiveTeam','week'], right_on=['team','week']).drop(columns=['team'])"
   ]
  },
  {
   "cell_type": "markdown",
   "metadata": {},
   "source": [
    "# TODO: Figure out why NA's for injury for these weeks"
   ]
  },
  {
   "cell_type": "code",
   "execution_count": 66,
   "metadata": {},
   "outputs": [
    {
     "data": {
      "text/html": [
       "<div>\n",
       "<style scoped>\n",
       "    .dataframe tbody tr th:only-of-type {\n",
       "        vertical-align: middle;\n",
       "    }\n",
       "\n",
       "    .dataframe tbody tr th {\n",
       "        vertical-align: top;\n",
       "    }\n",
       "\n",
       "    .dataframe thead th {\n",
       "        text-align: right;\n",
       "    }\n",
       "</style>\n",
       "<table border=\"1\" class=\"dataframe\">\n",
       "  <thead>\n",
       "    <tr style=\"text-align: right;\">\n",
       "      <th></th>\n",
       "      <th>gameId</th>\n",
       "      <th>playId</th>\n",
       "      <th>week</th>\n",
       "      <th>possessionTeam</th>\n",
       "      <th>defensiveTeam</th>\n",
       "      <th>cover_3_def</th>\n",
       "      <th>cover_6_def</th>\n",
       "      <th>cover_1_def</th>\n",
       "      <th>Quarters_def</th>\n",
       "      <th>Cover-2_def</th>\n",
       "      <th>Cover-0_def</th>\n",
       "      <th>Man_def</th>\n",
       "      <th>Other_def</th>\n",
       "      <th>Zone_def</th>\n",
       "      <th>pass_rate_off</th>\n",
       "      <th>pass_rate_def</th>\n",
       "      <th>off_xpass</th>\n",
       "      <th>def_xpass</th>\n",
       "      <th>off_snaps_lost</th>\n",
       "      <th>def_snaps_lost</th>\n",
       "    </tr>\n",
       "  </thead>\n",
       "  <tbody>\n",
       "    <tr>\n",
       "      <th>2191</th>\n",
       "      <td>2022091801</td>\n",
       "      <td>218</td>\n",
       "      <td>2</td>\n",
       "      <td>CLE</td>\n",
       "      <td>NYJ</td>\n",
       "      <td>23.0</td>\n",
       "      <td>2.0</td>\n",
       "      <td>6.0</td>\n",
       "      <td>15.0</td>\n",
       "      <td>1.0</td>\n",
       "      <td>1.0</td>\n",
       "      <td>7.0</td>\n",
       "      <td>0.0</td>\n",
       "      <td>41.0</td>\n",
       "      <td>0.492308</td>\n",
       "      <td>0.640000</td>\n",
       "      <td>0.494254</td>\n",
       "      <td>0.628774</td>\n",
       "      <td>NaN</td>\n",
       "      <td>0.0</td>\n",
       "    </tr>\n",
       "    <tr>\n",
       "      <th>2192</th>\n",
       "      <td>2022091801</td>\n",
       "      <td>247</td>\n",
       "      <td>2</td>\n",
       "      <td>CLE</td>\n",
       "      <td>NYJ</td>\n",
       "      <td>23.0</td>\n",
       "      <td>2.0</td>\n",
       "      <td>6.0</td>\n",
       "      <td>15.0</td>\n",
       "      <td>1.0</td>\n",
       "      <td>1.0</td>\n",
       "      <td>7.0</td>\n",
       "      <td>0.0</td>\n",
       "      <td>41.0</td>\n",
       "      <td>0.492308</td>\n",
       "      <td>0.640000</td>\n",
       "      <td>0.474027</td>\n",
       "      <td>0.628774</td>\n",
       "      <td>NaN</td>\n",
       "      <td>0.0</td>\n",
       "    </tr>\n",
       "    <tr>\n",
       "      <th>2193</th>\n",
       "      <td>2022091801</td>\n",
       "      <td>271</td>\n",
       "      <td>2</td>\n",
       "      <td>CLE</td>\n",
       "      <td>NYJ</td>\n",
       "      <td>23.0</td>\n",
       "      <td>2.0</td>\n",
       "      <td>6.0</td>\n",
       "      <td>15.0</td>\n",
       "      <td>1.0</td>\n",
       "      <td>1.0</td>\n",
       "      <td>7.0</td>\n",
       "      <td>0.0</td>\n",
       "      <td>41.0</td>\n",
       "      <td>0.492308</td>\n",
       "      <td>0.640000</td>\n",
       "      <td>0.470012</td>\n",
       "      <td>0.661487</td>\n",
       "      <td>NaN</td>\n",
       "      <td>0.0</td>\n",
       "    </tr>\n",
       "    <tr>\n",
       "      <th>2194</th>\n",
       "      <td>2022091801</td>\n",
       "      <td>292</td>\n",
       "      <td>2</td>\n",
       "      <td>CLE</td>\n",
       "      <td>NYJ</td>\n",
       "      <td>23.0</td>\n",
       "      <td>2.0</td>\n",
       "      <td>6.0</td>\n",
       "      <td>15.0</td>\n",
       "      <td>1.0</td>\n",
       "      <td>1.0</td>\n",
       "      <td>7.0</td>\n",
       "      <td>0.0</td>\n",
       "      <td>41.0</td>\n",
       "      <td>0.492308</td>\n",
       "      <td>0.640000</td>\n",
       "      <td>0.483916</td>\n",
       "      <td>0.661487</td>\n",
       "      <td>NaN</td>\n",
       "      <td>0.0</td>\n",
       "    </tr>\n",
       "    <tr>\n",
       "      <th>2195</th>\n",
       "      <td>2022091801</td>\n",
       "      <td>313</td>\n",
       "      <td>2</td>\n",
       "      <td>CLE</td>\n",
       "      <td>NYJ</td>\n",
       "      <td>23.0</td>\n",
       "      <td>2.0</td>\n",
       "      <td>6.0</td>\n",
       "      <td>15.0</td>\n",
       "      <td>1.0</td>\n",
       "      <td>1.0</td>\n",
       "      <td>7.0</td>\n",
       "      <td>0.0</td>\n",
       "      <td>41.0</td>\n",
       "      <td>0.492308</td>\n",
       "      <td>0.640000</td>\n",
       "      <td>0.480875</td>\n",
       "      <td>0.628774</td>\n",
       "      <td>NaN</td>\n",
       "      <td>0.0</td>\n",
       "    </tr>\n",
       "    <tr>\n",
       "      <th>...</th>\n",
       "      <td>...</td>\n",
       "      <td>...</td>\n",
       "      <td>...</td>\n",
       "      <td>...</td>\n",
       "      <td>...</td>\n",
       "      <td>...</td>\n",
       "      <td>...</td>\n",
       "      <td>...</td>\n",
       "      <td>...</td>\n",
       "      <td>...</td>\n",
       "      <td>...</td>\n",
       "      <td>...</td>\n",
       "      <td>...</td>\n",
       "      <td>...</td>\n",
       "      <td>...</td>\n",
       "      <td>...</td>\n",
       "      <td>...</td>\n",
       "      <td>...</td>\n",
       "      <td>...</td>\n",
       "      <td>...</td>\n",
       "    </tr>\n",
       "    <tr>\n",
       "      <th>14426</th>\n",
       "      <td>2022103012</td>\n",
       "      <td>3403</td>\n",
       "      <td>8</td>\n",
       "      <td>BUF</td>\n",
       "      <td>GB</td>\n",
       "      <td>141.0</td>\n",
       "      <td>32.0</td>\n",
       "      <td>82.0</td>\n",
       "      <td>66.0</td>\n",
       "      <td>15.0</td>\n",
       "      <td>19.0</td>\n",
       "      <td>106.0</td>\n",
       "      <td>19.0</td>\n",
       "      <td>254.0</td>\n",
       "      <td>0.693767</td>\n",
       "      <td>0.513021</td>\n",
       "      <td>0.651158</td>\n",
       "      <td>0.473680</td>\n",
       "      <td>NaN</td>\n",
       "      <td>0.5</td>\n",
       "    </tr>\n",
       "    <tr>\n",
       "      <th>14427</th>\n",
       "      <td>2022103012</td>\n",
       "      <td>3435</td>\n",
       "      <td>8</td>\n",
       "      <td>BUF</td>\n",
       "      <td>GB</td>\n",
       "      <td>141.0</td>\n",
       "      <td>32.0</td>\n",
       "      <td>82.0</td>\n",
       "      <td>66.0</td>\n",
       "      <td>15.0</td>\n",
       "      <td>19.0</td>\n",
       "      <td>106.0</td>\n",
       "      <td>19.0</td>\n",
       "      <td>254.0</td>\n",
       "      <td>0.693767</td>\n",
       "      <td>0.513021</td>\n",
       "      <td>0.671301</td>\n",
       "      <td>0.495843</td>\n",
       "      <td>NaN</td>\n",
       "      <td>0.5</td>\n",
       "    </tr>\n",
       "    <tr>\n",
       "      <th>14428</th>\n",
       "      <td>2022103012</td>\n",
       "      <td>3477</td>\n",
       "      <td>8</td>\n",
       "      <td>BUF</td>\n",
       "      <td>GB</td>\n",
       "      <td>141.0</td>\n",
       "      <td>32.0</td>\n",
       "      <td>82.0</td>\n",
       "      <td>66.0</td>\n",
       "      <td>15.0</td>\n",
       "      <td>19.0</td>\n",
       "      <td>106.0</td>\n",
       "      <td>19.0</td>\n",
       "      <td>254.0</td>\n",
       "      <td>0.693767</td>\n",
       "      <td>0.513021</td>\n",
       "      <td>0.643485</td>\n",
       "      <td>0.473548</td>\n",
       "      <td>NaN</td>\n",
       "      <td>0.5</td>\n",
       "    </tr>\n",
       "    <tr>\n",
       "      <th>14429</th>\n",
       "      <td>2022103012</td>\n",
       "      <td>3498</td>\n",
       "      <td>8</td>\n",
       "      <td>BUF</td>\n",
       "      <td>GB</td>\n",
       "      <td>141.0</td>\n",
       "      <td>32.0</td>\n",
       "      <td>82.0</td>\n",
       "      <td>66.0</td>\n",
       "      <td>15.0</td>\n",
       "      <td>19.0</td>\n",
       "      <td>106.0</td>\n",
       "      <td>19.0</td>\n",
       "      <td>254.0</td>\n",
       "      <td>0.693767</td>\n",
       "      <td>0.513021</td>\n",
       "      <td>0.633451</td>\n",
       "      <td>0.492486</td>\n",
       "      <td>NaN</td>\n",
       "      <td>0.5</td>\n",
       "    </tr>\n",
       "    <tr>\n",
       "      <th>14430</th>\n",
       "      <td>2022103012</td>\n",
       "      <td>3528</td>\n",
       "      <td>8</td>\n",
       "      <td>BUF</td>\n",
       "      <td>GB</td>\n",
       "      <td>141.0</td>\n",
       "      <td>32.0</td>\n",
       "      <td>82.0</td>\n",
       "      <td>66.0</td>\n",
       "      <td>15.0</td>\n",
       "      <td>19.0</td>\n",
       "      <td>106.0</td>\n",
       "      <td>19.0</td>\n",
       "      <td>254.0</td>\n",
       "      <td>0.693767</td>\n",
       "      <td>0.513021</td>\n",
       "      <td>0.676367</td>\n",
       "      <td>0.496567</td>\n",
       "      <td>NaN</td>\n",
       "      <td>0.5</td>\n",
       "    </tr>\n",
       "  </tbody>\n",
       "</table>\n",
       "<p>2462 rows × 20 columns</p>\n",
       "</div>"
      ],
      "text/plain": [
       "           gameId  playId  week possessionTeam defensiveTeam  cover_3_def  \\\n",
       "2191   2022091801     218     2            CLE           NYJ         23.0   \n",
       "2192   2022091801     247     2            CLE           NYJ         23.0   \n",
       "2193   2022091801     271     2            CLE           NYJ         23.0   \n",
       "2194   2022091801     292     2            CLE           NYJ         23.0   \n",
       "2195   2022091801     313     2            CLE           NYJ         23.0   \n",
       "...           ...     ...   ...            ...           ...          ...   \n",
       "14426  2022103012    3403     8            BUF            GB        141.0   \n",
       "14427  2022103012    3435     8            BUF            GB        141.0   \n",
       "14428  2022103012    3477     8            BUF            GB        141.0   \n",
       "14429  2022103012    3498     8            BUF            GB        141.0   \n",
       "14430  2022103012    3528     8            BUF            GB        141.0   \n",
       "\n",
       "       cover_6_def  cover_1_def  Quarters_def  Cover-2_def  Cover-0_def  \\\n",
       "2191           2.0          6.0          15.0          1.0          1.0   \n",
       "2192           2.0          6.0          15.0          1.0          1.0   \n",
       "2193           2.0          6.0          15.0          1.0          1.0   \n",
       "2194           2.0          6.0          15.0          1.0          1.0   \n",
       "2195           2.0          6.0          15.0          1.0          1.0   \n",
       "...            ...          ...           ...          ...          ...   \n",
       "14426         32.0         82.0          66.0         15.0         19.0   \n",
       "14427         32.0         82.0          66.0         15.0         19.0   \n",
       "14428         32.0         82.0          66.0         15.0         19.0   \n",
       "14429         32.0         82.0          66.0         15.0         19.0   \n",
       "14430         32.0         82.0          66.0         15.0         19.0   \n",
       "\n",
       "       Man_def  Other_def  Zone_def  pass_rate_off  pass_rate_def  off_xpass  \\\n",
       "2191       7.0        0.0      41.0       0.492308       0.640000   0.494254   \n",
       "2192       7.0        0.0      41.0       0.492308       0.640000   0.474027   \n",
       "2193       7.0        0.0      41.0       0.492308       0.640000   0.470012   \n",
       "2194       7.0        0.0      41.0       0.492308       0.640000   0.483916   \n",
       "2195       7.0        0.0      41.0       0.492308       0.640000   0.480875   \n",
       "...        ...        ...       ...            ...            ...        ...   \n",
       "14426    106.0       19.0     254.0       0.693767       0.513021   0.651158   \n",
       "14427    106.0       19.0     254.0       0.693767       0.513021   0.671301   \n",
       "14428    106.0       19.0     254.0       0.693767       0.513021   0.643485   \n",
       "14429    106.0       19.0     254.0       0.693767       0.513021   0.633451   \n",
       "14430    106.0       19.0     254.0       0.693767       0.513021   0.676367   \n",
       "\n",
       "       def_xpass  off_snaps_lost  def_snaps_lost  \n",
       "2191    0.628774             NaN             0.0  \n",
       "2192    0.628774             NaN             0.0  \n",
       "2193    0.661487             NaN             0.0  \n",
       "2194    0.661487             NaN             0.0  \n",
       "2195    0.628774             NaN             0.0  \n",
       "...          ...             ...             ...  \n",
       "14426   0.473680             NaN             0.5  \n",
       "14427   0.495843             NaN             0.5  \n",
       "14428   0.473548             NaN             0.5  \n",
       "14429   0.492486             NaN             0.5  \n",
       "14430   0.496567             NaN             0.5  \n",
       "\n",
       "[2462 rows x 20 columns]"
      ]
     },
     "execution_count": 66,
     "metadata": {},
     "output_type": "execute_result"
    }
   ],
   "source": [
    "merged_base[(merged_base['off_snaps_lost'].isna()) & (merged_base['week'] > 1)]"
   ]
  },
  {
   "cell_type": "markdown",
   "metadata": {},
   "source": []
  },
  {
   "cell_type": "code",
   "execution_count": 63,
   "metadata": {},
   "outputs": [
    {
     "data": {
      "text/plain": [
       "gameId               0\n",
       "playId               0\n",
       "week                 0\n",
       "possessionTeam       0\n",
       "defensiveTeam        0\n",
       "cover_3_def          0\n",
       "cover_6_def          0\n",
       "cover_1_def          0\n",
       "Quarters_def         0\n",
       "Cover-2_def          0\n",
       "Cover-0_def          0\n",
       "Man_def              0\n",
       "Other_def            0\n",
       "Zone_def             0\n",
       "pass_rate_off        0\n",
       "pass_rate_def        0\n",
       "off_xpass            0\n",
       "def_xpass            0\n",
       "off_snaps_lost    4412\n",
       "def_snaps_lost    4472\n",
       "dtype: int64"
      ]
     },
     "execution_count": 63,
     "metadata": {},
     "output_type": "execute_result"
    }
   ],
   "source": [
    "merged_base.isna().sum()"
   ]
  },
  {
   "cell_type": "markdown",
   "metadata": {},
   "source": [
    "# TODO: sanity check injury snaps lost process, if sound just fillna w/0"
   ]
  },
  {
   "cell_type": "code",
   "execution_count": null,
   "metadata": {},
   "outputs": [],
   "source": [
    "merged_base[merged_base.off_snaps_lost.isna()].sample(5)"
   ]
  },
  {
   "cell_type": "markdown",
   "metadata": {},
   "source": [
    "# Integrate FTN, injury data"
   ]
  },
  {
   "cell_type": "code",
   "execution_count": null,
   "metadata": {},
   "outputs": [],
   "source": []
  }
 ],
 "metadata": {
  "kernelspec": {
   "display_name": ".venv",
   "language": "python",
   "name": "python3"
  },
  "language_info": {
   "codemirror_mode": {
    "name": "ipython",
    "version": 3
   },
   "file_extension": ".py",
   "mimetype": "text/x-python",
   "name": "python",
   "nbconvert_exporter": "python",
   "pygments_lexer": "ipython3",
   "version": "3.9.15"
  }
 },
 "nbformat": 4,
 "nbformat_minor": 2
}
