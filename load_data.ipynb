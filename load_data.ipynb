{
 "cells": [
  {
   "cell_type": "code",
   "execution_count": null,
   "metadata": {},
   "outputs": [],
   "source": [
    "import pandas as pd \n",
    "import os\n",
    "import numpy as np\n",
    "import matplotlib.pyplot as plt\n",
    "from datetime import datetime\n",
    "import nfl_data_py as nfl\n",
    "from data_cleaning import label_run_or_pass, reverse_deg, normalize_tracking\n",
    "from data_loading import aggregate_data\n",
    "root_dir = os.getcwd()\n",
    "\n",
    "load_saved_data = True            # if you change this to true you can load presaved data\n",
    "\n",
    "if not load_saved_data: \n",
    "    games_fname= os.path.join(root_dir, \"data/games.csv\")\n",
    "    plays_fname = os.path.join(root_dir, \"data/plays.csv\")\n",
    "    players_fname = os.path.join(root_dir, \"data/players.csv\")\n",
    "    player_plays_fname = os.path.join(root_dir, \"data/player_play.csv\")\n",
    "    tracking_fname_list_train = [os.path.join(root_dir, f\"data/tracking_week_{i}.csv\") for i in range(1,9)] #weeks 1-8 are training data\n",
    "    tracking_fname_list_test = [os.path.join(root_dir, \"data/tracking_week_9.csv\")] #week 9 is test data\n",
    "    train_data=aggregate_data(plays_fname, player_plays_fname, players_fname, tracking_fname_list_train, games_fname)\n",
    "    train_data.to_csv(os.path.join(root_dir, \"data/train_data.csv\"))\n",
    "    test_data=aggregate_data(plays_fname, player_plays_fname, players_fname, tracking_fname_list_test, games_fname )\n",
    "    test_data.to_csv(os.path.join(root_dir, \"data/test_data.csv\"))\n",
    "else:\n",
    "    train_data=pd.read_csv(os.path.join(root_dir, \"data/train_data.csv\"))\n",
    "    test_data=pd.read_csv(os.path.join(root_dir, \"data/test_data.csv\"))\n"
   ]
  }
 ],
 "metadata": {
  "language_info": {
   "name": "python"
  }
 },
 "nbformat": 4,
 "nbformat_minor": 2
}
