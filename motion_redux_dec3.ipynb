{
 "cells": [
  {
   "cell_type": "markdown",
   "metadata": {},
   "source": [
    "# Further Motion/Distance Analysis\n",
    "\n",
    "We diver further into our motion analysis by exploring distance-related aspects of our tracking data\n",
    "\n",
    "\n"
   ]
  },
  {
   "cell_type": "code",
   "execution_count": 93,
   "metadata": {},
   "outputs": [],
   "source": [
    "import os\n",
    "import pandas as pd\n",
    "from data_loading import load_tracking_data\n",
    "import seaborn as sns\n",
    "import matplotlib.pyplot as plt"
   ]
  },
  {
   "cell_type": "code",
   "execution_count": 94,
   "metadata": {},
   "outputs": [],
   "source": [
    "# load tracking data for all weeks\n",
    "root_dir = os.getcwd()\n",
    "tracking_fname_list = [os.path.join(root_dir,  f\"data/tracking_week_{i}.csv\") for i in range(1,10)]\n",
    "write_track = False\n",
    "if write_track:\n",
    "    df_tracking = pd.concat(\n",
    "            [load_tracking_data(tracking_fname) for tracking_fname in tracking_fname_list]\n",
    "        )\n",
    "    df_tracking.to_csv('data/track_full.csv')\n",
    "else: \n",
    "    df_tracking = pd.read_csv('data/track_full.csv',usecols=['gameId','playId','nflId','frameId','club','a','s','dis','y'])\n",
    "df_players = pd.read_csv(os.path.join(root_dir,'data/players.csv'))\n",
    "df_player_play = pd.read_csv(os.path.join(root_dir,'data/player_play.csv'))"
   ]
  },
  {
   "cell_type": "markdown",
   "metadata": {},
   "source": [
    "Sub to offense this time:"
   ]
  },
  {
   "cell_type": "code",
   "execution_count": 95,
   "metadata": {},
   "outputs": [],
   "source": [
    "plays_fname = os.path.join(root_dir,  \"data/plays.csv\")\n",
    "df_plays = pd.read_csv(os.path.join(root_dir,plays_fname))\n",
    "df_games = pd.read_csv(os.path.join(root_dir,'data/games.csv'))"
   ]
  },
  {
   "cell_type": "code",
   "execution_count": 96,
   "metadata": {},
   "outputs": [],
   "source": [
    "play_trunc = df_plays[['gameId','playId','possessionTeam']]\n",
    "pt_df = play_trunc.merge(df_tracking,how='left',left_on=['gameId','playId','possessionTeam'],\n",
    "                 right_on=['gameId','playId','club'])\n",
    "\n",
    "# na's dropped to lose players w/o tracking info\n",
    "off_df = pt_df.dropna()"
   ]
  },
  {
   "cell_type": "code",
   "execution_count": 97,
   "metadata": {},
   "outputs": [],
   "source": [
    "example = ((off_df['gameId'] == 2022102300) & (off_df['playId'] == 2314)) & (off_df['nflId'] == 42347)"
   ]
  },
  {
   "cell_type": "markdown",
   "metadata": {},
   "source": [
    "### TODO: compare fastest vs second-fastest in last N seconds (10? 15?)\n",
    "\n",
    "reincorp frame info, do last nm get nlargesst (2) etc\n",
    "\n",
    "sort by keys and frame ig?"
   ]
  },
  {
   "cell_type": "code",
   "execution_count": 98,
   "metadata": {},
   "outputs": [],
   "source": [
    "off_15 = off_df.groupby(['gameId','playId','nflId']).tail(15).reset_index(drop=True)"
   ]
  },
  {
   "cell_type": "code",
   "execution_count": 99,
   "metadata": {},
   "outputs": [],
   "source": [
    "og_15 = off_15.groupby(['gameId','playId','nflId']).agg(y_initial=('y','first'),y_final=('y','last'),dis_sum=('dis','sum'),\n",
    "                                                        s_max=('s','max'),a_max=('a','max'),a_mean=('a','mean'),a_median=('a','median'),\n",
    "                                                        s_mean=('s','mean'),s_min=('s','min'),a_min=('a','min')).reset_index()"
   ]
  },
  {
   "cell_type": "markdown",
   "metadata": {},
   "source": [
    "get y delta"
   ]
  },
  {
   "cell_type": "code",
   "execution_count": 100,
   "metadata": {},
   "outputs": [],
   "source": [
    "og_15['y_delta'] = og_15['y_final']-og_15['y_initial']"
   ]
  },
  {
   "cell_type": "code",
   "execution_count": 101,
   "metadata": {},
   "outputs": [
    {
     "data": {
      "text/plain": [
       "Index(['s_mean', 's_min', 'a_min', 'y_delta'], dtype='object')"
      ]
     },
     "execution_count": 101,
     "metadata": {},
     "output_type": "execute_result"
    }
   ],
   "source": [
    "og_15.columns[-4:]"
   ]
  },
  {
   "cell_type": "code",
   "execution_count": 102,
   "metadata": {},
   "outputs": [],
   "source": [
    "delta_15 = og_15[['gameId','playId']].drop_duplicates()"
   ]
  },
  {
   "cell_type": "code",
   "execution_count": 103,
   "metadata": {},
   "outputs": [],
   "source": [
    "ser_ls = []"
   ]
  },
  {
   "cell_type": "code",
   "execution_count": 104,
   "metadata": {},
   "outputs": [],
   "source": [
    "for col in og_15.columns[-10:]:\n",
    "\n",
    "    ser_ls.append(og_15.groupby(['gameId','playId'])[col].apply(lambda grp: grp.nlargest(2).diff().tail(1)).reset_index(drop=True))"
   ]
  },
  {
   "cell_type": "code",
   "execution_count": 105,
   "metadata": {},
   "outputs": [],
   "source": [
    "delta_15 = delta_15.reset_index(drop=True)"
   ]
  },
  {
   "cell_type": "code",
   "execution_count": 106,
   "metadata": {},
   "outputs": [],
   "source": [
    "d15_proc = pd.concat([delta_15,pd.concat(ser_ls,axis=1)],axis=1)"
   ]
  },
  {
   "cell_type": "code",
   "execution_count": 107,
   "metadata": {},
   "outputs": [],
   "source": [
    "d15_proc['y_delta'] = d15_proc['y_delta'].round(2)"
   ]
  },
  {
   "cell_type": "code",
   "execution_count": 108,
   "metadata": {},
   "outputs": [
    {
     "data": {
      "text/html": [
       "<div>\n",
       "<style scoped>\n",
       "    .dataframe tbody tr th:only-of-type {\n",
       "        vertical-align: middle;\n",
       "    }\n",
       "\n",
       "    .dataframe tbody tr th {\n",
       "        vertical-align: top;\n",
       "    }\n",
       "\n",
       "    .dataframe thead th {\n",
       "        text-align: right;\n",
       "    }\n",
       "</style>\n",
       "<table border=\"1\" class=\"dataframe\">\n",
       "  <thead>\n",
       "    <tr style=\"text-align: right;\">\n",
       "      <th></th>\n",
       "      <th>gameId</th>\n",
       "      <th>playId</th>\n",
       "      <th>y_final</th>\n",
       "      <th>dis_sum</th>\n",
       "      <th>s_max</th>\n",
       "      <th>a_max</th>\n",
       "      <th>a_mean</th>\n",
       "      <th>a_median</th>\n",
       "      <th>s_mean</th>\n",
       "      <th>s_min</th>\n",
       "      <th>a_min</th>\n",
       "      <th>y_delta</th>\n",
       "    </tr>\n",
       "  </thead>\n",
       "  <tbody>\n",
       "    <tr>\n",
       "      <th>0</th>\n",
       "      <td>2022090800</td>\n",
       "      <td>56</td>\n",
       "      <td>-9.29</td>\n",
       "      <td>-0.31</td>\n",
       "      <td>-0.06</td>\n",
       "      <td>-0.01</td>\n",
       "      <td>-0.028667</td>\n",
       "      <td>-0.02</td>\n",
       "      <td>-0.035333</td>\n",
       "      <td>-0.01</td>\n",
       "      <td>0.00</td>\n",
       "      <td>-0.00</td>\n",
       "    </tr>\n",
       "    <tr>\n",
       "      <th>1</th>\n",
       "      <td>2022090800</td>\n",
       "      <td>80</td>\n",
       "      <td>-4.48</td>\n",
       "      <td>-4.23</td>\n",
       "      <td>-4.73</td>\n",
       "      <td>-4.87</td>\n",
       "      <td>-4.250000</td>\n",
       "      <td>-4.48</td>\n",
       "      <td>-2.862667</td>\n",
       "      <td>-1.63</td>\n",
       "      <td>-2.95</td>\n",
       "      <td>-1.26</td>\n",
       "    </tr>\n",
       "    <tr>\n",
       "      <th>2</th>\n",
       "      <td>2022090800</td>\n",
       "      <td>101</td>\n",
       "      <td>-4.96</td>\n",
       "      <td>-1.33</td>\n",
       "      <td>-3.33</td>\n",
       "      <td>-3.15</td>\n",
       "      <td>-1.536000</td>\n",
       "      <td>-1.61</td>\n",
       "      <td>-1.054000</td>\n",
       "      <td>-0.03</td>\n",
       "      <td>-0.13</td>\n",
       "      <td>-1.55</td>\n",
       "    </tr>\n",
       "    <tr>\n",
       "      <th>3</th>\n",
       "      <td>2022090800</td>\n",
       "      <td>122</td>\n",
       "      <td>-5.15</td>\n",
       "      <td>-0.12</td>\n",
       "      <td>-0.02</td>\n",
       "      <td>-0.09</td>\n",
       "      <td>-0.018000</td>\n",
       "      <td>-0.02</td>\n",
       "      <td>-0.023333</td>\n",
       "      <td>-0.02</td>\n",
       "      <td>-0.02</td>\n",
       "      <td>-0.04</td>\n",
       "    </tr>\n",
       "    <tr>\n",
       "      <th>4</th>\n",
       "      <td>2022090800</td>\n",
       "      <td>167</td>\n",
       "      <td>-1.24</td>\n",
       "      <td>-0.23</td>\n",
       "      <td>-0.37</td>\n",
       "      <td>-0.92</td>\n",
       "      <td>-0.344000</td>\n",
       "      <td>-0.15</td>\n",
       "      <td>-0.241333</td>\n",
       "      <td>-0.04</td>\n",
       "      <td>-0.04</td>\n",
       "      <td>-0.01</td>\n",
       "    </tr>\n",
       "    <tr>\n",
       "      <th>5</th>\n",
       "      <td>2022090800</td>\n",
       "      <td>191</td>\n",
       "      <td>-5.07</td>\n",
       "      <td>-0.05</td>\n",
       "      <td>0.00</td>\n",
       "      <td>-0.03</td>\n",
       "      <td>-0.023333</td>\n",
       "      <td>-0.03</td>\n",
       "      <td>-0.056667</td>\n",
       "      <td>-0.01</td>\n",
       "      <td>-0.01</td>\n",
       "      <td>-0.02</td>\n",
       "    </tr>\n",
       "    <tr>\n",
       "      <th>6</th>\n",
       "      <td>2022090800</td>\n",
       "      <td>212</td>\n",
       "      <td>-10.81</td>\n",
       "      <td>-7.61</td>\n",
       "      <td>-6.72</td>\n",
       "      <td>-2.84</td>\n",
       "      <td>-2.090000</td>\n",
       "      <td>-2.26</td>\n",
       "      <td>-5.184000</td>\n",
       "      <td>-2.60</td>\n",
       "      <td>-0.32</td>\n",
       "      <td>-7.50</td>\n",
       "    </tr>\n",
       "    <tr>\n",
       "      <th>7</th>\n",
       "      <td>2022090800</td>\n",
       "      <td>236</td>\n",
       "      <td>-3.62</td>\n",
       "      <td>-3.66</td>\n",
       "      <td>-3.37</td>\n",
       "      <td>-3.77</td>\n",
       "      <td>-2.717333</td>\n",
       "      <td>-2.26</td>\n",
       "      <td>-2.727333</td>\n",
       "      <td>-0.36</td>\n",
       "      <td>-0.65</td>\n",
       "      <td>-0.02</td>\n",
       "    </tr>\n",
       "    <tr>\n",
       "      <th>8</th>\n",
       "      <td>2022090800</td>\n",
       "      <td>299</td>\n",
       "      <td>-6.86</td>\n",
       "      <td>-5.16</td>\n",
       "      <td>-6.38</td>\n",
       "      <td>-2.56</td>\n",
       "      <td>-2.988000</td>\n",
       "      <td>-2.95</td>\n",
       "      <td>-3.628667</td>\n",
       "      <td>-0.42</td>\n",
       "      <td>-1.46</td>\n",
       "      <td>-5.10</td>\n",
       "    </tr>\n",
       "    <tr>\n",
       "      <th>9</th>\n",
       "      <td>2022090800</td>\n",
       "      <td>343</td>\n",
       "      <td>-4.75</td>\n",
       "      <td>-3.61</td>\n",
       "      <td>-3.05</td>\n",
       "      <td>-3.03</td>\n",
       "      <td>-1.662000</td>\n",
       "      <td>-1.48</td>\n",
       "      <td>-2.444667</td>\n",
       "      <td>-0.67</td>\n",
       "      <td>-0.48</td>\n",
       "      <td>-3.67</td>\n",
       "    </tr>\n",
       "  </tbody>\n",
       "</table>\n",
       "</div>"
      ],
      "text/plain": [
       "       gameId  playId  y_final  dis_sum  s_max  a_max    a_mean  a_median  \\\n",
       "0  2022090800      56    -9.29    -0.31  -0.06  -0.01 -0.028667     -0.02   \n",
       "1  2022090800      80    -4.48    -4.23  -4.73  -4.87 -4.250000     -4.48   \n",
       "2  2022090800     101    -4.96    -1.33  -3.33  -3.15 -1.536000     -1.61   \n",
       "3  2022090800     122    -5.15    -0.12  -0.02  -0.09 -0.018000     -0.02   \n",
       "4  2022090800     167    -1.24    -0.23  -0.37  -0.92 -0.344000     -0.15   \n",
       "5  2022090800     191    -5.07    -0.05   0.00  -0.03 -0.023333     -0.03   \n",
       "6  2022090800     212   -10.81    -7.61  -6.72  -2.84 -2.090000     -2.26   \n",
       "7  2022090800     236    -3.62    -3.66  -3.37  -3.77 -2.717333     -2.26   \n",
       "8  2022090800     299    -6.86    -5.16  -6.38  -2.56 -2.988000     -2.95   \n",
       "9  2022090800     343    -4.75    -3.61  -3.05  -3.03 -1.662000     -1.48   \n",
       "\n",
       "     s_mean  s_min  a_min  y_delta  \n",
       "0 -0.035333  -0.01   0.00    -0.00  \n",
       "1 -2.862667  -1.63  -2.95    -1.26  \n",
       "2 -1.054000  -0.03  -0.13    -1.55  \n",
       "3 -0.023333  -0.02  -0.02    -0.04  \n",
       "4 -0.241333  -0.04  -0.04    -0.01  \n",
       "5 -0.056667  -0.01  -0.01    -0.02  \n",
       "6 -5.184000  -2.60  -0.32    -7.50  \n",
       "7 -2.727333  -0.36  -0.65    -0.02  \n",
       "8 -3.628667  -0.42  -1.46    -5.10  \n",
       "9 -2.444667  -0.67  -0.48    -3.67  "
      ]
     },
     "execution_count": 108,
     "metadata": {},
     "output_type": "execute_result"
    }
   ],
   "source": [
    "d15_proc.head(10)"
   ]
  },
  {
   "cell_type": "code",
   "execution_count": 109,
   "metadata": {},
   "outputs": [],
   "source": [
    "d15_flagged = d15_proc.merge(df_plays[['gameId','playId','isDropback']],how='left')"
   ]
  },
  {
   "cell_type": "code",
   "execution_count": null,
   "metadata": {},
   "outputs": [],
   "source": []
  },
  {
   "cell_type": "code",
   "execution_count": 110,
   "metadata": {},
   "outputs": [
    {
     "data": {
      "text/plain": [
       "-3.16"
      ]
     },
     "execution_count": 110,
     "metadata": {},
     "output_type": "execute_result"
    }
   ],
   "source": [
    "d15_flagged['a_max'].quantile(.1)"
   ]
  },
  {
   "cell_type": "code",
   "execution_count": 111,
   "metadata": {},
   "outputs": [],
   "source": [
    "d15_flagged['amed_25'] = (d15_flagged['a_median'] >= d15_flagged['a_median'].quantile(.25))"
   ]
  },
  {
   "cell_type": "code",
   "execution_count": 112,
   "metadata": {},
   "outputs": [],
   "source": [
    "d15_flagged['amean_dis'] = d15_flagged['a_mean']/.05*d15_flagged['dis_sum']"
   ]
  },
  {
   "cell_type": "code",
   "execution_count": 113,
   "metadata": {},
   "outputs": [],
   "source": [
    "d15_flagged['amean_del'] =d15_flagged['a_mean']/.5*d15_flagged['y_delta']"
   ]
  },
  {
   "cell_type": "code",
   "execution_count": 114,
   "metadata": {},
   "outputs": [
    {
     "data": {
      "text/plain": [
       "gameId       -0.022265\n",
       "playId        0.013461\n",
       "y_final      -0.101539\n",
       "dis_sum       0.059853\n",
       "s_max         0.120883\n",
       "a_max         0.151071\n",
       "a_mean        0.165415\n",
       "a_median      0.162167\n",
       "s_mean        0.062991\n",
       "s_min        -0.028102\n",
       "a_min         0.064790\n",
       "y_delta       0.041878\n",
       "isDropback    1.000000\n",
       "amed_25       0.146124\n",
       "amean_dis    -0.113067\n",
       "amean_del    -0.075723\n",
       "Name: isDropback, dtype: float64"
      ]
     },
     "execution_count": 114,
     "metadata": {},
     "output_type": "execute_result"
    }
   ],
   "source": [
    "d15_flagged.corr()['isDropback']"
   ]
  },
  {
   "cell_type": "markdown",
   "metadata": {},
   "source": [
    "TODO: incorp accel min, median/mean?"
   ]
  },
  {
   "cell_type": "code",
   "execution_count": 115,
   "metadata": {},
   "outputs": [],
   "source": [
    "d15_flagged[['gameId','playId','a_mean','a_max']].to_csv('data/top_2_player_diff_last_15.csv')"
   ]
  },
  {
   "cell_type": "code",
   "execution_count": null,
   "metadata": {},
   "outputs": [],
   "source": []
  }
 ],
 "metadata": {
  "kernelspec": {
   "display_name": ".venv",
   "language": "python",
   "name": "python3"
  },
  "language_info": {
   "codemirror_mode": {
    "name": "ipython",
    "version": 3
   },
   "file_extension": ".py",
   "mimetype": "text/x-python",
   "name": "python",
   "nbconvert_exporter": "python",
   "pygments_lexer": "ipython3",
   "version": "3.9.15"
  }
 },
 "nbformat": 4,
 "nbformat_minor": 2
}
