{
 "cells": [
  {
   "cell_type": "markdown",
   "metadata": {},
   "source": [
    "# Load data\n",
    "\n",
    "We start by loading train & test data, and adding initial motion info:"
   ]
  },
  {
   "cell_type": "code",
   "execution_count": null,
   "metadata": {},
   "outputs": [],
   "source": [
    "import pandas as pd \n",
    "import os\n",
    "import warnings\n",
    "warnings.filterwarnings(\"ignore\")"
   ]
  },
  {
   "cell_type": "code",
   "execution_count": 2,
   "metadata": {},
   "outputs": [
    {
     "name": "stdout",
     "output_type": "stream",
     "text": [
      "train colums:  463\n",
      "test colums:  367\n"
     ]
    }
   ],
   "source": [
    "root_dir = os.getcwd()\n",
    "\n",
    "games_fname= os.path.join(root_dir, \"data/games.csv\")\n",
    "plays_fname = os.path.join(root_dir,  \"data/plays.csv\")\n",
    "df_plays = pd.read_csv(os.path.join(root_dir,'data/plays.csv'))\n",
    "train_data=pd.read_csv(os.path.join(root_dir, \"data/train_data.csv\"))\n",
    "test_data=pd.read_csv(os.path.join(root_dir, \"data/test_data.csv\"))\n",
    "print('train colums: ', len(train_data.columns))\n",
    "print('test colums: ', len(test_data.columns))"
   ]
  },
  {
   "cell_type": "code",
   "execution_count": 4,
   "metadata": {},
   "outputs": [],
   "source": [
    "include_columns=[x for x in test_data.columns if '_def' not in x]+['pass_rate_def']\n",
    "train_data=train_data[include_columns]\n",
    "test_data = test_data[include_columns]"
   ]
  },
  {
   "cell_type": "markdown",
   "metadata": {},
   "source": [
    "We define functions to get us all motion/momentum columns:"
   ]
  },
  {
   "cell_type": "code",
   "execution_count": 6,
   "metadata": {},
   "outputs": [],
   "source": [
    "def get_momentum_cols(final_features):\n",
    "    momentum_cols=[]\n",
    "    for f in final_features:\n",
    "        if 'shiftSinceLineset' in f:\n",
    "            momentum_cols.append(f)\n",
    "    return momentum_cols"
   ]
  },
  {
   "cell_type": "code",
   "execution_count": 7,
   "metadata": {},
   "outputs": [],
   "source": [
    "def get_motion_cols(final_features):\n",
    "    motion_cols=[]\n",
    "    for f in final_features:\n",
    "        if 'motionSinceLineset' in f:\n",
    "            motion_cols.append(f)\n",
    "    return motion_cols"
   ]
  },
  {
   "cell_type": "code",
   "execution_count": 8,
   "metadata": {},
   "outputs": [],
   "source": [
    "motion_cols=get_motion_cols(train_data.columns)\n",
    "momentum_cols=get_momentum_cols(train_data.columns)"
   ]
  },
  {
   "cell_type": "markdown",
   "metadata": {},
   "source": [
    "### Compute accel/speed/distance maxima for each offensive play\n",
    "\n",
    "For each player who went in motion, we get their maximum speed & acceleration, as well as sum distance travelled.\n",
    "\n",
    "For each of these three metrics, we then get the maximum value among these in-motion players."
   ]
  },
  {
   "cell_type": "code",
   "execution_count": null,
   "metadata": {},
   "outputs": [],
   "source": [
    "def get_motion_maxima(row):\n",
    "    a_max = 0\n",
    "    s_max = 0\n",
    "    d_sum = 0\n",
    "    for col in motion_cols:\n",
    "        if row[col]:\n",
    "            curr_pos = col.split('|')[1]\n",
    "            curr_amax = row['a|max|'+curr_pos]\n",
    "            curr_smax = row['s|max|'+curr_pos]\n",
    "            curr_dmax = row['dis|sum|'+curr_pos]\n",
    "            if curr_amax > a_max:\n",
    "                a_max = curr_amax\n",
    "            if curr_smax > s_max:\n",
    "                s_max = curr_smax\n",
    "            if curr_dmax > d_sum:\n",
    "                d_sum = curr_dmax\n",
    "\n",
    "    return [a_max, s_max, d_sum]"
   ]
  },
  {
   "cell_type": "markdown",
   "metadata": {},
   "source": [
    "Apply function/integrate it back into data:"
   ]
  },
  {
   "cell_type": "code",
   "execution_count": 12,
   "metadata": {},
   "outputs": [],
   "source": [
    "accel_ls = []\n",
    "speed_ls = []\n",
    "dis_ls = []\n",
    "for idx, row in train_data.iterrows():\n",
    "    a,s,dis = get_motion_maxima(row)\n",
    "    accel_ls.append(a)\n",
    "    speed_ls.append(s)\n",
    "    dis_ls.append(dis)"
   ]
  },
  {
   "cell_type": "code",
   "execution_count": null,
   "metadata": {},
   "outputs": [],
   "source": [
    "train_data['off_motion_amax'] = accel_ls\n",
    "train_data['off_motion_smax'] = speed_ls\n",
    "train_data['off_motion_dsum'] = dis_ls"
   ]
  },
  {
   "cell_type": "markdown",
   "metadata": {},
   "source": [
    "# Integrate defensive data\n",
    "\n",
    "In a separate notebook, we computed similar speed/accel/distance maxima for defense. We now integrate them:"
   ]
  },
  {
   "cell_type": "code",
   "execution_count": 15,
   "metadata": {},
   "outputs": [
    {
     "data": {
      "text/html": [
       "<div>\n",
       "<style scoped>\n",
       "    .dataframe tbody tr th:only-of-type {\n",
       "        vertical-align: middle;\n",
       "    }\n",
       "\n",
       "    .dataframe tbody tr th {\n",
       "        vertical-align: top;\n",
       "    }\n",
       "\n",
       "    .dataframe thead th {\n",
       "        text-align: right;\n",
       "    }\n",
       "</style>\n",
       "<table border=\"1\" class=\"dataframe\">\n",
       "  <thead>\n",
       "    <tr style=\"text-align: right;\">\n",
       "      <th></th>\n",
       "      <th>gameId</th>\n",
       "      <th>playId</th>\n",
       "      <th>def_a_max</th>\n",
       "      <th>def_s_max</th>\n",
       "      <th>def_dis_max</th>\n",
       "    </tr>\n",
       "  </thead>\n",
       "  <tbody>\n",
       "    <tr>\n",
       "      <th>0</th>\n",
       "      <td>2022090800</td>\n",
       "      <td>56</td>\n",
       "      <td>3.31</td>\n",
       "      <td>3.65</td>\n",
       "      <td>18.76</td>\n",
       "    </tr>\n",
       "    <tr>\n",
       "      <th>1</th>\n",
       "      <td>2022090800</td>\n",
       "      <td>80</td>\n",
       "      <td>2.59</td>\n",
       "      <td>2.25</td>\n",
       "      <td>8.33</td>\n",
       "    </tr>\n",
       "    <tr>\n",
       "      <th>2</th>\n",
       "      <td>2022090800</td>\n",
       "      <td>101</td>\n",
       "      <td>2.25</td>\n",
       "      <td>2.85</td>\n",
       "      <td>13.46</td>\n",
       "    </tr>\n",
       "  </tbody>\n",
       "</table>\n",
       "</div>"
      ],
      "text/plain": [
       "       gameId  playId  def_a_max  def_s_max  def_dis_max\n",
       "0  2022090800      56       3.31       3.65        18.76\n",
       "1  2022090800      80       2.59       2.25         8.33\n",
       "2  2022090800     101       2.25       2.85        13.46"
      ]
     },
     "execution_count": 15,
     "metadata": {},
     "output_type": "execute_result"
    }
   ],
   "source": [
    "def_only = pd.read_csv('data/def_maxima.csv')\n",
    "def_only.head(3)"
   ]
  },
  {
   "cell_type": "code",
   "execution_count": 16,
   "metadata": {},
   "outputs": [],
   "source": [
    "train_data = train_data.merge(def_only,how='left')"
   ]
  },
  {
   "cell_type": "markdown",
   "metadata": {},
   "source": [
    "Calculat deltas between offense/defense play-level maxima:"
   ]
  },
  {
   "cell_type": "code",
   "execution_count": 17,
   "metadata": {},
   "outputs": [],
   "source": [
    "train_data['accel_max_delta'] = train_data['off_motion_amax']-train_data['def_a_max']\n",
    "train_data['speed_max_delta'] = train_data['off_motion_smax']-train_data['def_s_max']\n",
    "train_data['distance_max_delta'] = train_data['off_motion_dsum']-train_data['def_s_max']"
   ]
  },
  {
   "cell_type": "markdown",
   "metadata": {},
   "source": [
    "We now examine the relation between our new features and whether the team passed:"
   ]
  },
  {
   "cell_type": "code",
   "execution_count": null,
   "metadata": {},
   "outputs": [],
   "source": [
    "train_data['motion_sum'] = train_data[motion_cols].sum(axis=1)\n",
    "train_data['counted_dist'] = train_data['off_motion_dsum']-.3*train_data['motion_sum']"
   ]
  },
  {
   "cell_type": "code",
   "execution_count": 23,
   "metadata": {},
   "outputs": [
    {
     "data": {
      "text/plain": [
       "counted_dist          0.194487\n",
       "off_motion_amax       0.155582\n",
       "off_motion_smax       0.176048\n",
       "off_motion_dsum       0.194580\n",
       "accel_max_delta       0.150124\n",
       "speed_max_delta       0.163564\n",
       "distance_max_delta    0.195919\n",
       "motion_sum            0.160328\n",
       "Name: pass, dtype: float64"
      ]
     },
     "execution_count": 23,
     "metadata": {},
     "output_type": "execute_result"
    }
   ],
   "source": [
    "train_data.corr()['pass'][['counted_dist','off_motion_amax','off_motion_smax','off_motion_dsum','accel_max_delta','speed_max_delta','distance_max_delta','motion_sum']]"
   ]
  },
  {
   "cell_type": "markdown",
   "metadata": {},
   "source": [
    "### Explore features visually\n",
    "\n",
    "The below graphs break out our metrics by offense, defense, and the delta between the two:"
   ]
  },
  {
   "cell_type": "code",
   "execution_count": 25,
   "metadata": {},
   "outputs": [],
   "source": [
    "train_motion = train_data[train_data['motion_sum'] > 0]"
   ]
  },
  {
   "cell_type": "code",
   "execution_count": 26,
   "metadata": {},
   "outputs": [],
   "source": [
    "y1_mean = [train_motion['off_motion_amax'].mean(),train_motion['def_a_max'].mean(),train_data['accel_max_delta'].mean()]\n",
    "y2_mean = [train_motion['off_motion_smax'].mean(),train_motion['def_s_max'].mean(),train_data['speed_max_delta'].mean()]\n",
    "y3_mean = [train_motion['off_motion_dsum'].mean(),train_motion['def_dis_max'].mean(),train_data['distance_max_delta'].mean()]"
   ]
  },
  {
   "cell_type": "markdown",
   "metadata": {},
   "source": [
    "First we examine the average team-high values, by play, of accel, speed, and distance traveled:"
   ]
  },
  {
   "cell_type": "code",
   "execution_count": 27,
   "metadata": {},
   "outputs": [
    {
     "data": {
      "image/png": "[encoded data removed]",
      "text/plain": [
       "<Figure size 640x480 with 1 Axes>"
      ]
     },
     "metadata": {},
     "output_type": "display_data"
    }
   ],
   "source": [
    "# importing package \n",
    "import matplotlib.pyplot as plt \n",
    "import numpy as np \n",
    "\n",
    "# create data \n",
    "x = np.arange(3) \n",
    "width = 0.2\n",
    "\n",
    "# plot data in grouped manner of bar type \n",
    "plt.bar(x-width, y1_mean, width, color='cyan') \n",
    "plt.bar(x, y2_mean, width, color='orange') \n",
    "plt.bar(x+width, y3_mean, width, color='green') \n",
    "plt.xticks(x, ['Offense', 'Defense','Delta']) \n",
    "#plt.xlabel(\"Group\") \n",
    "plt.ylabel(\"Mean\") \n",
    "plt.legend([\"Acceleration\", \"Speed\", \"Distance\"]) \n",
    "plt.title('Comparative Means of Top Player Metrics (Motion Plays)')\n",
    "plt.show() "
   ]
  },
  {
   "cell_type": "code",
   "execution_count": 28,
   "metadata": {},
   "outputs": [],
   "source": [
    "y1_median = [train_motion['off_motion_amax'].median(),train_motion['def_a_max'].median(),train_data['accel_max_delta'].median()]\n",
    "y2_median = [train_motion['off_motion_smax'].median(),train_motion['def_s_max'].median(),train_data['speed_max_delta'].median()]\n",
    "y3_median = [train_motion['off_motion_dsum'].median(),train_motion['def_dis_max'].median(),train_data['distance_max_delta'].median()]"
   ]
  },
  {
   "cell_type": "markdown",
   "metadata": {},
   "source": [
    "We do the same, but with the median values now:"
   ]
  },
  {
   "cell_type": "code",
   "execution_count": 29,
   "metadata": {},
   "outputs": [
    {
     "data": {
      "image/png": "[encoded data removed]",
      "text/plain": [
       "<Figure size 640x480 with 1 Axes>"
      ]
     },
     "metadata": {},
     "output_type": "display_data"
    }
   ],
   "source": [
    "# importing package \n",
    "import matplotlib.pyplot as plt \n",
    "import numpy as np \n",
    "\n",
    "# create data \n",
    "x = np.arange(3) \n",
    "width = 0.2\n",
    "\n",
    "# plot data in grouped manner of bar type \n",
    "plt.bar(x-width, y1_median, width, color='cyan') \n",
    "plt.bar(x, y2_median, width, color='orange') \n",
    "plt.bar(x+width, y3_median, width, color='green') \n",
    "plt.xticks(x, ['Offense', 'Defense','Delta']) \n",
    "#plt.xlabel(\"Group\") \n",
    "plt.ylabel(\"Mean\") \n",
    "plt.legend([\"Acceleration\", \"Speed\", \"Distance\"]) \n",
    "plt.title('Comparative Medians of Top Player Metrics (Motion Plays)')\n",
    "plt.show() "
   ]
  },
  {
   "cell_type": "markdown",
   "metadata": {},
   "source": [
    "### Further metric engineering\n",
    "\n",
    "We try and figure out different ways to slice our shift/motion data, but to little avail. While inverting the motion-shift difference looks promising, a test actually showed it negatively impacted performance (~4% decrease to 77% test accuracy)."
   ]
  },
  {
   "cell_type": "code",
   "execution_count": 37,
   "metadata": {},
   "outputs": [],
   "source": [
    "train_data['shift_sum'] = train_data[momentum_cols].sum(axis=1)\n",
    "train_data['ms_delta'] = train_data['motion_sum'] - train_data['shift_sum']\n",
    "train_data['ms_flag'] = (train_data['ms_delta'] > 0).astype(int)\n",
    "train_data['ms_flag'] = train_data['ms_flag'].replace(0,-1)\n",
    "train_data['ms_adj'] = train_data['ms_flag'] * train_data['off_motion_dsum']\n",
    "train_data['inv_delta'] = 1/train_data['ms_delta']"
   ]
  },
  {
   "cell_type": "code",
   "execution_count": 93,
   "metadata": {},
   "outputs": [
    {
     "data": {
      "text/plain": [
       "ms_delta           0.225410\n",
       "ms_adj             0.175614\n",
       "motion_sum         0.160328\n",
       "shift_sum         -0.139762\n",
       "pass               1.000000\n",
       "off_motion_dsum    0.194580\n",
       "inv_delta          0.364604\n",
       "Name: pass, dtype: float64"
      ]
     },
     "execution_count": 93,
     "metadata": {},
     "output_type": "execute_result"
    }
   ],
   "source": [
    "train_data[['ms_delta','ms_adj','motion_sum','shift_sum','pass','off_motion_dsum','inv_delta']].corr()['pass']"
   ]
  },
  {
   "cell_type": "code",
   "execution_count": 94,
   "metadata": {},
   "outputs": [
    {
     "data": {
      "text/html": [
       "<div>\n",
       "<style scoped>\n",
       "    .dataframe tbody tr th:only-of-type {\n",
       "        vertical-align: middle;\n",
       "    }\n",
       "\n",
       "    .dataframe tbody tr th {\n",
       "        vertical-align: top;\n",
       "    }\n",
       "\n",
       "    .dataframe thead th {\n",
       "        text-align: right;\n",
       "    }\n",
       "</style>\n",
       "<table border=\"1\" class=\"dataframe\">\n",
       "  <thead>\n",
       "    <tr style=\"text-align: right;\">\n",
       "      <th></th>\n",
       "      <th>ms_delta</th>\n",
       "      <th>ms_adj</th>\n",
       "      <th>motion_sum</th>\n",
       "      <th>shift_sum</th>\n",
       "      <th>pass</th>\n",
       "      <th>off_motion_dsum</th>\n",
       "      <th>inv_delta</th>\n",
       "    </tr>\n",
       "  </thead>\n",
       "  <tbody>\n",
       "    <tr>\n",
       "      <th>ms_delta</th>\n",
       "      <td>1.000000</td>\n",
       "      <td>0.662583</td>\n",
       "      <td>0.697500</td>\n",
       "      <td>-0.634882</td>\n",
       "      <td>0.225410</td>\n",
       "      <td>0.649691</td>\n",
       "      <td>0.854509</td>\n",
       "    </tr>\n",
       "    <tr>\n",
       "      <th>ms_adj</th>\n",
       "      <td>0.662583</td>\n",
       "      <td>1.000000</td>\n",
       "      <td>0.582020</td>\n",
       "      <td>-0.291422</td>\n",
       "      <td>0.175614</td>\n",
       "      <td>0.821467</td>\n",
       "      <td>0.757583</td>\n",
       "    </tr>\n",
       "    <tr>\n",
       "      <th>motion_sum</th>\n",
       "      <td>0.697500</td>\n",
       "      <td>0.582020</td>\n",
       "      <td>1.000000</td>\n",
       "      <td>0.110810</td>\n",
       "      <td>0.160328</td>\n",
       "      <td>0.804164</td>\n",
       "      <td>0.751245</td>\n",
       "    </tr>\n",
       "    <tr>\n",
       "      <th>shift_sum</th>\n",
       "      <td>-0.634882</td>\n",
       "      <td>-0.291422</td>\n",
       "      <td>0.110810</td>\n",
       "      <td>1.000000</td>\n",
       "      <td>-0.139762</td>\n",
       "      <td>-0.034029</td>\n",
       "      <td>-0.725465</td>\n",
       "    </tr>\n",
       "    <tr>\n",
       "      <th>pass</th>\n",
       "      <td>0.225410</td>\n",
       "      <td>0.175614</td>\n",
       "      <td>0.160328</td>\n",
       "      <td>-0.139762</td>\n",
       "      <td>1.000000</td>\n",
       "      <td>0.194580</td>\n",
       "      <td>0.364604</td>\n",
       "    </tr>\n",
       "    <tr>\n",
       "      <th>off_motion_dsum</th>\n",
       "      <td>0.649691</td>\n",
       "      <td>0.821467</td>\n",
       "      <td>0.804164</td>\n",
       "      <td>-0.034029</td>\n",
       "      <td>0.194580</td>\n",
       "      <td>1.000000</td>\n",
       "      <td>0.747589</td>\n",
       "    </tr>\n",
       "    <tr>\n",
       "      <th>inv_delta</th>\n",
       "      <td>0.854509</td>\n",
       "      <td>0.757583</td>\n",
       "      <td>0.751245</td>\n",
       "      <td>-0.725465</td>\n",
       "      <td>0.364604</td>\n",
       "      <td>0.747589</td>\n",
       "      <td>1.000000</td>\n",
       "    </tr>\n",
       "  </tbody>\n",
       "</table>\n",
       "</div>"
      ],
      "text/plain": [
       "                 ms_delta    ms_adj  motion_sum  shift_sum      pass  \\\n",
       "ms_delta         1.000000  0.662583    0.697500  -0.634882  0.225410   \n",
       "ms_adj           0.662583  1.000000    0.582020  -0.291422  0.175614   \n",
       "motion_sum       0.697500  0.582020    1.000000   0.110810  0.160328   \n",
       "shift_sum       -0.634882 -0.291422    0.110810   1.000000 -0.139762   \n",
       "pass             0.225410  0.175614    0.160328  -0.139762  1.000000   \n",
       "off_motion_dsum  0.649691  0.821467    0.804164  -0.034029  0.194580   \n",
       "inv_delta        0.854509  0.757583    0.751245  -0.725465  0.364604   \n",
       "\n",
       "                 off_motion_dsum  inv_delta  \n",
       "ms_delta                0.649691   0.854509  \n",
       "ms_adj                  0.821467   0.757583  \n",
       "motion_sum              0.804164   0.751245  \n",
       "shift_sum              -0.034029  -0.725465  \n",
       "pass                    0.194580   0.364604  \n",
       "off_motion_dsum         1.000000   0.747589  \n",
       "inv_delta               0.747589   1.000000  "
      ]
     },
     "execution_count": 94,
     "metadata": {},
     "output_type": "execute_result"
    }
   ],
   "source": [
    "train_data[['ms_delta','ms_adj','motion_sum','shift_sum','pass','off_motion_dsum','inv_delta']].corr()"
   ]
  }
 ],
 "metadata": {
  "kernelspec": {
   "display_name": ".venv",
   "language": "python",
   "name": "python3"
  },
  "language_info": {
   "codemirror_mode": {
    "name": "ipython",
    "version": 3
   },
   "file_extension": ".py",
   "mimetype": "text/x-python",
   "name": "python",
   "nbconvert_exporter": "python",
   "pygments_lexer": "ipython3",
   "version": "3.9.15"
  }
 },
 "nbformat": 4,
 "nbformat_minor": 2
}
