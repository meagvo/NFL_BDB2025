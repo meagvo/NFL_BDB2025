{
 "cells": [
  {
   "cell_type": "code",
   "execution_count": 1,
   "metadata": {},
   "outputs": [],
   "source": [
    "import pandas as pd\n",
    "import matplotlib.pyplot as plt\n",
    "import os\n",
    "import seaborn as sns\n",
    "import numpy as np\n",
    "from utility_db_25 import get_momentum_cols, create_momentum_index, get_final_features, get_motion_cols, motion_complexity_score"
   ]
  },
  {
   "cell_type": "code",
   "execution_count": 2,
   "metadata": {},
   "outputs": [],
   "source": [
    "root_dir = os.getcwd()"
   ]
  },
  {
   "cell_type": "markdown",
   "metadata": {},
   "source": [
    "Temporary complexity_score rework:"
   ]
  },
  {
   "cell_type": "code",
   "execution_count": 3,
   "metadata": {},
   "outputs": [],
   "source": [
    "def motion_complexity_score(data, motion_cols):\n",
    "    dir_cols=['dir_standard|mean|C_1',\n",
    "    'dir_standard|mean|C_2',\n",
    "    'dir_standard|mean|FB_1',\n",
    "    'dir_standard|mean|G_1',\n",
    "    'dir_standard|mean|G_2',\n",
    "    'dir_standard|mean|G_3',\n",
    "    'dir_standard|mean|ILB_1',\n",
    "    'dir_standard|mean|RB_1',\n",
    "    'dir_standard|mean|RB_2',\n",
    "    'dir_standard|mean|TE_1',\n",
    "    'dir_standard|mean|TE_2',\n",
    "    'dir_standard|mean|TE_3',\n",
    "    'dir_standard|mean|T_1',\n",
    "    'dir_standard|mean|T_2',\n",
    "    'dir_standard|mean|T_3',\n",
    "    'dir_standard|mean|T_4',\n",
    "    'dir_standard|mean|WR_1',\n",
    "    'dir_standard|mean|WR_2',\n",
    "    'dir_standard|mean|WR_3',\n",
    "    'dir_standard|mean|WR_4',\n",
    "    'dir_standard|mean|WR_5']\n",
    "    x_cols=['x_standard|mean|C_1',\n",
    "    'x_standard|mean|C_2',\n",
    "    'x_standard|mean|FB_1',\n",
    "    'x_standard|mean|G_1',\n",
    "    'x_standard|mean|G_2',\n",
    "    'x_standard|mean|G_3',\n",
    "    'x_standard|mean|ILB_1',\n",
    "    'x_standard|mean|RB_1',\n",
    "    'x_standard|mean|RB_2',\n",
    "    'x_standard|mean|TE_1',\n",
    "    'x_standard|mean|TE_2',\n",
    "    'x_standard|mean|TE_3',\n",
    "    'x_standard|mean|T_1',\n",
    "    'x_standard|mean|T_2',\n",
    "    'x_standard|mean|T_3',\n",
    "    'x_standard|mean|T_4',\n",
    "    'x_standard|mean|WR_1',\n",
    "    'x_standard|mean|WR_2',\n",
    "    'x_standard|mean|WR_3',\n",
    "    'x_standard|mean|WR_4',\n",
    "    'x_standard|mean|WR_5']\n",
    "    y_cols=['y_standard|mean|C_1',\n",
    "    'y_standard|mean|C_2',\n",
    "    'y_standard|mean|FB_1',\n",
    "    'y_standard|mean|G_1',\n",
    "    'y_standard|mean|G_2',\n",
    "    'y_standard|mean|G_3',\n",
    "    'y_standard|mean|ILB_1',\n",
    "    'y_standard|mean|RB_1',\n",
    "    'y_standard|mean|RB_2',\n",
    "    'y_standard|mean|TE_1',\n",
    "    'y_standard|mean|TE_2',\n",
    "    'y_standard|mean|TE_3',\n",
    "    'y_standard|mean|T_1',\n",
    "    'y_standard|mean|T_2',\n",
    "    'y_standard|mean|T_3',\n",
    "    'y_standard|mean|T_4',\n",
    "    'y_standard|mean|WR_1',\n",
    "    'y_standard|mean|WR_2',\n",
    "    'y_standard|mean|WR_3',\n",
    "    'y_standard|mean|WR_4',\n",
    "    'y_standard|mean|WR_5']\n",
    "    for c in dir_cols:\n",
    "        data[c+'_QBdiff']=abs(data['dir_standard|mean|QB_1']-data[c].astype(float))\n",
    "    for c in y_cols:\n",
    "        data[c+'_QBdiff']=abs(data['y_standard|mean|QB_1']-data[c].astype(float))\n",
    "    for c in x_cols:\n",
    "        data[c+'_QBdiff']=abs(data['x_standard|mean|QB_1']-data[c].astype(float))\n",
    "    data['QBdff_TE']=data[['dir_standard|mean|TE_1_QBdiff','dir_standard|mean|TE_2_QBdiff','dir_standard|mean|TE_3_QBdiff']].mean(axis=1).astype(float)\n",
    "    data['QBdff_RB']=data[['dir_standard|mean|RB_1_QBdiff','dir_standard|mean|RB_2_QBdiff']].mean(axis=1).astype(float)\n",
    "    data['QBdff_G']=data[['dir_standard|mean|G_1_QBdiff','dir_standard|mean|G_2_QBdiff','dir_standard|mean|G_3_QBdiff']].mean(axis=1).astype(float)\n",
    "    data['QBdff_T']=data[['dir_standard|mean|T_1_QBdiff','dir_standard|mean|T_2_QBdiff','dir_standard|mean|T_3_QBdiff', 'dir_standard|mean|T_4_QBdiff']].mean(axis=1).astype(float)\n",
    "    data['QBdff_WR']=data[['dir_standard|mean|WR_1_QBdiff','dir_standard|mean|WR_2_QBdiff','dir_standard|mean|WR_3_QBdiff', 'dir_standard|mean|WR_4_QBdiff', 'dir_standard|mean|WR_5_QBdiff']].mean(axis=1).astype(float)\n",
    "    data['QBdffy_TE']=data[['y_standard|mean|TE_1_QBdiff','y_standard|mean|TE_2_QBdiff','y_standard|mean|TE_3_QBdiff']].mean(axis=1).astype(float)\n",
    "    data['QBdffy_RB']=data[['y_standard|mean|RB_1_QBdiff','y_standard|mean|RB_2_QBdiff']].mean(axis=1).astype(float)\n",
    "    data['QBdffx_RB']=data[['x_standard|mean|RB_1_QBdiff','x_standard|mean|RB_2_QBdiff']].mean(axis=1).astype(float)\n",
    "    data['QB_RB1_offset']=np.sqrt(np.square(data['x_standard|mean|RB_1_QBdiff']) + np.square(data['y_standard|mean|RB_1_QBdiff']**2))\n",
    "    data['QBdffy_G']=data[['y_standard|mean|G_1_QBdiff','y_standard|mean|G_2_QBdiff','y_standard|mean|G_3_QBdiff']].mean(axis=1).astype(float)\n",
    "    data['QBdffy_T']=data[['y_standard|mean|T_1_QBdiff','y_standard|mean|T_2_QBdiff','y_standard|mean|T_3_QBdiff', 'y_standard|mean|T_4_QBdiff']].mean(axis=1).astype(float)\n",
    "    data['QBdffy_WR']=data[['y_standard|mean|WR_1_QBdiff','y_standard|mean|WR_2_QBdiff','y_standard|mean|WR_3_QBdiff', 'y_standard|mean|WR_4_QBdiff', 'y_standard|mean|WR_5_QBdiff']].mean(axis=1).astype(float)\n",
    "    data['presnap_motion_complexity']=data[motion_cols].sum(axis=1).fillna(0).astype(float)\n",
    "    data['motion-momentum']= (data['presnap_motion_complexity']-data['presnap_momentum']).astype(float) #how many more people moved compared to how many shifted (over 2.5 yards)\n",
    "    data['neg_Formations']=data[['offenseFormation_SINGLEBACK' ,'offenseFormation_I_FORM', 'offenseFormation_PISTOL']].sum(axis=1).astype(int)\n",
    "    data['neg_alignment']=data[['receiverAlignment_1x1', 'receiverAlignment_2x1']].sum(axis=1).astype(int)\n",
    "    data.drop(columns=['y_standard|mean|WR_1_QBdiff','y_standard|mean|WR_2_QBdiff','y_standard|mean|WR_3_QBdiff', 'y_standard|mean|WR_4_QBdiff', 'y_standard|mean|WR_5_QBdiff','y_standard|mean|RB_1_QBdiff','y_standard|mean|RB_2_QBdiff','y_standard|mean|T_1_QBdiff','y_standard|mean|T_2_QBdiff','y_standard|mean|T_3_QBdiff', 'y_standard|mean|T_4_QBdiff','y_standard|mean|G_1_QBdiff','y_standard|mean|G_2_QBdiff','y_standard|mean|G_3_QBdiff','y_standard|mean|TE_1_QBdiff','y_standard|mean|TE_2_QBdiff','y_standard|mean|TE_3_QBdiff', 'dir_standard|mean|WR_1_QBdiff','dir_standard|mean|WR_2_QBdiff','dir_standard|mean|WR_3_QBdiff', 'dir_standard|mean|WR_4_QBdiff', 'dir_standard|mean|WR_5_QBdiff','dir_standard|mean|RB_1_QBdiff','dir_standard|mean|RB_2_QBdiff','dir_standard|mean|T_1_QBdiff','dir_standard|mean|T_2_QBdiff','dir_standard|mean|T_3_QBdiff', 'dir_standard|mean|T_4_QBdiff','dir_standard|mean|G_1_QBdiff','dir_standard|mean|G_2_QBdiff','dir_standard|mean|G_3_QBdiff','dir_standard|mean|TE_1_QBdiff','dir_standard|mean|TE_2_QBdiff','dir_standard|mean|TE_3_QBdiff', 'offenseFormation_SINGLEBACK' ,'offenseFormation_I_FORM','offenseFormation_PISTOL','receiverAlignment_1x1', 'receiverAlignment_2x1'], inplace=True)\n",
    "    data.drop(columns=motion_cols, inplace=True)\n",
    "    data.drop(columns=dir_cols, inplace=True)\n",
    "    data.drop(columns=y_cols, inplace=True)\n",
    "    data.drop(columns=x_cols, inplace=True)\n",
    "    return data"
   ]
  },
  {
   "cell_type": "markdown",
   "metadata": {},
   "source": [
    "# Import data"
   ]
  },
  {
   "cell_type": "code",
   "execution_count": 4,
   "metadata": {},
   "outputs": [],
   "source": [
    "df_plays = pd.read_csv(os.path.join(root_dir,'data/plays.csv'))"
   ]
  },
  {
   "cell_type": "code",
   "execution_count": 5,
   "metadata": {},
   "outputs": [],
   "source": [
    "train_data=pd.read_csv(os.path.join(root_dir, \"data/train_data.csv\"))\n",
    "test_data=pd.read_csv(os.path.join(root_dir, \"data/test_data.csv\"))"
   ]
  },
  {
   "cell_type": "code",
   "execution_count": 6,
   "metadata": {},
   "outputs": [],
   "source": [
    "include_columns=[x for x in test_data.columns if '_def' not in x]+['pass_rate_def']\n",
    "train_data=train_data[include_columns]\n",
    "test_data = test_data[include_columns]"
   ]
  },
  {
   "cell_type": "code",
   "execution_count": 7,
   "metadata": {},
   "outputs": [],
   "source": [
    "motion_cols=get_motion_cols(train_data.columns)\n",
    "momentum_cols=get_momentum_cols(train_data.columns)\n",
    "train_data=create_momentum_index(train_data, momentum_cols)\n",
    "test_data=create_momentum_index(test_data, momentum_cols)"
   ]
  },
  {
   "cell_type": "code",
   "execution_count": 8,
   "metadata": {},
   "outputs": [],
   "source": [
    "train_data = train_data.merge(df_plays[['gameId','playId','playAction','isDropback']].drop_duplicates(),how='left')"
   ]
  },
  {
   "cell_type": "markdown",
   "metadata": {},
   "source": [
    "# Analyze formation, alignment impact on play-action\n",
    "\n",
    "Play action should happen more from run formations; we verify:"
   ]
  },
  {
   "cell_type": "code",
   "execution_count": 9,
   "metadata": {},
   "outputs": [],
   "source": [
    "# define for graphs\n",
    "paf = (train_data.loc[:,[x for x in train_data.columns if 'Formation' in x]+['playAction']].corr()['playAction'][:-1])\n",
    "psf = (train_data.loc[:,[x for x in train_data.columns if 'Formation' in x]+['isDropback']].corr()['isDropback'][:-1])\n",
    "para = train_data.loc[:,[x for x in train_data.columns if 'receiverAlignment' in x]+['playAction']].corr()['playAction'][:-1]\n",
    "psra = train_data.loc[:,[x for x in train_data.columns if 'receiverAlignment' in x]+['isDropback']].corr()['isDropback'][:-1]\n",
    "\n",
    "# graph nonsense\n",
    "ind = np.arange(7)\n",
    "width = 0.3  "
   ]
  },
  {
   "cell_type": "markdown",
   "metadata": {},
   "source": [
    "### Formation Analysis\n",
    "\n",
    "I-Form, Pistol, Singleback more heavily correlated with PA than just passing (Jumbo, Wildcat too low-sample)\n",
    "\n",
    "Notably, these three comprise \"neg_formations\""
   ]
  },
  {
   "cell_type": "code",
   "execution_count": 10,
   "metadata": {},
   "outputs": [
    {
     "data": {
      "text/plain": [
       "Text(0.5, 0, 'Formation')"
      ]
     },
     "execution_count": 10,
     "metadata": {},
     "output_type": "execute_result"
    },
    {
     "data": {
      "image/png": "[encoded data removed]",
      "text/plain": [
       "<Figure size 900x350 with 1 Axes>"
      ]
     },
     "metadata": {},
     "output_type": "display_data"
    }
   ],
   "source": [
    "plt.figure(figsize=(9,3.5))\n",
    "plt.bar(ind,paf,width,tick_label=[x.split('offenseFormation_')[1] for x in paf.index],label='PA Rate')\n",
    "plt.bar(ind+width,psf,width,tick_label=[x.split('offenseFormation_')[1] for x in psf.index],label='Pass Rate')\n",
    "plt.legend(loc='best')\n",
    "plt.title('Pass, Play Action Correlations (by Formation)')\n",
    "plt.ylabel('Correlation')\n",
    "plt.xlabel('Formation')"
   ]
  },
  {
   "cell_type": "markdown",
   "metadata": {},
   "source": [
    "### Alignment Analysis\n",
    "\n",
    "2x2, 2x1 show the biggest relative signal for PA passes (1x1, 2x0 too small a sample)\n",
    "\n",
    "Again, 2x1, 1x1 pop up in neg_alignments; however, 1x1 is a small sample"
   ]
  },
  {
   "cell_type": "code",
   "execution_count": 11,
   "metadata": {},
   "outputs": [
    {
     "data": {
      "text/plain": [
       "Text(0.5, 0, 'Alignment')"
      ]
     },
     "execution_count": 11,
     "metadata": {},
     "output_type": "execute_result"
    },
    {
     "data": {
      "image/png": "[encoded data removed]",
      "text/plain": [
       "<Figure size 800x400 with 1 Axes>"
      ]
     },
     "metadata": {},
     "output_type": "display_data"
    }
   ],
   "source": [
    "plt.figure(figsize=(8,4))\n",
    "plt.bar(np.arange(8),para,width,tick_label=[x.split('receiverAlignment_')[1] for x in para.index],label='PA Corr.')\n",
    "plt.bar(np.arange(8)+width,psra,width,tick_label=[x.split('receiverAlignment_')[1] for x in psra.index],label='Pass Corr.')\n",
    "plt.legend(loc='best')\n",
    "plt.title('Pass, Play Action Correlations (by Alignment)')\n",
    "plt.ylabel('Correlation')\n",
    "plt.xlabel('Alignment')"
   ]
  },
  {
   "cell_type": "markdown",
   "metadata": {},
   "source": [
    "### Incorporate complexity score\n",
    "\n",
    "This removes formation info, so don't want to mess stuff up earlier:"
   ]
  },
  {
   "cell_type": "code",
   "execution_count": 12,
   "metadata": {},
   "outputs": [],
   "source": [
    "train_data=motion_complexity_score(train_data, motion_cols)\n",
    "test_data=motion_complexity_score(test_data, motion_cols)"
   ]
  },
  {
   "cell_type": "markdown",
   "metadata": {},
   "source": [
    "# Get play-action correlations, compare to run plays\n",
    "\n",
    "Gist is, we want to see what differentiates a play-action pass from a run:"
   ]
  },
  {
   "cell_type": "code",
   "execution_count": 13,
   "metadata": {},
   "outputs": [],
   "source": [
    "train_data['isRun'] = ~train_data['isDropback'].astype(bool)"
   ]
  },
  {
   "cell_type": "code",
   "execution_count": 14,
   "metadata": {},
   "outputs": [],
   "source": [
    "#pa_corrs = train_data[[x for x in train_data.columns if 'TE_2' not in x and 'FB_1' not in x]].corr()['playAction'].sort_values(ascending=False)[3:]\n",
    "pa_corrs = train_data.corr()['playAction'].sort_values(ascending=False)[3:]"
   ]
  },
  {
   "cell_type": "markdown",
   "metadata": {},
   "source": [
    "Get play-action, run-play feature correlations, then compare the ordinal ranking of each feature w/r/t correlation:"
   ]
  },
  {
   "cell_type": "code",
   "execution_count": 15,
   "metadata": {},
   "outputs": [],
   "source": [
    "# pa correlations\n",
    "pac_df = pa_corrs.reset_index().sort_values(by='playAction',ascending=False)\n",
    "pac_df['pa_rank'] = range(1,len(pac_df)+1)\n",
    "\n",
    "# run correlations\n",
    "rc_df = train_data.corr()['isRun'].reset_index().sort_values(by='isRun',ascending=False)\n",
    "rc_df['db_rank'] = range(1,len(rc_df)+1)\n",
    "\n",
    "# merge\n",
    "pa_run_merged = pac_df.merge(rc_df,how='left',on='index')\n",
    "pa_run_merged['ord_delta'] = pa_run_merged['db_rank'] - pa_run_merged['pa_rank']"
   ]
  },
  {
   "cell_type": "markdown",
   "metadata": {},
   "source": [
    "Note that nominally, Tight Ends and Fullbacks have an immense weight on play-action. \n",
    "\n",
    "However, it's all about *impact relative to run plays*.\n",
    "\n",
    "Comparing correlations ordinally, we see the 'TE_2' flag mainly tells us we're in a run-favorable formation, true for both runs and PA:"
   ]
  },
  {
   "cell_type": "code",
   "execution_count": 16,
   "metadata": {},
   "outputs": [
    {
     "data": {
      "text/html": [
       "<div>\n",
       "<style scoped>\n",
       "    .dataframe tbody tr th:only-of-type {\n",
       "        vertical-align: middle;\n",
       "    }\n",
       "\n",
       "    .dataframe tbody tr th {\n",
       "        vertical-align: top;\n",
       "    }\n",
       "\n",
       "    .dataframe thead th {\n",
       "        text-align: right;\n",
       "    }\n",
       "</style>\n",
       "<table border=\"1\" class=\"dataframe\">\n",
       "  <thead>\n",
       "    <tr style=\"text-align: right;\">\n",
       "      <th></th>\n",
       "      <th>index</th>\n",
       "      <th>playAction</th>\n",
       "      <th>pa_rank</th>\n",
       "      <th>isRun</th>\n",
       "      <th>db_rank</th>\n",
       "      <th>ord_delta</th>\n",
       "    </tr>\n",
       "  </thead>\n",
       "  <tbody>\n",
       "    <tr>\n",
       "      <th>5</th>\n",
       "      <td>x_standard|std|QB_1</td>\n",
       "      <td>0.124477</td>\n",
       "      <td>6</td>\n",
       "      <td>0.215812</td>\n",
       "      <td>6</td>\n",
       "      <td>0</td>\n",
       "    </tr>\n",
       "    <tr>\n",
       "      <th>6</th>\n",
       "      <td>is_motion</td>\n",
       "      <td>0.116296</td>\n",
       "      <td>7</td>\n",
       "      <td>0.108375</td>\n",
       "      <td>22</td>\n",
       "      <td>15</td>\n",
       "    </tr>\n",
       "    <tr>\n",
       "      <th>7</th>\n",
       "      <td>x_standard|mean|WR_3_QBdiff</td>\n",
       "      <td>0.103405</td>\n",
       "      <td>8</td>\n",
       "      <td>0.246717</td>\n",
       "      <td>5</td>\n",
       "      <td>-3</td>\n",
       "    </tr>\n",
       "    <tr>\n",
       "      <th>8</th>\n",
       "      <td>o_standard|mean|TE_2</td>\n",
       "      <td>0.094608</td>\n",
       "      <td>9</td>\n",
       "      <td>0.214633</td>\n",
       "      <td>7</td>\n",
       "      <td>-2</td>\n",
       "    </tr>\n",
       "    <tr>\n",
       "      <th>9</th>\n",
       "      <td>dir_standard|std|TE_2</td>\n",
       "      <td>0.088798</td>\n",
       "      <td>10</td>\n",
       "      <td>0.204437</td>\n",
       "      <td>8</td>\n",
       "      <td>-2</td>\n",
       "    </tr>\n",
       "    <tr>\n",
       "      <th>10</th>\n",
       "      <td>time_remaining</td>\n",
       "      <td>0.088328</td>\n",
       "      <td>11</td>\n",
       "      <td>0.009909</td>\n",
       "      <td>137</td>\n",
       "      <td>126</td>\n",
       "    </tr>\n",
       "    <tr>\n",
       "      <th>11</th>\n",
       "      <td>a|max|TE_2</td>\n",
       "      <td>0.081130</td>\n",
       "      <td>12</td>\n",
       "      <td>0.185505</td>\n",
       "      <td>10</td>\n",
       "      <td>-2</td>\n",
       "    </tr>\n",
       "    <tr>\n",
       "      <th>12</th>\n",
       "      <td>s|max|TE_2</td>\n",
       "      <td>0.080004</td>\n",
       "      <td>13</td>\n",
       "      <td>0.170140</td>\n",
       "      <td>13</td>\n",
       "      <td>0</td>\n",
       "    </tr>\n",
       "    <tr>\n",
       "      <th>13</th>\n",
       "      <td>x_standard|std|TE_2</td>\n",
       "      <td>0.078242</td>\n",
       "      <td>14</td>\n",
       "      <td>0.163572</td>\n",
       "      <td>15</td>\n",
       "      <td>1</td>\n",
       "    </tr>\n",
       "    <tr>\n",
       "      <th>14</th>\n",
       "      <td>dis|sum|TE_2</td>\n",
       "      <td>0.076202</td>\n",
       "      <td>15</td>\n",
       "      <td>0.141185</td>\n",
       "      <td>17</td>\n",
       "      <td>2</td>\n",
       "    </tr>\n",
       "  </tbody>\n",
       "</table>\n",
       "</div>"
      ],
      "text/plain": [
       "                          index  playAction  pa_rank     isRun  db_rank  \\\n",
       "5           x_standard|std|QB_1    0.124477        6  0.215812        6   \n",
       "6                     is_motion    0.116296        7  0.108375       22   \n",
       "7   x_standard|mean|WR_3_QBdiff    0.103405        8  0.246717        5   \n",
       "8          o_standard|mean|TE_2    0.094608        9  0.214633        7   \n",
       "9         dir_standard|std|TE_2    0.088798       10  0.204437        8   \n",
       "10               time_remaining    0.088328       11  0.009909      137   \n",
       "11                   a|max|TE_2    0.081130       12  0.185505       10   \n",
       "12                   s|max|TE_2    0.080004       13  0.170140       13   \n",
       "13          x_standard|std|TE_2    0.078242       14  0.163572       15   \n",
       "14                 dis|sum|TE_2    0.076202       15  0.141185       17   \n",
       "\n",
       "    ord_delta  \n",
       "5           0  \n",
       "6          15  \n",
       "7          -3  \n",
       "8          -2  \n",
       "9          -2  \n",
       "10        126  \n",
       "11         -2  \n",
       "12          0  \n",
       "13          1  \n",
       "14          2  "
      ]
     },
     "execution_count": 16,
     "metadata": {},
     "output_type": "execute_result"
    }
   ],
   "source": [
    "pa_run_merged.sort_values(by='playAction',ascending=False).iloc[5:15,:]"
   ]
  },
  {
   "cell_type": "markdown",
   "metadata": {},
   "source": [
    "What most differentiates play-action from runs are instead QB mobility factors (accel, sped, run_val, yac/ybc_att):"
   ]
  },
  {
   "cell_type": "code",
   "execution_count": 17,
   "metadata": {},
   "outputs": [
    {
     "data": {
      "text/html": [
       "<div>\n",
       "<style scoped>\n",
       "    .dataframe tbody tr th:only-of-type {\n",
       "        vertical-align: middle;\n",
       "    }\n",
       "\n",
       "    .dataframe tbody tr th {\n",
       "        vertical-align: top;\n",
       "    }\n",
       "\n",
       "    .dataframe thead th {\n",
       "        text-align: right;\n",
       "    }\n",
       "</style>\n",
       "<table border=\"1\" class=\"dataframe\">\n",
       "  <thead>\n",
       "    <tr style=\"text-align: right;\">\n",
       "      <th></th>\n",
       "      <th>index</th>\n",
       "      <th>playAction</th>\n",
       "      <th>pa_rank</th>\n",
       "      <th>isRun</th>\n",
       "      <th>db_rank</th>\n",
       "      <th>ord_delta</th>\n",
       "    </tr>\n",
       "  </thead>\n",
       "  <tbody>\n",
       "    <tr>\n",
       "      <th>29</th>\n",
       "      <td>a|max|QB_1</td>\n",
       "      <td>0.043508</td>\n",
       "      <td>30</td>\n",
       "      <td>-0.009857</td>\n",
       "      <td>191</td>\n",
       "      <td>161</td>\n",
       "    </tr>\n",
       "    <tr>\n",
       "      <th>27</th>\n",
       "      <td>run_val</td>\n",
       "      <td>0.051628</td>\n",
       "      <td>28</td>\n",
       "      <td>-0.003412</td>\n",
       "      <td>173</td>\n",
       "      <td>145</td>\n",
       "    </tr>\n",
       "    <tr>\n",
       "      <th>26</th>\n",
       "      <td>receiverAlignment_2x2</td>\n",
       "      <td>0.052488</td>\n",
       "      <td>27</td>\n",
       "      <td>0.001766</td>\n",
       "      <td>159</td>\n",
       "      <td>132</td>\n",
       "    </tr>\n",
       "    <tr>\n",
       "      <th>10</th>\n",
       "      <td>time_remaining</td>\n",
       "      <td>0.088328</td>\n",
       "      <td>11</td>\n",
       "      <td>0.009909</td>\n",
       "      <td>137</td>\n",
       "      <td>126</td>\n",
       "    </tr>\n",
       "    <tr>\n",
       "      <th>42</th>\n",
       "      <td>surface_fieldturf</td>\n",
       "      <td>0.032700</td>\n",
       "      <td>43</td>\n",
       "      <td>0.005294</td>\n",
       "      <td>151</td>\n",
       "      <td>108</td>\n",
       "    </tr>\n",
       "    <tr>\n",
       "      <th>53</th>\n",
       "      <td>x_standard|std|WR_1</td>\n",
       "      <td>0.030562</td>\n",
       "      <td>54</td>\n",
       "      <td>0.004212</td>\n",
       "      <td>155</td>\n",
       "      <td>101</td>\n",
       "    </tr>\n",
       "    <tr>\n",
       "      <th>51</th>\n",
       "      <td>motionSinceLineset|RB_2</td>\n",
       "      <td>0.030694</td>\n",
       "      <td>52</td>\n",
       "      <td>0.009109</td>\n",
       "      <td>141</td>\n",
       "      <td>89</td>\n",
       "    </tr>\n",
       "    <tr>\n",
       "      <th>36</th>\n",
       "      <td>yac_att</td>\n",
       "      <td>0.036771</td>\n",
       "      <td>37</td>\n",
       "      <td>0.019697</td>\n",
       "      <td>107</td>\n",
       "      <td>70</td>\n",
       "    </tr>\n",
       "    <tr>\n",
       "      <th>50</th>\n",
       "      <td>s|max|G_2</td>\n",
       "      <td>0.030910</td>\n",
       "      <td>51</td>\n",
       "      <td>0.015297</td>\n",
       "      <td>116</td>\n",
       "      <td>65</td>\n",
       "    </tr>\n",
       "    <tr>\n",
       "      <th>38</th>\n",
       "      <td>ybc_att</td>\n",
       "      <td>0.036089</td>\n",
       "      <td>39</td>\n",
       "      <td>0.025767</td>\n",
       "      <td>90</td>\n",
       "      <td>51</td>\n",
       "    </tr>\n",
       "    <tr>\n",
       "      <th>39</th>\n",
       "      <td>x_standard|std|G_2</td>\n",
       "      <td>0.035764</td>\n",
       "      <td>40</td>\n",
       "      <td>0.025355</td>\n",
       "      <td>91</td>\n",
       "      <td>51</td>\n",
       "    </tr>\n",
       "    <tr>\n",
       "      <th>46</th>\n",
       "      <td>s|max|C_1</td>\n",
       "      <td>0.031408</td>\n",
       "      <td>47</td>\n",
       "      <td>0.024082</td>\n",
       "      <td>97</td>\n",
       "      <td>50</td>\n",
       "    </tr>\n",
       "    <tr>\n",
       "      <th>37</th>\n",
       "      <td>s|max|T_1</td>\n",
       "      <td>0.036228</td>\n",
       "      <td>38</td>\n",
       "      <td>0.026336</td>\n",
       "      <td>86</td>\n",
       "      <td>48</td>\n",
       "    </tr>\n",
       "    <tr>\n",
       "      <th>52</th>\n",
       "      <td>s|max|G_1</td>\n",
       "      <td>0.030582</td>\n",
       "      <td>53</td>\n",
       "      <td>0.026275</td>\n",
       "      <td>87</td>\n",
       "      <td>34</td>\n",
       "    </tr>\n",
       "    <tr>\n",
       "      <th>32</th>\n",
       "      <td>x_standard|std|T_1</td>\n",
       "      <td>0.040004</td>\n",
       "      <td>33</td>\n",
       "      <td>0.038078</td>\n",
       "      <td>66</td>\n",
       "      <td>33</td>\n",
       "    </tr>\n",
       "  </tbody>\n",
       "</table>\n",
       "</div>"
      ],
      "text/plain": [
       "                      index  playAction  pa_rank     isRun  db_rank  ord_delta\n",
       "29               a|max|QB_1    0.043508       30 -0.009857      191        161\n",
       "27                  run_val    0.051628       28 -0.003412      173        145\n",
       "26    receiverAlignment_2x2    0.052488       27  0.001766      159        132\n",
       "10           time_remaining    0.088328       11  0.009909      137        126\n",
       "42        surface_fieldturf    0.032700       43  0.005294      151        108\n",
       "53      x_standard|std|WR_1    0.030562       54  0.004212      155        101\n",
       "51  motionSinceLineset|RB_2    0.030694       52  0.009109      141         89\n",
       "36                  yac_att    0.036771       37  0.019697      107         70\n",
       "50                s|max|G_2    0.030910       51  0.015297      116         65\n",
       "38                  ybc_att    0.036089       39  0.025767       90         51\n",
       "39       x_standard|std|G_2    0.035764       40  0.025355       91         51\n",
       "46                s|max|C_1    0.031408       47  0.024082       97         50\n",
       "37                s|max|T_1    0.036228       38  0.026336       86         48\n",
       "52                s|max|G_1    0.030582       53  0.026275       87         34\n",
       "32       x_standard|std|T_1    0.040004       33  0.038078       66         33"
      ]
     },
     "execution_count": 17,
     "metadata": {},
     "output_type": "execute_result"
    }
   ],
   "source": [
    "pa_run_merged[(pa_run_merged['playAction'] >= .03) & (pa_run_merged['playAction'] > pa_run_merged['isRun'])].sort_values(by='ord_delta',ascending=False).iloc[2:32,:].head(15)"
   ]
  },
  {
   "cell_type": "markdown",
   "metadata": {},
   "source": [
    "# Expore feature cross-correlation, hone in on play-action metric\n",
    "\n",
    "We take our ordinal ranking differences above to find the features that best imply play action:"
   ]
  },
  {
   "cell_type": "code",
   "execution_count": 18,
   "metadata": {},
   "outputs": [],
   "source": [
    "eda_cols = pa_run_merged[(pa_run_merged['playAction'] >= .03) & (pa_run_merged['playAction'] > pa_run_merged['isRun'])].sort_values(by='ord_delta',ascending=False).iloc[2:32,:].head(15)['index'].values.tolist()"
   ]
  },
  {
   "cell_type": "markdown",
   "metadata": {},
   "source": [
    "We see that almost all our O-line features are highly cross-correlated, and thus only use one of them:"
   ]
  },
  {
   "cell_type": "code",
   "execution_count": 19,
   "metadata": {},
   "outputs": [
    {
     "data": {
      "text/plain": [
       "<Axes: >"
      ]
     },
     "execution_count": 19,
     "metadata": {},
     "output_type": "execute_result"
    },
    {
     "data": {
      "image/png": "[encoded data removed]",
      "text/plain": [
       "<Figure size 640x480 with 2 Axes>"
      ]
     },
     "metadata": {},
     "output_type": "display_data"
    }
   ],
   "source": [
    "sns.heatmap(train_data[eda_cols].corr(), cmap=\"crest\")"
   ]
  },
  {
   "cell_type": "markdown",
   "metadata": {},
   "source": [
    "YAC/YBC features for QB runs redundant with each other and QB run value, so we don't use them:"
   ]
  },
  {
   "cell_type": "code",
   "execution_count": 20,
   "metadata": {},
   "outputs": [
    {
     "data": {
      "text/plain": [
       "<Axes: >"
      ]
     },
     "execution_count": 20,
     "metadata": {},
     "output_type": "execute_result"
    },
    {
     "data": {
      "image/png": "[encoded data removed]",
      "text/plain": [
       "<Figure size 640x480 with 2 Axes>"
      ]
     },
     "metadata": {},
     "output_type": "display_data"
    }
   ],
   "source": [
    "sns.heatmap(train_data[eda_cols[:-7]+['ybc_att']].corr(), cmap=\"crest\")"
   ]
  },
  {
   "cell_type": "markdown",
   "metadata": {},
   "source": [
    "### Calc rolling PA rate by team"
   ]
  },
  {
   "cell_type": "code",
   "execution_count": 21,
   "metadata": {},
   "outputs": [],
   "source": [
    "df_games = pd.read_csv(os.path.join(root_dir,'data/games.csv'))"
   ]
  },
  {
   "cell_type": "code",
   "execution_count": 22,
   "metadata": {},
   "outputs": [
    {
     "data": {
      "text/html": [
       "<div>\n",
       "<style scoped>\n",
       "    .dataframe tbody tr th:only-of-type {\n",
       "        vertical-align: middle;\n",
       "    }\n",
       "\n",
       "    .dataframe tbody tr th {\n",
       "        vertical-align: top;\n",
       "    }\n",
       "\n",
       "    .dataframe thead th {\n",
       "        text-align: right;\n",
       "    }\n",
       "</style>\n",
       "<table border=\"1\" class=\"dataframe\">\n",
       "  <thead>\n",
       "    <tr style=\"text-align: right;\">\n",
       "      <th></th>\n",
       "      <th>gameId</th>\n",
       "      <th>playId</th>\n",
       "      <th>possessionTeam</th>\n",
       "      <th>playAction</th>\n",
       "      <th>week</th>\n",
       "    </tr>\n",
       "  </thead>\n",
       "  <tbody>\n",
       "    <tr>\n",
       "      <th>1383</th>\n",
       "      <td>2022091110</td>\n",
       "      <td>347</td>\n",
       "      <td>ARI</td>\n",
       "      <td>True</td>\n",
       "      <td>1</td>\n",
       "    </tr>\n",
       "    <tr>\n",
       "      <th>1384</th>\n",
       "      <td>2022091110</td>\n",
       "      <td>400</td>\n",
       "      <td>ARI</td>\n",
       "      <td>False</td>\n",
       "      <td>1</td>\n",
       "    </tr>\n",
       "  </tbody>\n",
       "</table>\n",
       "</div>"
      ],
      "text/plain": [
       "          gameId  playId possessionTeam  playAction  week\n",
       "1383  2022091110     347            ARI        True     1\n",
       "1384  2022091110     400            ARI       False     1"
      ]
     },
     "execution_count": 22,
     "metadata": {},
     "output_type": "execute_result"
    }
   ],
   "source": [
    "df_gw = train_data[['gameId','playId','possessionTeam','playAction']].merge(df_games[['gameId','week']],how='left').sort_values(by=['possessionTeam','week'])\n",
    "df_gw.head(2)"
   ]
  },
  {
   "cell_type": "code",
   "execution_count": 23,
   "metadata": {},
   "outputs": [],
   "source": [
    "df_gw['pa_rolling'] = df_gw.groupby(['possessionTeam','week'])['playAction'].transform(lambda x: x.rolling(10, 1).mean())"
   ]
  },
  {
   "cell_type": "markdown",
   "metadata": {},
   "source": [
    "todo: copy CI, mean code from elsewhere"
   ]
  },
  {
   "cell_type": "code",
   "execution_count": 24,
   "metadata": {},
   "outputs": [],
   "source": [
    "gw_pa_sum = df_gw.groupby(['possessionTeam','week'])['playAction'].sum().reset_index()"
   ]
  },
  {
   "cell_type": "code",
   "execution_count": 26,
   "metadata": {},
   "outputs": [],
   "source": [
    "gw_pa = gw_pa_sum.merge(df_gw.groupby(['possessionTeam','week'])['playAction'].count().rename('plays').reset_index(), on=['possessionTeam','week'])"
   ]
  },
  {
   "cell_type": "code",
   "execution_count": 27,
   "metadata": {},
   "outputs": [],
   "source": [
    "gw_pa['pa_rate'] = gw_pa['playAction']/gw_pa['plays']"
   ]
  },
  {
   "cell_type": "markdown",
   "metadata": {},
   "source": [
    "check each has a week blah blah blah"
   ]
  },
  {
   "cell_type": "code",
   "execution_count": 28,
   "metadata": {},
   "outputs": [],
   "source": [
    "gw_pa['week']+=1"
   ]
  },
  {
   "cell_type": "code",
   "execution_count": 29,
   "metadata": {},
   "outputs": [
    {
     "data": {
      "text/html": [
       "<div>\n",
       "<style scoped>\n",
       "    .dataframe tbody tr th:only-of-type {\n",
       "        vertical-align: middle;\n",
       "    }\n",
       "\n",
       "    .dataframe tbody tr th {\n",
       "        vertical-align: top;\n",
       "    }\n",
       "\n",
       "    .dataframe thead th {\n",
       "        text-align: right;\n",
       "    }\n",
       "</style>\n",
       "<table border=\"1\" class=\"dataframe\">\n",
       "  <thead>\n",
       "    <tr style=\"text-align: right;\">\n",
       "      <th></th>\n",
       "      <th>possessionTeam</th>\n",
       "      <th>week</th>\n",
       "      <th>playAction</th>\n",
       "      <th>plays</th>\n",
       "      <th>pa_rate</th>\n",
       "      <th>pa_rolling</th>\n",
       "    </tr>\n",
       "  </thead>\n",
       "  <tbody>\n",
       "    <tr>\n",
       "      <th>0</th>\n",
       "      <td>ARI</td>\n",
       "      <td>2</td>\n",
       "      <td>10</td>\n",
       "      <td>57</td>\n",
       "      <td>0.175439</td>\n",
       "      <td>0.175439</td>\n",
       "    </tr>\n",
       "    <tr>\n",
       "      <th>1</th>\n",
       "      <td>ARI</td>\n",
       "      <td>3</td>\n",
       "      <td>12</td>\n",
       "      <td>73</td>\n",
       "      <td>0.164384</td>\n",
       "      <td>0.169911</td>\n",
       "    </tr>\n",
       "    <tr>\n",
       "      <th>2</th>\n",
       "      <td>ARI</td>\n",
       "      <td>4</td>\n",
       "      <td>6</td>\n",
       "      <td>75</td>\n",
       "      <td>0.080000</td>\n",
       "      <td>0.139941</td>\n",
       "    </tr>\n",
       "    <tr>\n",
       "      <th>3</th>\n",
       "      <td>ARI</td>\n",
       "      <td>5</td>\n",
       "      <td>13</td>\n",
       "      <td>58</td>\n",
       "      <td>0.224138</td>\n",
       "      <td>0.160990</td>\n",
       "    </tr>\n",
       "    <tr>\n",
       "      <th>4</th>\n",
       "      <td>ARI</td>\n",
       "      <td>6</td>\n",
       "      <td>12</td>\n",
       "      <td>64</td>\n",
       "      <td>0.187500</td>\n",
       "      <td>0.166292</td>\n",
       "    </tr>\n",
       "    <tr>\n",
       "      <th>5</th>\n",
       "      <td>ARI</td>\n",
       "      <td>7</td>\n",
       "      <td>10</td>\n",
       "      <td>63</td>\n",
       "      <td>0.158730</td>\n",
       "      <td>0.165032</td>\n",
       "    </tr>\n",
       "    <tr>\n",
       "      <th>6</th>\n",
       "      <td>ARI</td>\n",
       "      <td>8</td>\n",
       "      <td>14</td>\n",
       "      <td>58</td>\n",
       "      <td>0.241379</td>\n",
       "      <td>0.175939</td>\n",
       "    </tr>\n",
       "    <tr>\n",
       "      <th>7</th>\n",
       "      <td>ARI</td>\n",
       "      <td>9</td>\n",
       "      <td>13</td>\n",
       "      <td>67</td>\n",
       "      <td>0.194030</td>\n",
       "      <td>0.178200</td>\n",
       "    </tr>\n",
       "    <tr>\n",
       "      <th>8</th>\n",
       "      <td>ATL</td>\n",
       "      <td>2</td>\n",
       "      <td>22</td>\n",
       "      <td>69</td>\n",
       "      <td>0.318841</td>\n",
       "      <td>0.318841</td>\n",
       "    </tr>\n",
       "    <tr>\n",
       "      <th>9</th>\n",
       "      <td>ATL</td>\n",
       "      <td>3</td>\n",
       "      <td>12</td>\n",
       "      <td>53</td>\n",
       "      <td>0.226415</td>\n",
       "      <td>0.272628</td>\n",
       "    </tr>\n",
       "  </tbody>\n",
       "</table>\n",
       "</div>"
      ],
      "text/plain": [
       "  possessionTeam  week  playAction  plays   pa_rate  pa_rolling\n",
       "0            ARI     2          10     57  0.175439    0.175439\n",
       "1            ARI     3          12     73  0.164384    0.169911\n",
       "2            ARI     4           6     75  0.080000    0.139941\n",
       "3            ARI     5          13     58  0.224138    0.160990\n",
       "4            ARI     6          12     64  0.187500    0.166292\n",
       "5            ARI     7          10     63  0.158730    0.165032\n",
       "6            ARI     8          14     58  0.241379    0.175939\n",
       "7            ARI     9          13     67  0.194030    0.178200\n",
       "8            ATL     2          22     69  0.318841    0.318841\n",
       "9            ATL     3          12     53  0.226415    0.272628"
      ]
     },
     "execution_count": 29,
     "metadata": {},
     "output_type": "execute_result"
    }
   ],
   "source": [
    "gw_pa['pa_rolling'] = gw_pa.groupby(['possessionTeam'])['pa_rate'].transform(lambda x: x.rolling(10, 1).mean())\n",
    "gw_pa.head(10)"
   ]
  },
  {
   "cell_type": "code",
   "execution_count": 30,
   "metadata": {},
   "outputs": [],
   "source": [
    "par_df = pd.concat([gw_pa[['possessionTeam','week','pa_rolling']],pd.DataFrame({'possessionTeam':[x for x in gw_pa['possessionTeam'].unique()],'week':1,'pa_rolling':.16})],axis=0).sort_values(by=['possessionTeam','week'])"
   ]
  },
  {
   "cell_type": "code",
   "execution_count": 31,
   "metadata": {},
   "outputs": [
    {
     "data": {
      "text/html": [
       "<div>\n",
       "<style scoped>\n",
       "    .dataframe tbody tr th:only-of-type {\n",
       "        vertical-align: middle;\n",
       "    }\n",
       "\n",
       "    .dataframe tbody tr th {\n",
       "        vertical-align: top;\n",
       "    }\n",
       "\n",
       "    .dataframe thead th {\n",
       "        text-align: right;\n",
       "    }\n",
       "</style>\n",
       "<table border=\"1\" class=\"dataframe\">\n",
       "  <thead>\n",
       "    <tr style=\"text-align: right;\">\n",
       "      <th></th>\n",
       "      <th>possessionTeam</th>\n",
       "      <th>week</th>\n",
       "      <th>pa_rolling</th>\n",
       "    </tr>\n",
       "  </thead>\n",
       "  <tbody>\n",
       "    <tr>\n",
       "      <th>0</th>\n",
       "      <td>ARI</td>\n",
       "      <td>1</td>\n",
       "      <td>0.160000</td>\n",
       "    </tr>\n",
       "    <tr>\n",
       "      <th>0</th>\n",
       "      <td>ARI</td>\n",
       "      <td>2</td>\n",
       "      <td>0.175439</td>\n",
       "    </tr>\n",
       "    <tr>\n",
       "      <th>1</th>\n",
       "      <td>ARI</td>\n",
       "      <td>3</td>\n",
       "      <td>0.169911</td>\n",
       "    </tr>\n",
       "  </tbody>\n",
       "</table>\n",
       "</div>"
      ],
      "text/plain": [
       "  possessionTeam  week  pa_rolling\n",
       "0            ARI     1    0.160000\n",
       "0            ARI     2    0.175439\n",
       "1            ARI     3    0.169911"
      ]
     },
     "execution_count": 31,
     "metadata": {},
     "output_type": "execute_result"
    }
   ],
   "source": [
    "par_df.head(3)"
   ]
  },
  {
   "cell_type": "code",
   "execution_count": 32,
   "metadata": {},
   "outputs": [],
   "source": [
    "train_data = train_data.merge(par_df,how='left')"
   ]
  },
  {
   "cell_type": "markdown",
   "metadata": {},
   "source": [
    "### Create IPA\n",
    "\n",
    "IPA stands for Indicator of Play Action (working title); here we bake in all the features we can that aren't completely redundant (see: yac_att)"
   ]
  },
  {
   "cell_type": "code",
   "execution_count": 60,
   "metadata": {},
   "outputs": [
    {
     "data": {
      "text/plain": [
       "0.12748903202142348"
      ]
     },
     "execution_count": 60,
     "metadata": {},
     "output_type": "execute_result"
    }
   ],
   "source": [
    "(.7* train_data['a|max|QB_1']  + .2*train_data['run_val'] + train_data['pa_rolling']+\\\n",
    " train_data['receiverAlignment_2x2'] + train_data['motionSinceLineset|RB_2'] + .1*train_data['x_standard|std|WR_1']\\\n",
    "    + .1*train_data['s|max|G_2'] + train_data['surface_fieldturf'] + .05*train_data['time_remaining']).corr(train_data['playAction'])"
   ]
  },
  {
   "cell_type": "code",
   "execution_count": 68,
   "metadata": {},
   "outputs": [
    {
     "data": {
      "text/plain": [
       "0.012014803355369672"
      ]
     },
     "execution_count": 68,
     "metadata": {},
     "output_type": "execute_result"
    }
   ],
   "source": [
    "(train_data['a|max|QB_1']  + train_data['run_val'] + .5*train_data['pa_rolling'] +\\\n",
    " -train_data['receiverAlignment_2x2'] \\\n",
    "    - .1*train_data['s|max|G_2']  - .5*train_data['time_remaining']).corr(train_data['isDropback'])"
   ]
  },
  {
   "cell_type": "code",
   "execution_count": 64,
   "metadata": {},
   "outputs": [
    {
     "data": {
      "text/plain": [
       "a|max|QB_1                 0.009857\n",
       "run_val                    0.003412\n",
       "pa_rolling                -0.026377\n",
       "receiverAlignment_2x2     -0.001766\n",
       "motionSinceLineset|RB_2   -0.009109\n",
       "x_standard|std|WR_1       -0.004212\n",
       "s|max|G_2                 -0.015297\n",
       "surface_fieldturf         -0.005294\n",
       "time_remaining            -0.009909\n",
       "isDropback                 1.000000\n",
       "Name: isDropback, dtype: float64"
      ]
     },
     "execution_count": 64,
     "metadata": {},
     "output_type": "execute_result"
    }
   ],
   "source": [
    "train_data[['a|max|QB_1','run_val','pa_rolling','receiverAlignment_2x2','motionSinceLineset|RB_2',\n",
    "                'x_standard|std|WR_1','s|max|G_2','surface_fieldturf','time_remaining','isDropback']].corr()['isDropback']"
   ]
  },
  {
   "cell_type": "code",
   "execution_count": 70,
   "metadata": {},
   "outputs": [
    {
     "data": {
      "text/plain": [
       "a|max|QB_1                 0.043508\n",
       "run_val                    0.051628\n",
       "pa_rolling                 0.081177\n",
       "receiverAlignment_2x2      0.052488\n",
       "motionSinceLineset|RB_2    0.030694\n",
       "x_standard|std|WR_1        0.030562\n",
       "s|max|G_2                  0.030910\n",
       "surface_fieldturf          0.032700\n",
       "time_remaining             0.088328\n",
       "playAction                 1.000000\n",
       "Name: playAction, dtype: float64"
      ]
     },
     "execution_count": 70,
     "metadata": {},
     "output_type": "execute_result"
    }
   ],
   "source": [
    "train_data[['a|max|QB_1','run_val','pa_rolling','receiverAlignment_2x2','motionSinceLineset|RB_2',\n",
    "                'x_standard|std|WR_1','s|max|G_2','surface_fieldturf','time_remaining','playAction']].corr()['playAction']"
   ]
  },
  {
   "cell_type": "code",
   "execution_count": null,
   "metadata": {},
   "outputs": [],
   "source": []
  }
 ],
 "metadata": {
  "kernelspec": {
   "display_name": ".venv",
   "language": "python",
   "name": "python3"
  },
  "language_info": {
   "codemirror_mode": {
    "name": "ipython",
    "version": 3
   },
   "file_extension": ".py",
   "mimetype": "text/x-python",
   "name": "python",
   "nbconvert_exporter": "python",
   "pygments_lexer": "ipython3",
   "version": "3.9.15"
  }
 },
 "nbformat": 4,
 "nbformat_minor": 2
}
