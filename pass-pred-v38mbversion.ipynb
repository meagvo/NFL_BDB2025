{
 "cells": [
  {
   "cell_type": "markdown",
   "id": "504747ff",
   "metadata": {},
   "source": [
    "## Part 1: \n",
    "Load data, clean, and save aggregate data"
   ]
  },
  {
   "cell_type": "code",
   "execution_count": 2,
   "id": "5f453527",
   "metadata": {
    "_kg_hide-input": true,
    "_kg_hide-output": true,
    "execution": {
     "iopub.execute_input": "2024-10-23T20:50:35.807730Z",
     "iopub.status.busy": "2024-10-23T20:50:35.807174Z",
     "iopub.status.idle": "2024-10-23T20:51:19.962762Z",
     "shell.execute_reply": "2024-10-23T20:51:19.961489Z"
    },
    "papermill": {
     "duration": 44.189055,
     "end_time": "2024-10-23T20:51:19.965850",
     "exception": false,
     "start_time": "2024-10-23T20:50:35.776795",
     "status": "completed"
    },
    "tags": []
   },
   "outputs": [
    {
     "name": "stderr",
     "output_type": "stream",
     "text": [
      "C:\\Users\\meagv\\AppData\\Local\\Temp\\ipykernel_15424\\3628356773.py:25: DtypeWarning: Columns (93,99) have mixed types. Specify dtype option on import or set low_memory=False.\n",
      "  train_data=pd.read_csv(os.path.join(root_dir, \"data/train_data.csv\"))\n",
      "C:\\Users\\meagv\\AppData\\Local\\Temp\\ipykernel_15424\\3628356773.py:26: DtypeWarning: Columns (93,99) have mixed types. Specify dtype option on import or set low_memory=False.\n",
      "  test_data=pd.read_csv(os.path.join(root_dir, \"data/test_data.csv\"))\n"
     ]
    }
   ],
   "source": [
    "import pandas as pd \n",
    "import os\n",
    "import numpy as np\n",
    "import matplotlib.pyplot as plt\n",
    "from datetime import datetime\n",
    "import nfl_data_py as nfl\n",
    "from data_cleaning import label_run_or_pass, reverse_deg, normalize_tracking\n",
    "from data_loading import aggregate_data\n",
    "root_dir = os.getcwd()\n",
    "\n",
    "load_saved_data = True            # if you change this to true you can load presaved data\n",
    "\n",
    "if not load_saved_data: \n",
    "    games_fname= os.path.join(root_dir, \"data/games.csv\")\n",
    "    plays_fname = os.path.join(root_dir, \"data/plays.csv\")\n",
    "    players_fname = os.path.join(root_dir, \"data/players.csv\")\n",
    "    player_plays_fname = os.path.join(root_dir, \"data/player_play.csv\")\n",
    "    tracking_fname_list_train = [os.path.join(root_dir, f\"data/tracking_week_{i}.csv\") for i in range(1,9)] #weeks 1-8 are training data\n",
    "    tracking_fname_list_test = [os.path.join(root_dir, \"data/tracking_week_9.csv\")] #week 9 is test data\n",
    "    train_data=aggregate_data(plays_fname, player_plays_fname, players_fname, tracking_fname_list_train, games_fname)\n",
    "    train_data.to_csv(os.path.join(root_dir, \"data/train_data.csv\"))\n",
    "    test_data=aggregate_data(plays_fname, player_plays_fname, players_fname, tracking_fname_list_test, games_fname )\n",
    "    test_data.to_csv(os.path.join(root_dir, \"data/test_data.csv\"))\n",
    "else:\n",
    "    train_data=pd.read_csv(os.path.join(root_dir, \"data/train_data.csv\"))\n",
    "    test_data=pd.read_csv(os.path.join(root_dir, \"data/test_data.csv\"))\n"
   ]
  },
  {
   "cell_type": "code",
   "execution_count": 2,
   "id": "e2783b6d",
   "metadata": {
    "_cell_guid": "b1076dfc-b9ad-4769-8c92-a6c4dae69d19",
    "_uuid": "8f2839f25d086af736a60e9eeb907d3b93b6e0e5",
    "execution": {
     "iopub.execute_input": "2024-10-23T20:51:20.031328Z",
     "iopub.status.busy": "2024-10-23T20:51:20.030774Z",
     "iopub.status.idle": "2024-10-23T20:51:39.406160Z",
     "shell.execute_reply": "2024-10-23T20:51:39.405137Z"
    },
    "papermill": {
     "duration": 19.410618,
     "end_time": "2024-10-23T20:51:39.408971",
     "exception": false,
     "start_time": "2024-10-23T20:51:19.998353",
     "status": "completed"
    },
    "tags": []
   },
   "outputs": [],
   "source": [
    "#immport necessary libraries and filter warnings\n",
    "from IPython.display import Image\n",
    "import gc\n",
    "import warnings\n",
    "warnings.filterwarnings(\"ignore\")\n",
    "import pandas as pd\n",
    "import numpy as np\n",
    "import os\n",
    "from sklearn.dummy import DummyClassifier\n",
    "from sklearn.metrics import mean_squared_error, f1_score, precision_score, recall_score, accuracy_score, cohen_kappa_score, roc_auc_score, confusion_matrix, log_loss, ConfusionMatrixDisplay\n",
    "from sklearn.model_selection import StratifiedKFold,StratifiedGroupKFold, train_test_split, KFold, cross_val_score\n",
    "from sklearn.preprocessing import RobustScaler, MinMaxScaler, StandardScaler\n",
    "from sklearn.base import clone\n",
    "from sklearn.pipeline import Pipeline\n",
    "from scipy.optimize import minimize\n",
    "from IPython.display import clear_output\n",
    "from sklearn.decomposition import PCA\n",
    "from colorama import Fore, Style\n",
    "from tqdm import tqdm\n",
    "from catboost import CatBoostClassifier\n",
    "from lightgbm import LGBMClassifier\n",
    "import matplotlib.pyplot as plt\n",
    "from sklearn.tree import DecisionTreeClassifier\n",
    "from sklearn.neighbors import KNeighborsClassifier\n",
    "from sklearn.discriminant_analysis import LinearDiscriminantAnalysis\n",
    "from sklearn.naive_bayes import GaussianNB\n",
    "from sklearn.svm import SVC\n",
    "from sklearn.ensemble import RandomForestClassifier, VotingClassifier\n",
    "import xgboost as xgb\n",
    "import optuna\n",
    "import tensorflow as tf\n",
    "from tensorflow import keras\n",
    "from tensorflow.keras.layers import SimpleRNN, Embedding, Dense, Dropout\n",
    "from keras.models import Sequential\n",
    "from tensorflow.keras.callbacks import EarlyStopping\n",
    "from keras.callbacks import Callback\n",
    "import nfl_data_py as nfl\n",
    "from sklearn.impute import SimpleImputer"
   ]
  },
  {
   "cell_type": "markdown",
   "id": "0ddfd547",
   "metadata": {
    "papermill": {
     "duration": 0.029976,
     "end_time": "2024-10-23T20:51:39.469433",
     "exception": false,
     "start_time": "2024-10-23T20:51:39.439457",
     "status": "completed"
    },
    "tags": []
   },
   "source": [
    "## Goal: \n",
    "To predict pass attempts for each play with greater accuracy and precision than the baseline dummy classifier. The base rate is about 60%. We will look at the offensive players' tracking data, along with characteristics of the play including the offensive formation and receiver alignment. "
   ]
  },
  {
   "cell_type": "markdown",
   "id": "cd1e4dc0",
   "metadata": {
    "papermill": {
     "duration": 0.029902,
     "end_time": "2024-10-23T20:51:39.529346",
     "exception": false,
     "start_time": "2024-10-23T20:51:39.499444",
     "status": "completed"
    },
    "tags": []
   },
   "source": [
    "## General Strategy:\n",
    "1. Read all data\n",
    "2. Merge data\n",
    "3. Filter data for offensive players, plays not nullified by a penalty, and data before the snap\n",
    "4. Create a target variable 'pass' to indicate if a pass was attempted\n",
    "5. Feature engineering and feature selection\n",
    "6. Test baseline models\n",
    "7. Tune models"
   ]
  },
  {
   "cell_type": "code",
   "execution_count": 3,
   "id": "f62d5b05",
   "metadata": {
    "execution": {
     "iopub.execute_input": "2024-10-23T20:51:39.592094Z",
     "iopub.status.busy": "2024-10-23T20:51:39.591297Z",
     "iopub.status.idle": "2024-10-23T20:51:39.601171Z",
     "shell.execute_reply": "2024-10-23T20:51:39.600009Z"
    },
    "papermill": {
     "duration": 0.043855,
     "end_time": "2024-10-23T20:51:39.603648",
     "exception": false,
     "start_time": "2024-10-23T20:51:39.559793",
     "status": "completed"
    },
    "tags": []
   },
   "outputs": [],
   "source": [
    "#helper functions\n",
    "#change all plays to same direction\n",
    "def reverse_deg(deg):\n",
    "    if deg < 180:\n",
    "        return deg + 180\n",
    "    if deg >= 18:\n",
    "        return deg - 180\n",
    "\n",
    "#merge all data specifically to pull the data for the team in possession during the play\n",
    "def merge_clean_data(df_tracking, df_plays, df_player_plays):\n",
    "    df_final=pd.merge(pd.merge(df_tracking, df_plays, left_on=[ 'gameId', 'playId','club'], right_on=[ 'gameId', 'playId', 'possessionTeam'], how='inner'), df_player_plays, left_on=[ 'gameId', 'playId', 'nflId'], right_on=[ 'gameId', 'playId', 'nflId'], how='left' )\n",
    "    df_final=pd.merge(df_final, df_games, on='gameId', how='inner')\n",
    "    del df_tracking\n",
    "    gc.collect()\n",
    "    df_final=pd.merge(df_final, df_players, on='nflId', how='inner')\n",
    "    return df_final"
   ]
  },
  {
   "cell_type": "code",
   "execution_count": 4,
   "id": "f1addfc5",
   "metadata": {
    "execution": {
     "iopub.execute_input": "2024-10-23T20:51:39.666258Z",
     "iopub.status.busy": "2024-10-23T20:51:39.665819Z",
     "iopub.status.idle": "2024-10-23T20:51:50.484379Z",
     "shell.execute_reply": "2024-10-23T20:51:50.483254Z"
    },
    "papermill": {
     "duration": 10.852825,
     "end_time": "2024-10-23T20:51:50.487224",
     "exception": false,
     "start_time": "2024-10-23T20:51:39.634399",
     "status": "completed"
    },
    "tags": []
   },
   "outputs": [
    {
     "name": "stdout",
     "output_type": "stream",
     "text": [
      "2022 done.\n",
      "Downcasting floats.\n"
     ]
    }
   ],
   "source": [
    "#read games, players, plays, and player_plays data\n",
    "file='/kaggle/input/nfl-big-data-bowl-2025/'\n",
    "df_games=pd.read_csv(file+'games.csv')\n",
    "df_players=pd.read_csv(file+'players.csv')\n",
    "df_players.loc[df_players['nflId'] ==45244, 'position'] = 'TE' #update data for Taysom Hill\n",
    "df_plays=pd.read_csv(file+'plays.csv')\n",
    "#pull stadium data for current season games\n",
    "df_stadium=nfl.import_schedules([2022])\n",
    "df_stadium=df_stadium[df_stadium['week']<=9][[ 'old_game_id','roof', 'surface']]\n",
    "\n",
    "#get game weather\n",
    "df_games_weather=nfl.import_pbp_data(years=[2022])[['old_game_id_x',  'weather' ]].drop_duplicates()\n",
    "df_games_weather['gameId']=df_games_weather['old_game_id_x'].astype(int)\n",
    "df_games_weather['Rain']=np.where(df_games_weather['weather'].str.contains('Rain'), 1, 0)\n",
    "df_games_weather[['temp', 'humidity', 'wind']]=df_games_weather['weather'].str.split(',', expand=True).iloc[:, :3]\n",
    "df_games_weather['temp'] = df_games_weather['temp'].str.split(':', expand=True).iloc[:, 1:2]\n",
    "df_games_weather['temp']=df_games_weather['temp'].str.extract('(\\d+)')\n",
    "df_games_weather['humidity'] = df_games_weather['humidity'].str.extract('(\\d+)')\n",
    "df_games_weather['wind'] = df_games_weather['wind'].str.extract('(\\d+)')\n",
    "\n",
    "df_games=pd.merge(df_games, df_stadium,left_on='gameId', right_on='old_game_id', how='left')\n",
    "df_games=pd.merge(df_games, df_games_weather,on='gameId', how='left')\n",
    "\n"
   ]
  },
  {
   "cell_type": "code",
   "execution_count": 5,
   "id": "624b50c0",
   "metadata": {
    "execution": {
     "iopub.execute_input": "2024-10-23T20:51:50.549063Z",
     "iopub.status.busy": "2024-10-23T20:51:50.548645Z",
     "iopub.status.idle": "2024-10-23T20:51:56.071440Z",
     "shell.execute_reply": "2024-10-23T20:51:56.070400Z"
    },
    "papermill": {
     "duration": 5.557075,
     "end_time": "2024-10-23T20:51:56.074424",
     "exception": false,
     "start_time": "2024-10-23T20:51:50.517349",
     "status": "completed"
    },
    "tags": []
   },
   "outputs": [],
   "source": [
    "#pull previous year pass rush data by team\n",
    "df_player_plays=pd.read_csv(file+'player_play.csv')\n",
    "df_rush2021=nfl.import_ngs_data(stat_type='rushing', years=[2021])[['team_abbr', 'rush_attempts']].groupby('team_abbr').sum().reset_index()\n",
    "df_pass2021=nfl.import_ngs_data(stat_type='passing', years=[2021])[['team_abbr', 'attempts']].groupby('team_abbr').sum().reset_index()\n",
    "df_pass_rush2021=pd.merge(df_rush2021, df_pass2021, on='team_abbr', how='outer')\n",
    "df_pass_rush2021['pass_rush_ratio']=np.round((df_pass_rush2021['attempts']/df_pass_rush2021['rush_attempts']), 2)\n",
    "df_pass_rush2021.drop(columns=['rush_attempts', 'attempts'], inplace=True)\n",
    "df_player_plays=pd.merge(df_player_plays, df_pass_rush2021, left_on='teamAbbr', right_on='team_abbr', how='outer')\n"
   ]
  },
  {
   "cell_type": "code",
   "execution_count": 6,
   "id": "8b8c6892",
   "metadata": {
    "execution": {
     "iopub.execute_input": "2024-10-23T20:51:56.138114Z",
     "iopub.status.busy": "2024-10-23T20:51:56.137709Z",
     "iopub.status.idle": "2024-10-23T20:51:56.169320Z",
     "shell.execute_reply": "2024-10-23T20:51:56.168130Z"
    },
    "papermill": {
     "duration": 0.067181,
     "end_time": "2024-10-23T20:51:56.172250",
     "exception": false,
     "start_time": "2024-10-23T20:51:56.105069",
     "status": "completed"
    },
    "tags": []
   },
   "outputs": [],
   "source": [
    "#features for plays df \n",
    "df_plays['time_remaining'] = df_plays['quarter'].map({1: 45, 2: 30, 3: 15, 4: 0}) + \\\n",
    "                               df_plays['gameClock'].apply(lambda x: int(x.split(':')[0]) + int(x.split(':')[1])/60)\n",
    "df_plays['score_differential'] = df_plays['preSnapHomeScore'] - df_plays['preSnapVisitorScore']"
   ]
  },
  {
   "cell_type": "code",
   "execution_count": 7,
   "id": "2f478509",
   "metadata": {
    "execution": {
     "iopub.execute_input": "2024-10-23T20:51:56.236184Z",
     "iopub.status.busy": "2024-10-23T20:51:56.235761Z",
     "iopub.status.idle": "2024-10-23T20:59:40.947535Z",
     "shell.execute_reply": "2024-10-23T20:59:40.945892Z"
    },
    "papermill": {
     "duration": 464.750772,
     "end_time": "2024-10-23T20:59:40.953644",
     "exception": false,
     "start_time": "2024-10-23T20:51:56.202872",
     "status": "completed"
    },
    "tags": []
   },
   "outputs": [],
   "source": [
    "exclude_events=['huddle_break_offense'] #exclude frame with huddle break event\n",
    "tracking_files=[]\n",
    "for i in range(1,9):  #read some or all of weeks tracking data\n",
    "    file='/kaggle/input/nfl-big-data-bowl-2025/tracking_week_'+str(i)+'.csv'\n",
    "    df_tracking=pd.read_csv(file)\n",
    "    df_tracking=df_tracking[ (df_tracking['frameType']=='BEFORE_SNAP')& (~df_tracking['event'].isin(exclude_events))]\n",
    "    df_tracking['gameplayId']=df_tracking['gameId'].astype(str)+'_'+df_tracking['playId'].astype(str)\n",
    "    playstodrop=df_tracking[df_tracking['event'].isin(['huddle_start_offense', 'timeout_away'])][['gameplayId']].drop_duplicates() #plays with huddle start or timeout we should drop\n",
    "    df_tracking = df_tracking[~df_tracking['gameplayId'].isin(playstodrop['gameplayId'])]\n",
    "    \n",
    "    #nromalize o, dir, x, y\n",
    "    df_tracking['o_standard']=np.where(df_tracking[\"playDirection\"] == \"left\",df_tracking['o'].apply(reverse_deg), df_tracking['o'])\n",
    "    df_tracking['dir_standard']=np.where(df_tracking[\"playDirection\"] == \"left\",df_tracking['dir'].apply(reverse_deg), df_tracking['dir'])\n",
    "    df_tracking[\"x_standard\"] = np.where(df_tracking[\"playDirection\"] == \"left\", df_tracking[\"x\"].apply(lambda x: 120 - x), df_tracking[\"x\"])\n",
    "    df_tracking[\"y_standard\"] =np.where(df_tracking[\"playDirection\"] == \"left\",  df_tracking[\"y\"].apply(lambda y: 160/3 - y), df_tracking[\"y\"])\n",
    "   \n",
    "    df_tracking=df_tracking[['gameId', 'playId', 'nflId','club' ,'o_standard', 'dir_standard', 'x_standard', 'y_standard', 's', 'a', 'dis']].groupby(['gameId', 'playId', 'nflId','club']).agg({'s':[ 'max',],'a':[ 'max'], \n",
    "    'o_standard':['mean', 'std'],'dis':['sum'],'dir_standard':['mean', 'std'], 'x_standard':['mean', 'std'], 'y_standard':['mean', 'std']}).reset_index()\n",
    "    df_tracking.columns=df_tracking.columns.map('|'.join).str.strip('|')\n",
    "    #filter on before snap and exclude the specific events\n",
    "    #merge all data\n",
    "    merged=merge_clean_data(df_tracking, df_plays, df_player_plays)\n",
    "    del df_tracking\n",
    "    #drop unnecessary columns to save memory\n",
    "    merged.drop(columns=[   'playDescription',\n",
    "          'possessionTeam', 'defensiveTeam',\n",
    "           'yardlineSide', 'yardlineNumber', 'gameClock', \n",
    "             'expectedPoints',\n",
    "          'playClockAtSnap',\n",
    "          'passLength', 'targetX', 'targetY', 'playAction',\n",
    "           'dropbackType', 'dropbackDistance', 'passLocationType',\n",
    "           'timeToThrow', 'timeInTackleBox', 'timeToSack', 'passTippedAtLine',\n",
    "           'unblockedPressure', 'qbSpike', 'qbKneel', 'qbSneak',\n",
    "           'rushLocationType', 'penaltyYards_x', 'prePenaltyYardsGained',\n",
    "           'yardsGained', 'homeTeamWinProbabilityAdded',\n",
    "           'visitorTeamWinProbilityAdded', 'expectedPointsAdded',\n",
    "            'pff_runConceptPrimary', 'pff_runConceptSecondary',\n",
    "           'pff_runPassOption', 'pff_passCoverage',  'teamAbbr',\n",
    "           'hadRushAttempt', 'rushingYards', 'hadDropback', 'passingYards',\n",
    "           'sackYardsAsOffense', 'hadPassReception', 'receivingYards',\n",
    "           'wasTargettedReceiver', 'yardageGainedAfterTheCatch', 'fumbles',\n",
    "           'fumbleLost', 'fumbleOutOfBounds', 'assistedTackle',\n",
    "           'forcedFumbleAsDefense', 'halfSackYardsAsDefense', 'passDefensed',\n",
    "           'quarterbackHit', 'sackYardsAsDefense', 'safetyAsDefense',\n",
    "           'soloTackle', 'tackleAssist', 'tackleForALoss',\n",
    "           'tackleForALossYardage', 'hadInterception', 'interceptionYards',\n",
    "           'fumbleRecoveries', 'fumbleRecoveryYards', 'penaltyYards_y',\n",
    "           'penaltyNames', 'wasInitialPassRusher', 'causedPressure',\n",
    "           'timeToPressureAsPassRusher', 'getOffTimeAsPassRusher',\n",
    "           'inMotionAtBallSnap', \n",
    "           'wasRunningRoute', 'routeRan', 'blockedPlayerNFLId1','pff_manZone',\n",
    "           'blockedPlayerNFLId2', 'blockedPlayerNFLId3',\n",
    "           'pressureAllowedAsBlocker', 'timeToPressureAllowedAsBlocker',\n",
    "           'pff_defensiveCoverageAssignment',\n",
    "           'pff_primaryDefensiveCoverageMatchupNflId',\n",
    "           'pff_secondaryDefensiveCoverageMatchupNflId', 'height', 'weight','season', 'team_abbr',  'season', 'week',\n",
    "       'gameDate', 'gameTimeEastern', 'homeTeamAbbr', 'visitorTeamAbbr',\n",
    "       'homeFinalScore', 'visitorFinalScore', 'old_game_id', 'old_game_id_x', 'weather',\n",
    "           'birthDate', 'collegeName'], inplace=True)\n",
    "        #get the count of players in each position for each play and take the max\n",
    "    merged['pos_count']=(merged[['gameId', 'playId', 'position', 'nflId']].drop_duplicates().sort_values(by=['gameId', 'playId', 'position']).groupby(by=['gameId', 'playId', 'position']).cumcount()+1)\n",
    "    merged['pos_count'].fillna(99, inplace=True)\n",
    "    merged['pos_count']=merged['pos_count'].astype(int)\n",
    "    #create a position_pivot column so that each player has a unique value during the play\n",
    "    merged['position_pivot']=merged['position']+'_'+merged['pos_count'].astype(str)\n",
    "    tracking_files.append(merged)\n",
    "    del merged\n",
    "    gc.collect()\n",
    "merged=pd.concat(tracking_files)"
   ]
  },
  {
   "cell_type": "code",
   "execution_count": 8,
   "id": "74b60e7a",
   "metadata": {
    "execution": {
     "iopub.execute_input": "2024-10-23T20:59:41.024952Z",
     "iopub.status.busy": "2024-10-23T20:59:41.024459Z",
     "iopub.status.idle": "2024-10-23T20:59:41.033066Z",
     "shell.execute_reply": "2024-10-23T20:59:41.031760Z"
    },
    "papermill": {
     "duration": 0.044165,
     "end_time": "2024-10-23T20:59:41.035846",
     "exception": false,
     "start_time": "2024-10-23T20:59:40.991681",
     "status": "completed"
    },
    "tags": []
   },
   "outputs": [],
   "source": [
    "#create 'pass' variable for pass attempt play based on isDropback=True\n",
    "\n",
    "merged['pass']=np.where(merged['isDropback']==True, 1, 0)\n"
   ]
  },
  {
   "cell_type": "code",
   "execution_count": 9,
   "id": "ffc4e27f",
   "metadata": {
    "execution": {
     "iopub.execute_input": "2024-10-23T20:59:41.098415Z",
     "iopub.status.busy": "2024-10-23T20:59:41.097927Z",
     "iopub.status.idle": "2024-10-23T20:59:46.992177Z",
     "shell.execute_reply": "2024-10-23T20:59:46.990944Z"
    },
    "papermill": {
     "duration": 5.92904,
     "end_time": "2024-10-23T20:59:46.995464",
     "exception": false,
     "start_time": "2024-10-23T20:59:41.066424",
     "status": "completed"
    },
    "tags": []
   },
   "outputs": [],
   "source": [
    "merged_pivot=merged.pivot(index=['gameId', 'playId','quarter', 'down', 'yardsToGo', 'score_differential', 'time_remaining', 'playNullifiedByPenalty','preSnapHomeTeamWinProbability', 'pass_rush_ratio', 'roof', 'surface', 'Rain', 'temp', 'humidity', 'wind',\n",
    "           'preSnapVisitorTeamWinProbability',\n",
    "           'absoluteYardlineNumber', 'offenseFormation', 'receiverAlignment',\n",
    "           'pass'], columns=['position_pivot'], values=['s|max', 'a|max',\n",
    "       'o_standard|mean', 'o_standard|std', 'dis|sum', 'dir_standard|mean',\n",
    "       'dir_standard|std', 'x_standard|mean', 'x_standard|std',\n",
    "       'y_standard|mean', 'y_standard|std', 'shiftSinceLineset', 'motionSinceLineset']).fillna(0).reset_index() \n",
    "merged_pivot.columns =merged_pivot.columns.map('|'.join).str.strip('|')\n",
    "merged_pivot.replace({False:0, True:1}, inplace=True)"
   ]
  },
  {
   "cell_type": "code",
   "execution_count": 10,
   "id": "69c3ba23",
   "metadata": {
    "execution": {
     "iopub.execute_input": "2024-10-23T20:59:47.058474Z",
     "iopub.status.busy": "2024-10-23T20:59:47.057992Z",
     "iopub.status.idle": "2024-10-23T20:59:47.319513Z",
     "shell.execute_reply": "2024-10-23T20:59:47.317983Z"
    },
    "papermill": {
     "duration": 0.296188,
     "end_time": "2024-10-23T20:59:47.322133",
     "exception": false,
     "start_time": "2024-10-23T20:59:47.025945",
     "status": "completed"
    },
    "tags": []
   },
   "outputs": [
    {
     "data": {
      "text/plain": [
       "7"
      ]
     },
     "execution_count": 10,
     "metadata": {},
     "output_type": "execute_result"
    }
   ],
   "source": [
    "del merged\n",
    "gc.collect()"
   ]
  },
  {
   "cell_type": "code",
   "execution_count": 11,
   "id": "124ea561",
   "metadata": {
    "execution": {
     "iopub.execute_input": "2024-10-23T20:59:47.388253Z",
     "iopub.status.busy": "2024-10-23T20:59:47.387137Z",
     "iopub.status.idle": "2024-10-23T20:59:47.433602Z",
     "shell.execute_reply": "2024-10-23T20:59:47.432255Z"
    },
    "papermill": {
     "duration": 0.082581,
     "end_time": "2024-10-23T20:59:47.436497",
     "exception": false,
     "start_time": "2024-10-23T20:59:47.353916",
     "status": "completed"
    },
    "tags": []
   },
   "outputs": [],
   "source": [
    "#merged_pivot=pd.get_dummies(merged_pivot, columns=['offenseFormation','receiverAlignment','pff_manZone', 'roof', 'surface'],dtype=int)\n",
    "# Define categorical and numerical columns\n",
    "\n",
    "merged_pivot = pd.get_dummies(merged_pivot, columns=['offenseFormation','receiverAlignment', 'roof', 'surface'])\n",
    "\n"
   ]
  },
  {
   "cell_type": "code",
   "execution_count": 12,
   "id": "aa9e18f0",
   "metadata": {
    "execution": {
     "iopub.execute_input": "2024-10-23T20:59:47.500375Z",
     "iopub.status.busy": "2024-10-23T20:59:47.499848Z",
     "iopub.status.idle": "2024-10-23T20:59:47.734602Z",
     "shell.execute_reply": "2024-10-23T20:59:47.733423Z"
    },
    "papermill": {
     "duration": 0.270487,
     "end_time": "2024-10-23T20:59:47.738807",
     "exception": false,
     "start_time": "2024-10-23T20:59:47.468320",
     "status": "completed"
    },
    "tags": []
   },
   "outputs": [
    {
     "name": "stdout",
     "output_type": "stream",
     "text": [
      "gameId\n",
      "playId\n",
      "quarter\n",
      "down\n",
      "yardsToGo\n",
      "score_differential\n",
      "time_remaining 0.81 % missing\n",
      "playNullifiedByPenalty\n",
      "preSnapHomeTeamWinProbability\n",
      "pass_rush_ratio 2.84 % missing\n",
      "Rain\n",
      "temp 9.67 % missing\n",
      "humidity 5.64 % missing\n",
      "wind 8.97 % missing\n",
      "preSnapVisitorTeamWinProbability\n",
      "absoluteYardlineNumber\n",
      "pass\n",
      "s|max|C_1\n",
      "s|max|C_2\n",
      "s|max|DT_1\n",
      "s|max|FB_1\n",
      "s|max|FS_1\n",
      "s|max|G_1\n",
      "s|max|G_2\n",
      "s|max|G_3\n",
      "s|max|G_4\n",
      "s|max|ILB_1\n",
      "s|max|OLB_1\n",
      "s|max|QB_1\n",
      "s|max|QB_2\n",
      "s|max|RB_1\n",
      "s|max|RB_2\n",
      "s|max|RB_3\n",
      "s|max|TE_1\n",
      "s|max|TE_2\n",
      "s|max|TE_3\n",
      "s|max|TE_4\n",
      "s|max|T_1\n",
      "s|max|T_2\n",
      "s|max|T_3\n",
      "s|max|T_4\n",
      "s|max|WR_1\n",
      "s|max|WR_2\n",
      "s|max|WR_3\n",
      "s|max|WR_4\n",
      "s|max|WR_5\n",
      "a|max|C_1\n",
      "a|max|C_2\n",
      "a|max|DT_1\n",
      "a|max|FB_1\n",
      "a|max|FS_1\n",
      "a|max|G_1\n",
      "a|max|G_2\n",
      "a|max|G_3\n",
      "a|max|G_4\n",
      "a|max|ILB_1\n",
      "a|max|OLB_1\n",
      "a|max|QB_1\n",
      "a|max|QB_2\n",
      "a|max|RB_1\n",
      "a|max|RB_2\n",
      "a|max|RB_3\n",
      "a|max|TE_1\n",
      "a|max|TE_2\n",
      "a|max|TE_3\n",
      "a|max|TE_4\n",
      "a|max|T_1\n",
      "a|max|T_2\n",
      "a|max|T_3\n",
      "a|max|T_4\n",
      "a|max|WR_1\n",
      "a|max|WR_2\n",
      "a|max|WR_3\n",
      "a|max|WR_4\n",
      "a|max|WR_5\n",
      "o_standard|mean|C_1\n",
      "o_standard|mean|C_2\n",
      "o_standard|mean|DT_1\n",
      "o_standard|mean|FB_1\n",
      "o_standard|mean|FS_1\n",
      "o_standard|mean|G_1\n",
      "o_standard|mean|G_2\n",
      "o_standard|mean|G_3\n",
      "o_standard|mean|G_4\n",
      "o_standard|mean|ILB_1\n",
      "o_standard|mean|OLB_1\n",
      "o_standard|mean|QB_1\n",
      "o_standard|mean|QB_2\n",
      "o_standard|mean|RB_1\n",
      "o_standard|mean|RB_2\n",
      "o_standard|mean|RB_3\n",
      "o_standard|mean|TE_1\n",
      "o_standard|mean|TE_2\n",
      "o_standard|mean|TE_3\n",
      "o_standard|mean|TE_4\n",
      "o_standard|mean|T_1\n",
      "o_standard|mean|T_2\n",
      "o_standard|mean|T_3\n",
      "o_standard|mean|T_4\n",
      "o_standard|mean|WR_1\n",
      "o_standard|mean|WR_2\n",
      "o_standard|mean|WR_3\n",
      "o_standard|mean|WR_4\n",
      "o_standard|mean|WR_5\n",
      "o_standard|std|C_1\n",
      "o_standard|std|C_2\n",
      "o_standard|std|DT_1\n",
      "o_standard|std|FB_1\n",
      "o_standard|std|FS_1\n",
      "o_standard|std|G_1\n",
      "o_standard|std|G_2\n",
      "o_standard|std|G_3\n",
      "o_standard|std|G_4\n",
      "o_standard|std|ILB_1\n",
      "o_standard|std|OLB_1\n",
      "o_standard|std|QB_1\n",
      "o_standard|std|QB_2\n",
      "o_standard|std|RB_1\n",
      "o_standard|std|RB_2\n",
      "o_standard|std|RB_3\n",
      "o_standard|std|TE_1\n",
      "o_standard|std|TE_2\n",
      "o_standard|std|TE_3\n",
      "o_standard|std|TE_4\n",
      "o_standard|std|T_1\n",
      "o_standard|std|T_2\n",
      "o_standard|std|T_3\n",
      "o_standard|std|T_4\n",
      "o_standard|std|WR_1\n",
      "o_standard|std|WR_2\n",
      "o_standard|std|WR_3\n",
      "o_standard|std|WR_4\n",
      "o_standard|std|WR_5\n",
      "dis|sum|C_1\n",
      "dis|sum|C_2\n",
      "dis|sum|DT_1\n",
      "dis|sum|FB_1\n",
      "dis|sum|FS_1\n",
      "dis|sum|G_1\n",
      "dis|sum|G_2\n",
      "dis|sum|G_3\n",
      "dis|sum|G_4\n",
      "dis|sum|ILB_1\n",
      "dis|sum|OLB_1\n",
      "dis|sum|QB_1\n",
      "dis|sum|QB_2\n",
      "dis|sum|RB_1\n",
      "dis|sum|RB_2\n",
      "dis|sum|RB_3\n",
      "dis|sum|TE_1\n",
      "dis|sum|TE_2\n",
      "dis|sum|TE_3\n",
      "dis|sum|TE_4\n",
      "dis|sum|T_1\n",
      "dis|sum|T_2\n",
      "dis|sum|T_3\n",
      "dis|sum|T_4\n",
      "dis|sum|WR_1\n",
      "dis|sum|WR_2\n",
      "dis|sum|WR_3\n",
      "dis|sum|WR_4\n",
      "dis|sum|WR_5\n",
      "dir_standard|mean|C_1\n",
      "dir_standard|mean|C_2\n",
      "dir_standard|mean|DT_1\n",
      "dir_standard|mean|FB_1\n",
      "dir_standard|mean|FS_1\n",
      "dir_standard|mean|G_1\n",
      "dir_standard|mean|G_2\n",
      "dir_standard|mean|G_3\n",
      "dir_standard|mean|G_4\n",
      "dir_standard|mean|ILB_1\n",
      "dir_standard|mean|OLB_1\n",
      "dir_standard|mean|QB_1\n",
      "dir_standard|mean|QB_2\n",
      "dir_standard|mean|RB_1\n",
      "dir_standard|mean|RB_2\n",
      "dir_standard|mean|RB_3\n",
      "dir_standard|mean|TE_1\n",
      "dir_standard|mean|TE_2\n",
      "dir_standard|mean|TE_3\n",
      "dir_standard|mean|TE_4\n",
      "dir_standard|mean|T_1\n",
      "dir_standard|mean|T_2\n",
      "dir_standard|mean|T_3\n",
      "dir_standard|mean|T_4\n",
      "dir_standard|mean|WR_1\n",
      "dir_standard|mean|WR_2\n",
      "dir_standard|mean|WR_3\n",
      "dir_standard|mean|WR_4\n",
      "dir_standard|mean|WR_5\n",
      "dir_standard|std|C_1\n",
      "dir_standard|std|C_2\n",
      "dir_standard|std|DT_1\n",
      "dir_standard|std|FB_1\n",
      "dir_standard|std|FS_1\n",
      "dir_standard|std|G_1\n",
      "dir_standard|std|G_2\n",
      "dir_standard|std|G_3\n",
      "dir_standard|std|G_4\n",
      "dir_standard|std|ILB_1\n",
      "dir_standard|std|OLB_1\n",
      "dir_standard|std|QB_1\n",
      "dir_standard|std|QB_2\n",
      "dir_standard|std|RB_1\n",
      "dir_standard|std|RB_2\n",
      "dir_standard|std|RB_3\n",
      "dir_standard|std|TE_1\n",
      "dir_standard|std|TE_2\n",
      "dir_standard|std|TE_3\n",
      "dir_standard|std|TE_4\n",
      "dir_standard|std|T_1\n",
      "dir_standard|std|T_2\n",
      "dir_standard|std|T_3\n",
      "dir_standard|std|T_4\n",
      "dir_standard|std|WR_1\n",
      "dir_standard|std|WR_2\n",
      "dir_standard|std|WR_3\n",
      "dir_standard|std|WR_4\n",
      "dir_standard|std|WR_5\n",
      "x_standard|mean|C_1\n",
      "x_standard|mean|C_2\n",
      "x_standard|mean|DT_1\n",
      "x_standard|mean|FB_1\n",
      "x_standard|mean|FS_1\n",
      "x_standard|mean|G_1\n",
      "x_standard|mean|G_2\n",
      "x_standard|mean|G_3\n",
      "x_standard|mean|G_4\n",
      "x_standard|mean|ILB_1\n",
      "x_standard|mean|OLB_1\n",
      "x_standard|mean|QB_1\n",
      "x_standard|mean|QB_2\n",
      "x_standard|mean|RB_1\n",
      "x_standard|mean|RB_2\n",
      "x_standard|mean|RB_3\n",
      "x_standard|mean|TE_1\n",
      "x_standard|mean|TE_2\n",
      "x_standard|mean|TE_3\n",
      "x_standard|mean|TE_4\n",
      "x_standard|mean|T_1\n",
      "x_standard|mean|T_2\n",
      "x_standard|mean|T_3\n",
      "x_standard|mean|T_4\n",
      "x_standard|mean|WR_1\n",
      "x_standard|mean|WR_2\n",
      "x_standard|mean|WR_3\n",
      "x_standard|mean|WR_4\n",
      "x_standard|mean|WR_5\n",
      "x_standard|std|C_1\n",
      "x_standard|std|C_2\n",
      "x_standard|std|DT_1\n",
      "x_standard|std|FB_1\n",
      "x_standard|std|FS_1\n",
      "x_standard|std|G_1\n",
      "x_standard|std|G_2\n",
      "x_standard|std|G_3\n",
      "x_standard|std|G_4\n",
      "x_standard|std|ILB_1\n",
      "x_standard|std|OLB_1\n",
      "x_standard|std|QB_1\n",
      "x_standard|std|QB_2\n",
      "x_standard|std|RB_1\n",
      "x_standard|std|RB_2\n",
      "x_standard|std|RB_3\n",
      "x_standard|std|TE_1\n",
      "x_standard|std|TE_2\n",
      "x_standard|std|TE_3\n",
      "x_standard|std|TE_4\n",
      "x_standard|std|T_1\n",
      "x_standard|std|T_2\n",
      "x_standard|std|T_3\n",
      "x_standard|std|T_4\n",
      "x_standard|std|WR_1\n",
      "x_standard|std|WR_2\n",
      "x_standard|std|WR_3\n",
      "x_standard|std|WR_4\n",
      "x_standard|std|WR_5\n",
      "y_standard|mean|C_1\n",
      "y_standard|mean|C_2\n",
      "y_standard|mean|DT_1\n",
      "y_standard|mean|FB_1\n",
      "y_standard|mean|FS_1\n",
      "y_standard|mean|G_1\n",
      "y_standard|mean|G_2\n",
      "y_standard|mean|G_3\n",
      "y_standard|mean|G_4\n",
      "y_standard|mean|ILB_1\n",
      "y_standard|mean|OLB_1\n",
      "y_standard|mean|QB_1\n",
      "y_standard|mean|QB_2\n",
      "y_standard|mean|RB_1\n",
      "y_standard|mean|RB_2\n",
      "y_standard|mean|RB_3\n",
      "y_standard|mean|TE_1\n",
      "y_standard|mean|TE_2\n",
      "y_standard|mean|TE_3\n",
      "y_standard|mean|TE_4\n",
      "y_standard|mean|T_1\n",
      "y_standard|mean|T_2\n",
      "y_standard|mean|T_3\n",
      "y_standard|mean|T_4\n",
      "y_standard|mean|WR_1\n",
      "y_standard|mean|WR_2\n",
      "y_standard|mean|WR_3\n",
      "y_standard|mean|WR_4\n",
      "y_standard|mean|WR_5\n",
      "y_standard|std|C_1\n",
      "y_standard|std|C_2\n",
      "y_standard|std|DT_1\n",
      "y_standard|std|FB_1\n",
      "y_standard|std|FS_1\n",
      "y_standard|std|G_1\n",
      "y_standard|std|G_2\n",
      "y_standard|std|G_3\n",
      "y_standard|std|G_4\n",
      "y_standard|std|ILB_1\n",
      "y_standard|std|OLB_1\n",
      "y_standard|std|QB_1\n",
      "y_standard|std|QB_2\n",
      "y_standard|std|RB_1\n",
      "y_standard|std|RB_2\n",
      "y_standard|std|RB_3\n",
      "y_standard|std|TE_1\n",
      "y_standard|std|TE_2\n",
      "y_standard|std|TE_3\n",
      "y_standard|std|TE_4\n",
      "y_standard|std|T_1\n",
      "y_standard|std|T_2\n",
      "y_standard|std|T_3\n",
      "y_standard|std|T_4\n",
      "y_standard|std|WR_1\n",
      "y_standard|std|WR_2\n",
      "y_standard|std|WR_3\n",
      "y_standard|std|WR_4\n",
      "y_standard|std|WR_5\n",
      "shiftSinceLineset|C_1\n",
      "shiftSinceLineset|C_2\n",
      "shiftSinceLineset|DT_1\n",
      "shiftSinceLineset|FB_1\n",
      "shiftSinceLineset|FS_1\n",
      "shiftSinceLineset|G_1\n",
      "shiftSinceLineset|G_2\n",
      "shiftSinceLineset|G_3\n",
      "shiftSinceLineset|G_4\n",
      "shiftSinceLineset|ILB_1\n",
      "shiftSinceLineset|OLB_1\n",
      "shiftSinceLineset|QB_1\n",
      "shiftSinceLineset|QB_2\n",
      "shiftSinceLineset|RB_1\n",
      "shiftSinceLineset|RB_2\n",
      "shiftSinceLineset|RB_3\n",
      "shiftSinceLineset|TE_1\n",
      "shiftSinceLineset|TE_2\n",
      "shiftSinceLineset|TE_3\n",
      "shiftSinceLineset|TE_4\n",
      "shiftSinceLineset|T_1\n",
      "shiftSinceLineset|T_2\n",
      "shiftSinceLineset|T_3\n",
      "shiftSinceLineset|T_4\n",
      "shiftSinceLineset|WR_1\n",
      "shiftSinceLineset|WR_2\n",
      "shiftSinceLineset|WR_3\n",
      "shiftSinceLineset|WR_4\n",
      "shiftSinceLineset|WR_5\n",
      "motionSinceLineset|C_1\n",
      "motionSinceLineset|C_2\n",
      "motionSinceLineset|DT_1\n",
      "motionSinceLineset|FB_1\n",
      "motionSinceLineset|FS_1\n",
      "motionSinceLineset|G_1\n",
      "motionSinceLineset|G_2\n",
      "motionSinceLineset|G_3\n",
      "motionSinceLineset|G_4\n",
      "motionSinceLineset|ILB_1\n",
      "motionSinceLineset|OLB_1\n",
      "motionSinceLineset|QB_1\n",
      "motionSinceLineset|QB_2\n",
      "motionSinceLineset|RB_1\n",
      "motionSinceLineset|RB_2\n",
      "motionSinceLineset|RB_3\n",
      "motionSinceLineset|TE_1\n",
      "motionSinceLineset|TE_2\n",
      "motionSinceLineset|TE_3\n",
      "motionSinceLineset|TE_4\n",
      "motionSinceLineset|T_1\n",
      "motionSinceLineset|T_2\n",
      "motionSinceLineset|T_3\n",
      "motionSinceLineset|T_4\n",
      "motionSinceLineset|WR_1\n",
      "motionSinceLineset|WR_2\n",
      "motionSinceLineset|WR_3\n",
      "motionSinceLineset|WR_4\n",
      "motionSinceLineset|WR_5\n",
      "offenseFormation_EMPTY\n",
      "offenseFormation_I_FORM\n",
      "offenseFormation_JUMBO\n",
      "offenseFormation_PISTOL\n",
      "offenseFormation_SHOTGUN\n",
      "offenseFormation_SINGLEBACK\n",
      "offenseFormation_WILDCAT\n",
      "receiverAlignment_1x0\n",
      "receiverAlignment_1x1\n",
      "receiverAlignment_2x0\n",
      "receiverAlignment_2x1\n",
      "receiverAlignment_2x2\n",
      "receiverAlignment_3x0\n",
      "receiverAlignment_3x1\n",
      "receiverAlignment_3x2\n",
      "receiverAlignment_3x3\n",
      "receiverAlignment_4x1\n",
      "receiverAlignment_4x2\n",
      "roof_closed\n",
      "roof_dome\n",
      "roof_open\n",
      "roof_outdoors\n",
      "surface_a_turf\n",
      "surface_astroturf\n",
      "surface_fieldturf\n",
      "surface_grass\n",
      "surface_matrixturf\n",
      "surface_sportturf\n"
     ]
    }
   ],
   "source": [
    "for col in merged_pivot.columns: \n",
    "    if round((merged_pivot[col].isna().sum() /len(merged_pivot)*100), 2)>75:\n",
    "        merged_pivot.drop(columns=col, inplace=True)\n",
    "    elif round((merged_pivot[col].isna().sum() /len(merged_pivot)*100), 2)>0:\n",
    "        print(col,round((merged_pivot[col].isna().sum() /len(merged_pivot)*100), 2), '% missing')\n",
    "    else: \n",
    "        print(col)"
   ]
  },
  {
   "cell_type": "markdown",
   "id": "46fd202a",
   "metadata": {
    "papermill": {
     "duration": 0.030766,
     "end_time": "2024-10-23T20:59:47.801294",
     "exception": false,
     "start_time": "2024-10-23T20:59:47.770528",
     "status": "completed"
    },
    "tags": []
   },
   "source": [
    "### Add pass-rate data"
   ]
  },
  {
   "cell_type": "code",
   "execution_count": 13,
   "id": "63dc3e79",
   "metadata": {
    "execution": {
     "iopub.execute_input": "2024-10-23T20:59:47.865470Z",
     "iopub.status.busy": "2024-10-23T20:59:47.864529Z",
     "iopub.status.idle": "2024-10-23T20:59:47.931575Z",
     "shell.execute_reply": "2024-10-23T20:59:47.930219Z"
    },
    "papermill": {
     "duration": 0.102422,
     "end_time": "2024-10-23T20:59:47.934514",
     "exception": false,
     "start_time": "2024-10-23T20:59:47.832092",
     "status": "completed"
    },
    "tags": []
   },
   "outputs": [],
   "source": [
    "xp_df = pd.read_csv('/kaggle/input/created-data-db-25/team_xpass_ratios.csv').drop(columns='Unnamed: 0')\n",
    "pr_df = pd.read_csv('/kaggle/input/created-data-db-25/team_pass_rates.csv').drop(columns='Unnamed: 0')"
   ]
  },
  {
   "cell_type": "markdown",
   "id": "fb28080a",
   "metadata": {
    "papermill": {
     "duration": 0.031076,
     "end_time": "2024-10-23T20:59:47.997422",
     "exception": false,
     "start_time": "2024-10-23T20:59:47.966346",
     "status": "completed"
    },
    "tags": []
   },
   "source": [
    "### Add FTN data"
   ]
  },
  {
   "cell_type": "code",
   "execution_count": 14,
   "id": "69643580",
   "metadata": {
    "execution": {
     "iopub.execute_input": "2024-10-23T20:59:48.061405Z",
     "iopub.status.busy": "2024-10-23T20:59:48.060935Z",
     "iopub.status.idle": "2024-10-23T20:59:55.596381Z",
     "shell.execute_reply": "2024-10-23T20:59:55.595014Z"
    },
    "papermill": {
     "duration": 7.570381,
     "end_time": "2024-10-23T20:59:55.598973",
     "exception": false,
     "start_time": "2024-10-23T20:59:48.028592",
     "status": "completed"
    },
    "tags": []
   },
   "outputs": [
    {
     "name": "stdout",
     "output_type": "stream",
     "text": [
      "2022 done.\n",
      "Downcasting floats.\n",
      "Downcasting floats.\n"
     ]
    }
   ],
   "source": [
    "pbp = nfl.import_pbp_data([2022])\n",
    "ftn = nfl.import_ftn_data([2022])"
   ]
  },
  {
   "cell_type": "code",
   "execution_count": 15,
   "id": "4a43320f",
   "metadata": {
    "execution": {
     "iopub.execute_input": "2024-10-23T20:59:55.666048Z",
     "iopub.status.busy": "2024-10-23T20:59:55.665578Z",
     "iopub.status.idle": "2024-10-23T20:59:55.745476Z",
     "shell.execute_reply": "2024-10-23T20:59:55.744395Z"
    },
    "papermill": {
     "duration": 0.11707,
     "end_time": "2024-10-23T20:59:55.748229",
     "exception": false,
     "start_time": "2024-10-23T20:59:55.631159",
     "status": "completed"
    },
    "tags": []
   },
   "outputs": [
    {
     "data": {
      "text/html": [
       "<div>\n",
       "<style scoped>\n",
       "    .dataframe tbody tr th:only-of-type {\n",
       "        vertical-align: middle;\n",
       "    }\n",
       "\n",
       "    .dataframe tbody tr th {\n",
       "        vertical-align: top;\n",
       "    }\n",
       "\n",
       "    .dataframe thead th {\n",
       "        text-align: right;\n",
       "    }\n",
       "</style>\n",
       "<table border=\"1\" class=\"dataframe\">\n",
       "  <thead>\n",
       "    <tr style=\"text-align: right;\">\n",
       "      <th></th>\n",
       "      <th>ftn_game_id</th>\n",
       "      <th>nflverse_game_id</th>\n",
       "      <th>season</th>\n",
       "      <th>week</th>\n",
       "      <th>ftn_play_id</th>\n",
       "      <th>nflverse_play_id</th>\n",
       "      <th>starting_hash</th>\n",
       "      <th>qb_location</th>\n",
       "      <th>n_offense_backfield</th>\n",
       "      <th>n_defense_box</th>\n",
       "      <th>...</th>\n",
       "      <th>read_thrown</th>\n",
       "      <th>is_catchable_ball</th>\n",
       "      <th>is_contested_ball</th>\n",
       "      <th>is_created_reception</th>\n",
       "      <th>is_drop</th>\n",
       "      <th>is_qb_sneak</th>\n",
       "      <th>n_blitzers</th>\n",
       "      <th>n_pass_rushers</th>\n",
       "      <th>is_qb_fault_sack</th>\n",
       "      <th>date_pulled</th>\n",
       "    </tr>\n",
       "  </thead>\n",
       "  <tbody>\n",
       "    <tr>\n",
       "      <th>0</th>\n",
       "      <td>5879</td>\n",
       "      <td>2022_01_BUF_LA</td>\n",
       "      <td>2022</td>\n",
       "      <td>1</td>\n",
       "      <td>963918</td>\n",
       "      <td>56</td>\n",
       "      <td>R</td>\n",
       "      <td>S</td>\n",
       "      <td>1</td>\n",
       "      <td>6</td>\n",
       "      <td>...</td>\n",
       "      <td>1</td>\n",
       "      <td>True</td>\n",
       "      <td>False</td>\n",
       "      <td>False</td>\n",
       "      <td>False</td>\n",
       "      <td>False</td>\n",
       "      <td>0</td>\n",
       "      <td>4</td>\n",
       "      <td>False</td>\n",
       "      <td>2024-09-06 23:50:14.696374+00:00</td>\n",
       "    </tr>\n",
       "  </tbody>\n",
       "</table>\n",
       "<p>1 rows × 29 columns</p>\n",
       "</div>"
      ],
      "text/plain": [
       "   ftn_game_id nflverse_game_id  season  week  ftn_play_id  nflverse_play_id  \\\n",
       "0         5879   2022_01_BUF_LA    2022     1       963918                56   \n",
       "\n",
       "  starting_hash qb_location  n_offense_backfield  n_defense_box  ...  \\\n",
       "0             R           S                    1              6  ...   \n",
       "\n",
       "   read_thrown  is_catchable_ball  is_contested_ball  is_created_reception  \\\n",
       "0            1               True              False                 False   \n",
       "\n",
       "   is_drop  is_qb_sneak  n_blitzers  n_pass_rushers  is_qb_fault_sack  \\\n",
       "0    False        False           0               4             False   \n",
       "\n",
       "                       date_pulled  \n",
       "0 2024-09-06 23:50:14.696374+00:00  \n",
       "\n",
       "[1 rows x 29 columns]"
      ]
     },
     "execution_count": 15,
     "metadata": {},
     "output_type": "execute_result"
    }
   ],
   "source": [
    "pbp_ids = pbp[['play_id','game_id','old_game_id_x']]\n",
    "ftn['nflverse_play_id'] = ftn['nflverse_play_id'].astype(int)\n",
    "pbp_ids['play_id'] = pbp_ids['play_id'].astype(int)\n",
    "ftn['nflverse_game_id'] = ftn['nflverse_game_id'].astype(str)\n",
    "pbp_ids['game_id'] = pbp_ids['game_id'].astype(str)\n",
    "ftn.head(1)"
   ]
  },
  {
   "cell_type": "code",
   "execution_count": 16,
   "id": "c4659525",
   "metadata": {
    "execution": {
     "iopub.execute_input": "2024-10-23T20:59:55.815304Z",
     "iopub.status.busy": "2024-10-23T20:59:55.814828Z",
     "iopub.status.idle": "2024-10-23T20:59:55.942491Z",
     "shell.execute_reply": "2024-10-23T20:59:55.941400Z"
    },
    "papermill": {
     "duration": 0.164968,
     "end_time": "2024-10-23T20:59:55.945457",
     "exception": false,
     "start_time": "2024-10-23T20:59:55.780489",
     "status": "completed"
    },
    "tags": []
   },
   "outputs": [],
   "source": [
    "ftn_merged = pbp_ids.merge(ftn,how='left',left_on=['play_id','game_id'],\n",
    "              right_on=['nflverse_play_id','nflverse_game_id'])\n",
    "\n",
    "ftn_merged = ftn_merged[['play_id','old_game_id_x','n_offense_backfield',\n",
    "                        'n_defense_box','is_no_huddle','is_motion']].rename(columns={'old_game_id_x':'gameId',\n",
    "                                                                                    'play_id':'playId'})\n",
    "\n",
    "ftn_merged['gameId'] = ftn_merged['gameId'].astype(int)\n",
    "ftn_merged['playId'] = ftn_merged['playId'].astype(int)\n",
    "\n",
    "merged_id_df = merged_pivot[['gameId','playId']]"
   ]
  },
  {
   "cell_type": "code",
   "execution_count": 17,
   "id": "b7869bfd",
   "metadata": {
    "execution": {
     "iopub.execute_input": "2024-10-23T20:59:56.010194Z",
     "iopub.status.busy": "2024-10-23T20:59:56.009744Z",
     "iopub.status.idle": "2024-10-23T20:59:56.035445Z",
     "shell.execute_reply": "2024-10-23T20:59:56.034292Z"
    },
    "papermill": {
     "duration": 0.061099,
     "end_time": "2024-10-23T20:59:56.038183",
     "exception": false,
     "start_time": "2024-10-23T20:59:55.977084",
     "status": "completed"
    },
    "tags": []
   },
   "outputs": [
    {
     "data": {
      "text/html": [
       "<div>\n",
       "<style scoped>\n",
       "    .dataframe tbody tr th:only-of-type {\n",
       "        vertical-align: middle;\n",
       "    }\n",
       "\n",
       "    .dataframe tbody tr th {\n",
       "        vertical-align: top;\n",
       "    }\n",
       "\n",
       "    .dataframe thead th {\n",
       "        text-align: right;\n",
       "    }\n",
       "</style>\n",
       "<table border=\"1\" class=\"dataframe\">\n",
       "  <thead>\n",
       "    <tr style=\"text-align: right;\">\n",
       "      <th></th>\n",
       "      <th>gameId</th>\n",
       "      <th>playId</th>\n",
       "      <th>playDescription</th>\n",
       "      <th>quarter</th>\n",
       "      <th>down</th>\n",
       "      <th>yardsToGo</th>\n",
       "      <th>possessionTeam</th>\n",
       "      <th>defensiveTeam</th>\n",
       "      <th>yardlineSide</th>\n",
       "      <th>yardlineNumber</th>\n",
       "      <th>...</th>\n",
       "      <th>visitorTeamWinProbilityAdded</th>\n",
       "      <th>expectedPointsAdded</th>\n",
       "      <th>isDropback</th>\n",
       "      <th>pff_runConceptPrimary</th>\n",
       "      <th>pff_runConceptSecondary</th>\n",
       "      <th>pff_runPassOption</th>\n",
       "      <th>pff_passCoverage</th>\n",
       "      <th>pff_manZone</th>\n",
       "      <th>time_remaining</th>\n",
       "      <th>score_differential</th>\n",
       "    </tr>\n",
       "  </thead>\n",
       "  <tbody>\n",
       "    <tr>\n",
       "      <th>0</th>\n",
       "      <td>2022102302</td>\n",
       "      <td>2655</td>\n",
       "      <td>(1:54) (Shotgun) J.Burrow pass short middle to...</td>\n",
       "      <td>3</td>\n",
       "      <td>1</td>\n",
       "      <td>10</td>\n",
       "      <td>CIN</td>\n",
       "      <td>ATL</td>\n",
       "      <td>CIN</td>\n",
       "      <td>21</td>\n",
       "      <td>...</td>\n",
       "      <td>-0.004634</td>\n",
       "      <td>0.702717</td>\n",
       "      <td>True</td>\n",
       "      <td>NaN</td>\n",
       "      <td>NaN</td>\n",
       "      <td>0</td>\n",
       "      <td>Cover-3</td>\n",
       "      <td>Zone</td>\n",
       "      <td>16.9</td>\n",
       "      <td>18</td>\n",
       "    </tr>\n",
       "  </tbody>\n",
       "</table>\n",
       "<p>1 rows × 52 columns</p>\n",
       "</div>"
      ],
      "text/plain": [
       "       gameId  playId                                    playDescription  \\\n",
       "0  2022102302    2655  (1:54) (Shotgun) J.Burrow pass short middle to...   \n",
       "\n",
       "   quarter  down  yardsToGo possessionTeam defensiveTeam yardlineSide  \\\n",
       "0        3     1         10            CIN           ATL          CIN   \n",
       "\n",
       "   yardlineNumber  ... visitorTeamWinProbilityAdded  expectedPointsAdded  \\\n",
       "0              21  ...                    -0.004634             0.702717   \n",
       "\n",
       "   isDropback pff_runConceptPrimary  pff_runConceptSecondary  \\\n",
       "0        True                   NaN                      NaN   \n",
       "\n",
       "   pff_runPassOption  pff_passCoverage  pff_manZone time_remaining  \\\n",
       "0                  0           Cover-3         Zone           16.9   \n",
       "\n",
       "  score_differential  \n",
       "0                 18  \n",
       "\n",
       "[1 rows x 52 columns]"
      ]
     },
     "execution_count": 17,
     "metadata": {},
     "output_type": "execute_result"
    }
   ],
   "source": [
    "df_plays.head(1)"
   ]
  },
  {
   "cell_type": "markdown",
   "id": "2e8661de",
   "metadata": {
    "papermill": {
     "duration": 0.031115,
     "end_time": "2024-10-23T20:59:56.101211",
     "exception": false,
     "start_time": "2024-10-23T20:59:56.070096",
     "status": "completed"
    },
    "tags": []
   },
   "source": [
    "### Merge in FTN and pass rate data"
   ]
  },
  {
   "cell_type": "code",
   "execution_count": 18,
   "id": "efe65872",
   "metadata": {
    "execution": {
     "iopub.execute_input": "2024-10-23T20:59:56.166392Z",
     "iopub.status.busy": "2024-10-23T20:59:56.165960Z",
     "iopub.status.idle": "2024-10-23T20:59:56.202264Z",
     "shell.execute_reply": "2024-10-23T20:59:56.201084Z"
    },
    "papermill": {
     "duration": 0.072475,
     "end_time": "2024-10-23T20:59:56.205319",
     "exception": false,
     "start_time": "2024-10-23T20:59:56.132844",
     "status": "completed"
    },
    "tags": []
   },
   "outputs": [],
   "source": [
    "merged_base = merged_id_df.merge(ftn_merged,how='left',on=['gameId','playId'])\n",
    "merged_base = merged_base.merge(pr_df,how='left',on=['gameId','playId'])\n",
    "merged_base = merged_base.merge(xp_df,how='left',on=['gameId','playId'])"
   ]
  },
  {
   "cell_type": "markdown",
   "id": "b9ed9efd",
   "metadata": {
    "papermill": {
     "duration": 0.031184,
     "end_time": "2024-10-23T20:59:56.268607",
     "exception": false,
     "start_time": "2024-10-23T20:59:56.237423",
     "status": "completed"
    },
    "tags": []
   },
   "source": [
    "### Add coverage data"
   ]
  },
  {
   "cell_type": "code",
   "execution_count": 19,
   "id": "be3e92c8",
   "metadata": {
    "execution": {
     "iopub.execute_input": "2024-10-23T20:59:56.334532Z",
     "iopub.status.busy": "2024-10-23T20:59:56.333438Z",
     "iopub.status.idle": "2024-10-23T20:59:56.356544Z",
     "shell.execute_reply": "2024-10-23T20:59:56.355327Z"
    },
    "papermill": {
     "duration": 0.05895,
     "end_time": "2024-10-23T20:59:56.359463",
     "exception": false,
     "start_time": "2024-10-23T20:59:56.300513",
     "status": "completed"
    },
    "tags": []
   },
   "outputs": [
    {
     "data": {
      "text/html": [
       "<div>\n",
       "<style scoped>\n",
       "    .dataframe tbody tr th:only-of-type {\n",
       "        vertical-align: middle;\n",
       "    }\n",
       "\n",
       "    .dataframe tbody tr th {\n",
       "        vertical-align: top;\n",
       "    }\n",
       "\n",
       "    .dataframe thead th {\n",
       "        text-align: right;\n",
       "    }\n",
       "</style>\n",
       "<table border=\"1\" class=\"dataframe\">\n",
       "  <thead>\n",
       "    <tr style=\"text-align: right;\">\n",
       "      <th></th>\n",
       "      <th>gameId</th>\n",
       "      <th>playId</th>\n",
       "      <th>n_offense_backfield</th>\n",
       "      <th>n_defense_box</th>\n",
       "      <th>is_no_huddle</th>\n",
       "      <th>is_motion</th>\n",
       "      <th>pass_rate_off</th>\n",
       "      <th>pass_rate_def</th>\n",
       "      <th>off_xpass</th>\n",
       "      <th>def_xpass</th>\n",
       "    </tr>\n",
       "  </thead>\n",
       "  <tbody>\n",
       "    <tr>\n",
       "      <th>5081</th>\n",
       "      <td>2022092509</td>\n",
       "      <td>2852</td>\n",
       "      <td>2.0</td>\n",
       "      <td>7.0</td>\n",
       "      <td>False</td>\n",
       "      <td>True</td>\n",
       "      <td>0.616667</td>\n",
       "      <td>0.715596</td>\n",
       "      <td>0.508127</td>\n",
       "      <td>0.668140</td>\n",
       "    </tr>\n",
       "    <tr>\n",
       "      <th>3038</th>\n",
       "      <td>2022091808</td>\n",
       "      <td>1117</td>\n",
       "      <td>0.0</td>\n",
       "      <td>5.0</td>\n",
       "      <td>False</td>\n",
       "      <td>True</td>\n",
       "      <td>0.500000</td>\n",
       "      <td>0.703125</td>\n",
       "      <td>0.494547</td>\n",
       "      <td>0.701578</td>\n",
       "    </tr>\n",
       "    <tr>\n",
       "      <th>4146</th>\n",
       "      <td>2022092502</td>\n",
       "      <td>1445</td>\n",
       "      <td>1.0</td>\n",
       "      <td>7.0</td>\n",
       "      <td>False</td>\n",
       "      <td>False</td>\n",
       "      <td>0.646617</td>\n",
       "      <td>0.682171</td>\n",
       "      <td>0.739927</td>\n",
       "      <td>0.688540</td>\n",
       "    </tr>\n",
       "  </tbody>\n",
       "</table>\n",
       "</div>"
      ],
      "text/plain": [
       "          gameId  playId  n_offense_backfield  n_defense_box is_no_huddle  \\\n",
       "5081  2022092509    2852                  2.0            7.0        False   \n",
       "3038  2022091808    1117                  0.0            5.0        False   \n",
       "4146  2022092502    1445                  1.0            7.0        False   \n",
       "\n",
       "     is_motion  pass_rate_off  pass_rate_def  off_xpass  def_xpass  \n",
       "5081      True       0.616667       0.715596   0.508127   0.668140  \n",
       "3038      True       0.500000       0.703125   0.494547   0.701578  \n",
       "4146     False       0.646617       0.682171   0.739927   0.688540  "
      ]
     },
     "execution_count": 19,
     "metadata": {},
     "output_type": "execute_result"
    }
   ],
   "source": [
    "merged_base.sample(3)"
   ]
  },
  {
   "cell_type": "code",
   "execution_count": 20,
   "id": "62f79f69",
   "metadata": {
    "execution": {
     "iopub.execute_input": "2024-10-23T20:59:56.427754Z",
     "iopub.status.busy": "2024-10-23T20:59:56.427326Z",
     "iopub.status.idle": "2024-10-23T20:59:56.442573Z",
     "shell.execute_reply": "2024-10-23T20:59:56.441462Z"
    },
    "papermill": {
     "duration": 0.051686,
     "end_time": "2024-10-23T20:59:56.445437",
     "exception": false,
     "start_time": "2024-10-23T20:59:56.393751",
     "status": "completed"
    },
    "tags": []
   },
   "outputs": [],
   "source": [
    "merged_base = merged_base.merge(df_games[['gameId','week']].drop_duplicates(),how='left',on=['gameId'])"
   ]
  },
  {
   "cell_type": "code",
   "execution_count": 21,
   "id": "625c62f6",
   "metadata": {
    "execution": {
     "iopub.execute_input": "2024-10-23T20:59:56.513423Z",
     "iopub.status.busy": "2024-10-23T20:59:56.512880Z",
     "iopub.status.idle": "2024-10-23T20:59:56.539827Z",
     "shell.execute_reply": "2024-10-23T20:59:56.538691Z"
    },
    "papermill": {
     "duration": 0.063644,
     "end_time": "2024-10-23T20:59:56.542698",
     "exception": false,
     "start_time": "2024-10-23T20:59:56.479054",
     "status": "completed"
    },
    "tags": []
   },
   "outputs": [],
   "source": [
    "cf_df = pd.read_csv('/kaggle/input/created-data-db-25/coverages_faced.csv').drop(columns='Unnamed: 0')\n",
    "cu_df = pd.read_csv('/kaggle/input/created-data-db-25/coverages_used.csv').drop(columns='Unnamed: 0')"
   ]
  },
  {
   "cell_type": "code",
   "execution_count": 22,
   "id": "5953287f",
   "metadata": {
    "execution": {
     "iopub.execute_input": "2024-10-23T20:59:56.609485Z",
     "iopub.status.busy": "2024-10-23T20:59:56.609005Z",
     "iopub.status.idle": "2024-10-23T20:59:56.635325Z",
     "shell.execute_reply": "2024-10-23T20:59:56.634214Z"
    },
    "papermill": {
     "duration": 0.062684,
     "end_time": "2024-10-23T20:59:56.638229",
     "exception": false,
     "start_time": "2024-10-23T20:59:56.575545",
     "status": "completed"
    },
    "tags": []
   },
   "outputs": [],
   "source": [
    "merged_base = merged_base.merge(df_plays[['gameId','playId',\n",
    "                                          'possessionTeam','defensiveTeam']].drop_duplicates(),\n",
    "                                how='left',on=['gameId','playId'])"
   ]
  },
  {
   "cell_type": "code",
   "execution_count": 23,
   "id": "9cebf7e5",
   "metadata": {
    "execution": {
     "iopub.execute_input": "2024-10-23T20:59:56.706498Z",
     "iopub.status.busy": "2024-10-23T20:59:56.706040Z",
     "iopub.status.idle": "2024-10-23T20:59:56.727756Z",
     "shell.execute_reply": "2024-10-23T20:59:56.726625Z"
    },
    "papermill": {
     "duration": 0.058421,
     "end_time": "2024-10-23T20:59:56.730431",
     "exception": false,
     "start_time": "2024-10-23T20:59:56.672010",
     "status": "completed"
    },
    "tags": []
   },
   "outputs": [
    {
     "data": {
      "text/html": [
       "<div>\n",
       "<style scoped>\n",
       "    .dataframe tbody tr th:only-of-type {\n",
       "        vertical-align: middle;\n",
       "    }\n",
       "\n",
       "    .dataframe tbody tr th {\n",
       "        vertical-align: top;\n",
       "    }\n",
       "\n",
       "    .dataframe thead th {\n",
       "        text-align: right;\n",
       "    }\n",
       "</style>\n",
       "<table border=\"1\" class=\"dataframe\">\n",
       "  <thead>\n",
       "    <tr style=\"text-align: right;\">\n",
       "      <th></th>\n",
       "      <th>gameId</th>\n",
       "      <th>playId</th>\n",
       "      <th>n_offense_backfield</th>\n",
       "      <th>n_defense_box</th>\n",
       "      <th>is_no_huddle</th>\n",
       "      <th>is_motion</th>\n",
       "      <th>pass_rate_off</th>\n",
       "      <th>pass_rate_def</th>\n",
       "      <th>off_xpass</th>\n",
       "      <th>def_xpass</th>\n",
       "      <th>week</th>\n",
       "      <th>possessionTeam</th>\n",
       "      <th>defensiveTeam</th>\n",
       "    </tr>\n",
       "  </thead>\n",
       "  <tbody>\n",
       "    <tr>\n",
       "      <th>202</th>\n",
       "      <td>2022091100</td>\n",
       "      <td>2899</td>\n",
       "      <td>1.0</td>\n",
       "      <td>6.0</td>\n",
       "      <td>True</td>\n",
       "      <td>False</td>\n",
       "      <td>NaN</td>\n",
       "      <td>NaN</td>\n",
       "      <td>NaN</td>\n",
       "      <td>NaN</td>\n",
       "      <td>1</td>\n",
       "      <td>ATL</td>\n",
       "      <td>NO</td>\n",
       "    </tr>\n",
       "    <tr>\n",
       "      <th>6530</th>\n",
       "      <td>2022100206</td>\n",
       "      <td>856</td>\n",
       "      <td>1.0</td>\n",
       "      <td>6.0</td>\n",
       "      <td>False</td>\n",
       "      <td>False</td>\n",
       "      <td>0.673797</td>\n",
       "      <td>0.516746</td>\n",
       "      <td>0.797615</td>\n",
       "      <td>0.398721</td>\n",
       "      <td>4</td>\n",
       "      <td>LAC</td>\n",
       "      <td>HOU</td>\n",
       "    </tr>\n",
       "    <tr>\n",
       "      <th>12637</th>\n",
       "      <td>2022102311</td>\n",
       "      <td>3042</td>\n",
       "      <td>0.0</td>\n",
       "      <td>4.0</td>\n",
       "      <td>False</td>\n",
       "      <td>False</td>\n",
       "      <td>0.660969</td>\n",
       "      <td>0.603015</td>\n",
       "      <td>0.778477</td>\n",
       "      <td>0.648225</td>\n",
       "      <td>7</td>\n",
       "      <td>MIA</td>\n",
       "      <td>PIT</td>\n",
       "    </tr>\n",
       "  </tbody>\n",
       "</table>\n",
       "</div>"
      ],
      "text/plain": [
       "           gameId  playId  n_offense_backfield  n_defense_box is_no_huddle  \\\n",
       "202    2022091100    2899                  1.0            6.0         True   \n",
       "6530   2022100206     856                  1.0            6.0        False   \n",
       "12637  2022102311    3042                  0.0            4.0        False   \n",
       "\n",
       "      is_motion  pass_rate_off  pass_rate_def  off_xpass  def_xpass  week  \\\n",
       "202       False            NaN            NaN        NaN        NaN     1   \n",
       "6530      False       0.673797       0.516746   0.797615   0.398721     4   \n",
       "12637     False       0.660969       0.603015   0.778477   0.648225     7   \n",
       "\n",
       "      possessionTeam defensiveTeam  \n",
       "202              ATL            NO  \n",
       "6530             LAC           HOU  \n",
       "12637            MIA           PIT  "
      ]
     },
     "execution_count": 23,
     "metadata": {},
     "output_type": "execute_result"
    }
   ],
   "source": [
    "merged_base.sample(3)"
   ]
  },
  {
   "cell_type": "code",
   "execution_count": 24,
   "id": "08e70aa2",
   "metadata": {
    "execution": {
     "iopub.execute_input": "2024-10-23T20:59:56.797132Z",
     "iopub.status.busy": "2024-10-23T20:59:56.796065Z",
     "iopub.status.idle": "2024-10-23T20:59:56.810183Z",
     "shell.execute_reply": "2024-10-23T20:59:56.808842Z"
    },
    "papermill": {
     "duration": 0.05039,
     "end_time": "2024-10-23T20:59:56.813049",
     "exception": false,
     "start_time": "2024-10-23T20:59:56.762659",
     "status": "completed"
    },
    "tags": []
   },
   "outputs": [
    {
     "data": {
      "text/html": [
       "<div>\n",
       "<style scoped>\n",
       "    .dataframe tbody tr th:only-of-type {\n",
       "        vertical-align: middle;\n",
       "    }\n",
       "\n",
       "    .dataframe tbody tr th {\n",
       "        vertical-align: top;\n",
       "    }\n",
       "\n",
       "    .dataframe thead th {\n",
       "        text-align: right;\n",
       "    }\n",
       "</style>\n",
       "<table border=\"1\" class=\"dataframe\">\n",
       "  <thead>\n",
       "    <tr style=\"text-align: right;\">\n",
       "      <th></th>\n",
       "      <th>possessionTeam</th>\n",
       "      <th>week</th>\n",
       "      <th>cover_3_off</th>\n",
       "      <th>cover_6_off</th>\n",
       "      <th>cover_1_off</th>\n",
       "      <th>Quarters_off</th>\n",
       "      <th>Cover-2_off</th>\n",
       "      <th>Cover-0_off</th>\n",
       "      <th>Man_off</th>\n",
       "      <th>Other_off</th>\n",
       "      <th>Zone_off</th>\n",
       "    </tr>\n",
       "  </thead>\n",
       "  <tbody>\n",
       "    <tr>\n",
       "      <th>0</th>\n",
       "      <td>ARI</td>\n",
       "      <td>2</td>\n",
       "      <td>8</td>\n",
       "      <td>3</td>\n",
       "      <td>11</td>\n",
       "      <td>16</td>\n",
       "      <td>14</td>\n",
       "      <td>2</td>\n",
       "      <td>13</td>\n",
       "      <td>3</td>\n",
       "      <td>41</td>\n",
       "    </tr>\n",
       "  </tbody>\n",
       "</table>\n",
       "</div>"
      ],
      "text/plain": [
       "  possessionTeam  week  cover_3_off  cover_6_off  cover_1_off  Quarters_off  \\\n",
       "0            ARI     2            8            3           11            16   \n",
       "\n",
       "   Cover-2_off  Cover-0_off  Man_off  Other_off  Zone_off  \n",
       "0           14            2       13          3        41  "
      ]
     },
     "execution_count": 24,
     "metadata": {},
     "output_type": "execute_result"
    }
   ],
   "source": [
    "cf_df.head(1)"
   ]
  },
  {
   "cell_type": "code",
   "execution_count": 25,
   "id": "69b000ae",
   "metadata": {
    "execution": {
     "iopub.execute_input": "2024-10-23T20:59:56.882462Z",
     "iopub.status.busy": "2024-10-23T20:59:56.881993Z",
     "iopub.status.idle": "2024-10-23T20:59:56.909780Z",
     "shell.execute_reply": "2024-10-23T20:59:56.908731Z"
    },
    "papermill": {
     "duration": 0.066371,
     "end_time": "2024-10-23T20:59:56.912732",
     "exception": false,
     "start_time": "2024-10-23T20:59:56.846361",
     "status": "completed"
    },
    "tags": []
   },
   "outputs": [],
   "source": [
    "merged_base = merged_base.merge(cf_df,how='left',on=['possessionTeam','week'])\n",
    "merged_base = merged_base.merge(cu_df,how='left',on=['defensiveTeam','week'])"
   ]
  },
  {
   "cell_type": "code",
   "execution_count": 26,
   "id": "cdc9d1e8",
   "metadata": {
    "execution": {
     "iopub.execute_input": "2024-10-23T20:59:56.981510Z",
     "iopub.status.busy": "2024-10-23T20:59:56.981051Z",
     "iopub.status.idle": "2024-10-23T20:59:56.986268Z",
     "shell.execute_reply": "2024-10-23T20:59:56.985056Z"
    },
    "papermill": {
     "duration": 0.041856,
     "end_time": "2024-10-23T20:59:56.988667",
     "exception": false,
     "start_time": "2024-10-23T20:59:56.946811",
     "status": "completed"
    },
    "tags": []
   },
   "outputs": [],
   "source": [
    "#merged_base = merged_base.fillna(merged_base.mean())"
   ]
  },
  {
   "cell_type": "code",
   "execution_count": 27,
   "id": "c7f6086a",
   "metadata": {
    "execution": {
     "iopub.execute_input": "2024-10-23T20:59:57.057002Z",
     "iopub.status.busy": "2024-10-23T20:59:57.055763Z",
     "iopub.status.idle": "2024-10-23T20:59:57.079092Z",
     "shell.execute_reply": "2024-10-23T20:59:57.077777Z"
    },
    "papermill": {
     "duration": 0.060933,
     "end_time": "2024-10-23T20:59:57.081953",
     "exception": false,
     "start_time": "2024-10-23T20:59:57.021020",
     "status": "completed"
    },
    "tags": []
   },
   "outputs": [],
   "source": [
    "merged_pivot = pd.concat([merged_pivot,merged_base.iloc[:,2:]],axis=1)"
   ]
  },
  {
   "cell_type": "code",
   "execution_count": 28,
   "id": "7aaf0c62",
   "metadata": {
    "execution": {
     "iopub.execute_input": "2024-10-23T20:59:57.150126Z",
     "iopub.status.busy": "2024-10-23T20:59:57.149668Z",
     "iopub.status.idle": "2024-10-23T20:59:57.190030Z",
     "shell.execute_reply": "2024-10-23T20:59:57.188897Z"
    },
    "papermill": {
     "duration": 0.077278,
     "end_time": "2024-10-23T20:59:57.192987",
     "exception": false,
     "start_time": "2024-10-23T20:59:57.115709",
     "status": "completed"
    },
    "tags": []
   },
   "outputs": [],
   "source": [
    "merged_pivot[['is_no_huddle']] = merged_pivot[['is_no_huddle']].astype(int)\n",
    "merged_pivot[['is_motion']] = merged_pivot[['is_motion']].astype(int)"
   ]
  },
  {
   "cell_type": "code",
   "execution_count": 29,
   "id": "54564d4d",
   "metadata": {
    "execution": {
     "iopub.execute_input": "2024-10-23T20:59:57.260629Z",
     "iopub.status.busy": "2024-10-23T20:59:57.260188Z",
     "iopub.status.idle": "2024-10-23T20:59:57.278999Z",
     "shell.execute_reply": "2024-10-23T20:59:57.277747Z"
    },
    "papermill": {
     "duration": 0.055702,
     "end_time": "2024-10-23T20:59:57.281834",
     "exception": false,
     "start_time": "2024-10-23T20:59:57.226132",
     "status": "completed"
    },
    "tags": []
   },
   "outputs": [],
   "source": [
    "merged_pivot['temp']=merged_pivot['temp'].astype(float)\n",
    "merged_pivot['humidity']=merged_pivot['humidity'].astype(float)\n",
    "merged_pivot['wind']=merged_pivot['wind'].astype(float)"
   ]
  },
  {
   "cell_type": "code",
   "execution_count": 30,
   "id": "ac3d1205",
   "metadata": {
    "execution": {
     "iopub.execute_input": "2024-10-23T20:59:57.349289Z",
     "iopub.status.busy": "2024-10-23T20:59:57.348822Z",
     "iopub.status.idle": "2024-10-23T20:59:57.372992Z",
     "shell.execute_reply": "2024-10-23T20:59:57.371794Z"
    },
    "papermill": {
     "duration": 0.061028,
     "end_time": "2024-10-23T20:59:57.375676",
     "exception": false,
     "start_time": "2024-10-23T20:59:57.314648",
     "status": "completed"
    },
    "tags": []
   },
   "outputs": [
    {
     "data": {
      "text/html": [
       "<div>\n",
       "<style scoped>\n",
       "    .dataframe tbody tr th:only-of-type {\n",
       "        vertical-align: middle;\n",
       "    }\n",
       "\n",
       "    .dataframe tbody tr th {\n",
       "        vertical-align: top;\n",
       "    }\n",
       "\n",
       "    .dataframe thead th {\n",
       "        text-align: right;\n",
       "    }\n",
       "</style>\n",
       "<table border=\"1\" class=\"dataframe\">\n",
       "  <thead>\n",
       "    <tr style=\"text-align: right;\">\n",
       "      <th></th>\n",
       "      <th>gameId</th>\n",
       "      <th>playId</th>\n",
       "      <th>quarter</th>\n",
       "      <th>down</th>\n",
       "      <th>yardsToGo</th>\n",
       "      <th>score_differential</th>\n",
       "      <th>time_remaining</th>\n",
       "      <th>playNullifiedByPenalty</th>\n",
       "      <th>preSnapHomeTeamWinProbability</th>\n",
       "      <th>pass_rush_ratio</th>\n",
       "      <th>...</th>\n",
       "      <th>Zone_off</th>\n",
       "      <th>cover_3_def</th>\n",
       "      <th>cover_6_def</th>\n",
       "      <th>cover_1_def</th>\n",
       "      <th>Quarters_def</th>\n",
       "      <th>Cover-2_def</th>\n",
       "      <th>Cover-0_def</th>\n",
       "      <th>Man_def</th>\n",
       "      <th>Other_def</th>\n",
       "      <th>Zone_def</th>\n",
       "    </tr>\n",
       "  </thead>\n",
       "  <tbody>\n",
       "    <tr>\n",
       "      <th>0</th>\n",
       "      <td>2022090800</td>\n",
       "      <td>56</td>\n",
       "      <td>1</td>\n",
       "      <td>1</td>\n",
       "      <td>10</td>\n",
       "      <td>0</td>\n",
       "      <td>60.0</td>\n",
       "      <td>N</td>\n",
       "      <td>0.413347</td>\n",
       "      <td>2.72</td>\n",
       "      <td>...</td>\n",
       "      <td>NaN</td>\n",
       "      <td>NaN</td>\n",
       "      <td>NaN</td>\n",
       "      <td>NaN</td>\n",
       "      <td>NaN</td>\n",
       "      <td>NaN</td>\n",
       "      <td>NaN</td>\n",
       "      <td>NaN</td>\n",
       "      <td>NaN</td>\n",
       "      <td>NaN</td>\n",
       "    </tr>\n",
       "  </tbody>\n",
       "</table>\n",
       "<p>1 rows × 451 columns</p>\n",
       "</div>"
      ],
      "text/plain": [
       "       gameId  playId  quarter  down  yardsToGo  score_differential  \\\n",
       "0  2022090800      56        1     1         10                   0   \n",
       "\n",
       "   time_remaining playNullifiedByPenalty  preSnapHomeTeamWinProbability  \\\n",
       "0            60.0                      N                       0.413347   \n",
       "\n",
       "   pass_rush_ratio  ...  Zone_off  cover_3_def  cover_6_def  cover_1_def  \\\n",
       "0             2.72  ...       NaN          NaN          NaN          NaN   \n",
       "\n",
       "   Quarters_def  Cover-2_def  Cover-0_def  Man_def  Other_def  Zone_def  \n",
       "0           NaN          NaN          NaN      NaN        NaN       NaN  \n",
       "\n",
       "[1 rows x 451 columns]"
      ]
     },
     "execution_count": 30,
     "metadata": {},
     "output_type": "execute_result"
    }
   ],
   "source": [
    "merged_pivot.head(1)"
   ]
  },
  {
   "cell_type": "code",
   "execution_count": 31,
   "id": "baef6af0",
   "metadata": {
    "execution": {
     "iopub.execute_input": "2024-10-23T20:59:57.447352Z",
     "iopub.status.busy": "2024-10-23T20:59:57.446866Z",
     "iopub.status.idle": "2024-10-23T20:59:57.453418Z",
     "shell.execute_reply": "2024-10-23T20:59:57.452303Z"
    },
    "papermill": {
     "duration": 0.043929,
     "end_time": "2024-10-23T20:59:57.455886",
     "exception": false,
     "start_time": "2024-10-23T20:59:57.411957",
     "status": "completed"
    },
    "tags": []
   },
   "outputs": [],
   "source": [
    "drop_columns=['playNullifiedByPenalty', 'gameId', 'playId']\n",
    "features=[]\n",
    "for col in merged_pivot.columns:\n",
    "    if 'Id' not in col and 'playNullifiedByPenalty' not in col:\n",
    "        features.append(col)\n"
   ]
  },
  {
   "cell_type": "code",
   "execution_count": 32,
   "id": "7662dfcc",
   "metadata": {
    "execution": {
     "iopub.execute_input": "2024-10-23T20:59:57.525285Z",
     "iopub.status.busy": "2024-10-23T20:59:57.524781Z",
     "iopub.status.idle": "2024-10-23T21:00:05.324017Z",
     "shell.execute_reply": "2024-10-23T21:00:05.322869Z"
    },
    "papermill": {
     "duration": 7.836386,
     "end_time": "2024-10-23T21:00:05.326773",
     "exception": false,
     "start_time": "2024-10-23T20:59:57.490387",
     "status": "completed"
    },
    "tags": []
   },
   "outputs": [],
   "source": [
    "#select final features based on correlation with target variable\n",
    "correlations=merged_pivot[features].corr()[['pass']]\n",
    "final_features=list(correlations[((correlations['pass']>.02) | (correlations['pass']<-.02))].T.columns.values)\n"
   ]
  },
  {
   "cell_type": "code",
   "execution_count": 33,
   "id": "667bc333",
   "metadata": {
    "execution": {
     "iopub.execute_input": "2024-10-23T21:00:05.394849Z",
     "iopub.status.busy": "2024-10-23T21:00:05.393901Z",
     "iopub.status.idle": "2024-10-23T21:00:05.400121Z",
     "shell.execute_reply": "2024-10-23T21:00:05.398815Z"
    },
    "papermill": {
     "duration": 0.043219,
     "end_time": "2024-10-23T21:00:05.402691",
     "exception": false,
     "start_time": "2024-10-23T21:00:05.359472",
     "status": "completed"
    },
    "tags": []
   },
   "outputs": [],
   "source": [
    "final_features = [x for x in final_features if 'std' not in x]"
   ]
  },
  {
   "cell_type": "code",
   "execution_count": 34,
   "id": "d3c36a89",
   "metadata": {
    "execution": {
     "iopub.execute_input": "2024-10-23T21:00:05.566577Z",
     "iopub.status.busy": "2024-10-23T21:00:05.565396Z",
     "iopub.status.idle": "2024-10-23T21:00:05.592383Z",
     "shell.execute_reply": "2024-10-23T21:00:05.591179Z"
    },
    "papermill": {
     "duration": 0.064533,
     "end_time": "2024-10-23T21:00:05.594964",
     "exception": false,
     "start_time": "2024-10-23T21:00:05.530431",
     "status": "completed"
    },
    "tags": []
   },
   "outputs": [
    {
     "data": {
      "text/plain": [
       "shiftSinceLineset|G_1         5\n",
       "receiverAlignment_1x0         7\n",
       "shiftSinceLineset|T_2         8\n",
       "shiftSinceLineset|QB_1        9\n",
       "motionSinceLineset|WR_4      10\n",
       "s|max|TE_4                   10\n",
       "shiftSinceLineset|G_2        12\n",
       "shiftSinceLineset|T_1        12\n",
       "a|max|TE_4                   18\n",
       "dis|sum|TE_4                 35\n",
       "receiverAlignment_2x0        42\n",
       "shiftSinceLineset|TE_3       71\n",
       "offenseFormation_WILDCAT     79\n",
       "receiverAlignment_4x1       109\n",
       "offenseFormation_JUMBO      116\n",
       "a|max|G_4                   122\n",
       "receiverAlignment_1x1       143\n",
       "shiftSinceLineset|FB_1      149\n",
       "a|max|WR_4                  180\n",
       "s|max|WR_4                  249\n",
       "dtype: int64"
      ]
     },
     "execution_count": 34,
     "metadata": {},
     "output_type": "execute_result"
    }
   ],
   "source": [
    "merged_pivot[final_features].sum().astype(int).sort_values().head(20)"
   ]
  },
  {
   "cell_type": "code",
   "execution_count": 35,
   "id": "62d43629",
   "metadata": {
    "execution": {
     "iopub.execute_input": "2024-10-23T21:00:05.663958Z",
     "iopub.status.busy": "2024-10-23T21:00:05.663048Z",
     "iopub.status.idle": "2024-10-23T21:00:05.685408Z",
     "shell.execute_reply": "2024-10-23T21:00:05.684294Z"
    },
    "papermill": {
     "duration": 0.059697,
     "end_time": "2024-10-23T21:00:05.688220",
     "exception": false,
     "start_time": "2024-10-23T21:00:05.628523",
     "status": "completed"
    },
    "tags": []
   },
   "outputs": [],
   "source": [
    "final_features= merged_pivot[final_features].sum().astype(int).sort_values().index[8:]"
   ]
  },
  {
   "cell_type": "code",
   "execution_count": 36,
   "id": "ca379743",
   "metadata": {
    "execution": {
     "iopub.execute_input": "2024-10-23T21:00:05.755959Z",
     "iopub.status.busy": "2024-10-23T21:00:05.755494Z",
     "iopub.status.idle": "2024-10-23T21:00:07.190679Z",
     "shell.execute_reply": "2024-10-23T21:00:07.189486Z"
    },
    "papermill": {
     "duration": 1.472342,
     "end_time": "2024-10-23T21:00:07.193780",
     "exception": false,
     "start_time": "2024-10-23T21:00:05.721438",
     "status": "completed"
    },
    "tags": []
   },
   "outputs": [],
   "source": [
    "#remove redundant features\n",
    "threshold = .8\n",
    "correlation_matrix = merged_pivot[final_features].drop(columns='pass').corr()\n",
    "highly_correlated_features = set()\n",
    "for i in range(len(correlation_matrix.columns)):\n",
    "    for j in range(i):\n",
    "        if abs(correlation_matrix.iloc[i, j]) > threshold:\n",
    "            colname = correlation_matrix.columns[i]\n",
    "            highly_correlated_features.add(colname)"
   ]
  },
  {
   "cell_type": "code",
   "execution_count": 37,
   "id": "f1fd65b7",
   "metadata": {
    "execution": {
     "iopub.execute_input": "2024-10-23T21:00:07.262736Z",
     "iopub.status.busy": "2024-10-23T21:00:07.261714Z",
     "iopub.status.idle": "2024-10-23T21:00:07.267271Z",
     "shell.execute_reply": "2024-10-23T21:00:07.266118Z"
    },
    "papermill": {
     "duration": 0.042404,
     "end_time": "2024-10-23T21:00:07.269945",
     "exception": false,
     "start_time": "2024-10-23T21:00:07.227541",
     "status": "completed"
    },
    "tags": []
   },
   "outputs": [],
   "source": [
    "final_features=list(set(final_features)-highly_correlated_features)\n"
   ]
  },
  {
   "cell_type": "code",
   "execution_count": 38,
   "id": "a25a2f6d",
   "metadata": {
    "execution": {
     "iopub.execute_input": "2024-10-23T21:00:07.338547Z",
     "iopub.status.busy": "2024-10-23T21:00:07.338110Z",
     "iopub.status.idle": "2024-10-23T21:00:07.345689Z",
     "shell.execute_reply": "2024-10-23T21:00:07.344543Z"
    },
    "papermill": {
     "duration": 0.045195,
     "end_time": "2024-10-23T21:00:07.348290",
     "exception": false,
     "start_time": "2024-10-23T21:00:07.303095",
     "status": "completed"
    },
    "tags": []
   },
   "outputs": [
    {
     "data": {
      "text/plain": [
       "97"
      ]
     },
     "execution_count": 38,
     "metadata": {},
     "output_type": "execute_result"
    }
   ],
   "source": [
    "len(final_features)"
   ]
  },
  {
   "cell_type": "code",
   "execution_count": 39,
   "id": "dac0c0cd",
   "metadata": {
    "execution": {
     "iopub.execute_input": "2024-10-23T21:00:07.420003Z",
     "iopub.status.busy": "2024-10-23T21:00:07.418735Z",
     "iopub.status.idle": "2024-10-23T21:00:07.432392Z",
     "shell.execute_reply": "2024-10-23T21:00:07.431124Z"
    },
    "papermill": {
     "duration": 0.052939,
     "end_time": "2024-10-23T21:00:07.435288",
     "exception": false,
     "start_time": "2024-10-23T21:00:07.382349",
     "status": "completed"
    },
    "tags": []
   },
   "outputs": [],
   "source": [
    "numeric_columns=[]\n",
    "for i in final_features:\n",
    "    if merged_pivot[i].dtype!='O' and i!='pass' and 'shiftSinceLineset' not in i and 'motionSinceLineset' not in i and  'offenseFormation' not in i and'receiverAlignment'not in i and 'Cover'not in i and 'roof' not in i and 'surface' not in i and 'is_no_huddle' not in i and 'is_no_motion' not in i:\n",
    "        numeric_columns.append(i)\n",
    "    "
   ]
  },
  {
   "cell_type": "code",
   "execution_count": 40,
   "id": "b373414a",
   "metadata": {
    "execution": {
     "iopub.execute_input": "2024-10-23T21:00:07.505059Z",
     "iopub.status.busy": "2024-10-23T21:00:07.504639Z",
     "iopub.status.idle": "2024-10-23T21:00:07.510455Z",
     "shell.execute_reply": "2024-10-23T21:00:07.509303Z"
    },
    "papermill": {
     "duration": 0.04314,
     "end_time": "2024-10-23T21:00:07.512955",
     "exception": false,
     "start_time": "2024-10-23T21:00:07.469815",
     "status": "completed"
    },
    "tags": []
   },
   "outputs": [],
   "source": [
    "cat_columns=[]\n",
    "for i in final_features:\n",
    "    if i not in numeric_columns and i!='pass':\n",
    "        cat_columns.append(i)\n"
   ]
  },
  {
   "cell_type": "code",
   "execution_count": 41,
   "id": "22cd75c8",
   "metadata": {
    "execution": {
     "iopub.execute_input": "2024-10-23T21:00:07.585015Z",
     "iopub.status.busy": "2024-10-23T21:00:07.584510Z",
     "iopub.status.idle": "2024-10-23T21:00:10.622057Z",
     "shell.execute_reply": "2024-10-23T21:00:10.620801Z"
    },
    "papermill": {
     "duration": 3.080152,
     "end_time": "2024-10-23T21:00:10.628865",
     "exception": false,
     "start_time": "2024-10-23T21:00:07.548713",
     "status": "completed"
    },
    "tags": []
   },
   "outputs": [
    {
     "data": {
      "text/plain": [
       "<Axes: title={'center': 'Correlation Heatmap of Features'}>"
      ]
     },
     "execution_count": 41,
     "metadata": {},
     "output_type": "execute_result"
    },
    {
     "data": {
      "image/png": "[encoded data removed]",
      "text/plain": [
       "<Figure size 500x3000 with 2 Axes>"
      ]
     },
     "metadata": {},
     "output_type": "display_data"
    }
   ],
   "source": [
    "import matplotlib.pyplot as plt\n",
    "import seaborn as sns\n",
    "plt.figure(figsize=(5,30))\n",
    "plt.title('Correlation Heatmap of Features', size=15)\n",
    "\n",
    "sns.heatmap(merged_pivot[final_features].corr()[['pass']],linewidths=0.1,vmax=1.0,  linecolor='white', annot=True)"
   ]
  },
  {
   "cell_type": "code",
   "execution_count": 42,
   "id": "a4bd6b83",
   "metadata": {
    "execution": {
     "iopub.execute_input": "2024-10-23T21:00:10.712750Z",
     "iopub.status.busy": "2024-10-23T21:00:10.711911Z",
     "iopub.status.idle": "2024-10-23T21:00:10.729636Z",
     "shell.execute_reply": "2024-10-23T21:00:10.728221Z"
    },
    "papermill": {
     "duration": 0.062993,
     "end_time": "2024-10-23T21:00:10.732534",
     "exception": false,
     "start_time": "2024-10-23T21:00:10.669541",
     "status": "completed"
    },
    "tags": []
   },
   "outputs": [],
   "source": [
    "# Create an imputer object with mean strategy\n",
    "#imputer = SimpleImputer(strategy='mean')\n",
    "from sklearn.compose import ColumnTransformer\n",
    "\n",
    "# Fit and transform the data\n",
    "#merged_pivot[numeric_columns] = imputer.fit_transform(merged_pivot[numeric_columns])\n",
    "imputer = SimpleImputer(missing_values = np.nan,strategy='mean')\n",
    "transformer = ColumnTransformer(\n",
    "    transformers=[('imputer', imputer, numeric_columns),('scaler', MinMaxScaler(), numeric_columns)\n",
    "    ],\n",
    "    remainder='passthrough'  # Pass through columns not specified\n",
    ")\n",
    "\n"
   ]
  },
  {
   "cell_type": "code",
   "execution_count": 43,
   "id": "414db442",
   "metadata": {
    "execution": {
     "iopub.execute_input": "2024-10-23T21:00:10.813887Z",
     "iopub.status.busy": "2024-10-23T21:00:10.813441Z",
     "iopub.status.idle": "2024-10-23T21:00:10.837686Z",
     "shell.execute_reply": "2024-10-23T21:00:10.836209Z"
    },
    "papermill": {
     "duration": 0.068246,
     "end_time": "2024-10-23T21:00:10.840405",
     "exception": false,
     "start_time": "2024-10-23T21:00:10.772159",
     "status": "completed"
    },
    "tags": []
   },
   "outputs": [],
   "source": [
    "#create a function to train ML models and return ROC_AUC and accuracy scores\n",
    "SEED=42\n",
    "n_splits=5\n",
    "#X=merged_pivot[selected_features]\n",
    "X=merged_pivot[final_features].drop(columns='pass')\n",
    "\n",
    "y=merged_pivot['pass']\n",
    "\n",
    "\n",
    "def TrainML(model_class, X, y):\n",
    "\n",
    "\n",
    "    SKF = StratifiedKFold(n_splits=n_splits, shuffle=True, random_state=SEED)\n",
    "    \n",
    "    train_S = []\n",
    "    test_S = []\n",
    "    train_A = []\n",
    "    test_A = []\n",
    "\n",
    "    oof_non_rounded = np.zeros(len(y), dtype=float) \n",
    "\n",
    "\n",
    "    for fold, (train_idx, test_idx) in enumerate(tqdm(SKF.split(X, y), desc=\"Training Folds\", total=n_splits)):\n",
    "        X_train, X_val = X.iloc[train_idx], X.iloc[test_idx]\n",
    "        y_train, y_val = y.iloc[train_idx], y.iloc[test_idx]\n",
    "\n",
    "        model = clone(model_class)\n",
    "        model.fit(X_train, y_train)\n",
    "\n",
    "        y_train_pred = model.predict(X_train)\n",
    "        y_val_pred = model.predict(X_val)\n",
    "        oof_non_rounded[test_idx] = y_val_pred\n",
    "       \n",
    "     \n",
    "\n",
    "        train_auc = roc_auc_score(y_train, y_train_pred.round(0).astype(int))\n",
    "        val_auc = roc_auc_score(y_val, y_val_pred.round(0))\n",
    "\n",
    "        train_S.append(train_auc)\n",
    "        test_S.append(val_auc)\n",
    "\n",
    "        train_accuracy = accuracy_score(y_train, y_train_pred.round(0).astype(int))\n",
    "        val_accuracy = accuracy_score(y_val, y_val_pred.round(0))\n",
    "\n",
    "        train_A.append(train_accuracy)\n",
    "        test_A.append(val_accuracy)\n",
    "       \n",
    "        \n",
    "        print(f\"Fold {fold+1} - Train AUC: {train_auc:.4f}, Validation AUC: {val_auc:.4f}\")\n",
    "        clear_output(wait=True)\n",
    "\n",
    "    print(f\"Mean Train AUC --> {np.mean(train_S):.4f}\")\n",
    "    print(f\"Mean Validation AUC ---> {np.mean(test_S):.4f}\")\n",
    "    print(f\"Mean Train Accuracy --> {np.mean(train_A):.4f}\")\n",
    "    print(f\"Mean Validation Accuracy ---> {np.mean(test_A):.4f}\")\n",
    "    \n",
    "    cm = confusion_matrix(y_val, y_val_pred)\n",
    "\n",
    "    cm_display = ConfusionMatrixDisplay(confusion_matrix = cm, display_labels = [0, 1])\n",
    "\n",
    "    cm_display.plot()\n",
    "    plt.show()\n"
   ]
  },
  {
   "cell_type": "code",
   "execution_count": 44,
   "id": "52ba4236",
   "metadata": {
    "execution": {
     "iopub.execute_input": "2024-10-23T21:00:10.921844Z",
     "iopub.status.busy": "2024-10-23T21:00:10.921369Z",
     "iopub.status.idle": "2024-10-23T21:00:11.742499Z",
     "shell.execute_reply": "2024-10-23T21:00:11.741320Z"
    },
    "papermill": {
     "duration": 0.864717,
     "end_time": "2024-10-23T21:00:11.744938",
     "exception": false,
     "start_time": "2024-10-23T21:00:10.880221",
     "status": "completed"
    },
    "tags": []
   },
   "outputs": [
    {
     "name": "stderr",
     "output_type": "stream",
     "text": [
      "Training Folds: 100%|██████████| 5/5 [00:00<00:00,  8.90it/s]"
     ]
    },
    {
     "name": "stdout",
     "output_type": "stream",
     "text": [
      "Mean Train AUC --> 0.5000\n",
      "Mean Validation AUC ---> 0.5000\n",
      "Mean Train Accuracy --> 0.6046\n",
      "Mean Validation Accuracy ---> 0.6046\n"
     ]
    },
    {
     "name": "stderr",
     "output_type": "stream",
     "text": [
      "\n"
     ]
    },
    {
     "data": {
      "image/png": "[encoded data removed]",
      "text/plain": [
       "<Figure size 640x480 with 2 Axes>"
      ]
     },
     "metadata": {},
     "output_type": "display_data"
    }
   ],
   "source": [
    "#get baseline value from dummy classifier\n",
    "dummypipeline=Pipeline([('tr', transformer), ('dummy', DummyClassifier(strategy=\"most_frequent\"))], verbose = True)\n",
    "TrainML(dummypipeline,X, y )"
   ]
  },
  {
   "cell_type": "code",
   "execution_count": 45,
   "id": "147eb3dc",
   "metadata": {
    "execution": {
     "iopub.execute_input": "2024-10-23T21:00:11.828194Z",
     "iopub.status.busy": "2024-10-23T21:00:11.827745Z",
     "iopub.status.idle": "2024-10-23T21:00:26.509070Z",
     "shell.execute_reply": "2024-10-23T21:00:26.507775Z"
    },
    "papermill": {
     "duration": 14.726664,
     "end_time": "2024-10-23T21:00:26.511883",
     "exception": false,
     "start_time": "2024-10-23T21:00:11.785219",
     "status": "completed"
    },
    "tags": []
   },
   "outputs": [
    {
     "name": "stderr",
     "output_type": "stream",
     "text": [
      "Training Folds: 100%|██████████| 5/5 [00:14<00:00,  2.88s/it]"
     ]
    },
    {
     "name": "stdout",
     "output_type": "stream",
     "text": [
      "Mean Train AUC --> 0.8995\n",
      "Mean Validation AUC ---> 0.7869\n",
      "Mean Train Accuracy --> 0.9048\n",
      "Mean Validation Accuracy ---> 0.7987\n"
     ]
    },
    {
     "name": "stderr",
     "output_type": "stream",
     "text": [
      "\n"
     ]
    },
    {
     "data": {
      "image/png": "[encoded data removed]",
      "text/plain": [
       "<Figure size 640x480 with 2 Axes>"
      ]
     },
     "metadata": {},
     "output_type": "display_data"
    }
   ],
   "source": [
    "#lgbm classifier\n",
    "pipeline=Pipeline([('tr', transformer), ('lgbm', LGBMClassifier(verbosity=-1))], verbose = True)\n",
    "TrainML(pipeline,X, y )"
   ]
  },
  {
   "cell_type": "code",
   "execution_count": 46,
   "id": "b4e15e37",
   "metadata": {
    "execution": {
     "iopub.execute_input": "2024-10-23T21:00:26.597843Z",
     "iopub.status.busy": "2024-10-23T21:00:26.597368Z",
     "iopub.status.idle": "2024-10-23T21:02:21.844527Z",
     "shell.execute_reply": "2024-10-23T21:02:21.843413Z"
    },
    "papermill": {
     "duration": 115.292747,
     "end_time": "2024-10-23T21:02:21.847062",
     "exception": false,
     "start_time": "2024-10-23T21:00:26.554315",
     "status": "completed"
    },
    "tags": []
   },
   "outputs": [
    {
     "name": "stderr",
     "output_type": "stream",
     "text": [
      "Training Folds: 100%|██████████| 5/5 [01:54<00:00, 22.99s/it]"
     ]
    },
    {
     "name": "stdout",
     "output_type": "stream",
     "text": [
      "Mean Train AUC --> 0.9085\n",
      "Mean Validation AUC ---> 0.7920\n",
      "Mean Train Accuracy --> 0.9147\n",
      "Mean Validation Accuracy ---> 0.8038\n"
     ]
    },
    {
     "name": "stderr",
     "output_type": "stream",
     "text": [
      "\n"
     ]
    },
    {
     "data": {
      "image/png": "[encoded data removed]",
      "text/plain": [
       "<Figure size 640x480 with 2 Axes>"
      ]
     },
     "metadata": {},
     "output_type": "display_data"
    }
   ],
   "source": [
    "#catboost classifier\n",
    "pipeline=Pipeline([('tr', transformer), ('cat', CatBoostClassifier(  verbose=False))], verbose = True)\n",
    "TrainML(pipeline,X, y )"
   ]
  },
  {
   "cell_type": "code",
   "execution_count": 47,
   "id": "58077048",
   "metadata": {
    "execution": {
     "iopub.execute_input": "2024-10-23T21:02:21.935522Z",
     "iopub.status.busy": "2024-10-23T21:02:21.935036Z",
     "iopub.status.idle": "2024-10-23T21:02:21.942229Z",
     "shell.execute_reply": "2024-10-23T21:02:21.940842Z"
    },
    "papermill": {
     "duration": 0.05512,
     "end_time": "2024-10-23T21:02:21.945944",
     "exception": false,
     "start_time": "2024-10-23T21:02:21.890824",
     "status": "completed"
    },
    "tags": []
   },
   "outputs": [],
   "source": [
    "X['yardsToGo']=X['yardsToGo'].astype(float)"
   ]
  },
  {
   "cell_type": "code",
   "execution_count": 48,
   "id": "2479d3a1",
   "metadata": {
    "execution": {
     "iopub.execute_input": "2024-10-23T21:02:22.035418Z",
     "iopub.status.busy": "2024-10-23T21:02:22.034937Z",
     "iopub.status.idle": "2024-10-23T21:02:22.042006Z",
     "shell.execute_reply": "2024-10-23T21:02:22.040828Z"
    },
    "papermill": {
     "duration": 0.053897,
     "end_time": "2024-10-23T21:02:22.044655",
     "exception": false,
     "start_time": "2024-10-23T21:02:21.990758",
     "status": "completed"
    },
    "tags": []
   },
   "outputs": [],
   "source": [
    "final_features.remove('pass')"
   ]
  },
  {
   "cell_type": "code",
   "execution_count": 49,
   "id": "fe72b655",
   "metadata": {
    "execution": {
     "iopub.execute_input": "2024-10-23T21:02:22.154118Z",
     "iopub.status.busy": "2024-10-23T21:02:22.153168Z",
     "iopub.status.idle": "2024-10-23T21:02:22.161063Z",
     "shell.execute_reply": "2024-10-23T21:02:22.159995Z"
    },
    "papermill": {
     "duration": 0.065402,
     "end_time": "2024-10-23T21:02:22.163552",
     "exception": false,
     "start_time": "2024-10-23T21:02:22.098150",
     "status": "completed"
    },
    "tags": []
   },
   "outputs": [
    {
     "data": {
      "text/plain": [
       "['s|max|FB_1']"
      ]
     },
     "execution_count": 49,
     "metadata": {},
     "output_type": "execute_result"
    }
   ],
   "source": [
    "[x for x in numeric_columns if 'FB' in x]"
   ]
  },
  {
   "cell_type": "code",
   "execution_count": 50,
   "id": "c92ea479",
   "metadata": {
    "execution": {
     "iopub.execute_input": "2024-10-23T21:02:22.250167Z",
     "iopub.status.busy": "2024-10-23T21:02:22.249256Z",
     "iopub.status.idle": "2024-10-23T21:02:22.254358Z",
     "shell.execute_reply": "2024-10-23T21:02:22.253171Z"
    },
    "papermill": {
     "duration": 0.050928,
     "end_time": "2024-10-23T21:02:22.256677",
     "exception": false,
     "start_time": "2024-10-23T21:02:22.205749",
     "status": "completed"
    },
    "tags": []
   },
   "outputs": [],
   "source": [
    "#X_transform.isna().sum()"
   ]
  },
  {
   "cell_type": "code",
   "execution_count": 51,
   "id": "43653875",
   "metadata": {
    "execution": {
     "iopub.execute_input": "2024-10-23T21:02:22.343009Z",
     "iopub.status.busy": "2024-10-23T21:02:22.342546Z",
     "iopub.status.idle": "2024-10-23T21:02:22.347502Z",
     "shell.execute_reply": "2024-10-23T21:02:22.346319Z"
    },
    "papermill": {
     "duration": 0.05038,
     "end_time": "2024-10-23T21:02:22.349833",
     "exception": false,
     "start_time": "2024-10-23T21:02:22.299453",
     "status": "completed"
    },
    "tags": []
   },
   "outputs": [],
   "source": [
    "#pd.DataFrame(transformer_impute.fit_transform(X), columns=final_features).isna().sum()"
   ]
  },
  {
   "cell_type": "code",
   "execution_count": 52,
   "id": "8a1adfcc",
   "metadata": {
    "execution": {
     "iopub.execute_input": "2024-10-23T21:02:22.435225Z",
     "iopub.status.busy": "2024-10-23T21:02:22.434783Z",
     "iopub.status.idle": "2024-10-23T21:02:23.229776Z",
     "shell.execute_reply": "2024-10-23T21:02:23.228576Z"
    },
    "papermill": {
     "duration": 0.841359,
     "end_time": "2024-10-23T21:02:23.233113",
     "exception": false,
     "start_time": "2024-10-23T21:02:22.391754",
     "status": "completed"
    },
    "tags": []
   },
   "outputs": [
    {
     "data": {
      "image/svg+xml": [
       "<?xml version=\"1.0\" encoding=\"UTF-8\" standalone=\"no\"?>\n",
       "<!DOCTYPE svg PUBLIC \"-//W3C//DTD SVG 1.1//EN\"\n",
       " \"http://www.w3.org/Graphics/SVG/1.1/DTD/svg11.dtd\">\n",
       "<!-- Generated by graphviz version 12.0.0 (20240803.0821)\n",
       " -->\n",
       "<!-- Pages: 1 -->\n",
       "<svg width=\"6726pt\" height=\"490pt\"\n",
       " viewBox=\"0.00 0.00 6726.35 490.25\" xmlns=\"http://www.w3.org/2000/svg\" xmlns:xlink=\"http://www.w3.org/1999/xlink\">\n",
       "<g id=\"graph0\" class=\"graph\" transform=\"scale(1 1) rotate(0) translate(4 486.25)\">\n",
       "<polygon fill=\"white\" stroke=\"none\" points=\"-4,4 -4,-486.25 6722.35,-486.25 6722.35,4 -4,4\"/>\n",
       "<!-- 0 -->\n",
       "<g id=\"node1\" class=\"node\">\n",
       "<title>0</title>\n",
       "<ellipse fill=\"none\" stroke=\"black\" cx=\"3321.68\" cy=\"-464.25\" rx=\"154.85\" ry=\"18\"/>\n",
       "<text text-anchor=\"middle\" x=\"3321.68\" y=\"-459.57\" font-family=\"Times,serif\" font-size=\"14.00\">dis|sum|G_2, value&gt;0.14921</text>\n",
       "</g>\n",
       "<!-- 1 -->\n",
       "<g id=\"node2\" class=\"node\">\n",
       "<title>1</title>\n",
       "<ellipse fill=\"none\" stroke=\"black\" cx=\"2480.68\" cy=\"-375\" rx=\"94.35\" ry=\"18\"/>\n",
       "<text text-anchor=\"middle\" x=\"2480.68\" y=\"-370.32\" font-family=\"Times,serif\" font-size=\"14.00\">temp, value&gt;0.5</text>\n",
       "</g>\n",
       "<!-- 0&#45;&gt;1 -->\n",
       "<g id=\"edge1\" class=\"edge\">\n",
       "<title>0&#45;&gt;1</title>\n",
       "<path fill=\"none\" stroke=\"black\" d=\"M3209.13,-451.57C3041.34,-434.17 2728.75,-401.74 2573.34,-385.61\"/>\n",
       "<polygon fill=\"black\" stroke=\"black\" points=\"2573.79,-382.14 2563.48,-384.59 2573.07,-389.1 2573.79,-382.14\"/>\n",
       "<text text-anchor=\"middle\" x=\"2986.8\" y=\"-414.95\" font-family=\"Times,serif\" font-size=\"14.00\">No</text>\n",
       "</g>\n",
       "<!-- 2 -->\n",
       "<g id=\"node3\" class=\"node\">\n",
       "<title>2</title>\n",
       "<ellipse fill=\"none\" stroke=\"black\" cx=\"4164.68\" cy=\"-375\" rx=\"94.35\" ry=\"18\"/>\n",
       "<text text-anchor=\"middle\" x=\"4164.68\" y=\"-370.32\" font-family=\"Times,serif\" font-size=\"14.00\">temp, value&gt;0.5</text>\n",
       "</g>\n",
       "<!-- 0&#45;&gt;2 -->\n",
       "<g id=\"edge2\" class=\"edge\">\n",
       "<title>0&#45;&gt;2</title>\n",
       "<path fill=\"none\" stroke=\"black\" d=\"M3434.49,-451.57C3602.68,-434.17 3916.01,-401.74 4071.79,-385.61\"/>\n",
       "<polygon fill=\"black\" stroke=\"black\" points=\"4072.09,-389.1 4081.68,-384.59 4071.37,-382.14 4072.09,-389.1\"/>\n",
       "<text text-anchor=\"middle\" x=\"3831.68\" y=\"-414.95\" font-family=\"Times,serif\" font-size=\"14.00\">Yes</text>\n",
       "</g>\n",
       "<!-- 3 -->\n",
       "<g id=\"node4\" class=\"node\">\n",
       "<title>3</title>\n",
       "<ellipse fill=\"none\" stroke=\"black\" cx=\"1253.68\" cy=\"-285.75\" rx=\"141.17\" ry=\"18\"/>\n",
       "<text text-anchor=\"middle\" x=\"1253.68\" y=\"-281.07\" font-family=\"Times,serif\" font-size=\"14.00\">n_defense_box, value&gt;0.5</text>\n",
       "</g>\n",
       "<!-- 1&#45;&gt;3 -->\n",
       "<g id=\"edge3\" class=\"edge\">\n",
       "<title>1&#45;&gt;3</title>\n",
       "<path fill=\"none\" stroke=\"black\" d=\"M2393.42,-367.8C2181.37,-352.72 1637.96,-314.08 1385.84,-296.15\"/>\n",
       "<polygon fill=\"black\" stroke=\"black\" points=\"1386.15,-292.66 1375.93,-295.44 1385.66,-299.64 1386.15,-292.66\"/>\n",
       "<text text-anchor=\"middle\" x=\"1987.8\" y=\"-325.7\" font-family=\"Times,serif\" font-size=\"14.00\">No</text>\n",
       "</g>\n",
       "<!-- 4 -->\n",
       "<g id=\"node5\" class=\"node\">\n",
       "<title>4</title>\n",
       "<ellipse fill=\"none\" stroke=\"black\" cx=\"2480.68\" cy=\"-285.75\" rx=\"141.17\" ry=\"18\"/>\n",
       "<text text-anchor=\"middle\" x=\"2480.68\" y=\"-281.07\" font-family=\"Times,serif\" font-size=\"14.00\">n_defense_box, value&gt;0.5</text>\n",
       "</g>\n",
       "<!-- 1&#45;&gt;4 -->\n",
       "<g id=\"edge4\" class=\"edge\">\n",
       "<title>1&#45;&gt;4</title>\n",
       "<path fill=\"none\" stroke=\"black\" d=\"M2480.68,-356.76C2480.68,-344.93 2480.68,-328.95 2480.68,-315.25\"/>\n",
       "<polygon fill=\"black\" stroke=\"black\" points=\"2484.18,-315.47 2480.68,-305.47 2477.18,-315.47 2484.18,-315.47\"/>\n",
       "<text text-anchor=\"middle\" x=\"2492.68\" y=\"-325.7\" font-family=\"Times,serif\" font-size=\"14.00\">Yes</text>\n",
       "</g>\n",
       "<!-- 5 -->\n",
       "<g id=\"node6\" class=\"node\">\n",
       "<title>5</title>\n",
       "<ellipse fill=\"none\" stroke=\"black\" cx=\"4164.68\" cy=\"-285.75\" rx=\"141.17\" ry=\"18\"/>\n",
       "<text text-anchor=\"middle\" x=\"4164.68\" y=\"-281.07\" font-family=\"Times,serif\" font-size=\"14.00\">n_defense_box, value&gt;0.5</text>\n",
       "</g>\n",
       "<!-- 2&#45;&gt;5 -->\n",
       "<g id=\"edge5\" class=\"edge\">\n",
       "<title>2&#45;&gt;5</title>\n",
       "<path fill=\"none\" stroke=\"black\" d=\"M4164.68,-356.76C4164.68,-344.93 4164.68,-328.95 4164.68,-315.25\"/>\n",
       "<polygon fill=\"black\" stroke=\"black\" points=\"4168.18,-315.47 4164.68,-305.47 4161.18,-315.47 4168.18,-315.47\"/>\n",
       "<text text-anchor=\"middle\" x=\"4174.8\" y=\"-325.7\" font-family=\"Times,serif\" font-size=\"14.00\">No</text>\n",
       "</g>\n",
       "<!-- 6 -->\n",
       "<g id=\"node7\" class=\"node\">\n",
       "<title>6</title>\n",
       "<ellipse fill=\"none\" stroke=\"black\" cx=\"5427.68\" cy=\"-285.75\" rx=\"141.17\" ry=\"18\"/>\n",
       "<text text-anchor=\"middle\" x=\"5427.68\" y=\"-281.07\" font-family=\"Times,serif\" font-size=\"14.00\">n_defense_box, value&gt;0.5</text>\n",
       "</g>\n",
       "<!-- 2&#45;&gt;6 -->\n",
       "<g id=\"edge6\" class=\"edge\">\n",
       "<title>2&#45;&gt;6</title>\n",
       "<path fill=\"none\" stroke=\"black\" d=\"M4251.98,-367.97C4469.31,-352.96 5035.63,-313.83 5294.75,-295.93\"/>\n",
       "<polygon fill=\"black\" stroke=\"black\" points=\"5294.86,-299.43 5304.59,-295.25 5294.38,-292.45 5294.86,-299.43\"/>\n",
       "<text text-anchor=\"middle\" x=\"4921.68\" y=\"-325.7\" font-family=\"Times,serif\" font-size=\"14.00\">Yes</text>\n",
       "</g>\n",
       "<!-- 7 -->\n",
       "<g id=\"node8\" class=\"node\">\n",
       "<title>7</title>\n",
       "<ellipse fill=\"none\" stroke=\"black\" cx=\"622.68\" cy=\"-196.5\" rx=\"158.01\" ry=\"18\"/>\n",
       "<text text-anchor=\"middle\" x=\"622.68\" y=\"-191.82\" font-family=\"Times,serif\" font-size=\"14.00\">a|max|TE_4, value&gt;0.590909</text>\n",
       "</g>\n",
       "<!-- 3&#45;&gt;7 -->\n",
       "<g id=\"edge7\" class=\"edge\">\n",
       "<title>3&#45;&gt;7</title>\n",
       "<path fill=\"none\" stroke=\"black\" d=\"M1160.57,-271.88C1046.29,-256.07 852.82,-229.32 731.71,-212.58\"/>\n",
       "<polygon fill=\"black\" stroke=\"black\" points=\"732.46,-209.15 722.08,-211.24 731.51,-216.08 732.46,-209.15\"/>\n",
       "<text text-anchor=\"middle\" x=\"1005.8\" y=\"-236.45\" font-family=\"Times,serif\" font-size=\"14.00\">No</text>\n",
       "</g>\n",
       "<!-- 8 -->\n",
       "<g id=\"node9\" class=\"node\">\n",
       "<title>8</title>\n",
       "<ellipse fill=\"none\" stroke=\"black\" cx=\"1253.68\" cy=\"-196.5\" rx=\"158.01\" ry=\"18\"/>\n",
       "<text text-anchor=\"middle\" x=\"1253.68\" y=\"-191.82\" font-family=\"Times,serif\" font-size=\"14.00\">a|max|TE_4, value&gt;0.590909</text>\n",
       "</g>\n",
       "<!-- 3&#45;&gt;8 -->\n",
       "<g id=\"edge8\" class=\"edge\">\n",
       "<title>3&#45;&gt;8</title>\n",
       "<path fill=\"none\" stroke=\"black\" d=\"M1253.68,-267.51C1253.68,-255.68 1253.68,-239.7 1253.68,-226\"/>\n",
       "<polygon fill=\"black\" stroke=\"black\" points=\"1257.18,-226.22 1253.68,-216.22 1250.18,-226.22 1257.18,-226.22\"/>\n",
       "<text text-anchor=\"middle\" x=\"1265.68\" y=\"-236.45\" font-family=\"Times,serif\" font-size=\"14.00\">Yes</text>\n",
       "</g>\n",
       "<!-- 9 -->\n",
       "<g id=\"node10\" class=\"node\">\n",
       "<title>9</title>\n",
       "<ellipse fill=\"none\" stroke=\"black\" cx=\"2306.68\" cy=\"-196.5\" rx=\"158.01\" ry=\"18\"/>\n",
       "<text text-anchor=\"middle\" x=\"2306.68\" y=\"-191.82\" font-family=\"Times,serif\" font-size=\"14.00\">a|max|TE_4, value&gt;0.590909</text>\n",
       "</g>\n",
       "<!-- 4&#45;&gt;9 -->\n",
       "<g id=\"edge9\" class=\"edge\">\n",
       "<title>4&#45;&gt;9</title>\n",
       "<path fill=\"none\" stroke=\"black\" d=\"M2447.13,-267.93C2419.65,-254.15 2380.57,-234.55 2350.6,-219.53\"/>\n",
       "<polygon fill=\"black\" stroke=\"black\" points=\"2352.28,-216.45 2341.77,-215.1 2349.14,-222.71 2352.28,-216.45\"/>\n",
       "<text text-anchor=\"middle\" x=\"2419.8\" y=\"-236.45\" font-family=\"Times,serif\" font-size=\"14.00\">No</text>\n",
       "</g>\n",
       "<!-- 10 -->\n",
       "<g id=\"node11\" class=\"node\">\n",
       "<title>10</title>\n",
       "<ellipse fill=\"none\" stroke=\"black\" cx=\"2727.68\" cy=\"-196.5\" rx=\"158.01\" ry=\"18\"/>\n",
       "<text text-anchor=\"middle\" x=\"2727.68\" y=\"-191.82\" font-family=\"Times,serif\" font-size=\"14.00\">a|max|TE_4, value&gt;0.590909</text>\n",
       "</g>\n",
       "<!-- 4&#45;&gt;10 -->\n",
       "<g id=\"edge10\" class=\"edge\">\n",
       "<title>4&#45;&gt;10</title>\n",
       "<path fill=\"none\" stroke=\"black\" d=\"M2527.13,-268.34C2567.59,-254.05 2626.4,-233.27 2669.88,-217.92\"/>\n",
       "<polygon fill=\"black\" stroke=\"black\" points=\"2670.89,-221.27 2679.16,-214.64 2668.56,-214.67 2670.89,-221.27\"/>\n",
       "<text text-anchor=\"middle\" x=\"2638.68\" y=\"-236.45\" font-family=\"Times,serif\" font-size=\"14.00\">Yes</text>\n",
       "</g>\n",
       "<!-- 11 -->\n",
       "<g id=\"node12\" class=\"node\">\n",
       "<title>11</title>\n",
       "<ellipse fill=\"none\" stroke=\"black\" cx=\"3990.68\" cy=\"-196.5\" rx=\"158.01\" ry=\"18\"/>\n",
       "<text text-anchor=\"middle\" x=\"3990.68\" y=\"-191.82\" font-family=\"Times,serif\" font-size=\"14.00\">a|max|TE_4, value&gt;0.590909</text>\n",
       "</g>\n",
       "<!-- 5&#45;&gt;11 -->\n",
       "<g id=\"edge11\" class=\"edge\">\n",
       "<title>5&#45;&gt;11</title>\n",
       "<path fill=\"none\" stroke=\"black\" d=\"M4131.13,-267.93C4103.65,-254.15 4064.57,-234.55 4034.6,-219.53\"/>\n",
       "<polygon fill=\"black\" stroke=\"black\" points=\"4036.28,-216.45 4025.77,-215.1 4033.14,-222.71 4036.28,-216.45\"/>\n",
       "<text text-anchor=\"middle\" x=\"4103.8\" y=\"-236.45\" font-family=\"Times,serif\" font-size=\"14.00\">No</text>\n",
       "</g>\n",
       "<!-- 12 -->\n",
       "<g id=\"node13\" class=\"node\">\n",
       "<title>12</title>\n",
       "<ellipse fill=\"none\" stroke=\"black\" cx=\"4411.68\" cy=\"-196.5\" rx=\"158.01\" ry=\"18\"/>\n",
       "<text text-anchor=\"middle\" x=\"4411.68\" y=\"-191.82\" font-family=\"Times,serif\" font-size=\"14.00\">a|max|TE_4, value&gt;0.590909</text>\n",
       "</g>\n",
       "<!-- 5&#45;&gt;12 -->\n",
       "<g id=\"edge12\" class=\"edge\">\n",
       "<title>5&#45;&gt;12</title>\n",
       "<path fill=\"none\" stroke=\"black\" d=\"M4211.13,-268.34C4251.59,-254.05 4310.4,-233.27 4353.88,-217.92\"/>\n",
       "<polygon fill=\"black\" stroke=\"black\" points=\"4354.89,-221.27 4363.16,-214.64 4352.56,-214.67 4354.89,-221.27\"/>\n",
       "<text text-anchor=\"middle\" x=\"4322.68\" y=\"-236.45\" font-family=\"Times,serif\" font-size=\"14.00\">Yes</text>\n",
       "</g>\n",
       "<!-- 13 -->\n",
       "<g id=\"node14\" class=\"node\">\n",
       "<title>13</title>\n",
       "<ellipse fill=\"none\" stroke=\"black\" cx=\"5427.68\" cy=\"-196.5\" rx=\"158.01\" ry=\"18\"/>\n",
       "<text text-anchor=\"middle\" x=\"5427.68\" y=\"-191.82\" font-family=\"Times,serif\" font-size=\"14.00\">a|max|TE_4, value&gt;0.590909</text>\n",
       "</g>\n",
       "<!-- 6&#45;&gt;13 -->\n",
       "<g id=\"edge13\" class=\"edge\">\n",
       "<title>6&#45;&gt;13</title>\n",
       "<path fill=\"none\" stroke=\"black\" d=\"M5427.68,-267.51C5427.68,-255.68 5427.68,-239.7 5427.68,-226\"/>\n",
       "<polygon fill=\"black\" stroke=\"black\" points=\"5431.18,-226.22 5427.68,-216.22 5424.18,-226.22 5431.18,-226.22\"/>\n",
       "<text text-anchor=\"middle\" x=\"5437.8\" y=\"-236.45\" font-family=\"Times,serif\" font-size=\"14.00\">No</text>\n",
       "</g>\n",
       "<!-- 14 -->\n",
       "<g id=\"node15\" class=\"node\">\n",
       "<title>14</title>\n",
       "<ellipse fill=\"none\" stroke=\"black\" cx=\"6095.68\" cy=\"-196.5\" rx=\"158.01\" ry=\"18\"/>\n",
       "<text text-anchor=\"middle\" x=\"6095.68\" y=\"-191.82\" font-family=\"Times,serif\" font-size=\"14.00\">a|max|TE_4, value&gt;0.590909</text>\n",
       "</g>\n",
       "<!-- 6&#45;&gt;14 -->\n",
       "<g id=\"edge14\" class=\"edge\">\n",
       "<title>6&#45;&gt;14</title>\n",
       "<path fill=\"none\" stroke=\"black\" d=\"M5523.74,-272.2C5645.38,-256.31 5854.6,-228.99 5983.46,-212.16\"/>\n",
       "<polygon fill=\"black\" stroke=\"black\" points=\"5983.56,-215.67 5993.02,-210.91 5982.65,-208.73 5983.56,-215.67\"/>\n",
       "<text text-anchor=\"middle\" x=\"5832.68\" y=\"-236.45\" font-family=\"Times,serif\" font-size=\"14.00\">Yes</text>\n",
       "</g>\n",
       "<!-- 15 -->\n",
       "<g id=\"node16\" class=\"node\">\n",
       "<title>15</title>\n",
       "<ellipse fill=\"none\" stroke=\"black\" cx=\"201.68\" cy=\"-107.25\" rx=\"201.68\" ry=\"18\"/>\n",
       "<text text-anchor=\"middle\" x=\"201.68\" y=\"-102.58\" font-family=\"Times,serif\" font-size=\"14.00\">x_standard|mean|G_2, value&gt;159.168</text>\n",
       "</g>\n",
       "<!-- 7&#45;&gt;15 -->\n",
       "<g id=\"edge15\" class=\"edge\">\n",
       "<title>7&#45;&gt;15</title>\n",
       "<path fill=\"none\" stroke=\"black\" d=\"M548.86,-180.2C476.71,-165.25 366.81,-142.47 290.05,-126.56\"/>\n",
       "<polygon fill=\"black\" stroke=\"black\" points=\"290.96,-123.18 280.45,-124.58 289.53,-130.03 290.96,-123.18\"/>\n",
       "<text text-anchor=\"middle\" x=\"460.8\" y=\"-147.2\" font-family=\"Times,serif\" font-size=\"14.00\">No</text>\n",
       "</g>\n",
       "<!-- 16 -->\n",
       "<g id=\"node17\" class=\"node\">\n",
       "<title>16</title>\n",
       "<ellipse fill=\"none\" stroke=\"black\" cx=\"622.68\" cy=\"-107.25\" rx=\"201.68\" ry=\"18\"/>\n",
       "<text text-anchor=\"middle\" x=\"622.68\" y=\"-102.58\" font-family=\"Times,serif\" font-size=\"14.00\">x_standard|mean|G_2, value&gt;159.168</text>\n",
       "</g>\n",
       "<!-- 7&#45;&gt;16 -->\n",
       "<g id=\"edge16\" class=\"edge\">\n",
       "<title>7&#45;&gt;16</title>\n",
       "<path fill=\"none\" stroke=\"black\" d=\"M622.68,-178.26C622.68,-166.43 622.68,-150.45 622.68,-136.75\"/>\n",
       "<polygon fill=\"black\" stroke=\"black\" points=\"626.18,-136.97 622.68,-126.97 619.18,-136.97 626.18,-136.97\"/>\n",
       "<text text-anchor=\"middle\" x=\"634.68\" y=\"-147.2\" font-family=\"Times,serif\" font-size=\"14.00\">Yes</text>\n",
       "</g>\n",
       "<!-- 17 -->\n",
       "<g id=\"node18\" class=\"node\">\n",
       "<title>17</title>\n",
       "<ellipse fill=\"none\" stroke=\"black\" cx=\"1043.68\" cy=\"-107.25\" rx=\"201.68\" ry=\"18\"/>\n",
       "<text text-anchor=\"middle\" x=\"1043.68\" y=\"-102.58\" font-family=\"Times,serif\" font-size=\"14.00\">x_standard|mean|G_2, value&gt;159.168</text>\n",
       "</g>\n",
       "<!-- 8&#45;&gt;17 -->\n",
       "<g id=\"edge17\" class=\"edge\">\n",
       "<title>8&#45;&gt;17</title>\n",
       "<path fill=\"none\" stroke=\"black\" d=\"M1213.19,-178.68C1179.56,-164.71 1131.52,-144.75 1095.16,-129.64\"/>\n",
       "<polygon fill=\"black\" stroke=\"black\" points=\"1096.73,-126.5 1086.16,-125.9 1094.05,-132.97 1096.73,-126.5\"/>\n",
       "<text text-anchor=\"middle\" x=\"1177.8\" y=\"-147.2\" font-family=\"Times,serif\" font-size=\"14.00\">No</text>\n",
       "</g>\n",
       "<!-- 18 -->\n",
       "<g id=\"node19\" class=\"node\">\n",
       "<title>18</title>\n",
       "<ellipse fill=\"none\" stroke=\"black\" cx=\"1464.68\" cy=\"-107.25\" rx=\"201.68\" ry=\"18\"/>\n",
       "<text text-anchor=\"middle\" x=\"1464.68\" y=\"-102.58\" font-family=\"Times,serif\" font-size=\"14.00\">x_standard|mean|G_2, value&gt;159.168</text>\n",
       "</g>\n",
       "<!-- 8&#45;&gt;18 -->\n",
       "<g id=\"edge18\" class=\"edge\">\n",
       "<title>8&#45;&gt;18</title>\n",
       "<path fill=\"none\" stroke=\"black\" d=\"M1294.36,-178.68C1328.15,-164.71 1376.42,-144.75 1412.95,-129.64\"/>\n",
       "<polygon fill=\"black\" stroke=\"black\" points=\"1414.1,-132.95 1422,-125.9 1411.42,-126.48 1414.1,-132.95\"/>\n",
       "<text text-anchor=\"middle\" x=\"1390.68\" y=\"-147.2\" font-family=\"Times,serif\" font-size=\"14.00\">Yes</text>\n",
       "</g>\n",
       "<!-- 19 -->\n",
       "<g id=\"node20\" class=\"node\">\n",
       "<title>19</title>\n",
       "<ellipse fill=\"none\" stroke=\"black\" cx=\"1885.68\" cy=\"-107.25\" rx=\"201.68\" ry=\"18\"/>\n",
       "<text text-anchor=\"middle\" x=\"1885.68\" y=\"-102.58\" font-family=\"Times,serif\" font-size=\"14.00\">x_standard|mean|G_2, value&gt;159.168</text>\n",
       "</g>\n",
       "<!-- 9&#45;&gt;19 -->\n",
       "<g id=\"edge19\" class=\"edge\">\n",
       "<title>9&#45;&gt;19</title>\n",
       "<path fill=\"none\" stroke=\"black\" d=\"M2232.86,-180.2C2160.71,-165.25 2050.81,-142.47 1974.05,-126.56\"/>\n",
       "<polygon fill=\"black\" stroke=\"black\" points=\"1974.96,-123.18 1964.45,-124.58 1973.53,-130.03 1974.96,-123.18\"/>\n",
       "<text text-anchor=\"middle\" x=\"2144.8\" y=\"-147.2\" font-family=\"Times,serif\" font-size=\"14.00\">No</text>\n",
       "</g>\n",
       "<!-- 20 -->\n",
       "<g id=\"node21\" class=\"node\">\n",
       "<title>20</title>\n",
       "<ellipse fill=\"none\" stroke=\"black\" cx=\"2306.68\" cy=\"-107.25\" rx=\"201.68\" ry=\"18\"/>\n",
       "<text text-anchor=\"middle\" x=\"2306.68\" y=\"-102.58\" font-family=\"Times,serif\" font-size=\"14.00\">x_standard|mean|G_2, value&gt;159.168</text>\n",
       "</g>\n",
       "<!-- 9&#45;&gt;20 -->\n",
       "<g id=\"edge20\" class=\"edge\">\n",
       "<title>9&#45;&gt;20</title>\n",
       "<path fill=\"none\" stroke=\"black\" d=\"M2306.68,-178.26C2306.68,-166.43 2306.68,-150.45 2306.68,-136.75\"/>\n",
       "<polygon fill=\"black\" stroke=\"black\" points=\"2310.18,-136.97 2306.68,-126.97 2303.18,-136.97 2310.18,-136.97\"/>\n",
       "<text text-anchor=\"middle\" x=\"2318.68\" y=\"-147.2\" font-family=\"Times,serif\" font-size=\"14.00\">Yes</text>\n",
       "</g>\n",
       "<!-- 21 -->\n",
       "<g id=\"node22\" class=\"node\">\n",
       "<title>21</title>\n",
       "<ellipse fill=\"none\" stroke=\"black\" cx=\"2727.68\" cy=\"-107.25\" rx=\"201.68\" ry=\"18\"/>\n",
       "<text text-anchor=\"middle\" x=\"2727.68\" y=\"-102.58\" font-family=\"Times,serif\" font-size=\"14.00\">x_standard|mean|G_2, value&gt;159.168</text>\n",
       "</g>\n",
       "<!-- 10&#45;&gt;21 -->\n",
       "<g id=\"edge21\" class=\"edge\">\n",
       "<title>10&#45;&gt;21</title>\n",
       "<path fill=\"none\" stroke=\"black\" d=\"M2727.68,-178.26C2727.68,-166.43 2727.68,-150.45 2727.68,-136.75\"/>\n",
       "<polygon fill=\"black\" stroke=\"black\" points=\"2731.18,-136.97 2727.68,-126.97 2724.18,-136.97 2731.18,-136.97\"/>\n",
       "<text text-anchor=\"middle\" x=\"2737.8\" y=\"-147.2\" font-family=\"Times,serif\" font-size=\"14.00\">No</text>\n",
       "</g>\n",
       "<!-- 22 -->\n",
       "<g id=\"node23\" class=\"node\">\n",
       "<title>22</title>\n",
       "<ellipse fill=\"none\" stroke=\"black\" cx=\"3148.68\" cy=\"-107.25\" rx=\"201.68\" ry=\"18\"/>\n",
       "<text text-anchor=\"middle\" x=\"3148.68\" y=\"-102.58\" font-family=\"Times,serif\" font-size=\"14.00\">x_standard|mean|G_2, value&gt;159.168</text>\n",
       "</g>\n",
       "<!-- 10&#45;&gt;22 -->\n",
       "<g id=\"edge22\" class=\"edge\">\n",
       "<title>10&#45;&gt;22</title>\n",
       "<path fill=\"none\" stroke=\"black\" d=\"M2801.49,-180.2C2873.64,-165.25 2983.54,-142.47 3060.3,-126.56\"/>\n",
       "<polygon fill=\"black\" stroke=\"black\" points=\"3060.82,-130.03 3069.9,-124.58 3059.4,-123.18 3060.82,-130.03\"/>\n",
       "<text text-anchor=\"middle\" x=\"2988.68\" y=\"-147.2\" font-family=\"Times,serif\" font-size=\"14.00\">Yes</text>\n",
       "</g>\n",
       "<!-- 23 -->\n",
       "<g id=\"node24\" class=\"node\">\n",
       "<title>23</title>\n",
       "<ellipse fill=\"none\" stroke=\"black\" cx=\"3569.68\" cy=\"-107.25\" rx=\"201.68\" ry=\"18\"/>\n",
       "<text text-anchor=\"middle\" x=\"3569.68\" y=\"-102.58\" font-family=\"Times,serif\" font-size=\"14.00\">x_standard|mean|G_2, value&gt;159.168</text>\n",
       "</g>\n",
       "<!-- 11&#45;&gt;23 -->\n",
       "<g id=\"edge23\" class=\"edge\">\n",
       "<title>11&#45;&gt;23</title>\n",
       "<path fill=\"none\" stroke=\"black\" d=\"M3916.86,-180.2C3844.71,-165.25 3734.81,-142.47 3658.05,-126.56\"/>\n",
       "<polygon fill=\"black\" stroke=\"black\" points=\"3658.96,-123.18 3648.45,-124.58 3657.53,-130.03 3658.96,-123.18\"/>\n",
       "<text text-anchor=\"middle\" x=\"3828.8\" y=\"-147.2\" font-family=\"Times,serif\" font-size=\"14.00\">No</text>\n",
       "</g>\n",
       "<!-- 24 -->\n",
       "<g id=\"node25\" class=\"node\">\n",
       "<title>24</title>\n",
       "<ellipse fill=\"none\" stroke=\"black\" cx=\"3990.68\" cy=\"-107.25\" rx=\"201.68\" ry=\"18\"/>\n",
       "<text text-anchor=\"middle\" x=\"3990.68\" y=\"-102.58\" font-family=\"Times,serif\" font-size=\"14.00\">x_standard|mean|G_2, value&gt;159.168</text>\n",
       "</g>\n",
       "<!-- 11&#45;&gt;24 -->\n",
       "<g id=\"edge24\" class=\"edge\">\n",
       "<title>11&#45;&gt;24</title>\n",
       "<path fill=\"none\" stroke=\"black\" d=\"M3990.68,-178.26C3990.68,-166.43 3990.68,-150.45 3990.68,-136.75\"/>\n",
       "<polygon fill=\"black\" stroke=\"black\" points=\"3994.18,-136.97 3990.68,-126.97 3987.18,-136.97 3994.18,-136.97\"/>\n",
       "<text text-anchor=\"middle\" x=\"4002.68\" y=\"-147.2\" font-family=\"Times,serif\" font-size=\"14.00\">Yes</text>\n",
       "</g>\n",
       "<!-- 25 -->\n",
       "<g id=\"node26\" class=\"node\">\n",
       "<title>25</title>\n",
       "<ellipse fill=\"none\" stroke=\"black\" cx=\"4411.68\" cy=\"-107.25\" rx=\"201.68\" ry=\"18\"/>\n",
       "<text text-anchor=\"middle\" x=\"4411.68\" y=\"-102.58\" font-family=\"Times,serif\" font-size=\"14.00\">x_standard|mean|G_2, value&gt;159.168</text>\n",
       "</g>\n",
       "<!-- 12&#45;&gt;25 -->\n",
       "<g id=\"edge25\" class=\"edge\">\n",
       "<title>12&#45;&gt;25</title>\n",
       "<path fill=\"none\" stroke=\"black\" d=\"M4411.68,-178.26C4411.68,-166.43 4411.68,-150.45 4411.68,-136.75\"/>\n",
       "<polygon fill=\"black\" stroke=\"black\" points=\"4415.18,-136.97 4411.68,-126.97 4408.18,-136.97 4415.18,-136.97\"/>\n",
       "<text text-anchor=\"middle\" x=\"4421.8\" y=\"-147.2\" font-family=\"Times,serif\" font-size=\"14.00\">No</text>\n",
       "</g>\n",
       "<!-- 26 -->\n",
       "<g id=\"node27\" class=\"node\">\n",
       "<title>26</title>\n",
       "<ellipse fill=\"none\" stroke=\"black\" cx=\"4832.68\" cy=\"-107.25\" rx=\"201.68\" ry=\"18\"/>\n",
       "<text text-anchor=\"middle\" x=\"4832.68\" y=\"-102.58\" font-family=\"Times,serif\" font-size=\"14.00\">x_standard|mean|G_2, value&gt;159.168</text>\n",
       "</g>\n",
       "<!-- 12&#45;&gt;26 -->\n",
       "<g id=\"edge26\" class=\"edge\">\n",
       "<title>12&#45;&gt;26</title>\n",
       "<path fill=\"none\" stroke=\"black\" d=\"M4485.49,-180.2C4557.64,-165.25 4667.54,-142.47 4744.3,-126.56\"/>\n",
       "<polygon fill=\"black\" stroke=\"black\" points=\"4744.82,-130.03 4753.9,-124.58 4743.4,-123.18 4744.82,-130.03\"/>\n",
       "<text text-anchor=\"middle\" x=\"4672.68\" y=\"-147.2\" font-family=\"Times,serif\" font-size=\"14.00\">Yes</text>\n",
       "</g>\n",
       "<!-- 27 -->\n",
       "<g id=\"node28\" class=\"node\">\n",
       "<title>27</title>\n",
       "<ellipse fill=\"none\" stroke=\"black\" cx=\"5253.68\" cy=\"-107.25\" rx=\"201.68\" ry=\"18\"/>\n",
       "<text text-anchor=\"middle\" x=\"5253.68\" y=\"-102.58\" font-family=\"Times,serif\" font-size=\"14.00\">x_standard|mean|G_2, value&gt;159.168</text>\n",
       "</g>\n",
       "<!-- 13&#45;&gt;27 -->\n",
       "<g id=\"edge27\" class=\"edge\">\n",
       "<title>13&#45;&gt;27</title>\n",
       "<path fill=\"none\" stroke=\"black\" d=\"M5393.71,-178.47C5366.38,-164.76 5327.74,-145.39 5297.97,-130.46\"/>\n",
       "<polygon fill=\"black\" stroke=\"black\" points=\"5299.71,-127.42 5289.2,-126.06 5296.57,-133.68 5299.71,-127.42\"/>\n",
       "<text text-anchor=\"middle\" x=\"5365.8\" y=\"-147.2\" font-family=\"Times,serif\" font-size=\"14.00\">No</text>\n",
       "</g>\n",
       "<!-- 28 -->\n",
       "<g id=\"node29\" class=\"node\">\n",
       "<title>28</title>\n",
       "<ellipse fill=\"none\" stroke=\"black\" cx=\"5674.68\" cy=\"-107.25\" rx=\"201.68\" ry=\"18\"/>\n",
       "<text text-anchor=\"middle\" x=\"5674.68\" y=\"-102.58\" font-family=\"Times,serif\" font-size=\"14.00\">x_standard|mean|G_2, value&gt;159.168</text>\n",
       "</g>\n",
       "<!-- 13&#45;&gt;28 -->\n",
       "<g id=\"edge28\" class=\"edge\">\n",
       "<title>13&#45;&gt;28</title>\n",
       "<path fill=\"none\" stroke=\"black\" d=\"M5474.72,-178.88C5514.97,-164.66 5573.11,-144.13 5616.32,-128.86\"/>\n",
       "<polygon fill=\"black\" stroke=\"black\" points=\"5617.28,-132.24 5625.54,-125.61 5614.95,-125.64 5617.28,-132.24\"/>\n",
       "<text text-anchor=\"middle\" x=\"5584.68\" y=\"-147.2\" font-family=\"Times,serif\" font-size=\"14.00\">Yes</text>\n",
       "</g>\n",
       "<!-- 29 -->\n",
       "<g id=\"node30\" class=\"node\">\n",
       "<title>29</title>\n",
       "<ellipse fill=\"none\" stroke=\"black\" cx=\"6095.68\" cy=\"-107.25\" rx=\"201.68\" ry=\"18\"/>\n",
       "<text text-anchor=\"middle\" x=\"6095.68\" y=\"-102.58\" font-family=\"Times,serif\" font-size=\"14.00\">x_standard|mean|G_2, value&gt;159.168</text>\n",
       "</g>\n",
       "<!-- 14&#45;&gt;29 -->\n",
       "<g id=\"edge29\" class=\"edge\">\n",
       "<title>14&#45;&gt;29</title>\n",
       "<path fill=\"none\" stroke=\"black\" d=\"M6095.68,-178.26C6095.68,-166.43 6095.68,-150.45 6095.68,-136.75\"/>\n",
       "<polygon fill=\"black\" stroke=\"black\" points=\"6099.18,-136.97 6095.68,-126.97 6092.18,-136.97 6099.18,-136.97\"/>\n",
       "<text text-anchor=\"middle\" x=\"6105.8\" y=\"-147.2\" font-family=\"Times,serif\" font-size=\"14.00\">No</text>\n",
       "</g>\n",
       "<!-- 30 -->\n",
       "<g id=\"node31\" class=\"node\">\n",
       "<title>30</title>\n",
       "<ellipse fill=\"none\" stroke=\"black\" cx=\"6516.68\" cy=\"-107.25\" rx=\"201.68\" ry=\"18\"/>\n",
       "<text text-anchor=\"middle\" x=\"6516.68\" y=\"-102.58\" font-family=\"Times,serif\" font-size=\"14.00\">x_standard|mean|G_2, value&gt;159.168</text>\n",
       "</g>\n",
       "<!-- 14&#45;&gt;30 -->\n",
       "<g id=\"edge30\" class=\"edge\">\n",
       "<title>14&#45;&gt;30</title>\n",
       "<path fill=\"none\" stroke=\"black\" d=\"M6169.49,-180.2C6241.64,-165.25 6351.54,-142.47 6428.3,-126.56\"/>\n",
       "<polygon fill=\"black\" stroke=\"black\" points=\"6428.82,-130.03 6437.9,-124.58 6427.4,-123.18 6428.82,-130.03\"/>\n",
       "<text text-anchor=\"middle\" x=\"6355.68\" y=\"-147.2\" font-family=\"Times,serif\" font-size=\"14.00\">Yes</text>\n",
       "</g>\n",
       "<!-- 31 -->\n",
       "<g id=\"node32\" class=\"node\">\n",
       "<title>31</title>\n",
       "<polygon fill=\"none\" stroke=\"red\" points=\"193.18,-36 90.18,-36 90.18,0 193.18,0 193.18,-36\"/>\n",
       "<text text-anchor=\"middle\" x=\"141.68\" y=\"-13.32\" font-family=\"Times,serif\" font-size=\"14.00\">val = &#45;0.378</text>\n",
       "</g>\n",
       "<!-- 15&#45;&gt;31 -->\n",
       "<g id=\"edge31\" class=\"edge\">\n",
       "<title>15&#45;&gt;31</title>\n",
       "<path fill=\"none\" stroke=\"black\" d=\"M189.82,-89.01C181.27,-76.58 169.58,-59.58 159.86,-45.44\"/>\n",
       "<polygon fill=\"black\" stroke=\"black\" points=\"162.91,-43.71 154.36,-37.45 157.14,-47.67 162.91,-43.71\"/>\n",
       "<text text-anchor=\"middle\" x=\"187.8\" y=\"-57.95\" font-family=\"Times,serif\" font-size=\"14.00\">No</text>\n",
       "</g>\n",
       "<!-- 32 -->\n",
       "<g id=\"node33\" class=\"node\">\n",
       "<title>32</title>\n",
       "<polygon fill=\"none\" stroke=\"red\" points=\"314.18,-36 211.18,-36 211.18,0 314.18,0 314.18,-36\"/>\n",
       "<text text-anchor=\"middle\" x=\"262.68\" y=\"-13.32\" font-family=\"Times,serif\" font-size=\"14.00\">val = &#45;0.239</text>\n",
       "</g>\n",
       "<!-- 15&#45;&gt;32 -->\n",
       "<g id=\"edge32\" class=\"edge\">\n",
       "<title>15&#45;&gt;32</title>\n",
       "<path fill=\"none\" stroke=\"black\" d=\"M213.73,-89.01C222.42,-76.58 234.3,-59.58 244.19,-45.44\"/>\n",
       "<polygon fill=\"black\" stroke=\"black\" points=\"246.92,-47.64 249.78,-37.44 241.18,-43.63 246.92,-47.64\"/>\n",
       "<text text-anchor=\"middle\" x=\"249.68\" y=\"-57.95\" font-family=\"Times,serif\" font-size=\"14.00\">Yes</text>\n",
       "</g>\n",
       "<!-- 33 -->\n",
       "<g id=\"node34\" class=\"node\">\n",
       "<title>33</title>\n",
       "<polygon fill=\"none\" stroke=\"red\" points=\"613.18,-36 510.18,-36 510.18,0 613.18,0 613.18,-36\"/>\n",
       "<text text-anchor=\"middle\" x=\"561.68\" y=\"-13.32\" font-family=\"Times,serif\" font-size=\"14.00\">val = &#45;0.532</text>\n",
       "</g>\n",
       "<!-- 16&#45;&gt;33 -->\n",
       "<g id=\"edge33\" class=\"edge\">\n",
       "<title>16&#45;&gt;33</title>\n",
       "<path fill=\"none\" stroke=\"black\" d=\"M610.62,-89.01C601.93,-76.58 590.05,-59.58 580.16,-45.44\"/>\n",
       "<polygon fill=\"black\" stroke=\"black\" points=\"583.17,-43.63 574.57,-37.44 577.43,-47.64 583.17,-43.63\"/>\n",
       "<text text-anchor=\"middle\" x=\"607.8\" y=\"-57.95\" font-family=\"Times,serif\" font-size=\"14.00\">No</text>\n",
       "</g>\n",
       "<!-- 34 -->\n",
       "<g id=\"node35\" class=\"node\">\n",
       "<title>34</title>\n",
       "<polygon fill=\"none\" stroke=\"red\" points=\"734.18,-36 631.18,-36 631.18,0 734.18,0 734.18,-36\"/>\n",
       "<text text-anchor=\"middle\" x=\"682.68\" y=\"-13.32\" font-family=\"Times,serif\" font-size=\"14.00\">val = &#45;0.269</text>\n",
       "</g>\n",
       "<!-- 16&#45;&gt;34 -->\n",
       "<g id=\"edge34\" class=\"edge\">\n",
       "<title>16&#45;&gt;34</title>\n",
       "<path fill=\"none\" stroke=\"black\" d=\"M634.53,-89.01C643.08,-76.58 654.77,-59.58 664.49,-45.44\"/>\n",
       "<polygon fill=\"black\" stroke=\"black\" points=\"667.21,-47.67 669.99,-37.45 661.44,-43.71 667.21,-47.67\"/>\n",
       "<text text-anchor=\"middle\" x=\"670.68\" y=\"-57.95\" font-family=\"Times,serif\" font-size=\"14.00\">Yes</text>\n",
       "</g>\n",
       "<!-- 35 -->\n",
       "<g id=\"node36\" class=\"node\">\n",
       "<title>35</title>\n",
       "<polygon fill=\"none\" stroke=\"red\" points=\"1034.18,-36 931.18,-36 931.18,0 1034.18,0 1034.18,-36\"/>\n",
       "<text text-anchor=\"middle\" x=\"982.68\" y=\"-13.32\" font-family=\"Times,serif\" font-size=\"14.00\">val = &#45;0.296</text>\n",
       "</g>\n",
       "<!-- 17&#45;&gt;35 -->\n",
       "<g id=\"edge35\" class=\"edge\">\n",
       "<title>17&#45;&gt;35</title>\n",
       "<path fill=\"none\" stroke=\"black\" d=\"M1031.62,-89.01C1022.93,-76.58 1011.05,-59.58 1001.16,-45.44\"/>\n",
       "<polygon fill=\"black\" stroke=\"black\" points=\"1004.17,-43.63 995.57,-37.44 998.43,-47.64 1004.17,-43.63\"/>\n",
       "<text text-anchor=\"middle\" x=\"1028.8\" y=\"-57.95\" font-family=\"Times,serif\" font-size=\"14.00\">No</text>\n",
       "</g>\n",
       "<!-- 36 -->\n",
       "<g id=\"node37\" class=\"node\">\n",
       "<title>36</title>\n",
       "<polygon fill=\"none\" stroke=\"red\" points=\"1155.18,-36 1052.18,-36 1052.18,0 1155.18,0 1155.18,-36\"/>\n",
       "<text text-anchor=\"middle\" x=\"1103.68\" y=\"-13.32\" font-family=\"Times,serif\" font-size=\"14.00\">val = &#45;0.318</text>\n",
       "</g>\n",
       "<!-- 17&#45;&gt;36 -->\n",
       "<g id=\"edge36\" class=\"edge\">\n",
       "<title>17&#45;&gt;36</title>\n",
       "<path fill=\"none\" stroke=\"black\" d=\"M1055.53,-89.01C1064.08,-76.58 1075.77,-59.58 1085.49,-45.44\"/>\n",
       "<polygon fill=\"black\" stroke=\"black\" points=\"1088.21,-47.67 1090.99,-37.45 1082.44,-43.71 1088.21,-47.67\"/>\n",
       "<text text-anchor=\"middle\" x=\"1091.68\" y=\"-57.95\" font-family=\"Times,serif\" font-size=\"14.00\">Yes</text>\n",
       "</g>\n",
       "<!-- 37 -->\n",
       "<g id=\"node38\" class=\"node\">\n",
       "<title>37</title>\n",
       "<polygon fill=\"none\" stroke=\"red\" points=\"1456.18,-36 1353.18,-36 1353.18,0 1456.18,0 1456.18,-36\"/>\n",
       "<text text-anchor=\"middle\" x=\"1404.68\" y=\"-13.32\" font-family=\"Times,serif\" font-size=\"14.00\">val = &#45;0.328</text>\n",
       "</g>\n",
       "<!-- 18&#45;&gt;37 -->\n",
       "<g id=\"edge37\" class=\"edge\">\n",
       "<title>18&#45;&gt;37</title>\n",
       "<path fill=\"none\" stroke=\"black\" d=\"M1452.82,-89.01C1444.27,-76.58 1432.58,-59.58 1422.86,-45.44\"/>\n",
       "<polygon fill=\"black\" stroke=\"black\" points=\"1425.91,-43.71 1417.36,-37.45 1420.14,-47.67 1425.91,-43.71\"/>\n",
       "<text text-anchor=\"middle\" x=\"1450.8\" y=\"-57.95\" font-family=\"Times,serif\" font-size=\"14.00\">No</text>\n",
       "</g>\n",
       "<!-- 38 -->\n",
       "<g id=\"node39\" class=\"node\">\n",
       "<title>38</title>\n",
       "<polygon fill=\"none\" stroke=\"red\" points=\"1577.18,-36 1474.18,-36 1474.18,0 1577.18,0 1577.18,-36\"/>\n",
       "<text text-anchor=\"middle\" x=\"1525.68\" y=\"-13.32\" font-family=\"Times,serif\" font-size=\"14.00\">val = &#45;0.276</text>\n",
       "</g>\n",
       "<!-- 18&#45;&gt;38 -->\n",
       "<g id=\"edge38\" class=\"edge\">\n",
       "<title>18&#45;&gt;38</title>\n",
       "<path fill=\"none\" stroke=\"black\" d=\"M1476.73,-89.01C1485.42,-76.58 1497.3,-59.58 1507.19,-45.44\"/>\n",
       "<polygon fill=\"black\" stroke=\"black\" points=\"1509.92,-47.64 1512.78,-37.44 1504.18,-43.63 1509.92,-47.64\"/>\n",
       "<text text-anchor=\"middle\" x=\"1512.68\" y=\"-57.95\" font-family=\"Times,serif\" font-size=\"14.00\">Yes</text>\n",
       "</g>\n",
       "<!-- 39 -->\n",
       "<g id=\"node40\" class=\"node\">\n",
       "<title>39</title>\n",
       "<polygon fill=\"none\" stroke=\"red\" points=\"1875.93,-36 1777.43,-36 1777.43,0 1875.93,0 1875.93,-36\"/>\n",
       "<text text-anchor=\"middle\" x=\"1826.68\" y=\"-13.32\" font-family=\"Times,serif\" font-size=\"14.00\">val = 0.591</text>\n",
       "</g>\n",
       "<!-- 19&#45;&gt;39 -->\n",
       "<g id=\"edge39\" class=\"edge\">\n",
       "<title>19&#45;&gt;39</title>\n",
       "<path fill=\"none\" stroke=\"black\" d=\"M1874.02,-89.01C1865.61,-76.58 1854.12,-59.58 1844.56,-45.44\"/>\n",
       "<polygon fill=\"black\" stroke=\"black\" points=\"1847.66,-43.78 1839.16,-37.46 1841.86,-47.7 1847.66,-43.78\"/>\n",
       "<text text-anchor=\"middle\" x=\"1871.8\" y=\"-57.95\" font-family=\"Times,serif\" font-size=\"14.00\">No</text>\n",
       "</g>\n",
       "<!-- 40 -->\n",
       "<g id=\"node41\" class=\"node\">\n",
       "<title>40</title>\n",
       "<polygon fill=\"none\" stroke=\"red\" points=\"1992.93,-36 1894.43,-36 1894.43,0 1992.93,0 1992.93,-36\"/>\n",
       "<text text-anchor=\"middle\" x=\"1943.68\" y=\"-13.32\" font-family=\"Times,serif\" font-size=\"14.00\">val = 1.210</text>\n",
       "</g>\n",
       "<!-- 19&#45;&gt;40 -->\n",
       "<g id=\"edge40\" class=\"edge\">\n",
       "<title>19&#45;&gt;40</title>\n",
       "<path fill=\"none\" stroke=\"black\" d=\"M1897.13,-89.01C1905.4,-76.58 1916.7,-59.58 1926.1,-45.44\"/>\n",
       "<polygon fill=\"black\" stroke=\"black\" points=\"1928.78,-47.73 1931.4,-37.46 1922.95,-43.85 1928.78,-47.73\"/>\n",
       "<text text-anchor=\"middle\" x=\"1932.68\" y=\"-57.95\" font-family=\"Times,serif\" font-size=\"14.00\">Yes</text>\n",
       "</g>\n",
       "<!-- 41 -->\n",
       "<g id=\"node42\" class=\"node\">\n",
       "<title>41</title>\n",
       "<polygon fill=\"none\" stroke=\"red\" points=\"2299.18,-36 2196.18,-36 2196.18,0 2299.18,0 2299.18,-36\"/>\n",
       "<text text-anchor=\"middle\" x=\"2247.68\" y=\"-13.32\" font-family=\"Times,serif\" font-size=\"14.00\">val = &#45;0.353</text>\n",
       "</g>\n",
       "<!-- 20&#45;&gt;41 -->\n",
       "<g id=\"edge41\" class=\"edge\">\n",
       "<title>20&#45;&gt;41</title>\n",
       "<path fill=\"none\" stroke=\"black\" d=\"M2295.02,-89.01C2286.61,-76.58 2275.12,-59.58 2265.56,-45.44\"/>\n",
       "<polygon fill=\"black\" stroke=\"black\" points=\"2268.66,-43.78 2260.16,-37.46 2262.86,-47.7 2268.66,-43.78\"/>\n",
       "<text text-anchor=\"middle\" x=\"2292.8\" y=\"-57.95\" font-family=\"Times,serif\" font-size=\"14.00\">No</text>\n",
       "</g>\n",
       "<!-- 42 -->\n",
       "<g id=\"node43\" class=\"node\">\n",
       "<title>42</title>\n",
       "<polygon fill=\"none\" stroke=\"red\" points=\"2415.93,-36 2317.43,-36 2317.43,0 2415.93,0 2415.93,-36\"/>\n",
       "<text text-anchor=\"middle\" x=\"2366.68\" y=\"-13.32\" font-family=\"Times,serif\" font-size=\"14.00\">val = 1.234</text>\n",
       "</g>\n",
       "<!-- 20&#45;&gt;42 -->\n",
       "<g id=\"edge42\" class=\"edge\">\n",
       "<title>20&#45;&gt;42</title>\n",
       "<path fill=\"none\" stroke=\"black\" d=\"M2318.53,-89.01C2327.08,-76.58 2338.77,-59.58 2348.49,-45.44\"/>\n",
       "<polygon fill=\"black\" stroke=\"black\" points=\"2351.21,-47.67 2353.99,-37.45 2345.44,-43.71 2351.21,-47.67\"/>\n",
       "<text text-anchor=\"middle\" x=\"2354.68\" y=\"-57.95\" font-family=\"Times,serif\" font-size=\"14.00\">Yes</text>\n",
       "</g>\n",
       "<!-- 43 -->\n",
       "<g id=\"node44\" class=\"node\">\n",
       "<title>43</title>\n",
       "<polygon fill=\"none\" stroke=\"red\" points=\"2718.93,-36 2620.43,-36 2620.43,0 2718.93,0 2718.93,-36\"/>\n",
       "<text text-anchor=\"middle\" x=\"2669.68\" y=\"-13.32\" font-family=\"Times,serif\" font-size=\"14.00\">val = 0.000</text>\n",
       "</g>\n",
       "<!-- 21&#45;&gt;43 -->\n",
       "<g id=\"edge43\" class=\"edge\">\n",
       "<title>21&#45;&gt;43</title>\n",
       "<path fill=\"none\" stroke=\"black\" d=\"M2716.22,-89.01C2707.95,-76.58 2696.65,-59.58 2687.25,-45.44\"/>\n",
       "<polygon fill=\"black\" stroke=\"black\" points=\"2690.4,-43.85 2681.95,-37.46 2684.57,-47.73 2690.4,-43.85\"/>\n",
       "<text text-anchor=\"middle\" x=\"2714.8\" y=\"-57.95\" font-family=\"Times,serif\" font-size=\"14.00\">No</text>\n",
       "</g>\n",
       "<!-- 44 -->\n",
       "<g id=\"node45\" class=\"node\">\n",
       "<title>44</title>\n",
       "<polygon fill=\"none\" stroke=\"red\" points=\"2835.93,-36 2737.43,-36 2737.43,0 2835.93,0 2835.93,-36\"/>\n",
       "<text text-anchor=\"middle\" x=\"2786.68\" y=\"-13.32\" font-family=\"Times,serif\" font-size=\"14.00\">val = 0.000</text>\n",
       "</g>\n",
       "<!-- 21&#45;&gt;44 -->\n",
       "<g id=\"edge44\" class=\"edge\">\n",
       "<title>21&#45;&gt;44</title>\n",
       "<path fill=\"none\" stroke=\"black\" d=\"M2739.33,-89.01C2747.74,-76.58 2759.23,-59.58 2768.8,-45.44\"/>\n",
       "<polygon fill=\"black\" stroke=\"black\" points=\"2771.49,-47.7 2774.2,-37.46 2765.69,-43.78 2771.49,-47.7\"/>\n",
       "<text text-anchor=\"middle\" x=\"2774.68\" y=\"-57.95\" font-family=\"Times,serif\" font-size=\"14.00\">Yes</text>\n",
       "</g>\n",
       "<!-- 45 -->\n",
       "<g id=\"node46\" class=\"node\">\n",
       "<title>45</title>\n",
       "<polygon fill=\"none\" stroke=\"red\" points=\"3138.93,-36 3040.43,-36 3040.43,0 3138.93,0 3138.93,-36\"/>\n",
       "<text text-anchor=\"middle\" x=\"3089.68\" y=\"-13.32\" font-family=\"Times,serif\" font-size=\"14.00\">val = 0.000</text>\n",
       "</g>\n",
       "<!-- 22&#45;&gt;45 -->\n",
       "<g id=\"edge45\" class=\"edge\">\n",
       "<title>22&#45;&gt;45</title>\n",
       "<path fill=\"none\" stroke=\"black\" d=\"M3137.02,-89.01C3128.61,-76.58 3117.12,-59.58 3107.56,-45.44\"/>\n",
       "<polygon fill=\"black\" stroke=\"black\" points=\"3110.66,-43.78 3102.16,-37.46 3104.86,-47.7 3110.66,-43.78\"/>\n",
       "<text text-anchor=\"middle\" x=\"3134.8\" y=\"-57.95\" font-family=\"Times,serif\" font-size=\"14.00\">No</text>\n",
       "</g>\n",
       "<!-- 46 -->\n",
       "<g id=\"node47\" class=\"node\">\n",
       "<title>46</title>\n",
       "<polygon fill=\"none\" stroke=\"red\" points=\"3255.93,-36 3157.43,-36 3157.43,0 3255.93,0 3255.93,-36\"/>\n",
       "<text text-anchor=\"middle\" x=\"3206.68\" y=\"-13.32\" font-family=\"Times,serif\" font-size=\"14.00\">val = 0.000</text>\n",
       "</g>\n",
       "<!-- 22&#45;&gt;46 -->\n",
       "<g id=\"edge46\" class=\"edge\">\n",
       "<title>22&#45;&gt;46</title>\n",
       "<path fill=\"none\" stroke=\"black\" d=\"M3160.13,-89.01C3168.4,-76.58 3179.7,-59.58 3189.1,-45.44\"/>\n",
       "<polygon fill=\"black\" stroke=\"black\" points=\"3191.78,-47.73 3194.4,-37.46 3185.95,-43.85 3191.78,-47.73\"/>\n",
       "<text text-anchor=\"middle\" x=\"3195.68\" y=\"-57.95\" font-family=\"Times,serif\" font-size=\"14.00\">Yes</text>\n",
       "</g>\n",
       "<!-- 47 -->\n",
       "<g id=\"node48\" class=\"node\">\n",
       "<title>47</title>\n",
       "<polygon fill=\"none\" stroke=\"red\" points=\"3559.93,-36 3461.43,-36 3461.43,0 3559.93,0 3559.93,-36\"/>\n",
       "<text text-anchor=\"middle\" x=\"3510.68\" y=\"-13.32\" font-family=\"Times,serif\" font-size=\"14.00\">val = 0.025</text>\n",
       "</g>\n",
       "<!-- 23&#45;&gt;47 -->\n",
       "<g id=\"edge47\" class=\"edge\">\n",
       "<title>23&#45;&gt;47</title>\n",
       "<path fill=\"none\" stroke=\"black\" d=\"M3558.02,-89.01C3549.61,-76.58 3538.12,-59.58 3528.56,-45.44\"/>\n",
       "<polygon fill=\"black\" stroke=\"black\" points=\"3531.66,-43.78 3523.16,-37.46 3525.86,-47.7 3531.66,-43.78\"/>\n",
       "<text text-anchor=\"middle\" x=\"3555.8\" y=\"-57.95\" font-family=\"Times,serif\" font-size=\"14.00\">No</text>\n",
       "</g>\n",
       "<!-- 48 -->\n",
       "<g id=\"node49\" class=\"node\">\n",
       "<title>48</title>\n",
       "<polygon fill=\"none\" stroke=\"red\" points=\"3676.93,-36 3578.43,-36 3578.43,0 3676.93,0 3676.93,-36\"/>\n",
       "<text text-anchor=\"middle\" x=\"3627.68\" y=\"-13.32\" font-family=\"Times,serif\" font-size=\"14.00\">val = 0.449</text>\n",
       "</g>\n",
       "<!-- 23&#45;&gt;48 -->\n",
       "<g id=\"edge48\" class=\"edge\">\n",
       "<title>23&#45;&gt;48</title>\n",
       "<path fill=\"none\" stroke=\"black\" d=\"M3581.13,-89.01C3589.4,-76.58 3600.7,-59.58 3610.1,-45.44\"/>\n",
       "<polygon fill=\"black\" stroke=\"black\" points=\"3612.78,-47.73 3615.4,-37.46 3606.95,-43.85 3612.78,-47.73\"/>\n",
       "<text text-anchor=\"middle\" x=\"3616.68\" y=\"-57.95\" font-family=\"Times,serif\" font-size=\"14.00\">Yes</text>\n",
       "</g>\n",
       "<!-- 49 -->\n",
       "<g id=\"node50\" class=\"node\">\n",
       "<title>49</title>\n",
       "<polygon fill=\"none\" stroke=\"red\" points=\"3983.18,-36 3880.18,-36 3880.18,0 3983.18,0 3983.18,-36\"/>\n",
       "<text text-anchor=\"middle\" x=\"3931.68\" y=\"-13.32\" font-family=\"Times,serif\" font-size=\"14.00\">val = &#45;0.209</text>\n",
       "</g>\n",
       "<!-- 24&#45;&gt;49 -->\n",
       "<g id=\"edge49\" class=\"edge\">\n",
       "<title>24&#45;&gt;49</title>\n",
       "<path fill=\"none\" stroke=\"black\" d=\"M3979.02,-89.01C3970.61,-76.58 3959.12,-59.58 3949.56,-45.44\"/>\n",
       "<polygon fill=\"black\" stroke=\"black\" points=\"3952.66,-43.78 3944.16,-37.46 3946.86,-47.7 3952.66,-43.78\"/>\n",
       "<text text-anchor=\"middle\" x=\"3976.8\" y=\"-57.95\" font-family=\"Times,serif\" font-size=\"14.00\">No</text>\n",
       "</g>\n",
       "<!-- 50 -->\n",
       "<g id=\"node51\" class=\"node\">\n",
       "<title>50</title>\n",
       "<polygon fill=\"none\" stroke=\"red\" points=\"4099.93,-36 4001.43,-36 4001.43,0 4099.93,0 4099.93,-36\"/>\n",
       "<text text-anchor=\"middle\" x=\"4050.68\" y=\"-13.32\" font-family=\"Times,serif\" font-size=\"14.00\">val = 0.114</text>\n",
       "</g>\n",
       "<!-- 24&#45;&gt;50 -->\n",
       "<g id=\"edge50\" class=\"edge\">\n",
       "<title>24&#45;&gt;50</title>\n",
       "<path fill=\"none\" stroke=\"black\" d=\"M4002.53,-89.01C4011.08,-76.58 4022.77,-59.58 4032.49,-45.44\"/>\n",
       "<polygon fill=\"black\" stroke=\"black\" points=\"4035.21,-47.67 4037.99,-37.45 4029.44,-43.71 4035.21,-47.67\"/>\n",
       "<text text-anchor=\"middle\" x=\"4038.68\" y=\"-57.95\" font-family=\"Times,serif\" font-size=\"14.00\">Yes</text>\n",
       "</g>\n",
       "<!-- 51 -->\n",
       "<g id=\"node52\" class=\"node\">\n",
       "<title>51</title>\n",
       "<polygon fill=\"none\" stroke=\"red\" points=\"4402.18,-36 4299.18,-36 4299.18,0 4402.18,0 4402.18,-36\"/>\n",
       "<text text-anchor=\"middle\" x=\"4350.68\" y=\"-13.32\" font-family=\"Times,serif\" font-size=\"14.00\">val = &#45;0.134</text>\n",
       "</g>\n",
       "<!-- 25&#45;&gt;51 -->\n",
       "<g id=\"edge51\" class=\"edge\">\n",
       "<title>25&#45;&gt;51</title>\n",
       "<path fill=\"none\" stroke=\"black\" d=\"M4399.62,-89.01C4390.93,-76.58 4379.05,-59.58 4369.16,-45.44\"/>\n",
       "<polygon fill=\"black\" stroke=\"black\" points=\"4372.17,-43.63 4363.57,-37.44 4366.43,-47.64 4372.17,-43.63\"/>\n",
       "<text text-anchor=\"middle\" x=\"4396.8\" y=\"-57.95\" font-family=\"Times,serif\" font-size=\"14.00\">No</text>\n",
       "</g>\n",
       "<!-- 52 -->\n",
       "<g id=\"node53\" class=\"node\">\n",
       "<title>52</title>\n",
       "<polygon fill=\"none\" stroke=\"red\" points=\"4523.18,-36 4420.18,-36 4420.18,0 4523.18,0 4523.18,-36\"/>\n",
       "<text text-anchor=\"middle\" x=\"4471.68\" y=\"-13.32\" font-family=\"Times,serif\" font-size=\"14.00\">val = &#45;0.081</text>\n",
       "</g>\n",
       "<!-- 25&#45;&gt;52 -->\n",
       "<g id=\"edge52\" class=\"edge\">\n",
       "<title>25&#45;&gt;52</title>\n",
       "<path fill=\"none\" stroke=\"black\" d=\"M4423.53,-89.01C4432.08,-76.58 4443.77,-59.58 4453.49,-45.44\"/>\n",
       "<polygon fill=\"black\" stroke=\"black\" points=\"4456.21,-47.67 4458.99,-37.45 4450.44,-43.71 4456.21,-47.67\"/>\n",
       "<text text-anchor=\"middle\" x=\"4459.68\" y=\"-57.95\" font-family=\"Times,serif\" font-size=\"14.00\">Yes</text>\n",
       "</g>\n",
       "<!-- 53 -->\n",
       "<g id=\"node54\" class=\"node\">\n",
       "<title>53</title>\n",
       "<polygon fill=\"none\" stroke=\"red\" points=\"4823.18,-36 4720.18,-36 4720.18,0 4823.18,0 4823.18,-36\"/>\n",
       "<text text-anchor=\"middle\" x=\"4771.68\" y=\"-13.32\" font-family=\"Times,serif\" font-size=\"14.00\">val = &#45;0.251</text>\n",
       "</g>\n",
       "<!-- 26&#45;&gt;53 -->\n",
       "<g id=\"edge53\" class=\"edge\">\n",
       "<title>26&#45;&gt;53</title>\n",
       "<path fill=\"none\" stroke=\"black\" d=\"M4820.62,-89.01C4811.93,-76.58 4800.05,-59.58 4790.16,-45.44\"/>\n",
       "<polygon fill=\"black\" stroke=\"black\" points=\"4793.17,-43.63 4784.57,-37.44 4787.43,-47.64 4793.17,-43.63\"/>\n",
       "<text text-anchor=\"middle\" x=\"4817.8\" y=\"-57.95\" font-family=\"Times,serif\" font-size=\"14.00\">No</text>\n",
       "</g>\n",
       "<!-- 54 -->\n",
       "<g id=\"node55\" class=\"node\">\n",
       "<title>54</title>\n",
       "<polygon fill=\"none\" stroke=\"red\" points=\"4944.18,-36 4841.18,-36 4841.18,0 4944.18,0 4944.18,-36\"/>\n",
       "<text text-anchor=\"middle\" x=\"4892.68\" y=\"-13.32\" font-family=\"Times,serif\" font-size=\"14.00\">val = &#45;0.081</text>\n",
       "</g>\n",
       "<!-- 26&#45;&gt;54 -->\n",
       "<g id=\"edge54\" class=\"edge\">\n",
       "<title>26&#45;&gt;54</title>\n",
       "<path fill=\"none\" stroke=\"black\" d=\"M4844.53,-89.01C4853.08,-76.58 4864.77,-59.58 4874.49,-45.44\"/>\n",
       "<polygon fill=\"black\" stroke=\"black\" points=\"4877.21,-47.67 4879.99,-37.45 4871.44,-43.71 4877.21,-47.67\"/>\n",
       "<text text-anchor=\"middle\" x=\"4880.68\" y=\"-57.95\" font-family=\"Times,serif\" font-size=\"14.00\">Yes</text>\n",
       "</g>\n",
       "<!-- 55 -->\n",
       "<g id=\"node56\" class=\"node\">\n",
       "<title>55</title>\n",
       "<polygon fill=\"none\" stroke=\"red\" points=\"5243.93,-36 5145.43,-36 5145.43,0 5243.93,0 5243.93,-36\"/>\n",
       "<text text-anchor=\"middle\" x=\"5194.68\" y=\"-13.32\" font-family=\"Times,serif\" font-size=\"14.00\">val = 1.183</text>\n",
       "</g>\n",
       "<!-- 27&#45;&gt;55 -->\n",
       "<g id=\"edge55\" class=\"edge\">\n",
       "<title>27&#45;&gt;55</title>\n",
       "<path fill=\"none\" stroke=\"black\" d=\"M5242.02,-89.01C5233.61,-76.58 5222.12,-59.58 5212.56,-45.44\"/>\n",
       "<polygon fill=\"black\" stroke=\"black\" points=\"5215.66,-43.78 5207.16,-37.46 5209.86,-47.7 5215.66,-43.78\"/>\n",
       "<text text-anchor=\"middle\" x=\"5238.8\" y=\"-57.95\" font-family=\"Times,serif\" font-size=\"14.00\">No</text>\n",
       "</g>\n",
       "<!-- 56 -->\n",
       "<g id=\"node57\" class=\"node\">\n",
       "<title>56</title>\n",
       "<polygon fill=\"none\" stroke=\"red\" points=\"5360.93,-36 5262.43,-36 5262.43,0 5360.93,0 5360.93,-36\"/>\n",
       "<text text-anchor=\"middle\" x=\"5311.68\" y=\"-13.32\" font-family=\"Times,serif\" font-size=\"14.00\">val = 1.452</text>\n",
       "</g>\n",
       "<!-- 27&#45;&gt;56 -->\n",
       "<g id=\"edge56\" class=\"edge\">\n",
       "<title>27&#45;&gt;56</title>\n",
       "<path fill=\"none\" stroke=\"black\" d=\"M5265.13,-89.01C5273.4,-76.58 5284.7,-59.58 5294.1,-45.44\"/>\n",
       "<polygon fill=\"black\" stroke=\"black\" points=\"5296.78,-47.73 5299.4,-37.46 5290.95,-43.85 5296.78,-47.73\"/>\n",
       "<text text-anchor=\"middle\" x=\"5299.68\" y=\"-57.95\" font-family=\"Times,serif\" font-size=\"14.00\">Yes</text>\n",
       "</g>\n",
       "<!-- 57 -->\n",
       "<g id=\"node58\" class=\"node\">\n",
       "<title>57</title>\n",
       "<polygon fill=\"none\" stroke=\"red\" points=\"5664.93,-36 5566.43,-36 5566.43,0 5664.93,0 5664.93,-36\"/>\n",
       "<text text-anchor=\"middle\" x=\"5615.68\" y=\"-13.32\" font-family=\"Times,serif\" font-size=\"14.00\">val = 0.393</text>\n",
       "</g>\n",
       "<!-- 28&#45;&gt;57 -->\n",
       "<g id=\"edge57\" class=\"edge\">\n",
       "<title>28&#45;&gt;57</title>\n",
       "<path fill=\"none\" stroke=\"black\" d=\"M5663.02,-89.01C5654.61,-76.58 5643.12,-59.58 5633.56,-45.44\"/>\n",
       "<polygon fill=\"black\" stroke=\"black\" points=\"5636.66,-43.78 5628.16,-37.46 5630.86,-47.7 5636.66,-43.78\"/>\n",
       "<text text-anchor=\"middle\" x=\"5659.8\" y=\"-57.95\" font-family=\"Times,serif\" font-size=\"14.00\">No</text>\n",
       "</g>\n",
       "<!-- 58 -->\n",
       "<g id=\"node59\" class=\"node\">\n",
       "<title>58</title>\n",
       "<polygon fill=\"none\" stroke=\"red\" points=\"5781.93,-36 5683.43,-36 5683.43,0 5781.93,0 5781.93,-36\"/>\n",
       "<text text-anchor=\"middle\" x=\"5732.68\" y=\"-13.32\" font-family=\"Times,serif\" font-size=\"14.00\">val = 1.327</text>\n",
       "</g>\n",
       "<!-- 28&#45;&gt;58 -->\n",
       "<g id=\"edge58\" class=\"edge\">\n",
       "<title>28&#45;&gt;58</title>\n",
       "<path fill=\"none\" stroke=\"black\" d=\"M5686.13,-89.01C5694.4,-76.58 5705.7,-59.58 5715.1,-45.44\"/>\n",
       "<polygon fill=\"black\" stroke=\"black\" points=\"5717.78,-47.73 5720.4,-37.46 5711.95,-43.85 5717.78,-47.73\"/>\n",
       "<text text-anchor=\"middle\" x=\"5720.68\" y=\"-57.95\" font-family=\"Times,serif\" font-size=\"14.00\">Yes</text>\n",
       "</g>\n",
       "<!-- 59 -->\n",
       "<g id=\"node60\" class=\"node\">\n",
       "<title>59</title>\n",
       "<polygon fill=\"none\" stroke=\"red\" points=\"6085.93,-36 5987.43,-36 5987.43,0 6085.93,0 6085.93,-36\"/>\n",
       "<text text-anchor=\"middle\" x=\"6036.68\" y=\"-13.32\" font-family=\"Times,serif\" font-size=\"14.00\">val = 0.000</text>\n",
       "</g>\n",
       "<!-- 29&#45;&gt;59 -->\n",
       "<g id=\"edge59\" class=\"edge\">\n",
       "<title>29&#45;&gt;59</title>\n",
       "<path fill=\"none\" stroke=\"black\" d=\"M6084.02,-89.01C6075.61,-76.58 6064.12,-59.58 6054.56,-45.44\"/>\n",
       "<polygon fill=\"black\" stroke=\"black\" points=\"6057.66,-43.78 6049.16,-37.46 6051.86,-47.7 6057.66,-43.78\"/>\n",
       "<text text-anchor=\"middle\" x=\"6080.8\" y=\"-57.95\" font-family=\"Times,serif\" font-size=\"14.00\">No</text>\n",
       "</g>\n",
       "<!-- 60 -->\n",
       "<g id=\"node61\" class=\"node\">\n",
       "<title>60</title>\n",
       "<polygon fill=\"none\" stroke=\"red\" points=\"6202.93,-36 6104.43,-36 6104.43,0 6202.93,0 6202.93,-36\"/>\n",
       "<text text-anchor=\"middle\" x=\"6153.68\" y=\"-13.32\" font-family=\"Times,serif\" font-size=\"14.00\">val = 0.000</text>\n",
       "</g>\n",
       "<!-- 29&#45;&gt;60 -->\n",
       "<g id=\"edge60\" class=\"edge\">\n",
       "<title>29&#45;&gt;60</title>\n",
       "<path fill=\"none\" stroke=\"black\" d=\"M6107.13,-89.01C6115.4,-76.58 6126.7,-59.58 6136.1,-45.44\"/>\n",
       "<polygon fill=\"black\" stroke=\"black\" points=\"6138.78,-47.73 6141.4,-37.46 6132.95,-43.85 6138.78,-47.73\"/>\n",
       "<text text-anchor=\"middle\" x=\"6141.68\" y=\"-57.95\" font-family=\"Times,serif\" font-size=\"14.00\">Yes</text>\n",
       "</g>\n",
       "<!-- 61 -->\n",
       "<g id=\"node62\" class=\"node\">\n",
       "<title>61</title>\n",
       "<polygon fill=\"none\" stroke=\"red\" points=\"6506.93,-36 6408.43,-36 6408.43,0 6506.93,0 6506.93,-36\"/>\n",
       "<text text-anchor=\"middle\" x=\"6457.68\" y=\"-13.32\" font-family=\"Times,serif\" font-size=\"14.00\">val = 0.000</text>\n",
       "</g>\n",
       "<!-- 30&#45;&gt;61 -->\n",
       "<g id=\"edge61\" class=\"edge\">\n",
       "<title>30&#45;&gt;61</title>\n",
       "<path fill=\"none\" stroke=\"black\" d=\"M6505.02,-89.01C6496.61,-76.58 6485.12,-59.58 6475.56,-45.44\"/>\n",
       "<polygon fill=\"black\" stroke=\"black\" points=\"6478.66,-43.78 6470.16,-37.46 6472.86,-47.7 6478.66,-43.78\"/>\n",
       "<text text-anchor=\"middle\" x=\"6501.8\" y=\"-57.95\" font-family=\"Times,serif\" font-size=\"14.00\">No</text>\n",
       "</g>\n",
       "<!-- 62 -->\n",
       "<g id=\"node63\" class=\"node\">\n",
       "<title>62</title>\n",
       "<polygon fill=\"none\" stroke=\"red\" points=\"6623.93,-36 6525.43,-36 6525.43,0 6623.93,0 6623.93,-36\"/>\n",
       "<text text-anchor=\"middle\" x=\"6574.68\" y=\"-13.32\" font-family=\"Times,serif\" font-size=\"14.00\">val = 0.000</text>\n",
       "</g>\n",
       "<!-- 30&#45;&gt;62 -->\n",
       "<g id=\"edge62\" class=\"edge\">\n",
       "<title>30&#45;&gt;62</title>\n",
       "<path fill=\"none\" stroke=\"black\" d=\"M6528.13,-89.01C6536.4,-76.58 6547.7,-59.58 6557.1,-45.44\"/>\n",
       "<polygon fill=\"black\" stroke=\"black\" points=\"6559.78,-47.73 6562.4,-37.46 6553.95,-43.85 6559.78,-47.73\"/>\n",
       "<text text-anchor=\"middle\" x=\"6562.68\" y=\"-57.95\" font-family=\"Times,serif\" font-size=\"14.00\">Yes</text>\n",
       "</g>\n",
       "</g>\n",
       "</svg>\n"
      ],
      "text/plain": [
       "<graphviz.graphs.Digraph at 0x79c64a713df0>"
      ]
     },
     "execution_count": 52,
     "metadata": {},
     "output_type": "execute_result"
    }
   ],
   "source": [
    "from catboost import  Pool, MetricVisualizer\n",
    "import ipywidgets as widgets\n",
    "%matplotlib inline\n",
    "\n",
    "# For explicitly displaying widgets\n",
    "from IPython.display import display\n",
    "\n",
    "transformer_impute = ColumnTransformer(\n",
    "    transformers=[('imputer', imputer, numeric_columns)\n",
    "    ],\n",
    "    remainder='passthrough'  # Pass through columns not specified\n",
    ")\n",
    "\n",
    "transformer_scale = ColumnTransformer(\n",
    "    transformers=[\n",
    "        ('scaler', MinMaxScaler(), numeric_columns)\n",
    "    ],\n",
    "    remainder='passthrough'  # Pass through columns not specified\n",
    ")\n",
    "\n",
    "X=merged_pivot[final_features]\n",
    "\n",
    "y=merged_pivot['pass']\n",
    "numeric_columns=[]\n",
    "is_cat = (X.dtypes != float)\n",
    "for feature, feat_is_cat in is_cat.to_dict().items():\n",
    "    if feat_is_cat:\n",
    "        X[feature].fillna(0, inplace=True)\n",
    "    else:\n",
    "        numeric_columns.append(feature)\n",
    "\n",
    "X_transform=transformer_impute.fit_transform(X)\n",
    "\n",
    "X_transform = pd.DataFrame(X_transform, columns=final_features)\n",
    "\n",
    "X_transform=transformer_scale.fit_transform(X_transform)\n",
    "\n",
    "X_transform = pd.DataFrame(X_transform, columns=final_features)\n",
    "\n",
    "for feature, feat_is_cat in is_cat.to_dict().items():\n",
    "    if feat_is_cat:\n",
    "        X_transform[feature]=X_transform[feature].astype(int)\n",
    "\n",
    "cat_features_index = np.where(is_cat)[0]\n",
    "pool = Pool(X_transform, y, cat_features=cat_features_index, feature_names=list(X_transform.columns))\n",
    "\n",
    "\n",
    "\n",
    "\n",
    "model = CatBoostClassifier( max_depth=5,\n",
    "    verbose=False,  iterations=2).fit(pool)\n",
    "\n",
    "model.plot_tree(\n",
    "    tree_idx=1,\n",
    "    pool=pool\n",
    ")"
   ]
  },
  {
   "cell_type": "code",
   "execution_count": 53,
   "id": "6537a30d",
   "metadata": {
    "execution": {
     "iopub.execute_input": "2024-10-23T21:02:23.322838Z",
     "iopub.status.busy": "2024-10-23T21:02:23.322334Z",
     "iopub.status.idle": "2024-10-23T21:03:10.209706Z",
     "shell.execute_reply": "2024-10-23T21:03:10.208509Z"
    },
    "papermill": {
     "duration": 46.983635,
     "end_time": "2024-10-23T21:03:10.260533",
     "exception": false,
     "start_time": "2024-10-23T21:02:23.276898",
     "status": "completed"
    },
    "tags": []
   },
   "outputs": [
    {
     "data": {
      "image/png": "[encoded data removed]",
      "text/plain": [
       "<Figure size 800x950 with 1 Axes>"
      ]
     },
     "metadata": {},
     "output_type": "display_data"
    }
   ],
   "source": [
    "import shap\n",
    "model = CatBoostClassifier( \n",
    "    verbose=False).fit(pool)\n",
    "shap_values = model.get_feature_importance(Pool(X, label=y, cat_features=cat_features_index),type=\"ShapValues\")\n",
    "shap_values = shap_values[:, :-1]\n",
    "shap.summary_plot(shap_values, X, plot_type=\"bar\")"
   ]
  },
  {
   "cell_type": "code",
   "execution_count": 54,
   "id": "7dc007c8",
   "metadata": {
    "execution": {
     "iopub.execute_input": "2024-10-23T21:03:10.351476Z",
     "iopub.status.busy": "2024-10-23T21:03:10.350997Z",
     "iopub.status.idle": "2024-10-23T21:03:15.459060Z",
     "shell.execute_reply": "2024-10-23T21:03:15.457829Z"
    },
    "papermill": {
     "duration": 5.157501,
     "end_time": "2024-10-23T21:03:15.462522",
     "exception": false,
     "start_time": "2024-10-23T21:03:10.305021",
     "status": "completed"
    },
    "tags": []
   },
   "outputs": [
    {
     "data": {
      "image/png": "[encoded data removed]",
      "text/plain": [
       "<Figure size 800x950 with 2 Axes>"
      ]
     },
     "metadata": {},
     "output_type": "display_data"
    }
   ],
   "source": [
    "shap.summary_plot(shap_values, X)"
   ]
  },
  {
   "cell_type": "code",
   "execution_count": 55,
   "id": "871ce5b4",
   "metadata": {
    "execution": {
     "iopub.execute_input": "2024-10-23T21:03:15.564314Z",
     "iopub.status.busy": "2024-10-23T21:03:15.563830Z",
     "iopub.status.idle": "2024-10-23T21:03:15.581512Z",
     "shell.execute_reply": "2024-10-23T21:03:15.580274Z"
    },
    "papermill": {
     "duration": 0.071759,
     "end_time": "2024-10-23T21:03:15.584328",
     "exception": false,
     "start_time": "2024-10-23T21:03:15.512569",
     "status": "completed"
    },
    "tags": []
   },
   "outputs": [],
   "source": [
    "importances =model.get_feature_importance(type='PredictionValuesChange')\n",
    "feature_importances=pd.Series(importances, index=X.columns).sort_values()\n",
    "feature_importance_df=pd.DataFrame(feature_importances, columns=[ 'importance']).sort_values('importance', ascending=False)\n",
    "selected_features=list(feature_importance_df.head(len(final_features)).T.columns)\n",
    "top_30_features=list(feature_importance_df.head(30).T.columns)\n",
    "top_30_features.append('pass')"
   ]
  },
  {
   "cell_type": "code",
   "execution_count": 56,
   "id": "79fa9fb6",
   "metadata": {
    "execution": {
     "iopub.execute_input": "2024-10-23T21:03:15.681293Z",
     "iopub.status.busy": "2024-10-23T21:03:15.680798Z",
     "iopub.status.idle": "2024-10-23T21:03:15.689258Z",
     "shell.execute_reply": "2024-10-23T21:03:15.688147Z"
    },
    "papermill": {
     "duration": 0.06005,
     "end_time": "2024-10-23T21:03:15.691624",
     "exception": false,
     "start_time": "2024-10-23T21:03:15.631574",
     "status": "completed"
    },
    "tags": []
   },
   "outputs": [
    {
     "data": {
      "text/plain": [
       "['temp',\n",
       " 'offenseFormation_I_FORM',\n",
       " 'a|max|WR_3',\n",
       " 'def_xpass',\n",
       " 'cover_3_off',\n",
       " 'a|max|TE_4',\n",
       " 'x_standard|mean|G_2',\n",
       " 'o_standard|mean|WR_2',\n",
       " 'a|max|RB_1',\n",
       " 'wind',\n",
       " 'Other_off',\n",
       " 'pass_rush_ratio',\n",
       " 's|max|RB_1',\n",
       " 's|max|FB_1',\n",
       " 'dis|sum|QB_1',\n",
       " 'x_standard|mean|T_2',\n",
       " 'a|max|TE_2',\n",
       " 'o_standard|mean|WR_1',\n",
       " 'dir_standard|mean|TE_1',\n",
       " 'a|max|TE_1',\n",
       " 'a|max|WR_4',\n",
       " 'n_defense_box',\n",
       " 'dir_standard|mean|C_1',\n",
       " 'preSnapVisitorTeamWinProbability',\n",
       " 'x_standard|mean|WR_2',\n",
       " 'a|max|WR_2',\n",
       " 's|max|WR_1',\n",
       " 'cover_3_def',\n",
       " 'a|max|TE_3',\n",
       " 'Cover-2_off',\n",
       " 'pass']"
      ]
     },
     "execution_count": 56,
     "metadata": {},
     "output_type": "execute_result"
    }
   ],
   "source": [
    "list(top_30_features)"
   ]
  },
  {
   "cell_type": "code",
   "execution_count": 57,
   "id": "3ab5f0e7",
   "metadata": {
    "execution": {
     "iopub.execute_input": "2024-10-23T21:03:15.801379Z",
     "iopub.status.busy": "2024-10-23T21:03:15.800363Z",
     "iopub.status.idle": "2024-10-23T21:04:15.890435Z",
     "shell.execute_reply": "2024-10-23T21:04:15.888821Z"
    },
    "papermill": {
     "duration": 60.154377,
     "end_time": "2024-10-23T21:04:15.893084",
     "exception": false,
     "start_time": "2024-10-23T21:03:15.738707",
     "status": "completed"
    },
    "tags": []
   },
   "outputs": [
    {
     "name": "stdout",
     "output_type": "stream",
     "text": [
      "Requirement already satisfied: pandas in /opt/conda/lib/python3.10/site-packages (1.5.3)\r\n",
      "Requirement already satisfied: numpy in /opt/conda/lib/python3.10/site-packages (1.26.4)\r\n",
      "Requirement already satisfied: matplotlib in /opt/conda/lib/python3.10/site-packages (3.7.5)\r\n",
      "Requirement already satisfied: seaborn in /opt/conda/lib/python3.10/site-packages (0.12.2)\r\n",
      "Requirement already satisfied: holoviews in /opt/conda/lib/python3.10/site-packages (1.19.1)\r\n",
      "Requirement already satisfied: python-dateutil>=2.8.1 in /opt/conda/lib/python3.10/site-packages (from pandas) (2.9.0.post0)\r\n",
      "Requirement already satisfied: pytz>=2020.1 in /opt/conda/lib/python3.10/site-packages (from pandas) (2024.1)\r\n",
      "Requirement already satisfied: contourpy>=1.0.1 in /opt/conda/lib/python3.10/site-packages (from matplotlib) (1.2.1)\r\n",
      "Requirement already satisfied: cycler>=0.10 in /opt/conda/lib/python3.10/site-packages (from matplotlib) (0.12.1)\r\n",
      "Requirement already satisfied: fonttools>=4.22.0 in /opt/conda/lib/python3.10/site-packages (from matplotlib) (4.53.0)\r\n",
      "Requirement already satisfied: kiwisolver>=1.0.1 in /opt/conda/lib/python3.10/site-packages (from matplotlib) (1.4.5)\r\n",
      "Requirement already satisfied: packaging>=20.0 in /opt/conda/lib/python3.10/site-packages (from matplotlib) (21.3)\r\n",
      "Requirement already satisfied: pillow>=6.2.0 in /opt/conda/lib/python3.10/site-packages (from matplotlib) (10.3.0)\r\n",
      "Requirement already satisfied: pyparsing>=2.3.1 in /opt/conda/lib/python3.10/site-packages (from matplotlib) (3.1.2)\r\n",
      "Requirement already satisfied: bokeh>=3.1 in /opt/conda/lib/python3.10/site-packages (from holoviews) (3.6.0)\r\n",
      "Requirement already satisfied: colorcet in /opt/conda/lib/python3.10/site-packages (from holoviews) (3.1.0)\r\n",
      "Requirement already satisfied: panel>=1.0 in /opt/conda/lib/python3.10/site-packages (from holoviews) (1.5.1)\r\n",
      "Requirement already satisfied: param<3.0,>=2.0 in /opt/conda/lib/python3.10/site-packages (from holoviews) (2.1.1)\r\n",
      "Requirement already satisfied: pyviz-comms>=2.1 in /opt/conda/lib/python3.10/site-packages (from holoviews) (3.0.3)\r\n",
      "Requirement already satisfied: Jinja2>=2.9 in /opt/conda/lib/python3.10/site-packages (from bokeh>=3.1->holoviews) (3.1.4)\r\n",
      "Requirement already satisfied: PyYAML>=3.10 in /opt/conda/lib/python3.10/site-packages (from bokeh>=3.1->holoviews) (6.0.2)\r\n",
      "Requirement already satisfied: tornado>=6.2 in /opt/conda/lib/python3.10/site-packages (from bokeh>=3.1->holoviews) (6.4.1)\r\n",
      "Requirement already satisfied: xyzservices>=2021.09.1 in /opt/conda/lib/python3.10/site-packages (from bokeh>=3.1->holoviews) (2024.9.0)\r\n",
      "Requirement already satisfied: bleach in /opt/conda/lib/python3.10/site-packages (from panel>=1.0->holoviews) (6.1.0)\r\n",
      "Requirement already satisfied: linkify-it-py in /opt/conda/lib/python3.10/site-packages (from panel>=1.0->holoviews) (2.0.3)\r\n",
      "Requirement already satisfied: markdown in /opt/conda/lib/python3.10/site-packages (from panel>=1.0->holoviews) (3.6)\r\n",
      "Requirement already satisfied: markdown-it-py in /opt/conda/lib/python3.10/site-packages (from panel>=1.0->holoviews) (3.0.0)\r\n",
      "Requirement already satisfied: mdit-py-plugins in /opt/conda/lib/python3.10/site-packages (from panel>=1.0->holoviews) (0.4.1)\r\n",
      "Requirement already satisfied: requests in /opt/conda/lib/python3.10/site-packages (from panel>=1.0->holoviews) (2.32.3)\r\n",
      "Requirement already satisfied: tqdm in /opt/conda/lib/python3.10/site-packages (from panel>=1.0->holoviews) (4.66.4)\r\n",
      "Requirement already satisfied: typing-extensions in /opt/conda/lib/python3.10/site-packages (from panel>=1.0->holoviews) (4.12.2)\r\n",
      "Requirement already satisfied: six>=1.5 in /opt/conda/lib/python3.10/site-packages (from python-dateutil>=2.8.1->pandas) (1.16.0)\r\n",
      "Requirement already satisfied: MarkupSafe>=2.0 in /opt/conda/lib/python3.10/site-packages (from Jinja2>=2.9->bokeh>=3.1->holoviews) (2.1.5)\r\n",
      "Requirement already satisfied: webencodings in /opt/conda/lib/python3.10/site-packages (from bleach->panel>=1.0->holoviews) (0.5.1)\r\n",
      "Requirement already satisfied: uc-micro-py in /opt/conda/lib/python3.10/site-packages (from linkify-it-py->panel>=1.0->holoviews) (1.0.3)\r\n",
      "Requirement already satisfied: mdurl~=0.1 in /opt/conda/lib/python3.10/site-packages (from markdown-it-py->panel>=1.0->holoviews) (0.1.2)\r\n",
      "Requirement already satisfied: charset-normalizer<4,>=2 in /opt/conda/lib/python3.10/site-packages (from requests->panel>=1.0->holoviews) (3.3.2)\r\n",
      "Requirement already satisfied: idna<4,>=2.5 in /opt/conda/lib/python3.10/site-packages (from requests->panel>=1.0->holoviews) (3.7)\r\n",
      "Requirement already satisfied: urllib3<3,>=1.21.1 in /opt/conda/lib/python3.10/site-packages (from requests->panel>=1.0->holoviews) (1.26.18)\r\n",
      "Requirement already satisfied: certifi>=2017.4.17 in /opt/conda/lib/python3.10/site-packages (from requests->panel>=1.0->holoviews) (2024.8.30)\r\n",
      "Collecting autoviz\r\n",
      "  Downloading autoviz-0.1.905-py3-none-any.whl.metadata (14 kB)\r\n",
      "Collecting xlrd (from autoviz)\r\n",
      "  Downloading xlrd-2.0.1-py2.py3-none-any.whl.metadata (3.4 kB)\r\n",
      "Requirement already satisfied: wordcloud in /opt/conda/lib/python3.10/site-packages (from autoviz) (1.9.3)\r\n",
      "Requirement already satisfied: emoji in /opt/conda/lib/python3.10/site-packages (from autoviz) (2.13.2)\r\n",
      "Collecting pyamg (from autoviz)\r\n",
      "  Downloading pyamg-5.2.1-cp310-cp310-manylinux_2_17_x86_64.manylinux2014_x86_64.whl.metadata (8.1 kB)\r\n",
      "Requirement already satisfied: scikit-learn in /opt/conda/lib/python3.10/site-packages (from autoviz) (1.2.2)\r\n",
      "Requirement already satisfied: statsmodels in /opt/conda/lib/python3.10/site-packages (from autoviz) (0.14.2)\r\n",
      "Requirement already satisfied: nltk in /opt/conda/lib/python3.10/site-packages (from autoviz) (3.2.4)\r\n",
      "Requirement already satisfied: textblob in /opt/conda/lib/python3.10/site-packages (from autoviz) (0.18.0.post0)\r\n",
      "Collecting xgboost<1.7,>=0.82 (from autoviz)\r\n",
      "  Downloading xgboost-1.6.2-py3-none-manylinux2014_x86_64.whl.metadata (1.8 kB)\r\n",
      "Requirement already satisfied: fsspec>=0.8.3 in /opt/conda/lib/python3.10/site-packages (from autoviz) (2024.6.1)\r\n",
      "Requirement already satisfied: typing-extensions>=4.1.1 in /opt/conda/lib/python3.10/site-packages (from autoviz) (4.12.2)\r\n",
      "Collecting pandas-dq>=1.29 (from autoviz)\r\n",
      "  Downloading pandas_dq-1.29-py3-none-any.whl.metadata (19 kB)\r\n",
      "Requirement already satisfied: numpy>=1.24.0 in /opt/conda/lib/python3.10/site-packages (from autoviz) (1.26.4)\r\n",
      "Collecting hvplot>=0.9.2 (from autoviz)\r\n",
      "  Downloading hvplot-0.11.1-py3-none-any.whl.metadata (15 kB)\r\n",
      "Requirement already satisfied: holoviews>=1.16.0 in /opt/conda/lib/python3.10/site-packages (from autoviz) (1.19.1)\r\n",
      "Requirement already satisfied: panel>=1.4.0 in /opt/conda/lib/python3.10/site-packages (from autoviz) (1.5.1)\r\n",
      "Collecting pandas>=2.0 (from autoviz)\r\n",
      "  Downloading pandas-2.2.3-cp310-cp310-manylinux_2_17_x86_64.manylinux2014_x86_64.whl.metadata (89 kB)\r\n",
      "\u001b[2K     \u001b[90m━━━━━━━━━━━━━━━━━━━━━━━━━━━━━━━━━━━━━━━━\u001b[0m \u001b[32m89.9/89.9 kB\u001b[0m \u001b[31m3.0 MB/s\u001b[0m eta \u001b[36m0:00:00\u001b[0m\r\n",
      "\u001b[?25hRequirement already satisfied: matplotlib>3.7.4 in /opt/conda/lib/python3.10/site-packages (from autoviz) (3.7.5)\r\n",
      "Collecting seaborn>0.12.2 (from autoviz)\r\n",
      "  Downloading seaborn-0.13.2-py3-none-any.whl.metadata (5.4 kB)\r\n",
      "Requirement already satisfied: bokeh>=3.1 in /opt/conda/lib/python3.10/site-packages (from holoviews>=1.16.0->autoviz) (3.6.0)\r\n",
      "Requirement already satisfied: colorcet in /opt/conda/lib/python3.10/site-packages (from holoviews>=1.16.0->autoviz) (3.1.0)\r\n",
      "Requirement already satisfied: packaging in /opt/conda/lib/python3.10/site-packages (from holoviews>=1.16.0->autoviz) (21.3)\r\n",
      "Requirement already satisfied: param<3.0,>=2.0 in /opt/conda/lib/python3.10/site-packages (from holoviews>=1.16.0->autoviz) (2.1.1)\r\n",
      "Requirement already satisfied: pyviz-comms>=2.1 in /opt/conda/lib/python3.10/site-packages (from holoviews>=1.16.0->autoviz) (3.0.3)\r\n",
      "Requirement already satisfied: contourpy>=1.0.1 in /opt/conda/lib/python3.10/site-packages (from matplotlib>3.7.4->autoviz) (1.2.1)\r\n",
      "Requirement already satisfied: cycler>=0.10 in /opt/conda/lib/python3.10/site-packages (from matplotlib>3.7.4->autoviz) (0.12.1)\r\n",
      "Requirement already satisfied: fonttools>=4.22.0 in /opt/conda/lib/python3.10/site-packages (from matplotlib>3.7.4->autoviz) (4.53.0)\r\n",
      "Requirement already satisfied: kiwisolver>=1.0.1 in /opt/conda/lib/python3.10/site-packages (from matplotlib>3.7.4->autoviz) (1.4.5)\r\n",
      "Requirement already satisfied: pillow>=6.2.0 in /opt/conda/lib/python3.10/site-packages (from matplotlib>3.7.4->autoviz) (10.3.0)\r\n",
      "Requirement already satisfied: pyparsing>=2.3.1 in /opt/conda/lib/python3.10/site-packages (from matplotlib>3.7.4->autoviz) (3.1.2)\r\n",
      "Requirement already satisfied: python-dateutil>=2.7 in /opt/conda/lib/python3.10/site-packages (from matplotlib>3.7.4->autoviz) (2.9.0.post0)\r\n",
      "Requirement already satisfied: pytz>=2020.1 in /opt/conda/lib/python3.10/site-packages (from pandas>=2.0->autoviz) (2024.1)\r\n",
      "Requirement already satisfied: tzdata>=2022.7 in /opt/conda/lib/python3.10/site-packages (from pandas>=2.0->autoviz) (2024.1)\r\n",
      "Requirement already satisfied: bleach in /opt/conda/lib/python3.10/site-packages (from panel>=1.4.0->autoviz) (6.1.0)\r\n",
      "Requirement already satisfied: linkify-it-py in /opt/conda/lib/python3.10/site-packages (from panel>=1.4.0->autoviz) (2.0.3)\r\n",
      "Requirement already satisfied: markdown in /opt/conda/lib/python3.10/site-packages (from panel>=1.4.0->autoviz) (3.6)\r\n",
      "Requirement already satisfied: markdown-it-py in /opt/conda/lib/python3.10/site-packages (from panel>=1.4.0->autoviz) (3.0.0)\r\n",
      "Requirement already satisfied: mdit-py-plugins in /opt/conda/lib/python3.10/site-packages (from panel>=1.4.0->autoviz) (0.4.1)\r\n",
      "Requirement already satisfied: requests in /opt/conda/lib/python3.10/site-packages (from panel>=1.4.0->autoviz) (2.32.3)\r\n",
      "Requirement already satisfied: tqdm in /opt/conda/lib/python3.10/site-packages (from panel>=1.4.0->autoviz) (4.66.4)\r\n",
      "Requirement already satisfied: scipy>=1.3.2 in /opt/conda/lib/python3.10/site-packages (from scikit-learn->autoviz) (1.14.1)\r\n",
      "Requirement already satisfied: joblib>=1.1.1 in /opt/conda/lib/python3.10/site-packages (from scikit-learn->autoviz) (1.4.2)\r\n",
      "Requirement already satisfied: threadpoolctl>=2.0.0 in /opt/conda/lib/python3.10/site-packages (from scikit-learn->autoviz) (3.5.0)\r\n",
      "Requirement already satisfied: six in /opt/conda/lib/python3.10/site-packages (from nltk->autoviz) (1.16.0)\r\n",
      "Requirement already satisfied: patsy>=0.5.6 in /opt/conda/lib/python3.10/site-packages (from statsmodels->autoviz) (0.5.6)\r\n",
      "Collecting nltk (from autoviz)\r\n",
      "  Downloading nltk-3.9.1-py3-none-any.whl.metadata (2.9 kB)\r\n",
      "Requirement already satisfied: click in /opt/conda/lib/python3.10/site-packages (from nltk->autoviz) (8.1.7)\r\n",
      "Requirement already satisfied: regex>=2021.8.3 in /opt/conda/lib/python3.10/site-packages (from nltk->autoviz) (2024.5.15)\r\n",
      "Requirement already satisfied: Jinja2>=2.9 in /opt/conda/lib/python3.10/site-packages (from bokeh>=3.1->holoviews>=1.16.0->autoviz) (3.1.4)\r\n",
      "Requirement already satisfied: PyYAML>=3.10 in /opt/conda/lib/python3.10/site-packages (from bokeh>=3.1->holoviews>=1.16.0->autoviz) (6.0.2)\r\n",
      "Requirement already satisfied: tornado>=6.2 in /opt/conda/lib/python3.10/site-packages (from bokeh>=3.1->holoviews>=1.16.0->autoviz) (6.4.1)\r\n",
      "Requirement already satisfied: xyzservices>=2021.09.1 in /opt/conda/lib/python3.10/site-packages (from bokeh>=3.1->holoviews>=1.16.0->autoviz) (2024.9.0)\r\n",
      "Requirement already satisfied: webencodings in /opt/conda/lib/python3.10/site-packages (from bleach->panel>=1.4.0->autoviz) (0.5.1)\r\n",
      "Requirement already satisfied: uc-micro-py in /opt/conda/lib/python3.10/site-packages (from linkify-it-py->panel>=1.4.0->autoviz) (1.0.3)\r\n",
      "Requirement already satisfied: mdurl~=0.1 in /opt/conda/lib/python3.10/site-packages (from markdown-it-py->panel>=1.4.0->autoviz) (0.1.2)\r\n",
      "Requirement already satisfied: charset-normalizer<4,>=2 in /opt/conda/lib/python3.10/site-packages (from requests->panel>=1.4.0->autoviz) (3.3.2)\r\n",
      "Requirement already satisfied: idna<4,>=2.5 in /opt/conda/lib/python3.10/site-packages (from requests->panel>=1.4.0->autoviz) (3.7)\r\n",
      "Requirement already satisfied: urllib3<3,>=1.21.1 in /opt/conda/lib/python3.10/site-packages (from requests->panel>=1.4.0->autoviz) (1.26.18)\r\n",
      "Requirement already satisfied: certifi>=2017.4.17 in /opt/conda/lib/python3.10/site-packages (from requests->panel>=1.4.0->autoviz) (2024.8.30)\r\n",
      "Requirement already satisfied: MarkupSafe>=2.0 in /opt/conda/lib/python3.10/site-packages (from Jinja2>=2.9->bokeh>=3.1->holoviews>=1.16.0->autoviz) (2.1.5)\r\n",
      "Downloading autoviz-0.1.905-py3-none-any.whl (67 kB)\r\n",
      "\u001b[2K   \u001b[90m━━━━━━━━━━━━━━━━━━━━━━━━━━━━━━━━━━━━━━━━\u001b[0m \u001b[32m67.5/67.5 kB\u001b[0m \u001b[31m3.2 MB/s\u001b[0m eta \u001b[36m0:00:00\u001b[0m\r\n",
      "\u001b[?25hDownloading hvplot-0.11.1-py3-none-any.whl (161 kB)\r\n",
      "\u001b[2K   \u001b[90m━━━━━━━━━━━━━━━━━━━━━━━━━━━━━━━━━━━━━━━━\u001b[0m \u001b[32m161.2/161.2 kB\u001b[0m \u001b[31m6.8 MB/s\u001b[0m eta \u001b[36m0:00:00\u001b[0m\r\n",
      "\u001b[?25hDownloading pandas-2.2.3-cp310-cp310-manylinux_2_17_x86_64.manylinux2014_x86_64.whl (13.1 MB)\r\n",
      "\u001b[2K   \u001b[90m━━━━━━━━━━━━━━━━━━━━━━━━━━━━━━━━━━━━━━━━\u001b[0m \u001b[32m13.1/13.1 MB\u001b[0m \u001b[31m70.2 MB/s\u001b[0m eta \u001b[36m0:00:00\u001b[0m\r\n",
      "\u001b[?25hDownloading pandas_dq-1.29-py3-none-any.whl (29 kB)\r\n",
      "Downloading seaborn-0.13.2-py3-none-any.whl (294 kB)\r\n",
      "\u001b[2K   \u001b[90m━━━━━━━━━━━━━━━━━━━━━━━━━━━━━━━━━━━━━━━━\u001b[0m \u001b[32m294.9/294.9 kB\u001b[0m \u001b[31m13.1 MB/s\u001b[0m eta \u001b[36m0:00:00\u001b[0m\r\n",
      "\u001b[?25hDownloading xgboost-1.6.2-py3-none-manylinux2014_x86_64.whl (255.9 MB)\r\n",
      "\u001b[2K   \u001b[90m━━━━━━━━━━━━━━━━━━━━━━━━━━━━━━━━━━━━━━━━\u001b[0m \u001b[32m255.9/255.9 MB\u001b[0m \u001b[31m4.8 MB/s\u001b[0m eta \u001b[36m0:00:00\u001b[0m\r\n",
      "\u001b[?25hDownloading pyamg-5.2.1-cp310-cp310-manylinux_2_17_x86_64.manylinux2014_x86_64.whl (2.0 MB)\r\n",
      "\u001b[2K   \u001b[90m━━━━━━━━━━━━━━━━━━━━━━━━━━━━━━━━━━━━━━━━\u001b[0m \u001b[32m2.0/2.0 MB\u001b[0m \u001b[31m50.0 MB/s\u001b[0m eta \u001b[36m0:00:00\u001b[0m\r\n",
      "\u001b[?25hDownloading nltk-3.9.1-py3-none-any.whl (1.5 MB)\r\n",
      "\u001b[2K   \u001b[90m━━━━━━━━━━━━━━━━━━━━━━━━━━━━━━━━━━━━━━━━\u001b[0m \u001b[32m1.5/1.5 MB\u001b[0m \u001b[31m45.6 MB/s\u001b[0m eta \u001b[36m0:00:00\u001b[0m\r\n",
      "\u001b[?25hDownloading xlrd-2.0.1-py2.py3-none-any.whl (96 kB)\r\n",
      "\u001b[2K   \u001b[90m━━━━━━━━━━━━━━━━━━━━━━━━━━━━━━━━━━━━━━━━\u001b[0m \u001b[32m96.5/96.5 kB\u001b[0m \u001b[31m4.8 MB/s\u001b[0m eta \u001b[36m0:00:00\u001b[0m\r\n",
      "\u001b[?25hInstalling collected packages: xlrd, nltk, xgboost, pyamg, pandas, seaborn, pandas-dq, hvplot, autoviz\r\n",
      "  Attempting uninstall: nltk\r\n",
      "    Found existing installation: nltk 3.2.4\r\n",
      "    Uninstalling nltk-3.2.4:\r\n",
      "      Successfully uninstalled nltk-3.2.4\r\n",
      "  Attempting uninstall: xgboost\r\n",
      "    Found existing installation: xgboost 2.0.3\r\n",
      "    Uninstalling xgboost-2.0.3:\r\n",
      "      Successfully uninstalled xgboost-2.0.3\r\n",
      "  Attempting uninstall: pandas\r\n",
      "    Found existing installation: pandas 1.5.3\r\n",
      "    Uninstalling pandas-1.5.3:\r\n",
      "      Successfully uninstalled pandas-1.5.3\r\n",
      "  Attempting uninstall: seaborn\r\n",
      "    Found existing installation: seaborn 0.12.2\r\n",
      "    Uninstalling seaborn-0.12.2:\r\n",
      "      Successfully uninstalled seaborn-0.12.2\r\n",
      "\u001b[31mERROR: pip's dependency resolver does not currently take into account all the packages that are installed. This behaviour is the source of the following dependency conflicts.\r\n",
      "beatrix-jupyterlab 2024.66.154055 requires jupyterlab~=3.6.0, but you have jupyterlab 4.2.5 which is incompatible.\r\n",
      "bigframes 0.22.0 requires google-cloud-bigquery[bqstorage,pandas]>=3.10.0, but you have google-cloud-bigquery 2.34.4 which is incompatible.\r\n",
      "bigframes 0.22.0 requires google-cloud-storage>=2.0.0, but you have google-cloud-storage 1.44.0 which is incompatible.\r\n",
      "bigframes 0.22.0 requires pandas<2.1.4,>=1.5.0, but you have pandas 2.2.3 which is incompatible.\r\n",
      "cesium 0.12.3 requires numpy<3.0,>=2.0, but you have numpy 1.26.4 which is incompatible.\r\n",
      "dataproc-jupyter-plugin 0.1.79 requires pydantic~=1.10.0, but you have pydantic 2.9.2 which is incompatible.\r\n",
      "ibis-framework 7.1.0 requires pyarrow<15,>=2, but you have pyarrow 17.0.0 which is incompatible.\r\n",
      "libpysal 4.9.2 requires packaging>=22, but you have packaging 21.3 which is incompatible.\r\n",
      "libpysal 4.9.2 requires shapely>=2.0.1, but you have shapely 1.8.5.post1 which is incompatible.\r\n",
      "nfl-data-py 0.3.3 requires pandas<2.0,>=1.0, but you have pandas 2.2.3 which is incompatible.\r\n",
      "preprocessing 0.1.13 requires nltk==3.2.4, but you have nltk 3.9.1 which is incompatible.\r\n",
      "xarray 2024.9.0 requires packaging>=23.1, but you have packaging 21.3 which is incompatible.\r\n",
      "ydata-profiling 4.10.0 requires scipy<1.14,>=1.4.1, but you have scipy 1.14.1 which is incompatible.\u001b[0m\u001b[31m\r\n",
      "\u001b[0mSuccessfully installed autoviz-0.1.905 hvplot-0.11.1 nltk-3.9.1 pandas-2.2.3 pandas-dq-1.29 pyamg-5.2.1 seaborn-0.13.2 xgboost-1.6.2 xlrd-2.0.1\r\n",
      "Imported v0.1.905. Please call AutoViz in this sequence:\n",
      "    AV = AutoViz_Class()\n",
      "    %matplotlib inline\n",
      "    dfte = AV.AutoViz(filename, sep=',', depVar='', dfte=None, header=0, verbose=1, lowess=False,\n",
      "               chart_format='svg',max_rows_analyzed=150000,max_cols_analyzed=30, save_plot_dir=None)\n"
     ]
    }
   ],
   "source": [
    "!pip install pandas numpy matplotlib seaborn holoviews\n",
    "!pip install autoviz\n",
    "from autoviz.AutoViz_Class import AutoViz_Class"
   ]
  },
  {
   "cell_type": "code",
   "execution_count": 58,
   "id": "0ea71e3f",
   "metadata": {
    "execution": {
     "iopub.execute_input": "2024-10-23T21:04:16.028358Z",
     "iopub.status.busy": "2024-10-23T21:04:16.026828Z",
     "iopub.status.idle": "2024-10-23T21:04:16.035698Z",
     "shell.execute_reply": "2024-10-23T21:04:16.034575Z"
    },
    "papermill": {
     "duration": 0.078291,
     "end_time": "2024-10-23T21:04:16.038097",
     "exception": false,
     "start_time": "2024-10-23T21:04:15.959806",
     "status": "completed"
    },
    "tags": []
   },
   "outputs": [
    {
     "data": {
      "text/plain": [
       "'\\n%matplotlib inline\\n\\nAV = AutoViz_Class()\\n\\nAV.AutoViz(\"\", dfte=merged_pivot[top_30_features].corr(), depVar=\\'pass\\', verbose=0)\\n'"
      ]
     },
     "execution_count": 58,
     "metadata": {},
     "output_type": "execute_result"
    }
   ],
   "source": [
    "'''\n",
    "%matplotlib inline\n",
    "\n",
    "AV = AutoViz_Class()\n",
    "\n",
    "AV.AutoViz(\"\", dfte=merged_pivot[top_30_features].corr(), depVar='pass', verbose=0)\n",
    "'''"
   ]
  },
  {
   "cell_type": "code",
   "execution_count": 59,
   "id": "31646962",
   "metadata": {
    "execution": {
     "iopub.execute_input": "2024-10-23T21:04:16.171409Z",
     "iopub.status.busy": "2024-10-23T21:04:16.170303Z",
     "iopub.status.idle": "2024-10-23T21:04:16.176208Z",
     "shell.execute_reply": "2024-10-23T21:04:16.175104Z"
    },
    "papermill": {
     "duration": 0.075396,
     "end_time": "2024-10-23T21:04:16.178660",
     "exception": false,
     "start_time": "2024-10-23T21:04:16.103264",
     "status": "completed"
    },
    "tags": []
   },
   "outputs": [],
   "source": [
    "final_cat_columns=[]\n",
    "for c in cat_columns:\n",
    "    if c in selected_features:\n",
    "        final_cat_columns.append(c)"
   ]
  },
  {
   "cell_type": "code",
   "execution_count": 60,
   "id": "17629330",
   "metadata": {
    "execution": {
     "iopub.execute_input": "2024-10-23T21:04:16.313074Z",
     "iopub.status.busy": "2024-10-23T21:04:16.311748Z",
     "iopub.status.idle": "2024-10-23T21:04:16.320767Z",
     "shell.execute_reply": "2024-10-23T21:04:16.319502Z"
    },
    "papermill": {
     "duration": 0.079119,
     "end_time": "2024-10-23T21:04:16.323420",
     "exception": false,
     "start_time": "2024-10-23T21:04:16.244301",
     "status": "completed"
    },
    "tags": []
   },
   "outputs": [],
   "source": [
    "final_numeric_columns=[]\n",
    "for i in selected_features:\n",
    "       if merged_pivot[i].dtype!='O' and i!='pass' and 'shiftSinceLineset' not in i and 'motionSinceLineset' not in i and  'offenseFormation' not in i and'receiverAlignment'not in i and 'Cover'not in i and 'roof' not in i and 'surface' not in i and 'is_no_huddle' not in i and 'is_no_motion' not in i:\n",
    "            final_numeric_columns.append(i)\n",
    "    "
   ]
  },
  {
   "cell_type": "code",
   "execution_count": 61,
   "id": "42582179",
   "metadata": {
    "execution": {
     "iopub.execute_input": "2024-10-23T21:04:16.458339Z",
     "iopub.status.busy": "2024-10-23T21:04:16.457104Z",
     "iopub.status.idle": "2024-10-23T21:04:16.464084Z",
     "shell.execute_reply": "2024-10-23T21:04:16.462867Z"
    },
    "papermill": {
     "duration": 0.076861,
     "end_time": "2024-10-23T21:04:16.466541",
     "exception": false,
     "start_time": "2024-10-23T21:04:16.389680",
     "status": "completed"
    },
    "tags": []
   },
   "outputs": [],
   "source": [
    "from sklearn.compose import ColumnTransformer\n",
    "# Create a transformer\n",
    "imputer = SimpleImputer(missing_values=np.nan,strategy='mean')\n",
    "transformer = ColumnTransformer(\n",
    "    transformers=[('imputer', imputer, final_numeric_columns),\n",
    "        ('scaler', MinMaxScaler(), final_numeric_columns)\n",
    "    ],\n",
    "    remainder='passthrough'  # Pass through columns not specified\n",
    ")"
   ]
  },
  {
   "cell_type": "code",
   "execution_count": 62,
   "id": "9b4cc28c",
   "metadata": {
    "execution": {
     "iopub.execute_input": "2024-10-23T21:04:16.602648Z",
     "iopub.status.busy": "2024-10-23T21:04:16.602157Z",
     "iopub.status.idle": "2024-10-23T21:04:16.620330Z",
     "shell.execute_reply": "2024-10-23T21:04:16.619153Z"
    },
    "papermill": {
     "duration": 0.088941,
     "end_time": "2024-10-23T21:04:16.623080",
     "exception": false,
     "start_time": "2024-10-23T21:04:16.534139",
     "status": "completed"
    },
    "tags": []
   },
   "outputs": [],
   "source": [
    "SKF = StratifiedKFold(n_splits=n_splits, shuffle=True, random_state=SEED)\n",
    "X=merged_pivot[selected_features]\n",
    "\n",
    "y=merged_pivot['pass']\n",
    "# Define the helper function so that it can be reused\n",
    "def tune(objective):\n",
    "    study = optuna.create_study(direction=\"maximize\")\n",
    "    study.optimize(objective, n_trials=30, show_progress_bar=True)\n",
    "\n",
    "    params = study.best_params\n",
    "    best_score = study.best_value\n",
    "    print(f\"Best score: {best_score}\\n\")\n",
    "    print(f\"Optimized parameters: {params}\\n\")\n",
    "    return params\n",
    "\n",
    "def objective(trial):\n",
    "    param = {\n",
    "        \"learning_rate\": trial.suggest_float(\"learning_rate\", 2e-2, 1e-1, log=True),\n",
    "         \"depth\": trial.suggest_int(\"depth\",4,9),\n",
    "        \"subsample\": trial.suggest_float(\"subsample\", 0.4, .95),\n",
    "        \"colsample_bylevel\": trial.suggest_float(\"colsample_bylevel\", 0.2, .95),\n",
    "        \"iterations\":trial.suggest_int(\"iterations\",200, 700 )\n",
    "        \n",
    "    }\n",
    "    cat = CatBoostClassifier(**param,  logging_level='Silent')  \n",
    "    pipeline=Pipeline([('tr', transformer), ('cat',  cat)], verbose = False)\n",
    "    scores = cross_val_score( pipeline, X, y, cv=SKF, scoring=\"accuracy\")\n",
    "    return scores.mean()\n",
    "#cat_params = tune(objective)"
   ]
  },
  {
   "cell_type": "code",
   "execution_count": 63,
   "id": "3c122f94",
   "metadata": {
    "execution": {
     "iopub.execute_input": "2024-10-23T21:04:16.757145Z",
     "iopub.status.busy": "2024-10-23T21:04:16.756013Z",
     "iopub.status.idle": "2024-10-23T21:04:16.762066Z",
     "shell.execute_reply": "2024-10-23T21:04:16.760982Z"
    },
    "papermill": {
     "duration": 0.074846,
     "end_time": "2024-10-23T21:04:16.764409",
     "exception": false,
     "start_time": "2024-10-23T21:04:16.689563",
     "status": "completed"
    },
    "tags": []
   },
   "outputs": [],
   "source": [
    "cat_params={'learning_rate': 0.09266434349818461, 'depth': 8, 'subsample': 0.9490011978490482, 'colsample_bylevel': 0.8112961715549822, 'iterations': 469}"
   ]
  },
  {
   "cell_type": "code",
   "execution_count": 64,
   "id": "3df81ea3",
   "metadata": {
    "execution": {
     "iopub.execute_input": "2024-10-23T21:04:16.900068Z",
     "iopub.status.busy": "2024-10-23T21:04:16.899009Z",
     "iopub.status.idle": "2024-10-23T21:07:49.332295Z",
     "shell.execute_reply": "2024-10-23T21:07:49.330964Z"
    },
    "papermill": {
     "duration": 212.503007,
     "end_time": "2024-10-23T21:07:49.335154",
     "exception": false,
     "start_time": "2024-10-23T21:04:16.832147",
     "status": "completed"
    },
    "tags": []
   },
   "outputs": [
    {
     "name": "stderr",
     "output_type": "stream",
     "text": [
      "Training Folds: 100%|██████████| 5/5 [03:32<00:00, 42.44s/it]"
     ]
    },
    {
     "name": "stdout",
     "output_type": "stream",
     "text": [
      "Mean Train AUC --> 0.9980\n",
      "Mean Validation AUC ---> 0.7878\n",
      "Mean Train Accuracy --> 0.9984\n",
      "Mean Validation Accuracy ---> 0.7999\n"
     ]
    },
    {
     "name": "stderr",
     "output_type": "stream",
     "text": [
      "\n"
     ]
    }
   ],
   "source": [
    "#catboost classifier\n",
    "pipeline=Pipeline([('tr', transformer), ('cat', CatBoostClassifier(  **cat_params, verbose=False))], verbose = True)\n",
    "TrainML(pipeline,X, y )"
   ]
  },
  {
   "cell_type": "code",
   "execution_count": 65,
   "id": "ca79a32f",
   "metadata": {
    "execution": {
     "iopub.execute_input": "2024-10-23T21:07:49.472710Z",
     "iopub.status.busy": "2024-10-23T21:07:49.471532Z",
     "iopub.status.idle": "2024-10-23T21:07:49.490751Z",
     "shell.execute_reply": "2024-10-23T21:07:49.489025Z"
    },
    "papermill": {
     "duration": 0.090833,
     "end_time": "2024-10-23T21:07:49.493395",
     "exception": false,
     "start_time": "2024-10-23T21:07:49.402562",
     "status": "completed"
    },
    "tags": []
   },
   "outputs": [
    {
     "name": "stdout",
     "output_type": "stream",
     "text": [
      "Unique plays: 14556\n",
      "Unique plays with passes: 8801\n",
      "% Plays with Pass Attempts:  60.5 %\n"
     ]
    }
   ],
   "source": [
    "uniqueplays=len(merged_pivot)\n",
    "playswithpasses=len(merged_pivot[merged_pivot['pass']==1])\n",
    "\n",
    "print('Unique plays:' , uniqueplays)\n",
    "print('Unique plays with passes:' ,playswithpasses )\n",
    "print('% Plays with Pass Attempts: ', round((playswithpasses/uniqueplays)*100, 1), '%')"
   ]
  },
  {
   "cell_type": "code",
   "execution_count": 66,
   "id": "3298af6b",
   "metadata": {
    "execution": {
     "iopub.execute_input": "2024-10-23T21:07:49.628515Z",
     "iopub.status.busy": "2024-10-23T21:07:49.628008Z",
     "iopub.status.idle": "2024-10-23T21:07:49.658192Z",
     "shell.execute_reply": "2024-10-23T21:07:49.656998Z"
    },
    "papermill": {
     "duration": 0.101231,
     "end_time": "2024-10-23T21:07:49.660887",
     "exception": false,
     "start_time": "2024-10-23T21:07:49.559656",
     "status": "completed"
    },
    "tags": []
   },
   "outputs": [],
   "source": [
    "X=merged_pivot[selected_features]\n",
    "\n",
    "y=merged_pivot['pass']\n",
    "\n",
    "\n",
    "\n",
    "X_train, X_temp, y_train, y_temp = train_test_split(X, y, test_size=0.3, stratify=y, random_state=42)\n",
    "X_val, X_test, y_val, y_test = train_test_split(X_temp, y_temp,stratify=y_temp,  test_size=0.5, random_state=42)\n"
   ]
  },
  {
   "cell_type": "code",
   "execution_count": 67,
   "id": "4f2be159",
   "metadata": {
    "execution": {
     "iopub.execute_input": "2024-10-23T21:07:49.794701Z",
     "iopub.status.busy": "2024-10-23T21:07:49.794207Z",
     "iopub.status.idle": "2024-10-23T21:07:50.066800Z",
     "shell.execute_reply": "2024-10-23T21:07:50.065609Z"
    },
    "papermill": {
     "duration": 0.34266,
     "end_time": "2024-10-23T21:07:50.069579",
     "exception": false,
     "start_time": "2024-10-23T21:07:49.726919",
     "status": "completed"
    },
    "tags": []
   },
   "outputs": [],
   "source": [
    "\n",
    "tf.random.set_seed(42)\n",
    "# Define the MLP model\n",
    "early_stopping = EarlyStopping(\n",
    "    monitor='val_loss',  # Metric to monitor\n",
    "    patience=10,          # Number of epochs with no improvement after which training will be stopped\n",
    "    restore_best_weights=True  # Restore model weights to the epoch with the best value of the monitored quantity\n",
    ")\n",
    "# Create MLP model\n",
    "\n",
    "model = Sequential()\n",
    "model.add(Dense(64, input_dim=X.shape[1], activation='relu'))\n",
    "model.add(Dropout(.005))\n",
    "model.add(Dense(32, input_dim=X.shape[1], activation='relu'))\n",
    "model.add(Dense(16, input_dim=X.shape[1], activation='relu'))\n",
    "model.add(Dropout(.005))\n",
    "model.add(Dense(8, input_dim=X.shape[1], activation='relu'))\n",
    "model.add(Dropout(.005))\n",
    "model.add(Dense(1, activation='sigmoid'))\n",
    "initial_weights = model.get_weights()\n",
    "optimizer = keras.optimizers.Adam(.004)\n",
    "\n",
    "model.compile(loss='binary_crossentropy', optimizer=optimizer, metrics=['accuracy'])\n"
   ]
  },
  {
   "cell_type": "code",
   "execution_count": 68,
   "id": "c1dd7115",
   "metadata": {
    "execution": {
     "iopub.execute_input": "2024-10-23T21:07:50.203825Z",
     "iopub.status.busy": "2024-10-23T21:07:50.202697Z",
     "iopub.status.idle": "2024-10-23T21:07:50.217017Z",
     "shell.execute_reply": "2024-10-23T21:07:50.215871Z"
    },
    "papermill": {
     "duration": 0.083802,
     "end_time": "2024-10-23T21:07:50.219471",
     "exception": false,
     "start_time": "2024-10-23T21:07:50.135669",
     "status": "completed"
    },
    "tags": []
   },
   "outputs": [],
   "source": [
    "def calculate_and_plot_metrics(X_train, y_train, X_val_scaled, y_val, X_test_scaled, y_test, title):\n",
    "\n",
    "    history=model.fit(X_train_scaled, y_train,  epochs=250,validation_data=(X_val_scaled, y_val),callbacks=[early_stopping])\n",
    "\n",
    "    y_pred = model.predict(X_test_scaled)\n",
    "\n",
    "    # Calculate metrics\n",
    "    def calculate_metrics(y_true, y_pred):\n",
    "        accuracy = accuracy_score(y_true, y_pred)\n",
    "        f1 = f1_score(y_true, y_pred, average='weighted')\n",
    "        precision = precision_score(y_true, y_pred, average='weighted', zero_division=1)\n",
    "        recall = recall_score(y_true, y_pred, average='weighted')\n",
    "        roc_auc=roc_auc_score(y_true, y_pred)\n",
    "        return accuracy, f1, precision, recall, roc_auc\n",
    "\n",
    "    y_preds=[]\n",
    "    for i in y_pred:\n",
    "        if i>.5:\n",
    "            y_preds.append(1)\n",
    "        else:\n",
    "            y_preds.append(0)\n",
    " \n",
    "    # Metrics for MLP\n",
    "    accuracy_mlp, f1_mlp, precision_mlp, recall_mlp, roc = calculate_metrics(y_test, y_preds)\n",
    "\n",
    "\n",
    "    fig, axes = plt.subplots(1, 2, figsize=(7, 4))\n",
    "\n",
    "    # Confusion Matrix and Visualization \n",
    "    cm_mlp = confusion_matrix(y_test, y_preds)\n",
    "    disp_mlp = ConfusionMatrixDisplay(confusion_matrix=cm_mlp)\n",
    "    disp_mlp.plot(cmap='viridis', values_format='d', ax=axes[0])\n",
    "    axes[0].set_title(\"MLP Confusion Matrix\")\n",
    "\n",
    "    # Loss Curve \n",
    "    loss_values = history.history['loss']\n",
    "    epochs = range(1, len(loss_values)+1)\n",
    "\n",
    "    axes[1].plot(epochs, loss_values, label='Training Loss')\n",
    "    axes[1].set_xlabel('Epochs')\n",
    "    axes[1].set_ylabel('Loss')\n",
    "\n",
    " \n",
    "\n",
    "    plt.suptitle(title)\n",
    "    plt.tight_layout()\n",
    "    plt.show()\n",
    "\n",
    "    return accuracy_mlp, f1_mlp, precision_mlp, recall_mlp, roc"
   ]
  },
  {
   "cell_type": "code",
   "execution_count": 69,
   "id": "3ea66c94",
   "metadata": {
    "execution": {
     "iopub.execute_input": "2024-10-23T21:07:50.354406Z",
     "iopub.status.busy": "2024-10-23T21:07:50.353330Z",
     "iopub.status.idle": "2024-10-23T21:07:50.360086Z",
     "shell.execute_reply": "2024-10-23T21:07:50.359119Z"
    },
    "papermill": {
     "duration": 0.076818,
     "end_time": "2024-10-23T21:07:50.362408",
     "exception": false,
     "start_time": "2024-10-23T21:07:50.285590",
     "status": "completed"
    },
    "tags": []
   },
   "outputs": [],
   "source": [
    "\n",
    "#accuracy1_mlp, f1_1_mlp, precision1_mlp, recall1_mlp, roc = calculate_and_plot_metrics(X_train_scaled, y_train, X_val_scaled, y_val,X_test_scaled, y_test, \"Pass Probability Keras MLP\")\n",
    "\n",
    "\n",
    "#print(f\"Accuracy: {accuracy1_mlp:.4f}\\nF1 Score: {f1_1_mlp:.4f}\\nPrecision: {precision1_mlp:.4f}\\nRecall: {recall1_mlp:.4f}\\nROC AUC: {roc:.4f}\\n\")\n",
    "\n",
    "\n"
   ]
  },
  {
   "cell_type": "code",
   "execution_count": 70,
   "id": "36db30d1",
   "metadata": {
    "execution": {
     "iopub.execute_input": "2024-10-23T21:07:50.500925Z",
     "iopub.status.busy": "2024-10-23T21:07:50.499661Z",
     "iopub.status.idle": "2024-10-23T21:07:50.511267Z",
     "shell.execute_reply": "2024-10-23T21:07:50.510004Z"
    },
    "papermill": {
     "duration": 0.084706,
     "end_time": "2024-10-23T21:07:50.514165",
     "exception": false,
     "start_time": "2024-10-23T21:07:50.429459",
     "status": "completed"
    },
    "tags": []
   },
   "outputs": [],
   "source": [
    "from tensorflow.keras.utils import plot_model\n",
    "# Plot the model\n",
    "#plot_model(model, to_file='model.png', show_shapes=True, show_layer_names=True)"
   ]
  },
  {
   "cell_type": "code",
   "execution_count": null,
   "id": "7d5734d8",
   "metadata": {
    "papermill": {
     "duration": 0.066045,
     "end_time": "2024-10-23T21:07:50.647300",
     "exception": false,
     "start_time": "2024-10-23T21:07:50.581255",
     "status": "completed"
    },
    "tags": []
   },
   "outputs": [],
   "source": []
  },
  {
   "cell_type": "code",
   "execution_count": null,
   "id": "c0e112e8",
   "metadata": {
    "papermill": {
     "duration": 0.066382,
     "end_time": "2024-10-23T21:07:50.780069",
     "exception": false,
     "start_time": "2024-10-23T21:07:50.713687",
     "status": "completed"
    },
    "tags": []
   },
   "outputs": [],
   "source": []
  },
  {
   "cell_type": "code",
   "execution_count": null,
   "id": "427d5e0f",
   "metadata": {
    "papermill": {
     "duration": 0.06649,
     "end_time": "2024-10-23T21:07:50.914035",
     "exception": false,
     "start_time": "2024-10-23T21:07:50.847545",
     "status": "completed"
    },
    "tags": []
   },
   "outputs": [],
   "source": []
  },
  {
   "cell_type": "code",
   "execution_count": null,
   "id": "e7ff600c",
   "metadata": {
    "papermill": {
     "duration": 0.066197,
     "end_time": "2024-10-23T21:07:51.047125",
     "exception": false,
     "start_time": "2024-10-23T21:07:50.980928",
     "status": "completed"
    },
    "tags": []
   },
   "outputs": [],
   "source": []
  },
  {
   "cell_type": "code",
   "execution_count": null,
   "id": "e744f75d",
   "metadata": {
    "papermill": {
     "duration": 0.066072,
     "end_time": "2024-10-23T21:07:51.179880",
     "exception": false,
     "start_time": "2024-10-23T21:07:51.113808",
     "status": "completed"
    },
    "tags": []
   },
   "outputs": [],
   "source": []
  },
  {
   "cell_type": "code",
   "execution_count": null,
   "id": "481008e8",
   "metadata": {
    "papermill": {
     "duration": 0.066305,
     "end_time": "2024-10-23T21:07:51.312704",
     "exception": false,
     "start_time": "2024-10-23T21:07:51.246399",
     "status": "completed"
    },
    "tags": []
   },
   "outputs": [],
   "source": []
  },
  {
   "cell_type": "code",
   "execution_count": null,
   "id": "d6560ae2",
   "metadata": {
    "papermill": {
     "duration": 0.068281,
     "end_time": "2024-10-23T21:07:51.447289",
     "exception": false,
     "start_time": "2024-10-23T21:07:51.379008",
     "status": "completed"
    },
    "tags": []
   },
   "outputs": [],
   "source": []
  },
  {
   "cell_type": "code",
   "execution_count": null,
   "id": "f3925ee8",
   "metadata": {
    "papermill": {
     "duration": 0.066485,
     "end_time": "2024-10-23T21:07:51.581940",
     "exception": false,
     "start_time": "2024-10-23T21:07:51.515455",
     "status": "completed"
    },
    "tags": []
   },
   "outputs": [],
   "source": []
  },
  {
   "cell_type": "code",
   "execution_count": null,
   "id": "2ac1018d",
   "metadata": {
    "papermill": {
     "duration": 0.066321,
     "end_time": "2024-10-23T21:07:51.715670",
     "exception": false,
     "start_time": "2024-10-23T21:07:51.649349",
     "status": "completed"
    },
    "tags": []
   },
   "outputs": [],
   "source": []
  },
  {
   "cell_type": "code",
   "execution_count": null,
   "id": "289d4c7c",
   "metadata": {
    "papermill": {
     "duration": 0.067935,
     "end_time": "2024-10-23T21:07:51.850120",
     "exception": false,
     "start_time": "2024-10-23T21:07:51.782185",
     "status": "completed"
    },
    "tags": []
   },
   "outputs": [],
   "source": []
  },
  {
   "cell_type": "code",
   "execution_count": null,
   "id": "951c5b82",
   "metadata": {
    "papermill": {
     "duration": 0.070879,
     "end_time": "2024-10-23T21:07:51.988003",
     "exception": false,
     "start_time": "2024-10-23T21:07:51.917124",
     "status": "completed"
    },
    "tags": []
   },
   "outputs": [],
   "source": []
  },
  {
   "cell_type": "code",
   "execution_count": null,
   "id": "93107ddc",
   "metadata": {
    "papermill": {
     "duration": 0.085657,
     "end_time": "2024-10-23T21:07:52.141852",
     "exception": false,
     "start_time": "2024-10-23T21:07:52.056195",
     "status": "completed"
    },
    "tags": []
   },
   "outputs": [],
   "source": []
  },
  {
   "cell_type": "code",
   "execution_count": null,
   "id": "913e40c3",
   "metadata": {
    "papermill": {
     "duration": 0.066225,
     "end_time": "2024-10-23T21:07:52.274424",
     "exception": false,
     "start_time": "2024-10-23T21:07:52.208199",
     "status": "completed"
    },
    "tags": []
   },
   "outputs": [],
   "source": []
  },
  {
   "cell_type": "code",
   "execution_count": null,
   "id": "43c398c3",
   "metadata": {
    "papermill": {
     "duration": 0.067412,
     "end_time": "2024-10-23T21:07:52.408414",
     "exception": false,
     "start_time": "2024-10-23T21:07:52.341002",
     "status": "completed"
    },
    "tags": []
   },
   "outputs": [],
   "source": []
  }
 ],
 "metadata": {
  "kaggle": {
   "accelerator": "none",
   "dataSources": [
    {
     "databundleVersionId": 9816926,
     "sourceId": 84175,
     "sourceType": "competition"
    },
    {
     "datasetId": 5923250,
     "sourceId": 9695940,
     "sourceType": "datasetVersion"
    }
   ],
   "dockerImageVersionId": 30786,
   "isGpuEnabled": false,
   "isInternetEnabled": true,
   "language": "python",
   "sourceType": "notebook"
  },
  "kernelspec": {
   "display_name": "bdb2025-env",
   "language": "python",
   "name": "python3"
  },
  "language_info": {
   "codemirror_mode": {
    "name": "ipython",
    "version": 3
   },
   "file_extension": ".py",
   "mimetype": "text/x-python",
   "name": "python",
   "nbconvert_exporter": "python",
   "pygments_lexer": "ipython3",
   "version": "3.9.20"
  },
  "papermill": {
   "default_parameters": {},
   "duration": 1043.180115,
   "end_time": "2024-10-23T21:07:55.826610",
   "environment_variables": {},
   "exception": null,
   "input_path": "__notebook__.ipynb",
   "output_path": "__notebook__.ipynb",
   "parameters": {},
   "start_time": "2024-10-23T20:50:32.646495",
   "version": "2.6.0"
  }
 },
 "nbformat": 4,
 "nbformat_minor": 5
}
