{
 "cells": [
  {
   "cell_type": "markdown",
   "metadata": {
    "_cell_guid": "ca4de625-c4c2-4994-8fe9-b7c47d8f2183",
    "_uuid": "dc43c89e-37a6-4063-8380-ac560ba5822c",
    "trusted": true
   },
   "source": [
    "## Part 1: \n",
    "Load data, clean, and save aggregate data"
   ]
  },
  {
   "cell_type": "code",
   "execution_count": null,
   "metadata": {},
   "outputs": [],
   "source": [
    "import pandas as pd \n",
    "import os\n",
    "import numpy as np\n",
    "from data_cleaning import change_columns_types\n",
    "from data_loading import aggregate_data\n",
    "from sklearn.metrics import roc_auc_score, accuracy_score, confusion_matrix, ConfusionMatrixDisplay\n",
    "\n",
    "#immport necessary libraries and filter warnings\n",
    "import warnings\n",
    "\n",
    "\n",
    "from sklearn.dummy import DummyClassifier\n",
    "from sklearn.model_selection import StratifiedKFold\n",
    "from sklearn.preprocessing import MinMaxScaler\n",
    "from sklearn.pipeline import Pipeline\n",
    "from catboost import CatBoostClassifier\n",
    "from lightgbm import LGBMClassifier\n",
    "import matplotlib.pyplot as plt\n",
    "import nfl_data_py as nfl\n",
    "from sklearn.impute import SimpleImputer\n",
    "from utility_db_25 import mark_columns, TrainML, build_catboost, optuna_call, test_ML, build_transformer, get_momentum_cols, create_momentum_index, get_final_features, get_motion_cols, motion_complexity_score\n",
    "from team_logos import graph_run_pass, get_logo_df, load_previous_year_passruns\n",
    "warnings.filterwarnings(\"ignore\")"
   ]
  },
  {
   "cell_type": "code",
   "execution_count": null,
   "metadata": {},
   "outputs": [],
   "source": [
    "graph_run_pass()"
   ]
  },
  {
   "cell_type": "code",
   "execution_count": null,
   "metadata": {
    "execution": {
     "iopub.execute_input": "2024-10-24T13:30:05.864493Z",
     "iopub.status.busy": "2024-10-24T13:30:05.863841Z",
     "iopub.status.idle": "2024-10-24T13:39:21.533653Z",
     "shell.execute_reply": "2024-10-24T13:39:21.532376Z",
     "shell.execute_reply.started": "2024-10-24T13:30:05.864436Z"
    },
    "trusted": true
   },
   "outputs": [],
   "source": [
    "root_dir = os.getcwd()\n",
    "\n",
    "load_saved_data = True   # if you change this to true you can load presaved data\n",
    "\n",
    "if not load_saved_data: \n",
    "    games_fname= os.path.join(root_dir, \"data/games.csv\")\n",
    "    plays_fname = os.path.join(root_dir,  \"data/plays.csv\")\n",
    "    players_fname = os.path.join(root_dir,  \"data/players.csv\")\n",
    "    player_plays_fname = os.path.join(root_dir,  \"data/player_play.csv\")\n",
    "    c21_fname = os.path.join(root_dir, 'data_21/cov_21.csv')\n",
    "    pr21_fname = os.path.join(root_dir, 'data_21/team_pr_21.csv')\n",
    "    xp_fname = os.path.join(root_dir, \"data/team_xpass_ratios.csv\")\n",
    "    pr_fname = os.path.join(root_dir, \"data/team_pass_rates.csv\")\n",
    "    cf_fname = os.path.join(root_dir, \"data/coverages_faced.csv\")\n",
    "    cu_fname = os.path.join(root_dir, 'data/coverages_used.csv')\n",
    "    inj_fname = os.path.join(root_dir, 'data/snaps_lost_injury.csv')\n",
    "    qbr_fname = os.path.join(root_dir, 'data/qbr_data.csv')\n",
    "    tracking_fname_list_train = [os.path.join(root_dir,  f\"data/tracking_week_{i}.csv\") for i in range(1,9)] #weeks 1-8 are training data\n",
    "    tracking_fname_list_test = [os.path.join(root_dir,  \"data/tracking_week_9.csv\")] #week 9 is test data\n",
    "    train_data=aggregate_data(plays_fname, player_plays_fname, players_fname, tracking_fname_list_train, games_fname, xp_fname, pr_fname, cu_fname,inj_fname, c21_fname, pr21_fname, qbr_fname,'train')\n",
    "    train_data.to_csv(os.path.join(root_dir, \"data/train_data.csv\"), index=False)\n",
    "    test_data=aggregate_data(plays_fname, player_plays_fname, players_fname, tracking_fname_list_test, games_fname, xp_fname, pr_fname, cu_fname,inj_fname, c21_fname, pr21_fname, qbr_fname, 'test')\n",
    "    test_data.to_csv(os.path.join(root_dir, \"data/test_data.csv\"), index=False)\n",
    "else:\n",
    "    train_data=pd.read_csv(os.path.join(root_dir, \"data/train_data.csv\"))\n",
    "    test_data=pd.read_csv(os.path.join(root_dir, \"data/test_data.csv\"))\n",
    "print('train colums: ', len(train_data.columns))\n",
    "print('test colums: ', len(test_data.columns))"
   ]
  },
  {
   "cell_type": "code",
   "execution_count": null,
   "metadata": {},
   "outputs": [],
   "source": [
    "[x for x in test_data.columns if '_def' in x and x is not 'n_defense_box' and x is not 'pass_rate_def']"
   ]
  },
  {
   "cell_type": "code",
   "execution_count": null,
   "metadata": {
    "trusted": true
   },
   "outputs": [],
   "source": [
    "include_columns=test_data.columns\n",
    "train_data=train_data[include_columns]\n"
   ]
  },
  {
   "cell_type": "code",
   "execution_count": null,
   "metadata": {},
   "outputs": [],
   "source": [
    "\n",
    "momentum_cols=get_momentum_cols(train_data.columns)\n",
    "\n",
    "train_data=create_momentum_index(train_data, momentum_cols)\n",
    "test_data=create_momentum_index(test_data, momentum_cols)\n",
    "motion_cols=get_motion_cols(train_data.columns)\n",
    "train_data=motion_complexity_score(train_data, motion_cols)\n",
    "test_data=motion_complexity_score(test_data, motion_cols)\n",
    "\n",
    "\n"
   ]
  },
  {
   "cell_type": "markdown",
   "metadata": {
    "_cell_guid": "142bb96f-2c16-4287-9f12-0eeafc8857cd",
    "_uuid": "d202e5d2-3914-47bd-8166-c9e907e3d48f",
    "papermill": {
     "duration": 0.029976,
     "end_time": "2024-10-23T20:51:39.469433",
     "exception": false,
     "start_time": "2024-10-23T20:51:39.439457",
     "status": "completed"
    },
    "tags": [],
    "trusted": true
   },
   "source": [
    "## Goal: \n",
    "To predict pass attempts for each play with greater accuracy and precision than the baseline dummy classifier. The base rate is about 60%. We will look at the offensive players' tracking data, along with characteristics of the play including the offensive formation and receiver alignment."
   ]
  },
  {
   "cell_type": "markdown",
   "metadata": {
    "_cell_guid": "47e2769b-e8c4-4f61-8c91-578f700b4b70",
    "_uuid": "7c873111-ea76-4e54-be48-4a22aba47593",
    "papermill": {
     "duration": 0.029902,
     "end_time": "2024-10-23T20:51:39.529346",
     "exception": false,
     "start_time": "2024-10-23T20:51:39.499444",
     "status": "completed"
    },
    "tags": [],
    "trusted": true
   },
   "source": [
    "## General Strategy:\n",
    "1. Read all data\n",
    "2. Merge data\n",
    "3. Filter data for offensive players, plays not nullified by a penalty, and data before the snap\n",
    "4. Create a target variable 'pass' to indicate if a pass was attempted\n",
    "5. Feature engineering and feature selection\n",
    "6. Test baseline models\n",
    "7. Tune models"
   ]
  },
  {
   "cell_type": "code",
   "execution_count": null,
   "metadata": {
    "_cell_guid": "dd876d9d-230d-45f0-9a39-41f7cc6524db",
    "_uuid": "62fd22d3-0f34-4a2c-89e3-1b6be4210d43",
    "collapsed": false,
    "execution": {
     "iopub.execute_input": "2024-10-24T13:42:24.729256Z",
     "iopub.status.busy": "2024-10-24T13:42:24.728555Z",
     "iopub.status.idle": "2024-10-24T13:42:26.807924Z",
     "shell.execute_reply": "2024-10-24T13:42:26.805562Z",
     "shell.execute_reply.started": "2024-10-24T13:42:24.729197Z"
    },
    "jupyter": {
     "outputs_hidden": false
    },
    "papermill": {
     "duration": 0.270487,
     "end_time": "2024-10-23T20:59:47.738807",
     "exception": false,
     "start_time": "2024-10-23T20:59:47.468320",
     "status": "completed"
    },
    "tags": [],
    "trusted": true
   },
   "outputs": [],
   "source": [
    "\n",
    "for col in train_data.columns: \n",
    "    if round((train_data[col].isna().sum() /len(train_data)*100), 2)>75:\n",
    "        train_data.drop(columns=col, inplace=True)\n",
    "    elif round((train_data[col].isna().sum() /len(train_data)*100), 2)>0:\n",
    "        print(col,round((train_data[col].isna().sum() /len(train_data)*100), 2), '% missing')\n",
    "    else: \n",
    "        print(col)"
   ]
  },
  {
   "cell_type": "code",
   "execution_count": null,
   "metadata": {
    "execution": {
     "iopub.execute_input": "2024-10-24T13:42:54.351778Z",
     "iopub.status.busy": "2024-10-24T13:42:54.351323Z",
     "iopub.status.idle": "2024-10-24T13:42:54.360338Z",
     "shell.execute_reply": "2024-10-24T13:42:54.358702Z",
     "shell.execute_reply.started": "2024-10-24T13:42:54.351741Z"
    },
    "trusted": true
   },
   "outputs": [],
   "source": [
    "len(train_data.columns)"
   ]
  },
  {
   "cell_type": "code",
   "execution_count": null,
   "metadata": {
    "_cell_guid": "5a828d18-5552-4fd0-8a4a-c3451a2b7c7d",
    "_uuid": "5c3e3c4a-edf5-40cf-9c9c-64d2f11f7983",
    "collapsed": false,
    "jupyter": {
     "outputs_hidden": false
    },
    "papermill": {
     "duration": 0.077278,
     "end_time": "2024-10-23T20:59:57.192987",
     "exception": false,
     "start_time": "2024-10-23T20:59:57.115709",
     "status": "completed"
    },
    "tags": [],
    "trusted": true
   },
   "outputs": [],
   "source": [
    "train_data=change_columns_types(train_data)\n",
    "test_data=change_columns_types(test_data)"
   ]
  },
  {
   "cell_type": "code",
   "execution_count": null,
   "metadata": {
    "_cell_guid": "ef99573e-4db1-4bcc-9479-90f9b4ece9d6",
    "_uuid": "d85c6f17-397a-4bf5-8cc4-06ce8435ee29",
    "collapsed": false,
    "jupyter": {
     "outputs_hidden": false
    },
    "papermill": {
     "duration": 0.042404,
     "end_time": "2024-10-23T21:00:07.269945",
     "exception": false,
     "start_time": "2024-10-23T21:00:07.227541",
     "status": "completed"
    },
    "tags": [],
    "trusted": true
   },
   "outputs": [],
   "source": [
    "final_features=get_final_features(train_data,threshold=.5,trim_rows=0)"
   ]
  },
  {
   "cell_type": "code",
   "execution_count": null,
   "metadata": {},
   "outputs": [],
   "source": [
    "numeric_columns, cat_columns = mark_columns(df=train_data,features=final_features, nc=None,cc = None)"
   ]
  },
  {
   "cell_type": "code",
   "execution_count": null,
   "metadata": {
    "_cell_guid": "1c15a841-de4b-4725-af32-6ff034eddf49",
    "_uuid": "b79e9cb4-a372-461c-a688-68aa129f57a0",
    "collapsed": false,
    "jupyter": {
     "outputs_hidden": false
    },
    "papermill": {
     "duration": 3.080152,
     "end_time": "2024-10-23T21:00:10.628865",
     "exception": false,
     "start_time": "2024-10-23T21:00:07.548713",
     "status": "completed"
    },
    "tags": [],
    "trusted": true
   },
   "outputs": [],
   "source": [
    "#!pip install seaborn\n",
    "import matplotlib.pyplot as plt\n",
    "import seaborn as sns\n",
    "plt.figure(figsize=(5,27))\n",
    "plt.title('Correlation Heatmap of Features', size=15)\n",
    "\n",
    "sns.heatmap(train_data[final_features].corr()[['pass']],linewidths=0.1,vmax=1.0,  linecolor='white', annot=True)"
   ]
  },
  {
   "cell_type": "code",
   "execution_count": null,
   "metadata": {
    "_cell_guid": "019ef0a7-f43e-4a7f-8e38-83ddede39631",
    "_uuid": "11bab5fb-f6f2-4151-aee1-ff849d33b665",
    "collapsed": false,
    "jupyter": {
     "outputs_hidden": false
    },
    "papermill": {
     "duration": 0.062993,
     "end_time": "2024-10-23T21:00:10.732534",
     "exception": false,
     "start_time": "2024-10-23T21:00:10.669541",
     "status": "completed"
    },
    "tags": [],
    "trusted": true
   },
   "outputs": [],
   "source": [
    "# Create an imputer object with mean strategy\n",
    "#imputer = SimpleImputer(strategy='mean')\n",
    "from sklearn.compose import ColumnTransformer\n",
    "\n",
    "# Fit and transform the data\n",
    "#merged_pivot[numeric_columns] = imputer.fit_transform(merged_pivot[numeric_columns])\n",
    "imputer = SimpleImputer(missing_values = np.nan,strategy='mean')\n",
    "transformer = ColumnTransformer(\n",
    "    transformers=[('imputer', imputer, numeric_columns),('scaler', MinMaxScaler(), numeric_columns)\n",
    "    ],\n",
    "    remainder='passthrough'  # Pass through columns not specified\n",
    ")"
   ]
  },
  {
   "cell_type": "code",
   "execution_count": null,
   "metadata": {
    "_cell_guid": "41aeb6ad-484a-4b67-b716-cd9e099fef0a",
    "_uuid": "f172f6cf-f378-4359-8ec5-e5c54336c7cc",
    "collapsed": false,
    "jupyter": {
     "outputs_hidden": false
    },
    "papermill": {
     "duration": 0.068246,
     "end_time": "2024-10-23T21:00:10.840405",
     "exception": false,
     "start_time": "2024-10-23T21:00:10.772159",
     "status": "completed"
    },
    "tags": [],
    "trusted": true
   },
   "outputs": [],
   "source": [
    "#create a function to train ML models and return ROC_AUC and accuracy scores\n",
    "SEED=42\n",
    "n_splits=5\n",
    "#X=merged_pivot[selected_features]\n",
    "X=train_data[final_features].drop(columns='pass')\n",
    "\n",
    "y=train_data['pass']"
   ]
  },
  {
   "cell_type": "code",
   "execution_count": null,
   "metadata": {
    "_cell_guid": "b25deeb9-666e-42cf-b209-a46e3ebd9b1c",
    "_uuid": "08d94ead-3d0a-47d1-a665-13e3edd60455",
    "collapsed": false,
    "jupyter": {
     "outputs_hidden": false
    },
    "papermill": {
     "duration": 0.864717,
     "end_time": "2024-10-23T21:00:11.744938",
     "exception": false,
     "start_time": "2024-10-23T21:00:10.880221",
     "status": "completed"
    },
    "tags": [],
    "trusted": true
   },
   "outputs": [],
   "source": [
    "#get baseline value from dummy classifier\n",
    "dummypipeline=Pipeline([('tr', transformer), ('dummy', DummyClassifier(strategy=\"most_frequent\"))], verbose = True)\n",
    "TrainML(dummypipeline,X, y, n_splits,SEED)"
   ]
  },
  {
   "cell_type": "code",
   "execution_count": null,
   "metadata": {
    "_cell_guid": "819b3670-03e8-4508-9a35-23348525f934",
    "_uuid": "9fe99f09-e4bb-4b0f-9860-6e959f40af51",
    "collapsed": false,
    "jupyter": {
     "outputs_hidden": false
    },
    "papermill": {
     "duration": 14.726664,
     "end_time": "2024-10-23T21:00:26.511883",
     "exception": false,
     "start_time": "2024-10-23T21:00:11.785219",
     "status": "completed"
    },
    "tags": [],
    "trusted": true
   },
   "outputs": [],
   "source": [
    "#lgbm classifier\n",
    "pipeline=Pipeline([('tr', transformer), ('lgbm', LGBMClassifier(verbosity=-1))], verbose = True)\n",
    "lgb = LGBMClassifier(verbosity=-1,seed=42).fit(X,y)\n",
    "TrainML(pipeline,X, y,n_splits,SEED)"
   ]
  },
  {
   "cell_type": "code",
   "execution_count": null,
   "metadata": {
    "_cell_guid": "a3753b74-ae8d-4d7f-abd9-2b97a6201dd2",
    "_uuid": "9443fd0e-e075-4a8a-b196-878267ecd2cf",
    "collapsed": false,
    "jupyter": {
     "outputs_hidden": false
    },
    "papermill": {
     "duration": 0.053897,
     "end_time": "2024-10-23T21:02:22.044655",
     "exception": false,
     "start_time": "2024-10-23T21:02:21.990758",
     "status": "completed"
    },
    "tags": [],
    "trusted": true
   },
   "outputs": [],
   "source": [
    "final_features.remove('pass')"
   ]
  },
  {
   "cell_type": "code",
   "execution_count": null,
   "metadata": {
    "_cell_guid": "a08a86b4-b4b5-4722-afb8-a6dbfe4b20e2",
    "_uuid": "4f369e3a-e0ad-48eb-9751-4f4de89667e4",
    "collapsed": false,
    "jupyter": {
     "outputs_hidden": false
    },
    "papermill": {
     "duration": 0.841359,
     "end_time": "2024-10-23T21:02:23.233113",
     "exception": false,
     "start_time": "2024-10-23T21:02:22.391754",
     "status": "completed"
    },
    "tags": [],
    "trusted": true
   },
   "outputs": [],
   "source": [
    "from catboost import  Pool, MetricVisualizer\n",
    "import ipywidgets as widgets\n",
    "%matplotlib inline\n",
    "#need graphviz for this part and to add to path https://graphviz.org/download/\n",
    "\n",
    "# For explicitly displaying widgets\n",
    "from IPython.display import display\n",
    "import lightgbm\n",
    "\n",
    "\n",
    "lightgbm.plot_tree(lgb, tree_index=3,dpi=500,precision=1)\n",
    "#lightgbm.plot_tree(lgb, tree_index=1,dpi=300, ax=ax[1])"
   ]
  },
  {
   "cell_type": "code",
   "execution_count": null,
   "metadata": {
    "_cell_guid": "418aa1a0-5e40-47c3-81e1-30848766ed1d",
    "_uuid": "286fc127-5d0d-4cd4-ac90-a94905130613",
    "collapsed": false,
    "jupyter": {
     "outputs_hidden": false
    },
    "papermill": {
     "duration": 46.983635,
     "end_time": "2024-10-23T21:03:10.260533",
     "exception": false,
     "start_time": "2024-10-23T21:02:23.276898",
     "status": "completed"
    },
    "tags": [],
    "trusted": true
   },
   "outputs": [],
   "source": [
    "#import shap \n",
    "\n",
    "#shap_values = shap.TreeExplainer(lgb).shap_values(X)\n",
    "#shap_values = shap_values[:, :-1]\n",
    "#shap.summary_plot(shap_values, X, plot_type=\"bar\")"
   ]
  },
  {
   "cell_type": "code",
   "execution_count": null,
   "metadata": {
    "_cell_guid": "e1e51b6a-8a82-4600-9e86-d3821dc3e76b",
    "_uuid": "88c5c118-4d05-4837-9902-40be2568e40b",
    "collapsed": false,
    "jupyter": {
     "outputs_hidden": false
    },
    "papermill": {
     "duration": 5.157501,
     "end_time": "2024-10-23T21:03:15.462522",
     "exception": false,
     "start_time": "2024-10-23T21:03:10.305021",
     "status": "completed"
    },
    "tags": [],
    "trusted": true
   },
   "outputs": [],
   "source": [
    "#shap.summary_plot(shap_values, X)"
   ]
  },
  {
   "cell_type": "code",
   "execution_count": null,
   "metadata": {},
   "outputs": [],
   "source": [
    "final_numeric_columns, final_cat_columns = mark_columns(df=train_data,features=final_features, nc=numeric_columns,cc = cat_columns)"
   ]
  },
  {
   "cell_type": "code",
   "execution_count": null,
   "metadata": {
    "_cell_guid": "8acc0b50-cb65-447a-a30f-26420b2bd9b0",
    "_uuid": "c9255699-ed25-44b5-aa2d-c6e5ff636e2f",
    "collapsed": false,
    "jupyter": {
     "outputs_hidden": false
    },
    "papermill": {
     "duration": 0.076861,
     "end_time": "2024-10-23T21:04:16.466541",
     "exception": false,
     "start_time": "2024-10-23T21:04:16.389680",
     "status": "completed"
    },
    "tags": [],
    "trusted": true
   },
   "outputs": [],
   "source": [
    "from sklearn.compose import ColumnTransformer\n",
    "# Create a transformer\n",
    "imputer = SimpleImputer(missing_values=np.nan,strategy='mean')\n",
    "transformer = ColumnTransformer(\n",
    "    transformers=[('imputer', imputer, final_numeric_columns),\n",
    "        ('scaler', MinMaxScaler(), final_numeric_columns)\n",
    "    ],\n",
    "    remainder='passthrough'  # Pass through columns not specified\n",
    ")"
   ]
  },
  {
   "cell_type": "code",
   "execution_count": null,
   "metadata": {
    "_cell_guid": "0d66042f-9155-4dd3-b264-714d028ffe1f",
    "_uuid": "c8847989-5183-42e1-80aa-a280c26d31bf",
    "collapsed": false,
    "jupyter": {
     "outputs_hidden": false
    },
    "papermill": {
     "duration": 0.088941,
     "end_time": "2024-10-23T21:04:16.623080",
     "exception": false,
     "start_time": "2024-10-23T21:04:16.534139",
     "status": "completed"
    },
    "tags": [],
    "trusted": true
   },
   "outputs": [],
   "source": [
    "SKF = StratifiedKFold(n_splits=n_splits, shuffle=True, random_state=SEED)\n",
    "X=train_data[final_features]\n",
    "\n",
    "y=train_data['pass']\n",
    "# Define the helper function so that it can be reused\n",
    "\n",
    "#cat_params = optuna_call(transformer,X,y,SKF,n_trials=20)"
   ]
  },
  {
   "cell_type": "code",
   "execution_count": null,
   "metadata": {},
   "outputs": [],
   "source": [
    "transformer_impute = build_transformer(imputer,numeric_columns,kind='imputer')\n",
    "transformer_scale = build_transformer(imputer,numeric_columns,kind='scaler')"
   ]
  },
  {
   "cell_type": "code",
   "execution_count": null,
   "metadata": {},
   "outputs": [],
   "source": [
    "X_transform=transformer_impute.fit_transform(X)\n",
    "X_transform = pd.DataFrame(X_transform, columns=final_features)\n",
    "X_transform=transformer_scale.fit_transform(X_transform)\n",
    "X_transform = pd.DataFrame(X_transform, columns=final_features)"
   ]
  },
  {
   "cell_type": "code",
   "execution_count": null,
   "metadata": {},
   "outputs": [],
   "source": [
    "from sklearn.model_selection import GridSearchCV\n",
    "\n",
    "# Initialize an empty dictionary to store the best hyperparameters and their values\n",
    "best_hyperparameters = {}\n",
    "best_values = {}\n",
    " \n",
    "# Initialize the LightGBM classifier\n",
    "lgb_classifier = lightgbm.LGBMClassifier(force_col_wise=True, deterministic=True, random_state=42)\n",
    "\n",
    "# Define a range of values for the hyperparameters to search through\n",
    "param_grid = {\n",
    "    'boosting_type' : ['gbdt', 'dart'],\n",
    "    'num_leaves': [10, 20],\n",
    "    'learning_rate': [0.01, 0.05, 0.1],\n",
    "    'n_estimators': [50, 100, 125, 150],\n",
    "    'is_unbalance': [True],\n",
    "    'random_state': [42],\n",
    "    \"deterministic\": [True]\n",
    "}\n",
    " \n",
    "# Initialize GridSearchCV for hyperparameters\n",
    "grid_search = GridSearchCV(estimator=lgb_classifier, param_grid=param_grid,\n",
    "                           scoring='accuracy', cv=5)\n",
    " \n",
    "# Fit the model to the training data to search for the best hyperparameters\n",
    "#grid_search.fit(X_transform,y)\n",
    " \n",
    "# Get the best hyperparameters and their values\n",
    "#best_params = grid_search.best_params_\n",
    "#best_hyperparameters = list(best_params.keys())\n",
    "#best_values = list(best_params.values())"
   ]
  },
  {
   "cell_type": "code",
   "execution_count": null,
   "metadata": {},
   "outputs": [],
   "source": [
    "#best_params"
   ]
  },
  {
   "cell_type": "code",
   "execution_count": null,
   "metadata": {},
   "outputs": [],
   "source": [
    "best_params = {'boosting_type': 'gbdt',\n",
    " 'deterministic': True,\n",
    " 'is_unbalance': True,\n",
    " 'learning_rate': 0.05,\n",
    " 'n_estimators': 125,\n",
    " 'num_leaves': 20,\n",
    " 'random_state': 42}"
   ]
  },
  {
   "cell_type": "code",
   "execution_count": null,
   "metadata": {},
   "outputs": [],
   "source": [
    "train_data['pass'].value_counts()"
   ]
  },
  {
   "cell_type": "code",
   "execution_count": null,
   "metadata": {},
   "outputs": [],
   "source": [
    "# Train a LightGBM model with the best hyperparameters\n",
    "best_model = lightgbm.LGBMClassifier(**best_params)\n",
    "best_model.fit(X,y)"
   ]
  },
  {
   "cell_type": "code",
   "execution_count": null,
   "metadata": {},
   "outputs": [],
   "source": [
    "y_pred = best_model.predict(test_data[final_features])\n",
    "y_test = test_data['pass']"
   ]
  },
  {
   "cell_type": "code",
   "execution_count": null,
   "metadata": {},
   "outputs": [],
   "source": [
    "accuracy_score(y_test, y_pred)"
   ]
  },
  {
   "cell_type": "code",
   "execution_count": null,
   "metadata": {},
   "outputs": [],
   "source": [
    "test_ML(test_data, best_model,final_features,transformer_impute,transformer_scale)"
   ]
  },
  {
   "cell_type": "code",
   "execution_count": null,
   "metadata": {},
   "outputs": [],
   "source": []
  }
 ],
 "metadata": {
  "kaggle": {
   "accelerator": "none",
   "dataSources": [
    {
     "databundleVersionId": 9816926,
     "sourceId": 84175,
     "sourceType": "competition"
    },
    {
     "datasetId": 5923250,
     "sourceId": 9695940,
     "sourceType": "datasetVersion"
    },
    {
     "datasetId": 5937467,
     "sourceId": 9707807,
     "sourceType": "datasetVersion"
    },
    {
     "sourceId": 202962849,
     "sourceType": "kernelVersion"
    },
    {
     "sourceId": 202963466,
     "sourceType": "kernelVersion"
    }
   ],
   "dockerImageVersionId": 30786,
   "isGpuEnabled": false,
   "isInternetEnabled": true,
   "language": "python",
   "sourceType": "notebook"
  },
  "kernelspec": {
   "display_name": ".venv",
   "language": "python",
   "name": "python3"
  },
  "language_info": {
   "codemirror_mode": {
    "name": "ipython",
    "version": 3
   },
   "file_extension": ".py",
   "mimetype": "text/x-python",
   "name": "python",
   "nbconvert_exporter": "python",
   "pygments_lexer": "ipython3",
   "version": "3.9.15"
  },
  "papermill": {
   "default_parameters": {},
   "duration": 1043.180115,
   "end_time": "2024-10-23T21:07:55.826610",
   "environment_variables": {},
   "exception": null,
   "input_path": "__notebook__.ipynb",
   "output_path": "__notebook__.ipynb",
   "parameters": {},
   "start_time": "2024-10-23T20:50:32.646495",
   "version": "2.6.0"
  }
 },
 "nbformat": 4,
 "nbformat_minor": 4
}
