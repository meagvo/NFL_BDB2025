{
 "cells": [
  {
   "cell_type": "code",
   "execution_count": 37,
   "metadata": {},
   "outputs": [],
   "source": [
    "import pandas as pd\n",
    "import numpy as np\n",
    "import nfl_data_py as nfl"
   ]
  },
  {
   "cell_type": "markdown",
   "metadata": {},
   "source": [
    "# Proces team pass ratios\n",
    "\n",
    "We'll get to player-based expected pass ratios later, but first, we'll start with team data:"
   ]
  },
  {
   "cell_type": "code",
   "execution_count": 38,
   "metadata": {},
   "outputs": [],
   "source": [
    "snap_df = nfl.import_snap_counts([2021])"
   ]
  },
  {
   "cell_type": "code",
   "execution_count": 39,
   "metadata": {},
   "outputs": [
    {
     "name": "stdout",
     "output_type": "stream",
     "text": [
      "2021 done.\n",
      "Downcasting floats.\n"
     ]
    }
   ],
   "source": [
    "nfl_pre = nfl.import_pbp_data([2021])"
   ]
  },
  {
   "cell_type": "code",
   "execution_count": 40,
   "metadata": {},
   "outputs": [
    {
     "data": {
      "text/plain": [
       "0.0    26756\n",
       "1.0    23166\n",
       "Name: pass, dtype: int64"
      ]
     },
     "execution_count": 40,
     "metadata": {},
     "output_type": "execute_result"
    }
   ],
   "source": [
    "nfl_pre['pass'].value_counts()"
   ]
  },
  {
   "cell_type": "code",
   "execution_count": 41,
   "metadata": {},
   "outputs": [],
   "source": [
    "nfl_pbp = nfl_pre[(nfl_pre['play_type_nfl'] == 'RUSH') | (nfl_pre['play_type_nfl'] == 'PASS') ]"
   ]
  },
  {
   "cell_type": "code",
   "execution_count": 42,
   "metadata": {},
   "outputs": [
    {
     "data": {
      "text/plain": [
       "PASS    19158\n",
       "RUSH    15104\n",
       "Name: play_type_nfl, dtype: int64"
      ]
     },
     "execution_count": 42,
     "metadata": {},
     "output_type": "execute_result"
    }
   ],
   "source": [
    "nfl_pbp['play_type_nfl'].value_counts()"
   ]
  },
  {
   "cell_type": "code",
   "execution_count": 43,
   "metadata": {},
   "outputs": [],
   "source": [
    "snap_pbp = nfl_pbp[['posteam','defteam','pass']].copy()"
   ]
  },
  {
   "cell_type": "markdown",
   "metadata": {},
   "source": [
    "Aggregate pass rate on offense and defense for teams in 2021:"
   ]
  },
  {
   "cell_type": "code",
   "execution_count": 44,
   "metadata": {},
   "outputs": [],
   "source": [
    "pro_df = snap_pbp.groupby(['posteam']).agg(pass_ct=('pass','sum'),\n",
    "                                                     snap_ct=('pass','count')).reset_index()\n",
    "pro_df['pass_rate_off'] = pro_df['pass_ct']/pro_df['snap_ct']\n",
    "pro_df.drop(columns=['pass_ct','snap_ct'],inplace=True)"
   ]
  },
  {
   "cell_type": "code",
   "execution_count": 45,
   "metadata": {},
   "outputs": [],
   "source": [
    "prd_df = snap_pbp.groupby(['defteam']).agg(pass_ct=('pass','sum'),\n",
    "                                                     snap_ct=('pass','count')).reset_index()\n",
    "prd_df['pass_rate_def'] = prd_df['pass_ct']/prd_df['snap_ct']\n",
    "prd_df.drop(columns=['pass_ct','snap_ct'],inplace=True)"
   ]
  },
  {
   "cell_type": "code",
   "execution_count": 46,
   "metadata": {},
   "outputs": [],
   "source": [
    "team_pass_out = prd_df.merge(pro_df,how='left',left_on='defteam',right_on='posteam').drop(columns='posteam').rename(columns={'defteam':'possessionTeam'})"
   ]
  },
  {
   "cell_type": "code",
   "execution_count": 47,
   "metadata": {},
   "outputs": [
    {
     "data": {
      "text/html": [
       "<div>\n",
       "<style scoped>\n",
       "    .dataframe tbody tr th:only-of-type {\n",
       "        vertical-align: middle;\n",
       "    }\n",
       "\n",
       "    .dataframe tbody tr th {\n",
       "        vertical-align: top;\n",
       "    }\n",
       "\n",
       "    .dataframe thead th {\n",
       "        text-align: right;\n",
       "    }\n",
       "</style>\n",
       "<table border=\"1\" class=\"dataframe\">\n",
       "  <thead>\n",
       "    <tr style=\"text-align: right;\">\n",
       "      <th></th>\n",
       "      <th>possessionTeam</th>\n",
       "      <th>pass_rate_def</th>\n",
       "      <th>pass_rate_off</th>\n",
       "    </tr>\n",
       "  </thead>\n",
       "  <tbody>\n",
       "    <tr>\n",
       "      <th>29</th>\n",
       "      <td>TB</td>\n",
       "      <td>0.675629</td>\n",
       "      <td>0.659128</td>\n",
       "    </tr>\n",
       "    <tr>\n",
       "      <th>15</th>\n",
       "      <td>KC</td>\n",
       "      <td>0.624167</td>\n",
       "      <td>0.655253</td>\n",
       "    </tr>\n",
       "    <tr>\n",
       "      <th>17</th>\n",
       "      <td>LAC</td>\n",
       "      <td>0.544076</td>\n",
       "      <td>0.640408</td>\n",
       "    </tr>\n",
       "    <tr>\n",
       "      <th>14</th>\n",
       "      <td>JAX</td>\n",
       "      <td>0.547665</td>\n",
       "      <td>0.629857</td>\n",
       "    </tr>\n",
       "    <tr>\n",
       "      <th>24</th>\n",
       "      <td>NYJ</td>\n",
       "      <td>0.546279</td>\n",
       "      <td>0.625390</td>\n",
       "    </tr>\n",
       "    <tr>\n",
       "      <th>18</th>\n",
       "      <td>LV</td>\n",
       "      <td>0.591764</td>\n",
       "      <td>0.623971</td>\n",
       "    </tr>\n",
       "    <tr>\n",
       "      <th>26</th>\n",
       "      <td>PIT</td>\n",
       "      <td>0.561372</td>\n",
       "      <td>0.620231</td>\n",
       "    </tr>\n",
       "    <tr>\n",
       "      <th>3</th>\n",
       "      <td>BUF</td>\n",
       "      <td>0.585343</td>\n",
       "      <td>0.619126</td>\n",
       "    </tr>\n",
       "    <tr>\n",
       "      <th>23</th>\n",
       "      <td>NYG</td>\n",
       "      <td>0.565378</td>\n",
       "      <td>0.607071</td>\n",
       "    </tr>\n",
       "    <tr>\n",
       "      <th>19</th>\n",
       "      <td>MIA</td>\n",
       "      <td>0.597837</td>\n",
       "      <td>0.605187</td>\n",
       "    </tr>\n",
       "    <tr>\n",
       "      <th>1</th>\n",
       "      <td>ATL</td>\n",
       "      <td>0.548059</td>\n",
       "      <td>0.603575</td>\n",
       "    </tr>\n",
       "    <tr>\n",
       "      <th>8</th>\n",
       "      <td>DAL</td>\n",
       "      <td>0.593488</td>\n",
       "      <td>0.597780</td>\n",
       "    </tr>\n",
       "    <tr>\n",
       "      <th>2</th>\n",
       "      <td>BAL</td>\n",
       "      <td>0.631206</td>\n",
       "      <td>0.595131</td>\n",
       "    </tr>\n",
       "    <tr>\n",
       "      <th>4</th>\n",
       "      <td>CAR</td>\n",
       "      <td>0.527068</td>\n",
       "      <td>0.588178</td>\n",
       "    </tr>\n",
       "    <tr>\n",
       "      <th>11</th>\n",
       "      <td>GB</td>\n",
       "      <td>0.625366</td>\n",
       "      <td>0.585569</td>\n",
       "    </tr>\n",
       "    <tr>\n",
       "      <th>16</th>\n",
       "      <td>LA</td>\n",
       "      <td>0.615627</td>\n",
       "      <td>0.585308</td>\n",
       "    </tr>\n",
       "    <tr>\n",
       "      <th>10</th>\n",
       "      <td>DET</td>\n",
       "      <td>0.534729</td>\n",
       "      <td>0.582418</td>\n",
       "    </tr>\n",
       "    <tr>\n",
       "      <th>6</th>\n",
       "      <td>CIN</td>\n",
       "      <td>0.627685</td>\n",
       "      <td>0.581954</td>\n",
       "    </tr>\n",
       "    <tr>\n",
       "      <th>12</th>\n",
       "      <td>HOU</td>\n",
       "      <td>0.520913</td>\n",
       "      <td>0.581493</td>\n",
       "    </tr>\n",
       "    <tr>\n",
       "      <th>20</th>\n",
       "      <td>MIN</td>\n",
       "      <td>0.589483</td>\n",
       "      <td>0.581418</td>\n",
       "    </tr>\n",
       "    <tr>\n",
       "      <th>5</th>\n",
       "      <td>CHI</td>\n",
       "      <td>0.508403</td>\n",
       "      <td>0.577889</td>\n",
       "    </tr>\n",
       "    <tr>\n",
       "      <th>0</th>\n",
       "      <td>ARI</td>\n",
       "      <td>0.573372</td>\n",
       "      <td>0.573464</td>\n",
       "    </tr>\n",
       "    <tr>\n",
       "      <th>27</th>\n",
       "      <td>SEA</td>\n",
       "      <td>0.582465</td>\n",
       "      <td>0.571111</td>\n",
       "    </tr>\n",
       "    <tr>\n",
       "      <th>31</th>\n",
       "      <td>WAS</td>\n",
       "      <td>0.605315</td>\n",
       "      <td>0.566337</td>\n",
       "    </tr>\n",
       "    <tr>\n",
       "      <th>9</th>\n",
       "      <td>DEN</td>\n",
       "      <td>0.586869</td>\n",
       "      <td>0.558943</td>\n",
       "    </tr>\n",
       "    <tr>\n",
       "      <th>7</th>\n",
       "      <td>CLE</td>\n",
       "      <td>0.581162</td>\n",
       "      <td>0.538928</td>\n",
       "    </tr>\n",
       "    <tr>\n",
       "      <th>21</th>\n",
       "      <td>NE</td>\n",
       "      <td>0.551357</td>\n",
       "      <td>0.536585</td>\n",
       "    </tr>\n",
       "    <tr>\n",
       "      <th>13</th>\n",
       "      <td>IND</td>\n",
       "      <td>0.611836</td>\n",
       "      <td>0.532609</td>\n",
       "    </tr>\n",
       "    <tr>\n",
       "      <th>25</th>\n",
       "      <td>PHI</td>\n",
       "      <td>0.577657</td>\n",
       "      <td>0.528440</td>\n",
       "    </tr>\n",
       "    <tr>\n",
       "      <th>22</th>\n",
       "      <td>NO</td>\n",
       "      <td>0.607000</td>\n",
       "      <td>0.525050</td>\n",
       "    </tr>\n",
       "    <tr>\n",
       "      <th>28</th>\n",
       "      <td>SF</td>\n",
       "      <td>0.589810</td>\n",
       "      <td>0.507347</td>\n",
       "    </tr>\n",
       "    <tr>\n",
       "      <th>30</th>\n",
       "      <td>TEN</td>\n",
       "      <td>0.656673</td>\n",
       "      <td>0.501340</td>\n",
       "    </tr>\n",
       "  </tbody>\n",
       "</table>\n",
       "</div>"
      ],
      "text/plain": [
       "   possessionTeam  pass_rate_def  pass_rate_off\n",
       "29             TB       0.675629       0.659128\n",
       "15             KC       0.624167       0.655253\n",
       "17            LAC       0.544076       0.640408\n",
       "14            JAX       0.547665       0.629857\n",
       "24            NYJ       0.546279       0.625390\n",
       "18             LV       0.591764       0.623971\n",
       "26            PIT       0.561372       0.620231\n",
       "3             BUF       0.585343       0.619126\n",
       "23            NYG       0.565378       0.607071\n",
       "19            MIA       0.597837       0.605187\n",
       "1             ATL       0.548059       0.603575\n",
       "8             DAL       0.593488       0.597780\n",
       "2             BAL       0.631206       0.595131\n",
       "4             CAR       0.527068       0.588178\n",
       "11             GB       0.625366       0.585569\n",
       "16             LA       0.615627       0.585308\n",
       "10            DET       0.534729       0.582418\n",
       "6             CIN       0.627685       0.581954\n",
       "12            HOU       0.520913       0.581493\n",
       "20            MIN       0.589483       0.581418\n",
       "5             CHI       0.508403       0.577889\n",
       "0             ARI       0.573372       0.573464\n",
       "27            SEA       0.582465       0.571111\n",
       "31            WAS       0.605315       0.566337\n",
       "9             DEN       0.586869       0.558943\n",
       "7             CLE       0.581162       0.538928\n",
       "21             NE       0.551357       0.536585\n",
       "13            IND       0.611836       0.532609\n",
       "25            PHI       0.577657       0.528440\n",
       "22             NO       0.607000       0.525050\n",
       "28             SF       0.589810       0.507347\n",
       "30            TEN       0.656673       0.501340"
      ]
     },
     "execution_count": 47,
     "metadata": {},
     "output_type": "execute_result"
    }
   ],
   "source": [
    "team_pass_out.sort_values(by='pass_rate_off',ascending=False)"
   ]
  },
  {
   "cell_type": "markdown",
   "metadata": {},
   "source": [
    "# Get xpass (player-weighted expected pass),\n",
    "\n",
    "missing players fillna w/mean"
   ]
  },
  {
   "cell_type": "code",
   "execution_count": 48,
   "metadata": {},
   "outputs": [
    {
     "name": "stderr",
     "output_type": "stream",
     "text": [
      "/var/folders/fk/5_q5cpbx31v2xnyhj_wnp48m0000gn/T/ipykernel_15081/3052267429.py:1: SettingWithCopyWarning: \n",
      "A value is trying to be set on a copy of a slice from a DataFrame.\n",
      "Try using .loc[row_indexer,col_indexer] = value instead\n",
      "\n",
      "See the caveats in the documentation: https://pandas.pydata.org/pandas-docs/stable/user_guide/indexing.html#returning-a-view-versus-a-copy\n",
      "  nfl_pbp['oid_ls'] = nfl_pbp['offense_players'].str.split(';',expand=False)\n",
      "/var/folders/fk/5_q5cpbx31v2xnyhj_wnp48m0000gn/T/ipykernel_15081/3052267429.py:2: SettingWithCopyWarning: \n",
      "A value is trying to be set on a copy of a slice from a DataFrame.\n",
      "Try using .loc[row_indexer,col_indexer] = value instead\n",
      "\n",
      "See the caveats in the documentation: https://pandas.pydata.org/pandas-docs/stable/user_guide/indexing.html#returning-a-view-versus-a-copy\n",
      "  nfl_pbp['did_ls'] = nfl_pbp['defense_players'].str.split(';',expand=False)\n"
     ]
    },
    {
     "data": {
      "text/plain": [
       "Series([], Name: oid_ls, dtype: int64)"
      ]
     },
     "execution_count": 48,
     "metadata": {},
     "output_type": "execute_result"
    }
   ],
   "source": [
    "nfl_pbp['oid_ls'] = nfl_pbp['offense_players'].str.split(';',expand=False)\n",
    "nfl_pbp['did_ls'] = nfl_pbp['defense_players'].str.split(';',expand=False)\n",
    "nfl_pbp[[len(x) == 1 for x in nfl_pbp['oid_ls']]]['oid_ls'].value_counts()"
   ]
  },
  {
   "cell_type": "markdown",
   "metadata": {},
   "source": [
    "### Offensive players"
   ]
  },
  {
   "cell_type": "code",
   "execution_count": 49,
   "metadata": {},
   "outputs": [],
   "source": [
    "# remove rows w/no ids, then explode each player id to own row\n",
    "off_pbp = nfl_pbp[[len(x) > 1 for x in nfl_pbp['oid_ls']]]\n",
    "off_exp = off_pbp.explode('oid_ls')\n",
    "\n",
    "#flag pass as 'dropback'\n",
    "off_exp['isDropback'] = 0\n",
    "off_exp.loc[off_exp['play_type'] =='pass', 'isDropback'] = 1\n",
    "\n",
    "# get each player's 2021 pass snaps vs overall snaps, on offense\n",
    "off_xp = off_exp.groupby(['oid_ls']).agg(pass_ct=('isDropback','sum'),\n",
    "                                                     snap_ct=('isDropback','count')).reset_index()"
   ]
  },
  {
   "cell_type": "code",
   "execution_count": 50,
   "metadata": {},
   "outputs": [
    {
     "data": {
      "text/plain": [
       "0"
      ]
     },
     "execution_count": 50,
     "metadata": {},
     "output_type": "execute_result"
    }
   ],
   "source": [
    "off_exp[['game_id','play_id','oid_ls']].duplicated().sum()"
   ]
  },
  {
   "cell_type": "code",
   "execution_count": 51,
   "metadata": {},
   "outputs": [
    {
     "data": {
      "text/html": [
       "<div>\n",
       "<style scoped>\n",
       "    .dataframe tbody tr th:only-of-type {\n",
       "        vertical-align: middle;\n",
       "    }\n",
       "\n",
       "    .dataframe tbody tr th {\n",
       "        vertical-align: top;\n",
       "    }\n",
       "\n",
       "    .dataframe thead th {\n",
       "        text-align: right;\n",
       "    }\n",
       "</style>\n",
       "<table border=\"1\" class=\"dataframe\">\n",
       "  <thead>\n",
       "    <tr style=\"text-align: right;\">\n",
       "      <th></th>\n",
       "      <th>oid_ls</th>\n",
       "      <th>pass_ct</th>\n",
       "      <th>snap_ct</th>\n",
       "    </tr>\n",
       "  </thead>\n",
       "  <tbody>\n",
       "    <tr>\n",
       "      <th>0</th>\n",
       "      <td>00-0019596</td>\n",
       "      <td>795</td>\n",
       "      <td>1197</td>\n",
       "    </tr>\n",
       "  </tbody>\n",
       "</table>\n",
       "</div>"
      ],
      "text/plain": [
       "       oid_ls  pass_ct  snap_ct\n",
       "0  00-0019596      795     1197"
      ]
     },
     "execution_count": 51,
     "metadata": {},
     "output_type": "execute_result"
    }
   ],
   "source": [
    "off_xp.head(1)"
   ]
  },
  {
   "cell_type": "markdown",
   "metadata": {},
   "source": [
    "### Rpeat for defensive players"
   ]
  },
  {
   "cell_type": "code",
   "execution_count": 52,
   "metadata": {},
   "outputs": [],
   "source": [
    "def_pbp = nfl_pbp[[len(x) > 1 for x in nfl_pbp['did_ls']]]\n",
    "def_exp = def_pbp.explode('did_ls')\n",
    "def_exp['isDropback'] = 0\n",
    "def_exp.loc[def_exp['play_type'] =='pass', 'isDropback'] = 1\n",
    "def_xp = def_exp.groupby(['did_ls']).agg(pass_ct=('isDropback','sum'),\n",
    "                                                     snap_ct=('isDropback','count')).reset_index()"
   ]
  },
  {
   "cell_type": "code",
   "execution_count": 53,
   "metadata": {},
   "outputs": [
    {
     "data": {
      "text/html": [
       "<div>\n",
       "<style scoped>\n",
       "    .dataframe tbody tr th:only-of-type {\n",
       "        vertical-align: middle;\n",
       "    }\n",
       "\n",
       "    .dataframe tbody tr th {\n",
       "        vertical-align: top;\n",
       "    }\n",
       "\n",
       "    .dataframe thead th {\n",
       "        text-align: right;\n",
       "    }\n",
       "</style>\n",
       "<table border=\"1\" class=\"dataframe\">\n",
       "  <thead>\n",
       "    <tr style=\"text-align: right;\">\n",
       "      <th></th>\n",
       "      <th>did_ls</th>\n",
       "      <th>pass_ct</th>\n",
       "      <th>snap_ct</th>\n",
       "    </tr>\n",
       "  </thead>\n",
       "  <tbody>\n",
       "    <tr>\n",
       "      <th>0</th>\n",
       "      <td>00-0025424</td>\n",
       "      <td>123</td>\n",
       "      <td>174</td>\n",
       "    </tr>\n",
       "    <tr>\n",
       "      <th>1</th>\n",
       "      <td>00-0026190</td>\n",
       "      <td>357</td>\n",
       "      <td>554</td>\n",
       "    </tr>\n",
       "  </tbody>\n",
       "</table>\n",
       "</div>"
      ],
      "text/plain": [
       "       did_ls  pass_ct  snap_ct\n",
       "0  00-0025424      123      174\n",
       "1  00-0026190      357      554"
      ]
     },
     "execution_count": 53,
     "metadata": {},
     "output_type": "execute_result"
    }
   ],
   "source": [
    "def_xp.head(2)"
   ]
  },
  {
   "cell_type": "markdown",
   "metadata": {},
   "source": [
    "### Reconcile ID's, get names\n",
    "\n",
    "We want names for our players as keys to merge into big data bowl data. To do this, we perform a series of merges."
   ]
  },
  {
   "cell_type": "code",
   "execution_count": 54,
   "metadata": {},
   "outputs": [],
   "source": [
    "id_pre = nfl.import_ids()\n",
    "id_df = id_pre[['gsis_id','pfr_id']]"
   ]
  },
  {
   "cell_type": "code",
   "execution_count": 55,
   "metadata": {},
   "outputs": [],
   "source": [
    "# pfr_id is our common key\n",
    "snap_names = snap_df[['pfr_player_id','player','position']]"
   ]
  },
  {
   "cell_type": "code",
   "execution_count": 56,
   "metadata": {},
   "outputs": [
    {
     "data": {
      "text/html": [
       "<div>\n",
       "<style scoped>\n",
       "    .dataframe tbody tr th:only-of-type {\n",
       "        vertical-align: middle;\n",
       "    }\n",
       "\n",
       "    .dataframe tbody tr th {\n",
       "        vertical-align: top;\n",
       "    }\n",
       "\n",
       "    .dataframe thead th {\n",
       "        text-align: right;\n",
       "    }\n",
       "</style>\n",
       "<table border=\"1\" class=\"dataframe\">\n",
       "  <thead>\n",
       "    <tr style=\"text-align: right;\">\n",
       "      <th></th>\n",
       "      <th>pfr_player_id</th>\n",
       "      <th>player</th>\n",
       "      <th>position</th>\n",
       "    </tr>\n",
       "  </thead>\n",
       "  <tbody>\n",
       "    <tr>\n",
       "      <th>0</th>\n",
       "      <td>WirfTr00</td>\n",
       "      <td>Tristan Wirfs</td>\n",
       "      <td>T</td>\n",
       "    </tr>\n",
       "    <tr>\n",
       "      <th>1</th>\n",
       "      <td>MarpAl00</td>\n",
       "      <td>Ali Marpet</td>\n",
       "      <td>G</td>\n",
       "    </tr>\n",
       "  </tbody>\n",
       "</table>\n",
       "</div>"
      ],
      "text/plain": [
       "  pfr_player_id         player position\n",
       "0      WirfTr00  Tristan Wirfs        T\n",
       "1      MarpAl00     Ali Marpet        G"
      ]
     },
     "execution_count": 56,
     "metadata": {},
     "output_type": "execute_result"
    }
   ],
   "source": [
    "snap_names.head(2)"
   ]
  },
  {
   "cell_type": "markdown",
   "metadata": {},
   "source": [
    "Merge in pfr ID:"
   ]
  },
  {
   "cell_type": "code",
   "execution_count": 57,
   "metadata": {},
   "outputs": [],
   "source": [
    "xp_did = def_xp.merge(id_df,how='left',left_on='did_ls',right_on='gsis_id').drop(columns=['did_ls'])\n",
    "xp_oid = off_xp.merge(id_df,how='left',left_on='oid_ls',right_on='gsis_id').drop(columns=['oid_ls'])"
   ]
  },
  {
   "cell_type": "code",
   "execution_count": 58,
   "metadata": {},
   "outputs": [
    {
     "data": {
      "text/html": [
       "<div>\n",
       "<style scoped>\n",
       "    .dataframe tbody tr th:only-of-type {\n",
       "        vertical-align: middle;\n",
       "    }\n",
       "\n",
       "    .dataframe tbody tr th {\n",
       "        vertical-align: top;\n",
       "    }\n",
       "\n",
       "    .dataframe thead th {\n",
       "        text-align: right;\n",
       "    }\n",
       "</style>\n",
       "<table border=\"1\" class=\"dataframe\">\n",
       "  <thead>\n",
       "    <tr style=\"text-align: right;\">\n",
       "      <th></th>\n",
       "      <th>pass_ct</th>\n",
       "      <th>snap_ct</th>\n",
       "      <th>gsis_id</th>\n",
       "      <th>pfr_id</th>\n",
       "    </tr>\n",
       "  </thead>\n",
       "  <tbody>\n",
       "    <tr>\n",
       "      <th>0</th>\n",
       "      <td>123</td>\n",
       "      <td>174</td>\n",
       "      <td>00-0025424</td>\n",
       "      <td>WeddEr99</td>\n",
       "    </tr>\n",
       "  </tbody>\n",
       "</table>\n",
       "</div>"
      ],
      "text/plain": [
       "   pass_ct  snap_ct     gsis_id    pfr_id\n",
       "0      123      174  00-0025424  WeddEr99"
      ]
     },
     "execution_count": 58,
     "metadata": {},
     "output_type": "execute_result"
    }
   ],
   "source": [
    "xp_did.head(1)"
   ]
  },
  {
   "cell_type": "markdown",
   "metadata": {},
   "source": [
    "Join name, snap data on pfr_id, drop extraneous columns:"
   ]
  },
  {
   "cell_type": "code",
   "execution_count": 78,
   "metadata": {},
   "outputs": [
    {
     "data": {
      "text/html": [
       "<div>\n",
       "<style scoped>\n",
       "    .dataframe tbody tr th:only-of-type {\n",
       "        vertical-align: middle;\n",
       "    }\n",
       "\n",
       "    .dataframe tbody tr th {\n",
       "        vertical-align: top;\n",
       "    }\n",
       "\n",
       "    .dataframe thead th {\n",
       "        text-align: right;\n",
       "    }\n",
       "</style>\n",
       "<table border=\"1\" class=\"dataframe\">\n",
       "  <thead>\n",
       "    <tr style=\"text-align: right;\">\n",
       "      <th></th>\n",
       "      <th>pfr_player_id</th>\n",
       "      <th>player</th>\n",
       "      <th>position</th>\n",
       "    </tr>\n",
       "  </thead>\n",
       "  <tbody>\n",
       "    <tr>\n",
       "      <th>0</th>\n",
       "      <td>WirfTr00</td>\n",
       "      <td>Tristan Wirfs</td>\n",
       "      <td>T</td>\n",
       "    </tr>\n",
       "    <tr>\n",
       "      <th>1</th>\n",
       "      <td>MarpAl00</td>\n",
       "      <td>Ali Marpet</td>\n",
       "      <td>G</td>\n",
       "    </tr>\n",
       "    <tr>\n",
       "      <th>2</th>\n",
       "      <td>CappAl00</td>\n",
       "      <td>Alex Cappa</td>\n",
       "      <td>G</td>\n",
       "    </tr>\n",
       "  </tbody>\n",
       "</table>\n",
       "</div>"
      ],
      "text/plain": [
       "  pfr_player_id         player position\n",
       "0      WirfTr00  Tristan Wirfs        T\n",
       "1      MarpAl00     Ali Marpet        G\n",
       "2      CappAl00     Alex Cappa        G"
      ]
     },
     "execution_count": 78,
     "metadata": {},
     "output_type": "execute_result"
    }
   ],
   "source": [
    "snap_names.head(3)"
   ]
  },
  {
   "cell_type": "code",
   "execution_count": 59,
   "metadata": {},
   "outputs": [],
   "source": [
    "def_ratio = xp_did.merge(snap_names,how='left',left_on='pfr_id',right_on='pfr_player_id').dropna().drop_duplicates()[['player','position','pass_ct','snap_ct']]\n",
    "off_ratio = xp_oid.merge(snap_names,how='left',left_on='pfr_id',right_on='pfr_player_id').dropna().drop_duplicates()[['player','position','pass_ct','snap_ct']]"
   ]
  },
  {
   "cell_type": "code",
   "execution_count": 85,
   "metadata": {},
   "outputs": [
    {
     "data": {
      "text/plain": [
       "LB    250\n",
       "CB    199\n",
       "DE    145\n",
       "DT    118\n",
       "SS     72\n",
       "FS     69\n",
       "NT     30\n",
       "DB     10\n",
       "RB      1\n",
       "WR      1\n",
       "Name: position, dtype: int64"
      ]
     },
     "execution_count": 85,
     "metadata": {},
     "output_type": "execute_result"
    }
   ],
   "source": [
    "def_ratio['position'].value_counts()"
   ]
  },
  {
   "cell_type": "code",
   "execution_count": 60,
   "metadata": {},
   "outputs": [
    {
     "data": {
      "text/html": [
       "<div>\n",
       "<style scoped>\n",
       "    .dataframe tbody tr th:only-of-type {\n",
       "        vertical-align: middle;\n",
       "    }\n",
       "\n",
       "    .dataframe tbody tr th {\n",
       "        vertical-align: top;\n",
       "    }\n",
       "\n",
       "    .dataframe thead th {\n",
       "        text-align: right;\n",
       "    }\n",
       "</style>\n",
       "<table border=\"1\" class=\"dataframe\">\n",
       "  <thead>\n",
       "    <tr style=\"text-align: right;\">\n",
       "      <th></th>\n",
       "      <th>player</th>\n",
       "      <th>position</th>\n",
       "      <th>pass_ct</th>\n",
       "      <th>snap_ct</th>\n",
       "    </tr>\n",
       "  </thead>\n",
       "  <tbody>\n",
       "    <tr>\n",
       "      <th>0</th>\n",
       "      <td>Eric Weddle</td>\n",
       "      <td>FS</td>\n",
       "      <td>123</td>\n",
       "      <td>174</td>\n",
       "    </tr>\n",
       "  </tbody>\n",
       "</table>\n",
       "</div>"
      ],
      "text/plain": [
       "        player position  pass_ct  snap_ct\n",
       "0  Eric Weddle       FS      123      174"
      ]
     },
     "execution_count": 60,
     "metadata": {},
     "output_type": "execute_result"
    }
   ],
   "source": [
    "def_ratio.head(1)"
   ]
  },
  {
   "cell_type": "markdown",
   "metadata": {},
   "source": [
    "# Coverage processing\n",
    "\n",
    "First we take play-by-play data, then split out coverage as one-hot"
   ]
  },
  {
   "cell_type": "code",
   "execution_count": 61,
   "metadata": {},
   "outputs": [],
   "source": [
    "cov_pbp = pd.concat([nfl_pbp[['defteam','posteam']],pd.get_dummies(nfl_pbp['defense_man_zone_type']),pd.get_dummies(nfl_pbp['defense_coverage_type'])],axis=1)"
   ]
  },
  {
   "cell_type": "markdown",
   "metadata": {},
   "source": [
    "### Rename columns to match BDB data\n",
    "\n",
    "Note: \"Other\" is 2 man + prevent\n",
    "\n"
   ]
  },
  {
   "cell_type": "code",
   "execution_count": 62,
   "metadata": {},
   "outputs": [],
   "source": [
    "rn_dict = {'MAN_COVERAGE':'Man', 'ZONE_COVERAGE':'Zone', 'COVER_0':'cover_0', 'COVER_1':'cover_1', \n",
    "           'COVER_2':'cover_2','COVER_3':'cover_3', 'COVER_6':'cover_6','COVER_4':'Quarters'\n",
    "           }"
   ]
  },
  {
   "cell_type": "code",
   "execution_count": 63,
   "metadata": {},
   "outputs": [],
   "source": [
    "cov_pbp = cov_pbp.rename(columns=rn_dict)\n",
    "cov_pbp['Other'] = cov_pbp['PREVENT']+cov_pbp['2_MAN']\n",
    "cov_pbp.drop(columns=['PREVENT','2_MAN'],inplace=True)"
   ]
  },
  {
   "cell_type": "markdown",
   "metadata": {},
   "source": [
    "### Get expected coverage figures\n",
    "\n",
    "Essentially, we divide total coverage snaps by 17, to get an expecation for w1 next year"
   ]
  },
  {
   "cell_type": "code",
   "execution_count": 64,
   "metadata": {},
   "outputs": [],
   "source": [
    "cg_def = cov_pbp.groupby('defteam').sum().reset_index()\n",
    "def_rates = pd.concat([cg_def['defteam'],cg_def.iloc[:,1:]/17],axis=1)\n",
    "def_rates.columns = ['defteam']+[x+'_def' for x in def_rates.columns[1:]]"
   ]
  },
  {
   "cell_type": "code",
   "execution_count": 65,
   "metadata": {},
   "outputs": [],
   "source": [
    "cg_off = cov_pbp.groupby('posteam').sum().reset_index()\n",
    "off_rates = pd.concat([cg_off['posteam'],cg_off.iloc[:,1:]/17],axis=1)\n",
    "off_rates.columns = ['offteam']+[x+'_off' for x in off_rates.columns[1:]]"
   ]
  },
  {
   "cell_type": "code",
   "execution_count": 66,
   "metadata": {},
   "outputs": [
    {
     "data": {
      "text/html": [
       "<div>\n",
       "<style scoped>\n",
       "    .dataframe tbody tr th:only-of-type {\n",
       "        vertical-align: middle;\n",
       "    }\n",
       "\n",
       "    .dataframe tbody tr th {\n",
       "        vertical-align: top;\n",
       "    }\n",
       "\n",
       "    .dataframe thead th {\n",
       "        text-align: right;\n",
       "    }\n",
       "</style>\n",
       "<table border=\"1\" class=\"dataframe\">\n",
       "  <thead>\n",
       "    <tr style=\"text-align: right;\">\n",
       "      <th></th>\n",
       "      <th>defteam</th>\n",
       "      <th>Man_def</th>\n",
       "      <th>Zone_def</th>\n",
       "      <th>cover_0_def</th>\n",
       "      <th>cover_1_def</th>\n",
       "      <th>cover_2_def</th>\n",
       "      <th>cover_3_def</th>\n",
       "      <th>Quarters_def</th>\n",
       "      <th>cover_6_def</th>\n",
       "      <th>Other_def</th>\n",
       "    </tr>\n",
       "  </thead>\n",
       "  <tbody>\n",
       "    <tr>\n",
       "      <th>0</th>\n",
       "      <td>ARI</td>\n",
       "      <td>9.529412</td>\n",
       "      <td>23.647059</td>\n",
       "      <td>3.117647</td>\n",
       "      <td>5.352941</td>\n",
       "      <td>4.0</td>\n",
       "      <td>12.588235</td>\n",
       "      <td>4.117647</td>\n",
       "      <td>2.882353</td>\n",
       "      <td>1.117647</td>\n",
       "    </tr>\n",
       "  </tbody>\n",
       "</table>\n",
       "</div>"
      ],
      "text/plain": [
       "  defteam   Man_def   Zone_def  cover_0_def  cover_1_def  cover_2_def  \\\n",
       "0     ARI  9.529412  23.647059     3.117647     5.352941          4.0   \n",
       "\n",
       "   cover_3_def  Quarters_def  cover_6_def  Other_def  \n",
       "0    12.588235      4.117647     2.882353   1.117647  "
      ]
     },
     "execution_count": 66,
     "metadata": {},
     "output_type": "execute_result"
    }
   ],
   "source": [
    "def_rates.head(1)"
   ]
  },
  {
   "cell_type": "markdown",
   "metadata": {},
   "source": [
    "# Write out files\n",
    "\n",
    "First, merge defensive/offensisve coverage stats"
   ]
  },
  {
   "cell_type": "code",
   "execution_count": 67,
   "metadata": {},
   "outputs": [],
   "source": [
    "rates_out = def_rates.merge(off_rates,how='left',left_on='defteam',right_on='offteam').drop(columns='offteam').rename(columns={'defteam':'possessionTeam'})"
   ]
  },
  {
   "cell_type": "code",
   "execution_count": 68,
   "metadata": {},
   "outputs": [
    {
     "data": {
      "text/html": [
       "<div>\n",
       "<style scoped>\n",
       "    .dataframe tbody tr th:only-of-type {\n",
       "        vertical-align: middle;\n",
       "    }\n",
       "\n",
       "    .dataframe tbody tr th {\n",
       "        vertical-align: top;\n",
       "    }\n",
       "\n",
       "    .dataframe thead th {\n",
       "        text-align: right;\n",
       "    }\n",
       "</style>\n",
       "<table border=\"1\" class=\"dataframe\">\n",
       "  <thead>\n",
       "    <tr style=\"text-align: right;\">\n",
       "      <th></th>\n",
       "      <th>possessionTeam</th>\n",
       "      <th>Man_def</th>\n",
       "      <th>Zone_def</th>\n",
       "      <th>cover_0_def</th>\n",
       "      <th>cover_1_def</th>\n",
       "      <th>cover_2_def</th>\n",
       "      <th>cover_3_def</th>\n",
       "      <th>Quarters_def</th>\n",
       "      <th>cover_6_def</th>\n",
       "      <th>Other_def</th>\n",
       "      <th>Man_off</th>\n",
       "      <th>Zone_off</th>\n",
       "      <th>cover_0_off</th>\n",
       "      <th>cover_1_off</th>\n",
       "      <th>cover_2_off</th>\n",
       "      <th>cover_3_off</th>\n",
       "      <th>Quarters_off</th>\n",
       "      <th>cover_6_off</th>\n",
       "      <th>Other_off</th>\n",
       "    </tr>\n",
       "  </thead>\n",
       "  <tbody>\n",
       "    <tr>\n",
       "      <th>0</th>\n",
       "      <td>ARI</td>\n",
       "      <td>9.529412</td>\n",
       "      <td>23.647059</td>\n",
       "      <td>3.117647</td>\n",
       "      <td>5.352941</td>\n",
       "      <td>4.0</td>\n",
       "      <td>12.588235</td>\n",
       "      <td>4.117647</td>\n",
       "      <td>2.882353</td>\n",
       "      <td>1.117647</td>\n",
       "      <td>7.411765</td>\n",
       "      <td>28.352941</td>\n",
       "      <td>1.823529</td>\n",
       "      <td>5.588235</td>\n",
       "      <td>4.588235</td>\n",
       "      <td>14.0</td>\n",
       "      <td>5.882353</td>\n",
       "      <td>3.705882</td>\n",
       "      <td>0.176471</td>\n",
       "    </tr>\n",
       "  </tbody>\n",
       "</table>\n",
       "</div>"
      ],
      "text/plain": [
       "  possessionTeam   Man_def   Zone_def  cover_0_def  cover_1_def  cover_2_def  \\\n",
       "0            ARI  9.529412  23.647059     3.117647     5.352941          4.0   \n",
       "\n",
       "   cover_3_def  Quarters_def  cover_6_def  Other_def   Man_off   Zone_off  \\\n",
       "0    12.588235      4.117647     2.882353   1.117647  7.411765  28.352941   \n",
       "\n",
       "   cover_0_off  cover_1_off  cover_2_off  cover_3_off  Quarters_off  \\\n",
       "0     1.823529     5.588235     4.588235         14.0      5.882353   \n",
       "\n",
       "   cover_6_off  Other_off  \n",
       "0     3.705882   0.176471  "
      ]
     },
     "execution_count": 68,
     "metadata": {},
     "output_type": "execute_result"
    }
   ],
   "source": [
    "rates_out.head(1)"
   ]
  },
  {
   "cell_type": "code",
   "execution_count": 69,
   "metadata": {},
   "outputs": [
    {
     "data": {
      "text/html": [
       "<div>\n",
       "<style scoped>\n",
       "    .dataframe tbody tr th:only-of-type {\n",
       "        vertical-align: middle;\n",
       "    }\n",
       "\n",
       "    .dataframe tbody tr th {\n",
       "        vertical-align: top;\n",
       "    }\n",
       "\n",
       "    .dataframe thead th {\n",
       "        text-align: right;\n",
       "    }\n",
       "</style>\n",
       "<table border=\"1\" class=\"dataframe\">\n",
       "  <thead>\n",
       "    <tr style=\"text-align: right;\">\n",
       "      <th></th>\n",
       "      <th>possessionTeam</th>\n",
       "      <th>pass_rate_def</th>\n",
       "      <th>pass_rate_off</th>\n",
       "    </tr>\n",
       "  </thead>\n",
       "  <tbody>\n",
       "    <tr>\n",
       "      <th>0</th>\n",
       "      <td>ARI</td>\n",
       "      <td>0.573372</td>\n",
       "      <td>0.573464</td>\n",
       "    </tr>\n",
       "    <tr>\n",
       "      <th>1</th>\n",
       "      <td>ATL</td>\n",
       "      <td>0.548059</td>\n",
       "      <td>0.603575</td>\n",
       "    </tr>\n",
       "  </tbody>\n",
       "</table>\n",
       "</div>"
      ],
      "text/plain": [
       "  possessionTeam  pass_rate_def  pass_rate_off\n",
       "0            ARI       0.573372       0.573464\n",
       "1            ATL       0.548059       0.603575"
      ]
     },
     "execution_count": 69,
     "metadata": {},
     "output_type": "execute_result"
    }
   ],
   "source": [
    "team_pass_out.head(2)"
   ]
  },
  {
   "cell_type": "code",
   "execution_count": 75,
   "metadata": {},
   "outputs": [
    {
     "data": {
      "text/html": [
       "<div>\n",
       "<style scoped>\n",
       "    .dataframe tbody tr th:only-of-type {\n",
       "        vertical-align: middle;\n",
       "    }\n",
       "\n",
       "    .dataframe tbody tr th {\n",
       "        vertical-align: top;\n",
       "    }\n",
       "\n",
       "    .dataframe thead th {\n",
       "        text-align: right;\n",
       "    }\n",
       "</style>\n",
       "<table border=\"1\" class=\"dataframe\">\n",
       "  <thead>\n",
       "    <tr style=\"text-align: right;\">\n",
       "      <th></th>\n",
       "      <th>player</th>\n",
       "      <th>position</th>\n",
       "      <th>pass_ct</th>\n",
       "      <th>snap_ct</th>\n",
       "    </tr>\n",
       "  </thead>\n",
       "  <tbody>\n",
       "    <tr>\n",
       "      <th>0</th>\n",
       "      <td>Tom Brady</td>\n",
       "      <td>QB</td>\n",
       "      <td>795</td>\n",
       "      <td>1197</td>\n",
       "    </tr>\n",
       "    <tr>\n",
       "      <th>20</th>\n",
       "      <td>Ben Roethlisberger</td>\n",
       "      <td>QB</td>\n",
       "      <td>637</td>\n",
       "      <td>1037</td>\n",
       "    </tr>\n",
       "    <tr>\n",
       "      <th>37</th>\n",
       "      <td>Aaron Rodgers</td>\n",
       "      <td>QB</td>\n",
       "      <td>552</td>\n",
       "      <td>959</td>\n",
       "    </tr>\n",
       "    <tr>\n",
       "      <th>54</th>\n",
       "      <td>Ryan Fitzpatrick</td>\n",
       "      <td>QB</td>\n",
       "      <td>6</td>\n",
       "      <td>14</td>\n",
       "    </tr>\n",
       "    <tr>\n",
       "      <th>55</th>\n",
       "      <td>Marcedes Lewis</td>\n",
       "      <td>TE</td>\n",
       "      <td>188</td>\n",
       "      <td>476</td>\n",
       "    </tr>\n",
       "    <tr>\n",
       "      <th>74</th>\n",
       "      <td>Adrian Peterson</td>\n",
       "      <td>RB</td>\n",
       "      <td>25</td>\n",
       "      <td>68</td>\n",
       "    </tr>\n",
       "    <tr>\n",
       "      <th>78</th>\n",
       "      <td>Danny Amendola</td>\n",
       "      <td>WR</td>\n",
       "      <td>133</td>\n",
       "      <td>170</td>\n",
       "    </tr>\n",
       "    <tr>\n",
       "      <th>86</th>\n",
       "      <td>Matt Ryan</td>\n",
       "      <td>QB</td>\n",
       "      <td>548</td>\n",
       "      <td>926</td>\n",
       "    </tr>\n",
       "    <tr>\n",
       "      <th>103</th>\n",
       "      <td>Joe Flacco</td>\n",
       "      <td>QB</td>\n",
       "      <td>42</td>\n",
       "      <td>63</td>\n",
       "    </tr>\n",
       "    <tr>\n",
       "      <th>106</th>\n",
       "      <td>DeSean Jackson</td>\n",
       "      <td>WR</td>\n",
       "      <td>191</td>\n",
       "      <td>295</td>\n",
       "    </tr>\n",
       "  </tbody>\n",
       "</table>\n",
       "</div>"
      ],
      "text/plain": [
       "                 player position  pass_ct  snap_ct\n",
       "0             Tom Brady       QB      795     1197\n",
       "20   Ben Roethlisberger       QB      637     1037\n",
       "37        Aaron Rodgers       QB      552      959\n",
       "54     Ryan Fitzpatrick       QB        6       14\n",
       "55       Marcedes Lewis       TE      188      476\n",
       "74      Adrian Peterson       RB       25       68\n",
       "78       Danny Amendola       WR      133      170\n",
       "86            Matt Ryan       QB      548      926\n",
       "103          Joe Flacco       QB       42       63\n",
       "106      DeSean Jackson       WR      191      295"
      ]
     },
     "execution_count": 75,
     "metadata": {},
     "output_type": "execute_result"
    }
   ],
   "source": [
    "off_ratio.head(10)"
   ]
  },
  {
   "cell_type": "code",
   "execution_count": 76,
   "metadata": {},
   "outputs": [
    {
     "data": {
      "text/html": [
       "<div>\n",
       "<style scoped>\n",
       "    .dataframe tbody tr th:only-of-type {\n",
       "        vertical-align: middle;\n",
       "    }\n",
       "\n",
       "    .dataframe tbody tr th {\n",
       "        vertical-align: top;\n",
       "    }\n",
       "\n",
       "    .dataframe thead th {\n",
       "        text-align: right;\n",
       "    }\n",
       "</style>\n",
       "<table border=\"1\" class=\"dataframe\">\n",
       "  <thead>\n",
       "    <tr style=\"text-align: right;\">\n",
       "      <th></th>\n",
       "      <th>player</th>\n",
       "      <th>position</th>\n",
       "      <th>pass_ct</th>\n",
       "      <th>snap_ct</th>\n",
       "    </tr>\n",
       "  </thead>\n",
       "  <tbody>\n",
       "    <tr>\n",
       "      <th>0</th>\n",
       "      <td>Eric Weddle</td>\n",
       "      <td>FS</td>\n",
       "      <td>123</td>\n",
       "      <td>174</td>\n",
       "    </tr>\n",
       "    <tr>\n",
       "      <th>4</th>\n",
       "      <td>Calais Campbell</td>\n",
       "      <td>DT</td>\n",
       "      <td>357</td>\n",
       "      <td>554</td>\n",
       "    </tr>\n",
       "    <tr>\n",
       "      <th>5</th>\n",
       "      <td>Calais Campbell</td>\n",
       "      <td>DE</td>\n",
       "      <td>357</td>\n",
       "      <td>554</td>\n",
       "    </tr>\n",
       "    <tr>\n",
       "      <th>20</th>\n",
       "      <td>Malcolm Jenkins</td>\n",
       "      <td>SS</td>\n",
       "      <td>545</td>\n",
       "      <td>935</td>\n",
       "    </tr>\n",
       "    <tr>\n",
       "      <th>36</th>\n",
       "      <td>Jason McCourty</td>\n",
       "      <td>FS</td>\n",
       "      <td>171</td>\n",
       "      <td>289</td>\n",
       "    </tr>\n",
       "    <tr>\n",
       "      <th>44</th>\n",
       "      <td>Devin McCourty</td>\n",
       "      <td>FS</td>\n",
       "      <td>509</td>\n",
       "      <td>980</td>\n",
       "    </tr>\n",
       "    <tr>\n",
       "      <th>62</th>\n",
       "      <td>Carlos Dunlap</td>\n",
       "      <td>LB</td>\n",
       "      <td>286</td>\n",
       "      <td>427</td>\n",
       "    </tr>\n",
       "    <tr>\n",
       "      <th>79</th>\n",
       "      <td>Corey Peters</td>\n",
       "      <td>DT</td>\n",
       "      <td>154</td>\n",
       "      <td>363</td>\n",
       "    </tr>\n",
       "    <tr>\n",
       "      <th>94</th>\n",
       "      <td>Everson Griffen</td>\n",
       "      <td>DE</td>\n",
       "      <td>249</td>\n",
       "      <td>398</td>\n",
       "    </tr>\n",
       "    <tr>\n",
       "      <th>103</th>\n",
       "      <td>Al Woods</td>\n",
       "      <td>DT</td>\n",
       "      <td>274</td>\n",
       "      <td>572</td>\n",
       "    </tr>\n",
       "  </tbody>\n",
       "</table>\n",
       "</div>"
      ],
      "text/plain": [
       "              player position  pass_ct  snap_ct\n",
       "0        Eric Weddle       FS      123      174\n",
       "4    Calais Campbell       DT      357      554\n",
       "5    Calais Campbell       DE      357      554\n",
       "20   Malcolm Jenkins       SS      545      935\n",
       "36    Jason McCourty       FS      171      289\n",
       "44    Devin McCourty       FS      509      980\n",
       "62     Carlos Dunlap       LB      286      427\n",
       "79      Corey Peters       DT      154      363\n",
       "94   Everson Griffen       DE      249      398\n",
       "103         Al Woods       DT      274      572"
      ]
     },
     "execution_count": 76,
     "metadata": {},
     "output_type": "execute_result"
    }
   ],
   "source": [
    "def_ratio.head(10)"
   ]
  },
  {
   "cell_type": "code",
   "execution_count": 72,
   "metadata": {},
   "outputs": [],
   "source": [
    "rates_out.to_csv('data_21/cov_21.csv',index=False)\n",
    "team_pass_out.to_csv('data_21/team_pr_21.csv',index=False)\n",
    "off_ratio.to_csv('data_21/off_xpass.csv',index=False)\n",
    "def_ratio.to_csv('data_21/def_xpass.csv',index=False)"
   ]
  }
 ],
 "metadata": {
  "kernelspec": {
   "display_name": ".venv",
   "language": "python",
   "name": "python3"
  },
  "language_info": {
   "codemirror_mode": {
    "name": "ipython",
    "version": 3
   },
   "file_extension": ".py",
   "mimetype": "text/x-python",
   "name": "python",
   "nbconvert_exporter": "python",
   "pygments_lexer": "ipython3",
   "version": "3.9.15"
  }
 },
 "nbformat": 4,
 "nbformat_minor": 2
}
