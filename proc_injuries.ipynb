{
 "cells": [
  {
   "cell_type": "code",
   "execution_count": 1,
   "metadata": {},
   "outputs": [],
   "source": [
    "import pandas as pd\n",
    "import nfl_data_py as nfl"
   ]
  },
  {
   "cell_type": "markdown",
   "metadata": {},
   "source": [
    "### Import injury, snap data"
   ]
  },
  {
   "cell_type": "code",
   "execution_count": 2,
   "metadata": {},
   "outputs": [],
   "source": [
    "injury_df = nfl.import_injuries([2022])\n",
    "injury_df = injury_df[injury_df['game_type'] == 'REG'] # regular season\n",
    "injury_df = injury_df[['season','team','week','full_name','position','report_status','gsis_id']]"
   ]
  },
  {
   "cell_type": "code",
   "execution_count": 3,
   "metadata": {},
   "outputs": [],
   "source": [
    "snap_df = nfl.import_snap_counts([2022])\n",
    "snap_df = snap_df.sort_values(['player','position','week']).reset_index(drop=True)"
   ]
  },
  {
   "cell_type": "code",
   "execution_count": 4,
   "metadata": {},
   "outputs": [],
   "source": [
    "def cartesian_product(d):\n",
    "    index = pd.MultiIndex.from_product(d.values(), names=d.keys())\n",
    "    return pd.DataFrame(index=index).reset_index()"
   ]
  },
  {
   "cell_type": "markdown",
   "metadata": {},
   "source": [
    "### Aggregate mean snaps for each player (on pfr id)\n",
    "\n",
    "We calculate the expanding mean (i.e., mean to that point) for each player\n",
    "\n",
    "We do this now because we'll be forward-filling missing weeks (see: Keenan Allen for an injury example)"
   ]
  },
  {
   "cell_type": "code",
   "execution_count": 5,
   "metadata": {},
   "outputs": [],
   "source": [
    "# sort to avoid weirdness\n",
    "snap_df = snap_df.sort_values(by=['pfr_player_id','week']).reset_index(drop=True)"
   ]
  },
  {
   "cell_type": "code",
   "execution_count": 6,
   "metadata": {},
   "outputs": [],
   "source": [
    "# get expanding mean based on nflpy snap data\n",
    "mean_df = snap_df.groupby(['pfr_player_id'])[['offense_snaps','defense_snaps']].expanding().mean()\\\n",
    "                            .reset_index().drop(columns='level_1')\n",
    "\n",
    "# recover week info\n",
    "ms_df = pd.concat([mean_df.rename(columns={'offense_snaps':'mean_off_snaps','defense_snaps':'mean_def_snaps'}),\n",
    "           snap_df['week']],axis=1)"
   ]
  },
  {
   "cell_type": "markdown",
   "metadata": {},
   "source": [
    "### Recover full week info for each player-position combo\n",
    "\n",
    "We use a cartesian product s.t. each player (by Id) has 20 weeks assigned to them"
   ]
  },
  {
   "cell_type": "code",
   "execution_count": 7,
   "metadata": {},
   "outputs": [],
   "source": [
    "cp_df = cartesian_product({'pfr_player_id':ms_df['pfr_player_id'].drop_duplicates(),'week':range(1,21)})"
   ]
  },
  {
   "cell_type": "code",
   "execution_count": 8,
   "metadata": {},
   "outputs": [
    {
     "data": {
      "text/html": [
       "<div>\n",
       "<style scoped>\n",
       "    .dataframe tbody tr th:only-of-type {\n",
       "        vertical-align: middle;\n",
       "    }\n",
       "\n",
       "    .dataframe tbody tr th {\n",
       "        vertical-align: top;\n",
       "    }\n",
       "\n",
       "    .dataframe thead th {\n",
       "        text-align: right;\n",
       "    }\n",
       "</style>\n",
       "<table border=\"1\" class=\"dataframe\">\n",
       "  <thead>\n",
       "    <tr style=\"text-align: right;\">\n",
       "      <th></th>\n",
       "      <th>pfr_player_id</th>\n",
       "      <th>week</th>\n",
       "    </tr>\n",
       "  </thead>\n",
       "  <tbody>\n",
       "    <tr>\n",
       "      <th>0</th>\n",
       "      <td>AbduAm00</td>\n",
       "      <td>1</td>\n",
       "    </tr>\n",
       "    <tr>\n",
       "      <th>1</th>\n",
       "      <td>AbduAm00</td>\n",
       "      <td>2</td>\n",
       "    </tr>\n",
       "  </tbody>\n",
       "</table>\n",
       "</div>"
      ],
      "text/plain": [
       "  pfr_player_id  week\n",
       "0      AbduAm00     1\n",
       "1      AbduAm00     2"
      ]
     },
     "execution_count": 8,
     "metadata": {},
     "output_type": "execute_result"
    }
   ],
   "source": [
    "cp_df.head(2)"
   ]
  },
  {
   "cell_type": "markdown",
   "metadata": {},
   "source": [
    "#### Merge expanding mean df, truncated to relevant columns, into cartesian product"
   ]
  },
  {
   "cell_type": "code",
   "execution_count": 9,
   "metadata": {},
   "outputs": [],
   "source": [
    "mc_fs = cp_df.merge(ms_df,how='left',on=['pfr_player_id','week'])"
   ]
  },
  {
   "cell_type": "code",
   "execution_count": 10,
   "metadata": {},
   "outputs": [
    {
     "data": {
      "text/plain": [
       "0"
      ]
     },
     "execution_count": 10,
     "metadata": {},
     "output_type": "execute_result"
    }
   ],
   "source": [
    "mc_fs.duplicated().sum()"
   ]
  },
  {
   "cell_type": "markdown",
   "metadata": {},
   "source": [
    "### Forward-fill within group, filling by default with zero for players who have no snaps"
   ]
  },
  {
   "cell_type": "code",
   "execution_count": 11,
   "metadata": {},
   "outputs": [
    {
     "data": {
      "text/html": [
       "<div>\n",
       "<style scoped>\n",
       "    .dataframe tbody tr th:only-of-type {\n",
       "        vertical-align: middle;\n",
       "    }\n",
       "\n",
       "    .dataframe tbody tr th {\n",
       "        vertical-align: top;\n",
       "    }\n",
       "\n",
       "    .dataframe thead th {\n",
       "        text-align: right;\n",
       "    }\n",
       "</style>\n",
       "<table border=\"1\" class=\"dataframe\">\n",
       "  <thead>\n",
       "    <tr style=\"text-align: right;\">\n",
       "      <th></th>\n",
       "      <th>pfr_player_id</th>\n",
       "      <th>week</th>\n",
       "      <th>mean_off_snaps</th>\n",
       "      <th>mean_def_snaps</th>\n",
       "    </tr>\n",
       "  </thead>\n",
       "  <tbody>\n",
       "    <tr>\n",
       "      <th>4</th>\n",
       "      <td>AbduAm00</td>\n",
       "      <td>5</td>\n",
       "      <td>4.400000</td>\n",
       "      <td>0.0</td>\n",
       "    </tr>\n",
       "    <tr>\n",
       "      <th>5</th>\n",
       "      <td>AbduAm00</td>\n",
       "      <td>6</td>\n",
       "      <td>NaN</td>\n",
       "      <td>NaN</td>\n",
       "    </tr>\n",
       "    <tr>\n",
       "      <th>6</th>\n",
       "      <td>AbduAm00</td>\n",
       "      <td>7</td>\n",
       "      <td>4.833333</td>\n",
       "      <td>0.0</td>\n",
       "    </tr>\n",
       "  </tbody>\n",
       "</table>\n",
       "</div>"
      ],
      "text/plain": [
       "  pfr_player_id  week  mean_off_snaps  mean_def_snaps\n",
       "4      AbduAm00     5        4.400000             0.0\n",
       "5      AbduAm00     6             NaN             NaN\n",
       "6      AbduAm00     7        4.833333             0.0"
      ]
     },
     "execution_count": 11,
     "metadata": {},
     "output_type": "execute_result"
    }
   ],
   "source": [
    "mc_fs[(mc_fs['pfr_player_id'] == 'AbduAm00') & ((mc_fs['week'] >=5) & (mc_fs['week'] <= 7))]"
   ]
  },
  {
   "cell_type": "code",
   "execution_count": 12,
   "metadata": {},
   "outputs": [],
   "source": [
    "mc_ff = mc_fs.groupby(['pfr_player_id']).ffill().fillna(0)\n",
    "mc_rp = pd.concat([mc_fs[['pfr_player_id','week']],mc_ff[['mean_off_snaps','mean_def_snaps']]],axis=1)"
   ]
  },
  {
   "cell_type": "code",
   "execution_count": 13,
   "metadata": {},
   "outputs": [
    {
     "data": {
      "text/html": [
       "<div>\n",
       "<style scoped>\n",
       "    .dataframe tbody tr th:only-of-type {\n",
       "        vertical-align: middle;\n",
       "    }\n",
       "\n",
       "    .dataframe tbody tr th {\n",
       "        vertical-align: top;\n",
       "    }\n",
       "\n",
       "    .dataframe thead th {\n",
       "        text-align: right;\n",
       "    }\n",
       "</style>\n",
       "<table border=\"1\" class=\"dataframe\">\n",
       "  <thead>\n",
       "    <tr style=\"text-align: right;\">\n",
       "      <th></th>\n",
       "      <th>pfr_player_id</th>\n",
       "      <th>week</th>\n",
       "      <th>mean_off_snaps</th>\n",
       "      <th>mean_def_snaps</th>\n",
       "    </tr>\n",
       "  </thead>\n",
       "  <tbody>\n",
       "    <tr>\n",
       "      <th>4</th>\n",
       "      <td>AbduAm00</td>\n",
       "      <td>5</td>\n",
       "      <td>4.400000</td>\n",
       "      <td>0.0</td>\n",
       "    </tr>\n",
       "    <tr>\n",
       "      <th>5</th>\n",
       "      <td>AbduAm00</td>\n",
       "      <td>6</td>\n",
       "      <td>4.400000</td>\n",
       "      <td>0.0</td>\n",
       "    </tr>\n",
       "    <tr>\n",
       "      <th>6</th>\n",
       "      <td>AbduAm00</td>\n",
       "      <td>7</td>\n",
       "      <td>4.833333</td>\n",
       "      <td>0.0</td>\n",
       "    </tr>\n",
       "  </tbody>\n",
       "</table>\n",
       "</div>"
      ],
      "text/plain": [
       "  pfr_player_id  week  mean_off_snaps  mean_def_snaps\n",
       "4      AbduAm00     5        4.400000             0.0\n",
       "5      AbduAm00     6        4.400000             0.0\n",
       "6      AbduAm00     7        4.833333             0.0"
      ]
     },
     "execution_count": 13,
     "metadata": {},
     "output_type": "execute_result"
    }
   ],
   "source": [
    "mc_rp[(mc_rp['pfr_player_id'] == 'AbduAm00') & ((mc_rp['week'] >=5) & (mc_rp['week'] <= 7))]"
   ]
  },
  {
   "cell_type": "markdown",
   "metadata": {},
   "source": [
    "#### Load ID table for future reference\n",
    "\n",
    "This is where we uptick week; if we do it after team merge, get potential team errors due to trades"
   ]
  },
  {
   "cell_type": "code",
   "execution_count": 14,
   "metadata": {},
   "outputs": [],
   "source": [
    "id_pre = nfl.import_ids()\n",
    "id_df = id_pre[[x for x in id_pre if 'id' in x]]\n",
    "mc_rp['week'] +=1"
   ]
  },
  {
   "cell_type": "markdown",
   "metadata": {},
   "source": [
    "Merge in ID's to player snap-mean data:"
   ]
  },
  {
   "cell_type": "code",
   "execution_count": 15,
   "metadata": {},
   "outputs": [],
   "source": [
    "mc_wk = mc_rp.merge(id_df[['pfr_id','gsis_id']],how='left',left_on='pfr_player_id',\n",
    "                    right_on = 'pfr_id').drop(columns=['pfr_id'])"
   ]
  },
  {
   "cell_type": "code",
   "execution_count": 16,
   "metadata": {},
   "outputs": [
    {
     "data": {
      "text/html": [
       "<div>\n",
       "<style scoped>\n",
       "    .dataframe tbody tr th:only-of-type {\n",
       "        vertical-align: middle;\n",
       "    }\n",
       "\n",
       "    .dataframe tbody tr th {\n",
       "        vertical-align: top;\n",
       "    }\n",
       "\n",
       "    .dataframe thead th {\n",
       "        text-align: right;\n",
       "    }\n",
       "</style>\n",
       "<table border=\"1\" class=\"dataframe\">\n",
       "  <thead>\n",
       "    <tr style=\"text-align: right;\">\n",
       "      <th></th>\n",
       "      <th>pfr_player_id</th>\n",
       "      <th>week</th>\n",
       "      <th>mean_off_snaps</th>\n",
       "      <th>mean_def_snaps</th>\n",
       "      <th>gsis_id</th>\n",
       "    </tr>\n",
       "  </thead>\n",
       "  <tbody>\n",
       "    <tr>\n",
       "      <th>0</th>\n",
       "      <td>AbduAm00</td>\n",
       "      <td>2</td>\n",
       "      <td>7.0</td>\n",
       "      <td>0.0</td>\n",
       "      <td>00-0032104</td>\n",
       "    </tr>\n",
       "  </tbody>\n",
       "</table>\n",
       "</div>"
      ],
      "text/plain": [
       "  pfr_player_id  week  mean_off_snaps  mean_def_snaps     gsis_id\n",
       "0      AbduAm00     2             7.0             0.0  00-0032104"
      ]
     },
     "execution_count": 16,
     "metadata": {},
     "output_type": "execute_result"
    }
   ],
   "source": [
    "mc_wk.head(1)"
   ]
  },
  {
   "cell_type": "code",
   "execution_count": 17,
   "metadata": {},
   "outputs": [
    {
     "data": {
      "text/plain": [
       "pfr_player_id         0\n",
       "week                  0\n",
       "mean_off_snaps        0\n",
       "mean_def_snaps        0\n",
       "gsis_id           13280\n",
       "dtype: int64"
      ]
     },
     "execution_count": 17,
     "metadata": {},
     "output_type": "execute_result"
    }
   ],
   "source": [
    "mc_wk.isna().sum()"
   ]
  },
  {
   "cell_type": "code",
   "execution_count": 18,
   "metadata": {},
   "outputs": [
    {
     "data": {
      "text/html": [
       "<div>\n",
       "<style scoped>\n",
       "    .dataframe tbody tr th:only-of-type {\n",
       "        vertical-align: middle;\n",
       "    }\n",
       "\n",
       "    .dataframe tbody tr th {\n",
       "        vertical-align: top;\n",
       "    }\n",
       "\n",
       "    .dataframe thead th {\n",
       "        text-align: right;\n",
       "    }\n",
       "</style>\n",
       "<table border=\"1\" class=\"dataframe\">\n",
       "  <thead>\n",
       "    <tr style=\"text-align: right;\">\n",
       "      <th></th>\n",
       "      <th>season</th>\n",
       "      <th>team</th>\n",
       "      <th>week</th>\n",
       "      <th>full_name</th>\n",
       "      <th>position</th>\n",
       "      <th>report_status</th>\n",
       "      <th>gsis_id</th>\n",
       "    </tr>\n",
       "  </thead>\n",
       "  <tbody>\n",
       "    <tr>\n",
       "      <th>0</th>\n",
       "      <td>2022</td>\n",
       "      <td>ARI</td>\n",
       "      <td>1</td>\n",
       "      <td>Rodney Hudson</td>\n",
       "      <td>C</td>\n",
       "      <td>None</td>\n",
       "      <td>00-0027993</td>\n",
       "    </tr>\n",
       "  </tbody>\n",
       "</table>\n",
       "</div>"
      ],
      "text/plain": [
       "   season team  week      full_name position report_status     gsis_id\n",
       "0    2022  ARI     1  Rodney Hudson        C          None  00-0027993"
      ]
     },
     "execution_count": 18,
     "metadata": {},
     "output_type": "execute_result"
    }
   ],
   "source": [
    "injury_df.head(1)"
   ]
  },
  {
   "cell_type": "markdown",
   "metadata": {},
   "source": [
    "## Merge in injuries\n",
    "\n",
    "Also specially handle Cmac since he double-enters due to a trade:"
   ]
  },
  {
   "cell_type": "code",
   "execution_count": 19,
   "metadata": {},
   "outputs": [],
   "source": [
    "inj_df = mc_wk.merge(injury_df[['gsis_id','week','team','report_status']],how='left',left_on=['gsis_id','week'],\n",
    "            right_on=['gsis_id','week'])"
   ]
  },
  {
   "cell_type": "code",
   "execution_count": 23,
   "metadata": {},
   "outputs": [
    {
     "data": {
      "text/html": [
       "<div>\n",
       "<style scoped>\n",
       "    .dataframe tbody tr th:only-of-type {\n",
       "        vertical-align: middle;\n",
       "    }\n",
       "\n",
       "    .dataframe tbody tr th {\n",
       "        vertical-align: top;\n",
       "    }\n",
       "\n",
       "    .dataframe thead th {\n",
       "        text-align: right;\n",
       "    }\n",
       "</style>\n",
       "<table border=\"1\" class=\"dataframe\">\n",
       "  <thead>\n",
       "    <tr style=\"text-align: right;\">\n",
       "      <th></th>\n",
       "      <th>pfr_player_id</th>\n",
       "      <th>week</th>\n",
       "      <th>mean_off_snaps</th>\n",
       "      <th>mean_def_snaps</th>\n",
       "      <th>gsis_id</th>\n",
       "      <th>team</th>\n",
       "      <th>report_status</th>\n",
       "    </tr>\n",
       "  </thead>\n",
       "  <tbody>\n",
       "    <tr>\n",
       "      <th>36201</th>\n",
       "      <td>SmitSh03</td>\n",
       "      <td>2</td>\n",
       "      <td>41.00</td>\n",
       "      <td>0.0</td>\n",
       "      <td>00-0036572</td>\n",
       "      <td>CAR</td>\n",
       "      <td>Questionable</td>\n",
       "    </tr>\n",
       "    <tr>\n",
       "      <th>4450</th>\n",
       "      <td>BridTe00</td>\n",
       "      <td>12</td>\n",
       "      <td>24.25</td>\n",
       "      <td>0.0</td>\n",
       "      <td>00-0031237</td>\n",
       "      <td>MIA</td>\n",
       "      <td>Questionable</td>\n",
       "    </tr>\n",
       "    <tr>\n",
       "      <th>16086</th>\n",
       "      <td>HarrAn01</td>\n",
       "      <td>8</td>\n",
       "      <td>0.00</td>\n",
       "      <td>0.0</td>\n",
       "      <td>NaN</td>\n",
       "      <td>NaN</td>\n",
       "      <td>NaN</td>\n",
       "    </tr>\n",
       "  </tbody>\n",
       "</table>\n",
       "</div>"
      ],
      "text/plain": [
       "      pfr_player_id  week  mean_off_snaps  mean_def_snaps     gsis_id team  \\\n",
       "36201      SmitSh03     2           41.00             0.0  00-0036572  CAR   \n",
       "4450       BridTe00    12           24.25             0.0  00-0031237  MIA   \n",
       "16086      HarrAn01     8            0.00             0.0         NaN  NaN   \n",
       "\n",
       "      report_status  \n",
       "36201  Questionable  \n",
       "4450   Questionable  \n",
       "16086           NaN  "
      ]
     },
     "execution_count": 23,
     "metadata": {},
     "output_type": "execute_result"
    }
   ],
   "source": [
    "inj_df.sample(3)"
   ]
  },
  {
   "cell_type": "code",
   "execution_count": 24,
   "metadata": {},
   "outputs": [
    {
     "data": {
      "text/plain": [
       "1"
      ]
     },
     "execution_count": 24,
     "metadata": {},
     "output_type": "execute_result"
    }
   ],
   "source": [
    "inj_df.loc[(inj_df['week'] == 7) & (inj_df['pfr_player_id'] == 'McCaCh01'),'team'] = 'SF'\n",
    "inj_df[['pfr_player_id','week']].duplicated().sum()"
   ]
  },
  {
   "cell_type": "code",
   "execution_count": 25,
   "metadata": {},
   "outputs": [],
   "source": [
    "inj_df = inj_df.drop_duplicates()"
   ]
  },
  {
   "cell_type": "markdown",
   "metadata": {},
   "source": [
    "### Aggregate team-week injury stats (based on mean snaps for team members)"
   ]
  },
  {
   "cell_type": "code",
   "execution_count": 42,
   "metadata": {},
   "outputs": [],
   "source": [
    "out_df = inj_df[inj_df['report_status'].isin(['Out','Doubtful'])]"
   ]
  },
  {
   "cell_type": "markdown",
   "metadata": {},
   "source": [
    "Sanity check our logic:"
   ]
  },
  {
   "cell_type": "code",
   "execution_count": 43,
   "metadata": {},
   "outputs": [
    {
     "data": {
      "text/plain": [
       "0"
      ]
     },
     "execution_count": 43,
     "metadata": {},
     "output_type": "execute_result"
    }
   ],
   "source": [
    "out_df.drop(columns=['report_status'])[['pfr_player_id','week']].duplicated().sum()"
   ]
  },
  {
   "cell_type": "code",
   "execution_count": 45,
   "metadata": {},
   "outputs": [
    {
     "data": {
      "text/html": [
       "<div>\n",
       "<style scoped>\n",
       "    .dataframe tbody tr th:only-of-type {\n",
       "        vertical-align: middle;\n",
       "    }\n",
       "\n",
       "    .dataframe tbody tr th {\n",
       "        vertical-align: top;\n",
       "    }\n",
       "\n",
       "    .dataframe thead th {\n",
       "        text-align: right;\n",
       "    }\n",
       "</style>\n",
       "<table border=\"1\" class=\"dataframe\">\n",
       "  <thead>\n",
       "    <tr style=\"text-align: right;\">\n",
       "      <th></th>\n",
       "      <th>pfr_player_id</th>\n",
       "      <th>week</th>\n",
       "      <th>mean_off_snaps</th>\n",
       "      <th>mean_def_snaps</th>\n",
       "      <th>gsis_id</th>\n",
       "      <th>team</th>\n",
       "      <th>report_status</th>\n",
       "    </tr>\n",
       "  </thead>\n",
       "  <tbody>\n",
       "    <tr>\n",
       "      <th>141</th>\n",
       "      <td>AdamMa00</td>\n",
       "      <td>3</td>\n",
       "      <td>0.0</td>\n",
       "      <td>18.000000</td>\n",
       "      <td>00-0034424</td>\n",
       "      <td>CHI</td>\n",
       "      <td>Out</td>\n",
       "    </tr>\n",
       "    <tr>\n",
       "      <th>142</th>\n",
       "      <td>AdamMa00</td>\n",
       "      <td>4</td>\n",
       "      <td>0.0</td>\n",
       "      <td>18.000000</td>\n",
       "      <td>00-0034424</td>\n",
       "      <td>CHI</td>\n",
       "      <td>Doubtful</td>\n",
       "    </tr>\n",
       "    <tr>\n",
       "      <th>230</th>\n",
       "      <td>AddeNa00</td>\n",
       "      <td>12</td>\n",
       "      <td>0.0</td>\n",
       "      <td>57.400000</td>\n",
       "      <td>00-0035677</td>\n",
       "      <td>LAC</td>\n",
       "      <td>Doubtful</td>\n",
       "    </tr>\n",
       "    <tr>\n",
       "      <th>280</th>\n",
       "      <td>AdebPa00</td>\n",
       "      <td>2</td>\n",
       "      <td>0.0</td>\n",
       "      <td>0.000000</td>\n",
       "      <td>00-0036937</td>\n",
       "      <td>NO</td>\n",
       "      <td>Out</td>\n",
       "    </tr>\n",
       "    <tr>\n",
       "      <th>296</th>\n",
       "      <td>AdebPa00</td>\n",
       "      <td>18</td>\n",
       "      <td>0.0</td>\n",
       "      <td>62.461538</td>\n",
       "      <td>00-0036937</td>\n",
       "      <td>NO</td>\n",
       "      <td>Out</td>\n",
       "    </tr>\n",
       "  </tbody>\n",
       "</table>\n",
       "</div>"
      ],
      "text/plain": [
       "    pfr_player_id  week  mean_off_snaps  mean_def_snaps     gsis_id team  \\\n",
       "141      AdamMa00     3             0.0       18.000000  00-0034424  CHI   \n",
       "142      AdamMa00     4             0.0       18.000000  00-0034424  CHI   \n",
       "230      AddeNa00    12             0.0       57.400000  00-0035677  LAC   \n",
       "280      AdebPa00     2             0.0        0.000000  00-0036937   NO   \n",
       "296      AdebPa00    18             0.0       62.461538  00-0036937   NO   \n",
       "\n",
       "    report_status  \n",
       "141           Out  \n",
       "142      Doubtful  \n",
       "230      Doubtful  \n",
       "280           Out  \n",
       "296           Out  "
      ]
     },
     "execution_count": 45,
     "metadata": {},
     "output_type": "execute_result"
    }
   ],
   "source": [
    "out_df.head(5)"
   ]
  },
  {
   "cell_type": "code",
   "execution_count": 46,
   "metadata": {},
   "outputs": [],
   "source": [
    "df_final = out_df.groupby(['team','week']).sum()[['mean_off_snaps','mean_def_snaps']].reset_index()"
   ]
  },
  {
   "cell_type": "code",
   "execution_count": 47,
   "metadata": {},
   "outputs": [],
   "source": [
    "df_final = df_final.rename(columns={'mean_off_snaps':'off_snaps_lost','mean_def_snaps':'def_snaps_lost'})"
   ]
  },
  {
   "cell_type": "code",
   "execution_count": 48,
   "metadata": {},
   "outputs": [
    {
     "data": {
      "text/html": [
       "<div>\n",
       "<style scoped>\n",
       "    .dataframe tbody tr th:only-of-type {\n",
       "        vertical-align: middle;\n",
       "    }\n",
       "\n",
       "    .dataframe tbody tr th {\n",
       "        vertical-align: top;\n",
       "    }\n",
       "\n",
       "    .dataframe thead th {\n",
       "        text-align: right;\n",
       "    }\n",
       "</style>\n",
       "<table border=\"1\" class=\"dataframe\">\n",
       "  <thead>\n",
       "    <tr style=\"text-align: right;\">\n",
       "      <th></th>\n",
       "      <th>team</th>\n",
       "      <th>week</th>\n",
       "      <th>off_snaps_lost</th>\n",
       "      <th>def_snaps_lost</th>\n",
       "    </tr>\n",
       "  </thead>\n",
       "  <tbody>\n",
       "    <tr>\n",
       "      <th>0</th>\n",
       "      <td>ARI</td>\n",
       "      <td>2</td>\n",
       "      <td>21.0</td>\n",
       "      <td>0.0</td>\n",
       "    </tr>\n",
       "    <tr>\n",
       "      <th>1</th>\n",
       "      <td>ARI</td>\n",
       "      <td>3</td>\n",
       "      <td>0.0</td>\n",
       "      <td>8.5</td>\n",
       "    </tr>\n",
       "  </tbody>\n",
       "</table>\n",
       "</div>"
      ],
      "text/plain": [
       "  team  week  off_snaps_lost  def_snaps_lost\n",
       "0  ARI     2            21.0             0.0\n",
       "1  ARI     3             0.0             8.5"
      ]
     },
     "execution_count": 48,
     "metadata": {},
     "output_type": "execute_result"
    }
   ],
   "source": [
    "df_final.head(2)"
   ]
  },
  {
   "cell_type": "code",
   "execution_count": 49,
   "metadata": {},
   "outputs": [],
   "source": [
    "import os\n",
    "root_dir = os.getcwd()"
   ]
  },
  {
   "cell_type": "code",
   "execution_count": 50,
   "metadata": {},
   "outputs": [],
   "source": [
    "df_final.to_csv(os.path.join(root_dir,'data/snaps_lost_injury.csv'),index=False)"
   ]
  },
  {
   "cell_type": "code",
   "execution_count": null,
   "metadata": {},
   "outputs": [],
   "source": []
  }
 ],
 "metadata": {
  "kernelspec": {
   "display_name": ".venv",
   "language": "python",
   "name": "python3"
  },
  "language_info": {
   "codemirror_mode": {
    "name": "ipython",
    "version": 3
   },
   "file_extension": ".py",
   "mimetype": "text/x-python",
   "name": "python",
   "nbconvert_exporter": "python",
   "pygments_lexer": "ipython3",
   "version": "3.9.15"
  }
 },
 "nbformat": 4,
 "nbformat_minor": 2
}
