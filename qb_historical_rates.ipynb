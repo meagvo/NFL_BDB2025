{
 "cells": [
  {
   "cell_type": "markdown",
   "metadata": {},
   "source": [
    "# Historical QB pass rate analysis\n",
    "\n",
    "We want to understand how QB tendencies affect pass rate; this hopefully helps smooth out noise from backup starts."
   ]
  },
  {
   "cell_type": "code",
   "execution_count": 1,
   "metadata": {},
   "outputs": [],
   "source": [
    "import pandas as pd\n",
    "import os\n",
    "import nfl_data_py as nfl"
   ]
  },
  {
   "cell_type": "code",
   "execution_count": 3,
   "metadata": {},
   "outputs": [],
   "source": [
    "root_dir = os.getcwd()\n",
    "df_games = pd.read_csv(os.path.join(root_dir,'data/games.csv'))\n",
    "df_players = pd.read_csv(os.path.join(root_dir,'data/players.csv'))\n",
    "df_play = pd.read_csv(os.path.join(root_dir,'data/plays.csv'))\n",
    "df_player_play = pd.read_csv(os.path.join(root_dir,'data/player_play.csv'))\n",
    "pfr_szn = nfl.import_seasonal_pfr('pass',[2021])\n",
    "pfr_wk = nfl.import_weekly_pfr('pass',[2021])\n",
    "isr = nfl.import_seasonal_rosters(years=[2021],columns=['player_id','pfr_id','gsis_it_id']).drop_duplicates()\n",
    "snap_df = nfl.import_snap_counts([2021])\n"
   ]
  },
  {
   "cell_type": "markdown",
   "metadata": {},
   "source": [
    "### Aggregate 2021 PFR QB data\n",
    "\n",
    "Bringing in snap data from 2021, we get play-action and overall pass rates for each QB that year:"
   ]
  },
  {
   "cell_type": "code",
   "execution_count": 4,
   "metadata": {},
   "outputs": [
    {
     "data": {
      "text/html": [
       "<div>\n",
       "<style scoped>\n",
       "    .dataframe tbody tr th:only-of-type {\n",
       "        vertical-align: middle;\n",
       "    }\n",
       "\n",
       "    .dataframe tbody tr th {\n",
       "        vertical-align: top;\n",
       "    }\n",
       "\n",
       "    .dataframe thead th {\n",
       "        text-align: right;\n",
       "    }\n",
       "</style>\n",
       "<table border=\"1\" class=\"dataframe\">\n",
       "  <thead>\n",
       "    <tr style=\"text-align: right;\">\n",
       "      <th></th>\n",
       "      <th>pfr_id</th>\n",
       "      <th>pa_pass_att</th>\n",
       "      <th>pa_pass_yards</th>\n",
       "      <th>pass_attempts</th>\n",
       "      <th>offense_snaps</th>\n",
       "      <th>qb_pa_rate_pass</th>\n",
       "      <th>qb_pa_rate_ovr</th>\n",
       "      <th>qb_pass_rate</th>\n",
       "    </tr>\n",
       "  </thead>\n",
       "  <tbody>\n",
       "    <tr>\n",
       "      <th>0</th>\n",
       "      <td>BradTo00</td>\n",
       "      <td>113.0</td>\n",
       "      <td>912.0</td>\n",
       "      <td>719.0</td>\n",
       "      <td>1284.0</td>\n",
       "      <td>0.157163</td>\n",
       "      <td>0.088006</td>\n",
       "      <td>0.559969</td>\n",
       "    </tr>\n",
       "  </tbody>\n",
       "</table>\n",
       "</div>"
      ],
      "text/plain": [
       "     pfr_id  pa_pass_att  pa_pass_yards  pass_attempts  offense_snaps  \\\n",
       "0  BradTo00        113.0          912.0          719.0         1284.0   \n",
       "\n",
       "   qb_pa_rate_pass  qb_pa_rate_ovr  qb_pass_rate  \n",
       "0         0.157163        0.088006      0.559969  "
      ]
     },
     "execution_count": 4,
     "metadata": {},
     "output_type": "execute_result"
    }
   ],
   "source": [
    "# get '21 nflverse snap data, merge into pfr pass info\n",
    "snap_szn = snap_df.groupby('pfr_player_id')['offense_snaps'].sum().reset_index()\n",
    "pfr_sub = pfr_szn[['pfr_id','pa_pass_att','pa_pass_yards','pass_attempts']].merge(snap_szn,how='left',left_on='pfr_id',right_on='pfr_player_id').drop(columns=['pfr_player_id'])\n",
    "\n",
    "# calculate PA, overall pass rates for '21\n",
    "pfr_sub['qb_pa_rate_pass'] = pfr_sub['pa_pass_att']/pfr_sub['pass_attempts']\n",
    "pfr_sub['qb_pa_rate_ovr'] = pfr_sub['pa_pass_att']/pfr_sub['offense_snaps']\n",
    "pfr_sub['qb_pass_rate'] = pfr_sub['pass_attempts']/pfr_sub['offense_snaps']\n",
    "pfr_sub.head(1)"
   ]
  },
  {
   "cell_type": "markdown",
   "metadata": {},
   "source": [
    "We then get ID's to match our '22 data (as long as they have a meaningful sample size)"
   ]
  },
  {
   "cell_type": "code",
   "execution_count": 13,
   "metadata": {},
   "outputs": [
    {
     "data": {
      "text/html": [
       "<div>\n",
       "<style scoped>\n",
       "    .dataframe tbody tr th:only-of-type {\n",
       "        vertical-align: middle;\n",
       "    }\n",
       "\n",
       "    .dataframe tbody tr th {\n",
       "        vertical-align: top;\n",
       "    }\n",
       "\n",
       "    .dataframe thead th {\n",
       "        text-align: right;\n",
       "    }\n",
       "</style>\n",
       "<table border=\"1\" class=\"dataframe\">\n",
       "  <thead>\n",
       "    <tr style=\"text-align: right;\">\n",
       "      <th></th>\n",
       "      <th>gsis_it_id</th>\n",
       "      <th>pa_pass_att</th>\n",
       "      <th>pa_pass_yards</th>\n",
       "      <th>pass_attempts</th>\n",
       "      <th>offense_snaps</th>\n",
       "      <th>qb_pa_rate_pass</th>\n",
       "      <th>qb_pa_rate_ovr</th>\n",
       "      <th>qb_pass_rate</th>\n",
       "    </tr>\n",
       "  </thead>\n",
       "  <tbody>\n",
       "    <tr>\n",
       "      <th>0</th>\n",
       "      <td>25511</td>\n",
       "      <td>113.0</td>\n",
       "      <td>912.0</td>\n",
       "      <td>719.0</td>\n",
       "      <td>1284.0</td>\n",
       "      <td>0.157163</td>\n",
       "      <td>0.088006</td>\n",
       "      <td>0.559969</td>\n",
       "    </tr>\n",
       "  </tbody>\n",
       "</table>\n",
       "</div>"
      ],
      "text/plain": [
       "  gsis_it_id  pa_pass_att  pa_pass_yards  pass_attempts  offense_snaps  \\\n",
       "0      25511        113.0          912.0          719.0         1284.0   \n",
       "\n",
       "   qb_pa_rate_pass  qb_pa_rate_ovr  qb_pass_rate  \n",
       "0         0.157163        0.088006      0.559969  "
      ]
     },
     "execution_count": 13,
     "metadata": {},
     "output_type": "execute_result"
    }
   ],
   "source": [
    "# pa_pass att = arbitrary column, same amt of na's for all features\n",
    "pfr_id_rect = isr.merge(pfr_sub,how='left').dropna(subset='pa_pass_att').drop(columns=['player_id','pfr_id'])\n",
    "pfr_id_rect = pfr_id_rect[pfr_id_rect['pass_attempts'] >= 20]\n",
    "pfr_id_rect.head(1)"
   ]
  },
  {
   "cell_type": "markdown",
   "metadata": {},
   "source": [
    "### Aggregate 2022 data\n",
    "\n",
    "We now bring in '22 data, getting QB data—aggregated to the game level—for that year"
   ]
  },
  {
   "cell_type": "code",
   "execution_count": 14,
   "metadata": {},
   "outputs": [],
   "source": [
    "# bring in position, PA and pass flags\n",
    "df_pos = df_player_play[['gameId','playId','nflId']].merge(df_players[['nflId','position']],how='left')\n",
    "df_comp = df_pos.merge(df_play[['gameId','playId','playAction','isDropback']])\n",
    "\n",
    "# group QB passing data to game level, add explicit week info\n",
    "qb_grp = df_comp[df_comp.position=='QB'].groupby(['gameId','nflId']).agg(pa_ct_game=('playAction','sum'),snap_ct=('playAction','count'),pass_ct=('isDropback','sum')).reset_index()\n",
    "qb_trunc = qb_grp.merge(df_games[['gameId','week']].drop_duplicates(),how='left').sort_values(by=['nflId','week'])"
   ]
  },
  {
   "cell_type": "markdown",
   "metadata": {},
   "source": [
    "We then get '22 pass ratios:"
   ]
  },
  {
   "cell_type": "code",
   "execution_count": 15,
   "metadata": {},
   "outputs": [],
   "source": [
    "qb_trunc['qb_pass_rate'] = qb_trunc['pass_ct']/qb_trunc['snap_ct']\n",
    "qb_trunc['qb_pa_rate_ovr'] = qb_trunc['pa_ct_game']/qb_trunc['snap_ct']\n",
    "qb_trunc['qb_pa_rate_pass'] = qb_trunc['pa_ct_game']/qb_trunc['pass_ct']\n",
    "qb_trunc['week'] = qb_trunc['week'].astype(int)"
   ]
  },
  {
   "cell_type": "code",
   "execution_count": 16,
   "metadata": {},
   "outputs": [
    {
     "data": {
      "text/html": [
       "<div>\n",
       "<style scoped>\n",
       "    .dataframe tbody tr th:only-of-type {\n",
       "        vertical-align: middle;\n",
       "    }\n",
       "\n",
       "    .dataframe tbody tr th {\n",
       "        vertical-align: top;\n",
       "    }\n",
       "\n",
       "    .dataframe thead th {\n",
       "        text-align: right;\n",
       "    }\n",
       "</style>\n",
       "<table border=\"1\" class=\"dataframe\">\n",
       "  <thead>\n",
       "    <tr style=\"text-align: right;\">\n",
       "      <th></th>\n",
       "      <th>gameId</th>\n",
       "      <th>nflId</th>\n",
       "      <th>pa_ct_game</th>\n",
       "      <th>snap_ct</th>\n",
       "      <th>pass_ct</th>\n",
       "      <th>week</th>\n",
       "      <th>qb_pass_rate</th>\n",
       "      <th>qb_pa_rate_ovr</th>\n",
       "      <th>qb_pa_rate_pass</th>\n",
       "    </tr>\n",
       "  </thead>\n",
       "  <tbody>\n",
       "    <tr>\n",
       "      <th>33</th>\n",
       "      <td>2022091113</td>\n",
       "      <td>25511</td>\n",
       "      <td>8</td>\n",
       "      <td>58</td>\n",
       "      <td>26</td>\n",
       "      <td>1</td>\n",
       "      <td>0.448276</td>\n",
       "      <td>0.137931</td>\n",
       "      <td>0.307692</td>\n",
       "    </tr>\n",
       "  </tbody>\n",
       "</table>\n",
       "</div>"
      ],
      "text/plain": [
       "        gameId  nflId  pa_ct_game  snap_ct  pass_ct  week  qb_pass_rate  \\\n",
       "33  2022091113  25511           8       58       26     1      0.448276   \n",
       "\n",
       "    qb_pa_rate_ovr  qb_pa_rate_pass  \n",
       "33        0.137931         0.307692  "
      ]
     },
     "execution_count": 16,
     "metadata": {},
     "output_type": "execute_result"
    }
   ],
   "source": [
    "qb_trunc.head(1)"
   ]
  },
  {
   "cell_type": "markdown",
   "metadata": {},
   "source": [
    "### Bring data together, get mean\n",
    "\n",
    "Using '21 rates as week 1 data, we bring it together with '22 data."
   ]
  },
  {
   "cell_type": "code",
   "execution_count": 17,
   "metadata": {},
   "outputs": [],
   "source": [
    "# adjust ID typing\n",
    "pfr_id_rect.rename(columns={'gsis_it_id':'nflId'},inplace=True)\n",
    "pfr_id_rect['nflId'] = pfr_id_rect['nflId'].astype(str)\n",
    "qb_trunc['nflId'] = qb_trunc['nflId'].astype(str)\n",
    "\n",
    "# set '21 data as week 1, uptick other weeks\n",
    "pfr_id_rect['week']=1\n",
    "qb_trunc['week']+=1\n",
    "\n",
    "# stack '21 (our proxy week 1) and '22 (week 2-9) data\n",
    "reduce_cols = ['nflId','week','qb_pass_rate','qb_pa_rate_ovr','qb_pa_rate_pass']\n",
    "qb_w_21 = pd.concat([pfr_id_rect[reduce_cols],qb_trunc[reduce_cols]],axis=0)"
   ]
  },
  {
   "cell_type": "markdown",
   "metadata": {},
   "source": [
    "We now get the running average for each of our pass rates:"
   ]
  },
  {
   "cell_type": "code",
   "execution_count": 18,
   "metadata": {},
   "outputs": [],
   "source": [
    "# get cumulative sum for each feature\n",
    "mean_cols  = ['qb_pass_rate','qb_pa_rate_ovr','qb_pa_rate_pass']\n",
    "qb_w_21.sort_values(by=['nflId','week'],inplace=True)\n",
    "qb_full = pd.concat([qb_w_21[['nflId','week']],qb_w_21.groupby(['nflId'])[mean_cols].cumsum()],axis=1)\n",
    "qb_full = pd.concat([qb_full,qb_full.groupby(['nflId']).agg(qb_week=('week','cumcount'))],axis=1)\n",
    "qb_full['qb_week']+=1 # num. start of qb's season; default start ind 0 so bump by 1\n",
    "\n",
    "# get average by dividing by week num.\n",
    "for col in mean_cols: \n",
    "    qb_full[col] = qb_full[col].values/qb_full['qb_week'].values\n",
    "\n",
    "qb_full.drop(columns=['qb_week'],inplace=True)"
   ]
  },
  {
   "cell_type": "markdown",
   "metadata": {},
   "source": [
    "### Get pass rate EWM\n",
    "\n",
    "Note we don't need to shift here b/c we already did implicitly via week uptick earlier"
   ]
  },
  {
   "cell_type": "code",
   "execution_count": 19,
   "metadata": {},
   "outputs": [],
   "source": [
    "ewm_temp = qb_w_21.copy()\n",
    "for col in mean_cols:\n",
    "    ewm_temp[col+'_ewm'] = ewm_temp.groupby(['nflId'])[col].transform(lambda x: x.ewm(alpha=.1).mean())\n",
    "    ewm_temp.drop(columns=[col],inplace=True)"
   ]
  },
  {
   "cell_type": "markdown",
   "metadata": {},
   "source": [
    "Basically, we see a slight up-weighting of recent weeks for the EWM, which is its intent:"
   ]
  },
  {
   "cell_type": "code",
   "execution_count": 20,
   "metadata": {},
   "outputs": [
    {
     "data": {
      "text/html": [
       "<div>\n",
       "<style scoped>\n",
       "    .dataframe tbody tr th:only-of-type {\n",
       "        vertical-align: middle;\n",
       "    }\n",
       "\n",
       "    .dataframe tbody tr th {\n",
       "        vertical-align: top;\n",
       "    }\n",
       "\n",
       "    .dataframe thead th {\n",
       "        text-align: right;\n",
       "    }\n",
       "</style>\n",
       "<table border=\"1\" class=\"dataframe\">\n",
       "  <thead>\n",
       "    <tr style=\"text-align: right;\">\n",
       "      <th></th>\n",
       "      <th>nflId</th>\n",
       "      <th>week</th>\n",
       "      <th>qb_pass_rate</th>\n",
       "      <th>qb_pa_rate_ovr</th>\n",
       "      <th>qb_pa_rate_pass</th>\n",
       "    </tr>\n",
       "  </thead>\n",
       "  <tbody>\n",
       "    <tr>\n",
       "      <th>167</th>\n",
       "      <td>54712</td>\n",
       "      <td>6</td>\n",
       "      <td>0.561404</td>\n",
       "      <td>0.087719</td>\n",
       "      <td>0.156250</td>\n",
       "    </tr>\n",
       "    <tr>\n",
       "      <th>197</th>\n",
       "      <td>54712</td>\n",
       "      <td>7</td>\n",
       "      <td>0.714286</td>\n",
       "      <td>0.238095</td>\n",
       "      <td>0.333333</td>\n",
       "    </tr>\n",
       "  </tbody>\n",
       "</table>\n",
       "</div>"
      ],
      "text/plain": [
       "     nflId  week  qb_pass_rate  qb_pa_rate_ovr  qb_pa_rate_pass\n",
       "167  54712     6      0.561404        0.087719         0.156250\n",
       "197  54712     7      0.714286        0.238095         0.333333"
      ]
     },
     "execution_count": 20,
     "metadata": {},
     "output_type": "execute_result"
    }
   ],
   "source": [
    "qb_w_21[qb_w_21['nflId'] == '54712']"
   ]
  },
  {
   "cell_type": "code",
   "execution_count": 21,
   "metadata": {},
   "outputs": [
    {
     "data": {
      "text/html": [
       "<div>\n",
       "<style scoped>\n",
       "    .dataframe tbody tr th:only-of-type {\n",
       "        vertical-align: middle;\n",
       "    }\n",
       "\n",
       "    .dataframe tbody tr th {\n",
       "        vertical-align: top;\n",
       "    }\n",
       "\n",
       "    .dataframe thead th {\n",
       "        text-align: right;\n",
       "    }\n",
       "</style>\n",
       "<table border=\"1\" class=\"dataframe\">\n",
       "  <thead>\n",
       "    <tr style=\"text-align: right;\">\n",
       "      <th></th>\n",
       "      <th>nflId</th>\n",
       "      <th>week</th>\n",
       "      <th>qb_pass_rate_ewm</th>\n",
       "      <th>qb_pa_rate_ovr_ewm</th>\n",
       "      <th>qb_pa_rate_pass_ewm</th>\n",
       "    </tr>\n",
       "  </thead>\n",
       "  <tbody>\n",
       "    <tr>\n",
       "      <th>167</th>\n",
       "      <td>54712</td>\n",
       "      <td>6</td>\n",
       "      <td>0.561404</td>\n",
       "      <td>0.087719</td>\n",
       "      <td>0.156250</td>\n",
       "    </tr>\n",
       "    <tr>\n",
       "      <th>197</th>\n",
       "      <td>54712</td>\n",
       "      <td>7</td>\n",
       "      <td>0.641868</td>\n",
       "      <td>0.166865</td>\n",
       "      <td>0.249452</td>\n",
       "    </tr>\n",
       "  </tbody>\n",
       "</table>\n",
       "</div>"
      ],
      "text/plain": [
       "     nflId  week  qb_pass_rate_ewm  qb_pa_rate_ovr_ewm  qb_pa_rate_pass_ewm\n",
       "167  54712     6          0.561404            0.087719             0.156250\n",
       "197  54712     7          0.641868            0.166865             0.249452"
      ]
     },
     "execution_count": 21,
     "metadata": {},
     "output_type": "execute_result"
    }
   ],
   "source": [
    "ewm_temp[ewm_temp.nflId =='54712']"
   ]
  },
  {
   "cell_type": "code",
   "execution_count": 22,
   "metadata": {},
   "outputs": [
    {
     "data": {
      "text/html": [
       "<div>\n",
       "<style scoped>\n",
       "    .dataframe tbody tr th:only-of-type {\n",
       "        vertical-align: middle;\n",
       "    }\n",
       "\n",
       "    .dataframe tbody tr th {\n",
       "        vertical-align: top;\n",
       "    }\n",
       "\n",
       "    .dataframe thead th {\n",
       "        text-align: right;\n",
       "    }\n",
       "</style>\n",
       "<table border=\"1\" class=\"dataframe\">\n",
       "  <thead>\n",
       "    <tr style=\"text-align: right;\">\n",
       "      <th></th>\n",
       "      <th>nflId</th>\n",
       "      <th>week</th>\n",
       "      <th>qb_pass_rate</th>\n",
       "      <th>qb_pa_rate_ovr</th>\n",
       "      <th>qb_pa_rate_pass</th>\n",
       "    </tr>\n",
       "  </thead>\n",
       "  <tbody>\n",
       "    <tr>\n",
       "      <th>167</th>\n",
       "      <td>54712</td>\n",
       "      <td>6</td>\n",
       "      <td>0.561404</td>\n",
       "      <td>0.087719</td>\n",
       "      <td>0.156250</td>\n",
       "    </tr>\n",
       "    <tr>\n",
       "      <th>197</th>\n",
       "      <td>54712</td>\n",
       "      <td>7</td>\n",
       "      <td>0.637845</td>\n",
       "      <td>0.162907</td>\n",
       "      <td>0.244792</td>\n",
       "    </tr>\n",
       "  </tbody>\n",
       "</table>\n",
       "</div>"
      ],
      "text/plain": [
       "     nflId  week  qb_pass_rate  qb_pa_rate_ovr  qb_pa_rate_pass\n",
       "167  54712     6      0.561404        0.087719         0.156250\n",
       "197  54712     7      0.637845        0.162907         0.244792"
      ]
     },
     "execution_count": 22,
     "metadata": {},
     "output_type": "execute_result"
    }
   ],
   "source": [
    "qb_full[qb_full.nflId == '54712']"
   ]
  },
  {
   "cell_type": "code",
   "execution_count": 23,
   "metadata": {},
   "outputs": [],
   "source": [
    "qb_full = qb_full.merge(ewm_temp,how='left',on=['nflId','week'])"
   ]
  },
  {
   "cell_type": "markdown",
   "metadata": {},
   "source": [
    "# Fill missing data\n",
    "\n",
    "For whatever reason, some QB's did not play in '21, so we have to figure out how to fill their data.\n",
    "\n",
    "Since we're shifting a week, we must use the last prior record we have for a QB, or use default values\n",
    "\n",
    "First we make it s.t. each QB-week pair has a value, using a cartesian product:"
   ]
  },
  {
   "cell_type": "code",
   "execution_count": 24,
   "metadata": {},
   "outputs": [
    {
     "data": {
      "text/html": [
       "<div>\n",
       "<style scoped>\n",
       "    .dataframe tbody tr th:only-of-type {\n",
       "        vertical-align: middle;\n",
       "    }\n",
       "\n",
       "    .dataframe tbody tr th {\n",
       "        vertical-align: top;\n",
       "    }\n",
       "\n",
       "    .dataframe thead th {\n",
       "        text-align: right;\n",
       "    }\n",
       "</style>\n",
       "<table border=\"1\" class=\"dataframe\">\n",
       "  <thead>\n",
       "    <tr style=\"text-align: right;\">\n",
       "      <th></th>\n",
       "      <th>nflId</th>\n",
       "      <th>week</th>\n",
       "      <th>qb_pass_rate</th>\n",
       "      <th>qb_pa_rate_ovr</th>\n",
       "      <th>qb_pa_rate_pass</th>\n",
       "      <th>qb_pass_rate_ewm</th>\n",
       "      <th>qb_pa_rate_ovr_ewm</th>\n",
       "      <th>qb_pa_rate_pass_ewm</th>\n",
       "    </tr>\n",
       "  </thead>\n",
       "  <tbody>\n",
       "    <tr>\n",
       "      <th>549</th>\n",
       "      <td>54727</td>\n",
       "      <td>1</td>\n",
       "      <td>NaN</td>\n",
       "      <td>NaN</td>\n",
       "      <td>NaN</td>\n",
       "      <td>NaN</td>\n",
       "      <td>NaN</td>\n",
       "      <td>NaN</td>\n",
       "    </tr>\n",
       "    <tr>\n",
       "      <th>550</th>\n",
       "      <td>54727</td>\n",
       "      <td>2</td>\n",
       "      <td>NaN</td>\n",
       "      <td>NaN</td>\n",
       "      <td>NaN</td>\n",
       "      <td>NaN</td>\n",
       "      <td>NaN</td>\n",
       "      <td>NaN</td>\n",
       "    </tr>\n",
       "    <tr>\n",
       "      <th>551</th>\n",
       "      <td>54727</td>\n",
       "      <td>3</td>\n",
       "      <td>NaN</td>\n",
       "      <td>NaN</td>\n",
       "      <td>NaN</td>\n",
       "      <td>NaN</td>\n",
       "      <td>NaN</td>\n",
       "      <td>NaN</td>\n",
       "    </tr>\n",
       "    <tr>\n",
       "      <th>552</th>\n",
       "      <td>54727</td>\n",
       "      <td>4</td>\n",
       "      <td>NaN</td>\n",
       "      <td>NaN</td>\n",
       "      <td>NaN</td>\n",
       "      <td>NaN</td>\n",
       "      <td>NaN</td>\n",
       "      <td>NaN</td>\n",
       "    </tr>\n",
       "    <tr>\n",
       "      <th>553</th>\n",
       "      <td>54727</td>\n",
       "      <td>5</td>\n",
       "      <td>NaN</td>\n",
       "      <td>NaN</td>\n",
       "      <td>NaN</td>\n",
       "      <td>NaN</td>\n",
       "      <td>NaN</td>\n",
       "      <td>NaN</td>\n",
       "    </tr>\n",
       "    <tr>\n",
       "      <th>554</th>\n",
       "      <td>54727</td>\n",
       "      <td>6</td>\n",
       "      <td>0.0</td>\n",
       "      <td>0.0</td>\n",
       "      <td>NaN</td>\n",
       "      <td>0.000000</td>\n",
       "      <td>0.0</td>\n",
       "      <td>NaN</td>\n",
       "    </tr>\n",
       "    <tr>\n",
       "      <th>555</th>\n",
       "      <td>54727</td>\n",
       "      <td>7</td>\n",
       "      <td>NaN</td>\n",
       "      <td>NaN</td>\n",
       "      <td>NaN</td>\n",
       "      <td>NaN</td>\n",
       "      <td>NaN</td>\n",
       "      <td>NaN</td>\n",
       "    </tr>\n",
       "    <tr>\n",
       "      <th>556</th>\n",
       "      <td>54727</td>\n",
       "      <td>8</td>\n",
       "      <td>0.5</td>\n",
       "      <td>0.0</td>\n",
       "      <td>0.0</td>\n",
       "      <td>0.526316</td>\n",
       "      <td>0.0</td>\n",
       "      <td>0.0</td>\n",
       "    </tr>\n",
       "    <tr>\n",
       "      <th>557</th>\n",
       "      <td>54727</td>\n",
       "      <td>9</td>\n",
       "      <td>NaN</td>\n",
       "      <td>NaN</td>\n",
       "      <td>NaN</td>\n",
       "      <td>NaN</td>\n",
       "      <td>NaN</td>\n",
       "      <td>NaN</td>\n",
       "    </tr>\n",
       "  </tbody>\n",
       "</table>\n",
       "</div>"
      ],
      "text/plain": [
       "     nflId  week  qb_pass_rate  qb_pa_rate_ovr  qb_pa_rate_pass  \\\n",
       "549  54727     1           NaN             NaN              NaN   \n",
       "550  54727     2           NaN             NaN              NaN   \n",
       "551  54727     3           NaN             NaN              NaN   \n",
       "552  54727     4           NaN             NaN              NaN   \n",
       "553  54727     5           NaN             NaN              NaN   \n",
       "554  54727     6           0.0             0.0              NaN   \n",
       "555  54727     7           NaN             NaN              NaN   \n",
       "556  54727     8           0.5             0.0              0.0   \n",
       "557  54727     9           NaN             NaN              NaN   \n",
       "\n",
       "     qb_pass_rate_ewm  qb_pa_rate_ovr_ewm  qb_pa_rate_pass_ewm  \n",
       "549               NaN                 NaN                  NaN  \n",
       "550               NaN                 NaN                  NaN  \n",
       "551               NaN                 NaN                  NaN  \n",
       "552               NaN                 NaN                  NaN  \n",
       "553               NaN                 NaN                  NaN  \n",
       "554          0.000000                 0.0                  NaN  \n",
       "555               NaN                 NaN                  NaN  \n",
       "556          0.526316                 0.0                  0.0  \n",
       "557               NaN                 NaN                  NaN  "
      ]
     },
     "execution_count": 24,
     "metadata": {},
     "output_type": "execute_result"
    }
   ],
   "source": [
    "ci = pd.merge(qb_trunc['nflId'].drop_duplicates(), pd.Series(list(range(1,10))).rename('week'), how='cross',copy=False).sort_values(by=['nflId','week'])\n",
    "qb_aw = ci.merge(qb_full,how='left')\n",
    "qb_aw.tail(9)"
   ]
  },
  {
   "cell_type": "markdown",
   "metadata": {},
   "source": [
    "Next, we forward-fill within groups for QB's, to the 'using last known value' point:"
   ]
  },
  {
   "cell_type": "code",
   "execution_count": 25,
   "metadata": {},
   "outputs": [],
   "source": [
    "qb_ffill_pre = pd.concat([qb_aw['nflId'],qb_aw.groupby('nflId').ffill()],axis=1)"
   ]
  },
  {
   "cell_type": "code",
   "execution_count": 26,
   "metadata": {},
   "outputs": [
    {
     "data": {
      "text/html": [
       "<div>\n",
       "<style scoped>\n",
       "    .dataframe tbody tr th:only-of-type {\n",
       "        vertical-align: middle;\n",
       "    }\n",
       "\n",
       "    .dataframe tbody tr th {\n",
       "        vertical-align: top;\n",
       "    }\n",
       "\n",
       "    .dataframe thead th {\n",
       "        text-align: right;\n",
       "    }\n",
       "</style>\n",
       "<table border=\"1\" class=\"dataframe\">\n",
       "  <thead>\n",
       "    <tr style=\"text-align: right;\">\n",
       "      <th></th>\n",
       "      <th>nflId</th>\n",
       "      <th>week</th>\n",
       "      <th>qb_pass_rate</th>\n",
       "      <th>qb_pa_rate_ovr</th>\n",
       "      <th>qb_pa_rate_pass</th>\n",
       "      <th>qb_pass_rate_ewm</th>\n",
       "      <th>qb_pa_rate_ovr_ewm</th>\n",
       "      <th>qb_pa_rate_pass_ewm</th>\n",
       "    </tr>\n",
       "  </thead>\n",
       "  <tbody>\n",
       "    <tr>\n",
       "      <th>549</th>\n",
       "      <td>54727</td>\n",
       "      <td>1</td>\n",
       "      <td>NaN</td>\n",
       "      <td>NaN</td>\n",
       "      <td>NaN</td>\n",
       "      <td>NaN</td>\n",
       "      <td>NaN</td>\n",
       "      <td>NaN</td>\n",
       "    </tr>\n",
       "    <tr>\n",
       "      <th>550</th>\n",
       "      <td>54727</td>\n",
       "      <td>2</td>\n",
       "      <td>NaN</td>\n",
       "      <td>NaN</td>\n",
       "      <td>NaN</td>\n",
       "      <td>NaN</td>\n",
       "      <td>NaN</td>\n",
       "      <td>NaN</td>\n",
       "    </tr>\n",
       "    <tr>\n",
       "      <th>551</th>\n",
       "      <td>54727</td>\n",
       "      <td>3</td>\n",
       "      <td>NaN</td>\n",
       "      <td>NaN</td>\n",
       "      <td>NaN</td>\n",
       "      <td>NaN</td>\n",
       "      <td>NaN</td>\n",
       "      <td>NaN</td>\n",
       "    </tr>\n",
       "    <tr>\n",
       "      <th>552</th>\n",
       "      <td>54727</td>\n",
       "      <td>4</td>\n",
       "      <td>NaN</td>\n",
       "      <td>NaN</td>\n",
       "      <td>NaN</td>\n",
       "      <td>NaN</td>\n",
       "      <td>NaN</td>\n",
       "      <td>NaN</td>\n",
       "    </tr>\n",
       "    <tr>\n",
       "      <th>553</th>\n",
       "      <td>54727</td>\n",
       "      <td>5</td>\n",
       "      <td>NaN</td>\n",
       "      <td>NaN</td>\n",
       "      <td>NaN</td>\n",
       "      <td>NaN</td>\n",
       "      <td>NaN</td>\n",
       "      <td>NaN</td>\n",
       "    </tr>\n",
       "    <tr>\n",
       "      <th>554</th>\n",
       "      <td>54727</td>\n",
       "      <td>6</td>\n",
       "      <td>0.0</td>\n",
       "      <td>0.0</td>\n",
       "      <td>NaN</td>\n",
       "      <td>0.000000</td>\n",
       "      <td>0.0</td>\n",
       "      <td>NaN</td>\n",
       "    </tr>\n",
       "    <tr>\n",
       "      <th>555</th>\n",
       "      <td>54727</td>\n",
       "      <td>7</td>\n",
       "      <td>0.0</td>\n",
       "      <td>0.0</td>\n",
       "      <td>NaN</td>\n",
       "      <td>0.000000</td>\n",
       "      <td>0.0</td>\n",
       "      <td>NaN</td>\n",
       "    </tr>\n",
       "    <tr>\n",
       "      <th>556</th>\n",
       "      <td>54727</td>\n",
       "      <td>8</td>\n",
       "      <td>0.5</td>\n",
       "      <td>0.0</td>\n",
       "      <td>0.0</td>\n",
       "      <td>0.526316</td>\n",
       "      <td>0.0</td>\n",
       "      <td>0.0</td>\n",
       "    </tr>\n",
       "    <tr>\n",
       "      <th>557</th>\n",
       "      <td>54727</td>\n",
       "      <td>9</td>\n",
       "      <td>0.5</td>\n",
       "      <td>0.0</td>\n",
       "      <td>0.0</td>\n",
       "      <td>0.526316</td>\n",
       "      <td>0.0</td>\n",
       "      <td>0.0</td>\n",
       "    </tr>\n",
       "  </tbody>\n",
       "</table>\n",
       "</div>"
      ],
      "text/plain": [
       "     nflId  week  qb_pass_rate  qb_pa_rate_ovr  qb_pa_rate_pass  \\\n",
       "549  54727     1           NaN             NaN              NaN   \n",
       "550  54727     2           NaN             NaN              NaN   \n",
       "551  54727     3           NaN             NaN              NaN   \n",
       "552  54727     4           NaN             NaN              NaN   \n",
       "553  54727     5           NaN             NaN              NaN   \n",
       "554  54727     6           0.0             0.0              NaN   \n",
       "555  54727     7           0.0             0.0              NaN   \n",
       "556  54727     8           0.5             0.0              0.0   \n",
       "557  54727     9           0.5             0.0              0.0   \n",
       "\n",
       "     qb_pass_rate_ewm  qb_pa_rate_ovr_ewm  qb_pa_rate_pass_ewm  \n",
       "549               NaN                 NaN                  NaN  \n",
       "550               NaN                 NaN                  NaN  \n",
       "551               NaN                 NaN                  NaN  \n",
       "552               NaN                 NaN                  NaN  \n",
       "553               NaN                 NaN                  NaN  \n",
       "554          0.000000                 0.0                  NaN  \n",
       "555          0.000000                 0.0                  NaN  \n",
       "556          0.526316                 0.0                  0.0  \n",
       "557          0.526316                 0.0                  0.0  "
      ]
     },
     "execution_count": 26,
     "metadata": {},
     "output_type": "execute_result"
    }
   ],
   "source": [
    "qb_ffill_pre.tail(9)"
   ]
  },
  {
   "cell_type": "markdown",
   "metadata": {},
   "source": [
    "As we can see, zero-pass-rates cause issues for % of passes which are PA (div 0), so we fix those"
   ]
  },
  {
   "cell_type": "code",
   "execution_count": 27,
   "metadata": {},
   "outputs": [
    {
     "data": {
      "text/plain": [
       "nflId                   0\n",
       "week                    0\n",
       "qb_pass_rate           65\n",
       "qb_pa_rate_ovr         65\n",
       "qb_pa_rate_pass        87\n",
       "qb_pass_rate_ewm       65\n",
       "qb_pa_rate_ovr_ewm     65\n",
       "qb_pa_rate_pass_ewm    87\n",
       "dtype: int64"
      ]
     },
     "execution_count": 27,
     "metadata": {},
     "output_type": "execute_result"
    }
   ],
   "source": [
    "qb_ffill_pre.isna().sum()"
   ]
  },
  {
   "cell_type": "code",
   "execution_count": 28,
   "metadata": {},
   "outputs": [],
   "source": [
    "qb_ffill_pre.loc[qb_ffill_pre['qb_pass_rate'] == 0,'qb_pa_rate_ovr'] = 0\n",
    "qb_ffill_pre.loc[qb_ffill_pre['qb_pass_rate'] == 0,'qb_pa_rate_pass'] = 0"
   ]
  },
  {
   "cell_type": "markdown",
   "metadata": {},
   "source": [
    "Everything else left, fill with base values:"
   ]
  },
  {
   "cell_type": "code",
   "execution_count": 29,
   "metadata": {},
   "outputs": [],
   "source": [
    "qb_ffill_pre['qb_pass_rate'] = qb_ffill_pre['qb_pass_rate'].fillna(.54)\n",
    "qb_ffill_pre['qb_pa_rate_ovr'] = qb_ffill_pre['qb_pa_rate_ovr'].fillna(.13)\n",
    "qb_ffill_pre['qb_pa_rate_pass'] = qb_ffill_pre['qb_pa_rate_pass'].fillna(.24)\n",
    "qb_ffill_pre['qb_pass_rate_ewm'] = qb_ffill_pre['qb_pass_rate_ewm'].fillna(.54)\n",
    "qb_ffill_pre['qb_pa_rate_ovr_ewm'] = qb_ffill_pre['qb_pa_rate_ovr_ewm'].fillna(.13)\n",
    "qb_ffill_pre['qb_pa_rate_pass_ewm'] = qb_ffill_pre['qb_pa_rate_pass_ewm'].fillna(.24)"
   ]
  },
  {
   "cell_type": "markdown",
   "metadata": {},
   "source": [
    "### Reintegrate data\n",
    "\n",
    "We first get info for the qb's to actually play on each down:"
   ]
  },
  {
   "cell_type": "code",
   "execution_count": 30,
   "metadata": {},
   "outputs": [
    {
     "data": {
      "text/html": [
       "<div>\n",
       "<style scoped>\n",
       "    .dataframe tbody tr th:only-of-type {\n",
       "        vertical-align: middle;\n",
       "    }\n",
       "\n",
       "    .dataframe tbody tr th {\n",
       "        vertical-align: top;\n",
       "    }\n",
       "\n",
       "    .dataframe thead th {\n",
       "        text-align: right;\n",
       "    }\n",
       "</style>\n",
       "<table border=\"1\" class=\"dataframe\">\n",
       "  <thead>\n",
       "    <tr style=\"text-align: right;\">\n",
       "      <th></th>\n",
       "      <th>gameId</th>\n",
       "      <th>playId</th>\n",
       "      <th>nflId</th>\n",
       "      <th>week</th>\n",
       "    </tr>\n",
       "  </thead>\n",
       "  <tbody>\n",
       "    <tr>\n",
       "      <th>0</th>\n",
       "      <td>2022090800</td>\n",
       "      <td>56</td>\n",
       "      <td>46076</td>\n",
       "      <td>1</td>\n",
       "    </tr>\n",
       "    <tr>\n",
       "      <th>1</th>\n",
       "      <td>2022090800</td>\n",
       "      <td>80</td>\n",
       "      <td>46076</td>\n",
       "      <td>1</td>\n",
       "    </tr>\n",
       "    <tr>\n",
       "      <th>2</th>\n",
       "      <td>2022090800</td>\n",
       "      <td>101</td>\n",
       "      <td>46076</td>\n",
       "      <td>1</td>\n",
       "    </tr>\n",
       "    <tr>\n",
       "      <th>3</th>\n",
       "      <td>2022090800</td>\n",
       "      <td>122</td>\n",
       "      <td>46076</td>\n",
       "      <td>1</td>\n",
       "    </tr>\n",
       "    <tr>\n",
       "      <th>4</th>\n",
       "      <td>2022090800</td>\n",
       "      <td>167</td>\n",
       "      <td>46076</td>\n",
       "      <td>1</td>\n",
       "    </tr>\n",
       "  </tbody>\n",
       "</table>\n",
       "</div>"
      ],
      "text/plain": [
       "       gameId  playId  nflId  week\n",
       "0  2022090800      56  46076     1\n",
       "1  2022090800      80  46076     1\n",
       "2  2022090800     101  46076     1\n",
       "3  2022090800     122  46076     1\n",
       "4  2022090800     167  46076     1"
      ]
     },
     "execution_count": 30,
     "metadata": {},
     "output_type": "execute_result"
    }
   ],
   "source": [
    "qb_wk = df_comp[df_comp.position=='QB'].merge(df_games[['gameId','week']].drop_duplicates(),how='left')[['gameId','playId','nflId','week']]\n",
    "qb_wk.head(5)"
   ]
  },
  {
   "cell_type": "markdown",
   "metadata": {},
   "source": [
    "Then, we integrate our cleaned metric dataframe:"
   ]
  },
  {
   "cell_type": "code",
   "execution_count": 31,
   "metadata": {},
   "outputs": [
    {
     "data": {
      "text/html": [
       "<div>\n",
       "<style scoped>\n",
       "    .dataframe tbody tr th:only-of-type {\n",
       "        vertical-align: middle;\n",
       "    }\n",
       "\n",
       "    .dataframe tbody tr th {\n",
       "        vertical-align: top;\n",
       "    }\n",
       "\n",
       "    .dataframe thead th {\n",
       "        text-align: right;\n",
       "    }\n",
       "</style>\n",
       "<table border=\"1\" class=\"dataframe\">\n",
       "  <thead>\n",
       "    <tr style=\"text-align: right;\">\n",
       "      <th></th>\n",
       "      <th>gameId</th>\n",
       "      <th>playId</th>\n",
       "      <th>nflId</th>\n",
       "      <th>week</th>\n",
       "      <th>qb_pass_rate</th>\n",
       "      <th>qb_pa_rate_ovr</th>\n",
       "      <th>qb_pa_rate_pass</th>\n",
       "      <th>qb_pass_rate_ewm</th>\n",
       "      <th>qb_pa_rate_ovr_ewm</th>\n",
       "      <th>qb_pa_rate_pass_ewm</th>\n",
       "    </tr>\n",
       "  </thead>\n",
       "  <tbody>\n",
       "    <tr>\n",
       "      <th>0</th>\n",
       "      <td>2022090800</td>\n",
       "      <td>56</td>\n",
       "      <td>46076</td>\n",
       "      <td>1</td>\n",
       "      <td>0.505477</td>\n",
       "      <td>0.13928</td>\n",
       "      <td>0.275542</td>\n",
       "      <td>0.505477</td>\n",
       "      <td>0.13928</td>\n",
       "      <td>0.275542</td>\n",
       "    </tr>\n",
       "  </tbody>\n",
       "</table>\n",
       "</div>"
      ],
      "text/plain": [
       "       gameId  playId  nflId  week  qb_pass_rate  qb_pa_rate_ovr  \\\n",
       "0  2022090800      56  46076     1      0.505477         0.13928   \n",
       "\n",
       "   qb_pa_rate_pass  qb_pass_rate_ewm  qb_pa_rate_ovr_ewm  qb_pa_rate_pass_ewm  \n",
       "0         0.275542          0.505477             0.13928             0.275542  "
      ]
     },
     "execution_count": 31,
     "metadata": {},
     "output_type": "execute_result"
    }
   ],
   "source": [
    "qb_ffill_pre['nflId'] = qb_ffill_pre['nflId'].astype(int)\n",
    "rate_df = qb_wk.merge(qb_ffill_pre,how='left')\n",
    "rate_df.head(1)"
   ]
  },
  {
   "cell_type": "markdown",
   "metadata": {},
   "source": [
    "### Dependent variable analysis\n",
    "\n",
    "Now we finally reach our goal: seeing the relation between these features & team pass rates"
   ]
  },
  {
   "cell_type": "code",
   "execution_count": 33,
   "metadata": {},
   "outputs": [],
   "source": [
    "train_data=pd.read_csv(os.path.join(root_dir, \"data/train_data.csv\"))\n",
    "train_data = train_data.merge(rate_df.drop(columns=['nflId','week']),how='left')"
   ]
  },
  {
   "cell_type": "markdown",
   "metadata": {},
   "source": [
    "Perhaps due to data sparsity (some qb spot starts?), we gain relatively little going from mean QB pass rates to EWM pass rates"
   ]
  },
  {
   "cell_type": "code",
   "execution_count": 36,
   "metadata": {},
   "outputs": [
    {
     "data": {
      "text/html": [
       "<div>\n",
       "<style scoped>\n",
       "    .dataframe tbody tr th:only-of-type {\n",
       "        vertical-align: middle;\n",
       "    }\n",
       "\n",
       "    .dataframe tbody tr th {\n",
       "        vertical-align: top;\n",
       "    }\n",
       "\n",
       "    .dataframe thead th {\n",
       "        text-align: right;\n",
       "    }\n",
       "</style>\n",
       "<table border=\"1\" class=\"dataframe\">\n",
       "  <thead>\n",
       "    <tr style=\"text-align: right;\">\n",
       "      <th></th>\n",
       "      <th>qb_pass_rate</th>\n",
       "      <th>qb_pa_rate_ovr</th>\n",
       "      <th>qb_pa_rate_pass</th>\n",
       "      <th>qb_pass_rate_ewm</th>\n",
       "      <th>qb_pa_rate_ovr_ewm</th>\n",
       "      <th>qb_pa_rate_pass_ewm</th>\n",
       "      <th>pass</th>\n",
       "    </tr>\n",
       "  </thead>\n",
       "  <tbody>\n",
       "    <tr>\n",
       "      <th>qb_pass_rate</th>\n",
       "      <td>1.000000</td>\n",
       "      <td>0.044594</td>\n",
       "      <td>-0.306843</td>\n",
       "      <td>0.997696</td>\n",
       "      <td>0.055136</td>\n",
       "      <td>-0.335151</td>\n",
       "      <td>0.058176</td>\n",
       "    </tr>\n",
       "    <tr>\n",
       "      <th>qb_pa_rate_ovr</th>\n",
       "      <td>0.044594</td>\n",
       "      <td>1.000000</td>\n",
       "      <td>0.892818</td>\n",
       "      <td>0.044650</td>\n",
       "      <td>0.998105</td>\n",
       "      <td>0.887017</td>\n",
       "      <td>-0.018358</td>\n",
       "    </tr>\n",
       "    <tr>\n",
       "      <th>qb_pa_rate_pass</th>\n",
       "      <td>-0.306843</td>\n",
       "      <td>0.892818</td>\n",
       "      <td>1.000000</td>\n",
       "      <td>-0.311549</td>\n",
       "      <td>0.883682</td>\n",
       "      <td>0.993344</td>\n",
       "      <td>-0.059373</td>\n",
       "    </tr>\n",
       "    <tr>\n",
       "      <th>qb_pass_rate_ewm</th>\n",
       "      <td>0.997696</td>\n",
       "      <td>0.044650</td>\n",
       "      <td>-0.311549</td>\n",
       "      <td>1.000000</td>\n",
       "      <td>0.055552</td>\n",
       "      <td>-0.340440</td>\n",
       "      <td>0.060595</td>\n",
       "    </tr>\n",
       "    <tr>\n",
       "      <th>qb_pa_rate_ovr_ewm</th>\n",
       "      <td>0.055136</td>\n",
       "      <td>0.998105</td>\n",
       "      <td>0.883682</td>\n",
       "      <td>0.055552</td>\n",
       "      <td>1.000000</td>\n",
       "      <td>0.880633</td>\n",
       "      <td>-0.017015</td>\n",
       "    </tr>\n",
       "    <tr>\n",
       "      <th>qb_pa_rate_pass_ewm</th>\n",
       "      <td>-0.335151</td>\n",
       "      <td>0.887017</td>\n",
       "      <td>0.993344</td>\n",
       "      <td>-0.340440</td>\n",
       "      <td>0.880633</td>\n",
       "      <td>1.000000</td>\n",
       "      <td>-0.057033</td>\n",
       "    </tr>\n",
       "    <tr>\n",
       "      <th>pass</th>\n",
       "      <td>0.058176</td>\n",
       "      <td>-0.018358</td>\n",
       "      <td>-0.059373</td>\n",
       "      <td>0.060595</td>\n",
       "      <td>-0.017015</td>\n",
       "      <td>-0.057033</td>\n",
       "      <td>1.000000</td>\n",
       "    </tr>\n",
       "  </tbody>\n",
       "</table>\n",
       "</div>"
      ],
      "text/plain": [
       "                     qb_pass_rate  qb_pa_rate_ovr  qb_pa_rate_pass  \\\n",
       "qb_pass_rate             1.000000        0.044594        -0.306843   \n",
       "qb_pa_rate_ovr           0.044594        1.000000         0.892818   \n",
       "qb_pa_rate_pass         -0.306843        0.892818         1.000000   \n",
       "qb_pass_rate_ewm         0.997696        0.044650        -0.311549   \n",
       "qb_pa_rate_ovr_ewm       0.055136        0.998105         0.883682   \n",
       "qb_pa_rate_pass_ewm     -0.335151        0.887017         0.993344   \n",
       "pass                     0.058176       -0.018358        -0.059373   \n",
       "\n",
       "                     qb_pass_rate_ewm  qb_pa_rate_ovr_ewm  \\\n",
       "qb_pass_rate                 0.997696            0.055136   \n",
       "qb_pa_rate_ovr               0.044650            0.998105   \n",
       "qb_pa_rate_pass             -0.311549            0.883682   \n",
       "qb_pass_rate_ewm             1.000000            0.055552   \n",
       "qb_pa_rate_ovr_ewm           0.055552            1.000000   \n",
       "qb_pa_rate_pass_ewm         -0.340440            0.880633   \n",
       "pass                         0.060595           -0.017015   \n",
       "\n",
       "                     qb_pa_rate_pass_ewm      pass  \n",
       "qb_pass_rate                   -0.335151  0.058176  \n",
       "qb_pa_rate_ovr                  0.887017 -0.018358  \n",
       "qb_pa_rate_pass                 0.993344 -0.059373  \n",
       "qb_pass_rate_ewm               -0.340440  0.060595  \n",
       "qb_pa_rate_ovr_ewm              0.880633 -0.017015  \n",
       "qb_pa_rate_pass_ewm             1.000000 -0.057033  \n",
       "pass                           -0.057033  1.000000  "
      ]
     },
     "execution_count": 36,
     "metadata": {},
     "output_type": "execute_result"
    }
   ],
   "source": [
    "train_data[list(rate_df.columns[-6:])+['pass']].corr()"
   ]
  },
  {
   "cell_type": "code",
   "execution_count": 38,
   "metadata": {},
   "outputs": [],
   "source": [
    "train_data[['gameId','playId','qb_pa_rate_pass','qb_pass_rate_ewm']].to_csv(os.path.join(root_dir,'data/qb_historical.csv'))"
   ]
  },
  {
   "cell_type": "code",
   "execution_count": null,
   "metadata": {},
   "outputs": [],
   "source": []
  }
 ],
 "metadata": {
  "kernelspec": {
   "display_name": ".venv",
   "language": "python",
   "name": "python3"
  },
  "language_info": {
   "codemirror_mode": {
    "name": "ipython",
    "version": 3
   },
   "file_extension": ".py",
   "mimetype": "text/x-python",
   "name": "python",
   "nbconvert_exporter": "python",
   "pygments_lexer": "ipython3",
   "version": "3.9.15"
  }
 },
 "nbformat": 4,
 "nbformat_minor": 2
}
