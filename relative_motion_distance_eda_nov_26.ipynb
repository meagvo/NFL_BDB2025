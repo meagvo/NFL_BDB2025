{
 "cells": [
  {
   "cell_type": "markdown",
   "metadata": {},
   "source": [
    "# Further Motion/Distance Analysis\n",
    "\n",
    "We diver further into our motion analysis by exploring distance-related aspects of our tracking data\n",
    "\n",
    "\n"
   ]
  },
  {
   "cell_type": "code",
   "execution_count": 1,
   "metadata": {},
   "outputs": [],
   "source": [
    "import os\n",
    "import pandas as pd\n",
    "from data_loading import load_tracking_data\n",
    "import seaborn as sns\n",
    "import matplotlib.pyplot as plt"
   ]
  },
  {
   "cell_type": "code",
   "execution_count": 2,
   "metadata": {},
   "outputs": [],
   "source": [
    "# load tracking data for all weeks\n",
    "root_dir = os.getcwd()\n",
    "tracking_fname_list = [os.path.join(root_dir,  f\"data/tracking_week_{i}.csv\") for i in range(1,10)]\n",
    "write_track = False\n",
    "if write_track:\n",
    "    df_tracking = pd.concat(\n",
    "            [load_tracking_data(tracking_fname) for tracking_fname in tracking_fname_list]\n",
    "        )\n",
    "    df_tracking.to_csv('data/track_full.csv')\n",
    "else: \n",
    "    df_tracking = pd.read_csv('data/track_full.csv',usecols=['gameId','playId','nflId','club','a','s','dis','y'])\n",
    "df_players = pd.read_csv(os.path.join(root_dir,'data/players.csv'))\n",
    "df_player_play = pd.read_csv(os.path.join(root_dir,'data/player_play.csv'))"
   ]
  },
  {
   "cell_type": "markdown",
   "metadata": {},
   "source": [
    "Sub to offense this time:"
   ]
  },
  {
   "cell_type": "code",
   "execution_count": 3,
   "metadata": {},
   "outputs": [],
   "source": [
    "plays_fname = os.path.join(root_dir,  \"data/plays.csv\")\n",
    "df_plays = pd.read_csv(os.path.join(root_dir,plays_fname))\n",
    "df_games = pd.read_csv(os.path.join(root_dir,'data/games.csv'))"
   ]
  },
  {
   "cell_type": "code",
   "execution_count": 4,
   "metadata": {},
   "outputs": [],
   "source": [
    "play_trunc = df_plays[['gameId','playId','possessionTeam']]\n",
    "pt_df = play_trunc.merge(df_tracking,how='left',left_on=['gameId','playId','possessionTeam'],\n",
    "                 right_on=['gameId','playId','club'])\n",
    "\n",
    "# na's dropped to lose players w/o tracking info\n",
    "off_df = pt_df.dropna()"
   ]
  },
  {
   "cell_type": "code",
   "execution_count": 5,
   "metadata": {},
   "outputs": [],
   "source": [
    "example = ((off_df['gameId'] == 2022102300) & (off_df['playId'] == 2314)) & (off_df['nflId'] == 42347)"
   ]
  },
  {
   "cell_type": "markdown",
   "metadata": {},
   "source": [
    "## Aggregate offensive tracking data\n",
    "\n",
    "For each play, we get the initial and final positions of each player, as well as their sum distances traveled:"
   ]
  },
  {
   "cell_type": "code",
   "execution_count": 6,
   "metadata": {},
   "outputs": [
    {
     "data": {
      "text/html": [
       "<div>\n",
       "<style scoped>\n",
       "    .dataframe tbody tr th:only-of-type {\n",
       "        vertical-align: middle;\n",
       "    }\n",
       "\n",
       "    .dataframe tbody tr th {\n",
       "        vertical-align: top;\n",
       "    }\n",
       "\n",
       "    .dataframe thead th {\n",
       "        text-align: right;\n",
       "    }\n",
       "</style>\n",
       "<table border=\"1\" class=\"dataframe\">\n",
       "  <thead>\n",
       "    <tr style=\"text-align: right;\">\n",
       "      <th></th>\n",
       "      <th>gameId</th>\n",
       "      <th>playId</th>\n",
       "      <th>nflId</th>\n",
       "      <th>y_initial</th>\n",
       "      <th>y_final</th>\n",
       "      <th>dis_sum</th>\n",
       "      <th>y_delta</th>\n",
       "      <th>excess_travel</th>\n",
       "    </tr>\n",
       "  </thead>\n",
       "  <tbody>\n",
       "    <tr>\n",
       "      <th>117904</th>\n",
       "      <td>2022101609</td>\n",
       "      <td>3458</td>\n",
       "      <td>46103</td>\n",
       "      <td>29.76</td>\n",
       "      <td>28.52</td>\n",
       "      <td>4.43</td>\n",
       "      <td>1.24</td>\n",
       "      <td>3.19</td>\n",
       "    </tr>\n",
       "    <tr>\n",
       "      <th>163679</th>\n",
       "      <td>2022110601</td>\n",
       "      <td>2820</td>\n",
       "      <td>54633</td>\n",
       "      <td>32.69</td>\n",
       "      <td>32.62</td>\n",
       "      <td>1.08</td>\n",
       "      <td>0.07</td>\n",
       "      <td>1.01</td>\n",
       "    </tr>\n",
       "    <tr>\n",
       "      <th>8428</th>\n",
       "      <td>2022091105</td>\n",
       "      <td>403</td>\n",
       "      <td>46075</td>\n",
       "      <td>23.23</td>\n",
       "      <td>21.81</td>\n",
       "      <td>4.07</td>\n",
       "      <td>1.42</td>\n",
       "      <td>2.65</td>\n",
       "    </tr>\n",
       "  </tbody>\n",
       "</table>\n",
       "</div>"
      ],
      "text/plain": [
       "            gameId  playId  nflId  y_initial  y_final  dis_sum  y_delta  \\\n",
       "117904  2022101609    3458  46103      29.76    28.52     4.43     1.24   \n",
       "163679  2022110601    2820  54633      32.69    32.62     1.08     0.07   \n",
       "8428    2022091105     403  46075      23.23    21.81     4.07     1.42   \n",
       "\n",
       "        excess_travel  \n",
       "117904           3.19  \n",
       "163679           1.01  \n",
       "8428             2.65  "
      ]
     },
     "execution_count": 6,
     "metadata": {},
     "output_type": "execute_result"
    }
   ],
   "source": [
    "off_grp = off_df.groupby(['gameId','playId','nflId']).agg(y_initial=('y','first'),y_final=('y','last'),dis_sum=('dis','sum')).reset_index()\n",
    "off_grp['y_delta'] = abs(off_grp['y_final'] - off_grp['y_initial'])\n",
    "off_grp['excess_travel'] = off_grp['dis_sum'] - off_grp['y_delta']\n",
    "off_grp['nflId'] = off_grp['nflId'].astype(int)\n",
    "off_grp.sample(3)"
   ]
  },
  {
   "cell_type": "markdown",
   "metadata": {},
   "source": [
    "Incorporate 'motionSinceLineset' feature:"
   ]
  },
  {
   "cell_type": "code",
   "execution_count": 7,
   "metadata": {},
   "outputs": [],
   "source": [
    "og_merge = off_grp.merge(df_player_play[['gameId','playId','nflId','motionSinceLineset']],how='left')\n"
   ]
  },
  {
   "cell_type": "markdown",
   "metadata": {},
   "source": [
    "Drop records that lack a 'motionSinceLineset' value:"
   ]
  },
  {
   "cell_type": "code",
   "execution_count": 8,
   "metadata": {},
   "outputs": [
    {
     "data": {
      "text/plain": [
       "False    84230\n",
       "True      5815\n",
       "Name: motionSinceLineset, dtype: int64"
      ]
     },
     "execution_count": 8,
     "metadata": {},
     "output_type": "execute_result"
    }
   ],
   "source": [
    "merge_dropped = og_merge.dropna().copy()\n",
    "merge_dropped['motionSinceLineset'] = merge_dropped['motionSinceLineset'].astype(bool)\n",
    "merge_dropped['motionSinceLineset'].value_counts()"
   ]
  },
  {
   "cell_type": "markdown",
   "metadata": {},
   "source": [
    "# Visually examine features\n",
    "\n",
    "Below we look at our three new created features, at the individual player-play level.\n",
    "\n"
   ]
  },
  {
   "cell_type": "code",
   "execution_count": 9,
   "metadata": {},
   "outputs": [
    {
     "data": {
      "image/png": "[encoded data removed]",
      "text/plain": [
       "<Figure size 640x480 with 1 Axes>"
      ]
     },
     "metadata": {},
     "output_type": "display_data"
    }
   ],
   "source": [
    "sns.set_theme(style=\"darkgrid\")\n",
    "fig, ax = plt.subplots()\n",
    "sns.kdeplot(merge_dropped[merge_dropped['motionSinceLineset']]['dis_sum'], fill=True, color=\"r\",label='Motion')\n",
    "sns.kdeplot(merge_dropped[~merge_dropped['motionSinceLineset']]['dis_sum'], fill=True, color=\"b\",label='No Motion')\n",
    "sns.kdeplot(og_merge[og_merge['motionSinceLineset'].isna()]['dis_sum'], fill=True, color=\"g\",label='Motion N/A')\n",
    "ax.set_xlim(-5, 50)\n",
    "plt.title('Pre-snap total distance covered',weight='bold',size=18)\n",
    "ax.legend()\n",
    "plt.show()"
   ]
  },
  {
   "cell_type": "markdown",
   "metadata": {},
   "source": [
    "While some in-motion players don't waste steps, many still cover more ground than a direct a-to-b path requires:"
   ]
  },
  {
   "cell_type": "code",
   "execution_count": 10,
   "metadata": {},
   "outputs": [
    {
     "data": {
      "image/png": "[encoded data removed]",
      "text/plain": [
       "<Figure size 640x480 with 1 Axes>"
      ]
     },
     "metadata": {},
     "output_type": "display_data"
    }
   ],
   "source": [
    "sns.set_theme(style=\"darkgrid\")\n",
    "fig, ax = plt.subplots()\n",
    "sns.kdeplot(merge_dropped[merge_dropped['motionSinceLineset']]['excess_travel'], fill=True, color=\"r\",label='Motion')\n",
    "sns.kdeplot(merge_dropped[~merge_dropped['motionSinceLineset']]['excess_travel'], fill=True, color=\"b\",label='No Motion')\n",
    "sns.kdeplot(og_merge[og_merge['motionSinceLineset'].isna()]['excess_travel'], fill=True, color=\"g\",label='Motion N/A')\n",
    "ax.legend()\n",
    "plt.title('Pre-snap excess distance covered',weight='bold',size=18)\n",
    "ax.set_xlim(-5, 40)\n",
    "plt.show()"
   ]
  },
  {
   "cell_type": "markdown",
   "metadata": {},
   "source": [
    "We begin to see that, like the competition host said, the 'N/A' records are likely just non-motion frames, too:"
   ]
  },
  {
   "cell_type": "code",
   "execution_count": 11,
   "metadata": {},
   "outputs": [
    {
     "data": {
      "image/png": "[encoded data removed]",
      "text/plain": [
       "<Figure size 640x480 with 1 Axes>"
      ]
     },
     "metadata": {},
     "output_type": "display_data"
    }
   ],
   "source": [
    "sns.set_theme(style=\"darkgrid\")\n",
    "fig, ax = plt.subplots()\n",
    "sns.kdeplot(merge_dropped[merge_dropped['motionSinceLineset']]['y_delta'], fill=True, color=\"r\",label='Motion')\n",
    "sns.kdeplot(merge_dropped[~merge_dropped['motionSinceLineset']]['y_delta'], fill=True, color=\"b\",label='No Motion')\n",
    "sns.kdeplot(og_merge[og_merge['motionSinceLineset'].isna()]['y_delta'], fill=True, color=\"g\",label='Motion N/A')\n",
    "ax.legend()\n",
    "plt.title('Pre-snap lateral distance, initial vs. final position',weight='bold',size=13)\n",
    "ax.set_xlim(-5, 25)\n",
    "plt.show()"
   ]
  },
  {
   "cell_type": "markdown",
   "metadata": {},
   "source": [
    "### Explore quantiles\n",
    "\n",
    "Below we explore quantiles for each group. This further confirms the notion that N/A's are likely also non-motion frames."
   ]
  },
  {
   "cell_type": "markdown",
   "metadata": {},
   "source": [
    "Motion:"
   ]
  },
  {
   "cell_type": "code",
   "execution_count": 12,
   "metadata": {},
   "outputs": [
    {
     "data": {
      "text/html": [
       "<div>\n",
       "<style scoped>\n",
       "    .dataframe tbody tr th:only-of-type {\n",
       "        vertical-align: middle;\n",
       "    }\n",
       "\n",
       "    .dataframe tbody tr th {\n",
       "        vertical-align: top;\n",
       "    }\n",
       "\n",
       "    .dataframe thead th {\n",
       "        text-align: right;\n",
       "    }\n",
       "</style>\n",
       "<table border=\"1\" class=\"dataframe\">\n",
       "  <thead>\n",
       "    <tr style=\"text-align: right;\">\n",
       "      <th></th>\n",
       "      <th>dis_sum</th>\n",
       "      <th>excess_travel</th>\n",
       "      <th>y_delta</th>\n",
       "    </tr>\n",
       "  </thead>\n",
       "  <tbody>\n",
       "    <tr>\n",
       "      <th>0.10</th>\n",
       "      <td>5.980</td>\n",
       "      <td>1.34</td>\n",
       "      <td>0.950</td>\n",
       "    </tr>\n",
       "    <tr>\n",
       "      <th>0.25</th>\n",
       "      <td>9.725</td>\n",
       "      <td>3.59</td>\n",
       "      <td>2.660</td>\n",
       "    </tr>\n",
       "    <tr>\n",
       "      <th>0.50</th>\n",
       "      <td>15.740</td>\n",
       "      <td>8.64</td>\n",
       "      <td>5.340</td>\n",
       "    </tr>\n",
       "    <tr>\n",
       "      <th>0.75</th>\n",
       "      <td>21.875</td>\n",
       "      <td>14.49</td>\n",
       "      <td>9.110</td>\n",
       "    </tr>\n",
       "    <tr>\n",
       "      <th>0.90</th>\n",
       "      <td>27.340</td>\n",
       "      <td>20.01</td>\n",
       "      <td>13.386</td>\n",
       "    </tr>\n",
       "  </tbody>\n",
       "</table>\n",
       "</div>"
      ],
      "text/plain": [
       "      dis_sum  excess_travel  y_delta\n",
       "0.10    5.980           1.34    0.950\n",
       "0.25    9.725           3.59    2.660\n",
       "0.50   15.740           8.64    5.340\n",
       "0.75   21.875          14.49    9.110\n",
       "0.90   27.340          20.01   13.386"
      ]
     },
     "execution_count": 12,
     "metadata": {},
     "output_type": "execute_result"
    }
   ],
   "source": [
    "merge_dropped[merge_dropped['motionSinceLineset']][['dis_sum','excess_travel','y_delta']].quantile([.1,.25, .5,.75,.9])"
   ]
  },
  {
   "cell_type": "markdown",
   "metadata": {},
   "source": [
    "No motion:"
   ]
  },
  {
   "cell_type": "code",
   "execution_count": 13,
   "metadata": {},
   "outputs": [
    {
     "data": {
      "text/html": [
       "<div>\n",
       "<style scoped>\n",
       "    .dataframe tbody tr th:only-of-type {\n",
       "        vertical-align: middle;\n",
       "    }\n",
       "\n",
       "    .dataframe tbody tr th {\n",
       "        vertical-align: top;\n",
       "    }\n",
       "\n",
       "    .dataframe thead th {\n",
       "        text-align: right;\n",
       "    }\n",
       "</style>\n",
       "<table border=\"1\" class=\"dataframe\">\n",
       "  <thead>\n",
       "    <tr style=\"text-align: right;\">\n",
       "      <th></th>\n",
       "      <th>dis_sum</th>\n",
       "      <th>excess_travel</th>\n",
       "      <th>y_delta</th>\n",
       "    </tr>\n",
       "  </thead>\n",
       "  <tbody>\n",
       "    <tr>\n",
       "      <th>0.10</th>\n",
       "      <td>0.34</td>\n",
       "      <td>0.26</td>\n",
       "      <td>0.04</td>\n",
       "    </tr>\n",
       "    <tr>\n",
       "      <th>0.25</th>\n",
       "      <td>1.46</td>\n",
       "      <td>0.97</td>\n",
       "      <td>0.14</td>\n",
       "    </tr>\n",
       "    <tr>\n",
       "      <th>0.50</th>\n",
       "      <td>3.62</td>\n",
       "      <td>2.04</td>\n",
       "      <td>0.75</td>\n",
       "    </tr>\n",
       "    <tr>\n",
       "      <th>0.75</th>\n",
       "      <td>5.73</td>\n",
       "      <td>3.09</td>\n",
       "      <td>2.39</td>\n",
       "    </tr>\n",
       "    <tr>\n",
       "      <th>0.90</th>\n",
       "      <td>11.22</td>\n",
       "      <td>4.08</td>\n",
       "      <td>8.54</td>\n",
       "    </tr>\n",
       "  </tbody>\n",
       "</table>\n",
       "</div>"
      ],
      "text/plain": [
       "      dis_sum  excess_travel  y_delta\n",
       "0.10     0.34           0.26     0.04\n",
       "0.25     1.46           0.97     0.14\n",
       "0.50     3.62           2.04     0.75\n",
       "0.75     5.73           3.09     2.39\n",
       "0.90    11.22           4.08     8.54"
      ]
     },
     "execution_count": 13,
     "metadata": {},
     "output_type": "execute_result"
    }
   ],
   "source": [
    "merge_dropped[~merge_dropped['motionSinceLineset']][['dis_sum','excess_travel','y_delta']].quantile([.1,.25, .5,.75,.9])"
   ]
  },
  {
   "cell_type": "markdown",
   "metadata": {},
   "source": [
    "NA records:"
   ]
  },
  {
   "cell_type": "code",
   "execution_count": 14,
   "metadata": {},
   "outputs": [
    {
     "data": {
      "text/html": [
       "<div>\n",
       "<style scoped>\n",
       "    .dataframe tbody tr th:only-of-type {\n",
       "        vertical-align: middle;\n",
       "    }\n",
       "\n",
       "    .dataframe tbody tr th {\n",
       "        vertical-align: top;\n",
       "    }\n",
       "\n",
       "    .dataframe thead th {\n",
       "        text-align: right;\n",
       "    }\n",
       "</style>\n",
       "<table border=\"1\" class=\"dataframe\">\n",
       "  <thead>\n",
       "    <tr style=\"text-align: right;\">\n",
       "      <th></th>\n",
       "      <th>dis_sum</th>\n",
       "      <th>excess_travel</th>\n",
       "      <th>y_delta</th>\n",
       "    </tr>\n",
       "  </thead>\n",
       "  <tbody>\n",
       "    <tr>\n",
       "      <th>0.10</th>\n",
       "      <td>0.40</td>\n",
       "      <td>0.30</td>\n",
       "      <td>0.04</td>\n",
       "    </tr>\n",
       "    <tr>\n",
       "      <th>0.25</th>\n",
       "      <td>1.74</td>\n",
       "      <td>1.13</td>\n",
       "      <td>0.16</td>\n",
       "    </tr>\n",
       "    <tr>\n",
       "      <th>0.50</th>\n",
       "      <td>3.97</td>\n",
       "      <td>2.31</td>\n",
       "      <td>0.79</td>\n",
       "    </tr>\n",
       "    <tr>\n",
       "      <th>0.75</th>\n",
       "      <td>6.63</td>\n",
       "      <td>3.42</td>\n",
       "      <td>2.91</td>\n",
       "    </tr>\n",
       "    <tr>\n",
       "      <th>0.90</th>\n",
       "      <td>12.88</td>\n",
       "      <td>4.72</td>\n",
       "      <td>8.62</td>\n",
       "    </tr>\n",
       "  </tbody>\n",
       "</table>\n",
       "</div>"
      ],
      "text/plain": [
       "      dis_sum  excess_travel  y_delta\n",
       "0.10     0.40           0.30     0.04\n",
       "0.25     1.74           1.13     0.16\n",
       "0.50     3.97           2.31     0.79\n",
       "0.75     6.63           3.42     2.91\n",
       "0.90    12.88           4.72     8.62"
      ]
     },
     "execution_count": 14,
     "metadata": {},
     "output_type": "execute_result"
    }
   ],
   "source": [
    "og_merge[og_merge['motionSinceLineset'].isna()][['dis_sum','excess_travel','y_delta']].quantile([.1,.25, .5,.75,.9])"
   ]
  },
  {
   "cell_type": "markdown",
   "metadata": {},
   "source": [
    "### Explore motion, pass rate correlations\n",
    "\n",
    "We aggregate to play level, then see how each of our features relate to pass & motion rates:\n"
   ]
  },
  {
   "cell_type": "code",
   "execution_count": 15,
   "metadata": {},
   "outputs": [],
   "source": [
    "motion_play = og_merge.groupby(['gameId','playId']).max().reset_index()"
   ]
  },
  {
   "cell_type": "markdown",
   "metadata": {},
   "source": [
    "Add in flag for pass:"
   ]
  },
  {
   "cell_type": "code",
   "execution_count": 16,
   "metadata": {},
   "outputs": [],
   "source": [
    "motion_db = motion_play.merge(df_plays[['gameId','playId','isDropback']],how='left').drop(columns=['motionSinceLineset'])"
   ]
  },
  {
   "cell_type": "markdown",
   "metadata": {},
   "source": [
    "Flag if motion occurred on a play, then integrate:"
   ]
  },
  {
   "cell_type": "code",
   "execution_count": 17,
   "metadata": {},
   "outputs": [],
   "source": [
    "# get play-level num. of players in motion\n",
    "og_filled = og_merge.fillna(0)\n",
    "motion_fill_group = og_filled.groupby(['gameId','playId'])['motionSinceLineset'].any().reset_index()\n",
    "motion_fill_group['motionSinceLineset'] = motion_fill_group['motionSinceLineset'].astype(int)\n",
    "\n",
    "# merge back in\n",
    "motion_comp = motion_db.merge(motion_fill_group,how='left',on=['gameId','playId'])"
   ]
  },
  {
   "cell_type": "markdown",
   "metadata": {},
   "source": [
    "First we look at correlations between our features and plays where passess occurred:"
   ]
  },
  {
   "cell_type": "code",
   "execution_count": 18,
   "metadata": {},
   "outputs": [
    {
     "data": {
      "text/plain": [
       "y_initial             0.073048\n",
       "y_final               0.244399\n",
       "dis_sum               0.052443\n",
       "y_delta               0.108357\n",
       "excess_travel        -0.045314\n",
       "isDropback            1.000000\n",
       "motionSinceLineset    0.188329\n",
       "Name: isDropback, dtype: float64"
      ]
     },
     "execution_count": 18,
     "metadata": {},
     "output_type": "execute_result"
    }
   ],
   "source": [
    "motion_comp.iloc[:,3:].corr()['isDropback']"
   ]
  },
  {
   "cell_type": "markdown",
   "metadata": {},
   "source": [
    "Then, we look at the relationship with whether any player went in motion on a play:"
   ]
  },
  {
   "cell_type": "code",
   "execution_count": 19,
   "metadata": {},
   "outputs": [
    {
     "data": {
      "text/plain": [
       "y_initial            -0.083701\n",
       "y_final              -0.041759\n",
       "dis_sum               0.272806\n",
       "y_delta               0.138238\n",
       "excess_travel         0.311510\n",
       "isDropback            0.188329\n",
       "motionSinceLineset    1.000000\n",
       "Name: motionSinceLineset, dtype: float64"
      ]
     },
     "execution_count": 19,
     "metadata": {},
     "output_type": "execute_result"
    }
   ],
   "source": [
    "motion_comp.iloc[:,3:].corr()['motionSinceLineset']"
   ]
  },
  {
   "cell_type": "markdown",
   "metadata": {},
   "source": [
    "We now examine pass-rate correlation on motion plays only:"
   ]
  },
  {
   "cell_type": "code",
   "execution_count": 20,
   "metadata": {},
   "outputs": [
    {
     "data": {
      "text/plain": [
       "y_initial            -0.016472\n",
       "y_final               0.148174\n",
       "dis_sum               0.115739\n",
       "y_delta               0.152297\n",
       "excess_travel         0.022044\n",
       "isDropback            1.000000\n",
       "motionSinceLineset         NaN\n",
       "Name: isDropback, dtype: float64"
      ]
     },
     "execution_count": 20,
     "metadata": {},
     "output_type": "execute_result"
    }
   ],
   "source": [
    "motion_comp[motion_comp['motionSinceLineset'] > 0].iloc[:,3:].corr()['isDropback']"
   ]
  },
  {
   "cell_type": "markdown",
   "metadata": {},
   "source": [
    "And now, non-motion plays:"
   ]
  },
  {
   "cell_type": "code",
   "execution_count": 21,
   "metadata": {},
   "outputs": [
    {
     "data": {
      "text/plain": [
       "y_initial             0.126785\n",
       "y_final               0.297379\n",
       "dis_sum              -0.040011\n",
       "y_delta               0.063138\n",
       "excess_travel        -0.176061\n",
       "isDropback            1.000000\n",
       "motionSinceLineset         NaN\n",
       "Name: isDropback, dtype: float64"
      ]
     },
     "execution_count": 21,
     "metadata": {},
     "output_type": "execute_result"
    }
   ],
   "source": [
    "motion_comp[motion_comp['motionSinceLineset'] == 0].iloc[:,3:].corr()['isDropback']"
   ]
  },
  {
   "cell_type": "markdown",
   "metadata": {},
   "source": [
    "Similarly, only looking at pass plays this time, we look at the correlation w/motion:"
   ]
  },
  {
   "cell_type": "code",
   "execution_count": 22,
   "metadata": {},
   "outputs": [
    {
     "data": {
      "text/plain": [
       "y_initial            -0.145817\n",
       "y_final              -0.151401\n",
       "dis_sum               0.325321\n",
       "y_delta               0.148570\n",
       "excess_travel         0.402055\n",
       "isDropback                 NaN\n",
       "motionSinceLineset    1.000000\n",
       "Name: motionSinceLineset, dtype: float64"
      ]
     },
     "execution_count": 22,
     "metadata": {},
     "output_type": "execute_result"
    }
   ],
   "source": [
    "motion_comp[motion_comp['isDropback']].iloc[:,3:].corr()['motionSinceLineset']"
   ]
  },
  {
   "cell_type": "markdown",
   "metadata": {},
   "source": [
    "Repeat for runs and motion rates:"
   ]
  },
  {
   "cell_type": "code",
   "execution_count": 23,
   "metadata": {},
   "outputs": [
    {
     "data": {
      "text/plain": [
       "y_initial            -0.005648\n",
       "y_final              -0.001508\n",
       "dis_sum               0.155215\n",
       "y_delta               0.064212\n",
       "excess_travel         0.187548\n",
       "isDropback                 NaN\n",
       "motionSinceLineset    1.000000\n",
       "Name: motionSinceLineset, dtype: float64"
      ]
     },
     "execution_count": 23,
     "metadata": {},
     "output_type": "execute_result"
    }
   ],
   "source": [
    "motion_comp[~motion_comp['isDropback']].iloc[:,3:].corr()['motionSinceLineset']"
   ]
  },
  {
   "cell_type": "markdown",
   "metadata": {},
   "source": [
    "### Explore numbers of players in motion vs. our new stats\n",
    "\n",
    "Our best new stat is 'y_delta'; combining this with the our best motion feature (# of players in motion) might add value:"
   ]
  },
  {
   "cell_type": "code",
   "execution_count": 24,
   "metadata": {},
   "outputs": [],
   "source": [
    "motion_count_df = og_filled.groupby(['gameId','playId'])['motionSinceLineset'].sum().reset_index()\n",
    "motion_counted = motion_db.merge(motion_count_df,how='left',on=['gameId','playId'])"
   ]
  },
  {
   "cell_type": "code",
   "execution_count": 25,
   "metadata": {},
   "outputs": [
    {
     "data": {
      "text/html": [
       "<div>\n",
       "<style scoped>\n",
       "    .dataframe tbody tr th:only-of-type {\n",
       "        vertical-align: middle;\n",
       "    }\n",
       "\n",
       "    .dataframe tbody tr th {\n",
       "        vertical-align: top;\n",
       "    }\n",
       "\n",
       "    .dataframe thead th {\n",
       "        text-align: right;\n",
       "    }\n",
       "</style>\n",
       "<table border=\"1\" class=\"dataframe\">\n",
       "  <thead>\n",
       "    <tr style=\"text-align: right;\">\n",
       "      <th></th>\n",
       "      <th>gameId</th>\n",
       "      <th>playId</th>\n",
       "      <th>nflId</th>\n",
       "      <th>y_initial</th>\n",
       "      <th>y_final</th>\n",
       "      <th>dis_sum</th>\n",
       "      <th>y_delta</th>\n",
       "      <th>excess_travel</th>\n",
       "      <th>isDropback</th>\n",
       "    </tr>\n",
       "  </thead>\n",
       "  <tbody>\n",
       "    <tr>\n",
       "      <th>0</th>\n",
       "      <td>2022090800</td>\n",
       "      <td>56</td>\n",
       "      <td>53522</td>\n",
       "      <td>32.70</td>\n",
       "      <td>43.65</td>\n",
       "      <td>29.15</td>\n",
       "      <td>19.84</td>\n",
       "      <td>13.59</td>\n",
       "      <td>True</td>\n",
       "    </tr>\n",
       "    <tr>\n",
       "      <th>1</th>\n",
       "      <td>2022090800</td>\n",
       "      <td>80</td>\n",
       "      <td>53522</td>\n",
       "      <td>39.42</td>\n",
       "      <td>37.16</td>\n",
       "      <td>14.13</td>\n",
       "      <td>8.40</td>\n",
       "      <td>5.73</td>\n",
       "      <td>True</td>\n",
       "    </tr>\n",
       "    <tr>\n",
       "      <th>2</th>\n",
       "      <td>2022090800</td>\n",
       "      <td>101</td>\n",
       "      <td>53522</td>\n",
       "      <td>31.53</td>\n",
       "      <td>39.50</td>\n",
       "      <td>10.77</td>\n",
       "      <td>9.05</td>\n",
       "      <td>5.36</td>\n",
       "      <td>False</td>\n",
       "    </tr>\n",
       "    <tr>\n",
       "      <th>3</th>\n",
       "      <td>2022090800</td>\n",
       "      <td>122</td>\n",
       "      <td>53522</td>\n",
       "      <td>32.31</td>\n",
       "      <td>37.72</td>\n",
       "      <td>16.05</td>\n",
       "      <td>14.36</td>\n",
       "      <td>3.03</td>\n",
       "      <td>True</td>\n",
       "    </tr>\n",
       "    <tr>\n",
       "      <th>4</th>\n",
       "      <td>2022090800</td>\n",
       "      <td>167</td>\n",
       "      <td>53522</td>\n",
       "      <td>28.08</td>\n",
       "      <td>42.48</td>\n",
       "      <td>15.49</td>\n",
       "      <td>14.40</td>\n",
       "      <td>3.45</td>\n",
       "      <td>True</td>\n",
       "    </tr>\n",
       "    <tr>\n",
       "      <th>...</th>\n",
       "      <td>...</td>\n",
       "      <td>...</td>\n",
       "      <td>...</td>\n",
       "      <td>...</td>\n",
       "      <td>...</td>\n",
       "      <td>...</td>\n",
       "      <td>...</td>\n",
       "      <td>...</td>\n",
       "      <td>...</td>\n",
       "    </tr>\n",
       "    <tr>\n",
       "      <th>16081</th>\n",
       "      <td>2022110700</td>\n",
       "      <td>3658</td>\n",
       "      <td>54604</td>\n",
       "      <td>32.44</td>\n",
       "      <td>42.54</td>\n",
       "      <td>22.09</td>\n",
       "      <td>20.03</td>\n",
       "      <td>4.06</td>\n",
       "      <td>False</td>\n",
       "    </tr>\n",
       "    <tr>\n",
       "      <th>16082</th>\n",
       "      <td>2022110700</td>\n",
       "      <td>3686</td>\n",
       "      <td>54604</td>\n",
       "      <td>29.08</td>\n",
       "      <td>31.61</td>\n",
       "      <td>7.38</td>\n",
       "      <td>3.12</td>\n",
       "      <td>4.85</td>\n",
       "      <td>False</td>\n",
       "    </tr>\n",
       "    <tr>\n",
       "      <th>16083</th>\n",
       "      <td>2022110700</td>\n",
       "      <td>3707</td>\n",
       "      <td>54604</td>\n",
       "      <td>33.10</td>\n",
       "      <td>42.35</td>\n",
       "      <td>10.80</td>\n",
       "      <td>9.25</td>\n",
       "      <td>4.32</td>\n",
       "      <td>False</td>\n",
       "    </tr>\n",
       "    <tr>\n",
       "      <th>16084</th>\n",
       "      <td>2022110700</td>\n",
       "      <td>3740</td>\n",
       "      <td>54604</td>\n",
       "      <td>31.22</td>\n",
       "      <td>34.53</td>\n",
       "      <td>19.64</td>\n",
       "      <td>9.02</td>\n",
       "      <td>13.36</td>\n",
       "      <td>False</td>\n",
       "    </tr>\n",
       "    <tr>\n",
       "      <th>16085</th>\n",
       "      <td>2022110700</td>\n",
       "      <td>3787</td>\n",
       "      <td>55125</td>\n",
       "      <td>25.30</td>\n",
       "      <td>43.57</td>\n",
       "      <td>21.33</td>\n",
       "      <td>20.28</td>\n",
       "      <td>3.62</td>\n",
       "      <td>False</td>\n",
       "    </tr>\n",
       "  </tbody>\n",
       "</table>\n",
       "<p>16086 rows × 9 columns</p>\n",
       "</div>"
      ],
      "text/plain": [
       "           gameId  playId  nflId  y_initial  y_final  dis_sum  y_delta  \\\n",
       "0      2022090800      56  53522      32.70    43.65    29.15    19.84   \n",
       "1      2022090800      80  53522      39.42    37.16    14.13     8.40   \n",
       "2      2022090800     101  53522      31.53    39.50    10.77     9.05   \n",
       "3      2022090800     122  53522      32.31    37.72    16.05    14.36   \n",
       "4      2022090800     167  53522      28.08    42.48    15.49    14.40   \n",
       "...           ...     ...    ...        ...      ...      ...      ...   \n",
       "16081  2022110700    3658  54604      32.44    42.54    22.09    20.03   \n",
       "16082  2022110700    3686  54604      29.08    31.61     7.38     3.12   \n",
       "16083  2022110700    3707  54604      33.10    42.35    10.80     9.25   \n",
       "16084  2022110700    3740  54604      31.22    34.53    19.64     9.02   \n",
       "16085  2022110700    3787  55125      25.30    43.57    21.33    20.28   \n",
       "\n",
       "       excess_travel  isDropback  \n",
       "0              13.59        True  \n",
       "1               5.73        True  \n",
       "2               5.36       False  \n",
       "3               3.03        True  \n",
       "4               3.45        True  \n",
       "...              ...         ...  \n",
       "16081           4.06       False  \n",
       "16082           4.85       False  \n",
       "16083           4.32       False  \n",
       "16084          13.36       False  \n",
       "16085           3.62       False  \n",
       "\n",
       "[16086 rows x 9 columns]"
      ]
     },
     "execution_count": 25,
     "metadata": {},
     "output_type": "execute_result"
    }
   ],
   "source": [
    "motion_db"
   ]
  },
  {
   "cell_type": "markdown",
   "metadata": {},
   "source": [
    "We create 'sum_all_delta', i.e., the # of players in motion times the highest 'y_delta' value on a play:"
   ]
  },
  {
   "cell_type": "code",
   "execution_count": 26,
   "metadata": {},
   "outputs": [],
   "source": [
    "motion_counted['motionSinceLineset'] = motion_counted['motionSinceLineset'].astype(float)\n",
    "motion_counted['sum_all_delta'] = motion_counted['motionSinceLineset']*motion_counted['y_delta']\n",
    "motion_counted['pass'] = motion_counted['isDropback']\n",
    "motion_counted.drop(columns=['isDropback'],inplace=True)"
   ]
  },
  {
   "cell_type": "markdown",
   "metadata": {},
   "source": [
    "We see a minor value add; however, this should be tested in practice to prove its use:"
   ]
  },
  {
   "cell_type": "code",
   "execution_count": 27,
   "metadata": {},
   "outputs": [
    {
     "data": {
      "text/plain": [
       "y_initial             0.073048\n",
       "y_final               0.244399\n",
       "dis_sum               0.052443\n",
       "y_delta               0.108357\n",
       "excess_travel        -0.045314\n",
       "motionSinceLineset    0.172913\n",
       "sum_all_delta         0.179704\n",
       "pass                  1.000000\n",
       "Name: pass, dtype: float64"
      ]
     },
     "execution_count": 27,
     "metadata": {},
     "output_type": "execute_result"
    }
   ],
   "source": [
    "motion_counted.iloc[:,3:].corr()['pass']"
   ]
  },
  {
   "cell_type": "markdown",
   "metadata": {},
   "source": [
    "### Calc sum stats, and not max\n",
    "\n",
    "Same process, but with sum, and not max player stats:"
   ]
  },
  {
   "cell_type": "code",
   "execution_count": 28,
   "metadata": {},
   "outputs": [],
   "source": [
    "play_sum_df = og_merge.groupby(['gameId','playId']).sum().reset_index()"
   ]
  },
  {
   "cell_type": "code",
   "execution_count": 29,
   "metadata": {},
   "outputs": [],
   "source": [
    "play_merge = play_sum_df.merge(motion_count_df,how='left',on=['gameId','playId'])"
   ]
  },
  {
   "cell_type": "code",
   "execution_count": 30,
   "metadata": {},
   "outputs": [],
   "source": [
    "play_sum_pass = play_merge.merge(df_plays[['gameId','playId','isDropback']],how='left')"
   ]
  },
  {
   "cell_type": "code",
   "execution_count": 31,
   "metadata": {},
   "outputs": [],
   "source": [
    "play_sum_pass['motionSinceLineset'] = play_sum_pass['motionSinceLineset'].astype(int)\n",
    "play_sum_pass['sum_all_delta'] = play_sum_pass['motionSinceLineset']*play_sum_pass['y_delta']"
   ]
  },
  {
   "cell_type": "code",
   "execution_count": 32,
   "metadata": {},
   "outputs": [
    {
     "data": {
      "text/plain": [
       "gameId               -0.022265\n",
       "playId                0.013461\n",
       "nflId                -0.050438\n",
       "y_initial             0.003273\n",
       "y_final               0.002989\n",
       "dis_sum               0.051689\n",
       "y_delta               0.158800\n",
       "excess_travel        -0.063660\n",
       "motionSinceLineset    0.172913\n",
       "isDropback            1.000000\n",
       "sum_all_delta         0.186483\n",
       "Name: isDropback, dtype: float64"
      ]
     },
     "execution_count": 32,
     "metadata": {},
     "output_type": "execute_result"
    }
   ],
   "source": [
    "play_sum_pass.corr()['isDropback']"
   ]
  },
  {
   "cell_type": "code",
   "execution_count": 33,
   "metadata": {},
   "outputs": [
    {
     "data": {
      "text/plain": [
       "gameId               -0.144405\n",
       "playId               -0.118317\n",
       "nflId                 0.012378\n",
       "y_initial             0.008373\n",
       "y_final               0.012029\n",
       "dis_sum               0.209150\n",
       "y_delta               0.114773\n",
       "excess_travel         0.252656\n",
       "motionSinceLineset    1.000000\n",
       "isDropback            0.172913\n",
       "sum_all_delta         0.877117\n",
       "Name: motionSinceLineset, dtype: float64"
      ]
     },
     "execution_count": 33,
     "metadata": {},
     "output_type": "execute_result"
    }
   ],
   "source": [
    "play_sum_pass.corr()['motionSinceLineset']"
   ]
  },
  {
   "cell_type": "markdown",
   "metadata": {},
   "source": [
    "### Write out info:"
   ]
  },
  {
   "cell_type": "code",
   "execution_count": 34,
   "metadata": {},
   "outputs": [],
   "source": [
    "play_sum_pass[['gameId','playId','y_delta','sum_all_delta','motionSinceLineset']].to_csv('data/motion_y_delta.csv',index=False)"
   ]
  },
  {
   "cell_type": "code",
   "execution_count": null,
   "metadata": {},
   "outputs": [],
   "source": []
  }
 ],
 "metadata": {
  "kernelspec": {
   "display_name": ".venv",
   "language": "python",
   "name": "python3"
  },
  "language_info": {
   "codemirror_mode": {
    "name": "ipython",
    "version": 3
   },
   "file_extension": ".py",
   "mimetype": "text/x-python",
   "name": "python",
   "nbconvert_exporter": "python",
   "pygments_lexer": "ipython3",
   "version": "3.9.15"
  }
 },
 "nbformat": 4,
 "nbformat_minor": 2
}
