{
 "cells": [
  {
   "cell_type": "markdown",
   "id": "73b74f67",
   "metadata": {
    "papermill": {
     "duration": 0.019412,
     "end_time": "2024-10-21T02:00:46.032424",
     "exception": false,
     "start_time": "2024-10-21T02:00:46.013012",
     "status": "completed"
    },
    "tags": []
   },
   "source": [
    "# Team Tendency Analysis - Oct 15, 2024\n",
    "\n",
    "Goal here is to get longer-term data on teams (and later players) to bake in to "
   ]
  },
  {
   "cell_type": "code",
   "execution_count": 1,
   "id": "34e5b626",
   "metadata": {
    "_cell_guid": "b1076dfc-b9ad-4769-8c92-a6c4dae69d19",
    "_uuid": "8f2839f25d086af736a60e9eeb907d3b93b6e0e5",
    "execution": {
     "iopub.execute_input": "2024-10-21T02:00:46.071447Z",
     "iopub.status.busy": "2024-10-21T02:00:46.070957Z",
     "iopub.status.idle": "2024-10-21T02:00:47.083173Z",
     "shell.execute_reply": "2024-10-21T02:00:47.081596Z"
    },
    "papermill": {
     "duration": 1.035588,
     "end_time": "2024-10-21T02:00:47.086208",
     "exception": false,
     "start_time": "2024-10-21T02:00:46.050620",
     "status": "completed"
    },
    "tags": []
   },
   "outputs": [
    {
     "name": "stdout",
     "output_type": "stream",
     "text": [
      "/kaggle/input/nfl-big-data-bowl-2025/players.csv\n",
      "/kaggle/input/nfl-big-data-bowl-2025/tracking_week_7.csv\n",
      "/kaggle/input/nfl-big-data-bowl-2025/tracking_week_9.csv\n",
      "/kaggle/input/nfl-big-data-bowl-2025/tracking_week_6.csv\n",
      "/kaggle/input/nfl-big-data-bowl-2025/games.csv\n",
      "/kaggle/input/nfl-big-data-bowl-2025/tracking_week_8.csv\n",
      "/kaggle/input/nfl-big-data-bowl-2025/player_play.csv\n",
      "/kaggle/input/nfl-big-data-bowl-2025/tracking_week_4.csv\n",
      "/kaggle/input/nfl-big-data-bowl-2025/tracking_week_3.csv\n",
      "/kaggle/input/nfl-big-data-bowl-2025/tracking_week_5.csv\n",
      "/kaggle/input/nfl-big-data-bowl-2025/tracking_week_1.csv\n",
      "/kaggle/input/nfl-big-data-bowl-2025/plays.csv\n",
      "/kaggle/input/nfl-big-data-bowl-2025/tracking_week_2.csv\n",
      "/kaggle/input/nfl-stats-1999-2022/yearly_team_data.csv\n",
      "/kaggle/input/nfl-stats-1999-2022/2024_player_predictions.csv\n",
      "/kaggle/input/nfl-stats-1999-2022/yearly_player_data.csv\n",
      "/kaggle/input/nfl-stats-1999-2022/weekly_team_data.csv\n",
      "/kaggle/input/nfl-stats-1999-2022/weekly_player_data.csv\n"
     ]
    }
   ],
   "source": [
    "# This Python 3 environment comes with many helpful analytics libraries installed\n",
    "# It is defined by the kaggle/python Docker image: https://github.com/kaggle/docker-python\n",
    "# For example, here's several helpful packages to load\n",
    "\n",
    "import numpy as np # linear algebra\n",
    "import pandas as pd # data processing, CSV file I/O (e.g. pd.read_csv)\n",
    "\n",
    "# Input data files are available in the read-only \"../input/\" directory\n",
    "# For example, running this (by clicking run or pressing Shift+Enter) will list all files under the input directory\n",
    "\n",
    "import os\n",
    "for dirname, _, filenames in os.walk('/kaggle/input'):\n",
    "    for filename in filenames:\n",
    "        print(os.path.join(dirname, filename))\n",
    "\n",
    "# You can write up to 20GB to the current directory (/kaggle/working/) that gets preserved as output when you create a version using \"Save & Run All\" \n",
    "# You can also write temporary files to /kaggle/temp/, but they won't be saved outside of the current session"
   ]
  },
  {
   "cell_type": "markdown",
   "id": "3fef94eb",
   "metadata": {
    "papermill": {
     "duration": 0.018064,
     "end_time": "2024-10-21T02:00:47.124708",
     "exception": false,
     "start_time": "2024-10-21T02:00:47.106644",
     "status": "completed"
    },
    "tags": []
   },
   "source": [
    "## Import data\n",
    "\n",
    "We load all relevant data to understand team pass rates"
   ]
  },
  {
   "cell_type": "code",
   "execution_count": 2,
   "id": "658d0fa6",
   "metadata": {
    "execution": {
     "iopub.execute_input": "2024-10-21T02:00:47.163228Z",
     "iopub.status.busy": "2024-10-21T02:00:47.162677Z",
     "iopub.status.idle": "2024-10-21T02:00:50.039948Z",
     "shell.execute_reply": "2024-10-21T02:00:50.038645Z"
    },
    "papermill": {
     "duration": 2.899982,
     "end_time": "2024-10-21T02:00:50.042958",
     "exception": false,
     "start_time": "2024-10-21T02:00:47.142976",
     "status": "completed"
    },
    "tags": []
   },
   "outputs": [],
   "source": [
    "df_play = pd.read_csv('/kaggle/input/nfl-big-data-bowl-2025/plays.csv')\n",
    "df_player_play = pd.read_csv('/kaggle/input/nfl-big-data-bowl-2025/player_play.csv')\n",
    "df_games = pd.read_csv('/kaggle/input/nfl-big-data-bowl-2025/games.csv')\n",
    "df_players = pd.read_csv('/kaggle/input/nfl-big-data-bowl-2025/players.csv')"
   ]
  },
  {
   "cell_type": "code",
   "execution_count": 3,
   "id": "5bc1e517",
   "metadata": {
    "execution": {
     "iopub.execute_input": "2024-10-21T02:00:50.082372Z",
     "iopub.status.busy": "2024-10-21T02:00:50.081929Z",
     "iopub.status.idle": "2024-10-21T02:00:50.116189Z",
     "shell.execute_reply": "2024-10-21T02:00:50.114759Z"
    },
    "papermill": {
     "duration": 0.057108,
     "end_time": "2024-10-21T02:00:50.119212",
     "exception": false,
     "start_time": "2024-10-21T02:00:50.062104",
     "status": "completed"
    },
    "tags": []
   },
   "outputs": [],
   "source": [
    "# Add in week # for each play\n",
    "df_weeks = df_play[['gameId','isDropback','possessionTeam','defensiveTeam']].merge(df_games[['gameId','week']],how='left',on=['gameId'])"
   ]
  },
  {
   "cell_type": "markdown",
   "id": "c5aeb556",
   "metadata": {
    "papermill": {
     "duration": 0.018359,
     "end_time": "2024-10-21T02:00:50.156560",
     "exception": false,
     "start_time": "2024-10-21T02:00:50.138201",
     "status": "completed"
    },
    "tags": []
   },
   "source": [
    "# Aggregate team snap data\n",
    "\n",
    "We want to know both the raw number of snaps each team took, and how many of them were passes, for each week\n"
   ]
  },
  {
   "cell_type": "code",
   "execution_count": 4,
   "id": "54a736e7",
   "metadata": {
    "execution": {
     "iopub.execute_input": "2024-10-21T02:00:50.194802Z",
     "iopub.status.busy": "2024-10-21T02:00:50.194340Z",
     "iopub.status.idle": "2024-10-21T02:00:50.212956Z",
     "shell.execute_reply": "2024-10-21T02:00:50.211855Z"
    },
    "papermill": {
     "duration": 0.040459,
     "end_time": "2024-10-21T02:00:50.215328",
     "exception": false,
     "start_time": "2024-10-21T02:00:50.174869",
     "status": "completed"
    },
    "tags": []
   },
   "outputs": [
    {
     "data": {
      "text/html": [
       "<div>\n",
       "<style scoped>\n",
       "    .dataframe tbody tr th:only-of-type {\n",
       "        vertical-align: middle;\n",
       "    }\n",
       "\n",
       "    .dataframe tbody tr th {\n",
       "        vertical-align: top;\n",
       "    }\n",
       "\n",
       "    .dataframe thead th {\n",
       "        text-align: right;\n",
       "    }\n",
       "</style>\n",
       "<table border=\"1\" class=\"dataframe\">\n",
       "  <thead>\n",
       "    <tr style=\"text-align: right;\">\n",
       "      <th></th>\n",
       "      <th>isDropback</th>\n",
       "      <th>possessionTeam</th>\n",
       "      <th>defensiveTeam</th>\n",
       "      <th>week</th>\n",
       "    </tr>\n",
       "  </thead>\n",
       "  <tbody>\n",
       "    <tr>\n",
       "      <th>0</th>\n",
       "      <td>True</td>\n",
       "      <td>CIN</td>\n",
       "      <td>ATL</td>\n",
       "      <td>7</td>\n",
       "    </tr>\n",
       "  </tbody>\n",
       "</table>\n",
       "</div>"
      ],
      "text/plain": [
       "   isDropback possessionTeam defensiveTeam  week\n",
       "0        True            CIN           ATL     7"
      ]
     },
     "execution_count": 4,
     "metadata": {},
     "output_type": "execute_result"
    }
   ],
   "source": [
    "df_working = df_weeks.drop(columns=['gameId'])\n",
    "df_working.head(1)"
   ]
  },
  {
   "cell_type": "code",
   "execution_count": 5,
   "id": "94fe1a79",
   "metadata": {
    "execution": {
     "iopub.execute_input": "2024-10-21T02:00:50.255419Z",
     "iopub.status.busy": "2024-10-21T02:00:50.254215Z",
     "iopub.status.idle": "2024-10-21T02:00:50.293017Z",
     "shell.execute_reply": "2024-10-21T02:00:50.292034Z"
    },
    "papermill": {
     "duration": 0.06164,
     "end_time": "2024-10-21T02:00:50.295791",
     "exception": false,
     "start_time": "2024-10-21T02:00:50.234151",
     "status": "completed"
    },
    "tags": []
   },
   "outputs": [],
   "source": [
    "# Group by team/week, get pass & snap count for each team/week combo\n",
    "\n",
    "off_df = df_working.groupby(['possessionTeam','week'])\\\n",
    "                        .agg(off_passes=('isDropback', 'sum'), off_snaps=('isDropback', 'count')).reset_index()\n",
    "\n",
    "def_df = df_working.groupby(['defensiveTeam','week'])\\\n",
    "                        .agg(def_passes=('isDropback', 'sum'), def_snaps=('isDropback', 'count')).reset_index()\n"
   ]
  },
  {
   "cell_type": "code",
   "execution_count": 6,
   "id": "8ffa2f79",
   "metadata": {
    "execution": {
     "iopub.execute_input": "2024-10-21T02:00:50.335183Z",
     "iopub.status.busy": "2024-10-21T02:00:50.334753Z",
     "iopub.status.idle": "2024-10-21T02:00:50.356472Z",
     "shell.execute_reply": "2024-10-21T02:00:50.355460Z"
    },
    "papermill": {
     "duration": 0.044521,
     "end_time": "2024-10-21T02:00:50.359150",
     "exception": false,
     "start_time": "2024-10-21T02:00:50.314629",
     "status": "completed"
    },
    "tags": []
   },
   "outputs": [],
   "source": [
    "# Merge offensive, defensive snap stats\n",
    "df_full = off_df.merge(def_df,how='inner',left_on=['possessionTeam','week'],right_on=['defensiveTeam','week']).drop(columns=['defensiveTeam'])\n",
    "\n",
    "# Get running snap/pass stats over the season for the current week\n",
    "df_cs = pd.concat([df_full[['possessionTeam','week']],df_full.groupby('possessionTeam').cumsum().drop(columns='week')],axis=1)\n",
    "\n",
    "# Calc pass rate for offense & defense\n",
    "df_cs['pass_rate_off'] = df_cs['off_passes']/df_cs['off_snaps']\n",
    "df_cs['pass_rate_def'] = df_cs['def_passes']/df_cs['def_snaps']"
   ]
  },
  {
   "cell_type": "code",
   "execution_count": 7,
   "id": "676333a5",
   "metadata": {
    "execution": {
     "iopub.execute_input": "2024-10-21T02:00:50.398198Z",
     "iopub.status.busy": "2024-10-21T02:00:50.397485Z",
     "iopub.status.idle": "2024-10-21T02:00:50.411662Z",
     "shell.execute_reply": "2024-10-21T02:00:50.410441Z"
    },
    "papermill": {
     "duration": 0.036459,
     "end_time": "2024-10-21T02:00:50.414375",
     "exception": false,
     "start_time": "2024-10-21T02:00:50.377916",
     "status": "completed"
    },
    "tags": []
   },
   "outputs": [
    {
     "data": {
      "text/html": [
       "<div>\n",
       "<style scoped>\n",
       "    .dataframe tbody tr th:only-of-type {\n",
       "        vertical-align: middle;\n",
       "    }\n",
       "\n",
       "    .dataframe tbody tr th {\n",
       "        vertical-align: top;\n",
       "    }\n",
       "\n",
       "    .dataframe thead th {\n",
       "        text-align: right;\n",
       "    }\n",
       "</style>\n",
       "<table border=\"1\" class=\"dataframe\">\n",
       "  <thead>\n",
       "    <tr style=\"text-align: right;\">\n",
       "      <th></th>\n",
       "      <th>possessionTeam</th>\n",
       "      <th>week</th>\n",
       "      <th>off_passes</th>\n",
       "      <th>off_snaps</th>\n",
       "      <th>def_passes</th>\n",
       "      <th>def_snaps</th>\n",
       "      <th>pass_rate_off</th>\n",
       "      <th>pass_rate_def</th>\n",
       "    </tr>\n",
       "  </thead>\n",
       "  <tbody>\n",
       "    <tr>\n",
       "      <th>0</th>\n",
       "      <td>ARI</td>\n",
       "      <td>1</td>\n",
       "      <td>39</td>\n",
       "      <td>57</td>\n",
       "      <td>40</td>\n",
       "      <td>64</td>\n",
       "      <td>0.684211</td>\n",
       "      <td>0.625000</td>\n",
       "    </tr>\n",
       "    <tr>\n",
       "      <th>1</th>\n",
       "      <td>ARI</td>\n",
       "      <td>2</td>\n",
       "      <td>88</td>\n",
       "      <td>130</td>\n",
       "      <td>81</td>\n",
       "      <td>124</td>\n",
       "      <td>0.676923</td>\n",
       "      <td>0.653226</td>\n",
       "    </tr>\n",
       "    <tr>\n",
       "      <th>2</th>\n",
       "      <td>ARI</td>\n",
       "      <td>3</td>\n",
       "      <td>146</td>\n",
       "      <td>206</td>\n",
       "      <td>108</td>\n",
       "      <td>169</td>\n",
       "      <td>0.708738</td>\n",
       "      <td>0.639053</td>\n",
       "    </tr>\n",
       "  </tbody>\n",
       "</table>\n",
       "</div>"
      ],
      "text/plain": [
       "  possessionTeam  week  off_passes  off_snaps  def_passes  def_snaps  \\\n",
       "0            ARI     1          39         57          40         64   \n",
       "1            ARI     2          88        130          81        124   \n",
       "2            ARI     3         146        206         108        169   \n",
       "\n",
       "   pass_rate_off  pass_rate_def  \n",
       "0       0.684211       0.625000  \n",
       "1       0.676923       0.653226  \n",
       "2       0.708738       0.639053  "
      ]
     },
     "execution_count": 7,
     "metadata": {},
     "output_type": "execute_result"
    }
   ],
   "source": [
    "df_cs.head(3)"
   ]
  },
  {
   "cell_type": "markdown",
   "id": "b744d6ec",
   "metadata": {
    "papermill": {
     "duration": 0.018378,
     "end_time": "2024-10-21T02:00:50.451619",
     "exception": false,
     "start_time": "2024-10-21T02:00:50.433241",
     "status": "completed"
    },
    "tags": []
   },
   "source": [
    "# Calculate player-weighted pass tendencies\n",
    "\n",
    "I.e., given the snap history of players on the field, does that help us predict a pass?"
   ]
  },
  {
   "cell_type": "code",
   "execution_count": 8,
   "id": "3d341ca2",
   "metadata": {
    "execution": {
     "iopub.execute_input": "2024-10-21T02:00:50.492516Z",
     "iopub.status.busy": "2024-10-21T02:00:50.491530Z",
     "iopub.status.idle": "2024-10-21T02:00:50.677074Z",
     "shell.execute_reply": "2024-10-21T02:00:50.675930Z"
    },
    "papermill": {
     "duration": 0.208698,
     "end_time": "2024-10-21T02:00:50.679932",
     "exception": false,
     "start_time": "2024-10-21T02:00:50.471234",
     "status": "completed"
    },
    "tags": []
   },
   "outputs": [],
   "source": [
    "# Player-play data, flagged for if it's a dropback\n",
    "db_flagged = df_player_play.merge(df_play[['playId','gameId','isDropback']],how='left',\n",
    "                     on=['playId','gameId'])\n",
    "\n",
    "# Add in week info to each play\n",
    "db_weeks_id = db_flagged[['gameId','playId','nflId','isDropback','teamAbbr']].merge(df_weeks[['gameId','week']].drop_duplicates('gameId'),how='left',on=['gameId'])\n",
    "\n",
    "# Get weekly pass counts for each player\n",
    "pass_cts = db_weeks_id.groupby(['nflId','week','teamAbbr']).agg(pass_ct=('isDropback','sum'),\n",
    "                                                     snap_ct=('isDropback','count')).reset_index()"
   ]
  },
  {
   "cell_type": "code",
   "execution_count": 9,
   "id": "b0393dd4",
   "metadata": {
    "execution": {
     "iopub.execute_input": "2024-10-21T02:00:50.718963Z",
     "iopub.status.busy": "2024-10-21T02:00:50.718542Z",
     "iopub.status.idle": "2024-10-21T02:00:50.725418Z",
     "shell.execute_reply": "2024-10-21T02:00:50.724340Z"
    },
    "papermill": {
     "duration": 0.029294,
     "end_time": "2024-10-21T02:00:50.727960",
     "exception": false,
     "start_time": "2024-10-21T02:00:50.698666",
     "status": "completed"
    },
    "tags": []
   },
   "outputs": [],
   "source": [
    "pass_cts['team_pass_ratio'] = pass_cts['pass_ct']/pass_cts['snap_ct']"
   ]
  },
  {
   "cell_type": "code",
   "execution_count": 10,
   "id": "83a7e94c",
   "metadata": {
    "execution": {
     "iopub.execute_input": "2024-10-21T02:00:50.767300Z",
     "iopub.status.busy": "2024-10-21T02:00:50.766894Z",
     "iopub.status.idle": "2024-10-21T02:00:50.779541Z",
     "shell.execute_reply": "2024-10-21T02:00:50.778456Z"
    },
    "papermill": {
     "duration": 0.035443,
     "end_time": "2024-10-21T02:00:50.782245",
     "exception": false,
     "start_time": "2024-10-21T02:00:50.746802",
     "status": "completed"
    },
    "tags": []
   },
   "outputs": [
    {
     "data": {
      "text/html": [
       "<div>\n",
       "<style scoped>\n",
       "    .dataframe tbody tr th:only-of-type {\n",
       "        vertical-align: middle;\n",
       "    }\n",
       "\n",
       "    .dataframe tbody tr th {\n",
       "        vertical-align: top;\n",
       "    }\n",
       "\n",
       "    .dataframe thead th {\n",
       "        text-align: right;\n",
       "    }\n",
       "</style>\n",
       "<table border=\"1\" class=\"dataframe\">\n",
       "  <thead>\n",
       "    <tr style=\"text-align: right;\">\n",
       "      <th></th>\n",
       "      <th>nflId</th>\n",
       "      <th>week</th>\n",
       "      <th>teamAbbr</th>\n",
       "      <th>pass_ct</th>\n",
       "      <th>snap_ct</th>\n",
       "      <th>team_pass_ratio</th>\n",
       "    </tr>\n",
       "  </thead>\n",
       "  <tbody>\n",
       "    <tr>\n",
       "      <th>0</th>\n",
       "      <td>25511</td>\n",
       "      <td>1</td>\n",
       "      <td>TB</td>\n",
       "      <td>26</td>\n",
       "      <td>58</td>\n",
       "      <td>0.448276</td>\n",
       "    </tr>\n",
       "    <tr>\n",
       "      <th>1</th>\n",
       "      <td>25511</td>\n",
       "      <td>2</td>\n",
       "      <td>TB</td>\n",
       "      <td>35</td>\n",
       "      <td>63</td>\n",
       "      <td>0.555556</td>\n",
       "    </tr>\n",
       "    <tr>\n",
       "      <th>2</th>\n",
       "      <td>25511</td>\n",
       "      <td>3</td>\n",
       "      <td>TB</td>\n",
       "      <td>42</td>\n",
       "      <td>56</td>\n",
       "      <td>0.750000</td>\n",
       "    </tr>\n",
       "  </tbody>\n",
       "</table>\n",
       "</div>"
      ],
      "text/plain": [
       "   nflId  week teamAbbr  pass_ct  snap_ct  team_pass_ratio\n",
       "0  25511     1       TB       26       58         0.448276\n",
       "1  25511     2       TB       35       63         0.555556\n",
       "2  25511     3       TB       42       56         0.750000"
      ]
     },
     "execution_count": 10,
     "metadata": {},
     "output_type": "execute_result"
    }
   ],
   "source": [
    "pass_cts.head(3)"
   ]
  },
  {
   "cell_type": "markdown",
   "id": "99f603fb",
   "metadata": {
    "papermill": {
     "duration": 0.018451,
     "end_time": "2024-10-21T02:00:50.819989",
     "exception": false,
     "start_time": "2024-10-21T02:00:50.801538",
     "status": "completed"
    },
    "tags": []
   },
   "source": [
    "## Qualitatively explore player pass counts\n",
    "\n",
    "Just to get a feel for who exactly is in on pass/run downs, we look at some examples of players who tell us a pass (or run) is likely"
   ]
  },
  {
   "cell_type": "code",
   "execution_count": 11,
   "id": "9087d231",
   "metadata": {
    "execution": {
     "iopub.execute_input": "2024-10-21T02:00:50.859578Z",
     "iopub.status.busy": "2024-10-21T02:00:50.859105Z",
     "iopub.status.idle": "2024-10-21T02:00:50.874827Z",
     "shell.execute_reply": "2024-10-21T02:00:50.873714Z"
    },
    "papermill": {
     "duration": 0.038372,
     "end_time": "2024-10-21T02:00:50.877406",
     "exception": false,
     "start_time": "2024-10-21T02:00:50.839034",
     "status": "completed"
    },
    "tags": []
   },
   "outputs": [],
   "source": [
    "pass_snap_df = pass_cts.merge(df_players[['nflId','displayName','position']],how='left',on='nflId')\n",
    "pass_snap_df = pass_snap_df.sort_values(by='pass_ct',ascending=False)\n",
    "pass_snap_df['pass_ratio'] = pass_snap_df['pass_ct']/pass_snap_df['snap_ct']"
   ]
  },
  {
   "cell_type": "markdown",
   "id": "ff0f10a0",
   "metadata": {
    "papermill": {
     "duration": 0.018387,
     "end_time": "2024-10-21T02:00:50.914666",
     "exception": false,
     "start_time": "2024-10-21T02:00:50.896279",
     "status": "completed"
    },
    "tags": []
   },
   "source": [
    "Below we can see that a bevy of blocking tight ends, nose tackles, and run-first RB Derrick Henry dominate low-pass rate scenarios:"
   ]
  },
  {
   "cell_type": "code",
   "execution_count": 12,
   "id": "06cd26b4",
   "metadata": {
    "execution": {
     "iopub.execute_input": "2024-10-21T02:00:50.954579Z",
     "iopub.status.busy": "2024-10-21T02:00:50.954145Z",
     "iopub.status.idle": "2024-10-21T02:00:50.974812Z",
     "shell.execute_reply": "2024-10-21T02:00:50.973702Z"
    },
    "papermill": {
     "duration": 0.043373,
     "end_time": "2024-10-21T02:00:50.977249",
     "exception": false,
     "start_time": "2024-10-21T02:00:50.933876",
     "status": "completed"
    },
    "tags": []
   },
   "outputs": [
    {
     "data": {
      "text/html": [
       "<div>\n",
       "<style scoped>\n",
       "    .dataframe tbody tr th:only-of-type {\n",
       "        vertical-align: middle;\n",
       "    }\n",
       "\n",
       "    .dataframe tbody tr th {\n",
       "        vertical-align: top;\n",
       "    }\n",
       "\n",
       "    .dataframe thead th {\n",
       "        text-align: right;\n",
       "    }\n",
       "</style>\n",
       "<table border=\"1\" class=\"dataframe\">\n",
       "  <thead>\n",
       "    <tr style=\"text-align: right;\">\n",
       "      <th></th>\n",
       "      <th>nflId</th>\n",
       "      <th>week</th>\n",
       "      <th>teamAbbr</th>\n",
       "      <th>pass_ct</th>\n",
       "      <th>snap_ct</th>\n",
       "      <th>team_pass_ratio</th>\n",
       "      <th>displayName</th>\n",
       "      <th>position</th>\n",
       "      <th>pass_ratio</th>\n",
       "    </tr>\n",
       "  </thead>\n",
       "  <tbody>\n",
       "    <tr>\n",
       "      <th>1644</th>\n",
       "      <td>42589</td>\n",
       "      <td>8</td>\n",
       "      <td>TEN</td>\n",
       "      <td>4</td>\n",
       "      <td>38</td>\n",
       "      <td>0.105263</td>\n",
       "      <td>Geoff Swaim</td>\n",
       "      <td>TE</td>\n",
       "      <td>0.105263</td>\n",
       "    </tr>\n",
       "    <tr>\n",
       "      <th>9525</th>\n",
       "      <td>54594</td>\n",
       "      <td>5</td>\n",
       "      <td>DAL</td>\n",
       "      <td>5</td>\n",
       "      <td>33</td>\n",
       "      <td>0.151515</td>\n",
       "      <td>Jake Ferguson</td>\n",
       "      <td>TE</td>\n",
       "      <td>0.151515</td>\n",
       "    </tr>\n",
       "    <tr>\n",
       "      <th>1946</th>\n",
       "      <td>43334</td>\n",
       "      <td>8</td>\n",
       "      <td>TEN</td>\n",
       "      <td>8</td>\n",
       "      <td>42</td>\n",
       "      <td>0.190476</td>\n",
       "      <td>Derrick Henry</td>\n",
       "      <td>RB</td>\n",
       "      <td>0.190476</td>\n",
       "    </tr>\n",
       "    <tr>\n",
       "      <th>1643</th>\n",
       "      <td>42589</td>\n",
       "      <td>7</td>\n",
       "      <td>TEN</td>\n",
       "      <td>6</td>\n",
       "      <td>31</td>\n",
       "      <td>0.193548</td>\n",
       "      <td>Geoff Swaim</td>\n",
       "      <td>TE</td>\n",
       "      <td>0.193548</td>\n",
       "    </tr>\n",
       "    <tr>\n",
       "      <th>146</th>\n",
       "      <td>35562</td>\n",
       "      <td>2</td>\n",
       "      <td>SEA</td>\n",
       "      <td>7</td>\n",
       "      <td>34</td>\n",
       "      <td>0.205882</td>\n",
       "      <td>Al Woods</td>\n",
       "      <td>NT</td>\n",
       "      <td>0.205882</td>\n",
       "    </tr>\n",
       "    <tr>\n",
       "      <th>6146</th>\n",
       "      <td>48723</td>\n",
       "      <td>6</td>\n",
       "      <td>ATL</td>\n",
       "      <td>8</td>\n",
       "      <td>38</td>\n",
       "      <td>0.210526</td>\n",
       "      <td>Parker Hesse</td>\n",
       "      <td>TE</td>\n",
       "      <td>0.210526</td>\n",
       "    </tr>\n",
       "    <tr>\n",
       "      <th>7086</th>\n",
       "      <td>52598</td>\n",
       "      <td>2</td>\n",
       "      <td>SF</td>\n",
       "      <td>7</td>\n",
       "      <td>32</td>\n",
       "      <td>0.218750</td>\n",
       "      <td>Charlie Woerner</td>\n",
       "      <td>TE</td>\n",
       "      <td>0.218750</td>\n",
       "    </tr>\n",
       "    <tr>\n",
       "      <th>9370</th>\n",
       "      <td>54560</td>\n",
       "      <td>8</td>\n",
       "      <td>CIN</td>\n",
       "      <td>11</td>\n",
       "      <td>49</td>\n",
       "      <td>0.224490</td>\n",
       "      <td>Zach Carter</td>\n",
       "      <td>DT</td>\n",
       "      <td>0.224490</td>\n",
       "    </tr>\n",
       "    <tr>\n",
       "      <th>5234</th>\n",
       "      <td>47852</td>\n",
       "      <td>7</td>\n",
       "      <td>BAL</td>\n",
       "      <td>7</td>\n",
       "      <td>31</td>\n",
       "      <td>0.225806</td>\n",
       "      <td>Josh Oliver</td>\n",
       "      <td>TE</td>\n",
       "      <td>0.225806</td>\n",
       "    </tr>\n",
       "    <tr>\n",
       "      <th>1126</th>\n",
       "      <td>42302</td>\n",
       "      <td>6</td>\n",
       "      <td>JAX</td>\n",
       "      <td>8</td>\n",
       "      <td>35</td>\n",
       "      <td>0.228571</td>\n",
       "      <td>Chris Manhertz</td>\n",
       "      <td>TE</td>\n",
       "      <td>0.228571</td>\n",
       "    </tr>\n",
       "  </tbody>\n",
       "</table>\n",
       "</div>"
      ],
      "text/plain": [
       "      nflId  week teamAbbr  pass_ct  snap_ct  team_pass_ratio  \\\n",
       "1644  42589     8      TEN        4       38         0.105263   \n",
       "9525  54594     5      DAL        5       33         0.151515   \n",
       "1946  43334     8      TEN        8       42         0.190476   \n",
       "1643  42589     7      TEN        6       31         0.193548   \n",
       "146   35562     2      SEA        7       34         0.205882   \n",
       "6146  48723     6      ATL        8       38         0.210526   \n",
       "7086  52598     2       SF        7       32         0.218750   \n",
       "9370  54560     8      CIN       11       49         0.224490   \n",
       "5234  47852     7      BAL        7       31         0.225806   \n",
       "1126  42302     6      JAX        8       35         0.228571   \n",
       "\n",
       "          displayName position  pass_ratio  \n",
       "1644      Geoff Swaim       TE    0.105263  \n",
       "9525    Jake Ferguson       TE    0.151515  \n",
       "1946    Derrick Henry       RB    0.190476  \n",
       "1643      Geoff Swaim       TE    0.193548  \n",
       "146          Al Woods       NT    0.205882  \n",
       "6146     Parker Hesse       TE    0.210526  \n",
       "7086  Charlie Woerner       TE    0.218750  \n",
       "9370      Zach Carter       DT    0.224490  \n",
       "5234      Josh Oliver       TE    0.225806  \n",
       "1126   Chris Manhertz       TE    0.228571  "
      ]
     },
     "execution_count": 12,
     "metadata": {},
     "output_type": "execute_result"
    }
   ],
   "source": [
    "pass_snap_df[pass_snap_df['snap_ct'] > 30].sort_values(by=['pass_ratio']).head(10)"
   ]
  },
  {
   "cell_type": "markdown",
   "id": "69418cf5",
   "metadata": {
    "papermill": {
     "duration": 0.019417,
     "end_time": "2024-10-21T02:00:51.016035",
     "exception": false,
     "start_time": "2024-10-21T02:00:50.996618",
     "status": "completed"
    },
    "tags": []
   },
   "source": [
    "## Merge in players to week data\n",
    "\n",
    "We want to merge in our player snap ratio, looking back a week"
   ]
  },
  {
   "cell_type": "code",
   "execution_count": 13,
   "id": "556022da",
   "metadata": {
    "execution": {
     "iopub.execute_input": "2024-10-21T02:00:51.057955Z",
     "iopub.status.busy": "2024-10-21T02:00:51.057516Z",
     "iopub.status.idle": "2024-10-21T02:00:51.070727Z",
     "shell.execute_reply": "2024-10-21T02:00:51.068968Z"
    },
    "papermill": {
     "duration": 0.037373,
     "end_time": "2024-10-21T02:00:51.073512",
     "exception": false,
     "start_time": "2024-10-21T02:00:51.036139",
     "status": "completed"
    },
    "tags": []
   },
   "outputs": [
    {
     "data": {
      "text/html": [
       "<div>\n",
       "<style scoped>\n",
       "    .dataframe tbody tr th:only-of-type {\n",
       "        vertical-align: middle;\n",
       "    }\n",
       "\n",
       "    .dataframe tbody tr th {\n",
       "        vertical-align: top;\n",
       "    }\n",
       "\n",
       "    .dataframe thead th {\n",
       "        text-align: right;\n",
       "    }\n",
       "</style>\n",
       "<table border=\"1\" class=\"dataframe\">\n",
       "  <thead>\n",
       "    <tr style=\"text-align: right;\">\n",
       "      <th></th>\n",
       "      <th>gameId</th>\n",
       "      <th>playId</th>\n",
       "      <th>nflId</th>\n",
       "      <th>isDropback</th>\n",
       "      <th>teamAbbr</th>\n",
       "      <th>week</th>\n",
       "    </tr>\n",
       "  </thead>\n",
       "  <tbody>\n",
       "    <tr>\n",
       "      <th>0</th>\n",
       "      <td>2022090800</td>\n",
       "      <td>56</td>\n",
       "      <td>35472</td>\n",
       "      <td>True</td>\n",
       "      <td>BUF</td>\n",
       "      <td>1</td>\n",
       "    </tr>\n",
       "  </tbody>\n",
       "</table>\n",
       "</div>"
      ],
      "text/plain": [
       "       gameId  playId  nflId  isDropback teamAbbr  week\n",
       "0  2022090800      56  35472        True      BUF     1"
      ]
     },
     "execution_count": 13,
     "metadata": {},
     "output_type": "execute_result"
    }
   ],
   "source": [
    "db_weeks_id.head(1)"
   ]
  },
  {
   "cell_type": "code",
   "execution_count": 14,
   "id": "18be0c7e",
   "metadata": {
    "execution": {
     "iopub.execute_input": "2024-10-21T02:00:51.124540Z",
     "iopub.status.busy": "2024-10-21T02:00:51.123259Z",
     "iopub.status.idle": "2024-10-21T02:00:51.139831Z",
     "shell.execute_reply": "2024-10-21T02:00:51.138684Z"
    },
    "papermill": {
     "duration": 0.044636,
     "end_time": "2024-10-21T02:00:51.142246",
     "exception": false,
     "start_time": "2024-10-21T02:00:51.097610",
     "status": "completed"
    },
    "tags": []
   },
   "outputs": [
    {
     "data": {
      "text/html": [
       "<div>\n",
       "<style scoped>\n",
       "    .dataframe tbody tr th:only-of-type {\n",
       "        vertical-align: middle;\n",
       "    }\n",
       "\n",
       "    .dataframe tbody tr th {\n",
       "        vertical-align: top;\n",
       "    }\n",
       "\n",
       "    .dataframe thead th {\n",
       "        text-align: right;\n",
       "    }\n",
       "</style>\n",
       "<table border=\"1\" class=\"dataframe\">\n",
       "  <thead>\n",
       "    <tr style=\"text-align: right;\">\n",
       "      <th></th>\n",
       "      <th>nflId</th>\n",
       "      <th>week</th>\n",
       "      <th>teamAbbr</th>\n",
       "      <th>pass_ct</th>\n",
       "      <th>snap_ct</th>\n",
       "      <th>team_pass_ratio</th>\n",
       "      <th>displayName</th>\n",
       "      <th>position</th>\n",
       "      <th>pass_ratio</th>\n",
       "    </tr>\n",
       "  </thead>\n",
       "  <tbody>\n",
       "    <tr>\n",
       "      <th>2017</th>\n",
       "      <td>43353</td>\n",
       "      <td>9</td>\n",
       "      <td>TEN</td>\n",
       "      <td>78</td>\n",
       "      <td>90</td>\n",
       "      <td>0.866667</td>\n",
       "      <td>Kevin Byard</td>\n",
       "      <td>FS</td>\n",
       "      <td>0.866667</td>\n",
       "    </tr>\n",
       "  </tbody>\n",
       "</table>\n",
       "</div>"
      ],
      "text/plain": [
       "      nflId  week teamAbbr  pass_ct  snap_ct  team_pass_ratio  displayName  \\\n",
       "2017  43353     9      TEN       78       90         0.866667  Kevin Byard   \n",
       "\n",
       "     position  pass_ratio  \n",
       "2017       FS    0.866667  "
      ]
     },
     "execution_count": 14,
     "metadata": {},
     "output_type": "execute_result"
    }
   ],
   "source": [
    "pass_snap_df.head(1)"
   ]
  },
  {
   "cell_type": "code",
   "execution_count": 15,
   "id": "4dbf4f1e",
   "metadata": {
    "execution": {
     "iopub.execute_input": "2024-10-21T02:00:51.184116Z",
     "iopub.status.busy": "2024-10-21T02:00:51.183180Z",
     "iopub.status.idle": "2024-10-21T02:00:51.240884Z",
     "shell.execute_reply": "2024-10-21T02:00:51.239488Z"
    },
    "papermill": {
     "duration": 0.082495,
     "end_time": "2024-10-21T02:00:51.244642",
     "exception": false,
     "start_time": "2024-10-21T02:00:51.162147",
     "status": "completed"
    },
    "tags": []
   },
   "outputs": [],
   "source": [
    "# downshift week\n",
    "pass_snap_df['week'] += 1\n",
    "\n",
    "# merge shifted player pass data back in to week data\n",
    "pass_merged = db_weeks_id.merge(pass_snap_df[['nflId','week','pass_ct','snap_ct']],how='left',on=['nflId','week'])"
   ]
  },
  {
   "cell_type": "code",
   "execution_count": 16,
   "id": "a7d98c4a",
   "metadata": {
    "execution": {
     "iopub.execute_input": "2024-10-21T02:00:51.303240Z",
     "iopub.status.busy": "2024-10-21T02:00:51.302273Z",
     "iopub.status.idle": "2024-10-21T02:00:51.900334Z",
     "shell.execute_reply": "2024-10-21T02:00:51.899220Z"
    },
    "papermill": {
     "duration": 0.628685,
     "end_time": "2024-10-21T02:00:51.902881",
     "exception": false,
     "start_time": "2024-10-21T02:00:51.274196",
     "status": "completed"
    },
    "tags": []
   },
   "outputs": [
    {
     "data": {
      "text/html": [
       "<div>\n",
       "<style scoped>\n",
       "    .dataframe tbody tr th:only-of-type {\n",
       "        vertical-align: middle;\n",
       "    }\n",
       "\n",
       "    .dataframe tbody tr th {\n",
       "        vertical-align: top;\n",
       "    }\n",
       "\n",
       "    .dataframe thead th {\n",
       "        text-align: right;\n",
       "    }\n",
       "</style>\n",
       "<table border=\"1\" class=\"dataframe\">\n",
       "  <thead>\n",
       "    <tr style=\"text-align: right;\">\n",
       "      <th></th>\n",
       "      <th>gameId</th>\n",
       "      <th>playId</th>\n",
       "      <th>nflId</th>\n",
       "      <th>isDropback</th>\n",
       "      <th>teamAbbr</th>\n",
       "      <th>week</th>\n",
       "      <th>pass_ct</th>\n",
       "      <th>snap_ct</th>\n",
       "      <th>position</th>\n",
       "    </tr>\n",
       "  </thead>\n",
       "  <tbody>\n",
       "    <tr>\n",
       "      <th>166561</th>\n",
       "      <td>2022091106</td>\n",
       "      <td>3437</td>\n",
       "      <td>35466</td>\n",
       "      <td>False</td>\n",
       "      <td>NE</td>\n",
       "      <td>1</td>\n",
       "      <td>0.0</td>\n",
       "      <td>0.0</td>\n",
       "      <td>FS</td>\n",
       "    </tr>\n",
       "    <tr>\n",
       "      <th>556</th>\n",
       "      <td>2022090800</td>\n",
       "      <td>122</td>\n",
       "      <td>53522</td>\n",
       "      <td>True</td>\n",
       "      <td>BUF</td>\n",
       "      <td>1</td>\n",
       "      <td>0.0</td>\n",
       "      <td>0.0</td>\n",
       "      <td>T</td>\n",
       "    </tr>\n",
       "    <tr>\n",
       "      <th>1926412</th>\n",
       "      <td>2022102302</td>\n",
       "      <td>1316</td>\n",
       "      <td>53543</td>\n",
       "      <td>False</td>\n",
       "      <td>ATL</td>\n",
       "      <td>7</td>\n",
       "      <td>16.0</td>\n",
       "      <td>54.0</td>\n",
       "      <td>C</td>\n",
       "    </tr>\n",
       "  </tbody>\n",
       "</table>\n",
       "</div>"
      ],
      "text/plain": [
       "             gameId  playId  nflId  isDropback teamAbbr  week  pass_ct  \\\n",
       "166561   2022091106    3437  35466       False       NE     1      0.0   \n",
       "556      2022090800     122  53522        True      BUF     1      0.0   \n",
       "1926412  2022102302    1316  53543       False      ATL     7     16.0   \n",
       "\n",
       "         snap_ct position  \n",
       "166561       0.0       FS  \n",
       "556          0.0        T  \n",
       "1926412     54.0        C  "
      ]
     },
     "execution_count": 16,
     "metadata": {},
     "output_type": "execute_result"
    }
   ],
   "source": [
    "pass_merged = pass_merged.fillna(0)\n",
    "pass_merged = pass_merged.merge(pass_snap_df[['nflId','position']],how='left',on=['nflId'])\n",
    "pass_merged.sample(3)"
   ]
  },
  {
   "cell_type": "markdown",
   "id": "8fbd6136",
   "metadata": {
    "papermill": {
     "duration": 0.019649,
     "end_time": "2024-10-21T02:00:51.942978",
     "exception": false,
     "start_time": "2024-10-21T02:00:51.923329",
     "status": "completed"
    },
    "tags": []
   },
   "source": [
    "We can excise OL members and QB's since they're on the field most every snap, but let's keep them in for now:"
   ]
  },
  {
   "cell_type": "code",
   "execution_count": 17,
   "id": "14f06b33",
   "metadata": {
    "execution": {
     "iopub.execute_input": "2024-10-21T02:00:51.985414Z",
     "iopub.status.busy": "2024-10-21T02:00:51.984948Z",
     "iopub.status.idle": "2024-10-21T02:00:51.989894Z",
     "shell.execute_reply": "2024-10-21T02:00:51.988830Z"
    },
    "papermill": {
     "duration": 0.028809,
     "end_time": "2024-10-21T02:00:51.992436",
     "exception": false,
     "start_time": "2024-10-21T02:00:51.963627",
     "status": "completed"
    },
    "tags": []
   },
   "outputs": [],
   "source": [
    "#pass_merged = pass_merged[pass_merged.position.isin(['QB','G','T','C'])]"
   ]
  },
  {
   "cell_type": "markdown",
   "id": "e355f2b6",
   "metadata": {
    "papermill": {
     "duration": 0.019699,
     "end_time": "2024-10-21T02:00:52.032499",
     "exception": false,
     "start_time": "2024-10-21T02:00:52.012800",
     "status": "completed"
    },
    "tags": []
   },
   "source": [
    "## Expected pass rate by teams\n",
    "\n",
    "Excluding players on the field at each snap, we essentially consider the run/pass likelihood based on the relative snaps taken by the players on the field. \n",
    "\n",
    "Lingering Q: do we sum pass over sum snaps, or just an average (potentially weighted) of pass snap ratios. The latter potentially gives up-weight to run-only players.\n"
   ]
  },
  {
   "cell_type": "code",
   "execution_count": 18,
   "id": "0c0dc018",
   "metadata": {
    "execution": {
     "iopub.execute_input": "2024-10-21T02:00:52.075041Z",
     "iopub.status.busy": "2024-10-21T02:00:52.074252Z",
     "iopub.status.idle": "2024-10-21T02:00:58.657591Z",
     "shell.execute_reply": "2024-10-21T02:00:58.656639Z"
    },
    "papermill": {
     "duration": 6.607301,
     "end_time": "2024-10-21T02:00:58.660319",
     "exception": false,
     "start_time": "2024-10-21T02:00:52.053018",
     "status": "completed"
    },
    "tags": []
   },
   "outputs": [
    {
     "name": "stderr",
     "output_type": "stream",
     "text": [
      "/tmp/ipykernel_17/1155812606.py:1: RuntimeWarning: invalid value encountered in scalar divide\n",
      "  team_xpass_df = pass_merged.groupby(['week','gameId','playId','teamAbbr']).apply(lambda x: x['pass_ct'].sum() /\n"
     ]
    }
   ],
   "source": [
    "team_xpass_df = pass_merged.groupby(['week','gameId','playId','teamAbbr']).apply(lambda x: x['pass_ct'].sum() /\n",
    "                                   x['snap_ct'].sum().astype(float), include_groups=False).reset_index().rename(columns={0:'personnel_xpass_ratio'})\n",
    "\n",
    "team_xpass_df = team_xpass_df.dropna()"
   ]
  },
  {
   "cell_type": "code",
   "execution_count": 19,
   "id": "b4c0e21d",
   "metadata": {
    "execution": {
     "iopub.execute_input": "2024-10-21T02:00:58.702198Z",
     "iopub.status.busy": "2024-10-21T02:00:58.701764Z",
     "iopub.status.idle": "2024-10-21T02:00:58.714287Z",
     "shell.execute_reply": "2024-10-21T02:00:58.713150Z"
    },
    "papermill": {
     "duration": 0.036472,
     "end_time": "2024-10-21T02:00:58.716949",
     "exception": false,
     "start_time": "2024-10-21T02:00:58.680477",
     "status": "completed"
    },
    "tags": []
   },
   "outputs": [
    {
     "data": {
      "text/plain": [
       "week                     0\n",
       "gameId                   0\n",
       "playId                   0\n",
       "teamAbbr                 0\n",
       "personnel_xpass_ratio    0\n",
       "dtype: int64"
      ]
     },
     "execution_count": 19,
     "metadata": {},
     "output_type": "execute_result"
    }
   ],
   "source": [
    "team_xpass_df.isna().sum()"
   ]
  },
  {
   "cell_type": "code",
   "execution_count": 20,
   "id": "61161a7e",
   "metadata": {
    "execution": {
     "iopub.execute_input": "2024-10-21T02:00:58.759613Z",
     "iopub.status.busy": "2024-10-21T02:00:58.758621Z",
     "iopub.status.idle": "2024-10-21T02:00:58.770156Z",
     "shell.execute_reply": "2024-10-21T02:00:58.769165Z"
    },
    "papermill": {
     "duration": 0.035344,
     "end_time": "2024-10-21T02:00:58.772423",
     "exception": false,
     "start_time": "2024-10-21T02:00:58.737079",
     "status": "completed"
    },
    "tags": []
   },
   "outputs": [
    {
     "data": {
      "text/plain": [
       "2"
      ]
     },
     "execution_count": 20,
     "metadata": {},
     "output_type": "execute_result"
    }
   ],
   "source": [
    "min(team_xpass_df['week'])"
   ]
  },
  {
   "cell_type": "code",
   "execution_count": 21,
   "id": "72c4024c",
   "metadata": {
    "execution": {
     "iopub.execute_input": "2024-10-21T02:00:58.815212Z",
     "iopub.status.busy": "2024-10-21T02:00:58.814387Z",
     "iopub.status.idle": "2024-10-21T02:00:58.826646Z",
     "shell.execute_reply": "2024-10-21T02:00:58.825443Z"
    },
    "papermill": {
     "duration": 0.036199,
     "end_time": "2024-10-21T02:00:58.828943",
     "exception": false,
     "start_time": "2024-10-21T02:00:58.792744",
     "status": "completed"
    },
    "tags": []
   },
   "outputs": [
    {
     "data": {
      "text/html": [
       "<div>\n",
       "<style scoped>\n",
       "    .dataframe tbody tr th:only-of-type {\n",
       "        vertical-align: middle;\n",
       "    }\n",
       "\n",
       "    .dataframe tbody tr th {\n",
       "        vertical-align: top;\n",
       "    }\n",
       "\n",
       "    .dataframe thead th {\n",
       "        text-align: right;\n",
       "    }\n",
       "</style>\n",
       "<table border=\"1\" class=\"dataframe\">\n",
       "  <thead>\n",
       "    <tr style=\"text-align: right;\">\n",
       "      <th></th>\n",
       "      <th>week</th>\n",
       "      <th>gameId</th>\n",
       "      <th>playId</th>\n",
       "      <th>teamAbbr</th>\n",
       "      <th>personnel_xpass_ratio</th>\n",
       "    </tr>\n",
       "  </thead>\n",
       "  <tbody>\n",
       "    <tr>\n",
       "      <th>3904</th>\n",
       "      <td>2</td>\n",
       "      <td>2022091500</td>\n",
       "      <td>55</td>\n",
       "      <td>KC</td>\n",
       "      <td>0.680626</td>\n",
       "    </tr>\n",
       "    <tr>\n",
       "      <th>3905</th>\n",
       "      <td>2</td>\n",
       "      <td>2022091500</td>\n",
       "      <td>55</td>\n",
       "      <td>LAC</td>\n",
       "      <td>0.758184</td>\n",
       "    </tr>\n",
       "    <tr>\n",
       "      <th>3906</th>\n",
       "      <td>2</td>\n",
       "      <td>2022091500</td>\n",
       "      <td>76</td>\n",
       "      <td>KC</td>\n",
       "      <td>0.658697</td>\n",
       "    </tr>\n",
       "  </tbody>\n",
       "</table>\n",
       "</div>"
      ],
      "text/plain": [
       "      week      gameId  playId teamAbbr  personnel_xpass_ratio\n",
       "3904     2  2022091500      55       KC               0.680626\n",
       "3905     2  2022091500      55      LAC               0.758184\n",
       "3906     2  2022091500      76       KC               0.658697"
      ]
     },
     "execution_count": 21,
     "metadata": {},
     "output_type": "execute_result"
    }
   ],
   "source": [
    "team_xpass_df.head(3)"
   ]
  },
  {
   "cell_type": "code",
   "execution_count": 22,
   "id": "0edd10db",
   "metadata": {
    "execution": {
     "iopub.execute_input": "2024-10-21T02:00:58.872326Z",
     "iopub.status.busy": "2024-10-21T02:00:58.871902Z",
     "iopub.status.idle": "2024-10-21T02:00:58.879986Z",
     "shell.execute_reply": "2024-10-21T02:00:58.878871Z"
    },
    "papermill": {
     "duration": 0.033118,
     "end_time": "2024-10-21T02:00:58.882686",
     "exception": false,
     "start_time": "2024-10-21T02:00:58.849568",
     "status": "completed"
    },
    "tags": []
   },
   "outputs": [
    {
     "data": {
      "text/plain": [
       "2"
      ]
     },
     "execution_count": 22,
     "metadata": {},
     "output_type": "execute_result"
    }
   ],
   "source": [
    "team_xpass_df['week'].min()"
   ]
  },
  {
   "cell_type": "code",
   "execution_count": 23,
   "id": "ff5b398e",
   "metadata": {
    "execution": {
     "iopub.execute_input": "2024-10-21T02:00:58.926773Z",
     "iopub.status.busy": "2024-10-21T02:00:58.926325Z",
     "iopub.status.idle": "2024-10-21T02:00:58.939693Z",
     "shell.execute_reply": "2024-10-21T02:00:58.938573Z"
    },
    "papermill": {
     "duration": 0.038184,
     "end_time": "2024-10-21T02:00:58.942069",
     "exception": false,
     "start_time": "2024-10-21T02:00:58.903885",
     "status": "completed"
    },
    "tags": []
   },
   "outputs": [
    {
     "data": {
      "text/html": [
       "<div>\n",
       "<style scoped>\n",
       "    .dataframe tbody tr th:only-of-type {\n",
       "        vertical-align: middle;\n",
       "    }\n",
       "\n",
       "    .dataframe tbody tr th {\n",
       "        vertical-align: top;\n",
       "    }\n",
       "\n",
       "    .dataframe thead th {\n",
       "        text-align: right;\n",
       "    }\n",
       "</style>\n",
       "<table border=\"1\" class=\"dataframe\">\n",
       "  <thead>\n",
       "    <tr style=\"text-align: right;\">\n",
       "      <th></th>\n",
       "      <th>possessionTeam</th>\n",
       "      <th>week</th>\n",
       "      <th>off_passes</th>\n",
       "      <th>off_snaps</th>\n",
       "      <th>def_passes</th>\n",
       "      <th>def_snaps</th>\n",
       "      <th>pass_rate_off</th>\n",
       "      <th>pass_rate_def</th>\n",
       "    </tr>\n",
       "  </thead>\n",
       "  <tbody>\n",
       "    <tr>\n",
       "      <th>0</th>\n",
       "      <td>ARI</td>\n",
       "      <td>1</td>\n",
       "      <td>39</td>\n",
       "      <td>57</td>\n",
       "      <td>40</td>\n",
       "      <td>64</td>\n",
       "      <td>0.684211</td>\n",
       "      <td>0.625</td>\n",
       "    </tr>\n",
       "  </tbody>\n",
       "</table>\n",
       "</div>"
      ],
      "text/plain": [
       "  possessionTeam  week  off_passes  off_snaps  def_passes  def_snaps  \\\n",
       "0            ARI     1          39         57          40         64   \n",
       "\n",
       "   pass_rate_off  pass_rate_def  \n",
       "0       0.684211          0.625  "
      ]
     },
     "execution_count": 23,
     "metadata": {},
     "output_type": "execute_result"
    }
   ],
   "source": [
    "df_cs.head(1)"
   ]
  },
  {
   "cell_type": "code",
   "execution_count": 24,
   "id": "4d1a6421",
   "metadata": {
    "execution": {
     "iopub.execute_input": "2024-10-21T02:00:58.986744Z",
     "iopub.status.busy": "2024-10-21T02:00:58.986293Z",
     "iopub.status.idle": "2024-10-21T02:00:58.994158Z",
     "shell.execute_reply": "2024-10-21T02:00:58.993131Z"
    },
    "papermill": {
     "duration": 0.03315,
     "end_time": "2024-10-21T02:00:58.996471",
     "exception": false,
     "start_time": "2024-10-21T02:00:58.963321",
     "status": "completed"
    },
    "tags": []
   },
   "outputs": [],
   "source": [
    "tp_df = df_cs[['possessionTeam','week','pass_rate_off','pass_rate_def']].copy()\n",
    "tp_df['week'] = tp_df['week'] +1"
   ]
  },
  {
   "cell_type": "code",
   "execution_count": 25,
   "id": "3ca811e7",
   "metadata": {
    "execution": {
     "iopub.execute_input": "2024-10-21T02:00:59.042033Z",
     "iopub.status.busy": "2024-10-21T02:00:59.041636Z",
     "iopub.status.idle": "2024-10-21T02:00:59.047853Z",
     "shell.execute_reply": "2024-10-21T02:00:59.046737Z"
    },
    "papermill": {
     "duration": 0.030982,
     "end_time": "2024-10-21T02:00:59.050254",
     "exception": false,
     "start_time": "2024-10-21T02:00:59.019272",
     "status": "completed"
    },
    "tags": []
   },
   "outputs": [],
   "source": [
    "tp_df = tp_df.rename(columns={'possessionTeam':'team'})"
   ]
  },
  {
   "cell_type": "code",
   "execution_count": 26,
   "id": "78cb84f6",
   "metadata": {
    "execution": {
     "iopub.execute_input": "2024-10-21T02:00:59.094204Z",
     "iopub.status.busy": "2024-10-21T02:00:59.093749Z",
     "iopub.status.idle": "2024-10-21T02:00:59.105617Z",
     "shell.execute_reply": "2024-10-21T02:00:59.104582Z"
    },
    "papermill": {
     "duration": 0.036616,
     "end_time": "2024-10-21T02:00:59.107933",
     "exception": false,
     "start_time": "2024-10-21T02:00:59.071317",
     "status": "completed"
    },
    "tags": []
   },
   "outputs": [
    {
     "data": {
      "text/html": [
       "<div>\n",
       "<style scoped>\n",
       "    .dataframe tbody tr th:only-of-type {\n",
       "        vertical-align: middle;\n",
       "    }\n",
       "\n",
       "    .dataframe tbody tr th {\n",
       "        vertical-align: top;\n",
       "    }\n",
       "\n",
       "    .dataframe thead th {\n",
       "        text-align: right;\n",
       "    }\n",
       "</style>\n",
       "<table border=\"1\" class=\"dataframe\">\n",
       "  <thead>\n",
       "    <tr style=\"text-align: right;\">\n",
       "      <th></th>\n",
       "      <th>team</th>\n",
       "      <th>week</th>\n",
       "      <th>pass_rate_off</th>\n",
       "      <th>pass_rate_def</th>\n",
       "    </tr>\n",
       "  </thead>\n",
       "  <tbody>\n",
       "    <tr>\n",
       "      <th>0</th>\n",
       "      <td>ARI</td>\n",
       "      <td>2</td>\n",
       "      <td>0.684211</td>\n",
       "      <td>0.625</td>\n",
       "    </tr>\n",
       "  </tbody>\n",
       "</table>\n",
       "</div>"
      ],
      "text/plain": [
       "  team  week  pass_rate_off  pass_rate_def\n",
       "0  ARI     2       0.684211          0.625"
      ]
     },
     "execution_count": 26,
     "metadata": {},
     "output_type": "execute_result"
    }
   ],
   "source": [
    "tp_df.head(1)"
   ]
  },
  {
   "cell_type": "code",
   "execution_count": 27,
   "id": "3973b652",
   "metadata": {
    "execution": {
     "iopub.execute_input": "2024-10-21T02:00:59.153534Z",
     "iopub.status.busy": "2024-10-21T02:00:59.153064Z",
     "iopub.status.idle": "2024-10-21T02:00:59.160024Z",
     "shell.execute_reply": "2024-10-21T02:00:59.158851Z"
    },
    "papermill": {
     "duration": 0.033514,
     "end_time": "2024-10-21T02:00:59.162803",
     "exception": false,
     "start_time": "2024-10-21T02:00:59.129289",
     "status": "completed"
    },
    "tags": []
   },
   "outputs": [],
   "source": [
    "play_trunc = df_play[['gameId','playId','possessionTeam','defensiveTeam']]"
   ]
  },
  {
   "cell_type": "code",
   "execution_count": 28,
   "id": "c32ad6fd",
   "metadata": {
    "execution": {
     "iopub.execute_input": "2024-10-21T02:00:59.206672Z",
     "iopub.status.busy": "2024-10-21T02:00:59.206210Z",
     "iopub.status.idle": "2024-10-21T02:00:59.217510Z",
     "shell.execute_reply": "2024-10-21T02:00:59.216435Z"
    },
    "papermill": {
     "duration": 0.035931,
     "end_time": "2024-10-21T02:00:59.219898",
     "exception": false,
     "start_time": "2024-10-21T02:00:59.183967",
     "status": "completed"
    },
    "tags": []
   },
   "outputs": [
    {
     "data": {
      "text/html": [
       "<div>\n",
       "<style scoped>\n",
       "    .dataframe tbody tr th:only-of-type {\n",
       "        vertical-align: middle;\n",
       "    }\n",
       "\n",
       "    .dataframe tbody tr th {\n",
       "        vertical-align: top;\n",
       "    }\n",
       "\n",
       "    .dataframe thead th {\n",
       "        text-align: right;\n",
       "    }\n",
       "</style>\n",
       "<table border=\"1\" class=\"dataframe\">\n",
       "  <thead>\n",
       "    <tr style=\"text-align: right;\">\n",
       "      <th></th>\n",
       "      <th>gameId</th>\n",
       "      <th>playId</th>\n",
       "      <th>possessionTeam</th>\n",
       "      <th>defensiveTeam</th>\n",
       "    </tr>\n",
       "  </thead>\n",
       "  <tbody>\n",
       "    <tr>\n",
       "      <th>0</th>\n",
       "      <td>2022102302</td>\n",
       "      <td>2655</td>\n",
       "      <td>CIN</td>\n",
       "      <td>ATL</td>\n",
       "    </tr>\n",
       "  </tbody>\n",
       "</table>\n",
       "</div>"
      ],
      "text/plain": [
       "       gameId  playId possessionTeam defensiveTeam\n",
       "0  2022102302    2655            CIN           ATL"
      ]
     },
     "execution_count": 28,
     "metadata": {},
     "output_type": "execute_result"
    }
   ],
   "source": [
    "play_trunc.head(1)"
   ]
  },
  {
   "cell_type": "code",
   "execution_count": 29,
   "id": "99b21e6b",
   "metadata": {
    "execution": {
     "iopub.execute_input": "2024-10-21T02:00:59.265130Z",
     "iopub.status.busy": "2024-10-21T02:00:59.264184Z",
     "iopub.status.idle": "2024-10-21T02:00:59.320911Z",
     "shell.execute_reply": "2024-10-21T02:00:59.319844Z"
    },
    "papermill": {
     "duration": 0.082324,
     "end_time": "2024-10-21T02:00:59.323706",
     "exception": false,
     "start_time": "2024-10-21T02:00:59.241382",
     "status": "completed"
    },
    "tags": []
   },
   "outputs": [],
   "source": [
    "play_trunc = play_trunc.merge(db_weeks_id[['gameId','playId','week']],how='left',on=['gameId','playId'])"
   ]
  },
  {
   "cell_type": "code",
   "execution_count": 30,
   "id": "94b80366",
   "metadata": {
    "execution": {
     "iopub.execute_input": "2024-10-21T02:00:59.368951Z",
     "iopub.status.busy": "2024-10-21T02:00:59.368532Z",
     "iopub.status.idle": "2024-10-21T02:00:59.380420Z",
     "shell.execute_reply": "2024-10-21T02:00:59.379377Z"
    },
    "papermill": {
     "duration": 0.037484,
     "end_time": "2024-10-21T02:00:59.382770",
     "exception": false,
     "start_time": "2024-10-21T02:00:59.345286",
     "status": "completed"
    },
    "tags": []
   },
   "outputs": [
    {
     "data": {
      "text/html": [
       "<div>\n",
       "<style scoped>\n",
       "    .dataframe tbody tr th:only-of-type {\n",
       "        vertical-align: middle;\n",
       "    }\n",
       "\n",
       "    .dataframe tbody tr th {\n",
       "        vertical-align: top;\n",
       "    }\n",
       "\n",
       "    .dataframe thead th {\n",
       "        text-align: right;\n",
       "    }\n",
       "</style>\n",
       "<table border=\"1\" class=\"dataframe\">\n",
       "  <thead>\n",
       "    <tr style=\"text-align: right;\">\n",
       "      <th></th>\n",
       "      <th>gameId</th>\n",
       "      <th>playId</th>\n",
       "      <th>possessionTeam</th>\n",
       "      <th>defensiveTeam</th>\n",
       "      <th>week</th>\n",
       "    </tr>\n",
       "  </thead>\n",
       "  <tbody>\n",
       "    <tr>\n",
       "      <th>0</th>\n",
       "      <td>2022102302</td>\n",
       "      <td>2655</td>\n",
       "      <td>CIN</td>\n",
       "      <td>ATL</td>\n",
       "      <td>7</td>\n",
       "    </tr>\n",
       "  </tbody>\n",
       "</table>\n",
       "</div>"
      ],
      "text/plain": [
       "       gameId  playId possessionTeam defensiveTeam  week\n",
       "0  2022102302    2655            CIN           ATL     7"
      ]
     },
     "execution_count": 30,
     "metadata": {},
     "output_type": "execute_result"
    }
   ],
   "source": [
    "play_trunc.head(1)"
   ]
  },
  {
   "cell_type": "code",
   "execution_count": 31,
   "id": "08cad04d",
   "metadata": {
    "execution": {
     "iopub.execute_input": "2024-10-21T02:00:59.427803Z",
     "iopub.status.busy": "2024-10-21T02:00:59.427333Z",
     "iopub.status.idle": "2024-10-21T02:00:59.544165Z",
     "shell.execute_reply": "2024-10-21T02:00:59.543104Z"
    },
    "papermill": {
     "duration": 0.142552,
     "end_time": "2024-10-21T02:00:59.546989",
     "exception": false,
     "start_time": "2024-10-21T02:00:59.404437",
     "status": "completed"
    },
    "tags": []
   },
   "outputs": [],
   "source": [
    "play_out = play_trunc.merge(tp_df[['team','pass_rate_off','week']], right_on=['team','week'],\n",
    "                                   how='left',left_on=['possessionTeam','week']).drop(columns=['possessionTeam','team'])"
   ]
  },
  {
   "cell_type": "code",
   "execution_count": 32,
   "id": "24f1158b",
   "metadata": {
    "execution": {
     "iopub.execute_input": "2024-10-21T02:00:59.593195Z",
     "iopub.status.busy": "2024-10-21T02:00:59.592208Z",
     "iopub.status.idle": "2024-10-21T02:00:59.604205Z",
     "shell.execute_reply": "2024-10-21T02:00:59.603031Z"
    },
    "papermill": {
     "duration": 0.03835,
     "end_time": "2024-10-21T02:00:59.606873",
     "exception": false,
     "start_time": "2024-10-21T02:00:59.568523",
     "status": "completed"
    },
    "tags": []
   },
   "outputs": [
    {
     "data": {
      "text/html": [
       "<div>\n",
       "<style scoped>\n",
       "    .dataframe tbody tr th:only-of-type {\n",
       "        vertical-align: middle;\n",
       "    }\n",
       "\n",
       "    .dataframe tbody tr th {\n",
       "        vertical-align: top;\n",
       "    }\n",
       "\n",
       "    .dataframe thead th {\n",
       "        text-align: right;\n",
       "    }\n",
       "</style>\n",
       "<table border=\"1\" class=\"dataframe\">\n",
       "  <thead>\n",
       "    <tr style=\"text-align: right;\">\n",
       "      <th></th>\n",
       "      <th>gameId</th>\n",
       "      <th>playId</th>\n",
       "      <th>defensiveTeam</th>\n",
       "      <th>week</th>\n",
       "      <th>pass_rate_off</th>\n",
       "    </tr>\n",
       "  </thead>\n",
       "  <tbody>\n",
       "    <tr>\n",
       "      <th>0</th>\n",
       "      <td>2022102302</td>\n",
       "      <td>2655</td>\n",
       "      <td>ATL</td>\n",
       "      <td>7</td>\n",
       "      <td>0.654054</td>\n",
       "    </tr>\n",
       "  </tbody>\n",
       "</table>\n",
       "</div>"
      ],
      "text/plain": [
       "       gameId  playId defensiveTeam  week  pass_rate_off\n",
       "0  2022102302    2655           ATL     7       0.654054"
      ]
     },
     "execution_count": 32,
     "metadata": {},
     "output_type": "execute_result"
    }
   ],
   "source": [
    "play_out.head(1)"
   ]
  },
  {
   "cell_type": "code",
   "execution_count": 33,
   "id": "986ba7f4",
   "metadata": {
    "execution": {
     "iopub.execute_input": "2024-10-21T02:00:59.653704Z",
     "iopub.status.busy": "2024-10-21T02:00:59.652733Z",
     "iopub.status.idle": "2024-10-21T02:00:59.762686Z",
     "shell.execute_reply": "2024-10-21T02:00:59.761465Z"
    },
    "papermill": {
     "duration": 0.136366,
     "end_time": "2024-10-21T02:00:59.765557",
     "exception": false,
     "start_time": "2024-10-21T02:00:59.629191",
     "status": "completed"
    },
    "tags": []
   },
   "outputs": [],
   "source": [
    "play_out = play_out.merge(tp_df[['team','pass_rate_def','week']], right_on=['team','week'],\n",
    "                                   how='left',left_on=['defensiveTeam','week']).drop(columns=['defensiveTeam','team'])"
   ]
  },
  {
   "cell_type": "code",
   "execution_count": 34,
   "id": "db34f456",
   "metadata": {
    "execution": {
     "iopub.execute_input": "2024-10-21T02:00:59.811211Z",
     "iopub.status.busy": "2024-10-21T02:00:59.810566Z",
     "iopub.status.idle": "2024-10-21T02:00:59.827405Z",
     "shell.execute_reply": "2024-10-21T02:00:59.826199Z"
    },
    "papermill": {
     "duration": 0.042602,
     "end_time": "2024-10-21T02:00:59.830041",
     "exception": false,
     "start_time": "2024-10-21T02:00:59.787439",
     "status": "completed"
    },
    "tags": []
   },
   "outputs": [
    {
     "data": {
      "text/html": [
       "<div>\n",
       "<style scoped>\n",
       "    .dataframe tbody tr th:only-of-type {\n",
       "        vertical-align: middle;\n",
       "    }\n",
       "\n",
       "    .dataframe tbody tr th {\n",
       "        vertical-align: top;\n",
       "    }\n",
       "\n",
       "    .dataframe thead th {\n",
       "        text-align: right;\n",
       "    }\n",
       "</style>\n",
       "<table border=\"1\" class=\"dataframe\">\n",
       "  <thead>\n",
       "    <tr style=\"text-align: right;\">\n",
       "      <th></th>\n",
       "      <th>gameId</th>\n",
       "      <th>playId</th>\n",
       "      <th>pass_rate_off</th>\n",
       "      <th>pass_rate_def</th>\n",
       "    </tr>\n",
       "  </thead>\n",
       "  <tbody>\n",
       "    <tr>\n",
       "      <th>0</th>\n",
       "      <td>2022102302</td>\n",
       "      <td>2655</td>\n",
       "      <td>0.654054</td>\n",
       "      <td>0.648794</td>\n",
       "    </tr>\n",
       "  </tbody>\n",
       "</table>\n",
       "</div>"
      ],
      "text/plain": [
       "       gameId  playId  pass_rate_off  pass_rate_def\n",
       "0  2022102302    2655       0.654054       0.648794"
      ]
     },
     "execution_count": 34,
     "metadata": {},
     "output_type": "execute_result"
    }
   ],
   "source": [
    "prate_out = play_out.drop(columns=['week'])\n",
    "prate_out.head(1)"
   ]
  },
  {
   "cell_type": "markdown",
   "id": "6892a95a",
   "metadata": {
    "papermill": {
     "duration": 0.021703,
     "end_time": "2024-10-21T02:00:59.874230",
     "exception": false,
     "start_time": "2024-10-21T02:00:59.852527",
     "status": "completed"
    },
    "tags": []
   },
   "source": [
    "# Breakout xpass for each team "
   ]
  },
  {
   "cell_type": "code",
   "execution_count": 35,
   "id": "80713a04",
   "metadata": {
    "execution": {
     "iopub.execute_input": "2024-10-21T02:00:59.920299Z",
     "iopub.status.busy": "2024-10-21T02:00:59.919511Z",
     "iopub.status.idle": "2024-10-21T02:00:59.933077Z",
     "shell.execute_reply": "2024-10-21T02:00:59.931954Z"
    },
    "papermill": {
     "duration": 0.039332,
     "end_time": "2024-10-21T02:00:59.935606",
     "exception": false,
     "start_time": "2024-10-21T02:00:59.896274",
     "status": "completed"
    },
    "tags": []
   },
   "outputs": [
    {
     "data": {
      "text/html": [
       "<div>\n",
       "<style scoped>\n",
       "    .dataframe tbody tr th:only-of-type {\n",
       "        vertical-align: middle;\n",
       "    }\n",
       "\n",
       "    .dataframe tbody tr th {\n",
       "        vertical-align: top;\n",
       "    }\n",
       "\n",
       "    .dataframe thead th {\n",
       "        text-align: right;\n",
       "    }\n",
       "</style>\n",
       "<table border=\"1\" class=\"dataframe\">\n",
       "  <thead>\n",
       "    <tr style=\"text-align: right;\">\n",
       "      <th></th>\n",
       "      <th>gameId</th>\n",
       "      <th>playId</th>\n",
       "      <th>teamAbbr</th>\n",
       "      <th>personnel_xpass_ratio</th>\n",
       "    </tr>\n",
       "  </thead>\n",
       "  <tbody>\n",
       "    <tr>\n",
       "      <th>3904</th>\n",
       "      <td>2022091500</td>\n",
       "      <td>55</td>\n",
       "      <td>KC</td>\n",
       "      <td>0.680626</td>\n",
       "    </tr>\n",
       "    <tr>\n",
       "      <th>3905</th>\n",
       "      <td>2022091500</td>\n",
       "      <td>55</td>\n",
       "      <td>LAC</td>\n",
       "      <td>0.758184</td>\n",
       "    </tr>\n",
       "    <tr>\n",
       "      <th>3906</th>\n",
       "      <td>2022091500</td>\n",
       "      <td>76</td>\n",
       "      <td>KC</td>\n",
       "      <td>0.658697</td>\n",
       "    </tr>\n",
       "  </tbody>\n",
       "</table>\n",
       "</div>"
      ],
      "text/plain": [
       "          gameId  playId teamAbbr  personnel_xpass_ratio\n",
       "3904  2022091500      55       KC               0.680626\n",
       "3905  2022091500      55      LAC               0.758184\n",
       "3906  2022091500      76       KC               0.658697"
      ]
     },
     "execution_count": 35,
     "metadata": {},
     "output_type": "execute_result"
    }
   ],
   "source": [
    "team_xpass_df = team_xpass_df.drop(columns=['week'])\n",
    "team_xpass_df.head(3)"
   ]
  },
  {
   "cell_type": "code",
   "execution_count": 36,
   "id": "c2a3e1c2",
   "metadata": {
    "execution": {
     "iopub.execute_input": "2024-10-21T02:00:59.983521Z",
     "iopub.status.busy": "2024-10-21T02:00:59.982382Z",
     "iopub.status.idle": "2024-10-21T02:01:00.004025Z",
     "shell.execute_reply": "2024-10-21T02:01:00.002279Z"
    },
    "papermill": {
     "duration": 0.048702,
     "end_time": "2024-10-21T02:01:00.007248",
     "exception": false,
     "start_time": "2024-10-21T02:00:59.958546",
     "status": "completed"
    },
    "tags": []
   },
   "outputs": [
    {
     "data": {
      "text/html": [
       "<div>\n",
       "<style scoped>\n",
       "    .dataframe tbody tr th:only-of-type {\n",
       "        vertical-align: middle;\n",
       "    }\n",
       "\n",
       "    .dataframe tbody tr th {\n",
       "        vertical-align: top;\n",
       "    }\n",
       "\n",
       "    .dataframe thead th {\n",
       "        text-align: right;\n",
       "    }\n",
       "</style>\n",
       "<table border=\"1\" class=\"dataframe\">\n",
       "  <thead>\n",
       "    <tr style=\"text-align: right;\">\n",
       "      <th></th>\n",
       "      <th>gameId</th>\n",
       "      <th>playId</th>\n",
       "      <th>possessionTeam</th>\n",
       "      <th>defensiveTeam</th>\n",
       "    </tr>\n",
       "  </thead>\n",
       "  <tbody>\n",
       "    <tr>\n",
       "      <th>0</th>\n",
       "      <td>2022102302</td>\n",
       "      <td>2655</td>\n",
       "      <td>CIN</td>\n",
       "      <td>ATL</td>\n",
       "    </tr>\n",
       "    <tr>\n",
       "      <th>1</th>\n",
       "      <td>2022102302</td>\n",
       "      <td>2655</td>\n",
       "      <td>CIN</td>\n",
       "      <td>ATL</td>\n",
       "    </tr>\n",
       "    <tr>\n",
       "      <th>2</th>\n",
       "      <td>2022102302</td>\n",
       "      <td>2655</td>\n",
       "      <td>CIN</td>\n",
       "      <td>ATL</td>\n",
       "    </tr>\n",
       "    <tr>\n",
       "      <th>3</th>\n",
       "      <td>2022102302</td>\n",
       "      <td>2655</td>\n",
       "      <td>CIN</td>\n",
       "      <td>ATL</td>\n",
       "    </tr>\n",
       "    <tr>\n",
       "      <th>4</th>\n",
       "      <td>2022102302</td>\n",
       "      <td>2655</td>\n",
       "      <td>CIN</td>\n",
       "      <td>ATL</td>\n",
       "    </tr>\n",
       "  </tbody>\n",
       "</table>\n",
       "</div>"
      ],
      "text/plain": [
       "       gameId  playId possessionTeam defensiveTeam\n",
       "0  2022102302    2655            CIN           ATL\n",
       "1  2022102302    2655            CIN           ATL\n",
       "2  2022102302    2655            CIN           ATL\n",
       "3  2022102302    2655            CIN           ATL\n",
       "4  2022102302    2655            CIN           ATL"
      ]
     },
     "execution_count": 36,
     "metadata": {},
     "output_type": "execute_result"
    }
   ],
   "source": [
    "play_trunc = play_trunc.drop(columns=['week'])\n",
    "play_trunc.head()"
   ]
  },
  {
   "cell_type": "code",
   "execution_count": 37,
   "id": "b0aa7074",
   "metadata": {
    "execution": {
     "iopub.execute_input": "2024-10-21T02:01:00.054535Z",
     "iopub.status.busy": "2024-10-21T02:01:00.053725Z",
     "iopub.status.idle": "2024-10-21T02:01:00.133170Z",
     "shell.execute_reply": "2024-10-21T02:01:00.132073Z"
    },
    "papermill": {
     "duration": 0.106223,
     "end_time": "2024-10-21T02:01:00.135942",
     "exception": false,
     "start_time": "2024-10-21T02:01:00.029719",
     "status": "completed"
    },
    "tags": []
   },
   "outputs": [],
   "source": [
    "play_trunc = play_trunc.drop_duplicates()"
   ]
  },
  {
   "cell_type": "code",
   "execution_count": 38,
   "id": "15307763",
   "metadata": {
    "execution": {
     "iopub.execute_input": "2024-10-21T02:01:00.184556Z",
     "iopub.status.busy": "2024-10-21T02:01:00.183765Z",
     "iopub.status.idle": "2024-10-21T02:01:00.195504Z",
     "shell.execute_reply": "2024-10-21T02:01:00.194293Z"
    },
    "papermill": {
     "duration": 0.037876,
     "end_time": "2024-10-21T02:01:00.197929",
     "exception": false,
     "start_time": "2024-10-21T02:01:00.160053",
     "status": "completed"
    },
    "tags": []
   },
   "outputs": [
    {
     "data": {
      "text/html": [
       "<div>\n",
       "<style scoped>\n",
       "    .dataframe tbody tr th:only-of-type {\n",
       "        vertical-align: middle;\n",
       "    }\n",
       "\n",
       "    .dataframe tbody tr th {\n",
       "        vertical-align: top;\n",
       "    }\n",
       "\n",
       "    .dataframe thead th {\n",
       "        text-align: right;\n",
       "    }\n",
       "</style>\n",
       "<table border=\"1\" class=\"dataframe\">\n",
       "  <thead>\n",
       "    <tr style=\"text-align: right;\">\n",
       "      <th></th>\n",
       "      <th>gameId</th>\n",
       "      <th>playId</th>\n",
       "      <th>possessionTeam</th>\n",
       "      <th>defensiveTeam</th>\n",
       "    </tr>\n",
       "  </thead>\n",
       "  <tbody>\n",
       "    <tr>\n",
       "      <th>0</th>\n",
       "      <td>2022102302</td>\n",
       "      <td>2655</td>\n",
       "      <td>CIN</td>\n",
       "      <td>ATL</td>\n",
       "    </tr>\n",
       "    <tr>\n",
       "      <th>22</th>\n",
       "      <td>2022091809</td>\n",
       "      <td>3698</td>\n",
       "      <td>CIN</td>\n",
       "      <td>DAL</td>\n",
       "    </tr>\n",
       "    <tr>\n",
       "      <th>44</th>\n",
       "      <td>2022103004</td>\n",
       "      <td>3146</td>\n",
       "      <td>HOU</td>\n",
       "      <td>TEN</td>\n",
       "    </tr>\n",
       "    <tr>\n",
       "      <th>66</th>\n",
       "      <td>2022110610</td>\n",
       "      <td>348</td>\n",
       "      <td>KC</td>\n",
       "      <td>TEN</td>\n",
       "    </tr>\n",
       "    <tr>\n",
       "      <th>88</th>\n",
       "      <td>2022102700</td>\n",
       "      <td>2799</td>\n",
       "      <td>BAL</td>\n",
       "      <td>TB</td>\n",
       "    </tr>\n",
       "  </tbody>\n",
       "</table>\n",
       "</div>"
      ],
      "text/plain": [
       "        gameId  playId possessionTeam defensiveTeam\n",
       "0   2022102302    2655            CIN           ATL\n",
       "22  2022091809    3698            CIN           DAL\n",
       "44  2022103004    3146            HOU           TEN\n",
       "66  2022110610     348             KC           TEN\n",
       "88  2022102700    2799            BAL            TB"
      ]
     },
     "execution_count": 38,
     "metadata": {},
     "output_type": "execute_result"
    }
   ],
   "source": [
    "play_trunc.head()"
   ]
  },
  {
   "cell_type": "code",
   "execution_count": 39,
   "id": "71763b7b",
   "metadata": {
    "execution": {
     "iopub.execute_input": "2024-10-21T02:01:00.245482Z",
     "iopub.status.busy": "2024-10-21T02:01:00.244757Z",
     "iopub.status.idle": "2024-10-21T02:01:00.269916Z",
     "shell.execute_reply": "2024-10-21T02:01:00.268743Z"
    },
    "papermill": {
     "duration": 0.052699,
     "end_time": "2024-10-21T02:01:00.273371",
     "exception": false,
     "start_time": "2024-10-21T02:01:00.220672",
     "status": "completed"
    },
    "tags": []
   },
   "outputs": [],
   "source": [
    "xpass_out = play_trunc.merge(team_xpass_df,left_on=['gameId','playId','possessionTeam'],\n",
    "                right_on=['gameId','playId','teamAbbr'],how='left')"
   ]
  },
  {
   "cell_type": "code",
   "execution_count": 40,
   "id": "8280f280",
   "metadata": {
    "execution": {
     "iopub.execute_input": "2024-10-21T02:01:00.320856Z",
     "iopub.status.busy": "2024-10-21T02:01:00.320442Z",
     "iopub.status.idle": "2024-10-21T02:01:00.328061Z",
     "shell.execute_reply": "2024-10-21T02:01:00.327198Z"
    },
    "papermill": {
     "duration": 0.034169,
     "end_time": "2024-10-21T02:01:00.330424",
     "exception": false,
     "start_time": "2024-10-21T02:01:00.296255",
     "status": "completed"
    },
    "tags": []
   },
   "outputs": [],
   "source": [
    "xpass_out = xpass_out.drop(columns=['teamAbbr']).rename(columns={'personnel_xpass_ratio':'off_xpass'})"
   ]
  },
  {
   "cell_type": "code",
   "execution_count": 41,
   "id": "5352e93e",
   "metadata": {
    "execution": {
     "iopub.execute_input": "2024-10-21T02:01:00.379735Z",
     "iopub.status.busy": "2024-10-21T02:01:00.379290Z",
     "iopub.status.idle": "2024-10-21T02:01:00.392297Z",
     "shell.execute_reply": "2024-10-21T02:01:00.391192Z"
    },
    "papermill": {
     "duration": 0.040589,
     "end_time": "2024-10-21T02:01:00.394924",
     "exception": false,
     "start_time": "2024-10-21T02:01:00.354335",
     "status": "completed"
    },
    "tags": []
   },
   "outputs": [
    {
     "data": {
      "text/html": [
       "<div>\n",
       "<style scoped>\n",
       "    .dataframe tbody tr th:only-of-type {\n",
       "        vertical-align: middle;\n",
       "    }\n",
       "\n",
       "    .dataframe tbody tr th {\n",
       "        vertical-align: top;\n",
       "    }\n",
       "\n",
       "    .dataframe thead th {\n",
       "        text-align: right;\n",
       "    }\n",
       "</style>\n",
       "<table border=\"1\" class=\"dataframe\">\n",
       "  <thead>\n",
       "    <tr style=\"text-align: right;\">\n",
       "      <th></th>\n",
       "      <th>gameId</th>\n",
       "      <th>playId</th>\n",
       "      <th>possessionTeam</th>\n",
       "      <th>defensiveTeam</th>\n",
       "      <th>off_xpass</th>\n",
       "    </tr>\n",
       "  </thead>\n",
       "  <tbody>\n",
       "    <tr>\n",
       "      <th>0</th>\n",
       "      <td>2022102302</td>\n",
       "      <td>2655</td>\n",
       "      <td>CIN</td>\n",
       "      <td>ATL</td>\n",
       "      <td>0.779215</td>\n",
       "    </tr>\n",
       "    <tr>\n",
       "      <th>1</th>\n",
       "      <td>2022091809</td>\n",
       "      <td>3698</td>\n",
       "      <td>CIN</td>\n",
       "      <td>DAL</td>\n",
       "      <td>0.685163</td>\n",
       "    </tr>\n",
       "    <tr>\n",
       "      <th>2</th>\n",
       "      <td>2022103004</td>\n",
       "      <td>3146</td>\n",
       "      <td>HOU</td>\n",
       "      <td>TEN</td>\n",
       "      <td>0.628021</td>\n",
       "    </tr>\n",
       "    <tr>\n",
       "      <th>3</th>\n",
       "      <td>2022110610</td>\n",
       "      <td>348</td>\n",
       "      <td>KC</td>\n",
       "      <td>TEN</td>\n",
       "      <td>NaN</td>\n",
       "    </tr>\n",
       "    <tr>\n",
       "      <th>4</th>\n",
       "      <td>2022102700</td>\n",
       "      <td>2799</td>\n",
       "      <td>BAL</td>\n",
       "      <td>TB</td>\n",
       "      <td>0.339726</td>\n",
       "    </tr>\n",
       "  </tbody>\n",
       "</table>\n",
       "</div>"
      ],
      "text/plain": [
       "       gameId  playId possessionTeam defensiveTeam  off_xpass\n",
       "0  2022102302    2655            CIN           ATL   0.779215\n",
       "1  2022091809    3698            CIN           DAL   0.685163\n",
       "2  2022103004    3146            HOU           TEN   0.628021\n",
       "3  2022110610     348             KC           TEN        NaN\n",
       "4  2022102700    2799            BAL            TB   0.339726"
      ]
     },
     "execution_count": 41,
     "metadata": {},
     "output_type": "execute_result"
    }
   ],
   "source": [
    "xpass_out.head()"
   ]
  },
  {
   "cell_type": "code",
   "execution_count": 42,
   "id": "82fa5889",
   "metadata": {
    "execution": {
     "iopub.execute_input": "2024-10-21T02:01:00.444910Z",
     "iopub.status.busy": "2024-10-21T02:01:00.444456Z",
     "iopub.status.idle": "2024-10-21T02:01:00.471668Z",
     "shell.execute_reply": "2024-10-21T02:01:00.470453Z"
    },
    "papermill": {
     "duration": 0.055363,
     "end_time": "2024-10-21T02:01:00.474568",
     "exception": false,
     "start_time": "2024-10-21T02:01:00.419205",
     "status": "completed"
    },
    "tags": []
   },
   "outputs": [],
   "source": [
    "xpass_out = xpass_out.merge(team_xpass_df,left_on=['gameId','playId','defensiveTeam'],\n",
    "                right_on=['gameId','playId','teamAbbr'],how='left').drop(columns=['teamAbbr',\n",
    "                                                                                 'possessionTeam',\n",
    "                                                                                 'defensiveTeam']).rename(columns={'personnel_xpass_ratio':'def_xpass'})"
   ]
  },
  {
   "cell_type": "code",
   "execution_count": 43,
   "id": "fe1c53c0",
   "metadata": {
    "execution": {
     "iopub.execute_input": "2024-10-21T02:01:00.524517Z",
     "iopub.status.busy": "2024-10-21T02:01:00.524029Z",
     "iopub.status.idle": "2024-10-21T02:01:00.536589Z",
     "shell.execute_reply": "2024-10-21T02:01:00.535398Z"
    },
    "papermill": {
     "duration": 0.039408,
     "end_time": "2024-10-21T02:01:00.539013",
     "exception": false,
     "start_time": "2024-10-21T02:01:00.499605",
     "status": "completed"
    },
    "tags": []
   },
   "outputs": [
    {
     "data": {
      "text/html": [
       "<div>\n",
       "<style scoped>\n",
       "    .dataframe tbody tr th:only-of-type {\n",
       "        vertical-align: middle;\n",
       "    }\n",
       "\n",
       "    .dataframe tbody tr th {\n",
       "        vertical-align: top;\n",
       "    }\n",
       "\n",
       "    .dataframe thead th {\n",
       "        text-align: right;\n",
       "    }\n",
       "</style>\n",
       "<table border=\"1\" class=\"dataframe\">\n",
       "  <thead>\n",
       "    <tr style=\"text-align: right;\">\n",
       "      <th></th>\n",
       "      <th>gameId</th>\n",
       "      <th>playId</th>\n",
       "      <th>off_xpass</th>\n",
       "      <th>def_xpass</th>\n",
       "    </tr>\n",
       "  </thead>\n",
       "  <tbody>\n",
       "    <tr>\n",
       "      <th>0</th>\n",
       "      <td>2022102302</td>\n",
       "      <td>2655</td>\n",
       "      <td>0.779215</td>\n",
       "      <td>0.723996</td>\n",
       "    </tr>\n",
       "  </tbody>\n",
       "</table>\n",
       "</div>"
      ],
      "text/plain": [
       "       gameId  playId  off_xpass  def_xpass\n",
       "0  2022102302    2655   0.779215   0.723996"
      ]
     },
     "execution_count": 43,
     "metadata": {},
     "output_type": "execute_result"
    }
   ],
   "source": [
    "xpass_out.head(1)"
   ]
  },
  {
   "cell_type": "code",
   "execution_count": 44,
   "id": "37c20b0a",
   "metadata": {
    "execution": {
     "iopub.execute_input": "2024-10-21T02:01:00.587851Z",
     "iopub.status.busy": "2024-10-21T02:01:00.587425Z",
     "iopub.status.idle": "2024-10-21T02:01:00.594465Z",
     "shell.execute_reply": "2024-10-21T02:01:00.593388Z"
    },
    "papermill": {
     "duration": 0.03364,
     "end_time": "2024-10-21T02:01:00.596697",
     "exception": false,
     "start_time": "2024-10-21T02:01:00.563057",
     "status": "completed"
    },
    "tags": []
   },
   "outputs": [
    {
     "data": {
      "text/plain": [
       "8062.0"
      ]
     },
     "execution_count": 44,
     "metadata": {},
     "output_type": "execute_result"
    }
   ],
   "source": [
    "len(xpass_out)/2"
   ]
  },
  {
   "cell_type": "code",
   "execution_count": 45,
   "id": "10990568",
   "metadata": {
    "execution": {
     "iopub.execute_input": "2024-10-21T02:01:00.645106Z",
     "iopub.status.busy": "2024-10-21T02:01:00.644660Z",
     "iopub.status.idle": "2024-10-21T02:01:00.657423Z",
     "shell.execute_reply": "2024-10-21T02:01:00.656295Z"
    },
    "papermill": {
     "duration": 0.040463,
     "end_time": "2024-10-21T02:01:00.660415",
     "exception": false,
     "start_time": "2024-10-21T02:01:00.619952",
     "status": "completed"
    },
    "tags": []
   },
   "outputs": [
    {
     "data": {
      "text/html": [
       "<div>\n",
       "<style scoped>\n",
       "    .dataframe tbody tr th:only-of-type {\n",
       "        vertical-align: middle;\n",
       "    }\n",
       "\n",
       "    .dataframe tbody tr th {\n",
       "        vertical-align: top;\n",
       "    }\n",
       "\n",
       "    .dataframe thead th {\n",
       "        text-align: right;\n",
       "    }\n",
       "</style>\n",
       "<table border=\"1\" class=\"dataframe\">\n",
       "  <thead>\n",
       "    <tr style=\"text-align: right;\">\n",
       "      <th></th>\n",
       "      <th>gameId</th>\n",
       "      <th>playId</th>\n",
       "      <th>off_xpass</th>\n",
       "      <th>def_xpass</th>\n",
       "    </tr>\n",
       "  </thead>\n",
       "  <tbody>\n",
       "    <tr>\n",
       "      <th>0</th>\n",
       "      <td>2022102302</td>\n",
       "      <td>2655</td>\n",
       "      <td>0.779215</td>\n",
       "      <td>0.723996</td>\n",
       "    </tr>\n",
       "    <tr>\n",
       "      <th>1</th>\n",
       "      <td>2022091809</td>\n",
       "      <td>3698</td>\n",
       "      <td>0.685163</td>\n",
       "      <td>0.425815</td>\n",
       "    </tr>\n",
       "    <tr>\n",
       "      <th>2</th>\n",
       "      <td>2022103004</td>\n",
       "      <td>3146</td>\n",
       "      <td>0.628021</td>\n",
       "      <td>0.757653</td>\n",
       "    </tr>\n",
       "    <tr>\n",
       "      <th>3</th>\n",
       "      <td>2022110610</td>\n",
       "      <td>348</td>\n",
       "      <td>NaN</td>\n",
       "      <td>0.744000</td>\n",
       "    </tr>\n",
       "    <tr>\n",
       "      <th>4</th>\n",
       "      <td>2022102700</td>\n",
       "      <td>2799</td>\n",
       "      <td>0.339726</td>\n",
       "      <td>0.427465</td>\n",
       "    </tr>\n",
       "  </tbody>\n",
       "</table>\n",
       "</div>"
      ],
      "text/plain": [
       "       gameId  playId  off_xpass  def_xpass\n",
       "0  2022102302    2655   0.779215   0.723996\n",
       "1  2022091809    3698   0.685163   0.425815\n",
       "2  2022103004    3146   0.628021   0.757653\n",
       "3  2022110610     348        NaN   0.744000\n",
       "4  2022102700    2799   0.339726   0.427465"
      ]
     },
     "execution_count": 45,
     "metadata": {},
     "output_type": "execute_result"
    }
   ],
   "source": [
    "xpass_out.head()"
   ]
  },
  {
   "cell_type": "code",
   "execution_count": 46,
   "id": "3ab2792f",
   "metadata": {
    "execution": {
     "iopub.execute_input": "2024-10-21T02:01:00.710088Z",
     "iopub.status.busy": "2024-10-21T02:01:00.709205Z",
     "iopub.status.idle": "2024-10-21T02:01:00.750454Z",
     "shell.execute_reply": "2024-10-21T02:01:00.749375Z"
    },
    "papermill": {
     "duration": 0.069026,
     "end_time": "2024-10-21T02:01:00.753028",
     "exception": false,
     "start_time": "2024-10-21T02:01:00.684002",
     "status": "completed"
    },
    "tags": []
   },
   "outputs": [
    {
     "data": {
      "text/plain": [
       "0"
      ]
     },
     "execution_count": 46,
     "metadata": {},
     "output_type": "execute_result"
    }
   ],
   "source": [
    "xpass_out.drop_duplicates(inplace=True)\n",
    "prate_out.drop_duplicates(inplace=True)\n",
    "\n",
    "prate_out.duplicated().sum()"
   ]
  },
  {
   "cell_type": "code",
   "execution_count": 47,
   "id": "fa46dcaa",
   "metadata": {
    "execution": {
     "iopub.execute_input": "2024-10-21T02:01:00.802903Z",
     "iopub.status.busy": "2024-10-21T02:01:00.802508Z",
     "iopub.status.idle": "2024-10-21T02:01:00.814034Z",
     "shell.execute_reply": "2024-10-21T02:01:00.812905Z"
    },
    "papermill": {
     "duration": 0.039628,
     "end_time": "2024-10-21T02:01:00.816640",
     "exception": false,
     "start_time": "2024-10-21T02:01:00.777012",
     "status": "completed"
    },
    "tags": []
   },
   "outputs": [
    {
     "data": {
      "text/plain": [
       "0"
      ]
     },
     "execution_count": 47,
     "metadata": {},
     "output_type": "execute_result"
    }
   ],
   "source": [
    "xpass_out.duplicated().sum()"
   ]
  },
  {
   "cell_type": "code",
   "execution_count": 48,
   "id": "26521b69",
   "metadata": {
    "execution": {
     "iopub.execute_input": "2024-10-21T02:01:00.866186Z",
     "iopub.status.busy": "2024-10-21T02:01:00.865793Z",
     "iopub.status.idle": "2024-10-21T02:01:00.872715Z",
     "shell.execute_reply": "2024-10-21T02:01:00.871628Z"
    },
    "papermill": {
     "duration": 0.03447,
     "end_time": "2024-10-21T02:01:00.874965",
     "exception": false,
     "start_time": "2024-10-21T02:01:00.840495",
     "status": "completed"
    },
    "tags": []
   },
   "outputs": [
    {
     "data": {
      "text/plain": [
       "16124"
      ]
     },
     "execution_count": 48,
     "metadata": {},
     "output_type": "execute_result"
    }
   ],
   "source": [
    "len(xpass_out)"
   ]
  },
  {
   "cell_type": "code",
   "execution_count": 49,
   "id": "b62d2791",
   "metadata": {
    "execution": {
     "iopub.execute_input": "2024-10-21T02:01:00.925821Z",
     "iopub.status.busy": "2024-10-21T02:01:00.925418Z",
     "iopub.status.idle": "2024-10-21T02:01:00.932612Z",
     "shell.execute_reply": "2024-10-21T02:01:00.931530Z"
    },
    "papermill": {
     "duration": 0.036062,
     "end_time": "2024-10-21T02:01:00.934856",
     "exception": false,
     "start_time": "2024-10-21T02:01:00.898794",
     "status": "completed"
    },
    "tags": []
   },
   "outputs": [
    {
     "data": {
      "text/plain": [
       "16124"
      ]
     },
     "execution_count": 49,
     "metadata": {},
     "output_type": "execute_result"
    }
   ],
   "source": [
    "len(prate_out)"
   ]
  },
  {
   "cell_type": "code",
   "execution_count": 50,
   "id": "0c249476",
   "metadata": {
    "execution": {
     "iopub.execute_input": "2024-10-21T02:01:00.985961Z",
     "iopub.status.busy": "2024-10-21T02:01:00.985530Z",
     "iopub.status.idle": "2024-10-21T02:01:01.096261Z",
     "shell.execute_reply": "2024-10-21T02:01:01.095152Z"
    },
    "papermill": {
     "duration": 0.140367,
     "end_time": "2024-10-21T02:01:01.099383",
     "exception": false,
     "start_time": "2024-10-21T02:01:00.959016",
     "status": "completed"
    },
    "tags": []
   },
   "outputs": [],
   "source": [
    "prate_out.to_csv('/kaggle/working/team_pass_rates.csv')"
   ]
  },
  {
   "cell_type": "code",
   "execution_count": 51,
   "id": "e0611d13",
   "metadata": {
    "execution": {
     "iopub.execute_input": "2024-10-21T02:01:01.150336Z",
     "iopub.status.busy": "2024-10-21T02:01:01.149899Z",
     "iopub.status.idle": "2024-10-21T02:01:01.259391Z",
     "shell.execute_reply": "2024-10-21T02:01:01.257226Z"
    },
    "papermill": {
     "duration": 0.13917,
     "end_time": "2024-10-21T02:01:01.263461",
     "exception": false,
     "start_time": "2024-10-21T02:01:01.124291",
     "status": "completed"
    },
    "tags": []
   },
   "outputs": [],
   "source": [
    "xpass_out.to_csv('/kaggle/working/team_xpass_ratios.csv')"
   ]
  },
  {
   "cell_type": "code",
   "execution_count": null,
   "id": "0dd09f5e",
   "metadata": {
    "papermill": {
     "duration": 0.031056,
     "end_time": "2024-10-21T02:01:01.333913",
     "exception": false,
     "start_time": "2024-10-21T02:01:01.302857",
     "status": "completed"
    },
    "tags": []
   },
   "outputs": [],
   "source": []
  },
  {
   "cell_type": "code",
   "execution_count": null,
   "id": "283e26cc",
   "metadata": {
    "papermill": {
     "duration": 0.024046,
     "end_time": "2024-10-21T02:01:01.384804",
     "exception": false,
     "start_time": "2024-10-21T02:01:01.360758",
     "status": "completed"
    },
    "tags": []
   },
   "outputs": [],
   "source": []
  }
 ],
 "metadata": {
  "kaggle": {
   "accelerator": "none",
   "dataSources": [
    {
     "databundleVersionId": 9816926,
     "sourceId": 84175,
     "sourceType": "competition"
    },
    {
     "datasetId": 3405428,
     "sourceId": 9296178,
     "sourceType": "datasetVersion"
    }
   ],
   "dockerImageVersionId": 30786,
   "isGpuEnabled": false,
   "isInternetEnabled": true,
   "language": "python",
   "sourceType": "notebook"
  },
  "kernelspec": {
   "display_name": "Python 3",
   "language": "python",
   "name": "python3"
  },
  "language_info": {
   "codemirror_mode": {
    "name": "ipython",
    "version": 3
   },
   "file_extension": ".py",
   "mimetype": "text/x-python",
   "name": "python",
   "nbconvert_exporter": "python",
   "pygments_lexer": "ipython3",
   "version": "3.10.14"
  },
  "papermill": {
   "default_parameters": {},
   "duration": 19.014909,
   "end_time": "2024-10-21T02:01:01.930563",
   "environment_variables": {},
   "exception": null,
   "input_path": "__notebook__.ipynb",
   "output_path": "__notebook__.ipynb",
   "parameters": {},
   "start_time": "2024-10-21T02:00:42.915654",
   "version": "2.6.0"
  }
 },
 "nbformat": 4,
 "nbformat_minor": 5
}
