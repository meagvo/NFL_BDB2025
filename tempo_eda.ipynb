{
 "cells": [
  {
   "cell_type": "code",
   "execution_count": null,
   "metadata": {},
   "outputs": [],
   "source": [
    "import pandas as pd\n",
    "import numpy as np\n",
    "import os\n",
    "import seaborn as sns\n",
    "import matplotlib.pyplot as plt\n",
    "from itertools import chain\n",
    "from utility_db_25 import calc_tempo"
   ]
  },
  {
   "cell_type": "code",
   "execution_count": null,
   "metadata": {},
   "outputs": [],
   "source": [
    "root_dir = os.getcwd()\n",
    "train_data = pd.read_csv(os.path.join(root_dir,'data/train_data.csv'))\n",
    "test_data = pd.read_csv(os.path.join(root_dir,'data/test_data.csv'))\n",
    "\n",
    "# subset plays to train_only?\n",
    "df_plays = pd.read_csv(os.path.join(root_dir,'data/plays.csv'))\n",
    "df_plays = df_plays.sort_values(by=['gameId','playId']).reset_index()\n",
    "#df_plays = df_plays.merge(train_data[['gameId','playId']],how='inner')"
   ]
  },
  {
   "cell_type": "code",
   "execution_count": null,
   "metadata": {},
   "outputs": [],
   "source": [
    "'''\n",
    "include_columns=[x for x in test_data.columns if '_def' not in x]+['pass_rate_def']\n",
    "train_data=train_data[include_columns]\n",
    "test_data = test_data[include_columns]\n",
    "'''"
   ]
  },
  {
   "cell_type": "code",
   "execution_count": null,
   "metadata": {},
   "outputs": [],
   "source": []
  },
  {
   "cell_type": "markdown",
   "metadata": {},
   "source": [
    "### Track current drive pass rate stats\n",
    "\n",
    "We want to track pass rate for the current drive, to dovetail with our \"Tempo\" idea"
   ]
  },
  {
   "cell_type": "code",
   "execution_count": null,
   "metadata": {},
   "outputs": [],
   "source": [
    "last_team = df_plays['possessionTeam'][0] # monitor what the last team updated was, implies switch if different\n",
    "pnum=0 # play number of drive\n",
    "pc = 0 # pass count\n",
    "pnum_ls = [] # play number list\n",
    "flag_ls = [] # switch flag list\n",
    "curr_pr_ls = [] # pass rate for current drive\n",
    "pr_ls = [] # overall pass_rate ls\n",
    "curr_clock_ls = [] # play clock for run\n",
    "clock_ls = [] # play clock tracker\n",
    "curr_epa_ls = [] #list of current drive epa\n",
    "epa_ls = [] #overall epa list\n",
    "\n",
    "# loop over plays\n",
    "for index, row in df_plays.iterrows():\n",
    "\n",
    "    curr_team = row['possessionTeam']\n",
    "    flag = 0\n",
    "\n",
    "    # if we've switched teams, reset drive tracking info/add last drive's info to running list\n",
    "    if last_team != curr_team:\n",
    "\n",
    "        # reset pass count, play number for drive\n",
    "\n",
    "        last_team = curr_team # reset team to know we're on current drive now\n",
    "        pc = 0 # reset pass count, etc.\n",
    "        pnum = 0\n",
    "        flag = 1\n",
    "\n",
    "        # append current clock, epa, pass rate stats to running lists\n",
    "        clock_ls.append([10] + list(np.cumsum(curr_clock_ls)/np.arange(1,len(curr_clock_ls)+1))[:-1]) # assume 10 seconds left on play clock, can adjust later\n",
    "        pr_ls.append([.6] + curr_pr_ls[:-1]) # lookback of one, use .6 for first play of drive (default pass rate)\n",
    "        epa_ls.append([.0] + list(np.cumsum(curr_epa_ls)/np.arange(1,len(curr_epa_ls)+1))[:-1]) # inelegantly impute an EPA of zero for our first timestep\n",
    "        \n",
    "        # reset current drive stat lists\n",
    "        curr_pr_ls = []\n",
    "        curr_clock_ls = []\n",
    "        curr_epa_ls = []\n",
    "        \n",
    "\n",
    "    # if not switching teams, update current drive's pass rate\n",
    "    if row['isDropback']:\n",
    "        pc+=1\n",
    "    pnum += 1\n",
    "    pr = pc/pnum\n",
    "\n",
    "    # get current mean clock used per drive\n",
    "    clock = row['playClockAtSnap']\n",
    "    epa = row['expectedPointsAdded']\n",
    "    \n",
    "    # update pass rate, play number, possession, etc. for current drive\n",
    "    pnum_ls.append(pnum)\n",
    "    flag_ls.append(flag)\n",
    "    curr_pr_ls.append(pr)\n",
    "    curr_clock_ls.append(clock)\n",
    "    curr_epa_ls.append(epa)\n",
    "\n",
    "# if new drive not logged, append\n",
    "if len(list(chain(*pr_ls))) < len(df_plays):\n",
    "    pr_ls.append([.6] + curr_pr_ls[:-1])\n",
    "if len(list(chain(*clock_ls))) < len(df_plays):\n",
    "    clock_ls.append([10] + curr_clock_ls[:-1])\n",
    "if len(list(chain(*epa_ls))) < len(df_plays):\n",
    "    epa_ls.append([0] + curr_epa_ls[:-1])"
   ]
  },
  {
   "cell_type": "markdown",
   "metadata": {},
   "source": [
    "We then flatten our aggregated lists, to use as features"
   ]
  },
  {
   "cell_type": "code",
   "execution_count": null,
   "metadata": {},
   "outputs": [],
   "source": [
    "# flatten running lists using using iter chain\n",
    "pr_flat = list(chain(*pr_ls))\n",
    "clock_flat = list(chain(*clock_ls))\n",
    "epa_flat = list(chain(*epa_ls))\n",
    "\n",
    "# estalish new features\n",
    "df_plays['drive_play_num'] = pnum_ls\n",
    "df_plays['pos_switch_flag'] = flag_ls\n",
    "df_plays['drive_pass_rate'] = pr_flat\n",
    "df_plays['mean_clocksnap'] = clock_flat\n",
    "df_plays['mean_epa'] = epa_flat"
   ]
  },
  {
   "cell_type": "markdown",
   "metadata": {},
   "source": [
    "Then examine an example drive"
   ]
  },
  {
   "cell_type": "code",
   "execution_count": null,
   "metadata": {},
   "outputs": [],
   "source": [
    "df_plays[['possessionTeam','drive_play_num','pos_switch_flag','drive_pass_rate','mean_clocksnap','mean_epa','isDropback']].head(11)"
   ]
  },
  {
   "cell_type": "markdown",
   "metadata": {},
   "source": [
    "### Explore relation between drive-based columns and pass likelihood\n",
    "\n",
    "Drive pass rate/mean snap time among most informative df_play features;\n",
    "\n",
    "Want no overlap w/down-distance features, which seems to be the case.\n",
    "\n",
    "While 'mean_epa' implies a strong negative correlation with pass rate, it's very correlated w/'down', and ergo redundant"
   ]
  },
  {
   "cell_type": "code",
   "execution_count": null,
   "metadata": {},
   "outputs": [],
   "source": [
    "top_cols = df_plays.corr()['isDropback'].sort_values(ascending=False).head(9).index\n",
    "plt.figure(figsize=(15,3.5))\n",
    "sns.heatmap(df_plays[[x for x in top_cols if 'prePenaltyYardsGained' not in x and 'playAction' not in x]+['mean_epa']].corr(), cmap=\"crest\")\n",
    "\n",
    "\n",
    "plt.title('Top Plays Data Feature Correlations');\n",
    "plt.xticks(rotation=0);"
   ]
  },
  {
   "cell_type": "code",
   "execution_count": null,
   "metadata": {},
   "outputs": [],
   "source": [
    "df_plays[[x for x in top_cols if 'prePenaltyYardsGained' not in x and 'playAction' not in x]+['mean_epa']].corr()"
   ]
  },
  {
   "cell_type": "code",
   "execution_count": null,
   "metadata": {},
   "outputs": [],
   "source": [
    "df_plays['tempo'] = .1*df_plays['mean_clocksnap'] + df_plays['drive_pass_rate'] - df_plays['mean_epa']\n",
    "df_plays['tempo'] = df_plays['tempo']/df_plays['tempo'].max()"
   ]
  },
  {
   "cell_type": "code",
   "execution_count": null,
   "metadata": {},
   "outputs": [],
   "source": [
    "import pandas as pd\n",
    "from sklearn import preprocessing"
   ]
  },
  {
   "cell_type": "code",
   "execution_count": null,
   "metadata": {},
   "outputs": [],
   "source": [
    "df_plays = pd.read_csv(os.path.join(root_dir,'data/plays.csv'))"
   ]
  },
  {
   "cell_type": "code",
   "execution_count": null,
   "metadata": {},
   "outputs": [],
   "source": [
    "calc_tempo(df_plays)"
   ]
  },
  {
   "cell_type": "code",
   "execution_count": null,
   "metadata": {},
   "outputs": [],
   "source": [
    "df_plays[['mean_clocksnap','drive_pass_rate','tempo','isDropback']].head(3)"
   ]
  },
  {
   "cell_type": "code",
   "execution_count": null,
   "metadata": {},
   "outputs": [],
   "source": [
    "df_plays[['mean_clocksnap','drive_pass_rate','tempo','isDropback']].corr()['isDropback']"
   ]
  },
  {
   "cell_type": "code",
   "execution_count": null,
   "metadata": {},
   "outputs": [],
   "source": [
    "train_data.merge(df_plays[['gameId','playId','mean_clocksnap','drive_pass_rate','tempo']],how='left',on=['gameId','playId'])[['mean_clocksnap','drive_pass_rate','tempo','pass']].corr()"
   ]
  },
  {
   "cell_type": "code",
   "execution_count": null,
   "metadata": {},
   "outputs": [],
   "source": [
    "train_data.merge(df_plays[['gameId','playId','mean_clocksnap','drive_pass_rate','tempo']],how='left',on=['gameId','playId'])[['mean_clocksnap','drive_pass_rate','tempo','pass']].isna().sum()"
   ]
  }
 ],
 "metadata": {
  "kernelspec": {
   "display_name": ".venv",
   "language": "python",
   "name": "python3"
  },
  "language_info": {
   "codemirror_mode": {
    "name": "ipython",
    "version": 3
   },
   "file_extension": ".py",
   "mimetype": "text/x-python",
   "name": "python",
   "nbconvert_exporter": "python",
   "pygments_lexer": "ipython3",
   "version": "3.9.15"
  }
 },
 "nbformat": 4,
 "nbformat_minor": 2
}
