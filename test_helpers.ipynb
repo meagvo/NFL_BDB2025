{
 "cells": [
  {
   "cell_type": "code",
   "execution_count": 76,
   "metadata": {},
   "outputs": [],
   "source": [
    "import pandas as pd\n",
    "import os\n",
    "import nfl_data_py as nfl\n",
    "from utility_db_25 import get_qb_rates, calc_tempo, count_box_bmi, get_game_pressure, mark_columns\n",
    "import itertools"
   ]
  },
  {
   "cell_type": "code",
   "execution_count": 2,
   "metadata": {},
   "outputs": [],
   "source": [
    "root_dir = os.getcwd()\n",
    "df_games = pd.read_csv(os.path.join(root_dir,'data/games.csv'))\n",
    "df_players = pd.read_csv(os.path.join(root_dir,'data/players.csv'))\n",
    "df_play = pd.read_csv(os.path.join(root_dir,'data/plays.csv'))\n",
    "df_player_play = pd.read_csv(os.path.join(root_dir,'data/player_play.csv'))\n",
    "pfr_szn = nfl.import_seasonal_pfr('pass',[2021])\n",
    "pfr_wk = nfl.import_weekly_pfr('pass',[2021])\n",
    "isr = nfl.import_seasonal_rosters(years=[2021],columns=['player_id','pfr_id','gsis_it_id']).drop_duplicates()\n",
    "snap_df = nfl.import_snap_counts([2021])\n"
   ]
  },
  {
   "cell_type": "code",
   "execution_count": 3,
   "metadata": {},
   "outputs": [],
   "source": [
    "rate_df = get_qb_rates(df_play,df_player_play,df_players,df_games)"
   ]
  },
  {
   "cell_type": "code",
   "execution_count": 4,
   "metadata": {},
   "outputs": [
    {
     "data": {
      "text/plain": [
       "0"
      ]
     },
     "execution_count": 4,
     "metadata": {},
     "output_type": "execute_result"
    }
   ],
   "source": [
    "rate_df[['gameId','playId']].duplicated().sum()"
   ]
  },
  {
   "cell_type": "code",
   "execution_count": 5,
   "metadata": {},
   "outputs": [
    {
     "data": {
      "text/html": [
       "<div>\n",
       "<style scoped>\n",
       "    .dataframe tbody tr th:only-of-type {\n",
       "        vertical-align: middle;\n",
       "    }\n",
       "\n",
       "    .dataframe tbody tr th {\n",
       "        vertical-align: top;\n",
       "    }\n",
       "\n",
       "    .dataframe thead th {\n",
       "        text-align: right;\n",
       "    }\n",
       "</style>\n",
       "<table border=\"1\" class=\"dataframe\">\n",
       "  <thead>\n",
       "    <tr style=\"text-align: right;\">\n",
       "      <th></th>\n",
       "      <th>gameId</th>\n",
       "      <th>playId</th>\n",
       "      <th>qb_pa_rate_pass</th>\n",
       "      <th>qb_pass_rate_ewm</th>\n",
       "    </tr>\n",
       "  </thead>\n",
       "  <tbody>\n",
       "    <tr>\n",
       "      <th>0</th>\n",
       "      <td>2022090800</td>\n",
       "      <td>56</td>\n",
       "      <td>0.275542</td>\n",
       "      <td>0.505477</td>\n",
       "    </tr>\n",
       "  </tbody>\n",
       "</table>\n",
       "</div>"
      ],
      "text/plain": [
       "       gameId  playId  qb_pa_rate_pass  qb_pass_rate_ewm\n",
       "0  2022090800      56         0.275542          0.505477"
      ]
     },
     "execution_count": 5,
     "metadata": {},
     "output_type": "execute_result"
    }
   ],
   "source": [
    "rate_df.head(1)"
   ]
  },
  {
   "cell_type": "code",
   "execution_count": 6,
   "metadata": {},
   "outputs": [],
   "source": [
    "calc_tempo(df_play)"
   ]
  },
  {
   "cell_type": "code",
   "execution_count": 7,
   "metadata": {},
   "outputs": [
    {
     "data": {
      "text/plain": [
       "['gameId',\n",
       " 'playId',\n",
       " 'drive_pass_rate',\n",
       " 'mean_clocksnap',\n",
       " 'mean_epa',\n",
       " 'tempo',\n",
       " 'gameId',\n",
       " 'playId',\n",
       " 'qb_pa_rate_pass',\n",
       " 'qb_pass_rate_ewm',\n",
       " 'isDropback']"
      ]
     },
     "execution_count": 7,
     "metadata": {},
     "output_type": "execute_result"
    }
   ],
   "source": [
    "list(itertools.chain(['gameId','playId','drive_pass_rate','mean_clocksnap','mean_epa','tempo'],rate_df.columns,['isDropback']))"
   ]
  },
  {
   "cell_type": "code",
   "execution_count": 8,
   "metadata": {},
   "outputs": [],
   "source": [
    "play_rate = df_play.merge(rate_df,how='left')[list(itertools.chain(rate_df.columns,['drive_pass_rate','mean_clocksnap','mean_epa','tempo'],['isDropback']))]"
   ]
  },
  {
   "cell_type": "code",
   "execution_count": 9,
   "metadata": {},
   "outputs": [
    {
     "data": {
      "text/html": [
       "<div>\n",
       "<style scoped>\n",
       "    .dataframe tbody tr th:only-of-type {\n",
       "        vertical-align: middle;\n",
       "    }\n",
       "\n",
       "    .dataframe tbody tr th {\n",
       "        vertical-align: top;\n",
       "    }\n",
       "\n",
       "    .dataframe thead th {\n",
       "        text-align: right;\n",
       "    }\n",
       "</style>\n",
       "<table border=\"1\" class=\"dataframe\">\n",
       "  <thead>\n",
       "    <tr style=\"text-align: right;\">\n",
       "      <th></th>\n",
       "      <th>qb_pa_rate_pass</th>\n",
       "      <th>qb_pass_rate_ewm</th>\n",
       "      <th>drive_pass_rate</th>\n",
       "      <th>mean_clocksnap</th>\n",
       "      <th>mean_epa</th>\n",
       "      <th>tempo</th>\n",
       "      <th>isDropback</th>\n",
       "    </tr>\n",
       "  </thead>\n",
       "  <tbody>\n",
       "    <tr>\n",
       "      <th>qb_pa_rate_pass</th>\n",
       "      <td>1.000000</td>\n",
       "      <td>-0.263175</td>\n",
       "      <td>-0.060639</td>\n",
       "      <td>-0.086801</td>\n",
       "      <td>0.015159</td>\n",
       "      <td>-0.072592</td>\n",
       "      <td>-0.053431</td>\n",
       "    </tr>\n",
       "    <tr>\n",
       "      <th>qb_pass_rate_ewm</th>\n",
       "      <td>-0.263175</td>\n",
       "      <td>1.000000</td>\n",
       "      <td>0.054171</td>\n",
       "      <td>0.076831</td>\n",
       "      <td>0.014047</td>\n",
       "      <td>0.041622</td>\n",
       "      <td>0.050620</td>\n",
       "    </tr>\n",
       "    <tr>\n",
       "      <th>drive_pass_rate</th>\n",
       "      <td>-0.060639</td>\n",
       "      <td>0.054171</td>\n",
       "      <td>1.000000</td>\n",
       "      <td>0.066497</td>\n",
       "      <td>0.074885</td>\n",
       "      <td>0.507578</td>\n",
       "      <td>0.090912</td>\n",
       "    </tr>\n",
       "    <tr>\n",
       "      <th>mean_clocksnap</th>\n",
       "      <td>-0.086801</td>\n",
       "      <td>0.076831</td>\n",
       "      <td>0.066497</td>\n",
       "      <td>1.000000</td>\n",
       "      <td>-0.001560</td>\n",
       "      <td>0.374339</td>\n",
       "      <td>0.092108</td>\n",
       "    </tr>\n",
       "    <tr>\n",
       "      <th>mean_epa</th>\n",
       "      <td>0.015159</td>\n",
       "      <td>0.014047</td>\n",
       "      <td>0.074885</td>\n",
       "      <td>-0.001560</td>\n",
       "      <td>1.000000</td>\n",
       "      <td>-0.725342</td>\n",
       "      <td>-0.143403</td>\n",
       "    </tr>\n",
       "    <tr>\n",
       "      <th>tempo</th>\n",
       "      <td>-0.072592</td>\n",
       "      <td>0.041622</td>\n",
       "      <td>0.507578</td>\n",
       "      <td>0.374339</td>\n",
       "      <td>-0.725342</td>\n",
       "      <td>1.000000</td>\n",
       "      <td>0.193662</td>\n",
       "    </tr>\n",
       "    <tr>\n",
       "      <th>isDropback</th>\n",
       "      <td>-0.053431</td>\n",
       "      <td>0.050620</td>\n",
       "      <td>0.090912</td>\n",
       "      <td>0.092108</td>\n",
       "      <td>-0.143403</td>\n",
       "      <td>0.193662</td>\n",
       "      <td>1.000000</td>\n",
       "    </tr>\n",
       "  </tbody>\n",
       "</table>\n",
       "</div>"
      ],
      "text/plain": [
       "                  qb_pa_rate_pass  qb_pass_rate_ewm  drive_pass_rate  \\\n",
       "qb_pa_rate_pass          1.000000         -0.263175        -0.060639   \n",
       "qb_pass_rate_ewm        -0.263175          1.000000         0.054171   \n",
       "drive_pass_rate         -0.060639          0.054171         1.000000   \n",
       "mean_clocksnap          -0.086801          0.076831         0.066497   \n",
       "mean_epa                 0.015159          0.014047         0.074885   \n",
       "tempo                   -0.072592          0.041622         0.507578   \n",
       "isDropback              -0.053431          0.050620         0.090912   \n",
       "\n",
       "                  mean_clocksnap  mean_epa     tempo  isDropback  \n",
       "qb_pa_rate_pass        -0.086801  0.015159 -0.072592   -0.053431  \n",
       "qb_pass_rate_ewm        0.076831  0.014047  0.041622    0.050620  \n",
       "drive_pass_rate         0.066497  0.074885  0.507578    0.090912  \n",
       "mean_clocksnap          1.000000 -0.001560  0.374339    0.092108  \n",
       "mean_epa               -0.001560  1.000000 -0.725342   -0.143403  \n",
       "tempo                   0.374339 -0.725342  1.000000    0.193662  \n",
       "isDropback              0.092108 -0.143403  0.193662    1.000000  "
      ]
     },
     "execution_count": 9,
     "metadata": {},
     "output_type": "execute_result"
    }
   ],
   "source": [
    "play_rate.iloc[:,2:].corr()"
   ]
  },
  {
   "cell_type": "code",
   "execution_count": 55,
   "metadata": {},
   "outputs": [],
   "source": [
    "play_rate['tempo_2'] = .1*play_rate['mean_clocksnap'] + play_rate['drive_pass_rate'] - play_rate['mean_epa']"
   ]
  },
  {
   "cell_type": "code",
   "execution_count": 11,
   "metadata": {},
   "outputs": [
    {
     "data": {
      "text/html": [
       "<div>\n",
       "<style scoped>\n",
       "    .dataframe tbody tr th:only-of-type {\n",
       "        vertical-align: middle;\n",
       "    }\n",
       "\n",
       "    .dataframe tbody tr th {\n",
       "        vertical-align: top;\n",
       "    }\n",
       "\n",
       "    .dataframe thead th {\n",
       "        text-align: right;\n",
       "    }\n",
       "</style>\n",
       "<table border=\"1\" class=\"dataframe\">\n",
       "  <thead>\n",
       "    <tr style=\"text-align: right;\">\n",
       "      <th></th>\n",
       "      <th>qb_pa_rate_pass</th>\n",
       "      <th>qb_pass_rate_ewm</th>\n",
       "      <th>drive_pass_rate</th>\n",
       "      <th>mean_clocksnap</th>\n",
       "      <th>mean_epa</th>\n",
       "      <th>tempo</th>\n",
       "      <th>isDropback</th>\n",
       "      <th>tempo_2</th>\n",
       "    </tr>\n",
       "  </thead>\n",
       "  <tbody>\n",
       "    <tr>\n",
       "      <th>qb_pa_rate_pass</th>\n",
       "      <td>1.000000</td>\n",
       "      <td>-0.263175</td>\n",
       "      <td>-0.060639</td>\n",
       "      <td>-0.086801</td>\n",
       "      <td>0.015159</td>\n",
       "      <td>-0.072592</td>\n",
       "      <td>-0.053431</td>\n",
       "      <td>-0.112389</td>\n",
       "    </tr>\n",
       "    <tr>\n",
       "      <th>qb_pass_rate_ewm</th>\n",
       "      <td>-0.263175</td>\n",
       "      <td>1.000000</td>\n",
       "      <td>0.054171</td>\n",
       "      <td>0.076831</td>\n",
       "      <td>0.014047</td>\n",
       "      <td>0.041622</td>\n",
       "      <td>0.050620</td>\n",
       "      <td>0.167686</td>\n",
       "    </tr>\n",
       "    <tr>\n",
       "      <th>drive_pass_rate</th>\n",
       "      <td>-0.060639</td>\n",
       "      <td>0.054171</td>\n",
       "      <td>1.000000</td>\n",
       "      <td>0.066497</td>\n",
       "      <td>0.074885</td>\n",
       "      <td>0.507578</td>\n",
       "      <td>0.090912</td>\n",
       "      <td>0.412617</td>\n",
       "    </tr>\n",
       "    <tr>\n",
       "      <th>mean_clocksnap</th>\n",
       "      <td>-0.086801</td>\n",
       "      <td>0.076831</td>\n",
       "      <td>0.066497</td>\n",
       "      <td>1.000000</td>\n",
       "      <td>-0.001560</td>\n",
       "      <td>0.374339</td>\n",
       "      <td>0.092108</td>\n",
       "      <td>0.574396</td>\n",
       "    </tr>\n",
       "    <tr>\n",
       "      <th>mean_epa</th>\n",
       "      <td>0.015159</td>\n",
       "      <td>0.014047</td>\n",
       "      <td>0.074885</td>\n",
       "      <td>-0.001560</td>\n",
       "      <td>1.000000</td>\n",
       "      <td>-0.725342</td>\n",
       "      <td>-0.143403</td>\n",
       "      <td>-0.687578</td>\n",
       "    </tr>\n",
       "    <tr>\n",
       "      <th>tempo</th>\n",
       "      <td>-0.072592</td>\n",
       "      <td>0.041622</td>\n",
       "      <td>0.507578</td>\n",
       "      <td>0.374339</td>\n",
       "      <td>-0.725342</td>\n",
       "      <td>1.000000</td>\n",
       "      <td>0.193662</td>\n",
       "      <td>0.945703</td>\n",
       "    </tr>\n",
       "    <tr>\n",
       "      <th>isDropback</th>\n",
       "      <td>-0.053431</td>\n",
       "      <td>0.050620</td>\n",
       "      <td>0.090912</td>\n",
       "      <td>0.092108</td>\n",
       "      <td>-0.143403</td>\n",
       "      <td>0.193662</td>\n",
       "      <td>1.000000</td>\n",
       "      <td>0.194953</td>\n",
       "    </tr>\n",
       "    <tr>\n",
       "      <th>tempo_2</th>\n",
       "      <td>-0.112389</td>\n",
       "      <td>0.167686</td>\n",
       "      <td>0.412617</td>\n",
       "      <td>0.574396</td>\n",
       "      <td>-0.687578</td>\n",
       "      <td>0.945703</td>\n",
       "      <td>0.194953</td>\n",
       "      <td>1.000000</td>\n",
       "    </tr>\n",
       "  </tbody>\n",
       "</table>\n",
       "</div>"
      ],
      "text/plain": [
       "                  qb_pa_rate_pass  qb_pass_rate_ewm  drive_pass_rate  \\\n",
       "qb_pa_rate_pass          1.000000         -0.263175        -0.060639   \n",
       "qb_pass_rate_ewm        -0.263175          1.000000         0.054171   \n",
       "drive_pass_rate         -0.060639          0.054171         1.000000   \n",
       "mean_clocksnap          -0.086801          0.076831         0.066497   \n",
       "mean_epa                 0.015159          0.014047         0.074885   \n",
       "tempo                   -0.072592          0.041622         0.507578   \n",
       "isDropback              -0.053431          0.050620         0.090912   \n",
       "tempo_2                 -0.112389          0.167686         0.412617   \n",
       "\n",
       "                  mean_clocksnap  mean_epa     tempo  isDropback   tempo_2  \n",
       "qb_pa_rate_pass        -0.086801  0.015159 -0.072592   -0.053431 -0.112389  \n",
       "qb_pass_rate_ewm        0.076831  0.014047  0.041622    0.050620  0.167686  \n",
       "drive_pass_rate         0.066497  0.074885  0.507578    0.090912  0.412617  \n",
       "mean_clocksnap          1.000000 -0.001560  0.374339    0.092108  0.574396  \n",
       "mean_epa               -0.001560  1.000000 -0.725342   -0.143403 -0.687578  \n",
       "tempo                   0.374339 -0.725342  1.000000    0.193662  0.945703  \n",
       "isDropback              0.092108 -0.143403  0.193662    1.000000  0.194953  \n",
       "tempo_2                 0.574396 -0.687578  0.945703    0.194953  1.000000  "
      ]
     },
     "execution_count": 11,
     "metadata": {},
     "output_type": "execute_result"
    }
   ],
   "source": [
    "play_rate.iloc[:,2:].corr()"
   ]
  },
  {
   "cell_type": "markdown",
   "metadata": {},
   "source": [
    "Joke is, essentially, that the juice of 'tempo' is mean_clocksnap, drive_pass_rate, and mean_epa. All else is marginal."
   ]
  },
  {
   "cell_type": "markdown",
   "metadata": {},
   "source": [
    "### TODO: calc_ipa\n",
    "\n",
    "can maybe combine PA stuff, qb run stuff, with box-DL-bmi stuff? pressure? qb run val?"
   ]
  },
  {
   "cell_type": "code",
   "execution_count": 12,
   "metadata": {},
   "outputs": [],
   "source": [
    "train_data=pd.read_csv(os.path.join(root_dir, \"data/train_data.csv\"))"
   ]
  },
  {
   "cell_type": "code",
   "execution_count": 13,
   "metadata": {},
   "outputs": [],
   "source": [
    "train_data = count_box_bmi(train_data, df_players, df_player_play)\n",
    "df_play = get_game_pressure(df_play,df_player_play)"
   ]
  },
  {
   "cell_type": "code",
   "execution_count": 14,
   "metadata": {},
   "outputs": [],
   "source": [
    "train_data = train_data.merge(play_rate,how='left',on=['gameId','playId'])"
   ]
  },
  {
   "cell_type": "code",
   "execution_count": 15,
   "metadata": {},
   "outputs": [],
   "source": [
    "train_data = train_data.merge(df_play[['gameId','playId','pressure_ewm']])"
   ]
  },
  {
   "cell_type": "code",
   "execution_count": 77,
   "metadata": {},
   "outputs": [],
   "source": [
    "numeric_columns, cat_columns = mark_columns(df=train_data,features=train_data.columns, nc=None,cc = None)"
   ]
  },
  {
   "cell_type": "code",
   "execution_count": 78,
   "metadata": {},
   "outputs": [],
   "source": [
    "import pandas as pd\n",
    "from sklearn import preprocessing\n",
    "\n",
    "x = train_data[numeric_columns].values #returns a numpy array\n",
    "min_max_scaler = preprocessing.MinMaxScaler()\n",
    "x_scaled = min_max_scaler.fit_transform(x)\n",
    "df = pd.DataFrame(x_scaled)"
   ]
  },
  {
   "cell_type": "code",
   "execution_count": 80,
   "metadata": {},
   "outputs": [],
   "source": [
    "df.columns = numeric_columns"
   ]
  },
  {
   "cell_type": "code",
   "execution_count": 111,
   "metadata": {},
   "outputs": [],
   "source": [
    "df['tempo_2'] = play_rate['mean_clocksnap'] + 50*play_rate['drive_pass_rate'] - play_rate['mean_epa']"
   ]
  },
  {
   "cell_type": "code",
   "execution_count": 112,
   "metadata": {},
   "outputs": [],
   "source": [
    "df['isDropback'] = train_data['isDropback']"
   ]
  },
  {
   "cell_type": "code",
   "execution_count": 113,
   "metadata": {},
   "outputs": [],
   "source": [
    "tc = df.corr()"
   ]
  },
  {
   "cell_type": "code",
   "execution_count": 114,
   "metadata": {},
   "outputs": [
    {
     "data": {
      "text/plain": [
       "0.025907848130670482"
      ]
     },
     "execution_count": 114,
     "metadata": {},
     "output_type": "execute_result"
    }
   ],
   "source": [
    "tc['isDropback']['tempo_2']"
   ]
  },
  {
   "cell_type": "code",
   "execution_count": 115,
   "metadata": {},
   "outputs": [
    {
     "data": {
      "text/plain": [
       "isDropback                1.000000\n",
       "xpass_situational         0.488006\n",
       "n_offense_backfield       0.312946\n",
       "mean_pairwise_dist        0.309695\n",
       "db_ct                     0.296905\n",
       "weight_all_sum            0.294556\n",
       "dir_standard|mean|T_1     0.244123\n",
       "o_standard|mean|WR_3      0.241279\n",
       "dir_standard|mean|WR_3    0.239204\n",
       "dir_standard|std|WR_3     0.233680\n",
       "down                      0.224330\n",
       "y_standard|mean|WR_3      0.222491\n",
       "n_defense_box             0.217383\n",
       "x_standard|std|QB_1       0.215812\n",
       "o_standard|mean|TE_2      0.214633\n",
       "Name: isDropback, dtype: float64"
      ]
     },
     "execution_count": 115,
     "metadata": {},
     "output_type": "execute_result"
    }
   ],
   "source": [
    "abs(tc['isDropback']).sort_values(ascending=False).head(15)"
   ]
  },
  {
   "cell_type": "code",
   "execution_count": 105,
   "metadata": {},
   "outputs": [
    {
     "ename": "SyntaxError",
     "evalue": "invalid syntax (3512774529.py, line 1)",
     "output_type": "error",
     "traceback": [
      "\u001b[0;36m  Cell \u001b[0;32mIn[105], line 1\u001b[0;36m\u001b[0m\n\u001b[0;31m    tc['tempo_3'] = df['tempo_2']+\u001b[0m\n\u001b[0m                                  ^\u001b[0m\n\u001b[0;31mSyntaxError\u001b[0m\u001b[0;31m:\u001b[0m invalid syntax\n"
     ]
    }
   ],
   "source": [
    "tc['tempo_3'] = df['tempo_2']+"
   ]
  },
  {
   "cell_type": "code",
   "execution_count": 67,
   "metadata": {},
   "outputs": [
    {
     "data": {
      "text/plain": [
       "prp                  1.000000\n",
       "pressure_ewm         1.000000\n",
       "idk                  0.986415\n",
       "drive_pass_rate      0.234500\n",
       "box_ewm_pre          0.197842\n",
       "tempo                0.197112\n",
       "box_ewm_dl_bmi       0.189285\n",
       "tempo_2              0.181585\n",
       "play_id              0.132684\n",
       "playId               0.132684\n",
       "xpass_situational    0.125661\n",
       "time_remaining       0.124439\n",
       "Name: pressure_ewm, dtype: float64"
      ]
     },
     "execution_count": 67,
     "metadata": {},
     "output_type": "execute_result"
    }
   ],
   "source": [
    "abs(tc['pressure_ewm']).sort_values(ascending=False).head(12)"
   ]
  },
  {
   "cell_type": "code",
   "execution_count": 68,
   "metadata": {},
   "outputs": [
    {
     "data": {
      "text/plain": [
       "-0.1286175039098842"
      ]
     },
     "execution_count": 68,
     "metadata": {},
     "output_type": "execute_result"
    }
   ],
   "source": [
    "tc['box_ewm_dl_bmi']['isDropback']"
   ]
  },
  {
   "cell_type": "code",
   "execution_count": 69,
   "metadata": {},
   "outputs": [
    {
     "data": {
      "text/plain": [
       "0.10741174463345651"
      ]
     },
     "execution_count": 69,
     "metadata": {},
     "output_type": "execute_result"
    }
   ],
   "source": [
    "tc['tempo_3']['isDropback']"
   ]
  },
  {
   "cell_type": "code",
   "execution_count": 70,
   "metadata": {},
   "outputs": [
    {
     "data": {
      "text/plain": [
       "0.19539245011291875"
      ]
     },
     "execution_count": 70,
     "metadata": {},
     "output_type": "execute_result"
    }
   ],
   "source": [
    "tc['tempo_2']['isDropback']"
   ]
  },
  {
   "cell_type": "code",
   "execution_count": 71,
   "metadata": {},
   "outputs": [
    {
     "data": {
      "text/plain": [
       "0.03228077508271429"
      ]
     },
     "execution_count": 71,
     "metadata": {},
     "output_type": "execute_result"
    }
   ],
   "source": [
    "tc['pass_val']['isDropback']"
   ]
  },
  {
   "cell_type": "code",
   "execution_count": 72,
   "metadata": {},
   "outputs": [],
   "source": [
    "def calc_ipa (data):\n",
    "    ipa = (.7* data['a|max|QB_1'] + .2*data['run_val'] + \\\n",
    "            data['receiverAlignment_2x2'] + data['motionSinceLineset|RB_2']\\\n",
    "            + .1*data['s|max|G_2'] + data['surface_fieldturf'] + .05*data['time_remaining']).values\n",
    "    return ipa\n",
    "\n",
    "train_data['ipa'] = calc_ipa(train_data)\n"
   ]
  },
  {
   "cell_type": "code",
   "execution_count": null,
   "metadata": {},
   "outputs": [],
   "source": []
  }
 ],
 "metadata": {
  "kernelspec": {
   "display_name": ".venv",
   "language": "python",
   "name": "python3"
  },
  "language_info": {
   "codemirror_mode": {
    "name": "ipython",
    "version": 3
   },
   "file_extension": ".py",
   "mimetype": "text/x-python",
   "name": "python",
   "nbconvert_exporter": "python",
   "pygments_lexer": "ipython3",
   "version": "3.9.15"
  }
 },
 "nbformat": 4,
 "nbformat_minor": 2
}
