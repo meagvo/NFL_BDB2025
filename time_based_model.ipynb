{
 "cells": [
  {
   "cell_type": "code",
   "execution_count": 1,
   "metadata": {},
   "outputs": [],
   "source": [
    "import pandas as pd\n",
    "import keras\n",
    "import os\n",
    "from data_loading import load_tracking_data\n",
    "from sklearn.pipeline import Pipeline\n",
    "from lightgbm import LGBMClassifier\n",
    "from sklearn.compose import ColumnTransformer\n",
    "from sklearn.impute import SimpleImputer\n",
    "from scipy import spatial\n",
    "import numpy as np\n",
    "from keras.layers import Dense, Dropout\n",
    "import matplotlib.pyplot as plt\n",
    "from sklearn.preprocessing import MinMaxScaler\n",
    "from sklearn.metrics import accuracy_score\n",
    "\n",
    "from utility_db_25 import mark_columns, TrainML\n",
    "from utility_db_25 import mark_columns, TrainML, get_momentum_cols, create_momentum_index, get_motion_cols, motion_complexity_score\n",
    "root_dir = os.getcwd()"
   ]
  },
  {
   "cell_type": "markdown",
   "metadata": {},
   "source": [
    "# Load data\n",
    "\n",
    "We first load our data, starting with tracking & general player data"
   ]
  },
  {
   "cell_type": "code",
   "execution_count": 2,
   "metadata": {},
   "outputs": [],
   "source": [
    "# load tracking data for all weeks\n",
    "root_dir = os.getcwd()\n",
    "tracking_fname_list = [os.path.join(root_dir,  f\"data/tracking_week_{i}.csv\") for i in range(1,10)]\n",
    "df_tracking = pd.concat(\n",
    "        [load_tracking_data(tracking_fname) for tracking_fname in tracking_fname_list]\n",
    "    )\n",
    "\n",
    "# get players data\n",
    "df_players = pd.read_csv(os.path.join(root_dir,'data/players.csv'))\n",
    "df_players.loc[df_players['nflId'] ==45244, 'position'] = 'TE' #update data for Taysom Hill\n",
    "\n",
    "# load tracking, truncate to relevant columns, delete\n",
    "cols_track = ['gameId','playId','event','nflId','frameId','club','x_standard','y_standard', 'dis', 'dir_standard']\n",
    "track_trunc = df_tracking[cols_track]\n",
    "del(df_tracking)"
   ]
  },
  {
   "cell_type": "code",
   "execution_count": 3,
   "metadata": {},
   "outputs": [],
   "source": [
    "track_trunc.to_csv('data/tracking_trunc.csv')"
   ]
  },
  {
   "cell_type": "code",
   "execution_count": 4,
   "metadata": {},
   "outputs": [],
   "source": [
    "#track_trunc=pd.read_csv('data/tracking_trunc.csv')\n",
    "df_games = pd.read_csv('data/games.csv')[[\n",
    "    'gameId','week'\n",
    "]].drop_duplicates()\n",
    "track_trunc=pd.merge(track_trunc, df_games, on='gameId', how='inner')"
   ]
  },
  {
   "cell_type": "markdown",
   "metadata": {},
   "source": [
    "### Merge onto play level\n",
    "\n",
    "Note: some plays (38?) lack defensive tracking data, ergo losing some plays to dropping NA's \n"
   ]
  },
  {
   "cell_type": "code",
   "execution_count": 5,
   "metadata": {},
   "outputs": [
    {
     "data": {
      "text/html": [
       "<div>\n",
       "<style scoped>\n",
       "    .dataframe tbody tr th:only-of-type {\n",
       "        vertical-align: middle;\n",
       "    }\n",
       "\n",
       "    .dataframe tbody tr th {\n",
       "        vertical-align: top;\n",
       "    }\n",
       "\n",
       "    .dataframe thead th {\n",
       "        text-align: right;\n",
       "    }\n",
       "</style>\n",
       "<table border=\"1\" class=\"dataframe\">\n",
       "  <thead>\n",
       "    <tr style=\"text-align: right;\">\n",
       "      <th></th>\n",
       "      <th>gameId</th>\n",
       "      <th>playId</th>\n",
       "      <th>event</th>\n",
       "      <th>nflId</th>\n",
       "      <th>frameId</th>\n",
       "      <th>club</th>\n",
       "      <th>x_standard</th>\n",
       "      <th>y_standard</th>\n",
       "      <th>dis</th>\n",
       "      <th>dir_standard</th>\n",
       "      <th>week</th>\n",
       "      <th>possessionTeam</th>\n",
       "      <th>isDropback</th>\n",
       "    </tr>\n",
       "  </thead>\n",
       "  <tbody>\n",
       "    <tr>\n",
       "      <th>112</th>\n",
       "      <td>2022091200</td>\n",
       "      <td>64</td>\n",
       "      <td>NONE</td>\n",
       "      <td>39987.0</td>\n",
       "      <td>2</td>\n",
       "      <td>SEA</td>\n",
       "      <td>33.95</td>\n",
       "      <td>23.50</td>\n",
       "      <td>0.04</td>\n",
       "      <td>19.89</td>\n",
       "      <td>1</td>\n",
       "      <td>SEA</td>\n",
       "      <td>False</td>\n",
       "    </tr>\n",
       "    <tr>\n",
       "      <th>113</th>\n",
       "      <td>2022091200</td>\n",
       "      <td>64</td>\n",
       "      <td>NONE</td>\n",
       "      <td>39987.0</td>\n",
       "      <td>3</td>\n",
       "      <td>SEA</td>\n",
       "      <td>33.96</td>\n",
       "      <td>23.54</td>\n",
       "      <td>0.04</td>\n",
       "      <td>19.91</td>\n",
       "      <td>1</td>\n",
       "      <td>SEA</td>\n",
       "      <td>False</td>\n",
       "    </tr>\n",
       "    <tr>\n",
       "      <th>114</th>\n",
       "      <td>2022091200</td>\n",
       "      <td>64</td>\n",
       "      <td>NONE</td>\n",
       "      <td>39987.0</td>\n",
       "      <td>4</td>\n",
       "      <td>SEA</td>\n",
       "      <td>33.98</td>\n",
       "      <td>23.58</td>\n",
       "      <td>0.05</td>\n",
       "      <td>24.17</td>\n",
       "      <td>1</td>\n",
       "      <td>SEA</td>\n",
       "      <td>False</td>\n",
       "    </tr>\n",
       "  </tbody>\n",
       "</table>\n",
       "</div>"
      ],
      "text/plain": [
       "         gameId  playId event    nflId  frameId club  x_standard  y_standard  \\\n",
       "112  2022091200      64  NONE  39987.0        2  SEA       33.95       23.50   \n",
       "113  2022091200      64  NONE  39987.0        3  SEA       33.96       23.54   \n",
       "114  2022091200      64  NONE  39987.0        4  SEA       33.98       23.58   \n",
       "\n",
       "      dis  dir_standard  week possessionTeam isDropback  \n",
       "112  0.04         19.89     1            SEA      False  \n",
       "113  0.04         19.91     1            SEA      False  \n",
       "114  0.05         24.17     1            SEA      False  "
      ]
     },
     "execution_count": 5,
     "metadata": {},
     "output_type": "execute_result"
    }
   ],
   "source": [
    "# merge  tracking info to play-level data\n",
    "df_plays = pd.read_csv(os.path.join(root_dir,'data/plays.csv'))\n",
    "play_trunc = df_plays[['gameId','playId','possessionTeam','isDropback']]\n",
    "track_trunc['event'].fillna('NONE', inplace=True)\n",
    "pt_df = pd.merge(track_trunc,play_trunc, how='left',right_on=['gameId','playId','possessionTeam'],\n",
    "                 left_on=['gameId','playId','club'])\n",
    "\n",
    "# na's dropped to lose players w/o tracking info\n",
    "def_df = pt_df.dropna().copy()\n",
    "def_df.head(3)"
   ]
  },
  {
   "cell_type": "code",
   "execution_count": 6,
   "metadata": {},
   "outputs": [],
   "source": [
    "# get position here for calcs\n",
    "\n",
    "def_temp = def_df.merge(df_players[['nflId','position']],how='left',copy=False)\n",
    "def_temp.sort_values(by=['gameId','playId','frameId'],inplace=True)\n",
    "del(track_trunc)\n",
    "del(df_players)\n",
    "def_temp.head()\n",
    "def_temp.drop(columns='week', inplace=True)"
   ]
  },
  {
   "cell_type": "code",
   "execution_count": 7,
   "metadata": {},
   "outputs": [],
   "source": [
    "\n",
    "ci = pd.merge(def_temp[['gameId','playId']].drop_duplicates(), pd.Series(list(range(1,76))).rename('frameId'), how='cross',copy=False).sort_values(by=['gameId','playId','frameId'])\n",
    "ci=pd.merge(df_games, ci, on=['gameId'])[['gameId', 'playId', 'frameId', 'week']]\n",
    "ci_merged = pd.merge(ci, def_temp,on=['gameId', 'playId', 'frameId'],how='left',copy=False)[['gameId', 'playId', 'frameId', 'week']].drop_duplicates()"
   ]
  },
  {
   "cell_type": "code",
   "execution_count": 8,
   "metadata": {},
   "outputs": [
    {
     "data": {
      "text/plain": [
       "1206450"
      ]
     },
     "execution_count": 8,
     "metadata": {},
     "output_type": "execute_result"
    }
   ],
   "source": [
    "len(ci)"
   ]
  },
  {
   "cell_type": "code",
   "execution_count": 9,
   "metadata": {},
   "outputs": [
    {
     "data": {
      "text/plain": [
       "18371122"
      ]
     },
     "execution_count": 9,
     "metadata": {},
     "output_type": "execute_result"
    }
   ],
   "source": [
    "len(def_temp)"
   ]
  },
  {
   "cell_type": "code",
   "execution_count": 10,
   "metadata": {},
   "outputs": [
    {
     "data": {
      "text/plain": [
       "1206450"
      ]
     },
     "execution_count": 10,
     "metadata": {},
     "output_type": "execute_result"
    }
   ],
   "source": [
    "len(ci_merged)\n"
   ]
  },
  {
   "cell_type": "code",
   "execution_count": 11,
   "metadata": {},
   "outputs": [],
   "source": [
    "def get_event_frame(df, event_name):\n",
    "    grouped_df=df[df['event']==event_name][['gameId', 'playId', 'frameId']].groupby(by=['gameId', 'playId']).max().reset_index()\n",
    "    grouped_df.columns=['gameId', 'playId', event_name+'_frameId']\n",
    "    df=pd.merge(df, grouped_df,on=['gameId', 'playId'], how='left')\n",
    "    return df"
   ]
  },
  {
   "cell_type": "code",
   "execution_count": 12,
   "metadata": {},
   "outputs": [],
   "source": [
    "def_temp=get_event_frame(def_temp, 'line_set')\n",
    "def_temp['motion_after_lineset']=np.where(((def_temp['frameId']>def_temp['line_set_frameId']) & (def_temp['event']=='man_in_motion')), 1, 0).astype(float)\n",
    "def_temp['motion_']=np.where((def_temp['event']=='man_in_motion'), 1, 0).astype(float)\n",
    "\n"
   ]
  },
  {
   "cell_type": "code",
   "execution_count": 13,
   "metadata": {},
   "outputs": [],
   "source": [
    "off_positions=['WR','T','G', 'TE',  'RB','FB', 'C', 'QB']\n",
    "for p in off_positions:\n",
    "    df=def_temp[def_temp['position']==p][['gameId', 'playId', 'frameId','dir_standard', 'dis', 'x_standard', 'y_standard', 'motion_after_lineset', 'motion_']].groupby(['gameId', 'playId', 'frameId']).agg({'dir_standard': 'mean', 'dis':'sum', 'x_standard':'mean', 'y_standard':'mean', 'motion_after_lineset':'sum', 'motion_':'sum'}).reset_index().copy()\n",
    "    df.columns = ['gameId', 'playId', 'frameId',p+'_dir', p+'_dis', p+'x_standard', p+'y_standard', p+'motion_after_lineset', p+'motion']\n",
    "    ci_merged=pd.merge(ci_merged,df,how='left',on=['gameId','playId','frameId'])\n",
    "    del(df)\n",
    "ci_merged.fillna(0, inplace=True)"
   ]
  },
  {
   "cell_type": "code",
   "execution_count": 14,
   "metadata": {},
   "outputs": [
    {
     "data": {
      "text/html": [
       "<div>\n",
       "<style scoped>\n",
       "    .dataframe tbody tr th:only-of-type {\n",
       "        vertical-align: middle;\n",
       "    }\n",
       "\n",
       "    .dataframe tbody tr th {\n",
       "        vertical-align: top;\n",
       "    }\n",
       "\n",
       "    .dataframe thead th {\n",
       "        text-align: right;\n",
       "    }\n",
       "</style>\n",
       "<table border=\"1\" class=\"dataframe\">\n",
       "  <thead>\n",
       "    <tr style=\"text-align: right;\">\n",
       "      <th></th>\n",
       "      <th>gameId</th>\n",
       "      <th>playId</th>\n",
       "      <th>frameId</th>\n",
       "      <th>week</th>\n",
       "      <th>WR_dir</th>\n",
       "      <th>WR_dis</th>\n",
       "      <th>WRx_standard</th>\n",
       "      <th>WRy_standard</th>\n",
       "      <th>WRmotion_after_lineset</th>\n",
       "      <th>WRmotion</th>\n",
       "      <th>...</th>\n",
       "      <th>Cmotion_after_lineset</th>\n",
       "      <th>Cmotion</th>\n",
       "      <th>QB_dir</th>\n",
       "      <th>QB_dis</th>\n",
       "      <th>QBx_standard</th>\n",
       "      <th>QBy_standard</th>\n",
       "      <th>QBmotion_after_lineset</th>\n",
       "      <th>QBmotion</th>\n",
       "      <th>motion_after_lineset</th>\n",
       "      <th>motion</th>\n",
       "    </tr>\n",
       "  </thead>\n",
       "  <tbody>\n",
       "    <tr>\n",
       "      <th>0</th>\n",
       "      <td>2022090800</td>\n",
       "      <td>56</td>\n",
       "      <td>1</td>\n",
       "      <td>1</td>\n",
       "      <td>0.000000</td>\n",
       "      <td>0.00</td>\n",
       "      <td>0.000000</td>\n",
       "      <td>0.000000</td>\n",
       "      <td>0.0</td>\n",
       "      <td>0.0</td>\n",
       "      <td>...</td>\n",
       "      <td>0.0</td>\n",
       "      <td>0.0</td>\n",
       "      <td>0.00</td>\n",
       "      <td>0.00</td>\n",
       "      <td>0.00</td>\n",
       "      <td>0.000000</td>\n",
       "      <td>0.0</td>\n",
       "      <td>0.0</td>\n",
       "      <td>0.0</td>\n",
       "      <td>0.0</td>\n",
       "    </tr>\n",
       "    <tr>\n",
       "      <th>1</th>\n",
       "      <td>2022090800</td>\n",
       "      <td>56</td>\n",
       "      <td>2</td>\n",
       "      <td>1</td>\n",
       "      <td>123.513333</td>\n",
       "      <td>0.79</td>\n",
       "      <td>28.726667</td>\n",
       "      <td>24.876667</td>\n",
       "      <td>0.0</td>\n",
       "      <td>0.0</td>\n",
       "      <td>...</td>\n",
       "      <td>0.0</td>\n",
       "      <td>0.0</td>\n",
       "      <td>276.39</td>\n",
       "      <td>0.03</td>\n",
       "      <td>29.09</td>\n",
       "      <td>24.003333</td>\n",
       "      <td>0.0</td>\n",
       "      <td>0.0</td>\n",
       "      <td>0.0</td>\n",
       "      <td>0.0</td>\n",
       "    </tr>\n",
       "    <tr>\n",
       "      <th>2</th>\n",
       "      <td>2022090800</td>\n",
       "      <td>56</td>\n",
       "      <td>3</td>\n",
       "      <td>1</td>\n",
       "      <td>123.550000</td>\n",
       "      <td>0.82</td>\n",
       "      <td>28.730000</td>\n",
       "      <td>25.143333</td>\n",
       "      <td>0.0</td>\n",
       "      <td>0.0</td>\n",
       "      <td>...</td>\n",
       "      <td>0.0</td>\n",
       "      <td>0.0</td>\n",
       "      <td>270.41</td>\n",
       "      <td>0.04</td>\n",
       "      <td>29.06</td>\n",
       "      <td>23.983333</td>\n",
       "      <td>0.0</td>\n",
       "      <td>0.0</td>\n",
       "      <td>0.0</td>\n",
       "      <td>0.0</td>\n",
       "    </tr>\n",
       "    <tr>\n",
       "      <th>3</th>\n",
       "      <td>2022090800</td>\n",
       "      <td>56</td>\n",
       "      <td>4</td>\n",
       "      <td>1</td>\n",
       "      <td>124.723333</td>\n",
       "      <td>0.84</td>\n",
       "      <td>28.743333</td>\n",
       "      <td>25.423333</td>\n",
       "      <td>0.0</td>\n",
       "      <td>0.0</td>\n",
       "      <td>...</td>\n",
       "      <td>0.0</td>\n",
       "      <td>0.0</td>\n",
       "      <td>259.93</td>\n",
       "      <td>0.06</td>\n",
       "      <td>29.01</td>\n",
       "      <td>23.943333</td>\n",
       "      <td>0.0</td>\n",
       "      <td>0.0</td>\n",
       "      <td>0.0</td>\n",
       "      <td>0.0</td>\n",
       "    </tr>\n",
       "    <tr>\n",
       "      <th>4</th>\n",
       "      <td>2022090800</td>\n",
       "      <td>56</td>\n",
       "      <td>5</td>\n",
       "      <td>1</td>\n",
       "      <td>126.343333</td>\n",
       "      <td>0.84</td>\n",
       "      <td>28.763333</td>\n",
       "      <td>25.700000</td>\n",
       "      <td>0.0</td>\n",
       "      <td>0.0</td>\n",
       "      <td>...</td>\n",
       "      <td>0.0</td>\n",
       "      <td>0.0</td>\n",
       "      <td>255.77</td>\n",
       "      <td>0.04</td>\n",
       "      <td>28.98</td>\n",
       "      <td>23.923333</td>\n",
       "      <td>0.0</td>\n",
       "      <td>0.0</td>\n",
       "      <td>0.0</td>\n",
       "      <td>0.0</td>\n",
       "    </tr>\n",
       "  </tbody>\n",
       "</table>\n",
       "<p>5 rows × 54 columns</p>\n",
       "</div>"
      ],
      "text/plain": [
       "       gameId  playId  frameId  week      WR_dir  WR_dis  WRx_standard  \\\n",
       "0  2022090800      56        1     1    0.000000    0.00      0.000000   \n",
       "1  2022090800      56        2     1  123.513333    0.79     28.726667   \n",
       "2  2022090800      56        3     1  123.550000    0.82     28.730000   \n",
       "3  2022090800      56        4     1  124.723333    0.84     28.743333   \n",
       "4  2022090800      56        5     1  126.343333    0.84     28.763333   \n",
       "\n",
       "   WRy_standard  WRmotion_after_lineset  WRmotion  ...  Cmotion_after_lineset  \\\n",
       "0      0.000000                     0.0       0.0  ...                    0.0   \n",
       "1     24.876667                     0.0       0.0  ...                    0.0   \n",
       "2     25.143333                     0.0       0.0  ...                    0.0   \n",
       "3     25.423333                     0.0       0.0  ...                    0.0   \n",
       "4     25.700000                     0.0       0.0  ...                    0.0   \n",
       "\n",
       "   Cmotion  QB_dir  QB_dis  QBx_standard  QBy_standard  \\\n",
       "0      0.0    0.00    0.00          0.00      0.000000   \n",
       "1      0.0  276.39    0.03         29.09     24.003333   \n",
       "2      0.0  270.41    0.04         29.06     23.983333   \n",
       "3      0.0  259.93    0.06         29.01     23.943333   \n",
       "4      0.0  255.77    0.04         28.98     23.923333   \n",
       "\n",
       "   QBmotion_after_lineset  QBmotion  motion_after_lineset  motion  \n",
       "0                     0.0       0.0                   0.0     0.0  \n",
       "1                     0.0       0.0                   0.0     0.0  \n",
       "2                     0.0       0.0                   0.0     0.0  \n",
       "3                     0.0       0.0                   0.0     0.0  \n",
       "4                     0.0       0.0                   0.0     0.0  \n",
       "\n",
       "[5 rows x 54 columns]"
      ]
     },
     "execution_count": 14,
     "metadata": {},
     "output_type": "execute_result"
    }
   ],
   "source": [
    "ci_merged['motion_after_lineset']=ci_merged[['Tmotion_after_lineset', 'Gmotion_after_lineset', 'TEmotion_after_lineset',  'FBmotion_after_lineset', 'Cmotion_after_lineset', 'QBmotion_after_lineset']].sum(axis=1)\n",
    "ci_merged['motion']=ci_merged[['Tmotion', 'Gmotion', 'TEmotion',  'FBmotion', 'Cmotion', 'QBmotion']].sum(axis=1)\n",
    "ci_merged.head()"
   ]
  },
  {
   "cell_type": "code",
   "execution_count": 15,
   "metadata": {},
   "outputs": [],
   "source": [
    "\n",
    "def calculate_distance(row):\n",
    "    x1, y1 = row['RBx_standard'], row['RBy_standard']\n",
    "    x2, y2 = row['QBx_standard'], row['QBy_standard']\n",
    "    return np.sqrt((x2 - x1)**2 + (y2 - y1)**2)\n",
    "\n",
    "\n",
    "ci_merged['RBdistance'] = ci_merged.apply(calculate_distance, axis=1)\n",
    "\n",
    "def calculate_distance(row):\n",
    "    x1, y1 = row['Gx_standard'], row['Gy_standard']\n",
    "    x2, y2 = row['QBx_standard'], row['QBy_standard']\n",
    "    return np.sqrt((x2 - x1)**2 + (y2 - y1)**2)\n",
    "ci_merged['Gdistance'] = ci_merged.apply(calculate_distance, axis=1)\n",
    "\n",
    "\n",
    "def calculate_distance(row):\n",
    "    x1, y1 = row['Cx_standard'], row['Cy_standard']\n",
    "    x2, y2 = row['QBx_standard'], row['QBy_standard']\n",
    "    return np.sqrt((x2 - x1)**2 + (y2 - y1)**2)\n",
    "ci_merged['Cdistance'] = ci_merged.apply(calculate_distance, axis=1)\n",
    "def calculate_distance(row):\n",
    "    x1, y1 = row['TEx_standard'], row['TEy_standard']\n",
    "    x2, y2 = row['QBx_standard'], row['QBy_standard']\n",
    "    return np.sqrt((x2 - x1)**2 + (y2 - y1)**2)\n",
    "ci_merged['TEdistance'] = ci_merged.apply(calculate_distance, axis=1)\n",
    "def calculate_distance(row):\n",
    "    x1, y1 = row['Tx_standard'], row['Ty_standard']\n",
    "    x2, y2 = row['QBx_standard'], row['QBy_standard']\n",
    "    return np.sqrt((x2 - x1)**2 + (y2 - y1)**2)\n",
    "ci_merged['Tdistance'] = ci_merged.apply(calculate_distance, axis=1)\n"
   ]
  },
  {
   "cell_type": "code",
   "execution_count": 16,
   "metadata": {},
   "outputs": [],
   "source": [
    "# merge back in\n",
    "\n",
    "db_df = def_df[['gameId','playId','isDropback']].drop_duplicates()\n",
    "ci_pre = ci_merged.merge(db_df,how='left')\n",
    "del(ci_merged)\n",
    "#del(def_df)\n",
    "ci_pre=ci_pre[ci_pre['week']>0]"
   ]
  },
  {
   "cell_type": "code",
   "execution_count": 17,
   "metadata": {},
   "outputs": [
    {
     "data": {
      "text/plain": [
       "16086.0"
      ]
     },
     "execution_count": 17,
     "metadata": {},
     "output_type": "execute_result"
    }
   ],
   "source": [
    "len(ci_pre)/75"
   ]
  },
  {
   "cell_type": "code",
   "execution_count": 18,
   "metadata": {},
   "outputs": [
    {
     "data": {
      "text/plain": [
       "16086"
      ]
     },
     "execution_count": 18,
     "metadata": {},
     "output_type": "execute_result"
    }
   ],
   "source": [
    "len(db_df)"
   ]
  },
  {
   "cell_type": "markdown",
   "metadata": {},
   "source": [
    "### Perform train/test split\n",
    "\n",
    "We integrate week data, then subset based on week 9 holdout:"
   ]
  },
  {
   "cell_type": "code",
   "execution_count": 19,
   "metadata": {},
   "outputs": [],
   "source": [
    "# subset week\n",
    "df_train = ci_pre[(ci_pre['week'] <5.0) ].drop_duplicates()\n",
    "df_val = ci_pre[((ci_pre['week'] >=5.0)& (ci_pre['week']<9.0)) ].drop_duplicates()\n",
    "df_test = ci_pre[ci_pre['week'] ==9.0].drop_duplicates()\n",
    "\n",
    "# y = isDropback\n",
    "y_train = df_train['isDropback'].astype(int)\n",
    "y_val = df_val['isDropback'].astype(int)\n",
    "y_test = df_test['isDropback'].astype(int)"
   ]
  },
  {
   "cell_type": "code",
   "execution_count": 20,
   "metadata": {},
   "outputs": [],
   "source": [
    "time_features=['Tmotion', 'Gmotion', 'TEmotion',  'FBmotion', 'Cmotion', 'QBmotion','RBdistance','Gdistance','TEdistance', 'Tdistance','TEx_standard', 'TEy_standard','Cx_standard',\n",
    "       'Cy_standard' , 'RBy_standard']\n",
    "static_features=['xpass_situational', 'yardsToGo', 'down',  'neg_alignment','absoluteYardlineNumber','time_remaining','quarter',\n",
    " 'neg_Formations',\n",
    " 'off_xpass',\n",
    " 'QBdffy_RB',\n",
    " 'presnap_motion_complexity',\n",
    " 'presnap_momentum',\n",
    " 'receiverAlignment_3x2', \n",
    " 'QBdff_WR']"
   ]
  },
  {
   "cell_type": "code",
   "execution_count": 21,
   "metadata": {},
   "outputs": [],
   "source": [
    "# define scaler\n",
    "scaler = MinMaxScaler(feature_range=(0, 1))\n",
    "\n",
    "# scale\n",
    "df_train[time_features] = scaler.fit_transform(df_train[time_features].values.reshape(-1, len(time_features)))\n",
    "df_val[time_features] = scaler.fit_transform(df_val[time_features].values.reshape(-1, len(time_features)))\n",
    "df_test[time_features] = scaler.transform(df_test[time_features].values.reshape(-1, len(time_features)))\n",
    "\n"
   ]
  },
  {
   "cell_type": "code",
   "execution_count": 22,
   "metadata": {},
   "outputs": [],
   "source": [
    "# reshape\n",
    "X_train = df_train[time_features].to_numpy().reshape(int(len(df_train)/75), 75, len(time_features))\n",
    "X_val = df_val[time_features].to_numpy().reshape(int(len(df_val)/75), 75, len(time_features))\n",
    "X_test = df_test[time_features].to_numpy().reshape(int(len(df_test)/75), 75, len(time_features))\n",
    "\n",
    "y_train = df_train.drop_duplicates(subset=['gameId','playId'])['isDropback'].astype(int)\n",
    "y_test = df_test.drop_duplicates(subset=['gameId','playId'])['isDropback'].astype(int)"
   ]
  },
  {
   "cell_type": "code",
   "execution_count": 23,
   "metadata": {},
   "outputs": [],
   "source": [
    "df_train.fillna(0, inplace=True)\n",
    "df_val.fillna(0, inplace=True)"
   ]
  },
  {
   "cell_type": "code",
   "execution_count": 24,
   "metadata": {},
   "outputs": [
    {
     "name": "stdout",
     "output_type": "stream",
     "text": [
      "Epoch 1/20\n",
      "\u001b[1m236/236\u001b[0m \u001b[32m━━━━━━━━━━━━━━━━━━━━\u001b[0m\u001b[37m\u001b[0m \u001b[1m8s\u001b[0m 27ms/step - loss: 0.6707\n",
      "Epoch 2/20\n",
      "\u001b[1m236/236\u001b[0m \u001b[32m━━━━━━━━━━━━━━━━━━━━\u001b[0m\u001b[37m\u001b[0m \u001b[1m6s\u001b[0m 25ms/step - loss: 0.6252\n",
      "Epoch 3/20\n",
      "\u001b[1m236/236\u001b[0m \u001b[32m━━━━━━━━━━━━━━━━━━━━\u001b[0m\u001b[37m\u001b[0m \u001b[1m6s\u001b[0m 24ms/step - loss: 0.5972\n",
      "Epoch 4/20\n",
      "\u001b[1m236/236\u001b[0m \u001b[32m━━━━━━━━━━━━━━━━━━━━\u001b[0m\u001b[37m\u001b[0m \u001b[1m6s\u001b[0m 23ms/step - loss: 0.6055\n",
      "Epoch 5/20\n",
      "\u001b[1m236/236\u001b[0m \u001b[32m━━━━━━━━━━━━━━━━━━━━\u001b[0m\u001b[37m\u001b[0m \u001b[1m6s\u001b[0m 24ms/step - loss: 0.5972\n",
      "Epoch 6/20\n",
      "\u001b[1m236/236\u001b[0m \u001b[32m━━━━━━━━━━━━━━━━━━━━\u001b[0m\u001b[37m\u001b[0m \u001b[1m6s\u001b[0m 23ms/step - loss: 0.5867\n",
      "Epoch 7/20\n",
      "\u001b[1m236/236\u001b[0m \u001b[32m━━━━━━━━━━━━━━━━━━━━\u001b[0m\u001b[37m\u001b[0m \u001b[1m6s\u001b[0m 23ms/step - loss: 0.5886\n",
      "Epoch 8/20\n",
      "\u001b[1m236/236\u001b[0m \u001b[32m━━━━━━━━━━━━━━━━━━━━\u001b[0m\u001b[37m\u001b[0m \u001b[1m6s\u001b[0m 23ms/step - loss: 0.5813\n",
      "Epoch 9/20\n",
      "\u001b[1m236/236\u001b[0m \u001b[32m━━━━━━━━━━━━━━━━━━━━\u001b[0m\u001b[37m\u001b[0m \u001b[1m6s\u001b[0m 24ms/step - loss: 0.5758\n",
      "Epoch 10/20\n",
      "\u001b[1m236/236\u001b[0m \u001b[32m━━━━━━━━━━━━━━━━━━━━\u001b[0m\u001b[37m\u001b[0m \u001b[1m5s\u001b[0m 23ms/step - loss: 0.5796\n",
      "Epoch 11/20\n",
      "\u001b[1m236/236\u001b[0m \u001b[32m━━━━━━━━━━━━━━━━━━━━\u001b[0m\u001b[37m\u001b[0m \u001b[1m6s\u001b[0m 23ms/step - loss: 0.5846\n",
      "Epoch 12/20\n",
      "\u001b[1m236/236\u001b[0m \u001b[32m━━━━━━━━━━━━━━━━━━━━\u001b[0m\u001b[37m\u001b[0m \u001b[1m6s\u001b[0m 24ms/step - loss: 0.5810\n",
      "Epoch 13/20\n",
      "\u001b[1m236/236\u001b[0m \u001b[32m━━━━━━━━━━━━━━━━━━━━\u001b[0m\u001b[37m\u001b[0m \u001b[1m6s\u001b[0m 24ms/step - loss: 0.5776\n",
      "Epoch 14/20\n",
      "\u001b[1m236/236\u001b[0m \u001b[32m━━━━━━━━━━━━━━━━━━━━\u001b[0m\u001b[37m\u001b[0m \u001b[1m6s\u001b[0m 24ms/step - loss: 0.5806\n",
      "Epoch 15/20\n",
      "\u001b[1m236/236\u001b[0m \u001b[32m━━━━━━━━━━━━━━━━━━━━\u001b[0m\u001b[37m\u001b[0m \u001b[1m6s\u001b[0m 24ms/step - loss: 0.5813\n",
      "Epoch 16/20\n",
      "\u001b[1m236/236\u001b[0m \u001b[32m━━━━━━━━━━━━━━━━━━━━\u001b[0m\u001b[37m\u001b[0m \u001b[1m6s\u001b[0m 23ms/step - loss: 0.5729\n",
      "Epoch 17/20\n",
      "\u001b[1m236/236\u001b[0m \u001b[32m━━━━━━━━━━━━━━━━━━━━\u001b[0m\u001b[37m\u001b[0m \u001b[1m5s\u001b[0m 23ms/step - loss: 0.5764\n",
      "Epoch 18/20\n",
      "\u001b[1m236/236\u001b[0m \u001b[32m━━━━━━━━━━━━━━━━━━━━\u001b[0m\u001b[37m\u001b[0m \u001b[1m6s\u001b[0m 23ms/step - loss: 0.5611\n",
      "Epoch 19/20\n",
      "\u001b[1m236/236\u001b[0m \u001b[32m━━━━━━━━━━━━━━━━━━━━\u001b[0m\u001b[37m\u001b[0m \u001b[1m5s\u001b[0m 23ms/step - loss: 0.5698\n",
      "Epoch 20/20\n",
      "\u001b[1m236/236\u001b[0m \u001b[32m━━━━━━━━━━━━━━━━━━━━\u001b[0m\u001b[37m\u001b[0m \u001b[1m6s\u001b[0m 23ms/step - loss: 0.5828\n",
      "\u001b[1m48/48\u001b[0m \u001b[32m━━━━━━━━━━━━━━━━━━━━\u001b[0m\u001b[37m\u001b[0m \u001b[1m1s\u001b[0m 11ms/step\n"
     ]
    },
    {
     "data": {
      "text/plain": [
       "0.6431372549019608"
      ]
     },
     "execution_count": 24,
     "metadata": {},
     "output_type": "execute_result"
    }
   ],
   "source": [
    "# Define model architecture\n",
    "\n",
    "def create_RNN():\n",
    "    model = keras.models.Sequential()\n",
    "    model.add(keras.layers.Masking(mask_value=0.))\n",
    "    model.add(keras.layers.LSTM(128))\n",
    "    model.add(Dense(32, activation='tanh'))\n",
    "    model.add(Dropout(.005))\n",
    "    model.add(Dense(8, activation='tanh'))\n",
    "    model.add(Dropout(.005))\n",
    "    model.add(Dense(8, activation='tanh'))\n",
    "    model.add(Dense(1, activation='sigmoid'))\n",
    "    optimizer = keras.optimizers.Adam(.004)\n",
    "\n",
    "    return model\n",
    "demo_model = create_RNN()\n",
    "demo_model.compile(loss='binary_crossentropy')\n",
    "demo_model.fit(X_train,y_train,epochs=20)\n",
    "y_pred = (demo_model.predict(X_test) > .5)\n",
    "sum(y_test == y_pred.reshape(-1))/len(y_test)"
   ]
  },
  {
   "cell_type": "code",
   "execution_count": 25,
   "metadata": {},
   "outputs": [],
   "source": [
    "# load original data\n",
    "train_data=pd.read_csv(os.path.join(root_dir, \"data/train_data.csv\"))\n",
    "test_data=pd.read_csv(os.path.join(root_dir, \"data/test_data.csv\"))\n",
    "train_motion_cols=get_motion_cols(train_data.columns)\n",
    "train_momentum_cols=get_momentum_cols(train_data.columns)\n",
    "\n",
    "test_motion_cols=get_motion_cols(test_data.columns)\n",
    "test_momentum_cols=get_momentum_cols(test_data.columns)\n",
    "\n",
    "\n",
    "train_data=create_momentum_index(train_data, train_momentum_cols)\n",
    "test_data=create_momentum_index(test_data, test_momentum_cols)\n",
    "\n",
    "train_data=motion_complexity_score(train_data, test_motion_cols)\n",
    "test_data=motion_complexity_score(test_data, test_motion_cols)\n"
   ]
  },
  {
   "cell_type": "code",
   "execution_count": 26,
   "metadata": {},
   "outputs": [],
   "source": [
    "val_games=df_val[['gameId', 'playId']].drop_duplicates()\n",
    "val_data=pd.merge(train_data[['gameId', 'playId','yardsToGo', 'down',  'neg_alignment','absoluteYardlineNumber','time_remaining','quarter',\n",
    " 'neg_Formations',\n",
    " 'off_xpass',\n",
    " 'QBdffy_RB',\n",
    " 'presnap_motion_complexity',\n",
    " 'presnap_momentum',\n",
    " 'receiverAlignment_3x2', \n",
    " 'QBdff_WR','pass']], val_games, on=['gameId', 'playId'], how='inner')\n"
   ]
  },
  {
   "cell_type": "code",
   "execution_count": 27,
   "metadata": {},
   "outputs": [
    {
     "data": {
      "text/html": [
       "<div>\n",
       "<style scoped>\n",
       "    .dataframe tbody tr th:only-of-type {\n",
       "        vertical-align: middle;\n",
       "    }\n",
       "\n",
       "    .dataframe tbody tr th {\n",
       "        vertical-align: top;\n",
       "    }\n",
       "\n",
       "    .dataframe thead th {\n",
       "        text-align: right;\n",
       "    }\n",
       "</style>\n",
       "<table border=\"1\" class=\"dataframe\">\n",
       "  <thead>\n",
       "    <tr style=\"text-align: right;\">\n",
       "      <th></th>\n",
       "      <th>gameId</th>\n",
       "      <th>playId</th>\n",
       "      <th>yardsToGo</th>\n",
       "      <th>down</th>\n",
       "      <th>neg_alignment</th>\n",
       "      <th>absoluteYardlineNumber</th>\n",
       "      <th>time_remaining</th>\n",
       "      <th>quarter</th>\n",
       "      <th>neg_Formations</th>\n",
       "      <th>off_xpass</th>\n",
       "      <th>QBdffy_RB</th>\n",
       "      <th>presnap_motion_complexity</th>\n",
       "      <th>presnap_momentum</th>\n",
       "      <th>receiverAlignment_3x2</th>\n",
       "      <th>QBdff_WR</th>\n",
       "      <th>pass</th>\n",
       "    </tr>\n",
       "  </thead>\n",
       "  <tbody>\n",
       "    <tr>\n",
       "      <th>0</th>\n",
       "      <td>2022100600</td>\n",
       "      <td>56</td>\n",
       "      <td>10</td>\n",
       "      <td>1</td>\n",
       "      <td>0</td>\n",
       "      <td>85</td>\n",
       "      <td>60.000000</td>\n",
       "      <td>1</td>\n",
       "      <td>0</td>\n",
       "      <td>0.651983</td>\n",
       "      <td>16.064205</td>\n",
       "      <td>0.0</td>\n",
       "      <td>0.0</td>\n",
       "      <td>0</td>\n",
       "      <td>84.988138</td>\n",
       "      <td>1</td>\n",
       "    </tr>\n",
       "    <tr>\n",
       "      <th>1</th>\n",
       "      <td>2022100600</td>\n",
       "      <td>90</td>\n",
       "      <td>10</td>\n",
       "      <td>2</td>\n",
       "      <td>0</td>\n",
       "      <td>85</td>\n",
       "      <td>59.950000</td>\n",
       "      <td>1</td>\n",
       "      <td>0</td>\n",
       "      <td>0.644997</td>\n",
       "      <td>15.673800</td>\n",
       "      <td>0.0</td>\n",
       "      <td>0.0</td>\n",
       "      <td>0</td>\n",
       "      <td>95.567678</td>\n",
       "      <td>0</td>\n",
       "    </tr>\n",
       "    <tr>\n",
       "      <th>2</th>\n",
       "      <td>2022100600</td>\n",
       "      <td>111</td>\n",
       "      <td>7</td>\n",
       "      <td>3</td>\n",
       "      <td>0</td>\n",
       "      <td>82</td>\n",
       "      <td>59.216667</td>\n",
       "      <td>1</td>\n",
       "      <td>0</td>\n",
       "      <td>0.661729</td>\n",
       "      <td>15.581881</td>\n",
       "      <td>0.0</td>\n",
       "      <td>0.0</td>\n",
       "      <td>0</td>\n",
       "      <td>77.643718</td>\n",
       "      <td>1</td>\n",
       "    </tr>\n",
       "    <tr>\n",
       "      <th>3</th>\n",
       "      <td>2022100600</td>\n",
       "      <td>157</td>\n",
       "      <td>10</td>\n",
       "      <td>1</td>\n",
       "      <td>0</td>\n",
       "      <td>46</td>\n",
       "      <td>58.616667</td>\n",
       "      <td>1</td>\n",
       "      <td>0</td>\n",
       "      <td>0.566020</td>\n",
       "      <td>16.017198</td>\n",
       "      <td>0.0</td>\n",
       "      <td>0.0</td>\n",
       "      <td>0</td>\n",
       "      <td>93.319890</td>\n",
       "      <td>0</td>\n",
       "    </tr>\n",
       "    <tr>\n",
       "      <th>4</th>\n",
       "      <td>2022100600</td>\n",
       "      <td>178</td>\n",
       "      <td>7</td>\n",
       "      <td>2</td>\n",
       "      <td>0</td>\n",
       "      <td>49</td>\n",
       "      <td>58.266667</td>\n",
       "      <td>1</td>\n",
       "      <td>0</td>\n",
       "      <td>0.566020</td>\n",
       "      <td>12.890937</td>\n",
       "      <td>0.0</td>\n",
       "      <td>0.0</td>\n",
       "      <td>0</td>\n",
       "      <td>141.969875</td>\n",
       "      <td>1</td>\n",
       "    </tr>\n",
       "    <tr>\n",
       "      <th>...</th>\n",
       "      <td>...</td>\n",
       "      <td>...</td>\n",
       "      <td>...</td>\n",
       "      <td>...</td>\n",
       "      <td>...</td>\n",
       "      <td>...</td>\n",
       "      <td>...</td>\n",
       "      <td>...</td>\n",
       "      <td>...</td>\n",
       "      <td>...</td>\n",
       "      <td>...</td>\n",
       "      <td>...</td>\n",
       "      <td>...</td>\n",
       "      <td>...</td>\n",
       "      <td>...</td>\n",
       "      <td>...</td>\n",
       "    </tr>\n",
       "    <tr>\n",
       "      <th>7021</th>\n",
       "      <td>2022103100</td>\n",
       "      <td>3596</td>\n",
       "      <td>9</td>\n",
       "      <td>2</td>\n",
       "      <td>0</td>\n",
       "      <td>45</td>\n",
       "      <td>3.316667</td>\n",
       "      <td>4</td>\n",
       "      <td>1</td>\n",
       "      <td>0.568401</td>\n",
       "      <td>11.893793</td>\n",
       "      <td>0.0</td>\n",
       "      <td>0.0</td>\n",
       "      <td>0</td>\n",
       "      <td>89.336161</td>\n",
       "      <td>0</td>\n",
       "    </tr>\n",
       "    <tr>\n",
       "      <th>7022</th>\n",
       "      <td>2022103100</td>\n",
       "      <td>3674</td>\n",
       "      <td>5</td>\n",
       "      <td>1</td>\n",
       "      <td>1</td>\n",
       "      <td>28</td>\n",
       "      <td>2.366667</td>\n",
       "      <td>4</td>\n",
       "      <td>1</td>\n",
       "      <td>0.564558</td>\n",
       "      <td>11.812542</td>\n",
       "      <td>0.0</td>\n",
       "      <td>0.0</td>\n",
       "      <td>0</td>\n",
       "      <td>128.143625</td>\n",
       "      <td>0</td>\n",
       "    </tr>\n",
       "    <tr>\n",
       "      <th>7023</th>\n",
       "      <td>2022103100</td>\n",
       "      <td>3697</td>\n",
       "      <td>1</td>\n",
       "      <td>2</td>\n",
       "      <td>1</td>\n",
       "      <td>24</td>\n",
       "      <td>2.000000</td>\n",
       "      <td>4</td>\n",
       "      <td>1</td>\n",
       "      <td>0.564558</td>\n",
       "      <td>14.819406</td>\n",
       "      <td>0.0</td>\n",
       "      <td>0.0</td>\n",
       "      <td>0</td>\n",
       "      <td>88.361644</td>\n",
       "      <td>0</td>\n",
       "    </tr>\n",
       "    <tr>\n",
       "      <th>7024</th>\n",
       "      <td>2022103100</td>\n",
       "      <td>3727</td>\n",
       "      <td>10</td>\n",
       "      <td>1</td>\n",
       "      <td>0</td>\n",
       "      <td>20</td>\n",
       "      <td>1.266667</td>\n",
       "      <td>4</td>\n",
       "      <td>0</td>\n",
       "      <td>0.609726</td>\n",
       "      <td>14.010394</td>\n",
       "      <td>0.0</td>\n",
       "      <td>0.0</td>\n",
       "      <td>0</td>\n",
       "      <td>114.712327</td>\n",
       "      <td>0</td>\n",
       "    </tr>\n",
       "    <tr>\n",
       "      <th>7025</th>\n",
       "      <td>2022103100</td>\n",
       "      <td>3748</td>\n",
       "      <td>10</td>\n",
       "      <td>2</td>\n",
       "      <td>0</td>\n",
       "      <td>20</td>\n",
       "      <td>0.650000</td>\n",
       "      <td>4</td>\n",
       "      <td>0</td>\n",
       "      <td>0.609726</td>\n",
       "      <td>14.041011</td>\n",
       "      <td>0.0</td>\n",
       "      <td>0.0</td>\n",
       "      <td>0</td>\n",
       "      <td>131.286787</td>\n",
       "      <td>0</td>\n",
       "    </tr>\n",
       "  </tbody>\n",
       "</table>\n",
       "<p>7026 rows × 16 columns</p>\n",
       "</div>"
      ],
      "text/plain": [
       "          gameId  playId  yardsToGo  down  neg_alignment  \\\n",
       "0     2022100600      56         10     1              0   \n",
       "1     2022100600      90         10     2              0   \n",
       "2     2022100600     111          7     3              0   \n",
       "3     2022100600     157         10     1              0   \n",
       "4     2022100600     178          7     2              0   \n",
       "...          ...     ...        ...   ...            ...   \n",
       "7021  2022103100    3596          9     2              0   \n",
       "7022  2022103100    3674          5     1              1   \n",
       "7023  2022103100    3697          1     2              1   \n",
       "7024  2022103100    3727         10     1              0   \n",
       "7025  2022103100    3748         10     2              0   \n",
       "\n",
       "      absoluteYardlineNumber  time_remaining  quarter  neg_Formations  \\\n",
       "0                         85       60.000000        1               0   \n",
       "1                         85       59.950000        1               0   \n",
       "2                         82       59.216667        1               0   \n",
       "3                         46       58.616667        1               0   \n",
       "4                         49       58.266667        1               0   \n",
       "...                      ...             ...      ...             ...   \n",
       "7021                      45        3.316667        4               1   \n",
       "7022                      28        2.366667        4               1   \n",
       "7023                      24        2.000000        4               1   \n",
       "7024                      20        1.266667        4               0   \n",
       "7025                      20        0.650000        4               0   \n",
       "\n",
       "      off_xpass  QBdffy_RB  presnap_motion_complexity  presnap_momentum  \\\n",
       "0      0.651983  16.064205                        0.0               0.0   \n",
       "1      0.644997  15.673800                        0.0               0.0   \n",
       "2      0.661729  15.581881                        0.0               0.0   \n",
       "3      0.566020  16.017198                        0.0               0.0   \n",
       "4      0.566020  12.890937                        0.0               0.0   \n",
       "...         ...        ...                        ...               ...   \n",
       "7021   0.568401  11.893793                        0.0               0.0   \n",
       "7022   0.564558  11.812542                        0.0               0.0   \n",
       "7023   0.564558  14.819406                        0.0               0.0   \n",
       "7024   0.609726  14.010394                        0.0               0.0   \n",
       "7025   0.609726  14.041011                        0.0               0.0   \n",
       "\n",
       "      receiverAlignment_3x2    QBdff_WR  pass  \n",
       "0                         0   84.988138     1  \n",
       "1                         0   95.567678     0  \n",
       "2                         0   77.643718     1  \n",
       "3                         0   93.319890     0  \n",
       "4                         0  141.969875     1  \n",
       "...                     ...         ...   ...  \n",
       "7021                      0   89.336161     0  \n",
       "7022                      0  128.143625     0  \n",
       "7023                      0   88.361644     0  \n",
       "7024                      0  114.712327     0  \n",
       "7025                      0  131.286787     0  \n",
       "\n",
       "[7026 rows x 16 columns]"
      ]
     },
     "execution_count": 27,
     "metadata": {},
     "output_type": "execute_result"
    }
   ],
   "source": [
    "val_data"
   ]
  },
  {
   "cell_type": "code",
   "execution_count": 28,
   "metadata": {},
   "outputs": [
    {
     "name": "stdout",
     "output_type": "stream",
     "text": [
      "\u001b[1m220/220\u001b[0m \u001b[32m━━━━━━━━━━━━━━━━━━━━\u001b[0m\u001b[37m\u001b[0m \u001b[1m2s\u001b[0m 8ms/step\n",
      "\u001b[1m48/48\u001b[0m \u001b[32m━━━━━━━━━━━━━━━━━━━━\u001b[0m\u001b[37m\u001b[0m \u001b[1m0s\u001b[0m 8ms/step\n"
     ]
    }
   ],
   "source": [
    "val_data['RNN']=(demo_model.predict(X_val) > .5).reshape(-1)\n",
    "test_data['RNN']=(demo_model.predict(X_test) > .5).reshape(-1)"
   ]
  },
  {
   "cell_type": "code",
   "execution_count": 32,
   "metadata": {},
   "outputs": [],
   "source": [
    "static_features.remove('xpass_situational')"
   ]
  },
  {
   "cell_type": "code",
   "execution_count": 29,
   "metadata": {},
   "outputs": [],
   "source": [
    "static_features.append('RNN')"
   ]
  },
  {
   "cell_type": "code",
   "execution_count": 33,
   "metadata": {},
   "outputs": [],
   "source": [
    "final_features=static_features"
   ]
  },
  {
   "cell_type": "code",
   "execution_count": 34,
   "metadata": {},
   "outputs": [],
   "source": [
    "X_val=val_data[final_features].fillna(0)\n",
    "X_test=test_data[final_features].fillna(0)\n",
    "y_val=val_data['pass']\n",
    "y_test=test_data['pass']"
   ]
  },
  {
   "cell_type": "code",
   "execution_count": 35,
   "metadata": {},
   "outputs": [
    {
     "name": "stderr",
     "output_type": "stream",
     "text": [
      "Training Folds: 100%|██████████| 5/5 [00:00<00:00, 12.56it/s]\n"
     ]
    },
    {
     "name": "stdout",
     "output_type": "stream",
     "text": [
      "Mean Train AUC --> 0.8722\n",
      "Mean Validation AUC ---> 0.7730\n",
      "Mean Train Accuracy --> 0.8791\n",
      "Mean Validation Accuracy ---> 0.7862\n"
     ]
    },
    {
     "data": {
      "image/png": "[encoded data removed]",
      "text/plain": [
       "<Figure size 640x480 with 2 Axes>"
      ]
     },
     "metadata": {},
     "output_type": "display_data"
    }
   ],
   "source": [
    "\n",
    "lgb = LGBMClassifier(verbosity=-1,seed=42).fit(X_val,y_val)\n",
    "TrainML(lgb,X_val, y_val,5,SEED=42)"
   ]
  },
  {
   "cell_type": "code",
   "execution_count": 36,
   "metadata": {},
   "outputs": [
    {
     "name": "stderr",
     "output_type": "stream",
     "text": [
      "c:\\ProgramData\\Anaconda3\\envs\\bdb2025-env\\lib\\site-packages\\shap\\explainers\\_tree.py:448: UserWarning: LightGBM binary classifier with TreeExplainer shap values output has changed to a list of ndarray\n",
      "  warnings.warn('LightGBM binary classifier with TreeExplainer shap values output has changed to a list of ndarray')\n"
     ]
    },
    {
     "data": {
      "image/png": "[encoded data removed]",
      "text/plain": [
       "<Figure size 800x710 with 1 Axes>"
      ]
     },
     "metadata": {},
     "output_type": "display_data"
    }
   ],
   "source": [
    "import shap \n",
    "shap_values = shap.TreeExplainer(lgb).shap_values(X_test[final_features])\n",
    "shap.summary_plot(shap_values, X_test, plot_type=\"bar\")\n",
    "feature_names = final_features\n",
    "\n",
    "\n",
    "lgbm_resultX = pd.DataFrame(shap_values, columns = feature_names)\n",
    "\n",
    "vals = np.abs(lgbm_resultX.values).mean(0)\n",
    "\n",
    "shap_importance = pd.DataFrame(list(zip(feature_names, vals)),\n",
    "                                  columns=['col_name','feature_importance_vals'])\n",
    "shap_importance.sort_values(by=['feature_importance_vals'],\n",
    "                               ascending=False, inplace=True)\n"
   ]
  },
  {
   "cell_type": "code",
   "execution_count": 37,
   "metadata": {},
   "outputs": [
    {
     "data": {
      "text/plain": [
       "0.8117647058823529"
      ]
     },
     "execution_count": 37,
     "metadata": {},
     "output_type": "execute_result"
    }
   ],
   "source": [
    "y_pred=lgb.predict(X_test[final_features])\n",
    "accuracy_score(y_test, y_pred)"
   ]
  },
  {
   "cell_type": "code",
   "execution_count": null,
   "metadata": {},
   "outputs": [],
   "source": []
  }
 ],
 "metadata": {
  "kernelspec": {
   "display_name": "bdb2025-env",
   "language": "python",
   "name": "python3"
  },
  "language_info": {
   "codemirror_mode": {
    "name": "ipython",
    "version": 3
   },
   "file_extension": ".py",
   "mimetype": "text/x-python",
   "name": "python",
   "nbconvert_exporter": "python",
   "pygments_lexer": "ipython3",
   "version": "3.9.20"
  }
 },
 "nbformat": 4,
 "nbformat_minor": 2
}
