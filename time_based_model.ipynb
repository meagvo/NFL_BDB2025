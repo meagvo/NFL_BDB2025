{
 "cells": [
  {
   "cell_type": "code",
   "execution_count": 1,
   "metadata": {},
   "outputs": [],
   "source": [
    "import pandas as pd\n",
    "import keras\n",
    "import os\n",
    "from data_loading import load_tracking_data\n",
    "from sklearn.pipeline import Pipeline\n",
    "from lightgbm import LGBMClassifier\n",
    "from sklearn.compose import ColumnTransformer\n",
    "from sklearn.impute import SimpleImputer\n",
    "from scipy import spatial\n",
    "import numpy as np\n",
    "from keras.layers import Dense, Dropout\n",
    "import matplotlib.pyplot as plt\n",
    "from sklearn.preprocessing import MinMaxScaler\n",
    "from sklearn.metrics import accuracy_score\n",
    "\n",
    "from utility_db_25 import mark_columns, TrainML\n",
    "from utility_db_25 import mark_columns, TrainML, get_momentum_cols, create_momentum_index, get_motion_cols, motion_complexity_score\n",
    "root_dir = os.getcwd()"
   ]
  },
  {
   "cell_type": "markdown",
   "metadata": {},
   "source": [
    "# Load data\n",
    "\n",
    "We first load our data, starting with tracking & general player data"
   ]
  },
  {
   "cell_type": "code",
   "execution_count": 2,
   "metadata": {},
   "outputs": [],
   "source": [
    "# load tracking data for all weeks\n",
    "root_dir = os.getcwd()\n",
    "tracking_fname_list = [os.path.join(root_dir,  f\"data/tracking_week_{i}.csv\") for i in range(1,10)]\n",
    "df_tracking = pd.concat(\n",
    "        [load_tracking_data(tracking_fname) for tracking_fname in tracking_fname_list]\n",
    "    )\n",
    "\n",
    "# get players data\n",
    "df_players = pd.read_csv(os.path.join(root_dir,'data/players.csv'))\n",
    "df_players.loc[df_players['nflId'] ==45244, 'position'] = 'TE' #update data for Taysom Hill\n",
    "\n",
    "# load tracking, truncate to relevant columns, delete\n",
    "cols_track = ['gameId','playId','event','nflId','frameId','club','x_standard','y_standard', 'dis', 'dir_standard']\n",
    "track_trunc = df_tracking[cols_track]\n",
    "del(df_tracking)"
   ]
  },
  {
   "cell_type": "code",
   "execution_count": 3,
   "metadata": {},
   "outputs": [],
   "source": [
    "track_trunc.to_csv('data/tracking_trunc.csv')"
   ]
  },
  {
   "cell_type": "code",
   "execution_count": 4,
   "metadata": {},
   "outputs": [],
   "source": [
    "#track_trunc=pd.read_csv('data/tracking_trunc.csv')\n",
    "df_games = pd.read_csv('data/games.csv')[[\n",
    "    'gameId','week'\n",
    "]].drop_duplicates()\n",
    "track_trunc=pd.merge(track_trunc, df_games, on='gameId', how='inner')"
   ]
  },
  {
   "cell_type": "markdown",
   "metadata": {},
   "source": [
    "### Merge onto play level\n",
    "\n",
    "Note: some plays (38?) lack defensive tracking data, ergo losing some plays to dropping NA's \n"
   ]
  },
  {
   "cell_type": "code",
   "execution_count": 5,
   "metadata": {},
   "outputs": [
    {
     "data": {
      "text/html": [
       "<div>\n",
       "<style scoped>\n",
       "    .dataframe tbody tr th:only-of-type {\n",
       "        vertical-align: middle;\n",
       "    }\n",
       "\n",
       "    .dataframe tbody tr th {\n",
       "        vertical-align: top;\n",
       "    }\n",
       "\n",
       "    .dataframe thead th {\n",
       "        text-align: right;\n",
       "    }\n",
       "</style>\n",
       "<table border=\"1\" class=\"dataframe\">\n",
       "  <thead>\n",
       "    <tr style=\"text-align: right;\">\n",
       "      <th></th>\n",
       "      <th>gameId</th>\n",
       "      <th>playId</th>\n",
       "      <th>event</th>\n",
       "      <th>nflId</th>\n",
       "      <th>frameId</th>\n",
       "      <th>club</th>\n",
       "      <th>x_standard</th>\n",
       "      <th>y_standard</th>\n",
       "      <th>dis</th>\n",
       "      <th>dir_standard</th>\n",
       "      <th>week</th>\n",
       "      <th>possessionTeam</th>\n",
       "      <th>isDropback</th>\n",
       "    </tr>\n",
       "  </thead>\n",
       "  <tbody>\n",
       "    <tr>\n",
       "      <th>112</th>\n",
       "      <td>2022091200</td>\n",
       "      <td>64</td>\n",
       "      <td>NONE</td>\n",
       "      <td>39987.0</td>\n",
       "      <td>2</td>\n",
       "      <td>SEA</td>\n",
       "      <td>33.95</td>\n",
       "      <td>23.50</td>\n",
       "      <td>0.04</td>\n",
       "      <td>19.89</td>\n",
       "      <td>1</td>\n",
       "      <td>SEA</td>\n",
       "      <td>False</td>\n",
       "    </tr>\n",
       "    <tr>\n",
       "      <th>113</th>\n",
       "      <td>2022091200</td>\n",
       "      <td>64</td>\n",
       "      <td>NONE</td>\n",
       "      <td>39987.0</td>\n",
       "      <td>3</td>\n",
       "      <td>SEA</td>\n",
       "      <td>33.96</td>\n",
       "      <td>23.54</td>\n",
       "      <td>0.04</td>\n",
       "      <td>19.91</td>\n",
       "      <td>1</td>\n",
       "      <td>SEA</td>\n",
       "      <td>False</td>\n",
       "    </tr>\n",
       "    <tr>\n",
       "      <th>114</th>\n",
       "      <td>2022091200</td>\n",
       "      <td>64</td>\n",
       "      <td>NONE</td>\n",
       "      <td>39987.0</td>\n",
       "      <td>4</td>\n",
       "      <td>SEA</td>\n",
       "      <td>33.98</td>\n",
       "      <td>23.58</td>\n",
       "      <td>0.05</td>\n",
       "      <td>24.17</td>\n",
       "      <td>1</td>\n",
       "      <td>SEA</td>\n",
       "      <td>False</td>\n",
       "    </tr>\n",
       "  </tbody>\n",
       "</table>\n",
       "</div>"
      ],
      "text/plain": [
       "         gameId  playId event    nflId  frameId club  x_standard  y_standard  \\\n",
       "112  2022091200      64  NONE  39987.0        2  SEA       33.95       23.50   \n",
       "113  2022091200      64  NONE  39987.0        3  SEA       33.96       23.54   \n",
       "114  2022091200      64  NONE  39987.0        4  SEA       33.98       23.58   \n",
       "\n",
       "      dis  dir_standard  week possessionTeam isDropback  \n",
       "112  0.04         19.89     1            SEA      False  \n",
       "113  0.04         19.91     1            SEA      False  \n",
       "114  0.05         24.17     1            SEA      False  "
      ]
     },
     "execution_count": 5,
     "metadata": {},
     "output_type": "execute_result"
    }
   ],
   "source": [
    "# merge  tracking info to play-level data\n",
    "df_plays = pd.read_csv(os.path.join(root_dir,'data/plays.csv'))\n",
    "play_trunc = df_plays[['gameId','playId','possessionTeam','isDropback']]\n",
    "track_trunc['event'].fillna('NONE', inplace=True)\n",
    "pt_df = pd.merge(track_trunc,play_trunc, how='left',right_on=['gameId','playId','possessionTeam'],\n",
    "                 left_on=['gameId','playId','club'])\n",
    "\n",
    "# na's dropped to lose players w/o tracking info\n",
    "def_df = pt_df.dropna().copy()\n",
    "def_df.head(3)"
   ]
  },
  {
   "cell_type": "code",
   "execution_count": 6,
   "metadata": {},
   "outputs": [],
   "source": [
    "# get position here for calcs\n",
    "\n",
    "def_temp = def_df.merge(df_players[['nflId','position']],how='left',copy=False)\n",
    "def_temp.sort_values(by=['gameId','playId','frameId'],inplace=True)\n",
    "del(track_trunc)\n",
    "del(df_players)\n",
    "def_temp.head()\n",
    "def_temp.drop(columns='week', inplace=True)"
   ]
  },
  {
   "cell_type": "code",
   "execution_count": 7,
   "metadata": {},
   "outputs": [],
   "source": [
    "\n",
    "ci = pd.merge(def_temp[['gameId','playId']].drop_duplicates(), pd.Series(list(range(1,101))).rename('frameId'), how='cross',copy=False).sort_values(by=['gameId','playId','frameId'])\n",
    "ci=pd.merge(df_games, ci, on=['gameId'])[['gameId', 'playId', 'frameId', 'week']]\n",
    "ci_merged = pd.merge(ci, def_temp,on=['gameId', 'playId', 'frameId'],how='left',copy=False)[['gameId', 'playId', 'frameId', 'week']].drop_duplicates()"
   ]
  },
  {
   "cell_type": "code",
   "execution_count": 8,
   "metadata": {},
   "outputs": [
    {
     "data": {
      "text/plain": [
       "1608600"
      ]
     },
     "execution_count": 8,
     "metadata": {},
     "output_type": "execute_result"
    }
   ],
   "source": [
    "len(ci)"
   ]
  },
  {
   "cell_type": "code",
   "execution_count": 9,
   "metadata": {},
   "outputs": [
    {
     "data": {
      "text/plain": [
       "18371122"
      ]
     },
     "execution_count": 9,
     "metadata": {},
     "output_type": "execute_result"
    }
   ],
   "source": [
    "len(def_temp)"
   ]
  },
  {
   "cell_type": "code",
   "execution_count": 10,
   "metadata": {},
   "outputs": [
    {
     "data": {
      "text/plain": [
       "1608600"
      ]
     },
     "execution_count": 10,
     "metadata": {},
     "output_type": "execute_result"
    }
   ],
   "source": [
    "len(ci_merged)\n"
   ]
  },
  {
   "cell_type": "code",
   "execution_count": 11,
   "metadata": {},
   "outputs": [],
   "source": [
    "def get_event_frame(df, event_name):\n",
    "    grouped_df=df[df['event']==event_name][['gameId', 'playId', 'frameId']].groupby(by=['gameId', 'playId']).max().reset_index()\n",
    "    grouped_df.columns=['gameId', 'playId', event_name+'_frameId']\n",
    "    df=pd.merge(df, grouped_df,on=['gameId', 'playId'], how='left')\n",
    "    return df"
   ]
  },
  {
   "cell_type": "code",
   "execution_count": 12,
   "metadata": {},
   "outputs": [],
   "source": [
    "def_temp=get_event_frame(def_temp, 'line_set')\n",
    "def_temp['motion_after_lineset']=np.where(((def_temp['frameId']>def_temp['line_set_frameId']) & (def_temp['event']=='man_in_motion')), 1, 0).astype(float)\n",
    "def_temp['motion_']=np.where((def_temp['event']=='man_in_motion'), 1, 0).astype(float)\n",
    "\n"
   ]
  },
  {
   "cell_type": "code",
   "execution_count": 13,
   "metadata": {},
   "outputs": [],
   "source": [
    "off_positions=['WR','T','G', 'TE',  'RB','FB', 'C', 'QB']\n",
    "for p in off_positions:\n",
    "    df=def_temp[def_temp['position']==p][['gameId', 'playId', 'frameId','dir_standard', 'dis', 'x_standard', 'y_standard', 'motion_after_lineset', 'motion_']].groupby(['gameId', 'playId', 'frameId']).agg({'dir_standard': 'mean', 'dis':'sum', 'x_standard':'mean', 'y_standard':'mean', 'motion_after_lineset':'sum', 'motion_':'sum'}).reset_index().copy()\n",
    "    df.columns = ['gameId', 'playId', 'frameId',p+'_dir', p+'_dis', p+'x_standard', p+'y_standard', p+'motion_after_lineset', p+'motion']\n",
    "    ci_merged=pd.merge(ci_merged,df,how='left',on=['gameId','playId','frameId'])\n",
    "    del(df)\n",
    "ci_merged.fillna(0, inplace=True)"
   ]
  },
  {
   "cell_type": "code",
   "execution_count": 14,
   "metadata": {},
   "outputs": [
    {
     "data": {
      "text/html": [
       "<div>\n",
       "<style scoped>\n",
       "    .dataframe tbody tr th:only-of-type {\n",
       "        vertical-align: middle;\n",
       "    }\n",
       "\n",
       "    .dataframe tbody tr th {\n",
       "        vertical-align: top;\n",
       "    }\n",
       "\n",
       "    .dataframe thead th {\n",
       "        text-align: right;\n",
       "    }\n",
       "</style>\n",
       "<table border=\"1\" class=\"dataframe\">\n",
       "  <thead>\n",
       "    <tr style=\"text-align: right;\">\n",
       "      <th></th>\n",
       "      <th>gameId</th>\n",
       "      <th>playId</th>\n",
       "      <th>frameId</th>\n",
       "      <th>week</th>\n",
       "      <th>WR_dir</th>\n",
       "      <th>WR_dis</th>\n",
       "      <th>WRx_standard</th>\n",
       "      <th>WRy_standard</th>\n",
       "      <th>WRmotion_after_lineset</th>\n",
       "      <th>WRmotion</th>\n",
       "      <th>...</th>\n",
       "      <th>Cmotion_after_lineset</th>\n",
       "      <th>Cmotion</th>\n",
       "      <th>QB_dir</th>\n",
       "      <th>QB_dis</th>\n",
       "      <th>QBx_standard</th>\n",
       "      <th>QBy_standard</th>\n",
       "      <th>QBmotion_after_lineset</th>\n",
       "      <th>QBmotion</th>\n",
       "      <th>motion_after_lineset</th>\n",
       "      <th>motion</th>\n",
       "    </tr>\n",
       "  </thead>\n",
       "  <tbody>\n",
       "    <tr>\n",
       "      <th>0</th>\n",
       "      <td>2022090800</td>\n",
       "      <td>56</td>\n",
       "      <td>1</td>\n",
       "      <td>1</td>\n",
       "      <td>0.000000</td>\n",
       "      <td>0.00</td>\n",
       "      <td>0.000000</td>\n",
       "      <td>0.000000</td>\n",
       "      <td>0.0</td>\n",
       "      <td>0.0</td>\n",
       "      <td>...</td>\n",
       "      <td>0.0</td>\n",
       "      <td>0.0</td>\n",
       "      <td>0.00</td>\n",
       "      <td>0.00</td>\n",
       "      <td>0.00</td>\n",
       "      <td>0.000000</td>\n",
       "      <td>0.0</td>\n",
       "      <td>0.0</td>\n",
       "      <td>0.0</td>\n",
       "      <td>0.0</td>\n",
       "    </tr>\n",
       "    <tr>\n",
       "      <th>1</th>\n",
       "      <td>2022090800</td>\n",
       "      <td>56</td>\n",
       "      <td>2</td>\n",
       "      <td>1</td>\n",
       "      <td>123.513333</td>\n",
       "      <td>0.79</td>\n",
       "      <td>28.726667</td>\n",
       "      <td>24.876667</td>\n",
       "      <td>0.0</td>\n",
       "      <td>0.0</td>\n",
       "      <td>...</td>\n",
       "      <td>0.0</td>\n",
       "      <td>0.0</td>\n",
       "      <td>276.39</td>\n",
       "      <td>0.03</td>\n",
       "      <td>29.09</td>\n",
       "      <td>24.003333</td>\n",
       "      <td>0.0</td>\n",
       "      <td>0.0</td>\n",
       "      <td>0.0</td>\n",
       "      <td>0.0</td>\n",
       "    </tr>\n",
       "    <tr>\n",
       "      <th>2</th>\n",
       "      <td>2022090800</td>\n",
       "      <td>56</td>\n",
       "      <td>3</td>\n",
       "      <td>1</td>\n",
       "      <td>123.550000</td>\n",
       "      <td>0.82</td>\n",
       "      <td>28.730000</td>\n",
       "      <td>25.143333</td>\n",
       "      <td>0.0</td>\n",
       "      <td>0.0</td>\n",
       "      <td>...</td>\n",
       "      <td>0.0</td>\n",
       "      <td>0.0</td>\n",
       "      <td>270.41</td>\n",
       "      <td>0.04</td>\n",
       "      <td>29.06</td>\n",
       "      <td>23.983333</td>\n",
       "      <td>0.0</td>\n",
       "      <td>0.0</td>\n",
       "      <td>0.0</td>\n",
       "      <td>0.0</td>\n",
       "    </tr>\n",
       "    <tr>\n",
       "      <th>3</th>\n",
       "      <td>2022090800</td>\n",
       "      <td>56</td>\n",
       "      <td>4</td>\n",
       "      <td>1</td>\n",
       "      <td>124.723333</td>\n",
       "      <td>0.84</td>\n",
       "      <td>28.743333</td>\n",
       "      <td>25.423333</td>\n",
       "      <td>0.0</td>\n",
       "      <td>0.0</td>\n",
       "      <td>...</td>\n",
       "      <td>0.0</td>\n",
       "      <td>0.0</td>\n",
       "      <td>259.93</td>\n",
       "      <td>0.06</td>\n",
       "      <td>29.01</td>\n",
       "      <td>23.943333</td>\n",
       "      <td>0.0</td>\n",
       "      <td>0.0</td>\n",
       "      <td>0.0</td>\n",
       "      <td>0.0</td>\n",
       "    </tr>\n",
       "    <tr>\n",
       "      <th>4</th>\n",
       "      <td>2022090800</td>\n",
       "      <td>56</td>\n",
       "      <td>5</td>\n",
       "      <td>1</td>\n",
       "      <td>126.343333</td>\n",
       "      <td>0.84</td>\n",
       "      <td>28.763333</td>\n",
       "      <td>25.700000</td>\n",
       "      <td>0.0</td>\n",
       "      <td>0.0</td>\n",
       "      <td>...</td>\n",
       "      <td>0.0</td>\n",
       "      <td>0.0</td>\n",
       "      <td>255.77</td>\n",
       "      <td>0.04</td>\n",
       "      <td>28.98</td>\n",
       "      <td>23.923333</td>\n",
       "      <td>0.0</td>\n",
       "      <td>0.0</td>\n",
       "      <td>0.0</td>\n",
       "      <td>0.0</td>\n",
       "    </tr>\n",
       "  </tbody>\n",
       "</table>\n",
       "<p>5 rows × 54 columns</p>\n",
       "</div>"
      ],
      "text/plain": [
       "       gameId  playId  frameId  week      WR_dir  WR_dis  WRx_standard  \\\n",
       "0  2022090800      56        1     1    0.000000    0.00      0.000000   \n",
       "1  2022090800      56        2     1  123.513333    0.79     28.726667   \n",
       "2  2022090800      56        3     1  123.550000    0.82     28.730000   \n",
       "3  2022090800      56        4     1  124.723333    0.84     28.743333   \n",
       "4  2022090800      56        5     1  126.343333    0.84     28.763333   \n",
       "\n",
       "   WRy_standard  WRmotion_after_lineset  WRmotion  ...  Cmotion_after_lineset  \\\n",
       "0      0.000000                     0.0       0.0  ...                    0.0   \n",
       "1     24.876667                     0.0       0.0  ...                    0.0   \n",
       "2     25.143333                     0.0       0.0  ...                    0.0   \n",
       "3     25.423333                     0.0       0.0  ...                    0.0   \n",
       "4     25.700000                     0.0       0.0  ...                    0.0   \n",
       "\n",
       "   Cmotion  QB_dir  QB_dis  QBx_standard  QBy_standard  \\\n",
       "0      0.0    0.00    0.00          0.00      0.000000   \n",
       "1      0.0  276.39    0.03         29.09     24.003333   \n",
       "2      0.0  270.41    0.04         29.06     23.983333   \n",
       "3      0.0  259.93    0.06         29.01     23.943333   \n",
       "4      0.0  255.77    0.04         28.98     23.923333   \n",
       "\n",
       "   QBmotion_after_lineset  QBmotion  motion_after_lineset  motion  \n",
       "0                     0.0       0.0                   0.0     0.0  \n",
       "1                     0.0       0.0                   0.0     0.0  \n",
       "2                     0.0       0.0                   0.0     0.0  \n",
       "3                     0.0       0.0                   0.0     0.0  \n",
       "4                     0.0       0.0                   0.0     0.0  \n",
       "\n",
       "[5 rows x 54 columns]"
      ]
     },
     "execution_count": 14,
     "metadata": {},
     "output_type": "execute_result"
    }
   ],
   "source": [
    "ci_merged['motion_after_lineset']=ci_merged[['Tmotion_after_lineset', 'Gmotion_after_lineset', 'TEmotion_after_lineset',  'FBmotion_after_lineset', 'Cmotion_after_lineset', 'QBmotion_after_lineset']].sum(axis=1)\n",
    "ci_merged['motion']=ci_merged[['Tmotion', 'Gmotion', 'TEmotion',  'FBmotion', 'Cmotion', 'QBmotion']].sum(axis=1)\n",
    "ci_merged.head()"
   ]
  },
  {
   "cell_type": "code",
   "execution_count": 15,
   "metadata": {},
   "outputs": [],
   "source": [
    "\n",
    "def calculate_distance(row):\n",
    "    x1, y1 = row['RBx_standard'], row['RBy_standard']\n",
    "    x2, y2 = row['QBx_standard'], row['QBy_standard']\n",
    "    return np.sqrt((x2 - x1)**2 + (y2 - y1)**2)\n",
    "\n",
    "\n",
    "ci_merged['RBdistance'] = ci_merged.apply(calculate_distance, axis=1)\n",
    "\n",
    "def calculate_distance(row):\n",
    "    x1, y1 = row['Gx_standard'], row['Gy_standard']\n",
    "    x2, y2 = row['QBx_standard'], row['QBy_standard']\n",
    "    return np.sqrt((x2 - x1)**2 + (y2 - y1)**2)\n",
    "ci_merged['Gdistance'] = ci_merged.apply(calculate_distance, axis=1)\n",
    "\n",
    "\n",
    "def calculate_distance(row):\n",
    "    x1, y1 = row['Cx_standard'], row['Cy_standard']\n",
    "    x2, y2 = row['QBx_standard'], row['QBy_standard']\n",
    "    return np.sqrt((x2 - x1)**2 + (y2 - y1)**2)\n",
    "ci_merged['Cdistance'] = ci_merged.apply(calculate_distance, axis=1)\n",
    "def calculate_distance(row):\n",
    "    x1, y1 = row['TEx_standard'], row['TEy_standard']\n",
    "    x2, y2 = row['QBx_standard'], row['QBy_standard']\n",
    "    return np.sqrt((x2 - x1)**2 + (y2 - y1)**2)\n",
    "ci_merged['TEdistance'] = ci_merged.apply(calculate_distance, axis=1)\n",
    "def calculate_distance(row):\n",
    "    x1, y1 = row['Tx_standard'], row['Ty_standard']\n",
    "    x2, y2 = row['QBx_standard'], row['QBy_standard']\n",
    "    return np.sqrt((x2 - x1)**2 + (y2 - y1)**2)\n",
    "ci_merged['Tdistance'] = ci_merged.apply(calculate_distance, axis=1)\n"
   ]
  },
  {
   "cell_type": "code",
   "execution_count": 16,
   "metadata": {},
   "outputs": [],
   "source": [
    "# merge back in\n",
    "\n",
    "db_df = def_df[['gameId','playId','isDropback']].drop_duplicates()\n",
    "ci_pre = ci_merged.merge(db_df,how='left')\n",
    "del(ci_merged)\n",
    "#del(def_df)\n",
    "ci_pre=ci_pre[ci_pre['week']>0]"
   ]
  },
  {
   "cell_type": "code",
   "execution_count": 17,
   "metadata": {},
   "outputs": [
    {
     "data": {
      "text/plain": [
       "9"
      ]
     },
     "execution_count": 17,
     "metadata": {},
     "output_type": "execute_result"
    }
   ],
   "source": [
    "ci_pre.week.max()"
   ]
  },
  {
   "cell_type": "code",
   "execution_count": 18,
   "metadata": {},
   "outputs": [
    {
     "data": {
      "text/plain": [
       "16086.0"
      ]
     },
     "execution_count": 18,
     "metadata": {},
     "output_type": "execute_result"
    }
   ],
   "source": [
    "len(ci_pre)/100"
   ]
  },
  {
   "cell_type": "markdown",
   "metadata": {},
   "source": [
    "### Perform train/test split\n",
    "\n",
    "We integrate week data, then subset based on week 9 holdout:"
   ]
  },
  {
   "cell_type": "code",
   "execution_count": 19,
   "metadata": {},
   "outputs": [],
   "source": [
    "# subset week\n",
    "df_train = ci_pre[(ci_pre['week'] <9.0) ].drop_duplicates()\n",
    "df_test = ci_pre[ci_pre['week'] ==9.0].drop_duplicates()\n",
    "\n",
    "# y = isDropback\n",
    "y_train = df_train['isDropback'].astype(int)\n",
    "y_test = df_test['isDropback'].astype(int)"
   ]
  },
  {
   "cell_type": "code",
   "execution_count": 20,
   "metadata": {},
   "outputs": [
    {
     "data": {
      "text/plain": [
       "14556.0"
      ]
     },
     "execution_count": 20,
     "metadata": {},
     "output_type": "execute_result"
    }
   ],
   "source": [
    "len(df_train)/100"
   ]
  },
  {
   "cell_type": "code",
   "execution_count": 21,
   "metadata": {},
   "outputs": [
    {
     "data": {
      "text/plain": [
       "14556"
      ]
     },
     "execution_count": 21,
     "metadata": {},
     "output_type": "execute_result"
    }
   ],
   "source": [
    "len(df_train[['gameId','playId']].drop_duplicates())"
   ]
  },
  {
   "cell_type": "code",
   "execution_count": 22,
   "metadata": {},
   "outputs": [],
   "source": [
    "df_train.fillna(0, inplace=True)"
   ]
  },
  {
   "cell_type": "code",
   "execution_count": 23,
   "metadata": {},
   "outputs": [
    {
     "data": {
      "text/plain": [
       "55"
      ]
     },
     "execution_count": 23,
     "metadata": {},
     "output_type": "execute_result"
    }
   ],
   "source": [
    "len(df_train.drop(columns=['gameId', 'playId', 'frameId', 'week', 'isDropback']).columns)"
   ]
  },
  {
   "cell_type": "code",
   "execution_count": 24,
   "metadata": {},
   "outputs": [],
   "source": [
    "# define scaler\n",
    "scaler = MinMaxScaler(feature_range=(0, 1))\n",
    "\n",
    "# scale"
   ]
  },
  {
   "cell_type": "code",
   "execution_count": 25,
   "metadata": {},
   "outputs": [],
   "source": [
    "# load original data\n",
    "train_data=pd.read_csv(os.path.join(root_dir, \"data/train_data.csv\"))\n",
    "test_data=pd.read_csv(os.path.join(root_dir, \"data/test_data.csv\"))\n",
    "train_motion_cols=get_motion_cols(train_data.columns)\n",
    "train_momentum_cols=get_momentum_cols(train_data.columns)\n",
    "\n",
    "test_motion_cols=get_motion_cols(test_data.columns)\n",
    "test_momentum_cols=get_momentum_cols(test_data.columns)\n",
    "\n",
    "\n",
    "train_data=create_momentum_index(train_data, train_momentum_cols)\n",
    "test_data=create_momentum_index(test_data, test_momentum_cols)\n",
    "\n",
    "train_data=motion_complexity_score(train_data, test_motion_cols)\n",
    "test_data=motion_complexity_score(test_data, test_motion_cols)\n",
    "final_features=['gameId', 'playId', 'xpass_situational', 'yardsToGo', 'down',  'neg_alignment','absoluteYardlineNumber','time_remaining','quarter',\n",
    " 'neg_Formations',\n",
    " 'off_xpass',\n",
    " 'QBdffy_RB',\n",
    " 'presnap_motion_complexity',\n",
    " 'presnap_momentum',\n",
    " 'receiverAlignment_3x2', \n",
    " 'QBdff_WR']\n",
    "df_train=pd.merge(df_train, train_data[final_features], on=['gameId', 'playId'], how='inner')\n",
    "df_test=pd.merge(df_test, test_data[final_features], on=['gameId', 'playId'], how='inner')\n"
   ]
  },
  {
   "cell_type": "code",
   "execution_count": 42,
   "metadata": {},
   "outputs": [],
   "source": [
    "final_features=[  'RBdistance','Gdistance','TEdistance', 'Tdistance',\n",
    "       'off_xpass', 'TEx_standard', 'TEy_standard', \n",
    "      'RBy_standard',  'yardsToGo', 'down', 'absoluteYardlineNumber','time_remaining', 'Cx_standard',\n",
    "       'Cy_standard', 'neg_Formations',  'QBdffy_RB',\n",
    "       'presnap_motion_complexity','presnap_momentum']"
   ]
  },
  {
   "cell_type": "code",
   "execution_count": 43,
   "metadata": {},
   "outputs": [
    {
     "data": {
      "text/plain": [
       "18"
      ]
     },
     "execution_count": 43,
     "metadata": {},
     "output_type": "execute_result"
    }
   ],
   "source": [
    "len(final_features)"
   ]
  },
  {
   "cell_type": "code",
   "execution_count": 44,
   "metadata": {},
   "outputs": [],
   "source": [
    "X_train=df_train[final_features]\n",
    "X_test=df_test[final_features]\n"
   ]
  },
  {
   "cell_type": "code",
   "execution_count": 45,
   "metadata": {},
   "outputs": [
    {
     "data": {
      "text/plain": [
       "RBdistance                   0\n",
       "Gdistance                    0\n",
       "TEdistance                   0\n",
       "Tdistance                    0\n",
       "off_xpass                    0\n",
       "TEx_standard                 0\n",
       "TEy_standard                 0\n",
       "RBy_standard                 0\n",
       "yardsToGo                    0\n",
       "down                         0\n",
       "absoluteYardlineNumber       0\n",
       "time_remaining               0\n",
       "Cx_standard                  0\n",
       "Cy_standard                  0\n",
       "neg_Formations               0\n",
       "QBdffy_RB                    0\n",
       "presnap_motion_complexity    0\n",
       "presnap_momentum             0\n",
       "dtype: int64"
      ]
     },
     "execution_count": 45,
     "metadata": {},
     "output_type": "execute_result"
    }
   ],
   "source": [
    "X_test.isna().sum()"
   ]
  },
  {
   "cell_type": "code",
   "execution_count": 46,
   "metadata": {},
   "outputs": [
    {
     "name": "stderr",
     "output_type": "stream",
     "text": [
      "Training Folds: 100%|██████████| 5/5 [00:17<00:00,  3.45s/it]"
     ]
    },
    {
     "name": "stdout",
     "output_type": "stream",
     "text": [
      "Mean Train AUC --> 0.8008\n",
      "Mean Validation AUC ---> 0.8001\n",
      "Mean Train Accuracy --> 0.8159\n",
      "Mean Validation Accuracy ---> 0.8153\n"
     ]
    },
    {
     "name": "stderr",
     "output_type": "stream",
     "text": [
      "\n"
     ]
    },
    {
     "data": {
      "image/png": "[encoded data removed]",
      "text/plain": [
       "<Figure size 640x480 with 2 Axes>"
      ]
     },
     "metadata": {},
     "output_type": "display_data"
    }
   ],
   "source": [
    "#lgbm classifier\n",
    "scaler = MinMaxScaler(feature_range=(0, 1))\n",
    "pipeline=Pipeline([('tr', scaler), ('lgbm', LGBMClassifier(verbosity=-1))], verbose = True)\n",
    "lgb = LGBMClassifier(verbosity=-1,seed=42).fit(X_train,y_train)\n",
    "TrainML(pipeline,X_train, y_train,5,SEED=42)"
   ]
  },
  {
   "cell_type": "code",
   "execution_count": 47,
   "metadata": {},
   "outputs": [
    {
     "name": "stdout",
     "output_type": "stream",
     "text": [
      "[Pipeline] ................ (step 1 of 2) Processing tr, total=   0.3s\n",
      "[Pipeline] .............. (step 2 of 2) Processing lgbm, total=   3.0s\n"
     ]
    }
   ],
   "source": [
    "pipeline.fit(X_train, y_train)\n",
    "y_preds=pipeline.predict(X_test)\n",
    "y_prob=pipeline.predict_proba(X_test)[:,1]"
   ]
  },
  {
   "cell_type": "code",
   "execution_count": 48,
   "metadata": {},
   "outputs": [
    {
     "name": "stderr",
     "output_type": "stream",
     "text": [
      "c:\\ProgramData\\Anaconda3\\envs\\bdb2025-env\\lib\\site-packages\\shap\\explainers\\_tree.py:448: UserWarning: LightGBM binary classifier with TreeExplainer shap values output has changed to a list of ndarray\n",
      "  warnings.warn('LightGBM binary classifier with TreeExplainer shap values output has changed to a list of ndarray')\n"
     ]
    },
    {
     "data": {
      "image/png": "[encoded data removed]",
      "text/plain": [
       "<Figure size 800x870 with 1 Axes>"
      ]
     },
     "metadata": {},
     "output_type": "display_data"
    }
   ],
   "source": [
    "import shap \n",
    "shap_values = shap.TreeExplainer(lgb).shap_values(X_test)\n",
    "shap.summary_plot(shap_values, X_train, plot_type=\"bar\")\n",
    "feature_names = final_features\n",
    "\n",
    "\n",
    "lgbm_resultX = pd.DataFrame(shap_values, columns = feature_names)\n",
    "\n",
    "vals = np.abs(lgbm_resultX.values).mean(0)\n",
    "\n",
    "shap_importance = pd.DataFrame(list(zip(feature_names, vals)),\n",
    "                                  columns=['col_name','feature_importance_vals'])\n",
    "shap_importance.sort_values(by=['feature_importance_vals'],\n",
    "                               ascending=False, inplace=True)\n"
   ]
  },
  {
   "cell_type": "code",
   "execution_count": 49,
   "metadata": {},
   "outputs": [
    {
     "data": {
      "text/plain": [
       "array([0.55406559, 0.56149029, 0.56149029, ..., 0.56785028, 0.56785028,\n",
       "       0.56785028])"
      ]
     },
     "execution_count": 49,
     "metadata": {},
     "output_type": "execute_result"
    }
   ],
   "source": [
    "y_prob"
   ]
  },
  {
   "cell_type": "code",
   "execution_count": 50,
   "metadata": {},
   "outputs": [],
   "source": [
    "\n",
    "reshaped_data = y_preds.reshape((int(len(y_preds)/100), 100, ))\n"
   ]
  },
  {
   "cell_type": "code",
   "execution_count": 51,
   "metadata": {},
   "outputs": [
    {
     "data": {
      "text/plain": [
       "153000"
      ]
     },
     "execution_count": 51,
     "metadata": {},
     "output_type": "execute_result"
    }
   ],
   "source": [
    "len(y_preds)"
   ]
  },
  {
   "cell_type": "code",
   "execution_count": 58,
   "metadata": {},
   "outputs": [],
   "source": [
    "predictions=[]\n",
    "for i in reshaped_data:\n",
    "    predictions.append(i.mean().round(0).astype(int))\n"
   ]
  },
  {
   "cell_type": "code",
   "execution_count": 59,
   "metadata": {},
   "outputs": [],
   "source": [
    "y_true=test_data['pass']"
   ]
  },
  {
   "cell_type": "code",
   "execution_count": 60,
   "metadata": {},
   "outputs": [
    {
     "data": {
      "text/plain": [
       "0.818954248366013"
      ]
     },
     "execution_count": 60,
     "metadata": {},
     "output_type": "execute_result"
    }
   ],
   "source": [
    "accuracy_score(y_true, predictions)"
   ]
  },
  {
   "cell_type": "code",
   "execution_count": 61,
   "metadata": {},
   "outputs": [],
   "source": [
    "#df_test[df_test['xpass_situational']<.2]"
   ]
  },
  {
   "cell_type": "code",
   "execution_count": 62,
   "metadata": {},
   "outputs": [],
   "source": [
    "df_test['predictions'] = y_prob"
   ]
  },
  {
   "cell_type": "code",
   "execution_count": 63,
   "metadata": {},
   "outputs": [
    {
     "data": {
      "image/png": "[encoded data removed]",
      "text/plain": [
       "<Figure size 500x300 with 1 Axes>"
      ]
     },
     "metadata": {},
     "output_type": "display_data"
    }
   ],
   "source": [
    "example=df_test[(df_test['gameId']==2022110600)& (df_test['playId']==326)][['frameId', 'predictions']]\n",
    "plt.figure(figsize=(5,3))\n",
    "plt.title('Pass probability change frame-over-frame (single-feature)')\n",
    "plt.xlabel('Frame')\n",
    "plt.ylabel('Probability')\n",
    "plt.plot(example['frameId'],example['predictions'])\n",
    "plt.ylim(0, 1)\n",
    "plt.xlim(0,100)\n",
    "plt.show()"
   ]
  },
  {
   "cell_type": "code",
   "execution_count": null,
   "metadata": {},
   "outputs": [],
   "source": []
  },
  {
   "cell_type": "code",
   "execution_count": null,
   "metadata": {},
   "outputs": [],
   "source": []
  }
 ],
 "metadata": {
  "kernelspec": {
   "display_name": "bdb2025-env",
   "language": "python",
   "name": "python3"
  },
  "language_info": {
   "codemirror_mode": {
    "name": "ipython",
    "version": 3
   },
   "file_extension": ".py",
   "mimetype": "text/x-python",
   "name": "python",
   "nbconvert_exporter": "python",
   "pygments_lexer": "ipython3",
   "version": "3.9.20"
  }
 },
 "nbformat": 4,
 "nbformat_minor": 2
}
