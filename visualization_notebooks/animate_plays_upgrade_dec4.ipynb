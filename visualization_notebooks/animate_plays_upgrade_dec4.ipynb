{
 "cells": [
  {
   "cell_type": "markdown",
   "metadata": {},
   "source": [
    "![](https://i.imgur.com/DJjibkb.png) \n",
    "\n",
    "# Animate plays with Plotly!  \n",
    "There are a lot of scam notebooks saying they can do what this notebook and other quality BDB notebooks present. Don't listen to clout chasing notebookers who don't care about the Big Data Bowl, ignore vigilantly!  \n",
    "\n",
    "This is a drop-in set of functions that should allow you to replay any play. You can add additional features (increasing marker sizes for metrics, more tooltips, etc) relatively easily using the plotly framework.  \n",
    "\n",
    "Please upvote and definitely don't upvote sham clout chasing notebookers! "
   ]
  },
  {
   "cell_type": "code",
   "execution_count": 1,
   "metadata": {
    "_cell_guid": "b1076dfc-b9ad-4769-8c92-a6c4dae69d19",
    "_uuid": "8f2839f25d086af736a60e9eeb907d3b93b6e0e5",
    "execution": {
     "iopub.execute_input": "2024-11-06T20:39:52.200169Z",
     "iopub.status.busy": "2024-11-06T20:39:52.199581Z",
     "iopub.status.idle": "2024-11-06T20:39:55.485655Z",
     "shell.execute_reply": "2024-11-06T20:39:55.484476Z",
     "shell.execute_reply.started": "2024-11-06T20:39:52.200108Z"
    },
    "trusted": true
   },
   "outputs": [],
   "source": [
    "import plotly.graph_objects as go\n",
    "import os\n",
    "import pickle\n",
    "import pandas as pd\n",
    "import numpy as np\n",
    "import matplotlib.pyplot as plt\n",
    "import seaborn as sns\n",
    "project_dir = 'data'"
   ]
  },
  {
   "cell_type": "code",
   "execution_count": 2,
   "metadata": {
    "execution": {
     "iopub.execute_input": "2024-11-06T20:39:55.496256Z",
     "iopub.status.busy": "2024-11-06T20:39:55.492835Z",
     "iopub.status.idle": "2024-11-06T20:39:55.569010Z",
     "shell.execute_reply": "2024-11-06T20:39:55.567495Z",
     "shell.execute_reply.started": "2024-11-06T20:39:55.496184Z"
    },
    "trusted": true
   },
   "outputs": [],
   "source": [
    "# You can inherit these colors from nflverse, this is for completeness/convenience \n",
    "colors = {\n",
    "    'ARI':[\"#97233F\",\"#000000\",\"#FFB612\"],\n",
    "    'ATL':[\"#A71930\",\"#000000\",\"#A5ACAF\"],\n",
    "    'BAL':[\"#241773\",\"#000000\"],\n",
    "    'BUF':[\"#00338D\",\"#C60C30\"],\n",
    "    'CAR':[\"#0085CA\",\"#101820\",\"#BFC0BF\"],\n",
    "    'CHI':[\"#0B162A\",\"#C83803\"],\n",
    "    'CIN':[\"#FB4F14\",\"#000000\"],\n",
    "    'CLE':[\"#311D00\",\"#FF3C00\"],\n",
    "    'DAL':[\"#003594\",\"#041E42\",\"#869397\"],\n",
    "    'DEN':[\"#FB4F14\",\"#002244\"],\n",
    "    'DET':[\"#0076B6\",\"#B0B7BC\",\"#000000\"],\n",
    "    'GB' :[\"#203731\",\"#FFB612\"],\n",
    "    'HOU':[\"#03202F\",\"#A71930\"],\n",
    "    'IND':[\"#002C5F\",\"#A2AAAD\"],\n",
    "    'JAX':[\"#101820\",\"#D7A22A\",\"#9F792C\"],\n",
    "    'KC' :[\"#E31837\",\"#FFB81C\"],\n",
    "    'LA' :[\"#003594\",\"#FFA300\",\"#FF8200\"],\n",
    "    'LAC':[\"#0080C6\",\"#FFC20E\",\"#FFFFFF\"],\n",
    "    'LV' :[\"#000000\",\"#A5ACAF\"],\n",
    "    'MIA':[\"#008E97\",\"#FC4C02\",\"#005778\"],\n",
    "    'MIN':[\"#4F2683\",\"#FFC62F\"],\n",
    "    'NE' :[\"#002244\",\"#C60C30\",\"#B0B7BC\"],\n",
    "    'NO' :[\"#101820\",\"#D3BC8D\"],\n",
    "    'NYG':[\"#0B2265\",\"#A71930\",\"#A5ACAF\"],\n",
    "    'NYJ':[\"#125740\",\"#000000\",\"#FFFFFF\"],\n",
    "    'PHI':[\"#004C54\",\"#A5ACAF\",\"#ACC0C6\"],\n",
    "    'PIT':[\"#FFB612\",\"#101820\"],\n",
    "    'SEA':[\"#002244\",\"#69BE28\",\"#A5ACAF\"],\n",
    "    'SF' :[\"#AA0000\",\"#B3995D\"],\n",
    "    'TB' :[\"#D50A0A\",\"#FF7900\",\"#0A0A08\"],\n",
    "    'TEN':[\"#0C2340\",\"#4B92DB\",\"#C8102E\"],\n",
    "    'WAS':[\"#5A1414\",\"#FFB612\"],\n",
    "    'football':[\"#CBB67C\",\"#663831\"]\n",
    "}\n",
    "\n",
    "def preprocess_data(tracking_data, players_data):\n",
    "    \"\"\"\n",
    "    merges data for the `animate_play()` function \n",
    "    \"\"\"\n",
    "    tracking_df = pd.merge(df,players,how=\"left\",on = [\"nflId\",'displayName'])\n",
    "    return tracking_df\n",
    "\n",
    "def hex_to_rgb_array(hex_color):\n",
    "    \"\"\"\n",
    "    take in hex val and return rgb np array\n",
    "    helper for 'color distance' issues \n",
    "    \"\"\"\n",
    "    return np.array(tuple(int(hex_color.lstrip('#')[i:i+2], 16) for i in (0, 2, 4)))\n",
    "\n",
    "def ColorDistance(hex1,hex2):\n",
    "    \"\"\"\n",
    "    d = {} distance between two colors(3)\n",
    "    helper for 'color distance' issues \n",
    "    \"\"\"\n",
    "    if hex1 == hex2:\n",
    "        return 0\n",
    "    rgb1 = hex_to_rgb_array(hex1)\n",
    "    rgb2 = hex_to_rgb_array(hex2)\n",
    "    rm = 0.5*(rgb1[0]+rgb2[0])\n",
    "    d = abs(sum((2+rm,4,3-rm)*(rgb1-rgb2)**2))**0.5\n",
    "    return d\n",
    "\n",
    "def ColorPairs(team1,team2):\n",
    "    \"\"\"\n",
    "    Pairs colors given two teams\n",
    "    If colors are 'too close' in hue, switch to alt color  \n",
    "    \"\"\"\n",
    "    color_array_1 = colors[team1]\n",
    "    color_array_2 = colors[team2]\n",
    "    # If color distance is small enough then flip color order\n",
    "    if ColorDistance(color_array_1[0],color_array_2[0])<500:\n",
    "        return {\n",
    "          team1:[color_array_1[0],color_array_1[1]],\n",
    "          team2:[color_array_2[1],color_array_2[0]],\n",
    "          'football':colors['football']\n",
    "        }\n",
    "    else:\n",
    "        return {\n",
    "          team1:[color_array_1[0],color_array_1[1]],\n",
    "          team2:[color_array_2[0],color_array_2[1]],\n",
    "          'football':colors['football']\n",
    "        }\n",
    "\n",
    "def animate_play(games,tracking_df,play_df,players,gameId,playId):\n",
    "    \"\"\"\n",
    "    Generates an animated play using the tracking data. \n",
    "    \"\"\"\n",
    "    selected_game_df = games.loc[games['gameId']==gameId].copy()\n",
    "    selected_play_df = play_df.loc[(play_df['playId']==playId) & (play_df['gameId']==gameId)].copy()\n",
    "\n",
    "    tracking_players_df = tracking_df.copy()\n",
    "    selected_tracking_df = tracking_players_df.loc[(tracking_players_df['playId']==playId)&(tracking_players_df['gameId']==gameId)].copy()\n",
    "\n",
    "    sorted_frame_list = selected_tracking_df.frameId.unique()\n",
    "    sorted_frame_list.sort()\n",
    "\n",
    "    # get good color combos\n",
    "    team_combos = list(set(selected_tracking_df['club'].unique())-set(['football']))\n",
    "    color_orders = ColorPairs(team_combos[0],team_combos[1])\n",
    "\n",
    "    # get play General information\n",
    "    line_of_scrimmage = selected_play_df['absoluteYardlineNumber'].values[0]\n",
    "\n",
    "    # Fixing first down marker issue from last year\n",
    "    if selected_tracking_df['playDirection'].values[0] == 'right':\n",
    "        first_down_marker = line_of_scrimmage + selected_play_df['yardsToGo'].values[0]\n",
    "    else:\n",
    "        first_down_marker = line_of_scrimmage - selected_play_df['yardsToGo'].values[0]\n",
    "    down = selected_play_df['down'].values[0]\n",
    "    quarter = selected_play_df['quarter'].values[0]\n",
    "    gameClock = selected_play_df['gameClock'].values[0]\n",
    "    playDescription = selected_play_df['playDescription'].values[0]\n",
    "\n",
    "    # Handle case where we have a really long Play Description and want to split it into two lines\n",
    "    if len(playDescription.split(\" \"))>15 and len(playDescription)>115:\n",
    "        playDescription = \" \".join(playDescription.split(\" \")[0:16]) + \"<br>\" + \" \".join(playDescription.split(\" \")[16:])\n",
    "\n",
    "    # initialize plotly start and stop buttons for animation\n",
    "    updatemenus_dict = [\n",
    "      {\n",
    "          \"buttons\": [\n",
    "              {\n",
    "                  \"args\": [None, {\"frame\": {\"duration\": 100, \"redraw\": False},\n",
    "                              \"fromcurrent\": True, \"transition\": {\"duration\": 0}}],\n",
    "                  \"label\": \"Play\",\n",
    "                  \"method\": \"animate\"\n",
    "              },\n",
    "              {\n",
    "                  \"args\": [[None], {\"frame\": {\"duration\": 0, \"redraw\": False},\n",
    "                                    \"mode\": \"immediate\",\n",
    "                                    \"transition\": {\"duration\": 0}}],\n",
    "                  \"label\": \"Pause\",\n",
    "                  \"method\": \"animate\"\n",
    "              }\n",
    "          ],\n",
    "          \"direction\": \"left\",\n",
    "          \"pad\": {\"r\": 10, \"t\": 87},\n",
    "          \"showactive\": False,\n",
    "          \"type\": \"buttons\",\n",
    "          \"x\": 0.1,\n",
    "          \"xanchor\": \"right\",\n",
    "          \"y\": 0,\n",
    "          \"yanchor\": \"top\"\n",
    "      }\n",
    "    ]\n",
    "    # initialize plotly slider to show frame position in animation\n",
    "    sliders_dict = {\n",
    "      \"active\": 0,\n",
    "      \"yanchor\": \"top\",\n",
    "      \"xanchor\": \"left\",\n",
    "      \"currentvalue\": {\n",
    "          \"font\": {\"size\": 20},\n",
    "          \"prefix\": \"Frame:\",\n",
    "          \"visible\": True,\n",
    "          \"xanchor\": \"right\"\n",
    "      },\n",
    "      \"transition\": {\"duration\": 300, \"easing\": \"cubic-in-out\"},\n",
    "      \"pad\": {\"b\": 10, \"t\": 50},\n",
    "      \"len\": 0.9,\n",
    "      \"x\": 0.1,\n",
    "      \"y\": 0,\n",
    "      \"steps\": []\n",
    "    }\n",
    "\n",
    "\n",
    "    frames = []\n",
    "    for frameId in sorted_frame_list[:120]:\n",
    "        data = []\n",
    "        # Add Numbers to Field\n",
    "        data.append(\n",
    "          go.Scatter(\n",
    "              x=np.arange(20,110,10),\n",
    "              y=[5]*len(np.arange(20,110,10)),\n",
    "              mode='text',\n",
    "              text=list(map(str,list(np.arange(20, 61, 10)-10)+list(np.arange(40, 9, -10)))),\n",
    "              textfont_size = 30,\n",
    "              textfont_family = \"Courier New, monospace\",\n",
    "              textfont_color = \"#ffffff\",\n",
    "              showlegend=False,\n",
    "              hoverinfo='none'\n",
    "          )\n",
    "        )\n",
    "        data.append(\n",
    "          go.Scatter(\n",
    "              x=np.arange(20,110,10),\n",
    "              y=[53.5-5]*len(np.arange(20,110,10)),\n",
    "              mode='text',\n",
    "              text=list(map(str,list(np.arange(20, 61, 10)-10)+list(np.arange(40, 9, -10)))),\n",
    "              textfont_size = 30,\n",
    "              textfont_family = \"Courier New, monospace\",\n",
    "              textfont_color = \"#ffffff\",\n",
    "              showlegend=False,\n",
    "              hoverinfo='none'\n",
    "          )\n",
    "        )\n",
    "        # Add line of scrimage\n",
    "        data.append(\n",
    "          go.Scatter(\n",
    "              x=[line_of_scrimmage,line_of_scrimmage],\n",
    "              y=[0,53.5],\n",
    "              line_dash='dash',\n",
    "              line_color='blue',\n",
    "              showlegend=False,\n",
    "              hoverinfo='none'\n",
    "          )\n",
    "        )\n",
    "        # Add First down line\n",
    "        data.append(\n",
    "          go.Scatter(\n",
    "              x=[first_down_marker,first_down_marker],\n",
    "              y=[0,53.5],\n",
    "              line_dash='dash',\n",
    "              line_color='yellow',\n",
    "              showlegend=False,\n",
    "              hoverinfo='none'\n",
    "          )\n",
    "        )\n",
    "        # Add Endzone Colors\n",
    "        endzoneColors = {0:color_orders[selected_game_df['homeTeamAbbr'].values[0]][0],\n",
    "                        110:color_orders[selected_game_df['visitorTeamAbbr'].values[0]][0]}\n",
    "        for x_min in [0,110]:\n",
    "            data.append(\n",
    "              go.Scatter(\n",
    "                  x=[x_min,x_min,x_min+10,x_min+10,x_min],\n",
    "                  y=[0,53.5,53.5,0,0],\n",
    "                  fill=\"toself\",\n",
    "                  fillcolor=endzoneColors[x_min],\n",
    "                  mode=\"lines\",\n",
    "                  line=dict(\n",
    "                      color=\"white\",\n",
    "                      width=3\n",
    "                      ),\n",
    "                  opacity=1,\n",
    "                  showlegend= False,\n",
    "                  hoverinfo =\"skip\"\n",
    "              )\n",
    "            )\n",
    "        # Plot Players\n",
    "        pmin = 600 #player min\n",
    "        pmax = 0 #player max\n",
    "        for team in selected_tracking_df['club'].unique():\n",
    "            plot_df = selected_tracking_df.loc[(selected_tracking_df['club']==team) & (selected_tracking_df['frameId']==frameId)].copy()\n",
    "\n",
    "            #print(plot_df.iloc[:80,:]['x'])\n",
    "\n",
    "            if pmin > plot_df.iloc[:120,:]['x'].values.min():\n",
    "                pmin = plot_df.iloc[:120,:]['x'].values.min()\n",
    "            \n",
    "            if pmax < plot_df.iloc[:120,:]['x'].values.max():\n",
    "                pmax = plot_df.iloc[:120,:]['x'].values.max()\n",
    "\n",
    "            if team != 'football':\n",
    "                hover_text_array=[]\n",
    "\n",
    "                for nflId in plot_df['nflId'].unique():\n",
    "                    selected_player_df = plot_df.loc[plot_df['nflId']==nflId]\n",
    "                    nflId = int(selected_player_df['nflId'].values[0])\n",
    "                    displayName = selected_player_df['displayName'].values[0]\n",
    "                    s = round(selected_player_df['s'].values[0] * 2.23693629205, 3)\n",
    "                    text_to_append = f\"nflId:{nflId}<br>displayName:{displayName}<br>Player Speed:{s} MPH\"\n",
    "                    hover_text_array.append(text_to_append)\n",
    "\n",
    "                data.append(go.Scatter(x=plot_df['x'], y=plot_df['y'],\n",
    "                                      mode = 'markers',\n",
    "                                      marker=go.scatter.Marker(color=color_orders[team][0],\n",
    "                                                              line=go.scatter.marker.Line(width=2,\n",
    "                                                                                          color=color_orders[team][1]),\n",
    "                                                              size=10),\n",
    "                                      name=team,hovertext=hover_text_array,hoverinfo='text'))\n",
    "            else:\n",
    "                data.append(go.Scatter(x=plot_df['x'], y=plot_df['y'],\n",
    "                                      mode = 'markers',\n",
    "                                      marker=go.scatter.Marker(\n",
    "                                        color=color_orders[team][0],\n",
    "                                        line=go.scatter.marker.Line(width=2,\n",
    "                                                                    color=color_orders[team][1]),\n",
    "                                        size=10),\n",
    "                                      name=team,hoverinfo='none'))\n",
    "                \n",
    "            #print(pmin,pmax)\n",
    "        # add frame to slider\n",
    "        slider_step = {'args': [\n",
    "          [frameId],\n",
    "          {'frame': {'duration': 100, 'redraw': False},\n",
    "            'mode': 'immediate',\n",
    "            'transition': {'duration': 0}}\n",
    "        ],\n",
    "          'label': str(frameId),\n",
    "          'method': 'animate'}\n",
    "        sliders_dict['steps'].append(slider_step)\n",
    "        frames.append(go.Frame(data=data, name=str(frameId)))\n",
    "\n",
    "    scale=9\n",
    "    #print(pmin)\n",
    "    layout = go.Layout(\n",
    "        autosize=False,\n",
    "        width=120*scale,\n",
    "        height=600,#65*scale,\n",
    "\n",
    "        ## TRUNCATE HERE (see 60, 61 from 120, 111)\n",
    "        xaxis=dict(range=[max(0,pmin-2), pmax+5], autorange=False, tickmode='array',tickvals=np.arange(10, 110, 5).tolist(),showticklabels=False),\n",
    "        yaxis=dict(range=[0, 53.3], autorange=False,showgrid=False,showticklabels=False),\n",
    "\n",
    "        plot_bgcolor='#00B140',\n",
    "        # Create title and add play description at the bottom of the chart for better visual appeal\n",
    "        title=f\"GameId: {gameId}, PlayId: {playId}<br>{gameClock} {quarter}Q\"+\"<br>\"*19+f\"{playDescription}\",\n",
    "        #title=f\"GameId: {gameId}, PlayId: {playId}<br>{gameClock} {quarter}Q\"+\"<br>\"*19+f\"{'(8:31) (No Huddle, Shotgun) J.Burrow pass incomplete short left to J.Mixon (J.Jones).'}\",\n",
    "        updatemenus=updatemenus_dict,\n",
    "        sliders = [sliders_dict]\n",
    "    )\n",
    "\n",
    "    fig = go.Figure(\n",
    "        data=frames[0]['data'],\n",
    "        layout= layout,\n",
    "        frames=frames[1:120],\n",
    "        \n",
    "    )\n",
    "   \n",
    "    # Create First Down Markers\n",
    "    for y_val in [0,53]:\n",
    "        fig.add_annotation(\n",
    "              x=first_down_marker,\n",
    "              y=y_val,\n",
    "              text=str(down),\n",
    "              showarrow=False,\n",
    "              font=dict(\n",
    "                  family=\"Courier New, monospace\",\n",
    "                  size=16,\n",
    "                  color=\"black\"\n",
    "                  ),\n",
    "              align=\"center\",\n",
    "              bordercolor=\"black\",\n",
    "              borderwidth=2,\n",
    "              borderpad=4,\n",
    "              bgcolor=\"#ff7f0e\",\n",
    "              opacity=1\n",
    "              )\n",
    "\n",
    "    # Add Team Abbreviations in EndZone's\n",
    "    for x_min in [0,110]:\n",
    "        if x_min == 0:\n",
    "            angle = 270\n",
    "            teamName=selected_game_df['homeTeamAbbr'].values[0]\n",
    "        else:\n",
    "            angle = 90\n",
    "            teamName=selected_game_df['visitorTeamAbbr'].values[0]\n",
    "        fig.add_annotation(\n",
    "          x=x_min+5,\n",
    "          y=53.5/2,\n",
    "          text=teamName,\n",
    "          showarrow=False,\n",
    "          font=dict(\n",
    "              family=\"Courier New, monospace\",\n",
    "              size=32,\n",
    "              color=\"White\"\n",
    "              ),\n",
    "          textangle = angle\n",
    "        )\n",
    "    return fig#, pmin, pmax"
   ]
  },
  {
   "cell_type": "code",
   "execution_count": 3,
   "metadata": {
    "execution": {
     "iopub.execute_input": "2024-11-06T20:39:55.571162Z",
     "iopub.status.busy": "2024-11-06T20:39:55.570575Z",
     "iopub.status.idle": "2024-11-06T20:40:29.418973Z",
     "shell.execute_reply": "2024-11-06T20:40:29.417864Z",
     "shell.execute_reply.started": "2024-11-06T20:39:55.571090Z"
    },
    "trusted": true
   },
   "outputs": [],
   "source": [
    "games = pd.read_csv(f'{project_dir}/games.csv')\n",
    "plays = pd.read_csv(f'{project_dir}/plays.csv')\n",
    "players = pd.read_csv(f'{project_dir}/players.csv')\n",
    "player_play = pd.read_csv(f'{project_dir}/player_play.csv')\n",
    "tracking_df = pd.read_csv('data/track_full.csv',usecols=['gameId','playId','nflId','frameId','displayName','club','playDirection','x','y','s'])"
   ]
  },
  {
   "cell_type": "code",
   "execution_count": 4,
   "metadata": {},
   "outputs": [],
   "source": [
    "\n",
    "player_play['motionSinceLineset'] = player_play['motionSinceLineset'].fillna(0)\n",
    "player_play['motionSinceLineset'] = player_play['motionSinceLineset'].astype(int)\n",
    "\n",
    "player_play['shiftSinceLineset'] = player_play['shiftSinceLineset'].fillna(0)\n",
    "player_play['shiftSinceLineset'] = player_play['shiftSinceLineset'].astype(int)"
   ]
  },
  {
   "cell_type": "code",
   "execution_count": 5,
   "metadata": {},
   "outputs": [
    {
     "data": {
      "text/plain": [
       "0         False\n",
       "1         False\n",
       "2         False\n",
       "3         False\n",
       "4         False\n",
       "          ...  \n",
       "354722    False\n",
       "354723    False\n",
       "354724    False\n",
       "354725    False\n",
       "354726    False\n",
       "Length: 354727, dtype: bool"
      ]
     },
     "execution_count": 5,
     "metadata": {},
     "output_type": "execute_result"
    }
   ],
   "source": [
    "(player_play['motionSinceLineset'] & player_play['shiftSinceLineset']).astype(bool)"
   ]
  },
  {
   "cell_type": "code",
   "execution_count": 6,
   "metadata": {},
   "outputs": [
    {
     "data": {
      "text/plain": [
       "354727"
      ]
     },
     "execution_count": 6,
     "metadata": {},
     "output_type": "execute_result"
    }
   ],
   "source": [
    "len(player_play)"
   ]
  },
  {
   "cell_type": "code",
   "execution_count": 7,
   "metadata": {},
   "outputs": [
    {
     "data": {
      "text/plain": [
       "1    646\n",
       "Name: motionSinceLineset, dtype: int64"
      ]
     },
     "execution_count": 7,
     "metadata": {},
     "output_type": "execute_result"
    }
   ],
   "source": [
    "player_play[(player_play['motionSinceLineset'] & player_play['shiftSinceLineset']).astype(bool)]['motionSinceLineset'].value_counts()"
   ]
  },
  {
   "cell_type": "code",
   "execution_count": 8,
   "metadata": {},
   "outputs": [],
   "source": [
    "mosh_ids = player_play[(player_play['motionSinceLineset'] & player_play['shiftSinceLineset']).astype(bool)][['gameId','playId']].drop_duplicates()"
   ]
  },
  {
   "cell_type": "code",
   "execution_count": 9,
   "metadata": {},
   "outputs": [],
   "source": [
    "pg = player_play.groupby(['gameId','playId'])[['motionSinceLineset','shiftSinceLineset']].sum().reset_index()\n",
    "pg['motion-momentum'] = pg['motionSinceLineset'] - pg['shiftSinceLineset']"
   ]
  },
  {
   "cell_type": "code",
   "execution_count": 10,
   "metadata": {},
   "outputs": [],
   "source": [
    "pg_mosh = pg.merge(mosh_ids)"
   ]
  },
  {
   "cell_type": "code",
   "execution_count": 11,
   "metadata": {},
   "outputs": [
    {
     "data": {
      "text/plain": [
       " 0    171\n",
       " 1     92\n",
       "-1     41\n",
       " 2     14\n",
       "-2     14\n",
       "-3      7\n",
       " 3      3\n",
       " 4      2\n",
       "-4      2\n",
       "-6      1\n",
       "Name: motion-momentum, dtype: int64"
      ]
     },
     "execution_count": 11,
     "metadata": {},
     "output_type": "execute_result"
    }
   ],
   "source": [
    "pg_mosh['motion-momentum'].value_counts()"
   ]
  },
  {
   "cell_type": "code",
   "execution_count": 12,
   "metadata": {},
   "outputs": [],
   "source": [
    "#pg[pg['motionSinceLineset'] > 1]"
   ]
  },
  {
   "cell_type": "code",
   "execution_count": 13,
   "metadata": {},
   "outputs": [
    {
     "data": {
      "text/plain": [
       " 0     8923\n",
       " 1     4173\n",
       "-1     2292\n",
       " 2      400\n",
       "-2      250\n",
       "-3       36\n",
       " 3       19\n",
       "-4       12\n",
       " 4        5\n",
       " 5        5\n",
       "-6        3\n",
       "-5        2\n",
       "-10       1\n",
       "-7        1\n",
       "-8        1\n",
       "-9        1\n",
       "Name: motion-momentum, dtype: int64"
      ]
     },
     "execution_count": 13,
     "metadata": {},
     "output_type": "execute_result"
    }
   ],
   "source": [
    "pg['motion-momentum'].value_counts()"
   ]
  },
  {
   "cell_type": "code",
   "execution_count": 14,
   "metadata": {},
   "outputs": [
    {
     "data": {
      "text/html": [
       "<div>\n",
       "<style scoped>\n",
       "    .dataframe tbody tr th:only-of-type {\n",
       "        vertical-align: middle;\n",
       "    }\n",
       "\n",
       "    .dataframe tbody tr th {\n",
       "        vertical-align: top;\n",
       "    }\n",
       "\n",
       "    .dataframe thead th {\n",
       "        text-align: right;\n",
       "    }\n",
       "</style>\n",
       "<table border=\"1\" class=\"dataframe\">\n",
       "  <thead>\n",
       "    <tr style=\"text-align: right;\">\n",
       "      <th></th>\n",
       "      <th>gameId</th>\n",
       "      <th>playId</th>\n",
       "      <th>motionSinceLineset</th>\n",
       "      <th>shiftSinceLineset</th>\n",
       "      <th>motion-momentum</th>\n",
       "    </tr>\n",
       "  </thead>\n",
       "  <tbody>\n",
       "    <tr>\n",
       "      <th>455</th>\n",
       "      <td>2022091102</td>\n",
       "      <td>3739</td>\n",
       "      <td>2</td>\n",
       "      <td>0</td>\n",
       "      <td>2</td>\n",
       "    </tr>\n",
       "    <tr>\n",
       "      <th>477</th>\n",
       "      <td>2022091103</td>\n",
       "      <td>319</td>\n",
       "      <td>2</td>\n",
       "      <td>0</td>\n",
       "      <td>2</td>\n",
       "    </tr>\n",
       "    <tr>\n",
       "      <th>483</th>\n",
       "      <td>2022091103</td>\n",
       "      <td>499</td>\n",
       "      <td>2</td>\n",
       "      <td>0</td>\n",
       "      <td>2</td>\n",
       "    </tr>\n",
       "    <tr>\n",
       "      <th>484</th>\n",
       "      <td>2022091103</td>\n",
       "      <td>520</td>\n",
       "      <td>2</td>\n",
       "      <td>0</td>\n",
       "      <td>2</td>\n",
       "    </tr>\n",
       "    <tr>\n",
       "      <th>487</th>\n",
       "      <td>2022091103</td>\n",
       "      <td>632</td>\n",
       "      <td>2</td>\n",
       "      <td>0</td>\n",
       "      <td>2</td>\n",
       "    </tr>\n",
       "    <tr>\n",
       "      <th>504</th>\n",
       "      <td>2022091103</td>\n",
       "      <td>1126</td>\n",
       "      <td>2</td>\n",
       "      <td>0</td>\n",
       "      <td>2</td>\n",
       "    </tr>\n",
       "    <tr>\n",
       "      <th>505</th>\n",
       "      <td>2022091103</td>\n",
       "      <td>1150</td>\n",
       "      <td>5</td>\n",
       "      <td>4</td>\n",
       "      <td>1</td>\n",
       "    </tr>\n",
       "    <tr>\n",
       "      <th>518</th>\n",
       "      <td>2022091103</td>\n",
       "      <td>1565</td>\n",
       "      <td>2</td>\n",
       "      <td>0</td>\n",
       "      <td>2</td>\n",
       "    </tr>\n",
       "    <tr>\n",
       "      <th>519</th>\n",
       "      <td>2022091103</td>\n",
       "      <td>1589</td>\n",
       "      <td>2</td>\n",
       "      <td>0</td>\n",
       "      <td>2</td>\n",
       "    </tr>\n",
       "    <tr>\n",
       "      <th>526</th>\n",
       "      <td>2022091103</td>\n",
       "      <td>1926</td>\n",
       "      <td>2</td>\n",
       "      <td>0</td>\n",
       "      <td>2</td>\n",
       "    </tr>\n",
       "    <tr>\n",
       "      <th>536</th>\n",
       "      <td>2022091103</td>\n",
       "      <td>2201</td>\n",
       "      <td>2</td>\n",
       "      <td>2</td>\n",
       "      <td>0</td>\n",
       "    </tr>\n",
       "    <tr>\n",
       "      <th>539</th>\n",
       "      <td>2022091103</td>\n",
       "      <td>2272</td>\n",
       "      <td>3</td>\n",
       "      <td>1</td>\n",
       "      <td>2</td>\n",
       "    </tr>\n",
       "    <tr>\n",
       "      <th>545</th>\n",
       "      <td>2022091103</td>\n",
       "      <td>2433</td>\n",
       "      <td>2</td>\n",
       "      <td>2</td>\n",
       "      <td>0</td>\n",
       "    </tr>\n",
       "    <tr>\n",
       "      <th>562</th>\n",
       "      <td>2022091103</td>\n",
       "      <td>3032</td>\n",
       "      <td>3</td>\n",
       "      <td>2</td>\n",
       "      <td>1</td>\n",
       "    </tr>\n",
       "    <tr>\n",
       "      <th>598</th>\n",
       "      <td>2022091103</td>\n",
       "      <td>4353</td>\n",
       "      <td>2</td>\n",
       "      <td>2</td>\n",
       "      <td>0</td>\n",
       "    </tr>\n",
       "    <tr>\n",
       "      <th>619</th>\n",
       "      <td>2022091104</td>\n",
       "      <td>107</td>\n",
       "      <td>2</td>\n",
       "      <td>2</td>\n",
       "      <td>0</td>\n",
       "    </tr>\n",
       "    <tr>\n",
       "      <th>628</th>\n",
       "      <td>2022091104</td>\n",
       "      <td>390</td>\n",
       "      <td>3</td>\n",
       "      <td>1</td>\n",
       "      <td>2</td>\n",
       "    </tr>\n",
       "    <tr>\n",
       "      <th>630</th>\n",
       "      <td>2022091104</td>\n",
       "      <td>462</td>\n",
       "      <td>3</td>\n",
       "      <td>1</td>\n",
       "      <td>2</td>\n",
       "    </tr>\n",
       "    <tr>\n",
       "      <th>649</th>\n",
       "      <td>2022091104</td>\n",
       "      <td>1094</td>\n",
       "      <td>3</td>\n",
       "      <td>2</td>\n",
       "      <td>1</td>\n",
       "    </tr>\n",
       "    <tr>\n",
       "      <th>656</th>\n",
       "      <td>2022091104</td>\n",
       "      <td>1325</td>\n",
       "      <td>3</td>\n",
       "      <td>2</td>\n",
       "      <td>1</td>\n",
       "    </tr>\n",
       "  </tbody>\n",
       "</table>\n",
       "</div>"
      ],
      "text/plain": [
       "         gameId  playId  motionSinceLineset  shiftSinceLineset  \\\n",
       "455  2022091102    3739                   2                  0   \n",
       "477  2022091103     319                   2                  0   \n",
       "483  2022091103     499                   2                  0   \n",
       "484  2022091103     520                   2                  0   \n",
       "487  2022091103     632                   2                  0   \n",
       "504  2022091103    1126                   2                  0   \n",
       "505  2022091103    1150                   5                  4   \n",
       "518  2022091103    1565                   2                  0   \n",
       "519  2022091103    1589                   2                  0   \n",
       "526  2022091103    1926                   2                  0   \n",
       "536  2022091103    2201                   2                  2   \n",
       "539  2022091103    2272                   3                  1   \n",
       "545  2022091103    2433                   2                  2   \n",
       "562  2022091103    3032                   3                  2   \n",
       "598  2022091103    4353                   2                  2   \n",
       "619  2022091104     107                   2                  2   \n",
       "628  2022091104     390                   3                  1   \n",
       "630  2022091104     462                   3                  1   \n",
       "649  2022091104    1094                   3                  2   \n",
       "656  2022091104    1325                   3                  2   \n",
       "\n",
       "     motion-momentum  \n",
       "455                2  \n",
       "477                2  \n",
       "483                2  \n",
       "484                2  \n",
       "487                2  \n",
       "504                2  \n",
       "505                1  \n",
       "518                2  \n",
       "519                2  \n",
       "526                2  \n",
       "536                0  \n",
       "539                2  \n",
       "545                0  \n",
       "562                1  \n",
       "598                0  \n",
       "619                0  \n",
       "628                2  \n",
       "630                2  \n",
       "649                1  \n",
       "656                1  "
      ]
     },
     "execution_count": 14,
     "metadata": {},
     "output_type": "execute_result"
    }
   ],
   "source": [
    "pg[pg['motionSinceLineset'] >=2].iloc[70:90,:]"
   ]
  },
  {
   "cell_type": "code",
   "execution_count": 15,
   "metadata": {},
   "outputs": [],
   "source": [
    "#player_play[((player_play['gameId'] == 2022091100) & (player_play['playId'] == 3379)) & (player_play['teamAbbr'] == 'ATL')][['gameId','playId','nflId','motionSinceLineset','shiftSinceLineset']]"
   ]
  },
  {
   "cell_type": "markdown",
   "metadata": {},
   "source": [
    "Look by motion-15:"
   ]
  },
  {
   "cell_type": "code",
   "execution_count": 16,
   "metadata": {},
   "outputs": [],
   "source": [
    "df_15 = pd.read_csv('data/top_2_player_diff_last_15.csv')"
   ]
  },
  {
   "cell_type": "code",
   "execution_count": 17,
   "metadata": {},
   "outputs": [],
   "source": [
    "play_15 = plays.merge(df_15,how='left',on=['gameId','playId'])[['gameId','playId','a_mean','a_max','y_delta','dis_sum']]"
   ]
  },
  {
   "cell_type": "code",
   "execution_count": 18,
   "metadata": {},
   "outputs": [
    {
     "data": {
      "text/plain": [
       "gameId       int64\n",
       "playId       int64\n",
       "a_mean     float64\n",
       "a_max      float64\n",
       "y_delta    float64\n",
       "dis_sum    float64\n",
       "dtype: object"
      ]
     },
     "execution_count": 18,
     "metadata": {},
     "output_type": "execute_result"
    }
   ],
   "source": [
    "play_15.dtypes"
   ]
  },
  {
   "cell_type": "markdown",
   "metadata": {},
   "source": [
    "todo: include dist or y delt?"
   ]
  },
  {
   "cell_type": "code",
   "execution_count": 19,
   "metadata": {},
   "outputs": [
    {
     "data": {
      "text/html": [
       "<div>\n",
       "<style scoped>\n",
       "    .dataframe tbody tr th:only-of-type {\n",
       "        vertical-align: middle;\n",
       "    }\n",
       "\n",
       "    .dataframe tbody tr th {\n",
       "        vertical-align: top;\n",
       "    }\n",
       "\n",
       "    .dataframe thead th {\n",
       "        text-align: right;\n",
       "    }\n",
       "</style>\n",
       "<table border=\"1\" class=\"dataframe\">\n",
       "  <thead>\n",
       "    <tr style=\"text-align: right;\">\n",
       "      <th></th>\n",
       "      <th>gameId</th>\n",
       "      <th>playId</th>\n",
       "      <th>a_mean</th>\n",
       "      <th>a_max</th>\n",
       "      <th>y_delta</th>\n",
       "      <th>dis_sum</th>\n",
       "    </tr>\n",
       "  </thead>\n",
       "  <tbody>\n",
       "    <tr>\n",
       "      <th>3400</th>\n",
       "      <td>2022091200</td>\n",
       "      <td>2923</td>\n",
       "      <td>-1.076000</td>\n",
       "      <td>-1.17</td>\n",
       "      <td>-11.85</td>\n",
       "      <td>-12.59</td>\n",
       "    </tr>\n",
       "    <tr>\n",
       "      <th>8541</th>\n",
       "      <td>2022100202</td>\n",
       "      <td>2637</td>\n",
       "      <td>-1.063333</td>\n",
       "      <td>-1.71</td>\n",
       "      <td>-10.99</td>\n",
       "      <td>-11.61</td>\n",
       "    </tr>\n",
       "    <tr>\n",
       "      <th>9657</th>\n",
       "      <td>2022092503</td>\n",
       "      <td>1622</td>\n",
       "      <td>-0.645333</td>\n",
       "      <td>-0.96</td>\n",
       "      <td>-10.66</td>\n",
       "      <td>-11.18</td>\n",
       "    </tr>\n",
       "    <tr>\n",
       "      <th>11528</th>\n",
       "      <td>2022100907</td>\n",
       "      <td>1058</td>\n",
       "      <td>-0.638667</td>\n",
       "      <td>-0.65</td>\n",
       "      <td>-10.50</td>\n",
       "      <td>-11.07</td>\n",
       "    </tr>\n",
       "    <tr>\n",
       "      <th>15616</th>\n",
       "      <td>2022092501</td>\n",
       "      <td>684</td>\n",
       "      <td>-0.444000</td>\n",
       "      <td>-0.63</td>\n",
       "      <td>-10.46</td>\n",
       "      <td>-11.24</td>\n",
       "    </tr>\n",
       "    <tr>\n",
       "      <th>13551</th>\n",
       "      <td>2022100211</td>\n",
       "      <td>1372</td>\n",
       "      <td>-1.245333</td>\n",
       "      <td>-2.95</td>\n",
       "      <td>-10.39</td>\n",
       "      <td>-10.88</td>\n",
       "    </tr>\n",
       "    <tr>\n",
       "      <th>7353</th>\n",
       "      <td>2022101700</td>\n",
       "      <td>1510</td>\n",
       "      <td>-0.930000</td>\n",
       "      <td>-0.57</td>\n",
       "      <td>-10.36</td>\n",
       "      <td>-10.72</td>\n",
       "    </tr>\n",
       "    <tr>\n",
       "      <th>7647</th>\n",
       "      <td>2022100912</td>\n",
       "      <td>1193</td>\n",
       "      <td>-1.386000</td>\n",
       "      <td>-2.76</td>\n",
       "      <td>-10.35</td>\n",
       "      <td>-10.85</td>\n",
       "    </tr>\n",
       "    <tr>\n",
       "      <th>15769</th>\n",
       "      <td>2022091107</td>\n",
       "      <td>824</td>\n",
       "      <td>-1.774000</td>\n",
       "      <td>-5.40</td>\n",
       "      <td>-10.30</td>\n",
       "      <td>-10.18</td>\n",
       "    </tr>\n",
       "    <tr>\n",
       "      <th>12591</th>\n",
       "      <td>2022100905</td>\n",
       "      <td>2629</td>\n",
       "      <td>-0.647333</td>\n",
       "      <td>-2.30</td>\n",
       "      <td>-10.29</td>\n",
       "      <td>-10.70</td>\n",
       "    </tr>\n",
       "    <tr>\n",
       "      <th>9933</th>\n",
       "      <td>2022091106</td>\n",
       "      <td>2721</td>\n",
       "      <td>-1.094667</td>\n",
       "      <td>-1.25</td>\n",
       "      <td>-10.28</td>\n",
       "      <td>-10.59</td>\n",
       "    </tr>\n",
       "    <tr>\n",
       "      <th>9614</th>\n",
       "      <td>2022103000</td>\n",
       "      <td>755</td>\n",
       "      <td>-1.740000</td>\n",
       "      <td>-3.01</td>\n",
       "      <td>-10.28</td>\n",
       "      <td>-10.58</td>\n",
       "    </tr>\n",
       "    <tr>\n",
       "      <th>5102</th>\n",
       "      <td>2022100911</td>\n",
       "      <td>82</td>\n",
       "      <td>-0.765333</td>\n",
       "      <td>-2.03</td>\n",
       "      <td>-10.25</td>\n",
       "      <td>-10.78</td>\n",
       "    </tr>\n",
       "    <tr>\n",
       "      <th>379</th>\n",
       "      <td>2022091106</td>\n",
       "      <td>2116</td>\n",
       "      <td>-0.818667</td>\n",
       "      <td>-1.34</td>\n",
       "      <td>-10.24</td>\n",
       "      <td>-10.79</td>\n",
       "    </tr>\n",
       "    <tr>\n",
       "      <th>11325</th>\n",
       "      <td>2022102311</td>\n",
       "      <td>2232</td>\n",
       "      <td>-1.571333</td>\n",
       "      <td>-2.37</td>\n",
       "      <td>-10.22</td>\n",
       "      <td>-10.76</td>\n",
       "    </tr>\n",
       "    <tr>\n",
       "      <th>41</th>\n",
       "      <td>2022092503</td>\n",
       "      <td>1755</td>\n",
       "      <td>-0.550000</td>\n",
       "      <td>-0.16</td>\n",
       "      <td>-10.22</td>\n",
       "      <td>-10.79</td>\n",
       "    </tr>\n",
       "  </tbody>\n",
       "</table>\n",
       "</div>"
      ],
      "text/plain": [
       "           gameId  playId    a_mean  a_max  y_delta  dis_sum\n",
       "3400   2022091200    2923 -1.076000  -1.17   -11.85   -12.59\n",
       "8541   2022100202    2637 -1.063333  -1.71   -10.99   -11.61\n",
       "9657   2022092503    1622 -0.645333  -0.96   -10.66   -11.18\n",
       "11528  2022100907    1058 -0.638667  -0.65   -10.50   -11.07\n",
       "15616  2022092501     684 -0.444000  -0.63   -10.46   -11.24\n",
       "13551  2022100211    1372 -1.245333  -2.95   -10.39   -10.88\n",
       "7353   2022101700    1510 -0.930000  -0.57   -10.36   -10.72\n",
       "7647   2022100912    1193 -1.386000  -2.76   -10.35   -10.85\n",
       "15769  2022091107     824 -1.774000  -5.40   -10.30   -10.18\n",
       "12591  2022100905    2629 -0.647333  -2.30   -10.29   -10.70\n",
       "9933   2022091106    2721 -1.094667  -1.25   -10.28   -10.59\n",
       "9614   2022103000     755 -1.740000  -3.01   -10.28   -10.58\n",
       "5102   2022100911      82 -0.765333  -2.03   -10.25   -10.78\n",
       "379    2022091106    2116 -0.818667  -1.34   -10.24   -10.79\n",
       "11325  2022102311    2232 -1.571333  -2.37   -10.22   -10.76\n",
       "41     2022092503    1755 -0.550000  -0.16   -10.22   -10.79"
      ]
     },
     "execution_count": 19,
     "metadata": {},
     "output_type": "execute_result"
    }
   ],
   "source": [
    "play_15.sort_values(by='y_delta',ascending=True).head(16)"
   ]
  },
  {
   "cell_type": "code",
   "execution_count": 20,
   "metadata": {},
   "outputs": [
    {
     "data": {
      "text/plain": [
       "'(8:31) (No Huddle, Shotgun) J.Burrow pass incomplete short left to J.Mixon (J.Jones). PIT-R.Spillane was injured during the play.'"
      ]
     },
     "execution_count": 20,
     "metadata": {},
     "output_type": "execute_result"
    }
   ],
   "source": [
    "plays[(plays['gameId'] == 2022091103) & (plays['playId'] == 3032)]['playDescription'].values[0]"
   ]
  },
  {
   "cell_type": "code",
   "execution_count": 21,
   "metadata": {
    "execution": {
     "iopub.execute_input": "2024-11-06T20:40:29.421934Z",
     "iopub.status.busy": "2024-11-06T20:40:29.421533Z",
     "iopub.status.idle": "2024-11-06T20:40:38.546845Z",
     "shell.execute_reply": "2024-11-06T20:40:38.545700Z",
     "shell.execute_reply.started": "2024-11-06T20:40:29.421889Z"
    },
    "trusted": true
   },
   "outputs": [],
   "source": [
    "# random game/play -- should work with any! \n",
    "gid = 2022091103\n",
    "pid = 1150\n",
    "\n",
    "fig = animate_play(games=games, tracking_df=tracking_df,\n",
    "             play_df=plays, players=players, gameId=gid,\n",
    "             playId=pid)"
   ]
  },
  {
   "cell_type": "code",
   "execution_count": 22,
   "metadata": {},
   "outputs": [
    {
     "data": {
      "application/vnd.plotly.v1+json": {
       "config": {
        "plotlyServerURL": "https://plot.ly"
       },
       "data": [
        {
         "hoverinfo": "none",
         "mode": "text",
         "showlegend": false,
         "text": [
          "10",
          "20",
          "30",
          "40",
          "50",
          "40",
          "30",
          "20",
          "10"
         ],
         "textfont": {
          "color": "#ffffff",
          "family": "Courier New, monospace",
          "size": 30
         },
         "type": "scatter",
         "x": [
          20,
          30,
          40,
          50,
          60,
          70,
          80,
          90,
          100
         ],
         "y": [
          5,
          5,
          5,
          5,
          5,
          5,
          5,
          5,
          5
         ]
        },
        {
         "hoverinfo": "none",
         "mode": "text",
         "showlegend": false,
         "text": [
          "10",
          "20",
          "30",
          "40",
          "50",
          "40",
          "30",
          "20",
          "10"
         ],
         "textfont": {
          "color": "#ffffff",
          "family": "Courier New, monospace",
          "size": 30
         },
         "type": "scatter",
         "x": [
          20,
          30,
          40,
          50,
          60,
          70,
          80,
          90,
          100
         ],
         "y": [
          48.5,
          48.5,
          48.5,
          48.5,
          48.5,
          48.5,
          48.5,
          48.5,
          48.5
         ]
        },
        {
         "hoverinfo": "none",
         "line": {
          "color": "blue",
          "dash": "dash"
         },
         "showlegend": false,
         "type": "scatter",
         "x": [
          19,
          19
         ],
         "y": [
          0,
          53.5
         ]
        },
        {
         "hoverinfo": "none",
         "line": {
          "color": "yellow",
          "dash": "dash"
         },
         "showlegend": false,
         "type": "scatter",
         "x": [
          10,
          10
         ],
         "y": [
          0,
          53.5
         ]
        },
        {
         "fill": "toself",
         "fillcolor": "#000000",
         "hoverinfo": "skip",
         "line": {
          "color": "white",
          "width": 3
         },
         "mode": "lines",
         "opacity": 1,
         "showlegend": false,
         "type": "scatter",
         "x": [
          0,
          0,
          10,
          10,
          0
         ],
         "y": [
          0,
          53.5,
          53.5,
          0,
          0
         ]
        },
        {
         "fill": "toself",
         "fillcolor": "#FFB612",
         "hoverinfo": "skip",
         "line": {
          "color": "white",
          "width": 3
         },
         "mode": "lines",
         "opacity": 1,
         "showlegend": false,
         "type": "scatter",
         "x": [
          110,
          110,
          120,
          120,
          110
         ],
         "y": [
          0,
          53.5,
          53.5,
          0,
          0
         ]
        },
        {
         "hoverinfo": "text",
         "hovertext": [
          "nflId:43299<br>displayName:Eli Apple<br>Player Speed:6.89 MPH",
          "nflId:43350<br>displayName:Vonn Bell<br>Player Speed:2.886 MPH",
          "nflId:43455<br>displayName:D.J. Reader<br>Player Speed:0.0 MPH",
          "nflId:43641<br>displayName:Mike Hilton<br>Player Speed:5.548 MPH",
          "nflId:44872<br>displayName:Chidobe Awuzie<br>Player Speed:3.333 MPH",
          "nflId:44915<br>displayName:Trey Hendrickson<br>Player Speed:1.432 MPH",
          "nflId:46123<br>displayName:Jessie Bates<br>Player Speed:3.669 MPH",
          "nflId:46138<br>displayName:B.J. Hill<br>Player Speed:3.087 MPH",
          "nflId:46146<br>displayName:Sam Hubbard<br>Player Speed:1.432 MPH",
          "nflId:47855<br>displayName:Germaine Pratt<br>Player Speed:0.828 MPH",
          "nflId:52473<br>displayName:Logan Wilson<br>Player Speed:1.409 MPH"
         ],
         "marker": {
          "color": "#000000",
          "line": {
           "color": "#FB4F14",
           "width": 2
          },
          "size": 10
         },
         "mode": "markers",
         "name": "CIN",
         "type": "scatter",
         "x": [
          14.69,
          11.47,
          16.21,
          14.6,
          15.2,
          16.92,
          9.67,
          15.79,
          16.56,
          13.11,
          13.14
         ],
         "y": [
          19.57,
          33.19,
          29.94,
          23.67,
          39.56,
          24.51,
          27.25,
          29.64,
          34.38,
          31.69,
          28.35
         ]
        },
        {
         "hoverinfo": "text",
         "hovertext": [
          "nflId:44814<br>displayName:Mitchell Trubisky<br>Player Speed:0.94 MPH",
          "nflId:46108<br>displayName:James Daniels<br>Player Speed:1.186 MPH",
          "nflId:46161<br>displayName:Chukwuma Okorafor<br>Player Speed:1.32 MPH",
          "nflId:46166<br>displayName:Mason Cole<br>Player Speed:1.678 MPH",
          "nflId:47849<br>displayName:Diontae Johnson<br>Player Speed:7.136 MPH",
          "nflId:52457<br>displayName:Chase Claypool<br>Player Speed:9.216 MPH",
          "nflId:52543<br>displayName:Kevin Dotson<br>Player Speed:1.32 MPH",
          "nflId:53453<br>displayName:Najee Harris<br>Player Speed:5.391 MPH",
          "nflId:53484<br>displayName:Pat Freiermuth<br>Player Speed:4.608 MPH",
          "nflId:53557<br>displayName:Dan Moore<br>Player Speed:2.147 MPH",
          "nflId:54517<br>displayName:George Pickens<br>Player Speed:9.731 MPH"
         ],
         "marker": {
          "color": "#FFB612",
          "line": {
           "color": "#101820",
           "width": 2
          },
          "size": 10
         },
         "mode": "markers",
         "name": "PIT",
         "type": "scatter",
         "x": [
          23.52,
          20.52,
          20.66,
          19.79,
          20.86,
          21.14,
          20.36,
          21.48,
          21.8,
          20.42,
          21.8
         ],
         "y": [
          29.97,
          31.22,
          32.71,
          29.42,
          38.52,
          22.95,
          28.3,
          36.12,
          26.23,
          26.85,
          17.15
         ]
        },
        {
         "hoverinfo": "none",
         "marker": {
          "color": "#CBB67C",
          "line": {
           "color": "#663831",
           "width": 2
          },
          "size": 10
         },
         "mode": "markers",
         "name": "football",
         "type": "scatter",
         "x": [
          19.0699996948242
         ],
         "y": [
          29.5900001525879
         ]
        }
       ],
       "frames": [
        {
         "data": [
          {
           "hoverinfo": "none",
           "mode": "text",
           "showlegend": false,
           "text": [
            "10",
            "20",
            "30",
            "40",
            "50",
            "40",
            "30",
            "20",
            "10"
           ],
           "textfont": {
            "color": "#ffffff",
            "family": "Courier New, monospace",
            "size": 30
           },
           "type": "scatter",
           "x": [
            20,
            30,
            40,
            50,
            60,
            70,
            80,
            90,
            100
           ],
           "y": [
            5,
            5,
            5,
            5,
            5,
            5,
            5,
            5,
            5
           ]
          },
          {
           "hoverinfo": "none",
           "mode": "text",
           "showlegend": false,
           "text": [
            "10",
            "20",
            "30",
            "40",
            "50",
            "40",
            "30",
            "20",
            "10"
           ],
           "textfont": {
            "color": "#ffffff",
            "family": "Courier New, monospace",
            "size": 30
           },
           "type": "scatter",
           "x": [
            20,
            30,
            40,
            50,
            60,
            70,
            80,
            90,
            100
           ],
           "y": [
            48.5,
            48.5,
            48.5,
            48.5,
            48.5,
            48.5,
            48.5,
            48.5,
            48.5
           ]
          },
          {
           "hoverinfo": "none",
           "line": {
            "color": "blue",
            "dash": "dash"
           },
           "showlegend": false,
           "type": "scatter",
           "x": [
            19,
            19
           ],
           "y": [
            0,
            53.5
           ]
          },
          {
           "hoverinfo": "none",
           "line": {
            "color": "yellow",
            "dash": "dash"
           },
           "showlegend": false,
           "type": "scatter",
           "x": [
            10,
            10
           ],
           "y": [
            0,
            53.5
           ]
          },
          {
           "fill": "toself",
           "fillcolor": "#000000",
           "hoverinfo": "skip",
           "line": {
            "color": "white",
            "width": 3
           },
           "mode": "lines",
           "opacity": 1,
           "showlegend": false,
           "type": "scatter",
           "x": [
            0,
            0,
            10,
            10,
            0
           ],
           "y": [
            0,
            53.5,
            53.5,
            0,
            0
           ]
          },
          {
           "fill": "toself",
           "fillcolor": "#FFB612",
           "hoverinfo": "skip",
           "line": {
            "color": "white",
            "width": 3
           },
           "mode": "lines",
           "opacity": 1,
           "showlegend": false,
           "type": "scatter",
           "x": [
            110,
            110,
            120,
            120,
            110
           ],
           "y": [
            0,
            53.5,
            53.5,
            0,
            0
           ]
          },
          {
           "hoverinfo": "text",
           "hovertext": [
            "nflId:43299<br>displayName:Eli Apple<br>Player Speed:6.912 MPH",
            "nflId:43350<br>displayName:Vonn Bell<br>Player Speed:3.176 MPH",
            "nflId:43455<br>displayName:D.J. Reader<br>Player Speed:0.0 MPH",
            "nflId:43641<br>displayName:Mike Hilton<br>Player Speed:5.615 MPH",
            "nflId:44872<br>displayName:Chidobe Awuzie<br>Player Speed:3.244 MPH",
            "nflId:44915<br>displayName:Trey Hendrickson<br>Player Speed:1.365 MPH",
            "nflId:46123<br>displayName:Jessie Bates<br>Player Speed:3.624 MPH",
            "nflId:46138<br>displayName:B.J. Hill<br>Player Speed:2.953 MPH",
            "nflId:46146<br>displayName:Sam Hubbard<br>Player Speed:1.342 MPH",
            "nflId:47855<br>displayName:Germaine Pratt<br>Player Speed:0.85 MPH",
            "nflId:52473<br>displayName:Logan Wilson<br>Player Speed:1.543 MPH"
           ],
           "marker": {
            "color": "#000000",
            "line": {
             "color": "#FB4F14",
             "width": 2
            },
            "size": 10
           },
           "mode": "markers",
           "name": "CIN",
           "type": "scatter",
           "x": [
            14.67,
            11.49,
            16.21,
            14.6,
            15.15,
            16.9,
            9.54,
            15.82,
            16.54,
            13.07,
            13.09
           ],
           "y": [
            19.25,
            33.33,
            29.95,
            23.42,
            39.69,
            24.45,
            27.16,
            29.52,
            34.44,
            31.73,
            28.3
           ]
          },
          {
           "hoverinfo": "text",
           "hovertext": [
            "nflId:44814<br>displayName:Mitchell Trubisky<br>Player Speed:0.805 MPH",
            "nflId:46108<br>displayName:James Daniels<br>Player Speed:1.141 MPH",
            "nflId:46161<br>displayName:Chukwuma Okorafor<br>Player Speed:1.23 MPH",
            "nflId:46166<br>displayName:Mason Cole<br>Player Speed:1.454 MPH",
            "nflId:47849<br>displayName:Diontae Johnson<br>Player Speed:6.867 MPH",
            "nflId:52457<br>displayName:Chase Claypool<br>Player Speed:9.082 MPH",
            "nflId:52543<br>displayName:Kevin Dotson<br>Player Speed:1.297 MPH",
            "nflId:53453<br>displayName:Najee Harris<br>Player Speed:4.944 MPH",
            "nflId:53484<br>displayName:Pat Freiermuth<br>Player Speed:4.474 MPH",
            "nflId:53557<br>displayName:Dan Moore<br>Player Speed:1.946 MPH",
            "nflId:54517<br>displayName:George Pickens<br>Player Speed:9.239 MPH"
           ],
           "marker": {
            "color": "#FFB612",
            "line": {
             "color": "#101820",
             "width": 2
            },
            "size": 10
           },
           "mode": "markers",
           "name": "PIT",
           "type": "scatter",
           "x": [
            23.53,
            20.46,
            20.61,
            19.72,
            20.74,
            20.99,
            20.3,
            21.34,
            21.71,
            20.39,
            21.68
           ],
           "y": [
            29.93,
            31.22,
            32.74,
            29.43,
            38.81,
            22.57,
            28.29,
            36.3,
            26.05,
            26.77,
            16.75
           ]
          },
          {
           "hoverinfo": "none",
           "marker": {
            "color": "#CBB67C",
            "line": {
             "color": "#663831",
             "width": 2
            },
            "size": 10
           },
           "mode": "markers",
           "name": "football",
           "type": "scatter",
           "x": [
            19.0699996948242
           ],
           "y": [
            29.5900001525879
           ]
          }
         ],
         "name": "3"
        },
        {
         "data": [
          {
           "hoverinfo": "none",
           "mode": "text",
           "showlegend": false,
           "text": [
            "10",
            "20",
            "30",
            "40",
            "50",
            "40",
            "30",
            "20",
            "10"
           ],
           "textfont": {
            "color": "#ffffff",
            "family": "Courier New, monospace",
            "size": 30
           },
           "type": "scatter",
           "x": [
            20,
            30,
            40,
            50,
            60,
            70,
            80,
            90,
            100
           ],
           "y": [
            5,
            5,
            5,
            5,
            5,
            5,
            5,
            5,
            5
           ]
          },
          {
           "hoverinfo": "none",
           "mode": "text",
           "showlegend": false,
           "text": [
            "10",
            "20",
            "30",
            "40",
            "50",
            "40",
            "30",
            "20",
            "10"
           ],
           "textfont": {
            "color": "#ffffff",
            "family": "Courier New, monospace",
            "size": 30
           },
           "type": "scatter",
           "x": [
            20,
            30,
            40,
            50,
            60,
            70,
            80,
            90,
            100
           ],
           "y": [
            48.5,
            48.5,
            48.5,
            48.5,
            48.5,
            48.5,
            48.5,
            48.5,
            48.5
           ]
          },
          {
           "hoverinfo": "none",
           "line": {
            "color": "blue",
            "dash": "dash"
           },
           "showlegend": false,
           "type": "scatter",
           "x": [
            19,
            19
           ],
           "y": [
            0,
            53.5
           ]
          },
          {
           "hoverinfo": "none",
           "line": {
            "color": "yellow",
            "dash": "dash"
           },
           "showlegend": false,
           "type": "scatter",
           "x": [
            10,
            10
           ],
           "y": [
            0,
            53.5
           ]
          },
          {
           "fill": "toself",
           "fillcolor": "#000000",
           "hoverinfo": "skip",
           "line": {
            "color": "white",
            "width": 3
           },
           "mode": "lines",
           "opacity": 1,
           "showlegend": false,
           "type": "scatter",
           "x": [
            0,
            0,
            10,
            10,
            0
           ],
           "y": [
            0,
            53.5,
            53.5,
            0,
            0
           ]
          },
          {
           "fill": "toself",
           "fillcolor": "#FFB612",
           "hoverinfo": "skip",
           "line": {
            "color": "white",
            "width": 3
           },
           "mode": "lines",
           "opacity": 1,
           "showlegend": false,
           "type": "scatter",
           "x": [
            110,
            110,
            120,
            120,
            110
           ],
           "y": [
            0,
            53.5,
            53.5,
            0,
            0
           ]
          },
          {
           "hoverinfo": "text",
           "hovertext": [
            "nflId:43299<br>displayName:Eli Apple<br>Player Speed:6.89 MPH",
            "nflId:43350<br>displayName:Vonn Bell<br>Player Speed:3.624 MPH",
            "nflId:43455<br>displayName:D.J. Reader<br>Player Speed:0.0 MPH",
            "nflId:43641<br>displayName:Mike Hilton<br>Player Speed:5.615 MPH",
            "nflId:44872<br>displayName:Chidobe Awuzie<br>Player Speed:3.221 MPH",
            "nflId:44915<br>displayName:Trey Hendrickson<br>Player Speed:1.23 MPH",
            "nflId:46123<br>displayName:Jessie Bates<br>Player Speed:3.512 MPH",
            "nflId:46138<br>displayName:B.J. Hill<br>Player Speed:2.64 MPH",
            "nflId:46146<br>displayName:Sam Hubbard<br>Player Speed:1.32 MPH",
            "nflId:47855<br>displayName:Germaine Pratt<br>Player Speed:0.828 MPH",
            "nflId:52473<br>displayName:Logan Wilson<br>Player Speed:1.611 MPH"
           ],
           "marker": {
            "color": "#000000",
            "line": {
             "color": "#FB4F14",
             "width": 2
            },
            "size": 10
           },
           "mode": "markers",
           "name": "CIN",
           "type": "scatter",
           "x": [
            14.65,
            11.53,
            16.22,
            14.59,
            15.09,
            16.87,
            9.41,
            15.85,
            16.52,
            13.03,
            13.04
           ],
           "y": [
            18.94,
            33.47,
            29.96,
            23.17,
            39.83,
            24.4,
            27.07,
            29.41,
            34.5,
            31.75,
            28.25
           ]
          },
          {
           "hoverinfo": "text",
           "hovertext": [
            "nflId:44814<br>displayName:Mitchell Trubisky<br>Player Speed:0.805 MPH",
            "nflId:46108<br>displayName:James Daniels<br>Player Speed:1.096 MPH",
            "nflId:46161<br>displayName:Chukwuma Okorafor<br>Player Speed:1.118 MPH",
            "nflId:46166<br>displayName:Mason Cole<br>Player Speed:1.297 MPH",
            "nflId:47849<br>displayName:Diontae Johnson<br>Player Speed:6.532 MPH",
            "nflId:52457<br>displayName:Chase Claypool<br>Player Speed:8.881 MPH",
            "nflId:52543<br>displayName:Kevin Dotson<br>Player Speed:1.275 MPH",
            "nflId:53453<br>displayName:Najee Harris<br>Player Speed:4.407 MPH",
            "nflId:53484<br>displayName:Pat Freiermuth<br>Player Speed:4.384 MPH",
            "nflId:53557<br>displayName:Dan Moore<br>Player Speed:1.678 MPH",
            "nflId:54517<br>displayName:George Pickens<br>Player Speed:8.769 MPH"
           ],
           "marker": {
            "color": "#FFB612",
            "line": {
             "color": "#101820",
             "width": 2
            },
            "size": 10
           },
           "mode": "markers",
           "name": "PIT",
           "type": "scatter",
           "x": [
            23.54,
            20.42,
            20.56,
            19.66,
            20.62,
            20.83,
            20.24,
            21.21,
            21.62,
            20.36,
            21.55
           ],
           "y": [
            29.89,
            31.21,
            32.76,
            29.46,
            39.08,
            22.2,
            28.28,
            36.47,
            25.87,
            26.7,
            16.36
           ]
          },
          {
           "hoverinfo": "none",
           "marker": {
            "color": "#CBB67C",
            "line": {
             "color": "#663831",
             "width": 2
            },
            "size": 10
           },
           "mode": "markers",
           "name": "football",
           "type": "scatter",
           "x": [
            19.0699996948242
           ],
           "y": [
            29.5900001525879
           ]
          }
         ],
         "name": "4"
        },
        {
         "data": [
          {
           "hoverinfo": "none",
           "mode": "text",
           "showlegend": false,
           "text": [
            "10",
            "20",
            "30",
            "40",
            "50",
            "40",
            "30",
            "20",
            "10"
           ],
           "textfont": {
            "color": "#ffffff",
            "family": "Courier New, monospace",
            "size": 30
           },
           "type": "scatter",
           "x": [
            20,
            30,
            40,
            50,
            60,
            70,
            80,
            90,
            100
           ],
           "y": [
            5,
            5,
            5,
            5,
            5,
            5,
            5,
            5,
            5
           ]
          },
          {
           "hoverinfo": "none",
           "mode": "text",
           "showlegend": false,
           "text": [
            "10",
            "20",
            "30",
            "40",
            "50",
            "40",
            "30",
            "20",
            "10"
           ],
           "textfont": {
            "color": "#ffffff",
            "family": "Courier New, monospace",
            "size": 30
           },
           "type": "scatter",
           "x": [
            20,
            30,
            40,
            50,
            60,
            70,
            80,
            90,
            100
           ],
           "y": [
            48.5,
            48.5,
            48.5,
            48.5,
            48.5,
            48.5,
            48.5,
            48.5,
            48.5
           ]
          },
          {
           "hoverinfo": "none",
           "line": {
            "color": "blue",
            "dash": "dash"
           },
           "showlegend": false,
           "type": "scatter",
           "x": [
            19,
            19
           ],
           "y": [
            0,
            53.5
           ]
          },
          {
           "hoverinfo": "none",
           "line": {
            "color": "yellow",
            "dash": "dash"
           },
           "showlegend": false,
           "type": "scatter",
           "x": [
            10,
            10
           ],
           "y": [
            0,
            53.5
           ]
          },
          {
           "fill": "toself",
           "fillcolor": "#000000",
           "hoverinfo": "skip",
           "line": {
            "color": "white",
            "width": 3
           },
           "mode": "lines",
           "opacity": 1,
           "showlegend": false,
           "type": "scatter",
           "x": [
            0,
            0,
            10,
            10,
            0
           ],
           "y": [
            0,
            53.5,
            53.5,
            0,
            0
           ]
          },
          {
           "fill": "toself",
           "fillcolor": "#FFB612",
           "hoverinfo": "skip",
           "line": {
            "color": "white",
            "width": 3
           },
           "mode": "lines",
           "opacity": 1,
           "showlegend": false,
           "type": "scatter",
           "x": [
            110,
            110,
            120,
            120,
            110
           ],
           "y": [
            0,
            53.5,
            53.5,
            0,
            0
           ]
          },
          {
           "hoverinfo": "text",
           "hovertext": [
            "nflId:43299<br>displayName:Eli Apple<br>Player Speed:6.8 MPH",
            "nflId:43350<br>displayName:Vonn Bell<br>Player Speed:3.892 MPH",
            "nflId:43455<br>displayName:D.J. Reader<br>Player Speed:0.0 MPH",
            "nflId:43641<br>displayName:Mike Hilton<br>Player Speed:5.615 MPH",
            "nflId:44872<br>displayName:Chidobe Awuzie<br>Player Speed:3.244 MPH",
            "nflId:44915<br>displayName:Trey Hendrickson<br>Player Speed:1.163 MPH",
            "nflId:46123<br>displayName:Jessie Bates<br>Player Speed:3.355 MPH",
            "nflId:46138<br>displayName:B.J. Hill<br>Player Speed:2.304 MPH",
            "nflId:46146<br>displayName:Sam Hubbard<br>Player Speed:1.297 MPH",
            "nflId:47855<br>displayName:Germaine Pratt<br>Player Speed:0.761 MPH",
            "nflId:52473<br>displayName:Logan Wilson<br>Player Speed:1.678 MPH"
           ],
           "marker": {
            "color": "#000000",
            "line": {
             "color": "#FB4F14",
             "width": 2
            },
            "size": 10
           },
           "mode": "markers",
           "name": "CIN",
           "type": "scatter",
           "x": [
            14.64,
            11.59,
            16.24,
            14.59,
            15.02,
            16.85,
            9.29,
            15.87,
            16.51,
            12.99,
            13
           ],
           "y": [
            18.64,
            33.63,
            29.97,
            22.92,
            39.95,
            24.35,
            26.98,
            29.31,
            34.56,
            31.74,
            28.19
           ]
          },
          {
           "hoverinfo": "text",
           "hovertext": [
            "nflId:44814<br>displayName:Mitchell Trubisky<br>Player Speed:0.895 MPH",
            "nflId:46108<br>displayName:James Daniels<br>Player Speed:1.051 MPH",
            "nflId:46161<br>displayName:Chukwuma Okorafor<br>Player Speed:0.962 MPH",
            "nflId:46166<br>displayName:Mason Cole<br>Player Speed:1.051 MPH",
            "nflId:47849<br>displayName:Diontae Johnson<br>Player Speed:6.241 MPH",
            "nflId:52457<br>displayName:Chase Claypool<br>Player Speed:8.702 MPH",
            "nflId:52543<br>displayName:Kevin Dotson<br>Player Speed:1.253 MPH",
            "nflId:53453<br>displayName:Najee Harris<br>Player Speed:4.026 MPH",
            "nflId:53484<br>displayName:Pat Freiermuth<br>Player Speed:4.317 MPH",
            "nflId:53557<br>displayName:Dan Moore<br>Player Speed:1.476 MPH",
            "nflId:54517<br>displayName:George Pickens<br>Player Speed:8.277 MPH"
           ],
           "marker": {
            "color": "#FFB612",
            "line": {
             "color": "#101820",
             "width": 2
            },
            "size": 10
           },
           "mode": "markers",
           "name": "PIT",
           "type": "scatter",
           "x": [
            23.56,
            20.37,
            20.52,
            19.62,
            20.51,
            20.68,
            20.18,
            21.1,
            21.54,
            20.34,
            21.44
           ],
           "y": [
            29.85,
            31.2,
            32.77,
            29.47,
            39.35,
            21.84,
            28.26,
            36.62,
            25.69,
            26.64,
            16
           ]
          },
          {
           "hoverinfo": "none",
           "marker": {
            "color": "#CBB67C",
            "line": {
             "color": "#663831",
             "width": 2
            },
            "size": 10
           },
           "mode": "markers",
           "name": "football",
           "type": "scatter",
           "x": [
            19.0599994659424
           ],
           "y": [
            29.5900001525879
           ]
          }
         ],
         "name": "5"
        },
        {
         "data": [
          {
           "hoverinfo": "none",
           "mode": "text",
           "showlegend": false,
           "text": [
            "10",
            "20",
            "30",
            "40",
            "50",
            "40",
            "30",
            "20",
            "10"
           ],
           "textfont": {
            "color": "#ffffff",
            "family": "Courier New, monospace",
            "size": 30
           },
           "type": "scatter",
           "x": [
            20,
            30,
            40,
            50,
            60,
            70,
            80,
            90,
            100
           ],
           "y": [
            5,
            5,
            5,
            5,
            5,
            5,
            5,
            5,
            5
           ]
          },
          {
           "hoverinfo": "none",
           "mode": "text",
           "showlegend": false,
           "text": [
            "10",
            "20",
            "30",
            "40",
            "50",
            "40",
            "30",
            "20",
            "10"
           ],
           "textfont": {
            "color": "#ffffff",
            "family": "Courier New, monospace",
            "size": 30
           },
           "type": "scatter",
           "x": [
            20,
            30,
            40,
            50,
            60,
            70,
            80,
            90,
            100
           ],
           "y": [
            48.5,
            48.5,
            48.5,
            48.5,
            48.5,
            48.5,
            48.5,
            48.5,
            48.5
           ]
          },
          {
           "hoverinfo": "none",
           "line": {
            "color": "blue",
            "dash": "dash"
           },
           "showlegend": false,
           "type": "scatter",
           "x": [
            19,
            19
           ],
           "y": [
            0,
            53.5
           ]
          },
          {
           "hoverinfo": "none",
           "line": {
            "color": "yellow",
            "dash": "dash"
           },
           "showlegend": false,
           "type": "scatter",
           "x": [
            10,
            10
           ],
           "y": [
            0,
            53.5
           ]
          },
          {
           "fill": "toself",
           "fillcolor": "#000000",
           "hoverinfo": "skip",
           "line": {
            "color": "white",
            "width": 3
           },
           "mode": "lines",
           "opacity": 1,
           "showlegend": false,
           "type": "scatter",
           "x": [
            0,
            0,
            10,
            10,
            0
           ],
           "y": [
            0,
            53.5,
            53.5,
            0,
            0
           ]
          },
          {
           "fill": "toself",
           "fillcolor": "#FFB612",
           "hoverinfo": "skip",
           "line": {
            "color": "white",
            "width": 3
           },
           "mode": "lines",
           "opacity": 1,
           "showlegend": false,
           "type": "scatter",
           "x": [
            110,
            110,
            120,
            120,
            110
           ],
           "y": [
            0,
            53.5,
            53.5,
            0,
            0
           ]
          },
          {
           "hoverinfo": "text",
           "hovertext": [
            "nflId:43299<br>displayName:Eli Apple<br>Player Speed:6.666 MPH",
            "nflId:43350<br>displayName:Vonn Bell<br>Player Speed:4.049 MPH",
            "nflId:43455<br>displayName:D.J. Reader<br>Player Speed:0.0 MPH",
            "nflId:43641<br>displayName:Mike Hilton<br>Player Speed:5.637 MPH",
            "nflId:44872<br>displayName:Chidobe Awuzie<br>Player Speed:3.244 MPH",
            "nflId:44915<br>displayName:Trey Hendrickson<br>Player Speed:1.096 MPH",
            "nflId:46123<br>displayName:Jessie Bates<br>Player Speed:3.244 MPH",
            "nflId:46138<br>displayName:B.J. Hill<br>Player Speed:1.969 MPH",
            "nflId:46146<br>displayName:Sam Hubbard<br>Player Speed:1.141 MPH",
            "nflId:47855<br>displayName:Germaine Pratt<br>Player Speed:0.693 MPH",
            "nflId:52473<br>displayName:Logan Wilson<br>Player Speed:1.745 MPH"
           ],
           "marker": {
            "color": "#000000",
            "line": {
             "color": "#FB4F14",
             "width": 2
            },
            "size": 10
           },
           "mode": "markers",
           "name": "CIN",
           "type": "scatter",
           "x": [
            14.62,
            11.66,
            16.24,
            14.59,
            14.95,
            16.82,
            9.18,
            15.88,
            16.5,
            12.96,
            12.95
           ],
           "y": [
            18.34,
            33.8,
            29.97,
            22.67,
            40.08,
            24.3,
            26.88,
            29.22,
            34.61,
            31.76,
            28.13
           ]
          },
          {
           "hoverinfo": "text",
           "hovertext": [
            "nflId:44814<br>displayName:Mitchell Trubisky<br>Player Speed:1.007 MPH",
            "nflId:46108<br>displayName:James Daniels<br>Player Speed:0.962 MPH",
            "nflId:46161<br>displayName:Chukwuma Okorafor<br>Player Speed:0.872 MPH",
            "nflId:46166<br>displayName:Mason Cole<br>Player Speed:0.85 MPH",
            "nflId:47849<br>displayName:Diontae Johnson<br>Player Speed:5.883 MPH",
            "nflId:52457<br>displayName:Chase Claypool<br>Player Speed:8.411 MPH",
            "nflId:52543<br>displayName:Kevin Dotson<br>Player Speed:1.23 MPH",
            "nflId:53453<br>displayName:Najee Harris<br>Player Speed:3.669 MPH",
            "nflId:53484<br>displayName:Pat Freiermuth<br>Player Speed:4.273 MPH",
            "nflId:53557<br>displayName:Dan Moore<br>Player Speed:1.275 MPH",
            "nflId:54517<br>displayName:George Pickens<br>Player Speed:7.852 MPH"
           ],
           "marker": {
            "color": "#FFB612",
            "line": {
             "color": "#101820",
             "width": 2
            },
            "size": 10
           },
           "mode": "markers",
           "name": "PIT",
           "type": "scatter",
           "x": [
            23.58,
            20.33,
            20.48,
            19.59,
            20.41,
            20.53,
            20.13,
            21,
            21.47,
            20.32,
            21.32
           ],
           "y": [
            29.82,
            31.18,
            32.77,
            29.49,
            39.6,
            21.48,
            28.24,
            36.76,
            25.51,
            26.58,
            15.65
           ]
          },
          {
           "hoverinfo": "none",
           "marker": {
            "color": "#CBB67C",
            "line": {
             "color": "#663831",
             "width": 2
            },
            "size": 10
           },
           "mode": "markers",
           "name": "football",
           "type": "scatter",
           "x": [
            19.0599994659424
           ],
           "y": [
            29.5900001525879
           ]
          }
         ],
         "name": "6"
        },
        {
         "data": [
          {
           "hoverinfo": "none",
           "mode": "text",
           "showlegend": false,
           "text": [
            "10",
            "20",
            "30",
            "40",
            "50",
            "40",
            "30",
            "20",
            "10"
           ],
           "textfont": {
            "color": "#ffffff",
            "family": "Courier New, monospace",
            "size": 30
           },
           "type": "scatter",
           "x": [
            20,
            30,
            40,
            50,
            60,
            70,
            80,
            90,
            100
           ],
           "y": [
            5,
            5,
            5,
            5,
            5,
            5,
            5,
            5,
            5
           ]
          },
          {
           "hoverinfo": "none",
           "mode": "text",
           "showlegend": false,
           "text": [
            "10",
            "20",
            "30",
            "40",
            "50",
            "40",
            "30",
            "20",
            "10"
           ],
           "textfont": {
            "color": "#ffffff",
            "family": "Courier New, monospace",
            "size": 30
           },
           "type": "scatter",
           "x": [
            20,
            30,
            40,
            50,
            60,
            70,
            80,
            90,
            100
           ],
           "y": [
            48.5,
            48.5,
            48.5,
            48.5,
            48.5,
            48.5,
            48.5,
            48.5,
            48.5
           ]
          },
          {
           "hoverinfo": "none",
           "line": {
            "color": "blue",
            "dash": "dash"
           },
           "showlegend": false,
           "type": "scatter",
           "x": [
            19,
            19
           ],
           "y": [
            0,
            53.5
           ]
          },
          {
           "hoverinfo": "none",
           "line": {
            "color": "yellow",
            "dash": "dash"
           },
           "showlegend": false,
           "type": "scatter",
           "x": [
            10,
            10
           ],
           "y": [
            0,
            53.5
           ]
          },
          {
           "fill": "toself",
           "fillcolor": "#000000",
           "hoverinfo": "skip",
           "line": {
            "color": "white",
            "width": 3
           },
           "mode": "lines",
           "opacity": 1,
           "showlegend": false,
           "type": "scatter",
           "x": [
            0,
            0,
            10,
            10,
            0
           ],
           "y": [
            0,
            53.5,
            53.5,
            0,
            0
           ]
          },
          {
           "fill": "toself",
           "fillcolor": "#FFB612",
           "hoverinfo": "skip",
           "line": {
            "color": "white",
            "width": 3
           },
           "mode": "lines",
           "opacity": 1,
           "showlegend": false,
           "type": "scatter",
           "x": [
            110,
            110,
            120,
            120,
            110
           ],
           "y": [
            0,
            53.5,
            53.5,
            0,
            0
           ]
          },
          {
           "hoverinfo": "text",
           "hovertext": [
            "nflId:43299<br>displayName:Eli Apple<br>Player Speed:6.509 MPH",
            "nflId:43350<br>displayName:Vonn Bell<br>Player Speed:4.161 MPH",
            "nflId:43455<br>displayName:D.J. Reader<br>Player Speed:0.0 MPH",
            "nflId:43641<br>displayName:Mike Hilton<br>Player Speed:5.659 MPH",
            "nflId:44872<br>displayName:Chidobe Awuzie<br>Player Speed:3.244 MPH",
            "nflId:44915<br>displayName:Trey Hendrickson<br>Player Speed:1.029 MPH",
            "nflId:46123<br>displayName:Jessie Bates<br>Player Speed:3.087 MPH",
            "nflId:46138<br>displayName:B.J. Hill<br>Player Speed:1.678 MPH",
            "nflId:46146<br>displayName:Sam Hubbard<br>Player Speed:1.029 MPH",
            "nflId:47855<br>displayName:Germaine Pratt<br>Player Speed:0.649 MPH",
            "nflId:52473<br>displayName:Logan Wilson<br>Player Speed:1.767 MPH"
           ],
           "marker": {
            "color": "#000000",
            "line": {
             "color": "#FB4F14",
             "width": 2
            },
            "size": 10
           },
           "mode": "markers",
           "name": "CIN",
           "type": "scatter",
           "x": [
            14.6,
            11.73,
            16.25,
            14.59,
            14.87,
            16.8,
            9.07,
            15.89,
            16.49,
            12.93,
            12.9
           ],
           "y": [
            18.05,
            33.97,
            29.97,
            22.41,
            40.2,
            24.25,
            26.79,
            29.14,
            34.65,
            31.75,
            28.07
           ]
          },
          {
           "hoverinfo": "text",
           "hovertext": [
            "nflId:44814<br>displayName:Mitchell Trubisky<br>Player Speed:1.074 MPH",
            "nflId:46108<br>displayName:James Daniels<br>Player Speed:0.85 MPH",
            "nflId:46161<br>displayName:Chukwuma Okorafor<br>Player Speed:0.828 MPH",
            "nflId:46166<br>displayName:Mason Cole<br>Player Speed:0.604 MPH",
            "nflId:47849<br>displayName:Diontae Johnson<br>Player Speed:5.548 MPH",
            "nflId:52457<br>displayName:Chase Claypool<br>Player Speed:7.941 MPH",
            "nflId:52543<br>displayName:Kevin Dotson<br>Player Speed:1.253 MPH",
            "nflId:53453<br>displayName:Najee Harris<br>Player Speed:3.311 MPH",
            "nflId:53484<br>displayName:Pat Freiermuth<br>Player Speed:4.25 MPH",
            "nflId:53557<br>displayName:Dan Moore<br>Player Speed:1.051 MPH",
            "nflId:54517<br>displayName:George Pickens<br>Player Speed:7.404 MPH"
           ],
           "marker": {
            "color": "#FFB612",
            "line": {
             "color": "#101820",
             "width": 2
            },
            "size": 10
           },
           "mode": "markers",
           "name": "PIT",
           "type": "scatter",
           "x": [
            23.62,
            20.3,
            20.44,
            19.56,
            20.32,
            20.39,
            20.09,
            20.92,
            21.41,
            20.3,
            21.22
           ],
           "y": [
            29.79,
            31.17,
            32.77,
            29.5,
            39.83,
            21.15,
            28.19,
            36.89,
            25.33,
            26.54,
            15.33
           ]
          },
          {
           "hoverinfo": "none",
           "marker": {
            "color": "#CBB67C",
            "line": {
             "color": "#663831",
             "width": 2
            },
            "size": 10
           },
           "mode": "markers",
           "name": "football",
           "type": "scatter",
           "x": [
            19.0599994659424
           ],
           "y": [
            29.5900001525879
           ]
          }
         ],
         "name": "7"
        },
        {
         "data": [
          {
           "hoverinfo": "none",
           "mode": "text",
           "showlegend": false,
           "text": [
            "10",
            "20",
            "30",
            "40",
            "50",
            "40",
            "30",
            "20",
            "10"
           ],
           "textfont": {
            "color": "#ffffff",
            "family": "Courier New, monospace",
            "size": 30
           },
           "type": "scatter",
           "x": [
            20,
            30,
            40,
            50,
            60,
            70,
            80,
            90,
            100
           ],
           "y": [
            5,
            5,
            5,
            5,
            5,
            5,
            5,
            5,
            5
           ]
          },
          {
           "hoverinfo": "none",
           "mode": "text",
           "showlegend": false,
           "text": [
            "10",
            "20",
            "30",
            "40",
            "50",
            "40",
            "30",
            "20",
            "10"
           ],
           "textfont": {
            "color": "#ffffff",
            "family": "Courier New, monospace",
            "size": 30
           },
           "type": "scatter",
           "x": [
            20,
            30,
            40,
            50,
            60,
            70,
            80,
            90,
            100
           ],
           "y": [
            48.5,
            48.5,
            48.5,
            48.5,
            48.5,
            48.5,
            48.5,
            48.5,
            48.5
           ]
          },
          {
           "hoverinfo": "none",
           "line": {
            "color": "blue",
            "dash": "dash"
           },
           "showlegend": false,
           "type": "scatter",
           "x": [
            19,
            19
           ],
           "y": [
            0,
            53.5
           ]
          },
          {
           "hoverinfo": "none",
           "line": {
            "color": "yellow",
            "dash": "dash"
           },
           "showlegend": false,
           "type": "scatter",
           "x": [
            10,
            10
           ],
           "y": [
            0,
            53.5
           ]
          },
          {
           "fill": "toself",
           "fillcolor": "#000000",
           "hoverinfo": "skip",
           "line": {
            "color": "white",
            "width": 3
           },
           "mode": "lines",
           "opacity": 1,
           "showlegend": false,
           "type": "scatter",
           "x": [
            0,
            0,
            10,
            10,
            0
           ],
           "y": [
            0,
            53.5,
            53.5,
            0,
            0
           ]
          },
          {
           "fill": "toself",
           "fillcolor": "#FFB612",
           "hoverinfo": "skip",
           "line": {
            "color": "white",
            "width": 3
           },
           "mode": "lines",
           "opacity": 1,
           "showlegend": false,
           "type": "scatter",
           "x": [
            110,
            110,
            120,
            120,
            110
           ],
           "y": [
            0,
            53.5,
            53.5,
            0,
            0
           ]
          },
          {
           "hoverinfo": "text",
           "hovertext": [
            "nflId:43299<br>displayName:Eli Apple<br>Player Speed:6.286 MPH",
            "nflId:43350<br>displayName:Vonn Bell<br>Player Speed:4.273 MPH",
            "nflId:43455<br>displayName:D.J. Reader<br>Player Speed:0.0 MPH",
            "nflId:43641<br>displayName:Mike Hilton<br>Player Speed:5.637 MPH",
            "nflId:44872<br>displayName:Chidobe Awuzie<br>Player Speed:3.288 MPH",
            "nflId:44915<br>displayName:Trey Hendrickson<br>Player Speed:0.895 MPH",
            "nflId:46123<br>displayName:Jessie Bates<br>Player Speed:2.863 MPH",
            "nflId:46138<br>displayName:B.J. Hill<br>Player Speed:1.409 MPH",
            "nflId:46146<br>displayName:Sam Hubbard<br>Player Speed:0.94 MPH",
            "nflId:47855<br>displayName:Germaine Pratt<br>Player Speed:0.582 MPH",
            "nflId:52473<br>displayName:Logan Wilson<br>Player Speed:1.7 MPH"
           ],
           "marker": {
            "color": "#000000",
            "line": {
             "color": "#FB4F14",
             "width": 2
            },
            "size": 10
           },
           "mode": "markers",
           "name": "CIN",
           "type": "scatter",
           "x": [
            14.58,
            11.8,
            16.26,
            14.59,
            14.79,
            16.79,
            8.99,
            15.9,
            16.49,
            12.91,
            12.86
           ],
           "y": [
            17.76,
            34.14,
            29.98,
            22.16,
            40.33,
            24.22,
            26.69,
            29.07,
            34.7,
            31.75,
            28.01
           ]
          },
          {
           "hoverinfo": "text",
           "hovertext": [
            "nflId:44814<br>displayName:Mitchell Trubisky<br>Player Speed:1.118 MPH",
            "nflId:46108<br>displayName:James Daniels<br>Player Speed:0.738 MPH",
            "nflId:46161<br>displayName:Chukwuma Okorafor<br>Player Speed:0.85 MPH",
            "nflId:46166<br>displayName:Mason Cole<br>Player Speed:0.447 MPH",
            "nflId:47849<br>displayName:Diontae Johnson<br>Player Speed:5.257 MPH",
            "nflId:52457<br>displayName:Chase Claypool<br>Player Speed:7.516 MPH",
            "nflId:52543<br>displayName:Kevin Dotson<br>Player Speed:1.118 MPH",
            "nflId:53453<br>displayName:Najee Harris<br>Player Speed:2.953 MPH",
            "nflId:53484<br>displayName:Pat Freiermuth<br>Player Speed:4.094 MPH",
            "nflId:53557<br>displayName:Dan Moore<br>Player Speed:0.917 MPH",
            "nflId:54517<br>displayName:George Pickens<br>Player Speed:6.912 MPH"
           ],
           "marker": {
            "color": "#FFB612",
            "line": {
             "color": "#101820",
             "width": 2
            },
            "size": 10
           },
           "mode": "markers",
           "name": "PIT",
           "type": "scatter",
           "x": [
            23.65,
            20.27,
            20.4,
            19.54,
            20.23,
            20.25,
            20.05,
            20.85,
            21.34,
            20.28,
            21.12
           ],
           "y": [
            29.76,
            31.16,
            32.75,
            29.5,
            40.06,
            20.83,
            28.16,
            37.01,
            25.15,
            26.49,
            15.03
           ]
          },
          {
           "hoverinfo": "none",
           "marker": {
            "color": "#CBB67C",
            "line": {
             "color": "#663831",
             "width": 2
            },
            "size": 10
           },
           "mode": "markers",
           "name": "football",
           "type": "scatter",
           "x": [
            19.0499992370605
           ],
           "y": [
            29.5900001525879
           ]
          }
         ],
         "name": "8"
        },
        {
         "data": [
          {
           "hoverinfo": "none",
           "mode": "text",
           "showlegend": false,
           "text": [
            "10",
            "20",
            "30",
            "40",
            "50",
            "40",
            "30",
            "20",
            "10"
           ],
           "textfont": {
            "color": "#ffffff",
            "family": "Courier New, monospace",
            "size": 30
           },
           "type": "scatter",
           "x": [
            20,
            30,
            40,
            50,
            60,
            70,
            80,
            90,
            100
           ],
           "y": [
            5,
            5,
            5,
            5,
            5,
            5,
            5,
            5,
            5
           ]
          },
          {
           "hoverinfo": "none",
           "mode": "text",
           "showlegend": false,
           "text": [
            "10",
            "20",
            "30",
            "40",
            "50",
            "40",
            "30",
            "20",
            "10"
           ],
           "textfont": {
            "color": "#ffffff",
            "family": "Courier New, monospace",
            "size": 30
           },
           "type": "scatter",
           "x": [
            20,
            30,
            40,
            50,
            60,
            70,
            80,
            90,
            100
           ],
           "y": [
            48.5,
            48.5,
            48.5,
            48.5,
            48.5,
            48.5,
            48.5,
            48.5,
            48.5
           ]
          },
          {
           "hoverinfo": "none",
           "line": {
            "color": "blue",
            "dash": "dash"
           },
           "showlegend": false,
           "type": "scatter",
           "x": [
            19,
            19
           ],
           "y": [
            0,
            53.5
           ]
          },
          {
           "hoverinfo": "none",
           "line": {
            "color": "yellow",
            "dash": "dash"
           },
           "showlegend": false,
           "type": "scatter",
           "x": [
            10,
            10
           ],
           "y": [
            0,
            53.5
           ]
          },
          {
           "fill": "toself",
           "fillcolor": "#000000",
           "hoverinfo": "skip",
           "line": {
            "color": "white",
            "width": 3
           },
           "mode": "lines",
           "opacity": 1,
           "showlegend": false,
           "type": "scatter",
           "x": [
            0,
            0,
            10,
            10,
            0
           ],
           "y": [
            0,
            53.5,
            53.5,
            0,
            0
           ]
          },
          {
           "fill": "toself",
           "fillcolor": "#FFB612",
           "hoverinfo": "skip",
           "line": {
            "color": "white",
            "width": 3
           },
           "mode": "lines",
           "opacity": 1,
           "showlegend": false,
           "type": "scatter",
           "x": [
            110,
            110,
            120,
            120,
            110
           ],
           "y": [
            0,
            53.5,
            53.5,
            0,
            0
           ]
          },
          {
           "hoverinfo": "text",
           "hovertext": [
            "nflId:43299<br>displayName:Eli Apple<br>Player Speed:6.107 MPH",
            "nflId:43350<br>displayName:Vonn Bell<br>Player Speed:4.407 MPH",
            "nflId:43455<br>displayName:D.J. Reader<br>Player Speed:0.0 MPH",
            "nflId:43641<br>displayName:Mike Hilton<br>Player Speed:5.57 MPH",
            "nflId:44872<br>displayName:Chidobe Awuzie<br>Player Speed:3.311 MPH",
            "nflId:44915<br>displayName:Trey Hendrickson<br>Player Speed:0.917 MPH",
            "nflId:46123<br>displayName:Jessie Bates<br>Player Speed:2.796 MPH",
            "nflId:46138<br>displayName:B.J. Hill<br>Player Speed:1.163 MPH",
            "nflId:46146<br>displayName:Sam Hubbard<br>Player Speed:0.85 MPH",
            "nflId:47855<br>displayName:Germaine Pratt<br>Player Speed:0.514 MPH",
            "nflId:52473<br>displayName:Logan Wilson<br>Player Speed:1.499 MPH"
           ],
           "marker": {
            "color": "#000000",
            "line": {
             "color": "#FB4F14",
             "width": 2
            },
            "size": 10
           },
           "mode": "markers",
           "name": "CIN",
           "type": "scatter",
           "x": [
            14.56,
            11.88,
            16.27,
            14.6,
            14.71,
            16.77,
            8.91,
            15.92,
            16.49,
            12.89,
            12.83
           ],
           "y": [
            17.49,
            34.32,
            30,
            21.91,
            40.45,
            24.17,
            26.59,
            29.01,
            34.74,
            31.76,
            27.95
           ]
          },
          {
           "hoverinfo": "text",
           "hovertext": [
            "nflId:44814<br>displayName:Mitchell Trubisky<br>Player Speed:1.163 MPH",
            "nflId:46108<br>displayName:James Daniels<br>Player Speed:0.738 MPH",
            "nflId:46161<br>displayName:Chukwuma Okorafor<br>Player Speed:0.828 MPH",
            "nflId:46166<br>displayName:Mason Cole<br>Player Speed:0.313 MPH",
            "nflId:47849<br>displayName:Diontae Johnson<br>Player Speed:4.966 MPH",
            "nflId:52457<br>displayName:Chase Claypool<br>Player Speed:6.957 MPH",
            "nflId:52543<br>displayName:Kevin Dotson<br>Player Speed:0.984 MPH",
            "nflId:53453<br>displayName:Najee Harris<br>Player Speed:2.707 MPH",
            "nflId:53484<br>displayName:Pat Freiermuth<br>Player Speed:4.026 MPH",
            "nflId:53557<br>displayName:Dan Moore<br>Player Speed:0.805 MPH",
            "nflId:54517<br>displayName:George Pickens<br>Player Speed:6.465 MPH"
           ],
           "marker": {
            "color": "#FFB612",
            "line": {
             "color": "#101820",
             "width": 2
            },
            "size": 10
           },
           "mode": "markers",
           "name": "PIT",
           "type": "scatter",
           "x": [
            23.7,
            20.23,
            20.37,
            19.52,
            20.15,
            20.13,
            20.02,
            20.78,
            21.28,
            20.27,
            21.03
           ],
           "y": [
            29.73,
            31.14,
            32.73,
            29.51,
            40.27,
            20.54,
            28.14,
            37.12,
            24.98,
            26.46,
            14.74
           ]
          },
          {
           "hoverinfo": "none",
           "marker": {
            "color": "#CBB67C",
            "line": {
             "color": "#663831",
             "width": 2
            },
            "size": 10
           },
           "mode": "markers",
           "name": "football",
           "type": "scatter",
           "x": [
            19.0499992370605
           ],
           "y": [
            29.5900001525879
           ]
          }
         ],
         "name": "9"
        },
        {
         "data": [
          {
           "hoverinfo": "none",
           "mode": "text",
           "showlegend": false,
           "text": [
            "10",
            "20",
            "30",
            "40",
            "50",
            "40",
            "30",
            "20",
            "10"
           ],
           "textfont": {
            "color": "#ffffff",
            "family": "Courier New, monospace",
            "size": 30
           },
           "type": "scatter",
           "x": [
            20,
            30,
            40,
            50,
            60,
            70,
            80,
            90,
            100
           ],
           "y": [
            5,
            5,
            5,
            5,
            5,
            5,
            5,
            5,
            5
           ]
          },
          {
           "hoverinfo": "none",
           "mode": "text",
           "showlegend": false,
           "text": [
            "10",
            "20",
            "30",
            "40",
            "50",
            "40",
            "30",
            "20",
            "10"
           ],
           "textfont": {
            "color": "#ffffff",
            "family": "Courier New, monospace",
            "size": 30
           },
           "type": "scatter",
           "x": [
            20,
            30,
            40,
            50,
            60,
            70,
            80,
            90,
            100
           ],
           "y": [
            48.5,
            48.5,
            48.5,
            48.5,
            48.5,
            48.5,
            48.5,
            48.5,
            48.5
           ]
          },
          {
           "hoverinfo": "none",
           "line": {
            "color": "blue",
            "dash": "dash"
           },
           "showlegend": false,
           "type": "scatter",
           "x": [
            19,
            19
           ],
           "y": [
            0,
            53.5
           ]
          },
          {
           "hoverinfo": "none",
           "line": {
            "color": "yellow",
            "dash": "dash"
           },
           "showlegend": false,
           "type": "scatter",
           "x": [
            10,
            10
           ],
           "y": [
            0,
            53.5
           ]
          },
          {
           "fill": "toself",
           "fillcolor": "#000000",
           "hoverinfo": "skip",
           "line": {
            "color": "white",
            "width": 3
           },
           "mode": "lines",
           "opacity": 1,
           "showlegend": false,
           "type": "scatter",
           "x": [
            0,
            0,
            10,
            10,
            0
           ],
           "y": [
            0,
            53.5,
            53.5,
            0,
            0
           ]
          },
          {
           "fill": "toself",
           "fillcolor": "#FFB612",
           "hoverinfo": "skip",
           "line": {
            "color": "white",
            "width": 3
           },
           "mode": "lines",
           "opacity": 1,
           "showlegend": false,
           "type": "scatter",
           "x": [
            110,
            110,
            120,
            120,
            110
           ],
           "y": [
            0,
            53.5,
            53.5,
            0,
            0
           ]
          },
          {
           "hoverinfo": "text",
           "hovertext": [
            "nflId:43299<br>displayName:Eli Apple<br>Player Speed:5.973 MPH",
            "nflId:43350<br>displayName:Vonn Bell<br>Player Speed:4.429 MPH",
            "nflId:43455<br>displayName:D.J. Reader<br>Player Speed:0.0 MPH",
            "nflId:43641<br>displayName:Mike Hilton<br>Player Speed:5.592 MPH",
            "nflId:44872<br>displayName:Chidobe Awuzie<br>Player Speed:3.288 MPH",
            "nflId:44915<br>displayName:Trey Hendrickson<br>Player Speed:0.917 MPH",
            "nflId:46123<br>displayName:Jessie Bates<br>Player Speed:2.528 MPH",
            "nflId:46138<br>displayName:B.J. Hill<br>Player Speed:0.984 MPH",
            "nflId:46146<br>displayName:Sam Hubbard<br>Player Speed:0.738 MPH",
            "nflId:47855<br>displayName:Germaine Pratt<br>Player Speed:0.47 MPH",
            "nflId:52473<br>displayName:Logan Wilson<br>Player Speed:1.454 MPH"
           ],
           "marker": {
            "color": "#000000",
            "line": {
             "color": "#FB4F14",
             "width": 2
            },
            "size": 10
           },
           "mode": "markers",
           "name": "CIN",
           "type": "scatter",
           "x": [
            14.54,
            11.96,
            16.28,
            14.6,
            14.63,
            16.76,
            8.85,
            15.93,
            16.49,
            12.87,
            12.81
           ],
           "y": [
            17.21,
            34.5,
            30.01,
            21.66,
            40.58,
            24.12,
            26.48,
            28.97,
            34.77,
            31.77,
            27.89
           ]
          },
          {
           "hoverinfo": "text",
           "hovertext": [
            "nflId:44814<br>displayName:Mitchell Trubisky<br>Player Speed:1.163 MPH",
            "nflId:46108<br>displayName:James Daniels<br>Player Speed:0.626 MPH",
            "nflId:46161<br>displayName:Chukwuma Okorafor<br>Player Speed:0.828 MPH",
            "nflId:46166<br>displayName:Mason Cole<br>Player Speed:0.268 MPH",
            "nflId:47849<br>displayName:Diontae Johnson<br>Player Speed:4.608 MPH",
            "nflId:52457<br>displayName:Chase Claypool<br>Player Speed:6.442 MPH",
            "nflId:52543<br>displayName:Kevin Dotson<br>Player Speed:0.85 MPH",
            "nflId:53453<br>displayName:Najee Harris<br>Player Speed:2.416 MPH",
            "nflId:53484<br>displayName:Pat Freiermuth<br>Player Speed:3.848 MPH",
            "nflId:53557<br>displayName:Dan Moore<br>Player Speed:0.716 MPH",
            "nflId:54517<br>displayName:George Pickens<br>Player Speed:6.062 MPH"
           ],
           "marker": {
            "color": "#FFB612",
            "line": {
             "color": "#101820",
             "width": 2
            },
            "size": 10
           },
           "mode": "markers",
           "name": "PIT",
           "type": "scatter",
           "x": [
            23.74,
            20.2,
            20.34,
            19.51,
            20.09,
            20.01,
            20,
            20.73,
            21.22,
            20.25,
            20.96
           ],
           "y": [
            29.7,
            31.13,
            32.71,
            29.5,
            40.48,
            20.26,
            28.11,
            37.22,
            24.81,
            26.43,
            14.47
           ]
          },
          {
           "hoverinfo": "none",
           "marker": {
            "color": "#CBB67C",
            "line": {
             "color": "#663831",
             "width": 2
            },
            "size": 10
           },
           "mode": "markers",
           "name": "football",
           "type": "scatter",
           "x": [
            19.0499992370605
           ],
           "y": [
            29.5900001525879
           ]
          }
         ],
         "name": "10"
        },
        {
         "data": [
          {
           "hoverinfo": "none",
           "mode": "text",
           "showlegend": false,
           "text": [
            "10",
            "20",
            "30",
            "40",
            "50",
            "40",
            "30",
            "20",
            "10"
           ],
           "textfont": {
            "color": "#ffffff",
            "family": "Courier New, monospace",
            "size": 30
           },
           "type": "scatter",
           "x": [
            20,
            30,
            40,
            50,
            60,
            70,
            80,
            90,
            100
           ],
           "y": [
            5,
            5,
            5,
            5,
            5,
            5,
            5,
            5,
            5
           ]
          },
          {
           "hoverinfo": "none",
           "mode": "text",
           "showlegend": false,
           "text": [
            "10",
            "20",
            "30",
            "40",
            "50",
            "40",
            "30",
            "20",
            "10"
           ],
           "textfont": {
            "color": "#ffffff",
            "family": "Courier New, monospace",
            "size": 30
           },
           "type": "scatter",
           "x": [
            20,
            30,
            40,
            50,
            60,
            70,
            80,
            90,
            100
           ],
           "y": [
            48.5,
            48.5,
            48.5,
            48.5,
            48.5,
            48.5,
            48.5,
            48.5,
            48.5
           ]
          },
          {
           "hoverinfo": "none",
           "line": {
            "color": "blue",
            "dash": "dash"
           },
           "showlegend": false,
           "type": "scatter",
           "x": [
            19,
            19
           ],
           "y": [
            0,
            53.5
           ]
          },
          {
           "hoverinfo": "none",
           "line": {
            "color": "yellow",
            "dash": "dash"
           },
           "showlegend": false,
           "type": "scatter",
           "x": [
            10,
            10
           ],
           "y": [
            0,
            53.5
           ]
          },
          {
           "fill": "toself",
           "fillcolor": "#000000",
           "hoverinfo": "skip",
           "line": {
            "color": "white",
            "width": 3
           },
           "mode": "lines",
           "opacity": 1,
           "showlegend": false,
           "type": "scatter",
           "x": [
            0,
            0,
            10,
            10,
            0
           ],
           "y": [
            0,
            53.5,
            53.5,
            0,
            0
           ]
          },
          {
           "fill": "toself",
           "fillcolor": "#FFB612",
           "hoverinfo": "skip",
           "line": {
            "color": "white",
            "width": 3
           },
           "mode": "lines",
           "opacity": 1,
           "showlegend": false,
           "type": "scatter",
           "x": [
            110,
            110,
            120,
            120,
            110
           ],
           "y": [
            0,
            53.5,
            53.5,
            0,
            0
           ]
          },
          {
           "hoverinfo": "text",
           "hovertext": [
            "nflId:43299<br>displayName:Eli Apple<br>Player Speed:5.838 MPH",
            "nflId:43350<br>displayName:Vonn Bell<br>Player Speed:4.407 MPH",
            "nflId:43455<br>displayName:D.J. Reader<br>Player Speed:0.112 MPH",
            "nflId:43641<br>displayName:Mike Hilton<br>Player Speed:5.592 MPH",
            "nflId:44872<br>displayName:Chidobe Awuzie<br>Player Speed:3.266 MPH",
            "nflId:44915<br>displayName:Trey Hendrickson<br>Player Speed:0.94 MPH",
            "nflId:46123<br>displayName:Jessie Bates<br>Player Speed:2.371 MPH",
            "nflId:46138<br>displayName:B.J. Hill<br>Player Speed:0.984 MPH",
            "nflId:46146<br>displayName:Sam Hubbard<br>Player Speed:0.649 MPH",
            "nflId:47855<br>displayName:Germaine Pratt<br>Player Speed:0.358 MPH",
            "nflId:52473<br>displayName:Logan Wilson<br>Player Speed:1.521 MPH"
           ],
           "marker": {
            "color": "#000000",
            "line": {
             "color": "#FB4F14",
             "width": 2
            },
            "size": 10
           },
           "mode": "markers",
           "name": "CIN",
           "type": "scatter",
           "x": [
            14.52,
            12.04,
            16.29,
            14.6,
            14.56,
            16.76,
            8.81,
            15.95,
            16.5,
            12.85,
            12.79
           ],
           "y": [
            16.95,
            34.68,
            30.01,
            21.41,
            40.71,
            24.08,
            26.38,
            28.92,
            34.8,
            31.78,
            27.82
           ]
          },
          {
           "hoverinfo": "text",
           "hovertext": [
            "nflId:44814<br>displayName:Mitchell Trubisky<br>Player Speed:1.118 MPH",
            "nflId:46108<br>displayName:James Daniels<br>Player Speed:0.537 MPH",
            "nflId:46161<br>displayName:Chukwuma Okorafor<br>Player Speed:0.805 MPH",
            "nflId:46166<br>displayName:Mason Cole<br>Player Speed:0.291 MPH",
            "nflId:47849<br>displayName:Diontae Johnson<br>Player Speed:4.317 MPH",
            "nflId:52457<br>displayName:Chase Claypool<br>Player Speed:6.017 MPH",
            "nflId:52543<br>displayName:Kevin Dotson<br>Player Speed:0.738 MPH",
            "nflId:53453<br>displayName:Najee Harris<br>Player Speed:2.147 MPH",
            "nflId:53484<br>displayName:Pat Freiermuth<br>Player Speed:3.713 MPH",
            "nflId:53557<br>displayName:Dan Moore<br>Player Speed:0.604 MPH",
            "nflId:54517<br>displayName:George Pickens<br>Player Speed:5.592 MPH"
           ],
           "marker": {
            "color": "#FFB612",
            "line": {
             "color": "#101820",
             "width": 2
            },
            "size": 10
           },
           "mode": "markers",
           "name": "PIT",
           "type": "scatter",
           "x": [
            23.79,
            20.18,
            20.31,
            19.5,
            20.03,
            19.91,
            19.97,
            20.68,
            21.16,
            20.24,
            20.89
           ],
           "y": [
            29.68,
            31.12,
            32.69,
            29.49,
            40.67,
            20,
            28.09,
            37.31,
            24.66,
            26.4,
            14.22
           ]
          },
          {
           "hoverinfo": "none",
           "marker": {
            "color": "#CBB67C",
            "line": {
             "color": "#663831",
             "width": 2
            },
            "size": 10
           },
           "mode": "markers",
           "name": "football",
           "type": "scatter",
           "x": [
            19.0499992370605
           ],
           "y": [
            29.5900001525879
           ]
          }
         ],
         "name": "11"
        },
        {
         "data": [
          {
           "hoverinfo": "none",
           "mode": "text",
           "showlegend": false,
           "text": [
            "10",
            "20",
            "30",
            "40",
            "50",
            "40",
            "30",
            "20",
            "10"
           ],
           "textfont": {
            "color": "#ffffff",
            "family": "Courier New, monospace",
            "size": 30
           },
           "type": "scatter",
           "x": [
            20,
            30,
            40,
            50,
            60,
            70,
            80,
            90,
            100
           ],
           "y": [
            5,
            5,
            5,
            5,
            5,
            5,
            5,
            5,
            5
           ]
          },
          {
           "hoverinfo": "none",
           "mode": "text",
           "showlegend": false,
           "text": [
            "10",
            "20",
            "30",
            "40",
            "50",
            "40",
            "30",
            "20",
            "10"
           ],
           "textfont": {
            "color": "#ffffff",
            "family": "Courier New, monospace",
            "size": 30
           },
           "type": "scatter",
           "x": [
            20,
            30,
            40,
            50,
            60,
            70,
            80,
            90,
            100
           ],
           "y": [
            48.5,
            48.5,
            48.5,
            48.5,
            48.5,
            48.5,
            48.5,
            48.5,
            48.5
           ]
          },
          {
           "hoverinfo": "none",
           "line": {
            "color": "blue",
            "dash": "dash"
           },
           "showlegend": false,
           "type": "scatter",
           "x": [
            19,
            19
           ],
           "y": [
            0,
            53.5
           ]
          },
          {
           "hoverinfo": "none",
           "line": {
            "color": "yellow",
            "dash": "dash"
           },
           "showlegend": false,
           "type": "scatter",
           "x": [
            10,
            10
           ],
           "y": [
            0,
            53.5
           ]
          },
          {
           "fill": "toself",
           "fillcolor": "#000000",
           "hoverinfo": "skip",
           "line": {
            "color": "white",
            "width": 3
           },
           "mode": "lines",
           "opacity": 1,
           "showlegend": false,
           "type": "scatter",
           "x": [
            0,
            0,
            10,
            10,
            0
           ],
           "y": [
            0,
            53.5,
            53.5,
            0,
            0
           ]
          },
          {
           "fill": "toself",
           "fillcolor": "#FFB612",
           "hoverinfo": "skip",
           "line": {
            "color": "white",
            "width": 3
           },
           "mode": "lines",
           "opacity": 1,
           "showlegend": false,
           "type": "scatter",
           "x": [
            110,
            110,
            120,
            120,
            110
           ],
           "y": [
            0,
            53.5,
            53.5,
            0,
            0
           ]
          },
          {
           "hoverinfo": "text",
           "hovertext": [
            "nflId:43299<br>displayName:Eli Apple<br>Player Speed:5.794 MPH",
            "nflId:43350<br>displayName:Vonn Bell<br>Player Speed:4.429 MPH",
            "nflId:43455<br>displayName:D.J. Reader<br>Player Speed:0.649 MPH",
            "nflId:43641<br>displayName:Mike Hilton<br>Player Speed:5.413 MPH",
            "nflId:44872<br>displayName:Chidobe Awuzie<br>Player Speed:3.199 MPH",
            "nflId:44915<br>displayName:Trey Hendrickson<br>Player Speed:1.007 MPH",
            "nflId:46123<br>displayName:Jessie Bates<br>Player Speed:2.237 MPH",
            "nflId:46138<br>displayName:B.J. Hill<br>Player Speed:1.096 MPH",
            "nflId:46146<br>displayName:Sam Hubbard<br>Player Speed:0.582 MPH",
            "nflId:47855<br>displayName:Germaine Pratt<br>Player Speed:0.268 MPH",
            "nflId:52473<br>displayName:Logan Wilson<br>Player Speed:1.588 MPH"
           ],
           "marker": {
            "color": "#000000",
            "line": {
             "color": "#FB4F14",
             "width": 2
            },
            "size": 10
           },
           "mode": "markers",
           "name": "CIN",
           "type": "scatter",
           "x": [
            14.5,
            12.12,
            16.3,
            14.59,
            14.49,
            16.76,
            8.78,
            15.97,
            16.5,
            12.84,
            12.78
           ],
           "y": [
            16.69,
            34.87,
            30.02,
            21.17,
            40.83,
            24.03,
            26.29,
            28.88,
            34.82,
            31.79,
            27.75
           ]
          },
          {
           "hoverinfo": "text",
           "hovertext": [
            "nflId:44814<br>displayName:Mitchell Trubisky<br>Player Speed:1.051 MPH",
            "nflId:46108<br>displayName:James Daniels<br>Player Speed:0.492 MPH",
            "nflId:46161<br>displayName:Chukwuma Okorafor<br>Player Speed:0.582 MPH",
            "nflId:46166<br>displayName:Mason Cole<br>Player Speed:0.336 MPH",
            "nflId:47849<br>displayName:Diontae Johnson<br>Player Speed:4.094 MPH",
            "nflId:52457<br>displayName:Chase Claypool<br>Player Speed:5.302 MPH",
            "nflId:52543<br>displayName:Kevin Dotson<br>Player Speed:0.716 MPH",
            "nflId:53453<br>displayName:Najee Harris<br>Player Speed:1.834 MPH",
            "nflId:53484<br>displayName:Pat Freiermuth<br>Player Speed:3.646 MPH",
            "nflId:53557<br>displayName:Dan Moore<br>Player Speed:0.47 MPH",
            "nflId:54517<br>displayName:George Pickens<br>Player Speed:5.167 MPH"
           ],
           "marker": {
            "color": "#FFB612",
            "line": {
             "color": "#101820",
             "width": 2
            },
            "size": 10
           },
           "mode": "markers",
           "name": "PIT",
           "type": "scatter",
           "x": [
            23.84,
            20.16,
            20.29,
            19.5,
            19.98,
            19.82,
            19.96,
            20.64,
            21.1,
            20.22,
            20.83
           ],
           "y": [
            29.67,
            31.11,
            32.69,
            29.48,
            40.85,
            19.77,
            28.06,
            37.4,
            24.51,
            26.38,
            13.99
           ]
          },
          {
           "hoverinfo": "none",
           "marker": {
            "color": "#CBB67C",
            "line": {
             "color": "#663831",
             "width": 2
            },
            "size": 10
           },
           "mode": "markers",
           "name": "football",
           "type": "scatter",
           "x": [
            19.0400009155273
           ],
           "y": [
            29.5900001525879
           ]
          }
         ],
         "name": "12"
        },
        {
         "data": [
          {
           "hoverinfo": "none",
           "mode": "text",
           "showlegend": false,
           "text": [
            "10",
            "20",
            "30",
            "40",
            "50",
            "40",
            "30",
            "20",
            "10"
           ],
           "textfont": {
            "color": "#ffffff",
            "family": "Courier New, monospace",
            "size": 30
           },
           "type": "scatter",
           "x": [
            20,
            30,
            40,
            50,
            60,
            70,
            80,
            90,
            100
           ],
           "y": [
            5,
            5,
            5,
            5,
            5,
            5,
            5,
            5,
            5
           ]
          },
          {
           "hoverinfo": "none",
           "mode": "text",
           "showlegend": false,
           "text": [
            "10",
            "20",
            "30",
            "40",
            "50",
            "40",
            "30",
            "20",
            "10"
           ],
           "textfont": {
            "color": "#ffffff",
            "family": "Courier New, monospace",
            "size": 30
           },
           "type": "scatter",
           "x": [
            20,
            30,
            40,
            50,
            60,
            70,
            80,
            90,
            100
           ],
           "y": [
            48.5,
            48.5,
            48.5,
            48.5,
            48.5,
            48.5,
            48.5,
            48.5,
            48.5
           ]
          },
          {
           "hoverinfo": "none",
           "line": {
            "color": "blue",
            "dash": "dash"
           },
           "showlegend": false,
           "type": "scatter",
           "x": [
            19,
            19
           ],
           "y": [
            0,
            53.5
           ]
          },
          {
           "hoverinfo": "none",
           "line": {
            "color": "yellow",
            "dash": "dash"
           },
           "showlegend": false,
           "type": "scatter",
           "x": [
            10,
            10
           ],
           "y": [
            0,
            53.5
           ]
          },
          {
           "fill": "toself",
           "fillcolor": "#000000",
           "hoverinfo": "skip",
           "line": {
            "color": "white",
            "width": 3
           },
           "mode": "lines",
           "opacity": 1,
           "showlegend": false,
           "type": "scatter",
           "x": [
            0,
            0,
            10,
            10,
            0
           ],
           "y": [
            0,
            53.5,
            53.5,
            0,
            0
           ]
          },
          {
           "fill": "toself",
           "fillcolor": "#FFB612",
           "hoverinfo": "skip",
           "line": {
            "color": "white",
            "width": 3
           },
           "mode": "lines",
           "opacity": 1,
           "showlegend": false,
           "type": "scatter",
           "x": [
            110,
            110,
            120,
            120,
            110
           ],
           "y": [
            0,
            53.5,
            53.5,
            0,
            0
           ]
          },
          {
           "hoverinfo": "text",
           "hovertext": [
            "nflId:43299<br>displayName:Eli Apple<br>Player Speed:5.704 MPH",
            "nflId:43350<br>displayName:Vonn Bell<br>Player Speed:4.407 MPH",
            "nflId:43455<br>displayName:D.J. Reader<br>Player Speed:1.499 MPH",
            "nflId:43641<br>displayName:Mike Hilton<br>Player Speed:5.257 MPH",
            "nflId:44872<br>displayName:Chidobe Awuzie<br>Player Speed:3.109 MPH",
            "nflId:44915<br>displayName:Trey Hendrickson<br>Player Speed:1.007 MPH",
            "nflId:46123<br>displayName:Jessie Bates<br>Player Speed:2.08 MPH",
            "nflId:46138<br>displayName:B.J. Hill<br>Player Speed:1.253 MPH",
            "nflId:46146<br>displayName:Sam Hubbard<br>Player Speed:0.604 MPH",
            "nflId:47855<br>displayName:Germaine Pratt<br>Player Speed:0.201 MPH",
            "nflId:52473<br>displayName:Logan Wilson<br>Player Speed:1.7 MPH"
           ],
           "marker": {
            "color": "#000000",
            "line": {
             "color": "#FB4F14",
             "width": 2
            },
            "size": 10
           },
           "mode": "markers",
           "name": "CIN",
           "type": "scatter",
           "x": [
            14.48,
            12.2,
            16.34,
            14.58,
            14.43,
            16.76,
            8.77,
            16,
            16.51,
            12.83,
            12.78
           ],
           "y": [
            16.44,
            35.05,
            30.05,
            20.93,
            40.96,
            23.98,
            26.19,
            28.83,
            34.85,
            31.8,
            27.68
           ]
          },
          {
           "hoverinfo": "text",
           "hovertext": [
            "nflId:44814<br>displayName:Mitchell Trubisky<br>Player Speed:0.94 MPH",
            "nflId:46108<br>displayName:James Daniels<br>Player Speed:0.403 MPH",
            "nflId:46161<br>displayName:Chukwuma Okorafor<br>Player Speed:0.514 MPH",
            "nflId:46166<br>displayName:Mason Cole<br>Player Speed:0.246 MPH",
            "nflId:47849<br>displayName:Diontae Johnson<br>Player Speed:3.803 MPH",
            "nflId:52457<br>displayName:Chase Claypool<br>Player Speed:4.765 MPH",
            "nflId:52543<br>displayName:Kevin Dotson<br>Player Speed:0.514 MPH",
            "nflId:53453<br>displayName:Najee Harris<br>Player Speed:1.543 MPH",
            "nflId:53484<br>displayName:Pat Freiermuth<br>Player Speed:3.467 MPH",
            "nflId:53557<br>displayName:Dan Moore<br>Player Speed:0.313 MPH",
            "nflId:54517<br>displayName:George Pickens<br>Player Speed:4.787 MPH"
           ],
           "marker": {
            "color": "#FFB612",
            "line": {
             "color": "#101820",
             "width": 2
            },
            "size": 10
           },
           "mode": "markers",
           "name": "PIT",
           "type": "scatter",
           "x": [
            23.88,
            20.15,
            20.27,
            19.49,
            19.94,
            19.75,
            19.94,
            20.61,
            21.03,
            20.21,
            20.78
           ],
           "y": [
            29.66,
            31.1,
            32.68,
            29.47,
            41.02,
            19.56,
            28.04,
            37.47,
            24.36,
            26.37,
            13.77
           ]
          },
          {
           "hoverinfo": "none",
           "marker": {
            "color": "#CBB67C",
            "line": {
             "color": "#663831",
             "width": 2
            },
            "size": 10
           },
           "mode": "markers",
           "name": "football",
           "type": "scatter",
           "x": [
            19.0400009155273
           ],
           "y": [
            29.5900001525879
           ]
          }
         ],
         "name": "13"
        },
        {
         "data": [
          {
           "hoverinfo": "none",
           "mode": "text",
           "showlegend": false,
           "text": [
            "10",
            "20",
            "30",
            "40",
            "50",
            "40",
            "30",
            "20",
            "10"
           ],
           "textfont": {
            "color": "#ffffff",
            "family": "Courier New, monospace",
            "size": 30
           },
           "type": "scatter",
           "x": [
            20,
            30,
            40,
            50,
            60,
            70,
            80,
            90,
            100
           ],
           "y": [
            5,
            5,
            5,
            5,
            5,
            5,
            5,
            5,
            5
           ]
          },
          {
           "hoverinfo": "none",
           "mode": "text",
           "showlegend": false,
           "text": [
            "10",
            "20",
            "30",
            "40",
            "50",
            "40",
            "30",
            "20",
            "10"
           ],
           "textfont": {
            "color": "#ffffff",
            "family": "Courier New, monospace",
            "size": 30
           },
           "type": "scatter",
           "x": [
            20,
            30,
            40,
            50,
            60,
            70,
            80,
            90,
            100
           ],
           "y": [
            48.5,
            48.5,
            48.5,
            48.5,
            48.5,
            48.5,
            48.5,
            48.5,
            48.5
           ]
          },
          {
           "hoverinfo": "none",
           "line": {
            "color": "blue",
            "dash": "dash"
           },
           "showlegend": false,
           "type": "scatter",
           "x": [
            19,
            19
           ],
           "y": [
            0,
            53.5
           ]
          },
          {
           "hoverinfo": "none",
           "line": {
            "color": "yellow",
            "dash": "dash"
           },
           "showlegend": false,
           "type": "scatter",
           "x": [
            10,
            10
           ],
           "y": [
            0,
            53.5
           ]
          },
          {
           "fill": "toself",
           "fillcolor": "#000000",
           "hoverinfo": "skip",
           "line": {
            "color": "white",
            "width": 3
           },
           "mode": "lines",
           "opacity": 1,
           "showlegend": false,
           "type": "scatter",
           "x": [
            0,
            0,
            10,
            10,
            0
           ],
           "y": [
            0,
            53.5,
            53.5,
            0,
            0
           ]
          },
          {
           "fill": "toself",
           "fillcolor": "#FFB612",
           "hoverinfo": "skip",
           "line": {
            "color": "white",
            "width": 3
           },
           "mode": "lines",
           "opacity": 1,
           "showlegend": false,
           "type": "scatter",
           "x": [
            110,
            110,
            120,
            120,
            110
           ],
           "y": [
            0,
            53.5,
            53.5,
            0,
            0
           ]
          },
          {
           "hoverinfo": "text",
           "hovertext": [
            "nflId:43299<br>displayName:Eli Apple<br>Player Speed:5.615 MPH",
            "nflId:43350<br>displayName:Vonn Bell<br>Player Speed:4.34 MPH",
            "nflId:43455<br>displayName:D.J. Reader<br>Player Speed:2.282 MPH",
            "nflId:43641<br>displayName:Mike Hilton<br>Player Speed:5.011 MPH",
            "nflId:44872<br>displayName:Chidobe Awuzie<br>Player Speed:3.065 MPH",
            "nflId:44915<br>displayName:Trey Hendrickson<br>Player Speed:0.984 MPH",
            "nflId:46123<br>displayName:Jessie Bates<br>Player Speed:2.013 MPH",
            "nflId:46138<br>displayName:B.J. Hill<br>Player Speed:1.432 MPH",
            "nflId:46146<br>displayName:Sam Hubbard<br>Player Speed:0.626 MPH",
            "nflId:47855<br>displayName:Germaine Pratt<br>Player Speed:0.134 MPH",
            "nflId:52473<br>displayName:Logan Wilson<br>Player Speed:1.834 MPH"
           ],
           "marker": {
            "color": "#000000",
            "line": {
             "color": "#FB4F14",
             "width": 2
            },
            "size": 10
           },
           "mode": "markers",
           "name": "CIN",
           "type": "scatter",
           "x": [
            14.46,
            12.3,
            16.4,
            14.58,
            14.37,
            16.77,
            8.76,
            16.04,
            16.54,
            12.82,
            12.78
           ],
           "y": [
            16.18,
            35.22,
            30.11,
            20.7,
            41.09,
            23.94,
            26.1,
            28.77,
            34.87,
            31.8,
            27.6
           ]
          },
          {
           "hoverinfo": "text",
           "hovertext": [
            "nflId:44814<br>displayName:Mitchell Trubisky<br>Player Speed:0.962 MPH",
            "nflId:46108<br>displayName:James Daniels<br>Player Speed:0.336 MPH",
            "nflId:46161<br>displayName:Chukwuma Okorafor<br>Player Speed:0.403 MPH",
            "nflId:46166<br>displayName:Mason Cole<br>Player Speed:0.224 MPH",
            "nflId:47849<br>displayName:Diontae Johnson<br>Player Speed:3.512 MPH",
            "nflId:52457<br>displayName:Chase Claypool<br>Player Speed:4.295 MPH",
            "nflId:52543<br>displayName:Kevin Dotson<br>Player Speed:0.291 MPH",
            "nflId:53453<br>displayName:Najee Harris<br>Player Speed:1.275 MPH",
            "nflId:53484<br>displayName:Pat Freiermuth<br>Player Speed:3.311 MPH",
            "nflId:53557<br>displayName:Dan Moore<br>Player Speed:0.268 MPH",
            "nflId:54517<br>displayName:George Pickens<br>Player Speed:4.452 MPH"
           ],
           "marker": {
            "color": "#FFB612",
            "line": {
             "color": "#101820",
             "width": 2
            },
            "size": 10
           },
           "mode": "markers",
           "name": "PIT",
           "type": "scatter",
           "x": [
            23.92,
            20.13,
            20.25,
            19.49,
            19.89,
            19.69,
            19.92,
            20.59,
            20.97,
            20.2,
            20.74
           ],
           "y": [
            29.65,
            31.1,
            32.67,
            29.46,
            41.18,
            19.37,
            28.04,
            37.52,
            24.22,
            26.36,
            13.57
           ]
          },
          {
           "hoverinfo": "none",
           "marker": {
            "color": "#CBB67C",
            "line": {
             "color": "#663831",
             "width": 2
            },
            "size": 10
           },
           "mode": "markers",
           "name": "football",
           "type": "scatter",
           "x": [
            19.0400009155273
           ],
           "y": [
            29.5900001525879
           ]
          }
         ],
         "name": "14"
        },
        {
         "data": [
          {
           "hoverinfo": "none",
           "mode": "text",
           "showlegend": false,
           "text": [
            "10",
            "20",
            "30",
            "40",
            "50",
            "40",
            "30",
            "20",
            "10"
           ],
           "textfont": {
            "color": "#ffffff",
            "family": "Courier New, monospace",
            "size": 30
           },
           "type": "scatter",
           "x": [
            20,
            30,
            40,
            50,
            60,
            70,
            80,
            90,
            100
           ],
           "y": [
            5,
            5,
            5,
            5,
            5,
            5,
            5,
            5,
            5
           ]
          },
          {
           "hoverinfo": "none",
           "mode": "text",
           "showlegend": false,
           "text": [
            "10",
            "20",
            "30",
            "40",
            "50",
            "40",
            "30",
            "20",
            "10"
           ],
           "textfont": {
            "color": "#ffffff",
            "family": "Courier New, monospace",
            "size": 30
           },
           "type": "scatter",
           "x": [
            20,
            30,
            40,
            50,
            60,
            70,
            80,
            90,
            100
           ],
           "y": [
            48.5,
            48.5,
            48.5,
            48.5,
            48.5,
            48.5,
            48.5,
            48.5,
            48.5
           ]
          },
          {
           "hoverinfo": "none",
           "line": {
            "color": "blue",
            "dash": "dash"
           },
           "showlegend": false,
           "type": "scatter",
           "x": [
            19,
            19
           ],
           "y": [
            0,
            53.5
           ]
          },
          {
           "hoverinfo": "none",
           "line": {
            "color": "yellow",
            "dash": "dash"
           },
           "showlegend": false,
           "type": "scatter",
           "x": [
            10,
            10
           ],
           "y": [
            0,
            53.5
           ]
          },
          {
           "fill": "toself",
           "fillcolor": "#000000",
           "hoverinfo": "skip",
           "line": {
            "color": "white",
            "width": 3
           },
           "mode": "lines",
           "opacity": 1,
           "showlegend": false,
           "type": "scatter",
           "x": [
            0,
            0,
            10,
            10,
            0
           ],
           "y": [
            0,
            53.5,
            53.5,
            0,
            0
           ]
          },
          {
           "fill": "toself",
           "fillcolor": "#FFB612",
           "hoverinfo": "skip",
           "line": {
            "color": "white",
            "width": 3
           },
           "mode": "lines",
           "opacity": 1,
           "showlegend": false,
           "type": "scatter",
           "x": [
            110,
            110,
            120,
            120,
            110
           ],
           "y": [
            0,
            53.5,
            53.5,
            0,
            0
           ]
          },
          {
           "hoverinfo": "text",
           "hovertext": [
            "nflId:43299<br>displayName:Eli Apple<br>Player Speed:5.548 MPH",
            "nflId:43350<br>displayName:Vonn Bell<br>Player Speed:4.384 MPH",
            "nflId:43455<br>displayName:D.J. Reader<br>Player Speed:2.975 MPH",
            "nflId:43641<br>displayName:Mike Hilton<br>Player Speed:4.586 MPH",
            "nflId:44872<br>displayName:Chidobe Awuzie<br>Player Speed:3.042 MPH",
            "nflId:44915<br>displayName:Trey Hendrickson<br>Player Speed:1.051 MPH",
            "nflId:46123<br>displayName:Jessie Bates<br>Player Speed:2.058 MPH",
            "nflId:46138<br>displayName:B.J. Hill<br>Player Speed:1.834 MPH",
            "nflId:46146<br>displayName:Sam Hubbard<br>Player Speed:0.716 MPH",
            "nflId:47855<br>displayName:Germaine Pratt<br>Player Speed:0.045 MPH",
            "nflId:52473<br>displayName:Logan Wilson<br>Player Speed:2.058 MPH"
           ],
           "marker": {
            "color": "#000000",
            "line": {
             "color": "#FB4F14",
             "width": 2
            },
            "size": 10
           },
           "mode": "markers",
           "name": "CIN",
           "type": "scatter",
           "x": [
            14.44,
            12.4,
            16.48,
            14.58,
            14.32,
            16.78,
            8.77,
            16.1,
            16.56,
            12.82,
            12.8
           ],
           "y": [
            15.94,
            35.39,
            30.19,
            20.49,
            41.21,
            23.89,
            26.01,
            28.72,
            34.9,
            31.8,
            27.51
           ]
          },
          {
           "hoverinfo": "text",
           "hovertext": [
            "nflId:44814<br>displayName:Mitchell Trubisky<br>Player Speed:0.828 MPH",
            "nflId:46108<br>displayName:James Daniels<br>Player Speed:0.224 MPH",
            "nflId:46161<br>displayName:Chukwuma Okorafor<br>Player Speed:0.358 MPH",
            "nflId:46166<br>displayName:Mason Cole<br>Player Speed:0.089 MPH",
            "nflId:47849<br>displayName:Diontae Johnson<br>Player Speed:3.176 MPH",
            "nflId:52457<br>displayName:Chase Claypool<br>Player Speed:3.579 MPH",
            "nflId:52543<br>displayName:Kevin Dotson<br>Player Speed:0.313 MPH",
            "nflId:53453<br>displayName:Najee Harris<br>Player Speed:1.051 MPH",
            "nflId:53484<br>displayName:Pat Freiermuth<br>Player Speed:3.199 MPH",
            "nflId:53557<br>displayName:Dan Moore<br>Player Speed:0.179 MPH",
            "nflId:54517<br>displayName:George Pickens<br>Player Speed:4.228 MPH"
           ],
           "marker": {
            "color": "#FFB612",
            "line": {
             "color": "#101820",
             "width": 2
            },
            "size": 10
           },
           "mode": "markers",
           "name": "PIT",
           "type": "scatter",
           "x": [
            23.96,
            20.12,
            20.23,
            19.49,
            19.85,
            19.65,
            19.91,
            20.59,
            20.92,
            20.19,
            20.69
           ],
           "y": [
            29.64,
            31.1,
            32.66,
            29.46,
            41.32,
            19.21,
            28.05,
            37.58,
            24.09,
            26.37,
            13.38
           ]
          },
          {
           "hoverinfo": "none",
           "marker": {
            "color": "#CBB67C",
            "line": {
             "color": "#663831",
             "width": 2
            },
            "size": 10
           },
           "mode": "markers",
           "name": "football",
           "type": "scatter",
           "x": [
            19.0300006866455
           ],
           "y": [
            29.5900001525879
           ]
          }
         ],
         "name": "15"
        },
        {
         "data": [
          {
           "hoverinfo": "none",
           "mode": "text",
           "showlegend": false,
           "text": [
            "10",
            "20",
            "30",
            "40",
            "50",
            "40",
            "30",
            "20",
            "10"
           ],
           "textfont": {
            "color": "#ffffff",
            "family": "Courier New, monospace",
            "size": 30
           },
           "type": "scatter",
           "x": [
            20,
            30,
            40,
            50,
            60,
            70,
            80,
            90,
            100
           ],
           "y": [
            5,
            5,
            5,
            5,
            5,
            5,
            5,
            5,
            5
           ]
          },
          {
           "hoverinfo": "none",
           "mode": "text",
           "showlegend": false,
           "text": [
            "10",
            "20",
            "30",
            "40",
            "50",
            "40",
            "30",
            "20",
            "10"
           ],
           "textfont": {
            "color": "#ffffff",
            "family": "Courier New, monospace",
            "size": 30
           },
           "type": "scatter",
           "x": [
            20,
            30,
            40,
            50,
            60,
            70,
            80,
            90,
            100
           ],
           "y": [
            48.5,
            48.5,
            48.5,
            48.5,
            48.5,
            48.5,
            48.5,
            48.5,
            48.5
           ]
          },
          {
           "hoverinfo": "none",
           "line": {
            "color": "blue",
            "dash": "dash"
           },
           "showlegend": false,
           "type": "scatter",
           "x": [
            19,
            19
           ],
           "y": [
            0,
            53.5
           ]
          },
          {
           "hoverinfo": "none",
           "line": {
            "color": "yellow",
            "dash": "dash"
           },
           "showlegend": false,
           "type": "scatter",
           "x": [
            10,
            10
           ],
           "y": [
            0,
            53.5
           ]
          },
          {
           "fill": "toself",
           "fillcolor": "#000000",
           "hoverinfo": "skip",
           "line": {
            "color": "white",
            "width": 3
           },
           "mode": "lines",
           "opacity": 1,
           "showlegend": false,
           "type": "scatter",
           "x": [
            0,
            0,
            10,
            10,
            0
           ],
           "y": [
            0,
            53.5,
            53.5,
            0,
            0
           ]
          },
          {
           "fill": "toself",
           "fillcolor": "#FFB612",
           "hoverinfo": "skip",
           "line": {
            "color": "white",
            "width": 3
           },
           "mode": "lines",
           "opacity": 1,
           "showlegend": false,
           "type": "scatter",
           "x": [
            110,
            110,
            120,
            120,
            110
           ],
           "y": [
            0,
            53.5,
            53.5,
            0,
            0
           ]
          },
          {
           "hoverinfo": "text",
           "hovertext": [
            "nflId:43299<br>displayName:Eli Apple<br>Player Speed:5.324 MPH",
            "nflId:43350<br>displayName:Vonn Bell<br>Player Speed:4.407 MPH",
            "nflId:43455<br>displayName:D.J. Reader<br>Player Speed:3.534 MPH",
            "nflId:43641<br>displayName:Mike Hilton<br>Player Speed:4.273 MPH",
            "nflId:44872<br>displayName:Chidobe Awuzie<br>Player Speed:2.953 MPH",
            "nflId:44915<br>displayName:Trey Hendrickson<br>Player Speed:1.007 MPH",
            "nflId:46123<br>displayName:Jessie Bates<br>Player Speed:2.058 MPH",
            "nflId:46138<br>displayName:B.J. Hill<br>Player Speed:2.103 MPH",
            "nflId:46146<br>displayName:Sam Hubbard<br>Player Speed:0.805 MPH",
            "nflId:47855<br>displayName:Germaine Pratt<br>Player Speed:0.089 MPH",
            "nflId:52473<br>displayName:Logan Wilson<br>Player Speed:2.237 MPH"
           ],
           "marker": {
            "color": "#000000",
            "line": {
             "color": "#FB4F14",
             "width": 2
            },
            "size": 10
           },
           "mode": "markers",
           "name": "CIN",
           "type": "scatter",
           "x": [
            14.43,
            12.51,
            16.58,
            14.59,
            14.27,
            16.8,
            8.79,
            16.16,
            16.58,
            12.82,
            12.83
           ],
           "y": [
            15.7,
            35.55,
            30.3,
            20.29,
            41.34,
            23.85,
            25.92,
            28.66,
            34.92,
            31.8,
            27.42
           ]
          },
          {
           "hoverinfo": "text",
           "hovertext": [
            "nflId:44814<br>displayName:Mitchell Trubisky<br>Player Speed:0.716 MPH",
            "nflId:46108<br>displayName:James Daniels<br>Player Speed:0.112 MPH",
            "nflId:46161<br>displayName:Chukwuma Okorafor<br>Player Speed:0.336 MPH",
            "nflId:46166<br>displayName:Mason Cole<br>Player Speed:0.022 MPH",
            "nflId:47849<br>displayName:Diontae Johnson<br>Player Speed:2.796 MPH",
            "nflId:52457<br>displayName:Chase Claypool<br>Player Speed:3.154 MPH",
            "nflId:52543<br>displayName:Kevin Dotson<br>Player Speed:0.38 MPH",
            "nflId:53453<br>displayName:Najee Harris<br>Player Speed:1.118 MPH",
            "nflId:53484<br>displayName:Pat Freiermuth<br>Player Speed:3.154 MPH",
            "nflId:53557<br>displayName:Dan Moore<br>Player Speed:0.246 MPH",
            "nflId:54517<br>displayName:George Pickens<br>Player Speed:3.959 MPH"
           ],
           "marker": {
            "color": "#FFB612",
            "line": {
             "color": "#101820",
             "width": 2
            },
            "size": 10
           },
           "mode": "markers",
           "name": "PIT",
           "type": "scatter",
           "x": [
            23.99,
            20.12,
            20.22,
            19.49,
            19.81,
            19.62,
            19.91,
            20.6,
            20.86,
            20.18,
            20.65
           ],
           "y": [
            29.63,
            31.1,
            32.66,
            29.46,
            41.45,
            19.06,
            28.06,
            37.63,
            23.95,
            26.37,
            13.2
           ]
          },
          {
           "hoverinfo": "none",
           "marker": {
            "color": "#CBB67C",
            "line": {
             "color": "#663831",
             "width": 2
            },
            "size": 10
           },
           "mode": "markers",
           "name": "football",
           "type": "scatter",
           "x": [
            19.0300006866455
           ],
           "y": [
            29.5900001525879
           ]
          }
         ],
         "name": "16"
        },
        {
         "data": [
          {
           "hoverinfo": "none",
           "mode": "text",
           "showlegend": false,
           "text": [
            "10",
            "20",
            "30",
            "40",
            "50",
            "40",
            "30",
            "20",
            "10"
           ],
           "textfont": {
            "color": "#ffffff",
            "family": "Courier New, monospace",
            "size": 30
           },
           "type": "scatter",
           "x": [
            20,
            30,
            40,
            50,
            60,
            70,
            80,
            90,
            100
           ],
           "y": [
            5,
            5,
            5,
            5,
            5,
            5,
            5,
            5,
            5
           ]
          },
          {
           "hoverinfo": "none",
           "mode": "text",
           "showlegend": false,
           "text": [
            "10",
            "20",
            "30",
            "40",
            "50",
            "40",
            "30",
            "20",
            "10"
           ],
           "textfont": {
            "color": "#ffffff",
            "family": "Courier New, monospace",
            "size": 30
           },
           "type": "scatter",
           "x": [
            20,
            30,
            40,
            50,
            60,
            70,
            80,
            90,
            100
           ],
           "y": [
            48.5,
            48.5,
            48.5,
            48.5,
            48.5,
            48.5,
            48.5,
            48.5,
            48.5
           ]
          },
          {
           "hoverinfo": "none",
           "line": {
            "color": "blue",
            "dash": "dash"
           },
           "showlegend": false,
           "type": "scatter",
           "x": [
            19,
            19
           ],
           "y": [
            0,
            53.5
           ]
          },
          {
           "hoverinfo": "none",
           "line": {
            "color": "yellow",
            "dash": "dash"
           },
           "showlegend": false,
           "type": "scatter",
           "x": [
            10,
            10
           ],
           "y": [
            0,
            53.5
           ]
          },
          {
           "fill": "toself",
           "fillcolor": "#000000",
           "hoverinfo": "skip",
           "line": {
            "color": "white",
            "width": 3
           },
           "mode": "lines",
           "opacity": 1,
           "showlegend": false,
           "type": "scatter",
           "x": [
            0,
            0,
            10,
            10,
            0
           ],
           "y": [
            0,
            53.5,
            53.5,
            0,
            0
           ]
          },
          {
           "fill": "toself",
           "fillcolor": "#FFB612",
           "hoverinfo": "skip",
           "line": {
            "color": "white",
            "width": 3
           },
           "mode": "lines",
           "opacity": 1,
           "showlegend": false,
           "type": "scatter",
           "x": [
            110,
            110,
            120,
            120,
            110
           ],
           "y": [
            0,
            53.5,
            53.5,
            0,
            0
           ]
          },
          {
           "hoverinfo": "text",
           "hovertext": [
            "nflId:43299<br>displayName:Eli Apple<br>Player Speed:5.1 MPH",
            "nflId:43350<br>displayName:Vonn Bell<br>Player Speed:4.563 MPH",
            "nflId:43455<br>displayName:D.J. Reader<br>Player Speed:3.803 MPH",
            "nflId:43641<br>displayName:Mike Hilton<br>Player Speed:3.937 MPH",
            "nflId:44872<br>displayName:Chidobe Awuzie<br>Player Speed:2.841 MPH",
            "nflId:44915<br>displayName:Trey Hendrickson<br>Player Speed:0.94 MPH",
            "nflId:46123<br>displayName:Jessie Bates<br>Player Speed:2.036 MPH",
            "nflId:46138<br>displayName:B.J. Hill<br>Player Speed:2.304 MPH",
            "nflId:46146<br>displayName:Sam Hubbard<br>Player Speed:0.85 MPH",
            "nflId:47855<br>displayName:Germaine Pratt<br>Player Speed:0.067 MPH",
            "nflId:52473<br>displayName:Logan Wilson<br>Player Speed:2.438 MPH"
           ],
           "marker": {
            "color": "#000000",
            "line": {
             "color": "#FB4F14",
             "width": 2
            },
            "size": 10
           },
           "mode": "markers",
           "name": "CIN",
           "type": "scatter",
           "x": [
            14.41,
            12.62,
            16.69,
            14.59,
            14.22,
            16.82,
            8.81,
            16.24,
            16.61,
            12.82,
            12.86
           ],
           "y": [
            15.47,
            35.72,
            30.42,
            20.11,
            41.46,
            23.81,
            25.83,
            28.6,
            34.93,
            31.8,
            27.32
           ]
          },
          {
           "hoverinfo": "text",
           "hovertext": [
            "nflId:44814<br>displayName:Mitchell Trubisky<br>Player Speed:0.559 MPH",
            "nflId:46108<br>displayName:James Daniels<br>Player Speed:0.134 MPH",
            "nflId:46161<br>displayName:Chukwuma Okorafor<br>Player Speed:0.291 MPH",
            "nflId:46166<br>displayName:Mason Cole<br>Player Speed:0.134 MPH",
            "nflId:47849<br>displayName:Diontae Johnson<br>Player Speed:2.438 MPH",
            "nflId:52457<br>displayName:Chase Claypool<br>Player Speed:2.774 MPH",
            "nflId:52543<br>displayName:Kevin Dotson<br>Player Speed:0.403 MPH",
            "nflId:53453<br>displayName:Najee Harris<br>Player Speed:1.074 MPH",
            "nflId:53484<br>displayName:Pat Freiermuth<br>Player Speed:2.975 MPH",
            "nflId:53557<br>displayName:Dan Moore<br>Player Speed:0.291 MPH",
            "nflId:54517<br>displayName:George Pickens<br>Player Speed:3.758 MPH"
           ],
           "marker": {
            "color": "#FFB612",
            "line": {
             "color": "#101820",
             "width": 2
            },
            "size": 10
           },
           "mode": "markers",
           "name": "PIT",
           "type": "scatter",
           "x": [
            24.02,
            20.12,
            20.2,
            19.48,
            19.78,
            19.6,
            19.9,
            20.61,
            20.81,
            20.17,
            20.62
           ],
           "y": [
            29.61,
            31.11,
            32.66,
            29.47,
            41.56,
            18.93,
            28.07,
            37.68,
            23.83,
            26.37,
            13.03
           ]
          },
          {
           "hoverinfo": "none",
           "marker": {
            "color": "#CBB67C",
            "line": {
             "color": "#663831",
             "width": 2
            },
            "size": 10
           },
           "mode": "markers",
           "name": "football",
           "type": "scatter",
           "x": [
            19.0300006866455
           ],
           "y": [
            29.5900001525879
           ]
          }
         ],
         "name": "17"
        },
        {
         "data": [
          {
           "hoverinfo": "none",
           "mode": "text",
           "showlegend": false,
           "text": [
            "10",
            "20",
            "30",
            "40",
            "50",
            "40",
            "30",
            "20",
            "10"
           ],
           "textfont": {
            "color": "#ffffff",
            "family": "Courier New, monospace",
            "size": 30
           },
           "type": "scatter",
           "x": [
            20,
            30,
            40,
            50,
            60,
            70,
            80,
            90,
            100
           ],
           "y": [
            5,
            5,
            5,
            5,
            5,
            5,
            5,
            5,
            5
           ]
          },
          {
           "hoverinfo": "none",
           "mode": "text",
           "showlegend": false,
           "text": [
            "10",
            "20",
            "30",
            "40",
            "50",
            "40",
            "30",
            "20",
            "10"
           ],
           "textfont": {
            "color": "#ffffff",
            "family": "Courier New, monospace",
            "size": 30
           },
           "type": "scatter",
           "x": [
            20,
            30,
            40,
            50,
            60,
            70,
            80,
            90,
            100
           ],
           "y": [
            48.5,
            48.5,
            48.5,
            48.5,
            48.5,
            48.5,
            48.5,
            48.5,
            48.5
           ]
          },
          {
           "hoverinfo": "none",
           "line": {
            "color": "blue",
            "dash": "dash"
           },
           "showlegend": false,
           "type": "scatter",
           "x": [
            19,
            19
           ],
           "y": [
            0,
            53.5
           ]
          },
          {
           "hoverinfo": "none",
           "line": {
            "color": "yellow",
            "dash": "dash"
           },
           "showlegend": false,
           "type": "scatter",
           "x": [
            10,
            10
           ],
           "y": [
            0,
            53.5
           ]
          },
          {
           "fill": "toself",
           "fillcolor": "#000000",
           "hoverinfo": "skip",
           "line": {
            "color": "white",
            "width": 3
           },
           "mode": "lines",
           "opacity": 1,
           "showlegend": false,
           "type": "scatter",
           "x": [
            0,
            0,
            10,
            10,
            0
           ],
           "y": [
            0,
            53.5,
            53.5,
            0,
            0
           ]
          },
          {
           "fill": "toself",
           "fillcolor": "#FFB612",
           "hoverinfo": "skip",
           "line": {
            "color": "white",
            "width": 3
           },
           "mode": "lines",
           "opacity": 1,
           "showlegend": false,
           "type": "scatter",
           "x": [
            110,
            110,
            120,
            120,
            110
           ],
           "y": [
            0,
            53.5,
            53.5,
            0,
            0
           ]
          },
          {
           "hoverinfo": "text",
           "hovertext": [
            "nflId:43299<br>displayName:Eli Apple<br>Player Speed:4.854 MPH",
            "nflId:43350<br>displayName:Vonn Bell<br>Player Speed:4.608 MPH",
            "nflId:43455<br>displayName:D.J. Reader<br>Player Speed:3.959 MPH",
            "nflId:43641<br>displayName:Mike Hilton<br>Player Speed:3.601 MPH",
            "nflId:44872<br>displayName:Chidobe Awuzie<br>Player Speed:2.774 MPH",
            "nflId:44915<br>displayName:Trey Hendrickson<br>Player Speed:0.716 MPH",
            "nflId:46123<br>displayName:Jessie Bates<br>Player Speed:1.946 MPH",
            "nflId:46138<br>displayName:B.J. Hill<br>Player Speed:2.483 MPH",
            "nflId:46146<br>displayName:Sam Hubbard<br>Player Speed:0.895 MPH",
            "nflId:47855<br>displayName:Germaine Pratt<br>Player Speed:0.089 MPH",
            "nflId:52473<br>displayName:Logan Wilson<br>Player Speed:2.55 MPH"
           ],
           "marker": {
            "color": "#000000",
            "line": {
             "color": "#FB4F14",
             "width": 2
            },
            "size": 10
           },
           "mode": "markers",
           "name": "CIN",
           "type": "scatter",
           "x": [
            14.39,
            12.74,
            16.8,
            14.6,
            14.17,
            16.85,
            8.83,
            16.34,
            16.65,
            12.83,
            12.9
           ],
           "y": [
            15.24,
            35.89,
            30.55,
            19.94,
            41.57,
            23.79,
            25.74,
            28.54,
            34.95,
            31.8,
            27.22
           ]
          },
          {
           "hoverinfo": "text",
           "hovertext": [
            "nflId:44814<br>displayName:Mitchell Trubisky<br>Player Speed:0.336 MPH",
            "nflId:46108<br>displayName:James Daniels<br>Player Speed:0.157 MPH",
            "nflId:46161<br>displayName:Chukwuma Okorafor<br>Player Speed:0.268 MPH",
            "nflId:46166<br>displayName:Mason Cole<br>Player Speed:0.291 MPH",
            "nflId:47849<br>displayName:Diontae Johnson<br>Player Speed:2.103 MPH",
            "nflId:52457<br>displayName:Chase Claypool<br>Player Speed:2.349 MPH",
            "nflId:52543<br>displayName:Kevin Dotson<br>Player Speed:0.358 MPH",
            "nflId:53453<br>displayName:Najee Harris<br>Player Speed:1.007 MPH",
            "nflId:53484<br>displayName:Pat Freiermuth<br>Player Speed:2.684 MPH",
            "nflId:53557<br>displayName:Dan Moore<br>Player Speed:0.313 MPH",
            "nflId:54517<br>displayName:George Pickens<br>Player Speed:3.646 MPH"
           ],
           "marker": {
            "color": "#FFB612",
            "line": {
             "color": "#101820",
             "width": 2
            },
            "size": 10
           },
           "mode": "markers",
           "name": "PIT",
           "type": "scatter",
           "x": [
            24.03,
            20.13,
            20.19,
            19.48,
            19.75,
            19.6,
            19.89,
            20.64,
            20.77,
            20.16,
            20.58
           ],
           "y": [
            29.61,
            31.1,
            32.66,
            29.48,
            41.66,
            18.81,
            28.08,
            37.71,
            23.71,
            26.38,
            12.86
           ]
          },
          {
           "hoverinfo": "none",
           "marker": {
            "color": "#CBB67C",
            "line": {
             "color": "#663831",
             "width": 2
            },
            "size": 10
           },
           "mode": "markers",
           "name": "football",
           "type": "scatter",
           "x": [
            19.0300006866455
           ],
           "y": [
            29.5900001525879
           ]
          }
         ],
         "name": "18"
        },
        {
         "data": [
          {
           "hoverinfo": "none",
           "mode": "text",
           "showlegend": false,
           "text": [
            "10",
            "20",
            "30",
            "40",
            "50",
            "40",
            "30",
            "20",
            "10"
           ],
           "textfont": {
            "color": "#ffffff",
            "family": "Courier New, monospace",
            "size": 30
           },
           "type": "scatter",
           "x": [
            20,
            30,
            40,
            50,
            60,
            70,
            80,
            90,
            100
           ],
           "y": [
            5,
            5,
            5,
            5,
            5,
            5,
            5,
            5,
            5
           ]
          },
          {
           "hoverinfo": "none",
           "mode": "text",
           "showlegend": false,
           "text": [
            "10",
            "20",
            "30",
            "40",
            "50",
            "40",
            "30",
            "20",
            "10"
           ],
           "textfont": {
            "color": "#ffffff",
            "family": "Courier New, monospace",
            "size": 30
           },
           "type": "scatter",
           "x": [
            20,
            30,
            40,
            50,
            60,
            70,
            80,
            90,
            100
           ],
           "y": [
            48.5,
            48.5,
            48.5,
            48.5,
            48.5,
            48.5,
            48.5,
            48.5,
            48.5
           ]
          },
          {
           "hoverinfo": "none",
           "line": {
            "color": "blue",
            "dash": "dash"
           },
           "showlegend": false,
           "type": "scatter",
           "x": [
            19,
            19
           ],
           "y": [
            0,
            53.5
           ]
          },
          {
           "hoverinfo": "none",
           "line": {
            "color": "yellow",
            "dash": "dash"
           },
           "showlegend": false,
           "type": "scatter",
           "x": [
            10,
            10
           ],
           "y": [
            0,
            53.5
           ]
          },
          {
           "fill": "toself",
           "fillcolor": "#000000",
           "hoverinfo": "skip",
           "line": {
            "color": "white",
            "width": 3
           },
           "mode": "lines",
           "opacity": 1,
           "showlegend": false,
           "type": "scatter",
           "x": [
            0,
            0,
            10,
            10,
            0
           ],
           "y": [
            0,
            53.5,
            53.5,
            0,
            0
           ]
          },
          {
           "fill": "toself",
           "fillcolor": "#FFB612",
           "hoverinfo": "skip",
           "line": {
            "color": "white",
            "width": 3
           },
           "mode": "lines",
           "opacity": 1,
           "showlegend": false,
           "type": "scatter",
           "x": [
            110,
            110,
            120,
            120,
            110
           ],
           "y": [
            0,
            53.5,
            53.5,
            0,
            0
           ]
          },
          {
           "hoverinfo": "text",
           "hovertext": [
            "nflId:43299<br>displayName:Eli Apple<br>Player Speed:4.72 MPH",
            "nflId:43350<br>displayName:Vonn Bell<br>Player Speed:4.675 MPH",
            "nflId:43455<br>displayName:D.J. Reader<br>Player Speed:3.915 MPH",
            "nflId:43641<br>displayName:Mike Hilton<br>Player Speed:3.288 MPH",
            "nflId:44872<br>displayName:Chidobe Awuzie<br>Player Speed:2.707 MPH",
            "nflId:44915<br>displayName:Trey Hendrickson<br>Player Speed:0.582 MPH",
            "nflId:46123<br>displayName:Jessie Bates<br>Player Speed:1.901 MPH",
            "nflId:46138<br>displayName:B.J. Hill<br>Player Speed:2.617 MPH",
            "nflId:46146<br>displayName:Sam Hubbard<br>Player Speed:0.94 MPH",
            "nflId:47855<br>displayName:Germaine Pratt<br>Player Speed:0.201 MPH",
            "nflId:52473<br>displayName:Logan Wilson<br>Player Speed:2.662 MPH"
           ],
           "marker": {
            "color": "#000000",
            "line": {
             "color": "#FB4F14",
             "width": 2
            },
            "size": 10
           },
           "mode": "markers",
           "name": "CIN",
           "type": "scatter",
           "x": [
            14.36,
            12.86,
            16.9,
            14.61,
            14.12,
            16.87,
            8.85,
            16.43,
            16.69,
            12.84,
            12.95
           ],
           "y": [
            15.03,
            36.06,
            30.69,
            19.79,
            41.68,
            23.78,
            25.65,
            28.48,
            34.96,
            31.81,
            27.11
           ]
          },
          {
           "hoverinfo": "text",
           "hovertext": [
            "nflId:44814<br>displayName:Mitchell Trubisky<br>Player Speed:0.157 MPH",
            "nflId:46108<br>displayName:James Daniels<br>Player Speed:0.246 MPH",
            "nflId:46161<br>displayName:Chukwuma Okorafor<br>Player Speed:0.201 MPH",
            "nflId:46166<br>displayName:Mason Cole<br>Player Speed:0.358 MPH",
            "nflId:47849<br>displayName:Diontae Johnson<br>Player Speed:1.745 MPH",
            "nflId:52457<br>displayName:Chase Claypool<br>Player Speed:1.946 MPH",
            "nflId:52543<br>displayName:Kevin Dotson<br>Player Speed:0.313 MPH",
            "nflId:53453<br>displayName:Najee Harris<br>Player Speed:1.029 MPH",
            "nflId:53484<br>displayName:Pat Freiermuth<br>Player Speed:2.528 MPH",
            "nflId:53557<br>displayName:Dan Moore<br>Player Speed:0.291 MPH",
            "nflId:54517<br>displayName:George Pickens<br>Player Speed:3.534 MPH"
           ],
           "marker": {
            "color": "#FFB612",
            "line": {
             "color": "#101820",
             "width": 2
            },
            "size": 10
           },
           "mode": "markers",
           "name": "PIT",
           "type": "scatter",
           "x": [
            24.04,
            20.14,
            20.18,
            19.47,
            19.73,
            19.61,
            19.89,
            20.66,
            20.73,
            20.15,
            20.54
           ],
           "y": [
            29.6,
            31.11,
            32.66,
            29.49,
            41.74,
            18.72,
            28.09,
            37.75,
            23.6,
            26.39,
            12.71
           ]
          },
          {
           "hoverinfo": "none",
           "marker": {
            "color": "#CBB67C",
            "line": {
             "color": "#663831",
             "width": 2
            },
            "size": 10
           },
           "mode": "markers",
           "name": "football",
           "type": "scatter",
           "x": [
            19.0200004577637
           ],
           "y": [
            29.5900001525879
           ]
          }
         ],
         "name": "19"
        },
        {
         "data": [
          {
           "hoverinfo": "none",
           "mode": "text",
           "showlegend": false,
           "text": [
            "10",
            "20",
            "30",
            "40",
            "50",
            "40",
            "30",
            "20",
            "10"
           ],
           "textfont": {
            "color": "#ffffff",
            "family": "Courier New, monospace",
            "size": 30
           },
           "type": "scatter",
           "x": [
            20,
            30,
            40,
            50,
            60,
            70,
            80,
            90,
            100
           ],
           "y": [
            5,
            5,
            5,
            5,
            5,
            5,
            5,
            5,
            5
           ]
          },
          {
           "hoverinfo": "none",
           "mode": "text",
           "showlegend": false,
           "text": [
            "10",
            "20",
            "30",
            "40",
            "50",
            "40",
            "30",
            "20",
            "10"
           ],
           "textfont": {
            "color": "#ffffff",
            "family": "Courier New, monospace",
            "size": 30
           },
           "type": "scatter",
           "x": [
            20,
            30,
            40,
            50,
            60,
            70,
            80,
            90,
            100
           ],
           "y": [
            48.5,
            48.5,
            48.5,
            48.5,
            48.5,
            48.5,
            48.5,
            48.5,
            48.5
           ]
          },
          {
           "hoverinfo": "none",
           "line": {
            "color": "blue",
            "dash": "dash"
           },
           "showlegend": false,
           "type": "scatter",
           "x": [
            19,
            19
           ],
           "y": [
            0,
            53.5
           ]
          },
          {
           "hoverinfo": "none",
           "line": {
            "color": "yellow",
            "dash": "dash"
           },
           "showlegend": false,
           "type": "scatter",
           "x": [
            10,
            10
           ],
           "y": [
            0,
            53.5
           ]
          },
          {
           "fill": "toself",
           "fillcolor": "#000000",
           "hoverinfo": "skip",
           "line": {
            "color": "white",
            "width": 3
           },
           "mode": "lines",
           "opacity": 1,
           "showlegend": false,
           "type": "scatter",
           "x": [
            0,
            0,
            10,
            10,
            0
           ],
           "y": [
            0,
            53.5,
            53.5,
            0,
            0
           ]
          },
          {
           "fill": "toself",
           "fillcolor": "#FFB612",
           "hoverinfo": "skip",
           "line": {
            "color": "white",
            "width": 3
           },
           "mode": "lines",
           "opacity": 1,
           "showlegend": false,
           "type": "scatter",
           "x": [
            110,
            110,
            120,
            120,
            110
           ],
           "y": [
            0,
            53.5,
            53.5,
            0,
            0
           ]
          },
          {
           "hoverinfo": "text",
           "hovertext": [
            "nflId:43299<br>displayName:Eli Apple<br>Player Speed:4.63 MPH",
            "nflId:43350<br>displayName:Vonn Bell<br>Player Speed:4.675 MPH",
            "nflId:43455<br>displayName:D.J. Reader<br>Player Speed:3.669 MPH",
            "nflId:43641<br>displayName:Mike Hilton<br>Player Speed:3.065 MPH",
            "nflId:44872<br>displayName:Chidobe Awuzie<br>Player Speed:2.662 MPH",
            "nflId:44915<br>displayName:Trey Hendrickson<br>Player Speed:0.559 MPH",
            "nflId:46123<br>displayName:Jessie Bates<br>Player Speed:1.879 MPH",
            "nflId:46138<br>displayName:B.J. Hill<br>Player Speed:2.729 MPH",
            "nflId:46146<br>displayName:Sam Hubbard<br>Player Speed:1.051 MPH",
            "nflId:47855<br>displayName:Germaine Pratt<br>Player Speed:0.268 MPH",
            "nflId:52473<br>displayName:Logan Wilson<br>Player Speed:2.774 MPH"
           ],
           "marker": {
            "color": "#000000",
            "line": {
             "color": "#FB4F14",
             "width": 2
            },
            "size": 10
           },
           "mode": "markers",
           "name": "CIN",
           "type": "scatter",
           "x": [
            14.34,
            12.99,
            17,
            14.62,
            14.06,
            16.9,
            8.86,
            16.54,
            16.74,
            12.86,
            13
           ],
           "y": [
            14.82,
            36.22,
            30.82,
            19.65,
            41.79,
            23.79,
            25.57,
            28.41,
            34.96,
            31.81,
            27
           ]
          },
          {
           "hoverinfo": "text",
           "hovertext": [
            "nflId:44814<br>displayName:Mitchell Trubisky<br>Player Speed:0.112 MPH",
            "nflId:46108<br>displayName:James Daniels<br>Player Speed:0.268 MPH",
            "nflId:46161<br>displayName:Chukwuma Okorafor<br>Player Speed:0.067 MPH",
            "nflId:46166<br>displayName:Mason Cole<br>Player Speed:0.447 MPH",
            "nflId:47849<br>displayName:Diontae Johnson<br>Player Speed:1.499 MPH",
            "nflId:52457<br>displayName:Chase Claypool<br>Player Speed:1.655 MPH",
            "nflId:52543<br>displayName:Kevin Dotson<br>Player Speed:0.157 MPH",
            "nflId:53453<br>displayName:Najee Harris<br>Player Speed:0.984 MPH",
            "nflId:53484<br>displayName:Pat Freiermuth<br>Player Speed:2.371 MPH",
            "nflId:53557<br>displayName:Dan Moore<br>Player Speed:0.201 MPH",
            "nflId:54517<br>displayName:George Pickens<br>Player Speed:3.445 MPH"
           ],
           "marker": {
            "color": "#FFB612",
            "line": {
             "color": "#101820",
             "width": 2
            },
            "size": 10
           },
           "mode": "markers",
           "name": "PIT",
           "type": "scatter",
           "x": [
            24.04,
            20.15,
            20.18,
            19.46,
            19.72,
            19.63,
            19.89,
            20.69,
            20.7,
            20.14,
            20.5
           ],
           "y": [
            29.6,
            31.11,
            32.66,
            29.51,
            41.82,
            18.64,
            28.1,
            37.78,
            23.49,
            26.4,
            12.55
           ]
          },
          {
           "hoverinfo": "none",
           "marker": {
            "color": "#CBB67C",
            "line": {
             "color": "#663831",
             "width": 2
            },
            "size": 10
           },
           "mode": "markers",
           "name": "football",
           "type": "scatter",
           "x": [
            19.0200004577637
           ],
           "y": [
            29.5900001525879
           ]
          }
         ],
         "name": "20"
        },
        {
         "data": [
          {
           "hoverinfo": "none",
           "mode": "text",
           "showlegend": false,
           "text": [
            "10",
            "20",
            "30",
            "40",
            "50",
            "40",
            "30",
            "20",
            "10"
           ],
           "textfont": {
            "color": "#ffffff",
            "family": "Courier New, monospace",
            "size": 30
           },
           "type": "scatter",
           "x": [
            20,
            30,
            40,
            50,
            60,
            70,
            80,
            90,
            100
           ],
           "y": [
            5,
            5,
            5,
            5,
            5,
            5,
            5,
            5,
            5
           ]
          },
          {
           "hoverinfo": "none",
           "mode": "text",
           "showlegend": false,
           "text": [
            "10",
            "20",
            "30",
            "40",
            "50",
            "40",
            "30",
            "20",
            "10"
           ],
           "textfont": {
            "color": "#ffffff",
            "family": "Courier New, monospace",
            "size": 30
           },
           "type": "scatter",
           "x": [
            20,
            30,
            40,
            50,
            60,
            70,
            80,
            90,
            100
           ],
           "y": [
            48.5,
            48.5,
            48.5,
            48.5,
            48.5,
            48.5,
            48.5,
            48.5,
            48.5
           ]
          },
          {
           "hoverinfo": "none",
           "line": {
            "color": "blue",
            "dash": "dash"
           },
           "showlegend": false,
           "type": "scatter",
           "x": [
            19,
            19
           ],
           "y": [
            0,
            53.5
           ]
          },
          {
           "hoverinfo": "none",
           "line": {
            "color": "yellow",
            "dash": "dash"
           },
           "showlegend": false,
           "type": "scatter",
           "x": [
            10,
            10
           ],
           "y": [
            0,
            53.5
           ]
          },
          {
           "fill": "toself",
           "fillcolor": "#000000",
           "hoverinfo": "skip",
           "line": {
            "color": "white",
            "width": 3
           },
           "mode": "lines",
           "opacity": 1,
           "showlegend": false,
           "type": "scatter",
           "x": [
            0,
            0,
            10,
            10,
            0
           ],
           "y": [
            0,
            53.5,
            53.5,
            0,
            0
           ]
          },
          {
           "fill": "toself",
           "fillcolor": "#FFB612",
           "hoverinfo": "skip",
           "line": {
            "color": "white",
            "width": 3
           },
           "mode": "lines",
           "opacity": 1,
           "showlegend": false,
           "type": "scatter",
           "x": [
            110,
            110,
            120,
            120,
            110
           ],
           "y": [
            0,
            53.5,
            53.5,
            0,
            0
           ]
          },
          {
           "hoverinfo": "text",
           "hovertext": [
            "nflId:43299<br>displayName:Eli Apple<br>Player Speed:4.474 MPH",
            "nflId:43350<br>displayName:Vonn Bell<br>Player Speed:4.72 MPH",
            "nflId:43455<br>displayName:D.J. Reader<br>Player Speed:3.244 MPH",
            "nflId:43641<br>displayName:Mike Hilton<br>Player Speed:2.93 MPH",
            "nflId:44872<br>displayName:Chidobe Awuzie<br>Player Speed:2.662 MPH",
            "nflId:44915<br>displayName:Trey Hendrickson<br>Player Speed:0.716 MPH",
            "nflId:46123<br>displayName:Jessie Bates<br>Player Speed:1.946 MPH",
            "nflId:46138<br>displayName:B.J. Hill<br>Player Speed:2.729 MPH",
            "nflId:46146<br>displayName:Sam Hubbard<br>Player Speed:1.208 MPH",
            "nflId:47855<br>displayName:Germaine Pratt<br>Player Speed:0.313 MPH",
            "nflId:52473<br>displayName:Logan Wilson<br>Player Speed:2.819 MPH"
           ],
           "marker": {
            "color": "#000000",
            "line": {
             "color": "#FB4F14",
             "width": 2
            },
            "size": 10
           },
           "mode": "markers",
           "name": "CIN",
           "type": "scatter",
           "x": [
            14.31,
            13.12,
            17.08,
            14.64,
            14.01,
            16.92,
            8.86,
            16.64,
            16.79,
            12.88,
            13.05
           ],
           "y": [
            14.62,
            36.38,
            30.95,
            19.51,
            41.9,
            23.81,
            25.48,
            28.35,
            34.95,
            31.81,
            26.89
           ]
          },
          {
           "hoverinfo": "text",
           "hovertext": [
            "nflId:44814<br>displayName:Mitchell Trubisky<br>Player Speed:0.268 MPH",
            "nflId:46108<br>displayName:James Daniels<br>Player Speed:0.268 MPH",
            "nflId:46161<br>displayName:Chukwuma Okorafor<br>Player Speed:0.201 MPH",
            "nflId:46166<br>displayName:Mason Cole<br>Player Speed:0.537 MPH",
            "nflId:47849<br>displayName:Diontae Johnson<br>Player Speed:1.23 MPH",
            "nflId:52457<br>displayName:Chase Claypool<br>Player Speed:1.365 MPH",
            "nflId:52543<br>displayName:Kevin Dotson<br>Player Speed:0.134 MPH",
            "nflId:53453<br>displayName:Najee Harris<br>Player Speed:0.984 MPH",
            "nflId:53484<br>displayName:Pat Freiermuth<br>Player Speed:2.17 MPH",
            "nflId:53557<br>displayName:Dan Moore<br>Player Speed:0.067 MPH",
            "nflId:54517<br>displayName:George Pickens<br>Player Speed:3.311 MPH"
           ],
           "marker": {
            "color": "#FFB612",
            "line": {
             "color": "#101820",
             "width": 2
            },
            "size": 10
           },
           "mode": "markers",
           "name": "PIT",
           "type": "scatter",
           "x": [
            24.03,
            20.16,
            20.19,
            19.45,
            19.71,
            19.67,
            19.89,
            20.72,
            20.66,
            20.14,
            20.45
           ],
           "y": [
            29.59,
            31.11,
            32.66,
            29.54,
            41.88,
            18.58,
            28.1,
            37.82,
            23.4,
            26.41,
            12.41
           ]
          },
          {
           "hoverinfo": "none",
           "marker": {
            "color": "#CBB67C",
            "line": {
             "color": "#663831",
             "width": 2
            },
            "size": 10
           },
           "mode": "markers",
           "name": "football",
           "type": "scatter",
           "x": [
            19.0200004577637
           ],
           "y": [
            29.5900001525879
           ]
          }
         ],
         "name": "21"
        },
        {
         "data": [
          {
           "hoverinfo": "none",
           "mode": "text",
           "showlegend": false,
           "text": [
            "10",
            "20",
            "30",
            "40",
            "50",
            "40",
            "30",
            "20",
            "10"
           ],
           "textfont": {
            "color": "#ffffff",
            "family": "Courier New, monospace",
            "size": 30
           },
           "type": "scatter",
           "x": [
            20,
            30,
            40,
            50,
            60,
            70,
            80,
            90,
            100
           ],
           "y": [
            5,
            5,
            5,
            5,
            5,
            5,
            5,
            5,
            5
           ]
          },
          {
           "hoverinfo": "none",
           "mode": "text",
           "showlegend": false,
           "text": [
            "10",
            "20",
            "30",
            "40",
            "50",
            "40",
            "30",
            "20",
            "10"
           ],
           "textfont": {
            "color": "#ffffff",
            "family": "Courier New, monospace",
            "size": 30
           },
           "type": "scatter",
           "x": [
            20,
            30,
            40,
            50,
            60,
            70,
            80,
            90,
            100
           ],
           "y": [
            48.5,
            48.5,
            48.5,
            48.5,
            48.5,
            48.5,
            48.5,
            48.5,
            48.5
           ]
          },
          {
           "hoverinfo": "none",
           "line": {
            "color": "blue",
            "dash": "dash"
           },
           "showlegend": false,
           "type": "scatter",
           "x": [
            19,
            19
           ],
           "y": [
            0,
            53.5
           ]
          },
          {
           "hoverinfo": "none",
           "line": {
            "color": "yellow",
            "dash": "dash"
           },
           "showlegend": false,
           "type": "scatter",
           "x": [
            10,
            10
           ],
           "y": [
            0,
            53.5
           ]
          },
          {
           "fill": "toself",
           "fillcolor": "#000000",
           "hoverinfo": "skip",
           "line": {
            "color": "white",
            "width": 3
           },
           "mode": "lines",
           "opacity": 1,
           "showlegend": false,
           "type": "scatter",
           "x": [
            0,
            0,
            10,
            10,
            0
           ],
           "y": [
            0,
            53.5,
            53.5,
            0,
            0
           ]
          },
          {
           "fill": "toself",
           "fillcolor": "#FFB612",
           "hoverinfo": "skip",
           "line": {
            "color": "white",
            "width": 3
           },
           "mode": "lines",
           "opacity": 1,
           "showlegend": false,
           "type": "scatter",
           "x": [
            110,
            110,
            120,
            120,
            110
           ],
           "y": [
            0,
            53.5,
            53.5,
            0,
            0
           ]
          },
          {
           "hoverinfo": "text",
           "hovertext": [
            "nflId:43299<br>displayName:Eli Apple<br>Player Speed:4.273 MPH",
            "nflId:43350<br>displayName:Vonn Bell<br>Player Speed:4.742 MPH",
            "nflId:43455<br>displayName:D.J. Reader<br>Player Speed:2.774 MPH",
            "nflId:43641<br>displayName:Mike Hilton<br>Player Speed:2.841 MPH",
            "nflId:44872<br>displayName:Chidobe Awuzie<br>Player Speed:2.595 MPH",
            "nflId:44915<br>displayName:Trey Hendrickson<br>Player Speed:0.984 MPH",
            "nflId:46123<br>displayName:Jessie Bates<br>Player Speed:2.013 MPH",
            "nflId:46138<br>displayName:B.J. Hill<br>Player Speed:2.729 MPH",
            "nflId:46146<br>displayName:Sam Hubbard<br>Player Speed:1.23 MPH",
            "nflId:47855<br>displayName:Germaine Pratt<br>Player Speed:0.403 MPH",
            "nflId:52473<br>displayName:Logan Wilson<br>Player Speed:2.841 MPH"
           ],
           "marker": {
            "color": "#000000",
            "line": {
             "color": "#FB4F14",
             "width": 2
            },
            "size": 10
           },
           "mode": "markers",
           "name": "CIN",
           "type": "scatter",
           "x": [
            14.27,
            13.27,
            17.15,
            14.65,
            13.94,
            16.94,
            8.86,
            16.75,
            16.85,
            12.91,
            13.11
           ],
           "y": [
            14.43,
            36.54,
            31.07,
            19.38,
            42,
            23.84,
            25.39,
            28.29,
            34.94,
            31.81,
            26.77
           ]
          },
          {
           "hoverinfo": "text",
           "hovertext": [
            "nflId:44814<br>displayName:Mitchell Trubisky<br>Player Speed:0.425 MPH",
            "nflId:46108<br>displayName:James Daniels<br>Player Speed:0.224 MPH",
            "nflId:46161<br>displayName:Chukwuma Okorafor<br>Player Speed:0.403 MPH",
            "nflId:46166<br>displayName:Mason Cole<br>Player Speed:0.492 MPH",
            "nflId:47849<br>displayName:Diontae Johnson<br>Player Speed:1.118 MPH",
            "nflId:52457<br>displayName:Chase Claypool<br>Player Speed:1.141 MPH",
            "nflId:52543<br>displayName:Kevin Dotson<br>Player Speed:0.134 MPH",
            "nflId:53453<br>displayName:Najee Harris<br>Player Speed:0.872 MPH",
            "nflId:53484<br>displayName:Pat Freiermuth<br>Player Speed:1.946 MPH",
            "nflId:53557<br>displayName:Dan Moore<br>Player Speed:0.089 MPH",
            "nflId:54517<br>displayName:George Pickens<br>Player Speed:3.288 MPH"
           ],
           "marker": {
            "color": "#FFB612",
            "line": {
             "color": "#101820",
             "width": 2
            },
            "size": 10
           },
           "mode": "markers",
           "name": "PIT",
           "type": "scatter",
           "x": [
            24.02,
            20.16,
            20.21,
            19.44,
            19.71,
            19.71,
            19.89,
            20.74,
            20.63,
            20.14,
            20.4
           ],
           "y": [
            29.59,
            31.11,
            32.67,
            29.55,
            41.93,
            18.55,
            28.11,
            37.85,
            23.31,
            26.41,
            12.27
           ]
          },
          {
           "hoverinfo": "none",
           "marker": {
            "color": "#CBB67C",
            "line": {
             "color": "#663831",
             "width": 2
            },
            "size": 10
           },
           "mode": "markers",
           "name": "football",
           "type": "scatter",
           "x": [
            19.0200004577637
           ],
           "y": [
            29.5900001525879
           ]
          }
         ],
         "name": "22"
        },
        {
         "data": [
          {
           "hoverinfo": "none",
           "mode": "text",
           "showlegend": false,
           "text": [
            "10",
            "20",
            "30",
            "40",
            "50",
            "40",
            "30",
            "20",
            "10"
           ],
           "textfont": {
            "color": "#ffffff",
            "family": "Courier New, monospace",
            "size": 30
           },
           "type": "scatter",
           "x": [
            20,
            30,
            40,
            50,
            60,
            70,
            80,
            90,
            100
           ],
           "y": [
            5,
            5,
            5,
            5,
            5,
            5,
            5,
            5,
            5
           ]
          },
          {
           "hoverinfo": "none",
           "mode": "text",
           "showlegend": false,
           "text": [
            "10",
            "20",
            "30",
            "40",
            "50",
            "40",
            "30",
            "20",
            "10"
           ],
           "textfont": {
            "color": "#ffffff",
            "family": "Courier New, monospace",
            "size": 30
           },
           "type": "scatter",
           "x": [
            20,
            30,
            40,
            50,
            60,
            70,
            80,
            90,
            100
           ],
           "y": [
            48.5,
            48.5,
            48.5,
            48.5,
            48.5,
            48.5,
            48.5,
            48.5,
            48.5
           ]
          },
          {
           "hoverinfo": "none",
           "line": {
            "color": "blue",
            "dash": "dash"
           },
           "showlegend": false,
           "type": "scatter",
           "x": [
            19,
            19
           ],
           "y": [
            0,
            53.5
           ]
          },
          {
           "hoverinfo": "none",
           "line": {
            "color": "yellow",
            "dash": "dash"
           },
           "showlegend": false,
           "type": "scatter",
           "x": [
            10,
            10
           ],
           "y": [
            0,
            53.5
           ]
          },
          {
           "fill": "toself",
           "fillcolor": "#000000",
           "hoverinfo": "skip",
           "line": {
            "color": "white",
            "width": 3
           },
           "mode": "lines",
           "opacity": 1,
           "showlegend": false,
           "type": "scatter",
           "x": [
            0,
            0,
            10,
            10,
            0
           ],
           "y": [
            0,
            53.5,
            53.5,
            0,
            0
           ]
          },
          {
           "fill": "toself",
           "fillcolor": "#FFB612",
           "hoverinfo": "skip",
           "line": {
            "color": "white",
            "width": 3
           },
           "mode": "lines",
           "opacity": 1,
           "showlegend": false,
           "type": "scatter",
           "x": [
            110,
            110,
            120,
            120,
            110
           ],
           "y": [
            0,
            53.5,
            53.5,
            0,
            0
           ]
          },
          {
           "hoverinfo": "text",
           "hovertext": [
            "nflId:43299<br>displayName:Eli Apple<br>Player Speed:4.228 MPH",
            "nflId:43350<br>displayName:Vonn Bell<br>Player Speed:4.765 MPH",
            "nflId:43455<br>displayName:D.J. Reader<br>Player Speed:2.237 MPH",
            "nflId:43641<br>displayName:Mike Hilton<br>Player Speed:2.841 MPH",
            "nflId:44872<br>displayName:Chidobe Awuzie<br>Player Speed:2.55 MPH",
            "nflId:44915<br>displayName:Trey Hendrickson<br>Player Speed:1.163 MPH",
            "nflId:46123<br>displayName:Jessie Bates<br>Player Speed:2.013 MPH",
            "nflId:46138<br>displayName:B.J. Hill<br>Player Speed:2.863 MPH",
            "nflId:46146<br>displayName:Sam Hubbard<br>Player Speed:1.297 MPH",
            "nflId:47855<br>displayName:Germaine Pratt<br>Player Speed:0.447 MPH",
            "nflId:52473<br>displayName:Logan Wilson<br>Player Speed:2.841 MPH"
           ],
           "marker": {
            "color": "#000000",
            "line": {
             "color": "#FB4F14",
             "width": 2
            },
            "size": 10
           },
           "mode": "markers",
           "name": "CIN",
           "type": "scatter",
           "x": [
            14.24,
            13.41,
            17.2,
            14.67,
            13.87,
            16.97,
            8.85,
            16.86,
            16.9,
            12.95,
            13.17
           ],
           "y": [
            14.24,
            36.69,
            31.17,
            19.25,
            42.09,
            23.88,
            25.3,
            28.21,
            34.93,
            31.81,
            26.66
           ]
          },
          {
           "hoverinfo": "text",
           "hovertext": [
            "nflId:44814<br>displayName:Mitchell Trubisky<br>Player Speed:0.582 MPH",
            "nflId:46108<br>displayName:James Daniels<br>Player Speed:0.201 MPH",
            "nflId:46161<br>displayName:Chukwuma Okorafor<br>Player Speed:0.358 MPH",
            "nflId:46166<br>displayName:Mason Cole<br>Player Speed:0.425 MPH",
            "nflId:47849<br>displayName:Diontae Johnson<br>Player Speed:1.007 MPH",
            "nflId:52457<br>displayName:Chase Claypool<br>Player Speed:1.118 MPH",
            "nflId:52543<br>displayName:Kevin Dotson<br>Player Speed:0.089 MPH",
            "nflId:53453<br>displayName:Najee Harris<br>Player Speed:0.716 MPH",
            "nflId:53484<br>displayName:Pat Freiermuth<br>Player Speed:1.678 MPH",
            "nflId:53557<br>displayName:Dan Moore<br>Player Speed:0.157 MPH",
            "nflId:54517<br>displayName:George Pickens<br>Player Speed:3.199 MPH"
           ],
           "marker": {
            "color": "#FFB612",
            "line": {
             "color": "#101820",
             "width": 2
            },
            "size": 10
           },
           "mode": "markers",
           "name": "PIT",
           "type": "scatter",
           "x": [
            24,
            20.17,
            20.22,
            19.44,
            19.72,
            19.76,
            19.89,
            20.76,
            20.6,
            20.15,
            20.33
           ],
           "y": [
            29.6,
            31.11,
            32.67,
            29.56,
            41.98,
            18.54,
            28.11,
            37.88,
            23.24,
            26.41,
            12.14
           ]
          },
          {
           "hoverinfo": "none",
           "marker": {
            "color": "#CBB67C",
            "line": {
             "color": "#663831",
             "width": 2
            },
            "size": 10
           },
           "mode": "markers",
           "name": "football",
           "type": "scatter",
           "x": [
            19.0200004577637
           ],
           "y": [
            29.5900001525879
           ]
          }
         ],
         "name": "23"
        },
        {
         "data": [
          {
           "hoverinfo": "none",
           "mode": "text",
           "showlegend": false,
           "text": [
            "10",
            "20",
            "30",
            "40",
            "50",
            "40",
            "30",
            "20",
            "10"
           ],
           "textfont": {
            "color": "#ffffff",
            "family": "Courier New, monospace",
            "size": 30
           },
           "type": "scatter",
           "x": [
            20,
            30,
            40,
            50,
            60,
            70,
            80,
            90,
            100
           ],
           "y": [
            5,
            5,
            5,
            5,
            5,
            5,
            5,
            5,
            5
           ]
          },
          {
           "hoverinfo": "none",
           "mode": "text",
           "showlegend": false,
           "text": [
            "10",
            "20",
            "30",
            "40",
            "50",
            "40",
            "30",
            "20",
            "10"
           ],
           "textfont": {
            "color": "#ffffff",
            "family": "Courier New, monospace",
            "size": 30
           },
           "type": "scatter",
           "x": [
            20,
            30,
            40,
            50,
            60,
            70,
            80,
            90,
            100
           ],
           "y": [
            48.5,
            48.5,
            48.5,
            48.5,
            48.5,
            48.5,
            48.5,
            48.5,
            48.5
           ]
          },
          {
           "hoverinfo": "none",
           "line": {
            "color": "blue",
            "dash": "dash"
           },
           "showlegend": false,
           "type": "scatter",
           "x": [
            19,
            19
           ],
           "y": [
            0,
            53.5
           ]
          },
          {
           "hoverinfo": "none",
           "line": {
            "color": "yellow",
            "dash": "dash"
           },
           "showlegend": false,
           "type": "scatter",
           "x": [
            10,
            10
           ],
           "y": [
            0,
            53.5
           ]
          },
          {
           "fill": "toself",
           "fillcolor": "#000000",
           "hoverinfo": "skip",
           "line": {
            "color": "white",
            "width": 3
           },
           "mode": "lines",
           "opacity": 1,
           "showlegend": false,
           "type": "scatter",
           "x": [
            0,
            0,
            10,
            10,
            0
           ],
           "y": [
            0,
            53.5,
            53.5,
            0,
            0
           ]
          },
          {
           "fill": "toself",
           "fillcolor": "#FFB612",
           "hoverinfo": "skip",
           "line": {
            "color": "white",
            "width": 3
           },
           "mode": "lines",
           "opacity": 1,
           "showlegend": false,
           "type": "scatter",
           "x": [
            110,
            110,
            120,
            120,
            110
           ],
           "y": [
            0,
            53.5,
            53.5,
            0,
            0
           ]
          },
          {
           "hoverinfo": "text",
           "hovertext": [
            "nflId:43299<br>displayName:Eli Apple<br>Player Speed:4.138 MPH",
            "nflId:43350<br>displayName:Vonn Bell<br>Player Speed:4.765 MPH",
            "nflId:43455<br>displayName:D.J. Reader<br>Player Speed:1.655 MPH",
            "nflId:43641<br>displayName:Mike Hilton<br>Player Speed:2.93 MPH",
            "nflId:44872<br>displayName:Chidobe Awuzie<br>Player Speed:2.438 MPH",
            "nflId:44915<br>displayName:Trey Hendrickson<br>Player Speed:1.275 MPH",
            "nflId:46123<br>displayName:Jessie Bates<br>Player Speed:2.036 MPH",
            "nflId:46138<br>displayName:B.J. Hill<br>Player Speed:2.975 MPH",
            "nflId:46146<br>displayName:Sam Hubbard<br>Player Speed:1.432 MPH",
            "nflId:47855<br>displayName:Germaine Pratt<br>Player Speed:0.514 MPH",
            "nflId:52473<br>displayName:Logan Wilson<br>Player Speed:2.863 MPH"
           ],
           "marker": {
            "color": "#000000",
            "line": {
             "color": "#FB4F14",
             "width": 2
            },
            "size": 10
           },
           "mode": "markers",
           "name": "CIN",
           "type": "scatter",
           "x": [
            14.19,
            13.57,
            17.25,
            14.68,
            13.8,
            17,
            8.83,
            16.95,
            16.97,
            12.99,
            13.22
           ],
           "y": [
            14.06,
            36.84,
            31.24,
            19.12,
            42.17,
            23.93,
            25.22,
            28.11,
            34.92,
            31.79,
            26.54
           ]
          },
          {
           "hoverinfo": "text",
           "hovertext": [
            "nflId:44814<br>displayName:Mitchell Trubisky<br>Player Speed:0.738 MPH",
            "nflId:46108<br>displayName:James Daniels<br>Player Speed:0.157 MPH",
            "nflId:46161<br>displayName:Chukwuma Okorafor<br>Player Speed:0.313 MPH",
            "nflId:46166<br>displayName:Mason Cole<br>Player Speed:0.403 MPH",
            "nflId:47849<br>displayName:Diontae Johnson<br>Player Speed:0.738 MPH",
            "nflId:52457<br>displayName:Chase Claypool<br>Player Speed:1.275 MPH",
            "nflId:52543<br>displayName:Kevin Dotson<br>Player Speed:0.067 MPH",
            "nflId:53453<br>displayName:Najee Harris<br>Player Speed:0.559 MPH",
            "nflId:53484<br>displayName:Pat Freiermuth<br>Player Speed:1.409 MPH",
            "nflId:53557<br>displayName:Dan Moore<br>Player Speed:0.246 MPH",
            "nflId:54517<br>displayName:George Pickens<br>Player Speed:3.042 MPH"
           ],
           "marker": {
            "color": "#FFB612",
            "line": {
             "color": "#101820",
             "width": 2
            },
            "size": 10
           },
           "mode": "markers",
           "name": "PIT",
           "type": "scatter",
           "x": [
            23.97,
            20.17,
            20.23,
            19.43,
            19.72,
            19.81,
            19.9,
            20.78,
            20.57,
            20.16,
            20.26
           ],
           "y": [
            29.61,
            31.11,
            32.67,
            29.58,
            42.01,
            18.54,
            28.11,
            37.89,
            23.18,
            26.4,
            12.02
           ]
          },
          {
           "hoverinfo": "none",
           "marker": {
            "color": "#CBB67C",
            "line": {
             "color": "#663831",
             "width": 2
            },
            "size": 10
           },
           "mode": "markers",
           "name": "football",
           "type": "scatter",
           "x": [
            19.0200004577637
           ],
           "y": [
            29.5900001525879
           ]
          }
         ],
         "name": "24"
        },
        {
         "data": [
          {
           "hoverinfo": "none",
           "mode": "text",
           "showlegend": false,
           "text": [
            "10",
            "20",
            "30",
            "40",
            "50",
            "40",
            "30",
            "20",
            "10"
           ],
           "textfont": {
            "color": "#ffffff",
            "family": "Courier New, monospace",
            "size": 30
           },
           "type": "scatter",
           "x": [
            20,
            30,
            40,
            50,
            60,
            70,
            80,
            90,
            100
           ],
           "y": [
            5,
            5,
            5,
            5,
            5,
            5,
            5,
            5,
            5
           ]
          },
          {
           "hoverinfo": "none",
           "mode": "text",
           "showlegend": false,
           "text": [
            "10",
            "20",
            "30",
            "40",
            "50",
            "40",
            "30",
            "20",
            "10"
           ],
           "textfont": {
            "color": "#ffffff",
            "family": "Courier New, monospace",
            "size": 30
           },
           "type": "scatter",
           "x": [
            20,
            30,
            40,
            50,
            60,
            70,
            80,
            90,
            100
           ],
           "y": [
            48.5,
            48.5,
            48.5,
            48.5,
            48.5,
            48.5,
            48.5,
            48.5,
            48.5
           ]
          },
          {
           "hoverinfo": "none",
           "line": {
            "color": "blue",
            "dash": "dash"
           },
           "showlegend": false,
           "type": "scatter",
           "x": [
            19,
            19
           ],
           "y": [
            0,
            53.5
           ]
          },
          {
           "hoverinfo": "none",
           "line": {
            "color": "yellow",
            "dash": "dash"
           },
           "showlegend": false,
           "type": "scatter",
           "x": [
            10,
            10
           ],
           "y": [
            0,
            53.5
           ]
          },
          {
           "fill": "toself",
           "fillcolor": "#000000",
           "hoverinfo": "skip",
           "line": {
            "color": "white",
            "width": 3
           },
           "mode": "lines",
           "opacity": 1,
           "showlegend": false,
           "type": "scatter",
           "x": [
            0,
            0,
            10,
            10,
            0
           ],
           "y": [
            0,
            53.5,
            53.5,
            0,
            0
           ]
          },
          {
           "fill": "toself",
           "fillcolor": "#FFB612",
           "hoverinfo": "skip",
           "line": {
            "color": "white",
            "width": 3
           },
           "mode": "lines",
           "opacity": 1,
           "showlegend": false,
           "type": "scatter",
           "x": [
            110,
            110,
            120,
            120,
            110
           ],
           "y": [
            0,
            53.5,
            53.5,
            0,
            0
           ]
          },
          {
           "hoverinfo": "text",
           "hovertext": [
            "nflId:43299<br>displayName:Eli Apple<br>Player Speed:4.071 MPH",
            "nflId:43350<br>displayName:Vonn Bell<br>Player Speed:4.832 MPH",
            "nflId:43455<br>displayName:D.J. Reader<br>Player Speed:1.186 MPH",
            "nflId:43641<br>displayName:Mike Hilton<br>Player Speed:2.953 MPH",
            "nflId:44872<br>displayName:Chidobe Awuzie<br>Player Speed:2.326 MPH",
            "nflId:44915<br>displayName:Trey Hendrickson<br>Player Speed:1.297 MPH",
            "nflId:46123<br>displayName:Jessie Bates<br>Player Speed:2.058 MPH",
            "nflId:46138<br>displayName:B.J. Hill<br>Player Speed:3.02 MPH",
            "nflId:46146<br>displayName:Sam Hubbard<br>Player Speed:1.611 MPH",
            "nflId:47855<br>displayName:Germaine Pratt<br>Player Speed:0.649 MPH",
            "nflId:52473<br>displayName:Logan Wilson<br>Player Speed:2.863 MPH"
           ],
           "marker": {
            "color": "#000000",
            "line": {
             "color": "#FB4F14",
             "width": 2
            },
            "size": 10
           },
           "mode": "markers",
           "name": "CIN",
           "type": "scatter",
           "x": [
            14.14,
            13.72,
            17.29,
            14.69,
            13.73,
            17.03,
            8.79,
            17.04,
            17.04,
            13.05,
            13.28
           ],
           "y": [
            13.88,
            36.99,
            31.29,
            18.99,
            42.25,
            23.97,
            25.14,
            28.01,
            34.9,
            31.73,
            26.43
           ]
          },
          {
           "hoverinfo": "text",
           "hovertext": [
            "nflId:44814<br>displayName:Mitchell Trubisky<br>Player Speed:0.738 MPH",
            "nflId:46108<br>displayName:James Daniels<br>Player Speed:0.134 MPH",
            "nflId:46161<br>displayName:Chukwuma Okorafor<br>Player Speed:0.403 MPH",
            "nflId:46166<br>displayName:Mason Cole<br>Player Speed:0.336 MPH",
            "nflId:47849<br>displayName:Diontae Johnson<br>Player Speed:0.582 MPH",
            "nflId:52457<br>displayName:Chase Claypool<br>Player Speed:1.409 MPH",
            "nflId:52543<br>displayName:Kevin Dotson<br>Player Speed:0.112 MPH",
            "nflId:53453<br>displayName:Najee Harris<br>Player Speed:0.358 MPH",
            "nflId:53484<br>displayName:Pat Freiermuth<br>Player Speed:1.186 MPH",
            "nflId:53557<br>displayName:Dan Moore<br>Player Speed:0.268 MPH",
            "nflId:54517<br>displayName:George Pickens<br>Player Speed:2.908 MPH"
           ],
           "marker": {
            "color": "#FFB612",
            "line": {
             "color": "#101820",
             "width": 2
            },
            "size": 10
           },
           "mode": "markers",
           "name": "PIT",
           "type": "scatter",
           "x": [
            23.94,
            20.17,
            20.25,
            19.43,
            19.73,
            19.87,
            19.9,
            20.79,
            20.54,
            20.17,
            20.19
           ],
           "y": [
            29.63,
            31.12,
            32.67,
            29.58,
            42.04,
            18.55,
            28.11,
            37.91,
            23.13,
            26.4,
            11.91
           ]
          },
          {
           "hoverinfo": "none",
           "marker": {
            "color": "#CBB67C",
            "line": {
             "color": "#663831",
             "width": 2
            },
            "size": 10
           },
           "mode": "markers",
           "name": "football",
           "type": "scatter",
           "x": [
            19.0200004577637
           ],
           "y": [
            29.5900001525879
           ]
          }
         ],
         "name": "25"
        },
        {
         "data": [
          {
           "hoverinfo": "none",
           "mode": "text",
           "showlegend": false,
           "text": [
            "10",
            "20",
            "30",
            "40",
            "50",
            "40",
            "30",
            "20",
            "10"
           ],
           "textfont": {
            "color": "#ffffff",
            "family": "Courier New, monospace",
            "size": 30
           },
           "type": "scatter",
           "x": [
            20,
            30,
            40,
            50,
            60,
            70,
            80,
            90,
            100
           ],
           "y": [
            5,
            5,
            5,
            5,
            5,
            5,
            5,
            5,
            5
           ]
          },
          {
           "hoverinfo": "none",
           "mode": "text",
           "showlegend": false,
           "text": [
            "10",
            "20",
            "30",
            "40",
            "50",
            "40",
            "30",
            "20",
            "10"
           ],
           "textfont": {
            "color": "#ffffff",
            "family": "Courier New, monospace",
            "size": 30
           },
           "type": "scatter",
           "x": [
            20,
            30,
            40,
            50,
            60,
            70,
            80,
            90,
            100
           ],
           "y": [
            48.5,
            48.5,
            48.5,
            48.5,
            48.5,
            48.5,
            48.5,
            48.5,
            48.5
           ]
          },
          {
           "hoverinfo": "none",
           "line": {
            "color": "blue",
            "dash": "dash"
           },
           "showlegend": false,
           "type": "scatter",
           "x": [
            19,
            19
           ],
           "y": [
            0,
            53.5
           ]
          },
          {
           "hoverinfo": "none",
           "line": {
            "color": "yellow",
            "dash": "dash"
           },
           "showlegend": false,
           "type": "scatter",
           "x": [
            10,
            10
           ],
           "y": [
            0,
            53.5
           ]
          },
          {
           "fill": "toself",
           "fillcolor": "#000000",
           "hoverinfo": "skip",
           "line": {
            "color": "white",
            "width": 3
           },
           "mode": "lines",
           "opacity": 1,
           "showlegend": false,
           "type": "scatter",
           "x": [
            0,
            0,
            10,
            10,
            0
           ],
           "y": [
            0,
            53.5,
            53.5,
            0,
            0
           ]
          },
          {
           "fill": "toself",
           "fillcolor": "#FFB612",
           "hoverinfo": "skip",
           "line": {
            "color": "white",
            "width": 3
           },
           "mode": "lines",
           "opacity": 1,
           "showlegend": false,
           "type": "scatter",
           "x": [
            110,
            110,
            120,
            120,
            110
           ],
           "y": [
            0,
            53.5,
            53.5,
            0,
            0
           ]
          },
          {
           "hoverinfo": "text",
           "hovertext": [
            "nflId:43299<br>displayName:Eli Apple<br>Player Speed:3.982 MPH",
            "nflId:43350<br>displayName:Vonn Bell<br>Player Speed:4.877 MPH",
            "nflId:43455<br>displayName:D.J. Reader<br>Player Speed:0.962 MPH",
            "nflId:43641<br>displayName:Mike Hilton<br>Player Speed:2.975 MPH",
            "nflId:44872<br>displayName:Chidobe Awuzie<br>Player Speed:2.215 MPH",
            "nflId:44915<br>displayName:Trey Hendrickson<br>Player Speed:1.23 MPH",
            "nflId:46123<br>displayName:Jessie Bates<br>Player Speed:2.058 MPH",
            "nflId:46138<br>displayName:B.J. Hill<br>Player Speed:3.154 MPH",
            "nflId:46146<br>displayName:Sam Hubbard<br>Player Speed:1.611 MPH",
            "nflId:47855<br>displayName:Germaine Pratt<br>Player Speed:0.738 MPH",
            "nflId:52473<br>displayName:Logan Wilson<br>Player Speed:2.863 MPH"
           ],
           "marker": {
            "color": "#000000",
            "line": {
             "color": "#FB4F14",
             "width": 2
            },
            "size": 10
           },
           "mode": "markers",
           "name": "CIN",
           "type": "scatter",
           "x": [
            14.08,
            13.89,
            17.33,
            14.69,
            13.66,
            17.07,
            8.75,
            17.13,
            17.11,
            13.12,
            13.33
           ],
           "y": [
            13.71,
            37.14,
            31.31,
            18.85,
            42.33,
            24.01,
            25.05,
            27.89,
            34.89,
            31.7,
            26.31
           ]
          },
          {
           "hoverinfo": "text",
           "hovertext": [
            "nflId:44814<br>displayName:Mitchell Trubisky<br>Player Speed:0.649 MPH",
            "nflId:46108<br>displayName:James Daniels<br>Player Speed:0.157 MPH",
            "nflId:46161<br>displayName:Chukwuma Okorafor<br>Player Speed:0.291 MPH",
            "nflId:46166<br>displayName:Mason Cole<br>Player Speed:0.246 MPH",
            "nflId:47849<br>displayName:Diontae Johnson<br>Player Speed:0.47 MPH",
            "nflId:52457<br>displayName:Chase Claypool<br>Player Speed:1.521 MPH",
            "nflId:52543<br>displayName:Kevin Dotson<br>Player Speed:0.201 MPH",
            "nflId:53453<br>displayName:Najee Harris<br>Player Speed:0.224 MPH",
            "nflId:53484<br>displayName:Pat Freiermuth<br>Player Speed:0.962 MPH",
            "nflId:53557<br>displayName:Dan Moore<br>Player Speed:0.224 MPH",
            "nflId:54517<br>displayName:George Pickens<br>Player Speed:2.729 MPH"
           ],
           "marker": {
            "color": "#FFB612",
            "line": {
             "color": "#101820",
             "width": 2
            },
            "size": 10
           },
           "mode": "markers",
           "name": "PIT",
           "type": "scatter",
           "x": [
            23.92,
            20.18,
            20.26,
            19.42,
            19.74,
            19.94,
            19.91,
            20.8,
            20.51,
            20.17,
            20.12
           ],
           "y": [
            29.64,
            31.13,
            32.67,
            29.58,
            42.06,
            18.56,
            28.1,
            37.92,
            23.09,
            26.41,
            11.81
           ]
          },
          {
           "hoverinfo": "none",
           "marker": {
            "color": "#CBB67C",
            "line": {
             "color": "#663831",
             "width": 2
            },
            "size": 10
           },
           "mode": "markers",
           "name": "football",
           "type": "scatter",
           "x": [
            19.0200004577637
           ],
           "y": [
            29.5900001525879
           ]
          }
         ],
         "name": "26"
        },
        {
         "data": [
          {
           "hoverinfo": "none",
           "mode": "text",
           "showlegend": false,
           "text": [
            "10",
            "20",
            "30",
            "40",
            "50",
            "40",
            "30",
            "20",
            "10"
           ],
           "textfont": {
            "color": "#ffffff",
            "family": "Courier New, monospace",
            "size": 30
           },
           "type": "scatter",
           "x": [
            20,
            30,
            40,
            50,
            60,
            70,
            80,
            90,
            100
           ],
           "y": [
            5,
            5,
            5,
            5,
            5,
            5,
            5,
            5,
            5
           ]
          },
          {
           "hoverinfo": "none",
           "mode": "text",
           "showlegend": false,
           "text": [
            "10",
            "20",
            "30",
            "40",
            "50",
            "40",
            "30",
            "20",
            "10"
           ],
           "textfont": {
            "color": "#ffffff",
            "family": "Courier New, monospace",
            "size": 30
           },
           "type": "scatter",
           "x": [
            20,
            30,
            40,
            50,
            60,
            70,
            80,
            90,
            100
           ],
           "y": [
            48.5,
            48.5,
            48.5,
            48.5,
            48.5,
            48.5,
            48.5,
            48.5,
            48.5
           ]
          },
          {
           "hoverinfo": "none",
           "line": {
            "color": "blue",
            "dash": "dash"
           },
           "showlegend": false,
           "type": "scatter",
           "x": [
            19,
            19
           ],
           "y": [
            0,
            53.5
           ]
          },
          {
           "hoverinfo": "none",
           "line": {
            "color": "yellow",
            "dash": "dash"
           },
           "showlegend": false,
           "type": "scatter",
           "x": [
            10,
            10
           ],
           "y": [
            0,
            53.5
           ]
          },
          {
           "fill": "toself",
           "fillcolor": "#000000",
           "hoverinfo": "skip",
           "line": {
            "color": "white",
            "width": 3
           },
           "mode": "lines",
           "opacity": 1,
           "showlegend": false,
           "type": "scatter",
           "x": [
            0,
            0,
            10,
            10,
            0
           ],
           "y": [
            0,
            53.5,
            53.5,
            0,
            0
           ]
          },
          {
           "fill": "toself",
           "fillcolor": "#FFB612",
           "hoverinfo": "skip",
           "line": {
            "color": "white",
            "width": 3
           },
           "mode": "lines",
           "opacity": 1,
           "showlegend": false,
           "type": "scatter",
           "x": [
            110,
            110,
            120,
            120,
            110
           ],
           "y": [
            0,
            53.5,
            53.5,
            0,
            0
           ]
          },
          {
           "hoverinfo": "text",
           "hovertext": [
            "nflId:43299<br>displayName:Eli Apple<br>Player Speed:3.937 MPH",
            "nflId:43350<br>displayName:Vonn Bell<br>Player Speed:4.877 MPH",
            "nflId:43455<br>displayName:D.J. Reader<br>Player Speed:1.163 MPH",
            "nflId:43641<br>displayName:Mike Hilton<br>Player Speed:2.953 MPH",
            "nflId:44872<br>displayName:Chidobe Awuzie<br>Player Speed:2.103 MPH",
            "nflId:44915<br>displayName:Trey Hendrickson<br>Player Speed:1.163 MPH",
            "nflId:46123<br>displayName:Jessie Bates<br>Player Speed:2.08 MPH",
            "nflId:46138<br>displayName:B.J. Hill<br>Player Speed:3.087 MPH",
            "nflId:46146<br>displayName:Sam Hubbard<br>Player Speed:1.566 MPH",
            "nflId:47855<br>displayName:Germaine Pratt<br>Player Speed:0.761 MPH",
            "nflId:52473<br>displayName:Logan Wilson<br>Player Speed:2.841 MPH"
           ],
           "marker": {
            "color": "#000000",
            "line": {
             "color": "#FB4F14",
             "width": 2
            },
            "size": 10
           },
           "mode": "markers",
           "name": "CIN",
           "type": "scatter",
           "x": [
            14.03,
            14.06,
            17.38,
            14.7,
            13.6,
            17.11,
            8.7,
            17.2,
            17.18,
            13.19,
            13.39
           ],
           "y": [
            13.54,
            37.28,
            31.3,
            18.72,
            42.4,
            24.04,
            24.97,
            27.78,
            34.9,
            31.67,
            26.2
           ]
          },
          {
           "hoverinfo": "text",
           "hovertext": [
            "nflId:44814<br>displayName:Mitchell Trubisky<br>Player Speed:0.559 MPH",
            "nflId:46108<br>displayName:James Daniels<br>Player Speed:0.157 MPH",
            "nflId:46161<br>displayName:Chukwuma Okorafor<br>Player Speed:0.224 MPH",
            "nflId:46166<br>displayName:Mason Cole<br>Player Speed:0.268 MPH",
            "nflId:47849<br>displayName:Diontae Johnson<br>Player Speed:0.447 MPH",
            "nflId:52457<br>displayName:Chase Claypool<br>Player Speed:1.79 MPH",
            "nflId:52543<br>displayName:Kevin Dotson<br>Player Speed:0.224 MPH",
            "nflId:53453<br>displayName:Najee Harris<br>Player Speed:0.134 MPH",
            "nflId:53484<br>displayName:Pat Freiermuth<br>Player Speed:0.805 MPH",
            "nflId:53557<br>displayName:Dan Moore<br>Player Speed:0.201 MPH",
            "nflId:54517<br>displayName:George Pickens<br>Player Speed:2.595 MPH"
           ],
           "marker": {
            "color": "#FFB612",
            "line": {
             "color": "#101820",
             "width": 2
            },
            "size": 10
           },
           "mode": "markers",
           "name": "PIT",
           "type": "scatter",
           "x": [
            23.91,
            20.19,
            20.26,
            19.41,
            19.75,
            20.01,
            19.92,
            20.8,
            20.49,
            20.18,
            20.04
           ],
           "y": [
            29.65,
            31.13,
            32.66,
            29.59,
            42.08,
            18.58,
            28.1,
            37.92,
            23.06,
            26.4,
            11.72
           ]
          },
          {
           "hoverinfo": "none",
           "marker": {
            "color": "#CBB67C",
            "line": {
             "color": "#663831",
             "width": 2
            },
            "size": 10
           },
           "mode": "markers",
           "name": "football",
           "type": "scatter",
           "x": [
            19.0200004577637
           ],
           "y": [
            29.5900001525879
           ]
          }
         ],
         "name": "27"
        },
        {
         "data": [
          {
           "hoverinfo": "none",
           "mode": "text",
           "showlegend": false,
           "text": [
            "10",
            "20",
            "30",
            "40",
            "50",
            "40",
            "30",
            "20",
            "10"
           ],
           "textfont": {
            "color": "#ffffff",
            "family": "Courier New, monospace",
            "size": 30
           },
           "type": "scatter",
           "x": [
            20,
            30,
            40,
            50,
            60,
            70,
            80,
            90,
            100
           ],
           "y": [
            5,
            5,
            5,
            5,
            5,
            5,
            5,
            5,
            5
           ]
          },
          {
           "hoverinfo": "none",
           "mode": "text",
           "showlegend": false,
           "text": [
            "10",
            "20",
            "30",
            "40",
            "50",
            "40",
            "30",
            "20",
            "10"
           ],
           "textfont": {
            "color": "#ffffff",
            "family": "Courier New, monospace",
            "size": 30
           },
           "type": "scatter",
           "x": [
            20,
            30,
            40,
            50,
            60,
            70,
            80,
            90,
            100
           ],
           "y": [
            48.5,
            48.5,
            48.5,
            48.5,
            48.5,
            48.5,
            48.5,
            48.5,
            48.5
           ]
          },
          {
           "hoverinfo": "none",
           "line": {
            "color": "blue",
            "dash": "dash"
           },
           "showlegend": false,
           "type": "scatter",
           "x": [
            19,
            19
           ],
           "y": [
            0,
            53.5
           ]
          },
          {
           "hoverinfo": "none",
           "line": {
            "color": "yellow",
            "dash": "dash"
           },
           "showlegend": false,
           "type": "scatter",
           "x": [
            10,
            10
           ],
           "y": [
            0,
            53.5
           ]
          },
          {
           "fill": "toself",
           "fillcolor": "#000000",
           "hoverinfo": "skip",
           "line": {
            "color": "white",
            "width": 3
           },
           "mode": "lines",
           "opacity": 1,
           "showlegend": false,
           "type": "scatter",
           "x": [
            0,
            0,
            10,
            10,
            0
           ],
           "y": [
            0,
            53.5,
            53.5,
            0,
            0
           ]
          },
          {
           "fill": "toself",
           "fillcolor": "#FFB612",
           "hoverinfo": "skip",
           "line": {
            "color": "white",
            "width": 3
           },
           "mode": "lines",
           "opacity": 1,
           "showlegend": false,
           "type": "scatter",
           "x": [
            110,
            110,
            120,
            120,
            110
           ],
           "y": [
            0,
            53.5,
            53.5,
            0,
            0
           ]
          },
          {
           "hoverinfo": "text",
           "hovertext": [
            "nflId:43299<br>displayName:Eli Apple<br>Player Speed:3.825 MPH",
            "nflId:43350<br>displayName:Vonn Bell<br>Player Speed:4.921 MPH",
            "nflId:43455<br>displayName:D.J. Reader<br>Player Speed:1.432 MPH",
            "nflId:43641<br>displayName:Mike Hilton<br>Player Speed:2.819 MPH",
            "nflId:44872<br>displayName:Chidobe Awuzie<br>Player Speed:2.013 MPH",
            "nflId:44915<br>displayName:Trey Hendrickson<br>Player Speed:1.32 MPH",
            "nflId:46123<br>displayName:Jessie Bates<br>Player Speed:2.08 MPH",
            "nflId:46138<br>displayName:B.J. Hill<br>Player Speed:3.109 MPH",
            "nflId:46146<br>displayName:Sam Hubbard<br>Player Speed:1.566 MPH",
            "nflId:47855<br>displayName:Germaine Pratt<br>Player Speed:0.85 MPH",
            "nflId:52473<br>displayName:Logan Wilson<br>Player Speed:2.841 MPH"
           ],
           "marker": {
            "color": "#000000",
            "line": {
             "color": "#FB4F14",
             "width": 2
            },
            "size": 10
           },
           "mode": "markers",
           "name": "CIN",
           "type": "scatter",
           "x": [
            13.97,
            14.23,
            17.43,
            14.71,
            13.54,
            17.17,
            8.64,
            17.27,
            17.26,
            13.26,
            13.45
           ],
           "y": [
            13.37,
            37.41,
            31.26,
            18.59,
            42.46,
            24.07,
            24.9,
            27.65,
            34.89,
            31.65,
            26.08
           ]
          },
          {
           "hoverinfo": "text",
           "hovertext": [
            "nflId:44814<br>displayName:Mitchell Trubisky<br>Player Speed:0.447 MPH",
            "nflId:46108<br>displayName:James Daniels<br>Player Speed:0.157 MPH",
            "nflId:46161<br>displayName:Chukwuma Okorafor<br>Player Speed:0.157 MPH",
            "nflId:46166<br>displayName:Mason Cole<br>Player Speed:0.224 MPH",
            "nflId:47849<br>displayName:Diontae Johnson<br>Player Speed:0.403 MPH",
            "nflId:52457<br>displayName:Chase Claypool<br>Player Speed:1.991 MPH",
            "nflId:52543<br>displayName:Kevin Dotson<br>Player Speed:0.291 MPH",
            "nflId:53453<br>displayName:Najee Harris<br>Player Speed:0.112 MPH",
            "nflId:53484<br>displayName:Pat Freiermuth<br>Player Speed:0.626 MPH",
            "nflId:53557<br>displayName:Dan Moore<br>Player Speed:0.246 MPH",
            "nflId:54517<br>displayName:George Pickens<br>Player Speed:2.371 MPH"
           ],
           "marker": {
            "color": "#FFB612",
            "line": {
             "color": "#101820",
             "width": 2
            },
            "size": 10
           },
           "mode": "markers",
           "name": "PIT",
           "type": "scatter",
           "x": [
            23.89,
            20.2,
            20.25,
            19.4,
            19.76,
            20.1,
            19.93,
            20.81,
            20.49,
            20.18,
            19.96
           ],
           "y": [
            29.64,
            31.13,
            32.66,
            29.59,
            42.09,
            18.6,
            28.08,
            37.92,
            23.03,
            26.38,
            11.65
           ]
          },
          {
           "hoverinfo": "none",
           "marker": {
            "color": "#CBB67C",
            "line": {
             "color": "#663831",
             "width": 2
            },
            "size": 10
           },
           "mode": "markers",
           "name": "football",
           "type": "scatter",
           "x": [
            19.0200004577637
           ],
           "y": [
            29.5799999237061
           ]
          }
         ],
         "name": "28"
        },
        {
         "data": [
          {
           "hoverinfo": "none",
           "mode": "text",
           "showlegend": false,
           "text": [
            "10",
            "20",
            "30",
            "40",
            "50",
            "40",
            "30",
            "20",
            "10"
           ],
           "textfont": {
            "color": "#ffffff",
            "family": "Courier New, monospace",
            "size": 30
           },
           "type": "scatter",
           "x": [
            20,
            30,
            40,
            50,
            60,
            70,
            80,
            90,
            100
           ],
           "y": [
            5,
            5,
            5,
            5,
            5,
            5,
            5,
            5,
            5
           ]
          },
          {
           "hoverinfo": "none",
           "mode": "text",
           "showlegend": false,
           "text": [
            "10",
            "20",
            "30",
            "40",
            "50",
            "40",
            "30",
            "20",
            "10"
           ],
           "textfont": {
            "color": "#ffffff",
            "family": "Courier New, monospace",
            "size": 30
           },
           "type": "scatter",
           "x": [
            20,
            30,
            40,
            50,
            60,
            70,
            80,
            90,
            100
           ],
           "y": [
            48.5,
            48.5,
            48.5,
            48.5,
            48.5,
            48.5,
            48.5,
            48.5,
            48.5
           ]
          },
          {
           "hoverinfo": "none",
           "line": {
            "color": "blue",
            "dash": "dash"
           },
           "showlegend": false,
           "type": "scatter",
           "x": [
            19,
            19
           ],
           "y": [
            0,
            53.5
           ]
          },
          {
           "hoverinfo": "none",
           "line": {
            "color": "yellow",
            "dash": "dash"
           },
           "showlegend": false,
           "type": "scatter",
           "x": [
            10,
            10
           ],
           "y": [
            0,
            53.5
           ]
          },
          {
           "fill": "toself",
           "fillcolor": "#000000",
           "hoverinfo": "skip",
           "line": {
            "color": "white",
            "width": 3
           },
           "mode": "lines",
           "opacity": 1,
           "showlegend": false,
           "type": "scatter",
           "x": [
            0,
            0,
            10,
            10,
            0
           ],
           "y": [
            0,
            53.5,
            53.5,
            0,
            0
           ]
          },
          {
           "fill": "toself",
           "fillcolor": "#FFB612",
           "hoverinfo": "skip",
           "line": {
            "color": "white",
            "width": 3
           },
           "mode": "lines",
           "opacity": 1,
           "showlegend": false,
           "type": "scatter",
           "x": [
            110,
            110,
            120,
            120,
            110
           ],
           "y": [
            0,
            53.5,
            53.5,
            0,
            0
           ]
          },
          {
           "hoverinfo": "text",
           "hovertext": [
            "nflId:43299<br>displayName:Eli Apple<br>Player Speed:3.691 MPH",
            "nflId:43350<br>displayName:Vonn Bell<br>Player Speed:4.877 MPH",
            "nflId:43455<br>displayName:D.J. Reader<br>Player Speed:1.678 MPH",
            "nflId:43641<br>displayName:Mike Hilton<br>Player Speed:2.483 MPH",
            "nflId:44872<br>displayName:Chidobe Awuzie<br>Player Speed:1.857 MPH",
            "nflId:44915<br>displayName:Trey Hendrickson<br>Player Speed:1.499 MPH",
            "nflId:46123<br>displayName:Jessie Bates<br>Player Speed:1.969 MPH",
            "nflId:46138<br>displayName:B.J. Hill<br>Player Speed:2.841 MPH",
            "nflId:46146<br>displayName:Sam Hubbard<br>Player Speed:1.611 MPH",
            "nflId:47855<br>displayName:Germaine Pratt<br>Player Speed:1.029 MPH",
            "nflId:52473<br>displayName:Logan Wilson<br>Player Speed:2.819 MPH"
           ],
           "marker": {
            "color": "#000000",
            "line": {
             "color": "#FB4F14",
             "width": 2
            },
            "size": 10
           },
           "mode": "markers",
           "name": "CIN",
           "type": "scatter",
           "x": [
            13.9,
            14.41,
            17.48,
            14.71,
            13.48,
            17.23,
            8.58,
            17.32,
            17.33,
            13.3,
            13.51
           ],
           "y": [
            13.22,
            37.53,
            31.22,
            18.48,
            42.53,
            24.1,
            24.84,
            27.54,
            34.9,
            31.63,
            25.97
           ]
          },
          {
           "hoverinfo": "text",
           "hovertext": [
            "nflId:44814<br>displayName:Mitchell Trubisky<br>Player Speed:0.313 MPH",
            "nflId:46108<br>displayName:James Daniels<br>Player Speed:0.179 MPH",
            "nflId:46161<br>displayName:Chukwuma Okorafor<br>Player Speed:0.112 MPH",
            "nflId:46166<br>displayName:Mason Cole<br>Player Speed:0.179 MPH",
            "nflId:47849<br>displayName:Diontae Johnson<br>Player Speed:0.313 MPH",
            "nflId:52457<br>displayName:Chase Claypool<br>Player Speed:2.08 MPH",
            "nflId:52543<br>displayName:Kevin Dotson<br>Player Speed:0.291 MPH",
            "nflId:53453<br>displayName:Najee Harris<br>Player Speed:0.089 MPH",
            "nflId:53484<br>displayName:Pat Freiermuth<br>Player Speed:0.649 MPH",
            "nflId:53557<br>displayName:Dan Moore<br>Player Speed:0.224 MPH",
            "nflId:54517<br>displayName:George Pickens<br>Player Speed:2.282 MPH"
           ],
           "marker": {
            "color": "#FFB612",
            "line": {
             "color": "#101820",
             "width": 2
            },
            "size": 10
           },
           "mode": "markers",
           "name": "PIT",
           "type": "scatter",
           "x": [
            23.89,
            20.21,
            20.25,
            19.39,
            19.78,
            20.19,
            19.94,
            20.81,
            20.49,
            20.19,
            19.88
           ],
           "y": [
            29.62,
            31.15,
            32.67,
            29.57,
            42.1,
            18.62,
            28.07,
            37.91,
            23,
            26.38,
            11.57
           ]
          },
          {
           "hoverinfo": "none",
           "marker": {
            "color": "#CBB67C",
            "line": {
             "color": "#663831",
             "width": 2
            },
            "size": 10
           },
           "mode": "markers",
           "name": "football",
           "type": "scatter",
           "x": [
            19.0200004577637
           ],
           "y": [
            29.5799999237061
           ]
          }
         ],
         "name": "29"
        },
        {
         "data": [
          {
           "hoverinfo": "none",
           "mode": "text",
           "showlegend": false,
           "text": [
            "10",
            "20",
            "30",
            "40",
            "50",
            "40",
            "30",
            "20",
            "10"
           ],
           "textfont": {
            "color": "#ffffff",
            "family": "Courier New, monospace",
            "size": 30
           },
           "type": "scatter",
           "x": [
            20,
            30,
            40,
            50,
            60,
            70,
            80,
            90,
            100
           ],
           "y": [
            5,
            5,
            5,
            5,
            5,
            5,
            5,
            5,
            5
           ]
          },
          {
           "hoverinfo": "none",
           "mode": "text",
           "showlegend": false,
           "text": [
            "10",
            "20",
            "30",
            "40",
            "50",
            "40",
            "30",
            "20",
            "10"
           ],
           "textfont": {
            "color": "#ffffff",
            "family": "Courier New, monospace",
            "size": 30
           },
           "type": "scatter",
           "x": [
            20,
            30,
            40,
            50,
            60,
            70,
            80,
            90,
            100
           ],
           "y": [
            48.5,
            48.5,
            48.5,
            48.5,
            48.5,
            48.5,
            48.5,
            48.5,
            48.5
           ]
          },
          {
           "hoverinfo": "none",
           "line": {
            "color": "blue",
            "dash": "dash"
           },
           "showlegend": false,
           "type": "scatter",
           "x": [
            19,
            19
           ],
           "y": [
            0,
            53.5
           ]
          },
          {
           "hoverinfo": "none",
           "line": {
            "color": "yellow",
            "dash": "dash"
           },
           "showlegend": false,
           "type": "scatter",
           "x": [
            10,
            10
           ],
           "y": [
            0,
            53.5
           ]
          },
          {
           "fill": "toself",
           "fillcolor": "#000000",
           "hoverinfo": "skip",
           "line": {
            "color": "white",
            "width": 3
           },
           "mode": "lines",
           "opacity": 1,
           "showlegend": false,
           "type": "scatter",
           "x": [
            0,
            0,
            10,
            10,
            0
           ],
           "y": [
            0,
            53.5,
            53.5,
            0,
            0
           ]
          },
          {
           "fill": "toself",
           "fillcolor": "#FFB612",
           "hoverinfo": "skip",
           "line": {
            "color": "white",
            "width": 3
           },
           "mode": "lines",
           "opacity": 1,
           "showlegend": false,
           "type": "scatter",
           "x": [
            110,
            110,
            120,
            120,
            110
           ],
           "y": [
            0,
            53.5,
            53.5,
            0,
            0
           ]
          },
          {
           "hoverinfo": "text",
           "hovertext": [
            "nflId:43299<br>displayName:Eli Apple<br>Player Speed:3.579 MPH",
            "nflId:43350<br>displayName:Vonn Bell<br>Player Speed:4.832 MPH",
            "nflId:43455<br>displayName:D.J. Reader<br>Player Speed:1.879 MPH",
            "nflId:43641<br>displayName:Mike Hilton<br>Player Speed:2.259 MPH",
            "nflId:44872<br>displayName:Chidobe Awuzie<br>Player Speed:1.722 MPH",
            "nflId:44915<br>displayName:Trey Hendrickson<br>Player Speed:1.678 MPH",
            "nflId:46123<br>displayName:Jessie Bates<br>Player Speed:1.857 MPH",
            "nflId:46138<br>displayName:B.J. Hill<br>Player Speed:2.55 MPH",
            "nflId:46146<br>displayName:Sam Hubbard<br>Player Speed:1.588 MPH",
            "nflId:47855<br>displayName:Germaine Pratt<br>Player Speed:1.409 MPH",
            "nflId:52473<br>displayName:Logan Wilson<br>Player Speed:2.774 MPH"
           ],
           "marker": {
            "color": "#000000",
            "line": {
             "color": "#FB4F14",
             "width": 2
            },
            "size": 10
           },
           "mode": "markers",
           "name": "CIN",
           "type": "scatter",
           "x": [
            13.83,
            14.6,
            17.53,
            14.71,
            13.43,
            17.3,
            8.52,
            17.36,
            17.4,
            13.36,
            13.56
           ],
           "y": [
            13.07,
            37.65,
            31.16,
            18.37,
            42.59,
            24.13,
            24.78,
            27.43,
            34.91,
            31.61,
            25.86
           ]
          },
          {
           "hoverinfo": "text",
           "hovertext": [
            "nflId:44814<br>displayName:Mitchell Trubisky<br>Player Speed:0.224 MPH",
            "nflId:46108<br>displayName:James Daniels<br>Player Speed:0.179 MPH",
            "nflId:46161<br>displayName:Chukwuma Okorafor<br>Player Speed:0.112 MPH",
            "nflId:46166<br>displayName:Mason Cole<br>Player Speed:0.134 MPH",
            "nflId:47849<br>displayName:Diontae Johnson<br>Player Speed:0.358 MPH",
            "nflId:52457<br>displayName:Chase Claypool<br>Player Speed:2.103 MPH",
            "nflId:52543<br>displayName:Kevin Dotson<br>Player Speed:0.291 MPH",
            "nflId:53453<br>displayName:Najee Harris<br>Player Speed:0.112 MPH",
            "nflId:53484<br>displayName:Pat Freiermuth<br>Player Speed:0.761 MPH",
            "nflId:53557<br>displayName:Dan Moore<br>Player Speed:0.179 MPH",
            "nflId:54517<br>displayName:George Pickens<br>Player Speed:1.857 MPH"
           ],
           "marker": {
            "color": "#FFB612",
            "line": {
             "color": "#101820",
             "width": 2
            },
            "size": 10
           },
           "mode": "markers",
           "name": "PIT",
           "type": "scatter",
           "x": [
            23.89,
            20.22,
            20.26,
            19.38,
            19.79,
            20.28,
            19.95,
            20.81,
            20.51,
            20.19,
            19.82
           ],
           "y": [
            29.61,
            31.16,
            32.68,
            29.56,
            42.12,
            18.64,
            28.06,
            37.91,
            22.98,
            26.38,
            11.52
           ]
          },
          {
           "hoverinfo": "none",
           "marker": {
            "color": "#CBB67C",
            "line": {
             "color": "#663831",
             "width": 2
            },
            "size": 10
           },
           "mode": "markers",
           "name": "football",
           "type": "scatter",
           "x": [
            19.0100002288818
           ],
           "y": [
            29.5799999237061
           ]
          }
         ],
         "name": "30"
        },
        {
         "data": [
          {
           "hoverinfo": "none",
           "mode": "text",
           "showlegend": false,
           "text": [
            "10",
            "20",
            "30",
            "40",
            "50",
            "40",
            "30",
            "20",
            "10"
           ],
           "textfont": {
            "color": "#ffffff",
            "family": "Courier New, monospace",
            "size": 30
           },
           "type": "scatter",
           "x": [
            20,
            30,
            40,
            50,
            60,
            70,
            80,
            90,
            100
           ],
           "y": [
            5,
            5,
            5,
            5,
            5,
            5,
            5,
            5,
            5
           ]
          },
          {
           "hoverinfo": "none",
           "mode": "text",
           "showlegend": false,
           "text": [
            "10",
            "20",
            "30",
            "40",
            "50",
            "40",
            "30",
            "20",
            "10"
           ],
           "textfont": {
            "color": "#ffffff",
            "family": "Courier New, monospace",
            "size": 30
           },
           "type": "scatter",
           "x": [
            20,
            30,
            40,
            50,
            60,
            70,
            80,
            90,
            100
           ],
           "y": [
            48.5,
            48.5,
            48.5,
            48.5,
            48.5,
            48.5,
            48.5,
            48.5,
            48.5
           ]
          },
          {
           "hoverinfo": "none",
           "line": {
            "color": "blue",
            "dash": "dash"
           },
           "showlegend": false,
           "type": "scatter",
           "x": [
            19,
            19
           ],
           "y": [
            0,
            53.5
           ]
          },
          {
           "hoverinfo": "none",
           "line": {
            "color": "yellow",
            "dash": "dash"
           },
           "showlegend": false,
           "type": "scatter",
           "x": [
            10,
            10
           ],
           "y": [
            0,
            53.5
           ]
          },
          {
           "fill": "toself",
           "fillcolor": "#000000",
           "hoverinfo": "skip",
           "line": {
            "color": "white",
            "width": 3
           },
           "mode": "lines",
           "opacity": 1,
           "showlegend": false,
           "type": "scatter",
           "x": [
            0,
            0,
            10,
            10,
            0
           ],
           "y": [
            0,
            53.5,
            53.5,
            0,
            0
           ]
          },
          {
           "fill": "toself",
           "fillcolor": "#FFB612",
           "hoverinfo": "skip",
           "line": {
            "color": "white",
            "width": 3
           },
           "mode": "lines",
           "opacity": 1,
           "showlegend": false,
           "type": "scatter",
           "x": [
            110,
            110,
            120,
            120,
            110
           ],
           "y": [
            0,
            53.5,
            53.5,
            0,
            0
           ]
          },
          {
           "hoverinfo": "text",
           "hovertext": [
            "nflId:43299<br>displayName:Eli Apple<br>Player Speed:3.467 MPH",
            "nflId:43350<br>displayName:Vonn Bell<br>Player Speed:4.765 MPH",
            "nflId:43455<br>displayName:D.J. Reader<br>Player Speed:1.969 MPH",
            "nflId:43641<br>displayName:Mike Hilton<br>Player Speed:2.058 MPH",
            "nflId:44872<br>displayName:Chidobe Awuzie<br>Player Speed:1.678 MPH",
            "nflId:44915<br>displayName:Trey Hendrickson<br>Player Speed:1.678 MPH",
            "nflId:46123<br>displayName:Jessie Bates<br>Player Speed:1.812 MPH",
            "nflId:46138<br>displayName:B.J. Hill<br>Player Speed:2.17 MPH",
            "nflId:46146<br>displayName:Sam Hubbard<br>Player Speed:1.543 MPH",
            "nflId:47855<br>displayName:Germaine Pratt<br>Player Speed:1.812 MPH",
            "nflId:52473<br>displayName:Logan Wilson<br>Player Speed:2.729 MPH"
           ],
           "marker": {
            "color": "#000000",
            "line": {
             "color": "#FB4F14",
             "width": 2
            },
            "size": 10
           },
           "mode": "markers",
           "name": "CIN",
           "type": "scatter",
           "x": [
            13.77,
            14.78,
            17.59,
            14.71,
            13.38,
            17.37,
            8.45,
            17.38,
            17.47,
            13.42,
            13.62
           ],
           "y": [
            12.93,
            37.76,
            31.09,
            18.27,
            42.65,
            24.15,
            24.73,
            27.33,
            34.92,
            31.58,
            25.75
           ]
          },
          {
           "hoverinfo": "text",
           "hovertext": [
            "nflId:44814<br>displayName:Mitchell Trubisky<br>Player Speed:0.179 MPH",
            "nflId:46108<br>displayName:James Daniels<br>Player Speed:0.157 MPH",
            "nflId:46161<br>displayName:Chukwuma Okorafor<br>Player Speed:0.089 MPH",
            "nflId:46166<br>displayName:Mason Cole<br>Player Speed:0.112 MPH",
            "nflId:47849<br>displayName:Diontae Johnson<br>Player Speed:0.313 MPH",
            "nflId:52457<br>displayName:Chase Claypool<br>Player Speed:1.79 MPH",
            "nflId:52543<br>displayName:Kevin Dotson<br>Player Speed:0.268 MPH",
            "nflId:53453<br>displayName:Najee Harris<br>Player Speed:0.134 MPH",
            "nflId:53484<br>displayName:Pat Freiermuth<br>Player Speed:0.94 MPH",
            "nflId:53557<br>displayName:Dan Moore<br>Player Speed:0.179 MPH",
            "nflId:54517<br>displayName:George Pickens<br>Player Speed:1.409 MPH"
           ],
           "marker": {
            "color": "#FFB612",
            "line": {
             "color": "#101820",
             "width": 2
            },
            "size": 10
           },
           "mode": "markers",
           "name": "PIT",
           "type": "scatter",
           "x": [
            23.88,
            20.22,
            20.26,
            19.38,
            19.8,
            20.35,
            19.97,
            20.81,
            20.54,
            20.2,
            19.76
           ],
           "y": [
            29.61,
            31.16,
            32.68,
            29.56,
            42.12,
            18.65,
            28.06,
            37.9,
            22.95,
            26.37,
            11.48
           ]
          },
          {
           "hoverinfo": "none",
           "marker": {
            "color": "#CBB67C",
            "line": {
             "color": "#663831",
             "width": 2
            },
            "size": 10
           },
           "mode": "markers",
           "name": "football",
           "type": "scatter",
           "x": [
            19.0100002288818
           ],
           "y": [
            29.5799999237061
           ]
          }
         ],
         "name": "31"
        },
        {
         "data": [
          {
           "hoverinfo": "none",
           "mode": "text",
           "showlegend": false,
           "text": [
            "10",
            "20",
            "30",
            "40",
            "50",
            "40",
            "30",
            "20",
            "10"
           ],
           "textfont": {
            "color": "#ffffff",
            "family": "Courier New, monospace",
            "size": 30
           },
           "type": "scatter",
           "x": [
            20,
            30,
            40,
            50,
            60,
            70,
            80,
            90,
            100
           ],
           "y": [
            5,
            5,
            5,
            5,
            5,
            5,
            5,
            5,
            5
           ]
          },
          {
           "hoverinfo": "none",
           "mode": "text",
           "showlegend": false,
           "text": [
            "10",
            "20",
            "30",
            "40",
            "50",
            "40",
            "30",
            "20",
            "10"
           ],
           "textfont": {
            "color": "#ffffff",
            "family": "Courier New, monospace",
            "size": 30
           },
           "type": "scatter",
           "x": [
            20,
            30,
            40,
            50,
            60,
            70,
            80,
            90,
            100
           ],
           "y": [
            48.5,
            48.5,
            48.5,
            48.5,
            48.5,
            48.5,
            48.5,
            48.5,
            48.5
           ]
          },
          {
           "hoverinfo": "none",
           "line": {
            "color": "blue",
            "dash": "dash"
           },
           "showlegend": false,
           "type": "scatter",
           "x": [
            19,
            19
           ],
           "y": [
            0,
            53.5
           ]
          },
          {
           "hoverinfo": "none",
           "line": {
            "color": "yellow",
            "dash": "dash"
           },
           "showlegend": false,
           "type": "scatter",
           "x": [
            10,
            10
           ],
           "y": [
            0,
            53.5
           ]
          },
          {
           "fill": "toself",
           "fillcolor": "#000000",
           "hoverinfo": "skip",
           "line": {
            "color": "white",
            "width": 3
           },
           "mode": "lines",
           "opacity": 1,
           "showlegend": false,
           "type": "scatter",
           "x": [
            0,
            0,
            10,
            10,
            0
           ],
           "y": [
            0,
            53.5,
            53.5,
            0,
            0
           ]
          },
          {
           "fill": "toself",
           "fillcolor": "#FFB612",
           "hoverinfo": "skip",
           "line": {
            "color": "white",
            "width": 3
           },
           "mode": "lines",
           "opacity": 1,
           "showlegend": false,
           "type": "scatter",
           "x": [
            110,
            110,
            120,
            120,
            110
           ],
           "y": [
            0,
            53.5,
            53.5,
            0,
            0
           ]
          },
          {
           "hoverinfo": "text",
           "hovertext": [
            "nflId:43299<br>displayName:Eli Apple<br>Player Speed:3.288 MPH",
            "nflId:43350<br>displayName:Vonn Bell<br>Player Speed:4.675 MPH",
            "nflId:43455<br>displayName:D.J. Reader<br>Player Speed:1.924 MPH",
            "nflId:43641<br>displayName:Mike Hilton<br>Player Speed:1.834 MPH",
            "nflId:44872<br>displayName:Chidobe Awuzie<br>Player Speed:1.588 MPH",
            "nflId:44915<br>displayName:Trey Hendrickson<br>Player Speed:1.722 MPH",
            "nflId:46123<br>displayName:Jessie Bates<br>Player Speed:1.611 MPH",
            "nflId:46138<br>displayName:B.J. Hill<br>Player Speed:1.633 MPH",
            "nflId:46146<br>displayName:Sam Hubbard<br>Player Speed:1.588 MPH",
            "nflId:47855<br>displayName:Germaine Pratt<br>Player Speed:2.147 MPH",
            "nflId:52473<br>displayName:Logan Wilson<br>Player Speed:2.684 MPH"
           ],
           "marker": {
            "color": "#000000",
            "line": {
             "color": "#FB4F14",
             "width": 2
            },
            "size": 10
           },
           "mode": "markers",
           "name": "CIN",
           "type": "scatter",
           "x": [
            13.7,
            14.96,
            17.64,
            14.72,
            13.34,
            17.44,
            8.39,
            17.39,
            17.55,
            13.51,
            13.68
           ],
           "y": [
            12.8,
            37.87,
            31.03,
            18.18,
            42.71,
            24.18,
            24.69,
            27.26,
            34.92,
            31.56,
            25.64
           ]
          },
          {
           "hoverinfo": "text",
           "hovertext": [
            "nflId:44814<br>displayName:Mitchell Trubisky<br>Player Speed:0.179 MPH",
            "nflId:46108<br>displayName:James Daniels<br>Player Speed:0.134 MPH",
            "nflId:46161<br>displayName:Chukwuma Okorafor<br>Player Speed:0.112 MPH",
            "nflId:46166<br>displayName:Mason Cole<br>Player Speed:0.112 MPH",
            "nflId:47849<br>displayName:Diontae Johnson<br>Player Speed:0.291 MPH",
            "nflId:52457<br>displayName:Chase Claypool<br>Player Speed:1.521 MPH",
            "nflId:52543<br>displayName:Kevin Dotson<br>Player Speed:0.179 MPH",
            "nflId:53453<br>displayName:Najee Harris<br>Player Speed:0.112 MPH",
            "nflId:53484<br>displayName:Pat Freiermuth<br>Player Speed:1.051 MPH",
            "nflId:53557<br>displayName:Dan Moore<br>Player Speed:0.134 MPH",
            "nflId:54517<br>displayName:George Pickens<br>Player Speed:1.208 MPH"
           ],
           "marker": {
            "color": "#FFB612",
            "line": {
             "color": "#101820",
             "width": 2
            },
            "size": 10
           },
           "mode": "markers",
           "name": "PIT",
           "type": "scatter",
           "x": [
            23.88,
            20.22,
            20.27,
            19.38,
            19.81,
            20.43,
            19.96,
            20.81,
            20.58,
            20.19,
            19.71
           ],
           "y": [
            29.6,
            31.17,
            32.69,
            29.58,
            42.13,
            18.65,
            28.07,
            37.89,
            22.93,
            26.37,
            11.45
           ]
          },
          {
           "hoverinfo": "none",
           "marker": {
            "color": "#CBB67C",
            "line": {
             "color": "#663831",
             "width": 2
            },
            "size": 10
           },
           "mode": "markers",
           "name": "football",
           "type": "scatter",
           "x": [
            19.0100002288818
           ],
           "y": [
            29.5799999237061
           ]
          }
         ],
         "name": "32"
        },
        {
         "data": [
          {
           "hoverinfo": "none",
           "mode": "text",
           "showlegend": false,
           "text": [
            "10",
            "20",
            "30",
            "40",
            "50",
            "40",
            "30",
            "20",
            "10"
           ],
           "textfont": {
            "color": "#ffffff",
            "family": "Courier New, monospace",
            "size": 30
           },
           "type": "scatter",
           "x": [
            20,
            30,
            40,
            50,
            60,
            70,
            80,
            90,
            100
           ],
           "y": [
            5,
            5,
            5,
            5,
            5,
            5,
            5,
            5,
            5
           ]
          },
          {
           "hoverinfo": "none",
           "mode": "text",
           "showlegend": false,
           "text": [
            "10",
            "20",
            "30",
            "40",
            "50",
            "40",
            "30",
            "20",
            "10"
           ],
           "textfont": {
            "color": "#ffffff",
            "family": "Courier New, monospace",
            "size": 30
           },
           "type": "scatter",
           "x": [
            20,
            30,
            40,
            50,
            60,
            70,
            80,
            90,
            100
           ],
           "y": [
            48.5,
            48.5,
            48.5,
            48.5,
            48.5,
            48.5,
            48.5,
            48.5,
            48.5
           ]
          },
          {
           "hoverinfo": "none",
           "line": {
            "color": "blue",
            "dash": "dash"
           },
           "showlegend": false,
           "type": "scatter",
           "x": [
            19,
            19
           ],
           "y": [
            0,
            53.5
           ]
          },
          {
           "hoverinfo": "none",
           "line": {
            "color": "yellow",
            "dash": "dash"
           },
           "showlegend": false,
           "type": "scatter",
           "x": [
            10,
            10
           ],
           "y": [
            0,
            53.5
           ]
          },
          {
           "fill": "toself",
           "fillcolor": "#000000",
           "hoverinfo": "skip",
           "line": {
            "color": "white",
            "width": 3
           },
           "mode": "lines",
           "opacity": 1,
           "showlegend": false,
           "type": "scatter",
           "x": [
            0,
            0,
            10,
            10,
            0
           ],
           "y": [
            0,
            53.5,
            53.5,
            0,
            0
           ]
          },
          {
           "fill": "toself",
           "fillcolor": "#FFB612",
           "hoverinfo": "skip",
           "line": {
            "color": "white",
            "width": 3
           },
           "mode": "lines",
           "opacity": 1,
           "showlegend": false,
           "type": "scatter",
           "x": [
            110,
            110,
            120,
            120,
            110
           ],
           "y": [
            0,
            53.5,
            53.5,
            0,
            0
           ]
          },
          {
           "hoverinfo": "text",
           "hovertext": [
            "nflId:43299<br>displayName:Eli Apple<br>Player Speed:3.065 MPH",
            "nflId:43350<br>displayName:Vonn Bell<br>Player Speed:4.519 MPH",
            "nflId:43455<br>displayName:D.J. Reader<br>Player Speed:1.588 MPH",
            "nflId:43641<br>displayName:Mike Hilton<br>Player Speed:1.543 MPH",
            "nflId:44872<br>displayName:Chidobe Awuzie<br>Player Speed:1.432 MPH",
            "nflId:44915<br>displayName:Trey Hendrickson<br>Player Speed:1.812 MPH",
            "nflId:46123<br>displayName:Jessie Bates<br>Player Speed:1.253 MPH",
            "nflId:46138<br>displayName:B.J. Hill<br>Player Speed:1.074 MPH",
            "nflId:46146<br>displayName:Sam Hubbard<br>Player Speed:1.7 MPH",
            "nflId:47855<br>displayName:Germaine Pratt<br>Player Speed:2.416 MPH",
            "nflId:52473<br>displayName:Logan Wilson<br>Player Speed:2.684 MPH"
           ],
           "marker": {
            "color": "#000000",
            "line": {
             "color": "#FB4F14",
             "width": 2
            },
            "size": 10
           },
           "mode": "markers",
           "name": "CIN",
           "type": "scatter",
           "x": [
            13.63,
            15.14,
            17.69,
            14.73,
            13.29,
            17.51,
            8.33,
            17.4,
            17.64,
            13.61,
            13.74
           ],
           "y": [
            12.68,
            37.96,
            30.98,
            18.11,
            42.76,
            24.21,
            24.66,
            27.22,
            34.92,
            31.53,
            25.54
           ]
          },
          {
           "hoverinfo": "text",
           "hovertext": [
            "nflId:44814<br>displayName:Mitchell Trubisky<br>Player Speed:0.112 MPH",
            "nflId:46108<br>displayName:James Daniels<br>Player Speed:0.134 MPH",
            "nflId:46161<br>displayName:Chukwuma Okorafor<br>Player Speed:0.089 MPH",
            "nflId:46166<br>displayName:Mason Cole<br>Player Speed:0.112 MPH",
            "nflId:47849<br>displayName:Diontae Johnson<br>Player Speed:0.313 MPH",
            "nflId:52457<br>displayName:Chase Claypool<br>Player Speed:1.208 MPH",
            "nflId:52543<br>displayName:Kevin Dotson<br>Player Speed:0.201 MPH",
            "nflId:53453<br>displayName:Najee Harris<br>Player Speed:0.112 MPH",
            "nflId:53484<br>displayName:Pat Freiermuth<br>Player Speed:1.029 MPH",
            "nflId:53557<br>displayName:Dan Moore<br>Player Speed:0.134 MPH",
            "nflId:54517<br>displayName:George Pickens<br>Player Speed:0.984 MPH"
           ],
           "marker": {
            "color": "#FFB612",
            "line": {
             "color": "#101820",
             "width": 2
            },
            "size": 10
           },
           "mode": "markers",
           "name": "PIT",
           "type": "scatter",
           "x": [
            23.9,
            20.23,
            20.26,
            19.37,
            19.82,
            20.48,
            19.97,
            20.81,
            20.62,
            20.2,
            19.68
           ],
           "y": [
            29.59,
            31.17,
            32.7,
            29.57,
            42.14,
            18.65,
            28.06,
            37.89,
            22.91,
            26.37,
            11.41
           ]
          },
          {
           "hoverinfo": "none",
           "marker": {
            "color": "#CBB67C",
            "line": {
             "color": "#663831",
             "width": 2
            },
            "size": 10
           },
           "mode": "markers",
           "name": "football",
           "type": "scatter",
           "x": [
            19.0100002288818
           ],
           "y": [
            29.5799999237061
           ]
          }
         ],
         "name": "33"
        },
        {
         "data": [
          {
           "hoverinfo": "none",
           "mode": "text",
           "showlegend": false,
           "text": [
            "10",
            "20",
            "30",
            "40",
            "50",
            "40",
            "30",
            "20",
            "10"
           ],
           "textfont": {
            "color": "#ffffff",
            "family": "Courier New, monospace",
            "size": 30
           },
           "type": "scatter",
           "x": [
            20,
            30,
            40,
            50,
            60,
            70,
            80,
            90,
            100
           ],
           "y": [
            5,
            5,
            5,
            5,
            5,
            5,
            5,
            5,
            5
           ]
          },
          {
           "hoverinfo": "none",
           "mode": "text",
           "showlegend": false,
           "text": [
            "10",
            "20",
            "30",
            "40",
            "50",
            "40",
            "30",
            "20",
            "10"
           ],
           "textfont": {
            "color": "#ffffff",
            "family": "Courier New, monospace",
            "size": 30
           },
           "type": "scatter",
           "x": [
            20,
            30,
            40,
            50,
            60,
            70,
            80,
            90,
            100
           ],
           "y": [
            48.5,
            48.5,
            48.5,
            48.5,
            48.5,
            48.5,
            48.5,
            48.5,
            48.5
           ]
          },
          {
           "hoverinfo": "none",
           "line": {
            "color": "blue",
            "dash": "dash"
           },
           "showlegend": false,
           "type": "scatter",
           "x": [
            19,
            19
           ],
           "y": [
            0,
            53.5
           ]
          },
          {
           "hoverinfo": "none",
           "line": {
            "color": "yellow",
            "dash": "dash"
           },
           "showlegend": false,
           "type": "scatter",
           "x": [
            10,
            10
           ],
           "y": [
            0,
            53.5
           ]
          },
          {
           "fill": "toself",
           "fillcolor": "#000000",
           "hoverinfo": "skip",
           "line": {
            "color": "white",
            "width": 3
           },
           "mode": "lines",
           "opacity": 1,
           "showlegend": false,
           "type": "scatter",
           "x": [
            0,
            0,
            10,
            10,
            0
           ],
           "y": [
            0,
            53.5,
            53.5,
            0,
            0
           ]
          },
          {
           "fill": "toself",
           "fillcolor": "#FFB612",
           "hoverinfo": "skip",
           "line": {
            "color": "white",
            "width": 3
           },
           "mode": "lines",
           "opacity": 1,
           "showlegend": false,
           "type": "scatter",
           "x": [
            110,
            110,
            120,
            120,
            110
           ],
           "y": [
            0,
            53.5,
            53.5,
            0,
            0
           ]
          },
          {
           "hoverinfo": "text",
           "hovertext": [
            "nflId:43299<br>displayName:Eli Apple<br>Player Speed:2.707 MPH",
            "nflId:43350<br>displayName:Vonn Bell<br>Player Speed:4.407 MPH",
            "nflId:43455<br>displayName:D.J. Reader<br>Player Speed:1.297 MPH",
            "nflId:43641<br>displayName:Mike Hilton<br>Player Speed:1.275 MPH",
            "nflId:44872<br>displayName:Chidobe Awuzie<br>Player Speed:1.32 MPH",
            "nflId:44915<br>displayName:Trey Hendrickson<br>Player Speed:1.79 MPH",
            "nflId:46123<br>displayName:Jessie Bates<br>Player Speed:0.962 MPH",
            "nflId:46138<br>displayName:B.J. Hill<br>Player Speed:0.537 MPH",
            "nflId:46146<br>displayName:Sam Hubbard<br>Player Speed:1.588 MPH",
            "nflId:47855<br>displayName:Germaine Pratt<br>Player Speed:2.595 MPH",
            "nflId:52473<br>displayName:Logan Wilson<br>Player Speed:2.662 MPH"
           ],
           "marker": {
            "color": "#000000",
            "line": {
             "color": "#FB4F14",
             "width": 2
            },
            "size": 10
           },
           "mode": "markers",
           "name": "CIN",
           "type": "scatter",
           "x": [
            13.56,
            15.32,
            17.74,
            14.74,
            13.25,
            17.59,
            8.29,
            17.4,
            17.7,
            13.72,
            13.8
           ],
           "y": [
            12.58,
            38.06,
            30.95,
            18.05,
            42.8,
            24.24,
            24.65,
            27.2,
            34.92,
            31.51,
            25.43
           ]
          },
          {
           "hoverinfo": "text",
           "hovertext": [
            "nflId:44814<br>displayName:Mitchell Trubisky<br>Player Speed:0.089 MPH",
            "nflId:46108<br>displayName:James Daniels<br>Player Speed:0.112 MPH",
            "nflId:46161<br>displayName:Chukwuma Okorafor<br>Player Speed:0.067 MPH",
            "nflId:46166<br>displayName:Mason Cole<br>Player Speed:0.112 MPH",
            "nflId:47849<br>displayName:Diontae Johnson<br>Player Speed:0.089 MPH",
            "nflId:52457<br>displayName:Chase Claypool<br>Player Speed:0.895 MPH",
            "nflId:52543<br>displayName:Kevin Dotson<br>Player Speed:0.201 MPH",
            "nflId:53453<br>displayName:Najee Harris<br>Player Speed:0.157 MPH",
            "nflId:53484<br>displayName:Pat Freiermuth<br>Player Speed:0.917 MPH",
            "nflId:53557<br>displayName:Dan Moore<br>Player Speed:0.089 MPH",
            "nflId:54517<br>displayName:George Pickens<br>Player Speed:0.671 MPH"
           ],
           "marker": {
            "color": "#FFB612",
            "line": {
             "color": "#101820",
             "width": 2
            },
            "size": 10
           },
           "mode": "markers",
           "name": "PIT",
           "type": "scatter",
           "x": [
            23.91,
            20.24,
            20.26,
            19.35,
            19.82,
            20.53,
            19.98,
            20.82,
            20.66,
            20.2,
            19.65
           ],
           "y": [
            29.59,
            31.16,
            32.7,
            29.56,
            42.14,
            18.65,
            28.05,
            37.88,
            22.9,
            26.37,
            11.39
           ]
          },
          {
           "hoverinfo": "none",
           "marker": {
            "color": "#CBB67C",
            "line": {
             "color": "#663831",
             "width": 2
            },
            "size": 10
           },
           "mode": "markers",
           "name": "football",
           "type": "scatter",
           "x": [
            19.0100002288818
           ],
           "y": [
            29.5799999237061
           ]
          }
         ],
         "name": "34"
        },
        {
         "data": [
          {
           "hoverinfo": "none",
           "mode": "text",
           "showlegend": false,
           "text": [
            "10",
            "20",
            "30",
            "40",
            "50",
            "40",
            "30",
            "20",
            "10"
           ],
           "textfont": {
            "color": "#ffffff",
            "family": "Courier New, monospace",
            "size": 30
           },
           "type": "scatter",
           "x": [
            20,
            30,
            40,
            50,
            60,
            70,
            80,
            90,
            100
           ],
           "y": [
            5,
            5,
            5,
            5,
            5,
            5,
            5,
            5,
            5
           ]
          },
          {
           "hoverinfo": "none",
           "mode": "text",
           "showlegend": false,
           "text": [
            "10",
            "20",
            "30",
            "40",
            "50",
            "40",
            "30",
            "20",
            "10"
           ],
           "textfont": {
            "color": "#ffffff",
            "family": "Courier New, monospace",
            "size": 30
           },
           "type": "scatter",
           "x": [
            20,
            30,
            40,
            50,
            60,
            70,
            80,
            90,
            100
           ],
           "y": [
            48.5,
            48.5,
            48.5,
            48.5,
            48.5,
            48.5,
            48.5,
            48.5,
            48.5
           ]
          },
          {
           "hoverinfo": "none",
           "line": {
            "color": "blue",
            "dash": "dash"
           },
           "showlegend": false,
           "type": "scatter",
           "x": [
            19,
            19
           ],
           "y": [
            0,
            53.5
           ]
          },
          {
           "hoverinfo": "none",
           "line": {
            "color": "yellow",
            "dash": "dash"
           },
           "showlegend": false,
           "type": "scatter",
           "x": [
            10,
            10
           ],
           "y": [
            0,
            53.5
           ]
          },
          {
           "fill": "toself",
           "fillcolor": "#000000",
           "hoverinfo": "skip",
           "line": {
            "color": "white",
            "width": 3
           },
           "mode": "lines",
           "opacity": 1,
           "showlegend": false,
           "type": "scatter",
           "x": [
            0,
            0,
            10,
            10,
            0
           ],
           "y": [
            0,
            53.5,
            53.5,
            0,
            0
           ]
          },
          {
           "fill": "toself",
           "fillcolor": "#FFB612",
           "hoverinfo": "skip",
           "line": {
            "color": "white",
            "width": 3
           },
           "mode": "lines",
           "opacity": 1,
           "showlegend": false,
           "type": "scatter",
           "x": [
            110,
            110,
            120,
            120,
            110
           ],
           "y": [
            0,
            53.5,
            53.5,
            0,
            0
           ]
          },
          {
           "hoverinfo": "text",
           "hovertext": [
            "nflId:43299<br>displayName:Eli Apple<br>Player Speed:2.461 MPH",
            "nflId:43350<br>displayName:Vonn Bell<br>Player Speed:4.138 MPH",
            "nflId:43455<br>displayName:D.J. Reader<br>Player Speed:0.984 MPH",
            "nflId:43641<br>displayName:Mike Hilton<br>Player Speed:0.895 MPH",
            "nflId:44872<br>displayName:Chidobe Awuzie<br>Player Speed:1.253 MPH",
            "nflId:44915<br>displayName:Trey Hendrickson<br>Player Speed:1.879 MPH",
            "nflId:46123<br>displayName:Jessie Bates<br>Player Speed:0.693 MPH",
            "nflId:46138<br>displayName:B.J. Hill<br>Player Speed:0.134 MPH",
            "nflId:46146<br>displayName:Sam Hubbard<br>Player Speed:1.499 MPH",
            "nflId:47855<br>displayName:Germaine Pratt<br>Player Speed:2.751 MPH",
            "nflId:52473<br>displayName:Logan Wilson<br>Player Speed:2.595 MPH"
           ],
           "marker": {
            "color": "#000000",
            "line": {
             "color": "#FB4F14",
             "width": 2
            },
            "size": 10
           },
           "mode": "markers",
           "name": "CIN",
           "type": "scatter",
           "x": [
            13.49,
            15.49,
            17.79,
            14.75,
            13.2,
            17.66,
            8.25,
            17.4,
            17.77,
            13.83,
            13.85
           ],
           "y": [
            12.48,
            38.14,
            30.95,
            18.01,
            42.83,
            24.28,
            24.63,
            27.19,
            34.92,
            31.47,
            25.33
           ]
          },
          {
           "hoverinfo": "text",
           "hovertext": [
            "nflId:44814<br>displayName:Mitchell Trubisky<br>Player Speed:0.089 MPH",
            "nflId:46108<br>displayName:James Daniels<br>Player Speed:0.089 MPH",
            "nflId:46161<br>displayName:Chukwuma Okorafor<br>Player Speed:0.067 MPH",
            "nflId:46166<br>displayName:Mason Cole<br>Player Speed:0.112 MPH",
            "nflId:47849<br>displayName:Diontae Johnson<br>Player Speed:0.022 MPH",
            "nflId:52457<br>displayName:Chase Claypool<br>Player Speed:0.693 MPH",
            "nflId:52543<br>displayName:Kevin Dotson<br>Player Speed:0.201 MPH",
            "nflId:53453<br>displayName:Najee Harris<br>Player Speed:0.201 MPH",
            "nflId:53484<br>displayName:Pat Freiermuth<br>Player Speed:0.693 MPH",
            "nflId:53557<br>displayName:Dan Moore<br>Player Speed:0.045 MPH",
            "nflId:54517<br>displayName:George Pickens<br>Player Speed:0.313 MPH"
           ],
           "marker": {
            "color": "#FFB612",
            "line": {
             "color": "#101820",
             "width": 2
            },
            "size": 10
           },
           "mode": "markers",
           "name": "PIT",
           "type": "scatter",
           "x": [
            23.93,
            20.24,
            20.26,
            19.33,
            19.82,
            20.56,
            20,
            20.81,
            20.68,
            20.2,
            19.64
           ],
           "y": [
            29.59,
            31.16,
            32.7,
            29.56,
            42.14,
            18.63,
            28.05,
            37.87,
            22.88,
            26.39,
            11.38
           ]
          },
          {
           "hoverinfo": "none",
           "marker": {
            "color": "#CBB67C",
            "line": {
             "color": "#663831",
             "width": 2
            },
            "size": 10
           },
           "mode": "markers",
           "name": "football",
           "type": "scatter",
           "x": [
            19.0100002288818
           ],
           "y": [
            29.5799999237061
           ]
          }
         ],
         "name": "35"
        },
        {
         "data": [
          {
           "hoverinfo": "none",
           "mode": "text",
           "showlegend": false,
           "text": [
            "10",
            "20",
            "30",
            "40",
            "50",
            "40",
            "30",
            "20",
            "10"
           ],
           "textfont": {
            "color": "#ffffff",
            "family": "Courier New, monospace",
            "size": 30
           },
           "type": "scatter",
           "x": [
            20,
            30,
            40,
            50,
            60,
            70,
            80,
            90,
            100
           ],
           "y": [
            5,
            5,
            5,
            5,
            5,
            5,
            5,
            5,
            5
           ]
          },
          {
           "hoverinfo": "none",
           "mode": "text",
           "showlegend": false,
           "text": [
            "10",
            "20",
            "30",
            "40",
            "50",
            "40",
            "30",
            "20",
            "10"
           ],
           "textfont": {
            "color": "#ffffff",
            "family": "Courier New, monospace",
            "size": 30
           },
           "type": "scatter",
           "x": [
            20,
            30,
            40,
            50,
            60,
            70,
            80,
            90,
            100
           ],
           "y": [
            48.5,
            48.5,
            48.5,
            48.5,
            48.5,
            48.5,
            48.5,
            48.5,
            48.5
           ]
          },
          {
           "hoverinfo": "none",
           "line": {
            "color": "blue",
            "dash": "dash"
           },
           "showlegend": false,
           "type": "scatter",
           "x": [
            19,
            19
           ],
           "y": [
            0,
            53.5
           ]
          },
          {
           "hoverinfo": "none",
           "line": {
            "color": "yellow",
            "dash": "dash"
           },
           "showlegend": false,
           "type": "scatter",
           "x": [
            10,
            10
           ],
           "y": [
            0,
            53.5
           ]
          },
          {
           "fill": "toself",
           "fillcolor": "#000000",
           "hoverinfo": "skip",
           "line": {
            "color": "white",
            "width": 3
           },
           "mode": "lines",
           "opacity": 1,
           "showlegend": false,
           "type": "scatter",
           "x": [
            0,
            0,
            10,
            10,
            0
           ],
           "y": [
            0,
            53.5,
            53.5,
            0,
            0
           ]
          },
          {
           "fill": "toself",
           "fillcolor": "#FFB612",
           "hoverinfo": "skip",
           "line": {
            "color": "white",
            "width": 3
           },
           "mode": "lines",
           "opacity": 1,
           "showlegend": false,
           "type": "scatter",
           "x": [
            110,
            110,
            120,
            120,
            110
           ],
           "y": [
            0,
            53.5,
            53.5,
            0,
            0
           ]
          },
          {
           "hoverinfo": "text",
           "hovertext": [
            "nflId:43299<br>displayName:Eli Apple<br>Player Speed:2.17 MPH",
            "nflId:43350<br>displayName:Vonn Bell<br>Player Speed:3.87 MPH",
            "nflId:43455<br>displayName:D.J. Reader<br>Player Speed:0.962 MPH",
            "nflId:43641<br>displayName:Mike Hilton<br>Player Speed:0.582 MPH",
            "nflId:44872<br>displayName:Chidobe Awuzie<br>Player Speed:1.208 MPH",
            "nflId:44915<br>displayName:Trey Hendrickson<br>Player Speed:1.946 MPH",
            "nflId:46123<br>displayName:Jessie Bates<br>Player Speed:0.47 MPH",
            "nflId:46138<br>displayName:B.J. Hill<br>Player Speed:0.157 MPH",
            "nflId:46146<br>displayName:Sam Hubbard<br>Player Speed:1.387 MPH",
            "nflId:47855<br>displayName:Germaine Pratt<br>Player Speed:2.819 MPH",
            "nflId:52473<br>displayName:Logan Wilson<br>Player Speed:2.483 MPH"
           ],
           "marker": {
            "color": "#000000",
            "line": {
             "color": "#FB4F14",
             "width": 2
            },
            "size": 10
           },
           "mode": "markers",
           "name": "CIN",
           "type": "scatter",
           "x": [
            13.42,
            15.65,
            17.83,
            14.76,
            13.15,
            17.75,
            8.23,
            17.4,
            17.83,
            13.95,
            13.89
           ],
           "y": [
            12.41,
            38.21,
            30.95,
            17.98,
            42.86,
            24.32,
            24.62,
            27.19,
            34.92,
            31.44,
            25.23
           ]
          },
          {
           "hoverinfo": "text",
           "hovertext": [
            "nflId:44814<br>displayName:Mitchell Trubisky<br>Player Speed:0.089 MPH",
            "nflId:46108<br>displayName:James Daniels<br>Player Speed:0.089 MPH",
            "nflId:46161<br>displayName:Chukwuma Okorafor<br>Player Speed:0.045 MPH",
            "nflId:46166<br>displayName:Mason Cole<br>Player Speed:0.112 MPH",
            "nflId:47849<br>displayName:Diontae Johnson<br>Player Speed:0.067 MPH",
            "nflId:52457<br>displayName:Chase Claypool<br>Player Speed:0.514 MPH",
            "nflId:52543<br>displayName:Kevin Dotson<br>Player Speed:0.179 MPH",
            "nflId:53453<br>displayName:Najee Harris<br>Player Speed:0.224 MPH",
            "nflId:53484<br>displayName:Pat Freiermuth<br>Player Speed:0.559 MPH",
            "nflId:53557<br>displayName:Dan Moore<br>Player Speed:0.045 MPH",
            "nflId:54517<br>displayName:George Pickens<br>Player Speed:0.246 MPH"
           ],
           "marker": {
            "color": "#FFB612",
            "line": {
             "color": "#101820",
             "width": 2
            },
            "size": 10
           },
           "mode": "markers",
           "name": "PIT",
           "type": "scatter",
           "x": [
            23.94,
            20.24,
            20.26,
            19.32,
            19.82,
            20.59,
            20,
            20.81,
            20.71,
            20.2,
            19.63
           ],
           "y": [
            29.59,
            31.17,
            32.69,
            29.56,
            42.14,
            18.62,
            28.05,
            37.86,
            22.86,
            26.39,
            11.36
           ]
          },
          {
           "hoverinfo": "none",
           "marker": {
            "color": "#CBB67C",
            "line": {
             "color": "#663831",
             "width": 2
            },
            "size": 10
           },
           "mode": "markers",
           "name": "football",
           "type": "scatter",
           "x": [
            19.0100002288818
           ],
           "y": [
            29.5799999237061
           ]
          }
         ],
         "name": "36"
        },
        {
         "data": [
          {
           "hoverinfo": "none",
           "mode": "text",
           "showlegend": false,
           "text": [
            "10",
            "20",
            "30",
            "40",
            "50",
            "40",
            "30",
            "20",
            "10"
           ],
           "textfont": {
            "color": "#ffffff",
            "family": "Courier New, monospace",
            "size": 30
           },
           "type": "scatter",
           "x": [
            20,
            30,
            40,
            50,
            60,
            70,
            80,
            90,
            100
           ],
           "y": [
            5,
            5,
            5,
            5,
            5,
            5,
            5,
            5,
            5
           ]
          },
          {
           "hoverinfo": "none",
           "mode": "text",
           "showlegend": false,
           "text": [
            "10",
            "20",
            "30",
            "40",
            "50",
            "40",
            "30",
            "20",
            "10"
           ],
           "textfont": {
            "color": "#ffffff",
            "family": "Courier New, monospace",
            "size": 30
           },
           "type": "scatter",
           "x": [
            20,
            30,
            40,
            50,
            60,
            70,
            80,
            90,
            100
           ],
           "y": [
            48.5,
            48.5,
            48.5,
            48.5,
            48.5,
            48.5,
            48.5,
            48.5,
            48.5
           ]
          },
          {
           "hoverinfo": "none",
           "line": {
            "color": "blue",
            "dash": "dash"
           },
           "showlegend": false,
           "type": "scatter",
           "x": [
            19,
            19
           ],
           "y": [
            0,
            53.5
           ]
          },
          {
           "hoverinfo": "none",
           "line": {
            "color": "yellow",
            "dash": "dash"
           },
           "showlegend": false,
           "type": "scatter",
           "x": [
            10,
            10
           ],
           "y": [
            0,
            53.5
           ]
          },
          {
           "fill": "toself",
           "fillcolor": "#000000",
           "hoverinfo": "skip",
           "line": {
            "color": "white",
            "width": 3
           },
           "mode": "lines",
           "opacity": 1,
           "showlegend": false,
           "type": "scatter",
           "x": [
            0,
            0,
            10,
            10,
            0
           ],
           "y": [
            0,
            53.5,
            53.5,
            0,
            0
           ]
          },
          {
           "fill": "toself",
           "fillcolor": "#FFB612",
           "hoverinfo": "skip",
           "line": {
            "color": "white",
            "width": 3
           },
           "mode": "lines",
           "opacity": 1,
           "showlegend": false,
           "type": "scatter",
           "x": [
            110,
            110,
            120,
            120,
            110
           ],
           "y": [
            0,
            53.5,
            53.5,
            0,
            0
           ]
          },
          {
           "hoverinfo": "text",
           "hovertext": [
            "nflId:43299<br>displayName:Eli Apple<br>Player Speed:1.857 MPH",
            "nflId:43350<br>displayName:Vonn Bell<br>Player Speed:3.646 MPH",
            "nflId:43455<br>displayName:D.J. Reader<br>Player Speed:1.029 MPH",
            "nflId:43641<br>displayName:Mike Hilton<br>Player Speed:0.47 MPH",
            "nflId:44872<br>displayName:Chidobe Awuzie<br>Player Speed:1.141 MPH",
            "nflId:44915<br>displayName:Trey Hendrickson<br>Player Speed:1.901 MPH",
            "nflId:46123<br>displayName:Jessie Bates<br>Player Speed:0.336 MPH",
            "nflId:46138<br>displayName:B.J. Hill<br>Player Speed:0.224 MPH",
            "nflId:46146<br>displayName:Sam Hubbard<br>Player Speed:1.186 MPH",
            "nflId:47855<br>displayName:Germaine Pratt<br>Player Speed:2.863 MPH",
            "nflId:52473<br>displayName:Logan Wilson<br>Player Speed:2.505 MPH"
           ],
           "marker": {
            "color": "#000000",
            "line": {
             "color": "#FB4F14",
             "width": 2
            },
            "size": 10
           },
           "mode": "markers",
           "name": "CIN",
           "type": "scatter",
           "x": [
            13.36,
            15.8,
            17.87,
            14.78,
            13.1,
            17.83,
            8.22,
            17.41,
            17.88,
            14.07,
            13.94
           ],
           "y": [
            12.35,
            38.29,
            30.97,
            17.96,
            42.88,
            24.36,
            24.61,
            27.19,
            34.91,
            31.4,
            25.12
           ]
          },
          {
           "hoverinfo": "text",
           "hovertext": [
            "nflId:44814<br>displayName:Mitchell Trubisky<br>Player Speed:0.089 MPH",
            "nflId:46108<br>displayName:James Daniels<br>Player Speed:0.067 MPH",
            "nflId:46161<br>displayName:Chukwuma Okorafor<br>Player Speed:0.045 MPH",
            "nflId:46166<br>displayName:Mason Cole<br>Player Speed:0.089 MPH",
            "nflId:47849<br>displayName:Diontae Johnson<br>Player Speed:0.089 MPH",
            "nflId:52457<br>displayName:Chase Claypool<br>Player Speed:0.336 MPH",
            "nflId:52543<br>displayName:Kevin Dotson<br>Player Speed:0.134 MPH",
            "nflId:53453<br>displayName:Najee Harris<br>Player Speed:0.336 MPH",
            "nflId:53484<br>displayName:Pat Freiermuth<br>Player Speed:0.38 MPH",
            "nflId:53557<br>displayName:Dan Moore<br>Player Speed:0.045 MPH",
            "nflId:54517<br>displayName:George Pickens<br>Player Speed:0.224 MPH"
           ],
           "marker": {
            "color": "#FFB612",
            "line": {
             "color": "#101820",
             "width": 2
            },
            "size": 10
           },
           "mode": "markers",
           "name": "PIT",
           "type": "scatter",
           "x": [
            23.95,
            20.24,
            20.27,
            19.32,
            19.82,
            20.6,
            20.01,
            20.82,
            20.72,
            20.2,
            19.63
           ],
           "y": [
            29.58,
            31.17,
            32.69,
            29.56,
            42.14,
            18.61,
            28.06,
            37.84,
            22.85,
            26.37,
            11.35
           ]
          },
          {
           "hoverinfo": "none",
           "marker": {
            "color": "#CBB67C",
            "line": {
             "color": "#663831",
             "width": 2
            },
            "size": 10
           },
           "mode": "markers",
           "name": "football",
           "type": "scatter",
           "x": [
            19.0100002288818
           ],
           "y": [
            29.5799999237061
           ]
          }
         ],
         "name": "37"
        },
        {
         "data": [
          {
           "hoverinfo": "none",
           "mode": "text",
           "showlegend": false,
           "text": [
            "10",
            "20",
            "30",
            "40",
            "50",
            "40",
            "30",
            "20",
            "10"
           ],
           "textfont": {
            "color": "#ffffff",
            "family": "Courier New, monospace",
            "size": 30
           },
           "type": "scatter",
           "x": [
            20,
            30,
            40,
            50,
            60,
            70,
            80,
            90,
            100
           ],
           "y": [
            5,
            5,
            5,
            5,
            5,
            5,
            5,
            5,
            5
           ]
          },
          {
           "hoverinfo": "none",
           "mode": "text",
           "showlegend": false,
           "text": [
            "10",
            "20",
            "30",
            "40",
            "50",
            "40",
            "30",
            "20",
            "10"
           ],
           "textfont": {
            "color": "#ffffff",
            "family": "Courier New, monospace",
            "size": 30
           },
           "type": "scatter",
           "x": [
            20,
            30,
            40,
            50,
            60,
            70,
            80,
            90,
            100
           ],
           "y": [
            48.5,
            48.5,
            48.5,
            48.5,
            48.5,
            48.5,
            48.5,
            48.5,
            48.5
           ]
          },
          {
           "hoverinfo": "none",
           "line": {
            "color": "blue",
            "dash": "dash"
           },
           "showlegend": false,
           "type": "scatter",
           "x": [
            19,
            19
           ],
           "y": [
            0,
            53.5
           ]
          },
          {
           "hoverinfo": "none",
           "line": {
            "color": "yellow",
            "dash": "dash"
           },
           "showlegend": false,
           "type": "scatter",
           "x": [
            10,
            10
           ],
           "y": [
            0,
            53.5
           ]
          },
          {
           "fill": "toself",
           "fillcolor": "#000000",
           "hoverinfo": "skip",
           "line": {
            "color": "white",
            "width": 3
           },
           "mode": "lines",
           "opacity": 1,
           "showlegend": false,
           "type": "scatter",
           "x": [
            0,
            0,
            10,
            10,
            0
           ],
           "y": [
            0,
            53.5,
            53.5,
            0,
            0
           ]
          },
          {
           "fill": "toself",
           "fillcolor": "#FFB612",
           "hoverinfo": "skip",
           "line": {
            "color": "white",
            "width": 3
           },
           "mode": "lines",
           "opacity": 1,
           "showlegend": false,
           "type": "scatter",
           "x": [
            110,
            110,
            120,
            120,
            110
           ],
           "y": [
            0,
            53.5,
            53.5,
            0,
            0
           ]
          },
          {
           "hoverinfo": "text",
           "hovertext": [
            "nflId:43299<br>displayName:Eli Apple<br>Player Speed:1.678 MPH",
            "nflId:43350<br>displayName:Vonn Bell<br>Player Speed:3.4 MPH",
            "nflId:43455<br>displayName:D.J. Reader<br>Player Speed:1.029 MPH",
            "nflId:43641<br>displayName:Mike Hilton<br>Player Speed:0.38 MPH",
            "nflId:44872<br>displayName:Chidobe Awuzie<br>Player Speed:1.118 MPH",
            "nflId:44915<br>displayName:Trey Hendrickson<br>Player Speed:1.857 MPH",
            "nflId:46123<br>displayName:Jessie Bates<br>Player Speed:0.313 MPH",
            "nflId:46138<br>displayName:B.J. Hill<br>Player Speed:0.224 MPH",
            "nflId:46146<br>displayName:Sam Hubbard<br>Player Speed:1.051 MPH",
            "nflId:47855<br>displayName:Germaine Pratt<br>Player Speed:2.841 MPH",
            "nflId:52473<br>displayName:Logan Wilson<br>Player Speed:2.394 MPH"
           ],
           "marker": {
            "color": "#000000",
            "line": {
             "color": "#FB4F14",
             "width": 2
            },
            "size": 10
           },
           "mode": "markers",
           "name": "CIN",
           "type": "scatter",
           "x": [
            13.3,
            15.95,
            17.91,
            14.8,
            13.05,
            17.9,
            8.22,
            17.41,
            17.93,
            14.19,
            13.99
           ],
           "y": [
            12.3,
            38.35,
            31,
            17.96,
            42.88,
            24.4,
            24.6,
            27.19,
            34.9,
            31.36,
            25.03
           ]
          },
          {
           "hoverinfo": "text",
           "hovertext": [
            "nflId:44814<br>displayName:Mitchell Trubisky<br>Player Speed:0.112 MPH",
            "nflId:46108<br>displayName:James Daniels<br>Player Speed:0.067 MPH",
            "nflId:46161<br>displayName:Chukwuma Okorafor<br>Player Speed:0.045 MPH",
            "nflId:46166<br>displayName:Mason Cole<br>Player Speed:0.089 MPH",
            "nflId:47849<br>displayName:Diontae Johnson<br>Player Speed:0.179 MPH",
            "nflId:52457<br>displayName:Chase Claypool<br>Player Speed:0.112 MPH",
            "nflId:52543<br>displayName:Kevin Dotson<br>Player Speed:0.134 MPH",
            "nflId:53453<br>displayName:Najee Harris<br>Player Speed:0.514 MPH",
            "nflId:53484<br>displayName:Pat Freiermuth<br>Player Speed:0.224 MPH",
            "nflId:53557<br>displayName:Dan Moore<br>Player Speed:0.045 MPH",
            "nflId:54517<br>displayName:George Pickens<br>Player Speed:0.224 MPH"
           ],
           "marker": {
            "color": "#FFB612",
            "line": {
             "color": "#101820",
             "width": 2
            },
            "size": 10
           },
           "mode": "markers",
           "name": "PIT",
           "type": "scatter",
           "x": [
            23.96,
            20.24,
            20.27,
            19.33,
            19.81,
            20.61,
            20.02,
            20.84,
            20.73,
            20.2,
            19.63
           ],
           "y": [
            29.58,
            31.17,
            32.69,
            29.57,
            42.14,
            18.6,
            28.04,
            37.82,
            22.84,
            26.38,
            11.34
           ]
          },
          {
           "hoverinfo": "none",
           "marker": {
            "color": "#CBB67C",
            "line": {
             "color": "#663831",
             "width": 2
            },
            "size": 10
           },
           "mode": "markers",
           "name": "football",
           "type": "scatter",
           "x": [
            19
           ],
           "y": [
            29.5799999237061
           ]
          }
         ],
         "name": "38"
        },
        {
         "data": [
          {
           "hoverinfo": "none",
           "mode": "text",
           "showlegend": false,
           "text": [
            "10",
            "20",
            "30",
            "40",
            "50",
            "40",
            "30",
            "20",
            "10"
           ],
           "textfont": {
            "color": "#ffffff",
            "family": "Courier New, monospace",
            "size": 30
           },
           "type": "scatter",
           "x": [
            20,
            30,
            40,
            50,
            60,
            70,
            80,
            90,
            100
           ],
           "y": [
            5,
            5,
            5,
            5,
            5,
            5,
            5,
            5,
            5
           ]
          },
          {
           "hoverinfo": "none",
           "mode": "text",
           "showlegend": false,
           "text": [
            "10",
            "20",
            "30",
            "40",
            "50",
            "40",
            "30",
            "20",
            "10"
           ],
           "textfont": {
            "color": "#ffffff",
            "family": "Courier New, monospace",
            "size": 30
           },
           "type": "scatter",
           "x": [
            20,
            30,
            40,
            50,
            60,
            70,
            80,
            90,
            100
           ],
           "y": [
            48.5,
            48.5,
            48.5,
            48.5,
            48.5,
            48.5,
            48.5,
            48.5,
            48.5
           ]
          },
          {
           "hoverinfo": "none",
           "line": {
            "color": "blue",
            "dash": "dash"
           },
           "showlegend": false,
           "type": "scatter",
           "x": [
            19,
            19
           ],
           "y": [
            0,
            53.5
           ]
          },
          {
           "hoverinfo": "none",
           "line": {
            "color": "yellow",
            "dash": "dash"
           },
           "showlegend": false,
           "type": "scatter",
           "x": [
            10,
            10
           ],
           "y": [
            0,
            53.5
           ]
          },
          {
           "fill": "toself",
           "fillcolor": "#000000",
           "hoverinfo": "skip",
           "line": {
            "color": "white",
            "width": 3
           },
           "mode": "lines",
           "opacity": 1,
           "showlegend": false,
           "type": "scatter",
           "x": [
            0,
            0,
            10,
            10,
            0
           ],
           "y": [
            0,
            53.5,
            53.5,
            0,
            0
           ]
          },
          {
           "fill": "toself",
           "fillcolor": "#FFB612",
           "hoverinfo": "skip",
           "line": {
            "color": "white",
            "width": 3
           },
           "mode": "lines",
           "opacity": 1,
           "showlegend": false,
           "type": "scatter",
           "x": [
            110,
            110,
            120,
            120,
            110
           ],
           "y": [
            0,
            53.5,
            53.5,
            0,
            0
           ]
          },
          {
           "hoverinfo": "text",
           "hovertext": [
            "nflId:43299<br>displayName:Eli Apple<br>Player Speed:1.499 MPH",
            "nflId:43350<br>displayName:Vonn Bell<br>Player Speed:3.132 MPH",
            "nflId:43455<br>displayName:D.J. Reader<br>Player Speed:1.096 MPH",
            "nflId:43641<br>displayName:Mike Hilton<br>Player Speed:0.425 MPH",
            "nflId:44872<br>displayName:Chidobe Awuzie<br>Player Speed:1.163 MPH",
            "nflId:44915<br>displayName:Trey Hendrickson<br>Player Speed:1.767 MPH",
            "nflId:46123<br>displayName:Jessie Bates<br>Player Speed:0.559 MPH",
            "nflId:46138<br>displayName:B.J. Hill<br>Player Speed:0.246 MPH",
            "nflId:46146<br>displayName:Sam Hubbard<br>Player Speed:0.872 MPH",
            "nflId:47855<br>displayName:Germaine Pratt<br>Player Speed:2.662 MPH",
            "nflId:52473<br>displayName:Logan Wilson<br>Player Speed:2.394 MPH"
           ],
           "marker": {
            "color": "#000000",
            "line": {
             "color": "#FB4F14",
             "width": 2
            },
            "size": 10
           },
           "mode": "markers",
           "name": "CIN",
           "type": "scatter",
           "x": [
            13.24,
            16.08,
            17.93,
            14.82,
            13,
            17.97,
            8.22,
            17.42,
            17.97,
            14.3,
            14.04
           ],
           "y": [
            12.25,
            38.4,
            31.04,
            17.96,
            42.88,
            24.44,
            24.57,
            27.19,
            34.89,
            31.32,
            24.93
           ]
          },
          {
           "hoverinfo": "text",
           "hovertext": [
            "nflId:44814<br>displayName:Mitchell Trubisky<br>Player Speed:0.112 MPH",
            "nflId:46108<br>displayName:James Daniels<br>Player Speed:0.067 MPH",
            "nflId:46161<br>displayName:Chukwuma Okorafor<br>Player Speed:0.045 MPH",
            "nflId:46166<br>displayName:Mason Cole<br>Player Speed:0.067 MPH",
            "nflId:47849<br>displayName:Diontae Johnson<br>Player Speed:0.425 MPH",
            "nflId:52457<br>displayName:Chase Claypool<br>Player Speed:0.157 MPH",
            "nflId:52543<br>displayName:Kevin Dotson<br>Player Speed:0.134 MPH",
            "nflId:53453<br>displayName:Najee Harris<br>Player Speed:1.007 MPH",
            "nflId:53484<br>displayName:Pat Freiermuth<br>Player Speed:0.157 MPH",
            "nflId:53557<br>displayName:Dan Moore<br>Player Speed:0.022 MPH",
            "nflId:54517<br>displayName:George Pickens<br>Player Speed:0.291 MPH"
           ],
           "marker": {
            "color": "#FFB612",
            "line": {
             "color": "#101820",
             "width": 2
            },
            "size": 10
           },
           "mode": "markers",
           "name": "PIT",
           "type": "scatter",
           "x": [
            23.97,
            20.25,
            20.28,
            19.32,
            19.8,
            20.61,
            20.02,
            20.87,
            20.73,
            20.19,
            19.65
           ],
           "y": [
            29.57,
            31.16,
            32.7,
            29.57,
            42.12,
            18.6,
            28.05,
            37.79,
            22.83,
            26.39,
            11.34
           ]
          },
          {
           "hoverinfo": "none",
           "marker": {
            "color": "#CBB67C",
            "line": {
             "color": "#663831",
             "width": 2
            },
            "size": 10
           },
           "mode": "markers",
           "name": "football",
           "type": "scatter",
           "x": [
            19
           ],
           "y": [
            29.5799999237061
           ]
          }
         ],
         "name": "39"
        },
        {
         "data": [
          {
           "hoverinfo": "none",
           "mode": "text",
           "showlegend": false,
           "text": [
            "10",
            "20",
            "30",
            "40",
            "50",
            "40",
            "30",
            "20",
            "10"
           ],
           "textfont": {
            "color": "#ffffff",
            "family": "Courier New, monospace",
            "size": 30
           },
           "type": "scatter",
           "x": [
            20,
            30,
            40,
            50,
            60,
            70,
            80,
            90,
            100
           ],
           "y": [
            5,
            5,
            5,
            5,
            5,
            5,
            5,
            5,
            5
           ]
          },
          {
           "hoverinfo": "none",
           "mode": "text",
           "showlegend": false,
           "text": [
            "10",
            "20",
            "30",
            "40",
            "50",
            "40",
            "30",
            "20",
            "10"
           ],
           "textfont": {
            "color": "#ffffff",
            "family": "Courier New, monospace",
            "size": 30
           },
           "type": "scatter",
           "x": [
            20,
            30,
            40,
            50,
            60,
            70,
            80,
            90,
            100
           ],
           "y": [
            48.5,
            48.5,
            48.5,
            48.5,
            48.5,
            48.5,
            48.5,
            48.5,
            48.5
           ]
          },
          {
           "hoverinfo": "none",
           "line": {
            "color": "blue",
            "dash": "dash"
           },
           "showlegend": false,
           "type": "scatter",
           "x": [
            19,
            19
           ],
           "y": [
            0,
            53.5
           ]
          },
          {
           "hoverinfo": "none",
           "line": {
            "color": "yellow",
            "dash": "dash"
           },
           "showlegend": false,
           "type": "scatter",
           "x": [
            10,
            10
           ],
           "y": [
            0,
            53.5
           ]
          },
          {
           "fill": "toself",
           "fillcolor": "#000000",
           "hoverinfo": "skip",
           "line": {
            "color": "white",
            "width": 3
           },
           "mode": "lines",
           "opacity": 1,
           "showlegend": false,
           "type": "scatter",
           "x": [
            0,
            0,
            10,
            10,
            0
           ],
           "y": [
            0,
            53.5,
            53.5,
            0,
            0
           ]
          },
          {
           "fill": "toself",
           "fillcolor": "#FFB612",
           "hoverinfo": "skip",
           "line": {
            "color": "white",
            "width": 3
           },
           "mode": "lines",
           "opacity": 1,
           "showlegend": false,
           "type": "scatter",
           "x": [
            110,
            110,
            120,
            120,
            110
           ],
           "y": [
            0,
            53.5,
            53.5,
            0,
            0
           ]
          },
          {
           "hoverinfo": "text",
           "hovertext": [
            "nflId:43299<br>displayName:Eli Apple<br>Player Speed:1.297 MPH",
            "nflId:43350<br>displayName:Vonn Bell<br>Player Speed:2.841 MPH",
            "nflId:43455<br>displayName:D.J. Reader<br>Player Speed:1.118 MPH",
            "nflId:43641<br>displayName:Mike Hilton<br>Player Speed:0.626 MPH",
            "nflId:44872<br>displayName:Chidobe Awuzie<br>Player Speed:1.208 MPH",
            "nflId:44915<br>displayName:Trey Hendrickson<br>Player Speed:1.633 MPH",
            "nflId:46123<br>displayName:Jessie Bates<br>Player Speed:0.693 MPH",
            "nflId:46138<br>displayName:B.J. Hill<br>Player Speed:0.224 MPH",
            "nflId:46146<br>displayName:Sam Hubbard<br>Player Speed:0.693 MPH",
            "nflId:47855<br>displayName:Germaine Pratt<br>Player Speed:2.371 MPH",
            "nflId:52473<br>displayName:Logan Wilson<br>Player Speed:2.259 MPH"
           ],
           "marker": {
            "color": "#000000",
            "line": {
             "color": "#FB4F14",
             "width": 2
            },
            "size": 10
           },
           "mode": "markers",
           "name": "CIN",
           "type": "scatter",
           "x": [
            13.19,
            16.21,
            17.96,
            14.84,
            12.95,
            18.04,
            8.24,
            17.42,
            18,
            14.4,
            14.09
           ],
           "y": [
            12.22,
            38.45,
            31.08,
            17.98,
            42.87,
            24.46,
            24.54,
            27.2,
            34.88,
            31.29,
            24.84
           ]
          },
          {
           "hoverinfo": "text",
           "hovertext": [
            "nflId:44814<br>displayName:Mitchell Trubisky<br>Player Speed:0.112 MPH",
            "nflId:46108<br>displayName:James Daniels<br>Player Speed:0.045 MPH",
            "nflId:46161<br>displayName:Chukwuma Okorafor<br>Player Speed:0.045 MPH",
            "nflId:46166<br>displayName:Mason Cole<br>Player Speed:0.067 MPH",
            "nflId:47849<br>displayName:Diontae Johnson<br>Player Speed:0.604 MPH",
            "nflId:52457<br>displayName:Chase Claypool<br>Player Speed:0.38 MPH",
            "nflId:52543<br>displayName:Kevin Dotson<br>Player Speed:0.112 MPH",
            "nflId:53453<br>displayName:Najee Harris<br>Player Speed:1.543 MPH",
            "nflId:53484<br>displayName:Pat Freiermuth<br>Player Speed:0.157 MPH",
            "nflId:53557<br>displayName:Dan Moore<br>Player Speed:0.022 MPH",
            "nflId:54517<br>displayName:George Pickens<br>Player Speed:0.38 MPH"
           ],
           "marker": {
            "color": "#FFB612",
            "line": {
             "color": "#101820",
             "width": 2
            },
            "size": 10
           },
           "mode": "markers",
           "name": "PIT",
           "type": "scatter",
           "x": [
            23.98,
            20.25,
            20.28,
            19.31,
            19.79,
            20.61,
            20.02,
            20.91,
            20.72,
            20.19,
            19.66
           ],
           "y": [
            29.57,
            31.16,
            32.7,
            29.57,
            42.1,
            18.62,
            28.05,
            37.75,
            22.83,
            26.38,
            11.35
           ]
          },
          {
           "hoverinfo": "none",
           "marker": {
            "color": "#CBB67C",
            "line": {
             "color": "#663831",
             "width": 2
            },
            "size": 10
           },
           "mode": "markers",
           "name": "football",
           "type": "scatter",
           "x": [
            19
           ],
           "y": [
            29.5799999237061
           ]
          }
         ],
         "name": "40"
        },
        {
         "data": [
          {
           "hoverinfo": "none",
           "mode": "text",
           "showlegend": false,
           "text": [
            "10",
            "20",
            "30",
            "40",
            "50",
            "40",
            "30",
            "20",
            "10"
           ],
           "textfont": {
            "color": "#ffffff",
            "family": "Courier New, monospace",
            "size": 30
           },
           "type": "scatter",
           "x": [
            20,
            30,
            40,
            50,
            60,
            70,
            80,
            90,
            100
           ],
           "y": [
            5,
            5,
            5,
            5,
            5,
            5,
            5,
            5,
            5
           ]
          },
          {
           "hoverinfo": "none",
           "mode": "text",
           "showlegend": false,
           "text": [
            "10",
            "20",
            "30",
            "40",
            "50",
            "40",
            "30",
            "20",
            "10"
           ],
           "textfont": {
            "color": "#ffffff",
            "family": "Courier New, monospace",
            "size": 30
           },
           "type": "scatter",
           "x": [
            20,
            30,
            40,
            50,
            60,
            70,
            80,
            90,
            100
           ],
           "y": [
            48.5,
            48.5,
            48.5,
            48.5,
            48.5,
            48.5,
            48.5,
            48.5,
            48.5
           ]
          },
          {
           "hoverinfo": "none",
           "line": {
            "color": "blue",
            "dash": "dash"
           },
           "showlegend": false,
           "type": "scatter",
           "x": [
            19,
            19
           ],
           "y": [
            0,
            53.5
           ]
          },
          {
           "hoverinfo": "none",
           "line": {
            "color": "yellow",
            "dash": "dash"
           },
           "showlegend": false,
           "type": "scatter",
           "x": [
            10,
            10
           ],
           "y": [
            0,
            53.5
           ]
          },
          {
           "fill": "toself",
           "fillcolor": "#000000",
           "hoverinfo": "skip",
           "line": {
            "color": "white",
            "width": 3
           },
           "mode": "lines",
           "opacity": 1,
           "showlegend": false,
           "type": "scatter",
           "x": [
            0,
            0,
            10,
            10,
            0
           ],
           "y": [
            0,
            53.5,
            53.5,
            0,
            0
           ]
          },
          {
           "fill": "toself",
           "fillcolor": "#FFB612",
           "hoverinfo": "skip",
           "line": {
            "color": "white",
            "width": 3
           },
           "mode": "lines",
           "opacity": 1,
           "showlegend": false,
           "type": "scatter",
           "x": [
            110,
            110,
            120,
            120,
            110
           ],
           "y": [
            0,
            53.5,
            53.5,
            0,
            0
           ]
          },
          {
           "hoverinfo": "text",
           "hovertext": [
            "nflId:43299<br>displayName:Eli Apple<br>Player Speed:1.074 MPH",
            "nflId:43350<br>displayName:Vonn Bell<br>Player Speed:2.617 MPH",
            "nflId:43455<br>displayName:D.J. Reader<br>Player Speed:1.074 MPH",
            "nflId:43641<br>displayName:Mike Hilton<br>Player Speed:0.828 MPH",
            "nflId:44872<br>displayName:Chidobe Awuzie<br>Player Speed:1.186 MPH",
            "nflId:44915<br>displayName:Trey Hendrickson<br>Player Speed:1.499 MPH",
            "nflId:46123<br>displayName:Jessie Bates<br>Player Speed:0.783 MPH",
            "nflId:46138<br>displayName:B.J. Hill<br>Player Speed:0.224 MPH",
            "nflId:46146<br>displayName:Sam Hubbard<br>Player Speed:0.537 MPH",
            "nflId:47855<br>displayName:Germaine Pratt<br>Player Speed:2.103 MPH",
            "nflId:52473<br>displayName:Logan Wilson<br>Player Speed:2.371 MPH"
           ],
           "marker": {
            "color": "#000000",
            "line": {
             "color": "#FB4F14",
             "width": 2
            },
            "size": 10
           },
           "mode": "markers",
           "name": "CIN",
           "type": "scatter",
           "x": [
            13.15,
            16.32,
            17.98,
            14.86,
            12.9,
            18.1,
            8.26,
            17.43,
            18.03,
            14.49,
            14.14
           ],
           "y": [
            12.19,
            38.49,
            31.13,
            18,
            42.86,
            24.49,
            24.52,
            27.2,
            34.88,
            31.26,
            24.75
           ]
          },
          {
           "hoverinfo": "text",
           "hovertext": [
            "nflId:44814<br>displayName:Mitchell Trubisky<br>Player Speed:0.089 MPH",
            "nflId:46108<br>displayName:James Daniels<br>Player Speed:0.045 MPH",
            "nflId:46161<br>displayName:Chukwuma Okorafor<br>Player Speed:0.045 MPH",
            "nflId:46166<br>displayName:Mason Cole<br>Player Speed:0.067 MPH",
            "nflId:47849<br>displayName:Diontae Johnson<br>Player Speed:1.007 MPH",
            "nflId:52457<br>displayName:Chase Claypool<br>Player Speed:0.671 MPH",
            "nflId:52543<br>displayName:Kevin Dotson<br>Player Speed:0.112 MPH",
            "nflId:53453<br>displayName:Najee Harris<br>Player Speed:2.237 MPH",
            "nflId:53484<br>displayName:Pat Freiermuth<br>Player Speed:0.179 MPH",
            "nflId:53557<br>displayName:Dan Moore<br>Player Speed:0.022 MPH",
            "nflId:54517<br>displayName:George Pickens<br>Player Speed:0.403 MPH"
           ],
           "marker": {
            "color": "#FFB612",
            "line": {
             "color": "#101820",
             "width": 2
            },
            "size": 10
           },
           "mode": "markers",
           "name": "PIT",
           "type": "scatter",
           "x": [
            23.98,
            20.25,
            20.28,
            19.3,
            19.8,
            20.62,
            20.03,
            20.97,
            20.72,
            20.19,
            19.68
           ],
           "y": [
            29.57,
            31.15,
            32.71,
            29.58,
            42.06,
            18.64,
            28.05,
            37.68,
            22.83,
            26.38,
            11.35
           ]
          },
          {
           "hoverinfo": "none",
           "marker": {
            "color": "#CBB67C",
            "line": {
             "color": "#663831",
             "width": 2
            },
            "size": 10
           },
           "mode": "markers",
           "name": "football",
           "type": "scatter",
           "x": [
            19
           ],
           "y": [
            29.5799999237061
           ]
          }
         ],
         "name": "41"
        },
        {
         "data": [
          {
           "hoverinfo": "none",
           "mode": "text",
           "showlegend": false,
           "text": [
            "10",
            "20",
            "30",
            "40",
            "50",
            "40",
            "30",
            "20",
            "10"
           ],
           "textfont": {
            "color": "#ffffff",
            "family": "Courier New, monospace",
            "size": 30
           },
           "type": "scatter",
           "x": [
            20,
            30,
            40,
            50,
            60,
            70,
            80,
            90,
            100
           ],
           "y": [
            5,
            5,
            5,
            5,
            5,
            5,
            5,
            5,
            5
           ]
          },
          {
           "hoverinfo": "none",
           "mode": "text",
           "showlegend": false,
           "text": [
            "10",
            "20",
            "30",
            "40",
            "50",
            "40",
            "30",
            "20",
            "10"
           ],
           "textfont": {
            "color": "#ffffff",
            "family": "Courier New, monospace",
            "size": 30
           },
           "type": "scatter",
           "x": [
            20,
            30,
            40,
            50,
            60,
            70,
            80,
            90,
            100
           ],
           "y": [
            48.5,
            48.5,
            48.5,
            48.5,
            48.5,
            48.5,
            48.5,
            48.5,
            48.5
           ]
          },
          {
           "hoverinfo": "none",
           "line": {
            "color": "blue",
            "dash": "dash"
           },
           "showlegend": false,
           "type": "scatter",
           "x": [
            19,
            19
           ],
           "y": [
            0,
            53.5
           ]
          },
          {
           "hoverinfo": "none",
           "line": {
            "color": "yellow",
            "dash": "dash"
           },
           "showlegend": false,
           "type": "scatter",
           "x": [
            10,
            10
           ],
           "y": [
            0,
            53.5
           ]
          },
          {
           "fill": "toself",
           "fillcolor": "#000000",
           "hoverinfo": "skip",
           "line": {
            "color": "white",
            "width": 3
           },
           "mode": "lines",
           "opacity": 1,
           "showlegend": false,
           "type": "scatter",
           "x": [
            0,
            0,
            10,
            10,
            0
           ],
           "y": [
            0,
            53.5,
            53.5,
            0,
            0
           ]
          },
          {
           "fill": "toself",
           "fillcolor": "#FFB612",
           "hoverinfo": "skip",
           "line": {
            "color": "white",
            "width": 3
           },
           "mode": "lines",
           "opacity": 1,
           "showlegend": false,
           "type": "scatter",
           "x": [
            110,
            110,
            120,
            120,
            110
           ],
           "y": [
            0,
            53.5,
            53.5,
            0,
            0
           ]
          },
          {
           "hoverinfo": "text",
           "hovertext": [
            "nflId:43299<br>displayName:Eli Apple<br>Player Speed:0.94 MPH",
            "nflId:43350<br>displayName:Vonn Bell<br>Player Speed:2.438 MPH",
            "nflId:43455<br>displayName:D.J. Reader<br>Player Speed:0.962 MPH",
            "nflId:43641<br>displayName:Mike Hilton<br>Player Speed:0.94 MPH",
            "nflId:44872<br>displayName:Chidobe Awuzie<br>Player Speed:1.141 MPH",
            "nflId:44915<br>displayName:Trey Hendrickson<br>Player Speed:1.32 MPH",
            "nflId:46123<br>displayName:Jessie Bates<br>Player Speed:0.738 MPH",
            "nflId:46138<br>displayName:B.J. Hill<br>Player Speed:0.179 MPH",
            "nflId:46146<br>displayName:Sam Hubbard<br>Player Speed:0.358 MPH",
            "nflId:47855<br>displayName:Germaine Pratt<br>Player Speed:1.857 MPH",
            "nflId:52473<br>displayName:Logan Wilson<br>Player Speed:2.483 MPH"
           ],
           "marker": {
            "color": "#000000",
            "line": {
             "color": "#FB4F14",
             "width": 2
            },
            "size": 10
           },
           "mode": "markers",
           "name": "CIN",
           "type": "scatter",
           "x": [
            13.12,
            16.43,
            17.99,
            14.89,
            12.85,
            18.15,
            8.28,
            17.44,
            18.04,
            14.58,
            14.2
           ],
           "y": [
            12.16,
            38.53,
            31.17,
            18.03,
            42.85,
            24.52,
            24.49,
            27.19,
            34.87,
            31.24,
            24.65
           ]
          },
          {
           "hoverinfo": "text",
           "hovertext": [
            "nflId:44814<br>displayName:Mitchell Trubisky<br>Player Speed:0.089 MPH",
            "nflId:46108<br>displayName:James Daniels<br>Player Speed:0.045 MPH",
            "nflId:46161<br>displayName:Chukwuma Okorafor<br>Player Speed:0.045 MPH",
            "nflId:46166<br>displayName:Mason Cole<br>Player Speed:0.067 MPH",
            "nflId:47849<br>displayName:Diontae Johnson<br>Player Speed:1.588 MPH",
            "nflId:52457<br>displayName:Chase Claypool<br>Player Speed:0.962 MPH",
            "nflId:52543<br>displayName:Kevin Dotson<br>Player Speed:0.089 MPH",
            "nflId:53453<br>displayName:Najee Harris<br>Player Speed:2.975 MPH",
            "nflId:53484<br>displayName:Pat Freiermuth<br>Player Speed:0.157 MPH",
            "nflId:53557<br>displayName:Dan Moore<br>Player Speed:0.022 MPH",
            "nflId:54517<br>displayName:George Pickens<br>Player Speed:0.447 MPH"
           ],
           "marker": {
            "color": "#FFB612",
            "line": {
             "color": "#101820",
             "width": 2
            },
            "size": 10
           },
           "mode": "markers",
           "name": "PIT",
           "type": "scatter",
           "x": [
            23.99,
            20.26,
            20.29,
            19.29,
            19.79,
            20.63,
            20.03,
            21.05,
            20.71,
            20.19,
            19.69
           ],
           "y": [
            29.57,
            31.16,
            32.72,
            29.58,
            41.99,
            18.68,
            28.06,
            37.58,
            22.83,
            26.38,
            11.36
           ]
          },
          {
           "hoverinfo": "none",
           "marker": {
            "color": "#CBB67C",
            "line": {
             "color": "#663831",
             "width": 2
            },
            "size": 10
           },
           "mode": "markers",
           "name": "football",
           "type": "scatter",
           "x": [
            19
           ],
           "y": [
            29.5799999237061
           ]
          }
         ],
         "name": "42"
        },
        {
         "data": [
          {
           "hoverinfo": "none",
           "mode": "text",
           "showlegend": false,
           "text": [
            "10",
            "20",
            "30",
            "40",
            "50",
            "40",
            "30",
            "20",
            "10"
           ],
           "textfont": {
            "color": "#ffffff",
            "family": "Courier New, monospace",
            "size": 30
           },
           "type": "scatter",
           "x": [
            20,
            30,
            40,
            50,
            60,
            70,
            80,
            90,
            100
           ],
           "y": [
            5,
            5,
            5,
            5,
            5,
            5,
            5,
            5,
            5
           ]
          },
          {
           "hoverinfo": "none",
           "mode": "text",
           "showlegend": false,
           "text": [
            "10",
            "20",
            "30",
            "40",
            "50",
            "40",
            "30",
            "20",
            "10"
           ],
           "textfont": {
            "color": "#ffffff",
            "family": "Courier New, monospace",
            "size": 30
           },
           "type": "scatter",
           "x": [
            20,
            30,
            40,
            50,
            60,
            70,
            80,
            90,
            100
           ],
           "y": [
            48.5,
            48.5,
            48.5,
            48.5,
            48.5,
            48.5,
            48.5,
            48.5,
            48.5
           ]
          },
          {
           "hoverinfo": "none",
           "line": {
            "color": "blue",
            "dash": "dash"
           },
           "showlegend": false,
           "type": "scatter",
           "x": [
            19,
            19
           ],
           "y": [
            0,
            53.5
           ]
          },
          {
           "hoverinfo": "none",
           "line": {
            "color": "yellow",
            "dash": "dash"
           },
           "showlegend": false,
           "type": "scatter",
           "x": [
            10,
            10
           ],
           "y": [
            0,
            53.5
           ]
          },
          {
           "fill": "toself",
           "fillcolor": "#000000",
           "hoverinfo": "skip",
           "line": {
            "color": "white",
            "width": 3
           },
           "mode": "lines",
           "opacity": 1,
           "showlegend": false,
           "type": "scatter",
           "x": [
            0,
            0,
            10,
            10,
            0
           ],
           "y": [
            0,
            53.5,
            53.5,
            0,
            0
           ]
          },
          {
           "fill": "toself",
           "fillcolor": "#FFB612",
           "hoverinfo": "skip",
           "line": {
            "color": "white",
            "width": 3
           },
           "mode": "lines",
           "opacity": 1,
           "showlegend": false,
           "type": "scatter",
           "x": [
            110,
            110,
            120,
            120,
            110
           ],
           "y": [
            0,
            53.5,
            53.5,
            0,
            0
           ]
          },
          {
           "hoverinfo": "text",
           "hovertext": [
            "nflId:43299<br>displayName:Eli Apple<br>Player Speed:0.783 MPH",
            "nflId:43350<br>displayName:Vonn Bell<br>Player Speed:2.08 MPH",
            "nflId:43455<br>displayName:D.J. Reader<br>Player Speed:0.805 MPH",
            "nflId:43641<br>displayName:Mike Hilton<br>Player Speed:0.984 MPH",
            "nflId:44872<br>displayName:Chidobe Awuzie<br>Player Speed:1.029 MPH",
            "nflId:44915<br>displayName:Trey Hendrickson<br>Player Speed:1.141 MPH",
            "nflId:46123<br>displayName:Jessie Bates<br>Player Speed:0.693 MPH",
            "nflId:46138<br>displayName:B.J. Hill<br>Player Speed:0.089 MPH",
            "nflId:46146<br>displayName:Sam Hubbard<br>Player Speed:0.268 MPH",
            "nflId:47855<br>displayName:Germaine Pratt<br>Player Speed:1.655 MPH",
            "nflId:52473<br>displayName:Logan Wilson<br>Player Speed:2.483 MPH"
           ],
           "marker": {
            "color": "#000000",
            "line": {
             "color": "#FB4F14",
             "width": 2
            },
            "size": 10
           },
           "mode": "markers",
           "name": "CIN",
           "type": "scatter",
           "x": [
            13.09,
            16.52,
            18,
            14.92,
            12.81,
            18.2,
            8.29,
            17.43,
            18.06,
            14.65,
            14.25
           ],
           "y": [
            12.13,
            38.56,
            31.2,
            18.05,
            42.83,
            24.55,
            24.47,
            27.2,
            34.87,
            31.22,
            24.56
           ]
          },
          {
           "hoverinfo": "text",
           "hovertext": [
            "nflId:44814<br>displayName:Mitchell Trubisky<br>Player Speed:0.089 MPH",
            "nflId:46108<br>displayName:James Daniels<br>Player Speed:0.045 MPH",
            "nflId:46161<br>displayName:Chukwuma Okorafor<br>Player Speed:0.045 MPH",
            "nflId:46166<br>displayName:Mason Cole<br>Player Speed:0.067 MPH",
            "nflId:47849<br>displayName:Diontae Johnson<br>Player Speed:2.505 MPH",
            "nflId:52457<br>displayName:Chase Claypool<br>Player Speed:1.32 MPH",
            "nflId:52543<br>displayName:Kevin Dotson<br>Player Speed:0.067 MPH",
            "nflId:53453<br>displayName:Najee Harris<br>Player Speed:3.825 MPH",
            "nflId:53484<br>displayName:Pat Freiermuth<br>Player Speed:0.157 MPH",
            "nflId:53557<br>displayName:Dan Moore<br>Player Speed:0.022 MPH",
            "nflId:54517<br>displayName:George Pickens<br>Player Speed:0.604 MPH"
           ],
           "marker": {
            "color": "#FFB612",
            "line": {
             "color": "#101820",
             "width": 2
            },
            "size": 10
           },
           "mode": "markers",
           "name": "PIT",
           "type": "scatter",
           "x": [
            24,
            20.25,
            20.28,
            19.27,
            19.8,
            20.64,
            20.03,
            21.16,
            20.71,
            20.18,
            19.72
           ],
           "y": [
            29.58,
            31.16,
            32.72,
            29.59,
            41.89,
            18.74,
            28.06,
            37.45,
            22.83,
            26.37,
            11.38
           ]
          },
          {
           "hoverinfo": "none",
           "marker": {
            "color": "#CBB67C",
            "line": {
             "color": "#663831",
             "width": 2
            },
            "size": 10
           },
           "mode": "markers",
           "name": "football",
           "type": "scatter",
           "x": [
            19
           ],
           "y": [
            29.5799999237061
           ]
          }
         ],
         "name": "43"
        },
        {
         "data": [
          {
           "hoverinfo": "none",
           "mode": "text",
           "showlegend": false,
           "text": [
            "10",
            "20",
            "30",
            "40",
            "50",
            "40",
            "30",
            "20",
            "10"
           ],
           "textfont": {
            "color": "#ffffff",
            "family": "Courier New, monospace",
            "size": 30
           },
           "type": "scatter",
           "x": [
            20,
            30,
            40,
            50,
            60,
            70,
            80,
            90,
            100
           ],
           "y": [
            5,
            5,
            5,
            5,
            5,
            5,
            5,
            5,
            5
           ]
          },
          {
           "hoverinfo": "none",
           "mode": "text",
           "showlegend": false,
           "text": [
            "10",
            "20",
            "30",
            "40",
            "50",
            "40",
            "30",
            "20",
            "10"
           ],
           "textfont": {
            "color": "#ffffff",
            "family": "Courier New, monospace",
            "size": 30
           },
           "type": "scatter",
           "x": [
            20,
            30,
            40,
            50,
            60,
            70,
            80,
            90,
            100
           ],
           "y": [
            48.5,
            48.5,
            48.5,
            48.5,
            48.5,
            48.5,
            48.5,
            48.5,
            48.5
           ]
          },
          {
           "hoverinfo": "none",
           "line": {
            "color": "blue",
            "dash": "dash"
           },
           "showlegend": false,
           "type": "scatter",
           "x": [
            19,
            19
           ],
           "y": [
            0,
            53.5
           ]
          },
          {
           "hoverinfo": "none",
           "line": {
            "color": "yellow",
            "dash": "dash"
           },
           "showlegend": false,
           "type": "scatter",
           "x": [
            10,
            10
           ],
           "y": [
            0,
            53.5
           ]
          },
          {
           "fill": "toself",
           "fillcolor": "#000000",
           "hoverinfo": "skip",
           "line": {
            "color": "white",
            "width": 3
           },
           "mode": "lines",
           "opacity": 1,
           "showlegend": false,
           "type": "scatter",
           "x": [
            0,
            0,
            10,
            10,
            0
           ],
           "y": [
            0,
            53.5,
            53.5,
            0,
            0
           ]
          },
          {
           "fill": "toself",
           "fillcolor": "#FFB612",
           "hoverinfo": "skip",
           "line": {
            "color": "white",
            "width": 3
           },
           "mode": "lines",
           "opacity": 1,
           "showlegend": false,
           "type": "scatter",
           "x": [
            110,
            110,
            120,
            120,
            110
           ],
           "y": [
            0,
            53.5,
            53.5,
            0,
            0
           ]
          },
          {
           "hoverinfo": "text",
           "hovertext": [
            "nflId:43299<br>displayName:Eli Apple<br>Player Speed:0.738 MPH",
            "nflId:43350<br>displayName:Vonn Bell<br>Player Speed:1.678 MPH",
            "nflId:43455<br>displayName:D.J. Reader<br>Player Speed:0.626 MPH",
            "nflId:43641<br>displayName:Mike Hilton<br>Player Speed:0.917 MPH",
            "nflId:44872<br>displayName:Chidobe Awuzie<br>Player Speed:0.917 MPH",
            "nflId:44915<br>displayName:Trey Hendrickson<br>Player Speed:0.94 MPH",
            "nflId:46123<br>displayName:Jessie Bates<br>Player Speed:0.626 MPH",
            "nflId:46138<br>displayName:B.J. Hill<br>Player Speed:0.045 MPH",
            "nflId:46146<br>displayName:Sam Hubbard<br>Player Speed:0.246 MPH",
            "nflId:47855<br>displayName:Germaine Pratt<br>Player Speed:1.342 MPH",
            "nflId:52473<br>displayName:Logan Wilson<br>Player Speed:2.416 MPH"
           ],
           "marker": {
            "color": "#000000",
            "line": {
             "color": "#FB4F14",
             "width": 2
            },
            "size": 10
           },
           "mode": "markers",
           "name": "CIN",
           "type": "scatter",
           "x": [
            13.07,
            16.6,
            18,
            14.95,
            12.77,
            18.24,
            8.31,
            17.43,
            18.07,
            14.72,
            14.31
           ],
           "y": [
            12.1,
            38.57,
            31.23,
            18.07,
            42.81,
            24.57,
            24.44,
            27.2,
            34.86,
            31.2,
            24.47
           ]
          },
          {
           "hoverinfo": "text",
           "hovertext": [
            "nflId:44814<br>displayName:Mitchell Trubisky<br>Player Speed:0.067 MPH",
            "nflId:46108<br>displayName:James Daniels<br>Player Speed:0.022 MPH",
            "nflId:46161<br>displayName:Chukwuma Okorafor<br>Player Speed:0.045 MPH",
            "nflId:46166<br>displayName:Mason Cole<br>Player Speed:0.067 MPH",
            "nflId:47849<br>displayName:Diontae Johnson<br>Player Speed:3.109 MPH",
            "nflId:52457<br>displayName:Chase Claypool<br>Player Speed:1.767 MPH",
            "nflId:52543<br>displayName:Kevin Dotson<br>Player Speed:0.067 MPH",
            "nflId:53453<br>displayName:Najee Harris<br>Player Speed:4.474 MPH",
            "nflId:53484<br>displayName:Pat Freiermuth<br>Player Speed:0.179 MPH",
            "nflId:53557<br>displayName:Dan Moore<br>Player Speed:0.022 MPH",
            "nflId:54517<br>displayName:George Pickens<br>Player Speed:0.895 MPH"
           ],
           "marker": {
            "color": "#FFB612",
            "line": {
             "color": "#101820",
             "width": 2
            },
            "size": 10
           },
           "mode": "markers",
           "name": "PIT",
           "type": "scatter",
           "x": [
            24,
            20.25,
            20.28,
            19.26,
            19.8,
            20.65,
            20.03,
            21.27,
            20.7,
            20.18,
            19.75
           ],
           "y": [
            29.58,
            31.16,
            32.73,
            29.6,
            41.76,
            18.81,
            28.06,
            37.3,
            22.84,
            26.36,
            11.41
           ]
          },
          {
           "hoverinfo": "none",
           "marker": {
            "color": "#CBB67C",
            "line": {
             "color": "#663831",
             "width": 2
            },
            "size": 10
           },
           "mode": "markers",
           "name": "football",
           "type": "scatter",
           "x": [
            19
           ],
           "y": [
            29.5900001525879
           ]
          }
         ],
         "name": "44"
        },
        {
         "data": [
          {
           "hoverinfo": "none",
           "mode": "text",
           "showlegend": false,
           "text": [
            "10",
            "20",
            "30",
            "40",
            "50",
            "40",
            "30",
            "20",
            "10"
           ],
           "textfont": {
            "color": "#ffffff",
            "family": "Courier New, monospace",
            "size": 30
           },
           "type": "scatter",
           "x": [
            20,
            30,
            40,
            50,
            60,
            70,
            80,
            90,
            100
           ],
           "y": [
            5,
            5,
            5,
            5,
            5,
            5,
            5,
            5,
            5
           ]
          },
          {
           "hoverinfo": "none",
           "mode": "text",
           "showlegend": false,
           "text": [
            "10",
            "20",
            "30",
            "40",
            "50",
            "40",
            "30",
            "20",
            "10"
           ],
           "textfont": {
            "color": "#ffffff",
            "family": "Courier New, monospace",
            "size": 30
           },
           "type": "scatter",
           "x": [
            20,
            30,
            40,
            50,
            60,
            70,
            80,
            90,
            100
           ],
           "y": [
            48.5,
            48.5,
            48.5,
            48.5,
            48.5,
            48.5,
            48.5,
            48.5,
            48.5
           ]
          },
          {
           "hoverinfo": "none",
           "line": {
            "color": "blue",
            "dash": "dash"
           },
           "showlegend": false,
           "type": "scatter",
           "x": [
            19,
            19
           ],
           "y": [
            0,
            53.5
           ]
          },
          {
           "hoverinfo": "none",
           "line": {
            "color": "yellow",
            "dash": "dash"
           },
           "showlegend": false,
           "type": "scatter",
           "x": [
            10,
            10
           ],
           "y": [
            0,
            53.5
           ]
          },
          {
           "fill": "toself",
           "fillcolor": "#000000",
           "hoverinfo": "skip",
           "line": {
            "color": "white",
            "width": 3
           },
           "mode": "lines",
           "opacity": 1,
           "showlegend": false,
           "type": "scatter",
           "x": [
            0,
            0,
            10,
            10,
            0
           ],
           "y": [
            0,
            53.5,
            53.5,
            0,
            0
           ]
          },
          {
           "fill": "toself",
           "fillcolor": "#FFB612",
           "hoverinfo": "skip",
           "line": {
            "color": "white",
            "width": 3
           },
           "mode": "lines",
           "opacity": 1,
           "showlegend": false,
           "type": "scatter",
           "x": [
            110,
            110,
            120,
            120,
            110
           ],
           "y": [
            0,
            53.5,
            53.5,
            0,
            0
           ]
          },
          {
           "hoverinfo": "text",
           "hovertext": [
            "nflId:43299<br>displayName:Eli Apple<br>Player Speed:0.805 MPH",
            "nflId:43350<br>displayName:Vonn Bell<br>Player Speed:1.32 MPH",
            "nflId:43455<br>displayName:D.J. Reader<br>Player Speed:0.403 MPH",
            "nflId:43641<br>displayName:Mike Hilton<br>Player Speed:0.895 MPH",
            "nflId:44872<br>displayName:Chidobe Awuzie<br>Player Speed:0.761 MPH",
            "nflId:44915<br>displayName:Trey Hendrickson<br>Player Speed:0.716 MPH",
            "nflId:46123<br>displayName:Jessie Bates<br>Player Speed:0.537 MPH",
            "nflId:46138<br>displayName:B.J. Hill<br>Player Speed:0.045 MPH",
            "nflId:46146<br>displayName:Sam Hubbard<br>Player Speed:0.134 MPH",
            "nflId:47855<br>displayName:Germaine Pratt<br>Player Speed:1.029 MPH",
            "nflId:52473<br>displayName:Logan Wilson<br>Player Speed:2.259 MPH"
           ],
           "marker": {
            "color": "#000000",
            "line": {
             "color": "#FB4F14",
             "width": 2
            },
            "size": 10
           },
           "mode": "markers",
           "name": "CIN",
           "type": "scatter",
           "x": [
            13.06,
            16.66,
            18,
            14.99,
            12.74,
            18.26,
            8.32,
            17.43,
            18.08,
            14.77,
            14.36
           ],
           "y": [
            12.07,
            38.58,
            31.25,
            18.09,
            42.8,
            24.59,
            24.42,
            27.21,
            34.86,
            31.2,
            24.38
           ]
          },
          {
           "hoverinfo": "text",
           "hovertext": [
            "nflId:44814<br>displayName:Mitchell Trubisky<br>Player Speed:0.067 MPH",
            "nflId:46108<br>displayName:James Daniels<br>Player Speed:0.022 MPH",
            "nflId:46161<br>displayName:Chukwuma Okorafor<br>Player Speed:0.045 MPH",
            "nflId:46166<br>displayName:Mason Cole<br>Player Speed:0.067 MPH",
            "nflId:47849<br>displayName:Diontae Johnson<br>Player Speed:3.982 MPH",
            "nflId:52457<br>displayName:Chase Claypool<br>Player Speed:2.237 MPH",
            "nflId:52543<br>displayName:Kevin Dotson<br>Player Speed:0.067 MPH",
            "nflId:53453<br>displayName:Najee Harris<br>Player Speed:5.234 MPH",
            "nflId:53484<br>displayName:Pat Freiermuth<br>Player Speed:0.291 MPH",
            "nflId:53557<br>displayName:Dan Moore<br>Player Speed:0.022 MPH",
            "nflId:54517<br>displayName:George Pickens<br>Player Speed:0.984 MPH"
           ],
           "marker": {
            "color": "#FFB612",
            "line": {
             "color": "#101820",
             "width": 2
            },
            "size": 10
           },
           "mode": "markers",
           "name": "PIT",
           "type": "scatter",
           "x": [
            24.01,
            20.25,
            20.28,
            19.25,
            19.81,
            20.68,
            20.03,
            21.4,
            20.7,
            20.18,
            19.78
           ],
           "y": [
            29.59,
            31.17,
            32.73,
            29.6,
            41.59,
            18.9,
            28.06,
            37.12,
            22.86,
            26.36,
            11.43
           ]
          },
          {
           "hoverinfo": "none",
           "marker": {
            "color": "#CBB67C",
            "line": {
             "color": "#663831",
             "width": 2
            },
            "size": 10
           },
           "mode": "markers",
           "name": "football",
           "type": "scatter",
           "x": [
            19
           ],
           "y": [
            29.5900001525879
           ]
          }
         ],
         "name": "45"
        },
        {
         "data": [
          {
           "hoverinfo": "none",
           "mode": "text",
           "showlegend": false,
           "text": [
            "10",
            "20",
            "30",
            "40",
            "50",
            "40",
            "30",
            "20",
            "10"
           ],
           "textfont": {
            "color": "#ffffff",
            "family": "Courier New, monospace",
            "size": 30
           },
           "type": "scatter",
           "x": [
            20,
            30,
            40,
            50,
            60,
            70,
            80,
            90,
            100
           ],
           "y": [
            5,
            5,
            5,
            5,
            5,
            5,
            5,
            5,
            5
           ]
          },
          {
           "hoverinfo": "none",
           "mode": "text",
           "showlegend": false,
           "text": [
            "10",
            "20",
            "30",
            "40",
            "50",
            "40",
            "30",
            "20",
            "10"
           ],
           "textfont": {
            "color": "#ffffff",
            "family": "Courier New, monospace",
            "size": 30
           },
           "type": "scatter",
           "x": [
            20,
            30,
            40,
            50,
            60,
            70,
            80,
            90,
            100
           ],
           "y": [
            48.5,
            48.5,
            48.5,
            48.5,
            48.5,
            48.5,
            48.5,
            48.5,
            48.5
           ]
          },
          {
           "hoverinfo": "none",
           "line": {
            "color": "blue",
            "dash": "dash"
           },
           "showlegend": false,
           "type": "scatter",
           "x": [
            19,
            19
           ],
           "y": [
            0,
            53.5
           ]
          },
          {
           "hoverinfo": "none",
           "line": {
            "color": "yellow",
            "dash": "dash"
           },
           "showlegend": false,
           "type": "scatter",
           "x": [
            10,
            10
           ],
           "y": [
            0,
            53.5
           ]
          },
          {
           "fill": "toself",
           "fillcolor": "#000000",
           "hoverinfo": "skip",
           "line": {
            "color": "white",
            "width": 3
           },
           "mode": "lines",
           "opacity": 1,
           "showlegend": false,
           "type": "scatter",
           "x": [
            0,
            0,
            10,
            10,
            0
           ],
           "y": [
            0,
            53.5,
            53.5,
            0,
            0
           ]
          },
          {
           "fill": "toself",
           "fillcolor": "#FFB612",
           "hoverinfo": "skip",
           "line": {
            "color": "white",
            "width": 3
           },
           "mode": "lines",
           "opacity": 1,
           "showlegend": false,
           "type": "scatter",
           "x": [
            110,
            110,
            120,
            120,
            110
           ],
           "y": [
            0,
            53.5,
            53.5,
            0,
            0
           ]
          },
          {
           "hoverinfo": "text",
           "hovertext": [
            "nflId:43299<br>displayName:Eli Apple<br>Player Speed:0.649 MPH",
            "nflId:43350<br>displayName:Vonn Bell<br>Player Speed:1.051 MPH",
            "nflId:43455<br>displayName:D.J. Reader<br>Player Speed:0.268 MPH",
            "nflId:43641<br>displayName:Mike Hilton<br>Player Speed:0.895 MPH",
            "nflId:44872<br>displayName:Chidobe Awuzie<br>Player Speed:0.693 MPH",
            "nflId:44915<br>displayName:Trey Hendrickson<br>Player Speed:0.47 MPH",
            "nflId:46123<br>displayName:Jessie Bates<br>Player Speed:0.47 MPH",
            "nflId:46138<br>displayName:B.J. Hill<br>Player Speed:0.067 MPH",
            "nflId:46146<br>displayName:Sam Hubbard<br>Player Speed:0.045 MPH",
            "nflId:47855<br>displayName:Germaine Pratt<br>Player Speed:0.828 MPH",
            "nflId:52473<br>displayName:Logan Wilson<br>Player Speed:2.125 MPH"
           ],
           "marker": {
            "color": "#000000",
            "line": {
             "color": "#FB4F14",
             "width": 2
            },
            "size": 10
           },
           "mode": "markers",
           "name": "CIN",
           "type": "scatter",
           "x": [
            13.06,
            16.71,
            18,
            15.03,
            12.71,
            18.27,
            8.32,
            17.43,
            18.08,
            14.81,
            14.41
           ],
           "y": [
            12.04,
            38.56,
            31.26,
            18.11,
            42.78,
            24.61,
            24.4,
            27.21,
            34.86,
            31.2,
            24.29
           ]
          },
          {
           "hoverinfo": "text",
           "hovertext": [
            "nflId:44814<br>displayName:Mitchell Trubisky<br>Player Speed:0.067 MPH",
            "nflId:46108<br>displayName:James Daniels<br>Player Speed:0.022 MPH",
            "nflId:46161<br>displayName:Chukwuma Okorafor<br>Player Speed:0.022 MPH",
            "nflId:46166<br>displayName:Mason Cole<br>Player Speed:0.045 MPH",
            "nflId:47849<br>displayName:Diontae Johnson<br>Player Speed:4.63 MPH",
            "nflId:52457<br>displayName:Chase Claypool<br>Player Speed:3.065 MPH",
            "nflId:52543<br>displayName:Kevin Dotson<br>Player Speed:0.045 MPH",
            "nflId:53453<br>displayName:Najee Harris<br>Player Speed:6.084 MPH",
            "nflId:53484<br>displayName:Pat Freiermuth<br>Player Speed:0.47 MPH",
            "nflId:53557<br>displayName:Dan Moore<br>Player Speed:0.022 MPH",
            "nflId:54517<br>displayName:George Pickens<br>Player Speed:1.186 MPH"
           ],
           "marker": {
            "color": "#FFB612",
            "line": {
             "color": "#101820",
             "width": 2
            },
            "size": 10
           },
           "mode": "markers",
           "name": "PIT",
           "type": "scatter",
           "x": [
            24.01,
            20.25,
            20.28,
            19.23,
            19.83,
            20.72,
            20.04,
            21.55,
            20.7,
            20.18,
            19.81
           ],
           "y": [
            29.6,
            31.17,
            32.72,
            29.6,
            41.39,
            19.03,
            28.07,
            36.89,
            22.88,
            26.36,
            11.47
           ]
          },
          {
           "hoverinfo": "none",
           "marker": {
            "color": "#CBB67C",
            "line": {
             "color": "#663831",
             "width": 2
            },
            "size": 10
           },
           "mode": "markers",
           "name": "football",
           "type": "scatter",
           "x": [
            19
           ],
           "y": [
            29.5900001525879
           ]
          }
         ],
         "name": "46"
        },
        {
         "data": [
          {
           "hoverinfo": "none",
           "mode": "text",
           "showlegend": false,
           "text": [
            "10",
            "20",
            "30",
            "40",
            "50",
            "40",
            "30",
            "20",
            "10"
           ],
           "textfont": {
            "color": "#ffffff",
            "family": "Courier New, monospace",
            "size": 30
           },
           "type": "scatter",
           "x": [
            20,
            30,
            40,
            50,
            60,
            70,
            80,
            90,
            100
           ],
           "y": [
            5,
            5,
            5,
            5,
            5,
            5,
            5,
            5,
            5
           ]
          },
          {
           "hoverinfo": "none",
           "mode": "text",
           "showlegend": false,
           "text": [
            "10",
            "20",
            "30",
            "40",
            "50",
            "40",
            "30",
            "20",
            "10"
           ],
           "textfont": {
            "color": "#ffffff",
            "family": "Courier New, monospace",
            "size": 30
           },
           "type": "scatter",
           "x": [
            20,
            30,
            40,
            50,
            60,
            70,
            80,
            90,
            100
           ],
           "y": [
            48.5,
            48.5,
            48.5,
            48.5,
            48.5,
            48.5,
            48.5,
            48.5,
            48.5
           ]
          },
          {
           "hoverinfo": "none",
           "line": {
            "color": "blue",
            "dash": "dash"
           },
           "showlegend": false,
           "type": "scatter",
           "x": [
            19,
            19
           ],
           "y": [
            0,
            53.5
           ]
          },
          {
           "hoverinfo": "none",
           "line": {
            "color": "yellow",
            "dash": "dash"
           },
           "showlegend": false,
           "type": "scatter",
           "x": [
            10,
            10
           ],
           "y": [
            0,
            53.5
           ]
          },
          {
           "fill": "toself",
           "fillcolor": "#000000",
           "hoverinfo": "skip",
           "line": {
            "color": "white",
            "width": 3
           },
           "mode": "lines",
           "opacity": 1,
           "showlegend": false,
           "type": "scatter",
           "x": [
            0,
            0,
            10,
            10,
            0
           ],
           "y": [
            0,
            53.5,
            53.5,
            0,
            0
           ]
          },
          {
           "fill": "toself",
           "fillcolor": "#FFB612",
           "hoverinfo": "skip",
           "line": {
            "color": "white",
            "width": 3
           },
           "mode": "lines",
           "opacity": 1,
           "showlegend": false,
           "type": "scatter",
           "x": [
            110,
            110,
            120,
            120,
            110
           ],
           "y": [
            0,
            53.5,
            53.5,
            0,
            0
           ]
          },
          {
           "hoverinfo": "text",
           "hovertext": [
            "nflId:43299<br>displayName:Eli Apple<br>Player Speed:0.604 MPH",
            "nflId:43350<br>displayName:Vonn Bell<br>Player Speed:0.962 MPH",
            "nflId:43455<br>displayName:D.J. Reader<br>Player Speed:0.224 MPH",
            "nflId:43641<br>displayName:Mike Hilton<br>Player Speed:0.85 MPH",
            "nflId:44872<br>displayName:Chidobe Awuzie<br>Player Speed:0.537 MPH",
            "nflId:44915<br>displayName:Trey Hendrickson<br>Player Speed:0.358 MPH",
            "nflId:46123<br>displayName:Jessie Bates<br>Player Speed:0.313 MPH",
            "nflId:46138<br>displayName:B.J. Hill<br>Player Speed:0.089 MPH",
            "nflId:46146<br>displayName:Sam Hubbard<br>Player Speed:0.179 MPH",
            "nflId:47855<br>displayName:Germaine Pratt<br>Player Speed:0.693 MPH",
            "nflId:52473<br>displayName:Logan Wilson<br>Player Speed:1.834 MPH"
           ],
           "marker": {
            "color": "#000000",
            "line": {
             "color": "#FB4F14",
             "width": 2
            },
            "size": 10
           },
           "mode": "markers",
           "name": "CIN",
           "type": "scatter",
           "x": [
            13.07,
            16.75,
            18,
            15.06,
            12.69,
            18.27,
            8.32,
            17.44,
            18.07,
            14.84,
            14.45
           ],
           "y": [
            12.01,
            38.54,
            31.27,
            18.12,
            42.76,
            24.62,
            24.39,
            27.22,
            34.86,
            31.21,
            24.22
           ]
          },
          {
           "hoverinfo": "text",
           "hovertext": [
            "nflId:44814<br>displayName:Mitchell Trubisky<br>Player Speed:0.045 MPH",
            "nflId:46108<br>displayName:James Daniels<br>Player Speed:0.022 MPH",
            "nflId:46161<br>displayName:Chukwuma Okorafor<br>Player Speed:0.022 MPH",
            "nflId:46166<br>displayName:Mason Cole<br>Player Speed:0.045 MPH",
            "nflId:47849<br>displayName:Diontae Johnson<br>Player Speed:5.234 MPH",
            "nflId:52457<br>displayName:Chase Claypool<br>Player Speed:3.669 MPH",
            "nflId:52543<br>displayName:Kevin Dotson<br>Player Speed:0.045 MPH",
            "nflId:53453<br>displayName:Najee Harris<br>Player Speed:6.823 MPH",
            "nflId:53484<br>displayName:Pat Freiermuth<br>Player Speed:0.738 MPH",
            "nflId:53557<br>displayName:Dan Moore<br>Player Speed:0.022 MPH",
            "nflId:54517<br>displayName:George Pickens<br>Player Speed:1.857 MPH"
           ],
           "marker": {
            "color": "#FFB612",
            "line": {
             "color": "#101820",
             "width": 2
            },
            "size": 10
           },
           "mode": "markers",
           "name": "PIT",
           "type": "scatter",
           "x": [
            24.01,
            20.25,
            20.29,
            19.23,
            19.84,
            20.77,
            20.03,
            21.73,
            20.71,
            20.18,
            19.84
           ],
           "y": [
            29.6,
            31.17,
            32.72,
            29.6,
            41.17,
            19.18,
            28.06,
            36.65,
            22.91,
            26.36,
            11.55
           ]
          },
          {
           "hoverinfo": "none",
           "marker": {
            "color": "#CBB67C",
            "line": {
             "color": "#663831",
             "width": 2
            },
            "size": 10
           },
           "mode": "markers",
           "name": "football",
           "type": "scatter",
           "x": [
            19
           ],
           "y": [
            29.5900001525879
           ]
          }
         ],
         "name": "47"
        },
        {
         "data": [
          {
           "hoverinfo": "none",
           "mode": "text",
           "showlegend": false,
           "text": [
            "10",
            "20",
            "30",
            "40",
            "50",
            "40",
            "30",
            "20",
            "10"
           ],
           "textfont": {
            "color": "#ffffff",
            "family": "Courier New, monospace",
            "size": 30
           },
           "type": "scatter",
           "x": [
            20,
            30,
            40,
            50,
            60,
            70,
            80,
            90,
            100
           ],
           "y": [
            5,
            5,
            5,
            5,
            5,
            5,
            5,
            5,
            5
           ]
          },
          {
           "hoverinfo": "none",
           "mode": "text",
           "showlegend": false,
           "text": [
            "10",
            "20",
            "30",
            "40",
            "50",
            "40",
            "30",
            "20",
            "10"
           ],
           "textfont": {
            "color": "#ffffff",
            "family": "Courier New, monospace",
            "size": 30
           },
           "type": "scatter",
           "x": [
            20,
            30,
            40,
            50,
            60,
            70,
            80,
            90,
            100
           ],
           "y": [
            48.5,
            48.5,
            48.5,
            48.5,
            48.5,
            48.5,
            48.5,
            48.5,
            48.5
           ]
          },
          {
           "hoverinfo": "none",
           "line": {
            "color": "blue",
            "dash": "dash"
           },
           "showlegend": false,
           "type": "scatter",
           "x": [
            19,
            19
           ],
           "y": [
            0,
            53.5
           ]
          },
          {
           "hoverinfo": "none",
           "line": {
            "color": "yellow",
            "dash": "dash"
           },
           "showlegend": false,
           "type": "scatter",
           "x": [
            10,
            10
           ],
           "y": [
            0,
            53.5
           ]
          },
          {
           "fill": "toself",
           "fillcolor": "#000000",
           "hoverinfo": "skip",
           "line": {
            "color": "white",
            "width": 3
           },
           "mode": "lines",
           "opacity": 1,
           "showlegend": false,
           "type": "scatter",
           "x": [
            0,
            0,
            10,
            10,
            0
           ],
           "y": [
            0,
            53.5,
            53.5,
            0,
            0
           ]
          },
          {
           "fill": "toself",
           "fillcolor": "#FFB612",
           "hoverinfo": "skip",
           "line": {
            "color": "white",
            "width": 3
           },
           "mode": "lines",
           "opacity": 1,
           "showlegend": false,
           "type": "scatter",
           "x": [
            110,
            110,
            120,
            120,
            110
           ],
           "y": [
            0,
            53.5,
            53.5,
            0,
            0
           ]
          },
          {
           "hoverinfo": "text",
           "hovertext": [
            "nflId:43299<br>displayName:Eli Apple<br>Player Speed:0.626 MPH",
            "nflId:43350<br>displayName:Vonn Bell<br>Player Speed:1.074 MPH",
            "nflId:43455<br>displayName:D.J. Reader<br>Player Speed:0.514 MPH",
            "nflId:43641<br>displayName:Mike Hilton<br>Player Speed:0.85 MPH",
            "nflId:44872<br>displayName:Chidobe Awuzie<br>Player Speed:0.447 MPH",
            "nflId:44915<br>displayName:Trey Hendrickson<br>Player Speed:0.089 MPH",
            "nflId:46123<br>displayName:Jessie Bates<br>Player Speed:0.201 MPH",
            "nflId:46138<br>displayName:B.J. Hill<br>Player Speed:0.067 MPH",
            "nflId:46146<br>displayName:Sam Hubbard<br>Player Speed:0.336 MPH",
            "nflId:47855<br>displayName:Germaine Pratt<br>Player Speed:0.47 MPH",
            "nflId:52473<br>displayName:Logan Wilson<br>Player Speed:1.454 MPH"
           ],
           "marker": {
            "color": "#000000",
            "line": {
             "color": "#FB4F14",
             "width": 2
            },
            "size": 10
           },
           "mode": "markers",
           "name": "CIN",
           "type": "scatter",
           "x": [
            13.08,
            16.77,
            17.98,
            15.1,
            12.68,
            18.29,
            8.31,
            17.43,
            18.06,
            14.86,
            14.49
           ],
           "y": [
            11.99,
            38.49,
            31.27,
            18.13,
            42.75,
            24.6,
            24.38,
            27.23,
            34.87,
            31.22,
            24.17
           ]
          },
          {
           "hoverinfo": "text",
           "hovertext": [
            "nflId:44814<br>displayName:Mitchell Trubisky<br>Player Speed:0.045 MPH",
            "nflId:46108<br>displayName:James Daniels<br>Player Speed:0.022 MPH",
            "nflId:46161<br>displayName:Chukwuma Okorafor<br>Player Speed:0.022 MPH",
            "nflId:46166<br>displayName:Mason Cole<br>Player Speed:0.045 MPH",
            "nflId:47849<br>displayName:Diontae Johnson<br>Player Speed:5.637 MPH",
            "nflId:52457<br>displayName:Chase Claypool<br>Player Speed:4.407 MPH",
            "nflId:52543<br>displayName:Kevin Dotson<br>Player Speed:0.045 MPH",
            "nflId:53453<br>displayName:Najee Harris<br>Player Speed:7.382 MPH",
            "nflId:53484<br>displayName:Pat Freiermuth<br>Player Speed:1.141 MPH",
            "nflId:53557<br>displayName:Dan Moore<br>Player Speed:0.022 MPH",
            "nflId:54517<br>displayName:George Pickens<br>Player Speed:2.349 MPH"
           ],
           "marker": {
            "color": "#FFB612",
            "line": {
             "color": "#101820",
             "width": 2
            },
            "size": 10
           },
           "mode": "markers",
           "name": "PIT",
           "type": "scatter",
           "x": [
            24.02,
            20.25,
            20.29,
            19.23,
            19.87,
            20.83,
            20.03,
            21.9,
            20.74,
            20.18,
            19.88
           ],
           "y": [
            29.6,
            31.17,
            32.72,
            29.6,
            40.93,
            19.35,
            28.06,
            36.38,
            22.96,
            26.35,
            11.65
           ]
          },
          {
           "hoverinfo": "none",
           "marker": {
            "color": "#CBB67C",
            "line": {
             "color": "#663831",
             "width": 2
            },
            "size": 10
           },
           "mode": "markers",
           "name": "football",
           "type": "scatter",
           "x": [
            19
           ],
           "y": [
            29.5900001525879
           ]
          }
         ],
         "name": "48"
        },
        {
         "data": [
          {
           "hoverinfo": "none",
           "mode": "text",
           "showlegend": false,
           "text": [
            "10",
            "20",
            "30",
            "40",
            "50",
            "40",
            "30",
            "20",
            "10"
           ],
           "textfont": {
            "color": "#ffffff",
            "family": "Courier New, monospace",
            "size": 30
           },
           "type": "scatter",
           "x": [
            20,
            30,
            40,
            50,
            60,
            70,
            80,
            90,
            100
           ],
           "y": [
            5,
            5,
            5,
            5,
            5,
            5,
            5,
            5,
            5
           ]
          },
          {
           "hoverinfo": "none",
           "mode": "text",
           "showlegend": false,
           "text": [
            "10",
            "20",
            "30",
            "40",
            "50",
            "40",
            "30",
            "20",
            "10"
           ],
           "textfont": {
            "color": "#ffffff",
            "family": "Courier New, monospace",
            "size": 30
           },
           "type": "scatter",
           "x": [
            20,
            30,
            40,
            50,
            60,
            70,
            80,
            90,
            100
           ],
           "y": [
            48.5,
            48.5,
            48.5,
            48.5,
            48.5,
            48.5,
            48.5,
            48.5,
            48.5
           ]
          },
          {
           "hoverinfo": "none",
           "line": {
            "color": "blue",
            "dash": "dash"
           },
           "showlegend": false,
           "type": "scatter",
           "x": [
            19,
            19
           ],
           "y": [
            0,
            53.5
           ]
          },
          {
           "hoverinfo": "none",
           "line": {
            "color": "yellow",
            "dash": "dash"
           },
           "showlegend": false,
           "type": "scatter",
           "x": [
            10,
            10
           ],
           "y": [
            0,
            53.5
           ]
          },
          {
           "fill": "toself",
           "fillcolor": "#000000",
           "hoverinfo": "skip",
           "line": {
            "color": "white",
            "width": 3
           },
           "mode": "lines",
           "opacity": 1,
           "showlegend": false,
           "type": "scatter",
           "x": [
            0,
            0,
            10,
            10,
            0
           ],
           "y": [
            0,
            53.5,
            53.5,
            0,
            0
           ]
          },
          {
           "fill": "toself",
           "fillcolor": "#FFB612",
           "hoverinfo": "skip",
           "line": {
            "color": "white",
            "width": 3
           },
           "mode": "lines",
           "opacity": 1,
           "showlegend": false,
           "type": "scatter",
           "x": [
            110,
            110,
            120,
            120,
            110
           ],
           "y": [
            0,
            53.5,
            53.5,
            0,
            0
           ]
          },
          {
           "hoverinfo": "text",
           "hovertext": [
            "nflId:43299<br>displayName:Eli Apple<br>Player Speed:0.425 MPH",
            "nflId:43350<br>displayName:Vonn Bell<br>Player Speed:1.253 MPH",
            "nflId:43455<br>displayName:D.J. Reader<br>Player Speed:0.761 MPH",
            "nflId:43641<br>displayName:Mike Hilton<br>Player Speed:0.895 MPH",
            "nflId:44872<br>displayName:Chidobe Awuzie<br>Player Speed:0.626 MPH",
            "nflId:44915<br>displayName:Trey Hendrickson<br>Player Speed:0.291 MPH",
            "nflId:46123<br>displayName:Jessie Bates<br>Player Speed:0.224 MPH",
            "nflId:46138<br>displayName:B.J. Hill<br>Player Speed:0.045 MPH",
            "nflId:46146<br>displayName:Sam Hubbard<br>Player Speed:0.447 MPH",
            "nflId:47855<br>displayName:Germaine Pratt<br>Player Speed:0.447 MPH",
            "nflId:52473<br>displayName:Logan Wilson<br>Player Speed:1.096 MPH"
           ],
           "marker": {
            "color": "#000000",
            "line": {
             "color": "#FB4F14",
             "width": 2
            },
            "size": 10
           },
           "mode": "markers",
           "name": "CIN",
           "type": "scatter",
           "x": [
            13.09,
            16.77,
            17.96,
            15.13,
            12.67,
            18.29,
            8.31,
            17.44,
            18.04,
            14.87,
            14.52
           ],
           "y": [
            11.98,
            38.44,
            31.25,
            18.14,
            42.72,
            24.59,
            24.38,
            27.22,
            34.87,
            31.24,
            24.12
           ]
          },
          {
           "hoverinfo": "text",
           "hovertext": [
            "nflId:44814<br>displayName:Mitchell Trubisky<br>Player Speed:0.045 MPH",
            "nflId:46108<br>displayName:James Daniels<br>Player Speed:0.022 MPH",
            "nflId:46161<br>displayName:Chukwuma Okorafor<br>Player Speed:0.022 MPH",
            "nflId:46166<br>displayName:Mason Cole<br>Player Speed:0.045 MPH",
            "nflId:47849<br>displayName:Diontae Johnson<br>Player Speed:5.794 MPH",
            "nflId:52457<br>displayName:Chase Claypool<br>Player Speed:5.19 MPH",
            "nflId:52543<br>displayName:Kevin Dotson<br>Player Speed:0.022 MPH",
            "nflId:53453<br>displayName:Najee Harris<br>Player Speed:7.829 MPH",
            "nflId:53484<br>displayName:Pat Freiermuth<br>Player Speed:1.454 MPH",
            "nflId:53557<br>displayName:Dan Moore<br>Player Speed:0.022 MPH",
            "nflId:54517<br>displayName:George Pickens<br>Player Speed:3.087 MPH"
           ],
           "marker": {
            "color": "#FFB612",
            "line": {
             "color": "#101820",
             "width": 2
            },
            "size": 10
           },
           "mode": "markers",
           "name": "PIT",
           "type": "scatter",
           "x": [
            24.02,
            20.25,
            20.29,
            19.23,
            19.89,
            20.91,
            20.03,
            22.09,
            20.76,
            20.18,
            19.93
           ],
           "y": [
            29.6,
            31.16,
            32.73,
            29.61,
            40.67,
            19.56,
            28.06,
            36.09,
            23.01,
            26.35,
            11.78
           ]
          },
          {
           "hoverinfo": "none",
           "marker": {
            "color": "#CBB67C",
            "line": {
             "color": "#663831",
             "width": 2
            },
            "size": 10
           },
           "mode": "markers",
           "name": "football",
           "type": "scatter",
           "x": [
            19
           ],
           "y": [
            29.5900001525879
           ]
          }
         ],
         "name": "49"
        },
        {
         "data": [
          {
           "hoverinfo": "none",
           "mode": "text",
           "showlegend": false,
           "text": [
            "10",
            "20",
            "30",
            "40",
            "50",
            "40",
            "30",
            "20",
            "10"
           ],
           "textfont": {
            "color": "#ffffff",
            "family": "Courier New, monospace",
            "size": 30
           },
           "type": "scatter",
           "x": [
            20,
            30,
            40,
            50,
            60,
            70,
            80,
            90,
            100
           ],
           "y": [
            5,
            5,
            5,
            5,
            5,
            5,
            5,
            5,
            5
           ]
          },
          {
           "hoverinfo": "none",
           "mode": "text",
           "showlegend": false,
           "text": [
            "10",
            "20",
            "30",
            "40",
            "50",
            "40",
            "30",
            "20",
            "10"
           ],
           "textfont": {
            "color": "#ffffff",
            "family": "Courier New, monospace",
            "size": 30
           },
           "type": "scatter",
           "x": [
            20,
            30,
            40,
            50,
            60,
            70,
            80,
            90,
            100
           ],
           "y": [
            48.5,
            48.5,
            48.5,
            48.5,
            48.5,
            48.5,
            48.5,
            48.5,
            48.5
           ]
          },
          {
           "hoverinfo": "none",
           "line": {
            "color": "blue",
            "dash": "dash"
           },
           "showlegend": false,
           "type": "scatter",
           "x": [
            19,
            19
           ],
           "y": [
            0,
            53.5
           ]
          },
          {
           "hoverinfo": "none",
           "line": {
            "color": "yellow",
            "dash": "dash"
           },
           "showlegend": false,
           "type": "scatter",
           "x": [
            10,
            10
           ],
           "y": [
            0,
            53.5
           ]
          },
          {
           "fill": "toself",
           "fillcolor": "#000000",
           "hoverinfo": "skip",
           "line": {
            "color": "white",
            "width": 3
           },
           "mode": "lines",
           "opacity": 1,
           "showlegend": false,
           "type": "scatter",
           "x": [
            0,
            0,
            10,
            10,
            0
           ],
           "y": [
            0,
            53.5,
            53.5,
            0,
            0
           ]
          },
          {
           "fill": "toself",
           "fillcolor": "#FFB612",
           "hoverinfo": "skip",
           "line": {
            "color": "white",
            "width": 3
           },
           "mode": "lines",
           "opacity": 1,
           "showlegend": false,
           "type": "scatter",
           "x": [
            110,
            110,
            120,
            120,
            110
           ],
           "y": [
            0,
            53.5,
            53.5,
            0,
            0
           ]
          },
          {
           "hoverinfo": "text",
           "hovertext": [
            "nflId:43299<br>displayName:Eli Apple<br>Player Speed:0.201 MPH",
            "nflId:43350<br>displayName:Vonn Bell<br>Player Speed:1.543 MPH",
            "nflId:43455<br>displayName:D.J. Reader<br>Player Speed:0.872 MPH",
            "nflId:43641<br>displayName:Mike Hilton<br>Player Speed:0.895 MPH",
            "nflId:44872<br>displayName:Chidobe Awuzie<br>Player Speed:0.761 MPH",
            "nflId:44915<br>displayName:Trey Hendrickson<br>Player Speed:0.403 MPH",
            "nflId:46123<br>displayName:Jessie Bates<br>Player Speed:0.38 MPH",
            "nflId:46138<br>displayName:B.J. Hill<br>Player Speed:0.045 MPH",
            "nflId:46146<br>displayName:Sam Hubbard<br>Player Speed:0.604 MPH",
            "nflId:47855<br>displayName:Germaine Pratt<br>Player Speed:0.425 MPH",
            "nflId:52473<br>displayName:Logan Wilson<br>Player Speed:0.537 MPH"
           ],
           "marker": {
            "color": "#000000",
            "line": {
             "color": "#FB4F14",
             "width": 2
            },
            "size": 10
           },
           "mode": "markers",
           "name": "CIN",
           "type": "scatter",
           "x": [
            13.09,
            16.76,
            17.93,
            15.17,
            12.66,
            18.29,
            8.29,
            17.44,
            18.01,
            14.88,
            14.55
           ],
           "y": [
            11.98,
            38.38,
            31.22,
            18.16,
            42.69,
            24.57,
            24.39,
            27.21,
            34.89,
            31.26,
            24.1
           ]
          },
          {
           "hoverinfo": "text",
           "hovertext": [
            "nflId:44814<br>displayName:Mitchell Trubisky<br>Player Speed:0.045 MPH",
            "nflId:46108<br>displayName:James Daniels<br>Player Speed:0.022 MPH",
            "nflId:46161<br>displayName:Chukwuma Okorafor<br>Player Speed:0.022 MPH",
            "nflId:46166<br>displayName:Mason Cole<br>Player Speed:0.022 MPH",
            "nflId:47849<br>displayName:Diontae Johnson<br>Player Speed:5.928 MPH",
            "nflId:52457<br>displayName:Chase Claypool<br>Player Speed:5.883 MPH",
            "nflId:52543<br>displayName:Kevin Dotson<br>Player Speed:0.022 MPH",
            "nflId:53453<br>displayName:Najee Harris<br>Player Speed:8.142 MPH",
            "nflId:53484<br>displayName:Pat Freiermuth<br>Player Speed:1.767 MPH",
            "nflId:53557<br>displayName:Dan Moore<br>Player Speed:0.022 MPH",
            "nflId:54517<br>displayName:George Pickens<br>Player Speed:3.78 MPH"
           ],
           "marker": {
            "color": "#FFB612",
            "line": {
             "color": "#101820",
             "width": 2
            },
            "size": 10
           },
           "mode": "markers",
           "name": "PIT",
           "type": "scatter",
           "x": [
            24.02,
            20.24,
            20.3,
            19.23,
            19.91,
            20.99,
            20.03,
            22.28,
            20.79,
            20.18,
            19.97
           ],
           "y": [
            29.6,
            31.16,
            32.74,
            29.61,
            40.41,
            19.8,
            28.06,
            35.79,
            23.08,
            26.35,
            11.94
           ]
          },
          {
           "hoverinfo": "none",
           "marker": {
            "color": "#CBB67C",
            "line": {
             "color": "#663831",
             "width": 2
            },
            "size": 10
           },
           "mode": "markers",
           "name": "football",
           "type": "scatter",
           "x": [
            19
           ],
           "y": [
            29.5900001525879
           ]
          }
         ],
         "name": "50"
        },
        {
         "data": [
          {
           "hoverinfo": "none",
           "mode": "text",
           "showlegend": false,
           "text": [
            "10",
            "20",
            "30",
            "40",
            "50",
            "40",
            "30",
            "20",
            "10"
           ],
           "textfont": {
            "color": "#ffffff",
            "family": "Courier New, monospace",
            "size": 30
           },
           "type": "scatter",
           "x": [
            20,
            30,
            40,
            50,
            60,
            70,
            80,
            90,
            100
           ],
           "y": [
            5,
            5,
            5,
            5,
            5,
            5,
            5,
            5,
            5
           ]
          },
          {
           "hoverinfo": "none",
           "mode": "text",
           "showlegend": false,
           "text": [
            "10",
            "20",
            "30",
            "40",
            "50",
            "40",
            "30",
            "20",
            "10"
           ],
           "textfont": {
            "color": "#ffffff",
            "family": "Courier New, monospace",
            "size": 30
           },
           "type": "scatter",
           "x": [
            20,
            30,
            40,
            50,
            60,
            70,
            80,
            90,
            100
           ],
           "y": [
            48.5,
            48.5,
            48.5,
            48.5,
            48.5,
            48.5,
            48.5,
            48.5,
            48.5
           ]
          },
          {
           "hoverinfo": "none",
           "line": {
            "color": "blue",
            "dash": "dash"
           },
           "showlegend": false,
           "type": "scatter",
           "x": [
            19,
            19
           ],
           "y": [
            0,
            53.5
           ]
          },
          {
           "hoverinfo": "none",
           "line": {
            "color": "yellow",
            "dash": "dash"
           },
           "showlegend": false,
           "type": "scatter",
           "x": [
            10,
            10
           ],
           "y": [
            0,
            53.5
           ]
          },
          {
           "fill": "toself",
           "fillcolor": "#000000",
           "hoverinfo": "skip",
           "line": {
            "color": "white",
            "width": 3
           },
           "mode": "lines",
           "opacity": 1,
           "showlegend": false,
           "type": "scatter",
           "x": [
            0,
            0,
            10,
            10,
            0
           ],
           "y": [
            0,
            53.5,
            53.5,
            0,
            0
           ]
          },
          {
           "fill": "toself",
           "fillcolor": "#FFB612",
           "hoverinfo": "skip",
           "line": {
            "color": "white",
            "width": 3
           },
           "mode": "lines",
           "opacity": 1,
           "showlegend": false,
           "type": "scatter",
           "x": [
            110,
            110,
            120,
            120,
            110
           ],
           "y": [
            0,
            53.5,
            53.5,
            0,
            0
           ]
          },
          {
           "hoverinfo": "text",
           "hovertext": [
            "nflId:43299<br>displayName:Eli Apple<br>Player Speed:0.246 MPH",
            "nflId:43350<br>displayName:Vonn Bell<br>Player Speed:1.812 MPH",
            "nflId:43455<br>displayName:D.J. Reader<br>Player Speed:0.962 MPH",
            "nflId:43641<br>displayName:Mike Hilton<br>Player Speed:1.118 MPH",
            "nflId:44872<br>displayName:Chidobe Awuzie<br>Player Speed:0.872 MPH",
            "nflId:44915<br>displayName:Trey Hendrickson<br>Player Speed:0.626 MPH",
            "nflId:46123<br>displayName:Jessie Bates<br>Player Speed:0.514 MPH",
            "nflId:46138<br>displayName:B.J. Hill<br>Player Speed:0.045 MPH",
            "nflId:46146<br>displayName:Sam Hubbard<br>Player Speed:0.671 MPH",
            "nflId:47855<br>displayName:Germaine Pratt<br>Player Speed:0.447 MPH",
            "nflId:52473<br>displayName:Logan Wilson<br>Player Speed:0.403 MPH"
           ],
           "marker": {
            "color": "#000000",
            "line": {
             "color": "#FB4F14",
             "width": 2
            },
            "size": 10
           },
           "mode": "markers",
           "name": "CIN",
           "type": "scatter",
           "x": [
            13.1,
            16.73,
            17.9,
            15.21,
            12.66,
            18.27,
            8.29,
            17.44,
            17.98,
            14.88,
            14.57
           ],
           "y": [
            11.98,
            38.31,
            31.19,
            18.18,
            42.65,
            24.55,
            24.41,
            27.22,
            34.9,
            31.28,
            24.1
           ]
          },
          {
           "hoverinfo": "text",
           "hovertext": [
            "nflId:44814<br>displayName:Mitchell Trubisky<br>Player Speed:0.045 MPH",
            "nflId:46108<br>displayName:James Daniels<br>Player Speed:0.0 MPH",
            "nflId:46161<br>displayName:Chukwuma Okorafor<br>Player Speed:0.022 MPH",
            "nflId:46166<br>displayName:Mason Cole<br>Player Speed:0.022 MPH",
            "nflId:47849<br>displayName:Diontae Johnson<br>Player Speed:5.883 MPH",
            "nflId:52457<br>displayName:Chase Claypool<br>Player Speed:6.577 MPH",
            "nflId:52543<br>displayName:Kevin Dotson<br>Player Speed:0.022 MPH",
            "nflId:53453<br>displayName:Najee Harris<br>Player Speed:8.299 MPH",
            "nflId:53484<br>displayName:Pat Freiermuth<br>Player Speed:2.08 MPH",
            "nflId:53557<br>displayName:Dan Moore<br>Player Speed:0.022 MPH",
            "nflId:54517<br>displayName:George Pickens<br>Player Speed:4.586 MPH"
           ],
           "marker": {
            "color": "#FFB612",
            "line": {
             "color": "#101820",
             "width": 2
            },
            "size": 10
           },
           "mode": "markers",
           "name": "PIT",
           "type": "scatter",
           "x": [
            24.02,
            20.24,
            20.3,
            19.24,
            19.93,
            21.08,
            20.03,
            22.47,
            20.82,
            20.18,
            20.02
           ],
           "y": [
            29.6,
            31.15,
            32.74,
            29.6,
            40.15,
            20.06,
            28.05,
            35.47,
            23.17,
            26.35,
            12.14
           ]
          },
          {
           "hoverinfo": "none",
           "marker": {
            "color": "#CBB67C",
            "line": {
             "color": "#663831",
             "width": 2
            },
            "size": 10
           },
           "mode": "markers",
           "name": "football",
           "type": "scatter",
           "x": [
            19
           ],
           "y": [
            29.5900001525879
           ]
          }
         ],
         "name": "51"
        },
        {
         "data": [
          {
           "hoverinfo": "none",
           "mode": "text",
           "showlegend": false,
           "text": [
            "10",
            "20",
            "30",
            "40",
            "50",
            "40",
            "30",
            "20",
            "10"
           ],
           "textfont": {
            "color": "#ffffff",
            "family": "Courier New, monospace",
            "size": 30
           },
           "type": "scatter",
           "x": [
            20,
            30,
            40,
            50,
            60,
            70,
            80,
            90,
            100
           ],
           "y": [
            5,
            5,
            5,
            5,
            5,
            5,
            5,
            5,
            5
           ]
          },
          {
           "hoverinfo": "none",
           "mode": "text",
           "showlegend": false,
           "text": [
            "10",
            "20",
            "30",
            "40",
            "50",
            "40",
            "30",
            "20",
            "10"
           ],
           "textfont": {
            "color": "#ffffff",
            "family": "Courier New, monospace",
            "size": 30
           },
           "type": "scatter",
           "x": [
            20,
            30,
            40,
            50,
            60,
            70,
            80,
            90,
            100
           ],
           "y": [
            48.5,
            48.5,
            48.5,
            48.5,
            48.5,
            48.5,
            48.5,
            48.5,
            48.5
           ]
          },
          {
           "hoverinfo": "none",
           "line": {
            "color": "blue",
            "dash": "dash"
           },
           "showlegend": false,
           "type": "scatter",
           "x": [
            19,
            19
           ],
           "y": [
            0,
            53.5
           ]
          },
          {
           "hoverinfo": "none",
           "line": {
            "color": "yellow",
            "dash": "dash"
           },
           "showlegend": false,
           "type": "scatter",
           "x": [
            10,
            10
           ],
           "y": [
            0,
            53.5
           ]
          },
          {
           "fill": "toself",
           "fillcolor": "#000000",
           "hoverinfo": "skip",
           "line": {
            "color": "white",
            "width": 3
           },
           "mode": "lines",
           "opacity": 1,
           "showlegend": false,
           "type": "scatter",
           "x": [
            0,
            0,
            10,
            10,
            0
           ],
           "y": [
            0,
            53.5,
            53.5,
            0,
            0
           ]
          },
          {
           "fill": "toself",
           "fillcolor": "#FFB612",
           "hoverinfo": "skip",
           "line": {
            "color": "white",
            "width": 3
           },
           "mode": "lines",
           "opacity": 1,
           "showlegend": false,
           "type": "scatter",
           "x": [
            110,
            110,
            120,
            120,
            110
           ],
           "y": [
            0,
            53.5,
            53.5,
            0,
            0
           ]
          },
          {
           "hoverinfo": "text",
           "hovertext": [
            "nflId:43299<br>displayName:Eli Apple<br>Player Speed:0.559 MPH",
            "nflId:43350<br>displayName:Vonn Bell<br>Player Speed:2.125 MPH",
            "nflId:43455<br>displayName:D.J. Reader<br>Player Speed:0.94 MPH",
            "nflId:43641<br>displayName:Mike Hilton<br>Player Speed:1.476 MPH",
            "nflId:44872<br>displayName:Chidobe Awuzie<br>Player Speed:1.118 MPH",
            "nflId:44915<br>displayName:Trey Hendrickson<br>Player Speed:0.716 MPH",
            "nflId:46123<br>displayName:Jessie Bates<br>Player Speed:0.671 MPH",
            "nflId:46138<br>displayName:B.J. Hill<br>Player Speed:0.022 MPH",
            "nflId:46146<br>displayName:Sam Hubbard<br>Player Speed:0.693 MPH",
            "nflId:47855<br>displayName:Germaine Pratt<br>Player Speed:0.47 MPH",
            "nflId:52473<br>displayName:Logan Wilson<br>Player Speed:0.559 MPH"
           ],
           "marker": {
            "color": "#000000",
            "line": {
             "color": "#FB4F14",
             "width": 2
            },
            "size": 10
           },
           "mode": "markers",
           "name": "CIN",
           "type": "scatter",
           "x": [
            13.1,
            16.68,
            17.88,
            15.25,
            12.66,
            18.26,
            8.27,
            17.44,
            17.95,
            14.88,
            14.59
           ],
           "y": [
            12.01,
            38.24,
            31.17,
            18.23,
            42.6,
            24.53,
            24.43,
            27.21,
            34.91,
            31.31,
            24.11
           ]
          },
          {
           "hoverinfo": "text",
           "hovertext": [
            "nflId:44814<br>displayName:Mitchell Trubisky<br>Player Speed:0.022 MPH",
            "nflId:46108<br>displayName:James Daniels<br>Player Speed:0.0 MPH",
            "nflId:46161<br>displayName:Chukwuma Okorafor<br>Player Speed:0.022 MPH",
            "nflId:46166<br>displayName:Mason Cole<br>Player Speed:0.022 MPH",
            "nflId:47849<br>displayName:Diontae Johnson<br>Player Speed:5.816 MPH",
            "nflId:52457<br>displayName:Chase Claypool<br>Player Speed:7.27 MPH",
            "nflId:52543<br>displayName:Kevin Dotson<br>Player Speed:0.022 MPH",
            "nflId:53453<br>displayName:Najee Harris<br>Player Speed:8.299 MPH",
            "nflId:53484<br>displayName:Pat Freiermuth<br>Player Speed:2.371 MPH",
            "nflId:53557<br>displayName:Dan Moore<br>Player Speed:0.022 MPH",
            "nflId:54517<br>displayName:George Pickens<br>Player Speed:5.391 MPH"
           ],
           "marker": {
            "color": "#FFB612",
            "line": {
             "color": "#101820",
             "width": 2
            },
            "size": 10
           },
           "mode": "markers",
           "name": "PIT",
           "type": "scatter",
           "x": [
            24.03,
            20.24,
            20.3,
            19.23,
            19.93,
            21.19,
            20.03,
            22.65,
            20.86,
            20.19,
            20.06
           ],
           "y": [
            29.6,
            31.15,
            32.73,
            29.6,
            39.89,
            20.35,
            28.05,
            35.15,
            23.26,
            26.35,
            12.36
           ]
          },
          {
           "hoverinfo": "none",
           "marker": {
            "color": "#CBB67C",
            "line": {
             "color": "#663831",
             "width": 2
            },
            "size": 10
           },
           "mode": "markers",
           "name": "football",
           "type": "scatter",
           "x": [
            19
           ],
           "y": [
            29.5900001525879
           ]
          }
         ],
         "name": "52"
        },
        {
         "data": [
          {
           "hoverinfo": "none",
           "mode": "text",
           "showlegend": false,
           "text": [
            "10",
            "20",
            "30",
            "40",
            "50",
            "40",
            "30",
            "20",
            "10"
           ],
           "textfont": {
            "color": "#ffffff",
            "family": "Courier New, monospace",
            "size": 30
           },
           "type": "scatter",
           "x": [
            20,
            30,
            40,
            50,
            60,
            70,
            80,
            90,
            100
           ],
           "y": [
            5,
            5,
            5,
            5,
            5,
            5,
            5,
            5,
            5
           ]
          },
          {
           "hoverinfo": "none",
           "mode": "text",
           "showlegend": false,
           "text": [
            "10",
            "20",
            "30",
            "40",
            "50",
            "40",
            "30",
            "20",
            "10"
           ],
           "textfont": {
            "color": "#ffffff",
            "family": "Courier New, monospace",
            "size": 30
           },
           "type": "scatter",
           "x": [
            20,
            30,
            40,
            50,
            60,
            70,
            80,
            90,
            100
           ],
           "y": [
            48.5,
            48.5,
            48.5,
            48.5,
            48.5,
            48.5,
            48.5,
            48.5,
            48.5
           ]
          },
          {
           "hoverinfo": "none",
           "line": {
            "color": "blue",
            "dash": "dash"
           },
           "showlegend": false,
           "type": "scatter",
           "x": [
            19,
            19
           ],
           "y": [
            0,
            53.5
           ]
          },
          {
           "hoverinfo": "none",
           "line": {
            "color": "yellow",
            "dash": "dash"
           },
           "showlegend": false,
           "type": "scatter",
           "x": [
            10,
            10
           ],
           "y": [
            0,
            53.5
           ]
          },
          {
           "fill": "toself",
           "fillcolor": "#000000",
           "hoverinfo": "skip",
           "line": {
            "color": "white",
            "width": 3
           },
           "mode": "lines",
           "opacity": 1,
           "showlegend": false,
           "type": "scatter",
           "x": [
            0,
            0,
            10,
            10,
            0
           ],
           "y": [
            0,
            53.5,
            53.5,
            0,
            0
           ]
          },
          {
           "fill": "toself",
           "fillcolor": "#FFB612",
           "hoverinfo": "skip",
           "line": {
            "color": "white",
            "width": 3
           },
           "mode": "lines",
           "opacity": 1,
           "showlegend": false,
           "type": "scatter",
           "x": [
            110,
            110,
            120,
            120,
            110
           ],
           "y": [
            0,
            53.5,
            53.5,
            0,
            0
           ]
          },
          {
           "hoverinfo": "text",
           "hovertext": [
            "nflId:43299<br>displayName:Eli Apple<br>Player Speed:0.85 MPH",
            "nflId:43350<br>displayName:Vonn Bell<br>Player Speed:2.371 MPH",
            "nflId:43455<br>displayName:D.J. Reader<br>Player Speed:0.85 MPH",
            "nflId:43641<br>displayName:Mike Hilton<br>Player Speed:1.812 MPH",
            "nflId:44872<br>displayName:Chidobe Awuzie<br>Player Speed:1.32 MPH",
            "nflId:44915<br>displayName:Trey Hendrickson<br>Player Speed:0.783 MPH",
            "nflId:46123<br>displayName:Jessie Bates<br>Player Speed:0.761 MPH",
            "nflId:46138<br>displayName:B.J. Hill<br>Player Speed:0.022 MPH",
            "nflId:46146<br>displayName:Sam Hubbard<br>Player Speed:0.649 MPH",
            "nflId:47855<br>displayName:Germaine Pratt<br>Player Speed:0.447 MPH",
            "nflId:52473<br>displayName:Logan Wilson<br>Player Speed:0.805 MPH"
           ],
           "marker": {
            "color": "#000000",
            "line": {
             "color": "#FB4F14",
             "width": 2
            },
            "size": 10
           },
           "mode": "markers",
           "name": "CIN",
           "type": "scatter",
           "x": [
            13.1,
            16.61,
            17.85,
            15.3,
            12.66,
            18.24,
            8.26,
            17.44,
            17.92,
            14.88,
            14.59
           ],
           "y": [
            12.04,
            38.16,
            31.15,
            18.29,
            42.54,
            24.5,
            24.46,
            27.22,
            34.89,
            31.33,
            24.14
           ]
          },
          {
           "hoverinfo": "text",
           "hovertext": [
            "nflId:44814<br>displayName:Mitchell Trubisky<br>Player Speed:0.022 MPH",
            "nflId:46108<br>displayName:James Daniels<br>Player Speed:0.0 MPH",
            "nflId:46161<br>displayName:Chukwuma Okorafor<br>Player Speed:0.022 MPH",
            "nflId:46166<br>displayName:Mason Cole<br>Player Speed:0.022 MPH",
            "nflId:47849<br>displayName:Diontae Johnson<br>Player Speed:5.727 MPH",
            "nflId:52457<br>displayName:Chase Claypool<br>Player Speed:8.098 MPH",
            "nflId:52543<br>displayName:Kevin Dotson<br>Player Speed:0.022 MPH",
            "nflId:53453<br>displayName:Najee Harris<br>Player Speed:8.098 MPH",
            "nflId:53484<br>displayName:Pat Freiermuth<br>Player Speed:2.796 MPH",
            "nflId:53557<br>displayName:Dan Moore<br>Player Speed:0.022 MPH",
            "nflId:54517<br>displayName:George Pickens<br>Player Speed:6.196 MPH"
           ],
           "marker": {
            "color": "#FFB612",
            "line": {
             "color": "#101820",
             "width": 2
            },
            "size": 10
           },
           "mode": "markers",
           "name": "PIT",
           "type": "scatter",
           "x": [
            24.03,
            20.24,
            20.29,
            19.21,
            19.93,
            21.3,
            20.03,
            22.82,
            20.9,
            20.19,
            20.1
           ],
           "y": [
            29.6,
            31.15,
            32.73,
            29.6,
            39.63,
            20.68,
            28.06,
            34.84,
            23.38,
            26.35,
            12.62
           ]
          },
          {
           "hoverinfo": "none",
           "marker": {
            "color": "#CBB67C",
            "line": {
             "color": "#663831",
             "width": 2
            },
            "size": 10
           },
           "mode": "markers",
           "name": "football",
           "type": "scatter",
           "x": [
            18.9899997711182
           ],
           "y": [
            29.5900001525879
           ]
          }
         ],
         "name": "53"
        },
        {
         "data": [
          {
           "hoverinfo": "none",
           "mode": "text",
           "showlegend": false,
           "text": [
            "10",
            "20",
            "30",
            "40",
            "50",
            "40",
            "30",
            "20",
            "10"
           ],
           "textfont": {
            "color": "#ffffff",
            "family": "Courier New, monospace",
            "size": 30
           },
           "type": "scatter",
           "x": [
            20,
            30,
            40,
            50,
            60,
            70,
            80,
            90,
            100
           ],
           "y": [
            5,
            5,
            5,
            5,
            5,
            5,
            5,
            5,
            5
           ]
          },
          {
           "hoverinfo": "none",
           "mode": "text",
           "showlegend": false,
           "text": [
            "10",
            "20",
            "30",
            "40",
            "50",
            "40",
            "30",
            "20",
            "10"
           ],
           "textfont": {
            "color": "#ffffff",
            "family": "Courier New, monospace",
            "size": 30
           },
           "type": "scatter",
           "x": [
            20,
            30,
            40,
            50,
            60,
            70,
            80,
            90,
            100
           ],
           "y": [
            48.5,
            48.5,
            48.5,
            48.5,
            48.5,
            48.5,
            48.5,
            48.5,
            48.5
           ]
          },
          {
           "hoverinfo": "none",
           "line": {
            "color": "blue",
            "dash": "dash"
           },
           "showlegend": false,
           "type": "scatter",
           "x": [
            19,
            19
           ],
           "y": [
            0,
            53.5
           ]
          },
          {
           "hoverinfo": "none",
           "line": {
            "color": "yellow",
            "dash": "dash"
           },
           "showlegend": false,
           "type": "scatter",
           "x": [
            10,
            10
           ],
           "y": [
            0,
            53.5
           ]
          },
          {
           "fill": "toself",
           "fillcolor": "#000000",
           "hoverinfo": "skip",
           "line": {
            "color": "white",
            "width": 3
           },
           "mode": "lines",
           "opacity": 1,
           "showlegend": false,
           "type": "scatter",
           "x": [
            0,
            0,
            10,
            10,
            0
           ],
           "y": [
            0,
            53.5,
            53.5,
            0,
            0
           ]
          },
          {
           "fill": "toself",
           "fillcolor": "#FFB612",
           "hoverinfo": "skip",
           "line": {
            "color": "white",
            "width": 3
           },
           "mode": "lines",
           "opacity": 1,
           "showlegend": false,
           "type": "scatter",
           "x": [
            110,
            110,
            120,
            120,
            110
           ],
           "y": [
            0,
            53.5,
            53.5,
            0,
            0
           ]
          },
          {
           "hoverinfo": "text",
           "hovertext": [
            "nflId:43299<br>displayName:Eli Apple<br>Player Speed:1.163 MPH",
            "nflId:43350<br>displayName:Vonn Bell<br>Player Speed:2.595 MPH",
            "nflId:43455<br>displayName:D.J. Reader<br>Player Speed:0.671 MPH",
            "nflId:43641<br>displayName:Mike Hilton<br>Player Speed:2.259 MPH",
            "nflId:44872<br>displayName:Chidobe Awuzie<br>Player Speed:1.476 MPH",
            "nflId:44915<br>displayName:Trey Hendrickson<br>Player Speed:0.671 MPH",
            "nflId:46123<br>displayName:Jessie Bates<br>Player Speed:0.604 MPH",
            "nflId:46138<br>displayName:B.J. Hill<br>Player Speed:0.022 MPH",
            "nflId:46146<br>displayName:Sam Hubbard<br>Player Speed:0.626 MPH",
            "nflId:47855<br>displayName:Germaine Pratt<br>Player Speed:0.358 MPH",
            "nflId:52473<br>displayName:Logan Wilson<br>Player Speed:1.096 MPH"
           ],
           "marker": {
            "color": "#000000",
            "line": {
             "color": "#FB4F14",
             "width": 2
            },
            "size": 10
           },
           "mode": "markers",
           "name": "CIN",
           "type": "scatter",
           "x": [
            13.09,
            16.54,
            17.82,
            15.34,
            12.67,
            18.22,
            8.25,
            17.44,
            17.9,
            14.87,
            14.6
           ],
           "y": [
            12.08,
            38.08,
            31.14,
            18.38,
            42.48,
            24.47,
            24.48,
            27.21,
            34.9,
            31.35,
            24.18
           ]
          },
          {
           "hoverinfo": "text",
           "hovertext": [
            "nflId:44814<br>displayName:Mitchell Trubisky<br>Player Speed:0.022 MPH",
            "nflId:46108<br>displayName:James Daniels<br>Player Speed:0.0 MPH",
            "nflId:46161<br>displayName:Chukwuma Okorafor<br>Player Speed:0.0 MPH",
            "nflId:46166<br>displayName:Mason Cole<br>Player Speed:0.022 MPH",
            "nflId:47849<br>displayName:Diontae Johnson<br>Player Speed:5.57 MPH",
            "nflId:52457<br>displayName:Chase Claypool<br>Player Speed:8.657 MPH",
            "nflId:52543<br>displayName:Kevin Dotson<br>Player Speed:0.022 MPH",
            "nflId:53453<br>displayName:Najee Harris<br>Player Speed:7.874 MPH",
            "nflId:53484<br>displayName:Pat Freiermuth<br>Player Speed:2.997 MPH",
            "nflId:53557<br>displayName:Dan Moore<br>Player Speed:0.0 MPH",
            "nflId:54517<br>displayName:George Pickens<br>Player Speed:7.002 MPH"
           ],
           "marker": {
            "color": "#FFB612",
            "line": {
             "color": "#101820",
             "width": 2
            },
            "size": 10
           },
           "mode": "markers",
           "name": "PIT",
           "type": "scatter",
           "x": [
            24.03,
            20.24,
            20.29,
            19.21,
            19.93,
            21.41,
            20.03,
            22.97,
            20.95,
            20.19,
            20.14
           ],
           "y": [
            29.61,
            31.15,
            32.73,
            29.6,
            39.38,
            21.04,
            28.05,
            34.52,
            23.51,
            26.34,
            12.92
           ]
          },
          {
           "hoverinfo": "none",
           "marker": {
            "color": "#CBB67C",
            "line": {
             "color": "#663831",
             "width": 2
            },
            "size": 10
           },
           "mode": "markers",
           "name": "football",
           "type": "scatter",
           "x": [
            18.9899997711182
           ],
           "y": [
            29.5900001525879
           ]
          }
         ],
         "name": "54"
        },
        {
         "data": [
          {
           "hoverinfo": "none",
           "mode": "text",
           "showlegend": false,
           "text": [
            "10",
            "20",
            "30",
            "40",
            "50",
            "40",
            "30",
            "20",
            "10"
           ],
           "textfont": {
            "color": "#ffffff",
            "family": "Courier New, monospace",
            "size": 30
           },
           "type": "scatter",
           "x": [
            20,
            30,
            40,
            50,
            60,
            70,
            80,
            90,
            100
           ],
           "y": [
            5,
            5,
            5,
            5,
            5,
            5,
            5,
            5,
            5
           ]
          },
          {
           "hoverinfo": "none",
           "mode": "text",
           "showlegend": false,
           "text": [
            "10",
            "20",
            "30",
            "40",
            "50",
            "40",
            "30",
            "20",
            "10"
           ],
           "textfont": {
            "color": "#ffffff",
            "family": "Courier New, monospace",
            "size": 30
           },
           "type": "scatter",
           "x": [
            20,
            30,
            40,
            50,
            60,
            70,
            80,
            90,
            100
           ],
           "y": [
            48.5,
            48.5,
            48.5,
            48.5,
            48.5,
            48.5,
            48.5,
            48.5,
            48.5
           ]
          },
          {
           "hoverinfo": "none",
           "line": {
            "color": "blue",
            "dash": "dash"
           },
           "showlegend": false,
           "type": "scatter",
           "x": [
            19,
            19
           ],
           "y": [
            0,
            53.5
           ]
          },
          {
           "hoverinfo": "none",
           "line": {
            "color": "yellow",
            "dash": "dash"
           },
           "showlegend": false,
           "type": "scatter",
           "x": [
            10,
            10
           ],
           "y": [
            0,
            53.5
           ]
          },
          {
           "fill": "toself",
           "fillcolor": "#000000",
           "hoverinfo": "skip",
           "line": {
            "color": "white",
            "width": 3
           },
           "mode": "lines",
           "opacity": 1,
           "showlegend": false,
           "type": "scatter",
           "x": [
            0,
            0,
            10,
            10,
            0
           ],
           "y": [
            0,
            53.5,
            53.5,
            0,
            0
           ]
          },
          {
           "fill": "toself",
           "fillcolor": "#FFB612",
           "hoverinfo": "skip",
           "line": {
            "color": "white",
            "width": 3
           },
           "mode": "lines",
           "opacity": 1,
           "showlegend": false,
           "type": "scatter",
           "x": [
            110,
            110,
            120,
            120,
            110
           ],
           "y": [
            0,
            53.5,
            53.5,
            0,
            0
           ]
          },
          {
           "hoverinfo": "text",
           "hovertext": [
            "nflId:43299<br>displayName:Eli Apple<br>Player Speed:1.476 MPH",
            "nflId:43350<br>displayName:Vonn Bell<br>Player Speed:2.863 MPH",
            "nflId:43455<br>displayName:D.J. Reader<br>Player Speed:0.626 MPH",
            "nflId:43641<br>displayName:Mike Hilton<br>Player Speed:2.729 MPH",
            "nflId:44872<br>displayName:Chidobe Awuzie<br>Player Speed:1.745 MPH",
            "nflId:44915<br>displayName:Trey Hendrickson<br>Player Speed:0.514 MPH",
            "nflId:46123<br>displayName:Jessie Bates<br>Player Speed:0.738 MPH",
            "nflId:46138<br>displayName:B.J. Hill<br>Player Speed:0.0 MPH",
            "nflId:46146<br>displayName:Sam Hubbard<br>Player Speed:0.604 MPH",
            "nflId:47855<br>displayName:Germaine Pratt<br>Player Speed:0.246 MPH",
            "nflId:52473<br>displayName:Logan Wilson<br>Player Speed:1.387 MPH"
           ],
           "marker": {
            "color": "#000000",
            "line": {
             "color": "#FB4F14",
             "width": 2
            },
            "size": 10
           },
           "mode": "markers",
           "name": "CIN",
           "type": "scatter",
           "x": [
            13.08,
            16.45,
            17.8,
            15.38,
            12.68,
            18.21,
            8.24,
            17.44,
            17.87,
            14.86,
            14.6
           ],
           "y": [
            12.14,
            37.99,
            31.12,
            18.48,
            42.41,
            24.46,
            24.52,
            27.22,
            34.89,
            31.36,
            24.24
           ]
          },
          {
           "hoverinfo": "text",
           "hovertext": [
            "nflId:44814<br>displayName:Mitchell Trubisky<br>Player Speed:0.022 MPH",
            "nflId:46108<br>displayName:James Daniels<br>Player Speed:0.0 MPH",
            "nflId:46161<br>displayName:Chukwuma Okorafor<br>Player Speed:0.0 MPH",
            "nflId:46166<br>displayName:Mason Cole<br>Player Speed:0.022 MPH",
            "nflId:47849<br>displayName:Diontae Johnson<br>Player Speed:5.302 MPH",
            "nflId:52457<br>displayName:Chase Claypool<br>Player Speed:9.127 MPH",
            "nflId:52543<br>displayName:Kevin Dotson<br>Player Speed:0.022 MPH",
            "nflId:53453<br>displayName:Najee Harris<br>Player Speed:7.471 MPH",
            "nflId:53484<br>displayName:Pat Freiermuth<br>Player Speed:3.109 MPH",
            "nflId:53557<br>displayName:Dan Moore<br>Player Speed:0.0 MPH",
            "nflId:54517<br>displayName:George Pickens<br>Player Speed:7.65 MPH"
           ],
           "marker": {
            "color": "#FFB612",
            "line": {
             "color": "#101820",
             "width": 2
            },
            "size": 10
           },
           "mode": "markers",
           "name": "PIT",
           "type": "scatter",
           "x": [
            24.03,
            20.23,
            20.29,
            19.2,
            19.92,
            21.53,
            20.03,
            23.12,
            20.99,
            20.18,
            20.19
           ],
           "y": [
            29.61,
            31.15,
            32.73,
            29.6,
            39.14,
            21.42,
            28.05,
            34.21,
            23.64,
            26.34,
            13.24
           ]
          },
          {
           "hoverinfo": "none",
           "marker": {
            "color": "#CBB67C",
            "line": {
             "color": "#663831",
             "width": 2
            },
            "size": 10
           },
           "mode": "markers",
           "name": "football",
           "type": "scatter",
           "x": [
            18.9899997711182
           ],
           "y": [
            29.5900001525879
           ]
          }
         ],
         "name": "55"
        },
        {
         "data": [
          {
           "hoverinfo": "none",
           "mode": "text",
           "showlegend": false,
           "text": [
            "10",
            "20",
            "30",
            "40",
            "50",
            "40",
            "30",
            "20",
            "10"
           ],
           "textfont": {
            "color": "#ffffff",
            "family": "Courier New, monospace",
            "size": 30
           },
           "type": "scatter",
           "x": [
            20,
            30,
            40,
            50,
            60,
            70,
            80,
            90,
            100
           ],
           "y": [
            5,
            5,
            5,
            5,
            5,
            5,
            5,
            5,
            5
           ]
          },
          {
           "hoverinfo": "none",
           "mode": "text",
           "showlegend": false,
           "text": [
            "10",
            "20",
            "30",
            "40",
            "50",
            "40",
            "30",
            "20",
            "10"
           ],
           "textfont": {
            "color": "#ffffff",
            "family": "Courier New, monospace",
            "size": 30
           },
           "type": "scatter",
           "x": [
            20,
            30,
            40,
            50,
            60,
            70,
            80,
            90,
            100
           ],
           "y": [
            48.5,
            48.5,
            48.5,
            48.5,
            48.5,
            48.5,
            48.5,
            48.5,
            48.5
           ]
          },
          {
           "hoverinfo": "none",
           "line": {
            "color": "blue",
            "dash": "dash"
           },
           "showlegend": false,
           "type": "scatter",
           "x": [
            19,
            19
           ],
           "y": [
            0,
            53.5
           ]
          },
          {
           "hoverinfo": "none",
           "line": {
            "color": "yellow",
            "dash": "dash"
           },
           "showlegend": false,
           "type": "scatter",
           "x": [
            10,
            10
           ],
           "y": [
            0,
            53.5
           ]
          },
          {
           "fill": "toself",
           "fillcolor": "#000000",
           "hoverinfo": "skip",
           "line": {
            "color": "white",
            "width": 3
           },
           "mode": "lines",
           "opacity": 1,
           "showlegend": false,
           "type": "scatter",
           "x": [
            0,
            0,
            10,
            10,
            0
           ],
           "y": [
            0,
            53.5,
            53.5,
            0,
            0
           ]
          },
          {
           "fill": "toself",
           "fillcolor": "#FFB612",
           "hoverinfo": "skip",
           "line": {
            "color": "white",
            "width": 3
           },
           "mode": "lines",
           "opacity": 1,
           "showlegend": false,
           "type": "scatter",
           "x": [
            110,
            110,
            120,
            120,
            110
           ],
           "y": [
            0,
            53.5,
            53.5,
            0,
            0
           ]
          },
          {
           "hoverinfo": "text",
           "hovertext": [
            "nflId:43299<br>displayName:Eli Apple<br>Player Speed:1.767 MPH",
            "nflId:43350<br>displayName:Vonn Bell<br>Player Speed:3.087 MPH",
            "nflId:43455<br>displayName:D.J. Reader<br>Player Speed:0.559 MPH",
            "nflId:43641<br>displayName:Mike Hilton<br>Player Speed:3.176 MPH",
            "nflId:44872<br>displayName:Chidobe Awuzie<br>Player Speed:2.036 MPH",
            "nflId:44915<br>displayName:Trey Hendrickson<br>Player Speed:0.425 MPH",
            "nflId:46123<br>displayName:Jessie Bates<br>Player Speed:0.738 MPH",
            "nflId:46138<br>displayName:B.J. Hill<br>Player Speed:0.0 MPH",
            "nflId:46146<br>displayName:Sam Hubbard<br>Player Speed:0.492 MPH",
            "nflId:47855<br>displayName:Germaine Pratt<br>Player Speed:0.089 MPH",
            "nflId:52473<br>displayName:Logan Wilson<br>Player Speed:1.588 MPH"
           ],
           "marker": {
            "color": "#000000",
            "line": {
             "color": "#FB4F14",
             "width": 2
            },
            "size": 10
           },
           "mode": "markers",
           "name": "CIN",
           "type": "scatter",
           "x": [
            13.07,
            16.35,
            17.78,
            15.42,
            12.7,
            18.19,
            8.24,
            17.43,
            17.87,
            14.86,
            14.61
           ],
           "y": [
            12.21,
            37.9,
            31.1,
            18.61,
            42.32,
            24.45,
            24.55,
            27.22,
            34.87,
            31.36,
            24.3
           ]
          },
          {
           "hoverinfo": "text",
           "hovertext": [
            "nflId:44814<br>displayName:Mitchell Trubisky<br>Player Speed:0.022 MPH",
            "nflId:46108<br>displayName:James Daniels<br>Player Speed:0.0 MPH",
            "nflId:46161<br>displayName:Chukwuma Okorafor<br>Player Speed:0.0 MPH",
            "nflId:46166<br>displayName:Mason Cole<br>Player Speed:0.022 MPH",
            "nflId:47849<br>displayName:Diontae Johnson<br>Player Speed:5.011 MPH",
            "nflId:52457<br>displayName:Chase Claypool<br>Player Speed:9.686 MPH",
            "nflId:52543<br>displayName:Kevin Dotson<br>Player Speed:0.022 MPH",
            "nflId:53453<br>displayName:Najee Harris<br>Player Speed:7.046 MPH",
            "nflId:53484<br>displayName:Pat Freiermuth<br>Player Speed:3.199 MPH",
            "nflId:53557<br>displayName:Dan Moore<br>Player Speed:0.0 MPH",
            "nflId:54517<br>displayName:George Pickens<br>Player Speed:8.389 MPH"
           ],
           "marker": {
            "color": "#FFB612",
            "line": {
             "color": "#101820",
             "width": 2
            },
            "size": 10
           },
           "mode": "markers",
           "name": "PIT",
           "type": "scatter",
           "x": [
            24.03,
            20.23,
            20.29,
            19.2,
            19.89,
            21.64,
            20.03,
            23.25,
            21.02,
            20.18,
            20.22
           ],
           "y": [
            29.61,
            31.15,
            32.72,
            29.6,
            38.91,
            21.83,
            28.05,
            33.92,
            23.77,
            26.35,
            13.6
           ]
          },
          {
           "hoverinfo": "none",
           "marker": {
            "color": "#CBB67C",
            "line": {
             "color": "#663831",
             "width": 2
            },
            "size": 10
           },
           "mode": "markers",
           "name": "football",
           "type": "scatter",
           "x": [
            18.9899997711182
           ],
           "y": [
            29.5900001525879
           ]
          }
         ],
         "name": "56"
        },
        {
         "data": [
          {
           "hoverinfo": "none",
           "mode": "text",
           "showlegend": false,
           "text": [
            "10",
            "20",
            "30",
            "40",
            "50",
            "40",
            "30",
            "20",
            "10"
           ],
           "textfont": {
            "color": "#ffffff",
            "family": "Courier New, monospace",
            "size": 30
           },
           "type": "scatter",
           "x": [
            20,
            30,
            40,
            50,
            60,
            70,
            80,
            90,
            100
           ],
           "y": [
            5,
            5,
            5,
            5,
            5,
            5,
            5,
            5,
            5
           ]
          },
          {
           "hoverinfo": "none",
           "mode": "text",
           "showlegend": false,
           "text": [
            "10",
            "20",
            "30",
            "40",
            "50",
            "40",
            "30",
            "20",
            "10"
           ],
           "textfont": {
            "color": "#ffffff",
            "family": "Courier New, monospace",
            "size": 30
           },
           "type": "scatter",
           "x": [
            20,
            30,
            40,
            50,
            60,
            70,
            80,
            90,
            100
           ],
           "y": [
            48.5,
            48.5,
            48.5,
            48.5,
            48.5,
            48.5,
            48.5,
            48.5,
            48.5
           ]
          },
          {
           "hoverinfo": "none",
           "line": {
            "color": "blue",
            "dash": "dash"
           },
           "showlegend": false,
           "type": "scatter",
           "x": [
            19,
            19
           ],
           "y": [
            0,
            53.5
           ]
          },
          {
           "hoverinfo": "none",
           "line": {
            "color": "yellow",
            "dash": "dash"
           },
           "showlegend": false,
           "type": "scatter",
           "x": [
            10,
            10
           ],
           "y": [
            0,
            53.5
           ]
          },
          {
           "fill": "toself",
           "fillcolor": "#000000",
           "hoverinfo": "skip",
           "line": {
            "color": "white",
            "width": 3
           },
           "mode": "lines",
           "opacity": 1,
           "showlegend": false,
           "type": "scatter",
           "x": [
            0,
            0,
            10,
            10,
            0
           ],
           "y": [
            0,
            53.5,
            53.5,
            0,
            0
           ]
          },
          {
           "fill": "toself",
           "fillcolor": "#FFB612",
           "hoverinfo": "skip",
           "line": {
            "color": "white",
            "width": 3
           },
           "mode": "lines",
           "opacity": 1,
           "showlegend": false,
           "type": "scatter",
           "x": [
            110,
            110,
            120,
            120,
            110
           ],
           "y": [
            0,
            53.5,
            53.5,
            0,
            0
           ]
          },
          {
           "hoverinfo": "text",
           "hovertext": [
            "nflId:43299<br>displayName:Eli Apple<br>Player Speed:2.147 MPH",
            "nflId:43350<br>displayName:Vonn Bell<br>Player Speed:3.199 MPH",
            "nflId:43455<br>displayName:D.J. Reader<br>Player Speed:0.403 MPH",
            "nflId:43641<br>displayName:Mike Hilton<br>Player Speed:3.713 MPH",
            "nflId:44872<br>displayName:Chidobe Awuzie<br>Player Speed:2.103 MPH",
            "nflId:44915<br>displayName:Trey Hendrickson<br>Player Speed:0.291 MPH",
            "nflId:46123<br>displayName:Jessie Bates<br>Player Speed:0.761 MPH",
            "nflId:46138<br>displayName:B.J. Hill<br>Player Speed:0.0 MPH",
            "nflId:46146<br>displayName:Sam Hubbard<br>Player Speed:0.358 MPH",
            "nflId:47855<br>displayName:Germaine Pratt<br>Player Speed:0.134 MPH",
            "nflId:52473<br>displayName:Logan Wilson<br>Player Speed:1.857 MPH"
           ],
           "marker": {
            "color": "#000000",
            "line": {
             "color": "#FB4F14",
             "width": 2
            },
            "size": 10
           },
           "mode": "markers",
           "name": "CIN",
           "type": "scatter",
           "x": [
            13.06,
            16.24,
            17.77,
            15.46,
            12.73,
            18.18,
            8.25,
            17.43,
            17.88,
            14.86,
            14.62
           ],
           "y": [
            12.3,
            37.81,
            31.09,
            18.76,
            42.24,
            24.46,
            24.59,
            27.22,
            34.86,
            31.36,
            24.38
           ]
          },
          {
           "hoverinfo": "text",
           "hovertext": [
            "nflId:44814<br>displayName:Mitchell Trubisky<br>Player Speed:0.022 MPH",
            "nflId:46108<br>displayName:James Daniels<br>Player Speed:0.0 MPH",
            "nflId:46161<br>displayName:Chukwuma Okorafor<br>Player Speed:0.0 MPH",
            "nflId:46166<br>displayName:Mason Cole<br>Player Speed:0.022 MPH",
            "nflId:47849<br>displayName:Diontae Johnson<br>Player Speed:4.72 MPH",
            "nflId:52457<br>displayName:Chase Claypool<br>Player Speed:10.178 MPH",
            "nflId:52543<br>displayName:Kevin Dotson<br>Player Speed:0.022 MPH",
            "nflId:53453<br>displayName:Najee Harris<br>Player Speed:6.509 MPH",
            "nflId:53484<br>displayName:Pat Freiermuth<br>Player Speed:3.333 MPH",
            "nflId:53557<br>displayName:Dan Moore<br>Player Speed:0.0 MPH",
            "nflId:54517<br>displayName:George Pickens<br>Player Speed:8.948 MPH"
           ],
           "marker": {
            "color": "#FFB612",
            "line": {
             "color": "#101820",
             "width": 2
            },
            "size": 10
           },
           "mode": "markers",
           "name": "PIT",
           "type": "scatter",
           "x": [
            24.03,
            20.23,
            20.29,
            19.2,
            19.87,
            21.74,
            20.03,
            23.37,
            21.06,
            20.18,
            20.26
           ],
           "y": [
            29.61,
            31.15,
            32.72,
            29.6,
            38.7,
            22.27,
            28.05,
            33.65,
            23.92,
            26.35,
            13.99
           ]
          },
          {
           "hoverinfo": "none",
           "marker": {
            "color": "#CBB67C",
            "line": {
             "color": "#663831",
             "width": 2
            },
            "size": 10
           },
           "mode": "markers",
           "name": "football",
           "type": "scatter",
           "x": [
            18.9899997711182
           ],
           "y": [
            29.5900001525879
           ]
          }
         ],
         "name": "57"
        },
        {
         "data": [
          {
           "hoverinfo": "none",
           "mode": "text",
           "showlegend": false,
           "text": [
            "10",
            "20",
            "30",
            "40",
            "50",
            "40",
            "30",
            "20",
            "10"
           ],
           "textfont": {
            "color": "#ffffff",
            "family": "Courier New, monospace",
            "size": 30
           },
           "type": "scatter",
           "x": [
            20,
            30,
            40,
            50,
            60,
            70,
            80,
            90,
            100
           ],
           "y": [
            5,
            5,
            5,
            5,
            5,
            5,
            5,
            5,
            5
           ]
          },
          {
           "hoverinfo": "none",
           "mode": "text",
           "showlegend": false,
           "text": [
            "10",
            "20",
            "30",
            "40",
            "50",
            "40",
            "30",
            "20",
            "10"
           ],
           "textfont": {
            "color": "#ffffff",
            "family": "Courier New, monospace",
            "size": 30
           },
           "type": "scatter",
           "x": [
            20,
            30,
            40,
            50,
            60,
            70,
            80,
            90,
            100
           ],
           "y": [
            48.5,
            48.5,
            48.5,
            48.5,
            48.5,
            48.5,
            48.5,
            48.5,
            48.5
           ]
          },
          {
           "hoverinfo": "none",
           "line": {
            "color": "blue",
            "dash": "dash"
           },
           "showlegend": false,
           "type": "scatter",
           "x": [
            19,
            19
           ],
           "y": [
            0,
            53.5
           ]
          },
          {
           "hoverinfo": "none",
           "line": {
            "color": "yellow",
            "dash": "dash"
           },
           "showlegend": false,
           "type": "scatter",
           "x": [
            10,
            10
           ],
           "y": [
            0,
            53.5
           ]
          },
          {
           "fill": "toself",
           "fillcolor": "#000000",
           "hoverinfo": "skip",
           "line": {
            "color": "white",
            "width": 3
           },
           "mode": "lines",
           "opacity": 1,
           "showlegend": false,
           "type": "scatter",
           "x": [
            0,
            0,
            10,
            10,
            0
           ],
           "y": [
            0,
            53.5,
            53.5,
            0,
            0
           ]
          },
          {
           "fill": "toself",
           "fillcolor": "#FFB612",
           "hoverinfo": "skip",
           "line": {
            "color": "white",
            "width": 3
           },
           "mode": "lines",
           "opacity": 1,
           "showlegend": false,
           "type": "scatter",
           "x": [
            110,
            110,
            120,
            120,
            110
           ],
           "y": [
            0,
            53.5,
            53.5,
            0,
            0
           ]
          },
          {
           "hoverinfo": "text",
           "hovertext": [
            "nflId:43299<br>displayName:Eli Apple<br>Player Speed:2.416 MPH",
            "nflId:43350<br>displayName:Vonn Bell<br>Player Speed:3.288 MPH",
            "nflId:43455<br>displayName:D.J. Reader<br>Player Speed:0.336 MPH",
            "nflId:43641<br>displayName:Mike Hilton<br>Player Speed:4.34 MPH",
            "nflId:44872<br>displayName:Chidobe Awuzie<br>Player Speed:2.259 MPH",
            "nflId:44915<br>displayName:Trey Hendrickson<br>Player Speed:0.358 MPH",
            "nflId:46123<br>displayName:Jessie Bates<br>Player Speed:0.805 MPH",
            "nflId:46138<br>displayName:B.J. Hill<br>Player Speed:0.0 MPH",
            "nflId:46146<br>displayName:Sam Hubbard<br>Player Speed:0.313 MPH",
            "nflId:47855<br>displayName:Germaine Pratt<br>Player Speed:0.201 MPH",
            "nflId:52473<br>displayName:Logan Wilson<br>Player Speed:2.058 MPH"
           ],
           "marker": {
            "color": "#000000",
            "line": {
             "color": "#FB4F14",
             "width": 2
            },
            "size": 10
           },
           "mode": "markers",
           "name": "CIN",
           "type": "scatter",
           "x": [
            13.06,
            16.12,
            17.76,
            15.5,
            12.76,
            18.16,
            8.28,
            17.43,
            17.88,
            14.87,
            14.63
           ],
           "y": [
            12.4,
            37.72,
            31.07,
            18.94,
            42.15,
            24.46,
            24.63,
            27.22,
            34.85,
            31.36,
            24.47
           ]
          },
          {
           "hoverinfo": "text",
           "hovertext": [
            "nflId:44814<br>displayName:Mitchell Trubisky<br>Player Speed:0.022 MPH",
            "nflId:46108<br>displayName:James Daniels<br>Player Speed:0.0 MPH",
            "nflId:46161<br>displayName:Chukwuma Okorafor<br>Player Speed:0.0 MPH",
            "nflId:46166<br>displayName:Mason Cole<br>Player Speed:0.022 MPH",
            "nflId:47849<br>displayName:Diontae Johnson<br>Player Speed:4.452 MPH",
            "nflId:52457<br>displayName:Chase Claypool<br>Player Speed:10.469 MPH",
            "nflId:52543<br>displayName:Kevin Dotson<br>Player Speed:0.0 MPH",
            "nflId:53453<br>displayName:Najee Harris<br>Player Speed:5.906 MPH",
            "nflId:53484<br>displayName:Pat Freiermuth<br>Player Speed:3.445 MPH",
            "nflId:53557<br>displayName:Dan Moore<br>Player Speed:0.0 MPH",
            "nflId:54517<br>displayName:George Pickens<br>Player Speed:9.283 MPH"
           ],
           "marker": {
            "color": "#FFB612",
            "line": {
             "color": "#101820",
             "width": 2
            },
            "size": 10
           },
           "mode": "markers",
           "name": "PIT",
           "type": "scatter",
           "x": [
            24.03,
            20.23,
            20.28,
            19.22,
            19.84,
            21.82,
            20.03,
            23.47,
            21.1,
            20.18,
            20.29
           ],
           "y": [
            29.61,
            31.15,
            32.71,
            29.6,
            38.49,
            22.73,
            28.05,
            33.39,
            24.06,
            26.35,
            14.4
           ]
          },
          {
           "hoverinfo": "none",
           "marker": {
            "color": "#CBB67C",
            "line": {
             "color": "#663831",
             "width": 2
            },
            "size": 10
           },
           "mode": "markers",
           "name": "football",
           "type": "scatter",
           "x": [
            18.9899997711182
           ],
           "y": [
            29.5900001525879
           ]
          }
         ],
         "name": "58"
        },
        {
         "data": [
          {
           "hoverinfo": "none",
           "mode": "text",
           "showlegend": false,
           "text": [
            "10",
            "20",
            "30",
            "40",
            "50",
            "40",
            "30",
            "20",
            "10"
           ],
           "textfont": {
            "color": "#ffffff",
            "family": "Courier New, monospace",
            "size": 30
           },
           "type": "scatter",
           "x": [
            20,
            30,
            40,
            50,
            60,
            70,
            80,
            90,
            100
           ],
           "y": [
            5,
            5,
            5,
            5,
            5,
            5,
            5,
            5,
            5
           ]
          },
          {
           "hoverinfo": "none",
           "mode": "text",
           "showlegend": false,
           "text": [
            "10",
            "20",
            "30",
            "40",
            "50",
            "40",
            "30",
            "20",
            "10"
           ],
           "textfont": {
            "color": "#ffffff",
            "family": "Courier New, monospace",
            "size": 30
           },
           "type": "scatter",
           "x": [
            20,
            30,
            40,
            50,
            60,
            70,
            80,
            90,
            100
           ],
           "y": [
            48.5,
            48.5,
            48.5,
            48.5,
            48.5,
            48.5,
            48.5,
            48.5,
            48.5
           ]
          },
          {
           "hoverinfo": "none",
           "line": {
            "color": "blue",
            "dash": "dash"
           },
           "showlegend": false,
           "type": "scatter",
           "x": [
            19,
            19
           ],
           "y": [
            0,
            53.5
           ]
          },
          {
           "hoverinfo": "none",
           "line": {
            "color": "yellow",
            "dash": "dash"
           },
           "showlegend": false,
           "type": "scatter",
           "x": [
            10,
            10
           ],
           "y": [
            0,
            53.5
           ]
          },
          {
           "fill": "toself",
           "fillcolor": "#000000",
           "hoverinfo": "skip",
           "line": {
            "color": "white",
            "width": 3
           },
           "mode": "lines",
           "opacity": 1,
           "showlegend": false,
           "type": "scatter",
           "x": [
            0,
            0,
            10,
            10,
            0
           ],
           "y": [
            0,
            53.5,
            53.5,
            0,
            0
           ]
          },
          {
           "fill": "toself",
           "fillcolor": "#FFB612",
           "hoverinfo": "skip",
           "line": {
            "color": "white",
            "width": 3
           },
           "mode": "lines",
           "opacity": 1,
           "showlegend": false,
           "type": "scatter",
           "x": [
            110,
            110,
            120,
            120,
            110
           ],
           "y": [
            0,
            53.5,
            53.5,
            0,
            0
           ]
          },
          {
           "hoverinfo": "text",
           "hovertext": [
            "nflId:43299<br>displayName:Eli Apple<br>Player Speed:2.595 MPH",
            "nflId:43350<br>displayName:Vonn Bell<br>Player Speed:3.445 MPH",
            "nflId:43455<br>displayName:D.J. Reader<br>Player Speed:0.403 MPH",
            "nflId:43641<br>displayName:Mike Hilton<br>Player Speed:5.033 MPH",
            "nflId:44872<br>displayName:Chidobe Awuzie<br>Player Speed:2.349 MPH",
            "nflId:44915<br>displayName:Trey Hendrickson<br>Player Speed:0.447 MPH",
            "nflId:46123<br>displayName:Jessie Bates<br>Player Speed:0.805 MPH",
            "nflId:46138<br>displayName:B.J. Hill<br>Player Speed:0.0 MPH",
            "nflId:46146<br>displayName:Sam Hubbard<br>Player Speed:0.291 MPH",
            "nflId:47855<br>displayName:Germaine Pratt<br>Player Speed:0.246 MPH",
            "nflId:52473<br>displayName:Logan Wilson<br>Player Speed:2.237 MPH"
           ],
           "marker": {
            "color": "#000000",
            "line": {
             "color": "#FB4F14",
             "width": 2
            },
            "size": 10
           },
           "mode": "markers",
           "name": "CIN",
           "type": "scatter",
           "x": [
            13.06,
            16.01,
            17.76,
            15.53,
            12.81,
            18.15,
            8.3,
            17.43,
            17.89,
            14.87,
            14.65
           ],
           "y": [
            12.51,
            37.62,
            31.05,
            19.15,
            42.05,
            24.47,
            24.67,
            27.22,
            34.81,
            31.35,
            24.56
           ]
          },
          {
           "hoverinfo": "text",
           "hovertext": [
            "nflId:44814<br>displayName:Mitchell Trubisky<br>Player Speed:0.022 MPH",
            "nflId:46108<br>displayName:James Daniels<br>Player Speed:0.0 MPH",
            "nflId:46161<br>displayName:Chukwuma Okorafor<br>Player Speed:0.0 MPH",
            "nflId:46166<br>displayName:Mason Cole<br>Player Speed:0.0 MPH",
            "nflId:47849<br>displayName:Diontae Johnson<br>Player Speed:4.094 MPH",
            "nflId:52457<br>displayName:Chase Claypool<br>Player Speed:10.715 MPH",
            "nflId:52543<br>displayName:Kevin Dotson<br>Player Speed:0.0 MPH",
            "nflId:53453<br>displayName:Najee Harris<br>Player Speed:5.369 MPH",
            "nflId:53484<br>displayName:Pat Freiermuth<br>Player Speed:3.467 MPH",
            "nflId:53557<br>displayName:Dan Moore<br>Player Speed:0.0 MPH",
            "nflId:54517<br>displayName:George Pickens<br>Player Speed:9.574 MPH"
           ],
           "marker": {
            "color": "#FFB612",
            "line": {
             "color": "#101820",
             "width": 2
            },
            "size": 10
           },
           "mode": "markers",
           "name": "PIT",
           "type": "scatter",
           "x": [
            24.03,
            20.23,
            20.29,
            19.22,
            19.82,
            21.9,
            20.03,
            23.56,
            21.14,
            20.18,
            20.32
           ],
           "y": [
            29.61,
            31.15,
            32.71,
            29.6,
            38.31,
            23.2,
            28.05,
            33.16,
            24.22,
            26.35,
            14.82
           ]
          },
          {
           "hoverinfo": "none",
           "marker": {
            "color": "#CBB67C",
            "line": {
             "color": "#663831",
             "width": 2
            },
            "size": 10
           },
           "mode": "markers",
           "name": "football",
           "type": "scatter",
           "x": [
            18.9899997711182
           ],
           "y": [
            29.5900001525879
           ]
          }
         ],
         "name": "59"
        },
        {
         "data": [
          {
           "hoverinfo": "none",
           "mode": "text",
           "showlegend": false,
           "text": [
            "10",
            "20",
            "30",
            "40",
            "50",
            "40",
            "30",
            "20",
            "10"
           ],
           "textfont": {
            "color": "#ffffff",
            "family": "Courier New, monospace",
            "size": 30
           },
           "type": "scatter",
           "x": [
            20,
            30,
            40,
            50,
            60,
            70,
            80,
            90,
            100
           ],
           "y": [
            5,
            5,
            5,
            5,
            5,
            5,
            5,
            5,
            5
           ]
          },
          {
           "hoverinfo": "none",
           "mode": "text",
           "showlegend": false,
           "text": [
            "10",
            "20",
            "30",
            "40",
            "50",
            "40",
            "30",
            "20",
            "10"
           ],
           "textfont": {
            "color": "#ffffff",
            "family": "Courier New, monospace",
            "size": 30
           },
           "type": "scatter",
           "x": [
            20,
            30,
            40,
            50,
            60,
            70,
            80,
            90,
            100
           ],
           "y": [
            48.5,
            48.5,
            48.5,
            48.5,
            48.5,
            48.5,
            48.5,
            48.5,
            48.5
           ]
          },
          {
           "hoverinfo": "none",
           "line": {
            "color": "blue",
            "dash": "dash"
           },
           "showlegend": false,
           "type": "scatter",
           "x": [
            19,
            19
           ],
           "y": [
            0,
            53.5
           ]
          },
          {
           "hoverinfo": "none",
           "line": {
            "color": "yellow",
            "dash": "dash"
           },
           "showlegend": false,
           "type": "scatter",
           "x": [
            10,
            10
           ],
           "y": [
            0,
            53.5
           ]
          },
          {
           "fill": "toself",
           "fillcolor": "#000000",
           "hoverinfo": "skip",
           "line": {
            "color": "white",
            "width": 3
           },
           "mode": "lines",
           "opacity": 1,
           "showlegend": false,
           "type": "scatter",
           "x": [
            0,
            0,
            10,
            10,
            0
           ],
           "y": [
            0,
            53.5,
            53.5,
            0,
            0
           ]
          },
          {
           "fill": "toself",
           "fillcolor": "#FFB612",
           "hoverinfo": "skip",
           "line": {
            "color": "white",
            "width": 3
           },
           "mode": "lines",
           "opacity": 1,
           "showlegend": false,
           "type": "scatter",
           "x": [
            110,
            110,
            120,
            120,
            110
           ],
           "y": [
            0,
            53.5,
            53.5,
            0,
            0
           ]
          },
          {
           "hoverinfo": "text",
           "hovertext": [
            "nflId:43299<br>displayName:Eli Apple<br>Player Speed:2.751 MPH",
            "nflId:43350<br>displayName:Vonn Bell<br>Player Speed:3.512 MPH",
            "nflId:43455<br>displayName:D.J. Reader<br>Player Speed:0.447 MPH",
            "nflId:43641<br>displayName:Mike Hilton<br>Player Speed:5.682 MPH",
            "nflId:44872<br>displayName:Chidobe Awuzie<br>Player Speed:2.438 MPH",
            "nflId:44915<br>displayName:Trey Hendrickson<br>Player Speed:0.492 MPH",
            "nflId:46123<br>displayName:Jessie Bates<br>Player Speed:0.783 MPH",
            "nflId:46138<br>displayName:B.J. Hill<br>Player Speed:0.0 MPH",
            "nflId:46146<br>displayName:Sam Hubbard<br>Player Speed:0.291 MPH",
            "nflId:47855<br>displayName:Germaine Pratt<br>Player Speed:0.179 MPH",
            "nflId:52473<br>displayName:Logan Wilson<br>Player Speed:2.483 MPH"
           ],
           "marker": {
            "color": "#000000",
            "line": {
             "color": "#FB4F14",
             "width": 2
            },
            "size": 10
           },
           "mode": "markers",
           "name": "CIN",
           "type": "scatter",
           "x": [
            13.07,
            15.88,
            17.77,
            15.56,
            12.86,
            18.14,
            8.34,
            17.42,
            17.89,
            14.87,
            14.66
           ],
           "y": [
            12.63,
            37.53,
            31.03,
            19.39,
            41.96,
            24.49,
            24.69,
            27.21,
            34.78,
            31.35,
            24.67
           ]
          },
          {
           "hoverinfo": "text",
           "hovertext": [
            "nflId:44814<br>displayName:Mitchell Trubisky<br>Player Speed:0.022 MPH",
            "nflId:46108<br>displayName:James Daniels<br>Player Speed:0.0 MPH",
            "nflId:46161<br>displayName:Chukwuma Okorafor<br>Player Speed:0.0 MPH",
            "nflId:46166<br>displayName:Mason Cole<br>Player Speed:0.0 MPH",
            "nflId:47849<br>displayName:Diontae Johnson<br>Player Speed:3.87 MPH",
            "nflId:52457<br>displayName:Chase Claypool<br>Player Speed:10.916 MPH",
            "nflId:52543<br>displayName:Kevin Dotson<br>Player Speed:0.0 MPH",
            "nflId:53453<br>displayName:Najee Harris<br>Player Speed:4.854 MPH",
            "nflId:53484<br>displayName:Pat Freiermuth<br>Player Speed:3.512 MPH",
            "nflId:53557<br>displayName:Dan Moore<br>Player Speed:0.0 MPH",
            "nflId:54517<br>displayName:George Pickens<br>Player Speed:9.731 MPH"
           ],
           "marker": {
            "color": "#FFB612",
            "line": {
             "color": "#101820",
             "width": 2
            },
            "size": 10
           },
           "mode": "markers",
           "name": "PIT",
           "type": "scatter",
           "x": [
            24.03,
            20.23,
            20.29,
            19.22,
            19.8,
            21.98,
            20.03,
            23.64,
            21.18,
            20.18,
            20.35
           ],
           "y": [
            29.61,
            31.15,
            32.71,
            29.6,
            38.13,
            23.68,
            28.04,
            32.95,
            24.37,
            26.35,
            15.25
           ]
          },
          {
           "hoverinfo": "none",
           "marker": {
            "color": "#CBB67C",
            "line": {
             "color": "#663831",
             "width": 2
            },
            "size": 10
           },
           "mode": "markers",
           "name": "football",
           "type": "scatter",
           "x": [
            18.9899997711182
           ],
           "y": [
            29.5900001525879
           ]
          }
         ],
         "name": "60"
        },
        {
         "data": [
          {
           "hoverinfo": "none",
           "mode": "text",
           "showlegend": false,
           "text": [
            "10",
            "20",
            "30",
            "40",
            "50",
            "40",
            "30",
            "20",
            "10"
           ],
           "textfont": {
            "color": "#ffffff",
            "family": "Courier New, monospace",
            "size": 30
           },
           "type": "scatter",
           "x": [
            20,
            30,
            40,
            50,
            60,
            70,
            80,
            90,
            100
           ],
           "y": [
            5,
            5,
            5,
            5,
            5,
            5,
            5,
            5,
            5
           ]
          },
          {
           "hoverinfo": "none",
           "mode": "text",
           "showlegend": false,
           "text": [
            "10",
            "20",
            "30",
            "40",
            "50",
            "40",
            "30",
            "20",
            "10"
           ],
           "textfont": {
            "color": "#ffffff",
            "family": "Courier New, monospace",
            "size": 30
           },
           "type": "scatter",
           "x": [
            20,
            30,
            40,
            50,
            60,
            70,
            80,
            90,
            100
           ],
           "y": [
            48.5,
            48.5,
            48.5,
            48.5,
            48.5,
            48.5,
            48.5,
            48.5,
            48.5
           ]
          },
          {
           "hoverinfo": "none",
           "line": {
            "color": "blue",
            "dash": "dash"
           },
           "showlegend": false,
           "type": "scatter",
           "x": [
            19,
            19
           ],
           "y": [
            0,
            53.5
           ]
          },
          {
           "hoverinfo": "none",
           "line": {
            "color": "yellow",
            "dash": "dash"
           },
           "showlegend": false,
           "type": "scatter",
           "x": [
            10,
            10
           ],
           "y": [
            0,
            53.5
           ]
          },
          {
           "fill": "toself",
           "fillcolor": "#000000",
           "hoverinfo": "skip",
           "line": {
            "color": "white",
            "width": 3
           },
           "mode": "lines",
           "opacity": 1,
           "showlegend": false,
           "type": "scatter",
           "x": [
            0,
            0,
            10,
            10,
            0
           ],
           "y": [
            0,
            53.5,
            53.5,
            0,
            0
           ]
          },
          {
           "fill": "toself",
           "fillcolor": "#FFB612",
           "hoverinfo": "skip",
           "line": {
            "color": "white",
            "width": 3
           },
           "mode": "lines",
           "opacity": 1,
           "showlegend": false,
           "type": "scatter",
           "x": [
            110,
            110,
            120,
            120,
            110
           ],
           "y": [
            0,
            53.5,
            53.5,
            0,
            0
           ]
          },
          {
           "hoverinfo": "text",
           "hovertext": [
            "nflId:43299<br>displayName:Eli Apple<br>Player Speed:2.93 MPH",
            "nflId:43350<br>displayName:Vonn Bell<br>Player Speed:3.534 MPH",
            "nflId:43455<br>displayName:D.J. Reader<br>Player Speed:0.447 MPH",
            "nflId:43641<br>displayName:Mike Hilton<br>Player Speed:6.196 MPH",
            "nflId:44872<br>displayName:Chidobe Awuzie<br>Player Speed:2.505 MPH",
            "nflId:44915<br>displayName:Trey Hendrickson<br>Player Speed:0.447 MPH",
            "nflId:46123<br>displayName:Jessie Bates<br>Player Speed:0.783 MPH",
            "nflId:46138<br>displayName:B.J. Hill<br>Player Speed:0.022 MPH",
            "nflId:46146<br>displayName:Sam Hubbard<br>Player Speed:0.268 MPH",
            "nflId:47855<br>displayName:Germaine Pratt<br>Player Speed:0.179 MPH",
            "nflId:52473<br>displayName:Logan Wilson<br>Player Speed:2.684 MPH"
           ],
           "marker": {
            "color": "#000000",
            "line": {
             "color": "#FB4F14",
             "width": 2
            },
            "size": 10
           },
           "mode": "markers",
           "name": "CIN",
           "type": "scatter",
           "x": [
            13.09,
            15.75,
            17.78,
            15.58,
            12.91,
            18.12,
            8.39,
            17.42,
            17.89,
            14.88,
            14.68
           ],
           "y": [
            12.76,
            37.43,
            31.02,
            19.66,
            41.86,
            24.5,
            24.71,
            27.21,
            34.77,
            31.34,
            24.78
           ]
          },
          {
           "hoverinfo": "text",
           "hovertext": [
            "nflId:44814<br>displayName:Mitchell Trubisky<br>Player Speed:0.022 MPH",
            "nflId:46108<br>displayName:James Daniels<br>Player Speed:0.0 MPH",
            "nflId:46161<br>displayName:Chukwuma Okorafor<br>Player Speed:0.0 MPH",
            "nflId:46166<br>displayName:Mason Cole<br>Player Speed:0.0 MPH",
            "nflId:47849<br>displayName:Diontae Johnson<br>Player Speed:3.534 MPH",
            "nflId:52457<br>displayName:Chase Claypool<br>Player Speed:11.095 MPH",
            "nflId:52543<br>displayName:Kevin Dotson<br>Player Speed:0.0 MPH",
            "nflId:53453<br>displayName:Najee Harris<br>Player Speed:4.362 MPH",
            "nflId:53484<br>displayName:Pat Freiermuth<br>Player Speed:3.49 MPH",
            "nflId:53557<br>displayName:Dan Moore<br>Player Speed:0.0 MPH",
            "nflId:54517<br>displayName:George Pickens<br>Player Speed:9.753 MPH"
           ],
           "marker": {
            "color": "#FFB612",
            "line": {
             "color": "#101820",
             "width": 2
            },
            "size": 10
           },
           "mode": "markers",
           "name": "PIT",
           "type": "scatter",
           "x": [
            24.04,
            20.23,
            20.28,
            19.21,
            19.78,
            22.04,
            20.03,
            23.71,
            21.23,
            20.18,
            20.38
           ],
           "y": [
            29.61,
            31.15,
            32.71,
            29.6,
            37.97,
            24.17,
            28.04,
            32.76,
            24.52,
            26.35,
            15.69
           ]
          },
          {
           "hoverinfo": "none",
           "marker": {
            "color": "#CBB67C",
            "line": {
             "color": "#663831",
             "width": 2
            },
            "size": 10
           },
           "mode": "markers",
           "name": "football",
           "type": "scatter",
           "x": [
            18.9899997711182
           ],
           "y": [
            29.5900001525879
           ]
          }
         ],
         "name": "61"
        },
        {
         "data": [
          {
           "hoverinfo": "none",
           "mode": "text",
           "showlegend": false,
           "text": [
            "10",
            "20",
            "30",
            "40",
            "50",
            "40",
            "30",
            "20",
            "10"
           ],
           "textfont": {
            "color": "#ffffff",
            "family": "Courier New, monospace",
            "size": 30
           },
           "type": "scatter",
           "x": [
            20,
            30,
            40,
            50,
            60,
            70,
            80,
            90,
            100
           ],
           "y": [
            5,
            5,
            5,
            5,
            5,
            5,
            5,
            5,
            5
           ]
          },
          {
           "hoverinfo": "none",
           "mode": "text",
           "showlegend": false,
           "text": [
            "10",
            "20",
            "30",
            "40",
            "50",
            "40",
            "30",
            "20",
            "10"
           ],
           "textfont": {
            "color": "#ffffff",
            "family": "Courier New, monospace",
            "size": 30
           },
           "type": "scatter",
           "x": [
            20,
            30,
            40,
            50,
            60,
            70,
            80,
            90,
            100
           ],
           "y": [
            48.5,
            48.5,
            48.5,
            48.5,
            48.5,
            48.5,
            48.5,
            48.5,
            48.5
           ]
          },
          {
           "hoverinfo": "none",
           "line": {
            "color": "blue",
            "dash": "dash"
           },
           "showlegend": false,
           "type": "scatter",
           "x": [
            19,
            19
           ],
           "y": [
            0,
            53.5
           ]
          },
          {
           "hoverinfo": "none",
           "line": {
            "color": "yellow",
            "dash": "dash"
           },
           "showlegend": false,
           "type": "scatter",
           "x": [
            10,
            10
           ],
           "y": [
            0,
            53.5
           ]
          },
          {
           "fill": "toself",
           "fillcolor": "#000000",
           "hoverinfo": "skip",
           "line": {
            "color": "white",
            "width": 3
           },
           "mode": "lines",
           "opacity": 1,
           "showlegend": false,
           "type": "scatter",
           "x": [
            0,
            0,
            10,
            10,
            0
           ],
           "y": [
            0,
            53.5,
            53.5,
            0,
            0
           ]
          },
          {
           "fill": "toself",
           "fillcolor": "#FFB612",
           "hoverinfo": "skip",
           "line": {
            "color": "white",
            "width": 3
           },
           "mode": "lines",
           "opacity": 1,
           "showlegend": false,
           "type": "scatter",
           "x": [
            110,
            110,
            120,
            120,
            110
           ],
           "y": [
            0,
            53.5,
            53.5,
            0,
            0
           ]
          },
          {
           "hoverinfo": "text",
           "hovertext": [
            "nflId:43299<br>displayName:Eli Apple<br>Player Speed:3.132 MPH",
            "nflId:43350<br>displayName:Vonn Bell<br>Player Speed:3.512 MPH",
            "nflId:43455<br>displayName:D.J. Reader<br>Player Speed:0.268 MPH",
            "nflId:43641<br>displayName:Mike Hilton<br>Player Speed:6.733 MPH",
            "nflId:44872<br>displayName:Chidobe Awuzie<br>Player Speed:2.528 MPH",
            "nflId:44915<br>displayName:Trey Hendrickson<br>Player Speed:0.336 MPH",
            "nflId:46123<br>displayName:Jessie Bates<br>Player Speed:0.805 MPH",
            "nflId:46138<br>displayName:B.J. Hill<br>Player Speed:0.022 MPH",
            "nflId:46146<br>displayName:Sam Hubbard<br>Player Speed:0.246 MPH",
            "nflId:47855<br>displayName:Germaine Pratt<br>Player Speed:0.201 MPH",
            "nflId:52473<br>displayName:Logan Wilson<br>Player Speed:2.684 MPH"
           ],
           "marker": {
            "color": "#000000",
            "line": {
             "color": "#FB4F14",
             "width": 2
            },
            "size": 10
           },
           "mode": "markers",
           "name": "CIN",
           "type": "scatter",
           "x": [
            13.11,
            15.63,
            17.79,
            15.6,
            12.96,
            18.11,
            8.44,
            17.41,
            17.89,
            14.88,
            14.7
           ],
           "y": [
            12.89,
            37.34,
            31.02,
            19.95,
            41.76,
            24.51,
            24.75,
            27.22,
            34.76,
            31.33,
            24.9
           ]
          },
          {
           "hoverinfo": "text",
           "hovertext": [
            "nflId:44814<br>displayName:Mitchell Trubisky<br>Player Speed:0.0 MPH",
            "nflId:46108<br>displayName:James Daniels<br>Player Speed:0.0 MPH",
            "nflId:46161<br>displayName:Chukwuma Okorafor<br>Player Speed:0.0 MPH",
            "nflId:46166<br>displayName:Mason Cole<br>Player Speed:0.0 MPH",
            "nflId:47849<br>displayName:Diontae Johnson<br>Player Speed:3.244 MPH",
            "nflId:52457<br>displayName:Chase Claypool<br>Player Speed:11.274 MPH",
            "nflId:52543<br>displayName:Kevin Dotson<br>Player Speed:0.0 MPH",
            "nflId:53453<br>displayName:Najee Harris<br>Player Speed:3.959 MPH",
            "nflId:53484<br>displayName:Pat Freiermuth<br>Player Speed:3.355 MPH",
            "nflId:53557<br>displayName:Dan Moore<br>Player Speed:0.0 MPH",
            "nflId:54517<br>displayName:George Pickens<br>Player Speed:9.887 MPH"
           ],
           "marker": {
            "color": "#FFB612",
            "line": {
             "color": "#101820",
             "width": 2
            },
            "size": 10
           },
           "mode": "markers",
           "name": "PIT",
           "type": "scatter",
           "x": [
            24.04,
            20.22,
            20.28,
            19.21,
            19.76,
            22.1,
            20.03,
            23.77,
            21.28,
            20.18,
            20.4
           ],
           "y": [
            29.61,
            31.14,
            32.71,
            29.6,
            37.82,
            24.68,
            28.04,
            32.58,
            24.67,
            26.35,
            16.13
           ]
          },
          {
           "hoverinfo": "none",
           "marker": {
            "color": "#CBB67C",
            "line": {
             "color": "#663831",
             "width": 2
            },
            "size": 10
           },
           "mode": "markers",
           "name": "football",
           "type": "scatter",
           "x": [
            18.9899997711182
           ],
           "y": [
            29.5900001525879
           ]
          }
         ],
         "name": "62"
        },
        {
         "data": [
          {
           "hoverinfo": "none",
           "mode": "text",
           "showlegend": false,
           "text": [
            "10",
            "20",
            "30",
            "40",
            "50",
            "40",
            "30",
            "20",
            "10"
           ],
           "textfont": {
            "color": "#ffffff",
            "family": "Courier New, monospace",
            "size": 30
           },
           "type": "scatter",
           "x": [
            20,
            30,
            40,
            50,
            60,
            70,
            80,
            90,
            100
           ],
           "y": [
            5,
            5,
            5,
            5,
            5,
            5,
            5,
            5,
            5
           ]
          },
          {
           "hoverinfo": "none",
           "mode": "text",
           "showlegend": false,
           "text": [
            "10",
            "20",
            "30",
            "40",
            "50",
            "40",
            "30",
            "20",
            "10"
           ],
           "textfont": {
            "color": "#ffffff",
            "family": "Courier New, monospace",
            "size": 30
           },
           "type": "scatter",
           "x": [
            20,
            30,
            40,
            50,
            60,
            70,
            80,
            90,
            100
           ],
           "y": [
            48.5,
            48.5,
            48.5,
            48.5,
            48.5,
            48.5,
            48.5,
            48.5,
            48.5
           ]
          },
          {
           "hoverinfo": "none",
           "line": {
            "color": "blue",
            "dash": "dash"
           },
           "showlegend": false,
           "type": "scatter",
           "x": [
            19,
            19
           ],
           "y": [
            0,
            53.5
           ]
          },
          {
           "hoverinfo": "none",
           "line": {
            "color": "yellow",
            "dash": "dash"
           },
           "showlegend": false,
           "type": "scatter",
           "x": [
            10,
            10
           ],
           "y": [
            0,
            53.5
           ]
          },
          {
           "fill": "toself",
           "fillcolor": "#000000",
           "hoverinfo": "skip",
           "line": {
            "color": "white",
            "width": 3
           },
           "mode": "lines",
           "opacity": 1,
           "showlegend": false,
           "type": "scatter",
           "x": [
            0,
            0,
            10,
            10,
            0
           ],
           "y": [
            0,
            53.5,
            53.5,
            0,
            0
           ]
          },
          {
           "fill": "toself",
           "fillcolor": "#FFB612",
           "hoverinfo": "skip",
           "line": {
            "color": "white",
            "width": 3
           },
           "mode": "lines",
           "opacity": 1,
           "showlegend": false,
           "type": "scatter",
           "x": [
            110,
            110,
            120,
            120,
            110
           ],
           "y": [
            0,
            53.5,
            53.5,
            0,
            0
           ]
          },
          {
           "hoverinfo": "text",
           "hovertext": [
            "nflId:43299<br>displayName:Eli Apple<br>Player Speed:3.311 MPH",
            "nflId:43350<br>displayName:Vonn Bell<br>Player Speed:3.445 MPH",
            "nflId:43455<br>displayName:D.J. Reader<br>Player Speed:0.425 MPH",
            "nflId:43641<br>displayName:Mike Hilton<br>Player Speed:7.382 MPH",
            "nflId:44872<br>displayName:Chidobe Awuzie<br>Player Speed:2.528 MPH",
            "nflId:44915<br>displayName:Trey Hendrickson<br>Player Speed:0.358 MPH",
            "nflId:46123<br>displayName:Jessie Bates<br>Player Speed:0.783 MPH",
            "nflId:46138<br>displayName:B.J. Hill<br>Player Speed:0.022 MPH",
            "nflId:46146<br>displayName:Sam Hubbard<br>Player Speed:0.224 MPH",
            "nflId:47855<br>displayName:Germaine Pratt<br>Player Speed:0.179 MPH",
            "nflId:52473<br>displayName:Logan Wilson<br>Player Speed:2.729 MPH"
           ],
           "marker": {
            "color": "#000000",
            "line": {
             "color": "#FB4F14",
             "width": 2
            },
            "size": 10
           },
           "mode": "markers",
           "name": "CIN",
           "type": "scatter",
           "x": [
            13.14,
            15.5,
            17.81,
            15.62,
            13.01,
            18.1,
            8.48,
            17.41,
            17.89,
            14.88,
            14.72
           ],
           "y": [
            13.04,
            37.26,
            31.02,
            20.27,
            41.66,
            24.52,
            24.78,
            27.23,
            34.74,
            31.33,
            25.02
           ]
          },
          {
           "hoverinfo": "text",
           "hovertext": [
            "nflId:44814<br>displayName:Mitchell Trubisky<br>Player Speed:0.0 MPH",
            "nflId:46108<br>displayName:James Daniels<br>Player Speed:0.0 MPH",
            "nflId:46161<br>displayName:Chukwuma Okorafor<br>Player Speed:0.0 MPH",
            "nflId:46166<br>displayName:Mason Cole<br>Player Speed:0.0 MPH",
            "nflId:47849<br>displayName:Diontae Johnson<br>Player Speed:2.975 MPH",
            "nflId:52457<br>displayName:Chase Claypool<br>Player Speed:11.341 MPH",
            "nflId:52543<br>displayName:Kevin Dotson<br>Player Speed:0.0 MPH",
            "nflId:53453<br>displayName:Najee Harris<br>Player Speed:3.512 MPH",
            "nflId:53484<br>displayName:Pat Freiermuth<br>Player Speed:3.132 MPH",
            "nflId:53557<br>displayName:Dan Moore<br>Player Speed:0.0 MPH",
            "nflId:54517<br>displayName:George Pickens<br>Player Speed:9.887 MPH"
           ],
           "marker": {
            "color": "#FFB612",
            "line": {
             "color": "#101820",
             "width": 2
            },
            "size": 10
           },
           "mode": "markers",
           "name": "PIT",
           "type": "scatter",
           "x": [
            24.03,
            20.22,
            20.28,
            19.21,
            19.74,
            22.15,
            20.03,
            23.82,
            21.33,
            20.18,
            20.42
           ],
           "y": [
            29.61,
            31.14,
            32.71,
            29.6,
            37.68,
            25.18,
            28.04,
            32.43,
            24.8,
            26.34,
            16.58
           ]
          },
          {
           "hoverinfo": "none",
           "marker": {
            "color": "#CBB67C",
            "line": {
             "color": "#663831",
             "width": 2
            },
            "size": 10
           },
           "mode": "markers",
           "name": "football",
           "type": "scatter",
           "x": [
            18.9899997711182
           ],
           "y": [
            29.5900001525879
           ]
          }
         ],
         "name": "63"
        },
        {
         "data": [
          {
           "hoverinfo": "none",
           "mode": "text",
           "showlegend": false,
           "text": [
            "10",
            "20",
            "30",
            "40",
            "50",
            "40",
            "30",
            "20",
            "10"
           ],
           "textfont": {
            "color": "#ffffff",
            "family": "Courier New, monospace",
            "size": 30
           },
           "type": "scatter",
           "x": [
            20,
            30,
            40,
            50,
            60,
            70,
            80,
            90,
            100
           ],
           "y": [
            5,
            5,
            5,
            5,
            5,
            5,
            5,
            5,
            5
           ]
          },
          {
           "hoverinfo": "none",
           "mode": "text",
           "showlegend": false,
           "text": [
            "10",
            "20",
            "30",
            "40",
            "50",
            "40",
            "30",
            "20",
            "10"
           ],
           "textfont": {
            "color": "#ffffff",
            "family": "Courier New, monospace",
            "size": 30
           },
           "type": "scatter",
           "x": [
            20,
            30,
            40,
            50,
            60,
            70,
            80,
            90,
            100
           ],
           "y": [
            48.5,
            48.5,
            48.5,
            48.5,
            48.5,
            48.5,
            48.5,
            48.5,
            48.5
           ]
          },
          {
           "hoverinfo": "none",
           "line": {
            "color": "blue",
            "dash": "dash"
           },
           "showlegend": false,
           "type": "scatter",
           "x": [
            19,
            19
           ],
           "y": [
            0,
            53.5
           ]
          },
          {
           "hoverinfo": "none",
           "line": {
            "color": "yellow",
            "dash": "dash"
           },
           "showlegend": false,
           "type": "scatter",
           "x": [
            10,
            10
           ],
           "y": [
            0,
            53.5
           ]
          },
          {
           "fill": "toself",
           "fillcolor": "#000000",
           "hoverinfo": "skip",
           "line": {
            "color": "white",
            "width": 3
           },
           "mode": "lines",
           "opacity": 1,
           "showlegend": false,
           "type": "scatter",
           "x": [
            0,
            0,
            10,
            10,
            0
           ],
           "y": [
            0,
            53.5,
            53.5,
            0,
            0
           ]
          },
          {
           "fill": "toself",
           "fillcolor": "#FFB612",
           "hoverinfo": "skip",
           "line": {
            "color": "white",
            "width": 3
           },
           "mode": "lines",
           "opacity": 1,
           "showlegend": false,
           "type": "scatter",
           "x": [
            110,
            110,
            120,
            120,
            110
           ],
           "y": [
            0,
            53.5,
            53.5,
            0,
            0
           ]
          },
          {
           "hoverinfo": "text",
           "hovertext": [
            "nflId:43299<br>displayName:Eli Apple<br>Player Speed:3.49 MPH",
            "nflId:43350<br>displayName:Vonn Bell<br>Player Speed:3.355 MPH",
            "nflId:43455<br>displayName:D.J. Reader<br>Player Speed:0.693 MPH",
            "nflId:43641<br>displayName:Mike Hilton<br>Player Speed:7.874 MPH",
            "nflId:44872<br>displayName:Chidobe Awuzie<br>Player Speed:2.595 MPH",
            "nflId:44915<br>displayName:Trey Hendrickson<br>Player Speed:0.425 MPH",
            "nflId:46123<br>displayName:Jessie Bates<br>Player Speed:0.761 MPH",
            "nflId:46138<br>displayName:B.J. Hill<br>Player Speed:0.022 MPH",
            "nflId:46146<br>displayName:Sam Hubbard<br>Player Speed:0.201 MPH",
            "nflId:47855<br>displayName:Germaine Pratt<br>Player Speed:0.089 MPH",
            "nflId:52473<br>displayName:Logan Wilson<br>Player Speed:2.751 MPH"
           ],
           "marker": {
            "color": "#000000",
            "line": {
             "color": "#FB4F14",
             "width": 2
            },
            "size": 10
           },
           "mode": "markers",
           "name": "CIN",
           "type": "scatter",
           "x": [
            13.17,
            15.37,
            17.82,
            15.64,
            13.06,
            18.08,
            8.52,
            17.41,
            17.9,
            14.88,
            14.74
           ],
           "y": [
            13.19,
            37.17,
            31.04,
            20.61,
            41.55,
            24.53,
            24.8,
            27.23,
            34.73,
            31.33,
            25.14
           ]
          },
          {
           "hoverinfo": "text",
           "hovertext": [
            "nflId:44814<br>displayName:Mitchell Trubisky<br>Player Speed:0.0 MPH",
            "nflId:46108<br>displayName:James Daniels<br>Player Speed:0.0 MPH",
            "nflId:46161<br>displayName:Chukwuma Okorafor<br>Player Speed:0.0 MPH",
            "nflId:46166<br>displayName:Mason Cole<br>Player Speed:0.0 MPH",
            "nflId:47849<br>displayName:Diontae Johnson<br>Player Speed:2.707 MPH",
            "nflId:52457<br>displayName:Chase Claypool<br>Player Speed:11.408 MPH",
            "nflId:52543<br>displayName:Kevin Dotson<br>Player Speed:0.0 MPH",
            "nflId:53453<br>displayName:Najee Harris<br>Player Speed:3.109 MPH",
            "nflId:53484<br>displayName:Pat Freiermuth<br>Player Speed:2.707 MPH",
            "nflId:53557<br>displayName:Dan Moore<br>Player Speed:0.0 MPH",
            "nflId:54517<br>displayName:George Pickens<br>Player Speed:9.775 MPH"
           ],
           "marker": {
            "color": "#FFB612",
            "line": {
             "color": "#101820",
             "width": 2
            },
            "size": 10
           },
           "mode": "markers",
           "name": "PIT",
           "type": "scatter",
           "x": [
            24.03,
            20.22,
            20.28,
            19.2,
            19.71,
            22.2,
            20.03,
            23.87,
            21.38,
            20.18,
            20.43
           ],
           "y": [
            29.61,
            31.15,
            32.71,
            29.6,
            37.56,
            25.69,
            28.04,
            32.29,
            24.92,
            26.35,
            17.02
           ]
          },
          {
           "hoverinfo": "none",
           "marker": {
            "color": "#CBB67C",
            "line": {
             "color": "#663831",
             "width": 2
            },
            "size": 10
           },
           "mode": "markers",
           "name": "football",
           "type": "scatter",
           "x": [
            18.9899997711182
           ],
           "y": [
            29.5900001525879
           ]
          }
         ],
         "name": "64"
        },
        {
         "data": [
          {
           "hoverinfo": "none",
           "mode": "text",
           "showlegend": false,
           "text": [
            "10",
            "20",
            "30",
            "40",
            "50",
            "40",
            "30",
            "20",
            "10"
           ],
           "textfont": {
            "color": "#ffffff",
            "family": "Courier New, monospace",
            "size": 30
           },
           "type": "scatter",
           "x": [
            20,
            30,
            40,
            50,
            60,
            70,
            80,
            90,
            100
           ],
           "y": [
            5,
            5,
            5,
            5,
            5,
            5,
            5,
            5,
            5
           ]
          },
          {
           "hoverinfo": "none",
           "mode": "text",
           "showlegend": false,
           "text": [
            "10",
            "20",
            "30",
            "40",
            "50",
            "40",
            "30",
            "20",
            "10"
           ],
           "textfont": {
            "color": "#ffffff",
            "family": "Courier New, monospace",
            "size": 30
           },
           "type": "scatter",
           "x": [
            20,
            30,
            40,
            50,
            60,
            70,
            80,
            90,
            100
           ],
           "y": [
            48.5,
            48.5,
            48.5,
            48.5,
            48.5,
            48.5,
            48.5,
            48.5,
            48.5
           ]
          },
          {
           "hoverinfo": "none",
           "line": {
            "color": "blue",
            "dash": "dash"
           },
           "showlegend": false,
           "type": "scatter",
           "x": [
            19,
            19
           ],
           "y": [
            0,
            53.5
           ]
          },
          {
           "hoverinfo": "none",
           "line": {
            "color": "yellow",
            "dash": "dash"
           },
           "showlegend": false,
           "type": "scatter",
           "x": [
            10,
            10
           ],
           "y": [
            0,
            53.5
           ]
          },
          {
           "fill": "toself",
           "fillcolor": "#000000",
           "hoverinfo": "skip",
           "line": {
            "color": "white",
            "width": 3
           },
           "mode": "lines",
           "opacity": 1,
           "showlegend": false,
           "type": "scatter",
           "x": [
            0,
            0,
            10,
            10,
            0
           ],
           "y": [
            0,
            53.5,
            53.5,
            0,
            0
           ]
          },
          {
           "fill": "toself",
           "fillcolor": "#FFB612",
           "hoverinfo": "skip",
           "line": {
            "color": "white",
            "width": 3
           },
           "mode": "lines",
           "opacity": 1,
           "showlegend": false,
           "type": "scatter",
           "x": [
            110,
            110,
            120,
            120,
            110
           ],
           "y": [
            0,
            53.5,
            53.5,
            0,
            0
           ]
          },
          {
           "hoverinfo": "text",
           "hovertext": [
            "nflId:43299<br>displayName:Eli Apple<br>Player Speed:3.624 MPH",
            "nflId:43350<br>displayName:Vonn Bell<br>Player Speed:3.244 MPH",
            "nflId:43455<br>displayName:D.J. Reader<br>Player Speed:0.872 MPH",
            "nflId:43641<br>displayName:Mike Hilton<br>Player Speed:8.299 MPH",
            "nflId:44872<br>displayName:Chidobe Awuzie<br>Player Speed:2.595 MPH",
            "nflId:44915<br>displayName:Trey Hendrickson<br>Player Speed:0.336 MPH",
            "nflId:46123<br>displayName:Jessie Bates<br>Player Speed:0.761 MPH",
            "nflId:46138<br>displayName:B.J. Hill<br>Player Speed:0.022 MPH",
            "nflId:46146<br>displayName:Sam Hubbard<br>Player Speed:0.201 MPH",
            "nflId:47855<br>displayName:Germaine Pratt<br>Player Speed:0.089 MPH",
            "nflId:52473<br>displayName:Logan Wilson<br>Player Speed:2.774 MPH"
           ],
           "marker": {
            "color": "#000000",
            "line": {
             "color": "#FB4F14",
             "width": 2
            },
            "size": 10
           },
           "mode": "markers",
           "name": "CIN",
           "type": "scatter",
           "x": [
            13.19,
            15.24,
            17.84,
            15.65,
            13.11,
            18.07,
            8.58,
            17.4,
            17.9,
            14.88,
            14.76
           ],
           "y": [
            13.35,
            37.1,
            31.07,
            20.97,
            41.45,
            24.54,
            24.81,
            27.23,
            34.71,
            31.33,
            25.26
           ]
          },
          {
           "hoverinfo": "text",
           "hovertext": [
            "nflId:44814<br>displayName:Mitchell Trubisky<br>Player Speed:0.0 MPH",
            "nflId:46108<br>displayName:James Daniels<br>Player Speed:0.0 MPH",
            "nflId:46161<br>displayName:Chukwuma Okorafor<br>Player Speed:0.0 MPH",
            "nflId:46166<br>displayName:Mason Cole<br>Player Speed:0.0 MPH",
            "nflId:47849<br>displayName:Diontae Johnson<br>Player Speed:2.64 MPH",
            "nflId:52457<br>displayName:Chase Claypool<br>Player Speed:11.364 MPH",
            "nflId:52543<br>displayName:Kevin Dotson<br>Player Speed:0.0 MPH",
            "nflId:53453<br>displayName:Najee Harris<br>Player Speed:2.796 MPH",
            "nflId:53484<br>displayName:Pat Freiermuth<br>Player Speed:2.483 MPH",
            "nflId:53557<br>displayName:Dan Moore<br>Player Speed:0.0 MPH",
            "nflId:54517<br>displayName:George Pickens<br>Player Speed:9.596 MPH"
           ],
           "marker": {
            "color": "#FFB612",
            "line": {
             "color": "#101820",
             "width": 2
            },
            "size": 10
           },
           "mode": "markers",
           "name": "PIT",
           "type": "scatter",
           "x": [
            24.03,
            20.22,
            20.27,
            19.2,
            19.69,
            22.22,
            20.03,
            23.91,
            21.43,
            20.18,
            20.44
           ],
           "y": [
            29.61,
            31.14,
            32.71,
            29.61,
            37.44,
            26.21,
            28.04,
            32.16,
            25.03,
            26.35,
            17.45
           ]
          },
          {
           "hoverinfo": "none",
           "marker": {
            "color": "#CBB67C",
            "line": {
             "color": "#663831",
             "width": 2
            },
            "size": 10
           },
           "mode": "markers",
           "name": "football",
           "type": "scatter",
           "x": [
            18.9899997711182
           ],
           "y": [
            29.5900001525879
           ]
          }
         ],
         "name": "65"
        },
        {
         "data": [
          {
           "hoverinfo": "none",
           "mode": "text",
           "showlegend": false,
           "text": [
            "10",
            "20",
            "30",
            "40",
            "50",
            "40",
            "30",
            "20",
            "10"
           ],
           "textfont": {
            "color": "#ffffff",
            "family": "Courier New, monospace",
            "size": 30
           },
           "type": "scatter",
           "x": [
            20,
            30,
            40,
            50,
            60,
            70,
            80,
            90,
            100
           ],
           "y": [
            5,
            5,
            5,
            5,
            5,
            5,
            5,
            5,
            5
           ]
          },
          {
           "hoverinfo": "none",
           "mode": "text",
           "showlegend": false,
           "text": [
            "10",
            "20",
            "30",
            "40",
            "50",
            "40",
            "30",
            "20",
            "10"
           ],
           "textfont": {
            "color": "#ffffff",
            "family": "Courier New, monospace",
            "size": 30
           },
           "type": "scatter",
           "x": [
            20,
            30,
            40,
            50,
            60,
            70,
            80,
            90,
            100
           ],
           "y": [
            48.5,
            48.5,
            48.5,
            48.5,
            48.5,
            48.5,
            48.5,
            48.5,
            48.5
           ]
          },
          {
           "hoverinfo": "none",
           "line": {
            "color": "blue",
            "dash": "dash"
           },
           "showlegend": false,
           "type": "scatter",
           "x": [
            19,
            19
           ],
           "y": [
            0,
            53.5
           ]
          },
          {
           "hoverinfo": "none",
           "line": {
            "color": "yellow",
            "dash": "dash"
           },
           "showlegend": false,
           "type": "scatter",
           "x": [
            10,
            10
           ],
           "y": [
            0,
            53.5
           ]
          },
          {
           "fill": "toself",
           "fillcolor": "#000000",
           "hoverinfo": "skip",
           "line": {
            "color": "white",
            "width": 3
           },
           "mode": "lines",
           "opacity": 1,
           "showlegend": false,
           "type": "scatter",
           "x": [
            0,
            0,
            10,
            10,
            0
           ],
           "y": [
            0,
            53.5,
            53.5,
            0,
            0
           ]
          },
          {
           "fill": "toself",
           "fillcolor": "#FFB612",
           "hoverinfo": "skip",
           "line": {
            "color": "white",
            "width": 3
           },
           "mode": "lines",
           "opacity": 1,
           "showlegend": false,
           "type": "scatter",
           "x": [
            110,
            110,
            120,
            120,
            110
           ],
           "y": [
            0,
            53.5,
            53.5,
            0,
            0
           ]
          },
          {
           "hoverinfo": "text",
           "hovertext": [
            "nflId:43299<br>displayName:Eli Apple<br>Player Speed:3.736 MPH",
            "nflId:43350<br>displayName:Vonn Bell<br>Player Speed:3.176 MPH",
            "nflId:43455<br>displayName:D.J. Reader<br>Player Speed:0.671 MPH",
            "nflId:43641<br>displayName:Mike Hilton<br>Player Speed:8.724 MPH",
            "nflId:44872<br>displayName:Chidobe Awuzie<br>Player Speed:2.572 MPH",
            "nflId:44915<br>displayName:Trey Hendrickson<br>Player Speed:0.268 MPH",
            "nflId:46123<br>displayName:Jessie Bates<br>Player Speed:0.828 MPH",
            "nflId:46138<br>displayName:B.J. Hill<br>Player Speed:0.022 MPH",
            "nflId:46146<br>displayName:Sam Hubbard<br>Player Speed:0.179 MPH",
            "nflId:47855<br>displayName:Germaine Pratt<br>Player Speed:0.112 MPH",
            "nflId:52473<br>displayName:Logan Wilson<br>Player Speed:2.707 MPH"
           ],
           "marker": {
            "color": "#000000",
            "line": {
             "color": "#FB4F14",
             "width": 2
            },
            "size": 10
           },
           "mode": "markers",
           "name": "CIN",
           "type": "scatter",
           "x": [
            13.22,
            15.12,
            17.85,
            15.66,
            13.16,
            18.06,
            8.61,
            17.39,
            17.91,
            14.88,
            14.77
           ],
           "y": [
            13.51,
            37.02,
            31.1,
            21.36,
            41.35,
            24.53,
            24.84,
            27.25,
            34.69,
            31.32,
            25.39
           ]
          },
          {
           "hoverinfo": "text",
           "hovertext": [
            "nflId:44814<br>displayName:Mitchell Trubisky<br>Player Speed:0.0 MPH",
            "nflId:46108<br>displayName:James Daniels<br>Player Speed:0.0 MPH",
            "nflId:46161<br>displayName:Chukwuma Okorafor<br>Player Speed:0.0 MPH",
            "nflId:46166<br>displayName:Mason Cole<br>Player Speed:0.0 MPH",
            "nflId:47849<br>displayName:Diontae Johnson<br>Player Speed:2.55 MPH",
            "nflId:52457<br>displayName:Chase Claypool<br>Player Speed:11.319 MPH",
            "nflId:52543<br>displayName:Kevin Dotson<br>Player Speed:0.0 MPH",
            "nflId:53453<br>displayName:Najee Harris<br>Player Speed:2.483 MPH",
            "nflId:53484<br>displayName:Pat Freiermuth<br>Player Speed:2.17 MPH",
            "nflId:53557<br>displayName:Dan Moore<br>Player Speed:0.0 MPH",
            "nflId:54517<br>displayName:George Pickens<br>Player Speed:9.328 MPH"
           ],
           "marker": {
            "color": "#FFB612",
            "line": {
             "color": "#101820",
             "width": 2
            },
            "size": 10
           },
           "mode": "markers",
           "name": "PIT",
           "type": "scatter",
           "x": [
            24.04,
            20.22,
            20.27,
            19.2,
            19.67,
            22.25,
            20.03,
            23.94,
            21.48,
            20.18,
            20.44
           ],
           "y": [
            29.61,
            31.14,
            32.71,
            29.61,
            37.33,
            26.71,
            28.04,
            32.05,
            25.12,
            26.35,
            17.87
           ]
          },
          {
           "hoverinfo": "none",
           "marker": {
            "color": "#CBB67C",
            "line": {
             "color": "#663831",
             "width": 2
            },
            "size": 10
           },
           "mode": "markers",
           "name": "football",
           "type": "scatter",
           "x": [
            18.9899997711182
           ],
           "y": [
            29.5900001525879
           ]
          }
         ],
         "name": "66"
        },
        {
         "data": [
          {
           "hoverinfo": "none",
           "mode": "text",
           "showlegend": false,
           "text": [
            "10",
            "20",
            "30",
            "40",
            "50",
            "40",
            "30",
            "20",
            "10"
           ],
           "textfont": {
            "color": "#ffffff",
            "family": "Courier New, monospace",
            "size": 30
           },
           "type": "scatter",
           "x": [
            20,
            30,
            40,
            50,
            60,
            70,
            80,
            90,
            100
           ],
           "y": [
            5,
            5,
            5,
            5,
            5,
            5,
            5,
            5,
            5
           ]
          },
          {
           "hoverinfo": "none",
           "mode": "text",
           "showlegend": false,
           "text": [
            "10",
            "20",
            "30",
            "40",
            "50",
            "40",
            "30",
            "20",
            "10"
           ],
           "textfont": {
            "color": "#ffffff",
            "family": "Courier New, monospace",
            "size": 30
           },
           "type": "scatter",
           "x": [
            20,
            30,
            40,
            50,
            60,
            70,
            80,
            90,
            100
           ],
           "y": [
            48.5,
            48.5,
            48.5,
            48.5,
            48.5,
            48.5,
            48.5,
            48.5,
            48.5
           ]
          },
          {
           "hoverinfo": "none",
           "line": {
            "color": "blue",
            "dash": "dash"
           },
           "showlegend": false,
           "type": "scatter",
           "x": [
            19,
            19
           ],
           "y": [
            0,
            53.5
           ]
          },
          {
           "hoverinfo": "none",
           "line": {
            "color": "yellow",
            "dash": "dash"
           },
           "showlegend": false,
           "type": "scatter",
           "x": [
            10,
            10
           ],
           "y": [
            0,
            53.5
           ]
          },
          {
           "fill": "toself",
           "fillcolor": "#000000",
           "hoverinfo": "skip",
           "line": {
            "color": "white",
            "width": 3
           },
           "mode": "lines",
           "opacity": 1,
           "showlegend": false,
           "type": "scatter",
           "x": [
            0,
            0,
            10,
            10,
            0
           ],
           "y": [
            0,
            53.5,
            53.5,
            0,
            0
           ]
          },
          {
           "fill": "toself",
           "fillcolor": "#FFB612",
           "hoverinfo": "skip",
           "line": {
            "color": "white",
            "width": 3
           },
           "mode": "lines",
           "opacity": 1,
           "showlegend": false,
           "type": "scatter",
           "x": [
            110,
            110,
            120,
            120,
            110
           ],
           "y": [
            0,
            53.5,
            53.5,
            0,
            0
           ]
          },
          {
           "hoverinfo": "text",
           "hovertext": [
            "nflId:43299<br>displayName:Eli Apple<br>Player Speed:3.982 MPH",
            "nflId:43350<br>displayName:Vonn Bell<br>Player Speed:3.221 MPH",
            "nflId:43455<br>displayName:D.J. Reader<br>Player Speed:0.649 MPH",
            "nflId:43641<br>displayName:Mike Hilton<br>Player Speed:9.239 MPH",
            "nflId:44872<br>displayName:Chidobe Awuzie<br>Player Speed:2.55 MPH",
            "nflId:44915<br>displayName:Trey Hendrickson<br>Player Speed:0.291 MPH",
            "nflId:46123<br>displayName:Jessie Bates<br>Player Speed:0.962 MPH",
            "nflId:46138<br>displayName:B.J. Hill<br>Player Speed:0.022 MPH",
            "nflId:46146<br>displayName:Sam Hubbard<br>Player Speed:0.179 MPH",
            "nflId:47855<br>displayName:Germaine Pratt<br>Player Speed:0.201 MPH",
            "nflId:52473<br>displayName:Logan Wilson<br>Player Speed:2.707 MPH"
           ],
           "marker": {
            "color": "#000000",
            "line": {
             "color": "#FB4F14",
             "width": 2
            },
            "size": 10
           },
           "mode": "markers",
           "name": "CIN",
           "type": "scatter",
           "x": [
            13.23,
            15,
            17.87,
            15.68,
            13.21,
            18.05,
            8.65,
            17.39,
            17.92,
            14.88,
            14.78
           ],
           "y": [
            13.69,
            36.94,
            31.13,
            21.77,
            41.24,
            24.52,
            24.87,
            27.26,
            34.68,
            31.29,
            25.51
           ]
          },
          {
           "hoverinfo": "text",
           "hovertext": [
            "nflId:44814<br>displayName:Mitchell Trubisky<br>Player Speed:0.0 MPH",
            "nflId:46108<br>displayName:James Daniels<br>Player Speed:0.0 MPH",
            "nflId:46161<br>displayName:Chukwuma Okorafor<br>Player Speed:0.0 MPH",
            "nflId:46166<br>displayName:Mason Cole<br>Player Speed:0.0 MPH",
            "nflId:47849<br>displayName:Diontae Johnson<br>Player Speed:2.572 MPH",
            "nflId:52457<br>displayName:Chase Claypool<br>Player Speed:11.229 MPH",
            "nflId:52543<br>displayName:Kevin Dotson<br>Player Speed:0.0 MPH",
            "nflId:53453<br>displayName:Najee Harris<br>Player Speed:1.969 MPH",
            "nflId:53484<br>displayName:Pat Freiermuth<br>Player Speed:1.946 MPH",
            "nflId:53557<br>displayName:Dan Moore<br>Player Speed:0.0 MPH",
            "nflId:54517<br>displayName:George Pickens<br>Player Speed:9.082 MPH"
           ],
           "marker": {
            "color": "#FFB612",
            "line": {
             "color": "#101820",
             "width": 2
            },
            "size": 10
           },
           "mode": "markers",
           "name": "PIT",
           "type": "scatter",
           "x": [
            24.03,
            20.21,
            20.27,
            19.2,
            19.65,
            22.26,
            20.03,
            23.97,
            21.52,
            20.18,
            20.44
           ],
           "y": [
            29.61,
            31.14,
            32.71,
            29.61,
            37.21,
            27.22,
            28.05,
            31.96,
            25.2,
            26.35,
            18.28
           ]
          },
          {
           "hoverinfo": "none",
           "marker": {
            "color": "#CBB67C",
            "line": {
             "color": "#663831",
             "width": 2
            },
            "size": 10
           },
           "mode": "markers",
           "name": "football",
           "type": "scatter",
           "x": [
            18.9899997711182
           ],
           "y": [
            29.5900001525879
           ]
          }
         ],
         "name": "67"
        },
        {
         "data": [
          {
           "hoverinfo": "none",
           "mode": "text",
           "showlegend": false,
           "text": [
            "10",
            "20",
            "30",
            "40",
            "50",
            "40",
            "30",
            "20",
            "10"
           ],
           "textfont": {
            "color": "#ffffff",
            "family": "Courier New, monospace",
            "size": 30
           },
           "type": "scatter",
           "x": [
            20,
            30,
            40,
            50,
            60,
            70,
            80,
            90,
            100
           ],
           "y": [
            5,
            5,
            5,
            5,
            5,
            5,
            5,
            5,
            5
           ]
          },
          {
           "hoverinfo": "none",
           "mode": "text",
           "showlegend": false,
           "text": [
            "10",
            "20",
            "30",
            "40",
            "50",
            "40",
            "30",
            "20",
            "10"
           ],
           "textfont": {
            "color": "#ffffff",
            "family": "Courier New, monospace",
            "size": 30
           },
           "type": "scatter",
           "x": [
            20,
            30,
            40,
            50,
            60,
            70,
            80,
            90,
            100
           ],
           "y": [
            48.5,
            48.5,
            48.5,
            48.5,
            48.5,
            48.5,
            48.5,
            48.5,
            48.5
           ]
          },
          {
           "hoverinfo": "none",
           "line": {
            "color": "blue",
            "dash": "dash"
           },
           "showlegend": false,
           "type": "scatter",
           "x": [
            19,
            19
           ],
           "y": [
            0,
            53.5
           ]
          },
          {
           "hoverinfo": "none",
           "line": {
            "color": "yellow",
            "dash": "dash"
           },
           "showlegend": false,
           "type": "scatter",
           "x": [
            10,
            10
           ],
           "y": [
            0,
            53.5
           ]
          },
          {
           "fill": "toself",
           "fillcolor": "#000000",
           "hoverinfo": "skip",
           "line": {
            "color": "white",
            "width": 3
           },
           "mode": "lines",
           "opacity": 1,
           "showlegend": false,
           "type": "scatter",
           "x": [
            0,
            0,
            10,
            10,
            0
           ],
           "y": [
            0,
            53.5,
            53.5,
            0,
            0
           ]
          },
          {
           "fill": "toself",
           "fillcolor": "#FFB612",
           "hoverinfo": "skip",
           "line": {
            "color": "white",
            "width": 3
           },
           "mode": "lines",
           "opacity": 1,
           "showlegend": false,
           "type": "scatter",
           "x": [
            110,
            110,
            120,
            120,
            110
           ],
           "y": [
            0,
            53.5,
            53.5,
            0,
            0
           ]
          },
          {
           "hoverinfo": "text",
           "hovertext": [
            "nflId:43299<br>displayName:Eli Apple<br>Player Speed:4.138 MPH",
            "nflId:43350<br>displayName:Vonn Bell<br>Player Speed:3.266 MPH",
            "nflId:43455<br>displayName:D.J. Reader<br>Player Speed:0.604 MPH",
            "nflId:43641<br>displayName:Mike Hilton<br>Player Speed:9.664 MPH",
            "nflId:44872<br>displayName:Chidobe Awuzie<br>Player Speed:2.528 MPH",
            "nflId:44915<br>displayName:Trey Hendrickson<br>Player Speed:0.134 MPH",
            "nflId:46123<br>displayName:Jessie Bates<br>Player Speed:1.208 MPH",
            "nflId:46138<br>displayName:B.J. Hill<br>Player Speed:0.022 MPH",
            "nflId:46146<br>displayName:Sam Hubbard<br>Player Speed:0.179 MPH",
            "nflId:47855<br>displayName:Germaine Pratt<br>Player Speed:0.246 MPH",
            "nflId:52473<br>displayName:Logan Wilson<br>Player Speed:2.617 MPH"
           ],
           "marker": {
            "color": "#000000",
            "line": {
             "color": "#FB4F14",
             "width": 2
            },
            "size": 10
           },
           "mode": "markers",
           "name": "CIN",
           "type": "scatter",
           "x": [
            13.25,
            14.88,
            17.88,
            15.69,
            13.25,
            18.05,
            8.69,
            17.38,
            17.93,
            14.88,
            14.79
           ],
           "y": [
            13.87,
            36.85,
            31.15,
            22.2,
            41.14,
            24.52,
            24.89,
            27.28,
            34.66,
            31.27,
            25.63
           ]
          },
          {
           "hoverinfo": "text",
           "hovertext": [
            "nflId:44814<br>displayName:Mitchell Trubisky<br>Player Speed:0.0 MPH",
            "nflId:46108<br>displayName:James Daniels<br>Player Speed:0.0 MPH",
            "nflId:46161<br>displayName:Chukwuma Okorafor<br>Player Speed:0.0 MPH",
            "nflId:46166<br>displayName:Mason Cole<br>Player Speed:0.0 MPH",
            "nflId:47849<br>displayName:Diontae Johnson<br>Player Speed:2.483 MPH",
            "nflId:52457<br>displayName:Chase Claypool<br>Player Speed:11.185 MPH",
            "nflId:52543<br>displayName:Kevin Dotson<br>Player Speed:0.0 MPH",
            "nflId:53453<br>displayName:Najee Harris<br>Player Speed:1.633 MPH",
            "nflId:53484<br>displayName:Pat Freiermuth<br>Player Speed:1.767 MPH",
            "nflId:53557<br>displayName:Dan Moore<br>Player Speed:0.0 MPH",
            "nflId:54517<br>displayName:George Pickens<br>Player Speed:8.791 MPH"
           ],
           "marker": {
            "color": "#FFB612",
            "line": {
             "color": "#101820",
             "width": 2
            },
            "size": 10
           },
           "mode": "markers",
           "name": "PIT",
           "type": "scatter",
           "x": [
            24.03,
            20.21,
            20.26,
            19.2,
            19.63,
            22.26,
            20.03,
            23.99,
            21.56,
            20.18,
            20.43
           ],
           "y": [
            29.61,
            31.14,
            32.7,
            29.61,
            37.1,
            27.72,
            28.05,
            31.89,
            25.28,
            26.35,
            18.68
           ]
          },
          {
           "hoverinfo": "none",
           "marker": {
            "color": "#CBB67C",
            "line": {
             "color": "#663831",
             "width": 2
            },
            "size": 10
           },
           "mode": "markers",
           "name": "football",
           "type": "scatter",
           "x": [
            18.9799995422363
           ],
           "y": [
            29.5900001525879
           ]
          }
         ],
         "name": "68"
        },
        {
         "data": [
          {
           "hoverinfo": "none",
           "mode": "text",
           "showlegend": false,
           "text": [
            "10",
            "20",
            "30",
            "40",
            "50",
            "40",
            "30",
            "20",
            "10"
           ],
           "textfont": {
            "color": "#ffffff",
            "family": "Courier New, monospace",
            "size": 30
           },
           "type": "scatter",
           "x": [
            20,
            30,
            40,
            50,
            60,
            70,
            80,
            90,
            100
           ],
           "y": [
            5,
            5,
            5,
            5,
            5,
            5,
            5,
            5,
            5
           ]
          },
          {
           "hoverinfo": "none",
           "mode": "text",
           "showlegend": false,
           "text": [
            "10",
            "20",
            "30",
            "40",
            "50",
            "40",
            "30",
            "20",
            "10"
           ],
           "textfont": {
            "color": "#ffffff",
            "family": "Courier New, monospace",
            "size": 30
           },
           "type": "scatter",
           "x": [
            20,
            30,
            40,
            50,
            60,
            70,
            80,
            90,
            100
           ],
           "y": [
            48.5,
            48.5,
            48.5,
            48.5,
            48.5,
            48.5,
            48.5,
            48.5,
            48.5
           ]
          },
          {
           "hoverinfo": "none",
           "line": {
            "color": "blue",
            "dash": "dash"
           },
           "showlegend": false,
           "type": "scatter",
           "x": [
            19,
            19
           ],
           "y": [
            0,
            53.5
           ]
          },
          {
           "hoverinfo": "none",
           "line": {
            "color": "yellow",
            "dash": "dash"
           },
           "showlegend": false,
           "type": "scatter",
           "x": [
            10,
            10
           ],
           "y": [
            0,
            53.5
           ]
          },
          {
           "fill": "toself",
           "fillcolor": "#000000",
           "hoverinfo": "skip",
           "line": {
            "color": "white",
            "width": 3
           },
           "mode": "lines",
           "opacity": 1,
           "showlegend": false,
           "type": "scatter",
           "x": [
            0,
            0,
            10,
            10,
            0
           ],
           "y": [
            0,
            53.5,
            53.5,
            0,
            0
           ]
          },
          {
           "fill": "toself",
           "fillcolor": "#FFB612",
           "hoverinfo": "skip",
           "line": {
            "color": "white",
            "width": 3
           },
           "mode": "lines",
           "opacity": 1,
           "showlegend": false,
           "type": "scatter",
           "x": [
            110,
            110,
            120,
            120,
            110
           ],
           "y": [
            0,
            53.5,
            53.5,
            0,
            0
           ]
          },
          {
           "hoverinfo": "text",
           "hovertext": [
            "nflId:43299<br>displayName:Eli Apple<br>Player Speed:4.25 MPH",
            "nflId:43350<br>displayName:Vonn Bell<br>Player Speed:3.378 MPH",
            "nflId:43455<br>displayName:D.J. Reader<br>Player Speed:0.514 MPH",
            "nflId:43641<br>displayName:Mike Hilton<br>Player Speed:9.932 MPH",
            "nflId:44872<br>displayName:Chidobe Awuzie<br>Player Speed:2.505 MPH",
            "nflId:44915<br>displayName:Trey Hendrickson<br>Player Speed:0.112 MPH",
            "nflId:46123<br>displayName:Jessie Bates<br>Player Speed:1.521 MPH",
            "nflId:46138<br>displayName:B.J. Hill<br>Player Speed:0.022 MPH",
            "nflId:46146<br>displayName:Sam Hubbard<br>Player Speed:0.157 MPH",
            "nflId:47855<br>displayName:Germaine Pratt<br>Player Speed:0.336 MPH",
            "nflId:52473<br>displayName:Logan Wilson<br>Player Speed:2.572 MPH"
           ],
           "marker": {
            "color": "#000000",
            "line": {
             "color": "#FB4F14",
             "width": 2
            },
            "size": 10
           },
           "mode": "markers",
           "name": "CIN",
           "type": "scatter",
           "x": [
            13.26,
            14.77,
            17.89,
            15.71,
            13.3,
            18.05,
            8.74,
            17.38,
            17.93,
            14.89,
            14.79
           ],
           "y": [
            14.06,
            36.75,
            31.17,
            22.64,
            41.03,
            24.52,
            24.93,
            27.29,
            34.64,
            31.24,
            25.74
           ]
          },
          {
           "hoverinfo": "text",
           "hovertext": [
            "nflId:44814<br>displayName:Mitchell Trubisky<br>Player Speed:0.0 MPH",
            "nflId:46108<br>displayName:James Daniels<br>Player Speed:0.0 MPH",
            "nflId:46161<br>displayName:Chukwuma Okorafor<br>Player Speed:0.0 MPH",
            "nflId:46166<br>displayName:Mason Cole<br>Player Speed:0.0 MPH",
            "nflId:47849<br>displayName:Diontae Johnson<br>Player Speed:2.371 MPH",
            "nflId:52457<br>displayName:Chase Claypool<br>Player Speed:11.095 MPH",
            "nflId:52543<br>displayName:Kevin Dotson<br>Player Speed:0.0 MPH",
            "nflId:53453<br>displayName:Najee Harris<br>Player Speed:1.275 MPH",
            "nflId:53484<br>displayName:Pat Freiermuth<br>Player Speed:1.588 MPH",
            "nflId:53557<br>displayName:Dan Moore<br>Player Speed:0.0 MPH",
            "nflId:54517<br>displayName:George Pickens<br>Player Speed:8.411 MPH"
           ],
           "marker": {
            "color": "#FFB612",
            "line": {
             "color": "#101820",
             "width": 2
            },
            "size": 10
           },
           "mode": "markers",
           "name": "PIT",
           "type": "scatter",
           "x": [
            24.03,
            20.21,
            20.26,
            19.2,
            19.6,
            22.25,
            20.03,
            24.01,
            21.6,
            20.18,
            20.42
           ],
           "y": [
            29.61,
            31.14,
            32.7,
            29.61,
            37,
            28.22,
            28.05,
            31.83,
            25.35,
            26.35,
            19.06
           ]
          },
          {
           "hoverinfo": "none",
           "marker": {
            "color": "#CBB67C",
            "line": {
             "color": "#663831",
             "width": 2
            },
            "size": 10
           },
           "mode": "markers",
           "name": "football",
           "type": "scatter",
           "x": [
            18.9799995422363
           ],
           "y": [
            29.5900001525879
           ]
          }
         ],
         "name": "69"
        },
        {
         "data": [
          {
           "hoverinfo": "none",
           "mode": "text",
           "showlegend": false,
           "text": [
            "10",
            "20",
            "30",
            "40",
            "50",
            "40",
            "30",
            "20",
            "10"
           ],
           "textfont": {
            "color": "#ffffff",
            "family": "Courier New, monospace",
            "size": 30
           },
           "type": "scatter",
           "x": [
            20,
            30,
            40,
            50,
            60,
            70,
            80,
            90,
            100
           ],
           "y": [
            5,
            5,
            5,
            5,
            5,
            5,
            5,
            5,
            5
           ]
          },
          {
           "hoverinfo": "none",
           "mode": "text",
           "showlegend": false,
           "text": [
            "10",
            "20",
            "30",
            "40",
            "50",
            "40",
            "30",
            "20",
            "10"
           ],
           "textfont": {
            "color": "#ffffff",
            "family": "Courier New, monospace",
            "size": 30
           },
           "type": "scatter",
           "x": [
            20,
            30,
            40,
            50,
            60,
            70,
            80,
            90,
            100
           ],
           "y": [
            48.5,
            48.5,
            48.5,
            48.5,
            48.5,
            48.5,
            48.5,
            48.5,
            48.5
           ]
          },
          {
           "hoverinfo": "none",
           "line": {
            "color": "blue",
            "dash": "dash"
           },
           "showlegend": false,
           "type": "scatter",
           "x": [
            19,
            19
           ],
           "y": [
            0,
            53.5
           ]
          },
          {
           "hoverinfo": "none",
           "line": {
            "color": "yellow",
            "dash": "dash"
           },
           "showlegend": false,
           "type": "scatter",
           "x": [
            10,
            10
           ],
           "y": [
            0,
            53.5
           ]
          },
          {
           "fill": "toself",
           "fillcolor": "#000000",
           "hoverinfo": "skip",
           "line": {
            "color": "white",
            "width": 3
           },
           "mode": "lines",
           "opacity": 1,
           "showlegend": false,
           "type": "scatter",
           "x": [
            0,
            0,
            10,
            10,
            0
           ],
           "y": [
            0,
            53.5,
            53.5,
            0,
            0
           ]
          },
          {
           "fill": "toself",
           "fillcolor": "#FFB612",
           "hoverinfo": "skip",
           "line": {
            "color": "white",
            "width": 3
           },
           "mode": "lines",
           "opacity": 1,
           "showlegend": false,
           "type": "scatter",
           "x": [
            110,
            110,
            120,
            120,
            110
           ],
           "y": [
            0,
            53.5,
            53.5,
            0,
            0
           ]
          },
          {
           "hoverinfo": "text",
           "hovertext": [
            "nflId:43299<br>displayName:Eli Apple<br>Player Speed:4.34 MPH",
            "nflId:43350<br>displayName:Vonn Bell<br>Player Speed:3.355 MPH",
            "nflId:43455<br>displayName:D.J. Reader<br>Player Speed:0.157 MPH",
            "nflId:43641<br>displayName:Mike Hilton<br>Player Speed:10.245 MPH",
            "nflId:44872<br>displayName:Chidobe Awuzie<br>Player Speed:2.438 MPH",
            "nflId:44915<br>displayName:Trey Hendrickson<br>Player Speed:0.157 MPH",
            "nflId:46123<br>displayName:Jessie Bates<br>Player Speed:1.834 MPH",
            "nflId:46138<br>displayName:B.J. Hill<br>Player Speed:0.022 MPH",
            "nflId:46146<br>displayName:Sam Hubbard<br>Player Speed:0.157 MPH",
            "nflId:47855<br>displayName:Germaine Pratt<br>Player Speed:0.38 MPH",
            "nflId:52473<br>displayName:Logan Wilson<br>Player Speed:2.528 MPH"
           ],
           "marker": {
            "color": "#000000",
            "line": {
             "color": "#FB4F14",
             "width": 2
            },
            "size": 10
           },
           "mode": "markers",
           "name": "CIN",
           "type": "scatter",
           "x": [
            13.27,
            14.65,
            17.9,
            15.73,
            13.34,
            18.04,
            8.81,
            17.39,
            17.94,
            14.9,
            14.79
           ],
           "y": [
            14.25,
            36.66,
            31.18,
            23.09,
            40.93,
            24.51,
            24.97,
            27.29,
            34.62,
            31.21,
            25.86
           ]
          },
          {
           "hoverinfo": "text",
           "hovertext": [
            "nflId:44814<br>displayName:Mitchell Trubisky<br>Player Speed:0.0 MPH",
            "nflId:46108<br>displayName:James Daniels<br>Player Speed:0.0 MPH",
            "nflId:46161<br>displayName:Chukwuma Okorafor<br>Player Speed:0.0 MPH",
            "nflId:46166<br>displayName:Mason Cole<br>Player Speed:0.0 MPH",
            "nflId:47849<br>displayName:Diontae Johnson<br>Player Speed:2.215 MPH",
            "nflId:52457<br>displayName:Chase Claypool<br>Player Speed:11.028 MPH",
            "nflId:52543<br>displayName:Kevin Dotson<br>Player Speed:0.0 MPH",
            "nflId:53453<br>displayName:Najee Harris<br>Player Speed:0.828 MPH",
            "nflId:53484<br>displayName:Pat Freiermuth<br>Player Speed:1.476 MPH",
            "nflId:53557<br>displayName:Dan Moore<br>Player Speed:0.0 MPH",
            "nflId:54517<br>displayName:George Pickens<br>Player Speed:7.896 MPH"
           ],
           "marker": {
            "color": "#FFB612",
            "line": {
             "color": "#101820",
             "width": 2
            },
            "size": 10
           },
           "mode": "markers",
           "name": "PIT",
           "type": "scatter",
           "x": [
            24.03,
            20.21,
            20.26,
            19.2,
            19.58,
            22.22,
            20.03,
            24.03,
            21.62,
            20.18,
            20.41
           ],
           "y": [
            29.61,
            31.14,
            32.7,
            29.61,
            36.9,
            28.72,
            28.05,
            31.79,
            25.41,
            26.36,
            19.42
           ]
          },
          {
           "hoverinfo": "none",
           "marker": {
            "color": "#CBB67C",
            "line": {
             "color": "#663831",
             "width": 2
            },
            "size": 10
           },
           "mode": "markers",
           "name": "football",
           "type": "scatter",
           "x": [
            18.9799995422363
           ],
           "y": [
            29.5900001525879
           ]
          }
         ],
         "name": "70"
        },
        {
         "data": [
          {
           "hoverinfo": "none",
           "mode": "text",
           "showlegend": false,
           "text": [
            "10",
            "20",
            "30",
            "40",
            "50",
            "40",
            "30",
            "20",
            "10"
           ],
           "textfont": {
            "color": "#ffffff",
            "family": "Courier New, monospace",
            "size": 30
           },
           "type": "scatter",
           "x": [
            20,
            30,
            40,
            50,
            60,
            70,
            80,
            90,
            100
           ],
           "y": [
            5,
            5,
            5,
            5,
            5,
            5,
            5,
            5,
            5
           ]
          },
          {
           "hoverinfo": "none",
           "mode": "text",
           "showlegend": false,
           "text": [
            "10",
            "20",
            "30",
            "40",
            "50",
            "40",
            "30",
            "20",
            "10"
           ],
           "textfont": {
            "color": "#ffffff",
            "family": "Courier New, monospace",
            "size": 30
           },
           "type": "scatter",
           "x": [
            20,
            30,
            40,
            50,
            60,
            70,
            80,
            90,
            100
           ],
           "y": [
            48.5,
            48.5,
            48.5,
            48.5,
            48.5,
            48.5,
            48.5,
            48.5,
            48.5
           ]
          },
          {
           "hoverinfo": "none",
           "line": {
            "color": "blue",
            "dash": "dash"
           },
           "showlegend": false,
           "type": "scatter",
           "x": [
            19,
            19
           ],
           "y": [
            0,
            53.5
           ]
          },
          {
           "hoverinfo": "none",
           "line": {
            "color": "yellow",
            "dash": "dash"
           },
           "showlegend": false,
           "type": "scatter",
           "x": [
            10,
            10
           ],
           "y": [
            0,
            53.5
           ]
          },
          {
           "fill": "toself",
           "fillcolor": "#000000",
           "hoverinfo": "skip",
           "line": {
            "color": "white",
            "width": 3
           },
           "mode": "lines",
           "opacity": 1,
           "showlegend": false,
           "type": "scatter",
           "x": [
            0,
            0,
            10,
            10,
            0
           ],
           "y": [
            0,
            53.5,
            53.5,
            0,
            0
           ]
          },
          {
           "fill": "toself",
           "fillcolor": "#FFB612",
           "hoverinfo": "skip",
           "line": {
            "color": "white",
            "width": 3
           },
           "mode": "lines",
           "opacity": 1,
           "showlegend": false,
           "type": "scatter",
           "x": [
            110,
            110,
            120,
            120,
            110
           ],
           "y": [
            0,
            53.5,
            53.5,
            0,
            0
           ]
          },
          {
           "hoverinfo": "text",
           "hovertext": [
            "nflId:43299<br>displayName:Eli Apple<br>Player Speed:4.608 MPH",
            "nflId:43350<br>displayName:Vonn Bell<br>Player Speed:3.467 MPH",
            "nflId:43455<br>displayName:D.J. Reader<br>Player Speed:0.224 MPH",
            "nflId:43641<br>displayName:Mike Hilton<br>Player Speed:10.491 MPH",
            "nflId:44872<br>displayName:Chidobe Awuzie<br>Player Speed:2.438 MPH",
            "nflId:44915<br>displayName:Trey Hendrickson<br>Player Speed:0.291 MPH",
            "nflId:46123<br>displayName:Jessie Bates<br>Player Speed:2.08 MPH",
            "nflId:46138<br>displayName:B.J. Hill<br>Player Speed:0.022 MPH",
            "nflId:46146<br>displayName:Sam Hubbard<br>Player Speed:0.157 MPH",
            "nflId:47855<br>displayName:Germaine Pratt<br>Player Speed:0.559 MPH",
            "nflId:52473<br>displayName:Logan Wilson<br>Player Speed:2.438 MPH"
           ],
           "marker": {
            "color": "#000000",
            "line": {
             "color": "#FB4F14",
             "width": 2
            },
            "size": 10
           },
           "mode": "markers",
           "name": "CIN",
           "type": "scatter",
           "x": [
            13.28,
            14.54,
            17.9,
            15.75,
            13.38,
            18.03,
            8.88,
            17.39,
            17.94,
            14.91,
            14.8
           ],
           "y": [
            14.46,
            36.55,
            31.17,
            23.56,
            40.83,
            24.49,
            25.02,
            27.3,
            34.61,
            31.18,
            25.97
           ]
          },
          {
           "hoverinfo": "text",
           "hovertext": [
            "nflId:44814<br>displayName:Mitchell Trubisky<br>Player Speed:0.0 MPH",
            "nflId:46108<br>displayName:James Daniels<br>Player Speed:0.0 MPH",
            "nflId:46161<br>displayName:Chukwuma Okorafor<br>Player Speed:0.0 MPH",
            "nflId:46166<br>displayName:Mason Cole<br>Player Speed:0.0 MPH",
            "nflId:47849<br>displayName:Diontae Johnson<br>Player Speed:2.215 MPH",
            "nflId:52457<br>displayName:Chase Claypool<br>Player Speed:10.849 MPH",
            "nflId:52543<br>displayName:Kevin Dotson<br>Player Speed:0.0 MPH",
            "nflId:53453<br>displayName:Najee Harris<br>Player Speed:0.604 MPH",
            "nflId:53484<br>displayName:Pat Freiermuth<br>Player Speed:1.365 MPH",
            "nflId:53557<br>displayName:Dan Moore<br>Player Speed:0.0 MPH",
            "nflId:54517<br>displayName:George Pickens<br>Player Speed:7.203 MPH"
           ],
           "marker": {
            "color": "#FFB612",
            "line": {
             "color": "#101820",
             "width": 2
            },
            "size": 10
           },
           "mode": "markers",
           "name": "PIT",
           "type": "scatter",
           "x": [
            24.03,
            20.21,
            20.26,
            19.2,
            19.55,
            22.2,
            20.02,
            24.05,
            21.64,
            20.18,
            20.4
           ],
           "y": [
            29.61,
            31.13,
            32.7,
            29.61,
            36.81,
            29.2,
            28.05,
            31.77,
            25.47,
            26.35,
            19.75
           ]
          },
          {
           "hoverinfo": "none",
           "marker": {
            "color": "#CBB67C",
            "line": {
             "color": "#663831",
             "width": 2
            },
            "size": 10
           },
           "mode": "markers",
           "name": "football",
           "type": "scatter",
           "x": [
            18.9799995422363
           ],
           "y": [
            29.5900001525879
           ]
          }
         ],
         "name": "71"
        },
        {
         "data": [
          {
           "hoverinfo": "none",
           "mode": "text",
           "showlegend": false,
           "text": [
            "10",
            "20",
            "30",
            "40",
            "50",
            "40",
            "30",
            "20",
            "10"
           ],
           "textfont": {
            "color": "#ffffff",
            "family": "Courier New, monospace",
            "size": 30
           },
           "type": "scatter",
           "x": [
            20,
            30,
            40,
            50,
            60,
            70,
            80,
            90,
            100
           ],
           "y": [
            5,
            5,
            5,
            5,
            5,
            5,
            5,
            5,
            5
           ]
          },
          {
           "hoverinfo": "none",
           "mode": "text",
           "showlegend": false,
           "text": [
            "10",
            "20",
            "30",
            "40",
            "50",
            "40",
            "30",
            "20",
            "10"
           ],
           "textfont": {
            "color": "#ffffff",
            "family": "Courier New, monospace",
            "size": 30
           },
           "type": "scatter",
           "x": [
            20,
            30,
            40,
            50,
            60,
            70,
            80,
            90,
            100
           ],
           "y": [
            48.5,
            48.5,
            48.5,
            48.5,
            48.5,
            48.5,
            48.5,
            48.5,
            48.5
           ]
          },
          {
           "hoverinfo": "none",
           "line": {
            "color": "blue",
            "dash": "dash"
           },
           "showlegend": false,
           "type": "scatter",
           "x": [
            19,
            19
           ],
           "y": [
            0,
            53.5
           ]
          },
          {
           "hoverinfo": "none",
           "line": {
            "color": "yellow",
            "dash": "dash"
           },
           "showlegend": false,
           "type": "scatter",
           "x": [
            10,
            10
           ],
           "y": [
            0,
            53.5
           ]
          },
          {
           "fill": "toself",
           "fillcolor": "#000000",
           "hoverinfo": "skip",
           "line": {
            "color": "white",
            "width": 3
           },
           "mode": "lines",
           "opacity": 1,
           "showlegend": false,
           "type": "scatter",
           "x": [
            0,
            0,
            10,
            10,
            0
           ],
           "y": [
            0,
            53.5,
            53.5,
            0,
            0
           ]
          },
          {
           "fill": "toself",
           "fillcolor": "#FFB612",
           "hoverinfo": "skip",
           "line": {
            "color": "white",
            "width": 3
           },
           "mode": "lines",
           "opacity": 1,
           "showlegend": false,
           "type": "scatter",
           "x": [
            110,
            110,
            120,
            120,
            110
           ],
           "y": [
            0,
            53.5,
            53.5,
            0,
            0
           ]
          },
          {
           "hoverinfo": "text",
           "hovertext": [
            "nflId:43299<br>displayName:Eli Apple<br>Player Speed:4.809 MPH",
            "nflId:43350<br>displayName:Vonn Bell<br>Player Speed:3.601 MPH",
            "nflId:43455<br>displayName:D.J. Reader<br>Player Speed:0.358 MPH",
            "nflId:43641<br>displayName:Mike Hilton<br>Player Speed:10.872 MPH",
            "nflId:44872<br>displayName:Chidobe Awuzie<br>Player Speed:2.371 MPH",
            "nflId:44915<br>displayName:Trey Hendrickson<br>Player Speed:0.336 MPH",
            "nflId:46123<br>displayName:Jessie Bates<br>Player Speed:2.259 MPH",
            "nflId:46138<br>displayName:B.J. Hill<br>Player Speed:0.022 MPH",
            "nflId:46146<br>displayName:Sam Hubbard<br>Player Speed:0.134 MPH",
            "nflId:47855<br>displayName:Germaine Pratt<br>Player Speed:0.85 MPH",
            "nflId:52473<br>displayName:Logan Wilson<br>Player Speed:2.304 MPH"
           ],
           "marker": {
            "color": "#000000",
            "line": {
             "color": "#FB4F14",
             "width": 2
            },
            "size": 10
           },
           "mode": "markers",
           "name": "CIN",
           "type": "scatter",
           "x": [
            13.3,
            14.44,
            17.91,
            15.76,
            13.42,
            18.03,
            8.96,
            17.39,
            17.95,
            14.92,
            14.8
           ],
           "y": [
            14.68,
            36.43,
            31.16,
            24.04,
            40.73,
            24.47,
            25.08,
            27.31,
            34.6,
            31.13,
            26.07
           ]
          },
          {
           "hoverinfo": "text",
           "hovertext": [
            "nflId:44814<br>displayName:Mitchell Trubisky<br>Player Speed:0.0 MPH",
            "nflId:46108<br>displayName:James Daniels<br>Player Speed:0.0 MPH",
            "nflId:46161<br>displayName:Chukwuma Okorafor<br>Player Speed:0.0 MPH",
            "nflId:46166<br>displayName:Mason Cole<br>Player Speed:0.0 MPH",
            "nflId:47849<br>displayName:Diontae Johnson<br>Player Speed:2.013 MPH",
            "nflId:52457<br>displayName:Chase Claypool<br>Player Speed:10.693 MPH",
            "nflId:52543<br>displayName:Kevin Dotson<br>Player Speed:0.0 MPH",
            "nflId:53453<br>displayName:Najee Harris<br>Player Speed:0.425 MPH",
            "nflId:53484<br>displayName:Pat Freiermuth<br>Player Speed:1.275 MPH",
            "nflId:53557<br>displayName:Dan Moore<br>Player Speed:0.0 MPH",
            "nflId:54517<br>displayName:George Pickens<br>Player Speed:6.577 MPH"
           ],
           "marker": {
            "color": "#FFB612",
            "line": {
             "color": "#101820",
             "width": 2
            },
            "size": 10
           },
           "mode": "markers",
           "name": "PIT",
           "type": "scatter",
           "x": [
            24.03,
            20.21,
            20.26,
            19.2,
            19.54,
            22.16,
            20.02,
            24.06,
            21.66,
            20.18,
            20.38
           ],
           "y": [
            29.61,
            31.13,
            32.69,
            29.61,
            36.71,
            29.69,
            28.05,
            31.74,
            25.52,
            26.35,
            20.05
           ]
          },
          {
           "hoverinfo": "none",
           "marker": {
            "color": "#CBB67C",
            "line": {
             "color": "#663831",
             "width": 2
            },
            "size": 10
           },
           "mode": "markers",
           "name": "football",
           "type": "scatter",
           "x": [
            18.9799995422363
           ],
           "y": [
            29.5900001525879
           ]
          }
         ],
         "name": "72"
        },
        {
         "data": [
          {
           "hoverinfo": "none",
           "mode": "text",
           "showlegend": false,
           "text": [
            "10",
            "20",
            "30",
            "40",
            "50",
            "40",
            "30",
            "20",
            "10"
           ],
           "textfont": {
            "color": "#ffffff",
            "family": "Courier New, monospace",
            "size": 30
           },
           "type": "scatter",
           "x": [
            20,
            30,
            40,
            50,
            60,
            70,
            80,
            90,
            100
           ],
           "y": [
            5,
            5,
            5,
            5,
            5,
            5,
            5,
            5,
            5
           ]
          },
          {
           "hoverinfo": "none",
           "mode": "text",
           "showlegend": false,
           "text": [
            "10",
            "20",
            "30",
            "40",
            "50",
            "40",
            "30",
            "20",
            "10"
           ],
           "textfont": {
            "color": "#ffffff",
            "family": "Courier New, monospace",
            "size": 30
           },
           "type": "scatter",
           "x": [
            20,
            30,
            40,
            50,
            60,
            70,
            80,
            90,
            100
           ],
           "y": [
            48.5,
            48.5,
            48.5,
            48.5,
            48.5,
            48.5,
            48.5,
            48.5,
            48.5
           ]
          },
          {
           "hoverinfo": "none",
           "line": {
            "color": "blue",
            "dash": "dash"
           },
           "showlegend": false,
           "type": "scatter",
           "x": [
            19,
            19
           ],
           "y": [
            0,
            53.5
           ]
          },
          {
           "hoverinfo": "none",
           "line": {
            "color": "yellow",
            "dash": "dash"
           },
           "showlegend": false,
           "type": "scatter",
           "x": [
            10,
            10
           ],
           "y": [
            0,
            53.5
           ]
          },
          {
           "fill": "toself",
           "fillcolor": "#000000",
           "hoverinfo": "skip",
           "line": {
            "color": "white",
            "width": 3
           },
           "mode": "lines",
           "opacity": 1,
           "showlegend": false,
           "type": "scatter",
           "x": [
            0,
            0,
            10,
            10,
            0
           ],
           "y": [
            0,
            53.5,
            53.5,
            0,
            0
           ]
          },
          {
           "fill": "toself",
           "fillcolor": "#FFB612",
           "hoverinfo": "skip",
           "line": {
            "color": "white",
            "width": 3
           },
           "mode": "lines",
           "opacity": 1,
           "showlegend": false,
           "type": "scatter",
           "x": [
            110,
            110,
            120,
            120,
            110
           ],
           "y": [
            0,
            53.5,
            53.5,
            0,
            0
           ]
          },
          {
           "hoverinfo": "text",
           "hovertext": [
            "nflId:43299<br>displayName:Eli Apple<br>Player Speed:4.966 MPH",
            "nflId:43350<br>displayName:Vonn Bell<br>Player Speed:3.915 MPH",
            "nflId:43455<br>displayName:D.J. Reader<br>Player Speed:0.649 MPH",
            "nflId:43641<br>displayName:Mike Hilton<br>Player Speed:11.162 MPH",
            "nflId:44872<br>displayName:Chidobe Awuzie<br>Player Speed:2.326 MPH",
            "nflId:44915<br>displayName:Trey Hendrickson<br>Player Speed:0.201 MPH",
            "nflId:46123<br>displayName:Jessie Bates<br>Player Speed:2.326 MPH",
            "nflId:46138<br>displayName:B.J. Hill<br>Player Speed:0.022 MPH",
            "nflId:46146<br>displayName:Sam Hubbard<br>Player Speed:0.134 MPH",
            "nflId:47855<br>displayName:Germaine Pratt<br>Player Speed:1.275 MPH",
            "nflId:52473<br>displayName:Logan Wilson<br>Player Speed:2.349 MPH"
           ],
           "marker": {
            "color": "#000000",
            "line": {
             "color": "#FB4F14",
             "width": 2
            },
            "size": 10
           },
           "mode": "markers",
           "name": "CIN",
           "type": "scatter",
           "x": [
            13.3,
            14.32,
            17.91,
            15.79,
            13.46,
            18.02,
            9.04,
            17.39,
            17.96,
            14.93,
            14.8
           ],
           "y": [
            14.9,
            36.29,
            31.14,
            24.54,
            40.63,
            24.48,
            25.13,
            27.32,
            34.58,
            31.08,
            26.18
           ]
          },
          {
           "hoverinfo": "text",
           "hovertext": [
            "nflId:44814<br>displayName:Mitchell Trubisky<br>Player Speed:0.0 MPH",
            "nflId:46108<br>displayName:James Daniels<br>Player Speed:0.0 MPH",
            "nflId:46161<br>displayName:Chukwuma Okorafor<br>Player Speed:0.0 MPH",
            "nflId:46166<br>displayName:Mason Cole<br>Player Speed:0.0 MPH",
            "nflId:47849<br>displayName:Diontae Johnson<br>Player Speed:1.566 MPH",
            "nflId:52457<br>displayName:Chase Claypool<br>Player Speed:10.514 MPH",
            "nflId:52543<br>displayName:Kevin Dotson<br>Player Speed:0.0 MPH",
            "nflId:53453<br>displayName:Najee Harris<br>Player Speed:0.291 MPH",
            "nflId:53484<br>displayName:Pat Freiermuth<br>Player Speed:1.141 MPH",
            "nflId:53557<br>displayName:Dan Moore<br>Player Speed:0.0 MPH",
            "nflId:54517<br>displayName:George Pickens<br>Player Speed:5.928 MPH"
           ],
           "marker": {
            "color": "#FFB612",
            "line": {
             "color": "#101820",
             "width": 2
            },
            "size": 10
           },
           "mode": "markers",
           "name": "PIT",
           "type": "scatter",
           "x": [
            24.03,
            20.21,
            20.26,
            19.2,
            19.53,
            22.12,
            20.02,
            24.07,
            21.67,
            20.18,
            20.36
           ],
           "y": [
            29.61,
            31.13,
            32.69,
            29.61,
            36.64,
            30.16,
            28.05,
            31.73,
            25.58,
            26.35,
            20.33
           ]
          },
          {
           "hoverinfo": "none",
           "marker": {
            "color": "#CBB67C",
            "line": {
             "color": "#663831",
             "width": 2
            },
            "size": 10
           },
           "mode": "markers",
           "name": "football",
           "type": "scatter",
           "x": [
            18.9799995422363
           ],
           "y": [
            29.5900001525879
           ]
          }
         ],
         "name": "73"
        },
        {
         "data": [
          {
           "hoverinfo": "none",
           "mode": "text",
           "showlegend": false,
           "text": [
            "10",
            "20",
            "30",
            "40",
            "50",
            "40",
            "30",
            "20",
            "10"
           ],
           "textfont": {
            "color": "#ffffff",
            "family": "Courier New, monospace",
            "size": 30
           },
           "type": "scatter",
           "x": [
            20,
            30,
            40,
            50,
            60,
            70,
            80,
            90,
            100
           ],
           "y": [
            5,
            5,
            5,
            5,
            5,
            5,
            5,
            5,
            5
           ]
          },
          {
           "hoverinfo": "none",
           "mode": "text",
           "showlegend": false,
           "text": [
            "10",
            "20",
            "30",
            "40",
            "50",
            "40",
            "30",
            "20",
            "10"
           ],
           "textfont": {
            "color": "#ffffff",
            "family": "Courier New, monospace",
            "size": 30
           },
           "type": "scatter",
           "x": [
            20,
            30,
            40,
            50,
            60,
            70,
            80,
            90,
            100
           ],
           "y": [
            48.5,
            48.5,
            48.5,
            48.5,
            48.5,
            48.5,
            48.5,
            48.5,
            48.5
           ]
          },
          {
           "hoverinfo": "none",
           "line": {
            "color": "blue",
            "dash": "dash"
           },
           "showlegend": false,
           "type": "scatter",
           "x": [
            19,
            19
           ],
           "y": [
            0,
            53.5
           ]
          },
          {
           "hoverinfo": "none",
           "line": {
            "color": "yellow",
            "dash": "dash"
           },
           "showlegend": false,
           "type": "scatter",
           "x": [
            10,
            10
           ],
           "y": [
            0,
            53.5
           ]
          },
          {
           "fill": "toself",
           "fillcolor": "#000000",
           "hoverinfo": "skip",
           "line": {
            "color": "white",
            "width": 3
           },
           "mode": "lines",
           "opacity": 1,
           "showlegend": false,
           "type": "scatter",
           "x": [
            0,
            0,
            10,
            10,
            0
           ],
           "y": [
            0,
            53.5,
            53.5,
            0,
            0
           ]
          },
          {
           "fill": "toself",
           "fillcolor": "#FFB612",
           "hoverinfo": "skip",
           "line": {
            "color": "white",
            "width": 3
           },
           "mode": "lines",
           "opacity": 1,
           "showlegend": false,
           "type": "scatter",
           "x": [
            110,
            110,
            120,
            120,
            110
           ],
           "y": [
            0,
            53.5,
            53.5,
            0,
            0
           ]
          },
          {
           "hoverinfo": "text",
           "hovertext": [
            "nflId:43299<br>displayName:Eli Apple<br>Player Speed:5.033 MPH",
            "nflId:43350<br>displayName:Vonn Bell<br>Player Speed:4.183 MPH",
            "nflId:43455<br>displayName:D.J. Reader<br>Player Speed:0.828 MPH",
            "nflId:43641<br>displayName:Mike Hilton<br>Player Speed:11.408 MPH",
            "nflId:44872<br>displayName:Chidobe Awuzie<br>Player Speed:2.259 MPH",
            "nflId:44915<br>displayName:Trey Hendrickson<br>Player Speed:0.157 MPH",
            "nflId:46123<br>displayName:Jessie Bates<br>Player Speed:2.416 MPH",
            "nflId:46138<br>displayName:B.J. Hill<br>Player Speed:0.022 MPH",
            "nflId:46146<br>displayName:Sam Hubbard<br>Player Speed:0.112 MPH",
            "nflId:47855<br>displayName:Germaine Pratt<br>Player Speed:1.611 MPH",
            "nflId:52473<br>displayName:Logan Wilson<br>Player Speed:2.438 MPH"
           ],
           "marker": {
            "color": "#000000",
            "line": {
             "color": "#FB4F14",
             "width": 2
            },
            "size": 10
           },
           "mode": "markers",
           "name": "CIN",
           "type": "scatter",
           "x": [
            13.31,
            14.21,
            17.92,
            15.81,
            13.5,
            18.02,
            9.13,
            17.39,
            17.97,
            14.95,
            14.8
           ],
           "y": [
            15.12,
            36.15,
            31.1,
            25.05,
            40.54,
            24.47,
            25.18,
            27.33,
            34.57,
            31.01,
            26.29
           ]
          },
          {
           "hoverinfo": "text",
           "hovertext": [
            "nflId:44814<br>displayName:Mitchell Trubisky<br>Player Speed:0.0 MPH",
            "nflId:46108<br>displayName:James Daniels<br>Player Speed:0.0 MPH",
            "nflId:46161<br>displayName:Chukwuma Okorafor<br>Player Speed:0.0 MPH",
            "nflId:46166<br>displayName:Mason Cole<br>Player Speed:0.0 MPH",
            "nflId:47849<br>displayName:Diontae Johnson<br>Player Speed:1.297 MPH",
            "nflId:52457<br>displayName:Chase Claypool<br>Player Speed:10.223 MPH",
            "nflId:52543<br>displayName:Kevin Dotson<br>Player Speed:0.0 MPH",
            "nflId:53453<br>displayName:Najee Harris<br>Player Speed:0.157 MPH",
            "nflId:53484<br>displayName:Pat Freiermuth<br>Player Speed:0.94 MPH",
            "nflId:53557<br>displayName:Dan Moore<br>Player Speed:0.0 MPH",
            "nflId:54517<br>displayName:George Pickens<br>Player Speed:5.234 MPH"
           ],
           "marker": {
            "color": "#FFB612",
            "line": {
             "color": "#101820",
             "width": 2
            },
            "size": 10
           },
           "mode": "markers",
           "name": "PIT",
           "type": "scatter",
           "x": [
            24.03,
            20.21,
            20.26,
            19.19,
            19.53,
            22.07,
            20.02,
            24.07,
            21.67,
            20.18,
            20.33
           ],
           "y": [
            29.61,
            31.13,
            32.69,
            29.61,
            36.57,
            30.62,
            28.05,
            31.72,
            25.62,
            26.35,
            20.58
           ]
          },
          {
           "hoverinfo": "none",
           "marker": {
            "color": "#CBB67C",
            "line": {
             "color": "#663831",
             "width": 2
            },
            "size": 10
           },
           "mode": "markers",
           "name": "football",
           "type": "scatter",
           "x": [
            18.9799995422363
           ],
           "y": [
            29.5900001525879
           ]
          }
         ],
         "name": "74"
        },
        {
         "data": [
          {
           "hoverinfo": "none",
           "mode": "text",
           "showlegend": false,
           "text": [
            "10",
            "20",
            "30",
            "40",
            "50",
            "40",
            "30",
            "20",
            "10"
           ],
           "textfont": {
            "color": "#ffffff",
            "family": "Courier New, monospace",
            "size": 30
           },
           "type": "scatter",
           "x": [
            20,
            30,
            40,
            50,
            60,
            70,
            80,
            90,
            100
           ],
           "y": [
            5,
            5,
            5,
            5,
            5,
            5,
            5,
            5,
            5
           ]
          },
          {
           "hoverinfo": "none",
           "mode": "text",
           "showlegend": false,
           "text": [
            "10",
            "20",
            "30",
            "40",
            "50",
            "40",
            "30",
            "20",
            "10"
           ],
           "textfont": {
            "color": "#ffffff",
            "family": "Courier New, monospace",
            "size": 30
           },
           "type": "scatter",
           "x": [
            20,
            30,
            40,
            50,
            60,
            70,
            80,
            90,
            100
           ],
           "y": [
            48.5,
            48.5,
            48.5,
            48.5,
            48.5,
            48.5,
            48.5,
            48.5,
            48.5
           ]
          },
          {
           "hoverinfo": "none",
           "line": {
            "color": "blue",
            "dash": "dash"
           },
           "showlegend": false,
           "type": "scatter",
           "x": [
            19,
            19
           ],
           "y": [
            0,
            53.5
           ]
          },
          {
           "hoverinfo": "none",
           "line": {
            "color": "yellow",
            "dash": "dash"
           },
           "showlegend": false,
           "type": "scatter",
           "x": [
            10,
            10
           ],
           "y": [
            0,
            53.5
           ]
          },
          {
           "fill": "toself",
           "fillcolor": "#000000",
           "hoverinfo": "skip",
           "line": {
            "color": "white",
            "width": 3
           },
           "mode": "lines",
           "opacity": 1,
           "showlegend": false,
           "type": "scatter",
           "x": [
            0,
            0,
            10,
            10,
            0
           ],
           "y": [
            0,
            53.5,
            53.5,
            0,
            0
           ]
          },
          {
           "fill": "toself",
           "fillcolor": "#FFB612",
           "hoverinfo": "skip",
           "line": {
            "color": "white",
            "width": 3
           },
           "mode": "lines",
           "opacity": 1,
           "showlegend": false,
           "type": "scatter",
           "x": [
            110,
            110,
            120,
            120,
            110
           ],
           "y": [
            0,
            53.5,
            53.5,
            0,
            0
           ]
          },
          {
           "hoverinfo": "text",
           "hovertext": [
            "nflId:43299<br>displayName:Eli Apple<br>Player Speed:5.145 MPH",
            "nflId:43350<br>displayName:Vonn Bell<br>Player Speed:4.496 MPH",
            "nflId:43455<br>displayName:D.J. Reader<br>Player Speed:0.738 MPH",
            "nflId:43641<br>displayName:Mike Hilton<br>Player Speed:11.543 MPH",
            "nflId:44872<br>displayName:Chidobe Awuzie<br>Player Speed:2.192 MPH",
            "nflId:44915<br>displayName:Trey Hendrickson<br>Player Speed:0.089 MPH",
            "nflId:46123<br>displayName:Jessie Bates<br>Player Speed:2.438 MPH",
            "nflId:46138<br>displayName:B.J. Hill<br>Player Speed:0.022 MPH",
            "nflId:46146<br>displayName:Sam Hubbard<br>Player Speed:0.112 MPH",
            "nflId:47855<br>displayName:Germaine Pratt<br>Player Speed:1.857 MPH",
            "nflId:52473<br>displayName:Logan Wilson<br>Player Speed:2.662 MPH"
           ],
           "marker": {
            "color": "#000000",
            "line": {
             "color": "#FB4F14",
             "width": 2
            },
            "size": 10
           },
           "mode": "markers",
           "name": "CIN",
           "type": "scatter",
           "x": [
            13.33,
            14.09,
            17.92,
            15.83,
            13.53,
            18.03,
            9.22,
            17.39,
            17.97,
            14.97,
            14.8
           ],
           "y": [
            15.35,
            35.99,
            31.08,
            25.57,
            40.44,
            24.48,
            25.24,
            27.35,
            34.57,
            30.94,
            26.42
           ]
          },
          {
           "hoverinfo": "text",
           "hovertext": [
            "nflId:44814<br>displayName:Mitchell Trubisky<br>Player Speed:0.0 MPH",
            "nflId:46108<br>displayName:James Daniels<br>Player Speed:0.0 MPH",
            "nflId:46161<br>displayName:Chukwuma Okorafor<br>Player Speed:0.0 MPH",
            "nflId:46166<br>displayName:Mason Cole<br>Player Speed:0.0 MPH",
            "nflId:47849<br>displayName:Diontae Johnson<br>Player Speed:1.186 MPH",
            "nflId:52457<br>displayName:Chase Claypool<br>Player Speed:9.91 MPH",
            "nflId:52543<br>displayName:Kevin Dotson<br>Player Speed:0.0 MPH",
            "nflId:53453<br>displayName:Najee Harris<br>Player Speed:0.112 MPH",
            "nflId:53484<br>displayName:Pat Freiermuth<br>Player Speed:0.738 MPH",
            "nflId:53557<br>displayName:Dan Moore<br>Player Speed:0.0 MPH",
            "nflId:54517<br>displayName:George Pickens<br>Player Speed:4.496 MPH"
           ],
           "marker": {
            "color": "#FFB612",
            "line": {
             "color": "#101820",
             "width": 2
            },
            "size": 10
           },
           "mode": "markers",
           "name": "PIT",
           "type": "scatter",
           "x": [
            24.03,
            20.21,
            20.27,
            19.19,
            19.53,
            22.01,
            20.02,
            24.06,
            21.67,
            20.17,
            20.3
           ],
           "y": [
            29.61,
            31.13,
            32.7,
            29.61,
            36.52,
            31.07,
            28.05,
            31.71,
            25.66,
            26.35,
            20.79
           ]
          },
          {
           "hoverinfo": "none",
           "marker": {
            "color": "#CBB67C",
            "line": {
             "color": "#663831",
             "width": 2
            },
            "size": 10
           },
           "mode": "markers",
           "name": "football",
           "type": "scatter",
           "x": [
            18.9699993133545
           ],
           "y": [
            29.5900001525879
           ]
          }
         ],
         "name": "75"
        },
        {
         "data": [
          {
           "hoverinfo": "none",
           "mode": "text",
           "showlegend": false,
           "text": [
            "10",
            "20",
            "30",
            "40",
            "50",
            "40",
            "30",
            "20",
            "10"
           ],
           "textfont": {
            "color": "#ffffff",
            "family": "Courier New, monospace",
            "size": 30
           },
           "type": "scatter",
           "x": [
            20,
            30,
            40,
            50,
            60,
            70,
            80,
            90,
            100
           ],
           "y": [
            5,
            5,
            5,
            5,
            5,
            5,
            5,
            5,
            5
           ]
          },
          {
           "hoverinfo": "none",
           "mode": "text",
           "showlegend": false,
           "text": [
            "10",
            "20",
            "30",
            "40",
            "50",
            "40",
            "30",
            "20",
            "10"
           ],
           "textfont": {
            "color": "#ffffff",
            "family": "Courier New, monospace",
            "size": 30
           },
           "type": "scatter",
           "x": [
            20,
            30,
            40,
            50,
            60,
            70,
            80,
            90,
            100
           ],
           "y": [
            48.5,
            48.5,
            48.5,
            48.5,
            48.5,
            48.5,
            48.5,
            48.5,
            48.5
           ]
          },
          {
           "hoverinfo": "none",
           "line": {
            "color": "blue",
            "dash": "dash"
           },
           "showlegend": false,
           "type": "scatter",
           "x": [
            19,
            19
           ],
           "y": [
            0,
            53.5
           ]
          },
          {
           "hoverinfo": "none",
           "line": {
            "color": "yellow",
            "dash": "dash"
           },
           "showlegend": false,
           "type": "scatter",
           "x": [
            10,
            10
           ],
           "y": [
            0,
            53.5
           ]
          },
          {
           "fill": "toself",
           "fillcolor": "#000000",
           "hoverinfo": "skip",
           "line": {
            "color": "white",
            "width": 3
           },
           "mode": "lines",
           "opacity": 1,
           "showlegend": false,
           "type": "scatter",
           "x": [
            0,
            0,
            10,
            10,
            0
           ],
           "y": [
            0,
            53.5,
            53.5,
            0,
            0
           ]
          },
          {
           "fill": "toself",
           "fillcolor": "#FFB612",
           "hoverinfo": "skip",
           "line": {
            "color": "white",
            "width": 3
           },
           "mode": "lines",
           "opacity": 1,
           "showlegend": false,
           "type": "scatter",
           "x": [
            110,
            110,
            120,
            120,
            110
           ],
           "y": [
            0,
            53.5,
            53.5,
            0,
            0
           ]
          },
          {
           "hoverinfo": "text",
           "hovertext": [
            "nflId:43299<br>displayName:Eli Apple<br>Player Speed:5.234 MPH",
            "nflId:43350<br>displayName:Vonn Bell<br>Player Speed:4.988 MPH",
            "nflId:43455<br>displayName:D.J. Reader<br>Player Speed:0.738 MPH",
            "nflId:43641<br>displayName:Mike Hilton<br>Player Speed:11.677 MPH",
            "nflId:44872<br>displayName:Chidobe Awuzie<br>Player Speed:2.147 MPH",
            "nflId:44915<br>displayName:Trey Hendrickson<br>Player Speed:0.045 MPH",
            "nflId:46123<br>displayName:Jessie Bates<br>Player Speed:2.55 MPH",
            "nflId:46138<br>displayName:B.J. Hill<br>Player Speed:0.022 MPH",
            "nflId:46146<br>displayName:Sam Hubbard<br>Player Speed:0.089 MPH",
            "nflId:47855<br>displayName:Germaine Pratt<br>Player Speed:2.17 MPH",
            "nflId:52473<br>displayName:Logan Wilson<br>Player Speed:2.819 MPH"
           ],
           "marker": {
            "color": "#000000",
            "line": {
             "color": "#FB4F14",
             "width": 2
            },
            "size": 10
           },
           "mode": "markers",
           "name": "CIN",
           "type": "scatter",
           "x": [
            13.34,
            13.97,
            17.93,
            15.85,
            13.55,
            18.04,
            9.33,
            17.39,
            17.97,
            14.99,
            14.79
           ],
           "y": [
            15.58,
            35.8,
            31.04,
            26.09,
            40.34,
            24.48,
            25.29,
            27.36,
            34.57,
            30.85,
            26.54
           ]
          },
          {
           "hoverinfo": "text",
           "hovertext": [
            "nflId:44814<br>displayName:Mitchell Trubisky<br>Player Speed:0.0 MPH",
            "nflId:46108<br>displayName:James Daniels<br>Player Speed:0.0 MPH",
            "nflId:46161<br>displayName:Chukwuma Okorafor<br>Player Speed:0.0 MPH",
            "nflId:46166<br>displayName:Mason Cole<br>Player Speed:0.0 MPH",
            "nflId:47849<br>displayName:Diontae Johnson<br>Player Speed:0.94 MPH",
            "nflId:52457<br>displayName:Chase Claypool<br>Player Speed:9.44 MPH",
            "nflId:52543<br>displayName:Kevin Dotson<br>Player Speed:0.0 MPH",
            "nflId:53453<br>displayName:Najee Harris<br>Player Speed:0.179 MPH",
            "nflId:53484<br>displayName:Pat Freiermuth<br>Player Speed:0.47 MPH",
            "nflId:53557<br>displayName:Dan Moore<br>Player Speed:0.0 MPH",
            "nflId:54517<br>displayName:George Pickens<br>Player Speed:3.87 MPH"
           ],
           "marker": {
            "color": "#FFB612",
            "line": {
             "color": "#101820",
             "width": 2
            },
            "size": 10
           },
           "mode": "markers",
           "name": "PIT",
           "type": "scatter",
           "x": [
            24.03,
            20.21,
            20.27,
            19.2,
            19.55,
            21.94,
            20.02,
            24.06,
            21.67,
            20.17,
            20.26
           ],
           "y": [
            29.61,
            31.13,
            32.7,
            29.61,
            36.48,
            31.49,
            28.05,
            31.71,
            25.68,
            26.35,
            20.97
           ]
          },
          {
           "hoverinfo": "none",
           "marker": {
            "color": "#CBB67C",
            "line": {
             "color": "#663831",
             "width": 2
            },
            "size": 10
           },
           "mode": "markers",
           "name": "football",
           "type": "scatter",
           "x": [
            18.9699993133545
           ],
           "y": [
            29.5900001525879
           ]
          }
         ],
         "name": "76"
        },
        {
         "data": [
          {
           "hoverinfo": "none",
           "mode": "text",
           "showlegend": false,
           "text": [
            "10",
            "20",
            "30",
            "40",
            "50",
            "40",
            "30",
            "20",
            "10"
           ],
           "textfont": {
            "color": "#ffffff",
            "family": "Courier New, monospace",
            "size": 30
           },
           "type": "scatter",
           "x": [
            20,
            30,
            40,
            50,
            60,
            70,
            80,
            90,
            100
           ],
           "y": [
            5,
            5,
            5,
            5,
            5,
            5,
            5,
            5,
            5
           ]
          },
          {
           "hoverinfo": "none",
           "mode": "text",
           "showlegend": false,
           "text": [
            "10",
            "20",
            "30",
            "40",
            "50",
            "40",
            "30",
            "20",
            "10"
           ],
           "textfont": {
            "color": "#ffffff",
            "family": "Courier New, monospace",
            "size": 30
           },
           "type": "scatter",
           "x": [
            20,
            30,
            40,
            50,
            60,
            70,
            80,
            90,
            100
           ],
           "y": [
            48.5,
            48.5,
            48.5,
            48.5,
            48.5,
            48.5,
            48.5,
            48.5,
            48.5
           ]
          },
          {
           "hoverinfo": "none",
           "line": {
            "color": "blue",
            "dash": "dash"
           },
           "showlegend": false,
           "type": "scatter",
           "x": [
            19,
            19
           ],
           "y": [
            0,
            53.5
           ]
          },
          {
           "hoverinfo": "none",
           "line": {
            "color": "yellow",
            "dash": "dash"
           },
           "showlegend": false,
           "type": "scatter",
           "x": [
            10,
            10
           ],
           "y": [
            0,
            53.5
           ]
          },
          {
           "fill": "toself",
           "fillcolor": "#000000",
           "hoverinfo": "skip",
           "line": {
            "color": "white",
            "width": 3
           },
           "mode": "lines",
           "opacity": 1,
           "showlegend": false,
           "type": "scatter",
           "x": [
            0,
            0,
            10,
            10,
            0
           ],
           "y": [
            0,
            53.5,
            53.5,
            0,
            0
           ]
          },
          {
           "fill": "toself",
           "fillcolor": "#FFB612",
           "hoverinfo": "skip",
           "line": {
            "color": "white",
            "width": 3
           },
           "mode": "lines",
           "opacity": 1,
           "showlegend": false,
           "type": "scatter",
           "x": [
            110,
            110,
            120,
            120,
            110
           ],
           "y": [
            0,
            53.5,
            53.5,
            0,
            0
           ]
          },
          {
           "hoverinfo": "text",
           "hovertext": [
            "nflId:43299<br>displayName:Eli Apple<br>Player Speed:5.19 MPH",
            "nflId:43350<br>displayName:Vonn Bell<br>Player Speed:5.324 MPH",
            "nflId:43455<br>displayName:D.J. Reader<br>Player Speed:0.403 MPH",
            "nflId:43641<br>displayName:Mike Hilton<br>Player Speed:11.722 MPH",
            "nflId:44872<br>displayName:Chidobe Awuzie<br>Player Speed:2.125 MPH",
            "nflId:44915<br>displayName:Trey Hendrickson<br>Player Speed:0.0 MPH",
            "nflId:46123<br>displayName:Jessie Bates<br>Player Speed:2.55 MPH",
            "nflId:46138<br>displayName:B.J. Hill<br>Player Speed:0.022 MPH",
            "nflId:46146<br>displayName:Sam Hubbard<br>Player Speed:0.089 MPH",
            "nflId:47855<br>displayName:Germaine Pratt<br>Player Speed:2.394 MPH",
            "nflId:52473<br>displayName:Logan Wilson<br>Player Speed:2.841 MPH"
           ],
           "marker": {
            "color": "#000000",
            "line": {
             "color": "#FB4F14",
             "width": 2
            },
            "size": 10
           },
           "mode": "markers",
           "name": "CIN",
           "type": "scatter",
           "x": [
            13.36,
            13.84,
            17.93,
            15.88,
            13.56,
            18.03,
            9.43,
            17.39,
            17.98,
            15.01,
            14.79
           ],
           "y": [
            15.81,
            35.6,
            31.02,
            26.62,
            40.25,
            24.48,
            25.34,
            27.37,
            34.55,
            30.75,
            26.67
           ]
          },
          {
           "hoverinfo": "text",
           "hovertext": [
            "nflId:44814<br>displayName:Mitchell Trubisky<br>Player Speed:0.0 MPH",
            "nflId:46108<br>displayName:James Daniels<br>Player Speed:0.0 MPH",
            "nflId:46161<br>displayName:Chukwuma Okorafor<br>Player Speed:0.0 MPH",
            "nflId:46166<br>displayName:Mason Cole<br>Player Speed:0.0 MPH",
            "nflId:47849<br>displayName:Diontae Johnson<br>Player Speed:0.783 MPH",
            "nflId:52457<br>displayName:Chase Claypool<br>Player Speed:8.858 MPH",
            "nflId:52543<br>displayName:Kevin Dotson<br>Player Speed:0.0 MPH",
            "nflId:53453<br>displayName:Najee Harris<br>Player Speed:0.268 MPH",
            "nflId:53484<br>displayName:Pat Freiermuth<br>Player Speed:0.201 MPH",
            "nflId:53557<br>displayName:Dan Moore<br>Player Speed:0.0 MPH",
            "nflId:54517<br>displayName:George Pickens<br>Player Speed:3.311 MPH"
           ],
           "marker": {
            "color": "#FFB612",
            "line": {
             "color": "#101820",
             "width": 2
            },
            "size": 10
           },
           "mode": "markers",
           "name": "PIT",
           "type": "scatter",
           "x": [
            24.02,
            20.2,
            20.27,
            19.2,
            19.57,
            21.85,
            20.02,
            24.05,
            21.66,
            20.17,
            20.22
           ],
           "y": [
            29.61,
            31.13,
            32.7,
            29.61,
            36.44,
            31.88,
            28.05,
            31.7,
            25.69,
            26.35,
            21.13
           ]
          },
          {
           "hoverinfo": "none",
           "marker": {
            "color": "#CBB67C",
            "line": {
             "color": "#663831",
             "width": 2
            },
            "size": 10
           },
           "mode": "markers",
           "name": "football",
           "type": "scatter",
           "x": [
            18.9699993133545
           ],
           "y": [
            29.5900001525879
           ]
          }
         ],
         "name": "77"
        },
        {
         "data": [
          {
           "hoverinfo": "none",
           "mode": "text",
           "showlegend": false,
           "text": [
            "10",
            "20",
            "30",
            "40",
            "50",
            "40",
            "30",
            "20",
            "10"
           ],
           "textfont": {
            "color": "#ffffff",
            "family": "Courier New, monospace",
            "size": 30
           },
           "type": "scatter",
           "x": [
            20,
            30,
            40,
            50,
            60,
            70,
            80,
            90,
            100
           ],
           "y": [
            5,
            5,
            5,
            5,
            5,
            5,
            5,
            5,
            5
           ]
          },
          {
           "hoverinfo": "none",
           "mode": "text",
           "showlegend": false,
           "text": [
            "10",
            "20",
            "30",
            "40",
            "50",
            "40",
            "30",
            "20",
            "10"
           ],
           "textfont": {
            "color": "#ffffff",
            "family": "Courier New, monospace",
            "size": 30
           },
           "type": "scatter",
           "x": [
            20,
            30,
            40,
            50,
            60,
            70,
            80,
            90,
            100
           ],
           "y": [
            48.5,
            48.5,
            48.5,
            48.5,
            48.5,
            48.5,
            48.5,
            48.5,
            48.5
           ]
          },
          {
           "hoverinfo": "none",
           "line": {
            "color": "blue",
            "dash": "dash"
           },
           "showlegend": false,
           "type": "scatter",
           "x": [
            19,
            19
           ],
           "y": [
            0,
            53.5
           ]
          },
          {
           "hoverinfo": "none",
           "line": {
            "color": "yellow",
            "dash": "dash"
           },
           "showlegend": false,
           "type": "scatter",
           "x": [
            10,
            10
           ],
           "y": [
            0,
            53.5
           ]
          },
          {
           "fill": "toself",
           "fillcolor": "#000000",
           "hoverinfo": "skip",
           "line": {
            "color": "white",
            "width": 3
           },
           "mode": "lines",
           "opacity": 1,
           "showlegend": false,
           "type": "scatter",
           "x": [
            0,
            0,
            10,
            10,
            0
           ],
           "y": [
            0,
            53.5,
            53.5,
            0,
            0
           ]
          },
          {
           "fill": "toself",
           "fillcolor": "#FFB612",
           "hoverinfo": "skip",
           "line": {
            "color": "white",
            "width": 3
           },
           "mode": "lines",
           "opacity": 1,
           "showlegend": false,
           "type": "scatter",
           "x": [
            110,
            110,
            120,
            120,
            110
           ],
           "y": [
            0,
            53.5,
            53.5,
            0,
            0
           ]
          },
          {
           "hoverinfo": "text",
           "hovertext": [
            "nflId:43299<br>displayName:Eli Apple<br>Player Speed:5.145 MPH",
            "nflId:43350<br>displayName:Vonn Bell<br>Player Speed:5.637 MPH",
            "nflId:43455<br>displayName:D.J. Reader<br>Player Speed:0.291 MPH",
            "nflId:43641<br>displayName:Mike Hilton<br>Player Speed:11.833 MPH",
            "nflId:44872<br>displayName:Chidobe Awuzie<br>Player Speed:2.125 MPH",
            "nflId:44915<br>displayName:Trey Hendrickson<br>Player Speed:0.067 MPH",
            "nflId:46123<br>displayName:Jessie Bates<br>Player Speed:2.595 MPH",
            "nflId:46138<br>displayName:B.J. Hill<br>Player Speed:0.022 MPH",
            "nflId:46146<br>displayName:Sam Hubbard<br>Player Speed:0.089 MPH",
            "nflId:47855<br>displayName:Germaine Pratt<br>Player Speed:2.55 MPH",
            "nflId:52473<br>displayName:Logan Wilson<br>Player Speed:2.863 MPH"
           ],
           "marker": {
            "color": "#000000",
            "line": {
             "color": "#FB4F14",
             "width": 2
            },
            "size": 10
           },
           "mode": "markers",
           "name": "CIN",
           "type": "scatter",
           "x": [
            13.38,
            13.72,
            17.94,
            15.9,
            13.57,
            18.02,
            9.53,
            17.39,
            17.98,
            15.02,
            14.78
           ],
           "y": [
            16.04,
            35.38,
            31.01,
            27.15,
            40.16,
            24.49,
            25.4,
            27.39,
            34.54,
            30.63,
            26.79
           ]
          },
          {
           "hoverinfo": "text",
           "hovertext": [
            "nflId:44814<br>displayName:Mitchell Trubisky<br>Player Speed:0.0 MPH",
            "nflId:46108<br>displayName:James Daniels<br>Player Speed:0.0 MPH",
            "nflId:46161<br>displayName:Chukwuma Okorafor<br>Player Speed:0.0 MPH",
            "nflId:46166<br>displayName:Mason Cole<br>Player Speed:0.0 MPH",
            "nflId:47849<br>displayName:Diontae Johnson<br>Player Speed:0.671 MPH",
            "nflId:52457<br>displayName:Chase Claypool<br>Player Speed:8.523 MPH",
            "nflId:52543<br>displayName:Kevin Dotson<br>Player Speed:0.0 MPH",
            "nflId:53453<br>displayName:Najee Harris<br>Player Speed:0.358 MPH",
            "nflId:53484<br>displayName:Pat Freiermuth<br>Player Speed:0.291 MPH",
            "nflId:53557<br>displayName:Dan Moore<br>Player Speed:0.0 MPH",
            "nflId:54517<br>displayName:George Pickens<br>Player Speed:2.796 MPH"
           ],
           "marker": {
            "color": "#FFB612",
            "line": {
             "color": "#101820",
             "width": 2
            },
            "size": 10
           },
           "mode": "markers",
           "name": "PIT",
           "type": "scatter",
           "x": [
            24.02,
            20.2,
            20.27,
            19.2,
            19.59,
            21.76,
            20.02,
            24.04,
            21.65,
            20.17,
            20.17
           ],
           "y": [
            29.61,
            31.13,
            32.7,
            29.61,
            36.42,
            32.27,
            28.05,
            31.69,
            25.68,
            26.35,
            21.25
           ]
          },
          {
           "hoverinfo": "none",
           "marker": {
            "color": "#CBB67C",
            "line": {
             "color": "#663831",
             "width": 2
            },
            "size": 10
           },
           "mode": "markers",
           "name": "football",
           "type": "scatter",
           "x": [
            18.9699993133545
           ],
           "y": [
            29.5900001525879
           ]
          }
         ],
         "name": "78"
        },
        {
         "data": [
          {
           "hoverinfo": "none",
           "mode": "text",
           "showlegend": false,
           "text": [
            "10",
            "20",
            "30",
            "40",
            "50",
            "40",
            "30",
            "20",
            "10"
           ],
           "textfont": {
            "color": "#ffffff",
            "family": "Courier New, monospace",
            "size": 30
           },
           "type": "scatter",
           "x": [
            20,
            30,
            40,
            50,
            60,
            70,
            80,
            90,
            100
           ],
           "y": [
            5,
            5,
            5,
            5,
            5,
            5,
            5,
            5,
            5
           ]
          },
          {
           "hoverinfo": "none",
           "mode": "text",
           "showlegend": false,
           "text": [
            "10",
            "20",
            "30",
            "40",
            "50",
            "40",
            "30",
            "20",
            "10"
           ],
           "textfont": {
            "color": "#ffffff",
            "family": "Courier New, monospace",
            "size": 30
           },
           "type": "scatter",
           "x": [
            20,
            30,
            40,
            50,
            60,
            70,
            80,
            90,
            100
           ],
           "y": [
            48.5,
            48.5,
            48.5,
            48.5,
            48.5,
            48.5,
            48.5,
            48.5,
            48.5
           ]
          },
          {
           "hoverinfo": "none",
           "line": {
            "color": "blue",
            "dash": "dash"
           },
           "showlegend": false,
           "type": "scatter",
           "x": [
            19,
            19
           ],
           "y": [
            0,
            53.5
           ]
          },
          {
           "hoverinfo": "none",
           "line": {
            "color": "yellow",
            "dash": "dash"
           },
           "showlegend": false,
           "type": "scatter",
           "x": [
            10,
            10
           ],
           "y": [
            0,
            53.5
           ]
          },
          {
           "fill": "toself",
           "fillcolor": "#000000",
           "hoverinfo": "skip",
           "line": {
            "color": "white",
            "width": 3
           },
           "mode": "lines",
           "opacity": 1,
           "showlegend": false,
           "type": "scatter",
           "x": [
            0,
            0,
            10,
            10,
            0
           ],
           "y": [
            0,
            53.5,
            53.5,
            0,
            0
           ]
          },
          {
           "fill": "toself",
           "fillcolor": "#FFB612",
           "hoverinfo": "skip",
           "line": {
            "color": "white",
            "width": 3
           },
           "mode": "lines",
           "opacity": 1,
           "showlegend": false,
           "type": "scatter",
           "x": [
            110,
            110,
            120,
            120,
            110
           ],
           "y": [
            0,
            53.5,
            53.5,
            0,
            0
           ]
          },
          {
           "hoverinfo": "text",
           "hovertext": [
            "nflId:43299<br>displayName:Eli Apple<br>Player Speed:5.033 MPH",
            "nflId:43350<br>displayName:Vonn Bell<br>Player Speed:5.973 MPH",
            "nflId:43455<br>displayName:D.J. Reader<br>Player Speed:0.313 MPH",
            "nflId:43641<br>displayName:Mike Hilton<br>Player Speed:11.833 MPH",
            "nflId:44872<br>displayName:Chidobe Awuzie<br>Player Speed:1.969 MPH",
            "nflId:44915<br>displayName:Trey Hendrickson<br>Player Speed:0.067 MPH",
            "nflId:46123<br>displayName:Jessie Bates<br>Player Speed:2.595 MPH",
            "nflId:46138<br>displayName:B.J. Hill<br>Player Speed:0.022 MPH",
            "nflId:46146<br>displayName:Sam Hubbard<br>Player Speed:0.067 MPH",
            "nflId:47855<br>displayName:Germaine Pratt<br>Player Speed:2.684 MPH",
            "nflId:52473<br>displayName:Logan Wilson<br>Player Speed:2.975 MPH"
           ],
           "marker": {
            "color": "#000000",
            "line": {
             "color": "#FB4F14",
             "width": 2
            },
            "size": 10
           },
           "mode": "markers",
           "name": "CIN",
           "type": "scatter",
           "x": [
            13.41,
            13.6,
            17.95,
            15.93,
            13.57,
            18.02,
            9.64,
            17.39,
            17.99,
            15.03,
            14.77
           ],
           "y": [
            16.27,
            35.15,
            31.01,
            27.68,
            40.07,
            24.5,
            25.45,
            27.4,
            34.52,
            30.52,
            26.93
           ]
          },
          {
           "hoverinfo": "text",
           "hovertext": [
            "nflId:44814<br>displayName:Mitchell Trubisky<br>Player Speed:0.0 MPH",
            "nflId:46108<br>displayName:James Daniels<br>Player Speed:0.0 MPH",
            "nflId:46161<br>displayName:Chukwuma Okorafor<br>Player Speed:0.0 MPH",
            "nflId:46166<br>displayName:Mason Cole<br>Player Speed:0.0 MPH",
            "nflId:47849<br>displayName:Diontae Johnson<br>Player Speed:0.693 MPH",
            "nflId:52457<br>displayName:Chase Claypool<br>Player Speed:7.963 MPH",
            "nflId:52543<br>displayName:Kevin Dotson<br>Player Speed:0.0 MPH",
            "nflId:53453<br>displayName:Najee Harris<br>Player Speed:0.268 MPH",
            "nflId:53484<br>displayName:Pat Freiermuth<br>Player Speed:0.425 MPH",
            "nflId:53557<br>displayName:Dan Moore<br>Player Speed:0.0 MPH",
            "nflId:54517<br>displayName:George Pickens<br>Player Speed:2.438 MPH"
           ],
           "marker": {
            "color": "#FFB612",
            "line": {
             "color": "#101820",
             "width": 2
            },
            "size": 10
           },
           "mode": "markers",
           "name": "PIT",
           "type": "scatter",
           "x": [
            24.02,
            20.2,
            20.26,
            19.2,
            19.62,
            21.67,
            20.02,
            24.03,
            21.64,
            20.17,
            20.13
           ],
           "y": [
            29.61,
            31.13,
            32.69,
            29.61,
            36.41,
            32.62,
            28.04,
            31.68,
            25.67,
            26.35,
            21.36
           ]
          },
          {
           "hoverinfo": "none",
           "marker": {
            "color": "#CBB67C",
            "line": {
             "color": "#663831",
             "width": 2
            },
            "size": 10
           },
           "mode": "markers",
           "name": "football",
           "type": "scatter",
           "x": [
            18.9699993133545
           ],
           "y": [
            29.5900001525879
           ]
          }
         ],
         "name": "79"
        },
        {
         "data": [
          {
           "hoverinfo": "none",
           "mode": "text",
           "showlegend": false,
           "text": [
            "10",
            "20",
            "30",
            "40",
            "50",
            "40",
            "30",
            "20",
            "10"
           ],
           "textfont": {
            "color": "#ffffff",
            "family": "Courier New, monospace",
            "size": 30
           },
           "type": "scatter",
           "x": [
            20,
            30,
            40,
            50,
            60,
            70,
            80,
            90,
            100
           ],
           "y": [
            5,
            5,
            5,
            5,
            5,
            5,
            5,
            5,
            5
           ]
          },
          {
           "hoverinfo": "none",
           "mode": "text",
           "showlegend": false,
           "text": [
            "10",
            "20",
            "30",
            "40",
            "50",
            "40",
            "30",
            "20",
            "10"
           ],
           "textfont": {
            "color": "#ffffff",
            "family": "Courier New, monospace",
            "size": 30
           },
           "type": "scatter",
           "x": [
            20,
            30,
            40,
            50,
            60,
            70,
            80,
            90,
            100
           ],
           "y": [
            48.5,
            48.5,
            48.5,
            48.5,
            48.5,
            48.5,
            48.5,
            48.5,
            48.5
           ]
          },
          {
           "hoverinfo": "none",
           "line": {
            "color": "blue",
            "dash": "dash"
           },
           "showlegend": false,
           "type": "scatter",
           "x": [
            19,
            19
           ],
           "y": [
            0,
            53.5
           ]
          },
          {
           "hoverinfo": "none",
           "line": {
            "color": "yellow",
            "dash": "dash"
           },
           "showlegend": false,
           "type": "scatter",
           "x": [
            10,
            10
           ],
           "y": [
            0,
            53.5
           ]
          },
          {
           "fill": "toself",
           "fillcolor": "#000000",
           "hoverinfo": "skip",
           "line": {
            "color": "white",
            "width": 3
           },
           "mode": "lines",
           "opacity": 1,
           "showlegend": false,
           "type": "scatter",
           "x": [
            0,
            0,
            10,
            10,
            0
           ],
           "y": [
            0,
            53.5,
            53.5,
            0,
            0
           ]
          },
          {
           "fill": "toself",
           "fillcolor": "#FFB612",
           "hoverinfo": "skip",
           "line": {
            "color": "white",
            "width": 3
           },
           "mode": "lines",
           "opacity": 1,
           "showlegend": false,
           "type": "scatter",
           "x": [
            110,
            110,
            120,
            120,
            110
           ],
           "y": [
            0,
            53.5,
            53.5,
            0,
            0
           ]
          },
          {
           "hoverinfo": "text",
           "hovertext": [
            "nflId:43299<br>displayName:Eli Apple<br>Player Speed:4.899 MPH",
            "nflId:43350<br>displayName:Vonn Bell<br>Player Speed:6.331 MPH",
            "nflId:43455<br>displayName:D.J. Reader<br>Player Speed:0.447 MPH",
            "nflId:43641<br>displayName:Mike Hilton<br>Player Speed:11.878 MPH",
            "nflId:44872<br>displayName:Chidobe Awuzie<br>Player Speed:1.924 MPH",
            "nflId:44915<br>displayName:Trey Hendrickson<br>Player Speed:0.045 MPH",
            "nflId:46123<br>displayName:Jessie Bates<br>Player Speed:2.595 MPH",
            "nflId:46138<br>displayName:B.J. Hill<br>Player Speed:0.022 MPH",
            "nflId:46146<br>displayName:Sam Hubbard<br>Player Speed:0.067 MPH",
            "nflId:47855<br>displayName:Germaine Pratt<br>Player Speed:2.729 MPH",
            "nflId:52473<br>displayName:Logan Wilson<br>Player Speed:2.729 MPH"
           ],
           "marker": {
            "color": "#000000",
            "line": {
             "color": "#FB4F14",
             "width": 2
            },
            "size": 10
           },
           "mode": "markers",
           "name": "CIN",
           "type": "scatter",
           "x": [
            13.43,
            13.48,
            17.97,
            15.96,
            13.57,
            18.03,
            9.73,
            17.4,
            18,
            15.03,
            14.75
           ],
           "y": [
            16.49,
            34.89,
            31.01,
            28.21,
            39.98,
            24.49,
            25.51,
            27.41,
            34.51,
            30.4,
            27.05
           ]
          },
          {
           "hoverinfo": "text",
           "hovertext": [
            "nflId:44814<br>displayName:Mitchell Trubisky<br>Player Speed:0.0 MPH",
            "nflId:46108<br>displayName:James Daniels<br>Player Speed:0.0 MPH",
            "nflId:46161<br>displayName:Chukwuma Okorafor<br>Player Speed:0.0 MPH",
            "nflId:46166<br>displayName:Mason Cole<br>Player Speed:0.0 MPH",
            "nflId:47849<br>displayName:Diontae Johnson<br>Player Speed:0.671 MPH",
            "nflId:52457<br>displayName:Chase Claypool<br>Player Speed:7.404 MPH",
            "nflId:52543<br>displayName:Kevin Dotson<br>Player Speed:0.0 MPH",
            "nflId:53453<br>displayName:Najee Harris<br>Player Speed:0.224 MPH",
            "nflId:53484<br>displayName:Pat Freiermuth<br>Player Speed:0.716 MPH",
            "nflId:53557<br>displayName:Dan Moore<br>Player Speed:0.0 MPH",
            "nflId:54517<br>displayName:George Pickens<br>Player Speed:2.08 MPH"
           ],
           "marker": {
            "color": "#FFB612",
            "line": {
             "color": "#101820",
             "width": 2
            },
            "size": 10
           },
           "mode": "markers",
           "name": "PIT",
           "type": "scatter",
           "x": [
            24.02,
            20.2,
            20.26,
            19.2,
            19.65,
            21.58,
            20.01,
            24.02,
            21.63,
            20.17,
            20.07
           ],
           "y": [
            29.6,
            31.13,
            32.69,
            29.6,
            36.4,
            32.94,
            28.04,
            31.68,
            25.64,
            26.35,
            21.45
           ]
          },
          {
           "hoverinfo": "none",
           "marker": {
            "color": "#CBB67C",
            "line": {
             "color": "#663831",
             "width": 2
            },
            "size": 10
           },
           "mode": "markers",
           "name": "football",
           "type": "scatter",
           "x": [
            18.9699993133545
           ],
           "y": [
            29.5900001525879
           ]
          }
         ],
         "name": "80"
        },
        {
         "data": [
          {
           "hoverinfo": "none",
           "mode": "text",
           "showlegend": false,
           "text": [
            "10",
            "20",
            "30",
            "40",
            "50",
            "40",
            "30",
            "20",
            "10"
           ],
           "textfont": {
            "color": "#ffffff",
            "family": "Courier New, monospace",
            "size": 30
           },
           "type": "scatter",
           "x": [
            20,
            30,
            40,
            50,
            60,
            70,
            80,
            90,
            100
           ],
           "y": [
            5,
            5,
            5,
            5,
            5,
            5,
            5,
            5,
            5
           ]
          },
          {
           "hoverinfo": "none",
           "mode": "text",
           "showlegend": false,
           "text": [
            "10",
            "20",
            "30",
            "40",
            "50",
            "40",
            "30",
            "20",
            "10"
           ],
           "textfont": {
            "color": "#ffffff",
            "family": "Courier New, monospace",
            "size": 30
           },
           "type": "scatter",
           "x": [
            20,
            30,
            40,
            50,
            60,
            70,
            80,
            90,
            100
           ],
           "y": [
            48.5,
            48.5,
            48.5,
            48.5,
            48.5,
            48.5,
            48.5,
            48.5,
            48.5
           ]
          },
          {
           "hoverinfo": "none",
           "line": {
            "color": "blue",
            "dash": "dash"
           },
           "showlegend": false,
           "type": "scatter",
           "x": [
            19,
            19
           ],
           "y": [
            0,
            53.5
           ]
          },
          {
           "hoverinfo": "none",
           "line": {
            "color": "yellow",
            "dash": "dash"
           },
           "showlegend": false,
           "type": "scatter",
           "x": [
            10,
            10
           ],
           "y": [
            0,
            53.5
           ]
          },
          {
           "fill": "toself",
           "fillcolor": "#000000",
           "hoverinfo": "skip",
           "line": {
            "color": "white",
            "width": 3
           },
           "mode": "lines",
           "opacity": 1,
           "showlegend": false,
           "type": "scatter",
           "x": [
            0,
            0,
            10,
            10,
            0
           ],
           "y": [
            0,
            53.5,
            53.5,
            0,
            0
           ]
          },
          {
           "fill": "toself",
           "fillcolor": "#FFB612",
           "hoverinfo": "skip",
           "line": {
            "color": "white",
            "width": 3
           },
           "mode": "lines",
           "opacity": 1,
           "showlegend": false,
           "type": "scatter",
           "x": [
            110,
            110,
            120,
            120,
            110
           ],
           "y": [
            0,
            53.5,
            53.5,
            0,
            0
           ]
          },
          {
           "hoverinfo": "text",
           "hovertext": [
            "nflId:43299<br>displayName:Eli Apple<br>Player Speed:4.72 MPH",
            "nflId:43350<br>displayName:Vonn Bell<br>Player Speed:6.554 MPH",
            "nflId:43455<br>displayName:D.J. Reader<br>Player Speed:0.582 MPH",
            "nflId:43641<br>displayName:Mike Hilton<br>Player Speed:11.878 MPH",
            "nflId:44872<br>displayName:Chidobe Awuzie<br>Player Speed:1.946 MPH",
            "nflId:44915<br>displayName:Trey Hendrickson<br>Player Speed:0.022 MPH",
            "nflId:46123<br>displayName:Jessie Bates<br>Player Speed:2.595 MPH",
            "nflId:46138<br>displayName:B.J. Hill<br>Player Speed:0.022 MPH",
            "nflId:46146<br>displayName:Sam Hubbard<br>Player Speed:0.067 MPH",
            "nflId:47855<br>displayName:Germaine Pratt<br>Player Speed:2.684 MPH",
            "nflId:52473<br>displayName:Logan Wilson<br>Player Speed:2.729 MPH"
           ],
           "marker": {
            "color": "#000000",
            "line": {
             "color": "#FB4F14",
             "width": 2
            },
            "size": 10
           },
           "mode": "markers",
           "name": "CIN",
           "type": "scatter",
           "x": [
            13.46,
            13.37,
            17.99,
            15.98,
            13.56,
            18.03,
            9.82,
            17.41,
            18,
            15.02,
            14.72
           ],
           "y": [
            16.7,
            34.63,
            31.01,
            28.75,
            39.89,
            24.49,
            25.59,
            27.42,
            34.49,
            30.28,
            27.17
           ]
          },
          {
           "hoverinfo": "text",
           "hovertext": [
            "nflId:44814<br>displayName:Mitchell Trubisky<br>Player Speed:0.0 MPH",
            "nflId:46108<br>displayName:James Daniels<br>Player Speed:0.0 MPH",
            "nflId:46161<br>displayName:Chukwuma Okorafor<br>Player Speed:0.0 MPH",
            "nflId:46166<br>displayName:Mason Cole<br>Player Speed:0.0 MPH",
            "nflId:47849<br>displayName:Diontae Johnson<br>Player Speed:0.626 MPH",
            "nflId:52457<br>displayName:Chase Claypool<br>Player Speed:6.845 MPH",
            "nflId:52543<br>displayName:Kevin Dotson<br>Player Speed:0.0 MPH",
            "nflId:53453<br>displayName:Najee Harris<br>Player Speed:0.201 MPH",
            "nflId:53484<br>displayName:Pat Freiermuth<br>Player Speed:0.693 MPH",
            "nflId:53557<br>displayName:Dan Moore<br>Player Speed:0.0 MPH",
            "nflId:54517<br>displayName:George Pickens<br>Player Speed:1.767 MPH"
           ],
           "marker": {
            "color": "#FFB612",
            "line": {
             "color": "#101820",
             "width": 2
            },
            "size": 10
           },
           "mode": "markers",
           "name": "PIT",
           "type": "scatter",
           "x": [
            24.02,
            20.21,
            20.26,
            19.2,
            19.67,
            21.49,
            20.01,
            24.02,
            21.63,
            20.17,
            20.02
           ],
           "y": [
            29.6,
            31.13,
            32.69,
            29.6,
            36.4,
            33.25,
            28.05,
            31.67,
            25.62,
            26.35,
            21.52
           ]
          },
          {
           "hoverinfo": "none",
           "marker": {
            "color": "#CBB67C",
            "line": {
             "color": "#663831",
             "width": 2
            },
            "size": 10
           },
           "mode": "markers",
           "name": "football",
           "type": "scatter",
           "x": [
            18.9699993133545
           ],
           "y": [
            29.5900001525879
           ]
          }
         ],
         "name": "81"
        },
        {
         "data": [
          {
           "hoverinfo": "none",
           "mode": "text",
           "showlegend": false,
           "text": [
            "10",
            "20",
            "30",
            "40",
            "50",
            "40",
            "30",
            "20",
            "10"
           ],
           "textfont": {
            "color": "#ffffff",
            "family": "Courier New, monospace",
            "size": 30
           },
           "type": "scatter",
           "x": [
            20,
            30,
            40,
            50,
            60,
            70,
            80,
            90,
            100
           ],
           "y": [
            5,
            5,
            5,
            5,
            5,
            5,
            5,
            5,
            5
           ]
          },
          {
           "hoverinfo": "none",
           "mode": "text",
           "showlegend": false,
           "text": [
            "10",
            "20",
            "30",
            "40",
            "50",
            "40",
            "30",
            "20",
            "10"
           ],
           "textfont": {
            "color": "#ffffff",
            "family": "Courier New, monospace",
            "size": 30
           },
           "type": "scatter",
           "x": [
            20,
            30,
            40,
            50,
            60,
            70,
            80,
            90,
            100
           ],
           "y": [
            48.5,
            48.5,
            48.5,
            48.5,
            48.5,
            48.5,
            48.5,
            48.5,
            48.5
           ]
          },
          {
           "hoverinfo": "none",
           "line": {
            "color": "blue",
            "dash": "dash"
           },
           "showlegend": false,
           "type": "scatter",
           "x": [
            19,
            19
           ],
           "y": [
            0,
            53.5
           ]
          },
          {
           "hoverinfo": "none",
           "line": {
            "color": "yellow",
            "dash": "dash"
           },
           "showlegend": false,
           "type": "scatter",
           "x": [
            10,
            10
           ],
           "y": [
            0,
            53.5
           ]
          },
          {
           "fill": "toself",
           "fillcolor": "#000000",
           "hoverinfo": "skip",
           "line": {
            "color": "white",
            "width": 3
           },
           "mode": "lines",
           "opacity": 1,
           "showlegend": false,
           "type": "scatter",
           "x": [
            0,
            0,
            10,
            10,
            0
           ],
           "y": [
            0,
            53.5,
            53.5,
            0,
            0
           ]
          },
          {
           "fill": "toself",
           "fillcolor": "#FFB612",
           "hoverinfo": "skip",
           "line": {
            "color": "white",
            "width": 3
           },
           "mode": "lines",
           "opacity": 1,
           "showlegend": false,
           "type": "scatter",
           "x": [
            110,
            110,
            120,
            120,
            110
           ],
           "y": [
            0,
            53.5,
            53.5,
            0,
            0
           ]
          },
          {
           "hoverinfo": "text",
           "hovertext": [
            "nflId:43299<br>displayName:Eli Apple<br>Player Speed:4.653 MPH",
            "nflId:43350<br>displayName:Vonn Bell<br>Player Speed:6.845 MPH",
            "nflId:43455<br>displayName:D.J. Reader<br>Player Speed:0.738 MPH",
            "nflId:43641<br>displayName:Mike Hilton<br>Player Speed:11.766 MPH",
            "nflId:44872<br>displayName:Chidobe Awuzie<br>Player Speed:1.901 MPH",
            "nflId:44915<br>displayName:Trey Hendrickson<br>Player Speed:0.045 MPH",
            "nflId:46123<br>displayName:Jessie Bates<br>Player Speed:2.751 MPH",
            "nflId:46138<br>displayName:B.J. Hill<br>Player Speed:0.022 MPH",
            "nflId:46146<br>displayName:Sam Hubbard<br>Player Speed:0.112 MPH",
            "nflId:47855<br>displayName:Germaine Pratt<br>Player Speed:2.729 MPH",
            "nflId:52473<br>displayName:Logan Wilson<br>Player Speed:2.64 MPH"
           ],
           "marker": {
            "color": "#000000",
            "line": {
             "color": "#FB4F14",
             "width": 2
            },
            "size": 10
           },
           "mode": "markers",
           "name": "CIN",
           "type": "scatter",
           "x": [
            13.49,
            13.27,
            18.02,
            16,
            13.55,
            18.04,
            9.9,
            17.41,
            18.01,
            15.01,
            14.69
           ],
           "y": [
            16.91,
            34.35,
            31.02,
            29.28,
            39.81,
            24.48,
            25.69,
            27.42,
            34.47,
            30.16,
            27.29
           ]
          },
          {
           "hoverinfo": "text",
           "hovertext": [
            "nflId:44814<br>displayName:Mitchell Trubisky<br>Player Speed:0.0 MPH",
            "nflId:46108<br>displayName:James Daniels<br>Player Speed:0.0 MPH",
            "nflId:46161<br>displayName:Chukwuma Okorafor<br>Player Speed:0.0 MPH",
            "nflId:46166<br>displayName:Mason Cole<br>Player Speed:0.0 MPH",
            "nflId:47849<br>displayName:Diontae Johnson<br>Player Speed:0.537 MPH",
            "nflId:52457<br>displayName:Chase Claypool<br>Player Speed:6.331 MPH",
            "nflId:52543<br>displayName:Kevin Dotson<br>Player Speed:0.0 MPH",
            "nflId:53453<br>displayName:Najee Harris<br>Player Speed:0.179 MPH",
            "nflId:53484<br>displayName:Pat Freiermuth<br>Player Speed:0.514 MPH",
            "nflId:53557<br>displayName:Dan Moore<br>Player Speed:0.0 MPH",
            "nflId:54517<br>displayName:George Pickens<br>Player Speed:1.499 MPH"
           ],
           "marker": {
            "color": "#FFB612",
            "line": {
             "color": "#101820",
             "width": 2
            },
            "size": 10
           },
           "mode": "markers",
           "name": "PIT",
           "type": "scatter",
           "x": [
            24.02,
            20.21,
            20.26,
            19.2,
            19.69,
            21.4,
            20.01,
            24.01,
            21.62,
            20.17,
            19.97
           ],
           "y": [
            29.6,
            31.13,
            32.69,
            29.6,
            36.41,
            33.53,
            28.05,
            31.67,
            25.6,
            26.36,
            21.57
           ]
          },
          {
           "hoverinfo": "none",
           "marker": {
            "color": "#CBB67C",
            "line": {
             "color": "#663831",
             "width": 2
            },
            "size": 10
           },
           "mode": "markers",
           "name": "football",
           "type": "scatter",
           "x": [
            18.9699993133545
           ],
           "y": [
            29.5900001525879
           ]
          }
         ],
         "name": "82"
        },
        {
         "data": [
          {
           "hoverinfo": "none",
           "mode": "text",
           "showlegend": false,
           "text": [
            "10",
            "20",
            "30",
            "40",
            "50",
            "40",
            "30",
            "20",
            "10"
           ],
           "textfont": {
            "color": "#ffffff",
            "family": "Courier New, monospace",
            "size": 30
           },
           "type": "scatter",
           "x": [
            20,
            30,
            40,
            50,
            60,
            70,
            80,
            90,
            100
           ],
           "y": [
            5,
            5,
            5,
            5,
            5,
            5,
            5,
            5,
            5
           ]
          },
          {
           "hoverinfo": "none",
           "mode": "text",
           "showlegend": false,
           "text": [
            "10",
            "20",
            "30",
            "40",
            "50",
            "40",
            "30",
            "20",
            "10"
           ],
           "textfont": {
            "color": "#ffffff",
            "family": "Courier New, monospace",
            "size": 30
           },
           "type": "scatter",
           "x": [
            20,
            30,
            40,
            50,
            60,
            70,
            80,
            90,
            100
           ],
           "y": [
            48.5,
            48.5,
            48.5,
            48.5,
            48.5,
            48.5,
            48.5,
            48.5,
            48.5
           ]
          },
          {
           "hoverinfo": "none",
           "line": {
            "color": "blue",
            "dash": "dash"
           },
           "showlegend": false,
           "type": "scatter",
           "x": [
            19,
            19
           ],
           "y": [
            0,
            53.5
           ]
          },
          {
           "hoverinfo": "none",
           "line": {
            "color": "yellow",
            "dash": "dash"
           },
           "showlegend": false,
           "type": "scatter",
           "x": [
            10,
            10
           ],
           "y": [
            0,
            53.5
           ]
          },
          {
           "fill": "toself",
           "fillcolor": "#000000",
           "hoverinfo": "skip",
           "line": {
            "color": "white",
            "width": 3
           },
           "mode": "lines",
           "opacity": 1,
           "showlegend": false,
           "type": "scatter",
           "x": [
            0,
            0,
            10,
            10,
            0
           ],
           "y": [
            0,
            53.5,
            53.5,
            0,
            0
           ]
          },
          {
           "fill": "toself",
           "fillcolor": "#FFB612",
           "hoverinfo": "skip",
           "line": {
            "color": "white",
            "width": 3
           },
           "mode": "lines",
           "opacity": 1,
           "showlegend": false,
           "type": "scatter",
           "x": [
            110,
            110,
            120,
            120,
            110
           ],
           "y": [
            0,
            53.5,
            53.5,
            0,
            0
           ]
          },
          {
           "hoverinfo": "text",
           "hovertext": [
            "nflId:43299<br>displayName:Eli Apple<br>Player Speed:4.63 MPH",
            "nflId:43350<br>displayName:Vonn Bell<br>Player Speed:7.248 MPH",
            "nflId:43455<br>displayName:D.J. Reader<br>Player Speed:0.85 MPH",
            "nflId:43641<br>displayName:Mike Hilton<br>Player Speed:11.61 MPH",
            "nflId:44872<br>displayName:Chidobe Awuzie<br>Player Speed:1.834 MPH",
            "nflId:44915<br>displayName:Trey Hendrickson<br>Player Speed:0.089 MPH",
            "nflId:46123<br>displayName:Jessie Bates<br>Player Speed:3.042 MPH",
            "nflId:46138<br>displayName:B.J. Hill<br>Player Speed:0.045 MPH",
            "nflId:46146<br>displayName:Sam Hubbard<br>Player Speed:0.336 MPH",
            "nflId:47855<br>displayName:Germaine Pratt<br>Player Speed:2.64 MPH",
            "nflId:52473<br>displayName:Logan Wilson<br>Player Speed:2.707 MPH"
           ],
           "marker": {
            "color": "#000000",
            "line": {
             "color": "#FB4F14",
             "width": 2
            },
            "size": 10
           },
           "mode": "markers",
           "name": "CIN",
           "type": "scatter",
           "x": [
            13.52,
            13.16,
            18.06,
            16.02,
            13.53,
            18.06,
            9.97,
            17.42,
            18.01,
            15,
            14.65
           ],
           "y": [
            17.12,
            34.05,
            31.03,
            29.8,
            39.73,
            24.47,
            25.8,
            27.42,
            34.45,
            30.04,
            27.41
           ]
          },
          {
           "hoverinfo": "text",
           "hovertext": [
            "nflId:44814<br>displayName:Mitchell Trubisky<br>Player Speed:0.0 MPH",
            "nflId:46108<br>displayName:James Daniels<br>Player Speed:0.0 MPH",
            "nflId:46161<br>displayName:Chukwuma Okorafor<br>Player Speed:0.0 MPH",
            "nflId:46166<br>displayName:Mason Cole<br>Player Speed:0.0 MPH",
            "nflId:47849<br>displayName:Diontae Johnson<br>Player Speed:0.403 MPH",
            "nflId:52457<br>displayName:Chase Claypool<br>Player Speed:5.659 MPH",
            "nflId:52543<br>displayName:Kevin Dotson<br>Player Speed:0.0 MPH",
            "nflId:53453<br>displayName:Najee Harris<br>Player Speed:0.224 MPH",
            "nflId:53484<br>displayName:Pat Freiermuth<br>Player Speed:0.358 MPH",
            "nflId:53557<br>displayName:Dan Moore<br>Player Speed:0.0 MPH",
            "nflId:54517<br>displayName:George Pickens<br>Player Speed:1.186 MPH"
           ],
           "marker": {
            "color": "#FFB612",
            "line": {
             "color": "#101820",
             "width": 2
            },
            "size": 10
           },
           "mode": "markers",
           "name": "PIT",
           "type": "scatter",
           "x": [
            24.02,
            20.21,
            20.26,
            19.2,
            19.71,
            21.33,
            20.01,
            24,
            21.61,
            20.17,
            19.93
           ],
           "y": [
            29.6,
            31.13,
            32.69,
            29.6,
            36.41,
            33.78,
            28.05,
            31.66,
            25.58,
            26.36,
            21.61
           ]
          },
          {
           "hoverinfo": "none",
           "marker": {
            "color": "#CBB67C",
            "line": {
             "color": "#663831",
             "width": 2
            },
            "size": 10
           },
           "mode": "markers",
           "name": "football",
           "type": "scatter",
           "x": [
            18.9699993133545
           ],
           "y": [
            29.5900001525879
           ]
          }
         ],
         "name": "83"
        },
        {
         "data": [
          {
           "hoverinfo": "none",
           "mode": "text",
           "showlegend": false,
           "text": [
            "10",
            "20",
            "30",
            "40",
            "50",
            "40",
            "30",
            "20",
            "10"
           ],
           "textfont": {
            "color": "#ffffff",
            "family": "Courier New, monospace",
            "size": 30
           },
           "type": "scatter",
           "x": [
            20,
            30,
            40,
            50,
            60,
            70,
            80,
            90,
            100
           ],
           "y": [
            5,
            5,
            5,
            5,
            5,
            5,
            5,
            5,
            5
           ]
          },
          {
           "hoverinfo": "none",
           "mode": "text",
           "showlegend": false,
           "text": [
            "10",
            "20",
            "30",
            "40",
            "50",
            "40",
            "30",
            "20",
            "10"
           ],
           "textfont": {
            "color": "#ffffff",
            "family": "Courier New, monospace",
            "size": 30
           },
           "type": "scatter",
           "x": [
            20,
            30,
            40,
            50,
            60,
            70,
            80,
            90,
            100
           ],
           "y": [
            48.5,
            48.5,
            48.5,
            48.5,
            48.5,
            48.5,
            48.5,
            48.5,
            48.5
           ]
          },
          {
           "hoverinfo": "none",
           "line": {
            "color": "blue",
            "dash": "dash"
           },
           "showlegend": false,
           "type": "scatter",
           "x": [
            19,
            19
           ],
           "y": [
            0,
            53.5
           ]
          },
          {
           "hoverinfo": "none",
           "line": {
            "color": "yellow",
            "dash": "dash"
           },
           "showlegend": false,
           "type": "scatter",
           "x": [
            10,
            10
           ],
           "y": [
            0,
            53.5
           ]
          },
          {
           "fill": "toself",
           "fillcolor": "#000000",
           "hoverinfo": "skip",
           "line": {
            "color": "white",
            "width": 3
           },
           "mode": "lines",
           "opacity": 1,
           "showlegend": false,
           "type": "scatter",
           "x": [
            0,
            0,
            10,
            10,
            0
           ],
           "y": [
            0,
            53.5,
            53.5,
            0,
            0
           ]
          },
          {
           "fill": "toself",
           "fillcolor": "#FFB612",
           "hoverinfo": "skip",
           "line": {
            "color": "white",
            "width": 3
           },
           "mode": "lines",
           "opacity": 1,
           "showlegend": false,
           "type": "scatter",
           "x": [
            110,
            110,
            120,
            120,
            110
           ],
           "y": [
            0,
            53.5,
            53.5,
            0,
            0
           ]
          },
          {
           "hoverinfo": "text",
           "hovertext": [
            "nflId:43299<br>displayName:Eli Apple<br>Player Speed:4.496 MPH",
            "nflId:43350<br>displayName:Vonn Bell<br>Player Speed:7.65 MPH",
            "nflId:43455<br>displayName:D.J. Reader<br>Player Speed:0.984 MPH",
            "nflId:43641<br>displayName:Mike Hilton<br>Player Speed:11.498 MPH",
            "nflId:44872<br>displayName:Chidobe Awuzie<br>Player Speed:1.7 MPH",
            "nflId:44915<br>displayName:Trey Hendrickson<br>Player Speed:0.089 MPH",
            "nflId:46123<br>displayName:Jessie Bates<br>Player Speed:3.311 MPH",
            "nflId:46138<br>displayName:B.J. Hill<br>Player Speed:0.291 MPH",
            "nflId:46146<br>displayName:Sam Hubbard<br>Player Speed:0.671 MPH",
            "nflId:47855<br>displayName:Germaine Pratt<br>Player Speed:2.662 MPH",
            "nflId:52473<br>displayName:Logan Wilson<br>Player Speed:2.908 MPH"
           ],
           "marker": {
            "color": "#000000",
            "line": {
             "color": "#FB4F14",
             "width": 2
            },
            "size": 10
           },
           "mode": "markers",
           "name": "CIN",
           "type": "scatter",
           "x": [
            13.54,
            13.07,
            18.1,
            16.03,
            13.52,
            18.07,
            10.03,
            17.43,
            18.02,
            14.98,
            14.6
           ],
           "y": [
            17.32,
            33.72,
            31.02,
            30.32,
            39.65,
            24.47,
            25.93,
            27.43,
            34.43,
            29.92,
            27.53
           ]
          },
          {
           "hoverinfo": "text",
           "hovertext": [
            "nflId:44814<br>displayName:Mitchell Trubisky<br>Player Speed:0.0 MPH",
            "nflId:46108<br>displayName:James Daniels<br>Player Speed:0.0 MPH",
            "nflId:46161<br>displayName:Chukwuma Okorafor<br>Player Speed:0.0 MPH",
            "nflId:46166<br>displayName:Mason Cole<br>Player Speed:0.0 MPH",
            "nflId:47849<br>displayName:Diontae Johnson<br>Player Speed:0.291 MPH",
            "nflId:52457<br>displayName:Chase Claypool<br>Player Speed:5.033 MPH",
            "nflId:52543<br>displayName:Kevin Dotson<br>Player Speed:0.0 MPH",
            "nflId:53453<br>displayName:Najee Harris<br>Player Speed:0.179 MPH",
            "nflId:53484<br>displayName:Pat Freiermuth<br>Player Speed:0.268 MPH",
            "nflId:53557<br>displayName:Dan Moore<br>Player Speed:0.0 MPH",
            "nflId:54517<br>displayName:George Pickens<br>Player Speed:0.872 MPH"
           ],
           "marker": {
            "color": "#FFB612",
            "line": {
             "color": "#101820",
             "width": 2
            },
            "size": 10
           },
           "mode": "markers",
           "name": "PIT",
           "type": "scatter",
           "x": [
            24.02,
            20.2,
            20.26,
            19.2,
            19.72,
            21.26,
            20.01,
            23.99,
            21.6,
            20.17,
            19.89
           ],
           "y": [
            29.6,
            31.13,
            32.69,
            29.6,
            36.42,
            34.01,
            28.05,
            31.66,
            25.57,
            26.35,
            21.64
           ]
          },
          {
           "hoverinfo": "none",
           "marker": {
            "color": "#CBB67C",
            "line": {
             "color": "#663831",
             "width": 2
            },
            "size": 10
           },
           "mode": "markers",
           "name": "football",
           "type": "scatter",
           "x": [
            18.9699993133545
           ],
           "y": [
            29.5900001525879
           ]
          }
         ],
         "name": "84"
        },
        {
         "data": [
          {
           "hoverinfo": "none",
           "mode": "text",
           "showlegend": false,
           "text": [
            "10",
            "20",
            "30",
            "40",
            "50",
            "40",
            "30",
            "20",
            "10"
           ],
           "textfont": {
            "color": "#ffffff",
            "family": "Courier New, monospace",
            "size": 30
           },
           "type": "scatter",
           "x": [
            20,
            30,
            40,
            50,
            60,
            70,
            80,
            90,
            100
           ],
           "y": [
            5,
            5,
            5,
            5,
            5,
            5,
            5,
            5,
            5
           ]
          },
          {
           "hoverinfo": "none",
           "mode": "text",
           "showlegend": false,
           "text": [
            "10",
            "20",
            "30",
            "40",
            "50",
            "40",
            "30",
            "20",
            "10"
           ],
           "textfont": {
            "color": "#ffffff",
            "family": "Courier New, monospace",
            "size": 30
           },
           "type": "scatter",
           "x": [
            20,
            30,
            40,
            50,
            60,
            70,
            80,
            90,
            100
           ],
           "y": [
            48.5,
            48.5,
            48.5,
            48.5,
            48.5,
            48.5,
            48.5,
            48.5,
            48.5
           ]
          },
          {
           "hoverinfo": "none",
           "line": {
            "color": "blue",
            "dash": "dash"
           },
           "showlegend": false,
           "type": "scatter",
           "x": [
            19,
            19
           ],
           "y": [
            0,
            53.5
           ]
          },
          {
           "hoverinfo": "none",
           "line": {
            "color": "yellow",
            "dash": "dash"
           },
           "showlegend": false,
           "type": "scatter",
           "x": [
            10,
            10
           ],
           "y": [
            0,
            53.5
           ]
          },
          {
           "fill": "toself",
           "fillcolor": "#000000",
           "hoverinfo": "skip",
           "line": {
            "color": "white",
            "width": 3
           },
           "mode": "lines",
           "opacity": 1,
           "showlegend": false,
           "type": "scatter",
           "x": [
            0,
            0,
            10,
            10,
            0
           ],
           "y": [
            0,
            53.5,
            53.5,
            0,
            0
           ]
          },
          {
           "fill": "toself",
           "fillcolor": "#FFB612",
           "hoverinfo": "skip",
           "line": {
            "color": "white",
            "width": 3
           },
           "mode": "lines",
           "opacity": 1,
           "showlegend": false,
           "type": "scatter",
           "x": [
            110,
            110,
            120,
            120,
            110
           ],
           "y": [
            0,
            53.5,
            53.5,
            0,
            0
           ]
          },
          {
           "hoverinfo": "text",
           "hovertext": [
            "nflId:43299<br>displayName:Eli Apple<br>Player Speed:4.362 MPH",
            "nflId:43350<br>displayName:Vonn Bell<br>Player Speed:8.075 MPH",
            "nflId:43455<br>displayName:D.J. Reader<br>Player Speed:0.895 MPH",
            "nflId:43641<br>displayName:Mike Hilton<br>Player Speed:11.341 MPH",
            "nflId:44872<br>displayName:Chidobe Awuzie<br>Player Speed:1.543 MPH",
            "nflId:44915<br>displayName:Trey Hendrickson<br>Player Speed:0.089 MPH",
            "nflId:46123<br>displayName:Jessie Bates<br>Player Speed:3.601 MPH",
            "nflId:46138<br>displayName:B.J. Hill<br>Player Speed:0.671 MPH",
            "nflId:46146<br>displayName:Sam Hubbard<br>Player Speed:1.007 MPH",
            "nflId:47855<br>displayName:Germaine Pratt<br>Player Speed:2.729 MPH",
            "nflId:52473<br>displayName:Logan Wilson<br>Player Speed:3.109 MPH"
           ],
           "marker": {
            "color": "#000000",
            "line": {
             "color": "#FB4F14",
             "width": 2
            },
            "size": 10
           },
           "mode": "markers",
           "name": "CIN",
           "type": "scatter",
           "x": [
            13.56,
            12.99,
            18.13,
            16.05,
            13.51,
            18.08,
            10.09,
            17.46,
            18.04,
            14.95,
            14.55
           ],
           "y": [
            17.52,
            33.38,
            31,
            30.83,
            39.58,
            24.47,
            26.07,
            27.43,
            34.39,
            29.79,
            27.65
           ]
          },
          {
           "hoverinfo": "text",
           "hovertext": [
            "nflId:44814<br>displayName:Mitchell Trubisky<br>Player Speed:0.0 MPH",
            "nflId:46108<br>displayName:James Daniels<br>Player Speed:0.0 MPH",
            "nflId:46161<br>displayName:Chukwuma Okorafor<br>Player Speed:0.0 MPH",
            "nflId:46166<br>displayName:Mason Cole<br>Player Speed:0.0 MPH",
            "nflId:47849<br>displayName:Diontae Johnson<br>Player Speed:0.157 MPH",
            "nflId:52457<br>displayName:Chase Claypool<br>Player Speed:4.362 MPH",
            "nflId:52543<br>displayName:Kevin Dotson<br>Player Speed:0.0 MPH",
            "nflId:53453<br>displayName:Najee Harris<br>Player Speed:0.157 MPH",
            "nflId:53484<br>displayName:Pat Freiermuth<br>Player Speed:0.179 MPH",
            "nflId:53557<br>displayName:Dan Moore<br>Player Speed:0.0 MPH",
            "nflId:54517<br>displayName:George Pickens<br>Player Speed:0.537 MPH"
           ],
           "marker": {
            "color": "#FFB612",
            "line": {
             "color": "#101820",
             "width": 2
            },
            "size": 10
           },
           "mode": "markers",
           "name": "PIT",
           "type": "scatter",
           "x": [
            24.02,
            20.2,
            20.26,
            19.2,
            19.73,
            21.2,
            20.01,
            23.99,
            21.6,
            20.17,
            19.88
           ],
           "y": [
            29.6,
            31.13,
            32.69,
            29.6,
            36.43,
            34.21,
            28.05,
            31.66,
            25.56,
            26.36,
            21.66
           ]
          },
          {
           "hoverinfo": "none",
           "marker": {
            "color": "#CBB67C",
            "line": {
             "color": "#663831",
             "width": 2
            },
            "size": 10
           },
           "mode": "markers",
           "name": "football",
           "type": "scatter",
           "x": [
            18.9699993133545
           ],
           "y": [
            29.5900001525879
           ]
          }
         ],
         "name": "85"
        },
        {
         "data": [
          {
           "hoverinfo": "none",
           "mode": "text",
           "showlegend": false,
           "text": [
            "10",
            "20",
            "30",
            "40",
            "50",
            "40",
            "30",
            "20",
            "10"
           ],
           "textfont": {
            "color": "#ffffff",
            "family": "Courier New, monospace",
            "size": 30
           },
           "type": "scatter",
           "x": [
            20,
            30,
            40,
            50,
            60,
            70,
            80,
            90,
            100
           ],
           "y": [
            5,
            5,
            5,
            5,
            5,
            5,
            5,
            5,
            5
           ]
          },
          {
           "hoverinfo": "none",
           "mode": "text",
           "showlegend": false,
           "text": [
            "10",
            "20",
            "30",
            "40",
            "50",
            "40",
            "30",
            "20",
            "10"
           ],
           "textfont": {
            "color": "#ffffff",
            "family": "Courier New, monospace",
            "size": 30
           },
           "type": "scatter",
           "x": [
            20,
            30,
            40,
            50,
            60,
            70,
            80,
            90,
            100
           ],
           "y": [
            48.5,
            48.5,
            48.5,
            48.5,
            48.5,
            48.5,
            48.5,
            48.5,
            48.5
           ]
          },
          {
           "hoverinfo": "none",
           "line": {
            "color": "blue",
            "dash": "dash"
           },
           "showlegend": false,
           "type": "scatter",
           "x": [
            19,
            19
           ],
           "y": [
            0,
            53.5
           ]
          },
          {
           "hoverinfo": "none",
           "line": {
            "color": "yellow",
            "dash": "dash"
           },
           "showlegend": false,
           "type": "scatter",
           "x": [
            10,
            10
           ],
           "y": [
            0,
            53.5
           ]
          },
          {
           "fill": "toself",
           "fillcolor": "#000000",
           "hoverinfo": "skip",
           "line": {
            "color": "white",
            "width": 3
           },
           "mode": "lines",
           "opacity": 1,
           "showlegend": false,
           "type": "scatter",
           "x": [
            0,
            0,
            10,
            10,
            0
           ],
           "y": [
            0,
            53.5,
            53.5,
            0,
            0
           ]
          },
          {
           "fill": "toself",
           "fillcolor": "#FFB612",
           "hoverinfo": "skip",
           "line": {
            "color": "white",
            "width": 3
           },
           "mode": "lines",
           "opacity": 1,
           "showlegend": false,
           "type": "scatter",
           "x": [
            110,
            110,
            120,
            120,
            110
           ],
           "y": [
            0,
            53.5,
            53.5,
            0,
            0
           ]
          },
          {
           "hoverinfo": "text",
           "hovertext": [
            "nflId:43299<br>displayName:Eli Apple<br>Player Speed:4.183 MPH",
            "nflId:43350<br>displayName:Vonn Bell<br>Player Speed:8.411 MPH",
            "nflId:43455<br>displayName:D.J. Reader<br>Player Speed:0.94 MPH",
            "nflId:43641<br>displayName:Mike Hilton<br>Player Speed:11.118 MPH",
            "nflId:44872<br>displayName:Chidobe Awuzie<br>Player Speed:1.387 MPH",
            "nflId:44915<br>displayName:Trey Hendrickson<br>Player Speed:0.089 MPH",
            "nflId:46123<br>displayName:Jessie Bates<br>Player Speed:3.758 MPH",
            "nflId:46138<br>displayName:B.J. Hill<br>Player Speed:1.141 MPH",
            "nflId:46146<br>displayName:Sam Hubbard<br>Player Speed:1.342 MPH",
            "nflId:47855<br>displayName:Germaine Pratt<br>Player Speed:2.751 MPH",
            "nflId:52473<br>displayName:Logan Wilson<br>Player Speed:3.579 MPH"
           ],
           "marker": {
            "color": "#000000",
            "line": {
             "color": "#FB4F14",
             "width": 2
            },
            "size": 10
           },
           "mode": "markers",
           "name": "CIN",
           "type": "scatter",
           "x": [
            13.58,
            12.93,
            18.16,
            16.06,
            13.5,
            18.09,
            10.13,
            17.51,
            18.06,
            14.93,
            14.5
           ],
           "y": [
            17.71,
            33.01,
            30.98,
            31.33,
            39.51,
            24.46,
            26.23,
            27.44,
            34.34,
            29.67,
            27.8
           ]
          },
          {
           "hoverinfo": "text",
           "hovertext": [
            "nflId:44814<br>displayName:Mitchell Trubisky<br>Player Speed:0.0 MPH",
            "nflId:46108<br>displayName:James Daniels<br>Player Speed:0.0 MPH",
            "nflId:46161<br>displayName:Chukwuma Okorafor<br>Player Speed:0.0 MPH",
            "nflId:46166<br>displayName:Mason Cole<br>Player Speed:0.0 MPH",
            "nflId:47849<br>displayName:Diontae Johnson<br>Player Speed:0.112 MPH",
            "nflId:52457<br>displayName:Chase Claypool<br>Player Speed:3.691 MPH",
            "nflId:52543<br>displayName:Kevin Dotson<br>Player Speed:0.0 MPH",
            "nflId:53453<br>displayName:Najee Harris<br>Player Speed:0.134 MPH",
            "nflId:53484<br>displayName:Pat Freiermuth<br>Player Speed:0.179 MPH",
            "nflId:53557<br>displayName:Dan Moore<br>Player Speed:0.0 MPH",
            "nflId:54517<br>displayName:George Pickens<br>Player Speed:0.358 MPH"
           ],
           "marker": {
            "color": "#FFB612",
            "line": {
             "color": "#101820",
             "width": 2
            },
            "size": 10
           },
           "mode": "markers",
           "name": "PIT",
           "type": "scatter",
           "x": [
            24.02,
            20.2,
            20.26,
            19.2,
            19.73,
            21.15,
            20.01,
            23.98,
            21.59,
            20.17,
            19.87
           ],
           "y": [
            29.6,
            31.13,
            32.69,
            29.6,
            36.42,
            34.38,
            28.04,
            31.66,
            25.56,
            26.36,
            21.68
           ]
          },
          {
           "hoverinfo": "none",
           "marker": {
            "color": "#CBB67C",
            "line": {
             "color": "#663831",
             "width": 2
            },
            "size": 10
           },
           "mode": "markers",
           "name": "football",
           "type": "scatter",
           "x": [
            18.9599990844727
           ],
           "y": [
            29.5900001525879
           ]
          }
         ],
         "name": "86"
        },
        {
         "data": [
          {
           "hoverinfo": "none",
           "mode": "text",
           "showlegend": false,
           "text": [
            "10",
            "20",
            "30",
            "40",
            "50",
            "40",
            "30",
            "20",
            "10"
           ],
           "textfont": {
            "color": "#ffffff",
            "family": "Courier New, monospace",
            "size": 30
           },
           "type": "scatter",
           "x": [
            20,
            30,
            40,
            50,
            60,
            70,
            80,
            90,
            100
           ],
           "y": [
            5,
            5,
            5,
            5,
            5,
            5,
            5,
            5,
            5
           ]
          },
          {
           "hoverinfo": "none",
           "mode": "text",
           "showlegend": false,
           "text": [
            "10",
            "20",
            "30",
            "40",
            "50",
            "40",
            "30",
            "20",
            "10"
           ],
           "textfont": {
            "color": "#ffffff",
            "family": "Courier New, monospace",
            "size": 30
           },
           "type": "scatter",
           "x": [
            20,
            30,
            40,
            50,
            60,
            70,
            80,
            90,
            100
           ],
           "y": [
            48.5,
            48.5,
            48.5,
            48.5,
            48.5,
            48.5,
            48.5,
            48.5,
            48.5
           ]
          },
          {
           "hoverinfo": "none",
           "line": {
            "color": "blue",
            "dash": "dash"
           },
           "showlegend": false,
           "type": "scatter",
           "x": [
            19,
            19
           ],
           "y": [
            0,
            53.5
           ]
          },
          {
           "hoverinfo": "none",
           "line": {
            "color": "yellow",
            "dash": "dash"
           },
           "showlegend": false,
           "type": "scatter",
           "x": [
            10,
            10
           ],
           "y": [
            0,
            53.5
           ]
          },
          {
           "fill": "toself",
           "fillcolor": "#000000",
           "hoverinfo": "skip",
           "line": {
            "color": "white",
            "width": 3
           },
           "mode": "lines",
           "opacity": 1,
           "showlegend": false,
           "type": "scatter",
           "x": [
            0,
            0,
            10,
            10,
            0
           ],
           "y": [
            0,
            53.5,
            53.5,
            0,
            0
           ]
          },
          {
           "fill": "toself",
           "fillcolor": "#FFB612",
           "hoverinfo": "skip",
           "line": {
            "color": "white",
            "width": 3
           },
           "mode": "lines",
           "opacity": 1,
           "showlegend": false,
           "type": "scatter",
           "x": [
            110,
            110,
            120,
            120,
            110
           ],
           "y": [
            0,
            53.5,
            53.5,
            0,
            0
           ]
          },
          {
           "hoverinfo": "text",
           "hovertext": [
            "nflId:43299<br>displayName:Eli Apple<br>Player Speed:4.049 MPH",
            "nflId:43350<br>displayName:Vonn Bell<br>Player Speed:8.746 MPH",
            "nflId:43455<br>displayName:D.J. Reader<br>Player Speed:0.962 MPH",
            "nflId:43641<br>displayName:Mike Hilton<br>Player Speed:10.849 MPH",
            "nflId:44872<br>displayName:Chidobe Awuzie<br>Player Speed:1.297 MPH",
            "nflId:44915<br>displayName:Trey Hendrickson<br>Player Speed:0.089 MPH",
            "nflId:46123<br>displayName:Jessie Bates<br>Player Speed:4.116 MPH",
            "nflId:46138<br>displayName:B.J. Hill<br>Player Speed:1.543 MPH",
            "nflId:46146<br>displayName:Sam Hubbard<br>Player Speed:1.611 MPH",
            "nflId:47855<br>displayName:Germaine Pratt<br>Player Speed:2.751 MPH",
            "nflId:52473<br>displayName:Logan Wilson<br>Player Speed:3.87 MPH"
           ],
           "marker": {
            "color": "#000000",
            "line": {
             "color": "#FB4F14",
             "width": 2
            },
            "size": 10
           },
           "mode": "markers",
           "name": "CIN",
           "type": "scatter",
           "x": [
            13.59,
            12.88,
            18.19,
            16.07,
            13.49,
            18.1,
            10.15,
            17.58,
            18.09,
            14.91,
            14.44
           ],
           "y": [
            17.89,
            32.63,
            30.95,
            31.82,
            39.45,
            24.46,
            26.41,
            27.45,
            34.28,
            29.55,
            27.95
           ]
          },
          {
           "hoverinfo": "text",
           "hovertext": [
            "nflId:44814<br>displayName:Mitchell Trubisky<br>Player Speed:0.0 MPH",
            "nflId:46108<br>displayName:James Daniels<br>Player Speed:0.0 MPH",
            "nflId:46161<br>displayName:Chukwuma Okorafor<br>Player Speed:0.0 MPH",
            "nflId:46166<br>displayName:Mason Cole<br>Player Speed:0.0 MPH",
            "nflId:47849<br>displayName:Diontae Johnson<br>Player Speed:0.179 MPH",
            "nflId:52457<br>displayName:Chase Claypool<br>Player Speed:3.02 MPH",
            "nflId:52543<br>displayName:Kevin Dotson<br>Player Speed:0.0 MPH",
            "nflId:53453<br>displayName:Najee Harris<br>Player Speed:0.089 MPH",
            "nflId:53484<br>displayName:Pat Freiermuth<br>Player Speed:0.358 MPH",
            "nflId:53557<br>displayName:Dan Moore<br>Player Speed:0.0 MPH",
            "nflId:54517<br>displayName:George Pickens<br>Player Speed:0.403 MPH"
           ],
           "marker": {
            "color": "#FFB612",
            "line": {
             "color": "#101820",
             "width": 2
            },
            "size": 10
           },
           "mode": "markers",
           "name": "PIT",
           "type": "scatter",
           "x": [
            24.02,
            20.2,
            20.26,
            19.2,
            19.72,
            21.1,
            20.01,
            23.99,
            21.58,
            20.17,
            19.88
           ],
           "y": [
            29.6,
            31.13,
            32.7,
            29.6,
            36.42,
            34.52,
            28.04,
            31.67,
            25.56,
            26.36,
            21.7
           ]
          },
          {
           "hoverinfo": "none",
           "marker": {
            "color": "#CBB67C",
            "line": {
             "color": "#663831",
             "width": 2
            },
            "size": 10
           },
           "mode": "markers",
           "name": "football",
           "type": "scatter",
           "x": [
            18.9599990844727
           ],
           "y": [
            29.5900001525879
           ]
          }
         ],
         "name": "87"
        },
        {
         "data": [
          {
           "hoverinfo": "none",
           "mode": "text",
           "showlegend": false,
           "text": [
            "10",
            "20",
            "30",
            "40",
            "50",
            "40",
            "30",
            "20",
            "10"
           ],
           "textfont": {
            "color": "#ffffff",
            "family": "Courier New, monospace",
            "size": 30
           },
           "type": "scatter",
           "x": [
            20,
            30,
            40,
            50,
            60,
            70,
            80,
            90,
            100
           ],
           "y": [
            5,
            5,
            5,
            5,
            5,
            5,
            5,
            5,
            5
           ]
          },
          {
           "hoverinfo": "none",
           "mode": "text",
           "showlegend": false,
           "text": [
            "10",
            "20",
            "30",
            "40",
            "50",
            "40",
            "30",
            "20",
            "10"
           ],
           "textfont": {
            "color": "#ffffff",
            "family": "Courier New, monospace",
            "size": 30
           },
           "type": "scatter",
           "x": [
            20,
            30,
            40,
            50,
            60,
            70,
            80,
            90,
            100
           ],
           "y": [
            48.5,
            48.5,
            48.5,
            48.5,
            48.5,
            48.5,
            48.5,
            48.5,
            48.5
           ]
          },
          {
           "hoverinfo": "none",
           "line": {
            "color": "blue",
            "dash": "dash"
           },
           "showlegend": false,
           "type": "scatter",
           "x": [
            19,
            19
           ],
           "y": [
            0,
            53.5
           ]
          },
          {
           "hoverinfo": "none",
           "line": {
            "color": "yellow",
            "dash": "dash"
           },
           "showlegend": false,
           "type": "scatter",
           "x": [
            10,
            10
           ],
           "y": [
            0,
            53.5
           ]
          },
          {
           "fill": "toself",
           "fillcolor": "#000000",
           "hoverinfo": "skip",
           "line": {
            "color": "white",
            "width": 3
           },
           "mode": "lines",
           "opacity": 1,
           "showlegend": false,
           "type": "scatter",
           "x": [
            0,
            0,
            10,
            10,
            0
           ],
           "y": [
            0,
            53.5,
            53.5,
            0,
            0
           ]
          },
          {
           "fill": "toself",
           "fillcolor": "#FFB612",
           "hoverinfo": "skip",
           "line": {
            "color": "white",
            "width": 3
           },
           "mode": "lines",
           "opacity": 1,
           "showlegend": false,
           "type": "scatter",
           "x": [
            110,
            110,
            120,
            120,
            110
           ],
           "y": [
            0,
            53.5,
            53.5,
            0,
            0
           ]
          },
          {
           "hoverinfo": "text",
           "hovertext": [
            "nflId:43299<br>displayName:Eli Apple<br>Player Speed:3.982 MPH",
            "nflId:43350<br>displayName:Vonn Bell<br>Player Speed:9.127 MPH",
            "nflId:43455<br>displayName:D.J. Reader<br>Player Speed:0.895 MPH",
            "nflId:43641<br>displayName:Mike Hilton<br>Player Speed:10.536 MPH",
            "nflId:44872<br>displayName:Chidobe Awuzie<br>Player Speed:1.253 MPH",
            "nflId:44915<br>displayName:Trey Hendrickson<br>Player Speed:0.089 MPH",
            "nflId:46123<br>displayName:Jessie Bates<br>Player Speed:4.317 MPH",
            "nflId:46138<br>displayName:B.J. Hill<br>Player Speed:2.125 MPH",
            "nflId:46146<br>displayName:Sam Hubbard<br>Player Speed:1.633 MPH",
            "nflId:47855<br>displayName:Germaine Pratt<br>Player Speed:2.774 MPH",
            "nflId:52473<br>displayName:Logan Wilson<br>Player Speed:4.295 MPH"
           ],
           "marker": {
            "color": "#000000",
            "line": {
             "color": "#FB4F14",
             "width": 2
            },
            "size": 10
           },
           "mode": "markers",
           "name": "CIN",
           "type": "scatter",
           "x": [
            13.6,
            12.83,
            18.21,
            16.08,
            13.48,
            18.11,
            10.16,
            17.68,
            18.11,
            14.89,
            14.4
           ],
           "y": [
            18.07,
            32.23,
            30.92,
            32.3,
            39.4,
            24.47,
            26.6,
            27.45,
            34.22,
            29.43,
            28.13
           ]
          },
          {
           "hoverinfo": "text",
           "hovertext": [
            "nflId:44814<br>displayName:Mitchell Trubisky<br>Player Speed:0.0 MPH",
            "nflId:46108<br>displayName:James Daniels<br>Player Speed:0.0 MPH",
            "nflId:46161<br>displayName:Chukwuma Okorafor<br>Player Speed:0.0 MPH",
            "nflId:46166<br>displayName:Mason Cole<br>Player Speed:0.0 MPH",
            "nflId:47849<br>displayName:Diontae Johnson<br>Player Speed:0.268 MPH",
            "nflId:52457<br>displayName:Chase Claypool<br>Player Speed:2.483 MPH",
            "nflId:52543<br>displayName:Kevin Dotson<br>Player Speed:0.0 MPH",
            "nflId:53453<br>displayName:Najee Harris<br>Player Speed:0.089 MPH",
            "nflId:53484<br>displayName:Pat Freiermuth<br>Player Speed:0.336 MPH",
            "nflId:53557<br>displayName:Dan Moore<br>Player Speed:0.0 MPH",
            "nflId:54517<br>displayName:George Pickens<br>Player Speed:0.559 MPH"
           ],
           "marker": {
            "color": "#FFB612",
            "line": {
             "color": "#101820",
             "width": 2
            },
            "size": 10
           },
           "mode": "markers",
           "name": "PIT",
           "type": "scatter",
           "x": [
            24.02,
            20.2,
            20.26,
            19.2,
            19.71,
            21.06,
            20.01,
            23.98,
            21.57,
            20.17,
            19.89
           ],
           "y": [
            29.6,
            31.13,
            32.7,
            29.6,
            36.42,
            34.63,
            28.04,
            31.65,
            25.57,
            26.36,
            21.72
           ]
          },
          {
           "hoverinfo": "none",
           "marker": {
            "color": "#CBB67C",
            "line": {
             "color": "#663831",
             "width": 2
            },
            "size": 10
           },
           "mode": "markers",
           "name": "football",
           "type": "scatter",
           "x": [
            18.9599990844727
           ],
           "y": [
            29.5900001525879
           ]
          }
         ],
         "name": "88"
        },
        {
         "data": [
          {
           "hoverinfo": "none",
           "mode": "text",
           "showlegend": false,
           "text": [
            "10",
            "20",
            "30",
            "40",
            "50",
            "40",
            "30",
            "20",
            "10"
           ],
           "textfont": {
            "color": "#ffffff",
            "family": "Courier New, monospace",
            "size": 30
           },
           "type": "scatter",
           "x": [
            20,
            30,
            40,
            50,
            60,
            70,
            80,
            90,
            100
           ],
           "y": [
            5,
            5,
            5,
            5,
            5,
            5,
            5,
            5,
            5
           ]
          },
          {
           "hoverinfo": "none",
           "mode": "text",
           "showlegend": false,
           "text": [
            "10",
            "20",
            "30",
            "40",
            "50",
            "40",
            "30",
            "20",
            "10"
           ],
           "textfont": {
            "color": "#ffffff",
            "family": "Courier New, monospace",
            "size": 30
           },
           "type": "scatter",
           "x": [
            20,
            30,
            40,
            50,
            60,
            70,
            80,
            90,
            100
           ],
           "y": [
            48.5,
            48.5,
            48.5,
            48.5,
            48.5,
            48.5,
            48.5,
            48.5,
            48.5
           ]
          },
          {
           "hoverinfo": "none",
           "line": {
            "color": "blue",
            "dash": "dash"
           },
           "showlegend": false,
           "type": "scatter",
           "x": [
            19,
            19
           ],
           "y": [
            0,
            53.5
           ]
          },
          {
           "hoverinfo": "none",
           "line": {
            "color": "yellow",
            "dash": "dash"
           },
           "showlegend": false,
           "type": "scatter",
           "x": [
            10,
            10
           ],
           "y": [
            0,
            53.5
           ]
          },
          {
           "fill": "toself",
           "fillcolor": "#000000",
           "hoverinfo": "skip",
           "line": {
            "color": "white",
            "width": 3
           },
           "mode": "lines",
           "opacity": 1,
           "showlegend": false,
           "type": "scatter",
           "x": [
            0,
            0,
            10,
            10,
            0
           ],
           "y": [
            0,
            53.5,
            53.5,
            0,
            0
           ]
          },
          {
           "fill": "toself",
           "fillcolor": "#FFB612",
           "hoverinfo": "skip",
           "line": {
            "color": "white",
            "width": 3
           },
           "mode": "lines",
           "opacity": 1,
           "showlegend": false,
           "type": "scatter",
           "x": [
            110,
            110,
            120,
            120,
            110
           ],
           "y": [
            0,
            53.5,
            53.5,
            0,
            0
           ]
          },
          {
           "hoverinfo": "text",
           "hovertext": [
            "nflId:43299<br>displayName:Eli Apple<br>Player Speed:3.803 MPH",
            "nflId:43350<br>displayName:Vonn Bell<br>Player Speed:9.462 MPH",
            "nflId:43455<br>displayName:D.J. Reader<br>Player Speed:0.828 MPH",
            "nflId:43641<br>displayName:Mike Hilton<br>Player Speed:10.044 MPH",
            "nflId:44872<br>displayName:Chidobe Awuzie<br>Player Speed:1.23 MPH",
            "nflId:44915<br>displayName:Trey Hendrickson<br>Player Speed:0.089 MPH",
            "nflId:46123<br>displayName:Jessie Bates<br>Player Speed:4.474 MPH",
            "nflId:46138<br>displayName:B.J. Hill<br>Player Speed:2.237 MPH",
            "nflId:46146<br>displayName:Sam Hubbard<br>Player Speed:1.521 MPH",
            "nflId:47855<br>displayName:Germaine Pratt<br>Player Speed:2.774 MPH",
            "nflId:52473<br>displayName:Logan Wilson<br>Player Speed:4.63 MPH"
           ],
           "marker": {
            "color": "#000000",
            "line": {
             "color": "#FB4F14",
             "width": 2
            },
            "size": 10
           },
           "mode": "markers",
           "name": "CIN",
           "type": "scatter",
           "x": [
            13.61,
            12.8,
            18.23,
            16.1,
            13.46,
            18.11,
            10.15,
            17.76,
            18.13,
            14.86,
            14.36
           ],
           "y": [
            18.25,
            31.82,
            30.9,
            32.75,
            39.34,
            24.47,
            26.79,
            27.47,
            34.16,
            29.3,
            28.33
           ]
          },
          {
           "hoverinfo": "text",
           "hovertext": [
            "nflId:44814<br>displayName:Mitchell Trubisky<br>Player Speed:0.0 MPH",
            "nflId:46108<br>displayName:James Daniels<br>Player Speed:0.0 MPH",
            "nflId:46161<br>displayName:Chukwuma Okorafor<br>Player Speed:0.0 MPH",
            "nflId:46166<br>displayName:Mason Cole<br>Player Speed:0.0 MPH",
            "nflId:47849<br>displayName:Diontae Johnson<br>Player Speed:0.268 MPH",
            "nflId:52457<br>displayName:Chase Claypool<br>Player Speed:1.901 MPH",
            "nflId:52543<br>displayName:Kevin Dotson<br>Player Speed:0.0 MPH",
            "nflId:53453<br>displayName:Najee Harris<br>Player Speed:0.089 MPH",
            "nflId:53484<br>displayName:Pat Freiermuth<br>Player Speed:0.246 MPH",
            "nflId:53557<br>displayName:Dan Moore<br>Player Speed:0.0 MPH",
            "nflId:54517<br>displayName:George Pickens<br>Player Speed:0.582 MPH"
           ],
           "marker": {
            "color": "#FFB612",
            "line": {
             "color": "#101820",
             "width": 2
            },
            "size": 10
           },
           "mode": "markers",
           "name": "PIT",
           "type": "scatter",
           "x": [
            24.02,
            20.2,
            20.26,
            19.2,
            19.7,
            21.02,
            20.01,
            23.99,
            21.57,
            20.17,
            19.91
           ],
           "y": [
            29.6,
            31.13,
            32.7,
            29.6,
            36.42,
            34.72,
            28.04,
            31.65,
            25.57,
            26.36,
            21.73
           ]
          },
          {
           "hoverinfo": "none",
           "marker": {
            "color": "#CBB67C",
            "line": {
             "color": "#663831",
             "width": 2
            },
            "size": 10
           },
           "mode": "markers",
           "name": "football",
           "type": "scatter",
           "x": [
            18.9599990844727
           ],
           "y": [
            29.5900001525879
           ]
          }
         ],
         "name": "89"
        },
        {
         "data": [
          {
           "hoverinfo": "none",
           "mode": "text",
           "showlegend": false,
           "text": [
            "10",
            "20",
            "30",
            "40",
            "50",
            "40",
            "30",
            "20",
            "10"
           ],
           "textfont": {
            "color": "#ffffff",
            "family": "Courier New, monospace",
            "size": 30
           },
           "type": "scatter",
           "x": [
            20,
            30,
            40,
            50,
            60,
            70,
            80,
            90,
            100
           ],
           "y": [
            5,
            5,
            5,
            5,
            5,
            5,
            5,
            5,
            5
           ]
          },
          {
           "hoverinfo": "none",
           "mode": "text",
           "showlegend": false,
           "text": [
            "10",
            "20",
            "30",
            "40",
            "50",
            "40",
            "30",
            "20",
            "10"
           ],
           "textfont": {
            "color": "#ffffff",
            "family": "Courier New, monospace",
            "size": 30
           },
           "type": "scatter",
           "x": [
            20,
            30,
            40,
            50,
            60,
            70,
            80,
            90,
            100
           ],
           "y": [
            48.5,
            48.5,
            48.5,
            48.5,
            48.5,
            48.5,
            48.5,
            48.5,
            48.5
           ]
          },
          {
           "hoverinfo": "none",
           "line": {
            "color": "blue",
            "dash": "dash"
           },
           "showlegend": false,
           "type": "scatter",
           "x": [
            19,
            19
           ],
           "y": [
            0,
            53.5
           ]
          },
          {
           "hoverinfo": "none",
           "line": {
            "color": "yellow",
            "dash": "dash"
           },
           "showlegend": false,
           "type": "scatter",
           "x": [
            10,
            10
           ],
           "y": [
            0,
            53.5
           ]
          },
          {
           "fill": "toself",
           "fillcolor": "#000000",
           "hoverinfo": "skip",
           "line": {
            "color": "white",
            "width": 3
           },
           "mode": "lines",
           "opacity": 1,
           "showlegend": false,
           "type": "scatter",
           "x": [
            0,
            0,
            10,
            10,
            0
           ],
           "y": [
            0,
            53.5,
            53.5,
            0,
            0
           ]
          },
          {
           "fill": "toself",
           "fillcolor": "#FFB612",
           "hoverinfo": "skip",
           "line": {
            "color": "white",
            "width": 3
           },
           "mode": "lines",
           "opacity": 1,
           "showlegend": false,
           "type": "scatter",
           "x": [
            110,
            110,
            120,
            120,
            110
           ],
           "y": [
            0,
            53.5,
            53.5,
            0,
            0
           ]
          },
          {
           "hoverinfo": "text",
           "hovertext": [
            "nflId:43299<br>displayName:Eli Apple<br>Player Speed:3.713 MPH",
            "nflId:43350<br>displayName:Vonn Bell<br>Player Speed:9.664 MPH",
            "nflId:43455<br>displayName:D.J. Reader<br>Player Speed:0.761 MPH",
            "nflId:43641<br>displayName:Mike Hilton<br>Player Speed:9.485 MPH",
            "nflId:44872<br>displayName:Chidobe Awuzie<br>Player Speed:1.275 MPH",
            "nflId:44915<br>displayName:Trey Hendrickson<br>Player Speed:0.089 MPH",
            "nflId:46123<br>displayName:Jessie Bates<br>Player Speed:4.742 MPH",
            "nflId:46138<br>displayName:B.J. Hill<br>Player Speed:1.969 MPH",
            "nflId:46146<br>displayName:Sam Hubbard<br>Player Speed:1.32 MPH",
            "nflId:47855<br>displayName:Germaine Pratt<br>Player Speed:2.684 MPH",
            "nflId:52473<br>displayName:Logan Wilson<br>Player Speed:5.011 MPH"
           ],
           "marker": {
            "color": "#000000",
            "line": {
             "color": "#FB4F14",
             "width": 2
            },
            "size": 10
           },
           "mode": "markers",
           "name": "CIN",
           "type": "scatter",
           "x": [
            13.61,
            12.79,
            18.25,
            16.11,
            13.44,
            18.12,
            10.13,
            17.81,
            18.15,
            14.83,
            14.32
           ],
           "y": [
            18.42,
            31.39,
            30.87,
            33.19,
            39.29,
            24.48,
            27,
            27.5,
            34.12,
            29.18,
            28.54
           ]
          },
          {
           "hoverinfo": "text",
           "hovertext": [
            "nflId:44814<br>displayName:Mitchell Trubisky<br>Player Speed:0.0 MPH",
            "nflId:46108<br>displayName:James Daniels<br>Player Speed:0.0 MPH",
            "nflId:46161<br>displayName:Chukwuma Okorafor<br>Player Speed:0.0 MPH",
            "nflId:46166<br>displayName:Mason Cole<br>Player Speed:0.0 MPH",
            "nflId:47849<br>displayName:Diontae Johnson<br>Player Speed:0.313 MPH",
            "nflId:52457<br>displayName:Chase Claypool<br>Player Speed:1.588 MPH",
            "nflId:52543<br>displayName:Kevin Dotson<br>Player Speed:0.0 MPH",
            "nflId:53453<br>displayName:Najee Harris<br>Player Speed:0.045 MPH",
            "nflId:53484<br>displayName:Pat Freiermuth<br>Player Speed:0.157 MPH",
            "nflId:53557<br>displayName:Dan Moore<br>Player Speed:0.0 MPH",
            "nflId:54517<br>displayName:George Pickens<br>Player Speed:0.514 MPH"
           ],
           "marker": {
            "color": "#FFB612",
            "line": {
             "color": "#101820",
             "width": 2
            },
            "size": 10
           },
           "mode": "markers",
           "name": "PIT",
           "type": "scatter",
           "x": [
            24.02,
            20.2,
            20.26,
            19.2,
            19.69,
            20.99,
            20.01,
            23.99,
            21.56,
            20.17,
            19.93
           ],
           "y": [
            29.6,
            31.12,
            32.7,
            29.6,
            36.41,
            34.8,
            28.04,
            31.66,
            25.57,
            26.36,
            21.73
           ]
          },
          {
           "hoverinfo": "none",
           "marker": {
            "color": "#CBB67C",
            "line": {
             "color": "#663831",
             "width": 2
            },
            "size": 10
           },
           "mode": "markers",
           "name": "football",
           "type": "scatter",
           "x": [
            18.9599990844727
           ],
           "y": [
            29.5900001525879
           ]
          }
         ],
         "name": "90"
        },
        {
         "data": [
          {
           "hoverinfo": "none",
           "mode": "text",
           "showlegend": false,
           "text": [
            "10",
            "20",
            "30",
            "40",
            "50",
            "40",
            "30",
            "20",
            "10"
           ],
           "textfont": {
            "color": "#ffffff",
            "family": "Courier New, monospace",
            "size": 30
           },
           "type": "scatter",
           "x": [
            20,
            30,
            40,
            50,
            60,
            70,
            80,
            90,
            100
           ],
           "y": [
            5,
            5,
            5,
            5,
            5,
            5,
            5,
            5,
            5
           ]
          },
          {
           "hoverinfo": "none",
           "mode": "text",
           "showlegend": false,
           "text": [
            "10",
            "20",
            "30",
            "40",
            "50",
            "40",
            "30",
            "20",
            "10"
           ],
           "textfont": {
            "color": "#ffffff",
            "family": "Courier New, monospace",
            "size": 30
           },
           "type": "scatter",
           "x": [
            20,
            30,
            40,
            50,
            60,
            70,
            80,
            90,
            100
           ],
           "y": [
            48.5,
            48.5,
            48.5,
            48.5,
            48.5,
            48.5,
            48.5,
            48.5,
            48.5
           ]
          },
          {
           "hoverinfo": "none",
           "line": {
            "color": "blue",
            "dash": "dash"
           },
           "showlegend": false,
           "type": "scatter",
           "x": [
            19,
            19
           ],
           "y": [
            0,
            53.5
           ]
          },
          {
           "hoverinfo": "none",
           "line": {
            "color": "yellow",
            "dash": "dash"
           },
           "showlegend": false,
           "type": "scatter",
           "x": [
            10,
            10
           ],
           "y": [
            0,
            53.5
           ]
          },
          {
           "fill": "toself",
           "fillcolor": "#000000",
           "hoverinfo": "skip",
           "line": {
            "color": "white",
            "width": 3
           },
           "mode": "lines",
           "opacity": 1,
           "showlegend": false,
           "type": "scatter",
           "x": [
            0,
            0,
            10,
            10,
            0
           ],
           "y": [
            0,
            53.5,
            53.5,
            0,
            0
           ]
          },
          {
           "fill": "toself",
           "fillcolor": "#FFB612",
           "hoverinfo": "skip",
           "line": {
            "color": "white",
            "width": 3
           },
           "mode": "lines",
           "opacity": 1,
           "showlegend": false,
           "type": "scatter",
           "x": [
            110,
            110,
            120,
            120,
            110
           ],
           "y": [
            0,
            53.5,
            53.5,
            0,
            0
           ]
          },
          {
           "hoverinfo": "text",
           "hovertext": [
            "nflId:43299<br>displayName:Eli Apple<br>Player Speed:3.534 MPH",
            "nflId:43350<br>displayName:Vonn Bell<br>Player Speed:9.843 MPH",
            "nflId:43455<br>displayName:D.J. Reader<br>Player Speed:0.649 MPH",
            "nflId:43641<br>displayName:Mike Hilton<br>Player Speed:8.836 MPH",
            "nflId:44872<br>displayName:Chidobe Awuzie<br>Player Speed:1.32 MPH",
            "nflId:44915<br>displayName:Trey Hendrickson<br>Player Speed:0.089 MPH",
            "nflId:46123<br>displayName:Jessie Bates<br>Player Speed:4.832 MPH",
            "nflId:46138<br>displayName:B.J. Hill<br>Player Speed:1.745 MPH",
            "nflId:46146<br>displayName:Sam Hubbard<br>Player Speed:1.051 MPH",
            "nflId:47855<br>displayName:Germaine Pratt<br>Player Speed:2.729 MPH",
            "nflId:52473<br>displayName:Logan Wilson<br>Player Speed:5.167 MPH"
           ],
           "marker": {
            "color": "#000000",
            "line": {
             "color": "#FB4F14",
             "width": 2
            },
            "size": 10
           },
           "mode": "markers",
           "name": "CIN",
           "type": "scatter",
           "x": [
            13.62,
            12.8,
            18.25,
            16.13,
            13.42,
            18.14,
            10.09,
            17.87,
            18.17,
            14.81,
            14.3
           ],
           "y": [
            18.58,
            30.95,
            30.85,
            33.59,
            39.24,
            24.48,
            27.21,
            27.52,
            34.09,
            29.06,
            28.76
           ]
          },
          {
           "hoverinfo": "text",
           "hovertext": [
            "nflId:44814<br>displayName:Mitchell Trubisky<br>Player Speed:0.0 MPH",
            "nflId:46108<br>displayName:James Daniels<br>Player Speed:0.0 MPH",
            "nflId:46161<br>displayName:Chukwuma Okorafor<br>Player Speed:0.0 MPH",
            "nflId:46166<br>displayName:Mason Cole<br>Player Speed:0.0 MPH",
            "nflId:47849<br>displayName:Diontae Johnson<br>Player Speed:0.224 MPH",
            "nflId:52457<br>displayName:Chase Claypool<br>Player Speed:1.141 MPH",
            "nflId:52543<br>displayName:Kevin Dotson<br>Player Speed:0.0 MPH",
            "nflId:53453<br>displayName:Najee Harris<br>Player Speed:0.045 MPH",
            "nflId:53484<br>displayName:Pat Freiermuth<br>Player Speed:0.157 MPH",
            "nflId:53557<br>displayName:Dan Moore<br>Player Speed:0.0 MPH",
            "nflId:54517<br>displayName:George Pickens<br>Player Speed:0.514 MPH"
           ],
           "marker": {
            "color": "#FFB612",
            "line": {
             "color": "#101820",
             "width": 2
            },
            "size": 10
           },
           "mode": "markers",
           "name": "PIT",
           "type": "scatter",
           "x": [
            24.02,
            20.2,
            20.26,
            19.2,
            19.69,
            20.96,
            20.01,
            23.99,
            21.55,
            20.17,
            19.95
           ],
           "y": [
            29.6,
            31.12,
            32.69,
            29.6,
            36.42,
            34.85,
            28.04,
            31.67,
            25.55,
            26.36,
            21.73
           ]
          },
          {
           "hoverinfo": "none",
           "marker": {
            "color": "#CBB67C",
            "line": {
             "color": "#663831",
             "width": 2
            },
            "size": 10
           },
           "mode": "markers",
           "name": "football",
           "type": "scatter",
           "x": [
            18.9599990844727
           ],
           "y": [
            29.5900001525879
           ]
          }
         ],
         "name": "91"
        },
        {
         "data": [
          {
           "hoverinfo": "none",
           "mode": "text",
           "showlegend": false,
           "text": [
            "10",
            "20",
            "30",
            "40",
            "50",
            "40",
            "30",
            "20",
            "10"
           ],
           "textfont": {
            "color": "#ffffff",
            "family": "Courier New, monospace",
            "size": 30
           },
           "type": "scatter",
           "x": [
            20,
            30,
            40,
            50,
            60,
            70,
            80,
            90,
            100
           ],
           "y": [
            5,
            5,
            5,
            5,
            5,
            5,
            5,
            5,
            5
           ]
          },
          {
           "hoverinfo": "none",
           "mode": "text",
           "showlegend": false,
           "text": [
            "10",
            "20",
            "30",
            "40",
            "50",
            "40",
            "30",
            "20",
            "10"
           ],
           "textfont": {
            "color": "#ffffff",
            "family": "Courier New, monospace",
            "size": 30
           },
           "type": "scatter",
           "x": [
            20,
            30,
            40,
            50,
            60,
            70,
            80,
            90,
            100
           ],
           "y": [
            48.5,
            48.5,
            48.5,
            48.5,
            48.5,
            48.5,
            48.5,
            48.5,
            48.5
           ]
          },
          {
           "hoverinfo": "none",
           "line": {
            "color": "blue",
            "dash": "dash"
           },
           "showlegend": false,
           "type": "scatter",
           "x": [
            19,
            19
           ],
           "y": [
            0,
            53.5
           ]
          },
          {
           "hoverinfo": "none",
           "line": {
            "color": "yellow",
            "dash": "dash"
           },
           "showlegend": false,
           "type": "scatter",
           "x": [
            10,
            10
           ],
           "y": [
            0,
            53.5
           ]
          },
          {
           "fill": "toself",
           "fillcolor": "#000000",
           "hoverinfo": "skip",
           "line": {
            "color": "white",
            "width": 3
           },
           "mode": "lines",
           "opacity": 1,
           "showlegend": false,
           "type": "scatter",
           "x": [
            0,
            0,
            10,
            10,
            0
           ],
           "y": [
            0,
            53.5,
            53.5,
            0,
            0
           ]
          },
          {
           "fill": "toself",
           "fillcolor": "#FFB612",
           "hoverinfo": "skip",
           "line": {
            "color": "white",
            "width": 3
           },
           "mode": "lines",
           "opacity": 1,
           "showlegend": false,
           "type": "scatter",
           "x": [
            110,
            110,
            120,
            120,
            110
           ],
           "y": [
            0,
            53.5,
            53.5,
            0,
            0
           ]
          },
          {
           "hoverinfo": "text",
           "hovertext": [
            "nflId:43299<br>displayName:Eli Apple<br>Player Speed:3.423 MPH",
            "nflId:43350<br>displayName:Vonn Bell<br>Player Speed:9.887 MPH",
            "nflId:43455<br>displayName:D.J. Reader<br>Player Speed:0.492 MPH",
            "nflId:43641<br>displayName:Mike Hilton<br>Player Speed:8.053 MPH",
            "nflId:44872<br>displayName:Chidobe Awuzie<br>Player Speed:1.365 MPH",
            "nflId:44915<br>displayName:Trey Hendrickson<br>Player Speed:0.089 MPH",
            "nflId:46123<br>displayName:Jessie Bates<br>Player Speed:4.877 MPH",
            "nflId:46138<br>displayName:B.J. Hill<br>Player Speed:1.409 MPH",
            "nflId:46146<br>displayName:Sam Hubbard<br>Player Speed:0.94 MPH",
            "nflId:47855<br>displayName:Germaine Pratt<br>Player Speed:2.572 MPH",
            "nflId:52473<br>displayName:Logan Wilson<br>Player Speed:5.749 MPH"
           ],
           "marker": {
            "color": "#000000",
            "line": {
             "color": "#FB4F14",
             "width": 2
            },
            "size": 10
           },
           "mode": "markers",
           "name": "CIN",
           "type": "scatter",
           "x": [
            13.63,
            12.83,
            18.28,
            16.14,
            13.38,
            18.15,
            10.04,
            17.92,
            18.18,
            14.78,
            14.3
           ],
           "y": [
            18.73,
            30.51,
            30.86,
            33.97,
            39.18,
            24.48,
            27.43,
            27.53,
            34.05,
            28.95,
            29.02
           ]
          },
          {
           "hoverinfo": "text",
           "hovertext": [
            "nflId:44814<br>displayName:Mitchell Trubisky<br>Player Speed:0.0 MPH",
            "nflId:46108<br>displayName:James Daniels<br>Player Speed:0.0 MPH",
            "nflId:46161<br>displayName:Chukwuma Okorafor<br>Player Speed:0.0 MPH",
            "nflId:46166<br>displayName:Mason Cole<br>Player Speed:0.0 MPH",
            "nflId:47849<br>displayName:Diontae Johnson<br>Player Speed:0.157 MPH",
            "nflId:52457<br>displayName:Chase Claypool<br>Player Speed:1.029 MPH",
            "nflId:52543<br>displayName:Kevin Dotson<br>Player Speed:0.0 MPH",
            "nflId:53453<br>displayName:Najee Harris<br>Player Speed:0.022 MPH",
            "nflId:53484<br>displayName:Pat Freiermuth<br>Player Speed:0.268 MPH",
            "nflId:53557<br>displayName:Dan Moore<br>Player Speed:0.0 MPH",
            "nflId:54517<br>displayName:George Pickens<br>Player Speed:0.447 MPH"
           ],
           "marker": {
            "color": "#FFB612",
            "line": {
             "color": "#101820",
             "width": 2
            },
            "size": 10
           },
           "mode": "markers",
           "name": "PIT",
           "type": "scatter",
           "x": [
            24.02,
            20.2,
            20.26,
            19.2,
            19.68,
            20.94,
            20.01,
            23.99,
            21.54,
            20.18,
            19.97
           ],
           "y": [
            29.6,
            31.12,
            32.7,
            29.6,
            36.42,
            34.9,
            28.04,
            31.68,
            25.59,
            26.36,
            21.73
           ]
          },
          {
           "hoverinfo": "none",
           "marker": {
            "color": "#CBB67C",
            "line": {
             "color": "#663831",
             "width": 2
            },
            "size": 10
           },
           "mode": "markers",
           "name": "football",
           "type": "scatter",
           "x": [
            18.9599990844727
           ],
           "y": [
            29.5900001525879
           ]
          }
         ],
         "name": "92"
        },
        {
         "data": [
          {
           "hoverinfo": "none",
           "mode": "text",
           "showlegend": false,
           "text": [
            "10",
            "20",
            "30",
            "40",
            "50",
            "40",
            "30",
            "20",
            "10"
           ],
           "textfont": {
            "color": "#ffffff",
            "family": "Courier New, monospace",
            "size": 30
           },
           "type": "scatter",
           "x": [
            20,
            30,
            40,
            50,
            60,
            70,
            80,
            90,
            100
           ],
           "y": [
            5,
            5,
            5,
            5,
            5,
            5,
            5,
            5,
            5
           ]
          },
          {
           "hoverinfo": "none",
           "mode": "text",
           "showlegend": false,
           "text": [
            "10",
            "20",
            "30",
            "40",
            "50",
            "40",
            "30",
            "20",
            "10"
           ],
           "textfont": {
            "color": "#ffffff",
            "family": "Courier New, monospace",
            "size": 30
           },
           "type": "scatter",
           "x": [
            20,
            30,
            40,
            50,
            60,
            70,
            80,
            90,
            100
           ],
           "y": [
            48.5,
            48.5,
            48.5,
            48.5,
            48.5,
            48.5,
            48.5,
            48.5,
            48.5
           ]
          },
          {
           "hoverinfo": "none",
           "line": {
            "color": "blue",
            "dash": "dash"
           },
           "showlegend": false,
           "type": "scatter",
           "x": [
            19,
            19
           ],
           "y": [
            0,
            53.5
           ]
          },
          {
           "hoverinfo": "none",
           "line": {
            "color": "yellow",
            "dash": "dash"
           },
           "showlegend": false,
           "type": "scatter",
           "x": [
            10,
            10
           ],
           "y": [
            0,
            53.5
           ]
          },
          {
           "fill": "toself",
           "fillcolor": "#000000",
           "hoverinfo": "skip",
           "line": {
            "color": "white",
            "width": 3
           },
           "mode": "lines",
           "opacity": 1,
           "showlegend": false,
           "type": "scatter",
           "x": [
            0,
            0,
            10,
            10,
            0
           ],
           "y": [
            0,
            53.5,
            53.5,
            0,
            0
           ]
          },
          {
           "fill": "toself",
           "fillcolor": "#FFB612",
           "hoverinfo": "skip",
           "line": {
            "color": "white",
            "width": 3
           },
           "mode": "lines",
           "opacity": 1,
           "showlegend": false,
           "type": "scatter",
           "x": [
            110,
            110,
            120,
            120,
            110
           ],
           "y": [
            0,
            53.5,
            53.5,
            0,
            0
           ]
          },
          {
           "hoverinfo": "text",
           "hovertext": [
            "nflId:43299<br>displayName:Eli Apple<br>Player Speed:3.311 MPH",
            "nflId:43350<br>displayName:Vonn Bell<br>Player Speed:9.887 MPH",
            "nflId:43455<br>displayName:D.J. Reader<br>Player Speed:0.403 MPH",
            "nflId:43641<br>displayName:Mike Hilton<br>Player Speed:7.203 MPH",
            "nflId:44872<br>displayName:Chidobe Awuzie<br>Player Speed:1.342 MPH",
            "nflId:44915<br>displayName:Trey Hendrickson<br>Player Speed:0.067 MPH",
            "nflId:46123<br>displayName:Jessie Bates<br>Player Speed:4.787 MPH",
            "nflId:46138<br>displayName:B.J. Hill<br>Player Speed:1.186 MPH",
            "nflId:46146<br>displayName:Sam Hubbard<br>Player Speed:0.738 MPH",
            "nflId:47855<br>displayName:Germaine Pratt<br>Player Speed:2.371 MPH",
            "nflId:52473<br>displayName:Logan Wilson<br>Player Speed:6.062 MPH"
           ],
           "marker": {
            "color": "#000000",
            "line": {
             "color": "#FB4F14",
             "width": 2
            },
            "size": 10
           },
           "mode": "markers",
           "name": "CIN",
           "type": "scatter",
           "x": [
            13.64,
            12.87,
            18.3,
            16.16,
            13.35,
            18.15,
            9.97,
            17.98,
            18.19,
            14.76,
            14.31
           ],
           "y": [
            18.89,
            30.07,
            30.86,
            34.31,
            39.14,
            24.49,
            27.63,
            27.55,
            34.04,
            28.84,
            29.28
           ]
          },
          {
           "hoverinfo": "text",
           "hovertext": [
            "nflId:44814<br>displayName:Mitchell Trubisky<br>Player Speed:0.0 MPH",
            "nflId:46108<br>displayName:James Daniels<br>Player Speed:0.0 MPH",
            "nflId:46161<br>displayName:Chukwuma Okorafor<br>Player Speed:0.0 MPH",
            "nflId:46166<br>displayName:Mason Cole<br>Player Speed:0.0 MPH",
            "nflId:47849<br>displayName:Diontae Johnson<br>Player Speed:0.089 MPH",
            "nflId:52457<br>displayName:Chase Claypool<br>Player Speed:0.962 MPH",
            "nflId:52543<br>displayName:Kevin Dotson<br>Player Speed:0.0 MPH",
            "nflId:53453<br>displayName:Najee Harris<br>Player Speed:0.022 MPH",
            "nflId:53484<br>displayName:Pat Freiermuth<br>Player Speed:0.358 MPH",
            "nflId:53557<br>displayName:Dan Moore<br>Player Speed:0.0 MPH",
            "nflId:54517<br>displayName:George Pickens<br>Player Speed:0.336 MPH"
           ],
           "marker": {
            "color": "#FFB612",
            "line": {
             "color": "#101820",
             "width": 2
            },
            "size": 10
           },
           "mode": "markers",
           "name": "PIT",
           "type": "scatter",
           "x": [
            24.02,
            20.2,
            20.26,
            19.21,
            19.68,
            20.93,
            20.01,
            23.99,
            21.55,
            20.18,
            19.99
           ],
           "y": [
            29.6,
            31.12,
            32.7,
            29.6,
            36.43,
            34.95,
            28.04,
            31.66,
            25.62,
            26.36,
            21.74
           ]
          },
          {
           "hoverinfo": "none",
           "marker": {
            "color": "#CBB67C",
            "line": {
             "color": "#663831",
             "width": 2
            },
            "size": 10
           },
           "mode": "markers",
           "name": "football",
           "type": "scatter",
           "x": [
            18.9599990844727
           ],
           "y": [
            29.5900001525879
           ]
          }
         ],
         "name": "93"
        },
        {
         "data": [
          {
           "hoverinfo": "none",
           "mode": "text",
           "showlegend": false,
           "text": [
            "10",
            "20",
            "30",
            "40",
            "50",
            "40",
            "30",
            "20",
            "10"
           ],
           "textfont": {
            "color": "#ffffff",
            "family": "Courier New, monospace",
            "size": 30
           },
           "type": "scatter",
           "x": [
            20,
            30,
            40,
            50,
            60,
            70,
            80,
            90,
            100
           ],
           "y": [
            5,
            5,
            5,
            5,
            5,
            5,
            5,
            5,
            5
           ]
          },
          {
           "hoverinfo": "none",
           "mode": "text",
           "showlegend": false,
           "text": [
            "10",
            "20",
            "30",
            "40",
            "50",
            "40",
            "30",
            "20",
            "10"
           ],
           "textfont": {
            "color": "#ffffff",
            "family": "Courier New, monospace",
            "size": 30
           },
           "type": "scatter",
           "x": [
            20,
            30,
            40,
            50,
            60,
            70,
            80,
            90,
            100
           ],
           "y": [
            48.5,
            48.5,
            48.5,
            48.5,
            48.5,
            48.5,
            48.5,
            48.5,
            48.5
           ]
          },
          {
           "hoverinfo": "none",
           "line": {
            "color": "blue",
            "dash": "dash"
           },
           "showlegend": false,
           "type": "scatter",
           "x": [
            19,
            19
           ],
           "y": [
            0,
            53.5
           ]
          },
          {
           "hoverinfo": "none",
           "line": {
            "color": "yellow",
            "dash": "dash"
           },
           "showlegend": false,
           "type": "scatter",
           "x": [
            10,
            10
           ],
           "y": [
            0,
            53.5
           ]
          },
          {
           "fill": "toself",
           "fillcolor": "#000000",
           "hoverinfo": "skip",
           "line": {
            "color": "white",
            "width": 3
           },
           "mode": "lines",
           "opacity": 1,
           "showlegend": false,
           "type": "scatter",
           "x": [
            0,
            0,
            10,
            10,
            0
           ],
           "y": [
            0,
            53.5,
            53.5,
            0,
            0
           ]
          },
          {
           "fill": "toself",
           "fillcolor": "#FFB612",
           "hoverinfo": "skip",
           "line": {
            "color": "white",
            "width": 3
           },
           "mode": "lines",
           "opacity": 1,
           "showlegend": false,
           "type": "scatter",
           "x": [
            110,
            110,
            120,
            120,
            110
           ],
           "y": [
            0,
            53.5,
            53.5,
            0,
            0
           ]
          },
          {
           "hoverinfo": "text",
           "hovertext": [
            "nflId:43299<br>displayName:Eli Apple<br>Player Speed:3.087 MPH",
            "nflId:43350<br>displayName:Vonn Bell<br>Player Speed:9.82 MPH",
            "nflId:43455<br>displayName:D.J. Reader<br>Player Speed:0.291 MPH",
            "nflId:43641<br>displayName:Mike Hilton<br>Player Speed:6.375 MPH",
            "nflId:44872<br>displayName:Chidobe Awuzie<br>Player Speed:1.387 MPH",
            "nflId:44915<br>displayName:Trey Hendrickson<br>Player Speed:0.067 MPH",
            "nflId:46123<br>displayName:Jessie Bates<br>Player Speed:4.563 MPH",
            "nflId:46138<br>displayName:B.J. Hill<br>Player Speed:0.872 MPH",
            "nflId:46146<br>displayName:Sam Hubbard<br>Player Speed:0.626 MPH",
            "nflId:47855<br>displayName:Germaine Pratt<br>Player Speed:2.259 MPH",
            "nflId:52473<br>displayName:Logan Wilson<br>Player Speed:6.308 MPH"
           ],
           "marker": {
            "color": "#000000",
            "line": {
             "color": "#FB4F14",
             "width": 2
            },
            "size": 10
           },
           "mode": "markers",
           "name": "CIN",
           "type": "scatter",
           "x": [
            13.66,
            12.94,
            18.3,
            16.18,
            13.31,
            18.16,
            9.9,
            18.01,
            18.21,
            14.74,
            14.34
           ],
           "y": [
            19.03,
            29.64,
            30.87,
            34.61,
            39.09,
            24.5,
            27.83,
            27.56,
            34.02,
            28.75,
            29.55
           ]
          },
          {
           "hoverinfo": "text",
           "hovertext": [
            "nflId:44814<br>displayName:Mitchell Trubisky<br>Player Speed:0.0 MPH",
            "nflId:46108<br>displayName:James Daniels<br>Player Speed:0.0 MPH",
            "nflId:46161<br>displayName:Chukwuma Okorafor<br>Player Speed:0.0 MPH",
            "nflId:46166<br>displayName:Mason Cole<br>Player Speed:0.0 MPH",
            "nflId:47849<br>displayName:Diontae Johnson<br>Player Speed:0.045 MPH",
            "nflId:52457<br>displayName:Chase Claypool<br>Player Speed:0.671 MPH",
            "nflId:52543<br>displayName:Kevin Dotson<br>Player Speed:0.0 MPH",
            "nflId:53453<br>displayName:Najee Harris<br>Player Speed:0.022 MPH",
            "nflId:53484<br>displayName:Pat Freiermuth<br>Player Speed:0.447 MPH",
            "nflId:53557<br>displayName:Dan Moore<br>Player Speed:0.0 MPH",
            "nflId:54517<br>displayName:George Pickens<br>Player Speed:0.268 MPH"
           ],
           "marker": {
            "color": "#FFB612",
            "line": {
             "color": "#101820",
             "width": 2
            },
            "size": 10
           },
           "mode": "markers",
           "name": "PIT",
           "type": "scatter",
           "x": [
            24.02,
            20.2,
            20.26,
            19.21,
            19.69,
            20.92,
            20.01,
            23.99,
            21.54,
            20.18,
            20
           ],
           "y": [
            29.6,
            31.12,
            32.7,
            29.6,
            36.43,
            34.97,
            28.04,
            31.66,
            25.66,
            26.36,
            21.74
           ]
          },
          {
           "hoverinfo": "none",
           "marker": {
            "color": "#CBB67C",
            "line": {
             "color": "#663831",
             "width": 2
            },
            "size": 10
           },
           "mode": "markers",
           "name": "football",
           "type": "scatter",
           "x": [
            18.9599990844727
           ],
           "y": [
            29.5900001525879
           ]
          }
         ],
         "name": "94"
        },
        {
         "data": [
          {
           "hoverinfo": "none",
           "mode": "text",
           "showlegend": false,
           "text": [
            "10",
            "20",
            "30",
            "40",
            "50",
            "40",
            "30",
            "20",
            "10"
           ],
           "textfont": {
            "color": "#ffffff",
            "family": "Courier New, monospace",
            "size": 30
           },
           "type": "scatter",
           "x": [
            20,
            30,
            40,
            50,
            60,
            70,
            80,
            90,
            100
           ],
           "y": [
            5,
            5,
            5,
            5,
            5,
            5,
            5,
            5,
            5
           ]
          },
          {
           "hoverinfo": "none",
           "mode": "text",
           "showlegend": false,
           "text": [
            "10",
            "20",
            "30",
            "40",
            "50",
            "40",
            "30",
            "20",
            "10"
           ],
           "textfont": {
            "color": "#ffffff",
            "family": "Courier New, monospace",
            "size": 30
           },
           "type": "scatter",
           "x": [
            20,
            30,
            40,
            50,
            60,
            70,
            80,
            90,
            100
           ],
           "y": [
            48.5,
            48.5,
            48.5,
            48.5,
            48.5,
            48.5,
            48.5,
            48.5,
            48.5
           ]
          },
          {
           "hoverinfo": "none",
           "line": {
            "color": "blue",
            "dash": "dash"
           },
           "showlegend": false,
           "type": "scatter",
           "x": [
            19,
            19
           ],
           "y": [
            0,
            53.5
           ]
          },
          {
           "hoverinfo": "none",
           "line": {
            "color": "yellow",
            "dash": "dash"
           },
           "showlegend": false,
           "type": "scatter",
           "x": [
            10,
            10
           ],
           "y": [
            0,
            53.5
           ]
          },
          {
           "fill": "toself",
           "fillcolor": "#000000",
           "hoverinfo": "skip",
           "line": {
            "color": "white",
            "width": 3
           },
           "mode": "lines",
           "opacity": 1,
           "showlegend": false,
           "type": "scatter",
           "x": [
            0,
            0,
            10,
            10,
            0
           ],
           "y": [
            0,
            53.5,
            53.5,
            0,
            0
           ]
          },
          {
           "fill": "toself",
           "fillcolor": "#FFB612",
           "hoverinfo": "skip",
           "line": {
            "color": "white",
            "width": 3
           },
           "mode": "lines",
           "opacity": 1,
           "showlegend": false,
           "type": "scatter",
           "x": [
            110,
            110,
            120,
            120,
            110
           ],
           "y": [
            0,
            53.5,
            53.5,
            0,
            0
           ]
          },
          {
           "hoverinfo": "text",
           "hovertext": [
            "nflId:43299<br>displayName:Eli Apple<br>Player Speed:2.975 MPH",
            "nflId:43350<br>displayName:Vonn Bell<br>Player Speed:9.731 MPH",
            "nflId:43455<br>displayName:D.J. Reader<br>Player Speed:0.201 MPH",
            "nflId:43641<br>displayName:Mike Hilton<br>Player Speed:5.458 MPH",
            "nflId:44872<br>displayName:Chidobe Awuzie<br>Player Speed:1.432 MPH",
            "nflId:44915<br>displayName:Trey Hendrickson<br>Player Speed:0.067 MPH",
            "nflId:46123<br>displayName:Jessie Bates<br>Player Speed:4.34 MPH",
            "nflId:46138<br>displayName:B.J. Hill<br>Player Speed:0.671 MPH",
            "nflId:46146<br>displayName:Sam Hubbard<br>Player Speed:0.537 MPH",
            "nflId:47855<br>displayName:Germaine Pratt<br>Player Speed:2.013 MPH",
            "nflId:52473<br>displayName:Logan Wilson<br>Player Speed:6.465 MPH"
           ],
           "marker": {
            "color": "#000000",
            "line": {
             "color": "#FB4F14",
             "width": 2
            },
            "size": 10
           },
           "mode": "markers",
           "name": "CIN",
           "type": "scatter",
           "x": [
            13.68,
            13.02,
            18.3,
            16.19,
            13.27,
            18.16,
            9.81,
            18.03,
            18.21,
            14.73,
            14.38
           ],
           "y": [
            19.16,
            29.21,
            30.88,
            34.87,
            39.04,
            24.5,
            28.01,
            27.58,
            33.99,
            28.66,
            29.83
           ]
          },
          {
           "hoverinfo": "text",
           "hovertext": [
            "nflId:44814<br>displayName:Mitchell Trubisky<br>Player Speed:0.0 MPH",
            "nflId:46108<br>displayName:James Daniels<br>Player Speed:0.0 MPH",
            "nflId:46161<br>displayName:Chukwuma Okorafor<br>Player Speed:0.0 MPH",
            "nflId:46166<br>displayName:Mason Cole<br>Player Speed:0.0 MPH",
            "nflId:47849<br>displayName:Diontae Johnson<br>Player Speed:0.045 MPH",
            "nflId:52457<br>displayName:Chase Claypool<br>Player Speed:0.425 MPH",
            "nflId:52543<br>displayName:Kevin Dotson<br>Player Speed:0.0 MPH",
            "nflId:53453<br>displayName:Najee Harris<br>Player Speed:0.022 MPH",
            "nflId:53484<br>displayName:Pat Freiermuth<br>Player Speed:0.537 MPH",
            "nflId:53557<br>displayName:Dan Moore<br>Player Speed:0.0 MPH",
            "nflId:54517<br>displayName:George Pickens<br>Player Speed:0.224 MPH"
           ],
           "marker": {
            "color": "#FFB612",
            "line": {
             "color": "#101820",
             "width": 2
            },
            "size": 10
           },
           "mode": "markers",
           "name": "PIT",
           "type": "scatter",
           "x": [
            24.01,
            20.2,
            20.26,
            19.21,
            19.69,
            20.92,
            20.01,
            23.99,
            21.54,
            20.18,
            20.01
           ],
           "y": [
            29.6,
            31.12,
            32.7,
            29.6,
            36.43,
            34.99,
            28.04,
            31.66,
            25.71,
            26.36,
            21.73
           ]
          },
          {
           "hoverinfo": "none",
           "marker": {
            "color": "#CBB67C",
            "line": {
             "color": "#663831",
             "width": 2
            },
            "size": 10
           },
           "mode": "markers",
           "name": "football",
           "type": "scatter",
           "x": [
            18.9599990844727
           ],
           "y": [
            29.5900001525879
           ]
          }
         ],
         "name": "95"
        },
        {
         "data": [
          {
           "hoverinfo": "none",
           "mode": "text",
           "showlegend": false,
           "text": [
            "10",
            "20",
            "30",
            "40",
            "50",
            "40",
            "30",
            "20",
            "10"
           ],
           "textfont": {
            "color": "#ffffff",
            "family": "Courier New, monospace",
            "size": 30
           },
           "type": "scatter",
           "x": [
            20,
            30,
            40,
            50,
            60,
            70,
            80,
            90,
            100
           ],
           "y": [
            5,
            5,
            5,
            5,
            5,
            5,
            5,
            5,
            5
           ]
          },
          {
           "hoverinfo": "none",
           "mode": "text",
           "showlegend": false,
           "text": [
            "10",
            "20",
            "30",
            "40",
            "50",
            "40",
            "30",
            "20",
            "10"
           ],
           "textfont": {
            "color": "#ffffff",
            "family": "Courier New, monospace",
            "size": 30
           },
           "type": "scatter",
           "x": [
            20,
            30,
            40,
            50,
            60,
            70,
            80,
            90,
            100
           ],
           "y": [
            48.5,
            48.5,
            48.5,
            48.5,
            48.5,
            48.5,
            48.5,
            48.5,
            48.5
           ]
          },
          {
           "hoverinfo": "none",
           "line": {
            "color": "blue",
            "dash": "dash"
           },
           "showlegend": false,
           "type": "scatter",
           "x": [
            19,
            19
           ],
           "y": [
            0,
            53.5
           ]
          },
          {
           "hoverinfo": "none",
           "line": {
            "color": "yellow",
            "dash": "dash"
           },
           "showlegend": false,
           "type": "scatter",
           "x": [
            10,
            10
           ],
           "y": [
            0,
            53.5
           ]
          },
          {
           "fill": "toself",
           "fillcolor": "#000000",
           "hoverinfo": "skip",
           "line": {
            "color": "white",
            "width": 3
           },
           "mode": "lines",
           "opacity": 1,
           "showlegend": false,
           "type": "scatter",
           "x": [
            0,
            0,
            10,
            10,
            0
           ],
           "y": [
            0,
            53.5,
            53.5,
            0,
            0
           ]
          },
          {
           "fill": "toself",
           "fillcolor": "#FFB612",
           "hoverinfo": "skip",
           "line": {
            "color": "white",
            "width": 3
           },
           "mode": "lines",
           "opacity": 1,
           "showlegend": false,
           "type": "scatter",
           "x": [
            110,
            110,
            120,
            120,
            110
           ],
           "y": [
            0,
            53.5,
            53.5,
            0,
            0
           ]
          },
          {
           "hoverinfo": "text",
           "hovertext": [
            "nflId:43299<br>displayName:Eli Apple<br>Player Speed:2.886 MPH",
            "nflId:43350<br>displayName:Vonn Bell<br>Player Speed:9.552 MPH",
            "nflId:43455<br>displayName:D.J. Reader<br>Player Speed:0.157 MPH",
            "nflId:43641<br>displayName:Mike Hilton<br>Player Speed:4.452 MPH",
            "nflId:44872<br>displayName:Chidobe Awuzie<br>Player Speed:1.499 MPH",
            "nflId:44915<br>displayName:Trey Hendrickson<br>Player Speed:0.045 MPH",
            "nflId:46123<br>displayName:Jessie Bates<br>Player Speed:4.228 MPH",
            "nflId:46138<br>displayName:B.J. Hill<br>Player Speed:0.604 MPH",
            "nflId:46146<br>displayName:Sam Hubbard<br>Player Speed:0.425 MPH",
            "nflId:47855<br>displayName:Germaine Pratt<br>Player Speed:1.745 MPH",
            "nflId:52473<br>displayName:Logan Wilson<br>Player Speed:6.532 MPH"
           ],
           "marker": {
            "color": "#000000",
            "line": {
             "color": "#FB4F14",
             "width": 2
            },
            "size": 10
           },
           "mode": "markers",
           "name": "CIN",
           "type": "scatter",
           "x": [
            13.69,
            13.13,
            18.3,
            16.2,
            13.22,
            18.16,
            9.72,
            18.05,
            18.2,
            14.71,
            14.44
           ],
           "y": [
            19.29,
            28.79,
            30.88,
            35.09,
            39,
            24.5,
            28.18,
            27.61,
            33.98,
            28.57,
            30.12
           ]
          },
          {
           "hoverinfo": "text",
           "hovertext": [
            "nflId:44814<br>displayName:Mitchell Trubisky<br>Player Speed:0.0 MPH",
            "nflId:46108<br>displayName:James Daniels<br>Player Speed:0.0 MPH",
            "nflId:46161<br>displayName:Chukwuma Okorafor<br>Player Speed:0.0 MPH",
            "nflId:46166<br>displayName:Mason Cole<br>Player Speed:0.0 MPH",
            "nflId:47849<br>displayName:Diontae Johnson<br>Player Speed:0.112 MPH",
            "nflId:52457<br>displayName:Chase Claypool<br>Player Speed:0.291 MPH",
            "nflId:52543<br>displayName:Kevin Dotson<br>Player Speed:0.0 MPH",
            "nflId:53453<br>displayName:Najee Harris<br>Player Speed:0.022 MPH",
            "nflId:53484<br>displayName:Pat Freiermuth<br>Player Speed:0.447 MPH",
            "nflId:53557<br>displayName:Dan Moore<br>Player Speed:0.0 MPH",
            "nflId:54517<br>displayName:George Pickens<br>Player Speed:0.268 MPH"
           ],
           "marker": {
            "color": "#FFB612",
            "line": {
             "color": "#101820",
             "width": 2
            },
            "size": 10
           },
           "mode": "markers",
           "name": "PIT",
           "type": "scatter",
           "x": [
            24.01,
            20.2,
            20.26,
            19.21,
            19.7,
            20.92,
            20.01,
            23.99,
            21.53,
            20.18,
            20.02
           ],
           "y": [
            29.6,
            31.13,
            32.7,
            29.59,
            36.44,
            35.01,
            28.04,
            31.66,
            25.71,
            26.36,
            21.72
           ]
          },
          {
           "hoverinfo": "none",
           "marker": {
            "color": "#CBB67C",
            "line": {
             "color": "#663831",
             "width": 2
            },
            "size": 10
           },
           "mode": "markers",
           "name": "football",
           "type": "scatter",
           "x": [
            18.9500007629395
           ],
           "y": [
            29.5900001525879
           ]
          }
         ],
         "name": "96"
        },
        {
         "data": [
          {
           "hoverinfo": "none",
           "mode": "text",
           "showlegend": false,
           "text": [
            "10",
            "20",
            "30",
            "40",
            "50",
            "40",
            "30",
            "20",
            "10"
           ],
           "textfont": {
            "color": "#ffffff",
            "family": "Courier New, monospace",
            "size": 30
           },
           "type": "scatter",
           "x": [
            20,
            30,
            40,
            50,
            60,
            70,
            80,
            90,
            100
           ],
           "y": [
            5,
            5,
            5,
            5,
            5,
            5,
            5,
            5,
            5
           ]
          },
          {
           "hoverinfo": "none",
           "mode": "text",
           "showlegend": false,
           "text": [
            "10",
            "20",
            "30",
            "40",
            "50",
            "40",
            "30",
            "20",
            "10"
           ],
           "textfont": {
            "color": "#ffffff",
            "family": "Courier New, monospace",
            "size": 30
           },
           "type": "scatter",
           "x": [
            20,
            30,
            40,
            50,
            60,
            70,
            80,
            90,
            100
           ],
           "y": [
            48.5,
            48.5,
            48.5,
            48.5,
            48.5,
            48.5,
            48.5,
            48.5,
            48.5
           ]
          },
          {
           "hoverinfo": "none",
           "line": {
            "color": "blue",
            "dash": "dash"
           },
           "showlegend": false,
           "type": "scatter",
           "x": [
            19,
            19
           ],
           "y": [
            0,
            53.5
           ]
          },
          {
           "hoverinfo": "none",
           "line": {
            "color": "yellow",
            "dash": "dash"
           },
           "showlegend": false,
           "type": "scatter",
           "x": [
            10,
            10
           ],
           "y": [
            0,
            53.5
           ]
          },
          {
           "fill": "toself",
           "fillcolor": "#000000",
           "hoverinfo": "skip",
           "line": {
            "color": "white",
            "width": 3
           },
           "mode": "lines",
           "opacity": 1,
           "showlegend": false,
           "type": "scatter",
           "x": [
            0,
            0,
            10,
            10,
            0
           ],
           "y": [
            0,
            53.5,
            53.5,
            0,
            0
           ]
          },
          {
           "fill": "toself",
           "fillcolor": "#FFB612",
           "hoverinfo": "skip",
           "line": {
            "color": "white",
            "width": 3
           },
           "mode": "lines",
           "opacity": 1,
           "showlegend": false,
           "type": "scatter",
           "x": [
            110,
            110,
            120,
            120,
            110
           ],
           "y": [
            0,
            53.5,
            53.5,
            0,
            0
           ]
          },
          {
           "hoverinfo": "text",
           "hovertext": [
            "nflId:43299<br>displayName:Eli Apple<br>Player Speed:2.751 MPH",
            "nflId:43350<br>displayName:Vonn Bell<br>Player Speed:9.306 MPH",
            "nflId:43455<br>displayName:D.J. Reader<br>Player Speed:0.134 MPH",
            "nflId:43641<br>displayName:Mike Hilton<br>Player Speed:3.512 MPH",
            "nflId:44872<br>displayName:Chidobe Awuzie<br>Player Speed:1.543 MPH",
            "nflId:44915<br>displayName:Trey Hendrickson<br>Player Speed:0.045 MPH",
            "nflId:46123<br>displayName:Jessie Bates<br>Player Speed:3.959 MPH",
            "nflId:46138<br>displayName:B.J. Hill<br>Player Speed:0.537 MPH",
            "nflId:46146<br>displayName:Sam Hubbard<br>Player Speed:0.358 MPH",
            "nflId:47855<br>displayName:Germaine Pratt<br>Player Speed:1.253 MPH",
            "nflId:52473<br>displayName:Logan Wilson<br>Player Speed:6.375 MPH"
           ],
           "marker": {
            "color": "#000000",
            "line": {
             "color": "#FB4F14",
             "width": 2
            },
            "size": 10
           },
           "mode": "markers",
           "name": "CIN",
           "type": "scatter",
           "x": [
            13.71,
            13.25,
            18.31,
            16.2,
            13.17,
            18.16,
            9.62,
            18.06,
            18.2,
            14.7,
            14.5
           ],
           "y": [
            19.42,
            28.39,
            30.88,
            35.27,
            38.95,
            24.5,
            28.34,
            27.64,
            33.97,
            28.51,
            30.4
           ]
          },
          {
           "hoverinfo": "text",
           "hovertext": [
            "nflId:44814<br>displayName:Mitchell Trubisky<br>Player Speed:0.0 MPH",
            "nflId:46108<br>displayName:James Daniels<br>Player Speed:0.0 MPH",
            "nflId:46161<br>displayName:Chukwuma Okorafor<br>Player Speed:0.0 MPH",
            "nflId:46166<br>displayName:Mason Cole<br>Player Speed:0.0 MPH",
            "nflId:47849<br>displayName:Diontae Johnson<br>Player Speed:0.067 MPH",
            "nflId:52457<br>displayName:Chase Claypool<br>Player Speed:0.157 MPH",
            "nflId:52543<br>displayName:Kevin Dotson<br>Player Speed:0.0 MPH",
            "nflId:53453<br>displayName:Najee Harris<br>Player Speed:0.022 MPH",
            "nflId:53484<br>displayName:Pat Freiermuth<br>Player Speed:0.403 MPH",
            "nflId:53557<br>displayName:Dan Moore<br>Player Speed:0.0 MPH",
            "nflId:54517<br>displayName:George Pickens<br>Player Speed:0.067 MPH"
           ],
           "marker": {
            "color": "#FFB612",
            "line": {
             "color": "#101820",
             "width": 2
            },
            "size": 10
           },
           "mode": "markers",
           "name": "PIT",
           "type": "scatter",
           "x": [
            24.01,
            20.2,
            20.26,
            19.21,
            19.7,
            20.92,
            20.01,
            23.99,
            21.52,
            20.18,
            20.02
           ],
           "y": [
            29.6,
            31.13,
            32.7,
            29.59,
            36.43,
            35.02,
            28.04,
            31.67,
            25.72,
            26.36,
            21.73
           ]
          },
          {
           "hoverinfo": "none",
           "marker": {
            "color": "#CBB67C",
            "line": {
             "color": "#663831",
             "width": 2
            },
            "size": 10
           },
           "mode": "markers",
           "name": "football",
           "type": "scatter",
           "x": [
            18.9500007629395
           ],
           "y": [
            29.5900001525879
           ]
          }
         ],
         "name": "97"
        },
        {
         "data": [
          {
           "hoverinfo": "none",
           "mode": "text",
           "showlegend": false,
           "text": [
            "10",
            "20",
            "30",
            "40",
            "50",
            "40",
            "30",
            "20",
            "10"
           ],
           "textfont": {
            "color": "#ffffff",
            "family": "Courier New, monospace",
            "size": 30
           },
           "type": "scatter",
           "x": [
            20,
            30,
            40,
            50,
            60,
            70,
            80,
            90,
            100
           ],
           "y": [
            5,
            5,
            5,
            5,
            5,
            5,
            5,
            5,
            5
           ]
          },
          {
           "hoverinfo": "none",
           "mode": "text",
           "showlegend": false,
           "text": [
            "10",
            "20",
            "30",
            "40",
            "50",
            "40",
            "30",
            "20",
            "10"
           ],
           "textfont": {
            "color": "#ffffff",
            "family": "Courier New, monospace",
            "size": 30
           },
           "type": "scatter",
           "x": [
            20,
            30,
            40,
            50,
            60,
            70,
            80,
            90,
            100
           ],
           "y": [
            48.5,
            48.5,
            48.5,
            48.5,
            48.5,
            48.5,
            48.5,
            48.5,
            48.5
           ]
          },
          {
           "hoverinfo": "none",
           "line": {
            "color": "blue",
            "dash": "dash"
           },
           "showlegend": false,
           "type": "scatter",
           "x": [
            19,
            19
           ],
           "y": [
            0,
            53.5
           ]
          },
          {
           "hoverinfo": "none",
           "line": {
            "color": "yellow",
            "dash": "dash"
           },
           "showlegend": false,
           "type": "scatter",
           "x": [
            10,
            10
           ],
           "y": [
            0,
            53.5
           ]
          },
          {
           "fill": "toself",
           "fillcolor": "#000000",
           "hoverinfo": "skip",
           "line": {
            "color": "white",
            "width": 3
           },
           "mode": "lines",
           "opacity": 1,
           "showlegend": false,
           "type": "scatter",
           "x": [
            0,
            0,
            10,
            10,
            0
           ],
           "y": [
            0,
            53.5,
            53.5,
            0,
            0
           ]
          },
          {
           "fill": "toself",
           "fillcolor": "#FFB612",
           "hoverinfo": "skip",
           "line": {
            "color": "white",
            "width": 3
           },
           "mode": "lines",
           "opacity": 1,
           "showlegend": false,
           "type": "scatter",
           "x": [
            110,
            110,
            120,
            120,
            110
           ],
           "y": [
            0,
            53.5,
            53.5,
            0,
            0
           ]
          },
          {
           "hoverinfo": "text",
           "hovertext": [
            "nflId:43299<br>displayName:Eli Apple<br>Player Speed:2.662 MPH",
            "nflId:43350<br>displayName:Vonn Bell<br>Player Speed:8.881 MPH",
            "nflId:43455<br>displayName:D.J. Reader<br>Player Speed:0.089 MPH",
            "nflId:43641<br>displayName:Mike Hilton<br>Player Speed:2.774 MPH",
            "nflId:44872<br>displayName:Chidobe Awuzie<br>Player Speed:1.275 MPH",
            "nflId:44915<br>displayName:Trey Hendrickson<br>Player Speed:0.045 MPH",
            "nflId:46123<br>displayName:Jessie Bates<br>Player Speed:3.758 MPH",
            "nflId:46138<br>displayName:B.J. Hill<br>Player Speed:0.336 MPH",
            "nflId:46146<br>displayName:Sam Hubbard<br>Player Speed:0.291 MPH",
            "nflId:47855<br>displayName:Germaine Pratt<br>Player Speed:1.029 MPH",
            "nflId:52473<br>displayName:Logan Wilson<br>Player Speed:6.107 MPH"
           ],
           "marker": {
            "color": "#000000",
            "line": {
             "color": "#FB4F14",
             "width": 2
            },
            "size": 10
           },
           "mode": "markers",
           "name": "CIN",
           "type": "scatter",
           "x": [
            13.73,
            13.39,
            18.31,
            16.19,
            13.11,
            18.17,
            9.53,
            18.06,
            18.2,
            14.69,
            14.57
           ],
           "y": [
            19.54,
            28.01,
            30.9,
            35.41,
            38.93,
            24.5,
            28.49,
            27.63,
            33.96,
            28.46,
            30.67
           ]
          },
          {
           "hoverinfo": "text",
           "hovertext": [
            "nflId:44814<br>displayName:Mitchell Trubisky<br>Player Speed:0.0 MPH",
            "nflId:46108<br>displayName:James Daniels<br>Player Speed:0.0 MPH",
            "nflId:46161<br>displayName:Chukwuma Okorafor<br>Player Speed:0.0 MPH",
            "nflId:46166<br>displayName:Mason Cole<br>Player Speed:0.0 MPH",
            "nflId:47849<br>displayName:Diontae Johnson<br>Player Speed:0.089 MPH",
            "nflId:52457<br>displayName:Chase Claypool<br>Player Speed:0.022 MPH",
            "nflId:52543<br>displayName:Kevin Dotson<br>Player Speed:0.0 MPH",
            "nflId:53453<br>displayName:Najee Harris<br>Player Speed:0.022 MPH",
            "nflId:53484<br>displayName:Pat Freiermuth<br>Player Speed:0.358 MPH",
            "nflId:53557<br>displayName:Dan Moore<br>Player Speed:0.0 MPH",
            "nflId:54517<br>displayName:George Pickens<br>Player Speed:0.045 MPH"
           ],
           "marker": {
            "color": "#FFB612",
            "line": {
             "color": "#101820",
             "width": 2
            },
            "size": 10
           },
           "mode": "markers",
           "name": "PIT",
           "type": "scatter",
           "x": [
            24.01,
            20.2,
            20.26,
            19.21,
            19.7,
            20.92,
            20.01,
            23.99,
            21.51,
            20.18,
            20.03
           ],
           "y": [
            29.6,
            31.12,
            32.7,
            29.59,
            36.44,
            35.02,
            28.04,
            31.66,
            25.73,
            26.36,
            21.73
           ]
          },
          {
           "hoverinfo": "none",
           "marker": {
            "color": "#CBB67C",
            "line": {
             "color": "#663831",
             "width": 2
            },
            "size": 10
           },
           "mode": "markers",
           "name": "football",
           "type": "scatter",
           "x": [
            18.9500007629395
           ],
           "y": [
            29.5900001525879
           ]
          }
         ],
         "name": "98"
        },
        {
         "data": [
          {
           "hoverinfo": "none",
           "mode": "text",
           "showlegend": false,
           "text": [
            "10",
            "20",
            "30",
            "40",
            "50",
            "40",
            "30",
            "20",
            "10"
           ],
           "textfont": {
            "color": "#ffffff",
            "family": "Courier New, monospace",
            "size": 30
           },
           "type": "scatter",
           "x": [
            20,
            30,
            40,
            50,
            60,
            70,
            80,
            90,
            100
           ],
           "y": [
            5,
            5,
            5,
            5,
            5,
            5,
            5,
            5,
            5
           ]
          },
          {
           "hoverinfo": "none",
           "mode": "text",
           "showlegend": false,
           "text": [
            "10",
            "20",
            "30",
            "40",
            "50",
            "40",
            "30",
            "20",
            "10"
           ],
           "textfont": {
            "color": "#ffffff",
            "family": "Courier New, monospace",
            "size": 30
           },
           "type": "scatter",
           "x": [
            20,
            30,
            40,
            50,
            60,
            70,
            80,
            90,
            100
           ],
           "y": [
            48.5,
            48.5,
            48.5,
            48.5,
            48.5,
            48.5,
            48.5,
            48.5,
            48.5
           ]
          },
          {
           "hoverinfo": "none",
           "line": {
            "color": "blue",
            "dash": "dash"
           },
           "showlegend": false,
           "type": "scatter",
           "x": [
            19,
            19
           ],
           "y": [
            0,
            53.5
           ]
          },
          {
           "hoverinfo": "none",
           "line": {
            "color": "yellow",
            "dash": "dash"
           },
           "showlegend": false,
           "type": "scatter",
           "x": [
            10,
            10
           ],
           "y": [
            0,
            53.5
           ]
          },
          {
           "fill": "toself",
           "fillcolor": "#000000",
           "hoverinfo": "skip",
           "line": {
            "color": "white",
            "width": 3
           },
           "mode": "lines",
           "opacity": 1,
           "showlegend": false,
           "type": "scatter",
           "x": [
            0,
            0,
            10,
            10,
            0
           ],
           "y": [
            0,
            53.5,
            53.5,
            0,
            0
           ]
          },
          {
           "fill": "toself",
           "fillcolor": "#FFB612",
           "hoverinfo": "skip",
           "line": {
            "color": "white",
            "width": 3
           },
           "mode": "lines",
           "opacity": 1,
           "showlegend": false,
           "type": "scatter",
           "x": [
            110,
            110,
            120,
            120,
            110
           ],
           "y": [
            0,
            53.5,
            53.5,
            0,
            0
           ]
          },
          {
           "hoverinfo": "text",
           "hovertext": [
            "nflId:43299<br>displayName:Eli Apple<br>Player Speed:2.505 MPH",
            "nflId:43350<br>displayName:Vonn Bell<br>Player Speed:8.5 MPH",
            "nflId:43455<br>displayName:D.J. Reader<br>Player Speed:0.089 MPH",
            "nflId:43641<br>displayName:Mike Hilton<br>Player Speed:2.058 MPH",
            "nflId:44872<br>displayName:Chidobe Awuzie<br>Player Speed:1.186 MPH",
            "nflId:44915<br>displayName:Trey Hendrickson<br>Player Speed:0.045 MPH",
            "nflId:46123<br>displayName:Jessie Bates<br>Player Speed:3.49 MPH",
            "nflId:46138<br>displayName:B.J. Hill<br>Player Speed:0.358 MPH",
            "nflId:46146<br>displayName:Sam Hubbard<br>Player Speed:0.246 MPH",
            "nflId:47855<br>displayName:Germaine Pratt<br>Player Speed:0.716 MPH",
            "nflId:52473<br>displayName:Logan Wilson<br>Player Speed:5.57 MPH"
           ],
           "marker": {
            "color": "#000000",
            "line": {
             "color": "#FB4F14",
             "width": 2
            },
            "size": 10
           },
           "mode": "markers",
           "name": "CIN",
           "type": "scatter",
           "x": [
            13.74,
            13.53,
            18.31,
            16.18,
            13.06,
            18.18,
            9.44,
            18.06,
            18.2,
            14.68,
            14.63
           ],
           "y": [
            19.66,
            27.65,
            30.92,
            35.52,
            38.92,
            24.5,
            28.62,
            27.66,
            33.95,
            28.43,
            30.92
           ]
          },
          {
           "hoverinfo": "text",
           "hovertext": [
            "nflId:44814<br>displayName:Mitchell Trubisky<br>Player Speed:0.0 MPH",
            "nflId:46108<br>displayName:James Daniels<br>Player Speed:0.0 MPH",
            "nflId:46161<br>displayName:Chukwuma Okorafor<br>Player Speed:0.0 MPH",
            "nflId:46166<br>displayName:Mason Cole<br>Player Speed:0.0 MPH",
            "nflId:47849<br>displayName:Diontae Johnson<br>Player Speed:0.134 MPH",
            "nflId:52457<br>displayName:Chase Claypool<br>Player Speed:0.067 MPH",
            "nflId:52543<br>displayName:Kevin Dotson<br>Player Speed:0.0 MPH",
            "nflId:53453<br>displayName:Najee Harris<br>Player Speed:0.022 MPH",
            "nflId:53484<br>displayName:Pat Freiermuth<br>Player Speed:0.336 MPH",
            "nflId:53557<br>displayName:Dan Moore<br>Player Speed:0.0 MPH",
            "nflId:54517<br>displayName:George Pickens<br>Player Speed:0.179 MPH"
           ],
           "marker": {
            "color": "#FFB612",
            "line": {
             "color": "#101820",
             "width": 2
            },
            "size": 10
           },
           "mode": "markers",
           "name": "PIT",
           "type": "scatter",
           "x": [
            24.01,
            20.2,
            20.26,
            19.22,
            19.72,
            20.92,
            20.01,
            23.99,
            21.5,
            20.18,
            20.02
           ],
           "y": [
            29.6,
            31.12,
            32.7,
            29.59,
            36.45,
            35.01,
            28.04,
            31.66,
            25.74,
            26.36,
            21.72
           ]
          },
          {
           "hoverinfo": "none",
           "marker": {
            "color": "#CBB67C",
            "line": {
             "color": "#663831",
             "width": 2
            },
            "size": 10
           },
           "mode": "markers",
           "name": "football",
           "type": "scatter",
           "x": [
            18.9500007629395
           ],
           "y": [
            29.5900001525879
           ]
          }
         ],
         "name": "99"
        },
        {
         "data": [
          {
           "hoverinfo": "none",
           "mode": "text",
           "showlegend": false,
           "text": [
            "10",
            "20",
            "30",
            "40",
            "50",
            "40",
            "30",
            "20",
            "10"
           ],
           "textfont": {
            "color": "#ffffff",
            "family": "Courier New, monospace",
            "size": 30
           },
           "type": "scatter",
           "x": [
            20,
            30,
            40,
            50,
            60,
            70,
            80,
            90,
            100
           ],
           "y": [
            5,
            5,
            5,
            5,
            5,
            5,
            5,
            5,
            5
           ]
          },
          {
           "hoverinfo": "none",
           "mode": "text",
           "showlegend": false,
           "text": [
            "10",
            "20",
            "30",
            "40",
            "50",
            "40",
            "30",
            "20",
            "10"
           ],
           "textfont": {
            "color": "#ffffff",
            "family": "Courier New, monospace",
            "size": 30
           },
           "type": "scatter",
           "x": [
            20,
            30,
            40,
            50,
            60,
            70,
            80,
            90,
            100
           ],
           "y": [
            48.5,
            48.5,
            48.5,
            48.5,
            48.5,
            48.5,
            48.5,
            48.5,
            48.5
           ]
          },
          {
           "hoverinfo": "none",
           "line": {
            "color": "blue",
            "dash": "dash"
           },
           "showlegend": false,
           "type": "scatter",
           "x": [
            19,
            19
           ],
           "y": [
            0,
            53.5
           ]
          },
          {
           "hoverinfo": "none",
           "line": {
            "color": "yellow",
            "dash": "dash"
           },
           "showlegend": false,
           "type": "scatter",
           "x": [
            10,
            10
           ],
           "y": [
            0,
            53.5
           ]
          },
          {
           "fill": "toself",
           "fillcolor": "#000000",
           "hoverinfo": "skip",
           "line": {
            "color": "white",
            "width": 3
           },
           "mode": "lines",
           "opacity": 1,
           "showlegend": false,
           "type": "scatter",
           "x": [
            0,
            0,
            10,
            10,
            0
           ],
           "y": [
            0,
            53.5,
            53.5,
            0,
            0
           ]
          },
          {
           "fill": "toself",
           "fillcolor": "#FFB612",
           "hoverinfo": "skip",
           "line": {
            "color": "white",
            "width": 3
           },
           "mode": "lines",
           "opacity": 1,
           "showlegend": false,
           "type": "scatter",
           "x": [
            110,
            110,
            120,
            120,
            110
           ],
           "y": [
            0,
            53.5,
            53.5,
            0,
            0
           ]
          },
          {
           "hoverinfo": "text",
           "hovertext": [
            "nflId:43299<br>displayName:Eli Apple<br>Player Speed:2.371 MPH",
            "nflId:43350<br>displayName:Vonn Bell<br>Player Speed:8.008 MPH",
            "nflId:43455<br>displayName:D.J. Reader<br>Player Speed:0.089 MPH",
            "nflId:43641<br>displayName:Mike Hilton<br>Player Speed:1.566 MPH",
            "nflId:44872<br>displayName:Chidobe Awuzie<br>Player Speed:1.186 MPH",
            "nflId:44915<br>displayName:Trey Hendrickson<br>Player Speed:0.045 MPH",
            "nflId:46123<br>displayName:Jessie Bates<br>Player Speed:3.176 MPH",
            "nflId:46138<br>displayName:B.J. Hill<br>Player Speed:0.246 MPH",
            "nflId:46146<br>displayName:Sam Hubbard<br>Player Speed:0.179 MPH",
            "nflId:47855<br>displayName:Germaine Pratt<br>Player Speed:0.336 MPH",
            "nflId:52473<br>displayName:Logan Wilson<br>Player Speed:5.078 MPH"
           ],
           "marker": {
            "color": "#000000",
            "line": {
             "color": "#FB4F14",
             "width": 2
            },
            "size": 10
           },
           "mode": "markers",
           "name": "CIN",
           "type": "scatter",
           "x": [
            13.75,
            13.68,
            18.32,
            16.16,
            13.01,
            18.18,
            9.35,
            18.06,
            18.19,
            14.68,
            14.69
           ],
           "y": [
            19.77,
            27.31,
            30.93,
            35.6,
            38.92,
            24.51,
            28.74,
            27.66,
            33.96,
            28.41,
            31.15
           ]
          },
          {
           "hoverinfo": "text",
           "hovertext": [
            "nflId:44814<br>displayName:Mitchell Trubisky<br>Player Speed:0.0 MPH",
            "nflId:46108<br>displayName:James Daniels<br>Player Speed:0.0 MPH",
            "nflId:46161<br>displayName:Chukwuma Okorafor<br>Player Speed:0.0 MPH",
            "nflId:46166<br>displayName:Mason Cole<br>Player Speed:0.0 MPH",
            "nflId:47849<br>displayName:Diontae Johnson<br>Player Speed:0.157 MPH",
            "nflId:52457<br>displayName:Chase Claypool<br>Player Speed:0.134 MPH",
            "nflId:52543<br>displayName:Kevin Dotson<br>Player Speed:0.0 MPH",
            "nflId:53453<br>displayName:Najee Harris<br>Player Speed:0.0 MPH",
            "nflId:53484<br>displayName:Pat Freiermuth<br>Player Speed:0.313 MPH",
            "nflId:53557<br>displayName:Dan Moore<br>Player Speed:0.0 MPH",
            "nflId:54517<br>displayName:George Pickens<br>Player Speed:0.224 MPH"
           ],
           "marker": {
            "color": "#FFB612",
            "line": {
             "color": "#101820",
             "width": 2
            },
            "size": 10
           },
           "mode": "markers",
           "name": "PIT",
           "type": "scatter",
           "x": [
            24.01,
            20.2,
            20.26,
            19.22,
            19.74,
            20.92,
            20.01,
            23.99,
            21.49,
            20.18,
            20.01
           ],
           "y": [
            29.6,
            31.12,
            32.7,
            29.59,
            36.45,
            35.01,
            28.04,
            31.67,
            25.75,
            26.36,
            21.72
           ]
          },
          {
           "hoverinfo": "none",
           "marker": {
            "color": "#CBB67C",
            "line": {
             "color": "#663831",
             "width": 2
            },
            "size": 10
           },
           "mode": "markers",
           "name": "football",
           "type": "scatter",
           "x": [
            18.9500007629395
           ],
           "y": [
            29.5900001525879
           ]
          }
         ],
         "name": "100"
        },
        {
         "data": [
          {
           "hoverinfo": "none",
           "mode": "text",
           "showlegend": false,
           "text": [
            "10",
            "20",
            "30",
            "40",
            "50",
            "40",
            "30",
            "20",
            "10"
           ],
           "textfont": {
            "color": "#ffffff",
            "family": "Courier New, monospace",
            "size": 30
           },
           "type": "scatter",
           "x": [
            20,
            30,
            40,
            50,
            60,
            70,
            80,
            90,
            100
           ],
           "y": [
            5,
            5,
            5,
            5,
            5,
            5,
            5,
            5,
            5
           ]
          },
          {
           "hoverinfo": "none",
           "mode": "text",
           "showlegend": false,
           "text": [
            "10",
            "20",
            "30",
            "40",
            "50",
            "40",
            "30",
            "20",
            "10"
           ],
           "textfont": {
            "color": "#ffffff",
            "family": "Courier New, monospace",
            "size": 30
           },
           "type": "scatter",
           "x": [
            20,
            30,
            40,
            50,
            60,
            70,
            80,
            90,
            100
           ],
           "y": [
            48.5,
            48.5,
            48.5,
            48.5,
            48.5,
            48.5,
            48.5,
            48.5,
            48.5
           ]
          },
          {
           "hoverinfo": "none",
           "line": {
            "color": "blue",
            "dash": "dash"
           },
           "showlegend": false,
           "type": "scatter",
           "x": [
            19,
            19
           ],
           "y": [
            0,
            53.5
           ]
          },
          {
           "hoverinfo": "none",
           "line": {
            "color": "yellow",
            "dash": "dash"
           },
           "showlegend": false,
           "type": "scatter",
           "x": [
            10,
            10
           ],
           "y": [
            0,
            53.5
           ]
          },
          {
           "fill": "toself",
           "fillcolor": "#000000",
           "hoverinfo": "skip",
           "line": {
            "color": "white",
            "width": 3
           },
           "mode": "lines",
           "opacity": 1,
           "showlegend": false,
           "type": "scatter",
           "x": [
            0,
            0,
            10,
            10,
            0
           ],
           "y": [
            0,
            53.5,
            53.5,
            0,
            0
           ]
          },
          {
           "fill": "toself",
           "fillcolor": "#FFB612",
           "hoverinfo": "skip",
           "line": {
            "color": "white",
            "width": 3
           },
           "mode": "lines",
           "opacity": 1,
           "showlegend": false,
           "type": "scatter",
           "x": [
            110,
            110,
            120,
            120,
            110
           ],
           "y": [
            0,
            53.5,
            53.5,
            0,
            0
           ]
          },
          {
           "hoverinfo": "text",
           "hovertext": [
            "nflId:43299<br>displayName:Eli Apple<br>Player Speed:2.192 MPH",
            "nflId:43350<br>displayName:Vonn Bell<br>Player Speed:7.471 MPH",
            "nflId:43455<br>displayName:D.J. Reader<br>Player Speed:0.089 MPH",
            "nflId:43641<br>displayName:Mike Hilton<br>Player Speed:1.118 MPH",
            "nflId:44872<br>displayName:Chidobe Awuzie<br>Player Speed:1.141 MPH",
            "nflId:44915<br>displayName:Trey Hendrickson<br>Player Speed:0.045 MPH",
            "nflId:46123<br>displayName:Jessie Bates<br>Player Speed:2.684 MPH",
            "nflId:46138<br>displayName:B.J. Hill<br>Player Speed:0.157 MPH",
            "nflId:46146<br>displayName:Sam Hubbard<br>Player Speed:0.134 MPH",
            "nflId:47855<br>displayName:Germaine Pratt<br>Player Speed:0.268 MPH",
            "nflId:52473<br>displayName:Logan Wilson<br>Player Speed:4.541 MPH"
           ],
           "marker": {
            "color": "#000000",
            "line": {
             "color": "#FB4F14",
             "width": 2
            },
            "size": 10
           },
           "mode": "markers",
           "name": "CIN",
           "type": "scatter",
           "x": [
            13.76,
            13.82,
            18.32,
            16.13,
            12.96,
            18.18,
            9.28,
            18.06,
            18.2,
            14.67,
            14.74
           ],
           "y": [
            19.87,
            27,
            30.93,
            35.66,
            38.92,
            24.51,
            28.84,
            27.65,
            33.96,
            28.39,
            31.36
           ]
          },
          {
           "hoverinfo": "text",
           "hovertext": [
            "nflId:44814<br>displayName:Mitchell Trubisky<br>Player Speed:0.0 MPH",
            "nflId:46108<br>displayName:James Daniels<br>Player Speed:0.0 MPH",
            "nflId:46161<br>displayName:Chukwuma Okorafor<br>Player Speed:0.0 MPH",
            "nflId:46166<br>displayName:Mason Cole<br>Player Speed:0.0 MPH",
            "nflId:47849<br>displayName:Diontae Johnson<br>Player Speed:0.112 MPH",
            "nflId:52457<br>displayName:Chase Claypool<br>Player Speed:0.403 MPH",
            "nflId:52543<br>displayName:Kevin Dotson<br>Player Speed:0.0 MPH",
            "nflId:53453<br>displayName:Najee Harris<br>Player Speed:0.0 MPH",
            "nflId:53484<br>displayName:Pat Freiermuth<br>Player Speed:0.268 MPH",
            "nflId:53557<br>displayName:Dan Moore<br>Player Speed:0.0 MPH",
            "nflId:54517<br>displayName:George Pickens<br>Player Speed:0.291 MPH"
           ],
           "marker": {
            "color": "#FFB612",
            "line": {
             "color": "#101820",
             "width": 2
            },
            "size": 10
           },
           "mode": "markers",
           "name": "PIT",
           "type": "scatter",
           "x": [
            24.01,
            20.2,
            20.26,
            19.22,
            19.74,
            20.93,
            20.01,
            23.99,
            21.48,
            20.18,
            19.99
           ],
           "y": [
            29.6,
            31.12,
            32.7,
            29.59,
            36.45,
            34.99,
            28.04,
            31.67,
            25.75,
            26.36,
            21.71
           ]
          },
          {
           "hoverinfo": "none",
           "marker": {
            "color": "#CBB67C",
            "line": {
             "color": "#663831",
             "width": 2
            },
            "size": 10
           },
           "mode": "markers",
           "name": "football",
           "type": "scatter",
           "x": [
            18.9500007629395
           ],
           "y": [
            29.5900001525879
           ]
          }
         ],
         "name": "101"
        },
        {
         "data": [
          {
           "hoverinfo": "none",
           "mode": "text",
           "showlegend": false,
           "text": [
            "10",
            "20",
            "30",
            "40",
            "50",
            "40",
            "30",
            "20",
            "10"
           ],
           "textfont": {
            "color": "#ffffff",
            "family": "Courier New, monospace",
            "size": 30
           },
           "type": "scatter",
           "x": [
            20,
            30,
            40,
            50,
            60,
            70,
            80,
            90,
            100
           ],
           "y": [
            5,
            5,
            5,
            5,
            5,
            5,
            5,
            5,
            5
           ]
          },
          {
           "hoverinfo": "none",
           "mode": "text",
           "showlegend": false,
           "text": [
            "10",
            "20",
            "30",
            "40",
            "50",
            "40",
            "30",
            "20",
            "10"
           ],
           "textfont": {
            "color": "#ffffff",
            "family": "Courier New, monospace",
            "size": 30
           },
           "type": "scatter",
           "x": [
            20,
            30,
            40,
            50,
            60,
            70,
            80,
            90,
            100
           ],
           "y": [
            48.5,
            48.5,
            48.5,
            48.5,
            48.5,
            48.5,
            48.5,
            48.5,
            48.5
           ]
          },
          {
           "hoverinfo": "none",
           "line": {
            "color": "blue",
            "dash": "dash"
           },
           "showlegend": false,
           "type": "scatter",
           "x": [
            19,
            19
           ],
           "y": [
            0,
            53.5
           ]
          },
          {
           "hoverinfo": "none",
           "line": {
            "color": "yellow",
            "dash": "dash"
           },
           "showlegend": false,
           "type": "scatter",
           "x": [
            10,
            10
           ],
           "y": [
            0,
            53.5
           ]
          },
          {
           "fill": "toself",
           "fillcolor": "#000000",
           "hoverinfo": "skip",
           "line": {
            "color": "white",
            "width": 3
           },
           "mode": "lines",
           "opacity": 1,
           "showlegend": false,
           "type": "scatter",
           "x": [
            0,
            0,
            10,
            10,
            0
           ],
           "y": [
            0,
            53.5,
            53.5,
            0,
            0
           ]
          },
          {
           "fill": "toself",
           "fillcolor": "#FFB612",
           "hoverinfo": "skip",
           "line": {
            "color": "white",
            "width": 3
           },
           "mode": "lines",
           "opacity": 1,
           "showlegend": false,
           "type": "scatter",
           "x": [
            110,
            110,
            120,
            120,
            110
           ],
           "y": [
            0,
            53.5,
            53.5,
            0,
            0
           ]
          },
          {
           "hoverinfo": "text",
           "hovertext": [
            "nflId:43299<br>displayName:Eli Apple<br>Player Speed:2.036 MPH",
            "nflId:43350<br>displayName:Vonn Bell<br>Player Speed:6.89 MPH",
            "nflId:43455<br>displayName:D.J. Reader<br>Player Speed:0.089 MPH",
            "nflId:43641<br>displayName:Mike Hilton<br>Player Speed:0.738 MPH",
            "nflId:44872<br>displayName:Chidobe Awuzie<br>Player Speed:1.051 MPH",
            "nflId:44915<br>displayName:Trey Hendrickson<br>Player Speed:0.022 MPH",
            "nflId:46123<br>displayName:Jessie Bates<br>Player Speed:2.192 MPH",
            "nflId:46138<br>displayName:B.J. Hill<br>Player Speed:0.134 MPH",
            "nflId:46146<br>displayName:Sam Hubbard<br>Player Speed:0.089 MPH",
            "nflId:47855<br>displayName:Germaine Pratt<br>Player Speed:0.201 MPH",
            "nflId:52473<br>displayName:Logan Wilson<br>Player Speed:3.825 MPH"
           ],
           "marker": {
            "color": "#000000",
            "line": {
             "color": "#FB4F14",
             "width": 2
            },
            "size": 10
           },
           "mode": "markers",
           "name": "CIN",
           "type": "scatter",
           "x": [
            13.76,
            13.95,
            18.33,
            16.11,
            12.91,
            18.19,
            9.21,
            18.05,
            18.2,
            14.66,
            14.79
           ],
           "y": [
            19.97,
            26.71,
            30.95,
            35.69,
            38.93,
            24.51,
            28.92,
            27.65,
            33.96,
            28.38,
            31.53
           ]
          },
          {
           "hoverinfo": "text",
           "hovertext": [
            "nflId:44814<br>displayName:Mitchell Trubisky<br>Player Speed:0.0 MPH",
            "nflId:46108<br>displayName:James Daniels<br>Player Speed:0.0 MPH",
            "nflId:46161<br>displayName:Chukwuma Okorafor<br>Player Speed:0.0 MPH",
            "nflId:46166<br>displayName:Mason Cole<br>Player Speed:0.0 MPH",
            "nflId:47849<br>displayName:Diontae Johnson<br>Player Speed:0.089 MPH",
            "nflId:52457<br>displayName:Chase Claypool<br>Player Speed:1.118 MPH",
            "nflId:52543<br>displayName:Kevin Dotson<br>Player Speed:0.0 MPH",
            "nflId:53453<br>displayName:Najee Harris<br>Player Speed:0.0 MPH",
            "nflId:53484<br>displayName:Pat Freiermuth<br>Player Speed:0.246 MPH",
            "nflId:53557<br>displayName:Dan Moore<br>Player Speed:0.0 MPH",
            "nflId:54517<br>displayName:George Pickens<br>Player Speed:0.246 MPH"
           ],
           "marker": {
            "color": "#FFB612",
            "line": {
             "color": "#101820",
             "width": 2
            },
            "size": 10
           },
           "mode": "markers",
           "name": "PIT",
           "type": "scatter",
           "x": [
            24.01,
            20.2,
            20.26,
            19.22,
            19.73,
            20.95,
            20.01,
            23.99,
            21.48,
            20.17,
            19.99
           ],
           "y": [
            29.59,
            31.12,
            32.7,
            29.59,
            36.45,
            34.96,
            28.04,
            31.67,
            25.76,
            26.36,
            21.71
           ]
          },
          {
           "hoverinfo": "none",
           "marker": {
            "color": "#CBB67C",
            "line": {
             "color": "#663831",
             "width": 2
            },
            "size": 10
           },
           "mode": "markers",
           "name": "football",
           "type": "scatter",
           "x": [
            18.9500007629395
           ],
           "y": [
            29.5900001525879
           ]
          }
         ],
         "name": "102"
        },
        {
         "data": [
          {
           "hoverinfo": "none",
           "mode": "text",
           "showlegend": false,
           "text": [
            "10",
            "20",
            "30",
            "40",
            "50",
            "40",
            "30",
            "20",
            "10"
           ],
           "textfont": {
            "color": "#ffffff",
            "family": "Courier New, monospace",
            "size": 30
           },
           "type": "scatter",
           "x": [
            20,
            30,
            40,
            50,
            60,
            70,
            80,
            90,
            100
           ],
           "y": [
            5,
            5,
            5,
            5,
            5,
            5,
            5,
            5,
            5
           ]
          },
          {
           "hoverinfo": "none",
           "mode": "text",
           "showlegend": false,
           "text": [
            "10",
            "20",
            "30",
            "40",
            "50",
            "40",
            "30",
            "20",
            "10"
           ],
           "textfont": {
            "color": "#ffffff",
            "family": "Courier New, monospace",
            "size": 30
           },
           "type": "scatter",
           "x": [
            20,
            30,
            40,
            50,
            60,
            70,
            80,
            90,
            100
           ],
           "y": [
            48.5,
            48.5,
            48.5,
            48.5,
            48.5,
            48.5,
            48.5,
            48.5,
            48.5
           ]
          },
          {
           "hoverinfo": "none",
           "line": {
            "color": "blue",
            "dash": "dash"
           },
           "showlegend": false,
           "type": "scatter",
           "x": [
            19,
            19
           ],
           "y": [
            0,
            53.5
           ]
          },
          {
           "hoverinfo": "none",
           "line": {
            "color": "yellow",
            "dash": "dash"
           },
           "showlegend": false,
           "type": "scatter",
           "x": [
            10,
            10
           ],
           "y": [
            0,
            53.5
           ]
          },
          {
           "fill": "toself",
           "fillcolor": "#000000",
           "hoverinfo": "skip",
           "line": {
            "color": "white",
            "width": 3
           },
           "mode": "lines",
           "opacity": 1,
           "showlegend": false,
           "type": "scatter",
           "x": [
            0,
            0,
            10,
            10,
            0
           ],
           "y": [
            0,
            53.5,
            53.5,
            0,
            0
           ]
          },
          {
           "fill": "toself",
           "fillcolor": "#FFB612",
           "hoverinfo": "skip",
           "line": {
            "color": "white",
            "width": 3
           },
           "mode": "lines",
           "opacity": 1,
           "showlegend": false,
           "type": "scatter",
           "x": [
            110,
            110,
            120,
            120,
            110
           ],
           "y": [
            0,
            53.5,
            53.5,
            0,
            0
           ]
          },
          {
           "hoverinfo": "text",
           "hovertext": [
            "nflId:43299<br>displayName:Eli Apple<br>Player Speed:1.588 MPH",
            "nflId:43350<br>displayName:Vonn Bell<br>Player Speed:6.308 MPH",
            "nflId:43455<br>displayName:D.J. Reader<br>Player Speed:0.067 MPH",
            "nflId:43641<br>displayName:Mike Hilton<br>Player Speed:0.693 MPH",
            "nflId:44872<br>displayName:Chidobe Awuzie<br>Player Speed:0.962 MPH",
            "nflId:44915<br>displayName:Trey Hendrickson<br>Player Speed:0.022 MPH",
            "nflId:46123<br>displayName:Jessie Bates<br>Player Speed:1.7 MPH",
            "nflId:46138<br>displayName:B.J. Hill<br>Player Speed:0.179 MPH",
            "nflId:46146<br>displayName:Sam Hubbard<br>Player Speed:0.089 MPH",
            "nflId:47855<br>displayName:Germaine Pratt<br>Player Speed:0.179 MPH",
            "nflId:52473<br>displayName:Logan Wilson<br>Player Speed:3.042 MPH"
           ],
           "marker": {
            "color": "#000000",
            "line": {
             "color": "#FB4F14",
             "width": 2
            },
            "size": 10
           },
           "mode": "markers",
           "name": "CIN",
           "type": "scatter",
           "x": [
            13.76,
            14.08,
            18.33,
            16.08,
            12.87,
            18.19,
            9.14,
            18.04,
            18.2,
            14.65,
            14.84
           ],
           "y": [
            20.04,
            26.45,
            30.95,
            35.71,
            38.95,
            24.51,
            28.98,
            27.66,
            33.96,
            28.38,
            31.68
           ]
          },
          {
           "hoverinfo": "text",
           "hovertext": [
            "nflId:44814<br>displayName:Mitchell Trubisky<br>Player Speed:0.0 MPH",
            "nflId:46108<br>displayName:James Daniels<br>Player Speed:0.0 MPH",
            "nflId:46161<br>displayName:Chukwuma Okorafor<br>Player Speed:0.0 MPH",
            "nflId:46166<br>displayName:Mason Cole<br>Player Speed:0.0 MPH",
            "nflId:47849<br>displayName:Diontae Johnson<br>Player Speed:0.089 MPH",
            "nflId:52457<br>displayName:Chase Claypool<br>Player Speed:1.7 MPH",
            "nflId:52543<br>displayName:Kevin Dotson<br>Player Speed:0.0 MPH",
            "nflId:53453<br>displayName:Najee Harris<br>Player Speed:0.0 MPH",
            "nflId:53484<br>displayName:Pat Freiermuth<br>Player Speed:0.224 MPH",
            "nflId:53557<br>displayName:Dan Moore<br>Player Speed:0.0 MPH",
            "nflId:54517<br>displayName:George Pickens<br>Player Speed:0.224 MPH"
           ],
           "marker": {
            "color": "#FFB612",
            "line": {
             "color": "#101820",
             "width": 2
            },
            "size": 10
           },
           "mode": "markers",
           "name": "PIT",
           "type": "scatter",
           "x": [
            24.01,
            20.2,
            20.26,
            19.22,
            19.73,
            20.97,
            20.01,
            23.99,
            21.47,
            20.18,
            19.98
           ],
           "y": [
            29.59,
            31.12,
            32.7,
            29.59,
            36.46,
            34.9,
            28.04,
            31.67,
            25.77,
            26.36,
            21.72
           ]
          },
          {
           "hoverinfo": "none",
           "marker": {
            "color": "#CBB67C",
            "line": {
             "color": "#663831",
             "width": 2
            },
            "size": 10
           },
           "mode": "markers",
           "name": "football",
           "type": "scatter",
           "x": [
            18.9500007629395
           ],
           "y": [
            29.5900001525879
           ]
          }
         ],
         "name": "103"
        },
        {
         "data": [
          {
           "hoverinfo": "none",
           "mode": "text",
           "showlegend": false,
           "text": [
            "10",
            "20",
            "30",
            "40",
            "50",
            "40",
            "30",
            "20",
            "10"
           ],
           "textfont": {
            "color": "#ffffff",
            "family": "Courier New, monospace",
            "size": 30
           },
           "type": "scatter",
           "x": [
            20,
            30,
            40,
            50,
            60,
            70,
            80,
            90,
            100
           ],
           "y": [
            5,
            5,
            5,
            5,
            5,
            5,
            5,
            5,
            5
           ]
          },
          {
           "hoverinfo": "none",
           "mode": "text",
           "showlegend": false,
           "text": [
            "10",
            "20",
            "30",
            "40",
            "50",
            "40",
            "30",
            "20",
            "10"
           ],
           "textfont": {
            "color": "#ffffff",
            "family": "Courier New, monospace",
            "size": 30
           },
           "type": "scatter",
           "x": [
            20,
            30,
            40,
            50,
            60,
            70,
            80,
            90,
            100
           ],
           "y": [
            48.5,
            48.5,
            48.5,
            48.5,
            48.5,
            48.5,
            48.5,
            48.5,
            48.5
           ]
          },
          {
           "hoverinfo": "none",
           "line": {
            "color": "blue",
            "dash": "dash"
           },
           "showlegend": false,
           "type": "scatter",
           "x": [
            19,
            19
           ],
           "y": [
            0,
            53.5
           ]
          },
          {
           "hoverinfo": "none",
           "line": {
            "color": "yellow",
            "dash": "dash"
           },
           "showlegend": false,
           "type": "scatter",
           "x": [
            10,
            10
           ],
           "y": [
            0,
            53.5
           ]
          },
          {
           "fill": "toself",
           "fillcolor": "#000000",
           "hoverinfo": "skip",
           "line": {
            "color": "white",
            "width": 3
           },
           "mode": "lines",
           "opacity": 1,
           "showlegend": false,
           "type": "scatter",
           "x": [
            0,
            0,
            10,
            10,
            0
           ],
           "y": [
            0,
            53.5,
            53.5,
            0,
            0
           ]
          },
          {
           "fill": "toself",
           "fillcolor": "#FFB612",
           "hoverinfo": "skip",
           "line": {
            "color": "white",
            "width": 3
           },
           "mode": "lines",
           "opacity": 1,
           "showlegend": false,
           "type": "scatter",
           "x": [
            110,
            110,
            120,
            120,
            110
           ],
           "y": [
            0,
            53.5,
            53.5,
            0,
            0
           ]
          },
          {
           "hoverinfo": "text",
           "hovertext": [
            "nflId:43299<br>displayName:Eli Apple<br>Player Speed:1.253 MPH",
            "nflId:43350<br>displayName:Vonn Bell<br>Player Speed:5.794 MPH",
            "nflId:43455<br>displayName:D.J. Reader<br>Player Speed:0.067 MPH",
            "nflId:43641<br>displayName:Mike Hilton<br>Player Speed:0.783 MPH",
            "nflId:44872<br>displayName:Chidobe Awuzie<br>Player Speed:0.94 MPH",
            "nflId:44915<br>displayName:Trey Hendrickson<br>Player Speed:0.022 MPH",
            "nflId:46123<br>displayName:Jessie Bates<br>Player Speed:1.476 MPH",
            "nflId:46138<br>displayName:B.J. Hill<br>Player Speed:0.157 MPH",
            "nflId:46146<br>displayName:Sam Hubbard<br>Player Speed:0.067 MPH",
            "nflId:47855<br>displayName:Germaine Pratt<br>Player Speed:0.224 MPH",
            "nflId:52473<br>displayName:Logan Wilson<br>Player Speed:2.371 MPH"
           ],
           "marker": {
            "color": "#000000",
            "line": {
             "color": "#FB4F14",
             "width": 2
            },
            "size": 10
           },
           "mode": "markers",
           "name": "CIN",
           "type": "scatter",
           "x": [
            13.76,
            14.21,
            18.33,
            16.05,
            12.84,
            18.2,
            9.09,
            18.03,
            18.2,
            14.65,
            14.87
           ],
           "y": [
            20.11,
            26.21,
            30.95,
            35.7,
            38.97,
            24.51,
            29.03,
            27.65,
            33.95,
            28.39,
            31.79
           ]
          },
          {
           "hoverinfo": "text",
           "hovertext": [
            "nflId:44814<br>displayName:Mitchell Trubisky<br>Player Speed:0.0 MPH",
            "nflId:46108<br>displayName:James Daniels<br>Player Speed:0.0 MPH",
            "nflId:46161<br>displayName:Chukwuma Okorafor<br>Player Speed:0.0 MPH",
            "nflId:46166<br>displayName:Mason Cole<br>Player Speed:0.0 MPH",
            "nflId:47849<br>displayName:Diontae Johnson<br>Player Speed:0.067 MPH",
            "nflId:52457<br>displayName:Chase Claypool<br>Player Speed:2.572 MPH",
            "nflId:52543<br>displayName:Kevin Dotson<br>Player Speed:0.0 MPH",
            "nflId:53453<br>displayName:Najee Harris<br>Player Speed:0.0 MPH",
            "nflId:53484<br>displayName:Pat Freiermuth<br>Player Speed:0.201 MPH",
            "nflId:53557<br>displayName:Dan Moore<br>Player Speed:0.0 MPH",
            "nflId:54517<br>displayName:George Pickens<br>Player Speed:0.134 MPH"
           ],
           "marker": {
            "color": "#FFB612",
            "line": {
             "color": "#101820",
             "width": 2
            },
            "size": 10
           },
           "mode": "markers",
           "name": "PIT",
           "type": "scatter",
           "x": [
            24.01,
            20.2,
            20.26,
            19.22,
            19.73,
            21.01,
            20.01,
            23.99,
            21.47,
            20.18,
            19.99
           ],
           "y": [
            29.59,
            31.12,
            32.7,
            29.59,
            36.46,
            34.81,
            28.04,
            31.67,
            25.78,
            26.36,
            21.72
           ]
          },
          {
           "hoverinfo": "none",
           "marker": {
            "color": "#CBB67C",
            "line": {
             "color": "#663831",
             "width": 2
            },
            "size": 10
           },
           "mode": "markers",
           "name": "football",
           "type": "scatter",
           "x": [
            18.9500007629395
           ],
           "y": [
            29.5900001525879
           ]
          }
         ],
         "name": "104"
        },
        {
         "data": [
          {
           "hoverinfo": "none",
           "mode": "text",
           "showlegend": false,
           "text": [
            "10",
            "20",
            "30",
            "40",
            "50",
            "40",
            "30",
            "20",
            "10"
           ],
           "textfont": {
            "color": "#ffffff",
            "family": "Courier New, monospace",
            "size": 30
           },
           "type": "scatter",
           "x": [
            20,
            30,
            40,
            50,
            60,
            70,
            80,
            90,
            100
           ],
           "y": [
            5,
            5,
            5,
            5,
            5,
            5,
            5,
            5,
            5
           ]
          },
          {
           "hoverinfo": "none",
           "mode": "text",
           "showlegend": false,
           "text": [
            "10",
            "20",
            "30",
            "40",
            "50",
            "40",
            "30",
            "20",
            "10"
           ],
           "textfont": {
            "color": "#ffffff",
            "family": "Courier New, monospace",
            "size": 30
           },
           "type": "scatter",
           "x": [
            20,
            30,
            40,
            50,
            60,
            70,
            80,
            90,
            100
           ],
           "y": [
            48.5,
            48.5,
            48.5,
            48.5,
            48.5,
            48.5,
            48.5,
            48.5,
            48.5
           ]
          },
          {
           "hoverinfo": "none",
           "line": {
            "color": "blue",
            "dash": "dash"
           },
           "showlegend": false,
           "type": "scatter",
           "x": [
            19,
            19
           ],
           "y": [
            0,
            53.5
           ]
          },
          {
           "hoverinfo": "none",
           "line": {
            "color": "yellow",
            "dash": "dash"
           },
           "showlegend": false,
           "type": "scatter",
           "x": [
            10,
            10
           ],
           "y": [
            0,
            53.5
           ]
          },
          {
           "fill": "toself",
           "fillcolor": "#000000",
           "hoverinfo": "skip",
           "line": {
            "color": "white",
            "width": 3
           },
           "mode": "lines",
           "opacity": 1,
           "showlegend": false,
           "type": "scatter",
           "x": [
            0,
            0,
            10,
            10,
            0
           ],
           "y": [
            0,
            53.5,
            53.5,
            0,
            0
           ]
          },
          {
           "fill": "toself",
           "fillcolor": "#FFB612",
           "hoverinfo": "skip",
           "line": {
            "color": "white",
            "width": 3
           },
           "mode": "lines",
           "opacity": 1,
           "showlegend": false,
           "type": "scatter",
           "x": [
            110,
            110,
            120,
            120,
            110
           ],
           "y": [
            0,
            53.5,
            53.5,
            0,
            0
           ]
          },
          {
           "hoverinfo": "text",
           "hovertext": [
            "nflId:43299<br>displayName:Eli Apple<br>Player Speed:0.917 MPH",
            "nflId:43350<br>displayName:Vonn Bell<br>Player Speed:5.302 MPH",
            "nflId:43455<br>displayName:D.J. Reader<br>Player Speed:0.045 MPH",
            "nflId:43641<br>displayName:Mike Hilton<br>Player Speed:0.984 MPH",
            "nflId:44872<br>displayName:Chidobe Awuzie<br>Player Speed:0.962 MPH",
            "nflId:44915<br>displayName:Trey Hendrickson<br>Player Speed:0.022 MPH",
            "nflId:46123<br>displayName:Jessie Bates<br>Player Speed:1.051 MPH",
            "nflId:46138<br>displayName:B.J. Hill<br>Player Speed:0.134 MPH",
            "nflId:46146<br>displayName:Sam Hubbard<br>Player Speed:0.067 MPH",
            "nflId:47855<br>displayName:Germaine Pratt<br>Player Speed:0.425 MPH",
            "nflId:52473<br>displayName:Logan Wilson<br>Player Speed:1.812 MPH"
           ],
           "marker": {
            "color": "#000000",
            "line": {
             "color": "#FB4F14",
             "width": 2
            },
            "size": 10
           },
           "mode": "markers",
           "name": "CIN",
           "type": "scatter",
           "x": [
            13.75,
            14.33,
            18.33,
            16.02,
            12.8,
            18.2,
            9.06,
            18.03,
            18.2,
            14.63,
            14.91
           ],
           "y": [
            20.15,
            26,
            30.95,
            35.67,
            39,
            24.51,
            29.07,
            27.65,
            33.95,
            28.38,
            31.88
           ]
          },
          {
           "hoverinfo": "text",
           "hovertext": [
            "nflId:44814<br>displayName:Mitchell Trubisky<br>Player Speed:0.0 MPH",
            "nflId:46108<br>displayName:James Daniels<br>Player Speed:0.0 MPH",
            "nflId:46161<br>displayName:Chukwuma Okorafor<br>Player Speed:0.0 MPH",
            "nflId:46166<br>displayName:Mason Cole<br>Player Speed:0.0 MPH",
            "nflId:47849<br>displayName:Diontae Johnson<br>Player Speed:0.067 MPH",
            "nflId:52457<br>displayName:Chase Claypool<br>Player Speed:3.467 MPH",
            "nflId:52543<br>displayName:Kevin Dotson<br>Player Speed:0.0 MPH",
            "nflId:53453<br>displayName:Najee Harris<br>Player Speed:0.0 MPH",
            "nflId:53484<br>displayName:Pat Freiermuth<br>Player Speed:0.201 MPH",
            "nflId:53557<br>displayName:Dan Moore<br>Player Speed:0.0 MPH",
            "nflId:54517<br>displayName:George Pickens<br>Player Speed:0.089 MPH"
           ],
           "marker": {
            "color": "#FFB612",
            "line": {
             "color": "#101820",
             "width": 2
            },
            "size": 10
           },
           "mode": "markers",
           "name": "PIT",
           "type": "scatter",
           "x": [
            24.01,
            20.2,
            20.26,
            19.22,
            19.73,
            21.07,
            20.01,
            23.99,
            21.47,
            20.18,
            20
           ],
           "y": [
            29.59,
            31.12,
            32.7,
            29.59,
            36.46,
            34.68,
            28.04,
            31.67,
            25.8,
            26.36,
            21.74
           ]
          },
          {
           "hoverinfo": "none",
           "marker": {
            "color": "#CBB67C",
            "line": {
             "color": "#663831",
             "width": 2
            },
            "size": 10
           },
           "mode": "markers",
           "name": "football",
           "type": "scatter",
           "x": [
            18.9599990844727
           ],
           "y": [
            29.5900001525879
           ]
          }
         ],
         "name": "105"
        },
        {
         "data": [
          {
           "hoverinfo": "none",
           "mode": "text",
           "showlegend": false,
           "text": [
            "10",
            "20",
            "30",
            "40",
            "50",
            "40",
            "30",
            "20",
            "10"
           ],
           "textfont": {
            "color": "#ffffff",
            "family": "Courier New, monospace",
            "size": 30
           },
           "type": "scatter",
           "x": [
            20,
            30,
            40,
            50,
            60,
            70,
            80,
            90,
            100
           ],
           "y": [
            5,
            5,
            5,
            5,
            5,
            5,
            5,
            5,
            5
           ]
          },
          {
           "hoverinfo": "none",
           "mode": "text",
           "showlegend": false,
           "text": [
            "10",
            "20",
            "30",
            "40",
            "50",
            "40",
            "30",
            "20",
            "10"
           ],
           "textfont": {
            "color": "#ffffff",
            "family": "Courier New, monospace",
            "size": 30
           },
           "type": "scatter",
           "x": [
            20,
            30,
            40,
            50,
            60,
            70,
            80,
            90,
            100
           ],
           "y": [
            48.5,
            48.5,
            48.5,
            48.5,
            48.5,
            48.5,
            48.5,
            48.5,
            48.5
           ]
          },
          {
           "hoverinfo": "none",
           "line": {
            "color": "blue",
            "dash": "dash"
           },
           "showlegend": false,
           "type": "scatter",
           "x": [
            19,
            19
           ],
           "y": [
            0,
            53.5
           ]
          },
          {
           "hoverinfo": "none",
           "line": {
            "color": "yellow",
            "dash": "dash"
           },
           "showlegend": false,
           "type": "scatter",
           "x": [
            10,
            10
           ],
           "y": [
            0,
            53.5
           ]
          },
          {
           "fill": "toself",
           "fillcolor": "#000000",
           "hoverinfo": "skip",
           "line": {
            "color": "white",
            "width": 3
           },
           "mode": "lines",
           "opacity": 1,
           "showlegend": false,
           "type": "scatter",
           "x": [
            0,
            0,
            10,
            10,
            0
           ],
           "y": [
            0,
            53.5,
            53.5,
            0,
            0
           ]
          },
          {
           "fill": "toself",
           "fillcolor": "#FFB612",
           "hoverinfo": "skip",
           "line": {
            "color": "white",
            "width": 3
           },
           "mode": "lines",
           "opacity": 1,
           "showlegend": false,
           "type": "scatter",
           "x": [
            110,
            110,
            120,
            120,
            110
           ],
           "y": [
            0,
            53.5,
            53.5,
            0,
            0
           ]
          },
          {
           "hoverinfo": "text",
           "hovertext": [
            "nflId:43299<br>displayName:Eli Apple<br>Player Speed:0.313 MPH",
            "nflId:43350<br>displayName:Vonn Bell<br>Player Speed:4.944 MPH",
            "nflId:43455<br>displayName:D.J. Reader<br>Player Speed:0.045 MPH",
            "nflId:43641<br>displayName:Mike Hilton<br>Player Speed:1.297 MPH",
            "nflId:44872<br>displayName:Chidobe Awuzie<br>Player Speed:0.962 MPH",
            "nflId:44915<br>displayName:Trey Hendrickson<br>Player Speed:0.022 MPH",
            "nflId:46123<br>displayName:Jessie Bates<br>Player Speed:0.537 MPH",
            "nflId:46138<br>displayName:B.J. Hill<br>Player Speed:0.134 MPH",
            "nflId:46146<br>displayName:Sam Hubbard<br>Player Speed:0.045 MPH",
            "nflId:47855<br>displayName:Germaine Pratt<br>Player Speed:0.604 MPH",
            "nflId:52473<br>displayName:Logan Wilson<br>Player Speed:0.895 MPH"
           ],
           "marker": {
            "color": "#000000",
            "line": {
             "color": "#FB4F14",
             "width": 2
            },
            "size": 10
           },
           "mode": "markers",
           "name": "CIN",
           "type": "scatter",
           "x": [
            13.74,
            14.45,
            18.32,
            16,
            12.76,
            18.2,
            9.03,
            18.03,
            18.21,
            14.61,
            14.94
           ],
           "y": [
            20.17,
            25.8,
            30.95,
            35.63,
            39.02,
            24.51,
            29.09,
            27.63,
            33.95,
            28.36,
            31.92
           ]
          },
          {
           "hoverinfo": "text",
           "hovertext": [
            "nflId:44814<br>displayName:Mitchell Trubisky<br>Player Speed:0.0 MPH",
            "nflId:46108<br>displayName:James Daniels<br>Player Speed:0.0 MPH",
            "nflId:46161<br>displayName:Chukwuma Okorafor<br>Player Speed:0.0 MPH",
            "nflId:46166<br>displayName:Mason Cole<br>Player Speed:0.0 MPH",
            "nflId:47849<br>displayName:Diontae Johnson<br>Player Speed:0.067 MPH",
            "nflId:52457<br>displayName:Chase Claypool<br>Player Speed:4.586 MPH",
            "nflId:52543<br>displayName:Kevin Dotson<br>Player Speed:0.0 MPH",
            "nflId:53453<br>displayName:Najee Harris<br>Player Speed:0.0 MPH",
            "nflId:53484<br>displayName:Pat Freiermuth<br>Player Speed:0.179 MPH",
            "nflId:53557<br>displayName:Dan Moore<br>Player Speed:0.0 MPH",
            "nflId:54517<br>displayName:George Pickens<br>Player Speed:0.067 MPH"
           ],
           "marker": {
            "color": "#FFB612",
            "line": {
             "color": "#101820",
             "width": 2
            },
            "size": 10
           },
           "mode": "markers",
           "name": "PIT",
           "type": "scatter",
           "x": [
            24.01,
            20.2,
            20.26,
            19.22,
            19.74,
            21.14,
            20.01,
            23.99,
            21.47,
            20.18,
            20
           ],
           "y": [
            29.59,
            31.12,
            32.71,
            29.59,
            36.46,
            34.5,
            28.04,
            31.67,
            25.8,
            26.36,
            21.74
           ]
          },
          {
           "hoverinfo": "none",
           "marker": {
            "color": "#CBB67C",
            "line": {
             "color": "#663831",
             "width": 2
            },
            "size": 10
           },
           "mode": "markers",
           "name": "football",
           "type": "scatter",
           "x": [
            18.9599990844727
           ],
           "y": [
            29.5900001525879
           ]
          }
         ],
         "name": "106"
        },
        {
         "data": [
          {
           "hoverinfo": "none",
           "mode": "text",
           "showlegend": false,
           "text": [
            "10",
            "20",
            "30",
            "40",
            "50",
            "40",
            "30",
            "20",
            "10"
           ],
           "textfont": {
            "color": "#ffffff",
            "family": "Courier New, monospace",
            "size": 30
           },
           "type": "scatter",
           "x": [
            20,
            30,
            40,
            50,
            60,
            70,
            80,
            90,
            100
           ],
           "y": [
            5,
            5,
            5,
            5,
            5,
            5,
            5,
            5,
            5
           ]
          },
          {
           "hoverinfo": "none",
           "mode": "text",
           "showlegend": false,
           "text": [
            "10",
            "20",
            "30",
            "40",
            "50",
            "40",
            "30",
            "20",
            "10"
           ],
           "textfont": {
            "color": "#ffffff",
            "family": "Courier New, monospace",
            "size": 30
           },
           "type": "scatter",
           "x": [
            20,
            30,
            40,
            50,
            60,
            70,
            80,
            90,
            100
           ],
           "y": [
            48.5,
            48.5,
            48.5,
            48.5,
            48.5,
            48.5,
            48.5,
            48.5,
            48.5
           ]
          },
          {
           "hoverinfo": "none",
           "line": {
            "color": "blue",
            "dash": "dash"
           },
           "showlegend": false,
           "type": "scatter",
           "x": [
            19,
            19
           ],
           "y": [
            0,
            53.5
           ]
          },
          {
           "hoverinfo": "none",
           "line": {
            "color": "yellow",
            "dash": "dash"
           },
           "showlegend": false,
           "type": "scatter",
           "x": [
            10,
            10
           ],
           "y": [
            0,
            53.5
           ]
          },
          {
           "fill": "toself",
           "fillcolor": "#000000",
           "hoverinfo": "skip",
           "line": {
            "color": "white",
            "width": 3
           },
           "mode": "lines",
           "opacity": 1,
           "showlegend": false,
           "type": "scatter",
           "x": [
            0,
            0,
            10,
            10,
            0
           ],
           "y": [
            0,
            53.5,
            53.5,
            0,
            0
           ]
          },
          {
           "fill": "toself",
           "fillcolor": "#FFB612",
           "hoverinfo": "skip",
           "line": {
            "color": "white",
            "width": 3
           },
           "mode": "lines",
           "opacity": 1,
           "showlegend": false,
           "type": "scatter",
           "x": [
            110,
            110,
            120,
            120,
            110
           ],
           "y": [
            0,
            53.5,
            53.5,
            0,
            0
           ]
          },
          {
           "hoverinfo": "text",
           "hovertext": [
            "nflId:43299<br>displayName:Eli Apple<br>Player Speed:0.268 MPH",
            "nflId:43350<br>displayName:Vonn Bell<br>Player Speed:4.854 MPH",
            "nflId:43455<br>displayName:D.J. Reader<br>Player Speed:0.045 MPH",
            "nflId:43641<br>displayName:Mike Hilton<br>Player Speed:1.611 MPH",
            "nflId:44872<br>displayName:Chidobe Awuzie<br>Player Speed:1.007 MPH",
            "nflId:44915<br>displayName:Trey Hendrickson<br>Player Speed:0.022 MPH",
            "nflId:46123<br>displayName:Jessie Bates<br>Player Speed:0.157 MPH",
            "nflId:46138<br>displayName:B.J. Hill<br>Player Speed:0.112 MPH",
            "nflId:46146<br>displayName:Sam Hubbard<br>Player Speed:0.022 MPH",
            "nflId:47855<br>displayName:Germaine Pratt<br>Player Speed:0.895 MPH",
            "nflId:52473<br>displayName:Logan Wilson<br>Player Speed:0.604 MPH"
           ],
           "marker": {
            "color": "#000000",
            "line": {
             "color": "#FB4F14",
             "width": 2
            },
            "size": 10
           },
           "mode": "markers",
           "name": "CIN",
           "type": "scatter",
           "x": [
            13.74,
            14.57,
            18.32,
            15.97,
            12.72,
            18.2,
            9.02,
            18.03,
            18.22,
            14.6,
            14.96
           ],
           "y": [
            20.17,
            25.62,
            30.95,
            35.57,
            39.03,
            24.51,
            29.09,
            27.64,
            33.97,
            28.32,
            31.91
           ]
          },
          {
           "hoverinfo": "text",
           "hovertext": [
            "nflId:44814<br>displayName:Mitchell Trubisky<br>Player Speed:0.067 MPH",
            "nflId:46108<br>displayName:James Daniels<br>Player Speed:0.0 MPH",
            "nflId:46161<br>displayName:Chukwuma Okorafor<br>Player Speed:0.0 MPH",
            "nflId:46166<br>displayName:Mason Cole<br>Player Speed:0.0 MPH",
            "nflId:47849<br>displayName:Diontae Johnson<br>Player Speed:0.067 MPH",
            "nflId:52457<br>displayName:Chase Claypool<br>Player Speed:5.324 MPH",
            "nflId:52543<br>displayName:Kevin Dotson<br>Player Speed:0.0 MPH",
            "nflId:53453<br>displayName:Najee Harris<br>Player Speed:0.0 MPH",
            "nflId:53484<br>displayName:Pat Freiermuth<br>Player Speed:0.157 MPH",
            "nflId:53557<br>displayName:Dan Moore<br>Player Speed:0.0 MPH",
            "nflId:54517<br>displayName:George Pickens<br>Player Speed:0.067 MPH"
           ],
           "marker": {
            "color": "#FFB612",
            "line": {
             "color": "#101820",
             "width": 2
            },
            "size": 10
           },
           "mode": "markers",
           "name": "PIT",
           "type": "scatter",
           "x": [
            24.01,
            20.2,
            20.26,
            19.23,
            19.74,
            21.21,
            20.01,
            23.99,
            21.48,
            20.18,
            19.99
           ],
           "y": [
            29.59,
            31.12,
            32.71,
            29.59,
            36.47,
            34.29,
            28.04,
            31.67,
            25.81,
            26.36,
            21.73
           ]
          },
          {
           "hoverinfo": "none",
           "marker": {
            "color": "#CBB67C",
            "line": {
             "color": "#663831",
             "width": 2
            },
            "size": 10
           },
           "mode": "markers",
           "name": "football",
           "type": "scatter",
           "x": [
            18.9500007629395
           ],
           "y": [
            29.5900001525879
           ]
          }
         ],
         "name": "107"
        },
        {
         "data": [
          {
           "hoverinfo": "none",
           "mode": "text",
           "showlegend": false,
           "text": [
            "10",
            "20",
            "30",
            "40",
            "50",
            "40",
            "30",
            "20",
            "10"
           ],
           "textfont": {
            "color": "#ffffff",
            "family": "Courier New, monospace",
            "size": 30
           },
           "type": "scatter",
           "x": [
            20,
            30,
            40,
            50,
            60,
            70,
            80,
            90,
            100
           ],
           "y": [
            5,
            5,
            5,
            5,
            5,
            5,
            5,
            5,
            5
           ]
          },
          {
           "hoverinfo": "none",
           "mode": "text",
           "showlegend": false,
           "text": [
            "10",
            "20",
            "30",
            "40",
            "50",
            "40",
            "30",
            "20",
            "10"
           ],
           "textfont": {
            "color": "#ffffff",
            "family": "Courier New, monospace",
            "size": 30
           },
           "type": "scatter",
           "x": [
            20,
            30,
            40,
            50,
            60,
            70,
            80,
            90,
            100
           ],
           "y": [
            48.5,
            48.5,
            48.5,
            48.5,
            48.5,
            48.5,
            48.5,
            48.5,
            48.5
           ]
          },
          {
           "hoverinfo": "none",
           "line": {
            "color": "blue",
            "dash": "dash"
           },
           "showlegend": false,
           "type": "scatter",
           "x": [
            19,
            19
           ],
           "y": [
            0,
            53.5
           ]
          },
          {
           "hoverinfo": "none",
           "line": {
            "color": "yellow",
            "dash": "dash"
           },
           "showlegend": false,
           "type": "scatter",
           "x": [
            10,
            10
           ],
           "y": [
            0,
            53.5
           ]
          },
          {
           "fill": "toself",
           "fillcolor": "#000000",
           "hoverinfo": "skip",
           "line": {
            "color": "white",
            "width": 3
           },
           "mode": "lines",
           "opacity": 1,
           "showlegend": false,
           "type": "scatter",
           "x": [
            0,
            0,
            10,
            10,
            0
           ],
           "y": [
            0,
            53.5,
            53.5,
            0,
            0
           ]
          },
          {
           "fill": "toself",
           "fillcolor": "#FFB612",
           "hoverinfo": "skip",
           "line": {
            "color": "white",
            "width": 3
           },
           "mode": "lines",
           "opacity": 1,
           "showlegend": false,
           "type": "scatter",
           "x": [
            110,
            110,
            120,
            120,
            110
           ],
           "y": [
            0,
            53.5,
            53.5,
            0,
            0
           ]
          },
          {
           "hoverinfo": "text",
           "hovertext": [
            "nflId:43299<br>displayName:Eli Apple<br>Player Speed:0.604 MPH",
            "nflId:43350<br>displayName:Vonn Bell<br>Player Speed:4.742 MPH",
            "nflId:43455<br>displayName:D.J. Reader<br>Player Speed:0.022 MPH",
            "nflId:43641<br>displayName:Mike Hilton<br>Player Speed:1.834 MPH",
            "nflId:44872<br>displayName:Chidobe Awuzie<br>Player Speed:0.984 MPH",
            "nflId:44915<br>displayName:Trey Hendrickson<br>Player Speed:0.045 MPH",
            "nflId:46123<br>displayName:Jessie Bates<br>Player Speed:0.403 MPH",
            "nflId:46138<br>displayName:B.J. Hill<br>Player Speed:0.112 MPH",
            "nflId:46146<br>displayName:Sam Hubbard<br>Player Speed:0.022 MPH",
            "nflId:47855<br>displayName:Germaine Pratt<br>Player Speed:1.186 MPH",
            "nflId:52473<br>displayName:Logan Wilson<br>Player Speed:1.141 MPH"
           ],
           "marker": {
            "color": "#000000",
            "line": {
             "color": "#FB4F14",
             "width": 2
            },
            "size": 10
           },
           "mode": "markers",
           "name": "CIN",
           "type": "scatter",
           "x": [
            13.73,
            14.68,
            18.32,
            15.95,
            12.68,
            18.21,
            9.02,
            18.03,
            18.22,
            14.59,
            14.98
           ],
           "y": [
            20.15,
            25.44,
            30.95,
            35.5,
            39.05,
            24.51,
            29.07,
            27.63,
            33.98,
            28.27,
            31.88
           ]
          },
          {
           "hoverinfo": "text",
           "hovertext": [
            "nflId:44814<br>displayName:Mitchell Trubisky<br>Player Speed:0.179 MPH",
            "nflId:46108<br>displayName:James Daniels<br>Player Speed:0.0 MPH",
            "nflId:46161<br>displayName:Chukwuma Okorafor<br>Player Speed:0.0 MPH",
            "nflId:46166<br>displayName:Mason Cole<br>Player Speed:0.0 MPH",
            "nflId:47849<br>displayName:Diontae Johnson<br>Player Speed:0.067 MPH",
            "nflId:52457<br>displayName:Chase Claypool<br>Player Speed:6.353 MPH",
            "nflId:52543<br>displayName:Kevin Dotson<br>Player Speed:0.0 MPH",
            "nflId:53453<br>displayName:Najee Harris<br>Player Speed:0.0 MPH",
            "nflId:53484<br>displayName:Pat Freiermuth<br>Player Speed:0.134 MPH",
            "nflId:53557<br>displayName:Dan Moore<br>Player Speed:0.0 MPH",
            "nflId:54517<br>displayName:George Pickens<br>Player Speed:0.045 MPH"
           ],
           "marker": {
            "color": "#FFB612",
            "line": {
             "color": "#101820",
             "width": 2
            },
            "size": 10
           },
           "mode": "markers",
           "name": "PIT",
           "type": "scatter",
           "x": [
            24,
            20.2,
            20.26,
            19.23,
            19.74,
            21.3,
            20.01,
            24,
            21.48,
            20.18,
            19.99
           ],
           "y": [
            29.59,
            31.12,
            32.7,
            29.59,
            36.49,
            34.03,
            28.04,
            31.67,
            25.81,
            26.36,
            21.73
           ]
          },
          {
           "hoverinfo": "none",
           "marker": {
            "color": "#CBB67C",
            "line": {
             "color": "#663831",
             "width": 2
            },
            "size": 10
           },
           "mode": "markers",
           "name": "football",
           "type": "scatter",
           "x": [
            18.9500007629395
           ],
           "y": [
            29.5900001525879
           ]
          }
         ],
         "name": "108"
        },
        {
         "data": [
          {
           "hoverinfo": "none",
           "mode": "text",
           "showlegend": false,
           "text": [
            "10",
            "20",
            "30",
            "40",
            "50",
            "40",
            "30",
            "20",
            "10"
           ],
           "textfont": {
            "color": "#ffffff",
            "family": "Courier New, monospace",
            "size": 30
           },
           "type": "scatter",
           "x": [
            20,
            30,
            40,
            50,
            60,
            70,
            80,
            90,
            100
           ],
           "y": [
            5,
            5,
            5,
            5,
            5,
            5,
            5,
            5,
            5
           ]
          },
          {
           "hoverinfo": "none",
           "mode": "text",
           "showlegend": false,
           "text": [
            "10",
            "20",
            "30",
            "40",
            "50",
            "40",
            "30",
            "20",
            "10"
           ],
           "textfont": {
            "color": "#ffffff",
            "family": "Courier New, monospace",
            "size": 30
           },
           "type": "scatter",
           "x": [
            20,
            30,
            40,
            50,
            60,
            70,
            80,
            90,
            100
           ],
           "y": [
            48.5,
            48.5,
            48.5,
            48.5,
            48.5,
            48.5,
            48.5,
            48.5,
            48.5
           ]
          },
          {
           "hoverinfo": "none",
           "line": {
            "color": "blue",
            "dash": "dash"
           },
           "showlegend": false,
           "type": "scatter",
           "x": [
            19,
            19
           ],
           "y": [
            0,
            53.5
           ]
          },
          {
           "hoverinfo": "none",
           "line": {
            "color": "yellow",
            "dash": "dash"
           },
           "showlegend": false,
           "type": "scatter",
           "x": [
            10,
            10
           ],
           "y": [
            0,
            53.5
           ]
          },
          {
           "fill": "toself",
           "fillcolor": "#000000",
           "hoverinfo": "skip",
           "line": {
            "color": "white",
            "width": 3
           },
           "mode": "lines",
           "opacity": 1,
           "showlegend": false,
           "type": "scatter",
           "x": [
            0,
            0,
            10,
            10,
            0
           ],
           "y": [
            0,
            53.5,
            53.5,
            0,
            0
           ]
          },
          {
           "fill": "toself",
           "fillcolor": "#FFB612",
           "hoverinfo": "skip",
           "line": {
            "color": "white",
            "width": 3
           },
           "mode": "lines",
           "opacity": 1,
           "showlegend": false,
           "type": "scatter",
           "x": [
            110,
            110,
            120,
            120,
            110
           ],
           "y": [
            0,
            53.5,
            53.5,
            0,
            0
           ]
          },
          {
           "hoverinfo": "text",
           "hovertext": [
            "nflId:43299<br>displayName:Eli Apple<br>Player Speed:0.962 MPH",
            "nflId:43350<br>displayName:Vonn Bell<br>Player Speed:4.809 MPH",
            "nflId:43455<br>displayName:D.J. Reader<br>Player Speed:0.022 MPH",
            "nflId:43641<br>displayName:Mike Hilton<br>Player Speed:1.991 MPH",
            "nflId:44872<br>displayName:Chidobe Awuzie<br>Player Speed:1.096 MPH",
            "nflId:44915<br>displayName:Trey Hendrickson<br>Player Speed:0.358 MPH",
            "nflId:46123<br>displayName:Jessie Bates<br>Player Speed:0.872 MPH",
            "nflId:46138<br>displayName:B.J. Hill<br>Player Speed:0.089 MPH",
            "nflId:46146<br>displayName:Sam Hubbard<br>Player Speed:0.022 MPH",
            "nflId:47855<br>displayName:Germaine Pratt<br>Player Speed:1.566 MPH",
            "nflId:52473<br>displayName:Logan Wilson<br>Player Speed:2.125 MPH"
           ],
           "marker": {
            "color": "#000000",
            "line": {
             "color": "#FB4F14",
             "width": 2
            },
            "size": 10
           },
           "mode": "markers",
           "name": "CIN",
           "type": "scatter",
           "x": [
            13.73,
            14.8,
            18.32,
            15.94,
            12.63,
            18.22,
            9.03,
            18.03,
            18.23,
            14.59,
            15
           ],
           "y": [
            20.12,
            25.26,
            30.94,
            35.41,
            39.06,
            24.5,
            29.04,
            27.64,
            33.96,
            28.21,
            31.79
           ]
          },
          {
           "hoverinfo": "text",
           "hovertext": [
            "nflId:44814<br>displayName:Mitchell Trubisky<br>Player Speed:0.313 MPH",
            "nflId:46108<br>displayName:James Daniels<br>Player Speed:0.045 MPH",
            "nflId:46161<br>displayName:Chukwuma Okorafor<br>Player Speed:0.157 MPH",
            "nflId:46166<br>displayName:Mason Cole<br>Player Speed:0.0 MPH",
            "nflId:47849<br>displayName:Diontae Johnson<br>Player Speed:0.067 MPH",
            "nflId:52457<br>displayName:Chase Claypool<br>Player Speed:7.494 MPH",
            "nflId:52543<br>displayName:Kevin Dotson<br>Player Speed:0.0 MPH",
            "nflId:53453<br>displayName:Najee Harris<br>Player Speed:0.0 MPH",
            "nflId:53484<br>displayName:Pat Freiermuth<br>Player Speed:0.112 MPH",
            "nflId:53557<br>displayName:Dan Moore<br>Player Speed:0.067 MPH",
            "nflId:54517<br>displayName:George Pickens<br>Player Speed:0.067 MPH"
           ],
           "marker": {
            "color": "#FFB612",
            "line": {
             "color": "#101820",
             "width": 2
            },
            "size": 10
           },
           "mode": "markers",
           "name": "PIT",
           "type": "scatter",
           "x": [
            23.99,
            20.2,
            20.26,
            19.23,
            19.74,
            21.4,
            20.01,
            24,
            21.48,
            20.18,
            19.98
           ],
           "y": [
            29.58,
            31.11,
            32.7,
            29.58,
            36.49,
            33.72,
            28.04,
            31.66,
            25.8,
            26.36,
            21.72
           ]
          },
          {
           "hoverinfo": "none",
           "marker": {
            "color": "#CBB67C",
            "line": {
             "color": "#663831",
             "width": 2
            },
            "size": 10
           },
           "mode": "markers",
           "name": "football",
           "type": "scatter",
           "x": [
            18.9699993133545
           ],
           "y": [
            29.5900001525879
           ]
          }
         ],
         "name": "109"
        }
       ],
       "layout": {
        "annotations": [
         {
          "align": "center",
          "bgcolor": "#ff7f0e",
          "bordercolor": "black",
          "borderpad": 4,
          "borderwidth": 2,
          "font": {
           "color": "black",
           "family": "Courier New, monospace",
           "size": 16
          },
          "opacity": 1,
          "showarrow": false,
          "text": "1",
          "x": 10,
          "y": 0
         },
         {
          "align": "center",
          "bgcolor": "#ff7f0e",
          "bordercolor": "black",
          "borderpad": 4,
          "borderwidth": 2,
          "font": {
           "color": "black",
           "family": "Courier New, monospace",
           "size": 16
          },
          "opacity": 1,
          "showarrow": false,
          "text": "1",
          "x": 10,
          "y": 53
         },
         {
          "font": {
           "color": "White",
           "family": "Courier New, monospace",
           "size": 32
          },
          "showarrow": false,
          "text": "CIN",
          "textangle": -90,
          "x": 5,
          "y": 26.75
         },
         {
          "font": {
           "color": "White",
           "family": "Courier New, monospace",
           "size": 32
          },
          "showarrow": false,
          "text": "PIT",
          "textangle": 90,
          "x": 115,
          "y": 26.75
         }
        ],
        "autosize": false,
        "height": 600,
        "plot_bgcolor": "#00B140",
        "sliders": [
         {
          "active": 0,
          "currentvalue": {
           "font": {
            "size": 20
           },
           "prefix": "Frame:",
           "visible": true,
           "xanchor": "right"
          },
          "len": 0.9,
          "pad": {
           "b": 10,
           "t": 50
          },
          "steps": [
           {
            "args": [
             [
              2
             ],
             {
              "frame": {
               "duration": 100,
               "redraw": false
              },
              "mode": "immediate",
              "transition": {
               "duration": 0
              }
             }
            ],
            "label": "2",
            "method": "animate"
           },
           {
            "args": [
             [
              3
             ],
             {
              "frame": {
               "duration": 100,
               "redraw": false
              },
              "mode": "immediate",
              "transition": {
               "duration": 0
              }
             }
            ],
            "label": "3",
            "method": "animate"
           },
           {
            "args": [
             [
              4
             ],
             {
              "frame": {
               "duration": 100,
               "redraw": false
              },
              "mode": "immediate",
              "transition": {
               "duration": 0
              }
             }
            ],
            "label": "4",
            "method": "animate"
           },
           {
            "args": [
             [
              5
             ],
             {
              "frame": {
               "duration": 100,
               "redraw": false
              },
              "mode": "immediate",
              "transition": {
               "duration": 0
              }
             }
            ],
            "label": "5",
            "method": "animate"
           },
           {
            "args": [
             [
              6
             ],
             {
              "frame": {
               "duration": 100,
               "redraw": false
              },
              "mode": "immediate",
              "transition": {
               "duration": 0
              }
             }
            ],
            "label": "6",
            "method": "animate"
           },
           {
            "args": [
             [
              7
             ],
             {
              "frame": {
               "duration": 100,
               "redraw": false
              },
              "mode": "immediate",
              "transition": {
               "duration": 0
              }
             }
            ],
            "label": "7",
            "method": "animate"
           },
           {
            "args": [
             [
              8
             ],
             {
              "frame": {
               "duration": 100,
               "redraw": false
              },
              "mode": "immediate",
              "transition": {
               "duration": 0
              }
             }
            ],
            "label": "8",
            "method": "animate"
           },
           {
            "args": [
             [
              9
             ],
             {
              "frame": {
               "duration": 100,
               "redraw": false
              },
              "mode": "immediate",
              "transition": {
               "duration": 0
              }
             }
            ],
            "label": "9",
            "method": "animate"
           },
           {
            "args": [
             [
              10
             ],
             {
              "frame": {
               "duration": 100,
               "redraw": false
              },
              "mode": "immediate",
              "transition": {
               "duration": 0
              }
             }
            ],
            "label": "10",
            "method": "animate"
           },
           {
            "args": [
             [
              11
             ],
             {
              "frame": {
               "duration": 100,
               "redraw": false
              },
              "mode": "immediate",
              "transition": {
               "duration": 0
              }
             }
            ],
            "label": "11",
            "method": "animate"
           },
           {
            "args": [
             [
              12
             ],
             {
              "frame": {
               "duration": 100,
               "redraw": false
              },
              "mode": "immediate",
              "transition": {
               "duration": 0
              }
             }
            ],
            "label": "12",
            "method": "animate"
           },
           {
            "args": [
             [
              13
             ],
             {
              "frame": {
               "duration": 100,
               "redraw": false
              },
              "mode": "immediate",
              "transition": {
               "duration": 0
              }
             }
            ],
            "label": "13",
            "method": "animate"
           },
           {
            "args": [
             [
              14
             ],
             {
              "frame": {
               "duration": 100,
               "redraw": false
              },
              "mode": "immediate",
              "transition": {
               "duration": 0
              }
             }
            ],
            "label": "14",
            "method": "animate"
           },
           {
            "args": [
             [
              15
             ],
             {
              "frame": {
               "duration": 100,
               "redraw": false
              },
              "mode": "immediate",
              "transition": {
               "duration": 0
              }
             }
            ],
            "label": "15",
            "method": "animate"
           },
           {
            "args": [
             [
              16
             ],
             {
              "frame": {
               "duration": 100,
               "redraw": false
              },
              "mode": "immediate",
              "transition": {
               "duration": 0
              }
             }
            ],
            "label": "16",
            "method": "animate"
           },
           {
            "args": [
             [
              17
             ],
             {
              "frame": {
               "duration": 100,
               "redraw": false
              },
              "mode": "immediate",
              "transition": {
               "duration": 0
              }
             }
            ],
            "label": "17",
            "method": "animate"
           },
           {
            "args": [
             [
              18
             ],
             {
              "frame": {
               "duration": 100,
               "redraw": false
              },
              "mode": "immediate",
              "transition": {
               "duration": 0
              }
             }
            ],
            "label": "18",
            "method": "animate"
           },
           {
            "args": [
             [
              19
             ],
             {
              "frame": {
               "duration": 100,
               "redraw": false
              },
              "mode": "immediate",
              "transition": {
               "duration": 0
              }
             }
            ],
            "label": "19",
            "method": "animate"
           },
           {
            "args": [
             [
              20
             ],
             {
              "frame": {
               "duration": 100,
               "redraw": false
              },
              "mode": "immediate",
              "transition": {
               "duration": 0
              }
             }
            ],
            "label": "20",
            "method": "animate"
           },
           {
            "args": [
             [
              21
             ],
             {
              "frame": {
               "duration": 100,
               "redraw": false
              },
              "mode": "immediate",
              "transition": {
               "duration": 0
              }
             }
            ],
            "label": "21",
            "method": "animate"
           },
           {
            "args": [
             [
              22
             ],
             {
              "frame": {
               "duration": 100,
               "redraw": false
              },
              "mode": "immediate",
              "transition": {
               "duration": 0
              }
             }
            ],
            "label": "22",
            "method": "animate"
           },
           {
            "args": [
             [
              23
             ],
             {
              "frame": {
               "duration": 100,
               "redraw": false
              },
              "mode": "immediate",
              "transition": {
               "duration": 0
              }
             }
            ],
            "label": "23",
            "method": "animate"
           },
           {
            "args": [
             [
              24
             ],
             {
              "frame": {
               "duration": 100,
               "redraw": false
              },
              "mode": "immediate",
              "transition": {
               "duration": 0
              }
             }
            ],
            "label": "24",
            "method": "animate"
           },
           {
            "args": [
             [
              25
             ],
             {
              "frame": {
               "duration": 100,
               "redraw": false
              },
              "mode": "immediate",
              "transition": {
               "duration": 0
              }
             }
            ],
            "label": "25",
            "method": "animate"
           },
           {
            "args": [
             [
              26
             ],
             {
              "frame": {
               "duration": 100,
               "redraw": false
              },
              "mode": "immediate",
              "transition": {
               "duration": 0
              }
             }
            ],
            "label": "26",
            "method": "animate"
           },
           {
            "args": [
             [
              27
             ],
             {
              "frame": {
               "duration": 100,
               "redraw": false
              },
              "mode": "immediate",
              "transition": {
               "duration": 0
              }
             }
            ],
            "label": "27",
            "method": "animate"
           },
           {
            "args": [
             [
              28
             ],
             {
              "frame": {
               "duration": 100,
               "redraw": false
              },
              "mode": "immediate",
              "transition": {
               "duration": 0
              }
             }
            ],
            "label": "28",
            "method": "animate"
           },
           {
            "args": [
             [
              29
             ],
             {
              "frame": {
               "duration": 100,
               "redraw": false
              },
              "mode": "immediate",
              "transition": {
               "duration": 0
              }
             }
            ],
            "label": "29",
            "method": "animate"
           },
           {
            "args": [
             [
              30
             ],
             {
              "frame": {
               "duration": 100,
               "redraw": false
              },
              "mode": "immediate",
              "transition": {
               "duration": 0
              }
             }
            ],
            "label": "30",
            "method": "animate"
           },
           {
            "args": [
             [
              31
             ],
             {
              "frame": {
               "duration": 100,
               "redraw": false
              },
              "mode": "immediate",
              "transition": {
               "duration": 0
              }
             }
            ],
            "label": "31",
            "method": "animate"
           },
           {
            "args": [
             [
              32
             ],
             {
              "frame": {
               "duration": 100,
               "redraw": false
              },
              "mode": "immediate",
              "transition": {
               "duration": 0
              }
             }
            ],
            "label": "32",
            "method": "animate"
           },
           {
            "args": [
             [
              33
             ],
             {
              "frame": {
               "duration": 100,
               "redraw": false
              },
              "mode": "immediate",
              "transition": {
               "duration": 0
              }
             }
            ],
            "label": "33",
            "method": "animate"
           },
           {
            "args": [
             [
              34
             ],
             {
              "frame": {
               "duration": 100,
               "redraw": false
              },
              "mode": "immediate",
              "transition": {
               "duration": 0
              }
             }
            ],
            "label": "34",
            "method": "animate"
           },
           {
            "args": [
             [
              35
             ],
             {
              "frame": {
               "duration": 100,
               "redraw": false
              },
              "mode": "immediate",
              "transition": {
               "duration": 0
              }
             }
            ],
            "label": "35",
            "method": "animate"
           },
           {
            "args": [
             [
              36
             ],
             {
              "frame": {
               "duration": 100,
               "redraw": false
              },
              "mode": "immediate",
              "transition": {
               "duration": 0
              }
             }
            ],
            "label": "36",
            "method": "animate"
           },
           {
            "args": [
             [
              37
             ],
             {
              "frame": {
               "duration": 100,
               "redraw": false
              },
              "mode": "immediate",
              "transition": {
               "duration": 0
              }
             }
            ],
            "label": "37",
            "method": "animate"
           },
           {
            "args": [
             [
              38
             ],
             {
              "frame": {
               "duration": 100,
               "redraw": false
              },
              "mode": "immediate",
              "transition": {
               "duration": 0
              }
             }
            ],
            "label": "38",
            "method": "animate"
           },
           {
            "args": [
             [
              39
             ],
             {
              "frame": {
               "duration": 100,
               "redraw": false
              },
              "mode": "immediate",
              "transition": {
               "duration": 0
              }
             }
            ],
            "label": "39",
            "method": "animate"
           },
           {
            "args": [
             [
              40
             ],
             {
              "frame": {
               "duration": 100,
               "redraw": false
              },
              "mode": "immediate",
              "transition": {
               "duration": 0
              }
             }
            ],
            "label": "40",
            "method": "animate"
           },
           {
            "args": [
             [
              41
             ],
             {
              "frame": {
               "duration": 100,
               "redraw": false
              },
              "mode": "immediate",
              "transition": {
               "duration": 0
              }
             }
            ],
            "label": "41",
            "method": "animate"
           },
           {
            "args": [
             [
              42
             ],
             {
              "frame": {
               "duration": 100,
               "redraw": false
              },
              "mode": "immediate",
              "transition": {
               "duration": 0
              }
             }
            ],
            "label": "42",
            "method": "animate"
           },
           {
            "args": [
             [
              43
             ],
             {
              "frame": {
               "duration": 100,
               "redraw": false
              },
              "mode": "immediate",
              "transition": {
               "duration": 0
              }
             }
            ],
            "label": "43",
            "method": "animate"
           },
           {
            "args": [
             [
              44
             ],
             {
              "frame": {
               "duration": 100,
               "redraw": false
              },
              "mode": "immediate",
              "transition": {
               "duration": 0
              }
             }
            ],
            "label": "44",
            "method": "animate"
           },
           {
            "args": [
             [
              45
             ],
             {
              "frame": {
               "duration": 100,
               "redraw": false
              },
              "mode": "immediate",
              "transition": {
               "duration": 0
              }
             }
            ],
            "label": "45",
            "method": "animate"
           },
           {
            "args": [
             [
              46
             ],
             {
              "frame": {
               "duration": 100,
               "redraw": false
              },
              "mode": "immediate",
              "transition": {
               "duration": 0
              }
             }
            ],
            "label": "46",
            "method": "animate"
           },
           {
            "args": [
             [
              47
             ],
             {
              "frame": {
               "duration": 100,
               "redraw": false
              },
              "mode": "immediate",
              "transition": {
               "duration": 0
              }
             }
            ],
            "label": "47",
            "method": "animate"
           },
           {
            "args": [
             [
              48
             ],
             {
              "frame": {
               "duration": 100,
               "redraw": false
              },
              "mode": "immediate",
              "transition": {
               "duration": 0
              }
             }
            ],
            "label": "48",
            "method": "animate"
           },
           {
            "args": [
             [
              49
             ],
             {
              "frame": {
               "duration": 100,
               "redraw": false
              },
              "mode": "immediate",
              "transition": {
               "duration": 0
              }
             }
            ],
            "label": "49",
            "method": "animate"
           },
           {
            "args": [
             [
              50
             ],
             {
              "frame": {
               "duration": 100,
               "redraw": false
              },
              "mode": "immediate",
              "transition": {
               "duration": 0
              }
             }
            ],
            "label": "50",
            "method": "animate"
           },
           {
            "args": [
             [
              51
             ],
             {
              "frame": {
               "duration": 100,
               "redraw": false
              },
              "mode": "immediate",
              "transition": {
               "duration": 0
              }
             }
            ],
            "label": "51",
            "method": "animate"
           },
           {
            "args": [
             [
              52
             ],
             {
              "frame": {
               "duration": 100,
               "redraw": false
              },
              "mode": "immediate",
              "transition": {
               "duration": 0
              }
             }
            ],
            "label": "52",
            "method": "animate"
           },
           {
            "args": [
             [
              53
             ],
             {
              "frame": {
               "duration": 100,
               "redraw": false
              },
              "mode": "immediate",
              "transition": {
               "duration": 0
              }
             }
            ],
            "label": "53",
            "method": "animate"
           },
           {
            "args": [
             [
              54
             ],
             {
              "frame": {
               "duration": 100,
               "redraw": false
              },
              "mode": "immediate",
              "transition": {
               "duration": 0
              }
             }
            ],
            "label": "54",
            "method": "animate"
           },
           {
            "args": [
             [
              55
             ],
             {
              "frame": {
               "duration": 100,
               "redraw": false
              },
              "mode": "immediate",
              "transition": {
               "duration": 0
              }
             }
            ],
            "label": "55",
            "method": "animate"
           },
           {
            "args": [
             [
              56
             ],
             {
              "frame": {
               "duration": 100,
               "redraw": false
              },
              "mode": "immediate",
              "transition": {
               "duration": 0
              }
             }
            ],
            "label": "56",
            "method": "animate"
           },
           {
            "args": [
             [
              57
             ],
             {
              "frame": {
               "duration": 100,
               "redraw": false
              },
              "mode": "immediate",
              "transition": {
               "duration": 0
              }
             }
            ],
            "label": "57",
            "method": "animate"
           },
           {
            "args": [
             [
              58
             ],
             {
              "frame": {
               "duration": 100,
               "redraw": false
              },
              "mode": "immediate",
              "transition": {
               "duration": 0
              }
             }
            ],
            "label": "58",
            "method": "animate"
           },
           {
            "args": [
             [
              59
             ],
             {
              "frame": {
               "duration": 100,
               "redraw": false
              },
              "mode": "immediate",
              "transition": {
               "duration": 0
              }
             }
            ],
            "label": "59",
            "method": "animate"
           },
           {
            "args": [
             [
              60
             ],
             {
              "frame": {
               "duration": 100,
               "redraw": false
              },
              "mode": "immediate",
              "transition": {
               "duration": 0
              }
             }
            ],
            "label": "60",
            "method": "animate"
           },
           {
            "args": [
             [
              61
             ],
             {
              "frame": {
               "duration": 100,
               "redraw": false
              },
              "mode": "immediate",
              "transition": {
               "duration": 0
              }
             }
            ],
            "label": "61",
            "method": "animate"
           },
           {
            "args": [
             [
              62
             ],
             {
              "frame": {
               "duration": 100,
               "redraw": false
              },
              "mode": "immediate",
              "transition": {
               "duration": 0
              }
             }
            ],
            "label": "62",
            "method": "animate"
           },
           {
            "args": [
             [
              63
             ],
             {
              "frame": {
               "duration": 100,
               "redraw": false
              },
              "mode": "immediate",
              "transition": {
               "duration": 0
              }
             }
            ],
            "label": "63",
            "method": "animate"
           },
           {
            "args": [
             [
              64
             ],
             {
              "frame": {
               "duration": 100,
               "redraw": false
              },
              "mode": "immediate",
              "transition": {
               "duration": 0
              }
             }
            ],
            "label": "64",
            "method": "animate"
           },
           {
            "args": [
             [
              65
             ],
             {
              "frame": {
               "duration": 100,
               "redraw": false
              },
              "mode": "immediate",
              "transition": {
               "duration": 0
              }
             }
            ],
            "label": "65",
            "method": "animate"
           },
           {
            "args": [
             [
              66
             ],
             {
              "frame": {
               "duration": 100,
               "redraw": false
              },
              "mode": "immediate",
              "transition": {
               "duration": 0
              }
             }
            ],
            "label": "66",
            "method": "animate"
           },
           {
            "args": [
             [
              67
             ],
             {
              "frame": {
               "duration": 100,
               "redraw": false
              },
              "mode": "immediate",
              "transition": {
               "duration": 0
              }
             }
            ],
            "label": "67",
            "method": "animate"
           },
           {
            "args": [
             [
              68
             ],
             {
              "frame": {
               "duration": 100,
               "redraw": false
              },
              "mode": "immediate",
              "transition": {
               "duration": 0
              }
             }
            ],
            "label": "68",
            "method": "animate"
           },
           {
            "args": [
             [
              69
             ],
             {
              "frame": {
               "duration": 100,
               "redraw": false
              },
              "mode": "immediate",
              "transition": {
               "duration": 0
              }
             }
            ],
            "label": "69",
            "method": "animate"
           },
           {
            "args": [
             [
              70
             ],
             {
              "frame": {
               "duration": 100,
               "redraw": false
              },
              "mode": "immediate",
              "transition": {
               "duration": 0
              }
             }
            ],
            "label": "70",
            "method": "animate"
           },
           {
            "args": [
             [
              71
             ],
             {
              "frame": {
               "duration": 100,
               "redraw": false
              },
              "mode": "immediate",
              "transition": {
               "duration": 0
              }
             }
            ],
            "label": "71",
            "method": "animate"
           },
           {
            "args": [
             [
              72
             ],
             {
              "frame": {
               "duration": 100,
               "redraw": false
              },
              "mode": "immediate",
              "transition": {
               "duration": 0
              }
             }
            ],
            "label": "72",
            "method": "animate"
           },
           {
            "args": [
             [
              73
             ],
             {
              "frame": {
               "duration": 100,
               "redraw": false
              },
              "mode": "immediate",
              "transition": {
               "duration": 0
              }
             }
            ],
            "label": "73",
            "method": "animate"
           },
           {
            "args": [
             [
              74
             ],
             {
              "frame": {
               "duration": 100,
               "redraw": false
              },
              "mode": "immediate",
              "transition": {
               "duration": 0
              }
             }
            ],
            "label": "74",
            "method": "animate"
           },
           {
            "args": [
             [
              75
             ],
             {
              "frame": {
               "duration": 100,
               "redraw": false
              },
              "mode": "immediate",
              "transition": {
               "duration": 0
              }
             }
            ],
            "label": "75",
            "method": "animate"
           },
           {
            "args": [
             [
              76
             ],
             {
              "frame": {
               "duration": 100,
               "redraw": false
              },
              "mode": "immediate",
              "transition": {
               "duration": 0
              }
             }
            ],
            "label": "76",
            "method": "animate"
           },
           {
            "args": [
             [
              77
             ],
             {
              "frame": {
               "duration": 100,
               "redraw": false
              },
              "mode": "immediate",
              "transition": {
               "duration": 0
              }
             }
            ],
            "label": "77",
            "method": "animate"
           },
           {
            "args": [
             [
              78
             ],
             {
              "frame": {
               "duration": 100,
               "redraw": false
              },
              "mode": "immediate",
              "transition": {
               "duration": 0
              }
             }
            ],
            "label": "78",
            "method": "animate"
           },
           {
            "args": [
             [
              79
             ],
             {
              "frame": {
               "duration": 100,
               "redraw": false
              },
              "mode": "immediate",
              "transition": {
               "duration": 0
              }
             }
            ],
            "label": "79",
            "method": "animate"
           },
           {
            "args": [
             [
              80
             ],
             {
              "frame": {
               "duration": 100,
               "redraw": false
              },
              "mode": "immediate",
              "transition": {
               "duration": 0
              }
             }
            ],
            "label": "80",
            "method": "animate"
           },
           {
            "args": [
             [
              81
             ],
             {
              "frame": {
               "duration": 100,
               "redraw": false
              },
              "mode": "immediate",
              "transition": {
               "duration": 0
              }
             }
            ],
            "label": "81",
            "method": "animate"
           },
           {
            "args": [
             [
              82
             ],
             {
              "frame": {
               "duration": 100,
               "redraw": false
              },
              "mode": "immediate",
              "transition": {
               "duration": 0
              }
             }
            ],
            "label": "82",
            "method": "animate"
           },
           {
            "args": [
             [
              83
             ],
             {
              "frame": {
               "duration": 100,
               "redraw": false
              },
              "mode": "immediate",
              "transition": {
               "duration": 0
              }
             }
            ],
            "label": "83",
            "method": "animate"
           },
           {
            "args": [
             [
              84
             ],
             {
              "frame": {
               "duration": 100,
               "redraw": false
              },
              "mode": "immediate",
              "transition": {
               "duration": 0
              }
             }
            ],
            "label": "84",
            "method": "animate"
           },
           {
            "args": [
             [
              85
             ],
             {
              "frame": {
               "duration": 100,
               "redraw": false
              },
              "mode": "immediate",
              "transition": {
               "duration": 0
              }
             }
            ],
            "label": "85",
            "method": "animate"
           },
           {
            "args": [
             [
              86
             ],
             {
              "frame": {
               "duration": 100,
               "redraw": false
              },
              "mode": "immediate",
              "transition": {
               "duration": 0
              }
             }
            ],
            "label": "86",
            "method": "animate"
           },
           {
            "args": [
             [
              87
             ],
             {
              "frame": {
               "duration": 100,
               "redraw": false
              },
              "mode": "immediate",
              "transition": {
               "duration": 0
              }
             }
            ],
            "label": "87",
            "method": "animate"
           },
           {
            "args": [
             [
              88
             ],
             {
              "frame": {
               "duration": 100,
               "redraw": false
              },
              "mode": "immediate",
              "transition": {
               "duration": 0
              }
             }
            ],
            "label": "88",
            "method": "animate"
           },
           {
            "args": [
             [
              89
             ],
             {
              "frame": {
               "duration": 100,
               "redraw": false
              },
              "mode": "immediate",
              "transition": {
               "duration": 0
              }
             }
            ],
            "label": "89",
            "method": "animate"
           },
           {
            "args": [
             [
              90
             ],
             {
              "frame": {
               "duration": 100,
               "redraw": false
              },
              "mode": "immediate",
              "transition": {
               "duration": 0
              }
             }
            ],
            "label": "90",
            "method": "animate"
           },
           {
            "args": [
             [
              91
             ],
             {
              "frame": {
               "duration": 100,
               "redraw": false
              },
              "mode": "immediate",
              "transition": {
               "duration": 0
              }
             }
            ],
            "label": "91",
            "method": "animate"
           },
           {
            "args": [
             [
              92
             ],
             {
              "frame": {
               "duration": 100,
               "redraw": false
              },
              "mode": "immediate",
              "transition": {
               "duration": 0
              }
             }
            ],
            "label": "92",
            "method": "animate"
           },
           {
            "args": [
             [
              93
             ],
             {
              "frame": {
               "duration": 100,
               "redraw": false
              },
              "mode": "immediate",
              "transition": {
               "duration": 0
              }
             }
            ],
            "label": "93",
            "method": "animate"
           },
           {
            "args": [
             [
              94
             ],
             {
              "frame": {
               "duration": 100,
               "redraw": false
              },
              "mode": "immediate",
              "transition": {
               "duration": 0
              }
             }
            ],
            "label": "94",
            "method": "animate"
           },
           {
            "args": [
             [
              95
             ],
             {
              "frame": {
               "duration": 100,
               "redraw": false
              },
              "mode": "immediate",
              "transition": {
               "duration": 0
              }
             }
            ],
            "label": "95",
            "method": "animate"
           },
           {
            "args": [
             [
              96
             ],
             {
              "frame": {
               "duration": 100,
               "redraw": false
              },
              "mode": "immediate",
              "transition": {
               "duration": 0
              }
             }
            ],
            "label": "96",
            "method": "animate"
           },
           {
            "args": [
             [
              97
             ],
             {
              "frame": {
               "duration": 100,
               "redraw": false
              },
              "mode": "immediate",
              "transition": {
               "duration": 0
              }
             }
            ],
            "label": "97",
            "method": "animate"
           },
           {
            "args": [
             [
              98
             ],
             {
              "frame": {
               "duration": 100,
               "redraw": false
              },
              "mode": "immediate",
              "transition": {
               "duration": 0
              }
             }
            ],
            "label": "98",
            "method": "animate"
           },
           {
            "args": [
             [
              99
             ],
             {
              "frame": {
               "duration": 100,
               "redraw": false
              },
              "mode": "immediate",
              "transition": {
               "duration": 0
              }
             }
            ],
            "label": "99",
            "method": "animate"
           },
           {
            "args": [
             [
              100
             ],
             {
              "frame": {
               "duration": 100,
               "redraw": false
              },
              "mode": "immediate",
              "transition": {
               "duration": 0
              }
             }
            ],
            "label": "100",
            "method": "animate"
           },
           {
            "args": [
             [
              101
             ],
             {
              "frame": {
               "duration": 100,
               "redraw": false
              },
              "mode": "immediate",
              "transition": {
               "duration": 0
              }
             }
            ],
            "label": "101",
            "method": "animate"
           },
           {
            "args": [
             [
              102
             ],
             {
              "frame": {
               "duration": 100,
               "redraw": false
              },
              "mode": "immediate",
              "transition": {
               "duration": 0
              }
             }
            ],
            "label": "102",
            "method": "animate"
           },
           {
            "args": [
             [
              103
             ],
             {
              "frame": {
               "duration": 100,
               "redraw": false
              },
              "mode": "immediate",
              "transition": {
               "duration": 0
              }
             }
            ],
            "label": "103",
            "method": "animate"
           },
           {
            "args": [
             [
              104
             ],
             {
              "frame": {
               "duration": 100,
               "redraw": false
              },
              "mode": "immediate",
              "transition": {
               "duration": 0
              }
             }
            ],
            "label": "104",
            "method": "animate"
           },
           {
            "args": [
             [
              105
             ],
             {
              "frame": {
               "duration": 100,
               "redraw": false
              },
              "mode": "immediate",
              "transition": {
               "duration": 0
              }
             }
            ],
            "label": "105",
            "method": "animate"
           },
           {
            "args": [
             [
              106
             ],
             {
              "frame": {
               "duration": 100,
               "redraw": false
              },
              "mode": "immediate",
              "transition": {
               "duration": 0
              }
             }
            ],
            "label": "106",
            "method": "animate"
           },
           {
            "args": [
             [
              107
             ],
             {
              "frame": {
               "duration": 100,
               "redraw": false
              },
              "mode": "immediate",
              "transition": {
               "duration": 0
              }
             }
            ],
            "label": "107",
            "method": "animate"
           },
           {
            "args": [
             [
              108
             ],
             {
              "frame": {
               "duration": 100,
               "redraw": false
              },
              "mode": "immediate",
              "transition": {
               "duration": 0
              }
             }
            ],
            "label": "108",
            "method": "animate"
           },
           {
            "args": [
             [
              109
             ],
             {
              "frame": {
               "duration": 100,
               "redraw": false
              },
              "mode": "immediate",
              "transition": {
               "duration": 0
              }
             }
            ],
            "label": "109",
            "method": "animate"
           }
          ],
          "transition": {
           "duration": 300,
           "easing": "cubic-in-out"
          },
          "x": 0.1,
          "xanchor": "left",
          "y": 0,
          "yanchor": "top"
         }
        ],
        "template": {
         "data": {
          "bar": [
           {
            "error_x": {
             "color": "#2a3f5f"
            },
            "error_y": {
             "color": "#2a3f5f"
            },
            "marker": {
             "line": {
              "color": "#E5ECF6",
              "width": 0.5
             },
             "pattern": {
              "fillmode": "overlay",
              "size": 10,
              "solidity": 0.2
             }
            },
            "type": "bar"
           }
          ],
          "barpolar": [
           {
            "marker": {
             "line": {
              "color": "#E5ECF6",
              "width": 0.5
             },
             "pattern": {
              "fillmode": "overlay",
              "size": 10,
              "solidity": 0.2
             }
            },
            "type": "barpolar"
           }
          ],
          "carpet": [
           {
            "aaxis": {
             "endlinecolor": "#2a3f5f",
             "gridcolor": "white",
             "linecolor": "white",
             "minorgridcolor": "white",
             "startlinecolor": "#2a3f5f"
            },
            "baxis": {
             "endlinecolor": "#2a3f5f",
             "gridcolor": "white",
             "linecolor": "white",
             "minorgridcolor": "white",
             "startlinecolor": "#2a3f5f"
            },
            "type": "carpet"
           }
          ],
          "choropleth": [
           {
            "colorbar": {
             "outlinewidth": 0,
             "ticks": ""
            },
            "type": "choropleth"
           }
          ],
          "contour": [
           {
            "colorbar": {
             "outlinewidth": 0,
             "ticks": ""
            },
            "colorscale": [
             [
              0,
              "#0d0887"
             ],
             [
              0.1111111111111111,
              "#46039f"
             ],
             [
              0.2222222222222222,
              "#7201a8"
             ],
             [
              0.3333333333333333,
              "#9c179e"
             ],
             [
              0.4444444444444444,
              "#bd3786"
             ],
             [
              0.5555555555555556,
              "#d8576b"
             ],
             [
              0.6666666666666666,
              "#ed7953"
             ],
             [
              0.7777777777777778,
              "#fb9f3a"
             ],
             [
              0.8888888888888888,
              "#fdca26"
             ],
             [
              1,
              "#f0f921"
             ]
            ],
            "type": "contour"
           }
          ],
          "contourcarpet": [
           {
            "colorbar": {
             "outlinewidth": 0,
             "ticks": ""
            },
            "type": "contourcarpet"
           }
          ],
          "heatmap": [
           {
            "colorbar": {
             "outlinewidth": 0,
             "ticks": ""
            },
            "colorscale": [
             [
              0,
              "#0d0887"
             ],
             [
              0.1111111111111111,
              "#46039f"
             ],
             [
              0.2222222222222222,
              "#7201a8"
             ],
             [
              0.3333333333333333,
              "#9c179e"
             ],
             [
              0.4444444444444444,
              "#bd3786"
             ],
             [
              0.5555555555555556,
              "#d8576b"
             ],
             [
              0.6666666666666666,
              "#ed7953"
             ],
             [
              0.7777777777777778,
              "#fb9f3a"
             ],
             [
              0.8888888888888888,
              "#fdca26"
             ],
             [
              1,
              "#f0f921"
             ]
            ],
            "type": "heatmap"
           }
          ],
          "heatmapgl": [
           {
            "colorbar": {
             "outlinewidth": 0,
             "ticks": ""
            },
            "colorscale": [
             [
              0,
              "#0d0887"
             ],
             [
              0.1111111111111111,
              "#46039f"
             ],
             [
              0.2222222222222222,
              "#7201a8"
             ],
             [
              0.3333333333333333,
              "#9c179e"
             ],
             [
              0.4444444444444444,
              "#bd3786"
             ],
             [
              0.5555555555555556,
              "#d8576b"
             ],
             [
              0.6666666666666666,
              "#ed7953"
             ],
             [
              0.7777777777777778,
              "#fb9f3a"
             ],
             [
              0.8888888888888888,
              "#fdca26"
             ],
             [
              1,
              "#f0f921"
             ]
            ],
            "type": "heatmapgl"
           }
          ],
          "histogram": [
           {
            "marker": {
             "pattern": {
              "fillmode": "overlay",
              "size": 10,
              "solidity": 0.2
             }
            },
            "type": "histogram"
           }
          ],
          "histogram2d": [
           {
            "colorbar": {
             "outlinewidth": 0,
             "ticks": ""
            },
            "colorscale": [
             [
              0,
              "#0d0887"
             ],
             [
              0.1111111111111111,
              "#46039f"
             ],
             [
              0.2222222222222222,
              "#7201a8"
             ],
             [
              0.3333333333333333,
              "#9c179e"
             ],
             [
              0.4444444444444444,
              "#bd3786"
             ],
             [
              0.5555555555555556,
              "#d8576b"
             ],
             [
              0.6666666666666666,
              "#ed7953"
             ],
             [
              0.7777777777777778,
              "#fb9f3a"
             ],
             [
              0.8888888888888888,
              "#fdca26"
             ],
             [
              1,
              "#f0f921"
             ]
            ],
            "type": "histogram2d"
           }
          ],
          "histogram2dcontour": [
           {
            "colorbar": {
             "outlinewidth": 0,
             "ticks": ""
            },
            "colorscale": [
             [
              0,
              "#0d0887"
             ],
             [
              0.1111111111111111,
              "#46039f"
             ],
             [
              0.2222222222222222,
              "#7201a8"
             ],
             [
              0.3333333333333333,
              "#9c179e"
             ],
             [
              0.4444444444444444,
              "#bd3786"
             ],
             [
              0.5555555555555556,
              "#d8576b"
             ],
             [
              0.6666666666666666,
              "#ed7953"
             ],
             [
              0.7777777777777778,
              "#fb9f3a"
             ],
             [
              0.8888888888888888,
              "#fdca26"
             ],
             [
              1,
              "#f0f921"
             ]
            ],
            "type": "histogram2dcontour"
           }
          ],
          "mesh3d": [
           {
            "colorbar": {
             "outlinewidth": 0,
             "ticks": ""
            },
            "type": "mesh3d"
           }
          ],
          "parcoords": [
           {
            "line": {
             "colorbar": {
              "outlinewidth": 0,
              "ticks": ""
             }
            },
            "type": "parcoords"
           }
          ],
          "pie": [
           {
            "automargin": true,
            "type": "pie"
           }
          ],
          "scatter": [
           {
            "fillpattern": {
             "fillmode": "overlay",
             "size": 10,
             "solidity": 0.2
            },
            "type": "scatter"
           }
          ],
          "scatter3d": [
           {
            "line": {
             "colorbar": {
              "outlinewidth": 0,
              "ticks": ""
             }
            },
            "marker": {
             "colorbar": {
              "outlinewidth": 0,
              "ticks": ""
             }
            },
            "type": "scatter3d"
           }
          ],
          "scattercarpet": [
           {
            "marker": {
             "colorbar": {
              "outlinewidth": 0,
              "ticks": ""
             }
            },
            "type": "scattercarpet"
           }
          ],
          "scattergeo": [
           {
            "marker": {
             "colorbar": {
              "outlinewidth": 0,
              "ticks": ""
             }
            },
            "type": "scattergeo"
           }
          ],
          "scattergl": [
           {
            "marker": {
             "colorbar": {
              "outlinewidth": 0,
              "ticks": ""
             }
            },
            "type": "scattergl"
           }
          ],
          "scattermapbox": [
           {
            "marker": {
             "colorbar": {
              "outlinewidth": 0,
              "ticks": ""
             }
            },
            "type": "scattermapbox"
           }
          ],
          "scatterpolar": [
           {
            "marker": {
             "colorbar": {
              "outlinewidth": 0,
              "ticks": ""
             }
            },
            "type": "scatterpolar"
           }
          ],
          "scatterpolargl": [
           {
            "marker": {
             "colorbar": {
              "outlinewidth": 0,
              "ticks": ""
             }
            },
            "type": "scatterpolargl"
           }
          ],
          "scatterternary": [
           {
            "marker": {
             "colorbar": {
              "outlinewidth": 0,
              "ticks": ""
             }
            },
            "type": "scatterternary"
           }
          ],
          "surface": [
           {
            "colorbar": {
             "outlinewidth": 0,
             "ticks": ""
            },
            "colorscale": [
             [
              0,
              "#0d0887"
             ],
             [
              0.1111111111111111,
              "#46039f"
             ],
             [
              0.2222222222222222,
              "#7201a8"
             ],
             [
              0.3333333333333333,
              "#9c179e"
             ],
             [
              0.4444444444444444,
              "#bd3786"
             ],
             [
              0.5555555555555556,
              "#d8576b"
             ],
             [
              0.6666666666666666,
              "#ed7953"
             ],
             [
              0.7777777777777778,
              "#fb9f3a"
             ],
             [
              0.8888888888888888,
              "#fdca26"
             ],
             [
              1,
              "#f0f921"
             ]
            ],
            "type": "surface"
           }
          ],
          "table": [
           {
            "cells": {
             "fill": {
              "color": "#EBF0F8"
             },
             "line": {
              "color": "white"
             }
            },
            "header": {
             "fill": {
              "color": "#C8D4E3"
             },
             "line": {
              "color": "white"
             }
            },
            "type": "table"
           }
          ]
         },
         "layout": {
          "annotationdefaults": {
           "arrowcolor": "#2a3f5f",
           "arrowhead": 0,
           "arrowwidth": 1
          },
          "autotypenumbers": "strict",
          "coloraxis": {
           "colorbar": {
            "outlinewidth": 0,
            "ticks": ""
           }
          },
          "colorscale": {
           "diverging": [
            [
             0,
             "#8e0152"
            ],
            [
             0.1,
             "#c51b7d"
            ],
            [
             0.2,
             "#de77ae"
            ],
            [
             0.3,
             "#f1b6da"
            ],
            [
             0.4,
             "#fde0ef"
            ],
            [
             0.5,
             "#f7f7f7"
            ],
            [
             0.6,
             "#e6f5d0"
            ],
            [
             0.7,
             "#b8e186"
            ],
            [
             0.8,
             "#7fbc41"
            ],
            [
             0.9,
             "#4d9221"
            ],
            [
             1,
             "#276419"
            ]
           ],
           "sequential": [
            [
             0,
             "#0d0887"
            ],
            [
             0.1111111111111111,
             "#46039f"
            ],
            [
             0.2222222222222222,
             "#7201a8"
            ],
            [
             0.3333333333333333,
             "#9c179e"
            ],
            [
             0.4444444444444444,
             "#bd3786"
            ],
            [
             0.5555555555555556,
             "#d8576b"
            ],
            [
             0.6666666666666666,
             "#ed7953"
            ],
            [
             0.7777777777777778,
             "#fb9f3a"
            ],
            [
             0.8888888888888888,
             "#fdca26"
            ],
            [
             1,
             "#f0f921"
            ]
           ],
           "sequentialminus": [
            [
             0,
             "#0d0887"
            ],
            [
             0.1111111111111111,
             "#46039f"
            ],
            [
             0.2222222222222222,
             "#7201a8"
            ],
            [
             0.3333333333333333,
             "#9c179e"
            ],
            [
             0.4444444444444444,
             "#bd3786"
            ],
            [
             0.5555555555555556,
             "#d8576b"
            ],
            [
             0.6666666666666666,
             "#ed7953"
            ],
            [
             0.7777777777777778,
             "#fb9f3a"
            ],
            [
             0.8888888888888888,
             "#fdca26"
            ],
            [
             1,
             "#f0f921"
            ]
           ]
          },
          "colorway": [
           "#636efa",
           "#EF553B",
           "#00cc96",
           "#ab63fa",
           "#FFA15A",
           "#19d3f3",
           "#FF6692",
           "#B6E880",
           "#FF97FF",
           "#FECB52"
          ],
          "font": {
           "color": "#2a3f5f"
          },
          "geo": {
           "bgcolor": "white",
           "lakecolor": "white",
           "landcolor": "#E5ECF6",
           "showlakes": true,
           "showland": true,
           "subunitcolor": "white"
          },
          "hoverlabel": {
           "align": "left"
          },
          "hovermode": "closest",
          "mapbox": {
           "style": "light"
          },
          "paper_bgcolor": "white",
          "plot_bgcolor": "#E5ECF6",
          "polar": {
           "angularaxis": {
            "gridcolor": "white",
            "linecolor": "white",
            "ticks": ""
           },
           "bgcolor": "#E5ECF6",
           "radialaxis": {
            "gridcolor": "white",
            "linecolor": "white",
            "ticks": ""
           }
          },
          "scene": {
           "xaxis": {
            "backgroundcolor": "#E5ECF6",
            "gridcolor": "white",
            "gridwidth": 2,
            "linecolor": "white",
            "showbackground": true,
            "ticks": "",
            "zerolinecolor": "white"
           },
           "yaxis": {
            "backgroundcolor": "#E5ECF6",
            "gridcolor": "white",
            "gridwidth": 2,
            "linecolor": "white",
            "showbackground": true,
            "ticks": "",
            "zerolinecolor": "white"
           },
           "zaxis": {
            "backgroundcolor": "#E5ECF6",
            "gridcolor": "white",
            "gridwidth": 2,
            "linecolor": "white",
            "showbackground": true,
            "ticks": "",
            "zerolinecolor": "white"
           }
          },
          "shapedefaults": {
           "line": {
            "color": "#2a3f5f"
           }
          },
          "ternary": {
           "aaxis": {
            "gridcolor": "white",
            "linecolor": "white",
            "ticks": ""
           },
           "baxis": {
            "gridcolor": "white",
            "linecolor": "white",
            "ticks": ""
           },
           "bgcolor": "#E5ECF6",
           "caxis": {
            "gridcolor": "white",
            "linecolor": "white",
            "ticks": ""
           }
          },
          "title": {
           "x": 0.05
          },
          "xaxis": {
           "automargin": true,
           "gridcolor": "white",
           "linecolor": "white",
           "ticks": "",
           "title": {
            "standoff": 15
           },
           "zerolinecolor": "white",
           "zerolinewidth": 2
          },
          "yaxis": {
           "automargin": true,
           "gridcolor": "white",
           "linecolor": "white",
           "ticks": "",
           "title": {
            "standoff": 15
           },
           "zerolinecolor": "white",
           "zerolinewidth": 2
          }
         }
        },
        "title": {
         "text": "GameId: 2022091103, PlayId: 1150<br>10:59 2Q<br><br><br><br><br><br><br><br><br><br><br><br><br><br><br><br><br><br><br>(10:59) (Shotgun) N.Harris left guard to CIN 7 for 2 yards (D.Reader)."
        },
        "updatemenus": [
         {
          "buttons": [
           {
            "args": [
             null,
             {
              "frame": {
               "duration": 100,
               "redraw": false
              },
              "fromcurrent": true,
              "transition": {
               "duration": 0
              }
             }
            ],
            "label": "Play",
            "method": "animate"
           },
           {
            "args": [
             [
              null
             ],
             {
              "frame": {
               "duration": 0,
               "redraw": false
              },
              "mode": "immediate",
              "transition": {
               "duration": 0
              }
             }
            ],
            "label": "Pause",
            "method": "animate"
           }
          ],
          "direction": "left",
          "pad": {
           "r": 10,
           "t": 87
          },
          "showactive": false,
          "type": "buttons",
          "x": 0.1,
          "xanchor": "right",
          "y": 0,
          "yanchor": "top"
         }
        ],
        "width": 1080,
        "xaxis": {
         "autorange": false,
         "range": [
          7.029999999999999,
          29
         ],
         "showticklabels": false,
         "tickmode": "array",
         "tickvals": [
          10,
          15,
          20,
          25,
          30,
          35,
          40,
          45,
          50,
          55,
          60,
          65,
          70,
          75,
          80,
          85,
          90,
          95,
          100,
          105
         ]
        },
        "yaxis": {
         "autorange": false,
         "range": [
          0,
          53.3
         ],
         "showgrid": false,
         "showticklabels": false
        }
       }
      }
     },
     "metadata": {},
     "output_type": "display_data"
    }
   ],
   "source": [
    "fig"
   ]
  },
  {
   "cell_type": "code",
   "execution_count": 23,
   "metadata": {},
   "outputs": [
    {
     "data": {
      "text/plain": [
       "600"
      ]
     },
     "execution_count": 23,
     "metadata": {},
     "output_type": "execute_result"
    }
   ],
   "source": [
    "fig.layout.height"
   ]
  },
  {
   "cell_type": "code",
   "execution_count": null,
   "metadata": {},
   "outputs": [],
   "source": []
  },
  {
   "cell_type": "code",
   "execution_count": 24,
   "metadata": {},
   "outputs": [],
   "source": [
    "\n",
    "import io\n",
    "import PIL\n",
    "\n",
    "frames=[]\n",
    "for s, fr in enumerate(fig.frames):\n",
    "\n",
    "    fig.update(data=fr.data)\n",
    "    fig.layout.sliders[0].update(active=s)\n",
    "    frames.append(PIL.Image.open(io.BytesIO(fig.to_image(format=\"png\",scale=1))))\n",
    "\n",
    "\n",
    "    frames[0].save(\"image/harris.gif\",\n",
    "                    save_all=True,\n",
    "                    append_images=frames[1:],\n",
    "                    optimize=True,\n",
    "                    duration=100,\n",
    "                    loop=0,\n",
    "                    dither=None)\n",
    "\n",
    "\n",
    "                    "
   ]
  },
  {
   "cell_type": "code",
   "execution_count": 25,
   "metadata": {},
   "outputs": [],
   "source": [
    "# Plot line"
   ]
  },
  {
   "cell_type": "markdown",
   "metadata": {},
   "source": [
    "# plot pwd"
   ]
  },
  {
   "cell_type": "code",
   "execution_count": 26,
   "metadata": {},
   "outputs": [],
   "source": [
    "from data_loading import load_tracking_data\n",
    "from scipy import spatial\n",
    "\n",
    "root_dir = os.getcwd()\n",
    "tracking_fname_list = [os.path.join(root_dir,  f\"data/tracking_week_{i}.csv\") for i in range(1,10)]\n",
    "write_track = False\n",
    "if write_track:\n",
    "    df_tracking = pd.concat(\n",
    "            [load_tracking_data(tracking_fname) for tracking_fname in tracking_fname_list]\n",
    "        )\n",
    "    df_tracking.to_csv('data/track_full.csv')\n",
    "else: \n",
    "    df_tracking = pd.read_csv('data/track_full.csv',usecols=['gameId','playId','nflId','frameId','club','a','s','dis','x_standard','y_standard']).dropna(subset=['nflId'])\n",
    "df_players = pd.read_csv(os.path.join(root_dir,'data/players.csv'))"
   ]
  },
  {
   "cell_type": "code",
   "execution_count": 27,
   "metadata": {},
   "outputs": [
    {
     "data": {
      "text/plain": [
       "0"
      ]
     },
     "execution_count": 27,
     "metadata": {},
     "output_type": "execute_result"
    }
   ],
   "source": [
    "df_tracking['nflId'].isna().sum()"
   ]
  },
  {
   "cell_type": "code",
   "execution_count": 28,
   "metadata": {},
   "outputs": [],
   "source": [
    "df_tracking = df_tracking.dropna(subset=['nflId'])"
   ]
  },
  {
   "cell_type": "code",
   "execution_count": 29,
   "metadata": {},
   "outputs": [],
   "source": [
    "df_tracking['nflId'] = df_tracking['nflId'].astype(int)\n",
    "df_players['nflId'] = df_players['nflId'].astype(int)"
   ]
  },
  {
   "cell_type": "code",
   "execution_count": 30,
   "metadata": {},
   "outputs": [],
   "source": [
    "track_pre = df_tracking.merge(df_players[['nflId','position']],how='left')"
   ]
  },
  {
   "cell_type": "code",
   "execution_count": 31,
   "metadata": {},
   "outputs": [
    {
     "data": {
      "text/html": [
       "<div>\n",
       "<style scoped>\n",
       "    .dataframe tbody tr th:only-of-type {\n",
       "        vertical-align: middle;\n",
       "    }\n",
       "\n",
       "    .dataframe tbody tr th {\n",
       "        vertical-align: top;\n",
       "    }\n",
       "\n",
       "    .dataframe thead th {\n",
       "        text-align: right;\n",
       "    }\n",
       "</style>\n",
       "<table border=\"1\" class=\"dataframe\">\n",
       "  <thead>\n",
       "    <tr style=\"text-align: right;\">\n",
       "      <th></th>\n",
       "      <th>gameId</th>\n",
       "      <th>playId</th>\n",
       "      <th>nflId</th>\n",
       "      <th>frameId</th>\n",
       "      <th>club</th>\n",
       "      <th>s</th>\n",
       "      <th>a</th>\n",
       "      <th>dis</th>\n",
       "      <th>x_standard</th>\n",
       "      <th>y_standard</th>\n",
       "      <th>position</th>\n",
       "    </tr>\n",
       "  </thead>\n",
       "  <tbody>\n",
       "    <tr>\n",
       "      <th>0</th>\n",
       "      <td>2022091200</td>\n",
       "      <td>64</td>\n",
       "      <td>35459</td>\n",
       "      <td>2</td>\n",
       "      <td>DEN</td>\n",
       "      <td>0.71</td>\n",
       "      <td>0.36</td>\n",
       "      <td>0.07</td>\n",
       "      <td>51.13</td>\n",
       "      <td>28.570000</td>\n",
       "      <td>SS</td>\n",
       "    </tr>\n",
       "    <tr>\n",
       "      <th>1</th>\n",
       "      <td>2022091200</td>\n",
       "      <td>64</td>\n",
       "      <td>35459</td>\n",
       "      <td>3</td>\n",
       "      <td>DEN</td>\n",
       "      <td>0.69</td>\n",
       "      <td>0.23</td>\n",
       "      <td>0.07</td>\n",
       "      <td>51.20</td>\n",
       "      <td>28.590000</td>\n",
       "      <td>SS</td>\n",
       "    </tr>\n",
       "    <tr>\n",
       "      <th>2</th>\n",
       "      <td>2022091200</td>\n",
       "      <td>64</td>\n",
       "      <td>35459</td>\n",
       "      <td>4</td>\n",
       "      <td>DEN</td>\n",
       "      <td>0.67</td>\n",
       "      <td>0.22</td>\n",
       "      <td>0.07</td>\n",
       "      <td>51.26</td>\n",
       "      <td>28.620000</td>\n",
       "      <td>SS</td>\n",
       "    </tr>\n",
       "    <tr>\n",
       "      <th>3</th>\n",
       "      <td>2022091200</td>\n",
       "      <td>64</td>\n",
       "      <td>35459</td>\n",
       "      <td>5</td>\n",
       "      <td>DEN</td>\n",
       "      <td>0.65</td>\n",
       "      <td>0.34</td>\n",
       "      <td>0.07</td>\n",
       "      <td>51.32</td>\n",
       "      <td>28.650000</td>\n",
       "      <td>SS</td>\n",
       "    </tr>\n",
       "    <tr>\n",
       "      <th>4</th>\n",
       "      <td>2022091200</td>\n",
       "      <td>64</td>\n",
       "      <td>35459</td>\n",
       "      <td>6</td>\n",
       "      <td>DEN</td>\n",
       "      <td>0.62</td>\n",
       "      <td>0.40</td>\n",
       "      <td>0.06</td>\n",
       "      <td>51.37</td>\n",
       "      <td>28.680000</td>\n",
       "      <td>SS</td>\n",
       "    </tr>\n",
       "    <tr>\n",
       "      <th>...</th>\n",
       "      <td>...</td>\n",
       "      <td>...</td>\n",
       "      <td>...</td>\n",
       "      <td>...</td>\n",
       "      <td>...</td>\n",
       "      <td>...</td>\n",
       "      <td>...</td>\n",
       "      <td>...</td>\n",
       "      <td>...</td>\n",
       "      <td>...</td>\n",
       "      <td>...</td>\n",
       "    </tr>\n",
       "    <tr>\n",
       "      <th>36742239</th>\n",
       "      <td>2022110300</td>\n",
       "      <td>3579</td>\n",
       "      <td>54663</td>\n",
       "      <td>21</td>\n",
       "      <td>PHI</td>\n",
       "      <td>0.01</td>\n",
       "      <td>0.01</td>\n",
       "      <td>0.00</td>\n",
       "      <td>43.81</td>\n",
       "      <td>19.563333</td>\n",
       "      <td>TE</td>\n",
       "    </tr>\n",
       "    <tr>\n",
       "      <th>36742240</th>\n",
       "      <td>2022110300</td>\n",
       "      <td>3579</td>\n",
       "      <td>54663</td>\n",
       "      <td>22</td>\n",
       "      <td>PHI</td>\n",
       "      <td>0.00</td>\n",
       "      <td>0.00</td>\n",
       "      <td>0.01</td>\n",
       "      <td>43.80</td>\n",
       "      <td>19.563333</td>\n",
       "      <td>TE</td>\n",
       "    </tr>\n",
       "    <tr>\n",
       "      <th>36742241</th>\n",
       "      <td>2022110300</td>\n",
       "      <td>3579</td>\n",
       "      <td>54663</td>\n",
       "      <td>23</td>\n",
       "      <td>PHI</td>\n",
       "      <td>0.01</td>\n",
       "      <td>0.01</td>\n",
       "      <td>0.01</td>\n",
       "      <td>43.81</td>\n",
       "      <td>19.573333</td>\n",
       "      <td>TE</td>\n",
       "    </tr>\n",
       "    <tr>\n",
       "      <th>36742242</th>\n",
       "      <td>2022110300</td>\n",
       "      <td>3579</td>\n",
       "      <td>54663</td>\n",
       "      <td>24</td>\n",
       "      <td>PHI</td>\n",
       "      <td>0.01</td>\n",
       "      <td>0.01</td>\n",
       "      <td>0.01</td>\n",
       "      <td>43.82</td>\n",
       "      <td>19.573333</td>\n",
       "      <td>TE</td>\n",
       "    </tr>\n",
       "    <tr>\n",
       "      <th>36742243</th>\n",
       "      <td>2022110300</td>\n",
       "      <td>3579</td>\n",
       "      <td>54663</td>\n",
       "      <td>25</td>\n",
       "      <td>PHI</td>\n",
       "      <td>0.01</td>\n",
       "      <td>0.01</td>\n",
       "      <td>0.00</td>\n",
       "      <td>43.82</td>\n",
       "      <td>19.573333</td>\n",
       "      <td>TE</td>\n",
       "    </tr>\n",
       "  </tbody>\n",
       "</table>\n",
       "<p>36742244 rows × 11 columns</p>\n",
       "</div>"
      ],
      "text/plain": [
       "              gameId  playId  nflId  frameId club     s     a   dis  \\\n",
       "0         2022091200      64  35459        2  DEN  0.71  0.36  0.07   \n",
       "1         2022091200      64  35459        3  DEN  0.69  0.23  0.07   \n",
       "2         2022091200      64  35459        4  DEN  0.67  0.22  0.07   \n",
       "3         2022091200      64  35459        5  DEN  0.65  0.34  0.07   \n",
       "4         2022091200      64  35459        6  DEN  0.62  0.40  0.06   \n",
       "...              ...     ...    ...      ...  ...   ...   ...   ...   \n",
       "36742239  2022110300    3579  54663       21  PHI  0.01  0.01  0.00   \n",
       "36742240  2022110300    3579  54663       22  PHI  0.00  0.00  0.01   \n",
       "36742241  2022110300    3579  54663       23  PHI  0.01  0.01  0.01   \n",
       "36742242  2022110300    3579  54663       24  PHI  0.01  0.01  0.01   \n",
       "36742243  2022110300    3579  54663       25  PHI  0.01  0.01  0.00   \n",
       "\n",
       "          x_standard  y_standard position  \n",
       "0              51.13   28.570000       SS  \n",
       "1              51.20   28.590000       SS  \n",
       "2              51.26   28.620000       SS  \n",
       "3              51.32   28.650000       SS  \n",
       "4              51.37   28.680000       SS  \n",
       "...              ...         ...      ...  \n",
       "36742239       43.81   19.563333       TE  \n",
       "36742240       43.80   19.563333       TE  \n",
       "36742241       43.81   19.573333       TE  \n",
       "36742242       43.82   19.573333       TE  \n",
       "36742243       43.82   19.573333       TE  \n",
       "\n",
       "[36742244 rows x 11 columns]"
      ]
     },
     "execution_count": 31,
     "metadata": {},
     "output_type": "execute_result"
    }
   ],
   "source": [
    "track_pre"
   ]
  },
  {
   "cell_type": "code",
   "execution_count": 32,
   "metadata": {},
   "outputs": [],
   "source": [
    "tracking_def = track_pre[track_pre.position.isin(['DE','DT','NT'])]"
   ]
  },
  {
   "cell_type": "code",
   "execution_count": 33,
   "metadata": {},
   "outputs": [],
   "source": [
    "df_ex = tracking_def[(tracking_def['gameId'] == 2022091103) & (tracking_def['playId'] == 1150)]"
   ]
  },
  {
   "cell_type": "code",
   "execution_count": 34,
   "metadata": {},
   "outputs": [],
   "source": [
    "mpd_df = df_ex.groupby(['frameId']).apply(lambda x: spatial.distance.pdist(np.array(list(zip(x.x_standard, x.y_standard)))).mean()).reset_index().rename(columns={0:'mean_pairwise_dist'})"
   ]
  },
  {
   "cell_type": "code",
   "execution_count": 35,
   "metadata": {},
   "outputs": [
    {
     "data": {
      "text/html": [
       "<div>\n",
       "<style scoped>\n",
       "    .dataframe tbody tr th:only-of-type {\n",
       "        vertical-align: middle;\n",
       "    }\n",
       "\n",
       "    .dataframe tbody tr th {\n",
       "        vertical-align: top;\n",
       "    }\n",
       "\n",
       "    .dataframe thead th {\n",
       "        text-align: right;\n",
       "    }\n",
       "</style>\n",
       "<table border=\"1\" class=\"dataframe\">\n",
       "  <thead>\n",
       "    <tr style=\"text-align: right;\">\n",
       "      <th></th>\n",
       "      <th>frameId</th>\n",
       "      <th>mean_pairwise_dist</th>\n",
       "    </tr>\n",
       "  </thead>\n",
       "  <tbody>\n",
       "    <tr>\n",
       "      <th>0</th>\n",
       "      <td>2</td>\n",
       "      <td>5.062969</td>\n",
       "    </tr>\n",
       "    <tr>\n",
       "      <th>1</th>\n",
       "      <td>3</td>\n",
       "      <td>5.129730</td>\n",
       "    </tr>\n",
       "    <tr>\n",
       "      <th>2</th>\n",
       "      <td>4</td>\n",
       "      <td>5.193898</td>\n",
       "    </tr>\n",
       "    <tr>\n",
       "      <th>3</th>\n",
       "      <td>5</td>\n",
       "      <td>5.261332</td>\n",
       "    </tr>\n",
       "    <tr>\n",
       "      <th>4</th>\n",
       "      <td>6</td>\n",
       "      <td>5.321382</td>\n",
       "    </tr>\n",
       "    <tr>\n",
       "      <th>...</th>\n",
       "      <td>...</td>\n",
       "      <td>...</td>\n",
       "    </tr>\n",
       "    <tr>\n",
       "      <th>103</th>\n",
       "      <td>105</td>\n",
       "      <td>5.274105</td>\n",
       "    </tr>\n",
       "    <tr>\n",
       "      <th>104</th>\n",
       "      <td>106</td>\n",
       "      <td>5.277162</td>\n",
       "    </tr>\n",
       "    <tr>\n",
       "      <th>105</th>\n",
       "      <td>107</td>\n",
       "      <td>5.285490</td>\n",
       "    </tr>\n",
       "    <tr>\n",
       "      <th>106</th>\n",
       "      <td>108</td>\n",
       "      <td>5.292211</td>\n",
       "    </tr>\n",
       "    <tr>\n",
       "      <th>107</th>\n",
       "      <td>109</td>\n",
       "      <td>5.283958</td>\n",
       "    </tr>\n",
       "  </tbody>\n",
       "</table>\n",
       "<p>108 rows × 2 columns</p>\n",
       "</div>"
      ],
      "text/plain": [
       "     frameId  mean_pairwise_dist\n",
       "0          2            5.062969\n",
       "1          3            5.129730\n",
       "2          4            5.193898\n",
       "3          5            5.261332\n",
       "4          6            5.321382\n",
       "..       ...                 ...\n",
       "103      105            5.274105\n",
       "104      106            5.277162\n",
       "105      107            5.285490\n",
       "106      108            5.292211\n",
       "107      109            5.283958\n",
       "\n",
       "[108 rows x 2 columns]"
      ]
     },
     "execution_count": 35,
     "metadata": {},
     "output_type": "execute_result"
    }
   ],
   "source": [
    "mpd_df"
   ]
  },
  {
   "cell_type": "code",
   "execution_count": 37,
   "metadata": {},
   "outputs": [
    {
     "data": {
      "text/plain": [
       "array([  2,   3,   4,   5,   6,   7,   8,   9,  10,  11,  12,  13,  14,\n",
       "        15,  16,  17,  18,  19,  20,  21,  22,  23,  24,  25,  26,  27,\n",
       "        28,  29,  30,  31,  32,  33,  34,  35,  36,  37,  38,  39,  40,\n",
       "        41,  42,  43,  44,  45,  46,  47,  48,  49,  50,  51,  52,  53,\n",
       "        54,  55,  56,  57,  58,  59,  60,  61,  62,  63,  64,  65,  66,\n",
       "        67,  68,  69,  70,  71,  72,  73,  74,  75,  76,  77,  78,  79,\n",
       "        80,  81,  82,  83,  84,  85,  86,  87,  88,  89,  90,  91,  92,\n",
       "        93,  94,  95,  96,  97,  98,  99, 100, 101, 102, 103, 104, 105,\n",
       "       106, 107, 108, 109])"
      ]
     },
     "execution_count": 37,
     "metadata": {},
     "output_type": "execute_result"
    }
   ],
   "source": [
    "mpd_df['frameId'].values"
   ]
  },
  {
   "cell_type": "code",
   "execution_count": 38,
   "metadata": {},
   "outputs": [
    {
     "ename": "NameError",
     "evalue": "name 'y' is not defined",
     "output_type": "error",
     "traceback": [
      "\u001b[0;31m---------------------------------------------------------------------------\u001b[0m",
      "\u001b[0;31mNameError\u001b[0m                                 Traceback (most recent call last)",
      "Cell \u001b[0;32mIn[38], line 1\u001b[0m\n\u001b[0;32m----> 1\u001b[0m np\u001b[38;5;241m.\u001b[39mmin(\u001b[43my\u001b[49m)\n",
      "\u001b[0;31mNameError\u001b[0m: name 'y' is not defined"
     ]
    }
   ],
   "source": [
    "np.min(y)"
   ]
  },
  {
   "cell_type": "code",
   "execution_count": 39,
   "metadata": {},
   "outputs": [
    {
     "data": {
      "image/png": "[encoded data removed]",
      "text/plain": [
       "<Figure size 600x600 with 1 Axes>"
      ]
     },
     "metadata": {},
     "output_type": "display_data"
    }
   ],
   "source": [
    "import numpy as np\n",
    "import matplotlib.pyplot as plt\n",
    "from matplotlib import animation\n",
    "\n",
    "x = mpd_df['frameId'].values\n",
    "y = mpd_df['mean_pairwise_dist'].values\n",
    "\n",
    "fig, ax = plt.subplots(1, 1, figsize = (6, 6))\n",
    "\n",
    "def animate(i):\n",
    "    ax.cla() # clear the previous image\n",
    "    ax.plot(x[:i], y[:i]) # plot the line\n",
    "    ax.set_xlim([2, 109]) # fix the x axis\n",
    "    ax.set_ylim([.9*np.min(y), 1.1*np.max(y)]) # fix the y axis\n",
    "    ax.set_ylabel('Defensive Congestion Index')\n",
    "    ax.set_xlabel('Frame')\n",
    "    ax.set_title('Defensive Congestion Index (by frame)')\n",
    "    #ax.set_xticks([1,2,3,4,5])\n",
    "\n",
    "anim = animation.FuncAnimation(fig, animate, frames = len(x) + 1, interval = 1, blit = False)\n",
    "plt.show()\n",
    "\n",
    "# To save the animation using Pillow as a gif\n",
    "writer = animation.PillowWriter(fps=15,\n",
    "                                 metadata=dict(artist='Me'),\n",
    "                                 bitrate=1800)\n",
    "anim.save('image/line.gif', writer=writer)\n",
    "\n",
    "\n",
    "#plt.show()"
   ]
  },
  {
   "cell_type": "code",
   "execution_count": 40,
   "metadata": {},
   "outputs": [
    {
     "data": {
      "text/plain": [
       "'\\ndt = 0.01\\ntfinal = 1\\nx0 = 0\\n\\nsqrtdt = np.sqrt(dt)\\nn = int(tfinal/dt)\\nxtraj = np.zeros(n+1, float)\\ntrange = np.linspace(start=0,stop=tfinal ,num=n+1)\\nxtraj[0] = x0\\n\\nfor i in range(n):\\n    xtraj[i+1] = xtraj[i] + np.random.normal()\\n\\nx = trange\\ny = xtraj\\n\\n# animation line plot example\\n\\nprint(len(x),len(y),x)\\n\\n'"
      ]
     },
     "execution_count": 40,
     "metadata": {},
     "output_type": "execute_result"
    }
   ],
   "source": [
    "'''\n",
    "dt = 0.01\n",
    "tfinal = 1\n",
    "x0 = 0\n",
    "\n",
    "sqrtdt = np.sqrt(dt)\n",
    "n = int(tfinal/dt)\n",
    "xtraj = np.zeros(n+1, float)\n",
    "trange = np.linspace(start=0,stop=tfinal ,num=n+1)\n",
    "xtraj[0] = x0\n",
    "\n",
    "for i in range(n):\n",
    "    xtraj[i+1] = xtraj[i] + np.random.normal()\n",
    "\n",
    "x = trange\n",
    "y = xtraj\n",
    "\n",
    "# animation line plot example\n",
    "\n",
    "print(len(x),len(y),x)\n",
    "\n",
    "'''"
   ]
  },
  {
   "cell_type": "code",
   "execution_count": 41,
   "metadata": {},
   "outputs": [],
   "source": [
    "import imageio"
   ]
  },
  {
   "cell_type": "code",
   "execution_count": 42,
   "metadata": {},
   "outputs": [],
   "source": [
    "def combine_gifs(gif1_path, gif2_path, output_path):\n",
    "    # Read GIFs\n",
    "    gif1 = imageio.get_reader(gif1_path)\n",
    "    gif2 = imageio.get_reader(gif2_path)\n",
    "\n",
    "    # Get frame duration (assuming both GIFs have the same frame duration)\n",
    "    duration = gif1.get_meta_data()[\"duration\"]\n",
    "\n",
    "    # Create a writer for the combined GIF\n",
    "    combined_gif_writer = imageio.get_writer(output_path, duration=duration, loop=0)\n",
    "\n",
    "    combined_frame = None\n",
    "    # Combine frames side by side and write\n",
    "    for frame1, frame2 in zip(gif1, gif2):\n",
    "        combined_frame = imageio.core.util.Image(\n",
    "            np.concatenate([frame2, frame1], axis=1)\n",
    "        )\n",
    "        combined_gif_writer.append_data(combined_frame)\n",
    "\n",
    "    # pause on the last frame for 5 frames\n",
    "    for i in range(5):\n",
    "        combined_gif_writer.append_data(combined_frame)\n",
    "\n",
    "    # Close\n",
    "    combined_gif_writer.close()\n",
    "    gif1.close()\n",
    "    gif2.close()\n",
    "\n"
   ]
  },
  {
   "cell_type": "code",
   "execution_count": 43,
   "metadata": {},
   "outputs": [],
   "source": [
    "gif1 = imageio.get_reader('image/harris.gif')\n",
    "gif2 = imageio.get_reader('image/line.gif')"
   ]
  },
  {
   "cell_type": "code",
   "execution_count": 44,
   "metadata": {},
   "outputs": [],
   "source": [
    "combine_gifs('image/line.gif','image/harris.gif','image/comb.gif')"
   ]
  }
 ],
 "metadata": {
  "kaggle": {
   "accelerator": "none",
   "dataSources": [
    {
     "databundleVersionId": 9816926,
     "sourceId": 84175,
     "sourceType": "competition"
    }
   ],
   "dockerImageVersionId": 30786,
   "isGpuEnabled": false,
   "isInternetEnabled": true,
   "language": "python",
   "sourceType": "notebook"
  },
  "kernelspec": {
   "display_name": ".venv",
   "language": "python",
   "name": "python3"
  },
  "language_info": {
   "codemirror_mode": {
    "name": "ipython",
    "version": 3
   },
   "file_extension": ".py",
   "mimetype": "text/x-python",
   "name": "python",
   "nbconvert_exporter": "python",
   "pygments_lexer": "ipython3",
   "version": "3.9.15"
  }
 },
 "nbformat": 4,
 "nbformat_minor": 4
}
