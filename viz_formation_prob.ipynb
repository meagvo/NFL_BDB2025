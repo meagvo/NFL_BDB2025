{
 "cells": [
  {
   "cell_type": "code",
   "execution_count": 1,
   "metadata": {},
   "outputs": [],
   "source": [
    "import pandas as pd\n",
    "import os\n",
    "from utility_db_25 import get_motion_cols, get_momentum_cols, create_momentum_index, motion_complexity_score\n",
    "import lightgbm"
   ]
  },
  {
   "cell_type": "code",
   "execution_count": 2,
   "metadata": {},
   "outputs": [],
   "source": [
    "root_dir = os.getcwd()"
   ]
  },
  {
   "cell_type": "code",
   "execution_count": 3,
   "metadata": {},
   "outputs": [],
   "source": [
    "train_data=pd.read_csv(os.path.join(root_dir, \"data/train_data.csv\"))"
   ]
  },
  {
   "cell_type": "code",
   "execution_count": 4,
   "metadata": {},
   "outputs": [],
   "source": [
    "last_team = train_data['possessionTeam'][0] # monitor what the last team updated was, implies switch if different\n",
    "last_game = train_data['gameId'][0]\n",
    "pnum=0 # play number of drive\n",
    "pc = 0 # pass count\n",
    "pnum_ls = [] # play number list\n",
    "\n",
    "# loop over plays\n",
    "for index, row in train_data.iterrows():\n",
    "\n",
    "    curr_team = row['possessionTeam']\n",
    "    curr_game = row['gameId']\n",
    "\n",
    "    # if we've switched teams, reset drive tracking info/add last drive's info to running list\n",
    "    if (last_team != curr_team) | (last_game != curr_game):\n",
    "\n",
    "        # reset pass count, play number for drive\n",
    "        last_team = curr_team # reset team to know we're on current drive now\n",
    "        pc = 0 # reset pass count, etc.\n",
    "        pnum = 0\n",
    "        \n",
    "        if last_game != curr_game:\n",
    "            last_game = curr_game\n",
    "\n",
    "    # update current drive's play count/pass rate\n",
    "    if row['pass']:\n",
    "        pc+=1\n",
    "    pnum += 1\n",
    "    pr = pc/pnum\n",
    "    \n",
    "    # update pass rate, play number, possession, etc. for current drive\n",
    "    pnum_ls.append(pnum)"
   ]
  },
  {
   "cell_type": "code",
   "execution_count": 5,
   "metadata": {},
   "outputs": [],
   "source": [
    "train_data['drive_play_num'] = pnum_ls"
   ]
  },
  {
   "cell_type": "code",
   "execution_count": 6,
   "metadata": {},
   "outputs": [],
   "source": [
    "td_ds = train_data[train_data['drive_play_num'] == 1][['gameId','playId','possessionTeam','drive_play_num']].copy() # drive starts"
   ]
  },
  {
   "cell_type": "code",
   "execution_count": 7,
   "metadata": {},
   "outputs": [],
   "source": [
    "td_ds['drive_num'] = td_ds.groupby(['gameId','possessionTeam'])['drive_play_num'].cumsum()"
   ]
  },
  {
   "cell_type": "code",
   "execution_count": 8,
   "metadata": {},
   "outputs": [],
   "source": [
    "train_data = train_data.merge(td_ds[['gameId','playId','possessionTeam','drive_num']],how='left',on=['gameId','playId','possessionTeam'])"
   ]
  },
  {
   "cell_type": "code",
   "execution_count": 9,
   "metadata": {},
   "outputs": [],
   "source": [
    "train_data['drive_num'] = train_data['drive_num'].ffill()"
   ]
  },
  {
   "cell_type": "code",
   "execution_count": 10,
   "metadata": {},
   "outputs": [],
   "source": [
    "long_drives = train_data.groupby(['gameId','possessionTeam','drive_num'])['drive_play_num'].max().reset_index().sort_values(by='drive_play_num',ascending=False)"
   ]
  },
  {
   "cell_type": "code",
   "execution_count": 11,
   "metadata": {},
   "outputs": [
    {
     "data": {
      "text/html": [
       "<div>\n",
       "<style scoped>\n",
       "    .dataframe tbody tr th:only-of-type {\n",
       "        vertical-align: middle;\n",
       "    }\n",
       "\n",
       "    .dataframe tbody tr th {\n",
       "        vertical-align: top;\n",
       "    }\n",
       "\n",
       "    .dataframe thead th {\n",
       "        text-align: right;\n",
       "    }\n",
       "</style>\n",
       "<table border=\"1\" class=\"dataframe\">\n",
       "  <thead>\n",
       "    <tr style=\"text-align: right;\">\n",
       "      <th></th>\n",
       "      <th>gameId</th>\n",
       "      <th>possessionTeam</th>\n",
       "      <th>drive_num</th>\n",
       "      <th>drive_play_num</th>\n",
       "    </tr>\n",
       "  </thead>\n",
       "  <tbody>\n",
       "    <tr>\n",
       "      <th>2401</th>\n",
       "      <td>2022103008</td>\n",
       "      <td>PIT</td>\n",
       "      <td>7.0</td>\n",
       "      <td>12</td>\n",
       "    </tr>\n",
       "    <tr>\n",
       "      <th>482</th>\n",
       "      <td>2022091805</td>\n",
       "      <td>NYG</td>\n",
       "      <td>2.0</td>\n",
       "      <td>12</td>\n",
       "    </tr>\n",
       "    <tr>\n",
       "      <th>976</th>\n",
       "      <td>2022092600</td>\n",
       "      <td>NYG</td>\n",
       "      <td>2.0</td>\n",
       "      <td>12</td>\n",
       "    </tr>\n",
       "    <tr>\n",
       "      <th>1290</th>\n",
       "      <td>2022100213</td>\n",
       "      <td>TB</td>\n",
       "      <td>5.0</td>\n",
       "      <td>12</td>\n",
       "    </tr>\n",
       "    <tr>\n",
       "      <th>492</th>\n",
       "      <td>2022091806</td>\n",
       "      <td>NE</td>\n",
       "      <td>1.0</td>\n",
       "      <td>12</td>\n",
       "    </tr>\n",
       "    <tr>\n",
       "      <th>2451</th>\n",
       "      <td>2022103011</td>\n",
       "      <td>NYG</td>\n",
       "      <td>7.0</td>\n",
       "      <td>12</td>\n",
       "    </tr>\n",
       "    <tr>\n",
       "      <th>1620</th>\n",
       "      <td>2022100913</td>\n",
       "      <td>CIN</td>\n",
       "      <td>9.0</td>\n",
       "      <td>12</td>\n",
       "    </tr>\n",
       "    <tr>\n",
       "      <th>500</th>\n",
       "      <td>2022091806</td>\n",
       "      <td>NE</td>\n",
       "      <td>9.0</td>\n",
       "      <td>12</td>\n",
       "    </tr>\n",
       "    <tr>\n",
       "      <th>1802</th>\n",
       "      <td>2022101606</td>\n",
       "      <td>NYG</td>\n",
       "      <td>7.0</td>\n",
       "      <td>12</td>\n",
       "    </tr>\n",
       "    <tr>\n",
       "      <th>643</th>\n",
       "      <td>2022092200</td>\n",
       "      <td>CLE</td>\n",
       "      <td>4.0</td>\n",
       "      <td>12</td>\n",
       "    </tr>\n",
       "    <tr>\n",
       "      <th>2272</th>\n",
       "      <td>2022103002</td>\n",
       "      <td>CHI</td>\n",
       "      <td>2.0</td>\n",
       "      <td>12</td>\n",
       "    </tr>\n",
       "    <tr>\n",
       "      <th>1931</th>\n",
       "      <td>2022102000</td>\n",
       "      <td>ARI</td>\n",
       "      <td>6.0</td>\n",
       "      <td>12</td>\n",
       "    </tr>\n",
       "    <tr>\n",
       "      <th>1020</th>\n",
       "      <td>2022100200</td>\n",
       "      <td>NO</td>\n",
       "      <td>3.0</td>\n",
       "      <td>12</td>\n",
       "    </tr>\n",
       "    <tr>\n",
       "      <th>1186</th>\n",
       "      <td>2022100208</td>\n",
       "      <td>NYG</td>\n",
       "      <td>9.0</td>\n",
       "      <td>12</td>\n",
       "    </tr>\n",
       "    <tr>\n",
       "      <th>1952</th>\n",
       "      <td>2022102300</td>\n",
       "      <td>BAL</td>\n",
       "      <td>7.0</td>\n",
       "      <td>12</td>\n",
       "    </tr>\n",
       "    <tr>\n",
       "      <th>1655</th>\n",
       "      <td>2022101300</td>\n",
       "      <td>WAS</td>\n",
       "      <td>7.0</td>\n",
       "      <td>12</td>\n",
       "    </tr>\n",
       "    <tr>\n",
       "      <th>1510</th>\n",
       "      <td>2022100908</td>\n",
       "      <td>ATL</td>\n",
       "      <td>9.0</td>\n",
       "      <td>12</td>\n",
       "    </tr>\n",
       "    <tr>\n",
       "      <th>116</th>\n",
       "      <td>2022091104</td>\n",
       "      <td>DET</td>\n",
       "      <td>5.0</td>\n",
       "      <td>12</td>\n",
       "    </tr>\n",
       "    <tr>\n",
       "      <th>947</th>\n",
       "      <td>2022092513</td>\n",
       "      <td>DEN</td>\n",
       "      <td>12.0</td>\n",
       "      <td>12</td>\n",
       "    </tr>\n",
       "    <tr>\n",
       "      <th>537</th>\n",
       "      <td>2022091809</td>\n",
       "      <td>DAL</td>\n",
       "      <td>1.0</td>\n",
       "      <td>12</td>\n",
       "    </tr>\n",
       "    <tr>\n",
       "      <th>1514</th>\n",
       "      <td>2022100908</td>\n",
       "      <td>TB</td>\n",
       "      <td>4.0</td>\n",
       "      <td>12</td>\n",
       "    </tr>\n",
       "    <tr>\n",
       "      <th>539</th>\n",
       "      <td>2022091809</td>\n",
       "      <td>DAL</td>\n",
       "      <td>3.0</td>\n",
       "      <td>12</td>\n",
       "    </tr>\n",
       "    <tr>\n",
       "      <th>877</th>\n",
       "      <td>2022092509</td>\n",
       "      <td>LAC</td>\n",
       "      <td>10.0</td>\n",
       "      <td>12</td>\n",
       "    </tr>\n",
       "    <tr>\n",
       "      <th>423</th>\n",
       "      <td>2022091802</td>\n",
       "      <td>WAS</td>\n",
       "      <td>11.0</td>\n",
       "      <td>12</td>\n",
       "    </tr>\n",
       "    <tr>\n",
       "      <th>1024</th>\n",
       "      <td>2022100200</td>\n",
       "      <td>NO</td>\n",
       "      <td>7.0</td>\n",
       "      <td>12</td>\n",
       "    </tr>\n",
       "  </tbody>\n",
       "</table>\n",
       "</div>"
      ],
      "text/plain": [
       "          gameId possessionTeam  drive_num  drive_play_num\n",
       "2401  2022103008            PIT        7.0              12\n",
       "482   2022091805            NYG        2.0              12\n",
       "976   2022092600            NYG        2.0              12\n",
       "1290  2022100213             TB        5.0              12\n",
       "492   2022091806             NE        1.0              12\n",
       "2451  2022103011            NYG        7.0              12\n",
       "1620  2022100913            CIN        9.0              12\n",
       "500   2022091806             NE        9.0              12\n",
       "1802  2022101606            NYG        7.0              12\n",
       "643   2022092200            CLE        4.0              12\n",
       "2272  2022103002            CHI        2.0              12\n",
       "1931  2022102000            ARI        6.0              12\n",
       "1020  2022100200             NO        3.0              12\n",
       "1186  2022100208            NYG        9.0              12\n",
       "1952  2022102300            BAL        7.0              12\n",
       "1655  2022101300            WAS        7.0              12\n",
       "1510  2022100908            ATL        9.0              12\n",
       "116   2022091104            DET        5.0              12\n",
       "947   2022092513            DEN       12.0              12\n",
       "537   2022091809            DAL        1.0              12\n",
       "1514  2022100908             TB        4.0              12\n",
       "539   2022091809            DAL        3.0              12\n",
       "877   2022092509            LAC       10.0              12\n",
       "423   2022091802            WAS       11.0              12\n",
       "1024  2022100200             NO        7.0              12"
      ]
     },
     "execution_count": 11,
     "metadata": {},
     "output_type": "execute_result"
    }
   ],
   "source": [
    "long_drives.iloc[135:160,:]"
   ]
  },
  {
   "cell_type": "code",
   "execution_count": 12,
   "metadata": {},
   "outputs": [],
   "source": [
    "motion_cols,rb_mot=get_motion_cols(train_data.columns)\n",
    "momentum_cols,rb_mom=get_momentum_cols(train_data.columns)\n",
    "train_data=create_momentum_index(train_data, momentum_cols,rb_mot)\n",
    "train_data=motion_complexity_score(train_data, motion_cols,rb_mom)"
   ]
  },
  {
   "cell_type": "code",
   "execution_count": 13,
   "metadata": {},
   "outputs": [
    {
     "name": "stdout",
     "output_type": "stream",
     "text": [
      "[LightGBM] [Info] Number of positive: 8801, number of negative: 5755\n",
      "[LightGBM] [Info] Auto-choosing row-wise multi-threading, the overhead of testing was 0.001753 seconds.\n",
      "You can set `force_row_wise=true` to remove the overhead.\n",
      "And if memory is not enough, you can set `force_col_wise=true`.\n",
      "[LightGBM] [Info] Total Bins 784\n",
      "[LightGBM] [Info] Number of data points in the train set: 14556, number of used features: 6\n",
      "[LightGBM] [Info] [binary:BoostFromScore]: pavg=0.604630 -> initscore=0.424796\n",
      "[LightGBM] [Info] Start training from score 0.424796\n",
      "[LightGBM] [Warning] No further splits with positive gain, best gain: -inf\n",
      "[LightGBM] [Warning] No further splits with positive gain, best gain: -inf\n",
      "[LightGBM] [Warning] No further splits with positive gain, best gain: -inf\n",
      "[LightGBM] [Warning] No further splits with positive gain, best gain: -inf\n",
      "[LightGBM] [Warning] No further splits with positive gain, best gain: -inf\n",
      "[LightGBM] [Warning] No further splits with positive gain, best gain: -inf\n",
      "[LightGBM] [Warning] No further splits with positive gain, best gain: -inf\n",
      "[LightGBM] [Warning] No further splits with positive gain, best gain: -inf\n",
      "[LightGBM] [Warning] No further splits with positive gain, best gain: -inf\n",
      "[LightGBM] [Warning] No further splits with positive gain, best gain: -inf\n",
      "[LightGBM] [Warning] No further splits with positive gain, best gain: -inf\n",
      "[LightGBM] [Warning] No further splits with positive gain, best gain: -inf\n",
      "[LightGBM] [Warning] No further splits with positive gain, best gain: -inf\n",
      "[LightGBM] [Warning] No further splits with positive gain, best gain: -inf\n",
      "[LightGBM] [Warning] No further splits with positive gain, best gain: -inf\n",
      "[LightGBM] [Warning] No further splits with positive gain, best gain: -inf\n",
      "[LightGBM] [Warning] No further splits with positive gain, best gain: -inf\n",
      "[LightGBM] [Warning] No further splits with positive gain, best gain: -inf\n",
      "[LightGBM] [Warning] No further splits with positive gain, best gain: -inf\n",
      "[LightGBM] [Warning] No further splits with positive gain, best gain: -inf\n",
      "[LightGBM] [Warning] No further splits with positive gain, best gain: -inf\n",
      "[LightGBM] [Warning] No further splits with positive gain, best gain: -inf\n",
      "[LightGBM] [Warning] No further splits with positive gain, best gain: -inf\n",
      "[LightGBM] [Warning] No further splits with positive gain, best gain: -inf\n",
      "[LightGBM] [Warning] No further splits with positive gain, best gain: -inf\n",
      "[LightGBM] [Warning] No further splits with positive gain, best gain: -inf\n",
      "[LightGBM] [Warning] No further splits with positive gain, best gain: -inf\n",
      "[LightGBM] [Warning] No further splits with positive gain, best gain: -inf\n",
      "[LightGBM] [Warning] No further splits with positive gain, best gain: -inf\n",
      "[LightGBM] [Warning] No further splits with positive gain, best gain: -inf\n",
      "[LightGBM] [Warning] No further splits with positive gain, best gain: -inf\n",
      "[LightGBM] [Warning] No further splits with positive gain, best gain: -inf\n",
      "[LightGBM] [Warning] No further splits with positive gain, best gain: -inf\n",
      "[LightGBM] [Warning] No further splits with positive gain, best gain: -inf\n",
      "[LightGBM] [Warning] No further splits with positive gain, best gain: -inf\n",
      "[LightGBM] [Warning] No further splits with positive gain, best gain: -inf\n",
      "[LightGBM] [Warning] No further splits with positive gain, best gain: -inf\n",
      "[LightGBM] [Warning] No further splits with positive gain, best gain: -inf\n",
      "[LightGBM] [Warning] No further splits with positive gain, best gain: -inf\n",
      "[LightGBM] [Warning] No further splits with positive gain, best gain: -inf\n",
      "[LightGBM] [Warning] No further splits with positive gain, best gain: -inf\n",
      "[LightGBM] [Warning] No further splits with positive gain, best gain: -inf\n",
      "[LightGBM] [Warning] No further splits with positive gain, best gain: -inf\n",
      "[LightGBM] [Warning] No further splits with positive gain, best gain: -inf\n",
      "[LightGBM] [Warning] No further splits with positive gain, best gain: -inf\n",
      "[LightGBM] [Warning] No further splits with positive gain, best gain: -inf\n",
      "[LightGBM] [Warning] No further splits with positive gain, best gain: -inf\n",
      "[LightGBM] [Warning] No further splits with positive gain, best gain: -inf\n",
      "[LightGBM] [Warning] No further splits with positive gain, best gain: -inf\n",
      "[LightGBM] [Warning] No further splits with positive gain, best gain: -inf\n",
      "[LightGBM] [Warning] No further splits with positive gain, best gain: -inf\n",
      "[LightGBM] [Warning] No further splits with positive gain, best gain: -inf\n",
      "[LightGBM] [Warning] No further splits with positive gain, best gain: -inf\n",
      "[LightGBM] [Warning] No further splits with positive gain, best gain: -inf\n",
      "[LightGBM] [Warning] No further splits with positive gain, best gain: -inf\n",
      "[LightGBM] [Warning] No further splits with positive gain, best gain: -inf\n",
      "[LightGBM] [Warning] No further splits with positive gain, best gain: -inf\n",
      "[LightGBM] [Warning] No further splits with positive gain, best gain: -inf\n",
      "[LightGBM] [Warning] No further splits with positive gain, best gain: -inf\n",
      "[LightGBM] [Warning] No further splits with positive gain, best gain: -inf\n",
      "[LightGBM] [Warning] No further splits with positive gain, best gain: -inf\n",
      "[LightGBM] [Warning] No further splits with positive gain, best gain: -inf\n",
      "[LightGBM] [Warning] No further splits with positive gain, best gain: -inf\n",
      "[LightGBM] [Warning] No further splits with positive gain, best gain: -inf\n",
      "[LightGBM] [Warning] No further splits with positive gain, best gain: -inf\n",
      "[LightGBM] [Warning] No further splits with positive gain, best gain: -inf\n",
      "[LightGBM] [Warning] No further splits with positive gain, best gain: -inf\n",
      "[LightGBM] [Warning] No further splits with positive gain, best gain: -inf\n",
      "[LightGBM] [Warning] No further splits with positive gain, best gain: -inf\n",
      "[LightGBM] [Warning] No further splits with positive gain, best gain: -inf\n",
      "[LightGBM] [Warning] No further splits with positive gain, best gain: -inf\n",
      "[LightGBM] [Warning] No further splits with positive gain, best gain: -inf\n",
      "[LightGBM] [Warning] No further splits with positive gain, best gain: -inf\n",
      "[LightGBM] [Warning] No further splits with positive gain, best gain: -inf\n",
      "[LightGBM] [Warning] No further splits with positive gain, best gain: -inf\n"
     ]
    },
    {
     "data": {
      "text/html": [
       "<style>#sk-container-id-1 {\n",
       "  /* Definition of color scheme common for light and dark mode */\n",
       "  --sklearn-color-text: black;\n",
       "  --sklearn-color-line: gray;\n",
       "  /* Definition of color scheme for unfitted estimators */\n",
       "  --sklearn-color-unfitted-level-0: #fff5e6;\n",
       "  --sklearn-color-unfitted-level-1: #f6e4d2;\n",
       "  --sklearn-color-unfitted-level-2: #ffe0b3;\n",
       "  --sklearn-color-unfitted-level-3: chocolate;\n",
       "  /* Definition of color scheme for fitted estimators */\n",
       "  --sklearn-color-fitted-level-0: #f0f8ff;\n",
       "  --sklearn-color-fitted-level-1: #d4ebff;\n",
       "  --sklearn-color-fitted-level-2: #b3dbfd;\n",
       "  --sklearn-color-fitted-level-3: cornflowerblue;\n",
       "\n",
       "  /* Specific color for light theme */\n",
       "  --sklearn-color-text-on-default-background: var(--sg-text-color, var(--theme-code-foreground, var(--jp-content-font-color1, black)));\n",
       "  --sklearn-color-background: var(--sg-background-color, var(--theme-background, var(--jp-layout-color0, white)));\n",
       "  --sklearn-color-border-box: var(--sg-text-color, var(--theme-code-foreground, var(--jp-content-font-color1, black)));\n",
       "  --sklearn-color-icon: #696969;\n",
       "\n",
       "  @media (prefers-color-scheme: dark) {\n",
       "    /* Redefinition of color scheme for dark theme */\n",
       "    --sklearn-color-text-on-default-background: var(--sg-text-color, var(--theme-code-foreground, var(--jp-content-font-color1, white)));\n",
       "    --sklearn-color-background: var(--sg-background-color, var(--theme-background, var(--jp-layout-color0, #111)));\n",
       "    --sklearn-color-border-box: var(--sg-text-color, var(--theme-code-foreground, var(--jp-content-font-color1, white)));\n",
       "    --sklearn-color-icon: #878787;\n",
       "  }\n",
       "}\n",
       "\n",
       "#sk-container-id-1 {\n",
       "  color: var(--sklearn-color-text);\n",
       "}\n",
       "\n",
       "#sk-container-id-1 pre {\n",
       "  padding: 0;\n",
       "}\n",
       "\n",
       "#sk-container-id-1 input.sk-hidden--visually {\n",
       "  border: 0;\n",
       "  clip: rect(1px 1px 1px 1px);\n",
       "  clip: rect(1px, 1px, 1px, 1px);\n",
       "  height: 1px;\n",
       "  margin: -1px;\n",
       "  overflow: hidden;\n",
       "  padding: 0;\n",
       "  position: absolute;\n",
       "  width: 1px;\n",
       "}\n",
       "\n",
       "#sk-container-id-1 div.sk-dashed-wrapped {\n",
       "  border: 1px dashed var(--sklearn-color-line);\n",
       "  margin: 0 0.4em 0.5em 0.4em;\n",
       "  box-sizing: border-box;\n",
       "  padding-bottom: 0.4em;\n",
       "  background-color: var(--sklearn-color-background);\n",
       "}\n",
       "\n",
       "#sk-container-id-1 div.sk-container {\n",
       "  /* jupyter's `normalize.less` sets `[hidden] { display: none; }`\n",
       "     but bootstrap.min.css set `[hidden] { display: none !important; }`\n",
       "     so we also need the `!important` here to be able to override the\n",
       "     default hidden behavior on the sphinx rendered scikit-learn.org.\n",
       "     See: https://github.com/scikit-learn/scikit-learn/issues/21755 */\n",
       "  display: inline-block !important;\n",
       "  position: relative;\n",
       "}\n",
       "\n",
       "#sk-container-id-1 div.sk-text-repr-fallback {\n",
       "  display: none;\n",
       "}\n",
       "\n",
       "div.sk-parallel-item,\n",
       "div.sk-serial,\n",
       "div.sk-item {\n",
       "  /* draw centered vertical line to link estimators */\n",
       "  background-image: linear-gradient(var(--sklearn-color-text-on-default-background), var(--sklearn-color-text-on-default-background));\n",
       "  background-size: 2px 100%;\n",
       "  background-repeat: no-repeat;\n",
       "  background-position: center center;\n",
       "}\n",
       "\n",
       "/* Parallel-specific style estimator block */\n",
       "\n",
       "#sk-container-id-1 div.sk-parallel-item::after {\n",
       "  content: \"\";\n",
       "  width: 100%;\n",
       "  border-bottom: 2px solid var(--sklearn-color-text-on-default-background);\n",
       "  flex-grow: 1;\n",
       "}\n",
       "\n",
       "#sk-container-id-1 div.sk-parallel {\n",
       "  display: flex;\n",
       "  align-items: stretch;\n",
       "  justify-content: center;\n",
       "  background-color: var(--sklearn-color-background);\n",
       "  position: relative;\n",
       "}\n",
       "\n",
       "#sk-container-id-1 div.sk-parallel-item {\n",
       "  display: flex;\n",
       "  flex-direction: column;\n",
       "}\n",
       "\n",
       "#sk-container-id-1 div.sk-parallel-item:first-child::after {\n",
       "  align-self: flex-end;\n",
       "  width: 50%;\n",
       "}\n",
       "\n",
       "#sk-container-id-1 div.sk-parallel-item:last-child::after {\n",
       "  align-self: flex-start;\n",
       "  width: 50%;\n",
       "}\n",
       "\n",
       "#sk-container-id-1 div.sk-parallel-item:only-child::after {\n",
       "  width: 0;\n",
       "}\n",
       "\n",
       "/* Serial-specific style estimator block */\n",
       "\n",
       "#sk-container-id-1 div.sk-serial {\n",
       "  display: flex;\n",
       "  flex-direction: column;\n",
       "  align-items: center;\n",
       "  background-color: var(--sklearn-color-background);\n",
       "  padding-right: 1em;\n",
       "  padding-left: 1em;\n",
       "}\n",
       "\n",
       "\n",
       "/* Toggleable style: style used for estimator/Pipeline/ColumnTransformer box that is\n",
       "clickable and can be expanded/collapsed.\n",
       "- Pipeline and ColumnTransformer use this feature and define the default style\n",
       "- Estimators will overwrite some part of the style using the `sk-estimator` class\n",
       "*/\n",
       "\n",
       "/* Pipeline and ColumnTransformer style (default) */\n",
       "\n",
       "#sk-container-id-1 div.sk-toggleable {\n",
       "  /* Default theme specific background. It is overwritten whether we have a\n",
       "  specific estimator or a Pipeline/ColumnTransformer */\n",
       "  background-color: var(--sklearn-color-background);\n",
       "}\n",
       "\n",
       "/* Toggleable label */\n",
       "#sk-container-id-1 label.sk-toggleable__label {\n",
       "  cursor: pointer;\n",
       "  display: block;\n",
       "  width: 100%;\n",
       "  margin-bottom: 0;\n",
       "  padding: 0.5em;\n",
       "  box-sizing: border-box;\n",
       "  text-align: center;\n",
       "}\n",
       "\n",
       "#sk-container-id-1 label.sk-toggleable__label-arrow:before {\n",
       "  /* Arrow on the left of the label */\n",
       "  content: \"▸\";\n",
       "  float: left;\n",
       "  margin-right: 0.25em;\n",
       "  color: var(--sklearn-color-icon);\n",
       "}\n",
       "\n",
       "#sk-container-id-1 label.sk-toggleable__label-arrow:hover:before {\n",
       "  color: var(--sklearn-color-text);\n",
       "}\n",
       "\n",
       "/* Toggleable content - dropdown */\n",
       "\n",
       "#sk-container-id-1 div.sk-toggleable__content {\n",
       "  max-height: 0;\n",
       "  max-width: 0;\n",
       "  overflow: hidden;\n",
       "  text-align: left;\n",
       "  /* unfitted */\n",
       "  background-color: var(--sklearn-color-unfitted-level-0);\n",
       "}\n",
       "\n",
       "#sk-container-id-1 div.sk-toggleable__content.fitted {\n",
       "  /* fitted */\n",
       "  background-color: var(--sklearn-color-fitted-level-0);\n",
       "}\n",
       "\n",
       "#sk-container-id-1 div.sk-toggleable__content pre {\n",
       "  margin: 0.2em;\n",
       "  border-radius: 0.25em;\n",
       "  color: var(--sklearn-color-text);\n",
       "  /* unfitted */\n",
       "  background-color: var(--sklearn-color-unfitted-level-0);\n",
       "}\n",
       "\n",
       "#sk-container-id-1 div.sk-toggleable__content.fitted pre {\n",
       "  /* unfitted */\n",
       "  background-color: var(--sklearn-color-fitted-level-0);\n",
       "}\n",
       "\n",
       "#sk-container-id-1 input.sk-toggleable__control:checked~div.sk-toggleable__content {\n",
       "  /* Expand drop-down */\n",
       "  max-height: 200px;\n",
       "  max-width: 100%;\n",
       "  overflow: auto;\n",
       "}\n",
       "\n",
       "#sk-container-id-1 input.sk-toggleable__control:checked~label.sk-toggleable__label-arrow:before {\n",
       "  content: \"▾\";\n",
       "}\n",
       "\n",
       "/* Pipeline/ColumnTransformer-specific style */\n",
       "\n",
       "#sk-container-id-1 div.sk-label input.sk-toggleable__control:checked~label.sk-toggleable__label {\n",
       "  color: var(--sklearn-color-text);\n",
       "  background-color: var(--sklearn-color-unfitted-level-2);\n",
       "}\n",
       "\n",
       "#sk-container-id-1 div.sk-label.fitted input.sk-toggleable__control:checked~label.sk-toggleable__label {\n",
       "  background-color: var(--sklearn-color-fitted-level-2);\n",
       "}\n",
       "\n",
       "/* Estimator-specific style */\n",
       "\n",
       "/* Colorize estimator box */\n",
       "#sk-container-id-1 div.sk-estimator input.sk-toggleable__control:checked~label.sk-toggleable__label {\n",
       "  /* unfitted */\n",
       "  background-color: var(--sklearn-color-unfitted-level-2);\n",
       "}\n",
       "\n",
       "#sk-container-id-1 div.sk-estimator.fitted input.sk-toggleable__control:checked~label.sk-toggleable__label {\n",
       "  /* fitted */\n",
       "  background-color: var(--sklearn-color-fitted-level-2);\n",
       "}\n",
       "\n",
       "#sk-container-id-1 div.sk-label label.sk-toggleable__label,\n",
       "#sk-container-id-1 div.sk-label label {\n",
       "  /* The background is the default theme color */\n",
       "  color: var(--sklearn-color-text-on-default-background);\n",
       "}\n",
       "\n",
       "/* On hover, darken the color of the background */\n",
       "#sk-container-id-1 div.sk-label:hover label.sk-toggleable__label {\n",
       "  color: var(--sklearn-color-text);\n",
       "  background-color: var(--sklearn-color-unfitted-level-2);\n",
       "}\n",
       "\n",
       "/* Label box, darken color on hover, fitted */\n",
       "#sk-container-id-1 div.sk-label.fitted:hover label.sk-toggleable__label.fitted {\n",
       "  color: var(--sklearn-color-text);\n",
       "  background-color: var(--sklearn-color-fitted-level-2);\n",
       "}\n",
       "\n",
       "/* Estimator label */\n",
       "\n",
       "#sk-container-id-1 div.sk-label label {\n",
       "  font-family: monospace;\n",
       "  font-weight: bold;\n",
       "  display: inline-block;\n",
       "  line-height: 1.2em;\n",
       "}\n",
       "\n",
       "#sk-container-id-1 div.sk-label-container {\n",
       "  text-align: center;\n",
       "}\n",
       "\n",
       "/* Estimator-specific */\n",
       "#sk-container-id-1 div.sk-estimator {\n",
       "  font-family: monospace;\n",
       "  border: 1px dotted var(--sklearn-color-border-box);\n",
       "  border-radius: 0.25em;\n",
       "  box-sizing: border-box;\n",
       "  margin-bottom: 0.5em;\n",
       "  /* unfitted */\n",
       "  background-color: var(--sklearn-color-unfitted-level-0);\n",
       "}\n",
       "\n",
       "#sk-container-id-1 div.sk-estimator.fitted {\n",
       "  /* fitted */\n",
       "  background-color: var(--sklearn-color-fitted-level-0);\n",
       "}\n",
       "\n",
       "/* on hover */\n",
       "#sk-container-id-1 div.sk-estimator:hover {\n",
       "  /* unfitted */\n",
       "  background-color: var(--sklearn-color-unfitted-level-2);\n",
       "}\n",
       "\n",
       "#sk-container-id-1 div.sk-estimator.fitted:hover {\n",
       "  /* fitted */\n",
       "  background-color: var(--sklearn-color-fitted-level-2);\n",
       "}\n",
       "\n",
       "/* Specification for estimator info (e.g. \"i\" and \"?\") */\n",
       "\n",
       "/* Common style for \"i\" and \"?\" */\n",
       "\n",
       ".sk-estimator-doc-link,\n",
       "a:link.sk-estimator-doc-link,\n",
       "a:visited.sk-estimator-doc-link {\n",
       "  float: right;\n",
       "  font-size: smaller;\n",
       "  line-height: 1em;\n",
       "  font-family: monospace;\n",
       "  background-color: var(--sklearn-color-background);\n",
       "  border-radius: 1em;\n",
       "  height: 1em;\n",
       "  width: 1em;\n",
       "  text-decoration: none !important;\n",
       "  margin-left: 1ex;\n",
       "  /* unfitted */\n",
       "  border: var(--sklearn-color-unfitted-level-1) 1pt solid;\n",
       "  color: var(--sklearn-color-unfitted-level-1);\n",
       "}\n",
       "\n",
       ".sk-estimator-doc-link.fitted,\n",
       "a:link.sk-estimator-doc-link.fitted,\n",
       "a:visited.sk-estimator-doc-link.fitted {\n",
       "  /* fitted */\n",
       "  border: var(--sklearn-color-fitted-level-1) 1pt solid;\n",
       "  color: var(--sklearn-color-fitted-level-1);\n",
       "}\n",
       "\n",
       "/* On hover */\n",
       "div.sk-estimator:hover .sk-estimator-doc-link:hover,\n",
       ".sk-estimator-doc-link:hover,\n",
       "div.sk-label-container:hover .sk-estimator-doc-link:hover,\n",
       ".sk-estimator-doc-link:hover {\n",
       "  /* unfitted */\n",
       "  background-color: var(--sklearn-color-unfitted-level-3);\n",
       "  color: var(--sklearn-color-background);\n",
       "  text-decoration: none;\n",
       "}\n",
       "\n",
       "div.sk-estimator.fitted:hover .sk-estimator-doc-link.fitted:hover,\n",
       ".sk-estimator-doc-link.fitted:hover,\n",
       "div.sk-label-container:hover .sk-estimator-doc-link.fitted:hover,\n",
       ".sk-estimator-doc-link.fitted:hover {\n",
       "  /* fitted */\n",
       "  background-color: var(--sklearn-color-fitted-level-3);\n",
       "  color: var(--sklearn-color-background);\n",
       "  text-decoration: none;\n",
       "}\n",
       "\n",
       "/* Span, style for the box shown on hovering the info icon */\n",
       ".sk-estimator-doc-link span {\n",
       "  display: none;\n",
       "  z-index: 9999;\n",
       "  position: relative;\n",
       "  font-weight: normal;\n",
       "  right: .2ex;\n",
       "  padding: .5ex;\n",
       "  margin: .5ex;\n",
       "  width: min-content;\n",
       "  min-width: 20ex;\n",
       "  max-width: 50ex;\n",
       "  color: var(--sklearn-color-text);\n",
       "  box-shadow: 2pt 2pt 4pt #999;\n",
       "  /* unfitted */\n",
       "  background: var(--sklearn-color-unfitted-level-0);\n",
       "  border: .5pt solid var(--sklearn-color-unfitted-level-3);\n",
       "}\n",
       "\n",
       ".sk-estimator-doc-link.fitted span {\n",
       "  /* fitted */\n",
       "  background: var(--sklearn-color-fitted-level-0);\n",
       "  border: var(--sklearn-color-fitted-level-3);\n",
       "}\n",
       "\n",
       ".sk-estimator-doc-link:hover span {\n",
       "  display: block;\n",
       "}\n",
       "\n",
       "/* \"?\"-specific style due to the `<a>` HTML tag */\n",
       "\n",
       "#sk-container-id-1 a.estimator_doc_link {\n",
       "  float: right;\n",
       "  font-size: 1rem;\n",
       "  line-height: 1em;\n",
       "  font-family: monospace;\n",
       "  background-color: var(--sklearn-color-background);\n",
       "  border-radius: 1rem;\n",
       "  height: 1rem;\n",
       "  width: 1rem;\n",
       "  text-decoration: none;\n",
       "  /* unfitted */\n",
       "  color: var(--sklearn-color-unfitted-level-1);\n",
       "  border: var(--sklearn-color-unfitted-level-1) 1pt solid;\n",
       "}\n",
       "\n",
       "#sk-container-id-1 a.estimator_doc_link.fitted {\n",
       "  /* fitted */\n",
       "  border: var(--sklearn-color-fitted-level-1) 1pt solid;\n",
       "  color: var(--sklearn-color-fitted-level-1);\n",
       "}\n",
       "\n",
       "/* On hover */\n",
       "#sk-container-id-1 a.estimator_doc_link:hover {\n",
       "  /* unfitted */\n",
       "  background-color: var(--sklearn-color-unfitted-level-3);\n",
       "  color: var(--sklearn-color-background);\n",
       "  text-decoration: none;\n",
       "}\n",
       "\n",
       "#sk-container-id-1 a.estimator_doc_link.fitted:hover {\n",
       "  /* fitted */\n",
       "  background-color: var(--sklearn-color-fitted-level-3);\n",
       "}\n",
       "</style><div id=\"sk-container-id-1\" class=\"sk-top-container\"><div class=\"sk-text-repr-fallback\"><pre>LGBMClassifier(boosting_type=&#x27;dart&#x27;, deterministic=True, max_depth=4,\n",
       "               n_estimators=75, num_leaves=50, random_state=42)</pre><b>In a Jupyter environment, please rerun this cell to show the HTML representation or trust the notebook. <br />On GitHub, the HTML representation is unable to render, please try loading this page with nbviewer.org.</b></div><div class=\"sk-container\" hidden><div class=\"sk-item\"><div class=\"sk-estimator fitted sk-toggleable\"><input class=\"sk-toggleable__control sk-hidden--visually\" id=\"sk-estimator-id-1\" type=\"checkbox\" checked><label for=\"sk-estimator-id-1\" class=\"sk-toggleable__label fitted sk-toggleable__label-arrow fitted\">&nbsp;LGBMClassifier<span class=\"sk-estimator-doc-link fitted\">i<span>Fitted</span></span></label><div class=\"sk-toggleable__content fitted\"><pre>LGBMClassifier(boosting_type=&#x27;dart&#x27;, deterministic=True, max_depth=4,\n",
       "               n_estimators=75, num_leaves=50, random_state=42)</pre></div> </div></div></div></div>"
      ],
      "text/plain": [
       "LGBMClassifier(boosting_type='dart', deterministic=True, max_depth=4,\n",
       "               n_estimators=75, num_leaves=50, random_state=42)"
      ]
     },
     "execution_count": 13,
     "metadata": {},
     "output_type": "execute_result"
    }
   ],
   "source": [
    "train_data['xpass_bmi'] = train_data['off_xpass']-train_data['box_bmi']-.4*train_data['qb_pass_rate_ewm']\n",
    "train_data['contextual_tempo'] = train_data['tempo'] +train_data['xpass_bmi']\n",
    "final_features = [ 'QB_RB1_offset','n_offense_backfield',#'receiverAlignment_3x2' #'QBdffy_RB', 'QBdff_T', \n",
    "        'motion-momentum', 'contextual_tempo', # 'xpass_bmi',#'qb_pass_rate_ewm','ipa','off_xpass',\n",
    "        'neg_Formations', 'mean_pairwise_dist'] #'xpass_situational', \n",
    "\n",
    "X = train_data[final_features]\n",
    "y = train_data['pass']\n",
    "\n",
    "best_params = {'boosting_type': 'dart',\n",
    " 'max_depth': 4,\n",
    " 'deterministic': True,\n",
    " 'learning_rate': 0.1,\n",
    " 'n_estimators': 75,\n",
    " 'num_leaves': 50,\n",
    " 'random_state': 42}\n",
    "best_model = lightgbm.LGBMClassifier(**best_params)\n",
    "best_model.fit(X,y)"
   ]
  },
  {
   "cell_type": "code",
   "execution_count": 14,
   "metadata": {},
   "outputs": [],
   "source": [
    "td_example = train_data[((train_data['gameId'] == 2022100913) & (train_data['possessionTeam'] == 'CIN')) & (train_data['drive_num']==9)]"
   ]
  },
  {
   "cell_type": "code",
   "execution_count": 15,
   "metadata": {},
   "outputs": [
    {
     "data": {
      "text/html": [
       "<div>\n",
       "<style scoped>\n",
       "    .dataframe tbody tr th:only-of-type {\n",
       "        vertical-align: middle;\n",
       "    }\n",
       "\n",
       "    .dataframe tbody tr th {\n",
       "        vertical-align: top;\n",
       "    }\n",
       "\n",
       "    .dataframe thead th {\n",
       "        text-align: right;\n",
       "    }\n",
       "</style>\n",
       "<table border=\"1\" class=\"dataframe\">\n",
       "  <thead>\n",
       "    <tr style=\"text-align: right;\">\n",
       "      <th></th>\n",
       "      <th>gameId</th>\n",
       "      <th>playId</th>\n",
       "      <th>quarter</th>\n",
       "      <th>down</th>\n",
       "      <th>yardsToGo</th>\n",
       "      <th>score_differential</th>\n",
       "      <th>time_remaining</th>\n",
       "      <th>playNullifiedByPenalty</th>\n",
       "      <th>preSnapHomeTeamWinProbability</th>\n",
       "      <th>pass_rush_ratio</th>\n",
       "      <th>...</th>\n",
       "      <th>QB_RB1_offset</th>\n",
       "      <th>QBdffy_G</th>\n",
       "      <th>QBdffy_T</th>\n",
       "      <th>QBdffy_WR</th>\n",
       "      <th>presnap_motion_complexity</th>\n",
       "      <th>motion-momentum</th>\n",
       "      <th>neg_Formations</th>\n",
       "      <th>neg_alignment</th>\n",
       "      <th>xpass_bmi</th>\n",
       "      <th>contextual_tempo</th>\n",
       "    </tr>\n",
       "  </thead>\n",
       "  <tbody>\n",
       "    <tr>\n",
       "      <th>9296</th>\n",
       "      <td>2022100913</td>\n",
       "      <td>3289</td>\n",
       "      <td>4</td>\n",
       "      <td>1</td>\n",
       "      <td>10</td>\n",
       "      <td>6</td>\n",
       "      <td>9.700000</td>\n",
       "      <td>N</td>\n",
       "      <td>0.789131</td>\n",
       "      <td>3.18</td>\n",
       "      <td>...</td>\n",
       "      <td>6.405290</td>\n",
       "      <td>8.851310</td>\n",
       "      <td>13.319828</td>\n",
       "      <td>17.399503</td>\n",
       "      <td>0.0</td>\n",
       "      <td>0.0</td>\n",
       "      <td>0</td>\n",
       "      <td>0</td>\n",
       "      <td>0.092919</td>\n",
       "      <td>0.145300</td>\n",
       "    </tr>\n",
       "    <tr>\n",
       "      <th>9297</th>\n",
       "      <td>2022100913</td>\n",
       "      <td>3310</td>\n",
       "      <td>4</td>\n",
       "      <td>2</td>\n",
       "      <td>3</td>\n",
       "      <td>6</td>\n",
       "      <td>8.983333</td>\n",
       "      <td>N</td>\n",
       "      <td>0.774265</td>\n",
       "      <td>3.18</td>\n",
       "      <td>...</td>\n",
       "      <td>6.112377</td>\n",
       "      <td>8.923134</td>\n",
       "      <td>13.395597</td>\n",
       "      <td>18.023776</td>\n",
       "      <td>0.0</td>\n",
       "      <td>0.0</td>\n",
       "      <td>0</td>\n",
       "      <td>0</td>\n",
       "      <td>0.093490</td>\n",
       "      <td>0.065308</td>\n",
       "    </tr>\n",
       "    <tr>\n",
       "      <th>9298</th>\n",
       "      <td>2022100913</td>\n",
       "      <td>3331</td>\n",
       "      <td>4</td>\n",
       "      <td>1</td>\n",
       "      <td>10</td>\n",
       "      <td>6</td>\n",
       "      <td>8.266667</td>\n",
       "      <td>N</td>\n",
       "      <td>0.749209</td>\n",
       "      <td>3.18</td>\n",
       "      <td>...</td>\n",
       "      <td>30.429658</td>\n",
       "      <td>10.953680</td>\n",
       "      <td>16.388474</td>\n",
       "      <td>18.970052</td>\n",
       "      <td>-1.0</td>\n",
       "      <td>-2.0</td>\n",
       "      <td>0</td>\n",
       "      <td>0</td>\n",
       "      <td>0.053112</td>\n",
       "      <td>0.011375</td>\n",
       "    </tr>\n",
       "    <tr>\n",
       "      <th>9299</th>\n",
       "      <td>2022100913</td>\n",
       "      <td>3386</td>\n",
       "      <td>4</td>\n",
       "      <td>1</td>\n",
       "      <td>10</td>\n",
       "      <td>6</td>\n",
       "      <td>8.133333</td>\n",
       "      <td>N</td>\n",
       "      <td>0.744499</td>\n",
       "      <td>3.18</td>\n",
       "      <td>...</td>\n",
       "      <td>6.552874</td>\n",
       "      <td>11.080326</td>\n",
       "      <td>16.521259</td>\n",
       "      <td>17.847678</td>\n",
       "      <td>0.0</td>\n",
       "      <td>-2.0</td>\n",
       "      <td>1</td>\n",
       "      <td>0</td>\n",
       "      <td>0.123248</td>\n",
       "      <td>0.128293</td>\n",
       "    </tr>\n",
       "    <tr>\n",
       "      <th>9300</th>\n",
       "      <td>2022100913</td>\n",
       "      <td>3407</td>\n",
       "      <td>4</td>\n",
       "      <td>2</td>\n",
       "      <td>6</td>\n",
       "      <td>6</td>\n",
       "      <td>7.516667</td>\n",
       "      <td>N</td>\n",
       "      <td>0.749294</td>\n",
       "      <td>3.18</td>\n",
       "      <td>...</td>\n",
       "      <td>67.548474</td>\n",
       "      <td>9.114739</td>\n",
       "      <td>13.745319</td>\n",
       "      <td>17.022804</td>\n",
       "      <td>0.0</td>\n",
       "      <td>0.0</td>\n",
       "      <td>0</td>\n",
       "      <td>0</td>\n",
       "      <td>0.119533</td>\n",
       "      <td>0.122263</td>\n",
       "    </tr>\n",
       "    <tr>\n",
       "      <th>9301</th>\n",
       "      <td>2022100913</td>\n",
       "      <td>3452</td>\n",
       "      <td>4</td>\n",
       "      <td>2</td>\n",
       "      <td>7</td>\n",
       "      <td>6</td>\n",
       "      <td>6.133333</td>\n",
       "      <td>N</td>\n",
       "      <td>0.724349</td>\n",
       "      <td>3.18</td>\n",
       "      <td>...</td>\n",
       "      <td>4.152519</td>\n",
       "      <td>10.883646</td>\n",
       "      <td>16.331042</td>\n",
       "      <td>20.112083</td>\n",
       "      <td>0.0</td>\n",
       "      <td>0.0</td>\n",
       "      <td>0</td>\n",
       "      <td>0</td>\n",
       "      <td>0.119877</td>\n",
       "      <td>0.117593</td>\n",
       "    </tr>\n",
       "    <tr>\n",
       "      <th>9302</th>\n",
       "      <td>2022100913</td>\n",
       "      <td>3486</td>\n",
       "      <td>4</td>\n",
       "      <td>3</td>\n",
       "      <td>1</td>\n",
       "      <td>6</td>\n",
       "      <td>5.366667</td>\n",
       "      <td>N</td>\n",
       "      <td>0.715032</td>\n",
       "      <td>3.18</td>\n",
       "      <td>...</td>\n",
       "      <td>3.147109</td>\n",
       "      <td>10.860949</td>\n",
       "      <td>16.223266</td>\n",
       "      <td>18.798102</td>\n",
       "      <td>-1.0</td>\n",
       "      <td>-1.0</td>\n",
       "      <td>1</td>\n",
       "      <td>0</td>\n",
       "      <td>0.120186</td>\n",
       "      <td>0.121572</td>\n",
       "    </tr>\n",
       "    <tr>\n",
       "      <th>9303</th>\n",
       "      <td>2022100913</td>\n",
       "      <td>3510</td>\n",
       "      <td>4</td>\n",
       "      <td>1</td>\n",
       "      <td>10</td>\n",
       "      <td>6</td>\n",
       "      <td>4.650000</td>\n",
       "      <td>N</td>\n",
       "      <td>0.700927</td>\n",
       "      <td>3.18</td>\n",
       "      <td>...</td>\n",
       "      <td>7.576010</td>\n",
       "      <td>10.838673</td>\n",
       "      <td>16.429167</td>\n",
       "      <td>19.878796</td>\n",
       "      <td>0.0</td>\n",
       "      <td>0.0</td>\n",
       "      <td>0</td>\n",
       "      <td>1</td>\n",
       "      <td>0.084036</td>\n",
       "      <td>0.084244</td>\n",
       "    </tr>\n",
       "    <tr>\n",
       "      <th>9304</th>\n",
       "      <td>2022100913</td>\n",
       "      <td>3531</td>\n",
       "      <td>4</td>\n",
       "      <td>2</td>\n",
       "      <td>5</td>\n",
       "      <td>6</td>\n",
       "      <td>4.016667</td>\n",
       "      <td>N</td>\n",
       "      <td>0.685922</td>\n",
       "      <td>3.18</td>\n",
       "      <td>...</td>\n",
       "      <td>4.579280</td>\n",
       "      <td>10.836973</td>\n",
       "      <td>16.338994</td>\n",
       "      <td>19.852253</td>\n",
       "      <td>0.0</td>\n",
       "      <td>0.0</td>\n",
       "      <td>0</td>\n",
       "      <td>0</td>\n",
       "      <td>0.085379</td>\n",
       "      <td>0.082097</td>\n",
       "    </tr>\n",
       "    <tr>\n",
       "      <th>9305</th>\n",
       "      <td>2022100913</td>\n",
       "      <td>3555</td>\n",
       "      <td>4</td>\n",
       "      <td>3</td>\n",
       "      <td>5</td>\n",
       "      <td>6</td>\n",
       "      <td>3.350000</td>\n",
       "      <td>N</td>\n",
       "      <td>0.750003</td>\n",
       "      <td>3.18</td>\n",
       "      <td>...</td>\n",
       "      <td>4.562842</td>\n",
       "      <td>10.830385</td>\n",
       "      <td>16.303678</td>\n",
       "      <td>19.345558</td>\n",
       "      <td>0.0</td>\n",
       "      <td>0.0</td>\n",
       "      <td>0</td>\n",
       "      <td>0</td>\n",
       "      <td>0.114351</td>\n",
       "      <td>0.129001</td>\n",
       "    </tr>\n",
       "    <tr>\n",
       "      <th>9306</th>\n",
       "      <td>2022100913</td>\n",
       "      <td>3579</td>\n",
       "      <td>4</td>\n",
       "      <td>1</td>\n",
       "      <td>5</td>\n",
       "      <td>6</td>\n",
       "      <td>2.666667</td>\n",
       "      <td>N</td>\n",
       "      <td>0.614694</td>\n",
       "      <td>3.18</td>\n",
       "      <td>...</td>\n",
       "      <td>5.197798</td>\n",
       "      <td>10.881515</td>\n",
       "      <td>16.367893</td>\n",
       "      <td>14.325653</td>\n",
       "      <td>0.0</td>\n",
       "      <td>-1.0</td>\n",
       "      <td>0</td>\n",
       "      <td>0</td>\n",
       "      <td>0.039553</td>\n",
       "      <td>0.041368</td>\n",
       "    </tr>\n",
       "    <tr>\n",
       "      <th>9307</th>\n",
       "      <td>2022100913</td>\n",
       "      <td>3600</td>\n",
       "      <td>4</td>\n",
       "      <td>2</td>\n",
       "      <td>1</td>\n",
       "      <td>6</td>\n",
       "      <td>2.000000</td>\n",
       "      <td>N</td>\n",
       "      <td>0.553186</td>\n",
       "      <td>3.18</td>\n",
       "      <td>...</td>\n",
       "      <td>4.322716</td>\n",
       "      <td>9.705698</td>\n",
       "      <td>14.387151</td>\n",
       "      <td>15.972442</td>\n",
       "      <td>0.0</td>\n",
       "      <td>0.0</td>\n",
       "      <td>1</td>\n",
       "      <td>1</td>\n",
       "      <td>0.057946</td>\n",
       "      <td>0.055611</td>\n",
       "    </tr>\n",
       "  </tbody>\n",
       "</table>\n",
       "<p>12 rows × 390 columns</p>\n",
       "</div>"
      ],
      "text/plain": [
       "          gameId  playId  quarter  down  yardsToGo  score_differential  \\\n",
       "9296  2022100913    3289        4     1         10                   6   \n",
       "9297  2022100913    3310        4     2          3                   6   \n",
       "9298  2022100913    3331        4     1         10                   6   \n",
       "9299  2022100913    3386        4     1         10                   6   \n",
       "9300  2022100913    3407        4     2          6                   6   \n",
       "9301  2022100913    3452        4     2          7                   6   \n",
       "9302  2022100913    3486        4     3          1                   6   \n",
       "9303  2022100913    3510        4     1         10                   6   \n",
       "9304  2022100913    3531        4     2          5                   6   \n",
       "9305  2022100913    3555        4     3          5                   6   \n",
       "9306  2022100913    3579        4     1          5                   6   \n",
       "9307  2022100913    3600        4     2          1                   6   \n",
       "\n",
       "      time_remaining playNullifiedByPenalty  preSnapHomeTeamWinProbability  \\\n",
       "9296        9.700000                      N                       0.789131   \n",
       "9297        8.983333                      N                       0.774265   \n",
       "9298        8.266667                      N                       0.749209   \n",
       "9299        8.133333                      N                       0.744499   \n",
       "9300        7.516667                      N                       0.749294   \n",
       "9301        6.133333                      N                       0.724349   \n",
       "9302        5.366667                      N                       0.715032   \n",
       "9303        4.650000                      N                       0.700927   \n",
       "9304        4.016667                      N                       0.685922   \n",
       "9305        3.350000                      N                       0.750003   \n",
       "9306        2.666667                      N                       0.614694   \n",
       "9307        2.000000                      N                       0.553186   \n",
       "\n",
       "      pass_rush_ratio  ...  QB_RB1_offset   QBdffy_G   QBdffy_T  QBdffy_WR  \\\n",
       "9296             3.18  ...       6.405290   8.851310  13.319828  17.399503   \n",
       "9297             3.18  ...       6.112377   8.923134  13.395597  18.023776   \n",
       "9298             3.18  ...      30.429658  10.953680  16.388474  18.970052   \n",
       "9299             3.18  ...       6.552874  11.080326  16.521259  17.847678   \n",
       "9300             3.18  ...      67.548474   9.114739  13.745319  17.022804   \n",
       "9301             3.18  ...       4.152519  10.883646  16.331042  20.112083   \n",
       "9302             3.18  ...       3.147109  10.860949  16.223266  18.798102   \n",
       "9303             3.18  ...       7.576010  10.838673  16.429167  19.878796   \n",
       "9304             3.18  ...       4.579280  10.836973  16.338994  19.852253   \n",
       "9305             3.18  ...       4.562842  10.830385  16.303678  19.345558   \n",
       "9306             3.18  ...       5.197798  10.881515  16.367893  14.325653   \n",
       "9307             3.18  ...       4.322716   9.705698  14.387151  15.972442   \n",
       "\n",
       "      presnap_motion_complexity  motion-momentum  neg_Formations  \\\n",
       "9296                        0.0              0.0               0   \n",
       "9297                        0.0              0.0               0   \n",
       "9298                       -1.0             -2.0               0   \n",
       "9299                        0.0             -2.0               1   \n",
       "9300                        0.0              0.0               0   \n",
       "9301                        0.0              0.0               0   \n",
       "9302                       -1.0             -1.0               1   \n",
       "9303                        0.0              0.0               0   \n",
       "9304                        0.0              0.0               0   \n",
       "9305                        0.0              0.0               0   \n",
       "9306                        0.0             -1.0               0   \n",
       "9307                        0.0              0.0               1   \n",
       "\n",
       "      neg_alignment  xpass_bmi  contextual_tempo  \n",
       "9296              0   0.092919          0.145300  \n",
       "9297              0   0.093490          0.065308  \n",
       "9298              0   0.053112          0.011375  \n",
       "9299              0   0.123248          0.128293  \n",
       "9300              0   0.119533          0.122263  \n",
       "9301              0   0.119877          0.117593  \n",
       "9302              0   0.120186          0.121572  \n",
       "9303              1   0.084036          0.084244  \n",
       "9304              0   0.085379          0.082097  \n",
       "9305              0   0.114351          0.129001  \n",
       "9306              0   0.039553          0.041368  \n",
       "9307              1   0.057946          0.055611  \n",
       "\n",
       "[12 rows x 390 columns]"
      ]
     },
     "execution_count": 15,
     "metadata": {},
     "output_type": "execute_result"
    }
   ],
   "source": [
    "td_example"
   ]
  },
  {
   "cell_type": "code",
   "execution_count": 16,
   "metadata": {},
   "outputs": [],
   "source": [
    "preds = [x[1] for x in list(best_model.predict_proba(td_example[final_features]))]"
   ]
  },
  {
   "cell_type": "code",
   "execution_count": 17,
   "metadata": {},
   "outputs": [],
   "source": [
    "nf_ls = list(td_example['neg_Formations'])"
   ]
  },
  {
   "cell_type": "code",
   "execution_count": 18,
   "metadata": {},
   "outputs": [],
   "source": [
    "import plotly.graph_objects as go\n",
    "import pandas as pd\n",
    "\n",
    "dates = range(1,len(td_example)+1)\n",
    "feat_a = preds#td_example['off_xpass']#[86.77, 80.74, 79.48, 76.47, 75.44, 74.49, 70.41]\n",
    "feat_b = td_example['neg_Formations']#[92.77, 91.64, 90.68, 92.37, 92.84, 90.29, 92.71]\n",
    "\n",
    "df = pd.DataFrame(list(zip(dates, feat_a, feat_b)),\n",
    "                  columns=['date', 'feat_a', 'feat_b'])\n",
    "\n",
    "fig = go.Figure(\n",
    "    layout=go.Layout(\n",
    "        updatemenus=[dict(type=\"buttons\", direction=\"right\", x=0.9, y=1.26), ],\n",
    "        xaxis=dict(range=[0, len(df)+1],\n",
    "                   autorange=False, tickwidth=2,\n",
    "                   title_text=\"Time\"),\n",
    "        yaxis=dict(range=[0, 1],\n",
    "                   autorange=False,\n",
    "                   title_text=\"Price\")\n",
    "    ))\n",
    "\n",
    "# Add traces\n",
    "i = 1\n",
    "\n",
    "fig.add_trace(\n",
    "    go.Scatter(x=df.date[:i],\n",
    "               y=df.feat_a[:i],\n",
    "               name=\"Model Pass Odds\",\n",
    "               visible=True,\n",
    "               line=dict(color=\"#f47738\", dash=\"dash\")))\n",
    "\n",
    "\n",
    "fig.add_trace(\n",
    "    go.Scatter(x=df.date[:i],\n",
    "               y=df.feat_b[:i],\n",
    "               name=\"Run Formation\",\n",
    "               visible=True,\n",
    "               line=dict(color=\"#1d70b8\", dash=\"dash\")))\n",
    "\n",
    "                                                   \n",
    "jmax = 0\n",
    "#Animation\n",
    "ur_ls = []\n",
    "for k in range(1, len(df) + 1):\n",
    "\n",
    "    data_ls=[\n",
    "            go.Scatter(x=df.date[:k+1], y=df.feat_a[:k+1]),\n",
    "            go.Scatter(x=df.date[:k+1], y=df.feat_b[:k+1]),\n",
    "                ]\n",
    "    ec = 0\n",
    "    for j in range(k):\n",
    "        \n",
    "        if nf_ls[j]:\n",
    "            ec+=1\n",
    "            \n",
    "            if j > jmax: \n",
    "                if ec == 1:\n",
    "                    fig.add_trace(go.Scatter(x=[0,0], \n",
    "                                    y=[0,1], \n",
    "                                    mode='lines', \n",
    "                                    line=dict(color='green', width=3),\n",
    "                                    name='Run Play'))\n",
    "                \n",
    "                else:\n",
    "                    fig.add_trace(go.Scatter(x=[0,0], \n",
    "                                    y=[0,1], \n",
    "                                    mode='lines', \n",
    "                                    line=dict(color='green', width=3),\n",
    "                                    name=str(ec)))\n",
    "               \n",
    "                jmax=j\n",
    "\n",
    "            if ec == 1:\n",
    "                data_ls.append(\n",
    "                            go.Scatter(x=[j+1,j+1], \n",
    "                                y=[0,1], \n",
    "                                mode='lines', \n",
    "                                line=dict(color='green', width=3),\n",
    "                                name='Run Play'))\n",
    "\n",
    "            else:\n",
    "                data_ls.append(\n",
    "                            go.Scatter(x=[j+1,j+1], \n",
    "                                y=[0,1], \n",
    "                                mode='lines', \n",
    "                                line=dict(color='green', width=3),\n",
    "                                name=str(ec)))\n",
    "                \n",
    "            \n",
    "\n",
    "                            \n",
    "    ur_ls.append(go.Frame(data=data_ls))\n",
    "\n",
    "fig.update(frames=ur_ls)\n",
    "\n",
    "fig.update_xaxes(ticks=\"outside\", tickwidth=2, tickcolor='white', ticklen=10)\n",
    "fig.update_yaxes(ticks=\"outside\", tickwidth=2, tickcolor='white', ticklen=1)\n",
    "fig.update_layout(yaxis_tickformat=',')\n",
    "fig.update_layout(legend=dict(x=0, y=1.1), legend_orientation=\"h\")\n",
    "\n",
    "for trace in fig['data']: \n",
    "    if(not trace['name'] in([\"Model Pass Odds\",'Run Play'])): trace['showlegend'] = False\n",
    "# Buttons\n",
    "fig.update_layout(title=\"Run Formation Impact\",\n",
    "                  xaxis_title=\"Drive Play #\",\n",
    "                  yaxis_title=\"Pass Probability\",\n",
    "                  legend_title=\"\",\n",
    "                  showlegend=True,\n",
    "                  font=dict(\n",
    "                      family=\"Arial\",\n",
    "                      size=14\n",
    "                  ),\n",
    "                  paper_bgcolor='rgba(0,0,0,0)',\n",
    "                  plot_bgcolor='rgba(0,0,0,0)',\n",
    "                  hovermode=\"x\",\n",
    "                  updatemenus=[\n",
    "                        dict(\n",
    "                            buttons=list([\n",
    "                                dict(label=\"Play\",\n",
    "                                     method=\"animate\",\n",
    "                                     args=[None, {\"frame\": {\"duration\": 500}}]),\n",
    "                                \n",
    "                                          \n",
    "                            ]))])\n",
    "\n",
    "\n",
    "\n",
    "fig.write_json(\"image/cincy_drive.json\")"
   ]
  },
  {
   "cell_type": "code",
   "execution_count": 19,
   "metadata": {},
   "outputs": [
    {
     "data": {
      "application/vnd.plotly.v1+json": {
       "config": {
        "plotlyServerURL": "https://plot.ly"
       },
       "data": [
        {
         "line": {
          "color": "#f47738",
          "dash": "dash"
         },
         "name": "Model Pass Odds",
         "type": "scatter",
         "visible": true,
         "x": [
          1
         ],
         "y": [
          0.7692763004240298
         ]
        },
        {
         "line": {
          "color": "#1d70b8",
          "dash": "dash"
         },
         "name": "Run Formation",
         "showlegend": false,
         "type": "scatter",
         "visible": true,
         "x": [
          1
         ],
         "y": [
          0
         ]
        },
        {
         "line": {
          "color": "green",
          "width": 3
         },
         "mode": "lines",
         "name": "Run Play",
         "type": "scatter",
         "x": [
          0,
          0
         ],
         "y": [
          0,
          1
         ]
        },
        {
         "line": {
          "color": "green",
          "width": 3
         },
         "mode": "lines",
         "name": "2",
         "showlegend": false,
         "type": "scatter",
         "x": [
          0,
          0
         ],
         "y": [
          0,
          1
         ]
        },
        {
         "line": {
          "color": "green",
          "width": 3
         },
         "mode": "lines",
         "name": "3",
         "showlegend": false,
         "type": "scatter",
         "x": [
          0,
          0
         ],
         "y": [
          0,
          1
         ]
        }
       ],
       "frames": [
        {
         "data": [
          {
           "type": "scatter",
           "x": [
            1,
            2
           ],
           "y": [
            0.7692763004240298,
            0.6704596834051407
           ]
          },
          {
           "type": "scatter",
           "x": [
            1,
            2
           ],
           "y": [
            0,
            0
           ]
          }
         ]
        },
        {
         "data": [
          {
           "type": "scatter",
           "x": [
            1,
            2,
            3
           ],
           "y": [
            0.7692763004240298,
            0.6704596834051407,
            0.5894731448050058
           ]
          },
          {
           "type": "scatter",
           "x": [
            1,
            2,
            3
           ],
           "y": [
            0,
            0,
            0
           ]
          }
         ]
        },
        {
         "data": [
          {
           "type": "scatter",
           "x": [
            1,
            2,
            3,
            4
           ],
           "y": [
            0.7692763004240298,
            0.6704596834051407,
            0.5894731448050058,
            0.14021404480266883
           ]
          },
          {
           "type": "scatter",
           "x": [
            1,
            2,
            3,
            4
           ],
           "y": [
            0,
            0,
            0,
            1
           ]
          }
         ]
        },
        {
         "data": [
          {
           "type": "scatter",
           "x": [
            1,
            2,
            3,
            4,
            5
           ],
           "y": [
            0.7692763004240298,
            0.6704596834051407,
            0.5894731448050058,
            0.14021404480266883,
            0.8117187490667346
           ]
          },
          {
           "type": "scatter",
           "x": [
            1,
            2,
            3,
            4,
            5
           ],
           "y": [
            0,
            0,
            0,
            1,
            0
           ]
          },
          {
           "line": {
            "color": "green",
            "width": 3
           },
           "mode": "lines",
           "name": "Run Play",
           "type": "scatter",
           "x": [
            4,
            4
           ],
           "y": [
            0,
            1
           ]
          }
         ]
        },
        {
         "data": [
          {
           "type": "scatter",
           "x": [
            1,
            2,
            3,
            4,
            5,
            6
           ],
           "y": [
            0.7692763004240298,
            0.6704596834051407,
            0.5894731448050058,
            0.14021404480266883,
            0.8117187490667346,
            0.7494245494926146
           ]
          },
          {
           "type": "scatter",
           "x": [
            1,
            2,
            3,
            4,
            5,
            6
           ],
           "y": [
            0,
            0,
            0,
            1,
            0,
            0
           ]
          },
          {
           "line": {
            "color": "green",
            "width": 3
           },
           "mode": "lines",
           "name": "Run Play",
           "type": "scatter",
           "x": [
            4,
            4
           ],
           "y": [
            0,
            1
           ]
          }
         ]
        },
        {
         "data": [
          {
           "type": "scatter",
           "x": [
            1,
            2,
            3,
            4,
            5,
            6,
            7
           ],
           "y": [
            0.7692763004240298,
            0.6704596834051407,
            0.5894731448050058,
            0.14021404480266883,
            0.8117187490667346,
            0.7494245494926146,
            0.31689435463177995
           ]
          },
          {
           "type": "scatter",
           "x": [
            1,
            2,
            3,
            4,
            5,
            6,
            7
           ],
           "y": [
            0,
            0,
            0,
            1,
            0,
            0,
            1
           ]
          },
          {
           "line": {
            "color": "green",
            "width": 3
           },
           "mode": "lines",
           "name": "Run Play",
           "type": "scatter",
           "x": [
            4,
            4
           ],
           "y": [
            0,
            1
           ]
          }
         ]
        },
        {
         "data": [
          {
           "type": "scatter",
           "x": [
            1,
            2,
            3,
            4,
            5,
            6,
            7,
            8
           ],
           "y": [
            0.7692763004240298,
            0.6704596834051407,
            0.5894731448050058,
            0.14021404480266883,
            0.8117187490667346,
            0.7494245494926146,
            0.31689435463177995,
            0.5373711750806933
           ]
          },
          {
           "type": "scatter",
           "x": [
            1,
            2,
            3,
            4,
            5,
            6,
            7,
            8
           ],
           "y": [
            0,
            0,
            0,
            1,
            0,
            0,
            1,
            0
           ]
          },
          {
           "line": {
            "color": "green",
            "width": 3
           },
           "mode": "lines",
           "name": "Run Play",
           "type": "scatter",
           "x": [
            4,
            4
           ],
           "y": [
            0,
            1
           ]
          },
          {
           "line": {
            "color": "green",
            "width": 3
           },
           "mode": "lines",
           "name": "2",
           "type": "scatter",
           "x": [
            7,
            7
           ],
           "y": [
            0,
            1
           ]
          }
         ]
        },
        {
         "data": [
          {
           "type": "scatter",
           "x": [
            1,
            2,
            3,
            4,
            5,
            6,
            7,
            8,
            9
           ],
           "y": [
            0.7692763004240298,
            0.6704596834051407,
            0.5894731448050058,
            0.14021404480266883,
            0.8117187490667346,
            0.7494245494926146,
            0.31689435463177995,
            0.5373711750806933,
            0.6783529310851039
           ]
          },
          {
           "type": "scatter",
           "x": [
            1,
            2,
            3,
            4,
            5,
            6,
            7,
            8,
            9
           ],
           "y": [
            0,
            0,
            0,
            1,
            0,
            0,
            1,
            0,
            0
           ]
          },
          {
           "line": {
            "color": "green",
            "width": 3
           },
           "mode": "lines",
           "name": "Run Play",
           "type": "scatter",
           "x": [
            4,
            4
           ],
           "y": [
            0,
            1
           ]
          },
          {
           "line": {
            "color": "green",
            "width": 3
           },
           "mode": "lines",
           "name": "2",
           "type": "scatter",
           "x": [
            7,
            7
           ],
           "y": [
            0,
            1
           ]
          }
         ]
        },
        {
         "data": [
          {
           "type": "scatter",
           "x": [
            1,
            2,
            3,
            4,
            5,
            6,
            7,
            8,
            9,
            10
           ],
           "y": [
            0.7692763004240298,
            0.6704596834051407,
            0.5894731448050058,
            0.14021404480266883,
            0.8117187490667346,
            0.7494245494926146,
            0.31689435463177995,
            0.5373711750806933,
            0.6783529310851039,
            0.7493490182595042
           ]
          },
          {
           "type": "scatter",
           "x": [
            1,
            2,
            3,
            4,
            5,
            6,
            7,
            8,
            9,
            10
           ],
           "y": [
            0,
            0,
            0,
            1,
            0,
            0,
            1,
            0,
            0,
            0
           ]
          },
          {
           "line": {
            "color": "green",
            "width": 3
           },
           "mode": "lines",
           "name": "Run Play",
           "type": "scatter",
           "x": [
            4,
            4
           ],
           "y": [
            0,
            1
           ]
          },
          {
           "line": {
            "color": "green",
            "width": 3
           },
           "mode": "lines",
           "name": "2",
           "type": "scatter",
           "x": [
            7,
            7
           ],
           "y": [
            0,
            1
           ]
          }
         ]
        },
        {
         "data": [
          {
           "type": "scatter",
           "x": [
            1,
            2,
            3,
            4,
            5,
            6,
            7,
            8,
            9,
            10,
            11
           ],
           "y": [
            0.7692763004240298,
            0.6704596834051407,
            0.5894731448050058,
            0.14021404480266883,
            0.8117187490667346,
            0.7494245494926146,
            0.31689435463177995,
            0.5373711750806933,
            0.6783529310851039,
            0.7493490182595042,
            0.30055240129791566
           ]
          },
          {
           "type": "scatter",
           "x": [
            1,
            2,
            3,
            4,
            5,
            6,
            7,
            8,
            9,
            10,
            11
           ],
           "y": [
            0,
            0,
            0,
            1,
            0,
            0,
            1,
            0,
            0,
            0,
            0
           ]
          },
          {
           "line": {
            "color": "green",
            "width": 3
           },
           "mode": "lines",
           "name": "Run Play",
           "type": "scatter",
           "x": [
            4,
            4
           ],
           "y": [
            0,
            1
           ]
          },
          {
           "line": {
            "color": "green",
            "width": 3
           },
           "mode": "lines",
           "name": "2",
           "type": "scatter",
           "x": [
            7,
            7
           ],
           "y": [
            0,
            1
           ]
          }
         ]
        },
        {
         "data": [
          {
           "type": "scatter",
           "x": [
            1,
            2,
            3,
            4,
            5,
            6,
            7,
            8,
            9,
            10,
            11,
            12
           ],
           "y": [
            0.7692763004240298,
            0.6704596834051407,
            0.5894731448050058,
            0.14021404480266883,
            0.8117187490667346,
            0.7494245494926146,
            0.31689435463177995,
            0.5373711750806933,
            0.6783529310851039,
            0.7493490182595042,
            0.30055240129791566,
            0.26896863420348527
           ]
          },
          {
           "type": "scatter",
           "x": [
            1,
            2,
            3,
            4,
            5,
            6,
            7,
            8,
            9,
            10,
            11,
            12
           ],
           "y": [
            0,
            0,
            0,
            1,
            0,
            0,
            1,
            0,
            0,
            0,
            0,
            1
           ]
          },
          {
           "line": {
            "color": "green",
            "width": 3
           },
           "mode": "lines",
           "name": "Run Play",
           "type": "scatter",
           "x": [
            4,
            4
           ],
           "y": [
            0,
            1
           ]
          },
          {
           "line": {
            "color": "green",
            "width": 3
           },
           "mode": "lines",
           "name": "2",
           "type": "scatter",
           "x": [
            7,
            7
           ],
           "y": [
            0,
            1
           ]
          }
         ]
        },
        {
         "data": [
          {
           "type": "scatter",
           "x": [
            1,
            2,
            3,
            4,
            5,
            6,
            7,
            8,
            9,
            10,
            11,
            12
           ],
           "y": [
            0.7692763004240298,
            0.6704596834051407,
            0.5894731448050058,
            0.14021404480266883,
            0.8117187490667346,
            0.7494245494926146,
            0.31689435463177995,
            0.5373711750806933,
            0.6783529310851039,
            0.7493490182595042,
            0.30055240129791566,
            0.26896863420348527
           ]
          },
          {
           "type": "scatter",
           "x": [
            1,
            2,
            3,
            4,
            5,
            6,
            7,
            8,
            9,
            10,
            11,
            12
           ],
           "y": [
            0,
            0,
            0,
            1,
            0,
            0,
            1,
            0,
            0,
            0,
            0,
            1
           ]
          },
          {
           "line": {
            "color": "green",
            "width": 3
           },
           "mode": "lines",
           "name": "Run Play",
           "type": "scatter",
           "x": [
            4,
            4
           ],
           "y": [
            0,
            1
           ]
          },
          {
           "line": {
            "color": "green",
            "width": 3
           },
           "mode": "lines",
           "name": "2",
           "type": "scatter",
           "x": [
            7,
            7
           ],
           "y": [
            0,
            1
           ]
          },
          {
           "line": {
            "color": "green",
            "width": 3
           },
           "mode": "lines",
           "name": "3",
           "type": "scatter",
           "x": [
            12,
            12
           ],
           "y": [
            0,
            1
           ]
          }
         ]
        }
       ],
       "layout": {
        "font": {
         "family": "Arial",
         "size": 14
        },
        "hovermode": "x",
        "legend": {
         "orientation": "h",
         "title": {
          "text": ""
         },
         "x": 0,
         "y": 1.1
        },
        "paper_bgcolor": "rgba(0,0,0,0)",
        "plot_bgcolor": "rgba(0,0,0,0)",
        "showlegend": true,
        "template": {
         "data": {
          "bar": [
           {
            "error_x": {
             "color": "#2a3f5f"
            },
            "error_y": {
             "color": "#2a3f5f"
            },
            "marker": {
             "line": {
              "color": "#E5ECF6",
              "width": 0.5
             },
             "pattern": {
              "fillmode": "overlay",
              "size": 10,
              "solidity": 0.2
             }
            },
            "type": "bar"
           }
          ],
          "barpolar": [
           {
            "marker": {
             "line": {
              "color": "#E5ECF6",
              "width": 0.5
             },
             "pattern": {
              "fillmode": "overlay",
              "size": 10,
              "solidity": 0.2
             }
            },
            "type": "barpolar"
           }
          ],
          "carpet": [
           {
            "aaxis": {
             "endlinecolor": "#2a3f5f",
             "gridcolor": "white",
             "linecolor": "white",
             "minorgridcolor": "white",
             "startlinecolor": "#2a3f5f"
            },
            "baxis": {
             "endlinecolor": "#2a3f5f",
             "gridcolor": "white",
             "linecolor": "white",
             "minorgridcolor": "white",
             "startlinecolor": "#2a3f5f"
            },
            "type": "carpet"
           }
          ],
          "choropleth": [
           {
            "colorbar": {
             "outlinewidth": 0,
             "ticks": ""
            },
            "type": "choropleth"
           }
          ],
          "contour": [
           {
            "colorbar": {
             "outlinewidth": 0,
             "ticks": ""
            },
            "colorscale": [
             [
              0,
              "#0d0887"
             ],
             [
              0.1111111111111111,
              "#46039f"
             ],
             [
              0.2222222222222222,
              "#7201a8"
             ],
             [
              0.3333333333333333,
              "#9c179e"
             ],
             [
              0.4444444444444444,
              "#bd3786"
             ],
             [
              0.5555555555555556,
              "#d8576b"
             ],
             [
              0.6666666666666666,
              "#ed7953"
             ],
             [
              0.7777777777777778,
              "#fb9f3a"
             ],
             [
              0.8888888888888888,
              "#fdca26"
             ],
             [
              1,
              "#f0f921"
             ]
            ],
            "type": "contour"
           }
          ],
          "contourcarpet": [
           {
            "colorbar": {
             "outlinewidth": 0,
             "ticks": ""
            },
            "type": "contourcarpet"
           }
          ],
          "heatmap": [
           {
            "colorbar": {
             "outlinewidth": 0,
             "ticks": ""
            },
            "colorscale": [
             [
              0,
              "#0d0887"
             ],
             [
              0.1111111111111111,
              "#46039f"
             ],
             [
              0.2222222222222222,
              "#7201a8"
             ],
             [
              0.3333333333333333,
              "#9c179e"
             ],
             [
              0.4444444444444444,
              "#bd3786"
             ],
             [
              0.5555555555555556,
              "#d8576b"
             ],
             [
              0.6666666666666666,
              "#ed7953"
             ],
             [
              0.7777777777777778,
              "#fb9f3a"
             ],
             [
              0.8888888888888888,
              "#fdca26"
             ],
             [
              1,
              "#f0f921"
             ]
            ],
            "type": "heatmap"
           }
          ],
          "heatmapgl": [
           {
            "colorbar": {
             "outlinewidth": 0,
             "ticks": ""
            },
            "colorscale": [
             [
              0,
              "#0d0887"
             ],
             [
              0.1111111111111111,
              "#46039f"
             ],
             [
              0.2222222222222222,
              "#7201a8"
             ],
             [
              0.3333333333333333,
              "#9c179e"
             ],
             [
              0.4444444444444444,
              "#bd3786"
             ],
             [
              0.5555555555555556,
              "#d8576b"
             ],
             [
              0.6666666666666666,
              "#ed7953"
             ],
             [
              0.7777777777777778,
              "#fb9f3a"
             ],
             [
              0.8888888888888888,
              "#fdca26"
             ],
             [
              1,
              "#f0f921"
             ]
            ],
            "type": "heatmapgl"
           }
          ],
          "histogram": [
           {
            "marker": {
             "pattern": {
              "fillmode": "overlay",
              "size": 10,
              "solidity": 0.2
             }
            },
            "type": "histogram"
           }
          ],
          "histogram2d": [
           {
            "colorbar": {
             "outlinewidth": 0,
             "ticks": ""
            },
            "colorscale": [
             [
              0,
              "#0d0887"
             ],
             [
              0.1111111111111111,
              "#46039f"
             ],
             [
              0.2222222222222222,
              "#7201a8"
             ],
             [
              0.3333333333333333,
              "#9c179e"
             ],
             [
              0.4444444444444444,
              "#bd3786"
             ],
             [
              0.5555555555555556,
              "#d8576b"
             ],
             [
              0.6666666666666666,
              "#ed7953"
             ],
             [
              0.7777777777777778,
              "#fb9f3a"
             ],
             [
              0.8888888888888888,
              "#fdca26"
             ],
             [
              1,
              "#f0f921"
             ]
            ],
            "type": "histogram2d"
           }
          ],
          "histogram2dcontour": [
           {
            "colorbar": {
             "outlinewidth": 0,
             "ticks": ""
            },
            "colorscale": [
             [
              0,
              "#0d0887"
             ],
             [
              0.1111111111111111,
              "#46039f"
             ],
             [
              0.2222222222222222,
              "#7201a8"
             ],
             [
              0.3333333333333333,
              "#9c179e"
             ],
             [
              0.4444444444444444,
              "#bd3786"
             ],
             [
              0.5555555555555556,
              "#d8576b"
             ],
             [
              0.6666666666666666,
              "#ed7953"
             ],
             [
              0.7777777777777778,
              "#fb9f3a"
             ],
             [
              0.8888888888888888,
              "#fdca26"
             ],
             [
              1,
              "#f0f921"
             ]
            ],
            "type": "histogram2dcontour"
           }
          ],
          "mesh3d": [
           {
            "colorbar": {
             "outlinewidth": 0,
             "ticks": ""
            },
            "type": "mesh3d"
           }
          ],
          "parcoords": [
           {
            "line": {
             "colorbar": {
              "outlinewidth": 0,
              "ticks": ""
             }
            },
            "type": "parcoords"
           }
          ],
          "pie": [
           {
            "automargin": true,
            "type": "pie"
           }
          ],
          "scatter": [
           {
            "fillpattern": {
             "fillmode": "overlay",
             "size": 10,
             "solidity": 0.2
            },
            "type": "scatter"
           }
          ],
          "scatter3d": [
           {
            "line": {
             "colorbar": {
              "outlinewidth": 0,
              "ticks": ""
             }
            },
            "marker": {
             "colorbar": {
              "outlinewidth": 0,
              "ticks": ""
             }
            },
            "type": "scatter3d"
           }
          ],
          "scattercarpet": [
           {
            "marker": {
             "colorbar": {
              "outlinewidth": 0,
              "ticks": ""
             }
            },
            "type": "scattercarpet"
           }
          ],
          "scattergeo": [
           {
            "marker": {
             "colorbar": {
              "outlinewidth": 0,
              "ticks": ""
             }
            },
            "type": "scattergeo"
           }
          ],
          "scattergl": [
           {
            "marker": {
             "colorbar": {
              "outlinewidth": 0,
              "ticks": ""
             }
            },
            "type": "scattergl"
           }
          ],
          "scattermapbox": [
           {
            "marker": {
             "colorbar": {
              "outlinewidth": 0,
              "ticks": ""
             }
            },
            "type": "scattermapbox"
           }
          ],
          "scatterpolar": [
           {
            "marker": {
             "colorbar": {
              "outlinewidth": 0,
              "ticks": ""
             }
            },
            "type": "scatterpolar"
           }
          ],
          "scatterpolargl": [
           {
            "marker": {
             "colorbar": {
              "outlinewidth": 0,
              "ticks": ""
             }
            },
            "type": "scatterpolargl"
           }
          ],
          "scatterternary": [
           {
            "marker": {
             "colorbar": {
              "outlinewidth": 0,
              "ticks": ""
             }
            },
            "type": "scatterternary"
           }
          ],
          "surface": [
           {
            "colorbar": {
             "outlinewidth": 0,
             "ticks": ""
            },
            "colorscale": [
             [
              0,
              "#0d0887"
             ],
             [
              0.1111111111111111,
              "#46039f"
             ],
             [
              0.2222222222222222,
              "#7201a8"
             ],
             [
              0.3333333333333333,
              "#9c179e"
             ],
             [
              0.4444444444444444,
              "#bd3786"
             ],
             [
              0.5555555555555556,
              "#d8576b"
             ],
             [
              0.6666666666666666,
              "#ed7953"
             ],
             [
              0.7777777777777778,
              "#fb9f3a"
             ],
             [
              0.8888888888888888,
              "#fdca26"
             ],
             [
              1,
              "#f0f921"
             ]
            ],
            "type": "surface"
           }
          ],
          "table": [
           {
            "cells": {
             "fill": {
              "color": "#EBF0F8"
             },
             "line": {
              "color": "white"
             }
            },
            "header": {
             "fill": {
              "color": "#C8D4E3"
             },
             "line": {
              "color": "white"
             }
            },
            "type": "table"
           }
          ]
         },
         "layout": {
          "annotationdefaults": {
           "arrowcolor": "#2a3f5f",
           "arrowhead": 0,
           "arrowwidth": 1
          },
          "autotypenumbers": "strict",
          "coloraxis": {
           "colorbar": {
            "outlinewidth": 0,
            "ticks": ""
           }
          },
          "colorscale": {
           "diverging": [
            [
             0,
             "#8e0152"
            ],
            [
             0.1,
             "#c51b7d"
            ],
            [
             0.2,
             "#de77ae"
            ],
            [
             0.3,
             "#f1b6da"
            ],
            [
             0.4,
             "#fde0ef"
            ],
            [
             0.5,
             "#f7f7f7"
            ],
            [
             0.6,
             "#e6f5d0"
            ],
            [
             0.7,
             "#b8e186"
            ],
            [
             0.8,
             "#7fbc41"
            ],
            [
             0.9,
             "#4d9221"
            ],
            [
             1,
             "#276419"
            ]
           ],
           "sequential": [
            [
             0,
             "#0d0887"
            ],
            [
             0.1111111111111111,
             "#46039f"
            ],
            [
             0.2222222222222222,
             "#7201a8"
            ],
            [
             0.3333333333333333,
             "#9c179e"
            ],
            [
             0.4444444444444444,
             "#bd3786"
            ],
            [
             0.5555555555555556,
             "#d8576b"
            ],
            [
             0.6666666666666666,
             "#ed7953"
            ],
            [
             0.7777777777777778,
             "#fb9f3a"
            ],
            [
             0.8888888888888888,
             "#fdca26"
            ],
            [
             1,
             "#f0f921"
            ]
           ],
           "sequentialminus": [
            [
             0,
             "#0d0887"
            ],
            [
             0.1111111111111111,
             "#46039f"
            ],
            [
             0.2222222222222222,
             "#7201a8"
            ],
            [
             0.3333333333333333,
             "#9c179e"
            ],
            [
             0.4444444444444444,
             "#bd3786"
            ],
            [
             0.5555555555555556,
             "#d8576b"
            ],
            [
             0.6666666666666666,
             "#ed7953"
            ],
            [
             0.7777777777777778,
             "#fb9f3a"
            ],
            [
             0.8888888888888888,
             "#fdca26"
            ],
            [
             1,
             "#f0f921"
            ]
           ]
          },
          "colorway": [
           "#636efa",
           "#EF553B",
           "#00cc96",
           "#ab63fa",
           "#FFA15A",
           "#19d3f3",
           "#FF6692",
           "#B6E880",
           "#FF97FF",
           "#FECB52"
          ],
          "font": {
           "color": "#2a3f5f"
          },
          "geo": {
           "bgcolor": "white",
           "lakecolor": "white",
           "landcolor": "#E5ECF6",
           "showlakes": true,
           "showland": true,
           "subunitcolor": "white"
          },
          "hoverlabel": {
           "align": "left"
          },
          "hovermode": "closest",
          "mapbox": {
           "style": "light"
          },
          "paper_bgcolor": "white",
          "plot_bgcolor": "#E5ECF6",
          "polar": {
           "angularaxis": {
            "gridcolor": "white",
            "linecolor": "white",
            "ticks": ""
           },
           "bgcolor": "#E5ECF6",
           "radialaxis": {
            "gridcolor": "white",
            "linecolor": "white",
            "ticks": ""
           }
          },
          "scene": {
           "xaxis": {
            "backgroundcolor": "#E5ECF6",
            "gridcolor": "white",
            "gridwidth": 2,
            "linecolor": "white",
            "showbackground": true,
            "ticks": "",
            "zerolinecolor": "white"
           },
           "yaxis": {
            "backgroundcolor": "#E5ECF6",
            "gridcolor": "white",
            "gridwidth": 2,
            "linecolor": "white",
            "showbackground": true,
            "ticks": "",
            "zerolinecolor": "white"
           },
           "zaxis": {
            "backgroundcolor": "#E5ECF6",
            "gridcolor": "white",
            "gridwidth": 2,
            "linecolor": "white",
            "showbackground": true,
            "ticks": "",
            "zerolinecolor": "white"
           }
          },
          "shapedefaults": {
           "line": {
            "color": "#2a3f5f"
           }
          },
          "ternary": {
           "aaxis": {
            "gridcolor": "white",
            "linecolor": "white",
            "ticks": ""
           },
           "baxis": {
            "gridcolor": "white",
            "linecolor": "white",
            "ticks": ""
           },
           "bgcolor": "#E5ECF6",
           "caxis": {
            "gridcolor": "white",
            "linecolor": "white",
            "ticks": ""
           }
          },
          "title": {
           "x": 0.05
          },
          "xaxis": {
           "automargin": true,
           "gridcolor": "white",
           "linecolor": "white",
           "ticks": "",
           "title": {
            "standoff": 15
           },
           "zerolinecolor": "white",
           "zerolinewidth": 2
          },
          "yaxis": {
           "automargin": true,
           "gridcolor": "white",
           "linecolor": "white",
           "ticks": "",
           "title": {
            "standoff": 15
           },
           "zerolinecolor": "white",
           "zerolinewidth": 2
          }
         }
        },
        "title": {
         "text": "Run Formation Impact"
        },
        "updatemenus": [
         {
          "buttons": [
           {
            "args": [
             null,
             {
              "frame": {
               "duration": 500
              }
             }
            ],
            "label": "Play",
            "method": "animate"
           }
          ],
          "direction": "right",
          "type": "buttons",
          "x": 0.9,
          "y": 1.26
         }
        ],
        "xaxis": {
         "autorange": false,
         "range": [
          0,
          13
         ],
         "tickcolor": "white",
         "ticklen": 10,
         "ticks": "outside",
         "tickwidth": 2,
         "title": {
          "text": "Drive Play #"
         }
        },
        "yaxis": {
         "autorange": false,
         "range": [
          0,
          1
         ],
         "tickcolor": "white",
         "tickformat": ",",
         "ticklen": 1,
         "ticks": "outside",
         "tickwidth": 2,
         "title": {
          "text": "Pass Probability"
         }
        }
       }
      }
     },
     "metadata": {},
     "output_type": "display_data"
    }
   ],
   "source": [
    "fig.show()"
   ]
  },
  {
   "cell_type": "code",
   "execution_count": 20,
   "metadata": {},
   "outputs": [
    {
     "data": {
      "text/plain": [
       "'dict(label=\"Model Pass Odds\",\\n                                     method=\"update\",\\n                                     args=[{\"visible\": [False, True]},\\n                                           {\"showlegend\": True}]),\\n                                dict(label=\"Run Formation Flag\",\\n                                     method=\"update\",\\n                                     args=[{\"visible\": [True, False]},\\n                                          {\"showlegend\": True}])#,'"
      ]
     },
     "execution_count": 20,
     "metadata": {},
     "output_type": "execute_result"
    }
   ],
   "source": [
    "'''dict(label=\"Model Pass Odds\",\n",
    "                                     method=\"update\",\n",
    "                                     args=[{\"visible\": [False, True]},\n",
    "                                           {\"showlegend\": True}]),\n",
    "                                dict(label=\"Run Formation Flag\",\n",
    "                                     method=\"update\",\n",
    "                                     args=[{\"visible\": [True, False]},\n",
    "                                          {\"showlegend\": True}])#,'''"
   ]
  },
  {
   "cell_type": "code",
   "execution_count": 21,
   "metadata": {},
   "outputs": [
    {
     "data": {
      "text/plain": [
       "()"
      ]
     },
     "execution_count": 21,
     "metadata": {},
     "output_type": "execute_result"
    }
   ],
   "source": [
    "fig.layout.sliders"
   ]
  },
  {
   "cell_type": "code",
   "execution_count": 22,
   "metadata": {},
   "outputs": [
    {
     "data": {
      "text/plain": [
       "()"
      ]
     },
     "execution_count": 22,
     "metadata": {},
     "output_type": "execute_result"
    }
   ],
   "source": [
    "fig.layout.sliders"
   ]
  },
  {
   "cell_type": "code",
   "execution_count": 23,
   "metadata": {},
   "outputs": [
    {
     "data": {
      "text/plain": [
       "'\\nimport io\\nimport PIL\\n\\nframes=[]\\nfor s, fr in enumerate(fig.frames):\\n\\n    fig.update(data=fr.data)\\n    #fig.layout.sliders[0].update(active=s)\\n    frames.append(PIL.Image.open(io.BytesIO(fig.to_image(format=\"png\",scale=1))))\\n\\n\\n    frames[0].save(\"image/bengals_formations.gif\",\\n                    save_all=True,\\n                    append_images=frames[1:],\\n                    optimize=True,\\n                    duration=100,\\n                    loop=0,\\n                    dither=None)\\n'"
      ]
     },
     "execution_count": 23,
     "metadata": {},
     "output_type": "execute_result"
    }
   ],
   "source": [
    "\n",
    "'''\n",
    "import io\n",
    "import PIL\n",
    "\n",
    "frames=[]\n",
    "for s, fr in enumerate(fig.frames):\n",
    "\n",
    "    fig.update(data=fr.data)\n",
    "    #fig.layout.sliders[0].update(active=s)\n",
    "    frames.append(PIL.Image.open(io.BytesIO(fig.to_image(format=\"png\",scale=1))))\n",
    "\n",
    "\n",
    "    frames[0].save(\"image/bengals_formations.gif\",\n",
    "                    save_all=True,\n",
    "                    append_images=frames[1:],\n",
    "                    optimize=True,\n",
    "                    duration=100,\n",
    "                    loop=0,\n",
    "                    dither=None)\n",
    "'''"
   ]
  },
  {
   "cell_type": "code",
   "execution_count": null,
   "metadata": {},
   "outputs": [],
   "source": []
  }
 ],
 "metadata": {
  "kernelspec": {
   "display_name": ".venv",
   "language": "python",
   "name": "python3"
  },
  "language_info": {
   "codemirror_mode": {
    "name": "ipython",
    "version": 3
   },
   "file_extension": ".py",
   "mimetype": "text/x-python",
   "name": "python",
   "nbconvert_exporter": "python",
   "pygments_lexer": "ipython3",
   "version": "3.9.15"
  }
 },
 "nbformat": 4,
 "nbformat_minor": 2
}
